{
 "cells": [
  {
   "cell_type": "markdown",
   "id": "1282ac8f",
   "metadata": {},
   "source": [
    "# Notebook: Uji Cepat Leksara\n",
    "Notebook ini menguji library `leksara` end-to-end: cek lingkungan, instal, import, uji fungsi/kualitas output, pipeline kustom, I/O, benchmark, hingga pembersihan."
   ]
  },
  {
   "cell_type": "markdown",
   "id": "d0ffa3e0",
   "metadata": {},
   "source": [
    "## Mengakses Modul `core`\n",
    "Modul `leksara.core` menyediakan API tingkat lanjut:\n",
    "- `chain` untuk membangun dan menjalankan pipeline secara OOP atau fungsional.\n",
    "- `logging` untuk mengaktifkan pencatatan proses pipeline.\n",
    "- `presets` untuk mengambil konfigurasi pipeline siap pakai (mis. `ecommerce_review`)."
   ]
  },
  {
   "cell_type": "markdown",
   "id": "f32df1a7",
   "metadata": {},
   "source": [
    "### Contoh `CartBoard`\n",
    "`leksara.frames.cartboard` menyediakan deteksi otomatis untuk noise, flag, dan statistik teks konsumen. Berikut contoh penggunaan cepat:"
   ]
  },
  {
   "cell_type": "code",
   "execution_count": 16,
   "id": "df5a15e8",
   "metadata": {},
   "outputs": [
    {
     "name": "stdout",
     "output_type": "stream",
     "text": [
      "Single review summary:\n",
      "{'original_text': 'Barangnya mantul!!! Email saya user@mail.id, kontak +62 812-3456-7890', 'rating': 4.8, 'pii_flag': True, 'non_alphabetical_flag': True}\n"
     ]
    },
    {
     "data": {
      "application/vnd.microsoft.datawrangler.viewer.v0+json": {
       "columns": [
        {
         "name": "index",
         "rawType": "int64",
         "type": "integer"
        },
        {
         "name": "review_id",
         "rawType": "int64",
         "type": "integer"
        },
        {
         "name": "text",
         "rawType": "object",
         "type": "string"
        },
        {
         "name": "rating_flag",
         "rawType": "bool",
         "type": "boolean"
        },
        {
         "name": "pii_flag",
         "rawType": "bool",
         "type": "boolean"
        },
        {
         "name": "non_alphabetical_flag",
         "rawType": "bool",
         "type": "boolean"
        }
       ],
       "ref": "557407f4-c771-4cb9-baf8-0e953ebbf2ae",
       "rows": [
        [
         "0",
         "101",
         "Barangnya mantul!!! Email saya user@mail.id, kontak +62 812-3456-7890",
         "False",
         "True",
         "True"
        ],
        [
         "1",
         "102",
         "<p>Murah banget & dikirim <3</p> Harga 5/5 deh",
         "True",
         "False",
         "True"
        ],
        [
         "2",
         "103",
         "Produk oke tapi packing kurang rapi :(",
         "False",
         "False",
         "False"
        ]
       ],
       "shape": {
        "columns": 5,
        "rows": 3
       }
      },
      "text/html": [
       "<div>\n",
       "<style scoped>\n",
       "    .dataframe tbody tr th:only-of-type {\n",
       "        vertical-align: middle;\n",
       "    }\n",
       "\n",
       "    .dataframe tbody tr th {\n",
       "        vertical-align: top;\n",
       "    }\n",
       "\n",
       "    .dataframe thead th {\n",
       "        text-align: right;\n",
       "    }\n",
       "</style>\n",
       "<table border=\"1\" class=\"dataframe\">\n",
       "  <thead>\n",
       "    <tr style=\"text-align: right;\">\n",
       "      <th></th>\n",
       "      <th>review_id</th>\n",
       "      <th>text</th>\n",
       "      <th>rating_flag</th>\n",
       "      <th>pii_flag</th>\n",
       "      <th>non_alphabetical_flag</th>\n",
       "    </tr>\n",
       "  </thead>\n",
       "  <tbody>\n",
       "    <tr>\n",
       "      <th>0</th>\n",
       "      <td>101</td>\n",
       "      <td>Barangnya mantul!!! Email saya user@mail.id, k...</td>\n",
       "      <td>False</td>\n",
       "      <td>True</td>\n",
       "      <td>True</td>\n",
       "    </tr>\n",
       "    <tr>\n",
       "      <th>1</th>\n",
       "      <td>102</td>\n",
       "      <td>&lt;p&gt;Murah banget &amp; dikirim &lt;3&lt;/p&gt; Harga 5/5 deh</td>\n",
       "      <td>True</td>\n",
       "      <td>False</td>\n",
       "      <td>True</td>\n",
       "    </tr>\n",
       "    <tr>\n",
       "      <th>2</th>\n",
       "      <td>103</td>\n",
       "      <td>Produk oke tapi packing kurang rapi :(</td>\n",
       "      <td>False</td>\n",
       "      <td>False</td>\n",
       "      <td>False</td>\n",
       "    </tr>\n",
       "  </tbody>\n",
       "</table>\n",
       "</div>"
      ],
      "text/plain": [
       "   review_id                                               text  rating_flag  \\\n",
       "0        101  Barangnya mantul!!! Email saya user@mail.id, k...        False   \n",
       "1        102     <p>Murah banget & dikirim <3</p> Harga 5/5 deh         True   \n",
       "2        103             Produk oke tapi packing kurang rapi :(        False   \n",
       "\n",
       "   pii_flag  non_alphabetical_flag  \n",
       "0      True                   True  \n",
       "1     False                   True  \n",
       "2     False                  False  "
      ]
     },
     "metadata": {},
     "output_type": "display_data"
    },
    {
     "data": {
      "application/vnd.microsoft.datawrangler.viewer.v0+json": {
       "columns": [
        {
         "name": "index",
         "rawType": "int64",
         "type": "integer"
        },
        {
         "name": "review_id",
         "rawType": "int64",
         "type": "integer"
        },
        {
         "name": "length",
         "rawType": "int64",
         "type": "integer"
        },
        {
         "name": "word_count",
         "rawType": "int64",
         "type": "integer"
        },
        {
         "name": "noise_count",
         "rawType": "int64",
         "type": "integer"
        },
        {
         "name": "emojis",
         "rawType": "int64",
         "type": "integer"
        }
       ],
       "ref": "3a407561-139a-4e54-af8d-4bff9b2ae377",
       "rows": [
        [
         "0",
         "101",
         "69",
         "8",
         "2",
         "0"
        ],
        [
         "1",
         "102",
         "37",
         "5",
         "1",
         "0"
        ],
        [
         "2",
         "103",
         "38",
         "6",
         "0",
         "0"
        ]
       ],
       "shape": {
        "columns": 5,
        "rows": 3
       }
      },
      "text/html": [
       "<div>\n",
       "<style scoped>\n",
       "    .dataframe tbody tr th:only-of-type {\n",
       "        vertical-align: middle;\n",
       "    }\n",
       "\n",
       "    .dataframe tbody tr th {\n",
       "        vertical-align: top;\n",
       "    }\n",
       "\n",
       "    .dataframe thead th {\n",
       "        text-align: right;\n",
       "    }\n",
       "</style>\n",
       "<table border=\"1\" class=\"dataframe\">\n",
       "  <thead>\n",
       "    <tr style=\"text-align: right;\">\n",
       "      <th></th>\n",
       "      <th>review_id</th>\n",
       "      <th>length</th>\n",
       "      <th>word_count</th>\n",
       "      <th>noise_count</th>\n",
       "      <th>emojis</th>\n",
       "    </tr>\n",
       "  </thead>\n",
       "  <tbody>\n",
       "    <tr>\n",
       "      <th>0</th>\n",
       "      <td>101</td>\n",
       "      <td>69</td>\n",
       "      <td>8</td>\n",
       "      <td>2</td>\n",
       "      <td>0</td>\n",
       "    </tr>\n",
       "    <tr>\n",
       "      <th>1</th>\n",
       "      <td>102</td>\n",
       "      <td>37</td>\n",
       "      <td>5</td>\n",
       "      <td>1</td>\n",
       "      <td>0</td>\n",
       "    </tr>\n",
       "    <tr>\n",
       "      <th>2</th>\n",
       "      <td>103</td>\n",
       "      <td>38</td>\n",
       "      <td>6</td>\n",
       "      <td>0</td>\n",
       "      <td>0</td>\n",
       "    </tr>\n",
       "  </tbody>\n",
       "</table>\n",
       "</div>"
      ],
      "text/plain": [
       "   review_id  length  word_count  noise_count  emojis\n",
       "0        101      69           8            2       0\n",
       "1        102      37           5            1       0\n",
       "2        103      38           6            0       0"
      ]
     },
     "metadata": {},
     "output_type": "display_data"
    },
    {
     "data": {
      "application/vnd.microsoft.datawrangler.viewer.v0+json": {
       "columns": [
        {
         "name": "index",
         "rawType": "int64",
         "type": "integer"
        },
        {
         "name": "review_id",
         "rawType": "int64",
         "type": "integer"
        },
        {
         "name": "text",
         "rawType": "object",
         "type": "string"
        },
        {
         "name": "detect_noise",
         "rawType": "object",
         "type": "unknown"
        }
       ],
       "ref": "8f5b705a-58f3-48aa-aa80-04c29afd3ff6",
       "rows": [
        [
         "0",
         "101",
         "Barangnya mantul!!! Email saya user@mail.id, kontak +62 812-3456-7890",
         "{'urls': [], 'html_tags': [], 'emails': ['user@mail.id'], 'phones': ['+62 812-3456-7890'], 'emojis': []}"
        ],
        [
         "1",
         "102",
         "<p>Murah banget & dikirim <3</p> Harga 5/5 deh",
         "{'urls': [], 'html_tags': ['<p>', '<3</p>'], 'emails': [], 'phones': [], 'emojis': []}"
        ],
        [
         "2",
         "103",
         "Produk oke tapi packing kurang rapi :(",
         "{'urls': [], 'html_tags': [], 'emails': [], 'phones': [], 'emojis': []}"
        ]
       ],
       "shape": {
        "columns": 3,
        "rows": 3
       }
      },
      "text/html": [
       "<div>\n",
       "<style scoped>\n",
       "    .dataframe tbody tr th:only-of-type {\n",
       "        vertical-align: middle;\n",
       "    }\n",
       "\n",
       "    .dataframe tbody tr th {\n",
       "        vertical-align: top;\n",
       "    }\n",
       "\n",
       "    .dataframe thead th {\n",
       "        text-align: right;\n",
       "    }\n",
       "</style>\n",
       "<table border=\"1\" class=\"dataframe\">\n",
       "  <thead>\n",
       "    <tr style=\"text-align: right;\">\n",
       "      <th></th>\n",
       "      <th>review_id</th>\n",
       "      <th>text</th>\n",
       "      <th>detect_noise</th>\n",
       "    </tr>\n",
       "  </thead>\n",
       "  <tbody>\n",
       "    <tr>\n",
       "      <th>0</th>\n",
       "      <td>101</td>\n",
       "      <td>Barangnya mantul!!! Email saya user@mail.id, k...</td>\n",
       "      <td>{'urls': [], 'html_tags': [], 'emails': ['user...</td>\n",
       "    </tr>\n",
       "    <tr>\n",
       "      <th>1</th>\n",
       "      <td>102</td>\n",
       "      <td>&lt;p&gt;Murah banget &amp; dikirim &lt;3&lt;/p&gt; Harga 5/5 deh</td>\n",
       "      <td>{'urls': [], 'html_tags': ['&lt;p&gt;', '&lt;3&lt;/p&gt;'], '...</td>\n",
       "    </tr>\n",
       "    <tr>\n",
       "      <th>2</th>\n",
       "      <td>103</td>\n",
       "      <td>Produk oke tapi packing kurang rapi :(</td>\n",
       "      <td>{'urls': [], 'html_tags': [], 'emails': [], 'p...</td>\n",
       "    </tr>\n",
       "  </tbody>\n",
       "</table>\n",
       "</div>"
      ],
      "text/plain": [
       "   review_id                                               text  \\\n",
       "0        101  Barangnya mantul!!! Email saya user@mail.id, k...   \n",
       "1        102     <p>Murah banget & dikirim <3</p> Harga 5/5 deh   \n",
       "2        103             Produk oke tapi packing kurang rapi :(   \n",
       "\n",
       "                                        detect_noise  \n",
       "0  {'urls': [], 'html_tags': [], 'emails': ['user...  \n",
       "1  {'urls': [], 'html_tags': ['<p>', '<3</p>'], '...  \n",
       "2  {'urls': [], 'html_tags': [], 'emails': [], 'p...  "
      ]
     },
     "metadata": {},
     "output_type": "display_data"
    }
   ],
   "source": [
    "import pandas as pd\n",
    "from leksara.frames.cartboard import CartBoard, get_flags, get_stats, noise_detect\n",
    "\n",
    "sample_reviews = pd.DataFrame(\n",
    "    {\n",
    "        \"review_id\": [101, 102, 103],\n",
    "        \"text\": [\n",
    "            \"Barangnya mantul!!! Email saya user@mail.id, kontak +62 812-3456-7890\",\n",
    "            \"<p>Murah banget & dikirim <3</p> Harga 5/5 deh\",\n",
    "            \"Produk oke tapi packing kurang rapi :(\",\n",
    "        ],\n",
    "    }\n",
    ")\n",
    "\n",
    "board = CartBoard(sample_reviews.loc[0, \"text\"], rating=4.8)\n",
    "print(\"Single review summary:\")\n",
    "print(board.to_dict())\n",
    "\n",
    "flags = get_flags(sample_reviews, text_column=\"text\")\n",
    "stats = get_stats(sample_reviews, as_dict=False, text_column=\"text\")\n",
    "noise = noise_detect(sample_reviews, include_normalized=False, text_column=\"text\")\n",
    "\n",
    "display(flags)\n",
    "display(stats[[\"review_id\", \"length\", \"word_count\", \"noise_count\", \"emojis\"]])\n",
    "display(noise)"
   ]
  },
  {
   "cell_type": "code",
   "execution_count": 17,
   "id": "54c9e252",
   "metadata": {},
   "outputs": [
    {
     "data": {
      "application/vnd.microsoft.datawrangler.viewer.v0+json": {
       "columns": [
        {
         "name": "index",
         "rawType": "int64",
         "type": "integer"
        },
        {
         "name": "chat_id",
         "rawType": "int64",
         "type": "integer"
        },
        {
         "name": "safe_message",
         "rawType": "object",
         "type": "string"
        }
       ],
       "ref": "4f9f4729-0d55-4609-9af2-97ebd56010be",
       "rows": [
        [
         "0",
         "1",
         "halo [ADDRESS] saya [PHONE_NUMBER] email [EMAIL] alamat jakarta"
        ],
        [
         "1",
         "2",
         "hubungi [PHONE_NUMBER] ya email saya [EMAIL] alamat saya di bandung"
        ]
       ],
       "shape": {
        "columns": 2,
        "rows": 2
       }
      },
      "text/html": [
       "<div>\n",
       "<style scoped>\n",
       "    .dataframe tbody tr th:only-of-type {\n",
       "        vertical-align: middle;\n",
       "    }\n",
       "\n",
       "    .dataframe tbody tr th {\n",
       "        vertical-align: top;\n",
       "    }\n",
       "\n",
       "    .dataframe thead th {\n",
       "        text-align: right;\n",
       "    }\n",
       "</style>\n",
       "<table border=\"1\" class=\"dataframe\">\n",
       "  <thead>\n",
       "    <tr style=\"text-align: right;\">\n",
       "      <th></th>\n",
       "      <th>chat_id</th>\n",
       "      <th>safe_message</th>\n",
       "    </tr>\n",
       "  </thead>\n",
       "  <tbody>\n",
       "    <tr>\n",
       "      <th>0</th>\n",
       "      <td>1</td>\n",
       "      <td>halo [ADDRESS] saya [PHONE_NUMBER] email [EMAI...</td>\n",
       "    </tr>\n",
       "    <tr>\n",
       "      <th>1</th>\n",
       "      <td>2</td>\n",
       "      <td>hubungi [PHONE_NUMBER] ya email saya [EMAIL] a...</td>\n",
       "    </tr>\n",
       "  </tbody>\n",
       "</table>\n",
       "</div>"
      ],
      "text/plain": [
       "   chat_id                                       safe_message\n",
       "0        1  halo [ADDRESS] saya [PHONE_NUMBER] email [EMAI...\n",
       "1        2  hubungi [PHONE_NUMBER] ya email saya [EMAIL] a..."
      ]
     },
     "execution_count": 17,
     "metadata": {},
     "output_type": "execute_result"
    }
   ],
   "source": [
    "from leksara import leksara\n",
    "from leksara.function import (\n",
    "    case_normal,\n",
    "    remove_punctuation,\n",
    "    remove_whitespace,\n",
    "    replace_address,\n",
    "    replace_email,\n",
    "    replace_id,\n",
    "    replace_phone,\n",
    "    replace_url,\n",
    " )\n",
    "import pandas as pd\n",
    "\n",
    "# Membuat DataFrame contoh\n",
    "df = pd.DataFrame({\n",
    "    \"chat_id\": [1, 2],\n",
    "    \"chat_message\": [\n",
    "        \"Halo! Nomor saya 0812-3456-7890. Email: x@y.com, Alamat: Jakarta\",\n",
    "        \"Hubungi +6281234567890 ya — EMAIL saya: test@mail.co.id! Alamat saya di Bandung\"\n",
    "    ]\n",
    "})\n",
    "\n",
    "# Menyusun custom pipeline dengan PII cleaning\n",
    "custom_pipeline = {\n",
    "    \"patterns\": [\n",
    "        (replace_phone, {\"mode\": \"replace\"}),\n",
    "        (replace_email, {\"mode\": \"replace\"}),\n",
    "        (replace_address, {\"mode\": \"replace\"}),\n",
    "        (replace_id, {\"mode\": \"replace\"})\n",
    "    ],\n",
    "    \"functions\": [\n",
    "        case_normal,\n",
    "        replace_url,\n",
    "        remove_punctuation,\n",
    "        remove_whitespace\n",
    "    ]\n",
    "}\n",
    "\n",
    "# Menggunakan pipeline pada kolom chat_message\n",
    "df[\"safe_message\"] = leksara(df[\"chat_message\"], pipeline=custom_pipeline)\n",
    "\n",
    "# Menampilkan hasilnya\n",
    "df[[\"chat_id\", \"safe_message\"]]"
   ]
  },
  {
   "cell_type": "code",
   "execution_count": 18,
   "id": "479690e3",
   "metadata": {},
   "outputs": [
    {
     "data": {
      "application/vnd.microsoft.datawrangler.viewer.v0+json": {
       "columns": [
        {
         "name": "index",
         "rawType": "int64",
         "type": "integer"
        },
        {
         "name": "chat_id",
         "rawType": "int64",
         "type": "integer"
        },
        {
         "name": "safe_message",
         "rawType": "object",
         "type": "string"
        }
       ],
       "ref": "52a500b6-8ebc-465c-9a33-83b91e824c86",
       "rows": [
        [
         "0",
         "1",
         "halo [ADDRESS] [PHONE_NUMBER] email [EMAIL] alamat jakarta"
        ],
        [
         "1",
         "2",
         "hubung [PHONE_NUMBER] ya email [EMAIL] alamat bandung"
        ]
       ],
       "shape": {
        "columns": 2,
        "rows": 2
       }
      },
      "text/html": [
       "<div>\n",
       "<style scoped>\n",
       "    .dataframe tbody tr th:only-of-type {\n",
       "        vertical-align: middle;\n",
       "    }\n",
       "\n",
       "    .dataframe tbody tr th {\n",
       "        vertical-align: top;\n",
       "    }\n",
       "\n",
       "    .dataframe thead th {\n",
       "        text-align: right;\n",
       "    }\n",
       "</style>\n",
       "<table border=\"1\" class=\"dataframe\">\n",
       "  <thead>\n",
       "    <tr style=\"text-align: right;\">\n",
       "      <th></th>\n",
       "      <th>chat_id</th>\n",
       "      <th>safe_message</th>\n",
       "    </tr>\n",
       "  </thead>\n",
       "  <tbody>\n",
       "    <tr>\n",
       "      <th>0</th>\n",
       "      <td>1</td>\n",
       "      <td>halo [ADDRESS] [PHONE_NUMBER] email [EMAIL] al...</td>\n",
       "    </tr>\n",
       "    <tr>\n",
       "      <th>1</th>\n",
       "      <td>2</td>\n",
       "      <td>hubung [PHONE_NUMBER] ya email [EMAIL] alamat ...</td>\n",
       "    </tr>\n",
       "  </tbody>\n",
       "</table>\n",
       "</div>"
      ],
      "text/plain": [
       "   chat_id                                       safe_message\n",
       "0        1  halo [ADDRESS] [PHONE_NUMBER] email [EMAIL] al...\n",
       "1        2  hubung [PHONE_NUMBER] ya email [EMAIL] alamat ..."
      ]
     },
     "execution_count": 18,
     "metadata": {},
     "output_type": "execute_result"
    }
   ],
   "source": [
    "from leksara import leksara \n",
    "\n",
    "df['safe_message'] = leksara(df['chat_message'], preset='ecommerce_review')\n",
    "df[['chat_id', 'safe_message']]"
   ]
  },
  {
   "cell_type": "code",
   "execution_count": 19,
   "id": "0023f846",
   "metadata": {},
   "outputs": [
    {
     "data": {
      "application/vnd.microsoft.datawrangler.viewer.v0+json": {
       "columns": [
        {
         "name": "index",
         "rawType": "int64",
         "type": "integer"
        },
        {
         "name": "chat_id",
         "rawType": "int64",
         "type": "integer"
        },
        {
         "name": "safe_message",
         "rawType": "object",
         "type": "string"
        }
       ],
       "ref": "18bf420d-8427-41fd-bdc8-ca8a93507fef",
       "rows": [
        [
         "0",
         "1",
         "halo nomor saya 081234567890 email xycom alamat jakarta"
        ],
        [
         "1",
         "2",
         "hubungi 6281234567890 ya email saya testmailcoid alamat saya di bandung"
        ]
       ],
       "shape": {
        "columns": 2,
        "rows": 2
       }
      },
      "text/html": [
       "<div>\n",
       "<style scoped>\n",
       "    .dataframe tbody tr th:only-of-type {\n",
       "        vertical-align: middle;\n",
       "    }\n",
       "\n",
       "    .dataframe tbody tr th {\n",
       "        vertical-align: top;\n",
       "    }\n",
       "\n",
       "    .dataframe thead th {\n",
       "        text-align: right;\n",
       "    }\n",
       "</style>\n",
       "<table border=\"1\" class=\"dataframe\">\n",
       "  <thead>\n",
       "    <tr style=\"text-align: right;\">\n",
       "      <th></th>\n",
       "      <th>chat_id</th>\n",
       "      <th>safe_message</th>\n",
       "    </tr>\n",
       "  </thead>\n",
       "  <tbody>\n",
       "    <tr>\n",
       "      <th>0</th>\n",
       "      <td>1</td>\n",
       "      <td>halo nomor saya 081234567890 email xycom alama...</td>\n",
       "    </tr>\n",
       "    <tr>\n",
       "      <th>1</th>\n",
       "      <td>2</td>\n",
       "      <td>hubungi 6281234567890 ya email saya testmailco...</td>\n",
       "    </tr>\n",
       "  </tbody>\n",
       "</table>\n",
       "</div>"
      ],
      "text/plain": [
       "   chat_id                                       safe_message\n",
       "0        1  halo nomor saya 081234567890 email xycom alama...\n",
       "1        2  hubungi 6281234567890 ya email saya testmailco..."
      ]
     },
     "execution_count": 19,
     "metadata": {},
     "output_type": "execute_result"
    }
   ],
   "source": [
    "# Menggunakan pipeline default pada kolom chat_message\n",
    "df[\"safe_message\"] = leksara(df[\"chat_message\"])\n",
    "\n",
    "# Menampilkan hasilnya\n",
    "df[[\"chat_id\", \"safe_message\"]]"
   ]
  },
  {
   "cell_type": "code",
   "execution_count": 20,
   "id": "b7d66f42",
   "metadata": {},
   "outputs": [
    {
     "name": "stdout",
     "output_type": "stream",
     "text": [
      "['produk Bagus sekali', 'saya beli alat rumah tangga']\n"
     ]
    }
   ],
   "source": [
    "from leksara import leksara\n",
    "from leksara.function import word_normalization\n",
    "\n",
    "data = [\"Produk Bagus sekali\", \"Saya membeli peralatan rumah tangga\"]\n",
    "\n",
    "custom_pipeline = {\n",
    "    \"patterns\": [],\n",
    "    \"functions\": [\n",
    "        (word_normalization, {\"word_list\": [\"Bagus\"], \"mode\": \"keep\"})\n",
    "    ]\n",
    "}\n",
    "\n",
    "print(leksara(data, pipeline=custom_pipeline))\n"
   ]
  },
  {
   "cell_type": "code",
   "execution_count": 21,
   "id": "33d436d4",
   "metadata": {},
   "outputs": [
    {
     "name": "stdout",
     "output_type": "stream",
     "text": [
      "=== Data Asli ===\n",
      "   chat_id                                       chat_message\n",
      "0        1  Saya sangat suka produk ini, dan saya akan bel...\n",
      "1        2    Produk ini bagus sekali untuk dipakai di rumah.\n",
      "2        3                  Namun, harga-nya agak mahal ya...\n",
      "\n",
      "=== Setelah Cleaning ===\n",
      "   chat_id                     cleaned\n",
      "0        1            suka produk beli\n",
      "1        2  produk bagus dipakai rumah\n",
      "2        3           harganya mahal ya\n"
     ]
    }
   ],
   "source": [
    "from leksara import leksara\n",
    "from leksara.function import (\n",
    "    case_normal,\n",
    "    remove_punctuation,\n",
    "    remove_stopwords,\n",
    "    remove_whitespace,\n",
    " )\n",
    "\n",
    "# --- contoh data ---\n",
    "df = pd.DataFrame({\n",
    "    \"chat_id\": [1, 2, 3],\n",
    "    \"chat_message\": [\n",
    "        \"Saya sangat suka produk ini, dan saya akan beli lagi!\",\n",
    "        \"Produk ini bagus sekali untuk dipakai di rumah.\",\n",
    "        \"Namun, harga-nya agak mahal ya...\"\n",
    "    ]\n",
    "})\n",
    "\n",
    "# --- pipeline sederhana ---\n",
    "custom_pipeline = {\n",
    "    \"functions\": [\n",
    "        case_normal,\n",
    "        remove_stopwords,\n",
    "        remove_punctuation,\n",
    "        remove_whitespace\n",
    "    ]\n",
    "}\n",
    "\n",
    "df[\"cleaned\"] = leksara(df[\"chat_message\"], pipeline=custom_pipeline)\n",
    "\n",
    "print(\"=== Data Asli ===\")\n",
    "print(df[[\"chat_id\", \"chat_message\"]])\n",
    "\n",
    "print(\"\\n=== Setelah Cleaning ===\")\n",
    "print(df[[\"chat_id\", \"cleaned\"]])"
   ]
  },
  {
   "cell_type": "code",
   "execution_count": 22,
   "id": "f933f6a5",
   "metadata": {},
   "outputs": [
    {
     "name": "stdout",
     "output_type": "stream",
     "text": [
      "Original: Produk baru saya: iphone12, harga 12 juta. Hubungi 0812-3456-7890.\n",
      "Processed: produk iphone12 harga 12 juta hubung [PHONE_NUMBER]\n",
      "\n",
      "Original: Email saya: test@example.com. Produk sangat berkualitas!\n",
      "Processed: email [EMAIL] produk kualitas\n",
      "\n"
     ]
    },
    {
     "data": {
      "text/plain": [
       "{'n_steps': 15,\n",
       " 'total_time_sec': 0.0003864000100293197,\n",
       " 'per_step': [('word_normalization', 0.00012089999654563144),\n",
       "  ('replace_phone', 4.049999552080408e-05),\n",
       "  ('remove_stopwords', 3.91000066883862e-05),\n",
       "  ('mask_whitelist', 3.5099998058285564e-05),\n",
       "  ('remove_emoji', 3.130000550299883e-05),\n",
       "  ('unmask_whitelist', 2.2000000171829015e-05),\n",
       "  ('replace_address', 1.8300008377991617e-05),\n",
       "  ('replace_url', 1.799999881768599e-05),\n",
       "  ('remove_punctuation', 1.5300000086426735e-05),\n",
       "  ('shorten_elongation', 1.1699994502123445e-05),\n",
       "  ('replace_email', 1.0000003385357559e-05),\n",
       "  ('replace_id', 9.399998816661537e-06),\n",
       "  ('remove_whitespace', 8.100003469735384e-06),\n",
       "  ('remove_tags', 4.499997885432094e-06),\n",
       "  ('case_normal', 2.2000021999701858e-06)]}"
      ]
     },
     "metadata": {},
     "output_type": "display_data"
    },
    {
     "data": {
      "text/plain": [
       "['produk iphone12 harga 12 juta hubung [PHONE_NUMBER]',\n",
       " 'email [EMAIL] produk kualitas']"
      ]
     },
     "metadata": {},
     "output_type": "display_data"
    }
   ],
   "source": [
    "from leksara import ReviewChain\n",
    "from leksara.core.presets import get_preset\n",
    "\n",
    "# Ambil preset ecommerce_review\n",
    "pipeline_steps = get_preset(\"ecommerce_review\")\n",
    "\n",
    "# Membuat ReviewChain dengan langkah-langkah dari preset (BENAR)\n",
    "review_chain = ReviewChain.from_steps(\n",
    "    patterns=pipeline_steps[\"patterns\"],\n",
    "    functions=pipeline_steps[\"functions\"],\n",
    ")\n",
    "\n",
    "# Sample data untuk memproses\n",
    "data = [\n",
    "    \"Produk baru saya: iphone12, harga 12 juta. Hubungi 0812-3456-7890.\",\n",
    "    \"Email saya: test@example.com. Produk sangat berkualitas!\"\n",
    "]\n",
    "\n",
    "# Proses teks menggunakan pipeline\n",
    "processed_data = review_chain.transform(data)\n",
    "\n",
    "# Menampilkan hasil setelah diproses\n",
    "for original, processed in zip(data, processed_data):\n",
    "    print(f\"Original: {original}\")\n",
    "    print(f\"Processed: {processed}\\n\")\n",
    "\n",
    "out, metrics = review_chain.transform(data, benchmark=True)\n",
    "display(metrics)\n",
    "display(out)\n"
   ]
  },
  {
   "cell_type": "code",
   "execution_count": 23,
   "id": "51010c67",
   "metadata": {},
   "outputs": [
    {
     "name": "stdout",
     "output_type": "stream",
     "text": [
      "1. replace_phone\n",
      "2. replace_email\n",
      "3. replace_address\n",
      "4. replace_id\n",
      "5. mask_whitelist\n",
      "6. remove_tags\n",
      "7. case_normal\n",
      "8. replace_url\n",
      "9. remove_emoji\n",
      "10. replace_rating\n",
      "11. expand_contraction\n",
      "12. normalize_slangs\n",
      "13. replace_acronym\n",
      "14. word_normalization\n",
      "15. remove_stopwords\n",
      "16. shorten_elongation\n",
      "17. remove_punctuation\n",
      "18. remove_whitespace\n",
      "19. unmask_whitelist\n"
     ]
    }
   ],
   "source": [
    "steps = review_chain.named_steps\n",
    "for i, (k, v) in enumerate(steps.items(), 1):\n",
    "    print(f\"{i}. {v}\")"
   ]
  }
 ],
 "metadata": {
  "kernelspec": {
   "display_name": "Python 3",
   "language": "python",
   "name": "python3"
  },
  "language_info": {
   "codemirror_mode": {
    "name": "ipython",
    "version": 3
   },
   "file_extension": ".py",
   "mimetype": "text/x-python",
   "name": "python",
   "nbconvert_exporter": "python",
   "pygments_lexer": "ipython3",
   "version": "3.11.13"
  }
 },
 "nbformat": 4,
 "nbformat_minor": 5
}
