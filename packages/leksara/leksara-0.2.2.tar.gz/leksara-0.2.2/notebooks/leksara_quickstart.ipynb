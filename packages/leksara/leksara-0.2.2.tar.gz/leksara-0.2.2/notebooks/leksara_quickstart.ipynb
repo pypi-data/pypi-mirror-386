{
  "cells": [
    {
      "cell_type": "markdown",
      "id": "f2a2eea1",
      "metadata": {
        "id": "f2a2eea1"
      },
      "source": [
        "# Leksara End-to-End Playbook\n",
        "This notebook weds the quickstart walkthrough with a deeper feature tour. Run it top-to-bottom to explore ingestion dashboards, cleaning primitives, PII redaction, review normalisation, custom pipelines, presets, benchmarking, runtime tweaks, and logging hooks."
      ]
    },
    {
      "cell_type": "markdown",
      "id": "161e8249",
      "metadata": {},
      "source": [
        "## Quick Start: Install Leksara\n",
        "Install the package from PyPI before running any examples:\n",
        "\n",
        "```bash\n",
        "pip install leksara\n",
        "```\n",
        "\n",
        "Tip: activate a virtual environment (for example `python -m venv .venv` then `.\\.venv\\Scripts\\activate`) to keep project dependencies isolated."
      ]
    },
    {
      "cell_type": "markdown",
      "id": "91d4857f",
      "metadata": {
        "id": "91d4857f"
      },
      "source": [
        "## How to Use This Playbook\n",
        "1. Ensure Leksara and its optional dependencies (`regex`, `emoji`, `Sastrawi`, `pandas`) are installed in your environment.\n",
        "2. Execute the cells in order; each scenario is independent so you can rerun specific sections as needed.\n",
        "3. Treat the quickstart portion as a template for pipelines, and the deeper sections as validation references you can adapt to your own datasets."
      ]
    },
    {
      "cell_type": "markdown",
      "id": "e5ae27e3",
      "metadata": {},
      "source": [
        "## Environment Setup\n",
        "Run the next cell once to load every helper used across the playbook—`pandas` for tabular demos plus the Leksara presets, frames, and logging utilities."
      ]
    },
    {
      "cell_type": "code",
      "execution_count": 1,
      "id": "0609715d",
      "metadata": {},
      "outputs": [],
      "source": [
        "# Core imports for every section\n",
        "import json\n",
        "from pathlib import Path\n",
        "\n",
        "import pandas as pd\n",
        "\n",
        "from leksara import leksara, ReviewChain, get_preset\n",
        "from leksara.frames.cartboard import CartBoard, get_flags, get_stats, noise_detect\n",
        "from leksara.function import (\n",
        "    remove_tags,\n",
        "    case_normal,\n",
        "    remove_stopwords,\n",
        "    remove_whitespace,\n",
        "    remove_punctuation,\n",
        "    remove_digits,\n",
        "    remove_emoji,\n",
        "    replace_url,\n",
        "    replace_rating,\n",
        "    shorten_elongation,\n",
        "    replace_acronym,\n",
        "    normalize_slangs,\n",
        "    expand_contraction,\n",
        "    word_normalization,\n",
        " )\n",
        "from leksara.pattern import (\n",
        "    replace_phone,\n",
        "    replace_address,\n",
        "    replace_email,\n",
        "    replace_id,\n",
        " )\n",
        "from leksara.core.logging import setup_logging, log_pipeline_step"
      ]
    },
    {
      "cell_type": "markdown",
      "id": "2659749b",
      "metadata": {},
      "source": [
        "## 1. CartBoard Dashboards\n",
        "Spot anomalies before cleaning by profiling raw reviews—PII hot spots, rating noise, and general text hygiene—using the CartBoard utilities."
      ]
    },
    {
      "cell_type": "markdown",
      "id": "eb9f6a10",
      "metadata": {},
      "source": [
        "### 1.1 Sample Review Batch\n",
        "Creates a tiny multi-channel dataframe and passes it to the CartBoard flag, stat, and noise scanners. The outputs highlight which rows need further redaction or normalisation."
      ]
    },
    {
      "cell_type": "code",
      "execution_count": 2,
      "id": "a30f4f99",
      "metadata": {},
      "outputs": [
        {
          "data": {
            "application/vnd.microsoft.datawrangler.viewer.v0+json": {
              "columns": [
                {
                  "name": "index",
                  "rawType": "int64",
                  "type": "integer"
                },
                {
                  "name": "review_id",
                  "rawType": "int64",
                  "type": "integer"
                },
                {
                  "name": "pii_flag",
                  "rawType": "bool",
                  "type": "boolean"
                },
                {
                  "name": "rating_flag",
                  "rawType": "bool",
                  "type": "boolean"
                },
                {
                  "name": "non_alphabetical_flag",
                  "rawType": "bool",
                  "type": "boolean"
                }
              ],
              "ref": "5b8aff31-c63e-446a-a86f-6224ad7cd150",
              "rows": [
                [
                  "0",
                  "101",
                  "True",
                  "True",
                  "True"
                ],
                [
                  "1",
                  "102",
                  "True",
                  "False",
                  "False"
                ],
                [
                  "2",
                  "103",
                  "True",
                  "False",
                  "False"
                ]
              ],
              "shape": {
                "columns": 4,
                "rows": 3
              }
            },
            "text/html": [
              "<div>\n",
              "<style scoped>\n",
              "    .dataframe tbody tr th:only-of-type {\n",
              "        vertical-align: middle;\n",
              "    }\n",
              "\n",
              "    .dataframe tbody tr th {\n",
              "        vertical-align: top;\n",
              "    }\n",
              "\n",
              "    .dataframe thead th {\n",
              "        text-align: right;\n",
              "    }\n",
              "</style>\n",
              "<table border=\"1\" class=\"dataframe\">\n",
              "  <thead>\n",
              "    <tr style=\"text-align: right;\">\n",
              "      <th></th>\n",
              "      <th>review_id</th>\n",
              "      <th>pii_flag</th>\n",
              "      <th>rating_flag</th>\n",
              "      <th>non_alphabetical_flag</th>\n",
              "    </tr>\n",
              "  </thead>\n",
              "  <tbody>\n",
              "    <tr>\n",
              "      <th>0</th>\n",
              "      <td>101</td>\n",
              "      <td>True</td>\n",
              "      <td>True</td>\n",
              "      <td>True</td>\n",
              "    </tr>\n",
              "    <tr>\n",
              "      <th>1</th>\n",
              "      <td>102</td>\n",
              "      <td>True</td>\n",
              "      <td>False</td>\n",
              "      <td>False</td>\n",
              "    </tr>\n",
              "    <tr>\n",
              "      <th>2</th>\n",
              "      <td>103</td>\n",
              "      <td>True</td>\n",
              "      <td>False</td>\n",
              "      <td>False</td>\n",
              "    </tr>\n",
              "  </tbody>\n",
              "</table>\n",
              "</div>"
            ],
            "text/plain": [
              "   review_id  pii_flag  rating_flag  non_alphabetical_flag\n",
              "0        101      True         True                   True\n",
              "1        102      True        False                  False\n",
              "2        103      True        False                  False"
            ]
          },
          "metadata": {},
          "output_type": "display_data"
        },
        {
          "data": {
            "application/vnd.microsoft.datawrangler.viewer.v0+json": {
              "columns": [
                {
                  "name": "index",
                  "rawType": "int64",
                  "type": "integer"
                },
                {
                  "name": "review_id",
                  "rawType": "int64",
                  "type": "integer"
                },
                {
                  "name": "stats",
                  "rawType": "object",
                  "type": "unknown"
                }
              ],
              "ref": "7711472c-67de-4bb9-974e-c82b60de8321",
              "rows": [
                [
                  "0",
                  "101",
                  "{'length': 46, 'word_count': 6, 'stopwords': 0, 'punctuations': 6, 'symbols': 0, 'emojis': 1, 'noise_count': 2, 'urls': [], 'html_tags': [], 'emails': ['user@example.com'], 'phones': [], 'phones_normalized': [], 'emoji_list': ['⭐'], 'addresses': [], 'ids': []}"
                ],
                [
                  "1",
                  "102",
                  "{'length': 50, 'word_count': 4, 'stopwords': 1, 'punctuations': 4, 'symbols': 12, 'emojis': 0, 'noise_count': 1, 'urls': [], 'html_tags': [], 'emails': [], 'phones': ['0812-3456-7890'], 'phones_normalized': ['081234567890'], 'emoji_list': [], 'addresses': [], 'ids': []}"
                ],
                [
                  "2",
                  "103",
                  "{'length': 61, 'word_count': 10, 'stopwords': 1, 'punctuations': 4, 'symbols': 5, 'emojis': 0, 'noise_count': 1, 'urls': [], 'html_tags': [], 'emails': [], 'phones': [], 'phones_normalized': [], 'emoji_list': [], 'addresses': ['Jl. Melati No. 8 RT 02 RW 04'], 'ids': []}"
                ]
              ],
              "shape": {
                "columns": 2,
                "rows": 3
              }
            },
            "text/html": [
              "<div>\n",
              "<style scoped>\n",
              "    .dataframe tbody tr th:only-of-type {\n",
              "        vertical-align: middle;\n",
              "    }\n",
              "\n",
              "    .dataframe tbody tr th {\n",
              "        vertical-align: top;\n",
              "    }\n",
              "\n",
              "    .dataframe thead th {\n",
              "        text-align: right;\n",
              "    }\n",
              "</style>\n",
              "<table border=\"1\" class=\"dataframe\">\n",
              "  <thead>\n",
              "    <tr style=\"text-align: right;\">\n",
              "      <th></th>\n",
              "      <th>review_id</th>\n",
              "      <th>stats</th>\n",
              "    </tr>\n",
              "  </thead>\n",
              "  <tbody>\n",
              "    <tr>\n",
              "      <th>0</th>\n",
              "      <td>101</td>\n",
              "      <td>{'length': 46, 'word_count': 6, 'stopwords': 0...</td>\n",
              "    </tr>\n",
              "    <tr>\n",
              "      <th>1</th>\n",
              "      <td>102</td>\n",
              "      <td>{'length': 50, 'word_count': 4, 'stopwords': 1...</td>\n",
              "    </tr>\n",
              "    <tr>\n",
              "      <th>2</th>\n",
              "      <td>103</td>\n",
              "      <td>{'length': 61, 'word_count': 10, 'stopwords': ...</td>\n",
              "    </tr>\n",
              "  </tbody>\n",
              "</table>\n",
              "</div>"
            ],
            "text/plain": [
              "   review_id                                              stats\n",
              "0        101  {'length': 46, 'word_count': 6, 'stopwords': 0...\n",
              "1        102  {'length': 50, 'word_count': 4, 'stopwords': 1...\n",
              "2        103  {'length': 61, 'word_count': 10, 'stopwords': ..."
            ]
          },
          "metadata": {},
          "output_type": "display_data"
        },
        {
          "data": {
            "application/vnd.microsoft.datawrangler.viewer.v0+json": {
              "columns": [
                {
                  "name": "index",
                  "rawType": "int64",
                  "type": "integer"
                },
                {
                  "name": "review_id",
                  "rawType": "int64",
                  "type": "integer"
                },
                {
                  "name": "detect_noise",
                  "rawType": "object",
                  "type": "unknown"
                }
              ],
              "ref": "d6c11ce7-6954-4a34-b3df-2b719f99b620",
              "rows": [
                [
                  "0",
                  "101",
                  "{'urls': [], 'html_tags': [], 'emails': ['user@example.com'], 'phones': [], 'emojis': ['⭐'], 'addresses': [], 'ids': []}"
                ],
                [
                  "1",
                  "102",
                  "{'urls': [], 'html_tags': [], 'emails': [], 'phones': ['0812-3456-7890'], 'emojis': [], 'addresses': [], 'ids': []}"
                ],
                [
                  "2",
                  "103",
                  "{'urls': [], 'html_tags': [], 'emails': [], 'phones': [], 'emojis': [], 'addresses': ['Jl. Melati No. 8 RT 02 RW 04'], 'ids': []}"
                ]
              ],
              "shape": {
                "columns": 2,
                "rows": 3
              }
            },
            "text/html": [
              "<div>\n",
              "<style scoped>\n",
              "    .dataframe tbody tr th:only-of-type {\n",
              "        vertical-align: middle;\n",
              "    }\n",
              "\n",
              "    .dataframe tbody tr th {\n",
              "        vertical-align: top;\n",
              "    }\n",
              "\n",
              "    .dataframe thead th {\n",
              "        text-align: right;\n",
              "    }\n",
              "</style>\n",
              "<table border=\"1\" class=\"dataframe\">\n",
              "  <thead>\n",
              "    <tr style=\"text-align: right;\">\n",
              "      <th></th>\n",
              "      <th>review_id</th>\n",
              "      <th>detect_noise</th>\n",
              "    </tr>\n",
              "  </thead>\n",
              "  <tbody>\n",
              "    <tr>\n",
              "      <th>0</th>\n",
              "      <td>101</td>\n",
              "      <td>{'urls': [], 'html_tags': [], 'emails': ['user...</td>\n",
              "    </tr>\n",
              "    <tr>\n",
              "      <th>1</th>\n",
              "      <td>102</td>\n",
              "      <td>{'urls': [], 'html_tags': [], 'emails': [], 'p...</td>\n",
              "    </tr>\n",
              "    <tr>\n",
              "      <th>2</th>\n",
              "      <td>103</td>\n",
              "      <td>{'urls': [], 'html_tags': [], 'emails': [], 'p...</td>\n",
              "    </tr>\n",
              "  </tbody>\n",
              "</table>\n",
              "</div>"
            ],
            "text/plain": [
              "   review_id                                       detect_noise\n",
              "0        101  {'urls': [], 'html_tags': [], 'emails': ['user...\n",
              "1        102  {'urls': [], 'html_tags': [], 'emails': [], 'p...\n",
              "2        103  {'urls': [], 'html_tags': [], 'emails': [], 'p..."
            ]
          },
          "metadata": {},
          "output_type": "display_data"
        },
        {
          "data": {
            "text/plain": [
              "{'original_text': 'Barang mantul!!! Email: user@example.com ⭐⭐⭐⭐⭐',\n",
              " 'rating': 5,\n",
              " 'pii_flag': True,\n",
              " 'non_alphabetical_flag': True}"
            ]
          },
          "execution_count": 2,
          "metadata": {},
          "output_type": "execute_result"
        }
      ],
      "source": [
        "raw_reviews = pd.DataFrame(\n",
        "    {\n",
        "        \"review_id\": [101, 102, 103],\n",
        "        \"channel\": [\"Tokopedia\", \"Shopee\", \"WhatsApp\"],\n",
        "        \"text\": [\n",
        "            \"Barang mantul!!! Email: user@example.com ⭐⭐⭐⭐⭐\",\n",
        "            \"Pengiriman lambat :( Hubungi 0812-3456-7890 segera\",\n",
        "            \"Halo admin, alamat saya Jl. Melati No. 8 RT 02 RW 04, Bandung\",\n",
        "        ],\n",
        "    }\n",
        ")\n",
        "\n",
        "cartboard_flags = get_flags(raw_reviews, text_column=\"text\")\n",
        "cartboard_stats = get_stats(raw_reviews, text_column=\"text\")\n",
        "cartboard_noise = noise_detect(raw_reviews, text_column=\"text\", include_normalized=False)\n",
        "\n",
        "display(cartboard_flags[[\"review_id\", \"pii_flag\", \"rating_flag\", \"non_alphabetical_flag\"]])\n",
        "display(cartboard_stats[[\"review_id\", \"stats\"]])\n",
        "display(cartboard_noise[[\"review_id\", \"detect_noise\"]])\n",
        "\n",
        "single_card = CartBoard(raw_text=raw_reviews.loc[0, \"text\"], rating=5)\n",
        "single_card.to_dict()"
      ]
    },
    {
      "cell_type": "markdown",
      "id": "28a61338",
      "metadata": {},
      "source": [
        "## 2. ReviewChain Pipelines\n",
        "Walk through increasingly opinionated pipelines—from a handcrafted chain to preset shortcuts—so you can decide how much control you need."
      ]
    },
    {
      "cell_type": "markdown",
      "id": "7f86736c",
      "metadata": {},
      "source": [
        "### 2.1 Sample Chat Snippet\n",
        "Sets up the reference dataframe used by every pipeline variant below so you can compare how each transformation behaves on identical inputs."
      ]
    },
    {
      "cell_type": "code",
      "execution_count": 3,
      "id": "49a2fab0",
      "metadata": {},
      "outputs": [
        {
          "data": {
            "application/vnd.microsoft.datawrangler.viewer.v0+json": {
              "columns": [
                {
                  "name": "index",
                  "rawType": "int64",
                  "type": "integer"
                },
                {
                  "name": "chat_id",
                  "rawType": "int64",
                  "type": "integer"
                },
                {
                  "name": "chat_message",
                  "rawType": "object",
                  "type": "string"
                }
              ],
              "ref": "7674a43f-6eac-4a8b-9805-a05b34b451a9",
              "rows": [
                [
                  "0",
                  "1",
                  "Halo! Nomor saya 0812-3456-7890. Email: x@y.com, Alamat: Jakarta"
                ],
                [
                  "1",
                  "2",
                  "Hubungi +6281234567890 ya — EMAIL saya: test@mail.co.id! Alamat saya di Bandung"
                ]
              ],
              "shape": {
                "columns": 2,
                "rows": 2
              }
            },
            "text/html": [
              "<div>\n",
              "<style scoped>\n",
              "    .dataframe tbody tr th:only-of-type {\n",
              "        vertical-align: middle;\n",
              "    }\n",
              "\n",
              "    .dataframe tbody tr th {\n",
              "        vertical-align: top;\n",
              "    }\n",
              "\n",
              "    .dataframe thead th {\n",
              "        text-align: right;\n",
              "    }\n",
              "</style>\n",
              "<table border=\"1\" class=\"dataframe\">\n",
              "  <thead>\n",
              "    <tr style=\"text-align: right;\">\n",
              "      <th></th>\n",
              "      <th>chat_id</th>\n",
              "      <th>chat_message</th>\n",
              "    </tr>\n",
              "  </thead>\n",
              "  <tbody>\n",
              "    <tr>\n",
              "      <th>0</th>\n",
              "      <td>1</td>\n",
              "      <td>Halo! Nomor saya 0812-3456-7890. Email: x@y.co...</td>\n",
              "    </tr>\n",
              "    <tr>\n",
              "      <th>1</th>\n",
              "      <td>2</td>\n",
              "      <td>Hubungi +6281234567890 ya — EMAIL saya: test@m...</td>\n",
              "    </tr>\n",
              "  </tbody>\n",
              "</table>\n",
              "</div>"
            ],
            "text/plain": [
              "   chat_id                                       chat_message\n",
              "0        1  Halo! Nomor saya 0812-3456-7890. Email: x@y.co...\n",
              "1        2  Hubungi +6281234567890 ya — EMAIL saya: test@m..."
            ]
          },
          "execution_count": 3,
          "metadata": {},
          "output_type": "execute_result"
        }
      ],
      "source": [
        "chat_df = pd.DataFrame({\n",
        "    \"chat_id\": [1, 2],\n",
        "    \"chat_message\": [\n",
        "        \"Halo! Nomor saya 0812-3456-7890. Email: x@y.com, Alamat: Jakarta\",\n",
        "        \"Hubungi +6281234567890 ya — EMAIL saya: test@mail.co.id! Alamat saya di Bandung\",\n",
        "    ],\n",
        "})\n",
        "chat_df"
      ]
    },
    {
      "cell_type": "markdown",
      "id": "9721f613",
      "metadata": {},
      "source": [
        "### 2.2 Custom Chat Sanitiser Pipeline\n",
        "Explicitly strings together PII masking patterns followed by lightweight formatting functions. Useful when you must dictate exact ordering or parameter overrides."
      ]
    },
    {
      "cell_type": "code",
      "execution_count": 4,
      "id": "6fdb645a",
      "metadata": {},
      "outputs": [
        {
          "data": {
            "application/vnd.microsoft.datawrangler.viewer.v0+json": {
              "columns": [
                {
                  "name": "index",
                  "rawType": "int64",
                  "type": "integer"
                },
                {
                  "name": "chat_id",
                  "rawType": "int64",
                  "type": "integer"
                },
                {
                  "name": "safe_message",
                  "rawType": "object",
                  "type": "string"
                }
              ],
              "ref": "6b1562e5-0d59-4531-81bc-5df1a00c2850",
              "rows": [
                [
                  "0",
                  "1",
                  "halo nomor saya [PHONE_NUMBER] email [EMAIL] alamat jakarta"
                ],
                [
                  "1",
                  "2",
                  "hubungi [PHONE_NUMBER] ya email saya [EMAIL] alamat saya di bandung"
                ]
              ],
              "shape": {
                "columns": 2,
                "rows": 2
              }
            },
            "text/html": [
              "<div>\n",
              "<style scoped>\n",
              "    .dataframe tbody tr th:only-of-type {\n",
              "        vertical-align: middle;\n",
              "    }\n",
              "\n",
              "    .dataframe tbody tr th {\n",
              "        vertical-align: top;\n",
              "    }\n",
              "\n",
              "    .dataframe thead th {\n",
              "        text-align: right;\n",
              "    }\n",
              "</style>\n",
              "<table border=\"1\" class=\"dataframe\">\n",
              "  <thead>\n",
              "    <tr style=\"text-align: right;\">\n",
              "      <th></th>\n",
              "      <th>chat_id</th>\n",
              "      <th>safe_message</th>\n",
              "    </tr>\n",
              "  </thead>\n",
              "  <tbody>\n",
              "    <tr>\n",
              "      <th>0</th>\n",
              "      <td>1</td>\n",
              "      <td>halo nomor saya [PHONE_NUMBER] email [EMAIL] a...</td>\n",
              "    </tr>\n",
              "    <tr>\n",
              "      <th>1</th>\n",
              "      <td>2</td>\n",
              "      <td>hubungi [PHONE_NUMBER] ya email saya [EMAIL] a...</td>\n",
              "    </tr>\n",
              "  </tbody>\n",
              "</table>\n",
              "</div>"
            ],
            "text/plain": [
              "   chat_id                                       safe_message\n",
              "0        1  halo nomor saya [PHONE_NUMBER] email [EMAIL] a...\n",
              "1        2  hubungi [PHONE_NUMBER] ya email saya [EMAIL] a..."
            ]
          },
          "execution_count": 4,
          "metadata": {},
          "output_type": "execute_result"
        }
      ],
      "source": [
        "custom_pipeline = {\n",
        "    \"patterns\": [\n",
        "        (replace_phone, {\"mode\": \"replace\"}),\n",
        "        (replace_email, {\"mode\": \"replace\"}),\n",
        "        (replace_address, {\"mode\": \"replace\"}),\n",
        "        (replace_id, {\"mode\": \"replace\"}),\n",
        "    ],\n",
        "    \"functions\": [\n",
        "        case_normal,\n",
        "        remove_punctuation,\n",
        "        remove_whitespace,\n",
        "    ],\n",
        "}\n",
        "\n",
        "custom_chat_df = chat_df.copy()\n",
        "custom_chat_df[\"safe_message\"] = leksara(custom_chat_df[\"chat_message\"], pipeline=custom_pipeline)\n",
        "custom_chat_df[[\"chat_id\", \"safe_message\"]]"
      ]
    },
    {
      "cell_type": "markdown",
      "id": "b4a3a534",
      "metadata": {},
      "source": [
        "### 2.3 Ecommerce Preset Shortcut\n",
        "Switches to the out-of-the-box `ecommerce_review` preset; compare the outputs with the custom chain to verify parity and spot any missing tweaks."
      ]
    },
    {
      "cell_type": "code",
      "execution_count": 5,
      "id": "e03e9f50",
      "metadata": {},
      "outputs": [
        {
          "data": {
            "application/vnd.microsoft.datawrangler.viewer.v0+json": {
              "columns": [
                {
                  "name": "index",
                  "rawType": "int64",
                  "type": "integer"
                },
                {
                  "name": "chat_id",
                  "rawType": "int64",
                  "type": "integer"
                },
                {
                  "name": "preset_clean",
                  "rawType": "object",
                  "type": "string"
                }
              ],
              "ref": "84720111-32cd-46db-8043-8b396bfc703c",
              "rows": [
                [
                  "0",
                  "1",
                  "halo nomor [PHONE_NUMBER] email [EMAIL] alamat jakarta"
                ],
                [
                  "1",
                  "2",
                  "hubung [PHONE_NUMBER] ya email [EMAIL] alamat bandung"
                ]
              ],
              "shape": {
                "columns": 2,
                "rows": 2
              }
            },
            "text/html": [
              "<div>\n",
              "<style scoped>\n",
              "    .dataframe tbody tr th:only-of-type {\n",
              "        vertical-align: middle;\n",
              "    }\n",
              "\n",
              "    .dataframe tbody tr th {\n",
              "        vertical-align: top;\n",
              "    }\n",
              "\n",
              "    .dataframe thead th {\n",
              "        text-align: right;\n",
              "    }\n",
              "</style>\n",
              "<table border=\"1\" class=\"dataframe\">\n",
              "  <thead>\n",
              "    <tr style=\"text-align: right;\">\n",
              "      <th></th>\n",
              "      <th>chat_id</th>\n",
              "      <th>preset_clean</th>\n",
              "    </tr>\n",
              "  </thead>\n",
              "  <tbody>\n",
              "    <tr>\n",
              "      <th>0</th>\n",
              "      <td>1</td>\n",
              "      <td>halo nomor [PHONE_NUMBER] email [EMAIL] alamat...</td>\n",
              "    </tr>\n",
              "    <tr>\n",
              "      <th>1</th>\n",
              "      <td>2</td>\n",
              "      <td>hubung [PHONE_NUMBER] ya email [EMAIL] alamat ...</td>\n",
              "    </tr>\n",
              "  </tbody>\n",
              "</table>\n",
              "</div>"
            ],
            "text/plain": [
              "   chat_id                                       preset_clean\n",
              "0        1  halo nomor [PHONE_NUMBER] email [EMAIL] alamat...\n",
              "1        2  hubung [PHONE_NUMBER] ya email [EMAIL] alamat ..."
            ]
          },
          "execution_count": 5,
          "metadata": {},
          "output_type": "execute_result"
        }
      ],
      "source": [
        "preset_chat_df = chat_df.copy()\n",
        "preset_chat_df[\"preset_clean\"] = leksara(preset_chat_df[\"chat_message\"], preset=\"ecommerce_review\")\n",
        "preset_chat_df[[\"chat_id\", \"preset_clean\"]]"
      ]
    },
    {
      "cell_type": "markdown",
      "id": "89dba7d3",
      "metadata": {},
      "source": [
        "### 2.4 Default Pipeline\n",
        "Calls `leksara` with no arguments to show the baseline cleaning stack you get for free. Use this as a smoke test before customising anything."
      ]
    },
    {
      "cell_type": "code",
      "execution_count": 6,
      "id": "3bcf0586",
      "metadata": {},
      "outputs": [
        {
          "data": {
            "application/vnd.microsoft.datawrangler.viewer.v0+json": {
              "columns": [
                {
                  "name": "index",
                  "rawType": "int64",
                  "type": "integer"
                },
                {
                  "name": "chat_id",
                  "rawType": "int64",
                  "type": "integer"
                },
                {
                  "name": "default_clean",
                  "rawType": "object",
                  "type": "string"
                }
              ],
              "ref": "b845ed7d-7fc7-46fe-84a4-5789f206532f",
              "rows": [
                [
                  "0",
                  "1",
                  "halo nomor saya 081234567890 email xycom alamat jakarta"
                ],
                [
                  "1",
                  "2",
                  "hubungi 6281234567890 ya email saya testmailcoid alamat saya di bandung"
                ]
              ],
              "shape": {
                "columns": 2,
                "rows": 2
              }
            },
            "text/html": [
              "<div>\n",
              "<style scoped>\n",
              "    .dataframe tbody tr th:only-of-type {\n",
              "        vertical-align: middle;\n",
              "    }\n",
              "\n",
              "    .dataframe tbody tr th {\n",
              "        vertical-align: top;\n",
              "    }\n",
              "\n",
              "    .dataframe thead th {\n",
              "        text-align: right;\n",
              "    }\n",
              "</style>\n",
              "<table border=\"1\" class=\"dataframe\">\n",
              "  <thead>\n",
              "    <tr style=\"text-align: right;\">\n",
              "      <th></th>\n",
              "      <th>chat_id</th>\n",
              "      <th>default_clean</th>\n",
              "    </tr>\n",
              "  </thead>\n",
              "  <tbody>\n",
              "    <tr>\n",
              "      <th>0</th>\n",
              "      <td>1</td>\n",
              "      <td>halo nomor saya 081234567890 email xycom alama...</td>\n",
              "    </tr>\n",
              "    <tr>\n",
              "      <th>1</th>\n",
              "      <td>2</td>\n",
              "      <td>hubungi 6281234567890 ya email saya testmailco...</td>\n",
              "    </tr>\n",
              "  </tbody>\n",
              "</table>\n",
              "</div>"
            ],
            "text/plain": [
              "   chat_id                                      default_clean\n",
              "0        1  halo nomor saya 081234567890 email xycom alama...\n",
              "1        2  hubungi 6281234567890 ya email saya testmailco..."
            ]
          },
          "execution_count": 6,
          "metadata": {},
          "output_type": "execute_result"
        }
      ],
      "source": [
        "default_chat_df = chat_df.copy()\n",
        "default_chat_df[\"default_clean\"] = leksara(default_chat_df[\"chat_message\"])\n",
        "default_chat_df[[\"chat_id\", \"default_clean\"]]"
      ]
    },
    {
      "cell_type": "markdown",
      "id": "a14f6164",
      "metadata": {},
      "source": [
        "### 2.5 Word Normalisation Dialled In\n",
        "Demonstrates injecting a single function with custom arguments—here, stem-preserving word normalisation—to fine-tune vocabulary without rebuilding the preset."
      ]
    },
    {
      "cell_type": "code",
      "execution_count": 7,
      "id": "01bb34a2",
      "metadata": {},
      "outputs": [
        {
          "data": {
            "text/plain": [
              "['produk Bagus sekali', 'saya beli alat rumah tangga']"
            ]
          },
          "execution_count": 7,
          "metadata": {},
          "output_type": "execute_result"
        }
      ],
      "source": [
        "normalisation_data = [\"Produk Bagus sekali\", \"Saya membeli peralatan rumah tangga\"]\n",
        "normalisation_pipeline = {\n",
        "    \"patterns\": [],\n",
        "    \"functions\": [\n",
        "        (word_normalization, {\"word_list\": [\"Bagus\"], \"mode\": \"keep\"}),\n",
        "    ],\n",
        "}\n",
        "leksara(normalisation_data, pipeline=normalisation_pipeline)"
      ]
    },
    {
      "cell_type": "markdown",
      "id": "4834dff0",
      "metadata": {},
      "source": [
        "### 2.6 Minimal Case-Stopwords Pipeline\n",
        "Illustrates a sentiment-friendly pipeline that keeps only text normalisation helpers—great for quick experiments where PII is already handled upstream."
      ]
    },
    {
      "cell_type": "code",
      "execution_count": 8,
      "id": "0fcec926",
      "metadata": {},
      "outputs": [
        {
          "name": "stdout",
          "output_type": "stream",
          "text": [
            "=== Data Asli ===\n"
          ]
        },
        {
          "data": {
            "application/vnd.microsoft.datawrangler.viewer.v0+json": {
              "columns": [
                {
                  "name": "index",
                  "rawType": "int64",
                  "type": "integer"
                },
                {
                  "name": "chat_id",
                  "rawType": "int64",
                  "type": "integer"
                },
                {
                  "name": "chat_message",
                  "rawType": "object",
                  "type": "string"
                }
              ],
              "ref": "62eade01-da65-4780-b469-ca53a93e995d",
              "rows": [
                [
                  "0",
                  "1",
                  "Saya sangat suka produk ini, dan saya akan beli lagi!"
                ],
                [
                  "1",
                  "2",
                  "Produk ini bagus sekali untuk dipakai di rumah."
                ],
                [
                  "2",
                  "3",
                  "Namun, harga-nya agak mahal ya..."
                ]
              ],
              "shape": {
                "columns": 2,
                "rows": 3
              }
            },
            "text/html": [
              "<div>\n",
              "<style scoped>\n",
              "    .dataframe tbody tr th:only-of-type {\n",
              "        vertical-align: middle;\n",
              "    }\n",
              "\n",
              "    .dataframe tbody tr th {\n",
              "        vertical-align: top;\n",
              "    }\n",
              "\n",
              "    .dataframe thead th {\n",
              "        text-align: right;\n",
              "    }\n",
              "</style>\n",
              "<table border=\"1\" class=\"dataframe\">\n",
              "  <thead>\n",
              "    <tr style=\"text-align: right;\">\n",
              "      <th></th>\n",
              "      <th>chat_id</th>\n",
              "      <th>chat_message</th>\n",
              "    </tr>\n",
              "  </thead>\n",
              "  <tbody>\n",
              "    <tr>\n",
              "      <th>0</th>\n",
              "      <td>1</td>\n",
              "      <td>Saya sangat suka produk ini, dan saya akan bel...</td>\n",
              "    </tr>\n",
              "    <tr>\n",
              "      <th>1</th>\n",
              "      <td>2</td>\n",
              "      <td>Produk ini bagus sekali untuk dipakai di rumah.</td>\n",
              "    </tr>\n",
              "    <tr>\n",
              "      <th>2</th>\n",
              "      <td>3</td>\n",
              "      <td>Namun, harga-nya agak mahal ya...</td>\n",
              "    </tr>\n",
              "  </tbody>\n",
              "</table>\n",
              "</div>"
            ],
            "text/plain": [
              "   chat_id                                       chat_message\n",
              "0        1  Saya sangat suka produk ini, dan saya akan bel...\n",
              "1        2    Produk ini bagus sekali untuk dipakai di rumah.\n",
              "2        3                  Namun, harga-nya agak mahal ya..."
            ]
          },
          "metadata": {},
          "output_type": "display_data"
        },
        {
          "name": "stdout",
          "output_type": "stream",
          "text": [
            "\n",
            "=== Setelah Cleaning ===\n"
          ]
        },
        {
          "data": {
            "application/vnd.microsoft.datawrangler.viewer.v0+json": {
              "columns": [
                {
                  "name": "index",
                  "rawType": "int64",
                  "type": "integer"
                },
                {
                  "name": "chat_id",
                  "rawType": "int64",
                  "type": "integer"
                },
                {
                  "name": "cleaned",
                  "rawType": "object",
                  "type": "string"
                }
              ],
              "ref": "5699770e-8393-4ca7-ab47-85c7f942f408",
              "rows": [
                [
                  "0",
                  "1",
                  "suka produk beli"
                ],
                [
                  "1",
                  "2",
                  "produk bagus dipakai rumah"
                ],
                [
                  "2",
                  "3",
                  "harganya mahal ya"
                ]
              ],
              "shape": {
                "columns": 2,
                "rows": 3
              }
            },
            "text/html": [
              "<div>\n",
              "<style scoped>\n",
              "    .dataframe tbody tr th:only-of-type {\n",
              "        vertical-align: middle;\n",
              "    }\n",
              "\n",
              "    .dataframe tbody tr th {\n",
              "        vertical-align: top;\n",
              "    }\n",
              "\n",
              "    .dataframe thead th {\n",
              "        text-align: right;\n",
              "    }\n",
              "</style>\n",
              "<table border=\"1\" class=\"dataframe\">\n",
              "  <thead>\n",
              "    <tr style=\"text-align: right;\">\n",
              "      <th></th>\n",
              "      <th>chat_id</th>\n",
              "      <th>cleaned</th>\n",
              "    </tr>\n",
              "  </thead>\n",
              "  <tbody>\n",
              "    <tr>\n",
              "      <th>0</th>\n",
              "      <td>1</td>\n",
              "      <td>suka produk beli</td>\n",
              "    </tr>\n",
              "    <tr>\n",
              "      <th>1</th>\n",
              "      <td>2</td>\n",
              "      <td>produk bagus dipakai rumah</td>\n",
              "    </tr>\n",
              "    <tr>\n",
              "      <th>2</th>\n",
              "      <td>3</td>\n",
              "      <td>harganya mahal ya</td>\n",
              "    </tr>\n",
              "  </tbody>\n",
              "</table>\n",
              "</div>"
            ],
            "text/plain": [
              "   chat_id                     cleaned\n",
              "0        1            suka produk beli\n",
              "1        2  produk bagus dipakai rumah\n",
              "2        3           harganya mahal ya"
            ]
          },
          "metadata": {},
          "output_type": "display_data"
        }
      ],
      "source": [
        "feedback_df = pd.DataFrame({\n",
        "    \"chat_id\": [1, 2, 3],\n",
        "    \"chat_message\": [\n",
        "        \"Saya sangat suka produk ini, dan saya akan beli lagi!\",\n",
        "        \"Produk ini bagus sekali untuk dipakai di rumah.\",\n",
        "        \"Namun, harga-nya agak mahal ya...\",\n",
        "    ],\n",
        "})\n",
        "\n",
        "text_only_pipeline = {\n",
        "    \"functions\": [\n",
        "        case_normal,\n",
        "        remove_stopwords,\n",
        "        remove_punctuation,\n",
        "        remove_whitespace,\n",
        "    ],\n",
        "}\n",
        "\n",
        "feedback_df[\"cleaned\"] = leksara(feedback_df[\"chat_message\"], pipeline=text_only_pipeline)\n",
        "\n",
        "print(\"=== Data Asli ===\")\n",
        "display(feedback_df[[\"chat_id\", \"chat_message\"]])\n",
        "print(\"\\n=== Setelah Cleaning ===\")\n",
        "display(feedback_df[[\"chat_id\", \"cleaned\"]])"
      ]
    },
    {
      "cell_type": "markdown",
      "id": "5c8cbc0f",
      "metadata": {},
      "source": [
        "### 2.7 Inspect Preset via ReviewChain\n",
        "Rebuilds the preset through `ReviewChain.from_steps`, times every stage, and prints the assembled steps so you can audit or extend them."
      ]
    },
    {
      "cell_type": "code",
      "execution_count": 9,
      "id": "b7f03197",
      "metadata": {},
      "outputs": [
        {
          "name": "stdout",
          "output_type": "stream",
          "text": [
            "Original: Produk baru saya: iphone12, harga 12 juta. Hubungi 0812-3456-7890.\n",
            "Cleaned : produk iphone12 harga 12 juta hubung [PHONE_NUMBER]\n",
            "\n",
            "Original: Email saya: test@example.com. Produk sangat berkualitas!\n",
            "Cleaned : email [EMAIL] produk kualitas\n",
            "\n"
          ]
        },
        {
          "data": {
            "text/plain": [
              "{'n_steps': 20,\n",
              " 'total_time_sec': 0.09763129999191733,\n",
              " 'per_step': [('word_normalization', 0.09705319999920903),\n",
              "  ('wrapped', 0.00031820000731386244),\n",
              "  ('remove_stopwords', 4.060000355821103e-05),\n",
              "  ('expand_contraction', 3.5899996873922646e-05),\n",
              "  ('unmask_whitelist', 3.210000431863591e-05),\n",
              "  ('mask_whitelist', 3.029999788850546e-05),\n",
              "  ('replace_phone', 2.680000034160912e-05),\n",
              "  ('remove_punctuation', 1.799999881768599e-05),\n",
              "  ('replace_id', 1.7799997294787318e-05),\n",
              "  ('replace_address', 1.5399993571918458e-05),\n",
              "  ('shorten_elongation', 1.5199999324977398e-05),\n",
              "  ('replace_email', 8.39999847812578e-06),\n",
              "  ('remove_whitespace', 8.100003469735384e-06),\n",
              "  ('remove_tags', 6.799993570894003e-06),\n",
              "  ('case_normal', 2.7999994927085936e-06),\n",
              "  ('unmask_rating_tokens', 1.6999983927235007e-06)]}"
            ]
          },
          "metadata": {},
          "output_type": "display_data"
        },
        {
          "data": {
            "text/plain": [
              "['produk iphone12 harga 12 juta hubung [PHONE_NUMBER]',\n",
              " 'email [EMAIL] produk kualitas']"
            ]
          },
          "metadata": {},
          "output_type": "display_data"
        },
        {
          "name": "stdout",
          "output_type": "stream",
          "text": [
            "1. replace_id\n",
            "2. replace_phone\n",
            "3. replace_email\n",
            "4. replace_address\n",
            "5. mask_whitelist\n",
            "6. remove_tags\n",
            "7. case_normal\n",
            "8. wrapped\n",
            "9. wrapped\n",
            "10. wrapped\n",
            "11. expand_contraction\n",
            "12. wrapped\n",
            "13. wrapped\n",
            "14. word_normalization\n",
            "15. remove_stopwords\n",
            "16. shorten_elongation\n",
            "17. remove_punctuation\n",
            "18. remove_whitespace\n",
            "19. unmask_whitelist\n",
            "20. unmask_rating_tokens\n"
          ]
        }
      ],
      "source": [
        "preset_steps = get_preset(\"ecommerce_review\")\n",
        "review_chain = ReviewChain.from_steps(\n",
        "    patterns=preset_steps[\"patterns\"],\n",
        "    functions=preset_steps[\"functions\"],\n",
        ")\n",
        "\n",
        "probe_data = [\n",
        "    \"Produk baru saya: iphone12, harga 12 juta. Hubungi 0812-3456-7890.\",\n",
        "    \"Email saya: test@example.com. Produk sangat berkualitas!\",\n",
        "]\n",
        "\n",
        "timed_output, stage_metrics = review_chain.transform(probe_data, benchmark=True)\n",
        "\n",
        "for original, cleaned in zip(probe_data, timed_output):\n",
        "    print(f\"Original: {original}\")\n",
        "    print(f\"Cleaned : {cleaned}\\n\")\n",
        "\n",
        "display(stage_metrics)\n",
        "display(timed_output)\n",
        "\n",
        "for idx, (name, step) in enumerate(review_chain.named_steps.items(), start=1):\n",
        "    print(f\"{idx}. {step}\")"
      ]
    },
    {
      "cell_type": "markdown",
      "id": "92652d62",
      "metadata": {},
      "source": [
        "## 3. Benchmark Pipelines\n",
        "Run preset and custom chains side by side to compare outputs and timing metrics before you standardise on one approach."
      ]
    },
    {
      "cell_type": "code",
      "execution_count": 10,
      "id": "21b15189",
      "metadata": {},
      "outputs": [
        {
          "data": {
            "application/vnd.microsoft.datawrangler.viewer.v0+json": {
              "columns": [
                {
                  "name": "index",
                  "rawType": "int64",
                  "type": "integer"
                },
                {
                  "name": "preset_output",
                  "rawType": "object",
                  "type": "string"
                },
                {
                  "name": "custom_output",
                  "rawType": "object",
                  "type": "string"
                }
              ],
              "ref": "7f0d252c-c6f0-490e-b7fd-73a4a2c466ab",
              "rows": [
                [
                  "0",
                  "email [EMAIL] rating 5.0 kurir ramah",
                  "email [EMAIL] rating . kurir ramah"
                ],
                [
                  "1",
                  "alamat kirim [ADDRESS]",
                  "alamat pengiriman jl durian no rt rw bandung"
                ]
              ],
              "shape": {
                "columns": 2,
                "rows": 2
              }
            },
            "text/html": [
              "<div>\n",
              "<style scoped>\n",
              "    .dataframe tbody tr th:only-of-type {\n",
              "        vertical-align: middle;\n",
              "    }\n",
              "\n",
              "    .dataframe tbody tr th {\n",
              "        vertical-align: top;\n",
              "    }\n",
              "\n",
              "    .dataframe thead th {\n",
              "        text-align: right;\n",
              "    }\n",
              "</style>\n",
              "<table border=\"1\" class=\"dataframe\">\n",
              "  <thead>\n",
              "    <tr style=\"text-align: right;\">\n",
              "      <th></th>\n",
              "      <th>preset_output</th>\n",
              "      <th>custom_output</th>\n",
              "    </tr>\n",
              "  </thead>\n",
              "  <tbody>\n",
              "    <tr>\n",
              "      <th>0</th>\n",
              "      <td>email [EMAIL] rating 5.0 kurir ramah</td>\n",
              "      <td>email [EMAIL] rating . kurir ramah</td>\n",
              "    </tr>\n",
              "    <tr>\n",
              "      <th>1</th>\n",
              "      <td>alamat kirim [ADDRESS]</td>\n",
              "      <td>alamat pengiriman jl durian no rt rw bandung</td>\n",
              "    </tr>\n",
              "  </tbody>\n",
              "</table>\n",
              "</div>"
            ],
            "text/plain": [
              "                          preset_output  \\\n",
              "0  email [EMAIL] rating 5.0 kurir ramah   \n",
              "1                alamat kirim [ADDRESS]   \n",
              "\n",
              "                                  custom_output  \n",
              "0            email [EMAIL] rating . kurir ramah  \n",
              "1  alamat pengiriman jl durian no rt rw bandung  "
            ]
          },
          "metadata": {},
          "output_type": "display_data"
        },
        {
          "name": "stdout",
          "output_type": "stream",
          "text": [
            "Preset timings: {'n_steps': 20, 'total_time_sec': 0.11500969997723587, 'per_step': [('word_normalization', 0.11429829999542562), ('replace_rating', 0.00017859999934444204), ('replace_acronym', 0.00010949999705189839), ('replace_address', 7.94000006862916e-05), ('normalize_slangs', 6.420000136131421e-05), ('remove_stopwords', 4.159999662078917e-05), ('unmask_whitelist', 3.579999611247331e-05), ('expand_contraction', 3.5299992305226624e-05), ('mask_whitelist', 3.290000313427299e-05), ('remove_emoji', 2.6200003048870713e-05), ('remove_punctuation', 2.040000254055485e-05), ('replace_id', 1.6999998479150236e-05), ('replace_url', 1.5199999324977398e-05), ('shorten_elongation', 1.3899996702093631e-05), ('replace_phone', 1.1900003300979733e-05), ('replace_email', 9.099996532313526e-06), ('remove_whitespace', 7.200003892648965e-06), ('remove_tags', 6.599992047995329e-06), ('unmask_rating_tokens', 3.5999983083456755e-06), ('case_normal', 3.0000010156072676e-06)]}\n",
            "Custom timings: {'n_steps': 11, 'total_time_sec': 0.00022289998014457524, 'per_step': [('wrapped', 0.00010789999214466661), ('remove_stopwords', 3.069999365834519e-05), ('mask_whitelist', 2.2799998987466097e-05), ('unmask_whitelist', 1.5300000086426735e-05), ('replace_phone', 1.1800002539530396e-05), ('remove_punctuation', 1.1800002539530396e-05), ('replace_email', 7.90000194683671e-06), ('remove_whitespace', 6.200003554113209e-06), ('remove_digits', 5.799993232358247e-06), ('case_normal', 1.3999961083754897e-06), ('unmask_rating_tokens', 1.2999953469261527e-06)]}\n"
          ]
        }
      ],
      "source": [
        "reviews = pd.Series([\n",
        "    \"Email saya customer@mart.id, rating 5/5, kurir ramah.\",\n",
        "    \"Alamat pengiriman: Jl. Durian No. 3 RT 05 RW 07, Bandung.\",\n",
        "])\n",
        "\n",
        "preset_results, preset_metrics = leksara(reviews, preset=\"ecommerce_review\", benchmark=True)\n",
        "\n",
        "custom_benchmark_pipeline = {\n",
        "    \"patterns\": [\n",
        "        (replace_phone, {\"mode\": \"replace\"}),\n",
        "        (replace_email, {\"mode\": \"replace\"}),\n",
        "    ],\n",
        "    \"functions\": [\n",
        "        case_normal,\n",
        "        replace_rating,\n",
        "        remove_digits,\n",
        "        remove_stopwords,\n",
        "        remove_punctuation,\n",
        "        remove_whitespace,\n",
        "    ],\n",
        "}\n",
        "\n",
        "benchmark_chain = ReviewChain.from_steps(**custom_benchmark_pipeline)\n",
        "chain_results, chain_metrics = benchmark_chain.transform(reviews, benchmark=True)\n",
        "\n",
        "display(pd.DataFrame({\n",
        "    \"preset_output\": preset_results,\n",
        "    \"custom_output\": chain_results,\n",
        "}))\n",
        "\n",
        "print(\"Preset timings:\", preset_metrics)\n",
        "print(\"Custom timings:\", chain_metrics)"
      ]
    },
    {
      "cell_type": "markdown",
      "id": "d0e65c25",
      "metadata": {},
      "source": [
        "## 4. Logging Hooks\n",
        "Enable file-and-console logging, then emit per-step messages so observability stays intact when pipelines run in production."
      ]
    },
    {
      "cell_type": "code",
      "execution_count": 11,
      "id": "6c0be352",
      "metadata": {},
      "outputs": [
        {
          "name": "stderr",
          "output_type": "stream",
          "text": [
            "2025-10-25 12:03:16,270 - INFO - replace_phone: Input: Hubungi saya di 0812-3456-7890 ya! Produk ini BAGUS banget??? | Output: Hubungi saya di [PHONE_NUMBER] ya! Produk ini BAGUS banget???\n",
            "2025-10-25 12:03:16,270 - INFO - case_normal: Input: Hubungi saya di [PHONE_NUMBER] ya! Produk ini BAGUS banget??? | Output: hubungi saya di [phone_number] ya! produk ini bagus banget???\n",
            "2025-10-25 12:03:16,270 - INFO - remove_punctuation: Input: hubungi saya di [phone_number] ya! produk ini bagus banget??? | Output: hubungi saya di phonenumber ya produk ini bagus banget\n"
          ]
        },
        {
          "name": "stdout",
          "output_type": "stream",
          "text": [
            "Final output: hubungi saya di phonenumber ya produk ini bagus banget\n"
          ]
        }
      ],
      "source": [
        "setup_logging(\"pipeline_demo.log\")\n",
        "\n",
        "log_sample = \"Hubungi saya di 0812-3456-7890 ya! Produk ini BAGUS banget???\"\n",
        "pipeline_steps = [\n",
        "    (\"replace_phone\", lambda text: replace_phone(text, mode=\"replace\")),\n",
        "    (\"case_normal\", case_normal),\n",
        "    (\"remove_punctuation\", remove_punctuation),\n",
        "]\n",
        "\n",
        "current_text = log_sample\n",
        "for name, step in pipeline_steps:\n",
        "    next_text = step(current_text)\n",
        "    log_pipeline_step(name, current_text, next_text)\n",
        "    current_text = next_text\n",
        "\n",
        "print(\"Final output:\", current_text)"
      ]
    },
    {
      "cell_type": "markdown",
      "id": "5406e9ba",
      "metadata": {
        "id": "5406e9ba"
      },
      "source": [
        "## 5. Basic Cleaning Primitives\n",
        "Each helper below prints the original string alongside the cleaned version so you can quickly verify behaviour before composing them into a pipeline."
      ]
    },
    {
      "cell_type": "markdown",
      "id": "e50127aa",
      "metadata": {},
      "source": [
        "### remove_tags\n",
        "Strips basic HTML markup without disturbing the surrounding text—perfect for templated channels that wrap copy in `<div>` elements."
      ]
    },
    {
      "cell_type": "code",
      "execution_count": 12,
      "id": "cbac08a6",
      "metadata": {
        "id": "cbac08a6"
      },
      "outputs": [
        {
          "name": "stdout",
          "output_type": "stream",
          "text": [
            "Original: <div>Halo <strong>GAN</strong>!!!</div>\n",
            "remove_tags: Halo GAN!!!\n"
          ]
        }
      ],
      "source": [
        "tags_text = \"<div>Halo <strong>GAN</strong>!!!</div>\"\n",
        "print(\"Original:\", tags_text)\n",
        "print(\"remove_tags:\", remove_tags(tags_text))"
      ]
    },
    {
      "cell_type": "markdown",
      "id": "fc592a93",
      "metadata": {},
      "source": [
        "### case_normal\n",
        "Lowercases strings while preserving accents, giving consistent downstream tokens for stopword or sentiment models."
      ]
    },
    {
      "cell_type": "code",
      "execution_count": 13,
      "id": "3569e6b9",
      "metadata": {},
      "outputs": [
        {
          "name": "stdout",
          "output_type": "stream",
          "text": [
            "Original: Produk INI BAGUS BANGET!!!\n",
            "case_normal: produk ini bagus banget!!!\n"
          ]
        }
      ],
      "source": [
        "case_text = \"Produk INI BAGUS BANGET!!!\"\n",
        "print(\"Original:\", case_text)\n",
        "print(\"case_normal:\", case_normal(case_text))"
      ]
    },
    {
      "cell_type": "markdown",
      "id": "40f302de",
      "metadata": {},
      "source": [
        "### replace_url\n",
        "Normalises or masks URLs so review content focuses on the message rather than outbound links."
      ]
    },
    {
      "cell_type": "code",
      "execution_count": 14,
      "id": "e56f1e4c",
      "metadata": {},
      "outputs": [
        {
          "name": "stdout",
          "output_type": "stream",
          "text": [
            "Original: Detail promo di https://shop.id dan http://toko.co.id.\n",
            "replace_url: Detail promo di [URL] dan [URL]\n"
          ]
        }
      ],
      "source": [
        "url_text = \"Detail promo di https://shop.id dan http://toko.co.id.\"\n",
        "print(\"Original:\", url_text)\n",
        "print(\"replace_url:\", replace_url(url_text, mode=\"replace\"))"
      ]
    },
    {
      "cell_type": "markdown",
      "id": "9835f07d",
      "metadata": {},
      "source": [
        "### remove_emoji\n",
        "Useful when downstream models expect ASCII; replaces emoji with blanks (configurable for replacement tokens)."
      ]
    },
    {
      "cell_type": "code",
      "execution_count": 15,
      "id": "9d7c32a3",
      "metadata": {},
      "outputs": [
        {
          "name": "stdout",
          "output_type": "stream",
          "text": [
            "Original: Pelayanan mantap 😍🔥👍\n",
            "remove_emoji: Pelayanan mantap  suka banget  keren / hebat / mantap  bagus \n"
          ]
        }
      ],
      "source": [
        "emoji_text = \"Pelayanan mantap 😍🔥👍\"\n",
        "print(\"Original:\", emoji_text)\n",
        "print(\"remove_emoji:\", remove_emoji(emoji_text, mode=\"replace\"))"
      ]
    },
    {
      "cell_type": "markdown",
      "id": "574e885c",
      "metadata": {},
      "source": [
        "### remove_stopwords\n",
        "Drops common Indonesian function words to tighten the signal before vectorisation."
      ]
    },
    {
      "cell_type": "code",
      "execution_count": 16,
      "id": "a23a6bc0",
      "metadata": {},
      "outputs": [
        {
          "name": "stdout",
          "output_type": "stream",
          "text": [
            "Original: Produk ini dan itu sangat dan benar-benar bagus\n",
            "remove_stopwords: Produk      - bagus\n"
          ]
        }
      ],
      "source": [
        "stopwords_text = \"Produk ini dan itu sangat dan benar-benar bagus\"\n",
        "print(\"Original:\", stopwords_text)\n",
        "print(\"remove_stopwords:\", remove_stopwords(stopwords_text))"
      ]
    },
    {
      "cell_type": "markdown",
      "id": "9931817a",
      "metadata": {},
      "source": [
        "### remove_punctuation\n",
        "Cleans repeated punctuation marks while leaving alphanumeric characters untouched to simplify tokenisation."
      ]
    },
    {
      "cell_type": "code",
      "execution_count": 17,
      "id": "4f9f1114",
      "metadata": {},
      "outputs": [
        {
          "name": "stdout",
          "output_type": "stream",
          "text": [
            "Original: Halo!!! Bagus, kan???\n",
            "remove_punctuation: Halo Bagus kan\n"
          ]
        }
      ],
      "source": [
        "punct_text = \"Halo!!! Bagus, kan???\"\n",
        "print(\"Original:\", punct_text)\n",
        "print(\"remove_punctuation:\", remove_punctuation(punct_text))"
      ]
    },
    {
      "cell_type": "markdown",
      "id": "284ceba7",
      "metadata": {},
      "source": [
        "### remove_digits\n",
        "Eliminates numeric artefacts like invoice numbers when analytics focuses on textual sentiment."
      ]
    },
    {
      "cell_type": "code",
      "execution_count": 18,
      "id": "fa255723",
      "metadata": {},
      "outputs": [
        {
          "name": "stdout",
          "output_type": "stream",
          "text": [
            "Original: Order number 12345 akan dikirim 67890\n",
            "remove_digits: Order number  akan dikirim \n"
          ]
        }
      ],
      "source": [
        "digits_text = \"Order number 12345 akan dikirim 67890\"\n",
        "print(\"Original:\", digits_text)\n",
        "print(\"remove_digits:\", remove_digits(digits_text))"
      ]
    },
    {
      "cell_type": "markdown",
      "id": "c9f41712",
      "metadata": {},
      "source": [
        "### remove_whitespace\n",
        "Condenses stray tabs, newlines, and double spaces to ensure consistent token boundaries."
      ]
    },
    {
      "cell_type": "code",
      "execution_count": 19,
      "id": "4c6c9969",
      "metadata": {},
      "outputs": [
        {
          "name": "stdout",
          "output_type": "stream",
          "text": [
            "Original: '  produk   ini\\n\\tbagus   banget  '\n",
            "remove_whitespace: produk ini bagus banget\n"
          ]
        }
      ],
      "source": [
        "whitespace_text = \"  produk   ini\\n\\tbagus   banget  \"\n",
        "print(\"Original:\", repr(whitespace_text))\n",
        "print(\"remove_whitespace:\", remove_whitespace(whitespace_text))"
      ]
    },
    {
      "cell_type": "markdown",
      "id": "bbb652b7",
      "metadata": {
        "id": "bbb652b7"
      },
      "source": [
        "## 6. Pattern-Based PII Masking\n",
        "Validate each PII redaction helper in isolation."
      ]
    },
    {
      "cell_type": "markdown",
      "id": "a7ef7166",
      "metadata": {},
      "source": [
        "### replace_id\n",
        "Masks Indonesian ID numbers (NIK/KTP) using the pattern pack to keep compliance teams happy."
      ]
    },
    {
      "cell_type": "code",
      "execution_count": 20,
      "id": "76b7b44e",
      "metadata": {
        "id": "76b7b44e"
      },
      "outputs": [
        {
          "name": "stdout",
          "output_type": "stream",
          "text": [
            "Original: NIK pelanggan: 3276120705010003 akan diverifikasi.\n",
            "replace_id: NIK pelanggan: [NIK] akan diverifikasi.\n"
          ]
        }
      ],
      "source": [
        "id_text = \"NIK pelanggan: 3276120705010003 akan diverifikasi.\"\n",
        "print(\"Original:\", id_text)\n",
        "print(\"replace_id:\", replace_id(id_text, mode=\"replace\"))"
      ]
    },
    {
      "cell_type": "markdown",
      "id": "6bf85703",
      "metadata": {},
      "source": [
        "### replace_phone\n",
        "Redacts phone numbers while keeping surrounding context intact."
      ]
    },
    {
      "cell_type": "code",
      "execution_count": 21,
      "id": "ff2a6a1a",
      "metadata": {},
      "outputs": [
        {
          "name": "stdout",
          "output_type": "stream",
          "text": [
            "Original: Hubungi saya di 0812-3456-7890 untuk info lebih lanjut.\n",
            "replace_phone: Hubungi saya di [PHONE_NUMBER] untuk info lebih lanjut.\n"
          ]
        }
      ],
      "source": [
        "phone_text = \"Hubungi saya di 0812-3456-7890 untuk info lebih lanjut.\"\n",
        "print(\"Original:\", phone_text)\n",
        "print(\"replace_phone:\", replace_phone(phone_text, mode=\"replace\"))"
      ]
    },
    {
      "cell_type": "markdown",
      "id": "da92cf6a",
      "metadata": {},
      "source": [
        "### replace_email\n",
        "Finds email addresses via regex bundle and replaces them with a neutral token."
      ]
    },
    {
      "cell_type": "code",
      "execution_count": 22,
      "id": "8821ea42",
      "metadata": {},
      "outputs": [
        {
          "name": "stdout",
          "output_type": "stream",
          "text": [
            "Original: Silakan kirim pertanyaan ke support@contoh.id.\n",
            "replace_email: Silakan kirim pertanyaan ke [EMAIL].\n"
          ]
        }
      ],
      "source": [
        "email_text = \"Silakan kirim pertanyaan ke support@contoh.id.\"\n",
        "print(\"Original:\", email_text)\n",
        "print(\"replace_email:\", replace_email(email_text, mode=\"replace\"))"
      ]
    },
    {
      "cell_type": "markdown",
      "id": "23e1309b",
      "metadata": {},
      "source": [
        "### replace_address\n",
        "Uses multi-line ruleset to scrub street-level details from free-form addresses."
      ]
    },
    {
      "cell_type": "code",
      "execution_count": 23,
      "id": "870d0513",
      "metadata": {},
      "outputs": [
        {
          "name": "stdout",
          "output_type": "stream",
          "text": [
            "Original: Alamat lengkap: Jl. Melati No. 8 RT 02 RW 04, Bandung.\n",
            "replace_address: Alamat lengkap: [ADDRESS].\n"
          ]
        }
      ],
      "source": [
        "address_text = \"Alamat lengkap: Jl. Melati No. 8 RT 02 RW 04, Bandung.\"\n",
        "print(\"Original:\", address_text)\n",
        "print(\"replace_address:\", replace_address(address_text, mode=\"replace\"))"
      ]
    },
    {
      "cell_type": "markdown",
      "id": "aab5c76e",
      "metadata": {
        "id": "aab5c76e"
      },
      "source": [
        "## 7. Advanced Normalisation Helpers\n",
        "Go beyond basic cleaning with rating extraction, acronym expansion, and word-level tweaks."
      ]
    },
    {
      "cell_type": "markdown",
      "id": "81d36dbf",
      "metadata": {},
      "source": [
        "### replace_rating\n",
        "Extracts numeric review scores, normalises decimal separators, and emits structured rating tokens."
      ]
    },
    {
      "cell_type": "code",
      "execution_count": 24,
      "id": "b87a30e1",
      "metadata": {
        "id": "b87a30e1"
      },
      "outputs": [
        {
          "name": "stdout",
          "output_type": "stream",
          "text": [
            "Original: Film ini dapet rating 4,5/5 di review pelanggan.\n",
            "replace_rating: Film ini dapet rating 4.5 di review pelanggan.\n"
          ]
        }
      ],
      "source": [
        "rating_text = \"Film ini dapet rating 4,5/5 di review pelanggan.\"\n",
        "print(\"Original:\", rating_text)\n",
        "print(\"replace_rating:\", replace_rating(rating_text))"
      ]
    },
    {
      "cell_type": "markdown",
      "id": "bd1d45c5",
      "metadata": {},
      "source": [
        "### shorten_elongation\n",
        "Collapses repeated characters to an upper bound so \"kereeeen\" becomes a single emphasised token."
      ]
    },
    {
      "cell_type": "code",
      "execution_count": 25,
      "id": "669e4139",
      "metadata": {},
      "outputs": [
        {
          "name": "stdout",
          "output_type": "stream",
          "text": [
            "Original: Woooooow kereeeen bangetttt!!!\n",
            "shorten_elongation: Woow kereen bangett!!\n"
          ]
        }
      ],
      "source": [
        "elongation_text = \"Woooooow kereeeen bangetttt!!!\"\n",
        "print(\"Original:\", elongation_text)\n",
        "print(\"shorten_elongation:\", shorten_elongation(elongation_text, max_repeat=2))"
      ]
    },
    {
      "cell_type": "markdown",
      "id": "10d5edfb",
      "metadata": {},
      "source": [
        "### normalize_slangs\n",
        "Maps colloquial Indonesian chat shorthand into normalized dictionary terms."
      ]
    },
    {
      "cell_type": "code",
      "execution_count": 26,
      "id": "0f2d0333",
      "metadata": {},
      "outputs": [
        {
          "name": "stdout",
          "output_type": "stream",
          "text": [
            "Original: Gw lg brb ya, sokap mau join call?\n",
            "normalize_slangs: Gw lg brb ya, tingkah mau join call?\n"
          ]
        }
      ],
      "source": [
        "slang_text = \"Gw lg brb ya, sokap mau join call?\"\n",
        "print(\"Original:\", slang_text)\n",
        "print(\"normalize_slangs:\", normalize_slangs(slang_text, mode=\"replace\"))"
      ]
    },
    {
      "cell_type": "markdown",
      "id": "2eb1d072",
      "metadata": {},
      "source": [
        "### replace_acronym\n",
        "Expands measurement acronyms (e.g. `jt`, `m`) so downstream NLP sees explicit units."
      ]
    },
    {
      "cell_type": "code",
      "execution_count": 27,
      "id": "fe34d283",
      "metadata": {},
      "outputs": [
        {
          "name": "stdout",
          "output_type": "stream",
          "text": [
            "Original: Harga hp baru itu 5 jt, ukurannya 5 m panjangnya.\n",
            "replace_acronym: Harga handphone baru itu 5 jt, ukurannya 5 meter panjangnya.\n"
          ]
        }
      ],
      "source": [
        "acronym_text = \"Harga hp baru itu 5 jt, ukurannya 5 m panjangnya.\"\n",
        "print(\"Original:\", acronym_text)\n",
        "print(\"replace_acronym:\", replace_acronym(acronym_text, mode=\"replace\"))"
      ]
    },
    {
      "cell_type": "markdown",
      "id": "ef835fe2",
      "metadata": {},
      "source": [
        "### expand_contraction\n",
        "Handles English contractions so multilingual text normalises cleanly."
      ]
    },
    {
      "cell_type": "code",
      "execution_count": 28,
      "id": "f701eeaf",
      "metadata": {},
      "outputs": [
        {
          "name": "stdout",
          "output_type": "stream",
          "text": [
            "Original: Saya tdk percaya ini gak bekerja dgn baik\n",
            "expand_contraction: Saya tdk percaya ini tidak bekerja dengan baik\n"
          ]
        }
      ],
      "source": [
        "contraction_text = \"Saya tdk percaya ini gak bekerja dgn baik\"\n",
        "print(\"Original:\", contraction_text)\n",
        "print(\"expand_contraction:\", expand_contraction(contraction_text))"
      ]
    },
    {
      "cell_type": "markdown",
      "id": "96376293",
      "metadata": {},
      "source": [
        "### word_normalization\n",
        "Switchable stemming/lemmatisation that tunes token granularity without losing the original."
      ]
    },
    {
      "cell_type": "code",
      "execution_count": 29,
      "id": "659ec904",
      "metadata": {},
      "outputs": [
        {
          "name": "stdout",
          "output_type": "stream",
          "text": [
            "Original: Pengiriman barang cepat dan penggunaannya bagus sekali.\n",
            "word_normalization: kirim barang cepat dan guna bagus sekali\n"
          ]
        }
      ],
      "source": [
        "normalization_text = \"Pengiriman barang cepat dan penggunaannya bagus sekali.\"\n",
        "print(\"Original:\", normalization_text)\n",
        "print(\"word_normalization:\", word_normalization(normalization_text, method=\"stem\", mode=\"keep\"))"
      ]
    },
    {
      "cell_type": "markdown",
      "id": "d2db2833",
      "metadata": {
        "id": "d2db2833"
      },
      "source": [
        "## 8. Preset Listing and Extension\n",
        "Inspect and extend the preset configuration that backs the earlier pipelines."
      ]
    },
    {
      "cell_type": "code",
      "execution_count": 30,
      "id": "dcbdac45",
      "metadata": {
        "id": "dcbdac45"
      },
      "outputs": [
        {
          "name": "stdout",
          "output_type": "stream",
          "text": [
            "Patterns: [(<function replace_id at 0x000002B2CCA067A0>, {'mode': 'replace'}), (<function replace_phone at 0x000002B2CCA06520>, {'mode': 'replace'}), (<function replace_email at 0x000002B2CCA06700>, {'mode': 'replace'}), (<function replace_address at 0x000002B2CCA06660>, {'mode': 'replace'})]\n",
            "Functions: [<function remove_tags at 0x000002B2CCA06B60>, <function case_normal at 0x000002B2CCA06C00>, (<function replace_url at 0x000002B2CCA06F20>, {'mode': 'remove'}), (<function remove_emoji at 0x000002B2CCA06FC0>, {'mode': 'replace'}), <function replace_rating at 0x000002B2CCA058A0>, <function expand_contraction at 0x000002B2CCA05EE0>, (<function normalize_slangs at 0x000002B2CCA05DA0>, {'mode': 'replace'}), (<function replace_acronym at 0x000002B2CCA05D00>, {'mode': 'replace'}), <function word_normalization at 0x000002B2CCA060C0>, <function remove_stopwords at 0x000002B2CCA06CA0>, <function shorten_elongation at 0x000002B2CCA05C60>, <function remove_punctuation at 0x000002B2CCA06E80>, <function remove_whitespace at 0x000002B2CCA06D40>]\n"
          ]
        },
        {
          "data": {
            "application/vnd.microsoft.datawrangler.viewer.v0+json": {
              "columns": [
                {
                  "name": "index",
                  "rawType": "int64",
                  "type": "integer"
                },
                {
                  "name": "0",
                  "rawType": "object",
                  "type": "string"
                }
              ],
              "ref": "4fb3a3fe-9014-4e6a-8f14-b2a226987fff",
              "rows": [
                [
                  "0",
                  "email [EMAIL] rating 5.0 kurir ramah"
                ],
                [
                  "1",
                  "alamat kirim [ADDRESS]"
                ]
              ],
              "shape": {
                "columns": 1,
                "rows": 2
              }
            },
            "text/plain": [
              "0    email [EMAIL] rating 5.0 kurir ramah\n",
              "1                  alamat kirim [ADDRESS]\n",
              "dtype: object"
            ]
          },
          "execution_count": 30,
          "metadata": {},
          "output_type": "execute_result"
        }
      ],
      "source": [
        "ecommerce_preset = get_preset(\"ecommerce_review\")\n",
        "print(\"Patterns:\", ecommerce_preset[\"patterns\"])\n",
        "print(\"Functions:\", ecommerce_preset[\"functions\"])\n",
        "\n",
        "# Extend preset with additional address masking depth\n",
        "extended = get_preset(\"ecommerce_review\")\n",
        "extended[\"patterns\"].append((replace_address, {\"mode\": \"replace\", \"street\": True, \"city\": True}))\n",
        "extended_results = leksara(reviews, pipeline=extended)\n",
        "extended_results"
      ]
    },
    {
      "cell_type": "markdown",
      "id": "27575e67",
      "metadata": {},
      "source": [
        "## Closing Insights\n",
        "This playbook captures the end-to-end journey: monitoring data quality with CartBoard, assembling ReviewChain pipelines, and measuring performance plus logging. Here are ways to extend it and where to deploy the results:\n",
        "- **Deeper customisation**: add domain dictionaries, bespoke PII patterns, or new normalisation utilities to serve verticals such as healthcare, fintech, and logistics.\n",
        "- **Production integration**: embed the pipeline into content moderation services, real-time sentiment analytics, customer-support chatbots, or internal QA systems, backed by logging and recurring benchmarks.\n",
        "- **Team operationalisation**: use presets as experiment baselines, document tweaks in a shared repository, and schedule regular data-cleanliness reviews to keep quality on track.\n",
        "Happy experimenting—treat this notebook as the foundation for resilient Indonesian-language pipelines in your environment."
      ]
    }
  ],
  "metadata": {
    "colab": {
      "provenance": []
    },
    "kernelspec": {
      "display_name": "Python 3",
      "language": "python",
      "name": "python3"
    },
    "language_info": {
      "codemirror_mode": {
        "name": "ipython",
        "version": 3
      },
      "file_extension": ".py",
      "mimetype": "text/x-python",
      "name": "python",
      "nbconvert_exporter": "python",
      "pygments_lexer": "ipython3",
      "version": "3.11.13"
    }
  },
  "nbformat": 4,
  "nbformat_minor": 5
}
