{
 "cells": [
  {
   "cell_type": "code",
   "execution_count": 4,
   "id": "72ff1c15",
   "metadata": {},
   "outputs": [
    {
     "name": "stdout",
     "output_type": "stream",
     "text": [
      "Engine created. Supported output formats: ['PDF', 'SVG', 'TXT']\n"
     ]
    }
   ],
   "source": [
    "# 1) Imports and engine setup\n",
    "from quillmark import Quillmark, Quill, ParsedDocument, OutputFormat\n",
    "from pathlib import Path\n",
    "WORKSPACE_ROOT = Path.cwd().parent.parent\n",
    "RESOURCES_PATH = WORKSPACE_ROOT / \"quillmark-fixtures\" / \"resources\"\n",
    "QUILLS_PATH = RESOURCES_PATH / \"tonguetoquill-collection\" / \"quills\"\n",
    "\n",
    "# Create a Quillmark engine instance\n",
    "engine = Quillmark()\n",
    "\n",
    "# You can list supported formats (debug)\n",
    "print('Engine created. Supported output formats:', [f.name for f in OutputFormat.all()])"
   ]
  },
  {
   "cell_type": "code",
   "execution_count": 5,
   "id": "4e465a40",
   "metadata": {},
   "outputs": [
    {
     "name": "stdout",
     "output_type": "stream",
     "text": [
      "Quill id: usaf_memo\n",
      "Example markdown length: 535\n"
     ]
    }
   ],
   "source": [
    "# 2) Load and register a quill (template)\n",
    "# Use a bundled fixture in the repository for examples\n",
    "quill = Quill.from_path(QUILLS_PATH / 'usaf_memo')\n",
    "engine.register_quill(quill)\n",
    "\n",
    "# Inspect the quill for a quick sanity check\n",
    "print('Quill id:', quill.name)\n",
    "print('Example markdown length:', len(quill.example) if quill.example else 'no example')"
   ]
  },
  {
   "cell_type": "code",
   "execution_count": 6,
   "id": "d0426df4",
   "metadata": {},
   "outputs": [
    {
     "name": "stdout",
     "output_type": "stream",
     "text": [
      "Processed glue ready\n",
      "Saved output.pdf\n",
      "Saved output.svg\n"
     ]
    },
    {
     "name": "stderr",
     "output_type": "stream",
     "text": [
      "Warning: unknown font family: times new roman\n",
      "Warning: unknown font family: times new roman\n"
     ]
    }
   ],
   "source": [
    "# 3) Parse example document, process glue, and render outputs\n",
    "assert quill.example, 'Quill fixture must include an example document'\n",
    "parsed = ParsedDocument.from_markdown(quill.example)\n",
    "# Engine can construct a workflow from the parsed document (it infers the quill)\n",
    "workflow = engine.workflow_from_parsed(parsed)\n",
    "\n",
    "# Process glue (template rendering step)\n",
    "processed = workflow.process_glue(parsed)\n",
    "print('Processed glue ready')\n",
    "\n",
    "# Render to PDF and save artifact\n",
    "result_pdf = workflow.render_processed(processed, OutputFormat.PDF)\n",
    "result_pdf.artifacts[0].save('output.pdf')\n",
    "print('Saved output.pdf')\n",
    "\n",
    "# Render directly to SVG and save\n",
    "result_svg = workflow.render(parsed, OutputFormat.SVG)\n",
    "result_svg.artifacts[0].save('output.svg')\n",
    "print('Saved output.svg')"
   ]
  }
 ],
 "metadata": {
  "kernelspec": {
   "display_name": ".venv",
   "language": "python",
   "name": "python3"
  },
  "language_info": {
   "codemirror_mode": {
    "name": "ipython",
    "version": 3
   },
   "file_extension": ".py",
   "mimetype": "text/x-python",
   "name": "python",
   "nbconvert_exporter": "python",
   "pygments_lexer": "ipython3",
   "version": "3.14.0rc2"
  }
 },
 "nbformat": 4,
 "nbformat_minor": 5
}
