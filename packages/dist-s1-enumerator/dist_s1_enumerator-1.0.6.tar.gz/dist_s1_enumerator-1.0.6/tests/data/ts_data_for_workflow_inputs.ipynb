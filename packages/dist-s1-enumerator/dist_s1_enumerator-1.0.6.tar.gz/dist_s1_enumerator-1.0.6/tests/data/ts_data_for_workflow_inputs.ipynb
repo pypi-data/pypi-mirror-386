{
 "cells": [
  {
   "cell_type": "code",
   "execution_count": 10,
   "id": "f203f7a7-81d5-4e94-be02-f0d332d31f39",
   "metadata": {},
   "outputs": [],
   "source": [
    "from dist_s1_enumerator.asf import get_rtc_s1_ts_metadata_from_mgrs_tiles\n",
    "from dist_s1_enumerator.tabular_models import reorder_columns, rtc_s1_schema\n",
    "import geopandas as gpd"
   ]
  },
  {
   "cell_type": "code",
   "execution_count": 6,
   "id": "3919e10e-b825-4dff-8c77-86d7285a3e70",
   "metadata": {},
   "outputs": [],
   "source": [
    "df_ts = get_rtc_s1_ts_metadata_from_mgrs_tiles(['19HBD'])"
   ]
  },
  {
   "cell_type": "code",
   "execution_count": 9,
   "id": "62096e5a-b62f-4bbd-82c7-230af6d4f749",
   "metadata": {},
   "outputs": [],
   "source": [
    "out_path = 'rtc_s1_ts_metadata/chile_19HBD.parquet'\n",
    "df_ts.to_parquet(out_path)"
   ]
  },
  {
   "cell_type": "code",
   "execution_count": 14,
   "id": "e735f396-f0f4-49cc-ab15-1bb2abe049bc",
   "metadata": {},
   "outputs": [],
   "source": [
    "_ = rtc_s1_schema.validate(df_ts)"
   ]
  }
 ],
 "metadata": {
  "kernelspec": {
   "display_name": "dist-s1-enumerator",
   "language": "python",
   "name": "dist-s1-enumerator"
  },
  "language_info": {
   "codemirror_mode": {
    "name": "ipython",
    "version": 3
   },
   "file_extension": ".py",
   "mimetype": "text/x-python",
   "name": "python",
   "nbconvert_exporter": "python",
   "pygments_lexer": "ipython3",
   "version": "3.13.3"
  }
 },
 "nbformat": 4,
 "nbformat_minor": 5
}
