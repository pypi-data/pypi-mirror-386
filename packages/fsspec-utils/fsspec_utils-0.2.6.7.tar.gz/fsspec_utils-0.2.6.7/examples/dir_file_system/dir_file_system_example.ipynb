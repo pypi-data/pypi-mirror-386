{
 "cells": [
  {
   "cell_type": "markdown",
   "metadata": {},
   "source": [
    "# DirFileSystem Examples with fsspec-utils\n",
    "\n",
    "This notebook demonstrates how to use the DirFileSystem functionality with fsspec-utils for both S3 and local paths."
   ]
  },
  {
   "cell_type": "code",
   "execution_count": null,
   "metadata": {},
   "outputs": [],
   "source": [
    "from fsspec_utils import filesystem"
   ]
  },
  {
   "cell_type": "markdown",
   "metadata": {},
   "source": [
    "## DirFileSystem for S3\n",
    "\n",
    "Create Directory FileSystem instances for S3 paths."
   ]
  },
  {
   "cell_type": "code",
   "execution_count": null,
   "metadata": {},
   "outputs": [],
   "source": [
    "# S3 Directory FileSystem for my-bucket. dirfs=True is optional, as it is the default behavior for paths ending with a slash.\n",
    "# Replace \"my-bucket\" with your actual S3 bucket name.\n",
    "fs_dir_s3 = filesystem(\"s3://my-bucket\", dirfs=True)"
   ]
  },
  {
   "cell_type": "code",
   "execution_count": null,
   "metadata": {},
   "outputs": [],
   "source": [
    "# S3 Directory FileSystem with storage_options\n",
    "fs_dir_s3_so = filesystem(\"s3://my-bucket\", storage_options={\"key\": \"your_key\", \"secret\": \"your_secret\"})"
   ]
  },
  {
   "cell_type": "code",
   "execution_count": null,
   "metadata": {},
   "outputs": [],
   "source": [
    "print(f\"S3 DirFileSystem (default): {fs_dir_s3}\")\n",
    "print(f\"S3 DirFileSystem (with storage_options): {fs_dir_s3_so}\")"
   ]
  },
  {
   "cell_type": "markdown",
   "metadata": {},
   "source": [
    "## DirFileSystem for Local Path\n",
    "\n",
    "Create a Directory FileSystem instance for a local path."
   ]
  },
  {
   "cell_type": "code",
   "execution_count": null,
   "metadata": {},
   "outputs": [],
   "source": [
    "# Local Directory FileSystem.\n",
    "fs_dir_local = filesystem(\"./my_local_dir/\", dirfs=True)"
   ]
  },
  {
   "cell_type": "code",
   "execution_count": null,
   "metadata": {},
   "outputs": [],
   "source": [
    "print(f\"Local DirFileSystem: {fs_dir_local}\")"
   ]
  }
 ],
 "metadata": {
  "kernelspec": {
   "display_name": "Python 3",
   "language": "python",
   "name": "python3"
  },
  "language_info": {
   "name": "python",
   "version": "3.9.7"
  }
 },
 "nbformat": 4,
 "nbformat_minor": 5
}