{
 "cells": [
  {
   "cell_type": "markdown",
   "metadata": {},
   "source": [
    "# Working with Delta Lake DeltaTable using fsspec-utils\n",
    "\n",
    "This example demonstrates how to work with Delta Lake DeltaTable using fsspec-utils and StorageOptions.\n",
    "\n",
    "The example shows:\n",
    "1. Using StorageOptions with DeltaTable from deltalake\n",
    "2. Creating a DeltaTable instance from S3 with storage options"
   ]
  },
  {
   "cell_type": "code",
   "execution_count": null,
   "metadata": {},
   "outputs": [],
   "source": [
    "from deltalake import DeltaTable\n",
    "from fsspec_utils.storage_options import AwsStorageOptions\n",
    "\n",
    "# Create a StorageOptions object for S3 with a profile and allow_invalid_certificates\n",
    "# This object can then be passed to libraries that accept fsspec-compatible storage options.\n",
    "so_s3_polars = AwsStorageOptions.create(profile=\"lodl\", allow_invalid_certificates=True)\n",
    "\n",
    "# Create a DeltaTable instance from S3, passing storage options\n",
    "dt_delta = DeltaTable(\"s3://pu1/aumann/process_monitoring/results_delta\", storage_options=so_s3_polars.to_object_store_kwargs())\n",
    "dt_delta.file_uris()"
   ]
  }
 ],
 "metadata": {
  "kernelspec": {
   "display_name": "Python 3",
   "language": "python",
   "name": "python3"
  },
  "language_info": {
   "name": "python",
   "version": "3.9.0"
  }
 },
 "nbformat": 4,
 "nbformat_minor": 4
}