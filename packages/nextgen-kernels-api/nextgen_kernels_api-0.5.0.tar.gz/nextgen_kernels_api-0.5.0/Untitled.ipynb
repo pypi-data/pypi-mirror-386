{
 "cells": [
  {
   "cell_type": "code",
   "execution_count": 1,
   "id": "98dd6844-2997-4c62-92ce-ec94e897e23d",
   "metadata": {
    "execution": {
     "iopub.execute_input": "2025-10-23T15:56:49.970895Z",
     "iopub.status.busy": "2025-10-23T15:56:49.970358Z",
     "iopub.status.idle": "2025-10-23T15:56:49.984290Z",
     "shell.execute_reply": "2025-10-23T15:56:49.982814Z",
     "shell.execute_reply.started": "2025-10-23T15:56:49.970852Z"
    }
   },
   "outputs": [
    {
     "data": {
      "text/plain": [
       "4"
      ]
     },
     "execution_count": 1,
     "metadata": {},
     "output_type": "execute_result"
    }
   ],
   "source": [
    "2+2"
   ]
  },
  {
   "cell_type": "code",
   "execution_count": null,
   "id": "b222dc1d-c6aa-4a6b-a439-1b32f41748af",
   "metadata": {},
   "outputs": [],
   "source": []
  }
 ],
 "metadata": {
  "kernelspec": {
   "display_name": "Python 3 (ipykernel)",
   "language": "python",
   "name": "python3"
  },
  "language_info": {
   "codemirror_mode": {
    "name": "ipython",
    "version": 3
   },
   "file_extension": ".py",
   "mimetype": "text/x-python",
   "name": "python",
   "nbconvert_exporter": "python",
   "pygments_lexer": "ipython3",
   "version": "3.12.12"
  }
 },
 "nbformat": 4,
 "nbformat_minor": 5
}
