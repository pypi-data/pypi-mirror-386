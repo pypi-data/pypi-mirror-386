{
 "cells": [
  {
   "cell_type": "code",
   "execution_count": null,
   "id": "a118ceb4-8dcf-440b-8b43-bab952b48eb8",
   "metadata": {},
   "outputs": [],
   "source": [
    "import logging\n",
    "\n",
    "import numpy as np\n",
    "\n",
    "from linkmotion.visual import RobotVisualizer, MoveVisualizer, CollisionVisualizer\n",
    "from linkmotion import Robot, MoveManager, Link, Transform, CollisionManager\n",
    "\n",
    "logging.basicConfig(level=logging.DEBUG)"
   ]
  },
  {
   "cell_type": "markdown",
   "id": "xl1p774jb8j",
   "metadata": {},
   "source": [
    "## Load Robot from URDF File\n",
    "\n",
    "Next, we'll load a robot model from a URDF file. The URDF format defines the robot's structure, including links, joints, and visual geometry:"
   ]
  },
  {
   "cell_type": "markdown",
   "id": "bpe3ajyuuph",
   "metadata": {},
   "source": [
    "# URDF Robot Visualization Demo\n",
    "\n",
    "This notebook demonstrates how to load, visualize, and manipulate robots defined in URDF (Unified Robot Description Format) files using the LinkMotion library.\n",
    "\n",
    "## Import Required Libraries\n",
    "\n",
    "First, we'll import the necessary modules for robot visualization and motion management:"
   ]
  },
  {
   "cell_type": "code",
   "execution_count": null,
   "id": "6e3e5fc3-3bdc-4a32-8412-7b99d3c1a73a",
   "metadata": {},
   "outputs": [],
   "source": [
    "robot = Robot.from_urdf_file(\"../../models/toy_model/toy_model.urdf\")"
   ]
  },
  {
   "cell_type": "markdown",
   "id": "76ero7dt7nh",
   "metadata": {},
   "source": [
    "## Visualize the Robot\n",
    "\n",
    "Now we'll create a 3D visualization of the robot in its default pose. This shows the robot's structure with all joints at their default positions:"
   ]
  },
  {
   "cell_type": "code",
   "execution_count": null,
   "id": "db02cc49",
   "metadata": {},
   "outputs": [],
   "source": [
    "RobotVisualizer.robot(robot)"
   ]
  },
  {
   "cell_type": "markdown",
   "id": "c4bfc6ec",
   "metadata": {},
   "source": [
    "## Output Example\n",
    "![OutputExample](./img/import_export/import_export1.png)"
   ]
  },
  {
   "cell_type": "markdown",
   "id": "ffex4ct8h9a",
   "metadata": {},
   "source": [
    "## Robot Motion Control\n",
    "\n",
    "Let's explore the robot's joints and create some movement. We'll use the `MoveManager` to control joint positions and visualize the resulting configuration:"
   ]
  },
  {
   "cell_type": "code",
   "execution_count": null,
   "id": "b5771afa",
   "metadata": {},
   "outputs": [],
   "source": [
    "mm = MoveManager(robot)\n",
    "for joint in robot.joints():\n",
    "    print(joint)\n",
    "\n",
    "mm.move(\"base_to_torso\", -np.pi / 4)\n",
    "mm.move(\"torso_to_upper_arm\", 0.15)\n",
    "mm.move(\"upper_arm_to_forearm\", -np.pi / 3)\n",
    "MoveVisualizer.robot(mm)"
   ]
  },
  {
   "cell_type": "markdown",
   "id": "ce677451",
   "metadata": {},
   "source": [
    "## Output Example\n",
    "![OutputExample](./img/import_export/import_export2.png)"
   ]
  },
  {
   "cell_type": "markdown",
   "id": "6b00b908",
   "metadata": {},
   "source": [
    "## Robot Modification\n",
    "\n",
    "Let's modify robot creating an obstacle:"
   ]
  },
  {
   "cell_type": "code",
   "execution_count": null,
   "id": "790328bf",
   "metadata": {},
   "outputs": [],
   "source": [
    "tf = Transform(translate=np.array([0.3, 0, 0]))\n",
    "obstacle_capsule = Link.from_capsule(\n",
    "    \"obstacle_capsule\", 0.05, 0.3, tf, np.array([1, 1, 0, 0.5])\n",
    ")\n",
    "tf = Transform(translate=np.array([0, 0.2, 0.15]))\n",
    "obstacle_cone = Link.from_cone(\"obstacle_cone\", 0.05, 0.3, tf, np.array([1, 0, 1, 0.5]))\n",
    "robot.add_link(obstacle_capsule)\n",
    "robot.add_link(obstacle_cone)\n",
    "RobotVisualizer.robot(robot)"
   ]
  },
  {
   "cell_type": "markdown",
   "id": "63fa7a6e",
   "metadata": {},
   "source": [
    "## Output Example\n",
    "![OutputExample](./img/import_export/import_export3.png)"
   ]
  },
  {
   "cell_type": "markdown",
   "id": "11c57d1b",
   "metadata": {},
   "source": [
    "## Collision Check"
   ]
  },
  {
   "cell_type": "code",
   "execution_count": null,
   "id": "7effef60",
   "metadata": {},
   "outputs": [],
   "source": [
    "mm = MoveManager(robot)\n",
    "cm = CollisionManager(mm)\n",
    "plot = MoveVisualizer.robot(mm)\n",
    "plot = CollisionVisualizer.distance_points(\n",
    "    cm,\n",
    "    {\"obstacle_capsule\", \"obstacle_cone\"},\n",
    "    {\"hand_link\"},\n",
    "    plot=plot,\n",
    "    point_size=0.05,\n",
    "    width=0.005,\n",
    ")\n",
    "plot.display()"
   ]
  },
  {
   "cell_type": "markdown",
   "id": "9bd3f1bf",
   "metadata": {},
   "source": [
    "## Output Example\n",
    "![OutputExample](./img/import_export/import_export4.png)"
   ]
  },
  {
   "cell_type": "markdown",
   "id": "506di51tmbm",
   "metadata": {},
   "source": [
    "## Export and Reload Robot\n",
    "\n",
    "Finally, we'll demonstrate how to export the robot back to a URDF file and reload it to verify the process works correctly:"
   ]
  },
  {
   "cell_type": "code",
   "execution_count": null,
   "id": "ca8e2702",
   "metadata": {},
   "outputs": [],
   "source": [
    "robot.to_urdf_file(\"../../models/toy_model/toy_model_exported.urdf\")\n",
    "robot = Robot.from_urdf_file(\"../../models/toy_model/toy_model_exported.urdf\")\n",
    "RobotVisualizer.robot(robot)"
   ]
  },
  {
   "cell_type": "markdown",
   "id": "9f37e874",
   "metadata": {},
   "source": [
    "## Output Example\n",
    "![OutputExample](./img/import_export/import_export3.png)"
   ]
  },
  {
   "cell_type": "markdown",
   "id": "ea515e1d",
   "metadata": {},
   "source": [
    "## Collision Check"
   ]
  },
  {
   "cell_type": "code",
   "execution_count": null,
   "id": "d4681c9d",
   "metadata": {},
   "outputs": [],
   "source": [
    "mm = MoveManager(robot)\n",
    "cm = CollisionManager(mm)\n",
    "plot = MoveVisualizer.robot(mm)\n",
    "plot = CollisionVisualizer.distance_points(\n",
    "    cm,\n",
    "    {\"obstacle_capsule\", \"obstacle_cone\"},\n",
    "    {\"hand_link\"},\n",
    "    plot=plot,\n",
    "    point_size=0.05,\n",
    "    width=0.005,\n",
    ")\n",
    "plot.display()"
   ]
  },
  {
   "cell_type": "markdown",
   "id": "e509a652",
   "metadata": {},
   "source": [
    "## Output Example\n",
    "![OutputExample](./img/import_export/import_export4.png)"
   ]
  },
  {
   "cell_type": "markdown",
   "id": "5aaf2514",
   "metadata": {},
   "source": []
  }
 ],
 "metadata": {
  "kernelspec": {
   "display_name": "linkmotion",
   "language": "python",
   "name": "python3"
  },
  "language_info": {
   "codemirror_mode": {
    "name": "ipython",
    "version": 3
   },
   "file_extension": ".py",
   "mimetype": "text/x-python",
   "name": "python",
   "nbconvert_exporter": "python",
   "pygments_lexer": "ipython3",
   "version": "3.12.0"
  }
 },
 "nbformat": 4,
 "nbformat_minor": 5
}
