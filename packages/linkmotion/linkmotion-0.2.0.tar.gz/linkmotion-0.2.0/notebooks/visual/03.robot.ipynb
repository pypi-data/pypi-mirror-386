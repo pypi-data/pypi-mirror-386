{
 "cells": [
  {
   "cell_type": "markdown",
   "id": "477gcerr2ha",
   "metadata": {},
   "source": [
    "# Robot Visualization Demo\n",
    "\n",
    "This notebook demonstrates basic robot visualization capabilities using the LinkMotion library's `RobotVisualizer` class.\n",
    "\n",
    "## Overview\n",
    "This notebook covers:\n",
    "1. **Individual Link Visualization**: Rendering single robot components\n",
    "2. **Complete Robot Visualization**: Displaying entire robot structures\n",
    "3. **Joint Visualization**: Showing joint axes and constraints\n",
    "4. **Combined Visualizations**: Overlaying joints on robot models\n",
    "\n",
    "## Key Features\n",
    "- Various link geometries (spheres, boxes, cylinders, cones, capsules)\n",
    "- Joint visualization with directional indicators\n",
    "- Transparency and opacity controls\n",
    "- 3D interactive visualization\n",
    "\n",
    "Let's start by importing the required libraries:"
   ]
  },
  {
   "cell_type": "code",
   "execution_count": null,
   "id": "a118ceb4-8dcf-440b-8b43-bab952b48eb8",
   "metadata": {},
   "outputs": [],
   "source": [
    "import numpy as np\n",
    "from scipy.spatial.transform import Rotation as R\n",
    "\n",
    "from linkmotion.visual import RobotVisualizer\n",
    "from linkmotion import Robot, Link, Joint, JointType, Transform"
   ]
  },
  {
   "cell_type": "markdown",
   "id": "l03fsm0f0u",
   "metadata": {},
   "source": [
    "## Individual Link Visualization\n",
    "\n",
    "This example shows how to visualize a single robot link (sphere) with custom color and transparency:"
   ]
  },
  {
   "cell_type": "code",
   "execution_count": null,
   "id": "1a60aa47-4386-481d-adcf-8546c1684eb3",
   "metadata": {},
   "outputs": [],
   "source": [
    "link = Link.from_sphere(\"sphere\", 10, color=np.array((1, 0, 0, 0.5)))\n",
    "RobotVisualizer.link(link)"
   ]
  },
  {
   "cell_type": "markdown",
   "id": "5717338b",
   "metadata": {},
   "source": [
    "## Output Example\n",
    "![OutputExample](./img/robot/robot1.png)"
   ]
  },
  {
   "cell_type": "markdown",
   "id": "8eb72883",
   "metadata": {},
   "source": [
    "## Complete Robot Construction\n",
    "\n",
    "Here we build a humanoid robot with multiple links and joints:"
   ]
  },
  {
   "cell_type": "code",
   "execution_count": null,
   "id": "725a1e4b-3090-4347-b92a-264d84cf5669",
   "metadata": {},
   "outputs": [],
   "source": [
    "humanoid = Robot()\n",
    "\n",
    "body = Link.from_box(\"body\", extents=np.array((3, 2, 10)))\n",
    "\n",
    "t = Transform(\n",
    "    rotate=R.from_rotvec(90.0 * np.array((0, 1, 0)), degrees=True),\n",
    "    translate=np.array((4, 0, 3)),\n",
    ")\n",
    "right_arm = Link.from_cylinder(\"right_arm\", radius=0.5, height=5, default_transform=t)\n",
    "\n",
    "t = Transform(\n",
    "    rotate=R.from_rotvec(90.0 * np.array((0, 1, 0)), degrees=True),\n",
    "    translate=np.array((-4, 0, 3)),\n",
    ")\n",
    "left_arm = Link.from_cylinder(\"left_arm\", radius=0.5, height=5, default_transform=t)\n",
    "\n",
    "t = Transform(\n",
    "    rotate=R.from_rotvec(180.0 * np.array((0, 1, 0)), degrees=True),\n",
    "    translate=np.array((1, 0, -8)),\n",
    ")\n",
    "right_leg = Link.from_cone(\"right_leg\", radius=0.5, height=6, default_transform=t)\n",
    "\n",
    "t = Transform(\n",
    "    rotate=R.from_rotvec(180.0 * np.array((0, 1, 0)), degrees=True),\n",
    "    translate=np.array((-1, 0, -8)),\n",
    ")\n",
    "left_leg = Link.from_cone(\"left_leg\", radius=0.5, height=6, default_transform=t)\n",
    "\n",
    "t = Transform(translate=np.array((0, 0, -5)))\n",
    "head = Link.from_sphere(\"head\", 3, center=np.array((0, 0, 8)))\n",
    "\n",
    "left_leg_joint = Joint(\n",
    "    \"left_leg_joint\",\n",
    "    JointType.REVOLUTE,\n",
    "    child_link_name=\"left_leg\",\n",
    "    parent_link_name=\"body\",\n",
    "    center=np.array((-1, 0, -5)),\n",
    "    direction=np.array((1, 0, 0)),\n",
    "    min_=-np.pi / 4.0,\n",
    "    max_=np.pi / 4.0,\n",
    ")\n",
    "\n",
    "humanoid.add_link(body)\n",
    "humanoid.add_link(right_arm)\n",
    "humanoid.add_link(left_arm)\n",
    "humanoid.add_link(right_leg)\n",
    "humanoid.add_link(left_leg)\n",
    "humanoid.add_link(head)\n",
    "humanoid.add_joint(left_leg_joint)"
   ]
  },
  {
   "cell_type": "markdown",
   "id": "bcy36p9txoo",
   "metadata": {},
   "source": [
    "## Complete Robot Visualization\n",
    "\n",
    "Display the entire robot structure:"
   ]
  },
  {
   "cell_type": "code",
   "execution_count": null,
   "id": "a00abd4d-5ad1-4887-9687-5f6843bdec71",
   "metadata": {},
   "outputs": [],
   "source": [
    "RobotVisualizer.robot(humanoid)"
   ]
  },
  {
   "cell_type": "markdown",
   "id": "461a837b",
   "metadata": {},
   "source": [
    "## Output Example\n",
    "![OutputExample](./img/robot/robot2.png)"
   ]
  },
  {
   "cell_type": "markdown",
   "id": "yew4u122lz",
   "metadata": {},
   "source": [
    "## Joint Visualization with Robot Overlay\n",
    "\n",
    "This example shows how to visualize joint axes and constraints overlaid on a semi-transparent robot:"
   ]
  },
  {
   "cell_type": "code",
   "execution_count": null,
   "id": "e7db6a72-3480-435a-b18b-556814f96ffa",
   "metadata": {},
   "outputs": [],
   "source": [
    "plot = RobotVisualizer.joint(left_leg_joint, helper_length=5, width=0.1, point_size=0.5)\n",
    "plot = RobotVisualizer.robot(humanoid, plot=plot, opacity=0.5)\n",
    "plot.display()"
   ]
  },
  {
   "cell_type": "markdown",
   "id": "8c78c31c",
   "metadata": {},
   "source": [
    "## Output Example\n",
    "![OutputExample](./img/robot/robot3.png)"
   ]
  },
  {
   "cell_type": "code",
   "execution_count": null,
   "id": "6e3e5fc3-3bdc-4a32-8412-7b99d3c1a73a",
   "metadata": {},
   "outputs": [],
   "source": []
  }
 ],
 "metadata": {
  "kernelspec": {
   "display_name": "linkmotion",
   "language": "python",
   "name": "python3"
  },
  "language_info": {
   "codemirror_mode": {
    "name": "ipython",
    "version": 3
   },
   "file_extension": ".py",
   "mimetype": "text/x-python",
   "name": "python",
   "nbconvert_exporter": "python",
   "pygments_lexer": "ipython3",
   "version": "3.12.0"
  }
 },
 "nbformat": 4,
 "nbformat_minor": 5
}
