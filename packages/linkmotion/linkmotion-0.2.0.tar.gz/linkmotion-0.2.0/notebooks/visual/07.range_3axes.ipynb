{
 "cells": [
  {
   "cell_type": "markdown",
   "id": "2ccxqjsm467",
   "metadata": {},
   "source": [
    "# Robot Range Calculation - 3D Analysis\n",
    "\n",
    "This notebook demonstrates advanced range calculation and visualization for a robot's working space using three joint axes.\n",
    "\n",
    "## Overview\n",
    "This example showcases:\n",
    "1. **3D Robot Range Analysis**: Computing collision-free configurations across a 3-dimensional joint parameter space\n",
    "2. **3D Range Visualization**: Interactive 3D plotting of valid vs. invalid joint combinations\n",
    "3. **Multi-Joint Analysis**: Analyzing complex interactions between multiple joint parameters\n",
    "\n",
    "## Key Components\n",
    "- `RangeCalculator`: Computes collision-free working space for specified robot joints\n",
    "- `MoveManager`: Controls robot joint movements for visualization\n",
    "- `RobotVisualizer` & `MoveVisualizer`: Display robot configurations\n",
    "\n",
    "## Analysis Setup\n",
    "- **Robot**: Simple 3-link robot with revolute and prismatic joints\n",
    "- **Target Links**: Hand and finger links (parts we want to keep collision-free)\n",
    "- **Obstacle Links**: Obstacle link (environment constraint)\n",
    "- **Axes**: Three joint parameters (revolute_joint, prismatic_joint, prismatic_joint2)\n",
    "\n",
    "## Expected Results\n",
    "The 3D range plot will show valid operating volumes in the joint parameter space, providing comprehensive collision analysis for complex robot motions.\n",
    "\n",
    "Let's start by setting up logging and importing libraries:"
   ]
  },
  {
   "cell_type": "code",
   "execution_count": null,
   "id": "f1765524",
   "metadata": {},
   "outputs": [],
   "source": [
    "import logging\n",
    "\n",
    "import numpy as np\n",
    "\n",
    "from linkmotion.visual import RobotVisualizer, MoveVisualizer\n",
    "from linkmotion import (\n",
    "    Robot,\n",
    "    Link,\n",
    "    Joint,\n",
    "    JointType,\n",
    "    Transform,\n",
    "    MoveManager,\n",
    ")\n",
    "from linkmotion.range.range import RangeCalculator\n",
    "\n",
    "logging.basicConfig(level=logging.DEBUG)"
   ]
  },
  {
   "cell_type": "markdown",
   "id": "4bed0839",
   "metadata": {},
   "source": [
    "## Robot Definition Function\n",
    "\n",
    "Creating a simple test robot with multiple joint types and an obstacle:"
   ]
  },
  {
   "cell_type": "code",
   "execution_count": null,
   "id": "45aa0ae2",
   "metadata": {},
   "outputs": [],
   "source": [
    "def simple_robot():\n",
    "    \"\"\"Creates a simple robot with two joints for testing.\"\"\"\n",
    "    robot = Robot()\n",
    "\n",
    "    base_link = Link.from_sphere(\n",
    "        name=\"base_link\", radius=0.1, center=np.array([0, 0, 0])\n",
    "    )\n",
    "    arm_link = Link.from_cylinder(\n",
    "        name=\"arm_link\",\n",
    "        radius=0.1,\n",
    "        height=1.0,\n",
    "        default_transform=Transform(translate=np.array([0, 0, 0.5])),\n",
    "    )\n",
    "    hand_link = Link.from_box(\n",
    "        name=\"hand_link\",\n",
    "        extents=np.array([0.1, 0.1, 0.1]),\n",
    "        default_transform=Transform(translate=np.array([0, 0, 1.0])),\n",
    "        color=np.array([0, 1, 0, 1]),\n",
    "    )\n",
    "    finger_link = Link.from_box(\n",
    "        name=\"finger_link\",\n",
    "        extents=np.array([0.05, 0.05, 0.1]),\n",
    "        default_transform=Transform(translate=np.array([0, 0, 1.1])),\n",
    "        color=np.array([1, 0, 0, 1]),\n",
    "    )\n",
    "    obstacle_link = Link.from_box(\n",
    "        name=\"obstacle_link\",\n",
    "        extents=np.array([10, 10, 0.1]),\n",
    "        default_transform=Transform(translate=np.array([0, 0, 1.5])),\n",
    "    )\n",
    "\n",
    "    revolute_joint = Joint(\n",
    "        name=\"revolute_joint\",\n",
    "        type=JointType.REVOLUTE,\n",
    "        parent_link_name=\"base_link\",\n",
    "        child_link_name=\"arm_link\",\n",
    "        direction=np.array([1, 0, 0]),\n",
    "        center=np.array([0, 0, 0.0]),\n",
    "        min_=-np.pi / 2,\n",
    "        max_=np.pi / 2,\n",
    "    )\n",
    "\n",
    "    prismatic_joint = Joint(\n",
    "        name=\"prismatic_joint\",\n",
    "        type=JointType.PRISMATIC,\n",
    "        parent_link_name=\"arm_link\",\n",
    "        child_link_name=\"hand_link\",\n",
    "        direction=np.array([0, 1, 0]),\n",
    "        center=np.array([0, 0, 1.0]),\n",
    "        min_=-10,\n",
    "        max_=10,\n",
    "    )\n",
    "\n",
    "    prismatic_joint2 = Joint(\n",
    "        name=\"prismatic_joint2\",\n",
    "        type=JointType.PRISMATIC,\n",
    "        parent_link_name=\"hand_link\",\n",
    "        child_link_name=\"finger_link\",\n",
    "        direction=np.array([0, 0, 1]),\n",
    "        center=np.array([0, 0, 1.1]),\n",
    "        min_=-10,\n",
    "        max_=10,\n",
    "    )\n",
    "\n",
    "    robot.add_link(base_link)\n",
    "    robot.add_link(arm_link)\n",
    "    robot.add_link(hand_link)\n",
    "    robot.add_link(finger_link)\n",
    "    robot.add_link(obstacle_link)\n",
    "    robot.add_joint(revolute_joint)\n",
    "    robot.add_joint(prismatic_joint)\n",
    "    robot.add_joint(prismatic_joint2)\n",
    "\n",
    "    return robot\n",
    "\n",
    "\n",
    "robot = simple_robot()"
   ]
  },
  {
   "cell_type": "markdown",
   "id": "d65c0755",
   "metadata": {},
   "source": [
    "## Default Robot Visualization\n",
    "\n",
    "Displaying the robot in its default configuration:"
   ]
  },
  {
   "cell_type": "code",
   "execution_count": null,
   "id": "eecabffa",
   "metadata": {},
   "outputs": [],
   "source": [
    "RobotVisualizer.robot(robot)"
   ]
  },
  {
   "cell_type": "markdown",
   "id": "6fda3860",
   "metadata": {},
   "source": [
    "## Output Example\n",
    "![OutputExample](./img/range_2axes/range_2axes1.png)"
   ]
  },
  {
   "cell_type": "markdown",
   "id": "0612e296",
   "metadata": {},
   "source": [
    "## Sample Robot Configuration\n",
    "\n",
    "Demonstrating joint movement and visualization:"
   ]
  },
  {
   "cell_type": "code",
   "execution_count": null,
   "id": "7f0d74a7",
   "metadata": {},
   "outputs": [],
   "source": [
    "mm = MoveManager(robot)\n",
    "mm.move(\"revolute_joint\", np.pi / 4)\n",
    "mm.move(\"prismatic_joint\", 0.5)\n",
    "MoveVisualizer.robot(mm)"
   ]
  },
  {
   "cell_type": "markdown",
   "id": "34fa415f",
   "metadata": {},
   "source": [
    "## Output Example\n",
    "![OutputExample](./img/range_2axes/range_2axes2.png)"
   ]
  },
  {
   "cell_type": "markdown",
   "id": "37s9wxqb5hp",
   "metadata": {},
   "source": [
    "## Range Calculation - 3D Analysis\n",
    "\n",
    "Computing the collision-free working space for three joint parameters (higher resolution analysis):"
   ]
  },
  {
   "cell_type": "code",
   "execution_count": null,
   "id": "8bfd3747",
   "metadata": {},
   "outputs": [],
   "source": [
    "calculator = RangeCalculator(\n",
    "    simple_robot(), {\"hand_link\", \"finger_link\"}, {\"obstacle_link\"}\n",
    ")\n",
    "calculator.add_axis(\"revolute_joint\", np.linspace(-np.pi / 2, np.pi / 2, 40))\n",
    "calculator.add_axis(\"prismatic_joint\", np.linspace(-3, 3, 60))\n",
    "calculator.add_axis(\"prismatic_joint2\", np.linspace(-1, 1, 50))\n",
    "calculator.execute()"
   ]
  },
  {
   "cell_type": "markdown",
   "id": "cdwc3at00qw",
   "metadata": {},
   "source": [
    "## 3D Range Visualization Plot\n",
    "\n",
    "Displaying the interactive 3D range plot showing collision-free volumes in joint parameter space:"
   ]
  },
  {
   "cell_type": "code",
   "execution_count": null,
   "id": "505258aa",
   "metadata": {},
   "outputs": [],
   "source": [
    "calculator.plot()"
   ]
  },
  {
   "cell_type": "markdown",
   "id": "5cff07a9",
   "metadata": {},
   "source": [
    "## Output Example\n",
    "![OutputExample](./img/range_3axes/range_3axes1.png)"
   ]
  },
  {
   "cell_type": "markdown",
   "id": "wpp71h192t8",
   "metadata": {},
   "source": [
    "## Specific 3D Configuration Test\n",
    "\n",
    "Testing a specific point from the 3D range plot to verify collision-free operation with all three joints:"
   ]
  },
  {
   "cell_type": "code",
   "execution_count": null,
   "id": "5d84f340",
   "metadata": {},
   "outputs": [],
   "source": [
    "mm = MoveManager(robot)\n",
    "mm.move(\"revolute_joint\", 0.36)\n",
    "mm.move(\"prismatic_joint\", 0.76)\n",
    "mm.move(\"prismatic_joint2\", 0.3)\n",
    "MoveVisualizer.robot(mm)"
   ]
  },
  {
   "cell_type": "markdown",
   "id": "09d12152",
   "metadata": {},
   "source": [
    "## Output Example\n",
    "![OutputExample](./img/range_2axes/range_2axes4.png)"
   ]
  },
  {
   "cell_type": "code",
   "execution_count": null,
   "id": "b0c4d289",
   "metadata": {},
   "outputs": [],
   "source": []
  }
 ],
 "metadata": {
  "kernelspec": {
   "display_name": "linkmotion",
   "language": "python",
   "name": "python3"
  },
  "language_info": {
   "codemirror_mode": {
    "name": "ipython",
    "version": 3
   },
   "file_extension": ".py",
   "mimetype": "text/x-python",
   "name": "python",
   "nbconvert_exporter": "python",
   "pygments_lexer": "ipython3",
   "version": "3.12.0"
  }
 },
 "nbformat": 4,
 "nbformat_minor": 5
}
