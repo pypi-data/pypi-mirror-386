{
 "cells": [
  {
   "cell_type": "markdown",
   "id": "1welv231xon",
   "metadata": {},
   "source": [
    "# Robot Movement and Animation Demo\n",
    "\n",
    "This notebook demonstrates how to create, manipulate, and animate robot movements using the LinkMotion library.\n",
    "\n",
    "## Overview\n",
    "This example showcases:\n",
    "1. **Robot Construction**: Building a humanoid robot with multiple links and joints\n",
    "2. **Joint Movement**: Moving individual joints and visualizing the results\n",
    "3. **Animation**: Creating smooth animations of robot movements over time\n",
    "\n",
    "## Key Components\n",
    "- `Robot`: The main robot structure\n",
    "- `Link`: Individual robot parts (body, arms, legs, head)\n",
    "- `Joint`: Connections between links with movement constraints\n",
    "- `MoveManager`: Handles robot joint movements\n",
    "- `MoveVisualizer`: Renders robot states and animations\n",
    "\n",
    "## Robot Structure\n",
    "The humanoid robot includes:\n",
    "- Body (box shape)\n",
    "- Left and right arms (cylinders)\n",
    "- Left and right legs (cones)\n",
    "- Head (sphere)\n",
    "- Left foot (capsule)\n",
    "- Joints connecting body to left leg and left leg to foot\n",
    "\n",
    "Let's start by importing the required libraries:"
   ]
  },
  {
   "cell_type": "code",
   "execution_count": null,
   "id": "71e716ae-deba-40dd-acfd-0d8b9f74bb98",
   "metadata": {},
   "outputs": [],
   "source": [
    "import numpy as np\n",
    "from scipy.spatial.transform import Rotation as R\n",
    "\n",
    "from linkmotion.visual import MoveVisualizer\n",
    "from linkmotion import Robot, Link, Joint, JointType, Transform, MoveManager"
   ]
  },
  {
   "cell_type": "markdown",
   "id": "06ed3769",
   "metadata": {},
   "source": [
    "## Robot Definition\n",
    "\n",
    "Here we construct a complete humanoid robot with multiple links and joints:"
   ]
  },
  {
   "cell_type": "code",
   "execution_count": null,
   "id": "bda9f588-439a-4efd-bfc1-28ff179360bc",
   "metadata": {},
   "outputs": [],
   "source": [
    "humanoid = Robot()\n",
    "\n",
    "body = Link.from_box(\"body\", extents=np.array((3, 2, 10)))\n",
    "\n",
    "t = Transform(\n",
    "    rotate=R.from_rotvec(90.0 * np.array((0, 1, 0)), degrees=True),\n",
    "    translate=np.array((4, 0, 3)),\n",
    ")\n",
    "right_arm = Link.from_cylinder(\"right_arm\", radius=0.5, height=5, default_transform=t)\n",
    "\n",
    "t = Transform(\n",
    "    rotate=R.from_rotvec(90.0 * np.array((0, 1, 0)), degrees=True),\n",
    "    translate=np.array((-4, 0, 3)),\n",
    ")\n",
    "left_arm = Link.from_cylinder(\"left_arm\", radius=0.5, height=5, default_transform=t)\n",
    "\n",
    "t = Transform(\n",
    "    rotate=R.from_rotvec(180.0 * np.array((0, 1, 0)), degrees=True),\n",
    "    translate=np.array((1, 0, -8)),\n",
    ")\n",
    "right_leg = Link.from_cone(\"right_leg\", radius=0.5, height=6, default_transform=t)\n",
    "\n",
    "t = Transform(\n",
    "    rotate=R.from_rotvec(180.0 * np.array((0, 1, 0)), degrees=True),\n",
    "    translate=np.array((-1, 0, -8)),\n",
    ")\n",
    "left_leg = Link.from_cone(\"left_leg\", radius=0.5, height=6, default_transform=t)\n",
    "\n",
    "t = Transform(\n",
    "    rotate=R.from_rotvec(180.0 * np.array((0, 1, 0)), degrees=True),\n",
    "    translate=np.array((-1, 0, -10.5)),\n",
    ")\n",
    "left_foot = Link.from_capsule(\"left_foot\", radius=0.5, height=0.2, default_transform=t)\n",
    "\n",
    "t = Transform(translate=np.array((0, 0, -5)))\n",
    "head = Link.from_sphere(\"head\", 3, center=np.array((0, 0, 8)))\n",
    "\n",
    "left_leg_joint = Joint(\n",
    "    \"left_leg_joint\",\n",
    "    JointType.REVOLUTE,\n",
    "    child_link_name=\"left_leg\",\n",
    "    parent_link_name=\"body\",\n",
    "    center=np.array((-1, 0, -5)),\n",
    "    direction=np.array((1, 0, 0)),\n",
    "    min_=-np.pi / 2.0,\n",
    "    max_=np.pi / 2.0,\n",
    ")\n",
    "\n",
    "left_foot_joint = Joint(\n",
    "    \"left_foot_joint\",\n",
    "    JointType.REVOLUTE,\n",
    "    child_link_name=\"left_foot\",\n",
    "    parent_link_name=\"left_leg\",\n",
    "    center=np.array((-1, 0, -10.5)),\n",
    "    direction=np.array((1, 0, 0)),\n",
    "    min_=-np.pi / 2.0,\n",
    "    max_=np.pi / 2.0,\n",
    ")\n",
    "\n",
    "humanoid.add_link(body)\n",
    "humanoid.add_link(right_arm)\n",
    "humanoid.add_link(left_arm)\n",
    "humanoid.add_link(right_leg)\n",
    "humanoid.add_link(left_leg)\n",
    "humanoid.add_link(head)\n",
    "humanoid.add_link(left_foot)\n",
    "humanoid.add_joint(left_leg_joint)\n",
    "humanoid.add_joint(left_foot_joint)\n",
    "\n",
    "mm = MoveManager(humanoid)"
   ]
  },
  {
   "cell_type": "markdown",
   "id": "uro9mn63d0s",
   "metadata": {},
   "source": [
    "## Single Joint Movement\n",
    "\n",
    "This example shows how to move a single joint and visualize the robot's new configuration:"
   ]
  },
  {
   "cell_type": "code",
   "execution_count": null,
   "id": "c8339ee1-3c3f-45bb-8718-aed5980885da",
   "metadata": {},
   "outputs": [],
   "source": [
    "mm.move(joint_name=\"left_leg_joint\", value=-np.pi / 3.0)\n",
    "plot = MoveVisualizer.robot(mm)\n",
    "plot = MoveVisualizer.joint(mm, \"left_leg_joint\", plot=plot)\n",
    "plot = MoveVisualizer.joint(mm, \"left_foot_joint\", plot=plot)\n",
    "plot.display()\n",
    "\n",
    "mm.reset_move()"
   ]
  },
  {
   "cell_type": "markdown",
   "id": "ba31909b",
   "metadata": {},
   "source": [
    "## Output Example\n",
    "![OutputExample](./img/move/move1.png)"
   ]
  },
  {
   "cell_type": "markdown",
   "id": "q2duhe9d4ij",
   "metadata": {},
   "source": [
    "## Animated Movement Sequence\n",
    "\n",
    "This creates a smooth animation showing the robot's movement over time with multiple joint positions:"
   ]
  },
  {
   "cell_type": "code",
   "execution_count": null,
   "id": "6fe93934-62e3-4838-b876-4b767956891c",
   "metadata": {},
   "outputs": [],
   "source": [
    "command_series = {\n",
    "    1.0: {\"left_leg_joint\": -np.pi / 12.0, \"left_foot_joint\": 0.0},\n",
    "    2.0: {\"left_leg_joint\": -np.pi / 9.0, \"left_foot_joint\": 0.0},\n",
    "    3.0: {\"left_leg_joint\": -np.pi / 6.0, \"left_foot_joint\": 0.0},\n",
    "    4.0: {\"left_leg_joint\": -np.pi / 3.0, \"left_foot_joint\": 0.0},\n",
    "    5.0: {\"left_leg_joint\": -np.pi / 2.0, \"left_foot_joint\": 0.0},\n",
    "    6.0: {\"left_leg_joint\": -np.pi / 2.0, \"left_foot_joint\": -np.pi / 2.0},\n",
    "}\n",
    "link_names = {link.name for link in humanoid.links()}\n",
    "MoveVisualizer.move(mm, command_series, set(link_names))\n",
    "# ↓ Animation"
   ]
  },
  {
   "cell_type": "markdown",
   "id": "392d12e2",
   "metadata": {},
   "source": [
    "## Output Example\n",
    "![OutputExample](./img/move/move2.png)"
   ]
  },
  {
   "cell_type": "code",
   "execution_count": null,
   "id": "251ca582",
   "metadata": {},
   "outputs": [],
   "source": []
  }
 ],
 "metadata": {
  "kernelspec": {
   "display_name": "linkmotion",
   "language": "python",
   "name": "python3"
  },
  "language_info": {
   "codemirror_mode": {
    "name": "ipython",
    "version": 3
   },
   "file_extension": ".py",
   "mimetype": "text/x-python",
   "name": "python",
   "nbconvert_exporter": "python",
   "pygments_lexer": "ipython3",
   "version": "3.13.2"
  }
 },
 "nbformat": 4,
 "nbformat_minor": 5
}
