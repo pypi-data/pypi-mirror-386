{
 "cells": [
  {
   "cell_type": "markdown",
   "id": "liqo0703jig",
   "metadata": {},
   "source": [
    "# Robot Range Calculation - 2D Analysis\n",
    "\n",
    "This notebook demonstrates range calculation and visualization for a robot's working space using two joint axes.\n",
    "\n",
    "## Overview\n",
    "This example showcases:\n",
    "1. **Robot Range Analysis**: Computing collision-free configurations across joint parameter space\n",
    "2. **2D Range Visualization**: Plotting valid vs. invalid joint combinations using 2 axes\n",
    "3. **Interactive Visualization**: Examining specific robot configurations from the range plot\n",
    "\n",
    "## Key Components\n",
    "- `RangeCalculator`: Computes collision-free working space for specified robot joints\n",
    "- `MoveManager`: Controls robot joint movements for visualization\n",
    "- `RobotVisualizer` & `MoveVisualizer`: Display robot configurations\n",
    "\n",
    "## Analysis Setup\n",
    "- **Robot**: Simple 3-link robot with revolute and prismatic joints\n",
    "- **Target Links**: Hand and finger links (parts we want to keep collision-free)\n",
    "- **Obstacle Links**: Obstacle link (environment constraint)\n",
    "- **Axes**: Two joint parameters (revolute_joint, prismatic_joint)\n",
    "\n",
    "## Expected Results\n",
    "The range plot will show green areas (collision-free) and red areas (collision zones), helping identify safe operating regions.\n",
    "\n",
    "Let's start by setting up logging and importing libraries:"
   ]
  },
  {
   "cell_type": "code",
   "execution_count": null,
   "id": "f1765524",
   "metadata": {},
   "outputs": [],
   "source": [
    "import logging\n",
    "\n",
    "import numpy as np\n",
    "\n",
    "from linkmotion.visual import RobotVisualizer, MoveVisualizer\n",
    "from linkmotion import (\n",
    "    Robot,\n",
    "    Link,\n",
    "    Joint,\n",
    "    JointType,\n",
    "    Transform,\n",
    "    MoveManager,\n",
    ")\n",
    "from linkmotion.range.range import RangeCalculator\n",
    "\n",
    "logging.basicConfig(level=logging.DEBUG)"
   ]
  },
  {
   "cell_type": "markdown",
   "id": "e8663497",
   "metadata": {},
   "source": [
    "## Robot Definition Function\n",
    "\n",
    "Creating a simple test robot with multiple joint types and an obstacle:"
   ]
  },
  {
   "cell_type": "code",
   "execution_count": null,
   "id": "45aa0ae2",
   "metadata": {},
   "outputs": [],
   "source": [
    "def simple_robot():\n",
    "    \"\"\"Creates a simple robot with two joints for testing.\"\"\"\n",
    "    robot = Robot()\n",
    "\n",
    "    base_link = Link.from_sphere(\n",
    "        name=\"base_link\", radius=0.1, center=np.array([0, 0, 0])\n",
    "    )\n",
    "    arm_link = Link.from_cylinder(\n",
    "        name=\"arm_link\",\n",
    "        radius=0.1,\n",
    "        height=1.0,\n",
    "        default_transform=Transform(translate=np.array([0, 0, 0.5])),\n",
    "    )\n",
    "    hand_link = Link.from_box(\n",
    "        name=\"hand_link\",\n",
    "        extents=np.array([0.1, 0.1, 0.1]),\n",
    "        default_transform=Transform(translate=np.array([0, 0, 1.0])),\n",
    "        color=np.array([0, 1, 0, 1]),\n",
    "    )\n",
    "    finger_link = Link.from_box(\n",
    "        name=\"finger_link\",\n",
    "        extents=np.array([0.05, 0.05, 0.1]),\n",
    "        default_transform=Transform(translate=np.array([0, 0, 1.1])),\n",
    "        color=np.array([1, 0, 0, 1]),\n",
    "    )\n",
    "    obstacle_link = Link.from_box(\n",
    "        name=\"obstacle_link\",\n",
    "        extents=np.array([10, 10, 0.1]),\n",
    "        default_transform=Transform(translate=np.array([0, 0, 1.5])),\n",
    "    )\n",
    "\n",
    "    revolute_joint = Joint(\n",
    "        name=\"revolute_joint\",\n",
    "        type=JointType.REVOLUTE,\n",
    "        parent_link_name=\"base_link\",\n",
    "        child_link_name=\"arm_link\",\n",
    "        direction=np.array([1, 0, 0]),\n",
    "        center=np.array([0, 0, 0.0]),\n",
    "        min_=-np.pi / 2,\n",
    "        max_=np.pi / 2,\n",
    "    )\n",
    "\n",
    "    prismatic_joint = Joint(\n",
    "        name=\"prismatic_joint\",\n",
    "        type=JointType.PRISMATIC,\n",
    "        parent_link_name=\"arm_link\",\n",
    "        child_link_name=\"hand_link\",\n",
    "        direction=np.array([0, 1, 0]),\n",
    "        center=np.array([0, 0, 1.0]),\n",
    "        min_=-10,\n",
    "        max_=10,\n",
    "    )\n",
    "\n",
    "    prismatic_joint2 = Joint(\n",
    "        name=\"prismatic_joint2\",\n",
    "        type=JointType.PRISMATIC,\n",
    "        parent_link_name=\"hand_link\",\n",
    "        child_link_name=\"finger_link\",\n",
    "        direction=np.array([0, 0, 1]),\n",
    "        center=np.array([0, 0, 1.1]),\n",
    "        min_=-10,\n",
    "        max_=10,\n",
    "    )\n",
    "\n",
    "    robot.add_link(base_link)\n",
    "    robot.add_link(arm_link)\n",
    "    robot.add_link(hand_link)\n",
    "    robot.add_link(finger_link)\n",
    "    robot.add_link(obstacle_link)\n",
    "    robot.add_joint(revolute_joint)\n",
    "    robot.add_joint(prismatic_joint)\n",
    "    robot.add_joint(prismatic_joint2)\n",
    "\n",
    "    return robot\n",
    "\n",
    "\n",
    "robot = simple_robot()"
   ]
  },
  {
   "cell_type": "markdown",
   "id": "8gcqmzhlhrc",
   "metadata": {},
   "source": [
    "## Default Robot Visualization\n",
    "\n",
    "Displaying the robot in its default configuration:"
   ]
  },
  {
   "cell_type": "code",
   "execution_count": null,
   "id": "eecabffa",
   "metadata": {},
   "outputs": [],
   "source": [
    "RobotVisualizer.robot(robot)"
   ]
  },
  {
   "cell_type": "markdown",
   "id": "678c159a",
   "metadata": {},
   "source": [
    "## Output Example\n",
    "![OutputExample](./img/range_2axes/range_2axes1.png)"
   ]
  },
  {
   "cell_type": "markdown",
   "id": "bhsof0mf0rq",
   "metadata": {},
   "source": [
    "## Sample Robot Configuration\n",
    "\n",
    "Demonstrating joint movement and visualization:"
   ]
  },
  {
   "cell_type": "code",
   "execution_count": null,
   "id": "7f0d74a7",
   "metadata": {},
   "outputs": [],
   "source": [
    "mm = MoveManager(robot)\n",
    "mm.move(\"revolute_joint\", np.pi / 4)\n",
    "mm.move(\"prismatic_joint\", 0.5)\n",
    "MoveVisualizer.robot(mm)"
   ]
  },
  {
   "cell_type": "markdown",
   "id": "1e85fcad",
   "metadata": {},
   "source": [
    "## Output Example\n",
    "![OutputExample](./img/range_2axes/range_2axes2.png)"
   ]
  },
  {
   "cell_type": "markdown",
   "id": "fb54542e",
   "metadata": {},
   "source": [
    "## Range Calculation - 2D Analysis\n",
    "\n",
    "Computing the collision-free working space for two joint parameters:"
   ]
  },
  {
   "cell_type": "code",
   "execution_count": null,
   "id": "8bfd3747",
   "metadata": {},
   "outputs": [],
   "source": [
    "calculator = RangeCalculator(\n",
    "    simple_robot(), {\"hand_link\", \"finger_link\"}, {\"obstacle_link\"}\n",
    ")\n",
    "calculator.add_axis(\"revolute_joint\", np.linspace(-np.pi / 2, np.pi / 2, 100))\n",
    "calculator.add_axis(\"prismatic_joint\", np.linspace(-3, 3, 200))\n",
    "calculator.execute()"
   ]
  },
  {
   "cell_type": "markdown",
   "id": "9bteg8mfwqr",
   "metadata": {},
   "source": [
    "## Range Visualization Plot\n",
    "\n",
    "Displaying the 2D range plot showing collision-free (green) and collision (red) regions:"
   ]
  },
  {
   "cell_type": "code",
   "execution_count": null,
   "id": "505258aa",
   "metadata": {},
   "outputs": [],
   "source": [
    "calculator.plot()"
   ]
  },
  {
   "cell_type": "markdown",
   "id": "56679bce",
   "metadata": {},
   "source": [
    "## Output Example\n",
    "![OutputExample](./img/range_2axes/range_2axes3.png)"
   ]
  },
  {
   "cell_type": "markdown",
   "id": "v3eris6kof",
   "metadata": {},
   "source": [
    "## Specific Configuration from Range Plot\n",
    "\n",
    "Testing a specific point from the range plot to verify collision-free operation:"
   ]
  },
  {
   "cell_type": "code",
   "execution_count": null,
   "id": "5d84f340",
   "metadata": {},
   "outputs": [],
   "source": [
    "mm = MoveManager(robot)\n",
    "mm.move(\"revolute_joint\", 0.428)\n",
    "mm.move(\"prismatic_joint\", 1.34)\n",
    "MoveVisualizer.robot(mm)"
   ]
  },
  {
   "cell_type": "markdown",
   "id": "eae5fa13",
   "metadata": {},
   "source": [
    "## Output Example\n",
    "![OutputExample](./img/range_2axes/range_2axes4.png)"
   ]
  },
  {
   "cell_type": "code",
   "execution_count": null,
   "id": "e28baae9",
   "metadata": {},
   "outputs": [],
   "source": []
  }
 ],
 "metadata": {
  "kernelspec": {
   "display_name": "linkmotion",
   "language": "python",
   "name": "python3"
  },
  "language_info": {
   "codemirror_mode": {
    "name": "ipython",
    "version": 3
   },
   "file_extension": ".py",
   "mimetype": "text/x-python",
   "name": "python",
   "nbconvert_exporter": "python",
   "pygments_lexer": "ipython3",
   "version": "3.12.0"
  }
 },
 "nbformat": 4,
 "nbformat_minor": 5
}
