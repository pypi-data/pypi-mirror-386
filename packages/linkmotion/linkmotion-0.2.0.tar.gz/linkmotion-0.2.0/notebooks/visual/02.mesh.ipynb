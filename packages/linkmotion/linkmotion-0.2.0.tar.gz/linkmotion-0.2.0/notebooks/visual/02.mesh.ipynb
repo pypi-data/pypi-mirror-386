{
 "cells": [
  {
   "cell_type": "markdown",
   "id": "oywuxm69yx",
   "metadata": {},
   "source": [
    "# Mesh Visualization Demo\n",
    "\n",
    "This notebook demonstrates how to visualize 3D meshes using the LinkMotion library's `MeshVisualizer` class.\n",
    "\n",
    "## Overview\n",
    "The notebook shows two methods for rendering mesh objects:\n",
    "1. **Custom Mesh Rendering**: Using vertices, faces, normals, and colors\n",
    "2. **Trimesh Integration**: Direct visualization of trimesh objects\n",
    "\n",
    "## Prerequisites\n",
    "- `numpy` for numerical operations\n",
    "- `trimesh` for mesh creation and manipulation\n",
    "- `linkmotion.visual.MeshVisualizer` for rendering\n",
    "\n",
    "## Examples Included\n",
    "- Creating and visualizing a capsule mesh with custom vertex colors\n",
    "- Direct trimesh object visualization with applied colors\n",
    "\n",
    "Let's start by importing the required libraries:"
   ]
  },
  {
   "cell_type": "code",
   "execution_count": null,
   "id": "ed886d3d-d3f9-4680-8ba1-ea0bf0f633d9",
   "metadata": {},
   "outputs": [],
   "source": [
    "import numpy as np\n",
    "import trimesh\n",
    "\n",
    "from linkmotion.visual import MeshVisualizer"
   ]
  },
  {
   "cell_type": "markdown",
   "id": "d1z3lrjzls",
   "metadata": {},
   "source": [
    "## Method 1: Custom Mesh Rendering\n",
    "\n",
    "This example creates a capsule mesh and renders it using individual mesh components (vertices, faces, normals, colors):"
   ]
  },
  {
   "cell_type": "code",
   "execution_count": null,
   "id": "400c8af1-b1d7-4c09-a5f2-6f3a32c200e0",
   "metadata": {},
   "outputs": [],
   "source": [
    "capsule = trimesh.creation.capsule(height=10, radius=3)\n",
    "colors = np.random.rand(len(capsule.vertices), 4)\n",
    "MeshVisualizer.vertices(\n",
    "    vertices=capsule.vertices,\n",
    "    indices=capsule.faces,\n",
    "    normals=capsule.vertex_normals,\n",
    "    colors=colors,\n",
    "    opacity=0.8,\n",
    ")"
   ]
  },
  {
   "cell_type": "markdown",
   "id": "4e212bdd",
   "metadata": {},
   "source": [
    "## Output Example\n",
    "![OutputExample](./img/mesh/mesh1.png)"
   ]
  },
  {
   "cell_type": "markdown",
   "id": "v1cyhhynj88",
   "metadata": {},
   "source": [
    "## Method 2: Direct Trimesh Visualization\n",
    "\n",
    "This approach directly visualizes a trimesh object with applied vertex colors:"
   ]
  },
  {
   "cell_type": "code",
   "execution_count": null,
   "id": "c7461ce2-29ed-46c6-9a36-f4361b3e8f03",
   "metadata": {},
   "outputs": [],
   "source": [
    "capsule = trimesh.creation.capsule(height=10, radius=3, face_color=0xFF0000)\n",
    "colors = np.random.rand(len(capsule.vertices), 3)\n",
    "if capsule.visual is not None:\n",
    "    capsule.visual.vertex_colors = colors\n",
    "MeshVisualizer.trimesh(\n",
    "    mesh=capsule,\n",
    "    opacity=0.8,\n",
    ")"
   ]
  },
  {
   "cell_type": "markdown",
   "id": "c2bff13b",
   "metadata": {},
   "source": [
    "## Output Example\n",
    "![OutputExample](./img/mesh/mesh1.png)"
   ]
  },
  {
   "cell_type": "code",
   "execution_count": null,
   "id": "6bf9620d-06e9-4f0b-9901-f5949c37b1a9",
   "metadata": {},
   "outputs": [],
   "source": []
  }
 ],
 "metadata": {
  "kernelspec": {
   "display_name": "linkmotion",
   "language": "python",
   "name": "python3"
  },
  "language_info": {
   "codemirror_mode": {
    "name": "ipython",
    "version": 3
   },
   "file_extension": ".py",
   "mimetype": "text/x-python",
   "name": "python",
   "nbconvert_exporter": "python",
   "pygments_lexer": "ipython3",
   "version": "3.12.0"
  }
 },
 "nbformat": 4,
 "nbformat_minor": 5
}
