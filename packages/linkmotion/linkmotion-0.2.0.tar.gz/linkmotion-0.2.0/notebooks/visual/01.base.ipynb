{
 "cells": [
  {
   "cell_type": "markdown",
   "id": "49si6y0uw3c",
   "metadata": {},
   "source": [
    "# Basic Visualization Tools Demo\n",
    "\n",
    "This notebook demonstrates the fundamental visualization primitives available in the LinkMotion library's `BasicVisualizer` class.\n",
    "\n",
    "## Overview\n",
    "This notebook covers basic 3D visualization elements:\n",
    "1. **Lines**: Drawing connected line segments in 3D space\n",
    "2. **Vectors**: Displaying directional arrows with customizable heads\n",
    "3. **Points**: Rendering individual points or point clouds\n",
    "4. **Coordinate Systems**: Showing origin points and coordinate axes\n",
    "\n",
    "## Key Features\n",
    "- Customizable colors, sizes, and styles\n",
    "- 3D interactive visualization\n",
    "- Fundamental building blocks for more complex visualizations\n",
    "- Useful for debugging, analysis, and educational purposes\n",
    "\n",
    "## Use Cases\n",
    "These basic visualization tools are essential for:\n",
    "- Debugging geometric algorithms\n",
    "- Visualizing data points and trajectories\n",
    "- Creating custom visualization overlays\n",
    "- Educational demonstrations of 3D concepts\n",
    "\n",
    "Let's start by importing the required libraries:"
   ]
  },
  {
   "cell_type": "code",
   "execution_count": null,
   "id": "ed886d3d-d3f9-4680-8ba1-ea0bf0f633d9",
   "metadata": {},
   "outputs": [],
   "source": [
    "import numpy as np\n",
    "\n",
    "from linkmotion.visual import BasicVisualizer"
   ]
  },
  {
   "cell_type": "markdown",
   "id": "s8uo6lout5l",
   "metadata": {},
   "source": [
    "## Line Visualization\n",
    "\n",
    "Drawing connected line segments using random 3D points:"
   ]
  },
  {
   "cell_type": "code",
   "execution_count": null,
   "id": "400c8af1-b1d7-4c09-a5f2-6f3a32c200e0",
   "metadata": {},
   "outputs": [],
   "source": [
    "points_array = np.random.rand(5, 2, 3)\n",
    "BasicVisualizer.lines(points_array, color=0x00F0F0, width=0.05)"
   ]
  },
  {
   "cell_type": "markdown",
   "id": "cdc7340f",
   "metadata": {},
   "source": [
    "## Output Example\n",
    "![OutputExample](./img/base/base1.png)\n"
   ]
  },
  {
   "cell_type": "markdown",
   "id": "3ldji7exs0e",
   "metadata": {},
   "source": [
    "## Vector Visualization\n",
    "\n",
    "Displaying directional arrows with customizable head sizes:"
   ]
  },
  {
   "cell_type": "code",
   "execution_count": null,
   "id": "8b98c74d-586d-4fd2-a323-724c079771af",
   "metadata": {},
   "outputs": [],
   "source": [
    "origins = np.random.rand(5, 3)\n",
    "directions = np.random.rand(5, 3)\n",
    "BasicVisualizer.vectors(origins, directions, head_size=3.0, color=0x00F0F0)"
   ]
  },
  {
   "cell_type": "markdown",
   "id": "5198168e",
   "metadata": {},
   "source": [
    "## Output Example\n",
    "![OutputExample](./img/base/base2.png)"
   ]
  },
  {
   "cell_type": "markdown",
   "id": "063w1q9rx467",
   "metadata": {},
   "source": [
    "## Point Cloud Visualization\n",
    "\n",
    "Rendering individual points in 3D space:"
   ]
  },
  {
   "cell_type": "code",
   "execution_count": null,
   "id": "4f7d673d-2af0-4b03-a730-c41b2619ec91",
   "metadata": {},
   "outputs": [],
   "source": [
    "points = np.random.rand(5, 3)\n",
    "BasicVisualizer.points(points, point_size=0.05, color=0x00F0F0)"
   ]
  },
  {
   "cell_type": "markdown",
   "id": "5ef12e9a",
   "metadata": {},
   "source": [
    "## Output Example\n",
    "![OutputExample](./img/base/base3.png)"
   ]
  },
  {
   "cell_type": "markdown",
   "id": "b20r5n0fg1",
   "metadata": {},
   "source": [
    "## Origin Point Visualization\n",
    "\n",
    "Displaying the coordinate system origin:"
   ]
  },
  {
   "cell_type": "code",
   "execution_count": null,
   "id": "b73593ff-840d-4b8a-b7f1-55becac9b4f9",
   "metadata": {},
   "outputs": [],
   "source": [
    "BasicVisualizer.origin(point_size=0.1, color=0x00F0F0)"
   ]
  },
  {
   "cell_type": "markdown",
   "id": "8e7e8810",
   "metadata": {},
   "source": [
    "## Output Example\n",
    "![OutputExample](./img/base/base4.png)"
   ]
  },
  {
   "cell_type": "markdown",
   "id": "xks4gj9echi",
   "metadata": {},
   "source": [
    "## Coordinate Axes Visualization\n",
    "\n",
    "Displaying the 3D coordinate system axes (X, Y, Z):"
   ]
  },
  {
   "cell_type": "code",
   "execution_count": null,
   "id": "af11886d-0da7-41e7-b741-7e75d1f8c6c6",
   "metadata": {},
   "outputs": [],
   "source": [
    "BasicVisualizer.axes(length=1.0, width=0.08)"
   ]
  },
  {
   "cell_type": "markdown",
   "id": "af58e292",
   "metadata": {},
   "source": [
    "## Output Example\n",
    "![OutputExample](./img/base/base5.png)"
   ]
  },
  {
   "cell_type": "code",
   "execution_count": null,
   "id": "84cce8d3-1e30-4fd3-be05-03791898c43c",
   "metadata": {},
   "outputs": [],
   "source": []
  }
 ],
 "metadata": {
  "kernelspec": {
   "display_name": "linkmotion",
   "language": "python",
   "name": "python3"
  },
  "language_info": {
   "codemirror_mode": {
    "name": "ipython",
    "version": 3
   },
   "file_extension": ".py",
   "mimetype": "text/x-python",
   "name": "python",
   "nbconvert_exporter": "python",
   "pygments_lexer": "ipython3",
   "version": "3.12.0"
  }
 },
 "nbformat": 4,
 "nbformat_minor": 5
}
