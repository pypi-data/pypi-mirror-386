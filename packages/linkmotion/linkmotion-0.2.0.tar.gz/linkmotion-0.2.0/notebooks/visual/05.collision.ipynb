{
 "cells": [
  {
   "cell_type": "markdown",
   "id": "35ikfa0gfgw",
   "metadata": {},
   "source": [
    "# Collision Detection and Visualization Demo\n",
    "\n",
    "This notebook demonstrates collision detection capabilities and distance visualization using the LinkMotion library.\n",
    "\n",
    "## Overview\n",
    "This example showcases:\n",
    "1. **Robot-Environment Collision Detection**: Detecting collisions between robot parts and obstacles\n",
    "2. **Distance Visualization**: Showing closest points between objects\n",
    "3. **Interactive Movement**: Moving joints and observing collision changes in real-time\n",
    "\n",
    "## Key Components\n",
    "- `CollisionManager`: Handles collision detection between robot links and environment\n",
    "- `CollisionVisualizer`: Renders collision information and distance points\n",
    "- `MoveManager`: Controls robot joint movements\n",
    "- `MoveVisualizer`: Displays robot configurations\n",
    "\n",
    "## Scenario\n",
    "The robot includes a wall obstacle, and we demonstrate how the robot's leg can approach and potentially collide with the wall as joints are moved.\n",
    "\n",
    "Let's start by importing the required libraries:"
   ]
  },
  {
   "cell_type": "code",
   "execution_count": null,
   "id": "71f7e298-9f7a-4a8a-812b-20609521cf73",
   "metadata": {},
   "outputs": [],
   "source": [
    "import numpy as np\n",
    "from scipy.spatial.transform import Rotation as R\n",
    "\n",
    "from linkmotion.visual import MoveVisualizer, CollisionVisualizer\n",
    "from linkmotion import (\n",
    "    Robot,\n",
    "    Link,\n",
    "    Joint,\n",
    "    JointType,\n",
    "    Transform,\n",
    "    MoveManager,\n",
    "    CollisionManager,\n",
    ")"
   ]
  },
  {
   "cell_type": "markdown",
   "id": "cffffb2a",
   "metadata": {},
   "source": [
    "## Robot and Environment Setup\n",
    "\n",
    "Creating a humanoid robot with a wall obstacle for collision testing:"
   ]
  },
  {
   "cell_type": "code",
   "execution_count": null,
   "id": "0071690e-41e8-4cc5-8123-5142f2ad9f6e",
   "metadata": {},
   "outputs": [],
   "source": [
    "humanoid = Robot()\n",
    "\n",
    "body = Link.from_box(\"body\", extents=np.array((3, 2, 10)))\n",
    "\n",
    "t = Transform(\n",
    "    rotate=R.from_rotvec(90.0 * np.array((0, 1, 0)), degrees=True),\n",
    "    translate=np.array((4, 0, 3)),\n",
    ")\n",
    "right_arm = Link.from_cylinder(\"right_arm\", radius=0.5, height=5, default_transform=t)\n",
    "\n",
    "t = Transform(\n",
    "    rotate=R.from_rotvec(90.0 * np.array((0, 1, 0)), degrees=True),\n",
    "    translate=np.array((-4, 0, 3)),\n",
    ")\n",
    "left_arm = Link.from_cylinder(\"left_arm\", radius=0.5, height=5, default_transform=t)\n",
    "\n",
    "t = Transform(\n",
    "    rotate=R.from_rotvec(180.0 * np.array((0, 1, 0)), degrees=True),\n",
    "    translate=np.array((1, 0, -8)),\n",
    ")\n",
    "right_leg = Link.from_cone(\"right_leg\", radius=0.5, height=6, default_transform=t)\n",
    "\n",
    "t = Transform(\n",
    "    rotate=R.from_rotvec(180.0 * np.array((0, 1, 0)), degrees=True),\n",
    "    translate=np.array((-1, 0, -8)),\n",
    ")\n",
    "left_leg = Link.from_cone(\"left_leg\", radius=0.5, height=6, default_transform=t)\n",
    "\n",
    "t = Transform(translate=np.array((0, 0, -5)))\n",
    "head = Link.from_sphere(\"head\", 3, center=np.array((0, 0, 8)))\n",
    "\n",
    "left_leg_joint = Joint(\n",
    "    \"left_leg_joint\",\n",
    "    JointType.REVOLUTE,\n",
    "    child_link_name=\"left_leg\",\n",
    "    parent_link_name=\"body\",\n",
    "    center=np.array((-1, 0, -5)),\n",
    "    direction=np.array((1, 0, 0)),\n",
    "    min_=-np.pi / 2.0,\n",
    "    max_=np.pi / 4.0,\n",
    ")\n",
    "\n",
    "t = Transform(translate=np.array((0, -5, 0)))\n",
    "wall = Link.from_box(\n",
    "    \"wall\",\n",
    "    extents=np.array((20, 1, 20)),\n",
    "    default_transform=t,\n",
    "    color=np.array((0.0, 0.8, 0.8, 0.2)),\n",
    ")\n",
    "\n",
    "humanoid.add_link(body)\n",
    "humanoid.add_link(right_arm)\n",
    "humanoid.add_link(left_arm)\n",
    "humanoid.add_link(right_leg)\n",
    "humanoid.add_link(left_leg)\n",
    "humanoid.add_link(head)\n",
    "humanoid.add_joint(left_leg_joint)\n",
    "humanoid.add_link(wall)\n",
    "\n",
    "mm = MoveManager(humanoid)\n",
    "cm = CollisionManager(mm)"
   ]
  },
  {
   "cell_type": "markdown",
   "id": "987t2c0kk3q",
   "metadata": {},
   "source": [
    "## Initial Configuration - Distance Visualization\n",
    "\n",
    "Showing the distance between the left leg and wall in the default robot configuration:"
   ]
  },
  {
   "cell_type": "code",
   "execution_count": null,
   "id": "70779f1c",
   "metadata": {},
   "outputs": [],
   "source": [
    "plot = MoveVisualizer.robot(mm)\n",
    "plot = CollisionVisualizer.distance_points(\n",
    "    cm, {\"left_leg\"}, {\"wall\"}, plot=plot, point_size=0.5, width=0.2\n",
    ")\n",
    "plot.display()"
   ]
  },
  {
   "cell_type": "markdown",
   "id": "37084104",
   "metadata": {},
   "source": [
    "## Output Example\n",
    "![OutputExample](./img/collision/collision1.png)"
   ]
  },
  {
   "cell_type": "markdown",
   "id": "pvflcewb9m",
   "metadata": {},
   "source": [
    "## Moderate Joint Movement\n",
    "\n",
    "Moving the left leg joint to bring it closer to the wall:"
   ]
  },
  {
   "cell_type": "code",
   "execution_count": null,
   "id": "e3f84190",
   "metadata": {},
   "outputs": [],
   "source": [
    "mm.move(joint_name=\"left_leg_joint\", value=-np.pi / 6.0)\n",
    "plot = MoveVisualizer.robot(mm)\n",
    "plot = CollisionVisualizer.distance_points(\n",
    "    cm, {\"left_leg\"}, {\"wall\"}, plot=plot, point_size=0.5, width=0.2\n",
    ")\n",
    "plot.display()"
   ]
  },
  {
   "cell_type": "markdown",
   "id": "098c46c0",
   "metadata": {},
   "source": [
    "## Output Example\n",
    "![OutputExample](./img/collision/collision2.png)"
   ]
  },
  {
   "cell_type": "markdown",
   "id": "u55fcbe3mi",
   "metadata": {},
   "source": [
    "## Maximum Joint Movement - Potential Collision\n",
    "\n",
    "Moving the left leg joint to its extreme position, showing potential collision:"
   ]
  },
  {
   "cell_type": "code",
   "execution_count": null,
   "id": "065d64d0",
   "metadata": {},
   "outputs": [],
   "source": [
    "mm.move(joint_name=\"left_leg_joint\", value=-np.pi / 2.0)\n",
    "plot = MoveVisualizer.robot(mm)\n",
    "plot = CollisionVisualizer.distance_points(\n",
    "    cm, {\"left_leg\"}, {\"wall\"}, plot=plot, point_size=0.5, width=0.2\n",
    ")\n",
    "plot.display()"
   ]
  },
  {
   "cell_type": "markdown",
   "id": "a21b9a00",
   "metadata": {},
   "source": [
    "## Output Example\n",
    "![OutputExample](./img/collision/collision3.png)"
   ]
  },
  {
   "cell_type": "code",
   "execution_count": null,
   "id": "7d5e1f2b",
   "metadata": {},
   "outputs": [],
   "source": []
  }
 ],
 "metadata": {
  "kernelspec": {
   "display_name": "linkmotion",
   "language": "python",
   "name": "python3"
  },
  "language_info": {
   "codemirror_mode": {
    "name": "ipython",
    "version": 3
   },
   "file_extension": ".py",
   "mimetype": "text/x-python",
   "name": "python",
   "nbconvert_exporter": "python",
   "pygments_lexer": "ipython3",
   "version": "3.12.0"
  }
 },
 "nbformat": 4,
 "nbformat_minor": 5
}
