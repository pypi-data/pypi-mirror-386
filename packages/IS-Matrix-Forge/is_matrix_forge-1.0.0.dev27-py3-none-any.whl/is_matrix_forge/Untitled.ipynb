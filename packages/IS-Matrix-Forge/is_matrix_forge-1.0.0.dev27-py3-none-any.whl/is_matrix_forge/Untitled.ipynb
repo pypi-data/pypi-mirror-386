{
 "cells": [
  {
   "cell_type": "code",
   "execution_count": 5,
   "id": "a6d553a0-fca1-411a-a7bd-cf15dce52e97",
   "metadata": {},
   "outputs": [
    {
     "data": {
      "application/vnd.jupyter.widget-view+json": {
       "model_id": "a9c234aa78a641018ba78e54e9a3755b",
       "version_major": 2,
       "version_minor": 0
      },
      "text/plain": [
       "VBox(children=(Dropdown(description='Pick a pattern to render...', options=('All LEDs on', 'Gradient (0-13% Br…"
      ]
     },
     "metadata": {},
     "output_type": "display_data"
    }
   ],
   "source": [
    "from is_matrix_forge.led_matrix import get_controllers\n",
    "import ipywidgets as widgets\n",
    "CONTROLLERS = get_controllers(threaded = True)\n",
    "PATTERNS = CONTROLLERS[0].built_in_pattern_names\n",
    "\n",
    "\n",
    "class DropdownWithButton:\n",
    "    def __init__(self, options, description='Choose:', button_desc='Run', callback=None):\n",
    "        self.output = widgets.Output()\n",
    "        self.dropdown = widgets.Dropdown(\n",
    "            options=options, description=description, disabled=False\n",
    "        )\n",
    "        self.button = widgets.Button(\n",
    "            description=button_desc, disabled=True, button_style='primary'\n",
    "        )\n",
    "        self.callback = callback or self.default_callback\n",
    "\n",
    "        # Set up observers\n",
    "        self.dropdown.observe(self._on_select, names='value')\n",
    "        self.button.on_click(self._on_click)\n",
    "\n",
    "        # Layout\n",
    "        self.container = widgets.VBox([self.dropdown, self.button, self.output])\n",
    "        display(self.container)\n",
    "\n",
    "    def _on_select(self, change):\n",
    "        self.button.disabled = False  # Enable button once a selection is made\n",
    "\n",
    "    def _on_click(self, b):\n",
    "        with self.output:\n",
    "            # Clear prior output\n",
    "            self.output.clear_output()\n",
    "            self.callback(self.dropdown.value)\n",
    "\n",
    "    @staticmethod\n",
    "    def default_callback(value):\n",
    "        print(f\"You selected: {value}\")\n",
    "\n",
    "\n",
    "\n",
    "def render(selection):\n",
    "    CONTROLLERS[0].draw_pattern(selection)\n",
    "\n",
    "\n",
    "\n",
    "drp_bttn = DropdownWithButton(\n",
    "    options=PATTERNS,\n",
    "    description='Pick a pattern to render...',\n",
    "    button_desc='Render',\n",
    "    callback=render\n",
    "\n",
    ")\n"
   ]
  },
  {
   "cell_type": "code",
   "execution_count": null,
   "id": "8533a241-ef3b-4a44-99cd-2e88cabb9fbb",
   "metadata": {},
   "outputs": [],
   "source": []
  }
 ],
 "metadata": {
  "kernelspec": {
   "display_name": "Python 3 (ipykernel)",
   "language": "python",
   "name": "python3"
  },
  "language_info": {
   "codemirror_mode": {
    "name": "ipython",
    "version": 3
   },
   "file_extension": ".py",
   "mimetype": "text/x-python",
   "name": "python",
   "nbconvert_exporter": "python",
   "pygments_lexer": "ipython3",
   "version": "3.12.10"
  }
 },
 "nbformat": 4,
 "nbformat_minor": 5
}
