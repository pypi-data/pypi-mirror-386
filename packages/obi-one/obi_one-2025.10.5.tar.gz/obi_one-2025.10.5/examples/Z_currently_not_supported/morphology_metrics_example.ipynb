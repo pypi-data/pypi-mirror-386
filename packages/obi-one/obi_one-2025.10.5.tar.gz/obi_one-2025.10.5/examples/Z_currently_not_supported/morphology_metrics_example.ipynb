{
 "cells": [
  {
   "cell_type": "code",
   "execution_count": null,
   "metadata": {},
   "outputs": [],
   "source": [
    "import obi_one as obi\n",
    "\n",
    "morphology_metrics_form = obi.MorphologyMetricsScanConfig(\n",
    "                    initialize=obi.MorphologyMetricsScanConfig.Initialize(\n",
    "                        morphology_path=obi.NamedPath(name=\"L5_TPC:A_MusMusculus_PrimarySomatosensory_C060114A5\", path=\"data/morphologies/L5_TPC:A_MusMusculus_PrimarySomatosensory_C060114A5/C060114A5.asc\")\n",
    "                    )\n",
    ")\n",
    "\n",
    "\n",
    "\n",
    "grid_scan = obi.GridScanGenerationTask(form=morphology_metrics_form, output_root='../../obi-output/morphology_metrics/grid_scan')\n",
    "grid_scan.execute(processing_method='run')"
   ]
  },
  {
   "cell_type": "code",
   "execution_count": null,
   "metadata": {},
   "outputs": [],
   "source": [
    "# Display the intermediary data\n",
    "grid_scan.multiple_value_parameters(display=True)\n",
    "grid_scan.coordinate_parameters(display=True)\n",
    "grid_scan.coordinate_instances(display=True)\n"
   ]
  },
  {
   "cell_type": "code",
   "execution_count": null,
   "metadata": {},
   "outputs": [],
   "source": []
  },
  {
   "cell_type": "code",
   "execution_count": null,
   "metadata": {},
   "outputs": [],
   "source": []
  }
 ],
 "metadata": {
  "kernelspec": {
   "display_name": ".venv",
   "language": "python",
   "name": "python3"
  },
  "language_info": {
   "codemirror_mode": {
    "name": "ipython",
    "version": 3
   },
   "file_extension": ".py",
   "mimetype": "text/x-python",
   "name": "python",
   "nbconvert_exporter": "python",
   "pygments_lexer": "ipython3",
   "version": "3.12.9"
  }
 },
 "nbformat": 4,
 "nbformat_minor": 4
}
