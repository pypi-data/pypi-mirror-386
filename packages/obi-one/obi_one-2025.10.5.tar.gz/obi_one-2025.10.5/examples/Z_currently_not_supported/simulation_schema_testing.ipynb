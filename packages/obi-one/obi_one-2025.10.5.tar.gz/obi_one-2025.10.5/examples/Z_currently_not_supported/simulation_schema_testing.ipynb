{
 "cells": [
  {
   "cell_type": "code",
   "execution_count": null,
   "id": "332d1b54",
   "metadata": {},
   "outputs": [],
   "source": [
    "import obi_one as obi\n",
    "import json\n",
    "\n",
    "# Show the JSON schema of CircuitSimulationScanConfig\n",
    "print(json.dumps(obi.CircuitSimulationScanConfig.model_json_schema(), indent=2))"
   ]
  },
  {
   "cell_type": "code",
   "execution_count": null,
   "id": "bb37a51b",
   "metadata": {},
   "outputs": [],
   "source": [
    "import obi_one as obi\n",
    "\n",
    "simulations_form = obi.CircuitSimulationScanConfig(\n",
    "    initialize=obi.CircuitSimulationScanConfig.Initialize(\n",
    "        circuit=[obi.CellMorphologyFromID(id_str=\"example_id\")],\n",
    "        simulation_length=100.0,\n",
    "        node_set=obi.NeuronSetReference(\n",
    "                block_name=\"example_predefined_neuron_set\",\n",
    "                block_dict_name=\"neuron_sets\",\n",
    "            ),\n",
    "        random_seed=1,\n",
    "        extracellular_calcium_concentration=1.1,\n",
    "        v_init=-80.0\n",
    "    ),\n",
    "    info=obi.Info(\n",
    "        campaign_name=\"Example Simulation\",\n",
    "        campaign_description=\"This is an example simulation.\"\n",
    "    ),\n",
    "    neuron_sets={\n",
    "        \"example_predefined_neuron_set\": obi.PredefinedNeuronSet(node_set=\"hex0\"),\n",
    "        \"example_id_neuron_set\": obi.IDNeuronSet(neuron_ids=obi.NamedTuple(\n",
    "            elements=(1, 2),\n",
    "            name=\"example_id_neuron_set\"\n",
    "        ))\n",
    "    },\n",
    "    timestamps={\n",
    "        \"regular_timestamps\": obi.RegularTimestamps(\n",
    "            start_time=0.0,\n",
    "            number_of_repetitions=10,\n",
    "            interval=100\n",
    "        )\n",
    "    },\n",
    "    stimuli={\n",
    "        \"constant_current_stim\": obi.ConstantCurrentClampSomaticStimulus(\n",
    "            delay=10.0,\n",
    "            duration=100.0,\n",
    "            amplitude=0.1,\n",
    "            neuron_set=obi.NeuronSetReference(\n",
    "                block_name=\"example_predefined_neuron_set\",\n",
    "                block_dict_name=\"neuron_sets\",\n",
    "            ),\n",
    "            timestamps=obi.TimestampsReference(\n",
    "                block_name=\"regular_timestamps\",\n",
    "                block_dict_name=\"timestamps\",\n",
    "            )\n",
    "        )\n",
    "    },\n",
    "    recordings={\n",
    "        \"soma_voltage_recording\": obi.SomaVoltageRecording(\n",
    "            neuron_set=obi.NeuronSetReference(\n",
    "                block_name=\"example_predefined_neuron_set\",\n",
    "                block_dict_name=\"neuron_sets\",\n",
    "            ),\n",
    "            start_time=0.0,\n",
    "            end_time=100.0\n",
    "        )\n",
    "    }\n",
    ")\n",
    "\n"
   ]
  },
  {
   "cell_type": "code",
   "execution_count": null,
   "id": "ce14fe98",
   "metadata": {},
   "outputs": [],
   "source": [
    "simulations_form.stimuli[\"constant_current_stim\"].neuron_set.block\n"
   ]
  },
  {
   "cell_type": "code",
   "execution_count": null,
   "id": "49bf7ae5",
   "metadata": {},
   "outputs": [],
   "source": [
    "dict_representation = simulations_form.model_dump()\n",
    "\n",
    "import json\n",
    "json_representation = json.dumps(dict_representation, indent=2)\n",
    "print(json_representation)\n"
   ]
  },
  {
   "cell_type": "code",
   "execution_count": null,
   "id": "4e088615",
   "metadata": {},
   "outputs": [],
   "source": [
    "sim_form = obi.deserialize_obi_object_from_json_data(dict_representation)\n",
    "print(sim_form)\n",
    "sim_form.initialize.node_set.block"
   ]
  },
  {
   "cell_type": "code",
   "execution_count": null,
   "id": "e14618a9",
   "metadata": {},
   "outputs": [],
   "source": []
  }
 ],
 "metadata": {
  "kernelspec": {
   "display_name": ".venv",
   "language": "python",
   "name": "python3"
  },
  "language_info": {
   "codemirror_mode": {
    "name": "ipython",
    "version": 3
   },
   "file_extension": ".py",
   "mimetype": "text/x-python",
   "name": "python",
   "nbconvert_exporter": "python",
   "pygments_lexer": "ipython3",
   "version": "3.12.9"
  }
 },
 "nbformat": 4,
 "nbformat_minor": 5
}
