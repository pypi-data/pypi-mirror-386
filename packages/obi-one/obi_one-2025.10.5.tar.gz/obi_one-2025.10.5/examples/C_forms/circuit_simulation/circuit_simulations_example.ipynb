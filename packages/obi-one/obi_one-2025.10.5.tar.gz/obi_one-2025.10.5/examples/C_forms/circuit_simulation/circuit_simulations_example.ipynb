{
 "cells": [
  {
   "cell_type": "markdown",
   "metadata": {},
   "source": [
    "# Circuit simulation examples"
   ]
  },
  {
   "cell_type": "code",
   "execution_count": null,
   "metadata": {},
   "outputs": [],
   "source": [
    "import obi_one as obi\n",
    "from pathlib import Path"
   ]
  },
  {
   "cell_type": "code",
   "execution_count": null,
   "metadata": {},
   "outputs": [],
   "source": [
    "circuit_path_prefix = Path(\"../../data/tiny_circuits\")"
   ]
  },
  {
   "cell_type": "markdown",
   "metadata": {},
   "source": [
    "### Loading two circuits"
   ]
  },
  {
   "cell_type": "code",
   "execution_count": null,
   "metadata": {},
   "outputs": [],
   "source": [
    "circuit_name = \"N_10__top_nodes_dim6\"\n",
    "circuit = obi.Circuit(name=circuit_name, path=str(circuit_path_prefix / circuit_name / \"circuit_config.json\"))\n",
    "print(f\"Circuit '{circuit}' with {circuit.sonata_circuit.nodes[circuit.default_population_name].size} neurons and {circuit.sonata_circuit.edges[circuit.default_edge_population_name].size} synapses\")"
   ]
  },
  {
   "cell_type": "code",
   "execution_count": null,
   "metadata": {},
   "outputs": [],
   "source": [
    "circuit2_name = \"N_10__top_rc_nodes_dim2_rc\"\n",
    "circuit2 = obi.Circuit(name=circuit2_name, path=str(circuit_path_prefix / circuit2_name / \"circuit_config.json\"))\n",
    "print(f\"Circuit '{circuit2}' with {circuit2.sonata_circuit.nodes[circuit2.default_population_name].size} neurons and {circuit2.sonata_circuit.edges[circuit2.default_edge_population_name].size} synapses\")"
   ]
  },
  {
   "cell_type": "markdown",
   "metadata": {},
   "source": [
    "### Example with two circuits and explicit node populations.\n",
    "\n",
    "Spike replay will use POm."
   ]
  },
  {
   "cell_type": "code",
   "execution_count": null,
   "metadata": {},
   "outputs": [],
   "source": [
    "# Sim duration\n",
    "sim_duration = 3000.0\n",
    "\n",
    "# Empty CircuitSimulationScanConfig Configuration\n",
    "sim_conf = obi.CircuitSimulationScanConfig.empty_config()\n",
    "\n",
    "# Info\n",
    "info = obi.Info(campaign_name=\"Small microcircuit simulation\", campaign_description=\"Simulation of two small microcircuits with predefined neuron set and constant current stimulus\")\n",
    "sim_conf.set(info, name=\"info\")\n",
    "\n",
    "# Timestamps\n",
    "regular_timesteps = obi.RegularTimestamps(start_time=0.0, number_of_repetitions=3, interval=1000.0)\n",
    "sim_conf.add(regular_timesteps, name='stim_times')\n",
    "\n",
    "# Neuron Sets\n",
    "node_pop = circuit._default_population_name(circuit.sonata_circuit)\n",
    "\n",
    "sim_neuron_set = obi.AllNeurons(node_population=node_pop)\n",
    "stim_neuron_set = sim_neuron_set\n",
    "replay_neuron_set = sim_neuron_set\n",
    "rec_neuron_set = sim_neuron_set\n",
    "property_neuron_set = sim_neuron_set\n",
    "\n",
    "# sim_neuron_set = obi.PredefinedNeuronSet(node_set=\"All\", node_population=node_pop)\n",
    "# stim_neuron_set = obi.PredefinedNeuronSet(node_set=\"Layer6\", sample_percentage=[50, 100], node_population=node_pop)\n",
    "# replay_neuron_set = obi.PredefinedNeuronSet(node_set=\"proj_Thalamocortical_POM_Source\", sample_percentage=25, node_population=\"POm\")\n",
    "# rec_neuron_set = obi.PredefinedNeuronSet(node_set=\"Layer6\", sample_percentage=100, node_population=node_pop)\n",
    "# property_neuron_set = obi.PropertyNeuronSet(\n",
    "#     property_filter=[obi.NeuronPropertyFilter(filter_dict={\"layer\": [\"1\", \"2\", \"3\"], \"synapse_class\": [\"INH\"]}),\n",
    "#                      obi.NeuronPropertyFilter(filter_dict={\"layer\": [\"4\", \"5\", \"6\"], \"synapse_class\": [\"EXC\"]})],\n",
    "#     node_population=node_pop\n",
    "# )\n",
    "sim_conf.add(sim_neuron_set, name='SimNeurons')\n",
    "sim_conf.add(stim_neuron_set, name='StimNeurons')\n",
    "sim_conf.add(rec_neuron_set, name='RecNeurons')\n",
    "sim_conf.add(property_neuron_set, name='PropertyNeuronSet')\n",
    "sim_conf.add(replay_neuron_set, name=\"POM_input\")\n",
    "\n",
    "# Stimuli\n",
    "current_stimulus = obi.ConstantCurrentClampSomaticStimulus(timestamps=regular_timesteps.ref, duration=5.0, neuron_set=stim_neuron_set.ref, amplitude=[0.2, 0.5])\n",
    "sync_current_stimulus = obi.ConstantCurrentClampSomaticStimulus(timestamps=regular_timesteps.ref, duration=100.0, neuron_set=stim_neuron_set.ref, amplitude=0.1)\n",
    "poisson_input = obi.PoissonSpikeStimulus(timestamps=regular_timesteps.ref, duration=800, frequency=20,\n",
    "                                         source_neuron_set=replay_neuron_set.ref,\n",
    "                                         targeted_neuron_set=stim_neuron_set.ref)\n",
    "sim_conf.add(current_stimulus, name='CurrentStimulus')\n",
    "sim_conf.add(sync_current_stimulus, name='SyncCurrentStimulus')\n",
    "sim_conf.add(poisson_input, name='PoissonInputStimulus')\n",
    "\n",
    "# Voltage Recordings\n",
    "voltage_recording = obi.SomaVoltageRecording(timestamps=regular_timesteps.ref, neuron_set=rec_neuron_set.ref, start_time=0.0, end_time=sim_duration)\n",
    "sim_conf.add(voltage_recording, name='SomaVoltRec')\n",
    "                                       \n",
    "# Initilization\n",
    "simulations_initialize = obi.CircuitSimulationScanConfig.Initialize(circuit=[circuit, circuit2], node_set=sim_neuron_set.ref, simulation_length=sim_duration)\n",
    "sim_conf.set(simulations_initialize, name='initialize')\n",
    "\n",
    "# Validated Config\n",
    "validated_sim_conf = sim_conf.validated_config()"
   ]
  },
  {
   "cell_type": "code",
   "execution_count": null,
   "metadata": {},
   "outputs": [],
   "source": [
    "# simulations_form.model_dump(mode=\"json\")"
   ]
  },
  {
   "cell_type": "code",
   "execution_count": null,
   "metadata": {},
   "outputs": [],
   "source": [
    "grid_scan = obi.GridScanGenerationTask(form=validated_sim_conf, output_root='../../../../obi-output/circuit_simulations/grid_scan_explicit')\n",
    "grid_scan.multiple_value_parameters(display=True)\n",
    "# grid_scan.coordinate_parameters(display=True)\n",
    "# grid_scan.coordinate_instances(display=True)\n",
    "grid_scan.execute()\n",
    "obi.run_task_for_single_configs(single_configs=grid_scan.single_configs)"
   ]
  },
  {
   "cell_type": "code",
   "execution_count": null,
   "metadata": {},
   "outputs": [],
   "source": [
    "# Spot check of generated spikes files\n",
    "import h5py\n",
    "\n",
    "h5 = h5py.File(\"../../../../obi-output/circuit_simulations/grid_scan_explicit/initialize.circuit=N_10__top_nodes_dim6/stimuli.CurrentStimulus.amplitude=0.2/PoissonInputStimulus_spikes.h5\", \"r\")\n",
    "\n",
    "print(h5[\"spikes\"].keys())\n",
    "# print(h5[\"spikes/POm\"][\"node_ids\"][:])\n",
    "h5.close()"
   ]
  },
  {
   "cell_type": "markdown",
   "metadata": {},
   "source": [
    "### Implicit node populations, i.e. using the default.\n",
    "\n",
    "Spike replay will use a subset of the default population, in this case: Layer2"
   ]
  },
  {
   "cell_type": "code",
   "execution_count": null,
   "metadata": {},
   "outputs": [],
   "source": [
    "# Sim duration\n",
    "sim_duration = 3000.0\n",
    "\n",
    "# Empty Simulation Configuration\n",
    "sim_conf = obi.CircuitSimulationScanConfig.empty_config()\n",
    "\n",
    "# Info\n",
    "info = obi.Info(campaign_name=\"Small microcircuit simulation\", campaign_description=\"Simulation of two small microcircuits with predefined neuron set and constant current stimulus\")\n",
    "sim_conf.set(info, name=\"info\")\n",
    "\n",
    "# Timestamps\n",
    "regular_timesteps = obi.RegularTimestamps(start_time=0.0, number_of_repetitions=3, interval=1000.0)\n",
    "sim_conf.add(regular_timesteps, name='stim_times')\n",
    "\n",
    "# Neuron Sets\n",
    "sim_neuron_set = obi.AllNeurons()\n",
    "stim_neuron_set = sim_neuron_set\n",
    "replay_neuron_set = sim_neuron_set\n",
    "rec_neuron_set = sim_neuron_set\n",
    "property_neuron_set = sim_neuron_set\n",
    "# sim_neuron_set = obi.PredefinedNeuronSet(node_set=\"All\")\n",
    "# stim_neuron_set = obi.PredefinedNeuronSet(node_set=\"Layer6\", sample_percentage=[50, 100])\n",
    "# replay_neuron_set = obi.PredefinedNeuronSet(node_set=\"Layer6\", sample_percentage=25)\n",
    "# rec_neuron_set = obi.PredefinedNeuronSet(node_set=\"Layer6\", sample_percentage=100)\n",
    "# property_neuron_set = obi.PropertyNeuronSet(\n",
    "#     property_filter=[obi.NeuronPropertyFilter(filter_dict={\"layer\": [\"1\", \"2\", \"3\"], \"synapse_class\": [\"INH\"]}),\n",
    "#                      obi.NeuronPropertyFilter(filter_dict={\"layer\": [\"4\", \"5\", \"6\"], \"synapse_class\": [\"EXC\"]})]\n",
    "# )\n",
    "sim_conf.add(sim_neuron_set, name='SimNeurons')\n",
    "sim_conf.add(stim_neuron_set, name='StimNeurons')\n",
    "sim_conf.add(rec_neuron_set, name='RecNeurons')\n",
    "sim_conf.add(property_neuron_set, name='PropertyNeuronSet')\n",
    "sim_conf.add(replay_neuron_set, name=\"L6_input\")\n",
    "\n",
    "# Stimuli\n",
    "current_stimulus = obi.ConstantCurrentClampSomaticStimulus(timestamps=regular_timesteps.ref, duration=5.0, neuron_set=stim_neuron_set.ref, amplitude=[0.2, 0.5])\n",
    "sync_current_stimulus = obi.ConstantCurrentClampSomaticStimulus(timestamps=regular_timesteps.ref, duration=100.0, neuron_set=stim_neuron_set.ref, amplitude=0.1)\n",
    "poisson_input = obi.PoissonSpikeStimulus(timestamps=regular_timesteps.ref, duration=800, frequency=20,\n",
    "                                         source_neuron_set=replay_neuron_set.ref,\n",
    "                                         targeted_neuron_set=stim_neuron_set.ref)\n",
    "sim_conf.add(current_stimulus, name='CurrentStimulus')\n",
    "sim_conf.add(sync_current_stimulus, name='SyncCurrentStimulus')\n",
    "sim_conf.add(poisson_input, name='PoissonInputStimulus')\n",
    "\n",
    "# Voltage Recordings\n",
    "voltage_recording = obi.SomaVoltageRecording(timestamps=regular_timesteps.ref, neuron_set=rec_neuron_set.ref, start_time=0.0, end_time=sim_duration)\n",
    "sim_conf.add(voltage_recording, name='SomaVoltRec')\n",
    "                                       \n",
    "# Initilization\n",
    "simulations_initialize = obi.CircuitSimulationScanConfig.Initialize(circuit=[circuit, circuit2], node_set=sim_neuron_set.ref, simulation_length=sim_duration)\n",
    "sim_conf.set(simulations_initialize, name='initialize')\n",
    "\n",
    "# Validated Config\n",
    "validated_sim_conf = sim_conf.validated_config()"
   ]
  },
  {
   "cell_type": "code",
   "execution_count": null,
   "metadata": {},
   "outputs": [],
   "source": [
    "grid_scan = obi.GridScanGenerationTask(form=validated_sim_conf, output_root='../../../../obi-output/circuit_simulations/grid_scan_implicit')\n",
    "grid_scan.multiple_value_parameters(display=True)\n",
    "grid_scan.coordinate_parameters(display=True)\n",
    "# grid_scan.coordinate_instances(display=True)\n",
    "grid_scan.execute()\n",
    "obi.run_task_for_single_configs(single_configs=grid_scan.single_configs)"
   ]
  },
  {
   "cell_type": "code",
   "execution_count": null,
   "metadata": {},
   "outputs": [],
   "source": [
    "# Spot check of generated spikes files\n",
    "import h5py\n",
    "\n",
    "h5 = h5py.File(\"../../../../obi-output/circuit_simulations/grid_scan_explicit/initialize.circuit=N_10__top_nodes_dim6/stimuli.CurrentStimulus.amplitude=0.2/PoissonInputStimulus_spikes.h5\", \"r\")\n",
    "\n",
    "print(h5[\"spikes\"].keys())\n",
    "print(h5[\"spikes/S1nonbarrel_neurons\"][\"node_ids\"][:])\n",
    "h5.close()"
   ]
  },
  {
   "cell_type": "markdown",
   "metadata": {},
   "source": [
    "### Implicit node populations, but still using an extrinsic population for replay.\n",
    "\n",
    "This is achieved using a hard coded VPM neuron set."
   ]
  },
  {
   "cell_type": "code",
   "execution_count": null,
   "metadata": {},
   "outputs": [],
   "source": [
    "# Sim duration\n",
    "sim_duration = 3000.0\n",
    "\n",
    "# Empty Simulation Configuration\n",
    "sim_conf = obi.CircuitSimulationScanConfig.empty_config()\n",
    "\n",
    "# Info\n",
    "info = obi.Info(campaign_name=\"Small microcircuit simulation\", campaign_description=\"Simulation of two small microcircuits with predefined neuron set and constant current stimulus\")\n",
    "sim_conf.set(info, name=\"info\")\n",
    "\n",
    "# Timestamps\n",
    "regular_timesteps = obi.RegularTimestamps(start_time=0.0, number_of_repetitions=3, interval=1000.0)\n",
    "sim_conf.add(regular_timesteps, name='stim_times')\n",
    "\n",
    "# Neuron Sets\n",
    "sim_neuron_set = obi.AllNeurons()\n",
    "stim_neuron_set = sim_neuron_set\n",
    "rec_neuron_set = sim_neuron_set\n",
    "property_neuron_set = sim_neuron_set\n",
    "# sim_neuron_set = obi.PredefinedNeuronSet(node_set=\"All\")\n",
    "# stim_neuron_set = obi.PredefinedNeuronSet(node_set=\"Layer6\", sample_percentage=[50, 100])\n",
    "replay_neuron_set = obi.nbS1VPMInputs(sample_percentage=25)\n",
    "# rec_neuron_set = obi.PredefinedNeuronSet(node_set=\"Layer6\", sample_percentage=100)\n",
    "# property_neuron_set = obi.PropertyNeuronSet(\n",
    "#     property_filter=[obi.NeuronPropertyFilter(filter_dict={\"layer\": [\"1\", \"2\", \"3\"], \"synapse_class\": [\"INH\"]}),\n",
    "#                      obi.NeuronPropertyFilter(filter_dict={\"layer\": [\"4\", \"5\", \"6\"], \"synapse_class\": [\"EXC\"]})]\n",
    "# )\n",
    "sim_conf.add(sim_neuron_set, name='SimNeurons')\n",
    "sim_conf.add(stim_neuron_set, name='StimNeurons')\n",
    "sim_conf.add(rec_neuron_set, name='RecNeurons')\n",
    "sim_conf.add(property_neuron_set, name='PropertyNeuronSet')\n",
    "sim_conf.add(replay_neuron_set, name=\"VPM_input\")\n",
    "\n",
    "# Stimuli\n",
    "current_stimulus = obi.ConstantCurrentClampSomaticStimulus(timestamps=regular_timesteps.ref, duration=5.0, neuron_set=stim_neuron_set.ref, amplitude=[0.2, 0.5])\n",
    "sync_current_stimulus = obi.ConstantCurrentClampSomaticStimulus(timestamps=regular_timesteps.ref, duration=100.0, neuron_set=stim_neuron_set.ref, amplitude=0.1)\n",
    "poisson_input = obi.PoissonSpikeStimulus(timestamps=regular_timesteps.ref, duration=800, frequency=20,\n",
    "                                         source_neuron_set=replay_neuron_set.ref,\n",
    "                                         targeted_neuron_set=stim_neuron_set.ref)\n",
    "sim_conf.add(current_stimulus, name='CurrentStimulus')\n",
    "sim_conf.add(sync_current_stimulus, name='SyncCurrentStimulus')\n",
    "sim_conf.add(poisson_input, name='PoissonInputStimulus')\n",
    "\n",
    "# Voltage Recordings\n",
    "voltage_recording = obi.SomaVoltageRecording(timestamps=regular_timesteps.ref, neuron_set=rec_neuron_set.ref, start_time=0.0, end_time=sim_duration)\n",
    "sim_conf.add(voltage_recording, name='SomaVoltRec')\n",
    "                                       \n",
    "# Initilization\n",
    "simulations_initialize = obi.CircuitSimulationScanConfig.Initialize(circuit=[circuit, circuit2], node_set=sim_neuron_set.ref, simulation_length=sim_duration)\n",
    "sim_conf.set(simulations_initialize, name='initialize')\n",
    "\n",
    "# Validated Config\n",
    "validated_sim_conf = sim_conf.validated_config()"
   ]
  },
  {
   "cell_type": "code",
   "execution_count": null,
   "metadata": {},
   "outputs": [],
   "source": [
    "grid_scan = obi.GridScanGenerationTask(form=validated_sim_conf, output_root='../../../../obi-output/circuit_simulations/grid_scan_vpm_hardcoded')\n",
    "grid_scan.multiple_value_parameters(display=True)\n",
    "grid_scan.coordinate_parameters(display=True)\n",
    "# grid_scan.coordinate_instances(display=True)\n",
    "grid_scan.execute()\n",
    "obi.run_task_for_single_configs(single_configs=grid_scan.single_configs)"
   ]
  },
  {
   "cell_type": "code",
   "execution_count": null,
   "metadata": {},
   "outputs": [],
   "source": [
    "# Spot check of generated spikes files\n",
    "import h5py\n",
    "\n",
    "h5 = h5py.File(\"../../../../obi-output/circuit_simulations/grid_scan_vpm_hardcoded/initialize.circuit=N_10__top_nodes_dim6/stimuli.CurrentStimulus.amplitude=0.2/PoissonInputStimulus_spikes.h5\", \"r\")\n",
    "\n",
    "print(h5[\"spikes\"].keys())\n",
    "print(h5[\"spikes/VPM\"][\"node_ids\"][:])\n",
    "h5.close()"
   ]
  },
  {
   "cell_type": "code",
   "execution_count": null,
   "metadata": {},
   "outputs": [],
   "source": [
    "# Deserialization\n",
    "# grid_scan_ds = obi.deserialize_obi_object_from_json_file(\"../../../../obi-output/circuit_simulations/grid_scan_vpm_hardcoded/run_scan_config.json\")"
   ]
  },
  {
   "cell_type": "code",
   "execution_count": null,
   "metadata": {},
   "outputs": [],
   "source": [
    "# grid_scan_ds"
   ]
  }
 ],
 "metadata": {
  "kernelspec": {
   "display_name": "obi-one (3.12.9)",
   "language": "python",
   "name": "python3"
  },
  "language_info": {
   "codemirror_mode": {
    "name": "ipython",
    "version": 3
   },
   "file_extension": ".py",
   "mimetype": "text/x-python",
   "name": "python",
   "nbconvert_exporter": "python",
   "pygments_lexer": "ipython3",
   "version": "3.12.9"
  }
 },
 "nbformat": 4,
 "nbformat_minor": 4
}
