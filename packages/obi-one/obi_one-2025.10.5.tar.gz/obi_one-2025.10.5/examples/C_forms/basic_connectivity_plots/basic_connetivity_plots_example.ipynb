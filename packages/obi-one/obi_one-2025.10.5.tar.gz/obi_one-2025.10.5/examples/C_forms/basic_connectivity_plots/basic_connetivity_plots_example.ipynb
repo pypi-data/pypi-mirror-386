{
 "cells": [
  {
   "cell_type": "markdown",
   "metadata": {},
   "source": [
    "# Basic connectivity plots\n",
    "\n",
    "Example notebook on how to generate basic connectivity plots from a ConnectivityMatrix object"
   ]
  },
  {
   "cell_type": "code",
   "execution_count": null,
   "metadata": {},
   "outputs": [],
   "source": [
    "import obi_one as obi\n",
    "from pathlib import Path"
   ]
  },
  {
   "cell_type": "code",
   "execution_count": null,
   "metadata": {},
   "outputs": [],
   "source": [
    "matrix_path_prefix = Path(\"../../data/connectivity_matrices\")"
   ]
  },
  {
   "cell_type": "code",
   "execution_count": null,
   "metadata": {},
   "outputs": [],
   "source": [
    "basic_connectivity_plots_scan_config = obi.BasicConnectivityPlotsScanConfig(\n",
    "                    initialize=obi.BasicConnectivityPlotsScanConfig.Initialize(\n",
    "                        matrix_path=[obi.NamedPath(name=\"N_10__top_nodes_dim6\", path=str(matrix_path_prefix / \"N_10__top_nodes_dim6\" / \"connectivity_matrix.h5\")),\n",
    "                                     obi.NamedPath(name=\"N_10__top_rc_nodes_dim2_rc\", path=str(matrix_path_prefix / \"N_10__top_rc_nodes_dim2_rc\" / \"connectivity_matrix.h5\"))],\n",
    "                        plot_formats=(\"png\",),  # sub-tuple of ('png', 'pdf', 'svg'), if not specified all are plotted\n",
    "                        rendering_cmap=\"custom\",  # \"custom\" + .csv file OR Python cmap, e.g., \"tab10\"\n",
    "                        rendering_color_file=\"colors_tab10.csv\",\n",
    "                        # plot_types=(\"nodes\",), # sub-tuple of ('nodes', 'connectivity_global', 'connectivity_pathway'), if not specified all are plotted\n",
    "                        # dpi=int default 300\n",
    "                    )\n",
    ")\n",
    "\n",
    "grid_scan = obi.GridScanGenerationTask(form=basic_connectivity_plots_scan_config, output_root=\"../../../../obi-output/basic_connectivity_plots/grid_scan\", coordinate_directory_option=\"VALUE\")\n",
    "grid_scan.execute()"
   ]
  },
  {
   "cell_type": "code",
   "execution_count": null,
   "metadata": {},
   "outputs": [],
   "source": [
    "obi.run_tasks_for_generated_scan(grid_scan)"
   ]
  },
  {
   "cell_type": "code",
   "execution_count": null,
   "metadata": {},
   "outputs": [],
   "source": [
    "# Display the intermediary data\n",
    "grid_scan.multiple_value_parameters(display=True)\n",
    "grid_scan.coordinate_parameters(display=True)"
   ]
  },
  {
   "cell_type": "code",
   "execution_count": null,
   "metadata": {},
   "outputs": [],
   "source": [
    "# Deserialize\n",
    "# grid_scan_ds = obi.deserialize_obi_object_from_json_file(\"../../../../obi-output/basic_connectivity_plots/grid_scan/run_scan_config.json\")\n",
    "# grid_scan_ds"
   ]
  }
 ],
 "metadata": {
  "kernelspec": {
   "display_name": "obi-one (3.12.9)",
   "language": "python",
   "name": "python3"
  },
  "language_info": {
   "codemirror_mode": {
    "name": "ipython",
    "version": 3
   },
   "file_extension": ".py",
   "mimetype": "text/x-python",
   "name": "python",
   "nbconvert_exporter": "python",
   "pygments_lexer": "ipython3",
   "version": "3.12.9"
  }
 },
 "nbformat": 4,
 "nbformat_minor": 4
}
