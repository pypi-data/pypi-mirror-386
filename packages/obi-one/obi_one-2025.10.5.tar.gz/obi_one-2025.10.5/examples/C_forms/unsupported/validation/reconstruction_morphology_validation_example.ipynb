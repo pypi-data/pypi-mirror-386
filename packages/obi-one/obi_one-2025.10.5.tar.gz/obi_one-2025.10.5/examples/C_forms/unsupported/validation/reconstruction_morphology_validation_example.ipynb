{
 "cells": [
  {
   "cell_type": "code",
   "execution_count": 1,
   "id": "0c84b392",
   "metadata": {},
   "outputs": [],
   "source": [
    "import obi_one as obi"
   ]
  },
  {
   "cell_type": "code",
   "execution_count": null,
   "id": "4e425224",
   "metadata": {},
   "outputs": [
    {
     "name": "stdout",
     "output_type": "stream",
     "text": [
      "[2025-06-05 17:07:07,816] INFO: Running Cell Morphology Validation\n",
      "[2025-06-05 17:07:07,831] INFO: Saving Cell Morphology Validation Output\n"
     ]
    }
   ],
   "source": [
    "cell_morphology_validation = obi.CellMorphologyValidation(morphology_file_path=\"../../examples/data/morphologies/L5_TPC:A_MusMusculus_PrimarySomatosensory_C060114A5/C060114A5.swc\")\n",
    "cell_morphology_validation.run()\n",
    "cell_morphology_validation.save()"
   ]
  }
 ],
 "metadata": {
  "kernelspec": {
   "display_name": "obi-one (3.12.9)",
   "language": "python",
   "name": "python3"
  },
  "language_info": {
   "codemirror_mode": {
    "name": "ipython",
    "version": 3
   },
   "file_extension": ".py",
   "mimetype": "text/x-python",
   "name": "python",
   "nbconvert_exporter": "python",
   "pygments_lexer": "ipython3",
   "version": "3.12.9"
  }
 },
 "nbformat": 4,
 "nbformat_minor": 5
}
