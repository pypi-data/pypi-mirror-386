{
 "cells": [
  {
   "cell_type": "markdown",
   "metadata": {},
   "source": [
    "# Sub-circuit extraction example"
   ]
  },
  {
   "cell_type": "code",
   "execution_count": null,
   "metadata": {},
   "outputs": [],
   "source": [
    "import obi_one as obi\n",
    "from pathlib import Path"
   ]
  },
  {
   "cell_type": "code",
   "execution_count": null,
   "metadata": {},
   "outputs": [],
   "source": [
    "input_root = Path(\"../../data/tiny_circuits\")\n",
    "output_root = Path(\"../../../../obi-output/extracted_subcircuits\")"
   ]
  },
  {
   "cell_type": "markdown",
   "metadata": {},
   "source": [
    "### Run circuit extraction\n",
    "\n",
    "Extracting sub-circuits consisting of 50% or 100% excitatory neurons of two small example circuits each."
   ]
  },
  {
   "cell_type": "code",
   "execution_count": null,
   "metadata": {},
   "outputs": [],
   "source": [
    "circuit_extractions_form = obi.CircuitExtractionScanConfig(\n",
    "                    initialize=obi.CircuitExtractionScanConfig.Initialize(\n",
    "                        circuit=[obi.Circuit(name=\"N_10__top_nodes_dim6\", path=str(input_root / \"N_10__top_nodes_dim6\" / \"circuit_config.json\")),\n",
    "                                 obi.Circuit(name=\"N_10__top_rc_nodes_dim2_rc\", path=str(input_root / \"N_10__top_rc_nodes_dim2_rc\" / \"circuit_config.json\"))],\n",
    "                        do_virtual=False,\n",
    "                        create_external=False,\n",
    "                        run_validation=False,\n",
    "                    ),\n",
    "                    neuron_set=obi.PredefinedNeuronSet(node_set=\"Excitatory\", sample_percentage=[50, 100]),\n",
    ")\n",
    "\n",
    "grid_scan = obi.GridScanGenerationTask(form=circuit_extractions_form, output_root=str(output_root))\n",
    "grid_scan.execute()"
   ]
  },
  {
   "cell_type": "code",
   "execution_count": null,
   "metadata": {},
   "outputs": [],
   "source": [
    "# Display the intermediary data\n",
    "grid_scan.multiple_value_parameters()\n",
    "grid_scan.coordinate_parameters()\n",
    "# grid_scan.coordinate_instances(display=True)"
   ]
  },
  {
   "cell_type": "code",
   "execution_count": null,
   "metadata": {},
   "outputs": [],
   "source": [
    "obi.run_tasks_for_generated_scan(grid_scan)"
   ]
  },
  {
   "cell_type": "markdown",
   "metadata": {},
   "source": [
    "### Check original circuits vs. extracted sub-circuits"
   ]
  },
  {
   "cell_type": "code",
   "execution_count": null,
   "metadata": {},
   "outputs": [],
   "source": [
    "# Input circuits\n",
    "for circuit in circuit_extractions_form.initialize.circuit:\n",
    "    n_exc = len(circuit.sonata_circuit.nodes[circuit.default_population_name].ids(\"Excitatory\"))\n",
    "    n_inh = len(circuit.sonata_circuit.nodes[circuit.default_population_name].ids(\"Inhibitory\"))\n",
    "    print(f\"Circuit '{circuit}': {n_exc + n_inh} neurons ({n_exc} EXC, {n_inh} INH) and {circuit.sonata_circuit.edges[circuit.default_edge_population_name].size} synapses\")"
   ]
  },
  {
   "cell_type": "code",
   "execution_count": null,
   "metadata": {},
   "outputs": [],
   "source": [
    "# Extracted sub-circuits\n",
    "for _idx, _inst in enumerate(grid_scan.single_configs):\n",
    "    _inst.initialize_coordinate_output_root(output_root)\n",
    "    cfg = _inst.coordinate_output_root / \"circuit_config.json\"\n",
    "    circuit = obi.Circuit(name=\"\", path=str(cfg))\n",
    "    n_exc = len(circuit.sonata_circuit.nodes[circuit.default_population_name].ids(\"Excitatory\"))\n",
    "    n_inh = len(circuit.sonata_circuit.nodes[circuit.default_population_name].ids(\"Inhibitory\"))\n",
    "    print(f\"Extracted sub-circuit '{_inst.coordinate_output_root.relative_to(output_root)}': {n_exc + n_inh} neurons ({n_exc} EXC, {n_inh} INH) and {circuit.sonata_circuit.edges[circuit.default_edge_population_name].size if circuit.default_edge_population_name else 0} synapses\")"
   ]
  }
 ],
 "metadata": {
  "kernelspec": {
   "display_name": "obi-one (3.12.9)",
   "language": "python",
   "name": "python3"
  },
  "language_info": {
   "codemirror_mode": {
    "name": "ipython",
    "version": 3
   },
   "file_extension": ".py",
   "mimetype": "text/x-python",
   "name": "python",
   "nbconvert_exporter": "python",
   "pygments_lexer": "ipython3",
   "version": "3.12.9"
  }
 },
 "nbformat": 4,
 "nbformat_minor": 4
}
