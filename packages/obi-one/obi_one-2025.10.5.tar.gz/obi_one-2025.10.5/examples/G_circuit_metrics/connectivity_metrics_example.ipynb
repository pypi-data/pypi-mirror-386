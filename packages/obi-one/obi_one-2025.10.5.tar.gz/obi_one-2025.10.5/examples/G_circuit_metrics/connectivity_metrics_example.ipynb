{
 "cells": [
  {
   "cell_type": "code",
   "execution_count": null,
   "id": "06ee7818-af71-430e-877b-0f987d43c502",
   "metadata": {},
   "outputs": [],
   "source": [
    "import obi_auth\n",
    "import pandas as pd\n",
    "from entitysdk import Client\n",
    "from ipywidgets import widgets\n",
    "from obi_notebook import get_entities, get_projects\n",
    "from obi_one.scientific.library import circuit_metrics, connectivity_metrics, circuit\n"
   ]
  },
  {
   "cell_type": "code",
   "execution_count": null,
   "id": "1aee7bb1-8b89-41b5-bc7d-b3235543341d",
   "metadata": {},
   "outputs": [],
   "source": [
    "token = obi_auth.get_token(environment=\"production\")"
   ]
  },
  {
   "cell_type": "code",
   "execution_count": null,
   "id": "a40bf930-afa6-43f5-bc8b-0ea444577543",
   "metadata": {},
   "outputs": [],
   "source": [
    "project_context = get_projects.get_projects(token)"
   ]
  },
  {
   "cell_type": "code",
   "execution_count": null,
   "id": "0b9694a2-7444-493b-8639-c128031ecbeb",
   "metadata": {},
   "outputs": [],
   "source": [
    "circuit_ids = get_entities.get_entities(\n",
    "    \"circuit\",\n",
    "    token,\n",
    "    result=[],\n",
    "    return_entities=False,\n",
    "    multi_select=False,\n",
    "    show_pages=True,\n",
    "    project_context=project_context,\n",
    "    page_size=10,\n",
    "    default_scale=\"small\",\n",
    "    exclude_scales=[\"single\"],\n",
    "    add_columns=[\"subject.name\"],\n",
    ")"
   ]
  },
  {
   "cell_type": "code",
   "execution_count": null,
   "id": "0c8ad54f-82d0-4dbc-853a-efb1dcada85d",
   "metadata": {},
   "outputs": [],
   "source": [
    "# Retrieve name of edge populations (as part of circuit metrics)\n",
    "db_client = Client(environment=project_context.environment, project_context=project_context, token_manager=token)\n",
    "metrics = circuit_metrics.get_circuit_metrics(circuit_id=circuit_ids[0], db_client=db_client)"
   ]
  },
  {
   "cell_type": "code",
   "execution_count": null,
   "id": "9e78a32c-483a-4e1f-a82c-4da8a3fba514",
   "metadata": {},
   "outputs": [],
   "source": [
    "e_popul_wdgt = widgets.Dropdown(options=metrics.names_of_chemical_edge_populations, description=\"Edge population:\", style={\"description_width\": \"auto\"}, layout=widgets.Layout(width=\"max-content\"))\n",
    "display(e_popul_wdgt)"
   ]
  },
  {
   "cell_type": "code",
   "execution_count": null,
   "id": "997046b3-54d4-404f-9c23-a4e23954b08a",
   "metadata": {},
   "outputs": [],
   "source": [
    "# Select group-by property\n",
    "# --> Valid options to be loaded from the circuit\n",
    "# --> Depends on the pre-/post-synaptic node populations of the selected edges\n",
    "group_by = \"mtype\"  # None, \"layer\", \"mtype\", ...\n",
    "\n",
    "# Select pre-/post-synaptic neuron selections\n",
    "# --> Valid options to be retrieved from the circuit\n",
    "# --> Depends on the pre-/post-synaptic node populations of the selected edges\n",
    "pre_selection = {\"etype\": [\"bAC\", \"cNAC\"]}\n",
    "pre_node_set = None\n",
    "post_selection = {\"layer\": \"SP\"}\n",
    "post_node_set = \"Inhibitory\"\n",
    "\n",
    "# Select max. distance to take connections into account\n",
    "max_distance = None  # None, 100, 1000, ... (um)"
   ]
  },
  {
   "cell_type": "code",
   "execution_count": null,
   "id": "65992f24-4677-413a-ae1a-ed3c1f30ff8f",
   "metadata": {},
   "outputs": [],
   "source": [
    "conn_output = connectivity_metrics.get_connectivity_metrics(\n",
    "    circuit_id=circuit_ids[0],\n",
    "    db_client=db_client,\n",
    "    edge_population=e_popul_wdgt.value,\n",
    "    pre_selection=pre_selection,\n",
    "    pre_node_set=pre_node_set,\n",
    "    post_selection=post_selection,\n",
    "    post_node_set=post_node_set,\n",
    "    group_by=group_by,\n",
    "    max_distance=max_distance\n",
    ")"
   ]
  },
  {
   "cell_type": "code",
   "execution_count": null,
   "id": "b8ff9201-c8c3-4d1e-b37f-e736a60d708a",
   "metadata": {},
   "outputs": [],
   "source": [
    "# Convert connection probability output to a dataframe\n",
    "pd.DataFrame(conn_output.connection_probability)"
   ]
  },
  {
   "cell_type": "code",
   "execution_count": null,
   "id": "79016046-76b5-435a-bcde-31858cfa32d2",
   "metadata": {},
   "outputs": [],
   "source": [
    "# Convert #synapses per connection output to a dataframe\n",
    "pd.DataFrame(conn_output.mean_number_of_synapses)"
   ]
  }
 ],
 "metadata": {
  "kernelspec": {
   "display_name": "obi-one",
   "language": "python",
   "name": "obi-one"
  },
  "language_info": {
   "codemirror_mode": {
    "name": "ipython",
    "version": 3
   },
   "file_extension": ".py",
   "mimetype": "text/x-python",
   "name": "python",
   "nbconvert_exporter": "python",
   "pygments_lexer": "ipython3",
   "version": "3.12.9"
  }
 },
 "nbformat": 4,
 "nbformat_minor": 5
}
