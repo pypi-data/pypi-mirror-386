{
 "cells": [
  {
   "cell_type": "code",
   "execution_count": null,
   "id": "a6b67a2b",
   "metadata": {},
   "outputs": [],
   "source": [
    "import obi_auth\n",
    "import pandas\n",
    "\n",
    "from obi_notebook import get_entities, get_projects\n",
    "\n",
    "token = obi_auth.get_token(environment=\"production\")\n",
    "project_context = get_projects.get_projects(token)"
   ]
  },
  {
   "cell_type": "code",
   "execution_count": null,
   "id": "c9891cba",
   "metadata": {},
   "outputs": [],
   "source": [
    "circuit_ids = []\n",
    "circuit_ids = get_entities.get_entities(\n",
    "    \"circuit\",\n",
    "    token,\n",
    "    circuit_ids,\n",
    "    return_entities=False,\n",
    "    multi_select=True,\n",
    "    show_pages=True,\n",
    "    project_context=project_context,\n",
    "    page_size=10,\n",
    "    default_scale=\"small\",\n",
    "    exclude_scales=[\"single\"],\n",
    "    add_columns=[\"subject.name\"],\n",
    ")"
   ]
  },
  {
   "cell_type": "code",
   "execution_count": null,
   "id": "9b2e97d8",
   "metadata": {},
   "outputs": [],
   "source": [
    "from entitysdk.client import Client\n",
    "from obi_one.scientific.library import circuit_metrics\n",
    "from obi_one.scientific.library.circuit_metrics import CircuitStatsLevelOfDetail, ALL_POPULATIONS\n",
    "\n",
    "subdomain = \"www\"\n",
    "url = f\"https://{subdomain}.openbraininstitute.org/api/entitycore\"\n",
    "\n",
    "db_client = Client(api_url=url, project_context=project_context, token_manager=token)\n",
    "\n",
    "lod_nodes = {ALL_POPULATIONS: CircuitStatsLevelOfDetail.advanced}\n",
    "lod_edges = {ALL_POPULATIONS: CircuitStatsLevelOfDetail.advanced}\n",
    "\n",
    "metrics = circuit_metrics.get_circuit_metrics(circuit_id=circuit_ids[0],\n",
    "                                              level_of_detail_nodes=lod_nodes,\n",
    "                                              level_of_detail_edges=lod_edges,\n",
    "                                              db_client=db_client)"
   ]
  },
  {
   "cell_type": "code",
   "execution_count": null,
   "id": "595e2dbb",
   "metadata": {},
   "outputs": [],
   "source": [
    "metrics.names_of_biophys_node_populations"
   ]
  },
  {
   "cell_type": "code",
   "execution_count": null,
   "id": "31596aae",
   "metadata": {},
   "outputs": [],
   "source": [
    "metrics.virtual_node_populations[0].property_value_counts"
   ]
  },
  {
   "cell_type": "code",
   "execution_count": null,
   "id": "c0485071",
   "metadata": {},
   "outputs": [],
   "source": [
    "metrics[metrics.names_of_biophys_node_populations[0]].node_location_info[\"y\"]"
   ]
  },
  {
   "cell_type": "code",
   "execution_count": null,
   "id": "69ccff2c",
   "metadata": {},
   "outputs": [],
   "source": [
    "metrics.chemical_edge_populations[0].property_stats"
   ]
  },
  {
   "cell_type": "code",
   "execution_count": null,
   "id": "a11e1c06",
   "metadata": {},
   "outputs": [],
   "source": [
    "print(metrics.names_of_chemical_edge_populations[0])\n",
    "metrics[metrics.names_of_chemical_edge_populations[0]].degree_stats"
   ]
  },
  {
   "cell_type": "code",
   "execution_count": null,
   "id": "4b55edf0",
   "metadata": {},
   "outputs": [],
   "source": [
    "lod_edges = {ALL_POPULATIONS: CircuitStatsLevelOfDetail.none}\n",
    "\n",
    "metrics = circuit_metrics.get_circuit_metrics(circuit_id=circuit_ids[0],\n",
    "                                    db_client=db_client, level_of_detail_edges=lod_edges)"
   ]
  },
  {
   "cell_type": "code",
   "execution_count": null,
   "id": "00a64daf",
   "metadata": {},
   "outputs": [],
   "source": [
    "print(metrics.names_of_chemical_edge_populations)\n",
    "print(metrics.chemical_edge_populations)"
   ]
  },
  {
   "cell_type": "code",
   "execution_count": null,
   "id": "cb9ff6bb",
   "metadata": {},
   "outputs": [],
   "source": [
    "lod_edges = {ALL_POPULATIONS: CircuitStatsLevelOfDetail.none}\n",
    "lod_nodes = {ALL_POPULATIONS: CircuitStatsLevelOfDetail.none}\n",
    "\n",
    "metrics = circuit_metrics.get_circuit_metrics(circuit_id=circuit_ids[0],\n",
    "                                    db_client=db_client,\n",
    "                                    level_of_detail_edges=lod_edges,\n",
    "                                    level_of_detail_nodes=lod_nodes)"
   ]
  },
  {
   "cell_type": "code",
   "execution_count": null,
   "id": "6715e589",
   "metadata": {},
   "outputs": [],
   "source": [
    "print(metrics.names_of_biophys_node_populations)\n",
    "print(metrics.biophysical_node_populations)"
   ]
  },
  {
   "cell_type": "code",
   "execution_count": null,
   "id": "d6b723a4",
   "metadata": {},
   "outputs": [],
   "source": [
    "lod_edges[metrics.names_of_chemical_edge_populations[2]] = CircuitStatsLevelOfDetail.full\n",
    "\n",
    "metrics = circuit_metrics.get_circuit_metrics(circuit_id=circuit_ids[0],\n",
    "                                    db_client=db_client,\n",
    "                                    level_of_detail_edges=lod_edges,\n",
    "                                    level_of_detail_nodes=lod_nodes)"
   ]
  },
  {
   "cell_type": "code",
   "execution_count": null,
   "id": "30917ab5",
   "metadata": {},
   "outputs": [],
   "source": [
    "print(metrics.chemical_edge_populations)\n",
    "metrics[metrics.names_of_chemical_edge_populations[2]]"
   ]
  },
  {
   "cell_type": "code",
   "execution_count": null,
   "id": "ac78c25a",
   "metadata": {},
   "outputs": [],
   "source": [
    "print(metrics.names_of_biophys_node_populations)"
   ]
  }
 ],
 "metadata": {
  "kernelspec": {
   "display_name": "obi-one-tmp",
   "language": "python",
   "name": "obi-one-tmp"
  },
  "language_info": {
   "codemirror_mode": {
    "name": "ipython",
    "version": 3
   },
   "file_extension": ".py",
   "mimetype": "text/x-python",
   "name": "python",
   "nbconvert_exporter": "python",
   "pygments_lexer": "ipython3",
   "version": "3.12.9"
  }
 },
 "nbformat": 4,
 "nbformat_minor": 5
}
