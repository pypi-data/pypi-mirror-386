{
 "cells": [
  {
   "cell_type": "markdown",
   "metadata": {},
   "source": [
    "# Process simulation campaign with blueetl"
   ]
  },
  {
   "cell_type": "code",
   "execution_count": null,
   "metadata": {},
   "outputs": [],
   "source": [
    "from blueetl.analysis import run_from_file\n",
    "analysis_config_file = \"analysis_config_01_relative_with_soma.yaml\"\n",
    "loglevel = \"INFO\"\n",
    "ma = run_from_file(analysis_config_file, loglevel=loglevel)\n",
    "# ma = ma.apply_filter()"
   ]
  },
  {
   "cell_type": "markdown",
   "metadata": {},
   "source": [
    "# Blueetl has created two analyzer objects for the spikes and soma blocks in the configuration file"
   ]
  },
  {
   "cell_type": "code",
   "execution_count": null,
   "metadata": {},
   "outputs": [],
   "source": [
    "print(ma.analyzers)\n"
   ]
  },
  {
   "cell_type": "markdown",
   "metadata": {},
   "source": [
    "# View the dataframes created for the spikes analyzer\n",
    "- These are divided into \"repo\" and \"features\" dataframes.\n",
    "\n",
    "- Repo dataframes are standard dataframes which organize the basic simualtion information and data.\n",
    "\n",
    "- Features dataframes are calculated from the initial repo dataframes by code provided by the user, and typically store calcualted metrics or vectors such as PSTHs"
   ]
  },
  {
   "cell_type": "code",
   "execution_count": null,
   "metadata": {},
   "outputs": [],
   "source": [
    "spikes_analyzer = ma.analyzers[\"spikes\"]\n",
    "\n",
    "print(spikes_analyzer.repo.report.df)\n",
    "print(spikes_analyzer.repo.neuron_classes.df)\n",
    "print(spikes_analyzer.repo.simulations.df)\n",
    "print(spikes_analyzer.repo.neurons.df)\n",
    "print(spikes_analyzer.repo.windows.df)\n",
    "\n",
    "print(spikes_analyzer.features.names)\n",
    "print(spikes_analyzer.features.by_gid.df)\n",
    "print(spikes_analyzer.features.by_gid_and_trial.df)\n",
    "print(spikes_analyzer.features.by_neuron_class.df)\n",
    "print(spikes_analyzer.features.by_neuron_class_and_trial.df)\n",
    "print(spikes_analyzer.features.histograms.df)"
   ]
  },
  {
   "cell_type": "markdown",
   "metadata": {},
   "source": [
    "# Example blueetl filtering of dataframes"
   ]
  },
  {
   "cell_type": "code",
   "execution_count": null,
   "metadata": {},
   "outputs": [],
   "source": [
    "spikes_analyzer.repo.report.df.etl.q(neuron_class='L2_X', window='w2')\n"
   ]
  },
  {
   "cell_type": "markdown",
   "metadata": {},
   "source": [
    "# View the dataframes created for the soma analyzer"
   ]
  },
  {
   "cell_type": "code",
   "execution_count": null,
   "metadata": {},
   "outputs": [],
   "source": [
    "soma_report_analyzer = ma.analyzers[\"soma\"]\n",
    "\n",
    "print(soma_report_analyzer.repo.report.df)\n",
    "print(soma_report_analyzer.repo.neuron_classes.df)\n",
    "print(soma_report_analyzer.repo.simulations.df)\n",
    "print(soma_report_analyzer.repo.neurons.df)\n",
    "print(soma_report_analyzer.repo.windows.df)\n",
    "\n",
    "print(soma_report_analyzer.features.names)\n",
    "print(soma_report_analyzer.features.by_neuron_class.df)\n"
   ]
  },
  {
   "cell_type": "code",
   "execution_count": null,
   "metadata": {},
   "outputs": [],
   "source": [
    "# for feature_name in soma_report_analyzer.features.names:\n",
    "#     print(feature_name)\n",
    "#     print(soma_report_analyzer.features._data[feature_name].df)"
   ]
  }
 ],
 "metadata": {
  "kernelspec": {
   "display_name": "obi-one (3.12.9)",
   "language": "python",
   "name": "python3"
  },
  "language_info": {
   "codemirror_mode": {
    "name": "ipython",
    "version": 3
   },
   "file_extension": ".py",
   "mimetype": "text/x-python",
   "name": "python",
   "nbconvert_exporter": "python",
   "pygments_lexer": "ipython3",
   "version": "3.12.9"
  }
 },
 "nbformat": 4,
 "nbformat_minor": 2
}
