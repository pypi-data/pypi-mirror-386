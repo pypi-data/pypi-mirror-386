{
 "cells": [
  {
   "cell_type": "markdown",
   "id": "7176f2e3",
   "metadata": {},
   "source": [
    "## Morphology locations as a Form\n",
    "\n",
    "This is probably not very useful. Morphology locations are a rather abstract concept.\n",
    "The form simply plots the generate locations on the morphology and writes them to a csv file."
   ]
  },
  {
   "cell_type": "code",
   "execution_count": null,
   "id": "baf1c957",
   "metadata": {},
   "outputs": [],
   "source": [
    "import obi_one as obi\n",
    "from pathlib import Path\n",
    "\n",
    "morph_path = Path(\"../data/morphologies/L5_TPC:A_MusMusculus_PrimarySomatosensory_C060114A5/C060114A5.swc\")"
   ]
  },
  {
   "cell_type": "code",
   "execution_count": null,
   "id": "6bda745c",
   "metadata": {},
   "outputs": [],
   "source": [
    "morph_locations = obi.RandomMorphologyLocations(number_of_locations=[10, 20], section_types=(4, ))\n",
    "# Try this one for a more exciting example.\n",
    "# morph_locations = obi.ClusteredPathDistanceMorphologyLocations(\n",
    "#                         number_of_locations=[100, 200],\n",
    "#                         section_types=(4, ),\n",
    "#                         n_clusters=10,\n",
    "#                         cluster_max_distance=20,\n",
    "#                         path_dist_mean=200,\n",
    "#                         path_dist_sd=80,\n",
    "#                         n_groups_per_cluster=2,\n",
    "#                     )\n",
    "morph_loc_scan_config = obi.MorphologyLocationsScanConfig(\n",
    "                    initialize=obi.MorphologyLocationsScanConfig.Initialize(\n",
    "                        morphology=[morph_path]\n",
    "                    ),\n",
    "                    morph_locations=morph_locations\n",
    ")\n",
    "\n",
    "grid_scan = obi.GridScanGenerationTask(form=morph_loc_scan_config, \n",
    "                         output_root=\"../../../obi-output/morphology_locations\")\n",
    "grid_scan.execute()\n",
    "obi.run_tasks_for_generated_scan(grid_scan)"
   ]
  },
  {
   "cell_type": "markdown",
   "id": "c48cfe9b",
   "metadata": {},
   "source": [
    "## Morphology locations blocks\n",
    "\n",
    "There are several blocks of differing complexity that generate locations. Above, we used the simplest one, but others are available.\n",
    "\n",
    "Here, we demo most of them."
   ]
  },
  {
   "cell_type": "code",
   "execution_count": null,
   "id": "2eefda40",
   "metadata": {},
   "outputs": [],
   "source": [
    "from morphio import Morphology as MorphioMorphology\n",
    "m = MorphioMorphology(morph_path)"
   ]
  },
  {
   "cell_type": "markdown",
   "id": "a2b7b207",
   "metadata": {},
   "source": [
    "### RandomMorphologyLocations\n",
    "Simplest case: Random locations without constraints.\n",
    "\n",
    "Note that there are no constraints on path distance or anything, really."
   ]
  },
  {
   "cell_type": "code",
   "execution_count": null,
   "id": "2084c33c",
   "metadata": {},
   "outputs": [],
   "source": [
    "# Default number of locations is 1\n",
    "tst = obi.RandomMorphologyLocations()\n",
    "display(tst.points_on(m))\n",
    "\n",
    "# Can specify a larger number instead.\n",
    "tst = obi.RandomMorphologyLocations(number_of_locations=10)\n",
    "display(tst.points_on(m))\n",
    "\n",
    "# Can also limit the section types.\n",
    "# Note that the above likely has different section types, this one only shows \"4\".\n",
    "tst = obi.RandomMorphologyLocations(number_of_locations=10, section_types=(4, ))\n",
    "display(tst.points_on(m))"
   ]
  },
  {
   "cell_type": "markdown",
   "id": "8a676da4",
   "metadata": {},
   "source": [
    "### RandomGroupedMorphologyLocations\n",
    "This only adds a grouping to the output. That is, the column \"source_index\" can have values other than 0."
   ]
  },
  {
   "cell_type": "code",
   "execution_count": null,
   "id": "54a8b142",
   "metadata": {},
   "outputs": [],
   "source": [
    "# Default is a single group. This does not change anything.\n",
    "tst = obi.RandomGroupedMorphologyLocations()\n",
    "display(tst.points_on(m))\n",
    "\n",
    "# More customized. Now \"source_index\" has different values\n",
    "tst = obi.RandomGroupedMorphologyLocations(number_of_locations=10, n_groups=2)\n",
    "display(tst.points_on(m))"
   ]
  },
  {
   "cell_type": "markdown",
   "id": "7c0a1d35",
   "metadata": {},
   "source": [
    "### ClusteredMorphologyLocations\n",
    "This constrains generated locations such that they are clustered. That means, groups of them will be within a specified maximum distance of each other. Note that this distance is two times the value of the parameter 'cluster_max_distance'."
   ]
  },
  {
   "cell_type": "code",
   "execution_count": null,
   "id": "bd23f85e",
   "metadata": {},
   "outputs": [],
   "source": [
    "# Note that many locations will be on the same section and nearby segments.\n",
    "tst = obi.ClusteredMorphologyLocations(number_of_locations=20, n_clusters=5, cluster_max_distance=5.0)\n",
    "display(tst.points_on(m))\n",
    "\n",
    "# Also section type can always be specified.\n",
    "tst = obi.ClusteredMorphologyLocations(number_of_locations=20, n_clusters=5,\n",
    "                                       cluster_max_distance=5.0, section_types=(3,))\n",
    "display(tst.points_on(m))"
   ]
  },
  {
   "cell_type": "markdown",
   "id": "5e1eb612",
   "metadata": {},
   "source": [
    "### ClusteredPathDistanceMorphologyLocations\n",
    "This exposes the full complexity: Several clusters at specific path distances, and several groups per cluster."
   ]
  },
  {
   "cell_type": "code",
   "execution_count": null,
   "id": "094fabba",
   "metadata": {},
   "outputs": [],
   "source": [
    "tst = obi.ClusteredPathDistanceMorphologyLocations(\n",
    "    number_of_locations=100,\n",
    "    n_clusters=5,\n",
    "    cluster_max_distance=10.0,\n",
    "    path_dist_mean=100.0,\n",
    "    path_dist_sd=2.0\n",
    ")\n",
    "display(tst.points_on(m))\n"
   ]
  },
  {
   "cell_type": "code",
   "execution_count": null,
   "id": "c41111d0",
   "metadata": {},
   "outputs": [],
   "source": []
  }
 ],
 "metadata": {
  "kernelspec": {
   "display_name": "obi-one (3.12.9)",
   "language": "python",
   "name": "python3"
  },
  "language_info": {
   "codemirror_mode": {
    "name": "ipython",
    "version": 3
   },
   "file_extension": ".py",
   "mimetype": "text/x-python",
   "name": "python",
   "nbconvert_exporter": "python",
   "pygments_lexer": "ipython3",
   "version": "3.12.9"
  }
 },
 "nbformat": 4,
 "nbformat_minor": 5
}
