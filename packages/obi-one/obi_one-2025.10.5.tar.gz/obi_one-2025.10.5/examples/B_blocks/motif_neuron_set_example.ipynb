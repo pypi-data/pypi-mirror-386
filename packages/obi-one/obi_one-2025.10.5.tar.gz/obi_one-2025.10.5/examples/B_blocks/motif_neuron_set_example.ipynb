{
 "cells": [
  {
   "cell_type": "markdown",
   "metadata": {},
   "source": [
    "# Motif neuron set examples"
   ]
  },
  {
   "cell_type": "code",
   "execution_count": 2,
   "metadata": {},
   "outputs": [],
   "source": [
    "import obi_one as obi\n",
    "from pathlib import Path"
   ]
  },
  {
   "cell_type": "markdown",
   "metadata": {},
   "source": [
    "### __Initialization:__ Loading a circuit *with* connectivity matrix"
   ]
  },
  {
   "cell_type": "code",
   "execution_count": 4,
   "metadata": {},
   "outputs": [
    {
     "name": "stdout",
     "output_type": "stream",
     "text": [
      "Circuit 'N_10__top_nodes_dim6' with 10 neurons and 176 synapses\n",
      "Default node population: 'S1nonbarrel_neurons'\n",
      "Default edge population: 'S1nonbarrel_neurons__S1nonbarrel_neurons__chemical'\n"
     ]
    }
   ],
   "source": [
    "circuit_name = \"N_10__top_nodes_dim6\"\n",
    "\n",
    "circuit_path_prefix = Path(\"../data/tiny_circuits\")\n",
    "matrix_path_prefix = Path(\"../data/connectivity_matrices\")  # OPTIONAL: Connectivity matrix path only required for some of the node sets in this example notebook; can be set to None\n",
    "\n",
    "circuit_path = circuit_path_prefix / circuit_name / \"circuit_config.json\"\n",
    "if matrix_path_prefix is None:\n",
    "    matrix_path = None\n",
    "else:\n",
    "    matrix_path = matrix_path_prefix / circuit_name / \"connectivity_matrix.h5\"\n",
    "circuit = obi.Circuit(name=circuit_name, path=str(circuit_path), matrix_path=str(matrix_path))\n",
    "\n",
    "print(f\"Circuit '{circuit}' with {circuit.sonata_circuit.nodes[circuit.default_population_name].size} neurons and {circuit.sonata_circuit.edges[circuit.default_edge_population_name].size} synapses\")\n",
    "print(f\"Default node population: '{circuit.default_population_name}'\")\n",
    "print(f\"Default edge population: '{circuit.default_edge_population_name}'\")"
   ]
  },
  {
   "cell_type": "markdown",
   "metadata": {},
   "source": [
    "### __Example 1:__ Neuron set with all reciprocal E-E neuron pairs within a layer"
   ]
  },
  {
   "cell_type": "code",
   "execution_count": 5,
   "metadata": {},
   "outputs": [],
   "source": [
    "neuron1_filter = {\"synapse_class\": \"EXC\", \"layer\": \"6\"}  # First neuron A in pair\n",
    "neuron2_filter = {\"synapse_class\": \"EXC\", \"layer\": \"6\"}  # Second neuron B in pair\n",
    "\n",
    "conn_ff_filter = {\"nsyn\": {\"gt\": 0}}  # Feedforward connectivity from A->B\n",
    "conn_fb_filter = {\"nsyn\": {\"gt\": 0}}  # Feedback connectivity from B->A\n",
    "\n",
    "pair_selection = {}  # Select all pairs\n",
    "\n",
    "neuron_set = obi.PairMotifNeuronSet(neuron1_filter=neuron1_filter, neuron2_filter=neuron2_filter, conn_ff_filter=conn_ff_filter, conn_fb_filter=conn_fb_filter, pair_selection=pair_selection)\n"
   ]
  },
  {
   "cell_type": "code",
   "execution_count": 6,
   "metadata": {},
   "outputs": [
    {
     "data": {
      "text/html": [
       "<div>\n",
       "<style scoped>\n",
       "    .dataframe tbody tr th:only-of-type {\n",
       "        vertical-align: middle;\n",
       "    }\n",
       "\n",
       "    .dataframe tbody tr th {\n",
       "        vertical-align: top;\n",
       "    }\n",
       "\n",
       "    .dataframe thead th {\n",
       "        text-align: right;\n",
       "    }\n",
       "</style>\n",
       "<table border=\"1\" class=\"dataframe\">\n",
       "  <thead>\n",
       "    <tr style=\"text-align: right;\">\n",
       "      <th></th>\n",
       "      <th>nrn1</th>\n",
       "      <th>nrn2</th>\n",
       "      <th>nsyn_ff</th>\n",
       "      <th>nsyn_fb</th>\n",
       "      <th>nsyn_all</th>\n",
       "      <th>is_rc</th>\n",
       "    </tr>\n",
       "  </thead>\n",
       "  <tbody>\n",
       "    <tr>\n",
       "      <th>0</th>\n",
       "      <td>3</td>\n",
       "      <td>1</td>\n",
       "      <td>6</td>\n",
       "      <td>5</td>\n",
       "      <td>11</td>\n",
       "      <td>True</td>\n",
       "    </tr>\n",
       "    <tr>\n",
       "      <th>1</th>\n",
       "      <td>1</td>\n",
       "      <td>3</td>\n",
       "      <td>5</td>\n",
       "      <td>6</td>\n",
       "      <td>11</td>\n",
       "      <td>True</td>\n",
       "    </tr>\n",
       "    <tr>\n",
       "      <th>2</th>\n",
       "      <td>9</td>\n",
       "      <td>4</td>\n",
       "      <td>16</td>\n",
       "      <td>3</td>\n",
       "      <td>19</td>\n",
       "      <td>True</td>\n",
       "    </tr>\n",
       "    <tr>\n",
       "      <th>3</th>\n",
       "      <td>4</td>\n",
       "      <td>9</td>\n",
       "      <td>3</td>\n",
       "      <td>16</td>\n",
       "      <td>19</td>\n",
       "      <td>True</td>\n",
       "    </tr>\n",
       "  </tbody>\n",
       "</table>\n",
       "</div>"
      ],
      "text/plain": [
       "   nrn1  nrn2  nsyn_ff  nsyn_fb  nsyn_all  is_rc\n",
       "0     3     1        6        5        11   True\n",
       "1     1     3        5        6        11   True\n",
       "2     9     4       16        3        19   True\n",
       "3     4     9        3       16        19   True"
      ]
     },
     "execution_count": 6,
     "metadata": {},
     "output_type": "execute_result"
    }
   ],
   "source": [
    "# List of selected pairs\n",
    "neuron_set.get_pair_table(circuit, circuit.default_population_name)"
   ]
  },
  {
   "cell_type": "code",
   "execution_count": 7,
   "metadata": {},
   "outputs": [
    {
     "name": "stdout",
     "output_type": "stream",
     "text": [
      "PairMotifNeuronSet resolved in population 'S1nonbarrel_neurons' of circuit 'N_10__top_nodes_dim6':\n",
      "> Neuron IDs (4): [1 3 4 9]\n",
      "> Node set dict: {'population': 'S1nonbarrel_neurons', 'node_id': [1, 3, 4, 9]}\n"
     ]
    }
   ],
   "source": [
    "# Neuron set expression\n",
    "neuron_ids = neuron_set.get_neuron_ids(circuit, circuit.default_population_name)\n",
    "print(f\"{neuron_set.__class__.__name__} resolved in population '{circuit.default_population_name}' of circuit '{circuit}':\")\n",
    "print(f\"> Neuron IDs ({len(neuron_ids)}): {neuron_ids}\")\n",
    "print(f\"> Node set dict: {neuron_set.get_node_set_definition(circuit, circuit.default_population_name)}\")"
   ]
  },
  {
   "cell_type": "markdown",
   "metadata": {},
   "source": [
    "### __Example 2:__ Strongest connected E-E neuron pair within a layer (but which is not reciprocal)"
   ]
  },
  {
   "cell_type": "code",
   "execution_count": 8,
   "metadata": {},
   "outputs": [],
   "source": [
    "neuron1_filter = {\"node_set\": \"Excitatory\", \"layer\": \"6\"}\n",
    "neuron2_filter = {\"node_set\": \"Excitatory\",  \"layer\": \"6\"}\n",
    "\n",
    "conn_ff_filter = {\"nsyn\": {\"gt\": 0}}\n",
    "conn_fb_filter = {\"nsyn\": 0}  # No feedback connection\n",
    "\n",
    "pair_selection = {\"count\": 1, \"method\": \"max_nsyn_ff\"}  # Selection based on max. number of synapses\n",
    "\n",
    "neuron_set = obi.PairMotifNeuronSet(neuron1_filter=neuron1_filter, neuron2_filter=neuron2_filter, conn_ff_filter=conn_ff_filter, conn_fb_filter=conn_fb_filter, pair_selection=pair_selection)\n"
   ]
  },
  {
   "cell_type": "code",
   "execution_count": 9,
   "metadata": {},
   "outputs": [
    {
     "data": {
      "text/html": [
       "<div>\n",
       "<style scoped>\n",
       "    .dataframe tbody tr th:only-of-type {\n",
       "        vertical-align: middle;\n",
       "    }\n",
       "\n",
       "    .dataframe tbody tr th {\n",
       "        vertical-align: top;\n",
       "    }\n",
       "\n",
       "    .dataframe thead th {\n",
       "        text-align: right;\n",
       "    }\n",
       "</style>\n",
       "<table border=\"1\" class=\"dataframe\">\n",
       "  <thead>\n",
       "    <tr style=\"text-align: right;\">\n",
       "      <th></th>\n",
       "      <th>nrn1</th>\n",
       "      <th>nrn2</th>\n",
       "      <th>nsyn_ff</th>\n",
       "      <th>nsyn_fb</th>\n",
       "      <th>nsyn_all</th>\n",
       "      <th>is_rc</th>\n",
       "    </tr>\n",
       "  </thead>\n",
       "  <tbody>\n",
       "    <tr>\n",
       "      <th>17</th>\n",
       "      <td>6</td>\n",
       "      <td>8</td>\n",
       "      <td>13</td>\n",
       "      <td>0</td>\n",
       "      <td>13</td>\n",
       "      <td>False</td>\n",
       "    </tr>\n",
       "  </tbody>\n",
       "</table>\n",
       "</div>"
      ],
      "text/plain": [
       "    nrn1  nrn2  nsyn_ff  nsyn_fb  nsyn_all  is_rc\n",
       "17     6     8       13        0        13  False"
      ]
     },
     "execution_count": 9,
     "metadata": {},
     "output_type": "execute_result"
    }
   ],
   "source": [
    "# List of selected pairs\n",
    "neuron_set.get_pair_table(circuit, circuit.default_population_name)"
   ]
  },
  {
   "cell_type": "code",
   "execution_count": 10,
   "metadata": {},
   "outputs": [
    {
     "name": "stdout",
     "output_type": "stream",
     "text": [
      "PairMotifNeuronSet resolved in population 'S1nonbarrel_neurons' of circuit 'N_10__top_nodes_dim6':\n",
      "> Neuron IDs (2): [6 8]\n",
      "> Node set dict: {'population': 'S1nonbarrel_neurons', 'node_id': [6, 8]}\n"
     ]
    }
   ],
   "source": [
    "# Neuron set expression\n",
    "neuron_ids = neuron_set.get_neuron_ids(circuit, circuit.default_population_name)\n",
    "print(f\"{neuron_set.__class__.__name__} resolved in population '{circuit.default_population_name}' of circuit '{circuit}':\")\n",
    "print(f\"> Neuron IDs ({len(neuron_ids)}): {neuron_ids}\")\n",
    "print(f\"> Node set dict: {neuron_set.get_node_set_definition(circuit, circuit.default_population_name)}\")"
   ]
  }
 ],
 "metadata": {
  "kernelspec": {
   "display_name": "obi-one",
   "language": "python",
   "name": "obi-one"
  },
  "language_info": {
   "codemirror_mode": {
    "name": "ipython",
    "version": 3
   },
   "file_extension": ".py",
   "mimetype": "text/x-python",
   "name": "python",
   "nbconvert_exporter": "python",
   "pygments_lexer": "ipython3",
   "version": "3.12.9"
  }
 },
 "nbformat": 4,
 "nbformat_minor": 4
}
