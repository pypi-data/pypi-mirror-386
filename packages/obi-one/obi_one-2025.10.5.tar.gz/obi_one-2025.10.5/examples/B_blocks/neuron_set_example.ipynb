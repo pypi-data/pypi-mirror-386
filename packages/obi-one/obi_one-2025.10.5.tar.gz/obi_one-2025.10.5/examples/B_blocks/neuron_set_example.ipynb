{
 "cells": [
  {
   "cell_type": "markdown",
   "metadata": {},
   "source": [
    "# Neuron set examples"
   ]
  },
  {
   "cell_type": "code",
   "execution_count": 2,
   "metadata": {},
   "outputs": [],
   "source": [
    "import obi_one as obi\n",
    "from pathlib import Path"
   ]
  },
  {
   "cell_type": "markdown",
   "metadata": {},
   "source": [
    "### __Initialization:__ Loading a circuit"
   ]
  },
  {
   "cell_type": "code",
   "execution_count": 3,
   "metadata": {},
   "outputs": [
    {
     "name": "stdout",
     "output_type": "stream",
     "text": [
      "Circuit 'N_10__top_nodes_dim6' with 10 neurons and 176 synapses\n",
      "Default node population: 'S1nonbarrel_neurons'\n",
      "Default edge population: 'S1nonbarrel_neurons__S1nonbarrel_neurons__chemical'\n"
     ]
    }
   ],
   "source": [
    "circuit_name = \"N_10__top_nodes_dim6\"\n",
    "\n",
    "circuit_path_prefix = Path(\"../data/tiny_circuits\")\n",
    "matrix_path_prefix = Path(\"../data/connectivity_matrices\")  # OPTIONAL: Connectivity matrix path only required for some of the node sets in this example notebook; can be set to None\n",
    "\n",
    "circuit_path = circuit_path_prefix / circuit_name / \"circuit_config.json\"\n",
    "if matrix_path_prefix is None:\n",
    "    matrix_path = None\n",
    "else:\n",
    "    matrix_path = matrix_path_prefix / circuit_name / \"connectivity_matrix.h5\"\n",
    "circuit = obi.Circuit(name=circuit_name, path=str(circuit_path), matrix_path=str(matrix_path))\n",
    "\n",
    "print(f\"Circuit '{circuit}' with {circuit.sonata_circuit.nodes[circuit.default_population_name].size} neurons and {circuit.sonata_circuit.edges[circuit.default_edge_population_name].size} synapses\")\n",
    "print(f\"Default node population: '{circuit.default_population_name}'\")\n",
    "print(f\"Default edge population: '{circuit.default_edge_population_name}'\")"
   ]
  },
  {
   "cell_type": "markdown",
   "metadata": {},
   "source": [
    "### __Example 1:__ Adding node set dict to an existing SONATA circuit object + writing new node set .json file"
   ]
  },
  {
   "cell_type": "code",
   "execution_count": null,
   "metadata": {},
   "outputs": [
    {
     "name": "stdout",
     "output_type": "stream",
     "text": [
      "...id': [], 'layer': ['6']}}\n",
      "... [], 'layer': ['6']}, 'Layer23': {'layer': ['2', '3']}}\n",
      "...id': [], 'layer': ['6']}, 'Layer23': ['Layer2', 'Layer3']}\n",
      "...id': [], 'layer': ['6']}, 'Layer23': ['Layer2', 'Layer3'], 'Layer45': ['Layer4', 'Layer5'], 'Layer56': ['Layer5', 'Layer6']}\n",
      "...id': [], 'layer': ['6']}, 'Layer23': ['Layer2', 'Layer3'], 'Layer45': ['Layer4', 'Layer5'], 'Layer56': ['Layer5', 'Layer6'], 'Layer123': ['Layer1', 'Layer2', 'Layer3']}\n",
      "...id': [], 'layer': ['6']}, 'Layer23': ['Layer2', 'Layer3'], 'Layer45': ['Layer4', 'Layer5'], 'Layer56': ['Layer5', 'Layer6'], 'Layer123': ['Layer1', 'Layer2', 'Layer3'], 'AllLayers': ['Layer123', 'Layer4', 'Layer56']}\n"
     ]
    }
   ],
   "source": [
    "# Get SONATA circuit object\n",
    "c = circuit.sonata_circuit\n",
    "print(\"...\" + str(c.node_sets.content)[-25:])\n",
    "\n",
    "# Adding a node set to the circuit\n",
    "obi.add_node_set_to_circuit(c, {\"Layer23\": {\"layer\": [\"2\", \"3\"]}})\n",
    "print(\"...\" + str(c.node_sets.content)[-55:])\n",
    "\n",
    "# Adding a node set with an exising name => NOT POSSIBLE\n",
    "# obi.add_node_set_to_circuit(c, {\"Layer23\": {\"layer\": [\"2\", \"3\"]}})  # AssertionError: Node set 'Layer23' already exists!\n",
    "\n",
    "# Update/overwrite an existing node set\n",
    "obi.add_node_set_to_circuit(c, {\"Layer23\": [\"Layer2\", \"Layer3\"]}, overwrite_if_exists=True)  # Update/overwrite\n",
    "print(\"...\" + str(c.node_sets.content)[-58:])\n",
    "\n",
    "# Adding multiple node sets\n",
    "obi.add_node_set_to_circuit(c, {\"Layer45\": [\"Layer4\", \"Layer5\"], \"Layer56\": [\"Layer5\", \"Layer6\"]})\n",
    "print(\"...\" + str(c.node_sets.content)[-124:])\n",
    "\n",
    "# Add node set from NeuronSet object, resolved in circuit's default node population\n",
    "neuron_set = obi.CombinedNeuronSet(node_sets=(\"Layer1\", \"Layer2\", \"Layer3\"))\n",
    "obi.add_node_set_to_circuit(c, {\"Layer123\": neuron_set.get_node_set_definition(circuit, circuit.default_population_name)})\n",
    "print(\"...\" + str(c.node_sets.content)[-168:])\n",
    "\n",
    "# Adding a node sets based on previously added node sets\n",
    "obi.add_node_set_to_circuit(c, {\"AllLayers\": [\"Layer123\", \"Layer4\", \"Layer56\"]})\n",
    "print(\"...\" + str(c.node_sets.content)[-216:])\n",
    "\n",
    "# Write new circuit's node set file\n",
    "obi.write_circuit_node_set_file(c, output_path=\"./\", file_name=\"new_node_sets.json\", overwrite_if_exists=True)"
   ]
  },
  {
   "cell_type": "markdown",
   "metadata": {},
   "source": [
    "### __Example 2:__ Use of different NeuronSet types\n",
    "\n",
    "<u>Important</u>: In general, the validity of neuron set definitions is not checked during initialization, but when resolved within a specific circuit's node population"
   ]
  },
  {
   "cell_type": "markdown",
   "metadata": {},
   "source": [
    "#### (a) __ExistingNeuronSet__, wrapper for an existing node set\n",
    "<u>Note:</u> This neuron set does not resolve to a dict, since the underlying node set is already existing by definition"
   ]
  },
  {
   "cell_type": "code",
   "execution_count": 5,
   "metadata": {},
   "outputs": [
    {
     "name": "stdout",
     "output_type": "stream",
     "text": [
      "PredefinedNeuronSet resolved in population 'S1nonbarrel_neurons' of circuit 'N_10__top_nodes_dim6':\n",
      "> Neuron IDs (9): [1 2 3 4 5 6 7 8 9]\n",
      "> Node set dict: ['Layer6']\n"
     ]
    }
   ],
   "source": [
    "neuron_set = obi.PredefinedNeuronSet(node_set=\"Layer6\", sample_percentage=100)\n",
    "neuron_ids = neuron_set.get_neuron_ids(circuit, population=circuit.default_population_name)\n",
    "print(f\"{neuron_set.__class__.__name__} resolved in population '{circuit.default_population_name}' of circuit '{circuit}':\")\n",
    "print(f\"> Neuron IDs ({len(neuron_ids)}): {neuron_ids}\")\n",
    "print(f\"> Node set dict: {neuron_set.get_node_set_definition(circuit, circuit.default_population_name)}\")"
   ]
  },
  {
   "cell_type": "markdown",
   "metadata": {},
   "source": [
    "#### (b) __ExistingNeuronSet__, with random sub-sampling\n",
    "<u>Note</u>: `sample_percentage` can be an absolute number or fraction\n",
    "\n",
    "<u>Note 2</u>: Random sub-sampling will enforce resolving into a new node set"
   ]
  },
  {
   "cell_type": "code",
   "execution_count": 6,
   "metadata": {},
   "outputs": [
    {
     "name": "stdout",
     "output_type": "stream",
     "text": [
      "PredefinedNeuronSet resolved in population 'S1nonbarrel_neurons' of circuit 'N_10__top_nodes_dim6':\n",
      "> Neuron IDs (4): [2 3 5 9]\n",
      "> Node set dict: {'population': 'S1nonbarrel_neurons', 'node_id': [2, 3, 5, 9]}\n"
     ]
    }
   ],
   "source": [
    "neuron_set = obi.PredefinedNeuronSet(node_set=\"Layer6\", sample_percentage=50, sample_seed=1)\n",
    "neuron_ids = neuron_set.get_neuron_ids(circuit, population=circuit.default_population_name)\n",
    "print(f\"{neuron_set.__class__.__name__} resolved in population '{circuit.default_population_name}' of circuit '{circuit}':\")\n",
    "print(f\"> Neuron IDs ({len(neuron_ids)}): {neuron_ids}\")\n",
    "print(f\"> Node set dict: {neuron_set.get_node_set_definition(circuit, circuit.default_population_name)}\")"
   ]
  },
  {
   "cell_type": "markdown",
   "metadata": {},
   "source": [
    "#### (c) __CombinedNeuronSet__, based on combining existing (named) node sets"
   ]
  },
  {
   "cell_type": "code",
   "execution_count": 7,
   "metadata": {},
   "outputs": [
    {
     "name": "stdout",
     "output_type": "stream",
     "text": [
      "CombinedNeuronSet resolved in population 'S1nonbarrel_neurons' of circuit 'N_10__top_nodes_dim6':\n",
      "> Neuron IDs (6): [1 2 6 7 8 9]\n",
      "> Node set dict: ['L6_BPC', 'L6_TPC:A']\n"
     ]
    }
   ],
   "source": [
    "neuron_set = obi.CombinedNeuronSet(circuit=circuit, node_sets=(\"L6_BPC\", \"L6_TPC:A\"), sample_percentage=100)\n",
    "neuron_ids = neuron_set.get_neuron_ids(circuit, population=circuit.default_population_name)\n",
    "print(f\"{neuron_set.__class__.__name__} resolved in population '{circuit.default_population_name}' of circuit '{circuit}':\")\n",
    "print(f\"> Neuron IDs ({len(neuron_ids)}): {neuron_ids}\")\n",
    "print(f\"> Node set dict: {neuron_set.get_node_set_definition(circuit, circuit.default_population_name)}\")"
   ]
  },
  {
   "cell_type": "markdown",
   "metadata": {},
   "source": [
    "#### (d) __CombinedNeuronSet__, based on combining existing (named) node sets, with random sub-sampling\n",
    "<u>Note</u>: `sample_percentage` can be an absolute number or fraction"
   ]
  },
  {
   "cell_type": "code",
   "execution_count": 8,
   "metadata": {},
   "outputs": [
    {
     "name": "stdout",
     "output_type": "stream",
     "text": [
      "CombinedNeuronSet resolved in population 'S1nonbarrel_neurons' of circuit 'N_10__top_nodes_dim6':\n",
      "> Neuron IDs (3): [2 8 9]\n",
      "> Node set dict: {'population': 'S1nonbarrel_neurons', 'node_id': [2, 8, 9]}\n"
     ]
    }
   ],
   "source": [
    "neuron_set = obi.CombinedNeuronSet(node_sets=(\"L6_BPC\", \"L6_TPC:A\"), sample_percentage=50, sample_seed=0)\n",
    "neuron_ids = neuron_set.get_neuron_ids(circuit, circuit.default_population_name)\n",
    "print(f\"{neuron_set.__class__.__name__} resolved in population '{circuit.default_population_name}' of circuit '{circuit}':\")\n",
    "print(f\"> Neuron IDs ({len(neuron_ids)}): {neuron_ids}\")\n",
    "print(f\"> Node set dict: {neuron_set.get_node_set_definition(circuit, circuit.default_population_name)}\")"
   ]
  },
  {
   "cell_type": "markdown",
   "metadata": {},
   "source": [
    "#### (e) __IDNeuronSet__, based on individual neuron IDs"
   ]
  },
  {
   "cell_type": "code",
   "execution_count": 9,
   "metadata": {},
   "outputs": [
    {
     "name": "stdout",
     "output_type": "stream",
     "text": [
      "IDNeuronSet resolved in population 'S1nonbarrel_neurons' of circuit 'N_10__top_nodes_dim6':\n",
      "> Neuron IDs (3): [0 2 8]\n",
      "> Node set dict: {'population': 'S1nonbarrel_neurons', 'node_id': [0, 2, 8]}\n"
     ]
    }
   ],
   "source": [
    "neuron_set = obi.IDNeuronSet(neuron_ids=obi.NamedTuple(name=\"IDNeuronSet1\", elements=(0, 2, 8)))\n",
    "neuron_ids = neuron_set.get_neuron_ids(circuit, circuit.default_population_name)\n",
    "print(f\"{neuron_set.__class__.__name__} resolved in population '{circuit.default_population_name}' of circuit '{circuit}':\")\n",
    "print(f\"> Neuron IDs ({len(neuron_ids)}): {neuron_ids}\")\n",
    "print(f\"> Node set dict: {neuron_set.get_node_set_definition(circuit, circuit.default_population_name)}\")"
   ]
  },
  {
   "cell_type": "markdown",
   "metadata": {},
   "source": [
    "#### (f) __IDNeuronSet__, based on individual neuron IDs, with random sub-sampling\n",
    "<u>Note</u>: `sample_percentage` can be an absolute number or fraction"
   ]
  },
  {
   "cell_type": "code",
   "execution_count": 10,
   "metadata": {},
   "outputs": [
    {
     "name": "stdout",
     "output_type": "stream",
     "text": [
      "IDNeuronSet resolved in population 'S1nonbarrel_neurons' of circuit 'N_10__top_nodes_dim6':\n",
      "> Neuron IDs (5): [1 4 5 6 8]\n",
      "> Node set dict: {'population': 'S1nonbarrel_neurons', 'node_id': [1, 4, 5, 6, 8]}\n"
     ]
    }
   ],
   "source": [
    "neuron_set = obi.IDNeuronSet(neuron_ids=obi.NamedTuple(name=\"IDNeuronSet1\", elements=range(10)), sample_percentage=50, sample_seed=999)\n",
    "neuron_ids = neuron_set.get_neuron_ids(circuit, circuit.default_population_name)\n",
    "print(f\"{neuron_set.__class__.__name__} resolved in population '{circuit.default_population_name}' of circuit '{circuit}':\")\n",
    "print(f\"> Neuron IDs ({len(neuron_ids)}): {neuron_ids}\")\n",
    "print(f\"> Node set dict: {neuron_set.get_node_set_definition(circuit, circuit.default_population_name)}\")"
   ]
  },
  {
   "cell_type": "markdown",
   "metadata": {},
   "source": [
    "#### (g) __PropertyNeuronSet__, based on neuron properties\n",
    "<u>Note</u>: Optionally, instead of keeping the synbolic notation, neuron IDs can be resolved to individual IDs by `force_resolve_ids=True`."
   ]
  },
  {
   "cell_type": "code",
   "execution_count": 11,
   "metadata": {},
   "outputs": [
    {
     "name": "stdout",
     "output_type": "stream",
     "text": [
      "PropertyNeuronSet resolved in population 'S1nonbarrel_neurons' of circuit 'N_10__top_nodes_dim6':\n",
      "> Neuron IDs (9): [1 2 3 4 5 6 7 8 9]\n",
      "> Node set dict: {'layer': ['5', '6'], 'synapse_class': 'EXC'}\n",
      "> Node set dict with IDs resolved [OPTIONAL]: {'population': 'S1nonbarrel_neurons', 'node_id': [1, 2, 3, 4, 5, 6, 7, 8, 9]}\n"
     ]
    }
   ],
   "source": [
    "neuron_set = obi.PropertyNeuronSet(\n",
    "    property_filter=obi.NeuronPropertyFilter(filter_dict={\"layer\": [\"5\", \"6\"], \"synapse_class\": [\"EXC\"]}),\n",
    ")\n",
    "neuron_ids = neuron_set.get_neuron_ids(circuit, circuit.default_population_name)\n",
    "print(f\"{neuron_set.__class__.__name__} resolved in population '{circuit.default_population_name}' of circuit '{circuit}':\")\n",
    "print(f\"> Neuron IDs ({len(neuron_ids)}): {neuron_ids}\")\n",
    "print(f\"> Node set dict: {neuron_set.get_node_set_definition(circuit, circuit.default_population_name)}\")\n",
    "\n",
    "# # Optional: Individual neuron IDs resolved\n",
    "print(f\"> Node set dict with IDs resolved [OPTIONAL]: {neuron_set.get_node_set_definition(circuit, circuit.default_population_name, force_resolve_ids=True)}\")"
   ]
  },
  {
   "cell_type": "markdown",
   "metadata": {},
   "source": [
    "#### (h) __PropertyNeuronSet__, based on neuron properties, combined with exising (named) node sets\n",
    "<u>Note</u>: In this case, individual neuron IDs will always be resolved since a combination of properties and node sets is not possible in SONATA node sets otherwise!"
   ]
  },
  {
   "cell_type": "code",
   "execution_count": 12,
   "metadata": {},
   "outputs": [
    {
     "name": "stdout",
     "output_type": "stream",
     "text": [
      "PropertyNeuronSet resolved in population 'S1nonbarrel_neurons' of circuit 'N_10__top_nodes_dim6':\n",
      "> Neuron IDs (1): [0]\n",
      "> Node set dict: {'population': 'S1nonbarrel_neurons', 'node_id': [0]}\n"
     ]
    }
   ],
   "source": [
    "neuron_set = obi.PropertyNeuronSet(\n",
    "    property_filter=obi.NeuronPropertyFilter(filter_dict={\"synapse_class\": [\"INH\"]}),\n",
    "    node_sets=(\"Layer2\", \"Layer3\")\n",
    ")\n",
    "neuron_ids = neuron_set.get_neuron_ids(circuit, circuit.default_population_name)\n",
    "print(f\"{neuron_set.__class__.__name__} resolved in population '{circuit.default_population_name}' of circuit '{circuit}':\")\n",
    "print(f\"> Neuron IDs ({len(neuron_ids)}): {neuron_ids}\")\n",
    "print(f\"> Node set dict: {neuron_set.get_node_set_definition(circuit, circuit.default_population_name)}\")"
   ]
  },
  {
   "cell_type": "markdown",
   "metadata": {},
   "source": [
    "#### (i) __VolumetricCountNeuronSet__, sample a spatial neighborhood\n"
   ]
  },
  {
   "cell_type": "code",
   "execution_count": 13,
   "metadata": {},
   "outputs": [
    {
     "name": "stdout",
     "output_type": "stream",
     "text": [
      "VolumetricCountNeuronSet resolved in population 'S1nonbarrel_neurons' of circuit 'N_10__top_nodes_dim6':\n",
      "> Neuron IDs (5): [3 5 6 7 9]\n",
      "> Node set dict: {'population': 'S1nonbarrel_neurons', 'node_id': [9, 6, 7, 5, 3]}\n",
      "Printing neuron locations to prove spatial compactness:\n"
     ]
    },
    {
     "data": {
      "text/html": [
       "<div>\n",
       "<style scoped>\n",
       "    .dataframe tbody tr th:only-of-type {\n",
       "        vertical-align: middle;\n",
       "    }\n",
       "\n",
       "    .dataframe tbody tr th {\n",
       "        vertical-align: top;\n",
       "    }\n",
       "\n",
       "    .dataframe thead th {\n",
       "        text-align: right;\n",
       "    }\n",
       "</style>\n",
       "<table border=\"1\" class=\"dataframe\">\n",
       "  <thead>\n",
       "    <tr style=\"text-align: right;\">\n",
       "      <th></th>\n",
       "      <th>x</th>\n",
       "      <th>y</th>\n",
       "      <th>z</th>\n",
       "    </tr>\n",
       "    <tr>\n",
       "      <th>node_ids</th>\n",
       "      <th></th>\n",
       "      <th></th>\n",
       "      <th></th>\n",
       "    </tr>\n",
       "  </thead>\n",
       "  <tbody>\n",
       "    <tr>\n",
       "      <th>3</th>\n",
       "      <td>3627.362786</td>\n",
       "      <td>-1087.181103</td>\n",
       "      <td>-2897.810749</td>\n",
       "    </tr>\n",
       "    <tr>\n",
       "      <th>5</th>\n",
       "      <td>3592.676277</td>\n",
       "      <td>-1025.078101</td>\n",
       "      <td>-2898.148159</td>\n",
       "    </tr>\n",
       "    <tr>\n",
       "      <th>6</th>\n",
       "      <td>3639.411619</td>\n",
       "      <td>-1055.078853</td>\n",
       "      <td>-2834.399699</td>\n",
       "    </tr>\n",
       "    <tr>\n",
       "      <th>7</th>\n",
       "      <td>3624.201128</td>\n",
       "      <td>-1018.365265</td>\n",
       "      <td>-2890.523732</td>\n",
       "    </tr>\n",
       "    <tr>\n",
       "      <th>9</th>\n",
       "      <td>3663.108874</td>\n",
       "      <td>-1035.551752</td>\n",
       "      <td>-2810.042016</td>\n",
       "    </tr>\n",
       "  </tbody>\n",
       "</table>\n",
       "</div>"
      ],
      "text/plain": [
       "                    x            y            z\n",
       "node_ids                                       \n",
       "3         3627.362786 -1087.181103 -2897.810749\n",
       "5         3592.676277 -1025.078101 -2898.148159\n",
       "6         3639.411619 -1055.078853 -2834.399699\n",
       "7         3624.201128 -1018.365265 -2890.523732\n",
       "9         3663.108874 -1035.551752 -2810.042016"
      ]
     },
     "execution_count": 13,
     "metadata": {},
     "output_type": "execute_result"
    }
   ],
   "source": [
    "neuron_set = obi.VolumetricCountNeuronSet(\n",
    "    ox=10.0,\n",
    "    oy=25.0,\n",
    "    oz=100.0,\n",
    "    n=5,\n",
    "    property_filter=obi.NeuronPropertyFilter(filter_dict={\"layer\": [\"5\", \"6\"], \"synapse_class\": [\"EXC\"]}),\n",
    ")\n",
    "\n",
    "neuron_ids = neuron_set.get_neuron_ids(circuit, circuit.default_population_name)\n",
    "print(f\"{neuron_set.__class__.__name__} resolved in population '{circuit.default_population_name}' of circuit '{circuit}':\")\n",
    "print(f\"> Neuron IDs ({len(neuron_ids)}): {neuron_ids}\")\n",
    "print(f\"> Node set dict: {neuron_set.get_node_set_definition(circuit, circuit.default_population_name)}\")\n",
    "\n",
    "print(\"Printing neuron locations to prove spatial compactness:\")\n",
    "circuit.sonata_circuit.nodes[circuit.default_population_name].get(neuron_ids, properties=[\"x\", \"y\", \"z\"])"
   ]
  },
  {
   "cell_type": "markdown",
   "metadata": {},
   "source": [
    "#### (j) __VolmetricRadiusNeuronSet__, also neigborhood, but fixed radius\n",
    "<u>Note</u>: Can be combined with random subsampling"
   ]
  },
  {
   "cell_type": "code",
   "execution_count": 14,
   "metadata": {},
   "outputs": [
    {
     "name": "stdout",
     "output_type": "stream",
     "text": [
      "VolumetricRadiusNeuronSet resolved in population 'S1nonbarrel_neurons' of circuit 'N_10__top_nodes_dim6':\n",
      "> Neuron IDs (4): [3 4 6 9]\n",
      "> Node set dict: {'population': 'S1nonbarrel_neurons', 'node_id': [3, 4, 6, 9]}\n",
      "Printing neuron locations to prove spatial compactness:\n"
     ]
    },
    {
     "data": {
      "text/html": [
       "<div>\n",
       "<style scoped>\n",
       "    .dataframe tbody tr th:only-of-type {\n",
       "        vertical-align: middle;\n",
       "    }\n",
       "\n",
       "    .dataframe tbody tr th {\n",
       "        vertical-align: top;\n",
       "    }\n",
       "\n",
       "    .dataframe thead th {\n",
       "        text-align: right;\n",
       "    }\n",
       "</style>\n",
       "<table border=\"1\" class=\"dataframe\">\n",
       "  <thead>\n",
       "    <tr style=\"text-align: right;\">\n",
       "      <th></th>\n",
       "      <th>x</th>\n",
       "      <th>y</th>\n",
       "      <th>z</th>\n",
       "    </tr>\n",
       "    <tr>\n",
       "      <th>node_ids</th>\n",
       "      <th></th>\n",
       "      <th></th>\n",
       "      <th></th>\n",
       "    </tr>\n",
       "  </thead>\n",
       "  <tbody>\n",
       "    <tr>\n",
       "      <th>3</th>\n",
       "      <td>3627.362786</td>\n",
       "      <td>-1087.181103</td>\n",
       "      <td>-2897.810749</td>\n",
       "    </tr>\n",
       "    <tr>\n",
       "      <th>4</th>\n",
       "      <td>3537.776871</td>\n",
       "      <td>-1029.445880</td>\n",
       "      <td>-2890.783793</td>\n",
       "    </tr>\n",
       "    <tr>\n",
       "      <th>6</th>\n",
       "      <td>3639.411619</td>\n",
       "      <td>-1055.078853</td>\n",
       "      <td>-2834.399699</td>\n",
       "    </tr>\n",
       "    <tr>\n",
       "      <th>9</th>\n",
       "      <td>3663.108874</td>\n",
       "      <td>-1035.551752</td>\n",
       "      <td>-2810.042016</td>\n",
       "    </tr>\n",
       "  </tbody>\n",
       "</table>\n",
       "</div>"
      ],
      "text/plain": [
       "                    x            y            z\n",
       "node_ids                                       \n",
       "3         3627.362786 -1087.181103 -2897.810749\n",
       "4         3537.776871 -1029.445880 -2890.783793\n",
       "6         3639.411619 -1055.078853 -2834.399699\n",
       "9         3663.108874 -1035.551752 -2810.042016"
      ]
     },
     "execution_count": 14,
     "metadata": {},
     "output_type": "execute_result"
    }
   ],
   "source": [
    "neuron_set = obi.VolumetricRadiusNeuronSet(\n",
    "    ox=10.0,\n",
    "    oy=25.0,\n",
    "    oz=100.0,\n",
    "    radius=150.0,\n",
    "    property_filter=obi.NeuronPropertyFilter(filter_dict={\"layer\": [\"5\", \"6\"], \"synapse_class\": [\"EXC\"]}),\n",
    "    sample_percentage=50\n",
    ")\n",
    "\n",
    "neuron_ids = neuron_set.get_neuron_ids(circuit, circuit.default_population_name)\n",
    "print(f\"{neuron_set.__class__.__name__} resolved in population '{circuit.default_population_name}' of circuit '{circuit}':\")\n",
    "print(f\"> Neuron IDs ({len(neuron_ids)}): {neuron_ids}\")\n",
    "print(f\"> Node set dict: {neuron_set.get_node_set_definition(circuit, circuit.default_population_name)}\")\n",
    "\n",
    "print(\"Printing neuron locations to prove spatial compactness:\")\n",
    "circuit.sonata_circuit.nodes[circuit.default_population_name].get(neuron_ids, properties=[\"x\", \"y\", \"z\"])"
   ]
  },
  {
   "cell_type": "markdown",
   "metadata": {},
   "source": [
    "#### (k) __SimplexMembershipBasedNeuronSet__, choose neurons based on their membership in simplices with a given source or target neuron\n",
    "<u>Note</u>: Needs `connalysis` to run and needs a circuit with a connectivity matrix!"
   ]
  },
  {
   "cell_type": "code",
   "execution_count": 15,
   "metadata": {},
   "outputs": [],
   "source": [
    "from connalysis.network import topology # Needs to be installed to run this example"
   ]
  },
  {
   "cell_type": "code",
   "execution_count": 16,
   "metadata": {},
   "outputs": [
    {
     "name": "stdout",
     "output_type": "stream",
     "text": [
      "[2025-09-08 17:40:06,950] INFO: COMPUTE list of simplices by dimension\n",
      "SimplexMembershipBasedNeuronSet resolved in population 'S1nonbarrel_neurons' of circuit 'N_10__top_nodes_dim6':\n",
      "\n",
      "> Neuron IDs (3): [7 8 9]\n",
      "\n",
      "[2025-09-08 17:40:06,976] INFO: COMPUTE list of simplices by dimension\n",
      "\n",
      "> Node set dict: {'population': 'S1nonbarrel_neurons', 'node_id': [9, 7, 8]}\n",
      "\n",
      "> Node selection\n",
      "\n"
     ]
    },
    {
     "data": {
      "text/html": [
       "<div>\n",
       "<style scoped>\n",
       "    .dataframe tbody tr th:only-of-type {\n",
       "        vertical-align: middle;\n",
       "    }\n",
       "\n",
       "    .dataframe tbody tr th {\n",
       "        vertical-align: top;\n",
       "    }\n",
       "\n",
       "    .dataframe thead th {\n",
       "        text-align: right;\n",
       "    }\n",
       "</style>\n",
       "<table border=\"1\" class=\"dataframe\">\n",
       "  <thead>\n",
       "    <tr style=\"text-align: right;\">\n",
       "      <th></th>\n",
       "      <th>node_ids</th>\n",
       "      <th>etype</th>\n",
       "      <th>layer</th>\n",
       "      <th>mtype</th>\n",
       "      <th>synapse_class</th>\n",
       "      <th>x</th>\n",
       "      <th>y</th>\n",
       "      <th>z</th>\n",
       "    </tr>\n",
       "  </thead>\n",
       "  <tbody>\n",
       "    <tr>\n",
       "      <th>0</th>\n",
       "      <td>7</td>\n",
       "      <td>cADpyr</td>\n",
       "      <td>6</td>\n",
       "      <td>L6_TPC:A</td>\n",
       "      <td>EXC</td>\n",
       "      <td>3624.201128</td>\n",
       "      <td>-1018.365265</td>\n",
       "      <td>-2890.523732</td>\n",
       "    </tr>\n",
       "    <tr>\n",
       "      <th>1</th>\n",
       "      <td>8</td>\n",
       "      <td>cADpyr</td>\n",
       "      <td>6</td>\n",
       "      <td>L6_TPC:A</td>\n",
       "      <td>EXC</td>\n",
       "      <td>3547.925890</td>\n",
       "      <td>-1083.981005</td>\n",
       "      <td>-2933.071149</td>\n",
       "    </tr>\n",
       "    <tr>\n",
       "      <th>2</th>\n",
       "      <td>9</td>\n",
       "      <td>cADpyr</td>\n",
       "      <td>6</td>\n",
       "      <td>L6_TPC:A</td>\n",
       "      <td>EXC</td>\n",
       "      <td>3663.108874</td>\n",
       "      <td>-1035.551752</td>\n",
       "      <td>-2810.042016</td>\n",
       "    </tr>\n",
       "  </tbody>\n",
       "</table>\n",
       "</div>"
      ],
      "text/plain": [
       "   node_ids   etype layer     mtype synapse_class            x            y  \\\n",
       "0         7  cADpyr     6  L6_TPC:A           EXC  3624.201128 -1018.365265   \n",
       "1         8  cADpyr     6  L6_TPC:A           EXC  3547.925890 -1083.981005   \n",
       "2         9  cADpyr     6  L6_TPC:A           EXC  3663.108874 -1035.551752   \n",
       "\n",
       "             z  \n",
       "0 -2890.523732  \n",
       "1 -2933.071149  \n",
       "2 -2810.042016  "
      ]
     },
     "metadata": {},
     "output_type": "display_data"
    },
    {
     "name": "stdout",
     "output_type": "stream",
     "text": [
      "> Simplex counts in subcircuit:\n",
      " dim\n",
      "0    3\n",
      "1    3\n",
      "2    1\n",
      "Name: simplex_count, dtype: int64\n",
      "\n"
     ]
    }
   ],
   "source": [
    "assert matrix_path is not None, \"ERROR: Circuit with connectivity matrix required!\"\n",
    "neuron_set = obi.SimplexMembershipBasedNeuronSet(\n",
    "    central_neuron_id = 9,\n",
    "    dim = 2,\n",
    "    central_neuron_simplex_position = 'source',\n",
    "    subsample = True ,\n",
    "    n_count_max = 3,\n",
    "    subsample_method = 'node_participation', #\"random\" is another option,\n",
    "    property_filter=obi.NeuronPropertyFilter( ),\n",
    ")\n",
    "\n",
    "neuron_ids = neuron_set.get_neuron_ids(circuit, circuit.default_population_name)\n",
    "print(f\"{neuron_set.__class__.__name__} resolved in population '{circuit.default_population_name}' of circuit '{circuit}':\")\n",
    "print(f\"\\n> Neuron IDs ({len(neuron_ids)}): {neuron_ids}\\n\")\n",
    "print(f\"\\n> Node set dict: {neuron_set.get_node_set_definition(circuit, circuit.default_population_name)}\")\n",
    "\n",
    "print(\"\\n> Node selection\\n\")\n",
    "sub_conn = circuit.connectivity_matrix.subpopulation(neuron_ids)\n",
    "display(sub_conn.vertices)\n",
    "print(f\"> Simplex counts in subcircuit:\\n {topology.simplex_counts(sub_conn.matrix)}\\n\")"
   ]
  },
  {
   "cell_type": "markdown",
   "metadata": {},
   "source": [
    "#### (l) __SimplexNeuronSet__, choose neurons that form simplices of a given dimension with a chosen source or target neuron\n",
    "<u>Note</u>: Needs `connalysis` to run and needs a circuit with a connectivity matrix!"
   ]
  },
  {
   "cell_type": "code",
   "execution_count": 17,
   "metadata": {},
   "outputs": [
    {
     "name": "stdout",
     "output_type": "stream",
     "text": [
      "[2025-09-08 17:40:08,190] INFO: COMPUTE list of simplices by dimension\n",
      "[2025-09-08 17:40:08,191] INFO: > Dimension not attained using dimension 3 instead.\n",
      "[2025-09-08 17:40:08,192] INFO: > n_count_max is too small to form a single 3-simplex, sampling n_count_max =                 4 neurons instead.\n",
      "[2025-09-08 17:40:08,192] INFO: No subselection required\n",
      "SimplexNeuronSet resolved in population 'S1nonbarrel_neurons' of circuit 'N_10__top_nodes_dim6':\n",
      "\n",
      "> Neuron IDs (4): [4 7 8 9]\n",
      "\n",
      "[2025-09-08 17:40:08,218] INFO: COMPUTE list of simplices by dimension\n",
      "[2025-09-08 17:40:08,220] INFO: > Dimension not attained using dimension 3 instead.\n",
      "[2025-09-08 17:40:08,220] INFO: > n_count_max is too small to form a single 3-simplex, sampling n_count_max =                 4 neurons instead.\n",
      "[2025-09-08 17:40:08,220] INFO: No subselection required\n",
      "\n",
      "> Node set dict: {'population': 'S1nonbarrel_neurons', 'node_id': [4, 7, 8, 9]}\n",
      "\n",
      "> Node selection\n",
      "\n"
     ]
    },
    {
     "data": {
      "text/html": [
       "<div>\n",
       "<style scoped>\n",
       "    .dataframe tbody tr th:only-of-type {\n",
       "        vertical-align: middle;\n",
       "    }\n",
       "\n",
       "    .dataframe tbody tr th {\n",
       "        vertical-align: top;\n",
       "    }\n",
       "\n",
       "    .dataframe thead th {\n",
       "        text-align: right;\n",
       "    }\n",
       "</style>\n",
       "<table border=\"1\" class=\"dataframe\">\n",
       "  <thead>\n",
       "    <tr style=\"text-align: right;\">\n",
       "      <th></th>\n",
       "      <th>node_ids</th>\n",
       "      <th>etype</th>\n",
       "      <th>layer</th>\n",
       "      <th>mtype</th>\n",
       "      <th>synapse_class</th>\n",
       "      <th>x</th>\n",
       "      <th>y</th>\n",
       "      <th>z</th>\n",
       "    </tr>\n",
       "  </thead>\n",
       "  <tbody>\n",
       "    <tr>\n",
       "      <th>0</th>\n",
       "      <td>4</td>\n",
       "      <td>cADpyr</td>\n",
       "      <td>6</td>\n",
       "      <td>L6_IPC</td>\n",
       "      <td>EXC</td>\n",
       "      <td>3537.776871</td>\n",
       "      <td>-1029.445880</td>\n",
       "      <td>-2890.783793</td>\n",
       "    </tr>\n",
       "    <tr>\n",
       "      <th>1</th>\n",
       "      <td>7</td>\n",
       "      <td>cADpyr</td>\n",
       "      <td>6</td>\n",
       "      <td>L6_TPC:A</td>\n",
       "      <td>EXC</td>\n",
       "      <td>3624.201128</td>\n",
       "      <td>-1018.365265</td>\n",
       "      <td>-2890.523732</td>\n",
       "    </tr>\n",
       "    <tr>\n",
       "      <th>2</th>\n",
       "      <td>8</td>\n",
       "      <td>cADpyr</td>\n",
       "      <td>6</td>\n",
       "      <td>L6_TPC:A</td>\n",
       "      <td>EXC</td>\n",
       "      <td>3547.925890</td>\n",
       "      <td>-1083.981005</td>\n",
       "      <td>-2933.071149</td>\n",
       "    </tr>\n",
       "    <tr>\n",
       "      <th>3</th>\n",
       "      <td>9</td>\n",
       "      <td>cADpyr</td>\n",
       "      <td>6</td>\n",
       "      <td>L6_TPC:A</td>\n",
       "      <td>EXC</td>\n",
       "      <td>3663.108874</td>\n",
       "      <td>-1035.551752</td>\n",
       "      <td>-2810.042016</td>\n",
       "    </tr>\n",
       "  </tbody>\n",
       "</table>\n",
       "</div>"
      ],
      "text/plain": [
       "   node_ids   etype layer     mtype synapse_class            x            y  \\\n",
       "0         4  cADpyr     6    L6_IPC           EXC  3537.776871 -1029.445880   \n",
       "1         7  cADpyr     6  L6_TPC:A           EXC  3624.201128 -1018.365265   \n",
       "2         8  cADpyr     6  L6_TPC:A           EXC  3547.925890 -1083.981005   \n",
       "3         9  cADpyr     6  L6_TPC:A           EXC  3663.108874 -1035.551752   \n",
       "\n",
       "             z  \n",
       "0 -2890.783793  \n",
       "1 -2890.523732  \n",
       "2 -2933.071149  \n",
       "3 -2810.042016  "
      ]
     },
     "metadata": {},
     "output_type": "display_data"
    },
    {
     "name": "stdout",
     "output_type": "stream",
     "text": [
      "> Simplex counts in subcircuit:\n",
      " dim\n",
      "0    4\n",
      "1    7\n",
      "2    4\n",
      "3    1\n",
      "Name: simplex_count, dtype: int64\n",
      "\n"
     ]
    }
   ],
   "source": [
    "assert matrix_path is not None, \"ERROR: Circuit with connectivity matrix required!\"\n",
    "neuron_set = obi.SimplexNeuronSet(\n",
    "    central_neuron_id = 9, \n",
    "    dim = 100,\n",
    "    central_neuron_simplex_position = 'source',\n",
    "    subsample = True ,\n",
    "    n_count_max = 3,\n",
    "    property_filter=obi.NeuronPropertyFilter( filter_dict={\"synapse_class\": [\"EXC\"]}),\n",
    ")\n",
    "\n",
    "neuron_ids = neuron_set.get_neuron_ids(circuit, circuit.default_population_name)\n",
    "print(f\"{neuron_set.__class__.__name__} resolved in population '{circuit.default_population_name}' of circuit '{circuit}':\")\n",
    "print(f\"\\n> Neuron IDs ({len(neuron_ids)}): {neuron_ids}\\n\")\n",
    "print(f\"\\n> Node set dict: {neuron_set.get_node_set_definition(circuit, circuit.default_population_name)}\")\n",
    "\n",
    "print(\"\\n> Node selection\\n\")\n",
    "sub_conn = circuit.connectivity_matrix.subpopulation(neuron_ids)\n",
    "display(sub_conn.vertices)\n",
    "print(f\"> Simplex counts in subcircuit:\\n {topology.simplex_counts(sub_conn.matrix)}\\n\")\n"
   ]
  },
  {
   "cell_type": "markdown",
   "metadata": {},
   "source": [
    "### __Example 3:__ Writing a NeuronSet to a SONATA node set file\n",
    "<u>Note</u>: A NeuronSet name must be set, which will be the name of the SONATA node set. The name must not exist!\n",
    "\n",
    "<u>Note 2</u>: The node sets file name is by default taken from the original circuit. An alternative name can optionally be provided.\n",
    "\n",
    "<u>Note 3</u>: Overwrite (`overwrite_if_exists`) and append (`append_if_exists`) options exist."
   ]
  },
  {
   "cell_type": "code",
   "execution_count": 18,
   "metadata": {},
   "outputs": [
    {
     "name": "stdout",
     "output_type": "stream",
     "text": [
      "Node set file: node_sets.json\n"
     ]
    }
   ],
   "source": [
    "output_path = \"./\"\n",
    "\n",
    "# Write new file, overwrite if existing\n",
    "neuron_set = obi.CombinedNeuronSet(node_sets=(\"Layer1\", \"Layer2\", \"Layer3\"))\n",
    "nset_file = neuron_set.to_node_set_file(circuit, circuit.default_population_name, output_path=output_path, overwrite_if_exists=True, optional_node_set_name=\"L123\")\n",
    "\n",
    "# Append to existing file, but name already exists => NOT POSSIBLE\n",
    "# nset_file = neuron_set.to_node_set_file(circuit, circuit.default_population_name, output_path=output_path, append_if_exists=True, optional_node_set_name=\"L123\")  # AssertionError: Appending not possible, node set 'L123' already exists!\n",
    "\n",
    "# Append to existing file\n",
    "neuron_set = obi.CombinedNeuronSet(node_sets=(\"Layer4\", \"Layer5\", \"Layer6\"))\n",
    "nset_file = neuron_set.to_node_set_file(circuit, circuit.default_population_name, output_path=output_path, append_if_exists=True, optional_node_set_name=\"L456\")\n",
    "\n",
    "if Path(nset_file).exists():\n",
    "    print(f\"Node set file: {nset_file}\")"
   ]
  }
 ],
 "metadata": {
  "kernelspec": {
   "display_name": "obi-one (3.12.9)",
   "language": "python",
   "name": "python3"
  },
  "language_info": {
   "codemirror_mode": {
    "name": "ipython",
    "version": 3
   },
   "file_extension": ".py",
   "mimetype": "text/x-python",
   "name": "python",
   "nbconvert_exporter": "python",
   "pygments_lexer": "ipython3",
   "version": "3.12.9"
  }
 },
 "nbformat": 4,
 "nbformat_minor": 4
}
