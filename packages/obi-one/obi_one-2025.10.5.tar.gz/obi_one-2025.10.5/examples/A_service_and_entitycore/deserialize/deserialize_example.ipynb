{
 "cells": [
  {
   "cell_type": "markdown",
   "metadata": {},
   "source": [
    "This notebooks shows how to deserialize:\n",
    "1) a grid scan\n",
    "2) a single coordinate in a grid scan\n",
    "\n",
    "\n",
    "First create a grid scan locally using one of the other notebooks"
   ]
  },
  {
   "cell_type": "code",
   "execution_count": 1,
   "metadata": {},
   "outputs": [],
   "source": [
    "import obi_one as obi\n",
    "\n",
    "grid_scan = obi.deserialize_obi_object_from_json_file(\"../../../../obi-output/circuit_simulations/grid_scan/run_scan_config.json\")\n",
    "simulation = obi.deserialize_obi_object_from_json_file(\"../../../../obi-output/circuit_simulations/grid_scan/0/run_coordinate_instance.json\")"
   ]
  }
 ],
 "metadata": {
  "kernelspec": {
   "display_name": "obi-one (3.12.9)",
   "language": "python",
   "name": "python3"
  },
  "language_info": {
   "codemirror_mode": {
    "name": "ipython",
    "version": 3
   },
   "file_extension": ".py",
   "mimetype": "text/x-python",
   "name": "python",
   "nbconvert_exporter": "python",
   "pygments_lexer": "ipython3",
   "version": "3.12.9"
  }
 },
 "nbformat": 4,
 "nbformat_minor": 2
}
