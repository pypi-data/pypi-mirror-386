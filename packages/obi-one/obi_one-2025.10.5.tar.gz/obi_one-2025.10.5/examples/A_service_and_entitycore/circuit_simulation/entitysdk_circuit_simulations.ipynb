{
 "cells": [
  {
   "cell_type": "code",
   "execution_count": 1,
   "id": "7cebdc29",
   "metadata": {},
   "outputs": [],
   "source": [
    "import requests\n",
    "import obi_one as obi\n",
    "virtual_lab_id=obi.LAB_ID_STAGING_TEST\n",
    "project_id=obi.PROJECT_ID_STAGING_TEST\n",
    "from entitysdk import Client, ProjectContext\n",
    "\n",
    "from obi_auth import get_token\n",
    "from obi_notebook import get_projects\n",
    "\n",
    "obi_one_api_url = \"http://127.0.0.1:8100\"\n",
    "\n",
    "token = get_token(environment=\"staging\")\n",
    "project_context = ProjectContext(virtual_lab_id=obi.LAB_ID_STAGING_TEST, project_id=obi.PROJECT_ID_STAGING_TEST)\n",
    "db_client = Client(api_url=\"https://staging.openbraininstitute.org/api/entitycore\", project_context=project_context, token_manager=token)"
   ]
  },
  {
   "cell_type": "markdown",
   "id": "82efb7e5",
   "metadata": {},
   "source": [
    "# Circuit ID"
   ]
  },
  {
   "cell_type": "code",
   "execution_count": 2,
   "id": "9a256639",
   "metadata": {},
   "outputs": [],
   "source": [
    "circuit_id = \"13a54362-0c99-43fd-94e4-58bdb5b79466\""
   ]
  },
  {
   "cell_type": "markdown",
   "id": "f4bd00a1",
   "metadata": {},
   "source": [
    "# Create SimulationForm using Cirucit"
   ]
  },
  {
   "cell_type": "code",
   "execution_count": null,
   "id": "8e26f8b0",
   "metadata": {},
   "outputs": [],
   "source": [
    "\n",
    "\n",
    "# Sim duration\n",
    "sim_duration = 3000.0\n",
    "\n",
    "# Empty Simulation Configuration\n",
    "sim_conf = obi.CircuitSimulationScanConfig.empty_config()\n",
    "\n",
    "# Info\n",
    "info = obi.Info(campaign_name=\"O1 Simulation\", campaign_description=\"Simulation of O1 circuit with predefined neuron set and constant current stimulus\")\n",
    "sim_conf.set(info, name=\"info\")\n",
    "\n",
    "# Neuron Sets\n",
    "sim_neuron_set = obi.IDNeuronSet(neuron_ids=obi.NamedTuple(name=\"IDNeuronSet1\", elements=range(5)))\n",
    "sim_conf.add(sim_neuron_set, name='L1All')\n",
    "\n",
    "with_neuron_sets = True\n",
    "if with_neuron_sets:\n",
    "    all_neuron_set = obi.AllNeurons()\n",
    "    sim_conf.add(all_neuron_set, name='AllNeurons')\n",
    "\n",
    "    sync_neuron_set = obi.IDNeuronSet(neuron_ids=obi.NamedTuple(name=\"IDNeuronSet2\", elements=range(3)))\n",
    "    sim_conf.add(sync_neuron_set, name='ID3')\n",
    "\n",
    "    vpm_neuron_set = obi.nbS1VPMInputs(sample_percentage=100)\n",
    "    sim_conf.add(vpm_neuron_set, name='nbS1VPMInputs')\n",
    "\n",
    "# Regular Timesteps\n",
    "regular_timestamps = obi.RegularTimestamps(start_time=0.0, number_of_repetitions=3, interval=sim_duration)\n",
    "sim_conf.add(regular_timestamps, name='RegularTimestamps')\n",
    "\n",
    "# Stimulus\n",
    "if with_neuron_sets:\n",
    "    poisson_input = obi.PoissonSpikeStimulus(duration=800.0, timestamps=regular_timestamps.ref, frequency=20, source_neuron_set=sim_neuron_set.ref, targeted_neuron_set=sim_neuron_set.ref)\n",
    "else:\n",
    "    poisson_input = obi.PoissonSpikeStimulus(duration=800.0, timestamps=regular_timestamps.ref, frequency=20)\n",
    "sim_conf.add(poisson_input, name='PoissonInputStimulus')\n",
    "\n",
    "if with_neuron_sets:\n",
    "    sync_input = obi.FullySynchronousSpikeStimulus(timestamps=regular_timestamps.ref, source_neuron_set=sync_neuron_set.ref, targeted_neuron_set=sim_neuron_set.ref)\n",
    "else:\n",
    "    sync_input = obi.FullySynchronousSpikeStimulus(timestamps=regular_timestamps.ref)\n",
    "sim_conf.add(sync_input, name='SynchronousInputStimulus')\n",
    "\n",
    "if with_neuron_sets:\n",
    "    current_stim = obi.ConstantCurrentClampSomaticStimulus(timestamps=regular_timestamps.ref, neuron_set=sim_neuron_set.ref, amplitude=0.1)\n",
    "else:\n",
    "    current_stim = obi.ConstantCurrentClampSomaticStimulus(timestamps=regular_timestamps.ref, amplitude=0.1)\n",
    "sim_conf.add(current_stim, name='ConstantCurrentClampSomaticStimulus')\n",
    "\n",
    "# Recordings\n",
    "voltage_recording = obi.SomaVoltageRecording(neuron_set=sim_neuron_set.ref)\n",
    "sim_conf.add(voltage_recording, name='VoltageRecording')\n",
    "\n",
    "if with_neuron_sets:\n",
    "    time_window_voltage_recording = obi.TimeWindowSomaVoltageRecording(neuron_set=sim_neuron_set.ref, start_time=0.0, end_time=2000.0)\n",
    "else:\n",
    "    time_window_voltage_recording = obi.TimeWindowSomaVoltageRecording(start_time=0.0, end_time=2000.0)\n",
    "sim_conf.add(time_window_voltage_recording, name='TimeWindowVoltageRecording')\n",
    "\n",
    "# Initialization\n",
    "if with_neuron_sets:\n",
    "    simulations_initialize = obi.CircuitSimulationScanConfig.Initialize(circuit=obi.CircuitFromID(id_str=circuit_id), \n",
    "                                                            node_set=sim_neuron_set.ref, \n",
    "                                                            simulation_length=sim_duration)\n",
    "else:\n",
    "    simulations_initialize = obi.CircuitSimulationScanConfig.Initialize(circuit=obi.CircuitFromID(id_str=circuit_id), \n",
    "                                                            simulation_length=sim_duration)\n",
    "sim_conf.set(simulations_initialize, name='initialize')\n",
    "\n",
    "# Validated Config\n",
    "validated_sim_conf = sim_conf.validated_config()"
   ]
  },
  {
   "cell_type": "markdown",
   "id": "d710be17",
   "metadata": {},
   "source": [
    "# Generate GridScanGenerationTask (locally) - Note strange issue described for relative paths"
   ]
  },
  {
   "cell_type": "code",
   "execution_count": null,
   "id": "32853aaf",
   "metadata": {},
   "outputs": [],
   "source": [
    "import tempfile\n",
    "\n",
    "# Create a temporary directory (not used in this example, but can be useful for testing)\n",
    "with tempfile.TemporaryDirectory() as temp_dir:\n",
    "\n",
    "    \"\"\"\n",
    "    Very strange issue with adding assets when a relative path is used here. Need to look into after CNS.\n",
    "    \"\"\"\n",
    "    # grid_scan = obi.GridScanGenerationTask(form=validated_sim_conf, coordinate_directory_option=\"ZERO_INDEX\", output_root='../../obi-output/circuit_simulations/grid_scan')\n",
    "    grid_scan = obi.GridScanGenerationTask(form=validated_sim_conf, coordinate_directory_option=\"ZERO_INDEX\", output_root='/Users/james/Documents/obi/code/obi-output/circuit_simulations/grid_scan')\n",
    "    # grid_scan = obi.GridScanGenerationTask(form=validated_sim_conf, coordinate_directory_option=\"ZERO_INDEX\", output_root=temp_dir)\n",
    "    grid_scan.multiple_value_parameters(display=True)\n",
    "    grid_scan.coordinate_parameters(display=True)\n",
    "    grid_scan.execute(db_client=db_client)\n",
    "    obi.run_tasks_for_generated_scan(grid_scan, db_client=db_client)\n"
   ]
  },
  {
   "cell_type": "markdown",
   "id": "de1094f1",
   "metadata": {},
   "source": [
    "# Test endpoint. Service must be launched first (make run-local)"
   ]
  },
  {
   "cell_type": "code",
   "execution_count": 7,
   "id": "29d8c336",
   "metadata": {},
   "outputs": [
    {
     "name": "stdout",
     "output_type": "stream",
     "text": [
      "Error 500: {\"detail\":\"'CircuitSimulationSingleConfig' object has no attribute 'output_root'\"}\n"
     ]
    }
   ],
   "source": [
    "import requests\n",
    "\n",
    "# Construct the full endpoint URL\n",
    "# url = f\"{obi_one_api_url}/generated/circuit-simulation-scan-config-generate-grid\"\n",
    "url = f\"{obi_one_api_url}/declared/scan_config/grid-scan-coordinate-count\"\n",
    "# Prepare headers\n",
    "headers = {\n",
    "    \"Authorization\": f\"Bearer {token}\",\n",
    "    \"Accept\": \"application/json\",\n",
    "    \"Content-Type\": \"application/json\"\n",
    "}\n",
    "\n",
    "# Optionally include optional headers if they are set\n",
    "if virtual_lab_id:\n",
    "    headers[\"virtual-lab-id\"] = virtual_lab_id\n",
    "if project_id:\n",
    "    headers[\"project-id\"] = project_id\n",
    "\n",
    "# Construct request\n",
    "# Placeholder example:\n",
    "request_body = {\n",
    " 'type': 'CircuitSimulationScanConfig',\n",
    " 'timestamps': {'RegularTimestamps': {'type': 'RegularTimestamps',\n",
    "   'start_time': 0.0,\n",
    "   'number_of_repetitions': 3,\n",
    "   'interval': 3000.0}},\n",
    " 'stimuli': {\n",
    "  'PoissonInputStimulus': {'type': 'PoissonSpikeStimulus',\n",
    "   'timestamps': {'type': 'TimestampsReference',\n",
    "    'block_dict_name': 'timestamps',\n",
    "    'block_name': 'RegularTimestamps'},\n",
    "   'source_neuron_set': {'type': 'NeuronSetReference',\n",
    "    'block_dict_name': 'neuron_sets',\n",
    "    'block_name': 'L1All'},\n",
    "   'targeted_neuron_set': {'type': 'NeuronSetReference',\n",
    "    'block_dict_name': 'neuron_sets',\n",
    "    'block_name': 'L1All'},\n",
    "   'duration': 800.0,\n",
    "   'random_sample': 0,\n",
    "   'frequency': 20.0}\n",
    "   },\n",
    " 'recordings': {'VoltageRecording': {'type': 'SomaVoltageRecording',\n",
    "   'start_time': 0.0,\n",
    "   'end_time': 3000.0,\n",
    "   'dt': 0.1,\n",
    "   'neuron_set': {'type': 'NeuronSetReference',\n",
    "    'block_dict_name': 'neuron_sets',\n",
    "    'block_name': 'L1All'}}},\n",
    " 'neuron_sets': {'L1All': {'type': 'IDNeuronSet',\n",
    "    'sample_percentage': [30, 100],\n",
    "   'sample_seed': 0,\n",
    "   'neuron_ids': {'type': 'NamedTuple',\n",
    "    'name': 'IDNeuronSet1',\n",
    "    'elements': (0, 1, 2, 3, 4, 5, 6, 7, 8, 9)}}},\n",
    " 'initialize': {'type': 'CircuitSimulationScanConfig.Initialize',\n",
    "  'circuit': {'type': 'CircuitFromID',\n",
    "   'id_str': circuit_id},\n",
    "  'simulation_length': [2000.0],\n",
    "  'node_set': {'type': 'NeuronSetReference',\n",
    "   'block_dict_name': 'neuron_sets',\n",
    "   'block_name': 'L1All'},\n",
    "  'sample_seed': 1,\n",
    "  'extracellular_calcium_concentration': [1.1, 1.15],\n",
    "  'v_init': -80.0},\n",
    " 'info': {'type': 'Info',\n",
    "  'campaign_name': 'No name provided',\n",
    "  'campaign_description': 'No description provided'}\n",
    "}\n",
    "\n",
    "# Make the POST request\n",
    "response = requests.post(url, headers=headers, json=request_body)\n",
    "\n",
    "# Check the response\n",
    "if response.status_code == 200:\n",
    "    data = response.json()\n",
    "    simulation_campaign_id = data\n",
    "    print(\"Success:\", data)\n",
    "else:\n",
    "    print(f\"Error {response.status_code}: {response.text}\")"
   ]
  },
  {
   "cell_type": "markdown",
   "id": "ea0d38b9",
   "metadata": {},
   "source": [
    "# Stage the Circuit"
   ]
  },
  {
   "cell_type": "code",
   "execution_count": null,
   "id": "6b26a96a",
   "metadata": {},
   "outputs": [],
   "source": [
    "from entitysdk.models import Circuit\n",
    "circuit = db_client.get_entity(entity_id=circuit_id, entity_type=Circuit)\n",
    "\n",
    "from entitysdk.staging.circuit import stage_circuit\n",
    "from pathlib import Path\n",
    "stage_circuit(client=db_client, model=circuit, output_dir=Path('temp_circ/'))"
   ]
  },
  {
   "cell_type": "markdown",
   "id": "7d4eedc5",
   "metadata": {},
   "source": [
    "# Stage the Simulation"
   ]
  },
  {
   "cell_type": "code",
   "execution_count": null,
   "id": "2519b421",
   "metadata": {},
   "outputs": [],
   "source": [
    "from entitysdk.models import SimulationCampaign, Simulation\n",
    "simulation_campaign = db_client.get_entity(entity_id=simulation_campaign_id, entity_type=SimulationCampaign)\n",
    "simulation = db_client.get_entity(entity_id=simulation_campaign.simulations[0].id, entity_type=Simulation)\n",
    "\n",
    "for asset in simulation.assets:\n",
    "    if asset.content_type == \"application/json\":\n",
    "        if asset.label == 'sonata_simulation_config':\n",
    "            # Download the content into memory\n",
    "            content = db_client.download_file(\n",
    "                entity_id=simulation.id,\n",
    "                entity_type=Simulation,\n",
    "                asset_id=asset.id,\n",
    "                output_path='simulation_config.json'\n",
    "            )\n",
    "\n",
    "from pathlib import Path\n",
    "from entitysdk.staging.simulation import stage_simulation\n",
    "stage_simulation(client=db_client, model=simulation, output_dir=Path('temp_sim'), circuit_config_path=Path(\"../temp_circ/circuit_config.json\"))"
   ]
  },
  {
   "cell_type": "code",
   "execution_count": null,
   "id": "a617d796",
   "metadata": {},
   "outputs": [],
   "source": []
  }
 ],
 "metadata": {
  "kernelspec": {
   "display_name": "obi-one (3.12.9)",
   "language": "python",
   "name": "python3"
  },
  "language_info": {
   "codemirror_mode": {
    "name": "ipython",
    "version": 3
   },
   "file_extension": ".py",
   "mimetype": "text/x-python",
   "name": "python",
   "nbconvert_exporter": "python",
   "pygments_lexer": "ipython3",
   "version": "3.12.9"
  }
 },
 "nbformat": 4,
 "nbformat_minor": 5
}
