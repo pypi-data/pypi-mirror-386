{
 "cells": [
  {
   "cell_type": "markdown",
   "id": "4e6dc6f6-b6b4-4525-9900-4996b5b3cc1f",
   "metadata": {},
   "source": [
    "# Create minimal node set file"
   ]
  },
  {
   "cell_type": "code",
   "execution_count": 28,
   "id": "43aeb1d0-1d55-4c6e-9aa9-93a8477a79f4",
   "metadata": {},
   "outputs": [],
   "source": [
    "import json\n",
    "import os\n",
    "from bluepysnap import Circuit"
   ]
  },
  {
   "cell_type": "code",
   "execution_count": 40,
   "id": "006c0985-a3d0-4560-8005-bfd14927d00b",
   "metadata": {},
   "outputs": [],
   "source": [
    "# circuit_name = \"MICrONS_V1\"\n",
    "# popul_name = \"microns_intrinsic\"\n",
    "circuit_name = \"H01_V1\"\n",
    "popul_name = \"h01_intrinsic\"\n",
    "circuit_config = f\"/Users/pokorny/OneDrive - Open Brain Institute/Circuits hardcoded/Circuits/{circuit_name}/circuit_config.json\"\n",
    "output_root = \"./\""
   ]
  },
  {
   "cell_type": "code",
   "execution_count": 47,
   "id": "325a0da3-d92c-4ec4-bfdb-b342c81e4a41",
   "metadata": {},
   "outputs": [],
   "source": [
    "# All intrinsic node set\n",
    "c = Circuit(circuit_config)"
   ]
  },
  {
   "cell_type": "code",
   "execution_count": 42,
   "id": "a2e42b83-d7df-469e-906f-aa8951173fb5",
   "metadata": {},
   "outputs": [
    {
     "name": "stdout",
     "output_type": "stream",
     "text": [
      "Node population 'h01_intrinsic' with 3684 neurons\n"
     ]
    }
   ],
   "source": [
    "nodes = c.nodes[popul_name]\n",
    "print(f\"Node population '{popul_name}' with {nodes.size} neurons\")"
   ]
  },
  {
   "cell_type": "code",
   "execution_count": 43,
   "id": "18c71f37-6be4-41e0-b61d-277238269dab",
   "metadata": {},
   "outputs": [
    {
     "name": "stdout",
     "output_type": "stream",
     "text": [
      "All node IDs (3684): 0..3683\n",
      "Node IDs with morphology (88): 58..3627\n"
     ]
    }
   ],
   "source": [
    "# Get node IDs\n",
    "morph = nodes.get(properties=\"morphology\")\n",
    "all_ids = morph.index.values\n",
    "morph_ids = morph[morph != \"_NONE\"].index.values\n",
    "\n",
    "print(f\"All node IDs ({len(all_ids)}): {min(all_ids)}..{max(all_ids)}\")\n",
    "print(f\"Node IDs with morphology ({len(morph_ids)}): {min(morph_ids)}..{max(morph_ids)}\")"
   ]
  },
  {
   "cell_type": "code",
   "execution_count": 44,
   "id": "1375099a-bd4f-4aa8-b44a-32eab61fe614",
   "metadata": {},
   "outputs": [],
   "source": [
    "# Create node sets file\n",
    "node_sets = {\n",
    "    \"with_morphology\": {\"population\": popul_name,\n",
    "                        \"node_id\": morph_ids.tolist()},\n",
    "    \"all_intrinsic\": {\"population\": popul_name}\n",
    "}\n",
    "\n",
    "output_folder = os.path.join(output_root, circuit_name)\n",
    "if not os.path.exists(output_folder):\n",
    "    os.makedirs(output_folder)\n",
    "with open(os.path.join(output_folder, \"node_sets.json\"), \"w+\") as f:\n",
    "    json.dump(node_sets, f, indent=4)"
   ]
  },
  {
   "cell_type": "code",
   "execution_count": null,
   "id": "98b2a3b9-8980-4258-8ca5-eaecf2d5975d",
   "metadata": {},
   "outputs": [],
   "source": []
  }
 ],
 "metadata": {
  "kernelspec": {
   "display_name": "obi-one",
   "language": "python",
   "name": "obi-one"
  },
  "language_info": {
   "codemirror_mode": {
    "name": "ipython",
    "version": 3
   },
   "file_extension": ".py",
   "mimetype": "text/x-python",
   "name": "python",
   "nbconvert_exporter": "python",
   "pygments_lexer": "ipython3",
   "version": "3.12.9"
  }
 },
 "nbformat": 4,
 "nbformat_minor": 5
}
