{
 "cells": [
  {
   "cell_type": "code",
   "execution_count": 1,
   "metadata": {},
   "outputs": [],
   "source": [
    "import obi_one as obi\n",
    "from pathlib import Path"
   ]
  },
  {
   "cell_type": "code",
   "execution_count": 2,
   "metadata": {},
   "outputs": [],
   "source": [
    "# input_root = Path(\"../../../obi-output/containerized_EM_circuits\")\n",
    "input_root = Path(\"/Users/pokorny/OneDrive - Open Brain Institute/Circuits hardcoded/Circuits\")\n",
    "output_root = Path(\"../../../obi-output/compressed_EM_circuits\")\n"
   ]
  },
  {
   "cell_type": "code",
   "execution_count": null,
   "metadata": {},
   "outputs": [],
   "source": [
    "folder_compressions_scan_config = obi.FolderCompressionScanConfig(\n",
    "                    initialize=obi.FolderCompressionScanConfig.Initialize(\n",
    "                        folder_path=[\n",
    "                            # obi.NamedPath(name=\"MICrONS_V1\", path=str(input_root / \"MICrONS_V1\")),\n",
    "                            obi.NamedPath(name=\"H01_V1\", path=str(input_root / \"H01_V1\")),\n",
    "                        ],\n",
    "                        file_format=\"gz\",\n",
    "                        file_name=\"circuit\"\n",
    "                    )\n",
    ")\n",
    "\n",
    "grid_scan = obi.GridScanGenerationTask(form=folder_compressions_scan_config, output_root=output_root, coordinate_directory_option=\"VALUE\")"
   ]
  },
  {
   "cell_type": "code",
   "execution_count": null,
   "metadata": {},
   "outputs": [
    {
     "name": "stdout",
     "output_type": "stream",
     "text": [
      "[2025-07-01 15:21:01,778] INFO: None\n",
      "[2025-07-01 15:21:01,782] INFO: Info: Running gz compression on 'H01_V1'...\n",
      "[2025-07-01 15:21:13,909] INFO: DONE (Duration 00h:00min:12s; File size 77.7MB)\n",
      "[2025-07-01 15:21:13,913] INFO: create_bbp_workflow_campaign_config() not yet complete.\n"
     ]
    },
    {
     "data": {
      "text/plain": [
       "{0: None}"
      ]
     },
     "execution_count": 4,
     "metadata": {},
     "output_type": "execute_result"
    }
   ],
   "source": [
    "grid_scan.execute()\n",
    "obi.run_tasks_for_generated_scan(grid_scan)"
   ]
  },
  {
   "cell_type": "code",
   "execution_count": null,
   "metadata": {},
   "outputs": [],
   "source": []
  }
 ],
 "metadata": {
  "kernelspec": {
   "display_name": "obi-one",
   "language": "python",
   "name": "obi-one"
  },
  "language_info": {
   "codemirror_mode": {
    "name": "ipython",
    "version": 3
   },
   "file_extension": ".py",
   "mimetype": "text/x-python",
   "name": "python",
   "nbconvert_exporter": "python",
   "pygments_lexer": "ipython3",
   "version": "3.12.9"
  }
 },
 "nbformat": 4,
 "nbformat_minor": 4
}
