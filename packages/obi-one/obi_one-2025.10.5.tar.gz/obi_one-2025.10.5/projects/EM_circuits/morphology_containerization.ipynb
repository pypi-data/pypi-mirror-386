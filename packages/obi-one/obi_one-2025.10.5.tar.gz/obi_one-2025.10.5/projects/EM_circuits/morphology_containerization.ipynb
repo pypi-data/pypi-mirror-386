{
 "cells": [
  {
   "cell_type": "code",
   "execution_count": 1,
   "metadata": {},
   "outputs": [
    {
     "name": "stderr",
     "output_type": "stream",
     "text": [
      "/Users/pokorny/JupyterLab/git/obi-one/.venv/lib/python3.12/site-packages/conntility/circuit_models/input_spikes.py:22: SyntaxWarning: invalid escape sequence '\\s'\n",
      "  s = pandas.read_csv(spk[\"spike_file\"], sep=\"\\s+\").rename(columns={\"/scatter\": \"node_id\"})[\"node_id\"]\n"
     ]
    }
   ],
   "source": [
    "import obi_one as obi\n",
    "import os"
   ]
  },
  {
   "cell_type": "code",
   "execution_count": 2,
   "metadata": {},
   "outputs": [],
   "source": [
    "# input_root = \"/Users/pokorny/OneDrive - Open Brain Institute/Circuits hardcoded/Circuits\"\n",
    "# input_root = \"/Users/pokorny/Data/Circuits\"\n",
    "output_root = \"../../../obi-output/containerized_EM_circuits\""
   ]
  },
  {
   "cell_type": "code",
   "execution_count": null,
   "metadata": {},
   "outputs": [],
   "source": [
    "morphology_containerization_multi_config = obi.MorphologyContainerizationScanConfig(\n",
    "                    initialize=obi.MorphologyContainerizationScanConfig.Initialize(\n",
    "                        circuit_path=[\n",
    "                            obi.NamedPath(name=\"MICrONS\", path=os.path.join(input_root, \"MICrONS\", \"circuit_config.json\")),\n",
    "                            # obi.NamedPath(name=\"MICrONS\", path=os.path.join(input_root, \"MICrONS\", \"circuit_config_no_h5_morph.json\")),\n",
    "                            # obi.NamedPath(name=\"H01\", path=os.path.join(input_root, \"H01\", \"circuit_config_no_h5_morph.json\")),\n",
    "                        ],\n",
    "                        hoc_template_old = \"../../obi_one/scientific/library/cell_template_neurodamus.jinja2\",\n",
    "                        hoc_template_new = \"../../obi_one/scientific/library/cell_template_neurodamus_obi.jinja2\"\n",
    "                    )\n",
    ")\n",
    "\n",
    "grid_scan = obi.GridScanGenerationTask(form=morphology_containerization_multi_config, output_root=output_root, coordinate_directory_option=\"VALUE\")"
   ]
  },
  {
   "cell_type": "code",
   "execution_count": null,
   "metadata": {},
   "outputs": [
    {
     "name": "stdout",
     "output_type": "stream",
     "text": [
      "[2025-06-30 11:38:21,556] INFO: None\n",
      "Running morphology containerization for 'MICrONS'\n",
      "Copying circuit to output folder...\n",
      "...DONE\n",
      "WARNING: Biophysical population 'microns_intrinsic' has neurons without morphologies!\n",
      "> 877 unique morphologies in population 'microns_intrinsic' (50948)\n"
     ]
    },
    {
     "name": "stderr",
     "output_type": "stream",
     "text": [
      "Converting .swc to .h5: 100%|█████████████████████████████████████████████████████████████████| 877/877 [01:04<00:00, 13.69it/s]\n",
      "Merging .h5 into container: 100%|████████████████████████████████████████████████████████████| 877/877 [00:02<00:00, 339.35it/s]\n"
     ]
    },
    {
     "name": "stdout",
     "output_type": "stream",
     "text": [
      "Merged 877 morphologies into container (0 already existed)\n",
      "WARNING: Biophysical neuron models dir missing!\n",
      "Cleaning morphology folders: ['/Users/pokorny/JupyterLab/git/obi-output/containerized_EM_circuits/MICrONS/microns_nodes/EMSonataNodesFile/morphologies/swc', '/Users/pokorny/JupyterLab/git/obi-output/containerized_EM_circuits/MICrONS/microns_nodes/EMSonataNodesFile/morphologies/_h5_morphologies_tmp_']\n",
      "Morphology containerization DONE\n",
      "[2025-06-30 11:39:39,392] INFO: create_bbp_workflow_campaign_config() not yet complete.\n"
     ]
    },
    {
     "data": {
      "text/plain": [
       "{0: None}"
      ]
     },
     "execution_count": 12,
     "metadata": {},
     "output_type": "execute_result"
    }
   ],
   "source": [
    "grid_scan.execute()\n",
    "obi.run_tasks_for_generated_scan(grid_scan)"
   ]
  },
  {
   "cell_type": "code",
   "execution_count": 6,
   "metadata": {},
   "outputs": [],
   "source": [
    "# IMPORTANT:\n",
    "# After containerization, copy .json spine files manually to morphologies folder!!"
   ]
  }
 ],
 "metadata": {
  "kernelspec": {
   "display_name": "obi-one",
   "language": "python",
   "name": "obi-one"
  },
  "language_info": {
   "codemirror_mode": {
    "name": "ipython",
    "version": 3
   },
   "file_extension": ".py",
   "mimetype": "text/x-python",
   "name": "python",
   "nbconvert_exporter": "python",
   "pygments_lexer": "ipython3",
   "version": "3.12.9"
  }
 },
 "nbformat": 4,
 "nbformat_minor": 4
}
