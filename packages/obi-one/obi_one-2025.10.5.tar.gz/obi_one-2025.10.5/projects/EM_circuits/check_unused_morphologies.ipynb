{
 "cells": [
  {
   "cell_type": "code",
   "execution_count": 1,
   "id": "70aa23d3-f644-49f0-87c3-1cfb72b1ee08",
   "metadata": {},
   "outputs": [],
   "source": [
    "import numpy as np\n",
    "import os\n",
    "\n",
    "from bluepysnap import Circuit"
   ]
  },
  {
   "cell_type": "code",
   "execution_count": 2,
   "id": "6525fa40-0e05-4255-8bde-576f79fd8d2b",
   "metadata": {},
   "outputs": [],
   "source": [
    "input_root = \"/Users/pokorny/Data/Circuits\"\n",
    "c = Circuit(os.path.join(input_root, \"MICrONS\", \"circuit_config.json\"))\n",
    "nodes = c.nodes[\"microns_intrinsic\"]\n",
    "# c = Circuit(os.path.join(input_root, \"H01\", \"circuit_config.json\"))\n",
    "# nodes = c.nodes[\"h01_intrinsic\"]"
   ]
  },
  {
   "cell_type": "code",
   "execution_count": 3,
   "id": "0ac51fac-96cb-4427-a97a-467b9ed29b56",
   "metadata": {},
   "outputs": [
    {
     "name": "stdout",
     "output_type": "stream",
     "text": [
      "877 unique morphologies\n"
     ]
    }
   ],
   "source": [
    "# Check used morphs\n",
    "node_morphs = nodes.get(properties=\"morphology\")\n",
    "unique_morphs = np.unique(node_morphs[node_morphs != \"_NONE\"]).tolist()\n",
    "print(f\"{len(unique_morphs)} unique morphologies\")"
   ]
  },
  {
   "cell_type": "code",
   "execution_count": 4,
   "id": "f66ba98f-2ce7-4fbb-b160-b286f222c296",
   "metadata": {},
   "outputs": [
    {
     "name": "stdout",
     "output_type": "stream",
     "text": [
      "879 morphology files in folder\n"
     ]
    }
   ],
   "source": [
    "# Check morph files\n",
    "morph_dir = nodes.morph.get_morphology_dir(\"swc\")\n",
    "morph_files = os.listdir(morph_dir)\n",
    "print(f\"{len(morph_files)} morphology files in folder\")"
   ]
  },
  {
   "cell_type": "code",
   "execution_count": 5,
   "id": "e80cc98c-422c-4ea0-8988-ce56ce5c4d94",
   "metadata": {},
   "outputs": [],
   "source": [
    "unused_files = []\n",
    "for _f in morph_files:\n",
    "    _name = os.path.splitext(_f)[0]\n",
    "    if _name not in unique_morphs:\n",
    "        unused_files.append(_f)"
   ]
  },
  {
   "cell_type": "code",
   "execution_count": 6,
   "id": "3ed7f422-fdda-4d56-b9b5-ad770a94f95a",
   "metadata": {},
   "outputs": [
    {
     "name": "stdout",
     "output_type": "stream",
     "text": [
      "2 morphology files unused:\n",
      "['864691135118918109.swc', '864691135375430985.swc']\n"
     ]
    }
   ],
   "source": [
    "print(f\"{len(unused_files)} morphology files unused:\")\n",
    "print(unused_files)"
   ]
  },
  {
   "cell_type": "code",
   "execution_count": null,
   "id": "e1bb6247-fa0f-4b2b-a143-521d9d1c79cc",
   "metadata": {},
   "outputs": [],
   "source": []
  }
 ],
 "metadata": {
  "kernelspec": {
   "display_name": "obi-one",
   "language": "python",
   "name": "obi-one"
  },
  "language_info": {
   "codemirror_mode": {
    "name": "ipython",
    "version": 3
   },
   "file_extension": ".py",
   "mimetype": "text/x-python",
   "name": "python",
   "nbconvert_exporter": "python",
   "pygments_lexer": "ipython3",
   "version": "3.12.9"
  }
 },
 "nbformat": 4,
 "nbformat_minor": 5
}
