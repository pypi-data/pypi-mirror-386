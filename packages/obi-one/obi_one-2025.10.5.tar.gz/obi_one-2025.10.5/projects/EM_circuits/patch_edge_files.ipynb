{
 "cells": [
  {
   "cell_type": "markdown",
   "id": "773e5e61-ccb0-4363-9a06-46b76bb6d084",
   "metadata": {},
   "source": [
    "# Manual patching edge files to add missing HDF5 datasets\n",
    "\n",
    "The following datasets (size N = number of edges) will be added:\n",
    "- `edge_type_id`: All values -1\n",
    "- `edge_group_id`: All values 0\n",
    "- `edge_group_index`: Values 0..N\n"
   ]
  },
  {
   "cell_type": "code",
   "execution_count": 1,
   "id": "9e6a0428-9103-40f0-9b2f-7abc04527483",
   "metadata": {},
   "outputs": [],
   "source": [
    "import h5py\n",
    "import numpy as np\n",
    "import os\n",
    "import shutil\n",
    "\n",
    "from bluepysnap import Circuit"
   ]
  },
  {
   "cell_type": "code",
   "execution_count": 2,
   "id": "a0acd5d1-b0f4-4daa-a44b-1d7f96cdcd2b",
   "metadata": {},
   "outputs": [],
   "source": [
    "circuit_config = \"/Users/pokorny/JupyterLab/git/obi-output/containerized_EM_circuits/MICrONS__debug/circuit_config.json\"\n",
    "# circuit_config = \"/Users/pokorny/JupyterLab/git/obi-output/containerized_EM_circuits/MICrONS/circuit_config.json\"\n",
    "# circuit_config = \"/Users/pokorny/JupyterLab/git/obi-output/containerized_EM_circuits/H01/circuit_config.json\""
   ]
  },
  {
   "cell_type": "code",
   "execution_count": 5,
   "id": "10ce9a64-9437-4b68-80bd-06ed0d0a5243",
   "metadata": {},
   "outputs": [
    {
     "name": "stdout",
     "output_type": "stream",
     "text": [
      "3 edge files to patch:\n",
      "  /Users/pokorny/JupyterLab/git/obi-output/containerized_EM_circuits/MICrONS__debug/microns_to_sonata_edges/0/extrinsic_edges.h5\n",
      "  /Users/pokorny/JupyterLab/git/obi-output/containerized_EM_circuits/MICrONS__debug/microns_to_sonata_edges/0/intrinsic_edges.h5\n",
      "  /Users/pokorny/JupyterLab/git/obi-output/containerized_EM_circuits/MICrONS__debug/microns_to_sonata_edges/0/virtual_edges.h5\n"
     ]
    }
   ],
   "source": [
    "c = Circuit(circuit_config)\n",
    "edge_populations = c.edges.population_names\n",
    "edge_files = {}\n",
    "for edge_pop in edge_populations:\n",
    "    edge_file = c.edges[edge_pop].h5_filepath\n",
    "    with h5py.File(edge_file, \"r\") as h5:\n",
    "        if \"edge_type_id\" not in h5[\"edges\"][edge_pop].keys():\n",
    "            edge_files[edge_pop] = edge_file\n",
    "print(f\"{len(edge_files)} edge files to patch:\")\n",
    "for _, edge_file in edge_files.items():\n",
    "    print(f\"  {edge_file}\")"
   ]
  },
  {
   "cell_type": "code",
   "execution_count": 6,
   "id": "5a3b0c38-dbe9-4e19-ac10-1f776c2b1154",
   "metadata": {},
   "outputs": [
    {
     "name": "stdout",
     "output_type": "stream",
     "text": [
      "Patching population 'em_extrinsic__microns_intrinsic__chemical'...\n",
      "231537 edges\n",
      "edge_type_id: [-1 -1 -1 ... -1 -1 -1]\n",
      "edge_group_id:[0 0 0 ... 0 0 0]\n",
      "edge_group_index:[     0      1      2 ... 231534 231535 231536]\n",
      "...DONE\n",
      "\n",
      "Patching population 'microns_intrinsic__microns_intrinsic__chemical'...\n",
      "11556253 edges\n",
      "edge_type_id: [-1 -1 -1 ... -1 -1 -1]\n",
      "edge_group_id:[0 0 0 ... 0 0 0]\n",
      "edge_group_index:[       0        1        2 ... 11556250 11556251 11556252]\n",
      "...DONE\n",
      "\n",
      "Patching population 'virtual_microns_intrinsic__microns_intrinsic__chemical'...\n",
      "655840 edges\n",
      "edge_type_id: [-1 -1 -1 ... -1 -1 -1]\n",
      "edge_group_id:[0 0 0 ... 0 0 0]\n",
      "edge_group_index:[     0      1      2 ... 655837 655838 655839]\n",
      "...DONE\n",
      "\n"
     ]
    }
   ],
   "source": [
    "# Patch edge files\n",
    "for edge_pop, edge_file in edge_files.items():\n",
    "    print(f\"Patching population '{edge_pop}'...\")\n",
    "    \n",
    "    # Make copy of edge file\n",
    "    fn, fext = os.path.splitext(edge_file)\n",
    "    edge_file_bak = fn + \"__BAK__\" + fext\n",
    "    assert not os.path.exists(edge_file_bak), f\"ERROR: Backup file '{edge_file_bak}' already exists!\"\n",
    "    shutil.copy(edge_file, edge_file_bak)\n",
    "\n",
    "    # Load edge file\n",
    "    h5 = h5py.File(edge_file, \"r+\")\n",
    "    root = h5[\"edges\"][edge_pop]\n",
    "    \n",
    "    num_edges = len(np.array(root[\"source_node_id\"]))\n",
    "    print(f\"{num_edges} edges\")\n",
    "\n",
    "    # Create datasets\n",
    "    edge_type_id = np.full(num_edges, -1)\n",
    "    edge_group_id = np.zeros(num_edges)\n",
    "    edge_group_index = np.arange(num_edges)\n",
    "\n",
    "    # Add datasets to h5 file\n",
    "    root.create_dataset(\"edge_type_id\", data=edge_type_id, dtype='i8')\n",
    "    root.create_dataset(\"edge_group_id\", data=edge_group_id, dtype='i8')\n",
    "    root.create_dataset(\"edge_group_index\", data=edge_group_index, dtype='u8')\n",
    "\n",
    "    h5.close()\n",
    "\n",
    "    # Check again by re-loading h5 file\n",
    "    with h5py.File(edge_file, \"r\") as h5:\n",
    "        _edge_type_id = np.array(h5[\"edges\"][edge_pop][\"edge_type_id\"])\n",
    "        _edge_group_id = np.array(h5[\"edges\"][edge_pop][\"edge_group_id\"])\n",
    "        _edge_group_index = np.array(h5[\"edges\"][edge_pop][\"edge_group_index\"])\n",
    "    \n",
    "    print(\"edge_type_id: \" + str(_edge_type_id))\n",
    "    print(\"edge_group_id:\" + str(_edge_group_id))\n",
    "    print(\"edge_group_index:\" + str(_edge_group_index))\n",
    "\n",
    "    assert np.array_equal(_edge_type_id, edge_type_id), \"ERROR: edge_type_id mismatch!\"\n",
    "    assert np.array_equal(_edge_group_id, edge_group_id), \"ERROR: edge_group_id mismatch!\"\n",
    "    assert np.array_equal(_edge_group_index, edge_group_index), \"ERROR: edge_group_index mismatch!\"\n",
    "\n",
    "    print(\"...DONE\")\n",
    "    print()"
   ]
  },
  {
   "cell_type": "code",
   "execution_count": 7,
   "id": "f5c3bc48-d1e1-4d56-96e5-50bc7ce9a0f5",
   "metadata": {},
   "outputs": [
    {
     "name": "stdout",
     "output_type": "stream",
     "text": [
      "/Users/pokorny/JupyterLab/git/obi-output/containerized_EM_circuits/MICrONS__debug/circuit_config.json\n",
      "246972 nodes in total\n",
      "12443630 edges in total\n"
     ]
    }
   ],
   "source": [
    "# Check if loading with SNAP is OK (if not, .size will raise an error)\n",
    "c = Circuit(circuit_config)\n",
    "print(circuit_config)\n",
    "print(f\"{c.nodes.size} nodes in total\")\n",
    "print(f\"{c.edges.size} edges in total\")"
   ]
  },
  {
   "cell_type": "code",
   "execution_count": null,
   "id": "142d5eea-b72b-42b6-9e9e-0d60469d2a13",
   "metadata": {},
   "outputs": [],
   "source": []
  }
 ],
 "metadata": {
  "kernelspec": {
   "display_name": "obi-one",
   "language": "python",
   "name": "obi-one"
  },
  "language_info": {
   "codemirror_mode": {
    "name": "ipython",
    "version": 3
   },
   "file_extension": ".py",
   "mimetype": "text/x-python",
   "name": "python",
   "nbconvert_exporter": "python",
   "pygments_lexer": "ipython3",
   "version": "3.12.9"
  }
 },
 "nbformat": 4,
 "nbformat_minor": 5
}
