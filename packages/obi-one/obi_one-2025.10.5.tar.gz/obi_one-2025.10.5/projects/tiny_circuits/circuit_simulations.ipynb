{
 "cells": [
  {
   "cell_type": "markdown",
   "metadata": {},
   "source": [
    "# Circuit simulation campaign setup for tiny circuits"
   ]
  },
  {
   "cell_type": "code",
   "execution_count": null,
   "metadata": {},
   "outputs": [],
   "source": [
    "import obi_one as obi\n",
    "from pathlib import Path"
   ]
  },
  {
   "cell_type": "code",
   "execution_count": null,
   "metadata": {},
   "outputs": [],
   "source": [
    "circuit_path_prefix = Path(\"../../examples/data/tiny_circuits\")"
   ]
  },
  {
   "cell_type": "markdown",
   "metadata": {},
   "source": [
    "### Loading a circuit"
   ]
  },
  {
   "cell_type": "code",
   "execution_count": null,
   "metadata": {},
   "outputs": [],
   "source": [
    "circuit = obi.Circuit(name=\"N_10__top_nodes_dim6\", path=str(circuit_path_prefix / \"N_10__top_nodes_dim6\" / \"circuit_config.json\"))\n",
    "nodes = circuit.sonata_circuit.nodes[\"S1nonbarrel_neurons\"]\n",
    "edges = circuit.sonata_circuit.edges[\"S1nonbarrel_neurons__S1nonbarrel_neurons__chemical\"]\n",
    "print(f\"Circuit '{circuit}' with {nodes.size} neurons and {edges.size} synapses\")\n",
    "display(nodes.get())"
   ]
  },
  {
   "cell_type": "markdown",
   "metadata": {},
   "source": [
    "### Defining the circuit simulation"
   ]
  },
  {
   "cell_type": "code",
   "execution_count": null,
   "metadata": {},
   "outputs": [],
   "source": [
    "# Simulation init\n",
    "sim_neuron_set = obi.PredefinedNeuronSet(node_set=\"All\")\n",
    "sim_duration = 3000.0  # ms\n",
    "simulations_initialize = obi.CircuitSimulationScanConfig.Initialize(\n",
    "    circuit=circuit,\n",
    "    node_set=sim_neuron_set,\n",
    "    simulation_length=sim_duration,\n",
    ")\n",
    "\n",
    "# Stimuli\n",
    "stim_neuron_set = obi.PredefinedNeuronSet(node_set=\"All\", sample_percentage=[50, 100])\n",
    "stim_times = obi.RegularTimestamps(start_time=0.0, number_of_repetitions=3, interval=1000.0)  # in ms!!\n",
    "current_stimulus = obi.ConstantCurrentClampSomaticStimulus(timestamps=stim_times, duration=5.0, neuron_set=stim_neuron_set, amplitude=[0.2, 0.5])\n",
    "\n",
    "# Recordings\n",
    "rec_neuron_set = obi.PredefinedNeuronSet(node_set=\"All\")\n",
    "v_recording = obi.SomaVoltageRecording(start_time=0.0, end_time=sim_duration, neuron_set=rec_neuron_set)\n",
    "\n",
    "\"\"\"\n",
    "Fill form with Blocks\n",
    "\"\"\"\n",
    "simulations_form = obi.CircuitSimulationScanConfig(\n",
    "                                    initialize=simulations_initialize,\n",
    "                                    intracellular_location_sets={},\n",
    "                                    extracellular_locations={},\n",
    "                                    neuron_sets={\"SimNrnSet\": sim_neuron_set, \"StimNrnSet\": stim_neuron_set, \"RecNrnSet\": rec_neuron_set},\n",
    "                                    synapse_sets={},\n",
    "                                    timestamps={\"StimTimes\": stim_times},\n",
    "                                    stimuli={\"IStim\": current_stimulus},\n",
    "                                    recordings={\"SomaVoltRec\": v_recording},\n",
    "                                    )"
   ]
  },
  {
   "cell_type": "code",
   "execution_count": null,
   "metadata": {},
   "outputs": [],
   "source": [
    "simulations_form.model_dump(mode=\"json\")"
   ]
  },
  {
   "cell_type": "code",
   "execution_count": null,
   "metadata": {},
   "outputs": [],
   "source": [
    "grid_scan = obi.GridScanGenerationTask(form=simulations_form, output_root='../../../obi-output/tiny_circuit_simulation_campaign/grid_scan')\n",
    "grid_scan.multiple_value_parameters(display=True)\n",
    "grid_scan.coordinate_parameters(display=True)\n",
    "# grid_scan.coordinate_instances(display=True)\n",
    "grid_scan.execute(processing_method='generate')"
   ]
  },
  {
   "cell_type": "code",
   "execution_count": null,
   "metadata": {},
   "outputs": [],
   "source": [
    "# Deserialization\n",
    "# grid_scan_ds = obi.deserialize_obi_object_from_json_file(\"../../../obi-output/tiny_circuit_simulations/grid_scan/run_scan_config.json\")"
   ]
  }
 ],
 "metadata": {
  "kernelspec": {
   "display_name": "obi-one",
   "language": "python",
   "name": "obi-one"
  },
  "language_info": {
   "codemirror_mode": {
    "name": "ipython",
    "version": 3
   },
   "file_extension": ".py",
   "mimetype": "text/x-python",
   "name": "python",
   "nbconvert_exporter": "python",
   "pygments_lexer": "ipython3",
   "version": "3.12.9"
  }
 },
 "nbformat": 4,
 "nbformat_minor": 4
}
