{
 "cells": [
  {
   "cell_type": "code",
   "execution_count": null,
   "metadata": {},
   "outputs": [],
   "source": [
    "import obi_one as obi\n",
    "import os\n",
    "import pandas as pd"
   ]
  },
  {
   "cell_type": "code",
   "execution_count": null,
   "metadata": {},
   "outputs": [],
   "source": [
    "input_root = \"/Users/pokorny/Data/Circuits\"\n",
    "output_root = \"../../../obi-output/extracted_small_microcircuits_hippocampus\""
   ]
  },
  {
   "cell_type": "code",
   "execution_count": null,
   "metadata": {},
   "outputs": [],
   "source": [
    "circuit = obi.Circuit(name=\"rCA1-CYLINDER-REF\", path=os.path.join(input_root, \"rCA1-CYLINDER-REF\", \"circuit_config_postfix2.json\"))"
   ]
  },
  {
   "cell_type": "code",
   "execution_count": null,
   "metadata": {},
   "outputs": [],
   "source": [
    "# Neuron IDs for rCA1-CYLINDER-REF\n",
    "node_id_lists = [obi.NamedTuple(name=\"rCA1-CYLINDER-REF-1PC-8PV-01\", elements=(5625, 5821, 5847, 5815, 5591, 5619, 5675, 5845, 3673)),\n",
    "                 obi.NamedTuple(name=\"rCA1-CYLINDER-REF-1PC-8PV-02\", elements=(848, 5827, 5834, 5644, 5822, 5831, 5815, 5690, 5816)),\n",
    "                 obi.NamedTuple(name=\"rCA1-CYLINDER-REF-1PC-8PV-03\", elements=(2496, 5812, 5836, 5815, 5818, 5834, 5822, 5587, 5827)),\n",
    "                 obi.NamedTuple(name=\"rCA1-CYLINDER-REF-1PC-8PV-04\", elements=(220, 5832, 5815, 5834, 5819, 5825, 5826, 5841, 5830)),\n",
    "                 obi.NamedTuple(name=\"rCA1-CYLINDER-REF-1PC-8PV-05\", elements=(295, 5834, 5830, 5822, 5828, 5837, 5831, 5840, 5827)),\n",
    "                 obi.NamedTuple(name=\"rCA1-CYLINDER-REF-1PC-8PV-06\", elements=(5055, 5826, 5832, 5847, 5830, 5840, 5828, 5822, 5841)),\n",
    "                 obi.NamedTuple(name=\"rCA1-CYLINDER-REF-1PC-8PV-07\", elements=(2805, 5832, 5826, 5807, 5830, 5825, 5834, 5819, 5842)),\n",
    "                 obi.NamedTuple(name=\"rCA1-CYLINDER-REF-1PC-8PV-08\", elements=(357, 5819, 5842, 5825, 5826, 5834, 5830, 5840, 5832)),\n",
    "                 obi.NamedTuple(name=\"rCA1-CYLINDER-REF-1PC-8PV-09\", elements=(220, 5821, 5830, 5834, 5819, 5825, 5832, 5826, 5840)),\n",
    "                 obi.NamedTuple(name=\"rCA1-CYLINDER-REF-1PC-8PV-10\", elements=(2459, 5834, 5819, 5825, 5842, 5826, 5832, 5840, 5821)),\n",
    "                ]"
   ]
  },
  {
   "cell_type": "code",
   "execution_count": null,
   "metadata": {},
   "outputs": [],
   "source": [
    "circuit_extractions_scan_config = obi.CircuitExtractionScanConfig(\n",
    "                    initialize=obi.CircuitExtractionScanConfig.Initialize(\n",
    "                        circuit=circuit,\n",
    "                        run_validation=False,\n",
    "                        do_virtual=True,\n",
    "                        create_external=True,\n",
    "                        virtual_sources_to_ignore=(\"external_hippocampus_neurons__hippocampus_neurons__chemical_synapse\", ),\n",
    "                    ),\n",
    "                    neuron_set=obi.IDNeuronSet(neuron_ids=node_id_lists)\n",
    ")\n",
    "\n",
    "grid_scan = obi.GridScanGenerationTask(form=circuit_extractions_scan_config, output_root=output_root, coordinate_directory_option=\"VALUE\")"
   ]
  },
  {
   "cell_type": "code",
   "execution_count": null,
   "metadata": {},
   "outputs": [],
   "source": [
    "# Display the intermediary data\n",
    "grid_scan.multiple_value_parameters(display=True)\n",
    "grid_scan.coordinate_parameters(display=True)\n",
    "# grid_scan.coordinate_instances(display=True)"
   ]
  },
  {
   "cell_type": "code",
   "execution_count": null,
   "metadata": {},
   "outputs": [],
   "source": [
    "grid_scan.execute()\n",
    "obi.run_tasks_for_generated_scan(grid_scan)"
   ]
  },
  {
   "cell_type": "code",
   "execution_count": null,
   "metadata": {},
   "outputs": [],
   "source": [
    "# Check circuits\n",
    "from bluepysnap import Circuit\n",
    "import numpy as np\n",
    "\n",
    "for _inst in grid_scan.coordinate_instances():\n",
    "    cfg = grid_scan.output_root / str(_inst.neuron_set.neuron_ids) / \"circuit_config.json\"\n",
    "    c = Circuit(cfg)\n",
    "    nodes = c.nodes['hippocampus_neurons']\n",
    "    mtypes = np.unique(nodes.get(properties=['mtype']), return_counts=True)\n",
    "    mt_hist = [f\"{_c}x{_mt}\" for _mt, _c in zip(*mtypes)]\n",
    "    print(f\"{_inst.neuron_set.neuron_ids}: {nodes.size} neurons, {c.edges[\"hippocampus_neurons__hippocampus_neurons__chemical_synapse\"].size} synapses, m-types: {mt_hist}\")\n"
   ]
  },
  {
   "cell_type": "code",
   "execution_count": null,
   "metadata": {},
   "outputs": [],
   "source": []
  }
 ],
 "metadata": {
  "kernelspec": {
   "display_name": "obi-one",
   "language": "python",
   "name": "obi-one"
  },
  "language_info": {
   "codemirror_mode": {
    "name": "ipython",
    "version": 3
   },
   "file_extension": ".py",
   "mimetype": "text/x-python",
   "name": "python",
   "nbconvert_exporter": "python",
   "pygments_lexer": "ipython3",
   "version": "3.12.9"
  }
 },
 "nbformat": 4,
 "nbformat_minor": 4
}
