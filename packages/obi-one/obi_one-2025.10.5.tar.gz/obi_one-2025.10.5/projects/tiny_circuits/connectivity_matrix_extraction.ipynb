{
 "cells": [
  {
   "cell_type": "code",
   "execution_count": 1,
   "metadata": {},
   "outputs": [],
   "source": [
    "import obi_one as obi\n",
    "from pathlib import Path"
   ]
  },
  {
   "cell_type": "code",
   "execution_count": 2,
   "metadata": {},
   "outputs": [],
   "source": [
    "# Volumetric\n",
    "# input_root = Path(\"../../../obi-output/decontainerized_small_microcircuits_volumetric\")\n",
    "# output_root = Path(\"../../../obi-output/connectivity_matrix_extraction_volumetric\")\n",
    "\n",
    "# Hippocampus\n",
    "# input_root = Path(\"../../../obi-output/extracted_small_microcircuits_hippocampus\")\n",
    "# output_root = Path(\"../../../obi-output/connectivity_matrix_extraction_hippocampus\")\n",
    "\n",
    "# Simplex\n",
    "# input_root = Path(\"../../../obi-output/decontainerized_small_microcircuits_simplex\")\n",
    "# output_root = Path(\"../../../obi-output/connectivity_matrix_extraction_simplex\")\n",
    "\n",
    "# Pairs\n",
    "input_root = Path(\"../../../obi-output/decontainerized_small_microcircuits_motif\")\n",
    "output_root = Path(\"../../../obi-output/connectivity_matrix_extraction_motif\")\n"
   ]
  },
  {
   "cell_type": "code",
   "execution_count": 3,
   "metadata": {},
   "outputs": [],
   "source": [
    "connectivity_matrix_extractions_form = obi.ConnectivityMatrixExtractionScanConfig(\n",
    "                    initialize=obi.ConnectivityMatrixExtractionScanConfig.Initialize(\n",
    "                        circuit_path=[\n",
    "                            # *** OLD/TEST ***\n",
    "                            # obi.NamedPath(name=\"N_10__top_rc_nodes_dim2_rc\", path=str(input_root / \"N_10__top_rc_nodes_dim2_rc\" / \"circuit_config.json\")),\n",
    "                            # obi.NamedPath(name=\"N_10__top_nodes_dim6\", path=str(input_root / \"N_10__top_nodes_dim6\" / \"circuit_config.json\")),\n",
    "                            # obi.NamedPath(name=\"N_10__selection1\", path=str(input_root / \"N_10__selection1\" / \"circuit_config.json\")),\n",
    "                            # obi.NamedPath(name=\"N_10__selection2\", path=str(input_root / \"N_10__selection2\" / \"circuit_config.json\")),\n",
    "                            # obi.NamedPath(name=\"N_8__rCA1-ThetaOsc-Sel1\", path=str(input_root / \"N_8__rCA1-ThetaOsc-Sel1\" / \"circuit_config.json\")),\n",
    "                            # obi.NamedPath(name=\"N_9__rCA1-ThetaOsc-Sel1\", path=str(input_root / \"N_9__rCA1-ThetaOsc-Sel1\" / \"circuit_config.json\")),\n",
    "                            # ***\n",
    "\n",
    "                            # Volumetric\n",
    "                            # obi.NamedPath(name=\"nbS1-O1-vSub-nCN-HEX0-L1-01\", path=str(input_root / \"nbS1-O1-vSub-nCN-HEX0-L1-01\" / \"circuit_config.json\")),\n",
    "                            # obi.NamedPath(name=\"nbS1-O1-vSub-nCN-HEX0-L2-01\", path=str(input_root / \"nbS1-O1-vSub-nCN-HEX0-L2-01\" / \"circuit_config.json\")),\n",
    "                            # obi.NamedPath(name=\"nbS1-O1-vSub-nCN-HEX0-L3-01\", path=str(input_root / \"nbS1-O1-vSub-nCN-HEX0-L3-01\" / \"circuit_config.json\")),\n",
    "                            # obi.NamedPath(name=\"nbS1-O1-vSub-nCN-HEX0-L4-01\", path=str(input_root / \"nbS1-O1-vSub-nCN-HEX0-L4-01\" / \"circuit_config.json\")),\n",
    "                            # obi.NamedPath(name=\"nbS1-O1-vSub-nCN-HEX0-L5-01\", path=str(input_root / \"nbS1-O1-vSub-nCN-HEX0-L5-01\" / \"circuit_config.json\")),\n",
    "                            # obi.NamedPath(name=\"nbS1-O1-vSub-nCN-HEX0-L6-01\", path=str(input_root / \"nbS1-O1-vSub-nCN-HEX0-L6-01\" / \"circuit_config.json\")),\n",
    "                            #\n",
    "                            # obi.NamedPath(name=\"nbS1-O1-vSub-sCN-HEX0-L1-01\", path=str(input_root / \"nbS1-O1-vSub-sCN-HEX0-L1-01\" / \"circuit_config.json\")),\n",
    "                            # obi.NamedPath(name=\"nbS1-O1-vSub-sCN-HEX0-L2-01\", path=str(input_root / \"nbS1-O1-vSub-sCN-HEX0-L2-01\" / \"circuit_config.json\")),\n",
    "                            # obi.NamedPath(name=\"nbS1-O1-vSub-sCN-HEX0-L3-01\", path=str(input_root / \"nbS1-O1-vSub-sCN-HEX0-L3-01\" / \"circuit_config.json\")),\n",
    "                            # obi.NamedPath(name=\"nbS1-O1-vSub-sCN-HEX0-L4-01\", path=str(input_root / \"nbS1-O1-vSub-sCN-HEX0-L4-01\" / \"circuit_config.json\")),\n",
    "                            # obi.NamedPath(name=\"nbS1-O1-vSub-sCN-HEX0-L5-01\", path=str(input_root / \"nbS1-O1-vSub-sCN-HEX0-L5-01\" / \"circuit_config.json\")),\n",
    "                            # obi.NamedPath(name=\"nbS1-O1-vSub-sCN-HEX0-L6-01\", path=str(input_root / \"nbS1-O1-vSub-sCN-HEX0-L6-01\" / \"circuit_config.json\")),\n",
    "\n",
    "                            # Hippocampus\n",
    "                            # obi.NamedPath(name=\"rCA1-CYLINDER-REF-1PC-8PV-01\", path=str(input_root / \"rCA1-CYLINDER-REF-1PC-8PV-01\" / \"circuit_config.json\")),\n",
    "                            # obi.NamedPath(name=\"rCA1-CYLINDER-REF-1PC-8PV-02\", path=str(input_root / \"rCA1-CYLINDER-REF-1PC-8PV-02\" / \"circuit_config.json\")),\n",
    "                            # obi.NamedPath(name=\"rCA1-CYLINDER-REF-1PC-8PV-03\", path=str(input_root / \"rCA1-CYLINDER-REF-1PC-8PV-03\" / \"circuit_config.json\")),\n",
    "                            # obi.NamedPath(name=\"rCA1-CYLINDER-REF-1PC-8PV-04\", path=str(input_root / \"rCA1-CYLINDER-REF-1PC-8PV-04\" / \"circuit_config.json\")),\n",
    "                            # obi.NamedPath(name=\"rCA1-CYLINDER-REF-1PC-8PV-05\", path=str(input_root / \"rCA1-CYLINDER-REF-1PC-8PV-05\" / \"circuit_config.json\")),\n",
    "                            # obi.NamedPath(name=\"rCA1-CYLINDER-REF-1PC-8PV-06\", path=str(input_root / \"rCA1-CYLINDER-REF-1PC-8PV-06\" / \"circuit_config.json\")),\n",
    "                            # obi.NamedPath(name=\"rCA1-CYLINDER-REF-1PC-8PV-07\", path=str(input_root / \"rCA1-CYLINDER-REF-1PC-8PV-07\" / \"circuit_config.json\")),\n",
    "                            # obi.NamedPath(name=\"rCA1-CYLINDER-REF-1PC-8PV-08\", path=str(input_root / \"rCA1-CYLINDER-REF-1PC-8PV-08\" / \"circuit_config.json\")),\n",
    "                            # obi.NamedPath(name=\"rCA1-CYLINDER-REF-1PC-8PV-09\", path=str(input_root / \"rCA1-CYLINDER-REF-1PC-8PV-09\" / \"circuit_config.json\")),\n",
    "                            # obi.NamedPath(name=\"rCA1-CYLINDER-REF-1PC-8PV-10\", path=str(input_root / \"rCA1-CYLINDER-REF-1PC-8PV-10\" / \"circuit_config.json\")),\n",
    "\n",
    "                            # Simplex\n",
    "                            # obi.NamedPath(name=\"nbS1-O1-sSub-post-dim2-nCN-HEX0-L1-01\", path=str(input_root / \"nbS1-O1-sSub-post-dim2-nCN-HEX0-L1-01\" / \"circuit_config.json\")),\n",
    "                            # obi.NamedPath(name=\"nbS1-O1-sSub-post-dim2-nCN-HEX0-L2-01\", path=str(input_root / \"nbS1-O1-sSub-post-dim2-nCN-HEX0-L2-01\" / \"circuit_config.json\")),\n",
    "                            # obi.NamedPath(name=\"nbS1-O1-sSub-post-dim2-nCN-HEX0-L3-01\", path=str(input_root / \"nbS1-O1-sSub-post-dim2-nCN-HEX0-L3-01\" / \"circuit_config.json\")),\n",
    "                            # obi.NamedPath(name=\"nbS1-O1-sSub-post-dim2-nCN-HEX0-L4-01\", path=str(input_root / \"nbS1-O1-sSub-post-dim2-nCN-HEX0-L4-01\" / \"circuit_config.json\")),\n",
    "                            # obi.NamedPath(name=\"nbS1-O1-sSub-post-dim2-nCN-HEX0-L5-01\", path=str(input_root / \"nbS1-O1-sSub-post-dim2-nCN-HEX0-L5-01\" / \"circuit_config.json\")),\n",
    "                            # obi.NamedPath(name=\"nbS1-O1-sSub-post-dim2-nCN-HEX0-L6-01\", path=str(input_root / \"nbS1-O1-sSub-post-dim2-nCN-HEX0-L6-01\" / \"circuit_config.json\")),\n",
    "\n",
    "                            # obi.NamedPath(name=\"nbS1-O1-sSub-pre-dim2-nCN-HEX0-L1-01\", path=str(input_root / \"nbS1-O1-sSub-pre-dim2-nCN-HEX0-L1-01\" / \"circuit_config.json\")),\n",
    "                            # obi.NamedPath(name=\"nbS1-O1-sSub-pre-dim2-nCN-HEX0-L2-01\", path=str(input_root / \"nbS1-O1-sSub-pre-dim2-nCN-HEX0-L2-01\" / \"circuit_config.json\")),\n",
    "                            # obi.NamedPath(name=\"nbS1-O1-sSub-pre-dim2-nCN-HEX0-L3-01\", path=str(input_root / \"nbS1-O1-sSub-pre-dim2-nCN-HEX0-L3-01\" / \"circuit_config.json\")),\n",
    "                            # obi.NamedPath(name=\"nbS1-O1-sSub-pre-dim2-nCN-HEX0-L4-01\", path=str(input_root / \"nbS1-O1-sSub-pre-dim2-nCN-HEX0-L4-01\" / \"circuit_config.json\")),\n",
    "                            # obi.NamedPath(name=\"nbS1-O1-sSub-pre-dim2-nCN-HEX0-L5-01\", path=str(input_root / \"nbS1-O1-sSub-pre-dim2-nCN-HEX0-L5-01\" / \"circuit_config.json\")),\n",
    "                            # obi.NamedPath(name=\"nbS1-O1-sSub-pre-dim2-nCN-HEX0-L6-01\", path=str(input_root / \"nbS1-O1-sSub-pre-dim2-nCN-HEX0-L6-01\" / \"circuit_config.json\")),\n",
    "\n",
    "                            # obi.NamedPath(name=\"nbS1-O1-sSub-post-dim5-nCN-HEX0-L1-01\", path=str(input_root / \"nbS1-O1-sSub-post-dim5-nCN-HEX0-L1-01\" / \"circuit_config.json\")),\n",
    "                            # obi.NamedPath(name=\"nbS1-O1-sSub-post-dim6-nCN-HEX0-L2-01\", path=str(input_root / \"nbS1-O1-sSub-post-dim6-nCN-HEX0-L2-01\" / \"circuit_config.json\")),\n",
    "                            # obi.NamedPath(name=\"nbS1-O1-sSub-post-dim6-nCN-HEX0-L3-01\", path=str(input_root / \"nbS1-O1-sSub-post-dim6-nCN-HEX0-L3-01\" / \"circuit_config.json\")),\n",
    "                            # obi.NamedPath(name=\"nbS1-O1-sSub-post-dim5-nCN-HEX0-L4-01\", path=str(input_root / \"nbS1-O1-sSub-post-dim5-nCN-HEX0-L4-01\" / \"circuit_config.json\")),\n",
    "                            # obi.NamedPath(name=\"nbS1-O1-sSub-post-dim5-nCN-HEX0-L5-01\", path=str(input_root / \"nbS1-O1-sSub-post-dim5-nCN-HEX0-L5-01\" / \"circuit_config.json\")),\n",
    "                            # obi.NamedPath(name=\"nbS1-O1-sSub-post-dim6-nCN-HEX0-L6-01\", path=str(input_root / \"nbS1-O1-sSub-post-dim6-nCN-HEX0-L6-01\" / \"circuit_config.json\")),\n",
    "\n",
    "                            # obi.NamedPath(name=\"nbS1-O1-sSub-pre-dim5-nCN-HEX0-L1-01\", path=str(input_root / \"nbS1-O1-sSub-pre-dim5-nCN-HEX0-L1-01\" / \"circuit_config.json\")),\n",
    "                            # obi.NamedPath(name=\"nbS1-O1-sSub-pre-dim4-nCN-HEX0-L2-01\", path=str(input_root / \"nbS1-O1-sSub-pre-dim4-nCN-HEX0-L2-01\" / \"circuit_config.json\")),\n",
    "                            # obi.NamedPath(name=\"nbS1-O1-sSub-pre-dim4-nCN-HEX0-L3-01\", path=str(input_root / \"nbS1-O1-sSub-pre-dim4-nCN-HEX0-L3-01\" / \"circuit_config.json\")),\n",
    "                            # obi.NamedPath(name=\"nbS1-O1-sSub-pre-dim5-nCN-HEX0-L4-01\", path=str(input_root / \"nbS1-O1-sSub-pre-dim5-nCN-HEX0-L4-01\" / \"circuit_config.json\")),\n",
    "                            # obi.NamedPath(name=\"nbS1-O1-sSub-pre-dim6-nCN-HEX0-L5-01\", path=str(input_root / \"nbS1-O1-sSub-pre-dim6-nCN-HEX0-L5-01\" / \"circuit_config.json\")),\n",
    "                            # obi.NamedPath(name=\"nbS1-O1-sSub-pre-dim5-nCN-HEX0-L6-01\", path=str(input_root / \"nbS1-O1-sSub-pre-dim5-nCN-HEX0-L6-01\" / \"circuit_config.json\")),\n",
    "\n",
    "                            # Pairs\n",
    "                            obi.NamedPath(name=\"nbS1-O1-E2PV-maxNsyn-HEX0-L2\", path=str(input_root / \"nbS1-O1-E2PV-maxNsyn-HEX0-L2\" / \"circuit_config.json\")),\n",
    "                            obi.NamedPath(name=\"nbS1-O1-E2Sst-maxNsyn-HEX0-L2\", path=str(input_root / \"nbS1-O1-E2Sst-maxNsyn-HEX0-L2\" / \"circuit_config.json\")),\n",
    "                            obi.NamedPath(name=\"nbS1-O1-E2PV-maxNsyn-HEX0-L3\", path=str(input_root / \"nbS1-O1-E2PV-maxNsyn-HEX0-L3\" / \"circuit_config.json\")),\n",
    "                            obi.NamedPath(name=\"nbS1-O1-E2Sst-maxNsyn-HEX0-L3\", path=str(input_root / \"nbS1-O1-E2Sst-maxNsyn-HEX0-L3\" / \"circuit_config.json\")),\n",
    "                            obi.NamedPath(name=\"nbS1-O1-E2PV-maxNsyn-HEX0-L4\", path=str(input_root / \"nbS1-O1-E2PV-maxNsyn-HEX0-L4\" / \"circuit_config.json\")),\n",
    "                            obi.NamedPath(name=\"nbS1-O1-E2Sst-maxNsyn-HEX0-L4\", path=str(input_root / \"nbS1-O1-E2Sst-maxNsyn-HEX0-L4\" / \"circuit_config.json\")),\n",
    "                            obi.NamedPath(name=\"nbS1-O1-E2PV-maxNsyn-HEX0-L5\", path=str(input_root / \"nbS1-O1-E2PV-maxNsyn-HEX0-L5\" / \"circuit_config.json\")),\n",
    "                            obi.NamedPath(name=\"nbS1-O1-E2Sst-maxNsyn-HEX0-L5\", path=str(input_root / \"nbS1-O1-E2Sst-maxNsyn-HEX0-L5\" / \"circuit_config.json\")),\n",
    "                            obi.NamedPath(name=\"nbS1-O1-E2PV-maxNsyn-HEX0-L6\", path=str(input_root / \"nbS1-O1-E2PV-maxNsyn-HEX0-L6\" / \"circuit_config.json\")),\n",
    "                            obi.NamedPath(name=\"nbS1-O1-E2Sst-maxNsyn-HEX0-L6\", path=str(input_root / \"nbS1-O1-E2Sst-maxNsyn-HEX0-L6\" / \"circuit_config.json\")),\n",
    "\n",
    "                            obi.NamedPath(name=\"nbS1-O1-PV2E-maxNsyn-HEX0-L2\", path=str(input_root / \"nbS1-O1-PV2E-maxNsyn-HEX0-L2\" / \"circuit_config.json\")),\n",
    "                            obi.NamedPath(name=\"nbS1-O1-Sst2E-maxNsyn-HEX0-L2\", path=str(input_root / \"nbS1-O1-Sst2E-maxNsyn-HEX0-L2\" / \"circuit_config.json\")),\n",
    "                            obi.NamedPath(name=\"nbS1-O1-PV2E-maxNsyn-HEX0-L3\", path=str(input_root / \"nbS1-O1-PV2E-maxNsyn-HEX0-L3\" / \"circuit_config.json\")),\n",
    "                            obi.NamedPath(name=\"nbS1-O1-Sst2E-maxNsyn-HEX0-L3\", path=str(input_root / \"nbS1-O1-Sst2E-maxNsyn-HEX0-L3\" / \"circuit_config.json\")),\n",
    "                            obi.NamedPath(name=\"nbS1-O1-PV2E-maxNsyn-HEX0-L4\", path=str(input_root / \"nbS1-O1-PV2E-maxNsyn-HEX0-L4\" / \"circuit_config.json\")),\n",
    "                            obi.NamedPath(name=\"nbS1-O1-Sst2E-maxNsyn-HEX0-L4\", path=str(input_root / \"nbS1-O1-Sst2E-maxNsyn-HEX0-L4\" / \"circuit_config.json\")),\n",
    "                            obi.NamedPath(name=\"nbS1-O1-PV2E-maxNsyn-HEX0-L5\", path=str(input_root / \"nbS1-O1-PV2E-maxNsyn-HEX0-L5\" / \"circuit_config.json\")),\n",
    "                            obi.NamedPath(name=\"nbS1-O1-Sst2E-maxNsyn-HEX0-L5\", path=str(input_root / \"nbS1-O1-Sst2E-maxNsyn-HEX0-L5\" / \"circuit_config.json\")),\n",
    "                            obi.NamedPath(name=\"nbS1-O1-PV2E-maxNsyn-HEX0-L6\", path=str(input_root / \"nbS1-O1-PV2E-maxNsyn-HEX0-L6\" / \"circuit_config.json\")),\n",
    "                            obi.NamedPath(name=\"nbS1-O1-Sst2E-maxNsyn-HEX0-L6\", path=str(input_root / \"nbS1-O1-Sst2E-maxNsyn-HEX0-L6\" / \"circuit_config.json\")),\n",
    "\n",
    "                            obi.NamedPath(name=\"nbS1-O1-ErcPV-maxNsyn-HEX0-L2\", path=str(input_root / \"nbS1-O1-ErcPV-maxNsyn-HEX0-L2\" / \"circuit_config.json\")),\n",
    "                            obi.NamedPath(name=\"nbS1-O1-ErcSst-maxNsyn-HEX0-L2\", path=str(input_root / \"nbS1-O1-ErcSst-maxNsyn-HEX0-L2\" / \"circuit_config.json\")),\n",
    "                            obi.NamedPath(name=\"nbS1-O1-ErcPV-maxNsyn-HEX0-L3\", path=str(input_root / \"nbS1-O1-ErcPV-maxNsyn-HEX0-L3\" / \"circuit_config.json\")),\n",
    "                            obi.NamedPath(name=\"nbS1-O1-ErcSst-maxNsyn-HEX0-L3\", path=str(input_root / \"nbS1-O1-ErcSst-maxNsyn-HEX0-L3\" / \"circuit_config.json\")),\n",
    "                            obi.NamedPath(name=\"nbS1-O1-ErcPV-maxNsyn-HEX0-L4\", path=str(input_root / \"nbS1-O1-ErcPV-maxNsyn-HEX0-L4\" / \"circuit_config.json\")),\n",
    "                            obi.NamedPath(name=\"nbS1-O1-ErcSst-maxNsyn-HEX0-L4\", path=str(input_root / \"nbS1-O1-ErcSst-maxNsyn-HEX0-L4\" / \"circuit_config.json\")),\n",
    "                            obi.NamedPath(name=\"nbS1-O1-ErcPV-maxNsyn-HEX0-L5\", path=str(input_root / \"nbS1-O1-ErcPV-maxNsyn-HEX0-L5\" / \"circuit_config.json\")),\n",
    "                            obi.NamedPath(name=\"nbS1-O1-ErcSst-maxNsyn-HEX0-L5\", path=str(input_root / \"nbS1-O1-ErcSst-maxNsyn-HEX0-L5\" / \"circuit_config.json\")),\n",
    "                            obi.NamedPath(name=\"nbS1-O1-ErcPV-maxNsyn-HEX0-L6\", path=str(input_root / \"nbS1-O1-ErcPV-maxNsyn-HEX0-L6\" / \"circuit_config.json\")),\n",
    "                            obi.NamedPath(name=\"nbS1-O1-ErcSst-maxNsyn-HEX0-L6\", path=str(input_root / \"nbS1-O1-ErcSst-maxNsyn-HEX0-L6\" / \"circuit_config.json\")),\n",
    "                        ],\n",
    "                        # nbS1\n",
    "                        edge_population=\"S1nonbarrel_neurons__S1nonbarrel_neurons__chemical\",\n",
    "\n",
    "                        # Hippocampus\n",
    "                        # edge_population=\"hippocampus_neurons__hippocampus_neurons__chemical_synapse\",\n",
    "\n",
    "                        # node_attributes=None,\n",
    "                        node_attributes=(\"synapse_class\", \"layer\", \"mtype\", \"etype\", \"x\", \"y\", \"z\"),\n",
    "                    )\n",
    ")\n",
    "\n",
    "grid_scan = obi.GridScanGenerationTask(form=connectivity_matrix_extractions_form, output_root=output_root, coordinate_directory_option=\"VALUE\")"
   ]
  },
  {
   "cell_type": "code",
   "execution_count": null,
   "metadata": {},
   "outputs": [
    {
     "name": "stdout",
     "output_type": "stream",
     "text": [
      "[2025-06-20 15:20:03,367] INFO: None\n",
      "[2025-06-20 15:20:03,380] INFO: Info: Running idx 0\n",
      "[2025-06-20 15:20:03,381] INFO: Info: Loading circuit 'nbS1-O1-E2PV-maxNsyn-HEX0-L2'\n",
      "[2025-06-20 15:20:03,386] INFO: Node properties to extract: ('synapse_class', 'layer', 'mtype', 'etype', 'x', 'y', 'z')\n",
      "[2025-06-20 15:20:03,386] INFO: Extracting connectivity from edge population 'S1nonbarrel_neurons__S1nonbarrel_neurons__chemical'\n"
     ]
    },
    {
     "name": "stderr",
     "output_type": "stream",
     "text": [
      "100%|████████████████████████████████████████████████████████████████████████████████████████████| 2/2 [00:00<00:00, 510.97it/s]"
     ]
    },
    {
     "name": "stdout",
     "output_type": "stream",
     "text": [
      "[2025-06-20 15:20:03,475] INFO: Connectivity matrix successfully written to '../../../obi-output/connectivity_matrix_extraction_motif/nbS1-O1-E2PV-maxNsyn-HEX0-L2/connectivity_matrix.h5'\n",
      "[2025-06-20 15:20:03,477] INFO: Info: Running idx 1\n",
      "[2025-06-20 15:20:03,477] INFO: Info: Loading circuit 'nbS1-O1-E2Sst-maxNsyn-HEX0-L2'\n",
      "[2025-06-20 15:20:03,479] INFO: Node properties to extract: ('synapse_class', 'layer', 'mtype', 'etype', 'x', 'y', 'z')\n",
      "[2025-06-20 15:20:03,479] INFO: Extracting connectivity from edge population 'S1nonbarrel_neurons__S1nonbarrel_neurons__chemical'\n"
     ]
    },
    {
     "name": "stderr",
     "output_type": "stream",
     "text": [
      "\n",
      "100%|████████████████████████████████████████████████████████████████████████████████████████████| 2/2 [00:00<00:00, 980.89it/s]"
     ]
    },
    {
     "name": "stdout",
     "output_type": "stream",
     "text": [
      "[2025-06-20 15:20:03,495] INFO: Connectivity matrix successfully written to '../../../obi-output/connectivity_matrix_extraction_motif/nbS1-O1-E2Sst-maxNsyn-HEX0-L2/connectivity_matrix.h5'\n",
      "[2025-06-20 15:20:03,497] INFO: Info: Running idx 2\n",
      "[2025-06-20 15:20:03,497] INFO: Info: Loading circuit 'nbS1-O1-E2PV-maxNsyn-HEX0-L3'\n",
      "[2025-06-20 15:20:03,499] INFO: Node properties to extract: ('synapse_class', 'layer', 'mtype', 'etype', 'x', 'y', 'z')\n",
      "[2025-06-20 15:20:03,500] INFO: Extracting connectivity from edge population 'S1nonbarrel_neurons__S1nonbarrel_neurons__chemical'\n"
     ]
    },
    {
     "name": "stderr",
     "output_type": "stream",
     "text": [
      "\n",
      "100%|███████████████████████████████████████████████████████████████████████████████████████████| 2/2 [00:00<00:00, 1286.99it/s]"
     ]
    },
    {
     "name": "stdout",
     "output_type": "stream",
     "text": [
      "[2025-06-20 15:20:03,513] INFO: Connectivity matrix successfully written to '../../../obi-output/connectivity_matrix_extraction_motif/nbS1-O1-E2PV-maxNsyn-HEX0-L3/connectivity_matrix.h5'\n",
      "[2025-06-20 15:20:03,514] INFO: Info: Running idx 3\n",
      "[2025-06-20 15:20:03,514] INFO: Info: Loading circuit 'nbS1-O1-E2Sst-maxNsyn-HEX0-L3'\n",
      "[2025-06-20 15:20:03,516] INFO: Node properties to extract: ('synapse_class', 'layer', 'mtype', 'etype', 'x', 'y', 'z')\n",
      "[2025-06-20 15:20:03,517] INFO: Extracting connectivity from edge population 'S1nonbarrel_neurons__S1nonbarrel_neurons__chemical'\n"
     ]
    },
    {
     "name": "stderr",
     "output_type": "stream",
     "text": [
      "\n",
      "100%|███████████████████████████████████████████████████████████████████████████████████████████| 2/2 [00:00<00:00, 1343.04it/s]"
     ]
    },
    {
     "name": "stdout",
     "output_type": "stream",
     "text": [
      "[2025-06-20 15:20:03,530] INFO: Connectivity matrix successfully written to '../../../obi-output/connectivity_matrix_extraction_motif/nbS1-O1-E2Sst-maxNsyn-HEX0-L3/connectivity_matrix.h5'\n",
      "[2025-06-20 15:20:03,531] INFO: Info: Running idx 4\n",
      "[2025-06-20 15:20:03,531] INFO: Info: Loading circuit 'nbS1-O1-E2PV-maxNsyn-HEX0-L4'\n",
      "[2025-06-20 15:20:03,534] INFO: Node properties to extract: ('synapse_class', 'layer', 'mtype', 'etype', 'x', 'y', 'z')\n",
      "[2025-06-20 15:20:03,534] INFO: Extracting connectivity from edge population 'S1nonbarrel_neurons__S1nonbarrel_neurons__chemical'\n"
     ]
    },
    {
     "name": "stderr",
     "output_type": "stream",
     "text": [
      "\n",
      "100%|███████████████████████████████████████████████████████████████████████████████████████████| 2/2 [00:00<00:00, 1401.61it/s]"
     ]
    },
    {
     "name": "stdout",
     "output_type": "stream",
     "text": [
      "[2025-06-20 15:20:03,547] INFO: Connectivity matrix successfully written to '../../../obi-output/connectivity_matrix_extraction_motif/nbS1-O1-E2PV-maxNsyn-HEX0-L4/connectivity_matrix.h5'\n",
      "[2025-06-20 15:20:03,548] INFO: Info: Running idx 5\n",
      "[2025-06-20 15:20:03,548] INFO: Info: Loading circuit 'nbS1-O1-E2Sst-maxNsyn-HEX0-L4'\n",
      "[2025-06-20 15:20:03,550] INFO: Node properties to extract: ('synapse_class', 'layer', 'mtype', 'etype', 'x', 'y', 'z')\n",
      "[2025-06-20 15:20:03,550] INFO: Extracting connectivity from edge population 'S1nonbarrel_neurons__S1nonbarrel_neurons__chemical'\n"
     ]
    },
    {
     "name": "stderr",
     "output_type": "stream",
     "text": [
      "\n",
      "100%|███████████████████████████████████████████████████████████████████████████████████████████| 2/2 [00:00<00:00, 1383.12it/s]"
     ]
    },
    {
     "name": "stdout",
     "output_type": "stream",
     "text": [
      "[2025-06-20 15:20:03,563] INFO: Connectivity matrix successfully written to '../../../obi-output/connectivity_matrix_extraction_motif/nbS1-O1-E2Sst-maxNsyn-HEX0-L4/connectivity_matrix.h5'\n",
      "[2025-06-20 15:20:03,564] INFO: Info: Running idx 6\n",
      "[2025-06-20 15:20:03,564] INFO: Info: Loading circuit 'nbS1-O1-E2PV-maxNsyn-HEX0-L5'\n",
      "[2025-06-20 15:20:03,567] INFO: Node properties to extract: ('synapse_class', 'layer', 'mtype', 'etype', 'x', 'y', 'z')\n",
      "[2025-06-20 15:20:03,567] INFO: Extracting connectivity from edge population 'S1nonbarrel_neurons__S1nonbarrel_neurons__chemical'\n"
     ]
    },
    {
     "name": "stderr",
     "output_type": "stream",
     "text": [
      "\n",
      "100%|████████████████████████████████████████████████████████████████████████████████████████████| 2/2 [00:00<00:00, 922.13it/s]"
     ]
    },
    {
     "name": "stdout",
     "output_type": "stream",
     "text": [
      "[2025-06-20 15:20:03,581] INFO: Connectivity matrix successfully written to '../../../obi-output/connectivity_matrix_extraction_motif/nbS1-O1-E2PV-maxNsyn-HEX0-L5/connectivity_matrix.h5'\n",
      "[2025-06-20 15:20:03,582] INFO: Info: Running idx 7\n",
      "[2025-06-20 15:20:03,582] INFO: Info: Loading circuit 'nbS1-O1-E2Sst-maxNsyn-HEX0-L5'\n",
      "[2025-06-20 15:20:03,584] INFO: Node properties to extract: ('synapse_class', 'layer', 'mtype', 'etype', 'x', 'y', 'z')\n",
      "[2025-06-20 15:20:03,584] INFO: Extracting connectivity from edge population 'S1nonbarrel_neurons__S1nonbarrel_neurons__chemical'\n"
     ]
    },
    {
     "name": "stderr",
     "output_type": "stream",
     "text": [
      "\n",
      "100%|████████████████████████████████████████████████████████████████████████████████████████████| 2/2 [00:00<00:00, 828.18it/s]"
     ]
    },
    {
     "name": "stdout",
     "output_type": "stream",
     "text": [
      "[2025-06-20 15:20:03,600] INFO: Connectivity matrix successfully written to '../../../obi-output/connectivity_matrix_extraction_motif/nbS1-O1-E2Sst-maxNsyn-HEX0-L5/connectivity_matrix.h5'\n",
      "[2025-06-20 15:20:03,601] INFO: Info: Running idx 8\n",
      "[2025-06-20 15:20:03,601] INFO: Info: Loading circuit 'nbS1-O1-E2PV-maxNsyn-HEX0-L6'\n",
      "[2025-06-20 15:20:03,603] INFO: Node properties to extract: ('synapse_class', 'layer', 'mtype', 'etype', 'x', 'y', 'z')\n",
      "[2025-06-20 15:20:03,603] INFO: Extracting connectivity from edge population 'S1nonbarrel_neurons__S1nonbarrel_neurons__chemical'\n"
     ]
    },
    {
     "name": "stderr",
     "output_type": "stream",
     "text": [
      "\n",
      "100%|███████████████████████████████████████████████████████████████████████████████████████████| 2/2 [00:00<00:00, 1264.30it/s]\n"
     ]
    },
    {
     "name": "stdout",
     "output_type": "stream",
     "text": [
      "[2025-06-20 15:20:03,617] INFO: Connectivity matrix successfully written to '../../../obi-output/connectivity_matrix_extraction_motif/nbS1-O1-E2PV-maxNsyn-HEX0-L6/connectivity_matrix.h5'\n",
      "[2025-06-20 15:20:03,618] INFO: Info: Running idx 9\n",
      "[2025-06-20 15:20:03,619] INFO: Info: Loading circuit 'nbS1-O1-E2Sst-maxNsyn-HEX0-L6'\n",
      "[2025-06-20 15:20:03,620] INFO: Node properties to extract: ('synapse_class', 'layer', 'mtype', 'etype', 'x', 'y', 'z')\n",
      "[2025-06-20 15:20:03,620] INFO: Extracting connectivity from edge population 'S1nonbarrel_neurons__S1nonbarrel_neurons__chemical'\n"
     ]
    },
    {
     "name": "stderr",
     "output_type": "stream",
     "text": [
      "100%|███████████████████████████████████████████████████████████████████████████████████████████| 2/2 [00:00<00:00, 1286.99it/s]"
     ]
    },
    {
     "name": "stdout",
     "output_type": "stream",
     "text": [
      "[2025-06-20 15:20:03,634] INFO: Connectivity matrix successfully written to '../../../obi-output/connectivity_matrix_extraction_motif/nbS1-O1-E2Sst-maxNsyn-HEX0-L6/connectivity_matrix.h5'\n",
      "[2025-06-20 15:20:03,635] INFO: Info: Running idx 10\n",
      "[2025-06-20 15:20:03,635] INFO: Info: Loading circuit 'nbS1-O1-PV2E-maxNsyn-HEX0-L2'\n",
      "[2025-06-20 15:20:03,636] INFO: Node properties to extract: ('synapse_class', 'layer', 'mtype', 'etype', 'x', 'y', 'z')\n",
      "[2025-06-20 15:20:03,637] INFO: Extracting connectivity from edge population 'S1nonbarrel_neurons__S1nonbarrel_neurons__chemical'\n"
     ]
    },
    {
     "name": "stderr",
     "output_type": "stream",
     "text": [
      "\n",
      "100%|███████████████████████████████████████████████████████████████████████████████████████████| 2/2 [00:00<00:00, 1334.28it/s]"
     ]
    },
    {
     "name": "stdout",
     "output_type": "stream",
     "text": [
      "[2025-06-20 15:20:03,651] INFO: Connectivity matrix successfully written to '../../../obi-output/connectivity_matrix_extraction_motif/nbS1-O1-PV2E-maxNsyn-HEX0-L2/connectivity_matrix.h5'\n",
      "[2025-06-20 15:20:03,652] INFO: Info: Running idx 11\n",
      "[2025-06-20 15:20:03,652] INFO: Info: Loading circuit 'nbS1-O1-Sst2E-maxNsyn-HEX0-L2'\n",
      "[2025-06-20 15:20:03,653] INFO: Node properties to extract: ('synapse_class', 'layer', 'mtype', 'etype', 'x', 'y', 'z')\n",
      "[2025-06-20 15:20:03,653] INFO: Extracting connectivity from edge population 'S1nonbarrel_neurons__S1nonbarrel_neurons__chemical'\n"
     ]
    },
    {
     "name": "stderr",
     "output_type": "stream",
     "text": [
      "\n",
      "100%|███████████████████████████████████████████████████████████████████████████████████████████| 2/2 [00:00<00:00, 1252.40it/s]"
     ]
    },
    {
     "name": "stdout",
     "output_type": "stream",
     "text": [
      "[2025-06-20 15:20:03,667] INFO: Connectivity matrix successfully written to '../../../obi-output/connectivity_matrix_extraction_motif/nbS1-O1-Sst2E-maxNsyn-HEX0-L2/connectivity_matrix.h5'\n",
      "[2025-06-20 15:20:03,668] INFO: Info: Running idx 12\n",
      "[2025-06-20 15:20:03,668] INFO: Info: Loading circuit 'nbS1-O1-PV2E-maxNsyn-HEX0-L3'\n",
      "[2025-06-20 15:20:03,670] INFO: Node properties to extract: ('synapse_class', 'layer', 'mtype', 'etype', 'x', 'y', 'z')\n",
      "[2025-06-20 15:20:03,670] INFO: Extracting connectivity from edge population 'S1nonbarrel_neurons__S1nonbarrel_neurons__chemical'\n"
     ]
    },
    {
     "name": "stderr",
     "output_type": "stream",
     "text": [
      "\n",
      "100%|███████████████████████████████████████████████████████████████████████████████████████████| 2/2 [00:00<00:00, 1106.68it/s]"
     ]
    },
    {
     "name": "stdout",
     "output_type": "stream",
     "text": [
      "[2025-06-20 15:20:03,684] INFO: Connectivity matrix successfully written to '../../../obi-output/connectivity_matrix_extraction_motif/nbS1-O1-PV2E-maxNsyn-HEX0-L3/connectivity_matrix.h5'\n",
      "[2025-06-20 15:20:03,685] INFO: Info: Running idx 13\n",
      "[2025-06-20 15:20:03,685] INFO: Info: Loading circuit 'nbS1-O1-Sst2E-maxNsyn-HEX0-L3'\n"
     ]
    },
    {
     "name": "stderr",
     "output_type": "stream",
     "text": [
      "\n"
     ]
    },
    {
     "name": "stdout",
     "output_type": "stream",
     "text": [
      "[2025-06-20 15:20:03,687] INFO: Node properties to extract: ('synapse_class', 'layer', 'mtype', 'etype', 'x', 'y', 'z')\n",
      "[2025-06-20 15:20:03,687] INFO: Extracting connectivity from edge population 'S1nonbarrel_neurons__S1nonbarrel_neurons__chemical'\n"
     ]
    },
    {
     "name": "stderr",
     "output_type": "stream",
     "text": [
      "100%|███████████████████████████████████████████████████████████████████████████████████████████| 2/2 [00:00<00:00, 1231.63it/s]"
     ]
    },
    {
     "name": "stdout",
     "output_type": "stream",
     "text": [
      "[2025-06-20 15:20:03,701] INFO: Connectivity matrix successfully written to '../../../obi-output/connectivity_matrix_extraction_motif/nbS1-O1-Sst2E-maxNsyn-HEX0-L3/connectivity_matrix.h5'\n",
      "[2025-06-20 15:20:03,702] INFO: Info: Running idx 14\n",
      "[2025-06-20 15:20:03,702] INFO: Info: Loading circuit 'nbS1-O1-PV2E-maxNsyn-HEX0-L4'\n",
      "[2025-06-20 15:20:03,703] INFO: Node properties to extract: ('synapse_class', 'layer', 'mtype', 'etype', 'x', 'y', 'z')\n",
      "[2025-06-20 15:20:03,703] INFO: Extracting connectivity from edge population 'S1nonbarrel_neurons__S1nonbarrel_neurons__chemical'\n"
     ]
    },
    {
     "name": "stderr",
     "output_type": "stream",
     "text": [
      "\n",
      "100%|███████████████████████████████████████████████████████████████████████████████████████████| 2/2 [00:00<00:00, 1308.06it/s]"
     ]
    },
    {
     "name": "stdout",
     "output_type": "stream",
     "text": [
      "[2025-06-20 15:20:03,718] INFO: Connectivity matrix successfully written to '../../../obi-output/connectivity_matrix_extraction_motif/nbS1-O1-PV2E-maxNsyn-HEX0-L4/connectivity_matrix.h5'\n",
      "[2025-06-20 15:20:03,719] INFO: Info: Running idx 15\n",
      "[2025-06-20 15:20:03,719] INFO: Info: Loading circuit 'nbS1-O1-Sst2E-maxNsyn-HEX0-L4'\n",
      "[2025-06-20 15:20:03,721] INFO: Node properties to extract: ('synapse_class', 'layer', 'mtype', 'etype', 'x', 'y', 'z')\n",
      "[2025-06-20 15:20:03,721] INFO: Extracting connectivity from edge population 'S1nonbarrel_neurons__S1nonbarrel_neurons__chemical'\n"
     ]
    },
    {
     "name": "stderr",
     "output_type": "stream",
     "text": [
      "\n",
      "100%|███████████████████████████████████████████████████████████████████████████████████████████| 2/2 [00:00<00:00, 1266.59it/s]"
     ]
    },
    {
     "name": "stdout",
     "output_type": "stream",
     "text": [
      "[2025-06-20 15:20:03,735] INFO: Connectivity matrix successfully written to '../../../obi-output/connectivity_matrix_extraction_motif/nbS1-O1-Sst2E-maxNsyn-HEX0-L4/connectivity_matrix.h5'\n",
      "[2025-06-20 15:20:03,736] INFO: Info: Running idx 16\n",
      "[2025-06-20 15:20:03,736] INFO: Info: Loading circuit 'nbS1-O1-PV2E-maxNsyn-HEX0-L5'\n",
      "[2025-06-20 15:20:03,737] INFO: Node properties to extract: ('synapse_class', 'layer', 'mtype', 'etype', 'x', 'y', 'z')\n",
      "[2025-06-20 15:20:03,738] INFO: Extracting connectivity from edge population 'S1nonbarrel_neurons__S1nonbarrel_neurons__chemical'\n"
     ]
    },
    {
     "name": "stderr",
     "output_type": "stream",
     "text": [
      "\n",
      "100%|███████████████████████████████████████████████████████████████████████████████████████████| 2/2 [00:00<00:00, 1231.63it/s]"
     ]
    },
    {
     "name": "stdout",
     "output_type": "stream",
     "text": [
      "[2025-06-20 15:20:03,752] INFO: Connectivity matrix successfully written to '../../../obi-output/connectivity_matrix_extraction_motif/nbS1-O1-PV2E-maxNsyn-HEX0-L5/connectivity_matrix.h5'\n",
      "[2025-06-20 15:20:03,753] INFO: Info: Running idx 17\n",
      "[2025-06-20 15:20:03,753] INFO: Info: Loading circuit 'nbS1-O1-Sst2E-maxNsyn-HEX0-L5'\n",
      "[2025-06-20 15:20:03,754] INFO: Node properties to extract: ('synapse_class', 'layer', 'mtype', 'etype', 'x', 'y', 'z')\n",
      "[2025-06-20 15:20:03,754] INFO: Extracting connectivity from edge population 'S1nonbarrel_neurons__S1nonbarrel_neurons__chemical'\n"
     ]
    },
    {
     "name": "stderr",
     "output_type": "stream",
     "text": [
      "\n",
      "100%|███████████████████████████████████████████████████████████████████████████████████████████| 2/2 [00:00<00:00, 1359.80it/s]"
     ]
    },
    {
     "name": "stdout",
     "output_type": "stream",
     "text": [
      "[2025-06-20 15:20:03,768] INFO: Connectivity matrix successfully written to '../../../obi-output/connectivity_matrix_extraction_motif/nbS1-O1-Sst2E-maxNsyn-HEX0-L5/connectivity_matrix.h5'\n",
      "[2025-06-20 15:20:03,769] INFO: Info: Running idx 18\n",
      "[2025-06-20 15:20:03,769] INFO: Info: Loading circuit 'nbS1-O1-PV2E-maxNsyn-HEX0-L6'\n",
      "[2025-06-20 15:20:03,771] INFO: Node properties to extract: ('synapse_class', 'layer', 'mtype', 'etype', 'x', 'y', 'z')\n",
      "[2025-06-20 15:20:03,771] INFO: Extracting connectivity from edge population 'S1nonbarrel_neurons__S1nonbarrel_neurons__chemical'\n"
     ]
    },
    {
     "name": "stderr",
     "output_type": "stream",
     "text": [
      "\n",
      "100%|███████████████████████████████████████████████████████████████████████████████████████████| 2/2 [00:00<00:00, 1229.10it/s]"
     ]
    },
    {
     "name": "stdout",
     "output_type": "stream",
     "text": [
      "[2025-06-20 15:20:03,785] INFO: Connectivity matrix successfully written to '../../../obi-output/connectivity_matrix_extraction_motif/nbS1-O1-PV2E-maxNsyn-HEX0-L6/connectivity_matrix.h5'\n",
      "[2025-06-20 15:20:03,786] INFO: Info: Running idx 19\n",
      "[2025-06-20 15:20:03,786] INFO: Info: Loading circuit 'nbS1-O1-Sst2E-maxNsyn-HEX0-L6'\n",
      "[2025-06-20 15:20:03,788] INFO: Node properties to extract: ('synapse_class', 'layer', 'mtype', 'etype', 'x', 'y', 'z')\n",
      "[2025-06-20 15:20:03,788] INFO: Extracting connectivity from edge population 'S1nonbarrel_neurons__S1nonbarrel_neurons__chemical'\n"
     ]
    },
    {
     "name": "stderr",
     "output_type": "stream",
     "text": [
      "\n",
      "100%|███████████████████████████████████████████████████████████████████████████████████████████| 2/2 [00:00<00:00, 1336.83it/s]"
     ]
    },
    {
     "name": "stdout",
     "output_type": "stream",
     "text": [
      "[2025-06-20 15:20:03,803] INFO: Connectivity matrix successfully written to '../../../obi-output/connectivity_matrix_extraction_motif/nbS1-O1-Sst2E-maxNsyn-HEX0-L6/connectivity_matrix.h5'\n",
      "[2025-06-20 15:20:03,804] INFO: Info: Running idx 20\n",
      "[2025-06-20 15:20:03,804] INFO: Info: Loading circuit 'nbS1-O1-ErcPV-maxNsyn-HEX0-L2'\n",
      "[2025-06-20 15:20:03,806] INFO: Node properties to extract: ('synapse_class', 'layer', 'mtype', 'etype', 'x', 'y', 'z')\n",
      "[2025-06-20 15:20:03,806] INFO: Extracting connectivity from edge population 'S1nonbarrel_neurons__S1nonbarrel_neurons__chemical'\n"
     ]
    },
    {
     "name": "stderr",
     "output_type": "stream",
     "text": [
      "\n",
      "100%|████████████████████████████████████████████████████████████████████████████████████████████| 2/2 [00:00<00:00, 965.21it/s]"
     ]
    },
    {
     "name": "stdout",
     "output_type": "stream",
     "text": [
      "[2025-06-20 15:20:03,819] INFO: Connectivity matrix successfully written to '../../../obi-output/connectivity_matrix_extraction_motif/nbS1-O1-ErcPV-maxNsyn-HEX0-L2/connectivity_matrix.h5'\n",
      "[2025-06-20 15:20:03,820] INFO: Info: Running idx 21\n",
      "[2025-06-20 15:20:03,820] INFO: Info: Loading circuit 'nbS1-O1-ErcSst-maxNsyn-HEX0-L2'\n",
      "[2025-06-20 15:20:03,822] INFO: Node properties to extract: ('synapse_class', 'layer', 'mtype', 'etype', 'x', 'y', 'z')\n",
      "[2025-06-20 15:20:03,822] INFO: Extracting connectivity from edge population 'S1nonbarrel_neurons__S1nonbarrel_neurons__chemical'\n"
     ]
    },
    {
     "name": "stderr",
     "output_type": "stream",
     "text": [
      "\n",
      "100%|████████████████████████████████████████████████████████████████████████████████████████████| 2/2 [00:00<00:00, 986.66it/s]"
     ]
    },
    {
     "name": "stdout",
     "output_type": "stream",
     "text": [
      "[2025-06-20 15:20:03,836] INFO: Connectivity matrix successfully written to '../../../obi-output/connectivity_matrix_extraction_motif/nbS1-O1-ErcSst-maxNsyn-HEX0-L2/connectivity_matrix.h5'\n",
      "[2025-06-20 15:20:03,837] INFO: Info: Running idx 22\n",
      "[2025-06-20 15:20:03,837] INFO: Info: Loading circuit 'nbS1-O1-ErcPV-maxNsyn-HEX0-L3'\n",
      "[2025-06-20 15:20:03,839] INFO: Node properties to extract: ('synapse_class', 'layer', 'mtype', 'etype', 'x', 'y', 'z')\n",
      "[2025-06-20 15:20:03,839] INFO: Extracting connectivity from edge population 'S1nonbarrel_neurons__S1nonbarrel_neurons__chemical'\n"
     ]
    },
    {
     "name": "stderr",
     "output_type": "stream",
     "text": [
      "\n",
      "100%|████████████████████████████████████████████████████████████████████████████████████████████| 2/2 [00:00<00:00, 920.71it/s]"
     ]
    },
    {
     "name": "stdout",
     "output_type": "stream",
     "text": [
      "[2025-06-20 15:20:03,853] INFO: Connectivity matrix successfully written to '../../../obi-output/connectivity_matrix_extraction_motif/nbS1-O1-ErcPV-maxNsyn-HEX0-L3/connectivity_matrix.h5'\n",
      "[2025-06-20 15:20:03,854] INFO: Info: Running idx 23\n",
      "[2025-06-20 15:20:03,855] INFO: Info: Loading circuit 'nbS1-O1-ErcSst-maxNsyn-HEX0-L3'\n",
      "[2025-06-20 15:20:03,856] INFO: Node properties to extract: ('synapse_class', 'layer', 'mtype', 'etype', 'x', 'y', 'z')\n",
      "[2025-06-20 15:20:03,856] INFO: Extracting connectivity from edge population 'S1nonbarrel_neurons__S1nonbarrel_neurons__chemical'\n"
     ]
    },
    {
     "name": "stderr",
     "output_type": "stream",
     "text": [
      "\n",
      "100%|████████████████████████████████████████████████████████████████████████████████████████████| 2/2 [00:00<00:00, 977.92it/s]"
     ]
    },
    {
     "name": "stdout",
     "output_type": "stream",
     "text": [
      "[2025-06-20 15:20:03,870] INFO: Connectivity matrix successfully written to '../../../obi-output/connectivity_matrix_extraction_motif/nbS1-O1-ErcSst-maxNsyn-HEX0-L3/connectivity_matrix.h5'\n",
      "[2025-06-20 15:20:03,872] INFO: Info: Running idx 24\n",
      "[2025-06-20 15:20:03,872] INFO: Info: Loading circuit 'nbS1-O1-ErcPV-maxNsyn-HEX0-L4'\n",
      "[2025-06-20 15:20:03,873] INFO: Node properties to extract: ('synapse_class', 'layer', 'mtype', 'etype', 'x', 'y', 'z')\n",
      "[2025-06-20 15:20:03,874] INFO: Extracting connectivity from edge population 'S1nonbarrel_neurons__S1nonbarrel_neurons__chemical'\n"
     ]
    },
    {
     "name": "stderr",
     "output_type": "stream",
     "text": [
      "\n",
      "100%|████████████████████████████████████████████████████████████████████████████████████████████| 2/2 [00:00<00:00, 964.76it/s]"
     ]
    },
    {
     "name": "stdout",
     "output_type": "stream",
     "text": [
      "[2025-06-20 15:20:03,888] INFO: Connectivity matrix successfully written to '../../../obi-output/connectivity_matrix_extraction_motif/nbS1-O1-ErcPV-maxNsyn-HEX0-L4/connectivity_matrix.h5'\n",
      "[2025-06-20 15:20:03,889] INFO: Info: Running idx 25\n",
      "[2025-06-20 15:20:03,889] INFO: Info: Loading circuit 'nbS1-O1-ErcSst-maxNsyn-HEX0-L4'\n",
      "[2025-06-20 15:20:03,890] INFO: Node properties to extract: ('synapse_class', 'layer', 'mtype', 'etype', 'x', 'y', 'z')\n",
      "[2025-06-20 15:20:03,890] INFO: Extracting connectivity from edge population 'S1nonbarrel_neurons__S1nonbarrel_neurons__chemical'\n"
     ]
    },
    {
     "name": "stderr",
     "output_type": "stream",
     "text": [
      "\n",
      "100%|████████████████████████████████████████████████████████████████████████████████████████████| 2/2 [00:00<00:00, 642.51it/s]"
     ]
    },
    {
     "name": "stdout",
     "output_type": "stream",
     "text": [
      "[2025-06-20 15:20:03,905] INFO: Connectivity matrix successfully written to '../../../obi-output/connectivity_matrix_extraction_motif/nbS1-O1-ErcSst-maxNsyn-HEX0-L4/connectivity_matrix.h5'\n",
      "[2025-06-20 15:20:03,906] INFO: Info: Running idx 26\n",
      "[2025-06-20 15:20:03,907] INFO: Info: Loading circuit 'nbS1-O1-ErcPV-maxNsyn-HEX0-L5'\n",
      "[2025-06-20 15:20:03,908] INFO: Node properties to extract: ('synapse_class', 'layer', 'mtype', 'etype', 'x', 'y', 'z')\n",
      "[2025-06-20 15:20:03,909] INFO: Extracting connectivity from edge population 'S1nonbarrel_neurons__S1nonbarrel_neurons__chemical'\n"
     ]
    },
    {
     "name": "stderr",
     "output_type": "stream",
     "text": [
      "\n",
      "100%|████████████████████████████████████████████████████████████████████████████████████████████| 2/2 [00:00<00:00, 649.37it/s]"
     ]
    },
    {
     "name": "stdout",
     "output_type": "stream",
     "text": [
      "[2025-06-20 15:20:03,923] INFO: Connectivity matrix successfully written to '../../../obi-output/connectivity_matrix_extraction_motif/nbS1-O1-ErcPV-maxNsyn-HEX0-L5/connectivity_matrix.h5'\n",
      "[2025-06-20 15:20:03,925] INFO: Info: Running idx 27\n",
      "[2025-06-20 15:20:03,925] INFO: Info: Loading circuit 'nbS1-O1-ErcSst-maxNsyn-HEX0-L5'\n"
     ]
    },
    {
     "name": "stderr",
     "output_type": "stream",
     "text": [
      "\n"
     ]
    },
    {
     "name": "stdout",
     "output_type": "stream",
     "text": [
      "[2025-06-20 15:20:03,927] INFO: Node properties to extract: ('synapse_class', 'layer', 'mtype', 'etype', 'x', 'y', 'z')\n",
      "[2025-06-20 15:20:03,927] INFO: Extracting connectivity from edge population 'S1nonbarrel_neurons__S1nonbarrel_neurons__chemical'\n"
     ]
    },
    {
     "name": "stderr",
     "output_type": "stream",
     "text": [
      "100%|████████████████████████████████████████████████████████████████████████████████████████████| 2/2 [00:00<00:00, 755.59it/s]"
     ]
    },
    {
     "name": "stdout",
     "output_type": "stream",
     "text": [
      "[2025-06-20 15:20:03,941] INFO: Connectivity matrix successfully written to '../../../obi-output/connectivity_matrix_extraction_motif/nbS1-O1-ErcSst-maxNsyn-HEX0-L5/connectivity_matrix.h5'\n",
      "[2025-06-20 15:20:03,942] INFO: Info: Running idx 28\n",
      "[2025-06-20 15:20:03,942] INFO: Info: Loading circuit 'nbS1-O1-ErcPV-maxNsyn-HEX0-L6'\n"
     ]
    },
    {
     "name": "stderr",
     "output_type": "stream",
     "text": [
      "\n"
     ]
    },
    {
     "name": "stdout",
     "output_type": "stream",
     "text": [
      "[2025-06-20 15:20:03,944] INFO: Node properties to extract: ('synapse_class', 'layer', 'mtype', 'etype', 'x', 'y', 'z')\n",
      "[2025-06-20 15:20:03,944] INFO: Extracting connectivity from edge population 'S1nonbarrel_neurons__S1nonbarrel_neurons__chemical'\n"
     ]
    },
    {
     "name": "stderr",
     "output_type": "stream",
     "text": [
      "100%|████████████████████████████████████████████████████████████████████████████████████████████| 2/2 [00:00<00:00, 726.98it/s]"
     ]
    },
    {
     "name": "stdout",
     "output_type": "stream",
     "text": [
      "[2025-06-20 15:20:03,958] INFO: Connectivity matrix successfully written to '../../../obi-output/connectivity_matrix_extraction_motif/nbS1-O1-ErcPV-maxNsyn-HEX0-L6/connectivity_matrix.h5'\n"
     ]
    },
    {
     "name": "stderr",
     "output_type": "stream",
     "text": [
      "\n"
     ]
    },
    {
     "name": "stdout",
     "output_type": "stream",
     "text": [
      "[2025-06-20 15:20:03,960] INFO: Info: Running idx 29\n",
      "[2025-06-20 15:20:03,960] INFO: Info: Loading circuit 'nbS1-O1-ErcSst-maxNsyn-HEX0-L6'\n",
      "[2025-06-20 15:20:03,961] INFO: Node properties to extract: ('synapse_class', 'layer', 'mtype', 'etype', 'x', 'y', 'z')\n",
      "[2025-06-20 15:20:03,961] INFO: Extracting connectivity from edge population 'S1nonbarrel_neurons__S1nonbarrel_neurons__chemical'\n"
     ]
    },
    {
     "name": "stderr",
     "output_type": "stream",
     "text": [
      "100%|████████████████████████████████████████████████████████████████████████████████████████████| 2/2 [00:00<00:00, 779.03it/s]"
     ]
    },
    {
     "name": "stdout",
     "output_type": "stream",
     "text": [
      "[2025-06-20 15:20:03,975] INFO: Connectivity matrix successfully written to '../../../obi-output/connectivity_matrix_extraction_motif/nbS1-O1-ErcSst-maxNsyn-HEX0-L6/connectivity_matrix.h5'\n"
     ]
    },
    {
     "name": "stderr",
     "output_type": "stream",
     "text": [
      "\n"
     ]
    },
    {
     "name": "stdout",
     "output_type": "stream",
     "text": [
      "[2025-06-20 15:20:03,977] INFO: create_bbp_workflow_campaign_config() not yet complete.\n"
     ]
    },
    {
     "data": {
      "text/plain": [
       "{0: None,\n",
       " 1: None,\n",
       " 2: None,\n",
       " 3: None,\n",
       " 4: None,\n",
       " 5: None,\n",
       " 6: None,\n",
       " 7: None,\n",
       " 8: None,\n",
       " 9: None,\n",
       " 10: None,\n",
       " 11: None,\n",
       " 12: None,\n",
       " 13: None,\n",
       " 14: None,\n",
       " 15: None,\n",
       " 16: None,\n",
       " 17: None,\n",
       " 18: None,\n",
       " 19: None,\n",
       " 20: None,\n",
       " 21: None,\n",
       " 22: None,\n",
       " 23: None,\n",
       " 24: None,\n",
       " 25: None,\n",
       " 26: None,\n",
       " 27: None,\n",
       " 28: None,\n",
       " 29: None}"
      ]
     },
     "execution_count": 4,
     "metadata": {},
     "output_type": "execute_result"
    }
   ],
   "source": [
    "grid_scan.execute()\n",
    "obi.run_tasks_for_generated_scan(grid_scan)"
   ]
  },
  {
   "cell_type": "code",
   "execution_count": null,
   "metadata": {},
   "outputs": [],
   "source": [
    "# Check & plot matrices\n",
    "import matplotlib.pyplot as plt\n",
    "from conntility.connectivity import ConnectivityMatrix\n",
    "from connalysis.network import topology\n",
    "\n",
    "for _name in connectivity_matrix_extractions_form.initialize.circuit_path:\n",
    "    print(f\"{_name}:\")\n",
    "    cmat = ConnectivityMatrix.from_h5(output_root / str(_name) / \"connectivity_matrix.h5\")\n",
    "    display(cmat.matrix)\n",
    "    print(f\"> #Synapses: {cmat.matrix.sum()}\")\n",
    "    print(f\"> Simplex counts:\\n {topology.simplex_counts(cmat.matrix)}\\n\")\n",
    "\n",
    "    plt.figure(figsize=(4, 3))\n",
    "    plt.imshow(cmat.dense_matrix, interpolation=\"nearest\")\n",
    "    plt.xlabel(\"Post-synaptic neurons\")\n",
    "    plt.ylabel(\"Pre-synaptic neurons\")\n",
    "    plt.title(_name, fontweight=\"bold\")\n",
    "    plt.colorbar(label=\"#Synapses\")\n",
    "    plt.tight_layout()\n",
    "    # plt.imsave(f\"./{_name}__cmat.png\", dpi=300)\n",
    "    plt.show()"
   ]
  }
 ],
 "metadata": {
  "kernelspec": {
   "display_name": "obi-one",
   "language": "python",
   "name": "obi-one"
  },
  "language_info": {
   "codemirror_mode": {
    "name": "ipython",
    "version": 3
   },
   "file_extension": ".py",
   "mimetype": "text/x-python",
   "name": "python",
   "nbconvert_exporter": "python",
   "pygments_lexer": "ipython3",
   "version": "3.12.9"
  }
 },
 "nbformat": 4,
 "nbformat_minor": 4
}
