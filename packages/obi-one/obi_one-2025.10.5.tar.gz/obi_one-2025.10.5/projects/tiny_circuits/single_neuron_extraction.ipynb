{
 "cells": [
  {
   "cell_type": "code",
   "execution_count": null,
   "metadata": {},
   "outputs": [],
   "source": [
    "import obi_one as obi\n",
    "import os\n",
    "import pandas as pd"
   ]
  },
  {
   "cell_type": "code",
   "execution_count": null,
   "metadata": {},
   "outputs": [],
   "source": [
    "input_root = \"/Users/pokorny/Data/Circuits\"\n",
    "output_root = \"../../../obi-output/extracted_single_neuron_circuits\""
   ]
  },
  {
   "cell_type": "code",
   "execution_count": null,
   "metadata": {},
   "outputs": [],
   "source": [
    "# Number of single-neuron circuits to extract\n",
    "idx_list = [0, 1]\n",
    "node_selection_file = \"./top_nodes_dim6.csv\"\n",
    "node_id_lists = [obi.NamedTuple(name=f\"SingleNeuronCircuit__\" + os.path.splitext(os.path.split(node_selection_file)[1])[0] + f\"__IDX{_idx}\", elements=tuple([pd.read_csv(node_selection_file)[\"node_ids\"].to_list()[_idx]])) for _idx in idx_list]"
   ]
  },
  {
   "cell_type": "code",
   "execution_count": null,
   "metadata": {},
   "outputs": [],
   "source": [
    "circuit_extractions_scan_config = obi.CircuitExtractionScanConfig(\n",
    "                    initialize=obi.CircuitExtractionScanConfig.Initialize(\n",
    "                        # circuit=obi.Circuit(name=\"ToyCircuit-S1-6k\", path=os.path.join(input_root, \"ToyCircuit-S1-6k\", \"circuit_config.json\")),\n",
    "                        circuit=obi.Circuit(name=\"nbS1-HEX0\", path=os.path.join(input_root, \"nbS1-HEX0\", \"circuit_config.json\")),\n",
    "                        run_validation=False,\n",
    "                    ),\n",
    "                    # neuron_set=obi.PredefinedNeuronSet(node_set=[\"Excitatory\", \"Inhibitory\"], sample_percentage=[50, 100]),\n",
    "                    # neuron_set=obi.PredefinedNeuronSet(node_set=[\"Layer2\", \"Layer3\", \"Layer4\", \"Layer5\", \"Layer6\"], sample_percentage=10),\n",
    "                    neuron_set=obi.IDNeuronSet(neuron_ids=node_id_lists)\n",
    ")\n",
    "\n",
    "grid_scan = obi.GridScanGenerationTask(form=circuit_extractions_scan_config, output_root=output_root, coordinate_directory_option=\"VALUE\")"
   ]
  },
  {
   "cell_type": "code",
   "execution_count": null,
   "metadata": {},
   "outputs": [],
   "source": [
    "# Display the intermediary data\n",
    "grid_scan.multiple_value_parameters(display=True)\n",
    "grid_scan.coordinate_parameters(display=True)\n",
    "# grid_scan.coordinate_instances(display=True)"
   ]
  },
  {
   "cell_type": "code",
   "execution_count": null,
   "metadata": {},
   "outputs": [],
   "source": [
    "grid_scan.execute()\n",
    "obi.run_tasks_for_generated_scan(grid_scan)"
   ]
  },
  {
   "cell_type": "code",
   "execution_count": null,
   "metadata": {},
   "outputs": [],
   "source": [
    "# Check circuits\n",
    "from bluepysnap import Circuit\n",
    "\n",
    "for _inst in grid_scan.coordinate_instances():\n",
    "    cfg = grid_scan.output_root / str(_inst.neuron_set.neuron_ids) / \"circuit_config.json\"\n",
    "    c = Circuit(cfg)\n",
    "    local_nsyn = vpm_nsyn = pom_nsyn = 0\n",
    "    if \"S1nonbarrel_neurons__S1nonbarrel_neurons__chemical\" in c.edges.population_names:\n",
    "        local_nsyn = c.edges[\"S1nonbarrel_neurons__S1nonbarrel_neurons__chemical\"].size\n",
    "    if \"VPM__S1nonbarrel_neurons__chemical\" in c.edges.population_names:\n",
    "        vpm_nsyn = c.edges[\"VPM__S1nonbarrel_neurons__chemical\"].size\n",
    "    if \"POm__S1nonbarrel_neurons__chemical\" in c.edges.population_names:\n",
    "        pom_nsyn = c.edges[\"POm__S1nonbarrel_neurons__chemical\"].size\n",
    "    print(f\"{_inst.neuron_set.neuron_ids}: {c.nodes[\"S1nonbarrel_neurons\"].size} neuron, {local_nsyn} local synapses, {vpm_nsyn} VPM synapses, {pom_nsyn} POm synapses\")\n"
   ]
  }
 ],
 "metadata": {
  "kernelspec": {
   "display_name": "obi-one",
   "language": "python",
   "name": "python3"
  },
  "language_info": {
   "codemirror_mode": {
    "name": "ipython",
    "version": 3
   },
   "file_extension": ".py",
   "mimetype": "text/x-python",
   "name": "python",
   "nbconvert_exporter": "python",
   "pygments_lexer": "ipython3",
   "version": "3.12.9"
  }
 },
 "nbformat": 4,
 "nbformat_minor": 4
}
