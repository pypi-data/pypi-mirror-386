{
 "cells": [
  {
   "cell_type": "code",
   "execution_count": null,
   "metadata": {},
   "outputs": [],
   "source": [
    "import obi_one as obi\n",
    "import os\n",
    "import pandas as pd"
   ]
  },
  {
   "cell_type": "code",
   "execution_count": null,
   "metadata": {},
   "outputs": [],
   "source": [
    "input_root = \"/Users/pokorny/Data/Circuits\"\n",
    "output_root = \"../../../obi-output/extracted_small_microcircuits\""
   ]
  },
  {
   "cell_type": "code",
   "execution_count": null,
   "metadata": {},
   "outputs": [],
   "source": [
    "# # Neuron IDs for nbS1-HEX0\n",
    "# N_ids = 10\n",
    "# node_selection_files = [\"./selection1.csv\",\n",
    "#                         \"./selection2.csv\"]\n",
    "# def sel_first_n(elements, n):\n",
    "#     assert len(elements) >= n, f\"ERROR: Less than {n} elements to select from!\"\n",
    "#     return elements[:n]\n",
    "# node_id_lists = [obi.NamedTuple(name=f\"N_{N_ids}__\" + os.path.splitext(os.path.split(_f)[1])[0], elements=tuple(sel_first_n(pd.read_csv(_f)[\"node_ids\"].to_list(), N_ids))) for _f in node_selection_files]"
   ]
  },
  {
   "cell_type": "code",
   "execution_count": null,
   "metadata": {},
   "outputs": [],
   "source": [
    "# Neuron IDs for rCA1-CYLINDER-REF\n",
    "node_id_lists = [#obi.NamedTuple(name=\"N_2__rCA1-FFInh-Sel1\", elements=(1146, 5684)),  # + virtual 64063\n",
    "                 # obi.NamedTuple(name=\"N_3__rCA1-ThetaOsc-Sel1\", elements=(3903, 5712, 6026)),\n",
    "                 # obi.NamedTuple(name=\"N_10__rCA1-ThetaOsc-Sel1\", elements=(2009, 3371, 1956, 3673, 1464, 4806, 2197, 1147, 5702, 6026)),\n",
    "                 # obi.NamedTuple(name=\"N_8__rCA1-ThetaOsc-Sel1\", elements=(5842, 5702, 5850, 5628,  # PV+\n",
    "                 #                                                          2886, 3049, 3673, 4806)),  # PC\n",
    "                 obi.NamedTuple(name=\"N_9__rCA1-ThetaOsc-Sel1\", elements=(5625, 5821, 5847, 5815, 5591, 5619, 5675, 5845,  # PV+\n",
    "                                                                          3673)),  # PC\n",
    "                ]"
   ]
  },
  {
   "cell_type": "code",
   "execution_count": null,
   "metadata": {},
   "outputs": [],
   "source": [
    "circuit_extractions_scan_config = obi.CircuitExtractionScanConfig(\n",
    "                    initialize=obi.CircuitExtractionScanConfig.Initialize(\n",
    "                        # circuit=obi.Circuit(name=\"ToyCircuit-S1-6k\", path=os.path.join(input_root, \"ToyCircuit-S1-6k\", \"circuit_config.json\")),\n",
    "                        # circuit=obi.Circuit(name=\"nbS1-HEX0\", path=os.path.join(input_root, \"nbS1-HEX0\", \"circuit_config.json\")),\n",
    "                        circuit=obi.Circuit(name=\"rCA1-CYLINDER-REF\", path=os.path.join(input_root, \"rCA1-CYLINDER-REF\", \"circuit_config_postfix2.json\")),\n",
    "                        run_validation=False,\n",
    "                        do_virtual=True,\n",
    "                        create_external=True,\n",
    "                        virtual_sources_to_ignore=(\"external_hippocampus_neurons__hippocampus_neurons__chemical_synapse\", ),\n",
    "                    ),\n",
    "                    # neuron_set=obi.PredefinedNeuronSet(node_set=[\"Excitatory\", \"Inhibitory\"], random_sample=[100, 500]),\n",
    "                    # neuron_set=obi.PredefinedNeuronSet(node_set=[\"Layer2\", \"Layer3\", \"Layer4\", \"Layer5\", \"Layer6\"], random_sample=10),\n",
    "                    neuron_set=obi.IDNeuronSet(neuron_ids=node_id_lists)\n",
    ")\n",
    "\n",
    "grid_scan = obi.GridScanGenerationTask(form=circuit_extractions_scan_config, output_root=output_root, coordinate_directory_option=\"VALUE\")"
   ]
  },
  {
   "cell_type": "code",
   "execution_count": null,
   "metadata": {},
   "outputs": [],
   "source": [
    "# Display the intermediary data\n",
    "grid_scan.multiple_value_parameters(display=True)\n",
    "grid_scan.coordinate_parameters(display=True)\n",
    "# grid_scan.coordinate_instances(display=True)"
   ]
  },
  {
   "cell_type": "code",
   "execution_count": null,
   "metadata": {},
   "outputs": [],
   "source": [
    "grid_scan.execute()\n",
    "obi.run_tasks_for_generated_scan(grid_scan)"
   ]
  },
  {
   "cell_type": "code",
   "execution_count": null,
   "metadata": {},
   "outputs": [],
   "source": [
    "# Check circuits\n",
    "from bluepysnap import Circuit\n",
    "\n",
    "for _inst in grid_scan.coordinate_instances():\n",
    "    cfg = grid_scan.output_root / str(_inst.neuron_set.neuron_ids) / \"circuit_config.json\"\n",
    "    c = Circuit(cfg)\n",
    "    # print(f\"{_inst.neuron_set.neuron_ids}: {c.nodes['S1nonbarrel_neurons'].size} neurons, {c.edges[\"S1nonbarrel_neurons__S1nonbarrel_neurons__chemical\"].size} synapses\")\n",
    "    print(f\"{_inst.neuron_set.neuron_ids}: {c.nodes['hippocampus_neurons'].size} neurons, {c.edges[\"hippocampus_neurons__hippocampus_neurons__chemical_synapse\"].size} synapses\")\n"
   ]
  },
  {
   "cell_type": "code",
   "execution_count": null,
   "metadata": {},
   "outputs": [],
   "source": []
  }
 ],
 "metadata": {
  "kernelspec": {
   "display_name": "obi-one",
   "language": "python",
   "name": "obi-one"
  },
  "language_info": {
   "codemirror_mode": {
    "name": "ipython",
    "version": 3
   },
   "file_extension": ".py",
   "mimetype": "text/x-python",
   "name": "python",
   "nbconvert_exporter": "python",
   "pygments_lexer": "ipython3",
   "version": "3.12.9"
  }
 },
 "nbformat": 4,
 "nbformat_minor": 4
}
