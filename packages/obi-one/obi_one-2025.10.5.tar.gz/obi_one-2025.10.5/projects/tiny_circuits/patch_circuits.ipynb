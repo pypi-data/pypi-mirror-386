{
 "cells": [
  {
   "cell_type": "markdown",
   "id": "ff4dfbe5-5366-4ec2-ad2a-ca41940a6b40",
   "metadata": {},
   "source": [
    "# Patching existing circuits for compatibility with new features\n",
    "\n",
    "Before extracting small microcircuits from older versions of a circuit that had been extracted before, they should be patched to match the newly defined `id_mapping` standard. If that is not done, then the extraction code will assume the circuit to be the \"original\" instead of a subcircuit."
   ]
  },
  {
   "cell_type": "code",
   "execution_count": 1,
   "id": "bb3d1c3b-1183-4768-9f16-7f2dd00ff733",
   "metadata": {},
   "outputs": [],
   "source": [
    "import json\n",
    "import os"
   ]
  },
  {
   "cell_type": "code",
   "execution_count": 2,
   "id": "70dd9cc5-5301-4f98-9643-cd06799a5d2a",
   "metadata": {},
   "outputs": [],
   "source": [
    "root_path = \"/Users/pokorny/Data/Circuits/\""
   ]
  },
  {
   "cell_type": "code",
   "execution_count": 3,
   "id": "15350ccd-b05c-496c-a964-0b53451a299b",
   "metadata": {},
   "outputs": [],
   "source": [
    "# nbS1-O1 circuit\n",
    "o1_circ_fn = os.path.join(root_path, \"nbS1-O1\", \"circuit_config.json\")\n",
    "o1_mapping_fn = os.path.join(os.path.split(o1_circ_fn)[0], \"id_mapping.json\")\n",
    "\n",
    "with open(o1_circ_fn, \"r\") as fid:\n",
    "    o1_circ = json.load(fid)\n",
    "with open(o1_mapping_fn, \"r\") as fid:\n",
    "    o1_mapping = json.load(fid)\n",
    "\n",
    "o1_mapping_out = {\n",
    "    k : {\n",
    "        \"new_id\": v[\"new_id\"],\n",
    "        \"parent_id\": v[\"old_id\"],\n",
    "        \"parent_name\": k,\n",
    "        \"original_id\": v[\"old_id\"],\n",
    "        \"original_name\": k\n",
    "    } for k, v in o1_mapping.items()\n",
    "}\n",
    "o1_mapping_out[\"external_S1nonbarrel_neurons__S1nonbarrel_neurons__chemical\"][\"parent_name\"] = \"S1nonbarrel_neurons\"\n",
    "o1_mapping_out[\"external_S1nonbarrel_neurons__S1nonbarrel_neurons__chemical\"][\"original_name\"] = \"S1nonbarrel_neurons\"\n",
    "o1_circ[\"components\"].setdefault(\"provenance\", {})[\"id_mapping\"] = \"id_mapping_full.json\"\n",
    "\n",
    "o1_circ_fn_out = os.path.splitext(o1_circ_fn)[0] + \"_postfix.json\"\n",
    "o1_mapping_fn_out = os.path.join(os.path.split(o1_circ_fn_out)[0], \"id_mapping_full.json\")\n",
    "with open(o1_circ_fn_out, \"w\") as fid:\n",
    "    json.dump(o1_circ, fid, indent=4)\n",
    "with open(o1_mapping_fn_out, \"w\") as fid:\n",
    "    json.dump(o1_mapping_out, fid, indent=4)"
   ]
  },
  {
   "cell_type": "code",
   "execution_count": 24,
   "id": "e819f366-cdb6-4316-886d-442c4ac3dae8",
   "metadata": {},
   "outputs": [],
   "source": [
    "# rCA1-CYLINDER-REF circuit\n",
    "cyl_circ_fn = os.path.join(root_path, \"rCA1-CYLINDER-REF\", \"circuit_config_fix.json\")\n",
    "cyl_mapping_fn = os.path.join(os.path.split(cyl_circ_fn)[0], \"id_mapping.json\")\n",
    "\n",
    "with open(cyl_circ_fn, \"r\") as fid:\n",
    "    cyl_circ = json.load(fid)\n",
    "with open(cyl_mapping_fn, \"r\") as fid:\n",
    "    cyl_mapping = json.load(fid)\n",
    "\n",
    "cyl_mapping_out = {\n",
    "    k : {\n",
    "        \"new_id\": v[\"new_id\"],\n",
    "        \"parent_id\": v[\"old_id\"],\n",
    "        \"parent_name\": k,\n",
    "        \"original_id\": v[\"old_id\"],\n",
    "        \"original_name\": k\n",
    "    } for k, v in cyl_mapping.items()\n",
    "}\n",
    "cyl_mapping_out[\"external_hippocampus_neurons__hippocampus_neurons__chemical_synapse\"][\"parent_name\"] = \"hippocampus_neurons\"\n",
    "cyl_mapping_out[\"external_hippocampus_neurons__hippocampus_neurons__chemical_synapse\"][\"original_name\"] = \"hippocampus_neurons\"\n",
    "cyl_circ[\"components\"].setdefault(\"provenance\", {})[\"id_mapping\"] = \"id_mapping_full.json\"\n",
    "\n",
    "cyl_circ_fn_out = os.path.splitext(cyl_circ_fn)[0] + \"_postfix.json\"\n",
    "cyl_mapping_fn_out = os.path.join(os.path.split(cyl_circ_fn_out)[0], \"id_mapping_full.json\")\n",
    "with open(cyl_circ_fn_out, \"w\") as fid:\n",
    "    json.dump(cyl_circ, fid, indent=4)\n",
    "with open(cyl_mapping_fn_out, \"w\") as fid:\n",
    "    json.dump(cyl_mapping_out, fid, indent=4)"
   ]
  },
  {
   "cell_type": "code",
   "execution_count": null,
   "id": "b5496e0c-051a-4177-8d6d-386616e96011",
   "metadata": {},
   "outputs": [],
   "source": []
  }
 ],
 "metadata": {
  "kernelspec": {
   "display_name": "obi-one",
   "language": "python",
   "name": "obi-one"
  },
  "language_info": {
   "codemirror_mode": {
    "name": "ipython",
    "version": 3
   },
   "file_extension": ".py",
   "mimetype": "text/x-python",
   "name": "python",
   "nbconvert_exporter": "python",
   "pygments_lexer": "ipython3",
   "version": "3.12.9"
  }
 },
 "nbformat": 4,
 "nbformat_minor": 5
}
