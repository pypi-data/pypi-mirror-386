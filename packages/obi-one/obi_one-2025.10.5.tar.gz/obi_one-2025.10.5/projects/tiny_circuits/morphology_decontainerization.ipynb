{
 "cells": [
  {
   "cell_type": "code",
   "execution_count": 1,
   "metadata": {},
   "outputs": [],
   "source": [
    "import obi_one as obi\n",
    "from pathlib import Path"
   ]
  },
  {
   "cell_type": "code",
   "execution_count": 2,
   "metadata": {},
   "outputs": [],
   "source": [
    "# Volumetric\n",
    "# input_root = Path(\"../../../obi-output/extracted_small_microcircuits_volumetric\")\n",
    "# output_root = Path(\"../../../obi-output/decontainerized_small_microcircuits_volumetric\")\n",
    "\n",
    "# Hippocampus\n",
    "# NOT NEEDED (morphologies are already as individual .swc files)\n",
    "\n",
    "# Simplex\n",
    "# input_root = Path(\"../../../obi-output/extracted_small_microcircuits_simplex\")\n",
    "# output_root = Path(\"../../../obi-output/decontainerized_small_microcircuits_simplex\")\n",
    "\n",
    "# Pairs\n",
    "input_root = Path(\"../../../obi-output/extracted_small_microcircuits_motif\")\n",
    "output_root = Path(\"../../../obi-output/decontainerized_small_microcircuits_motif\")\n"
   ]
  },
  {
   "cell_type": "code",
   "execution_count": 3,
   "metadata": {},
   "outputs": [],
   "source": [
    "morphology_decontainerization_form = obi.MorphologyDecontainerizationScanConfig(\n",
    "                    initialize=obi.MorphologyDecontainerizationScanConfig.Initialize(\n",
    "                        circuit_path=[\n",
    "                            # *** OLD/TEST ***\n",
    "                            # obi.NamedPath(name=\"N_10__top_rc_nodes_dim2_rc\", path=str(input_root / \"N_10__top_rc_nodes_dim2_rc\" / \"circuit_config.json\")),\n",
    "                            # obi.NamedPath(name=\"N_10__top_nodes_dim6\", path=str(input_root / \"N_10__top_nodes_dim6\" / \"circuit_config.json\")),\n",
    "                            # obi.NamedPath(name=\"N_10__selection1\", path=str(input_root / \"N_10__selection1\" / \"circuit_config.json\")),\n",
    "                            # obi.NamedPath(name=\"N_10__selection2\", path=str(input_root / \"N_10__selection2\" / \"circuit_config.json\")),\n",
    "                            # obi.NamedPath(name=\"SingleNeuronCircuit__top_nodes_dim6__IDX0\", path=str(input_root / \"SingleNeuronCircuit__top_nodes_dim6__IDX0\" / \"circuit_config.json\")),\n",
    "                            # obi.NamedPath(name=\"SingleNeuronCircuit__top_nodes_dim6__IDX1\", path=str(input_root / \"SingleNeuronCircuit__top_nodes_dim6__IDX1\" / \"circuit_config.json\")),\n",
    "                            # ***\n",
    "\n",
    "                            # Volumetric\n",
    "                            # obi.NamedPath(name=\"nbS1-O1-vSub-nCN-HEX0-L1-01\", path=str(input_root / \"nCN\" / \"0\" / \"circuit_config.json\")),\n",
    "                            # obi.NamedPath(name=\"nbS1-O1-vSub-nCN-HEX0-L2-01\", path=str(input_root / \"nCN\" / \"1\" / \"circuit_config.json\")),\n",
    "                            # obi.NamedPath(name=\"nbS1-O1-vSub-nCN-HEX0-L3-01\", path=str(input_root / \"nCN\" / \"2\" / \"circuit_config.json\")),\n",
    "                            # obi.NamedPath(name=\"nbS1-O1-vSub-nCN-HEX0-L4-01\", path=str(input_root / \"nCN\" / \"3\" / \"circuit_config.json\")),\n",
    "                            # obi.NamedPath(name=\"nbS1-O1-vSub-nCN-HEX0-L5-01\", path=str(input_root / \"nCN\" / \"4\" / \"circuit_config.json\")),\n",
    "                            # obi.NamedPath(name=\"nbS1-O1-vSub-nCN-HEX0-L6-01\", path=str(input_root / \"nCN\" / \"5\" / \"circuit_config.json\")),\n",
    "                            #\n",
    "                            # obi.NamedPath(name=\"nbS1-O1-vSub-sCN-HEX0-L1-01\", path=str(input_root / \"sCN\" / \"0\" / \"circuit_config.json\")),\n",
    "                            # obi.NamedPath(name=\"nbS1-O1-vSub-sCN-HEX0-L2-01\", path=str(input_root / \"sCN\" / \"1\" / \"circuit_config.json\")),\n",
    "                            # obi.NamedPath(name=\"nbS1-O1-vSub-sCN-HEX0-L3-01\", path=str(input_root / \"sCN\" / \"2\" / \"circuit_config.json\")),\n",
    "                            # obi.NamedPath(name=\"nbS1-O1-vSub-sCN-HEX0-L4-01\", path=str(input_root / \"sCN\" / \"3\" / \"circuit_config.json\")),\n",
    "                            # obi.NamedPath(name=\"nbS1-O1-vSub-sCN-HEX0-L5-01\", path=str(input_root / \"sCN\" / \"4\" / \"circuit_config.json\")),\n",
    "                            # obi.NamedPath(name=\"nbS1-O1-vSub-sCN-HEX0-L6-01\", path=str(input_root / \"sCN\" / \"5\" / \"circuit_config.json\")),\n",
    "\n",
    "                            # Simplex\n",
    "                            # obi.NamedPath(name=\"nbS1-O1-sSub-post-dim2-nCN-HEX0-L1-01\", path=str(input_root / \"dim2-source\" / \"0\" / \"circuit_config.json\")),\n",
    "                            # obi.NamedPath(name=\"nbS1-O1-sSub-post-dim2-nCN-HEX0-L2-01\", path=str(input_root / \"dim2-source\" / \"1\" / \"circuit_config.json\")),\n",
    "                            # obi.NamedPath(name=\"nbS1-O1-sSub-post-dim2-nCN-HEX0-L3-01\", path=str(input_root / \"dim2-source\" / \"2\" / \"circuit_config.json\")),\n",
    "                            # obi.NamedPath(name=\"nbS1-O1-sSub-post-dim2-nCN-HEX0-L4-01\", path=str(input_root / \"dim2-source\" / \"3\" / \"circuit_config.json\")),\n",
    "                            # obi.NamedPath(name=\"nbS1-O1-sSub-post-dim2-nCN-HEX0-L5-01\", path=str(input_root / \"dim2-source\" / \"4\" / \"circuit_config.json\")),\n",
    "                            # obi.NamedPath(name=\"nbS1-O1-sSub-post-dim2-nCN-HEX0-L6-01\", path=str(input_root / \"dim2-source\" / \"5\" / \"circuit_config.json\")),\n",
    "\n",
    "                            # obi.NamedPath(name=\"nbS1-O1-sSub-pre-dim2-nCN-HEX0-L1-01\", path=str(input_root / \"dim2-target\" / \"0\" / \"circuit_config.json\")),\n",
    "                            # obi.NamedPath(name=\"nbS1-O1-sSub-pre-dim2-nCN-HEX0-L2-01\", path=str(input_root / \"dim2-target\" / \"1\" / \"circuit_config.json\")),\n",
    "                            # obi.NamedPath(name=\"nbS1-O1-sSub-pre-dim2-nCN-HEX0-L3-01\", path=str(input_root / \"dim2-target\" / \"2\" / \"circuit_config.json\")),\n",
    "                            # obi.NamedPath(name=\"nbS1-O1-sSub-pre-dim2-nCN-HEX0-L4-01\", path=str(input_root / \"dim2-target\" / \"3\" / \"circuit_config.json\")),\n",
    "                            # obi.NamedPath(name=\"nbS1-O1-sSub-pre-dim2-nCN-HEX0-L5-01\", path=str(input_root / \"dim2-target\" / \"4\" / \"circuit_config.json\")),\n",
    "                            # obi.NamedPath(name=\"nbS1-O1-sSub-pre-dim2-nCN-HEX0-L6-01\", path=str(input_root / \"dim2-target\" / \"5\" / \"circuit_config.json\")),\n",
    "\n",
    "                            # obi.NamedPath(name=\"nbS1-O1-sSub-post-dim5-nCN-HEX0-L1-01\", path=str(input_root / \"dim10-source\" / \"0\" / \"circuit_config.json\")),\n",
    "                            # obi.NamedPath(name=\"nbS1-O1-sSub-post-dim6-nCN-HEX0-L2-01\", path=str(input_root / \"dim10-source\" / \"1\" / \"circuit_config.json\")),\n",
    "                            # obi.NamedPath(name=\"nbS1-O1-sSub-post-dim6-nCN-HEX0-L3-01\", path=str(input_root / \"dim10-source\" / \"2\" / \"circuit_config.json\")),\n",
    "                            # obi.NamedPath(name=\"nbS1-O1-sSub-post-dim5-nCN-HEX0-L4-01\", path=str(input_root / \"dim10-source\" / \"3\" / \"circuit_config.json\")),\n",
    "                            # obi.NamedPath(name=\"nbS1-O1-sSub-post-dim5-nCN-HEX0-L5-01\", path=str(input_root / \"dim10-source\" / \"4\" / \"circuit_config.json\")),\n",
    "                            # obi.NamedPath(name=\"nbS1-O1-sSub-post-dim6-nCN-HEX0-L6-01\", path=str(input_root / \"dim10-source\" / \"5\" / \"circuit_config.json\")),\n",
    "\n",
    "                            # obi.NamedPath(name=\"nbS1-O1-sSub-pre-dim5-nCN-HEX0-L1-01\", path=str(input_root / \"dim10-target\" / \"0\" / \"circuit_config.json\")),\n",
    "                            # obi.NamedPath(name=\"nbS1-O1-sSub-pre-dim4-nCN-HEX0-L2-01\", path=str(input_root / \"dim10-target\" / \"1\" / \"circuit_config.json\")),\n",
    "                            # obi.NamedPath(name=\"nbS1-O1-sSub-pre-dim4-nCN-HEX0-L3-01\", path=str(input_root / \"dim10-target\" / \"2\" / \"circuit_config.json\")),\n",
    "                            # obi.NamedPath(name=\"nbS1-O1-sSub-pre-dim5-nCN-HEX0-L4-01\", path=str(input_root / \"dim10-target\" / \"3\" / \"circuit_config.json\")),\n",
    "                            # obi.NamedPath(name=\"nbS1-O1-sSub-pre-dim6-nCN-HEX0-L5-01\", path=str(input_root / \"dim10-target\" / \"4\" / \"circuit_config.json\")),\n",
    "                            # obi.NamedPath(name=\"nbS1-O1-sSub-pre-dim5-nCN-HEX0-L6-01\", path=str(input_root / \"dim10-target\" / \"5\" / \"circuit_config.json\")),\n",
    "\n",
    "                            # Pairs\n",
    "                            obi.NamedPath(name=\"nbS1-O1-E2PV-maxNsyn-HEX0-L2\", path=str(input_root / \"E2I\" / \"0\" / \"circuit_config.json\")),\n",
    "                            obi.NamedPath(name=\"nbS1-O1-E2Sst-maxNsyn-HEX0-L2\", path=str(input_root / \"E2I\" / \"1\" / \"circuit_config.json\")),\n",
    "                            obi.NamedPath(name=\"nbS1-O1-E2PV-maxNsyn-HEX0-L3\", path=str(input_root / \"E2I\" / \"2\" / \"circuit_config.json\")),\n",
    "                            obi.NamedPath(name=\"nbS1-O1-E2Sst-maxNsyn-HEX0-L3\", path=str(input_root / \"E2I\" / \"3\" / \"circuit_config.json\")),\n",
    "                            obi.NamedPath(name=\"nbS1-O1-E2PV-maxNsyn-HEX0-L4\", path=str(input_root / \"E2I\" / \"4\" / \"circuit_config.json\")),\n",
    "                            obi.NamedPath(name=\"nbS1-O1-E2Sst-maxNsyn-HEX0-L4\", path=str(input_root / \"E2I\" / \"5\" / \"circuit_config.json\")),\n",
    "                            obi.NamedPath(name=\"nbS1-O1-E2PV-maxNsyn-HEX0-L5\", path=str(input_root / \"E2I\" / \"6\" / \"circuit_config.json\")),\n",
    "                            obi.NamedPath(name=\"nbS1-O1-E2Sst-maxNsyn-HEX0-L5\", path=str(input_root / \"E2I\" / \"7\" / \"circuit_config.json\")),\n",
    "                            obi.NamedPath(name=\"nbS1-O1-E2PV-maxNsyn-HEX0-L6\", path=str(input_root / \"E2I\" / \"8\" / \"circuit_config.json\")),\n",
    "                            obi.NamedPath(name=\"nbS1-O1-E2Sst-maxNsyn-HEX0-L6\", path=str(input_root / \"E2I\" / \"9\" / \"circuit_config.json\")),\n",
    "\n",
    "                            obi.NamedPath(name=\"nbS1-O1-PV2E-maxNsyn-HEX0-L2\", path=str(input_root / \"I2E\" / \"0\" / \"circuit_config.json\")),\n",
    "                            obi.NamedPath(name=\"nbS1-O1-Sst2E-maxNsyn-HEX0-L2\", path=str(input_root / \"I2E\" / \"1\" / \"circuit_config.json\")),\n",
    "                            obi.NamedPath(name=\"nbS1-O1-PV2E-maxNsyn-HEX0-L3\", path=str(input_root / \"I2E\" / \"2\" / \"circuit_config.json\")),\n",
    "                            obi.NamedPath(name=\"nbS1-O1-Sst2E-maxNsyn-HEX0-L3\", path=str(input_root / \"I2E\" / \"3\" / \"circuit_config.json\")),\n",
    "                            obi.NamedPath(name=\"nbS1-O1-PV2E-maxNsyn-HEX0-L4\", path=str(input_root / \"I2E\" / \"4\" / \"circuit_config.json\")),\n",
    "                            obi.NamedPath(name=\"nbS1-O1-Sst2E-maxNsyn-HEX0-L4\", path=str(input_root / \"I2E\" / \"5\" / \"circuit_config.json\")),\n",
    "                            obi.NamedPath(name=\"nbS1-O1-PV2E-maxNsyn-HEX0-L5\", path=str(input_root / \"I2E\" / \"6\" / \"circuit_config.json\")),\n",
    "                            obi.NamedPath(name=\"nbS1-O1-Sst2E-maxNsyn-HEX0-L5\", path=str(input_root / \"I2E\" / \"7\" / \"circuit_config.json\")),\n",
    "                            obi.NamedPath(name=\"nbS1-O1-PV2E-maxNsyn-HEX0-L6\", path=str(input_root / \"I2E\" / \"8\" / \"circuit_config.json\")),\n",
    "                            obi.NamedPath(name=\"nbS1-O1-Sst2E-maxNsyn-HEX0-L6\", path=str(input_root / \"I2E\" / \"9\" / \"circuit_config.json\")),\n",
    "\n",
    "                            obi.NamedPath(name=\"nbS1-O1-ErcPV-maxNsyn-HEX0-L2\", path=str(input_root / \"ErcI\" / \"0\" / \"circuit_config.json\")),\n",
    "                            obi.NamedPath(name=\"nbS1-O1-ErcSst-maxNsyn-HEX0-L2\", path=str(input_root / \"ErcI\" / \"1\" / \"circuit_config.json\")),\n",
    "                            obi.NamedPath(name=\"nbS1-O1-ErcPV-maxNsyn-HEX0-L3\", path=str(input_root / \"ErcI\" / \"2\" / \"circuit_config.json\")),\n",
    "                            obi.NamedPath(name=\"nbS1-O1-ErcSst-maxNsyn-HEX0-L3\", path=str(input_root / \"ErcI\" / \"3\" / \"circuit_config.json\")),\n",
    "                            obi.NamedPath(name=\"nbS1-O1-ErcPV-maxNsyn-HEX0-L4\", path=str(input_root / \"ErcI\" / \"4\" / \"circuit_config.json\")),\n",
    "                            obi.NamedPath(name=\"nbS1-O1-ErcSst-maxNsyn-HEX0-L4\", path=str(input_root / \"ErcI\" / \"5\" / \"circuit_config.json\")),\n",
    "                            obi.NamedPath(name=\"nbS1-O1-ErcPV-maxNsyn-HEX0-L5\", path=str(input_root / \"ErcI\" / \"6\" / \"circuit_config.json\")),\n",
    "                            obi.NamedPath(name=\"nbS1-O1-ErcSst-maxNsyn-HEX0-L5\", path=str(input_root / \"ErcI\" / \"7\" / \"circuit_config.json\")),\n",
    "                            obi.NamedPath(name=\"nbS1-O1-ErcPV-maxNsyn-HEX0-L6\", path=str(input_root / \"ErcI\" / \"8\" / \"circuit_config.json\")),\n",
    "                            obi.NamedPath(name=\"nbS1-O1-ErcSst-maxNsyn-HEX0-L6\", path=str(input_root / \"ErcI\" / \"9\" / \"circuit_config.json\")),\n",
    "                        ],\n",
    "                        output_format = \"swc\"\n",
    "                    )\n",
    ")\n",
    "\n",
    "grid_scan = obi.GridScanGenerationTask(form=morphology_decontainerization_form, output_root=output_root, coordinate_directory_option=\"VALUE\")"
   ]
  },
  {
   "cell_type": "code",
   "execution_count": 4,
   "metadata": {},
   "outputs": [
    {
     "name": "stdout",
     "output_type": "stream",
     "text": [
      "[2025-06-20 12:16:53,235] INFO: None\n",
      "Running morphology decontainerization for 'nbS1-O1-E2PV-maxNsyn-HEX0-L2'\n",
      "Copying circuit to output folder...\n",
      "...DONE\n",
      "> 2 unique morphologies in population 'S1nonbarrel_neurons' (2)\n"
     ]
    },
    {
     "name": "stderr",
     "output_type": "stream",
     "text": [
      "Extracting/converting from .h5 container: 100%|███████████████████████████████████████████████████| 2/2 [00:00<00:00, 34.75it/s]\n"
     ]
    },
    {
     "name": "stdout",
     "output_type": "stream",
     "text": [
      "Extracted/converted 2 morphologies from .h5 container (0 already existed)\n",
      "Cleaning morphology container(s): ['/Users/pokorny/JupyterLab/git/obi-output/decontainerized_small_microcircuits_motif/nbS1-O1-E2PV-maxNsyn-HEX0-L2/morphologies/merged-morphologies.h5']\n",
      "Cleaning morphology folder(s): ['/Users/pokorny/JupyterLab/git/obi-output/decontainerized_small_microcircuits_motif/nbS1-O1-E2PV-maxNsyn-HEX0-L2/morphologies/h5']\n",
      "Checking all morphologies in population 'S1nonbarrel_neurons'\n",
      "Morphology decontainerization DONE\n",
      "Running morphology decontainerization for 'nbS1-O1-E2Sst-maxNsyn-HEX0-L2'\n",
      "Copying circuit to output folder...\n",
      "...DONE\n",
      "> 2 unique morphologies in population 'S1nonbarrel_neurons' (2)\n"
     ]
    },
    {
     "name": "stderr",
     "output_type": "stream",
     "text": [
      "Extracting/converting from .h5 container: 100%|███████████████████████████████████████████████████| 2/2 [00:00<00:00, 97.74it/s]"
     ]
    },
    {
     "name": "stdout",
     "output_type": "stream",
     "text": [
      "Extracted/converted 2 morphologies from .h5 container (0 already existed)\n",
      "Cleaning morphology container(s): ['/Users/pokorny/JupyterLab/git/obi-output/decontainerized_small_microcircuits_motif/nbS1-O1-E2Sst-maxNsyn-HEX0-L2/morphologies/merged-morphologies.h5']\n",
      "Cleaning morphology folder(s): ['/Users/pokorny/JupyterLab/git/obi-output/decontainerized_small_microcircuits_motif/nbS1-O1-E2Sst-maxNsyn-HEX0-L2/morphologies/h5']\n",
      "Checking all morphologies in population 'S1nonbarrel_neurons'\n",
      "Morphology decontainerization DONE\n",
      "Running morphology decontainerization for 'nbS1-O1-E2PV-maxNsyn-HEX0-L3'\n",
      "Copying circuit to output folder...\n"
     ]
    },
    {
     "name": "stderr",
     "output_type": "stream",
     "text": [
      "\n",
      "/Users/pokorny/JupyterLab/git/obi-one/.venv/lib/python3.12/site-packages/morph_tool/transform.py:41: RuntimeWarning: divide by zero encountered in dot\n",
      "  return np.dot(np.column_stack((p, np.ones(len(p)))), A)[:, :3]\n",
      "/Users/pokorny/JupyterLab/git/obi-one/.venv/lib/python3.12/site-packages/morph_tool/transform.py:41: RuntimeWarning: overflow encountered in dot\n",
      "  return np.dot(np.column_stack((p, np.ones(len(p)))), A)[:, :3]\n",
      "/Users/pokorny/JupyterLab/git/obi-one/.venv/lib/python3.12/site-packages/morph_tool/transform.py:41: RuntimeWarning: invalid value encountered in dot\n",
      "  return np.dot(np.column_stack((p, np.ones(len(p)))), A)[:, :3]\n"
     ]
    },
    {
     "name": "stdout",
     "output_type": "stream",
     "text": [
      "...DONE\n",
      "> 2 unique morphologies in population 'S1nonbarrel_neurons' (2)\n"
     ]
    },
    {
     "name": "stderr",
     "output_type": "stream",
     "text": [
      "Extracting/converting from .h5 container: 100%|███████████████████████████████████████████████████| 2/2 [00:00<00:00, 61.58it/s]\n"
     ]
    },
    {
     "name": "stdout",
     "output_type": "stream",
     "text": [
      "Extracted/converted 2 morphologies from .h5 container (0 already existed)\n",
      "Cleaning morphology container(s): ['/Users/pokorny/JupyterLab/git/obi-output/decontainerized_small_microcircuits_motif/nbS1-O1-E2PV-maxNsyn-HEX0-L3/morphologies/merged-morphologies.h5']\n",
      "Cleaning morphology folder(s): ['/Users/pokorny/JupyterLab/git/obi-output/decontainerized_small_microcircuits_motif/nbS1-O1-E2PV-maxNsyn-HEX0-L3/morphologies/h5']\n",
      "Checking all morphologies in population 'S1nonbarrel_neurons'\n",
      "Morphology decontainerization DONE\n",
      "Running morphology decontainerization for 'nbS1-O1-E2Sst-maxNsyn-HEX0-L3'\n",
      "Copying circuit to output folder...\n",
      "...DONE\n",
      "> 2 unique morphologies in population 'S1nonbarrel_neurons' (2)\n"
     ]
    },
    {
     "name": "stderr",
     "output_type": "stream",
     "text": [
      "Extracting/converting from .h5 container: 100%|███████████████████████████████████████████████████| 2/2 [00:00<00:00, 59.70it/s]\n"
     ]
    },
    {
     "name": "stdout",
     "output_type": "stream",
     "text": [
      "Extracted/converted 2 morphologies from .h5 container (0 already existed)\n",
      "Cleaning morphology container(s): ['/Users/pokorny/JupyterLab/git/obi-output/decontainerized_small_microcircuits_motif/nbS1-O1-E2Sst-maxNsyn-HEX0-L3/morphologies/merged-morphologies.h5']\n",
      "Cleaning morphology folder(s): ['/Users/pokorny/JupyterLab/git/obi-output/decontainerized_small_microcircuits_motif/nbS1-O1-E2Sst-maxNsyn-HEX0-L3/morphologies/h5']\n",
      "Checking all morphologies in population 'S1nonbarrel_neurons'\n",
      "Morphology decontainerization DONE\n",
      "Running morphology decontainerization for 'nbS1-O1-E2PV-maxNsyn-HEX0-L4'\n",
      "Copying circuit to output folder...\n",
      "...DONE\n",
      "> 2 unique morphologies in population 'S1nonbarrel_neurons' (2)\n"
     ]
    },
    {
     "name": "stderr",
     "output_type": "stream",
     "text": [
      "Extracting/converting from .h5 container: 100%|███████████████████████████████████████████████████| 2/2 [00:00<00:00, 69.24it/s]"
     ]
    },
    {
     "name": "stdout",
     "output_type": "stream",
     "text": [
      "Extracted/converted 2 morphologies from .h5 container (0 already existed)\n",
      "Cleaning morphology container(s): ['/Users/pokorny/JupyterLab/git/obi-output/decontainerized_small_microcircuits_motif/nbS1-O1-E2PV-maxNsyn-HEX0-L4/morphologies/merged-morphologies.h5']\n",
      "Cleaning morphology folder(s): ['/Users/pokorny/JupyterLab/git/obi-output/decontainerized_small_microcircuits_motif/nbS1-O1-E2PV-maxNsyn-HEX0-L4/morphologies/h5']\n",
      "Checking all morphologies in population 'S1nonbarrel_neurons'\n"
     ]
    },
    {
     "name": "stderr",
     "output_type": "stream",
     "text": [
      "\n",
      "/Users/pokorny/JupyterLab/git/obi-one/.venv/lib/python3.12/site-packages/morph_tool/transform.py:41: RuntimeWarning: divide by zero encountered in dot\n",
      "  return np.dot(np.column_stack((p, np.ones(len(p)))), A)[:, :3]\n",
      "/Users/pokorny/JupyterLab/git/obi-one/.venv/lib/python3.12/site-packages/morph_tool/transform.py:41: RuntimeWarning: overflow encountered in dot\n",
      "  return np.dot(np.column_stack((p, np.ones(len(p)))), A)[:, :3]\n",
      "/Users/pokorny/JupyterLab/git/obi-one/.venv/lib/python3.12/site-packages/morph_tool/transform.py:41: RuntimeWarning: invalid value encountered in dot\n",
      "  return np.dot(np.column_stack((p, np.ones(len(p)))), A)[:, :3]\n"
     ]
    },
    {
     "name": "stdout",
     "output_type": "stream",
     "text": [
      "Morphology decontainerization DONE\n",
      "Running morphology decontainerization for 'nbS1-O1-E2Sst-maxNsyn-HEX0-L4'\n",
      "Copying circuit to output folder...\n",
      "...DONE\n",
      "> 2 unique morphologies in population 'S1nonbarrel_neurons' (2)\n"
     ]
    },
    {
     "name": "stderr",
     "output_type": "stream",
     "text": [
      "Extracting/converting from .h5 container: 100%|███████████████████████████████████████████████████| 2/2 [00:00<00:00, 84.18it/s]\n",
      "/Users/pokorny/JupyterLab/git/obi-one/.venv/lib/python3.12/site-packages/morph_tool/transform.py:41: RuntimeWarning: divide by zero encountered in dot\n",
      "  return np.dot(np.column_stack((p, np.ones(len(p)))), A)[:, :3]\n",
      "/Users/pokorny/JupyterLab/git/obi-one/.venv/lib/python3.12/site-packages/morph_tool/transform.py:41: RuntimeWarning: overflow encountered in dot\n",
      "  return np.dot(np.column_stack((p, np.ones(len(p)))), A)[:, :3]\n",
      "/Users/pokorny/JupyterLab/git/obi-one/.venv/lib/python3.12/site-packages/morph_tool/transform.py:41: RuntimeWarning: invalid value encountered in dot\n",
      "  return np.dot(np.column_stack((p, np.ones(len(p)))), A)[:, :3]\n"
     ]
    },
    {
     "name": "stdout",
     "output_type": "stream",
     "text": [
      "Extracted/converted 2 morphologies from .h5 container (0 already existed)\n",
      "Cleaning morphology container(s): ['/Users/pokorny/JupyterLab/git/obi-output/decontainerized_small_microcircuits_motif/nbS1-O1-E2Sst-maxNsyn-HEX0-L4/morphologies/merged-morphologies.h5']\n",
      "Cleaning morphology folder(s): ['/Users/pokorny/JupyterLab/git/obi-output/decontainerized_small_microcircuits_motif/nbS1-O1-E2Sst-maxNsyn-HEX0-L4/morphologies/h5']\n",
      "Checking all morphologies in population 'S1nonbarrel_neurons'\n",
      "Morphology decontainerization DONE\n",
      "Running morphology decontainerization for 'nbS1-O1-E2PV-maxNsyn-HEX0-L5'\n",
      "Copying circuit to output folder...\n",
      "...DONE\n",
      "> 2 unique morphologies in population 'S1nonbarrel_neurons' (2)\n"
     ]
    },
    {
     "name": "stderr",
     "output_type": "stream",
     "text": [
      "Extracting/converting from .h5 container: 100%|███████████████████████████████████████████████████| 2/2 [00:00<00:00, 59.69it/s]\n",
      "/Users/pokorny/JupyterLab/git/obi-one/.venv/lib/python3.12/site-packages/morph_tool/transform.py:41: RuntimeWarning: divide by zero encountered in dot\n",
      "  return np.dot(np.column_stack((p, np.ones(len(p)))), A)[:, :3]\n",
      "/Users/pokorny/JupyterLab/git/obi-one/.venv/lib/python3.12/site-packages/morph_tool/transform.py:41: RuntimeWarning: overflow encountered in dot\n",
      "  return np.dot(np.column_stack((p, np.ones(len(p)))), A)[:, :3]\n",
      "/Users/pokorny/JupyterLab/git/obi-one/.venv/lib/python3.12/site-packages/morph_tool/transform.py:41: RuntimeWarning: invalid value encountered in dot\n",
      "  return np.dot(np.column_stack((p, np.ones(len(p)))), A)[:, :3]\n"
     ]
    },
    {
     "name": "stdout",
     "output_type": "stream",
     "text": [
      "Extracted/converted 2 morphologies from .h5 container (0 already existed)\n",
      "Cleaning morphology container(s): ['/Users/pokorny/JupyterLab/git/obi-output/decontainerized_small_microcircuits_motif/nbS1-O1-E2PV-maxNsyn-HEX0-L5/morphologies/merged-morphologies.h5']\n",
      "Cleaning morphology folder(s): ['/Users/pokorny/JupyterLab/git/obi-output/decontainerized_small_microcircuits_motif/nbS1-O1-E2PV-maxNsyn-HEX0-L5/morphologies/h5']\n",
      "Checking all morphologies in population 'S1nonbarrel_neurons'\n",
      "Morphology decontainerization DONE\n",
      "Running morphology decontainerization for 'nbS1-O1-E2Sst-maxNsyn-HEX0-L5'\n",
      "Copying circuit to output folder...\n",
      "...DONE\n",
      "> 2 unique morphologies in population 'S1nonbarrel_neurons' (2)\n"
     ]
    },
    {
     "name": "stderr",
     "output_type": "stream",
     "text": [
      "Extracting/converting from .h5 container: 100%|███████████████████████████████████████████████████| 2/2 [00:00<00:00, 77.70it/s]"
     ]
    },
    {
     "name": "stdout",
     "output_type": "stream",
     "text": [
      "Extracted/converted 2 morphologies from .h5 container (0 already existed)\n",
      "Cleaning morphology container(s): ['/Users/pokorny/JupyterLab/git/obi-output/decontainerized_small_microcircuits_motif/nbS1-O1-E2Sst-maxNsyn-HEX0-L5/morphologies/merged-morphologies.h5']\n",
      "Cleaning morphology folder(s): ['/Users/pokorny/JupyterLab/git/obi-output/decontainerized_small_microcircuits_motif/nbS1-O1-E2Sst-maxNsyn-HEX0-L5/morphologies/h5']\n",
      "Checking all morphologies in population 'S1nonbarrel_neurons'\n"
     ]
    },
    {
     "name": "stderr",
     "output_type": "stream",
     "text": [
      "\n",
      "/Users/pokorny/JupyterLab/git/obi-one/.venv/lib/python3.12/site-packages/morph_tool/transform.py:41: RuntimeWarning: divide by zero encountered in dot\n",
      "  return np.dot(np.column_stack((p, np.ones(len(p)))), A)[:, :3]\n",
      "/Users/pokorny/JupyterLab/git/obi-one/.venv/lib/python3.12/site-packages/morph_tool/transform.py:41: RuntimeWarning: overflow encountered in dot\n",
      "  return np.dot(np.column_stack((p, np.ones(len(p)))), A)[:, :3]\n",
      "/Users/pokorny/JupyterLab/git/obi-one/.venv/lib/python3.12/site-packages/morph_tool/transform.py:41: RuntimeWarning: invalid value encountered in dot\n",
      "  return np.dot(np.column_stack((p, np.ones(len(p)))), A)[:, :3]\n"
     ]
    },
    {
     "name": "stdout",
     "output_type": "stream",
     "text": [
      "Morphology decontainerization DONE\n",
      "Running morphology decontainerization for 'nbS1-O1-E2PV-maxNsyn-HEX0-L6'\n",
      "Copying circuit to output folder...\n",
      "...DONE\n",
      "> 2 unique morphologies in population 'S1nonbarrel_neurons' (2)\n"
     ]
    },
    {
     "name": "stderr",
     "output_type": "stream",
     "text": [
      "Extracting/converting from .h5 container: 100%|██████████████████████████████████████████████████| 2/2 [00:00<00:00, 103.07it/s]\n",
      "/Users/pokorny/JupyterLab/git/obi-one/.venv/lib/python3.12/site-packages/morph_tool/transform.py:41: RuntimeWarning: divide by zero encountered in dot\n",
      "  return np.dot(np.column_stack((p, np.ones(len(p)))), A)[:, :3]\n",
      "/Users/pokorny/JupyterLab/git/obi-one/.venv/lib/python3.12/site-packages/morph_tool/transform.py:41: RuntimeWarning: overflow encountered in dot\n",
      "  return np.dot(np.column_stack((p, np.ones(len(p)))), A)[:, :3]\n",
      "/Users/pokorny/JupyterLab/git/obi-one/.venv/lib/python3.12/site-packages/morph_tool/transform.py:41: RuntimeWarning: invalid value encountered in dot\n",
      "  return np.dot(np.column_stack((p, np.ones(len(p)))), A)[:, :3]\n"
     ]
    },
    {
     "name": "stdout",
     "output_type": "stream",
     "text": [
      "Extracted/converted 2 morphologies from .h5 container (0 already existed)\n",
      "Cleaning morphology container(s): ['/Users/pokorny/JupyterLab/git/obi-output/decontainerized_small_microcircuits_motif/nbS1-O1-E2PV-maxNsyn-HEX0-L6/morphologies/merged-morphologies.h5']\n",
      "Cleaning morphology folder(s): ['/Users/pokorny/JupyterLab/git/obi-output/decontainerized_small_microcircuits_motif/nbS1-O1-E2PV-maxNsyn-HEX0-L6/morphologies/h5']\n",
      "Checking all morphologies in population 'S1nonbarrel_neurons'\n",
      "Morphology decontainerization DONE\n",
      "Running morphology decontainerization for 'nbS1-O1-E2Sst-maxNsyn-HEX0-L6'\n",
      "Copying circuit to output folder...\n",
      "...DONE\n",
      "> 2 unique morphologies in population 'S1nonbarrel_neurons' (2)\n"
     ]
    },
    {
     "name": "stderr",
     "output_type": "stream",
     "text": [
      "Extracting/converting from .h5 container: 100%|███████████████████████████████████████████████████| 2/2 [00:00<00:00, 59.70it/s]\n",
      "/Users/pokorny/JupyterLab/git/obi-one/.venv/lib/python3.12/site-packages/morph_tool/transform.py:41: RuntimeWarning: divide by zero encountered in dot\n",
      "  return np.dot(np.column_stack((p, np.ones(len(p)))), A)[:, :3]\n",
      "/Users/pokorny/JupyterLab/git/obi-one/.venv/lib/python3.12/site-packages/morph_tool/transform.py:41: RuntimeWarning: overflow encountered in dot\n",
      "  return np.dot(np.column_stack((p, np.ones(len(p)))), A)[:, :3]\n",
      "/Users/pokorny/JupyterLab/git/obi-one/.venv/lib/python3.12/site-packages/morph_tool/transform.py:41: RuntimeWarning: invalid value encountered in dot\n",
      "  return np.dot(np.column_stack((p, np.ones(len(p)))), A)[:, :3]\n",
      "/Users/pokorny/JupyterLab/git/obi-one/.venv/lib/python3.12/site-packages/morph_tool/transform.py:41: RuntimeWarning: divide by zero encountered in dot\n",
      "  return np.dot(np.column_stack((p, np.ones(len(p)))), A)[:, :3]\n",
      "/Users/pokorny/JupyterLab/git/obi-one/.venv/lib/python3.12/site-packages/morph_tool/transform.py:41: RuntimeWarning: overflow encountered in dot\n",
      "  return np.dot(np.column_stack((p, np.ones(len(p)))), A)[:, :3]\n",
      "/Users/pokorny/JupyterLab/git/obi-one/.venv/lib/python3.12/site-packages/morph_tool/transform.py:41: RuntimeWarning: invalid value encountered in dot\n",
      "  return np.dot(np.column_stack((p, np.ones(len(p)))), A)[:, :3]\n"
     ]
    },
    {
     "name": "stdout",
     "output_type": "stream",
     "text": [
      "Extracted/converted 2 morphologies from .h5 container (0 already existed)\n",
      "Cleaning morphology container(s): ['/Users/pokorny/JupyterLab/git/obi-output/decontainerized_small_microcircuits_motif/nbS1-O1-E2Sst-maxNsyn-HEX0-L6/morphologies/merged-morphologies.h5']\n",
      "Cleaning morphology folder(s): ['/Users/pokorny/JupyterLab/git/obi-output/decontainerized_small_microcircuits_motif/nbS1-O1-E2Sst-maxNsyn-HEX0-L6/morphologies/h5']\n",
      "Checking all morphologies in population 'S1nonbarrel_neurons'\n",
      "Morphology decontainerization DONE\n",
      "Running morphology decontainerization for 'nbS1-O1-PV2E-maxNsyn-HEX0-L2'\n",
      "Copying circuit to output folder...\n",
      "...DONE\n",
      "> 2 unique morphologies in population 'S1nonbarrel_neurons' (2)\n"
     ]
    },
    {
     "name": "stderr",
     "output_type": "stream",
     "text": [
      "Extracting/converting from .h5 container: 100%|███████████████████████████████████████████████████| 2/2 [00:00<00:00, 41.14it/s]"
     ]
    },
    {
     "name": "stdout",
     "output_type": "stream",
     "text": [
      "Extracted/converted 2 morphologies from .h5 container (0 already existed)\n",
      "Cleaning morphology container(s): ['/Users/pokorny/JupyterLab/git/obi-output/decontainerized_small_microcircuits_motif/nbS1-O1-PV2E-maxNsyn-HEX0-L2/morphologies/merged-morphologies.h5']\n",
      "Cleaning morphology folder(s): ['/Users/pokorny/JupyterLab/git/obi-output/decontainerized_small_microcircuits_motif/nbS1-O1-PV2E-maxNsyn-HEX0-L2/morphologies/h5']\n",
      "Checking all morphologies in population 'S1nonbarrel_neurons'\n"
     ]
    },
    {
     "name": "stderr",
     "output_type": "stream",
     "text": [
      "\n",
      "/Users/pokorny/JupyterLab/git/obi-one/.venv/lib/python3.12/site-packages/morph_tool/transform.py:41: RuntimeWarning: divide by zero encountered in dot\n",
      "  return np.dot(np.column_stack((p, np.ones(len(p)))), A)[:, :3]\n",
      "/Users/pokorny/JupyterLab/git/obi-one/.venv/lib/python3.12/site-packages/morph_tool/transform.py:41: RuntimeWarning: overflow encountered in dot\n",
      "  return np.dot(np.column_stack((p, np.ones(len(p)))), A)[:, :3]\n",
      "/Users/pokorny/JupyterLab/git/obi-one/.venv/lib/python3.12/site-packages/morph_tool/transform.py:41: RuntimeWarning: invalid value encountered in dot\n",
      "  return np.dot(np.column_stack((p, np.ones(len(p)))), A)[:, :3]\n"
     ]
    },
    {
     "name": "stdout",
     "output_type": "stream",
     "text": [
      "Morphology decontainerization DONE\n",
      "Running morphology decontainerization for 'nbS1-O1-Sst2E-maxNsyn-HEX0-L2'\n",
      "Copying circuit to output folder...\n",
      "...DONE\n",
      "> 2 unique morphologies in population 'S1nonbarrel_neurons' (2)\n"
     ]
    },
    {
     "name": "stderr",
     "output_type": "stream",
     "text": [
      "Extracting/converting from .h5 container: 100%|██████████████████████████████████████████████████| 2/2 [00:00<00:00, 124.40it/s]\n"
     ]
    },
    {
     "name": "stdout",
     "output_type": "stream",
     "text": [
      "Extracted/converted 2 morphologies from .h5 container (0 already existed)\n",
      "Cleaning morphology container(s): ['/Users/pokorny/JupyterLab/git/obi-output/decontainerized_small_microcircuits_motif/nbS1-O1-Sst2E-maxNsyn-HEX0-L2/morphologies/merged-morphologies.h5']\n",
      "Cleaning morphology folder(s): ['/Users/pokorny/JupyterLab/git/obi-output/decontainerized_small_microcircuits_motif/nbS1-O1-Sst2E-maxNsyn-HEX0-L2/morphologies/h5']\n",
      "Checking all morphologies in population 'S1nonbarrel_neurons'\n",
      "Morphology decontainerization DONE\n",
      "Running morphology decontainerization for 'nbS1-O1-PV2E-maxNsyn-HEX0-L3'\n",
      "Copying circuit to output folder...\n",
      "...DONE\n",
      "> 2 unique morphologies in population 'S1nonbarrel_neurons' (2)\n"
     ]
    },
    {
     "name": "stderr",
     "output_type": "stream",
     "text": [
      "Extracting/converting from .h5 container: 100%|███████████████████████████████████████████████████| 2/2 [00:00<00:00, 33.10it/s]\n",
      "/Users/pokorny/JupyterLab/git/obi-one/.venv/lib/python3.12/site-packages/morph_tool/transform.py:41: RuntimeWarning: divide by zero encountered in dot\n",
      "  return np.dot(np.column_stack((p, np.ones(len(p)))), A)[:, :3]\n",
      "/Users/pokorny/JupyterLab/git/obi-one/.venv/lib/python3.12/site-packages/morph_tool/transform.py:41: RuntimeWarning: overflow encountered in dot\n",
      "  return np.dot(np.column_stack((p, np.ones(len(p)))), A)[:, :3]\n",
      "/Users/pokorny/JupyterLab/git/obi-one/.venv/lib/python3.12/site-packages/morph_tool/transform.py:41: RuntimeWarning: invalid value encountered in dot\n",
      "  return np.dot(np.column_stack((p, np.ones(len(p)))), A)[:, :3]\n"
     ]
    },
    {
     "name": "stdout",
     "output_type": "stream",
     "text": [
      "Extracted/converted 2 morphologies from .h5 container (0 already existed)\n",
      "Cleaning morphology container(s): ['/Users/pokorny/JupyterLab/git/obi-output/decontainerized_small_microcircuits_motif/nbS1-O1-PV2E-maxNsyn-HEX0-L3/morphologies/merged-morphologies.h5']\n",
      "Cleaning morphology folder(s): ['/Users/pokorny/JupyterLab/git/obi-output/decontainerized_small_microcircuits_motif/nbS1-O1-PV2E-maxNsyn-HEX0-L3/morphologies/h5']\n",
      "Checking all morphologies in population 'S1nonbarrel_neurons'\n"
     ]
    },
    {
     "name": "stderr",
     "output_type": "stream",
     "text": [
      "/Users/pokorny/JupyterLab/git/obi-one/.venv/lib/python3.12/site-packages/morph_tool/transform.py:41: RuntimeWarning: divide by zero encountered in dot\n",
      "  return np.dot(np.column_stack((p, np.ones(len(p)))), A)[:, :3]\n",
      "/Users/pokorny/JupyterLab/git/obi-one/.venv/lib/python3.12/site-packages/morph_tool/transform.py:41: RuntimeWarning: overflow encountered in dot\n",
      "  return np.dot(np.column_stack((p, np.ones(len(p)))), A)[:, :3]\n",
      "/Users/pokorny/JupyterLab/git/obi-one/.venv/lib/python3.12/site-packages/morph_tool/transform.py:41: RuntimeWarning: invalid value encountered in dot\n",
      "  return np.dot(np.column_stack((p, np.ones(len(p)))), A)[:, :3]\n"
     ]
    },
    {
     "name": "stdout",
     "output_type": "stream",
     "text": [
      "Morphology decontainerization DONE\n",
      "Running morphology decontainerization for 'nbS1-O1-Sst2E-maxNsyn-HEX0-L3'\n",
      "Copying circuit to output folder...\n",
      "...DONE\n",
      "> 2 unique morphologies in population 'S1nonbarrel_neurons' (2)\n"
     ]
    },
    {
     "name": "stderr",
     "output_type": "stream",
     "text": [
      "Extracting/converting from .h5 container: 100%|███████████████████████████████████████████████████| 2/2 [00:00<00:00, 85.19it/s]\n"
     ]
    },
    {
     "name": "stdout",
     "output_type": "stream",
     "text": [
      "Extracted/converted 2 morphologies from .h5 container (0 already existed)\n",
      "Cleaning morphology container(s): ['/Users/pokorny/JupyterLab/git/obi-output/decontainerized_small_microcircuits_motif/nbS1-O1-Sst2E-maxNsyn-HEX0-L3/morphologies/merged-morphologies.h5']\n",
      "Cleaning morphology folder(s): ['/Users/pokorny/JupyterLab/git/obi-output/decontainerized_small_microcircuits_motif/nbS1-O1-Sst2E-maxNsyn-HEX0-L3/morphologies/h5']\n",
      "Checking all morphologies in population 'S1nonbarrel_neurons'\n",
      "Morphology decontainerization DONE\n",
      "Running morphology decontainerization for 'nbS1-O1-PV2E-maxNsyn-HEX0-L4'\n",
      "Copying circuit to output folder...\n",
      "...DONE\n",
      "> 2 unique morphologies in population 'S1nonbarrel_neurons' (2)\n"
     ]
    },
    {
     "name": "stderr",
     "output_type": "stream",
     "text": [
      "Extracting/converting from .h5 container: 100%|███████████████████████████████████████████████████| 2/2 [00:00<00:00, 74.35it/s]\n"
     ]
    },
    {
     "name": "stdout",
     "output_type": "stream",
     "text": [
      "Extracted/converted 2 morphologies from .h5 container (0 already existed)\n",
      "Cleaning morphology container(s): ['/Users/pokorny/JupyterLab/git/obi-output/decontainerized_small_microcircuits_motif/nbS1-O1-PV2E-maxNsyn-HEX0-L4/morphologies/merged-morphologies.h5']\n",
      "Cleaning morphology folder(s): ['/Users/pokorny/JupyterLab/git/obi-output/decontainerized_small_microcircuits_motif/nbS1-O1-PV2E-maxNsyn-HEX0-L4/morphologies/h5']\n",
      "Checking all morphologies in population 'S1nonbarrel_neurons'\n",
      "Morphology decontainerization DONE\n",
      "Running morphology decontainerization for 'nbS1-O1-Sst2E-maxNsyn-HEX0-L4'\n",
      "Copying circuit to output folder...\n",
      "...DONE\n",
      "> 2 unique morphologies in population 'S1nonbarrel_neurons' (2)\n"
     ]
    },
    {
     "name": "stderr",
     "output_type": "stream",
     "text": [
      "Extracting/converting from .h5 container: 100%|███████████████████████████████████████████████████| 2/2 [00:00<00:00, 68.61it/s]\n",
      "/Users/pokorny/JupyterLab/git/obi-one/.venv/lib/python3.12/site-packages/morph_tool/transform.py:41: RuntimeWarning: divide by zero encountered in dot\n",
      "  return np.dot(np.column_stack((p, np.ones(len(p)))), A)[:, :3]\n",
      "/Users/pokorny/JupyterLab/git/obi-one/.venv/lib/python3.12/site-packages/morph_tool/transform.py:41: RuntimeWarning: overflow encountered in dot\n",
      "  return np.dot(np.column_stack((p, np.ones(len(p)))), A)[:, :3]\n",
      "/Users/pokorny/JupyterLab/git/obi-one/.venv/lib/python3.12/site-packages/morph_tool/transform.py:41: RuntimeWarning: invalid value encountered in dot\n",
      "  return np.dot(np.column_stack((p, np.ones(len(p)))), A)[:, :3]\n"
     ]
    },
    {
     "name": "stdout",
     "output_type": "stream",
     "text": [
      "Extracted/converted 2 morphologies from .h5 container (0 already existed)\n",
      "Cleaning morphology container(s): ['/Users/pokorny/JupyterLab/git/obi-output/decontainerized_small_microcircuits_motif/nbS1-O1-Sst2E-maxNsyn-HEX0-L4/morphologies/merged-morphologies.h5']\n",
      "Cleaning morphology folder(s): ['/Users/pokorny/JupyterLab/git/obi-output/decontainerized_small_microcircuits_motif/nbS1-O1-Sst2E-maxNsyn-HEX0-L4/morphologies/h5']\n",
      "Checking all morphologies in population 'S1nonbarrel_neurons'\n"
     ]
    },
    {
     "name": "stderr",
     "output_type": "stream",
     "text": [
      "/Users/pokorny/JupyterLab/git/obi-one/.venv/lib/python3.12/site-packages/morph_tool/transform.py:41: RuntimeWarning: divide by zero encountered in dot\n",
      "  return np.dot(np.column_stack((p, np.ones(len(p)))), A)[:, :3]\n",
      "/Users/pokorny/JupyterLab/git/obi-one/.venv/lib/python3.12/site-packages/morph_tool/transform.py:41: RuntimeWarning: overflow encountered in dot\n",
      "  return np.dot(np.column_stack((p, np.ones(len(p)))), A)[:, :3]\n",
      "/Users/pokorny/JupyterLab/git/obi-one/.venv/lib/python3.12/site-packages/morph_tool/transform.py:41: RuntimeWarning: invalid value encountered in dot\n",
      "  return np.dot(np.column_stack((p, np.ones(len(p)))), A)[:, :3]\n"
     ]
    },
    {
     "name": "stdout",
     "output_type": "stream",
     "text": [
      "Morphology decontainerization DONE\n",
      "Running morphology decontainerization for 'nbS1-O1-PV2E-maxNsyn-HEX0-L5'\n",
      "Copying circuit to output folder...\n",
      "...DONE\n",
      "> 2 unique morphologies in population 'S1nonbarrel_neurons' (2)\n"
     ]
    },
    {
     "name": "stderr",
     "output_type": "stream",
     "text": [
      "Extracting/converting from .h5 container: 100%|███████████████████████████████████████████████████| 2/2 [00:00<00:00, 56.43it/s]\n"
     ]
    },
    {
     "name": "stdout",
     "output_type": "stream",
     "text": [
      "Extracted/converted 2 morphologies from .h5 container (0 already existed)\n",
      "Cleaning morphology container(s): ['/Users/pokorny/JupyterLab/git/obi-output/decontainerized_small_microcircuits_motif/nbS1-O1-PV2E-maxNsyn-HEX0-L5/morphologies/merged-morphologies.h5']\n",
      "Cleaning morphology folder(s): ['/Users/pokorny/JupyterLab/git/obi-output/decontainerized_small_microcircuits_motif/nbS1-O1-PV2E-maxNsyn-HEX0-L5/morphologies/h5']\n",
      "Checking all morphologies in population 'S1nonbarrel_neurons'\n",
      "Morphology decontainerization DONE\n",
      "Running morphology decontainerization for 'nbS1-O1-Sst2E-maxNsyn-HEX0-L5'\n",
      "Copying circuit to output folder...\n",
      "...DONE\n",
      "> 2 unique morphologies in population 'S1nonbarrel_neurons' (2)\n"
     ]
    },
    {
     "name": "stderr",
     "output_type": "stream",
     "text": [
      "Extracting/converting from .h5 container: 100%|███████████████████████████████████████████████████| 2/2 [00:00<00:00, 42.53it/s]\n"
     ]
    },
    {
     "name": "stdout",
     "output_type": "stream",
     "text": [
      "Extracted/converted 2 morphologies from .h5 container (0 already existed)\n",
      "Cleaning morphology container(s): ['/Users/pokorny/JupyterLab/git/obi-output/decontainerized_small_microcircuits_motif/nbS1-O1-Sst2E-maxNsyn-HEX0-L5/morphologies/merged-morphologies.h5']\n",
      "Cleaning morphology folder(s): ['/Users/pokorny/JupyterLab/git/obi-output/decontainerized_small_microcircuits_motif/nbS1-O1-Sst2E-maxNsyn-HEX0-L5/morphologies/h5']\n"
     ]
    },
    {
     "name": "stderr",
     "output_type": "stream",
     "text": [
      "/Users/pokorny/JupyterLab/git/obi-one/.venv/lib/python3.12/site-packages/morph_tool/transform.py:41: RuntimeWarning: divide by zero encountered in dot\n",
      "  return np.dot(np.column_stack((p, np.ones(len(p)))), A)[:, :3]\n",
      "/Users/pokorny/JupyterLab/git/obi-one/.venv/lib/python3.12/site-packages/morph_tool/transform.py:41: RuntimeWarning: overflow encountered in dot\n",
      "  return np.dot(np.column_stack((p, np.ones(len(p)))), A)[:, :3]\n",
      "/Users/pokorny/JupyterLab/git/obi-one/.venv/lib/python3.12/site-packages/morph_tool/transform.py:41: RuntimeWarning: invalid value encountered in dot\n",
      "  return np.dot(np.column_stack((p, np.ones(len(p)))), A)[:, :3]\n"
     ]
    },
    {
     "name": "stdout",
     "output_type": "stream",
     "text": [
      "Checking all morphologies in population 'S1nonbarrel_neurons'\n"
     ]
    },
    {
     "name": "stderr",
     "output_type": "stream",
     "text": [
      "/Users/pokorny/JupyterLab/git/obi-one/.venv/lib/python3.12/site-packages/morph_tool/transform.py:41: RuntimeWarning: divide by zero encountered in dot\n",
      "  return np.dot(np.column_stack((p, np.ones(len(p)))), A)[:, :3]\n",
      "/Users/pokorny/JupyterLab/git/obi-one/.venv/lib/python3.12/site-packages/morph_tool/transform.py:41: RuntimeWarning: overflow encountered in dot\n",
      "  return np.dot(np.column_stack((p, np.ones(len(p)))), A)[:, :3]\n",
      "/Users/pokorny/JupyterLab/git/obi-one/.venv/lib/python3.12/site-packages/morph_tool/transform.py:41: RuntimeWarning: invalid value encountered in dot\n",
      "  return np.dot(np.column_stack((p, np.ones(len(p)))), A)[:, :3]\n"
     ]
    },
    {
     "name": "stdout",
     "output_type": "stream",
     "text": [
      "Morphology decontainerization DONE\n",
      "Running morphology decontainerization for 'nbS1-O1-PV2E-maxNsyn-HEX0-L6'\n",
      "Copying circuit to output folder...\n",
      "...DONE\n",
      "> 2 unique morphologies in population 'S1nonbarrel_neurons' (2)\n"
     ]
    },
    {
     "name": "stderr",
     "output_type": "stream",
     "text": [
      "Extracting/converting from .h5 container: 100%|███████████████████████████████████████████████████| 2/2 [00:00<00:00, 47.24it/s]"
     ]
    },
    {
     "name": "stdout",
     "output_type": "stream",
     "text": [
      "Extracted/converted 2 morphologies from .h5 container (0 already existed)\n",
      "Cleaning morphology container(s): ['/Users/pokorny/JupyterLab/git/obi-output/decontainerized_small_microcircuits_motif/nbS1-O1-PV2E-maxNsyn-HEX0-L6/morphologies/merged-morphologies.h5']\n",
      "Cleaning morphology folder(s): ['/Users/pokorny/JupyterLab/git/obi-output/decontainerized_small_microcircuits_motif/nbS1-O1-PV2E-maxNsyn-HEX0-L6/morphologies/h5']\n",
      "Checking all morphologies in population 'S1nonbarrel_neurons'\n",
      "Morphology decontainerization DONE\n"
     ]
    },
    {
     "name": "stderr",
     "output_type": "stream",
     "text": [
      "\n",
      "/Users/pokorny/JupyterLab/git/obi-one/.venv/lib/python3.12/site-packages/morph_tool/transform.py:41: RuntimeWarning: divide by zero encountered in dot\n",
      "  return np.dot(np.column_stack((p, np.ones(len(p)))), A)[:, :3]\n",
      "/Users/pokorny/JupyterLab/git/obi-one/.venv/lib/python3.12/site-packages/morph_tool/transform.py:41: RuntimeWarning: overflow encountered in dot\n",
      "  return np.dot(np.column_stack((p, np.ones(len(p)))), A)[:, :3]\n",
      "/Users/pokorny/JupyterLab/git/obi-one/.venv/lib/python3.12/site-packages/morph_tool/transform.py:41: RuntimeWarning: invalid value encountered in dot\n",
      "  return np.dot(np.column_stack((p, np.ones(len(p)))), A)[:, :3]\n"
     ]
    },
    {
     "name": "stdout",
     "output_type": "stream",
     "text": [
      "Running morphology decontainerization for 'nbS1-O1-Sst2E-maxNsyn-HEX0-L6'\n",
      "Copying circuit to output folder...\n",
      "...DONE\n",
      "> 2 unique morphologies in population 'S1nonbarrel_neurons' (2)\n"
     ]
    },
    {
     "name": "stderr",
     "output_type": "stream",
     "text": [
      "Extracting/converting from .h5 container: 100%|███████████████████████████████████████████████████| 2/2 [00:00<00:00, 54.92it/s]\n"
     ]
    },
    {
     "name": "stdout",
     "output_type": "stream",
     "text": [
      "Extracted/converted 2 morphologies from .h5 container (0 already existed)\n",
      "Cleaning morphology container(s): ['/Users/pokorny/JupyterLab/git/obi-output/decontainerized_small_microcircuits_motif/nbS1-O1-Sst2E-maxNsyn-HEX0-L6/morphologies/merged-morphologies.h5']\n",
      "Cleaning morphology folder(s): ['/Users/pokorny/JupyterLab/git/obi-output/decontainerized_small_microcircuits_motif/nbS1-O1-Sst2E-maxNsyn-HEX0-L6/morphologies/h5']\n",
      "Checking all morphologies in population 'S1nonbarrel_neurons'\n"
     ]
    },
    {
     "name": "stderr",
     "output_type": "stream",
     "text": [
      "/Users/pokorny/JupyterLab/git/obi-one/.venv/lib/python3.12/site-packages/morph_tool/transform.py:41: RuntimeWarning: divide by zero encountered in dot\n",
      "  return np.dot(np.column_stack((p, np.ones(len(p)))), A)[:, :3]\n",
      "/Users/pokorny/JupyterLab/git/obi-one/.venv/lib/python3.12/site-packages/morph_tool/transform.py:41: RuntimeWarning: overflow encountered in dot\n",
      "  return np.dot(np.column_stack((p, np.ones(len(p)))), A)[:, :3]\n",
      "/Users/pokorny/JupyterLab/git/obi-one/.venv/lib/python3.12/site-packages/morph_tool/transform.py:41: RuntimeWarning: invalid value encountered in dot\n",
      "  return np.dot(np.column_stack((p, np.ones(len(p)))), A)[:, :3]\n",
      "/Users/pokorny/JupyterLab/git/obi-one/.venv/lib/python3.12/site-packages/morph_tool/transform.py:41: RuntimeWarning: divide by zero encountered in dot\n",
      "  return np.dot(np.column_stack((p, np.ones(len(p)))), A)[:, :3]\n",
      "/Users/pokorny/JupyterLab/git/obi-one/.venv/lib/python3.12/site-packages/morph_tool/transform.py:41: RuntimeWarning: overflow encountered in dot\n",
      "  return np.dot(np.column_stack((p, np.ones(len(p)))), A)[:, :3]\n",
      "/Users/pokorny/JupyterLab/git/obi-one/.venv/lib/python3.12/site-packages/morph_tool/transform.py:41: RuntimeWarning: invalid value encountered in dot\n",
      "  return np.dot(np.column_stack((p, np.ones(len(p)))), A)[:, :3]\n"
     ]
    },
    {
     "name": "stdout",
     "output_type": "stream",
     "text": [
      "Morphology decontainerization DONE\n",
      "Running morphology decontainerization for 'nbS1-O1-ErcPV-maxNsyn-HEX0-L2'\n",
      "Copying circuit to output folder...\n",
      "...DONE\n",
      "> 2 unique morphologies in population 'S1nonbarrel_neurons' (2)\n"
     ]
    },
    {
     "name": "stderr",
     "output_type": "stream",
     "text": [
      "Extracting/converting from .h5 container: 100%|███████████████████████████████████████████████████| 2/2 [00:00<00:00, 44.12it/s]\n"
     ]
    },
    {
     "name": "stdout",
     "output_type": "stream",
     "text": [
      "Extracted/converted 2 morphologies from .h5 container (0 already existed)\n",
      "Cleaning morphology container(s): ['/Users/pokorny/JupyterLab/git/obi-output/decontainerized_small_microcircuits_motif/nbS1-O1-ErcPV-maxNsyn-HEX0-L2/morphologies/merged-morphologies.h5']\n",
      "Cleaning morphology folder(s): ['/Users/pokorny/JupyterLab/git/obi-output/decontainerized_small_microcircuits_motif/nbS1-O1-ErcPV-maxNsyn-HEX0-L2/morphologies/h5']\n",
      "Checking all morphologies in population 'S1nonbarrel_neurons'\n",
      "Morphology decontainerization DONE\n",
      "Running morphology decontainerization for 'nbS1-O1-ErcSst-maxNsyn-HEX0-L2'\n",
      "Copying circuit to output folder...\n",
      "...DONE\n",
      "> 2 unique morphologies in population 'S1nonbarrel_neurons' (2)\n"
     ]
    },
    {
     "name": "stderr",
     "output_type": "stream",
     "text": [
      "Extracting/converting from .h5 container: 100%|██████████████████████████████████████████████████| 2/2 [00:00<00:00, 109.59it/s]\n"
     ]
    },
    {
     "name": "stdout",
     "output_type": "stream",
     "text": [
      "Extracted/converted 2 morphologies from .h5 container (0 already existed)\n",
      "Cleaning morphology container(s): ['/Users/pokorny/JupyterLab/git/obi-output/decontainerized_small_microcircuits_motif/nbS1-O1-ErcSst-maxNsyn-HEX0-L2/morphologies/merged-morphologies.h5']\n",
      "Cleaning morphology folder(s): ['/Users/pokorny/JupyterLab/git/obi-output/decontainerized_small_microcircuits_motif/nbS1-O1-ErcSst-maxNsyn-HEX0-L2/morphologies/h5']\n",
      "Checking all morphologies in population 'S1nonbarrel_neurons'\n",
      "Morphology decontainerization DONE\n",
      "Running morphology decontainerization for 'nbS1-O1-ErcPV-maxNsyn-HEX0-L3'\n",
      "Copying circuit to output folder...\n",
      "...DONE\n",
      "> 2 unique morphologies in population 'S1nonbarrel_neurons' (2)\n"
     ]
    },
    {
     "name": "stderr",
     "output_type": "stream",
     "text": [
      "Extracting/converting from .h5 container: 100%|███████████████████████████████████████████████████| 2/2 [00:00<00:00, 86.54it/s]\n"
     ]
    },
    {
     "name": "stdout",
     "output_type": "stream",
     "text": [
      "Extracted/converted 2 morphologies from .h5 container (0 already existed)\n",
      "Cleaning morphology container(s): ['/Users/pokorny/JupyterLab/git/obi-output/decontainerized_small_microcircuits_motif/nbS1-O1-ErcPV-maxNsyn-HEX0-L3/morphologies/merged-morphologies.h5']\n",
      "Cleaning morphology folder(s): ['/Users/pokorny/JupyterLab/git/obi-output/decontainerized_small_microcircuits_motif/nbS1-O1-ErcPV-maxNsyn-HEX0-L3/morphologies/h5']\n",
      "Checking all morphologies in population 'S1nonbarrel_neurons'\n",
      "Morphology decontainerization DONE\n",
      "Running morphology decontainerization for 'nbS1-O1-ErcSst-maxNsyn-HEX0-L3'\n",
      "Copying circuit to output folder...\n",
      "...DONE\n",
      "> 2 unique morphologies in population 'S1nonbarrel_neurons' (2)\n"
     ]
    },
    {
     "name": "stderr",
     "output_type": "stream",
     "text": [
      "Extracting/converting from .h5 container: 100%|███████████████████████████████████████████████████| 2/2 [00:00<00:00, 64.41it/s]\n"
     ]
    },
    {
     "name": "stdout",
     "output_type": "stream",
     "text": [
      "Extracted/converted 2 morphologies from .h5 container (0 already existed)\n",
      "Cleaning morphology container(s): ['/Users/pokorny/JupyterLab/git/obi-output/decontainerized_small_microcircuits_motif/nbS1-O1-ErcSst-maxNsyn-HEX0-L3/morphologies/merged-morphologies.h5']\n",
      "Cleaning morphology folder(s): ['/Users/pokorny/JupyterLab/git/obi-output/decontainerized_small_microcircuits_motif/nbS1-O1-ErcSst-maxNsyn-HEX0-L3/morphologies/h5']\n",
      "Checking all morphologies in population 'S1nonbarrel_neurons'\n",
      "Morphology decontainerization DONE\n",
      "Running morphology decontainerization for 'nbS1-O1-ErcPV-maxNsyn-HEX0-L4'\n",
      "Copying circuit to output folder...\n",
      "...DONE\n",
      "> 2 unique morphologies in population 'S1nonbarrel_neurons' (2)\n"
     ]
    },
    {
     "name": "stderr",
     "output_type": "stream",
     "text": [
      "Extracting/converting from .h5 container: 100%|███████████████████████████████████████████████████| 2/2 [00:00<00:00, 43.80it/s]"
     ]
    },
    {
     "name": "stdout",
     "output_type": "stream",
     "text": [
      "Extracted/converted 2 morphologies from .h5 container (0 already existed)\n",
      "Cleaning morphology container(s): ['/Users/pokorny/JupyterLab/git/obi-output/decontainerized_small_microcircuits_motif/nbS1-O1-ErcPV-maxNsyn-HEX0-L4/morphologies/merged-morphologies.h5']\n",
      "Cleaning morphology folder(s): ['/Users/pokorny/JupyterLab/git/obi-output/decontainerized_small_microcircuits_motif/nbS1-O1-ErcPV-maxNsyn-HEX0-L4/morphologies/h5']\n",
      "Checking all morphologies in population 'S1nonbarrel_neurons'\n"
     ]
    },
    {
     "name": "stderr",
     "output_type": "stream",
     "text": [
      "\n",
      "/Users/pokorny/JupyterLab/git/obi-one/.venv/lib/python3.12/site-packages/morph_tool/transform.py:41: RuntimeWarning: divide by zero encountered in dot\n",
      "  return np.dot(np.column_stack((p, np.ones(len(p)))), A)[:, :3]\n",
      "/Users/pokorny/JupyterLab/git/obi-one/.venv/lib/python3.12/site-packages/morph_tool/transform.py:41: RuntimeWarning: overflow encountered in dot\n",
      "  return np.dot(np.column_stack((p, np.ones(len(p)))), A)[:, :3]\n",
      "/Users/pokorny/JupyterLab/git/obi-one/.venv/lib/python3.12/site-packages/morph_tool/transform.py:41: RuntimeWarning: invalid value encountered in dot\n",
      "  return np.dot(np.column_stack((p, np.ones(len(p)))), A)[:, :3]\n",
      "/Users/pokorny/JupyterLab/git/obi-one/.venv/lib/python3.12/site-packages/morph_tool/transform.py:41: RuntimeWarning: divide by zero encountered in dot\n",
      "  return np.dot(np.column_stack((p, np.ones(len(p)))), A)[:, :3]\n",
      "/Users/pokorny/JupyterLab/git/obi-one/.venv/lib/python3.12/site-packages/morph_tool/transform.py:41: RuntimeWarning: overflow encountered in dot\n",
      "  return np.dot(np.column_stack((p, np.ones(len(p)))), A)[:, :3]\n",
      "/Users/pokorny/JupyterLab/git/obi-one/.venv/lib/python3.12/site-packages/morph_tool/transform.py:41: RuntimeWarning: invalid value encountered in dot\n",
      "  return np.dot(np.column_stack((p, np.ones(len(p)))), A)[:, :3]\n"
     ]
    },
    {
     "name": "stdout",
     "output_type": "stream",
     "text": [
      "Morphology decontainerization DONE\n",
      "Running morphology decontainerization for 'nbS1-O1-ErcSst-maxNsyn-HEX0-L4'\n",
      "Copying circuit to output folder...\n",
      "...DONE\n",
      "> 2 unique morphologies in population 'S1nonbarrel_neurons' (2)\n"
     ]
    },
    {
     "name": "stderr",
     "output_type": "stream",
     "text": [
      "Extracting/converting from .h5 container: 100%|███████████████████████████████████████████████████| 2/2 [00:00<00:00, 67.32it/s]\n"
     ]
    },
    {
     "name": "stdout",
     "output_type": "stream",
     "text": [
      "Extracted/converted 2 morphologies from .h5 container (0 already existed)\n",
      "Cleaning morphology container(s): ['/Users/pokorny/JupyterLab/git/obi-output/decontainerized_small_microcircuits_motif/nbS1-O1-ErcSst-maxNsyn-HEX0-L4/morphologies/merged-morphologies.h5']\n",
      "Cleaning morphology folder(s): ['/Users/pokorny/JupyterLab/git/obi-output/decontainerized_small_microcircuits_motif/nbS1-O1-ErcSst-maxNsyn-HEX0-L4/morphologies/h5']\n",
      "Checking all morphologies in population 'S1nonbarrel_neurons'\n",
      "Morphology decontainerization DONE\n",
      "Running morphology decontainerization for 'nbS1-O1-ErcPV-maxNsyn-HEX0-L5'\n",
      "Copying circuit to output folder...\n",
      "...DONE\n",
      "> 2 unique morphologies in population 'S1nonbarrel_neurons' (2)\n"
     ]
    },
    {
     "name": "stderr",
     "output_type": "stream",
     "text": [
      "Extracting/converting from .h5 container: 100%|███████████████████████████████████████████████████| 2/2 [00:00<00:00, 60.45it/s]\n"
     ]
    },
    {
     "name": "stdout",
     "output_type": "stream",
     "text": [
      "Extracted/converted 2 morphologies from .h5 container (0 already existed)\n",
      "Cleaning morphology container(s): ['/Users/pokorny/JupyterLab/git/obi-output/decontainerized_small_microcircuits_motif/nbS1-O1-ErcPV-maxNsyn-HEX0-L5/morphologies/merged-morphologies.h5']\n",
      "Cleaning morphology folder(s): ['/Users/pokorny/JupyterLab/git/obi-output/decontainerized_small_microcircuits_motif/nbS1-O1-ErcPV-maxNsyn-HEX0-L5/morphologies/h5']\n",
      "Checking all morphologies in population 'S1nonbarrel_neurons'\n",
      "Morphology decontainerization DONE\n",
      "Running morphology decontainerization for 'nbS1-O1-ErcSst-maxNsyn-HEX0-L5'\n",
      "Copying circuit to output folder...\n",
      "...DONE\n",
      "> 2 unique morphologies in population 'S1nonbarrel_neurons' (2)\n"
     ]
    },
    {
     "name": "stderr",
     "output_type": "stream",
     "text": [
      "Extracting/converting from .h5 container: 100%|███████████████████████████████████████████████████| 2/2 [00:00<00:00, 54.88it/s]\n"
     ]
    },
    {
     "name": "stdout",
     "output_type": "stream",
     "text": [
      "Extracted/converted 2 morphologies from .h5 container (0 already existed)\n",
      "Cleaning morphology container(s): ['/Users/pokorny/JupyterLab/git/obi-output/decontainerized_small_microcircuits_motif/nbS1-O1-ErcSst-maxNsyn-HEX0-L5/morphologies/merged-morphologies.h5']\n",
      "Cleaning morphology folder(s): ['/Users/pokorny/JupyterLab/git/obi-output/decontainerized_small_microcircuits_motif/nbS1-O1-ErcSst-maxNsyn-HEX0-L5/morphologies/h5']\n",
      "Checking all morphologies in population 'S1nonbarrel_neurons'\n"
     ]
    },
    {
     "name": "stderr",
     "output_type": "stream",
     "text": [
      "/Users/pokorny/JupyterLab/git/obi-one/.venv/lib/python3.12/site-packages/morph_tool/transform.py:41: RuntimeWarning: divide by zero encountered in dot\n",
      "  return np.dot(np.column_stack((p, np.ones(len(p)))), A)[:, :3]\n",
      "/Users/pokorny/JupyterLab/git/obi-one/.venv/lib/python3.12/site-packages/morph_tool/transform.py:41: RuntimeWarning: overflow encountered in dot\n",
      "  return np.dot(np.column_stack((p, np.ones(len(p)))), A)[:, :3]\n",
      "/Users/pokorny/JupyterLab/git/obi-one/.venv/lib/python3.12/site-packages/morph_tool/transform.py:41: RuntimeWarning: invalid value encountered in dot\n",
      "  return np.dot(np.column_stack((p, np.ones(len(p)))), A)[:, :3]\n"
     ]
    },
    {
     "name": "stdout",
     "output_type": "stream",
     "text": [
      "Morphology decontainerization DONE\n",
      "Running morphology decontainerization for 'nbS1-O1-ErcPV-maxNsyn-HEX0-L6'\n",
      "Copying circuit to output folder...\n",
      "...DONE\n",
      "> 2 unique morphologies in population 'S1nonbarrel_neurons' (2)\n"
     ]
    },
    {
     "name": "stderr",
     "output_type": "stream",
     "text": [
      "Extracting/converting from .h5 container: 100%|███████████████████████████████████████████████████| 2/2 [00:00<00:00, 37.68it/s]\n"
     ]
    },
    {
     "name": "stdout",
     "output_type": "stream",
     "text": [
      "Extracted/converted 2 morphologies from .h5 container (0 already existed)\n",
      "Cleaning morphology container(s): ['/Users/pokorny/JupyterLab/git/obi-output/decontainerized_small_microcircuits_motif/nbS1-O1-ErcPV-maxNsyn-HEX0-L6/morphologies/merged-morphologies.h5']\n",
      "Cleaning morphology folder(s): ['/Users/pokorny/JupyterLab/git/obi-output/decontainerized_small_microcircuits_motif/nbS1-O1-ErcPV-maxNsyn-HEX0-L6/morphologies/h5']\n",
      "Checking all morphologies in population 'S1nonbarrel_neurons'\n"
     ]
    },
    {
     "name": "stderr",
     "output_type": "stream",
     "text": [
      "/Users/pokorny/JupyterLab/git/obi-one/.venv/lib/python3.12/site-packages/morph_tool/transform.py:41: RuntimeWarning: divide by zero encountered in dot\n",
      "  return np.dot(np.column_stack((p, np.ones(len(p)))), A)[:, :3]\n",
      "/Users/pokorny/JupyterLab/git/obi-one/.venv/lib/python3.12/site-packages/morph_tool/transform.py:41: RuntimeWarning: overflow encountered in dot\n",
      "  return np.dot(np.column_stack((p, np.ones(len(p)))), A)[:, :3]\n",
      "/Users/pokorny/JupyterLab/git/obi-one/.venv/lib/python3.12/site-packages/morph_tool/transform.py:41: RuntimeWarning: invalid value encountered in dot\n",
      "  return np.dot(np.column_stack((p, np.ones(len(p)))), A)[:, :3]\n",
      "/Users/pokorny/JupyterLab/git/obi-one/.venv/lib/python3.12/site-packages/morph_tool/transform.py:41: RuntimeWarning: divide by zero encountered in dot\n",
      "  return np.dot(np.column_stack((p, np.ones(len(p)))), A)[:, :3]\n",
      "/Users/pokorny/JupyterLab/git/obi-one/.venv/lib/python3.12/site-packages/morph_tool/transform.py:41: RuntimeWarning: overflow encountered in dot\n",
      "  return np.dot(np.column_stack((p, np.ones(len(p)))), A)[:, :3]\n",
      "/Users/pokorny/JupyterLab/git/obi-one/.venv/lib/python3.12/site-packages/morph_tool/transform.py:41: RuntimeWarning: invalid value encountered in dot\n",
      "  return np.dot(np.column_stack((p, np.ones(len(p)))), A)[:, :3]\n"
     ]
    },
    {
     "name": "stdout",
     "output_type": "stream",
     "text": [
      "Morphology decontainerization DONE\n",
      "Running morphology decontainerization for 'nbS1-O1-ErcSst-maxNsyn-HEX0-L6'\n",
      "Copying circuit to output folder...\n",
      "...DONE\n",
      "> 2 unique morphologies in population 'S1nonbarrel_neurons' (2)\n"
     ]
    },
    {
     "name": "stderr",
     "output_type": "stream",
     "text": [
      "Extracting/converting from .h5 container: 100%|███████████████████████████████████████████████████| 2/2 [00:00<00:00, 54.62it/s]\n",
      "/Users/pokorny/JupyterLab/git/obi-one/.venv/lib/python3.12/site-packages/morph_tool/transform.py:41: RuntimeWarning: divide by zero encountered in dot\n",
      "  return np.dot(np.column_stack((p, np.ones(len(p)))), A)[:, :3]\n",
      "/Users/pokorny/JupyterLab/git/obi-one/.venv/lib/python3.12/site-packages/morph_tool/transform.py:41: RuntimeWarning: overflow encountered in dot\n",
      "  return np.dot(np.column_stack((p, np.ones(len(p)))), A)[:, :3]\n",
      "/Users/pokorny/JupyterLab/git/obi-one/.venv/lib/python3.12/site-packages/morph_tool/transform.py:41: RuntimeWarning: invalid value encountered in dot\n",
      "  return np.dot(np.column_stack((p, np.ones(len(p)))), A)[:, :3]\n"
     ]
    },
    {
     "name": "stdout",
     "output_type": "stream",
     "text": [
      "Extracted/converted 2 morphologies from .h5 container (0 already existed)\n",
      "Cleaning morphology container(s): ['/Users/pokorny/JupyterLab/git/obi-output/decontainerized_small_microcircuits_motif/nbS1-O1-ErcSst-maxNsyn-HEX0-L6/morphologies/merged-morphologies.h5']\n",
      "Cleaning morphology folder(s): ['/Users/pokorny/JupyterLab/git/obi-output/decontainerized_small_microcircuits_motif/nbS1-O1-ErcSst-maxNsyn-HEX0-L6/morphologies/h5']\n",
      "Checking all morphologies in population 'S1nonbarrel_neurons'\n",
      "Morphology decontainerization DONE\n",
      "[2025-06-20 12:16:55,772] INFO: create_bbp_workflow_campaign_config() not yet complete.\n"
     ]
    },
    {
     "name": "stderr",
     "output_type": "stream",
     "text": [
      "/Users/pokorny/JupyterLab/git/obi-one/.venv/lib/python3.12/site-packages/morph_tool/transform.py:41: RuntimeWarning: divide by zero encountered in dot\n",
      "  return np.dot(np.column_stack((p, np.ones(len(p)))), A)[:, :3]\n",
      "/Users/pokorny/JupyterLab/git/obi-one/.venv/lib/python3.12/site-packages/morph_tool/transform.py:41: RuntimeWarning: overflow encountered in dot\n",
      "  return np.dot(np.column_stack((p, np.ones(len(p)))), A)[:, :3]\n",
      "/Users/pokorny/JupyterLab/git/obi-one/.venv/lib/python3.12/site-packages/morph_tool/transform.py:41: RuntimeWarning: invalid value encountered in dot\n",
      "  return np.dot(np.column_stack((p, np.ones(len(p)))), A)[:, :3]\n"
     ]
    },
    {
     "data": {
      "text/plain": [
       "{0: None,\n",
       " 1: None,\n",
       " 2: None,\n",
       " 3: None,\n",
       " 4: None,\n",
       " 5: None,\n",
       " 6: None,\n",
       " 7: None,\n",
       " 8: None,\n",
       " 9: None,\n",
       " 10: None,\n",
       " 11: None,\n",
       " 12: None,\n",
       " 13: None,\n",
       " 14: None,\n",
       " 15: None,\n",
       " 16: None,\n",
       " 17: None,\n",
       " 18: None,\n",
       " 19: None,\n",
       " 20: None,\n",
       " 21: None,\n",
       " 22: None,\n",
       " 23: None,\n",
       " 24: None,\n",
       " 25: None,\n",
       " 26: None,\n",
       " 27: None,\n",
       " 28: None,\n",
       " 29: None}"
      ]
     },
     "execution_count": 4,
     "metadata": {},
     "output_type": "execute_result"
    }
   ],
   "source": [
    "grid_scan.execute(processing_method='run')"
   ]
  },
  {
   "cell_type": "code",
   "execution_count": null,
   "metadata": {},
   "outputs": [],
   "source": []
  }
 ],
 "metadata": {
  "kernelspec": {
   "display_name": "obi-one",
   "language": "python",
   "name": "obi-one"
  },
  "language_info": {
   "codemirror_mode": {
    "name": "ipython",
    "version": 3
   },
   "file_extension": ".py",
   "mimetype": "text/x-python",
   "name": "python",
   "nbconvert_exporter": "python",
   "pygments_lexer": "ipython3",
   "version": "3.12.9"
  }
 },
 "nbformat": 4,
 "nbformat_minor": 4
}
