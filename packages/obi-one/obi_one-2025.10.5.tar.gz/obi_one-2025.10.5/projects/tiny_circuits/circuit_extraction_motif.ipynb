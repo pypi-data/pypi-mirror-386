{
 "cells": [
  {
   "cell_type": "code",
   "execution_count": null,
   "metadata": {},
   "outputs": [],
   "source": [
    "import numpy as np\n",
    "import obi_one as obi\n",
    "import os\n",
    "import pandas as pd\n",
    "from conntility.connectivity import ConnectivityMatrix"
   ]
  },
  {
   "cell_type": "code",
   "execution_count": null,
   "metadata": {},
   "outputs": [],
   "source": [
    "input_root = \"/Users/pokorny/Data/Circuits\"\n",
    "cmat_root = \"/Users/pokorny/Data/ConnectivityMatrices\"\n",
    "output_root = \"../../../obi-output/extracted_small_microcircuits_motif\""
   ]
  },
  {
   "cell_type": "code",
   "execution_count": null,
   "metadata": {},
   "outputs": [],
   "source": [
    "# Load nbS1-O1 circuit with connectivity matrix\n",
    "circuit = obi.Circuit(name=\"nbS1-O1\",\n",
    "                      path=os.path.join(input_root, \"nbS1-O1\", \"circuit_config_postfix2.json\"),\n",
    "                      matrix_path=os.path.join(cmat_root, \"nbS1-O1\", \"connectivity_matrix.h5\"))\n",
    "display(circuit.connectivity_matrix.matrix)"
   ]
  },
  {
   "cell_type": "code",
   "execution_count": null,
   "metadata": {},
   "outputs": [],
   "source": [
    "# Set up pair motif neuron sets\n",
    "\n",
    "hex_nset = \"nbS1-HEX0\"\n",
    "layers = [\"2\", \"3\", \"4\", \"5\", \"6\"]\n",
    "inh_subtypes = [\"hex_O1PV\", \"hex_O1Sst\"]\n",
    "\n",
    "# # (1) E->I sets per layer and INH subtype\n",
    "# neuron1_filter = [{\"node_set\": hex_nset, \"synapse_class\": \"EXC\", \"layer\": _lay} for _lay in layers for _inh in inh_subtypes]\n",
    "# neuron2_filter = [{\"node_set\": [hex_nset, _inh], \"synapse_class\": \"INH\", \"layer\": _lay} for _lay in layers for _inh in inh_subtypes]\n",
    "\n",
    "# conn_ff_filter = {\"nsyn\": {\"gt\": 0}}\n",
    "# conn_fb_filter = {\"nsyn\": 0}  # No feedback connection\n",
    "\n",
    "# pair_selection = {\"count\": 1, \"method\": \"max_nsyn_ff\"}  # Selection based on max. number of synapses\n",
    "\n",
    "# virtual_sources_to_ignore = [(\"external_S1nonbarrel_neurons__S1nonbarrel_neurons__chemical\", \"POm\") if (_lay == \"6\" and _inh == \"hex_O1Sst\") else (\"external_S1nonbarrel_neurons__S1nonbarrel_neurons__chemical\", ) for _lay in layers for _inh in inh_subtypes]\n",
    "# output_path = os.path.join(output_root, \"E2I\")\n",
    "\n",
    "# # (2) I->E sets per layer and INH subtype\n",
    "# neuron1_filter = [{\"node_set\": [hex_nset, _inh],  \"synapse_class\": \"INH\", \"layer\": _lay} for _lay in layers for _inh in inh_subtypes]\n",
    "# neuron2_filter = [{\"node_set\": hex_nset, \"synapse_class\": \"EXC\", \"layer\": _lay} for _lay in layers for _inh in inh_subtypes]\n",
    "\n",
    "# conn_ff_filter = {\"nsyn\": {\"gt\": 0}}\n",
    "# conn_fb_filter = {\"nsyn\": 0}  # No feedback connection\n",
    "\n",
    "# pair_selection = {\"count\": 1, \"method\": \"max_nsyn_ff\"}  # Selection based on max. number of synapses\n",
    "\n",
    "# virtual_sources_to_ignore = (\"external_S1nonbarrel_neurons__S1nonbarrel_neurons__chemical\", )\n",
    "# output_path = os.path.join(output_root, \"I2E\")\n",
    "\n",
    "# (3) E<->I sets per layer and INH subtype\n",
    "neuron1_filter = [{\"node_set\": hex_nset, \"synapse_class\": \"EXC\", \"layer\": _lay} for _lay in layers for _inh in inh_subtypes]\n",
    "neuron2_filter = [{\"node_set\": [hex_nset, _inh],  \"synapse_class\": \"INH\", \"layer\": _lay} for _lay in layers for _inh in inh_subtypes]\n",
    "\n",
    "conn_ff_filter = {\"nsyn\": {\"gt\": 0}}\n",
    "conn_fb_filter = {\"nsyn\": {\"gt\": 0}}  # Reciprocal connection\n",
    "\n",
    "pair_selection = {\"count\": 1, \"method\": \"max_nsyn_all\"}  # Selection based on max. number of synapses\n",
    "\n",
    "virtual_sources_to_ignore = [(\"external_S1nonbarrel_neurons__S1nonbarrel_neurons__chemical\", \"POm\") if (_lay == \"6\" and _inh == \"hex_O1Sst\") else (\"external_S1nonbarrel_neurons__S1nonbarrel_neurons__chemical\", ) for _lay in layers for _inh in inh_subtypes]\n",
    "output_path = os.path.join(output_root, \"ErcI\")\n",
    "\n",
    "node_set_list_op = \"intersect\"\n",
    "motif_neuron_sets = obi.PairMotifNeuronSet(neuron1_filter=neuron1_filter, neuron2_filter=neuron2_filter, conn_ff_filter=conn_ff_filter, conn_fb_filter=conn_fb_filter, pair_selection=pair_selection, node_set_list_op=node_set_list_op)\n",
    "\n",
    "names = [f\"{os.path.split(output_path)[-1]}-{_inh}-{hex_nset}-L{_lay}\" for _lay in layers for _inh in inh_subtypes]"
   ]
  },
  {
   "cell_type": "code",
   "execution_count": null,
   "metadata": {},
   "outputs": [],
   "source": [
    "circuit_extractions_scan_config= obi.CircuitExtractionScanConfig(\n",
    "                    initialize=obi.CircuitExtractionScanConfig.Initialize(\n",
    "                        circuit=circuit,\n",
    "                        run_validation=False,\n",
    "                        do_virtual=True,\n",
    "                        create_external=True,\n",
    "                        virtual_sources_to_ignore=virtual_sources_to_ignore,\n",
    "                    ),\n",
    "                    neuron_set=motif_neuron_sets,\n",
    ")\n",
    "\n",
    "coupled_scan = obi.CoupledScanGenerationTask(form=circuit_extractions_scan_config, output_root=output_path, coordinate_directory_option=\"ZERO_INDEX\")"
   ]
  },
  {
   "cell_type": "code",
   "execution_count": null,
   "metadata": {},
   "outputs": [],
   "source": [
    "# Display the intermediary data\n",
    "coupled_scan.multiple_value_parameters(display=True)\n",
    "coupled_scan.coordinate_parameters(display=True)\n",
    "# coupled_scan.coordinate_instances(display=True)"
   ]
  },
  {
   "cell_type": "code",
   "execution_count": null,
   "metadata": {},
   "outputs": [],
   "source": [
    "coupled_scan.execute()\n",
    "obi.run_tasks_for_generated_scan(coupled_scan)"
   ]
  },
  {
   "cell_type": "code",
   "execution_count": null,
   "metadata": {},
   "outputs": [],
   "source": [
    "# Check circuits\n",
    "import json\n",
    "from bluepysnap import Circuit\n",
    "\n",
    "c = circuit.sonata_circuit\n",
    "nodes = c.nodes[\"S1nonbarrel_neurons\"]\n",
    "hex0_ids = nodes.ids(\"nbS1-HEX0\")\n",
    "\n",
    "for _idx, _inst in enumerate(coupled_scan.coordinate_instances()):\n",
    "    cfg = coupled_scan.output_root / str(_idx) / \"circuit_config.json\"\n",
    "    c = Circuit(cfg)\n",
    "    with open(coupled_scan.output_root / str(_idx) / \"id_mapping.json\", \"r\") as f:\n",
    "        id_map = json.load(f)\n",
    "    parent_ids = id_map[\"S1nonbarrel_neurons\"][\"parent_id\"]\n",
    "    assert np.all(np.isin(parent_ids, hex0_ids))\n",
    "\n",
    "    nodes = c.nodes['S1nonbarrel_neurons']\n",
    "    edges = c.edges[\"S1nonbarrel_neurons__S1nonbarrel_neurons__chemical\"]\n",
    "    nids = np.hstack([nodes.ids({\"synapse_class\": \"EXC\"}), nodes.ids({\"synapse_class\": \"INH\"})])\n",
    "    print(f\"{names[_idx]:27s}>>> {nodes.size} neurons, {edges.size} (FF {len(edges.pathway_edges(source=nids[0], target=nids[1]))}, FB {len(edges.pathway_edges(source=nids[1], target=nids[0]))}) synapses, m-types: {nodes.get(nids, properties=['mtype']).to_numpy().flatten().tolist()}\")\n",
    "\n"
   ]
  },
  {
   "cell_type": "code",
   "execution_count": null,
   "metadata": {},
   "outputs": [],
   "source": []
  }
 ],
 "metadata": {
  "kernelspec": {
   "display_name": "obi-one",
   "language": "python",
   "name": "obi-one"
  },
  "language_info": {
   "codemirror_mode": {
    "name": "ipython",
    "version": 3
   },
   "file_extension": ".py",
   "mimetype": "text/x-python",
   "name": "python",
   "nbconvert_exporter": "python",
   "pygments_lexer": "ipython3",
   "version": "3.12.9"
  }
 },
 "nbformat": 4,
 "nbformat_minor": 4
}
