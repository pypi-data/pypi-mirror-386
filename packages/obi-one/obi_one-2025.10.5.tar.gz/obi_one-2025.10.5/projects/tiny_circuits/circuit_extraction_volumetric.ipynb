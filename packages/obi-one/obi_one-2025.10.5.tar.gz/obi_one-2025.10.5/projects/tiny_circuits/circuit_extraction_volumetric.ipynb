{
 "cells": [
  {
   "cell_type": "code",
   "execution_count": null,
   "metadata": {},
   "outputs": [],
   "source": [
    "import numpy as np\n",
    "import obi_one as obi\n",
    "import os\n",
    "import pandas as pd\n",
    "from conntility.connectivity import ConnectivityMatrix"
   ]
  },
  {
   "cell_type": "code",
   "execution_count": null,
   "metadata": {},
   "outputs": [],
   "source": [
    "input_root = \"/Users/pokorny/Data/Circuits\"\n",
    "cmat_root = \"/Users/pokorny/Data/ConnectivityMatrices\"\n",
    "output_root = \"../../../obi-output/extracted_small_microcircuits_volumetric\""
   ]
  },
  {
   "cell_type": "code",
   "execution_count": null,
   "metadata": {},
   "outputs": [],
   "source": [
    "# Compute population centroid\n",
    "circuit = obi.Circuit(name=\"nbS1-O1\", path=os.path.join(input_root, \"nbS1-O1\", \"circuit_config_postfix2.json\"))\n",
    "c = circuit.sonata_circuit\n",
    "nodes = c.nodes[circuit.default_population_name]\n",
    "population_centroid = nodes.positions().mean()"
   ]
  },
  {
   "cell_type": "code",
   "execution_count": null,
   "metadata": {},
   "outputs": [],
   "source": [
    "# nbS1-O1 - Central neurons in connectivity\n",
    "df_sel = pd.read_pickle(\"Top10CentralNeurons_Layer_Hex.pkl\")  # (Contains neuron IDs relative to nbS1-HEXn)\n",
    "df_opt = pd.read_pickle(\"Top10CentralNeurons_Layer_Hex_OptIDX.pkl\")\n",
    "\n",
    "# Load x/y/z positions from connectivity matrix and select best neuron in each layer\n",
    "base_name = \"nbS1\"\n",
    "hex_sel = \"hex0\"\n",
    "layers = range(1, 7)\n",
    "cmat = ConnectivityMatrix.from_h5(os.path.join(cmat_root, f\"{base_name}-{hex_sel.upper()}\", \"connectivity_matrix.h5\"))\n",
    "ntab = cmat.vertices.set_index(\"node_ids\")\n",
    "\n",
    "xyz_selection = []\n",
    "for _lay in layers:\n",
    "    opt_idx = df_opt.loc[(hex_sel, _lay)][\"pos\"]\n",
    "    node_id = df_sel[(\"hex0\", _lay)].iloc[opt_idx].tolist()\n",
    "    xyz_selection.append(ntab.loc[node_id][[\"x\", \"y\", \"z\"]].astype(float).to_list())\n",
    "    assert ntab.loc[node_id][\"layer\"] == str(_lay), \"ERROR: Layer mismatch!\"\n",
    "xyz_selection = pd.DataFrame(xyz_selection, columns=[\"x\", \"y\", \"z\"], index=layers) - population_centroid  # Relative to population centroid\n",
    "xyz_selection.index.name = \"layer\""
   ]
  },
  {
   "cell_type": "code",
   "execution_count": null,
   "metadata": {},
   "outputs": [],
   "source": [
    "# nbS1-O1 - Central neurons in space\n",
    "hex_sel = \"hex0\"\n",
    "layers = range(1, 7)\n",
    "\n",
    "# Compute layer centers\n",
    "pos_tab = nodes.get(\"hex0\", properties=[\"layer\", \"x\", \"y\", \"z\"])\n",
    "layer_centers = pos_tab.groupby(\"layer\").mean()\n",
    "layer_centers.index = layer_centers.index.astype(int)\n",
    "layer_centers = layer_centers.loc[layers]\n",
    "\n",
    "# Find position of closest neurons to layer centers\n",
    "xyz_selection_space = []\n",
    "for _lay in layers:\n",
    "    sel_idx = np.argmin(np.sum((pos_tab[[\"x\", \"y\", \"z\"]] - layer_centers.loc[_lay])**2, 1))\n",
    "    xyz_selection_space.append(pos_tab.iloc[sel_idx][[\"x\", \"y\", \"z\"]].astype(float).to_list())\n",
    "xyz_selection_space = pd.DataFrame(xyz_selection_space, columns=[\"x\", \"y\", \"z\"], index=layers) - population_centroid  # Relative to population centroid\n",
    "xyz_selection_space.index.name = \"layer\""
   ]
  },
  {
   "cell_type": "code",
   "execution_count": null,
   "metadata": {},
   "outputs": [],
   "source": [
    "# Set up volumetric neuron sets\n",
    "\n",
    "# # (1) Centered around a central neurons in the network's connectivity\n",
    "# N = 10\n",
    "# volumetric_neuron_sets = obi.VolumetricCountNeuronSet(ox=xyz_selection[\"x\"].to_list(), oy=xyz_selection[\"y\"].to_list(), oz=xyz_selection[\"z\"].to_list(), n=N,\n",
    "#                                                       property_filter=obi.NeuronPropertyFilter(filter_dict={}))\n",
    "# virtual_sources_to_ignore = [(\"external_S1nonbarrel_neurons__S1nonbarrel_neurons__chemical\", \"VPM\") if _lay == 1 else (\"external_S1nonbarrel_neurons__S1nonbarrel_neurons__chemical\", ) for _lay in layers]\n",
    "# output_path = os.path.join(output_root, \"nCN\")\n",
    "\n",
    "# (2) Centered around a central neurons in space\n",
    "N = 10\n",
    "volumetric_neuron_sets = obi.VolumetricCountNeuronSet(ox=xyz_selection_space[\"x\"].to_list(), oy=xyz_selection_space[\"y\"].to_list(), oz=xyz_selection_space[\"z\"].to_list(), n=N,\n",
    "                                                      property_filter=obi.NeuronPropertyFilter(filter_dict={}))\n",
    "virtual_sources_to_ignore = [(\"external_S1nonbarrel_neurons__S1nonbarrel_neurons__chemical\", \"VPM\") if _lay == 1 else (\"external_S1nonbarrel_neurons__S1nonbarrel_neurons__chemical\", ) for _lay in layers]\n",
    "output_path = os.path.join(output_root, \"sCN\")"
   ]
  },
  {
   "cell_type": "code",
   "execution_count": null,
   "metadata": {},
   "outputs": [],
   "source": [
    "# # nbS1-O1 - PLOTTING (Central in connectivity)\n",
    "# import matplotlib.pyplot as plt\n",
    "\n",
    "# # cmat_O1 = ConnectivityMatrix.from_h5(os.path.join(cmat_root, f\"{base_name}-O1\", \"connectivity_matrix.h5\"))\n",
    "\n",
    "# # Load x/y/z positions from connectivity matrix\n",
    "# base_name = \"nbS1\"\n",
    "# plt.figure()\n",
    "# for hex_sel in [f\"hex{_i}\" for _i in range(7)]:\n",
    "#     cmat = ConnectivityMatrix.from_h5(os.path.join(cmat_root, f\"{base_name}-{hex_sel.upper()}\", \"connectivity_matrix.h5\"))\n",
    "#     plt.plot(cmat.vertices[\"y\"], cmat.vertices[\"z\"], '.')\n",
    "# # plt.plot(cmat_O1.vertices[\"y\"], cmat_O1.vertices[\"z\"], ',k')\n",
    "# # plt.plot(xyz_selection[\"y\"], xyz_selection[\"z\"], \"xk\")\n",
    "# plt.show()\n",
    "\n",
    "# # df_sel[(\"hex0\", 1)]"
   ]
  },
  {
   "cell_type": "code",
   "execution_count": null,
   "metadata": {},
   "outputs": [],
   "source": [
    "# # PLOTTING (Central in space)\n",
    "# import matplotlib.pyplot as plt\n",
    "\n",
    "# plt.figure()\n",
    "# for _lay in layers:\n",
    "#     plt.plot(pos_tab[pos_tab[\"layer\"] == str(_lay)][\"x\"] - population_centroid.loc[\"x\"], pos_tab[pos_tab[\"layer\"] == str(_lay)][\"y\"] - population_centroid.loc[\"y\"], \".\")\n",
    "# for _lay in layers:\n",
    "#     plt.plot(xyz_selection_space.loc[_lay][\"x\"], xyz_selection_space.loc[_lay][\"y\"], \"*k\")\n",
    "# plt.show()"
   ]
  },
  {
   "cell_type": "code",
   "execution_count": null,
   "metadata": {},
   "outputs": [],
   "source": [
    "circuit_extractions_scan_config = obi.CircuitExtractionScanConfig(\n",
    "                    initialize=obi.CircuitExtractionScanConfig.Initialize(\n",
    "                        circuit=circuit,\n",
    "                        run_validation=False,\n",
    "                        do_virtual=True,\n",
    "                        create_external=True,\n",
    "                        virtual_sources_to_ignore=virtual_sources_to_ignore,\n",
    "                    ),\n",
    "                    # neuron_set=obi.PredefinedNeuronSet(node_set=[\"Excitatory\", \"Inhibitory\"], random_sample=[100, 500]),\n",
    "                    # neuron_set=obi.PredefinedNeuronSet(node_set=[\"Layer2\", \"Layer3\", \"Layer4\", \"Layer5\", \"Layer6\"], random_sample=10),\n",
    "                    # neuron_set=obi.IDNeuronSet(neuron_ids=node_id_lists),\n",
    "                    neuron_set=volumetric_neuron_sets\n",
    ")\n",
    "\n",
    "coupled_scan = obi.CoupledScanGenerationTask(form=circuit_extractions_scan_config, output_root=output_path, coordinate_directory_option=\"ZERO_INDEX\")"
   ]
  },
  {
   "cell_type": "code",
   "execution_count": null,
   "metadata": {},
   "outputs": [],
   "source": [
    "# Display the intermediary data\n",
    "coupled_scan.multiple_value_parameters(display=True)\n",
    "coupled_scan.coordinate_parameters(display=True)\n",
    "# coupled_scan.coordinate_instances(display=True)"
   ]
  },
  {
   "cell_type": "code",
   "execution_count": null,
   "metadata": {},
   "outputs": [],
   "source": [
    "coupled_scan.execute()\n",
    "obi.run_tasks_for_generated_scan(coupled_scan)"
   ]
  },
  {
   "cell_type": "code",
   "execution_count": null,
   "metadata": {},
   "outputs": [],
   "source": [
    "# Check circuits\n",
    "from bluepysnap import Circuit\n",
    "\n",
    "for _idx, _inst in enumerate(coupled_scan.coordinate_instances()):\n",
    "    cfg = coupled_scan.output_root / str(_idx) / \"circuit_config.json\"\n",
    "    c = Circuit(cfg)\n",
    "    nodes = c.nodes['S1nonbarrel_neurons']\n",
    "    mtypes = np.unique(nodes.get(properties=['mtype']), return_counts=True)\n",
    "    mt_hist = [f\"{_c}x{_mt}\" for _mt, _c in zip(*mtypes)]\n",
    "    print(f\"L{layers[_idx]}: {nodes.size} neurons, {c.edges[\"S1nonbarrel_neurons__S1nonbarrel_neurons__chemical\"].size} synapses, m-types: {mt_hist}\")\n"
   ]
  },
  {
   "cell_type": "code",
   "execution_count": null,
   "metadata": {},
   "outputs": [],
   "source": []
  }
 ],
 "metadata": {
  "kernelspec": {
   "display_name": "obi-one",
   "language": "python",
   "name": "obi-one"
  },
  "language_info": {
   "codemirror_mode": {
    "name": "ipython",
    "version": 3
   },
   "file_extension": ".py",
   "mimetype": "text/x-python",
   "name": "python",
   "nbconvert_exporter": "python",
   "pygments_lexer": "ipython3",
   "version": "3.12.9"
  }
 },
 "nbformat": 4,
 "nbformat_minor": 4
}
