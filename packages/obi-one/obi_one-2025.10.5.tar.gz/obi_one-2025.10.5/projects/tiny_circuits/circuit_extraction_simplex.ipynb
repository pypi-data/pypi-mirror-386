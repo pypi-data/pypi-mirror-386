{
 "cells": [
  {
   "cell_type": "code",
   "execution_count": null,
   "metadata": {},
   "outputs": [],
   "source": [
    "import json\n",
    "import numpy as np\n",
    "import obi_one as obi\n",
    "import os\n",
    "import pandas as pd\n",
    "from conntility.connectivity import ConnectivityMatrix"
   ]
  },
  {
   "cell_type": "code",
   "execution_count": null,
   "metadata": {},
   "outputs": [],
   "source": [
    "input_root = \"/Users/pokorny/Data/Circuits\"\n",
    "cmat_root = \"/Users/pokorny/Data/ConnectivityMatrices\"\n",
    "output_root = \"../../../obi-output/extracted_small_microcircuits_simplex\""
   ]
  },
  {
   "cell_type": "code",
   "execution_count": null,
   "metadata": {},
   "outputs": [],
   "source": [
    "# Load nbS1-O1 circuit with connectivity matrix\n",
    "circuit = obi.Circuit(name=\"nbS1-O1\",\n",
    "                      path=os.path.join(input_root, \"nbS1-O1\", \"circuit_config_postfix2.json\"),\n",
    "                      matrix_path=os.path.join(cmat_root, \"nbS1-O1\", \"connectivity_matrix.h5\"))\n",
    "display(circuit.connectivity_matrix.matrix)"
   ]
  },
  {
   "cell_type": "code",
   "execution_count": null,
   "metadata": {},
   "outputs": [],
   "source": [
    "# nbS1-O1 - Central neurons in connectivity\n",
    "df_sel = pd.read_pickle(\"Top10CentralNeurons_Layer_Hex.pkl\")  # (Contains neuron IDs relative to nbS1-HEXn)\n",
    "# df_opt = pd.read_pickle(\"Top10CentralNeurons_Layer_Hex_OptIDX.pkl\")  # Don't used here\n",
    "\n",
    "# Load HEXi connectivity matrix\n",
    "base_name = \"nbS1\"\n",
    "hex_sel = \"hex0\"\n",
    "layers = range(1, 7)\n",
    "cmat = ConnectivityMatrix.from_h5(os.path.join(cmat_root, f\"{base_name}-{hex_sel.upper()}\", \"connectivity_matrix.h5\"))\n",
    "ntab = cmat.vertices.set_index(\"node_ids\")\n",
    "\n",
    "# Load ID mapping w.r.t. parent circuit nbS1-O1\n",
    "id_map_file = os.path.join(input_root, f\"{base_name}-{hex_sel.upper()}\", \"id_mapping.json\")\n",
    "with open(id_map_file, \"r\") as f:\n",
    "    id_map = json.load(f)\n",
    "assert np.array_equal(id_map[\"S1nonbarrel_neurons\"][\"new_id\"], ntab.index.values)\n",
    "\n",
    "nid_selection = []  # Selected neuron IDs for nbS1-O1 circuit\n",
    "for _lay in layers:\n",
    "    # opt_idx = df_opt.loc[(hex_sel, _lay)][\"pos\"]\n",
    "    opt_idx = 0  # Always take first one from list, which is the most central neuron\n",
    "    node_id = df_sel[(\"hex0\", _lay)].iloc[opt_idx].tolist()\n",
    "    nid_selection.append(id_map[\"S1nonbarrel_neurons\"][\"old_id\"][node_id])\n",
    "\n",
    "# Check selection\n",
    "cmat = circuit.connectivity_matrix\n",
    "sel_tab = cmat.vertices.loc[nid_selection]\n",
    "assert np.array_equal(sel_tab[\"layer\"].astype(int), layers)\n",
    "display(sel_tab)"
   ]
  },
  {
   "cell_type": "code",
   "execution_count": null,
   "metadata": {},
   "outputs": [],
   "source": [
    "# Set up simplex neuron sets\n",
    "N = 10  # Max. number of neurons\n",
    "# dim = 10  # Top dim (may be actually 4, 5 or 6)\n",
    "dim = 2  # Triplets\n",
    "# simplex_pos = \"source\"\n",
    "simplex_pos = \"target\"\n",
    "simplex_neuron_sets = obi.SimplexNeuronSet(\n",
    "    central_neuron_id=nid_selection,\n",
    "    dim=dim,\n",
    "    central_neuron_simplex_position=simplex_pos,\n",
    "    subsample=True,\n",
    "    seed=0,\n",
    "    n_count_max=N,\n",
    "    simplex_type=\"directed\",\n",
    "    property_filter=obi.NeuronPropertyFilter(),\n",
    ")\n",
    "\n",
    "virtual_sources_to_ignore = (\"external_S1nonbarrel_neurons__S1nonbarrel_neurons__chemical\", )\n",
    "output_path = os.path.join(output_root, f\"dim{dim}-{simplex_pos}\")"
   ]
  },
  {
   "cell_type": "code",
   "execution_count": null,
   "metadata": {},
   "outputs": [],
   "source": [
    "circuit_extractions_scan_config = obi.CircuitExtractionScanConfig(\n",
    "                    initialize=obi.CircuitExtractionScanConfig.Initialize(\n",
    "                        circuit=circuit,\n",
    "                        run_validation=False,\n",
    "                        do_virtual=True,\n",
    "                        create_external=True,\n",
    "                        virtual_sources_to_ignore=virtual_sources_to_ignore,\n",
    "                    ),\n",
    "                    neuron_set=simplex_neuron_sets,\n",
    ")\n",
    "\n",
    "coupled_scan = obi.CoupledScanGenerationTask(form=circuit_extractions_scan_config, output_root=output_path, coordinate_directory_option=\"ZERO_INDEX\")"
   ]
  },
  {
   "cell_type": "code",
   "execution_count": null,
   "metadata": {},
   "outputs": [],
   "source": [
    "# Display the intermediary data\n",
    "coupled_scan.multiple_value_parameters(display=True)\n",
    "coupled_scan.coordinate_parameters(display=True)\n",
    "# coupled_scan.coordinate_instances(display=True)"
   ]
  },
  {
   "cell_type": "code",
   "execution_count": null,
   "metadata": {},
   "outputs": [],
   "source": [
    "coupled_scan.execute()\n",
    "obi.run_tasks_for_generated_scan(coupled_scan)"
   ]
  },
  {
   "cell_type": "code",
   "execution_count": null,
   "metadata": {},
   "outputs": [],
   "source": [
    "# Check circuits\n",
    "from bluepysnap import Circuit\n",
    "\n",
    "for _idx, _inst in enumerate(coupled_scan.coordinate_instances()):\n",
    "    cfg = coupled_scan.output_root / str(_idx) / \"circuit_config.json\"\n",
    "    c = Circuit(cfg)\n",
    "    nodes = c.nodes['S1nonbarrel_neurons']\n",
    "    mtypes = np.unique(nodes.get(properties=['mtype']), return_counts=True)\n",
    "    mt_hist = [f\"{_c}x{_mt}\" for _mt, _c in zip(*mtypes)]\n",
    "    print(f\"L{layers[_idx]}: {nodes.size} neurons, {c.edges[\"S1nonbarrel_neurons__S1nonbarrel_neurons__chemical\"].size} synapses, m-types: {', '.join(mt_hist)}\")\n"
   ]
  },
  {
   "cell_type": "code",
   "execution_count": null,
   "metadata": {},
   "outputs": [],
   "source": []
  }
 ],
 "metadata": {
  "kernelspec": {
   "display_name": "obi-one",
   "language": "python",
   "name": "obi-one"
  },
  "language_info": {
   "codemirror_mode": {
    "name": "ipython",
    "version": 3
   },
   "file_extension": ".py",
   "mimetype": "text/x-python",
   "name": "python",
   "nbconvert_exporter": "python",
   "pygments_lexer": "ipython3",
   "version": "3.12.9"
  }
 },
 "nbformat": 4,
 "nbformat_minor": 4
}
