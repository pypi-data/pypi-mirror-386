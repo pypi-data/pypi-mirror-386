{
 "cells": [
  {
   "cell_type": "markdown",
   "metadata": {},
   "source": [
    "# Circuit simulation examples"
   ]
  },
  {
   "cell_type": "code",
   "execution_count": null,
   "metadata": {},
   "outputs": [],
   "source": [
    "import obi_one as obi"
   ]
  },
  {
   "cell_type": "code",
   "execution_count": null,
   "metadata": {},
   "outputs": [],
   "source": [
    "circuit_path_prefix = \"/Users/armando/Desktop/Models/microcircuits/cylinder/\""
   ]
  },
  {
   "cell_type": "markdown",
   "metadata": {},
   "source": [
    "### Loading one circuit"
   ]
  },
  {
   "cell_type": "code",
   "execution_count": null,
   "metadata": {},
   "outputs": [],
   "source": [
    "circuit = obi.Circuit(name=\"cylinder\", path=circuit_path_prefix + \"circuit_config.json\")\n",
    "print(f\"Circuit '{circuit}' with {circuit.sonata_circuit.nodes.size} neurons and {circuit.sonata_circuit.edges.size} synapses\")"
   ]
  },
  {
   "cell_type": "markdown",
   "metadata": {},
   "source": [
    "### Defining the circuit simulation"
   ]
  },
  {
   "cell_type": "code",
   "execution_count": null,
   "metadata": {},
   "outputs": [],
   "source": [
    "# Simulation init\n",
    "neuron_set = obi.PredefinedNeuronSet(node_set=\"All\", sample_percentage=None)\n",
    "sim_duration = 1000.0  # ms\n",
    "stim_frequency = 20 # Hz\n",
    "simulations_initialize = obi.CircuitSimulationScanConfig.Initialize(\n",
    "    circuit=circuit,\n",
    "    node_set=neuron_set,\n",
    "    simulation_length=sim_duration,\n",
    ")\n",
    "\n",
    "# Stimuli\n",
    "stim_neuron_set = obi.PredefinedNeuronSet(node_set=\"All\", sample_percentage=100)\n",
    "stim_times = obi.RegularTimestamps(start_time=0.0, number_of_repetitions=1, interval=1000.0)  # in ms!!\n",
    "poisson_input = obi.PoissonSpikeStimulus(timestamps=stim_times,\n",
    "                                         stim_duration=sim_duration,\n",
    "                                         frequency=stim_frequency,\n",
    "                                         neuron_set=stim_neuron_set,\n",
    "                                         )\n",
    "\n",
    "# Recordings\n",
    "rec_neuron_set = obi.PredefinedNeuronSet(node_set=\"All\", sample_percentage=100)\n",
    "v_recording = obi.SomaVoltageRecording(start_time=0.0, end_time=sim_duration, neuron_set=rec_neuron_set)\n",
    "\n",
    "\"\"\"\n",
    "Fill form with Blocks\n",
    "\"\"\"\n",
    "simulations_form = obi.CircuitSimulationScanConfig(\n",
    "                                    initialize=simulations_initialize,\n",
    "                                    intracellular_location_sets={},\n",
    "                                    extracellular_locations={},\n",
    "                                    neuron_sets={\"AllNeurons\": neuron_set, \"AllStim\": stim_neuron_set, \"AllRec\": rec_neuron_set},\n",
    "                                    synapse_sets={},\n",
    "                                    timestamps={\"StimTimes\": stim_times},\n",
    "                                    stimuli={\"PoissonInput\": poisson_input},\n",
    "                                    recordings={\"SomaVoltRec\": v_recording},\n",
    "                                    )"
   ]
  },
  {
   "cell_type": "code",
   "execution_count": null,
   "metadata": {},
   "outputs": [],
   "source": [
    "simulations_form.model_dump(mode=\"json\")"
   ]
  },
  {
   "cell_type": "code",
   "execution_count": null,
   "metadata": {},
   "outputs": [],
   "source": [
    "grid_scan = obi.GridScanGenerationTask(form=simulations_form, output_root='../../../obi-output/circuit_simulations/grid_scan')\n",
    "grid_scan.multiple_value_parameters(display=True)\n",
    "grid_scan.coordinate_parameters(display=True)\n",
    "# grid_scan.coordinate_instances(display=True)\n",
    "grid_scan.execute(processing_method='generate')"
   ]
  },
  {
   "cell_type": "code",
   "execution_count": null,
   "metadata": {},
   "outputs": [],
   "source": [
    "# Deserialization\n",
    "# grid_scan_ds = obi.deserialize_obi_object_from_json_file(\"../../../obi-output/circuit_simulations/grid_scan/run_scan_config.json\")"
   ]
  }
 ],
 "metadata": {
  "kernelspec": {
   "display_name": "obi-one",
   "language": "python",
   "name": "obi-one"
  },
  "language_info": {
   "codemirror_mode": {
    "name": "ipython",
    "version": 3
   },
   "file_extension": ".py",
   "mimetype": "text/x-python",
   "name": "python",
   "nbconvert_exporter": "python",
   "pygments_lexer": "ipython3",
   "version": "3.12.9"
  }
 },
 "nbformat": 4,
 "nbformat_minor": 4
}
