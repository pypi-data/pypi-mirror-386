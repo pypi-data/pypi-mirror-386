{
 "cells": [
  {
   "cell_type": "code",
   "execution_count": null,
   "metadata": {},
   "outputs": [],
   "source": [
    "import obi_one as obi\n",
    "\n",
    "circuit_extractions_scan_config = obi.CircuitExtractionScanConfig(\n",
    "                    initialize=obi.CircuitExtractionScanConfig.Initialize(\n",
    "                        # circuit_path=obi.NamedPath(name=\"nbS1-O1\", path=\"/Volumes/4TB/SSCX O1 - release version/O1_data/circuit_config.json\"),\n",
    "                        # node_set=['nbS1-HEX0-L1']\n",
    "                        # circuit_path=obi.NamedPath(name=\"nbS1-HEX0-L1\", path=\"/Users/pokorny/JupyterLab/git_tmp/obi-output/extracted_subcircuits_test/nbS1-HEX0-L1/circuit_config.json\"),\n",
    "                        # node_set=['Layer1']\n",
    "                        # circuit_path=obi.NamedPath(name=\"nbS1-O1-beta\", path=\"/Users/pokorny/Data/nbS1-O1-beta/circuit_config_tc.json\"),\n",
    "                        # node_set=['nbS1-HEX0-beta-L1']\n",
    "                        circuit_path=obi.NamedPath(name=\"rCA1-CYLINDER-REF\", path=\"/Users/pokorny/Data/rCA1-CYLINDER-REF/circuit_config.json\"),\n",
    "                        node_set=['SP_Ivy']\n",
    "                    )\n",
    ")\n",
    "\n",
    "# grid_scan = obi.GridScanGenerationTask(form=circuit_extractions_form, output_root='/Volumes/4TB/_TMP_CP_/obi-output/extracted_subcircuits_test', coordinate_directory_option=\"VALUE\")\n",
    "grid_scan = obi.GridScanGenerationTask(form=circuit_extractions_scan_config, output_root='../../../../obi-output/extracted_subcircuits_test', coordinate_directory_option=\"VALUE\")\n"
   ]
  },
  {
   "cell_type": "code",
   "execution_count": null,
   "metadata": {},
   "outputs": [
    {
     "name": "stdout",
     "output_type": "stream",
     "text": [
      "Extracting subcircuit from 'rCA1-CYLINDER-REF'\n",
      "Copying morphologies for population 'hippocampus_neurons' (239)\n"
     ]
    },
    {
     "name": "stderr",
     "output_type": "stream",
     "text": [
      "Copying .swc morphologies: 100%|██████████████████████████████████████████████████████████████████████| 75/75 [00:00<00:00, 123.89it/s]"
     ]
    },
    {
     "name": "stdout",
     "output_type": "stream",
     "text": [
      "Copying biophysical_neuron_models for population 'hippocampus_neurons' (239)\n",
      "Extraction DONE\n"
     ]
    },
    {
     "name": "stderr",
     "output_type": "stream",
     "text": [
      "\n"
     ]
    }
   ],
   "source": [
    "grid_scan.execute()\n",
    "obi.run_tasks_for_generated_scan(grid_scan)"
   ]
  },
  {
   "cell_type": "code",
   "execution_count": 9,
   "metadata": {},
   "outputs": [
    {
     "name": "stdout",
     "output_type": "stream",
     "text": [
      "Loaded circuit population with 239 nodes and 70536 edges\n"
     ]
    }
   ],
   "source": [
    "# TEST: Loading circuit\n",
    "from bluepysnap import Circuit\n",
    "c = Circuit(\"../../../../obi-output/extracted_subcircuits_test/SP_Ivy/circuit_config.json\")\n",
    "nodes = c.nodes[\"hippocampus_neurons\"]\n",
    "edges = c.edges[\"hippocampus_neurons__hippocampus_neurons__chemical_synapse\"]\n",
    "print(f\"Loaded circuit population with {nodes.size} nodes and {edges.size} edges\")"
   ]
  },
  {
   "cell_type": "code",
   "execution_count": null,
   "metadata": {},
   "outputs": [],
   "source": []
  }
 ],
 "metadata": {
  "kernelspec": {
   "display_name": "OBISDKTmpKernel",
   "language": "python",
   "name": "obisdktmpkernel"
  },
  "language_info": {
   "codemirror_mode": {
    "name": "ipython",
    "version": 3
   },
   "file_extension": ".py",
   "mimetype": "text/x-python",
   "name": "python",
   "nbconvert_exporter": "python",
   "pygments_lexer": "ipython3",
   "version": "3.12.9"
  }
 },
 "nbformat": 4,
 "nbformat_minor": 4
}
