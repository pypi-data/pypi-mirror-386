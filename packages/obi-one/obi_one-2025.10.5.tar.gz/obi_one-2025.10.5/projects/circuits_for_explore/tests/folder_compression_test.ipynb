{
 "cells": [
  {
   "cell_type": "code",
   "execution_count": 1,
   "metadata": {},
   "outputs": [],
   "source": [
    "import obi_one as obi\n",
    "import os"
   ]
  },
  {
   "cell_type": "code",
   "execution_count": 2,
   "metadata": {},
   "outputs": [],
   "source": [
    "input_root = \"../../../../obi-output/morphology_containerization_test\"\n",
    "output_root = \"../../../../obi-output/circuit_compression_test\""
   ]
  },
  {
   "cell_type": "code",
   "execution_count": null,
   "metadata": {},
   "outputs": [],
   "source": [
    "folder_compressions_scan_config = obi.FolderCompressionScanConfig(\n",
    "                    initialize=obi.FolderCompressionScanConfig.Initialize(\n",
    "                        folder_path=[\n",
    "                            obi.NamedPath(name=\"nbS1-HEX0-beta-L1\", path=os.path.join(input_root, \"nbS1-HEX0-beta-L1\")),\n",
    "                        ],\n",
    "\n",
    "                        file_format=\"gz\",\n",
    "                        file_name=\"circuit\"\n",
    "                    )\n",
    ")\n",
    "\n",
    "grid_scan = obi.GridScanGenerationTask(form=folder_compressions_scan_config, output_root=os.path.join(output_root, \"\"), coordinate_directory_option=\"VALUE\")"
   ]
  },
  {
   "cell_type": "code",
   "execution_count": null,
   "metadata": {},
   "outputs": [
    {
     "name": "stdout",
     "output_type": "stream",
     "text": [
      "Info: Running gz compression on 'nbS1-HEX0-beta-L1'...DONE (Duration 00h:00min:04s; File size 31.0MB)\n"
     ]
    }
   ],
   "source": [
    "grid_scan.execute()\n",
    "obi.run_tasks_for_generated_scan(grid_scan)"
   ]
  },
  {
   "cell_type": "code",
   "execution_count": null,
   "metadata": {},
   "outputs": [],
   "source": []
  }
 ],
 "metadata": {
  "kernelspec": {
   "display_name": "OBISDKTmpKernel",
   "language": "python",
   "name": "obisdktmpkernel"
  },
  "language_info": {
   "codemirror_mode": {
    "name": "ipython",
    "version": 3
   },
   "file_extension": ".py",
   "mimetype": "text/x-python",
   "name": "python",
   "nbconvert_exporter": "python",
   "pygments_lexer": "ipython3",
   "version": "3.12.9"
  }
 },
 "nbformat": 4,
 "nbformat_minor": 4
}
