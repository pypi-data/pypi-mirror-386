{
 "cells": [
  {
   "cell_type": "markdown",
   "id": "cafe30f9-60c1-4fa4-80eb-c19389572aef",
   "metadata": {},
   "source": [
    "## Test code for converting morphology folders into HDF5 morphology containers"
   ]
  },
  {
   "cell_type": "code",
   "execution_count": 1,
   "id": "002004f1-2ce1-471f-9756-a006af6d293c",
   "metadata": {},
   "outputs": [],
   "source": [
    "import datetime\n",
    "import h5py\n",
    "import json\n",
    "import matplotlib.pyplot as plt\n",
    "import morphio\n",
    "import neurom as nm\n",
    "import numpy as np\n",
    "import obi_one as obi\n",
    "import os\n",
    "import shutil\n",
    "import tqdm\n",
    "from bluepysnap import Circuit\n",
    "from importlib.metadata import version\n",
    "from morph_tool import convert, morphio_diff"
   ]
  },
  {
   "cell_type": "markdown",
   "id": "87b43b17-1bda-4b3a-9a0b-dca19cc5f0dd",
   "metadata": {},
   "source": [
    "### Check existing files"
   ]
  },
  {
   "cell_type": "code",
   "execution_count": 2,
   "id": "40245ea3-4a2b-454c-a806-50d3c2b6006b",
   "metadata": {},
   "outputs": [],
   "source": [
    "# Test files\n",
    "single_morph_path = \"/Users/pokorny/JupyterLab/git/MorphIO/tests/data/h5/v1/simple.h5\"\n",
    "container_morph_path = \"/Users/pokorny/JupyterLab/git/MorphIO/tests/data/h5/v1/merged.h5\""
   ]
  },
  {
   "cell_type": "code",
   "execution_count": 3,
   "id": "555ce839-ceaa-4bf5-b6e9-19cf7de0412a",
   "metadata": {},
   "outputs": [],
   "source": [
    "# Check morphologies\n",
    "def get_h5_data(data):\n",
    "    if isinstance(data, h5py.Group):\n",
    "        return {_k: get_h5_data(data[_k]) for _k in data.keys()}\n",
    "    else:\n",
    "        return np.array(data)\n",
    "with h5py.File(single_morph_path) as f:\n",
    "    single_morph_dict = get_h5_data(f)\n",
    "with h5py.File(container_morph_path) as f:\n",
    "    container_morph_dict = get_h5_data(f)\n"
   ]
  },
  {
   "cell_type": "code",
   "execution_count": 4,
   "id": "e0e2b0eb-5af1-401e-9a41-a29a6f43de16",
   "metadata": {},
   "outputs": [
    {
     "data": {
      "text/plain": [
       "{'metadata': {},\n",
       " 'points': array([[ 1.e-03,  1.e-03,  0.e+00,  1.e-02],\n",
       "        [-1.e-03,  1.e-03,  0.e+00,  1.e-02],\n",
       "        [-1.e-03, -1.e-03,  0.e+00,  1.e-02],\n",
       "        [ 1.e-03, -1.e-03,  0.e+00,  1.e-02],\n",
       "        [ 0.e+00,  0.e+00,  0.e+00,  2.e+00],\n",
       "        [ 0.e+00,  5.e+00,  0.e+00,  2.e+00],\n",
       "        [ 0.e+00,  5.e+00,  0.e+00,  3.e+00],\n",
       "        [-5.e+00,  5.e+00,  0.e+00,  3.e+00],\n",
       "        [ 0.e+00,  5.e+00,  0.e+00,  3.e+00],\n",
       "        [ 6.e+00,  5.e+00,  0.e+00,  3.e+00],\n",
       "        [ 0.e+00,  0.e+00,  0.e+00,  2.e+00],\n",
       "        [ 0.e+00, -4.e+00,  0.e+00,  2.e+00],\n",
       "        [ 0.e+00, -4.e+00,  0.e+00,  4.e+00],\n",
       "        [ 6.e+00, -4.e+00,  0.e+00,  4.e+00],\n",
       "        [ 0.e+00, -4.e+00,  0.e+00,  4.e+00],\n",
       "        [-5.e+00, -4.e+00,  0.e+00,  4.e+00]], dtype=float32),\n",
       " 'structure': array([[ 0,  1, -1],\n",
       "        [ 4,  3,  0],\n",
       "        [ 6,  3,  1],\n",
       "        [ 8,  3,  1],\n",
       "        [10,  2,  0],\n",
       "        [12,  2,  4],\n",
       "        [14,  2,  4]], dtype=int32)}"
      ]
     },
     "execution_count": 4,
     "metadata": {},
     "output_type": "execute_result"
    }
   ],
   "source": [
    "single_morph_dict"
   ]
  },
  {
   "cell_type": "code",
   "execution_count": 5,
   "id": "1c6eac81-33d4-443f-aecc-96f9ab4af65c",
   "metadata": {},
   "outputs": [
    {
     "data": {
      "text/plain": [
       "{'metadata': {},\n",
       " 'points': array([[ 1.e-03,  1.e-03,  0.e+00,  1.e-02],\n",
       "        [-1.e-03,  1.e-03,  0.e+00,  1.e-02],\n",
       "        [-1.e-03, -1.e-03,  0.e+00,  1.e-02],\n",
       "        [ 1.e-03, -1.e-03,  0.e+00,  1.e-02],\n",
       "        [ 0.e+00,  0.e+00,  0.e+00,  2.e+00],\n",
       "        [ 0.e+00,  5.e+00,  0.e+00,  2.e+00],\n",
       "        [ 0.e+00,  5.e+00,  0.e+00,  3.e+00],\n",
       "        [-5.e+00,  5.e+00,  0.e+00,  3.e+00],\n",
       "        [ 0.e+00,  5.e+00,  0.e+00,  3.e+00],\n",
       "        [ 6.e+00,  5.e+00,  0.e+00,  3.e+00],\n",
       "        [ 0.e+00,  0.e+00,  0.e+00,  2.e+00],\n",
       "        [ 0.e+00, -4.e+00,  0.e+00,  2.e+00],\n",
       "        [ 0.e+00, -4.e+00,  0.e+00,  4.e+00],\n",
       "        [ 6.e+00, -4.e+00,  0.e+00,  4.e+00],\n",
       "        [ 0.e+00, -4.e+00,  0.e+00,  4.e+00],\n",
       "        [-5.e+00, -4.e+00,  0.e+00,  4.e+00]], dtype=float32),\n",
       " 'structure': array([[ 0,  1, -1],\n",
       "        [ 4,  3,  0],\n",
       "        [ 6,  3,  1],\n",
       "        [ 8,  3,  1],\n",
       "        [10,  2,  0],\n",
       "        [12,  2,  4],\n",
       "        [14,  2,  4]], dtype=int32)}"
      ]
     },
     "execution_count": 5,
     "metadata": {},
     "output_type": "execute_result"
    }
   ],
   "source": [
    "container_morph_dict[\"simple\"]"
   ]
  },
  {
   "cell_type": "code",
   "execution_count": null,
   "id": "eca3ddda-9a4f-4e93-9280-d11bcf3aa8a7",
   "metadata": {},
   "outputs": [],
   "source": []
  },
  {
   "cell_type": "markdown",
   "id": "3c46d1de-97d1-48cc-a3be-f28fd1ce89aa",
   "metadata": {},
   "source": [
    "### Morphology conversion\n",
    "\n",
    "__Single .asc morphology to .h5__"
   ]
  },
  {
   "cell_type": "code",
   "execution_count": 6,
   "id": "bd186ea7-35a9-4bb5-a9e9-6cb44579a7e1",
   "metadata": {},
   "outputs": [],
   "source": [
    "asc_file = \"/Users/pokorny/JupyterLab/git/MorphIO/tests/data/simple.asc\"  # Input\n",
    "h5_file = os.path.join(\".\", os.path.splitext(os.path.split(asc_file)[1])[0] + \".h5\")  # Output"
   ]
  },
  {
   "cell_type": "code",
   "execution_count": 7,
   "id": "f9031450-b533-48dd-8037-285eb5bfaabb",
   "metadata": {},
   "outputs": [
    {
     "data": {
      "text/plain": [
       "<morphio._morphio.mut.Morphology at 0x10f3f4fb0>"
      ]
     },
     "execution_count": 7,
     "metadata": {},
     "output_type": "execute_result"
    }
   ],
   "source": [
    "convert(asc_file, h5_file)"
   ]
  },
  {
   "cell_type": "code",
   "execution_count": 8,
   "id": "3416fa70-b8bd-4a65-8c72-9968d0ed0251",
   "metadata": {},
   "outputs": [],
   "source": [
    "with h5py.File(h5_file) as f:\n",
    "    h5_dict = get_h5_data(f)"
   ]
  },
  {
   "cell_type": "code",
   "execution_count": 9,
   "id": "44fc1204-f224-44d6-ae37-87f60ef14871",
   "metadata": {},
   "outputs": [
    {
     "data": {
      "text/plain": [
       "{'metadata': {},\n",
       " 'points': array([[ 1.e-03,  1.e-03,  0.e+00,  1.e-02],\n",
       "        [-1.e-03,  1.e-03,  0.e+00,  1.e-02],\n",
       "        [-1.e-03, -1.e-03,  0.e+00,  1.e-02],\n",
       "        [ 1.e-03, -1.e-03,  0.e+00,  1.e-02],\n",
       "        [ 0.e+00,  0.e+00,  0.e+00,  2.e+00],\n",
       "        [ 0.e+00,  5.e+00,  0.e+00,  2.e+00],\n",
       "        [ 0.e+00,  5.e+00,  0.e+00,  3.e+00],\n",
       "        [-5.e+00,  5.e+00,  0.e+00,  3.e+00],\n",
       "        [ 0.e+00,  5.e+00,  0.e+00,  3.e+00],\n",
       "        [ 6.e+00,  5.e+00,  0.e+00,  3.e+00],\n",
       "        [ 0.e+00,  0.e+00,  0.e+00,  2.e+00],\n",
       "        [ 0.e+00, -4.e+00,  0.e+00,  2.e+00],\n",
       "        [ 0.e+00, -4.e+00,  0.e+00,  4.e+00],\n",
       "        [ 6.e+00, -4.e+00,  0.e+00,  4.e+00],\n",
       "        [ 0.e+00, -4.e+00,  0.e+00,  4.e+00],\n",
       "        [-5.e+00, -4.e+00,  0.e+00,  4.e+00]], dtype=float32),\n",
       " 'structure': array([[ 0,  1, -1],\n",
       "        [ 4,  3,  0],\n",
       "        [ 6,  3,  1],\n",
       "        [ 8,  3,  1],\n",
       "        [10,  2,  0],\n",
       "        [12,  2,  4],\n",
       "        [14,  2,  4]], dtype=int32)}"
      ]
     },
     "execution_count": 9,
     "metadata": {},
     "output_type": "execute_result"
    }
   ],
   "source": [
    "h5_dict"
   ]
  },
  {
   "cell_type": "code",
   "execution_count": null,
   "id": "e6be31a6-4638-4c4b-aaad-c82bbb4a5291",
   "metadata": {},
   "outputs": [],
   "source": []
  },
  {
   "cell_type": "markdown",
   "id": "176c368f-3185-4d1f-b551-7336b990545a",
   "metadata": {},
   "source": [
    "__Multiple .h5 morphologies from a folder into single .h5 container__"
   ]
  },
  {
   "cell_type": "code",
   "execution_count": 10,
   "id": "74a63404-8f57-4b54-9653-5ad176e89fea",
   "metadata": {},
   "outputs": [],
   "source": [
    "morph_folder = \"./test_morphs\""
   ]
  },
  {
   "cell_type": "code",
   "execution_count": 12,
   "id": "64bdcc94-5b4a-490e-8482-97c101126e3a",
   "metadata": {},
   "outputs": [
    {
     "name": "stdout",
     "output_type": "stream",
     "text": [
      "Added endoplasmic-reticulum\n",
      "Added glia\n",
      "Added mitochondria\n",
      "Added simple-dendritric-spine\n",
      "Added simple\n"
     ]
    }
   ],
   "source": [
    "h5_file = morph_folder + \".h5\"\n",
    "with h5py.File(h5_file, \"w-\") as f_out:\n",
    "    for _file in sorted(os.listdir(morph_folder)):\n",
    "        fname, fext = os.path.splitext(_file)\n",
    "        if fext == \".h5\":\n",
    "            with h5py.File(os.path.join(morph_folder, _file)) as f_in:\n",
    "                f_in.copy(f_in, f_out, name=fname)\n",
    "                print(f\"Added {fname}\")"
   ]
  },
  {
   "cell_type": "code",
   "execution_count": 13,
   "id": "763b1e7c-ba20-4503-a289-ffe4a7380c5e",
   "metadata": {},
   "outputs": [],
   "source": [
    "with h5py.File(h5_file) as f:\n",
    "    h5_dict = get_h5_data(f)"
   ]
  },
  {
   "cell_type": "code",
   "execution_count": 14,
   "id": "4c9f80fb-a747-46bb-8bd8-9ae801de1ab4",
   "metadata": {},
   "outputs": [
    {
     "data": {
      "text/plain": [
       "dict_keys(['endoplasmic-reticulum', 'glia', 'mitochondria', 'simple', 'simple-dendritric-spine'])"
      ]
     },
     "execution_count": 14,
     "metadata": {},
     "output_type": "execute_result"
    }
   ],
   "source": [
    "h5_dict.keys()"
   ]
  },
  {
   "cell_type": "code",
   "execution_count": 15,
   "id": "a19d7d87-a1b4-40b0-a212-653cf1ba021b",
   "metadata": {},
   "outputs": [
    {
     "data": {
      "text/plain": [
       "{'metadata': {},\n",
       " 'points': array([[ 1.e-03,  1.e-03,  0.e+00,  1.e-02],\n",
       "        [-1.e-03,  1.e-03,  0.e+00,  1.e-02],\n",
       "        [-1.e-03, -1.e-03,  0.e+00,  1.e-02],\n",
       "        [ 1.e-03, -1.e-03,  0.e+00,  1.e-02],\n",
       "        [ 0.e+00,  0.e+00,  0.e+00,  2.e+00],\n",
       "        [ 0.e+00,  5.e+00,  0.e+00,  2.e+00],\n",
       "        [ 0.e+00,  5.e+00,  0.e+00,  3.e+00],\n",
       "        [-5.e+00,  5.e+00,  0.e+00,  3.e+00],\n",
       "        [ 0.e+00,  5.e+00,  0.e+00,  3.e+00],\n",
       "        [ 6.e+00,  5.e+00,  0.e+00,  3.e+00],\n",
       "        [ 0.e+00,  0.e+00,  0.e+00,  2.e+00],\n",
       "        [ 0.e+00, -4.e+00,  0.e+00,  2.e+00],\n",
       "        [ 0.e+00, -4.e+00,  0.e+00,  4.e+00],\n",
       "        [ 6.e+00, -4.e+00,  0.e+00,  4.e+00],\n",
       "        [ 0.e+00, -4.e+00,  0.e+00,  4.e+00],\n",
       "        [-5.e+00, -4.e+00,  0.e+00,  4.e+00]], dtype=float32),\n",
       " 'structure': array([[ 0,  1, -1],\n",
       "        [ 4,  3,  0],\n",
       "        [ 6,  3,  1],\n",
       "        [ 8,  3,  1],\n",
       "        [10,  2,  0],\n",
       "        [12,  2,  4],\n",
       "        [14,  2,  4]], dtype=int32)}"
      ]
     },
     "execution_count": 15,
     "metadata": {},
     "output_type": "execute_result"
    }
   ],
   "source": [
    "h5_dict[\"simple\"]"
   ]
  },
  {
   "cell_type": "code",
   "execution_count": 16,
   "id": "036d0f89-6a35-49d7-b629-f4d626211edd",
   "metadata": {},
   "outputs": [
    {
     "name": "stdout",
     "output_type": "stream",
     "text": [
      "Morphology 'endoplasmic-reticulum' does not differ!\n",
      "Morphology 'glia' does not differ!\n",
      "Morphology 'mitochondria' does not differ!\n",
      "Morphology 'simple' does not differ!\n",
      "Morphology 'simple-dendritric-spine' does not differ!\n"
     ]
    },
    {
     "name": "stderr",
     "output_type": "stream",
     "text": [
      "\n",
      "\u001b[1;33mHDF5 GROUP:0:warning\u001b[0m\n",
      "Warning: no soma found in file\n",
      "\n",
      "\u001b[1;33m./test_morphs/simple-dendritric-spine.h5:0:warning\u001b[0m\n",
      "Warning: no soma found in file\n"
     ]
    }
   ],
   "source": [
    "with h5py.File(h5_file) as f:\n",
    "    morph_list = list(f.keys())\n",
    "coll_container = morphio.Collection(h5_file)\n",
    "coll_folder = morphio.Collection(morph_folder)\n",
    "for _mname in morph_list:\n",
    "    morph_c = coll_container.load(_mname)\n",
    "    morph_f = coll_folder.load(_mname)\n",
    "    mdiff = morphio_diff.diff(morph_c, morph_f)\n",
    "    if mdiff:\n",
    "        print(f\"ERROR: Morphology '{_mname}' differs!\\n{mdiff.info}\")\n",
    "    else:\n",
    "        print(f\"Morphology '{_mname}' does not differ!\")\n",
    "coll_container.close()\n",
    "coll_folder.close()"
   ]
  },
  {
   "cell_type": "code",
   "execution_count": null,
   "id": "2c23ba05-5d91-44d3-8b48-a4e30f6a3ddf",
   "metadata": {},
   "outputs": [],
   "source": []
  },
  {
   "cell_type": "markdown",
   "id": "2e3f10a9-9f3f-425b-9283-0676876cbcc1",
   "metadata": {},
   "source": [
    "__Adding morphology container to circuit__"
   ]
  },
  {
   "cell_type": "code",
   "execution_count": 223,
   "id": "c63e194e-e4b3-4680-9700-61058f47ea81",
   "metadata": {},
   "outputs": [
    {
     "name": "stdout",
     "output_type": "stream",
     "text": [
      "INFO: Loaded circuit with 5924 neurons and 5474 unique morphologies\n"
     ]
    }
   ],
   "source": [
    "circuit_config = \"/Users/pokorny/Data/ToyCircuit-S1-6k-Test/circuit_config.json\"\n",
    "c = Circuit(circuit_config)\n",
    "nodes = c.nodes[\"All\"]\n",
    "morph_names = np.unique(nodes.get(properties=\"morphology\"))\n",
    "print(f\"INFO: Loaded circuit with {nodes.size} neurons and {len(morph_names)} unique morphologies\")"
   ]
  },
  {
   "cell_type": "markdown",
   "id": "e83302c5-5f41-4b91-a2f7-3ae435ceb3ec",
   "metadata": {},
   "source": [
    "_Step 1: Convert .asc folder to .h5, if not existing_"
   ]
  },
  {
   "cell_type": "code",
   "execution_count": 224,
   "id": "fc6d2f8d-7e02-4873-ba4d-b650525b65e3",
   "metadata": {},
   "outputs": [
    {
     "ename": "FileExistsError",
     "evalue": "[Errno 17] File exists: '/Users/pokorny/Data/ToyCircuit-S1-6k-Test/components/morphologies/_h5_morphologies_tmp_'",
     "output_type": "error",
     "traceback": [
      "\u001b[31m---------------------------------------------------------------------------\u001b[39m",
      "\u001b[31mFileExistsError\u001b[39m                           Traceback (most recent call last)",
      "\u001b[36mCell\u001b[39m\u001b[36m \u001b[39m\u001b[32mIn[224]\u001b[39m\u001b[32m, line 4\u001b[39m\n\u001b[32m      2\u001b[39m \u001b[38;5;28;01massert\u001b[39;00m \u001b[38;5;28mlen\u001b[39m(os.listdir(asc_folder)) > \u001b[32m0\u001b[39m, \u001b[33m\"\u001b[39m\u001b[33mERROR: .asc morphology folder is empty!\u001b[39m\u001b[33m\"\u001b[39m\n\u001b[32m      3\u001b[39m h5_folder = os.path.join(os.path.split(asc_folder)[\u001b[32m0\u001b[39m], \u001b[33m\"\u001b[39m\u001b[33m_h5_morphologies_tmp_\u001b[39m\u001b[33m\"\u001b[39m)\n\u001b[32m----> \u001b[39m\u001b[32m4\u001b[39m \u001b[43mos\u001b[49m\u001b[43m.\u001b[49m\u001b[43mmakedirs\u001b[49m\u001b[43m(\u001b[49m\u001b[43mh5_folder\u001b[49m\u001b[43m,\u001b[49m\u001b[43m \u001b[49m\u001b[43mexist_ok\u001b[49m\u001b[43m=\u001b[49m\u001b[38;5;28;43;01mFalse\u001b[39;49;00m\u001b[43m)\u001b[49m\n",
      "\u001b[36mFile \u001b[39m\u001b[32m/opt/homebrew/Cellar/python@3.13/3.13.2/Frameworks/Python.framework/Versions/3.13/lib/python3.13/os.py:227\u001b[39m, in \u001b[36mmakedirs\u001b[39m\u001b[34m(name, mode, exist_ok)\u001b[39m\n\u001b[32m    225\u001b[39m         \u001b[38;5;28;01mreturn\u001b[39;00m\n\u001b[32m    226\u001b[39m \u001b[38;5;28;01mtry\u001b[39;00m:\n\u001b[32m--> \u001b[39m\u001b[32m227\u001b[39m     \u001b[43mmkdir\u001b[49m\u001b[43m(\u001b[49m\u001b[43mname\u001b[49m\u001b[43m,\u001b[49m\u001b[43m \u001b[49m\u001b[43mmode\u001b[49m\u001b[43m)\u001b[49m\n\u001b[32m    228\u001b[39m \u001b[38;5;28;01mexcept\u001b[39;00m \u001b[38;5;167;01mOSError\u001b[39;00m:\n\u001b[32m    229\u001b[39m     \u001b[38;5;66;03m# Cannot rely on checking for EEXIST, since the operating system\u001b[39;00m\n\u001b[32m    230\u001b[39m     \u001b[38;5;66;03m# could give priority to other errors like EACCES or EROFS\u001b[39;00m\n\u001b[32m    231\u001b[39m     \u001b[38;5;28;01mif\u001b[39;00m \u001b[38;5;129;01mnot\u001b[39;00m exist_ok \u001b[38;5;129;01mor\u001b[39;00m \u001b[38;5;129;01mnot\u001b[39;00m path.isdir(name):\n",
      "\u001b[31mFileExistsError\u001b[39m: [Errno 17] File exists: '/Users/pokorny/Data/ToyCircuit-S1-6k-Test/components/morphologies/_h5_morphologies_tmp_'"
     ]
    }
   ],
   "source": [
    "asc_folder = nodes.morph.get_morphology_dir(\"asc\")  # Input folder\n",
    "assert len(os.listdir(asc_folder)) > 0, \"ERROR: .asc morphology folder is empty!\"\n",
    "h5_folder = os.path.join(os.path.split(asc_folder)[0], \"_h5_morphologies_tmp_\")\n",
    "os.makedirs(h5_folder, exist_ok=False)"
   ]
  },
  {
   "cell_type": "code",
   "execution_count": 109,
   "id": "25848da5-d094-407f-9281-7216880f8e79",
   "metadata": {},
   "outputs": [
    {
     "name": "stderr",
     "output_type": "stream",
     "text": [
      "100%|██████████████████████████████████████████████████████████████████████████████████████████| 5474/5474 [00:38<00:00, 143.91it/s]\n"
     ]
    }
   ],
   "source": [
    "for _m in tqdm.tqdm(morph_names):\n",
    "    convert(os.path.join(asc_folder, _m + \".asc\"), os.path.join(h5_folder, _m + \".h5\"))"
   ]
  },
  {
   "cell_type": "markdown",
   "id": "12399b93-6072-4cc2-a4ac-f1bfc098c6d5",
   "metadata": {},
   "source": [
    "OR: Use batch conversion in command line:\n",
    "~~~\n",
    "morph-tool convert folder -ext h5 ./asc_input_folder ./h5_output_folder\n",
    "~~~"
   ]
  },
  {
   "cell_type": "markdown",
   "id": "0bee2c03-b258-43b4-8f7e-e43921765b8b",
   "metadata": {},
   "source": [
    "_Step 2: Convert .h5 folder to container_"
   ]
  },
  {
   "cell_type": "code",
   "execution_count": 243,
   "id": "888478fc-ad92-4231-9914-923f873d3853",
   "metadata": {},
   "outputs": [
    {
     "name": "stderr",
     "output_type": "stream",
     "text": [
      "100%|████████████████████████████████████████████████████████████████████████████████████████████████████████████████████████| 5474/5474 [00:00<00:00, 21585.71it/s]"
     ]
    },
    {
     "name": "stdout",
     "output_type": "stream",
     "text": [
      "INFO: 5474 of 5474 morphologies already existed\n"
     ]
    },
    {
     "name": "stderr",
     "output_type": "stream",
     "text": [
      "\n"
     ]
    }
   ],
   "source": [
    "container_file = \"container.h5\"\n",
    "h5_container = os.path.join(os.path.split(asc_folder)[0], container_file)\n",
    "h5_folder = os.path.join(os.path.split(asc_folder)[0], \"_h5_morphologies_tmp_\")\n",
    "# assert not os.path.exists(h5_container), f\"ERROR: Container file '{h5_container}' already exists!\"\n",
    "with h5py.File(h5_container, \"a\") as f_container:\n",
    "    skip_counter = 0\n",
    "    for _m in tqdm.tqdm(morph_names):\n",
    "        with h5py.File(os.path.join(h5_folder, _m + \".h5\")) as f_h5:\n",
    "            if _m in f_container:\n",
    "                skip_counter += 1\n",
    "            else:\n",
    "                f_h5.copy(f_h5, f_container, name=_m)\n",
    "print(f\"INFO: {skip_counter} of {len(morph_names)} morphologies already existed\")"
   ]
  },
  {
   "cell_type": "markdown",
   "id": "37e140c0-32ea-4bce-9e85-d1d22bb2eba1",
   "metadata": {},
   "source": [
    "_Step 3: Delete temporary .h5 folder (optional)_"
   ]
  },
  {
   "cell_type": "code",
   "execution_count": 119,
   "id": "103bb527-deff-42ee-8aaa-6b2a4db241eb",
   "metadata": {},
   "outputs": [],
   "source": [
    "# shutil.rmtree(h5_folder)"
   ]
  },
  {
   "cell_type": "markdown",
   "id": "a58e9fdb-c47f-4576-9ab2-33f7199ba6bd",
   "metadata": {},
   "source": [
    "_Step 4: Update circuit config_"
   ]
  },
  {
   "cell_type": "code",
   "execution_count": 15,
   "id": "6c3fdbb8-c5cb-4785-be44-491cdefd3d0e",
   "metadata": {},
   "outputs": [],
   "source": [
    "cname, cext = os.path.splitext(circuit_config)\n",
    "shutil.copy(circuit_config, cname + \"__BAK__\" + cext)  # Save original config file\n",
    "\n",
    "with open(circuit_config, \"r\") as f:\n",
    "    cfg_dict = json.load(f)\n",
    "\n",
    "for _ndict in cfg_dict[\"networks\"][\"nodes\"]:\n",
    "    if nodes.name in _ndict[\"populations\"]:\n",
    "        _pop = _ndict[\"populations\"][nodes.name]\n",
    "        _pop[\"alternate_morphologies\"][\"h5v1\"] = os.path.join(os.path.split(_pop[\"alternate_morphologies\"][\"neurolucida-asc\"])[0], container_file)\n",
    "        break\n",
    "\n",
    "with open(circuit_config, \"w\") as f:\n",
    "    json.dump(cfg_dict, f, indent=2)\n"
   ]
  },
  {
   "cell_type": "markdown",
   "id": "d375cc6e-f72a-4bb8-8195-9a859654cc64",
   "metadata": {},
   "source": [
    "_Test: Loading morphologies from container using SNAP_ __>>> REQUIRES SNAP v3.0.2 or higher (not yet on PyPI)!!__"
   ]
  },
  {
   "cell_type": "code",
   "execution_count": 19,
   "id": "3e527a06-98c7-4f17-8db9-6b9a3ac094e9",
   "metadata": {},
   "outputs": [],
   "source": [
    "def load_morphology(nodes, nid, extension='asc'):\n",
    "    def _sec_points(sec, soma_pos):\n",
    "        \"\"\"Connect all root sections to the soma.\"\"\"\n",
    "        if sec.is_root:\n",
    "            return np.vstack([soma_pos, sec.points])\n",
    "        else:\n",
    "            return sec.points\n",
    "    get_tgt_morph = lambda node_id: nodes.morph.get(node_id, transform=True, extension=extension) # Access function (incl. transformation!), using ASCII format\n",
    "    nrn_morph = get_tgt_morph(nid)  # Target morphology\n",
    "    soma_pos = nrn_morph.soma.center\n",
    "    dd_types = list(filter(lambda tp: \"dendrite\" in tp.name, nm.NEURITE_TYPES))  # Select dendrite types\n",
    "    dd_sel = np.isin(nrn_morph.section_types, dd_types)\n",
    "    dd_points = [_sec_points(_sec, soma_pos) for _sel, _sec in zip(dd_sel, nrn_morph.sections) if _sel]  # Dendrite points\n",
    "    ax_types = list(filter(lambda tp: \"axon\" in tp.name, nm.NEURITE_TYPES))  # Select dendrite types\n",
    "    ax_sel = np.isin(nrn_morph.section_types, ax_types)\n",
    "    ax_points = [_sec_points(_sec, soma_pos) for _sel, _sec in zip(ax_sel, nrn_morph.sections) if _sel]  # Axon points\n",
    "    return soma_pos, dd_points, ax_points\n",
    "\n",
    "def plot_morph(soma_pos, dd_points, ax_points, soma_color=\"k\", dd_style={\"fmt\": \"k-\"}, ax_style=None, label=None):\n",
    "    if soma_color is not None:\n",
    "        plt.plot(*soma_pos, \"o\", color=soma_color, alpha=1.0, markeredgecolor=\"none\", label=label)\n",
    "    if dd_style is not None:\n",
    "        dd_style = dd_style.copy()\n",
    "        dd_fmt = dd_style.pop(\"fmt\", \"\")\n",
    "        for _i, _p in enumerate(dd_points):\n",
    "            plt.plot(_p[:, 0], _p[:, 1], _p[:, 2], dd_fmt, **dd_style)\n",
    "    if ax_style is not None:\n",
    "        ax_style = ax_style.copy()\n",
    "        ax_fmt = ax_style.pop(\"fmt\", \"\")\n",
    "        for _i, _p in enumerate(ax_points):\n",
    "            plt.plot(_p[:, 0], _p[:, 1], _p[:, 2], ax_fmt, **ax_style)"
   ]
  },
  {
   "cell_type": "code",
   "execution_count": 20,
   "id": "ef9de531-596b-4792-b075-6526fe4e4325",
   "metadata": {},
   "outputs": [
    {
     "name": "stdout",
     "output_type": "stream",
     "text": [
      "INFO: Loaded circuit with 5924 neurons and 5474 unique morphologies\n"
     ]
    }
   ],
   "source": [
    "# Re-load circuit\n",
    "c = Circuit(circuit_config)\n",
    "nodes = c.nodes[\"All\"]\n",
    "morph_names = np.unique(nodes.get(properties=\"morphology\"))\n",
    "print(f\"INFO: Loaded circuit with {nodes.size} neurons and {len(morph_names)} unique morphologies\")"
   ]
  },
  {
   "cell_type": "code",
   "execution_count": 34,
   "id": "06aafeea-4bdd-4c5f-9271-d1bd47cfa10f",
   "metadata": {},
   "outputs": [
    {
     "name": "stdout",
     "output_type": "stream",
     "text": [
      "/Users/pokorny/Data/ToyCircuit-S1-6k-Test/components/morphologies/container.h5\n"
     ]
    },
    {
     "data": {
      "image/png": "[encoded data removed]",
      "text/plain": [
       "<Figure size 640x480 with 1 Axes>"
      ]
     },
     "metadata": {},
     "output_type": "display_data"
    }
   ],
   "source": [
    "plt.figure()\n",
    "plt.gcf().add_subplot(projection=\"3d\")\n",
    "morph = load_morphology(nodes, 0, extension=\"h5\")  # h5 ... From container\n",
    "print(nodes.morph._get_morphology_base(\"h5\"))  # Verify use of container\n",
    "plot_morph(*morph)\n",
    "plt.show()"
   ]
  },
  {
   "cell_type": "code",
   "execution_count": null,
   "id": "0b48b2d4-cd99-45d6-8375-97784f6fb786",
   "metadata": {},
   "outputs": [],
   "source": []
  },
  {
   "cell_type": "markdown",
   "id": "af3a0cfc-dfa1-45e5-8f8b-fc7a3044ad37",
   "metadata": {},
   "source": [
    "__Update hoc files based on templates__"
   ]
  },
  {
   "cell_type": "code",
   "execution_count": 4,
   "id": "c57e846c-7b18-467b-81be-c70542d6ff62",
   "metadata": {},
   "outputs": [],
   "source": [
    "hoc_tmpl_old = \"/Users/pokorny/JupyterLab/git/BluePyEModel/bluepyemodel/export_emodel/templates/cell_template_neurodamus.jinja2\"\n",
    "hoc_tmpl_new = \"/Users/pokorny/JupyterLab/git/BluePyEModel/bluepyemodel/export_emodel/templates/cell_template_neurodamus_sbo.jinja2\""
   ]
  },
  {
   "cell_type": "code",
   "execution_count": 44,
   "id": "6c539e73-3f0a-43f2-8d7b-c8c4e0e902e8",
   "metadata": {},
   "outputs": [],
   "source": [
    "# Find difference between templates\n",
    "with open(hoc_tmpl_old, \"r\") as f:\n",
    "    tmpl_old = f.read()\n",
    "with open(hoc_tmpl_new, \"r\") as f:\n",
    "    tmpl_new = f.read()"
   ]
  },
  {
   "cell_type": "code",
   "execution_count": 103,
   "id": "36311b8c-792a-4053-9677-2c21400062db",
   "metadata": {},
   "outputs": [],
   "source": [
    "def find_proc(proc_name, hoc_code):\n",
    "    start_idx = hoc_code.find(f\"proc {proc_name}\")\n",
    "    assert start_idx >= 0, f\"ERROR: '{proc_name}' not found!\"\n",
    "    counter = 0\n",
    "    has_first = False\n",
    "    for _idx in range(start_idx, len(hoc_code)):\n",
    "        if hoc_code[_idx] == \"{\":\n",
    "            counter += 1\n",
    "            has_first = True\n",
    "        elif hoc_code[_idx] == \"}\":\n",
    "            counter -= 1\n",
    "        if has_first and counter == 0:\n",
    "            end_idx = _idx\n",
    "            break\n",
    "    return start_idx, end_idx, hoc_code[start_idx : end_idx + 1]\n",
    "\n",
    "def find_header(hoc_code):\n",
    "    start_idx = hoc_code.find(\"/*\")  # First occurrence\n",
    "    assert start_idx == 0, \"ERROR: Header not found!\"\n",
    "    end_idx = hoc_code.find(\"*/\")  # First occurrence\n",
    "    assert end_idx > 0, \"ERROR: Header not found!\"\n",
    "    return start_idx, end_idx, hoc_code[start_idx : end_idx + 2]"
   ]
  },
  {
   "cell_type": "code",
   "execution_count": 81,
   "id": "78ac0d6e-1765-4eac-b980-9fab096ec54c",
   "metadata": {},
   "outputs": [],
   "source": [
    "proc_name = \"load_morphology\"\n",
    "_, _, code_old = find_proc(proc_name, tmpl_old)\n",
    "_, _, code_new = find_proc(proc_name, tmpl_new)"
   ]
  },
  {
   "cell_type": "code",
   "execution_count": 66,
   "id": "e4d3b271-eca7-4a54-9d8b-462761add0bc",
   "metadata": {},
   "outputs": [],
   "source": [
    "# print(code_old)"
   ]
  },
  {
   "cell_type": "code",
   "execution_count": 67,
   "id": "f666fb25-1cbb-4708-91db-8ae439bbd2e6",
   "metadata": {},
   "outputs": [],
   "source": [
    "# print(code_new)"
   ]
  },
  {
   "cell_type": "code",
   "execution_count": 137,
   "id": "8bfe145a-c8e4-4d17-9f47-4941a73d7783",
   "metadata": {},
   "outputs": [],
   "source": [
    "# Replace code in hoc file\n",
    "hoc_file = \"./test_hoc/bAC_L6BTC.hoc\"\n",
    "hoc_output_folder = \"./test_hoc_new\"\n",
    "if not os.path.exists(hoc_output_folder):\n",
    "    os.makedirs(hoc_output_folder)\n",
    "with open(hoc_file, \"r\") as f:\n",
    "    hoc = f.read()\n",
    "assert hoc.find(code_old) >= 0, \"ERROR: Old HOC code to replace not found!\"\n",
    "hoc_new = hoc.replace(code_old, code_new)\n",
    "_, _, header = find_header(hoc)\n",
    "header_new = header.replace(\"*/\", f\"Updated '{proc_name}' based on '{os.path.split(hoc_tmpl_new)[1]}' by {obi.__name__}({version(obi.__name__)}) at {datetime.datetime.now()}\\n*/\")\n",
    "hoc_new = hoc_new.replace(header, header_new)\n",
    "with open(os.path.join(hoc_output_folder, os.path.split(hoc_file)[1]), \"w\") as f:\n",
    "    f.write(hoc_new)"
   ]
  },
  {
   "cell_type": "code",
   "execution_count": null,
   "id": "27fd23f7-08a5-41df-b916-ede62cc01f28",
   "metadata": {},
   "outputs": [],
   "source": []
  }
 ],
 "metadata": {
  "kernelspec": {
   "display_name": "OBISDKTmpKernel",
   "language": "python",
   "name": "obisdktmpkernel"
  },
  "language_info": {
   "codemirror_mode": {
    "name": "ipython",
    "version": 3
   },
   "file_extension": ".py",
   "mimetype": "text/x-python",
   "name": "python",
   "nbconvert_exporter": "python",
   "pygments_lexer": "ipython3",
   "version": "3.13.2"
  }
 },
 "nbformat": 4,
 "nbformat_minor": 5
}
