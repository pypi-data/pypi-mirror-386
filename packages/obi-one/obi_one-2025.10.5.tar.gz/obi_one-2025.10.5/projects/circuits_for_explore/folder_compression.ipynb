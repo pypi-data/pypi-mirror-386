{
 "cells": [
  {
   "cell_type": "code",
   "execution_count": null,
   "metadata": {},
   "outputs": [],
   "source": [
    "import obi_one as obi\n",
    "import os"
   ]
  },
  {
   "cell_type": "code",
   "execution_count": null,
   "metadata": {},
   "outputs": [],
   "source": [
    "input_root = \"/root/path/to/input/circuits\"\n",
    "output_root = \"../../../obi-output/circuit_compression\""
   ]
  },
  {
   "cell_type": "code",
   "execution_count": null,
   "metadata": {},
   "outputs": [],
   "source": [
    "folder_compressions_scan_config = obi.FolderCompressionScanConfig(\n",
    "                    initialize=obi.FolderCompressionScanConfig.Initialize(\n",
    "                        folder_path=[\n",
    "                            obi.NamedPath(name=\"nbS1-HEX0-L1\", path=os.path.join(input_root, \"nbS1-HEX0-L1\")),\n",
    "                            obi.NamedPath(name=\"nbS1-HEX0-L23\", path=os.path.join(input_root, \"nbS1-HEX0-L23\")),\n",
    "                            obi.NamedPath(name=\"nbS1-HEX0-L4\", path=os.path.join(input_root, \"nbS1-HEX0-L4\")),\n",
    "                            obi.NamedPath(name=\"nbS1-HEX0-L5\", path=os.path.join(input_root, \"nbS1-HEX0-L5\")),\n",
    "                            obi.NamedPath(name=\"nbS1-HEX0-L6\", path=os.path.join(input_root, \"nbS1-HEX0-L6\")),\n",
    "                        ],\n",
    "\n",
    "                        file_format=\"gz\",\n",
    "                        file_name=\"circuit\"\n",
    "                    )\n",
    ")\n",
    "\n",
    "grid_scan = obi.GridScanGenerationTask(form=folder_compressions_scan_config, output_root=os.path.join(output_root, \"grid_scan\"), coordinate_directory_option=\"VALUE\")"
   ]
  },
  {
   "cell_type": "code",
   "execution_count": null,
   "metadata": {},
   "outputs": [],
   "source": [
    "grid_scan.execute()\n",
    "obi.run_tasks_for_generated_scan(grid_scan)"
   ]
  }
 ],
 "metadata": {
  "kernelspec": {
   "display_name": "OBISDKTmpKernel",
   "language": "python",
   "name": "obisdktmpkernel"
  },
  "language_info": {
   "codemirror_mode": {
    "name": "ipython",
    "version": 3
   },
   "file_extension": ".py",
   "mimetype": "text/x-python",
   "name": "python",
   "nbconvert_exporter": "python",
   "pygments_lexer": "ipython3",
   "version": "3.12.9"
  }
 },
 "nbformat": 4,
 "nbformat_minor": 4
}
