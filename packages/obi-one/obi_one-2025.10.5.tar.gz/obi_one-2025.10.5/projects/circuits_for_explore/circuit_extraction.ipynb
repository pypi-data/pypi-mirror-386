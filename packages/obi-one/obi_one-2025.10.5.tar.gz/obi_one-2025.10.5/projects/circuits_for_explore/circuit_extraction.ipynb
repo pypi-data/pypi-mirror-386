{
 "cells": [
  {
   "cell_type": "code",
   "execution_count": null,
   "metadata": {},
   "outputs": [],
   "source": [
    "import obi_one as obi\n",
    "import os"
   ]
  },
  {
   "cell_type": "code",
   "execution_count": null,
   "metadata": {},
   "outputs": [],
   "source": [
    "input_root = \"/root/path/to/input/circuits\"\n",
    "output_root = \"../../../obi-output/extracted_subcircuits\""
   ]
  },
  {
   "cell_type": "code",
   "execution_count": null,
   "metadata": {},
   "outputs": [],
   "source": [
    "circuit_extractions_scan_config = obi.CircuitExtractionScanConfig(\n",
    "                    initialize=obi.CircuitExtractionScanConfig.Initialize(\n",
    "                        circuit_path=obi.NamedPath(name=\"nbS1-O1\", path=os.path.join(input_root, \"O1_data\", \"circuit_config.json\")),\n",
    "                        node_set=[\n",
    "                            'nbS1-HEX0',\n",
    "                            'nbS1-HEX1',\n",
    "                            'nbS1-HEX2',\n",
    "                            'nbS1-HEX3',\n",
    "                            'nbS1-HEX4',\n",
    "                            'nbS1-HEX5',\n",
    "                            'nbS1-HEX6',\n",
    "                            'nbS1-HEX7',\n",
    "                        ]\n",
    "                    )\n",
    ")\n",
    "\n",
    "grid_scan = obi.GridScanGenerationTask(form=circuit_extractions_scan_config, output_root=os.path.join(output_root, \"grid_scan\"), coordinate_directory_option=\"VALUE\")"
   ]
  },
  {
   "cell_type": "code",
   "execution_count": null,
   "metadata": {},
   "outputs": [],
   "source": [
    "grid_scan.execute()\n",
    "obi.run_tasks_for_generated_scan(grid_scan)"
   ]
  }
 ],
 "metadata": {
  "kernelspec": {
   "display_name": "OBISDKTmpKernel",
   "language": "python",
   "name": "obisdktmpkernel"
  },
  "language_info": {
   "codemirror_mode": {
    "name": "ipython",
    "version": 3
   },
   "file_extension": ".py",
   "mimetype": "text/x-python",
   "name": "python",
   "nbconvert_exporter": "python",
   "pygments_lexer": "ipython3",
   "version": "3.12.9"
  }
 },
 "nbformat": 4,
 "nbformat_minor": 4
}
