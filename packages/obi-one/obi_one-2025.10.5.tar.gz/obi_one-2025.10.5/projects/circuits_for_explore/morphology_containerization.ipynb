{
 "cells": [
  {
   "cell_type": "code",
   "execution_count": null,
   "metadata": {},
   "outputs": [],
   "source": [
    "import obi_one as obi\n",
    "import os"
   ]
  },
  {
   "cell_type": "code",
   "execution_count": null,
   "metadata": {},
   "outputs": [],
   "source": [
    "input_root = \"/root/path/to/input/circuits\"\n",
    "output_root = \"../../../obi-output/morphology_containerization\""
   ]
  },
  {
   "cell_type": "code",
   "execution_count": null,
   "metadata": {},
   "outputs": [],
   "source": [
    "morphology_containerization_multi_config = obi.MorphologyContainerizationScanConfig(\n",
    "                    initialize=obi.MorphologyContainerizationScanConfig.Initialize(\n",
    "                        circuit_path=[\n",
    "                            obi.NamedPath(name=\"nbS1-O1-beta\", path=os.path.join(input_root, \"nbS1-O1-beta\", \"circuit_config_tc.json\")),\n",
    "                            obi.NamedPath(name=\"nbS1-O1-beta-ER\", path=os.path.join(input_root, \"nbS1-O1-beta-ER\", \"circuit_config_tc.json\")),\n",
    "                            obi.NamedPath(name=\"nbS1-O1-beta-DD\", path=os.path.join(input_root, \"nbS1-O1-beta-DD\", \"circuit_config_tc.json\")),\n",
    "                            obi.NamedPath(name=\"nbS1-O1-beta-BIP\", path=os.path.join(input_root, \"nbS1-O1-beta-BIP\", \"circuit_config_tc.json\")),\n",
    "                            obi.NamedPath(name=\"nbS1-O1-beta-OFF\", path=os.path.join(input_root, \"nbS1-O1-beta-OFF\", \"circuit_config_tc.json\")),\n",
    "                            obi.NamedPath(name=\"nbS1-O1-beta-POS\", path=os.path.join(input_root, \"nbS1-O1-beta-POS\", \"circuit_config_tc.json\"))\n",
    "                        ],\n",
    "                        hoc_template_old = \"../../obi_one/scientific/library/cell_template_neurodamus.jinja2\",\n",
    "                        hoc_template_new = \"../../obi_one/scientific/library/cell_template_neurodamus_obi.jinja2\"\n",
    "                    )\n",
    ")\n",
    "\n",
    "grid_scan = obi.GridScanGenerationTask(form=morphology_containerization_multi_config, output_root=os.path.join(output_root, \"grid_scan\"), coordinate_directory_option=\"VALUE\")"
   ]
  },
  {
   "cell_type": "code",
   "execution_count": null,
   "metadata": {},
   "outputs": [],
   "source": [
    "grid_scan.execute()\n",
    "obi.run_tasks_for_generated_scan(grid_scan)"
   ]
  }
 ],
 "metadata": {
  "kernelspec": {
   "display_name": "OBISDKTmpKernel",
   "language": "python",
   "name": "obisdktmpkernel"
  },
  "language_info": {
   "codemirror_mode": {
    "name": "ipython",
    "version": 3
   },
   "file_extension": ".py",
   "mimetype": "text/x-python",
   "name": "python",
   "nbconvert_exporter": "python",
   "pygments_lexer": "ipython3",
   "version": "3.12.9"
  }
 },
 "nbformat": 4,
 "nbformat_minor": 4
}
