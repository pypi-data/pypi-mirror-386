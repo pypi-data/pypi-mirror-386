{
 "cells": [
  {
   "cell_type": "code",
   "execution_count": 1,
   "metadata": {},
   "outputs": [],
   "source": [
    "import obi_one as obi\n",
    "import os"
   ]
  },
  {
   "cell_type": "code",
   "execution_count": 2,
   "metadata": {},
   "outputs": [],
   "source": [
    "input_root = \"/root/path/to/input/circuits\"\n",
    "output_root = \"../../../obi-output/connectivity_matrix_extraction\""
   ]
  },
  {
   "cell_type": "code",
   "execution_count": 3,
   "metadata": {},
   "outputs": [],
   "source": [
    "connectivity_matrix_extractions_form = obi.ConnectivityMatrixExtractionScanConfig(\n",
    "                    initialize=obi.ConnectivityMatrixExtractionScanConfig.Initialize(\n",
    "                        circuit_path=[\n",
    "                            obi.NamedPath(name=\"nbS1-O1-beta\", path=os.path.join(input_root, \"nbS1-O1-beta\", \"circuit_config_tc.json\")),\n",
    "                            obi.NamedPath(name=\"nbS1-O1-beta-ER\", path=os.path.join(input_root, \"nbS1-O1-beta-ER\", \"circuit_config_tc.json\")),\n",
    "                            obi.NamedPath(name=\"nbS1-O1-beta-DD\", path=os.path.join(input_root, \"nbS1-O1-beta-DD\", \"circuit_config_tc.json\")),\n",
    "                            obi.NamedPath(name=\"nbS1-O1-beta-BIP\", path=os.path.join(input_root, \"nbS1-O1-beta-BIP\", \"circuit_config_tc.json\")),\n",
    "                            obi.NamedPath(name=\"nbS1-O1-beta-OFF\", path=os.path.join(input_root, \"nbS1-O1-beta-OFF\", \"circuit_config_tc.json\")),\n",
    "                            obi.NamedPath(name=\"nbS1-O1-beta-POS\", path=os.path.join(input_root, \"nbS1-O1-beta-POS\", \"circuit_config_tc.json\"))\n",
    "                        ],\n",
    "                        edge_population=\"S1nonbarrel_neurons__S1nonbarrel_neurons__chemical\",\n",
    "\n",
    "                        # node_attributes=None,\n",
    "                        node_attributes=(\"synapse_class\", \"layer\", \"mtype\", \"etype\", \"x\", \"y\", \"z\"),\n",
    "                    )\n",
    ")\n",
    "\n",
    "grid_scan = obi.GridScanGenerationTask(form=connectivity_matrix_extractions_form, output_root=os.path.join(output_root, \"grid_scan\"), coordinate_directory_option=\"VALUE\")"
   ]
  },
  {
   "cell_type": "code",
   "execution_count": null,
   "metadata": {},
   "outputs": [
    {
     "name": "stderr",
     "output_type": "stream",
     "text": [
      "100%|███████████████████████████████████████████████████████████████████████████████████████████████| 30190/30190 [02:20<00:00, 215.40it/s]\n"
     ]
    },
    {
     "name": "stderr",
     "output_type": "stream",
     "text": [
      "<<<<<<< local <modified: >\n"
     ]
    },
    {
     "name": "stdout",
     "output_type": "stream",
     "text": [
      "Info: Connectivity matrix successfully written to '../../../obi-output/connectivity_matrix_extraction/grid_scan/nbS1-HEX0-beta-POS/connectivity_matrix.h5'\n"
     ]
    },
    {
     "name": "stderr",
     "output_type": "stream",
     "text": [
      "=======\n"
     ]
    },
    {
     "name": "stderr",
     "output_type": "stream",
     "text": [
      ">>>>>>> remote <removed>\n"
     ]
    }
   ],
   "source": [
    "grid_scan.execute()\n",
    "obi.run_tasks_for_generated_scan(grid_scan)"
   ]
  },
  {
   "cell_type": "code",
   "execution_count": null,
   "metadata": {},
   "outputs": [],
   "source": [
    "# Check matrices\n",
    "from conntility.connectivity import ConnectivityMatrix\n",
    "cmat = ConnectivityMatrix.from_h5(os.path.join(output_root, \"grid_scan\", \"nbS1-O1-beta\", \"connectivity_matrix.h5\"))\n",
    "display(cmat.matrix)\n",
    "print(f\"{cmat.matrix.sum()} synapses\")"
   ]
  }
 ],
 "metadata": {
  "kernelspec": {
   "display_name": "OBISDKTmpKernel",
   "language": "python",
   "name": "obisdktmpkernel"
  },
  "language_info": {
   "codemirror_mode": {
    "name": "ipython",
    "version": 3
   },
   "file_extension": ".py",
   "mimetype": "text/x-python",
   "name": "python",
   "nbconvert_exporter": "python",
   "pygments_lexer": "ipython3",
   "version": "3.12.9"
  }
 },
 "nbformat": 4,
 "nbformat_minor": 4
}
