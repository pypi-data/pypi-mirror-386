{
 "cells": [
  {
   "cell_type": "markdown",
   "metadata": {},
   "source": [
    "# Modelling Bilateral Lymphatic Spread\n",
    "\n",
    "In the [quickstart guide](./quickstart_unilateral.ipynb) for this package, we have shown how to model the lymphatic tumr progression in head and neck cancer. But we have done so only _unilaterally_. However, depending on the lateralization of the primary tumor, we may not only see _ipsilateral_ (i.e., to the side where the tumor is located), but also to the _contralateral_ (i.e., the other) side.\n",
    "\n",
    "To capture this, we have developed an extension that is implemented in the `lymph.models.Bilateral` class. It shares a lot of the same API with the `lymph.models.Unilateral` class but also has some specialties. Let's have a look:\n",
    "\n",
    "## Importing\n",
    "\n",
    "Nothing new here, we just import the package."
   ]
  },
  {
   "cell_type": "code",
   "execution_count": null,
   "metadata": {},
   "outputs": [],
   "source": [
    "import lymph"
   ]
  },
  {
   "cell_type": "markdown",
   "metadata": {},
   "source": [
    "## Graph\n",
    "\n",
    "As before, we define a graph structure. Note that you only need to define this for one side. The other side's graph is automatically mirrored. If you explicitly want to make the two sides asymmetric, you may do this by providing different graphs to the `ipsi_kwargs` and `contra_kwargs` in the constructor."
   ]
  },
  {
   "cell_type": "code",
   "execution_count": null,
   "metadata": {},
   "outputs": [],
   "source": [
    "graph_dict = {\n",
    "    ('tumor', 'T')  : ['I', 'II', 'III', 'IV'], \n",
    "    ('lnl'  , 'I')  : ['II'], \n",
    "    ('lnl'  , 'II') : ['III'], \n",
    "    ('lnl'  , 'III'): ['IV'], \n",
    "    ('lnl'  , 'IV') : []\n",
    "}"
   ]
  },
  {
   "cell_type": "markdown",
   "metadata": {},
   "source": [
    "For a more detailed explanation of how this graph should be defined, look at the [unilateral quickstart guide](./quickstart_unilateral.ipynb)."
   ]
  },
  {
   "cell_type": "code",
   "execution_count": null,
   "metadata": {},
   "outputs": [],
   "source": [
    "model = lymph.models.Bilateral(graph_dict)\n",
    "model"
   ]
  },
  {
   "cell_type": "markdown",
   "metadata": {},
   "source": [
    "## Parameterization\n",
    "\n",
    "Since we now need to distribute the parameters to both sides, the assignment gets a little more tricky: If we want to set the spread rate for e.g. the ipsilateral edge from LNL `II` to `III`, we now need to pass it as follows:"
   ]
  },
  {
   "cell_type": "code",
   "execution_count": null,
   "metadata": {},
   "outputs": [],
   "source": [
    "model.set_params(ipsi_IItoIII_spread=0.123)\n",
    "model.get_params()"
   ]
  },
  {
   "cell_type": "markdown",
   "metadata": {},
   "source": [
    "So, prefixing a parameter with `ipsi_` or `contra_` causes it to be sent to only the respective side. Of course, you can still set all parameters at once:"
   ]
  },
  {
   "cell_type": "code",
   "execution_count": null,
   "metadata": {},
   "outputs": [],
   "source": [
    "model.set_params(spread=0.234)\n",
    "model.get_params()"
   ]
  },
  {
   "cell_type": "markdown",
   "metadata": {},
   "source": [
    "Any thinkable combination of setting groups of parameters is possible: All ipsilateral params at once, all tumor spreads at once, all contralateral lnl spreads together, and so on..."
   ]
  },
  {
   "cell_type": "code",
   "execution_count": null,
   "metadata": {},
   "outputs": [],
   "source": [
    "model.set_params(ipsi_spread=0.77)\n",
    "model.set_lnl_spread_params(spread=0.543)\n",
    "model.get_params()"
   ]
  },
  {
   "cell_type": "markdown",
   "metadata": {},
   "source": [
    ":::{note}\n",
    "\n",
    "Did you notice the LNL spread parameters are not prefixed with `ipsi_` and `contra_`? This is because we set the LNL spread to be symmetric via the `is_symmetric[\"lnl_spread\"] = True` parameter in the constructor of the class. If you change this, the model will have separate parameters for the two sides.\n",
    ":::\n",
    "\n",
    "## Modalities\n",
    "\n",
    "Setting the modalities works exactly as in the `Unilateral` case. The `Bilateral` class provides the same API for getting and setting the modalities and delegates this to the two sides."
   ]
  },
  {
   "cell_type": "code",
   "execution_count": null,
   "metadata": {},
   "outputs": [],
   "source": [
    "model.set_modality(\"MRI\", spec=0.63, sens=0.81)\n",
    "model.set_modality(\"PET\", spec=0.86, sens=0.79)\n",
    "model.get_all_modalities()"
   ]
  },
  {
   "cell_type": "code",
   "execution_count": null,
   "metadata": {},
   "outputs": [],
   "source": [
    "print(model.get_modality(\"PET\").confusion_matrix)"
   ]
  },
  {
   "cell_type": "markdown",
   "metadata": {},
   "source": [
    "## Data / Observations\n",
    "\n",
    "The data loading APi is also the same compared to the `Unilateral` class. The only difference is that one now does not need to specify which `side` to load, since it will automatically load the `ipsi` and `contra` side."
   ]
  },
  {
   "cell_type": "code",
   "execution_count": null,
   "metadata": {},
   "outputs": [],
   "source": [
    "import pandas as pd\n",
    "\n",
    "dataset_url = \"https://raw.githubusercontent.com/rmnldwg/lydata/main/2021-usz-oropharynx/data.csv\"\n",
    "example_cols = [\n",
    "    (\"patient\", \"#\", \"age\"),\n",
    "    (\"patient\", \"#\", \"hpv_status\"),\n",
    "    (\"tumor\", \"1\", \"t_stage\"),\n",
    "    (\"PET\", \"ipsi\", \"I\"),\n",
    "    (\"PET\", \"ipsi\", \"II\"),\n",
    "    (\"PET\", \"ipsi\", \"III\"),\n",
    "    (\"PET\", \"ipsi\", \"IV\"),\n",
    "    (\"MRI\", \"ipsi\", \"I\"),\n",
    "    (\"MRI\", \"ipsi\", \"II\"),\n",
    "    (\"MRI\", \"ipsi\", \"III\"),\n",
    "    (\"MRI\", \"ipsi\", \"IV\"),\n",
    "]\n",
    "\n",
    "usz_oropharynx = pd.read_csv(dataset_url, header=[0,1,2])\n",
    "usz_oropharynx[example_cols]"
   ]
  },
  {
   "cell_type": "code",
   "execution_count": null,
   "metadata": {},
   "outputs": [],
   "source": [
    "model.replace_all_modalities({})\n",
    "model.set_modality(\"PET\", spec=0.86, sens=0.79)"
   ]
  },
  {
   "cell_type": "code",
   "execution_count": null,
   "metadata": {},
   "outputs": [],
   "source": [
    "model.load_patient_data(usz_oropharynx)\n",
    "model.ipsi.patient_data[\"_model\"]"
   ]
  },
  {
   "cell_type": "code",
   "execution_count": null,
   "metadata": {},
   "outputs": [],
   "source": [
    "model.contra.patient_data[\"_model\"]"
   ]
  },
  {
   "cell_type": "markdown",
   "metadata": {},
   "source": [
    "## Distribution over Diagnosis Times\n",
    "\n",
    "Just as with the modalities, the distributions over diagnosis times are delegated to the two sides via the exact same API as in the `Unilateral` model:"
   ]
  },
  {
   "cell_type": "code",
   "execution_count": null,
   "metadata": {},
   "outputs": [],
   "source": [
    "import numpy as np\n",
    "import scipy as sp\n",
    "\n",
    "rng = np.random.default_rng(42)\n",
    "\n",
    "max_time = model.max_time\n",
    "time_steps = np.arange(max_time+1)\n",
    "p = 0.3\n",
    "\n",
    "early_prior = sp.stats.binom.pmf(time_steps, max_time, p)\n",
    "model.set_distribution(\"early\", early_prior)"
   ]
  },
  {
   "cell_type": "code",
   "execution_count": null,
   "metadata": {},
   "outputs": [],
   "source": [
    "def late_binomial(support: np.ndarray, p: float = 0.5) -> np.ndarray:\n",
    "    \"\"\"Parametrized binomial distribution.\"\"\"\n",
    "    return sp.stats.binom.pmf(support, n=support[-1], p=p)"
   ]
  },
  {
   "cell_type": "code",
   "execution_count": null,
   "metadata": {},
   "outputs": [],
   "source": [
    "model.set_distribution(\"late\", late_binomial)\n",
    "params_dict = model.get_params(as_dict=True, as_flat=True)\n",
    "params_dict"
   ]
  },
  {
   "cell_type": "markdown",
   "metadata": {},
   "source": [
    "Notice the additional parameter `late_p` that determines the shape of the late diagnse time distribution.\n",
    "\n",
    ":::{note}\n",
    "\n",
    "You cannot set the diagnosis time distributions asymmetrically! With the modalities this may make sense (although it is not really supported, you may try), but for the diagnosis times, this will surely break!\n",
    ":::\n",
    "\n",
    "## Likelihood\n",
    "\n",
    "And again we have the same API as before:"
   ]
  },
  {
   "cell_type": "code",
   "execution_count": null,
   "metadata": {},
   "outputs": [],
   "source": [
    "test_probabilities = {p: rng.random() for p in params_dict}\n",
    "\n",
    "llh = model.likelihood(given_params=test_probabilities, log=True)\n",
    "ipsi_llh = model.ipsi.likelihood(log=True)\n",
    "contra_llh = model.contra.likelihood(log=True)\n",
    "\n",
    "print(f\"log-likelihood is {ipsi_llh:.2f} + {contra_llh:.2f} = {llh:.2f}\")"
   ]
  },
  {
   "cell_type": "markdown",
   "metadata": {},
   "source": [
    "Note that the two side's likelihoods do not perfectly sum up. This is expected! A patient's ipsi- and a contralateral diagnosis were diagnosed _at the same time_, not separately. They are thus not equally likely as if they were observed independently."
   ]
  }
 ],
 "metadata": {
  "kernelspec": {
   "display_name": ".venv",
   "language": "python",
   "name": "python3"
  },
  "language_info": {
   "codemirror_mode": {
    "name": "ipython",
    "version": 3
   },
   "file_extension": ".py",
   "mimetype": "text/x-python",
   "name": "python",
   "nbconvert_exporter": "python",
   "pygments_lexer": "ipython3",
   "version": "3.10.12"
  }
 },
 "nbformat": 4,
 "nbformat_minor": 2
}
