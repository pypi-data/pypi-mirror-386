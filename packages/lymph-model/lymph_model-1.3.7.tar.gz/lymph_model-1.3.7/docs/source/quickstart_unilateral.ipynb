{
 "cells": [
  {
   "cell_type": "markdown",
   "metadata": {},
   "source": [
    "# Getting started\n",
    "\n",
    "A lot of people get diagnosed with squamous cell carcinoma in the head & neck region ([HNSCC](https://en.wikipedia.org/wiki/Head_and_neck_cancer)), which frequently metastasizes via the lymphatic system. We set out to develop a methodology to predict the risk of a new patient having metastases in so-called lymph node levels (LNLs), based on their personal diagnosis (e.g. findings from a CT scan) and information of previously diagnosed and treated patients. And that's exactly what this code enables you to do as well.\n",
    "\n",
    "As mentioned, this package is meant to be a relatively simple-to-use frontend. The math is done under the hood and one does not need to worry about it a lot. But let's have a quick look at what we're doing here.\n",
    "\n",
    "We will assume that you have already read the section on how to install the module and followed its instructions.\n",
    "\n",
    "## Importing\n",
    "\n",
    "First, let's import the package."
   ]
  },
  {
   "cell_type": "code",
   "execution_count": null,
   "metadata": {},
   "outputs": [],
   "source": [
    "import lymph"
   ]
  },
  {
   "cell_type": "markdown",
   "metadata": {},
   "source": [
    "## Graph\n",
    "\n",
    "The model is based on the assumption that one can represent the lymphatic system as a directed graph. The arcs in that graph represent the direction of the lymphatic flow and therefore also the direction of metastatic spread. Hence, the first thing to do is to define a graph that represents the drainage pathways of the lymphatic system aptly.\n",
    "\n",
    "Here, this is done via a dictionary:"
   ]
  },
  {
   "cell_type": "code",
   "execution_count": null,
   "metadata": {},
   "outputs": [],
   "source": [
    "graph_dict = {\n",
    "    ('tumor', 'T')  : ['I', 'II', 'III', 'IV'], \n",
    "    ('lnl'  , 'I')  : ['II'], \n",
    "    ('lnl'  , 'II') : ['III'], \n",
    "    ('lnl'  , 'III'): ['IV'], \n",
    "    ('lnl'  , 'IV') : []\n",
    "}"
   ]
  },
  {
   "cell_type": "markdown",
   "metadata": {},
   "source": [
    "Every key in this dictionary is a tuple of the form `({type}, {name})` and represents either a tumor - in which case the `{type}` must be `'tumor'` - or a lymph node level (`{type}` must be `'lnl'`). The value of each of those nodes is then a list of names for nodes it connects to. So, for example the primary tumor `('tumor', 'primary')` in the `graph` above has directed arcs to `a` and `b`, while the LNL `c` does not have any outgoing connections.\n",
    "\n",
    "We can simply create an instance of `System` using only this graph and let it report itself:"
   ]
  },
  {
   "cell_type": "code",
   "execution_count": null,
   "metadata": {},
   "outputs": [],
   "source": [
    "model = lymph.models.Unilateral.binary(graph_dict=graph_dict)\n",
    "model"
   ]
  },
  {
   "cell_type": "markdown",
   "metadata": {},
   "source": [
    "## Parameterization\n",
    "\n",
    "The parameters are probabilities of spread between the tumor and LNL(s). They represent the probability rate that metastatic spread occurs these edges. In the case of the tumor spreading to LNL `II` we call this probability *base probability rate* $\\tilde{b}_2$. For the spread between lymph node levels, we call it *transition probability rate*, e.g. $\\tilde{t}_{rv}$ from LNL $r$ to LNL $v$. The difference to the base probability rate is that it only plays a role if the parent LNL is already ivolved with metastases, while the tumor always spreads, of course.\n",
    "\n",
    "We can change these spread probability rates either via the method `set_parms()`, which can also handle parameters not related to the spread probability rates of the arcs between LNLs. The spread parameters can be set either positionally (in which the order of the parameters can be learned from the returned dictionary of the `get_params()` method) or via keyword arguments.\n",
    "\n",
    "For example, in our graph above, there is an edge from the tumor `T` to the LNL `II`. The corresponding edge is named `TtoII` and its parameter is called `spread`. For example:"
   ]
  },
  {
   "cell_type": "code",
   "execution_count": null,
   "metadata": {},
   "outputs": [],
   "source": [
    "model.graph.edges[\"TtoII\"].set_params(spread=0.5)\n",
    "model.graph.edges[\"TtoII\"].get_params()"
   ]
  },
  {
   "cell_type": "markdown",
   "metadata": {},
   "source": [
    "To set this parameter directly from the `model`, you can do this:"
   ]
  },
  {
   "cell_type": "code",
   "execution_count": null,
   "metadata": {},
   "outputs": [],
   "source": [
    "model.set_params(TtoII_spread=0.25)\n",
    "model.get_params()"
   ]
  },
  {
   "cell_type": "markdown",
   "metadata": {},
   "source": [
    "You may also want to change all spread parameters at once. To do so, simply call `model.set_params(spread=0.42)`. This will cause the method to distribute the `spread` parameter to _all_ edges:"
   ]
  },
  {
   "cell_type": "code",
   "execution_count": null,
   "metadata": {},
   "outputs": [],
   "source": [
    "model.set_params(spread=0.42)\n",
    "model.get_params()"
   ]
  },
  {
   "cell_type": "markdown",
   "metadata": {},
   "source": [
    "Now, you might want to modify only the parameters relating to the tumor or lnl spread. There are dedicated methods for that too:"
   ]
  },
  {
   "cell_type": "code",
   "execution_count": null,
   "metadata": {},
   "outputs": [],
   "source": [
    "model.set_tumor_spread_params(spread=0.12)\n",
    "model.set_lnl_spread_params(spread=0.89)\n",
    "model.get_params()"
   ]
  },
  {
   "cell_type": "markdown",
   "metadata": {},
   "source": [
    "## Diagnostic Modalities\n",
    "\n",
    "To ultimately compute the likelihoods of observations, we need to fix the sensitivities and specificities of the obtained diagnosis. And since we might have multiple diagnostic modalities available, we need to tell the system which of them comes with which specificity and sensitivity. We do this by adding specificity/sensitivity pairs to our model:"
   ]
  },
  {
   "cell_type": "code",
   "execution_count": null,
   "metadata": {},
   "outputs": [],
   "source": [
    "model.set_modality(\"MRI\", spec=0.63, sens=0.81)\n",
    "model.set_modality(\"PET\", spec=0.86, sens=0.79, kind=\"clinical\")\n",
    "#                                               ^^^^^^^^^^^^^^^\n",
    "#                                               No effect in binary model,\n",
    "#                                               but important for trinary.\n",
    "model.get_all_modalities()"
   ]
  },
  {
   "cell_type": "markdown",
   "metadata": {},
   "source": [
    "One can also specify if the modality is a `Clincal` or `Pathological` one. In the binary model case that has no advantage and makes no difference, aside from being maybe a bit more explicit. But when we get to trinary models, it becomes very important.\n",
    "\n",
    "Now it is also possible to access the confusion matrix of the specified diagnostic modalities:"
   ]
  },
  {
   "cell_type": "code",
   "execution_count": null,
   "metadata": {},
   "outputs": [],
   "source": [
    "print(model.get_modality(\"PET\").confusion_matrix)"
   ]
  },
  {
   "cell_type": "markdown",
   "metadata": {},
   "source": [
    "## Data / Observations\n",
    "\n",
    "To compute the likelihood of a set of probability (rates) given a patient cohort we need such a patient cohort, of course. We can provide it to the system in the form of a `pandas` `DataFrame`. Here is an example:"
   ]
  },
  {
   "cell_type": "code",
   "execution_count": null,
   "metadata": {},
   "outputs": [],
   "source": [
    "import pandas as pd\n",
    "\n",
    "dataset_url = \"https://raw.githubusercontent.com/rmnldwg/lydata/main/2021-usz-oropharynx/data.csv\"\n",
    "example_cols = [\n",
    "    (\"patient\", \"#\", \"age\"),\n",
    "    (\"patient\", \"#\", \"hpv_status\"),\n",
    "    (\"tumor\", \"1\", \"t_stage\"),\n",
    "    (\"PET\", \"ipsi\", \"I\"),\n",
    "    (\"PET\", \"ipsi\", \"II\"),\n",
    "    (\"PET\", \"ipsi\", \"III\"),\n",
    "    (\"PET\", \"ipsi\", \"IV\"),\n",
    "    (\"MRI\", \"ipsi\", \"I\"),\n",
    "    (\"MRI\", \"ipsi\", \"II\"),\n",
    "    (\"MRI\", \"ipsi\", \"III\"),\n",
    "    (\"MRI\", \"ipsi\", \"IV\"),\n",
    "]\n",
    "\n",
    "usz_oropharynx = pd.read_csv(dataset_url, header=[0,1,2])\n",
    "usz_oropharynx[example_cols]"
   ]
  },
  {
   "cell_type": "markdown",
   "metadata": {},
   "source": [
    ":::{note}\n",
    "\n",
    "This data has three header-rows. It follows the standard of the data presented in the interactive dashboard [LyProX]. It can be obtained from the [lyDATA] repository on GitHub and is described in more detail [here].\n",
    ":::\n",
    "\n",
    "[LyProX]: https://lyprox.org\n",
    "[lyDATA]: https://github.com/rmnldwg/lydata\n",
    "[here]: https://github.com/rmnldwg/lydata/tree/main/2021-usz-oropharynx\n",
    "\n",
    "Let's keep only the `\"CT\"` modality for now."
   ]
  },
  {
   "cell_type": "code",
   "execution_count": null,
   "metadata": {},
   "outputs": [],
   "source": [
    "from lymph.modalities import Clinical\n",
    "\n",
    "\n",
    "model.replace_all_modalities({\"PET\": Clinical(spec=0.86, sens=0.79),})\n",
    "model.get_all_modalities()"
   ]
  },
  {
   "cell_type": "markdown",
   "metadata": {},
   "source": [
    "To feed the dataset into the system, we assign the dataset to the attribute `patient_data`. What the system then does here is creating a diagnosis matrix for every T-stage in the data."
   ]
  },
  {
   "cell_type": "code",
   "execution_count": null,
   "metadata": {},
   "outputs": [],
   "source": [
    "model.load_patient_data(usz_oropharynx, side=\"ipsi\")\n",
    "model.patient_data[\"_model\"]"
   ]
  },
  {
   "cell_type": "markdown",
   "metadata": {},
   "source": [
    ":::{note}\n",
    "\n",
    "The data now has an additional top-level header `\"_model\"` which stores only the information the model actually needs. In this case, it only stores the ipsilateral CT diagnosis of the LNLs I, II, III, and IV, as well as the mapped T-stage of the patients. Note that from the original T-stages 1, 2, 3, and 4, only \"early\" and \"late\" are left. This is the default transformation, but it can be changed by providing a function to the `mapping` keyword argument in the `load_patient_data()` method.\n",
    ":::"
   ]
  },
  {
   "cell_type": "markdown",
   "metadata": {},
   "source": [
    "## Distribution over Diagnosis Times\n",
    "\n",
    "The last ingredient to set up (at least when using the hidden Markov model) would now be the distribution over diagnosis times. Our dataset contains two different T-stages \"early\" and \"late\". One of the underlying assumptions with our model is that earlier T-stage patients have been - on average - diagnosed at an earlier time-point, compared to late T-stage patients. We can reflect that using distributions over the diagnosis time:"
   ]
  },
  {
   "cell_type": "code",
   "execution_count": null,
   "metadata": {},
   "outputs": [],
   "source": [
    "import numpy as np\n",
    "import scipy as sp\n",
    "import matplotlib.pyplot as plt\n",
    "\n",
    "max_time = model.max_time\n",
    "time_steps = np.arange(max_time+1)\n",
    "p = 0.4\n",
    "\n",
    "early_prior = sp.stats.binom.pmf(time_steps, max_time, p)\n",
    "\n",
    "plt.plot(time_steps, early_prior, \"o-\");\n",
    "plt.xlabel(\"time step $t$\");\n",
    "plt.ylabel(\"probability $p$\");"
   ]
  },
  {
   "cell_type": "markdown",
   "metadata": {},
   "source": [
    "We can now set a fixed prior for the distribution over diagnosis times of early T-stage patients (i.e., patients with T1 and T2 tumors)."
   ]
  },
  {
   "cell_type": "code",
   "execution_count": null,
   "metadata": {},
   "outputs": [],
   "source": [
    "model.set_distribution(\"early\", early_prior)\n",
    "model.get_all_distributions()"
   ]
  },
  {
   "cell_type": "markdown",
   "metadata": {},
   "source": [
    "Let's define a parametrized PMF over diagnosis times for patients with late T-stage tumors (T3 and T4) to show this functionality. For that, we first define a parametrized function with the signature\n",
    "\n",
    "```python\n",
    "def distribution(support: list[float] | np.ndarray, a=1, b=2, c=3, ...) -> np.ndarray:\n",
    "    \"\"\"PMF over diagnosis times (``support``) with parameters ``a``, ``b``, and ``c``.\"\"\"\n",
    "    ...\n",
    "    return result\n",
    "```\n",
    "\n",
    "Here, it's important that the first argument is the support of the probability mass function, i.e., the discrete time-steps from 0 to `max_time`. Also, all parameters must have default values. Otherwise, there would be cases when such a stored distribution cannot be accessed.\n",
    "\n",
    "Lastly, if some parameters have bounds, like e.g. the binomial distribution, they should raise a `ValueError`. This exception is propagated upwards but causes the `likelihood` method to simply return `-np.inf`. That way it will be seamlessly rejected during an MCMC sampling round.\n",
    "\n",
    "Let's look at a concrete, binomial example:"
   ]
  },
  {
   "cell_type": "code",
   "execution_count": null,
   "metadata": {},
   "outputs": [],
   "source": [
    "from scipy.special import factorial\n",
    "\n",
    "def binom_pmf(k: np.ndarray, n: int, p: float):\n",
    "    \"\"\"Binomial PMF\"\"\"\n",
    "    if p > 1. or p < 0.:\n",
    "        # This value error is important to enable seamless sampling!\n",
    "        raise ValueError(\"Binomial prob must be btw. 0 and 1\")\n",
    "    q = (1. - p)\n",
    "    binom_coeff = factorial(n) / (factorial(k) * factorial(n - k))\n",
    "    return binom_coeff * p**k * q**(n - k)\n",
    "\n",
    "def late_binomial(support: np.ndarray, p: float = 0.5) -> np.ndarray:\n",
    "    \"\"\"Parametrized binomial distribution.\"\"\"\n",
    "    return binom_pmf(k=support, n=support[-1], p=p)"
   ]
  },
  {
   "cell_type": "markdown",
   "metadata": {},
   "source": [
    ":::{note}\n",
    "\n",
    "Surprisingly, this is much faster than just using the implementation from [scipy] using numpy array functions. So, if you want to do sampling with a model, maybe don't use `scipy.stats`.\n",
    ":::\n",
    "\n",
    "[scipy]: https://scipy.org\n",
    "\n",
    "And now we assign this parametric distribution to the model:"
   ]
  },
  {
   "cell_type": "code",
   "execution_count": null,
   "metadata": {},
   "outputs": [],
   "source": [
    "model.set_distribution(\"late\", late_binomial)\n",
    "model.get_all_distributions()"
   ]
  },
  {
   "cell_type": "code",
   "execution_count": null,
   "metadata": {},
   "outputs": [],
   "source": [
    "model.get_distribution_params(as_flat=False)"
   ]
  },
  {
   "cell_type": "markdown",
   "metadata": {},
   "source": [
    "Note how the set of adjustable parameters now also contains the `p` parameter for the late T-stage's distribution over diagnosis times. For the early T-stage, it is not present, because that one was provided as a fixed array."
   ]
  },
  {
   "cell_type": "markdown",
   "metadata": {},
   "source": [
    "## Likelihood\n",
    "\n",
    "With everything set up like this, we can compute the likelihood of seeing the above dataset given a set of base and transition probability (rates)."
   ]
  },
  {
   "cell_type": "code",
   "execution_count": null,
   "metadata": {},
   "outputs": [],
   "source": [
    "test_probabilities = [0.02, 0.24, 0.03, 0.2, 0.23, 0.18, 0.18, 0.5]\n",
    "\n",
    "llh = model.likelihood(test_probabilities, log=True, mode=\"HMM\")\n",
    "\n",
    "print(f\"log-likelihood is {llh}\")"
   ]
  },
  {
   "cell_type": "markdown",
   "metadata": {},
   "source": [
    "## Sampling using `emcee`\n",
    "\n",
    "Now we'll show how one could do inference using MCMC sampling. Note that this is by far not the only way to learn the model parameters from the data. But it is a quick and useful one.\n",
    "\n",
    "First we define a couple of parameters for the sampling. Have a look at the documentation of [emcee] to understand them in more detail.\n",
    "\n",
    "[emcee]: https://emcee.readthedocs.io"
   ]
  },
  {
   "cell_type": "code",
   "execution_count": null,
   "metadata": {},
   "outputs": [],
   "source": [
    "import emcee\n",
    "\n",
    "nwalkers, ndim = 100, len(model.get_params())\n",
    "nsteps = 200\n",
    "initial = np.random.uniform(size=(nwalkers, ndim))"
   ]
  },
  {
   "cell_type": "markdown",
   "metadata": {},
   "source": [
    "The we create a sampler with these parameters and finally start sampling."
   ]
  },
  {
   "cell_type": "code",
   "execution_count": null,
   "metadata": {},
   "outputs": [],
   "source": [
    "sampler = emcee.EnsembleSampler(\n",
    "    nwalkers=nwalkers,\n",
    "    ndim=ndim,\n",
    "    log_prob_fn=model.likelihood,\n",
    "    moves=[(emcee.moves.DEMove(), 0.8), (emcee.moves.DESnookerMove(), 0.2)],\n",
    "    parameter_names=list(model.get_params().keys()),\n",
    ")"
   ]
  },
  {
   "cell_type": "code",
   "execution_count": null,
   "metadata": {},
   "outputs": [],
   "source": [
    "sampler.run_mcmc(initial, nsteps, progress=False);"
   ]
  },
  {
   "cell_type": "code",
   "execution_count": null,
   "metadata": {},
   "outputs": [],
   "source": [
    "sampler.get_chain(discard=int(0.9*nsteps), flat=True).mean(axis=0)"
   ]
  }
 ],
 "metadata": {
  "kernelspec": {
   "display_name": "Python 3.8.10 ('.venv': venv)",
   "language": "python",
   "name": "python3"
  },
  "language_info": {
   "codemirror_mode": {
    "name": "ipython",
    "version": 3
   },
   "file_extension": ".py",
   "mimetype": "text/x-python",
   "name": "python",
   "nbconvert_exporter": "python",
   "pygments_lexer": "ipython3",
   "version": "3.10.12"
  },
  "toc": {
   "base_numbering": 1,
   "nav_menu": {},
   "number_sections": false,
   "sideBar": true,
   "skip_h1_title": false,
   "title_cell": "Table of Contents",
   "title_sidebar": "Contents",
   "toc_cell": false,
   "toc_position": {},
   "toc_section_display": true,
   "toc_window_display": true
  },
  "vscode": {
   "interpreter": {
    "hash": "1b6eded5f386e55fd051b894079e4370359bf13f51a44183870a4399bfd4d593"
   }
  }
 },
 "nbformat": 4,
 "nbformat_minor": 2
}
