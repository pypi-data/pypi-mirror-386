{
 "cells": [
  {
   "cell_type": "markdown",
   "id": "57688bf8-944c-4734-89b2-c97f17596fd0",
   "metadata": {},
   "source": [
    "# PubPart\n",
    "\n",
    "## Collaborations between Université Paris-Salcay and Stockholms Universitet\n",
    "\n",
    "Those plots present collaborations between the Université Paris-Saclay and Stockholms Universitet \n",
    "from 2020 to 2025 using data from OpenAlex.\n",
    "\n",
    "For the Université Paris-Salcay, we use the OpenAlex Institution ID I277688954 with its full ROR \n",
    "lineage (all the university's child structures).\n",
    "\n",
    "For Stockholms Universitet, we use the OpenAlex Institution ID I161593684 with its full ROR lineage\n",
    "(all the institution's child structures), the OpenAlex Publisher ID P4310320318 full lineage and the OpenAlex\n",
    "Funder ID F4320325669. This means that works which are either from author(s) from Stockholms Universitet, \n",
    "published by Stockholms Universitet or funded by Stockholms Universitet will be included in the analysis below.\n",
    "\n",
    "To run this notebook, you need at least 10 GB of RAM. You can reduce the year time frame for each plot if you \n",
    "want to reduce the memory requirements.\n",
    "\n",
    "Romain THOMAS 2025  \n",
    "DiBISO - Université Paris-Salcay"
   ]
  },
  {
   "cell_type": "code",
   "execution_count": 1,
   "id": "1bfcdf22-91ca-4f2d-a255-d3835c8c49c2",
   "metadata": {
    "editable": true,
    "nbsphinx": "hidden",
    "slideshow": {
     "slide_type": ""
    },
    "tags": []
   },
   "outputs": [],
   "source": [
    "# This cell has the metadata: \"nbsphinx\": \"hidden\" to be hidden in the sphinx documentation\n",
    "\n",
    "# Create figure directory\n",
    "\n",
    "import os\n",
    "\n",
    "os.makedirs(\"figures/pubpart\", exist_ok=True)"
   ]
  },
  {
   "cell_type": "markdown",
   "id": "b7f5ab0d-1c7d-4dc2-a7a6-c85ef7640adb",
   "metadata": {},
   "source": [
    "## OpenAlex Topics in works in collaboration"
   ]
  },
  {
   "cell_type": "code",
   "execution_count": 2,
   "id": "d85e0e46-a4f1-4925-99eb-434d14756755",
   "metadata": {
    "editable": true,
    "slideshow": {
     "slide_type": ""
    },
    "tags": []
   },
   "outputs": [],
   "source": [
    "from dibisoplot.pubpart import TopicsCollaborations\n",
    "\n",
    "tc = TopicsCollaborations(\n",
    "    \"I277688954\",\n",
    "    year=\"2020-2025\",\n",
    "    language=\"en\",\n",
    "    entity_openalex_filter_field = \"authorships.institutions.lineage\",\n",
    "    secondary_entity_id = [\"I161593684\", \"P4310320318\", \"F4320325669\"],\n",
    "    secondary_entity_filter_field = [\n",
    "        \"authorships.institutions.lineage\",\n",
    "        \"locations.source.publisher_lineage\",\n",
    "        \"grants.funder\"\n",
    "    ]\n",
    ")\n",
    "\n",
    "tc_fig = tc.get_figure()"
   ]
  },
  {
   "cell_type": "code",
   "execution_count": 3,
   "id": "85f2c001-3aa4-4dd5-8236-391da65df27b",
   "metadata": {
    "editable": true,
    "nbsphinx": "hidden",
    "slideshow": {
     "slide_type": ""
    },
    "tags": []
   },
   "outputs": [],
   "source": [
    "# This cell has the metadata: \"nbsphinx\": \"hidden\" to be hidden in the sphinx documentation\n",
    "\n",
    "tc_fig.update_layout(\n",
    "    autosize=True,\n",
    "    width=None,  # Let the iframe control width\n",
    "    height=None, # Let the iframe control height\n",
    ")\n",
    "tc_fig.write_html(\n",
    "    \"figures/pubpart/tc_fig.html\",\n",
    "    include_plotlyjs=\"cdn\",\n",
    "    full_html=False,\n",
    "    config={\"responsive\": True}\n",
    ")"
   ]
  },
  {
   "cell_type": "markdown",
   "id": "fe67a6f4-fcf7-48b4-b35c-704a201cf6d9",
   "metadata": {},
   "source": [
    "<div style=\"\n",
    "    width: 100%;\n",
    "    height: 500px;\n",
    "    border: 1px solid #ddd;\n",
    "    overflow: hidden;  /* Hide scrollbars */\n",
    "    resize: vertical;  /* Allow vertical resizing (optional) */\n",
    "\">\n",
    "  <iframe\n",
    "    src=\"../_static/figures/pubpart/tc_fig.html\"\n",
    "    frameborder=\"0\"\n",
    "    style=\"\n",
    "      width: 100%;\n",
    "      height: 100%;\n",
    "      background: white;\n",
    "      display: block;  /* Remove extra space */\n",
    "    \"\n",
    "    onload=\"this.style.height = this.contentWindow.document.body.scrollHeight + 'px';\"\n",
    "  ></iframe>\n",
    "</div>"
   ]
  },
  {
   "cell_type": "markdown",
   "id": "ac00f712-8ee0-49bc-90c7-257f4b6bf087",
   "metadata": {},
   "source": [
    "## OpenAlex topics identified as potential collaboration areas"
   ]
  },
  {
   "cell_type": "code",
   "execution_count": 4,
   "id": "497373da-697a-4d1f-8b5f-966ba94dd5c8",
   "metadata": {},
   "outputs": [],
   "source": [
    "from dibisoplot.pubpart import TopicsPotentialCollaborations\n",
    "\n",
    "tpc = TopicsPotentialCollaborations(\n",
    "    \"I277688954\",\n",
    "    language=\"en\",\n",
    "    year=\"2020-2025\",\n",
    "    entity_openalex_filter_field = \"authorships.institutions.lineage\",\n",
    "    secondary_entity_id = [\"I161593684\", \"P4310320318\", \"F4320325669\"],\n",
    "    secondary_entity_filter_field = [\n",
    "        \"authorships.institutions.lineage\",\n",
    "        \"locations.source.publisher_lineage\",\n",
    "        \"grants.funder\"\n",
    "    ]\n",
    ")\n",
    "\n",
    "tpc_fig = tpc.get_figure()"
   ]
  },
  {
   "cell_type": "code",
   "execution_count": 5,
   "id": "1b84b17e-5abb-4ce2-a242-90ed5e29b44f",
   "metadata": {
    "editable": true,
    "nbsphinx": "hidden",
    "slideshow": {
     "slide_type": ""
    },
    "tags": []
   },
   "outputs": [],
   "source": [
    "# This cell has the metadata: \"nbsphinx\": \"hidden\" to be hidden in the sphinx documentation\n",
    "\n",
    "tpc_fig.update_layout(\n",
    "    autosize=True,\n",
    "    width=None,  # Let the iframe control width\n",
    "    height=None, # Let the iframe control height\n",
    ")\n",
    "tpc_fig.write_html(\n",
    "    \"figures/pubpart/tpc_fig.html\",\n",
    "    include_plotlyjs=\"cdn\",\n",
    "    full_html=False,\n",
    "    config={\"responsive\": True}\n",
    ")"
   ]
  },
  {
   "cell_type": "markdown",
   "id": "00520d66-e822-4e9e-bb17-4cd16bdeba62",
   "metadata": {},
   "source": [
    "<div style=\"\n",
    "    width: 100%;\n",
    "    height: 500px;\n",
    "    border: 1px solid #ddd;\n",
    "    overflow: hidden;  /* Hide scrollbars */\n",
    "    resize: vertical;  /* Allow vertical resizing (optional) */\n",
    "\">\n",
    "  <iframe\n",
    "    src=\"../_static/figures/pubpart/tpc_fig.html\"\n",
    "    frameborder=\"0\"\n",
    "    style=\"\n",
    "      width: 100%;\n",
    "      height: 100%;\n",
    "      background: white;\n",
    "      display: block;  /* Remove extra space */\n",
    "    \"\n",
    "    onload=\"this.style.height = this.contentWindow.document.body.scrollHeight + 'px';\"\n",
    "  ></iframe>\n",
    "</div>"
   ]
  },
  {
   "cell_type": "markdown",
   "id": "83ed6a03-31b3-4433-8723-f2878f34f0ed",
   "metadata": {},
   "source": [
    "## Structures with the most collaborations in co-publications"
   ]
  },
  {
   "cell_type": "code",
   "execution_count": 6,
   "id": "57de5079-53a1-4346-bfc6-526c2c34bbf4",
   "metadata": {},
   "outputs": [],
   "source": [
    "from dibisoplot.pubpart import InstitutionsLineageCollaborations\n",
    "\n",
    "ilc = InstitutionsLineageCollaborations(\n",
    "    \"I277688954\",\n",
    "    year=\"2020-2025\",\n",
    "    language=\"en\",\n",
    "    entity_openalex_filter_field = \"authorships.institutions.lineage\",\n",
    "    secondary_entity_id = [\"I161593684\", \"P4310320318\", \"F4320325669\"],\n",
    "    secondary_entity_filter_field = [\n",
    "        \"authorships.institutions.lineage\",\n",
    "        \"locations.source.publisher_lineage\",\n",
    "        \"grants.funder\"\n",
    "    ]\n",
    ")\n",
    "\n",
    "ilc_fig = ilc.get_figure()"
   ]
  },
  {
   "cell_type": "code",
   "execution_count": 7,
   "id": "1c59fd80-734a-409b-bcca-a6ddaa507eaa",
   "metadata": {
    "editable": true,
    "nbsphinx": "hidden",
    "slideshow": {
     "slide_type": ""
    },
    "tags": []
   },
   "outputs": [],
   "source": [
    "# This cell has the metadata: \"nbsphinx\": \"hidden\" to be hidden in the sphinx documentation\n",
    "\n",
    "ilc_fig.update_layout(\n",
    "    autosize=True,\n",
    "    width=None,  # Let the iframe control width\n",
    "    height=None, # Let the iframe control height\n",
    ")\n",
    "ilc_fig.write_html(\n",
    "    \"figures/pubpart/ilc_fig.html\",\n",
    "    include_plotlyjs=\"cdn\",\n",
    "    full_html=False,\n",
    "    config={\"responsive\": True}\n",
    ")"
   ]
  },
  {
   "cell_type": "markdown",
   "id": "b2c8fcd9-f773-4d58-8e25-c587268fbe34",
   "metadata": {},
   "source": [
    "<div style=\"\n",
    "    width: 100%;\n",
    "    height: 500px;\n",
    "    border: 1px solid #ddd;\n",
    "    overflow: hidden;  /* Hide scrollbars */\n",
    "    resize: vertical;  /* Allow vertical resizing (optional) */\n",
    "\">\n",
    "  <iframe\n",
    "    src=\"../_static/figures/pubpart/ilc_fig.html\"\n",
    "    frameborder=\"0\"\n",
    "    style=\"\n",
    "      width: 100%;\n",
    "      height: 100%;\n",
    "      background: white;\n",
    "      display: block;  /* Remove extra space */\n",
    "    \"\n",
    "    onload=\"this.style.height = this.contentWindow.document.body.scrollHeight + 'px';\"\n",
    "  ></iframe>\n",
    "</div>"
   ]
  },
  {
   "cell_type": "markdown",
   "id": "9501fe86-2a26-4d07-9993-5d073c112ac0",
   "metadata": {},
   "source": [
    "## Works in collaboration\n",
    "\n",
    "Sorted by citation_normalized_percentile"
   ]
  },
  {
   "cell_type": "code",
   "execution_count": 8,
   "id": "d4529e52-707e-4d9d-8a9f-98b0d55266f0",
   "metadata": {},
   "outputs": [],
   "source": [
    "from dibisoplot.pubpart import WorksCollaborations\n",
    "\n",
    "wcn = WorksCollaborations(\n",
    "    \"I277688954\",\n",
    "    language=\"en\",\n",
    "    year=\"2020-2025\",\n",
    "    entity_openalex_filter_field = \"authorships.institutions.lineage\",\n",
    "    secondary_entity_id = [\"I161593684\", \"P4310320318\", \"F4320325669\"],\n",
    "    secondary_entity_filter_field = [\n",
    "        \"authorships.institutions.lineage\",\n",
    "        \"locations.source.publisher_lineage\",\n",
    "        \"grants.funder\"\n",
    "    ],\n",
    "    metric=\"citation_normalized_percentile\",\n",
    ")\n",
    "\n",
    "wnc_fig = wcn.get_figure()"
   ]
  },
  {
   "cell_type": "code",
   "execution_count": 9,
   "id": "06b237a0-e499-4dcf-b1a9-352d6a096819",
   "metadata": {
    "editable": true,
    "nbsphinx": "hidden",
    "slideshow": {
     "slide_type": ""
    },
    "tags": []
   },
   "outputs": [],
   "source": [
    "# This cell has the metadata: \"nbsphinx\": \"hidden\" to be hidden in the sphinx documentation\n",
    "\n",
    "wnc_fig.update_layout(\n",
    "    autosize=True,\n",
    "    width=None,  # Let the iframe control width\n",
    "    height=None, # Let the iframe control height\n",
    ")\n",
    "wnc_fig.write_html(\n",
    "    \"figures/pubpart/wnc_fig.html\",\n",
    "    include_plotlyjs=\"cdn\",\n",
    "    full_html=False,\n",
    "    config={\"responsive\": True}\n",
    ")"
   ]
  },
  {
   "cell_type": "markdown",
   "id": "153ba94a-580e-4bd5-9ad6-9454ca4ea283",
   "metadata": {},
   "source": [
    "<div style=\"\n",
    "    width: 100%;\n",
    "    height: 500px;\n",
    "    border: 1px solid #ddd;\n",
    "    overflow: hidden;  /* Hide scrollbars */\n",
    "    resize: vertical;  /* Allow vertical resizing (optional) */\n",
    "\">\n",
    "  <iframe\n",
    "    src=\"../_static/figures/pubpart/wnc_fig.html\"\n",
    "    frameborder=\"0\"\n",
    "    style=\"\n",
    "      width: 100%;\n",
    "      height: 100%;\n",
    "      background: white;\n",
    "      display: block;  /* Remove extra space */\n",
    "    \"\n",
    "    onload=\"this.style.height = this.contentWindow.document.body.scrollHeight + 'px';\"\n",
    "  ></iframe>\n",
    "</div>"
   ]
  },
  {
   "cell_type": "markdown",
   "id": "140abb4d-070a-4dc1-9048-a52dc0f23979",
   "metadata": {},
   "source": [
    "## Works in collaboration\n",
    "\n",
    "Sorted by cited_by_count"
   ]
  },
  {
   "cell_type": "code",
   "execution_count": 10,
   "id": "8aa61e19-c12f-46d2-bfe4-801cbdca65d4",
   "metadata": {},
   "outputs": [],
   "source": [
    "from dibisoplot.pubpart import WorksCollaborations\n",
    "\n",
    "wcc = WorksCollaborations(\n",
    "    \"I277688954\",\n",
    "    language=\"en\",\n",
    "    year=\"2020-2025\",\n",
    "    entity_openalex_filter_field = \"authorships.institutions.lineage\",\n",
    "    secondary_entity_id = [\"I161593684\", \"P4310320318\", \"F4320325669\"],\n",
    "    secondary_entity_filter_field = [\n",
    "        \"authorships.institutions.lineage\",\n",
    "        \"locations.source.publisher_lineage\",\n",
    "        \"grants.funder\"\n",
    "    ],\n",
    "    metric=\"cited_by_count\",\n",
    "    max_plotted_entities=50,\n",
    ")\n",
    "\n",
    "wcc_fig = wcc.get_figure()"
   ]
  },
  {
   "cell_type": "code",
   "execution_count": 11,
   "id": "1b6b314b-79a2-4e8f-b76e-268e7719fbe4",
   "metadata": {
    "editable": true,
    "nbsphinx": "hidden",
    "slideshow": {
     "slide_type": ""
    },
    "tags": []
   },
   "outputs": [],
   "source": [
    "# This cell has the metadata: \"nbsphinx\": \"hidden\" to be hidden in the sphinx documentation\n",
    "\n",
    "wcc_fig.update_layout(\n",
    "    autosize=True,\n",
    "    width=None,  # Let the iframe control width\n",
    "    height=None, # Let the iframe control height\n",
    ")\n",
    "wcc_fig.write_html(\n",
    "    \"figures/pubpart/wcc_fig.html\",\n",
    "    include_plotlyjs=\"cdn\",\n",
    "    full_html=False,\n",
    "    config={\"responsive\": True}\n",
    ")"
   ]
  },
  {
   "cell_type": "markdown",
   "id": "0de18fda-f6a4-4609-94e8-c4f70b849096",
   "metadata": {},
   "source": [
    "<div style=\"\n",
    "    width: 100%;\n",
    "    height: 1000px;\n",
    "    border: 1px solid #ddd;\n",
    "    overflow: hidden;  /* Hide scrollbars */\n",
    "    resize: vertical;  /* Allow vertical resizing (optional) */\n",
    "\">\n",
    "  <iframe\n",
    "    src=\"../_static/figures/pubpart/wcc_fig.html\"\n",
    "    frameborder=\"0\"\n",
    "    style=\"\n",
    "      width: 100%;\n",
    "      height: 100%;\n",
    "      background: white;\n",
    "      display: block;  /* Remove extra space */\n",
    "    \"\n",
    "    onload=\"this.style.height = this.contentWindow.document.body.scrollHeight + 'px';\"\n",
    "  ></iframe>\n",
    "</div>"
   ]
  }
 ],
 "metadata": {
  "kernelspec": {
   "display_name": "Python 3 (ipykernel)",
   "language": "python",
   "name": "python3"
  },
  "language_info": {
   "codemirror_mode": {
    "name": "ipython",
    "version": 3
   },
   "file_extension": ".py",
   "mimetype": "text/x-python",
   "name": "python",
   "nbconvert_exporter": "python",
   "pygments_lexer": "ipython3",
   "version": "3.12.3"
  }
 },
 "nbformat": 4,
 "nbformat_minor": 5
}
