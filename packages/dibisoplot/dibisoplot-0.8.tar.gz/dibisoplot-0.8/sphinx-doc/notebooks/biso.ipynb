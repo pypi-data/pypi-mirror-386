{
 "cells": [
  {
   "cell_type": "markdown",
   "id": "1c5571822389571a",
   "metadata": {
    "editable": true,
    "slideshow": {
     "slide_type": ""
    },
    "tags": []
   },
   "source": [
    "# BiSO\n",
    "\n",
    "Romain THOMAS 2025  \n",
    "DiBISO - Université Paris-Saclay"
   ]
  },
  {
   "cell_type": "markdown",
   "id": "2ed5b51e-1263-48cb-9b9c-044bebc17904",
   "metadata": {},
   "source": [
    "## Load environment variables\n",
    "\n",
    "Load the environment variables from the `.env` file.\n",
    "\n",
    "Then, load the API keys and index names, and store them in a dictionary for further use."
   ]
  },
  {
   "cell_type": "code",
   "execution_count": 1,
   "id": "b46e41f2-8de5-4947-b6f1-bfc70fab9cdf",
   "metadata": {},
   "outputs": [],
   "source": [
    "import os\n",
    "from dotenv import load_dotenv\n",
    "\n",
    "load_dotenv()\n",
    "\n",
    "scanr_config = {\n",
    "    'scanr_api_password' : os.getenv(\"SCANR_API_PASSWORD\"),\n",
    "    'scanr_api_url' : os.getenv(\"SCANR_API_URL\"),\n",
    "    'scanr_api_username' : os.getenv(\"SCANR_API_USERNAME\"),\n",
    "    'scanr_bso_index' : os.getenv(\"SCANR_BSO_INDEX\"),\n",
    "    'scanr_publications_index' : os.getenv(\"SCANR_PUBLICATIONS_INDEX\")\n",
    "}"
   ]
  },
  {
   "cell_type": "code",
   "execution_count": 2,
   "id": "c1755d78-49b5-4326-8f5e-650681ec9a19",
   "metadata": {
    "editable": true,
    "nbsphinx": "hidden",
    "slideshow": {
     "slide_type": ""
    },
    "tags": []
   },
   "outputs": [],
   "source": [
    "# This cell has the metadata: \"nbsphinx\": \"hidden\" to be hidden in the sphinx documentation\n",
    "\n",
    "# Create figure directory\n",
    "\n",
    "import os\n",
    "\n",
    "os.makedirs(\"figures/biso\", exist_ok=True)"
   ]
  },
  {
   "cell_type": "markdown",
   "id": "047a9c10-a83c-4e52-ab71-60ddb353ffb3",
   "metadata": {},
   "source": [
    "## ANR Projects"
   ]
  },
  {
   "cell_type": "code",
   "execution_count": 3,
   "id": "86841ffe-deb6-467c-8e34-915488f25bfc",
   "metadata": {
    "editable": true,
    "slideshow": {
     "slide_type": ""
    },
    "tags": []
   },
   "outputs": [],
   "source": [
    "from dibisoplot.biso import AnrProjects\n",
    "\n",
    "anr_projects = AnrProjects(\n",
    "    entity_id=\"SUP_SONDRA\",\n",
    "    year = 2023,\n",
    ")\n",
    "\n",
    "anr_fig = anr_projects.get_figure()\n",
    "\n",
    "# anr_fig.show()"
   ]
  },
  {
   "cell_type": "code",
   "execution_count": 4,
   "id": "70083dd9-7a8e-4163-bbc1-5981eba14ead",
   "metadata": {
    "editable": true,
    "nbsphinx": "hidden",
    "slideshow": {
     "slide_type": ""
    },
    "tags": []
   },
   "outputs": [],
   "source": [
    "# This cell has the metadata: \"nbsphinx\": \"hidden\" to be hidden in the sphinx documentation\n",
    "\n",
    "anr_fig.update_layout(\n",
    "    autosize=True,\n",
    "    margin=dict(l=20, r=20, t=20, b=20),  # Reduce margins\n",
    "    width=None,  # Let the iframe control width\n",
    "    height=None, # Let the iframe control height\n",
    ")\n",
    "anr_fig.write_html(\n",
    "    \"figures/biso/anr_projects.html\",\n",
    "    include_plotlyjs=\"cdn\",\n",
    "    full_html=False,\n",
    "    config={\"responsive\": True}\n",
    ")"
   ]
  },
  {
   "cell_type": "markdown",
   "id": "388e3963-5bb2-4c2d-8593-762fe53b0c5b",
   "metadata": {},
   "source": [
    "<div style=\"\n",
    "    width: 100%;\n",
    "    height: 500px;\n",
    "    border: 1px solid #ddd;\n",
    "    overflow: hidden;  /* Hide scrollbars */\n",
    "    resize: vertical;  /* Allow vertical resizing (optional) */\n",
    "\">\n",
    "  <iframe\n",
    "    src=\"../_static/figures/biso/anr_projects.html\"\n",
    "    frameborder=\"0\"\n",
    "    style=\"\n",
    "      width: 100%;\n",
    "      height: 100%;\n",
    "      background: white;\n",
    "      display: block;  /* Remove extra space */\n",
    "    \"\n",
    "    onload=\"this.style.height = this.contentWindow.document.body.scrollHeight + 'px';\"\n",
    "  ></iframe>\n",
    "</div>"
   ]
  },
  {
   "cell_type": "markdown",
   "id": "1797042f-07b5-46ae-9549-95bc69ad801f",
   "metadata": {},
   "source": [
    "## Chapters"
   ]
  },
  {
   "cell_type": "code",
   "execution_count": 5,
   "id": "f9bb6bf3-99ec-4855-aed4-40af95d1e7ae",
   "metadata": {},
   "outputs": [
    {
     "name": "stdout",
     "output_type": "stream",
     "text": [
      "\\begin{longtable}{p{.4\\linewidth}p{.35\\linewidth}p{.15\\linewidth}}\n",
      "\\caption{Liste des chapitres renseignés dans HAL}\n",
      "\\label{tab_chapters}\\\\\n",
      "\\toprule\n",
      "Titre du chapitre & Titre du livre & Éditeur \\\\\n",
      "\\midrule\n",
      "Préface & La déclaration Union européenne-Turquie, ambiguïtés et devenir d’un modèle de gestion des flux migratoires & Bruylant, collection Pratique(s) du droit international \\\\\n",
      "Une certaine idée du service public culturel. Du 19ème au début du 20ème siècle & L’artiste, l’administrateur et le juge. L’invention du service public culturel. Le rôle du Conseil d’Etat, Actes du colloque des 26 et 27 novembre 2021, organisé par le Comité d’histoire du Conseil d’Etat et de la juridiction administrative et le Comité d’histoire du ministère de la culture & La rumeur libre éditions \\\\\n",
      "Le Parlement comme contre-pouvoir sous la Ve République. Les enseignements des élections législatives de juin 2022 & Institutions et contre-pouvoir. Représentation, contrôle et ordre constitutionnel au prisme du droit constitutionnel comparé & Nihon Hyoron Sha \\\\\n",
      "A la recherche de l’esprit de solidarité énergétique & Union européenne et solidarité(s) & Bruylant \\\\\n",
      "Démocratie environnementale : quelle(s) réalité(s) derrière les mots ? & Le droit économique de l’environnement : Acteurs et méthodes & Mare \\& Martin \\\\\n",
      "La place du charbon dans l’Union européenne & Commerce transnational et industries extractives : entre singularité et pérennité d’un modèle &  \\\\\n",
      "Ethique, science et gouvernance internationale en temps de pandémie & Sciences et pandémies : quelle éthique pour demain ? & éditions Erès \\\\\n",
      "Concurrence et régulation & Commentaire J. Mégret : L’énergie &  \\\\\n",
      "Le serment du chef de l’État & Le Serment. Perspectives juridiques contemporaines & Société de législations comparée \\\\\n",
      "Le permis de construire sur le domaine public : entre protection du domaine et simplification des autorisations d’urbanisme. À propos de l’article R. 431-13 du code de l’urbanisme & Droit de l’Aménagement de l’Urbanisme de l’Habitat, 27e éd. & Le Moniteur \\\\\n",
      "Essais nucléaires et statut colonial de la Polynésie française : la rhétorique indépendantiste au sein de l’Organisation des Nations Unies & Le traitement juridique contemporain du fait nucléaire français en Polynésie française & Pedone \\\\\n",
      "La réponse de l’Union européenne à la crise énergétique : unie dans le conflit ? & La conflictualité dans l’Union européenne : menace existentielle ou catalyseur d’intégration ? & Bruylant \\\\\n",
      "La 9e question mise au programme du Congrès international de droit comparé de 1900 & Mélanges en l’honneur du Professeur Ken Hasegawa & Mare \\& Martin \\\\\n",
      "A propos des accords bilatéraux de coopération récemment conclus avec trois Etats voisins (traités d’Aix-la-Chapelle, du Quirinal et de Barcelone) & Annuaire français de droit international (AFDI) &  \\\\\n",
      "La typologie des régimes politiques à l’aune de la structure de l’exécutif & Les figures contemporaines du chef de l’État en régime parlementaire & Bruylant \\\\\n",
      "La solidarité européenne à l’épreuve de la pandémie : bilan d’une stratégie vaccinale en clair-obscur & Ethique et gouvernance internationale de la recherche – Les enseignements de la pandémie de Covid-19 &  \\\\\n",
      "L’utilisation du contrôle de proportionnalité par les juges européens en matière d’asile & Les juges européens face aux migrations & Anthémis \\\\\n",
      "\\bottomrule\n",
      "\\end{longtable}\n",
      "\n"
     ]
    }
   ],
   "source": [
    "from dibisoplot.biso import Chapters\n",
    "\n",
    "chapters = Chapters(\n",
    "    entity_id=\"IEDP\",\n",
    "    year = \"2023\",\n",
    ")\n",
    "\n",
    "chapters_latex = chapters.get_figure()\n",
    "\n",
    "print(chapters_latex)"
   ]
  },
  {
   "cell_type": "markdown",
   "id": "b8bd3639-3b3b-4ce3-b53a-3ad5bd7cb968",
   "metadata": {},
   "source": [
    "## Collaboration Map"
   ]
  },
  {
   "cell_type": "code",
   "execution_count": 6,
   "id": "aeec7971-5f3e-480a-aaba-2a0fe24b4889",
   "metadata": {},
   "outputs": [
    {
     "name": "stdout",
     "output_type": "stream",
     "text": [
      "Returning 253 doi (limit at 1000)\n",
      "Downloading the metadata for 253 DOIs from OpenAlex...\n",
      "191 works retrieved successfully from OpenAlex out of 253\n",
      "367 unique institutions with which we collaborated on works\n",
      "213 unique institutions to plot\n"
     ]
    }
   ],
   "source": [
    "from dibisoplot.biso import CollaborationMap\n",
    "\n",
    "collab_map = CollaborationMap(\n",
    "    entity_id=\"LISN\",\n",
    "    year = 2023,\n",
    "    countries_to_ignore = [\"France\"],\n",
    ")\n",
    "\n",
    "collab_map_fig = collab_map.get_figure()\n",
    "\n",
    "# collab_map_fig.show()"
   ]
  },
  {
   "cell_type": "code",
   "execution_count": 7,
   "id": "5f87adaa-54db-4e90-a397-3cd46dc52023",
   "metadata": {
    "editable": true,
    "nbsphinx": "hidden",
    "slideshow": {
     "slide_type": ""
    },
    "tags": []
   },
   "outputs": [],
   "source": [
    "# This cell has the metadata: \"nbsphinx\": \"hidden\" to be hidden in the sphinx documentation\n",
    "\n",
    "collab_map_fig.update_layout(\n",
    "    autosize=True,\n",
    "    margin=dict(l=20, r=20, t=20, b=20),  # Reduce margins\n",
    "    width=None,  # Let the iframe control width\n",
    "    height=None, # Let the iframe control height\n",
    ")\n",
    "collab_map_fig.write_html(\n",
    "    \"figures/biso/collaboration_map.html\",\n",
    "    include_plotlyjs=\"cdn\",\n",
    "    full_html=False,\n",
    "    config={\"responsive\": True}\n",
    ")"
   ]
  },
  {
   "cell_type": "markdown",
   "id": "d08fd8be-6069-4a3d-bcca-eeeae0fba1a7",
   "metadata": {},
   "source": [
    "<div style=\"\n",
    "    width: 100%;\n",
    "    height: 500px;\n",
    "    border: 1px solid #ddd;\n",
    "    overflow: hidden;  /* Hide scrollbars */\n",
    "    resize: vertical;  /* Allow vertical resizing (optional) */\n",
    "\">\n",
    "  <iframe\n",
    "    src=\"../_static/figures/biso/collaboration_map.html\"\n",
    "    frameborder=\"0\"\n",
    "    style=\"\n",
    "      width: 100%;\n",
    "      height: 100%;\n",
    "      background: white;\n",
    "      display: block;  /* Remove extra space */\n",
    "    \"\n",
    "    onload=\"this.style.height = this.contentWindow.document.body.scrollHeight + 'px';\"\n",
    "  ></iframe>\n",
    "</div>"
   ]
  },
  {
   "cell_type": "markdown",
   "id": "ef2a82c0-99fa-46ae-b1b3-6477a3550ad3",
   "metadata": {},
   "source": [
    "## Collaboration Names"
   ]
  },
  {
   "cell_type": "code",
   "execution_count": 8,
   "id": "fe3551f4-eacf-4752-847e-ee878e71b5b0",
   "metadata": {},
   "outputs": [],
   "source": [
    "from dibisoplot.biso import CollaborationNames\n",
    "\n",
    "collabs = CollaborationNames(\n",
    "    entity_id=\"LISN\",\n",
    "    year = 2023,\n",
    "    countries_to_exclude = ['fr'],\n",
    ")\n",
    "\n",
    "collabs_fig = collabs.get_figure()\n",
    "\n",
    "# collabs_fig.show()"
   ]
  },
  {
   "cell_type": "code",
   "execution_count": 9,
   "id": "2672d940-c432-4df7-81e0-4bca5f466a42",
   "metadata": {
    "editable": true,
    "nbsphinx": "hidden",
    "slideshow": {
     "slide_type": ""
    },
    "tags": []
   },
   "outputs": [],
   "source": [
    "# This cell has the metadata: \"nbsphinx\": \"hidden\" to be hidden in the sphinx documentation\n",
    "\n",
    "collabs_fig.update_layout(\n",
    "    autosize=True,\n",
    "    margin=dict(l=20, r=20, t=20, b=20),  # Reduce margins\n",
    "    width=None,  # Let the iframe control width\n",
    "    height=None, # Let the iframe control height\n",
    ")\n",
    "collabs_fig.write_html(\n",
    "    \"figures/biso/collaboration_names.html\",\n",
    "    include_plotlyjs=\"cdn\",\n",
    "    full_html=False,\n",
    "    config={\"responsive\": True}\n",
    ")"
   ]
  },
  {
   "cell_type": "markdown",
   "id": "0329cf2b-137f-4c62-92c3-92576e1f7f03",
   "metadata": {},
   "source": [
    "<div style=\"\n",
    "    width: 100%;\n",
    "    height: 500px;\n",
    "    border: 1px solid #ddd;\n",
    "    overflow: hidden;  /* Hide scrollbars */\n",
    "    resize: vertical;  /* Allow vertical resizing (optional) */\n",
    "\">\n",
    "  <iframe\n",
    "    src=\"../_static/figures/biso/collaboration_names.html\"\n",
    "    frameborder=\"0\"\n",
    "    style=\"\n",
    "      width: 100%;\n",
    "      height: 100%;\n",
    "      background: white;\n",
    "      display: block;  /* Remove extra space */\n",
    "    \"\n",
    "    onload=\"this.style.height = this.contentWindow.document.body.scrollHeight + 'px';\"\n",
    "  ></iframe>\n",
    "</div>"
   ]
  },
  {
   "cell_type": "markdown",
   "id": "80c129ef-53e1-4f51-b9be-e2c0bda1fcb1",
   "metadata": {},
   "source": [
    "## Conferences"
   ]
  },
  {
   "cell_type": "code",
   "execution_count": 10,
   "id": "401f8048-7535-4d04-ad3d-3e31edb45a8d",
   "metadata": {},
   "outputs": [],
   "source": [
    "from dibisoplot.biso import Conferences\n",
    "\n",
    "conf = Conferences(\n",
    "    entity_id=\"LGI\",\n",
    "    year = 2023,\n",
    ")\n",
    "\n",
    "conf_fig = conf.get_figure()\n",
    "\n",
    "# conf_fig.show()"
   ]
  },
  {
   "cell_type": "code",
   "execution_count": 11,
   "id": "4a219d3e-fc92-4487-a272-ad385468bbee",
   "metadata": {
    "editable": true,
    "nbsphinx": "hidden",
    "slideshow": {
     "slide_type": ""
    },
    "tags": []
   },
   "outputs": [],
   "source": [
    "# This cell has the metadata: \"nbsphinx\": \"hidden\" to be hidden in the sphinx documentation\n",
    "\n",
    "conf_fig.update_layout(\n",
    "    autosize=True,\n",
    "    margin=dict(l=20, r=20, t=20, b=20),  # Reduce margins\n",
    "    width=None,  # Let the iframe control width\n",
    "    height=None, # Let the iframe control height\n",
    ")\n",
    "conf_fig.write_html(\n",
    "    \"figures/biso/conferences.html\",\n",
    "    include_plotlyjs=\"cdn\",\n",
    "    full_html=False,\n",
    "    config={\"responsive\": True}\n",
    ")"
   ]
  },
  {
   "cell_type": "markdown",
   "id": "8db9c234-9471-48ca-9648-f33650141482",
   "metadata": {},
   "source": [
    "<div style=\"\n",
    "    width: 100%;\n",
    "    height: 500px;\n",
    "    border: 1px solid #ddd;\n",
    "    overflow: hidden;  /* Hide scrollbars */\n",
    "    resize: vertical;  /* Allow vertical resizing (optional) */\n",
    "\">\n",
    "  <iframe\n",
    "    src=\"../_static/figures/biso/conferences.html\"\n",
    "    frameborder=\"0\"\n",
    "    style=\"\n",
    "      width: 100%;\n",
    "      height: 100%;\n",
    "      background: white;\n",
    "      display: block;  /* Remove extra space */\n",
    "    \"\n",
    "    onload=\"this.style.height = this.contentWindow.document.body.scrollHeight + 'px';\"\n",
    "  ></iframe>\n",
    "</div>"
   ]
  },
  {
   "cell_type": "markdown",
   "id": "beec853f-7a65-47f6-84df-9641fde7b8ba",
   "metadata": {},
   "source": [
    "## European Projects"
   ]
  },
  {
   "cell_type": "code",
   "execution_count": 12,
   "id": "12e00301-931b-42e0-97cd-219690c221c3",
   "metadata": {},
   "outputs": [],
   "source": [
    "from dibisoplot.biso import EuropeanProjects\n",
    "\n",
    "eu_projects = EuropeanProjects(\n",
    "    entity_id=\"UMPHY\",\n",
    "    year = 2023,\n",
    ")\n",
    "\n",
    "eu_projects_fig = eu_projects.get_figure()\n",
    "\n",
    "# eu_projects_fig.show()"
   ]
  },
  {
   "cell_type": "code",
   "execution_count": 13,
   "id": "071ca175-b9db-402f-8103-b30e19234df0",
   "metadata": {
    "editable": true,
    "nbsphinx": "hidden",
    "slideshow": {
     "slide_type": ""
    },
    "tags": []
   },
   "outputs": [],
   "source": [
    "# This cell has the metadata: \"nbsphinx\": \"hidden\" to be hidden in the sphinx documentation\n",
    "\n",
    "eu_projects_fig.update_layout(\n",
    "    autosize=True,\n",
    "    margin=dict(l=20, r=20, t=20, b=20),  # Reduce margins\n",
    "    width=None,  # Let the iframe control width\n",
    "    height=None, # Let the iframe control height\n",
    ")\n",
    "eu_projects_fig.write_html(\n",
    "    \"figures/biso/european_projects.html\",\n",
    "    include_plotlyjs=\"cdn\",\n",
    "    full_html=False,\n",
    "    config={\"responsive\": True}\n",
    ")"
   ]
  },
  {
   "cell_type": "markdown",
   "id": "bba31509-9e55-443a-818c-0c7ec06f0943",
   "metadata": {},
   "source": [
    "<div style=\"\n",
    "    width: 100%;\n",
    "    height: 500px;\n",
    "    border: 1px solid #ddd;\n",
    "    overflow: hidden;  /* Hide scrollbars */\n",
    "    resize: vertical;  /* Allow vertical resizing (optional) */\n",
    "\">\n",
    "  <iframe\n",
    "    src=\"../_static/figures/biso/european_projects.html\"\n",
    "    frameborder=\"0\"\n",
    "    style=\"\n",
    "      width: 100%;\n",
    "      height: 100%;\n",
    "      background: white;\n",
    "      display: block;  /* Remove extra space */\n",
    "    \"\n",
    "    onload=\"this.style.height = this.contentWindow.document.body.scrollHeight + 'px';\"\n",
    "  ></iframe>\n",
    "</div>"
   ]
  },
  {
   "cell_type": "markdown",
   "id": "600031d4-addb-417d-a1ca-7eff35305070",
   "metadata": {},
   "source": [
    "## Journals"
   ]
  },
  {
   "cell_type": "code",
   "execution_count": 14,
   "id": "d396e01e-c849-450d-923d-bfddd1424eec",
   "metadata": {
    "scrolled": true
   },
   "outputs": [
    {
     "name": "stdout",
     "output_type": "stream",
     "text": [
      "Returning 46 doi (limit at 1000)\n",
      "Returning 60 hal (limit at 1000)\n",
      "Found 50 works out of 60\n",
      "\\begin{longtable}{p{.27\\linewidth}P{.18\\linewidth}P{.07\\linewidth}P{.12\\linewidth}P{.12\\linewidth}P{.07\\linewidth}}\n",
      "\\caption{Liste des revues, des éditeurs, des statuts d'accès ouvert et des APC payés. D'après la liste des publications dans HAL et les données du BSO 2024Q4.}\n",
      "\\label{tab_journals}\\\\\n",
      "\\toprule\n",
      "Revue & Éditeur & Nombre de travaux & Est en accès ouvert sur le journal & Est en accès ouvert sur une archive & APC payés \\\\\n",
      "\\midrule\n",
      "Proceedings of the Combustion Institute & Elsevier BV & 5 & \\emoji{white-question-mark} \\emoji{white-question-mark} \\emoji{white-question-mark} \\emoji{white-question-mark} \\emoji{white-question-mark} & \\emoji{check-mark-button} \\emoji{check-mark-button} \\emoji{check-mark-button} \\emoji{check-mark-button} \\emoji{white-question-mark} &  \\\\\n",
      "Applications in Energy and Combustion Science & Elsevier BV & 4 & \\emoji{check-mark-button} \\emoji{check-mark-button} \\emoji{check-mark-button} \\emoji{check-mark-button} & \\emoji{check-mark-button} \\emoji{check-mark-button} \\emoji{check-mark-button} \\emoji{check-mark-button} & 2000 \\$, 2000 \\$, 2000 \\$, 2000 \\$ \\\\\n",
      "Combustion and Flame & Elsevier BV & 4 & \\emoji{white-question-mark} \\emoji{white-question-mark} \\emoji{white-question-mark} \\emoji{white-question-mark} & \\emoji{check-mark-button} \\emoji{check-mark-button} \\emoji{check-mark-button} \\emoji{check-mark-button} &  \\\\\n",
      "Plasma Sources Science and Technology & IOP Publishing & 4 & \\emoji{cross-mark} \\emoji{white-question-mark} \\emoji{cross-mark} \\emoji{white-question-mark} & \\emoji{white-question-mark} \\emoji{check-mark-button} \\emoji{white-question-mark} \\emoji{check-mark-button} &  \\\\\n",
      "Applied Physics B & Springer Science and Business Media LLC & 3 & \\emoji{white-question-mark} \\emoji{white-question-mark} \\emoji{white-question-mark} & \\emoji{check-mark-button} \\emoji{check-mark-button} \\emoji{check-mark-button} &  \\\\\n",
      "Journal of Engineering for Gas Turbines and Power & ASME International & 3 & \\emoji{white-question-mark} \\emoji{cross-mark} \\emoji{white-question-mark} & \\emoji{check-mark-button} \\emoji{white-question-mark} \\emoji{check-mark-button} &  \\\\\n",
      "Process Safety and Environmental Protection & Elsevier BV & 2 & \\emoji{white-question-mark} \\emoji{white-question-mark} & \\emoji{check-mark-button} \\emoji{check-mark-button} &  \\\\\n",
      "Volume 3A: Combustion, Fuels, and Emissions & American Society of Mechanical Engineers & 2 & \\emoji{cross-mark} \\emoji{cross-mark} & \\emoji{white-question-mark} \\emoji{white-question-mark} &  \\\\\n",
      "Biophysical Journal & Elsevier BV & 1 & \\emoji{check-mark-button} & \\emoji{check-mark-button} & 2500 \\$ \\\\\n",
      "Frontiers in Physics & Frontiers Media SA & 1 & \\emoji{check-mark-button} & \\emoji{check-mark-button} & 2490 \\$ \\\\\n",
      "Aerospace & MDPI AG & 1 & \\emoji{check-mark-button} & \\emoji{check-mark-button} & 1600 CHF \\\\\n",
      "AIAA SCITECH 2023 Forum & American Institute of Aeronautics and Astronautics & 1 & \\emoji{white-question-mark} & \\emoji{check-mark-button} &  \\\\\n",
      "Computers \\& Fluids & Elsevier BV & 1 & \\emoji{white-question-mark} & \\emoji{check-mark-button} &  \\\\\n",
      "International Journal of Thermal Sciences & Elsevier BV & 1 & \\emoji{white-question-mark} & \\emoji{check-mark-button} &  \\\\\n",
      "Journal of Quantitative Spectroscopy and Radiative Transfer & Elsevier BV & 1 & \\emoji{cross-mark} & \\emoji{white-question-mark} &  \\\\\n",
      "Proceeding of International Heat Transfer Conference 17 & Begellhouse & 1 & \\emoji{white-question-mark} & \\emoji{check-mark-button} &  \\\\\n",
      "Volume 3B: Combustion, Fuels, and Emissions & American Society of Mechanical Engineers & 1 & \\emoji{white-question-mark} & \\emoji{check-mark-button} &  \\\\\n",
      "Revue non spécifiée & Éditeur non spécifié & 14 & \\emoji{white-question-mark} \\emoji{white-question-mark} \\emoji{white-question-mark} \\emoji{white-question-mark} \\emoji{white-question-mark} \\emoji{white-question-mark} \\emoji{cross-mark} \\emoji{white-question-mark} \\emoji{white-question-mark} \\emoji{white-question-mark} \\emoji{white-question-mark} \\emoji{white-question-mark} \\emoji{white-question-mark} \\emoji{cross-mark} & \\emoji{check-mark-button} \\emoji{check-mark-button} \\emoji{check-mark-button} \\emoji{check-mark-button} \\emoji{check-mark-button} \\emoji{check-mark-button} \\emoji{white-question-mark} \\emoji{check-mark-button} \\emoji{check-mark-button} \\emoji{check-mark-button} \\emoji{check-mark-button} \\emoji{check-mark-button} \\emoji{check-mark-button} \\emoji{white-question-mark} &  \\\\\n",
      "\\bottomrule\n",
      "\\end{longtable}\n",
      "\n"
     ]
    }
   ],
   "source": [
    "from dibisoplot.biso import Journals\n",
    "\n",
    "journals = Journals(\n",
    "    entity_id=\"EM2C\",\n",
    "    year = 2023,\n",
    "    **scanr_config,\n",
    ")\n",
    "\n",
    "journals_latex = journals.get_figure()\n",
    "\n",
    "print(journals_latex)"
   ]
  },
  {
   "cell_type": "markdown",
   "id": "a47728ea-50c2-4072-94c2-6928c0c898c4",
   "metadata": {},
   "source": [
    "## Journals in HAL"
   ]
  },
  {
   "cell_type": "code",
   "execution_count": 15,
   "id": "2ea779db-6595-4d58-9a17-083038d561d1",
   "metadata": {},
   "outputs": [],
   "source": [
    "from dibisoplot.biso import JournalsHal\n",
    "\n",
    "journals_hal = JournalsHal(\n",
    "    entity_id=\"EM2C\",\n",
    "    year = 2023,\n",
    ")\n",
    "\n",
    "journals_hal_fig = journals_hal.get_figure()\n",
    "\n",
    "# journals_hal_fig.show()"
   ]
  },
  {
   "cell_type": "code",
   "execution_count": 16,
   "id": "1b8dd21a-c48c-402e-a8d6-0393bec71ad8",
   "metadata": {
    "editable": true,
    "nbsphinx": "hidden",
    "slideshow": {
     "slide_type": ""
    },
    "tags": []
   },
   "outputs": [],
   "source": [
    "# This cell has the metadata: \"nbsphinx\": \"hidden\" to be hidden in the sphinx documentation\n",
    "\n",
    "journals_hal_fig.update_layout(\n",
    "    autosize=True,\n",
    "    margin=dict(l=20, r=20, t=20, b=20),  # Reduce margins\n",
    "    width=None,  # Let the iframe control width\n",
    "    height=None, # Let the iframe control height\n",
    ")\n",
    "journals_hal_fig.write_html(\n",
    "    \"figures/biso/journals_hal.html\",\n",
    "    include_plotlyjs=\"cdn\",\n",
    "    full_html=False,\n",
    "    config={\"responsive\": True}\n",
    ")"
   ]
  },
  {
   "cell_type": "markdown",
   "id": "24061d38-8de8-4546-bdb3-50246578be9b",
   "metadata": {},
   "source": [
    "<div style=\"\n",
    "    width: 100%;\n",
    "    height: 500px;\n",
    "    border: 1px solid #ddd;\n",
    "    overflow: hidden;  /* Hide scrollbars */\n",
    "    resize: vertical;  /* Allow vertical resizing (optional) */\n",
    "\">\n",
    "  <iframe\n",
    "    src=\"../_static/figures/biso/journals_hal.html\"\n",
    "    frameborder=\"0\"\n",
    "    style=\"\n",
    "      width: 100%;\n",
    "      height: 100%;\n",
    "      background: white;\n",
    "      display: block;  /* Remove extra space */\n",
    "    \"\n",
    "    onload=\"this.style.height = this.contentWindow.document.body.scrollHeight + 'px';\"\n",
    "  ></iframe>\n",
    "</div>"
   ]
  },
  {
   "cell_type": "markdown",
   "id": "d7840125-dd4a-4b83-bf05-6df844856a10",
   "metadata": {},
   "source": [
    "## Open Access Works"
   ]
  },
  {
   "cell_type": "code",
   "execution_count": 17,
   "id": "f12f20f2-9f01-4fca-9bdc-c8fdb0987852",
   "metadata": {},
   "outputs": [],
   "source": [
    "from dibisoplot.biso import OpenAccessWorks\n",
    "\n",
    "oa_works = OpenAccessWorks(\n",
    "    entity_id=\"EM2C\",\n",
    "    year = 2023,\n",
    ")\n",
    "\n",
    "oa_works_fig = oa_works.get_figure()\n",
    "\n",
    "# oa_works_fig.show()"
   ]
  },
  {
   "cell_type": "code",
   "execution_count": 18,
   "id": "552154a6-0e70-469c-a073-ae7407f3ae39",
   "metadata": {
    "editable": true,
    "nbsphinx": "hidden",
    "slideshow": {
     "slide_type": ""
    },
    "tags": []
   },
   "outputs": [],
   "source": [
    "# This cell has the metadata: \"nbsphinx\": \"hidden\" to be hidden in the sphinx documentation\n",
    "\n",
    "oa_works_fig.update_layout(\n",
    "    autosize=True,\n",
    "    margin=dict(l=20, r=20, t=20, b=20),  # Reduce margins\n",
    "    width=None,  # Let the iframe control width\n",
    "    height=None, # Let the iframe control height\n",
    ")\n",
    "oa_works_fig.write_html(\n",
    "    \"figures/biso/open_access_works.html\",\n",
    "    include_plotlyjs=\"cdn\",\n",
    "    full_html=False,\n",
    "    config={\"responsive\": True}\n",
    ")"
   ]
  },
  {
   "cell_type": "markdown",
   "id": "c32e5466-acd2-44a7-ad6a-f1f3d54dbe18",
   "metadata": {},
   "source": [
    "<div style=\"\n",
    "    width: 100%;\n",
    "    height: 500px;\n",
    "    border: 1px solid #ddd;\n",
    "    overflow: hidden;  /* Hide scrollbars */\n",
    "    resize: vertical;  /* Allow vertical resizing (optional) */\n",
    "\">\n",
    "  <iframe\n",
    "    src=\"../_static/figures/biso/open_access_works.html\"\n",
    "    frameborder=\"0\"\n",
    "    style=\"\n",
    "      width: 100%;\n",
    "      height: 100%;\n",
    "      background: white;\n",
    "      display: block;  /* Remove extra space */\n",
    "    \"\n",
    "    onload=\"this.style.height = this.contentWindow.document.body.scrollHeight + 'px';\"\n",
    "  ></iframe>\n",
    "</div>"
   ]
  },
  {
   "cell_type": "markdown",
   "id": "d054a498-a104-47ca-8393-f006f7467070",
   "metadata": {},
   "source": [
    "## Private Sector Collaborations"
   ]
  },
  {
   "cell_type": "code",
   "execution_count": 19,
   "id": "4b32bede-c08f-4457-9450-5591ab311892",
   "metadata": {},
   "outputs": [
    {
     "name": "stdout",
     "output_type": "stream",
     "text": [
      "Returning 85 doi (limit at 1000)\n",
      "Returning 142 hal (limit at 1000)\n",
      "Found 5 works with private sector collaboration out of 142 queried works\n"
     ]
    }
   ],
   "source": [
    "from dibisoplot.biso import PrivateSectorCollaborations\n",
    "\n",
    "private_collabs = PrivateSectorCollaborations(\n",
    "    entity_id=\"LGI\",\n",
    "    year = 2023,\n",
    "    **scanr_config,\n",
    ")\n",
    "\n",
    "private_collabs_fig = private_collabs.get_figure()\n",
    "\n",
    "# private_collabs_fig.show()"
   ]
  },
  {
   "cell_type": "code",
   "execution_count": 20,
   "id": "eb7f574a-1283-4d0a-9042-cd78e2a2604f",
   "metadata": {
    "editable": true,
    "nbsphinx": "hidden",
    "slideshow": {
     "slide_type": ""
    },
    "tags": []
   },
   "outputs": [],
   "source": [
    "# This cell has the metadata: \"nbsphinx\": \"hidden\" to be hidden in the sphinx documentation\n",
    "\n",
    "private_collabs_fig.update_layout(\n",
    "    autosize=True,\n",
    "    margin=dict(l=20, r=20, t=20, b=20),  # Reduce margins\n",
    "    width=None,  # Let the iframe control width\n",
    "    height=None, # Let the iframe control height\n",
    ")\n",
    "private_collabs_fig.write_html(\n",
    "    \"figures/biso/private_collabs.html\",\n",
    "    include_plotlyjs=\"cdn\",\n",
    "    full_html=False,\n",
    "    config={\"responsive\": True}\n",
    ")"
   ]
  },
  {
   "cell_type": "markdown",
   "id": "7a9087c7-5446-49b8-8a0a-7d133288ae08",
   "metadata": {},
   "source": [
    "<div style=\"\n",
    "    width: 100%;\n",
    "    height: 500px;\n",
    "    border: 1px solid #ddd;\n",
    "    overflow: hidden;  /* Hide scrollbars */\n",
    "    resize: vertical;  /* Allow vertical resizing (optional) */\n",
    "\">\n",
    "  <iframe\n",
    "    src=\"../_static/figures/biso/private_collabs.html\"\n",
    "    frameborder=\"0\"\n",
    "    style=\"\n",
    "      width: 100%;\n",
    "      height: 100%;\n",
    "      background: white;\n",
    "      display: block;  /* Remove extra space */\n",
    "    \"\n",
    "    onload=\"this.style.height = this.contentWindow.document.body.scrollHeight + 'px';\"\n",
    "  ></iframe>\n",
    "</div>"
   ]
  },
  {
   "cell_type": "markdown",
   "id": "a0577eb0-a6fb-4431-81a3-31442576e5fa",
   "metadata": {},
   "source": [
    "## Works in BibTeX format"
   ]
  },
  {
   "cell_type": "code",
   "execution_count": 21,
   "id": "6cfe1c07-5850-47d9-b57a-70fa842441ec",
   "metadata": {},
   "outputs": [
    {
     "name": "stdout",
     "output_type": "stream",
     "text": [
      "@unpublished{hal-04037062,\n",
      "  TITLE = {A Kinetic-Based Model for High-Speed, Monodisperse, Fluid-Particle Flows},\n",
      "  AUTHOR = {Victor Boniou and Rodney O. Fox and Fr\\'ed\\'erique Laurent},\n",
      "  URL = {https://hal.science/hal-04037062v2},\n",
      "  JOURNAL = {},\n",
      "  PUBLISHER = {},\n",
      "  VOLUME = {},\n",
      "  PAGES = {},\n",
      "  YEAR = {2023},\n",
      "  DOI = {},\n",
      "  HAL_ID = {hal-04037062},\n",
      "}\n",
      "\n",
      "@article{hal-04301251,\n",
      "  TITLE = {Estimation of Spectral Absorption Function Range via LII Measurements of Flame-Synthesized TiO Nanoparticles},\n",
      "  AUTHOR = {Junghwa Yi and Christopher Betrancourt and Nasser Darabiha and Benedetta Franzelli},\n",
      "  URL = {https://hal.science/hal-04301251v1},\n",
      "  JOURNAL = {Applied Physics B - Laser and Optics},\n",
      "  PUBLISHER = {Springer Verlag},\n",
      "  VOLUME = {129},\n",
      "  PAGES = {179},\n",
      "  YEAR = {2023},\n",
      "  DOI = {10.1007/s00340-023-08115-7},\n",
      "  HAL_ID = {hal-04301251},\n",
      "}\n",
      "\n",
      "@inproceedings{hal-04043781,\n",
      "  TITLE = {Interpretation of the Laser-Induced Emissions for flame-synthesized TiO 2 nanoparticles},\n",
      "  AUTHOR = {J Yi and Christopher Betrancourt and Nasser Darabiha and Benedetta Franzelli},\n",
      "  URL = {https://hal.science/hal-04043781v1},\n",
      "  JOURNAL = {},\n",
      "  PUBLISHER = {},\n",
      "  VOLUME = {},\n",
      "  PAGES = {},\n",
      "  YEAR = {2023},\n",
      "  DOI = {},\n",
      "  HAL_ID = {hal-04043781},\n",
      "}\n",
      "\n",
      "@article{hal-04107901,\n",
      "  TITLE = {Characterization of Laser-Induced Emission of high-purity TiO2 nanoparticles: Feasibility of Laser-Induced Incandescence},\n",
      "  AUTHOR = {Junghwa Yi and Christopher Betrancourt and Nasser Darabiha and Benedetta Franzelli},\n",
      "  URL = {https://hal.science/hal-04107901v1},\n",
      "  JOURNAL = {Applied Physics B - Laser and Optics},\n",
      "  PUBLISHER = {Springer Verlag},\n",
      "  VOLUME = {129},\n",
      "  PAGES = {97},\n",
      "  YEAR = {2023},\n",
      "  DOI = {10.1007/s00340-023-08038-3},\n",
      "  HAL_ID = {hal-04107901},\n",
      "}\n",
      "\n",
      "@article{hal-04311078,\n",
      "  TITLE = {Flashback-induced flame shape transition in a two-stage LPP aeronautical combustor},\n",
      "  AUTHOR = {L\\'eo C.C. Mesquita and Aymeric Vi\\'e and S\\'ebastien Ducruix},\n",
      "  URL = {https://hal.science/hal-04311078v1},\n",
      "  JOURNAL = {Procee...\n"
     ]
    }
   ],
   "source": [
    "from dibisoplot.biso import WorksBibtex\n",
    "\n",
    "works = WorksBibtex(\n",
    "    entity_id=\"EM2C\",\n",
    "    year = 2023,\n",
    ")\n",
    "\n",
    "works_latex = works.get_figure()\n",
    "\n",
    "# print the first lines of the bibtex string\n",
    "print(works_latex[:2000] + \"...\")"
   ]
  },
  {
   "cell_type": "markdown",
   "id": "008eeea0-3b1a-4cc6-8d02-8204c81a485d",
   "metadata": {},
   "source": [
    "## Works Type"
   ]
  },
  {
   "cell_type": "code",
   "execution_count": 22,
   "id": "5aa065a3-db20-421b-9d1b-ea4fbd5292bc",
   "metadata": {},
   "outputs": [],
   "source": [
    "from dibisoplot.biso import WorksType\n",
    "\n",
    "works_type = WorksType(\n",
    "    entity_id=\"LGI\",\n",
    "    year = 2023,\n",
    ")\n",
    "\n",
    "works_type_fig = works_type.get_figure()\n",
    "\n",
    "# works_type_fig.show()"
   ]
  },
  {
   "cell_type": "code",
   "execution_count": 23,
   "id": "d85b3c0f-39ee-410d-a340-ad8d1b7825ac",
   "metadata": {
    "editable": true,
    "nbsphinx": "hidden",
    "slideshow": {
     "slide_type": ""
    },
    "tags": []
   },
   "outputs": [],
   "source": [
    "# This cell has the metadata: \"nbsphinx\": \"hidden\" to be hidden in the sphinx documentation\n",
    "\n",
    "works_type_fig.update_layout(\n",
    "    autosize=True,\n",
    "    margin=dict(l=20, r=20, t=20, b=20),  # Reduce margins\n",
    "    width=None,  # Let the iframe control width\n",
    "    height=None, # Let the iframe control height\n",
    ")\n",
    "works_type_fig.write_html(\n",
    "    \"figures/biso/works_type.html\",\n",
    "    include_plotlyjs=\"cdn\",\n",
    "    full_html=False,\n",
    "    config={\"responsive\": True}\n",
    ")"
   ]
  },
  {
   "cell_type": "markdown",
   "id": "983669d5-1417-4219-86c8-d36c415f7575",
   "metadata": {},
   "source": [
    "<div style=\"\n",
    "    width: 100%;\n",
    "    height: 500px;\n",
    "    border: 1px solid #ddd;\n",
    "    overflow: hidden;  /* Hide scrollbars */\n",
    "    resize: vertical;  /* Allow vertical resizing (optional) */\n",
    "\">\n",
    "  <iframe\n",
    "    src=\"../_static/figures/biso/works_type.html\"\n",
    "    frameborder=\"0\"\n",
    "    style=\"\n",
    "      width: 100%;\n",
    "      height: 100%;\n",
    "      background: white;\n",
    "      display: block;  /* Remove extra space */\n",
    "    \"\n",
    "    onload=\"this.style.height = this.contentWindow.document.body.scrollHeight + 'px';\"\n",
    "  ></iframe>\n",
    "</div>"
   ]
  }
 ],
 "metadata": {
  "kernelspec": {
   "display_name": "Python 3 (ipykernel)",
   "language": "python",
   "name": "python3"
  },
  "language_info": {
   "codemirror_mode": {
    "name": "ipython",
    "version": 3
   },
   "file_extension": ".py",
   "mimetype": "text/x-python",
   "name": "python",
   "nbconvert_exporter": "python",
   "pygments_lexer": "ipython3",
   "version": "3.12.3"
  }
 },
 "nbformat": 4,
 "nbformat_minor": 5
}
