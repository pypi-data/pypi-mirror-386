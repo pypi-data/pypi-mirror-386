{
 "cells": [
  {
   "cell_type": "markdown",
   "id": "6bb7f461",
   "metadata": {},
   "source": [
    "# Using the ``czekitout.isa`` module #"
   ]
  },
  {
   "cell_type": "markdown",
   "id": "5d6d9cd7",
   "metadata": {},
   "source": [
    "## A NOTE BEFORE STARTING ##"
   ]
  },
  {
   "cell_type": "markdown",
   "id": "880421e9",
   "metadata": {},
   "source": [
    "Since the ``czekitout`` git repository tracks this notebook under its original\n",
    "basename ``using_isa_module.ipynb``, we recommend that you copy the original\n",
    "notebook and rename it to any other basename that is not one of the original\n",
    "basenames that appear in the ``<root>/examples`` directory before executing any\n",
    "of the notebook cells below, where ``<root>`` is the root of the ``czekitout``\n",
    "repository. This way you can explore the notebook by executing and modifying\n",
    "cells without changing the original notebook, which is being tracked by git."
   ]
  },
  {
   "cell_type": "markdown",
   "id": "7d1b50e5-6351-4257-aac7-85b7b99ffa19",
   "metadata": {},
   "source": [
    "## Table of contents ##"
   ]
  },
  {
   "cell_type": "markdown",
   "id": "1fed59d9-85aa-447a-be20-011ae270a425",
   "metadata": {},
   "source": [
    "- [Import necessary modules](#Import-necessary-modules)\n",
    "- [Introduction](#Introduction)\n",
    "- [Checking whether objects are of certain types](#Checking-whether-objects-are-of-certain-types)"
   ]
  },
  {
   "cell_type": "markdown",
   "id": "12b0d90e",
   "metadata": {},
   "source": [
    "## Import necessary modules ##"
   ]
  },
  {
   "cell_type": "code",
   "execution_count": 10,
   "id": "e7f9787f",
   "metadata": {},
   "outputs": [],
   "source": [
    "# For general array handling.\n",
    "import numpy as np\n",
    "\n",
    "\n",
    "\n",
    "# The module that is the subject of this demonstration.\n",
    "import czekitout.isa"
   ]
  },
  {
   "cell_type": "markdown",
   "id": "e667d633",
   "metadata": {},
   "source": [
    "## Introduction ##"
   ]
  },
  {
   "cell_type": "markdown",
   "id": "ec7f2509",
   "metadata": {},
   "source": [
    "In this notebook, we exemplify typical use cases of the module\n",
    "``czekiout.isa``. The module contains functions that facilitate type-checking\n",
    "for certain classes. This notebook contains examples of the usage of only a\n",
    "subset of the functions in the module, although the typical usage of the\n",
    "functions not exemplified in this notebook follow the same general pattern as\n",
    "those included in the notebook. See\n",
    "[here](https://mrfitzpa.github.io/czekitout/_autosummary/czekitout.isa.html) for\n",
    "a description of all functions available in the ``czekitout.isa`` module. It is\n",
    "recommended that you consult the documentation of this module as you explore the\n",
    "notebook. **Users should make sure to navigate the documentation for the version\n",
    "of czekitout that they are currently using.**\n",
    "\n",
    "In order to execute the cells in this notebook as intended, a set of Python\n",
    "libraries need to be installed in the Python environment within which the cells\n",
    "of the notebook are to be executed. For this particular notebook, users need to\n",
    "install:\n",
    "\n",
    "    czekitout\n",
    "    jupyter\n",
    "\n",
    "Users can install these libraries either via `pip`:\n",
    "\n",
    "    pip install czekitout[examples]\n",
    "\n",
    "or `conda`:\n",
    "\n",
    "    conda install -y czekitout jupyter -c conda-forge"
   ]
  },
  {
   "cell_type": "markdown",
   "id": "ee0993ba",
   "metadata": {},
   "source": [
    "## Checking whether objects are of certain types ##"
   ]
  },
  {
   "cell_type": "markdown",
   "id": "21a2529c",
   "metadata": {},
   "source": [
    "Is the object ``obj_1`` a ``numpy`` array?"
   ]
  },
  {
   "cell_type": "code",
   "execution_count": 11,
   "id": "5bdd09c4",
   "metadata": {},
   "outputs": [
    {
     "data": {
      "text/plain": [
       "False"
      ]
     },
     "execution_count": 11,
     "metadata": {},
     "output_type": "execute_result"
    }
   ],
   "source": [
    "obj_1 = [1, 2]\n",
    "czekitout.isa.numpy_array(obj=obj_1)"
   ]
  },
  {
   "cell_type": "markdown",
   "id": "0edfc98d",
   "metadata": {},
   "source": [
    "The above result indicates that ``obj_1`` is not a ``numpy`` array."
   ]
  },
  {
   "cell_type": "markdown",
   "id": "8b8ec0db",
   "metadata": {},
   "source": [
    "Is the object ``obj_2`` a ``numpy`` array?"
   ]
  },
  {
   "cell_type": "code",
   "execution_count": 12,
   "id": "ce892a66",
   "metadata": {},
   "outputs": [
    {
     "data": {
      "text/plain": [
       "True"
      ]
     },
     "execution_count": 12,
     "metadata": {},
     "output_type": "execute_result"
    }
   ],
   "source": [
    "obj_2 = np.array(obj_1)\n",
    "czekitout.isa.numpy_array(obj=obj_2)"
   ]
  },
  {
   "cell_type": "markdown",
   "id": "9d3817ed",
   "metadata": {},
   "source": [
    "The above result indicates that ``obj_2`` is a ``numpy`` array."
   ]
  },
  {
   "cell_type": "markdown",
   "id": "89902b89",
   "metadata": {},
   "source": [
    "Let us consider specific kinds of ``numpy`` arrays below."
   ]
  },
  {
   "cell_type": "markdown",
   "id": "78448435",
   "metadata": {},
   "source": [
    "Nonnegative ``numpy`` arrays:"
   ]
  },
  {
   "cell_type": "code",
   "execution_count": 13,
   "id": "64cc2dcf",
   "metadata": {},
   "outputs": [
    {
     "data": {
      "text/plain": [
       "False"
      ]
     },
     "execution_count": 13,
     "metadata": {},
     "output_type": "execute_result"
    }
   ],
   "source": [
    "obj_3 = np.array([[3.2, 2], \n",
    "                  [5.3, 0.2], \n",
    "                  [-0.2, 0]])\n",
    "czekitout.isa.nonnegative_numpy_array(obj=obj_3)"
   ]
  },
  {
   "cell_type": "code",
   "execution_count": 14,
   "id": "5c0a0b15",
   "metadata": {},
   "outputs": [
    {
     "data": {
      "text/plain": [
       "True"
      ]
     },
     "execution_count": 14,
     "metadata": {},
     "output_type": "execute_result"
    }
   ],
   "source": [
    "obj_4 = np.abs(obj_3)\n",
    "czekitout.isa.nonnegative_numpy_array(obj=obj_4)"
   ]
  },
  {
   "cell_type": "markdown",
   "id": "62662802",
   "metadata": {},
   "source": [
    "Real two-column ``numpy`` matrices:"
   ]
  },
  {
   "cell_type": "code",
   "execution_count": 15,
   "id": "f511bf54",
   "metadata": {},
   "outputs": [
    {
     "data": {
      "text/plain": [
       "False"
      ]
     },
     "execution_count": 15,
     "metadata": {},
     "output_type": "execute_result"
    }
   ],
   "source": [
    "obj_5 = obj_2\n",
    "czekitout.isa.real_two_column_numpy_matrix(obj=obj_5)"
   ]
  },
  {
   "cell_type": "code",
   "execution_count": 16,
   "id": "31c548d6",
   "metadata": {},
   "outputs": [
    {
     "data": {
      "text/plain": [
       "True"
      ]
     },
     "execution_count": 16,
     "metadata": {},
     "output_type": "execute_result"
    }
   ],
   "source": [
    "obj_6 = obj_3\n",
    "czekitout.isa.real_two_column_numpy_matrix(obj=obj_6)"
   ]
  },
  {
   "cell_type": "markdown",
   "id": "caca5cfa",
   "metadata": {},
   "source": [
    "Boolean 3D ``numpy`` arrays:"
   ]
  },
  {
   "cell_type": "code",
   "execution_count": 17,
   "id": "72921d41",
   "metadata": {},
   "outputs": [
    {
     "data": {
      "text/plain": [
       "False"
      ]
     },
     "execution_count": 17,
     "metadata": {},
     "output_type": "execute_result"
    }
   ],
   "source": [
    "obj_7 = (np.random.rand(3, 2) > 0)\n",
    "czekitout.isa.bool_numpy_array_3d(obj=obj_7)"
   ]
  },
  {
   "cell_type": "code",
   "execution_count": 18,
   "id": "0dd8ccac",
   "metadata": {},
   "outputs": [
    {
     "data": {
      "text/plain": [
       "True"
      ]
     },
     "execution_count": 18,
     "metadata": {},
     "output_type": "execute_result"
    }
   ],
   "source": [
    "obj_8 = (np.random.rand(3, 2, 4) > 0)\n",
    "czekitout.isa.bool_numpy_array_3d(obj=obj_8)"
   ]
  },
  {
   "cell_type": "markdown",
   "id": "0cb3e3ff",
   "metadata": {},
   "source": [
    "See\n",
    "[here](https://mrfitzpa.github.io/czekitout/_autosummary/czekitout.isa.html)\n",
    "for a description of all functions available in the ``czekitout.isa`` module."
   ]
  }
 ],
 "metadata": {
  "kernelspec": {
   "display_name": "Python 3 (ipykernel)",
   "language": "python",
   "name": "python3"
  },
  "language_info": {
   "codemirror_mode": {
    "name": "ipython",
    "version": 3
   },
   "file_extension": ".py",
   "mimetype": "text/x-python",
   "name": "python",
   "nbconvert_exporter": "python",
   "pygments_lexer": "ipython3",
   "version": "3.12.12"
  }
 },
 "nbformat": 4,
 "nbformat_minor": 5
}
