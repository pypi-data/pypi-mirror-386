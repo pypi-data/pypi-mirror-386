{
 "cells": [
  {
   "cell_type": "markdown",
   "id": "6bb7f461",
   "metadata": {},
   "source": [
    "# Using the ``czekitout.check`` module #"
   ]
  },
  {
   "cell_type": "markdown",
   "id": "5d6d9cd7",
   "metadata": {},
   "source": [
    "## A NOTE BEFORE STARTING ##"
   ]
  },
  {
   "cell_type": "markdown",
   "id": "880421e9",
   "metadata": {},
   "source": [
    "Since the ``czekitout`` git repository tracks this notebook under its original\n",
    "basename ``using_check_module.ipynb``, we recommend that you copy the original\n",
    "notebook and rename it to any other basename that is not one of the original\n",
    "basenames that appear in the ``<root>/examples`` directory before executing any\n",
    "of the notebook cells below, where ``<root>`` is the root of the ``czekitout``\n",
    "repository. This way you can explore the notebook by executing and modifying\n",
    "cells without changing the original notebook, which is being tracked by git."
   ]
  },
  {
   "cell_type": "markdown",
   "id": "8c3ca7ba-e162-4c3c-8561-4e28d4e4d5f9",
   "metadata": {},
   "source": [
    "## Table of contents ##"
   ]
  },
  {
   "cell_type": "markdown",
   "id": "1ca21ec4-c2c4-42cb-9880-ac50849ad0ba",
   "metadata": {},
   "source": [
    "- [Import necessary modules](#Import-necessary-modules)\n",
    "- [Introduction](#Introduction)\n",
    "- [Generic type-checking](#Generic-type-checking)\n",
    "- [Checking whether objects match user-specified strings](#Checking-whether-objects-match-user-specified-strings)\n",
    "- [Other validation functions](#Other-validation-functions)"
   ]
  },
  {
   "cell_type": "markdown",
   "id": "12b0d90e",
   "metadata": {},
   "source": [
    "## Import necessary modules ##"
   ]
  },
  {
   "cell_type": "code",
   "execution_count": 1,
   "id": "e7f9787f",
   "metadata": {},
   "outputs": [],
   "source": [
    "# For general array handling.\n",
    "import numpy as np\n",
    "\n",
    "\n",
    "\n",
    "# The module that is the subject of this demonstration.\n",
    "import czekitout.check"
   ]
  },
  {
   "cell_type": "markdown",
   "id": "e667d633",
   "metadata": {},
   "source": [
    "## Introduction ##"
   ]
  },
  {
   "cell_type": "markdown",
   "id": "ec7f2509",
   "metadata": {},
   "source": [
    "In this notebook, we exemplify typical use cases of the module\n",
    "``czekiout.check``. The module contains functions that facilitate validation\n",
    "with useful error messages for certain frequently-used classes. This notebook\n",
    "contains examples of the usage of only a subset of the functions in the module,\n",
    "although the typical usage of the functions not exemplified in this notebook\n",
    "follow the same general patterns as those included in the notebook. See\n",
    "[here](https://mrfitzpa.github.io/czekitout/_autosummary/czekitout.check.html)\n",
    "for a description of all functions available in the ``czekitout.check``\n",
    "module. It is recommended that you consult the documentation of this module as\n",
    "you explore the notebook. **Users should make sure to navigate the documentation\n",
    "for the version of czekitout that they are currently using.**\n",
    "\n",
    "In order to execute the cells in this notebook as intended, a set of Python\n",
    "libraries need to be installed in the Python environment within which the cells\n",
    "of the notebook are to be executed. For this particular notebook, users need to\n",
    "install:\n",
    "\n",
    "    czekitout\n",
    "    jupyter\n",
    "\n",
    "Users can install these libraries either via `pip`:\n",
    "\n",
    "    pip install czekitout[examples]\n",
    "\n",
    "or `conda`:\n",
    "\n",
    "    conda install -y czekitout jupyter -c conda-forge"
   ]
  },
  {
   "cell_type": "markdown",
   "id": "ee0993ba",
   "metadata": {},
   "source": [
    "## Generic type-checking ##"
   ]
  },
  {
   "cell_type": "markdown",
   "id": "21a2529c",
   "metadata": {},
   "source": [
    "Check whether ``obj_1`` is either an integer, a ``slice`` object, or a ``numpy`` array:"
   ]
  },
  {
   "cell_type": "code",
   "execution_count": 2,
   "id": "5bdd09c4",
   "metadata": {},
   "outputs": [
    {
     "ename": "TypeError",
     "evalue": "The object ``obj_1`` must be an instance of one of the following classes: (`int`, `slice`, `numpy.ndarray`).",
     "output_type": "error",
     "traceback": [
      "\u001b[31m---------------------------------------------------------------------------\u001b[39m",
      "\u001b[31mTypeError\u001b[39m                                 Traceback (most recent call last)",
      "\u001b[36mCell\u001b[39m\u001b[36m \u001b[39m\u001b[32mIn[2]\u001b[39m\u001b[32m, line 5\u001b[39m\n\u001b[32m      1\u001b[39m obj_1 = \u001b[32m3.2\u001b[39m\n\u001b[32m      2\u001b[39m kwargs = {\u001b[33m\"\u001b[39m\u001b[33mobj\u001b[39m\u001b[33m\"\u001b[39m: obj_1, \n\u001b[32m      3\u001b[39m           \u001b[33m\"\u001b[39m\u001b[33mobj_name\u001b[39m\u001b[33m\"\u001b[39m: \u001b[33m\"\u001b[39m\u001b[33mobj_1\u001b[39m\u001b[33m\"\u001b[39m, \n\u001b[32m      4\u001b[39m           \u001b[33m\"\u001b[39m\u001b[33maccepted_types\u001b[39m\u001b[33m\"\u001b[39m: (\u001b[38;5;28mint\u001b[39m, \u001b[38;5;28mslice\u001b[39m, np.ndarray)}\n\u001b[32m----> \u001b[39m\u001b[32m5\u001b[39m \u001b[43mczekitout\u001b[49m\u001b[43m.\u001b[49m\u001b[43mcheck\u001b[49m\u001b[43m.\u001b[49m\u001b[43mif_instance_of_any_accepted_types\u001b[49m\u001b[43m(\u001b[49m\u001b[43m*\u001b[49m\u001b[43m*\u001b[49m\u001b[43mkwargs\u001b[49m\u001b[43m)\u001b[49m\n",
      "\u001b[36mFile \u001b[39m\u001b[32m/mnt/mfitzpat/miniconda3/envs/czekitout/lib/python3.12/site-packages/czekitout/check.py:189\u001b[39m, in \u001b[36mif_instance_of_any_accepted_types\u001b[39m\u001b[34m(obj, obj_name, accepted_types)\u001b[39m\n\u001b[32m    185\u001b[39m         unformatted_err_msg = _if_instance_of_any_accepted_types_err_msg_2\n\u001b[32m    186\u001b[39m         err_msg = unformatted_err_msg.format(obj_name,\n\u001b[32m    187\u001b[39m                                              names_of_accepted_types)\n\u001b[32m--> \u001b[39m\u001b[32m189\u001b[39m     \u001b[38;5;28;01mraise\u001b[39;00m \u001b[38;5;167;01mTypeError\u001b[39;00m(err_msg)\n\u001b[32m    191\u001b[39m \u001b[38;5;28;01mreturn\u001b[39;00m \u001b[38;5;28;01mNone\u001b[39;00m\n",
      "\u001b[31mTypeError\u001b[39m: The object ``obj_1`` must be an instance of one of the following classes: (`int`, `slice`, `numpy.ndarray`)."
     ]
    }
   ],
   "source": [
    "obj_1 = 3.2\n",
    "kwargs = {\"obj\": obj_1, \n",
    "          \"obj_name\": \"obj_1\", \n",
    "          \"accepted_types\": (int, slice, np.ndarray)}\n",
    "czekitout.check.if_instance_of_any_accepted_types(**kwargs)"
   ]
  },
  {
   "cell_type": "markdown",
   "id": "0edfc98d",
   "metadata": {},
   "source": [
    "Note that running the above cell returns an error message, as expected."
   ]
  },
  {
   "cell_type": "markdown",
   "id": "8b8ec0db",
   "metadata": {},
   "source": [
    "Check whether ``obj_2`` is either an integer, a ``slice`` object, or a ``numpy`` array:"
   ]
  },
  {
   "cell_type": "code",
   "execution_count": 3,
   "id": "92b9dd3d",
   "metadata": {},
   "outputs": [],
   "source": [
    "obj_2 = slice(0, 3)\n",
    "kwargs = {\"obj\": obj_2, \n",
    "          \"obj_name\": \"obj_2\", \n",
    "          \"accepted_types\": (int, slice, np.ndarray)}\n",
    "czekitout.check.if_instance_of_any_accepted_types(**kwargs)"
   ]
  },
  {
   "cell_type": "markdown",
   "id": "d6accf38",
   "metadata": {},
   "source": [
    "Note that running the above cell does not return an error message, as expected."
   ]
  },
  {
   "cell_type": "markdown",
   "id": "52c61d09",
   "metadata": {},
   "source": [
    "## Checking whether objects match user-specified strings  ##"
   ]
  },
  {
   "cell_type": "markdown",
   "id": "e0aef83f",
   "metadata": {},
   "source": [
    "Check whether ``obj_3`` is equal to any of the strings stored in\n",
    "``accepted_strings``:"
   ]
  },
  {
   "cell_type": "code",
   "execution_count": 4,
   "id": "883c86cb",
   "metadata": {},
   "outputs": [
    {
     "ename": "ValueError",
     "evalue": "The object ``obj_3`` must be set to one of the following strings: ``('hello', 'Hello world', 'goodbye')``.",
     "output_type": "error",
     "traceback": [
      "\u001b[31m---------------------------------------------------------------------------\u001b[39m",
      "\u001b[31mValueError\u001b[39m                                Traceback (most recent call last)",
      "\u001b[36mCell\u001b[39m\u001b[36m \u001b[39m\u001b[32mIn[4]\u001b[39m\u001b[32m, line 6\u001b[39m\n\u001b[32m      2\u001b[39m accepted_strings = (\u001b[33m\"\u001b[39m\u001b[33mhello\u001b[39m\u001b[33m\"\u001b[39m, \u001b[33m\"\u001b[39m\u001b[33mHello world\u001b[39m\u001b[33m\"\u001b[39m, \u001b[33m\"\u001b[39m\u001b[33mgoodbye\u001b[39m\u001b[33m\"\u001b[39m)\n\u001b[32m      3\u001b[39m kwargs = {\u001b[33m\"\u001b[39m\u001b[33mobj\u001b[39m\u001b[33m\"\u001b[39m: obj_3, \n\u001b[32m      4\u001b[39m           \u001b[33m\"\u001b[39m\u001b[33mobj_name\u001b[39m\u001b[33m\"\u001b[39m: \u001b[33m\"\u001b[39m\u001b[33mobj_3\u001b[39m\u001b[33m\"\u001b[39m, \n\u001b[32m      5\u001b[39m           \u001b[33m\"\u001b[39m\u001b[33maccepted_strings\u001b[39m\u001b[33m\"\u001b[39m: accepted_strings}\n\u001b[32m----> \u001b[39m\u001b[32m6\u001b[39m \u001b[43mczekitout\u001b[49m\u001b[43m.\u001b[49m\u001b[43mcheck\u001b[49m\u001b[43m.\u001b[49m\u001b[43mif_one_of_any_accepted_strings\u001b[49m\u001b[43m(\u001b[49m\u001b[43m*\u001b[49m\u001b[43m*\u001b[49m\u001b[43mkwargs\u001b[49m\u001b[43m)\u001b[49m\n",
      "\u001b[36mFile \u001b[39m\u001b[32m/mnt/mfitzpat/miniconda3/envs/czekitout/lib/python3.12/site-packages/czekitout/check.py:358\u001b[39m, in \u001b[36mif_one_of_any_accepted_strings\u001b[39m\u001b[34m(obj, obj_name, accepted_strings)\u001b[39m\n\u001b[32m    355\u001b[39m         args = (obj_name, \u001b[38;5;28mstr\u001b[39m(accepted_strings_converted_to_std_types))\n\u001b[32m    357\u001b[39m     err_msg = unformatted_err_msg.format(*args)            \n\u001b[32m--> \u001b[39m\u001b[32m358\u001b[39m     \u001b[38;5;28;01mraise\u001b[39;00m \u001b[38;5;167;01mValueError\u001b[39;00m(err_msg)\n\u001b[32m    360\u001b[39m \u001b[38;5;28;01mreturn\u001b[39;00m \u001b[38;5;28;01mNone\u001b[39;00m\n",
      "\u001b[31mValueError\u001b[39m: The object ``obj_3`` must be set to one of the following strings: ``('hello', 'Hello world', 'goodbye')``."
     ]
    }
   ],
   "source": [
    "obj_3 = \"hello world\"\n",
    "accepted_strings = (\"hello\", \"Hello world\", \"goodbye\")\n",
    "kwargs = {\"obj\": obj_3, \n",
    "          \"obj_name\": \"obj_3\", \n",
    "          \"accepted_strings\": accepted_strings}\n",
    "czekitout.check.if_one_of_any_accepted_strings(**kwargs)"
   ]
  },
  {
   "cell_type": "markdown",
   "id": "9d94eb59",
   "metadata": {},
   "source": [
    "Note that running the above cell returns an error message, as expected."
   ]
  },
  {
   "cell_type": "markdown",
   "id": "3b31766b",
   "metadata": {},
   "source": [
    "Check whether ``obj_4`` is equal to any of the strings stored in\n",
    "``accepted_strings``:"
   ]
  },
  {
   "cell_type": "code",
   "execution_count": 5,
   "id": "3b931bec",
   "metadata": {},
   "outputs": [],
   "source": [
    "obj_4 = \"Hello world\"\n",
    "accepted_strings = (\"hello\", \"Hello world\", \"goodbye\")\n",
    "kwargs = {\"obj\": obj_4, \n",
    "          \"obj_name\": \"obj_4\", \n",
    "          \"accepted_strings\": accepted_strings}\n",
    "czekitout.check.if_one_of_any_accepted_strings(**kwargs)"
   ]
  },
  {
   "cell_type": "markdown",
   "id": "ce828b89",
   "metadata": {},
   "source": [
    "Note that running the above cell does not return an error message, as expected."
   ]
  },
  {
   "cell_type": "markdown",
   "id": "f21c96a3",
   "metadata": {},
   "source": [
    "## Other validation functions  ##"
   ]
  },
  {
   "cell_type": "markdown",
   "id": "58246ef9",
   "metadata": {},
   "source": [
    "The typical usage of the remaining validation functions that have not yet been\n",
    "introduced in this notebook follow the same pattern. Hence, below we only show\n",
    "examples of the usage of a subset of the aforementioned remaining validation\n",
    "functions. See\n",
    "[here](https://mrfitzpa.github.io/czekitout/_autosummary/czekitout.check.html)\n",
    "for a description of all functions available in the ``czekitout.check`` module."
   ]
  },
  {
   "cell_type": "markdown",
   "id": "53a6cf7b",
   "metadata": {},
   "source": [
    "Check whether ``obj_5`` is an integer."
   ]
  },
  {
   "cell_type": "code",
   "execution_count": 6,
   "id": "ce892a66",
   "metadata": {},
   "outputs": [
    {
     "ename": "TypeError",
     "evalue": "The object ``obj_5`` must be an integer.",
     "output_type": "error",
     "traceback": [
      "\u001b[31m---------------------------------------------------------------------------\u001b[39m",
      "\u001b[31mRuntimeError\u001b[39m                              Traceback (most recent call last)",
      "\u001b[36mFile \u001b[39m\u001b[32m/mnt/mfitzpat/miniconda3/envs/czekitout/lib/python3.12/site-packages/czekitout/check.py:653\u001b[39m, in \u001b[36mif_int\u001b[39m\u001b[34m(obj, obj_name)\u001b[39m\n\u001b[32m    652\u001b[39m     \u001b[38;5;28;01mif\u001b[39;00m \u001b[38;5;28mabs\u001b[39m(\u001b[38;5;28mround\u001b[39m(real_part_of_obj) - real_part_of_obj) > \u001b[32m1.0e-14\u001b[39m:\n\u001b[32m--> \u001b[39m\u001b[32m653\u001b[39m         \u001b[38;5;28;01mraise\u001b[39;00m\n\u001b[32m    654\u001b[39m \u001b[38;5;28;01mexcept\u001b[39;00m:\n",
      "\u001b[31mRuntimeError\u001b[39m: No active exception to reraise",
      "\nDuring handling of the above exception, another exception occurred:\n",
      "\u001b[31mTypeError\u001b[39m                                 Traceback (most recent call last)",
      "\u001b[36mCell\u001b[39m\u001b[36m \u001b[39m\u001b[32mIn[6]\u001b[39m\u001b[32m, line 4\u001b[39m\n\u001b[32m      1\u001b[39m obj_5 = \u001b[32m3.5\u001b[39m\n\u001b[32m      2\u001b[39m kwargs = {\u001b[33m\"\u001b[39m\u001b[33mobj\u001b[39m\u001b[33m\"\u001b[39m: obj_5, \n\u001b[32m      3\u001b[39m           \u001b[33m\"\u001b[39m\u001b[33mobj_name\u001b[39m\u001b[33m\"\u001b[39m: \u001b[33m\"\u001b[39m\u001b[33mobj_5\u001b[39m\u001b[33m\"\u001b[39m}\n\u001b[32m----> \u001b[39m\u001b[32m4\u001b[39m \u001b[43mczekitout\u001b[49m\u001b[43m.\u001b[49m\u001b[43mcheck\u001b[49m\u001b[43m.\u001b[49m\u001b[43mif_int\u001b[49m\u001b[43m(\u001b[49m\u001b[43m*\u001b[49m\u001b[43m*\u001b[49m\u001b[43mkwargs\u001b[49m\u001b[43m)\u001b[49m\n",
      "\u001b[36mFile \u001b[39m\u001b[32m/mnt/mfitzpat/miniconda3/envs/czekitout/lib/python3.12/site-packages/czekitout/check.py:656\u001b[39m, in \u001b[36mif_int\u001b[39m\u001b[34m(obj, obj_name)\u001b[39m\n\u001b[32m    654\u001b[39m \u001b[38;5;28;01mexcept\u001b[39;00m:\n\u001b[32m    655\u001b[39m     err_msg = _if_int_err_msg_1.format(obj_name)\n\u001b[32m--> \u001b[39m\u001b[32m656\u001b[39m     \u001b[38;5;28;01mraise\u001b[39;00m \u001b[38;5;167;01mTypeError\u001b[39;00m(err_msg)\n\u001b[32m    658\u001b[39m \u001b[38;5;28;01mreturn\u001b[39;00m \u001b[38;5;28;01mNone\u001b[39;00m\n",
      "\u001b[31mTypeError\u001b[39m: The object ``obj_5`` must be an integer."
     ]
    }
   ],
   "source": [
    "obj_5 = 3.5\n",
    "kwargs = {\"obj\": obj_5, \n",
    "          \"obj_name\": \"obj_5\"}\n",
    "czekitout.check.if_int(**kwargs)"
   ]
  },
  {
   "cell_type": "markdown",
   "id": "9d3817ed",
   "metadata": {},
   "source": [
    "Note that running the above cell returns an error message, as expected."
   ]
  },
  {
   "cell_type": "markdown",
   "id": "89902b89",
   "metadata": {},
   "source": [
    "Check whether ``obj_6`` is an integer."
   ]
  },
  {
   "cell_type": "code",
   "execution_count": 7,
   "id": "93d70ed5",
   "metadata": {},
   "outputs": [],
   "source": [
    "obj_6 = 3.0\n",
    "kwargs = {\"obj\": obj_6, \n",
    "          \"obj_name\": \"obj_6\"}\n",
    "czekitout.check.if_int(**kwargs)"
   ]
  },
  {
   "cell_type": "markdown",
   "id": "78448435",
   "metadata": {},
   "source": [
    "Note that running the above cell does not return an error message, as expected."
   ]
  },
  {
   "cell_type": "markdown",
   "id": "d7dfacb6",
   "metadata": {},
   "source": [
    "Check whether ``obj_7`` is a pair of positive real numbers."
   ]
  },
  {
   "cell_type": "code",
   "execution_count": 8,
   "id": "7a856b64",
   "metadata": {},
   "outputs": [
    {
     "ename": "TypeError",
     "evalue": "The object ``obj_7`` must be a pair of positive real numbers.",
     "output_type": "error",
     "traceback": [
      "\u001b[31m---------------------------------------------------------------------------\u001b[39m",
      "\u001b[31mRuntimeError\u001b[39m                              Traceback (most recent call last)",
      "\u001b[36mFile \u001b[39m\u001b[32m/mnt/mfitzpat/miniconda3/envs/czekitout/lib/python3.12/site-packages/czekitout/check.py:1009\u001b[39m, in \u001b[36mif_pair_of_positive_floats\u001b[39m\u001b[34m(obj, obj_name)\u001b[39m\n\u001b[32m   1008\u001b[39m \u001b[38;5;28;01mif\u001b[39;00m count != \u001b[32m2\u001b[39m:\n\u001b[32m-> \u001b[39m\u001b[32m1009\u001b[39m     \u001b[38;5;28;01mraise\u001b[39;00m\n\u001b[32m   1011\u001b[39m check_if_float_seq = if_float_seq  \u001b[38;5;66;03m# Alias for readability.\u001b[39;00m\n",
      "\u001b[31mRuntimeError\u001b[39m: No active exception to reraise",
      "\nDuring handling of the above exception, another exception occurred:\n",
      "\u001b[31mTypeError\u001b[39m                                 Traceback (most recent call last)",
      "\u001b[36mCell\u001b[39m\u001b[36m \u001b[39m\u001b[32mIn[8]\u001b[39m\u001b[32m, line 4\u001b[39m\n\u001b[32m      1\u001b[39m obj_7 = (\u001b[32m3\u001b[39m, \u001b[32m2.0\u001b[39m, \u001b[32m4.5\u001b[39m)\n\u001b[32m      2\u001b[39m kwargs = {\u001b[33m\"\u001b[39m\u001b[33mobj\u001b[39m\u001b[33m\"\u001b[39m: obj_7, \n\u001b[32m      3\u001b[39m           \u001b[33m\"\u001b[39m\u001b[33mobj_name\u001b[39m\u001b[33m\"\u001b[39m: \u001b[33m\"\u001b[39m\u001b[33mobj_7\u001b[39m\u001b[33m\"\u001b[39m}\n\u001b[32m----> \u001b[39m\u001b[32m4\u001b[39m \u001b[43mczekitout\u001b[49m\u001b[43m.\u001b[49m\u001b[43mcheck\u001b[49m\u001b[43m.\u001b[49m\u001b[43mif_pair_of_positive_floats\u001b[49m\u001b[43m(\u001b[49m\u001b[43m*\u001b[49m\u001b[43m*\u001b[49m\u001b[43mkwargs\u001b[49m\u001b[43m)\u001b[49m\n",
      "\u001b[36mFile \u001b[39m\u001b[32m/mnt/mfitzpat/miniconda3/envs/czekitout/lib/python3.12/site-packages/czekitout/check.py:1023\u001b[39m, in \u001b[36mif_pair_of_positive_floats\u001b[39m\u001b[34m(obj, obj_name)\u001b[39m\n\u001b[32m   1021\u001b[39m     \u001b[38;5;28;01mraise\u001b[39;00m \u001b[38;5;167;01mValueError\u001b[39;00m(err_msg)\n\u001b[32m   1022\u001b[39m \u001b[38;5;28;01mexcept\u001b[39;00m \u001b[38;5;167;01mBaseException\u001b[39;00m:\n\u001b[32m-> \u001b[39m\u001b[32m1023\u001b[39m     \u001b[38;5;28;01mraise\u001b[39;00m \u001b[38;5;167;01mTypeError\u001b[39;00m(err_msg)\n\u001b[32m   1025\u001b[39m \u001b[38;5;28;01mreturn\u001b[39;00m \u001b[38;5;28;01mNone\u001b[39;00m\n",
      "\u001b[31mTypeError\u001b[39m: The object ``obj_7`` must be a pair of positive real numbers."
     ]
    }
   ],
   "source": [
    "obj_7 = (3, 2.0, 4.5)\n",
    "kwargs = {\"obj\": obj_7, \n",
    "          \"obj_name\": \"obj_7\"}\n",
    "czekitout.check.if_pair_of_positive_floats(**kwargs)"
   ]
  },
  {
   "cell_type": "markdown",
   "id": "30e4ede6",
   "metadata": {},
   "source": [
    "Note that running the above cell returns an error message, as expected."
   ]
  },
  {
   "cell_type": "markdown",
   "id": "a7aa739c",
   "metadata": {},
   "source": [
    "Check whether ``obj_8`` is a pair of positive real numbers."
   ]
  },
  {
   "cell_type": "code",
   "execution_count": 9,
   "id": "5c0a0b15",
   "metadata": {},
   "outputs": [],
   "source": [
    "obj_8 = (3, 4.5)\n",
    "kwargs = {\"obj\": obj_8, \n",
    "          \"obj_name\": \"obj_8\"}\n",
    "czekitout.check.if_pair_of_positive_floats(**kwargs)"
   ]
  },
  {
   "cell_type": "markdown",
   "id": "57a34e2e",
   "metadata": {},
   "source": [
    "Note that running the above cell does not return an error message, as expected."
   ]
  },
  {
   "cell_type": "markdown",
   "id": "f71bd75c",
   "metadata": {},
   "source": [
    "Check whether ``obj_9`` is a callable object."
   ]
  },
  {
   "cell_type": "code",
   "execution_count": 10,
   "id": "af565341",
   "metadata": {},
   "outputs": [
    {
     "ename": "TypeError",
     "evalue": "The object ``obj_9`` must be callable.",
     "output_type": "error",
     "traceback": [
      "\u001b[31m---------------------------------------------------------------------------\u001b[39m",
      "\u001b[31mTypeError\u001b[39m                                 Traceback (most recent call last)",
      "\u001b[36mCell\u001b[39m\u001b[36m \u001b[39m\u001b[32mIn[10]\u001b[39m\u001b[32m, line 4\u001b[39m\n\u001b[32m      1\u001b[39m obj_9 = \u001b[38;5;28mslice\u001b[39m(\u001b[38;5;28;01mNone\u001b[39;00m)\n\u001b[32m      2\u001b[39m kwargs = {\u001b[33m\"\u001b[39m\u001b[33mobj\u001b[39m\u001b[33m\"\u001b[39m: obj_9, \n\u001b[32m      3\u001b[39m           \u001b[33m\"\u001b[39m\u001b[33mobj_name\u001b[39m\u001b[33m\"\u001b[39m: \u001b[33m\"\u001b[39m\u001b[33mobj_9\u001b[39m\u001b[33m\"\u001b[39m}\n\u001b[32m----> \u001b[39m\u001b[32m4\u001b[39m \u001b[43mczekitout\u001b[49m\u001b[43m.\u001b[49m\u001b[43mcheck\u001b[49m\u001b[43m.\u001b[49m\u001b[43mif_callable\u001b[49m\u001b[43m(\u001b[49m\u001b[43m*\u001b[49m\u001b[43m*\u001b[49m\u001b[43mkwargs\u001b[49m\u001b[43m)\u001b[49m\n",
      "\u001b[36mFile \u001b[39m\u001b[32m/mnt/mfitzpat/miniconda3/envs/czekitout/lib/python3.12/site-packages/czekitout/check.py:1846\u001b[39m, in \u001b[36mif_callable\u001b[39m\u001b[34m(obj, obj_name)\u001b[39m\n\u001b[32m   1844\u001b[39m \u001b[38;5;28;01mif\u001b[39;00m \u001b[38;5;129;01mnot\u001b[39;00m \u001b[38;5;28mcallable\u001b[39m(obj):\n\u001b[32m   1845\u001b[39m     err_msg = _if_callable_err_msg_1.format(obj_name)\n\u001b[32m-> \u001b[39m\u001b[32m1846\u001b[39m     \u001b[38;5;28;01mraise\u001b[39;00m \u001b[38;5;167;01mTypeError\u001b[39;00m(err_msg)\n\u001b[32m   1848\u001b[39m \u001b[38;5;28;01mreturn\u001b[39;00m \u001b[38;5;28;01mNone\u001b[39;00m\n",
      "\u001b[31mTypeError\u001b[39m: The object ``obj_9`` must be callable."
     ]
    }
   ],
   "source": [
    "obj_9 = slice(None)\n",
    "kwargs = {\"obj\": obj_9, \n",
    "          \"obj_name\": \"obj_9\"}\n",
    "czekitout.check.if_callable(**kwargs)"
   ]
  },
  {
   "cell_type": "markdown",
   "id": "5a466b92",
   "metadata": {},
   "source": [
    "Note that running the above cell returns an error message, as expected."
   ]
  },
  {
   "cell_type": "markdown",
   "id": "ccd11a1d",
   "metadata": {},
   "source": [
    "Check whether ``obj_10`` is a callable object."
   ]
  },
  {
   "cell_type": "code",
   "execution_count": 11,
   "id": "3576c205",
   "metadata": {},
   "outputs": [],
   "source": [
    "obj_10 = sum\n",
    "kwargs = {\"obj\": obj_10, \n",
    "          \"obj_name\": \"obj_10\"}\n",
    "czekitout.check.if_callable(**kwargs)"
   ]
  },
  {
   "cell_type": "markdown",
   "id": "2176c00f",
   "metadata": {},
   "source": [
    "Note that running the above cell does not return an error message, as expected."
   ]
  },
  {
   "cell_type": "markdown",
   "id": "0cb3e3ff",
   "metadata": {},
   "source": [
    "See\n",
    "[here](https://mrfitzpa.github.io/czekitout/_autosummary/czekitout.check.html)\n",
    "for a description of all functions available in the ``czekitout.check`` module."
   ]
  }
 ],
 "metadata": {
  "kernelspec": {
   "display_name": "Python 3 (ipykernel)",
   "language": "python",
   "name": "python3"
  },
  "language_info": {
   "codemirror_mode": {
    "name": "ipython",
    "version": 3
   },
   "file_extension": ".py",
   "mimetype": "text/x-python",
   "name": "python",
   "nbconvert_exporter": "python",
   "pygments_lexer": "ipython3",
   "version": "3.12.12"
  }
 },
 "nbformat": 4,
 "nbformat_minor": 5
}
