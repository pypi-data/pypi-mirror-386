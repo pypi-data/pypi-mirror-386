{
 "cells": [
  {
   "cell_type": "markdown",
   "id": "6bb7f461",
   "metadata": {},
   "source": [
    "# Using the ``czekitout.convert`` module #"
   ]
  },
  {
   "cell_type": "markdown",
   "id": "5d6d9cd7",
   "metadata": {},
   "source": [
    "## A NOTE BEFORE STARTING ##"
   ]
  },
  {
   "cell_type": "markdown",
   "id": "880421e9",
   "metadata": {},
   "source": [
    "Since the ``czekitout`` git repository tracks this notebook under its original\n",
    "basename ``using_convert_module.ipynb``, we recommend that you copy the original\n",
    "notebook and rename it to any other basename that is not one of the original\n",
    "basenames that appear in the ``<root>/examples`` directory before executing any\n",
    "of the notebook cells below, where ``<root>`` is the root of the ``czekitout``\n",
    "repository. This way you can explore the notebook by executing and modifying\n",
    "cells without changing the original notebook, which is being tracked by git."
   ]
  },
  {
   "cell_type": "markdown",
   "id": "f651cd00-e51d-4420-a17f-94d0da45c99c",
   "metadata": {},
   "source": [
    "## Table of contents ##"
   ]
  },
  {
   "cell_type": "markdown",
   "id": "e1442f54-0f4e-442e-975f-7679b2aeaf0f",
   "metadata": {},
   "source": [
    "- [Import necessary modules](#Import-necessary-modules)\n",
    "- [Introduction](#Introduction)\n",
    "- [Performing type-conversions](#Performing-type-conversions)"
   ]
  },
  {
   "cell_type": "markdown",
   "id": "12b0d90e",
   "metadata": {},
   "source": [
    "## Import necessary modules ##"
   ]
  },
  {
   "cell_type": "code",
   "execution_count": 1,
   "id": "e7f9787f",
   "metadata": {},
   "outputs": [],
   "source": [
    "# For general array handling.\n",
    "import numpy as np\n",
    "\n",
    "\n",
    "\n",
    "# The module that is the subject of this demonstration.\n",
    "import czekitout.convert"
   ]
  },
  {
   "cell_type": "markdown",
   "id": "e667d633",
   "metadata": {},
   "source": [
    "## Introduction ##"
   ]
  },
  {
   "cell_type": "markdown",
   "id": "ec7f2509",
   "metadata": {},
   "source": [
    "In this notebook, we exemplify typical use cases of the module\n",
    "``czekiout.convert``. The module contains functions that facilitate\n",
    "type-conversions with useful error messages when exceptions are thrown for\n",
    "certain frequently-used classes. This notebook contains examples of the usage of\n",
    "only a subset of the functions in the module, although the typical usage of the\n",
    "functions not exemplified in this notebook follow the same general pattern as\n",
    "those included in the notebook. See\n",
    "[here](https://mrfitzpa.github.io/czekitout/_autosummary/czekitout.convert.html)\n",
    "for a description of all functions available in the ``czekitout.convert``\n",
    "module. It is recommended that you consult the documentation of this module as\n",
    "you explore the notebook. **Users should make sure to navigate the documentation\n",
    "for the version of czekitout that they are currently using.**\n",
    "\n",
    "In order to execute the cells in this notebook as intended, a set of Python\n",
    "libraries need to be installed in the Python environment within which the cells\n",
    "of the notebook are to be executed. For this particular notebook, users need to\n",
    "install:\n",
    "\n",
    "    czekitout\n",
    "    jupyter\n",
    "\n",
    "Users can install these libraries either via `pip`:\n",
    "\n",
    "    pip install czekitout[examples]\n",
    "\n",
    "or `conda`:\n",
    "\n",
    "    conda install -y czekitout jupyter -c conda-forge"
   ]
  },
  {
   "cell_type": "markdown",
   "id": "ee0993ba",
   "metadata": {},
   "source": [
    "## Performing type-conversions ##"
   ]
  },
  {
   "cell_type": "markdown",
   "id": "21a2529c",
   "metadata": {},
   "source": [
    "Let's try to convert ``obj_1`` to a tuple of positive integers."
   ]
  },
  {
   "cell_type": "code",
   "execution_count": 2,
   "id": "5bdd09c4",
   "metadata": {},
   "outputs": [
    {
     "name": "stdout",
     "output_type": "stream",
     "text": [
      "ERROR! Session/line number was not unique in database. History logging moved to new session 2\n"
     ]
    },
    {
     "ename": "TypeError",
     "evalue": "The object ``obj_1`` must be a sequence of positive integers.",
     "output_type": "error",
     "traceback": [
      "\u001b[31m---------------------------------------------------------------------------\u001b[39m",
      "\u001b[31mRuntimeError\u001b[39m                              Traceback (most recent call last)",
      "\u001b[36mFile \u001b[39m\u001b[32m/mnt/mfitzpat/miniconda3/envs/czekitout/lib/python3.12/site-packages/czekitout/check.py:653\u001b[39m, in \u001b[36mif_int\u001b[39m\u001b[34m(obj, obj_name)\u001b[39m\n\u001b[32m    652\u001b[39m     \u001b[38;5;28;01mif\u001b[39;00m \u001b[38;5;28mabs\u001b[39m(\u001b[38;5;28mround\u001b[39m(real_part_of_obj) - real_part_of_obj) > \u001b[32m1.0e-14\u001b[39m:\n\u001b[32m--> \u001b[39m\u001b[32m653\u001b[39m         \u001b[38;5;28;01mraise\u001b[39;00m\n\u001b[32m    654\u001b[39m \u001b[38;5;28;01mexcept\u001b[39;00m:\n",
      "\u001b[31mRuntimeError\u001b[39m: No active exception to reraise",
      "\nDuring handling of the above exception, another exception occurred:\n",
      "\u001b[31mTypeError\u001b[39m                                 Traceback (most recent call last)",
      "\u001b[36mFile \u001b[39m\u001b[32m/mnt/mfitzpat/miniconda3/envs/czekitout/lib/python3.12/site-packages/czekitout/check.py:685\u001b[39m, in \u001b[36mif_int_seq\u001b[39m\u001b[34m(obj, obj_name)\u001b[39m\n\u001b[32m    684\u001b[39m         check_if_int = if_int  \u001b[38;5;66;03m# Alias for readability.\u001b[39;00m\n\u001b[32m--> \u001b[39m\u001b[32m685\u001b[39m         \u001b[43mcheck_if_int\u001b[49m\u001b[43m(\u001b[49m\u001b[43melem_of_obj\u001b[49m\u001b[43m,\u001b[49m\u001b[43m \u001b[49m\u001b[33;43m\"\u001b[39;49m\u001b[33;43melem_of_obj\u001b[39;49m\u001b[33;43m\"\u001b[39;49m\u001b[43m)\u001b[49m\n\u001b[32m    686\u001b[39m \u001b[38;5;28;01mexcept\u001b[39;00m:\n",
      "\u001b[36mFile \u001b[39m\u001b[32m/mnt/mfitzpat/miniconda3/envs/czekitout/lib/python3.12/site-packages/czekitout/check.py:656\u001b[39m, in \u001b[36mif_int\u001b[39m\u001b[34m(obj, obj_name)\u001b[39m\n\u001b[32m    655\u001b[39m     err_msg = _if_int_err_msg_1.format(obj_name)\n\u001b[32m--> \u001b[39m\u001b[32m656\u001b[39m     \u001b[38;5;28;01mraise\u001b[39;00m \u001b[38;5;167;01mTypeError\u001b[39;00m(err_msg)\n\u001b[32m    658\u001b[39m \u001b[38;5;28;01mreturn\u001b[39;00m \u001b[38;5;28;01mNone\u001b[39;00m\n",
      "\u001b[31mTypeError\u001b[39m: The object ``elem_of_obj`` must be an integer.",
      "\nDuring handling of the above exception, another exception occurred:\n",
      "\u001b[31mTypeError\u001b[39m                                 Traceback (most recent call last)",
      "\u001b[36mFile \u001b[39m\u001b[32m/mnt/mfitzpat/miniconda3/envs/czekitout/lib/python3.12/site-packages/czekitout/check.py:757\u001b[39m, in \u001b[36mif_positive_int_seq\u001b[39m\u001b[34m(obj, obj_name)\u001b[39m\n\u001b[32m    756\u001b[39m check_if_int_seq = if_int_seq  \u001b[38;5;66;03m# Alias for readability.\u001b[39;00m\n\u001b[32m--> \u001b[39m\u001b[32m757\u001b[39m \u001b[43mcheck_if_int_seq\u001b[49m\u001b[43m(\u001b[49m\u001b[43mobj\u001b[49m\u001b[43m,\u001b[49m\u001b[43m \u001b[49m\u001b[43mobj_name\u001b[49m\u001b[43m)\u001b[49m\n\u001b[32m    759\u001b[39m \u001b[38;5;28;01mfor\u001b[39;00m elem_of_obj \u001b[38;5;129;01min\u001b[39;00m obj:\n",
      "\u001b[36mFile \u001b[39m\u001b[32m/mnt/mfitzpat/miniconda3/envs/czekitout/lib/python3.12/site-packages/czekitout/check.py:688\u001b[39m, in \u001b[36mif_int_seq\u001b[39m\u001b[34m(obj, obj_name)\u001b[39m\n\u001b[32m    687\u001b[39m     err_msg = _if_int_seq_err_msg_1.format(obj_name)\n\u001b[32m--> \u001b[39m\u001b[32m688\u001b[39m     \u001b[38;5;28;01mraise\u001b[39;00m \u001b[38;5;167;01mTypeError\u001b[39;00m(err_msg)\n\u001b[32m    690\u001b[39m \u001b[38;5;28;01mreturn\u001b[39;00m \u001b[38;5;28;01mNone\u001b[39;00m\n",
      "\u001b[31mTypeError\u001b[39m: The object ``obj_1`` must be a sequence of integers.",
      "\nDuring handling of the above exception, another exception occurred:\n",
      "\u001b[31mTypeError\u001b[39m                                 Traceback (most recent call last)",
      "\u001b[36mCell\u001b[39m\u001b[36m \u001b[39m\u001b[32mIn[2]\u001b[39m\u001b[32m, line 4\u001b[39m\n\u001b[32m      1\u001b[39m obj_1 = np.array([\u001b[32m3.2\u001b[39m, \u001b[32m4.0\u001b[39m, \u001b[32m1\u001b[39m])\n\u001b[32m      2\u001b[39m kwargs = {\u001b[33m\"\u001b[39m\u001b[33mobj\u001b[39m\u001b[33m\"\u001b[39m: obj_1, \n\u001b[32m      3\u001b[39m           \u001b[33m\"\u001b[39m\u001b[33mobj_name\u001b[39m\u001b[33m\"\u001b[39m: \u001b[33m\"\u001b[39m\u001b[33mobj_1\u001b[39m\u001b[33m\"\u001b[39m}\n\u001b[32m----> \u001b[39m\u001b[32m4\u001b[39m \u001b[43mczekitout\u001b[49m\u001b[43m.\u001b[49m\u001b[43mconvert\u001b[49m\u001b[43m.\u001b[49m\u001b[43mto_tuple_of_positive_ints\u001b[49m\u001b[43m(\u001b[49m\u001b[43m*\u001b[49m\u001b[43m*\u001b[49m\u001b[43mkwargs\u001b[49m\u001b[43m)\u001b[49m\n",
      "\u001b[36mFile \u001b[39m\u001b[32m/mnt/mfitzpat/miniconda3/envs/czekitout/lib/python3.12/site-packages/czekitout/convert.py:792\u001b[39m, in \u001b[36mto_tuple_of_positive_ints\u001b[39m\u001b[34m(obj, obj_name)\u001b[39m\n\u001b[32m    764\u001b[39m \u001b[38;5;250m\u001b[39m\u001b[33mr\u001b[39m\u001b[33;03m\"\"\"Convert input object to a tuple of positive integers.\u001b[39;00m\n\u001b[32m    765\u001b[39m \n\u001b[32m    766\u001b[39m \u001b[33;03mIf the input object is not a sequence of positive integers, then an\u001b[39;00m\n\u001b[32m   (...)\u001b[39m\u001b[32m    787\u001b[39m \n\u001b[32m    788\u001b[39m \u001b[33;03m\"\"\"\u001b[39;00m\n\u001b[32m    789\u001b[39m convert_to_list_of_positive_ints = \\\n\u001b[32m    790\u001b[39m     to_list_of_positive_ints  \u001b[38;5;66;03m# Alias for readability.\u001b[39;00m\n\u001b[32m    791\u001b[39m result = \\\n\u001b[32m--> \u001b[39m\u001b[32m792\u001b[39m     \u001b[38;5;28mtuple\u001b[39m(\u001b[43mconvert_to_list_of_positive_ints\u001b[49m\u001b[43m(\u001b[49m\u001b[43mobj\u001b[49m\u001b[43m,\u001b[49m\u001b[43m \u001b[49m\u001b[43mobj_name\u001b[49m\u001b[43m)\u001b[49m)\n\u001b[32m    794\u001b[39m \u001b[38;5;28;01mreturn\u001b[39;00m result\n",
      "\u001b[36mFile \u001b[39m\u001b[32m/mnt/mfitzpat/miniconda3/envs/czekitout/lib/python3.12/site-packages/czekitout/convert.py:751\u001b[39m, in \u001b[36mto_list_of_positive_ints\u001b[39m\u001b[34m(obj, obj_name)\u001b[39m\n\u001b[32m    725\u001b[39m \u001b[38;5;28;01mdef\u001b[39;00m\u001b[38;5;250m \u001b[39m\u001b[34mto_list_of_positive_ints\u001b[39m(obj, obj_name):\n\u001b[32m    726\u001b[39m \u001b[38;5;250m    \u001b[39m\u001b[33mr\u001b[39m\u001b[33;03m\"\"\"Convert input object to a list of positive integers.\u001b[39;00m\n\u001b[32m    727\u001b[39m \n\u001b[32m    728\u001b[39m \u001b[33;03m    If the input object is not a sequence of positive integers, then an\u001b[39;00m\n\u001b[32m   (...)\u001b[39m\u001b[32m    749\u001b[39m \n\u001b[32m    750\u001b[39m \u001b[33;03m    \"\"\"\u001b[39;00m\n\u001b[32m--> \u001b[39m\u001b[32m751\u001b[39m     \u001b[43mczekitout\u001b[49m\u001b[43m.\u001b[49m\u001b[43mcheck\u001b[49m\u001b[43m.\u001b[49m\u001b[43mif_positive_int_seq\u001b[49m\u001b[43m(\u001b[49m\u001b[43mobj\u001b[49m\u001b[43m,\u001b[49m\u001b[43m \u001b[49m\u001b[43mobj_name\u001b[49m\u001b[43m)\u001b[49m\n\u001b[32m    753\u001b[39m     convert_to_int = to_int  \u001b[38;5;66;03m# Alias for readability.\u001b[39;00m\n\u001b[32m    755\u001b[39m     result = \u001b[38;5;28mlist\u001b[39m(convert_to_int(elem_of_obj, \u001b[33m\"\u001b[39m\u001b[33melem_of_obj\u001b[39m\u001b[33m\"\u001b[39m)\n\u001b[32m    756\u001b[39m                   \u001b[38;5;28;01mfor\u001b[39;00m elem_of_obj\n\u001b[32m    757\u001b[39m                   \u001b[38;5;129;01min\u001b[39;00m obj)\n",
      "\u001b[36mFile \u001b[39m\u001b[32m/mnt/mfitzpat/miniconda3/envs/czekitout/lib/python3.12/site-packages/czekitout/check.py:766\u001b[39m, in \u001b[36mif_positive_int_seq\u001b[39m\u001b[34m(obj, obj_name)\u001b[39m\n\u001b[32m    764\u001b[39m     \u001b[38;5;28;01mraise\u001b[39;00m \u001b[38;5;167;01mValueError\u001b[39;00m(err_msg)\n\u001b[32m    765\u001b[39m \u001b[38;5;28;01mexcept\u001b[39;00m \u001b[38;5;167;01mBaseException\u001b[39;00m:\n\u001b[32m--> \u001b[39m\u001b[32m766\u001b[39m     \u001b[38;5;28;01mraise\u001b[39;00m \u001b[38;5;167;01mTypeError\u001b[39;00m(err_msg)\n\u001b[32m    768\u001b[39m \u001b[38;5;28;01mreturn\u001b[39;00m \u001b[38;5;28;01mNone\u001b[39;00m\n",
      "\u001b[31mTypeError\u001b[39m: The object ``obj_1`` must be a sequence of positive integers."
     ]
    }
   ],
   "source": [
    "obj_1 = np.array([3.2, 4.0, 1])\n",
    "kwargs = {\"obj\": obj_1, \n",
    "          \"obj_name\": \"obj_1\"}\n",
    "czekitout.convert.to_tuple_of_positive_ints(**kwargs)"
   ]
  },
  {
   "cell_type": "markdown",
   "id": "0edfc98d",
   "metadata": {},
   "source": [
    "Note that running the above cell returns an error message, as expected."
   ]
  },
  {
   "cell_type": "markdown",
   "id": "8b8ec0db",
   "metadata": {},
   "source": [
    "Let's try to convert ``obj_2`` to a tuple of positive integers."
   ]
  },
  {
   "cell_type": "code",
   "execution_count": null,
   "id": "92b9dd3d",
   "metadata": {},
   "outputs": [],
   "source": [
    "obj_2 = np.array([3.0, 4.0, 1])\n",
    "kwargs = {\"obj\": obj_2, \n",
    "          \"obj_name\": \"obj_1\"}\n",
    "czekitout.convert.to_tuple_of_positive_ints(**kwargs)"
   ]
  },
  {
   "cell_type": "markdown",
   "id": "d6accf38",
   "metadata": {},
   "source": [
    "Note that running the above cell does not return an error message, as expected."
   ]
  },
  {
   "cell_type": "markdown",
   "id": "ec998018",
   "metadata": {},
   "source": [
    "Let's try to convert ``obj_3`` to a nonnegative numpy matrix."
   ]
  },
  {
   "cell_type": "code",
   "execution_count": 3,
   "id": "13ec3540",
   "metadata": {},
   "outputs": [
    {
     "ename": "ValueError",
     "evalue": "The object ``obj_3`` must be a nonnegative matrix.",
     "output_type": "error",
     "traceback": [
      "\u001b[31m---------------------------------------------------------------------------\u001b[39m",
      "\u001b[31mValueError\u001b[39m                                Traceback (most recent call last)",
      "\u001b[36mFile \u001b[39m\u001b[32m/mnt/mfitzpat/miniconda3/envs/czekitout/lib/python3.12/site-packages/czekitout/convert.py:1863\u001b[39m, in \u001b[36mto_nonnegative_numpy_matrix\u001b[39m\u001b[34m(obj, obj_name)\u001b[39m\n\u001b[32m   1861\u001b[39m kwargs = {\u001b[33m\"\u001b[39m\u001b[33mobj\u001b[39m\u001b[33m\"\u001b[39m: intermediate_conversion_of_obj,\n\u001b[32m   1862\u001b[39m           \u001b[33m\"\u001b[39m\u001b[33mobj_name\u001b[39m\u001b[33m\"\u001b[39m: obj_name}\n\u001b[32m-> \u001b[39m\u001b[32m1863\u001b[39m \u001b[43mczekitout\u001b[49m\u001b[43m.\u001b[49m\u001b[43mcheck\u001b[49m\u001b[43m.\u001b[49m\u001b[43mif_nonnegative_numpy_matrix\u001b[49m\u001b[43m(\u001b[49m\u001b[43m*\u001b[49m\u001b[43m*\u001b[49m\u001b[43mkwargs\u001b[49m\u001b[43m)\u001b[49m\n\u001b[32m   1864\u001b[39m result = np.array(intermediate_conversion_of_obj, dtype=\u001b[38;5;28mfloat\u001b[39m)\n",
      "\u001b[36mFile \u001b[39m\u001b[32m/mnt/mfitzpat/miniconda3/envs/czekitout/lib/python3.12/site-packages/czekitout/check.py:1626\u001b[39m, in \u001b[36mif_nonnegative_numpy_matrix\u001b[39m\u001b[34m(obj, obj_name)\u001b[39m\n\u001b[32m   1625\u001b[39m \u001b[38;5;28;01mif\u001b[39;00m czekitout.isa.real_numpy_matrix(obj):\n\u001b[32m-> \u001b[39m\u001b[32m1626\u001b[39m     \u001b[38;5;28;01mraise\u001b[39;00m \u001b[38;5;167;01mValueError\u001b[39;00m(err_msg)\n\u001b[32m   1627\u001b[39m \u001b[38;5;28;01mraise\u001b[39;00m \u001b[38;5;167;01mTypeError\u001b[39;00m(err_msg)\n",
      "\u001b[31mValueError\u001b[39m: The object ``obj_3`` must be a numpy matrix of nonnegative numbers.",
      "\nDuring handling of the above exception, another exception occurred:\n",
      "\u001b[31mValueError\u001b[39m                                Traceback (most recent call last)",
      "\u001b[36mCell\u001b[39m\u001b[36m \u001b[39m\u001b[32mIn[3]\u001b[39m\u001b[32m, line 7\u001b[39m\n\u001b[32m      1\u001b[39m obj_3 = [(\u001b[32m3.2\u001b[39m, \u001b[32m2\u001b[39m), \n\u001b[32m      2\u001b[39m          [-\u001b[32m2\u001b[39m, \u001b[32m0\u001b[39m], \n\u001b[32m      3\u001b[39m          [\u001b[32m1.2\u001b[39m, \u001b[32m43.2\u001b[39m], \n\u001b[32m      4\u001b[39m          (\u001b[32m5.5\u001b[39m, \u001b[32m5.5\u001b[39m)]\n\u001b[32m      5\u001b[39m kwargs = {\u001b[33m\"\u001b[39m\u001b[33mobj\u001b[39m\u001b[33m\"\u001b[39m: obj_3, \n\u001b[32m      6\u001b[39m           \u001b[33m\"\u001b[39m\u001b[33mobj_name\u001b[39m\u001b[33m\"\u001b[39m: \u001b[33m\"\u001b[39m\u001b[33mobj_3\u001b[39m\u001b[33m\"\u001b[39m}\n\u001b[32m----> \u001b[39m\u001b[32m7\u001b[39m \u001b[43mczekitout\u001b[49m\u001b[43m.\u001b[49m\u001b[43mconvert\u001b[49m\u001b[43m.\u001b[49m\u001b[43mto_nonnegative_numpy_matrix\u001b[49m\u001b[43m(\u001b[49m\u001b[43m*\u001b[49m\u001b[43m*\u001b[49m\u001b[43mkwargs\u001b[49m\u001b[43m)\u001b[49m\n",
      "\u001b[36mFile \u001b[39m\u001b[32m/mnt/mfitzpat/miniconda3/envs/czekitout/lib/python3.12/site-packages/czekitout/convert.py:1866\u001b[39m, in \u001b[36mto_nonnegative_numpy_matrix\u001b[39m\u001b[34m(obj, obj_name)\u001b[39m\n\u001b[32m   1864\u001b[39m     result = np.array(intermediate_conversion_of_obj, dtype=\u001b[38;5;28mfloat\u001b[39m)\n\u001b[32m   1865\u001b[39m \u001b[38;5;28;01mexcept\u001b[39;00m \u001b[38;5;167;01mValueError\u001b[39;00m:\n\u001b[32m-> \u001b[39m\u001b[32m1866\u001b[39m     \u001b[38;5;28;01mraise\u001b[39;00m \u001b[38;5;167;01mValueError\u001b[39;00m(err_msg)\n\u001b[32m   1867\u001b[39m \u001b[38;5;28;01mexcept\u001b[39;00m \u001b[38;5;167;01mBaseException\u001b[39;00m:\n\u001b[32m   1868\u001b[39m     \u001b[38;5;28;01mraise\u001b[39;00m \u001b[38;5;167;01mTypeError\u001b[39;00m(err_msg)\n",
      "\u001b[31mValueError\u001b[39m: The object ``obj_3`` must be a nonnegative matrix."
     ]
    }
   ],
   "source": [
    "obj_3 = [(3.2, 2), \n",
    "         [-2, 0], \n",
    "         [1.2, 43.2], \n",
    "         (5.5, 5.5)]\n",
    "kwargs = {\"obj\": obj_3, \n",
    "          \"obj_name\": \"obj_3\"}\n",
    "czekitout.convert.to_nonnegative_numpy_matrix(**kwargs)"
   ]
  },
  {
   "cell_type": "markdown",
   "id": "71354181",
   "metadata": {},
   "source": [
    "Note that running the above cell returns an error message, as expected."
   ]
  },
  {
   "cell_type": "markdown",
   "id": "ea083df0",
   "metadata": {},
   "source": [
    "Let's try to convert ``obj_4`` to a nonnegative numpy matrix."
   ]
  },
  {
   "cell_type": "code",
   "execution_count": 4,
   "id": "90046bfc",
   "metadata": {},
   "outputs": [
    {
     "data": {
      "text/plain": [
       "array([[ 3.2,  2. ],\n",
       "       [ 2. ,  0. ],\n",
       "       [ 1.2, 43.2],\n",
       "       [ 5.5,  5.5]])"
      ]
     },
     "execution_count": 4,
     "metadata": {},
     "output_type": "execute_result"
    }
   ],
   "source": [
    "obj_4 = [(3.2, 2), \n",
    "         [2, 0], \n",
    "         [1.2, 43.2], \n",
    "         (5.5, 5.5)]\n",
    "kwargs = {\"obj\": obj_4, \n",
    "          \"obj_name\": \"obj_4\"}\n",
    "czekitout.convert.to_nonnegative_numpy_matrix(**kwargs)"
   ]
  },
  {
   "cell_type": "markdown",
   "id": "7fa4f597",
   "metadata": {},
   "source": [
    "Note that running the above cell does not return an error message, as expected."
   ]
  },
  {
   "cell_type": "markdown",
   "id": "0cb3e3ff",
   "metadata": {},
   "source": [
    "See\n",
    "[here](https://mrfitzpa.github.io/czekitout/_autosummary/czekitout.convert.html)\n",
    "for a description of all functions available in the ``czekitout.convert``\n",
    "module."
   ]
  }
 ],
 "metadata": {
  "kernelspec": {
   "display_name": "Python 3 (ipykernel)",
   "language": "python",
   "name": "python3"
  },
  "language_info": {
   "codemirror_mode": {
    "name": "ipython",
    "version": 3
   },
   "file_extension": ".py",
   "mimetype": "text/x-python",
   "name": "python",
   "nbconvert_exporter": "python",
   "pygments_lexer": "ipython3",
   "version": "3.12.12"
  }
 },
 "nbformat": 4,
 "nbformat_minor": 5
}
