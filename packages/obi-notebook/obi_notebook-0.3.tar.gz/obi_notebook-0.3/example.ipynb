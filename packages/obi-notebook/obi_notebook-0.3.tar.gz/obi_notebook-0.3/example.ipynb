{
 "cells": [
  {
   "cell_type": "code",
   "execution_count": 1,
   "id": "d139baec",
   "metadata": {},
   "outputs": [
    {
     "name": "stdout",
     "output_type": "stream",
     "text": [
      "production\n"
     ]
    },
    {
     "name": "stderr",
     "output_type": "stream",
     "text": [
      "/Users/mwr/Documents/repositories/obi-notebook/.venv/lib/python3.13/site-packages/obi_notebook/get_environment.py:22: RuntimeWarning: No environment specified. Using production.\n",
      "  warnings.warn(f\"No environment specified. Using production.\",\n"
     ]
    }
   ],
   "source": [
    "import os\n",
    "\n",
    "import obi_auth\n",
    "\n",
    "from obi_notebook import get_entities, get_environment, get_projects\n",
    "from obi_notebook.get_environment import VAR_ENVIRONMENT\n",
    "\n",
    "# Should raise warning: Environment not selected.\n",
    "environment_str = get_environment.get_environment()\n",
    "print(environment_str)"
   ]
  },
  {
   "cell_type": "code",
   "execution_count": 2,
   "id": "304f4266",
   "metadata": {},
   "outputs": [
    {
     "name": "stdout",
     "output_type": "stream",
     "text": [
      "production\n"
     ]
    },
    {
     "name": "stderr",
     "output_type": "stream",
     "text": [
      "/Users/mwr/Documents/repositories/obi-notebook/.venv/lib/python3.13/site-packages/obi_notebook/get_environment.py:19: RuntimeWarning: Specified environment 'invalid' unknown. Using production.\n",
      "  warnings.warn(f\"Specified environment '{var}' unknown. Using production.\",\n"
     ]
    }
   ],
   "source": [
    "os.environ[VAR_ENVIRONMENT] = \"invalid\"\n",
    "\n",
    "# Should raise warning: Environment unknown.\n",
    "environment_str = get_environment.get_environment()\n",
    "print(environment_str)"
   ]
  },
  {
   "cell_type": "code",
   "execution_count": 3,
   "id": "7eb47475-67c6-499a-a2b4-19f8a64974d0",
   "metadata": {},
   "outputs": [
    {
     "name": "stdout",
     "output_type": "stream",
     "text": [
      "staging\n"
     ]
    }
   ],
   "source": [
    "os.environ[VAR_ENVIRONMENT] = \"staging\"\n",
    "environment_str = get_environment.get_environment()\n",
    "print(environment_str)"
   ]
  },
  {
   "cell_type": "markdown",
   "id": "4d984b92-cadd-4b07-9813-b2333272610f",
   "metadata": {},
   "source": [
    "get authentication token"
   ]
  },
  {
   "cell_type": "code",
   "execution_count": 4,
   "id": "323cb45c-91e3-451f-8a80-374e61433d31",
   "metadata": {},
   "outputs": [],
   "source": [
    "token = obi_auth.get_token(environment=environment_str)"
   ]
  },
  {
   "cell_type": "markdown",
   "id": "b60e8643-3ad5-4619-a052-5bd8b64713fd",
   "metadata": {},
   "source": [
    "a widget to select project to use"
   ]
  },
  {
   "cell_type": "code",
   "execution_count": 5,
   "id": "77c47560-1163-4466-83fc-43abc6e0801a",
   "metadata": {},
   "outputs": [
    {
     "data": {
      "application/vnd.jupyter.widget-view+json": {
       "model_id": "45fd425a2ed84685b37a3f567f960a23",
       "version_major": 2,
       "version_minor": 0
      },
      "text/plain": [
       "Dropdown(description='Select:', options=(('Proximal vs. distal inhibition', {'id': '32008ab5-76cf-47cd-b98b-a5…"
      ]
     },
     "metadata": {},
     "output_type": "display_data"
    }
   ],
   "source": [
    "project_context = get_projects.get_projects(token)"
   ]
  },
  {
   "cell_type": "code",
   "execution_count": 6,
   "id": "d538dcac-1bdc-496b-8840-a7b32ea842ed",
   "metadata": {},
   "outputs": [
    {
     "data": {
      "text/plain": [
       "ProjectContext(project_id=UUID('32008ab5-76cf-47cd-b98b-a5013b30b533'), virtual_lab_id=UUID('1d8cccc0-f992-46aa-aac6-88e63c914314'), environment=<DeploymentEnvironment.staging: 'staging'>)"
      ]
     },
     "execution_count": 6,
     "metadata": {},
     "output_type": "execute_result"
    }
   ],
   "source": [
    "project_context"
   ]
  },
  {
   "cell_type": "code",
   "execution_count": 7,
   "id": "93029f77-d71f-40f4-8c4d-9f23d2b650bc",
   "metadata": {},
   "outputs": [
    {
     "data": {
      "application/vnd.jupyter.widget-view+json": {
       "model_id": "b92bedf59a6a49c4b0c6d9dcf5da4268",
       "version_major": 2,
       "version_minor": 0
      },
      "text/plain": [
       "HBox(children=(Dropdown(description='Scale:', index=1, options=('pair', 'small', 'microcircuit', 'region', 'sy…"
      ]
     },
     "metadata": {},
     "output_type": "display_data"
    },
    {
     "data": {
      "application/vnd.jupyter.widget-view+json": {
       "model_id": "36957a0de8ea476f9fc97dbd665740d3",
       "version_major": 2,
       "version_minor": 0
      },
      "text/plain": [
       "Output()"
      ]
     },
     "metadata": {},
     "output_type": "display_data"
    }
   ],
   "source": [
    "circuit_ids = []\n",
    "circuit_ids = get_entities.get_entities(\n",
    "    \"circuit\",\n",
    "    token,\n",
    "    circuit_ids,\n",
    "    return_entities=False,\n",
    "    multi_select=True,\n",
    "    show_pages=True,\n",
    "    project_context=project_context,\n",
    "    page_size=10,\n",
    "    default_scale=\"small\",\n",
    "    exclude_scales=[\"single\"],\n",
    "    add_columns=[\"subject.name\"],\n",
    ")"
   ]
  },
  {
   "cell_type": "code",
   "execution_count": 8,
   "id": "da699ed4-39fd-4602-b54d-58a0b58c2539",
   "metadata": {},
   "outputs": [
    {
     "data": {
      "text/plain": [
       "['c940188a-5408-4185-ab3b-dbb20de16621']"
      ]
     },
     "execution_count": 8,
     "metadata": {},
     "output_type": "execute_result"
    }
   ],
   "source": [
    "circuit_ids"
   ]
  },
  {
   "cell_type": "code",
   "execution_count": 9,
   "id": "a5f5445d-a61a-4fbe-962f-51e701434771",
   "metadata": {},
   "outputs": [
    {
     "data": {
      "application/vnd.jupyter.widget-view+json": {
       "model_id": "04360c5e3d5a4d318fa446f3e06e9853",
       "version_major": 2,
       "version_minor": 0
      },
      "text/plain": [
       "HBox(children=(Combobox(value='', description='M-Type:', ensure_option=True, options=('A_BC', 'A_BFP', 'ACB_CT…"
      ]
     },
     "metadata": {},
     "output_type": "display_data"
    },
    {
     "data": {
      "application/vnd.jupyter.widget-view+json": {
       "model_id": "9247a1fde0a7438d853325c8a0eaf428",
       "version_major": 2,
       "version_minor": 0
      },
      "text/plain": [
       "Output()"
      ]
     },
     "metadata": {},
     "output_type": "display_data"
    }
   ],
   "source": [
    "morph_ids = []\n",
    "morph_ids = get_entities.get_entities(\n",
    "    \"cell-morphology\",\n",
    "    token,\n",
    "    morph_ids,\n",
    "    return_entities=False,\n",
    "    multi_select=True,\n",
    "    show_pages=True,\n",
    "    project_context=project_context,\n",
    "    page_size=100,\n",
    "    add_columns=[\"mtypes\"],\n",
    ")"
   ]
  },
  {
   "cell_type": "code",
   "execution_count": 10,
   "id": "2c9d28c4",
   "metadata": {},
   "outputs": [
    {
     "data": {
      "text/plain": [
       "['afa2434f-1ccc-4fff-a047-d399e59768c9']"
      ]
     },
     "execution_count": 10,
     "metadata": {},
     "output_type": "execute_result"
    }
   ],
   "source": [
    "morph_ids"
   ]
  },
  {
   "cell_type": "code",
   "execution_count": 11,
   "id": "90757b52",
   "metadata": {},
   "outputs": [
    {
     "data": {
      "application/vnd.jupyter.widget-view+json": {
       "model_id": "a3915f160d944f14b1a401e643b1f7e1",
       "version_major": 2,
       "version_minor": 0
      },
      "text/plain": [
       "HBox(children=(Combobox(value='', description='EM-Dataset:', ensure_option=True, options=('Portion 65 of the I…"
      ]
     },
     "metadata": {},
     "output_type": "display_data"
    },
    {
     "data": {
      "application/vnd.jupyter.widget-view+json": {
       "model_id": "d1b44ab0d11146a1a11e3f32df4ceeba",
       "version_major": 2,
       "version_minor": 0
      },
      "text/plain": [
       "Output()"
      ]
     },
     "metadata": {},
     "output_type": "display_data"
    }
   ],
   "source": [
    "cell_mesh_ids = []\n",
    "cell_mesh_ids = get_entities.get_entities(\n",
    "    \"em-cell-mesh\",\n",
    "    token,\n",
    "    cell_mesh_ids,\n",
    "    return_entities=False,\n",
    "    multi_select=True,\n",
    "    show_pages=True,\n",
    "    project_context=project_context,\n",
    "    page_size=10,\n",
    "    add_columns=[\"dense_reconstruction_cell_id\", \"subject.name\"],\n",
    ")"
   ]
  },
  {
   "cell_type": "code",
   "execution_count": 12,
   "id": "6964ebe2",
   "metadata": {},
   "outputs": [
    {
     "data": {
      "text/plain": [
       "['e915d259-d03a-4544-8109-a86bbd4cd722']"
      ]
     },
     "execution_count": 12,
     "metadata": {},
     "output_type": "execute_result"
    }
   ],
   "source": [
    "cell_mesh_ids"
   ]
  }
 ],
 "metadata": {
  "kernelspec": {
   "display_name": ".venv (3.13.1)",
   "language": "python",
   "name": "python3"
  },
  "language_info": {
   "codemirror_mode": {
    "name": "ipython",
    "version": 3
   },
   "file_extension": ".py",
   "mimetype": "text/x-python",
   "name": "python",
   "nbconvert_exporter": "python",
   "pygments_lexer": "ipython3",
   "version": "3.13.1"
  }
 },
 "nbformat": 4,
 "nbformat_minor": 5
}
