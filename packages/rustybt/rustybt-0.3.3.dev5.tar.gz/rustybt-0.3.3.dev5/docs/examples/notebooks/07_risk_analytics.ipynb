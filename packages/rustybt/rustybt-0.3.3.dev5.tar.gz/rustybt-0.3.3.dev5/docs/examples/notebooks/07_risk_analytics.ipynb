{
 "cells": [
  {
   "cell_type": "markdown",
   "metadata": {},
   "source": [
    "# Risk Analytics\n",
    "\n",
    "Calculate VaR, CVaR, beta, and other risk metrics."
   ]
  },
  {
   "cell_type": "code",
   "execution_count": 1,
   "metadata": {
    "execution": {
     "iopub.execute_input": "2025-10-17T22:30:33.468157Z",
     "iopub.status.busy": "2025-10-17T22:30:33.467892Z",
     "iopub.status.idle": "2025-10-17T22:30:36.186146Z",
     "shell.execute_reply": "2025-10-17T22:30:36.185766Z"
    }
   },
   "outputs": [
    {
     "name": "stdout",
     "output_type": "stream",
     "text": [
      "✅ Notebook environment configured successfully\n",
      "   - Async/await support enabled\n",
      "   - Pandas display options optimized\n",
      "   - Progress bars configured\n"
     ]
    }
   ],
   "source": [
    "from rustybt.analytics import setup_notebook\n",
    "\n",
    "setup_notebook()"
   ]
  },
  {
   "cell_type": "markdown",
   "metadata": {},
   "source": [
    "## Risk Metrics\n",
    "\n",
    "- Value at Risk (VaR)\n",
    "- Conditional VaR (CVaR)\n",
    "- Beta to benchmark\n",
    "- Maximum Drawdown\n",
    "- Sortino Ratio"
   ]
  },
  {
   "cell_type": "code",
   "execution_count": 2,
   "metadata": {
    "execution": {
     "iopub.execute_input": "2025-10-17T22:30:36.211687Z",
     "iopub.status.busy": "2025-10-17T22:30:36.211200Z",
     "iopub.status.idle": "2025-10-17T22:30:36.240692Z",
     "shell.execute_reply": "2025-10-17T22:30:36.240414Z"
    }
   },
   "outputs": [
    {
     "name": "stdout",
     "output_type": "stream",
     "text": [
      "Value at Risk (VaR):\n",
      "  var_95: -0.0219 (-2.19%)\n",
      "  var_99: -0.0291 (-2.91%)\n",
      "\n",
      "Conditional VaR (CVaR / Expected Shortfall):\n",
      "  cvar_95: -0.0273 (-2.73%)\n",
      "  cvar_99: -0.0327 (-3.27%)\n",
      "\n",
      "Tail Risk Metrics:\n",
      "  Skewness: 0.3002\n",
      "  Kurtosis: 0.5796\n",
      "  Max 1-day loss: -3.88%\n",
      "  Downside deviation: 0.80%\n",
      "\n",
      "Stress Test Results:\n",
      "  2008 Financial Crisis: $nan\n",
      "  Covid Crash: $nan\n",
      "  Flash Crash: $nan\n"
     ]
    }
   ],
   "source": [
    "# Import required libraries\n",
    "import numpy as np\n",
    "import pandas as pd\n",
    "\n",
    "from rustybt.analytics import RiskAnalytics\n",
    "\n",
    "# Example: Create sample backtest results for demonstration\n",
    "# In practice, you would use actual backtest results from run_algorithm()\n",
    "\n",
    "# Generate realistic sample returns (representing daily returns from a backtest)\n",
    "np.random.seed(42)  # For reproducibility\n",
    "n_days = 252  # One year of trading days\n",
    "daily_returns = np.random.normal(0.0005, 0.015, n_days)  # ~12.6% annual return, ~23.8% volatility\n",
    "\n",
    "# Create a sample backtest results DataFrame\n",
    "dates = pd.date_range(start='2023-01-01', periods=n_days, freq='B')\n",
    "portfolio_value = 100000 * (1 + pd.Series(daily_returns)).cumprod()\n",
    "\n",
    "results = pd.DataFrame({\n",
    "    'returns': daily_returns,\n",
    "    'portfolio_value': portfolio_value\n",
    "}, index=dates)\n",
    "\n",
    "# Initialize risk analytics\n",
    "risk = RiskAnalytics(\n",
    "    backtest_result=results,\n",
    "    confidence_levels=[0.95, 0.99]\n",
    ")\n",
    "\n",
    "# Calculate Value at Risk (VaR)\n",
    "var_results = risk.calculate_var(method='historical')\n",
    "print(\"Value at Risk (VaR):\")\n",
    "for level, value in var_results.items():\n",
    "    print(f\"  {level}: {float(value):.4f} ({float(value)*100:.2f}%)\")\n",
    "\n",
    "# Calculate Conditional VaR (CVaR)\n",
    "cvar_results = risk.calculate_cvar(method='historical')\n",
    "print(\"\\nConditional VaR (CVaR / Expected Shortfall):\")\n",
    "for level, value in cvar_results.items():\n",
    "    print(f\"  {level}: {float(value):.4f} ({float(value)*100:.2f}%)\")\n",
    "\n",
    "# Calculate tail risk metrics\n",
    "tail_risk = risk.calculate_tail_risk()\n",
    "print(\"\\nTail Risk Metrics:\")\n",
    "print(f\"  Skewness: {float(tail_risk['skewness']):.4f}\")\n",
    "print(f\"  Kurtosis: {float(tail_risk['kurtosis']):.4f}\")\n",
    "print(f\"  Max 1-day loss: {float(tail_risk['max_loss_1d'])*100:.2f}%\")\n",
    "print(f\"  Downside deviation: {float(tail_risk['downside_deviation'])*100:.2f}%\")\n",
    "\n",
    "# Run stress tests\n",
    "stress_results = risk.run_stress_tests()\n",
    "print(\"\\nStress Test Results:\")\n",
    "for scenario, loss in stress_results.items():\n",
    "    print(f\"  {scenario.replace('_', ' ').title()}: ${float(loss):,.2f}\")"
   ]
  }
 ],
 "metadata": {
  "kernelspec": {
   "display_name": "rustybt",
   "language": "python",
   "name": "python3"
  },
  "language_info": {
   "codemirror_mode": {
    "name": "ipython",
    "version": 3
   },
   "file_extension": ".py",
   "mimetype": "text/x-python",
   "name": "python",
   "nbconvert_exporter": "python",
   "pygments_lexer": "ipython3",
   "version": "3.12.0"
  }
 },
 "nbformat": 4,
 "nbformat_minor": 4
}
