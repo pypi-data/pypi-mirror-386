{
 "cells": [
  {
   "cell_type": "markdown",
   "metadata": {},
   "source": [
    "# Getting Started with RustyBT\n",
    "\n",
    "This notebook provides a quick introduction to backtesting with RustyBT.\n",
    "\n",
    "**What you'll learn:**\n",
    "- Setting up the notebook environment\n",
    "- Creating a simple trading strategy\n",
    "- Running a backtest\n",
    "- Visualizing results with interactive charts\n",
    "- Exporting data for analysis\n",
    "\n",
    "**Estimated runtime:** 2-3 minutes"
   ]
  },
  {
   "cell_type": "markdown",
   "metadata": {},
   "source": [
    "## 1. Setup\n",
    "\n",
    "First, let's configure the notebook environment and import required libraries."
   ]
  },
  {
   "cell_type": "code",
   "execution_count": 1,
   "metadata": {
    "execution": {
     "iopub.execute_input": "2025-10-17T22:30:18.429337Z",
     "iopub.status.busy": "2025-10-17T22:30:18.429183Z",
     "iopub.status.idle": "2025-10-17T22:30:23.602083Z",
     "shell.execute_reply": "2025-10-17T22:30:23.601640Z"
    }
   },
   "outputs": [
    {
     "name": "stdout",
     "output_type": "stream",
     "text": [
      "✅ Notebook environment configured successfully\n",
      "   - Async/await support enabled\n",
      "   - Pandas display options optimized\n",
      "   - Progress bars configured\n"
     ]
    }
   ],
   "source": [
    "# Setup notebook environment\n",
    "from rustybt.analytics import setup_notebook\n",
    "\n",
    "setup_notebook()\n",
    "\n",
    "# Import libraries\n",
    "from rustybt import TradingAlgorithm\n",
    "from rustybt.api import (\n",
    "    order,\n",
    "    set_commission,\n",
    "    set_slippage,\n",
    "    symbol,\n",
    ")\n",
    "from rustybt.finance.commission import PerShare\n",
    "from rustybt.finance.slippage import VolumeShareSlippage\n",
    "from rustybt.utils.run_algo import run_algorithm\n",
    "from rustybt.analytics import plot_equity_curve, plot_returns_distribution\n",
    "import pandas as pd"
   ]
  },
  {
   "cell_type": "markdown",
   "metadata": {},
   "source": [
    "## 2. Create a Simple Strategy\n",
    "\n",
    "Let's create a basic buy-and-hold strategy that purchases a stock at the start and holds it."
   ]
  },
  {
   "cell_type": "code",
   "execution_count": 2,
   "metadata": {
    "execution": {
     "iopub.execute_input": "2025-10-17T22:30:23.604454Z",
     "iopub.status.busy": "2025-10-17T22:30:23.604048Z",
     "iopub.status.idle": "2025-10-17T22:30:23.636263Z",
     "shell.execute_reply": "2025-10-17T22:30:23.635878Z"
    }
   },
   "outputs": [],
   "source": [
    "class BuyAndHold(TradingAlgorithm):\n",
    "    \"\"\"Simple buy and hold strategy.\"\"\"\n",
    "\n",
    "    def initialize(self, context) -> None:\n",
    "        \"\"\"Initialize strategy - runs once at start.\"\"\"\n",
    "        # Configure trading costs\n",
    "        set_commission(PerShare(cost=0.001, min_trade_cost=1.0))\n",
    "        set_slippage(VolumeShareSlippage(volume_limit=0.025, price_impact=0.1))\n",
    "\n",
    "        # Store the asset we want to trade\n",
    "        context.asset = symbol(\"AAPL\")\n",
    "        context.bought = False\n",
    "\n",
    "    def handle_data(self, context, data) -> None:\n",
    "        \"\"\"Called every trading period.\"\"\"\n",
    "        # Buy once at the start\n",
    "        if not context.bought:\n",
    "            # Get current price\n",
    "            price = data.current(context.asset, \"close\")\n",
    "\n",
    "            # Calculate shares to buy (invest 100% of capital)\n",
    "            cash = context.portfolio.cash\n",
    "            shares = int(cash / price)\n",
    "\n",
    "            if shares > 0:\n",
    "                order(context.asset, shares)\n",
    "                context.bought = True"
   ]
  },
  {
   "cell_type": "markdown",
   "metadata": {},
   "source": [
    "## 3. Run Backtest\n",
    "\n",
    "Now let's run the strategy over historical data."
   ]
  },
  {
   "cell_type": "code",
   "execution_count": 3,
   "metadata": {
    "execution": {
     "iopub.execute_input": "2025-10-17T22:30:23.638192Z",
     "iopub.status.busy": "2025-10-17T22:30:23.638042Z",
     "iopub.status.idle": "2025-10-17T22:30:23.666486Z",
     "shell.execute_reply": "2025-10-17T22:30:23.665927Z"
    }
   },
   "outputs": [],
   "source": [
    "# Run the backtest\n",
    "# Note: This requires a data bundle. See 02_data_ingestion.ipynb to set up data first.\n",
    "# \n",
    "# Example usage (uncomment after setting up a bundle):\n",
    "# results = run_algorithm(\n",
    "#     start=pd.Timestamp('2020-01-01', tz='utc'),\n",
    "#     end=pd.Timestamp('2023-12-31', tz='utc'),\n",
    "#     initialize=BuyAndHold().initialize,\n",
    "#     handle_data=BuyAndHold().handle_data,\n",
    "#     capital_base=100000.0,\n",
    "#     bundle='yfinance',  # or your bundle name\n",
    "#     data_frequency='daily',\n",
    "# )\n",
    "#\n",
    "# print(f\"Backtest complete! Final portfolio value: ${results['portfolio_value'].iloc[-1]:,.2f}\")"
   ]
  },
  {
   "cell_type": "markdown",
   "metadata": {},
   "source": [
    "## 4. Visualize Results\n",
    "\n",
    "Once you have results, you can create interactive visualizations."
   ]
  },
  {
   "cell_type": "code",
   "execution_count": 4,
   "metadata": {
    "execution": {
     "iopub.execute_input": "2025-10-17T22:30:23.668448Z",
     "iopub.status.busy": "2025-10-17T22:30:23.668287Z",
     "iopub.status.idle": "2025-10-17T22:30:23.694980Z",
     "shell.execute_reply": "2025-10-17T22:30:23.694626Z"
    }
   },
   "outputs": [],
   "source": [
    "# After running backtest (see above), visualize results:\n",
    "\n",
    "# Assuming you have 'results' from running the backtest:\n",
    "# results = run_algorithm(...)\n",
    "\n",
    "# Plot equity curve with drawdown\n",
    "# fig = plot_equity_curve(results, show_drawdown=True)\n",
    "# fig.show()\n",
    "\n",
    "# Plot returns distribution\n",
    "# fig = plot_returns_distribution(results)\n",
    "# fig.show()\n"
   ]
  },
  {
   "cell_type": "markdown",
   "metadata": {},
   "source": [
    "## 5. Analyze Performance Metrics\n",
    "\n",
    "View key performance metrics from the results DataFrame."
   ]
  },
  {
   "cell_type": "code",
   "execution_count": 5,
   "metadata": {
    "execution": {
     "iopub.execute_input": "2025-10-17T22:30:23.696619Z",
     "iopub.status.busy": "2025-10-17T22:30:23.696483Z",
     "iopub.status.idle": "2025-10-17T22:30:23.723471Z",
     "shell.execute_reply": "2025-10-17T22:30:23.723151Z"
    }
   },
   "outputs": [],
   "source": [
    "# After running backtest:\n",
    "# Display key metrics\n",
    "# print(\"Performance Summary:\")\n",
    "# print(f\"Total Return: {results['returns'].sum():.2%}\")\n",
    "# print(f\"Sharpe Ratio: {results['sharpe'].iloc[-1]:.2f}\")\n",
    "# print(f\"Max Drawdown: {results['max_drawdown'].min():.2%}\")\n",
    "# print(f\"Final Portfolio Value: ${results['portfolio_value'].iloc[-1]:,.2f}\")\n"
   ]
  },
  {
   "cell_type": "markdown",
   "metadata": {},
   "source": [
    "## 6. Export Data\n",
    "\n",
    "Export results to different formats for further analysis."
   ]
  },
  {
   "cell_type": "code",
   "execution_count": 6,
   "metadata": {
    "execution": {
     "iopub.execute_input": "2025-10-17T22:30:23.724959Z",
     "iopub.status.busy": "2025-10-17T22:30:23.724855Z",
     "iopub.status.idle": "2025-10-17T22:30:23.750897Z",
     "shell.execute_reply": "2025-10-17T22:30:23.750497Z"
    }
   },
   "outputs": [],
   "source": [
    "# Export to Polars for high-performance analysis\n",
    "# import polars as pl\n",
    "# results_pl = pl.from_pandas(results)\n",
    "\n",
    "# Save to CSV\n",
    "# results.to_csv('backtest_results.csv')\n",
    "\n",
    "# Save to Parquet (efficient columnar format)\n",
    "# results.to_parquet('backtest_results.parquet')\n"
   ]
  },
  {
   "cell_type": "markdown",
   "metadata": {},
   "source": [
    "## Next Steps\n",
    "\n",
    "Now that you understand the basics, explore:\n",
    "\n",
    "1. **02_data_ingestion.ipynb** - Learn how to fetch data from various sources\n",
    "2. **03_strategy_development.ipynb** - Build more sophisticated strategies\n",
    "3. **04_performance_analysis.ipynb** - Deep dive into performance metrics\n",
    "4. **10_full_workflow.ipynb** - Complete end-to-end workflow\n",
    "\n",
    "## Key Takeaways\n",
    "\n",
    "- ✅ RustyBT provides a clean API for strategy development\n",
    "- ✅ Interactive visualizations make analysis easy\n",
    "- ✅ Results can be exported to any format\n",
    "- ✅ Built-in support for realistic trading costs\n",
    "- ✅ Jupyter notebook integration with progress bars and async support"
   ]
  }
 ],
 "metadata": {
  "kernelspec": {
   "display_name": "rustybt",
   "language": "python",
   "name": "python3"
  },
  "language_info": {
   "codemirror_mode": {
    "name": "ipython",
    "version": 3
   },
   "file_extension": ".py",
   "mimetype": "text/x-python",
   "name": "python",
   "nbconvert_exporter": "python",
   "pygments_lexer": "ipython3",
   "version": "3.12.0"
  }
 },
 "nbformat": 4,
 "nbformat_minor": 4
}
