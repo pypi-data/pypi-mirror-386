{
 "cells": [
  {
   "cell_type": "markdown",
   "metadata": {},
   "source": [
    "# Portfolio Construction\n",
    "\n",
    "Build multi-asset portfolios with rebalancing."
   ]
  },
  {
   "cell_type": "code",
   "execution_count": 1,
   "metadata": {
    "execution": {
     "iopub.execute_input": "2025-10-17T22:30:43.208910Z",
     "iopub.status.busy": "2025-10-17T22:30:43.208721Z",
     "iopub.status.idle": "2025-10-17T22:30:47.276514Z",
     "shell.execute_reply": "2025-10-17T22:30:47.275924Z"
    }
   },
   "outputs": [
    {
     "name": "stdout",
     "output_type": "stream",
     "text": [
      "✅ Notebook environment configured successfully\n",
      "   - Async/await support enabled\n",
      "   - Pandas display options optimized\n",
      "   - Progress bars configured\n"
     ]
    }
   ],
   "source": [
    "from rustybt import TradingAlgorithm\n",
    "from rustybt.analytics import setup_notebook\n",
    "from rustybt.api import order_target_percent, symbol\n",
    "\n",
    "setup_notebook()"
   ]
  },
  {
   "cell_type": "markdown",
   "metadata": {},
   "source": [
    "## Equal-Weight Portfolio"
   ]
  },
  {
   "cell_type": "code",
   "execution_count": 2,
   "metadata": {
    "execution": {
     "iopub.execute_input": "2025-10-17T22:30:47.302721Z",
     "iopub.status.busy": "2025-10-17T22:30:47.302222Z",
     "iopub.status.idle": "2025-10-17T22:30:47.329545Z",
     "shell.execute_reply": "2025-10-17T22:30:47.329230Z"
    }
   },
   "outputs": [],
   "source": [
    "class EqualWeightPortfolio(TradingAlgorithm):\n",
    "    \"\"\"Equal-weight portfolio with monthly rebalancing.\"\"\"\n",
    "\n",
    "    def initialize(self, context) -> None:\n",
    "        \"\"\"Initialize the portfolio strategy.\"\"\"\n",
    "        # Define the assets in our portfolio\n",
    "        context.assets = [symbol(s) for s in [\"SPY\", \"TLT\", \"GLD\", \"VNQ\"]]\n",
    "        \n",
    "        # Calculate target weight for each asset (equal weight)\n",
    "        context.target_weight = 1.0 / len(context.assets)\n",
    "        \n",
    "        # Schedule monthly rebalancing (first trading day of each month)\n",
    "        from rustybt.api import schedule_function, date_rules, time_rules\n",
    "        schedule_function(\n",
    "            self.rebalance, \n",
    "            date_rules.month_start(), \n",
    "            time_rules.market_open()\n",
    "        )\n",
    "\n",
    "    def rebalance(self, context, data) -> None:\n",
    "        \"\"\"Rebalance portfolio to equal weights.\"\"\"\n",
    "        for asset in context.assets:\n",
    "            # Set each asset to its target weight\n",
    "            order_target_percent(asset, context.target_weight)\n",
    "\n",
    "\n",
    "# Example usage:\n",
    "# To run this strategy, you would use run_algorithm():\n",
    "#\n",
    "# from rustybt.utils.run_algo import run_algorithm\n",
    "# import pandas as pd\n",
    "#\n",
    "# results = run_algorithm(\n",
    "#     start=pd.Timestamp('2020-01-01', tz='utc'),\n",
    "#     end=pd.Timestamp('2023-12-31', tz='utc'),\n",
    "#     initialize=EqualWeightPortfolio().initialize,\n",
    "#     handle_data=EqualWeightPortfolio().handle_data,\n",
    "#     capital_base=100000.0,\n",
    "#     bundle='yfinance',\n",
    "#     data_frequency='daily',\n",
    "# )"
   ]
  }
 ],
 "metadata": {
  "kernelspec": {
   "display_name": "Python 3",
   "language": "python",
   "name": "python3"
  },
  "language_info": {
   "codemirror_mode": {
    "name": "ipython",
    "version": 3
   },
   "file_extension": ".py",
   "mimetype": "text/x-python",
   "name": "python",
   "nbconvert_exporter": "python",
   "pygments_lexer": "ipython3",
   "version": "3.12.0"
  }
 },
 "nbformat": 4,
 "nbformat_minor": 4
}
