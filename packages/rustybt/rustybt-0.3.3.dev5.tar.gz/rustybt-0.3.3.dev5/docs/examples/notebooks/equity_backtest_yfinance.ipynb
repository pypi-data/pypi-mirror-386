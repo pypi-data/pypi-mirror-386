{
 "cells": [
  {
   "cell_type": "markdown",
   "metadata": {},
   "source": [
    "# Equity Backtesting with YFinance Data Adapter\n",
    "\n",
    "This notebook demonstrates using the YFinanceAdapter to fetch stock data and run a simple backtesting strategy.\n",
    "\n",
    "## What You'll Learn\n",
    "\n",
    "1. How to fetch stock/ETF data using YFinanceAdapter\n",
    "2. How to handle dividend and split data\n",
    "3. How to implement a simple mean reversion strategy\n",
    "4. How to analyze backtest results with performance metrics\n",
    "\n",
    "## YFinance Limitations\n",
    "\n",
    "- **Intraday data**: Limited to 60 days history for 1m, 5m, 15m, 30m, 1h resolutions\n",
    "- **Live data delay**: 15-20 minute delay for real-time quotes\n",
    "- **Rate limiting**: Conservative 1 request/second to avoid blocking\n",
    "- **Data quality**: Occasional missing bars and gaps in historical data"
   ]
  },
  {
   "cell_type": "markdown",
   "metadata": {},
   "source": [
    "## Setup and Imports"
   ]
  },
  {
   "cell_type": "code",
   "execution_count": null,
   "metadata": {},
   "outputs": [],
   "source": [
    "import matplotlib.pyplot as plt\n",
    "import pandas as pd\n",
    "import polars as pl\n",
    "\n",
    "from rustybt.data.adapters.yfinance_adapter import YFinanceAdapter\n",
    "\n",
    "# Configure matplotlib\n",
    "%matplotlib inline\n",
    "plt.style.use(\"seaborn-v0_8-darkgrid\")\n",
    "plt.rcParams[\"figure.figsize\"] = (12, 6)"
   ]
  },
  {
   "cell_type": "markdown",
   "metadata": {},
   "source": [
    "## 1. Fetch Stock Data\n",
    "\n",
    "Let's fetch daily data for AAPL, MSFT, and GOOGL for the first quarter of 2024."
   ]
  },
  {
   "cell_type": "code",
   "execution_count": null,
   "metadata": {},
   "outputs": [],
   "source": [
    "# Initialize adapter\n",
    "adapter = YFinanceAdapter(request_delay=1.0)\n",
    "\n",
    "# Define date range\n",
    "start_date = pd.Timestamp(\"2024-01-01\")\n",
    "end_date = pd.Timestamp(\"2024-03-31\")\n",
    "\n",
    "# Fetch data\n",
    "symbols = [\"AAPL\", \"MSFT\", \"GOOGL\"]\n",
    "\n",
    "df = await adapter.fetch(symbols=symbols, start_date=start_date, end_date=end_date, resolution=\"1d\")"
   ]
  },
  {
   "cell_type": "markdown",
   "metadata": {},
   "source": [
    "## 2. Fetch Dividend and Split Data\n",
    "\n",
    "Corporate actions (dividends and splits) are important for accurate backtesting."
   ]
  },
  {
   "cell_type": "code",
   "execution_count": null,
   "metadata": {},
   "outputs": [],
   "source": [
    "# Fetch dividends\n",
    "dividends = await adapter.fetch_dividends(symbols)\n",
    "\n",
    "print(\"Dividends fetched:\")\n",
    "for symbol, div_df in dividends.items():\n",
    "    print(f\"  {symbol}: {len(div_df)} dividend payments\")\n",
    "\n",
    "# Fetch splits\n",
    "splits = await adapter.fetch_splits(symbols)\n",
    "\n",
    "print(\"\\nStock splits fetched:\")\n",
    "for symbol, split_df in splits.items():\n",
    "    print(f\"  {symbol}: {len(split_df)} splits\")"
   ]
  },
  {
   "cell_type": "markdown",
   "metadata": {},
   "source": [
    "## 3. Visualize Price Data\n",
    "\n",
    "Plot closing prices for all three stocks."
   ]
  },
  {
   "cell_type": "code",
   "execution_count": null,
   "metadata": {},
   "outputs": [],
   "source": [
    "# Convert to pandas for easier plotting\n",
    "df_pandas = df.to_pandas()\n",
    "\n",
    "# Pivot to wide format for plotting\n",
    "pivot_df = df_pandas.pivot(index=\"timestamp\", columns=\"symbol\", values=\"close\")\n",
    "pivot_df = pivot_df.astype(float)  # Convert Decimal to float for plotting\n",
    "\n",
    "# Plot\n",
    "fig, ax = plt.subplots(figsize=(12, 6))\n",
    "for symbol in symbols:\n",
    "    if symbol in pivot_df.columns:\n",
    "        pivot_df[symbol].plot(ax=ax, label=symbol, linewidth=2)\n",
    "\n",
    "ax.set_title(\"Stock Price Comparison Q1 2024\", fontsize=14, fontweight=\"bold\")\n",
    "ax.set_xlabel(\"Date\")\n",
    "ax.set_ylabel(\"Close Price (USD)\")\n",
    "ax.legend()\n",
    "ax.grid(True, alpha=0.3)\n",
    "plt.tight_layout()\n",
    "plt.show()"
   ]
  },
  {
   "cell_type": "markdown",
   "metadata": {},
   "source": [
    "## 4. Calculate Returns\n",
    "\n",
    "Calculate daily returns for each stock."
   ]
  },
  {
   "cell_type": "code",
   "execution_count": null,
   "metadata": {},
   "outputs": [],
   "source": [
    "# Calculate returns using Polars\n",
    "df_with_returns = df.sort([\"symbol\", \"timestamp\"]).with_columns(\n",
    "    [(pl.col(\"close\") / pl.col(\"close\").shift(1) - 1).over(\"symbol\").alias(\"returns\")]\n",
    ")\n",
    "\n",
    "# Convert to pandas for summary statistics\n",
    "returns_df = df_with_returns.to_pandas()\n",
    "\n",
    "# Summary statistics by symbol\n",
    "print(\"\\nReturns Summary by Symbol:\")\n",
    "print(\"-\" * 60)\n",
    "for symbol in symbols:\n",
    "    symbol_returns = returns_df[returns_df[\"symbol\"] == symbol][\"returns\"].dropna()\n",
    "    print(f\"\\n{symbol}:\")\n",
    "    print(f\"  Mean daily return: {symbol_returns.mean():.4%}\")\n",
    "    print(f\"  Std deviation: {symbol_returns.std():.4%}\")\n",
    "    print(f\"  Min return: {symbol_returns.min():.4%}\")\n",
    "    print(f\"  Max return: {symbol_returns.max():.4%}\")"
   ]
  },
  {
   "cell_type": "markdown",
   "metadata": {},
   "source": [
    "## 5. Simple Mean Reversion Strategy\n",
    "\n",
    "Implement a basic mean reversion strategy:\n",
    "- Buy when price is below 20-day moving average\n",
    "- Sell when price is above 20-day moving average"
   ]
  },
  {
   "cell_type": "code",
   "execution_count": null,
   "metadata": {},
   "outputs": [],
   "source": [
    "# Calculate 20-day moving average using Polars\n",
    "df_strategy = df.sort([\"symbol\", \"timestamp\"]).with_columns(\n",
    "    [pl.col(\"close\").cast(pl.Float64).rolling_mean(window_size=20).over(\"symbol\").alias(\"ma_20\")]\n",
    ")\n",
    "\n",
    "# Generate signals\n",
    "df_strategy = df_strategy.with_columns(\n",
    "    [\n",
    "        pl.when(pl.col(\"close\").cast(pl.Float64) < pl.col(\"ma_20\"))\n",
    "        .then(1)\n",
    "        .when(pl.col(\"close\").cast(pl.Float64) > pl.col(\"ma_20\"))\n",
    "        .then(-1)\n",
    "        .otherwise(0)\n",
    "        .alias(\"signal\")\n",
    "    ]\n",
    ")\n",
    "\n",
    "# Calculate strategy returns\n",
    "df_strategy = df_strategy.with_columns(\n",
    "    [\n",
    "        (pl.col(\"close\") / pl.col(\"close\").shift(1) - 1).over(\"symbol\").alias(\"returns\"),\n",
    "        (\n",
    "            pl.col(\"signal\").shift(1).over(\"symbol\")\n",
    "            * (pl.col(\"close\") / pl.col(\"close\").shift(1) - 1)\n",
    "        ).alias(\"strategy_returns\"),\n",
    "    ]\n",
    ")"
   ]
  },
  {
   "cell_type": "markdown",
   "metadata": {},
   "source": [
    "## 6. Performance Metrics\n",
    "\n",
    "Calculate cumulative returns for buy-and-hold vs. mean reversion strategy."
   ]
  },
  {
   "cell_type": "code",
   "execution_count": null,
   "metadata": {},
   "outputs": [],
   "source": [
    "# Convert to pandas for analysis\n",
    "strategy_df = df_strategy.to_pandas()\n",
    "\n",
    "# Calculate cumulative returns for each symbol\n",
    "performance_results = {}\n",
    "\n",
    "for symbol in symbols:\n",
    "    symbol_data = strategy_df[strategy_df[\"symbol\"] == symbol].copy()\n",
    "\n",
    "    # Calculate cumulative returns\n",
    "    symbol_data[\"cum_returns\"] = (1 + symbol_data[\"returns\"]).cumprod() - 1\n",
    "    symbol_data[\"cum_strategy_returns\"] = (\n",
    "        1 + symbol_data[\"strategy_returns\"].fillna(0)\n",
    "    ).cumprod() - 1\n",
    "\n",
    "    # Final returns\n",
    "    buy_hold_return = symbol_data[\"cum_returns\"].iloc[-1]\n",
    "    strategy_return = symbol_data[\"cum_strategy_returns\"].iloc[-1]\n",
    "\n",
    "    performance_results[symbol] = {\n",
    "        \"buy_hold\": buy_hold_return,\n",
    "        \"strategy\": strategy_return,\n",
    "        \"outperformance\": strategy_return - buy_hold_return,\n",
    "    }"
   ]
  },
  {
   "cell_type": "markdown",
   "metadata": {},
   "source": [
    "## 7. Visualize Strategy Performance\n",
    "\n",
    "Plot cumulative returns for buy-and-hold vs. strategy."
   ]
  },
  {
   "cell_type": "code",
   "execution_count": null,
   "metadata": {},
   "outputs": [],
   "source": [
    "fig, axes = plt.subplots(len(symbols), 1, figsize=(12, 4 * len(symbols)))\n",
    "\n",
    "if len(symbols) == 1:\n",
    "    axes = [axes]\n",
    "\n",
    "for idx, symbol in enumerate(symbols):\n",
    "    symbol_data = strategy_df[strategy_df[\"symbol\"] == symbol].copy()\n",
    "    symbol_data[\"cum_returns\"] = (1 + symbol_data[\"returns\"]).cumprod() - 1\n",
    "    symbol_data[\"cum_strategy_returns\"] = (\n",
    "        1 + symbol_data[\"strategy_returns\"].fillna(0)\n",
    "    ).cumprod() - 1\n",
    "\n",
    "    ax = axes[idx]\n",
    "\n",
    "    # Plot cumulative returns\n",
    "    ax.plot(\n",
    "        symbol_data[\"timestamp\"],\n",
    "        symbol_data[\"cum_returns\"],\n",
    "        label=\"Buy & Hold\",\n",
    "        linewidth=2,\n",
    "        alpha=0.8,\n",
    "    )\n",
    "    ax.plot(\n",
    "        symbol_data[\"timestamp\"],\n",
    "        symbol_data[\"cum_strategy_returns\"],\n",
    "        label=\"Mean Reversion\",\n",
    "        linewidth=2,\n",
    "        alpha=0.8,\n",
    "    )\n",
    "\n",
    "    ax.set_title(f\"{symbol} - Cumulative Returns\", fontsize=12, fontweight=\"bold\")\n",
    "    ax.set_xlabel(\"Date\")\n",
    "    ax.set_ylabel(\"Cumulative Return\")\n",
    "    ax.legend()\n",
    "    ax.grid(True, alpha=0.3)\n",
    "    ax.axhline(y=0, color=\"black\", linestyle=\"--\", alpha=0.3)\n",
    "\n",
    "plt.tight_layout()\n",
    "plt.show()"
   ]
  },
  {
   "cell_type": "markdown",
   "metadata": {},
   "source": [
    "## 8. Intraday Data Example\n",
    "\n",
    "Fetch hourly data for SPY (limited to 60 days)."
   ]
  },
  {
   "cell_type": "code",
   "execution_count": null,
   "metadata": {},
   "outputs": [],
   "source": [
    "# Fetch recent hourly data (last 5 days)\n",
    "end_date_intraday = pd.Timestamp.now()\n",
    "start_date_intraday = end_date_intraday - pd.Timedelta(days=5)\n",
    "\n",
    "df_intraday = await adapter.fetch(\n",
    "    symbols=[\"SPY\"], start_date=start_date_intraday, end_date=end_date_intraday, resolution=\"1h\"\n",
    ")\n",
    "\n",
    "\n",
    "# Plot intraday prices\n",
    "intraday_pandas = df_intraday.to_pandas()\n",
    "\n",
    "fig, ax = plt.subplots(figsize=(12, 6))\n",
    "ax.plot(intraday_pandas[\"timestamp\"], intraday_pandas[\"close\"], linewidth=1.5)\n",
    "ax.set_title(\"SPY Hourly Prices (Last 5 Days)\", fontsize=14, fontweight=\"bold\")\n",
    "ax.set_xlabel(\"Date/Time\")\n",
    "ax.set_ylabel(\"Close Price (USD)\")\n",
    "ax.grid(True, alpha=0.3)\n",
    "plt.xticks(rotation=45)\n",
    "plt.tight_layout()\n",
    "plt.show()"
   ]
  },
  {
   "cell_type": "markdown",
   "metadata": {},
   "source": [
    "## Summary\n",
    "\n",
    "In this notebook, we demonstrated:\n",
    "\n",
    "1. ✅ Fetching stock/ETF data using YFinanceAdapter\n",
    "2. ✅ Handling dividend and split data\n",
    "3. ✅ Implementing a simple mean reversion strategy\n",
    "4. ✅ Analyzing performance metrics\n",
    "5. ✅ Fetching intraday data for shorter timeframes\n",
    "\n",
    "## Next Steps\n",
    "\n",
    "- Explore other data adapters (CCXT for crypto, CSV for custom data)\n",
    "- Implement more sophisticated strategies\n",
    "- Add transaction costs and slippage modeling\n",
    "- Integrate with RustyBT's backtesting engine for full strategy testing"
   ]
  }
 ],
 "metadata": {
  "kernelspec": {
   "display_name": "rustybt",
   "language": "python",
   "name": "python3"
  },
  "language_info": {
   "codemirror_mode": {
    "name": "ipython",
    "version": 3
   },
   "file_extension": ".py",
   "mimetype": "text/x-python",
   "name": "python",
   "nbconvert_exporter": "python",
   "pygments_lexer": "ipython3",
   "version": "3.13.1"
  }
 },
 "nbformat": 4,
 "nbformat_minor": 4
}
