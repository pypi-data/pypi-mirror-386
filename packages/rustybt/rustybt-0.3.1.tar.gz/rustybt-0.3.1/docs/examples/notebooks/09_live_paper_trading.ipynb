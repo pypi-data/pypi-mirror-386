{
 "cells": [
  {
   "cell_type": "markdown",
   "metadata": {},
   "source": [
    "# Live Paper Trading\n",
    "\n",
    "Test strategies in real-time with paper trading."
   ]
  },
  {
   "cell_type": "code",
   "execution_count": 1,
   "metadata": {
    "execution": {
     "iopub.execute_input": "2025-10-17T22:30:55.389032Z",
     "iopub.status.busy": "2025-10-17T22:30:55.388797Z",
     "iopub.status.idle": "2025-10-17T22:30:58.095948Z",
     "shell.execute_reply": "2025-10-17T22:30:58.095544Z"
    }
   },
   "outputs": [
    {
     "name": "stdout",
     "output_type": "stream",
     "text": [
      "✅ Notebook environment configured successfully\n",
      "   - Async/await support enabled\n",
      "   - Pandas display options optimized\n",
      "   - Progress bars configured\n"
     ]
    }
   ],
   "source": [
    "from rustybt.analytics import setup_notebook\n",
    "\n",
    "setup_notebook()"
   ]
  },
  {
   "cell_type": "markdown",
   "metadata": {},
   "source": [
    "## Paper Trading Setup"
   ]
  },
  {
   "cell_type": "code",
   "execution_count": 2,
   "metadata": {
    "execution": {
     "iopub.execute_input": "2025-10-17T22:30:58.121745Z",
     "iopub.status.busy": "2025-10-17T22:30:58.121383Z",
     "iopub.status.idle": "2025-10-17T22:31:00.173583Z",
     "shell.execute_reply": "2025-10-17T22:31:00.173229Z"
    }
   },
   "outputs": [
    {
     "name": "stdout",
     "output_type": "stream",
     "text": [
      "✓ Live trading strategy defined\n",
      "✓ To run live trading, set up a data portal and use the async pattern above\n"
     ]
    }
   ],
   "source": [
    "# Note: Live trading requires an async environment and proper data portal setup\n",
    "# This example shows the basic structure\n",
    "\n",
    "import asyncio\n",
    "from rustybt import TradingAlgorithm\n",
    "from rustybt.api import order, symbol, set_commission, set_slippage\n",
    "from rustybt.finance.commission import PerShare\n",
    "from rustybt.finance.slippage import VolumeShareSlippage\n",
    "from rustybt.live import LiveTradingEngine\n",
    "from rustybt.live.brokers import PaperBroker\n",
    "\n",
    "\n",
    "class SimpleMovingAverage(TradingAlgorithm):\n",
    "    \"\"\"Simple moving average strategy for live trading.\"\"\"\n",
    "    \n",
    "    def initialize(self, context) -> None:\n",
    "        \"\"\"Initialize strategy - runs once at start.\"\"\"\n",
    "        # Configure trading costs\n",
    "        set_commission(PerShare(cost=0.001, min_trade_cost=1.0))\n",
    "        set_slippage(VolumeShareSlippage(volume_limit=0.025, price_impact=0.1))\n",
    "        \n",
    "        # Set up strategy parameters\n",
    "        context.asset = symbol(\"SPY\")\n",
    "        context.window_size = 20\n",
    "        context.price_history = []\n",
    "        \n",
    "    def handle_data(self, context, data) -> None:\n",
    "        \"\"\"Called on each new bar of data.\"\"\"\n",
    "        # Get current price\n",
    "        price = data.current(context.asset, \"close\")\n",
    "        \n",
    "        # Update price history\n",
    "        context.price_history.append(price)\n",
    "        if len(context.price_history) > context.window_size:\n",
    "            context.price_history.pop(0)\n",
    "        \n",
    "        # Wait for enough history\n",
    "        if len(context.price_history) < context.window_size:\n",
    "            return\n",
    "        \n",
    "        # Calculate moving average\n",
    "        moving_avg = sum(context.price_history) / len(context.price_history)\n",
    "        \n",
    "        # Simple trading logic\n",
    "        current_position = context.portfolio.positions.get(context.asset, 0)\n",
    "        \n",
    "        if price > moving_avg and current_position == 0:\n",
    "            # Price above MA and no position - buy\n",
    "            cash = context.portfolio.cash\n",
    "            shares = int(cash * 0.95 / price)  # Use 95% of cash\n",
    "            if shares > 0:\n",
    "                order(context.asset, shares)\n",
    "                \n",
    "        elif price < moving_avg and current_position > 0:\n",
    "            # Price below MA and have position - sell\n",
    "            order(context.asset, -current_position)\n",
    "\n",
    "\n",
    "# Example: Initialize live trading engine\n",
    "# \n",
    "# Note: This requires proper setup of data_portal (data bundle) and async execution\n",
    "# In a real scenario, you would:\n",
    "#\n",
    "# 1. Create a data portal with your data bundle\n",
    "# 2. Initialize the paper broker\n",
    "# 3. Create the live trading engine\n",
    "# 4. Run the engine with asyncio\n",
    "#\n",
    "# Example code structure:\n",
    "#\n",
    "# async def run_live_trading():\n",
    "#     # Initialize components\n",
    "#     broker = PaperBroker(starting_cash=100000.0)\n",
    "#     \n",
    "#     # Create data portal (requires bundle setup - see 02_data_ingestion.ipynb)\n",
    "#     # from rustybt.data.polars_data_portal import PolarsDataPortal\n",
    "#     # data_portal = PolarsDataPortal(...)\n",
    "#     \n",
    "#     # Initialize engine\n",
    "#     # engine = LiveTradingEngine(\n",
    "#     #     strategy=SimpleMovingAverage(),\n",
    "#     #     broker_adapter=broker,\n",
    "#     #     data_portal=data_portal,\n",
    "#     # )\n",
    "#     \n",
    "#     # Start the engine\n",
    "#     # await engine.run()\n",
    "#\n",
    "# # Run in notebook (requires nest_asyncio for Jupyter)\n",
    "# # import nest_asyncio\n",
    "# # nest_asyncio.apply()\n",
    "# # asyncio.run(run_live_trading())\n",
    "\n",
    "print(\"✓ Live trading strategy defined\")\n",
    "print(\"✓ To run live trading, set up a data portal and use the async pattern above\")"
   ]
  }
 ],
 "metadata": {
  "kernelspec": {
   "display_name": "Python 3",
   "language": "python",
   "name": "python3"
  },
  "language_info": {
   "codemirror_mode": {
    "name": "ipython",
    "version": 3
   },
   "file_extension": ".py",
   "mimetype": "text/x-python",
   "name": "python",
   "nbconvert_exporter": "python",
   "pygments_lexer": "ipython3",
   "version": "3.12.0"
  }
 },
 "nbformat": 4,
 "nbformat_minor": 4
}
