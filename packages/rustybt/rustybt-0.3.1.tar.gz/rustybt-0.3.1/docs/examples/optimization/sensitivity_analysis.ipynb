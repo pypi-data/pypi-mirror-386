{
 "cells": [
  {
   "cell_type": "markdown",
   "id": "1",
   "metadata": {},
   "source": [
    "# Parameter Sensitivity and Stability Analysis\n",
    "\n",
    "This notebook demonstrates how to use `SensitivityAnalyzer` to:\n",
    "1. Identify robust vs. sensitive parameters\n",
    "2. Detect overfitting to specific parameter values\n",
    "3. Analyze parameter interactions\n",
    "4. Generate recommendations for robust parameter selection\n",
    "\n",
    "## Why Sensitivity Analysis?\n",
    "\n",
    "After finding \"optimal\" parameters through optimization, sensitivity analysis helps answer:\n",
    "- **Are these parameters robust?** (flat performance surface)\n",
    "- **Are we overfitting?** (sharp performance cliffs)\n",
    "- **Do parameters interact?** (optimize jointly vs. independently)\n",
    "- **What's a safe range?** (stable regions)\n"
   ]
  },
  {
   "cell_type": "code",
   "execution_count": null,
   "id": "2",
   "metadata": {},
   "outputs": [],
   "source": [
    "import matplotlib.pyplot as plt\n",
    "import numpy as np\n",
    "\n",
    "from rustybt.optimization import SensitivityAnalyzer\n",
    "\n",
    "%matplotlib inline\n",
    "plt.style.use(\"seaborn-v0_8-darkgrid\")"
   ]
  },
  {
   "cell_type": "markdown",
   "id": "3",
   "metadata": {},
   "source": [
    "## Example 1: Moving Average Crossover Strategy\n",
    "\n",
    "We'll analyze a simple moving average crossover strategy with two parameters:\n",
    "- `fast_period`: Fast MA period (days)\n",
    "- `slow_period`: Slow MA period (days)\n"
   ]
  },
  {
   "cell_type": "code",
   "execution_count": null,
   "id": "4",
   "metadata": {},
   "outputs": [],
   "source": [
    "def moving_average_strategy(params: dict[str, float]) -> float:\n",
    "    \"\"\"\n",
    "    Simulate backtest results for MA crossover strategy.\n",
    "\n",
    "    In practice, this would run a full backtest.\n",
    "    Here we use a synthetic function that mimics typical behavior:\n",
    "    - fast_period: Relatively robust (broad optimum)\n",
    "    - slow_period: Moderately sensitive (narrower optimum)\n",
    "    \"\"\"\n",
    "    fast = params[\"fast_period\"]\n",
    "    slow = params[\"slow_period\"]\n",
    "\n",
    "    # Simulate: optimal around fast=10, slow=50\n",
    "    # fast_period has gentle surface (robust)\n",
    "    fast_component = -0.001 * (fast - 10) ** 2\n",
    "\n",
    "    # slow_period has sharper surface (more sensitive)\n",
    "    slow_component = -0.005 * (slow - 50) ** 2\n",
    "\n",
    "    # Add some interaction\n",
    "    interaction = -0.0001 * (fast - 10) * (slow - 50)\n",
    "\n",
    "    # Simulate Sharpe ratio\n",
    "    sharpe = 1.5 + fast_component + slow_component + interaction\n",
    "\n",
    "    return sharpe\n",
    "\n",
    "\n",
    "# Test the objective function"
   ]
  },
  {
   "cell_type": "markdown",
   "id": "5",
   "metadata": {},
   "source": [
    "## Step 1: Initialize Sensitivity Analyzer\n",
    "\n",
    "We'll analyze sensitivity around the \"optimal\" parameters found by optimization.\n"
   ]
  },
  {
   "cell_type": "code",
   "execution_count": null,
   "id": "6",
   "metadata": {},
   "outputs": [],
   "source": [
    "# Suppose optimization found these \"optimal\" parameters\n",
    "base_params = {\n",
    "    \"fast_period\": 10.0,\n",
    "    \"slow_period\": 50.0,\n",
    "}\n",
    "\n",
    "# Initialize analyzer\n",
    "analyzer = SensitivityAnalyzer(\n",
    "    base_params=base_params,\n",
    "    n_points=30,  # Sample 30 points per parameter\n",
    "    perturbation_pct=0.5,  # Test ±50% around base\n",
    "    n_bootstrap=100,  # Bootstrap iterations for CI\n",
    "    interaction_threshold=0.05,  # Interaction detection threshold\n",
    "    random_seed=42,  # Reproducibility\n",
    ")"
   ]
  },
  {
   "cell_type": "markdown",
   "id": "7",
   "metadata": {},
   "source": [
    "## Step 2: Run Sensitivity Analysis\n",
    "\n",
    "Analyze each parameter independently (varying one while holding others constant).\n"
   ]
  },
  {
   "cell_type": "code",
   "execution_count": null,
   "id": "8",
   "metadata": {},
   "outputs": [],
   "source": [
    "# Perform sensitivity analysis\n",
    "results = analyzer.analyze(\n",
    "    objective=moving_average_strategy,\n",
    "    calculate_ci=True,  # Calculate confidence intervals\n",
    ")\n",
    "\n",
    "# Display results\n",
    "for _param_name, result in results.items():\n",
    "    if result.confidence_lower and result.confidence_upper:\n",
    "        pass"
   ]
  },
  {
   "cell_type": "markdown",
   "id": "9",
   "metadata": {},
   "source": [
    "## Step 3: Visualize Sensitivity Curves\n",
    "\n",
    "1D plots show how performance varies with each parameter.\n",
    "\n",
    "**Interpretation:**\n",
    "- **Flat line** → Robust parameter (performance insensitive to changes)\n",
    "- **Steep slope** → Sensitive parameter (small change = big impact)\n",
    "- **Cliff edge** → Overfit risk (optimal on unstable boundary)\n"
   ]
  },
  {
   "cell_type": "code",
   "execution_count": null,
   "id": "10",
   "metadata": {},
   "outputs": [],
   "source": [
    "# Plot fast_period sensitivity\n",
    "fig1 = analyzer.plot_sensitivity(\"fast_period\", show_ci=True)\n",
    "plt.show()\n",
    "\n",
    "# Plot slow_period sensitivity\n",
    "fig2 = analyzer.plot_sensitivity(\"slow_period\", show_ci=True)\n",
    "plt.show()"
   ]
  },
  {
   "cell_type": "markdown",
   "id": "11",
   "metadata": {},
   "source": [
    "## Step 4: Analyze Parameter Interactions\n",
    "\n",
    "Do parameters interact? (Does optimizing one depend on the value of the other?)\n",
    "\n",
    "**Interpretation:**\n",
    "- **Diagonal bands** → Interaction present (optimize jointly)\n",
    "- **Horizontal/vertical bands** → No interaction (optimize independently)\n"
   ]
  },
  {
   "cell_type": "code",
   "execution_count": null,
   "id": "12",
   "metadata": {},
   "outputs": [],
   "source": [
    "# Analyze interaction between fast_period and slow_period\n",
    "interaction = analyzer.analyze_interaction(\n",
    "    param1=\"fast_period\",\n",
    "    param2=\"slow_period\",\n",
    "    objective=moving_average_strategy,\n",
    ")\n",
    "\n",
    "\n",
    "if interaction.has_interaction:\n",
    "    pass\n",
    "else:\n",
    "    pass\n",
    "\n",
    "# Plot interaction heatmap\n",
    "fig3 = analyzer.plot_interaction(\"fast_period\", \"slow_period\")\n",
    "plt.show()"
   ]
  },
  {
   "cell_type": "markdown",
   "id": "13",
   "metadata": {},
   "source": [
    "## Step 5: Generate Analysis Report\n",
    "\n",
    "Get a comprehensive markdown report with recommendations.\n"
   ]
  },
  {
   "cell_type": "code",
   "execution_count": null,
   "id": "14",
   "metadata": {},
   "outputs": [],
   "source": [
    "report = analyzer.generate_report()"
   ]
  },
  {
   "cell_type": "markdown",
   "id": "15",
   "metadata": {},
   "source": [
    "## Example 2: Identifying Overfitting\n",
    "\n",
    "Let's create a scenario with an overfit parameter (sharp peak).\n"
   ]
  },
  {
   "cell_type": "code",
   "execution_count": null,
   "id": "16",
   "metadata": {},
   "outputs": [],
   "source": [
    "def overfit_strategy(params: dict[str, float]) -> float:\n",
    "    \"\"\"Strategy with one robust and one overfit parameter.\"\"\"\n",
    "    robust_param = params[\"robust\"]\n",
    "    overfit_param = params[\"overfit\"]\n",
    "\n",
    "    # Robust: gentle quadratic\n",
    "    robust_component = -0.01 * (robust_param - 20) ** 2\n",
    "\n",
    "    # Overfit: sharp Gaussian peak\n",
    "    overfit_component = -np.exp(-50 * (overfit_param - 0.05) ** 2)\n",
    "\n",
    "    return 1.0 + robust_component + overfit_component\n",
    "\n",
    "\n",
    "# Analyze\n",
    "overfit_analyzer = SensitivityAnalyzer(\n",
    "    base_params={\"robust\": 20.0, \"overfit\": 0.05},\n",
    "    n_points=30,\n",
    "    random_seed=42,\n",
    ")\n",
    "\n",
    "overfit_results = overfit_analyzer.analyze(\n",
    "    objective=overfit_strategy,\n",
    "    param_ranges={\"robust\": (10, 30), \"overfit\": (0.01, 0.10)},\n",
    "    calculate_ci=False,\n",
    ")\n",
    "\n",
    "# Compare stability scores\n",
    "for _param, result in overfit_results.items():\n",
    "    pass\n",
    "\n",
    "# Visualize\n",
    "fig4 = overfit_analyzer.plot_sensitivity(\"robust\")\n",
    "plt.title(\"Robust Parameter (Stable)\")\n",
    "plt.show()\n",
    "\n",
    "fig5 = overfit_analyzer.plot_sensitivity(\"overfit\")\n",
    "plt.title(\"Overfit Parameter (Sensitive - Sharp Peak)\")\n",
    "plt.show()\n",
    "\n",
    "# Generate report\n",
    "overfit_report = overfit_analyzer.generate_report()"
   ]
  },
  {
   "cell_type": "markdown",
   "id": "17",
   "metadata": {},
   "source": [
    "## Key Takeaways\n",
    "\n",
    "### Interpreting Stability Scores\n",
    "\n",
    "| Score Range | Classification | Interpretation |\n",
    "|-------------|----------------|----------------|\n",
    "| > 0.8       | **Robust**     | Safe to use, performance stable across range |\n",
    "| 0.5 - 0.8   | **Moderate**   | Use with caution, monitor if parameter changes |\n",
    "| < 0.5       | **Sensitive**  | Overfit risk, consider alternatives |\n",
    "\n",
    "### Overfitting Red Flags\n",
    "\n",
    "1. **Low stability score** (< 0.5)\n",
    "2. **Sharp performance cliff** near optimal\n",
    "3. **High variance** across parameter range\n",
    "4. **Steep gradient** (rapid performance change)\n",
    "\n",
    "### Recommended Workflow\n",
    "\n",
    "```python\n",
    "# 1. Optimize parameters\n",
    "optimal_params = optimizer.optimize(objective, param_space)\n",
    "\n",
    "# 2. Validate with sensitivity analysis\n",
    "analyzer = SensitivityAnalyzer(base_params=optimal_params)\n",
    "results = analyzer.analyze(objective)\n",
    "\n",
    "# 3. Check for overfitting\n",
    "sensitive_params = [\n",
    "    name for name, r in results.items() \n",
    "    if r.classification == 'sensitive'\n",
    "]\n",
    "\n",
    "if sensitive_params:\n",
    "    print(f\"⚠ Warning: Sensitive parameters: {sensitive_params}\")\n",
    "    # Consider:\n",
    "    # - Using parameters from stable region\n",
    "    # - Widening search space\n",
    "    # - Walk-forward validation\n",
    "\n",
    "# 4. Analyze interactions\n",
    "for p1, p2 in combinations(optimal_params.keys(), 2):\n",
    "    interaction = analyzer.analyze_interaction(p1, p2, objective)\n",
    "    if interaction.has_interaction:\n",
    "        print(f\"Optimize {p1} and {p2} jointly\")\n",
    "```\n"
   ]
  },
  {
   "cell_type": "markdown",
   "id": "18",
   "metadata": {},
   "source": [
    "## Save Report and Plots\n",
    "\n",
    "Export results for documentation.\n"
   ]
  },
  {
   "cell_type": "code",
   "execution_count": null,
   "id": "19",
   "metadata": {},
   "outputs": [],
   "source": [
    "from pathlib import Path\n",
    "\n",
    "# Create output directory\n",
    "output_dir = Path(\"sensitivity_analysis_results\")\n",
    "output_dir.mkdir(exist_ok=True)\n",
    "\n",
    "# Save report\n",
    "report_path = output_dir / \"sensitivity_report.md\"\n",
    "with open(report_path, \"w\") as f:\n",
    "    f.write(report)\n",
    "\n",
    "# Save plots\n",
    "analyzer.plot_sensitivity(\"fast_period\", output_path=output_dir / \"fast_period.png\")\n",
    "analyzer.plot_sensitivity(\"slow_period\", output_path=output_dir / \"slow_period.png\")\n",
    "analyzer.plot_interaction(\"fast_period\", \"slow_period\", output_path=output_dir / \"interaction.png\")"
   ]
  }
 ],
 "metadata": {
  "kernelspec": {
   "display_name": "Python 3",
   "language": "python",
   "name": "python3"
  },
  "language_info": {
   "codemirror_mode": {
    "name": "ipython",
    "version": 3
   },
   "file_extension": ".py",
   "mimetype": "text/x-python",
   "name": "python",
   "nbconvert_exporter": "python",
   "pygments_lexer": "ipython3",
   "version": "3.12.0"
  }
 },
 "nbformat": 4,
 "nbformat_minor": 5
}
