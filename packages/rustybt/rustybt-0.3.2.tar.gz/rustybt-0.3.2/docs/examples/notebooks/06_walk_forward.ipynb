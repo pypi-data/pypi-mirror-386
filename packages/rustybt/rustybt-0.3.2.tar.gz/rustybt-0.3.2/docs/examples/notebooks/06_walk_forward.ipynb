{
 "cells": [
  {
   "cell_type": "markdown",
   "metadata": {},
   "source": [
    "# Walk-Forward Optimization\n",
    "\n",
    "Validate strategy robustness using walk-forward analysis."
   ]
  },
  {
   "cell_type": "code",
   "execution_count": 1,
   "metadata": {
    "execution": {
     "iopub.execute_input": "2025-10-17T22:30:49.031328Z",
     "iopub.status.busy": "2025-10-17T22:30:49.031167Z",
     "iopub.status.idle": "2025-10-17T22:30:51.774356Z",
     "shell.execute_reply": "2025-10-17T22:30:51.773949Z"
    }
   },
   "outputs": [
    {
     "name": "stdout",
     "output_type": "stream",
     "text": [
      "✅ Notebook environment configured successfully\n",
      "   - Async/await support enabled\n",
      "   - Pandas display options optimized\n",
      "   - Progress bars configured\n"
     ]
    }
   ],
   "source": [
    "from rustybt.analytics import setup_notebook\n",
    "\n",
    "setup_notebook()"
   ]
  },
  {
   "cell_type": "markdown",
   "metadata": {},
   "source": [
    "## Walk-Forward Testing\n",
    "\n",
    "Prevents overfitting by testing on unseen data."
   ]
  },
  {
   "cell_type": "code",
   "execution_count": 2,
   "metadata": {
    "execution": {
     "iopub.execute_input": "2025-10-17T22:30:51.798143Z",
     "iopub.status.busy": "2025-10-17T22:30:51.797803Z",
     "iopub.status.idle": "2025-10-17T22:30:52.438602Z",
     "shell.execute_reply": "2025-10-17T22:30:52.438235Z"
    }
   },
   "outputs": [],
   "source": [
    "# Example: Walk-forward optimization\n",
    "import numpy as np\n",
    "import polars as pl\n",
    "from rustybt.optimization import (\n",
    "    WalkForwardOptimizer,\n",
    "    WindowConfig,\n",
    "    ParameterSpace,\n",
    "    DiscreteParameter,\n",
    "    ObjectiveFunction,\n",
    ")\n",
    "from rustybt.optimization.search import GridSearchAlgorithm\n",
    "\n",
    "# Define parameter space\n",
    "param_space = ParameterSpace(\n",
    "    parameters=[\n",
    "        DiscreteParameter(name='fast_period', min_value=10, max_value=30, step=10),\n",
    "        DiscreteParameter(name='slow_period', min_value=50, max_value=100, step=25),\n",
    "    ]\n",
    ")\n",
    "\n",
    "# Configure walk-forward windows\n",
    "# Train on 250 days, validate on 50 days, test on 50 days\n",
    "# Advance by 50 days each iteration\n",
    "config = WindowConfig(\n",
    "    train_period=250,\n",
    "    validation_period=50,\n",
    "    test_period=50,\n",
    "    step_size=50,\n",
    "    window_type='rolling',  # or 'expanding' for growing training window\n",
    ")\n",
    "\n",
    "# Define backtest function that accepts parameters and data\n",
    "def backtest_with_data(params, data):\n",
    "    \"\"\"\n",
    "    Run backtest with given parameters on specific data window.\n",
    "    \n",
    "    Args:\n",
    "        params: Dictionary of strategy parameters\n",
    "        data: Polars DataFrame with market data for this window\n",
    "        \n",
    "    Returns:\n",
    "        Dictionary with metrics (must include objective metric)\n",
    "    \"\"\"\n",
    "    # Example: Run your strategy on the data window\n",
    "    # results = run_algorithm(\n",
    "    #     start=data['date'].min(),\n",
    "    #     end=data['date'].max(),\n",
    "    #     initialize=lambda context: MyStrategy().initialize(\n",
    "    #         context,\n",
    "    #         fast_period=params['fast_period'],\n",
    "    #         slow_period=params['slow_period']\n",
    "    #     ),\n",
    "    #     handle_data=MyStrategy().handle_data,\n",
    "    #     capital_base=100000.0,\n",
    "    #     bundle='custom',  # Use data from the window\n",
    "    # )\n",
    "    # return {'sharpe_ratio': results['sharpe'].iloc[-1]}\n",
    "    \n",
    "    # Placeholder return for demonstration\n",
    "    return {\n",
    "        'sharpe_ratio': np.random.uniform(0.5, 2.0),\n",
    "        'total_return': np.random.uniform(0.1, 0.5),\n",
    "    }\n",
    "\n",
    "# Create walk-forward optimizer\n",
    "wf_optimizer = WalkForwardOptimizer(\n",
    "    parameter_space=param_space,\n",
    "    search_algorithm_factory=lambda: GridSearchAlgorithm(parameter_space=param_space),\n",
    "    objective_function=ObjectiveFunction(metric=\"sharpe_ratio\"),\n",
    "    backtest_function=backtest_with_data,\n",
    "    config=config,\n",
    "    max_trials_per_window=12,  # Run 12 trials per training window\n",
    ")\n",
    "\n",
    "# Prepare historical data as Polars DataFrame\n",
    "# In practice, this would be your actual market data\n",
    "# Example structure:\n",
    "# market_data = pl.DataFrame({\n",
    "#     'date': [...],\n",
    "#     'symbol': [...],\n",
    "#     'open': [...],\n",
    "#     'high': [...],\n",
    "#     'low': [...],\n",
    "#     'close': [...],\n",
    "#     'volume': [...],\n",
    "# })\n",
    "\n",
    "# Run walk-forward optimization\n",
    "# wf_result = wf_optimizer.run(market_data)\n",
    "\n",
    "# Analyze results\n",
    "# print(f\"Number of windows tested: {len(wf_result.window_results)}\")\n",
    "# print(f\"Average out-of-sample Sharpe: {wf_result.out_of_sample_sharpe:.2f}\")\n",
    "# print(f\"Stability score: {wf_result.stability_score:.2f}\")\n",
    "\n",
    "# Access results per window\n",
    "# for i, window_result in enumerate(wf_result.window_results):\n",
    "#     print(f\"\\nWindow {i+1}:\")\n",
    "#     print(f\"  Best in-sample params: {window_result.best_in_sample_params}\")\n",
    "#     print(f\"  In-sample Sharpe: {window_result.in_sample_score:.2f}\")\n",
    "#     print(f\"  Out-of-sample Sharpe: {window_result.out_of_sample_score:.2f}\")"
   ]
  }
 ],
 "metadata": {
  "kernelspec": {
   "display_name": "Python 3",
   "language": "python",
   "name": "python3"
  },
  "language_info": {
   "codemirror_mode": {
    "name": "ipython",
    "version": 3
   },
   "file_extension": ".py",
   "mimetype": "text/x-python",
   "name": "python",
   "nbconvert_exporter": "python",
   "pygments_lexer": "ipython3",
   "version": "3.12.0"
  }
 },
 "nbformat": 4,
 "nbformat_minor": 4
}
