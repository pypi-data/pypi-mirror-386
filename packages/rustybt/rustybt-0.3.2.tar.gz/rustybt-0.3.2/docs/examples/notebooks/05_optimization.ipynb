{
 "cells": [
  {
   "cell_type": "markdown",
   "metadata": {},
   "source": [
    "# Strategy Optimization\n",
    "\n",
    "Find optimal parameters using grid search and Bayesian optimization."
   ]
  },
  {
   "cell_type": "code",
   "execution_count": 1,
   "metadata": {
    "execution": {
     "iopub.execute_input": "2025-10-17T22:30:37.440968Z",
     "iopub.status.busy": "2025-10-17T22:30:37.440712Z",
     "iopub.status.idle": "2025-10-17T22:30:40.229388Z",
     "shell.execute_reply": "2025-10-17T22:30:40.217820Z"
    }
   },
   "outputs": [
    {
     "name": "stdout",
     "output_type": "stream",
     "text": [
      "✅ Notebook environment configured successfully\n",
      "   - Async/await support enabled\n",
      "   - Pandas display options optimized\n",
      "   - Progress bars configured\n"
     ]
    }
   ],
   "source": [
    "from rustybt.analytics import setup_notebook\n",
    "\n",
    "setup_notebook()"
   ]
  },
  {
   "cell_type": "markdown",
   "metadata": {},
   "source": [
    "## Grid Search Example"
   ]
  },
  {
   "cell_type": "code",
   "execution_count": 2,
   "metadata": {
    "execution": {
     "iopub.execute_input": "2025-10-17T22:30:40.252498Z",
     "iopub.status.busy": "2025-10-17T22:30:40.251704Z",
     "iopub.status.idle": "2025-10-17T22:30:40.969646Z",
     "shell.execute_reply": "2025-10-17T22:30:40.969173Z"
    }
   },
   "outputs": [],
   "source": [
    "# Example: Grid search optimization\n",
    "import numpy as np\n",
    "from rustybt.optimization import (\n",
    "    Optimizer,\n",
    "    ParameterSpace,\n",
    "    DiscreteParameter,\n",
    "    ObjectiveFunction,\n",
    ")\n",
    "from rustybt.optimization.search import GridSearchAlgorithm\n",
    "\n",
    "# Define parameter space\n",
    "param_space = ParameterSpace(\n",
    "    parameters=[\n",
    "        DiscreteParameter(name='fast_period', min_value=10, max_value=30, step=10),\n",
    "        DiscreteParameter(name='slow_period', min_value=50, max_value=100, step=25),\n",
    "    ]\n",
    ")\n",
    "\n",
    "# Define backtest function\n",
    "# This should run your strategy with the given parameters and return results\n",
    "def backtest_with_params(params):\n",
    "    \"\"\"\n",
    "    Run backtest with given parameters.\n",
    "    \n",
    "    Returns a dict with at least 'sharpe_ratio' key.\n",
    "    In practice, this would call run_algorithm() with your strategy.\n",
    "    \"\"\"\n",
    "    # Example: return results from run_algorithm()\n",
    "    # results = run_algorithm(\n",
    "    #     start=pd.Timestamp('2020-01-01', tz='utc'),\n",
    "    #     end=pd.Timestamp('2023-12-31', tz='utc'),\n",
    "    #     initialize=lambda context: MyStrategy().initialize(\n",
    "    #         context, \n",
    "    #         fast_period=params['fast_period'],\n",
    "    #         slow_period=params['slow_period']\n",
    "    #     ),\n",
    "    #     handle_data=MyStrategy().handle_data,\n",
    "    #     capital_base=100000.0,\n",
    "    #     bundle='yfinance',\n",
    "    # )\n",
    "    # return {'sharpe_ratio': results['sharpe'].iloc[-1]}\n",
    "    \n",
    "    # Placeholder return for demonstration\n",
    "    return {\n",
    "        'sharpe_ratio': np.random.uniform(0.5, 2.0),\n",
    "        'total_return': np.random.uniform(0.1, 0.5),\n",
    "        'max_drawdown': np.random.uniform(-0.3, -0.1),\n",
    "    }\n",
    "\n",
    "# Create optimizer\n",
    "search_algo = GridSearchAlgorithm(parameter_space=param_space)\n",
    "objective = ObjectiveFunction(metric=\"sharpe_ratio\")\n",
    "\n",
    "optimizer = Optimizer(\n",
    "    parameter_space=param_space,\n",
    "    search_algorithm=search_algo,\n",
    "    objective_function=objective,\n",
    "    backtest_function=backtest_with_params,\n",
    "    max_trials=12,  # 3 fast_period values * 4 slow_period values\n",
    ")\n",
    "\n",
    "# Run optimization\n",
    "# best_result = optimizer.optimize()\n",
    "# print(f\"Best parameters: {best_result.parameters}\")\n",
    "# print(f\"Best Sharpe ratio: {best_result.score}\")"
   ]
  }
 ],
 "metadata": {
  "kernelspec": {
   "display_name": "Python 3",
   "language": "python",
   "name": "python3"
  },
  "language_info": {
   "codemirror_mode": {
    "name": "ipython",
    "version": 3
   },
   "file_extension": ".py",
   "mimetype": "text/x-python",
   "name": "python",
   "nbconvert_exporter": "python",
   "pygments_lexer": "ipython3",
   "version": "3.12.0"
  }
 },
 "nbformat": 4,
 "nbformat_minor": 4
}
