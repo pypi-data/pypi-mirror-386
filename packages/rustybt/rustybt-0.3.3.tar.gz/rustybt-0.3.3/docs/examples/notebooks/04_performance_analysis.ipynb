{
 "cells": [
  {
   "cell_type": "markdown",
   "metadata": {},
   "source": [
    "# Performance Analysis\n",
    "\n",
    "Deep dive into backtest performance metrics and visualizations."
   ]
  },
  {
   "cell_type": "code",
   "execution_count": 1,
   "metadata": {
    "execution": {
     "iopub.execute_input": "2025-10-17T22:30:27.666533Z",
     "iopub.status.busy": "2025-10-17T22:30:27.666341Z",
     "iopub.status.idle": "2025-10-17T22:30:30.421509Z",
     "shell.execute_reply": "2025-10-17T22:30:30.420989Z"
    }
   },
   "outputs": [
    {
     "name": "stdout",
     "output_type": "stream",
     "text": [
      "✅ Notebook environment configured successfully\n",
      "   - Async/await support enabled\n",
      "   - Pandas display options optimized\n",
      "   - Progress bars configured\n"
     ]
    }
   ],
   "source": [
    "from rustybt.analytics import setup_notebook\n",
    "\n",
    "setup_notebook()"
   ]
  },
  {
   "cell_type": "markdown",
   "metadata": {},
   "source": [
    "## Visualizations\n",
    "\n",
    "All visualizations support:\n",
    "- Interactive hover tooltips\n",
    "- Zoom and pan\n",
    "- Light/dark themes\n",
    "- Export to HTML/PNG"
   ]
  },
  {
   "cell_type": "code",
   "execution_count": 2,
   "metadata": {
    "execution": {
     "iopub.execute_input": "2025-10-17T22:30:30.447670Z",
     "iopub.status.busy": "2025-10-17T22:30:30.447220Z",
     "iopub.status.idle": "2025-10-17T22:30:30.470649Z",
     "shell.execute_reply": "2025-10-17T22:30:30.470301Z"
    }
   },
   "outputs": [],
   "source": [
    "# Example: Visualize backtest results\n",
    "# After running a backtest with run_algorithm(), you can visualize the results\n",
    "\n",
    "from rustybt.analytics import (\n",
    "    plot_equity_curve,\n",
    "    plot_returns_distribution,\n",
    "    plot_rolling_metrics,\n",
    "    plot_drawdown,\n",
    ")\n",
    "\n",
    "# Assuming you have 'results' from a backtest:\n",
    "# results = run_algorithm(...)\n",
    "\n",
    "# Interactive equity curve with drawdown overlay\n",
    "# fig = plot_equity_curve(results, show_drawdown=True, theme='dark')\n",
    "# fig.show()\n",
    "\n",
    "# Returns distribution with statistics\n",
    "# fig = plot_returns_distribution(results)\n",
    "# fig.show()\n",
    "\n",
    "# Rolling Sharpe and volatility (60-day window)\n",
    "# fig = plot_rolling_metrics(results, window=60)\n",
    "# fig.show()\n",
    "\n",
    "# Drawdown analysis\n",
    "# fig = plot_drawdown(results)\n",
    "# fig.show()\n",
    "\n",
    "# Export visualizations\n",
    "# fig.write_html('equity_curve.html')\n",
    "# fig.write_image('equity_curve.png', width=1200, height=800)"
   ]
  }
 ],
 "metadata": {
  "kernelspec": {
   "display_name": "Python 3",
   "language": "python",
   "name": "python3"
  },
  "language_info": {
   "codemirror_mode": {
    "name": "ipython",
    "version": 3
   },
   "file_extension": ".py",
   "mimetype": "text/x-python",
   "name": "python",
   "nbconvert_exporter": "python",
   "pygments_lexer": "ipython3",
   "version": "3.12.0"
  }
 },
 "nbformat": 4,
 "nbformat_minor": 4
}
