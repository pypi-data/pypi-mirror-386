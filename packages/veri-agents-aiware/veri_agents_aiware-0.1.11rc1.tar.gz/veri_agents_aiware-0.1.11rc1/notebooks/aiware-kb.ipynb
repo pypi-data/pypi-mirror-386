{
 "cells": [
  {
   "cell_type": "code",
   "execution_count": 1,
   "id": "7155715d",
   "metadata": {},
   "outputs": [
    {
     "name": "stdout",
     "output_type": "stream",
     "text": [
      "\u001b[2mUsing Python 3.12.9 environment at: /Users/tboley/Git/agents/.venv\u001b[0m\n",
      "\u001b[2mAudited \u001b[1m3 packages\u001b[0m \u001b[2min 33ms\u001b[0m\u001b[0m\n"
     ]
    },
    {
     "name": "stderr",
     "output_type": "stream",
     "text": [
      "/Users/tboley/Git/agents/.venv/lib/python3.12/site-packages/tqdm/auto.py:21: TqdmWarning: IProgress not found. Please update jupyter and ipywidgets. See https://ipywidgets.readthedocs.io/en/stable/user_install.html\n",
      "  from .autonotebook import tqdm as notebook_tqdm\n",
      "/Users/tboley/.cache/huggingface/modules/transformers_modules/nomic-ai/nomic-bert-2048/7710840340a098cfb869c4f65e87cf2b1b70caca/modeling_hf_nomic_bert.py:1634: UserWarning: Install Nomic's megablocks fork for better speed: `pip install git+https://github.com/nomic-ai/megablocks.git`\n",
      "  warnings.warn(\"Install Nomic's megablocks fork for better speed: \" +\n"
     ]
    }
   ],
   "source": [
    "!uv pip install langchain-huggingface einops sentence_transformers\n",
    "\n",
    "from langchain_huggingface import HuggingFaceEmbeddings\n",
    "\n",
    "embedding_model_name = \"nomic-ai/nomic-embed-text-v2-moe\"\n",
    "embedding_model=HuggingFaceEmbeddings(model_name=\"nomic-ai/nomic-embed-text-v2-moe\", model_kwargs={ \"trust_remote_code\": True, \"truncate_dim\": 512 })"
   ]
  },
  {
   "cell_type": "code",
   "execution_count": null,
   "id": "c1de209f",
   "metadata": {},
   "outputs": [
    {
     "data": {
      "text/plain": [
       "[AiwareKnowledgebaseQuery(name='aiware_kb_retrieve_Policies_All', description='Searches for documents in the \"Policies: All\" knowledgebase.', knowledgebase=Knowledgebase(name=Policies: All, description=None, tags={}), name_suffix='_Policies: All'),\n",
       " AiwareKnowledgebaseListDocuments(name='aiware_kb_list_documents_Policies_All', description='Lists the documents in the \"Policies: All\" knowledgebase.', knowledgebase=Knowledgebase(name=Policies: All, description=None, tags={}), name_suffix='_Policies: All')]"
      ]
     },
     "execution_count": 2,
     "metadata": {},
     "output_type": "execute_result"
    }
   ],
   "source": [
    "import logging\n",
    "from aiware.common.auth import TokenAuth, AiwareApiKey\n",
    "from veri_agents_aiware.aiware_client.client import AgentsAiware\n",
    "from veri_agents_aiware.knowledgebase import AiwareKnowledgebase\n",
    "from veri_agents_knowledgebase.knowledgebase import KnowledgeFilter\n",
    "\n",
    "# logging.basicConfig(level=logging.DEBUG)\n",
    "\n",
    "auth_token = AiwareApiKey(\"\")\n",
    "\n",
    "kb = AiwareKnowledgebase(\n",
    "    name=\"Policies: All\",\n",
    "    aiware=AgentsAiware(base_url=\"https://api.aisglabs1.aiware.run\", auth=TokenAuth(auth_token)),\n",
    "    embedding_model_name=embedding_model_name,\n",
    "    embedding_model=embedding_model,\n",
    "    filter=KnowledgeFilter(\n",
    "        docs=[\"3740000016\"]\n",
    "    )\n",
    ")\n",
    "\n",
    "# kb.retrieve(\n",
    "#     query=\"suspect\",\n",
    "#     limit=4\n",
    "# )\n",
    "\n",
    "kb.get_tools()\n",
    "\n",
    "# list(kb.get_documents())"
   ]
  }
 ],
 "metadata": {
  "kernelspec": {
   "display_name": "veri-agents (3.12.11)",
   "language": "python",
   "name": "python3"
  },
  "language_info": {
   "codemirror_mode": {
    "name": "ipython",
    "version": 3
   },
   "file_extension": ".py",
   "mimetype": "text/x-python",
   "name": "python",
   "nbconvert_exporter": "python",
   "pygments_lexer": "ipython3",
   "version": "3.12.11"
  }
 },
 "nbformat": 4,
 "nbformat_minor": 5
}
