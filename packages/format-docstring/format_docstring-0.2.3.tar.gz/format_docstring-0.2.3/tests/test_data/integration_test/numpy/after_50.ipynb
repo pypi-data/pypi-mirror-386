{
 "cells": [
  {
   "cell_type": "markdown",
   "metadata": {},
   "source": [
    "# Integration Notebook for NumPy Style\n",
    "This notebook is used to test formatting.\n"
   ]
  },
  {
   "cell_type": "code",
   "execution_count": null,
   "metadata": {},
   "outputs": [],
   "source": [
    "class Alpha:\n",
    "    \"\"\"\n",
    "    Class Alpha performs an operation with a very\n",
    "    long explanation meant to exceed the\n",
    "    configured line length so that we can verify\n",
    "    wrapping and indentation handling even when\n",
    "    the docstring does not begin with a newline\n",
    "    before the first word.\n",
    "    \"\"\"\n",
    "\n",
    "    CONSTANT_WITH_LONG_VALUE = \"THIS_IS_A_LONG_CONSTANT_VALUE_THAT_SHOULD_NOT_BE_TOUCHED_BY_THE_FORMATTER_EVEN_IF_IT_IS_VERY_LONG\"\n",
    "\n",
    "    def method(self, x, y):\n",
    "        \"\"\"\n",
    "        This method processes the inputs x and y\n",
    "        and returns a computed result while\n",
    "        demonstrating that long lines in\n",
    "        docstrings wrap correctly and that the\n",
    "        closing quotes align on their own line.\n",
    "        \"\"\"\n",
    "        # A very long code line that should not be reformatted by this tool\n",
    "        some_really_long_variable_name = x + y + 1000000000000000000000000000000000000000000000000000000  # noqa: E501\n",
    "        return some_really_long_variable_name\n",
    "\n",
    ""
   ]
  },
  {
   "cell_type": "markdown",
   "metadata": {},
   "source": [
    "## Beta Function\n",
    "This cell defines the beta function.\n"
   ]
  },
  {
   "cell_type": "code",
   "execution_count": null,
   "metadata": {},
   "outputs": [],
   "source": [
    "def beta(a, b):\n",
    "    \"\"\"\n",
    "    This is a function with a long one-line\n",
    "    docstring that intentionally exceeds the\n",
    "    maximum line length to ensure wrapping occurs\n",
    "    and that a leading newline is inserted when\n",
    "    needed.\n",
    "    \"\"\"\n",
    "    # Another long code line to ensure non-docstring parts are unchanged and definitely far beyond seventy-nine characters to validate we do not touch it\n",
    "    return (a * b) + (a ** b) + (a - b) + (a / (b if b else 1)) + 12345678901234567890  # noqa: E501\n",
    "\n",
    ""
   ]
  },
  {
   "cell_type": "markdown",
   "metadata": {},
   "source": [
    "### Gamma\n",
    "A trivial function for testing.\n"
   ]
  },
  {
   "cell_type": "code",
   "execution_count": null,
   "metadata": {},
   "outputs": [],
   "source": [
    "def gamma():\n",
    "    \"\"\"\n",
    "    This function starts with a newline and\n",
    "    contains a very long line intended to be\n",
    "    wrapped across multiple lines while preserving\n",
    "    indentation and moving the closing quotes to\n",
    "    their own properly indented line.\n",
    "    \"\"\"\n",
    "    return None\n",
    "\n",
    ""
   ]
  }
 ],
 "metadata": {},
 "nbformat": 4,
 "nbformat_minor": 5
}
