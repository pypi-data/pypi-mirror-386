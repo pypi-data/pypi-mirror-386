{
 "cells": [
  {
   "cell_type": "markdown",
   "id": "928e44f7-b11c-4392-bb4f-832ea77f3855",
   "metadata": {
    "tags": []
   },
   "source": [
    "# asf_search - Baseline Search\n",
    "`asf_search` provides several search-oriented functions, including ways to find baseline stacks, such as for InSAR work. There are two main approaches to creating a baseline stack, detailed below.\n",
    "***\n",
    "## Before You Start\n",
    "The steps outlined in this demonstration assume `asf_search` is available in your environment. For guidance on installing `asf_search`, [begin here](./1-Basic_Overview.ipynb#Before-You-Start)."
   ]
  },
  {
   "cell_type": "markdown",
   "id": "43588eb5-1dfc-4e82-8503-940bbbaffbb6",
   "metadata": {
    "tags": []
   },
   "source": [
    "***\n",
    "## Building a Stack from an `ASFProduct`\n",
    "[View this search in Vertex](https://search.asf.alaska.edu/#/?resultsLoaded=true&zoom=7.220&center=-73.969,39.213&searchType=Baseline%20Search&master=S1A_IW_SLC__1SDV_20220215T225119_20220215T225146_041930_04FE2E_9252&temporal=-2533to0&perp=-153to98)\n",
    "\n",
    "The most typical use case when building a baseline stack using `asf_search` is that the user has performed a search according to some criteria, and then wishes to build a baseline stack or stacks based on those results. In order to build a stack from an ASFProduct, the first required step is to perform some other sort of search. For a trivial example, we will simply perform a product search:\n"
   ]
  },
  {
   "cell_type": "code",
   "execution_count": null,
   "id": "52144455-af61-4f36-b35b-57a04683ebb1",
   "metadata": {
    "scrolled": true,
    "tags": []
   },
   "outputs": [],
   "source": [
    "import asf_search as asf\n",
    "\n",
    "results = asf.product_search('S1A_IW_SLC__1SDV_20220215T225119_20220215T225146_041930_04FE2E_9252-SLC')\n",
    "\n",
    "reference = results[0]\n",
    "\n",
    "print(reference)"
   ]
  },
  {
   "cell_type": "markdown",
   "id": "43f1d561-c88f-435a-ac64-d691c8fb7e76",
   "metadata": {},
   "source": [
    "Given those results, we can simply call a specific `ASFProduct`'s `stack()` method, which internally builds the required parameters by which to identify products in the stack, and then performs a query based on those parameters, returning the stack in the form of another `ASFSearchResults` object. Here we will create a stack from the first (and in this case, only) result from our initial search:"
   ]
  },
  {
   "cell_type": "code",
   "execution_count": null,
   "id": "4dd4ec77-6e5f-4d5e-8253-719a4152285e",
   "metadata": {},
   "outputs": [],
   "source": [
    "stack = reference.stack()\n",
    "\n",
    "print(f'{len(stack)} products found in stack')"
   ]
  },
  {
   "cell_type": "markdown",
   "id": "084583dc-9f5c-4887-9cae-1f10d7e2cedf",
   "metadata": {},
   "source": [
    "As stated, these results are a standard `ASFSearchResults` object containing a list of `ASFProduct` objects, each with all the usual functionality.\n",
    "  \n",
    "There is one addition to the `ASFProduct` objects, however: a new field in the `properties` dictionary. This field describes the temporal offset in days from the reference scene used to build the stack. The reference scene is included in the stack and will always have a temporal baseline of 0. This additional field is included when serializing to geojson."
   ]
  },
  {
   "cell_type": "code",
   "execution_count": null,
   "id": "8e996159-0e4b-4cdd-bf22-f75a48163b4d",
   "metadata": {},
   "outputs": [],
   "source": [
    "stack[0].properties"
   ]
  },
  {
   "cell_type": "markdown",
   "id": "c6be9b2a-a0c6-4ef3-a118-98c99f82f229",
   "metadata": {},
   "source": [
    "__Note:__ At this time, perpendicular baseline values are not available (but they're coming!)"
   ]
  },
  {
   "cell_type": "markdown",
   "id": "6c4900f9-e610-4136-8c90-1fbdaee93bdf",
   "metadata": {},
   "source": [
    "***\n",
    "## Building a Stack from a Product ID\n",
    "Sometimes, you may not have arrived at your product by way of `asf_search`, and all you have is the product ID. In this case, you can make use of `asf_search.stack_from_id()` to build a stack. The results returned using this approach are identical to those above."
   ]
  },
  {
   "cell_type": "code",
   "execution_count": null,
   "id": "d04567f4-1223-475f-9b2a-a59ff7ce1486",
   "metadata": {},
   "outputs": [],
   "source": [
    "product_id = 'S1A_IW_SLC__1SDV_20220215T225119_20220215T225146_041930_04FE2E_9252-SLC'\n",
    "\n",
    "stack = asf.stack_from_id(product_id)\n",
    "\n",
    "print(f'{len(stack)} products found in stack')"
   ]
  },
  {
   "cell_type": "markdown",
   "id": "52e62364-dce3-438c-ad0d-65a5f945054f",
   "metadata": {},
   "source": [
    "***\n",
    "## Best Practices\n",
    "\n",
    "`stack_from_id()` is provided largely as a convenience: internally, it performs a `product_search()` using the provided ID, and then returns the results of that product's `stack()` method. For this reason, it is recommend that if you have an `ASFProduct` object at hand, you use that to build your stack directly, as it removes the need for the additional search action.\n",
    "\n",
    "For other cases where you have parameters describing your reference scene but not an `ASFProduct` object itself, it is appropriate to use one of the various search features available with `asf_search` to obtain an `ASFProduct` first."
   ]
  },
  {
   "cell_type": "markdown",
   "id": "8aed3b7c-a557-4cbb-878e-aa9fe8330646",
   "metadata": {},
   "source": [
    "***\n",
    "## Summary\n",
    "A complete, basic example of using `ASFProduct.stack()`:"
   ]
  },
  {
   "cell_type": "code",
   "execution_count": null,
   "id": "ceea6e9a-b1ea-417f-8daa-98bd17c9730c",
   "metadata": {
    "scrolled": true,
    "tags": []
   },
   "outputs": [],
   "source": [
    "import asf_search as asf\n",
    "\n",
    "reference = asf.product_search('S1A_IW_SLC__1SDV_20220215T225119_20220215T225146_041930_04FE2E_9252-SLC')[0]\n",
    "\n",
    "print(reference.stack())"
   ]
  },
  {
   "cell_type": "markdown",
   "id": "e35d5b08-7c23-4102-946a-693f396ceadf",
   "metadata": {},
   "source": [
    "A complete, basic example of using `stack_from_id()`:"
   ]
  },
  {
   "cell_type": "code",
   "execution_count": null,
   "id": "59412d12-1264-4c36-bb46-6a733b8f5acc",
   "metadata": {
    "scrolled": true,
    "tags": []
   },
   "outputs": [],
   "source": [
    "import asf_search as asf\n",
    "\n",
    "print(asf.stack_from_id('S1A_IW_SLC__1SDV_20220215T225119_20220215T225146_041930_04FE2E_9252-SLC'))"
   ]
  },
  {
   "cell_type": "markdown",
   "id": "44497649-d720-45dc-a2f7-b6a737b635bb",
   "metadata": {},
   "source": [
    "***\n",
    "Next: [Downloading Data](./5-Download.ipynb)"
   ]
  }
 ],
 "metadata": {
  "kernelspec": {
   "display_name": "Python 3 (ipykernel)",
   "language": "python",
   "name": "python3"
  },
  "language_info": {
   "codemirror_mode": {
    "name": "ipython",
    "version": 3
   },
   "file_extension": ".py",
   "mimetype": "text/x-python",
   "name": "python",
   "nbconvert_exporter": "python",
   "pygments_lexer": "ipython3",
   "version": "3.8.9"
  },
  "toc-autonumbering": false
 },
 "nbformat": 4,
 "nbformat_minor": 5
}
