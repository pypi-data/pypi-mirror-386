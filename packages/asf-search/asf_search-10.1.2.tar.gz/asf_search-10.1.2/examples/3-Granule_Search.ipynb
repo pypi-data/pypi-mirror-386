{
 "cells": [
  {
   "cell_type": "markdown",
   "id": "928e44f7-b11c-4392-bb4f-832ea77f3855",
   "metadata": {
    "tags": []
   },
   "source": [
    "# asf_search - Granule Search\n",
    "`asf_search` provides several search-oriented functions. One of these functions is `granule_search()`. This function accepts a granule name or names (also known as a scene name) in order to find search results. A similar function, `product_search()`, is also covered here.\n",
    "***\n",
    "## Before You Start\n",
    "The steps outlined in this demonstration assume `asf_search` is available in your environment. For guidance on installing `asf_search`, [begin here](./1-Basic_Overview.ipynb#Before-You-Start)."
   ]
  },
  {
   "cell_type": "markdown",
   "id": "43588eb5-1dfc-4e82-8503-940bbbaffbb6",
   "metadata": {
    "tags": []
   },
   "source": [
    "***\n",
    "## Performing a Granule Search\n",
    "[View this search in Vertex](https://search.asf.alaska.edu/#/?zoom=7.370&center=-134.548,55.753&resultsLoaded=true&searchType=List%20Search&searchList=S1B_IW_GRDH_1SDV_20190822T151551_20190822T151616_017700_0214D2_6084,S1B_IW_GRDH_1SDV_20190810T151550_20190810T151615_017525_020F5A_2F74,S1B_IW_GRDH_1SDV_20190729T151549_20190729T151614_017350_020A0A_C3E2,S1B_IW_GRDH_1SDV_20190717T151548_20190717T151613_017175_0204EA_4181,S1B_IW_GRDH_1SDV_20190705T151548_20190705T151613_017000_01FFC4_24EC,S1B_IW_GRDH_1SDV_20190623T151547_20190623T151612_016825_01FA95_14B9,S1B_IW_GRDH_1SDV_20190611T151546_20190611T151611_016650_01F566_D7CE,S1B_IW_GRDH_1SDV_20190530T151546_20190530T151611_016475_01F02E_BF97,S1B_IW_GRDH_1SDV_20190518T151545_20190518T151610_016300_01EAD8_9308,S1B_IW_GRDH_1SDV_20190506T151544_20190506T151609_016125_01E56C_1D67)\n",
    "\n",
    "To perform a granule list search, you need a list of granule names. This could come from previous `asf_search` results, ASF's [Vertex](https://search.asf.alaska.edu) app, a colleague, or your favorite spreadsheet.\n"
   ]
  },
  {
   "cell_type": "code",
   "execution_count": null,
   "id": "52144455-af61-4f36-b35b-57a04683ebb1",
   "metadata": {
    "tags": []
   },
   "outputs": [],
   "source": [
    "import asf_search as asf\n",
    "\n",
    "granule_list = [\n",
    "    'S1B_IW_GRDH_1SDV_20190822T151551_20190822T151616_017700_0214D2_6084',\n",
    "    'S1B_IW_GRDH_1SDV_20190810T151550_20190810T151615_017525_020F5A_2F74',\n",
    "    'S1B_IW_GRDH_1SDV_20190729T151549_20190729T151614_017350_020A0A_C3E2',\n",
    "    'S1B_IW_GRDH_1SDV_20190717T151548_20190717T151613_017175_0204EA_4181',\n",
    "    'S1B_IW_GRDH_1SDV_20190705T151548_20190705T151613_017000_01FFC4_24EC',\n",
    "    'S1B_IW_GRDH_1SDV_20190623T151547_20190623T151612_016825_01FA95_14B9',\n",
    "    'S1B_IW_GRDH_1SDV_20190611T151546_20190611T151611_016650_01F566_D7CE',\n",
    "    'S1B_IW_GRDH_1SDV_20190530T151546_20190530T151611_016475_01F02E_BF97',\n",
    "    'S1B_IW_GRDH_1SDV_20190518T151545_20190518T151610_016300_01EAD8_9308',\n",
    "    'S1B_IW_GRDH_1SDV_20190506T151544_20190506T151609_016125_01E56C_1D67'\n",
    "]"
   ]
  },
  {
   "cell_type": "markdown",
   "id": "43f1d561-c88f-435a-ac64-d691c8fb7e76",
   "metadata": {},
   "source": [
    "`granule_search()` does not make use of any other search filters, so at this point we can simply run the search and retrieve our results:"
   ]
  },
  {
   "cell_type": "code",
   "execution_count": null,
   "id": "4dd4ec77-6e5f-4d5e-8253-719a4152285e",
   "metadata": {
    "scrolled": true,
    "tags": []
   },
   "outputs": [],
   "source": [
    "results = asf.granule_search(granule_list)\n",
    "\n",
    "print(results)"
   ]
  },
  {
   "cell_type": "markdown",
   "id": "084583dc-9f5c-4887-9cae-1f10d7e2cedf",
   "metadata": {},
   "source": [
    "For convenience, `granule_search()` will also accept kwargs for consistency with other search functions:"
   ]
  },
  {
   "cell_type": "code",
   "execution_count": null,
   "id": "8e996159-0e4b-4cdd-bf22-f75a48163b4d",
   "metadata": {},
   "outputs": [],
   "source": [
    "results = asf.granule_search(granule_list=granule_list)\n",
    "\n",
    "print(f'{len(results)} results found')"
   ]
  },
  {
   "cell_type": "markdown",
   "id": "c6be9b2a-a0c6-4ef3-a118-98c99f82f229",
   "metadata": {},
   "source": [
    "A single granule name is allowed with either above approach as well:"
   ]
  },
  {
   "cell_type": "code",
   "execution_count": null,
   "id": "42d0123c-7f84-4356-b0b9-23359f9d106f",
   "metadata": {
    "tags": []
   },
   "outputs": [],
   "source": [
    "results = asf.granule_search('S1B_IW_GRDH_1SDV_20190822T151551_20190822T151616_017700_0214D2_6084')\n",
    "\n",
    "print(f'{len(results)} results found')"
   ]
  },
  {
   "cell_type": "markdown",
   "id": "c4d2c680-080f-4f7d-9cbc-f08519a91635",
   "metadata": {
    "tags": []
   },
   "source": [
    "***\n",
    "## Performing a Product Search\n",
    "[View this search in Vertex](https://search.asf.alaska.edu/#/?zoom=7.370&center=-134.548,55.753&resultsLoaded=true&searchType=List%20Search&searchList=S1A_IW_GRDH_1SDV_20190809T001336_20190809T001401_028485_033839_78A1-GRD_HD,S1A_IW_GRDH_1SDV_20150322T000454_20150322T000524_005137_006794_56E3-GRD_HD,S1A_IW_GRDH_1SDV_20160121T001256_20160121T001321_009585_00DF26_5B84-GRD_HD,S1A_IW_GRDH_1SDV_20151117T000448_20151117T000513_008637_00C455_3DC2-GRD_HD&listSearchType=Product)\n",
    "\n",
    "To perform a product list search, you need a list of product names. Where granule names refer to a scene that may include multiple products, product names are guaranteed-unique identifiers for specific products in the archive, and as such they are always 1:1.\n"
   ]
  },
  {
   "cell_type": "code",
   "execution_count": null,
   "id": "90d3e41e-0a15-40cb-9361-7023f904a423",
   "metadata": {
    "tags": []
   },
   "outputs": [],
   "source": [
    "import asf_search as asf\n",
    "\n",
    "product_list = [\n",
    "    'S1A_IW_GRDH_1SDV_20190809T001336_20190809T001401_028485_033839_78A1-GRD_HD',\n",
    "    'S1A_IW_GRDH_1SDV_20150322T000454_20150322T000524_005137_006794_56E3-GRD_HD',\n",
    "    'S1A_IW_GRDH_1SDV_20160121T001256_20160121T001321_009585_00DF26_5B84-GRD_HD',\n",
    "    'S1A_IW_GRDH_1SDV_20151117T000448_20151117T000513_008637_00C455_3DC2-GRD_HD'\n",
    "]"
   ]
  },
  {
   "cell_type": "markdown",
   "id": "296e5054-28c2-4f38-957e-fcacefe122e6",
   "metadata": {},
   "source": [
    "`product_search()` does not make use of any other search filters, so we have everything we need to run the search:"
   ]
  },
  {
   "cell_type": "code",
   "execution_count": null,
   "id": "1f03d2e7-766c-4cbb-a53a-a261220dddf5",
   "metadata": {
    "scrolled": true,
    "tags": []
   },
   "outputs": [],
   "source": [
    "results = asf.product_search(product_list)\n",
    "\n",
    "print(results)"
   ]
  },
  {
   "cell_type": "markdown",
   "id": "cd4ca5c5-1e02-4f31-8437-bd8ad9b59e9c",
   "metadata": {},
   "source": [
    "Like `granule_search()`, `product_search()` will also accept kwargs for consistency with other search functions:"
   ]
  },
  {
   "cell_type": "code",
   "execution_count": null,
   "id": "04d07e01-a4da-4b79-a8ce-8e7ff3ea3675",
   "metadata": {},
   "outputs": [],
   "source": [
    "results = asf.product_search(product_list=product_list)\n",
    "\n",
    "print(f'{len(results)} results found')"
   ]
  },
  {
   "cell_type": "markdown",
   "id": "79223bfd-f6a8-4d5c-9a45-9ddae31d2879",
   "metadata": {},
   "source": [
    "A single product name is allowed with either above approach as well:"
   ]
  },
  {
   "cell_type": "code",
   "execution_count": null,
   "id": "6beb628c-b409-45c4-a227-25904bd1afe8",
   "metadata": {
    "tags": []
   },
   "outputs": [],
   "source": [
    "results = asf.product_search('S1A_IW_GRDH_1SDV_20190809T001336_20190809T001401_028485_033839_78A1-GRD_HD')\n",
    "\n",
    "print(f'{len(results)} results found')"
   ]
  },
  {
   "cell_type": "markdown",
   "id": "007ba2a5-3170-41d4-94ac-a5fbb99031af",
   "metadata": {},
   "source": [
    "## Best Practices\n",
    "  \n",
    "It is generally preferred to \"collapse\" many small queries into fewer large queries. That is, it may be easy and logically reasonable to run a number of small `granule_search()` queries via a `foreach` loop over each of the items in the original granule list. _Please do not do this._ It consumes a lot of resources at both ASF and at CMR. Instead, combine your small queries into a single large query where possible, as shown in the original example, and then post-process the results locally. `granule_search()` can support very large lists, and will break them up internally when needed.\n",
    "  \n",
    "This approach of using queries that will yield all desired results in one search call, and then post-processing the results locally, rather than issuing multiple requests to collect small parts of the same overall results applies to all usage of `asf_search`."
   ]
  },
  {
   "cell_type": "markdown",
   "id": "8aed3b7c-a557-4cbb-878e-aa9fe8330646",
   "metadata": {},
   "source": [
    "***\n",
    "## Summary\n",
    "A complete, basic example of using `granule_search()`:"
   ]
  },
  {
   "cell_type": "code",
   "execution_count": null,
   "id": "ceea6e9a-b1ea-417f-8daa-98bd17c9730c",
   "metadata": {
    "scrolled": true,
    "tags": []
   },
   "outputs": [],
   "source": [
    "import asf_search as asf\n",
    "\n",
    "print(\n",
    "    asf.granule_search(['S1B_IW_GRDH_1SDV_20190822T151551_20190822T151616_017700_0214D2_6084']))"
   ]
  },
  {
   "cell_type": "markdown",
   "id": "d866ae37-f33e-4b81-8f2c-81f7c22a8fa1",
   "metadata": {},
   "source": [
    "A complete, basic example of using `product_search()`:"
   ]
  },
  {
   "cell_type": "code",
   "execution_count": null,
   "id": "9594fdcd-547d-4fc5-9c9c-72d9fc215861",
   "metadata": {
    "scrolled": true,
    "tags": []
   },
   "outputs": [],
   "source": [
    "import asf_search as asf\n",
    "\n",
    "print(\n",
    "    asf.product_search(['S1A_IW_GRDH_1SDV_20190809T001336_20190809T001401_028485_033839_78A1-GRD_HD']))"
   ]
  },
  {
   "cell_type": "markdown",
   "id": "44497649-d720-45dc-a2f7-b6a737b635bb",
   "metadata": {},
   "source": [
    "***\n",
    "Next: [Baseline Searches](./4-Baseline_Search.ipynb)"
   ]
  }
 ],
 "metadata": {
  "kernelspec": {
   "display_name": "Python 3 (ipykernel)",
   "language": "python",
   "name": "python3"
  },
  "language_info": {
   "codemirror_mode": {
    "name": "ipython",
    "version": 3
   },
   "file_extension": ".py",
   "mimetype": "text/x-python",
   "name": "python",
   "nbconvert_exporter": "python",
   "pygments_lexer": "ipython3",
   "version": "3.8.9"
  },
  "toc-autonumbering": false
 },
 "nbformat": 4,
 "nbformat_minor": 5
}
