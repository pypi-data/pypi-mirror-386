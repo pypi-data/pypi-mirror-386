{
 "cells": [
  {
   "cell_type": "markdown",
   "id": "8bb99b33-3f6e-49f8-9a09-b56ebd0ed3d2",
   "metadata": {
    "tags": []
   },
   "source": [
    "# asf_search - Basic Overview\n",
    "`asf_search` provides several helpful classes and functions to simplify working with the ASF catalog. This notebook briefly describes how to get started with `asf_search`.\n",
    "***\n",
    "## Before You Start\n",
    "  \n",
    "The steps outlined in this notebook assume `asf_search` is available on your system. `asf_search` is available through [PyPi](https://pypi.org/project/asf-search/), [Conda](https://anaconda.org/conda-forge/asf_search), and [Github](https://github.com/asfadmin/Discovery-asf_search). Additionally, full documentation for `asf_search` and many other services offered by ASF is available at [https://docs.asf.alaska.edu/](https://docs.asf.alaska.edu/)\n",
    "  \n",
    "For this demonstration, we have already installed `asf_search` within a virtual environment through PyPi via the command:\n",
    "  \n",
    "  \n",
    "```pip install asf_search```\n",
    "  \n",
    "`asf_search` requires Python 3.6 or higher."
   ]
  },
  {
   "cell_type": "markdown",
   "id": "eb5a1320-5f3e-4125-8184-9a9b28fbf904",
   "metadata": {
    "tags": []
   },
   "source": [
    "***\n",
    "## Usage\n",
    "Once installed, simply import `asf_search` as you would any other Python module:"
   ]
  },
  {
   "cell_type": "code",
   "execution_count": null,
   "id": "52144455-af61-4f36-b35b-57a04683ebb1",
   "metadata": {
    "tags": []
   },
   "outputs": [],
   "source": [
    "import asf_search as asf"
   ]
  },
  {
   "cell_type": "markdown",
   "id": "bc891ff7-608b-4bc2-ab7d-bc2468539722",
   "metadata": {},
   "source": [
    "`asf_search` version numbers are based on [Semantic Versioning 2.0.0](https://semver.org/spec/v2.0.0.html):"
   ]
  },
  {
   "cell_type": "code",
   "execution_count": null,
   "id": "0387c290-3d11-4ab2-b1e1-f94b761d245d",
   "metadata": {},
   "outputs": [],
   "source": [
    "asf.__version__"
   ]
  },
  {
   "cell_type": "markdown",
   "id": "6a8ada7a",
   "metadata": {},
   "source": [
    "`asf_search` automatically reports search errors to ASF. To opt out, simply add the following line after importing the package:"
   ]
  },
  {
   "cell_type": "code",
   "execution_count": null,
   "id": "c8117da3",
   "metadata": {},
   "outputs": [],
   "source": [
    "asf.REPORT_ERRORS = False"
   ]
  },
  {
   "cell_type": "markdown",
   "id": "322a9186",
   "metadata": {},
   "source": [
    "If you have any questions regarding automatic error reporting, email uso@asf.alaska.edu"
   ]
  },
  {
   "cell_type": "markdown",
   "id": "2bd9fb48-b2a8-4080-baab-89241cd1f8b1",
   "metadata": {
    "tags": []
   },
   "source": [
    "***\n",
    "\n",
    "## Performing a Basic Search\n",
    "[View this search in Vertex](https://search.asf.alaska.edu/#/?resultsLoaded=true&dataset=SENTINEL-1)\n",
    "\n",
    "For this basic example, we will specify two search parameters: a platform, and how many results we want to retrieve:\n",
    "- Sentinel-1\n",
    "- 5 results max\n",
    "    - (results are retrieved newest-first, so this will be the 5 newest products)."
   ]
  },
  {
   "cell_type": "code",
   "execution_count": null,
   "id": "c4885370-3298-47ae-81c0-873ecfa47aba",
   "metadata": {},
   "outputs": [],
   "source": [
    "results = asf.search(platform=asf.PLATFORM.SENTINEL1, maxResults=5)"
   ]
  },
  {
   "cell_type": "markdown",
   "id": "630339c1-c1b6-46fd-b7de-3251553a61ca",
   "metadata": {},
   "source": [
    "Alternatively, it may be useful to handle your search arguments as a dictionary:"
   ]
  },
  {
   "cell_type": "code",
   "execution_count": null,
   "id": "57f51960-dd3f-4531-8f0c-28f601d0b5e9",
   "metadata": {},
   "outputs": [],
   "source": [
    "opts = {\n",
    "    'platform': asf.PLATFORM.SENTINEL1,\n",
    "    'maxResults': 5\n",
    "}\n",
    "results = asf.search(**opts)"
   ]
  },
  {
   "cell_type": "markdown",
   "id": "cbe2e4ae",
   "metadata": {},
   "source": [
    "If `search()` encounters an error while querying CMR the search will halt, log the error, and return all results up until the error occurred. To check that results are complete programmatically use `ASFSearchResults.raise_if_incomplete()` in a `try-except` statement:"
   ]
  },
  {
   "cell_type": "code",
   "execution_count": null,
   "id": "29333d4f",
   "metadata": {},
   "outputs": [],
   "source": [
    "from asf_search.exceptions import ASFSearchError\n",
    "\n",
    "try:\n",
    "    results.raise_if_incomplete()\n",
    "except ASFSearchError as e:\n",
    "    pass #handle the error here"
   ]
  },
  {
   "attachments": {},
   "cell_type": "markdown",
   "id": "1fc55d9f",
   "metadata": {},
   "source": [
    "`search()` is itself a convenient wrapper around `search_generator()`, which queries CMR and yields `ASFSearchResults` page-by-page. If `search_generator()` completed without encountering an error, the last page will mark `ASFSearchResults.searchComplete` to `True`. Check the final page's `searchComplete` flag to assert results status or mark the final `ASFSearchResults` object as complete."
   ]
  },
  {
   "cell_type": "code",
   "execution_count": null,
   "id": "0ac69ddf",
   "metadata": {},
   "outputs": [],
   "source": [
    "paged_results = asf.ASFSearchResults([])\n",
    "\n",
    "pages = asf.search_generator(**opts)\n",
    "\n",
    "for page in pages:\n",
    "    paged_results.extend(page)\n",
    "\n",
    "    # The last page will be marked as complete once all results have returned successfully,\n",
    "    # keep track by updating ASFSearchResults manually if you wish to use raise_if_incomplete()    \n",
    "    paged_results.searchComplete = page.searchComplete\n",
    "    paged_results.searchOptions = page.searchOptions\n",
    "\n",
    "\n",
    "try:\n",
    "    paged_results.raise_if_incomplete()\n",
    "except ASFSearchError as e:\n",
    "    pass #handle the error here"
   ]
  },
  {
   "cell_type": "markdown",
   "id": "7bd0e8d7-ba02-472b-8b91-413090238eda",
   "metadata": {},
   "source": [
    "Note the use of `asf_search`-provided constants, as many editors support use of these through autocompletion. Categories of constants include:\n",
    "- `BEAMMODE`\n",
    "- `FLIGHT_DIRECTION`\n",
    "- `INSTRUMENT`\n",
    "- `PLATFORM`\n",
    "- `POLARIZATION`\n",
    "- `PRODUCT_TYPE`\n",
    "  \n"
   ]
  },
  {
   "cell_type": "markdown",
   "id": "92ac4b7c",
   "metadata": {},
   "source": [
    "`asf_search` also provides the `search_count()` method, which will return the count of total results matching the passed search options. \n",
    "For example passing the same `opts` object we used for our search above will return the current size of the `SENTINEL1` catalog."
   ]
  },
  {
   "cell_type": "code",
   "execution_count": null,
   "id": "be53c20f",
   "metadata": {},
   "outputs": [],
   "source": [
    "count = asf.search_count(**opts)"
   ]
  },
  {
   "cell_type": "markdown",
   "id": "f506de89-f36c-44dd-a408-d4d6853bae67",
   "metadata": {
    "tags": []
   },
   "source": [
    "***\n",
    "## Working With Results\n",
    "### `ASFSearchResults`\n",
    "Search results are returned as an `ASFSearchResults` object, a subclass of `UserList`, containing a list of `ASFProduct` objects, each of these classes providing some additional functionality to aid in working with the results and individual products:"
   ]
  },
  {
   "cell_type": "code",
   "execution_count": null,
   "id": "85157600-fa63-41e6-943a-9dfc4adc33da",
   "metadata": {},
   "outputs": [],
   "source": [
    "results"
   ]
  },
  {
   "cell_type": "markdown",
   "id": "f4b7a403-82e2-4c9d-872c-7a126841c654",
   "metadata": {
    "tags": []
   },
   "source": [
    "### `ASFProduct`\n",
    "`ASFProduct` provides a number of metadata fields, such as:\n",
    "- Geographic coordinates\n",
    "    - Latitude/Longitude\n",
    "    - Shape type\n",
    "- Scene and product metadata\n",
    "    - Path, frame\n",
    "    - Platform, beam, polarization\n",
    "    - File name, size, URL\n",
    "    - and many others\n",
    "  \n",
    "Geographic coordinates are stored in the `geometry` attribute:"
   ]
  },
  {
   "cell_type": "code",
   "execution_count": null,
   "id": "4aafded2-662b-4ff8-b47c-d793834b7e0e",
   "metadata": {},
   "outputs": [],
   "source": [
    "results[0].geometry"
   ]
  },
  {
   "cell_type": "markdown",
   "id": "d66ecc39-57db-436e-b00c-efb86d903bf2",
   "metadata": {
    "tags": []
   },
   "source": [
    "Other metadata is available through the `properties` attribute:"
   ]
  },
  {
   "cell_type": "code",
   "execution_count": null,
   "id": "bb928002-c003-4d13-864b-35d9e51a9862",
   "metadata": {
    "tags": []
   },
   "outputs": [],
   "source": [
    "results[0].properties"
   ]
  },
  {
   "cell_type": "markdown",
   "id": "5d9b4e27-3505-4303-bed9-feaa56a76358",
   "metadata": {
    "tags": []
   },
   "source": [
    "### Output\n",
    "The layout of the above data structure mirrors the geojson output format provided by ASF's SearchAPI, for a smooth transition to `asf_search`.\n",
    "  \n",
    "In fact, the `ASFSearchResults.__str__()` method serializes results to geojson _identical_ to that of ASF's SearchAPI, allowing for a drop-in replacement for users of the SearchAPI, simply by explicitly or implicitly casting search results to a string:"
   ]
  },
  {
   "cell_type": "code",
   "execution_count": null,
   "id": "20a620fb-d219-489e-96f5-8ac3dd407a51",
   "metadata": {
    "scrolled": true,
    "tags": []
   },
   "outputs": [],
   "source": [
    "print(results)"
   ]
  },
  {
   "cell_type": "markdown",
   "id": "4464dd9b-af8b-4a62-8281-87ae22e4b84d",
   "metadata": {},
   "source": [
    "Additionally, individual `ASFProduct` objects provides geojson-based serialization, in the form of a geojson `Feature` snippet:"
   ]
  },
  {
   "cell_type": "code",
   "execution_count": null,
   "id": "f4fe28bf-3a16-4f1e-abce-d340005a815d",
   "metadata": {
    "scrolled": true,
    "tags": []
   },
   "outputs": [],
   "source": [
    "print(results[0])"
   ]
  },
  {
   "cell_type": "markdown",
   "id": "b7dd770b",
   "metadata": {},
   "source": [
    "`ASFSearchResults` also supports the following output formats:\n",
    "- `csv`\n",
    "- `jsonlite`\n",
    "- `jsonlite2`\n",
    "- `metalink`\n",
    "- `kml`\n",
    "\n",
    "All formats are callable as methods on any `ASFSearchResults` object, producing results equivalent to SearchAPI.\n",
    "\n",
    "Below is an example of saving results to a csv file using the `ASFSearchResults.csv()` method."
   ]
  },
  {
   "cell_type": "code",
   "execution_count": null,
   "id": "712d1b0b",
   "metadata": {},
   "outputs": [],
   "source": [
    "with open(\"search_results.csv\", \"w\") as f:\n",
    "   f.writelines(results.csv())"
   ]
  },
  {
   "cell_type": "markdown",
   "id": "880990be",
   "metadata": {},
   "source": [
    "The output can be also previewed in the terminal"
   ]
  },
  {
   "cell_type": "code",
   "execution_count": null,
   "id": "6fc75e9b",
   "metadata": {},
   "outputs": [],
   "source": [
    "print(*results.csv(), sep='')"
   ]
  },
  {
   "attachments": {},
   "cell_type": "markdown",
   "id": "de64e149",
   "metadata": {},
   "source": [
    "For more advanced usage, different output formats can be used with the `asf_search.search_generator()`, and can be used to stream results as they are returned from CMR, page-by-page"
   ]
  },
  {
   "cell_type": "code",
   "execution_count": null,
   "id": "4dc756bd",
   "metadata": {},
   "outputs": [],
   "source": [
    "# asf-search queries CMR with page sizes of 500, \n",
    "# so setting maxResults=1000 means asf-search will have to query cmr twice, each time returning 500 products\n",
    "large_results_generator = asf.search_generator(maxResults=1000, platform=asf.PLATFORM.SENTINEL1A)\n",
    "\n",
    "with open(\"search_results.metalink\", \"w\") as f:\n",
    "    f.writelines(asf.export.results_to_metalink(large_results_generator))"
   ]
  },
  {
   "cell_type": "markdown",
   "id": "cf042a01-674d-4518-9a05-067cd61fb51e",
   "metadata": {},
   "source": [
    "## Summary\n",
    "A complete example, showing how simple use of `asf_search` can be:"
   ]
  },
  {
   "cell_type": "code",
   "execution_count": null,
   "id": "04465e37-17ec-4648-ae63-7cb17b933bd9",
   "metadata": {
    "scrolled": true,
    "tags": []
   },
   "outputs": [],
   "source": [
    "import asf_search as asf\n",
    "\n",
    "print(asf.search(platform='S1', maxResults=5))"
   ]
  },
  {
   "cell_type": "markdown",
   "id": "ffec1743-d84f-402e-a805-5e109b13869d",
   "metadata": {},
   "source": [
    "***\n",
    "Next: [Geographic Searches](./2-Geographic_Search.ipynb)"
   ]
  }
 ],
 "metadata": {
  "kernelspec": {
   "display_name": "Python 3 (ipykernel)",
   "language": "python",
   "name": "python3"
  },
  "language_info": {
   "codemirror_mode": {
    "name": "ipython",
    "version": 3
   },
   "file_extension": ".py",
   "mimetype": "text/x-python",
   "name": "python",
   "nbconvert_exporter": "python",
   "pygments_lexer": "ipython3",
   "version": "3.10.6"
  },
  "toc-autonumbering": false,
  "toc-showcode": false,
  "toc-showmarkdowntxt": false,
  "toc-showtags": false
 },
 "nbformat": 4,
 "nbformat_minor": 5
}
