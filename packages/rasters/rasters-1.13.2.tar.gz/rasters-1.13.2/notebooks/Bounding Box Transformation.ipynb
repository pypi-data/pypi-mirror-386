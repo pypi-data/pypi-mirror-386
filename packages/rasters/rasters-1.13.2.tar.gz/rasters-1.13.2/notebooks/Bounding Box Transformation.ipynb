{
 "cells": [
  {
   "cell_type": "code",
   "execution_count": 1,
   "id": "d7a281f3",
   "metadata": {},
   "outputs": [],
   "source": [
    "from rasters import BBox"
   ]
  },
  {
   "cell_type": "code",
   "execution_count": 2,
   "id": "5bde08f4",
   "metadata": {},
   "outputs": [
    {
     "data": {
      "text/plain": [
       "BBox(xmin=-118.753625032771, ymin=36.5914562284022, xmax=-118.331319677407, ymax=37.1398151261614, crs=\"EPSG:4326\")"
      ]
     },
     "execution_count": 2,
     "metadata": {},
     "output_type": "execute_result"
    }
   ],
   "source": [
    "bbox_latlon = BBox(xmin=-118.753625032771, ymin=36.5914562284022, xmax=-118.331319677407, ymax=37.1398151261614, crs=\"EPSG:4326\")\n",
    "bbox_latlon"
   ]
  },
  {
   "cell_type": "code",
   "execution_count": 3,
   "id": "63bb94d8",
   "metadata": {},
   "outputs": [
    {
     "data": {
      "text/plain": [
       "POINT (-118.54247235508899 36.8656356772818)"
      ]
     },
     "execution_count": 3,
     "metadata": {},
     "output_type": "execute_result"
    }
   ],
   "source": [
    "bbox_latlon.centroid"
   ]
  },
  {
   "cell_type": "code",
   "execution_count": 4,
   "id": "c025cf4b",
   "metadata": {},
   "outputs": [
    {
     "data": {
      "text/plain": [
       "'+proj=utm +zone=11 +ellps=WGS84 +datum=WGS84 +units=m +no_defs'"
      ]
     },
     "execution_count": 4,
     "metadata": {},
     "output_type": "execute_result"
    }
   ],
   "source": [
    "bbox_latlon.local_UTM_proj4"
   ]
  },
  {
   "cell_type": "code",
   "execution_count": null,
   "id": "27e13506",
   "metadata": {},
   "outputs": [],
   "source": []
  }
 ],
 "metadata": {
  "kernelspec": {
   "display_name": "rasters",
   "language": "python",
   "name": "python3"
  },
  "language_info": {
   "codemirror_mode": {
    "name": "ipython",
    "version": 3
   },
   "file_extension": ".py",
   "mimetype": "text/x-python",
   "name": "python",
   "nbconvert_exporter": "python",
   "pygments_lexer": "ipython3",
   "version": "3.11.12"
  }
 },
 "nbformat": 4,
 "nbformat_minor": 5
}
