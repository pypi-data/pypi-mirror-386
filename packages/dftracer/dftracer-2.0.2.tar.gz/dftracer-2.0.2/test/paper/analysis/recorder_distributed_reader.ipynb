{
    "cells": [
        {
            "cell_type": "code",
            "execution_count": 1,
            "id": "efb2a18d",
            "metadata": {},
            "outputs": [
                {
                    "name": "stdout",
                    "output_type": "stream",
                    "text": [
                        "env: LD_LIBRARY_PATH=/usr/tce/packages/texlive/texlive-20220321/lib:/usr/WS2/haridev/dftracer/venv/lib/python3.9/site-packages/dftracer/lib:/usr/WS2/haridev/dftracer/venv/lib/python3.9/site-packages/dftracer/lib64:/usr/WS2/haridev/dftracer/venv/lib/python3.9/site-packages/dftracer/lib:/usr/WS2/haridev/dftracer/venv/lib/python3.9/site-packages/dftracer/lib64:/usr/WS2/haridev/dftracer/venv/lib\n"
                    ]
                }
            ],
            "source": [
                "%env LD_LIBRARY_PATH=/usr/tce/packages/texlive/texlive-20220321/lib:/usr/WS2/haridev/dftracer/venv/lib/python3.9/site-packages/dftracer/lib:/usr/WS2/haridev/dftracer/venv/lib/python3.9/site-packages/dftracer/lib64:/usr/WS2/haridev/dftracer/venv/lib/python3.9/site-packages/dftracer/lib:/usr/WS2/haridev/dftracer/venv/lib/python3.9/site-packages/dftracer/lib64:/usr/WS2/haridev/dftracer/venv/lib"
            ]
        },
        {
            "cell_type": "code",
            "execution_count": 2,
            "id": "728c1e82",
            "metadata": {
                "ExecuteTime": {
                    "end_time": "2023-11-10T05:13:18.379282Z",
                    "start_time": "2023-11-10T05:13:16.696232Z"
                }
            },
            "outputs": [
                {
                    "name": "stdout",
                    "output_type": "stream",
                    "text": [
                        "pd 2.1.2\n"
                    ]
                },
                {
                    "name": "stderr",
                    "output_type": "stream",
                    "text": [
                        "/var/tmp/haridev/ipykernel_2335677/3516059025.py:8: DeprecationWarning: The current Dask DataFrame implementation is deprecated. \n",
                        "In a future release, Dask DataFrame will use new implementation that\n",
                        "contains several improvements including a logical query planning.\n",
                        "The user-facing DataFrame API will remain unchanged.\n",
                        "\n",
                        "The new implementation is already available and can be enabled by\n",
                        "installing the dask-expr library:\n",
                        "\n",
                        "    $ pip install dask-expr\n",
                        "\n",
                        "and turning the query planning option on:\n",
                        "\n",
                        "    >>> import dask\n",
                        "    >>> dask.config.set({'dataframe.query-planning': True})\n",
                        "    >>> import dask.dataframe as dd\n",
                        "\n",
                        "API documentation for the new implementation is available at\n",
                        "https://docs.dask.org/en/stable/dask-expr-api.html\n",
                        "\n",
                        "Any feedback can be reported on the Dask issue tracker\n",
                        "https://github.com/dask/dask/issues \n",
                        "\n",
                        "  import dask.dataframe as dd\n"
                    ]
                },
                {
                    "name": "stdout",
                    "output_type": "stream",
                    "text": [
                        "dask 2024.2.0\n",
                        "pa 15.0.0\n",
                        "np 1.26.1\n"
                    ]
                }
            ],
            "source": [
                "import recorder_viz\n",
                "from recorder_viz import RecorderReader\n",
                "#import darshan\n",
                "from glob import glob\n",
                "import pandas as pd\n",
                "print(f\"pd {pd.__version__}\")\n",
                "import dask\n",
                "import dask.dataframe as dd\n",
                "print(f\"dask {dask.__version__}\")\n",
                "import pyarrow as pa\n",
                "print(f\"pa {pa.__version__}\")\n",
                "import numpy as np\n",
                "print(f\"np {np.__version__}\")\n",
                "from itertools import chain\n",
                "\n",
                "from dask.distributed import Client, LocalCluster, progress, wait\n",
                "from dask.distributed import Future, get_client\n",
                "from typing import Tuple, Union\n",
                "import os"
            ]
        },
        {
            "cell_type": "code",
            "execution_count": 3,
            "id": "4bb2b5ab",
            "metadata": {},
            "outputs": [],
            "source": [
                "folder=\"/usr/workspace/haridev/dftracer/logs/recorder\"\n",
                "app=\"dlio_40_10\"\n",
                "file=\"\""
            ]
        },
        {
            "cell_type": "code",
            "execution_count": 4,
            "id": "b872f9e8",
            "metadata": {
                "ExecuteTime": {
                    "end_time": "2023-11-10T05:13:18.384223Z",
                    "start_time": "2023-11-10T05:13:18.381764Z"
                }
            },
            "outputs": [],
            "source": [
                "logfile=f\"{folder}/{app}/{file}\""
            ]
        },
        {
            "cell_type": "code",
            "execution_count": 5,
            "id": "0678f5e9",
            "metadata": {},
            "outputs": [
                {
                    "name": "stdout",
                    "output_type": "stream",
                    "text": [
                        "0.cfg  0.cst  0.ts  recorder.mt  VERSION\n"
                    ]
                }
            ],
            "source": [
                "!ls $logfile"
            ]
        },
        {
            "cell_type": "code",
            "execution_count": 6,
            "id": "847fbe5c",
            "metadata": {
                "ExecuteTime": {
                    "end_time": "2023-11-10T05:13:18.395393Z",
                    "start_time": "2023-11-10T05:13:18.385989Z"
                }
            },
            "outputs": [],
            "source": [
                "def get_json(func, ts, dur, rank):\n",
                "    d = {}\n",
                "    #print(location, start)\n",
                "    d[\"name\"] = func\n",
                "    d[\"cat\"] = \"Recorder\"\n",
                "    d[\"ts\"] = int(ts)\n",
                "    d[\"dur\"] = int(dur)\n",
                "    d[\"pid\"] = rank\n",
                "    d[\"tid\"] = 0\n",
                "    #print(d)\n",
                "    return d\n",
                "import time\n",
                "\n",
                "start = time.time()\n",
                "def read_trace(trace_name):\n",
                "    map_events = {}\n",
                "    count = 0\n",
                "    reader = RecorderReader(trace_name)\n",
                "    func_list = reader.funcs\n",
                "    for rank, records in enumerate(reader.records):\n",
                "        lm = reader.LMs[rank]\n",
                "        for record in records:\n",
                "            if len(func_list) > record.func_id:\n",
                "                func_name = func_list[record.func_id]\n",
                "                if record.func_id > 0 and \"MPI\" not in func_name:\n",
                "                    yield get_json(func_name, 0, 10, rank)\n",
                "            "
            ]
        },
        {
            "cell_type": "code",
            "execution_count": 7,
            "id": "bee1b2b0",
            "metadata": {
                "ExecuteTime": {
                    "end_time": "2023-11-10T05:13:18.400232Z",
                    "start_time": "2023-11-10T05:13:18.397151Z"
                }
            },
            "outputs": [],
            "source": [
                "initialized = False"
            ]
        },
        {
            "cell_type": "code",
            "execution_count": 8,
            "id": "50824214",
            "metadata": {
                "ExecuteTime": {
                    "end_time": "2023-11-10T05:13:27.335702Z",
                    "start_time": "2023-11-10T05:13:27.332022Z"
                }
            },
            "outputs": [
                {
                    "name": "stderr",
                    "output_type": "stream",
                    "text": [
                        "/usr/WS2/haridev/dftracer/venv/lib/python3.9/site-packages/distributed/node.py:182: UserWarning: Port 8787 is already in use.\n",
                        "Perhaps you already have a cluster running?\n",
                        "Hosting the HTTP server on port 44985 instead\n",
                        "  warnings.warn(\n"
                    ]
                },
                {
                    "name": "stdout",
                    "output_type": "stream",
                    "text": [
                        "<Client: 'tcp://127.0.0.1:38597' processes=1 threads=1, memory=251.40 GiB>\n"
                    ]
                },
                {
                    "name": "stderr",
                    "output_type": "stream",
                    "text": [
                        "2024-02-13 21:34:31,444 - distributed.nanny - WARNING - Restarting worker\n",
                        "2024-02-13 21:34:33,594 - distributed.nanny - WARNING - Restarting worker\n",
                        "2024-02-13 21:34:35,702 - distributed.nanny - WARNING - Restarting worker\n",
                        "2024-02-13 21:34:37,790 - distributed.nanny - WARNING - Restarting worker\n"
                    ]
                }
            ],
            "source": [
                "if not initialized:\n",
                "    workers = 1\n",
                "    cluster = LocalCluster(n_workers=workers, processes=True, threads_per_worker=1)  # Launches a scheduler and workers locally\n",
                "    client = Client(cluster)  # Connect to distributed cluster and override default\n",
                "    print(client)\n",
                "    initialized = True"
            ]
        },
        {
            "cell_type": "code",
            "execution_count": 9,
            "id": "5cde7177-4f2a-4eb8-9e30-499ccb7a6dfd",
            "metadata": {},
            "outputs": [
                {
                    "data": {
                        "text/html": [
                            "<div>\n",
                            "    <div style=\"width: 24px; height: 24px; background-color: #e1e1e1; border: 3px solid #9D9D9D; border-radius: 5px; position: absolute;\"> </div>\n",
                            "    <div style=\"margin-left: 48px;\">\n",
                            "        <h3 style=\"margin-bottom: 0px;\">Client</h3>\n",
                            "        <p style=\"color: #9D9D9D; margin-bottom: 0px;\">Client-b9edcbf9-cafa-11ee-a3bd-3cecef1188b6</p>\n",
                            "        <table style=\"width: 100%; text-align: left;\">\n",
                            "\n",
                            "        <tr>\n",
                            "        \n",
                            "            <td style=\"text-align: left;\"><strong>Connection method:</strong> Cluster object</td>\n",
                            "            <td style=\"text-align: left;\"><strong>Cluster type:</strong> distributed.LocalCluster</td>\n",
                            "        \n",
                            "        </tr>\n",
                            "\n",
                            "        \n",
                            "            <tr>\n",
                            "                <td style=\"text-align: left;\">\n",
                            "                    <strong>Dashboard: </strong> <a href=\"http://127.0.0.1:44985/status\" target=\"_blank\">http://127.0.0.1:44985/status</a>\n",
                            "                </td>\n",
                            "                <td style=\"text-align: left;\"></td>\n",
                            "            </tr>\n",
                            "        \n",
                            "\n",
                            "        </table>\n",
                            "\n",
                            "        \n",
                            "\n",
                            "        \n",
                            "            <details>\n",
                            "            <summary style=\"margin-bottom: 20px;\"><h3 style=\"display: inline;\">Cluster Info</h3></summary>\n",
                            "            <div class=\"jp-RenderedHTMLCommon jp-RenderedHTML jp-mod-trusted jp-OutputArea-output\">\n",
                            "    <div style=\"width: 24px; height: 24px; background-color: #e1e1e1; border: 3px solid #9D9D9D; border-radius: 5px; position: absolute;\">\n",
                            "    </div>\n",
                            "    <div style=\"margin-left: 48px;\">\n",
                            "        <h3 style=\"margin-bottom: 0px; margin-top: 0px;\">LocalCluster</h3>\n",
                            "        <p style=\"color: #9D9D9D; margin-bottom: 0px;\">b57179e2</p>\n",
                            "        <table style=\"width: 100%; text-align: left;\">\n",
                            "            <tr>\n",
                            "                <td style=\"text-align: left;\">\n",
                            "                    <strong>Dashboard:</strong> <a href=\"http://127.0.0.1:44985/status\" target=\"_blank\">http://127.0.0.1:44985/status</a>\n",
                            "                </td>\n",
                            "                <td style=\"text-align: left;\">\n",
                            "                    <strong>Workers:</strong> 1\n",
                            "                </td>\n",
                            "            </tr>\n",
                            "            <tr>\n",
                            "                <td style=\"text-align: left;\">\n",
                            "                    <strong>Total threads:</strong> 1\n",
                            "                </td>\n",
                            "                <td style=\"text-align: left;\">\n",
                            "                    <strong>Total memory:</strong> 251.40 GiB\n",
                            "                </td>\n",
                            "            </tr>\n",
                            "            \n",
                            "            <tr>\n",
                            "    <td style=\"text-align: left;\"><strong>Status:</strong> running</td>\n",
                            "    <td style=\"text-align: left;\"><strong>Using processes:</strong> True</td>\n",
                            "</tr>\n",
                            "\n",
                            "            \n",
                            "        </table>\n",
                            "\n",
                            "        <details>\n",
                            "            <summary style=\"margin-bottom: 20px;\">\n",
                            "                <h3 style=\"display: inline;\">Scheduler Info</h3>\n",
                            "            </summary>\n",
                            "\n",
                            "            <div style=\"\">\n",
                            "    <div>\n",
                            "        <div style=\"width: 24px; height: 24px; background-color: #FFF7E5; border: 3px solid #FF6132; border-radius: 5px; position: absolute;\"> </div>\n",
                            "        <div style=\"margin-left: 48px;\">\n",
                            "            <h3 style=\"margin-bottom: 0px;\">Scheduler</h3>\n",
                            "            <p style=\"color: #9D9D9D; margin-bottom: 0px;\">Scheduler-57f7ee36-16aa-4b58-a123-8153db316bab</p>\n",
                            "            <table style=\"width: 100%; text-align: left;\">\n",
                            "                <tr>\n",
                            "                    <td style=\"text-align: left;\">\n",
                            "                        <strong>Comm:</strong> tcp://127.0.0.1:38597\n",
                            "                    </td>\n",
                            "                    <td style=\"text-align: left;\">\n",
                            "                        <strong>Workers:</strong> 1\n",
                            "                    </td>\n",
                            "                </tr>\n",
                            "                <tr>\n",
                            "                    <td style=\"text-align: left;\">\n",
                            "                        <strong>Dashboard:</strong> <a href=\"http://127.0.0.1:44985/status\" target=\"_blank\">http://127.0.0.1:44985/status</a>\n",
                            "                    </td>\n",
                            "                    <td style=\"text-align: left;\">\n",
                            "                        <strong>Total threads:</strong> 1\n",
                            "                    </td>\n",
                            "                </tr>\n",
                            "                <tr>\n",
                            "                    <td style=\"text-align: left;\">\n",
                            "                        <strong>Started:</strong> Just now\n",
                            "                    </td>\n",
                            "                    <td style=\"text-align: left;\">\n",
                            "                        <strong>Total memory:</strong> 251.40 GiB\n",
                            "                    </td>\n",
                            "                </tr>\n",
                            "            </table>\n",
                            "        </div>\n",
                            "    </div>\n",
                            "\n",
                            "    <details style=\"margin-left: 48px;\">\n",
                            "        <summary style=\"margin-bottom: 20px;\">\n",
                            "            <h3 style=\"display: inline;\">Workers</h3>\n",
                            "        </summary>\n",
                            "\n",
                            "        \n",
                            "        <div style=\"margin-bottom: 20px;\">\n",
                            "            <div style=\"width: 24px; height: 24px; background-color: #DBF5FF; border: 3px solid #4CC9FF; border-radius: 5px; position: absolute;\"> </div>\n",
                            "            <div style=\"margin-left: 48px;\">\n",
                            "            <details>\n",
                            "                <summary>\n",
                            "                    <h4 style=\"margin-bottom: 0px; display: inline;\">Worker: 0</h4>\n",
                            "                </summary>\n",
                            "                <table style=\"width: 100%; text-align: left;\">\n",
                            "                    <tr>\n",
                            "                        <td style=\"text-align: left;\">\n",
                            "                            <strong>Comm: </strong> tcp://127.0.0.1:43613\n",
                            "                        </td>\n",
                            "                        <td style=\"text-align: left;\">\n",
                            "                            <strong>Total threads: </strong> 1\n",
                            "                        </td>\n",
                            "                    </tr>\n",
                            "                    <tr>\n",
                            "                        <td style=\"text-align: left;\">\n",
                            "                            <strong>Dashboard: </strong> <a href=\"http://127.0.0.1:38241/status\" target=\"_blank\">http://127.0.0.1:38241/status</a>\n",
                            "                        </td>\n",
                            "                        <td style=\"text-align: left;\">\n",
                            "                            <strong>Memory: </strong> 251.40 GiB\n",
                            "                        </td>\n",
                            "                    </tr>\n",
                            "                    <tr>\n",
                            "                        <td style=\"text-align: left;\">\n",
                            "                            <strong>Nanny: </strong> tcp://127.0.0.1:32877\n",
                            "                        </td>\n",
                            "                        <td style=\"text-align: left;\"></td>\n",
                            "                    </tr>\n",
                            "                    <tr>\n",
                            "                        <td colspan=\"2\" style=\"text-align: left;\">\n",
                            "                            <strong>Local directory: </strong> /var/tmp/haridev/dask-scratch-space/worker-u7i2c_3z\n",
                            "                        </td>\n",
                            "                    </tr>\n",
                            "\n",
                            "                    \n",
                            "\n",
                            "                    \n",
                            "\n",
                            "                </table>\n",
                            "            </details>\n",
                            "            </div>\n",
                            "        </div>\n",
                            "        \n",
                            "\n",
                            "    </details>\n",
                            "</div>\n",
                            "\n",
                            "        </details>\n",
                            "    </div>\n",
                            "</div>\n",
                            "            </details>\n",
                            "        \n",
                            "\n",
                            "    </div>\n",
                            "</div>"
                        ],
                        "text/plain": [
                            "<Client: 'tcp://127.0.0.1:38597' processes=1 threads=1, memory=251.40 GiB>"
                        ]
                    },
                    "execution_count": 9,
                    "metadata": {},
                    "output_type": "execute_result"
                }
            ],
            "source": [
                "client"
            ]
        },
        {
            "cell_type": "code",
            "execution_count": 10,
            "id": "cf22bb45-b152-43fc-8cdb-a10c58b95fd8",
            "metadata": {},
            "outputs": [],
            "source": [
                "from dask.diagnostics import ProgressBar\n",
                "from dask.distributed import progress\n",
                "ProgressBar().register()"
            ]
        },
        {
            "cell_type": "code",
            "execution_count": 11,
            "id": "73ef553f",
            "metadata": {
                "ExecuteTime": {
                    "start_time": "2023-11-10T05:13:28.636Z"
                }
            },
            "outputs": [
                {
                    "name": "stdout",
                    "output_type": "stream",
                    "text": [
                        "22.5 s ± 0 ns per loop (mean ± std. dev. of 1 run, 1 loop each)\n"
                    ]
                }
            ],
            "source": [
                "start = time.time()\n",
                "file_pattern = glob(logfile)\n",
                "create_bag = dask.bag.from_delayed([dask.delayed(read_trace)(file) \n",
                "                                                for file in file_pattern])\n",
                "columns = {'name':\"string\", 'cat': \"string\",\n",
                "           'pid': \"string\",'tid': \"string\",\n",
                "           'dur': \"uint64\", 'ts': \"uint64\"}\n",
                "events = create_bag.to_dataframe(meta=columns)\n",
                "#events.head()\n",
                "n_partition = 1\n",
                "events = events.repartition(npartitions=n_partition).persist()\n",
                "progress(events)\n",
                "_ = wait(events)"
            ]
        },
        {
            "cell_type": "code",
            "execution_count": 12,
            "id": "0df5aa5a",
            "metadata": {
                "ExecuteTime": {
                    "start_time": "2023-11-10T05:14:03.708Z"
                }
            },
            "outputs": [],
            "source": [
                "#events.query(\"cat == 'RegionRole.FILE_IO'\").groupby(\"name\").count().compute()"
            ]
        },
        {
            "cell_type": "code",
            "execution_count": 13,
            "id": "5247c089",
            "metadata": {
                "ExecuteTime": {
                    "start_time": "2023-11-10T05:15:29.919Z"
                }
            },
            "outputs": [],
            "source": [
                "#len(events)"
            ]
        },
        {
            "cell_type": "code",
            "execution_count": 14,
            "id": "e3c72ad4",
            "metadata": {},
            "outputs": [
                {
                    "ename": "KilledWorker",
                    "evalue": "Attempted to run task ('bag-from-delayed-read_trace-to_dataframe-06e46d568c63791fd6b4cfe2ec1b9b1d', 0) on 4 different workers, but all those workers died while running it. The last worker that attempt to run the task was tcp://127.0.0.1:44645. Inspecting worker logs is often a good next step to diagnose what went wrong. For more information see https://distributed.dask.org/en/stable/killed.html.",
                    "output_type": "error",
                    "traceback": [
                        "\u001b[0;31m---------------------------------------------------------------------------\u001b[0m",
                        "\u001b[0;31mKilledWorker\u001b[0m                              Traceback (most recent call last)",
                        "Cell \u001b[0;32mIn[14], line 1\u001b[0m\n\u001b[0;32m----> 1\u001b[0m \u001b[43mevents\u001b[49m\u001b[38;5;241;43m.\u001b[39;49m\u001b[43mtail\u001b[49m\u001b[43m(\u001b[49m\u001b[43m)\u001b[49m\n",
                        "File \u001b[0;32m/usr/WS2/haridev/dftracer/venv/lib/python3.9/site-packages/dask/dataframe/core.py:1639\u001b[0m, in \u001b[0;36m_Frame.tail\u001b[0;34m(self, n, compute)\u001b[0m\n\u001b[1;32m   1636\u001b[0m result \u001b[38;5;241m=\u001b[39m new_dd_object(graph, name, \u001b[38;5;28mself\u001b[39m\u001b[38;5;241m.\u001b[39m_meta, \u001b[38;5;28mself\u001b[39m\u001b[38;5;241m.\u001b[39mdivisions[\u001b[38;5;241m-\u001b[39m\u001b[38;5;241m2\u001b[39m:])\n\u001b[1;32m   1638\u001b[0m \u001b[38;5;28;01mif\u001b[39;00m compute:\n\u001b[0;32m-> 1639\u001b[0m     result \u001b[38;5;241m=\u001b[39m \u001b[43mresult\u001b[49m\u001b[38;5;241;43m.\u001b[39;49m\u001b[43mcompute\u001b[49m\u001b[43m(\u001b[49m\u001b[43m)\u001b[49m\n\u001b[1;32m   1640\u001b[0m \u001b[38;5;28;01mreturn\u001b[39;00m result\n",
                        "File \u001b[0;32m/usr/WS2/haridev/dftracer/venv/lib/python3.9/site-packages/dask/base.py:377\u001b[0m, in \u001b[0;36mDaskMethodsMixin.compute\u001b[0;34m(self, **kwargs)\u001b[0m\n\u001b[1;32m    353\u001b[0m \u001b[38;5;28;01mdef\u001b[39;00m \u001b[38;5;21mcompute\u001b[39m(\u001b[38;5;28mself\u001b[39m, \u001b[38;5;241m*\u001b[39m\u001b[38;5;241m*\u001b[39mkwargs):\n\u001b[1;32m    354\u001b[0m \u001b[38;5;250m    \u001b[39m\u001b[38;5;124;03m\"\"\"Compute this dask collection\u001b[39;00m\n\u001b[1;32m    355\u001b[0m \n\u001b[1;32m    356\u001b[0m \u001b[38;5;124;03m    This turns a lazy Dask collection into its in-memory equivalent.\u001b[39;00m\n\u001b[0;32m   (...)\u001b[0m\n\u001b[1;32m    375\u001b[0m \u001b[38;5;124;03m    dask.compute\u001b[39;00m\n\u001b[1;32m    376\u001b[0m \u001b[38;5;124;03m    \"\"\"\u001b[39;00m\n\u001b[0;32m--> 377\u001b[0m     (result,) \u001b[38;5;241m=\u001b[39m \u001b[43mcompute\u001b[49m\u001b[43m(\u001b[49m\u001b[38;5;28;43mself\u001b[39;49m\u001b[43m,\u001b[49m\u001b[43m \u001b[49m\u001b[43mtraverse\u001b[49m\u001b[38;5;241;43m=\u001b[39;49m\u001b[38;5;28;43;01mFalse\u001b[39;49;00m\u001b[43m,\u001b[49m\u001b[43m \u001b[49m\u001b[38;5;241;43m*\u001b[39;49m\u001b[38;5;241;43m*\u001b[39;49m\u001b[43mkwargs\u001b[49m\u001b[43m)\u001b[49m\n\u001b[1;32m    378\u001b[0m     \u001b[38;5;28;01mreturn\u001b[39;00m result\n",
                        "File \u001b[0;32m/usr/WS2/haridev/dftracer/venv/lib/python3.9/site-packages/dask/base.py:663\u001b[0m, in \u001b[0;36mcompute\u001b[0;34m(traverse, optimize_graph, scheduler, get, *args, **kwargs)\u001b[0m\n\u001b[1;32m    660\u001b[0m     postcomputes\u001b[38;5;241m.\u001b[39mappend(x\u001b[38;5;241m.\u001b[39m__dask_postcompute__())\n\u001b[1;32m    662\u001b[0m \u001b[38;5;28;01mwith\u001b[39;00m shorten_traceback():\n\u001b[0;32m--> 663\u001b[0m     results \u001b[38;5;241m=\u001b[39m \u001b[43mschedule\u001b[49m\u001b[43m(\u001b[49m\u001b[43mdsk\u001b[49m\u001b[43m,\u001b[49m\u001b[43m \u001b[49m\u001b[43mkeys\u001b[49m\u001b[43m,\u001b[49m\u001b[43m \u001b[49m\u001b[38;5;241;43m*\u001b[39;49m\u001b[38;5;241;43m*\u001b[39;49m\u001b[43mkwargs\u001b[49m\u001b[43m)\u001b[49m\n\u001b[1;32m    665\u001b[0m \u001b[38;5;28;01mreturn\u001b[39;00m repack([f(r, \u001b[38;5;241m*\u001b[39ma) \u001b[38;5;28;01mfor\u001b[39;00m r, (f, a) \u001b[38;5;129;01min\u001b[39;00m \u001b[38;5;28mzip\u001b[39m(results, postcomputes)])\n",
                        "File \u001b[0;32m/usr/WS2/haridev/dftracer/venv/lib/python3.9/site-packages/distributed/client.py:2243\u001b[0m, in \u001b[0;36mClient._gather\u001b[0;34m(self, futures, errors, direct, local_worker)\u001b[0m\n\u001b[1;32m   2241\u001b[0m         exc \u001b[38;5;241m=\u001b[39m CancelledError(key)\n\u001b[1;32m   2242\u001b[0m     \u001b[38;5;28;01melse\u001b[39;00m:\n\u001b[0;32m-> 2243\u001b[0m         \u001b[38;5;28;01mraise\u001b[39;00m exception\u001b[38;5;241m.\u001b[39mwith_traceback(traceback)\n\u001b[1;32m   2244\u001b[0m     \u001b[38;5;28;01mraise\u001b[39;00m exc\n\u001b[1;32m   2245\u001b[0m \u001b[38;5;28;01mif\u001b[39;00m errors \u001b[38;5;241m==\u001b[39m \u001b[38;5;124m\"\u001b[39m\u001b[38;5;124mskip\u001b[39m\u001b[38;5;124m\"\u001b[39m:\n",
                        "\u001b[0;31mKilledWorker\u001b[0m: Attempted to run task ('bag-from-delayed-read_trace-to_dataframe-06e46d568c63791fd6b4cfe2ec1b9b1d', 0) on 4 different workers, but all those workers died while running it. The last worker that attempt to run the task was tcp://127.0.0.1:44645. Inspecting worker logs is often a good next step to diagnose what went wrong. For more information see https://distributed.dask.org/en/stable/killed.html."
                    ]
                }
            ],
            "source": [
                "events.tail()"
            ]
        },
        {
            "cell_type": "code",
            "execution_count": null,
            "id": "876a1036-803a-488d-a73f-f340f6ecaafd",
            "metadata": {},
            "outputs": [],
            "source": []
        }
    ],
    "metadata": {
        "kernelspec": {
            "display_name": "DFT corona",
            "language": "python",
            "name": "df_corona"
        },
        "language_info": {
            "codemirror_mode": {
                "name": "ipython",
                "version": 3
            },
            "file_extension": ".py",
            "mimetype": "text/x-python",
            "name": "python",
            "nbconvert_exporter": "python",
            "pygments_lexer": "ipython3",
            "version": "3.9.12"
        },
        "varInspector": {
            "cols": {
                "lenName": 16,
                "lenType": 16,
                "lenVar": 40
            },
            "kernels_config": {
                "python": {
                    "delete_cmd_postfix": "",
                    "delete_cmd_prefix": "del ",
                    "library": "var_list.py",
                    "varRefreshCmd": "print(var_dic_list())"
                },
                "r": {
                    "delete_cmd_postfix": ") ",
                    "delete_cmd_prefix": "rm(",
                    "library": "var_list.r",
                    "varRefreshCmd": "cat(var_dic_list()) "
                }
            },
            "types_to_exclude": [
                "module",
                "function",
                "builtin_function_or_method",
                "instance",
                "_Feature"
            ],
            "window_display": false
        },
        "widgets": {
            "application/vnd.jupyter.widget-state+json": {
                "state": {
                    "250917ab9f8b49ff9518b4dffde819c4": {
                        "model_module": "@jupyter-widgets/base",
                        "model_module_version": "2.0.0",
                        "model_name": "LayoutModel",
                        "state": {}
                    },
                    "f4a11044103a462e9677fab4afdaaed3": {
                        "model_module": "@jupyter-widgets/controls",
                        "model_module_version": "2.0.0",
                        "model_name": "VBoxModel",
                        "state": {
                            "layout": "IPY_MODEL_250917ab9f8b49ff9518b4dffde819c4"
                        }
                    }
                },
                "version_major": 2,
                "version_minor": 0
            }
        }
    },
    "nbformat": 4,
    "nbformat_minor": 5
}