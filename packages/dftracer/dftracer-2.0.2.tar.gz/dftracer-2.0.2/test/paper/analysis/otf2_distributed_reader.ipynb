{
    "cells": [
        {
            "cell_type": "code",
            "execution_count": 1,
            "id": "728c1e82",
            "metadata": {
                "ExecuteTime": {
                    "end_time": "2023-11-10T05:13:18.379282Z",
                    "start_time": "2023-11-10T05:13:16.696232Z"
                }
            },
            "outputs": [
                {
                    "name": "stdout",
                    "output_type": "stream",
                    "text": [
                        "pd 2.1.2\n"
                    ]
                },
                {
                    "name": "stderr",
                    "output_type": "stream",
                    "text": [
                        "/var/tmp/haridev/ipykernel_2334236/3183197727.py:8: DeprecationWarning: The current Dask DataFrame implementation is deprecated. \n",
                        "In a future release, Dask DataFrame will use new implementation that\n",
                        "contains several improvements including a logical query planning.\n",
                        "The user-facing DataFrame API will remain unchanged.\n",
                        "\n",
                        "The new implementation is already available and can be enabled by\n",
                        "installing the dask-expr library:\n",
                        "\n",
                        "    $ pip install dask-expr\n",
                        "\n",
                        "and turning the query planning option on:\n",
                        "\n",
                        "    >>> import dask\n",
                        "    >>> dask.config.set({'dataframe.query-planning': True})\n",
                        "    >>> import dask.dataframe as dd\n",
                        "\n",
                        "API documentation for the new implementation is available at\n",
                        "https://docs.dask.org/en/stable/dask-expr-api.html\n",
                        "\n",
                        "Any feedback can be reported on the Dask issue tracker\n",
                        "https://github.com/dask/dask/issues \n",
                        "\n",
                        "  import dask.dataframe as dd\n"
                    ]
                },
                {
                    "name": "stdout",
                    "output_type": "stream",
                    "text": [
                        "dask 2024.2.0\n",
                        "pa 15.0.0\n",
                        "np 1.26.1\n"
                    ]
                }
            ],
            "source": [
                "import otf2\n",
                "from otf2.events import *\n",
                "#import darshan\n",
                "from glob import glob\n",
                "import pandas as pd\n",
                "print(f\"pd {pd.__version__}\")\n",
                "import dask\n",
                "import dask.dataframe as dd\n",
                "print(f\"dask {dask.__version__}\")\n",
                "import pyarrow as pa\n",
                "print(f\"pa {pa.__version__}\")\n",
                "import numpy as np\n",
                "print(f\"np {np.__version__}\")\n",
                "from itertools import chain\n",
                "\n",
                "from dask.distributed import Client, LocalCluster, progress, wait\n",
                "from dask.distributed import Future, get_client\n",
                "from typing import Tuple, Union\n",
                "import os"
            ]
        },
        {
            "cell_type": "code",
            "execution_count": 2,
            "id": "4bb2b5ab",
            "metadata": {},
            "outputs": [],
            "source": [
                "folder=\"/usr/workspace/haridev/dftracer/logs/scorep\"\n",
                "app=\"dlio_40_10\"\n",
                "file=\"traces.otf2\""
            ]
        },
        {
            "cell_type": "code",
            "execution_count": 3,
            "id": "b872f9e8",
            "metadata": {
                "ExecuteTime": {
                    "end_time": "2023-11-10T05:13:18.384223Z",
                    "start_time": "2023-11-10T05:13:18.381764Z"
                }
            },
            "outputs": [],
            "source": [
                "logfile=f\"{folder}/{app}/{file}\""
            ]
        },
        {
            "cell_type": "code",
            "execution_count": 4,
            "id": "0678f5e9",
            "metadata": {},
            "outputs": [
                {
                    "name": "stdout",
                    "output_type": "stream",
                    "text": [
                        "/usr/workspace/haridev/dftracer/logs/scorep/dlio_40_10/traces.otf2\n"
                    ]
                }
            ],
            "source": [
                "!ls $logfile"
            ]
        },
        {
            "cell_type": "code",
            "execution_count": 5,
            "id": "847fbe5c",
            "metadata": {
                "ExecuteTime": {
                    "end_time": "2023-11-10T05:13:18.395393Z",
                    "start_time": "2023-11-10T05:13:18.385989Z"
                }
            },
            "outputs": [],
            "source": [
                "def get_json(location, start, end):\n",
                "    d = {}\n",
                "    #print(location, start)\n",
                "    d[\"name\"] = start.region.name\n",
                "    d[\"cat\"] = start.region.region_role\n",
                "    d[\"ts\"] = start.time\n",
                "    d[\"dur\"] = end.time - start.time\n",
                "    return d\n",
                "def get_json_one(location, start):\n",
                "    d = {}\n",
                "    #print(location.group, start)\n",
                "    if hasattr(start, 'region'):\n",
                "        d[\"name\"] = start.region.name\n",
                "        d[\"cat\"] = start.region.region_role\n",
                "    else:\n",
                "        d[\"name\"] = start.__class__\n",
                "        d[\"cat\"] = \"Program\"        \n",
                "    d[\"ts\"] = start.time\n",
                "    d[\"dur\"] = 0\n",
                "    d[\"tid\"] = location.name\n",
                "    d[\"pid\"] = location.group.name\n",
                "    return d\n",
                "import time\n",
                "\n",
                "start = time.time()\n",
                "def read_trace(trace_name):\n",
                "    map_events = {}\n",
                "    count = 0\n",
                "    with otf2.reader.open(trace_name) as trace:\n",
                "        #print(\"Read {} string definitions\".format(len(trace.definitions.strings)))\n",
                "        for location, event in trace.events:\n",
                "            if isinstance(event, Enter):\n",
                "                unique_id = (location, event.region)\n",
                "                map_events[unique_id] = [event]\n",
                "                #print(f\"Encountered enter event into {event.region} on location {location.group} at {event.attributes}\")\n",
                "            elif isinstance(event, Leave):\n",
                "                unique_id = (location, event.region)\n",
                "                if unique_id in map_events:\n",
                "                    map_events[unique_id].append(event)\n",
                "                else:\n",
                "                    map_events[unique_id] = [event]\n",
                "                #print(f\"Encountered enter event int\")\n",
                "                if len(map_events[unique_id]) == 2:\n",
                "                    yield dict(**get_json(location = location, start = map_events[unique_id][0], end = map_events[unique_id][1]))\n",
                "                elif len(map_events[unique_id]) == 1:\n",
                "                    yield dict(**get_json_one(location = location, start = map_events[unique_id][0]))\n",
                "                del map_events[unique_id]\n",
                "                #print(f\"Encountered leave event for {event.region} on location {location} at {event}\")\n",
                "            else:\n",
                "                yield dict(**get_json_one(location = location, start = event))\n",
                "                #print(f\"Encountered event on location {location} at {event}\")\n",
                "            count = count + 1\n",
                "            if count % 1000 == 0:\n",
                "                print(f\"Done {count} in {time.time() - start}\", end=\"\\r\")"
            ]
        },
        {
            "cell_type": "code",
            "execution_count": 6,
            "id": "bee1b2b0",
            "metadata": {
                "ExecuteTime": {
                    "end_time": "2023-11-10T05:13:18.400232Z",
                    "start_time": "2023-11-10T05:13:18.397151Z"
                }
            },
            "outputs": [],
            "source": [
                "initialized = False"
            ]
        },
        {
            "cell_type": "code",
            "execution_count": 7,
            "id": "50824214",
            "metadata": {
                "ExecuteTime": {
                    "end_time": "2023-11-10T05:13:27.335702Z",
                    "start_time": "2023-11-10T05:13:27.332022Z"
                }
            },
            "outputs": [
                {
                    "name": "stdout",
                    "output_type": "stream",
                    "text": [
                        "<Client: 'tcp://127.0.0.1:34791' processes=1 threads=48, memory=251.40 GiB>\n"
                    ]
                }
            ],
            "source": [
                "if not initialized:\n",
                "    workers = 1\n",
                "    cluster = LocalCluster(n_workers=workers)  # Launches a scheduler and workers locally\n",
                "    client = Client(cluster)  # Connect to distributed cluster and override default\n",
                "    print(client)\n",
                "    initialized = True"
            ]
        },
        {
            "cell_type": "code",
            "execution_count": 8,
            "id": "5cde7177-4f2a-4eb8-9e30-499ccb7a6dfd",
            "metadata": {},
            "outputs": [
                {
                    "data": {
                        "text/html": [
                            "<div>\n",
                            "    <div style=\"width: 24px; height: 24px; background-color: #e1e1e1; border: 3px solid #9D9D9D; border-radius: 5px; position: absolute;\"> </div>\n",
                            "    <div style=\"margin-left: 48px;\">\n",
                            "        <h3 style=\"margin-bottom: 0px;\">Client</h3>\n",
                            "        <p style=\"color: #9D9D9D; margin-bottom: 0px;\">Client-863a4f1e-caf9-11ee-9e1c-3cecef1188b6</p>\n",
                            "        <table style=\"width: 100%; text-align: left;\">\n",
                            "\n",
                            "        <tr>\n",
                            "        \n",
                            "            <td style=\"text-align: left;\"><strong>Connection method:</strong> Cluster object</td>\n",
                            "            <td style=\"text-align: left;\"><strong>Cluster type:</strong> distributed.LocalCluster</td>\n",
                            "        \n",
                            "        </tr>\n",
                            "\n",
                            "        \n",
                            "            <tr>\n",
                            "                <td style=\"text-align: left;\">\n",
                            "                    <strong>Dashboard: </strong> <a href=\"http://127.0.0.1:8787/status\" target=\"_blank\">http://127.0.0.1:8787/status</a>\n",
                            "                </td>\n",
                            "                <td style=\"text-align: left;\"></td>\n",
                            "            </tr>\n",
                            "        \n",
                            "\n",
                            "        </table>\n",
                            "\n",
                            "        \n",
                            "\n",
                            "        \n",
                            "            <details>\n",
                            "            <summary style=\"margin-bottom: 20px;\"><h3 style=\"display: inline;\">Cluster Info</h3></summary>\n",
                            "            <div class=\"jp-RenderedHTMLCommon jp-RenderedHTML jp-mod-trusted jp-OutputArea-output\">\n",
                            "    <div style=\"width: 24px; height: 24px; background-color: #e1e1e1; border: 3px solid #9D9D9D; border-radius: 5px; position: absolute;\">\n",
                            "    </div>\n",
                            "    <div style=\"margin-left: 48px;\">\n",
                            "        <h3 style=\"margin-bottom: 0px; margin-top: 0px;\">LocalCluster</h3>\n",
                            "        <p style=\"color: #9D9D9D; margin-bottom: 0px;\">a8f0a426</p>\n",
                            "        <table style=\"width: 100%; text-align: left;\">\n",
                            "            <tr>\n",
                            "                <td style=\"text-align: left;\">\n",
                            "                    <strong>Dashboard:</strong> <a href=\"http://127.0.0.1:8787/status\" target=\"_blank\">http://127.0.0.1:8787/status</a>\n",
                            "                </td>\n",
                            "                <td style=\"text-align: left;\">\n",
                            "                    <strong>Workers:</strong> 1\n",
                            "                </td>\n",
                            "            </tr>\n",
                            "            <tr>\n",
                            "                <td style=\"text-align: left;\">\n",
                            "                    <strong>Total threads:</strong> 48\n",
                            "                </td>\n",
                            "                <td style=\"text-align: left;\">\n",
                            "                    <strong>Total memory:</strong> 251.40 GiB\n",
                            "                </td>\n",
                            "            </tr>\n",
                            "            \n",
                            "            <tr>\n",
                            "    <td style=\"text-align: left;\"><strong>Status:</strong> running</td>\n",
                            "    <td style=\"text-align: left;\"><strong>Using processes:</strong> True</td>\n",
                            "</tr>\n",
                            "\n",
                            "            \n",
                            "        </table>\n",
                            "\n",
                            "        <details>\n",
                            "            <summary style=\"margin-bottom: 20px;\">\n",
                            "                <h3 style=\"display: inline;\">Scheduler Info</h3>\n",
                            "            </summary>\n",
                            "\n",
                            "            <div style=\"\">\n",
                            "    <div>\n",
                            "        <div style=\"width: 24px; height: 24px; background-color: #FFF7E5; border: 3px solid #FF6132; border-radius: 5px; position: absolute;\"> </div>\n",
                            "        <div style=\"margin-left: 48px;\">\n",
                            "            <h3 style=\"margin-bottom: 0px;\">Scheduler</h3>\n",
                            "            <p style=\"color: #9D9D9D; margin-bottom: 0px;\">Scheduler-569848ec-0e3a-4aee-aa7a-f3404666c64f</p>\n",
                            "            <table style=\"width: 100%; text-align: left;\">\n",
                            "                <tr>\n",
                            "                    <td style=\"text-align: left;\">\n",
                            "                        <strong>Comm:</strong> tcp://127.0.0.1:34791\n",
                            "                    </td>\n",
                            "                    <td style=\"text-align: left;\">\n",
                            "                        <strong>Workers:</strong> 1\n",
                            "                    </td>\n",
                            "                </tr>\n",
                            "                <tr>\n",
                            "                    <td style=\"text-align: left;\">\n",
                            "                        <strong>Dashboard:</strong> <a href=\"http://127.0.0.1:8787/status\" target=\"_blank\">http://127.0.0.1:8787/status</a>\n",
                            "                    </td>\n",
                            "                    <td style=\"text-align: left;\">\n",
                            "                        <strong>Total threads:</strong> 48\n",
                            "                    </td>\n",
                            "                </tr>\n",
                            "                <tr>\n",
                            "                    <td style=\"text-align: left;\">\n",
                            "                        <strong>Started:</strong> Just now\n",
                            "                    </td>\n",
                            "                    <td style=\"text-align: left;\">\n",
                            "                        <strong>Total memory:</strong> 251.40 GiB\n",
                            "                    </td>\n",
                            "                </tr>\n",
                            "            </table>\n",
                            "        </div>\n",
                            "    </div>\n",
                            "\n",
                            "    <details style=\"margin-left: 48px;\">\n",
                            "        <summary style=\"margin-bottom: 20px;\">\n",
                            "            <h3 style=\"display: inline;\">Workers</h3>\n",
                            "        </summary>\n",
                            "\n",
                            "        \n",
                            "        <div style=\"margin-bottom: 20px;\">\n",
                            "            <div style=\"width: 24px; height: 24px; background-color: #DBF5FF; border: 3px solid #4CC9FF; border-radius: 5px; position: absolute;\"> </div>\n",
                            "            <div style=\"margin-left: 48px;\">\n",
                            "            <details>\n",
                            "                <summary>\n",
                            "                    <h4 style=\"margin-bottom: 0px; display: inline;\">Worker: 0</h4>\n",
                            "                </summary>\n",
                            "                <table style=\"width: 100%; text-align: left;\">\n",
                            "                    <tr>\n",
                            "                        <td style=\"text-align: left;\">\n",
                            "                            <strong>Comm: </strong> tcp://127.0.0.1:38989\n",
                            "                        </td>\n",
                            "                        <td style=\"text-align: left;\">\n",
                            "                            <strong>Total threads: </strong> 48\n",
                            "                        </td>\n",
                            "                    </tr>\n",
                            "                    <tr>\n",
                            "                        <td style=\"text-align: left;\">\n",
                            "                            <strong>Dashboard: </strong> <a href=\"http://127.0.0.1:37651/status\" target=\"_blank\">http://127.0.0.1:37651/status</a>\n",
                            "                        </td>\n",
                            "                        <td style=\"text-align: left;\">\n",
                            "                            <strong>Memory: </strong> 251.40 GiB\n",
                            "                        </td>\n",
                            "                    </tr>\n",
                            "                    <tr>\n",
                            "                        <td style=\"text-align: left;\">\n",
                            "                            <strong>Nanny: </strong> tcp://127.0.0.1:45845\n",
                            "                        </td>\n",
                            "                        <td style=\"text-align: left;\"></td>\n",
                            "                    </tr>\n",
                            "                    <tr>\n",
                            "                        <td colspan=\"2\" style=\"text-align: left;\">\n",
                            "                            <strong>Local directory: </strong> /var/tmp/haridev/dask-scratch-space/worker-su089x8b\n",
                            "                        </td>\n",
                            "                    </tr>\n",
                            "\n",
                            "                    \n",
                            "\n",
                            "                    \n",
                            "\n",
                            "                </table>\n",
                            "            </details>\n",
                            "            </div>\n",
                            "        </div>\n",
                            "        \n",
                            "\n",
                            "    </details>\n",
                            "</div>\n",
                            "\n",
                            "        </details>\n",
                            "    </div>\n",
                            "</div>\n",
                            "            </details>\n",
                            "        \n",
                            "\n",
                            "    </div>\n",
                            "</div>"
                        ],
                        "text/plain": [
                            "<Client: 'tcp://127.0.0.1:34791' processes=1 threads=48, memory=251.40 GiB>"
                        ]
                    },
                    "execution_count": 8,
                    "metadata": {},
                    "output_type": "execute_result"
                }
            ],
            "source": [
                "client"
            ]
        },
        {
            "cell_type": "code",
            "execution_count": 9,
            "id": "cf22bb45-b152-43fc-8cdb-a10c58b95fd8",
            "metadata": {},
            "outputs": [],
            "source": [
                "from dask.diagnostics import ProgressBar\n",
                "from dask.distributed import progress\n",
                "ProgressBar().register()"
            ]
        },
        {
            "cell_type": "code",
            "execution_count": 10,
            "id": "73ef553f",
            "metadata": {
                "ExecuteTime": {
                    "start_time": "2023-11-10T05:13:28.636Z"
                }
            },
            "outputs": [
                {
                    "name": "stdout",
                    "output_type": "stream",
                    "text": [
                        "38.6 s ± 210 ms per loop (mean ± std. dev. of 5 runs, 1 loop each)\n"
                    ]
                }
            ],
            "source": [
                "%%timeit -n 1 -r 5 a = 2\n",
                "start = time.time()\n",
                "file_pattern = glob(logfile)\n",
                "create_bag = dask.bag.from_delayed([dask.delayed(read_trace)(file) \n",
                "                                                for file in file_pattern])\n",
                "columns = {'name':\"string\", 'cat': \"string\",\n",
                "           'pid': \"string\",'tid': \"string\",\n",
                "           'dur': \"uint64\", 'ts': \"uint64\"}\n",
                "events = create_bag.to_dataframe(meta=columns)\n",
                "#events.head()\n",
                "n_partition = 1\n",
                "events = events.repartition(npartitions=n_partition).persist()\n",
                "progress(events)\n",
                "_ = wait(events)"
            ]
        },
        {
            "cell_type": "code",
            "execution_count": 11,
            "id": "0df5aa5a",
            "metadata": {
                "ExecuteTime": {
                    "start_time": "2023-11-10T05:14:03.708Z"
                }
            },
            "outputs": [],
            "source": [
                "#events.query(\"cat == 'RegionRole.FILE_IO'\").groupby(\"name\").count().compute()"
            ]
        },
        {
            "cell_type": "code",
            "execution_count": 12,
            "id": "5247c089",
            "metadata": {
                "ExecuteTime": {
                    "start_time": "2023-11-10T05:15:29.919Z"
                }
            },
            "outputs": [],
            "source": [
                "#len(events)"
            ]
        },
        {
            "cell_type": "code",
            "execution_count": null,
            "id": "e3c72ad4",
            "metadata": {},
            "outputs": [],
            "source": []
        }
    ],
    "metadata": {
        "kernelspec": {
            "display_name": "DFT corona",
            "language": "python",
            "name": "df_corona"
        },
        "language_info": {
            "codemirror_mode": {
                "name": "ipython",
                "version": 3
            },
            "file_extension": ".py",
            "mimetype": "text/x-python",
            "name": "python",
            "nbconvert_exporter": "python",
            "pygments_lexer": "ipython3",
            "version": "3.9.12"
        },
        "varInspector": {
            "cols": {
                "lenName": 16,
                "lenType": 16,
                "lenVar": 40
            },
            "kernels_config": {
                "python": {
                    "delete_cmd_postfix": "",
                    "delete_cmd_prefix": "del ",
                    "library": "var_list.py",
                    "varRefreshCmd": "print(var_dic_list())"
                },
                "r": {
                    "delete_cmd_postfix": ") ",
                    "delete_cmd_prefix": "rm(",
                    "library": "var_list.r",
                    "varRefreshCmd": "cat(var_dic_list()) "
                }
            },
            "types_to_exclude": [
                "module",
                "function",
                "builtin_function_or_method",
                "instance",
                "_Feature"
            ],
            "window_display": false
        },
        "widgets": {
            "application/vnd.jupyter.widget-state+json": {
                "state": {
                    "250917ab9f8b49ff9518b4dffde819c4": {
                        "model_module": "@jupyter-widgets/base",
                        "model_module_version": "2.0.0",
                        "model_name": "LayoutModel",
                        "state": {}
                    },
                    "f4a11044103a462e9677fab4afdaaed3": {
                        "model_module": "@jupyter-widgets/controls",
                        "model_module_version": "2.0.0",
                        "model_name": "VBoxModel",
                        "state": {
                            "layout": "IPY_MODEL_250917ab9f8b49ff9518b4dffde819c4"
                        }
                    }
                },
                "version_major": 2,
                "version_minor": 0
            }
        }
    },
    "nbformat": 4,
    "nbformat_minor": 5
}