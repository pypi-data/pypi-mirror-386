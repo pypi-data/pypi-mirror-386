{
 "cells": [
  {
   "cell_type": "markdown",
   "metadata": {},
   "source": [
    "# GO-CAM AI Demo\n",
    "\n",
    "This notebook demonstrates the key functionality of the noctua-py library for programmatically manipulating GO-CAM models via the Noctua/Minerva/Barista API stack.\n",
    "\n",
    "## Setup\n",
    "\n",
    "First, ensure you have noctua-py installed:\n",
    "\n",
    "```bash\n",
    "pip install noctua-py\n",
    "# or with uv:\n",
    "uv add noctua-py\n",
    "```"
   ]
  },
  {
   "cell_type": "markdown",
   "metadata": {},
   "source": [
    "## Environment Setup\n",
    "\n",
    "You'll need a Barista token to interact with the API. For development/testing, you can use the dev server token:"
   ]
  },
  {
   "cell_type": "code",
   "execution_count": null,
   "metadata": {},
   "outputs": [],
   "source": "import os\nimport json\nfrom noctua.barista import BaristaClient, BaristaError\n\n# Ensure BARISTA_TOKEN is set in your environment\n# For development: Contact the GO team for a dev token\n# For production: Get token from Noctua login\nif not os.environ.get(\"BARISTA_TOKEN\"):\n    print(\"ERROR: BARISTA_TOKEN environment variable not set\")\n    print(\"Please set: export BARISTA_TOKEN=your-token-here\")\n    raise SystemExit(1)\n\n# Test model ID - change this to an existing model on your server\nTEST_MODEL_ID = \"gomodel:6796b94c00003233\"\n\nprint(\"Environment configured for Barista API\")"
  },
  {
   "cell_type": "markdown",
   "metadata": {},
   "source": [
    "## 1. Creating a Barista Client\n",
    "\n",
    "The BaristaClient is your main interface to the GO-CAM API:"
   ]
  },
  {
   "cell_type": "code",
   "execution_count": null,
   "metadata": {},
   "outputs": [],
   "source": [
    "# Create a client for the dev server (default)\n",
    "client = BaristaClient()\n",
    "\n",
    "print(f\"Client configured for: {client.base_url}\")\n",
    "print(f\"Namespace: {client.namespace}\")"
   ]
  },
  {
   "cell_type": "markdown",
   "metadata": {},
   "source": [
    "## 2. Listing Models\n",
    "\n",
    "List all available GO-CAM models with filtering options:"
   ]
  },
  {
   "cell_type": "code",
   "execution_count": null,
   "metadata": {},
   "outputs": [],
   "source": [
    "# List models with various filters\n",
    "result = client.list_models(\n",
    "    limit=5,  # Limit to 5 models\n",
    "    state=\"development\"  # Only development models\n",
    ")\n",
    "\n",
    "models = result.get(\"models\", [])\n",
    "total = result.get(\"n\", 0)\n",
    "\n",
    "print(f\"Found {total} total models, showing {len(models)}:\")\n",
    "print()\n",
    "\n",
    "for model in models:\n",
    "    model_id = model.get(\"id\", \"\")\n",
    "    title = model.get(\"title\", \"(no title)\")\n",
    "    state = model.get(\"state\", \"\")\n",
    "    print(f\"ID: {model_id}\")\n",
    "    print(f\"   Title: {title[:80]}...\" if len(title) > 80 else f\"   Title: {title}\")\n",
    "    print(f\"   State: {state}\")\n",
    "    print()"
   ]
  },
  {
   "cell_type": "markdown",
   "metadata": {},
   "source": [
    "## 3. Creating a New Model\n",
    "\n",
    "Create a new empty GO-CAM model:"
   ]
  },
  {
   "cell_type": "code",
   "execution_count": null,
   "metadata": {},
   "outputs": [],
   "source": [
    "# Create a new model with a title\n",
    "response = client.create_model(title=\"Demo GO-CAM Model from Jupyter\")\n",
    "\n",
    "if response.ok:\n",
    "    new_model_id = response.model_id\n",
    "    print(f\"Successfully created model: {new_model_id}\")\n",
    "else:\n",
    "    print(f\"Failed to create model: {response.raw}\")\n",
    "    new_model_id = TEST_MODEL_ID  # Fall back to test model\n",
    "    print(f\"Using existing test model: {new_model_id}\")"
   ]
  },
  {
   "cell_type": "markdown",
   "metadata": {},
   "source": [
    "## 4. Getting Model Details\n",
    "\n",
    "Retrieve the full details of a GO-CAM model:"
   ]
  },
  {
   "cell_type": "code",
   "execution_count": null,
   "metadata": {},
   "outputs": [],
   "source": [
    "# Get model details\n",
    "response = client.get_model(new_model_id)\n",
    "\n",
    "if response.ok:\n",
    "    print(f\"Model ID: {response.model_id}\")\n",
    "    print(f\"State: {response.model_state}\")\n",
    "    print(f\"Number of individuals: {len(response.individuals)}\")\n",
    "    print(f\"Number of facts/edges: {len(response.facts)}\")\n",
    "    \n",
    "    # Show first few individuals if any\n",
    "    if response.individuals:\n",
    "        print(\"\\nFirst 3 individuals:\")\n",
    "        for ind in response.individuals[:3]:\n",
    "            ind_id = ind.get(\"id\", \"\")\n",
    "            types = ind.get(\"type\", [])\n",
    "            if types:\n",
    "                type_str = \", \".join([t.get(\"label\", t.get(\"id\", \"\")) for t in types if t])\n",
    "                print(f\"  - {ind_id}: {type_str}\")\n",
    "else:\n",
    "    print(f\"Failed to get model: {response.raw}\")"
   ]
  },
  {
   "cell_type": "markdown",
   "metadata": {},
   "source": [
    "## 5. Adding Individuals (Nodes)\n",
    "\n",
    "Add molecular function individuals to the model:"
   ]
  },
  {
   "cell_type": "code",
   "execution_count": null,
   "metadata": {},
   "outputs": [],
   "source": [
    "# Add some molecular function individuals\n",
    "activities = [\n",
    "    (\"GO:0003924\", \"GTPase activity\", \"ras\"),\n",
    "    (\"GO:0004674\", \"protein serine/threonine kinase activity\", \"raf\"),\n",
    "    (\"GO:0004707\", \"MAP kinase activity\", \"erk\")\n",
    "]\n",
    "\n",
    "added_individuals = {}\n",
    "\n",
    "for go_id, label, var_name in activities:\n",
    "    response = client.add_individual(new_model_id, go_id, assign_var=var_name)\n",
    "    if response.ok:\n",
    "        # Find the newly added individual\n",
    "        for ind in response.individuals:\n",
    "            types = ind.get(\"type\", [])\n",
    "            for t in types:\n",
    "                if t.get(\"id\") == go_id:\n",
    "                    added_individuals[var_name] = ind[\"id\"]\n",
    "                    print(f\"Added {label}: {ind['id']}\")\n",
    "                    break\n",
    "    else:\n",
    "        print(f\"Failed to add {label}: {response.raw.get('message', 'Unknown error')}\")"
   ]
  },
  {
   "cell_type": "markdown",
   "metadata": {},
   "source": [
    "## 6. Adding Facts (Edges)\n",
    "\n",
    "Connect individuals with causal relationships:"
   ]
  },
  {
   "cell_type": "code",
   "execution_count": null,
   "metadata": {},
   "outputs": [],
   "source": [
    "# Add causal relationships if we have individuals\n",
    "if len(added_individuals) >= 2:\n",
    "    # Get the actual IDs\n",
    "    ras_id = added_individuals.get(\"ras\")\n",
    "    raf_id = added_individuals.get(\"raf\")\n",
    "    erk_id = added_individuals.get(\"erk\")\n",
    "    \n",
    "    # Add edges if we have the nodes\n",
    "    if ras_id and raf_id:\n",
    "        response = client.add_fact(\n",
    "            new_model_id,\n",
    "            subject_id=ras_id,\n",
    "            object_id=raf_id,\n",
    "            predicate_id=\"RO:0002413\"  # directly positively regulates\n",
    "        )\n",
    "        if response.ok:\n",
    "            print(\"Added edge: RAS -> RAF\")\n",
    "        else:\n",
    "            print(f\"Failed to add edge: {response.raw.get('message', '')}\")\n",
    "    \n",
    "    if raf_id and erk_id:\n",
    "        response = client.add_fact(\n",
    "            new_model_id,\n",
    "            subject_id=raf_id,\n",
    "            object_id=erk_id,\n",
    "            predicate_id=\"RO:0002413\"\n",
    "        )\n",
    "        if response.ok:\n",
    "            print(\"Added edge: RAF -> ERK\")\n",
    "        else:\n",
    "            print(f\"Failed to add edge: {response.raw.get('message', '')}\")\n",
    "else:\n",
    "    print(\"Not enough individuals to create edges\")"
   ]
  },
  {
   "cell_type": "markdown",
   "metadata": {},
   "source": [
    "## 7. Adding Evidence\n",
    "\n",
    "Add evidence annotations to support facts:"
   ]
  },
  {
   "cell_type": "code",
   "execution_count": null,
   "metadata": {},
   "outputs": [],
   "source": [
    "# Add evidence to an edge if we have one\n",
    "if len(added_individuals) >= 2 and \"ras\" in added_individuals and \"raf\" in added_individuals:\n",
    "    ras_id = added_individuals[\"ras\"]\n",
    "    raf_id = added_individuals[\"raf\"]\n",
    "    \n",
    "    # Build the evidence requests\n",
    "    evidence_requests = client.req_add_evidence_to_fact(\n",
    "        new_model_id,\n",
    "        subject_id=ras_id,\n",
    "        object_id=raf_id,\n",
    "        predicate_id=\"RO:0002413\",\n",
    "        eco_id=\"ECO:0000314\",  # direct assay evidence\n",
    "        sources=[\"PMID:12345678\"],\n",
    "        with_from=[\"UniProtKB:P01112\"]  # HRAS\n",
    "    )\n",
    "    \n",
    "    # Execute the batch request\n",
    "    response = client.m3_batch(evidence_requests)\n",
    "    \n",
    "    if response.ok:\n",
    "        print(\"Successfully added evidence to RAS->RAF edge\")\n",
    "    else:\n",
    "        print(f\"Failed to add evidence: {response.raw.get('message', '')}\")\n",
    "else:\n",
    "    print(\"No edges available to add evidence\")"
   ]
  },
  {
   "cell_type": "markdown",
   "metadata": {},
   "source": [
    "## 8. Exporting Models\n",
    "\n",
    "Export models in different formats:"
   ]
  },
  {
   "cell_type": "code",
   "execution_count": null,
   "metadata": {},
   "outputs": [],
   "source": [
    "# Get the model in native Minerva JSON format\n",
    "response = client.get_model(new_model_id)\n",
    "\n",
    "if response.ok:\n",
    "    print(\"Model structure (native Minerva JSON):\")\n",
    "    print(f\"- Model ID: {response.model_id}\")\n",
    "    print(f\"- Individuals: {len(response.individuals)}\")\n",
    "    print(f\"- Facts: {len(response.facts)}\")\n",
    "    \n",
    "    # Show compact version\n",
    "    data = response.raw.get(\"data\", {})\n",
    "    compact = {\n",
    "        \"id\": data.get(\"id\"),\n",
    "        \"individuals_count\": len(data.get(\"individuals\", [])),\n",
    "        \"facts_count\": len(data.get(\"facts\", [])),\n",
    "        \"annotations\": data.get(\"annotations\", [])\n",
    "    }\n",
    "    print(\"\\nCompact view:\")\n",
    "    print(json.dumps(compact, indent=2))\n",
    "else:\n",
    "    print(f\"Failed to export: {response.raw}\")"
   ]
  },
  {
   "cell_type": "markdown",
   "metadata": {},
   "source": [
    "## 9. Converting to GO-CAM Format\n",
    "\n",
    "Convert the Minerva JSON to standard GO-CAM format (if the model has proper structure):"
   ]
  },
  {
   "cell_type": "code",
   "execution_count": null,
   "metadata": {},
   "outputs": [],
   "source": [
    "try:\n",
    "    from gocam.translation.minerva_wrapper import MinervaWrapper\n",
    "    \n",
    "    # Get the model data\n",
    "    response = client.get_model(new_model_id)\n",
    "    if response.ok:\n",
    "        minerva_data = response.raw.get(\"data\", {})\n",
    "        \n",
    "        # Ensure required fields\n",
    "        if \"id\" not in minerva_data:\n",
    "            minerva_data[\"id\"] = new_model_id\n",
    "        if \"title\" not in minerva_data:\n",
    "            minerva_data[\"title\"] = \"Demo Model\"\n",
    "        \n",
    "        # Try to convert (may fail if model doesn't have enabled_by facts)\n",
    "        try:\n",
    "            gocam_model = MinervaWrapper.minerva_object_to_model(minerva_data)\n",
    "            print(\"Successfully converted to GO-CAM format!\")\n",
    "            print(f\"Model ID: {gocam_model.id}\")\n",
    "            print(f\"Title: {gocam_model.title}\")\n",
    "            if gocam_model.activities:\n",
    "                print(f\"Activities: {len(gocam_model.activities)}\")\n",
    "        except Exception as e:\n",
    "            print(f\"Note: Model doesn't follow standard GO-CAM structure: {e}\")\n",
    "            print(\"This is normal for models without enabled_by facts linking to gene products\")\n",
    "    else:\n",
    "        print(\"Failed to get model\")\n",
    "        \n",
    "except ImportError:\n",
    "    print(\"gocam package not installed. Install with: pip install gocam\")"
   ]
  },
  {
   "cell_type": "markdown",
   "metadata": {},
   "source": [
    "## 10. Deleting Model Elements\n",
    "\n",
    "Remove edges and individuals from the model:"
   ]
  },
  {
   "cell_type": "code",
   "execution_count": null,
   "metadata": {},
   "outputs": [],
   "source": [
    "# Delete an edge if we have one\n",
    "if len(added_individuals) >= 2 and \"raf\" in added_individuals and \"erk\" in added_individuals:\n",
    "    raf_id = added_individuals[\"raf\"]\n",
    "    erk_id = added_individuals[\"erk\"]\n",
    "    \n",
    "    response = client.delete_edge(\n",
    "        new_model_id,\n",
    "        subject_id=raf_id,\n",
    "        object_id=erk_id,\n",
    "        predicate_id=\"RO:0002413\"\n",
    "    )\n",
    "    \n",
    "    if response.ok:\n",
    "        print(\"Successfully deleted RAF->ERK edge\")\n",
    "    else:\n",
    "        print(f\"Failed to delete edge: {response.raw.get('message', '')}\")\n",
    "\n",
    "# Delete an individual\n",
    "if \"erk\" in added_individuals:\n",
    "    erk_id = added_individuals[\"erk\"]\n",
    "    \n",
    "    response = client.delete_individual(new_model_id, erk_id)\n",
    "    \n",
    "    if response.ok:\n",
    "        print(f\"Successfully deleted ERK individual: {erk_id}\")\n",
    "    else:\n",
    "        print(f\"Failed to delete individual: {response.raw.get('message', '')}\")"
   ]
  },
  {
   "cell_type": "markdown",
   "metadata": {},
   "source": [
    "## 11. Clearing a Model\n",
    "\n",
    "Remove all content from a model (use with caution!):"
   ]
  },
  {
   "cell_type": "code",
   "execution_count": null,
   "metadata": {},
   "outputs": [],
   "source": [
    "# Only clear if this is a test model we created\n",
    "if new_model_id != TEST_MODEL_ID:\n",
    "    try:\n",
    "        response = client.clear_model(new_model_id)\n",
    "        if response.ok:\n",
    "            print(f\"Successfully cleared model {new_model_id}\")\n",
    "        else:\n",
    "            print(f\"Failed to clear: {response.raw}\")\n",
    "    except BaristaError as e:\n",
    "        print(f\"Cannot clear model: {e}\")\n",
    "else:\n",
    "    print(\"Not clearing the shared test model\")"
   ]
  },
  {
   "cell_type": "markdown",
   "metadata": {},
   "source": [
    "## 12. Using the CLI\n",
    "\n",
    "You can also use the command-line interface for all these operations:\n",
    "\n",
    "```bash\n",
    "# List models\n",
    "noctua-py barista list-models --limit 10 --state production\n",
    "\n",
    "# Create a model\n",
    "noctua-py barista create-model --title \"My Model\"\n",
    "\n",
    "# Add an individual\n",
    "noctua-py barista add-individual --model gomodel:XXX --class GO:0003924\n",
    "\n",
    "# Add a fact/edge\n",
    "noctua-py barista add-fact --model gomodel:XXX --subject id1 --object id2 --predicate RO:0002413\n",
    "\n",
    "# Export model in different formats\n",
    "noctua-py barista export-model --model gomodel:XXX --format minerva-json\n",
    "noctua-py barista export-model --model gomodel:XXX --format gocam-json\n",
    "noctua-py barista export-model --model gomodel:XXX --format gocam-yaml\n",
    "\n",
    "# Delete elements\n",
    "noctua-py barista delete-edge --model gomodel:XXX --subject id1 --object id2 --predicate RO:0002413\n",
    "noctua-py barista delete-individual --model gomodel:XXX --individual id1\n",
    "\n",
    "# Clear a model\n",
    "noctua-py barista clear-model --model gomodel:XXX\n",
    "```\n",
    "\n",
    "Add `--live` flag to use production server instead of dev server.\n",
    "Add `--dry-run` to see the request without executing it."
   ]
  },
  {
   "cell_type": "markdown",
   "metadata": {},
   "source": [
    "## Summary\n",
    "\n",
    "This notebook demonstrated:\n",
    "\n",
    "1. **Client Setup** - Configuring BaristaClient for dev/production servers\n",
    "2. **Model Management** - Creating, listing, and retrieving models\n",
    "3. **Building Models** - Adding individuals (nodes) and facts (edges)\n",
    "4. **Evidence** - Annotating facts with evidence and references\n",
    "5. **Export Formats** - Native Minerva JSON, GO-CAM JSON, and YAML\n",
    "6. **Model Editing** - Deleting elements and clearing models\n",
    "7. **CLI Usage** - Command-line interface for all operations\n",
    "\n",
    "For more information:\n",
    "- [GO-CAM Documentation](http://geneontology.org/docs/gocam-overview/)\n",
    "- [noctua-py GitHub Repository](https://github.com/geneontology/noctua-py)"
   ]
  }
 ],
 "metadata": {
  "kernelspec": {
   "display_name": "Python 3",
   "language": "python",
   "name": "python3"
  },
  "language_info": {
   "codemirror_mode": {
    "name": "ipython",
    "version": 3
   },
   "file_extension": ".py",
   "mimetype": "text/x-python",
   "name": "python",
   "nbconvert_exporter": "python",
   "pygments_lexer": "ipython3",
   "version": "3.9.0"
  }
 },
 "nbformat": 4,
 "nbformat_minor": 4
}