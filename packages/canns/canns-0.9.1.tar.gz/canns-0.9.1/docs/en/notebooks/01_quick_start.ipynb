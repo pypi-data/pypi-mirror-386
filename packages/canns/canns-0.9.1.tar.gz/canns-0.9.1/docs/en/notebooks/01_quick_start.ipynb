{
  "nbformat": 4,
  "nbformat_minor": 5,
  "metadata": {
    "kernelspec": {
      "display_name": "canns",
      "language": "python",
      "name": "python3"
    },
    "language_info": {
      "codemirror_mode": {
        "name": "ipython",
        "version": 3
      },
      "file_extension": ".py",
      "mimetype": "text/x-python",
      "name": "python",
      "nbconvert_exporter": "python",
      "pygments_lexer": "ipython3",
      "version": "3.12.11"
    }
  },
  "cells": [
    {
      "cell_type": "markdown",
      "metadata": {},
      "source": [
        "# Quick Start\n",
        "\n",
        "This short notebook distils the essentials of the CANNs design philosophy so you can navigate the library quickly.\n",
        "\n",
        "Use it as a high-level checklist before diving into the detailed design notebook or the codebase.\n",
        "\n"
      ]
    },
    {
      "cell_type": "markdown",
      "metadata": {},
      "source": [
        "## Module Overview\n",
        "- `model`\n",
        "  Built-in model package.\n",
        "  - `basic`\n",
        "    Core CANN models and their variants.\n",
        "  - `brain_inspired`\n",
        "    Brain-inspired models.\n",
        "  - `hybrid`\n",
        "    Hybrid models mixing CANNs with ANNs or other mechanisms.\n",
        "- `task`\n",
        "  Task utilities for CANNs, covering generation, persistence, import, and visualisation.\n",
        "- `analyzer`\n",
        "  Analysis helpers focused on visualisation.\n",
        "  - `model analyzer`\n",
        "    Tools for examining CANN models, including energy landscapes, firing rates, and tuning curves.\n",
        "  - `data analyzer`\n",
        "    Routines for experimental-data-driven CANN analysis or dynamical inspection of virtual RNN models.\n",
        "- `trainer`\n",
        "  Unified training and prediction interfaces.\n",
        "- `pipeline`\n",
        "  End-to-end flows that combine the above packages for streamlined execution.\n"
      ]
    },
    {
      "cell_type": "markdown",
      "metadata": {},
      "source": [
        "## Models At A Glance\n",
        "\n",
        "### `models`\n",
        "\n",
        "#### Overview\n",
        "The models package implements base CANNs across different dimensionalities, brain-inspired variants, and hybrid combinations. It underpins the rest of the library and inter-operates with other modules to support varied scenarios.\n",
        "\n",
        "The implementations are grouped by type:\n",
        "\n",
        "- Basic Models (`canns.models.basic`)\n",
        "  Canonical CANN architectures and their variants.\n",
        "- Brain-Inspired Models (`canns.models.brain_inspired`)\n",
        "  Brain-inspired network implementations.\n",
        "- Hybrid Models (`canns.models.hybird`)\n",
        "  Hybrids that couple CANNs with ANNs or other mechanisms.\n",
        "\n",
        "These models rely on the [Brain Simulation Ecosystem](https://brainmodeling.readthedocs.io/index.html), especially [brainstate](https://brainstate.readthedocs.io). `brainstate`—backed by JAX/BrainUnit—provides the `brainstate.nn.Dynamics` abstraction, `State`/`HiddenState`/`ParamState` containers, unified time-step control via `brainstate.environ`, and utilities such as `brainstate.compile.for_loop` and `brainstate.random`. With these building blocks, CANN implementations only describe variables and update rules while brainstate handles time stepping, parallelism, and randomness, lowering implementation overhead.\n",
        "\n"
      ]
    },
    {
      "cell_type": "markdown",
      "metadata": {},
      "source": [
        "## Tasks At A Glance\n",
        "\n",
        "### `task`\n",
        "\n",
        "#### Overview\n",
        "The task package generates, saves, loads, imports, and visualises CANN-specific stimuli. It offers predefined task types while allowing custom extensions for specialised needs.\n",
        "\n"
      ]
    },
    {
      "cell_type": "markdown",
      "metadata": {},
      "source": [
        "## Analyzers At A Glance\n",
        "\n",
        "### `analyzer`\n",
        "\n",
        "#### Overview\n",
        "The analyzer package supplies tools for inspecting CANN models and experimental datasets. It spans two categories: model analysis and data analysis.\n",
        "\n"
      ]
    },
    {
      "cell_type": "markdown",
      "metadata": {},
      "source": [
        "## Trainer Essentials\n",
        "\n",
        "### `trainer`\n",
        "\n",
        "#### Overview\n",
        "The trainer package exposes unified interfaces for training and evaluating brain-inspired models. It currently focuses on Hebbian learning, with room to add additional strategies later.\n",
        "\n"
      ]
    },
    {
      "cell_type": "markdown",
      "metadata": {},
      "source": [
        "## Pipeline Snapshot\n",
        "\n",
        "### Pipeline\n",
        "\n",
        "#### Overview\n",
        "The pipeline package chains models, tasks, analyzers, and trainers into end-to-end workflows so that common needs are satisfied with minimal user code.\n",
        "\n"
      ]
    },
    {
      "cell_type": "markdown",
      "metadata": {},
      "source": [
        "## Next Steps\n",
        "\n",
        "- Read [Design Philosophy](https://routhleck.com/canns/en/notebooks/00_design_philosophy.html) for the full story.\n",
        "- Explore examples under `examples/` to see each module in action.\n",
        "- Extend the library by following the extension tips in each section.\n"
      ]
    }
  ]
}