{
  "nbformat": 4,
  "nbformat_minor": 5,
  "metadata": {
    "kernelspec": {
      "display_name": "canns",
      "language": "python",
      "name": "python3"
    },
    "language_info": {
      "codemirror_mode": {
        "name": "ipython",
        "version": 3
      },
      "file_extension": ".py",
      "mimetype": "text/x-python",
      "name": "python",
      "nbconvert_exporter": "python",
      "pygments_lexer": "ipython3",
      "version": "3.12.11"
    }
  },
  "cells": [
    {
      "cell_type": "markdown",
      "metadata": {},
      "source": [
        "# 快速开始\n",
        "\n",
        "本笔记概括 CANNs 设计哲学的要点，帮助你迅速熟悉库的结构。\n",
        "\n",
        "在深入阅读完整的设计哲学笔记或源码之前，可先将它当作高层检查清单。\n"
      ]
    },
    {
      "cell_type": "markdown",
      "metadata": {},
      "source": [
        "## 模块概览\n",
        "- `model`\n",
        "  内置模型包。\n",
        "  - `basic`\n",
        "    核心 CANN 模型及其变体。\n",
        "  - `brain_inspired`\n",
        "    各类脑启发模型。\n",
        "  - `hybrid`\n",
        "    将 CANN 与其他架构（如 ANN）混合的模型。\n",
        "- `task`\n",
        "  负责生成、持久化、导入与可视化刺激的任务工具。\n",
        "- `analyzer`\n",
        "  专注模型与数据可视化的分析工具。\n",
        "  - `model analyzer`\n",
        "    能量景观、发放率、调谐曲线等模型分析函数。\n",
        "  - `data analyzer`\n",
        "    面向实验数据或虚拟 RNN 动力学的分析流程。\n",
        "- `trainer`\n",
        "  统一的训练与预测接口。\n",
        "- `pipeline`\n",
        "  将上述模块串联的端到端流水线。\n"
      ]
    },
    {
      "cell_type": "markdown",
      "metadata": {},
      "source": [
        "## 模型模块速览\n",
        "\n",
        "### `models`\n",
        "\n",
        "#### 总览\n",
        "模型模块实现不同维度的基础 CANN、脑启发变体以及混合模型，是整个库的核心，并与其他模块协同覆盖多种场景。\n",
        "\n",
        "实现按照类型分组：\n",
        "\n",
        "- Basic Models (`canns.models.basic`)\n",
        "  标准 CANN 结构及其扩展。\n",
        "- Brain-Inspired Models (`canns.models.brain_inspired`)\n",
        "  脑启发网络实现。\n",
        "- Hybrid Models (`canns.models.hybird`)\n",
        "  将 CANN 与 ANN 等机制结合的混合模型。\n",
        "\n",
        "这些模型依赖 [Brain Simulation Ecosystem](https://brainmodeling.readthedocs.io/index.html)，尤其是 [brainstate](https://brainstate.readthedocs.io)。`brainstate` 基于 JAX/BrainUnit，提供 `brainstate.nn.Dynamics` 抽象、`State`/`HiddenState`/`ParamState` 容器、`brainstate.environ` 的统一时间步控制，以及 `brainstate.compile.for_loop`、`brainstate.random` 等工具。借助这些组件，模型只需描述状态变量与更新规则，时间推进、并行与随机数管理由 brainstate 负责，从而降低实现成本。\n"
      ]
    },
    {
      "cell_type": "markdown",
      "metadata": {},
      "source": [
        "## 任务模块速览\n",
        "\n",
        "### `task`\n",
        "\n",
        "#### 总览\n",
        "任务模块负责生成、保存、读取、导入并展示 CANN 相关刺激。它提供多种预设任务，同时允许根据特定需求扩展。\n"
      ]
    },
    {
      "cell_type": "markdown",
      "metadata": {},
      "source": [
        "## 分析器模块速览\n",
        "\n",
        "### `analyzer`\n",
        "\n",
        "#### 总览\n",
        "分析器模块为 CANN 模型和实验数据提供可视化与统计分析工具，涵盖模型分析与数据分析两大类。\n"
      ]
    },
    {
      "cell_type": "markdown",
      "metadata": {},
      "source": [
        "## 训练器要点\n",
        "\n",
        "### `trainer`\n",
        "\n",
        "#### 总览\n",
        "训练器模块提供统一的训练与评估接口。目前以 Hebbian 学习为核心，后续可扩展其他策略。\n"
      ]
    },
    {
      "cell_type": "markdown",
      "metadata": {},
      "source": [
        "## 流水线概览\n",
        "\n",
        "### Pipeline\n",
        "\n",
        "#### 总览\n",
        "流水线模块将模型、任务、分析器与训练器串联成端到端流程，便于用最少代码完成常见需求。\n"
      ]
    },
    {
      "cell_type": "markdown",
      "metadata": {},
      "source": [
        "## 下一步\n",
        "\n",
        "- 阅读 [设计哲学](https://routhleck.com/canns/zh/notebooks/00_design_philosophy.html) 获取完整设计理念。\n",
        "- 浏览 `examples/` 目录了解各模块的实际用法。\n",
        "- 按照各节提供的扩展指引定制自己的组件。\n"
      ]
    }
  ]
}