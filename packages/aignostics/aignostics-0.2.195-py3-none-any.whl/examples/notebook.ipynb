{
 "cells": [
  {
   "cell_type": "markdown",
   "id": "MJUe",
   "metadata": {},
   "source": [
    "# Initialize the Client\n",
    "\n",
    "As a first step, you need to initialize the client to interact with the Aignostics Platform. This will execute an OAuth flow depending on the environment you run:\n",
    "- In case you have a browser available, an interactive login flow in your browser is started.\n",
    "- In case there is no browser available, a device flow is started.\n",
    "\n",
    "**NOTE:** By default, the client caches the access token in your operation systems application cache folder. If you do not want to store the access token, set cache_token to False.\n",
    "\n",
    "```python\n",
    "import aignostics.client as platform\n",
    "# initialize the client\n",
    "client = platform.Client(cache_token=True)\n",
    "```"
   ]
  },
  {
   "cell_type": "code",
   "execution_count": 2,
   "id": "vblA",
   "metadata": {},
   "outputs": [],
   "source": [
    "import pandas as pd\n",
    "from pydantic import BaseModel\n",
    "\n",
    "\n",
    "# the following function is used for visualizing the results nicely in this notebook\n",
    "def show(models: BaseModel | list[BaseModel]) -> pd.DataFrame:\n",
    "    if isinstance(models, BaseModel):\n",
    "        items = [models.model_dump()]\n",
    "    else:\n",
    "        items = (a.model_dump() for a in models)\n",
    "    return pd.DataFrame(items)"
   ]
  },
  {
   "cell_type": "code",
   "execution_count": 3,
   "id": "bkHC",
   "metadata": {},
   "outputs": [],
   "source": [
    "from aignostics import platform\n",
    "\n",
    "# initialize the client\n",
    "client = platform.Client(cache_token=True)"
   ]
  },
  {
   "cell_type": "markdown",
   "id": "lEQa",
   "metadata": {},
   "source": [
    "# List our available applications\n",
    "\n",
    "Next, let us list the applications that are available in your organization:"
   ]
  },
  {
   "cell_type": "code",
   "execution_count": null,
   "id": "PKri",
   "metadata": {},
   "outputs": [
    {
     "data": {
      "text/html": [
       "<div>\n",
       "<style scoped>\n",
       "    .dataframe tbody tr th:only-of-type {\n",
       "        vertical-align: middle;\n",
       "    }\n",
       "\n",
       "    .dataframe tbody tr th {\n",
       "        vertical-align: top;\n",
       "    }\n",
       "\n",
       "    .dataframe thead th {\n",
       "        text-align: right;\n",
       "    }\n",
       "</style>\n",
       "<table border=\"1\" class=\"dataframe\">\n",
       "  <thead>\n",
       "    <tr style=\"text-align: right;\">\n",
       "      <th></th>\n",
       "      <th>application_id</th>\n",
       "      <th>name</th>\n",
       "      <th>regulatory_classes</th>\n",
       "      <th>description</th>\n",
       "      <th>latest_version</th>\n",
       "    </tr>\n",
       "  </thead>\n",
       "  <tbody>\n",
       "    <tr>\n",
       "      <th>0</th>\n",
       "      <td>ds-8130-custom-he-tme</td>\n",
       "      <td>DS-8130-custom-he-tme</td>\n",
       "      <td>[unknown]</td>\n",
       "      <td>A custom he-tme application running only on ne...</td>\n",
       "      <td>{'number': '0.1.1', 'released_at': 2025-09-18 ...</td>\n",
       "    </tr>\n",
       "    <tr>\n",
       "      <th>1</th>\n",
       "      <td>he-tme</td>\n",
       "      <td>Atlas H&amp;E-TME</td>\n",
       "      <td>[]</td>\n",
       "      <td>The Atlas H&amp;E TME is an AI application designe...</td>\n",
       "      <td>{'number': '1.0.0-beta.8', 'released_at': 2025...</td>\n",
       "    </tr>\n",
       "    <tr>\n",
       "      <th>2</th>\n",
       "      <td>test-app</td>\n",
       "      <td>test-app</td>\n",
       "      <td>[demo, RuO]</td>\n",
       "      <td>This is the test application with two algorith...</td>\n",
       "      <td>{'number': '0.0.4', 'released_at': 2025-10-13 ...</td>\n",
       "    </tr>\n",
       "  </tbody>\n",
       "</table>\n",
       "</div>"
      ],
      "text/plain": [
       "          application_id                   name regulatory_classes  \\\n",
       "0  ds-8130-custom-he-tme  DS-8130-custom-he-tme          [unknown]   \n",
       "1                 he-tme          Atlas H&E-TME                 []   \n",
       "2               test-app               test-app        [demo, RuO]   \n",
       "\n",
       "                                         description  \\\n",
       "0  A custom he-tme application running only on ne...   \n",
       "1  The Atlas H&E TME is an AI application designe...   \n",
       "2  This is the test application with two algorith...   \n",
       "\n",
       "                                      latest_version  \n",
       "0  {'number': '0.1.1', 'released_at': 2025-09-18 ...  \n",
       "1  {'number': '1.0.0-beta.8', 'released_at': 2025...  \n",
       "2  {'number': '0.0.4', 'released_at': 2025-10-13 ...  "
      ]
     },
     "execution_count": 4,
     "metadata": {},
     "output_type": "execute_result"
    }
   ],
   "source": [
    "applications = client.applications.list()\n",
    "# visualize\n",
    "show(applications)"
   ]
  },
  {
   "cell_type": "markdown",
   "id": "Xref",
   "metadata": {},
   "source": [
    "# List all available versions of an application\n",
    "\n",
    "Now that we know the applications that are available, we can list all the versions of a specific application. In this case, we will use the `test-app` as an example. Using the `application_id`, we can list all the versions of the application:"
   ]
  },
  {
   "cell_type": "code",
   "execution_count": 5,
   "id": "SFPL",
   "metadata": {},
   "outputs": [
    {
     "data": {
      "text/html": [
       "<div>\n",
       "<style scoped>\n",
       "    .dataframe tbody tr th:only-of-type {\n",
       "        vertical-align: middle;\n",
       "    }\n",
       "\n",
       "    .dataframe tbody tr th {\n",
       "        vertical-align: top;\n",
       "    }\n",
       "\n",
       "    .dataframe thead th {\n",
       "        text-align: right;\n",
       "    }\n",
       "</style>\n",
       "<table border=\"1\" class=\"dataframe\">\n",
       "  <thead>\n",
       "    <tr style=\"text-align: right;\">\n",
       "      <th></th>\n",
       "      <th>number</th>\n",
       "      <th>released_at</th>\n",
       "    </tr>\n",
       "  </thead>\n",
       "  <tbody>\n",
       "    <tr>\n",
       "      <th>0</th>\n",
       "      <td>0.0.4</td>\n",
       "      <td>2025-10-13 14:57:28.167570+00:00</td>\n",
       "    </tr>\n",
       "    <tr>\n",
       "      <th>1</th>\n",
       "      <td>0.0.4</td>\n",
       "      <td>2025-10-13 14:57:28.167570+00:00</td>\n",
       "    </tr>\n",
       "    <tr>\n",
       "      <th>2</th>\n",
       "      <td>0.0.3</td>\n",
       "      <td>2025-08-07 14:22:36.365984+00:00</td>\n",
       "    </tr>\n",
       "    <tr>\n",
       "      <th>3</th>\n",
       "      <td>0.0.3</td>\n",
       "      <td>2025-08-07 14:22:36.365984+00:00</td>\n",
       "    </tr>\n",
       "    <tr>\n",
       "      <th>4</th>\n",
       "      <td>0.0.1</td>\n",
       "      <td>2025-06-11 16:58:39.825489+00:00</td>\n",
       "    </tr>\n",
       "    <tr>\n",
       "      <th>5</th>\n",
       "      <td>0.0.1</td>\n",
       "      <td>2025-06-11 16:58:39.825489+00:00</td>\n",
       "    </tr>\n",
       "    <tr>\n",
       "      <th>6</th>\n",
       "      <td>0.0.1</td>\n",
       "      <td>2025-06-11 16:58:39.825489+00:00</td>\n",
       "    </tr>\n",
       "  </tbody>\n",
       "</table>\n",
       "</div>"
      ],
      "text/plain": [
       "  number                      released_at\n",
       "0  0.0.4 2025-10-13 14:57:28.167570+00:00\n",
       "1  0.0.4 2025-10-13 14:57:28.167570+00:00\n",
       "2  0.0.3 2025-08-07 14:22:36.365984+00:00\n",
       "3  0.0.3 2025-08-07 14:22:36.365984+00:00\n",
       "4  0.0.1 2025-06-11 16:58:39.825489+00:00\n",
       "5  0.0.1 2025-06-11 16:58:39.825489+00:00\n",
       "6  0.0.1 2025-06-11 16:58:39.825489+00:00"
      ]
     },
     "execution_count": 5,
     "metadata": {},
     "output_type": "execute_result"
    }
   ],
   "source": [
    "application_versions = client.applications.versions.list(application=\"test-app\")\n",
    "# visualize\n",
    "show(application_versions)"
   ]
  },
  {
   "cell_type": "markdown",
   "id": "BYtC",
   "metadata": {},
   "source": [
    "# Inspect the application version details\n",
    "\n",
    "Now that we have the list of versions, we can inspect the details of a specific version. While we could directly use the list of application version returned by the `list` method, we want to directly query details for a specific application version. In this case, we will use the `test-app` application and version `0.0.4`:"
   ]
  },
  {
   "cell_type": "code",
   "execution_count": 5,
   "id": "RGSE",
   "metadata": {},
   "outputs": [
    {
     "data": {
      "text/plain": [
       "[InputArtifact(name='whole_slide_image', mime_type='image/tiff', metadata_schema={'type': 'object', 'title': 'RGBImageMetadata', '$schema': 'http://json-schema.org/draft-07/schema#', 'required': ['checksum_base64_crc32c', 'width_px', 'height_px'], 'properties': {'width_px': {'type': 'integer', 'title': 'Width Px'}, 'height_px': {'type': 'integer', 'title': 'Height Px'}, 'media_type': {'enum': ['image/tiff'], 'type': 'string', 'const': 'image/tiff', 'title': 'Media Type', 'default': 'image/tiff'}, 'resolution_mpp': {'type': 'number', 'title': 'Resolution Mpp', 'default': None, 'maximum': 0.5, 'minimum': 0.08}, 'checksum_base64_crc32c': {'type': 'string', 'title': 'Base64 encoded big-endian CRC32C checksum'}}, 'description': 'Metadata corresponding to an RGB image.', 'additionalProperties': False})]"
      ]
     },
     "execution_count": 5,
     "metadata": {},
     "output_type": "execute_result"
    }
   ],
   "source": [
    "test_app_version = client.applications.versions.details(application_id=\"test-app\", application_version=\"0.0.4\")\n",
    "\n",
    "# view the `input_artifacts` to get insights in the required fields of the input expected by this application version.\n",
    "test_app_version.input_artifacts"
   ]
  },
  {
   "cell_type": "markdown",
   "id": "Kclp",
   "metadata": {},
   "source": [
    "# Submit an application run\n",
    "\n",
    "Now, let's submit an application run. We will use the application ID retrieved in the previous steps. We will not specify the version, which automatically uses the latest version. To create an application run, we need to provide a payload that consists of 1 or more items. We provide the Pydantic model `InputItem` an item and the data that comes with it:\n",
    "```python\n",
    "platform.InputItem(\n",
    "    external_id=\"<a unique identifier to associate outputs to this input item>\",\n",
    "    input_artifacts=[platform.InputArtifact]\n",
    ")\n",
    "```\n",
    "The `InputArtifact` defines the actual data that you provide aka. in this case the image that you want to be processed. The expected values are defined by the application version and have to align with the `input_artifacts` schema of the application version. In the case of this application, we only require a single artifact per item, which is the image to process on. The artifact name is defined as `whole_slide_image`. The `download_url` is a signed URL that allows the Aignostics Platform to download the image data later during processing. In addition to the image data itself, you have to provide the metadata defined in the input artifact schema, i.e., `checksum_base64_crc32c`, `resolution_mpp`, `width_px`, and `height_px`. The metadata is used to validate the input data and is required for the processing of the image. The following example shows how to create an item with a single input artifact:\n",
    "\n",
    "```python\n",
    "platform.InputArtifact(\n",
    "    name=\"whole_slide_image\", # as defined by the application version input_artifact schema\n",
    "    download_url=\"<a signed url to download the data>\",\n",
    "    metadata={\n",
    "        \"checksum_base64_crc32c\": \"<checksum, base64 encoded, crc32c hashed>\",\n",
    "        \"resolution_mpp\": \"<mpp of base layer>\",\n",
    "        \"width_px\": \"<width in pixels>\",\n",
    "        \"height_px\": \"<height in pixels>\"\n",
    "    }\n",
    ")\n",
    "```"
   ]
  },
  {
   "cell_type": "code",
   "execution_count": null,
   "id": "emfo",
   "metadata": {},
   "outputs": [
    {
     "ename": "ValueError",
     "evalue": "Invalid google storage URI",
     "output_type": "error",
     "traceback": [
      "\u001b[31m---------------------------------------------------------------------------\u001b[39m",
      "\u001b[31mValueError\u001b[39m                                Traceback (most recent call last)",
      "\u001b[36mCell\u001b[39m\u001b[36m \u001b[39m\u001b[32mIn[6]\u001b[39m\u001b[32m, line 9\u001b[39m\n\u001b[32m      1\u001b[39m application_run = client.runs.create(\n\u001b[32m      2\u001b[39m     application_id=\u001b[33m\"\u001b[39m\u001b[33mtest-app\u001b[39m\u001b[33m\"\u001b[39m,\n\u001b[32m      3\u001b[39m     items=[\n\u001b[32m      4\u001b[39m         platform.InputItem(\n\u001b[32m      5\u001b[39m             external_id=\u001b[33m\"\u001b[39m\u001b[33mwsi-1\u001b[39m\u001b[33m\"\u001b[39m,\n\u001b[32m      6\u001b[39m             input_artifacts=[\n\u001b[32m      7\u001b[39m                 platform.InputArtifact(\n\u001b[32m      8\u001b[39m                     name=\u001b[33m\"\u001b[39m\u001b[33muser_slide\u001b[39m\u001b[33m\"\u001b[39m,\n\u001b[32m----> \u001b[39m\u001b[32m9\u001b[39m                     download_url=\u001b[43mplatform\u001b[49m\u001b[43m.\u001b[49m\u001b[43mgenerate_signed_url\u001b[49m\u001b[43m(\u001b[49m\u001b[33;43m\"\u001b[39;49m\u001b[33;43m<signed-url>\u001b[39;49m\u001b[33;43m\"\u001b[39;49m\u001b[43m)\u001b[49m,\n\u001b[32m     10\u001b[39m                     metadata={\n\u001b[32m     11\u001b[39m                         \u001b[33m\"\u001b[39m\u001b[33mchecksum_base64_crc32c\u001b[39m\u001b[33m\"\u001b[39m: \u001b[33m\"\u001b[39m\u001b[33mAAAAAA==\u001b[39m\u001b[33m\"\u001b[39m,\n\u001b[32m     12\u001b[39m                         \u001b[33m\"\u001b[39m\u001b[33mresolution_mpp\u001b[39m\u001b[33m\"\u001b[39m: \u001b[32m0.25\u001b[39m,\n\u001b[32m     13\u001b[39m                         \u001b[33m\"\u001b[39m\u001b[33mwidth_px\u001b[39m\u001b[33m\"\u001b[39m: \u001b[32m10000\u001b[39m,\n\u001b[32m     14\u001b[39m                         \u001b[33m\"\u001b[39m\u001b[33mheight_px\u001b[39m\u001b[33m\"\u001b[39m: \u001b[32m10000\u001b[39m,\n\u001b[32m     15\u001b[39m                     },\n\u001b[32m     16\u001b[39m                 )\n\u001b[32m     17\u001b[39m             ],\n\u001b[32m     18\u001b[39m         ),\n\u001b[32m     19\u001b[39m     ],\n\u001b[32m     20\u001b[39m )\n\u001b[32m     21\u001b[39m \u001b[38;5;28mprint\u001b[39m(application_run)\n",
      "\u001b[36mFile \u001b[39m\u001b[32m~/Code/python-sdk/src/aignostics/platform/_utils.py:124\u001b[39m, in \u001b[36mgenerate_signed_url\u001b[39m\u001b[34m(url, expires_seconds)\u001b[39m\n\u001b[32m    122\u001b[39m \u001b[38;5;28;01mif\u001b[39;00m \u001b[38;5;129;01mnot\u001b[39;00m m:\n\u001b[32m    123\u001b[39m     msg = \u001b[33m\"\u001b[39m\u001b[33mInvalid google storage URI\u001b[39m\u001b[33m\"\u001b[39m\n\u001b[32m--> \u001b[39m\u001b[32m124\u001b[39m     \u001b[38;5;28;01mraise\u001b[39;00m \u001b[38;5;167;01mValueError\u001b[39;00m(msg)\n\u001b[32m    125\u001b[39m bucket_name = m.group(\u001b[33m\"\u001b[39m\u001b[33mbucket_name\u001b[39m\u001b[33m\"\u001b[39m)\n\u001b[32m    126\u001b[39m path = m.group(\u001b[33m\"\u001b[39m\u001b[33mpath\u001b[39m\u001b[33m\"\u001b[39m)\n",
      "\u001b[31mValueError\u001b[39m: Invalid google storage URI"
     ]
    }
   ],
   "source": [
    "application_run = client.runs.submit(\n",
    "    application_id=\"test-app\",\n",
    "    items=[\n",
    "        platform.InputItem(\n",
    "            external_id=\"wsi-1\",\n",
    "            input_artifacts=[\n",
    "                platform.InputArtifact(\n",
    "                    name=\"user_slide\",\n",
    "                    download_url=platform.generate_signed_url(\"<signed-url>\"),\n",
    "                    metadata={\n",
    "                        \"checksum_base64_crc32c\": \"AAAAAA==\",\n",
    "                        \"resolution_mpp\": 0.25,\n",
    "                        \"width_px\": 10000,\n",
    "                        \"height_px\": 10000,\n",
    "                    },\n",
    "                )\n",
    "            ],\n",
    "        ),\n",
    "    ],\n",
    ")\n",
    "print(application_run)"
   ]
  },
  {
   "cell_type": "markdown",
   "id": "Hstk",
   "metadata": {},
   "source": [
    "# Observe the status of the application run and download\n",
    "\n",
    "While you can observe the status of an application run directly via the `status()` method and also retrieve the results via the `results()` method, you can also download the results directly to a folder of your choice. The `download_to_folder()` method will download all the results to the specified folder. The method will automatically create a sub-folder in the specified folder with the name of the application run. The results for each individual input item will be stored in a separate folder named after the `external_id` you defined in the `InputItem`.\n",
    "\n",
    "The method downloads the results for a slide as soon as they are available. There is no need to keep the method running until all results are available. The method will automatically check for the status of the application run and download the results as soon as they are available. If you invoke the method on a run you already downloaded some results before, it will only download the missing artifacts."
   ]
  },
  {
   "cell_type": "code",
   "execution_count": null,
   "id": "nWHF",
   "metadata": {},
   "outputs": [],
   "source": [
    "download_folder = \"/tmp/\"\n",
    "application_run.download_to_folder(download_folder)"
   ]
  },
  {
   "cell_type": "markdown",
   "id": "iLit",
   "metadata": {},
   "source": [
    "# Continue to retrieve results for an application run\n",
    "\n",
    "In case you just submitted an application run and want to check on the results later or you had a connection loss, you can simply initialize an application run object via its `run_id`. If you do not have the `run_id` anymore, you can simply list all currently running application versions via the `client.runs.list()` method. The `run_id` is part of the `ApplicationRun` object returned by the `list()` method. You can then use the `download_to_folder()` method to continue downloading the results."
   ]
  },
  {
   "cell_type": "code",
   "execution_count": null,
   "id": "ZHCJ",
   "metadata": {},
   "outputs": [],
   "source": [
    "# list currently running applications\n",
    "application_runs = client.runs.list()\n",
    "for run in application_runs:\n",
    "    print(run)"
   ]
  },
  {
   "cell_type": "markdown",
   "id": "ROlb",
   "metadata": {},
   "source": [
    "from aignostics.platform.resources.runs import ApplicationRun\n",
    "application_run = ApplicationRun.for_run_id(\"<run_id>\")\n",
    "# download\n",
    "download_folder = \"/tmp/\"\n",
    "application_run.download_to_folder(download_folder)"
   ]
  }
 ],
 "metadata": {
  "kernelspec": {
   "display_name": "aignostics (3.13.7)",
   "language": "python",
   "name": "python3"
  },
  "language_info": {
   "codemirror_mode": {
    "name": "ipython",
    "version": 3
   },
   "file_extension": ".py",
   "mimetype": "text/x-python",
   "name": "python",
   "nbconvert_exporter": "python",
   "pygments_lexer": "ipython3",
   "version": "3.13.7"
  }
 },
 "nbformat": 4,
 "nbformat_minor": 5
}
