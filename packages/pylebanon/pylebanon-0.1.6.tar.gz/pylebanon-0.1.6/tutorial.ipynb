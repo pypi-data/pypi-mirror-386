{
 "cells": [
  {
   "cell_type": "markdown",
   "id": "772e396f",
   "metadata": {},
   "source": [
    "# pylebanon \n",
    "### A  Python package for ... Lebanon. And yes I had nothing better to do."
   ]
  },
  {
   "cell_type": "code",
   "execution_count": 3,
   "id": "84f04d48",
   "metadata": {},
   "outputs": [
    {
     "name": "stdout",
     "output_type": "stream",
     "text": [
      "Habibi welcome to Lebanon 🇱🇧\n"
     ]
    }
   ],
   "source": [
    "from pylebanon import Lebanon\n",
    "lb = Lebanon()"
   ]
  },
  {
   "cell_type": "code",
   "execution_count": 4,
   "id": "831b50a2",
   "metadata": {},
   "outputs": [
    {
     "name": "stdout",
     "output_type": "stream",
     "text": [
      "Flag: 🇱🇧\n",
      "Names: ['LB', 'Lebanese Republic', 'Al-Jumhūrīyah Al-Libnānīyah', 'Lebanon', 'لبنان', 'Líbano', 'Liban', 'レバノン', 'Libano']\n",
      "Capital: Beirut\n",
      "Area: 10452\n",
      "Location: Middle East\n",
      "Timezone: UTC+02:00\n",
      "Governorates: ['Akkar Governorate', 'Baalbek-Hermel Governorate', 'Beirut Governorate', 'Beqaa Governorate', 'Mount Lebanon Governorate', 'Nabatieh Governorate', 'North Governorate', 'South Governorate']\n",
      "Cities in Mount Lebanon Governorate: ['Baabda', 'Bhamdoun', 'Bhamdoûn el Mhatta', 'Caza de Baabda', 'Jbaïl', 'Jounieh']\n",
      "Phone codes: +961\n",
      "Currency: LBP\n",
      "Languages: ['Arabic', 'Armenian', 'French']\n",
      "Wiki: http://en.wikipedia.org/wiki/lebanon\n"
     ]
    }
   ],
   "source": [
    "import random \n",
    "\n",
    "print(\"Flag:\", lb.get_flag())\n",
    "print(\"Names:\", lb.get_names())\n",
    "print(\"Capital:\", lb.get_capital())\n",
    "print(\"Area:\", lb.get_area())\n",
    "print(\"Location:\", lb.get_location())\n",
    "print(\"Timezone:\", lb.get_timezone())\n",
    "governorates =  lb.get_governorates()\n",
    "print(\"Governorates:\", governorates)\n",
    "idx = random.randint(0, len(governorates)-1)\n",
    "print(f\"Cities in {governorates[idx]}:\", lb.get_governorate_cities(governorates[idx]))\n",
    "print(\"Phone codes:\", lb.get_phone_code())\n",
    "print(\"Currency:\", lb.get_currency())\n",
    "print(\"Languages:\", lb.get_languages())\n",
    "print(\"Wiki:\", lb.get_wiki())"
   ]
  }
 ],
 "metadata": {
  "kernelspec": {
   "display_name": "Python 3 (ipykernel)",
   "language": "python",
   "name": "python3"
  },
  "language_info": {
   "codemirror_mode": {
    "name": "ipython",
    "version": 3
   },
   "file_extension": ".py",
   "mimetype": "text/x-python",
   "name": "python",
   "nbconvert_exporter": "python",
   "pygments_lexer": "ipython3",
   "version": "3.10.12"
  }
 },
 "nbformat": 4,
 "nbformat_minor": 5
}
