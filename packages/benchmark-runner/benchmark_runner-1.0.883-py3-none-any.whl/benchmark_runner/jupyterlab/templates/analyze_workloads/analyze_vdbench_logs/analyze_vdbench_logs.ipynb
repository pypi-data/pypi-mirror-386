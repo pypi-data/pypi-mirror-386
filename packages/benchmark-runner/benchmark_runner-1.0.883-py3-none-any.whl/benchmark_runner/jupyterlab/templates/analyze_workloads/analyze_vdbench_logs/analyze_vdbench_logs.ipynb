{
 "cells": [
  {
   "cell_type": "markdown",
   "id": "4715223f-1dfe-4a92-a3f1-a744785573f4",
   "metadata": {
    "tags": []
   },
   "source": [
    "# Analyze Vdbench Logs"
   ]
  },
  {
   "cell_type": "raw",
   "id": "550b3a69-e36b-4dfe-8ffb-c8de74701146",
   "metadata": {
    "tags": []
   },
   "source": [
    "This notebook performs the following tasks:\n",
    "\n",
    "1. Downloads vdbench logs from an S3 bucket.\n",
    "2. Display the results in Bokeh Graph.\n",
    "\n",
    "Please paste the S3_LOGS_URL in the dedicate field and click the '>>' button to proceed."
   ]
  },
  {
   "cell_type": "code",
   "execution_count": null,
   "id": "7487323b-5b4b-4606-b6fe-7f614609c699",
   "metadata": {
    "tags": []
   },
   "outputs": [],
   "source": [
    "# S3_LOGS_URLS = ['412URL', '413URL'] - for comparing 2 artifacts \n",
    "S3_LOGS_URLS = ['']\n",
    "# Compare versions\n",
    "versions = ['412', '413']"
   ]
  },
  {
   "cell_type": "markdown",
   "id": "8008cf50-d0cd-486d-afc3-e9c5fe43433b",
   "metadata": {
    "tags": []
   },
   "source": [
    "# Prerequsite"
   ]
  },
  {
   "cell_type": "code",
   "execution_count": null,
   "id": "55c36e8c-8eb5-4b1d-b699-aecb5bcfbfc8",
   "metadata": {
    "tags": []
   },
   "outputs": [],
   "source": [
    "\n",
    "# SET log level\n",
    "# logging\n",
    "import logging\n",
    "logger = logging.getLogger()\n",
    "logger.setLevel(logging.WARN)\n",
    "logging.info(\"Prerequisite\")\n",
    "\n",
    "# extract credentials\n",
    "import configparser\n",
    "config = configparser.ConfigParser()\n",
    "config.read('logs.conf')\n",
    "username = config.get(\"data\", 'user') \n",
    "password = config.get(\"data\", 'password')\n",
    "\n",
    "\n",
    "# Update fedora\n",
    "!dnf update -y\n",
    "\n",
    "\n",
    "from benchmark_runner.jupyterlab.templates.logs_operations.logs_operations import LogsOperations\n",
    "from benchmark_runner.jupyterlab.templates.analyze_workloads.analyze_vdbench_logs.analyze_vdbench_logs import AnalyzeVdbenchLogs\n",
    "\n",
    "# Logs operations\n",
    "logs_operations_obj = []\n",
    "analyze_vdbench_logs_obj = []\n",
    "for i, S3_LOGS_URL in enumerate(S3_LOGS_URLS):\n",
    "    logs_operations = LogsOperations(s3_logs_url=S3_LOGS_URL)\n",
    "    logs_operations_obj.append(logs_operations)\n",
    "\n",
    "# Logs cleanup\n",
    "logs_operations_obj[0].cleanup()\n",
    "\n",
    "for i, S3_LOGS_URL in enumerate(S3_LOGS_URLS):\n",
    "    analyze_vdbench_logs = AnalyzeVdbenchLogs(s3_logs_url=S3_LOGS_URL)\n",
    "    analyze_vdbench_logs_obj.append(analyze_vdbench_logs)\n",
    "\n",
    "# Output clean output display\n",
    "analyze_vdbench_logs_obj[0].clear_output()"
   ]
  },
  {
   "cell_type": "markdown",
   "id": "7990b566-7ca2-4d87-8b3b-f8c5d5cf7f69",
   "metadata": {
    "tags": []
   },
   "source": [
    "## Download S3 logs"
   ]
  },
  {
   "cell_type": "code",
   "execution_count": null,
   "id": "7779d25a-e20c-4411-8c1c-e329812a3475",
   "metadata": {
    "tags": []
   },
   "outputs": [],
   "source": [
    "for i, S3_LOGS_URL in enumerate(S3_LOGS_URLS):\n",
    "    logs_operations_obj[i].download_s3_logs(username=username, password=password)"
   ]
  },
  {
   "cell_type": "markdown",
   "id": "8e9613e9-b7b8-4f76-b85a-4aa19240a3ae",
   "metadata": {
    "tags": []
   },
   "source": [
    "## Untar logs & chmod "
   ]
  },
  {
   "cell_type": "code",
   "execution_count": null,
   "id": "d0256f41-607f-4b0c-ba82-14ce0108bee3",
   "metadata": {
    "tags": []
   },
   "outputs": [],
   "source": [
    "for i, S3_LOGS_URL in enumerate(S3_LOGS_URLS):\n",
    "    logs_operations_obj[i].untar_and_chmod_logs()"
   ]
  },
  {
   "cell_type": "markdown",
   "id": "c4a82a6e-0b5d-41d6-aae5-c2de10b36cc9",
   "metadata": {
    "tags": []
   },
   "source": [
    "# Get vdbench log files"
   ]
  },
  {
   "cell_type": "code",
   "execution_count": null,
   "id": "0894ce21-60ef-4314-a128-7c8bda760118",
   "metadata": {
    "tags": []
   },
   "outputs": [],
   "source": [
    "csv_log_files=[]\n",
    "for i, S3_LOGS_URL in enumerate(S3_LOGS_URLS):\n",
    "    csv_log_files.append(analyze_vdbench_logs_obj[i].get_vdbench_csv_log_files())"
   ]
  },
  {
   "cell_type": "markdown",
   "id": "993ae33e-1c61-48c1-b46a-cbc5ab9a7aa0",
   "metadata": {},
   "source": [
    "# Display Dataframe"
   ]
  },
  {
   "cell_type": "code",
   "execution_count": null,
   "id": "838c58b1-9099-4e77-834a-0dea6a601e4d",
   "metadata": {
    "tags": []
   },
   "outputs": [],
   "source": [
    "for i, S3_LOGS_URL in enumerate(S3_LOGS_URLS):\n",
    "    analyze_vdbench_logs_obj[i].display_df()"
   ]
  },
  {
   "cell_type": "markdown",
   "id": "61d8fd3f-68f6-4fef-a3e6-a99fb485a521",
   "metadata": {
    "tags": []
   },
   "source": [
    "## Vdbench latency (sec)"
   ]
  },
  {
   "cell_type": "code",
   "execution_count": null,
   "id": "44e91065-e379-420e-a631-cacb25e09f43",
   "metadata": {
    "tags": []
   },
   "outputs": [],
   "source": [
    "for i, S3_LOGS_URL in enumerate(S3_LOGS_URLS):\n",
    "    analyze_vdbench_logs_obj[i].display_latency_horizontal()"
   ]
  },
  {
   "cell_type": "markdown",
   "id": "3731693b-119e-42db-a0a2-3b8b5d11c700",
   "metadata": {},
   "source": [
    "## Vdbench IOPS"
   ]
  },
  {
   "cell_type": "code",
   "execution_count": null,
   "id": "0f535a85-a4eb-4036-a3a0-d0b28466054d",
   "metadata": {},
   "outputs": [],
   "source": [
    "for i, S3_LOGS_URL in enumerate(S3_LOGS_URLS):\n",
    "    analyze_vdbench_logs_obj[i].display_iops_horizontal()"
   ]
  },
  {
   "cell_type": "markdown",
   "id": "2a1feef2-7df7-4df3-a194-a6de8aa9512a",
   "metadata": {},
   "source": [
    "# Compare Vdbench Latency (sec) - Lower is better"
   ]
  },
  {
   "cell_type": "code",
   "execution_count": null,
   "id": "68a58b9c-3f1e-4d33-9694-d265d85be1f2",
   "metadata": {
    "tags": []
   },
   "outputs": [],
   "source": [
    "if len(S3_LOGS_URLS)>1:\n",
    "    analyze_vdbench_logs_obj[0].compare_latency(csv_log_files1=csv_log_files[0], csv_log_files2=csv_log_files[1], legend_label1=versions[0], legend_label2=versions[1])"
   ]
  },
  {
   "cell_type": "markdown",
   "id": "b16a91b5-1999-4327-9461-0f733431072a",
   "metadata": {},
   "source": [
    "# Compare Vdbench IOPS - Hight is better"
   ]
  },
  {
   "cell_type": "code",
   "execution_count": null,
   "id": "1c2074b4-21b6-4062-b8b2-fc0bfe229afa",
   "metadata": {
    "tags": []
   },
   "outputs": [],
   "source": [
    "if len(S3_LOGS_URLS)>1:\n",
    "    analyze_vdbench_logs_obj[0].compare_iops(csv_log_files1=csv_log_files[0], csv_log_files2=csv_log_files[1], legend_label1=versions[0], legend_label2=versions[1])"
   ]
  },
  {
   "cell_type": "code",
   "execution_count": null,
   "id": "00533595-2270-406a-919f-d3a30bf37baf",
   "metadata": {},
   "outputs": [],
   "source": []
  }
 ],
 "metadata": {
  "kernelspec": {
   "display_name": "Python 3 (ipykernel)",
   "language": "python",
   "name": "python3"
  },
  "language_info": {
   "codemirror_mode": {
    "name": "ipython",
    "version": 3
   },
   "file_extension": ".py",
   "mimetype": "text/x-python",
   "name": "python",
   "nbconvert_exporter": "python",
   "pygments_lexer": "ipython3",
   "version": "3.11.4"
  }
 },
 "nbformat": 4,
 "nbformat_minor": 5
}
