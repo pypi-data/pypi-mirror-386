{
 "cells": [
  {
   "cell_type": "markdown",
   "id": "0a9caaa6-1742-4edc-ae57-b3e7a3ec876e",
   "metadata": {
    "tags": []
   },
   "source": [
    "# Analyze PerfCi Cluster"
   ]
  },
  {
   "cell_type": "raw",
   "id": "aef896e6-5b88-4a29-b325-818f0beca9e3",
   "metadata": {
    "tags": []
   },
   "source": [
    "Template for analyzing PerfCi cluster:\n",
    "\n",
    "1. CRC Error validation"
   ]
  },
  {
   "cell_type": "markdown",
   "id": "ae373941-3d6f-4e0d-86c3-c62b8d10316d",
   "metadata": {
    "tags": []
   },
   "source": [
    "# Prerequsite"
   ]
  },
  {
   "cell_type": "code",
   "execution_count": null,
   "id": "38972083-3ace-41bf-9551-d17d2cd406c9",
   "metadata": {
    "tags": []
   },
   "outputs": [],
   "source": [
    "\n",
    "# SET log level\n",
    "# logging\n",
    "import logging\n",
    "logger = logging.getLogger()\n",
    "logger.setLevel(logging.WARN)\n",
    "logging.info(\"Prerequisite\")\n"
   ]
  },
  {
   "cell_type": "markdown",
   "id": "bdc48d22-996f-4ecb-af3f-767591eb19d8",
   "metadata": {
    "tags": []
   },
   "source": [
    "# CRC Error validation"
   ]
  },
  {
   "cell_type": "code",
   "execution_count": null,
   "id": "50eae36c-8fd4-4741-bcc6-077d2402a143",
   "metadata": {
    "tags": []
   },
   "outputs": [],
   "source": [
    "!for i in `oc get pod -n openshift-storage | grep osd | awk '{print $1}'`; do echo $i;  oc logs -n openshift-storage $i -c osd | grep -i \"bad crc in data\" ; done"
   ]
  },
  {
   "cell_type": "code",
   "execution_count": null,
   "id": "32ba3beb-7a22-4063-a565-12bfafbd55b3",
   "metadata": {},
   "outputs": [],
   "source": []
  }
 ],
 "metadata": {
  "kernelspec": {
   "display_name": "Python 3 (ipykernel)",
   "language": "python",
   "name": "python3"
  },
  "language_info": {
   "codemirror_mode": {
    "name": "ipython",
    "version": 3
   },
   "file_extension": ".py",
   "mimetype": "text/x-python",
   "name": "python",
   "nbconvert_exporter": "python",
   "pygments_lexer": "ipython3",
   "version": "3.11.3"
  }
 },
 "nbformat": 4,
 "nbformat_minor": 5
}
