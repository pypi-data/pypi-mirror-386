{
 "cells": [
  {
   "cell_type": "code",
   "execution_count": null,
   "id": "907cc73c-e683-4793-8612-11d727e86711",
   "metadata": {},
   "outputs": [],
   "source": [
    "%load_ext autoreload\n",
    "%autoreload 2\n",
    "%matplotlib widget"
   ]
  },
  {
   "cell_type": "code",
   "execution_count": null,
   "id": "3dd37a6e-c244-4e85-8bf3-d7464175cf2b",
   "metadata": {},
   "outputs": [],
   "source": [
    "import numpy as np\n",
    "import pandas as pd\n",
    "import xarray as xr\n",
    "import matplotlib.pyplot as plt\n",
    "from daaf_plot.figure import InteractivePColorMesh\n",
    "from daaf_plot.style import set_font_size"
   ]
  },
  {
   "cell_type": "code",
   "execution_count": null,
   "id": "26102c13-55ca-42d0-be82-15eb858718ed",
   "metadata": {},
   "outputs": [],
   "source": [
    "set_font_size(8, 8, 8)"
   ]
  },
  {
   "cell_type": "code",
   "execution_count": null,
   "id": "89f58c5a-0538-4b1a-b2d6-bda631716d4c",
   "metadata": {},
   "outputs": [],
   "source": [
    "ds = xr.open_dataset('data/scorecards.nc')"
   ]
  },
  {
   "cell_type": "code",
   "execution_count": null,
   "id": "231eb313-33e7-437a-b92c-5e16bcd44d1b",
   "metadata": {},
   "outputs": [],
   "source": [
    "ds = ds.sel(\n",
    "    region=['sh', 'tr', 'nh'],\n",
    ").assign_coords(\n",
    "    step=ds.step.astype('float') / (1e9 * pd.Timedelta('1d').total_seconds()),\n",
    ")"
   ]
  },
  {
   "cell_type": "code",
   "execution_count": null,
   "id": "c351028d-1232-41c7-96cd-5f8ad35b39b6",
   "metadata": {},
   "outputs": [],
   "source": [
    "plt.close('all')"
   ]
  },
  {
   "cell_type": "code",
   "execution_count": null,
   "id": "5a7fe891-8418-45b2-a47e-d12f7baaba56",
   "metadata": {},
   "outputs": [],
   "source": [
    "fig = InteractivePColorMesh(\n",
    "    ds['diff'].transpose(..., 'stacked_variable', 'step'),\n",
    "    x_dim='step',\n",
    "    y_dim='stacked_variable',\n",
    "    facet_dim=('region', None),\n",
    "    open_figure_kwargs=dict(\n",
    "        figure_w=8,\n",
    "        h_ratio_axes=2.5,\n",
    "        pad_w_left=1,\n",
    "        pad_w_right=1,\n",
    "        pad_h_in=0.3,\n",
    "        pad_h_top=0.7,\n",
    "        pad_w_in=0.1,\n",
    "        vcb_w=0.2,\n",
    "        pad_w_ax_vcb=0.5,\n",
    "        colorbar='vertical',\n",
    "    ),\n",
    ")"
   ]
  },
  {
   "cell_type": "code",
   "execution_count": null,
   "id": "072ce137-2b55-4479-888f-1b5bd75ee091",
   "metadata": {},
   "outputs": [],
   "source": [
    "fig.interactive_show()"
   ]
  },
  {
   "cell_type": "code",
   "execution_count": null,
   "id": "b014bfce-04e2-411f-90e0-c3a9c05bac1d",
   "metadata": {},
   "outputs": [],
   "source": [
    "for ax in fig.figure['axes']:\n",
    "    ax.set_yticks(np.arange(48))\n",
    "    ax.set_yticklabels(ds.stacked_variable.to_numpy())"
   ]
  },
  {
   "cell_type": "code",
   "execution_count": null,
   "id": "a08e8565-aa3e-4c5f-9086-96142ea4b888",
   "metadata": {},
   "outputs": [],
   "source": []
  }
 ],
 "metadata": {
  "kernelspec": {
   "display_name": "daaf-plot-dev",
   "language": "python",
   "name": "daaf-plot-dev"
  },
  "language_info": {
   "codemirror_mode": {
    "name": "ipython",
    "version": 3
   },
   "file_extension": ".py",
   "mimetype": "text/x-python",
   "name": "python",
   "nbconvert_exporter": "python",
   "pygments_lexer": "ipython3",
   "version": "3.13.7"
  }
 },
 "nbformat": 4,
 "nbformat_minor": 5
}
