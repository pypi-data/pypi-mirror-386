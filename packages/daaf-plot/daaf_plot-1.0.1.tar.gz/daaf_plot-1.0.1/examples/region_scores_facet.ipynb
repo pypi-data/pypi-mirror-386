{
 "cells": [
  {
   "cell_type": "code",
   "execution_count": null,
   "id": "907cc73c-e683-4793-8612-11d727e86711",
   "metadata": {},
   "outputs": [],
   "source": [
    "%load_ext autoreload\n",
    "%autoreload 2\n",
    "%matplotlib widget"
   ]
  },
  {
   "cell_type": "code",
   "execution_count": null,
   "id": "3dd37a6e-c244-4e85-8bf3-d7464175cf2b",
   "metadata": {},
   "outputs": [],
   "source": [
    "import pandas as pd\n",
    "import xarray as xr\n",
    "import matplotlib.pyplot as plt\n",
    "from daaf_plot.figure import InteractiveLinePlot\n",
    "from daaf_plot.style import set_font_size"
   ]
  },
  {
   "cell_type": "code",
   "execution_count": null,
   "id": "4ab308cb-52ab-4ae9-9490-c832edec1637",
   "metadata": {},
   "outputs": [],
   "source": [
    "set_font_size(8, 8, 8)"
   ]
  },
  {
   "cell_type": "code",
   "execution_count": null,
   "id": "7641f0b5-c78d-4b85-ab33-3938e0747878",
   "metadata": {},
   "outputs": [],
   "source": [
    "ds = xr.open_dataset('data/region_scores.nc')"
   ]
  },
  {
   "cell_type": "code",
   "execution_count": null,
   "id": "0f6d0eb7-c5f3-4842-90c8-849b3fb960a6",
   "metadata": {},
   "outputs": [],
   "source": [
    "ds = ds.sel(\n",
    "    region=['sh', 'tr', 'nh'],\n",
    "    pressure=[100, 300, 500, 850, 1000],\n",
    ").assign_coords(\n",
    "    step=ds.step.astype('float') / (1e9 * pd.Timedelta('1d').total_seconds()),\n",
    ")"
   ]
  },
  {
   "cell_type": "code",
   "execution_count": null,
   "id": "c351028d-1232-41c7-96cd-5f8ad35b39b6",
   "metadata": {},
   "outputs": [],
   "source": [
    "plt.close('all')"
   ]
  },
  {
   "cell_type": "code",
   "execution_count": null,
   "id": "2456ac02-60c6-43b6-a107-2cb122987cf1",
   "metadata": {},
   "outputs": [],
   "source": [
    "fig = InteractiveLinePlot(\n",
    "    ds['rs_plot_diff'],\n",
    "    x_dim='step',\n",
    "    line_dim='truncation',\n",
    "    facet_dim=('region', 'pressure'),\n",
    "    open_figure_kwargs=dict(\n",
    "        figure_w=9,\n",
    "        h_ratio_axes=0.6,\n",
    "        pad_w_left=1,\n",
    "        pad_w_right=0.1,\n",
    "        pad_h_in=0.4,\n",
    "        pad_h_top=0.7,\n",
    "        pad_w_in=0.1,\n",
    "        legend='vertical',\n",
    "        vertical_legend_w=1.5,\n",
    "        pad_w_ax_vertical_legend=0.1,\n",
    "    ),\n",
    ")"
   ]
  },
  {
   "cell_type": "code",
   "execution_count": null,
   "id": "072ce137-2b55-4479-888f-1b5bd75ee091",
   "metadata": {},
   "outputs": [],
   "source": [
    "fig.interactive_show()"
   ]
  },
  {
   "cell_type": "code",
   "execution_count": null,
   "id": "5015f121-15cd-4098-837b-577281521929",
   "metadata": {},
   "outputs": [],
   "source": []
  }
 ],
 "metadata": {
  "kernelspec": {
   "display_name": "daaf-plot-dev",
   "language": "python",
   "name": "daaf-plot-dev"
  },
  "language_info": {
   "codemirror_mode": {
    "name": "ipython",
    "version": 3
   },
   "file_extension": ".py",
   "mimetype": "text/x-python",
   "name": "python",
   "nbconvert_exporter": "python",
   "pygments_lexer": "ipython3",
   "version": "3.13.7"
  }
 },
 "nbformat": 4,
 "nbformat_minor": 5
}
