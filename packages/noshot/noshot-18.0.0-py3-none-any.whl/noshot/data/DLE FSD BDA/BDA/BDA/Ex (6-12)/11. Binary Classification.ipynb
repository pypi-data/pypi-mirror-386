{
  "cells": [
    {
      "cell_type": "code",
      "source": [
        "40"
      ],
      "metadata": {
        "id": "Tf6ywIQxT1-H"
      },
      "execution_count": null,
      "outputs": []
    },
    {
      "cell_type": "markdown",
      "metadata": {
        "id": "u3hChTA4w9B1"
      },
      "source": [
        "# Experiment 11: Binary Classification Algorithms Comparison using PySpark\n",
        "\n",
        "\n",
        "## Objective\n",
        "Compare three classification algorithms (Logistic Regression, SVM, Decision Tree) using precision, recall, and F1-score on Breast Cancer dataset (binary classification)."
      ]
    },
    {
      "cell_type": "markdown",
      "metadata": {
        "id": "1zc46Lcpw9B5"
      },
      "source": [
        "## 1. Import Libraries and Start Spark"
      ]
    },
    {
      "cell_type": "markdown",
      "source": [],
      "metadata": {
        "id": "LaaO9kDqlDS6"
      }
    },
    {
      "cell_type": "code",
      "execution_count": null,
      "metadata": {
        "id": "HU0vZpT-w9B6",
        "colab": {
          "base_uri": "https://localhost:8080/"
        },
        "outputId": "16ab1258-91f2-492c-d980-389cf50129f7"
      },
      "outputs": [
        {
          "output_type": "stream",
          "name": "stdout",
          "text": [
            "Spark is ready!\n"
          ]
        }
      ],
      "source": [
        "                                      # Import required libraries\n",
        "from pyspark.sql import SparkSession\n",
        "from pyspark.ml.feature import VectorAssembler\n",
        "from pyspark.ml.classification import LogisticRegression, LinearSVC, DecisionTreeClassifier\n",
        "from pyspark.ml.evaluation import MulticlassClassificationEvaluator, BinaryClassificationEvaluator\n",
        "from sklearn.datasets import load_breast_cancer\n",
        "import pandas as pd\n",
        "import matplotlib.pyplot as plt\n",
        "\n",
        "# Start Spark\n",
        "spark = SparkSession.builder.appName(\"BinaryClassification\").getOrCreate()\n",
        "\n",
        "print(\"Spark is ready!\")"
      ]
    },
    {
      "cell_type": "markdown",
      "metadata": {
        "id": "eK1OHo-Fw9B8"
      },
      "source": [
        "## 2. Load Breast Cancer Dataset from CSV"
      ]
    },
    {
      "cell_type": "markdown",
      "metadata": {
        "id": "vbK5uGj_xQuq"
      },
      "source": [
        "Demonstrating loading from CSV - Breast Cancer dataset has 2 classes (Benign=0, Malignant=1)"
      ]
    },
    {
      "cell_type": "code",
      "execution_count": null,
      "metadata": {
        "id": "6SkYUxyxw9B9",
        "colab": {
          "base_uri": "https://localhost:8080/"
        },
        "outputId": "5266ffa7-cc71-4892-8f0c-7ca1f6b6044d"
      },
      "outputs": [
        {
          "output_type": "stream",
          "name": "stdout",
          "text": [
            "Breast Cancer dataset CSV created successfully!\n",
            "Dataset loaded from CSV with 569 samples\n",
            "Classes: 0=Malignant, 1=Benign\n",
            "\n",
            "First 5 rows:\n",
            "+-----------+------------+--------------+---------+\n",
            "|mean radius|mean texture|mean perimeter|diagnosis|\n",
            "+-----------+------------+--------------+---------+\n",
            "|      17.99|       10.38|         122.8|        0|\n",
            "|      20.57|       17.77|         132.9|        0|\n",
            "|      19.69|       21.25|         130.0|        0|\n",
            "|      11.42|       20.38|         77.58|        0|\n",
            "|      20.29|       14.34|         135.1|        0|\n",
            "+-----------+------------+--------------+---------+\n",
            "only showing top 5 rows\n",
            "\n"
          ]
        }
      ],
      "source": [
        "# Load Breast Cancer dataset (binary classification)\n",
        "cancer = load_breast_cancer()\n",
        "cancer_df = pd.DataFrame(cancer.data, columns=cancer.feature_names)\n",
        "cancer_df['diagnosis'] = cancer.target  # 0 = malignant, 1 = benign\n",
        "\n",
        "# Save to CSV file\n",
        "cancer_df.to_csv('breast_cancer_dataset.csv', index=False)\n",
        "print(\"Breast Cancer dataset CSV created successfully!\")\n",
        "\n",
        "# Load from CSV using PySpark\n",
        "spark_df = spark.read.csv('breast_cancer_dataset.csv', header=True, inferSchema=True)\n",
        "\n",
        "print(f\"Dataset loaded from CSV with {spark_df.count()} samples\")\n",
        "print(f\"Classes: 0=Malignant, 1=Benign\")\n",
        "print(\"\\nFirst 5 rows:\")\n",
        "spark_df.select('mean radius', 'mean texture', 'mean perimeter', 'diagnosis').show(5)"
      ]
    },
    {
      "cell_type": "markdown",
      "metadata": {
        "id": "check_classes"
      },
      "source": [
        "## 3. Verify Binary Dataset"
      ]
    },
    {
      "cell_type": "code",
      "execution_count": null,
      "metadata": {
        "id": "verify_binary",
        "colab": {
          "base_uri": "https://localhost:8080/"
        },
        "outputId": "ff28faf6-3034-4900-ffb8-4aa7fce18321"
      },
      "outputs": [
        {
          "output_type": "stream",
          "name": "stdout",
          "text": [
            "Class distribution:\n",
            "+---------+-----+\n",
            "|diagnosis|count|\n",
            "+---------+-----+\n",
            "|        0|  212|\n",
            "|        1|  357|\n",
            "+---------+-----+\n",
            "\n",
            "\n",
            "Number of classes: 2\n",
            "✓ This is a binary classification dataset (2 classes)\n"
          ]
        }
      ],
      "source": [
        "# Check class distribution\n",
        "print(\"Class distribution:\")\n",
        "spark_df.groupBy('diagnosis').count().orderBy('diagnosis').show()\n",
        "\n",
        "# Verify we have exactly 2 classes\n",
        "num_classes = spark_df.select('diagnosis').distinct().count()\n",
        "print(f\"\\nNumber of classes: {num_classes}\")\n",
        "print(\"✓ This is a binary classification dataset (2 classes)\")"
      ]
    },
    {
      "cell_type": "markdown",
      "metadata": {
        "id": "VH2GJ6NYw9B-"
      },
      "source": [
        "## 4. Prepare Data"
      ]
    },
    {
      "cell_type": "code",
      "execution_count": null,
      "metadata": {
        "id": "5EX7SjW4w9B-",
        "colab": {
          "base_uri": "https://localhost:8080/"
        },
        "outputId": "edf7d2a1-90c6-460a-e110-3d61dcaa08d0"
      },
      "outputs": [
        {
          "output_type": "stream",
          "name": "stdout",
          "text": [
            "Training data: 426 samples\n",
            "Test data: 143 samples\n"
          ]
        }
      ],
      "source": [
        "# Create feature vector using all columns except diagnosis\n",
        "feature_cols = [col for col in spark_df.columns if col != 'diagnosis']\n",
        "assembler = VectorAssembler(inputCols=feature_cols, outputCol='features')\n",
        "assembled_df = assembler.transform(spark_df)\n",
        "\n",
        "# Select only features and diagnosis (target)\n",
        "final_df = assembled_df.select('features', 'diagnosis')\n",
        "\n",
        "# Split data: 70% training, 30% testing\n",
        "(train_data, test_data) = final_df.randomSplit([0.7, 0.3], seed=42)\n",
        "\n",
        "print(f\"Training data: {train_data.count()} samples\")\n",
        "print(f\"Test data: {test_data.count()} samples\")"
      ]
    },
    {
      "cell_type": "markdown",
      "metadata": {
        "id": "MC6NYAhSw9B_"
      },
      "source": [
        "## 5. Train Classification Models"
      ]
    },
    {
      "cell_type": "code",
      "execution_count": null,
      "metadata": {
        "id": "WiILeuFkw9CA",
        "colab": {
          "base_uri": "https://localhost:8080/"
        },
        "outputId": "f3e3bee7-55ee-4044-cb86-e0f8bbedd202"
      },
      "outputs": [
        {
          "output_type": "stream",
          "name": "stdout",
          "text": [
            "Training models...\n",
            "All models trained successfully!\n"
          ]
        }
      ],
      "source": [
        "# Create three classifiers for binary classification\n",
        "lr = LogisticRegression(featuresCol='features', labelCol='diagnosis')\n",
        "svm = LinearSVC(featuresCol='features', labelCol='diagnosis', maxIter=10)\n",
        "dt = DecisionTreeClassifier(featuresCol='features', labelCol='diagnosis')\n",
        "\n",
        "# Train models\n",
        "print(\"Training models...\")\n",
        "lr_model = lr.fit(train_data)\n",
        "svm_model = svm.fit(train_data)\n",
        "dt_model = dt.fit(train_data)\n",
        "print(\"All models trained successfully!\")"
      ]
    },
    {
      "cell_type": "markdown",
      "metadata": {
        "id": "w5rwTq3lw9CB"
      },
      "source": [
        "## 6. Make Predictions and Evaluate"
      ]
    },
    {
      "cell_type": "code",
      "execution_count": null,
      "metadata": {
        "id": "uQRN2mOnw9CB",
        "colab": {
          "base_uri": "https://localhost:8080/"
        },
        "outputId": "5479eb62-7908-492f-c352-ed6f1f6e5c5f"
      },
      "outputs": [
        {
          "output_type": "stream",
          "name": "stdout",
          "text": [
            "=== BINARY CLASSIFICATION RESULTS ===\n",
            "Dataset: Breast Cancer (2 classes: Malignant=0, Benign=1)\n",
            "\n",
            "Logistic Regression - Precision: 0.958, Recall: 0.958, F1: 0.958\n",
            "SVM - Precision: 0.961, Recall: 0.958, F1: 0.958\n",
            "Decision Tree - Precision: 0.944, Recall: 0.944, F1: 0.944\n"
          ]
        }
      ],
      "source": [
        "# Make predictions\n",
        "lr_predictions = lr_model.transform(test_data)\n",
        "svm_predictions = svm_model.transform(test_data)\n",
        "dt_predictions = dt_model.transform(test_data)\n",
        "\n",
        "# Create evaluators for binary classification\n",
        "precision_evaluator = MulticlassClassificationEvaluator(\n",
        "    labelCol='diagnosis', predictionCol='prediction', metricName='weightedPrecision')\n",
        "recall_evaluator = MulticlassClassificationEvaluator(\n",
        "    labelCol='diagnosis', predictionCol='prediction', metricName='weightedRecall')\n",
        "f1_evaluator = MulticlassClassificationEvaluator(\n",
        "    labelCol='diagnosis', predictionCol='prediction', metricName='f1')\n",
        "\n",
        "print(\"=== BINARY CLASSIFICATION RESULTS ===\")\n",
        "print(\"Dataset: Breast Cancer (2 classes: Malignant=0, Benign=1)\\n\")\n",
        "\n",
        "# Store results\n",
        "results = []\n",
        "\n",
        "# Logistic Regression\n",
        "lr_precision = precision_evaluator.evaluate(lr_predictions)\n",
        "lr_recall = recall_evaluator.evaluate(lr_predictions)\n",
        "lr_f1 = f1_evaluator.evaluate(lr_predictions)\n",
        "results.append(['Logistic Regression', lr_precision, lr_recall, lr_f1])\n",
        "print(f\"Logistic Regression - Precision: {lr_precision:.3f}, Recall: {lr_recall:.3f}, F1: {lr_f1:.3f}\")\n",
        "\n",
        "# SVM (works with binary data)\n",
        "svm_precision = precision_evaluator.evaluate(svm_predictions)\n",
        "svm_recall = recall_evaluator.evaluate(svm_predictions)\n",
        "svm_f1 = f1_evaluator.evaluate(svm_predictions)\n",
        "results.append(['SVM', svm_precision, svm_recall, svm_f1])\n",
        "print(f\"SVM - Precision: {svm_precision:.3f}, Recall: {svm_recall:.3f}, F1: {svm_f1:.3f}\")\n",
        "\n",
        "# Decision Tree\n",
        "dt_precision = precision_evaluator.evaluate(dt_predictions)\n",
        "dt_recall = recall_evaluator.evaluate(dt_predictions)\n",
        "dt_f1 = f1_evaluator.evaluate(dt_predictions)\n",
        "results.append(['Decision Tree', dt_precision, dt_recall, dt_f1])\n",
        "print(f\"Decision Tree - Precision: {dt_precision:.3f}, Recall: {dt_recall:.3f}, F1: {dt_f1:.3f}\")"
      ]
    },
    {
      "cell_type": "markdown",
      "metadata": {
        "id": "IwenRRSyw9CC"
      },
      "source": [
        "## 7. Visualize Results"
      ]
    },
    {
      "cell_type": "code",
      "execution_count": null,
      "metadata": {
        "id": "5xpfaG2Cw9CC",
        "colab": {
          "base_uri": "https://localhost:8080/",
          "height": 503
        },
        "outputId": "7e5d7655-8f23-465d-f496-38a0044ce257"
      },
      "outputs": [
        {
          "output_type": "display_data",
          "data": {
            "text/plain": [
              "<Figure size 800x500 with 1 Axes>"
            ],
            "image/png": "[encoded data removed]"
          },
          "metadata": {}
        },
        {
          "output_type": "stream",
          "name": "stdout",
          "text": [
            "\n",
            "Best Algorithm: Logistic Regression with F1-Score: 0.958\n"
          ]
        }
      ],
      "source": [
        "# Create simple comparison chart\n",
        "algorithms = [result[0] for result in results]\n",
        "f1_scores = [result[3] for result in results]\n",
        "\n",
        "plt.figure(figsize=(8, 5))\n",
        "plt.bar(algorithms, f1_scores, color=['blue', 'green', 'orange'])\n",
        "plt.title('F1-Score Comparison - Binary Classification')\n",
        "plt.ylabel('F1-Score')\n",
        "plt.ylim(0, 1)\n",
        "plt.grid(axis='y', alpha=0.3)\n",
        "plt.show()\n",
        "\n",
        "# Find and display best algorithm\n",
        "best_index = f1_scores.index(max(f1_scores))\n",
        "print(f\"\\nBest Algorithm: {algorithms[best_index]} with F1-Score: {f1_scores[best_index]:.3f}\")"
      ]
    },
    {
      "cell_type": "markdown",
      "metadata": {
        "id": "SkcZEHD-w9CD"
      },
      "source": [
        "## 8. Show Sample Predictions"
      ]
    },
    {
      "cell_type": "code",
      "execution_count": null,
      "metadata": {
        "id": "4X3xbOW-w9CD",
        "colab": {
          "base_uri": "https://localhost:8080/"
        },
        "outputId": "fc950b14-f542-429c-e4f4-970b97b8203b"
      },
      "outputs": [
        {
          "output_type": "stream",
          "name": "stdout",
          "text": [
            "Sample predictions from Logistic Regression:\n",
            "(0=Malignant, 1=Benign)\n",
            "\n",
            "+---------+----------+\n",
            "|diagnosis|prediction|\n",
            "+---------+----------+\n",
            "|        1|       1.0|\n",
            "|        1|       1.0|\n",
            "|        1|       1.0|\n",
            "|        1|       1.0|\n",
            "|        1|       1.0|\n",
            "|        1|       1.0|\n",
            "|        1|       1.0|\n",
            "|        1|       1.0|\n",
            "|        1|       1.0|\n",
            "|        1|       1.0|\n",
            "+---------+----------+\n",
            "only showing top 10 rows\n",
            "\n"
          ]
        }
      ],
      "source": [
        "# Show sample predictions from best model\n",
        "print(f\"Sample predictions from {algorithms[best_index]}:\")\n",
        "print(\"(0=Malignant, 1=Benign)\\n\")\n",
        "\n",
        "if best_index == 0:  # Logistic Regression\n",
        "    lr_predictions.select('diagnosis', 'prediction').show(10)\n",
        "elif best_index == 1:  # SVM\n",
        "    svm_predictions.select('diagnosis', 'prediction').show(10)\n",
        "else:  # Decision Tree\n",
        "    dt_predictions.select('diagnosis', 'prediction').show(10)"
      ]
    },
    {
      "cell_type": "code",
      "execution_count": null,
      "metadata": {
        "id": "Td8JQuxmw9CD",
        "colab": {
          "base_uri": "https://localhost:8080/"
        },
        "outputId": "65a6ca8e-94d7-4838-fb81-f89747103c5b"
      },
      "outputs": [
        {
          "output_type": "stream",
          "name": "stdout",
          "text": [
            "Experiment completed successfully!\n"
          ]
        }
      ],
      "source": [
        "# Stop Spark\n",
        "spark.stop()\n",
        "print(\"Experiment completed successfully!\")"
      ]
    }
  ],
  "metadata": {
    "kernelspec": {
      "display_name": "Python 3",
      "language": "python",
      "name": "python3"
    },
    "language_info": {
      "codemirror_mode": {
        "name": "ipython",
        "version": 3
      },
      "file_extension": ".py",
      "mimetype": "text/x-python",
      "name": "python",
      "nbconvert_exporter": "python",
      "pygments_lexer": "ipython3",
      "version": "3.8.5"
    },
    "colab": {
      "provenance": []
    }
  },
  "nbformat": 4,
  "nbformat_minor": 0
}