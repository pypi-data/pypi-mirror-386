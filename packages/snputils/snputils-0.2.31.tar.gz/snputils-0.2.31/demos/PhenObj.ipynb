{
 "cells": [
  {
   "cell_type": "markdown",
   "id": "66a6f408-0f0c-444f-b44d-e571432354e4",
   "metadata": {},
   "source": [
    "# Tutorial on the MultiPhenotypeObject Functionalities"
   ]
  },
  {
   "cell_type": "code",
   "execution_count": 1,
   "id": "9892f720-83b7-4537-a4c6-89589a742295",
   "metadata": {},
   "outputs": [],
   "source": [
    "import os\n",
    "import sys\n",
    "import numpy as np\n",
    "import pandas as pd\n",
    "\n",
    "dir = os.path.abspath('../')\n",
    "if not dir in sys.path: sys.path.append(dir)\n",
    "\n",
    "from snputils.phenotype.io.read import MultiPhenTabularReader"
   ]
  },
  {
   "cell_type": "markdown",
   "id": "6bb2e087-70b7-49fe-a081-d07ee33783b0",
   "metadata": {},
   "source": [
    "### 1. Read a TSV/MAP File into a MultiPhenotypeObject\n",
    "\n",
    "Load a phenotype file (e.g., a TSV/MAP file) into a MultiPhenotypeObject, which stores phenotype data in a structured DataFrame."
   ]
  },
  {
   "cell_type": "code",
   "execution_count": 2,
   "id": "325c0d03-45cb-4b5f-9420-439ad354ab4c",
   "metadata": {},
   "outputs": [
    {
     "data": {
      "text/html": [
       "<div>\n",
       "<style scoped>\n",
       "    .dataframe tbody tr th:only-of-type {\n",
       "        vertical-align: middle;\n",
       "    }\n",
       "\n",
       "    .dataframe tbody tr th {\n",
       "        vertical-align: top;\n",
       "    }\n",
       "\n",
       "    .dataframe thead th {\n",
       "        text-align: right;\n",
       "    }\n",
       "</style>\n",
       "<table border=\"1\" class=\"dataframe\">\n",
       "  <thead>\n",
       "    <tr style=\"text-align: right;\">\n",
       "      <th></th>\n",
       "      <th>samples</th>\n",
       "      <th>ancestry</th>\n",
       "    </tr>\n",
       "  </thead>\n",
       "  <tbody>\n",
       "    <tr>\n",
       "      <th>0</th>\n",
       "      <td>HG00096</td>\n",
       "      <td>EUR</td>\n",
       "    </tr>\n",
       "    <tr>\n",
       "      <th>1</th>\n",
       "      <td>HG00097</td>\n",
       "      <td>EUR</td>\n",
       "    </tr>\n",
       "    <tr>\n",
       "      <th>2</th>\n",
       "      <td>HG00099</td>\n",
       "      <td>AFR</td>\n",
       "    </tr>\n",
       "    <tr>\n",
       "      <th>3</th>\n",
       "      <td>HG00100</td>\n",
       "      <td>AFR</td>\n",
       "    </tr>\n",
       "  </tbody>\n",
       "</table>\n",
       "</div>"
      ],
      "text/plain": [
       "   samples ancestry\n",
       "0  HG00096      EUR\n",
       "1  HG00097      EUR\n",
       "2  HG00099      AFR\n",
       "3  HG00100      AFR"
      ]
     },
     "execution_count": 2,
     "metadata": {},
     "output_type": "execute_result"
    }
   ],
   "source": [
    "# Path to the phenotype file\n",
    "path = '../data/samples_pops.tsv'\n",
    "\n",
    "# Read the file into a MultiPhenotypeObject with specified delimiter, no header, and a phenotype name\n",
    "phenobj = MultiPhenTabularReader(path).read(sep='\\t', header=None, phen_names=['ancestry'])\n",
    "\n",
    "# Display the DataFrame containing phenotype data\n",
    "phenobj.phen_df"
   ]
  },
  {
   "cell_type": "markdown",
   "id": "5268cdb8-a6da-4838-a1e7-c91595fd0c00",
   "metadata": {},
   "source": [
    "### 2. Filter MultiPhenotypeObject by Samples\n",
    "\n",
    "The `filter_samples()` method allows you to filter the phenotype data by sample names or sample indexes. You can include or exclude specific samples based on your criteria.\n",
    "\n",
    "#### 2.1. Filter by Sample Names\n",
    "\n",
    "Include specific samples by their names."
   ]
  },
  {
   "cell_type": "code",
   "execution_count": 3,
   "id": "9f7ea6c5-a53d-43c1-b998-83b446644572",
   "metadata": {},
   "outputs": [
    {
     "data": {
      "text/html": [
       "<div>\n",
       "<style scoped>\n",
       "    .dataframe tbody tr th:only-of-type {\n",
       "        vertical-align: middle;\n",
       "    }\n",
       "\n",
       "    .dataframe tbody tr th {\n",
       "        vertical-align: top;\n",
       "    }\n",
       "\n",
       "    .dataframe thead th {\n",
       "        text-align: right;\n",
       "    }\n",
       "</style>\n",
       "<table border=\"1\" class=\"dataframe\">\n",
       "  <thead>\n",
       "    <tr style=\"text-align: right;\">\n",
       "      <th></th>\n",
       "      <th>samples</th>\n",
       "      <th>ancestry</th>\n",
       "    </tr>\n",
       "  </thead>\n",
       "  <tbody>\n",
       "    <tr>\n",
       "      <th>0</th>\n",
       "      <td>HG00096</td>\n",
       "      <td>EUR</td>\n",
       "    </tr>\n",
       "    <tr>\n",
       "      <th>1</th>\n",
       "      <td>HG00097</td>\n",
       "      <td>EUR</td>\n",
       "    </tr>\n",
       "  </tbody>\n",
       "</table>\n",
       "</div>"
      ],
      "text/plain": [
       "   samples ancestry\n",
       "0  HG00096      EUR\n",
       "1  HG00097      EUR"
      ]
     },
     "execution_count": 3,
     "metadata": {},
     "output_type": "execute_result"
    }
   ],
   "source": [
    "phenobj.filter_samples(samples=['HG00096', 'HG00097']).phen_df"
   ]
  },
  {
   "cell_type": "markdown",
   "id": "0a25399d-fe83-4500-b758-06af95510cf6",
   "metadata": {},
   "source": [
    "#### 2.2. Filter by Sample Indexes\n",
    "\n",
    "Exclude specific samples by their indexes in the data."
   ]
  },
  {
   "cell_type": "code",
   "execution_count": 4,
   "id": "a3e4b46c-dc1b-471e-830f-d133816e74b4",
   "metadata": {},
   "outputs": [
    {
     "data": {
      "text/html": [
       "<div>\n",
       "<style scoped>\n",
       "    .dataframe tbody tr th:only-of-type {\n",
       "        vertical-align: middle;\n",
       "    }\n",
       "\n",
       "    .dataframe tbody tr th {\n",
       "        vertical-align: top;\n",
       "    }\n",
       "\n",
       "    .dataframe thead th {\n",
       "        text-align: right;\n",
       "    }\n",
       "</style>\n",
       "<table border=\"1\" class=\"dataframe\">\n",
       "  <thead>\n",
       "    <tr style=\"text-align: right;\">\n",
       "      <th></th>\n",
       "      <th>samples</th>\n",
       "      <th>ancestry</th>\n",
       "    </tr>\n",
       "  </thead>\n",
       "  <tbody>\n",
       "    <tr>\n",
       "      <th>0</th>\n",
       "      <td>HG00097</td>\n",
       "      <td>EUR</td>\n",
       "    </tr>\n",
       "    <tr>\n",
       "      <th>1</th>\n",
       "      <td>HG00099</td>\n",
       "      <td>AFR</td>\n",
       "    </tr>\n",
       "  </tbody>\n",
       "</table>\n",
       "</div>"
      ],
      "text/plain": [
       "   samples ancestry\n",
       "0  HG00097      EUR\n",
       "1  HG00099      AFR"
      ]
     },
     "execution_count": 4,
     "metadata": {},
     "output_type": "execute_result"
    }
   ],
   "source": [
    "filtered_phen_df_exclude = phenobj.filter_samples(indexes=[0, 3], include=False).phen_df\n",
    "filtered_phen_df_exclude"
   ]
  },
  {
   "cell_type": "code",
   "execution_count": null,
   "id": "41900163",
   "metadata": {},
   "outputs": [],
   "source": []
  }
 ],
 "metadata": {
  "kernelspec": {
   "display_name": "galaxybio",
   "language": "python",
   "name": "python3"
  },
  "language_info": {
   "codemirror_mode": {
    "name": "ipython",
    "version": 3
   },
   "file_extension": ".py",
   "mimetype": "text/x-python",
   "name": "python",
   "nbconvert_exporter": "python",
   "pygments_lexer": "ipython3",
   "version": "3.10.13"
  }
 },
 "nbformat": 4,
 "nbformat_minor": 5
}
