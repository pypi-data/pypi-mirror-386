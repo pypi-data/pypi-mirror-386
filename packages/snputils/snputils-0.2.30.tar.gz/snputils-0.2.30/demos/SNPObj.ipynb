{
 "cells": [
  {
   "cell_type": "markdown",
   "id": "7150f5dc-9000-460d-a33d-9d423e318f6c",
   "metadata": {},
   "source": [
    "# Tutorial on SNPObj Functionalities"
   ]
  },
  {
   "cell_type": "code",
   "execution_count": 1,
   "id": "674d136a-1ded-4ce0-babc-87556d518b5f",
   "metadata": {},
   "outputs": [],
   "source": [
    "import logging\n",
    "import os\n",
    "import sys\n",
    "import numpy as np\n",
    "\n",
    "dir = os.path.abspath('../')\n",
    "if not dir in sys.path: sys.path.append(dir)\n",
    "\n",
    "from snputils.snp.io.read.vcf import VCFReader, VCFReaderPolars\n",
    "\n",
    "logging.basicConfig(stream=sys.stdout, level=logging.INFO)"
   ]
  },
  {
   "cell_type": "markdown",
   "id": "9b5b691a-b3bb-4365-b511-bf6c6f94b96a",
   "metadata": {},
   "source": [
    "### 1. Reading VCF Files into SNPObject\n",
    "\n",
    "We can read VCF files into a SNPObject using either the standard VCFReader or the VCFReaderPolars. The Polars-based reader is optimized for speed but may consume more memory."
   ]
  },
  {
   "cell_type": "code",
   "execution_count": 2,
   "id": "2b25818b",
   "metadata": {},
   "outputs": [
    {
     "name": "stdout",
     "output_type": "stream",
     "text": [
      "INFO:snputils.snp.io.read.vcf:Reading ../data/vcf/subset.vcf\n",
      "INFO:snputils.snp.io.read.vcf:Finished reading ../data/vcf/subset.vcf\n",
      "Attributes of the SNPObject: ['calldata_gt', 'samples', 'variants_ref', 'variants_alt', 'variants_chrom', 'variants_filter_pass', 'variants_id', 'variants_pos', 'variants_qual', 'calldata_lai', 'ancestry_map']\n",
      "INFO:snputils.snp.io.read.vcf:Reading ../data/vcf/subset.vcf\n",
      "INFO:snputils.snp.io.read.vcf:Finished reading ../data/vcf/subset.vcf\n"
     ]
    }
   ],
   "source": [
    "# Define the path to the VCF file\n",
    "query_path = '../data/vcf/subset.vcf'\n",
    "\n",
    "# Read VCF into SNPObject with the standard reader\n",
    "reader = VCFReader(query_path)\n",
    "snpobj = reader.read(sum_strands=False)\n",
    "\n",
    "print(\"Attributes of the SNPObject:\", snpobj.keys())\n",
    "\n",
    "# Read VCF into SNPObject with the Polars-based reader\n",
    "reader_polars = VCFReaderPolars(query_path)\n",
    "snpobj_polars = reader_polars.read()"
   ]
  },
  {
   "cell_type": "markdown",
   "id": "cb20b5ff-5eb1-441a-a06f-8f4e2a594387",
   "metadata": {},
   "source": [
    "### 2. Accessing and Modifying Attributes\n",
    "\n",
    "You can access and modify attributes using either attribute syntax or dictionary-like access."
   ]
  },
  {
   "cell_type": "code",
   "execution_count": 3,
   "id": "62a5da74",
   "metadata": {},
   "outputs": [
    {
     "name": "stdout",
     "output_type": "stream",
     "text": [
      "Original sample IDs: ['HG00096' 'HG00097' 'HG00099' 'HG00100']\n",
      "Updated sample IDs (attribute access): ['sample_1' 'sample_2' 'sample_3' 'sample_4']\n",
      "Updated sample IDs (dictionary access): ['sample_A' 'sample_B' 'sample_C' 'sample_D']\n"
     ]
    }
   ],
   "source": [
    "# Accessing the original sample IDs\n",
    "print(\"Original sample IDs:\", snpobj.samples)\n",
    "\n",
    "# Updating sample IDs using attribute access\n",
    "snpobj.samples = ['sample_1', 'sample_2', 'sample_3', 'sample_4']\n",
    "print(\"Updated sample IDs (attribute access):\", snpobj.samples)\n",
    "\n",
    "# Updating sample IDs using dictionary-like access\n",
    "snpobj['samples'] = ['sample_A', 'sample_B', 'sample_C', 'sample_D']\n",
    "print(\"Updated sample IDs (dictionary access):\", snpobj['samples'])"
   ]
  },
  {
   "cell_type": "markdown",
   "id": "81b6b34a",
   "metadata": {},
   "source": [
    "### 3. Retrieving Counts and Unique Chromosomes\n",
    "\n",
    "**Number of Samples and SNPs**"
   ]
  },
  {
   "cell_type": "code",
   "execution_count": 4,
   "id": "56fe8a53",
   "metadata": {},
   "outputs": [
    {
     "name": "stdout",
     "output_type": "stream",
     "text": [
      "Number of samples: 4\n",
      "Number of SNPs: 976599\n"
     ]
    }
   ],
   "source": [
    "# Retrieving the number of samples\n",
    "n_samples = snpobj.n_samples\n",
    "print(\"Number of samples:\", n_samples)\n",
    "\n",
    "# Retrieving the number of SNPs\n",
    "n_snps = snpobj.n_snps\n",
    "print(\"Number of SNPs:\", n_snps)"
   ]
  },
  {
   "cell_type": "markdown",
   "id": "3eb503e9",
   "metadata": {},
   "source": [
    "**Unique Chromosome Names**"
   ]
  },
  {
   "cell_type": "code",
   "execution_count": 5,
   "id": "f85111f1",
   "metadata": {},
   "outputs": [
    {
     "name": "stdout",
     "output_type": "stream",
     "text": [
      "Unique chromosomes: ['21']\n"
     ]
    }
   ],
   "source": [
    "print(\"Unique chromosomes:\", snpobj.unique_chrom)"
   ]
  },
  {
   "cell_type": "markdown",
   "id": "4d2e69eb-77bc-481e-8310-64fb2350de2f",
   "metadata": {},
   "source": [
    "### 4. Chromosome Nomenclature and Renaming\n",
    "\n",
    "Chromosome nomenclature can vary between datasets. The SNPObject provides methods to detect and convert chromosome formats."
   ]
  },
  {
   "cell_type": "markdown",
   "id": "aa4bb70a",
   "metadata": {},
   "source": [
    "**Detecting Chromosome Format**"
   ]
  },
  {
   "cell_type": "code",
   "execution_count": 6,
   "id": "cd2e476c-e47e-44ea-b6fa-fa6ebfdc29b9",
   "metadata": {},
   "outputs": [
    {
     "name": "stdout",
     "output_type": "stream",
     "text": [
      "Detected chromosome format: plain\n"
     ]
    }
   ],
   "source": [
    "chrom_format = snpobj.detect_chromosome_format()\n",
    "print(\"Detected chromosome format:\", chrom_format)"
   ]
  },
  {
   "cell_type": "markdown",
   "id": "217ac6ba",
   "metadata": {},
   "source": [
    "**Converting Chromosome Format**\n",
    "\n",
    "You can convert the chromosome format to match a standard or another SNPObject."
   ]
  },
  {
   "cell_type": "code",
   "execution_count": 7,
   "id": "1e1f08b5",
   "metadata": {},
   "outputs": [
    {
     "name": "stdout",
     "output_type": "stream",
     "text": [
      "Chromosomes after conversion to chr format: ['chr21']\n"
     ]
    }
   ],
   "source": [
    "# Convert from 'chr' format to 'plain' format\n",
    "snpobj_plain = snpobj.convert_chromosome_format(from_format='plain', to_format='chr', inplace=False)\n",
    "print(\"Chromosomes after conversion to chr format:\", snpobj_plain.unique_chrom)"
   ]
  },
  {
   "cell_type": "markdown",
   "id": "e9d39165",
   "metadata": {},
   "source": [
    "**Matching Chromosome Format with Another SNPObject**"
   ]
  },
  {
   "cell_type": "code",
   "execution_count": 8,
   "id": "dcf2c069",
   "metadata": {},
   "outputs": [
    {
     "name": "stdout",
     "output_type": "stream",
     "text": [
      "INFO:snputils.snp.io.read.vcf:Reading ../data/vcf/subset.vcf\n",
      "INFO:snputils.snp.io.read.vcf:Finished reading ../data/vcf/subset.vcf\n",
      "Chromosomes after matching format: ['21']\n"
     ]
    }
   ],
   "source": [
    "# Assume snpobj_reference is another SNPObject with a different chromosome format\n",
    "snpobj_reference = VCFReader(query_path).read()\n",
    "snpobj_matched = snpobj.match_chromosome_format(snpobj_reference, inplace=False)\n",
    "print(\"Chromosomes after matching format:\", snpobj_matched.unique_chrom)"
   ]
  },
  {
   "cell_type": "markdown",
   "id": "abfb08e0",
   "metadata": {},
   "source": [
    "**Renaming Chromosomes with Custom Patterns**\n",
    "\n",
    "The `rename_chrom` method allows for custom renaming using regex patterns."
   ]
  },
  {
   "cell_type": "code",
   "execution_count": 9,
   "id": "7c64f7ca",
   "metadata": {},
   "outputs": [
    {
     "name": "stdout",
     "output_type": "stream",
     "text": [
      "Chromosomes after custom renaming: ['21']\n"
     ]
    }
   ],
   "source": [
    "# Custom renaming using regex\n",
    "snpobj_renamed = snpobj.rename_chrom(to_replace={'^chr': ''}, regex=True, inplace=False)\n",
    "print(\"Chromosomes after custom renaming:\", snpobj_renamed.unique_chrom)"
   ]
  },
  {
   "cell_type": "markdown",
   "id": "197ea07b",
   "metadata": {},
   "source": [
    "### 5. Managing Missing Data\n",
    "\n",
    "The `rename_missings` method replaces missing values in the calldata_gt attribute."
   ]
  },
  {
   "cell_type": "code",
   "execution_count": 10,
   "id": "30807670",
   "metadata": {},
   "outputs": [
    {
     "name": "stdout",
     "output_type": "stream",
     "text": [
      "Unique genotype values before renaming missings: [0 1]\n",
      "Unique genotype values after renaming missings: [0 1]\n"
     ]
    }
   ],
   "source": [
    "print(\"Unique genotype values before renaming missings:\", np.unique(snpobj['calldata_gt']))\n",
    "\n",
    "# Replace missing values (-1) with '.'\n",
    "snpobj_no_missing = snpobj.rename_missings(before='.', after=-1, inplace=False)\n",
    "print(\"Unique genotype values after renaming missings:\", np.unique(snpobj_no_missing['calldata_gt']))"
   ]
  },
  {
   "cell_type": "markdown",
   "id": "5315e191",
   "metadata": {},
   "source": [
    "### 6. Filtering SNPs\n",
    "\n",
    "The `filter_variants` method filters SNPs based on chromosomes, positions, or indexes.\n",
    "\n",
    "**Filtering by Chromosome and Position**"
   ]
  },
  {
   "cell_type": "code",
   "execution_count": 11,
   "id": "9beadb42",
   "metadata": {},
   "outputs": [
    {
     "name": "stdout",
     "output_type": "stream",
     "text": [
      "Number of SNPs before filtering: 976599\n",
      "Number of SNPs after filtering: 0\n"
     ]
    }
   ],
   "source": [
    "print(\"Number of SNPs before filtering:\", snpobj.n_snps)\n",
    "\n",
    "# Include SNPs on chromosome '21' between positions 500,000 and 600,000\n",
    "filtered_snpobj = snpobj.filter_variants(chrom='21', pos=range(500000, 600000), include=True, inplace=False)\n",
    "\n",
    "print(\"Number of SNPs after filtering:\", filtered_snpobj.n_snps)"
   ]
  },
  {
   "cell_type": "markdown",
   "id": "0e1fe643",
   "metadata": {},
   "source": [
    "**Excluding SNPs by Chromosome**"
   ]
  },
  {
   "cell_type": "code",
   "execution_count": 12,
   "id": "4cf4d34e",
   "metadata": {},
   "outputs": [
    {
     "name": "stdout",
     "output_type": "stream",
     "text": [
      "Unique chromosomes before filtering: ['21']\n"
     ]
    },
    {
     "name": "stdout",
     "output_type": "stream",
     "text": [
      "Unique chromosomes after filtering: []\n"
     ]
    }
   ],
   "source": [
    "print(\"Unique chromosomes before filtering:\", snpobj.unique_chrom)\n",
    "\n",
    "# Exclude SNPs on chromosome '21'\n",
    "snpobj_excluded = snpobj.filter_variants(chrom='21', include=False, inplace=False)\n",
    "\n",
    "print(\"Unique chromosomes after filtering:\", snpobj_excluded.unique_chrom)"
   ]
  },
  {
   "cell_type": "markdown",
   "id": "8c1cd5a8",
   "metadata": {},
   "source": [
    "**Filtering by Indexes**"
   ]
  },
  {
   "cell_type": "code",
   "execution_count": 13,
   "id": "89ae6d84",
   "metadata": {},
   "outputs": [
    {
     "name": "stdout",
     "output_type": "stream",
     "text": [
      "Number of SNPs before filtering by indexes: 976599\n",
      "Number of SNPs after filtering by indexes: 3\n"
     ]
    }
   ],
   "source": [
    "print(\"Number of SNPs before filtering by indexes:\", snpobj.n_snps)\n",
    "\n",
    "# Include SNPs at indexes 0, 2, and 4\n",
    "snpobj_by_index = snpobj.filter_variants(indexes=[0, 2, 4], include=True, inplace=False)\n",
    "\n",
    "print(\"Number of SNPs after filtering by indexes:\", snpobj_by_index.n_snps)"
   ]
  },
  {
   "cell_type": "markdown",
   "id": "a72ebe13",
   "metadata": {},
   "source": [
    "### 7. Filtering Samples\n",
    "\n",
    "The `filter_samples` method filters samples based on names or indexes.\n",
    "\n",
    "**Excluding Samples by Name**"
   ]
  },
  {
   "cell_type": "code",
   "execution_count": 14,
   "id": "4fa41771",
   "metadata": {},
   "outputs": [
    {
     "name": "stdout",
     "output_type": "stream",
     "text": [
      "Samples before filtering: ['sample_A' 'sample_B' 'sample_C' 'sample_D']\n",
      "Samples after filtering: ['sample_A' 'sample_B']\n"
     ]
    }
   ],
   "source": [
    "print(\"Samples before filtering:\", snpobj.samples)\n",
    "\n",
    "# Exclude samples 'sample_C' and 'sample_D'\n",
    "snpobj_filtered_samples = snpobj.filter_samples(samples=['sample_C', 'sample_D'], include=False, inplace=False)\n",
    "\n",
    "print(\"Samples after filtering:\", snpobj_filtered_samples.samples)"
   ]
  },
  {
   "cell_type": "markdown",
   "id": "9e7a04a0",
   "metadata": {},
   "source": [
    "**Excluding Samples by Indexes**"
   ]
  },
  {
   "cell_type": "code",
   "execution_count": 15,
   "id": "ba4d2066",
   "metadata": {},
   "outputs": [
    {
     "name": "stdout",
     "output_type": "stream",
     "text": [
      "Samples before filtering: ['sample_A' 'sample_B' 'sample_C' 'sample_D']\n",
      "Samples after filtering: ['sample_B' 'sample_C']\n"
     ]
    }
   ],
   "source": [
    "print(\"Samples before filtering:\", snpobj.samples)\n",
    "\n",
    "# Exclude samples at indexes 0 and 3\n",
    "snpobj_filtered_indexes = snpobj.filter_samples(indexes=[0, 3], include=False, inplace=False)\n",
    "\n",
    "print(\"Samples after filtering:\", snpobj_filtered_indexes.samples)"
   ]
  },
  {
   "cell_type": "markdown",
   "id": "20c0c518",
   "metadata": {},
   "source": [
    "### 8. Subsetting to Common Variants and Markers\n",
    "\n",
    "**Subsetting to Common Variants**\n",
    "\n",
    "The `subset_to_common_variants` method subsets the SNPObject to variants common with another SNPObject."
   ]
  },
  {
   "cell_type": "code",
   "execution_count": 16,
   "id": "b6951a98",
   "metadata": {},
   "outputs": [
    {
     "name": "stdout",
     "output_type": "stream",
     "text": [
      "INFO:snputils.snp.io.read.vcf:Reading ../data/vcf/subset.vcf\n",
      "INFO:snputils.snp.io.read.vcf:Finished reading ../data/vcf/subset.vcf\n",
      "Number of SNPs after subsetting to common variants: 976599\n"
     ]
    }
   ],
   "source": [
    "# Read another SNPObject for comparison\n",
    "snpobj2 = VCFReader(query_path).read()\n",
    "\n",
    "# Subset to common variants based on position\n",
    "snpobj_common_variants = snpobj.subset_to_common_variants(snpobj2, index_by='pos', inplace=False)\n",
    "\n",
    "print(\"Number of SNPs after subsetting to common variants:\", snpobj_common_variants.n_snps)"
   ]
  },
  {
   "cell_type": "markdown",
   "id": "436e72e5",
   "metadata": {},
   "source": [
    "**Subsetting to Common Markers**\n",
    "\n",
    "The `subset_to_common_markers` method subsets to markers that have the same `chrom`, `pos`, `ref`, and `alt`."
   ]
  },
  {
   "cell_type": "code",
   "execution_count": 17,
   "id": "ee7a73f1",
   "metadata": {},
   "outputs": [
    {
     "name": "stdout",
     "output_type": "stream",
     "text": [
      "Number of SNPs after subsetting to common markers: 976599\n"
     ]
    }
   ],
   "source": [
    "snpobj_common_markers = snpobj.subset_to_common_markers(snpobj2, inplace=False)\n",
    "\n",
    "print(\"Number of SNPs after subsetting to common markers:\", snpobj_common_markers.n_snps)"
   ]
  },
  {
   "cell_type": "markdown",
   "id": "65735a8a",
   "metadata": {},
   "source": [
    "### 9. Data Cleaning and Quality Control\n",
    "\n",
    "**Removing Strand-Ambiguous SNPs**\n",
    "\n",
    "The `remove_strand_ambiguous_variants` method removes SNPs that are strand-ambiguous."
   ]
  },
  {
   "cell_type": "code",
   "execution_count": 18,
   "id": "889be954",
   "metadata": {},
   "outputs": [
    {
     "name": "stdout",
     "output_type": "stream",
     "text": [
      "Number of SNPs before removing ambiguous SNPs: 976599\n",
      "INFO:snputils.snp.genobj.snpobj:35183 ambiguities of A-T type.\n",
      "INFO:snputils.snp.genobj.snpobj:35105 ambiguities of T-A type.\n",
      "INFO:snputils.snp.genobj.snpobj:39334 ambiguities of C-G type.\n",
      "INFO:snputils.snp.genobj.snpobj:38992 ambiguities of G-C type.\n"
     ]
    },
    {
     "name": "stdout",
     "output_type": "stream",
     "text": [
      "Number of SNPs after removing ambiguous SNPs: 827985\n"
     ]
    }
   ],
   "source": [
    "print(\"Number of SNPs before removing ambiguous SNPs:\", snpobj.n_snps)\n",
    "\n",
    "snpobj_no_ambiguous = snpobj.remove_strand_ambiguous_variants(inplace=False)\n",
    "\n",
    "print(\"Number of SNPs after removing ambiguous SNPs:\", snpobj_no_ambiguous.n_snps)"
   ]
  },
  {
   "cell_type": "markdown",
   "id": "7d31ec80",
   "metadata": {},
   "source": [
    "**Correcting SNP Flips**"
   ]
  },
  {
   "cell_type": "code",
   "execution_count": 19,
   "id": "b956538b",
   "metadata": {},
   "outputs": [
    {
     "name": "stdout",
     "output_type": "stream",
     "text": [
      "INFO:snputils.snp.genobj.snpobj:Matching reference alleles (ref=ref'): 976599, Matching alternate alleles (alt=alt'): 976599.\n",
      "INFO:snputils.snp.genobj.snpobj:Number of ambiguous alleles (ref=alt): 0.\n",
      "INFO:snputils.snp.genobj.snpobj:Correcting 148614 variant flips...\n",
      "SNP flips corrected.\n"
     ]
    }
   ],
   "source": [
    "snpobj_corrected = snpobj.correct_flipped_variants(snpobj2, check_complement=True, index_by='pos', inplace=False)\n",
    "\n",
    "print(\"SNP flips corrected.\")"
   ]
  },
  {
   "cell_type": "markdown",
   "id": "3261bb17",
   "metadata": {},
   "source": [
    "**Removing Mismatching SNPs**\n",
    "\n",
    "The `remove_mismatching_variants` method removes SNPs where ref or alt alleles do not match between two SNPObjects."
   ]
  },
  {
   "cell_type": "code",
   "execution_count": 20,
   "id": "850ea83e",
   "metadata": {},
   "outputs": [
    {
     "name": "stdout",
     "output_type": "stream",
     "text": [
      "Number of SNPs before removing mismatches: 976599\n"
     ]
    },
    {
     "name": "stdout",
     "output_type": "stream",
     "text": [
      "Number of SNPs after removing mismatches: 0\n"
     ]
    }
   ],
   "source": [
    "print(\"Number of SNPs before removing mismatches:\", snpobj.n_snps)\n",
    "\n",
    "snpobj_no_mismatches = snpobj.remove_mismatching_variants(snpobj2, index_by='pos', inplace=False)\n",
    "\n",
    "print(\"Number of SNPs after removing mismatches:\", snpobj_no_mismatches.n_snps)"
   ]
  },
  {
   "cell_type": "markdown",
   "id": "1b481e72",
   "metadata": {},
   "source": [
    "### 10. Shuffling Variants\n",
    "\n",
    "The `shuffle_variants` method randomly shuffles the order of variants."
   ]
  },
  {
   "cell_type": "code",
   "execution_count": 21,
   "id": "aadc12bf",
   "metadata": {},
   "outputs": [
    {
     "name": "stdout",
     "output_type": "stream",
     "text": [
      "First 5 variant positions before shuffling: [5033871 5033884 5033887 5035658 5038298]\n",
      "First 5 variant positions after shuffling: [40064132 19950752 21721370 46148286 36956322]\n"
     ]
    }
   ],
   "source": [
    "print(\"First 5 variant positions before shuffling:\", snpobj['variants_pos'][:5])\n",
    "\n",
    "snpobj_shuffled = snpobj.shuffle_variants(inplace=False)\n",
    "\n",
    "print(\"First 5 variant positions after shuffling:\", snpobj_shuffled['variants_pos'][:5])"
   ]
  },
  {
   "cell_type": "markdown",
   "id": "c61ed99c",
   "metadata": {},
   "source": [
    "### 11. Handling Empty Data Entries\n",
    "\n",
    "The `set_empty_to_missing` method replaces empty strings with missing values '.'."
   ]
  },
  {
   "cell_type": "code",
   "execution_count": 22,
   "id": "17a44f89",
   "metadata": {},
   "outputs": [
    {
     "name": "stdout",
     "output_type": "stream",
     "text": [
      "Variants_ref before handling empty entries: ['' 'G' 'G' 'C' 'A']\n"
     ]
    },
    {
     "name": "stdout",
     "output_type": "stream",
     "text": [
      "Variants_ref after handling empty entries: ['.' 'G' 'G' 'C' 'A']\n"
     ]
    }
   ],
   "source": [
    "# Introduce some empty strings in variants_ref\n",
    "snpobj['variants_ref'][0] = ''\n",
    "\n",
    "print(\"Variants_ref before handling empty entries:\", snpobj['variants_ref'][:5])\n",
    "\n",
    "snpobj_handled = snpobj.set_empty_to_missing(inplace=False)\n",
    "\n",
    "print(\"Variants_ref after handling empty entries:\", snpobj_handled['variants_ref'][:5])"
   ]
  },
  {
   "cell_type": "markdown",
   "id": "4f9ccb73",
   "metadata": {},
   "source": [
    "### 12. Saving SNPObject to Files\n",
    "\n",
    "The `save` method saves the SNPObject to a file, with the format determined by the file extension."
   ]
  },
  {
   "cell_type": "markdown",
   "id": "4f0bdc7d",
   "metadata": {},
   "source": [
    "**Saving as VCF**"
   ]
  },
  {
   "cell_type": "code",
   "execution_count": 23,
   "id": "3ebf53e5",
   "metadata": {},
   "outputs": [
    {
     "name": "stdout",
     "output_type": "stream",
     "text": [
      "INFO:snputils.snp.io.read.vcf:Reading ../data/vcf/subset.vcf\n",
      "INFO:snputils.snp.io.read.vcf:Finished reading ../data/vcf/subset.vcf\n"
     ]
    }
   ],
   "source": [
    "# Define the path to the VCF file\n",
    "query_path = '../data/vcf/subset.vcf'\n",
    "\n",
    "# Read VCF into SNPObject with the standard reader\n",
    "reader = VCFReader(query_path)\n",
    "snpobj = reader.read(sum_strands=False)"
   ]
  },
  {
   "cell_type": "code",
   "execution_count": 24,
   "id": "544b2955",
   "metadata": {},
   "outputs": [
    {
     "name": "stderr",
     "output_type": "stream",
     "text": [
      "/home/miriam/.local/lib/python3.10/site-packages/joblib/externals/loky/backend/fork_exec.py:38: RuntimeWarning: Using fork() can cause Polars to deadlock in the child process.\n",
      "In addition, using fork() with Python in general is a recipe for mysterious\n",
      "deadlocks and crashes.\n",
      "\n",
      "The most likely reason you are seeing this error is because you are using the\n",
      "multiprocessing module on Linux, which uses fork() by default. This will be\n",
      "fixed in Python 3.14. Until then, you want to use the \"spawn\" context instead.\n",
      "\n",
      "See https://docs.pola.rs/user-guide/misc/multiprocessing/ for details.\n",
      "\n",
      "If you really know what your doing, you can silence this warning with the warning module\n",
      "or by setting POLARS_ALLOW_FORKING_THREAD=1.\n",
      "\n",
      "  pid = os.fork()\n"
     ]
    },
    {
     "name": "stdout",
     "output_type": "stream",
     "text": [
      "SNPObject saved to ../data/output.vcf\n",
      "SNPObject saved to ../data/output.unphased\n"
     ]
    }
   ],
   "source": [
    "# Define the path to save the VCF file\n",
    "output_vcf_path1 = '../data/output.vcf'\n",
    "output_vcf_path2 = '../data/output.unphased'\n",
    "\n",
    "# Save the SNPObject as a VCF file (Option 1)\n",
    "snpobj.save(output_vcf_path1)\n",
    "print(f\"SNPObject saved to {output_vcf_path1}\")\n",
    "\n",
    "# Save the SNPObject as a VCF file (Option 2)\n",
    "snpobj.save_vcf(output_vcf_path2)\n",
    "print(f\"SNPObject saved to {output_vcf_path2}\")"
   ]
  },
  {
   "cell_type": "markdown",
   "id": "a85bcfcf",
   "metadata": {},
   "source": [
    "**Saving as PGEN**"
   ]
  },
  {
   "cell_type": "code",
   "execution_count": 25,
   "id": "08eff0b2",
   "metadata": {},
   "outputs": [
    {
     "name": "stdout",
     "output_type": "stream",
     "text": [
      "INFO:snputils.snp.io.write.pgen:Writing to ../data/output.pvar\n",
      "INFO:snputils.snp.io.write.pgen:Writing ../data/output.psam\n",
      "INFO:snputils.snp.io.write.pgen:Writing to ../data/output.pgen\n",
      "SNPObject saved to ../data/output.pgen\n",
      "INFO:snputils.snp.io.write.pgen:Writing to ../data/output.unphased.pvar\n",
      "INFO:snputils.snp.io.write.pgen:Writing ../data/output.unphased.psam\n",
      "INFO:snputils.snp.io.write.pgen:Writing to ../data/output.unphased.pgen\n",
      "SNPObject saved to ../data/output.unphased\n"
     ]
    }
   ],
   "source": [
    "# Define the path to save the BED file\n",
    "output_pgen_path1 = '../data/output.pgen'\n",
    "output_pgen_path2 = '../data/output.unphased'\n",
    "\n",
    "# Save the SNPObject as a PGEN file (option 1)\n",
    "snpobj.save(output_pgen_path1)\n",
    "print(f\"SNPObject saved to {output_pgen_path1}\")\n",
    "\n",
    "# Save the SNPObject as a PGEN file (option 2)\n",
    "snpobj.save_pgen(output_pgen_path2)\n",
    "print(f\"SNPObject saved to {output_pgen_path2}\")"
   ]
  },
  {
   "cell_type": "markdown",
   "id": "7e1e4b9c",
   "metadata": {},
   "source": [
    "**Saving as BED**"
   ]
  },
  {
   "cell_type": "code",
   "execution_count": 26,
   "id": "fbca1fd8",
   "metadata": {},
   "outputs": [
    {
     "name": "stdout",
     "output_type": "stream",
     "text": [
      "INFO:snputils.snp.io.write.bed:Writing .bed file: ../data/output.bed\n",
      "INFO:snputils.snp.io.write.bed:Finished writing .bed file: ../data/output.bed\n",
      "INFO:snputils.snp.io.write.bed:Writing .fam file: ../data/output\n",
      "INFO:snputils.snp.io.write.bed:Finished writing .fam file: ../data/output\n",
      "INFO:snputils.snp.io.write.bed:Writing .bim file: ../data/output\n",
      "WARNING:snputils.snp.io.write.bed:The .bim file is being saved with 0 cM values.\n",
      "INFO:snputils.snp.io.write.bed:Finished writing .bim file: ../data/output\n",
      "SNPObject saved to ../data/output.bed\n",
      "INFO:snputils.snp.io.write.bed:Writing .bed file: ../data/output.bed\n",
      "INFO:snputils.snp.io.write.bed:Finished writing .bed file: ../data/output.bed\n",
      "INFO:snputils.snp.io.write.bed:Writing .fam file: ../data/output\n",
      "INFO:snputils.snp.io.write.bed:Finished writing .fam file: ../data/output\n",
      "INFO:snputils.snp.io.write.bed:Writing .bim file: ../data/output\n",
      "WARNING:snputils.snp.io.write.bed:The .bim file is being saved with 0 cM values.\n",
      "INFO:snputils.snp.io.write.bed:Finished writing .bim file: ../data/output\n",
      "SNPObject saved to ../data/output.unphased\n"
     ]
    }
   ],
   "source": [
    "# Define the path to save the BED file\n",
    "output_bed_path1 = '../data/output.bed'\n",
    "output_bed_path2 = '../data/output.unphased'\n",
    "\n",
    "# Save the SNPObject as a BED file (option 1)\n",
    "snpobj.save(output_bed_path1)\n",
    "print(f\"SNPObject saved to {output_bed_path1}\")\n",
    "\n",
    "# Save the SNPObject as a BED file (option 2)\n",
    "snpobj.save_bed(output_bed_path2)\n",
    "print(f\"SNPObject saved to {output_bed_path2}\")"
   ]
  },
  {
   "cell_type": "markdown",
   "id": "45869d0a",
   "metadata": {},
   "source": [
    "**Saving as Pickle**"
   ]
  },
  {
   "cell_type": "code",
   "execution_count": 27,
   "id": "cea856ad",
   "metadata": {},
   "outputs": [
    {
     "name": "stdout",
     "output_type": "stream",
     "text": [
      "SNPObject saved to ../data/output.pkl\n",
      "SNPObject saved to ../data/output.unphased\n"
     ]
    }
   ],
   "source": [
    "# Define the path to save the pickle file\n",
    "output_pkl_path1 = '../data/output.pkl'\n",
    "output_pkl_path2 = '../data/output.unphased'\n",
    "\n",
    "# Save the SNPObject as a pickle file (option 1)\n",
    "snpobj.save(output_pkl_path1)\n",
    "print(f\"SNPObject saved to {output_pkl_path1}\")\n",
    "\n",
    "# Save the SNPObject as a pickle file (option 2)\n",
    "snpobj.save_pickle(output_pkl_path2)\n",
    "print(f\"SNPObject saved to {output_pkl_path2}\")"
   ]
  },
  {
   "cell_type": "code",
   "execution_count": null,
   "id": "300d5cae",
   "metadata": {},
   "outputs": [],
   "source": []
  }
 ],
 "metadata": {
  "kernelspec": {
   "display_name": "snputils",
   "language": "python",
   "name": "python3"
  },
  "language_info": {
   "codemirror_mode": {
    "name": "ipython",
    "version": 3
   },
   "file_extension": ".py",
   "mimetype": "text/x-python",
   "name": "python",
   "nbconvert_exporter": "python",
   "pygments_lexer": "ipython3",
   "version": "3.10.13"
  }
 },
 "nbformat": 4,
 "nbformat_minor": 5
}
