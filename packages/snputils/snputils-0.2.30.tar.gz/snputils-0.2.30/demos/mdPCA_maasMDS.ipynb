{
 "cells": [
  {
   "cell_type": "markdown",
   "metadata": {},
   "source": [
    "# Tutorial on mdPCA and maasMDS Visualization"
   ]
  },
  {
   "cell_type": "code",
   "execution_count": 1,
   "metadata": {},
   "outputs": [],
   "source": [
    "import sys, os\n",
    "\n",
    "dir = os.path.abspath('../')\n",
    "if not dir in sys.path: sys.path.append(dir)\n",
    "\n",
    "import logging\n",
    "from snputils.snp.io.read.vcf import VCFReader\n",
    "from snputils.ancestry.io.local.read import MSPReader\n",
    "from snputils.processing.mdpca import mdPCA\n",
    "from snputils.processing.maasmds import maasMDS\n",
    "from snputils.processing._utils.gen_tools import logger_config\n",
    "from snputils.visualization.scatter_plot import scatter"
   ]
  },
  {
   "cell_type": "markdown",
   "metadata": {},
   "source": [
    "### 1. Load Input Data\n",
    "\n",
    "Load data files required for running mdPCA and maasMDS, including SNP and LAI data, along with the labels file specifying ancestry labels.\n",
    "* **SNP data** is loaded from a VCF file into a `SNPObject`. The parameter sum_strands=False ensures that haplotypes are not combined initially.\n",
    "* **LAI data** is loaded from an MSP file into a `LocalAncestryObject`."
   ]
  },
  {
   "cell_type": "code",
   "execution_count": 73,
   "metadata": {},
   "outputs": [
    {
     "name": "stdout",
     "output_type": "stream",
     "text": [
      "[INFO] 2025-03-05 14:48:27: Reading ../data/easComp_6_samples_chr1.vcf\n",
      "[INFO] 2025-03-05 14:48:28: Finished reading ../data/easComp_6_samples_chr1.vcf\n",
      "[INFO] 2025-03-05 14:48:28: Reading '../data/easComp_6_samples_chr1.msp'...\n",
      "\n",
      "Ancestry map: {'0': 'Africa', '1': 'Americas', '2': 'Europe', '3': 'SouthAsia', '4': 'EastAsia'}\n"
     ]
    }
   ],
   "source": [
    "# File paths for SNP data, LAI data, and sample labels\n",
    "vcf_path = '../data/easComp_6_samples_chr1.vcf'\n",
    "msp_path = '../data/easComp_6_samples_chr1.msp'\n",
    "labels_file = '../data/easComp_6_samples_chr1_labels.tsv'\n",
    "\n",
    "# Load SNP data from VCF file\n",
    "snpobj = VCFReader(vcf_path).read(sum_strands=False)\n",
    "\n",
    "# Load LAI data from MSP file\n",
    "laiobj = MSPReader(msp_path).read()\n",
    "\n",
    "# Display the ancestry mapping\n",
    "print(\"\\nAncestry map:\", laiobj.ancestry_map)\n",
    "\n",
    "# Configure logging to display messages in the console\n",
    "logging.config.dictConfig(logger_config(verbose=True))"
   ]
  },
  {
   "cell_type": "markdown",
   "metadata": {},
   "source": [
    "### 2. Understanding the Labels File\n",
    "\n",
    "The labels file is a TSV text file that contains essential metadata about each individual in your study. mdPCA and maasMDS use this file to align the genotype data (from snpobj) and local ancestry data (from laiobj) with population information. Below are key columns and how they are used:\n",
    "\n",
    "* `indID`: Unique identifier for each individual; must match identifiers in `snpobj` and `laiobj`.\n",
    "* `label`: Population or group label (e.g., \"popA\", \"popB\"). These labels help interpret how samples cluster on principal components (e.g., color-coding in PCA plots).\n",
    "* `weight`: Numeric weight assigned to each individual. If an individual’s weight is 0, that individual is excluded from the analysis. If `is_weighted=False`, this column is ignored.\n",
    "* `combination`: Assigns individuals into combined groups. This is especially useful when `group_snp_frequencies_only=True`: \n",
    "    * A combination value of 0 means no grouping; each individual is considered separately.\n",
    "    * A non-zero value (e.g., 1, 2, 3) indicates that all individuals with the same combination number are grouped together.\n",
    "* `combination_weight`: Weight assigned to each group if combination is non-zero. If not provided, defaults to 1.\n",
    "\n",
    "All members of a group must share the same `label` and `combination_weight`."
   ]
  },
  {
   "cell_type": "markdown",
   "metadata": {},
   "source": [
    "### 3. Run mdPCA\n",
    "\n",
    "Initialize and run the mdPCA analysis.\n",
    "\n",
    "**Key Parameter Explanations**\n",
    "\n",
    "* **snpobj**: SNPObject with SNP data loaded from the VCF file.\n",
    "* **laiobj**: LocalAncestryObject with LAI data loaded from the MSP file.\n",
    "* **labels_file**: Sample labels file, mapping individuals to population labels and optionally groups.\n",
    "* **ancestry**: Ancestry for which dimensionality reduction is to be performed. Ancestry counter starts at `0`. The ancestry input can be:\n",
    "    * An integer (e.g., 0, 1, 2, 3, 4).\n",
    "    * A string representation of an integer (e.g., '0', '1', '2', '3', '4').\n",
    "    * A string matching one of the ancestry map values (e.g., 'Africa', 'Americas', 'Europe', 'SouthAsia', 'EastAsia').\n",
    "* **average_strands**: True if the haplotypes from the two parents are to be combined (averaged) for each individual, or False otherwise.\n",
    "* **force_nan_incomplete_strands**: If True, sets the result to NaN if either haplotype in a pair is NaN. Otherwise, computes the mean while ignoring NaNs (e.g., 0|NaN -> 0, 1|NaN -> 1).\n",
    "* **is_weighted**: If True, assigns individual weights from the `weight` column in `labels_file`. Otherwise, all individuals have equal weight of `1`.\n",
    "* **min_percent_snps**: Minimum percentage of SNPs that must be known for an individual and of the ancesstry of interet to be included in the analysis. All individuals with fewer percent of unmasked SNPs than this threshold will be excluded.\n",
    "* **group_snp_frequencies_only**: If True, mdPCA is performed exclusively on group-level SNP frequencies, ignoring individual-level data. This applies when `is_weighted` is set to True and a `combination` column is provided in the `labels_file`,  meaning individuals are aggregated into groups based on their assigned labels. If False, mdPCA is performed on individual-level SNP data alone or on both individual-level and group-level SNP frequencies when `is_weighted` is True and a `combination` column is provided.\n",
    "* **n_components**: The number of principal components."
   ]
  },
  {
   "cell_type": "code",
   "execution_count": 64,
   "metadata": {},
   "outputs": [
    {
     "name": "stdout",
     "output_type": "stream",
     "text": [
      "[INFO] 2025-03-05 14:46:57: ------ Array Processing: ------\n",
      "[INFO] 2025-03-05 14:46:57: SNPObject Processing Time: --- 0.13059544563293457 seconds ---\n",
      "[DEBUG] 2025-03-05 14:46:57: Number of SNPs within window ranges for chromosome 1: 64073\n",
      "[INFO] 2025-03-05 14:46:57: TSV Processing Time: --- 0.016486406326293945 seconds ---\n",
      "[INFO] 2025-03-05 14:46:57: Masking for ancestry 4 --- 0.0012 seconds\n",
      "[INFO] 2025-03-05 14:46:57: Covariance Matrix --- 0.16022467613220215 seconds ---\n",
      "[INFO] 2025-03-05 14:46:57: Percent variance explained by the principal component 1: 40.669909765458044\n",
      "[INFO] 2025-03-05 14:46:57: Percent variance explained by the principal component 2: 35.323312747684334\n"
     ]
    }
   ],
   "source": [
    "# Initialize the mdPCA object with SNP and LAI data, labels file, and selected ancestry\n",
    "mdpca = mdPCA(\n",
    "    method='weighted_cov_pca',         # Weighted covariance PCA (default)\n",
    "    snpobj=snpobj,                     # SNP genotype data from VCF\n",
    "    laiobj=laiobj,                     # Local ancestry data from MSP\n",
    "    labels_file=labels_file,           # Sample metadata file (.tsv) with population labels and optional weights\n",
    "    ancestry='EastAsia',               # Ancestry of interest (string or integer index)\n",
    "    average_strands=False,             # Keep haplotypes separate instead of averaging parental strands\n",
    "    force_nan_incomplete_strands=False,# If True, averaged strands with one missing haplotype are set to NaN\n",
    "    is_weighted=False,                 # If True, applies weights from the 'weight' column in labels_file\n",
    "    min_percent_snps=4,                # Minimum SNP coverage threshold from ancestry of interest for individual inclusion\n",
    "    group_snp_frequencies_only=False,  # If True, analyzes only group-level SNP frequencies (excludes individual sequences)\n",
    "    n_components=2                     # Number of principal components to compute\n",
    ")"
   ]
  },
  {
   "cell_type": "markdown",
   "metadata": {},
   "source": [
    "We can now inspect the output attributes:"
   ]
  },
  {
   "cell_type": "code",
   "execution_count": 67,
   "metadata": {},
   "outputs": [
    {
     "name": "stdout",
     "output_type": "stream",
     "text": [
      "X_new_ shape: [[ 0.05753786 -0.07705574]\n",
      " [ 0.31123924  0.07635565]\n",
      " [-0.14243854 -0.03442202]\n",
      " [-0.07117519 -0.22365777]\n",
      " [-0.15516337  0.25877988]]\n",
      "\n",
      "haplotypes: ['GA000856_GA000856_A', 'GA000856_GA000856_B', 'GA000857_GA000857_A', 'GA000858_GA000858_A', 'GA000858_GA000858_B']\n",
      "samples_: ['GA000856_GA000856', 'GA000856_GA000856', 'GA000857_GA000857', 'GA000858_GA000858', 'GA000858_GA000858']\n",
      "Total variants: 64073\n",
      "variants_id_ (first few): [1.435428, 1.678428, 1.555838, 1.566838, 1.564648]\n"
     ]
    }
   ],
   "source": [
    "print(\"X_new_ shape:\", mdpca.X_new_)\n",
    "print(\"\\nhaplotypes:\", mdpca.haplotypes_)\n",
    "print(\"samples_:\", mdpca.samples_ if hasattr(mdpca, \"samples_\") else \"Not available\")\n",
    "print(\"Total variants:\", len(mdpca.variants_id_))\n",
    "print(\"variants_id_ (first few):\", mdpca.variants_id_[:5])"
   ]
  },
  {
   "cell_type": "markdown",
   "metadata": {},
   "source": [
    "And plot the PCA results:"
   ]
  },
  {
   "cell_type": "code",
   "execution_count": 68,
   "metadata": {},
   "outputs": [
    {
     "data": {
      "image/png": "[encoded data removed]",
      "text/plain": [
       "<Figure size 1000x800 with 1 Axes>"
      ]
     },
     "metadata": {},
     "output_type": "display_data"
    }
   ],
   "source": [
    "scatter(mdpca, labels_file)"
   ]
  },
  {
   "cell_type": "markdown",
   "metadata": {},
   "source": [
    "### 3. Run maasMDS\n",
    "\n",
    "Initialize and run the maasMDS analysis."
   ]
  },
  {
   "cell_type": "code",
   "execution_count": 70,
   "metadata": {},
   "outputs": [
    {
     "name": "stdout",
     "output_type": "stream",
     "text": [
      "[INFO] 2025-03-05 14:47:50: ------ Array Processing: ------\n",
      "[INFO] 2025-03-05 14:47:50: SNPObject Processing Time: --- 0.13159394264221191 seconds ---\n",
      "[DEBUG] 2025-03-05 14:47:50: Number of SNPs within window ranges for chromosome 1: 64073\n",
      "[INFO] 2025-03-05 14:47:50: TSV Processing Time: --- 0.014508962631225586 seconds ---\n",
      "[INFO] 2025-03-05 14:47:50: Masking for ancestry 4 --- 0.0014 seconds\n",
      "[INFO] 2025-03-05 14:47:50: Distance Matrix building: --- 0.008743047714233398 seconds ---\n"
     ]
    }
   ],
   "source": [
    "# Configure logging to display messages in the console\n",
    "logging.config.dictConfig(logger_config(verbose=True))\n",
    "\n",
    "# Initialize the maasMDS object with SNP and LAI data, labels file, and selected ancestry\n",
    "maasmds = maasMDS(\n",
    "    snpobj=snpobj,                     # SNP genotype data from VCF\n",
    "    laiobj=laiobj,                     # Local ancestry data from MSP\n",
    "    labels_file=labels_file,           # Sample metadata file (.tsv) with population labels and optional weights\n",
    "    ancestry='EastAsia',               # Ancestry of interest (string or integer index)\n",
    "    average_strands=False,             # Keep haplotypes separate instead of averaging parental strands\n",
    "    force_nan_incomplete_strands=False,# If True, averaged strands with one missing haplotype are set to NaN\n",
    "    is_weighted=False,                 # If True, applies weights from the 'weight' column in labels_file\n",
    "    min_percent_snps=4,                # Minimum SNP coverage threshold from ancestry of interest for individual inclusion\n",
    "    group_snp_frequencies_only=False,  # If True, analyzes only group-level SNP frequencies (excludes individual sequences)\n",
    "    n_components=2                     # Number of principal components to compute\n",
    ")"
   ]
  },
  {
   "cell_type": "markdown",
   "metadata": {},
   "source": [
    "We can now inspect the output attributes:"
   ]
  },
  {
   "cell_type": "code",
   "execution_count": 71,
   "metadata": {},
   "outputs": [
    {
     "name": "stdout",
     "output_type": "stream",
     "text": [
      "X_new_ shape: [[-0.4475931  -0.02684126]\n",
      " [-0.53592473  0.33056938]\n",
      " [-0.00128624 -0.34214979]\n",
      " [ 0.37509062 -0.60215815]\n",
      " [ 0.60971344  0.64057983]]\n",
      "\n",
      "haplotypes: ['GA000856_GA000856_A', 'GA000856_GA000856_B', 'GA000857_GA000857_A', 'GA000858_GA000858_A', 'GA000858_GA000858_B']\n",
      "samples_: ['GA000856_GA000856', 'GA000856_GA000856', 'GA000857_GA000857', 'GA000858_GA000858', 'GA000858_GA000858']\n",
      "Total variants: 64073\n",
      "variants_id_ (first few): [1.435428, 1.678428, 1.555838, 1.566838, 1.564648]\n"
     ]
    }
   ],
   "source": [
    "print(\"X_new_ shape:\", maasmds.X_new_)\n",
    "print(\"\\nhaplotypes:\", maasmds.haplotypes_)\n",
    "print(\"samples_:\", maasmds.samples_ if hasattr(maasmds, \"samples_\") else \"Not available\")\n",
    "print(\"Total variants:\", len(maasmds.variants_id_))\n",
    "print(\"variants_id_ (first few):\", maasmds.variants_id_[:5])"
   ]
  },
  {
   "cell_type": "markdown",
   "metadata": {},
   "source": [
    "And plot the PCA results:"
   ]
  },
  {
   "cell_type": "code",
   "execution_count": 72,
   "metadata": {},
   "outputs": [
    {
     "data": {
      "image/png": "[encoded data removed]",
      "text/plain": [
       "<Figure size 1000x800 with 1 Axes>"
      ]
     },
     "metadata": {},
     "output_type": "display_data"
    }
   ],
   "source": [
    "scatter(maasmds, labels_file)"
   ]
  }
 ],
 "metadata": {
  "kernelspec": {
   "display_name": "snputils",
   "language": "python",
   "name": "python3"
  },
  "language_info": {
   "codemirror_mode": {
    "name": "ipython",
    "version": 3
   },
   "file_extension": ".py",
   "mimetype": "text/x-python",
   "name": "python",
   "nbconvert_exporter": "python",
   "pygments_lexer": "ipython3",
   "version": "3.10.13"
  }
 },
 "nbformat": 4,
 "nbformat_minor": 2
}
