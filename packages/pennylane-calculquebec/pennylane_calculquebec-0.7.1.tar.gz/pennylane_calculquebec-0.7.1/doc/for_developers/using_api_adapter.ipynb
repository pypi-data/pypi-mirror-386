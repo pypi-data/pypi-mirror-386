{
 "cells": [
  {
   "cell_type": "markdown",
   "metadata": {},
   "source": [
    "## ApiAdapter\n",
    "\n",
    "ApiAdapter has a couple of helpful utility functions for getting information out of Thunderhead programmatically. \n",
    "\n",
    "Here's how one would use ApiAdapter directly"
   ]
  },
  {
   "cell_type": "markdown",
   "metadata": {},
   "source": [
    "Imports"
   ]
  },
  {
   "cell_type": "code",
   "execution_count": 1,
   "metadata": {},
   "outputs": [],
   "source": [
    "from pennylane_calculquebec.API.adapter import ApiAdapter\n",
    "from pennylane_calculquebec.API.client import CalculQuebecClient"
   ]
  },
  {
   "cell_type": "markdown",
   "metadata": {},
   "source": [
    "Initialize ApiAdapter with a client object, containing your informations\n",
    "\n",
    "host, user, access_token and project_id must be configured with your own informations"
   ]
  },
  {
   "cell_type": "code",
   "execution_count": null,
   "metadata": {},
   "outputs": [],
   "source": [
    "# as seen in getting_started and using_client notebooks, create a client\n",
    "my_client = CalculQuebecClient(\n",
    "    host=\"your host\",\n",
    "    user=\"your user\",\n",
    "    access_token=\"your access token\",\n",
    "    project_id=\"your project id\",\n",
    ")\n",
    "\n",
    "# this is typically done behind the scene in the monarq.default device.\n",
    "# Since we're not using the device here, we need to do it explicitely\n",
    "ApiAdapter.initialize(my_client)"
   ]
  },
  {
   "cell_type": "markdown",
   "metadata": {},
   "source": [
    "An example of useful method is ```get_qubits_and_couplers```, which returns latest benchmarks for qubits and couplers"
   ]
  },
  {
   "cell_type": "code",
   "execution_count": 3,
   "metadata": {},
   "outputs": [
    {
     "name": "stdout",
     "output_type": "stream",
     "text": [
      "{'0': {'parallelReadoutState0Fidelity': 0.881, 'parallelReadoutState1Fidelity': 0.783, 'readoutState0Fidelity': 0.905, 'readoutState1Fidelity': 0.814, 'singleQubitGateFidelity': 0.9980007478869313, 't1': 9.687273853356849e-06, 't2Echo': 3.4979585767927977e-06, 't2Ramsey': 2.116873022892837e-06}, '1': {'parallelReadoutState0Fidelity': 0.885, 'parallelReadoutState1Fidelity': 0.753, 'readoutState0Fidelity': 0.874, 'readoutState1Fidelity': 0.784, 'singleQubitGateFidelity': 0.996668096494692, 't1': 5.521834282638334e-06, 't2Echo': 2.093663376239506e-06, 't2Ramsey': 1.297841764688298e-06}, '10': {'parallelReadoutState0Fidelity': 0, 'parallelReadoutState1Fidelity': 0, 'readoutState0Fidelity': 0, 'readoutState1Fidelity': 0, 'singleQubitGateFidelity': 0, 't1': 0, 't2Echo': 0, 't2Ramsey': 0}, '11': {'parallelReadoutState0Fidelity': 0, 'parallelReadoutState1Fidelity': 0, 'readoutState0Fidelity': 0, 'readoutState1Fidelity': 0, 'singleQubitGateFidelity': 0, 't1': 0, 't2Echo': 0, 't2Ramsey': 0}, '12': {'parallelReadoutState0Fidelity': 0, 'parallelReadoutState1Fidelity': 0, 'readoutState0Fidelity': 0, 'readoutState1Fidelity': 0, 'singleQubitGateFidelity': 0, 't1': 0, 't2Echo': 0, 't2Ramsey': 0}, '13': {'parallelReadoutState0Fidelity': 0, 'parallelReadoutState1Fidelity': 0, 'readoutState0Fidelity': 0, 'readoutState1Fidelity': 0, 'singleQubitGateFidelity': 0, 't1': 0, 't2Echo': 0, 't2Ramsey': 0}, '14': {'parallelReadoutState0Fidelity': 0, 'parallelReadoutState1Fidelity': 0, 'readoutState0Fidelity': 0, 'readoutState1Fidelity': 0, 'singleQubitGateFidelity': 0, 't1': 0, 't2Echo': 0, 't2Ramsey': 0}, '15': {'parallelReadoutState0Fidelity': 0, 'parallelReadoutState1Fidelity': 0, 'readoutState0Fidelity': 0, 'readoutState1Fidelity': 0, 'singleQubitGateFidelity': 0, 't1': 0, 't2Echo': 0, 't2Ramsey': 0}, '16': {'parallelReadoutState0Fidelity': 0, 'parallelReadoutState1Fidelity': 0, 'readoutState0Fidelity': 0, 'readoutState1Fidelity': 0, 'singleQubitGateFidelity': 0, 't1': 0, 't2Echo': 0, 't2Ramsey': 0}, '17': {'parallelReadoutState0Fidelity': 0, 'parallelReadoutState1Fidelity': 0, 'readoutState0Fidelity': 0, 'readoutState1Fidelity': 0, 'singleQubitGateFidelity': 0, 't1': 0, 't2Echo': 0, 't2Ramsey': 0}, '18': {'parallelReadoutState0Fidelity': 0, 'parallelReadoutState1Fidelity': 0, 'readoutState0Fidelity': 0, 'readoutState1Fidelity': 0, 'singleQubitGateFidelity': 0, 't1': 0, 't2Echo': 0, 't2Ramsey': 0}, '19': {'parallelReadoutState0Fidelity': 0, 'parallelReadoutState1Fidelity': 0, 'readoutState0Fidelity': 0, 'readoutState1Fidelity': 0, 'singleQubitGateFidelity': 0, 't1': 0, 't2Echo': 0, 't2Ramsey': 0}, '2': {'parallelReadoutState0Fidelity': 0.823, 'parallelReadoutState1Fidelity': 0.744, 'readoutState0Fidelity': 0.834, 'readoutState1Fidelity': 0.762, 'singleQubitGateFidelity': 0.9919240929028456, 't1': 7.460795319955725e-06, 't2Echo': 6.44451653398222e-07, 't2Ramsey': 0}, '20': {'parallelReadoutState0Fidelity': 0, 'parallelReadoutState1Fidelity': 0, 'readoutState0Fidelity': 0, 'readoutState1Fidelity': 0, 'singleQubitGateFidelity': 0, 't1': 0, 't2Echo': 0, 't2Ramsey': 0}, '21': {'parallelReadoutState0Fidelity': 0, 'parallelReadoutState1Fidelity': 0, 'readoutState0Fidelity': 0, 'readoutState1Fidelity': 0, 'singleQubitGateFidelity': 0, 't1': 0, 't2Echo': 0, 't2Ramsey': 0}, '22': {'parallelReadoutState0Fidelity': 0, 'parallelReadoutState1Fidelity': 0, 'readoutState0Fidelity': 0, 'readoutState1Fidelity': 0, 'singleQubitGateFidelity': 0, 't1': 0, 't2Echo': 0, 't2Ramsey': 0}, '23': {'parallelReadoutState0Fidelity': 0, 'parallelReadoutState1Fidelity': 0, 'readoutState0Fidelity': 0, 'readoutState1Fidelity': 0, 'singleQubitGateFidelity': 0, 't1': 0, 't2Echo': 0, 't2Ramsey': 0}, '3': {'parallelReadoutState0Fidelity': 0, 'parallelReadoutState1Fidelity': 0, 'readoutState0Fidelity': 0, 'readoutState1Fidelity': 0, 'singleQubitGateFidelity': 0, 't1': 0, 't2Echo': 0, 't2Ramsey': 0}, '4': {'parallelReadoutState0Fidelity': 0.888, 'parallelReadoutState1Fidelity': 0.7, 'readoutState0Fidelity': 0.854, 'readoutState1Fidelity': 0.785, 'singleQubitGateFidelity': 0.9945216103266256, 't1': 1.1324800000000007e-05, 't2Echo': 1.5289299831309868e-06, 't2Ramsey': 6.937710773963423e-07}, '5': {'parallelReadoutState0Fidelity': 0.903, 'parallelReadoutState1Fidelity': 0.691, 'readoutState0Fidelity': 0.885, 'readoutState1Fidelity': 0.771, 'singleQubitGateFidelity': 0.9931632341211389, 't1': 4.796641331217798e-06, 't2Echo': 2.904113078577699e-06, 't2Ramsey': 5.539809541671754e-07}, '6': {'parallelReadoutState0Fidelity': 0.814, 'parallelReadoutState1Fidelity': 0.738, 'readoutState0Fidelity': 0.811, 'readoutState1Fidelity': 0.719, 'singleQubitGateFidelity': 0.9941630324824497, 't1': 1.1356230373411256e-05, 't2Echo': 7.206303440645533e-07, 't2Ramsey': 0}, '7': {'parallelReadoutState0Fidelity': 0, 'parallelReadoutState1Fidelity': 0, 'readoutState0Fidelity': 0, 'readoutState1Fidelity': 0, 'singleQubitGateFidelity': 0, 't1': 0, 't2Echo': 0, 't2Ramsey': 0}, '8': {'parallelReadoutState0Fidelity': 0.886, 'parallelReadoutState1Fidelity': 0.712, 'readoutState0Fidelity': 0.865, 'readoutState1Fidelity': 0.727, 'singleQubitGateFidelity': 0.9968727308205038, 't1': 8.15490168575434e-06, 't2Echo': 2.1815308892977396e-06, 't2Ramsey': 1.5073782842729318e-06}, '9': {'parallelReadoutState0Fidelity': 0, 'parallelReadoutState1Fidelity': 0, 'readoutState0Fidelity': 0, 'readoutState1Fidelity': 0, 'singleQubitGateFidelity': 0, 't1': 0, 't2Echo': 0, 't2Ramsey': 0}}\n",
      "{'0': {'czGateFidelity': 0.9500667021295135}, '1': {'czGateFidelity': 0.9535362647673179}, '10': {'czGateFidelity': 0}, '11': {'czGateFidelity': 0}, '12': {'czGateFidelity': 0}, '13': {'czGateFidelity': 0}, '14': {'czGateFidelity': 0}, '15': {'czGateFidelity': 0}, '16': {'czGateFidelity': 0}, '17': {'czGateFidelity': 0}, '18': {'czGateFidelity': 0}, '19': {'czGateFidelity': 0}, '2': {'czGateFidelity': 0.9565845968137181}, '20': {'czGateFidelity': 0}, '21': {'czGateFidelity': 0}, '22': {'czGateFidelity': 0}, '23': {'czGateFidelity': 0}, '24': {'czGateFidelity': 0}, '25': {'czGateFidelity': 0}, '26': {'czGateFidelity': 0}, '27': {'czGateFidelity': 0}, '28': {'czGateFidelity': 0}, '29': {'czGateFidelity': 0}, '3': {'czGateFidelity': 0.9464561634987732}, '30': {'czGateFidelity': 0}, '31': {'czGateFidelity': 0}, '32': {'czGateFidelity': 0}, '33': {'czGateFidelity': 0}, '34': {'czGateFidelity': 0}, '4': {'czGateFidelity': 0.9459696973134326}, '5': {'czGateFidelity': 0}, '6': {'czGateFidelity': 0}, '7': {'czGateFidelity': 0.9096272077986943}, '8': {'czGateFidelity': 0}, '9': {'czGateFidelity': 0}}\n"
     ]
    },
    {
     "data": {
      "text/plain": [
       "'2025-02-16T13:13:10.228Z'"
      ]
     },
     "execution_count": 3,
     "metadata": {},
     "output_type": "execute_result"
    }
   ],
   "source": [
    "# get benchmark information for qubits and couplers\n",
    "benchmark = ApiAdapter.get_qubits_and_couplers(\"yamaska\")\n",
    "print(benchmark[\"qubits\"])\n",
    "print(benchmark[\"couplers\"])\n",
    "\n",
    "# get the date of the last benchmark\n",
    "complete_benchmark = ApiAdapter.get_benchmark(\"yamaska\")\n",
    "complete_benchmark[\"timeStamp\"]"
   ]
  },
  {
   "cell_type": "markdown",
   "metadata": {},
   "source": [
    "It is possible to fetch available machines and connectivities for a specific machine with the ApiAdapter"
   ]
  },
  {
   "cell_type": "code",
   "execution_count": 4,
   "metadata": {},
   "outputs": [
    {
     "name": "stdout",
     "output_type": "stream",
     "text": [
      "[{'id': '64c5ec18-03a8-480e-a4dc-9377c109e659', 'name': 'yukon', 'hostServer': 'yukon.anyonsys.com', 'type': 'quantum-computer', 'owner': 'DRDC', 'status': 'online', 'accessibleFrom': ['drdc', 'anyon', 'default', 'another', 'calculqc'], 'Revision': 0, 'metadata': {'Serial Number': 'ANYK202201'}, 'qubitCount': 6, 'bitCount': 6, 'couplerCount': 5, 'connectivity': 'linear', 'maxDepth': 304, 'operationsDefinition': [{'operation': 'i', 'numConnectedQubits': 1, 'numConnectedBits': 0, 'depth': 1}, {'operation': 'x', 'numConnectedQubits': 1, 'numConnectedBits': 0, 'depth': 1}, {'operation': 'x_90', 'numConnectedQubits': 1, 'numConnectedBits': 0, 'depth': 1}, {'operation': 'x_minus_90', 'numConnectedQubits': 1, 'numConnectedBits': 0, 'depth': 1}, {'operation': 'y', 'numConnectedQubits': 1, 'numConnectedBits': 0, 'depth': 1}, {'operation': 'y_90', 'numConnectedQubits': 1, 'numConnectedBits': 0, 'depth': 1}, {'operation': 'y_minus_90', 'numConnectedQubits': 1, 'numConnectedBits': 0, 'depth': 1}, {'operation': 'z', 'numConnectedQubits': 1, 'numConnectedBits': 0, 'depth': 0}, {'operation': 'z_90', 'numConnectedQubits': 1, 'numConnectedBits': 0, 'depth': 0}, {'operation': 'z_minus_90', 'numConnectedQubits': 1, 'numConnectedBits': 0, 'depth': 0}, {'operation': 't', 'numConnectedQubits': 1, 'numConnectedBits': 0, 'depth': 0}, {'operation': 't_dag', 'numConnectedQubits': 1, 'numConnectedBits': 0, 'depth': 0}, {'operation': 'rz', 'parameterNames': {'lambda': {}}, 'numConnectedQubits': 1, 'numConnectedBits': 0, 'depth': 0}, {'operation': 'p', 'parameterNames': {'lambda': {}}, 'numConnectedQubits': 1, 'numConnectedBits': 0, 'depth': 0}, {'operation': 'cz', 'numConnectedQubits': 2, 'numConnectedBits': 0, 'depth': 2}, {'operation': 'readout', 'numConnectedQubits': 1, 'numConnectedBits': 1, 'depth': 0}], 'couplerToQubitMap': {'0': [0, 1], '1': [1, 2], '2': [2, 3], '3': [3, 4], '4': [4, 5]}}, {'id': '6b770575-c40f-4d81-a9de-b1969a028ca5', 'name': 'yamaska', 'hostServer': 'yamaska.anyonsys.com', 'type': 'quantum-computer', 'owner': 'CalculQC', 'status': 'offline', 'accessibleFrom': ['calculqc', 'anyon', 'default'], 'Revision': 0, 'metadata': {'Serial Number': 'ANYK202301'}, 'qubitCount': 24, 'bitCount': 24, 'couplerCount': 35, 'connectivity': 'lattice', 'maxDepth': 413, 'disconnectedQubits': [3, 7, 9, 10, 11, 12, 13, 14, 15, 16, 17, 18, 19, 20, 21, 22, 23], 'disconnectedConnections': [[3, 7], [5, 10], [6, 11], [11, 7], [14, 11], [11, 15], [12, 17], [17, 13], [13, 18], [18, 14], [14, 19], [19, 15], [16, 20], [20, 17], [17, 21], [21, 18], [18, 22], [22, 19], [19, 23]], 'operationsDefinition': [{'operation': 'i', 'numConnectedQubits': 1, 'numConnectedBits': 0, 'depth': 1}, {'operation': 'x', 'numConnectedQubits': 1, 'numConnectedBits': 0, 'depth': 1}, {'operation': 'x_90', 'numConnectedQubits': 1, 'numConnectedBits': 0, 'depth': 1}, {'operation': 'x_minus_90', 'numConnectedQubits': 1, 'numConnectedBits': 0, 'depth': 1}, {'operation': 'y', 'numConnectedQubits': 1, 'numConnectedBits': 0, 'depth': 1}, {'operation': 'y_90', 'numConnectedQubits': 1, 'numConnectedBits': 0, 'depth': 1}, {'operation': 'y_minus_90', 'numConnectedQubits': 1, 'numConnectedBits': 0, 'depth': 1}, {'operation': 'z', 'numConnectedQubits': 1, 'numConnectedBits': 0, 'depth': 0}, {'operation': 'z_90', 'numConnectedQubits': 1, 'numConnectedBits': 0, 'depth': 0}, {'operation': 'z_minus_90', 'numConnectedQubits': 1, 'numConnectedBits': 0, 'depth': 0}, {'operation': 't', 'numConnectedQubits': 1, 'numConnectedBits': 0, 'depth': 0}, {'operation': 't_dag', 'numConnectedQubits': 1, 'numConnectedBits': 0, 'depth': 0}, {'operation': 'rz', 'parameterNames': {'lambda': {}}, 'numConnectedQubits': 1, 'numConnectedBits': 0, 'depth': 0}, {'operation': 'p', 'parameterNames': {'lambda': {}}, 'numConnectedQubits': 1, 'numConnectedBits': 0, 'depth': 0}, {'operation': 'cz', 'numConnectedQubits': 2, 'numConnectedBits': 0, 'depth': 3}, {'operation': 'readout', 'numConnectedQubits': 1, 'numConnectedBits': 1, 'depth': 0}], 'couplerToQubitMap': {'0': [0, 4], '1': [1, 4], '10': [5, 10], '11': [6, 10], '12': [6, 11], '13': [7, 11], '14': [8, 12], '15': [9, 12], '16': [9, 13], '17': [10, 13], '18': [10, 14], '19': [11, 14], '2': [1, 5], '20': [11, 15], '21': [12, 16], '22': [12, 17], '23': [13, 17], '24': [13, 18], '25': [14, 18], '26': [14, 19], '27': [15, 19], '28': [16, 20], '29': [17, 20], '3': [2, 5], '30': [17, 21], '31': [18, 21], '32': [18, 22], '33': [19, 22], '34': [19, 23], '4': [2, 6], '5': [3, 6], '6': [3, 7], '7': [4, 8], '8': [4, 9], '9': [5, 9]}}]\n",
      "{'0': [0, 4], '1': [1, 4], '10': [5, 10], '11': [6, 10], '12': [6, 11], '13': [7, 11], '14': [8, 12], '15': [9, 12], '16': [9, 13], '17': [10, 13], '18': [10, 14], '19': [11, 14], '2': [1, 5], '20': [11, 15], '21': [12, 16], '22': [12, 17], '23': [13, 17], '24': [13, 18], '25': [14, 18], '26': [14, 19], '27': [15, 19], '28': [16, 20], '29': [17, 20], '3': [2, 5], '30': [17, 21], '31': [18, 21], '32': [18, 22], '33': [19, 22], '34': [19, 23], '4': [2, 6], '5': [3, 6], '6': [3, 7], '7': [4, 8], '8': [4, 9], '9': [5, 9]}\n"
     ]
    }
   ],
   "source": [
    "machines = ApiAdapter.list_machines()\n",
    "print(machines)\n",
    "\n",
    "connectivity = ApiAdapter.get_connectivity_for_machine(\"yamaska\")\n",
    "print(connectivity)"
   ]
  },
  {
   "cell_type": "markdown",
   "metadata": {},
   "source": [
    "Please note that ApiAdapter is a development class, and should typically not be needed unless you have very specific applications"
   ]
  }
 ],
 "metadata": {
  "kernelspec": {
   "display_name": "Python 3",
   "language": "python",
   "name": "python3"
  },
  "language_info": {
   "codemirror_mode": {
    "name": "ipython",
    "version": 3
   },
   "file_extension": ".py",
   "mimetype": "text/x-python",
   "name": "python",
   "nbconvert_exporter": "python",
   "pygments_lexer": "ipython3",
   "version": "3.10.11"
  }
 },
 "nbformat": 4,
 "nbformat_minor": 2
}
