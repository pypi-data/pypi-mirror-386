{
 "cells": [
  {
   "cell_type": "markdown",
   "metadata": {},
   "source": [
    "## Custom gates\n",
    "\n",
    "This plugin provides a set of custom gates that you can use in order to express your quantum circuits in MonarQ's native gate set. "
   ]
  },
  {
   "cell_type": "code",
   "execution_count": 4,
   "metadata": {},
   "outputs": [],
   "source": [
    "# this section is for initializing the document's code\n",
    "\n",
    "\n",
    "# import custom gates\n",
    "import pennylane_calculquebec.processing.custom_gates as custom\n",
    "\n",
    "# import pennylane-specific functions\n",
    "import pennylane as qml\n",
    "\n",
    "import numpy as np\n",
    "from pennylane.operation import Operation\n",
    "\n",
    "dev = qml.device(\"default.qubit\")\n",
    "\n",
    "\n",
    "# this function will be used to print operation matrices\n",
    "def print_matrix(op: Operation):\n",
    "    print(op.name + \" : \")\n",
    "    print(f\"{op.matrix()}\\n\")"
   ]
  },
  {
   "cell_type": "markdown",
   "metadata": {},
   "source": [
    "### qml gates and custom gates\n",
    "\n",
    "You might have noticed that we import ```pennylane as qml``` and ```custom_gates as custom```. \n",
    "\n",
    "That is because not all the native gates in MonarQ exist in pennylane. We thus have to add custom pennylane operations in order to cover all of MonarQ's native gate set. \n",
    "\n",
    "All the gates implemented by Calcul Québec reside in the ```custom_gates``` module. "
   ]
  },
  {
   "cell_type": "markdown",
   "metadata": {},
   "source": [
    "Here are the operations from MonarQ's native gate set : "
   ]
  },
  {
   "cell_type": "markdown",
   "metadata": {},
   "source": [
    "### one qubit gates"
   ]
  },
  {
   "cell_type": "code",
   "execution_count": 5,
   "metadata": {},
   "outputs": [
    {
     "name": "stdout",
     "output_type": "stream",
     "text": [
      "PauliX : \n",
      "[[0 1]\n",
      " [1 0]]\n",
      "\n"
     ]
    }
   ],
   "source": [
    "# a pi rad rotation around the X axis (has the effect of an amplitude flip)\n",
    "x = qml.PauliX(0)\n",
    "print_matrix(x)"
   ]
  },
  {
   "cell_type": "code",
   "execution_count": 6,
   "metadata": {},
   "outputs": [
    {
     "name": "stdout",
     "output_type": "stream",
     "text": [
      "PauliZ : \n",
      "[[ 1  0]\n",
      " [ 0 -1]]\n",
      "\n"
     ]
    }
   ],
   "source": [
    "# a pi rad rotation around the Z axis (has the effect of a phase flip)\n",
    "z = qml.PauliZ(0)\n",
    "print_matrix(z)"
   ]
  },
  {
   "cell_type": "code",
   "execution_count": 7,
   "metadata": {},
   "outputs": [
    {
     "name": "stdout",
     "output_type": "stream",
     "text": [
      "PauliY : \n",
      "[[ 0.+0.j -0.-1.j]\n",
      " [ 0.+1.j  0.+0.j]]\n",
      "\n"
     ]
    }
   ],
   "source": [
    "# a pi rad rotation around the Y axis (has the effect of combining a X and a Z)\n",
    "y = qml.PauliY(0)\n",
    "print_matrix(y)"
   ]
  },
  {
   "cell_type": "code",
   "execution_count": 8,
   "metadata": {},
   "outputs": [
    {
     "name": "stdout",
     "output_type": "stream",
     "text": [
      "Z90 : \n",
      "[[0.70710678-0.70710678j 0.        +0.j        ]\n",
      " [0.        +0.j         0.70710678+0.70710678j]]\n",
      "\n"
     ]
    }
   ],
   "source": [
    "# a pi/2 rad rotation around the Z axis\n",
    "z90 = custom.Z90(0)\n",
    "print_matrix(z90)"
   ]
  },
  {
   "cell_type": "code",
   "execution_count": 9,
   "metadata": {},
   "outputs": [
    {
     "name": "stdout",
     "output_type": "stream",
     "text": [
      "ZM90 : \n",
      "[[0.70710678+0.70710678j 0.        +0.j        ]\n",
      " [0.        +0.j         0.70710678-0.70710678j]]\n",
      "\n"
     ]
    }
   ],
   "source": [
    "# a -pi/2 rad rotation around the Z axis\n",
    "zm90 = custom.ZM90(0)\n",
    "print_matrix(zm90)"
   ]
  },
  {
   "cell_type": "code",
   "execution_count": 10,
   "metadata": {},
   "outputs": [
    {
     "name": "stdout",
     "output_type": "stream",
     "text": [
      "Z90 : \n",
      "[[0.70710678-0.70710678j 0.        +0.j        ]\n",
      " [0.        +0.j         0.70710678+0.70710678j]]\n",
      "\n"
     ]
    }
   ],
   "source": [
    "# a pi/2 rad rotation around the X axis\n",
    "x90 = custom.X90(0)\n",
    "print_matrix(z90)"
   ]
  },
  {
   "cell_type": "code",
   "execution_count": 11,
   "metadata": {},
   "outputs": [
    {
     "name": "stdout",
     "output_type": "stream",
     "text": [
      "ZM90 : \n",
      "[[0.70710678+0.70710678j 0.        +0.j        ]\n",
      " [0.        +0.j         0.70710678-0.70710678j]]\n",
      "\n"
     ]
    }
   ],
   "source": [
    "# a -pi/2 rad rotation around the X axis\n",
    "xm90 = custom.XM90(0)\n",
    "print_matrix(zm90)"
   ]
  },
  {
   "cell_type": "code",
   "execution_count": 12,
   "metadata": {},
   "outputs": [
    {
     "name": "stdout",
     "output_type": "stream",
     "text": [
      "Y90 : \n",
      "[[ 0.70710678+0.j -0.70710678-0.j]\n",
      " [ 0.70710678+0.j  0.70710678+0.j]]\n",
      "\n"
     ]
    }
   ],
   "source": [
    "# a pi/2 rad rotation around the Y axis\n",
    "y90 = custom.Y90(0)\n",
    "print_matrix(y90)"
   ]
  },
  {
   "cell_type": "code",
   "execution_count": 13,
   "metadata": {},
   "outputs": [
    {
     "name": "stdout",
     "output_type": "stream",
     "text": [
      "YM90 : \n",
      "[[ 0.70710678+0.j  0.70710678-0.j]\n",
      " [-0.70710678+0.j  0.70710678+0.j]]\n",
      "\n"
     ]
    }
   ],
   "source": [
    "# a -pi/2 rad rotation around the Y axis\n",
    "ym90 = custom.YM90(0)\n",
    "print_matrix(ym90)"
   ]
  },
  {
   "cell_type": "code",
   "execution_count": 14,
   "metadata": {},
   "outputs": [
    {
     "name": "stdout",
     "output_type": "stream",
     "text": [
      "T : \n",
      "[[1.        +0.j         0.        +0.j        ]\n",
      " [0.        +0.j         0.70710678+0.70710678j]]\n",
      "\n"
     ]
    }
   ],
   "source": [
    "# a pi/4 rad rotation around the Z axis\n",
    "t = qml.T(0)\n",
    "print_matrix(t)"
   ]
  },
  {
   "cell_type": "code",
   "execution_count": 15,
   "metadata": {},
   "outputs": [
    {
     "name": "stdout",
     "output_type": "stream",
     "text": [
      "TDagger : \n",
      "[[1.        -0.j         0.        +0.j        ]\n",
      " [0.        +0.j         0.70710678-0.70710678j]]\n",
      "\n"
     ]
    }
   ],
   "source": [
    "# a -pi/4 rad rotation around the Z axis\n",
    "tdag = custom.TDagger(0)\n",
    "print_matrix(tdag)"
   ]
  },
  {
   "cell_type": "code",
   "execution_count": 16,
   "metadata": {},
   "outputs": [
    {
     "name": "stdout",
     "output_type": "stream",
     "text": [
      "PhaseShift : \n",
      "[[ 1. +0.j         0. +0.j       ]\n",
      " [ 0. +0.j        -0.5+0.8660254j]]\n",
      "\n"
     ]
    }
   ],
   "source": [
    "# an arbitrary rotation around the Z axis\n",
    "p = qml.PhaseShift(2 * np.pi / 3, 0)\n",
    "print_matrix(p)"
   ]
  },
  {
   "cell_type": "markdown",
   "metadata": {},
   "source": [
    "### 2 qubits gates"
   ]
  },
  {
   "cell_type": "code",
   "execution_count": 17,
   "metadata": {},
   "outputs": [
    {
     "name": "stdout",
     "output_type": "stream",
     "text": [
      "CZ : \n",
      "[[ 1  0  0  0]\n",
      " [ 0  1  0  0]\n",
      " [ 0  0  1  0]\n",
      " [ 0  0  0 -1]]\n",
      "\n"
     ]
    }
   ],
   "source": [
    "# if control (leftmost) qubit is set to 1, then target (rightmost) qubit will be applied a Z operation.\n",
    "cz = qml.CZ([0, 1])\n",
    "print_matrix(cz)"
   ]
  },
  {
   "cell_type": "markdown",
   "metadata": {},
   "source": [
    "Here is an example of how you could use those operations in a circuit"
   ]
  },
  {
   "cell_type": "code",
   "execution_count": null,
   "metadata": {},
   "outputs": [
    {
     "name": "stdout",
     "output_type": "stream",
     "text": [
      "{'0000': tensor(435, requires_grad=True), '0001': tensor(67, requires_grad=True), '0010': tensor(8, requires_grad=True), '0011': tensor(6, requires_grad=True), '0100': tensor(6, requires_grad=True), '0101': tensor(1, requires_grad=True), '1000': tensor(415, requires_grad=True), '1001': tensor(45, requires_grad=True), '1010': tensor(5, requires_grad=True), '1011': tensor(5, requires_grad=True), '1100': tensor(4, requires_grad=True), '1101': tensor(3, requires_grad=True)}\n"
     ]
    }
   ],
   "source": [
    "from pennylane_calculquebec.processing.config import EmptyConfig\n",
    "from pennylane_calculquebec.API.client import CalculQuebecClient\n",
    "\n",
    "# change the information in the client for your credentials\n",
    "my_client = CalculQuebecClient(\n",
    "    host=\"your host\",\n",
    "    user=\"your user\",\n",
    "    access_token=\"your access token\",\n",
    "    project_id=\"your project id\",\n",
    ")\n",
    "\n",
    "# say you want to transpile your circuit by yourself\n",
    "config = EmptyConfig()\n",
    "\n",
    "# create a device that uses the empty configuration\n",
    "dev = qml.device(\n",
    "    \"monarq.default\", shots=1000, client=my_client, processing_config=config\n",
    ")\n",
    "\n",
    "dev.circuit_name = \"your circuit\"\n",
    "dev.project = \"your project\"\n",
    "\n",
    "\n",
    "dev.circuit_name = \"your circuit\"\n",
    "dev.project = \"your project\"\n",
    "\n",
    "\n",
    "# This would be equivalent to a bell state (Hadamard(0), CNOT([0, 1]))\n",
    "# If we observe MonarQ's connectivity, we find that qubits 0 and 4 are adjacent\n",
    "# If we search online a bit, we find that Hadamard(i) is equivalent to RZ(pi/2, i) - RX(pi/2, i) - RZ(pi/2, i)\n",
    "# We also find that CNOT([i, j]) is equivalent to H(j) - CZ([i, j]) - H(j)\n",
    "@qml.qnode(dev)\n",
    "def circuit():\n",
    "\n",
    "    # native decomposition of a hadamard gate\n",
    "\n",
    "    custom.Z90(0)\n",
    "    custom.X90(0)\n",
    "    custom.Z90(0)\n",
    "\n",
    "    # native decomposition of a CNOT gate\n",
    "\n",
    "    # Hadamard\n",
    "    custom.Z90(1)\n",
    "    custom.X90(1)\n",
    "    custom.Z90(1)\n",
    "\n",
    "    qml.CZ([0, 1])\n",
    "\n",
    "    # Hadamard\n",
    "    custom.Z90(1)\n",
    "    custom.X90(1)\n",
    "    custom.Z90(1)\n",
    "\n",
    "    # apply readouts on qubits 0 and 1\n",
    "    return qml.counts(wires=[0, 1])\n",
    "\n",
    "\n",
    "# results should be the same as a bell state\n",
    "results = circuit()\n",
    "print(results)"
   ]
  },
  {
   "cell_type": "markdown",
   "metadata": {},
   "source": [
    "Even though there may be scenarios where it is beneficial to bypass the transpiling capabilites of the plugin, it is strongly recommended to stick to the default configuration. You don't have to pass any configuration to the device to use the default preset."
   ]
  },
  {
   "cell_type": "markdown",
   "metadata": {},
   "source": [
    "For more information  about pennylane operations, click [here](https://docs.pennylane.ai/en/stable/introduction/operations.html)"
   ]
  }
 ],
 "metadata": {
  "kernelspec": {
   "display_name": "Python 3",
   "language": "python",
   "name": "python3"
  },
  "language_info": {
   "codemirror_mode": {
    "name": "ipython",
    "version": 3
   },
   "file_extension": ".py",
   "mimetype": "text/x-python",
   "name": "python",
   "nbconvert_exporter": "python",
   "pygments_lexer": "ipython3",
   "version": "3.10.11"
  }
 },
 "nbformat": 4,
 "nbformat_minor": 2
}
