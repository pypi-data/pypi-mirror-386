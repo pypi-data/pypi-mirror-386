{
 "cells": [
  {
   "cell_type": "markdown",
   "metadata": {},
   "source": [
    "## Steps"
   ]
  },
  {
   "cell_type": "markdown",
   "metadata": {},
   "source": [
    "All steps that are played by default are **preprocessing** steps, but you can also add **postprocessing** steps, that act on the results instead of the circuit.\n",
    "\n",
    "The steps will be filtered according to their type automatically."
   ]
  },
  {
   "cell_type": "markdown",
   "metadata": {},
   "source": [
    "## Available Processing Steps\n",
    "\n",
    "### Pre-processing\n",
    "- **CliffordTDecomposition** (pennylane_calculquebec/processing/steps/base_decomposition.py)  \n",
    "  Decomposes gates into the Clifford+T+RZ set.  \n",
    "  Parameters: None.\n",
    "  \n",
    "- **DecomposeReadout** (pennylane_calculquebec/processing/steps/decompose_readout.py)  \n",
    "  Converts observables into computational basis measurements.  \n",
    "  Parameters: None.\n",
    "\n",
    "- **GateNoiseSimulation** (pennylane_calculquebec/processing/steps/gate_noise_simulation.py)  \n",
    "  Injects gate noise according to the MonarQ model.  \n",
    "  Parameters: `machine_name`, `use_benchmark`.\n",
    "\n",
    "\n",
    "- **MonarqDecomposition** (pennylane_calculquebec/processing/steps/native_decomposition.py)  \n",
    "  Converts operations to MonarQ native gates.  \n",
    "  Parameters: None.\n",
    "\n",
    "- **IterativeCommuteAndMerge** (pennylane_calculquebec/processing/steps/optimization.py)  \n",
    "  Optimizes the circuit by commuting, merging rotations, and cancellations.  \n",
    "  Parameters: None.\n",
    "\n",
    "- **ASTAR**, **ISMAGS**, **VF2** (pennylane_calculquebec/processing/steps/placement.py)  \n",
    "  Placement algorithms to map logical qubits onto physical qubits.  \n",
    "  Parameters: `machine_name`, `use_benchmark`, `q1_acceptance`, `q2_acceptance`, `excluded_qubits`, `excluded_couplers`.\n",
    "\n",
    "- **Swaps** (pennylane_calculquebec/processing/steps/routing.py)  \n",
    "  Routing algorithm that inserts SWAPs to connect non-adjacent qubits.  \n",
    "  Parameters: `machine_name`, `use_benchmark`, `q1_acceptance`, `q2_acceptance`, `excluded_qubits`, `excluded_couplers`.\n",
    "\n",
    "- **PrintTape**, **PrintWires** (pennylane_calculquebec/processing/steps/print_steps.py)  \n",
    "  Debug steps that print the circuit or wires.  \n",
    "  Parameters: None.\n",
    "\n",
    "### Post-processing\n",
    "- **IBUReadoutMitigation** (pennylane_calculquebec/processing/steps/readout_error_mitigation.py)  \n",
    "  Iterative Bayesian readout error mitigation.  \n",
    "  Parameters: `machine_name`, `initial_guess`.\n",
    "\n",
    "- **MatrixReadoutMitigation** (pennylane_calculquebec/processing/steps/readout_error_mitigation.py)  \n",
    "  Matrix inversion readout error mitigation.  \n",
    "  Parameters: `machine_name`.\n",
    "\n",
    "- **ReadoutNoiseSimulation** (pennylane_calculquebec/processing/steps/readout_noise_simulation.py)  \n",
    "  Simulates readout noise on the results.  \n",
    "  Parameters: `machine_name`, `use_benchmark`.\n",
    "\n",
    "- **PrintResults** (pennylane_calculquebec/processing/steps/print_steps.py)  \n",
    "  Debug step that prints the results.  \n",
    "  Parameters: None."
   ]
  },
  {
   "cell_type": "markdown",
   "metadata": {},
   "source": [
    "## Example of code for the preprocessing for the CliffordTDecomposition"
   ]
  },
  {
   "cell_type": "code",
   "execution_count": 3,
   "metadata": {},
   "outputs": [
    {
     "name": "stdout",
     "output_type": "stream",
     "text": [
      "Requirement already satisfied: matplotlib in /home/xavier/Documents/CalculQuebec/pennylane-calculquebec/.venv/lib/python3.13/site-packages (3.10.3)\n",
      "Requirement already satisfied: contourpy>=1.0.1 in /home/xavier/Documents/CalculQuebec/pennylane-calculquebec/.venv/lib/python3.13/site-packages (from matplotlib) (1.3.2)\n",
      "Requirement already satisfied: cycler>=0.10 in /home/xavier/Documents/CalculQuebec/pennylane-calculquebec/.venv/lib/python3.13/site-packages (from matplotlib) (0.12.1)\n",
      "Requirement already satisfied: fonttools>=4.22.0 in /home/xavier/Documents/CalculQuebec/pennylane-calculquebec/.venv/lib/python3.13/site-packages (from matplotlib) (4.58.4)\n",
      "Requirement already satisfied: kiwisolver>=1.3.1 in /home/xavier/Documents/CalculQuebec/pennylane-calculquebec/.venv/lib/python3.13/site-packages (from matplotlib) (1.4.8)\n",
      "Requirement already satisfied: numpy>=1.23 in /home/xavier/Documents/CalculQuebec/pennylane-calculquebec/.venv/lib/python3.13/site-packages (from matplotlib) (2.3.1)\n",
      "Requirement already satisfied: packaging>=20.0 in /home/xavier/Documents/CalculQuebec/pennylane-calculquebec/.venv/lib/python3.13/site-packages (from matplotlib) (25.0)\n",
      "Requirement already satisfied: pillow>=8 in /home/xavier/Documents/CalculQuebec/pennylane-calculquebec/.venv/lib/python3.13/site-packages (from matplotlib) (11.2.1)\n",
      "Requirement already satisfied: pyparsing>=2.3.1 in /home/xavier/Documents/CalculQuebec/pennylane-calculquebec/.venv/lib/python3.13/site-packages (from matplotlib) (3.2.3)\n",
      "Requirement already satisfied: python-dateutil>=2.7 in /home/xavier/Documents/CalculQuebec/pennylane-calculquebec/.venv/lib/python3.13/site-packages (from matplotlib) (2.9.0.post0)\n",
      "Requirement already satisfied: six>=1.5 in /home/xavier/Documents/CalculQuebec/pennylane-calculquebec/.venv/lib/python3.13/site-packages (from python-dateutil>=2.7->matplotlib) (1.17.0)\n",
      "Note: you may need to restart the kernel to use updated packages.\n",
      "0: ──T──RZ─┤  <Z>\n"
     ]
    },
    {
     "data": {
      "image/png": "[encoded data removed]",
      "text/plain": [
       "<Figure size 500x200 with 1 Axes>"
      ]
     },
     "metadata": {},
     "output_type": "display_data"
    }
   ],
   "source": [
    "%pip install matplotlib\n",
    "import pennylane as qml\n",
    "from pennylane.workflow import construct_tape\n",
    "from pennylane.drawer import tape_text, tape_mpl\n",
    "from pennylane_calculquebec.processing.steps import CliffordTDecomposition\n",
    "\n",
    "# 1. define device & QNode\n",
    "dev = qml.device(\"default.qubit\", wires=1)\n",
    "\n",
    "\n",
    "@qml.qnode(dev)\n",
    "def circuit():\n",
    "    qml.T(wires=0)\n",
    "    qml.RZ(0.5, wires=0)\n",
    "    return qml.expval(qml.PauliZ(0))\n",
    "\n",
    "\n",
    "# 2. build raw tape (user ops only)\n",
    "tape = construct_tape(circuit, level=\"top\")()\n",
    "\n",
    "# 3. apply your CalculQuébec decomposition\n",
    "step = CliffordTDecomposition()\n",
    "decomposed = step.execute(tape)\n",
    "\n",
    "# 4a. text drawing\n",
    "print(tape_text(decomposed, show_wire_labels=True))\n",
    "\n",
    "# 4b. matplotlib drawing\n",
    "fig, ax = tape_mpl(decomposed)\n",
    "ax.set_title(\"Clifford+T Decomposed Circuit\")\n",
    "fig.savefig(\"decomposed_circuit.png\")  # or plt.show()"
   ]
  },
  {
   "cell_type": "markdown",
   "metadata": {},
   "source": [
    "### Example of code for the preprocessing for the DecomposeReadout"
   ]
  },
  {
   "cell_type": "code",
   "execution_count": 4,
   "metadata": {},
   "outputs": [
    {
     "name": "stdout",
     "output_type": "stream",
     "text": [
      "[expval(wires=[0])]\n"
     ]
    }
   ],
   "source": [
    "import pennylane as qml\n",
    "from pennylane.workflow import construct_tape\n",
    "from pennylane_calculquebec.processing.steps import DecomposeReadout\n",
    "\n",
    "# Build a circuit returning an observable\n",
    "dev = qml.device(\"default.qubit\", wires=1)\n",
    "\n",
    "\n",
    "@qml.qnode(dev)\n",
    "def circuit():\n",
    "    qml.Hadamard(wires=0)\n",
    "    return qml.expval(qml.PauliZ(wires=0))\n",
    "\n",
    "\n",
    "# Construct the tape for the QNode\n",
    "tape = construct_tape(circuit)()\n",
    "\n",
    "# Apply DecomposeReadout to convert expectation to computational basis measurement\n",
    "step = DecomposeReadout()\n",
    "post = step.execute(tape)\n",
    "\n",
    "# Inspect the measurement operators on the new tape\n",
    "print(post.measurements)"
   ]
  },
  {
   "cell_type": "markdown",
   "metadata": {},
   "source": [
    "###  Example of code for the preprocessing for the DecomposeReadout"
   ]
  },
  {
   "cell_type": "code",
   "execution_count": 5,
   "metadata": {},
   "outputs": [
    {
     "name": "stdout",
     "output_type": "stream",
     "text": [
      "<pennylane_calculquebec.processing.steps.decompose_readout.DecomposeReadout object at 0x7f8b1055afd0>\n",
      "<pennylane_calculquebec.processing.steps.base_decomposition.CliffordTDecomposition object at 0x7f8b127adba0>\n",
      "<pennylane_calculquebec.processing.steps.placement.VF2 object at 0x7f8b12777b60>\n",
      "<pennylane_calculquebec.processing.steps.routing.Swaps object at 0x7f8b127778c0>\n",
      "<pennylane_calculquebec.processing.steps.optimization.IterativeCommuteAndMerge object at 0x7f8b12777a10>\n",
      "<pennylane_calculquebec.processing.steps.native_decomposition.MonarqDecomposition object at 0x7f8b12775fd0>\n",
      "<pennylane_calculquebec.processing.steps.optimization.IterativeCommuteAndMerge object at 0x7f8b1055b9d0>\n",
      "<pennylane_calculquebec.processing.steps.native_decomposition.MonarqDecomposition object at 0x7f8b1055b890>\n",
      "<pennylane_calculquebec.processing.steps.readout_error_mitigation.IBUReadoutMitigation object at 0x7f8b12777cb0>\n"
     ]
    }
   ],
   "source": [
    "from pennylane_calculquebec.processing.config import MonarqDefaultConfig\n",
    "from pennylane_calculquebec.processing.steps import IBUReadoutMitigation\n",
    "\n",
    "readout_error_mitigation = IBUReadoutMitigation(\"yamaska\")\n",
    "\n",
    "my_config = MonarqDefaultConfig(\"yamaska\")\n",
    "my_config.steps.append(readout_error_mitigation)\n",
    "print(*my_config.steps, sep=\"\\n\")"
   ]
  },
  {
   "cell_type": "markdown",
   "metadata": {},
   "source": [
    "### Example of code for the preprocessing for the GateNoiseSimulation"
   ]
  },
  {
   "cell_type": "code",
   "execution_count": 15,
   "metadata": {},
   "outputs": [
    {
     "name": "stdout",
     "output_type": "stream",
     "text": [
      "Noisy probabilities: [0.5 0.5]\n"
     ]
    }
   ],
   "source": [
    "import pennylane as qml\n",
    "from pennylane.workflow import construct_tape\n",
    "from pennylane_calculquebec.processing.steps import GateNoiseSimulation\n",
    "\n",
    "# 1) Define your device\n",
    "dev = qml.device(\"default.qubit\", wires=1)\n",
    "\n",
    "\n",
    "# 2) Define your noiseless circuit as a QNode\n",
    "@qml.qnode(dev)\n",
    "def circuit():\n",
    "    qml.Hadamard(wires=0)\n",
    "    return qml.probs(wires=0)\n",
    "\n",
    "\n",
    "# 3) Turn that QNode into a tape\n",
    "tape = construct_tape(circuit)()\n",
    "\n",
    "# 4) Inject noise using your Yamaska profile\n",
    "noise_step = GateNoiseSimulation(\"yamaska\", use_benchmark=True)\n",
    "noisy_tape = noise_step.execute(tape)\n",
    "\n",
    "# 5) Execute the noisy tape directly on the device\n",
    "noisy_results = qml.execute([noisy_tape], dev)\n",
    "\n",
    "print(\"Noisy probabilities:\", noisy_results[0])"
   ]
  },
  {
   "cell_type": "markdown",
   "metadata": {},
   "source": [
    "### Example of code for the preprocessing for the MonarqDecomposition"
   ]
  },
  {
   "cell_type": "code",
   "execution_count": 7,
   "metadata": {},
   "outputs": [
    {
     "name": "stdout",
     "output_type": "stream",
     "text": [
      "1: ──Z90──X90──Z90─╭Z──Z90──X90──Z90─╭●──Z90──X90──Z90─╭Z──Z90──X90──Z90─┤     \n",
      "0: ────────────────╰●──Z90──X90──Z90─╰Z──Z90──X90──Z90─╰●────────────────┤  <Z>\n"
     ]
    }
   ],
   "source": [
    "import pennylane as qml\n",
    "from pennylane_calculquebec.processing.steps import MonarqDecomposition\n",
    "from pennylane.workflow import construct_tape\n",
    "from pennylane.drawer import tape_text\n",
    "\n",
    "# Circuit using non-native ops\n",
    "dev = qml.device(\"default.qubit\", wires=2)\n",
    "\n",
    "\n",
    "@qml.qnode(dev)\n",
    "def circuit():\n",
    "    qml.SWAP(wires=[0, 1])  # placeholder non-native\n",
    "    return qml.expval(qml.PauliZ(0))\n",
    "\n",
    "\n",
    "# Convert to MonarQ native gates\n",
    "step = MonarqDecomposition()\n",
    "native = step.execute(construct_tape(circuit)())\n",
    "print(tape_text(native))  # only MonarQ primitive gates"
   ]
  },
  {
   "cell_type": "markdown",
   "metadata": {},
   "source": [
    "### Example of code for the preprocessing for the IterativeCommuteAndMerge"
   ]
  },
  {
   "cell_type": "code",
   "execution_count": 8,
   "metadata": {},
   "outputs": [
    {
     "name": "stdout",
     "output_type": "stream",
     "text": [
      "0: ───┤  <X>\n"
     ]
    }
   ],
   "source": [
    "import pennylane as qml\n",
    "from pennylane.workflow import construct_tape\n",
    "from pennylane_calculquebec.processing.steps import IterativeCommuteAndMerge\n",
    "from pennylane.drawer import tape_text\n",
    "\n",
    "# Circuit with redundant rotations\n",
    "dev = qml.device(\"default.qubit\", wires=1)\n",
    "\n",
    "\n",
    "@qml.qnode(dev)\n",
    "def circuit():\n",
    "    qml.RX(0.5, wires=0)\n",
    "    qml.RX(-0.5, wires=0)  # cancelling rotation\n",
    "    return qml.expval(qml.PauliX(0))\n",
    "\n",
    "\n",
    "# Optimize by merging and cancelling\n",
    "step = IterativeCommuteAndMerge()\n",
    "optimized = step.execute(construct_tape(circuit)())\n",
    "print(tape_text(optimized))  # empty or minimal operations"
   ]
  },
  {
   "cell_type": "markdown",
   "metadata": {},
   "source": [
    "### Example of code for the preprocessing for the ASTAR"
   ]
  },
  {
   "cell_type": "code",
   "execution_count": 9,
   "metadata": {},
   "outputs": [
    {
     "name": "stdout",
     "output_type": "stream",
     "text": [
      "Mapped circuit on Yamaska topology:\n",
      "4: ──H─╭●─┤  <Z>\n",
      "0: ────╰X─┤     \n"
     ]
    }
   ],
   "source": [
    "import pennylane as qml\n",
    "from pennylane.workflow import construct_tape\n",
    "from pennylane_calculquebec.processing.steps import ASTAR\n",
    "from pennylane.drawer import tape_text  # for visualization\n",
    "\n",
    "# 1. Create a 2-qubit device\n",
    "dev = qml.device(\"default.qubit\", wires=2)\n",
    "\n",
    "\n",
    "# 2. Build a 2-qubit QNode (with a CNOT gate)\n",
    "@qml.qnode(dev)\n",
    "def circuit():\n",
    "    qml.Hadamard(wires=0)\n",
    "    qml.CNOT(wires=[0, 1])\n",
    "    return qml.expval(qml.PauliZ(0))\n",
    "\n",
    "\n",
    "# 3. Extract the tape (QuantumScript) from the QNode\n",
    "tape = construct_tape(circuit)()\n",
    "\n",
    "# 4. Apply ASTAR placement algorithm\n",
    "step = ASTAR(\"yamaska\", use_benchmark=False)\n",
    "mapped = step.execute(tape)\n",
    "\n",
    "# 5. Print the remapped operations\n",
    "print(\"Mapped circuit on Yamaska topology:\")\n",
    "print(tape_text(mapped))  # Pretty-prints QuantumScript"
   ]
  },
  {
   "cell_type": "markdown",
   "metadata": {},
   "source": [
    "### Example of code for the preprocessing for the Swaps"
   ]
  },
  {
   "cell_type": "code",
   "execution_count": 10,
   "metadata": {},
   "outputs": [
    {
     "name": "stdout",
     "output_type": "stream",
     "text": [
      "Original circuit:\n",
      "0: ──H─╭●─┤  <Z>\n",
      "5: ────╰X─┤      \n",
      "\n",
      "After routing with SWAPs:\n",
      "0: ──H──────────╭●─────────────┤  <Z>\n",
      "1: ─╭SWAP─╭SWAP─│──╭SWAP─╭SWAP─┤     \n",
      "5: ─╰SWAP─│─────│──│─────╰SWAP─┤     \n",
      "4: ───────╰SWAP─╰X─╰SWAP───────┤     \n"
     ]
    }
   ],
   "source": [
    "import pennylane as qml\n",
    "from pennylane.workflow import construct_tape\n",
    "from pennylane.drawer import tape_text  # pretty-print tapes\n",
    "from pennylane_calculquebec.processing.steps import Swaps\n",
    "\n",
    "# ------------------------------------------------------------------\n",
    "# 1) Build a tiny circuit whose 2-qubit gate is *not* adjacent on\n",
    "#    Yamaska.  We'll assume Yamaska qubits are numbered 0..59\n",
    "#    and that 0 and 5 are *not* directly connected.\n",
    "# ------------------------------------------------------------------\n",
    "dev = qml.device(\"default.qubit\", wires=6)  # at least wires 0–5\n",
    "\n",
    "\n",
    "@qml.qnode(dev)\n",
    "def circuit():\n",
    "    qml.Hadamard(wires=0)\n",
    "    qml.CNOT(wires=[0, 5])  # <-- distant pair\n",
    "    return qml.expval(qml.PauliZ(0))\n",
    "\n",
    "\n",
    "tape = construct_tape(circuit)()  # QuantumScript\n",
    "\n",
    "print(\"Original circuit:\")\n",
    "print(tape_text(tape), \"\\n\")\n",
    "\n",
    "# ------------------------------------------------------------------\n",
    "# 2) Route with the Swaps algorithm\n",
    "# ------------------------------------------------------------------\n",
    "router = Swaps(\"yamaska\", use_benchmark=False)\n",
    "mapped = router.execute(tape)\n",
    "\n",
    "print(\"After routing with SWAPs:\")\n",
    "print(tape_text(mapped))"
   ]
  },
  {
   "cell_type": "markdown",
   "metadata": {},
   "source": [
    "### Example of code for the preprocessing for the PrintTape"
   ]
  },
  {
   "cell_type": "code",
   "execution_count": 11,
   "metadata": {},
   "outputs": [
    {
     "name": "stdout",
     "output_type": "stream",
     "text": [
      "\n",
      "--- PrintTape ---\n",
      "H(0) CNOT(wires=[0, 1])\n",
      "\n",
      "--- PrintWires ---\n",
      "0 1\n",
      "\n",
      "--- PrintResults ---\n",
      "{1.0: 5, -1.0: 5}\n"
     ]
    },
    {
     "data": {
      "text/plain": [
       "{1.0: 5, -1.0: 5}"
      ]
     },
     "execution_count": 11,
     "metadata": {},
     "output_type": "execute_result"
    }
   ],
   "source": [
    "import pennylane as qml\n",
    "from pennylane.workflow import construct_tape\n",
    "from pennylane_calculquebec.processing.steps import PrintTape, PrintWires, PrintResults\n",
    "\n",
    "# 1. Create a device with shots enabled\n",
    "dev = qml.device(\"default.qubit\", wires=2, shots=10)\n",
    "\n",
    "\n",
    "# 2. Define a circuit\n",
    "@qml.qnode(dev)\n",
    "def circuit():\n",
    "    qml.Hadamard(wires=0)\n",
    "    qml.CNOT(wires=[0, 1])\n",
    "    return qml.sample(qml.PauliZ(0))  # sample returns +1/-1\n",
    "\n",
    "\n",
    "# 3. Extract the tape\n",
    "tape = construct_tape(circuit)()\n",
    "\n",
    "# 4. Initialize steps\n",
    "print_tape = PrintTape()\n",
    "print_wires = PrintWires()\n",
    "print_results = PrintResults()\n",
    "\n",
    "# 5. Run preproc steps\n",
    "print(\"\\n--- PrintTape ---\")\n",
    "print_tape.execute(tape)\n",
    "\n",
    "print(\"\\n--- PrintWires ---\")\n",
    "print_wires.execute(tape)\n",
    "\n",
    "# 6. Execute the tape\n",
    "results = qml.execute([tape], dev)[0]  # no shots=10 here\n",
    "\n",
    "# 7. Format results as counts\n",
    "import collections\n",
    "\n",
    "counts = dict(collections.Counter(results.tolist()))\n",
    "\n",
    "print(\"\\n--- PrintResults ---\")\n",
    "print_results.execute(tape, counts)"
   ]
  },
  {
   "cell_type": "markdown",
   "metadata": {},
   "source": [
    "You can create new preprocessing / postprocessing steps by overriding the PreProcessing / PostProcessing classes."
   ]
  },
  {
   "cell_type": "code",
   "execution_count": null,
   "metadata": {},
   "outputs": [],
   "source": [
    "# abstract steps + empty config\n",
    "from pennylane_calculquebec.processing.interfaces import PreProcStep, PostProcStep\n",
    "from pennylane_calculquebec.processing.config import ProcessingConfig\n",
    "\n",
    "# default steps\n",
    "from pennylane_calculquebec.processing.steps import (\n",
    "    CliffordTDecomposition,\n",
    "    ASTAR,\n",
    "    Swaps,\n",
    "    IterativeCommuteAndMerge,\n",
    "    MonarqDecomposition,\n",
    ")"
   ]
  },
  {
   "cell_type": "code",
   "execution_count": null,
   "metadata": {},
   "outputs": [],
   "source": [
    "# toy preprocessing step for printing the circuit operations\n",
    "class PrintCircuit(PreProcStep):\n",
    "    def execute(self, tape):\n",
    "        print(*tape.operations)\n",
    "        return tape\n",
    "\n",
    "\n",
    "# toy postprocessing step for printing the results\n",
    "class PrintResults(PostProcStep):\n",
    "    def execute(self, tape, results):\n",
    "        print(results)\n",
    "        return results"
   ]
  },
  {
   "cell_type": "code",
   "execution_count": null,
   "metadata": {},
   "outputs": [],
   "source": [
    "# this custom config will print the circuit, transpile, print the transpiled circuit\n",
    "# and then print the unmitigated results, followed by the mitigated results.\n",
    "my_config = ProcessingConfig(\n",
    "    PrintCircuit(),\n",
    "    CliffordTDecomposition(),\n",
    "    ASTAR(\"yamaska\"),\n",
    "    Swaps(\"yamaska\"),\n",
    "    IterativeCommuteAndMerge(),\n",
    "    MonarqDecomposition(),\n",
    "    PrintCircuit(),\n",
    "    PrintResults(),\n",
    "    IBUReadoutMitigation(\"yamaska\"),\n",
    "    PrintResults(),\n",
    ")\n",
    "print(*my_config.steps, sep=\"\\n\")"
   ]
  },
  {
   "cell_type": "markdown",
   "metadata": {},
   "source": [
    "### let's try our config with custom steps"
   ]
  },
  {
   "cell_type": "code",
   "execution_count": null,
   "metadata": {},
   "outputs": [],
   "source": [
    "import pennylane as qml\n",
    "from pennylane_calculquebec.API.client import CalculQuebecClient\n",
    "\n",
    "# Change the values in the parentheses for your credentials\n",
    "my_client = CalculQuebecClient(\n",
    "    host=\"your host\",\n",
    "    user=\"your user\",\n",
    "    access_token=\"your access token\",\n",
    "    project_id=\"your project id\",\n",
    ")\n",
    "\n",
    "dev = qml.device(\n",
    "    \"monarq.default\", client=my_client, processing_config=my_config, shots=1000\n",
    ")\n",
    "\n",
    "dev.circuit_name = \"your circuit\"\n",
    "dev.project = \"your project\"\n",
    "\n",
    "\n",
    "dev.circuit_name = \"your circuit\"\n",
    "dev.project = \"your project\"\n",
    "\n",
    "\n",
    "# a simple ghz circuit\n",
    "@qml.qnode(dev)\n",
    "def circuit():\n",
    "    qml.Hadamard(wires=0)\n",
    "    qml.CNOT(wires=[0, 1])\n",
    "    qml.CNOT([1, 2])\n",
    "    return qml.counts()\n",
    "\n",
    "\n",
    "# lets print the circuit\n",
    "print(qml.draw(circuit)())\n",
    "\n",
    "results = circuit()\n",
    "\n",
    "# you don't have to print results, since they are printed as a post processing step!\n",
    "# print(results)"
   ]
  }
 ],
 "metadata": {
  "kernelspec": {
   "display_name": ".venv",
   "language": "python",
   "name": "python3"
  },
  "language_info": {
   "codemirror_mode": {
    "name": "ipython",
    "version": 3
   },
   "file_extension": ".py",
   "mimetype": "text/x-python",
   "name": "python",
   "nbconvert_exporter": "python",
   "pygments_lexer": "ipython3",
   "version": "3.13.3"
  }
 },
 "nbformat": 4,
 "nbformat_minor": 2
}
