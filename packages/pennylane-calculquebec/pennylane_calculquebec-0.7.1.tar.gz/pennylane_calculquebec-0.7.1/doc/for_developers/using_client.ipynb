{
 "cells": [
  {
   "cell_type": "markdown",
   "metadata": {},
   "source": [
    "## Client\n",
    "\n",
    "In order to run jobs on MonarQ, you will need to provide information to the device using the a client class:\n",
    "\n",
    "- host : the url to which monarq can be communicated with\n",
    "- user : your identifier\n",
    "- access token : the access pass that identifies you as a rightful user\n",
    "- project name or project id : the project you want to run your jobs on. For simplicity purposes, you can use the project name if you don't have access to multiples projects under that name. All accounts have a project named \"default\" that you can use. Ultimately, we highly recommend using project ids as they are unique. They are found in the profile section of the Thunderhead interface.\n",
    "- circuit name (Optional) : the name of your circuit. This is more so for identifying jobs in the Thunderhead."
   ]
  },
  {
   "cell_type": "markdown",
   "metadata": {},
   "source": [
    "in order to provide those informations to the device, you will need to store them in a ```ApiClient```. This is done by :"
   ]
  },
  {
   "cell_type": "markdown",
   "metadata": {},
   "source": [
    "- importing the client class :"
   ]
  },
  {
   "cell_type": "code",
   "execution_count": 1,
   "metadata": {},
   "outputs": [],
   "source": [
    "import pennylane as qml\n",
    "from pennylane_calculquebec.API.client import (\n",
    "    CalculQuebecClient,  # CalculQuebecClient is a type of ApiClient\n",
    ")"
   ]
  },
  {
   "cell_type": "markdown",
   "metadata": {},
   "source": [
    "- creating a client and supplying your informations to it :"
   ]
  },
  {
   "cell_type": "code",
   "metadata": {},
   "source": [
    "# change the information in the client for your credentials\n",
    "my_client = CalculQuebecClient(\n",
    "    host=\"your host\",\n",
    "    user=\"your user\",\n",
    "    access_token=\"your access token\",\n",
    "    project_id=\"your project id\",\n",
    "    circuit_name=\"your circuit name\",  # optional\n",
    ")"
   ],
   "outputs": [],
   "execution_count": null
  },
  {
   "cell_type": "markdown",
   "metadata": {},
   "source": [
    "- passing the client to the device :"
   ]
  },
  {
   "cell_type": "code",
   "execution_count": 3,
   "metadata": {},
   "outputs": [],
   "source": [
    "# this will create a device that lets you communicate with MonarQ using your credentials\n",
    "dev = qml.device(\n",
    "    \"monarq.default\",\n",
    "    client=my_client,\n",
    "    shots=1000,\n",
    ")"
   ]
  }
 ],
 "metadata": {
  "kernelspec": {
   "display_name": "Python 3",
   "language": "python",
   "name": "python3"
  },
  "language_info": {
   "codemirror_mode": {
    "name": "ipython",
    "version": 3
   },
   "file_extension": ".py",
   "mimetype": "text/x-python",
   "name": "python",
   "nbconvert_exporter": "python",
   "pygments_lexer": "ipython3",
   "version": "3.10.11"
  }
 },
 "nbformat": 4,
 "nbformat_minor": 2
}
