{
 "cells": [
  {
   "cell_type": "markdown",
   "metadata": {},
   "source": [
    "## Configuration\n",
    "\n",
    "The default behaviour of MonarqDevice's transpiler goes as such :\n",
    "\n",
    "1. Decompose measures if they are not in the computational basis\n",
    "2. Decompose 3+ qubits gates and non-standard gates to a subset that is easier to optimize (clifford+t gates)\n",
    "2. Map the circuit's wires to the machines qubits by using the circuit's and machine's connectivity graphs\n",
    "3. If any 2+ qubit gates are not connected in given mapping, connect them using swaps\n",
    "4. Optimize the circuit (commute gates, merge rotations, remove inverses and trivial gates)\n",
    "5. Decompose non-native gates to native ones"
   ]
  },
  {
   "cell_type": "markdown",
   "metadata": {},
   "source": [
    "monarq.default has a default configuration, so you don't have to set one by yourself. "
   ]
  },
  {
   "cell_type": "code",
   "execution_count": null,
   "metadata": {},
   "outputs": [],
   "source": [
    "from pennylane_calculquebec.API.client import CalculQuebecClient\n",
    "import pennylane as qml\n",
    "\n",
    "# change the information in the client for your credentials\n",
    "my_client = CalculQuebecClient(\n",
    "    host=\"your host\",\n",
    "    user=\"your user\",\n",
    "    access_token=\"your access token\",\n",
    "    project_id=\"your project id\",\n",
    ")\n",
    "\n",
    "# no config passed in arguments = config = MonarqDefaultConfig\n",
    "dev = qml.device(\"monarq.default\", shots=1000, client=my_client)"
   ]
  },
  {
   "cell_type": "markdown",
   "metadata": {},
   "source": [
    "You can change the behaviour of the transpiler by passing a config object to the device. Tread carefully while using this feature because it could lead to your circuit not being run.\n",
    "\n",
    "Here's how to do it :\n"
   ]
  },
  {
   "cell_type": "markdown",
   "metadata": {},
   "source": [
    "1. import the config and classes that interest you:"
   ]
  },
  {
   "cell_type": "code",
   "execution_count": 2,
   "metadata": {},
   "outputs": [],
   "source": [
    "from pennylane_calculquebec.processing.config import (\n",
    "    MonarqDefaultConfig,\n",
    "    ProcessingConfig,\n",
    ")\n",
    "from pennylane_calculquebec.processing.steps import (\n",
    "    CliffordTDecomposition,\n",
    "    ASTAR,\n",
    "    Swaps,\n",
    "    IterativeCommuteAndMerge,\n",
    "    MonarqDecomposition,\n",
    "    DecomposeReadout,\n",
    ")"
   ]
  },
  {
   "cell_type": "markdown",
   "metadata": {},
   "source": [
    "For simplicity, we'll store the transpiling steps in variables : "
   ]
  },
  {
   "cell_type": "code",
   "execution_count": 3,
   "metadata": {},
   "outputs": [],
   "source": [
    "decomp_readout = DecomposeReadout()\n",
    "base_decomp = CliffordTDecomposition()\n",
    "placement = ASTAR(\"yamaska\")\n",
    "routing = Swaps(\"yamaska\")\n",
    "optimization = IterativeCommuteAndMerge()\n",
    "native_decomp = MonarqDecomposition()"
   ]
  },
  {
   "cell_type": "markdown",
   "metadata": {},
   "source": [
    "2. create a config object and set the behaviour you want"
   ]
  },
  {
   "cell_type": "code",
   "execution_count": 4,
   "metadata": {},
   "outputs": [],
   "source": [
    "# this is the default configuration (it is used by default in monarq.default)\n",
    "default_config = MonarqDefaultConfig(\"yamaska\")\n",
    "\n",
    "# This is an equivalent config, built up by hand using the TranspilerConfig base class\n",
    "default_config = ProcessingConfig(\n",
    "    decomp_readout, base_decomp, placement, routing, optimization, native_decomp\n",
    ")\n",
    "\n",
    "# Say you are confident that your circuit is well placed and routed, you can skip those steps by creating a custom config, and not using placement / routing steps\n",
    "custom_config = ProcessingConfig(\n",
    "    decomp_readout, base_decomp, optimization, native_decomp\n",
    ")"
   ]
  },
  {
   "cell_type": "markdown",
   "metadata": {},
   "source": [
    "3. pass the config object to the device, along with the client and other arguments"
   ]
  },
  {
   "cell_type": "code",
   "execution_count": 5,
   "metadata": {},
   "outputs": [],
   "source": [
    "dev = qml.device(\n",
    "    \"monarq.default\", shots=1000, client=my_client, processing_config=custom_config\n",
    ")"
   ]
  },
  {
   "cell_type": "markdown",
   "metadata": {},
   "source": [
    "There are a set of preset configurations that you can use. Each corresponds to a typical use case that are often met. Here are some of them"
   ]
  },
  {
   "cell_type": "code",
   "execution_count": 6,
   "metadata": {},
   "outputs": [],
   "source": [
    "from pennylane_calculquebec.processing.config import (\n",
    "    MonarqDefaultConfig,\n",
    "    MonarqDefaultConfigNoBenchmark,\n",
    "    NoPlaceNoRouteConfig,\n",
    "    EmptyConfig,\n",
    ")\n",
    "\n",
    "# this is the preset that is used by default when you dont set a config manually\n",
    "default = MonarqDefaultConfig(\"yamaska\")\n",
    "\n",
    "# this preset does the same thing as the default one, without the benchmarking acceptance tests in the placement and routing step\n",
    "no_benchmark = MonarqDefaultConfigNoBenchmark(\"yamaska\")\n",
    "\n",
    "# this preset skips the placement and routing part. Could be useful if you want to choose machine qubits and couplers manually\n",
    "no_place_no_route = NoPlaceNoRouteConfig()\n",
    "\n",
    "# this preset does nothing. It can be used if your circuit is manually transpiled.\n",
    "# Make sure your wires respect MonarQ's topology and that your gates are native to MonarQ.\n",
    "empty = EmptyConfig()"
   ]
  },
  {
   "cell_type": "markdown",
   "metadata": {},
   "source": [
    "### Benchmarks\n",
    "\n",
    "The transpiler uses benchmarks in the placement and routing part.\n",
    "Specifically, the state 1 readout fidelity and the cz gate fidelity are used to measure the qubit and coupler accuracy respectively.\n",
    "Those values are used to determine if qubits are working, but also to choose the best qubits and couplers for your circuits."
   ]
  },
  {
   "cell_type": "markdown",
   "metadata": {},
   "source": [
    "You can set the placement and routing steps not to use benchmarking if you want to. \n",
    "\n",
    "To do so, just set ```use_benchmark``` to ```False``` in the MonarqDefaultConfig's constructor"
   ]
  },
  {
   "cell_type": "code",
   "execution_count": 7,
   "metadata": {},
   "outputs": [],
   "source": [
    "my_config = MonarqDefaultConfig(\"yamaska\", False)\n",
    "\n",
    "# the former is the same as the following preset :\n",
    "my_config = MonarqDefaultConfigNoBenchmark(\"yamaska\")"
   ]
  },
  {
   "cell_type": "markdown",
   "metadata": {},
   "source": [
    "Alternatively, set ```use_benchmark``` to ```False``` in the placement / routing steps"
   ]
  },
  {
   "cell_type": "code",
   "execution_count": 9,
   "metadata": {},
   "outputs": [],
   "source": [
    "placement_no_benchmark = ASTAR(\"yamaska\", use_benchmark=False)\n",
    "routing_no_benchmark = Swaps(\"yamaska\", use_benchmark=False)\n",
    "\n",
    "# you can then create a custom configuration with your custom steps\n",
    "config_no_benchmark = ProcessingConfig(\n",
    "    decomp_readout,\n",
    "    base_decomp,\n",
    "    placement_no_benchmark,\n",
    "    routing_no_benchmark,\n",
    "    optimization,\n",
    "    native_decomp,\n",
    ")"
   ]
  },
  {
   "cell_type": "markdown",
   "metadata": {},
   "source": [
    "Even though there may be scenarios where it is beneficial to bypass the transpiling capabilites of the plugin, it is strongly recommended to stick to the default configuration. \n",
    "\n",
    "You don't have to pass any configuration to the device to use the default preset."
   ]
  },
  {
   "cell_type": "code",
   "execution_count": 10,
   "metadata": {},
   "outputs": [],
   "source": [
    "dev = qml.device(\"monarq.default\", shots=1000, client=my_client)\n",
    "\n",
    "# the former is the same as doing the latter\n",
    "\n",
    "my_config = MonarqDefaultConfig(\"yamaska\")\n",
    "\n",
    "dev = qml.device(\n",
    "    \"monarq.default\", shots=1000, client=my_client, processing_config=my_config\n",
    ")"
   ]
  }
 ],
 "metadata": {
  "kernelspec": {
   "display_name": "Python 3",
   "language": "python",
   "name": "python3"
  },
  "language_info": {
   "codemirror_mode": {
    "name": "ipython",
    "version": 3
   },
   "file_extension": ".py",
   "mimetype": "text/x-python",
   "name": "python",
   "nbconvert_exporter": "python",
   "pygments_lexer": "ipython3",
   "version": "3.10.11"
  }
 },
 "nbformat": 4,
 "nbformat_minor": 2
}
