{
 "cells": [
  {
   "cell_type": "markdown",
   "metadata": {},
   "source": [
    "## Backends\n",
    "\n",
    "There are three backends that one can use to run quantum circuits : \n",
    "- ```monarq.default``` is the backend you should use if you want to run a circuit on MonarQ\n",
    "- ```monarq.sim``` is a noisy simulation based on MonarQ benchmarks\n",
    "- ```monarq.backup``` is a backup machine that will only be used when MonarQ is not available"
   ]
  },
  {
   "cell_type": "code",
   "execution_count": 1,
   "metadata": {},
   "outputs": [
    {
     "data": {
      "text/plain": [
       "<MonarqBackup device (wires=4, shots=1000) at 0x10a216244c0>"
      ]
     },
     "execution_count": 1,
     "metadata": {},
     "output_type": "execute_result"
    }
   ],
   "source": [
    "import pennylane as qml\n",
    "from pennylane_calculquebec.API.client import CalculQuebecClient\n",
    "\n",
    "my_client = CalculQuebecClient(\n",
    "    host=\"your host\",\n",
    "    user=\"your user\",\n",
    "    access_token=\"your access token\",\n",
    "    project_id=\"your project id\",\n",
    ")\n",
    "\n",
    "qml.device(\"monarq.default\", wires=4, client=my_client, shots=1000)\n",
    "qml.device(\"monarq.sim\", wires=4, client=my_client, shots=1000)\n",
    "qml.device(\"monarq.backup\", wires=4, client=my_client, shots=1000)"
   ]
  },
  {
   "cell_type": "markdown",
   "metadata": {},
   "source": [
    "When working with configurations, you need to specify which machine you want the configuration to run on. "
   ]
  },
  {
   "cell_type": "code",
   "execution_count": 2,
   "metadata": {},
   "outputs": [
    {
     "data": {
      "text/plain": [
       "<MonarqBackup device (wires=4, shots=1000) at 0x10a61159810>"
      ]
     },
     "execution_count": 2,
     "metadata": {},
     "output_type": "execute_result"
    }
   ],
   "source": [
    "from pennylane_calculquebec.processing.config import MonarqDefaultConfig\n",
    "\n",
    "config_yamaska = MonarqDefaultConfig(\n",
    "    machine_name=\"yamaska\"\n",
    ")  # yamaska is the code name of MonarQ\n",
    "config_yukon = MonarqDefaultConfig(\n",
    "    machine_name=\"yukon\"\n",
    ")  # yukon is the code name for the backup machine\n",
    "\n",
    "qml.device(\n",
    "    \"monarq.default\",\n",
    "    wires=4,\n",
    "    client=my_client,\n",
    "    shots=1000,\n",
    "    processing_config=config_yamaska,\n",
    ")\n",
    "\n",
    "### make sure the machine specified in the configuration matches the machine in the device ###\n",
    "\n",
    "# for instance, this might not work since monarq.backup should use a \"yukon\" configuration\n",
    "qml.device(\n",
    "    \"monarq.backup\",\n",
    "    wires=4,\n",
    "    client=my_client,\n",
    "    shots=1000,\n",
    "    processing_config=config_yamaska,\n",
    ")"
   ]
  },
  {
   "cell_type": "markdown",
   "metadata": {},
   "source": [
    "When working with steps, you might need to specify which machine you want the step to run on"
   ]
  },
  {
   "cell_type": "code",
   "execution_count": 3,
   "metadata": {},
   "outputs": [],
   "source": [
    "from pennylane_calculquebec.processing.steps import (\n",
    "    Swaps,\n",
    "    ASTAR,\n",
    "    VF2,\n",
    "    ISMAGS,\n",
    "    IBUReadoutMitigation,\n",
    "    MatrixReadoutMitigation,\n",
    "    GateNoiseSimulation,\n",
    "    ReadoutNoiseSimulation,\n",
    ")\n",
    "\n",
    "swaps = Swaps(\"yamaska\")\n",
    "astar = ASTAR(\"yamaska\")\n",
    "vf2 = VF2(\"yamaska\")\n",
    "ismags = ISMAGS(\"yamaska\")\n",
    "\n",
    "mitig1 = IBUReadoutMitigation(\"yamaska\")\n",
    "mitig2 = MatrixReadoutMitigation(\"yamaska\")\n",
    "sim1 = GateNoiseSimulation(\"yamaska\")\n",
    "sim2 = ReadoutNoiseSimulation(\"yamaska\")"
   ]
  }
 ],
 "metadata": {
  "kernelspec": {
   "display_name": "Python 3",
   "language": "python",
   "name": "python3"
  },
  "language_info": {
   "codemirror_mode": {
    "name": "ipython",
    "version": 3
   },
   "file_extension": ".py",
   "mimetype": "text/x-python",
   "name": "python",
   "nbconvert_exporter": "python",
   "pygments_lexer": "ipython3",
   "version": "3.10.11"
  }
 },
 "nbformat": 4,
 "nbformat_minor": 2
}
