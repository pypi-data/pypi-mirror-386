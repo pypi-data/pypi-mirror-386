{
 "cells": [
  {
   "cell_type": "markdown",
   "metadata": {},
   "source": [
    "## MonarQ's transpiler\n",
    "\n",
    "The gates and wires that you set in your circuit will not necessarly be used as is on MonarQ itself. \n",
    "\n",
    "Indeed, MonarQ has a specific connectivity and set of gates that limit what arrangement of gates and wires can be used. \n",
    "\n",
    "This is what the process of transpiling is about. monarq.default chooses qubits to act on, and native operations to represent your circuit behind the scene.\n",
    "\n",
    "You typically don't have to do anything in order to have the transpiling occur on your circuit."
   ]
  },
  {
   "cell_type": "code",
   "execution_count": 3,
   "metadata": {},
   "outputs": [],
   "source": [
    "from pennylane_calculquebec.API.client import CalculQuebecClient\n",
    "import pennylane as qml"
   ]
  },
  {
   "cell_type": "code",
   "execution_count": null,
   "metadata": {},
   "outputs": [
    {
     "name": "stdout",
     "output_type": "stream",
     "text": [
      "{'000': 415, '001': 92, '010': 45, '011': 60, '100': 30, '101': 34, '110': 84, '111': 240}\n"
     ]
    }
   ],
   "source": [
    "# change the information in the client for your credentials\n",
    "my_client = CalculQuebecClient(\n",
    "    host=\"your host\",\n",
    "    user=\"your user\",\n",
    "    access_token=\"your access token\",\n",
    "    project_id=\"your project id\",\n",
    ")\n",
    "\n",
    "# no configuration argument => config is set to MonarqDefaultConfig\n",
    "dev = qml.device(\"monarq.default\", shots=1000, wires=[0, 1, 2], client=my_client)\n",
    "\n",
    "dev.circuit_name = \"your circuit\"\n",
    "dev.project = \"your project\"\n",
    "\n",
    "\n",
    "dev.circuit_name = \"your circuit\"\n",
    "dev.project = \"your project\"\n",
    "\n",
    "\n",
    "@qml.qnode(dev)\n",
    "def circuit():\n",
    "    qml.Hadamard(0)\n",
    "    qml.CNOT([0, 1])\n",
    "    qml.CNOT([1, 2])\n",
    "    return qml.counts(wires=[0, 1, 2])\n",
    "\n",
    "\n",
    "results = (\n",
    "    circuit()\n",
    ")  # transpiling happens automatically, and your circuit is executed on MonarQ\n",
    "print(results)"
   ]
  },
  {
   "cell_type": "markdown",
   "metadata": {},
   "source": [
    "The usual behaviour of the transpiler is the following : \n",
    "1. decompose the measures if they are not in the [computational basis](https://docs.pennylane.ai/en/stable/introduction/measurements.html)\n",
    "2. decompose the circuit to the clifford + T gate set\n",
    "3. map the circuit to the machine's topology using a pathfinding heuristic\n",
    "4. route the unconnected 2 qubit gates using swaps\n",
    "5. optimize by decomposing iteratively to RX, RZ and CZ, commuting, merging and cancelling inverses and trivial gates\n",
    "6. decomposing to MonarQ's native gate set"
   ]
  },
  {
   "cell_type": "markdown",
   "metadata": {},
   "source": [
    "### Configurations\n",
    "\n",
    "It is possible to change the behaviour of the transpiler by explicitely setting which configuration should be used. \n",
    "\n",
    "This allows you to change transpiling steps, or even add new steps to the processing pipelines.\n",
    "\n",
    "See [configurations](https://github.com/calculquebec/pennylane-calculquebec/blob/main/doc/for_developers/using_configurations.ipynb) for more information."
   ]
  },
  {
   "cell_type": "markdown",
   "metadata": {},
   "source": [
    "### Steps\n",
    "\n",
    "You can also create new, custom steps to add to the processing pipeline. \n",
    "\n",
    "See [custom steps](https://github.com/calculquebec/pennylane-calculquebec/blob/main/doc/for_developers/using_custom_steps.ipynb) for mor information."
   ]
  }
 ],
 "metadata": {
  "kernelspec": {
   "display_name": "Python 3",
   "language": "python",
   "name": "python3"
  },
  "language_info": {
   "codemirror_mode": {
    "name": "ipython",
    "version": 3
   },
   "file_extension": ".py",
   "mimetype": "text/x-python",
   "name": "python",
   "nbconvert_exporter": "python",
   "pygments_lexer": "ipython3",
   "version": "3.10.11"
  }
 },
 "nbformat": 4,
 "nbformat_minor": 2
}
