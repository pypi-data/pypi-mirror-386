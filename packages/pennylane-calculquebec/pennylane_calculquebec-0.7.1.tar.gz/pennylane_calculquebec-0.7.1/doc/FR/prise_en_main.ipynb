{
 "cells": [
  {
   "cell_type": "markdown",
   "metadata": {},
   "source": [
    "# Monarq Device\n",
    "\n",
    "Ce document a pour objectif d'expliquer ce dont vous avez besoin pour utiliser MonarqDevice.\n",
    "\n",
    "Ce \"device\" vous permet de communiquer directement avec MonarQ. MonarqDevice est aussi équipé de transpileur fait par Calcul Québec, qui est optimisé pour MonarQ.\n"
   ]
  },
  {
   "cell_type": "markdown",
   "metadata": {
    "vscode": {
     "languageId": "plaintext"
    }
   },
   "source": [
    "## Usage typique\n",
    "\n",
    "Voici la manière typique d'utiliser le device ```monarq.default``` :"
   ]
  },
  {
   "cell_type": "markdown",
   "metadata": {},
   "source": [
    "0. Tout d'abord, assurez-vous d'avoir la version Python ```3.10.X``` d'installée."
   ]
  },
  {
   "cell_type": "markdown",
   "metadata": {},
   "source": [
    "1. Installez le plugin (vous pouvez vous référer au README)"
   ]
  },
  {
   "cell_type": "markdown",
   "metadata": {},
   "source": [
    "2. Importez les dépendances :"
   ]
  },
  {
   "cell_type": "code",
   "execution_count": 1,
   "metadata": {},
   "outputs": [],
   "source": [
    "# Cette ligne importe la librairie PennyLane. Elle contient tout ce dont vous avez besoin pour la programmation quantique.\n",
    "import pennylane as qml\n",
    "\n",
    "# Cette ligne importe la classe client, nécessaire pour s'authentifier sur MonarQ\n",
    "from pennylane_calculquebec.API.client import CalculQuebecClient"
   ]
  },
  {
   "cell_type": "markdown",
   "metadata": {},
   "source": "3. Créez un `Client` pour votre device. Pour plus de détails sur l'utilisation de vos informations d'authentification et de l'identifiant de projet, visitez [cette page](https://github.com/calculquebec/pennylane-calculquebec/blob/main/doc/for_developers/using_client.ipynb)"
  },
  {
   "cell_type": "code",
   "execution_count": 2,
   "metadata": {},
   "outputs": [],
   "source": [
    "# Voilà comment créer un client. Changez les valeurs dans la parenthèse pour vos identifiants\n",
    "my_client = CalculQuebecClient(\n",
    "    host=\"your host\",\n",
    "    user=\"your user\",\n",
    "    access_token=\"your access token\",\n",
    "    project_id=\"your project id\",  # plus d'information sur ce paramètre dans using_client.ipynb\n",
    ")"
   ]
  },
  {
   "cell_type": "markdown",
   "metadata": {},
   "source": [
    "4. Créez un device en utilisant votre objet client"
   ]
  },
  {
   "cell_type": "markdown",
   "metadata": {},
   "source": [
    "Il y a 3 arguments obligatoires pour le device : \n",
    "- le nom ```monarq.default```\n",
    "- le client\n",
    "- le nombre d'échantillons\n",
    "\n",
    "Il y a 2 arguments optionnels : \n",
    "- Le nombre de qubits (un entier), ou les qubits exacts (un tableau)\n",
    "- Une [configuration](https://github.com/calculquebec/pennylane-calculquebec/blob/main/doc/for_developers/using_configurations.ipynb)"
   ]
  },
  {
   "cell_type": "code",
   "execution_count": 3,
   "metadata": {},
   "outputs": [],
   "source": [
    "# Vous pouvez définir le nombre de qubits (cela créera un ensemble de qubits de 0 à n exclusivement)\n",
    "dev = qml.device(\n",
    "    \"monarq.default\",\n",
    "    client=my_client,\n",
    "    shots=1000,\n",
    "    wires=3,  # celà définira les qubits [0, 1, 2], soit 3 qubits\n",
    ")\n",
    "\n",
    "# Vous pouvez aussi définir quels qubits exactement devront être utilisés\n",
    "dev = qml.device(\n",
    "    \"monarq.default\",\n",
    "    client=my_client,\n",
    "    shots=1000,\n",
    "    wires=[4, 1, 5],  # celà définira les qubits [4, 1, 5]\n",
    ")\n",
    "\n",
    "# Vous n'êtes pas obligé de spécifier de qubits. Le device se fiera alors aux qubits utilisés par les opérations et mesures de votre circuit\n",
    "dev = qml.device(\n",
    "    \"monarq.default\",\n",
    "    client=my_client,\n",
    "    shots=1000,\n",
    ")"
   ]
  },
  {
   "cell_type": "markdown",
   "metadata": {},
   "source": [
    "Il faut noter que les qubits que vous spécifiez pour votre device et vos opérations ne seront pas nécessairement utilisés sur MonarQ. Cela est dû aux phases de placement et de routage du transpileur. \n",
    "\n",
    "Pour plus d'information, lisez [using transpiler](https://github.com/calculquebec/pennylane-calculquebec/blob/main/doc/for_developers/using_transpiler.ipynb)"
   ]
  },
  {
   "cell_type": "markdown",
   "metadata": {},
   "source": [
    "5. Créez votre circuit"
   ]
  },
  {
   "cell_type": "code",
   "execution_count": 4,
   "metadata": {},
   "outputs": [
    {
     "name": "stdout",
     "output_type": "stream",
     "text": [
      "0: ──X90────╭●──────────────┤ ╭Counts\n",
      "4: ──X90──Z─╰Z──X90─╭●──────┤ ├Counts\n",
      "8: ──X90──Z─────────╰Z──X90─┤ ╰Counts\n"
     ]
    }
   ],
   "source": [
    "# Cette ligne indique que la fonction qui suit est une fonction quantique (un qnode)\n",
    "@qml.qnode(dev)\n",
    "# Ceci est votre fonction quantique. Elle sera utilisée plus tard pour exécuter votre circuit\n",
    "def circuit():\n",
    "    # Ceci est une porte d'Hadamard. Elle met le qubit en superposition.\n",
    "    qml.Hadamard(wires=0)\n",
    "    # Ceci est une porte CNOT. Elle connecte les qubits 0 et 1.\n",
    "    qml.CNOT(wires=[0, 1])\n",
    "    # Ceci est aussi une porte CNOT, mais elle agit sur les qubits 1 et 2.\n",
    "    qml.CNOT(wires=[1, 2])\n",
    "\n",
    "    # Cette instruction effectuera une mesure sur tous les qubits du circuits (trois qubits, dans ce cas).\n",
    "    # Vous pouvez aussi définir sur quels qubits vous voulez effectuer la mesure, en utilisant l'argument \"wires\"\n",
    "    # return qml.counts(wires=[0, 1]) # Ceci appliquerait une mesure sur les fils 0 et 1.\n",
    "    return qml.counts()\n",
    "\n",
    "\n",
    "# Cette ligne montre votre circuit avant la compilation\n",
    "result = qml.draw(circuit, level=\"device\")()\n",
    "print(result)"
   ]
  },
  {
   "cell_type": "markdown",
   "metadata": {},
   "source": [
    "Pour plus d'information à propos des opérations en PennyLane, cliquez [ici](https://docs.pennylane.ai/en/stable/introduction/operations.html)"
   ]
  },
  {
   "cell_type": "markdown",
   "metadata": {},
   "source": [
    "6. Exécutez le circuit et utilisez les résultats comme vous le désirez"
   ]
  },
  {
   "cell_type": "code",
   "execution_count": 5,
   "metadata": {},
   "outputs": [
    {
     "name": "stdout",
     "output_type": "stream",
     "text": [
      "{'000': array(480), '001': array(24), '010': array(6), '011': array(37), '100': array(38), '101': array(43), '110': array(39), '111': array(333)}\n"
     ]
    }
   ],
   "source": [
    "# Cette ligne exécute le circuit et retourne les résultats, les plaçant dans la variable \"results\"\n",
    "results = circuit()\n",
    "# Cette ligne montre le résultat entant que dictionnaire.\n",
    "print(results)"
   ]
  },
  {
   "cell_type": "markdown",
   "metadata": {},
   "source": [
    "## Plus d'information\n",
    "\n",
    "- [clients](https://github.com/calculquebec/pennylane-calculquebec/blob/main/doc/for_developers/using_client.ipynb)\n",
    "- [configurations](https://github.com/calculquebec/pennylane-calculquebec/blob/main/doc/for_developers/using_configurations.ipynb)\n",
    "- [transpileur](https://github.com/calculquebec/pennylane-calculquebec/blob/main/doc/for_developers/using_transpiler.ipynb)\n",
    "- [étapes de processing](https://github.com/calculquebec/pennylane-calculquebec/blob/main/doc/for_developers/using_custom_steps.ipynb)\n",
    "- [portes customs](https://github.com/calculquebec/pennylane-calculquebec/blob/main/doc/for_developers/using_custom_gates.ipynb)\n",
    "- [api adapter](https://github.com/calculquebec/pennylane-calculquebec/blob/main/doc/for_developers/using_api_adapter.ipynb)"
   ]
  }
 ],
 "metadata": {
  "kernelspec": {
   "display_name": "Python 3",
   "language": "python",
   "name": "python3"
  },
  "language_info": {
   "codemirror_mode": {
    "name": "ipython",
    "version": 3
   },
   "file_extension": ".py",
   "mimetype": "text/x-python",
   "name": "python",
   "nbconvert_exporter": "python",
   "pygments_lexer": "ipython3",
   "version": "3.10.11"
  }
 },
 "nbformat": 4,
 "nbformat_minor": 2
}
