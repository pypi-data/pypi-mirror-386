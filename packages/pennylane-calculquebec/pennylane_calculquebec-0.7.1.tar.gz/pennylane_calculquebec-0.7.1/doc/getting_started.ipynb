{
 "cells": [
  {
   "cell_type": "markdown",
   "metadata": {},
   "source": [
    "# Monarq Device\n",
    "\n",
    "This document is aimed to explain what you need to know in order to use the MonarqDevice.\n",
    "\n",
    "This device lets you communicate directly with MonarQ. The MonarqDevice is also equipped with a compiler made by Calcul Quebec, which is optimized to work on MonarQ.\n"
   ]
  },
  {
   "cell_type": "markdown",
   "metadata": {},
   "source": "Pour la version française, visitez [cette page](https://github.com/calculquebec/pennylane-calculquebec/blob/main/doc/FR/prise_en_main.ipynb)."
  },
  {
   "cell_type": "markdown",
   "metadata": {
    "vscode": {
     "languageId": "plaintext"
    }
   },
   "source": [
    "## Default usage\n",
    "\n",
    "Here is a typical workflow for using the ```monarq.default``` device : "
   ]
  },
  {
   "cell_type": "markdown",
   "metadata": {},
   "source": "0. First and foremost, you have to make sure to have python version ```3.10.x``` installed"
  },
  {
   "cell_type": "markdown",
   "metadata": {},
   "source": "1. Install the plugin (refer to the [README](https://github.com/calculquebec/pennylane-calculquebec))"
  },
  {
   "cell_type": "markdown",
   "metadata": {},
   "source": [
    "2. Import dependencies:"
   ]
  },
  {
   "cell_type": "code",
   "execution_count": null,
   "metadata": {},
   "outputs": [],
   "source": [
    "# this line imports the pennylane library. It contains everything necessary for quantum programming\n",
    "import pennylane as qml\n",
    "\n",
    "# this line imports the client class which is required for authenticating with MonarQ\n",
    "from pennylane_calculquebec.API.client import CalculQuebecClient"
   ]
  },
  {
   "cell_type": "markdown",
   "metadata": {},
   "source": "3. Create a `Client` for your device. For more details on how to use your credentials and project identifier, see [here](https://github.com/calculquebec/pennylane-calculquebec/blob/main/doc/for_developers/using_client.ipynb)."
  },
  {
   "cell_type": "code",
   "execution_count": null,
   "metadata": {},
   "outputs": [],
   "source": [
    "# This is how you create a client. Change the values in the parentheses for your credentials\n",
    "my_client = CalculQuebecClient(\n",
    "    host=\"your host\",\n",
    "    user=\"your user\",\n",
    "    access_token=\"your access token\",\n",
    "    project_id=\"your project id\",  # more information about this parameter in using_client.ipynb\n",
    ")"
   ]
  },
  {
   "cell_type": "markdown",
   "metadata": {},
   "source": "4. Create a device using your client"
  },
  {
   "cell_type": "markdown",
   "metadata": {},
   "source": [
    "There are 3 mandatory arguments for the device : \n",
    "- the name ```monarq.default```\n",
    "- a client\n",
    "- a number of shots (from 1 to 1000)\n",
    "\n",
    "There are 2 optional arguments : \n",
    "- a number of wire or the exact wires (as an array)\n",
    "- a [configuration](https://github.com/calculquebec/pennylane-calculquebec/blob/main/doc/for_developers/using_configurations.ipynb)"
   ]
  },
  {
   "cell_type": "code",
   "execution_count": null,
   "metadata": {},
   "outputs": [],
   "source": [
    "# You can set the wire amount (creating a range of wires from 0 inclusive to n exclusive)\n",
    "dev = qml.device(\n",
    "    \"monarq.default\",\n",
    "    client=my_client,\n",
    "    shots=1000,\n",
    "    wires=3,  # this will set wires = [0, 1, 2]. ie 3 wires\n",
    ")\n",
    "\n",
    "# You can also set which wires you want to act on explicitely\n",
    "dev = qml.device(\n",
    "    \"monarq.default\",\n",
    "    client=my_client,\n",
    "    shots=1000,\n",
    "    wires=[4, 1, 5],  # this will set wires = [4, 1, 5]\n",
    ")\n",
    "\n",
    "# You don't have to set any wires. This will rely on wires that have been used on operations and measurements from the circuit\n",
    "dev = qml.device(\n",
    "    \"monarq.default\",\n",
    "    client=my_client,\n",
    "    shots=1000,\n",
    ")"
   ]
  },
  {
   "cell_type": "markdown",
   "metadata": {},
   "source": [
    "It should be noted that because you specify wires on gates and on your device does not mean that those wires will be used on MonarQ. \n",
    "\n",
    "For more information, see [using transpiler](https://github.com/calculquebec/pennylane-calculquebec/blob/main/doc/for_developers/using_transpiler.ipynb)"
   ]
  },
  {
   "cell_type": "markdown",
   "metadata": {},
   "source": [
    "5. create your circuit"
   ]
  },
  {
   "cell_type": "code",
   "execution_count": null,
   "metadata": {},
   "outputs": [],
   "source": [
    "# this line indicates that the function underneath is a quantum function (qnode)\n",
    "@qml.qnode(dev)\n",
    "# this is the name of your quantum function. It will be used later for executing your circuit\n",
    "def circuit():\n",
    "    # this is a Hadamard gate. it creates superposition.\n",
    "    qml.Hadamard(wires=0)\n",
    "    # this is a CNOT gate. it connects qubits 0 and 1.\n",
    "    qml.CNOT(wires=[0, 1])\n",
    "    # this is also a CNOT gate, but it acts on qubits 1 and 2\n",
    "    qml.CNOT(wires=[1, 2])\n",
    "\n",
    "    # this will measure every wire from the circuit (3 wires in this case).\n",
    "    # You can also set which wires you want to measure using the wires argument\n",
    "    # return qml.counts(wires=[0, 1]) # will measure wires 0 and 1\n",
    "    return qml.counts()\n",
    "\n",
    "\n",
    "# this wil show you what your circuit looks like\n",
    "print(qml.draw(circuit)())"
   ]
  },
  {
   "cell_type": "markdown",
   "metadata": {},
   "source": [
    "For more information  about pennylane operations, click [here](https://docs.pennylane.ai/en/stable/introduction/operations.html)"
   ]
  },
  {
   "cell_type": "markdown",
   "metadata": {},
   "source": [
    "6. run your circuit and use results as you see fit"
   ]
  },
  {
   "cell_type": "code",
   "execution_count": null,
   "metadata": {},
   "outputs": [],
   "source": [
    "# this line runs the circuit and returns the results in the \"results\" variable\n",
    "results = circuit()\n",
    "# this line shows the results in a dictionary.\n",
    "print(results)"
   ]
  },
  {
   "cell_type": "markdown",
   "metadata": {},
   "source": [
    "## more information \n",
    "\n",
    "- [clients](https://github.com/calculquebec/pennylane-calculquebec/blob/main/doc/for_developers/using_client.ipynb)\n",
    "- [processor configs](https://github.com/calculquebec/pennylane-calculquebec/blob/main/doc/for_developers/using_configurations.ipynb)\n",
    "- [the transpiler](https://github.com/calculquebec/pennylane-calculquebec/blob/main/doc/for_developers/using_transpiler.ipynb)\n",
    "- [custom processing steps](https://github.com/calculquebec/pennylane-calculquebec/blob/main/doc/for_developers/using_custom_steps.ipynb)\n",
    "- [custom gates](https://github.com/calculquebec/pennylane-calculquebec/blob/main/doc/for_developers/using_custom_gates.ipynb)\n",
    "- [api adapter](https://github.com/calculquebec/pennylane-calculquebec/blob/main/doc/for_developers/using_api_adapter.ipynb)"
   ]
  }
 ],
 "metadata": {
  "kernelspec": {
   "display_name": ".venv",
   "language": "python",
   "name": "python3"
  },
  "language_info": {
   "codemirror_mode": {
    "name": "ipython",
    "version": 3
   },
   "file_extension": ".py",
   "mimetype": "text/x-python",
   "name": "python",
   "nbconvert_exporter": "python",
   "pygments_lexer": "ipython3",
   "version": "3.10.11"
  }
 },
 "nbformat": 4,
 "nbformat_minor": 2
}
