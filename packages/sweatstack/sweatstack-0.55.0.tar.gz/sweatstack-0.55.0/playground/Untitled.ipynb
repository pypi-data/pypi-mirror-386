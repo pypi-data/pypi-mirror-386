{
 "cells": [
  {
   "cell_type": "code",
   "execution_count": 1,
   "id": "e6b6073d-8dfe-47c1-a119-36a52e7a3027",
   "metadata": {},
   "outputs": [],
   "source": [
    "import sweatstack as ss"
   ]
  },
  {
   "cell_type": "code",
   "execution_count": 2,
   "id": "7b996cc3-77a9-4dfa-8994-bdfd62e7acc2",
   "metadata": {},
   "outputs": [
    {
     "data": {
      "application/vnd.jupyter.widget-view+json": {
       "model_id": "5859693fa419439da7eed3caec5c83f8",
       "version_major": 2,
       "version_minor": 0
      },
      "text/plain": [
       "Dropdown(description='Select:', options=(('Aart Goossens', UserSummary(id='367e641960564f7c', first_name='Aart…"
      ]
     },
     "metadata": {},
     "output_type": "display_data"
    },
    {
     "name": "stdout",
     "output_type": "stream",
     "text": [
      "False id='367e641960564f7c' first_name='Aart' last_name='Goossens' scopes=[<Scope.data_read: 'data:read'>, <Scope.data_write: 'data:write'>, <Scope.openid: 'openid'>, <Scope.profile: 'profile'>] display_name='Aart Goossens'\n"
     ]
    },
    {
     "ename": "KeyboardInterrupt",
     "evalue": "",
     "output_type": "error",
     "traceback": [
      "\u001b[0;31m---------------------------------------------------------------------------\u001b[0m",
      "\u001b[0;31mKeyboardInterrupt\u001b[0m                         Traceback (most recent call last)",
      "Cell \u001b[0;32mIn[2], line 1\u001b[0m\n\u001b[0;32m----> 1\u001b[0m \u001b[43mss\u001b[49m\u001b[38;5;241;43m.\u001b[39;49m\u001b[43mswitch_user\u001b[49m\u001b[43m(\u001b[49m\u001b[43m)\u001b[49m\n",
      "File \u001b[0;32m~/projects/sweatstack-python/src/sweatstack/client.py:689\u001b[0m, in \u001b[0;36m_generate_singleton_methods.<locals>.create_singleton_method.<locals>.singleton_method\u001b[0;34m(*args, **kwargs)\u001b[0m\n\u001b[1;32m    687\u001b[0m \u001b[38;5;129m@wraps\u001b[39m(bound_method)\n\u001b[1;32m    688\u001b[0m \u001b[38;5;28;01mdef\u001b[39;00m\u001b[38;5;250m \u001b[39m\u001b[38;5;21msingleton_method\u001b[39m(\u001b[38;5;241m*\u001b[39margs: Any, \u001b[38;5;241m*\u001b[39m\u001b[38;5;241m*\u001b[39mkwargs: Any) \u001b[38;5;241m-\u001b[39m\u001b[38;5;241m>\u001b[39m Any:\n\u001b[0;32m--> 689\u001b[0m     \u001b[38;5;28;01mreturn\u001b[39;00m \u001b[43mbound_method\u001b[49m\u001b[43m(\u001b[49m\u001b[38;5;241;43m*\u001b[39;49m\u001b[43margs\u001b[49m\u001b[43m,\u001b[49m\u001b[43m \u001b[49m\u001b[38;5;241;43m*\u001b[39;49m\u001b[38;5;241;43m*\u001b[39;49m\u001b[43mkwargs\u001b[49m\u001b[43m)\u001b[49m\n",
      "File \u001b[0;32m~/projects/sweatstack-python/src/sweatstack/client.py:174\u001b[0m, in \u001b[0;36mDelegationMixin.switch_user\u001b[0;34m(self, user_id)\u001b[0m\n\u001b[1;32m    172\u001b[0m \u001b[38;5;28;01mif\u001b[39;00m user_id \u001b[38;5;129;01mis\u001b[39;00m \u001b[38;5;28;01mNone\u001b[39;00m:\n\u001b[1;32m    173\u001b[0m     users \u001b[38;5;241m=\u001b[39m \u001b[38;5;28mself\u001b[39m\u001b[38;5;241m.\u001b[39mlist_users()\n\u001b[0;32m--> 174\u001b[0m     selected_user \u001b[38;5;241m=\u001b[39m \u001b[38;5;28;43mself\u001b[39;49m\u001b[38;5;241;43m.\u001b[39;49m\u001b[43m_interactive_dropdown\u001b[49m\u001b[43m(\u001b[49m\n\u001b[1;32m    175\u001b[0m \u001b[43m        \u001b[49m\u001b[43m[\u001b[49m\u001b[43m(\u001b[49m\u001b[43muser\u001b[49m\u001b[38;5;241;43m.\u001b[39;49m\u001b[43mdisplay_name\u001b[49m\u001b[43m,\u001b[49m\u001b[43m \u001b[49m\u001b[43muser\u001b[49m\u001b[43m)\u001b[49m\u001b[43m \u001b[49m\u001b[38;5;28;43;01mfor\u001b[39;49;00m\u001b[43m \u001b[49m\u001b[43muser\u001b[49m\u001b[43m \u001b[49m\u001b[38;5;129;43;01min\u001b[39;49;00m\u001b[43m \u001b[49m\u001b[43musers\u001b[49m\u001b[43m]\u001b[49m\n\u001b[1;32m    176\u001b[0m \u001b[43m    \u001b[49m\u001b[43m)\u001b[49m\n\u001b[1;32m    177\u001b[0m     user_id \u001b[38;5;241m=\u001b[39m selected_user\u001b[38;5;241m.\u001b[39mid\n\u001b[1;32m    179\u001b[0m token_response \u001b[38;5;241m=\u001b[39m \u001b[38;5;28mself\u001b[39m\u001b[38;5;241m.\u001b[39m_get_delegated_token(user_id)\n",
      "File \u001b[0;32m~/projects/sweatstack-python/src/sweatstack/client.py:155\u001b[0m, in \u001b[0;36mJupyterInteractivityMixin._interactive_dropdown\u001b[0;34m(self, options, selected)\u001b[0m\n\u001b[1;32m    153\u001b[0m \u001b[38;5;28mprint\u001b[39m(selection_made, selected_user)\n\u001b[1;32m    154\u001b[0m \u001b[38;5;28;01mwhile\u001b[39;00m \u001b[38;5;129;01mnot\u001b[39;00m selection_made:\n\u001b[0;32m--> 155\u001b[0m     \u001b[43mtime\u001b[49m\u001b[38;5;241;43m.\u001b[39;49m\u001b[43msleep\u001b[49m\u001b[43m(\u001b[49m\u001b[38;5;241;43m0.1\u001b[39;49m\u001b[43m)\u001b[49m\n\u001b[1;32m    157\u001b[0m \u001b[38;5;28;01mreturn\u001b[39;00m selected_user \u001b[38;5;129;01mor\u001b[39;00m dropdown\u001b[38;5;241m.\u001b[39mvalue\n",
      "\u001b[0;31mKeyboardInterrupt\u001b[0m: "
     ]
    }
   ],
   "source": [
    "ss.switch_user()"
   ]
  },
  {
   "cell_type": "code",
   "execution_count": null,
   "id": "f1aba308-26aa-4e02-ad0d-0affc25d70c3",
   "metadata": {},
   "outputs": [],
   "source": [
    "ss.get_latest_activity()"
   ]
  },
  {
   "cell_type": "code",
   "execution_count": 5,
   "id": "4cc66539-6b9b-4da1-9ea3-76b0921445bb",
   "metadata": {},
   "outputs": [
    {
     "name": "stdout",
     "output_type": "stream",
     "text": [
      "Hello, please push the continue button\n"
     ]
    },
    {
     "data": {
      "application/vnd.jupyter.widget-view+json": {
       "model_id": "20b55657b57a4618b94024f2c26be2da",
       "version_major": 2,
       "version_minor": 0
      },
      "text/plain": [
       "Button(description='continue', style=ButtonStyle())"
      ]
     },
     "metadata": {},
     "output_type": "display_data"
    },
    {
     "data": {
      "application/vnd.jupyter.widget-view+json": {
       "model_id": "5b5feae0d01145a4b9ef1f6bbc2a5595",
       "version_major": 2,
       "version_minor": 0
      },
      "text/plain": [
       "Output()"
      ]
     },
     "execution_count": 5,
     "metadata": {},
     "output_type": "execute_result"
    }
   ],
   "source": [
    "import ipywidgets as widgets\n",
    "from IPython.display import display\n",
    "output = widgets.Output()\n",
    "\n",
    "@output.capture(clear_output=False,wait=True) # based on https://github.com/jupyter-widgets/ipywidgets/issues/1846 and https://ipywidgets.readthedocs.io/en/latest/examples/Output%20Widget.html\n",
    "def sayHello(b):\n",
    "    print(\"You have pushed the button, congratulations I guess.\")\n",
    "\n",
    "run_button = widgets.Button(\n",
    "      description = 'continue'\n",
    ")\n",
    "print(\"Hello, please push the continue button\")\n",
    "run_button.on_click(sayHello)\n",
    "display(run_button)\n",
    "output"
   ]
  },
  {
   "cell_type": "code",
   "execution_count": 6,
   "id": "dd46e152-2198-48ef-ac1f-37187241dede",
   "metadata": {},
   "outputs": [],
   "source": [
    "a = \"b\""
   ]
  },
  {
   "cell_type": "code",
   "execution_count": 11,
   "id": "19839a77-ca8a-40e1-aba2-1bf6161b0932",
   "metadata": {},
   "outputs": [
    {
     "data": {
      "application/vnd.jupyter.widget-view+json": {
       "model_id": "a996ea772a264e10a61c16fa6982fb1b",
       "version_major": 2,
       "version_minor": 0
      },
      "text/plain": [
       "Dropdown(description='Number:', index=1, options=('1', '2', '3'), value='2')"
      ]
     },
     "metadata": {},
     "output_type": "display_data"
    }
   ],
   "source": [
    "a = widgets.Dropdown(\n",
    "    options=['1', '2', '3'],\n",
    "    value='2',\n",
    "    description='Number:',\n",
    "    disabled=False,\n",
    ")\n",
    "display(a)"
   ]
  },
  {
   "cell_type": "code",
   "execution_count": null,
   "id": "229ad350-297d-4083-9dc7-4cd6f93ac3c9",
   "metadata": {},
   "outputs": [],
   "source": [
    "selection"
   ]
  },
  {
   "cell_type": "code",
   "execution_count": 1,
   "id": "e0b70d7e-c5d9-4634-8fb5-f3774cae324d",
   "metadata": {},
   "outputs": [
    {
     "name": "stdout",
     "output_type": "stream",
     "text": [
      "Please make a selection and click Submit...\n"
     ]
    },
    {
     "data": {
      "application/vnd.jupyter.widget-view+json": {
       "model_id": "63c2056a7b4e49a485d7405656551091",
       "version_major": 2,
       "version_minor": 0
      },
      "text/plain": [
       "VBox(children=(Dropdown(description='Color:', options=('Red', 'Green', 'Blue', 'Yellow'), value='Red'), Button…"
      ]
     },
     "metadata": {},
     "output_type": "display_data"
    },
    {
     "ename": "KeyboardInterrupt",
     "evalue": "",
     "output_type": "error",
     "traceback": [
      "\u001b[0;31m---------------------------------------------------------------------------\u001b[0m",
      "\u001b[0;31mKeyboardInterrupt\u001b[0m                         Traceback (most recent call last)",
      "Cell \u001b[0;32mIn[1], line 72\u001b[0m\n\u001b[1;32m     66\u001b[0m dropdown_widget \u001b[38;5;241m=\u001b[39m DropdownSubmit(\n\u001b[1;32m     67\u001b[0m     options\u001b[38;5;241m=\u001b[39m[\u001b[38;5;124m'\u001b[39m\u001b[38;5;124mRed\u001b[39m\u001b[38;5;124m'\u001b[39m, \u001b[38;5;124m'\u001b[39m\u001b[38;5;124mGreen\u001b[39m\u001b[38;5;124m'\u001b[39m, \u001b[38;5;124m'\u001b[39m\u001b[38;5;124mBlue\u001b[39m\u001b[38;5;124m'\u001b[39m, \u001b[38;5;124m'\u001b[39m\u001b[38;5;124mYellow\u001b[39m\u001b[38;5;124m'\u001b[39m], \n\u001b[1;32m     68\u001b[0m     description\u001b[38;5;241m=\u001b[39m\u001b[38;5;124m'\u001b[39m\u001b[38;5;124mColor:\u001b[39m\u001b[38;5;124m'\u001b[39m\n\u001b[1;32m     69\u001b[0m )\n\u001b[1;32m     71\u001b[0m \u001b[38;5;66;03m# Then in another cell, you can block and wait for selection\u001b[39;00m\n\u001b[0;32m---> 72\u001b[0m selection \u001b[38;5;241m=\u001b[39m \u001b[43mdropdown_widget\u001b[49m\u001b[38;5;241;43m.\u001b[39;49m\u001b[43mwait_for_selection\u001b[49m\u001b[43m(\u001b[49m\u001b[43m)\u001b[49m\n\u001b[1;32m     73\u001b[0m \u001b[38;5;28mprint\u001b[39m(\u001b[38;5;124mf\u001b[39m\u001b[38;5;124m\"\u001b[39m\u001b[38;5;124mContinuing execution with selection: \u001b[39m\u001b[38;5;132;01m{\u001b[39;00mselection\u001b[38;5;132;01m}\u001b[39;00m\u001b[38;5;124m\"\u001b[39m)\n\u001b[1;32m     75\u001b[0m \u001b[38;5;66;03m# After this point, you can use the selection value in your code\u001b[39;00m\n",
      "Cell \u001b[0;32mIn[1], line 60\u001b[0m, in \u001b[0;36mDropdownSubmit.wait_for_selection\u001b[0;34m(self)\u001b[0m\n\u001b[1;32m     58\u001b[0m \u001b[38;5;66;03m# This loop will check if the submit button has been clicked\u001b[39;00m\n\u001b[1;32m     59\u001b[0m \u001b[38;5;28;01mwhile\u001b[39;00m \u001b[38;5;129;01mnot\u001b[39;00m \u001b[38;5;28mself\u001b[39m\u001b[38;5;241m.\u001b[39msubmitted:\n\u001b[0;32m---> 60\u001b[0m     \u001b[43mtime\u001b[49m\u001b[38;5;241;43m.\u001b[39;49m\u001b[43msleep\u001b[49m\u001b[43m(\u001b[49m\u001b[38;5;241;43m0.1\u001b[39;49m\u001b[43m)\u001b[49m  \u001b[38;5;66;03m# Small delay to reduce CPU usage\u001b[39;00m\n\u001b[1;32m     62\u001b[0m \u001b[38;5;28;01mreturn\u001b[39;00m \u001b[38;5;28mself\u001b[39m\u001b[38;5;241m.\u001b[39mselected_value\n",
      "\u001b[0;31mKeyboardInterrupt\u001b[0m: "
     ]
    }
   ],
   "source": [
    "import ipywidgets as widgets\n",
    "from IPython.display import display\n",
    "\n",
    "class DropdownSubmit:\n",
    "    def __init__(self, options=['Option 1', 'Option 2', 'Option 3'], description='Choose:'):\n",
    "        # Create a dropdown widget\n",
    "        self.dropdown = widgets.Dropdown(\n",
    "            options=options,\n",
    "            description=description,\n",
    "            disabled=False,\n",
    "        )\n",
    "        \n",
    "        # Create a submit button\n",
    "        self.submit_button = widgets.Button(\n",
    "            description='Submit',\n",
    "            button_style='success',\n",
    "            tooltip='Click to submit your selection'\n",
    "        )\n",
    "        \n",
    "        # Create output widget to display the result\n",
    "        self.output = widgets.Output()\n",
    "        \n",
    "        # Create a container for the widgets\n",
    "        self.container = widgets.VBox([self.dropdown, self.submit_button, self.output])\n",
    "        \n",
    "        # Variable to store the selected value\n",
    "        self.selected_value = None\n",
    "        self.submitted = False\n",
    "        \n",
    "        # Define the callback for the submit button\n",
    "        def on_submit_clicked(b):\n",
    "            self.selected_value = self.dropdown.value\n",
    "            self.submitted = True\n",
    "            with self.output:\n",
    "                print(f\"You selected: {self.dropdown.value}\")\n",
    "        \n",
    "        # Attach the callback to the button\n",
    "        self.submit_button.on_click(on_submit_clicked)\n",
    "    \n",
    "    def display(self):\n",
    "        \"\"\"Display the dropdown and submit button\"\"\"\n",
    "        display(self.container)\n",
    "    \n",
    "    def get_value(self):\n",
    "        \"\"\"Get the currently selected value\"\"\"\n",
    "        return self.dropdown.value\n",
    "    \n",
    "    def wait_for_selection(self):\n",
    "        \"\"\"\n",
    "        This method will block until the submit button is clicked\n",
    "        It uses a simple polling mechanism which works in Jupyter\n",
    "        \"\"\"\n",
    "        import time\n",
    "        print(\"Please make a selection and click Submit...\")\n",
    "        self.display()\n",
    "        self.submitted = False\n",
    "        \n",
    "        # This loop will check if the submit button has been clicked\n",
    "        while not self.submitted:\n",
    "            time.sleep(0.1)  # Small delay to reduce CPU usage\n",
    "            \n",
    "        return self.selected_value\n",
    "\n",
    "# Example usage\n",
    "# First create and define the dropdown\n",
    "dropdown_widget = DropdownSubmit(\n",
    "    options=['Red', 'Green', 'Blue', 'Yellow'], \n",
    "    description='Color:'\n",
    ")\n",
    "\n",
    "# Then in another cell, you can block and wait for selection\n",
    "selection = dropdown_widget.wait_for_selection()\n",
    "print(f\"Continuing execution with selection: {selection}\")\n",
    "\n",
    "# After this point, you can use the selection value in your code\n",
    "print(f\"Now you can use the selected value: {selection}\")"
   ]
  },
  {
   "cell_type": "code",
   "execution_count": null,
   "id": "506135d9-5afb-4ba5-9013-ac17393479ac",
   "metadata": {},
   "outputs": [],
   "source": [
    "selection"
   ]
  },
  {
   "cell_type": "code",
   "execution_count": null,
   "id": "9c9ed2ea-bd6a-4eec-b98b-15386f606f8d",
   "metadata": {},
   "outputs": [],
   "source": []
  }
 ],
 "metadata": {
  "kernelspec": {
   "display_name": "Python 3 (ipykernel)",
   "language": "python",
   "name": "python3"
  },
  "language_info": {
   "codemirror_mode": {
    "name": "ipython",
    "version": 3
   },
   "file_extension": ".py",
   "mimetype": "text/x-python",
   "name": "python",
   "nbconvert_exporter": "python",
   "pygments_lexer": "ipython3",
   "version": "3.12.5"
  }
 },
 "nbformat": 4,
 "nbformat_minor": 5
}
