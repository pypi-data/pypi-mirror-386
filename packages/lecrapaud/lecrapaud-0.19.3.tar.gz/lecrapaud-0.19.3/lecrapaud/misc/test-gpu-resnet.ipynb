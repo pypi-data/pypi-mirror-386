{
 "cells": [
  {
   "cell_type": "markdown",
   "metadata": {},
   "source": [
    "# Speed Test\n",
    "\n",
    "### **Conclusion**\n",
    "- **12x faster with GPU compared to CPU. (53s vs 680s) on Apple Silicon (test jan 24)**\n",
    "\n",
    "---\n",
    "\n",
    "### **Model Details**\n",
    "- **Model Type:** Very Deep CNN (ResNet, 50 layers)\n",
    "- **Total Parameters:** 23,792,612 (~90.76 MB)\n",
    "- **Training Data:** 50,000 samples\n",
    "- **Input Features:** `32 × 32 × 3 ≈ 3,000`\n",
    "\n",
    "---\n",
    "\n",
    "### **Rules of Thumb**\n",
    "1. **Sample Size:**  \n",
    "   `nb_samples > 10 × nb_features × nb_classes`  \n",
    "   (with `nb_classes = 5` for regression).\n",
    "\n",
    "2. **Parameter-Sample Ratio:**  \n",
    "   `nb_parameters < nb_samples / 10`  \n",
    "   (or even `nb_samples / 50` for deep learning).\n",
    "\n",
    "---\n",
    "\n",
    "### **GPU Performance**\n",
    "\n",
    "#### **tf.keras**  \n",
    "- Run 1: **221s** (~256ms/step) — loss: `4.6651`, accuracy: `0.0858`\n",
    "- Run 2 (with Apple Silicon M2 GPU): **47s** (~53ms/step) - loss: `4.8064` - accuracy: `0.0620`\n",
    "\n",
    "#### **Keras**  \n",
    "- Run 1: **225s** (~263ms/step) — loss: `4.7491`, accuracy: `0.0738`  \n",
    "- Run 2 (with Apple Silicon M2 GPU): **47s** (~53ms/step) - loss: `4.6743` - accuracy: `0.0761`\n",
    "\n",
    "---\n",
    "\n",
    "### **CPU Performance**\n",
    "\n",
    "#### **tf.keras**  \n",
    "- Run 1: **1440s** (~1841ms/step) — accuracy: `0.0346`, loss: `5.2095`  \n",
    "- Run 2 (with Apple Silicon M2 CPU): **541s** (~679ms/step) — accuracy: `0.0534`, loss: `4.9699`  \n",
    "\n",
    "#### **Keras**  \n",
    "- Run 1: **1440s** (~1841ms/step) — accuracy: `0.0210`, loss: `5.6996`  \n",
    "- Run 2 (with Apple Silicon M2 CPU): **535s** (~671ms/step) — accuracy: `0.0534`, loss: `5.0862`\n",
    "\n",
    "\n",
    "---\n",
    "\n",
    "### **Key Takeaways**\n",
    "- GPUs offer a **6x speed improvement** compared to CPUs for deep CNN training.\n",
    "- CPU training becomes impractically slow for large models and datasets.\n",
    "- GPU is highly recommended for deep learning tasks, especially for very deep architectures like ResNet.\n"
   ]
  },
  {
   "cell_type": "code",
   "execution_count": null,
   "metadata": {},
   "outputs": [],
   "source": [
    "import tensorflow as tf\n",
    "\n",
    "devices = tf.config.list_physical_devices()\n",
    "print(\"\\nDevices: \", devices)\n",
    "\n",
    "gpus = tf.config.list_physical_devices(\"GPU\")\n",
    "if gpus:\n",
    "    details = tf.config.experimental.get_device_details(gpus[0])\n",
    "    print(\"GPU details: \", details)"
   ]
  },
  {
   "cell_type": "code",
   "execution_count": null,
   "metadata": {},
   "outputs": [],
   "source": [
    "# get data\n",
    "from tensorflow import keras\n",
    "\n",
    "cifar = keras.datasets.cifar100\n",
    "(x_train, y_train), (x_test, y_test) = cifar.load_data()\n",
    "print(x_train.shape, x_train[:2], y_train.shape, y_train[:2])\n",
    "print(\n",
    "    f\"{x_train.shape[0]} train samples and {y_test.shape[0]} tests samples, for a total of {x_train.shape[0] + x_test.shape[0]} samples.\"\n",
    ")"
   ]
  },
  {
   "cell_type": "code",
   "execution_count": null,
   "metadata": {},
   "outputs": [],
   "source": [
    "import tensorflow as tf\n",
    "\n",
    "model = tf.keras.applications.ResNet50(\n",
    "    include_top=True,\n",
    "    weights=None,\n",
    "    input_shape=(32, 32, 3),\n",
    "    classes=100,\n",
    ")\n",
    "model.summary()\n",
    "\n",
    "loss_fn = tf.keras.losses.SparseCategoricalCrossentropy(from_logits=False)\n",
    "\n",
    "model.compile(optimizer=\"adam\", loss=loss_fn, metrics=[\"accuracy\"])\n",
    "\n",
    "model.fit(x_train, y_train, epochs=1, batch_size=64)"
   ]
  },
  {
   "cell_type": "code",
   "execution_count": null,
   "metadata": {},
   "outputs": [],
   "source": [
    "import keras\n",
    "\n",
    "model = keras.applications.ResNet50(\n",
    "    include_top=True,\n",
    "    weights=None,\n",
    "    input_shape=(32, 32, 3),\n",
    "    classes=100,\n",
    ")\n",
    "model.summary()\n",
    "\n",
    "loss_fn = keras.losses.SparseCategoricalCrossentropy(from_logits=False)\n",
    "\n",
    "model.compile(optimizer=\"adam\", loss=loss_fn, metrics=[\"accuracy\"])\n",
    "\n",
    "model.fit(x_train, y_train, epochs=1, batch_size=64)"
   ]
  }
 ],
 "metadata": {
  "kernelspec": {
   "display_name": ".venv",
   "language": "python",
   "name": "python3"
  },
  "language_info": {
   "codemirror_mode": {
    "name": "ipython",
    "version": 3
   },
   "file_extension": ".py",
   "mimetype": "text/x-python",
   "name": "python",
   "nbconvert_exporter": "python",
   "pygments_lexer": "ipython3",
   "version": "3.12.8"
  }
 },
 "nbformat": 4,
 "nbformat_minor": 2
}
