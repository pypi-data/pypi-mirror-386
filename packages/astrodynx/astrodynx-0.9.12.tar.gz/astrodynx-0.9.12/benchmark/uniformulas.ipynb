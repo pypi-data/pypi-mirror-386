{
 "cells": [
  {
   "cell_type": "code",
   "execution_count": null,
   "id": "01d921cf",
   "metadata": {},
   "outputs": [
    {
     "data": {
      "text/plain": [
       "[CudaDevice(id=0), CudaDevice(id=1)]"
      ]
     },
     "execution_count": 22,
     "metadata": {},
     "output_type": "execute_result"
    }
   ],
   "source": [
    "%load_ext autoreload\n",
    "%autoreload 2 \n",
    "\n",
    "from jax import numpy as jnp\n",
    "import jax\n",
    "from jax.typing import ArrayLike, DTypeLike\n",
    "from jax import Array\n",
    "\n",
    "\n",
    "jax.config.update(\"jax_enable_x64\", True)\n",
    "jax.devices()"
   ]
  },
  {
   "cell_type": "code",
   "execution_count": null,
   "id": "ba5d68e2",
   "metadata": {},
   "outputs": [],
   "source": [
    "def U3v1(chi: ArrayLike, alpha: DTypeLike) -> Array:\n",
    "    return jax.lax.cond(\n",
    "        alpha > 0,\n",
    "        lambda: (jnp.sqrt(alpha) * chi - jnp.sin(jnp.sqrt(alpha) * chi))\n",
    "        / alpha\n",
    "        / jnp.sqrt(alpha),\n",
    "        lambda: jax.lax.cond(\n",
    "            alpha < 0,\n",
    "            lambda: (jnp.sqrt(-alpha) * chi - jnp.sinh(jnp.sqrt(-alpha) * chi))\n",
    "            / alpha\n",
    "            / jnp.sqrt(-alpha),\n",
    "            lambda: chi**3 / 6.0,\n",
    "        ),\n",
    "    )\n",
    "\n",
    "\n",
    "def U3v2(chi: ArrayLike, alpha: DTypeLike) -> Array:\n",
    "    alpha_c = jax.lax.complex(alpha, 0.0)\n",
    "    return jax.lax.cond(\n",
    "        alpha == 0.0,\n",
    "        lambda _: chi**3 / 6.0,\n",
    "        lambda _: jax.lax.real(\n",
    "            (jnp.sqrt(alpha_c) * chi - jnp.sin(jnp.sqrt(alpha_c) * chi))\n",
    "            / alpha_c\n",
    "            / jnp.sqrt(alpha_c)\n",
    "        ),\n",
    "        alpha,\n",
    "    )\n",
    "\n",
    "\n",
    "def U3v3(chi: ArrayLike, alpha: DTypeLike) -> Array:\n",
    "    return jnp.where(\n",
    "        alpha > 0,\n",
    "        (jnp.sqrt(alpha) * chi - jnp.sin(jnp.sqrt(alpha) * chi))\n",
    "        / alpha\n",
    "        / jnp.sqrt(alpha),\n",
    "        jnp.where(\n",
    "            alpha < 0,\n",
    "            (jnp.sqrt(-alpha) * chi - jnp.sinh(jnp.sqrt(-alpha) * chi))\n",
    "            / alpha\n",
    "            / jnp.sqrt(-alpha),\n",
    "            chi**3 / 6.0,\n",
    "        ),\n",
    "    )\n",
    "\n",
    "\n",
    "U3v1_jit = jax.jit(U3v1)\n",
    "U3v2_jit = jax.jit(U3v2)\n",
    "U3v3_jit = jax.jit(U3v3)"
   ]
  },
  {
   "cell_type": "code",
   "execution_count": 24,
   "id": "9110a07b",
   "metadata": {},
   "outputs": [
    {
     "name": "stdout",
     "output_type": "stream",
     "text": [
      "Result 1: [5.16771278 3.14159265 8.4071467 ]\n",
      "Result 2: [5.16771278 3.14159265 8.4071467 ]\n",
      "Result 3: [5.16771278 3.14159265 8.4071467 ]\n",
      "Grad 1: [ 4.9348022   2.         10.59195328]\n",
      "Grad 2: [ 4.9348022   2.         10.59195328]\n",
      "Grad 3: [nan nan nan]\n"
     ]
    }
   ],
   "source": [
    "chi = jnp.pi\n",
    "alpha = jnp.array([0.0, 1.0, -1.0])\n",
    "\n",
    "result1 = jax.vmap(U3v1_jit, in_axes=(None, 0))(chi, alpha)\n",
    "print(f\"Result 1: {result1}\")\n",
    "result2 = jax.vmap(U3v2_jit, in_axes=(None, 0))(chi, alpha)\n",
    "print(f\"Result 2: {result2}\")\n",
    "result3 = U3v3_jit(chi, alpha)\n",
    "print(f\"Result 3: {result3}\")\n",
    "\n",
    "\n",
    "grad1 = jax.vmap(jax.grad(U3v1), in_axes=(None, 0))(chi, alpha)\n",
    "print(f\"Grad 1: {grad1}\")\n",
    "grad2 = jax.vmap(jax.grad(U3v2), in_axes=(None, 0))(chi, alpha)\n",
    "print(f\"Grad 2: {grad2}\")\n",
    "grad3 = jax.vmap(jax.grad(U3v3), in_axes=(None, 0))(chi, alpha)\n",
    "print(f\"Grad 3: {grad3}\")\n",
    "\n",
    "# Results show that U3v3 does not work with jax.grad"
   ]
  },
  {
   "cell_type": "code",
   "execution_count": null,
   "id": "bb2d82ea",
   "metadata": {},
   "outputs": [
    {
     "data": {
      "text/plain": [
       "Array([3.24633870e+01, 1.07914181e+00, 6.30361776e+00, 1.30161151e+01,\n",
       "       8.48328728e-01, 1.55862004e+00, 3.84984327e+00, 1.15542347e+00,\n",
       "       8.34801777e-03, 4.98232697e+00], dtype=float64)"
      ]
     },
     "execution_count": 41,
     "metadata": {},
     "output_type": "execute_result"
    }
   ],
   "source": [
    "# --- Prepare benchmark data ---\n",
    "key = jax.random.PRNGKey(0)\n",
    "key_chi, key_alpha = jax.random.split(key)\n",
    "\n",
    "# Create a large array with 100,000 elements\n",
    "N = 1_000_00\n",
    "chi = jax.random.uniform(key_chi, (N,)) * jnp.pi * 2\n",
    "\n",
    "# Case 1: All alpha > 0\n",
    "alpha_pos = jax.random.uniform(key_alpha, (N,))\n",
    "\n",
    "# Case 2: All alpha < 0\n",
    "alpha_neg = -jax.random.uniform(key_alpha, (N,))\n",
    "\n",
    "# Case 3: Mixed positive and negative alpha\n",
    "alpha_mix = jax.random.normal(key_alpha, (N,))\n",
    "\n",
    "# Ensure JIT compilation is complete (warm-up)\n",
    "jax.vmap(U3v1_jit, in_axes=(0, 0))(chi[:10], alpha_pos[:10]).block_until_ready()\n",
    "jax.vmap(U3v2_jit, in_axes=(0, 0))(chi[:10], alpha_pos[:10]).block_until_ready()"
   ]
  },
  {
   "cell_type": "code",
   "execution_count": 42,
   "id": "4a3b8f3d",
   "metadata": {},
   "outputs": [
    {
     "name": "stdout",
     "output_type": "stream",
     "text": [
      "✅ U3v1 and U3v2 are consistent for mixed alpha.\n"
     ]
    }
   ],
   "source": [
    "# --- Test cosistency ---\n",
    "result1 = jax.vmap(U3v1_jit, in_axes=(0, 0))(chi, alpha_mix)\n",
    "result2 = jax.vmap(U3v2_jit, in_axes=(0, 0))(chi, alpha_mix)\n",
    "if jnp.allclose(result1, result2):\n",
    "    print(\"✅ U3v1 and U3v2 are consistent for mixed alpha.\")\n",
    "else:\n",
    "    print(\"❌ U3v1 and U3v2 are Inconsistent results for mixed alpha.\")"
   ]
  },
  {
   "cell_type": "code",
   "execution_count": 44,
   "id": "31c42c75",
   "metadata": {},
   "outputs": [
    {
     "name": "stdout",
     "output_type": "stream",
     "text": [
      "Timing U3v1 for positive alpha...\n",
      "439 μs ± 4.43 μs per loop (mean ± std. dev. of 7 runs, 1,000 loops each)\n",
      "Timing U3v2 for positive alpha...\n",
      "450 μs ± 7.78 μs per loop (mean ± std. dev. of 7 runs, 1,000 loops each)\n"
     ]
    }
   ],
   "source": [
    "print(\"Timing U3v1 for positive alpha...\")\n",
    "%timeit jax.vmap(U3v1_jit, in_axes=(0, 0))(chi, alpha_pos).block_until_ready()\n",
    "print(\"Timing U3v2 for positive alpha...\")\n",
    "%timeit jax.vmap(U3v2_jit, in_axes=(0, 0))(chi, alpha_pos).block_until_ready()"
   ]
  },
  {
   "cell_type": "code",
   "execution_count": 45,
   "id": "fad08d05",
   "metadata": {},
   "outputs": [
    {
     "name": "stdout",
     "output_type": "stream",
     "text": [
      "Timing U3v1 for negative alpha...\n",
      "417 μs ± 4.96 μs per loop (mean ± std. dev. of 7 runs, 1,000 loops each)\n",
      "Timing U3v2 for negative alpha...\n",
      "418 μs ± 2.54 μs per loop (mean ± std. dev. of 7 runs, 1,000 loops each)\n"
     ]
    }
   ],
   "source": [
    "print(\"Timing U3v1 for negative alpha...\")\n",
    "%timeit jax.vmap(U3v1_jit, in_axes=(0, 0))(chi, alpha_neg).block_until_ready()\n",
    "print(\"Timing U3v2 for negative alpha...\")\n",
    "%timeit jax.vmap(U3v2_jit, in_axes=(0, 0))(chi, alpha_neg).block_until_ready()"
   ]
  },
  {
   "cell_type": "code",
   "execution_count": 46,
   "id": "2351af13",
   "metadata": {},
   "outputs": [
    {
     "name": "stdout",
     "output_type": "stream",
     "text": [
      "Timing U3v1 for negative alpha...\n",
      "415 μs ± 1.71 μs per loop (mean ± std. dev. of 7 runs, 1,000 loops each)\n",
      "Timing U3v2 for negative alpha...\n",
      "415 μs ± 5.24 μs per loop (mean ± std. dev. of 7 runs, 1,000 loops each)\n"
     ]
    }
   ],
   "source": [
    "print(\"Timing U3v1 for negative alpha...\")\n",
    "%timeit jax.vmap(U3v1_jit, in_axes=(0, 0))(chi, alpha_mix).block_until_ready()\n",
    "print(\"Timing U3v2 for negative alpha...\")\n",
    "%timeit jax.vmap(U3v2_jit, in_axes=(0, 0))(chi, alpha_mix).block_until_ready()"
   ]
  }
 ],
 "metadata": {
  "kernelspec": {
   "display_name": "Python 3",
   "language": "python",
   "name": "python3"
  },
  "language_info": {
   "codemirror_mode": {
    "name": "ipython",
    "version": 3
   },
   "file_extension": ".py",
   "mimetype": "text/x-python",
   "name": "python",
   "nbconvert_exporter": "python",
   "pygments_lexer": "ipython3",
   "version": "3.12.3"
  }
 },
 "nbformat": 4,
 "nbformat_minor": 5
}
