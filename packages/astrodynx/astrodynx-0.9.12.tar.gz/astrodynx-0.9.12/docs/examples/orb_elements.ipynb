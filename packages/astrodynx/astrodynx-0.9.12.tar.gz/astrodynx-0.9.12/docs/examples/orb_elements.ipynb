{
 "cells": [
  {
   "cell_type": "markdown",
   "id": "786b8caa",
   "metadata": {},
   "source": [
    "# Orbital Elements"
   ]
  },
  {
   "cell_type": "code",
   "execution_count": 48,
   "id": "f4892508",
   "metadata": {},
   "outputs": [
    {
     "name": "stdout",
     "output_type": "stream",
     "text": [
      "The autoreload extension is already loaded. To reload it, use:\n",
      "  %reload_ext autoreload\n"
     ]
    }
   ],
   "source": [
    "%load_ext autoreload\n",
    "%autoreload 2 \n",
    "\n",
    "import jax.numpy as jnp\n",
    "import astrodynx as adx\n",
    "import jax\n",
    "\n",
    "jax.config.update(\"jax_enable_x64\", True)"
   ]
  },
  {
   "cell_type": "code",
   "execution_count": 49,
   "id": "f6ed71e8",
   "metadata": {},
   "outputs": [
    {
     "name": "stdout",
     "output_type": "stream",
     "text": [
      "1.0 0.0 0.0 0.0 0.0 0.0\n"
     ]
    }
   ],
   "source": [
    "pos_vec = jnp.array([1.0, 0.0, 0.0])\n",
    "vel_vec = jnp.array([0.0, 1.0, 0.0])\n",
    "mu = 1.0\n",
    "p, e, incl, raan, argp, true_anom = adx.rv2coe(pos_vec, vel_vec, mu)\n",
    "print(p, e, incl, raan, argp, true_anom)"
   ]
  },
  {
   "cell_type": "markdown",
   "id": "cccdefd1",
   "metadata": {},
   "source": [
    "## Examples from Curtis and Vallado"
   ]
  },
  {
   "cell_type": "code",
   "execution_count": 50,
   "id": "10cebb1d",
   "metadata": {},
   "outputs": [
    {
     "name": "stdout",
     "output_type": "stream",
     "text": [
      "pos1: [-4039.8959232   4814.56048018  3628.62470217],\n",
      " vel1: [-10.38598762  -4.77192164   1.743875  ]\n",
      "pos2: [6525.36812099 6861.5318349  6449.11861416],\n",
      " vel2: [ 4.90227865  5.53313957 -1.9757101 ]\n"
     ]
    }
   ],
   "source": [
    "mu = jnp.array([398600, 398600.4418])\n",
    "p = jnp.array([16056.196688409433, 11067.79])\n",
    "e = jnp.array([1.4, 0.83285])\n",
    "incl = jnp.array([jnp.deg2rad(30), jnp.deg2rad(87.87)])\n",
    "raan = jnp.array([jnp.deg2rad(40), jnp.deg2rad(227.89)])\n",
    "argp = jnp.array([jnp.deg2rad(60), jnp.deg2rad(53.38)])\n",
    "true_anom = jnp.array([jnp.deg2rad(30), jnp.deg2rad(92.335)])\n",
    "\n",
    "pos_vec, vel_vec = adx.coe2rv(p, e, incl, raan, argp, true_anom, mu)\n",
    "print(f\"pos1: {pos_vec[0]},\\n vel1: {vel_vec[0]}\")\n",
    "print(f\"pos2: {pos_vec[1]},\\n vel2: {vel_vec[1]}\")"
   ]
  },
  {
   "cell_type": "code",
   "execution_count": 51,
   "id": "f40b300f",
   "metadata": {},
   "outputs": [],
   "source": [
    "p, e, incl, raan, argp, true_anom = adx.rv2coe(\n",
    "    pos_vec, vel_vec, jnp.expand_dims(mu, axis=-1)\n",
    ")\n",
    "assert jnp.allclose(p, jnp.array([16056.1966, 11067.79]))\n",
    "assert jnp.allclose(e, jnp.array([1.4, 0.83285]))\n",
    "assert jnp.allclose(incl, jnp.array([jnp.deg2rad(30), jnp.deg2rad(87.87)]))\n",
    "assert jnp.allclose(raan, jnp.array([jnp.deg2rad(40), jnp.deg2rad(227.89)]))\n",
    "assert jnp.allclose(argp, jnp.array([jnp.deg2rad(60), jnp.deg2rad(53.38)]))\n",
    "assert jnp.allclose(true_anom, jnp.array([jnp.deg2rad(30), jnp.deg2rad(92.335)]))"
   ]
  }
 ],
 "metadata": {
  "kernelspec": {
   "display_name": "Python 3",
   "language": "python",
   "name": "python3"
  },
  "language_info": {
   "codemirror_mode": {
    "name": "ipython",
    "version": 3
   },
   "file_extension": ".py",
   "mimetype": "text/x-python",
   "name": "python",
   "nbconvert_exporter": "python",
   "pygments_lexer": "ipython3",
   "version": "3.12.3"
  }
 },
 "nbformat": 4,
 "nbformat_minor": 5
}
