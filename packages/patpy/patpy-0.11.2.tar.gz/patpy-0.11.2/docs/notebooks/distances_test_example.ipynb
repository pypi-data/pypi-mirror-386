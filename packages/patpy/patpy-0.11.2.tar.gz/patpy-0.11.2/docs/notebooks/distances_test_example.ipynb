{
 "cells": [
  {
   "cell_type": "markdown",
   "id": "0576edce",
   "metadata": {},
   "source": [
    "# Statistical test for the distances between samples from case and control groups\n",
    "\n",
    "In this notebook, we will obtain a pseudobulk patient representation, and perform a statistical test of distances between samples similar to [Petukhov et al.](https://www.biorxiv.org/content/10.1101/2022.03.15.484475v1.full.pdf)"
   ]
  },
  {
   "cell_type": "markdown",
   "id": "982b5ff0",
   "metadata": {},
   "source": [
    "## Install patpy"
   ]
  },
  {
   "cell_type": "code",
   "execution_count": null,
   "id": "fe2b1e5c",
   "metadata": {},
   "tags": [
        "remove-output"
    ],
   "outputs": [],
   "source": [
    "!pip install git+https://github.com/lueckenlab/patpy.git@main"
   ]
  },
  {
   "cell_type": "markdown",
   "id": "d663964e",
   "metadata": {},
   "source": [
    "## Import packages"
   ]
  },
  {
   "cell_type": "code",
   "execution_count": 2,
   "id": "983ba9ef",
   "metadata": {},
   "outputs": [],
   "source": [
    "import scanpy as sc\n",
    "import patpy"
   ]
  },
  {
   "cell_type": "code",
   "execution_count": 3,
   "id": "d99d93b4",
   "metadata": {},
   "outputs": [
    {
     "data": {
      "text/plain": [
       "'0.8.1'"
      ]
     },
     "execution_count": 3,
     "metadata": {},
     "output_type": "execute_result"
    }
   ],
   "source": [
    "patpy.__version__"
   ]
  },
  {
   "cell_type": "markdown",
   "id": "36a105cc",
   "metadata": {},
   "source": [
    "## Read the data\n",
    "\n",
    "I will use [COMBAT dataset](https://zenodo.org/record/6120249/files/COMBAT-CITESeq-DATA.h5ad). You can set your own path. This is a dataset of PBMC (peripheral blood mococnuclear cells) from roughly 140 patients. There are different severity stages of COVID-19, healthy controls as well as some Flu and Sepsis patients. Can we detect differences between controls and patients? Let's see!"
   ]
  },
  {
   "cell_type": "code",
   "execution_count": 4,
   "id": "c15dfec8",
   "metadata": {},
   "outputs": [],
   "source": [
    "ADATA_PATH = \"/Users/vladimir.shitov/Documents/programming/pat_rep_benchmark/data/combat/combat_processed.h5ad\""
   ]
  },
  {
   "cell_type": "code",
   "execution_count": 5,
   "id": "cd2efb7a",
   "metadata": {},
   "outputs": [
    {
     "data": {
      "text/plain": [
       "AnnData object with n_obs × n_vars = 783677 × 3000\n",
       "    obs: 'Annotation_cluster_id', 'Annotation_cluster_name', 'Annotation_minor_subset', 'Annotation_major_subset', 'Annotation_cell_type', 'GEX_region', 'QC_ngenes', 'QC_total_UMI', 'QC_pct_mitochondrial', 'QC_scrub_doublet_scores', 'TCR_chain_composition', 'TCR_clone_ID', 'TCR_clone_count', 'TCR_clone_proportion', 'TCR_contains_unproductive', 'TCR_doublet', 'TCR_chain_TRA', 'TCR_v_gene_TRA', 'TCR_d_gene_TRA', 'TCR_j_gene_TRA', 'TCR_c_gene_TRA', 'TCR_productive_TRA', 'TCR_cdr3_TRA', 'TCR_umis_TRA', 'TCR_chain_TRA2', 'TCR_v_gene_TRA2', 'TCR_d_gene_TRA2', 'TCR_j_gene_TRA2', 'TCR_c_gene_TRA2', 'TCR_productive_TRA2', 'TCR_cdr3_TRA2', 'TCR_umis_TRA2', 'TCR_chain_TRB', 'TCR_v_gene_TRB', 'TCR_d_gene_TRB', 'TCR_j_gene_TRB', 'TCR_c_gene_TRB', 'TCR_productive_TRB', 'TCR_chain_TRB2', 'TCR_v_gene_TRB2', 'TCR_d_gene_TRB2', 'TCR_j_gene_TRB2', 'TCR_c_gene_TRB2', 'TCR_productive_TRB2', 'TCR_cdr3_TRB2', 'TCR_umis_TRB2', 'BCR_umis_HC', 'BCR_contig_qc_HC', 'BCR_functionality_HC', 'BCR_v_call_HC', 'BCR_v_score_HC', 'BCR_j_call_HC', 'BCR_j_score_HC', 'BCR_junction_aa_HC', 'BCR_total_mut_HC', 'BCR_s_mut_HC', 'BCR_r_mut_HC', 'BCR_c_gene_HC', 'BCR_clone_per_replicate_HC', 'BCR_clone_global_HC', 'BCR_clonal_abundance_HC', 'BCR_locus_LC', 'BCR_umis_LC', 'BCR_contig_qc_LC', 'BCR_functionality_LC', 'BCR_v_call_LC', 'BCR_v_score_LC', 'BCR_j_call_LC', 'BCR_j_score_LC', 'BCR_junction_aa_LC', 'BCR_total_mut_LC', 'BCR_s_mut_LC', 'BCR_r_mut_LC', 'BCR_c_gene_LC', 'COMBAT_ID', 'scRNASeq_sample_ID', 'COMBAT_participant_timepoint_ID', 'Source', 'Age', 'Sex', 'Race', 'BMI', 'Hospitalstay', 'Death28', 'Institute', 'PreExistingHeartDisease', 'PreExistingLungDisease', 'PreExistingKidneyDisease', 'PreExistingDiabetes', 'PreExistingHypertension', 'PreExistingImmunocompromised', 'Smoking', 'Symptomatic', 'Requiredvasoactive', 'Respiratorysupport', 'SARSCoV2PCR', 'Outcome', 'TimeSinceOnset', 'Ethnicity', 'Tissue', 'DiseaseClassification', 'Pool_ID', 'Channel_ID', 'ifn_1_score', '_scvi_batch', '_scvi_labels', 'n_genes_by_counts', 'log1p_n_genes_by_counts', 'total_counts', 'log1p_total_counts', 'pct_counts_in_top_50_genes', 'pct_counts_in_top_100_genes', 'pct_counts_in_top_200_genes', 'pct_counts_in_top_500_genes', 'total_counts_mt', 'log1p_total_counts_mt', 'pct_counts_mt', 'total_counts_ribo', 'log1p_total_counts_ribo', 'pct_counts_ribo'\n",
       "    var: 'gene_ids', 'feature_types', 'highly_variable', 'highly_variable_rank', 'means', 'variances', 'variances_norm', 'highly_variable_nbatches', 'mt', 'ribo', 'n_cells_by_counts', 'mean_counts', 'log1p_mean_counts', 'pct_dropout_by_counts', 'total_counts', 'log1p_total_counts'\n",
       "    uns: 'Institute', 'ObjectCreateDate', 'Source_colors', 'Technology', 'X_scpoli', '_scvi_manager_uuid', '_scvi_uuid', 'genome_annotation_version', 'hvg', 'log1p', 'pca', 'scpoli_distances', 'scpoli_parameters', 'scpoli_samples'\n",
       "    obsm: 'X_pca', 'X_scANVI_batch', 'X_scANVI_sample', 'X_scVI_batch', 'X_scVI_sample', 'X_scpoli', 'X_umap', 'X_umap_source'\n",
       "    varm: 'PCs'\n",
       "    layers: 'X_raw_counts'"
      ]
     },
     "execution_count": 5,
     "metadata": {},
     "output_type": "execute_result"
    }
   ],
   "source": [
    "adata = sc.read_h5ad(ADATA_PATH)\n",
    "adata"
   ]
  },
  {
   "cell_type": "markdown",
   "id": "892bab5c",
   "metadata": {},
   "source": [
    "## Set the parameters"
   ]
  },
  {
   "cell_type": "code",
   "execution_count": 6,
   "id": "dd6105aa",
   "metadata": {},
   "outputs": [],
   "source": [
    "layer_to_use = \"X_pca\"  # Representations of cells to use for sample representation. Must be in .obsm or layers\n",
    "sample_id_col = \"scRNASeq_sample_ID\"  # Where sample or patient identificators are stored in .obs\n",
    "cell_type_key = \"Annotation_major_subset\"  # Used for filtering of cells, but not necessary for most methods including pseudobulk\n",
    "condition_col = \"Outcome\"  # A column in .obs that stores conditions of the samples\n",
    "control_level = 6  # Value of condition_col to use as control. All others will be considered the case"
   ]
  },
  {
   "cell_type": "markdown",
   "id": "2aaf965e",
   "metadata": {},
   "source": [
    "## Quality control of samples"
   ]
  },
  {
   "cell_type": "code",
   "execution_count": 7,
   "id": "a7d077ef",
   "metadata": {},
   "outputs": [
    {
     "name": "stdout",
     "output_type": "stream",
     "text": [
      "0 samples removed: \n"
     ]
    }
   ],
   "source": [
    "adata = patpy.pp.filter_small_samples(adata, sample_key=sample_id_col, sample_size_threshold=100)"
   ]
  },
  {
   "cell_type": "markdown",
   "id": "8651ac51",
   "metadata": {},
   "source": [
    "## Initialize the representation object"
   ]
  },
  {
   "cell_type": "code",
   "execution_count": 8,
   "id": "5bcbc398",
   "metadata": {},
   "outputs": [],
   "source": [
    "pseudobulk = patpy.tl.Pseudobulk(sample_key=sample_id_col, cell_group_key=cell_type_key, layer=layer_to_use)\n",
    "pseudobulk.prepare_anndata(adata)"
   ]
  },
  {
   "cell_type": "markdown",
   "id": "bff1aeaa",
   "metadata": {},
   "source": [
    "## Calculate a matrix of distances between samples"
   ]
  },
  {
   "cell_type": "code",
   "execution_count": 9,
   "id": "8bd2f018",
   "metadata": {},
   "outputs": [
    {
     "name": "stderr",
     "output_type": "stream",
     "text": [
      "/Users/vladimir.shitov/Documents/programming/patient_representation/src/patpy/tl/sample_representation.py:453: UserWarning: Using data from key X_pca of adata.obsm\n",
      "  warnings.warn(f\"Using data from key {self.layer} of adata.obsm\", stacklevel=1)\n"
     ]
    },
    {
     "data": {
      "text/plain": [
       "array([[0.        , 4.64685369, 8.5990148 , ..., 4.5335298 , 5.75458898,\n",
       "        7.98608545],\n",
       "       [4.64685369, 0.        , 6.21533269, ..., 6.09671616, 5.47561426,\n",
       "        5.28739787],\n",
       "       [8.5990148 , 6.21533269, 0.        , ..., 9.66443214, 7.75928943,\n",
       "        4.24893086],\n",
       "       ...,\n",
       "       [4.5335298 , 6.09671616, 9.66443214, ..., 0.        , 6.25521014,\n",
       "        9.3778456 ],\n",
       "       [5.75458898, 5.47561426, 7.75928943, ..., 6.25521014, 0.        ,\n",
       "        5.92739653],\n",
       "       [7.98608545, 5.28739787, 4.24893086, ..., 9.3778456 , 5.92739653,\n",
       "        0.        ]])"
      ]
     },
     "execution_count": 9,
     "metadata": {},
     "output_type": "execute_result"
    }
   ],
   "source": [
    "distances = pseudobulk.calculate_distance_matrix()\n",
    "distances"
   ]
  },
  {
   "cell_type": "markdown",
   "id": "a54fd07f",
   "metadata": {},
   "source": [
    "## Run statistical test for the distances"
   ]
  },
  {
   "cell_type": "code",
   "execution_count": 10,
   "id": "0b32efef",
   "metadata": {},
   "outputs": [
    {
     "data": {
      "text/plain": [
       "{'score': 1.4071983216304598,\n",
       " 'p_value': 0.0,\n",
       " 'metric': 'distances',\n",
       " 'control_level': 6,\n",
       " 'normalization_type': 'total',\n",
       " 'compare_by_difference': True,\n",
       " 'n_unique': 6,\n",
       " 'n_observations': 113,\n",
       " 'method': 'distances'}"
      ]
     },
     "execution_count": 10,
     "metadata": {},
     "output_type": "execute_result"
    }
   ],
   "source": [
    "total_test_result = pseudobulk.evaluate_representation(\n",
    "    target=condition_col,\n",
    "    method=\"distances\",\n",
    "    control_level=control_level,\n",
    "    normalization_type=\"total\",\n",
    "    compare_by_difference=True,\n",
    ")\n",
    "total_test_result"
   ]
  },
  {
   "cell_type": "code",
   "execution_count": 11,
   "id": "a32f54c4",
   "metadata": {},
   "outputs": [
    {
     "data": {
      "text/plain": [
       "{'score': 0.7520475783097537,\n",
       " 'p_value': 0.0,\n",
       " 'metric': 'distances',\n",
       " 'control_level': 6,\n",
       " 'normalization_type': 'shift',\n",
       " 'compare_by_difference': True,\n",
       " 'n_unique': 6,\n",
       " 'n_observations': 113,\n",
       " 'method': 'distances'}"
      ]
     },
     "execution_count": 11,
     "metadata": {},
     "output_type": "execute_result"
    }
   ],
   "source": [
    "shift_test_result = pseudobulk.evaluate_representation(\n",
    "    target=condition_col,\n",
    "    method=\"distances\",\n",
    "    control_level=control_level,\n",
    "    normalization_type=\"shift\",\n",
    "    compare_by_difference=True,\n",
    ")\n",
    "shift_test_result"
   ]
  },
  {
   "cell_type": "code",
   "execution_count": 12,
   "id": "8f615299",
   "metadata": {},
   "outputs": [
    {
     "data": {
      "text/plain": [
       "{'score': 1.368932888187764,\n",
       " 'p_value': 0.0,\n",
       " 'metric': 'distances',\n",
       " 'control_level': 6,\n",
       " 'normalization_type': 'var',\n",
       " 'compare_by_difference': True,\n",
       " 'n_unique': 6,\n",
       " 'n_observations': 113,\n",
       " 'method': 'distances'}"
      ]
     },
     "execution_count": 12,
     "metadata": {},
     "output_type": "execute_result"
    }
   ],
   "source": [
    "var_test_result = pseudobulk.evaluate_representation(\n",
    "    target=condition_col,\n",
    "    method=\"distances\",\n",
    "    control_level=control_level,\n",
    "    normalization_type=\"var\",\n",
    "    compare_by_difference=True,\n",
    ")\n",
    "var_test_result"
   ]
  },
  {
   "cell_type": "markdown",
   "id": "70c22131",
   "metadata": {},
   "source": [
    "### The interpretation of the results format\n",
    "- **score**: difference (or ratio if `compare_by_difference==False`) between the distances in comparison groups with correction for random\n",
    "- **p_value**: simulated p-value of the score\n",
    "- **n_unique**: number of unique values in `condition_col`. Doesn't really matter in this case, because they transformed to \"case\" and \"control\"\n",
    "- **n_observations**: number of samples. Can be less than expected if for some samples value in `condition_col` is missing\n",
    "\n",
    "For the interpretation of different normalization types, please refer to the page 17 and figure 4 of [Petukhov et al.](https://www.biorxiv.org/content/10.1101/2022.03.15.484475v1.full.pdf)\n",
    "\n",
    "As we can see here, all 3 appoaches detect significant differences between cases and controls. That is, distances between cases and controls are significantly higher than within these groups. Additionally, variance within patients with diseases is significantly higher than between controls."
   ]
  },
  {
   "cell_type": "markdown",
   "id": "3e859c4b",
   "metadata": {},
   "source": [
    "## Plot embedding of the data for a sanity check"
   ]
  },
  {
   "cell_type": "code",
   "execution_count": 13,
   "id": "eb995473",
   "metadata": {},
   "outputs": [
    {
     "name": "stderr",
     "output_type": "stream",
     "text": [
      "/Users/vladimir.shitov/miniconda3/envs/sample_representation/lib/python3.11/site-packages/tqdm/auto.py:21: TqdmWarning: IProgress not found. Please update jupyter and ipywidgets. See https://ipywidgets.readthedocs.io/en/stable/user_install.html\n",
      "  from .autonotebook import tqdm as notebook_tqdm\n",
      "/Users/vladimir.shitov/miniconda3/envs/sample_representation/lib/python3.11/site-packages/umap/umap_.py:1858: UserWarning: using precomputed metric; inverse_transform will be unavailable\n",
      "  warn(\"using precomputed metric; inverse_transform will be unavailable\")\n",
      "/Users/vladimir.shitov/miniconda3/envs/sample_representation/lib/python3.11/site-packages/umap/umap_.py:1945: UserWarning: n_jobs value 1 overridden to 1 by setting random_state. Use no seed for parallelism.\n",
      "  warn(f\"n_jobs value {self.n_jobs} overridden to 1 by setting random_state. Use no seed for parallelism.\")\n"
     ]
    },
    {
     "data": {
      "text/plain": [
       "<Axes: xlabel='UMAP_0', ylabel='UMAP_1'>"
      ]
     },
     "execution_count": 13,
     "metadata": {},
     "output_type": "execute_result"
    },
    {
     "data": {
      "image/png": "[encoded data removed]",
      "text/plain": [
       "<Figure size 500x500 with 1 Axes>"
      ]
     },
     "metadata": {},
     "output_type": "display_data"
    }
   ],
   "source": [
    "pseudobulk.plot_embedding(metadata_cols=[condition_col])"
   ]
  }
 ],
 "metadata": {
  "kernelspec": {
   "display_name": "sample_representation",
   "language": "python",
   "name": "python3"
  },
  "language_info": {
   "codemirror_mode": {
    "name": "ipython",
    "version": 3
   },
   "file_extension": ".py",
   "mimetype": "text/x-python",
   "name": "python",
   "nbconvert_exporter": "python",
   "pygments_lexer": "ipython3",
   "version": "3.11.9"
  }
 },
 "nbformat": 4,
 "nbformat_minor": 5
}
