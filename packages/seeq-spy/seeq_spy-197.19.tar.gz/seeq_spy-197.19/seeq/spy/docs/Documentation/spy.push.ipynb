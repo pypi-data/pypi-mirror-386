{
 "cells": [
  {
   "cell_type": "code",
   "execution_count": 1,
   "metadata": {},
   "outputs": [],
   "source": [
    "from seeq import spy\n",
    "import pandas as pd\n",
    "\n",
    "# Set the compatibility option so that you maximize the chance that SPy will remain compatible with your notebook/script\n",
    "spy.options.compatibility = 197"
   ]
  },
  {
   "cell_type": "code",
   "execution_count": 2,
   "metadata": {},
   "outputs": [
    {
     "data": {
      "text/html": [
       "<div style=\"background-color: #EEFFEE;color:black; text-align: left;\">Logged in to <strong>http://localhost:34216</strong> as <strong>agent_api_key</strong>.<br>Seeq Server Version: <strong>R66.22.1-SNAPSHOT</strong><br>Seeq SDK Module Version: <strong>66.22.1</strong> @ C:\\GitHub\\crab\\sdk\\pypi\\seeq\\sdk<br>Seeq SPy Module Version: <strong>196.4</strong> @ C:\\GitHub\\crab\\sdk\\pypi\\seeq\\spy</div>"
      ],
      "text/plain": [
       "<IPython.core.display.HTML object>"
      ]
     },
     "metadata": {},
     "output_type": "display_data"
    }
   ],
   "source": [
    "# Log into Seeq Server if you're not using Seeq Data Lab:\n",
    "spy.login(url='http://localhost:34216', credentials_file='../credentials.key', force=False)"
   ]
  },
  {
   "cell_type": "markdown",
   "metadata": {},
   "source": [
    "# spy.push\n",
    "\n",
    "Uploads signals, conditions, scalars, and assets to the Seeq Server.\n",
    "\n",
    "There are two main types of information processed by Seeq: _Data_ and _metadata_:\n",
    "\n",
    "- **Data** is the time series and time interval information that is either collected or derived from sensor data. It consists of timestamps and values (samples), or time intervals and properties (capsules). This data can be plotted on a trend or used to train a neural network, for example.\n",
    "\n",
    "- **Metadata** is the information about the data, that is independent of a particular point in time or time interval. For example, a signal's _name_, _description_ and _unit of measure_ is classified as metadata; or the formula that is used to derive a new signal from one or more source signals; or the asset tree that is used to model similar equipment or industrial processes.\n",
    "\n",
    "The `spy.push()` command allows you to upload both types of information to Seeq Server. When you push _metadata_, you make entries in Seeq's data index, which allows you or other users to search for and find such entries. If you also push _data_, then samples or capsules or scalars will appear when the user selects those index entries for inclusion on a trend, scatter plot, scorecard or other visualization."
   ]
  },
  {
   "cell_type": "markdown",
   "metadata": {},
   "source": [
    "```\n",
    "spy.push(data=None, metadata=None, item_type=None, workbook='Data Lab >> Data Lab Analysis',\n",
    "         worksheet='From Data Lab', datasource=None, archive=False, type_mismatches='raise', errors='catalog')\n",
    "```"
   ]
  },
  {
   "cell_type": "markdown",
   "metadata": {},
   "source": [
    "## Pushing signal data\n",
    "\n",
    "The simplest activity you can do with the `spy.push()` command is to read in a CSV file using Pandas and push it into Seeq. It will be stored in Seeq's internal time series database."
   ]
  },
  {
   "cell_type": "code",
   "execution_count": null,
   "metadata": {},
   "outputs": [],
   "source": [
    "import csv\n",
    "csv_file = pd.read_csv('Support Files/csv_import_example.csv', parse_dates=['TIME(unitless)'], index_col='TIME(unitless)')\n",
    "csv_file.head()"
   ]
  },
  {
   "cell_type": "markdown",
   "metadata": {},
   "source": [
    "When you want to push data, it must have an index with a datetime data type. That's why we used the `parse_dates` and `index_col` arguments for `Pandas.read_csv()`.\n",
    "\n",
    "Now you can just push it into Seeq:"
   ]
  },
  {
   "cell_type": "code",
   "execution_count": null,
   "metadata": {},
   "outputs": [],
   "source": [
    "push_results = spy.push(data=csv_file, workbook='SPy Documentation Examples >> spy.push')\n",
    "push_results"
   ]
  },
  {
   "cell_type": "markdown",
   "metadata": {},
   "source": [
    "You can push multiple times, and as long as the names are the same and the workbook hasn't changed, you'll just add to the existing signal."
   ]
  },
  {
   "cell_type": "markdown",
   "metadata": {},
   "source": [
    "## Pushing metadata"
   ]
  },
  {
   "cell_type": "markdown",
   "metadata": {},
   "source": [
    "Now let's try pushing just metadata. You can see that the column names from the CSV file contain the unit of measure in parentheses. Let's use Pandas to extract the name and the unit of measure as separate columns."
   ]
  },
  {
   "cell_type": "code",
   "execution_count": null,
   "metadata": {},
   "outputs": [],
   "source": [
    "better_metadata = push_results.copy()\n",
    "better_metadata['Original Name'] = better_metadata.index\n",
    "better_metadata['Name'] = better_metadata['Original Name'].str.extract(r'(.*)\\(')\n",
    "better_metadata['Value Unit Of Measure'] = better_metadata['Original Name'].str.extract(r'.*\\((.*)\\)')\n",
    "better_metadata"
   ]
  },
  {
   "cell_type": "code",
   "execution_count": null,
   "metadata": {},
   "outputs": [],
   "source": [
    "spy.push(metadata=better_metadata, workbook='SPy Documentation Examples >> spy.push')"
   ]
  },
  {
   "cell_type": "markdown",
   "metadata": {},
   "source": [
    "## Workbook scoping\n",
    "\n",
    "When you push metadata, by default the items are only available/discoverable within the workbook specified by the `workbook` argument. This means your activity is isolated from your colleagues by default.\n",
    "\n",
    "Specify `workbook=None` to push to globally-accessible items. But make sure this is what you want to do! You wouldn't want to pollute the global namespace unintentionally. If you push items globally and want to trash them, check out the **Archiving / Trashing Items** section below."
   ]
  },
  {
   "cell_type": "markdown",
   "metadata": {},
   "source": [
    "## Round-tripping\n",
    "\n",
    "One way to change the metadata on items is by _round-tripping_: First do a `spy.search(<search dictionary>, all_properties=True)` to retrieve the item metadata in full, then alter the items and push them back. It's important to specify `all_properties=True` and then be sure to keep all the columns in the returned DataFrame, otherwise SPy may fall back to default values which is not what you intend. In particular, the `ID` and `Scoped To` columns ensure that SPy does not target the wrong item or move an item to a different workbook in a way that you do not intend.\n",
    "\n",
    "Here's an example:"
   ]
  },
  {
   "cell_type": "code",
   "execution_count": null,
   "metadata": {},
   "outputs": [],
   "source": [
    "# Retrieve the item(s) to be changed\n",
    "items_to_change_df = spy.search({'Name': 'BITDEP'}, all_properties=True, workbook='SPy Documentation Examples >> spy.push')\n",
    "\n",
    "# Change the item(s)\n",
    "items_to_change_df.at[0, 'Value Unit Of Measure'] = 'm'\n",
    "\n",
    "# Push them back\n",
    "spy.push(metadata=items_to_change_df, workbook='SPy Documentation Examples >> spy.push')"
   ]
  },
  {
   "cell_type": "markdown",
   "metadata": {},
   "source": [
    "## Pushing condition and capsule data"
   ]
  },
  {
   "cell_type": "markdown",
   "metadata": {},
   "source": [
    "You can also push capsules, which are time intervals of interest, to Seeq by supplying a DataFrame with `Capsule Start` and `Capsule End` columns. Any additional columns will be added as properties of the capsule."
   ]
  },
  {
   "cell_type": "code",
   "execution_count": null,
   "metadata": {},
   "outputs": [],
   "source": [
    "capsule_data = pd.DataFrame([{\n",
    "    'Capsule Start':    pd.to_datetime('2019-01-10T09:00:00.000Z'),\n",
    "    'Capsule End':      pd.to_datetime('2019-01-10T17:00:00.000Z'),\n",
    "    'Operator On Duty': 'Mark'\n",
    "}, {\n",
    "    'Capsule Start':    pd.to_datetime('2019-01-11T09:00:00.000Z'),\n",
    "    'Capsule End':      pd.to_datetime('2019-01-11T17:00:00.000Z'),\n",
    "    'Operator On Duty': 'Hedwig'\n",
    "}])\n",
    "\n",
    "capsule_data"
   ]
  },
  {
   "cell_type": "markdown",
   "metadata": {},
   "source": [
    "When you push capsule data, you must supply a `metadata` DataFrame that contains, at minimum, the `Name`, `Type` and `Maximum Duration` columns like the example below.\n",
    "\n",
    "If your `metadata` DataFrame includes multiple conditions, the `data` DataFrame must have a `Condition` column to indicate which condition will receive that particular capsule. The value of the `Condition` column must correspond to an index entry of the `metadata` DataFrame."
   ]
  },
  {
   "cell_type": "code",
   "execution_count": null,
   "metadata": {},
   "outputs": [],
   "source": [
    "spy.push(data=capsule_data,\n",
    "         metadata=pd.DataFrame([{\n",
    "             'Name': 'Operator Shifts',\n",
    "             'Type': 'Condition',\n",
    "             'Maximum Duration': '2d'\n",
    "         }]), workbook='SPy Documentation Examples >> spy.push')"
   ]
  },
  {
   "cell_type": "markdown",
   "metadata": {},
   "source": [
    "Capsule properties that have units of measure can be specified in the metadata. Say you have properties like `Height` and `Mass`:"
   ]
  },
  {
   "cell_type": "code",
   "execution_count": null,
   "metadata": {},
   "outputs": [],
   "source": [
    "capsule_data = pd.DataFrame([{\n",
    "    'Capsule Start':    pd.to_datetime('2019-01-10T09:00:00.000Z'),\n",
    "    'Capsule End':      pd.to_datetime('2019-01-10T17:00:00.000Z'),\n",
    "    'Height': 5,\n",
    "    'Mass': 10,\n",
    "}, {\n",
    "    'Capsule Start':    pd.to_datetime('2019-01-11T09:00:00.000Z'),\n",
    "    'Capsule End':      pd.to_datetime('2019-01-11T17:00:00.000Z'),\n",
    "    'Height': 3,\n",
    "    'Mass' : 6\n",
    "}])\n",
    "\n",
    "capsule_data"
   ]
  },
  {
   "cell_type": "markdown",
   "metadata": {},
   "source": [
    "Use `Capsule Property Units` in metadata dataframe to specify that `Height` has units of meters, `m` and Mass has units of `kg` :"
   ]
  },
  {
   "cell_type": "code",
   "execution_count": null,
   "metadata": {},
   "outputs": [],
   "source": [
    "spy.push(data=capsule_data,\n",
    "         metadata=pd.DataFrame([{\n",
    "             'Name': 'In Production',\n",
    "             'Type': 'Condition',\n",
    "             'Maximum Duration': '2d',\n",
    "             'Capsule Property Units': {'Height': 'm',\n",
    "                                        'Mass': 'kg'}\n",
    "         }]), workbook='SPy Documentation Examples >> spy.push')"
   ]
  },
  {
   "cell_type": "markdown",
   "metadata": {},
   "source": [
    "## Updating capsules"
   ]
  },
  {
   "cell_type": "markdown",
   "metadata": {},
   "source": [
    "To update capsules, you must replace them with new capsules. An easy workflow for this is to pull all the capsules in the range you want to edit, make changes, and then push with the `replace` argument set to the same range.\n"
   ]
  },
  {
   "cell_type": "markdown",
   "metadata": {},
   "source": [
    "First, get the condition using `spy.search()`:"
   ]
  },
  {
   "cell_type": "code",
   "execution_count": null,
   "metadata": {},
   "outputs": [],
   "source": [
    "condition = spy.search({'Name': 'In Production'}, workbook='SPy Documentation Examples >> spy.push')\n",
    "condition"
   ]
  },
  {
   "cell_type": "markdown",
   "metadata": {},
   "source": [
    "The start and end should be identical for both the `spy.pull()` and the `replace` argument to `spy.push()` so that nothing is accidentally deleted or duplicated. To make this easier, save them as variables."
   ]
  },
  {
   "cell_type": "code",
   "execution_count": null,
   "metadata": {},
   "outputs": [],
   "source": [
    "replace_start=pd.to_datetime('2019-01-10T09:00:00.000Z')\n",
    "replace_end=pd.to_datetime('2019-01-11T17:00:00.000Z')"
   ]
  },
  {
   "cell_type": "markdown",
   "metadata": {},
   "source": [
    "Get all the capsules within that range:"
   ]
  },
  {
   "cell_type": "code",
   "execution_count": null,
   "metadata": {},
   "outputs": [],
   "source": [
    "new_capsule_data = spy.pull(condition,\n",
    "                            start=replace_start,\n",
    "                            end=replace_end)\n",
    "new_capsule_data"
   ]
  },
  {
   "cell_type": "markdown",
   "metadata": {},
   "source": [
    "Now we can update specific capsule properies. Let's say the height of the first capsule was actually 4 meters and the Mass for the second capsule is 7 kg :"
   ]
  },
  {
   "cell_type": "code",
   "execution_count": null,
   "metadata": {},
   "outputs": [],
   "source": [
    "new_capsule_data.at[0, 'Height'] = 4\n",
    "new_capsule_data.at[1, 'Mass'] = 7\n",
    "new_capsule_data"
   ]
  },
  {
   "cell_type": "markdown",
   "metadata": {},
   "source": [
    "Additional capsule propeties can also be added at this time. Suppose you want to record what the temperature was for the first capsule. A new `Temperature` property can be added:"
   ]
  },
  {
   "cell_type": "code",
   "execution_count": null,
   "metadata": {},
   "outputs": [],
   "source": [
    "new_capsule_data.at[0, 'Temperature'] = 67\n",
    "new_capsule_data"
   ]
  },
  {
   "cell_type": "markdown",
   "metadata": {},
   "source": [
    "You must specify units of measure for existing properties (e.g., `Height` and `Mass`) with every `spy.push()` along with units for new properties (e.g., `Temperature` measured in `F`). \n",
    "\n",
    "The `replace` parameter takes a dictionary with the keys `'Start'` and `'End'`. Any capsules that start in the provided time period will be replaced. \n",
    "\n",
    "Push the `new_capsule_data` using the `replace` parameter."
   ]
  },
  {
   "cell_type": "code",
   "execution_count": null,
   "metadata": {},
   "outputs": [],
   "source": [
    "spy.push(data=new_capsule_data,\n",
    "         metadata=pd.DataFrame([{\n",
    "             'Name': 'In Production',\n",
    "             'Type': 'Condition',\n",
    "             'Maximum Duration': '2d',\n",
    "             'Capsule Property Units': {'Height':'m',\n",
    "                                        'Mass':'kg', \n",
    "                                        'Temperature':'F'}\n",
    "         }]), \n",
    "         replace={'Start':   replace_start,\n",
    "                  'End':     replace_end},\n",
    "         workbook='SPy Documentation Examples >> spy.push')"
   ]
  },
  {
   "cell_type": "markdown",
   "metadata": {},
   "source": [
    "## Deleting capsules"
   ]
  },
  {
   "cell_type": "markdown",
   "metadata": {},
   "source": [
    "The `replace` argument can also be used to delete capsules. All capsules starting within the time range specified by `replace` are deleted before the new capsules are added, so providing no new capsules to `spy.push()` functions as a simple deletion.\n",
    "\n",
    "<b>Caution</b>: any capsules whose `Start` value is within the `replace` range will be deleted. The `replace` `Start` is inclusive and `replace` `End` is exclusive."
   ]
  },
  {
   "cell_type": "markdown",
   "metadata": {},
   "source": [
    "To delete the first capsule, we'll specify a time range that includes its start (and no other capsule's start):"
   ]
  },
  {
   "cell_type": "code",
   "execution_count": null,
   "metadata": {},
   "outputs": [],
   "source": [
    "spy.push(metadata=pd.DataFrame([{\n",
    "             'Name': 'In Production',\n",
    "             'Type': 'Condition',\n",
    "             'Maximum Duration': '2d'}]),\n",
    "         replace={'Start':    pd.to_datetime('2019-01-10T09:00:00.000Z'),\n",
    "                  'End':      pd.to_datetime('2019-01-10T10:00:00.000Z')},\n",
    "         workbook='SPy Documentation Examples >> spy.push')"
   ]
  },
  {
   "cell_type": "markdown",
   "metadata": {},
   "source": [
    "If there are several capsules that start at the same time or within the same range, you can delete just one by following the update workflow but removing the capsule to be deleted from the `pandas` DataFrame before using `spy.push()`"
   ]
  },
  {
   "cell_type": "markdown",
   "metadata": {},
   "source": [
    "## Pushing calculated items\n",
    "\n",
    "You can push Signals, Conditions and Scalars that are calculated via Seeq's _Formula_ language by supplying a metadata DataFrame with the following columns:\n",
    "\n",
    "- `Formula`: A string representing the Seeq Formula, written just as you would in the _Formula_ tool within Seeq Workbench.\n",
    "- `Formula Parameters`: A dictionary where the keys represent variable names declared in the formula and the values can be:\n",
    "  - A string that is the `ID` of the item.\n",
    "  - A single-row DataFrame that contains an `ID` column referring to the item.\n",
    "  - A (nested) dictionary of column/value pairs that reference another row's cell(s) in the `metadata` DataFrame you are pushing. This is a _forward reference_, and SPy will handle the correct sequencing of item creation/updating. (You do not have to worry about the order in which items appear in the DataFrame.)\n",
    "\n",
    "Let's take a look at how all these methods work in practice:"
   ]
  },
  {
   "cell_type": "code",
   "execution_count": null,
   "metadata": {},
   "outputs": [],
   "source": [
    "import textwrap\n",
    "\n",
    "# Search for the items to use as inputs\n",
    "area_a_power_row = spy.search({\n",
    "    'Datasource Name': 'Example Data',\n",
    "    'Type': 'Signal',\n",
    "    'Name': 'Area A_Compressor Power'\n",
    "})\n",
    "\n",
    "area_b_power_series = spy.search({\n",
    "    'Datasource Name': 'Example Data',\n",
    "    'Type': 'Signal',\n",
    "    'Name': 'Area B_Compressor Power'\n",
    "}).squeeze()\n",
    "\n",
    "area_b_power_id = area_b_power_series['ID']\n",
    "\n",
    "# Define a metadata DataFrame with two calculated items\n",
    "metadata=pd.DataFrame([\n",
    "    {\n",
    "        'Name': 'Area A plus B Compressor Power',\n",
    "        'Type': 'Signal',\n",
    "        'Formula': textwrap.dedent(\"\"\"\n",
    "            $a + $b\n",
    "        \"\"\").strip(),   # We use textwrap.dedent() and strip() on a multiline string to make it look good in the Formula tool\n",
    "        'Formula Parameters': {\n",
    "            '$a': area_a_power_row,\n",
    "            '$b': area_b_power_id\n",
    "        }\n",
    "    }, {\n",
    "        'Name': 'A and B High Inrush',\n",
    "        'Type': 'Condition',\n",
    "        'Formula': textwrap.dedent(\"\"\"\n",
    "            $AandB > 60\n",
    "        \"\"\").strip(),\n",
    "        'Formula Parameters': {\n",
    "            '$AandB': {\n",
    "                'Name': 'Area A plus B Compressor Power'   # You can also specify 'Path' and 'Asset' in the dictionary\n",
    "            }\n",
    "        }\n",
    "    }])\n",
    "\n",
    "# Push those calculations to the workbook\n",
    "pushed_calculations_df = spy.push(metadata=metadata, workbook='SPy Documentation Examples >> spy.push')"
   ]
  },
  {
   "cell_type": "markdown",
   "metadata": {},
   "source": [
    "As you can see in the results DataFrame, the `A and B High Inrush` Condition's `Formula Parameters` refer (correctly) to the `ID` of `Area A plus B Compressor Power`."
   ]
  },
  {
   "cell_type": "markdown",
   "metadata": {},
   "source": [
    "## Archiving / Trashing Items\n",
    "\n",
    "If you pushed some items and you decide you want to put them in the trash, use `spy.archive()`. You just need a DataFrame with an `ID` column, and any SPy function that returns items will include one."
   ]
  },
  {
   "cell_type": "code",
   "execution_count": null,
   "metadata": {},
   "outputs": [],
   "source": [
    "# Trash the items\n",
    "spy.archive(pushed_calculations_df)\n",
    "\n",
    "# Undo it!\n",
    "spy.archive(pushed_calculations_df, undo=True)"
   ]
  },
  {
   "cell_type": "markdown",
   "metadata": {},
   "source": [
    "## Detailed Help\n",
    "\n",
    "All SPy functions have detailed documentation to help you use them. Just execute `help(spy.<func>)` like\n",
    "you see below.\n",
    "\n",
    "**Make sure you re-execute the cell below to see the latest documentation. It otherwise might be from an\n",
    "earlier version of SPy.**"
   ]
  },
  {
   "cell_type": "code",
   "execution_count": null,
   "metadata": {},
   "outputs": [],
   "source": [
    "help(spy.push)"
   ]
  }
 ],
 "metadata": {
  "kernelspec": {
   "display_name": "Python 3.11",
   "language": "python",
   "name": "python311"
  },
  "language_info": {
   "codemirror_mode": {
    "name": "ipython",
    "version": 3
   },
   "file_extension": ".py",
   "mimetype": "text/x-python",
   "name": "python",
   "nbconvert_exporter": "python",
   "pygments_lexer": "ipython3",
   "version": "3.11.9"
  }
 },
 "nbformat": 4,
 "nbformat_minor": 4
}
