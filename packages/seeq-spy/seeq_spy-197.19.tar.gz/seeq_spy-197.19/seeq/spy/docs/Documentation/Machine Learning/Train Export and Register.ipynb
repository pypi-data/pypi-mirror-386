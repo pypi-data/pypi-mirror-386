{
 "cells": [
  {
   "cell_type": "markdown",
   "id": "8475aece-c260-4592-9376-5db9417f86ef",
   "metadata": {},
   "source": [
    "# Train a Machine Learning Model, Export to ONNX, and Register in Seeq\n",
    "\n",
    "## This notebook walks through:\n",
    "\n",
    "1. Training a simple Machine Learning model\n",
    "2. Converting the trained model to ONNX format\n",
    "3. Registering the ONNX in Seeq using `SeeqONNXClient`\n",
    "\n",
    "## What is ONNX?\n",
    "**[ONNX (Open Neural Network Exchange)](https://onnx.ai/)** is an open standard format for representing machine learning models.\n",
    "- Interoperable across frameworks (e.g., PyTorch, Scikit-learn, TensorFlow)\n",
    "- Ideal for model sharing, deployment, and runtime optimization\n",
    "\n",
    "You can train a model in one framework and run it in another runtime that supports ONNX (e.g., ONNX Runtime)."
   ]
  },
  {
   "cell_type": "markdown",
   "id": "debe356e-a6d7-4239-8376-1a0076055f12",
   "metadata": {},
   "source": [
    "## Example\n",
    "\n",
    "In this example, we predict the Temperature of `Example >> Cooling Tower 1 >> Area A` using features like:\n",
    "\n",
    "- Relative Humidity\n",
    "- Optimizer\n",
    "- Compressor Power\n",
    "- Wet Bulb\n",
    "\n",
    "We use the `RandomForestRegressor` model from `scikit-learn` for training. The trained model is then:\n",
    "\n",
    "1. Exported to ONNX format\n",
    "2. Registered in Seeq using the `SeeqONNXClient`"
   ]
  },
  {
   "cell_type": "markdown",
   "id": "a3ac321e-0200-4aef-813b-8dd221cc337c",
   "metadata": {},
   "source": [
    "### Step 1: Import required modules\n",
    "\n",
    "First, we import all the necessary Python libraries. These are needed to train the model, export it, and register it later. This step sets up everything we need for the process ahead."
   ]
  },
  {
   "cell_type": "code",
   "execution_count": 1,
   "id": "87bb9e61-839b-46bd-8fc8-2bfe26ec76af",
   "metadata": {},
   "outputs": [],
   "source": [
    "# If you do not have required modules installed, install it using the following command:\n",
    "!pip install scikit-learn onnx==1.17.0 skl2onnx\n",
    "\n",
    "# Note: After installing , please restart the kernel to ensure the changes take effect."
   ]
  },
  {
   "cell_type": "code",
   "execution_count": 2,
   "id": "3d90f07e-e236-44cb-98ef-67d7b89cfdaa",
   "metadata": {},
   "outputs": [],
   "source": [
    "from seeq import spy\n",
    "import datetime\n",
    "from sklearn.model_selection import train_test_split\n",
    "from sklearn.ensemble import RandomForestRegressor\n",
    "from sklearn.metrics import mean_squared_error\n",
    "import onnx\n",
    "from skl2onnx import convert_sklearn\n",
    "from skl2onnx.common.data_types import FloatTensorType\n",
    "from source.seeq_onnx_helper import cast_double_to_float, describe_onnx\n",
    "from source.seeq_onnx_helper import SeeqONNXClient"
   ]
  },
  {
   "cell_type": "markdown",
   "id": "b98c2f30-c535-4078-8f80-38cbccb69623",
   "metadata": {},
   "source": [
    "### Step 2: Load and Prepare Data\n",
    "\n",
    "Next, we load the dataset and split it into training and testing sets. The training set will be used to train the model, while the testing set helps us check how well the model performs."
   ]
  },
  {
   "cell_type": "code",
   "execution_count": 3,
   "id": "8476b16a-0dff-4f07-835e-78e15efc7b7d",
   "metadata": {},
   "outputs": [],
   "source": [
    "# This example uses the data from the Example >> Cooling Tower 1 >> Area A.\n",
    "\n",
    "# Log into Seeq Server if you're not using Seeq Data Lab:\n",
    "spy.login(url='http://localhost:34216', credentials_file='../credentials.key', force=False, quiet=True)\n",
    "\n",
    "results = spy.search({\"Path\": \"Example >> Cooling Tower 1 >> Area A\"}, quiet=True)\n",
    "df = spy.pull(results, start='2025-01-01', end='2025-01-15', grid='30min', header='Name', quiet=True)"
   ]
  },
  {
   "cell_type": "code",
   "execution_count": 4,
   "id": "510f82e9-8b58-46ed-9b4d-0a9f552ada30",
   "metadata": {},
   "outputs": [
    {
     "data": {
      "text/html": [
       "<div>\n",
       "<style scoped>\n",
       "    .dataframe tbody tr th:only-of-type {\n",
       "        vertical-align: middle;\n",
       "    }\n",
       "\n",
       "    .dataframe tbody tr th {\n",
       "        vertical-align: top;\n",
       "    }\n",
       "\n",
       "    .dataframe thead th {\n",
       "        text-align: right;\n",
       "    }\n",
       "</style>\n",
       "<table border=\"1\" class=\"dataframe\">\n",
       "  <thead>\n",
       "    <tr style=\"text-align: right;\">\n",
       "      <th></th>\n",
       "      <th>Relative Humidity</th>\n",
       "      <th>Optimizer</th>\n",
       "      <th>Temperature</th>\n",
       "      <th>Compressor Power</th>\n",
       "      <th>Wet Bulb</th>\n",
       "      <th>Compressor Stage</th>\n",
       "    </tr>\n",
       "  </thead>\n",
       "  <tbody>\n",
       "    <tr>\n",
       "      <th>2025-01-01 00:00:00+00:00</th>\n",
       "      <td>44.222585</td>\n",
       "      <td>1.27119</td>\n",
       "      <td>93.483492</td>\n",
       "      <td>17.148297</td>\n",
       "      <td>75.742938</td>\n",
       "      <td>STAGE 1</td>\n",
       "    </tr>\n",
       "    <tr>\n",
       "      <th>2025-01-01 00:30:00+00:00</th>\n",
       "      <td>42.131650</td>\n",
       "      <td>1.95313</td>\n",
       "      <td>95.084983</td>\n",
       "      <td>17.398583</td>\n",
       "      <td>76.137111</td>\n",
       "      <td>STAGE 1</td>\n",
       "    </tr>\n",
       "    <tr>\n",
       "      <th>2025-01-01 01:00:00+00:00</th>\n",
       "      <td>43.378360</td>\n",
       "      <td>1.55407</td>\n",
       "      <td>95.210453</td>\n",
       "      <td>17.347173</td>\n",
       "      <td>76.754701</td>\n",
       "      <td>STAGE 1</td>\n",
       "    </tr>\n",
       "    <tr>\n",
       "      <th>2025-01-01 01:30:00+00:00</th>\n",
       "      <td>43.819000</td>\n",
       "      <td>1.95313</td>\n",
       "      <td>93.568286</td>\n",
       "      <td>17.390857</td>\n",
       "      <td>75.646889</td>\n",
       "      <td>STAGE 1</td>\n",
       "    </tr>\n",
       "    <tr>\n",
       "      <th>2025-01-01 02:00:00+00:00</th>\n",
       "      <td>43.379992</td>\n",
       "      <td>1.95313</td>\n",
       "      <td>95.052661</td>\n",
       "      <td>17.258744</td>\n",
       "      <td>76.631910</td>\n",
       "      <td>STAGE 1</td>\n",
       "    </tr>\n",
       "  </tbody>\n",
       "</table>\n",
       "</div>"
      ],
      "text/plain": [
       "                           Relative Humidity  Optimizer  Temperature  \\\n",
       "2025-01-01 00:00:00+00:00          44.222585    1.27119    93.483492   \n",
       "2025-01-01 00:30:00+00:00          42.131650    1.95313    95.084983   \n",
       "2025-01-01 01:00:00+00:00          43.378360    1.55407    95.210453   \n",
       "2025-01-01 01:30:00+00:00          43.819000    1.95313    93.568286   \n",
       "2025-01-01 02:00:00+00:00          43.379992    1.95313    95.052661   \n",
       "\n",
       "                           Compressor Power   Wet Bulb Compressor Stage  \n",
       "2025-01-01 00:00:00+00:00         17.148297  75.742938          STAGE 1  \n",
       "2025-01-01 00:30:00+00:00         17.398583  76.137111          STAGE 1  \n",
       "2025-01-01 01:00:00+00:00         17.347173  76.754701          STAGE 1  \n",
       "2025-01-01 01:30:00+00:00         17.390857  75.646889          STAGE 1  \n",
       "2025-01-01 02:00:00+00:00         17.258744  76.631910          STAGE 1  "
      ]
     },
     "execution_count": 4,
     "metadata": {},
     "output_type": "execute_result"
    }
   ],
   "source": [
    "df.head()"
   ]
  },
  {
   "cell_type": "code",
   "execution_count": 5,
   "id": "07fc4262-73b2-4aa9-ab4c-9648a1736812",
   "metadata": {},
   "outputs": [],
   "source": [
    "train_columns = [\"Relative Humidity\", \"Optimizer\", \"Compressor Power\", \"Wet Bulb\"]\n",
    "target_column = \"Temperature\"\n",
    "\n",
    "X = df[train_columns]\n",
    "y = df[target_column]\n",
    "\n",
    "X_train, X_test, y_train, y_test = train_test_split(X, y, test_size=0.2, random_state=42)"
   ]
  },
  {
   "cell_type": "markdown",
   "id": "892bd73d-5b19-4f41-a273-01eea2e06a08",
   "metadata": {},
   "source": [
    "### Step 3: Train a Model\n",
    "\n",
    "Now we train a `RandomForestRegressor` using the training data. This is where the model learns the patterns and relationships needed to make predictions."
   ]
  },
  {
   "cell_type": "code",
   "execution_count": 6,
   "id": "53d80282-c369-452a-942b-f5d3f3bcbe26",
   "metadata": {},
   "outputs": [
    {
     "name": "stdout",
     "output_type": "stream",
     "text": [
      "MSE: 0.6234234528259502\n"
     ]
    }
   ],
   "source": [
    "model = RandomForestRegressor(n_estimators=10, random_state=42)\n",
    "model.fit(X_train, y_train)\n",
    "\n",
    "# Evaluate mean squared error\n",
    "preds = model.predict(X_test)\n",
    "print(\"MSE:\", mean_squared_error(y_test, preds))"
   ]
  },
  {
   "cell_type": "markdown",
   "id": "6b7813d2-81e0-4894-9aca-fd4392226a1e",
   "metadata": {},
   "source": [
    "### Step 4: Convert to ONNX\n",
    "\n",
    "Once training is done, we convert the `RandomForestRegressor` model into ONNX format. This makes it ready for deployment across different platforms."
   ]
  },
  {
   "cell_type": "code",
   "execution_count": 7,
   "id": "07da8cee-5c52-4dc4-b3b8-e654fabfa2ac",
   "metadata": {},
   "outputs": [
    {
     "name": "stdout",
     "output_type": "stream",
     "text": [
      "ONNX model saved to temperature_predictor.onnx\n"
     ]
    }
   ],
   "source": [
    "initial_type = [(\"input\", FloatTensorType([None, X_train.shape[1]]))]\n",
    "onnx_model = convert_sklearn(model, initial_types=initial_type)\n",
    "\n",
    "# Save the model\n",
    "onnx_path = \"temperature_predictor.onnx\"\n",
    "with open(onnx_path, \"wb\") as f:\n",
    "    f.write(onnx_model.SerializeToString())\n",
    "\n",
    "print(f\"ONNX model saved to {onnx_path}\")"
   ]
  },
  {
   "cell_type": "markdown",
   "id": "e2a2cf44-9dd8-400f-9271-cf209f628936",
   "metadata": {},
   "source": [
    "### Step 5: Register the ONNX with Seeq\n",
    "\n",
    "Now that the model is exported to ONNX, we register it with the Seeq server. This step makes the model accessible from Seeq for use.\n"
   ]
  },
  {
   "cell_type": "code",
   "execution_count": 8,
   "id": "59eb2b8c-0cd9-491b-b1fb-2e2061dbe587",
   "metadata": {},
   "outputs": [],
   "source": [
    "# Workbook to scope ONNX to\n",
    "\n",
    "workbook_path = spy.DEFAULT_WORKBOOK_PATH\n",
    "workbook_context = spy._context.WorkbookContext.from_string(session=spy.session, status=spy.Status(), workbook_arg=workbook_path, worksheet_arg=None, datasource_arg=None) \n",
    "workbook_id = workbook_context.workbook_object.id if workbook_context.workbook_object is not None else None"
   ]
  },
  {
   "cell_type": "code",
   "execution_count": 9,
   "id": "fc9254fe-fcf9-4c85-94a2-91d543897b52",
   "metadata": {},
   "outputs": [
    {
     "name": "stdout",
     "output_type": "stream",
     "text": [
      "\n",
      "=== Model: fc052c188a994ff59c9aa0eb831ffd58 ===\n",
      "\n",
      "Inputs:\n",
      "  - input: type=FLOAT, shape=['?', 4]\n",
      "\n",
      "Outputs:\n",
      "  - variable: type=FLOAT, shape=['?', 1]\n"
     ]
    }
   ],
   "source": [
    "onnx_model = onnx.load(onnx_path)\n",
    "describe_onnx(onnx_model)"
   ]
  },
  {
   "cell_type": "markdown",
   "id": "17fab081-807c-46b3-a901-adef77d7ec03",
   "metadata": {},
   "source": [
    "#### Seeq requires inputs of type DOUBLE for precision, but the ONNX model exported above has FLOAT inputs.\n",
    "##### we use the helper function `cast_double_to_float` to add a cast node to convert inputs from DOUBLE to FLOAT before proceeding."
   ]
  },
  {
   "cell_type": "code",
   "execution_count": 10,
   "id": "7c1ea4db-d461-4934-af64-adef52428f80",
   "metadata": {},
   "outputs": [
    {
     "name": "stdout",
     "output_type": "stream",
     "text": [
      "\n",
      "=== Model: fc052c188a994ff59c9aa0eb831ffd58 ===\n",
      "\n",
      "Inputs:\n",
      "  - input: type=DOUBLE, shape=['?', 4]\n",
      "\n",
      "Outputs:\n",
      "  - variable: type=FLOAT, shape=['?', 1]\n"
     ]
    }
   ],
   "source": [
    "casted_model = cast_double_to_float(onnx_model)\n",
    "describe_onnx(casted_model)"
   ]
  },
  {
   "cell_type": "code",
   "execution_count": 11,
   "id": "02f8f9d2-8e02-4b9d-9c9a-a59814f843ea",
   "metadata": {},
   "outputs": [],
   "source": [
    "# Next, we initialize the SeeqONNXClient to connect with the Seeq server.\n",
    "\n",
    "hostname = spy.client.host\n",
    "token = spy.client.auth_token\n",
    "seeq_onnx_client = SeeqONNXClient(hostname, token)"
   ]
  },
  {
   "cell_type": "markdown",
   "id": "a8564e9f-f38c-46df-a897-76c86fa576c1",
   "metadata": {},
   "source": [
    "#### Now we will call the `register` function of `SeeqONNXClient` and register the ONNX in Seeq.\n",
    "> **Note** Ensure that the labels list passed to register function maintains the same order as the features used during model training. Any mismatch in order can result in feeding incorrect signals into the model, leading to unreliable or inaccurate predictions."
   ]
  },
  {
   "cell_type": "code",
   "execution_count": 12,
   "id": "f0561842-8394-4fa2-89e3-58ee340fd8bd",
   "metadata": {},
   "outputs": [
    {
     "name": "stdout",
     "output_type": "stream",
     "text": [
      "Successfully registered ONNX 'Example temperature predictor 2025-05-29T23:34:22.318295' (ID: 0F03CB75-94CC-7310-BA21-3822EEFDBE4D) (Scoped to: 0F03C58B-57A5-FFD0-A8BD-541B0268E890)\n"
     ]
    }
   ],
   "source": [
    "onnx_id = seeq_onnx_client.register(\n",
    "    name=f\"Example temperature predictor {datetime.datetime.now().isoformat()}\",\n",
    "    description=\"A RandomForestRegressor trained to predict temperature of Example>>Cooling Tower 1>>Area A\",\n",
    "    model=casted_model,\n",
    "    model_type=\"PREDICTION\",\n",
    "    labels=train_columns,\n",
    "    scope=workbook_id\n",
    ")"
   ]
  },
  {
   "cell_type": "code",
   "execution_count": 13,
   "id": "f1f7d1ae-9965-41f4-a1b6-bfe895642c26",
   "metadata": {},
   "outputs": [
    {
     "data": {
      "text/html": [
       "<div>\n",
       "<style scoped>\n",
       "    .dataframe tbody tr th:only-of-type {\n",
       "        vertical-align: middle;\n",
       "    }\n",
       "\n",
       "    .dataframe tbody tr th {\n",
       "        vertical-align: top;\n",
       "    }\n",
       "\n",
       "    .dataframe thead th {\n",
       "        text-align: right;\n",
       "    }\n",
       "</style>\n",
       "<table border=\"1\" class=\"dataframe\">\n",
       "  <thead>\n",
       "    <tr style=\"text-align: right;\">\n",
       "      <th></th>\n",
       "      <th>ID</th>\n",
       "      <th>Name</th>\n",
       "      <th>Description</th>\n",
       "      <th>Type</th>\n",
       "      <th>Input Labels</th>\n",
       "      <th>Feature Count</th>\n",
       "      <th>Scoped To</th>\n",
       "      <th>Archived</th>\n",
       "    </tr>\n",
       "  </thead>\n",
       "  <tbody>\n",
       "    <tr>\n",
       "      <th>0</th>\n",
       "      <td>0F03CB75-94CC-7310-BA21-3822EEFDBE4D</td>\n",
       "      <td>Example temperature predictor 2025-05-29T23:34...</td>\n",
       "      <td>A RandomForestRegressor trained to predict tem...</td>\n",
       "      <td>PREDICTION</td>\n",
       "      <td>[Relative Humidity, Optimizer, Compressor Powe...</td>\n",
       "      <td>4</td>\n",
       "      <td>0F03C58B-57A5-FFD0-A8BD-541B0268E890</td>\n",
       "      <td>False</td>\n",
       "    </tr>\n",
       "  </tbody>\n",
       "</table>\n",
       "</div>"
      ],
      "text/plain": [
       "                                     ID  \\\n",
       "0  0F03CB75-94CC-7310-BA21-3822EEFDBE4D   \n",
       "\n",
       "                                                Name  \\\n",
       "0  Example temperature predictor 2025-05-29T23:34...   \n",
       "\n",
       "                                         Description        Type  \\\n",
       "0  A RandomForestRegressor trained to predict tem...  PREDICTION   \n",
       "\n",
       "                                        Input Labels  Feature Count  \\\n",
       "0  [Relative Humidity, Optimizer, Compressor Powe...              4   \n",
       "\n",
       "                              Scoped To  Archived  \n",
       "0  0F03C58B-57A5-FFD0-A8BD-541B0268E890     False  "
      ]
     },
     "execution_count": 13,
     "metadata": {},
     "output_type": "execute_result"
    }
   ],
   "source": [
    "seeq_onnx_client.list()"
   ]
  },
  {
   "cell_type": "markdown",
   "id": "c765312b-bb73-4d97-88dc-8272e80bc110",
   "metadata": {},
   "source": [
    "### Done\n",
    "Your Machine Learning model is trained, exported to ONNX, and registered on Seeq.\n",
    "\n",
    "**Next steps:**\n",
    "- Use the `External ML Tool` in the Tool Pane of Seeq\n",
    "  - Select the registered ONNX from the dropdown\n",
    "  - Map signals to ONNX inputs\n",
    "  - Execute"
   ]
  }
 ],
 "metadata": {
   "kernelspec": {
    "display_name": "Python 3.11",
    "language": "python",
    "name": "python311"
   },
   "language_info": {
    "codemirror_mode": {
     "name": "ipython",
     "version": 3
    },
    "file_extension": ".py",
    "mimetype": "text/x-python",
    "name": "python",
    "nbconvert_exporter": "python",
    "pygments_lexer": "ipython3",
    "version": "3.11.11"
   }
  },
 "nbformat": 4,
 "nbformat_minor": 5
}
