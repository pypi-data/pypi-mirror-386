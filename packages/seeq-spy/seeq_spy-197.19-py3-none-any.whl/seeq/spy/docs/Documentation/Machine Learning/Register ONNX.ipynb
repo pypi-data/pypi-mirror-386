{
 "cells": [
  {
   "cell_type": "markdown",
   "id": "df809877-976c-4e24-a81d-673f36a6ea31",
   "metadata": {},
   "source": [
    "# Registering and Managing ONNX in Seeq\n",
    "\n",
    "This notebook serves as a practical guide for working with ONNX using the `SeeqONNXClient`. It includes README sections with details about the client, its exposed functions, and how to use them effectively. Through step-by-step examples, you’ll learn how to:\n",
    "\n",
    "- Register ONNX models with Seeq and scoping them to Workbooks.\n",
    "- Update registered ONNX.\n",
    "- List registered ONNX.\n",
    "- Delete registered ONNX no longer needed.\n",
    "\n",
    "> **Note:** ONNX Registration is a licensed feature. Please contact Seeq Support for information on licensing to enable **External ML**."
   ]
  },
  {
   "cell_type": "code",
   "execution_count": 1,
   "id": "d45e761c-a5aa-4c30-8801-2d21c73adc0c",
   "metadata": {},
   "outputs": [],
   "source": [
    "# If you do not have ONNX installed, install it using the following command:\n",
    "!pip install onnx\n",
    "\n",
    "# Note: After installing ONNX, please restart the kernel to ensure the changes take effect."
   ]
  },
  {
   "cell_type": "markdown",
   "id": "79bbb5ef-17a9-4344-9656-74b90340736d",
   "metadata": {},
   "source": [
    "# ONNX Description\n",
    "\n",
    "The function `describe_onnx` prints details about the **Inputs** and **Outputs** of an ONNX, including:\n",
    "\n",
    "- Tensor name\n",
    "- Tensor type\n",
    "- Tensor shape"
   ]
  },
  {
   "cell_type": "code",
   "execution_count": 2,
   "id": "0b506486-a410-4675-84c3-ad9542cc52dc",
   "metadata": {},
   "outputs": [],
   "source": [
    "import onnx\n",
    "from source.seeq_onnx_helper import describe_onnx"
   ]
  },
  {
   "cell_type": "code",
   "execution_count": 3,
   "id": "4b91ad70-aaaa-4c96-8548-cea09e45ac76",
   "metadata": {},
   "outputs": [
    {
     "name": "stdout",
     "output_type": "stream",
     "text": [
      "\n",
      "=== Model: MLP Regressor ===\n",
      "\n",
      "Inputs:\n",
      "  - input: type=DOUBLE, shape=['?', 2]\n",
      "\n",
      "Outputs:\n",
      "  - variable: type=FLOAT, shape=['?', 1]\n"
     ]
    }
   ],
   "source": [
    "model = onnx.load(\"example_mlp_regressor.onnx\")\n",
    "\n",
    "describe_onnx(model)"
   ]
  },
  {
   "cell_type": "markdown",
   "id": "2de1a1ad-52c1-47a1-b3ba-6dceb5603f7a",
   "metadata": {},
   "source": [
    "## Input tensor type requirement: DOUBLE\n",
    "\n",
    "> **Note:**  \n",
    "> It is preferable to **export input types as DOUBLE** when exporting models to ONNX. This ensures compatibility with Seeq that require `DOUBLE` precision for inputs. By setting input types to `DOUBLE` from the start, you can avoid potential type mismatches and unnecessary casting operations after model export.\n",
    "\n",
    "If Seeq rejects your ONNX registration request due to a **type mismatch**, you can cast the input to `DOUBLE` to meet the requirement.\n",
    "\n",
    "### How to cast from `FLOAT` to `DOUBLE`:\n",
    "\n",
    "If you need to convert an input tensor from `FLOAT` to `DOUBLE`, you can perform the casting within the ONNX model using the `Cast` operator. Here’s an example of how to do this using Python and the `onnx` library:\n",
    "\n",
    "#### Python code to cast input type\n",
    "\n",
    "```python\n",
    "import onnx\n",
    "from source.seeq_onnx_helper import cast_double_to_float\n",
    "\n",
    "model = onnx.load(\"model.onnx\")\n",
    "modified_model = cast_double_to_float(model)\n",
    "onnx.save(modified_model, \"modified_model.onnx\")\n"
   ]
  },
  {
   "cell_type": "markdown",
   "id": "b43362d9-18d2-4848-8be4-b7d2f2abf44e",
   "metadata": {},
   "source": [
    "# ONNX Registration\n",
    "\n",
    "> ONNX Registration is a licensed feature. Ensure that you have the appropriate license before attempting to register. For more information or to enable **External ML**, please contact Seeq Support."
   ]
  },
  {
   "cell_type": "markdown",
   "id": "a26798f8-8340-46a1-8ef5-9aa1d900b81e",
   "metadata": {},
   "source": [
    "## ONNX Registration Clients\n",
    "\n",
    "The `seeq_onnx_helper` provides a client for registering ONNX in Seeq.\n",
    "\n",
    "> **Note:** When using Data Lab, if you want to use `seeq_onnx_helper` from any folder/notebook, add the following code at the beginning of your notebook:\n",
    "```python\n",
    "import sys\n",
    "sys.path.append('/home/datalab/SPy Documentation/Machine Learning')\n",
    "```"
   ]
  },
  {
   "cell_type": "markdown",
   "id": "96f36fc7-bca2-4643-89a0-9451da576247",
   "metadata": {},
   "source": [
    "### `SeeqONNXClient`\n",
    "This client uses the requests library to make direct HTTP API calls to Seeq server, useful when the Seeq SDK is not available.\n",
    "\n",
    "``` python\n",
    "from source.seeq_onnx_helper import SeeqONNXClient\n",
    "from source.seeq_onnx_helper import get_auth_token\n",
    "\n",
    "hostname = \"https://tenant.seeq.com\"\n",
    "token = \"auth_token\"\n",
    "seeq_onnx_client = SeeqONNXClient(hostname, token)\n",
    "```"
   ]
  },
  {
   "cell_type": "markdown",
   "id": "2b9df4b1-2717-4c25-b7f3-d8bcda9e26be",
   "metadata": {},
   "source": [
    "#### How to get authentication token\n",
    "\n",
    "> When you are using `SeeqONNXClient` client, you need to pass a `auth_token` as a parameter. You can either extract it from API requests or if you have any version of `SPy` installed, you can access it from `spy.client.auth_token` after `spy.login()`.\n",
    "\n",
    "> If you do not have `SPy`, you can use the function `get_auth_token` to generate a new authentication token. This function takes `host`, `username`, and `password` as parameters.\n",
    "\n",
    "> If you are on Single Sign-On (SSO), and do not have `username` and `password` for Seeq (or if you do not want to enter your credentials), then you can create an `Access Key`, `password` on Seeq and use that as `username` and `password`.\n",
    "\n",
    "\n",
    "```python\n",
    "from source.seeq_onnx_helper import get_auth_token\n",
    "\n",
    "hostname = \"https://tenant.seeq.com\"\n",
    "username = \"username\"\n",
    "password = \"password\"\n",
    "token = get_auth_token(hostname, username, password)"
   ]
  },
  {
   "cell_type": "markdown",
   "id": "2e669b0e-f448-48ab-8d7c-761f3b51dd72",
   "metadata": {},
   "source": [
    "## Available Functions \n",
    "\n",
    "`SeeqONNXClient` exposes 4 core functions:\n",
    "\n",
    "### 1. `list`\n",
    "\n",
    "The `list` function lists all the ONNX registered in Seeq server.\n",
    "\n",
    "Below are the details of parameters accepted by `list` function:\n",
    "\n",
    "<div style=\"display: inline-block\">\n",
    "    \n",
    "| Parameter     | Type              | Description |\n",
    "|:--------------|:------------------|:------------|\n",
    "| `scope`       | `str`             | *(Optional)* The ID of the workbook to filter the ONNX by scope. If not provided, all ONNX will be listed. |\n",
    "| `include_archived` | `bool`             | *(Optional)* If True, includes archived ONNX in the list. Defaults to False. |\n",
    "</div>\n",
    "\n",
    "### Example usage:\n",
    "\n",
    "```python\n",
    "seeq_onnx_client.list(scope=\"0F02FF3F-C351-7120-A14E-9C6B5EA3FF30\")\n",
    "```\n",
    "\n",
    "\n",
    "### 2. `register`\n",
    "\n",
    "The `register` function provides functionality to register an **ONNX** in Seeq server.\n",
    "\n",
    "Below are the details of parameters accepted by `register` function:\n",
    "\n",
    "<div style=\"display: inline-block\">\n",
    "    \n",
    "| Parameter     | Type              | Description |\n",
    "|:--------------|:------------------|:------------|\n",
    "| `name`        | `str`             | Name to assign to the registered ONNX. |\n",
    "| `description` | `str`             | A short description of the ONNX's purpose. |\n",
    "| `model`       | `onnx.ModelProto` | The ONNX model to register. |\n",
    "| `model_type`  | `str`             | The type of the model (`PREDICTION` or `ANOMALY`). |\n",
    "| `labels`      | `List[str]`       | List of input labels/features corresponding to the ONNX's input. |\n",
    "| `scope`       | `UUID`            | *(Optional)* The ID of the workbook to which this item will be scoped. |\n",
    "</div>\n",
    "\n",
    "> **Note** Ensure that the labels list passed to register function maintains the same order as the features used during model training. Any mismatch in order can result in feeding incorrect signals into the model, leading to unreliable or inaccurate predictions.\n",
    "\n",
    "Seeq supports two types of Machine Learning Models: [Prediction model and Anomaly model](https://support.seeq.com/kb/latest/cloud/machine-learning-models).\n",
    "\n",
    "#### PREDICTION Model options\n",
    "\n",
    "Use these as keyword arguments when `model_type=\"PREDICTION\"`:\n",
    "\n",
    "<div style=\"display: inline-block\">\n",
    "    \n",
    "| Option        | Type   | Description |\n",
    "|:--------------|:-------|:------------|\n",
    "| `valueUnits`  | `str`  | *(Optional)* Unit of the predicted output signal. |\n",
    "</div>\n",
    "\n",
    "\n",
    "#### ANOMALY Model options\n",
    "\n",
    "Use these as keyword arguments when `model_type=\"ANOMALY\"`:\n",
    "\n",
    "<div style=\"display: inline-block\">\n",
    "    \n",
    "| Option             | Type   | Description |\n",
    "|:-------------------|:-------|:------------|\n",
    "| `outlierValue`     | `str`  | **Required.** The name of the ONNX model’s output tensor which predicts outliers (e.g., `\"outlier\"`). |\n",
    "| `outlierPredicate` | `str`  | *(Optional)* Expression to identify outliers based on `outlierValue`. Default is `\">0\"`. Allowed values: `\">0\"`, `\"<0\"`. |\n",
    "| `singleValue*`     | `str`  | *(Optional)* Keys starting with this prefix define ONNX model’s output tensor that expect a **single output value**. |\n",
    "<!-- | `featureValue*`    | `str`  | *(Optional)* Keys starting with this prefix define signals that expect **feature-sized output** | -->\n",
    "</div>\n",
    "\n",
    "> **Note:**\n",
    "> - Seeq currently accepts only ONNX models with a single input tensor of data type **DOUBLE** and output tensors of data type **DOUBLE / FLOAT / INT64**.\n",
    "> - In the case of a prediction model, the first output of the ONNX will be treated as the predicted value.\n",
    "\n",
    "### Example usage:\n",
    "\n",
    "```python\n",
    "seeq_onnx_client.register(\n",
    "    name=\"MyModel\",\n",
    "    description=\"An ONNX model for predictions\",\n",
    "    model=onnx_model,\n",
    "    model_type=\"PREDICTION\",\n",
    "    labels=[\"label1\", \"label2\"],\n",
    "    scope=\"0F02FF3F-C351-7120-A14E-9C6B5EA3FF30\"\n",
    ")\n",
    "```\n",
    "\n",
    "\n",
    "### 3. `update`\n",
    "\n",
    "The `update` function provides functionality to update an already registered **ONNX** in Seeq server.\n",
    "\n",
    "> **Note:** If an ONNX was registered with `model_type=\"PREDICTION\"` then it cannot be changed to `model_type=\"ANOMALY\"`\n",
    "\n",
    "Below are the details of parameters accepted by `update` function:\n",
    "\n",
    "<div style=\"display: inline-block\">\n",
    "    \n",
    "| Parameter     | Type              | Description |\n",
    "|:--------------|:------------------|:------------|\n",
    "| `id`          | `str`             | The ID of the registered ONNX to update. |\n",
    "| `name`        | `str`             | *(Optional)* Name to assign to the registered ONNX. |\n",
    "| `description` | `str`             | *(Optional)* A short description of the ONNX's purpose. |\n",
    "| `model`       | `onnx.ModelProto` | *(Optional)* The ONNX model to register. |\n",
    "| `labels`      | `List[str]`       | *(Optional)* *(Required when `model` is set)* List of input labels/features corresponding to the ONNX's input. |\n",
    "| `scope`       | `UUID`            | *(Optional)* The ID of the workbook to which this item will be scoped. |\n",
    "</div>\n",
    "\n",
    "> **Note** Ensure that the labels list passed to register function maintains the same order as the features used during model training. Any mismatch in order can result in feeding incorrect signals into the model, leading to unreliable or inaccurate predictions.\n",
    "\n",
    "Seeq supports two types of Machine Learning Models: [Prediction model and Anomaly model](https://support.seeq.com/kb/latest/cloud/machine-learning-models).\n",
    "\n",
    "#### PREDICTION Model options\n",
    "\n",
    "Use these as keyword arguments if the registed ONNX `model_type=\"PREDICTION\"` :\n",
    "\n",
    "<div style=\"display: inline-block\">\n",
    "    \n",
    "| Option        | Type   | Description |\n",
    "|:--------------|:-------|:------------|\n",
    "| `valueUnits`  | `str`  | *(Optional)* Unit of the predicted output signal. |\n",
    "</div>\n",
    "\n",
    "\n",
    "#### ANOMALY Model options\n",
    "\n",
    "Use these as keyword arguments if the registed ONNX `model_type=\"ANOMALY\"`:\n",
    "\n",
    "<div style=\"display: inline-block\">\n",
    "    \n",
    "| Option             | Type   | Description |\n",
    "|:-------------------|:-------|:------------|\n",
    "| `outlierValue`     | `str`  | **Required.** The name of the ONNX model’s output tensor which predicts outliers (e.g., `\"outlier\"`). |\n",
    "| `outlierPredicate` | `str`  | *(Optional)* Expression to identify outliers based on `outlierValue`. Default is `\">0\"`. Allowed values: `\">0\"`, `\"<0\"`. |\n",
    "| `singleValue*`     | `str`  | *(Optional)* Keys starting with this prefix define ONNX model’s output tensor that expect a **single output value**. |\n",
    "<!-- | `featureValue*`    | `str`  | *(Optional)* Keys starting with this prefix define signals that expect **feature-sized output** | -->\n",
    "</div>\n",
    "\n",
    "> **Note:** Individual fields can be updated by passing values only for the fields that need to be changed.\n",
    "\n",
    "### Example usage:\n",
    "\n",
    "```python\n",
    "seeq_onnx_client.update(\n",
    "    \"0F03ACF8-0E0E-E8F0-833A-122F99ACAF26\",\n",
    "    name=\"New Name\",\n",
    "    description=\"New description for the ONNNX\",\n",
    "    model=new_onnx_model,\n",
    "    labels=[\"new_label1\", \"new_label2\"],\n",
    ")\n",
    "```\n",
    "\n",
    "### 4. `archive`\n",
    "\n",
    "The `archive` function archives the ONNX registered in Seeq server.\n",
    "\n",
    "Below are the details of parameters accepted by `archive` function:\n",
    "\n",
    "<div style=\"display: inline-block\">\n",
    "    \n",
    "| Parameter     | Type              | Description |\n",
    "|:--------------|:------------------|:------------|\n",
    "| `id`          | `str`             | The ID of the registered ONNX to archive. |\n",
    "| `delete`      | `bool`            | *(Optional)* If True, the ONNX will be deleted; otherwise, it will be archived. Defaults to False. |\n",
    "</div>\n",
    "\n",
    "### Example usage:\n",
    "\n",
    "```python\n",
    "seeq_onnx_client.archive(\"0F03AD3C-DDA4-6670-AB9D-ADE5257848E1\", delete=False)\n",
    "```\n",
    "\n",
    "\n"
   ]
  },
  {
   "cell_type": "markdown",
   "id": "12198c0c-7dbb-4a54-84d0-85e1c8bd1c1d",
   "metadata": {},
   "source": [
    "## Examples\n",
    "\n",
    "In the following examples, we scope the ONNX to a workbook. A new workbook at default path is created, and the Registered ONNX are scoped to it. If you prefer to use an existing workbook, you can simply provide its workbook_id."
   ]
  },
  {
   "cell_type": "code",
   "execution_count": 4,
   "id": "82b90a72-55ac-4128-aa4a-6c616640c67a",
   "metadata": {},
   "outputs": [],
   "source": [
    "from seeq import spy\n",
    "\n",
    "# Log into Seeq Server if you're not using Seeq Data Lab:\n",
    "spy.login(url='http://localhost:34216', credentials_file='../credentials.key', force=False, quiet=True)"
   ]
  },
  {
   "cell_type": "code",
   "execution_count": 5,
   "id": "76947558-fe49-4bf8-a51f-90daf899c5d0",
   "metadata": {},
   "outputs": [
    {
     "name": "stdout",
     "output_type": "stream",
     "text": [
      "Scoped workbook URL: http://localhost:34216/workbook/0F0609A2-7A54-ECE0-A0CB-76417CA4B452\n"
     ]
    }
   ],
   "source": [
    "# Workbook to scope Example ONNX to\n",
    "\n",
    "workbook_path = spy.DEFAULT_WORKBOOK_PATH\n",
    "workbook_context = spy._context.WorkbookContext.from_string(session=spy.session, status=spy.Status(), workbook_arg=workbook_path, worksheet_arg=None, datasource_arg=None) \n",
    "workbook_id = workbook_context.workbook_object.id\n",
    "\n",
    "workbook_url = f\"{spy.session.public_url}/workbook/{workbook_id}\"\n",
    "print(\"Scoped workbook URL:\", workbook_url)"
   ]
  },
  {
   "cell_type": "markdown",
   "id": "e3ef555e-f39a-4876-9877-9db687b1f763",
   "metadata": {},
   "source": [
    "### Examples using `SeeqONNXClient`\n",
    "\n",
    "Start by initializing the `SeeqONNXClient` using the Seeq server's hostname and your access token"
   ]
  },
  {
   "cell_type": "code",
   "execution_count": 6,
   "id": "2e625111-2cca-4873-9d1d-83314bccff5c",
   "metadata": {},
   "outputs": [],
   "source": [
    "import datetime\n",
    "import onnx\n",
    "from source.seeq_onnx_helper import SeeqONNXClient\n",
    "\n",
    "hostname = spy.client.host\n",
    "token = spy.client.auth_token\n",
    "seeq_onnx_client = SeeqONNXClient(hostname, token)"
   ]
  },
  {
   "cell_type": "markdown",
   "id": "68d5e825-f41b-4aec-bbd8-b4c289e37fcb",
   "metadata": {},
   "source": [
    "#### Example 1: Registering an ONNX Prediction model\n",
    "\n",
    "In this example, we register a trained machine learning model built using an `MLPRegressor` algorithm. The model was trained on two input features - `Relative Humidity` and `Wet Bulb` - to predict the `Temperature` of `Example>>Cooling Tower 1>> Area *`. It was then converted to ONNX format and saved to a file. Below, we load the ONNX from the file and register it to Seeq as `PREDICTION` model."
   ]
  },
  {
   "cell_type": "code",
   "execution_count": 7,
   "id": "338d8592-a3c4-4dfa-b0f7-34479d810a14",
   "metadata": {},
   "outputs": [
    {
     "name": "stdout",
     "output_type": "stream",
     "text": [
      "\n",
      "=== Model: MLP Regressor ===\n",
      "\n",
      "Inputs:\n",
      "  - input: type=DOUBLE, shape=['?', 2]\n",
      "\n",
      "Outputs:\n",
      "  - variable: type=FLOAT, shape=['?', 1]\n"
     ]
    }
   ],
   "source": [
    "model = onnx.load(\"example_mlp_regressor.onnx\")\n",
    "\n",
    "describe_onnx(model)"
   ]
  },
  {
   "cell_type": "code",
   "execution_count": 8,
   "id": "a122eae2-970e-4d2b-bf3b-5f6119c406e1",
   "metadata": {},
   "outputs": [
    {
     "name": "stdout",
     "output_type": "stream",
     "text": [
      "Successfully registered ONNX 'Example temperature predictor (Example>>Cooling Tower 1>>Area *) 2025-07-14T15:36:15.376956' (ID: 0F0609A2-E594-FDC0-854A-7F57E1C462AC) (Scoped to: 0F0609A2-7A54-ECE0-A0CB-76417CA4B452)\n"
     ]
    }
   ],
   "source": [
    "prediction_onnx_id = seeq_onnx_client.register(\n",
    "    name=f\"Example temperature predictor (Example>>Cooling Tower 1>>Area *) {datetime.datetime.now().isoformat()}\",\n",
    "    description=\"This ONNX model is a Multi-layer perceptron regressor (MLPRegressor) trained to predict temperature based on 'Relative Humidity' and 'Wet Bulb' features of Example>>Cooling Tower 1>>Area *\",\n",
    "    model=model,\n",
    "    model_type=\"PREDICTION\",\n",
    "    labels=[\"Relative Humidity\", \"Wet Bulb\"],\n",
    "    scope=workbook_id\n",
    ")"
   ]
  },
  {
   "cell_type": "markdown",
   "id": "042d674f-edc7-4b72-91d6-2858b0d6e6b8",
   "metadata": {},
   "source": [
    "#### Example 2: Registering an ONNX Anomaly Detection model with required options\n",
    "\n",
    "In this example, we register a trained machine learning model built using a `One-Class Support Vector Machine` algorithm. The model was trained on three input features — `Temperature`, `Relative Humidity` and `Wet Bulb` — to detect anomalies in *Example >> Cooling Tower 1 >> Area **. After training, it was converted to ONNX format and saved to a file. Below, we load the ONNX model from the file and register it to Seeq as a model of type `ANOMALY`."
   ]
  },
  {
   "cell_type": "code",
   "execution_count": 9,
   "id": "5325f271-11ae-4b0e-a8a8-f8b7ebe15a4e",
   "metadata": {},
   "outputs": [
    {
     "name": "stdout",
     "output_type": "stream",
     "text": [
      "\n",
      "=== Model: OneClassSVM Anomaly Detector ===\n",
      "\n",
      "Inputs:\n",
      "  - input: type=DOUBLE, shape=['?', 3]\n",
      "\n",
      "Outputs:\n",
      "  - label: type=INT64, shape=['?', 1]\n",
      "  - scores: type=FLOAT, shape=['?', 1]\n"
     ]
    }
   ],
   "source": [
    "model = onnx.load(\"example_oneclass_svm_ad.onnx\")\n",
    "\n",
    "describe_onnx(model)"
   ]
  },
  {
   "cell_type": "code",
   "execution_count": 10,
   "id": "92305bfc-28d6-4bec-b8e8-f570d2100abb",
   "metadata": {},
   "outputs": [
    {
     "name": "stdout",
     "output_type": "stream",
     "text": [
      "Successfully registered ONNX 'Example outlier detector (Example>>Cooling Tower 1>>Area *) 2025-07-14T15:36:16.760783' (ID: 0F0609A2-E60C-77D0-AD26-9E2D5C866C59) (Scoped to: 0F0609A2-7A54-ECE0-A0CB-76417CA4B452)\n"
     ]
    }
   ],
   "source": [
    "anomaly_onnx_id = seeq_onnx_client.register(\n",
    "    name=f\"Example outlier detector (Example>>Cooling Tower 1>>Area *) {datetime.datetime.now().isoformat()}\",\n",
    "    description=\"ONNX model to detect anomalies based on the One-Class Support Vector Machine (OneClass SVM) algorithm on Example>>Cooling Tower 1>>Area *\",\n",
    "    model=model,\n",
    "    model_type=\"ANOMALY\",\n",
    "    labels=['Temperature', 'Relative Humidity', 'Wet Bulb'],\n",
    "    scope=workbook_id,\n",
    "    outlierValue=\"label\", # One of the outputs of the ONNX\n",
    "    outlierPredicate=\"<0\"\n",
    ")"
   ]
  },
  {
   "cell_type": "markdown",
   "id": "edb38af0-8d6e-472f-acab-96ff0b2636aa",
   "metadata": {},
   "source": [
    "#### Example 3: Registering an ONNX Anomaly Detection model along with signal outputs\n",
    "\n",
    "In this example, we register a trained machine learning model built using a `One-Class Support Vector Machine` algorithm. The model was trained on three input features — `Temperature`, `Relative Humidity` and `Wet Bulb` — to detect anomalies in *Example >> Cooling Tower 1 >> Area **. After training, it was converted to ONNX format and saved to a file. Below, we load the ONNX model from the file and register it to Seeq as a model of type `ANOMALY`. Additionally, we add the `scores` output of ONNX as `singleValue` to enable signal calculations on Seeq."
   ]
  },
  {
   "cell_type": "code",
   "execution_count": 11,
   "id": "9212cc47-aa7c-4fac-ae25-242c8bbf065e",
   "metadata": {},
   "outputs": [
    {
     "name": "stdout",
     "output_type": "stream",
     "text": [
      "\n",
      "=== Model: OneClassSVM Anomaly Detector ===\n",
      "\n",
      "Inputs:\n",
      "  - input: type=DOUBLE, shape=['?', 3]\n",
      "\n",
      "Outputs:\n",
      "  - label: type=INT64, shape=['?', 1]\n",
      "  - scores: type=FLOAT, shape=['?', 1]\n"
     ]
    }
   ],
   "source": [
    "model = onnx.load(\"example_oneclass_svm_ad.onnx\")\n",
    "\n",
    "describe_onnx(model)"
   ]
  },
  {
   "cell_type": "code",
   "execution_count": 12,
   "id": "e82997df-7c9f-4e57-8480-6dc0cc2bda23",
   "metadata": {},
   "outputs": [
    {
     "name": "stdout",
     "output_type": "stream",
     "text": [
      "Successfully registered ONNX 'Example outlier detector with score (Example>>Cooling Tower 1>>Area *) 2025-07-14T15:36:17.374941' (ID: 0F0609A2-EBF1-6470-BA06-E768CBFA8BDC) (Scoped to: 0F0609A2-7A54-ECE0-A0CB-76417CA4B452)\n"
     ]
    }
   ],
   "source": [
    "anomaly_onnx_id2 = seeq_onnx_client.register(\n",
    "    name=f\"Example outlier detector with score (Example>>Cooling Tower 1>>Area *) {datetime.datetime.now().isoformat()}\",\n",
    "    description=\"ONNX model to detect anomalies and calculate anomaly score based on the One-Class Support Vector Machine (OneClass SVM) algorithm on Example>>Cooling Tower 1>>Area *\",\n",
    "    model=model,\n",
    "    model_type=\"ANOMALY\",\n",
    "    labels=['Temperature', 'Relative Humidity', 'Wet Bulb'],\n",
    "    scope=workbook_id,\n",
    "    outlierValue=\"label\", # One of the outputs of the ONNX\n",
    "    outlierPredicate=\"<0\",\n",
    "    singleValue=\"scores\" # One of the outputs of the ONNX\n",
    ")"
   ]
  },
  {
   "cell_type": "markdown",
   "id": "09613563-f195-44fb-ac83-e3b25f217899",
   "metadata": {},
   "source": [
    "#### Example 4: Listing Registered ONNX \n",
    "\n",
    "We call the `list` function to list all ONNX registered in Seeq. "
   ]
  },
  {
   "cell_type": "code",
   "execution_count": 13,
   "id": "93dd13b7-feda-42a6-93e4-100a20addc85",
   "metadata": {},
   "outputs": [
    {
     "data": {
      "text/html": [
       "<div>\n",
       "<style scoped>\n",
       "    .dataframe tbody tr th:only-of-type {\n",
       "        vertical-align: middle;\n",
       "    }\n",
       "\n",
       "    .dataframe tbody tr th {\n",
       "        vertical-align: top;\n",
       "    }\n",
       "\n",
       "    .dataframe thead th {\n",
       "        text-align: right;\n",
       "    }\n",
       "</style>\n",
       "<table border=\"1\" class=\"dataframe\">\n",
       "  <thead>\n",
       "    <tr style=\"text-align: right;\">\n",
       "      <th></th>\n",
       "      <th>ID</th>\n",
       "      <th>Name</th>\n",
       "      <th>Description</th>\n",
       "      <th>Type</th>\n",
       "      <th>Input Labels</th>\n",
       "      <th>Feature Count</th>\n",
       "      <th>Scoped To</th>\n",
       "      <th>Archived</th>\n",
       "    </tr>\n",
       "  </thead>\n",
       "  <tbody>\n",
       "    <tr>\n",
       "      <th>0</th>\n",
       "      <td>0F0609A2-E594-FDC0-854A-7F57E1C462AC</td>\n",
       "      <td>Example temperature predictor (Example&gt;&gt;Coolin...</td>\n",
       "      <td>This ONNX model is a Multi-layer perceptron re...</td>\n",
       "      <td>PREDICTION</td>\n",
       "      <td>[Relative Humidity, Wet Bulb]</td>\n",
       "      <td>2</td>\n",
       "      <td>0F0609A2-7A54-ECE0-A0CB-76417CA4B452</td>\n",
       "      <td>False</td>\n",
       "    </tr>\n",
       "    <tr>\n",
       "      <th>1</th>\n",
       "      <td>0F0609A2-E60C-77D0-AD26-9E2D5C866C59</td>\n",
       "      <td>Example outlier detector (Example&gt;&gt;Cooling Tow...</td>\n",
       "      <td>ONNX model to detect anomalies based on the On...</td>\n",
       "      <td>ANOMALY</td>\n",
       "      <td>[Temperature, Relative Humidity, Wet Bulb]</td>\n",
       "      <td>3</td>\n",
       "      <td>0F0609A2-7A54-ECE0-A0CB-76417CA4B452</td>\n",
       "      <td>False</td>\n",
       "    </tr>\n",
       "    <tr>\n",
       "      <th>2</th>\n",
       "      <td>0F0609A2-EBF1-6470-BA06-E768CBFA8BDC</td>\n",
       "      <td>Example outlier detector with score (Example&gt;&gt;...</td>\n",
       "      <td>ONNX model to detect anomalies and calculate a...</td>\n",
       "      <td>ANOMALY</td>\n",
       "      <td>[Temperature, Relative Humidity, Wet Bulb]</td>\n",
       "      <td>3</td>\n",
       "      <td>0F0609A2-7A54-ECE0-A0CB-76417CA4B452</td>\n",
       "      <td>False</td>\n",
       "    </tr>\n",
       "  </tbody>\n",
       "</table>\n",
       "</div>"
      ],
      "text/plain": [
       "                                     ID  \\\n",
       "0  0F0609A2-E594-FDC0-854A-7F57E1C462AC   \n",
       "1  0F0609A2-E60C-77D0-AD26-9E2D5C866C59   \n",
       "2  0F0609A2-EBF1-6470-BA06-E768CBFA8BDC   \n",
       "\n",
       "                                                Name  \\\n",
       "0  Example temperature predictor (Example>>Coolin...   \n",
       "1  Example outlier detector (Example>>Cooling Tow...   \n",
       "2  Example outlier detector with score (Example>>...   \n",
       "\n",
       "                                         Description        Type  \\\n",
       "0  This ONNX model is a Multi-layer perceptron re...  PREDICTION   \n",
       "1  ONNX model to detect anomalies based on the On...     ANOMALY   \n",
       "2  ONNX model to detect anomalies and calculate a...     ANOMALY   \n",
       "\n",
       "                                 Input Labels  Feature Count  \\\n",
       "0               [Relative Humidity, Wet Bulb]              2   \n",
       "1  [Temperature, Relative Humidity, Wet Bulb]              3   \n",
       "2  [Temperature, Relative Humidity, Wet Bulb]              3   \n",
       "\n",
       "                              Scoped To  Archived  \n",
       "0  0F0609A2-7A54-ECE0-A0CB-76417CA4B452     False  \n",
       "1  0F0609A2-7A54-ECE0-A0CB-76417CA4B452     False  \n",
       "2  0F0609A2-7A54-ECE0-A0CB-76417CA4B452     False  "
      ]
     },
     "execution_count": 13,
     "metadata": {},
     "output_type": "execute_result"
    }
   ],
   "source": [
    "seeq_onnx_client.list(scope=workbook_id)"
   ]
  },
  {
   "cell_type": "markdown",
   "id": "76ee0376-c9b2-4dd1-81b3-90e8af5950ad",
   "metadata": {},
   "source": [
    "#### Example 5: Updating the Registered ONNX\n",
    "\n",
    "Here, we update the previously registered prediction model in `Example 1` by uploading a ONNX of ML model trained with `HistGradientBoostingRegressor` algorithm. We also update the ONNX description."
   ]
  },
  {
   "cell_type": "code",
   "execution_count": 14,
   "id": "6f76e7b1-f9f1-42ac-a331-0405cdf9d547",
   "metadata": {},
   "outputs": [
    {
     "name": "stdout",
     "output_type": "stream",
     "text": [
      "\n",
      "=== Model: Hist Gradient Boosting Regressor ===\n",
      "\n",
      "Inputs:\n",
      "  - input: type=DOUBLE, shape=['?', 2]\n",
      "\n",
      "Outputs:\n",
      "  - variable: type=FLOAT, shape=['?', 1]\n"
     ]
    }
   ],
   "source": [
    "model = onnx.load(\"example_hist_gb_regressor.onnx\")\n",
    "\n",
    "describe_onnx(model)"
   ]
  },
  {
   "cell_type": "code",
   "execution_count": 15,
   "id": "25d8c933-5b39-4760-bef8-a0798fff6c7f",
   "metadata": {},
   "outputs": [
    {
     "name": "stdout",
     "output_type": "stream",
     "text": [
      "Successfully updated ONNX (ID: 0F0609A2-E594-FDC0-854A-7F57E1C462AC)\n"
     ]
    }
   ],
   "source": [
    "seeq_onnx_client.update(\n",
    "    prediction_onnx_id,\n",
    "    description=\"Histogram-based Gradient Boosting Regression (HistGradientBoostingRegressor) trained to predict temperature based on 'Relative Humidity' and 'Wet Bulb' features of Example>>Cooling Tower 1>>Area *\",\n",
    "    model=model,\n",
    "    labels=[\"Relative Humidity\", \"Wet Bulb\"],\n",
    ")"
   ]
  },
  {
   "cell_type": "markdown",
   "id": "8a9ee111-cc3b-443b-8808-1ceb68f3a4b9",
   "metadata": {},
   "source": [
    "#### Example 6: Deleting a Registered ONNX\n",
    "\n",
    "Here we archive a registered ONNX from the Seeq server."
   ]
  },
  {
   "cell_type": "code",
   "execution_count": 16,
   "id": "46f46047-3c33-4c5f-a3f5-340700f8a91d",
   "metadata": {},
   "outputs": [
    {
     "name": "stdout",
     "output_type": "stream",
     "text": [
      "Successfully archived ONNX (ID: 0F0609A2-E594-FDC0-854A-7F57E1C462AC)\n"
     ]
    }
   ],
   "source": [
    "seeq_onnx_client.archive(prediction_onnx_id, delete=False)"
   ]
  }
 ],
 "metadata": {
   "kernelspec": {
    "display_name": "Python 3.11",
    "language": "python",
    "name": "python311"
   },
   "language_info": {
    "codemirror_mode": {
     "name": "ipython",
     "version": 3
    },
    "file_extension": ".py",
    "mimetype": "text/x-python",
    "name": "python",
    "nbconvert_exporter": "python",
    "pygments_lexer": "ipython3",
    "version": "3.11.11"
   }
  },
 "nbformat": 4,
 "nbformat_minor": 5
}
