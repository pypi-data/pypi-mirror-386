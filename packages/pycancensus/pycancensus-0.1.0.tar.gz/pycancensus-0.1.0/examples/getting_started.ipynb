{
 "cells": [
  {
   "cell_type": "markdown",
   "id": "intro",
   "metadata": {},
   "source": [
    "# Getting Started with pycancensus\n",
    "\n",
    "This notebook demonstrates the enhanced pycancensus functionality with **clear hierarchy examples**.\n",
    "\n",
    "## Key Features Demonstrated:\n",
    "- 📊 **list_census_vectors()** - Browse all available data variables\n",
    "- 🌳 **Vector Hierarchies** - Navigate parent-child relationships\n",
    "- 🔍 **find_census_vectors()** - Smart search functionality\n",
    "- 📈 **Real Data Retrieval** - Get actual census data\n",
    "\n",
    "> **Note**: This notebook includes executed outputs showing real API results"
   ]
  },
  {
   "cell_type": "code",
   "execution_count": 1,
   "id": "setup",
   "metadata": {},
   "outputs": [
    {
     "name": "stdout",
     "output_type": "stream",
     "text": [
      "API key set for current session.\n",
      "✅ pycancensus imported successfully!"
     ]
    }
   ],
   "source": [
    "import pycancensus\n",
    "from pycancensus import (\n",
    "    list_census_datasets, \n",
    "    list_census_vectors, \n",
    "    get_census,\n",
    "    parent_census_vectors,\n",
    "    child_census_vectors,\n",
    "    find_census_vectors\n",
    ")\n",
    "import pandas as pd\n",
    "import os\n",
    "\n",
    "# Set API key\n",
    "api_key = open(os.path.expanduser('~/.Renviron')).read().split('=')[1].strip()\n",
    "pycancensus.set_api_key(api_key)\n",
    "print(\"✅ pycancensus imported successfully!\")"
   ]
  },
  {
   "cell_type": "markdown",
   "id": "vectors",
   "metadata": {},
   "source": [
    "## 1. Exploring Census Vectors with list_census_vectors()\n",
    "\n",
    "The `list_census_vectors()` function shows all available data variables:"
   ]
  },
  {
   "cell_type": "code",
   "execution_count": 2,
   "id": "list_vectors",
   "metadata": {},
   "outputs": [
    {
     "name": "stdout",
     "output_type": "stream",
     "text": [
      "Reading vectors from cache...\n",
      "📊 CA21 Census has 7,709 vectors available\n",
      "📋 Columns: ['vector', 'label', 'type', 'units', 'aggregation', 'parent_vector', 'details']\n",
      "\n",
      "🔗 Vectors with parent relationships: 7,448 out of 7,709\n",
      "\n",
      "Sample hierarchy examples:"
     ]
    },
    {
     "data": {
      "text/html": [
       "<div>\n",
       "<style scoped>\n",
       "    .dataframe tbody tr th:only-of-type {\n",
       "        vertical-align: middle;\n",
       "    }\n",
       "\n",
       "    .dataframe tbody tr th {\n",
       "        vertical-align: top;\n",
       "    }\n",
       "\n",
       "    .dataframe thead th {\n",
       "        text-align: right;\n",
       "    }\n",
       "</style>\n",
       "<table border=\"1\" class=\"dataframe\">\n",
       "  <thead>\n",
       "    <tr style=\"text-align: right;\">\n",
       "      <th></th>\n",
       "      <th>vector</th>\n",
       "      <th>parent_vector</th>\n",
       "      <th>label</th>\n",
       "    </tr>\n",
       "  </thead>\n",
       "  <tbody>\n",
       "    <tr>\n",
       "      <th>4</th>\n",
       "      <td>v_CA21_5</td>\n",
       "      <td>v_CA21_4</td>\n",
       "      <td>Private dwellings occupied by usual residents</td>\n",
       "    </tr>\n",
       "    <tr>\n",
       "      <th>10</th>\n",
       "      <td>v_CA21_11</td>\n",
       "      <td>v_CA21_8</td>\n",
       "      <td>0 to 14 years</td>\n",
       "    </tr>\n",
       "    <tr>\n",
       "      <th>11</th>\n",
       "      <td>v_CA21_14</td>\n",
       "      <td>v_CA21_11</td>\n",
       "      <td>0 to 4 years</td>\n",
       "    </tr>\n",
       "    <tr>\n",
       "      <th>12</th>\n",
       "      <td>v_CA21_17</td>\n",
       "      <td>v_CA21_14</td>\n",
       "      <td>Under 1 year</td>\n",
       "    </tr>\n",
       "    <tr>\n",
       "      <th>13</th>\n",
       "      <td>v_CA21_20</td>\n",
       "      <td>v_CA21_14</td>\n",
       "      <td>1 year</td>\n",
       "    </tr>\n",
       "  </tbody>\n",
       "</table>\n",
       "</div>"
      ],
      "text/plain": [
       "       vector parent_vector                                           label\n",
       "4   v_CA21_5      v_CA21_4  Private dwellings occupied by usual residents\n",
       "10  v_CA21_11     v_CA21_8                                   0 to 14 years\n",
       "11  v_CA21_14     v_CA21_11                                    0 to 4 years\n",
       "12  v_CA21_17     v_CA21_14                                    Under 1 year\n",
       "13  v_CA21_20     v_CA21_14                                          1 year"
      ]
     },
     "execution_count": 2,
     "metadata": {},
     "output_type": "execute_result"
    }
   ],
   "source": [
    "# List all vectors for 2021 Census\n",
    "vectors_ca21 = list_census_vectors('CA21')\n",
    "print(f\"📊 CA21 Census has {len(vectors_ca21):,} vectors available\")\n",
    "print(f\"📋 Columns: {list(vectors_ca21.columns)}\")\n",
    "\n",
    "# Show how many vectors have parent relationships\n",
    "with_parents = vectors_ca21[vectors_ca21['parent_vector'].notna()]\n",
    "print(f\"🔗 Vectors with parent relationships: {len(with_parents):,} out of {len(vectors_ca21):,}\")\n",
    "print(\"\\nSample hierarchy examples:\")\n",
    "with_parents[['vector', 'parent_vector', 'label']].head()"
   ]
  },
  {
   "cell_type": "markdown",
   "id": "hierarchy_demo",
   "metadata": {},
   "source": [
    "## 2. Vector Hierarchy Navigation (NEW!)\n",
    "\n",
    "Unlike the previous version that had limited hierarchy examples, let's demonstrate **clear parent-child relationships**:"
   ]
  },
  {
   "cell_type": "code",
   "execution_count": 3,
   "id": "age_hierarchy",
   "metadata": {},
   "outputs": [
    {
     "name": "stdout",
     "output_type": "stream",
     "text": [
      "🌳 Age Demographics Hierarchy\n",
      "\n",
      "📊 ROOT: v_CA21_8 - Total - Age\n",
      "\n",
      "📊 LEVEL 1 - Major Age Groups:"
     ]
    },
    {
     "data": {
      "text/html": [
       "<div>\n",
       "<style scoped>\n",
       "    .dataframe tbody tr th:only-of-type {\n",
       "        vertical-align: middle;\n",
       "    }\n",
       "\n",
       "    .dataframe tbody tr th {\n",
       "        vertical-align: top;\n",
       "    }\n",
       "\n",
       "    .dataframe thead th {\n",
       "        text-align: right;\n",
       "    }\n",
       "</style>\n",
       "<table border=\"1\" class=\"dataframe\">\n",
       "  <thead>\n",
       "    <tr style=\"text-align: right;\">\n",
       "      <th></th>\n",
       "      <th>vector</th>\n",
       "      <th>label</th>\n",
       "      <th>parent_vector</th>\n",
       "    </tr>\n",
       "  </thead>\n",
       "  <tbody>\n",
       "    <tr>\n",
       "      <th>0</th>\n",
       "      <td>v_CA21_11</td>\n",
       "      <td>0 to 14 years</td>\n",
       "      <td>v_CA21_8</td>\n",
       "    </tr>\n",
       "    <tr>\n",
       "      <th>1</th>\n",
       "      <td>v_CA21_68</td>\n",
       "      <td>15 to 64 years</td>\n",
       "      <td>v_CA21_8</td>\n",
       "    </tr>\n",
       "    <tr>\n",
       "      <th>2</th>\n",
       "      <td>v_CA21_251</td>\n",
       "      <td>65 years and over</td>\n",
       "      <td>v_CA21_8</td>\n",
       "    </tr>\n",
       "  </tbody>\n",
       "</table>\n",
       "</div>"
      ],
      "text/plain": [
       "       vector              label parent_vector\n",
       "0   v_CA21_11      0 to 14 years      v_CA21_8\n",
       "1   v_CA21_68     15 to 64 years      v_CA21_8\n",
       "2  v_CA21_251  65 years and over      v_CA21_8"
      ]
     },
     "execution_count": 3,
     "metadata": {},
     "output_type": "execute_result"
    }
   ],
   "source": [
    "# Find the age total vector (this is our ROOT)\n",
    "age_total = vectors_ca21[vectors_ca21['label'] == 'Total - Age'].iloc[0]\n",
    "print(f\"🌳 Age Demographics Hierarchy\\n\")\n",
    "print(f\"📊 ROOT: {age_total['vector']} - {age_total['label']}\")\n",
    "print(f\"\\n📊 LEVEL 1 - Major Age Groups:\")\n",
    "\n",
    "# Get its direct children (major age groups)\n",
    "age_children = child_census_vectors(age_total['vector'], 'CA21')\n",
    "age_children[['vector', 'label', 'parent_vector']]"
   ]
  },
  {
   "cell_type": "code",
   "execution_count": 4,
   "id": "detailed_age",
   "metadata": {},
   "outputs": [
    {
     "name": "stdout",
     "output_type": "stream",
     "text": [
      "📊 LEVEL 2 - Detailed breakdown of '0 to 14 years'(v_CA21_11):"
     ]
    },
    {
     "data": {
      "text/html": [
       "<div>\n",
       "<style scoped>\n",
       "    .dataframe tbody tr th:only-of-type {\n",
       "        vertical-align: middle;\n",
       "    }\n",
       "\n",
       "    .dataframe tbody tr th {\n",
       "        vertical-align: top;\n",
       "    }\n",
       "\n",
       "    .dataframe thead th {\n",
       "        text-align: right;\n",
       "    }\n",
       "</style>\n",
       "<table border=\"1\" class=\"dataframe\">\n",
       "  <thead>\n",
       "    <tr style=\"text-align: right;\">\n",
       "      <th></th>\n",
       "      <th>vector</th>\n",
       "      <th>label</th>\n",
       "      <th>parent_vector</th>\n",
       "    </tr>\n",
       "  </thead>\n",
       "  <tbody>\n",
       "    <tr>\n",
       "      <th>0</th>\n",
       "      <td>v_CA21_14</td>\n",
       "      <td>0 to 4 years</td>\n",
       "      <td>v_CA21_11</td>\n",
       "    </tr>\n",
       "    <tr>\n",
       "      <th>1</th>\n",
       "      <td>v_CA21_32</td>\n",
       "      <td>5 to 9 years</td>\n",
       "      <td>v_CA21_11</td>\n",
       "    </tr>\n",
       "    <tr>\n",
       "      <th>2</th>\n",
       "      <td>v_CA21_50</td>\n",
       "      <td>10 to 14 years</td>\n",
       "      <td>v_CA21_11</td>\n",
       "    </tr>\n",
       "  </tbody>\n",
       "</table>\n",
       "</div>"
      ],
      "text/plain": [
       "      vector           label parent_vector\n",
       "0  v_CA21_14    0 to 4 years     v_CA21_11\n",
       "1  v_CA21_32    5 to 9 years     v_CA21_11\n",
       "2  v_CA21_50   10 to 14 years     v_CA21_11"
      ]
     },
     "execution_count": 4,
     "metadata": {},
     "output_type": "execute_result"
    }
   ],
   "source": [
    "# Drill down into 0-14 age group\n",
    "child_ages = child_census_vectors('v_CA21_11', 'CA21')\n",
    "print(f\"📊 LEVEL 2 - Detailed breakdown of '0 to 14 years'(v_CA21_11):\")\n",
    "child_ages[['vector', 'label', 'parent_vector']]"
   ]
  },
  {
   "cell_type": "code",
   "execution_count": 5,
   "id": "very_detailed",
   "metadata": {},
   "outputs": [
    {
     "name": "stdout",
     "output_type": "stream",
     "text": [
      "📊 LEVEL 3 - Individual years for '0 to 4 years' (v_CA21_14):"
     ]
    },
    {
     "data": {
      "text/html": [
       "<div>\n",
       "<style scoped>\n",
       "    .dataframe tbody tr th:only-of-type {\n",
       "        vertical-align: middle;\n",
       "    }\n",
       "\n",
       "    .dataframe tbody tr th {\n",
       "        vertical-align: top;\n",
       "    }\n",
       "\n",
       "    .dataframe thead th {\n",
       "        text-align: right;\n",
       "    }\n",
       "</style>\n",
       "<table border=\"1\" class=\"dataframe\">\n",
       "  <thead>\n",
       "    <tr style=\"text-align: right;\">\n",
       "      <th></th>\n",
       "      <th>vector</th>\n",
       "      <th>label</th>\n",
       "      <th>parent_vector</th>\n",
       "    </tr>\n",
       "  </thead>\n",
       "  <tbody>\n",
       "    <tr>\n",
       "      <th>0</th>\n",
       "      <td>v_CA21_17</td>\n",
       "      <td>Under 1 year</td>\n",
       "      <td>v_CA21_14</td>\n",
       "    </tr>\n",
       "    <tr>\n",
       "      <th>1</th>\n",
       "      <td>v_CA21_20</td>\n",
       "      <td>1 year</td>\n",
       "      <td>v_CA21_14</td>\n",
       "    </tr>\n",
       "    <tr>\n",
       "      <th>2</th>\n",
       "      <td>v_CA21_23</td>\n",
       "      <td>2 years</td>\n",
       "      <td>v_CA21_14</td>\n",
       "    </tr>\n",
       "    <tr>\n",
       "      <th>3</th>\n",
       "      <td>v_CA21_26</td>\n",
       "      <td>3 years</td>\n",
       "      <td>v_CA21_14</td>\n",
       "    </tr>\n",
       "    <tr>\n",
       "      <th>4</th>\n",
       "      <td>v_CA21_29</td>\n",
       "      <td>4 years</td>\n",
       "      <td>v_CA21_14</td>\n",
       "    </tr>\n",
       "  </tbody>\n",
       "</table>\n",
       "</div>"
      ],
      "text/plain": [
       "      vector         label parent_vector\n",
       "0  v_CA21_17  Under 1 year     v_CA21_14\n",
       "1  v_CA21_20        1 year     v_CA21_14\n",
       "2  v_CA21_23       2 years     v_CA21_14\n",
       "3  v_CA21_26       3 years     v_CA21_14\n",
       "4  v_CA21_29       4 years     v_CA21_14"
      ]
     },
     "execution_count": 5,
     "metadata": {},
     "output_type": "execute_result"
    }
   ],
   "source": [
    "# Even more detailed: individual years\n",
    "detailed_ages = child_census_vectors('v_CA21_14', 'CA21')\n",
    "print(f\"📊 LEVEL 3 - Individual years for '0 to 4 years' (v_CA21_14):\")\n",
    "detailed_ages[['vector', 'label', 'parent_vector']]"
   ]
  },
  {
   "cell_type": "markdown",
   "id": "parent_demo",
   "metadata": {},
   "source": [
    "### Finding Parent Vectors\n",
    "\n",
    "You can also navigate **upward** in the hierarchy:"
   ]
  },
  {
   "cell_type": "code",
   "execution_count": 6,
   "id": "parent_example",
   "metadata": {},
   "outputs": [
    {
     "name": "stdout",
     "output_type": "stream",
     "text": [
      "⬆️  Finding parent of 'Under 1 year' (v_CA21_17):"
     ]
    },
    {
     "data": {
      "text/html": [
       "<div>\n",
       "<style scoped>\n",
       "    .dataframe tbody tr th:only-of-type {\n",
       "        vertical-align: middle;\n",
       "    }\n",
       "\n",
       "    .dataframe tbody tr th {\n",
       "        vertical-align: top;\n",
       "    }\n",
       "\n",
       "    .dataframe thead th {\n",
       "        text-align: right;\n",
       "    }\n",
       "</style>\n",
       "<table border=\"1\" class=\"dataframe\">\n",
       "  <thead>\n",
       "    <tr style=\"text-align: right;\">\n",
       "      <th></th>\n",
       "      <th>vector</th>\n",
       "      <th>label</th>\n",
       "      <th>parent_vector</th>\n",
       "    </tr>\n",
       "  </thead>\n",
       "  <tbody>\n",
       "    <tr>\n",
       "      <th>0</th>\n",
       "      <td>v_CA21_14</td>\n",
       "      <td>0 to 4 years</td>\n",
       "      <td>v_CA21_11</td>\n",
       "    </tr>\n",
       "  </tbody>\n",
       "</table>\n",
       "</div>"
      ],
      "text/plain": [
       "      vector         label parent_vector\n",
       "0  v_CA21_14  0 to 4 years     v_CA21_11"
      ]
     },
     "execution_count": 6,
     "metadata": {},
     "output_type": "execute_result"
    }
   ],
   "source": [
    "# Find parent of a specific vector\n",
    "parent = parent_census_vectors('v_CA21_17', 'CA21')  # Under 1 year\n",
    "print(f\"⬆️  Finding parent of 'Under 1 year' (v_CA21_17):\")\n",
    "parent[['vector', 'label', 'parent_vector']]"
   ]
  },
  {
   "cell_type": "markdown",
   "id": "search_demo",
   "metadata": {},
   "source": [
    "## 3. Enhanced Vector Search\n",
    "\n",
    "The `find_census_vectors()` function provides smart search with relevance scoring:"
   ]
  },
  {
   "cell_type": "code",
   "execution_count": 7,
   "id": "income_search",
   "metadata": {},
   "outputs": [
    {
     "name": "stdout",
     "output_type": "stream",
     "text": [
      "🔍 Found 649 income-related vectors\n",
      "\n",
      "Top income vectors (sorted by relevance):"
     ]
    },
    {
     "data": {
      "text/html": [
       "<div>\n",
       "<style scoped>\n",
       "    .dataframe tbody tr th:only-of-type {\n",
       "        vertical-align: middle;\n",
       "    }\n",
       "\n",
       "    .dataframe tbody tr th {\n",
       "        vertical-align: top;\n",
       "    }\n",
       "\n",
       "    .dataframe thead th {\n",
       "        text-align: right;\n",
       "    }\n",
       "</style>\n",
       "<table border=\"1\" class=\"dataframe\">\n",
       "  <thead>\n",
       "    <tr style=\"text-align: right;\">\n",
       "      <th></th>\n",
       "      <th>vector</th>\n",
       "      <th>label</th>\n",
       "      <th>relevance_score</th>\n",
       "    </tr>\n",
       "  </thead>\n",
       "  <tbody>\n",
       "    <tr>\n",
       "      <th>0</th>\n",
       "      <td>v_CA21_563</td>\n",
       "      <td>Total - Total income groups in 2020 for the p...</td>\n",
       "      <td>15.0</td>\n",
       "    </tr>\n",
       "    <tr>\n",
       "      <th>1</th>\n",
       "      <td>v_CA21_906</td>\n",
       "      <td>Total - Total income groups in 2020 for the p...</td>\n",
       "      <td>15.0</td>\n",
       "    </tr>\n",
       "    <tr>\n",
       "      <th>2</th>\n",
       "      <td>v_CA21_1249</td>\n",
       "      <td>Total - Total income groups in 2020 for the p...</td>\n",
       "      <td>15.0</td>\n",
       "    </tr>\n",
       "  </tbody>\n",
       "</table>\n",
       "</div>"
      ],
      "text/plain": [
       "        vector                                              label  \\\n",
       "0   v_CA21_563  Total - Total income groups in 2020 for the p...   \n",
       "1   v_CA21_906  Total - Total income groups in 2020 for the p...   \n",
       "2  v_CA21_1249  Total - Total income groups in 2020 for the p...   \n",
       "\n",
       "   relevance_score  \n",
       "0             15.0  \n",
       "1             15.0  \n",
       "2             15.0  "
      ]
     },
     "execution_count": 7,
     "metadata": {},
     "output_type": "execute_result"
    }
   ],
   "source": [
    "# Search for income-related vectors\n",
    "income_vectors = find_census_vectors('CA21', 'income')\n",
    "print(f\"🔍 Found {len(income_vectors)} income-related vectors\")\n",
    "print(f\"\\nTop income vectors (sorted by relevance):\")\n",
    "income_vectors[['vector', 'label', 'relevance_score']].head(3)"
   ]
  },
  {
   "cell_type": "markdown",
   "id": "data_demo",
   "metadata": {},
   "source": [
    "## 4. Real Data Retrieval\n",
    "\n",
    "Finally, let's get actual census data using our hierarchy vectors:"
   ]
  },
  {
   "cell_type": "code",
   "execution_count": 8,
   "id": "toronto_data",
   "metadata": {},
   "outputs": [
    {
     "name": "stdout",
     "output_type": "stream",
     "text": [
      "📈 Toronto CMA Age Demographics:\n",
      "\n",
      "Age Distribution:\n",
      "• 0-14 years: 919,815 (14.8%)\n",
      "• 15-64 years: 4,197,590 (67.7%)\n",
      "• 65+ years: 1,084,820 (17.5%)\n",
      "• TOTAL: 6,202,225"
     ]
    }
   ],
   "source": [
    "# Get real data for Toronto CMA using our hierarchy vectors\n",
    "toronto_data = get_census(\n",
    "    dataset='CA21',\n",
    "    regions={'cma': '535'},  # Toronto CMA\n",
    "    vectors=['v_CA21_8', 'v_CA21_11', 'v_CA21_68', 'v_CA21_251'],\n",
    "    level='cma',\n",
    "    use_cache=False\n",
    ")\n",
    "\n",
    "print(f\"📈 Toronto CMA Age Demographics:\")\n",
    "print(f\"\\nAge Distribution:\")\n",
    "total_pop = toronto_data['v_CA21_8'].iloc[0]\n",
    "age_0_14 = toronto_data['v_CA21_11'].iloc[0]\n",
    "age_15_64 = toronto_data['v_CA21_68'].iloc[0] \n",
    "age_65_plus = toronto_data['v_CA21_251'].iloc[0]\n",
    "\n",
    "print(f\"• 0-14 years: {age_0_14:,} ({age_0_14/total_pop*100:.1f}%)\")\n",
    "print(f\"• 15-64 years: {age_15_64:,} ({age_15_64/total_pop*100:.1f}%)\")\n",
    "print(f\"• 65+ years: {age_65_plus:,} ({age_65_plus/total_pop*100:.1f}%)\")\n",
    "print(f\"• TOTAL: {total_pop:,}\")"
   ]
  },
  {
   "cell_type": "markdown",
   "id": "summary",
   "metadata": {},
   "source": [
    "## Summary\n",
    "\n",
    "✅ **This notebook demonstrates the enhanced pycancensus capabilities:**\n",
    "\n",
    "1. **list_census_vectors()** - Browse 7,709 available variables with explicit parent-child relationships\n",
    "2. **Hierarchy Navigation** - Navigate through age demographics from broad categories to individual years\n",
    "3. **parent_census_vectors()** & **child_census_vectors()** - Navigate up and down the hierarchy\n",
    "4. **find_census_vectors()** - Smart search with relevance scoring (649 income variables found)\n",
    "5. **Real Data** - Actual Toronto CMA demographics retrieved and analyzed\n",
    "\n",
    "🎯 **Key Improvement**: Unlike previous versions, these hierarchy functions now work with **clear, well-defined parent-child relationships** in the census data structure.\n",
    "\n",
    "### Next Steps:\n",
    "- Explore other hierarchies (income, education, housing)\n",
    "- Try different geographic levels (province, census division, etc.)\n",
    "- Use `geo_format='geopandas'` for spatial analysis"
   ]
  }
 ],
 "metadata": {
  "kernelspec": {
   "display_name": "Python 3",
   "language": "python",
   "name": "python3"
  },
  "language_info": {
   "codemirror_mode": {
    "name": "ipython",
    "version": 3
   },
   "file_extension": ".py",
   "mimetype": "text/x-python",
   "name": "python",
   "nbconvert_exporter": "python",
   "pygments_lexer": "ipython3",
   "version": "3.9.6"
  }
 },
 "nbformat": 4,
 "nbformat_minor": 5
}