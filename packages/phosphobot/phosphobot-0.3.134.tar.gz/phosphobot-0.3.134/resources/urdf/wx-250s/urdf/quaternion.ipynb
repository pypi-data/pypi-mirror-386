{
 "cells": [
  {
   "cell_type": "code",
   "execution_count": null,
   "id": "initial_id",
   "metadata": {
    "collapsed": true
   },
   "outputs": [],
   "source": [
    ""
   ]
  },
  {
   "metadata": {
    "jupyter": {
     "is_executing": true
    }
   },
   "cell_type": "code",
   "source": [
    "import numpy as np\n",
    "from scipy.spatial.transform import Rotation as R\n",
    "\n",
    "# Target position remains the same\n",
    "target_position = np.array([0.2, 0.1, 0.3])\n",
    "\n",
    "# Your AXIS_ORIENTATION quaternion: (This may need adjustment)\n",
    "AXIS_ORIENTATION = np.array([0, 0, 1, 1])  # This is not a normalized quaternion!\n",
    "\n",
    "# Normalize AXIS_ORIENTATION to avoid errors (ensure unit quaternion)\n",
    "AXIS_ORIENTATION = AXIS_ORIENTATION / np.linalg.norm(AXIS_ORIENTATION)\n",
    "\n",
    "# Step 1: Convert given quaternion to rotation object\n",
    "r_target = R.from_quat(AXIS_ORIENTATION)\n",
    "\n",
    "# Step 2: Define extra rotation of π/2 (90 degrees) around Z-axis\n",
    "r_extra = R.from_euler('z', np.pi/2)  # 90 degrees counterclockwise in radians\n",
    "\n",
    "# Step 3: Apply the extra rotation (Left-multiply to apply in end-effector frame)\n",
    "r_composed = r_extra * r_target  # Applies extra rotation after the existing one\n",
    "\n",
    "# Step 4: Convert back to a quaternion\n",
    "new_target_quat = r_composed.as_quat()\n",
    "\n",
    "# Step 5: Call your inverse kinematics solver\n",
    "goal_q_robot_rad = self.inverse_kinematics(target_position, new_target_quat)\n",
    "\n",
    "print(\"New target quaternion:\", new_target_quat)\n"
   ],
   "id": "2cfd688bef72a68a",
   "outputs": [],
   "execution_count": null
  },
  {
   "metadata": {},
   "cell_type": "code",
   "outputs": [],
   "execution_count": null,
   "source": "",
   "id": "f20df9dd34337ff0"
  }
 ],
 "metadata": {
  "kernelspec": {
   "display_name": "Python 3",
   "language": "python",
   "name": "python3"
  },
  "language_info": {
   "codemirror_mode": {
    "name": "ipython",
    "version": 2
   },
   "file_extension": ".py",
   "mimetype": "text/x-python",
   "name": "python",
   "nbconvert_exporter": "python",
   "pygments_lexer": "ipython2",
   "version": "2.7.6"
  }
 },
 "nbformat": 4,
 "nbformat_minor": 5
}
