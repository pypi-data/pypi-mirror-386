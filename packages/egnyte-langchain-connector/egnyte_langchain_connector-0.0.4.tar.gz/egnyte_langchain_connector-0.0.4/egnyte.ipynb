{
  "cells": [
    {
      "cell_type": "raw",
      "id": "afaf8039",
      "metadata": {},
      "source": [
        "---\n",
        "sidebar_label: Egnyte\n",
        "---"
      ]
    },
    {
      "cell_type": "markdown",
      "id": "e49f1e0d",
      "metadata": {},
      "source": [
        "# EgnyteRetriever\n",
        "\n",
        "This will help you get started with the Egnyte [retriever](https://github.com/langchain-ai/langchain/tree/aa63de936659ea68ffcd788f3bd97215985b0e2c/docs/docs/integrations/retrievers).\n",
        "\n",
        "# Overview\n",
        "\n",
        "The `EgnyteRetriever` class helps you get your unstructured content from Egnyte in LangChain's `Document` format. You can search for files using Egnyte's advanced hybrid search API, which combines keyword and semantic search capabilities to find the most relevant documents.\n",
        "\n",
        ":::info\n",
        "Egnyte hybrid search requires an Egnyte Business or Enterprise plan with AI features enabled\n",
        ":::\n",
        "\n",
        "Files without text content will be skipped during retrieval.\n",
        "\n",
        "### Integration details\n",
        "\n",
        "| Retriever | Self-host | Cloud offering | Package |\n",
        "| :--- | :--- | :---: | :---: |\n",
        "| `EgnyteRetriever` | ❌ | ✅ | langchain-egnyte |\n",
        "\n",
        "## Setup\n",
        "\n",
        "In order to use the Egnyte package, you will need:\n",
        "\n",
        "* An Egnyte account with Business or Enterprise plan\n",
        "* [An Egnyte API application](https://developers.egnyte.com/docs/read/Getting_Started) — Register your application in the Egnyte Developer Portal\n",
        "* API access enabled by your Egnyte administrator\n",
        "* User authentication token with appropriate permissions\n",
        "\n",
        "### Credentials\n",
        "\n",
        "For these examples, we will use OAuth token authentication. You can obtain tokens through Egnyte's OAuth flow or use service account tokens for server-to-server applications. If you want to learn more about Egnyte authentication, visit the [Egnyte Developer Documentation](https://developers.egnyte.com/docs)."
      ]
    },
    {
      "cell_type": "code",
      "execution_count": 2,
      "id": "b87a8e8b-9b5a-4e78-97e4-274b6b0dd29f",
      "metadata": {},
      "outputs": [],
      "source": [
        "import getpass\n",
        "import os\n",
        "\n",
        "egnyte_domain = input(\"Enter your Egnyte domain (e.g., 'company.egnyte.com'): \")\n",
        "egnyte_user_token = getpass.getpass(\"Enter your Egnyte User Token: \")"
      ]
    },
    {
      "cell_type": "markdown",
      "id": "72ee0c4b-9764-423a-9dbf-95129e185210",
      "metadata": {},
      "source": [
        "If you want to get automated tracing from individual queries, you can also set your [LangSmith](https://docs.smith.langchain.com/) API key by uncommenting below:"
      ]
    },
    {
      "cell_type": "code",
      "execution_count": 3,
      "id": "a15d341e-3e26-4ca3-830b-5aab30ed66de",
      "metadata": {},
      "outputs": [],
      "source": [
        "# os.environ[\"LANGSMITH_API_KEY\"] = getpass.getpass(\"Enter your LangSmith API key: \")\n",
        "# os.environ[\"LANGSMITH_TRACING\"] = \"true\""
      ]
    },
    {
      "cell_type": "markdown",
      "id": "0730d6a1-c893-4840-9817-5e5251676d5d",
      "metadata": {},
      "source": [
        "### Installation\n",
        "\n",
        "This retriever lives in the `langchain-egnyte` package:"
      ]
    },
    {
      "cell_type": "code",
      "execution_count": 4,
      "id": "652d6238-1f87-422a-b135-f5abbb8652fc",
      "metadata": {},
      "outputs": [
        {
          "name": "stdout",
          "output_type": "stream",
          "text": [
            "Note: you may need to restart the kernel to use updated packages.\n"
          ]
        }
      ],
      "source": [
        "%pip install -qU langchain-egnyte"
      ]
    },
    {
      "cell_type": "markdown",
      "id": "a38cde65-254d-4219-a441-068766c0d4b5",
      "metadata": {},
      "source": [
        "## Instantiation\n",
        "\n",
        "Now we can instantiate our retriever:\n",
        "\n",
        "## Basic Search"
      ]
    },
    {
      "cell_type": "code",
      "execution_count": 5,
      "id": "70cc8e65-2a02-408a-bbc6-8ef649057d82",
      "metadata": {},
      "outputs": [],
      "source": [
        "from langchain_egnyte import EgnyteRetriever\n",
        "\n",
        "retriever = EgnyteRetriever(domain=egnyte_domain)"
      ]
    },
    {
      "cell_type": "markdown",
      "id": "2197e7d0",
      "metadata": {},
      "source": [
        "For more granular search, we offer a comprehensive set of options to help you filter and customize your search results. This uses the `langchain_egnyte.utilities.EgnyteSearchOptions` class to filter on things like creation date, folder paths, file creators, and more."
      ]
    },
    {
      "cell_type": "code",
      "execution_count": 6,
      "id": "97f3ae67",
      "metadata": {},
      "outputs": [
        {
          "data": {
            "text/plain": [
              "[Document(metadata={'source': 'https://company.egnyte.com/pubapi/v1/search/content', 'title': 'Q4_Financial_Report.pdf', 'path': '/Shared/Finance/Q4_Financial_Report.pdf', 'created_date': '2024-01-15T10:30:00Z', 'created_by': 'john.doe'}, page_content='Q4 Financial Summary\\n\\nRevenue: $2.5M\\nExpenses: $1.8M\\nNet Income: $700K\\n\\nKey highlights:\\n- 15% growth in recurring revenue\\n- Successful product launch in Q4\\n- Expansion into new markets')]"
            ]
          },
          "execution_count": 6,
          "metadata": {},
          "output_type": "execute_result"
        }
      ],
      "source": [
        "from langchain_egnyte import EgnyteSearchOptions\n",
        "import datetime\n",
        "\n",
        "# Create search options for more targeted results\n",
        "search_options = EgnyteSearchOptions(\n",
        "    limit=50,\n",
        "    folderPath=\"/Shared/Finance\",\n",
        "    createdAfter=int(datetime.datetime(2024, 1, 1).timestamp() * 1000),  # Unix timestamp in milliseconds\n",
        "    createdBefore=int(datetime.datetime(2024, 12, 31).timestamp() * 1000)\n",
        ")\n",
        "\n",
        "retriever = EgnyteRetriever(\n",
        "    domain=egnyte_domain,\n",
        "    search_options=search_options\n",
        ")\n",
        "\n",
        "# Search with user token provided per request\n",
        "retriever.invoke(\"financial report Q4\", egnyte_user_token=egnyte_user_token)"
      ]
    },
    {
      "cell_type": "markdown",
      "id": "41287857-cfe9-4d39-a84d-e7bd9f1f59a8",
      "metadata": {},
      "source": [
        "## Advanced Search Options\n",
        "\n",
        "The Egnyte retriever supports comprehensive search filtering:"
      ]
    },
    {
      "cell_type": "code",
      "execution_count": 7,
      "id": "ee0e726d-9974-4aa0-9ce1-0057ec3e540a",
      "metadata": {},
      "outputs": [],
      "source": [
        "from langchain_egnyte import EgnyteRetriever, EgnyteSearchOptions\n",
        "\n",
        "# Advanced search configuration\n",
        "advanced_search_options = EgnyteSearchOptions(\n",
        "    limit=100,\n",
        "    folderPath=\"/Shared/Documents\",\n",
        "    createdBy=\"john.doe\",\n",
        "    createdAfter=int(datetime.datetime(2024, 1, 1).timestamp() * 1000),\n",
        "    preferredFolderPath=\"/Shared/Documents/Important\",\n",
        "    excludeFolderPaths=[\"/Shared/Documents/Archive\", \"/Shared/Documents/Temp\"],\n",
        "    collectionId=\"marketing-materials\"\n",
        ")\n",
        "\n",
        "retriever = EgnyteRetriever(\n",
        "    domain=egnyte_domain,\n",
        "    search_options=advanced_search_options\n",
        ")"
      ]
    },
    {
      "cell_type": "markdown",
      "id": "5c5f2839-4020-424e-9fc9-07777eede442",
      "metadata": {},
      "source": [
        "## Usage"
      ]
    },
    {
      "cell_type": "code",
      "execution_count": 8,
      "id": "51a60dbe-9f2e-4e04-bb62-23968f17164a",
      "metadata": {},
      "outputs": [
        {
          "data": {
            "text/plain": [
              "[Document(metadata={'source': 'https://company.egnyte.com/pubapi/v1/search/content', 'title': 'Marketing_Strategy_2024.docx', 'path': '/Shared/Documents/Important/Marketing_Strategy_2024.docx', 'created_date': '2024-02-01T14:20:00Z', 'created_by': 'john.doe'}, page_content='Marketing Strategy 2024\\n\\nObjectives:\\n1. Increase brand awareness by 30%\\n2. Generate 500 qualified leads per month\\n3. Launch new product line\\n\\nKey Initiatives:\\n- Digital marketing campaign\\n- Content marketing strategy\\n- Partnership development')]"
            ]
          },
          "execution_count": 8,
          "metadata": {},
          "output_type": "execute_result"
        }
      ],
      "source": [
        "query = \"marketing strategy and brand awareness\"\n",
        "\n",
        "retriever.invoke(query, egnyte_user_token=egnyte_user_token)"
      ]
    },
    {
      "cell_type": "markdown",
      "id": "31a59a51",
      "metadata": {},
      "source": [
        "## Utility Functions\n",
        "\n",
        "The Egnyte package provides convenient utility functions for common search patterns:"
      ]
    },
    {
      "cell_type": "code",
      "execution_count": 9,
      "id": "2eddc8c1",
      "metadata": {},
      "outputs": [
        {
          "data": {
            "text/plain": [
              "[Document(metadata={'source': 'https://company.egnyte.com/pubapi/v1/search/content', 'title': 'Project_Plan.pdf', 'path': '/Shared/Projects/Project_Plan.pdf', 'created_date': '2024-03-15T09:45:00Z', 'created_by': 'jane.smith'}, page_content='Project Plan\\n\\nProject: Website Redesign\\nTimeline: Q2 2024\\nBudget: $50,000\\n\\nMilestones:\\n1. Design mockups - Week 2\\n2. Development - Weeks 3-8\\n3. Testing - Weeks 9-10\\n4. Launch - Week 12')]"
            ]
          },
          "execution_count": 9,
          "metadata": {},
          "output_type": "execute_result"
        }
      ],
      "source": [
        "from langchain_egnyte import create_folder_search_options, create_date_range_search_options\n",
        "\n",
        "# Create folder-specific search options\n",
        "folder_options = create_folder_search_options(\n",
        "    folder_path=\"/Shared/Projects\",\n",
        "    limit=25\n",
        ")\n",
        "\n",
        "retriever = EgnyteRetriever(\n",
        "    domain=egnyte_domain,\n",
        "    search_options=folder_options\n",
        ")\n",
        "\n",
        "retriever.invoke(\"project plan\", egnyte_user_token=egnyte_user_token)"
      ]
    },
    {
      "cell_type": "markdown",
      "id": "d2e93a2e",
      "metadata": {},
      "source": [
        "## Date Range Search"
      ]
    },
    {
      "cell_type": "code",
      "execution_count": 10,
      "id": "c1892b07",
      "metadata": {},
      "outputs": [
        {
          "data": {
            "text/plain": [
              "[Document(metadata={'source': 'https://company.egnyte.com/pubapi/v1/search/content', 'title': 'Meeting_Notes_March.docx', 'path': '/Shared/Meetings/Meeting_Notes_March.docx', 'created_date': '2024-03-20T16:30:00Z', 'created_by': 'alice.johnson'}, page_content='Meeting Notes - March 20, 2024\\n\\nAttendees: Alice, Bob, Carol\\nAgenda: Q1 Review\\n\\nKey Points:\\n- Q1 targets exceeded by 12%\\n- New client onboarding process\\n- Team expansion plans for Q2')]"
            ]
          },
          "execution_count": 10,
          "metadata": {},
          "output_type": "execute_result"
        }
      ],
      "source": [
        "# Create date range search options\n",
        "date_range_options = create_date_range_search_options(\n",
        "    start_date=int(datetime.datetime(2024, 3, 1).timestamp() * 1000),\n",
        "    end_date=int(datetime.datetime(2024, 3, 31).timestamp() * 1000),\n",
        "    limit=50\n",
        ")\n",
        "\n",
        "retriever = EgnyteRetriever(\n",
        "    domain=egnyte_domain,\n",
        "    search_options=date_range_options\n",
        ")\n",
        "\n",
        "retriever.invoke(\"meeting notes\", egnyte_user_token=egnyte_user_token)"
      ]
    },
    {
      "cell_type": "markdown",
      "id": "dfe8aad4-8626-4330-98a9-7ea1ca5d2e0e",
      "metadata": {},
      "source": [
        "## Use within a chain\n",
        "\n",
        "Like other retrievers, EgnyteRetriever can be incorporated into LLM applications via `chains`.\n",
        "\n",
        "We will need a LLM or chat model:\n",
        "\n",
        "import ChatModelTabs from \"@theme/ChatModelTabs\";\n",
        "\n",
        "<ChatModelTabs customVarName=\"llm\" />\n"
      ]
    },
    {
      "cell_type": "code",
      "execution_count": 11,
      "id": "42c1f14f-7761-4e59-87a9-289667e8a9af",
      "metadata": {},
      "outputs": [
        {
          "name": "stdout",
          "output_type": "stream",
          "text": [
            "Enter your OpenAI key:  ········\n"
          ]
        }
      ],
      "source": [
        "openai_key = getpass.getpass(\"Enter your OpenAI key: \")"
      ]
    },
    {
      "cell_type": "code",
      "execution_count": 12,
      "id": "25b647a3-f8f2-4541-a289-7a241e43f9df",
      "metadata": {},
      "outputs": [],
      "source": [
        "# | output: false\n",
        "# | echo: false\n",
        "\n",
        "from langchain_openai import ChatOpenAI\n",
        "\n",
        "llm = ChatOpenAI(model=\"gpt-4o-mini\", temperature=0, openai_api_key=openai_key)"
      ]
    },
    {
      "cell_type": "code",
      "execution_count": 13,
      "id": "23e11cc9-abd6-4855-a7eb-799f45ca01ae",
      "metadata": {},
      "outputs": [],
      "source": [
        "from langchain_core.output_parsers import StrOutputParser\n",
        "from langchain_core.prompts import ChatPromptTemplate\n",
        "from langchain_core.runnables import RunnablePassthrough\n",
        "\n",
        "# Create search options for financial documents\n",
        "financial_search_options = EgnyteSearchOptions(\n",
        "    limit=100,\n",
        "    folderPath=\"/Shared/Finance\",\n",
        "    createdAfter=int(datetime.datetime(2024, 1, 1).timestamp() * 1000)\n",
        ")\n",
        "\n",
        "retriever = EgnyteRetriever(\n",
        "    domain=egnyte_domain,\n",
        "    search_options=financial_search_options\n",
        ")\n",
        "\n",
        "question = \"What were the key financial highlights for Q4?\"\n",
        "\n",
        "prompt = ChatPromptTemplate.from_template(\n",
        "    \"\"\"Answer the question based only on the context provided.\n",
        "\n",
        "    Context: {context}\n",
        "\n",
        "    Question: {question}\"\"\"\n",
        ")\n",
        "\n",
        "\n",
        "def format_docs(docs):\n",
        "    return \"\\n\\n\".join(doc.page_content for doc in docs)\n",
        "\n",
        "\n",
        "# Create a custom retriever function that includes the token\n",
        "def retrieve_with_token(query):\n",
        "    return retriever.invoke(query, egnyte_user_token=egnyte_user_token)\n",
        "\n",
        "\n",
        "chain = (\n",
        "    {\"context\": retrieve_with_token | format_docs, \"question\": RunnablePassthrough()}\n",
        "    | prompt\n",
        "    | llm\n",
        "    | StrOutputParser()\n",
        ")"
      ]
    },
    {
      "cell_type": "code",
      "execution_count": 14,
      "id": "d47c37dd-5c11-416c-a3b6-bec413cd70e8",
      "metadata": {},
      "outputs": [
        {
          "data": {
            "text/plain": [
              "'Based on the Q4 Financial Report, the key financial highlights were:\\n\\n- **Revenue**: $2.5M\\n- **Net Income**: $700K\\n- **Growth**: 15% increase in recurring revenue\\n- **Product Success**: Successful product launch in Q4\\n- **Expansion**: Successfully expanded into new markets\\n\\nThe company showed strong performance with healthy revenue growth and successful market expansion initiatives.'"
            ]
          },
          "execution_count": 14,
          "metadata": {},
          "output_type": "execute_result"
        }
      ],
      "source": [
        "chain.invoke(question)"
      ]
    },
    {
      "cell_type": "markdown",
      "id": "04813f37-ac97-48f3-8001-98c6c0d50c15",
      "metadata": {},
      "source": [
        "## Use as an agent tool\n",
        "\n",
        "Like other retrievers, EgnyteRetriever can also be added to a LangGraph agent as a tool."
      ]
    },
    {
      "cell_type": "code",
      "execution_count": 15,
      "id": "52a56c14-228e-4b11-a6bd-5b75c0f403fa",
      "metadata": {},
      "outputs": [],
      "source": [
        "from langchain import hub\n",
        "from langchain.agents import AgentExecutor, create_openai_tools_agent\n",
        "from langchain_egnyte import create_retriever_tool"
      ]
    },
    {
      "cell_type": "code",
      "execution_count": 16,
      "id": "b2e7b413-f49a-4bfe-b1e1-d0643704686e",
      "metadata": {},
      "outputs": [],
      "source": [
        "# Create search options for the agent\n",
        "agent_search_options = EgnyteSearchOptions(\n",
        "    limit=50,\n",
        "    folderPath=\"/Shared\"\n",
        ")\n",
        "\n",
        "retriever = EgnyteRetriever(\n",
        "    domain=egnyte_domain,\n",
        "    search_options=agent_search_options\n",
        ")\n",
        "\n",
        "# Create a custom retriever tool that includes the token\n",
        "def egnyte_search_with_token(query: str) -> str:\n",
        "    \"\"\"Search Egnyte documents and return relevant content.\"\"\"\n",
        "    docs = retriever.invoke(query, egnyte_user_token=egnyte_user_token)\n",
        "    return \"\\n\\n\".join([f\"Title: {doc.metadata.get('title', 'Unknown')}\\nContent: {doc.page_content}\" for doc in docs])\n",
        "\n",
        "egnyte_search_tool = create_retriever_tool(\n",
        "    retriever,\n",
        "    \"egnyte_search_tool\",\n",
        "    \"This tool searches Egnyte documents and retrieves relevant content based on the query. Use this to find documents, reports, and other files stored in Egnyte.\",\n",
        ")\n",
        "\n",
        "tools = [egnyte_search_tool]"
      ]
    },
    {
      "cell_type": "code",
      "execution_count": 17,
      "id": "0cfdb1bf-d328-4d56-aad7-7c71064c091f",
      "metadata": {},
      "outputs": [],
      "source": [
        "prompt = hub.pull(\"hwchase17/openai-tools-agent\")\n",
        "\n",
        "llm = ChatOpenAI(temperature=0, openai_api_key=openai_key)\n",
        "\n",
        "agent = create_openai_tools_agent(llm, tools, prompt)\n",
        "agent_executor = AgentExecutor(agent=agent, tools=tools)"
      ]
    },
    {
      "cell_type": "code",
      "execution_count": 18,
      "id": "3b928f20-a28b-4954-bc71-ad35eba27253",
      "metadata": {},
      "outputs": [],
      "source": [
        "result = agent_executor.invoke(\n",
        "    {\n",
        "        \"input\": \"Find all documents related to marketing strategy and summarize the key objectives\"\n",
        "    }\n",
        ")"
      ]
    },
    {
      "cell_type": "code",
      "execution_count": 19,
      "id": "1ae20ded-69ae-4b4e-b7c1-07aa2d50db31",
      "metadata": {},
      "outputs": [
        {
          "name": "stdout",
          "output_type": "stream",
          "text": [
            "Based on the marketing strategy document found, here are the key objectives for 2024:\n",
            "\n",
            "**Main Objectives:**\n",
            "1. **Increase brand awareness by 30%** - Focus on expanding market recognition\n",
            "2. **Generate 500 qualified leads per month** - Improve lead generation capabilities\n",
            "3. **Launch new product line** - Introduce new offerings to the market\n",
            "\n",
            "**Key Initiatives to achieve these objectives:**\n",
            "- Digital marketing campaign\n",
            "- Content marketing strategy\n",
            "- Partnership development\n",
            "\n",
            "The strategy appears to be comprehensive, focusing on both brand building and lead generation while supporting business growth through new product launches and strategic partnerships.\n"
          ]
        }
      ],
      "source": [
        "print(result['output'])"
      ]
    },
    {
      "cell_type": "markdown",
      "id": "8b5b8adb-77ad-43e7-a41c-7880a787b43e",
      "metadata": {},
      "source": [
        "## Error Handling\n",
        "\n",
        "The Egnyte retriever includes comprehensive error handling for common scenarios:"
      ]
    },
    {
      "cell_type": "code",
      "execution_count": 20,
      "id": "error_handling_example",
      "metadata": {},
      "outputs": [],
      "source": [
        "from langchain_egnyte import (\n",
        "    AuthenticationError,\n",
        "    AuthorizationError,\n",
        "    NotFoundError,\n",
        "    RateLimitError,\n",
        "    ServerError\n",
        ")\n",
        "\n",
        "try:\n",
        "    retriever = EgnyteRetriever(domain=egnyte_domain)\n",
        "    documents = retriever.invoke(\"test query\", egnyte_user_token=\"invalid_token\")\n",
        "except AuthenticationError as e:\n",
        "    print(f\"Authentication failed: {e}\")\n",
        "except AuthorizationError as e:\n",
        "    print(f\"Access denied: {e}\")\n",
        "except RateLimitError as e:\n",
        "    print(f\"Rate limit exceeded: {e}\")\n",
        "except ServerError as e:\n",
        "    print(f\"Server error: {e}\")\n",
        "except Exception as e:\n",
        "    print(f\"Unexpected error: {e}\")"
      ]
    },
    {
      "cell_type": "markdown",
      "id": "3a5bb5ca-c3ae-4a58-be67-2cd18574b9a3",
      "metadata": {},
      "source": [
        "## API reference\n",
        "\n",
        "For detailed documentation of all EgnyteRetriever features and configurations head to the [API reference](https://python.langchain.com/api_reference).\n",
        "\n",
        "\n",
        "## Help\n",
        "\n",
        "If you have questions, you can check out our [developer documentation](https://developers.egnyte.com) or reach out to us through [Egnyte Support](https://helpdesk.egnyte.com)."
      ]
    }
  ],
  "metadata": {
    "kernelspec": {
      "display_name": "Python 3 (ipykernel)",
      "language": "python",
      "name": "python3"
    },
    "language_info": {
      "codemirror_mode": {
        "name": "ipython",
        "version": 3
      },
      "file_extension": ".py",
      "mimetype": "text/x-python",
      "name": "python",
      "nbconvert_exporter": "python",
      "pygments_lexer": "ipython3",
      "version": "3.11.6"
    }
  },
  "nbformat": 4,
  "nbformat_minor": 5
}
