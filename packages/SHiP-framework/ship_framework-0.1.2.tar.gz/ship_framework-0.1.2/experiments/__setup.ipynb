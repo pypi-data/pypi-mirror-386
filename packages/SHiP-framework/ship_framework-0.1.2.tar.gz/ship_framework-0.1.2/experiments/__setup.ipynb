{
 "cells": [
  {
   "cell_type": "code",
   "execution_count": null,
   "metadata": {},
   "outputs": [],
   "source": [
    "SHiP_ROOT_FOLDER = \"/export/share/##42h8##/HCF/experiments/\"\n",
    "%store SHiP_ROOT_FOLDER"
   ]
  },
  {
   "cell_type": "code",
   "execution_count": null,
   "metadata": {},
   "outputs": [],
   "source": [
    "%store"
   ]
  },
  {
   "cell_type": "code",
   "execution_count": null,
   "metadata": {},
   "outputs": [],
   "source": [
    "import os\n",
    "import sys\n",
    "\n",
    "%store -r SHiP_ROOT_FOLDER\n",
    "if \"SHiP_ROOT_FOLDER\" in globals():\n",
    "    os.chdir(SHiP_ROOT_FOLDER)\n",
    "    sys.path.append(SHiP_ROOT_FOLDER)"
   ]
  },
  {
   "cell_type": "code",
   "execution_count": null,
   "metadata": {},
   "outputs": [],
   "source": []
  },
  {
   "cell_type": "code",
   "execution_count": null,
   "metadata": {},
   "outputs": [],
   "source": [
    "# Clear Cache\n",
    "import os\n",
    "\n",
    "%store -r SHiP_ROOT_FOLDER\n",
    "os.chdir(SHiP_ROOT_FOLDER)\n",
    "print(\"Do you really want to clear the cache?\")\n",
    "if input() in [\"y\", \"yes\"]:\n",
    "    !rm ./.cache/*\n",
    "    # !rm ./datasets/.cache/*\n",
    "    print(\"Cache cleared.\")\n",
    "else:\n",
    "    print(\"Cache NOT cleared.\")"
   ]
  },
  {
   "cell_type": "code",
   "execution_count": null,
   "metadata": {},
   "outputs": [],
   "source": []
  }
 ],
 "metadata": {
  "kernelspec": {
   "display_name": "Python 3 (ipykernel)",
   "language": "python",
   "name": "python3"
  },
  "language_info": {
   "codemirror_mode": {
    "name": "ipython",
    "version": 3
   },
   "file_extension": ".py",
   "mimetype": "text/x-python",
   "name": "python",
   "nbconvert_exporter": "python",
   "pygments_lexer": "ipython3",
   "version": "3.12.4"
  }
 },
 "nbformat": 4,
 "nbformat_minor": 4
}
