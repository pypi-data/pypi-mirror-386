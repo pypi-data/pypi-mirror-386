{
  "cells": [
    {
      "cell_type": "markdown",
      "metadata": {},
      "source": [
        "# OpenEurOtop - Démonstration Interactive\n",
        "\n",
        "Ce notebook illustre l'utilisation du package OpenEurOtop pour le calcul du franchissement de vagues.\n",
        "\n",
        "## Contenu\n",
        "\n",
        "1. Premier calcul simple\n",
        "2. Influence de la revanche\n",
        "3. Comparaison de revêtements\n",
        "4. Calcul de volumes\n",
        "\n",
        "Pour utiliser ce notebook :\n",
        "```bash\n",
        "pip install jupyter pandas matplotlib\n",
        "jupyter notebook demo_interactive.ipynb\n",
        "```\n"
      ]
    },
    {
      "cell_type": "code",
      "execution_count": null,
      "metadata": {},
      "outputs": [],
      "source": [
        "import sys\n",
        "sys.path.insert(0, '..')\n",
        "\n",
        "import numpy as np\n",
        "from openeurotop import overtopping, wave_parameters, reduction_factors\n",
        "\n",
        "print(\"Package OpenEurOtop chargé avec succès !\")\n"
      ]
    },
    {
      "cell_type": "markdown",
      "metadata": {},
      "source": [
        "## Exemple 1 : Calcul simple pour une digue\n"
      ]
    },
    {
      "cell_type": "code",
      "execution_count": null,
      "metadata": {},
      "outputs": [],
      "source": [
        "# Paramètres d'entrée\n",
        "Hm0 = 2.5      # Hauteur significative (m)\n",
        "Tm_10 = 6.0    # Période moyenne (s)\n",
        "h = 10.0       # Profondeur (m)\n",
        "Rc = 3.0       # Revanche (m)\n",
        "alpha = 35.0   # Pente (degrés)\n",
        "\n",
        "# Calcul du franchissement\n",
        "q = overtopping.digue_talus(Hm0, Tm_10, h, Rc, alpha)\n",
        "\n",
        "print(f\"Paramètres :\")\n",
        "print(f\"  Hm0 = {Hm0} m\")\n",
        "print(f\"  Tm-1,0 = {Tm_10} s\")\n",
        "print(f\"  Rc = {Rc} m\")\n",
        "print(f\"  α = {alpha}°\")\n",
        "print(f\"\\nRésultat :\")\n",
        "print(f\"  Débit de franchissement : {q:.6f} m³/s/m\")\n",
        "print(f\"  Débit de franchissement : {q*1000:.3f} l/s/m\")\n"
      ]
    }
  ],
  "metadata": {
    "language_info": {
      "name": "python"
    }
  },
  "nbformat": 4,
  "nbformat_minor": 2
}
