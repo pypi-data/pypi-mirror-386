{
 "cells": [
  {
   "cell_type": "markdown",
   "id": "4164e1ad043be7cd",
   "metadata": {},
   "source": [
    "# Example Usage: Processing the test data\n",
    "\n",
    "The following will walk you through processing a very small collection of images to lightcurves. \n",
    "\n",
    "We use a jupyter notebook format for this description to allow this to be closer to a living document that updates along with AutoWISP, however it is meant to demonstrate the usage of AutoWISP from the command line. All commands starting with `!` or `%` are shell commands, meaning you can execute them in your operating system's terminal (command prompt in Windows)."
   ]
  },
  {
   "cell_type": "markdown",
   "id": "4a85e857-268a-47b3-9930-5ef355df52e0",
   "metadata": {},
   "source": [
    "### Create a temporary directory to work in (remember to delete it at the end), enter it, and get its path"
   ]
  },
  {
   "cell_type": "code",
   "execution_count": 4,
   "id": "f413ba31-5808-4b3b-8bd3-d12a7723a946",
   "metadata": {},
   "outputs": [
    {
     "name": "stdout",
     "output_type": "stream",
     "text": [
      "mkdir: autowisp_test: File exists\n",
      "/Users/kpenev/projects/git/AutoWISP/autowisp/tests/test_data/autowisp_test\n"
     ]
    }
   ],
   "source": [
    "%mkdir autowisp_test\n",
    "%cd autowisp_test"
   ]
  },
  {
   "cell_type": "markdown",
   "id": "75772c71-1532-46f0-92cf-b806d7620ca8",
   "metadata": {},
   "source": [
    "### Download the test data\n",
    "\n",
    "The raw images processed in this example as well as the expected files that processing will produce can be downloaded from:\n",
    "(https://zenodo.org/records/15786531/files/test_data.zip?download=1)\n",
    "\n",
    "Download the zip file from zenodo and unpack it. This will produce several directories called: `CAL`, `DR`, `Gaia`, `LC`, `MASTERS`, and `RAW`. It should also produce several files, one of which is called `test.cfg`. \n",
    "\n",
    "Move `RAW` and `test.cfg` to the directory we just created. \n",
    "\n",
    "The remaining directories contain the files that processing should produce. You can compare what you get to those files."
   ]
  },
  {
   "cell_type": "markdown",
   "id": "1ea4c33289bc866d",
   "metadata": {},
   "source": [
    "### Perform the calibration for the zero frames"
   ]
  },
  {
   "cell_type": "code",
   "execution_count": 7,
   "id": "e7fd8230c34bb11c",
   "metadata": {},
   "outputs": [
    {
     "name": "stdout",
     "output_type": "stream",
     "text": [
      "\u001b[0m"
     ]
    }
   ],
   "source": [
    "!wisp-calibrate --config-file test.cfg RAW/zero"
   ]
  },
  {
   "cell_type": "markdown",
   "id": "dc316ba5-07ab-4121-b2d5-ece1db4dcf07",
   "metadata": {},
   "source": [
    "This should produce a directory called `CAL` under which there will be another directory called `zero` which contains the calibrated bias frames."
   ]
  },
  {
   "cell_type": "markdown",
   "id": "f7fdf2169c1bdd23",
   "metadata": {},
   "source": [
    "### Create a master bias by stacking the calibrated zero frames"
   ]
  },
  {
   "cell_type": "code",
   "execution_count": 10,
   "id": "fdbbb62c835d4b7",
   "metadata": {},
   "outputs": [
    {
     "name": "stdout",
     "output_type": "stream",
     "text": [
      "\u001b[0m"
     ]
    }
   ],
   "source": [
    "!wisp-stack-to-master -c test.cfg CAL/zero/"
   ]
  },
  {
   "cell_type": "markdown",
   "id": "fa239fc2-1d89-418d-b23b-7e5f99b8b025",
   "metadata": {},
   "source": [
    "This should produce a directory called MASTERS containing a single FITS file, which is the master bias."
   ]
  },
  {
   "cell_type": "markdown",
   "id": "5cd55d75d9c1f7da",
   "metadata": {},
   "source": [
    "### Perform the calibration for the dark frames\n",
    "\n",
    "Note that when calibrating the dark frames we wish to subtract the master bias generated above. In order to do this, we specify that the master that was generated above should be used as a master bias by adding `--master-bias \"R:MASTERS/zero_R.fits.fz\"` to our command line"
   ]
  },
  {
   "cell_type": "code",
   "execution_count": 13,
   "id": "b3b0444858c2afa6",
   "metadata": {},
   "outputs": [
    {
     "name": "stdout",
     "output_type": "stream",
     "text": [
      "\u001b[0m"
     ]
    }
   ],
   "source": [
    "!wisp-calibrate --config-file test.cfg RAW/dark/*.fits.fz --master-bias \"R:MASTERS/zero_R.fits.fz\""
   ]
  },
  {
   "cell_type": "markdown",
   "id": "e906fe5e-b9f9-488a-bd89-69fb14c2eb2c",
   "metadata": {},
   "source": [
    "There should now be another directory under `CAL`, called `dark` which contains the calibrated dark frames."
   ]
  },
  {
   "cell_type": "markdown",
   "id": "92e45855e30eb179",
   "metadata": {},
   "source": [
    "### Create a master dark by stacking the calibrated dark images"
   ]
  },
  {
   "cell_type": "code",
   "execution_count": 16,
   "id": "863ce819c517ebc1",
   "metadata": {},
   "outputs": [
    {
     "name": "stdout",
     "output_type": "stream",
     "text": [
      "\u001b[0m"
     ]
    }
   ],
   "source": [
    "!wisp-stack-to-master -c test.cfg CAL/dark/"
   ]
  },
  {
   "cell_type": "markdown",
   "id": "f08cd576b6ae37b4",
   "metadata": {},
   "source": [
    "### Perform calibration for flat frames\n",
    "Those should be corrected both with the master bias and the master dark generated in the previous two steps:"
   ]
  },
  {
   "cell_type": "code",
   "execution_count": 18,
   "id": "c476d24d7812ea0d",
   "metadata": {},
   "outputs": [
    {
     "name": "stdout",
     "output_type": "stream",
     "text": [
      "\u001b[0m"
     ]
    }
   ],
   "source": [
    "!wisp-calibrate --config-file test.cfg RAW/flat/*.fits.fz --master-bias \"R:MASTERS/zero_R.fits.fz\" --master-dark \"R:MASTERS/dark_R.fits.fz\""
   ]
  },
  {
   "cell_type": "markdown",
   "id": "5c2efbc1083f6f9f",
   "metadata": {},
   "source": [
    "### Build a master flat out of the individual calibrated flat frames\n",
    "\n",
    "Note that creating a master flat uses a different command than creating master bias and dark!"
   ]
  },
  {
   "cell_type": "code",
   "execution_count": 20,
   "id": "36d2de90a9395c65",
   "metadata": {},
   "outputs": [
    {
     "name": "stdout",
     "output_type": "stream",
     "text": [
      "\u001b[0m"
     ]
    }
   ],
   "source": [
    "!wisp-stack-to-master-flat -c test.cfg CAL/flat/"
   ]
  },
  {
   "cell_type": "markdown",
   "id": "75c74545b22c9a35",
   "metadata": {},
   "source": [
    "### Perform calibration for object frames\n",
    "Now we use all three masters"
   ]
  },
  {
   "cell_type": "code",
   "execution_count": 22,
   "id": "44cf34070c00aa9c",
   "metadata": {},
   "outputs": [
    {
     "name": "stdout",
     "output_type": "stream",
     "text": [
      "\u001b[0m"
     ]
    }
   ],
   "source": [
    "!wisp-calibrate --config-file test.cfg RAW/object/*.fits.fz --master-bias \"R:MASTERS/zero_R.fits.fz\" --master-dark \"R:MASTERS/dark_R.fits.fz\" --master-flat \"R:MASTERS/flat_R.fits.fz\""
   ]
  },
  {
   "cell_type": "markdown",
   "id": "8163a050-f500-4138-a8da-563a416f4be8",
   "metadata": {},
   "source": [
    "If you wish to see how your calibrated images look, we recommend using [SAO DS9](https://sites.google.com/cfa.harvard.edu/saoimageds9/download)."
   ]
  },
  {
   "cell_type": "markdown",
   "id": "954c24e99b3697c3",
   "metadata": {},
   "source": [
    "### Find stars in the calibrated object frames\n",
    "This will create another directory called `DR` which contains what we call data reduction files. These files are where the pipeline saves  the results of processing the calibrated images. So fare, these files will only contain the stars that we find in the images. If you wish to see the contents of HDF5 files, the best tool we are aware of is: [HDFView](https://www.hdfgroup.org/download-hdfview/)"
   ]
  },
  {
   "cell_type": "code",
   "execution_count": 24,
   "id": "4380087219f6dc02",
   "metadata": {
    "scrolled": true
   },
   "outputs": [
    {
     "name": "stdout",
     "output_type": "stream",
     "text": [
      "\u001b[0m"
     ]
    }
   ],
   "source": [
    "!wisp-find-stars --config-file test.cfg CAL/object/"
   ]
  },
  {
   "cell_type": "markdown",
   "id": "3b61f312c826feb6",
   "metadata": {},
   "source": [
    "### Perform astrometry on DR files\n",
    "This matches the extracted sources to a catalog of stars from the Gaia space mission and uses that information to figure out how to convert from coordinates on the sky to coordinates within each image. The conversion will also be stored in the DR files.\n",
    "\n",
    "Note that this may take a while, since we use an online service to find an initial guess which is often over-subscribed."
   ]
  },
  {
   "cell_type": "code",
   "execution_count": 26,
   "id": "7f52b6a6966916ae",
   "metadata": {},
   "outputs": [
    {
     "name": "stdout",
     "output_type": "stream",
     "text": [
      "\u001b[0m\u001b[0m\u001b[0m\u001b[0m\u001b[0m\u001b[0m\u001b[0m\u001b[0m\u001b[0m\u001b[0m\u001b[0m\u001b[0m\u001b[0m"
     ]
    }
   ],
   "source": [
    "!wisp-solve-astrometry --config-file test.cfg DR/"
   ]
  },
  {
   "cell_type": "markdown",
   "id": "7fca906468321545",
   "metadata": {},
   "source": [
    "### Perform PSF/PRF fitting"
   ]
  },
  {
   "cell_type": "code",
   "execution_count": 28,
   "id": "68ec099d065705b5",
   "metadata": {},
   "outputs": [
    {
     "name": "stdout",
     "output_type": "stream",
     "text": [
      "Reading model\n",
      "Reading grid\n",
      "Reading coefficients\n",
      "Reading model\n",
      "Reading grid\n",
      "Reading coefficients\n",
      "Reading model\n",
      "Reading grid\n",
      "Reading coefficients\n",
      "Reading model\n",
      "Reading grid\n",
      "Reading coefficients\n",
      "Reading model\n",
      "Reading grid\n",
      "Reading coefficients\n",
      "Reading model\n",
      "Reading grid\n",
      "Reading coefficients\n",
      "Reading model\n",
      "Reading grid\n",
      "Reading coefficients\n",
      "Reading model\n",
      "Reading grid\n",
      "Reading coefficients\n",
      "Reading model\n",
      "Reading grid\n",
      "Reading coefficients\n",
      "\u001b[0m\u001b[0m\u001b[0m\u001b[0m\u001b[0m\u001b[0m\u001b[0m\u001b[0m\u001b[0m\u001b[0m\u001b[0m"
     ]
    }
   ],
   "source": [
    "!wisp-fit-star-shape --config test.cfg CAL/object/"
   ]
  },
  {
   "cell_type": "markdown",
   "id": "77db999f3eb73eaf",
   "metadata": {},
   "source": [
    "### Perform aperture photometry"
   ]
  },
  {
   "cell_type": "code",
   "execution_count": 30,
   "id": "d48e0f61777858f0",
   "metadata": {
    "scrolled": true
   },
   "outputs": [
    {
     "name": "stdout",
     "output_type": "stream",
     "text": [
      "Setting apertures\n",
      "Reading PSF map\n",
      "Reading model\n",
      "Reading grid\n",
      "Reading coefficients\n",
      "Creating flux measuring object\n",
      "Measuring flux for image 0\n",
      "tree suffix = .0\n",
      "Setting apertures\n",
      "Reading PSF map\n",
      "Reading model\n",
      "Reading grid\n",
      "Reading coefficients\n",
      "Creating flux measuring object\n",
      "Measuring flux for image 0\n",
      "tree suffix = .0\n",
      "Reading backgroundReading background\n",
      "\n",
      "Setting apertures\n",
      "Reading PSF map\n",
      "Reading model\n",
      "Reading grid\n",
      "Reading coefficients\n",
      "Creating flux measuring object\n",
      "Measuring flux for image 0\n",
      "tree suffix = .0\n",
      "Reading background\n",
      "Setting apertures\n",
      "Reading PSF map\n",
      "Reading model\n",
      "Reading gridSetting apertures\n",
      "\n",
      "Reading PSF map\n",
      "Reading model\n",
      "Reading grid\n",
      "Reading coefficients\n",
      "Reading coefficientsCreating flux measuring object\n",
      "\n",
      "Creating flux measuring object\n",
      "Measuring flux for image 0Measuring flux for image \n",
      "0\n",
      "tree suffix = tree suffix = .0.0\n",
      "\n",
      "Setting apertures\n",
      "Reading PSF map\n",
      "Reading model\n",
      "Reading grid\n",
      "Reading coefficients\n",
      "Creating flux measuring object\n",
      "Measuring flux for image 0\n",
      "tree suffix = .0\n",
      "Setting apertures\n",
      "Reading PSF map\n",
      "Reading model\n",
      "Reading grid\n",
      "Reading coefficients\n",
      "Creating flux measuring object\n",
      "Measuring flux for image 0\n",
      "tree suffix = .0\n",
      "Setting apertures\n",
      "Reading PSF map\n",
      "Reading model\n",
      "Reading grid\n",
      "Reading coefficients\n",
      "Creating flux measuring object\n",
      "Measuring flux for image 0\n",
      "tree suffix = .0\n",
      "Setting apertures\n",
      "Reading PSF map\n",
      "Reading model\n",
      "Reading grid\n",
      "Reading coefficients\n",
      "Creating flux measuring object\n",
      "Measuring flux for image 0\n",
      "tree suffix = .0\n",
      "Reading background\n",
      "Reading background\n",
      "Reading background\n",
      "Reading background\n",
      "Reading background\n",
      "Reading background\n",
      "\u001b[0m"
     ]
    }
   ],
   "source": [
    "!wisp-measure-aperture-photometry --config test.cfg CAL/object/"
   ]
  },
  {
   "cell_type": "markdown",
   "id": "484ffdf7663abc76",
   "metadata": {},
   "source": [
    "### Run fit source extracted PSF map"
   ]
  },
  {
   "cell_type": "code",
   "execution_count": 32,
   "id": "ac02ceb938936395",
   "metadata": {
    "scrolled": true
   },
   "outputs": [
    {
     "name": "stdout",
     "output_type": "stream",
     "text": [
      "\u001b[0m"
     ]
    }
   ],
   "source": [
    "!wisp-fit-source-extracted-psf-map --config test.cfg DR/"
   ]
  },
  {
   "cell_type": "markdown",
   "id": "6245986297f78f41",
   "metadata": {},
   "source": [
    "### Perform magnitude fitting"
   ]
  },
  {
   "cell_type": "code",
   "execution_count": 34,
   "id": "97be5036a9282077",
   "metadata": {
    "scrolled": true
   },
   "outputs": [
    {
     "name": "stdout",
     "output_type": "stream",
     "text": [
      "\u001b[0m"
     ]
    }
   ],
   "source": [
    "!wisp-fit-magnitudes --config test.cfg DR/"
   ]
  },
  {
   "cell_type": "markdown",
   "id": "e9e2c2a6-4ff0-4509-a014-2d7ebe74568f",
   "metadata": {},
   "source": [
    "One of the products of this step is a series of magnitude fitting statistics files, which contain store information about most of the stars that are in the images. These are human readable (white-space separated files) that you can view with a text editor or open in your favorite application for manipulating data organized in columns. The inforamtion in this file can be a good guide on how good the photometry is. \n",
    "\n",
    "For each star, the first half of the columns in the statistics files are as follows:\n",
    "* For the first aperture:\n",
    "  * The number of brightness measurements of the star\n",
    "  * The number of brightness measurements that are not outliers (unusually high or low)\n",
    "  * The median of all non-outlier brightness measurements\n",
    "  * A first measure of the uncentainty in the brightness measurements, estimated as the root-mean-square deviation from the median\n",
    "  * A second measure of the uncertainty in these measurements, estimated as the median of the absolute deviation around the median\n",
    "* Repeat for the second aperture\n",
    "* ...\n",
    "\n",
    "The second half of the columns are meant for internal use, and their definition may change in the future."
   ]
  },
  {
   "cell_type": "markdown",
   "id": "b5c7ce473c9c342b",
   "metadata": {},
   "source": [
    "### Create light curves"
   ]
  },
  {
   "cell_type": "code",
   "execution_count": 36,
   "id": "e3eb83c914233192",
   "metadata": {
    "scrolled": true
   },
   "outputs": [
    {
     "name": "stdout",
     "output_type": "stream",
     "text": [
      "\u001b[0m"
     ]
    }
   ],
   "source": [
    "!wisp-create-lightcurves --config test.cfg DR/"
   ]
  },
  {
   "cell_type": "markdown",
   "id": "87513585d9b89842",
   "metadata": {},
   "source": [
    "### Perform EPD on light curves"
   ]
  },
  {
   "cell_type": "code",
   "execution_count": 38,
   "id": "39f2d44fb813068a",
   "metadata": {
    "scrolled": true
   },
   "outputs": [
    {
     "name": "stdout",
     "output_type": "stream",
     "text": [
      "Parsing: 'sphotref = apphot.magfit.cfg.single_photref : aperture_index = 0'.\n",
      "Parsing: \"x = srcproj.columns : srcproj_column_name = 'x' & srcproj_version = 0\".\n",
      "Parsing: \"y = srcproj.columns : srcproj_column_name = 'y' & srcproj_version = 0\".\n",
      "Parsing: 'bg = bg.value'.\n",
      "Parsing: 'z = skypos.zenith_distance'.\n",
      "Parsing: \"S = srcextract.psf_map.eval: srcextract_psf_param = 's'\".\n",
      "\u001b[0m"
     ]
    }
   ],
   "source": [
    "!wisp-epd --config test.cfg LC/"
   ]
  },
  {
   "cell_type": "markdown",
   "id": "615913353e67f6e2",
   "metadata": {},
   "source": [
    "### Generate EPD statistics file for light curves"
   ]
  },
  {
   "cell_type": "code",
   "execution_count": 40,
   "id": "c83fa0d87e1da5bc",
   "metadata": {
    "scrolled": true
   },
   "outputs": [
    {
     "name": "stdout",
     "output_type": "stream",
     "text": [
      "Parsing: 'sphotref = apphot.magfit.cfg.single_photref : aperture_index = 0'.\n",
      "\u001b[0m"
     ]
    }
   ],
   "source": [
    "!wisp-generate-epd-statistics --config test.cfg LC/"
   ]
  },
  {
   "cell_type": "markdown",
   "id": "c819b2640ac2e6cb",
   "metadata": {},
   "source": [
    "### Perform TFA on light curves"
   ]
  },
  {
   "cell_type": "code",
   "execution_count": 42,
   "id": "a07df4bbd6eb1ff5",
   "metadata": {
    "scrolled": true
   },
   "outputs": [
    {
     "name": "stdout",
     "output_type": "stream",
     "text": [
      "Parsing: 'sphotref = apphot.magfit.cfg.single_photref : aperture_index = 0'.\n",
      "\u001b[0m"
     ]
    }
   ],
   "source": [
    "!wisp-tfa --config test.cfg LC/"
   ]
  },
  {
   "cell_type": "markdown",
   "id": "484891cbf62aa462",
   "metadata": {},
   "source": [
    "### Generate TFA statistics file for light curves"
   ]
  },
  {
   "cell_type": "code",
   "execution_count": 44,
   "id": "1cded61e3310af4f",
   "metadata": {},
   "outputs": [
    {
     "name": "stdout",
     "output_type": "stream",
     "text": [
      "Parsing: 'sphotref = apphot.magfit.cfg.single_photref : aperture_index = 0'.\n",
      "\u001b[0m"
     ]
    }
   ],
   "source": [
    "!wisp-generate-tfa-statistics --config test.cfg LC/"
   ]
  },
  {
   "cell_type": "markdown",
   "id": "552ca160-8ceb-4f26-81f4-231a8a6ea114",
   "metadata": {},
   "source": [
    "### Extract brightness vs time from lightcurves\n",
    "\n",
    "The lightcurves generated above are in HDF5 format. You can open the directly using HDFView as before. We have attempted to organze the content in a logical way. However, these files contain my be somewhat cumbersome to work with, and likely contain a lot more entries than typical user would care about. As an example, let us collect all aperture photometry measurements from one of the newly generated lightcurves in a CSV file"
   ]
  },
  {
   "cell_type": "code",
   "execution_count": 47,
   "id": "09b230bb-3a47-4cff-b651-63c549e933d1",
   "metadata": {},
   "outputs": [
    {
     "name": "stdout",
     "output_type": "stream",
     "text": [
      "/opt/anaconda3/lib/python3.12/site-packages/autowisp/database/hdf5_file_structure.py:74: SAWarning: relationship 'Step.prerequisites' will copy column step.id to column step_dependencies.blocked_step_id, which conflicts with relationship(s): 'StepDependencies.blocked_step' (copies step.id to step_dependencies.blocked_step_id). If this is not the intention, consider if these relationships should be linked with back_populates, or if viewonly=True should be applied to one or more if they are read-only. For the less common case that foreign key constraints are partially overlapping, the orm.foreign() annotation can be used to isolate the columns that should be written towards.   To silence this warning, add the parameter 'overlaps=\"blocked_step\"' to the 'Step.prerequisites' relationship. (Background on this warning at: https://sqlalche.me/e/20/qzyx) (This warning originated from the `configure_mappers()` process, which was invoked automatically in response to a user-initiated operation.)\n",
      "  db_session.query(HDF5Product)\n",
      "Single photref: b'DR/10-465248_2_center.h5'\n",
      "Aperture indices:  None\n",
      "Evaluating 'skypos.BJD' for aperture 0\n",
      "Evaluating 'apphot.magfit.magnitude' for aperture 0\n",
      "Evaluating 'skypos.BJD' for aperture 1\n",
      "Evaluating 'apphot.magfit.magnitude' for aperture 1\n",
      "Evaluating 'skypos.BJD' for aperture 2\n",
      "Evaluating 'apphot.magfit.magnitude' for aperture 2\n",
      "Evaluating 'skypos.BJD' for aperture 3\n",
      "Evaluating 'apphot.magfit.magnitude' for aperture 3\n",
      "Evaluating 'skypos.BJD' for aperture 4\n",
      "Evaluating 'apphot.magfit.magnitude' for aperture 4\n",
      "\u001b[0m"
     ]
    }
   ],
   "source": [
    "!wisp-get-from-lc LC/GDR3_809281106831668736.h5 --expression bjd=skypos.BJD --expression 'mag{aperture_index}=apphot.magfit.magnitude' -o GDR3_809281106831668736.csv --find-best"
   ]
  },
  {
   "cell_type": "markdown",
   "id": "2ef848ea-c6ee-493b-aa67-7b75c76fe3b2",
   "metadata": {},
   "source": [
    "You can open this file with your favorite text editor or load it in your favorite software for manipulating column-organized data. The contents of the file should look like:"
   ]
  },
  {
   "cell_type": "code",
   "execution_count": 49,
   "id": "434a4d1f-3f22-4ecd-9237-d2182280082b",
   "metadata": {},
   "outputs": [
    {
     "name": "stdout",
     "output_type": "stream",
     "text": [
      "bjd,mag0,mag1,mag2,mag3\n",
      "2457819.837050383,4.006945615264255,3.17406685414204,3.0312522103547104,2.981423791605317\n",
      "2457819.837690473,3.743435615264255,3.0646768541420397,2.9453222103547105,2.886863791605317\n",
      "2457819.838957673,4.121655615264255,3.17709685414204,3.0010422103547105,2.962123791605317\n",
      "2457819.839599043,4.031455615264255,3.18722685414204,3.0456322103547104,3.044273791605317\n",
      "2457819.840274193,3.945705615264255,3.15156685414204,2.9139522103547106,2.827073791605317\n",
      "2457819.840906103,4.124025615264255,3.26076685414204,3.0048822103547104,2.940343791605317\n",
      "2457819.841551873,4.051135615264255,3.19773685414204,2.9911622103547106,2.912093791605317\n",
      "2457819.842187163,3.990045615264255,3.12918685414204,2.9628322103547107,2.919363791605317\n",
      "2457819.842825823,3.761285615264255,3.04416685414204,2.8789522103547105,2.860253791605317\n",
      "\n"
     ]
    }
   ],
   "source": [
    "with open('GDR3_809281106831668736.csv', 'r') as f:\n",
    "    print(f.read())"
   ]
  },
  {
   "cell_type": "markdown",
   "id": "05302956-f53d-4da8-b355-0970b82e110f",
   "metadata": {},
   "source": [
    "There are nine rows in the file corresponding to the nine successfully processed science images in this dataset.\n",
    "\n",
    "  * the first column (bjd) is the Barycentric Julian Date. This is a commonly used way of representing time in astronomy in units of days. It compensates for different light travel time from different stars to the Earth as the Earth revolves around the Sun, compensating for the fact that a given astronomical event will be observed to occur earlier if the earth is closer to the source than the sun and later if it is further.\n",
    "  * The remaining four columns show the measured and detrended brightness of the star in each of the four apertures used in this example "
   ]
  },
  {
   "cell_type": "markdown",
   "id": "4d9d5700-c675-4828-893e-f49644bef037",
   "metadata": {},
   "source": [
    "***When you are done reviewing your results, remember to delete the directory you created at the beginning***"
   ]
  }
 ],
 "metadata": {
  "kernelspec": {
   "display_name": "Python [conda env:base] *",
   "language": "python",
   "name": "conda-base-py"
  },
  "language_info": {
   "codemirror_mode": {
    "name": "ipython",
    "version": 3
   },
   "file_extension": ".py",
   "mimetype": "text/x-python",
   "name": "python",
   "nbconvert_exporter": "python",
   "pygments_lexer": "ipython3",
   "version": "3.12.2"
  }
 },
 "nbformat": 4,
 "nbformat_minor": 5
}
