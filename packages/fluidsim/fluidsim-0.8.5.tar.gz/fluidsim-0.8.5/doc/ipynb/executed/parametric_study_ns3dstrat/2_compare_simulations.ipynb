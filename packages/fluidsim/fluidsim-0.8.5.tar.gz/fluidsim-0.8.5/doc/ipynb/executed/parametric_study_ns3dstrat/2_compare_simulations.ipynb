{
 "cells": [
  {
   "cell_type": "markdown",
   "id": "d2652dea-87f8-416b-b430-85e3c0ebc1c0",
   "metadata": {
    "tags": []
   },
   "source": [
    "# Part 3. Compare simulations"
   ]
  },
  {
   "cell_type": "code",
   "execution_count": 1,
   "id": "950ceee7-079c-4707-bf19-6453009311cf",
   "metadata": {},
   "outputs": [],
   "source": [
    "from pathlib import Path"
   ]
  },
  {
   "cell_type": "code",
   "execution_count": 2,
   "id": "4a2bf064-24f9-4fd6-8b47-8cfe94d93af3",
   "metadata": {},
   "outputs": [],
   "source": [
    "%matplotlib inline\n",
    "import matplotlib.pyplot as plt\n",
    "\n",
    "plt.rc(\"figure\", dpi=80)"
   ]
  },
  {
   "cell_type": "code",
   "execution_count": 3,
   "id": "caf39f01-cb2a-4dae-b3d7-7d3798aaf376",
   "metadata": {},
   "outputs": [],
   "source": [
    "def get_values(sim):\n",
    "    N = sim.params.N\n",
    "    Uc = sim.params.forcing.milestone.movement.periodic_uniform.speed\n",
    "    Dc = sim.params.forcing.milestone.objects.diameter\n",
    "    Lf = sim.params.forcing.milestone.movement.periodic_uniform.length\n",
    "\n",
    "    Fhc = Uc / (N * Dc)\n",
    "    Rec = Uc * Dc / sim.params.nu_2\n",
    "\n",
    "    period = sim.forcing.get_info()[\"period\"]\n",
    "    t_statio = period\n",
    "    averages = sim.output.spatial_means.get_dimless_numbers_averaged(\n",
    "        tmin=t_statio\n",
    "    )\n",
    "\n",
    "    U2 = averages[\"dimensional\"][\"Uh2\"]\n",
    "    epsK = averages[\"dimensional\"][\"epsK\"]\n",
    "    Gamma = averages[\"Gamma\"]\n",
    "    Fh = averages[\"Fh\"]\n",
    "    R2 = averages[\"R2\"]\n",
    "    R4 = averages[\"R4\"]\n",
    "\n",
    "    return N, Uc, Dc, Lf, Fhc, Rec, U2, epsK, Gamma, Fh, R2, R4"
   ]
  },
  {
   "cell_type": "code",
   "execution_count": 4,
   "id": "54d1ff31-08ab-4159-b1f9-8b0999437756",
   "metadata": {},
   "outputs": [
    {
     "data": {
      "text/plain": [
       "['ns3d.strat_144x144x48_V4.5x4.5x1.5_N0.2_Lf3.5_U0.01_D0.5_2021-10-05_15-35-47',\n",
       " 'ns3d.strat_144x144x48_V4.5x4.5x1.5_N0.2_Lf3.5_U0.02_D0.5_2021-10-05_16-12-36',\n",
       " 'ns3d.strat_144x144x48_V4.5x4.5x1.5_N0.2_Lf3.5_U0.04_D0.5_2021-10-05_16-49-31',\n",
       " 'ns3d.strat_144x144x48_V4.5x4.5x1.5_N0.2_Lf3.5_U0.06_D0.5_2021-10-05_17-25-48',\n",
       " 'ns3d.strat_144x144x48_V4.5x4.5x1.5_N0.2_Lf3.5_U0.08_D0.5_2021-10-05_18-01-23']"
      ]
     },
     "execution_count": 4,
     "metadata": {},
     "output_type": "execute_result"
    }
   ],
   "source": [
    "import fluidsim as fls\n",
    "\n",
    "path_dir_data = Path(fls.FLUIDSIM_PATH) / \"tutorial_parametric_study\"\n",
    "path_runs = sorted(path_dir_data.glob(\"*\"), key=lambda p: p.name)\n",
    "[p.name for p in path_runs]"
   ]
  },
  {
   "cell_type": "markdown",
   "id": "52889d94-4fa8-4591-9943-ca180f6a8477",
   "metadata": {},
   "source": [
    "## Compare simulations with Pandas"
   ]
  },
  {
   "cell_type": "code",
   "execution_count": 5,
   "id": "8885d07e-0620-4fbd-a50d-42189bb1b88f",
   "metadata": {},
   "outputs": [
    {
     "data": {
      "text/html": [
       "<div>\n",
       "<style scoped>\n",
       "    .dataframe tbody tr th:only-of-type {\n",
       "        vertical-align: middle;\n",
       "    }\n",
       "\n",
       "    .dataframe tbody tr th {\n",
       "        vertical-align: top;\n",
       "    }\n",
       "\n",
       "    .dataframe thead th {\n",
       "        text-align: right;\n",
       "    }\n",
       "</style>\n",
       "<table border=\"1\" class=\"dataframe\">\n",
       "  <thead>\n",
       "    <tr style=\"text-align: right;\">\n",
       "      <th></th>\n",
       "      <th>N</th>\n",
       "      <th>Uc</th>\n",
       "      <th>Dc</th>\n",
       "      <th>Lf</th>\n",
       "      <th>Fhc</th>\n",
       "      <th>Rec</th>\n",
       "      <th>U2</th>\n",
       "      <th>epsK</th>\n",
       "      <th>Gamma</th>\n",
       "      <th>Fh</th>\n",
       "      <th>R2</th>\n",
       "      <th>R4</th>\n",
       "      <th>min_R</th>\n",
       "    </tr>\n",
       "  </thead>\n",
       "  <tbody>\n",
       "    <tr>\n",
       "      <th>0</th>\n",
       "      <td>0.2</td>\n",
       "      <td>0.01</td>\n",
       "      <td>0.5</td>\n",
       "      <td>3.5</td>\n",
       "      <td>0.1</td>\n",
       "      <td>5000.0</td>\n",
       "      <td>0.000030</td>\n",
       "      <td>5.564985e-08</td>\n",
       "      <td>0.300576</td>\n",
       "      <td>0.009451</td>\n",
       "      <td>1.391246</td>\n",
       "      <td>0.170957</td>\n",
       "      <td>0.170957</td>\n",
       "    </tr>\n",
       "    <tr>\n",
       "      <th>1</th>\n",
       "      <td>0.2</td>\n",
       "      <td>0.02</td>\n",
       "      <td>0.5</td>\n",
       "      <td>3.5</td>\n",
       "      <td>0.2</td>\n",
       "      <td>10000.0</td>\n",
       "      <td>0.000109</td>\n",
       "      <td>3.917927e-07</td>\n",
       "      <td>0.468731</td>\n",
       "      <td>0.018019</td>\n",
       "      <td>9.794817</td>\n",
       "      <td>2.204561</td>\n",
       "      <td>2.204561</td>\n",
       "    </tr>\n",
       "    <tr>\n",
       "      <th>2</th>\n",
       "      <td>0.2</td>\n",
       "      <td>0.04</td>\n",
       "      <td>0.5</td>\n",
       "      <td>3.5</td>\n",
       "      <td>0.4</td>\n",
       "      <td>20000.0</td>\n",
       "      <td>0.000419</td>\n",
       "      <td>2.834370e-06</td>\n",
       "      <td>0.618684</td>\n",
       "      <td>0.034420</td>\n",
       "      <td>70.859251</td>\n",
       "      <td>30.298269</td>\n",
       "      <td>30.298269</td>\n",
       "    </tr>\n",
       "    <tr>\n",
       "      <th>3</th>\n",
       "      <td>0.2</td>\n",
       "      <td>0.06</td>\n",
       "      <td>0.5</td>\n",
       "      <td>3.5</td>\n",
       "      <td>0.6</td>\n",
       "      <td>30000.0</td>\n",
       "      <td>0.000914</td>\n",
       "      <td>8.980284e-06</td>\n",
       "      <td>0.629455</td>\n",
       "      <td>0.049961</td>\n",
       "      <td>224.507095</td>\n",
       "      <td>139.360780</td>\n",
       "      <td>139.360780</td>\n",
       "    </tr>\n",
       "    <tr>\n",
       "      <th>4</th>\n",
       "      <td>0.2</td>\n",
       "      <td>0.08</td>\n",
       "      <td>0.5</td>\n",
       "      <td>3.5</td>\n",
       "      <td>0.8</td>\n",
       "      <td>40000.0</td>\n",
       "      <td>0.001652</td>\n",
       "      <td>2.199885e-05</td>\n",
       "      <td>0.561550</td>\n",
       "      <td>0.067149</td>\n",
       "      <td>549.971217</td>\n",
       "      <td>463.932956</td>\n",
       "      <td>463.932956</td>\n",
       "    </tr>\n",
       "  </tbody>\n",
       "</table>\n",
       "</div>"
      ],
      "text/plain": [
       "     N    Uc   Dc   Lf  Fhc      Rec        U2          epsK     Gamma  \\\n",
       "0  0.2  0.01  0.5  3.5  0.1   5000.0  0.000030  5.564985e-08  0.300576   \n",
       "1  0.2  0.02  0.5  3.5  0.2  10000.0  0.000109  3.917927e-07  0.468731   \n",
       "2  0.2  0.04  0.5  3.5  0.4  20000.0  0.000419  2.834370e-06  0.618684   \n",
       "3  0.2  0.06  0.5  3.5  0.6  30000.0  0.000914  8.980284e-06  0.629455   \n",
       "4  0.2  0.08  0.5  3.5  0.8  40000.0  0.001652  2.199885e-05  0.561550   \n",
       "\n",
       "         Fh          R2          R4       min_R  \n",
       "0  0.009451    1.391246    0.170957    0.170957  \n",
       "1  0.018019    9.794817    2.204561    2.204561  \n",
       "2  0.034420   70.859251   30.298269   30.298269  \n",
       "3  0.049961  224.507095  139.360780  139.360780  \n",
       "4  0.067149  549.971217  463.932956  463.932956  "
      ]
     },
     "execution_count": 5,
     "metadata": {},
     "output_type": "execute_result"
    }
   ],
   "source": [
    "import numpy as np\n",
    "from pandas import DataFrame\n",
    "\n",
    "# fmt: off\n",
    "columns = [\"N\", \"Uc\", \"Dc\", \"Lf\", \"Fhc\", \"Rec\", \"U2\", \"epsK\", \"Gamma\", \"Fh\", \"R2\", \"R4\"]\n",
    "# fmt: on\n",
    "\n",
    "values = []\n",
    "for path in path_runs:\n",
    "    sim = fls.load(path, hide_stdout=True)\n",
    "    values.append(get_values(sim))\n",
    "\n",
    "df = DataFrame(values, columns=columns)\n",
    "df[\"min_R\"] = np.array([df.R2, df.R4]).min(axis=0)\n",
    "df"
   ]
  },
  {
   "cell_type": "code",
   "execution_count": 6,
   "id": "9bb6e45d-1db1-4fbe-bc95-39207fdba39b",
   "metadata": {},
   "outputs": [
    {
     "data": {
      "image/png": "[encoded data removed]",
      "text/plain": [
       "<Figure size 480x320 with 2 Axes>"
      ]
     },
     "metadata": {
      "needs_background": "light"
     },
     "output_type": "display_data"
    }
   ],
   "source": [
    "df[\"log10_R2\"] = np.log10(df.R2)\n",
    "fig, ax = plt.subplots()\n",
    "df.plot.scatter(ax=ax, x=\"Fh\", y=\"Gamma\", c=\"log10_R2\", cmap=\"plasma\");"
   ]
  },
  {
   "cell_type": "markdown",
   "id": "3d99f4a9-c95c-4b2a-8bc0-48fb954380bd",
   "metadata": {
    "tags": []
   },
   "source": [
    "## A figure with data from different simulations"
   ]
  },
  {
   "cell_type": "code",
   "execution_count": 7,
   "id": "b3f59d22-da54-48b6-9268-6939033f4e85",
   "metadata": {},
   "outputs": [
    {
     "name": "stdout",
     "output_type": "stream",
     "text": [
      "compute mean of spectra\n",
      "tmin =  800.502 ; tmax =  1600.67\n",
      "imin =      100 ; imax =      200\n",
      "compute mean of spectra\n",
      "tmin =  400.051 ; tmax =  800.132\n",
      "imin =      100 ; imax =      200\n",
      "compute mean of spectra\n",
      "tmin =  200.093 ; tmax =  400.025\n",
      "imin =      100 ; imax =      200\n",
      "compute mean of spectra\n",
      "tmin =  133.342 ; tmax =  266.703\n",
      "imin =      101 ; imax =      201\n",
      "compute mean of spectra\n",
      "tmin =  100.004 ; tmax =  200.024\n",
      "imin =      100 ; imax =      200\n"
     ]
    },
    {
     "data": {
      "image/png": "[encoded data removed]",
      "text/plain": [
       "<Figure size 480x320 with 1 Axes>"
      ]
     },
     "metadata": {
      "needs_background": "light"
     },
     "output_type": "display_data"
    }
   ],
   "source": [
    "fig, ax = plt.subplots()\n",
    "\n",
    "for path in path_runs:\n",
    "    sim = fls.load(path, hide_stdout=True)\n",
    "    period = sim.forcing.get_info()[\"period\"]\n",
    "    data = sim.output.spectra.load1d_mean(tmin=period)\n",
    "    spectrum = data[\"spectra_vx_kx\"]\n",
    "    kx = data[\"kx\"]\n",
    "    ax.loglog(\n",
    "        kx,\n",
    "        spectrum * kx ** (5 / 3),\n",
    "        label=f\"U = {sim.params.forcing.milestone.movement.periodic_uniform.speed} m/s\",\n",
    "    )\n",
    "\n",
    "ax.set_xlabel(\"$k_x$\")\n",
    "ax.set_ylabel(\"$E_x(k_z) {k_z}^{5/3}$\")\n",
    "plt.legend();"
   ]
  }
 ],
 "metadata": {
  "kernelspec": {
   "display_name": "Python 3 (ipykernel)",
   "language": "python",
   "name": "python3"
  },
  "language_info": {
   "codemirror_mode": {
    "name": "ipython",
    "version": 3
   },
   "file_extension": ".py",
   "mimetype": "text/x-python",
   "name": "python",
   "nbconvert_exporter": "python",
   "pygments_lexer": "ipython3",
   "version": "3.9.6"
  }
 },
 "nbformat": 4,
 "nbformat_minor": 5
}
