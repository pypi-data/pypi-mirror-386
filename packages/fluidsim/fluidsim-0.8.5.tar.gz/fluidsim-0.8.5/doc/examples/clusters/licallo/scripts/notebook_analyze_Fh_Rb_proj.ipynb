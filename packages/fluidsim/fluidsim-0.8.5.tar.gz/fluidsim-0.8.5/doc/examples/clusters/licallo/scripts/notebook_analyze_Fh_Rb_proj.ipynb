{
 "cells": [
  {
   "cell_type": "markdown",
   "id": "7c6ce4b5-66e2-4d2c-ab81-cd87dbe11c12",
   "metadata": {},
   "source": [
    "# Analyse the simulations of the ns3d.strat solver\n",
    "\n",
    "Control parameters:\n",
    "* Froude number:\n",
    "  \\begin{equation}\n",
    "  F_h = \\frac{\\epsilon}{N U^2}\n",
    "  \\end{equation}\n",
    "* Reynolds number:\n",
    "  \\begin{equation}\n",
    "  Re = \\frac{U L_h}{\\nu}\n",
    "  \\end{equation}\n",
    "* Buoyancy Reynolds number\n",
    "  \\begin{equation}\n",
    "  \\mathcal{R} = Re F_h^2 = \\frac{\\epsilon}{\\nu N^2}\n",
    "  \\end{equation}\n",
    "* When hyperviscosity of order $n$ is used, we can define hyperviscous Reynolds numbers as:\n",
    "  \\begin{equation}\n",
    "  Re_n = \\frac{U L_h^{n-1}}{\\nu_n}, ~~~~ \\text{and} ~~~~ \\mathcal{R}_n = Re_n F_h^n = \\frac{\\varepsilon}{U^{n-2}}{\\nu_n N^n}\n",
    "  \\end{equation}\n",
    "* Projection:\n",
    "  `None` or `\"poloidal\"`\n",
    "\n",
    "\n",
    "## Select the parameters of the simulation:"
   ]
  },
  {
   "cell_type": "code",
   "execution_count": null,
   "id": "6419278f",
   "metadata": {
    "tags": [
     "parameters"
    ]
   },
   "outputs": [],
   "source": [
    "N = 100  # Brunt Vaisala frequency\n",
    "Fh = 1 / N  # Froude number\n",
    "Rb = 10  # Buoyancy Reynolds number\n",
    "proj = \"poloidal\"  # Projection"
   ]
  },
  {
   "cell_type": "markdown",
   "id": "39564ca8",
   "metadata": {},
   "source": [
    "## Check the environement (optional)"
   ]
  },
  {
   "cell_type": "code",
   "execution_count": null,
   "id": "c1abb0e0",
   "metadata": {},
   "outputs": [],
   "source": [
    "# %%bash\n",
    "# echo $I_MPI_PMI_LIBRARY\n",
    "# module list\n",
    "# which python\n",
    "# which jupyter\n",
    "# conda list fluidsim"
   ]
  },
  {
   "cell_type": "markdown",
   "id": "dc15918f",
   "metadata": {},
   "source": [
    "## Load the simulation"
   ]
  },
  {
   "cell_type": "code",
   "execution_count": null,
   "id": "63a2f957",
   "metadata": {},
   "outputs": [],
   "source": [
    "import os\n",
    "import glob\n",
    "import matplotlib.pyplot as plt\n",
    "from fluidsim import load\n",
    "\n",
    "dir_path = \"/scratch/vlabarre/aniso/\"\n",
    "simul_txt = f\"*polo_\"\n",
    "if proj == \"poloidal\":\n",
    "    simul_txt += \"proj_\"\n",
    "simul_txt += f\"Fh{Fh:.3e}_Rb{Rb:.3g}*\"\n",
    "\n",
    "simul_path = glob.glob(dir_path + simul_txt + \"*\", recursive=False)\n",
    "# sim = load(simul_path[-1])\n",
    "sim = load(\n",
    "    \"/scratch/vlabarre/aniso/ns3d.strat_polo_Fh1.000e-02_Rb10_640x640x160_V3x3x0.75_N100_2022-03-01_00-15-29/\"\n",
    ")"
   ]
  },
  {
   "cell_type": "markdown",
   "id": "15a4fd8e",
   "metadata": {},
   "source": [
    "## Spatial means"
   ]
  },
  {
   "cell_type": "code",
   "execution_count": null,
   "id": "9390ef5b-639b-4cc4-b323-79cc48ab7f73",
   "metadata": {},
   "outputs": [],
   "source": [
    "sim.output.spatial_means.plot()\n",
    "# plt.savefig(f\"Data/spatial_means_Fh{Fh:.3e}_Rb{Rb:.3g}_proj{proj}.eps\", dpi=100)"
   ]
  },
  {
   "cell_type": "markdown",
   "id": "51fe1e62",
   "metadata": {},
   "source": [
    "## Check the quality of the simulation\n",
    "\n",
    "You can fix `tmin` to the time at which the simulation has reached statistically steady state in order to compute different quantities:"
   ]
  },
  {
   "cell_type": "code",
   "execution_count": null,
   "id": "72374d3d",
   "metadata": {},
   "outputs": [],
   "source": [
    "tmin = 5\n",
    "sim.output.spatial_means.plot_dimless_numbers_versus_time(tmin=tmin)\n",
    "sim.output.spatial_means.get_dimless_numbers_averaged(tmin=tmin)\n",
    "sim.output.spatial_means.plot_dt_E()"
   ]
  },
  {
   "cell_type": "markdown",
   "id": "07b36b45",
   "metadata": {},
   "source": [
    "## Colormap of the buoyancy"
   ]
  },
  {
   "cell_type": "code",
   "execution_count": null,
   "id": "d0020e93",
   "metadata": {},
   "outputs": [],
   "source": [
    "sim.output.phys_fields.set_equation_crosssection(\"x=1.5\")\n",
    "sim.output.phys_fields.plot(field=\"b\", QUIVER=False, time=tmin)\n",
    "plt.savefig(f\"Data/buoyancy_Fh{Fh:.3e}_Rb{Rb:.3g}_proj{proj}.eps\", dpi=100)"
   ]
  },
  {
   "cell_type": "markdown",
   "id": "39eca796",
   "metadata": {},
   "source": [
    "## Plot the spectras\n",
    "\n",
    "### 1d spatial spectras"
   ]
  },
  {
   "cell_type": "code",
   "execution_count": null,
   "id": "4639b986-7dd7-4a79-8368-0c95f48f1257",
   "metadata": {},
   "outputs": [],
   "source": [
    "sim.output.spectra.plot1d(tmin=tmin, coef_compensate=5 / 3)\n",
    "plt.savefig(f\"Data/1dspectra_Fh{Fh:.3e}_Rb{Rb:.3g}_proj{proj}.eps\", dpi=100)"
   ]
  },
  {
   "cell_type": "markdown",
   "id": "742330fa",
   "metadata": {},
   "source": [
    "### Spatiotemporal spectras"
   ]
  },
  {
   "cell_type": "code",
   "execution_count": null,
   "id": "1461348f-b411-417d-857d-65020d93415c",
   "metadata": {},
   "outputs": [],
   "source": [
    "sim.output.spatiotemporal_spectra.plot_kzkhomega(equation=\"ikh=8\", tmin=tmin)\n",
    "sim.output.spatiotemporal_spectra.plot_kzkhomega(equation=\"ikz=8\", tmin=tmin)"
   ]
  },
  {
   "cell_type": "markdown",
   "id": "45add552",
   "metadata": {},
   "source": [
    "### Temporal spectra"
   ]
  },
  {
   "cell_type": "code",
   "execution_count": null,
   "id": "2cb260c5-3b56-41ff-96a8-17dd36e45db2",
   "metadata": {},
   "outputs": [],
   "source": [
    "sim.output.spatiotemporal_spectra.plot_temporal_spectra(\n",
    "    key_field=\"Khd\", tmin=tmin\n",
    ")"
   ]
  }
 ],
 "metadata": {
  "celltoolbar": "Tags",
  "interpreter": {
   "hash": "18e451c109cc04b1c8930a3ffcc254495ef4cf8ac76d9aac696b0f7e1e66e0c7"
  },
  "kernelspec": {
   "display_name": "Python 3x",
   "language": "python",
   "name": "python3"
  },
  "language_info": {
   "codemirror_mode": {
    "name": "ipython",
    "version": 3
   },
   "file_extension": ".py",
   "mimetype": "text/x-python",
   "name": "python",
   "nbconvert_exporter": "python",
   "pygments_lexer": "ipython3",
   "version": "3.10.2"
  }
 },
 "nbformat": 4,
 "nbformat_minor": 5
}
