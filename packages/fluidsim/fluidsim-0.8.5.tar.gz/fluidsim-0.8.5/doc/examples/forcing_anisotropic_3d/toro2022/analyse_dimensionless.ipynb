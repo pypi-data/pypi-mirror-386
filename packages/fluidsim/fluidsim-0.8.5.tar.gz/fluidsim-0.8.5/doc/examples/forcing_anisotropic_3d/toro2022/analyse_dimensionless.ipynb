{
 "cells": [
  {
   "cell_type": "code",
   "execution_count": null,
   "id": "66dc3bb0-7141-4ae1-a5e5-7f8de9e60bae",
   "metadata": {},
   "outputs": [],
   "source": [
    "%matplotlib widget\n",
    "# %matplotlib inline"
   ]
  },
  {
   "cell_type": "code",
   "execution_count": null,
   "id": "eb7b9087-dfb9-4eb4-af26-b61224095f1c",
   "metadata": {},
   "outputs": [],
   "source": [
    "from pathlib import Path\n",
    "import re\n",
    "from itertools import product\n",
    "import os\n",
    "from math import sqrt"
   ]
  },
  {
   "cell_type": "code",
   "execution_count": null,
   "id": "b9d7b748-cbf1-4731-8c3b-4fb278f926ce",
   "metadata": {},
   "outputs": [],
   "source": [
    "import numpy as np\n",
    "import matplotlib.pyplot as plt"
   ]
  },
  {
   "cell_type": "code",
   "execution_count": null,
   "id": "ec0c63a5-566b-4067-8bc4-eabf2f3d943b",
   "metadata": {},
   "outputs": [],
   "source": [
    "from fluidsim import load\n",
    "from fluidsim.util import (\n",
    "    get_dataframe_from_paths,\n",
    "    times_start_last_from_path,\n",
    ")"
   ]
  },
  {
   "cell_type": "code",
   "execution_count": null,
   "id": "4e234f1b-a57c-43dc-9a3f-b12dbd10fed9",
   "metadata": {},
   "outputs": [],
   "source": [
    "height = 5.5\n",
    "plt.rc(\"figure\", figsize=(1.33 * height, height))"
   ]
  },
  {
   "cell_type": "code",
   "execution_count": null,
   "id": "69f7dac5-e9d3-49fb-b0e3-c39947aa3ad2",
   "metadata": {},
   "outputs": [],
   "source": [
    "path_base = Path(\"/fsnet/project/meige/2022/22STRATURBANIS/aniso\")\n",
    "if path_base.exists():\n",
    "    path_base_occigen = path_base.parent / \"from_occigen/aniso\"\n",
    "    paths_all = sorted(\n",
    "        list(path_base.glob(f\"ns3d.strat*\"))\n",
    "        + list(path_base_occigen.glob(f\"ns3d.strat*\"))\n",
    "    )\n",
    "elif \"STRAT_TURB_TORO2022\" in os.environ:\n",
    "    paths_all = sorted(\n",
    "        Path(os.environ[\"STRAT_TURB_TORO2022\"]).glob(\"simul_folders/ns3d*\")\n",
    "    )\n",
    "else:\n",
    "    raise Exception(\n",
    "        \"Cannot find the simulation folder. You can set the environment variable STRAT_TURB_TORO2022.\"\n",
    "    )\n",
    "\n",
    "\n",
    "def get_path_finer_resol(N, Rb):\n",
    "    str_N = f\"_N{N}_\"\n",
    "    str_Rb = f\"_Rb{Rb:.3g}_\"\n",
    "    str_Rb2 = f\"_Rb{Rb}_\"\n",
    "    paths_couple = [\n",
    "        p\n",
    "        for p in paths_all\n",
    "        if str_N in p.name and (str_Rb in p.name or str_Rb2 in p.name)\n",
    "    ]\n",
    "    paths_couple.sort(key=lambda p: int(p.name.split(\"x\")[1]), reverse=True)\n",
    "    for path in paths_couple:\n",
    "        t_start, t_last = times_start_last_from_path(path)\n",
    "        if t_last > t_start + 1:\n",
    "            return path"
   ]
  },
  {
   "cell_type": "code",
   "execution_count": null,
   "id": "0510ae54-be89-46df-8b0b-9dbd08636349",
   "metadata": {},
   "outputs": [],
   "source": [
    "from util import couples320\n",
    "\n",
    "paths = []\n",
    "for N, Rb in sorted(couples320):\n",
    "    paths.append(get_path_finer_resol(N, Rb))\n",
    "\n",
    "[p.name for p in paths]"
   ]
  },
  {
   "cell_type": "code",
   "execution_count": null,
   "id": "8e1c4204-113d-4020-b693-6c60a770b45e",
   "metadata": {},
   "outputs": [],
   "source": [
    "print(f\"Using {len(paths)} simulations\")"
   ]
  },
  {
   "cell_type": "code",
   "execution_count": null,
   "id": "68df0513-0520-4039-8ee5-973687b452e3",
   "metadata": {},
   "outputs": [],
   "source": [
    "def customize(result, sim):\n",
    "    EKh = result[\"EKh\"]\n",
    "    EKz = result[\"EKz\"]\n",
    "    EK = EKh + EKz\n",
    "    U = sqrt(2 * EK / 3)\n",
    "    nu_2 = sim.params.nu_2\n",
    "    epsK = result[\"epsK\"]\n",
    "\n",
    "    result[\"name\"] = sim.output.name_run\n",
    "\n",
    "    result[\"lambda\"] = sqrt(U**2 * nu_2 / epsK)\n",
    "    result[\"Re_lambda\"] = U * result[\"lambda\"] / nu_2\n",
    "\n",
    "    result[\"Rb\"] = float(sim.params.short_name_type_run.split(\"_Rb\")[-1])\n",
    "    result[\"nx\"] = sim.params.oper.nx\n",
    "    result[\"nz\"] = sim.params.oper.nz\n",
    "\n",
    "\n",
    "df = get_dataframe_from_paths(\n",
    "    paths, tmin=\"t_start+2\", use_cache=1, customize=customize\n",
    ")"
   ]
  },
  {
   "cell_type": "code",
   "execution_count": null,
   "id": "a042eaf2-1e62-4ff4-82a4-1c8505beece5",
   "metadata": {},
   "outputs": [],
   "source": [
    "df[\"Re\"] = df.Rb * df.N**2\n",
    "df[\"k_max*lambda\"] = df[\"k_max\"] * df[\"lambda\"]\n",
    "\n",
    "columns_old = df.columns.tolist()\n",
    "\n",
    "# fmt: off\n",
    "first_columns = [\n",
    "    \"N\", \"Rb\", \"Re\", \"nx\", \"Fh\", \"R2\", \"k_max*eta\", \"epsK2/epsK\", \"k_max*lambda\", \"Gamma\", \n",
    "    \"lx1\", \"lx2\", \"lz1\", \"lz2\", \"I_velocity\", \"I_dissipation\"]\n",
    "# fmt: on\n",
    "\n",
    "columns = first_columns.copy()\n",
    "for key in columns_old:\n",
    "    if key not in columns:\n",
    "        columns.append(key)\n",
    "\n",
    "df = df[columns]"
   ]
  },
  {
   "cell_type": "code",
   "execution_count": null,
   "id": "82266919-f270-4e4b-a172-b409a6016081",
   "metadata": {},
   "outputs": [],
   "source": [
    "df[first_columns]"
   ]
  },
  {
   "cell_type": "code",
   "execution_count": null,
   "id": "35d4abd2-f03e-432d-b6e4-dae455f46340",
   "metadata": {},
   "outputs": [],
   "source": [
    "df[(df.Fh < 0.04) & (df.R2 > 10)][first_columns]"
   ]
  },
  {
   "cell_type": "code",
   "execution_count": null,
   "id": "b0657af2-371a-4206-a659-dfa40abcbc41",
   "metadata": {},
   "outputs": [],
   "source": [
    "def plot(\n",
    "    df,\n",
    "    x,\n",
    "    y,\n",
    "    logx=True,\n",
    "    logy=False,\n",
    "    c=None,\n",
    "    vmin=None,\n",
    "    vmax=None,\n",
    "    s=None,\n",
    "    clabel=None,\n",
    "):\n",
    "    ax = df.plot.scatter(\n",
    "        x=x,\n",
    "        y=y,\n",
    "        logx=logx,\n",
    "        logy=logy,\n",
    "        c=c,\n",
    "        edgecolors=\"k\",\n",
    "        vmin=vmin,\n",
    "        vmax=vmax,\n",
    "        s=s,\n",
    "    )\n",
    "    pc = ax.collections[0]\n",
    "    pc.set_cmap(\"inferno\")\n",
    "    plt.colorbar(pc, ax=ax)\n",
    "    if clabel is not None:\n",
    "        if isinstance(clabel, tuple):\n",
    "            x, y, clabel = clabel\n",
    "        ax.figure.text(0.78, 0.05, clabel)\n",
    "    return ax"
   ]
  },
  {
   "cell_type": "markdown",
   "id": "5e596f23-093d-48f8-8426-14f740fc20de",
   "metadata": {},
   "source": [
    "## Non-dimensional numbers"
   ]
  },
  {
   "cell_type": "code",
   "execution_count": null,
   "id": "61b2ecd4-9369-41b5-8033-b09e59e1df6c",
   "metadata": {},
   "outputs": [],
   "source": [
    "df[\"R2/Rb\"] = df.R2 / df.Rb\n",
    "plot(\n",
    "    df,\n",
    "    \"Rb\",\n",
    "    \"R2/Rb\",\n",
    "    c=np.log10(df.Fh),\n",
    "    vmin=-2,\n",
    "    vmax=-0.8,\n",
    "    clabel=\"$\\log_{10}(F_h)$\",\n",
    ");"
   ]
  },
  {
   "cell_type": "code",
   "execution_count": null,
   "id": "621d2675-70a7-4f95-82fd-cfe5c8211079",
   "metadata": {},
   "outputs": [],
   "source": [
    "# df[\"tmp\"] = 1 / df.Fh\n",
    "# plot(df, \"Fh\", \"tmp\", c=np.log10(df.Rb), vmin=1, vmax=2)\n",
    "# del df[\"tmp\"]"
   ]
  },
  {
   "cell_type": "markdown",
   "id": "c79a7af6-7d7f-481a-ad03-df63e217eaba",
   "metadata": {},
   "source": [
    "## Hyperviscosity\n",
    "\n",
    "The order-4 hyper buoyancy Reynolds number is large except for very small Fh. Larger simulations need to be run for $F_h < 10^{-2}$."
   ]
  },
  {
   "cell_type": "code",
   "execution_count": null,
   "id": "6afb1bb2-24b8-4859-977d-0c0364a61a13",
   "metadata": {},
   "outputs": [],
   "source": [
    "plot(df, \"Fh\", \"R4\", logy=True);"
   ]
  },
  {
   "cell_type": "code",
   "execution_count": null,
   "id": "25ca88a8-5386-4ba4-9d20-b803f1f3d77b",
   "metadata": {},
   "outputs": [],
   "source": [
    "ax = plot(df, \"Fh\", \"Rb\", c=df[\"epsK2/epsK\"], logy=True, vmin=0, vmax=1)\n",
    "ax.set_xlim(right=1)\n",
    "ax.set_ylim(top=1e3);"
   ]
  },
  {
   "cell_type": "code",
   "execution_count": null,
   "id": "c767262d-9955-43bb-87f0-9dc6cb0508cf",
   "metadata": {},
   "outputs": [],
   "source": [
    "ax = plot(df, \"Fh\", \"R2\", c=df[\"epsK2/epsK\"], logy=True, vmin=0, vmax=1)\n",
    "ax.set_xlim(right=1)\n",
    "ax.set_ylim(top=1e3);"
   ]
  },
  {
   "cell_type": "code",
   "execution_count": null,
   "id": "f7b76f4d-a1a3-43d7-8e89-de5c9230c6ea",
   "metadata": {},
   "outputs": [],
   "source": [
    "ax = plot(df, \"Fh\", \"epsK2/epsK\", c=np.log10(df[\"R2\"]), vmin=0.5, vmax=2)\n",
    "ax.set_ylim(bottom=0);"
   ]
  },
  {
   "cell_type": "code",
   "execution_count": null,
   "id": "e4c2c85a-dcb7-4632-8479-6e65f1eca85d",
   "metadata": {},
   "outputs": [],
   "source": [
    "df[df[\"epsK2/epsK\"] < 0.6][first_columns]"
   ]
  },
  {
   "cell_type": "markdown",
   "id": "e23dcc40-d4dc-450c-842d-9abe195d29c5",
   "metadata": {},
   "source": [
    "## Quantification of 2 types of isotropy\n",
    "\n",
    "### Large scale isotropy `I_velocity`\n",
    "\n",
    "I_velocity = 3 * EKz / EK"
   ]
  },
  {
   "cell_type": "code",
   "execution_count": null,
   "id": "d193888f-f4ec-4f28-8220-1d08e265a86d",
   "metadata": {},
   "outputs": [],
   "source": [
    "tmp = df[df.R2 < 120]\n",
    "ax = plot(tmp, \"Fh\", \"R2\", c=tmp.I_velocity, vmin=0.1, vmax=0.4)"
   ]
  },
  {
   "cell_type": "code",
   "execution_count": null,
   "id": "9c5f51d6-7333-4d03-b8fc-b25a07c9c006",
   "metadata": {},
   "outputs": [],
   "source": [
    "ax = plot(\n",
    "    df, \"Fh\", \"I_velocity\", c=np.log10(df[\"R2\"]), vmin=0.5, vmax=2, logy=True\n",
    ")\n",
    "xs = np.linspace(1e-2, 1e-1, 4)\n",
    "ax.plot(xs, 8e0 * xs**1)\n",
    "ax.text(0.04, 0.2, \"$F_h^{1}$\");"
   ]
  },
  {
   "cell_type": "code",
   "execution_count": null,
   "id": "7b2cc6ab-b57a-49a2-83cc-b6df4aff8d98",
   "metadata": {},
   "outputs": [],
   "source": [
    "plot(df, \"R2\", \"I_velocity\", c=np.log10(df[\"Fh\"]), vmin=-2, vmax=-1);"
   ]
  },
  {
   "cell_type": "markdown",
   "id": "93d46a2c-437c-4d30-9cdb-197ac948086a",
   "metadata": {},
   "source": [
    "### Small scale isotropy `I_dissipation`\n",
    "\n"
   ]
  },
  {
   "cell_type": "code",
   "execution_count": null,
   "id": "5ca85a83-d079-42b4-922e-3e2b70d3b983",
   "metadata": {},
   "outputs": [],
   "source": [
    "tmp = df[df.R2 < 120]\n",
    "ax = plot(tmp, \"Fh\", \"R2\", c=tmp.I_dissipation)"
   ]
  },
  {
   "cell_type": "code",
   "execution_count": null,
   "id": "b859254e-5f20-4df6-b52a-fd51e3e6a337",
   "metadata": {},
   "outputs": [],
   "source": [
    "plot(df, \"Fh\", \"I_dissipation\", c=np.log10(df[\"R2\"]), vmin=0.5, vmax=2);"
   ]
  },
  {
   "cell_type": "code",
   "execution_count": null,
   "id": "0cffd921-1a92-4063-81bc-d0406d434467",
   "metadata": {},
   "outputs": [],
   "source": [
    "plot(df, \"R2\", \"I_dissipation\", c=np.log10(df[\"Fh\"]), vmin=-2, vmax=-1);"
   ]
  },
  {
   "cell_type": "code",
   "execution_count": null,
   "id": "a91f15a9-414b-4a9a-9af2-2fd79175e6d0",
   "metadata": {},
   "outputs": [],
   "source": [
    "ax = plot(\n",
    "    df,\n",
    "    \"Fh\",\n",
    "    \"R2\",\n",
    "    c=df[\"I_velocity\"],\n",
    "    logy=True,\n",
    "    vmin=0.2,\n",
    "    vmax=0.8,\n",
    "    clabel=(0.85, 0.05, r\"$I_\\mathit{velocity}$\"),\n",
    "    s=50 * df[\"I_dissipation\"],\n",
    ")\n",
    "ax.set_xlim(right=1)\n",
    "ax.set_ylim(top=1e3)\n",
    "ax.set_xlabel(\"$F_h$\")\n",
    "ax.set_ylabel(\"$\\mathcal{R} = Re {F_h}^2$\")\n",
    "fig = ax.figure\n",
    "\n",
    "ax_legend = fig.add_axes([0.15, 0.72, 0.15, 0.12])\n",
    "ax_legend.set_xticklabels([])\n",
    "ax_legend.set_xticks([])\n",
    "ax_legend.set_yticklabels([])\n",
    "ax_legend.set_yticks([])\n",
    "isotropy_diss = np.array([0.1, 0.5, 0.9])\n",
    "heights = np.array([0.2, 0.5, 0.8])\n",
    "ax_legend.scatter([0.15, 0.15, 0.15], heights, s=50 * isotropy_diss)\n",
    "ax_legend.set_xlim([0, 1])\n",
    "ax_legend.set_ylim([0, 1])\n",
    "\n",
    "for h, i in zip(heights, isotropy_diss):\n",
    "    ax_legend.text(0.28, h - 0.06, r\"$I_\\mathit{diss} = \" + f\"{i}$\")"
   ]
  },
  {
   "cell_type": "markdown",
   "id": "6cbb093d-fa3b-4991-836c-5f98260dd87e",
   "metadata": {},
   "source": [
    "## Mixing coefficient"
   ]
  },
  {
   "cell_type": "code",
   "execution_count": null,
   "id": "48ec13e1-778c-429d-8381-1bb51c7c08bc",
   "metadata": {},
   "outputs": [],
   "source": [
    "def plot2(dataframe, ax=None, color=None):\n",
    "    return dataframe.plot.scatter(\n",
    "        x=\"Fh\", y=\"Gamma\", logx=True, ax=ax, color=color\n",
    "    )\n",
    "\n",
    "\n",
    "tab10 = plt.get_cmap(\"tab10\")\n",
    "\n",
    "Ns = sorted(df.N.unique())\n",
    "\n",
    "ax = None\n",
    "for iN, N in enumerate(Ns):\n",
    "    ax = plot2(df[df.N == N], ax=ax, color=tab10(iN % 10))\n",
    "\n",
    "\n",
    "fig = ax.figure\n",
    "\n",
    "ax_sub = fig.add_axes([0.6, 0.6, 1.33 * 0.2, 0.2])\n",
    "\n",
    "\n",
    "def plot2(dataframe, color=None):\n",
    "    dataframe.plot.scatter(\n",
    "        x=\"Fh\", y=\"Gamma\", logx=True, logy=True, ax=ax_sub, color=color\n",
    "    )\n",
    "\n",
    "\n",
    "for iN, N in enumerate(Ns):\n",
    "    ax = plot2(df[df.N == N], color=tab10(iN % 10))\n",
    "\n",
    "ax_sub.set_xlabel(\"\")\n",
    "ax_sub.set_ylabel(\"\")\n",
    "\n",
    "xs = np.linspace(7e-2, 3.5e-1, 4)\n",
    "ax_sub.plot(xs, 3e-2 * xs**-1)\n",
    "ax_sub.text(0.1, 0.1, \"$k^{-1}$\")\n",
    "\n",
    "xs = np.linspace(5e-1, 1.5, 4)\n",
    "ax_sub.plot(xs, 3e-2 * xs**-2)\n",
    "ax_sub.text(1, 0.05, \"$k^{-2}$\");"
   ]
  },
  {
   "cell_type": "code",
   "execution_count": null,
   "id": "cdbb0bf9-4d4c-42a1-9c7d-7d2434271a3c",
   "metadata": {},
   "outputs": [],
   "source": [
    "ax = plot(\n",
    "    df,\n",
    "    \"Fh\",\n",
    "    \"Gamma\",\n",
    "    c=np.log10(df[\"R2\"]),\n",
    "    vmin=0.5,\n",
    "    vmax=2,\n",
    "    logy=True,\n",
    ")\n",
    "xs = np.linspace(1.5e-1, 5e-1, 4)\n",
    "ax.plot(xs, 5e-2 * xs**-1)\n",
    "ax.text(0.16, 0.16, \"${F_h}^{-1}$\")\n",
    "\n",
    "xs = np.linspace(6e-1, 4, 4)\n",
    "ax.plot(xs, 5e-2 * xs**-2)\n",
    "ax.text(1.2, 0.05, \"${F_h}^{-2}$\");"
   ]
  },
  {
   "cell_type": "code",
   "execution_count": null,
   "id": "65d4c96d-e6c6-4481-9a1a-723dcd1ec4b4",
   "metadata": {},
   "outputs": [],
   "source": [
    "ax = plot(df, \"Fh\", \"Gamma\", c=np.log10(df[\"R2\"]), vmin=0.5, vmax=2)"
   ]
  },
  {
   "cell_type": "code",
   "execution_count": null,
   "id": "99623c75-1624-4c80-acb2-3f25b116b78d",
   "metadata": {},
   "outputs": [],
   "source": [
    "ax = plot(\n",
    "    df,\n",
    "    \"Fh\",\n",
    "    \"R2\",\n",
    "    c=df[\"Gamma\"],\n",
    "    logy=True,\n",
    "    vmin=0.2,\n",
    "    vmax=0.5,\n",
    "    clabel=(0.8, 0.05, \"$\\Gamma=\\epsilon_A / \\epsilon_K$\"),\n",
    ")\n",
    "ax.set_xlim(right=1)\n",
    "ax.set_ylim(top=1e3)\n",
    "ax.set_xlabel(\"$F_h$\")\n",
    "ax.set_ylabel(\"$\\mathcal{R} = Re {F_h}^2$\");"
   ]
  },
  {
   "cell_type": "markdown",
   "id": "d3c602de-6a44-4f46-b71a-6393e04f079e",
   "metadata": {},
   "source": [
    "## Scaling laws for averaged quantities"
   ]
  },
  {
   "cell_type": "code",
   "execution_count": null,
   "id": "b7edcf4c-4638-4d83-b8b6-fcb03713da8d",
   "metadata": {},
   "outputs": [],
   "source": [
    "tmp = df[df.Re > 2000]\n",
    "ax = plot(tmp, \"Fh\", \"lz1\", c=np.log10(tmp[\"R2\"]), vmin=0.5, vmax=2, logy=True)\n",
    "xs = np.linspace(1e-2, 1.2e-1, 4)\n",
    "\n",
    "ax.plot(xs, 1e1 * xs**1, \"b\")\n",
    "ax.plot(xs, 1.5e0 * xs**0.5, \"r\");"
   ]
  },
  {
   "cell_type": "code",
   "execution_count": null,
   "id": "51b6ad01-057e-471b-8c24-8bef36d844da",
   "metadata": {},
   "outputs": [],
   "source": [
    "tmp = df[df.Re > 2000]\n",
    "ax = plot(tmp, \"Fh\", \"lx1\", c=np.log10(tmp[\"R2\"]), vmin=0.5, vmax=2, logy=True)"
   ]
  },
  {
   "cell_type": "code",
   "execution_count": null,
   "id": "fff29d01-5ea3-4205-8d28-5ee24d3c4f40",
   "metadata": {},
   "outputs": [],
   "source": [
    "tmp = df[df.Re > 2000].copy()\n",
    "tmp[\"lz1/lx1\"] = tmp.lz1 / tmp.lx1\n",
    "ax = plot(\n",
    "    tmp, \"Fh\", \"lz1/lx1\", c=np.log10(tmp[\"R2\"]), vmin=0.5, vmax=2, logy=True\n",
    ")\n",
    "\n",
    "xs = np.linspace(1e-2, 4e-2, 2)\n",
    "ax.plot(xs, 1.8e1 * xs**1, \"b\")\n",
    "\n",
    "xs = np.linspace(2e-2, 9.0e-2, 2)\n",
    "ax.plot(xs, 3.5e0 * xs**0.5, \"r\");"
   ]
  },
  {
   "cell_type": "code",
   "execution_count": null,
   "id": "434045df-49be-46be-92f1-4f87e4f0172d",
   "metadata": {},
   "outputs": [],
   "source": [
    "tmp = df[df.Re > 2000].copy()\n",
    "tmp[\"U_z/U_h\"] = np.sqrt(2 * tmp.EKz / tmp.EKh)\n",
    "ax = plot(\n",
    "    tmp, \"Fh\", \"U_z/U_h\", c=np.log10(tmp[\"R2\"]), vmin=0.5, vmax=2, logy=True\n",
    ")\n",
    "\n",
    "xs = np.linspace(1e-2, 5.0e-2, 2)\n",
    "ax.plot(xs, 1e1 * xs**1, \"b\")\n",
    "\n",
    "xs = np.linspace(1e-2, 1.0e-1, 2)\n",
    "ax.plot(xs, 2e0 * xs**0.5, \"r\");"
   ]
  },
  {
   "cell_type": "code",
   "execution_count": null,
   "id": "fd1efd04-0f6b-46cd-b382-0b4d125fc4d2",
   "metadata": {},
   "outputs": [],
   "source": [
    "tmp = df[df.Re > 2000].copy()\n",
    "tmp[\"E_A/E_K\"] = tmp.EA / (tmp.EKh)\n",
    "ax = plot(\n",
    "    tmp, \"Fh\", \"E_A/E_K\", c=np.log10(tmp[\"R2\"]), vmin=0.5, vmax=2, logy=True\n",
    ")"
   ]
  }
 ],
 "metadata": {
  "kernelspec": {
   "display_name": "Python 3 (ipykernel)",
   "language": "python",
   "name": "python3"
  },
  "language_info": {
   "codemirror_mode": {
    "name": "ipython",
    "version": 3
   },
   "file_extension": ".py",
   "mimetype": "text/x-python",
   "name": "python",
   "nbconvert_exporter": "python",
   "pygments_lexer": "ipython3",
   "version": "3.9.7"
  }
 },
 "nbformat": 4,
 "nbformat_minor": 5
}
