{
 "cells": [
  {
   "cell_type": "code",
   "execution_count": null,
   "metadata": {},
   "outputs": [],
   "source": [
    "%matplotlib widget\n",
    "# %matplotlib inline"
   ]
  },
  {
   "cell_type": "code",
   "execution_count": null,
   "metadata": {},
   "outputs": [],
   "source": [
    "from pathlib import Path\n",
    "from functools import partial\n",
    "from pprint import pprint"
   ]
  },
  {
   "cell_type": "code",
   "execution_count": null,
   "metadata": {},
   "outputs": [],
   "source": [
    "import numpy as np\n",
    "import matplotlib.pyplot as plt"
   ]
  },
  {
   "cell_type": "code",
   "execution_count": null,
   "metadata": {},
   "outputs": [],
   "source": [
    "from fluidsim import load"
   ]
  },
  {
   "cell_type": "code",
   "execution_count": null,
   "metadata": {},
   "outputs": [],
   "source": [
    "path_base = Path(\"/fsnet/project/meige/2022/22STRATURBANIS/aniso\")"
   ]
  },
  {
   "cell_type": "code",
   "execution_count": null,
   "metadata": {},
   "outputs": [],
   "source": [
    "height = 4.5\n",
    "plt.rc(\"figure\", figsize=(1.33 * height, height))"
   ]
  },
  {
   "cell_type": "code",
   "execution_count": null,
   "metadata": {
    "tags": [
     "parameters"
    ]
   },
   "outputs": [],
   "source": [
    "N = 40\n",
    "Rb = 20\n",
    "nx = None\n",
    "path_dir = None"
   ]
  },
  {
   "cell_type": "code",
   "execution_count": null,
   "metadata": {},
   "outputs": [],
   "source": [
    "if path_dir is None:\n",
    "    if nx is not None:\n",
    "        paths = sorted(path_base.glob(f\"ns3d.strat*_{nx}x{nx}*\"))\n",
    "    else:\n",
    "        paths = sorted(path_base.glob(f\"ns3d.strat*_Rb{Rb}*_N{N}*\"))\n",
    "\n",
    "    pprint([p.name for p in paths])\n",
    "\n",
    "    if nx is not None:\n",
    "        path_dir = [\n",
    "            p for p in paths if f\"_Rb{Rb}_\" in p.name and f\"_N{N}_\" in p.name\n",
    "        ][0]\n",
    "    else:\n",
    "        path_dir = paths[-1]\n",
    "else:\n",
    "    path_dir = Path(path_dir)"
   ]
  },
  {
   "cell_type": "code",
   "execution_count": null,
   "metadata": {},
   "outputs": [],
   "source": [
    "path_dir.name"
   ]
  },
  {
   "cell_type": "code",
   "execution_count": null,
   "metadata": {},
   "outputs": [],
   "source": [
    "# name_dir = \"...\"\n",
    "# path_dir = path_base / name_dir"
   ]
  },
  {
   "cell_type": "code",
   "execution_count": null,
   "metadata": {},
   "outputs": [],
   "source": [
    "sim = load(path_dir, hide_stdout=1)"
   ]
  },
  {
   "cell_type": "code",
   "execution_count": null,
   "metadata": {},
   "outputs": [],
   "source": [
    "sim.output.path_run"
   ]
  },
  {
   "cell_type": "code",
   "execution_count": null,
   "metadata": {},
   "outputs": [],
   "source": [
    "sim.output.spatial_means.plot()"
   ]
  },
  {
   "cell_type": "code",
   "execution_count": null,
   "metadata": {},
   "outputs": [],
   "source": [
    "sim.output.print_stdout.plot_clock_times()"
   ]
  },
  {
   "cell_type": "code",
   "execution_count": null,
   "metadata": {},
   "outputs": [],
   "source": [
    "ds = sim.output.spatial_means.load_dataset()"
   ]
  },
  {
   "cell_type": "code",
   "execution_count": null,
   "metadata": {},
   "outputs": [],
   "source": [
    "t_start = float(ds.t.min())"
   ]
  },
  {
   "cell_type": "code",
   "execution_count": null,
   "metadata": {},
   "outputs": [],
   "source": [
    "t_statio = max(10.0, t_start + 1)\n",
    "t_statio"
   ]
  },
  {
   "cell_type": "code",
   "execution_count": null,
   "metadata": {},
   "outputs": [],
   "source": [
    "sim.output.get_mean_values(t_statio, use_cache=False)"
   ]
  },
  {
   "cell_type": "code",
   "execution_count": null,
   "metadata": {},
   "outputs": [],
   "source": [
    "sim.output.spatial_means.plot_dimless_numbers_versus_time(tmin=t_statio)"
   ]
  },
  {
   "cell_type": "code",
   "execution_count": null,
   "metadata": {},
   "outputs": [],
   "source": [
    "sim.output.spectra.plot1d(\n",
    "    tmin=t_statio,\n",
    "    coef_compensate=5 / 3,\n",
    "    coef_plot_k3=100,\n",
    "    coef_plot_k2=2,\n",
    "    plot_forcing_region=True,\n",
    ")"
   ]
  },
  {
   "cell_type": "code",
   "execution_count": null,
   "metadata": {},
   "outputs": [],
   "source": [
    "sim.output.spect_energy_budg.plot_fluxes(tmin=t_statio)"
   ]
  },
  {
   "cell_type": "code",
   "execution_count": null,
   "metadata": {},
   "outputs": [],
   "source": [
    "sim.output.spect_energy_budg.plot_fluxes(tmin=t_statio, key_k=\"kz\")"
   ]
  },
  {
   "cell_type": "code",
   "execution_count": null,
   "metadata": {},
   "outputs": [],
   "source": [
    "try:\n",
    "    next(Path(sim.output.path_run).glob(\"spatiotemporal/periodogram_*_urud.h5\"))\n",
    "except StopIteration:\n",
    "    raise RuntimeError(\"spatiotemporal spectra not computed\")\n",
    "tmin = 21.0\n",
    "plot_temporal_spectra = partial(\n",
    "    sim.output.spatiotemporal_spectra.plot_temporal_spectra, tmin=tmin\n",
    ")\n",
    "plot_kzkhomega = partial(\n",
    "    sim.output.spatiotemporal_spectra.plot_kzkhomega, tmin=tmin, vmin=-8\n",
    ")"
   ]
  },
  {
   "cell_type": "code",
   "execution_count": null,
   "metadata": {},
   "outputs": [],
   "source": [
    "plot_temporal_spectra(tmin=tmin, coef_compensate=5 / 3, plot_resonant_modes=False)"
   ]
  },
  {
   "cell_type": "code",
   "execution_count": null,
   "metadata": {},
   "outputs": [],
   "source": [
    "plot_kzkhomega(\"Khd\", equation=\"omega=0.5*N\")"
   ]
  },
  {
   "cell_type": "code",
   "execution_count": null,
   "metadata": {},
   "outputs": [],
   "source": [
    "plot_kzkhomega(\"Khd\", equation=\"ikz=1\")"
   ]
  },
  {
   "cell_type": "code",
   "execution_count": null,
   "metadata": {},
   "outputs": [],
   "source": [
    "plot_kzkhomega(\"Khd\", equation=\"ikz=2\")"
   ]
  },
  {
   "cell_type": "code",
   "execution_count": null,
   "metadata": {},
   "outputs": [],
   "source": [
    "plot_kzkhomega(\"Khd\", equation=\"ikz=2\")"
   ]
  },
  {
   "cell_type": "code",
   "execution_count": null,
   "metadata": {},
   "outputs": [],
   "source": [
    "plot_kzkhomega(\"Khd\", equation=\"kh=20\")"
   ]
  },
  {
   "cell_type": "code",
   "execution_count": null,
   "metadata": {},
   "outputs": [],
   "source": [
    "plot_kzkhomega(\"Khr\", equation=\"kh=20\")"
   ]
  },
  {
   "cell_type": "code",
   "execution_count": null,
   "metadata": {},
   "outputs": [],
   "source": [
    "plot_kzkhomega(\"Khd\", equation=\"kh=40\")"
   ]
  }
 ],
 "metadata": {
  "kernelspec": {
   "display_name": "Python 3 (ipykernel)",
   "language": "python",
   "name": "python3"
  },
  "language_info": {
   "codemirror_mode": {
    "name": "ipython",
    "version": 3
   },
   "file_extension": ".py",
   "mimetype": "text/x-python",
   "name": "python",
   "nbconvert_exporter": "python",
   "pygments_lexer": "ipython3",
   "version": "3.9.7"
  }
 },
 "nbformat": 4,
 "nbformat_minor": 4
}
