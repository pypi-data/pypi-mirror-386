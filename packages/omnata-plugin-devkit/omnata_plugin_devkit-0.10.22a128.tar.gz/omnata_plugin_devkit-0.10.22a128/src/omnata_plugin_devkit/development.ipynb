{
 "cells": [
  {
   "cell_type": "code",
   "execution_count": null,
   "id": "6ebeeb79",
   "metadata": {},
   "outputs": [],
   "source": [
    "from snowflake.snowpark import Session\n",
    "from snowcli.cli.app.snow_connector import connect_to_snowflake\n",
    "import os\n",
    "os.chdir('/home/vscode')\n",
    "snowflake_connector = connect_to_snowflake(\n",
    "    connection_name='dev'\n",
    ")\n",
    "builder = Session.builder\n",
    "builder._options[\"connection\"] = snowflake_connector\n",
    "session: Session = builder.create()"
   ]
  },
  {
   "cell_type": "code",
   "execution_count": null,
   "id": "f2b8d34d",
   "metadata": {},
   "outputs": [],
   "source": [
    "results = session.sql('show stages in account').collect()"
   ]
  },
  {
   "cell_type": "code",
   "execution_count": null,
   "id": "ce9da37c",
   "metadata": {},
   "outputs": [],
   "source": [
    "[r.as_dict() for r in results]"
   ]
  }
 ],
 "metadata": {
  "kernelspec": {
   "display_name": "Python 3",
   "language": "python",
   "name": "python3"
  },
  "language_info": {
   "codemirror_mode": {
    "name": "ipython",
    "version": 3
   },
   "file_extension": ".py",
   "mimetype": "text/x-python",
   "name": "python",
   "nbconvert_exporter": "python",
   "pygments_lexer": "ipython3",
   "version": "3.10.16"
  }
 },
 "nbformat": 4,
 "nbformat_minor": 5
}
