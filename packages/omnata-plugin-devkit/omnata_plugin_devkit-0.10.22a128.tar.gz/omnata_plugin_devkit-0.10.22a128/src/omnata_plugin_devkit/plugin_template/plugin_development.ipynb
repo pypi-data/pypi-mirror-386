{
 "cells": [
  {
   "cell_type": "code",
   "execution_count": null,
   "metadata": {},
   "outputs": [],
   "source": [
    "from omnata_plugin_devkit.development_session import DevelopmentSession\n",
    "from plugin import TemplateApp\n",
    "plugin_instance = TemplateApp()\n",
    "dev_session = DevelopmentSession(omnata_app_name='OMNATA_SYNC_ENGINE',plugin_instance=plugin_instance)\n",
    "dev_session.vcr_filter_query_parameters = [] # if plugins make use of volative query parameters like current timestamp, they should be added here"
   ]
  },
  {
   "cell_type": "code",
   "execution_count": null,
   "metadata": {},
   "outputs": [],
   "source": [
    "\n",
    "parameters, outbound_sync_request = dev_session.prepare_outbound_scenario_from_sync(\n",
    "    scenario_name='Outbound sync of Accounts',\n",
    "    snowcli_environment=\"dev\",\n",
    "    sync_slug='accounts-to-template-app-plugin-test')"
   ]
  },
  {
   "cell_type": "code",
   "execution_count": null,
   "metadata": {},
   "outputs": [],
   "source": [
    "plugin_instance.sync_outbound(parameters,outbound_sync_request)\n"
   ]
  },
  {
   "cell_type": "code",
   "execution_count": null,
   "metadata": {},
   "outputs": [],
   "source": [
    "dev_session.validate_response(outbound_sync_request)"
   ]
  },
  {
   "cell_type": "code",
   "execution_count": null,
   "metadata": {},
   "outputs": [],
   "source": [
    "\n",
    "dev_session.complete_scenario()"
   ]
  },
  {
   "cell_type": "code",
   "execution_count": null,
   "metadata": {},
   "outputs": [],
   "source": [
    "inbound_parameters,inbound_sync_request = dev_session.prepare_inbound_scenario_from_sync(\n",
    "                                scenario_name='Inbound Accounts Sync',\n",
    "                                sync_slug='template-app-test-to-snowflake')\n",
    "plugin_instance.sync_inbound(parameters=inbound_parameters,inbound_sync_request=inbound_sync_request)"
   ]
  },
  {
   "cell_type": "code",
   "execution_count": null,
   "metadata": {},
   "outputs": [],
   "source": [
    "dev_session.validate_response(inbound_sync_request)"
   ]
  },
  {
   "cell_type": "code",
   "execution_count": null,
   "metadata": {},
   "outputs": [],
   "source": [
    "dev_session.complete_scenario()"
   ]
  },
  {
   "cell_type": "code",
   "execution_count": null,
   "metadata": {},
   "outputs": [],
   "source": [
    "dev_session.generate_behave_test()"
   ]
  }
 ],
 "metadata": {
  "kernelspec": {
   "display_name": "plugin-salesforce",
   "language": "python",
   "name": "python3"
  },
  "language_info": {
   "codemirror_mode": {
    "name": "ipython",
    "version": 3
   },
   "file_extension": ".py",
   "mimetype": "text/x-python",
   "name": "python",
   "nbconvert_exporter": "python",
   "pygments_lexer": "ipython3",
   "version": "3.10.11"
  },
  "orig_nbformat": 4
 },
 "nbformat": 4,
 "nbformat_minor": 2
}
