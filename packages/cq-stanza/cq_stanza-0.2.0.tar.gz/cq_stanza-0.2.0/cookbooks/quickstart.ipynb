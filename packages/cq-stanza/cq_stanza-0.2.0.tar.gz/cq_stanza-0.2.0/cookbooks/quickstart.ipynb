{
 "cells": [
  {
   "cell_type": "markdown",
   "metadata": {},
   "source": [
    "# Stanza Quickstart\n",
    "\n",
    "This notebook demonstrates the basic workflow for using Stanza to tune quantum devices."
   ]
  },
  {
   "cell_type": "markdown",
   "metadata": {},
   "source": [
    "## 1. Setup and Imports"
   ]
  },
  {
   "cell_type": "code",
   "execution_count": null,
   "metadata": {},
   "outputs": [],
   "source": [
    "import numpy as np\n",
    "from stanza.routines import routine, RoutineRunner\n",
    "from stanza.models import DeviceConfig"
   ]
  },
  {
   "cell_type": "markdown",
   "metadata": {},
   "source": [
    "## 2. Define Device Configuration\n",
    "\n",
    "In practice, you'd load this from a YAML file. Here we'll create it programmatically for demonstration."
   ]
  },
  {
   "cell_type": "code",
   "execution_count": null,
   "metadata": {},
   "outputs": [],
   "source": [
    "device_yaml = \"\"\"\n",
    "name: \"Demo Quantum Device\"\n",
    "\n",
    "gates:\n",
    "  G1: {type: BARRIER, control_channel: 1, v_lower_bound: -3.0, v_upper_bound: 3.0}\n",
    "  G2: {type: PLUNGER, control_channel: 2, v_lower_bound: -3.0, v_upper_bound: 3.0}\n",
    "  G3: {type: BARRIER, control_channel: 3, v_lower_bound: -3.0, v_upper_bound: 3.0}\n",
    "\n",
    "contacts:\n",
    "  SOURCE: {type: SOURCE, control_channel: 4, measure_channel: 1, v_lower_bound: -3.0, v_upper_bound: 3.0}\n",
    "  DRAIN: {type: DRAIN, control_channel: 5, measure_channel: 2, v_lower_bound: -3.0, v_upper_bound: 3.0}\n",
    "\n",
    "routines:\n",
    "  - name: sweep_barrier\n",
    "    parameters:\n",
    "      gate: G1\n",
    "      v_start: -2.0\n",
    "      v_stop: 0.0\n",
    "      n_points: 100\n",
    "\n",
    "instruments:\n",
    "  - name: qdac2-control\n",
    "    type: CONTROL\n",
    "    driver: qdac2\n",
    "    ip_addr: 127.0.0.1\n",
    "    slew_rate: 1.0\n",
    "\n",
    "  - name: qdac2-measurement\n",
    "    type: MEASUREMENT\n",
    "    driver: qdac2\n",
    "    ip_addr: 127.0.0.1\n",
    "\"\"\"\n",
    "\n",
    "# Parse configuration\n",
    "import yaml\n",
    "config = DeviceConfig.model_validate(yaml.safe_load(device_yaml))"
   ]
  },
  {
   "cell_type": "markdown",
   "metadata": {},
   "source": [
    "## 3. Write Routines\n",
    "\n",
    "Routines are decorated functions that receive a context object with access to resources and results."
   ]
  },
  {
   "cell_type": "code",
   "execution_count": null,
   "metadata": {},
   "outputs": [],
   "source": [
    "@routine\n",
    "def sweep_barrier(ctx, gate=\"G1\", v_start=-2.0, v_stop=0.0, n_points=100, contact=\"DRAIN\"):\n",
    "    \"\"\"Sweep a barrier gate and measure drain current.\"\"\"\n",
    "    device = ctx.resources.device\n",
    "    \n",
    "    # Generate voltage range\n",
    "    voltages = np.linspace(v_start, v_stop, n_points)\n",
    "    \n",
    "    # Perform sweep\n",
    "    v_data, i_data = device.sweep_1d(\n",
    "        gate_electrode=gate,\n",
    "        voltages=voltages.tolist(),\n",
    "        measure_electrode=contact\n",
    "    )\n",
    "    \n",
    "    return {\n",
    "        \"gate\": gate,\n",
    "        \"voltages\": v_data,\n",
    "        \"currents\": i_data\n",
    "    }"
   ]
  },
  {
   "cell_type": "code",
   "execution_count": null,
   "metadata": {},
   "outputs": [],
   "source": [
    "@routine\n",
    "def analyze_sweep(ctx, threshold=1e-9):\n",
    "    \"\"\"Analyze results from previous sweep routine.\"\"\"\n",
    "    # Get data from previous routine\n",
    "    sweep_data = ctx.results.get(\"sweep_barrier\")\n",
    "    \n",
    "    if not sweep_data:\n",
    "        return {\"error\": \"No sweep data found\"}\n",
    "    \n",
    "    voltages = np.array(sweep_data[\"voltages\"])\n",
    "    currents = np.array(sweep_data[\"currents\"])\n",
    "    \n",
    "    # Find where current exceeds threshold\n",
    "    threshold_idx = np.where(np.abs(currents) > threshold)[0]\n",
    "    \n",
    "    if len(threshold_idx) > 0:\n",
    "        threshold_voltage = voltages[threshold_idx[0]]\n",
    "    else:\n",
    "        threshold_voltage = None\n",
    "    \n",
    "    return {\n",
    "        \"max_current\": float(np.max(np.abs(currents))),\n",
    "        \"threshold_voltage\": threshold_voltage,\n",
    "        \"threshold\": threshold\n",
    "    }"
   ]
  },
  {
   "cell_type": "markdown",
   "metadata": {},
   "source": [
    "## 4. Create Runner and Execute\n",
    "\n",
    "The `RoutineRunner` manages resources and executes routines."
   ]
  },
  {
   "cell_type": "code",
   "execution_count": null,
   "metadata": {},
   "outputs": [],
   "source": [
    "try:\n",
    "    runner = RoutineRunner(configs=[config])\n",
    "    print(f\"Available routines: {runner.list_routines()}\")\n",
    "except Exception as e:\n",
    "    print(f\"Note: Device connection would be needed to run: {e}\")"
   ]
  },
  {
   "cell_type": "markdown",
   "metadata": {},
   "source": [
    "## 5. Run Routines\n",
    "\n",
    "Execute individual routines or chains of routines."
   ]
  },
  {
   "cell_type": "code",
   "execution_count": null,
   "metadata": {},
   "outputs": [],
   "source": [
    "# Run sweep\n",
    "result = runner.run(\"sweep_barrier\", gate=\"G1\", contact=\"DRAIN\")\n",
    "print(f\"Sweep completed: {len(result['voltages'])} points\")\n",
    "\n",
    "# Run analysis on sweep results\n",
    "analysis = runner.run(\"analyze_sweep\", threshold=1e-9)\n",
    "print(f\"Analysis: {analysis}\")"
   ]
  },
  {
   "cell_type": "markdown",
   "metadata": {},
   "source": [
    "## Summary\n",
    "\n",
    "Stanza provides:\n",
    "- **Simple configuration** with YAML\n",
    "- **Decorator-based routines** for clean, testable code\n",
    "- **Resource management** through context objects\n",
    "- **Result chaining** for complex workflows\n",
    "- **Automatic logging** of all measurements\n",
    "\n",
    "See the [documentation](https://github.com/conductorquantum/stanza) for more examples and API details."
   ]
  }
 ],
 "metadata": {
  "kernelspec": {
   "display_name": "Python 3",
   "language": "python",
   "name": "python3"
  },
  "language_info": {
   "codemirror_mode": {
    "name": "ipython",
    "version": 3
   },
   "file_extension": ".py",
   "mimetype": "text/x-python",
   "name": "python",
   "nbconvert_exporter": "python",
   "pygments_lexer": "ipython3",
   "version": "3.11.0"
  }
 },
 "nbformat": 4,
 "nbformat_minor": 4
}
