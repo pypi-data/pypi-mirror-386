{
 "cells": [
  {
   "cell_type": "markdown",
   "metadata": {},
   "source": [
    "# Health Check Routines Cookbook\n",
    "\n",
    "This cookbook demonstrates how to run automated Health Check routines for quantum dot devices using Stanza. Health Check is the critical first step in quantum dot tuning, verifying that gates are functional and determining baseline operating parameters.\n",
    "\n",
    "## What You'll Learn\n",
    "\n",
    "- How to configure health check routines in device YAML\n",
    "- Running the complete health check workflow\n",
    "- Understanding individual routine results\n",
    "- Analyzing gate characterization data\n",
    "- Troubleshooting common issues"
   ]
  },
  {
   "cell_type": "markdown",
   "metadata": {},
   "source": [
    "## Overview of Health Check Workflow\n",
    "\n",
    "Health check follows a systematic workflow:\n",
    "\n",
    "1. **Noise Floor Measurement** - Establish baseline measurement noise\n",
    "2. **Leakage Test** - Detect electrical shorts between contacts and gates\n",
    "3. **Global Accumulation** - Determine global turn-on voltage\n",
    "4. **Reservoir Characterization** - Characterize individual reservoir gates\n",
    "5. **Finger Gate Characterization** - Characterize plungers and barriers\n",
    "\n",
    "Each step builds on previous results, establishing a complete picture of device health."
   ]
  },
  {
   "cell_type": "markdown",
   "metadata": {},
   "source": [
    "## Setup\n",
    "\n",
    "First, let's import the necessary modules:\n",
    "\n",
    "**Note**: Stanza automatically logs all measurements and analysis results when you provide a `DataLogger` as a resource to the `RoutineRunner`. All sweep data, fit parameters, and metadata are saved with timestamps to the specified directory."
   ]
  },
  {
   "cell_type": "code",
   "execution_count": null,
   "metadata": {},
   "outputs": [],
   "source": [
    "from stanza.utils import load_device_config\n",
    "from stanza.routines import RoutineRunner\n",
    "import stanza.routines.builtins\n",
    "import numpy as np\n",
    "import matplotlib.pyplot as plt"
   ]
  },
  {
   "cell_type": "markdown",
   "metadata": {},
   "source": [
    "## 1. Device Configuration\n",
    "\n",
    "Health check routines are configured in your device YAML file. Here's a complete example:\n",
    "\n",
    "```yaml\n",
    "name: \"My Quantum Device\"\n",
    "\n",
    "gates:\n",
    "  R1: {type: RESERVOIR, control_channel: 1, measure_channel: 1, v_lower_bound: -3.0, v_upper_bound: 3.0}\n",
    "  R2: {type: RESERVOIR, control_channel: 2, measure_channel: 2, v_lower_bound: -3.0, v_upper_bound: 3.0}\n",
    "  B1: {type: BARRIER, control_channel: 3, measure_channel: 3, v_lower_bound: -3.0, v_upper_bound: 3.0}\n",
    "  P1: {type: PLUNGER, control_channel: 4, measure_channel: 4, v_lower_bound: -3.0, v_upper_bound: 3.0}\n",
    "\n",
    "contacts:\n",
    "  SOURCE: {type: SOURCE, control_channel: 5, measure_channel: 5, v_lower_bound: -3.0, v_upper_bound: 3.0}\n",
    "  DRAIN: {type: DRAIN, control_channel: 6, measure_channel: 6, v_lower_bound: -3.0, v_upper_bound: 3.0}\n",
    "\n",
    "routines:\n",
    "  - name: device_health_check\n",
    "    routines:\n",
    "      - name: noise_floor_measurement\n",
    "        parameters:\n",
    "          measure_electrode: DRAIN\n",
    "          num_points: 100\n",
    "\n",
    "      - name: leakage_test\n",
    "        parameters:\n",
    "          leakage_threshold_resistance: 50e6  # 50 MOhm\n",
    "          leakage_threshold_count: 0\n",
    "          num_points: 10\n",
    "\n",
    "      - name: global_accumulation\n",
    "        parameters:\n",
    "          measure_electrode: DRAIN\n",
    "          step_size: 0.01  # 10 mV steps\n",
    "          bias_gate: SOURCE\n",
    "          bias_voltage: 0.01\n",
    "\n",
    "      - name: reservoir_characterization\n",
    "        parameters:\n",
    "          measure_electrode: DRAIN\n",
    "          step_size: 0.01\n",
    "          bias_gate: SOURCE\n",
    "          bias_voltage: 0.01\n",
    "\n",
    "      - name: finger_gate_characterization\n",
    "        parameters:\n",
    "          measure_electrode: DRAIN\n",
    "          step_size: 0.01\n",
    "          bias_gate: SOURCE\n",
    "          bias_voltage: 0.01\n",
    "\n",
    "instruments:\n",
    "  - name: qdac2\n",
    "    type: GENERAL\n",
    "    driver: qdac2\n",
    "    ip_addr: 192.168.1.100\n",
    "    slew_rate: 1.0\n",
    "    nplc: 10\n",
    "```\n",
    "\n",
    "Save this to `device.yaml` in your working directory."
   ]
  },
  {
   "cell_type": "markdown",
   "metadata": {},
   "source": [
    "## 2. Running Complete Health Check\n",
    "\n",
    "The simplest way to run health check is to execute all routines in sequence:"
   ]
  },
  {
   "cell_type": "code",
   "execution_count": null,
   "metadata": {},
   "outputs": [],
   "source": [
    "# Load device configuration\n",
    "config = load_device_config(\"device.yaml\")\n",
    "\n",
    "# Create runner\n",
    "runner = RoutineRunner(configs=[config])\n",
    "\n",
    "# Run all health check routines\n",
    "results = runner.run_all(parent_routine=\"device_health_check\")\n",
    "\n",
    "print(\"Health check complete!\")\n",
    "print(f\"Available results: {list(results.keys())}\")"
   ]
  },
  {
   "cell_type": "markdown",
   "metadata": {},
   "source": [
    "## 3. Accessing Individual Results\n",
    "\n",
    "After running health check, you can access results from each routine:"
   ]
  },
  {
   "cell_type": "code",
   "execution_count": null,
   "metadata": {},
   "outputs": [],
   "source": [
    "# Noise floor measurement\n",
    "noise_floor = results[\"noise_floor_measurement\"]\n",
    "print(f\"Noise floor: {noise_floor['current_std']:.2e} A\")\n",
    "print(f\"Mean current: {noise_floor['current_mean']:.2e} A\")\n",
    "\n",
    "# Leakage test\n",
    "leakage = results[\"leakage_test\"]\n",
    "print(f\"\\nLeakage test passed!\")\n",
    "print(f\"Max safe voltage bound: {leakage['max_safe_voltage_bound']:.3f} V\")\n",
    "print(f\"Min safe voltage bound: {leakage['min_safe_voltage_bound']:.3f} V\")\n",
    "\n",
    "# Global accumulation\n",
    "global_turn_on = results[\"global_accumulation\"]\n",
    "print(f\"\\nGlobal turn-on voltage: {global_turn_on['global_turn_on_voltage']:.3f} V\")\n",
    "\n",
    "# Reservoir characterization\n",
    "reservoir_v_cutoffs = results[\"reservoir_characterization\"][\"reservoir_characterization\"]\n",
    "print(f\"\\nReservoir turn-on voltages:\")\n",
    "for reservoir, v_cutoff in reservoir_v_cutoffs.items():\n",
    "    print(f\"  {reservoir}: {v_cutoff:.3f} V\")\n",
    "\n",
    "# Finger gate characterization\n",
    "finger_v_cutoffs = results[\"finger_gate_characterization\"][\"finger_gate_characterization\"]\n",
    "print(f\"\\nFinger gate turn-on voltages:\")\n",
    "for gate, v_cutoff in finger_v_cutoffs.items():\n",
    "    print(f\"  {gate}: {v_cutoff:.3f} V\")"
   ]
  },
  {
   "cell_type": "markdown",
   "metadata": {},
   "source": [
    "## 4. Running Individual Routines\n",
    "\n",
    "You can also run routines individually for testing or debugging:"
   ]
  },
  {
   "cell_type": "code",
   "execution_count": null,
   "metadata": {},
   "outputs": [],
   "source": [
    "# Run just noise floor measurement\n",
    "noise_result = runner.run(\"noise_floor_measurement\")\n",
    "print(f\"Noise floor: {noise_result['current_std']:.2e} A\")\n",
    "\n",
    "# Run leakage test (uses noise floor result)\n",
    "leakage_result = runner.run(\"leakage_test\")\n",
    "print(f\"Leakage test completed\")\n",
    "\n",
    "# Run global accumulation (uses leakage test results)\n",
    "global_result = runner.run(\"global_accumulation\")\n",
    "print(f\"Global turn-on: {global_result['global_turn_on_voltage']:.3f} V\")"
   ]
  },
  {
   "cell_type": "markdown",
   "metadata": {},
   "source": [
    "## 5. Visualizing Results\n",
    "\n",
    "Let's create visualizations of the health check results:"
   ]
  },
  {
   "cell_type": "code",
   "execution_count": null,
   "metadata": {},
   "outputs": [],
   "source": [
    "# Plot turn-on voltages for all gates\n",
    "fig, ax = plt.subplots(figsize=(10, 6))\n",
    "\n",
    "# Combine all gate results\n",
    "all_gates = {}\n",
    "all_gates.update(reservoir_v_cutoffs)\n",
    "all_gates.update(finger_v_cutoffs)\n",
    "\n",
    "gate_names = list(all_gates.keys())\n",
    "v_cutoffs = list(all_gates.values())\n",
    "\n",
    "# Plot\n",
    "colors = ['blue' if name.startswith('R') else 'green' if name.startswith('B') else 'red' \n",
    "          for name in gate_names]\n",
    "ax.bar(gate_names, v_cutoffs, color=colors, alpha=0.7)\n",
    "ax.axhline(global_turn_on['global_turn_on_voltage'], color='black', linestyle='--', \n",
    "           label=f\"Global Turn-on Voltage: {global_turn_on['global_turn_on_voltage']:.3f} V\")\n",
    "\n",
    "ax.set_xlabel('Gate')\n",
    "ax.set_ylabel('Turn-on Voltage (V)')\n",
    "ax.set_title('Gate Characterization Results')\n",
    "ax.legend()\n",
    "ax.grid(True, alpha=0.3)\n",
    "\n",
    "# Add legend for colors\n",
    "from matplotlib.patches import Patch\n",
    "legend_elements = [\n",
    "    Patch(facecolor='blue', alpha=0.7, label='Reservoir'),\n",
    "    Patch(facecolor='green', alpha=0.7, label='Barrier'),\n",
    "    Patch(facecolor='red', alpha=0.7, label='Plunger')\n",
    "]\n",
    "ax.legend(handles=legend_elements, loc='upper right')\n",
    "\n",
    "plt.tight_layout()\n",
    "plt.show()"
   ]
  },
  {
   "cell_type": "markdown",
   "metadata": {},
   "source": [
    "## 6. Automatic Data Logging\n",
    "\n",
    "When you run health check routines, Stanza automatically logs all measurements and analysis results to disk. The data is organized in the following directory structure:\n",
    "\n",
    "```\n",
    "./data/\n",
    "└── device_health_check/\n",
    "    ├── noise_floor_measurement/\n",
    "    │   ├── noise_floor_measurement.h5\n",
    "    │   ├── session_metadata.json\n",
    "    │   ├── measurement.jsonl\n",
    "    │   └── analysis.jsonl\n",
    "    ├── leakage_test/\n",
    "    │   ├── leakage_test.h5\n",
    "    │   ├── session_metadata.json\n",
    "    │   ├── measurement.jsonl\n",
    "    │   └── analysis.jsonl\n",
    "    ├── global_accumulation/\n",
    "    │   ├── global_accumulation.h5\n",
    "    │   ├── session_metadata.json\n",
    "    │   ├── sweep.jsonl\n",
    "    │   └── analysis.jsonl\n",
    "    ├── reservoir_characterization/\n",
    "    │   ├── reservoir_characterization.h5\n",
    "    │   ├── session_metadata.json\n",
    "    │   ├── sweep.jsonl\n",
    "    │   └── analysis.jsonl\n",
    "    └── finger_gate_characterization/\n",
    "        ├── finger_gate_characterization.h5\n",
    "        ├── session_metadata.json\n",
    "        ├── sweep.jsonl\n",
    "        └── analysis.jsonl\n",
    "```\n",
    "\n",
    "Each routine session contains:\n",
    "- **HDF5 file (.h5)**: Binary data for efficient storage and access\n",
    "- **session_metadata.json**: Timestamps, device config, routine parameters\n",
    "- **measurement/sweep.jsonl**: Raw measurement data (voltages, currents, leakage matrices)\n",
    "- **analysis.jsonl**: Fit parameters, turn-on voltages, statistics"
   ]
  },
  {
   "cell_type": "markdown",
   "metadata": {},
   "source": [
    "## 7. Error Handling\n",
    "\n",
    "Health check routines can fail for various reasons. Here's how to handle errors:"
   ]
  },
  {
   "cell_type": "code",
   "execution_count": null,
   "metadata": {},
   "outputs": [],
   "source": [
    "from stanza.exceptions import RoutineError\n",
    "\n",
    "try:\n",
    "    # Run health check\n",
    "    results = runner.run_all(parent_routine=\"device_health_check\")\n",
    "    print(\"Health check passed!\")\n",
    "    \n",
    "except RoutineError as e:\n",
    "    print(f\"Configuration error: {e}\")\n",
    "    print(\"Check your device.yaml file for correct parameters.\")\n",
    "    \n",
    "except ValueError as e:\n",
    "    print(f\"Curve fit failed: {e}\")\n",
    "    print(\"Possible solutions:\")\n",
    "    print(\"  - Check device connectivity\")\n",
    "    print(\"  - Verify measure_electrode is correct\")\n",
    "    print(\"  - Increase voltage range\")\n",
    "    print(\"  - Reduce step_size for better resolution\")\n",
    "    \n",
    "except Exception as e:\n",
    "    print(f\"Unexpected error: {e}\")\n",
    "    print(\"Check instrument connections and configuration.\")"
   ]
  },
  {
   "cell_type": "markdown",
   "metadata": {},
   "source": [
    "## 8. Parameter Tuning\n",
    "\n",
    "Different devices may require different parameters. Here's how to adjust them:"
   ]
  },
  {
   "cell_type": "markdown",
   "metadata": {},
   "source": [
    "### Adjusting Step Size\n",
    "\n",
    "Trade-off between resolution and measurement time:\n",
    "\n",
    "```yaml\n",
    "# Fast (coarse) sweep - 50 mV steps\n",
    "- name: global_accumulation\n",
    "  parameters:\n",
    "    step_size: 0.05\n",
    "\n",
    "# Standard sweep - 10 mV steps\n",
    "- name: global_accumulation\n",
    "  parameters:\n",
    "    step_size: 0.01\n",
    "\n",
    "# High resolution sweep - 1 mV steps\n",
    "- name: global_accumulation\n",
    "  parameters:\n",
    "    step_size: 0.001\n",
    "```"
   ]
  },
  {
   "cell_type": "markdown",
   "metadata": {},
   "source": [
    "### Adjusting Leakage Threshold\n",
    "\n",
    "For devices with known crosstalk:\n",
    "\n",
    "```yaml\n",
    "# Strict threshold - fail on any leakage\n",
    "- name: leakage_test\n",
    "  parameters:\n",
    "    leakage_threshold_resistance: 100e6  # 100 MOhm\n",
    "    leakage_threshold_count: 0\n",
    "\n",
    "# Relaxed threshold - allow some crosstalk\n",
    "- name: leakage_test\n",
    "  parameters:\n",
    "    leakage_threshold_resistance: 10e6  # 10 MOhm\n",
    "    leakage_threshold_count: 2  # Allow 2 leaky pairs\n",
    "```"
   ]
  },
  {
   "cell_type": "markdown",
   "metadata": {},
   "source": [
    "## 9. Advanced - Understanding Pinch-off Analysis\n",
    "\n",
    "Health check routines use pinch-off curve fitting to extract turn-on voltages. The model is:\n",
    "\n",
    "$$I(V) = a \\cdot (1 + \\tanh(b \\cdot V + c))$$\n",
    "\n",
    "Where:\n",
    "- **a**: Amplitude parameter\n",
    "- **b**: Slope parameter  \n",
    "- **c**: Offset parameter\n",
    "\n",
    "The routine extracts:\n",
    "- **v_cut_off (cut-off)**: Where device turns off (minimum of second derivative)\n",
    "- **v_transition (transition)**: Midpoint of transition from cut-off to saturation (maximum of first derivative)\n",
    "- **v_saturation (saturation)**: Where device is fully on (maximum of second derivative)"
   ]
  },
  {
   "cell_type": "markdown",
   "metadata": {},
   "source": [
    "## Troubleshooting Guide\n",
    "\n",
    "### Common Issues\n",
    "\n",
    "**1. Curve fit failures**\n",
    "- Check device connectivity and grounding\n",
    "- Verify measure_electrode matches physical setup\n",
    "- Increase voltage range (v_lower_bound, v_upper_bound)\n",
    "- Reduce step_size for better resolution\n",
    "\n",
    "**2. Leakage test failures**\n",
    "- Check for physical shorts on device\n",
    "- Increase leakage_threshold_resistance for known crosstalk\n",
    "- Set leakage_threshold_count > 0 to allow some leakage\n",
    "- Verify cable connections and shielding\n",
    "\n",
    "**3. Missing results errors**\n",
    "- Ensure routines run in correct order (use nested structure)\n",
    "- Check that prerequisite routines completed successfully\n",
    "- Use `runner.run_all()` instead of individual `run()` calls"
   ]
  },
  {
   "cell_type": "markdown",
   "metadata": {},
   "source": [
    "## Best Practices\n",
    "\n",
    "1. **Always run noise floor first** - Provides current threshold for leakage testing\n",
    "2. **Check leakage before characterization** - Running on leaky device can damage gates\n",
    "3. **Use appropriate step sizes** - Balance resolution vs measurement time\n",
    "4. **Version control device YAML** - Keep configuration alongside data\n",
    "5. **Monitor fit quality** - Check for curve fit warnings\n",
    "6. **Use nested routine structure** - Ensures correct ordering\n",
    "7. **Review logged data** - All measurements automatically saved to ./data/ directory"
   ]
  },
  {
   "cell_type": "markdown",
   "metadata": {},
   "source": [
    "## Next Steps\n",
    "\n",
    "After successful health check, you can:\n",
    "- Use turn-on voltages as starting points for tuning\n",
    "- Run charge stability diagram measurements\n",
    "- Begin quantum dot formation routines\n",
    "- Perform more detailed gate characterization\n",
    "\n",
    "See other cookbooks for:\n",
    "- Charge stability diagrams\n",
    "- Quantum dot tuning\n",
    "- Custom routine development"
   ]
  },
  {
   "cell_type": "markdown",
   "metadata": {},
   "source": [
    "## References\n",
    "\n",
    "- [Stanza Health Check Documentation](https://docs.conductorquantum.com/stanza/latest/core-concepts/routines/health-check)\n",
    "- [BATIS Framework](https://arxiv.org/abs/2412.07676)\n",
    "- [Autonomous Quantum Dot Tuning](https://doi.org/10.1103/PhysRevApplied.13.054005)"
   ]
  }
 ],
 "metadata": {
  "kernelspec": {
   "display_name": "Python 3",
   "language": "python",
   "name": "python3"
  },
  "language_info": {
   "codemirror_mode": {
    "name": "ipython",
    "version": 3
   },
   "file_extension": ".py",
   "mimetype": "text/x-python",
   "name": "python",
   "nbconvert_exporter": "python",
   "pygments_lexer": "ipython3",
   "version": "3.10.0"
  }
 },
 "nbformat": 4,
 "nbformat_minor": 4
}
