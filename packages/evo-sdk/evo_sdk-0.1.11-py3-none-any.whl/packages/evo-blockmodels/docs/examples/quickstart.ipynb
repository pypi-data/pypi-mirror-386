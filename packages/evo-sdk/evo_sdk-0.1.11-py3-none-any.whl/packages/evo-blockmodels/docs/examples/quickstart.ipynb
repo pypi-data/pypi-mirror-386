{
 "cells": [
  {
   "cell_type": "markdown",
   "metadata": {},
   "source": [
    "# Quickstart\n",
    "\n",
    "## Using the Block Model API Client\n",
    "\n",
    "Using the notebook utilities provided by `evo-sdk-common`, we can easily interact with the Block Model Service in a Jupyter notebook environment."
   ]
  },
  {
   "cell_type": "code",
   "execution_count": null,
   "metadata": {},
   "outputs": [],
   "source": [
    "from evo.notebooks import ServiceManagerWidget\n",
    "\n",
    "manager = await ServiceManagerWidget.with_auth_code(\n",
    "    client_id=\"your-client-id\",\n",
    "    cache_location=\"./notebook-data\",\n",
    ").login()"
   ]
  },
  {
   "cell_type": "markdown",
   "metadata": {},
   "source": [
    "## BlockModelAPIClient\n",
    "\n",
    "The `BlockModelAPIClient` wraps endpoint functionality to provide a cohesive interface to the underlying API implementation."
   ]
  },
  {
   "cell_type": "code",
   "execution_count": null,
   "metadata": {},
   "outputs": [],
   "source": [
    "from evo.blockmodels import BlockModelAPIClient\n",
    "\n",
    "environment = manager.get_environment()\n",
    "connector = manager.get_connector()\n",
    "\n",
    "service_client = BlockModelAPIClient(environment, connector, manager.cache)\n",
    "service_health = await service_client.get_service_health()\n",
    "\n",
    "print(f\"Block Model Service is {service_health.status.name.lower()}\")"
   ]
  },
  {
   "cell_type": "markdown",
   "metadata": {},
   "source": [
    "### Create Block Model"
   ]
  },
  {
   "cell_type": "code",
   "execution_count": null,
   "metadata": {},
   "outputs": [],
   "source": [
    "import pyarrow\n",
    "\n",
    "from evo.blockmodels.data import RegularGridDefinition\n",
    "from evo.blockmodels.endpoints.models import RotationAxis\n",
    "\n",
    "block_grid = RegularGridDefinition(\n",
    "    model_origin=[0, 0, 0], rotations=[(RotationAxis.x, 20)], n_blocks=[10, 10, 10], block_size=[1, 1, 1]\n",
    ")\n",
    "initial_data = pyarrow.table(\n",
    "    {\"i\": [1, 2, 3], \"j\": [4, 5, 6], \"k\": [7, 8, 9], \"column_one\": [\"A\", \"D\", \"E\"], \"column_two\": [1.5, 1.3, 1.2]},\n",
    "    schema=pyarrow.schema(\n",
    "        {\n",
    "            \"i\": pyarrow.uint32(),\n",
    "            \"j\": pyarrow.uint32(),\n",
    "            \"k\": pyarrow.uint32(),\n",
    "            \"column_one\": pyarrow.string(),\n",
    "            \"column_two\": pyarrow.float32(),\n",
    "        }\n",
    "    ),\n",
    ")\n",
    "block_model, version = await service_client.create_block_model(\n",
    "    name=\"My Block Model\",\n",
    "    description=\"My Block Model\",\n",
    "    grid_definition=block_grid,\n",
    "    object_path=\"your/path\",\n",
    "    coordinate_reference_system=\"EPSG:3395\",\n",
    "    size_unit_id=\"m\",\n",
    "    initial_data=initial_data,\n",
    ")"
   ]
  },
  {
   "cell_type": "markdown",
   "metadata": {},
   "source": [
    "### Add New Columns"
   ]
  },
  {
   "cell_type": "code",
   "execution_count": null,
   "metadata": {},
   "outputs": [],
   "source": [
    "new_cols = pyarrow.table(\n",
    "    {\"i\": [1, 1], \"j\": [4, 4], \"k\": [6, 7], \"column_three\": [\"C\", \"D\"], \"column_four\": [4.5, 5.3]},\n",
    "    schema=pyarrow.schema(\n",
    "        {\n",
    "            \"i\": pyarrow.uint32(),\n",
    "            \"j\": pyarrow.uint32(),\n",
    "            \"k\": pyarrow.uint32(),\n",
    "            \"column_three\": pyarrow.string(),\n",
    "            \"column_four\": pyarrow.float32(),\n",
    "        }\n",
    "    ),\n",
    ")\n",
    "\n",
    "version_with_new_columns = await service_client.add_new_columns(\n",
    "    bm_id=block_model.id,\n",
    "    data=new_cols,\n",
    "    units={\"column_four\": \"g/t\"},\n",
    ")"
   ]
  },
  {
   "cell_type": "markdown",
   "metadata": {},
   "source": [
    "### Query Block Model as Table"
   ]
  },
  {
   "cell_type": "code",
   "execution_count": null,
   "metadata": {},
   "outputs": [],
   "source": [
    "from evo.blockmodels.endpoints.models import BBox, IntRange\n",
    "\n",
    "# Select a bounding box to query\n",
    "# This example selects blocks where: 1 <= i <= 2\n",
    "bounding_box = BBox(\n",
    "    i_minmax=IntRange(min=1, max=2),\n",
    "    j_minmax=IntRange(min=1, max=9),\n",
    "    k_minmax=IntRange(min=1, max=9),\n",
    ")\n",
    "\n",
    "# Table will be a Pyarrow Table\n",
    "await service_client.query_block_model_as_table(\n",
    "    bm_id=block_model.id,\n",
    "    columns=[\"column_one\", \"column_four\"],\n",
    "    bbox=bounding_box,\n",
    "    version_uuid=version_with_new_columns.version_uuid,\n",
    ")"
   ]
  }
 ],
 "metadata": {
  "kernelspec": {
   "display_name": "evo-python-sdk",
   "language": "python",
   "name": "python3"
  },
  "language_info": {
   "codemirror_mode": {
    "name": "ipython",
    "version": 3
   },
   "file_extension": ".py",
   "mimetype": "text/x-python",
   "name": "python",
   "nbconvert_exporter": "python",
   "pygments_lexer": "ipython3",
   "version": "3.10.18"
  }
 },
 "nbformat": 4,
 "nbformat_minor": 1
}
