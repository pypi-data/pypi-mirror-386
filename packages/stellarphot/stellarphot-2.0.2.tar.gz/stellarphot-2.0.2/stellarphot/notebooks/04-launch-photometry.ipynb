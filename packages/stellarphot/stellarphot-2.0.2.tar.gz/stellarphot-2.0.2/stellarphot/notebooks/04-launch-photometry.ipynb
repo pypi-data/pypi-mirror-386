{
 "cells": [
  {
   "cell_type": "markdown",
   "id": "370c62a8-ba40-4a44-ab0f-de940ad73fed",
   "metadata": {},
   "source": [
    "# Run all of the cells below then select an image of the object to do photometry on"
   ]
  },
  {
   "cell_type": "code",
   "execution_count": null,
   "id": "e5f2fc8f-b893-400e-8fb7-4dd8e871334f",
   "metadata": {},
   "outputs": [],
   "source": [
    "import ipywidgets as ipw\n",
    "\n",
    "from stellarphot.settings.custom_widgets import PhotometryRunner\n",
    "runner = PhotometryRunner()\n",
    "runner"
   ]
  }
 ],
 "metadata": {
  "kernelspec": {
   "display_name": "Python 3 (ipykernel)",
   "language": "python",
   "name": "python3"
  },
  "language_info": {
   "codemirror_mode": {
    "name": "ipython",
    "version": 3
   },
   "file_extension": ".py",
   "mimetype": "text/x-python",
   "name": "python",
   "nbconvert_exporter": "python",
   "pygments_lexer": "ipython3",
   "version": "3.11.8"
  }
 },
 "nbformat": 4,
 "nbformat_minor": 5
}
