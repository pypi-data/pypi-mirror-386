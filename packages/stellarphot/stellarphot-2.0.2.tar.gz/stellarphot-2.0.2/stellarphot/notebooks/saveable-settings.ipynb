{
 "cells": [
  {
   "cell_type": "markdown",
   "id": "4cd2d431-7993-4aa6-9fc9-34e4a46be376",
   "metadata": {},
   "source": [
    "# Instructions for testing\n",
    "\n",
    "As you try this notebook out please take notes on anything you are confused by or have questions about, or things you especially like.\n",
    "\n",
    "You can email those to Matt Craig or make an issue at https://github.com/feder-observatory/stellarphot/issues/new\n",
    "\n",
    "1. Try making at least two of each type of object: camera, telescope, passband map.\n",
    "2. The names of the two need to be different but the rest of the values can be the same.\n",
    "3. For the camera and observatory it is fine to use the example values that are displayed.\n",
    "4. For the passband map, give the map a name, then click the \"+\" button to start adding entries. For each entry, you type in the name of a filter on the first line and choose an item from the dropdown in the second line. Add at least one entry; more than that is up to you.\n",
    "5. Try editing one of the values.\n",
    "   "
   ]
  },
  {
   "cell_type": "code",
   "execution_count": null,
   "id": "6993b7c8-bb85-4fc4-a477-8b934cc7bc69",
   "metadata": {},
   "outputs": [],
   "source": [
    "import ipywidgets as ipw\n",
    "\n",
    "from stellarphot.settings.custom_widgets import ChooseOrMakeNew"
   ]
  },
  {
   "cell_type": "code",
   "execution_count": null,
   "id": "2aecde7e-27db-4287-8c51-653bb496c2f6",
   "metadata": {},
   "outputs": [],
   "source": [
    "to_make = [\"camera\", \"observatory\", \"passband_map\"]\n",
    "widgets = [ChooseOrMakeNew(item) for item in to_make]\n",
    "\n",
    "tabs = ipw.Tab(children=widgets)"
   ]
  },
  {
   "cell_type": "code",
   "execution_count": null,
   "id": "40abe658-40a9-4237-8c83-0eae2249b476",
   "metadata": {},
   "outputs": [],
   "source": [
    "\n",
    "tabs.titles = [item.replace(\"_\", \" \").capitalize() for item in to_make]"
   ]
  },
  {
   "cell_type": "code",
   "execution_count": null,
   "id": "ef72e7d8-0a4c-4bec-9c36-2f976ca42542",
   "metadata": {},
   "outputs": [],
   "source": [
    "tabs"
   ]
  },
  {
   "cell_type": "code",
   "execution_count": null,
   "id": "424e3b5e-18a7-4a6c-a8fe-7f9f7734b3b2",
   "metadata": {},
   "outputs": [],
   "source": []
  }
 ],
 "metadata": {
  "kernelspec": {
   "display_name": "Python 3 (ipykernel)",
   "language": "python",
   "name": "python3"
  },
  "language_info": {
   "codemirror_mode": {
    "name": "ipython",
    "version": 3
   },
   "file_extension": ".py",
   "mimetype": "text/x-python",
   "name": "python",
   "nbconvert_exporter": "python",
   "pygments_lexer": "ipython3",
   "version": "3.11.7"
  }
 },
 "nbformat": 4,
 "nbformat_minor": 5
}
