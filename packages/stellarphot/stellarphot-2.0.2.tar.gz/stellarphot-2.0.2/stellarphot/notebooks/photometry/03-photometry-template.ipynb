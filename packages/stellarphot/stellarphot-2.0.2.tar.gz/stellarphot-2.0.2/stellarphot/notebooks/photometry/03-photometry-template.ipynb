{
 "cells": [
  {
   "cell_type": "code",
   "execution_count": null,
   "metadata": {
    "tags": []
   },
   "outputs": [],
   "source": [
    "from pathlib import Path\n",
    "\n",
    "from astropy.coordinates import EarthLocation\n",
    "from astropy import units as u\n",
    "\n",
    "from stellarphot import Camera, SourceListData\n",
    "from stellarphot.photometry import multi_image_photometry\n",
    "from stellarphot.gui_tools.photometry_widget_functions import PhotometrySettings"
   ]
  },
  {
   "cell_type": "markdown",
   "metadata": {},
   "source": [
    "## You only need to change these settings if you switch camera/observatory/filter set up from your previous run"
   ]
  },
  {
   "cell_type": "code",
   "execution_count": null,
   "metadata": {
    "tags": []
   },
   "outputs": [],
   "source": [
    "##\n",
    "## Setting defining the observatory and camera\n",
    "##\n",
    "feder_cg_16m = Camera(\n",
    "    data_unit=u.adu,\n",
    "    gain=1.5 * u.electron / u.adu,\n",
    "    read_noise=10.0 * u.electron,\n",
    "    dark_current=0.01 * u.electron / u.second,\n",
    "    pixel_scale=0.563 * u.arcsec / u.pix,\n",
    "    max_adu=50000 * u.adu,\n",
    ")\n",
    "feder_filters = {\n",
    "    \"up\": \"SU\",\n",
    "    \"gp\": \"SG\",\n",
    "    \"rp\": \"SR\",\n",
    "    \"zp\": \"SZ\",\n",
    "    \"ip\": \"SI\",\n",
    "    \"V\": \"V\",\n",
    "    \"B\": \"B\",\n",
    "}\n",
    "feder_obs = EarthLocation(lat=46.86678, lon=-96.45328, height=311)"
   ]
  },
  {
   "cell_type": "markdown",
   "metadata": {},
   "source": [
    "## Identify and Load the Previously Created Settings\n",
    "\n",
    "Use the following cell to identify the previously created settings files."
   ]
  },
  {
   "cell_type": "code",
   "execution_count": null,
   "metadata": {
    "tags": []
   },
   "outputs": [],
   "source": [
    "ps = PhotometrySettings()\n",
    "ps.box"
   ]
  },
  {
   "cell_type": "markdown",
   "metadata": {},
   "source": [
    "Once you have identified the three settings files above, execute the next cell to retrieve the information from the settings files."
   ]
  },
  {
   "cell_type": "code",
   "execution_count": null,
   "metadata": {
    "tags": []
   },
   "outputs": [],
   "source": [
    "##\n",
    "## Retrieve settings from the PhotometrySettings widget here\n",
    "##\n",
    "\n",
    "# The folder containing the images, a '.' means \"the folder this notebook is in\"\n",
    "folder_with_images = ps.image_folder\n",
    "image_directory = Path(folder_with_images)\n",
    "\n",
    "# The file containing the photometry aperture information\n",
    "source_file_name = ps.aperture_locations\n",
    "sources = SourceListData.read(source_file_name)\n",
    "\n",
    "# Retrieve the aperture and annulus settings\n",
    "aperture_settings = ps.aperture_settings\n",
    "\n",
    "# Retrieve the object name here\n",
    "object_name = ps.object_name"
   ]
  },
  {
   "cell_type": "markdown",
   "metadata": {},
   "source": [
    "## Adjust these Settings for this Data"
   ]
  },
  {
   "cell_type": "code",
   "execution_count": null,
   "metadata": {
    "tags": []
   },
   "outputs": [],
   "source": [
    "# The maximum allowed shift in an object position (in pixels) when comparing\n",
    "# predicted positions to re-centroided positions\n",
    "shift_tolerance = 6\n",
    "\n",
    "# An estimate of the FWHM of the PSF in pixels.  Used for settings the size\n",
    "# of the image cutouts used to estimate the FWHM of each photometry source.\n",
    "fwhm_estimate = 5\n",
    "\n",
    "# Set date to UTC date at the start of observations\n",
    "date = ps.ifc.summary[\"date-obs\"][0].split(\"T\")[0]\n",
    "\n",
    "# Enter the name you want to give the photometry data file (it should end in\n",
    "# .ecsv).  This will be saved in the same directory as the images)\n",
    "photometry_file = f\"{object_name}-{date}.ecsv\""
   ]
  },
  {
   "cell_type": "markdown",
   "metadata": {},
   "source": [
    "## Execute the Remaining Cells to Perform the Aperture Photometry and Save Results"
   ]
  },
  {
   "cell_type": "code",
   "execution_count": null,
   "metadata": {
    "tags": []
   },
   "outputs": [],
   "source": [
    "photometry_table = multi_image_photometry(\n",
    "    image_directory,\n",
    "    object_name,\n",
    "    sources,\n",
    "    feder_cg_16m,\n",
    "    feder_obs,\n",
    "    aperture_settings,\n",
    "    shift_tolerance,\n",
    "    include_dig_noise=True,\n",
    "    reject_too_close=True,\n",
    "    reject_background_outliers=True,\n",
    "    passband_map=feder_filters,\n",
    "    fwhm_by_fit=False,\n",
    ")"
   ]
  },
  {
   "cell_type": "code",
   "execution_count": null,
   "metadata": {
    "tags": []
   },
   "outputs": [],
   "source": [
    "photometry_table.write(photometry_file)"
   ]
  },
  {
   "cell_type": "code",
   "execution_count": null,
   "metadata": {
    "tags": []
   },
   "outputs": [],
   "source": [
    "photometry_table"
   ]
  },
  {
   "cell_type": "code",
   "execution_count": null,
   "metadata": {},
   "outputs": [],
   "source": []
  }
 ],
 "metadata": {
  "kernelspec": {
   "display_name": "Python 3 (ipykernel)",
   "language": "python",
   "name": "python3"
  },
  "language_info": {
   "codemirror_mode": {
    "name": "ipython",
    "version": 3
   },
   "file_extension": ".py",
   "mimetype": "text/x-python",
   "name": "python",
   "nbconvert_exporter": "python",
   "pygments_lexer": "ipython3",
   "version": "3.11.7"
  }
 },
 "nbformat": 4,
 "nbformat_minor": 4
}
