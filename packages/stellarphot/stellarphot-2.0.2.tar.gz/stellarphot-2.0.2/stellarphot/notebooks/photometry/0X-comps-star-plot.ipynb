{
 "cells": [
  {
   "cell_type": "code",
   "execution_count": 1,
   "id": "e5ef9308-7aa7-44b4-9510-4aa4f08a388b",
   "metadata": {},
   "outputs": [],
   "source": [
    "import ipywidgets as ipw\n",
    "from astropy.table import Table\n",
    "\n",
    "%matplotlib widget\n",
    "from matplotlib import pyplot as plt\n",
    "import numpy as np\n",
    "from scipy.optimize import curve_fit"
   ]
  },
  {
   "cell_type": "markdown",
   "id": "1c48ee26-1df1-455b-a12f-6387ffaf4f2f",
   "metadata": {},
   "source": [
    "#  You will need to change some values in the cell below "
   ]
  },
  {
   "cell_type": "code",
   "execution_count": 2,
   "id": "380930ba-c708-4202-b0a6-32f70a24c677",
   "metadata": {},
   "outputs": [],
   "source": [
    "comp_locations = Table.read(\"aperture_locations (1).csv\")\n",
    "flux_table = Table.read(\"TIC-467615239-2021-09-28-relative-flux.csv\")"
   ]
  },
  {
   "cell_type": "code",
   "execution_count": 12,
   "id": "7c7503b6-49a2-4585-90b2-c36039a50298",
   "metadata": {},
   "outputs": [],
   "source": [
    "flux_table = flux_table[flux_table[\"filter\"] == \"ip\"]"
   ]
  },
  {
   "cell_type": "code",
   "execution_count": 13,
   "id": "0a32157b-764b-4cc1-8f17-09383762f0ef",
   "metadata": {},
   "outputs": [],
   "source": [
    "present_ids = sorted(set(flux_table[\"star_id\"]))\n",
    "\n",
    "star_type = {sid: desc for sid, desc in comp_locations[\"star_id\", \"marker name\"]}\n",
    "\n",
    "select_multi = ipw.SelectMultiple(\n",
    "    options=[(f\"{sid:3d} {star_type[sid]}\", sid) for sid in present_ids],\n",
    "    description=\"For these objects\",\n",
    ")\n",
    "select_multi.rows = 10\n",
    "\n",
    "columns = sorted(flux_table.colnames)\n",
    "\n",
    "y_axis = ipw.Dropdown(options=columns, description=\"Graph this\")\n",
    "y_axis.value = \"relative_flux\"\n",
    "\n",
    "y_offset = ipw.FloatSlider(min=0, max=1, value=0, step=0.01, description=\"Offset by\")\n",
    "\n",
    "detrend_by = ipw.Dropdown(options=columns, description=\"Detrend by\", value=None)\n",
    "\n",
    "title = ipw.Text(description=\"Title\")"
   ]
  },
  {
   "cell_type": "code",
   "execution_count": 14,
   "id": "97ecc2a2-8625-415c-a06b-29c71abb151c",
   "metadata": {},
   "outputs": [],
   "source": [
    "plt.ioff()\n",
    "\n",
    "fig, ax = plt.subplots()\n",
    "fig.canvas.header_visible = False\n",
    "ax.grid()\n",
    "\n",
    "ax.set_xlabel(\"BJD\")\n",
    "ax.set_ylabel(\"Flux\");"
   ]
  },
  {
   "cell_type": "code",
   "execution_count": 15,
   "id": "9acfca14-6e29-43f6-a844-656baab07e14",
   "metadata": {},
   "outputs": [],
   "source": [
    "def linear_detrend(data, parameter):\n",
    "    def f(x, slope, intercept):\n",
    "        return slope * x + intercept\n",
    "\n",
    "    popt, pcov = curve_fit(f, parameter, data)\n",
    "\n",
    "    return data - popt[0] * parameter"
   ]
  },
  {
   "cell_type": "code",
   "execution_count": 16,
   "id": "4ab6eda3-6f6c-4c7c-912d-1757e7ab731e",
   "metadata": {},
   "outputs": [],
   "source": [
    "def update_plot(change):\n",
    "    ax.lines.clear()\n",
    "    min = 100\n",
    "    max = -100\n",
    "    data_col = y_axis.value\n",
    "    for idx, star_id in enumerate(select_multi.value):\n",
    "        data = flux_table[flux_table[\"star_id\"] == star_id]\n",
    "\n",
    "        norm_flux = data[data_col] / data[data_col].mean()\n",
    "        if detrend_by.value:\n",
    "            print(detrend_by.value)\n",
    "            norm_flux = linear_detrend(norm_flux, data[detrend_by.value])\n",
    "            norm_flux = norm_flux / norm_flux.mean()\n",
    "\n",
    "        norm_flux += y_offset.value * idx\n",
    "\n",
    "        ax.plot(data[\"BJD\"], norm_flux, label=f\"{star_id}\")\n",
    "        # lines[0].set_data(data['BJD'], norm_flux)\n",
    "        ax.set_xlim(data[\"BJD\"].min(), data[\"BJD\"].max())\n",
    "        min = norm_flux.min() if norm_flux.min() < min else min\n",
    "        max = norm_flux.max() if norm_flux.max() > max else max\n",
    "\n",
    "    ax.set_ylim(0.8 * min, 1.1 * max)\n",
    "    ax.set_xlabel(\"BJD\")\n",
    "    ax.set_ylabel(data_col)\n",
    "    if title.value:\n",
    "        ax.set_title(title.value)\n",
    "    ax.legend()\n",
    "    fig.canvas.draw()\n",
    "    fig.canvas.flush_events()"
   ]
  },
  {
   "cell_type": "code",
   "execution_count": 17,
   "id": "b15b13f9-b1f4-4f6e-ba29-b621b714dcd7",
   "metadata": {},
   "outputs": [],
   "source": [
    "vb = ipw.VBox(children=[y_axis, select_multi, y_offset, detrend_by, title])\n",
    "\n",
    "for wid in vb.children:\n",
    "    wid.observe(update_plot, names=\"value\")"
   ]
  },
  {
   "cell_type": "code",
   "execution_count": 18,
   "id": "2a1cc161-ea49-4a42-8943-0873b35de425",
   "metadata": {},
   "outputs": [
    {
     "data": {
      "application/vnd.jupyter.widget-view+json": {
       "model_id": "613f40623c9b486bade243d6debe0e6c",
       "version_major": 2,
       "version_minor": 0
      },
      "text/plain": [
       "AppLayout(children=(VBox(children=(Dropdown(description='Graph this', index=26, options=('BJD', 'Dec', 'RA', '…"
      ]
     },
     "execution_count": 18,
     "metadata": {},
     "output_type": "execute_result"
    }
   ],
   "source": [
    "ipw.AppLayout(\n",
    "    center=fig.canvas, right_sidebar=vb, pane_heights=[0, 6, 1]  # select_multi,\n",
    ")"
   ]
  },
  {
   "cell_type": "code",
   "execution_count": 10,
   "id": "25c2c5ba-ff16-4363-8f3d-f10c3bcf2098",
   "metadata": {},
   "outputs": [],
   "source": [
    "start = 2459910.8122\n",
    "end = 2459910.9032\n",
    "low = 0.8\n",
    "high = 2.0\n",
    "plt.vlines(start, low, high, colors=\"r\", linestyle=\"--\", alpha=0.5)\n",
    "plt.vlines(end, low, high, colors=\"r\", linestyle=\"--\", alpha=0.5)\n",
    "plt.text(\n",
    "    start,\n",
    "    low + 0.0005,\n",
    "    f\"Predicted\\nIngress\\n{start-2400000-int(start - 2400000):.3f}\",\n",
    "    horizontalalignment=\"center\",\n",
    "    c=\"r\",\n",
    ")\n",
    "plt.text(\n",
    "    end,\n",
    "    low + 0.0005,\n",
    "    f\"Predicted\\nEgress\\n{end-2400000-int(end - 2400000):.3f}\",\n",
    "    horizontalalignment=\"center\",\n",
    "    c=\"r\",\n",
    ")\n",
    "fig.canvas.draw()"
   ]
  },
  {
   "cell_type": "code",
   "execution_count": 11,
   "id": "b7a84ba0-c362-4acd-90b4-3079bdd67a9a",
   "metadata": {},
   "outputs": [],
   "source": [
    "ax.set_title(\n",
    "    \"TIC 467615239.01 UT2022.11.27\\n Paul P. Feder Observatory 0.4m (ip filter,120 exp,fap 11-21-26)\"\n",
    ")\n",
    "\n",
    "fig.canvas.draw()"
   ]
  },
  {
   "cell_type": "code",
   "execution_count": null,
   "id": "8f7234c9-2b67-4835-9b9c-1ba075377bd4",
   "metadata": {},
   "outputs": [],
   "source": []
  }
 ],
 "metadata": {
  "kernelspec": {
   "display_name": "Python 3 (ipykernel)",
   "language": "python",
   "name": "python3"
  },
  "language_info": {
   "codemirror_mode": {
    "name": "ipython",
    "version": 3
   },
   "file_extension": ".py",
   "mimetype": "text/x-python",
   "name": "python",
   "nbconvert_exporter": "python",
   "pygments_lexer": "ipython3",
   "version": "3.10.6"
  }
 },
 "nbformat": 4,
 "nbformat_minor": 5
}
