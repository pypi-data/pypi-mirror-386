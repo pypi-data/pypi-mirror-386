{
 "cells": [
  {
   "cell_type": "markdown",
   "id": "36db3d1f-d0d7-413e-ab77-766c6e3d02a1",
   "metadata": {},
   "source": [
    "# Review settings in the widget below before beginning photometry"
   ]
  },
  {
   "cell_type": "code",
   "execution_count": null,
   "id": "3b91d12e-97ae-4d6d-970d-562b6bbfd683",
   "metadata": {},
   "outputs": [],
   "source": [
    "from stellarphot.settings import Camera, LoggingSettings, Observatory, PassbandMap, PhotometryApertures, PhotometryOptionalSettings, SourceLocationSettings\n",
    "from stellarphot.settings.custom_widgets import ReviewSettings\n",
    "review = ReviewSettings([Camera, Observatory, PassbandMap, PhotometryApertures, SourceLocationSettings, PhotometryOptionalSettings, LoggingSettings])\n",
    "review"
   ]
  }
 ],
 "metadata": {
  "kernelspec": {
   "display_name": "Python 3 (ipykernel)",
   "language": "python",
   "name": "python3"
  },
  "language_info": {
   "codemirror_mode": {
    "name": "ipython",
    "version": 3
   },
   "file_extension": ".py",
   "mimetype": "text/x-python",
   "name": "python",
   "nbconvert_exporter": "python",
   "pygments_lexer": "ipython3",
   "version": "3.11.9"
  }
 },
 "nbformat": 4,
 "nbformat_minor": 5
}
