{
 "cells": [
  {
   "cell_type": "markdown",
   "id": "da3cb3d4-b46f-4727-a3a6-e8651ecb3c09",
   "metadata": {},
   "source": [
    "# Photometry run\n",
    "\n",
    "## Run parameters\n",
    "\n",
    "The cell below contains the *default* parameters used to perform the photometry. If any of these have been overwritten they will be added to the cell after this."
   ]
  },
  {
   "cell_type": "code",
   "execution_count": null,
   "id": "84b90fac-d43c-4a40-b1f4-789d4cdb224a",
   "metadata": {
    "editable": true,
    "slideshow": {
     "slide_type": ""
    },
    "tags": [
     "parameters"
    ]
   },
   "outputs": [],
   "source": [
    "# Default parameter values\n",
    "\n",
    "directory_with_images = \"../..\"\n",
    "photometry_settings_file = \"photometry_settings.json\"\n",
    "reject_unmatched = True\n",
    "object_of_interest = None"
   ]
  },
  {
   "cell_type": "markdown",
   "id": "81e5f3b7-9e1b-43b7-89cd-a94f12a9b07b",
   "metadata": {},
   "source": [
    "## Photometry execution"
   ]
  },
  {
   "cell_type": "code",
   "execution_count": null,
   "id": "26572991-8a75-4699-ae7a-88eb881f5a30",
   "metadata": {},
   "outputs": [],
   "source": [
    "from stellarphot.photometry import AperturePhotometry\n",
    "from stellarphot.settings import PhotometryWorkingDirSettings"
   ]
  },
  {
   "cell_type": "markdown",
   "id": "6fca2bea-ef62-4048-b01f-ad1ae498e94e",
   "metadata": {},
   "source": [
    "### Read the photometry settings and create the photometry object."
   ]
  },
  {
   "cell_type": "code",
   "execution_count": null,
   "id": "3b46cde5-38ef-4685-bf74-7147b5fbcdb5",
   "metadata": {},
   "outputs": [],
   "source": [
    "wd_settings = PhotometryWorkingDirSettings(settings_file_name=photometry_settings_file)\n",
    "wd_settings.load()\n",
    "ap_photom = AperturePhotometry(settings=wd_settings.settings)"
   ]
  },
  {
   "cell_type": "markdown",
   "id": "99456043-c437-4eab-ad72-0dfe06c71fb9",
   "metadata": {},
   "source": [
    "### Perform photometry"
   ]
  },
  {
   "cell_type": "code",
   "execution_count": null,
   "id": "41b6d866-d9dd-47a7-bfde-5128799ff572",
   "metadata": {},
   "outputs": [],
   "source": [
    "photometry = ap_photom(\n",
    "    directory_with_images, \n",
    "    reject_unmatched=reject_unmatched, \n",
    "    object_of_interest=object_of_interest\n",
    ")"
   ]
  },
  {
   "cell_type": "markdown",
   "id": "11385e2f-dcf1-4443-8b65-877447311cd4",
   "metadata": {},
   "source": [
    "### Save the photometry"
   ]
  },
  {
   "cell_type": "code",
   "execution_count": null,
   "id": "bcf1709b-79f4-4080-8503-7fffbdb0a756",
   "metadata": {},
   "outputs": [],
   "source": [
    "photometry.write(\"photometry.ecsv\")"
   ]
  },
  {
   "cell_type": "code",
   "execution_count": null,
   "id": "fef9b626-d866-471e-a94a-f49e6579909d",
   "metadata": {},
   "outputs": [],
   "source": []
  }
 ],
 "metadata": {
  "kernelspec": {
   "display_name": "Python 3 (ipykernel)",
   "language": "python",
   "name": "python3"
  },
  "language_info": {
   "codemirror_mode": {
    "name": "ipython",
    "version": 3
   },
   "file_extension": ".py",
   "mimetype": "text/x-python",
   "name": "python",
   "nbconvert_exporter": "python",
   "pygments_lexer": "ipython3",
   "version": "3.11.8"
  }
 },
 "nbformat": 4,
 "nbformat_minor": 5
}
