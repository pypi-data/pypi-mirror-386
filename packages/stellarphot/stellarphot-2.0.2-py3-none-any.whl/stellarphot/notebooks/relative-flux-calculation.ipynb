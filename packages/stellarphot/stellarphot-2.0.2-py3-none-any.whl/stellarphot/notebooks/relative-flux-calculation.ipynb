{
 "cells": [
  {
   "cell_type": "code",
   "execution_count": null,
   "metadata": {
    "tags": []
   },
   "outputs": [],
   "source": [
    "from astropy.coordinates import SkyCoord\n",
    "import astropy.units as u\n",
    "from astropy.table import Table\n",
    "from astropy.time import Time\n",
    "\n",
    "import ipywidgets as ipw\n",
    "\n",
    "import matplotlib.pyplot as plt\n",
    "\n",
    "import numpy as np\n",
    "\n",
    "from stellarphot.differential_photometry.aij_rel_fluxes import add_relative_flux_column\n",
    "from stellarphot.settings.fits_opener import FitsOpener\n",
    "from stellarphot.settings.custom_widgets import Spinner"
   ]
  },
  {
   "cell_type": "markdown",
   "metadata": {},
   "source": [
    "### Choose photometry and aperture files"
   ]
  },
  {
   "cell_type": "code",
   "execution_count": null,
   "metadata": {
    "tags": []
   },
   "outputs": [],
   "source": [
    "fits_openr = FitsOpener(title=\"Select your photometry file\", filter_pattern=[\"*.csv\", \"*.ecsv\"])\n",
    "fits_openr2 = FitsOpener(\n",
    "    title=\"Select your aperture file\", filter_pattern=[\"*.csv\", \"*.fits\", \"*.ecsv\"]\n",
    ")\n",
    "go = ipw.Button(description=\"Add flux column\", disabled=True)\n",
    "prog_box = ipw.HBox()\n",
    "progress_output = ipw.Output()\n",
    "spinner = Spinner()\n",
    "prog_box.children = [spinner, progress_output]\n",
    "\n",
    "def on_click(button):\n",
    "    aperture_file = fits_openr2.path\n",
    "    photometry_file = fits_openr.path\n",
    "    spinner.start()\n",
    "    with progress_output:\n",
    "        add_relative_flux_column(photometry_file, aperture_file, verbose=True)\n",
    "    spinner.stop()\n",
    "\n",
    "def enable_go(change):\n",
    "    if fits_openr.file_chooser.selected_filename and fits_openr2.file_chooser.selected_filename:\n",
    "        go.disabled = False\n",
    "\n",
    "fits_openr.file_chooser.observe(enable_go, names=\"_value\")\n",
    "fits_openr2.file_chooser.observe(enable_go, names=\"_value\")\n",
    "go.on_click(on_click)"
   ]
  },
  {
   "cell_type": "code",
   "execution_count": null,
   "metadata": {
    "tags": []
   },
   "outputs": [],
   "source": [
    "box = ipw.VBox()\n",
    "box.children = [fits_openr.file_chooser, fits_openr2.file_chooser, go, prog_box]\n",
    "box"
   ]
  }
 ],
 "metadata": {
  "kernelspec": {
   "display_name": "Python 3 (ipykernel)",
   "language": "python",
   "name": "python3"
  },
  "language_info": {
   "codemirror_mode": {
    "name": "ipython",
    "version": 3
   },
   "file_extension": ".py",
   "mimetype": "text/x-python",
   "name": "python",
   "nbconvert_exporter": "python",
   "pygments_lexer": "ipython3",
   "version": "3.11.8"
  }
 },
 "nbformat": 4,
 "nbformat_minor": 4
}
