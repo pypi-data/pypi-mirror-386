{
 "cells": [
  {
   "cell_type": "code",
   "execution_count": null,
   "id": "84f2e230-770d-4e7d-8985-1066d787f2ae",
   "metadata": {},
   "outputs": [],
   "source": [
    "from pathlib import Path\n",
    "from collections import defaultdict\n",
    "\n",
    "from IPython.display import Image\n",
    "\n",
    "# Use this to read in a CCD image\n",
    "from astropy.nddata import CCDData\n",
    "\n",
    "# Use this to represent the coordinates of the variable star\n",
    "from astropy.coordinates import SkyCoord\n",
    "\n",
    "# We will use table to read and write tables of data as CSV files (or as FITS)\n",
    "from astropy.table import Table\n",
    "\n",
    "# We will use this to get the APASS stars in the field of view of an image\n",
    "from stellarphot import apass_dr9\n",
    "\n",
    "import requests\n",
    "import pandas as pd\n",
    "import json"
   ]
  },
  {
   "cell_type": "code",
   "execution_count": null,
   "id": "0dc7b9a4-828d-4f81-9368-df02f48a282f",
   "metadata": {},
   "outputs": [],
   "source": [
    "# Star chart parameters\n",
    "var_star_name = \"V0533 Her\"\n",
    "\n",
    "# File for saving comparison star magnitudes in\n",
    "apass_mags_comp_stars = \"apass-V0533-Her.csv\"\n",
    "\n",
    "# You should not need to change these....\n",
    "fov = 40\n",
    "limiting_magnitude = 16"
   ]
  },
  {
   "cell_type": "code",
   "execution_count": null,
   "id": "c5b2d933-078d-4d18-8fba-98531f2734a2",
   "metadata": {},
   "outputs": [],
   "source": [
    "payload = {\n",
    "    \"format\": \"json\",\n",
    "    \"star\": var_star_name,\n",
    "    \"fov\": fov,\n",
    "    \"maglimit\": limiting_magnitude,\n",
    "}\n",
    "\n",
    "r = requests.get(\"https://app.aavso.org/vsp/api/chart\", params=payload)\n",
    "\n",
    "print(r.url)\n",
    "\n",
    "aavso_response = r.json()"
   ]
  },
  {
   "cell_type": "markdown",
   "id": "a88532e6-8d72-47d1-8942-a75e7d39415e",
   "metadata": {},
   "source": [
    "## L:ook at the chart below and decide which star will be your \"check star\"\n",
    "\n",
    "### Write down its label (the 2 or 3 digit number near the star)"
   ]
  },
  {
   "cell_type": "code",
   "execution_count": null,
   "id": "9556a746-4e01-4d20-adfb-008548ed0185",
   "metadata": {},
   "outputs": [],
   "source": [
    "# Chop off the format argument at the end\n",
    "image_uri = aavso_response[\"image_uri\"].split(\"?\")[0]\n",
    "Image(image_uri)"
   ]
  },
  {
   "cell_type": "code",
   "execution_count": null,
   "id": "7af32e82-d57a-43b7-8a36-4c9cda5f0d09",
   "metadata": {},
   "outputs": [],
   "source": [
    "var_coord = SkyCoord(\n",
    "    ra=aavso_response[\"ra\"], dec=aavso_response[\"dec\"], unit=(\"hour\", \"degree\")\n",
    ")"
   ]
  },
  {
   "cell_type": "code",
   "execution_count": null,
   "id": "55b5b042-a11f-4716-8496-64b4cdfd7009",
   "metadata": {},
   "outputs": [],
   "source": [
    "if not aavso_response[\"photometry\"]:\n",
    "    raise RuntimeError(\n",
    "        \"No comparison stars for this variable -- request them from the AAVSO\"\n",
    "    )"
   ]
  },
  {
   "cell_type": "code",
   "execution_count": null,
   "id": "881fec02-448f-46f4-b6d0-4b224c973645",
   "metadata": {},
   "outputs": [],
   "source": [
    "json = json.dumps(aavso_response[\"photometry\"])\n",
    "panda = pd.read_json(json, orient=\"records\")"
   ]
  },
  {
   "cell_type": "code",
   "execution_count": null,
   "id": "a39117f7-72a8-4c8b-88f8-51230815fbe6",
   "metadata": {},
   "outputs": [],
   "source": [
    "panda"
   ]
  },
  {
   "cell_type": "code",
   "execution_count": null,
   "id": "bcd91195-e60f-484b-89a3-4e5ad5a7329b",
   "metadata": {},
   "outputs": [],
   "source": [
    "aavso_comps = Table.from_pandas(panda)"
   ]
  },
  {
   "cell_type": "code",
   "execution_count": null,
   "id": "82efa3de-1f8e-45f8-8700-059f4b55b012",
   "metadata": {},
   "outputs": [],
   "source": [
    "aavso_comps[\"coords\"] = SkyCoord(\n",
    "    ra=aavso_comps[\"ra\"], dec=aavso_comps[\"dec\"], unit=(\"hour\", \"degree\")\n",
    ")"
   ]
  },
  {
   "cell_type": "code",
   "execution_count": null,
   "id": "5902ab0b-ec2b-44a9-bd2c-45b8819ca4d6",
   "metadata": {},
   "outputs": [],
   "source": [
    "apass = apass_dr9(var_coord)\n",
    "\n",
    "apass[\"coords\"] = SkyCoord(\n",
    "    ra=apass[\"RAJ2000\"], dec=apass[\"DEJ2000\"], unit=(\"degree\", \"degree\")\n",
    ")"
   ]
  },
  {
   "cell_type": "markdown",
   "id": "280de335-0dd9-4cf4-86a2-cc7e842d3814",
   "metadata": {},
   "source": [
    "## Match the comp stars to APASS stars\n",
    "\n",
    "One of the columns of the APASS table will be called `coords` and will be a list of coordinate objects. Astropy coordinates have the magical ability to match themselves to the coordinates of another set of coordinates.\n",
    "\n",
    "You could use either the full apass list or the low error one below."
   ]
  },
  {
   "cell_type": "code",
   "execution_count": null,
   "id": "544511b1-2060-4835-b254-a8334aea57ac",
   "metadata": {},
   "outputs": [],
   "source": [
    "index, d2d, _ = aavso_comps[\"coords\"].match_to_catalog_sky(apass[\"coords\"])"
   ]
  },
  {
   "cell_type": "code",
   "execution_count": null,
   "id": "03b527a0-da24-4f0a-b067-4b41497a851c",
   "metadata": {},
   "outputs": [],
   "source": [
    "if (d2d.arcsec > 1.5).any():\n",
    "    raise RuntimeError(\"Coordinate mismatch\")"
   ]
  },
  {
   "cell_type": "code",
   "execution_count": null,
   "id": "e6c5645e-3678-4ccf-b73c-1f48ef42b734",
   "metadata": {},
   "outputs": [],
   "source": [
    "apass_comp_stars = apass[index]"
   ]
  },
  {
   "cell_type": "code",
   "execution_count": null,
   "id": "e0e90de6-9150-4b3e-9909-53bc496bb95b",
   "metadata": {},
   "outputs": [],
   "source": [
    "apass_comp_stars[\"auid\"] = aavso_comps[\"auid\"]\n",
    "apass_comp_stars[\"label\"] = aavso_comps[\"label\"]"
   ]
  },
  {
   "cell_type": "code",
   "execution_count": null,
   "id": "f9af1cab-a3d1-41c9-89c2-1142cddf7561",
   "metadata": {},
   "outputs": [],
   "source": [
    "apass_mag_cols_band_map = dict(Vmag=\"V\", Bmag=\"B\", g_mag=\"SG\", r_mag=\"SR\", i_mag=\"SI\")\n",
    "\n",
    "mag_err_cols = {k: f\"e_{k}\" for k in apass_mag_cols_band_map.keys()}"
   ]
  },
  {
   "cell_type": "code",
   "execution_count": null,
   "id": "1f03d7f3-a632-4ea3-ad1e-eaa87594b6d6",
   "metadata": {},
   "outputs": [],
   "source": [
    "del apass_comp_stars[\"coords\"], apass_comp_stars[\"B-V\"], apass_comp_stars[\"e_B-V\"]"
   ]
  },
  {
   "cell_type": "code",
   "execution_count": null,
   "id": "5ff46e2f-3255-4de5-8db8-25adc0284c3f",
   "metadata": {},
   "outputs": [],
   "source": [
    "constant_cols = (\n",
    "    set(apass_comp_stars.colnames)\n",
    "    - set(apass_mag_cols_band_map.keys())\n",
    "    - set(mag_err_cols.values())\n",
    ")"
   ]
  },
  {
   "cell_type": "code",
   "execution_count": null,
   "id": "40e0c7b4-21e5-4855-a072-ad27d2e3fa0d",
   "metadata": {},
   "outputs": [],
   "source": [
    "rearranged = defaultdict(list)\n",
    "n_bands = len(apass_mag_cols_band_map.keys())\n",
    "\n",
    "for row in apass_comp_stars:\n",
    "    for cc in constant_cols:\n",
    "        rearranged[cc].extend([row[cc]] * n_bands)\n",
    "    for band, band_name in apass_mag_cols_band_map.items():\n",
    "        rearranged[\"band\"].append(band_name)\n",
    "        rearranged[\"mag\"].append(row[band])\n",
    "        rearranged[\"mag_err\"].append(row[mag_err_cols[band]])"
   ]
  },
  {
   "cell_type": "code",
   "execution_count": null,
   "id": "4c2bdfb6-9e18-4bd3-a3bb-22bfd8a2109b",
   "metadata": {},
   "outputs": [],
   "source": [
    "rearranged = Table(rearranged)"
   ]
  },
  {
   "cell_type": "code",
   "execution_count": null,
   "id": "3e70455f-fd7d-4d2b-b59a-bd10bb175329",
   "metadata": {
    "tags": []
   },
   "outputs": [],
   "source": [
    "rearranged"
   ]
  },
  {
   "cell_type": "code",
   "execution_count": null,
   "id": "ba99d38b-9e1c-481a-9d3a-97ee7e15c720",
   "metadata": {},
   "outputs": [],
   "source": [
    "rearranged.write(apass_mags_comp_stars, overwrite=True)"
   ]
  },
  {
   "cell_type": "markdown",
   "id": "2946c4ae-6ecb-4cb6-92a3-37b3b2d4dc41",
   "metadata": {},
   "source": [
    "## Write AAVSO comparison magnitudes (from VSD)"
   ]
  },
  {
   "cell_type": "markdown",
   "id": "c72bca3e-1099-44d2-9d05-2f02202074aa",
   "metadata": {},
   "source": [
    "Use similar logic to `rearranged` code above to get a flat table."
   ]
  },
  {
   "cell_type": "code",
   "execution_count": null,
   "id": "c2edc371-4382-4606-aac9-163f12c00434",
   "metadata": {},
   "outputs": [],
   "source": []
  }
 ],
 "metadata": {
  "kernelspec": {
   "display_name": "Python 3 (ipykernel)",
   "language": "python",
   "name": "python3"
  },
  "language_info": {
   "codemirror_mode": {
    "name": "ipython",
    "version": 3
   },
   "file_extension": ".py",
   "mimetype": "text/x-python",
   "name": "python",
   "nbconvert_exporter": "python",
   "pygments_lexer": "ipython3",
   "version": "3.10.6"
  }
 },
 "nbformat": 4,
 "nbformat_minor": 5
}
