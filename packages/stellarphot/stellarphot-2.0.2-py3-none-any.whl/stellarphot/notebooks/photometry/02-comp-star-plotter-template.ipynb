{
 "cells": [
  {
   "cell_type": "markdown",
   "metadata": {},
   "source": [
    "# Comparison star generator"
   ]
  },
  {
   "cell_type": "code",
   "execution_count": null,
   "metadata": {},
   "outputs": [],
   "source": [
    "from stellarphot.gui_tools.comparison_functions import ComparisonViewer"
   ]
  },
  {
   "cell_type": "markdown",
   "metadata": {},
   "source": [
    "## Change the settings in this cell as needed"
   ]
  },
  {
   "cell_type": "code",
   "execution_count": null,
   "metadata": {},
   "outputs": [],
   "source": [
    "bright_mag_limit = 9\n",
    "dim_mag_limit = 16\n",
    "Cmag = 10\n",
    "\n",
    "# 👉 File to save photometry apertures in\n",
    "apertures_file = \"aperture_locations.ecsv\""
   ]
  },
  {
   "cell_type": "code",
   "execution_count": null,
   "metadata": {},
   "outputs": [],
   "source": [
    "comp_viewer = ComparisonViewer(\n",
    "    directory=\"..\",\n",
    "    target_mag=Cmag,\n",
    "    bright_mag_limit=bright_mag_limit,\n",
    "    dim_mag_limit=dim_mag_limit,\n",
    "    targets_from_file=None,\n",
    "    photom_apertures_file=apertures_file,\n",
    "    overwrite_outputs=True,\n",
    ")\n",
    "comp_viewer.box"
   ]
  },
  {
   "cell_type": "code",
   "execution_count": null,
   "metadata": {},
   "outputs": [],
   "source": []
  }
 ],
 "metadata": {
  "kernelspec": {
   "display_name": "Python 3 (ipykernel)",
   "language": "python",
   "name": "python3"
  },
  "language_info": {
   "codemirror_mode": {
    "name": "ipython",
    "version": 3
   },
   "file_extension": ".py",
   "mimetype": "text/x-python",
   "name": "python",
   "nbconvert_exporter": "python",
   "pygments_lexer": "ipython3",
   "version": "3.11.8"
  }
 },
 "nbformat": 4,
 "nbformat_minor": 4
}
