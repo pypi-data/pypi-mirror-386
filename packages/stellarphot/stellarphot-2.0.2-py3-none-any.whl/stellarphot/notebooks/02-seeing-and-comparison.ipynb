{
 "cells": [
  {
   "cell_type": "markdown",
   "id": "d3515987",
   "metadata": {},
   "source": [
    "# Run the cell below to choose an aperture radius and comparison stars"
   ]
  },
  {
   "cell_type": "code",
   "execution_count": null,
   "id": "713e8c74-240c-453a-a35b-3011f8869435",
   "metadata": {},
   "outputs": [],
   "source": [
    "from stellarphot.gui_tools.profile_and_comps import ComparisonAndSeeing\n",
    "cs = ComparisonAndSeeing()\n",
    "cs"
   ]
  }
 ],
 "metadata": {
  "kernelspec": {
   "display_name": "Python 3 (ipykernel)",
   "language": "python",
   "name": "python3"
  },
  "language_info": {
   "codemirror_mode": {
    "name": "ipython",
    "version": 3
   },
   "file_extension": ".py",
   "mimetype": "text/x-python",
   "name": "python",
   "nbconvert_exporter": "python",
   "pygments_lexer": "ipython3",
   "version": "3.11.9"
  }
 },
 "nbformat": 4,
 "nbformat_minor": 5
}
