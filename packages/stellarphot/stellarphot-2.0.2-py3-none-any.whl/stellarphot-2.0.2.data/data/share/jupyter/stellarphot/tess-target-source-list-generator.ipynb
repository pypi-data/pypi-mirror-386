{
 "cells": [
  {
   "cell_type": "markdown",
   "id": "f1d03e0a-6c5b-47ab-ad74-1b64c681cdc9",
   "metadata": {},
   "source": [
    "# Run the cell below to generate an input source list for a TESS target"
   ]
  },
  {
   "cell_type": "code",
   "execution_count": null,
   "id": "642c448e-905e-4417-8551-e7153cd1357a",
   "metadata": {},
   "outputs": [],
   "source": [
    "from stellarphot.settings.custom_widgets import TessPhotometrySetup\n",
    "tps = TessPhotometrySetup()\n",
    "tps"
   ]
  },
  {
   "cell_type": "code",
   "execution_count": null,
   "id": "482092d2-3d91-4120-9d78-03f7dc36617a",
   "metadata": {},
   "outputs": [],
   "source": []
  }
 ],
 "metadata": {
  "kernelspec": {
   "display_name": "Python 3 (ipykernel)",
   "language": "python",
   "name": "python3"
  },
  "language_info": {
   "codemirror_mode": {
    "name": "ipython",
    "version": 3
   },
   "file_extension": ".py",
   "mimetype": "text/x-python",
   "name": "python",
   "nbconvert_exporter": "python",
   "pygments_lexer": "ipython3",
   "version": "3.11.9"
  }
 },
 "nbformat": 4,
 "nbformat_minor": 5
}
