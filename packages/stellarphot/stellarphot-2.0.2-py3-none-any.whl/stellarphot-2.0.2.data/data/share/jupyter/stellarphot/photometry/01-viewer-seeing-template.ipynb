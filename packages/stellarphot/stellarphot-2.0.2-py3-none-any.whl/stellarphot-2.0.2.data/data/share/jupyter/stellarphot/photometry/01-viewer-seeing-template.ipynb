{
 "cells": [
  {
   "cell_type": "markdown",
   "metadata": {},
   "source": [
    "# Seeing profile and aperture settings\n",
    "\n",
    "This notebook lets you measure the *seeing profile* of a star, which is essentially the size of a star in the image.\n",
    "\n",
    "\n",
    "## Instructions\n",
    "\n",
    "Select an image and a camera.\n",
    "\n",
    "Shift-click on a star to calculate its seeing file and choose aperture settings"
   ]
  },
  {
   "cell_type": "markdown",
   "metadata": {
    "tags": []
   },
   "source": [
    "# The cell below displays the viewer\n",
    "\n",
    "+ Left-click and drag to pan\n",
    "+ Use the +/- keys to zoom in/out\n",
    "+ Shift-click to select star and display profile"
   ]
  },
  {
   "cell_type": "code",
   "execution_count": null,
   "metadata": {},
   "outputs": [],
   "source": [
    "from stellarphot.gui_tools.seeing_profile_functions import SeeingProfileWidget\n",
    "seeing_profile = SeeingProfileWidget(width=400)\n",
    "seeing_profile.box"
   ]
  },
  {
   "cell_type": "code",
   "execution_count": null,
   "metadata": {},
   "outputs": [],
   "source": []
  }
 ],
 "metadata": {
  "kernelspec": {
   "display_name": "Python 3 (ipykernel)",
   "language": "python",
   "name": "python3"
  },
  "language_info": {
   "codemirror_mode": {
    "name": "ipython",
    "version": 3
   },
   "file_extension": ".py",
   "mimetype": "text/x-python",
   "name": "python",
   "nbconvert_exporter": "python",
   "pygments_lexer": "ipython3",
   "version": "3.11.9"
  }
 },
 "nbformat": 4,
 "nbformat_minor": 4
}
