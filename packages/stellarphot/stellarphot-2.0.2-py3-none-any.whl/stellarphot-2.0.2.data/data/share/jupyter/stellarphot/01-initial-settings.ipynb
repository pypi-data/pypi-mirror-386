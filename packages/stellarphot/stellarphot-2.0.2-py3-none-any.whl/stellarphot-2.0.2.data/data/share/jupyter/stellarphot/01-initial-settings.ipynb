{
 "cells": [
  {
   "cell_type": "markdown",
   "id": "f25dc64e-e0b9-4673-b806-ef0e1f53f84c",
   "metadata": {},
   "source": [
    "# Run the cell below and enter information about your camera and observatory"
   ]
  },
  {
   "cell_type": "code",
   "execution_count": null,
   "id": "3a7f0b18-4509-474e-b42e-a69edd22913b",
   "metadata": {},
   "outputs": [],
   "source": [
    "from stellarphot.settings import Camera, Observatory, PassbandMap\n",
    "from stellarphot.settings.custom_widgets import ReviewSettings\n",
    "review = ReviewSettings([Camera, Observatory, PassbandMap])\n",
    "review"
   ]
  }
 ],
 "metadata": {
  "kernelspec": {
   "display_name": "Python 3 (ipykernel)",
   "language": "python",
   "name": "python3"
  },
  "language_info": {
   "codemirror_mode": {
    "name": "ipython",
    "version": 3
   },
   "file_extension": ".py",
   "mimetype": "text/x-python",
   "name": "python",
   "nbconvert_exporter": "python",
   "pygments_lexer": "ipython3",
   "version": "3.11.9"
  }
 },
 "nbformat": 4,
 "nbformat_minor": 5
}
