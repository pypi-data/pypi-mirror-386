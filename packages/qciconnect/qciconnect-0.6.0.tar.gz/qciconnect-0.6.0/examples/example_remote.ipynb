{
 "cells": [
  {
   "cell_type": "code",
   "execution_count": null,
   "id": "2d6380b4-296a-4a41-a992-0dff11b9e86a",
   "metadata": {},
   "outputs": [],
   "source": [
    "# Configuration for auto-completion\n",
    "%config Completer.use_jedi = False\n",
    "%config Completer.greedy = True\n",
    "\n",
    "# Enable test mode for CI pipeline\n",
    "import sys\n",
    "if len(sys.argv) == 2 and sys.argv[1] == \"test\":\n",
    "    test_mode = True\n",
    "    server = \"https://qc-plat-sta.dlr.de/\"\n",
    "else:\n",
    "    test_mode = False\n",
    "    server = \"https://qc-plat-pro.dlr.de/\"\n"
   ]
  },
  {
   "cell_type": "code",
   "execution_count": null,
   "id": "1d0dda97-097d-4378-aa68-9e16548fab31",
   "metadata": {},
   "outputs": [],
   "source": [
    "import time\n",
    "from qciconnect import Client\n",
    "\n",
    "# Load environment variables for logging in to QCI Connect\n",
    "# Insert your personal access token below. (You need to create it on the QCI Connect website on your account page.)\n",
    "token=%env CI_QCICONNECT_TOKEN"
   ]
  },
  {
   "cell_type": "code",
   "execution_count": null,
   "id": "ea7cad88-277b-4551-8f26-1691484a9804",
   "metadata": {},
   "outputs": [],
   "source": [
    "client = Client(token=token, server=server)"
   ]
  },
  {
   "cell_type": "code",
   "execution_count": null,
   "id": "5426b10a-991f-4026-b196-215fe16ffc2b",
   "metadata": {},
   "outputs": [],
   "source": [
    "client.qpus.show()"
   ]
  },
  {
   "cell_type": "code",
   "execution_count": null,
   "id": "b308a6be-a217-4a8e-b0ab-951fc5626fae",
   "metadata": {},
   "outputs": [],
   "source": [
    "client.qpus.xq1i.show()"
   ]
  },
  {
   "cell_type": "markdown",
   "id": "6b3f80e5-fc69-4e06-972f-b15c11e32f0d",
   "metadata": {},
   "source": [
    "## Compile Job Submission"
   ]
  },
  {
   "cell_type": "code",
   "execution_count": null,
   "id": "c18d671e-152a-4ad7-8663-2c86be466632",
   "metadata": {},
   "outputs": [],
   "source": [
    "circuit = \"\"\"OPENQASM 3.0;\n",
    "include \"stdgates.inc\";\n",
    "qubit[2] q;\n",
    "h q[0];\n",
    "cx q[0], q[1];\"\"\""
   ]
  },
  {
   "cell_type": "code",
   "execution_count": null,
   "id": "4bd8d549-5ec1-4d6c-b241-a413970b37e9",
   "metadata": {},
   "outputs": [],
   "source": [
    "result = client.methods.transpilation_qiskit_compiler({\"circuit\": circuit})"
   ]
  },
  {
   "cell_type": "code",
   "execution_count": null,
   "id": "4735dc34-6292-4698-a5f0-4cd29031c81d",
   "metadata": {},
   "outputs": [],
   "source": [
    "print(result.compiled_circuit)"
   ]
  },
  {
   "cell_type": "code",
   "execution_count": null,
   "id": "943d0951-c49a-41b5-9428-f15021ef04f4",
   "metadata": {},
   "outputs": [],
   "source": [
    "result = client.methods.transpilation_qiskit_compiler({\"circuit\": circuit}, {\n",
    "      \"qubit_connectivity\": [[0,1]],\n",
    "      \"gate_set\": [\"h\", \"x\", \"cz\"],\n",
    "      \"optimization_level\": 2\n",
    "    })"
   ]
  },
  {
   "cell_type": "code",
   "execution_count": null,
   "id": "11104e2c-75ab-4fd2-a12f-86d509b17df7",
   "metadata": {},
   "outputs": [],
   "source": [
    "print(result.compiled_circuit)"
   ]
  },
  {
   "cell_type": "markdown",
   "id": "ef7a4673-21b7-42c6-9b15-1ab40622c0e3",
   "metadata": {},
   "source": [
    "## Non-blocking compile job submission"
   ]
  },
  {
   "cell_type": "code",
   "execution_count": null,
   "id": "13797366-6f77-4eed-86cf-1e52a2344b98",
   "metadata": {},
   "outputs": [],
   "source": [
    "promise = client.methods.transpilation_qiskit_compiler({\"circuit\": circuit}, wait_for_results=False)\n"
   ]
  },
  {
   "cell_type": "code",
   "execution_count": null,
   "id": "af41bd47-50e9-4ad3-9ebf-fc45921f0462",
   "metadata": {},
   "outputs": [],
   "source": [
    "if test_mode:\n",
    "    print(\"Waiting in test mode for job to complete...\")\n",
    "    time.sleep(5)\n",
    "    \n",
    "result = promise.result"
   ]
  },
  {
   "cell_type": "code",
   "execution_count": null,
   "id": "7fc6c9bf-b2bb-43cb-a90d-5b61b45a40bd",
   "metadata": {},
   "outputs": [],
   "source": [
    "print(result.compiled_circuit)"
   ]
  },
  {
   "cell_type": "markdown",
   "id": "c6d3e73a-f43a-4757-b349-e6abed6f4442",
   "metadata": {},
   "source": [
    "## Retrieve result by job ID"
   ]
  },
  {
   "cell_type": "code",
   "execution_count": null,
   "id": "49199514-61a0-42af-99c8-04c3ee50f628",
   "metadata": {},
   "outputs": [],
   "source": [
    "result = client.results[promise.job_id]"
   ]
  },
  {
   "cell_type": "code",
   "execution_count": null,
   "id": "564ad733-8d0b-4671-abd5-1b477d07b62f",
   "metadata": {},
   "outputs": [],
   "source": [
    "print(result.compiled_circuit)"
   ]
  },
  {
   "cell_type": "markdown",
   "id": "068c5e76-0522-4c6b-877c-9ab5a86809af",
   "metadata": {},
   "source": [
    "## QPU Job Submission"
   ]
  },
  {
   "cell_type": "code",
   "execution_count": null,
   "id": "6320a3b1-51f3-46a4-8dec-078abbd609f4",
   "metadata": {},
   "outputs": [],
   "source": [
    "client.qpus.show()"
   ]
  },
  {
   "cell_type": "code",
   "execution_count": null,
   "id": "5c2bc468-d61f-4dc8-9532-140ab4eb051d",
   "metadata": {},
   "outputs": [],
   "source": [
    "result = client.qpus.statevector_simulator.submit(circuit, primitive=\"sampling\", shots=10, name=\"API Demonstration\", comment=\"Submit algorithm X with parameters YZ\")"
   ]
  },
  {
   "cell_type": "code",
   "execution_count": null,
   "id": "af1acb37-1ad2-4644-9aa3-f9cd0ca29cd7",
   "metadata": {},
   "outputs": [],
   "source": [
    "print(result.data)"
   ]
  },
  {
   "cell_type": "markdown",
   "id": "dfbcbf52-5e0e-4b27-bf59-24f5678629a2",
   "metadata": {},
   "source": [
    "## Non-blocking QPU job submission"
   ]
  },
  {
   "cell_type": "code",
   "execution_count": null,
   "id": "78519bcb-e367-4d76-825e-7ff0f841f95d",
   "metadata": {},
   "outputs": [],
   "source": [
    "promise = client.qpus.statevector_simulator.submit(circuit, primitive=\"quantum_state\", shots=10, wait_for_results=False, name=\"API Demonstration\", comment=\"Submit algorithm X with parameters YZ\")\n"
   ]
  },
  {
   "cell_type": "code",
   "execution_count": null,
   "id": "a4c8fb6a-bb7c-42ff-a7bf-b9fa28f45d30",
   "metadata": {},
   "outputs": [],
   "source": [
    "if test_mode:\n",
    "    print(\"Waiting in test mode for job to complete...\")\n",
    "    time.sleep(5)\n",
    "    \n",
    "result = promise.result\n",
    "print(result.data)"
   ]
  },
  {
   "cell_type": "code",
   "execution_count": null,
   "id": "0ede4921-d3b0-429a-aa46-39cdce47bf79",
   "metadata": {},
   "outputs": [],
   "source": [
    "if not test_mode:\n",
    "    promise = client.qpus.saxonq_4qb_rt.submit(circuit, \"sampling\", name=\"Default circuit on SaxonQ machine\", shots=600000, wait_for_results=False)\n",
    "    "
   ]
  },
  {
   "cell_type": "code",
   "execution_count": null,
   "id": "b98e00c2-cafa-4349-9440-bbd95e79e320",
   "metadata": {},
   "outputs": [],
   "source": [
    "if not test_mode:\n",
    "    result = promise.result"
   ]
  },
  {
   "cell_type": "code",
   "execution_count": null,
   "id": "84ff9a1c-3d6b-472a-abc9-44a2ce9ad18b",
   "metadata": {},
   "outputs": [],
   "source": [
    "print(result.data)"
   ]
  }
 ],
 "metadata": {
  "kernelspec": {
   "display_name": "Python 3 (ipykernel)",
   "language": "python",
   "name": "python3"
  },
  "language_info": {
   "codemirror_mode": {
    "name": "ipython",
    "version": 3
   },
   "file_extension": ".py",
   "mimetype": "text/x-python",
   "name": "python",
   "nbconvert_exporter": "python",
   "pygments_lexer": "ipython3",
   "version": "3.12.7"
  }
 },
 "nbformat": 4,
 "nbformat_minor": 5
}
