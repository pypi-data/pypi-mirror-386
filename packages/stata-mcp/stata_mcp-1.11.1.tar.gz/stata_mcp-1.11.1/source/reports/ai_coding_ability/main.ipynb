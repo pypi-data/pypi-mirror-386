{
 "cells": [
  {
   "metadata": {
    "ExecuteTime": {
     "end_time": "2025-08-31T09:29:14.424386Z",
     "start_time": "2025-08-31T09:29:14.421907Z"
    }
   },
   "cell_type": "code",
   "source": [
    "# if you want to make a figure about it, you should install matplotlib.\n",
    "# !uv pip install matplotlib"
   ],
   "id": "a0713a5ab359ed99",
   "outputs": [],
   "execution_count": 1
  },
  {
   "cell_type": "code",
   "id": "initial_id",
   "metadata": {
    "collapsed": true,
    "ExecuteTime": {
     "end_time": "2025-08-31T09:29:15.804880Z",
     "start_time": "2025-08-31T09:29:14.741696Z"
    }
   },
   "source": [
    "import pandas as pd\n",
    "from matplotlib import pyplot as plt\n"
   ],
   "outputs": [],
   "execution_count": 2
  },
  {
   "metadata": {
    "ExecuteTime": {
     "end_time": "2025-08-31T09:29:25.542219Z",
     "start_time": "2025-08-31T09:29:15.813331Z"
    }
   },
   "cell_type": "code",
   "source": [
    "# Load datasets\n",
    "df = pd.read_parquet(\"hf://datasets/open-llm-leaderboard/contents@main/data/train-00000-of-00001.parquet\")\n"
   ],
   "id": "66afc8b4a318545a",
   "outputs": [
    {
     "name": "stderr",
     "output_type": "stream",
     "text": [
      "/Users/sepinetam/Documents/Github/stata-mcp/.venv/lib/python3.11/site-packages/tqdm/auto.py:21: TqdmWarning: IProgress not found. Please update jupyter and ipywidgets. See https://ipywidgets.readthedocs.io/en/stable/user_install.html\n",
      "  from .autonotebook import tqdm as notebook_tqdm\n"
     ]
    }
   ],
   "execution_count": 3
  },
  {
   "metadata": {
    "ExecuteTime": {
     "end_time": "2025-08-31T09:29:28.907175Z",
     "start_time": "2025-08-31T09:29:28.900383Z"
    }
   },
   "cell_type": "code",
   "source": [
    "# Process date type in data\n",
    "df['Upload to Hub Date'] = pd.to_datetime(df['Submission Date'])\n"
   ],
   "id": "e5274e3736cbb2b5",
   "outputs": [],
   "execution_count": 4
  },
  {
   "metadata": {},
   "cell_type": "code",
   "source": [
    "# Set plot style\n",
    "plt.style.use(\"ggplot\")\n",
    "plt.figure(figsize=(12, 6))\n",
    "\n",
    "# Plot\n",
    "plt.scatter(df[\"Upload to Hub Date\"], df[\"Average ⬆\\uFE0F\"])\n",
    "plt.title(\"The Average Ability of LLMs\")\n",
    "plt.xlabel(\"Upload Date\")\n",
    "plt.ylabel(\"LLMs' Average Score\")\n",
    "plt.gcf().autofmt_xdate()\n",
    "\n",
    "# Save figure\n",
    "plt.savefig(\"./ability.png\")\n"
   ],
   "id": "fc32b8df08eccdf6",
   "outputs": [],
   "execution_count": null
  }
 ],
 "metadata": {
  "kernelspec": {
   "display_name": "Python 3",
   "language": "python",
   "name": "python3"
  },
  "language_info": {
   "codemirror_mode": {
    "name": "ipython",
    "version": 2
   },
   "file_extension": ".py",
   "mimetype": "text/x-python",
   "name": "python",
   "nbconvert_exporter": "python",
   "pygments_lexer": "ipython2",
   "version": "2.7.6"
  }
 },
 "nbformat": 4,
 "nbformat_minor": 5
}
