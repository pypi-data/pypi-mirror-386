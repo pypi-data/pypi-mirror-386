{
 "cells": [
  {
   "cell_type": "code",
   "execution_count": 1,
   "id": "25145122",
   "metadata": {},
   "outputs": [],
   "source": [
    "import peepomap\n"
   ]
  },
  {
   "cell_type": "code",
   "execution_count": 2,
   "id": "6a00b72d",
   "metadata": {},
   "outputs": [],
   "source": [
    "greys = peepomap.create_linear(\"white\", \"grey\", name=\"Greys\")\n",
    "greens = peepomap.create_linear(\"lightgreen\", \"green\", name=\"Greens\")\n",
    "blues = peepomap.create_linear(\"lightblue\", \"darkblue\", name=\"Blues\")\n",
    "goldens = peepomap.create_linear(\"lightyellow\", \"darkgoldenrod\", name=\"Goldens\")\n",
    "reds = peepomap.create_linear(\"pink\", \"darkred\", name=\"Reds\")\n",
    "purples = peepomap.create_linear(\"indigo\", \"plum\", name=\"Purples\")\n",
    "pinks = peepomap.create_linear(\"lightpink\", \"darkmagenta\", name=\"Pinks\")\n",
    "cyans = peepomap.create_linear(\"lightcyan\", \"darkcyan\", name=\"Cyans\")\n",
    "\n",
    "tria = peepomap.concat(\n",
    "    greys,\n",
    "    greens,\n",
    "    blues,\n",
    "    goldens,\n",
    "    reds,\n",
    "    pinks,\n",
    "    cyans,\n",
    "    name=\"Tria\",\n",
    "    blend=0.45,\n",
    ")\n"
   ]
  },
  {
   "cell_type": "code",
   "execution_count": null,
   "id": "ea10f450",
   "metadata": {},
   "outputs": [
    {
     "data": {
      "text/plain": [
       "ColormapInfo(name='Tria', colors=[[1.0, 1.0, 1.0], [0.9003921568627451, 0.9003921568627451, 0.9003921568627451], [0.7753940792003076, 0.7753940792003076, 0.7753940792003076], [0.6757862360630527, 0.6757862360630527, 0.6757862360630527], [0.5507881584006151, 0.5507881584006151, 0.5507881584006151], [0.5089324618736384, 0.5498910675381263, 0.5089324618736384], [0.5228758169934641, 0.6457516339869281, 0.5228758169934641], [0.5403050108932462, 0.7655773420479303, 0.5403050108932462], [0.5577342047930284, 0.8854030501089325, 0.5577342047930284], [0.5381314878892733, 0.913033448673587, 0.5381314878892733], [0.396401384083045, 0.8047673971549404, 0.396401384083045], [0.2546712802768166, 0.6965013456362937, 0.2546712802768166], [0.13951557093425607, 0.6085351787773933, 0.13951557093425607], [0.0, 0.5019607843137255, 0.0], [0.15076252723311548, 0.5786492374727669, 0.20043572984749455], [0.30152505446623096, 0.6553376906318082, 0.4008714596949891], [0.48997821350762527, 0.7511982570806099, 0.6514161220043573], [0.6784313725490196, 0.8470588235294118, 0.9019607843137255], [0.5720107650903499, 0.7141868512110726, 0.8459823144944252], [0.39375624759707806, 0.49162629757785464, 0.7522183775470972], [0.21284121491733948, 0.26574394463667816, 0.6570549788542868], [0.06917339484813534, 0.08636678200692044, 0.5814840445982314], [0.1111111111111111, 0.1111111111111111, 0.5821350762527232], [0.3888888888888889, 0.3888888888888889, 0.6747276688453159], [0.6111111111111112, 0.6111111111111112, 0.74880174291939], [0.8888888888888888, 0.8888888888888888, 0.8413943355119825], [0.9716109188773548, 0.9516186082276048, 0.7932641291810842], [0.9126489811610919, 0.8511341791618607, 0.6163783160322953], [0.8384006151480201, 0.7245982314494426, 0.39363321799307965], [0.779438677431757, 0.6241138023836985, 0.21674740484429064], [0.7215686274509804, 0.5254901960784314, 0.043137254901960784], [0.7989106753812636, 0.5886710239651416, 0.2522875816993464], [0.8607843137254902, 0.6392156862745098, 0.41960784313725485], [0.9381263616557735, 0.7023965141612201, 0.6287581699346405], [1.0, 0.7529411764705882, 0.796078431372549], [0.9054517493271819, 0.5964475201845444, 0.6306189926951172], [0.7841445597846981, 0.39566320645905423, 0.41833141099577087], [0.6646212995001922, 0.19783160322952711, 0.20916570549788543], [0.5682891195693963, 0.03838523644752018, 0.04058439061899266], [0.6209150326797386, 0.11895424836601307, 0.1261437908496732], [0.747276688453159, 0.3172113289760348, 0.3363834422657952], [0.8483660130718954, 0.47581699346405226, 0.5045751633986928], [0.9747276688453159, 0.674074074074074, 0.7148148148148148], [0.928642829680892, 0.6017685505574779, 0.7236447520184544], [0.832310649750096, 0.45062668204536716, 0.6788004613610149], [0.7127873894655901, 0.2630988081507113, 0.6231603229527104], [0.5914801999231065, 0.07277201076509038, 0.5666897347174163], [0.5636165577342047, 0.05555555555555555, 0.5703703703703703], [0.6562091503267973, 0.3333333333333333, 0.6967320261437908], [0.74880174291939, 0.6111111111111112, 0.8230936819172113], [0.8228758169934641, 0.8333333333333334, 0.9241830065359478], [0.8336485966935794, 0.9768089196462899, 0.9768089196462899], [0.6028450595924644, 0.8572856593617839, 0.8572856593617839], [0.4168242983467897, 0.760953479430988, 0.760953479430988], [0.18257593233371777, 0.6396462898885044, 0.6396462898885044], [0.0, 0.5450980392156862, 0.5450980392156862]], cmap_type='sequential', description='', tags=set())"
      ]
     },
     "execution_count": 4,
     "metadata": {},
     "output_type": "execute_result"
    }
   ],
   "source": [
    "peepomap.export(tria, n=56)\n"
   ]
  },
  {
   "cell_type": "code",
   "execution_count": null,
   "id": "76bb093f",
   "metadata": {},
   "outputs": [
    {
     "data": {
      "image/png": "[encoded data removed]",
      "text/html": [
       "<div style=\"vertical-align: middle;\"><strong>Tria</strong> </div><div class=\"cmap\"><img alt=\"Tria colormap\" title=\"Tria\" style=\"border: 1px solid #555;\" src=\"data:image/png;base64,iVBORw0KGgoAAAANSUhEUgAAAgAAAABACAYAAABsv8+/AAAAE3RFWHRUaXRsZQBUcmlhIGNvbG9ybWFwwinKUwAAABl0RVh0RGVzY3JpcHRpb24AVHJpYSBjb2xvcm1hcEmbWssAAAAwdEVYdEF1dGhvcgBNYXRwbG90bGliIHYzLjguNCwgaHR0cHM6Ly9tYXRwbG90bGliLm9yZ2TOsrQAAAAydEVYdFNvZnR3YXJlAE1hdHBsb3RsaWIgdjMuOC40LCBodHRwczovL21hdHBsb3RsaWIub3JnSmgtkwAAA0pJREFUeJzt1tt2qkgUBdBSwUTN7f9/M/EC3vqhdtkD2pPR3a97zpeVXQJBBF2L+/1+L6WUcRxLKaWcz+fy2zwMw6/5f48zXz9f6va3ciullHIt18ncsnQ1Fv2i/rGezo98meX6P86R9+W95uL+dG7neRpPv+YwDv9qu/E8TnK4DNP5PPx6vLbeLeuFee12T3PT5v4P623u30oppWz7j1JKKbv1R8zvde4/Jq9v4/VdvN7WX1b1eOehXq+x5Wk6nw71Pjj8RH7XPP7M1h+vj8+335/jeJdZTtfv1/o5LpelZtxWq8i2/vnZT/Lrazp/fNR8e6s36Pt7N5lbtu3m+z8yXu+6ej361W0211yU+r6v47GUUsrlfIg5MubLsI/8jvx5no/9j5P9/z5e/J/Z8efbr1bbOM9dnHe9f7o2P3Ib228m2S0ju9n2s+P0Ma/a9rPjtPNY3OoHOJ7qeZ6PkbN5PNTrNOzr9Rh+ao772XpsN7Z5P53HQ70O4/Hw9P+NMS/jxlp19b5Y9fVzX3bx+a/r8/uy20W+Tedtndfb+j7Xm7jum/r+16+byfyP/du8jev7Ure71ceiXC+Lp/NlvMX7qjmeYo7nuK0Ph3iu4zkb9tfZ+vX5+my+XuL7tka53eN7uY7lXurcf77U/FpP53l+PV9fx3r3Vvfv3vvpHLna1fXF6yoyviAec80hfq++4/ftJ37v2vwd86Fl/F7uI9t6mx/Hme3f1vez4/wp42wBgEwUAABISAEAgIQUAABISAEAgIQUAABISAEAgIQUAABISAEAgIQUAABISAEAgIQUAABISAEAgIQUAABISAEAgIQUAABISAEAgIQUAABISAEAgIQUAABISAEAgIQUAABISAEAgIQUAABISAEAgIQUAABISAEAgIQUAABISAEAgIQUAABISAEAgIQUAABISAEAgIQUAABISAEAgIQUAABISAEAgIQUAABISAEAgIQUAABISAEAgIQUAABISAEAgIQUAABISAEAgIQUAABISAEAgIQUAABISAEAgIQUAABISAEAgIQUAABISAEAgIQUAABISAEAgIQUAABISAEAgIQUAABISAEAgIQUAABISAEAgIQUAABISAEAgIT+AprioaSKUtoxAAAAAElFTkSuQmCC\"></div><div style=\"vertical-align: middle; max-width: 514px; display: flex; justify-content: space-between;\"><div style=\"float: left;\"><div title=\"#ffffffff\" style=\"display: inline-block; width: 1em; height: 1em; margin: 0; vertical-align: middle; border: 1px solid #555; background-color: #ffffffff;\"></div> under</div><div style=\"margin: 0 auto; display: inline-block;\">bad <div title=\"#00000000\" style=\"display: inline-block; width: 1em; height: 1em; margin: 0; vertical-align: middle; border: 1px solid #555; background-color: #00000000;\"></div></div><div style=\"float: right;\">over <div title=\"#008b8bff\" style=\"display: inline-block; width: 1em; height: 1em; margin: 0; vertical-align: middle; border: 1px solid #555; background-color: #008b8bff;\"></div></div>"
      ],
      "text/plain": [
       "<matplotlib.colors.LinearSegmentedColormap at 0x78fe62605a90>"
      ]
     },
     "execution_count": 6,
     "metadata": {},
     "output_type": "execute_result"
    }
   ],
   "source": [
    "peepomap.get(\"Tria\")"
   ]
  },
  {
   "cell_type": "code",
   "execution_count": null,
   "id": "bf90073a",
   "metadata": {},
   "outputs": [],
   "source": []
  }
 ],
 "metadata": {
  "kernelspec": {
   "display_name": "meteo-stack",
   "language": "python",
   "name": "python3"
  },
  "language_info": {
   "codemirror_mode": {
    "name": "ipython",
    "version": 3
   },
   "file_extension": ".py",
   "mimetype": "text/x-python",
   "name": "python",
   "nbconvert_exporter": "python",
   "pygments_lexer": "ipython3",
   "version": "3.12.3"
  }
 },
 "nbformat": 4,
 "nbformat_minor": 5
}
