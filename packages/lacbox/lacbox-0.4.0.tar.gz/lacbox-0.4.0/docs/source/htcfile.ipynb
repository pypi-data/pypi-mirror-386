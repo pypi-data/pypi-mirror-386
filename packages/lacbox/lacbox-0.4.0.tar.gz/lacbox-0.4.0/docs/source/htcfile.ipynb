{
 "cells": [
  {
   "cell_type": "markdown",
   "metadata": {},
   "source": [
    "# Manipulating htc files\n",
    "\n",
    "The lacbox includes a class to manipulate HTCFiles, so you can easily load, change and save them. Here is a quick demonstration of how you use it."
   ]
  },
  {
   "cell_type": "code",
   "execution_count": null,
   "metadata": {},
   "outputs": [],
   "source": [
    "from pathlib import Path\n",
    "import matplotlib.pyplot as plt\n",
    "import numpy as np\n",
    "from lacbox.htc import HTCFile\n",
    "from lacbox.test import test_data_path\n",
    "\n",
    "modelpath = Path(test_data_path) / 'dtu_10_mw'\n",
    "fname =  modelpath / 'DTU_10MW_RWT.htc'"
   ]
  },
  {
   "cell_type": "markdown",
   "metadata": {},
   "source": [
    "## Load the contents of the file into an HTCFile object"
   ]
  },
  {
   "cell_type": "code",
   "execution_count": null,
   "metadata": {},
   "outputs": [],
   "source": [
    "htc = HTCFile(fname, modelpath=modelpath)"
   ]
  },
  {
   "cell_type": "markdown",
   "metadata": {},
   "source": [
    "## Examine some fields\n",
    "\n",
    "You can access fields in different blocks of the htc files using the dot notation. The base class is the HTCLine object, note that if you want access to the values you should use the `values` attribute."
   ]
  },
  {
   "cell_type": "code",
   "execution_count": null,
   "metadata": {},
   "outputs": [],
   "source": [
    "htc.simulation.logfile"
   ]
  },
  {
   "cell_type": "code",
   "execution_count": null,
   "metadata": {},
   "outputs": [],
   "source": [
    "htc.simulation.logfile.values"
   ]
  },
  {
   "cell_type": "markdown",
   "metadata": {},
   "source": [
    "In the case of multiply defined blocks (e.g., the `fix1` block in the `new_htc_structure.constraint` block), the sub-blocks will have `__2`, `__3`, etc., appended to them.\n",
    "\n",
    "Here is an example where we print all of the sub-blocks in the `new_htc_structure.constraint` block. Note how the multiples of `fix1` and `bearing1` constraint have been renamed."
   ]
  },
  {
   "cell_type": "code",
   "execution_count": null,
   "metadata": {},
   "outputs": [],
   "source": [
    "htc.new_htc_structure.constraint.keys()"
   ]
  },
  {
   "cell_type": "markdown",
   "metadata": {},
   "source": [
    "If the multiply defined blocks have names (e.g., the `main_body` blocks in the `new_htc_structure` block), you can isolate a sub-block of interest via the `get_subsection_by_name()` method, which is part of the `HTCSection` class."
   ]
  },
  {
   "cell_type": "code",
   "execution_count": null,
   "metadata": {},
   "outputs": [],
   "source": [
    "blade1_main_body = htc.new_htc_structure.get_subsection_by_name('blade1')\n",
    "blade1_main_body.nbodies"
   ]
  },
  {
   "cell_type": "markdown",
   "metadata": {},
   "source": [
    "## Update some fields\n",
    "\n",
    "Here is how we can update some fields in the file. The most important step is to use the `set_name` method at the end to update the file names in the logfile and output blocks."
   ]
  },
  {
   "cell_type": "code",
   "execution_count": null,
   "metadata": {},
   "outputs": [],
   "source": [
    "htc.wind.wsp = 12"
   ]
  },
  {
   "cell_type": "code",
   "execution_count": null,
   "metadata": {},
   "outputs": [],
   "source": [
    "htc.set_time(start=50, stop=75)"
   ]
  },
  {
   "cell_type": "code",
   "execution_count": null,
   "metadata": {},
   "outputs": [],
   "source": [
    "htc.set_name('demo.htc')"
   ]
  },
  {
   "cell_type": "markdown",
   "metadata": {},
   "source": [
    "## Save the file\n",
    "\n",
    "When we're done manipulating the file, we save it."
   ]
  },
  {
   "cell_type": "code",
   "execution_count": null,
   "metadata": {},
   "outputs": [],
   "source": [
    "outpath = './dtu10mw_DEMO.htc'"
   ]
  },
  {
   "cell_type": "code",
   "execution_count": null,
   "metadata": {},
   "outputs": [],
   "source": [
    "htc.save(outpath)"
   ]
  },
  {
   "cell_type": "markdown",
   "metadata": {},
   "source": []
  }
 ],
 "metadata": {
  "kernelspec": {
   "display_name": "Python 3 (ipykernel)",
   "language": "python",
   "name": "python3"
  },
  "language_info": {
   "codemirror_mode": {
    "name": "ipython",
    "version": 3
   },
   "file_extension": ".py",
   "mimetype": "text/x-python",
   "name": "python",
   "nbconvert_exporter": "python",
   "pygments_lexer": "ipython3",
   "version": "3.7.3"
  }
 },
 "nbformat": 4,
 "nbformat_minor": 2
}
