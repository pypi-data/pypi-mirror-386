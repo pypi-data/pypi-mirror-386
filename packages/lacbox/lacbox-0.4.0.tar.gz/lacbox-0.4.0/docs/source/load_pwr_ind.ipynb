{
 "cells": [
  {
   "cell_type": "markdown",
   "metadata": {},
   "source": [
    "# PWR- and IND-files\n",
    "Demo to load and plot the HAWC2 .pwr and .ind output files."
   ]
  },
  {
   "cell_type": "code",
   "execution_count": null,
   "metadata": {},
   "outputs": [],
   "source": [
    "from lacbox.io import load_pwr, load_ind, load_inds\n",
    "from lacbox.test import test_data_path\n",
    "import matplotlib.pyplot as plt"
   ]
  },
  {
   "cell_type": "markdown",
   "metadata": {},
   "source": [
    "## Loading and plotting a .pwr file (`load_pwr`)"
   ]
  },
  {
   "cell_type": "code",
   "execution_count": null,
   "metadata": {},
   "outputs": [],
   "source": [
    "# Path for the file\n",
    "pwr_path = test_data_path+\"/DTU_10MW_RWT.pwr\"\n",
    "# Load the data\n",
    "pwr_data = load_pwr(pwr_path)\n",
    "# Print the names in the dict\n",
    "pwr_data.keys()"
   ]
  },
  {
   "cell_type": "markdown",
   "metadata": {},
   "source": [
    "Plot the power, thrust, $C_P$ and $C_T$"
   ]
  },
  {
   "cell_type": "code",
   "execution_count": null,
   "metadata": {},
   "outputs": [],
   "source": [
    "fig, axs = plt.subplots(2, 2)\n",
    "\n",
    "# Power\n",
    "axs[0, 0].plot(pwr_data[\"Speed_rpm\"], pwr_data[\"P_kW\"])\n",
    "axs[0, 0].set_ylabel(\"Power [kW]\")\n",
    "# Thrust\n",
    "axs[0, 1].plot(pwr_data[\"Speed_rpm\"], pwr_data[\"T_kN\"])\n",
    "axs[0, 1].set_ylabel(\"Thrust [kN]\")\n",
    "# CP\n",
    "axs[1, 0].plot(pwr_data[\"Speed_rpm\"], pwr_data[\"Cp\"])\n",
    "axs[1, 0].set_xlabel(\"Rotor-speed $\\omega$ [m/s]\")\n",
    "axs[1, 0].set_ylabel(\"Power-Coefficient $C_P$ [-]\")\n",
    "# CT\n",
    "axs[1, 1].plot(pwr_data[\"Speed_rpm\"], pwr_data[\"Ct\"])\n",
    "axs[1, 1].set_xlabel(\"Rotor-speed $\\omega$ [m/s]\")\n",
    "axs[1, 1].set_ylabel(\"Thrust-Coefficient $C_T$ [-]\")\n",
    "\n",
    "fig.tight_layout()"
   ]
  },
  {
   "cell_type": "markdown",
   "metadata": {},
   "source": [
    "## Loading and plotting a .ind file (`load_ind`)"
   ]
  },
  {
   "cell_type": "code",
   "execution_count": null,
   "metadata": {},
   "outputs": [],
   "source": [
    "# Path for the file\n",
    "ind_path = test_data_path+\"/DTU_10MW_RWT_u8000.ind\"\n",
    "# Load the data\n",
    "ind_data = load_ind(ind_path)\n",
    "# Print the names in the dict\n",
    "ind_data.keys()"
   ]
  },
  {
   "cell_type": "markdown",
   "metadata": {},
   "source": [
    "Plotting axial-induction ($a$), tangential-induction ($a_p$), $C_l$, $C_d$, local-$C_P$ and local-$C_T$ as a function of span"
   ]
  },
  {
   "cell_type": "code",
   "execution_count": null,
   "metadata": {},
   "outputs": [],
   "source": [
    "fig, axs = plt.subplots(3, 2)\n",
    "\n",
    "# a\n",
    "axs[0, 0].plot(ind_data[\"s_m\"], ind_data[\"a\"])\n",
    "axs[0, 0].set_ylabel(\"ax.-ind. ($a$) [-]\")\n",
    "# ap\n",
    "axs[0, 1].plot(ind_data[\"s_m\"], ind_data[\"ap\"])\n",
    "axs[0, 1].set_ylabel(\"tan.-ind. ($a_p$) [-]\")\n",
    "# Cl\n",
    "axs[1, 0].plot(ind_data[\"s_m\"], ind_data[\"Cl\"])\n",
    "axs[1, 0].set_ylabel(\"$C_l$ [-]\")\n",
    "# Cd\n",
    "axs[1, 1].plot(ind_data[\"s_m\"], ind_data[\"Cd\"])\n",
    "axs[1, 1].set_ylabel(\"$C_d$ [-]\")\n",
    "# CP\n",
    "axs[2, 0].plot(ind_data[\"s_m\"], ind_data[\"CP\"])\n",
    "axs[2, 0].set_ylabel(\"Blade-span ($s$) [m]\")\n",
    "axs[2, 0].set_ylabel(\"local-$C_P$ [-]\")\n",
    "# CP\n",
    "axs[2, 1].plot(ind_data[\"s_m\"], ind_data[\"CT\"])\n",
    "axs[2, 1].set_ylabel(\"Blade-span ($s$) [m]\")\n",
    "axs[2, 1].set_ylabel(\"local-$C_T$ [-]\")\n",
    "\n",
    "fig.tight_layout()"
   ]
  },
  {
   "cell_type": "markdown",
   "metadata": {},
   "source": [
    "## Loading and plotting multiple .ind files (`load_inds`)"
   ]
  },
  {
   "cell_type": "code",
   "execution_count": null,
   "metadata": {},
   "outputs": [],
   "source": [
    "# Path for the file\n",
    "inds_path = test_data_path+\"/DTU_10MW_RWT_u800%d.ind\"\n",
    "# Load the data\n",
    "inds_data = load_inds([inds_path%i for i in range(7)])\n",
    "# Print the names in the dict\n",
    "print(inds_data.keys())\n",
    "# Print shape\n",
    "inds_data[\"s_m\"].shape"
   ]
  },
  {
   "cell_type": "code",
   "execution_count": null,
   "metadata": {},
   "outputs": [],
   "source": [
    "fig, axs = plt.subplots(3, 2, figsize=(6.4, 7))\n",
    "\n",
    "labels = [\"%1.2f\"%val for val in pwr_data[\"Speed_rpm\"]]\n",
    "# a\n",
    "axs[0, 0].plot(inds_data[\"s_m\"], inds_data[\"a\"], label=labels)\n",
    "axs[0, 0].set_ylabel(\"ax. ind. ($a$) [-]\")\n",
    "# ap\n",
    "axs[0, 1].plot(inds_data[\"s_m\"], inds_data[\"ap\"], label=labels)\n",
    "axs[0, 1].set_ylabel(\"tan. ind. ($a_p$) [-]\")\n",
    "# Cl\n",
    "axs[1, 0].plot(inds_data[\"s_m\"], inds_data[\"Cl\"], label=labels)\n",
    "axs[1, 0].set_ylabel(\"$C_l$ [-]\")\n",
    "# Cd\n",
    "axs[1, 1].plot(inds_data[\"s_m\"], inds_data[\"Cd\"], label=labels)\n",
    "axs[1, 1].set_ylabel(\"$C_d$ [-]\")\n",
    "axs[1, 1].legend(title=r\"$\\omega$ [rpm]\", ncol=2)\n",
    "# CP\n",
    "axs[2, 0].plot(inds_data[\"s_m\"], inds_data[\"CP\"], label=labels)\n",
    "axs[2, 0].set_ylabel(\"Blade-span ($s$) [m]\")\n",
    "axs[2, 0].set_ylabel(\"local-$C_P$ [-]\")\n",
    "# CP\n",
    "axs[2, 1].plot(inds_data[\"s_m\"], inds_data[\"CT\"], label=labels)\n",
    "axs[2, 1].set_ylabel(\"Blade-span ($s$) [m]\")\n",
    "axs[2, 1].set_ylabel(\"local-$C_T$ [-]\")\n",
    "\n",
    "fig.tight_layout()"
   ]
  },
  {
   "cell_type": "markdown",
   "metadata": {},
   "source": []
  }
 ],
 "metadata": {
  "kernelspec": {
   "display_name": "Python 3 (ipykernel)",
   "language": "python",
   "name": "python3"
  },
  "language_info": {
   "codemirror_mode": {
    "name": "ipython",
    "version": 3
   },
   "file_extension": ".py",
   "mimetype": "text/x-python",
   "name": "python",
   "nbconvert_exporter": "python",
   "pygments_lexer": "ipython3",
   "version": "3.7.3"
  },
  "vscode": {
   "interpreter": {
    "hash": "deb47b2e2014642bfbab3a8cd5dac78b7082e632e943a64158996f0b4c697279"
   }
  }
 },
 "nbformat": 4,
 "nbformat_minor": 2
}
