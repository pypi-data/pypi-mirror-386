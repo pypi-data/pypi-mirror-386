{
 "cells": [
  {
   "cell_type": "markdown",
   "metadata": {},
   "source": [
    "# CMB and AMP files\n",
    "\n",
    "Demo to load and plot the Campbell diagram (`.cmb`) and modal amplitude (`.amp`) files."
   ]
  },
  {
   "cell_type": "code",
   "execution_count": null,
   "metadata": {},
   "outputs": [],
   "source": [
    "from lacbox.io import load_cmb, load_amp\n",
    "from lacbox.vis import plot_amp\n",
    "from lacbox.test import test_data_path\n",
    "import matplotlib.pyplot as plt"
   ]
  },
  {
   "cell_type": "markdown",
   "metadata": {},
   "source": [
    "## Loading and plotting a .cmb file"
   ]
  },
  {
   "cell_type": "code",
   "execution_count": null,
   "metadata": {},
   "outputs": [],
   "source": [
    "# Path to the .cmb file\n",
    "cmb_path = test_data_path + '/dtu_10mw_structural.cmb'\n",
    "cmb_type = \"structural\"\n",
    "\n",
    "# Load the data\n",
    "wsp, dfreqs, zetas = load_cmb(cmb_path, cmb_type)  # wind speed, damped natural freqs, and damping values\n",
    "\n",
    "# print the shape\n",
    "dfreqs.shape  # n_wsp x n_modes"
   ]
  },
  {
   "cell_type": "markdown",
   "metadata": {},
   "source": [
    "Plot the frequencies and damping versus wind speed."
   ]
  },
  {
   "cell_type": "code",
   "execution_count": null,
   "metadata": {},
   "outputs": [],
   "source": [
    "nmodes = dfreqs.shape[1]  # get number of modes\n",
    "mode_names = [f'Mode {i}' for i in range(1, nmodes+1)]  # list of mode shape names\n",
    "\n",
    "fig, axs = plt.subplots(1, 2, figsize=(9, 4.5))\n",
    "\n",
    "# left plot: damped nat freqs in ground-fixed frame\n",
    "axs[0].plot(wsp, dfreqs, marker='.')\n",
    "axs[0].set(xlabel='Wind speed [m/s]', ylabel='Damped nat. frequencies [Hz]')\n",
    "axs[0].grid()\n",
    "\n",
    "# right plot: percent criticl damping\n",
    "lines = axs[1].plot(wsp, zetas, marker='.')\n",
    "axs[1].set(xlabel='Wind speed [m/s]', ylabel='Modal damping [% critical]')\n",
    "axs[1].grid()\n",
    "\n",
    "# add legend with 6 columns in center\n",
    "fig.legend(loc='outside upper center', handles=lines, labels=mode_names, ncols=6)\n",
    "\n",
    "fig.tight_layout(rect=[0, 0, 1, 0.9])"
   ]
  },
  {
   "cell_type": "markdown",
   "metadata": {},
   "source": [
    "## Loading and plotting an amp file"
   ]
  },
  {
   "cell_type": "code",
   "execution_count": null,
   "metadata": {},
   "outputs": [],
   "source": [
    "# Path to the .amp file\n",
    "amp_path = test_data_path + '/dtu_10mw_structural.amp'\n",
    "\n",
    "# Load the modal amplitudes\n",
    "amp_df = load_amp(amp_path)\n",
    "\n",
    "print(amp_df.index)\n",
    "amp_df.head()"
   ]
  },
  {
   "cell_type": "markdown",
   "metadata": {},
   "source": [
    "Each row in `amp_df` corresponds to a wind speed, except for the last row, which identifies the mode shape index. Each column corresponds to the amplitude/phase of a given component for a given mode shape.\n",
    "\n",
    "We visualize the modal amplitudes for each mode shape at a wind speed of interest via a helper function in `lacbox.vis`."
   ]
  },
  {
   "cell_type": "code",
   "execution_count": null,
   "metadata": {},
   "outputs": [],
   "source": [
    "wsp = 11.0  # choose a wind speed\n",
    "\n",
    "fig, ax = plot_amp(amp_df, mode_names, wsp, title=f'DTU 10 MW structural modal amplitudes at {wsp:.0f} m/s')"
   ]
  },
  {
   "cell_type": "markdown",
   "metadata": {},
   "source": []
  }
 ],
 "metadata": {
  "kernelspec": {
   "display_name": "Python 3",
   "language": "python",
   "name": "python3"
  },
  "language_info": {
   "codemirror_mode": {
    "name": "ipython",
    "version": 3
   },
   "file_extension": ".py",
   "mimetype": "text/x-python",
   "name": "python",
   "nbconvert_exporter": "python",
   "pygments_lexer": "ipython3",
   "version": "3.10.12"
  },
  "orig_nbformat": 4
 },
 "nbformat": 4,
 "nbformat_minor": 2
}
