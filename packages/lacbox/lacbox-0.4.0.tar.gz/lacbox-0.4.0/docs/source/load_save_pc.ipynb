{
 "cells": [
  {
   "cell_type": "markdown",
   "metadata": {},
   "source": [
    "# PC-file\n",
    "Demo to show how to load, modify and save a pc file."
   ]
  },
  {
   "cell_type": "code",
   "execution_count": null,
   "metadata": {},
   "outputs": [],
   "source": [
    "from lacbox.io import load_pc, save_pc\n",
    "from lacbox.test import test_data_path\n",
    "import numpy as np\n",
    "import matplotlib.pyplot as plt"
   ]
  },
  {
   "cell_type": "markdown",
   "metadata": {},
   "source": [
    "## Load a PC-file (`load_pc`)"
   ]
  },
  {
   "cell_type": "code",
   "execution_count": null,
   "metadata": {},
   "outputs": [],
   "source": [
    "pc_path = test_data_path + '/dtu_10_mw/data/DTU_10MW_RWT_pc.dat'\n",
    "pc_data = load_pc(pc_path)\n",
    "print(f\"Number of profiles: len(pc_data)={len(pc_data)}\")\n",
    "print(f\"Profile keys: pc_data[i].keys()={pc_data[0].keys()}\")"
   ]
  },
  {
   "cell_type": "markdown",
   "metadata": {},
   "source": [
    "## Modify the data"
   ]
  },
  {
   "cell_type": "code",
   "execution_count": null,
   "metadata": {},
   "outputs": [],
   "source": [
    "# Removing first profile element\n",
    "pc_data = pc_data[1:]\n",
    "# Interpolating for a new aoa grid (very course)\n",
    "aoa_deg_new = np.linspace(-180, 180, 20)\n",
    "for iprof, prof in enumerate(pc_data):\n",
    "    pc_data[iprof][\"cl\"] = np.interp(aoa_deg_new, prof[\"aoa_deg\"], prof[\"cl\"])\n",
    "    pc_data[iprof][\"cd\"] = np.interp(aoa_deg_new, prof[\"aoa_deg\"], prof[\"cd\"])\n",
    "    pc_data[iprof][\"cm\"] = np.interp(aoa_deg_new, prof[\"aoa_deg\"], prof[\"cm\"])\n",
    "    pc_data[iprof][\"aoa_deg\"] = aoa_deg_new"
   ]
  },
  {
   "cell_type": "markdown",
   "metadata": {},
   "source": [
    "## Save the modified PC file (`save_pc`)"
   ]
  },
  {
   "cell_type": "code",
   "execution_count": null,
   "metadata": {},
   "outputs": [],
   "source": [
    "# Saving a single set\n",
    "pc_path = \"DTU_10MW_RWT_pc_DEMO.dat\"\n",
    "save_pc(pc_path, pc_data)\n",
    "# Saving multiple sets (dummy with the same set twice)\n",
    "save_pc(pc_path, [pc_data, pc_data])"
   ]
  },
  {
   "cell_type": "markdown",
   "metadata": {},
   "source": [
    "## Visualize the data"
   ]
  },
  {
   "cell_type": "code",
   "execution_count": null,
   "metadata": {},
   "outputs": [],
   "source": [
    "# Reload the data from the original pc file\n",
    "pc_path = test_data_path + '/dtu_10_mw/data/DTU_10MW_RWT_pc.dat'\n",
    "pc_data_org = load_pc(pc_path)\n",
    "\n",
    "# Create figure\n",
    "fig, axs = plt.subplots(3, 1, figsize=(7, 6))\n",
    "\n",
    "# Plotting interpolated data\n",
    "for iprof, prof in enumerate(pc_data):\n",
    "    axs[0].plot(prof[\"aoa_deg\"], prof[\"cl\"], color=f\"C{iprof}\", label=f\"{prof['tc']:2.1f}\")\n",
    "    axs[1].plot(prof[\"aoa_deg\"], prof[\"cd\"], color=f\"C{iprof}\", label=f\"{prof['tc']:2.1f}\")\n",
    "    axs[2].plot(prof[\"aoa_deg\"], prof[\"cm\"], color=f\"C{iprof}\", label=f\"{prof['tc']:2.1f}\")\n",
    "\n",
    "# Plotting original data\n",
    "for iprof, prof in enumerate(pc_data_org[1:]):\n",
    "    axs[0].plot(prof[\"aoa_deg\"], prof[\"cl\"], \"--\", color=f\"C{iprof}\", label=f\"{prof['tc']:2.1f}\")\n",
    "    axs[1].plot(prof[\"aoa_deg\"], prof[\"cd\"], \"--\", color=f\"C{iprof}\", label=f\"{prof['tc']:2.1f}\")\n",
    "    axs[2].plot(prof[\"aoa_deg\"], prof[\"cm\"], \"--\", color=f\"C{iprof}\", label=f\"{prof['tc']:2.1f}\")\n",
    "\n",
    "# Adding legend and axis labels\n",
    "axs[1].legend(loc=\"right\", title=\"(interp) $t/c$ (original)\", ncol=2, framealpha=1)\n",
    "axs[0].set_ylabel(\"$C_l$ [-]\")\n",
    "axs[1].set_ylabel(\"$C_d$ [-]\")\n",
    "axs[2].set_ylabel(\"$C_m$ [-]\")\n",
    "axs[2].set_xlabel(r\"Angle-Of-Attack ($\\alpha$) [deg]\")\n",
    "fig.tight_layout()"
   ]
  },
  {
   "cell_type": "code",
   "execution_count": null,
   "metadata": {},
   "outputs": [],
   "source": []
  }
 ],
 "metadata": {
  "kernelspec": {
   "display_name": "Python 3 (ipykernel)",
   "language": "python",
   "name": "python3"
  },
  "language_info": {
   "codemirror_mode": {
    "name": "ipython",
    "version": 3
   },
   "file_extension": ".py",
   "mimetype": "text/x-python",
   "name": "python",
   "nbconvert_exporter": "python",
   "pygments_lexer": "ipython3",
   "version": "3.7.3"
  },
  "vscode": {
   "interpreter": {
    "hash": "deb47b2e2014642bfbab3a8cd5dac78b7082e632e943a64158996f0b4c697279"
   }
  }
 },
 "nbformat": 4,
 "nbformat_minor": 2
}
