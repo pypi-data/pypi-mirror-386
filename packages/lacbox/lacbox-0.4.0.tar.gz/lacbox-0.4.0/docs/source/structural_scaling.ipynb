{
 "cells": [
  {
   "cell_type": "markdown",
   "id": "ddd296d6",
   "metadata": {},
   "source": [
    "# Scaling structural data\n",
    "\n",
    "This notebook shows how to apply scaling for a baseline HAWC2 ST-data set, using the `lacbox.rotor_design.scale_ST_data` method. "
   ]
  },
  {
   "cell_type": "code",
   "execution_count": null,
   "id": "dcbef2f7",
   "metadata": {},
   "outputs": [],
   "source": [
    "# Loading modules\n",
    "import matplotlib.pyplot as plt\n",
    "from lacbox.io import load_st, save_st\n",
    "from lacbox.rotor_design import scale_ST_data\n",
    "\n",
    "# Only used for importing baseline data - !! use your own baseline data !!\n",
    "import os\n",
    "from lacbox.test import test_data_path"
   ]
  },
  {
   "cell_type": "markdown",
   "id": "99c586e7",
   "metadata": {},
   "source": [
    "Below the documentation for `lacbox.rotor_design.scale_ST_data` method is shown."
   ]
  },
  {
   "cell_type": "code",
   "execution_count": null,
   "id": "0762bf8e",
   "metadata": {},
   "outputs": [],
   "source": [
    "help(scale_ST_data)"
   ]
  },
  {
   "cell_type": "markdown",
   "id": "80d729d8",
   "metadata": {},
   "source": [
    "## *Example*: DTU 10MW turbine\n",
    "Below an example of how to apply scaling of DTU 10 MW turbine ST-data is shown. The scale-factor is a dummy value and is only demonstrating how it works."
   ]
  },
  {
   "cell_type": "code",
   "execution_count": null,
   "id": "b45769a1",
   "metadata": {},
   "outputs": [],
   "source": [
    "# Scaling factor\n",
    "R_old = 89.16\n",
    "R_new = 100  # !! Dummy value for the example !!\n",
    "scale_factor = R_new / R_old\n",
    "\n",
    "print(f\"Scale factor: R_new/R_old = {scale_factor:1.2f}\")"
   ]
  },
  {
   "cell_type": "markdown",
   "id": "dab15309",
   "metadata": {},
   "source": [
    "Loading baseline DTU 10MW ST-data"
   ]
  },
  {
   "cell_type": "code",
   "execution_count": null,
   "id": "8a0e36fa",
   "metadata": {},
   "outputs": [],
   "source": [
    "path_st_file_DTU10MW = os.path.join(test_data_path, \"dtu_10_mw\", \"data\", \"DTU_10MW_RWT_Blade_st.dat\")\n",
    "st_data_DTU10MW = load_st(path_st_file_DTU10MW, 0, 0)  # Baseline data"
   ]
  },
  {
   "cell_type": "markdown",
   "id": "e7a05840",
   "metadata": {},
   "source": [
    "Applying the scaling"
   ]
  },
  {
   "cell_type": "code",
   "execution_count": null,
   "id": "b63931c1",
   "metadata": {},
   "outputs": [],
   "source": [
    "st_data_scaled = scale_ST_data(st_data_DTU10MW, scale_factor)"
   ]
  },
  {
   "cell_type": "markdown",
   "id": "cf8aa130",
   "metadata": {},
   "source": [
    "Plotting some of the ST-data and comparing it with the baseline."
   ]
  },
  {
   "cell_type": "code",
   "execution_count": null,
   "id": "5f6720d2",
   "metadata": {},
   "outputs": [],
   "source": [
    "# Plotting m, x_cg, I_x\n",
    "fig, axs = plt.subplots(3, 1, figsize=(7, 6))\n",
    "# m_d\n",
    "ax = axs[0]\n",
    "ax.plot(st_data_scaled[\"s\"], st_data_scaled[\"m\"], label=\"scaled\")\n",
    "ax.plot(st_data_DTU10MW[\"s\"], st_data_DTU10MW[\"m\"], label=\"DTU 10MW\")\n",
    "ax.set_ylabel(\"$m$ [kg/m]\")\n",
    "ax.grid()\n",
    "# I_x\n",
    "ax = axs[1]\n",
    "ax.plot(st_data_scaled[\"s\"], st_data_scaled[\"x_cg\"], label=\"scaled\")\n",
    "ax.plot(st_data_DTU10MW[\"s\"], st_data_DTU10MW[\"x_cg\"], label=\"DTU 10MW\")\n",
    "ax.set_ylabel(\"$x_{xg}$ [m]\")\n",
    "ax.grid()\n",
    "ax.legend()\n",
    "# I_y\n",
    "ax = axs[2]\n",
    "ax.plot(st_data_scaled[\"s\"], st_data_scaled[\"I_x\"], label=\"scaled\")\n",
    "ax.plot(st_data_DTU10MW[\"s\"], st_data_DTU10MW[\"I_x\"], label=\"DTU 10MW\")\n",
    "ax.set_ylabel(\"$I_x$ [m$^4$]\")\n",
    "ax.set_xlabel(\"Curve length $r$ [m]\")\n",
    "ax.grid()\n",
    "\n",
    "fig.tight_layout()"
   ]
  },
  {
   "cell_type": "markdown",
   "id": "5be5812c",
   "metadata": {},
   "source": [
    "Plotting the relative change for the same metrics."
   ]
  },
  {
   "cell_type": "code",
   "execution_count": null,
   "id": "14d61ad4",
   "metadata": {},
   "outputs": [],
   "source": [
    "# Plotting relative change in m, I_x, I_y, I_p (using normalized span)\n",
    "fig, axs = plt.subplots(3, 1, figsize=(7, 6))\n",
    "# m_d\n",
    "ax = axs[0]\n",
    "ax.plot(st_data_scaled[\"s\"]/st_data_scaled[\"s\"][-1], (1-st_data_DTU10MW[\"m\"]/st_data_scaled[\"m\"])*100, \"k\")\n",
    "ax.set_ylabel(\"$\\Delta m$ [\\%]\")\n",
    "ax.grid()\n",
    "# I_x\n",
    "ax = axs[1]\n",
    "ax.plot(st_data_scaled[\"s\"]/st_data_scaled[\"s\"][-1], (1-st_data_DTU10MW[\"x_cg\"]/st_data_scaled[\"x_cg\"])*100, \"k\")\n",
    "ax.set_ylabel(\"$\\Delta x_{cg}$ [\\%]\")\n",
    "ax.grid()\n",
    "# I_y\n",
    "ax = axs[2]\n",
    "ax.plot(st_data_scaled[\"s\"]/st_data_scaled[\"s\"][-1], (1-st_data_DTU10MW[\"I_x\"]/st_data_scaled[\"I_x\"])*100, \"k\")\n",
    "ax.set_ylabel(\"$\\Delta I_x$ [\\%]\")\n",
    "ax.set_xlabel(r\"Relative Curve length ($\\tilde{r}$) [-]\")\n",
    "ax.grid()\n",
    "\n",
    "fig.tight_layout()"
   ]
  }
 ],
 "metadata": {
  "kernelspec": {
   "display_name": ".env",
   "language": "python",
   "name": "python3"
  },
  "language_info": {
   "codemirror_mode": {
    "name": "ipython",
    "version": 3
   },
   "file_extension": ".py",
   "mimetype": "text/x-python",
   "name": "python",
   "nbconvert_exporter": "python",
   "pygments_lexer": "ipython3",
   "version": "3.10.16"
  }
 },
 "nbformat": 4,
 "nbformat_minor": 5
}
