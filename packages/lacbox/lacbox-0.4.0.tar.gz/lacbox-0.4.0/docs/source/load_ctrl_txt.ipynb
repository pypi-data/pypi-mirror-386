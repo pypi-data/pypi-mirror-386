{
 "cells": [
  {
   "cell_type": "markdown",
   "metadata": {},
   "source": [
    "# Load a HAWC2S ctrl_tuning.txt\n",
    "\n",
    "HAWC2S/HAWCStab2 can be used to tune the gains for the torque and pitch PI controllers as implemented in the DTU WEC controller. These gains, along with related intermediate values, are saved in a file that ends with `_ctrl_tuning.txt`. The `lacbox` contains a function `load_ctrl_txt()` that allows you to load the data in a `_ctrl_tuning.txt` into a Python dictionary. Here is a demonstration of the usage of the function plus some quick analysis of the contents of `_ctrl_tuning.txt`."
   ]
  },
  {
   "cell_type": "code",
   "execution_count": null,
   "metadata": {},
   "outputs": [],
   "source": [
    "from pathlib import Path\n",
    "import matplotlib.pyplot as plt\n",
    "from lacbox.io import load_ctrl_txt\n",
    "from lacbox.test import test_data_path\n",
    "\n",
    "fname = Path(test_data_path) / 'dtu_10mw_hawc2s_ctrltune_ctrl_tuning.txt'"
   ]
  },
  {
   "cell_type": "markdown",
   "metadata": {},
   "source": [
    "## Load the controller tuning to a dictionary"
   ]
  },
  {
   "cell_type": "code",
   "execution_count": null,
   "metadata": {},
   "outputs": [],
   "source": [
    "ctrltune_dict = load_ctrl_txt(fname)"
   ]
  },
  {
   "cell_type": "markdown",
   "metadata": {},
   "source": [
    "## Print keys in the dictionary\n",
    "\n",
    "The dictionary contains a series of floats, each corresponding to a given line in the original `_ctrl_tune.txt`, and finally a pandas Dataframe `aero_gains` with the aerodynamic gains.\n"
   ]
  },
  {
   "cell_type": "code",
   "execution_count": null,
   "metadata": {},
   "outputs": [],
   "source": [
    "# print the keys\n",
    "print('DICTIONARY KEYS:\\n---------------------')\n",
    "[print(s) for s in ctrltune_dict.keys()]\n",
    "print('\\nAERO_GAINS KEYS:\\n---------------------')\n",
    "[print(s) for s in ctrltune_dict['aero_gains'].columns];"
   ]
  },
  {
   "cell_type": "markdown",
   "metadata": {},
   "source": [
    "## Plot the aerodynamic gains and fit\n",
    "\n",
    "As part of the controller-tuning process, HAWC2S/HAWCStab2 need to fit polynomials to the aerodynamic gains $dQ/d\\theta$ and $dQ/d\\Omega$. We can do a quick visualization of the \"true\" aerodynamic gains calculated by HAWC2S/HAWCStab2 and the resulting polynomial fit."
   ]
  },
  {
   "cell_type": "code",
   "execution_count": null,
   "metadata": {},
   "outputs": [],
   "source": [
    "fig, axs = plt.subplots(2, 1, figsize=(7, 4.5))\n",
    "\n",
    "aero_gains_df = ctrltune_dict['aero_gains']\n",
    "\n",
    "axs[0].plot(aero_gains_df['dq/dtheta_kNm/deg'], c='k', marker='o',\n",
    "            linestyle='none', mfc='none', label='True gain')\n",
    "axs[0].plot(aero_gains_df['fit_kNm/deg'], c='C0', marker='x', label='Polynomial fit')\n",
    "\n",
    "axs[1].plot(aero_gains_df['dq/domega_kNm/(rad/s)'], c='k', marker='o', linestyle='none', mfc='none')\n",
    "axs[1].plot(aero_gains_df['fit_kNm/(rad/s)'], c='C0', marker='x')\n",
    "\n",
    "axs[0].set(ylabel='$dQ/d\\theta$\\n[kNm/deg]')\n",
    "axs[0].grid()\n",
    "axs[0].legend()\n",
    "\n",
    "axs[1].set(xlabel='Pitch angle [deg]', ylabel='$dQ/d\\Omega$\\n[kNm/(rad/s)]')\n",
    "axs[1].grid()\n",
    "\n",
    "fig.tight_layout()"
   ]
  },
  {
   "cell_type": "markdown",
   "metadata": {},
   "source": [
    "The fits look pretty good. :)"
   ]
  },
  {
   "cell_type": "markdown",
   "metadata": {},
   "source": []
  }
 ],
 "metadata": {
  "kernelspec": {
   "display_name": "Python 3 (ipykernel)",
   "language": "python",
   "name": "python3"
  },
  "language_info": {
   "codemirror_mode": {
    "name": "ipython",
    "version": 3
   },
   "file_extension": ".py",
   "mimetype": "text/x-python",
   "name": "python",
   "nbconvert_exporter": "python",
   "pygments_lexer": "ipython3",
   "version": "3.10.14"
  }
 },
 "nbformat": 4,
 "nbformat_minor": 2
}
