{
 "cells": [
  {
   "cell_type": "markdown",
   "id": "0172a5aa",
   "metadata": {},
   "source": [
    "# AE-file\n",
    "\n",
    "Demo to load the data in an AE file, modify it, save it, and compare the two AE files."
   ]
  },
  {
   "cell_type": "code",
   "execution_count": null,
   "id": "240c6af5",
   "metadata": {},
   "outputs": [],
   "source": [
    "from lacbox.io import load_ae, save_ae\n",
    "from lacbox.test import test_data_path\n",
    "import matplotlib.pyplot as plt\n",
    "\n",
    "\n",
    "ae_path = test_data_path + '/dtu_10_mw/data/DTU_10MW_RWT_ae.dat'"
   ]
  },
  {
   "cell_type": "markdown",
   "id": "d7055b77",
   "metadata": {},
   "source": [
    "### Load the data in the AE file (`load_ae`)\n",
    "\n",
    "Check the HAWC2 manual (Section 12.9) to determine what columns are in the AE file."
   ]
  },
  {
   "cell_type": "code",
   "execution_count": null,
   "id": "ab9aac6a",
   "metadata": {},
   "outputs": [],
   "source": [
    "ae = load_ae(ae_path)"
   ]
  },
  {
   "cell_type": "markdown",
   "id": "53b2ec11",
   "metadata": {},
   "source": [
    "With unpacking."
   ]
  },
  {
   "cell_type": "code",
   "execution_count": null,
   "id": "c2a8c163",
   "metadata": {},
   "outputs": [],
   "source": [
    "r, c, tc, pcset = load_ae(ae_path, unpack=True)"
   ]
  },
  {
   "cell_type": "markdown",
   "id": "15d89165",
   "metadata": {},
   "source": [
    "### Modify the values\n",
    "\n",
    "Assume we want to linearly scale our blade by 5%."
   ]
  },
  {
   "cell_type": "code",
   "execution_count": null,
   "id": "63bb887c",
   "metadata": {},
   "outputs": [],
   "source": [
    "s = 1.05\n",
    "\n",
    "ae_new = ae.copy()\n",
    "ae_new[:, 0] *= s\n",
    "ae_new[:, 1] *= s"
   ]
  },
  {
   "cell_type": "markdown",
   "id": "a0bb474e",
   "metadata": {},
   "source": [
    "### Save the new AE file (`save_ae`)"
   ]
  },
  {
   "cell_type": "code",
   "execution_count": null,
   "id": "1b7ecadd",
   "metadata": {},
   "outputs": [],
   "source": [
    "save_path = 'DTU_10MW_RWT_ae_DEMO.dat'\n",
    "\n",
    "save_ae(save_path, ae_new)"
   ]
  },
  {
   "cell_type": "markdown",
   "id": "1b8597ac",
   "metadata": {},
   "source": [
    "### Visualize the two sets of data"
   ]
  },
  {
   "cell_type": "code",
   "execution_count": null,
   "id": "d83cc77d",
   "metadata": {},
   "outputs": [],
   "source": [
    "fig, axs = plt.subplots(2, 1, figsize=(9, 6))\n",
    "\n",
    "for i, dat in enumerate([ae, ae_new]):\n",
    "    r, c, tc = dat[:, :3].T\n",
    "    \n",
    "    axs[0].plot(r, c, label=['Old', 'New'][i])\n",
    "    axs[0].set(xlabel='Curved length [m]', ylabel='Chord [m]')\n",
    "\n",
    "    axs[1].plot(r, tc)\n",
    "    axs[1].set(xlabel='Curved length [m]', ylabel='Relative thickness [%]')\n",
    "\n",
    "axs[0].legend()\n",
    "fig.tight_layout()"
   ]
  },
  {
   "cell_type": "markdown",
   "id": "b1fd6725",
   "metadata": {},
   "source": []
  }
 ],
 "metadata": {
  "kernelspec": {
   "display_name": "Python 3 (ipykernel)",
   "language": "python",
   "name": "python3"
  },
  "language_info": {
   "codemirror_mode": {
    "name": "ipython",
    "version": 3
   },
   "file_extension": ".py",
   "mimetype": "text/x-python",
   "name": "python",
   "nbconvert_exporter": "python",
   "pygments_lexer": "ipython3",
   "version": "3.7.12"
  },
  "vscode": {
   "interpreter": {
    "hash": "deb47b2e2014642bfbab3a8cd5dac78b7082e632e943a64158996f0b4c697279"
   }
  }
 },
 "nbformat": 4,
 "nbformat_minor": 5
}
