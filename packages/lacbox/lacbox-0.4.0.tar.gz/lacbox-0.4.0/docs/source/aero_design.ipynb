{
 "cells": [
  {
   "cell_type": "markdown",
   "id": "53e93a32",
   "metadata": {},
   "source": [
    "# Aerodynamic rotor design\n",
    "This notebook shows how to use the `lacbox.rotor_design.single_point_design` method to generated an aerodynamic wind turbine blade design for a single point operational conditions (wind-speed, rotor-speed, pitch, etc.). \n",
    "\n",
    "The method takes a set of geometrical and operational inputs and returns the blade planform (chord, twist, relative-thickness) as well as performance metrics (power-coefficient, thrust-coefficient, etc.).  "
   ]
  },
  {
   "cell_type": "code",
   "execution_count": null,
   "id": "856c2f76",
   "metadata": {},
   "outputs": [],
   "source": [
    "# Loading modules\n",
    "import matplotlib.pyplot as plt\n",
    "import numpy as np\n",
    "from lacbox.rotor_design import get_design_functions_1MW, single_point_design"
   ]
  },
  {
   "cell_type": "markdown",
   "id": "1464520c",
   "metadata": {},
   "source": [
    "Below the documentation for `lacbox.rotor_design.single_point_design` method is shown."
   ]
  },
  {
   "cell_type": "code",
   "execution_count": null,
   "id": "c8d413b6",
   "metadata": {},
   "outputs": [],
   "source": [
    "help(single_point_design)"
   ]
  },
  {
   "cell_type": "markdown",
   "id": "cd21fb46",
   "metadata": {},
   "source": [
    "## *Example*: 1MW turbine\n",
    "Below an example of input is given for a 1 MW turbine with a rotor radius of 35 m.\n",
    "\n",
    "Below all the scalar inputs are set."
   ]
  },
  {
   "cell_type": "code",
   "execution_count": null,
   "id": "9914e870",
   "metadata": {},
   "outputs": [],
   "source": [
    "R = 35  # Rotor radius [m]\n",
    "tsr = 9.0  # Tip-Speed-Ratio [-]\n",
    "r_hub = 1.0  # Hub radius [m]\n",
    "chord_max = 3.0  # Maximum chord size [m]\n",
    "chord_root = 2.7  # Chord size at the root [m]\n",
    "B = 3  # Number of blades [#]"
   ]
  },
  {
   "cell_type": "markdown",
   "id": "de338c0d",
   "metadata": {},
   "source": [
    "### Rotor-span\n",
    "Below the **rotor-span** is set. This is *not* the *blade-span* (which for a value of zero would mean the hub to the blade tip) but the *rotor-span* which for a value of zero would be at the center of rotation until the blade tip. \n",
    "\n",
    "For the case below the rotor-span is starting at the rotor-hub (`r_hub`) and then it goes to the rotor-radius but making the last point slightly smaller than the rotor-radius (`R*(1-1e-5)`) to avoid issues with the tip-loss factor that yields numerical issues in this limit. The rotor-span is then divided into `40` point between these limits with equidistant spacing between point and including the limit."
   ]
  },
  {
   "cell_type": "code",
   "execution_count": null,
   "id": "bfc1085f",
   "metadata": {},
   "outputs": [],
   "source": [
    "r = np.linspace(r_hub, R*(1-1e-3), 40)  # Rotor span [m]"
   ]
  },
  {
   "cell_type": "markdown",
   "id": "ea7f5c9f",
   "metadata": {},
   "source": [
    "### Blade absolute thickness\n",
    "Below the **blade absolute thickness** input is defined. This the blade thickness in meters and it should be defined for each of the rotor-span location.\n",
    "\n",
    "For the example below the thickness is defined from a polynomial (which defines a function for `t(r)`) but it also includes a minimum cap via the parameter `chord_root` to limit the thickness in the root part of the blade."
   ]
  },
  {
   "cell_type": "code",
   "execution_count": null,
   "id": "1ac57121",
   "metadata": {},
   "outputs": [],
   "source": [
    "def thickness(r, chord_root):\n",
    "    \"\"\"Absolute thickness [m] as a function of blade span [m] for 35-m blade\"\"\"\n",
    "    p_edge = [\n",
    "        9.35996e-8,\n",
    "        -1.2911e-5,\n",
    "        7.15038e-4,\n",
    "        -2.03735e-2,\n",
    "        3.17726e-1,\n",
    "        -2.65357,\n",
    "        10.2616,\n",
    "    ]  # polynomial coefficients\n",
    "    t_poly = np.polyval(p_edge, r)  # evaluate polynomial\n",
    "    t = np.minimum(t_poly, chord_root)  # clip at max thickness\n",
    "    return t\n",
    "\n",
    "t = thickness(r, chord_root)  # Absolute thickness [m]"
   ]
  },
  {
   "cell_type": "code",
   "execution_count": null,
   "id": "657eaea7",
   "metadata": {},
   "outputs": [],
   "source": [
    "# Plotting the absolute thickness\n",
    "fig, ax = plt.subplots()\n",
    "\n",
    "ax.plot(r, t)\n",
    "\n",
    "ax.set_xlabel(\"Rotor-span [m]\")\n",
    "ax.set_ylabel(\"Blade thickness [m]\")"
   ]
  },
  {
   "cell_type": "markdown",
   "id": "068adce0",
   "metadata": {},
   "source": [
    "In the case that one is starting from a known HAWC2 design the *blade absolute thickness* can be found from the [HAWC2 *AE-file*](https://lac-course.pages.windenergy.dtu.dk/dtulac/load_save_ae.html). \n",
    "\n",
    "This can be done like so (assuming that you loaded the file with the `lacbox.io.load_ae` function):\n",
    "```python\n",
    "r, c, tc, pcset = load_ae(*your-ae-filename*, unpack=True)\n",
    "t = tc*c/100\n",
    "```\n",
    "\n",
    "Where the `/100` is because `tc` is in percent."
   ]
  },
  {
   "cell_type": "markdown",
   "id": "91acc49a",
   "metadata": {},
   "source": [
    "### Lift, Drag and Angle-of-Attack function\n",
    "The method requires input for the lift-, drag-coefficient and Angle-of-Attack, but not as a value along the rotor-span or as function of Angle-of-Attack as it is in the *HAWC2 PC-file*. It should be a function, but the values should be a function of the blade thickness-to-chord ratio (referred to as `tc`). \n",
    "\n",
    "Below, such function are loading for the 1MW example, which also provides the points that was used to build the interpolation function. Here `*_des` are the design function (e.g. $C_l(t/c)$,$C_d(t/c)$, $\\alpha(t/c)$) and `*_vals` and the values that was used to construct the interpolation functions (e.g. `tc_vals` vs. `cl_vals`, `tc_vals` vs. `cd_vals`, `tc_vals` vs. `aoa_vals`)"
   ]
  },
  {
   "cell_type": "code",
   "execution_count": null,
   "id": "dd896dad",
   "metadata": {},
   "outputs": [],
   "source": [
    "cl_des, cd_des, aoa_des, tc_vals, cl_vals, cd_vals, aoa_vals = get_design_functions_1MW()"
   ]
  },
  {
   "cell_type": "code",
   "execution_count": null,
   "id": "f0268f15",
   "metadata": {},
   "outputs": [],
   "source": [
    "# Plotting the functions and the constructing data\n",
    "tc_plot = np.linspace(0, 100, 100)\n",
    "fig1, axs1 = plt.subplots(3, 1, num=1)\n",
    "\n",
    "axs1[0].plot(tc_plot, cl_des(tc_plot), \"k\", label=\"cl_des\")\n",
    "axs1[0].plot(tc_vals, cl_vals, \"ok\", label=\"cl_vals\")\n",
    "axs1[0].set_ylabel(\"$C_l$ [-]\")\n",
    "axs1[0].set_xlim(0, 100)\n",
    "axs1[0].legend()\n",
    "\n",
    "axs1[1].plot(tc_plot, cd_des(tc_plot), \"k\", label=\"cd_des\")\n",
    "axs1[1].plot(tc_vals, cd_vals, \"ok\", label=\"cd_vals\")\n",
    "axs1[1].set_ylabel(\"$C_d$ [-]\")\n",
    "axs1[1].set_xlim(0, 100)\n",
    "axs1[1].legend()\n",
    "\n",
    "axs1[2].plot(tc_plot, aoa_des(tc_plot), \"k\", label=\"aoa_des\")\n",
    "axs1[2].plot(tc_vals, aoa_vals, \"ok\", label=\"aoa_vals\")\n",
    "axs1[2].set_ylabel(r\"$\\alpha$ [-]\")\n",
    "axs1[2].set_xlabel(r\"$t/c$ [deg]\")\n",
    "axs1[2].set_xlim(0, 100)\n",
    "axs1[2].legend()\n",
    "\n",
    "fig1.tight_layout()"
   ]
  },
  {
   "cell_type": "markdown",
   "id": "fb4a9503",
   "metadata": {},
   "source": [
    "For the `single_point_deign` function to work well it is important that $C_l(t/c)$ is monotonically decrease for increasing `tc` - otherwise the solution will end up with jumps in the resulting chord."
   ]
  },
  {
   "cell_type": "markdown",
   "id": "19a825cc",
   "metadata": {},
   "source": [
    "### Running the single-point-design method\n",
    "Below the `single_point_design` method is run with the input defined above"
   ]
  },
  {
   "cell_type": "code",
   "execution_count": null,
   "id": "4bcae375",
   "metadata": {},
   "outputs": [],
   "source": [
    "blade_design = single_point_design(\n",
    "    r, t, tsr, R, cl_des, cd_des, aoa_des, chord_root, chord_max, B\n",
    ")"
   ]
  },
  {
   "cell_type": "markdown",
   "id": "34ed2924",
   "metadata": {},
   "source": [
    "### Plotting the output"
   ]
  },
  {
   "cell_type": "code",
   "execution_count": null,
   "id": "bd2b9f92",
   "metadata": {},
   "outputs": [],
   "source": [
    "fig2, axs2 = plt.subplots(3, 1, figsize=(6.5, 6))\n",
    "\n",
    "# Chord\n",
    "axs2[0].plot(r, blade_design[\"chord\"])\n",
    "axs2[0].set_ylabel(\"Chord [m]\")\n",
    "axs2[0].set_xlim(0, R)\n",
    "axs2[0].set_ylim(0, 3.4)\n",
    "\n",
    "# Twist\n",
    "axs2[1].plot(r, blade_design[\"twist\"])\n",
    "axs2[1].set_ylabel(\"Twist [deg]\")\n",
    "axs2[1].set_xlim(0, R)\n",
    "\n",
    "# t/c\n",
    "axs2[2].plot(r, blade_design[\"tc\"])\n",
    "axs2[2].set_ylabel(\"Rel. thickness [%]\")\n",
    "axs2[2].set_xlabel(\"Rotor span [m]\")\n",
    "axs2[2].set_xlim(0, R)\n",
    "axs2[2].set_ylim(0, 102)\n",
    "\n",
    "fig2.tight_layout()"
   ]
  },
  {
   "cell_type": "code",
   "execution_count": null,
   "id": "1d9cf8bc",
   "metadata": {},
   "outputs": [],
   "source": [
    "fig3, axs3 = plt.subplots(2, 2, num=3, clear=True)\n",
    "\n",
    "# t/c\n",
    "axs3[0, 0].plot(r, blade_design[\"tc\"])\n",
    "axs3[0, 0].set_ylabel(\"t/c [%]\")\n",
    "axs3[0, 0].set_xlim(0, R)\n",
    "axs3[0, 0].set_ylim(0, 102)\n",
    "\n",
    "# aoa\n",
    "axs3[0, 1].plot(r, blade_design[\"aoa\"])\n",
    "axs3[0, 1].set_ylabel(r\"$\\alpha$ [deg]\")\n",
    "axs3[0, 1].set_xlim(0, R)\n",
    "axs3[0, 1].yaxis.tick_right()\n",
    "axs3[0, 1].yaxis.set_label_position(\"right\")\n",
    "\n",
    "# cl\n",
    "axs3[1, 0].plot(r, blade_design[\"cl\"])\n",
    "axs3[1, 0].set_ylabel(\"$C_l$ [-]\")\n",
    "axs3[1, 0].set_xlabel(\"Span [m]\")\n",
    "axs3[1, 0].set_xlim(0, R)\n",
    "\n",
    "# cd\n",
    "axs3[1, 1].plot(r, blade_design[\"cd\"])\n",
    "axs3[1, 1].set_ylabel(\"$C_d$ [-]\")\n",
    "axs3[1, 1].set_xlabel(\"Span [m]\")\n",
    "axs3[1, 1].set_xlim(0, R)\n",
    "axs3[1, 1].yaxis.tick_right()\n",
    "axs3[1, 1].yaxis.set_label_position(\"right\")\n",
    "\n",
    "fig3.tight_layout()"
   ]
  },
  {
   "cell_type": "code",
   "execution_count": null,
   "id": "0882c8a6",
   "metadata": {},
   "outputs": [],
   "source": [
    "fig4, axs4 = plt.subplots(3, 1, num=4, clear=True, figsize=(6.5, 5.5))\n",
    "\n",
    "# Local-Thrust-Coefficient\n",
    "axs4[0].plot(r, blade_design[\"CLT\"])\n",
    "axs4[0].axhline(y=8 / 9, ls=\"--\", color=\"k\", lw=1)\n",
    "axs4[0].set_ylabel(\"Local thrust ($C_{LT}$) [-]\")\n",
    "axs4[0].set_ylim(0, 1.0)\n",
    "axs4[0].set_xlim(0, R)\n",
    "\n",
    "# Local-Power-Coefficient\n",
    "axs4[1].plot(r, blade_design[\"CLP\"])\n",
    "axs4[1].axhline(y=16 / 27, ls=\"--\", color=\"k\", lw=1)\n",
    "axs4[1].set_ylabel(\"Local Power ($C_{LP}$) [-]\")\n",
    "axs4[1].set_xlim(0, R)\n",
    "axs4[1].set_ylim(-0.4, 0.6)\n",
    "\n",
    "# Axial Induction\n",
    "axs4[2].plot(r, blade_design[\"a\"])\n",
    "axs4[2].axhline(y=1 / 3, ls=\"--\", color=\"k\", lw=1)\n",
    "axs4[2].set_ylabel(\"Axial induction ($a$) [-]\")\n",
    "axs4[2].set_xlabel(\"Rotor span [m]\")\n",
    "axs4[2].set_xlim(0, R)\n",
    "\n",
    "fig4.suptitle(f\"$C_T$={blade_design['CT']:1.3f}, $C_P$={blade_design['CP']:1.3f}\")\n",
    "fig4.tight_layout()"
   ]
  },
  {
   "cell_type": "markdown",
   "id": "c0a73ebb",
   "metadata": {},
   "source": []
  }
 ],
 "metadata": {
  "kernelspec": {
   "display_name": ".env",
   "language": "python",
   "name": "python3"
  },
  "language_info": {
   "codemirror_mode": {
    "name": "ipython",
    "version": 3
   },
   "file_extension": ".py",
   "mimetype": "text/x-python",
   "name": "python",
   "nbconvert_exporter": "python",
   "pygments_lexer": "ipython3",
   "version": "3.10.16"
  }
 },
 "nbformat": 4,
 "nbformat_minor": 5
}
