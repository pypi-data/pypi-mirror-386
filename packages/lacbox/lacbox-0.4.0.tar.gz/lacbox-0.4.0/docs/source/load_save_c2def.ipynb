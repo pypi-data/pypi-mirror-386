{
 "cells": [
  {
   "cell_type": "markdown",
   "id": "3cbb38bc",
   "metadata": {},
   "source": [
    "# c2_def-block\n",
    "Demo to load a `c2_def`-block from a HTC-file and save a modified `c2_def`-block to text file (not directly in the HTC-file)."
   ]
  },
  {
   "cell_type": "code",
   "execution_count": null,
   "id": "5a247600",
   "metadata": {},
   "outputs": [],
   "source": [
    "from lacbox.io import load_c2def, save_c2def\n",
    "from lacbox.test import test_data_path\n",
    "import matplotlib.pyplot as plt\n",
    "import numpy as np\n",
    "\n",
    "\n",
    "htc_path = test_data_path + '/dtu_10_mw/DTU_10MW_RWT.htc'"
   ]
  },
  {
   "cell_type": "markdown",
   "id": "a99b3d42",
   "metadata": {},
   "source": [
    "### Load the data in the c2_def block (`load_c2def`)"
   ]
  },
  {
   "cell_type": "code",
   "execution_count": null,
   "id": "e651acdd",
   "metadata": {},
   "outputs": [],
   "source": [
    "c2_def = load_c2def(htc_path)"
   ]
  },
  {
   "cell_type": "markdown",
   "id": "82a9a516",
   "metadata": {},
   "source": [
    "### Modify the twist values\n",
    "\n",
    "Let's assume we need to drop all twist values by 2 degrees, but the minimum twist is 15 degrees."
   ]
  },
  {
   "cell_type": "code",
   "execution_count": null,
   "id": "2887246c",
   "metadata": {},
   "outputs": [],
   "source": [
    "c2_def_new = c2_def.copy()\n",
    "c2_def_new[:, -1] -= 2\n",
    "c2_def_new[:, -1] = np.clip(c2_def_new[:, -1], -15, None)"
   ]
  },
  {
   "cell_type": "markdown",
   "id": "c48fdbd1",
   "metadata": {},
   "source": [
    "### Save the c2_def block (`save_c2def`)\n",
    "\n",
    "Note that the block is saved in a text file that is created/overwritten. Thus, the path you give SHOULD NOT BE YOUR HTC FILE. You should manually copy/paste the c2_def block into the correct location in your htc file."
   ]
  },
  {
   "cell_type": "code",
   "execution_count": null,
   "id": "bbcd0966",
   "metadata": {},
   "outputs": [],
   "source": [
    "save_path = 'c2_def_DEMO.txt'\n",
    "\n",
    "save_c2def(save_path, c2_def_new)"
   ]
  },
  {
   "cell_type": "markdown",
   "id": "a1866064",
   "metadata": {},
   "source": [
    "### Visualize the two sets of data"
   ]
  },
  {
   "cell_type": "code",
   "execution_count": null,
   "id": "97750e0b",
   "metadata": {},
   "outputs": [],
   "source": [
    "fig, ax = plt.subplots(1, figsize=(9, 3.5))\n",
    "\n",
    "ax.plot(c2_def[:, 2], c2_def[:, 3], label='Old')\n",
    "ax.plot(c2_def_new[:, 2], c2_def_new[:, 3], label='New')\n",
    "\n",
    "ax.set(xlabel='Blade span', ylabel='Twist [deg]')\n",
    "ax.legend()\n",
    "\n",
    "fig.tight_layout()"
   ]
  },
  {
   "cell_type": "markdown",
   "id": "07ec5eb6",
   "metadata": {},
   "source": []
  }
 ],
 "metadata": {
  "kernelspec": {
   "display_name": "Python 3 (ipykernel)",
   "language": "python",
   "name": "python3"
  },
  "language_info": {
   "codemirror_mode": {
    "name": "ipython",
    "version": 3
   },
   "file_extension": ".py",
   "mimetype": "text/x-python",
   "name": "python",
   "nbconvert_exporter": "python",
   "pygments_lexer": "ipython3",
   "version": "3.7.3"
  },
  "vscode": {
   "interpreter": {
    "hash": "deb47b2e2014642bfbab3a8cd5dac78b7082e632e943a64158996f0b4c697279"
   }
  }
 },
 "nbformat": 4,
 "nbformat_minor": 5
}
