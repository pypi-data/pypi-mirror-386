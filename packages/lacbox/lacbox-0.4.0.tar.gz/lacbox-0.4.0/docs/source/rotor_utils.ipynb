{
 "cells": [
  {
   "cell_type": "markdown",
   "id": "43663d05",
   "metadata": {},
   "source": [
    "# Rotor-Design Utilities"
   ]
  },
  {
   "cell_type": "markdown",
   "id": "1d0ec594",
   "metadata": {},
   "source": [
    "## Planform constraints\n",
    "Demo showing how to apply planform constraints, such as: \n",
    "\n",
    "- `root_chord`: Returns a smooth transition from an ideal aerodynamic chord that satisfy a root-chord- and a maximum-chord-size.\n",
    "- `min_tc_chord`: Returns a chord that maintains the minimum $t/c$ for the tip region (it is often the case that the tip-loss model leads to an increase in $t/c$ in this region)\n",
    "- `max_twist`: Returns a twist that satisfy a maximum twist"
   ]
  },
  {
   "cell_type": "code",
   "execution_count": null,
   "id": "c1a2d4bd",
   "metadata": {},
   "outputs": [],
   "source": [
    "import numpy as np\n",
    "import matplotlib.pyplot as plt\n",
    "from lacbox.rotor_design.utils import root_chord, min_tc_chord, max_twist\n",
    "from lacbox.test import test_data_path\n",
    "\n",
    "# Load data\n",
    "r, t, chord_ideal, tc_ideal, twist_ideal = np.loadtxt(test_data_path+\"/ideal_planform.dat\", unpack=True)"
   ]
  },
  {
   "cell_type": "markdown",
   "id": "2eb9ebf6",
   "metadata": {},
   "source": [
    "### Root chord transition (`root_chord`)\n",
    "Demo showing how to make a chord design at the root that satisfy a given chord size at the root and a maximum chord from a ideal aerodynamic designed chord."
   ]
  },
  {
   "cell_type": "code",
   "execution_count": null,
   "id": "57aa428a",
   "metadata": {},
   "outputs": [],
   "source": [
    "# Apply the root chord transition\n",
    "chord_root = t[0]\n",
    "chord_max = 3\n",
    "chord_rc = root_chord(r, chord_ideal, chord_root, chord_max)\n",
    "# Calculating new t/c\n",
    "tc_rc = t/chord_rc*100\n",
    "\n",
    "# Plot the ideal- and root-chord transition constraint chord and t/c\n",
    "# Chord\n",
    "fig, axs = plt.subplots(2)\n",
    "ax = axs[0]\n",
    "ax.plot(r, chord_ideal, label=\"Ideal\")\n",
    "ax.plot(r, chord_rc, label=\"Root chord transition\")\n",
    "ax.set_ylabel(\"Chord [m]\")\n",
    "ax.legend()\n",
    "# t/c\n",
    "ax = axs[1]\n",
    "ax.plot(r, tc_ideal)\n",
    "ax.plot(r, tc_rc)\n",
    "ax.set_xlabel(\"Span [m]\")\n",
    "ax.set_ylabel(\"t/c [%]\")\n",
    "fig.tight_layout()"
   ]
  },
  {
   "cell_type": "markdown",
   "id": "a721494b",
   "metadata": {},
   "source": [
    "### Constrain t/c to be decreasing (`min_tc_chord`)\n",
    "Demo showing how to get a monotonically decreasing relative profile thickness ($t/c$) along the span."
   ]
  },
  {
   "cell_type": "code",
   "execution_count": null,
   "id": "79ef3fd0",
   "metadata": {},
   "outputs": [],
   "source": [
    "# Applying the constraint on t/c\n",
    "chord = min_tc_chord(chord_rc, t)\n",
    "# Computing the new t/c\n",
    "tc = t/chord*100\n",
    "\n",
    "# Plot the ideal- and constraint chord and t/c\n",
    "# Chord\n",
    "fig, axs = plt.subplots(2)\n",
    "ax = axs[0]\n",
    "ax.plot(r, chord_rc, label=\"Root chord transition\")\n",
    "ax.plot(r, chord, label=\"Decreasing t/c\")\n",
    "#ax.set_xlabel(\"Span [m]\")\n",
    "ax.set_ylabel(\"Chord [m]\")\n",
    "ax.legend()\n",
    "# t/c\n",
    "ax = axs[1]\n",
    "ax.plot(r, tc_rc)\n",
    "ax.plot(r, tc)\n",
    "ax.set_xlabel(\"Span [m]\")\n",
    "ax.set_ylabel(\"t/c [%]\")\n",
    "fig.tight_layout()"
   ]
  },
  {
   "cell_type": "markdown",
   "id": "23b332c0",
   "metadata": {},
   "source": [
    "### Limit the maximum twist angel (`max_twist`)\n",
    "Demo showing how to apply a maximum twist constraint for an ideal aerodynamic twist."
   ]
  },
  {
   "cell_type": "code",
   "execution_count": null,
   "id": "3bf644db",
   "metadata": {},
   "outputs": [],
   "source": [
    "# Input\n",
    "twist_max = 20\n",
    "\n",
    "# Applying the maximum twist\n",
    "twist = max_twist(twist_ideal, twist_max)\n",
    "\n",
    "# Plotting the ideal and constraint twist\n",
    "fig, ax = plt.subplots()\n",
    "ax.axhline(twist_max, ls=\"--\", lw=1, color=\"k\", label=\"Maximum twist\")\n",
    "ax.plot(r, twist_ideal, label=\"Ideal\")\n",
    "ax.plot(r, twist, label=\"With maximum twist\")\n",
    "ax.set_xlabel(\"Span [m]\")\n",
    "ax.set_ylabel(\"Twist [deg]\")\n",
    "ax.legend()\n",
    "fig.tight_layout()"
   ]
  },
  {
   "cell_type": "markdown",
   "id": "aaf58cca",
   "metadata": {},
   "source": [
    "## Aerodynamic polar design interpolator (`interpolator`)\n",
    "Demo showing how to use a set of aerodynamic polar design points as a function of the profile thickness ($t/c$)."
   ]
  },
  {
   "cell_type": "code",
   "execution_count": null,
   "id": "9e8c159f",
   "metadata": {},
   "outputs": [],
   "source": [
    "# Import the interpolator\n",
    "from lacbox.rotor_design.utils import interpolator\n",
    "import numpy as np\n",
    "import matplotlib.pyplot as plt\n",
    "\n",
    "# Design value (extended to have a valid range from 0-100 including zero tangent at the ends)\n",
    "tc_des_vals = [0, 15, 18, 24, 30, 36, 100, 105]\n",
    "cl_des_vals = [0.9, 0.9, 0.8, 0.8, 0.7, 0.6, 0.0, 0.0]\n",
    "cd_des_vals = [0.00850, 0.00850, 0.00604, 0.0107, 0.0139, 0.0155, 0.5, 0.5]\n",
    "aoa_des_vals = [5.0, 5.0, 4.3, 4.3, 4.0, 0.5, 0.0, 0.0]\n",
    "\n",
    "# Creating the interpolator function\n",
    "cl_des = interpolator(tc_des_vals, cl_des_vals)\n",
    "cd_des = interpolator(tc_des_vals, cd_des_vals)\n",
    "aoa_des = interpolator(tc_des_vals, aoa_des_vals)\n",
    "\n",
    "# Plotting the design functions\n",
    "tc = np.linspace(0, 100, 100)\n",
    "fig, axs = plt.subplots(3, 1)\n",
    "# Cl\n",
    "ax = axs[0]\n",
    "ax.plot(tc, cl_des(tc), \"k\")\n",
    "ax.plot(tc_des_vals[1:-1], cl_des_vals[1:-1], \"ok\")\n",
    "ax.set_ylabel(\"$C_{l,design}$ [-]\")\n",
    "# Cd\n",
    "ax = axs[1]\n",
    "ax.plot(tc, cd_des(tc), \"k\", label=\"Design function\")\n",
    "ax.plot(tc_des_vals[1:-1], cd_des_vals[1:-1], \"ok\", label=\"Design values\")\n",
    "ax.set_ylabel(\"$C_{d,design}$ [-]\")\n",
    "ax.legend()\n",
    "# AoA\n",
    "ax = axs[2]\n",
    "ax.plot(tc, aoa_des(tc), \"k\")\n",
    "ax.plot(tc_des_vals[1:-1], aoa_des_vals[1:-1], \"ok\")\n",
    "ax.set_xlabel(\"Relative profile thickness (t/c) [%]\")\n",
    "ax.set_ylabel(r\"AoA ($\\alpha$) [deg]\")\n",
    "fig.tight_layout()"
   ]
  }
 ],
 "metadata": {
  "language_info": {
   "name": "python"
  }
 },
 "nbformat": 4,
 "nbformat_minor": 5
}
