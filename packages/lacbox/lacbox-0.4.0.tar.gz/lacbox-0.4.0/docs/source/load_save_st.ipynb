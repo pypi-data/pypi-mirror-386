{
 "cells": [
  {
   "cell_type": "markdown",
   "metadata": {},
   "source": [
    "# ST-file\n",
    "Demo to show how to load, modify and save a st file."
   ]
  },
  {
   "cell_type": "code",
   "execution_count": null,
   "metadata": {},
   "outputs": [],
   "source": [
    "from lacbox.io import load_st, save_st\n",
    "from lacbox.test import test_data_path\n",
    "import matplotlib.pyplot as plt"
   ]
  },
  {
   "cell_type": "markdown",
   "metadata": {},
   "source": [
    "## Load a ST-file (`load_st`)"
   ]
  },
  {
   "cell_type": "code",
   "execution_count": null,
   "metadata": {},
   "outputs": [],
   "source": [
    "st_path = test_data_path + '/dtu_10_mw/data/DTU_10MW_RWT_Blade_st.dat'\n",
    "st_data = load_st(st_path)\n",
    "print(f\"Number of sets: len(st_data)={len(st_data)}\")\n",
    "print(f\"Number of subsets: len(st_data[0])={len(st_data[0])}\")\n",
    "print(f\"Subset keys: st_data[i][j].keys()={st_data[0][0].keys()}\")"
   ]
  },
  {
   "cell_type": "markdown",
   "metadata": {},
   "source": [
    "## Modify the data"
   ]
  },
  {
   "cell_type": "code",
   "execution_count": null,
   "metadata": {},
   "outputs": [],
   "source": [
    "# Up scaling \n",
    "R0 = 89.16 # [m] Baseline rotor diameter\n",
    "R1 = 98.0 # [m] New rotor size\n",
    "s = R1/R0 # [-] Scaling factor\n",
    "\n",
    "for iset, set in enumerate(st_data):\n",
    "    for jsubset, subset in enumerate(set):\n",
    "        # s^1\n",
    "        for name in ['s', 'x_cg', 'y_cg', 'ri_x', 'ri_y', 'x_sh', 'y_sh', 'x_e', 'y_e']:\n",
    "            st_data[iset][jsubset][name] = subset[name]*s**1\n",
    "        # s^2\n",
    "        for name in ['m', 'A']:\n",
    "            st_data[iset][jsubset][name] = subset[name]*s**2\n",
    "        # s^4\n",
    "        for name in ['I_x', 'I_y', 'I_p']:\n",
    "            st_data[iset][jsubset][name] = subset[name]*s**4"
   ]
  },
  {
   "cell_type": "markdown",
   "metadata": {},
   "source": [
    "## Save the modified PC file (`save_st`)"
   ]
  },
  {
   "cell_type": "code",
   "execution_count": null,
   "metadata": {},
   "outputs": [],
   "source": [
    "# Saving the upscaled data\n",
    "st_path = \"DTU_10MW_RWT_Blade_st_DEMO.dat\"\n",
    "save_st(st_path, st_data)\n",
    "# Saving only a single subset\n",
    "save_st(st_path, st_data[0][1])\n",
    "# Saving multiple sets (dummy example)\n",
    "save_st(st_path, [\n",
    "    st_data[0], # Set one\n",
    "    [ # Set two\n",
    "        st_data[0][0], # Subset 1\n",
    "        st_data[0][1], # Subset 2\n",
    "        st_data[0][1], # Subset 3 (dummy same as subset 2)\n",
    "    ]\n",
    "    ]\n",
    ")"
   ]
  },
  {
   "cell_type": "markdown",
   "metadata": {},
   "source": [
    "## Visualize the data"
   ]
  },
  {
   "cell_type": "code",
   "execution_count": null,
   "metadata": {},
   "outputs": [],
   "source": [
    "# Reload the data from the original st file\n",
    "st_path = test_data_path + \"/dtu_10_mw/data/DTU_10MW_RWT_Blade_st.dat\"\n",
    "st_data_org = load_st(st_path)\n",
    "\n",
    "# Create figure\n",
    "fig, axs = plt.subplots(3, 1)#, figsize=(7, 6))\n",
    "\n",
    "# Extract subset\n",
    "subset = st_data[0][0]\n",
    "subset_org = st_data_org[0][0]\n",
    "\n",
    "# Plotting scaled data\n",
    "axs[0].plot(subset[\"s\"], subset[\"x_cg\"], color=\"C0\", label=\"Scaled\")\n",
    "axs[1].plot(subset[\"s\"], subset[\"m\"], color=\"C0\", label=\"Scaled\")\n",
    "axs[2].plot(subset[\"s\"], subset[\"I_x\"], color=\"C0\", label=\"Scaled\")\n",
    "\n",
    "# Plotting original data\n",
    "axs[0].plot(subset_org[\"s\"], subset_org[\"x_cg\"], \"--\", color=\"C0\", label=\"Original\")\n",
    "axs[1].plot(subset_org[\"s\"], subset_org[\"m\"], \"--\", color=\"C0\", label=\"Original\")\n",
    "axs[2].plot(subset_org[\"s\"], subset_org[\"I_x\"], \"--\", color=\"C0\", label=\"Original\")\n",
    "\n",
    "# Adding legend and axis labels\n",
    "loc = 1\n",
    "axs[0].legend(loc=loc, title=\"$s^1$\", ncol=1, framealpha=1)\n",
    "axs[1].legend(loc=loc, title=\"$s^2$\", ncol=1, framealpha=1)\n",
    "axs[2].legend(loc=loc, title=\"$s^4$\", ncol=1, framealpha=1)\n",
    "axs[0].set_ylabel(\"$x_{cg}$ [m]\")\n",
    "axs[1].set_ylabel(\"$m$ [kg/m]\")\n",
    "axs[2].set_ylabel(\"$I_x$ [m$^4$]\")\n",
    "axs[2].set_xlabel(r\"Blade curve length ($s$) [m]\")\n",
    "fig.tight_layout()"
   ]
  },
  {
   "cell_type": "code",
   "execution_count": null,
   "metadata": {},
   "outputs": [],
   "source": []
  }
 ],
 "metadata": {
  "kernelspec": {
   "display_name": "Python 3 (ipykernel)",
   "language": "python",
   "name": "python3"
  },
  "language_info": {
   "codemirror_mode": {
    "name": "ipython",
    "version": 3
   },
   "file_extension": ".py",
   "mimetype": "text/x-python",
   "name": "python",
   "nbconvert_exporter": "python",
   "pygments_lexer": "ipython3",
   "version": "3.7.3"
  },
  "vscode": {
   "interpreter": {
    "hash": "deb47b2e2014642bfbab3a8cd5dac78b7082e632e943a64158996f0b4c697279"
   }
  }
 },
 "nbformat": 4,
 "nbformat_minor": 2
}
