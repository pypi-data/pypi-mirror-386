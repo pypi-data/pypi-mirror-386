{
 "cells": [
  {
   "cell_type": "markdown",
   "id": "7fb27b941602401d91542211134fc71a",
   "metadata": {},
   "source": [
    "# LangChain Notion Agent Walkthrough\n",
    "\n",
    "This notebook demonstrates how to compose `NotionSearchTool` and `NotionWriteTool`\n",
    "inside an async feedback loop. Configure `NOTION_API_TOKEN` before running.\n"
   ]
  },
  {
   "cell_type": "code",
   "execution_count": null,
   "id": "acae54e37e7d407bbb7b55eff062a284",
   "metadata": {},
   "outputs": [],
   "source": [
    "import asyncio\n",
    "\n",
    "from langchain_notion_tools import NotionSearchTool, NotionWriteTool, from_text\n",
    "\n",
    "\n",
    "async def main():\n",
    "    search = NotionSearchTool()\n",
    "    write = NotionWriteTool()\n",
    "    hits = search.run(query=\"design review\")\n",
    "    if not hits:\n",
    "        print('No matching pages found')\n",
    "        return\n",
    "    target = hits[0]\n",
    "    blocks = from_text(\"### Decision\\n- Adopt shared design system\")\n",
    "    preview = write.run(\n",
    "        update={\"page_id\": target['id'], \"mode\": \"append\"},\n",
    "        blocks=blocks,\n",
    "        is_dry_run=True,\n",
    "    )\n",
    "    print(preview['summary'])\n",
    "    confirm = input('Post to Notion? [y/N] ').strip().lower() == 'y'\n",
    "    if not confirm:\n",
    "        return\n",
    "    result = await write.arun(\n",
    "        update={\"page_id\": target['id'], \"mode\": \"append\"},\n",
    "        blocks=blocks,\n",
    "    )\n",
    "    print(result['summary'])\n",
    "    print('URL:', result['url'])\n",
    "\n",
    "asyncio.run(main())\n"
   ]
  }
 ],
 "metadata": {
  "kernelspec": {
   "display_name": "Python 3",
   "language": "python",
   "name": "python3"
  },
  "language_info": {
   "codemirror_mode": {
    "name": "ipython",
    "version": 3
   },
   "file_extension": ".py",
   "mimetype": "text/x-python",
   "name": "python",
   "nbconvert_exporter": "python",
   "pygments_lexer": "ipython3",
   "version": "3.11"
  }
 },
 "nbformat": 4,
 "nbformat_minor": 5
}