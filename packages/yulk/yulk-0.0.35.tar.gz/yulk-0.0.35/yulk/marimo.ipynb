{
 "cells": [
  {
   "cell_type": "code",
   "execution_count": null,
   "id": "d8db48d5-edd3-4b89-a97c-39e6bdaf4c78",
   "metadata": {
    "tags": []
   },
   "outputs": [],
   "source": [
    "! pip install marimo[recommended] -i http://mirrors.aliyun.com/pypi/simple --trusted-host mirrors.aliyun.com"
   ]
  },
  {
   "cell_type": "code",
   "execution_count": null,
   "id": "01c4bc16-e8f5-4e08-9615-b5916795eefb",
   "metadata": {
    "tags": []
   },
   "outputs": [],
   "source": [
    "! pip install spacy==3.8.3 -i http://mirrors.aliyun.com/pypi/simple --trusted-host mirrors.aliyun.com"
   ]
  },
  {
   "cell_type": "code",
   "execution_count": 2,
   "id": "4f376e5c-07f2-4e01-9427-640652e01f31",
   "metadata": {
    "tags": []
   },
   "outputs": [],
   "source": [
    "import pandas as pd "
   ]
  },
  {
   "cell_type": "code",
   "execution_count": null,
   "id": "3436b6be-c187-4e1e-ae6c-b847441ccf57",
   "metadata": {
    "tags": []
   },
   "outputs": [],
   "source": [
    "! pip install yulk --upgrade "
   ]
  },
  {
   "cell_type": "code",
   "execution_count": null,
   "id": "fb252f4e-2ae9-4fa5-802e-f3c5ded14667",
   "metadata": {
    "tags": []
   },
   "outputs": [],
   "source": [
    "! pip install http://yulk.net:8000/spacy/en_core_web_sm-3.8.0-py3-none-any.whl"
   ]
  },
  {
   "cell_type": "code",
   "execution_count": null,
   "id": "4ab543d9-a68a-4d52-ba63-4f6e917c74a3",
   "metadata": {
    "tags": []
   },
   "outputs": [],
   "source": [
    "! pip install http://yulk.net:8000/spacy/zh_core_web_sm-3.8.0-py3-none-any.whl"
   ]
  },
  {
   "cell_type": "code",
   "execution_count": null,
   "id": "22f01ca1-de9c-419a-925f-8314abf70308",
   "metadata": {
    "tags": []
   },
   "outputs": [],
   "source": [
    "! pip  install numpy==1.24.3 -i http://mirrors.aliyun.com/pypi/simple --trusted-host mirrors.aliyun.com"
   ]
  },
  {
   "cell_type": "code",
   "execution_count": 1,
   "id": "40d7f510-f5d2-49e9-a103-94e48036c4d1",
   "metadata": {
    "tags": []
   },
   "outputs": [],
   "source": [
    "import yulk "
   ]
  },
  {
   "cell_type": "code",
   "execution_count": 2,
   "id": "e93e3754-077f-40c0-9a9c-0043767f99a3",
   "metadata": {
    "tags": []
   },
   "outputs": [
    {
     "data": {
      "text/plain": [
       "'D:\\\\sqlpy\\\\python-3.11.4.amd64\\\\Lib\\\\site-packages\\\\yulk'"
      ]
     },
     "execution_count": 2,
     "metadata": {},
     "output_type": "execute_result"
    }
   ],
   "source": [
    "root"
   ]
  },
  {
   "cell_type": "code",
   "execution_count": 2,
   "id": "e48448a5-e609-4ecf-b028-4069961814c7",
   "metadata": {},
   "outputs": [
    {
     "data": {
      "text/plain": [
       "<function yulk.<lambda>(word)>"
      ]
     },
     "execution_count": 2,
     "metadata": {},
     "output_type": "execute_result"
    }
   ],
   "source": [
    "stopset"
   ]
  },
  {
   "cell_type": "code",
   "execution_count": 4,
   "id": "067bace8-cd62-4be9-8ae4-a5db92cd2cab",
   "metadata": {
    "tags": []
   },
   "outputs": [
    {
     "data": {
      "text/plain": [
       "<function <lambda>(s='world')>"
      ]
     },
     "execution_count": 4,
     "metadata": {},
     "output_type": "execute_result"
    }
   ],
   "source": [
    "myhello"
   ]
  },
  {
   "cell_type": "code",
   "execution_count": 4,
   "id": "db64e226-4bb7-46c8-bbe9-5bbe29066321",
   "metadata": {
    "tags": []
   },
   "outputs": [
    {
     "data": {
      "text/plain": [
       "<function yulk.<lambda>(text)>"
      ]
     },
     "execution_count": 4,
     "metadata": {},
     "output_type": "execute_result"
    }
   ],
   "source": [
    "sntmd5"
   ]
  }
 ],
 "metadata": {
  "kernelspec": {
   "display_name": "Python 3 (ipykernel)",
   "language": "python",
   "name": "python3"
  },
  "language_info": {
   "codemirror_mode": {
    "name": "ipython",
    "version": 3
   },
   "file_extension": ".py",
   "mimetype": "text/x-python",
   "name": "python",
   "nbconvert_exporter": "python",
   "pygments_lexer": "ipython3",
   "version": "3.11.4"
  }
 },
 "nbformat": 4,
 "nbformat_minor": 5
}
