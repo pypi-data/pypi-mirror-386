{
 "cells": [
  {
   "cell_type": "markdown",
   "id": "3c55f687-3544-4424-9cd4-937001515757",
   "metadata": {},
   "source": [
    "# Running Dask+FlowCept\n",
    "\n",
    "### With Dask being launched from the CLI.\n",
    "\n",
    "#### Steps\n",
    "\n",
    "1. Start the scheduler:\n",
    "\n",
    "```shell\n",
    "dask scheduler --no-dashboard --no-show  --scheduler-file 'scheduler_file.json' \n",
    "```\n",
    "\n",
    "2. Start each worker:\n",
    "\n",
    "```shell\n",
    "dask worker --scheduler-file 'scheduler_file.json'\n",
    "```\n",
    "\n",
    "3. In user code, instantiate a FlowCept worker adapter and register it from the client:\n",
    "\n",
    "```python\n",
    "from flowcept import FlowceptDaskWorkerAdapter\n",
    "...\n",
    "client.register_plugin(FlowceptDaskWorkerAdapter())\n",
    "```\n",
    "\n",
    "PS: Step 3 could be avoided, but I could not make it run using Dask's configuration file in `~/.config/dask/settings.yaml`. It simply does not register the worker's adapter. Tried both client and worker setup. See [link](https://docs.dask.org/en/stable/how-to/customize-initialization.html#configuration).\n"
   ]
  },
  {
   "cell_type": "code",
   "execution_count": null,
   "id": "e04cc1b3",
   "metadata": {
    "tags": []
   },
   "outputs": [],
   "source": [
    "from flowcept import Flowcept\n",
    "flowcept = Flowcept(\"dask\", client)\n",
    "flowcept.start()"
   ]
  },
  {
   "cell_type": "code",
   "execution_count": null,
   "id": "c4f6d1bb-1041-44d9-8cb2-53ada6925630",
   "metadata": {
    "tags": []
   },
   "outputs": [],
   "source": [
    "def my_sum(x):\n",
    "    return x+x"
   ]
  },
  {
   "cell_type": "code",
   "execution_count": null,
   "id": "902961bc-5b00-4b43-a69b-c1e0e700c847",
   "metadata": {
    "tags": []
   },
   "outputs": [],
   "source": [
    "from dask.distributed import Client\n",
    "client = Client(scheduler_file='scheduler_file.json')"
   ]
  },
  {
   "cell_type": "code",
   "execution_count": null,
   "id": "6b482a7c-9573-4572-b185-95466530c25f",
   "metadata": {
    "tags": []
   },
   "outputs": [],
   "source": [
    "from flowcept import FlowceptDaskSchedulerAdapter"
   ]
  },
  {
   "cell_type": "code",
   "execution_count": null,
   "id": "c7f8e0c0-6ef2-4d6a-90ad-e2b4cd3c59ef",
   "metadata": {
    "tags": []
   },
   "outputs": [],
   "source": [
    "client.scheduler_info()"
   ]
  },
  {
   "cell_type": "code",
   "execution_count": null,
   "id": "cd1711e6",
   "metadata": {},
   "outputs": [],
   "source": [
    "from flowcept import FlowceptDaskWorkerAdapter\n",
    "client.register_plugin(FlowceptDaskWorkerAdapter())"
   ]
  },
  {
   "cell_type": "code",
   "execution_count": null,
   "id": "a82635b1-457a-450b-ba42-abdfaf1c22ff",
   "metadata": {
    "tags": []
   },
   "outputs": [],
   "source": [
    "o1 = client.submit(my_sum, 37)\n",
    "o1"
   ]
  },
  {
   "cell_type": "code",
   "execution_count": null,
   "id": "e7b231be-ca87-4eea-81a2-c2221713ea09",
   "metadata": {
    "tags": []
   },
   "outputs": [],
   "source": [
    "o1.result()"
   ]
  },
  {
   "cell_type": "code",
   "execution_count": null,
   "id": "40447b64-e97d-41f9-aac3-fcec4edf2aa4",
   "metadata": {},
   "outputs": [],
   "source": [
    "flowcept.stop()"
   ]
  }
 ],
 "metadata": {
  "kernelspec": {
   "display_name": "Python 3 (ipykernel)",
   "language": "python",
   "name": "python3"
  },
  "language_info": {
   "codemirror_mode": {
    "name": "ipython",
    "version": 3
   },
   "file_extension": ".py",
   "mimetype": "text/x-python",
   "name": "python",
   "nbconvert_exporter": "python",
   "pygments_lexer": "ipython3",
   "version": "3.10.15"
  }
 },
 "nbformat": 4,
 "nbformat_minor": 5
}
