{
 "cells": [
  {
   "cell_type": "code",
   "execution_count": null,
   "id": "1f88ea6d",
   "metadata": {
    "pycharm": {
     "name": "#%%\n"
    }
   },
   "outputs": [],
   "source": [
    "import os\n",
    "\n",
    "from gnssrefl.utils import check_environment, set_environment, get_sys\n",
    "from pathlib import Path\n",
    "\n",
    "# Making sure environment variables are set - this is required to run the gnssrefl code\n",
    "notebook_dir = Path.cwd().parents[0]\n",
    "\n",
    "exists = check_environment()\n",
    "if exists == False:\n",
    "    #If you are running this locally - make sure the items in the exe folder have execution permissions\n",
    "    set_environment(refl_code=str(notebook_dir),\n",
    "                    orbits=str(notebook_dir / \"orbits\"),\n",
    "                    exe=str(notebook_dir / \"exe\"))\n",
    "\n",
    "# Set local variable of refl_code location\n",
    "refl_code_loc = os.environ['REFL_CODE']\n",
    "print(\"refl_code location:\", refl_code_loc)"
   ]
  },
  {
   "cell_type": "markdown",
   "id": "8d5bd2a9",
   "metadata": {
    "pycharm": {
     "name": "#%% md\n"
    }
   },
   "source": [
    "### Step 3. Download and check EXE dependencies are present:\n",
    "\n",
    "use environment.download_crx2rnx to import the crx2rnx file(Required translator for compressed (Hatanaka) RINEX files) which is dependant on your working OS - this is required to run the gnssrefl code.\n",
    "\n",
    "If this does not properly find your running os, then it will print out an error and instruct you how to add a parameter to manually set which os you are using.\n",
    "\n",
    "Note that this function relies on your environment variables to be properly set."
   ]
  },
  {
   "cell_type": "code",
   "execution_count": null,
   "id": "7a87b4e1",
   "metadata": {
    "pycharm": {
     "name": "#%%\n"
    }
   },
   "outputs": [],
   "source": [
    "print('files in exe folder:', os.listdir(os.environ['EXE']))\n",
    "\n",
    "#import gnssrefl rinex2snr function (environment variables must be set first)\n",
    "from gnssrefl.rinex2snr_cl import rinex2snr\n",
    "from gnssrefl.installexe_cl import installexe\n",
    "\n",
    "# Download the executables\n",
    "try:\n",
    "    os.environ['DOCKER']\n",
    "except KeyError:\n",
    "    sys = get_sys()\n",
    "    installexe(sys)"
   ]
  },
  {
   "cell_type": "markdown",
   "id": "90d27a33",
   "metadata": {
    "pycharm": {
     "name": "#%% md\n"
    }
   },
   "source": [
    "If you see 'CRX2RNX' and 'gfzrnx' in your EXE folder then you are all set. \n",
    "\n",
    "**Note*** that the gfzrnx file was in the exe when you pulled the repository - it currently is set for a linux environment and can only be used with the docker version of the jupyter notebooks or if you are running linux. The gfzrnx file is not required to run the code - but is needed if you want to work with RINEX3 files. If you need to download the correct version for your os then download from [here](http://dx.doi.org/10.5880/GFZ.1.1.2016.002) and then place it in your exe folder."
   ]
  },
  {
   "cell_type": "markdown",
   "id": "c1840fe5",
   "metadata": {
    "pycharm": {
     "name": "#%% md\n"
    }
   },
   "source": [
    "### Step 4. Run a quick Analysis"
   ]
  },
  {
   "cell_type": "markdown",
   "id": "b10b786f",
   "metadata": {
    "pycharm": {
     "name": "#%% md\n"
    }
   },
   "source": [
    "#### a. simple use case that requires CRX2RNX and broadcast orbits:"
   ]
  },
  {
   "cell_type": "code",
   "execution_count": null,
   "id": "46681bb5",
   "metadata": {
    "pycharm": {
     "name": "#%%\n"
    }
   },
   "outputs": [],
   "source": [
    "station = 'p042'\n",
    "year = 2018\n",
    "doy = 150"
   ]
  },
  {
   "cell_type": "markdown",
   "id": "fdc5d12b",
   "metadata": {
    "pycharm": {
     "name": "#%% md\n"
    }
   },
   "source": [
    "To understand what rinex2snr returns, lets look at the function's available and default parameters:"
   ]
  },
  {
   "cell_type": "code",
   "execution_count": null,
   "id": "719426c4",
   "metadata": {
    "pycharm": {
     "name": "#%%\n"
    }
   },
   "outputs": [],
   "source": [
    "rinex2snr?"
   ]
  },
  {
   "cell_type": "markdown",
   "id": "3879ff8a",
   "metadata": {
    "pycharm": {
     "name": "#%% md\n"
    }
   },
   "source": [
    "Now lets run the function without changing any of the defaults."
   ]
  },
  {
   "cell_type": "code",
   "execution_count": null,
   "id": "2761900b",
   "metadata": {
    "pycharm": {
     "name": "#%%\n"
    }
   },
   "outputs": [],
   "source": [
    "rinex2snr(station, year, doy)"
   ]
  },
  {
   "cell_type": "markdown",
   "id": "46d19557",
   "metadata": {
    "pycharm": {
     "name": "#%% md\n"
    }
   },
   "source": [
    "you've successfully run the rinex2snr program that:\n",
    "* downloaded and uncompressed [hatanaka](https://www.unavco.org/data/gps-gnss/hatanaka/hatanaka.html) rinex for a single station (p042) for a single day (doy 150 in 2018)\n",
    "* downloaded GPS broadcast orbits\n",
    "* calculated azimuth and elevation for each satellite at each epoch given these orbits\n",
    "* wrote this az/el, signal, time and CN0 information to a formatted snr output file\n",
    "for future analysis.\n",
    "Reminder, the .66 file name suffix refers to the\n",
    "[elevation masking options](https://github.com/kristinemlarson/gnssrefl#iv-rinex2snr---extracting-snr-data-from-rinex-files-)."
   ]
  },
  {
   "cell_type": "markdown",
   "id": "7a4f5f88",
   "metadata": {
    "pycharm": {
     "name": "#%% md\n"
    }
   },
   "source": [
    "#### b. simple use case that requires CRX2RNX and SP3 orbits:"
   ]
  },
  {
   "cell_type": "markdown",
   "id": "770ef291",
   "metadata": {
    "pycharm": {
     "name": "#%% md\n"
    }
   },
   "source": [
    "Here we will run rinex2snr for the same day, but lets change the 'orb' parameter to gnss."
   ]
  },
  {
   "cell_type": "code",
   "execution_count": null,
   "id": "f0cf44ff",
   "metadata": {
    "pycharm": {
     "name": "#%%\n"
    }
   },
   "outputs": [],
   "source": [
    "rinex2snr(station, year, doy=doy, orb='gnss')"
   ]
  },
  {
   "cell_type": "markdown",
   "id": "af3eeed4",
   "metadata": {
    "pycharm": {
     "name": "#%% md\n"
    }
   },
   "source": [
    "Note* If you get:\n",
    "*SNR file exists...*\\\n",
    "This is because the logic of gnssrefl checks for an snr file prior for processing - and we already processed this day earlier.\n",
    "Remember this fact if you ever want to **re**-process with different orbits!\n",
    "You can use the overwrite parameter to overwrite files if you want to reprocess.\n",
    "Now lets try that again."
   ]
  },
  {
   "cell_type": "code",
   "execution_count": null,
   "id": "d871346d",
   "metadata": {
    "pycharm": {
     "name": "#%%\n"
    }
   },
   "outputs": [],
   "source": [
    "rinex2snr(station, year, doy=150, orb='gnss', overwrite=True)"
   ]
  },
  {
   "cell_type": "markdown",
   "id": "adb16788",
   "metadata": {
    "pycharm": {
     "name": "#%% md\n"
    }
   },
   "source": [
    "If you get:\n",
    "SUCCESS: SNR file was created: ...\n",
    "you've successfully:\n",
    "\n",
    "* downloaded and uncompressed hatanaka rinex for a single station (p042) for a single day (doy 150 in 2018)\n",
    "* downloaded SP3 format GNSS orbits from the GFZ archive\n",
    "* calculated azimuth and elevation for each satellite at each epoch\n",
    "* wrote this az/el, signal, time and CN0 information to a formatted snr output file for future analysis."
   ]
  },
  {
   "cell_type": "markdown",
   "id": "2016cf18",
   "metadata": {
    "pycharm": {
     "name": "#%% md\n"
    }
   },
   "source": [
    "#### c. (OPTIONAL - requires the gfzrnx executable mentioned previously ) RINEX 3 simple use case that requires gfzrnx"
   ]
  },
  {
   "cell_type": "markdown",
   "id": "c5c8b226",
   "metadata": {
    "pycharm": {
     "name": "#%% md\n"
    }
   },
   "source": [
    "**If** you are interested in using RINEX version 3 data, please run this test:\n",
    "\n",
    "note: this will fail if you do not have the correct system-dependant gfzrnx translation file. See the instructions above to get this file."
   ]
  },
  {
   "cell_type": "code",
   "execution_count": null,
   "id": "cc55cb55",
   "metadata": {
    "pycharm": {
     "name": "#%%\n"
    }
   },
   "outputs": [],
   "source": [
    "rinex2snr(station='onsa00swe', year=2020, doy=1, archive='cddis', orb='gnss')"
   ]
  },
  {
   "cell_type": "markdown",
   "id": "5e561106",
   "metadata": {
    "pycharm": {
     "name": "#%% md\n"
    }
   },
   "source": [
    "If you get:\n",
    "*SUCCESS: SNR file was created: ...* \\\n",
    "you've successfully:\n",
    "* downloaded and uncompressed rinex 3 for a single station (onsa)\n",
    "for a single day (doy 1 in 2020) from the cddis archive\n",
    "* converted rinex 3 to rinex 2 using gfzrnx executable\n",
    "* downloaded SP3 format GNSS orbits from the GFZ archive\n",
    "* calculated azimuth and elevation for each satellite at each epoch\n",
    "* wrote this az/el, signal, time and CN0 information to a formatted\n",
    "snr output file for future analysis."
   ]
  },
  {
   "cell_type": "code",
   "execution_count": null,
   "id": "d5e281c9",
   "metadata": {
    "pycharm": {
     "name": "#%%\n"
    }
   },
   "outputs": [],
   "source": []
  }
 ],
 "metadata": {
  "kernelspec": {
   "display_name": "gnssrefl_jupyter",
   "language": "python",
   "name": "gnssrefl_jupyter"
  },
  "language_info": {
   "codemirror_mode": {
    "name": "ipython",
    "version": 3
   },
   "file_extension": ".py",
   "mimetype": "text/x-python",
   "name": "python",
   "nbconvert_exporter": "python",
   "pygments_lexer": "ipython3",
   "version": "3.9.8"
  }
 },
 "nbformat": 4,
 "nbformat_minor": 5
}
