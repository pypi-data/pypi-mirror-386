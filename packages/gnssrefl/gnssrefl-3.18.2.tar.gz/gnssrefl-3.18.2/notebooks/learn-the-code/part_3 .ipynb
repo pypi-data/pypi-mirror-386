{
 "cells": [
  {
   "cell_type": "markdown",
   "id": "7fb3badb",
   "metadata": {
    "pycharm": {
     "name": "#%% md\n"
    }
   },
   "source": [
    "# Learn the code - Part 3\n",
    "\n",
    "---\n",
    "**Purpose:** Learn how to measure water level with gnssrefl using GNSS data "
   ]
  },
  {
   "cell_type": "code",
   "execution_count": 1,
   "id": "4458d0d1",
   "metadata": {
    "pycharm": {
     "name": "#%%\n"
    }
   },
   "outputs": [
    {
     "name": "stdout",
     "output_type": "stream",
     "text": [
      "environment variable ORBITS set to path /Users/enloe/UNAVCO_Projects/git/gnssrefl_jupyter/orbits \n",
      "environment variable REFL_CODE set to path /Users/enloe/UNAVCO_Projects/git/gnssrefl_jupyter \n",
      "environment variable EXE set to path /Users/enloe/UNAVCO_Projects/git/gnssrefl_jupyter/bin/exe\n"
     ]
    }
   ],
   "source": [
    "import os\n",
    "\n",
    "from gnssrefl.utils import check_environment, set_environment, get_sys\n",
    "from pathlib import Path\n",
    "\n",
    "# Making sure environment variables are set - this is required to run the gnssrefl code\n",
    "notebook_dir = Path.cwd().parents[0]\n",
    "\n",
    "exists = check_environment()\n",
    "if exists == False:\n",
    "    #If you are running this locally - make sure the items in the exe folder have execution permissions\n",
    "    set_environment(refl_code=str(notebook_dir),\n",
    "                    orbits=str(notebook_dir / \"orbits\"),\n",
    "                    exe=str(notebook_dir / \"exe\"))\n",
    "\n",
    "# Set local variable of refl_code location\n",
    "refl_code_loc = os.environ['REFL_CODE']\n",
    "print(\"refl_code location:\", refl_code_loc)\n",
    "\n",
    "# import gnssrefl functions\n",
    "from gnssrefl.rinex2snr_cl import rinex2snr\n",
    "from gnssrefl.quickLook_cl import quicklook\n",
    "from gnssrefl.gnssir_cl import gnssir\n",
    "from gnssrefl.daily_avg_cl import daily_avg\n",
    "from gnssrefl.installexe_cl import installexe\n",
    "\n",
    "#@formatter:off\n",
    "%matplotlib inline"
   ]
  },
  {
   "cell_type": "code",
   "execution_count": 2,
   "id": "8e4a6620",
   "metadata": {
    "pycharm": {
     "name": "#%%\n"
    }
   },
   "outputs": [
    {
     "name": "stdout",
     "output_type": "stream",
     "text": [
      "Your executable environment area:  /Users/enloe/UNAVCO_Projects/git/gnssrefl_jupyter/bin/exe\n",
      "You already have this executable: CRX2RNX\n",
      "Executable already exists: teqc\n",
      "You already have this executable: gfzrnx\n"
     ]
    }
   ],
   "source": [
    "# Download the executables\n",
    "try:\n",
    "    os.environ['DOCKER']\n",
    "except KeyError:\n",
    "    sys = get_sys()\n",
    "    installexe(sys)"
   ]
  },
  {
   "cell_type": "markdown",
   "id": "c6a079b5",
   "metadata": {
    "pycharm": {
     "name": "#%% md\n"
    }
   },
   "source": [
    "**Station:**\n",
    "We will be using station **ross**. It is operated by [NRCAN](https://www.nrcan.gc.ca). \n",
    "This [map](https://webapp.geod.nrcan.gc.ca/geod/data-donnees/cacs-scca.php?locale=en)\n",
    "gives you an overview of GNSS stations operated by NRCAN. Use the plus sign on the map \n",
    "to look more closely at Lake Superior. Find **ross** and click on it (station M023004). \n",
    "If you scroll down, you will see a photo of the monument. \n",
    "\n",
    "NRCAN is operating what I would call a \"legacy\" GNSS instrument. This means it only tracks the original GPS signals that were designed in the 1970s. This means none of the enhanced GPS signals (L2C and L5) available since 2005 are provided. Furthermore, there are no signals from Glonass, Galileo, or Beidou. The bottom line is that you will be using only the L1 GPS signal, which leaves you with ~15% of what would be available from a modern multi-GNSS unit. The sample rate - 30 seconds - limits what kind of reflectometry you can do. For the purposes of this homework, it restricts the RH to values less than ~10 meters."
   ]
  },
  {
   "cell_type": "markdown",
   "id": "5700feb1",
   "metadata": {
    "pycharm": {
     "name": "#%% md\n"
    }
   },
   "source": [
    "**Azimuth/Elevation Mask**\n",
    "\n",
    "Next, let's get an idea of what this site looks like from a reflections viewpoint. \n",
    "\n",
    "Run the cell below (starts with %%html) to view the gnss-reflections webapp.\n",
    "Use the geoid tab in the webapp to\n",
    "get an idea of its surroundings. You can enter the station coordinates by hand if you know them, \n",
    "but since **ross** is part of a public archive known to geodesists, coordinates have been stored in the webapp.\n",
    "Just type in **ross** for the station name. Make a note of the station \n",
    "latitude, longitude, and ellipsoidal height that is returned by the \n",
    "webapp because you will need it later. Although the elevation above sea level of \n",
    "the site is ~186 meters, from the photo you know already this is not the value \n",
    "we will want to use for our reflections study. We will start with our common \n",
    "sense, look at the data, and iterate if necessary."
   ]
  },
  {
   "cell_type": "code",
   "execution_count": null,
   "id": "5a0d3f0e",
   "metadata": {
    "pycharm": {
     "name": "#%%\n"
    }
   },
   "outputs": [],
   "source": [
    "# save the variable for the station name since it will be used for the rest of the notebook\n",
    "station = 'ross'\n",
    "\n",
    "# fill in the values for these variables from the output of the web app below\n",
    "lat = 48.83372945\n",
    "long = -87.5195988\n",
    "height = 149.835"
   ]
  },
  {
   "cell_type": "code",
   "execution_count": 1,
   "id": "f1e07014",
   "metadata": {
    "ExecuteTime": {
     "end_time": "2023-01-18T03:47:27.788313Z",
     "start_time": "2023-01-18T03:47:27.768447Z"
    },
    "pycharm": {
     "name": "#%%\n"
    }
   },
   "outputs": [
    {
     "data": {
      "text/html": [
       "<iframe src=\"https://gnss-reflections.org/geoid\" width=\"1000\" height=\"600\"></iframe>\n"
      ],
      "text/plain": [
       "<IPython.core.display.HTML object>"
      ]
     },
     "metadata": {},
     "output_type": "display_data"
    }
   ],
   "source": [
    "%%html\n",
    "<iframe src=\"https://gnss-reflections.org/geoid\" width=\"1000\" height=\"600\"></iframe>"
   ]
  },
  {
   "cell_type": "markdown",
   "id": "c1840fe5",
   "metadata": {
    "pycharm": {
     "name": "#%% md\n"
    }
   },
   "source": [
    "Use the [reflection zone section of the web app](https://gnss-reflections.org/rzones) in the cell below to get an idea\n",
    "of what reflection zones are possible for this site. We cannot use the default sea level reflection \n",
    "value, so you need to set a Reflector Height (RH) value. Based on the photograph, try values that\n",
    "you think are reasonable. You don't want your reflection zones to cross \n",
    "a dock or the nearby boats, so you should also rerun it with different azimuth limits. Don't worry about it too much as we will get feedback from the actual GPS data.\n",
    "\n",
    "Make a note of:\n",
    "\n",
    "<UL>\n",
    "<LI>RH\n",
    "<LI>elevation angle values that give water coverage without interference from docks/boats\n",
    "<LI>azimuth angle values that cover open water without interference\n",
    "<LI>the DECIMAL latitude, longitude, and height (from the geoid webapp).\n",
    "<LI>we can only use L1 GPS data at this site \n",
    "<LI>We can't estimate RH larger than 10 meters because of the sampling rate\n",
    "</UL>"
   ]
  },
  {
   "cell_type": "code",
   "execution_count": null,
   "id": "9f367988",
   "metadata": {
    "pycharm": {
     "name": "#%%\n"
    }
   },
   "outputs": [],
   "source": [
    "%%html\n",
    "<iframe src=\"https://gnss-reflections.org/rzones\" width=\"800\" height=\"800\"></iframe>"
   ]
  },
  {
   "cell_type": "markdown",
   "id": "6567c858",
   "metadata": {
    "pycharm": {
     "name": "#%% md\n"
    }
   },
   "source": [
    "**Using gnssrefl**\n",
    "\n",
    "Now let's look at the **ross** data. We need to pick up a RINEX file and strip out the \n",
    "SNR data.  We use the <code>rinex2snr</code> for this purpose.  Use -h if you want to \n",
    "see the options for this module. We will throw caution to the winds and see if the defaults will work. \n",
    "The only required inputs are the station name (ross), the year (2020) and day of year (150) \n",
    "(note: to convert from year and day of year to year, \n",
    "month, day and vice versa, try the modules <code>ydoy</code> and \n",
    "<code>ymd</code>). \n",
    "\n",
    "In this case the RINEX data are available from both sopac and nrcan. Try the <code>archive</code> option."
   ]
  },
  {
   "cell_type": "code",
   "execution_count": null,
   "id": "5cb9339a",
   "metadata": {
    "pycharm": {
     "name": "#%%\n"
    }
   },
   "outputs": [],
   "source": [
    "rinex2snr?"
   ]
  },
  {
   "cell_type": "code",
   "execution_count": null,
   "id": "693e9af5",
   "metadata": {
    "pycharm": {
     "name": "#%%\n"
    }
   },
   "outputs": [],
   "source": [
    "year = 2020\n",
    "doy = 150\n",
    "# if you would like to pick an archive then you can \n",
    "# archive = 'nrcan'\n",
    "# archive = 'sopac'\n",
    "\n",
    "# if you choose to use an archive then you must add the parameter archive example:\n",
    "# args = run_gnssrefl.rinex2snr(station, year, doy, archive=archive)\n",
    "\n",
    "# otherwise, the only required parameters are station, year, and doy\n",
    "rinex2snr(station, year, doy)"
   ]
  },
  {
   "cell_type": "markdown",
   "id": "1e8156bc",
   "metadata": {
    "pycharm": {
     "name": "#%% md\n"
    }
   },
   "source": [
    "---\n",
    "Once you have successfully created a SNR file, run <code>quickLook</code>.\n",
    "\n",
    "The quicklook plots consist of two graphical representations of the data. The first is \n",
    "periodograms for the four geographic quadrants (northwest, northeast, and so on). \n",
    "You are looking for nice clean (and colorful) peaks. Color means they have \n",
    "passed Quality Control (QC). Gray lines are satellite tracks that failed QC. The second plot summarizes the \n",
    "RH retrievals and how the QC metrics look compared to \n",
    "the defaults. In this case the x-axis is azimuth in degrees."
   ]
  },
  {
   "cell_type": "code",
   "execution_count": null,
   "id": "05cecc29",
   "metadata": {
    "pycharm": {
     "name": "#%%\n"
    }
   },
   "outputs": [],
   "source": [
    "# Plotting using plt=True\n",
    "values, metrics = quicklook(station, year, doy=doy, plt=True)"
   ]
  },
  {
   "cell_type": "markdown",
   "id": "e3d314d4",
   "metadata": {
    "pycharm": {
     "name": "#%% md\n"
    }
   },
   "source": [
    "From these plots, how does the correct *RH* value compare with the one you assumed earlier when you \n",
    "were trying out the webapp?  How about the azimuths?  Go back to the reflection zone webapp and \n",
    "make sure you are happy with your azimuth and elevation angle selections.\n",
    "\n",
    "Next we need to save our <code>gnssrefl</code> analysis strategy using \n",
    "<code>make_json_input</code>. At a minimum you need to know \n",
    "the latitude, longitude, and height for the station (we saved these as variables earlier so they can easily be accessed at this point). However, your analysis strategy can and should\n",
    "be improved by setting some parameters.\n",
    "\n",
    "*Hints:*\n",
    "\n",
    "* Check the documentation to see how to set the elevation angles and RH limits. You can run the following cell to see the parameters.\n",
    "\n",
    "* Since we can only use L1 data, you should use the <code>l1=True</code>.\n",
    "\n",
    "* You will need to hand edit the azimuths in the json file. You want to cut up your azimuth range in 60-90 degree chunks.  So if you wanted to use the region  for 90-270 degrees, you should say 90-180 and 180-270. You can use smaller chunks, but I generally do not use less than 45 degree azimuth chunks."
   ]
  },
  {
   "cell_type": "code",
   "execution_count": null,
   "id": "abce263d",
   "metadata": {
    "pycharm": {
     "name": "#%%\n"
    }
   },
   "outputs": [],
   "source": [
    "# run this cell to view the available parameters and current defaults\n",
    "make_json?"
   ]
  },
  {
   "cell_type": "code",
   "execution_count": null,
   "id": "c4ae6026",
   "metadata": {
    "pycharm": {
     "name": "#%%\n"
    }
   },
   "outputs": [],
   "source": [
    "make_json(station, lat, long, height, l1=True)"
   ]
  },
  {
   "cell_type": "code",
   "execution_count": null,
   "id": "5698b431",
   "metadata": {
    "pycharm": {
     "name": "#%%\n"
    }
   },
   "outputs": [],
   "source": [
    "# This is the json file that was created with the defaults + parameters you set above\n",
    "json_file = f'{refl_code_loc}/input/{station}.json'\n",
    "with open(json_file, \"r\") as myfile:\n",
    "    file = json.load(myfile)\n",
    "\n",
    "file"
   ]
  },
  {
   "cell_type": "code",
   "execution_count": null,
   "id": "4ab6956d",
   "metadata": {
    "pycharm": {
     "name": "#%%\n"
    }
   },
   "outputs": [],
   "source": [
    "# Now lets edit the json file\n",
    "with open(json_file, \"r\") as myfile:\n",
    "    file = json.load(myfile)\n",
    "\n",
    "# Here is where we can 'hand edit' values in the json file\n",
    "# lets edit the azimuths\n",
    "file['azval'] = [90, 180, 180, 270]\n",
    "\n",
    "with open(json_file, 'w') as f:\n",
    "    json.dump(file, f, indent=4)\n",
    "\n",
    "# now lets view it again and note the difference\n",
    "with open(json_file, \"r\") as myfile:\n",
    "    file = json.load(myfile)\n",
    "\n",
    "file"
   ]
  },
  {
   "cell_type": "markdown",
   "id": "25a9889c",
   "metadata": {
    "pycharm": {
     "name": "#%% md\n"
    }
   },
   "source": [
    "Now run <code>gnssir</code> for the year 2020/doy 150. \n",
    "This module is meant for *routine analysis* and thus there are not a lot\n",
    "of bells and whistles. However, it is good practice to see that something is actually \n",
    "created (the screen output will tell you where it is)."
   ]
  },
  {
   "cell_type": "code",
   "execution_count": null,
   "id": "cd32b652",
   "metadata": {
    "pycharm": {
     "name": "#%%\n"
    }
   },
   "outputs": [],
   "source": [
    "year = 2020\n",
    "doy = 150\n",
    "gnssir(station, year, doy, plt=True, screenstats=False)"
   ]
  },
  {
   "cell_type": "markdown",
   "id": "92d657bb",
   "metadata": {
    "pycharm": {
     "name": "#%% md\n"
    }
   },
   "source": [
    "**Extra Credit:**\n",
    "\n",
    "The <code>gnssir</code> output tells you the vertical distance between the GPS antenna and \n",
    "the lake for each successful satellite track. That is not \n",
    "super exciting; it is a little more interesting to see if it changes over time, which means \n",
    "you need to analyze a bit more data. \n",
    "\n",
    "* use <code>rinex2snr</code> to make SNR files for the same year, but now do doy 120 through 290. You can use the <code>doy_end</code> parameter to do that. And use <code>weekly=True</code> to make fewer files (which will make everything much faster). Why did I pick those dates? Mostly to avoid snow (yeap, it snows up there!) "
   ]
  },
  {
   "cell_type": "code",
   "execution_count": null,
   "id": "bf99b6c4",
   "metadata": {
    "pycharm": {
     "name": "#%%\n"
    }
   },
   "outputs": [],
   "source": [
    "doy = 120\n",
    "doy_end = 290\n",
    "\n",
    "rinex2snr(station, year, doy=doy, doy_end=doy_end, weekly=True)"
   ]
  },
  {
   "cell_type": "markdown",
   "id": "ac6f053e",
   "metadata": {
    "pycharm": {
     "name": "#%% md\n"
    }
   },
   "source": [
    "* run <code>gnssir</code> for those dates. You do not need the weekly option here - you can just specify 120 through 290. It will look for every day, but if it doesn't find it, it just looks for the next day, etc."
   ]
  },
  {
   "cell_type": "code",
   "execution_count": null,
   "id": "5ad531e2",
   "metadata": {
    "pycharm": {
     "name": "#%%\n"
    }
   },
   "outputs": [],
   "source": [
    "# station, year, doy, and doy_end variables are already set.\n",
    "gnssir(station, year, doy, doy_end=doy_end, screenstats=False)"
   ]
  },
  {
   "cell_type": "markdown",
   "id": "cb3d6e50",
   "metadata": {
    "pycharm": {
     "name": "#%% md\n"
    }
   },
   "source": [
    "* You can now use the <code>daily_avg</code> to make a daily average for the lake level on each day you analyzed.  "
   ]
  },
  {
   "cell_type": "code",
   "execution_count": null,
   "id": "7465213f",
   "metadata": {
    "pycharm": {
     "name": "#%%\n"
    }
   },
   "outputs": [],
   "source": [
    "daily_avg?"
   ]
  },
  {
   "cell_type": "code",
   "execution_count": null,
   "id": "2e332827",
   "metadata": {
    "pycharm": {
     "name": "#%%\n"
    }
   },
   "outputs": [],
   "source": [
    "daily_avg(station, medfilter=.25, ReqTracks=20, txtfile=f'{station}-dailyavg.txt')\n",
    "\n",
    "# set a variable to where the file is saved\n",
    "dailyavg_filepath = f'{refl_code_loc}/Files/{station}-dailyavg.txt'"
   ]
  },
  {
   "cell_type": "markdown",
   "id": "672fc3a5",
   "metadata": {
    "pycharm": {
     "name": "#%% md\n"
    }
   },
   "source": [
    "* Let's plot the daily average file on each day analyzed. You can use the function read_rh_files from the gnssrefl_helpers module to read in the file."
   ]
  },
  {
   "cell_type": "code",
   "execution_count": null,
   "id": "5600345e",
   "metadata": {
    "pycharm": {
     "name": "#%%\n"
    }
   },
   "outputs": [],
   "source": [
    "data = gnssrefl_helpers.read_rh_files(dailyavg_filepath)\n",
    "# set data to pandas dataframe\n",
    "df = pd.DataFrame(data, index=None, columns=['dates', 'rh'])\n",
    "df.head()"
   ]
  },
  {
   "cell_type": "code",
   "execution_count": null,
   "id": "b55ee118",
   "metadata": {
    "pycharm": {
     "name": "#%%\n"
    }
   },
   "outputs": [],
   "source": [
    "# Now plot\n",
    "plt.figure(figsize=(8, 8))\n",
    "g = sns.scatterplot(x='dates', y='rh', data=df, legend=False)\n",
    "g.set_title('Ross Daily Mean Reflector Height')\n",
    "g.set_ylabel('Reflector Height (m)')\n",
    "g.set_ylim(4.55, 4.26)  # flip y axis so so 'up' is water levels rising\n",
    "plt.show()"
   ]
  },
  {
   "cell_type": "markdown",
   "id": "42b3d85e",
   "metadata": {
    "pycharm": {
     "name": "#%% md\n"
    }
   },
   "source": [
    "**Extra Extra Credit:**\n",
    "\n",
    "Compare your results with the [lake gauge data.](https://www.isdm-gdsi.gc.ca/isdm-gdsi/twl-mne/inventory-inventaire/sd-ds-eng.asp?no=10220&user=isdm-gdsi&region=CA)"
   ]
  },
  {
   "cell_type": "code",
   "execution_count": null,
   "id": "4a097e50",
   "metadata": {
    "pycharm": {
     "name": "#%%\n"
    }
   },
   "outputs": [],
   "source": []
  }
 ],
 "metadata": {
  "kernelspec": {
   "display_name": "gnssrefl_jupyter",
   "language": "python",
   "name": "gnssrefl_jupyter"
  },
  "language_info": {
   "codemirror_mode": {
    "name": "ipython",
    "version": 3
   },
   "file_extension": ".py",
   "mimetype": "text/x-python",
   "name": "python",
   "nbconvert_exporter": "python",
   "pygments_lexer": "ipython3",
   "version": "3.9.8"
  }
 },
 "nbformat": 4,
 "nbformat_minor": 5
}
