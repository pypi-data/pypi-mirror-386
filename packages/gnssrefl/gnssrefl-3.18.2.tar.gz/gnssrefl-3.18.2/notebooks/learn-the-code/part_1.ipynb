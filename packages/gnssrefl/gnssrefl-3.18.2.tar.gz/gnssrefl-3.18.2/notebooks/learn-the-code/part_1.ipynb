{
 "cells": [
  {
   "cell_type": "markdown",
   "id": "32ae913d",
   "metadata": {
    "editable": true,
    "pycharm": {
     "name": "#%% md\n"
    },
    "slideshow": {
     "slide_type": ""
    },
    "tags": []
   },
   "source": [
    "# Learn the code - Part 1\n",
    "\n",
    "---\n",
    "**Purpose:** Learn how to set your azimuth and elevation angle mask"
   ]
  },
  {
   "cell_type": "code",
   "execution_count": null,
   "id": "4458d0d1",
   "metadata": {
    "pycharm": {
     "name": "#%%\n"
    }
   },
   "outputs": [],
   "source": [
    "import os\n",
    "\n",
    "from gnssrefl.utils import check_environment, set_environment, get_sys\n",
    "from pathlib import Path\n",
    "\n",
    "# Making sure environment variables are set - this is required to run the gnssrefl code\n",
    "notebook_dir = Path.cwd().parents[0]\n",
    "\n",
    "exists = check_environment()\n",
    "if exists == False:\n",
    "    #If you are running this locally - make sure the items in the exe folder have execution permissions\n",
    "    set_environment(refl_code=str(notebook_dir),\n",
    "                    orbits=str(notebook_dir / \"orbits\"),\n",
    "                    exe=str(notebook_dir / \"exe\"))\n",
    "\n",
    "# Set local variable of refl_code location\n",
    "refl_code_loc = os.environ['REFL_CODE']\n",
    "print(\"refl_code location:\", refl_code_loc)\n",
    "\n",
    "# import gnssrefl functions\n",
    "from gnssrefl.rinex2snr_cl import rinex2snr\n",
    "from gnssrefl.quickLook_cl import quicklook\n",
    "from gnssrefl.installexe_cl import installexe\n",
    "\n",
    "%matplotlib inline"
   ]
  },
  {
   "cell_type": "code",
   "execution_count": null,
   "id": "1f88ea6d",
   "metadata": {
    "pycharm": {
     "name": "#%%\n"
    }
   },
   "outputs": [],
   "source": [
    "# import the crx2rnx file which is dependent on your working OS - this is required to run the gnssrefl code\n",
    "try:\n",
    "    os.environ['DOCKER']\n",
    "except KeyError:\n",
    "    sys = get_sys()\n",
    "    installexe(sys)"
   ]
  },
  {
   "cell_type": "markdown",
   "id": "28968b7f",
   "metadata": {
    "pycharm": {
     "name": "#%% md\n"
    }
   },
   "source": [
    "The purpose of this homework is to get you to better understand how to properly run gnssrefl. Each GNSS station is different and you will have to decide which areas around the antenna you want to measure. This is sometimes called setting the azimuth and elevation angle mask. The [gnss-reflections.org](https://gnss-reflections.org) webapp has some tools we will utilize to help you determine this mask.\n",
    "\n",
    "# Example 1\n",
    "\n",
    "Lets first start with looking at the station **at01** in st. Micheal, Alaska.\n",
    "\n",
    "The data from this GNSS site will be used to measure sea level, so the relevant reflecting surface is the ocean. "
   ]
  },
  {
   "cell_type": "markdown",
   "id": "98146070",
   "metadata": {
    "pycharm": {
     "name": "#%% md\n"
    }
   },
   "source": [
    "<img src=\"../../docs/_static/geoid-at01.png\" width=\"400\">"
   ]
  },
  {
   "cell_type": "markdown",
   "id": "f84149c6",
   "metadata": {
    "pycharm": {
     "name": "#%% md\n"
    }
   },
   "source": [
    "Run the cell below to view the geoid functionality in the gnss-reflections webapp. Using this, we will get an idea of its surroundings. You can enter the station coordinates by hand if you know them, but since at01 is part of a public archive known to geodesists, coordinates have been stored in the webapp. Just type in at01 for the station name."
   ]
  },
  {
   "cell_type": "code",
   "execution_count": null,
   "id": "9e081bcb",
   "metadata": {
    "pycharm": {
     "name": "#%%\n"
    }
   },
   "outputs": [],
   "source": [
    "%%html\n",
    "<iframe src=\"https://gnss-reflections.org/geoid\" width=\"1000\" height=\"600\"></iframe>"
   ]
  },
  {
   "cell_type": "markdown",
   "id": "d4ed609a",
   "metadata": {
    "pycharm": {
     "name": "#%% md\n"
    }
   },
   "source": [
    "You can see the general location of the antenna with respect to the coast. Make a note of its height with respect to mean sea level.\n",
    "\n",
    "\n",
    "Next use the ReflZones tab of the webapp to try out different elevation angle and azimuth angle masks. Make a note of the angles that you think will give you a good reflection off the water."
   ]
  },
  {
   "cell_type": "code",
   "execution_count": null,
   "id": "440a2e5f",
   "metadata": {
    "pycharm": {
     "name": "#%%\n"
    }
   },
   "outputs": [],
   "source": [
    "%%html\n",
    "<iframe src=\"https://gnss-reflections.org/rzones\" width=\"1000\" height=\"700\"></iframe>"
   ]
  },
  {
   "cell_type": "markdown",
   "id": "23471972",
   "metadata": {
    "pycharm": {
     "name": "#%% md\n"
    }
   },
   "source": [
    "Each one of the yellow/blue/red clusters represents the reflection zone for a single rising or setting GPS satellite arc. The colors represent different elevation angles - so yellow is lowest (5 degrees), blue (10 degrees) and so on.\n",
    "Change to the different elevation angles to get a better idea of what they look like (use the 'Return to the Reflection Zone API' button to return to the prvious page to re-set different values).\n",
    "\n",
    "For this site we would want to be measuring water levels. We can see very clearly that 0 to 360 degress would capture part of the land for the station. Go back and change the angles until we are only covering area that contains water. What azimuth angles did you choose?\n",
    "\n",
    "By default <code>rinex2snr</code> tries to find the RINEX data for you by looking at a few\n",
    "key archives.  However, if you know where the data are, it will be faster to specify it. For this example we will use the UNAVCO archive."
   ]
  },
  {
   "cell_type": "code",
   "execution_count": null,
   "id": "d7ab95ab",
   "metadata": {
    "pycharm": {
     "name": "#%%\n"
    }
   },
   "outputs": [],
   "source": [
    "# Download SNR \n",
    "# we are going to just pick a year and day\n",
    "# this will generate a SNR file at a sampling rate of 15 seconds.\n",
    "station = 'at01'\n",
    "year = 2020\n",
    "doy = 109\n",
    "\n",
    "rinex2snr(station=station, year=year, doy=doy)"
   ]
  },
  {
   "cell_type": "markdown",
   "id": "9906cd80",
   "metadata": {
    "pycharm": {
     "name": "#%% md\n"
    }
   },
   "source": [
    "Now we can use the `quicklook` function to give you a visual assessment of the reflection characteristics of your GNSS site. It is not meant for routine analysis of your data - instead it is meant to give you a better understanding of how to choose settings for that routine analysis, which is done in gnssir. Using this should confirm some of values we have so far gotten an idea of using the web apps.\n",
    "\n",
    "quickLook takes all the SNR data at a site and splits it into four geographic quadrants (northwest, northeast, southwest, southeast). Within those quadrants, it identifies rising and setting arcs for one GNSS transmitter frequency and uses a periodogram to estimate the dominant Reflector Height (RH) in meters. Each color represents a different satellite."
   ]
  },
  {
   "cell_type": "markdown",
   "id": "9a503c81",
   "metadata": {
    "pycharm": {
     "name": "#%% md\n"
    }
   },
   "source": [
    "The y-axis is the spectral amplitude in converted SNR units (volts/volts). If you see a strong peak in the periodogram, that means you will have a good estimate of the RH for that satellite arc. The data represented in gray are \"failed\" periodograms.\n",
    "\n",
    "\n",
    "The second plot returned is a summary for various quality control metrics.\n",
    "\n",
    "* the top plot is the color coded RH retrieval color: blue for good and gray for bad. What you are looking for are RH that are consistent with your site. In this case the antenna is about 12 meters above sea level.\n",
    "\n",
    "* the middle plot is the \"peak to noise ratio\" which is defined as peak spectral amplitude divided by the average spectral value over a defined noise region. In quickLook this will be the same region you used for your RH estimate. This value is surface dependent. If you happen to check the peak to noise ratio on a day at peak vegetation growth, you might be fooled into thinking the site did not work. Similarly, a windy day on a lake will produce lower peak to noise ratios than a day without wind. I generally use 3.5 for snow, 3.2 for lakes, and 2.7 for tides.\n",
    "\n",
    "* the bottom plot is the spectral amplitude for the RH peak. This will depend -again - on the surface type. Different surfaces (water, ice, snow, bare soil) reflect signals differently. It also reflects how smooth the surface is and which elevation angle limits were used."
   ]
  },
  {
   "cell_type": "markdown",
   "id": "2139b8f5",
   "metadata": {
    "pycharm": {
     "name": "#%% md\n"
    }
   },
   "source": [
    "Now, lets run quicklook for at01, year 2020 and day of year 109"
   ]
  },
  {
   "cell_type": "code",
   "execution_count": null,
   "id": "f773ca70",
   "metadata": {
    "pycharm": {
     "name": "#%%\n"
    }
   },
   "outputs": [],
   "source": [
    "# the plt parameter we will set to True to show the plotted data.\n",
    "# The data is also returned so we can plot ourselves - this will be shown in the next homework.\n",
    "values, metrics = quicklook(station, year, doy=doy, plt=True)"
   ]
  },
  {
   "cell_type": "markdown",
   "id": "2a1a57f9",
   "metadata": {
    "pycharm": {
     "name": "#%% md\n"
    }
   },
   "source": [
    "Looking at the plots we just generated, what went wrong? Nearly every single retrieval is set as bad (i.e. it is gray rather than blue).\n",
    "\n",
    "It's important to remember that when we run quicklook like did above, that we didn't change any of the defaults. Lets take a look and see what the defaults are:"
   ]
  },
  {
   "cell_type": "code",
   "execution_count": null,
   "id": "0e80c07e",
   "metadata": {
    "pycharm": {
     "name": "#%%\n"
    }
   },
   "outputs": [],
   "source": [
    "quicklook?"
   ]
  },
  {
   "cell_type": "markdown",
   "id": "c6464a5d",
   "metadata": {
    "pycharm": {
     "name": "#%% md\n"
    }
   },
   "source": [
    "Now use your knowledge of the site's height above mean sea level to properly window the reflector height and using the azimuth and elevation angle mask you picked out earlier. Do you think the retrievals are better now? Should your azimuth mask be modified?"
   ]
  },
  {
   "cell_type": "markdown",
   "id": "46bf6cbd",
   "metadata": {
    "pycharm": {
     "name": "#%% md\n"
    }
   },
   "source": [
    "**Help**\n",
    "<details>\n",
    "<summary>Click here if you need a hint</summary>\n",
    "try height between 8 and 15, and degrees elevation angles 5 and 13\n",
    "</details>"
   ]
  },
  {
   "cell_type": "code",
   "execution_count": null,
   "id": "c5bdf02b",
   "metadata": {
    "pycharm": {
     "name": "#%%\n"
    }
   },
   "outputs": [],
   "source": [
    "height_min = 8\n",
    "height_max = 15\n",
    "\n",
    "elevation_angle_min = 5\n",
    "elevation_angle_max = 13\n",
    "\n",
    "values, metrics = quicklook(station, year, doy=doy,\n",
    "                            h1=height_min, h2=height_max,\n",
    "                            e1=elevation_angle_min, e2=elevation_angle_max,\n",
    "                            plt=True)"
   ]
  },
  {
   "cell_type": "markdown",
   "id": "6f28160a",
   "metadata": {
    "pycharm": {
     "name": "#%% md\n"
    }
   },
   "source": [
    "Now you see strong retrievals in the Lomb Scargle periodograms with the reflector height of about 12 meters, as expected.\n",
    "You also see good retrievals at azimuths sweeping from true north to about 220 degrees. Was this close to your orginial best azimuth range estimate? "
   ]
  },
  {
   "cell_type": "markdown",
   "id": "97a8dfdd",
   "metadata": {
    "pycharm": {
     "name": "#%% md\n"
    }
   },
   "source": [
    "We will see in later homeworks how to move forward from here to actually run gnssir and get results. For now, lets try again with another station.\n",
    "\n",
    "# Example 2\n",
    "\n",
    "**tgho** is a station in New Zealand operated by [GNS](https://www.gns.cri.nz).The GNSS site is located on a platform in Lake Taupo. It records standard GPS and Glonass signals at a low sample rate (30 sec).\n",
    "<img src=\"../../docs/_static/tgho_barker.jpg\" width=\"400\">"
   ]
  },
  {
   "cell_type": "markdown",
   "id": "6422f44e",
   "metadata": {
    "pycharm": {
     "name": "#%% md\n"
    }
   },
   "source": [
    "Lets look at the geoid functionality on the web application:"
   ]
  },
  {
   "cell_type": "code",
   "execution_count": null,
   "id": "782e2ead",
   "metadata": {
    "pycharm": {
     "name": "#%%\n"
    }
   },
   "outputs": [],
   "source": [
    "%%html\n",
    "<iframe src=\"https://gnss-reflections.org/geoid\" width=\"1000\" height=\"600\"></iframe>"
   ]
  },
  {
   "cell_type": "markdown",
   "id": "16a8ca05",
   "metadata": {
    "pycharm": {
     "name": "#%% md\n"
    }
   },
   "source": [
    "and the reflection zone functionality on the web app:"
   ]
  },
  {
   "cell_type": "code",
   "execution_count": null,
   "id": "c6ebec7a",
   "metadata": {
    "pycharm": {
     "name": "#%%\n"
    }
   },
   "outputs": [],
   "source": [
    "%%html\n",
    "<iframe src=\"https://gnss-reflections.org/rzones\" width=\"1000\" height=\"700\"></iframe>"
   ]
  },
  {
   "cell_type": "markdown",
   "id": "262b01bc",
   "metadata": {
    "pycharm": {
     "name": "#%% md\n"
    }
   },
   "source": [
    "We can tell that just by looking at the google maps from the webapp that it won't be as easy to figure out the azimuth range (or elevation angle) range. Its height above mean sea level is given, but that is not the distance to the water shown in the photo. We will instead use quicklook for some feedback."
   ]
  },
  {
   "cell_type": "code",
   "execution_count": null,
   "id": "9cf26a4e",
   "metadata": {
    "pycharm": {
     "name": "#%%\n"
    }
   },
   "outputs": [],
   "source": [
    "station = 'tgho'\n",
    "# picking a year and day of year\n",
    "year = 2020\n",
    "doy = 300\n",
    "\n",
    "# get snr (let's use GFZ orbits, which is multi-GNSS setting orb='gnss')\n",
    "rinex2snr(station=station, year=year, doy=doy, orb='gnss', archive='nz')\n",
    "\n",
    "# run quicklook with the defaults\n",
    "values, metrics = quicklook(station, year, doy=doy, plt=True)"
   ]
  },
  {
   "cell_type": "markdown",
   "id": "390eab65",
   "metadata": {
    "pycharm": {
     "name": "#%% md\n"
    }
   },
   "source": [
    "What do you think the vertical distance is between the antenna and the water? Using the default elevation angles is likely combining water and pier reflections. Try restricting the close reflections (from the pier) by using a larger lower bound. Also compare the defaults with 5-15 degrees elevation angles to see if this improves the retrievals."
   ]
  },
  {
   "cell_type": "code",
   "execution_count": null,
   "id": "6b95ee92",
   "metadata": {
    "pycharm": {
     "name": "#%%\n"
    }
   },
   "outputs": [],
   "source": [
    "min_height = 2\n",
    "max_height = 8\n",
    "min_elevation_angle = 5\n",
    "max_elevation_angle = 15"
   ]
  },
  {
   "cell_type": "markdown",
   "id": "ed742982",
   "metadata": {
    "pycharm": {
     "name": "#%% md\n"
    }
   },
   "source": [
    "**Help**\n",
    "<details>\n",
    "<summary>Click here if you need a hint</summary>\n",
    "try height between 2 and 8\n",
    "</details>"
   ]
  },
  {
   "cell_type": "code",
   "execution_count": null,
   "id": "a4aca9e4",
   "metadata": {
    "pycharm": {
     "name": "#%%\n"
    }
   },
   "outputs": [],
   "source": [
    "values, metrics = quicklook(station, year, doy=doy, plt=True,\n",
    "                            h1=min_height, h2=max_height,\n",
    "                            e1=min_elevation_angle, e2=max_elevation_angle)"
   ]
  },
  {
   "cell_type": "markdown",
   "id": "50f7a36c",
   "metadata": {
    "pycharm": {
     "name": "#%% md\n"
    }
   },
   "source": [
    "Refer to this [publication](https://www.kristinelarson.net/wp-content/uploads/2021/05/Holden-May2021.pdf) on lake Taupo for more information on this site.\n",
    "\n",
    "We will see in the next homeworks how to set the azimuth and elevation angle values when running gnssir analysis."
   ]
  },
  {
   "cell_type": "code",
   "execution_count": null,
   "id": "425e23a2",
   "metadata": {
    "pycharm": {
     "name": "#%%\n"
    }
   },
   "outputs": [],
   "source": []
  }
 ],
 "metadata": {
  "kernelspec": {
   "display_name": "venv",
   "language": "python",
   "name": "venv"
  },
  "language_info": {
   "codemirror_mode": {
    "name": "ipython",
    "version": 3
   },
   "file_extension": ".py",
   "mimetype": "text/x-python",
   "name": "python",
   "nbconvert_exporter": "python",
   "pygments_lexer": "ipython3",
   "version": "3.9.16"
  }
 },
 "nbformat": 4,
 "nbformat_minor": 5
}
