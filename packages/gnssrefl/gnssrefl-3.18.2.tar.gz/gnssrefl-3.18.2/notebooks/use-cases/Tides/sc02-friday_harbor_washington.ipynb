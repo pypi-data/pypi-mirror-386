{
 "cells": [
  {
   "cell_type": "markdown",
   "metadata": {
    "pycharm": {
     "name": "#%% md\n"
    }
   },
   "source": [
    "### Friday Harbor\n",
    "\n",
    "<p align=\"center\">\n",
    "<img src=\"https://www.unavco.org/data/gps-gnss/lib/images/station_images/SC02.jpg\" width=\"500\"/>\n",
    "</P>\n",
    "\n",
    "**Station Name:** sc02\n",
    "\n",
    "**Location:** Friday Harbor, Washington, USA \n",
    "\n",
    "**Archive:** [EarthScope Consortium](http://www.earthscope.org)\n",
    "\n",
    "**Ellipsoidal Coordinates:**\n",
    "\n",
    "- Latitude: 48.546\n",
    "\n",
    "- Longitude: -123.008  \n",
    "\n",
    "- Height: -15.049 m\n",
    "\n",
    "[Station Page at EarthScope](https://www.unavco.org/instrumentation/networks/status/nota/overview/SC02)\n",
    "\n",
    "[Station Page at Nevada Geodetic Laboratory](http://geodesy.unr.edu/NGLStationPages/stations/SC02.sta)\n",
    "\n",
    "[Colocated NOAA tide gauge](https://tidesandcurrents.noaa.gov/stationhome.html?id=9449880)\n",
    "\n",
    "[Google Maps](https://www.google.com/maps/place/48°32'45.6%22N+123°00'28.8%22W/@48.546,-123.010194,17z/data=!3m1!4b1!4m5!3m4!1s0x0:0x0!8m2!3d48.546!4d-123.008)\n"
   ]
  },
  {
   "cell_type": "code",
   "execution_count": null,
   "metadata": {
    "pycharm": {
     "name": "#%%\n"
    }
   },
   "outputs": [],
   "source": [
    "from gnssrefl.subdaily_cl import subdaily\n",
    "from gnssrefl.gnssir_input import make_gnssir_input\n",
    "from gnssrefl.gnssir_cl import gnssir\n",
    "from gnssrefl.quickLook_cl import quicklook\n",
    "from gnssrefl.rinex2snr_cl import rinex2snr\n",
    "from gnssrefl.installexe_cl import installexe\n",
    "import ipywidgets as widgets\n",
    "import os\n",
    "\n",
    "from pathlib import Path\n",
    "\n",
    "from gnssrefl.utils import check_environment, set_environment, get_sys\n",
    "\n",
    "notebook_dir = Path.cwd().parents[1]\n",
    "\n",
    "# Making sure environment variables are set - this is required to run the gnssrefl code\n",
    "exists = check_environment()\n",
    "if exists == False:\n",
    "    set_environment(\n",
    "        refl_code=str(notebook_dir),\n",
    "        orbits=str(notebook_dir / \"orbits\"),\n",
    "        exe=str(notebook_dir / \"exe\"),\n",
    "    )\n",
    "\n",
    "# If you are running this locally - make sure the items in the exe folder have execution permissions\n",
    "\n",
    "# Set local variable of refl_code location\n",
    "refl_code_loc = os.environ[\"REFL_CODE\"]\n",
    "print(\"refl_code location:\", refl_code_loc)\n",
    "\n",
    "# import gnssrefl functions\n",
    "\n",
    "\n",
    "# import the crx2rnx file which is dependent on your working OS - this is required to run the gnssrefl code\n",
    "# If in docker environment, then you do not need to download crxnrnx\n",
    "try:\n",
    "    os.environ[\"DOCKER\"]\n",
    "except KeyError:\n",
    "    sys = get_sys()\n",
    "    installexe(sys)"
   ]
  },
  {
   "cell_type": "markdown",
   "metadata": {
    "pycharm": {
     "name": "#%% md\n"
    }
   },
   "source": [
    "### Data Summary\n",
    "\n",
    "There have been *a lot* of papers written about sc02. That being said, it is not an ideal GNSS reflections site. It is set \n",
    "back a bit too far from the shore - and it would have been far superior for reflections if the antenna were\n",
    "a bit taller. Furthermore, there are obstructions (docks). For further details, you are encouraged to read \n",
    "[this early paper](https://www.kristinelarson.net/wp-content/uploads/2015/12/LarsonRayWilliams-2017-FridayHarbor.pdf) \n",
    "summarizing a comparison of 10 years of GNSS-IR results with the colocated tide gauge operated by NOAA. That paper only\n",
    "used the GPS L1 SNR data.  Since that time a multi-GNSS receiver has been installed and there is an order of \n",
    "magnitude increase in the number of useable signals. Here we will only use the low-rate (15 sec) data from this new receiver. \n",
    "If you are interested, UNAVCO does have a 1-sec dataset available for use.\n",
    "\n",
    "\n",
    "Take some time to look at the [reflection zones webapp.](https://gnss-reflections.org/rzones?station=sc02) \n",
    "The goal is to play with the different elevation angle settings and azimuths. This screen \n",
    "shot shows clearly that not all azimuths are going to work. But it does not tell you which \n",
    "elevation angles will be over water and which will not. The default will use mean sea level -\n",
    "but keep in mind that the reflector heights will not always be at mean sea level. so you might\n",
    "try using different reflector heights to see how those reflection zones change. We have \n",
    "data from the site, so you can check later to see which ones are the limiting reflector \n",
    "heights."
   ]
  },
  {
   "cell_type": "code",
   "execution_count": null,
   "metadata": {
    "pycharm": {
     "name": "#%%\n"
    }
   },
   "outputs": [],
   "source": [
    "%%html\n",
    "<iframe src=\"https://gnss-reflections.org/rzones?station=sc02\" width=\"1000\" height=\"700\"></iframe>"
   ]
  },
  {
   "cell_type": "markdown",
   "metadata": {
    "pycharm": {
     "name": "#%% md\n"
    }
   },
   "source": [
    "### Take a quick look at the SNR data\n",
    "\n",
    "Translate the GPS data for January 15 2021. First you need to make the SNR file:"
   ]
  },
  {
   "cell_type": "code",
   "execution_count": null,
   "metadata": {
    "pycharm": {
     "name": "#%%\n"
    }
   },
   "outputs": [],
   "source": [
    "rinex2snr(\"sc02\", 2021, 15)"
   ]
  },
  {
   "cell_type": "markdown",
   "metadata": {
    "pycharm": {
     "name": "#%% md\n"
    }
   },
   "source": [
    "Use our utility <code>quickLook</code> with defaults [(For more details on quickLook output)](../../docs/quickLook_desc.md):"
   ]
  },
  {
   "cell_type": "code",
   "execution_count": null,
   "metadata": {
    "pycharm": {
     "name": "#%%\n"
    }
   },
   "outputs": [],
   "source": [
    "vals, metrics = quicklook(\"sc02\", 2021, 15)"
   ]
  },
  {
   "cell_type": "markdown",
   "metadata": {
    "pycharm": {
     "name": "#%% md\n"
    }
   },
   "source": [
    "These results for reflector height in the top panel are pretty bad (gray means the retrieval does not pass QC). Why? \n",
    "The reflector height defaults are restricted to 0.5-8 meters, which includes part of \n",
    "the tidal range, but not all of it. Furthermore, the default elevation angles of 5 to 25 degrees are \n",
    "not acceptable here, as these elevation angles include rocks and soil in addition to the water.\n",
    "\n",
    "Now let's make better choices. Following the suggestions of *Larson, Ray, and Williams* (2017), use \n",
    "elevation angle restrictions of 5 to 13 degrees and reflector height restrictions of 3 to 12 meters. And let's \n",
    "use a modern GPS signal, L2C."
   ]
  },
  {
   "cell_type": "code",
   "execution_count": null,
   "metadata": {
    "pycharm": {
     "name": "#%%\n"
    }
   },
   "outputs": [],
   "source": [
    "vals, metrics = quicklook(\"sc02\", 2021, 15, e2=13, h1=3, h2=12, fr=20)"
   ]
  },
  {
   "cell_type": "markdown",
   "metadata": {
    "pycharm": {
     "name": "#%% md\n"
    }
   },
   "source": [
    "Now instead of vast numbers of unsuccessful reflector height retrivals, you can begin to \n",
    "see where the acceptable azimuths will be, ~50 to 230 degrees. A peak to noise ratio \n",
    "of 3 works pretty well.  The Lomb Scargle periodograms show the \n",
    "retrievals in periodogram space. You can see here that the northwest\n",
    "is a dead zone for water reflections, and that was expected.\n",
    "\n",
    "We can also check the retrievals stats for L1 to make sure these look good too."
   ]
  },
  {
   "cell_type": "code",
   "execution_count": null,
   "metadata": {
    "pycharm": {
     "name": "#%%\n"
    }
   },
   "outputs": [],
   "source": [
    "vals, metrics = quicklook(\"sc02\", 2021, 15, e2=13, h1=3, h2=12)"
   ]
  },
  {
   "cell_type": "markdown",
   "metadata": {
    "pycharm": {
     "name": "#%% md\n"
    }
   },
   "source": [
    "We will not attempt to analyze a long time series, but instead focus here on \n",
    "the process. We will be using three+ weeks of GNSS data from 2021 as our sample dataset."
   ]
  },
  {
   "cell_type": "code",
   "execution_count": null,
   "metadata": {
    "pycharm": {
     "name": "#%%\n"
    }
   },
   "outputs": [],
   "source": [
    "rinex2snr(\"sc02\", 2021, 15, doy_end=40)"
   ]
  },
  {
   "cell_type": "markdown",
   "metadata": {
    "pycharm": {
     "name": "#%% md\n"
    }
   },
   "source": [
    "Then you need to make the list of analysis input:\n",
    "We will remove the unreliable azimuths and the Beidou signals because they are not in the RINEX 2.11 file."
   ]
  },
  {
   "cell_type": "code",
   "execution_count": null,
   "metadata": {
    "pycharm": {
     "name": "#%%\n"
    }
   },
   "outputs": [],
   "source": [
    "make_gnssir_input(\n",
    "    \"sc02\",\n",
    "    e1=5,\n",
    "    e2=13,\n",
    "    h1=3,\n",
    "    h2=12,\n",
    "    peak2noise=3.0,\n",
    "    frlist=[1, 20, 5, 101, 102, 201, 205, 207],\n",
    "    azlist2=[60, 220],\n",
    ")"
   ]
  },
  {
   "cell_type": "markdown",
   "metadata": {
    "pycharm": {
     "name": "#%% md\n"
    }
   },
   "source": [
    "Once you have the json file set up, you can go ahead and analyze all the data with a single command:"
   ]
  },
  {
   "cell_type": "code",
   "execution_count": null,
   "metadata": {
    "pycharm": {
     "name": "#%%\n"
    }
   },
   "outputs": [],
   "source": [
    "gnssir(\"sc02\", 2021, 15, doy_end=40)"
   ]
  },
  {
   "cell_type": "markdown",
   "metadata": {
    "pycharm": {
     "name": "#%% md\n"
    }
   },
   "source": [
    "This produces reflector heights for every rising and setting satellite track that meets the \n",
    "quality control metrics that you have set. We have some preliminary code that will help you evaluate \n",
    "these RH retrievals. It is a work in progress, so it does not do everything yet. It starts  \n",
    "by concatenating the daily results and applying a sigma outlier criterion . The default is set to \n",
    "2.5 sigma, but you can enter on the command line a more or less stringent value.\n",
    "\n",
    "The output is stored in a plain text or csv file. This code will \n",
    "also apply the RH dot correction, but you have to \n",
    "request it (<code>-rhdot T</code>). The spline_outlier optional input (in meters) \n",
    "is only used in the rhdot section of the code.\n",
    "\n",
    "The plots printed out will be the initial solutions with a spline fit and outliers identified."
   ]
  },
  {
   "cell_type": "code",
   "execution_count": null,
   "metadata": {
    "pycharm": {
     "name": "#%%\n"
    }
   },
   "outputs": [],
   "source": [
    "subdaily?"
   ]
  },
  {
   "cell_type": "code",
   "execution_count": null,
   "metadata": {
    "pycharm": {
     "name": "#%%\n"
    }
   },
   "outputs": [],
   "source": [
    "subdaily(\"sc02\", 2021)"
   ]
  },
  {
   "cell_type": "markdown",
   "metadata": {
    "pycharm": {
     "name": "#%% md\n"
    }
   },
   "source": [
    "This is a standard Lomb Scargle analysis of reflection data at sc02.\n",
    "Multiple authors have recommended using different analysis strategies, and \n",
    "you are most definitely encouraged to look at using these techniques. In most cases\n",
    "smoothness strategies are used to improve the retrievals.  \n",
    "\n",
    "I have recently posted Simon Williams tidal estimation code to python. I will do my best to add it to this \n",
    "package.\n",
    "\n",
    "How well does this simple analyis compare \n",
    "to the [official NOAA tide gauge data stream?](https://tidesandcurrents.noaa.gov/stationhome.html?id=9449880)\n",
    "\n",
    "You can download the NOAA data yourselves or use our utility:"
   ]
  },
  {
   "cell_type": "code",
   "execution_count": null,
   "metadata": {
    "pycharm": {
     "name": "#%%\n"
    }
   },
   "outputs": [],
   "source": [
    "from gnssrefl.download_tides import download_tides\n",
    "\n",
    "download_tides(\"9449880\", \"20210115\", \"20210209\")"
   ]
  },
  {
   "cell_type": "markdown",
   "metadata": {
    "pycharm": {
     "name": "#%% md\n"
    }
   },
   "source": [
    "We then compared the two series. \n",
    "\n",
    "<img src=\"../../../data/sc02-noaa.png\" width=600>\n",
    "\n",
    "<HR>\n",
    "\n",
    "Here is a list of some of the publications using data from sc02. If you would like me to add more, please send them via email.\n",
    "\n",
    "* [Larson, L&ouml;fgren, Haas, Coastal Sea Level Measurements Using A Single Geodetic GPS Receiver, 2011](https://www.kristinelarson.net/wp-content/uploads/2015/10/Larson_TideGauge.pdf)\n",
    "\n",
    "* [Larson, Ray, and  Williams, A ten year comparison of water levels measured with a geodetic GPS receiver versus a conventional tide gauge, 2017](https://www.kristinelarson.net/wp-content/uploads/2015/12/LarsonRayWilliams-2017-FridayHarbor.pdf)\n",
    "\n",
    "* [Purnell, Gomez, Chan, Strandberg, Hobiger, Quantifying the Uncertainty in Ground-Based GNSS-Reflectometry Sea Level Measurements, 2021](https://www.researchgate.net/publication/343091181_Quantifying_the_Uncertainty_in_Ground-Based_GNSS-Reflectometry_Sea_Level_Measurements)\n",
    "\n",
    "* L&ouml;fgren, Haas, and Scherneck, 2014 Sea level time series and ocean tide analysis from multipath signals at five GPS sites in different parts of the world\n",
    "\n",
    "* Wang, Zhang and Zhang, 2018 Sea level estimation from SNR data of geodetic receivers using wavelet analysis"
   ]
  },
  {
   "cell_type": "code",
   "execution_count": null,
   "metadata": {
    "pycharm": {
     "name": "#%%\n"
    }
   },
   "outputs": [],
   "source": []
  }
 ],
 "metadata": {
  "kernelspec": {
   "display_name": "venv",
   "language": "python",
   "name": "venv"
  },
  "language_info": {
   "codemirror_mode": {
    "name": "ipython",
    "version": 3
   },
   "file_extension": ".py",
   "mimetype": "text/x-python",
   "name": "python",
   "nbconvert_exporter": "python",
   "pygments_lexer": "ipython3",
   "version": "3.9.16"
  }
 },
 "nbformat": 4,
 "nbformat_minor": 4
}
