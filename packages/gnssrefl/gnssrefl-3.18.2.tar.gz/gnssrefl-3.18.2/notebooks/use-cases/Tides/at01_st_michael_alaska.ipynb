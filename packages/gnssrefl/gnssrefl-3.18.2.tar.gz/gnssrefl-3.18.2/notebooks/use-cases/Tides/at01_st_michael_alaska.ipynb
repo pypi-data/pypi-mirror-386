{
 "cells": [
  {
   "cell_type": "markdown",
   "id": "b7ff17fb",
   "metadata": {
    "pycharm": {
     "name": "#%% md\n"
    }
   },
   "source": [
    "### St Michael Bay\n",
    "\n",
    "**Station Name:**  at01\n",
    "\n",
    "**Location:**  St Michael, Alaska\n",
    "\n",
    "**Archive:**  [EarthScope Consortium](http://www.earthscope.org)\n",
    "\n",
    "**Ellipsoidal Coordinates:**\n",
    "\n",
    "- Latitude:  63.4840\n",
    "\n",
    "- Longitude: -162.0064\n",
    "\n",
    "- Height: 21.7 m\n",
    "\n",
    "[Station Page at EarthScope](https://www.unavco.org/instrumentation/networks/status/nota/overview/AT01)\n",
    "\n",
    "[Station Page at Nevada Geodetic Laboratory](http://geodesy.unr.edu/NGLStationPages/stations/AT01.sta)\n",
    "\n",
    "[Google Map Link](https://goo.gl/maps/uWyoNFf4DRjYLmfUA)\n",
    "\n",
    "<p align=\"center\">\n",
    "<img src=\"https://www.unavco.org/data/gps-gnss/lib/images/station_images/AT01.jpg\" width=\"500\">\n",
    "</p>"
   ]
  },
  {
   "cell_type": "markdown",
   "id": "34f592ad",
   "metadata": {
    "pycharm": {
     "name": "#%% md\n"
    }
   },
   "source": [
    "## Data Summary\n",
    "\n",
    "at01 has good visibility over a large azimuthal region and the monument is about a meter taller than normal geodetic monuments which helps improve visibility of the sea surface. At01 observes all constellation signals.\n",
    "\n",
    "## Imports"
   ]
  },
  {
   "cell_type": "code",
   "execution_count": null,
   "id": "4d50e951",
   "metadata": {
    "pycharm": {
     "name": "#%%\n"
    }
   },
   "outputs": [],
   "source": [
    "from gnssrefl.subdaily_cl import subdaily\n",
    "from gnssrefl.gnssir_input import make_gnssir_input\n",
    "from gnssrefl.gnssir_cl import gnssir\n",
    "from gnssrefl.quickLook_cl import quicklook\n",
    "from gnssrefl.rinex2snr_cl import rinex2snr\n",
    "from gnssrefl.installexe_cl import installexe\n",
    "import ipywidgets as widgets\n",
    "import os\n",
    "\n",
    "from pathlib import Path\n",
    "\n",
    "from gnssrefl.utils import check_environment, set_environment, get_sys\n",
    "\n",
    "notebook_dir = Path.cwd().parents[1]\n",
    "\n",
    "# Making sure environment variables are set - this is required to run the gnssrefl code\n",
    "exists = check_environment()\n",
    "if exists == False:\n",
    "    set_environment(\n",
    "        refl_code=str(notebook_dir),\n",
    "        orbits=str(notebook_dir / \"orbits\"),\n",
    "        exe=str(notebook_dir / \"exe\"),\n",
    "    )\n",
    "\n",
    "# If you are running this locally - make sure the items in the exe folder have execution permissions\n",
    "\n",
    "# Set local variable of refl_code location\n",
    "refl_code_loc = os.environ[\"REFL_CODE\"]\n",
    "print(\"refl_code location:\", refl_code_loc)\n",
    "\n",
    "# import gnssrefl functions\n",
    "\n",
    "\n",
    "# import the crx2rnx file which is dependent on your working OS - this is required to run the gnssrefl code\n",
    "# If in docker environment, then you do not need to download crxnrnx\n",
    "try:\n",
    "    os.environ[\"DOCKER\"]\n",
    "except KeyError:\n",
    "    sys = get_sys()\n",
    "    installexe(sys)"
   ]
  },
  {
   "cell_type": "markdown",
   "id": "67b405da",
   "metadata": {
    "pycharm": {
     "name": "#%% md\n"
    }
   },
   "source": [
    "# reflecion zone app\n",
    "\n",
    "now we can use the reflection zone part of the web app:"
   ]
  },
  {
   "cell_type": "code",
   "execution_count": null,
   "id": "6df2e138",
   "metadata": {
    "pycharm": {
     "name": "#%%\n"
    }
   },
   "outputs": [],
   "source": [
    "%%html\n",
    "<iframe src=\"https://gnss-reflections.org/geoid\" width=\"1000\" height=\"600\"></iframe>"
   ]
  },
  {
   "cell_type": "markdown",
   "id": "b5976063",
   "metadata": {
    "pycharm": {
     "name": "#%% md\n"
    }
   },
   "source": [
    "Next, we could look at the reflection zone app to pick a possible mask."
   ]
  },
  {
   "cell_type": "code",
   "execution_count": null,
   "id": "6c0f97e1",
   "metadata": {
    "pycharm": {
     "name": "#%%\n"
    }
   },
   "outputs": [],
   "source": [
    "%%html\n",
    "<iframe src=\"https://gnss-reflections.org/rzones\" width=\"1000\" height=\"700\"></iframe>"
   ]
  },
  {
   "cell_type": "markdown",
   "id": "2fde898b",
   "metadata": {
    "pycharm": {
     "name": "#%% md\n"
    }
   },
   "source": [
    "Just looking at this can give us an idea of the possible azimuth mask - Guessing we will not get good retrievals in the northwest quadrant. We will confirm this with the qc plots when we use quicklook.\n",
    "\n",
    "It's also useful to note that it is about 12 meters above sea level."
   ]
  },
  {
   "cell_type": "markdown",
   "id": "63a2e510",
   "metadata": {
    "pycharm": {
     "name": "#%% md\n"
    }
   },
   "source": [
    "### Take a Quick Look at the Data\n",
    "First examine the spectral characteristics of the SNR data.\n",
    "\n",
    "First, we download a snr file using rinex2snr. We will pick a year and day - in this case we'll look at day of year 109 for the year 2020. "
   ]
  },
  {
   "cell_type": "code",
   "execution_count": null,
   "id": "87c5a5b9",
   "metadata": {
    "pycharm": {
     "name": "#%%\n"
    }
   },
   "outputs": [],
   "source": [
    "# Download SNR\n",
    "# we are going to just pick a year and day\n",
    "# this will generate a SNR file at a sampling rate of 15 seconds.\n",
    "station = \"at01\"\n",
    "year = 2020\n",
    "doy = 109\n",
    "\n",
    "rinex2snr(station=station, year=year, doy=doy, archive=\"unavco\", orb=\"gnss\")"
   ]
  },
  {
   "cell_type": "markdown",
   "id": "1c1ae3b1",
   "metadata": {
    "pycharm": {
     "name": "#%% md\n"
    }
   },
   "source": [
    "Now we can run quicklook, this is what it will look like if we don't change any of the defualts:"
   ]
  },
  {
   "cell_type": "code",
   "execution_count": null,
   "id": "93d95858",
   "metadata": {
    "pycharm": {
     "name": "#%%\n"
    }
   },
   "outputs": [],
   "source": [
    "values, metrics = quicklook(station, year, doy=doy)"
   ]
  },
  {
   "cell_type": "markdown",
   "id": "8db56a50",
   "metadata": {
    "pycharm": {
     "name": "#%% md\n"
    }
   },
   "source": [
    "Using the default settings with quicklook we would likely think it is not a useful site, as nearly every retrieval is set as bad.\n",
    "\n",
    "Let's see what the defaults are set to by adding a question mark to the function and running that cell."
   ]
  },
  {
   "cell_type": "code",
   "execution_count": null,
   "id": "65f4f88f",
   "metadata": {
    "pycharm": {
     "name": "#%%\n"
    }
   },
   "outputs": [],
   "source": [
    "quicklook?"
   ]
  },
  {
   "cell_type": "markdown",
   "id": "cc86efe8",
   "metadata": {
    "pycharm": {
     "name": "#%% md\n"
    }
   },
   "source": [
    "Now we can see what the defaults are and information about the parameters in the doc string as well. \n",
    "\n",
    "So, remembering that the site is 12 meters above sea level and we can see that the default restricts the reflector height region to 0.5 to 6 meters. \n",
    "\n",
    "Let's try quicklook again using a reflector height region that includes the water surface. We'll set h1 to 8 and h2 to 15 and we're also going to change the elevation angles to 5 and 13 degrees:"
   ]
  },
  {
   "cell_type": "code",
   "execution_count": null,
   "id": "7a38cd5b",
   "metadata": {
    "pycharm": {
     "name": "#%%\n"
    }
   },
   "outputs": [],
   "source": [
    "values, metrics = quicklook(station, year, doy=doy, e1=5, e2=13, h1=8, h2=15)"
   ]
  },
  {
   "cell_type": "markdown",
   "id": "12426101",
   "metadata": {
    "pycharm": {
     "name": "#%% md\n"
    }
   },
   "source": [
    "Now we see good retrievals at azimuths from true north to about 220 degrees (around what we expected from using the reflection zone app) and we also see strong retrievals in the Lomb Scargle periodograms.\n",
    "\n",
    "This site does have modern GPS signals, as well as Galileo and Glonass signals."
   ]
  },
  {
   "cell_type": "markdown",
   "id": "4a077059",
   "metadata": {
    "pycharm": {
     "name": "#%% md\n"
    }
   },
   "source": [
    "results for L2C:"
   ]
  },
  {
   "cell_type": "code",
   "execution_count": null,
   "id": "7b27035b",
   "metadata": {
    "pycharm": {
     "name": "#%%\n"
    }
   },
   "outputs": [],
   "source": [
    "values, metrics = quicklook(station, year, doy=doy,\n",
    "                            e1=5, e2=13, h1=8, h2=15, fr=20)"
   ]
  },
  {
   "cell_type": "markdown",
   "id": "e361d5ab",
   "metadata": {
    "pycharm": {
     "name": "#%% md\n"
    }
   },
   "source": [
    "Now we can look at glonass by setting fr to 101 and Galileo we will set f to 205."
   ]
  },
  {
   "cell_type": "code",
   "execution_count": null,
   "id": "1104f44c",
   "metadata": {
    "pycharm": {
     "name": "#%%\n"
    }
   },
   "outputs": [],
   "source": [
    "values_l1, metrics_l1 = quicklook(\n",
    "    station, year, doy=doy, e1=5, e2=13, h1=8, h2=15, fr=101\n",
    ")"
   ]
  },
  {
   "cell_type": "code",
   "execution_count": null,
   "id": "901c9313",
   "metadata": {
    "pycharm": {
     "name": "#%%\n"
    }
   },
   "outputs": [],
   "source": [
    "values_l2, metrics_l2 = quicklook(\n",
    "    station, year, doy=doy, e1=5, e2=13, h1=8, h2=15, fr=205\n",
    ")"
   ]
  },
  {
   "cell_type": "markdown",
   "id": "37f8eac1",
   "metadata": {
    "pycharm": {
     "name": "#%% md\n"
    }
   },
   "source": [
    "### Analyze the Data\n",
    "\n",
    "Next we will analyze data for a few weeks in the fall of 2020. Our first step would be to make the SNR files."
   ]
  },
  {
   "cell_type": "code",
   "execution_count": null,
   "id": "cd636f68",
   "metadata": {
    "pycharm": {
     "name": "#%%\n"
    }
   },
   "outputs": [],
   "source": [
    "rinex2snr?"
   ]
  },
  {
   "cell_type": "code",
   "execution_count": null,
   "id": "7fcd6ff3",
   "metadata": {
    "pycharm": {
     "name": "#%%\n"
    }
   },
   "outputs": [],
   "source": [
    "rinex2snr(station, year, 230, doy_end=390, archive=\"unavco\", orb=\"gnss\")"
   ]
  },
  {
   "cell_type": "markdown",
   "id": "1238a40e",
   "metadata": {
    "pycharm": {
     "name": "#%% md\n"
    }
   },
   "source": [
    "The next step is to create the json file that gnssir reads with the values that we have decided on from the quicklook step. In this case we will set the elevation angles and the heights. We'll set the azimuth range that we decided on and are also going to remove the Beidou signals since they are not in rinex2 files."
   ]
  },
  {
   "cell_type": "code",
   "execution_count": null,
   "id": "c1ee517a",
   "metadata": {
    "pycharm": {
     "name": "#%%\n"
    }
   },
   "outputs": [],
   "source": [
    "make_gnssir_input(\n",
    "    station,\n",
    "    e1=5,\n",
    "    e2=13,\n",
    "    h1=8,\n",
    "    h2=17,\n",
    "    ampl=4,\n",
    "    frlist=[1, 20, 5, 101, 102, 201, 205, 206, 207],\n",
    "    azlist2=[20, 220],\n",
    ")"
   ]
  },
  {
   "cell_type": "markdown",
   "id": "f55cfac4",
   "metadata": {
    "pycharm": {
     "name": "#%% md\n"
    }
   },
   "source": [
    "Next, we will run gnssir to estimate the reflector height (RH) for the two month time period."
   ]
  },
  {
   "cell_type": "code",
   "execution_count": null,
   "id": "ff99324b",
   "metadata": {
    "pycharm": {
     "name": "#%%\n"
    }
   },
   "outputs": [],
   "source": [
    "gnssir(station, year, 230, doy_end=290)"
   ]
  },
  {
   "cell_type": "markdown",
   "id": "5f1e4531",
   "metadata": {
    "pycharm": {
     "name": "#%% md\n"
    }
   },
   "source": [
    "We have do have some code to help you look at subdaily files. This will be helpful to look at tides. \n",
    "\n",
    "We will set an outlier criteria of 0.36 meters (one sigma 0.12 meters ==> 0.36 meters three sigma) to start with.\n",
    "\n",
    "This preliminary version of the code removes outliers and makes an effort to compute the RH dot correction."
   ]
  },
  {
   "cell_type": "code",
   "execution_count": null,
   "id": "4e4fddeb",
   "metadata": {
    "pycharm": {
     "name": "#%%\n"
    }
   },
   "outputs": [],
   "source": [
    "subdaily(station=\"at01\", year=2020, doy1=230, doy2=290, plt=True)"
   ]
  },
  {
   "cell_type": "code",
   "execution_count": null,
   "id": "78fbb9ab-41f5-46bc-829e-28bc66f5804e",
   "metadata": {},
   "outputs": [],
   "source": []
  }
 ],
 "metadata": {
  "kernelspec": {
   "display_name": "venv",
   "language": "python",
   "name": "venv"
  },
  "language_info": {
   "codemirror_mode": {
    "name": "ipython",
    "version": 3
   },
   "file_extension": ".py",
   "mimetype": "text/x-python",
   "name": "python",
   "nbconvert_exporter": "python",
   "pygments_lexer": "ipython3",
   "version": "3.9.16"
  }
 },
 "nbformat": 4,
 "nbformat_minor": 5
}
