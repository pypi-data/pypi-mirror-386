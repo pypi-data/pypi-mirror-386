{
 "cells": [
  {
   "cell_type": "markdown",
   "id": "8f2270a2",
   "metadata": {
    "editable": true,
    "pycharm": {
     "name": "#%% md\n"
    },
    "slideshow": {
     "slide_type": ""
    },
    "tags": []
   },
   "source": [
    "### Niwot Ridge, Colorado, USA\n",
    "\n",
    "**Station name:** nwot\n",
    "\n",
    "**Location:** [Niwot Ridge LTER](https://nwt.lternet.edu)\n",
    "\n",
    "**Archive:** [EarthScope Consortium](http://www.earthscope.org)\n",
    "\n",
    "**Ellipsoidal Coordinates:**\n",
    "\n",
    "- Latitude: 40.05539 \n",
    "\n",
    "- Longitude: -105.59053\n",
    "\n",
    "- Height(m): 3522.729 \n",
    "\n",
    "[EarthScope station page](https://www.unavco.org/instrumentation/networks/status/nota/overview/NWOT)\n",
    "\n",
    "\n",
    "\n",
    "<img src=\"https://www.unavco.org/data/gps-gnss/lib/images/station_images/NWOT.jpg\" width=500/>\n"
   ]
  },
  {
   "cell_type": "code",
   "execution_count": null,
   "id": "fba4b95d",
   "metadata": {
    "pycharm": {
     "name": "#%%\n"
    }
   },
   "outputs": [],
   "source": [
    "from gnssrefl.daily_avg_cl import daily_avg\n",
    "from gnssrefl.gnssir_input import make_gnssir_input\n",
    "from gnssrefl.gnssir_cl import gnssir\n",
    "from gnssrefl.quickLook_cl import quicklook\n",
    "from gnssrefl.rinex2snr_cl import rinex2snr\n",
    "from gnssrefl.installexe_cl import installexe\n",
    "import ipywidgets as widgets\n",
    "import os\n",
    "\n",
    "from pathlib import Path\n",
    "\n",
    "from gnssrefl.utils import check_environment, set_environment, get_sys\n",
    "\n",
    "notebook_dir = Path.cwd().parents[1]\n",
    "\n",
    "# Making sure environment variables are set - this is required to run the gnssrefl code\n",
    "exists = check_environment()\n",
    "if exists == False:\n",
    "    set_environment(\n",
    "        refl_code=str(notebook_dir),\n",
    "        orbits=str(notebook_dir / \"orbits\"),\n",
    "        exe=str(notebook_dir / \"exe\"),\n",
    "    )\n",
    "\n",
    "# If you are running this locally - make sure the items in the exe folder have execution permissions\n",
    "\n",
    "# Set local variable of refl_code location\n",
    "refl_code_loc = os.environ[\"REFL_CODE\"]\n",
    "print(\"refl_code location:\", refl_code_loc)\n",
    "\n",
    "# import gnssrefl functions\n",
    "\n",
    "\n",
    "# import the crx2rnx file which is dependent on your working OS - this is required to run the gnssrefl code\n",
    "# If in docker environment, then you do not need to download crxnrnx\n",
    "try:\n",
    "    os.environ[\"DOCKER\"]\n",
    "except KeyError:\n",
    "    sys = get_sys()\n",
    "    installexe(sys)"
   ]
  },
  {
   "cell_type": "markdown",
   "id": "1fd83432",
   "metadata": {
    "editable": true,
    "pycharm": {
     "name": "#%% md\n"
    },
    "slideshow": {
     "slide_type": ""
    },
    "tags": []
   },
   "source": [
    "**Fast Mode:** \n",
    "this will download data weekly instead of daily"
   ]
  },
  {
   "cell_type": "code",
   "execution_count": null,
   "id": "84615731",
   "metadata": {
    "pycharm": {
     "name": "#%%\n"
    }
   },
   "outputs": [],
   "source": [
    "weekly = widgets.Checkbox(\n",
    "    value=True, description=\"Fast Mode\", disabled=False, indent=False\n",
    ")\n",
    "weekly"
   ]
  },
  {
   "cell_type": "markdown",
   "id": "73beffc1-5a0d-46fd-9a6a-46b74f544524",
   "metadata": {
    "editable": true,
    "slideshow": {
     "slide_type": ""
    },
    "tags": []
   },
   "source": [
    "Deselect the Fast Mode checkbox to deactivate fast mode."
   ]
  },
  {
   "cell_type": "markdown",
   "id": "e759fe04",
   "metadata": {
    "pycharm": {
     "name": "#%% md\n"
    }
   },
   "source": [
    "### Data Summary\n",
    "Station nwot was originally installed/designed to support GPS reflections research. The site was hosted by the Niwot Ridge LTER.\n",
    "\n",
    "nwot was made to be taller than the typical geodetic antenna so that it would not be buried by snow. It is about 3 meters above the bare soil surface. Because it was installed to support testing GPS reflections, nwot has always tracked L2C.\n",
    "\n",
    "For this example, we will focus on the data between 2009-2015.\n",
    "\n",
    "### Imports"
   ]
  },
  {
   "cell_type": "markdown",
   "id": "a0eb1ae5",
   "metadata": {
    "pycharm": {
     "name": "#%% md\n"
    }
   },
   "source": [
    "### Make a SNR File and run quickLook\n",
    "\n",
    "We will start by making a SNR file. The main archive for this dataset only provides the high-quality L2C data in the highrate (1-sec) area. We do not need this sample rate for GPS reflectometry, we will use the \"special\" archive option where the 1-sec data have been decimated to 15 seconds:"
   ]
  },
  {
   "cell_type": "code",
   "execution_count": null,
   "id": "0e062e46",
   "metadata": {
    "pycharm": {
     "name": "#%%\n"
    }
   },
   "outputs": [],
   "source": [
    "station = \"nwot\"\n",
    "year = 2014\n",
    "doy = 270"
   ]
  },
  {
   "cell_type": "code",
   "execution_count": null,
   "id": "4e9d5a7c",
   "metadata": {
    "pycharm": {
     "name": "#%%\n"
    }
   },
   "outputs": [],
   "source": [
    "rinex2snr(station, year, doy, archive=\"special\")\n",
    "\n",
    "# if for some reason the above command does not work - uncomment below and use that instead:\n",
    "# rinex2snr(station, year, doy, archive='unavco', rate=high, dec=15)"
   ]
  },
  {
   "cell_type": "markdown",
   "id": "8ed12404",
   "metadata": {
    "pycharm": {
     "name": "#%% md\n"
    }
   },
   "source": [
    "Now let's use this `quickLook` command to get a sense of the quality of the \n",
    "reflector height (RH) retrievals. \n",
    "\n",
    "First L1:"
   ]
  },
  {
   "cell_type": "code",
   "execution_count": null,
   "id": "6e18b167",
   "metadata": {
    "pycharm": {
     "name": "#%%\n"
    }
   },
   "outputs": [],
   "source": [
    "values, metrics = quicklook(station, year, doy=doy)"
   ]
  },
  {
   "cell_type": "markdown",
   "id": "69a656e0",
   "metadata": {
    "pycharm": {
     "name": "#%% md\n"
    }
   },
   "source": [
    "These periodograms are a bit busy in the low RH area. But there are \n",
    "nice strong peaks in a few of the quadrants. So we can see from this that there may be some azimuth ranges that we will want to remove for teh analysis."
   ]
  },
  {
   "cell_type": "markdown",
   "id": "6ce789d2",
   "metadata": {
    "pycharm": {
     "name": "#%% md\n"
    }
   },
   "source": [
    "Now try L2:"
   ]
  },
  {
   "cell_type": "code",
   "execution_count": null,
   "id": "62d4f33b",
   "metadata": {
    "pycharm": {
     "name": "#%%\n"
    }
   },
   "outputs": [],
   "source": [
    "values, metrics = quicklook(station, year, doy=doy, fr=2)"
   ]
  },
  {
   "cell_type": "markdown",
   "id": "8f9e79f9",
   "metadata": {
    "pycharm": {
     "name": "#%% md\n"
    }
   },
   "source": [
    "This plot will have both L2C and non-L2C. There are failed tracks in the gray that are the non-L2C signals.\n",
    "\n",
    "See L2C only:"
   ]
  },
  {
   "cell_type": "code",
   "execution_count": null,
   "id": "5c34e7b3",
   "metadata": {
    "pycharm": {
     "name": "#%%\n"
    }
   },
   "outputs": [],
   "source": [
    "values, metrics = quicklook(station, year, doy=doy, fr=20)"
   ]
  },
  {
   "cell_type": "markdown",
   "id": "78f898ee",
   "metadata": {
    "pycharm": {
     "name": "#%% md\n"
    }
   },
   "source": [
    "Those failed tracks are now gone and we will use L2C and not all of L2."
   ]
  },
  {
   "cell_type": "markdown",
   "id": "6bad86a9",
   "metadata": {
    "pycharm": {
     "name": "#%% md\n"
    }
   },
   "source": [
    "### Make multiple years of SNR files \n",
    "\n",
    "We are going to look at the data from installation (Fall 2009) through Spring 2015."
   ]
  },
  {
   "cell_type": "code",
   "execution_count": null,
   "id": "17e95e3e",
   "metadata": {
    "pycharm": {
     "name": "#%%\n"
    },
    "scrolled": true
   },
   "outputs": [],
   "source": [
    "rinex2snr(\n",
    "    station,\n",
    "    year=2009,\n",
    "    doy=240,\n",
    "    year_end=2015,\n",
    "    doy_end=120,\n",
    "    archive=\"special\",\n",
    "    weekly=weekly.value,\n",
    ")"
   ]
  },
  {
   "cell_type": "markdown",
   "id": "5c586c07",
   "metadata": {
    "pycharm": {
     "name": "#%% md\n"
    }
   },
   "source": [
    "### Run gnssir for multiple years\n",
    "We will use a peak to noise of about 3 and a spectral peak amplitude of 8. We'll also use the southern quadrants (azimuths 90 through 270). We should note that since L5 was not tracked at this site, we will not include it in the json file. Well use a minimum elevation angle of 7 degrees because this particular receiver had a limit on the number of satellites it could track.\n",
    "\n",
    "Save your gnssir strategy:"
   ]
  },
  {
   "cell_type": "code",
   "execution_count": null,
   "id": "ad3c51b3",
   "metadata": {
    "pycharm": {
     "name": "#%%\n"
    }
   },
   "outputs": [],
   "source": [
    "make_gnssir_input(\n",
    "    station, e1=7, peak2noise=3.2, ampl=8, azlist2=[90, 270], frlist=[1, 20]\n",
    ")"
   ]
  },
  {
   "cell_type": "markdown",
   "id": "6dfb78dc",
   "metadata": {
    "pycharm": {
     "name": "#%% md\n"
    }
   },
   "source": [
    "Now we will set our azimuth range and the frequencies manually."
   ]
  },
  {
   "cell_type": "markdown",
   "id": "fe67b59d",
   "metadata": {
    "pycharm": {
     "name": "#%% md\n"
    }
   },
   "source": [
    "Run gnssir for the years 2009-2015:"
   ]
  },
  {
   "cell_type": "code",
   "execution_count": null,
   "id": "0269f838",
   "metadata": {
    "pycharm": {
     "name": "#%%\n"
    },
    "scrolled": true
   },
   "outputs": [],
   "source": [
    "gnssir(station, year=2009, doy=1, doy_end=366, year_end=2015)"
   ]
  },
  {
   "cell_type": "markdown",
   "id": "5b0bc2a1",
   "metadata": {
    "pycharm": {
     "name": "#%% md\n"
    }
   },
   "source": [
    "### Compute daily average RH values\n",
    "Now we will use the daily_avg utility to compute RH for each day. A median filter of 0.25 meter is used to eliminate large outliers and a minimum number of tracks will be set to 10. This is relatively low because of the small number of L2C transmitting satellites in the early years of the dataset."
   ]
  },
  {
   "cell_type": "code",
   "execution_count": null,
   "id": "7a7bf2bd",
   "metadata": {
    "pycharm": {
     "name": "#%%\n"
    }
   },
   "outputs": [],
   "source": [
    "daily_avg(\n",
    "    station,\n",
    "    medfilter=0.25,\n",
    "    ReqTracks=10,\n",
    "    year1=2009,\n",
    "    year2=2015,\n",
    "    txtfile=\"nwot_dailyRH.txt\",\n",
    ")"
   ]
  },
  {
   "cell_type": "markdown",
   "id": "88863ceb-a9ae-4f2d-96e4-8e2a5c5df7da",
   "metadata": {},
   "source": [
    "### Validation"
   ]
  },
  {
   "cell_type": "markdown",
   "id": "54e42e37",
   "metadata": {
    "pycharm": {
     "name": "#%% md\n"
    }
   },
   "source": [
    "The GPS site at Niwot Ridge was installed because there was a long-standing experiment \n",
    "for measuring snow depth. We therefore have a way to assess\n",
    "accuracy. We download the *in situ* data from \n",
    "the [Niwot Ridge facility](https://portal.edirepository.org/nis/mapbrowse?scope=knb-lter-nwt&identifier=34) and will compare to pole 16."
   ]
  },
  {
   "cell_type": "markdown",
   "id": "43094716",
   "metadata": {
    "pycharm": {
     "name": "#%% md\n"
    }
   },
   "source": [
    "<code>snow depth = RH_baresoil - RH</code>\n",
    "\n",
    "We will make an estimate of the bare soil reflector height by taking an average of the reflector heights from august to mid september."
   ]
  },
  {
   "cell_type": "markdown",
   "id": "67c07529",
   "metadata": {
    "pycharm": {
     "name": "#%% md\n"
    }
   },
   "source": [
    "We will then download the data and plot it over the same time period that we analyzed."
   ]
  },
  {
   "cell_type": "code",
   "execution_count": null,
   "id": "6520e357",
   "metadata": {
    "pycharm": {
     "name": "#%%\n"
    }
   },
   "outputs": [],
   "source": [
    "import numpy as np\n",
    "import matplotlib.pyplot as plt\n",
    "\n",
    "from datetime import datetime\n",
    "\n",
    "# in situ data for Niwot Ridge LTER\n",
    "# https://portal.edirepository.org/nis/mapbrowse?scope=knb-lter-nwt&identifier=34\n",
    "insitufile = \"../../../docs/use_cases/saddsnow.dw.data.csv\"\n",
    "# save the date, pole#, and snow depth columns (cm)\n",
    "insitu = np.loadtxt(\n",
    "    insitufile, skiprows=1, delimiter=\",\", dtype=\"str\", usecols=(3, 2, 4)\n",
    ")\n",
    "# pick out pole 16, which is closest to nwot GPS site\n",
    "ij = insitu[:, 1] == \"16\"\n",
    "insitu = insitu[ij, :]\n",
    "\n",
    "date = insitu[:, 0]  # date string\n",
    "sval = insitu[:, 2]  # snow depth as string\n",
    "\n",
    "# arrays for the in insitu answers\n",
    "obst = np.empty(shape=[0, 1])\n",
    "snow = np.empty(shape=[0, 1])\n",
    "for i in range(0, len(insitu)):\n",
    "    y = int(date[i][0:4])\n",
    "    m = int(date[i][5:7])\n",
    "    d = int(date[i][8:10])\n",
    "    s = float(sval[i]) / 100\n",
    "    obst = np.append(obst, datetime(year=y, month=m, day=d))\n",
    "    snow = np.append(snow, s)\n",
    "\n",
    "# read in the daily average RH file\n",
    "gpsfile = f\"{refl_code_loc}/Files/nwot/nwot_dailyRH.txt\"\n",
    "gps = np.loadtxt(gpsfile, comments=\"%\")\n",
    "\n",
    "# going to use august and mid-september to determine \"no snow level\"\n",
    "# for other sites, you might be able to use all of september ...\n",
    "# doy 213 through doy 258\n",
    "# RH is stored in column 2, doy is in column 1\n",
    "ii = (gps[:, 1] >= 213) & (gps[:, 1] <= 258)\n",
    "noSnowRH = np.mean(gps[ii, 2])\n",
    "print(\"No snow RH value: \", \"{0:7.3f}\".format(noSnowRH), \"(m)\")\n",
    "\n",
    "# make a datetime array for plotting the gps results\n",
    "gobst = np.empty(shape=[0, 1])\n",
    "for i in range(0, len(gps)):\n",
    "    gobst = np.append(\n",
    "        gobst, datetime(year=int(gps[i, 0]), month=int(gps[i, 4]), day=int(gps[i, 5]))\n",
    "    )\n",
    "\n",
    "snowAccum = noSnowRH - gps[:, 2]\n",
    "\n",
    "plt.figure()\n",
    "plt.plot(gobst, snowAccum, \"b.\", label=\"GPS-IR\")\n",
    "plt.plot(obst, snow, \"ro\", label=\"Manual - Pole16\", markersize=6)\n",
    "plt.legend(loc=\"upper left\")\n",
    "plt.title(\"Snow Depth, Niwot Ridge LTER Saddle\")\n",
    "plt.xlabel(\"Years\")\n",
    "plt.ylabel(\"meters\")\n",
    "plt.grid()\n",
    "left = datetime(year=2009, month=9, day=1)\n",
    "right = datetime(year=2015, month=5, day=1)\n",
    "plt.xlim((left, right))\n",
    "plt.ylim((-0.05, 3.25))\n",
    "plt.show()\n",
    "# GPS receiver failed in spring 2015"
   ]
  },
  {
   "cell_type": "markdown",
   "id": "b58ad7d1",
   "metadata": {
    "pycharm": {
     "name": "#%% md\n"
    }
   },
   "source": [
    "Citation for data:\n",
    "\n",
    "Walker, S., J. Morse, and Niwot Ridge LTER. 2020. Snow depth data for saddle snowfence, 1992 - ongoing. ver 11. Environmental Data Initiative. [https://doi.org/10.6073/pasta/abf23758a2e5194aded95bd18c8cbf27] (Accessed 2021-10-19).\n",
    "\n",
    "\n",
    "This is one of those cases where we would want to note that pole measurements are not representative of the same\n",
    "footprint as the GPS measurements. As GPS measurements cover an average over a much larger region.\n",
    "\n",
    "We do not continue with a more quantitative comparison for this demo as there are at least two \n",
    "publications in journals and a PhD Dissertation:\n",
    "\n",
    "[Gutmann, E., K. M. Larson, M. Williams, F.G. Nievinski, and V. Zavorotny, \n",
    "Snow measurement by GPS interferometric reflectometry: an evaluation at Niwot Ridge, Colorado, Hydrologic Processes, Vol. 26, 2951-2961, 2012](https://www.kristinelarson.net/wp-content/uploads/2015/10/GutmannEtAl_2012.pdf)\n",
    "\n",
    "[Nievinski, F.G. and K.M. Larson, Inverse Modeling of GPS Multipath for Snow Depth Estimation, Part II: Application and Validation, IEEE TGRS, Vol. 52(10), 6564-6573, doi:10.1109/TGRS.2013.2297688, 2014](https://www.kristinelarson.net/wp-content/uploads/2015/10/felipe_inv2_revised.pdf)\n",
    "\n",
    "[Nievinski, F.G., Ph.D. Dissertation, University of Colorado, 2013](https://www.researchgate.net/publication/258848060_Forward_and_Inverse_Modeling_of_GPS_Multipath_for_Snow_Monitoring)"
   ]
  },
  {
   "cell_type": "code",
   "execution_count": null,
   "id": "a9a58e7e",
   "metadata": {
    "pycharm": {
     "name": "#%%\n"
    }
   },
   "outputs": [],
   "source": []
  }
 ],
 "metadata": {
  "kernelspec": {
   "display_name": "venv",
   "language": "python",
   "name": "venv"
  },
  "language_info": {
   "codemirror_mode": {
    "name": "ipython",
    "version": 3
   },
   "file_extension": ".py",
   "mimetype": "text/x-python",
   "name": "python",
   "nbconvert_exporter": "python",
   "pygments_lexer": "ipython3",
   "version": "3.9.16"
  }
 },
 "nbformat": 4,
 "nbformat_minor": 5
}
