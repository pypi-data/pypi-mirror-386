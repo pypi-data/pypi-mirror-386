{
 "cells": [
  {
   "cell_type": "markdown",
   "metadata": {
    "editable": true,
    "pycharm": {
     "name": "#%% md\n"
    },
    "slideshow": {
     "slide_type": ""
    },
    "tags": []
   },
   "source": [
    "### Mitchell\n",
    "\n",
    "**Station Name:** \tmchl (mchl00aus)\n",
    "\n",
    "**Location:** Walhallow, Queensland, Austalia\n",
    "\n",
    "**Ellipsoidal Coordinates:**\n",
    "\n",
    "- Latitude: -26.359 degrees\n",
    "\n",
    "- Longitude: 148.145 degrees\n",
    "\n",
    "- Height: 534.591 meters\n",
    "\n",
    "[Station Page at Nevada Geodetic Laboratory](http://geodesy.unr.edu/NGLStationPages/stations/MCHL.sta)\n",
    "\n",
    "[Google Maps Link](https://www.google.com/maps/place/26%C2%B021'32.4%22S+148%C2%B008'42.0%22E/@-26.359,148.145,11z/data=!4m5!3m4!1s0x0:0x9200f9ebb23ec5b1!8m2!3d-26.359!4d148.145?hl=en) \n",
    "\n",
    "<p align=center>\n",
    "<img src=\"https://www.unavco.org/data/gps-gnss/lib/images/station_images/MCHL.jpg\" width=\"500\">\n",
    "</p>\n",
    "\n",
    "**Archives:** CDDIS, BKG, GA\n",
    " \n",
    "Read the instructions for the [soil moisture code!](https://gnssrefl.readthedocs.io/en/latest/pages/README_vwc.html)!"
   ]
  },
  {
   "cell_type": "code",
   "execution_count": null,
   "metadata": {
    "pycharm": {
     "name": "#%%\n"
    }
   },
   "outputs": [],
   "source": [
    "from gnssrefl.vwc import vwc\n",
    "from gnssrefl.quickPhase import quickphase\n",
    "from gnssrefl.vwc_input import vwc_input\n",
    "from gnssrefl.daily_avg_cl import daily_avg\n",
    "from gnssrefl.gnssir_input import make_gnssir_input\n",
    "from gnssrefl.gnssir_cl import gnssir\n",
    "from gnssrefl.rinex2snr_cl import rinex2snr\n",
    "from gnssrefl.installexe_cl import installexe\n",
    "import ipywidgets as widgets\n",
    "import os\n",
    "\n",
    "from pathlib import Path\n",
    "\n",
    "from gnssrefl.utils import check_environment, set_environment, get_sys\n",
    "\n",
    "notebook_dir = Path.cwd().parents[1]\n",
    "\n",
    "# Making sure environment variables are set - this is required to run the gnssrefl code\n",
    "exists = check_environment()\n",
    "if exists == False:\n",
    "    set_environment(\n",
    "        refl_code=str(notebook_dir),\n",
    "        orbits=str(notebook_dir / \"orbits\"),\n",
    "        exe=str(notebook_dir / \"exe\"),\n",
    "    )\n",
    "\n",
    "# If you are running this locally - make sure the items in the exe folder have execution permissions\n",
    "\n",
    "# Set local variable of refl_code location\n",
    "refl_code_loc = os.environ[\"REFL_CODE\"]\n",
    "print(\"refl_code location:\", refl_code_loc)\n",
    "\n",
    "# import gnssrefl functions"
   ]
  },
  {
   "cell_type": "markdown",
   "metadata": {
    "pycharm": {
     "name": "#%% md\n"
    }
   },
   "source": [
    "#### Step 1: GNSS-IR\n",
    "Begin by generating the SNR files. To be sure we can get the L2C data, we will use the RINEX 3 files.\n",
    "These require the longer station name (mchl00aus) and are available at either cddis or ga.\n",
    "Choose the one that is less slow for you. \n",
    "In some cases we hae found the data are at cddis but not ga or vice versa. Apparently the data are also \n",
    "available from BKG. We are not sure why this is. If you have a way to access \n",
    "these files, just download them and put them in the local\n",
    "processing area and use the -nolook option). We are going to start with two years of data and \n",
    "using the default GPS orbit option and the cddis archive:"
   ]
  },
  {
   "cell_type": "code",
   "execution_count": null,
   "metadata": {
    "pycharm": {
     "name": "#%%\n"
    },
    "scrolled": true
   },
   "outputs": [],
   "source": [
    "rinex2snr(\"mchl00aus\", 2017, 1, doy_end=365, year_end=2018, archive=\"cddis\")"
   ]
  },
  {
   "cell_type": "markdown",
   "metadata": {
    "pycharm": {
     "name": "#%% md\n"
    }
   },
   "source": [
    "If you have any difficult downloading these RINEX 3 files, UNAVCO has kindly downloaded and converted \n",
    "a few years of files into RINEX 2.11 that includes L2C data. Uncomment the line below if you want to use this:"
   ]
  },
  {
   "cell_type": "code",
   "execution_count": null,
   "metadata": {
    "pycharm": {
     "name": "#%%\n"
    }
   },
   "outputs": [],
   "source": [
    "# rinex2snr('mchl', 2017, 1, doy_end=365, archive='special')"
   ]
  },
  {
   "cell_type": "markdown",
   "metadata": {
    "pycharm": {
     "name": "#%% md\n"
    }
   },
   "source": [
    "Use the <code>quickLook</code> with the l2c frequency to give a look to the data quality.\n",
    "Then set up your parameters with <code>make_gnssir_input</code>"
   ]
  },
  {
   "cell_type": "code",
   "execution_count": null,
   "metadata": {
    "pycharm": {
     "name": "#%%\n"
    }
   },
   "outputs": [],
   "source": [
    "make_gnssir_input(\"mchl\", l2c=True)"
   ]
  },
  {
   "cell_type": "markdown",
   "metadata": {
    "pycharm": {
     "name": "#%% md\n"
    }
   },
   "source": [
    "The location of the json file is printed to the screen. \n",
    "The default behavior is to accept all azimuths.\n",
    "Modify the azimuths in the json if you feel that is needed.\n",
    "How can you tell if you have bad azimuths? Look back at the <code>quickLook</code> results.\n",
    "Do not worry excessively about this at this stage. Once you have a VWC solution you can go back and easily/quickly iterate to remove bad \n",
    "azimuths and satellite tracks.\n",
    "\n",
    "Run the <code>gnssir</code> each day in 2017 and 2018:"
   ]
  },
  {
   "cell_type": "code",
   "execution_count": null,
   "metadata": {
    "pycharm": {
     "name": "#%%\n"
    },
    "scrolled": true
   },
   "outputs": [],
   "source": [
    "gnssir(\"mchl\", 2017, 1, doy_end=365, year_end=2018)"
   ]
  },
  {
   "cell_type": "markdown",
   "metadata": {
    "pycharm": {
     "name": "#%% md\n"
    }
   },
   "source": [
    "#### Step 2: Soil Moisture\n",
    "\n",
    "Pick the satellite tracks you are going to use:\n"
   ]
  },
  {
   "cell_type": "code",
   "execution_count": null,
   "metadata": {
    "pycharm": {
     "name": "#%%\n"
    }
   },
   "outputs": [],
   "source": [
    "vwc_input?"
   ]
  },
  {
   "cell_type": "code",
   "execution_count": null,
   "metadata": {
    "pycharm": {
     "name": "#%%\n"
    }
   },
   "outputs": [],
   "source": [
    "vwc_input(\"mchl\", 2017)"
   ]
  },
  {
   "cell_type": "markdown",
   "metadata": {
    "pycharm": {
     "name": "#%% md\n"
    }
   },
   "source": [
    "This creates a file that will go in $REFL_CODE/input/mchl_phaseRH.txt\n",
    "\n",
    "This file can be hand edited if you find out later that a \n",
    "particularly satellite track is not working. To comment lines out you use %.\n",
    "\n",
    "Run the <code>phase</code> code:"
   ]
  },
  {
   "cell_type": "code",
   "execution_count": null,
   "metadata": {
    "pycharm": {
     "name": "#%%\n"
    },
    "scrolled": true
   },
   "outputs": [],
   "source": [
    "quickphase(\"mchl\", 2017, 1, doy_end=365, year_end=2018)"
   ]
  },
  {
   "cell_type": "markdown",
   "metadata": {
    "pycharm": {
     "name": "#%% md\n"
    }
   },
   "source": [
    "The location of the output files for this stage are printed to the screen.\n",
    "\n",
    "Finally, the <code>vwc</code> module compiles all the \n",
    "data in the requested years and generates a volumetric water content file.\n",
    "\n",
    "It also produces plots which can help you assess your results:\n",
    "\n",
    "1. Raw phases in geographic quadrants\n",
    "2. Daily phase averages\n",
    "3. Modeling Results\n",
    "4. Final VWC"
   ]
  },
  {
   "cell_type": "code",
   "execution_count": null,
   "metadata": {
    "pycharm": {
     "name": "#%%\n"
    }
   },
   "outputs": [],
   "source": [
    "vwc(\"mchl\", 2017, year_end=2018)"
   ]
  },
  {
   "cell_type": "markdown",
   "metadata": {
    "pycharm": {
     "name": "#%% md\n"
    }
   },
   "source": [
    "A big thank you to Lucas Holden for test driving this use case."
   ]
  }
 ],
 "metadata": {
  "kernelspec": {
   "display_name": "venv",
   "language": "python",
   "name": "venv"
  },
  "language_info": {
   "codemirror_mode": {
    "name": "ipython",
    "version": 3
   },
   "file_extension": ".py",
   "mimetype": "text/x-python",
   "name": "python",
   "nbconvert_exporter": "python",
   "pygments_lexer": "ipython3",
   "version": "3.9.16"
  }
 },
 "nbformat": 4,
 "nbformat_minor": 4
}
