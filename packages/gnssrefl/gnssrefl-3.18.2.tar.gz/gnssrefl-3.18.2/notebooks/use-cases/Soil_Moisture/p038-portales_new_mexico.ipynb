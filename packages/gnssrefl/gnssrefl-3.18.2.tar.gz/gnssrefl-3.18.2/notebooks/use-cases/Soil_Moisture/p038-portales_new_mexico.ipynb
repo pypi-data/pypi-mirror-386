{
 "cells": [
  {
   "cell_type": "markdown",
   "metadata": {
    "ExecuteTime": {
     "end_time": "2022-09-07T23:30:29.604104Z",
     "start_time": "2022-09-07T23:30:29.589736Z"
    },
    "pycharm": {
     "name": "#%% md\n"
    }
   },
   "source": [
    "### Soil Moisture in Portales, New Mexico\n",
    "\n",
    "**Station Name:**  p038\n",
    "\n",
    "**Location:**  Portales, New Mexico, USA\n",
    "\n",
    "**Archive:** [EarthScope Consortium](http://www.earthscope.org)\n",
    "\n",
    "**Ellipsoidal Coordinates:**\n",
    "\n",
    "- Latitude: 34.14726 degrees\n",
    "\n",
    "- Longitude: -103.40734 degrees\n",
    "\n",
    "- Height: 1212.982 meters\n",
    "\n",
    "[Station Page at EarthScope](https://www.unavco.org/instrumentation/networks/status/nota/overview/P038)\n",
    "\n",
    "[Google Maps Link](https://www.google.com/maps/place/34%C2%B008'50.1%22N+103%C2%B024'26.4%22W/@34.14725,-103.4073333,17z/data=!3m1!4b1!4m5!3m4!1s0x0:0x64e449f205085274!8m2!3d34.14725!4d-103.4073333) \n",
    "\n",
    "<p align=\"center\">\n",
    "<img src=\"https://www.unavco.org/data/gps-gnss/lib/images/station_images/P038.jpg\" width=\"500\"/>\n",
    "</P>"
   ]
  },
  {
   "cell_type": "markdown",
   "metadata": {
    "pycharm": {
     "name": "#%% md\n"
    }
   },
   "source": [
    "P038 was a PBO site. The data from 2017 will be analyzed here as a test case. We will start by analyzing the data \n",
    "using the normal reflector height (GNSS-IR) processing. Then we will use those results to run the soil moisture code.\n",
    "\n",
    "First, start by importing everything we need to run GNSS-IR:"
   ]
  },
  {
   "cell_type": "code",
   "execution_count": null,
   "metadata": {
    "pycharm": {
     "name": "#%%\n"
    }
   },
   "outputs": [],
   "source": [
    "from gnssrefl.vwc import vwc\n",
    "from gnssrefl.quickPhase import quickphase\n",
    "from gnssrefl.vwc_input import vwc_input\n",
    "from gnssrefl.daily_avg_cl import daily_avg\n",
    "from gnssrefl.gnssir_input import make_gnssir_input\n",
    "from gnssrefl.gnssir_cl import gnssir\n",
    "from gnssrefl.rinex2snr_cl import rinex2snr\n",
    "from gnssrefl.installexe_cl import installexe\n",
    "import ipywidgets as widgets\n",
    "import os\n",
    "\n",
    "from pathlib import Path\n",
    "\n",
    "from gnssrefl.utils import check_environment, set_environment, get_sys\n",
    "\n",
    "notebook_dir = Path.cwd().parents[1]\n",
    "\n",
    "# Making sure environment variables are set - this is required to run the gnssrefl code\n",
    "exists = check_environment()\n",
    "if exists == False:\n",
    "    set_environment(\n",
    "        refl_code=str(notebook_dir),\n",
    "        orbits=str(notebook_dir / \"orbits\"),\n",
    "        exe=str(notebook_dir / \"exe\"),\n",
    "    )\n",
    "\n",
    "# If you are running this locally - make sure the items in the exe folder have execution permissions\n",
    "\n",
    "# Set local variable of refl_code location\n",
    "refl_code_loc = os.environ[\"REFL_CODE\"]\n",
    "print(\"refl_code location:\", refl_code_loc)\n",
    "\n",
    "# import gnssrefl functions"
   ]
  },
  {
   "cell_type": "markdown",
   "metadata": {
    "ExecuteTime": {
     "end_time": "2022-09-07T23:34:56.763632Z",
     "start_time": "2022-09-07T23:34:56.758935Z"
    },
    "pycharm": {
     "name": "#%% md\n"
    }
   },
   "source": [
    "#### Step 1: GNSS-IR\n",
    "Begin by generating the SNR files. Although typically PBO sites do not have L2C \n",
    "data in their low-rate RINEX files, UNAVCO is providing these data in the \"special\" archive section\n",
    "so that people can test out this code."
   ]
  },
  {
   "cell_type": "code",
   "execution_count": null,
   "metadata": {
    "pycharm": {
     "name": "#%%\n"
    }
   },
   "outputs": [],
   "source": [
    "# Set station, year, doy, and doy_end as variables so they can be used throughout the rest of this example\n",
    "station = \"p038\"\n",
    "year = 2017\n",
    "doy = 1\n",
    "doy_end = 365\n",
    "\n",
    "rinex2snr(station=station, year=year, doy=doy, doy_end=doy_end, archive=\"special\")"
   ]
  },
  {
   "cell_type": "markdown",
   "metadata": {
    "pycharm": {
     "name": "#%% md\n"
    }
   },
   "source": [
    "If you want to remind yourself why the L2C data are superior to the L1 data recorded for this receiver, use <code>quickLook</code>. You will need to import it from gnssrefl.\n",
    "\n",
    "The analysis parameters are set up with <code>make_gnssir_input</code>. We only need the L2C data, so have set the parameter accordingly."
   ]
  },
  {
   "cell_type": "code",
   "execution_count": null,
   "metadata": {
    "pycharm": {
     "name": "#%%\n"
    }
   },
   "outputs": [],
   "source": [
    "make_gnssir_input(station, l2c=True)"
   ]
  },
  {
   "cell_type": "markdown",
   "metadata": {
    "pycharm": {
     "name": "#%% md\n"
    }
   },
   "source": [
    "Now we run <code>gnssir</code>. This will be needed for estimate a priori reflector heights for the soil moisture code."
   ]
  },
  {
   "cell_type": "code",
   "execution_count": null,
   "metadata": {
    "pycharm": {
     "name": "#%%\n"
    }
   },
   "outputs": [],
   "source": [
    "gnssir(station, year, doy, doy_end=doy_end)"
   ]
  },
  {
   "cell_type": "markdown",
   "metadata": {
    "pycharm": {
     "name": "#%% md\n"
    }
   },
   "source": [
    "#### Step 2: Soil Moisture\n",
    "\n",
    "[Please read the soil moisture user manual.](https://github.com/kristinemlarson/gnssrefl/blob/master/docs/README_vwc.md) It is very short and has a lot of tips that will save you time.\n",
    "\n",
    "We need a list of satellite tracks to use:"
   ]
  },
  {
   "cell_type": "code",
   "execution_count": null,
   "metadata": {
    "pycharm": {
     "name": "#%%\n"
    }
   },
   "outputs": [],
   "source": [
    "# remember you can see what parameters are accepted by running: vwc_input?\n",
    "\n",
    "vwc_input(station, 2017)"
   ]
  },
  {
   "cell_type": "markdown",
   "metadata": {
    "pycharm": {
     "name": "#%% md\n"
    }
   },
   "source": [
    "This creates a file that is stored in $REFL_CODE/input/p038_phaseRH.txt\n",
    "\n",
    "Now we estimate the phase for each satellite track on each day:\n"
   ]
  },
  {
   "cell_type": "code",
   "execution_count": null,
   "metadata": {
    "pycharm": {
     "name": "#%%\n"
    }
   },
   "outputs": [],
   "source": [
    "quickphase(station, year, doy, doy_end=doy_end)"
   ]
  },
  {
   "cell_type": "markdown",
   "metadata": {
    "pycharm": {
     "name": "#%% md\n"
    }
   },
   "source": [
    "Finally, convert the phase to volumetric water content.\n",
    "\n",
    "This will result in 4 plots:\n",
    "1. Phase results in geographic coordinates\n",
    "2. Daily average phase\n",
    "3. Model inputs\n",
    "4. Final Results\n",
    "\n",
    "These will all be saved in $REFL_CODE/Files"
   ]
  },
  {
   "cell_type": "code",
   "execution_count": null,
   "metadata": {
    "pycharm": {
     "name": "#%%\n"
    }
   },
   "outputs": [],
   "source": [
    "vwc(station, year)"
   ]
  },
  {
   "cell_type": "markdown",
   "metadata": {
    "pycharm": {
     "name": "#%% md\n"
    }
   },
   "source": [
    "Thank you to Naoya Kadota for test driving this use case."
   ]
  }
 ],
 "metadata": {
  "kernelspec": {
   "display_name": "venv",
   "language": "python",
   "name": "venv"
  },
  "language_info": {
   "codemirror_mode": {
    "name": "ipython",
    "version": 3
   },
   "file_extension": ".py",
   "mimetype": "text/x-python",
   "name": "python",
   "nbconvert_exporter": "python",
   "pygments_lexer": "ipython3",
   "version": "3.9.16"
  }
 },
 "nbformat": 4,
 "nbformat_minor": 4
}
