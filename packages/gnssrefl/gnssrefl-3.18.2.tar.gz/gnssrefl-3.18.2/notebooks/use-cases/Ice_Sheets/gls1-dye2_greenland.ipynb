{
 "cells": [
  {
   "cell_type": "markdown",
   "id": "18638b2b",
   "metadata": {
    "pycharm": {
     "name": "#%% md\n"
    }
   },
   "source": [
    "# Dye2, Greenland \n",
    "\n",
    "**Station Name:** gls1\n",
    "\n",
    "**Location:**  Dye2, Qeqqata Province, Greenland \n",
    "\n",
    "**Archive:**  [EarthScope Consortium](http://www.earthscope.org), [SOPAC](http://sopac-csrc.ucsd.edu/index.php/sopac/)\n",
    "\n",
    "**DOI:**  [https://doi.org/10.7283/T5WS8RDB](https://doi.org/10.7283/T5WS8RDB)\n",
    "\n",
    "**Ellipsoidal Coordinates:**\n",
    "\n",
    "- Latitude: 66.47940\n",
    "\n",
    "- Longitude:  -46.31015\n",
    "\n",
    "- Height: 2150 m\n",
    "\n",
    "[Station Page at EarthScope](https://www.unavco.org/instrumentation/networks/status/nota/overview/gls1)\n",
    "\n",
    "[Station Page at Nevada Geodetic Laboratory](http://geodesy.unr.edu/NGLStationPages/stations/GLS1.sta)\n",
    "\n",
    "[Google Maps Link](https://goo.gl/maps/391a7h2HpacAa59u8) \n",
    "\n",
    "<img src=\"https://gnss-reflections.org/static/images/GLS1.jpg\" width=\"400\">\n",
    "<BR>\n"
   ]
  },
  {
   "cell_type": "code",
   "execution_count": null,
   "id": "2daa5565",
   "metadata": {
    "editable": true,
    "pycharm": {
     "name": "#%%\n"
    },
    "slideshow": {
     "slide_type": ""
    },
    "tags": []
   },
   "outputs": [],
   "source": [
    "from gnssrefl.daily_avg_cl import daily_avg\n",
    "from gnssrefl.gnssir_input import make_gnssir_input\n",
    "from gnssrefl.gnssir_cl import gnssir\n",
    "from gnssrefl.quickLook_cl import quicklook\n",
    "from gnssrefl.rinex2snr_cl import rinex2snr\n",
    "from gnssrefl.installexe_cl import installexe\n",
    "import ipywidgets as widgets\n",
    "import os\n",
    "\n",
    "from pathlib import Path\n",
    "\n",
    "from gnssrefl.utils import check_environment, set_environment, get_sys\n",
    "\n",
    "notebook_dir = Path.cwd().parents[1]\n",
    "\n",
    "# Making sure environment variables are set - this is required to run the gnssrefl code\n",
    "exists = check_environment()\n",
    "if exists == False:\n",
    "    set_environment(\n",
    "        refl_code=str(notebook_dir),\n",
    "        orbits=str(notebook_dir / \"orbits\"),\n",
    "        exe=str(notebook_dir / \"exe\"),\n",
    "    )\n",
    "\n",
    "# If you are running this locally - make sure the items in the exe folder have execution permissions\n",
    "\n",
    "# Set local variable of refl_code location\n",
    "refl_code_loc = os.environ[\"REFL_CODE\"]\n",
    "print(\"refl_code location:\", refl_code_loc)\n",
    "\n",
    "# import gnssrefl functions\n",
    "\n",
    "\n",
    "# import the crx2rnx file which is dependent on your working OS - this is required to run the gnssrefl code\n",
    "# If in docker environment, then you do not need to download crxnrnx\n",
    "try:\n",
    "    os.environ[\"DOCKER\"]\n",
    "except KeyError:\n",
    "    sys = get_sys()\n",
    "    installexe(sys)"
   ]
  },
  {
   "cell_type": "markdown",
   "id": "daf34b7a",
   "metadata": {
    "editable": true,
    "pycharm": {
     "name": "#%% md\n"
    },
    "slideshow": {
     "slide_type": ""
    },
    "tags": []
   },
   "source": [
    "**Fast Mode:** \n",
    "this will download data weekly instead of daily\n",
    "\n",
    "fast mode for this notebook: ~5 minutes"
   ]
  },
  {
   "cell_type": "code",
   "execution_count": null,
   "id": "6673f225",
   "metadata": {
    "pycharm": {
     "name": "#%%\n"
    },
    "tags": [
     "hide_cell"
    ]
   },
   "outputs": [],
   "source": [
    "weekly = widgets.Checkbox(\n",
    "    value=True, description=\"Fast Mode\", disabled=False, indent=False\n",
    ")\n",
    "weekly"
   ]
  },
  {
   "cell_type": "markdown",
   "id": "d515d081-c1f2-4b40-8efc-853f31e8c1e0",
   "metadata": {
    "editable": true,
    "slideshow": {
     "slide_type": ""
    },
    "tags": []
   },
   "source": [
    "Deselect the Fast Mode checkbox to deactivate fast mode."
   ]
  },
  {
   "cell_type": "markdown",
   "id": "df31ffa1",
   "metadata": {
    "editable": true,
    "pycharm": {
     "name": "#%% md\n"
    },
    "slideshow": {
     "slide_type": ""
    },
    "tags": []
   },
   "source": [
    "## Data Summary\n",
    "\n",
    "Station gls1 was installed at [Dye2](http://greenlandtoday.com/dye-2-a-relic-from-a-not-so-distant-past/?lang=en) on the Greenland Ice Sheet in 2011. \n",
    "The antenna is mounted on a long pole; approximately 3.5-meter of the pole was above the ice at the time of installation. \n",
    "The receiver at the site only consistently tracks legacy GPS signals. A detailed discussion of the monument and \n",
    "data from the station can be found in [Larson, MacFerrin, and Nylen (2020)](https://tc.copernicus.org/articles/14/1985/2020/tc-14-1985-2020.pdf). \n",
    "The latest position time series for gls1 can be retrieved \n",
    "from the [Nevada Geodetic Laboratory](http://geodesy.unr.edu/gps_timeseries/tenv3/IGS14/GLS1.tenv3). \n",
    "We also have a utility you can use: **download_unr**\n",
    "\n",
    "As gls1 is on an ice sheet and the ice surface is relatively smooth in all directions, it \n",
    "is unlikely that a complicated azimuth mask will be required.\n",
    "gls1 was originally installed with an elevation mask of 7 degrees, which is suboptimal for reflections research.\n",
    "Even though the mask was later removed, we will use 7 degrees as the minimum elevation angle for all our analysis.\n",
    "Similarly, even though the site managers later changed to enable L2C tracking, to ensure that \n",
    "a consistent dataset is being used, we will only use L1 data. "
   ]
  },
  {
   "cell_type": "code",
   "execution_count": null,
   "id": "bcf5386c",
   "metadata": {
    "pycharm": {
     "name": "#%%\n"
    }
   },
   "outputs": [],
   "source": [
    "%%html\n",
    "<iframe src=\"https://gnss-reflections.org/api?example=gls1\" width=\"1000\" height=\"950\"></iframe>"
   ]
  },
  {
   "cell_type": "markdown",
   "id": "a1593164",
   "metadata": {
    "pycharm": {
     "name": "#%% md\n"
    }
   },
   "source": [
    "## quickLook \n",
    "\n",
    "Our ultimate goal in this use case is to analyze one year of data. We have chosen the year \n",
    "2012 because there was a large melt event on the ice sheet. In order to set the proper\n",
    "quality control parameters, we will use **quickLook** for one day. First we need to translate \n",
    "one day of RINEX data using **rinex2snr**. We will use day of year 100:"
   ]
  },
  {
   "cell_type": "code",
   "execution_count": null,
   "id": "95af8cd7",
   "metadata": {
    "pycharm": {
     "name": "#%%\n"
    }
   },
   "outputs": [],
   "source": [
    "station = \"gls1\"\n",
    "year = 2012\n",
    "doy = 100"
   ]
  },
  {
   "cell_type": "code",
   "execution_count": null,
   "id": "dee13280",
   "metadata": {
    "pycharm": {
     "name": "#%%\n"
    }
   },
   "outputs": [],
   "source": [
    "# To understand what rinex2snr returns, you can uncomment the next line of code to learn more about this function\n",
    "# and it's default parameters\n",
    "# rinex2snr?\n",
    "rinex2snr(station, year, doy)"
   ]
  },
  {
   "cell_type": "code",
   "execution_count": null,
   "id": "dcbfdbd1",
   "metadata": {
    "pycharm": {
     "name": "#%%\n"
    }
   },
   "outputs": [],
   "source": [
    "values, metrics = quicklook(station, year, doy=doy, plt=True)"
   ]
  },
  {
   "cell_type": "markdown",
   "id": "3caf44f1",
   "metadata": {
    "pycharm": {
     "name": "#%% md\n"
    }
   },
   "source": [
    "The first plot is a geographically oriented-summary of the frequency content of the GPS data.\n",
    "The peaks in these periodograms tell us how high the GPS antenna is above the ice surface.\n",
    "The peaks are associated with a reflector height (RH) of ~2.5 meters. [For more details on quicklook output](https://github.com/kristinemlarson/gnssrefl/blob/master/docs/quickLook_desc.md).\n",
    "\n",
    "The next plot shows results with respect to azimuth angle.  The top plot is RH and the other \n",
    "two are quality control measures: peak amplitude and peak to noise ratio."
   ]
  },
  {
   "cell_type": "markdown",
   "id": "35e0fe2a",
   "metadata": {
    "pycharm": {
     "name": "#%% md\n"
    }
   },
   "source": [
    "In the top plot we see that the retrieved reflector heights are consistent at all azimuths.\n",
    "Retrievals for azimuths between 340 degrees and 40 degrees are consistently marked as not having\n",
    "met quality control settings.From the center plot we can see that a peak2noise QC metric of 3 is reasonable. \n",
    "Similarly, the amplitudes (bottom plot) are generally larger than 10, so 8 is an acceptable minimum value.\n",
    "\n",
    "Compare that to its level when the site was installed in the year 2011:"
   ]
  },
  {
   "cell_type": "code",
   "execution_count": null,
   "id": "e231bb53",
   "metadata": {
    "pycharm": {
     "name": "#%%\n"
    }
   },
   "outputs": [],
   "source": [
    "rinex2snr(station, year=2011, doy=271, archive=\"unavco\", weekly=weekly.value)\n",
    "\n",
    "values, metrics = quicklook(station, 2011, doy=271, plt=True)"
   ]
  },
  {
   "cell_type": "markdown",
   "id": "52e780f9",
   "metadata": {
    "pycharm": {
     "name": "#%% md\n"
    }
   },
   "source": [
    "## Measure Snow Accumulation in 2012"
   ]
  },
  {
   "cell_type": "markdown",
   "id": "0d0ad638",
   "metadata": {
    "pycharm": {
     "name": "#%% md\n"
    }
   },
   "source": [
    "The first step is to make SNR files for the year 2012:\n",
    "\n",
    "This should take ~5 minutes"
   ]
  },
  {
   "cell_type": "code",
   "execution_count": null,
   "id": "95a5aaf8",
   "metadata": {
    "pycharm": {
     "name": "#%%\n"
    },
    "scrolled": true
   },
   "outputs": [],
   "source": [
    "rinex2snr(station, year, 1, doy_end=366, weekly=weekly.value)"
   ]
  },
  {
   "cell_type": "markdown",
   "id": "7c64ef33",
   "metadata": {
    "pycharm": {
     "name": "#%% md\n"
    }
   },
   "source": [
    "We will next analyze a year of L1 GPS reflection data from this site. We will use the default minimum and maximum \n",
    "reflector height values (0.4 and 6 meters). But for the reasons previously stated, we will set a minimum elevation angle \n",
    "of 7 degrees. We also specify that we only want to use the L1 data and set peak2noise and a mimimum\n",
    "amplitude for the periodograms. We will also exclude a bit of the northern tracks by setting our azimuth range to 40-330 degress.\n",
    "We use the utility **make_gnssir_input** to set and store these analysis settings:"
   ]
  },
  {
   "cell_type": "code",
   "execution_count": null,
   "id": "d999db62",
   "metadata": {
    "pycharm": {
     "name": "#%%\n"
    }
   },
   "outputs": [],
   "source": [
    "make_gnssir_input(station, e1=7, peak2noise=3,\n",
    "                  ampl=8, l1=True, azlist2=[40, 330])"
   ]
  },
  {
   "cell_type": "markdown",
   "id": "d06f5897",
   "metadata": {
    "pycharm": {
     "name": "#%% md\n"
    }
   },
   "source": [
    "Note: the removal of these azimuths is more related to the GPS satellite inclination than local conditions at gls1.\n",
    "\n",
    "Now that you have SNR files and input ready, you can go ahead and estimate reflector heights for the year 2012:"
   ]
  },
  {
   "cell_type": "code",
   "execution_count": null,
   "id": "d60c1f1f",
   "metadata": {
    "editable": true,
    "pycharm": {
     "name": "#%%\n"
    },
    "scrolled": true,
    "slideshow": {
     "slide_type": ""
    },
    "tags": []
   },
   "outputs": [],
   "source": [
    "year = 2012\n",
    "doy = 1\n",
    "doy_end = 366\n",
    "plot = False\n",
    "gnssir(station, year, doy, doy_end=doy_end, plt=plot)"
   ]
  },
  {
   "cell_type": "markdown",
   "id": "23e4b6bc",
   "metadata": {
    "pycharm": {
     "name": "#%% md\n"
    }
   },
   "source": [
    "We will use the **daily_avg** tool to compute a daily average RH. A median filter is set to 0.25 meters \n",
    "and 30 individual tracks are required in order to recover a daily average:"
   ]
  },
  {
   "cell_type": "code",
   "execution_count": null,
   "id": "15f15515",
   "metadata": {
    "pycharm": {
     "name": "#%%\n"
    }
   },
   "outputs": [],
   "source": [
    "daily_avg(station, medfilter=0.25, ReqTracks=30, txtfile=\"gls1-dailyavg.txt\")"
   ]
  },
  {
   "cell_type": "markdown",
   "id": "0e2502d4",
   "metadata": {
    "pycharm": {
     "name": "#%% md\n"
    }
   },
   "source": [
    "Four plots are returned. The first is all tracks. The second shows the number of tracks used in the daily average. The third is the average reflection amplitude. Finally, the average RH each day for the year 2012.\n",
    "\n",
    "This data shown in the last plot show you long-term accumulation as well as relatively small snow accumulation events. The overall \n",
    "plot is dominated by the large melt event in the summer."
   ]
  },
  {
   "cell_type": "markdown",
   "id": "77a148db",
   "metadata": {
    "pycharm": {
     "name": "#%% md\n"
    }
   },
   "source": [
    "**Things to think about:**\n",
    "\n",
    "* Why do the number of useable tracks drop drastically at various times in the year?\n",
    "\n",
    "* Why are the number of tracks retrieved in the summer days consistently higher in number than \n",
    "in other times of the year? What is different about the surface in the summer of 2012?\n",
    "\n",
    "* How would you find out whether this year was anomalously large melt?  \n",
    "\n",
    "* Try comparing the GNSS-IR results with the [validation data](https://tc.copernicus.org/articles/14/1985/2020/tc-14-1985-2020.pdf)\n",
    "\n",
    "The original [J. Glaciology paper](https://www.kristinelarson.net/wp-content/uploads/2015/10/LarsonWahrKuipers_2015.pdf ) discussing this site."
   ]
  },
  {
   "cell_type": "code",
   "execution_count": null,
   "id": "fd7e2823",
   "metadata": {
    "pycharm": {
     "name": "#%%\n"
    }
   },
   "outputs": [],
   "source": []
  }
 ],
 "metadata": {
  "celltoolbar": "Tags",
  "kernelspec": {
   "display_name": "venv",
   "language": "python",
   "name": "venv"
  },
  "language_info": {
   "codemirror_mode": {
    "name": "ipython",
    "version": 3
   },
   "file_extension": ".py",
   "mimetype": "text/x-python",
   "name": "python",
   "nbconvert_exporter": "python",
   "pygments_lexer": "ipython3",
   "version": "3.9.16"
  }
 },
 "nbformat": 4,
 "nbformat_minor": 5
}
