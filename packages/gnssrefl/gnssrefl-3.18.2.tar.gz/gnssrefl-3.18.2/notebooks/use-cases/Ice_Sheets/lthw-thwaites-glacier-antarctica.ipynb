{
 "cells": [
  {
   "cell_type": "markdown",
   "id": "18638b2b",
   "metadata": {
    "editable": true,
    "pycharm": {
     "name": "#%% md\n"
    },
    "slideshow": {
     "slide_type": ""
    },
    "tags": []
   },
   "source": [
    "# Lower Thwaites Glacier\n",
    "\n",
    "<p align=center>\n",
    "<img src=\"http://gnss-reflections.org/static/images/LTHW.jpg\" width=\"500\"/><BR>\n",
    "</p>\n",
    "\n",
    "**Station Name:** lthw\n",
    "\n",
    "**Location:** Thwaites Glacier, Antarctica\n",
    "\n",
    "**Archive:** [EarthScope Consortium](http://www.earthscope.org)\n",
    "\n",
    "**Ellipsoidal Coordinates:**\n",
    "\n",
    "- Latitude: -76.458\n",
    "- Longitude: -107.782\n",
    "- Height: 1011.459 m\n",
    "\n",
    "[Station Page at EarthScope](https://www.unavco.org/instrumentation/networks/status/nota/overview/LTHW)\n",
    "\n",
    "[Station Page at Nevada Geodetic Laboratory](http://geodesy.unr.edu/NGLStationPages/stations/LTHW.sta)\n"
   ]
  },
  {
   "cell_type": "code",
   "execution_count": null,
   "id": "2daa5565",
   "metadata": {
    "editable": true,
    "pycharm": {
     "name": "#%%\n"
    },
    "slideshow": {
     "slide_type": ""
    },
    "tags": []
   },
   "outputs": [],
   "source": [
    "from gnssrefl.daily_avg_cl import daily_avg\n",
    "from gnssrefl.gnssir_input import make_gnssir_input\n",
    "from gnssrefl.gnssir_cl import gnssir\n",
    "from gnssrefl.quickLook_cl import quicklook\n",
    "from gnssrefl.rinex2snr_cl import rinex2snr\n",
    "from gnssrefl.installexe_cl import installexe\n",
    "import ipywidgets as widgets\n",
    "import os\n",
    "\n",
    "from pathlib import Path\n",
    "\n",
    "from gnssrefl.utils import check_environment, set_environment, get_sys\n",
    "\n",
    "notebook_dir = Path.cwd().parents[1]\n",
    "\n",
    "# Making sure environment variables are set - this is required to run the gnssrefl code\n",
    "exists = check_environment()\n",
    "if exists == False:\n",
    "    set_environment(\n",
    "        refl_code=str(notebook_dir),\n",
    "        orbits=str(notebook_dir / \"orbits\"),\n",
    "        exe=str(notebook_dir / \"exe\"),\n",
    "    )\n",
    "\n",
    "# If you are running this locally - make sure the items in the exe folder have execution permissions\n",
    "\n",
    "# Set local variable of refl_code location\n",
    "refl_code_loc = os.environ[\"REFL_CODE\"]\n",
    "print(\"refl_code location:\", refl_code_loc)\n",
    "\n",
    "# import gnssrefl functions\n",
    "\n",
    "\n",
    "# import the crx2rnx file which is dependent on your working OS - this is required to run the gnssrefl code\n",
    "# If in docker environment, then you do not need to download crxnrnx\n",
    "try:\n",
    "    os.environ[\"DOCKER\"]\n",
    "except KeyError:\n",
    "    sys = get_sys()\n",
    "    installexe(sys)"
   ]
  },
  {
   "cell_type": "markdown",
   "id": "daf34b7a",
   "metadata": {
    "editable": true,
    "pycharm": {
     "name": "#%% md\n"
    },
    "slideshow": {
     "slide_type": ""
    },
    "tags": []
   },
   "source": [
    "**Fast Mode:** \n",
    "this will download data weekly instead of daily"
   ]
  },
  {
   "cell_type": "code",
   "execution_count": null,
   "id": "6673f225",
   "metadata": {
    "editable": true,
    "pycharm": {
     "name": "#%%\n"
    },
    "slideshow": {
     "slide_type": ""
    },
    "tags": []
   },
   "outputs": [],
   "source": [
    "weekly = widgets.Checkbox(\n",
    "    value=True, description=\"Fast Mode\", disabled=False, indent=False\n",
    ")\n",
    "weekly"
   ]
  },
  {
   "cell_type": "markdown",
   "id": "2fc8c494-2823-4948-956e-bb25bba2d9bd",
   "metadata": {},
   "source": [
    "Deselect the Fast Mode checkbox to deactivate fast mode."
   ]
  },
  {
   "cell_type": "markdown",
   "id": "df31ffa1",
   "metadata": {
    "pycharm": {
     "name": "#%% md\n"
    }
   },
   "source": [
    "## Data Summary\n",
    "\n",
    "The receiver only tracks legacy GPS signals, so only L1 should be used for reflectometry. The pole\n",
    "is set in the snow/ice and routinely (every few years) reset. Please \n",
    "use the [Nevada Reno site](http://geodesy.unr.edu/NGLStationPages/stations/LTHW.sta) to get a \n",
    "feel for when the pole has been reset and where data gaps exist.\n",
    "\n",
    "Because there are no permanent structures surrounding the site, elevation and azimuth angle default settings can mostly be used.\n",
    "The only restriction that should be imposed is a minimum elevation angle of 7; this is because the field\n",
    "crew set this at the receiver when it was originally installed.\n",
    "\n",
    "lthw is one of the example cases for the [GNSS-IR webapp.](https://gnss-reflections.org/api?example=lthw) "
   ]
  },
  {
   "cell_type": "code",
   "execution_count": null,
   "id": "bcf5386c",
   "metadata": {
    "pycharm": {
     "name": "#%%\n"
    }
   },
   "outputs": [],
   "source": [
    "%%html\n",
    "<iframe src=\"https://gnss-reflections.org/api?example=lthw\" width=\"800\" height=\"950\"></iframe>"
   ]
  },
  {
   "cell_type": "markdown",
   "id": "a1593164",
   "metadata": {
    "pycharm": {
     "name": "#%% md\n"
    }
   },
   "source": [
    "## Take a quick look at the SNR data\n",
    "\n",
    "Translate the GPS data for January 1 in 2018. First you need to make the SNR file:"
   ]
  },
  {
   "cell_type": "code",
   "execution_count": null,
   "id": "95af8cd7",
   "metadata": {
    "pycharm": {
     "name": "#%%\n"
    }
   },
   "outputs": [],
   "source": [
    "station = \"lthw\"\n",
    "year = 2018\n",
    "doy = 1"
   ]
  },
  {
   "cell_type": "code",
   "execution_count": null,
   "id": "dee13280",
   "metadata": {
    "pycharm": {
     "name": "#%%\n"
    }
   },
   "outputs": [],
   "source": [
    "rinex2snr(station, year, doy)"
   ]
  },
  {
   "cell_type": "markdown",
   "id": "a94702b8",
   "metadata": {},
   "source": [
    "Use our utility `quickLook` to look at these data [(For more details on quickLook output)](../pages/quickLook.md):"
   ]
  },
  {
   "cell_type": "code",
   "execution_count": null,
   "id": "dcbfdbd1",
   "metadata": {
    "pycharm": {
     "name": "#%%\n"
    }
   },
   "outputs": [],
   "source": [
    "values, metrics = quicklook(station, year, doy=doy)"
   ]
  },
  {
   "cell_type": "markdown",
   "id": "3caf44f1",
   "metadata": {
    "pycharm": {
     "name": "#%% md\n"
    }
   },
   "source": [
    "This is a bit of a mess really. If there are significant peaks, they are really \n",
    "close to the cutoff for the method (at 0.5 meters). Let's compare with about a week later.\n",
    "First make a SNR file:"
   ]
  },
  {
   "cell_type": "code",
   "execution_count": null,
   "id": "e231bb53",
   "metadata": {
    "pycharm": {
     "name": "#%%\n"
    }
   },
   "outputs": [],
   "source": [
    "rinex2snr(station, year=year, doy=9)\n",
    "\n",
    "values, metrics = quicklook(station, year, doy=9)"
   ]
  },
  {
   "cell_type": "markdown",
   "id": "54b69439",
   "metadata": {
    "ExecuteTime": {
     "end_time": "2023-05-02T03:39:11.103518Z",
     "start_time": "2023-05-02T03:39:11.098044Z"
    }
   },
   "source": [
    "This is *much* better and clearly shows that a field crew reset the antenna to a little \n",
    "less than 5 meters sometime between day 1 and day 9 in the year 2018. The second plot to gives an idea of how well the method performs for various azimuths and QC parameters.\n",
    "\n",
    "Except for a region ~270-300 degrees in azimuth, and directly south, retrievals are consistently good.\n",
    "A peak to noise ratio of 3 appears to be appropriate. The rejected southern retrievals are unlikely to be \n",
    "of local origin, but rather related to the inclination of the satellite orbits at this latitude.\n",
    "\n",
    "Lets compare this to the first day of 2020:"
   ]
  },
  {
   "cell_type": "code",
   "execution_count": null,
   "id": "3d2178a1",
   "metadata": {},
   "outputs": [],
   "source": [
    "rinex2snr(station, year=2020, doy=1)\n",
    "\n",
    "values, metrics = quicklook(station, year=2020, doy=1)"
   ]
  },
  {
   "cell_type": "markdown",
   "id": "5e970910",
   "metadata": {},
   "source": [
    "Now the peaks in the reflector height (RH) periodograms are ~2.2 meters - \n",
    "so that means that there was ~2.5 meters of surface change from 2018 to 2020."
   ]
  },
  {
   "cell_type": "markdown",
   "id": "52e780f9",
   "metadata": {
    "pycharm": {
     "name": "#%% md\n"
    }
   },
   "source": [
    "## Measure Snow Accumulation for 2018"
   ]
  },
  {
   "cell_type": "markdown",
   "id": "0d0ad638",
   "metadata": {
    "pycharm": {
     "name": "#%% md\n"
    }
   },
   "source": [
    "Translate the GPS data for the year of 2018:"
   ]
  },
  {
   "cell_type": "code",
   "execution_count": null,
   "id": "95a5aaf8",
   "metadata": {
    "pycharm": {
     "name": "#%%\n"
    },
    "scrolled": true
   },
   "outputs": [],
   "source": [
    "rinex2snr(station, year, 1, doy_end=366, weekly=weekly.value)"
   ]
  },
  {
   "cell_type": "markdown",
   "id": "7c64ef33",
   "metadata": {
    "pycharm": {
     "name": "#%% md\n"
    }
   },
   "source": [
    "Then you need to make the list of analysis inputs (stored in json format):"
   ]
  },
  {
   "cell_type": "code",
   "execution_count": null,
   "id": "d999db62",
   "metadata": {
    "pycharm": {
     "name": "#%%\n"
    }
   },
   "outputs": [],
   "source": [
    "make_gnssir_input(station, e1=7, peak2noise=3.2, l1=True)"
   ]
  },
  {
   "cell_type": "markdown",
   "id": "4aede4a1",
   "metadata": {},
   "source": [
    "It is fine to hand edit the json file to remove the unreliable azimuths if \n",
    "you prefer."
   ]
  },
  {
   "cell_type": "markdown",
   "id": "d06f5897",
   "metadata": {
    "pycharm": {
     "name": "#%% md\n"
    }
   },
   "source": [
    "Now analyze the data for 2018 from day 1 to day 365 using **gnssir**:"
   ]
  },
  {
   "cell_type": "code",
   "execution_count": null,
   "id": "d60c1f1f",
   "metadata": {
    "pycharm": {
     "name": "#%%\n"
    },
    "scrolled": true
   },
   "outputs": [],
   "source": [
    "gnssir(station, year, doy, doy_end=366)"
   ]
  },
  {
   "cell_type": "markdown",
   "id": "23e4b6bc",
   "metadata": {
    "editable": true,
    "pycharm": {
     "name": "#%% md\n"
    },
    "slideshow": {
     "slide_type": ""
    },
    "tags": []
   },
   "source": [
    "This produces reflector heights for every rising and setting satellite track that meets your \n",
    "quality control selections.  In order to estimate snow accumulation, you will want to calculate\n",
    "the daily average. Using our **daily_avg** utility - and specifying 50 satellite tracks and median filter of 0.25 meters:"
   ]
  },
  {
   "cell_type": "code",
   "execution_count": null,
   "id": "15f15515",
   "metadata": {
    "pycharm": {
     "name": "#%%\n"
    }
   },
   "outputs": [],
   "source": [
    "daily_avg(station, medfilter=0.25, ReqTracks=50)"
   ]
  },
  {
   "cell_type": "markdown",
   "id": "0e2502d4",
   "metadata": {
    "pycharm": {
     "name": "#%% md\n"
    }
   },
   "source": [
    "You can loosen the required track number if you want, but in this case it does not change the \n",
    "overall character of the results:"
   ]
  },
  {
   "cell_type": "code",
   "execution_count": null,
   "id": "90258321",
   "metadata": {},
   "outputs": [],
   "source": [
    "daily_avg(station, medfilter=0.25, ReqTracks=40)"
   ]
  },
  {
   "cell_type": "markdown",
   "id": "2ac9e5b9",
   "metadata": {
    "ExecuteTime": {
     "end_time": "2023-05-02T04:05:35.640242Z",
     "start_time": "2023-05-02T04:05:35.634066Z"
    },
    "pycharm": {
     "name": "#%%\n"
    }
   },
   "source": [
    "If you are feeling ambitious, try looking at the data for [Upper Thwaites Glacier](https://www.unavco.org/instrumentation/networks/status/nota/overview/UTHW)"
   ]
  }
 ],
 "metadata": {
  "kernelspec": {
   "display_name": "venv",
   "language": "python",
   "name": "venv"
  },
  "language_info": {
   "codemirror_mode": {
    "name": "ipython",
    "version": 3
   },
   "file_extension": ".py",
   "mimetype": "text/x-python",
   "name": "python",
   "nbconvert_exporter": "python",
   "pygments_lexer": "ipython3",
   "version": "3.9.16"
  }
 },
 "nbformat": 4,
 "nbformat_minor": 5
}
