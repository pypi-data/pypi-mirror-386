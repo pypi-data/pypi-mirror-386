{
 "cells": [
  {
   "cell_type": "markdown",
   "metadata": {
    "pycharm": {
     "name": "#%% md\n"
    }
   },
   "source": [
    "### Michipicoten, Lake Superior \n",
    "\n",
    "**Station Name:** \tmchn\n",
    "\n",
    "**Location:** Michipicoten Harbor, Ontario, Canada\n",
    "\n",
    "**Archive:**  [SOPAC](http://sopac-csrc.ucsd.edu/index.php/sopac/) \n",
    "\n",
    "**Ellipsoidal Coordinates:**\n",
    "\n",
    "- Latitude: 47.961\n",
    "\n",
    "- Longitude: -84.901\n",
    "\n",
    "- Height: 152.019 m\n",
    "\n",
    "[Station Page at Natural Resources Canada](https://webapp.geod.nrcan.gc.ca/geod/data-donnees/station/report-rapport.php?id=M093001)\n",
    "\n",
    "[Station Page at Nevada Geodetic Laboratory](http://geodesy.unr.edu/NGLStationPages/stations/MCHN.sta)\n",
    "\n",
    "[Google Maps Link](https://goo.gl/maps/mU5GbsvMsLfe5buQ7) \n",
    "\n",
    "<p align=center>\n",
    "<img src=\"https://gnss-reflections.org/static/images/MCHN.jpg\" width=\"500\"/>\n",
    "</P>"
   ]
  },
  {
   "cell_type": "code",
   "execution_count": null,
   "metadata": {
    "pycharm": {
     "name": "#%%\n"
    }
   },
   "outputs": [],
   "source": [
    "from gnssrefl.daily_avg_cl import daily_avg\n",
    "from gnssrefl.gnssir_input import make_gnssir_input\n",
    "from gnssrefl.gnssir_cl import gnssir\n",
    "from gnssrefl.quickLook_cl import quicklook\n",
    "from gnssrefl.rinex2snr_cl import rinex2snr\n",
    "from gnssrefl.installexe_cl import installexe\n",
    "import ipywidgets as widgets\n",
    "import os\n",
    "\n",
    "from pathlib import Path\n",
    "\n",
    "from gnssrefl.utils import check_environment, set_environment, get_sys\n",
    "\n",
    "notebook_dir = Path.cwd().parents[1]\n",
    "\n",
    "# Making sure environment variables are set - this is required to run the gnssrefl code\n",
    "exists = check_environment()\n",
    "if exists == False:\n",
    "    set_environment(\n",
    "        refl_code=str(notebook_dir),\n",
    "        orbits=str(notebook_dir / \"orbits\"),\n",
    "        exe=str(notebook_dir / \"exe\"),\n",
    "    )\n",
    "\n",
    "# If you are running this locally - make sure the items in the exe folder have execution permissions\n",
    "\n",
    "# Set local variable of refl_code location\n",
    "refl_code_loc = os.environ[\"REFL_CODE\"]\n",
    "print(\"refl_code location:\", refl_code_loc)\n",
    "\n",
    "# import gnssrefl functions\n",
    "\n",
    "\n",
    "# import the crx2rnx file which is dependent on your working OS - this is required to run the gnssrefl code\n",
    "# If in docker environment, then you do not need to download crxnrnx\n",
    "try:\n",
    "    os.environ[\"DOCKER\"]\n",
    "except KeyError:\n",
    "    sys = get_sys()\n",
    "    installexe(sys)"
   ]
  },
  {
   "cell_type": "markdown",
   "metadata": {
    "editable": true,
    "pycharm": {
     "name": "#%% md\n"
    },
    "slideshow": {
     "slide_type": ""
    },
    "tags": []
   },
   "source": [
    "**Fast Mode:** \n",
    "this will download data weekly instead of daily"
   ]
  },
  {
   "cell_type": "code",
   "execution_count": null,
   "metadata": {
    "editable": true,
    "pycharm": {
     "name": "#%%\n"
    },
    "slideshow": {
     "slide_type": ""
    },
    "tags": []
   },
   "outputs": [],
   "source": [
    "weekly = widgets.Checkbox(\n",
    "    value=True, description=\"Fast Mode\", disabled=False, indent=False\n",
    ")\n",
    "weekly"
   ]
  },
  {
   "cell_type": "markdown",
   "metadata": {},
   "source": [
    "Deselect the Fast Mode checkbox to deactivate fast mode."
   ]
  },
  {
   "cell_type": "markdown",
   "metadata": {
    "pycharm": {
     "name": "#%% md\n"
    }
   },
   "source": [
    "### Data Summary\n",
    "\n",
    "Station mchn is operated by [NRCAN](https://www.nrcan.gc.ca/home).\n",
    "The station overlooks Lake Superior in a favorable location for measuring seasonal water levels.\n",
    "This site only tracks legacy GPS signals. \n",
    "\n",
    "More information on mchn can be obtained \n",
    "from the [GNSS-IR Web App](https://gnss-reflections.org/api?example=mchn),\n",
    "where mchn is one of the test cases. \n",
    "\n",
    "For GNSS reflectometry, you need to set an azimuth and elevation angle mask.\n",
    "The azimuths are chosen to ensure that the reflected signals reflect off the surface of interest.\n",
    "\n",
    "Here is a good start on an elevation and azimuth angle mask:"
   ]
  },
  {
   "cell_type": "code",
   "execution_count": null,
   "metadata": {
    "pycharm": {
     "name": "#%%\n"
    }
   },
   "outputs": [],
   "source": [
    "%%html\n",
    "<iframe src=\"https://gnss-reflections.org/rzones?station=mchn&msl=on&RH=7&eang=2&azim1=80&azim2=180\" width=\"1000\" height=\"600\"></iframe>"
   ]
  },
  {
   "cell_type": "markdown",
   "metadata": {
    "pycharm": {
     "name": "#%% md\n"
    }
   },
   "source": [
    "### Take a quick look at the data\n",
    "\n",
    "If you know where the data are stored (i.e. sopac), it is better (faster) to set that flag.\n",
    "Since the receiver only tracks GPS signals, there is no need to specify gnss orbits."
   ]
  },
  {
   "cell_type": "code",
   "execution_count": null,
   "metadata": {
    "pycharm": {
     "name": "#%%\n"
    }
   },
   "outputs": [],
   "source": [
    "# set variables so we can reuse them in other parts of the code\n",
    "station = \"mchn\"\n",
    "rinex2snr(station, 2019, 205, archive=\"sopac\")"
   ]
  },
  {
   "cell_type": "markdown",
   "metadata": {
    "pycharm": {
     "name": "#%% md\n"
    }
   },
   "source": [
    "Examine the spectral characteristics of the SNR data for the default settings\n",
    "[(For details on quickLook output.)](../../docs/quickLook_desc.md):"
   ]
  },
  {
   "cell_type": "code",
   "execution_count": null,
   "metadata": {
    "pycharm": {
     "name": "#%%\n"
    }
   },
   "outputs": [],
   "source": [
    "values, metrics = quicklook(station, 2019, 205)"
   ]
  },
  {
   "cell_type": "markdown",
   "metadata": {
    "pycharm": {
     "name": "#%% md\n"
    }
   },
   "source": [
    "When we run quicklook, there are several default values that do not work for every station.\n",
    "\n",
    "You can see the default values by running the following cell:"
   ]
  },
  {
   "cell_type": "code",
   "execution_count": null,
   "metadata": {
    "pycharm": {
     "name": "#%%\n"
    }
   },
   "outputs": [],
   "source": [
    "quicklook?"
   ]
  },
  {
   "cell_type": "markdown",
   "metadata": {
    "pycharm": {
     "name": "#%% md\n"
    }
   },
   "source": [
    "We can clean this up a little bit by setting the minimum reflector height to 2 for `quickLook`:"
   ]
  },
  {
   "cell_type": "code",
   "execution_count": null,
   "metadata": {
    "pycharm": {
     "name": "#%%\n"
    }
   },
   "outputs": [],
   "source": [
    "vals, metrics = quicklook(station, 2019, 205, h1=2)"
   ]
  },
  {
   "cell_type": "markdown",
   "metadata": {
    "pycharm": {
     "name": "#%% md\n"
    }
   },
   "source": [
    "The water is ~6.5 meters below the antenna. You can see from the top plot that the good retrievals (in blue) \n",
    "very clearly show you which azimuths are acceptable and which are not.  The middle plot shows the peak to noise \n",
    "ratio, which we would like to at least exceed 3. And here again, the bad retrievals are always below this level.\n",
    "The amplitudes in the bottom plot indicate that 8 is an acceptable minimal value.\n",
    "\n",
    "\n",
    "### Analyze the Data\n",
    "\n",
    "The data from 2013 will be analyzed here as a test case.  Begin by generating the SNR files."
   ]
  },
  {
   "cell_type": "code",
   "execution_count": null,
   "metadata": {
    "pycharm": {
     "name": "#%%\n"
    },
    "scrolled": true
   },
   "outputs": [],
   "source": [
    "year = 2013\n",
    "doy = 1\n",
    "doy_end = 365\n",
    "\n",
    "rinex2snr(station, year, doy, doy_end=doy_end, archive=\"sopac\", weekly=weekly.value)"
   ]
  },
  {
   "cell_type": "markdown",
   "metadata": {
    "pycharm": {
     "name": "#%% md\n"
    }
   },
   "source": [
    "Analysis parameters are set up with <code>make_gnssir_input</code>"
   ]
  },
  {
   "cell_type": "code",
   "execution_count": null,
   "metadata": {
    "pycharm": {
     "name": "#%%\n"
    }
   },
   "outputs": [],
   "source": [
    "make_gnssir_input(\n",
    "    station, h1=3, h2=10, l1=True, peak2noise=3, ampl=8, azlist2=[80, 180]\n",
    ")"
   ]
  },
  {
   "cell_type": "markdown",
   "metadata": {
    "pycharm": {
     "name": "#%% md\n"
    }
   },
   "source": [
    "While most of the analysis settings can be done by the command \n",
    "line, you can see that the azimuths have been set by\n",
    "hand to be limited to 80-180 degrees. Although it is possible to get good reflections beyond \n",
    "180 degrees, the photographs suggest barriers are present in that region. "
   ]
  },
  {
   "cell_type": "markdown",
   "metadata": {
    "pycharm": {
     "name": "#%% md\n"
    }
   },
   "source": [
    "Now that the analysis parameters are set, run <code>gnssir</code> to save the reflector height (RH) output for each day in 2013."
   ]
  },
  {
   "cell_type": "code",
   "execution_count": null,
   "metadata": {
    "pycharm": {
     "name": "#%%\n"
    },
    "scrolled": true
   },
   "outputs": [],
   "source": [
    "gnssir(station, year, doy, doy_end=doy_end)"
   ]
  },
  {
   "cell_type": "markdown",
   "metadata": {
    "pycharm": {
     "name": "#%% md\n"
    }
   },
   "source": [
    "You can optionally see lots of SNR data with the plt=True option."
   ]
  },
  {
   "cell_type": "code",
   "execution_count": null,
   "metadata": {
    "pycharm": {
     "name": "#%%\n"
    }
   },
   "outputs": [],
   "source": [
    "gnssir(station, year, 197, plt=True)"
   ]
  },
  {
   "cell_type": "markdown",
   "metadata": {
    "pycharm": {
     "name": "#%% md\n"
    }
   },
   "source": [
    "For a lake, it is appropriate to use the daily average. Our utility for computing a daily average requires a value\n",
    "for the median filter and a minimum number of tracks. If the median value is set to be large (2 meters), you can see \n",
    "large outliers: "
   ]
  },
  {
   "cell_type": "code",
   "execution_count": null,
   "metadata": {
    "pycharm": {
     "name": "#%%\n"
    }
   },
   "outputs": [],
   "source": [
    "daily_avg(station, 2, 10)"
   ]
  },
  {
   "cell_type": "markdown",
   "metadata": {
    "pycharm": {
     "name": "#%% md\n"
    }
   },
   "source": [
    "A more reasonable result is obtained with a 0.25-meter median filter and the 12-track requirement. If you want to save \n",
    "the daily averages to a specific file, use the txtfile= option. Otherwise it will use a default location (which is printed to the screen)"
   ]
  },
  {
   "cell_type": "code",
   "execution_count": null,
   "metadata": {
    "pycharm": {
     "name": "#%%\n"
    }
   },
   "outputs": [],
   "source": [
    "daily_avg(station, 0.25, 12, txtfile=\"mchn-dailyavg.txt\")"
   ]
  },
  {
   "cell_type": "markdown",
   "metadata": {
    "pycharm": {
     "name": "#%% md\n"
    }
   },
   "source": [
    "The number of tracks required will depend on the site. Here the azimuth is restricted because  of the location of the antenna.\n",
    "Please note that these reflections are from ice in the winter and water during the summer. Surface \n",
    "bias corrections (ice, snow) will be implemented in the software in the future. Until then, please take \n",
    "this into account when interpreting the results."
   ]
  },
  {
   "cell_type": "markdown",
   "metadata": {
    "pycharm": {
     "name": "#%% md\n"
    }
   },
   "source": [
    "There is a [tide gauge](https://tides.gc.ca/eng/Station/Month?sid=10750) at this site. The data can be \n",
    "downloaded from [this link](http://www.isdm-gdsi.gc.ca/isdm-gdsi/twl-mne/inventory-inventaire/interval-intervalle-eng.asp?user=isdm-gdsi&region=CA&tst=1&no=10750). \n",
    "Please select the daily mean water level, as there are restrictions on hourly data (more information is available on the download page). \n",
    "We have downloaded [the 2013 data](../../../data/10750-01-JAN-2013_slev.csv).\n",
    "\n",
    "The water levels measured by the traditional tide gauge and GNSS-IR are shown here:"
   ]
  },
  {
   "cell_type": "code",
   "execution_count": null,
   "metadata": {},
   "outputs": [],
   "source": [
    "# code copied from plotmchn.py in gnssrefl use_cases\n",
    "import re\n",
    "from datetime import datetime, timedelta\n",
    "import math\n",
    "import numpy as np\n",
    "from scipy import stats\n",
    "import matplotlib.pyplot as plt\n",
    "\n",
    "\n",
    "def readfiles(tide_file, rh_file):\n",
    "    tidedates = []\n",
    "    waterlevel = []\n",
    "    mchndates = []\n",
    "    reflht = []\n",
    "    tide_regex = \"(?P<date>^[\\d|-]+),(?P<slev>[-|\\d|.]*),\"\n",
    "    rh_regex = \"^ (?P<year>[ \\d]+) +(?P<doy>[\\d]+) +(?P<rh>[\\d|-|.]+)\"\n",
    "\n",
    "    # read tide data\n",
    "    with open(tide_file, \"r\") as my_tide_file:\n",
    "        tide_data = my_tide_file.read()\n",
    "        tide_matches = re.finditer(tide_regex, tide_data, flags=re.MULTILINE)\n",
    "    for tide_match in tide_matches:\n",
    "        tidedates.append(datetime.strptime(tide_match.group(\"date\"), \"%Y-%m-%d\"))\n",
    "        waterlevel.append(float(tide_match.group(\"slev\")))\n",
    "\n",
    "    # read daily average reflector heights\n",
    "    with open(rh_file, \"r\") as my_rh_file:\n",
    "        rh_data = my_rh_file.read()\n",
    "        rh_matches = re.finditer(rh_regex, rh_data, flags=re.MULTILINE)\n",
    "        for rh_match in rh_matches:\n",
    "            ydoy = f'{int(rh_match.group(\"year\"))}-{int(rh_match.group(\"doy\"))}'\n",
    "            date = datetime.strptime(ydoy, \"%Y-%j\")\n",
    "            mchndates.append(date)\n",
    "            reflht.append(float(rh_match.group(\"rh\")))\n",
    "    return tidedates, waterlevel, mchndates, reflht\n",
    "\n",
    "\n",
    "# both tidegauge and gps data sets have gaps, so pad the missing days with nan (also generate date vector list for full year)\n",
    "def addnans(ymdvec, datavec):\n",
    "    yearvec = []\n",
    "    paddedvec = []\n",
    "    date1 = datetime.fromisoformat(\"2013-01-01\")\n",
    "    date2 = datetime.fromisoformat(\"2013-12-31\")\n",
    "    ct_day = date1\n",
    "    for day in range(0, 365):\n",
    "        yearvec.append(ct_day)\n",
    "        ct_day = ct_day + timedelta(days=1)\n",
    "    tmp = math.nan\n",
    "    for i in range(0, len(yearvec)):\n",
    "        for j in range(0, len(ymdvec)):\n",
    "            if yearvec[i] == ymdvec[j]:\n",
    "                tmp = datavec[j]\n",
    "        paddedvec.append(tmp)\n",
    "        tmp = math.nan\n",
    "    return yearvec, paddedvec\n",
    "\n",
    "\n",
    "def getrms(residuals):\n",
    "    val = np.sqrt((residuals**2).mean())\n",
    "    return val"
   ]
  },
  {
   "cell_type": "code",
   "execution_count": null,
   "metadata": {
    "pycharm": {
     "name": "#%%\n"
    }
   },
   "outputs": [],
   "source": [
    "tidedates, waterlevel, mchndates, reflht = readfiles(\n",
    "    tide_file=\"../../../docs/use_cases/10750-01-JAN-2013_slev.csv\",\n",
    "    rh_file=f\"{refl_code_loc}/Files/{station}/{station}-dailyavg.txt\",\n",
    ")\n",
    "# pad missing days with nan\n",
    "ymd, padded_rh = addnans(mchndates, reflht)\n",
    "ymd, padded_wl = addnans(tidedates, waterlevel)\n",
    "\n",
    "# create numpy array objects\n",
    "rh_array = np.array(padded_rh)\n",
    "wl_array = np.array(padded_wl)\n",
    "\n",
    "# get linear regression (use scipy but mask out nans)\n",
    "mask = ~np.isnan(rh_array) & ~np.isnan(wl_array)\n",
    "slope, intercept, r_val, p_val, std_err = stats.linregress(\n",
    "    rh_array[mask], wl_array[mask]\n",
    ")\n",
    "checkfit = slope * rh_array[mask] + intercept\n",
    "resids = [i - j for i, j in zip(wl_array[mask], checkfit)]\n",
    "resids_array = np.array(resids)\n",
    "rms_resids = getrms(resids_array)\n",
    "\n",
    "# plot time series for the water levels and reflector heights (with reversed axes)\n",
    "fig, ax1 = plt.subplots(figsize=(10, 8))\n",
    "color = \"tab:blue\"\n",
    "ax1.set_xlabel(\"Date\", fontsize=16)\n",
    "ax1.set_ylabel(\"Tide Gauge Water Level (m)\", color=\"black\", fontsize=16)\n",
    "ax1.scatter(tidedates, waterlevel, label=\"Tide Gauge\", color=color)\n",
    "ax1.tick_params(axis=\"y\", labelcolor=\"black\", labelsize=14)\n",
    "ax1.tick_params(axis=\"x\", labelcolor=\"black\", labelsize=14)\n",
    "plt.ylim(-0.5, 0.3)\n",
    "\n",
    "# instantiate a second axes that shares the same x-axis\n",
    "ax2 = ax1.twinx()\n",
    "color = \"tab:orange\"\n",
    "ax2.set_ylabel(\"GPS Reflector Height (m)\", color=\"black\", fontsize=16)\n",
    "# we already handled the x-label with ax1\n",
    "ax2.scatter(mchndates, reflht, label=\"GPS Reflector Height\", color=color)\n",
    "ax2.tick_params(axis=\"y\", labelcolor=\"black\", labelsize=14)\n",
    "plt.ylim(6.75, 7.55)\n",
    "plt.gca().invert_yaxis()\n",
    "plt.title(\"MCHN Tide Gauge Measurements vs. Reflectometry\", fontsize=18)\n",
    "\n",
    "fig.legend(loc=\"lower right\", bbox_to_anchor=(0.85, 0.15), edgecolor=\"black\")\n",
    "\n",
    "# plot reflector height vs. water level (using masked values)\n",
    "fig, ax = plt.subplots(figsize=(10, 8))\n",
    "ax.plot(rh_array[mask], checkfit, \"-\", color=\"black\")\n",
    "ax.scatter(rh_array[mask], wl_array[mask], color=\"tab:blue\")\n",
    "ax.set_xlabel(\"Reflector Height (m)\", fontsize=16)\n",
    "ax.set_ylabel(\"Water Level (m)\", fontsize=16)\n",
    "ax.set_title(\"MCHN Reflector Height vs. Tide Gauge Measurements\", fontsize=18)\n",
    "ax.tick_params(labelsize=14)\n",
    "plt.grid()\n",
    "txtstr = \"\\n\".join(\n",
    "    (\n",
    "        \"Slope=%.2f\" % (slope,),\n",
    "        \"Intercept=%.2f m\" % (intercept,),\n",
    "        \"Correlation=%.3f\" % (r_val,),\n",
    "        \"P-value=%.2f\" % (p_val,),\n",
    "        \"RMS of Residuals=%.3f m\" % (rms_resids,),\n",
    "    )\n",
    ")\n",
    "props = dict(boxstyle=\"round\", facecolor=\"white\", alpha=1)\n",
    "ax.text(\n",
    "    0.65,\n",
    "    0.95,\n",
    "    txtstr,\n",
    "    transform=ax.transAxes,\n",
    "    fontsize=14,\n",
    "    verticalalignment=\"top\",\n",
    "    bbox=props,\n",
    ")\n",
    "fig.tight_layout()\n",
    "plt.show()"
   ]
  },
  {
   "cell_type": "markdown",
   "metadata": {
    "editable": true,
    "pycharm": {
     "name": "#%% md\n"
    },
    "slideshow": {
     "slide_type": ""
    },
    "tags": []
   },
   "source": [
    "The linear regression between the two series gives a slope m=-1.02. The rms of the residuals is very good, 0.026 m.\n",
    "\n",
    "### Reference\n",
    "\n",
    "DFO (2021). Institute of Ocean Sciences Data Archive. Ocean Sciences Division. Department of Fisheries and Oceans \n",
    "Canada. http://www.pac.dfo-mpo.gc.ca/science/oceans/data-donnees/index-eng.html. Data obtained on 2021-01-28."
   ]
  },
  {
   "cell_type": "code",
   "execution_count": null,
   "metadata": {
    "pycharm": {
     "name": "#%%\n"
    }
   },
   "outputs": [],
   "source": []
  }
 ],
 "metadata": {
  "kernelspec": {
   "display_name": "venv",
   "language": "python",
   "name": "venv"
  },
  "language_info": {
   "codemirror_mode": {
    "name": "ipython",
    "version": 3
   },
   "file_extension": ".py",
   "mimetype": "text/x-python",
   "name": "python",
   "nbconvert_exporter": "python",
   "pygments_lexer": "ipython3",
   "version": "3.9.16"
  }
 },
 "nbformat": 4,
 "nbformat_minor": 4
}
