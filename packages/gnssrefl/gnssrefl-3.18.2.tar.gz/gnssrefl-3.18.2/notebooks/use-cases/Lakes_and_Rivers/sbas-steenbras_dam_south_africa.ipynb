{
 "cells": [
  {
   "cell_type": "markdown",
   "id": "be47d1b1",
   "metadata": {
    "editable": true,
    "pycharm": {
     "name": "#%% md\n"
    },
    "slideshow": {
     "slide_type": ""
    },
    "tags": []
   },
   "source": [
    "## Steenbras Dam, South Africa\n",
    "\n",
    "**Station Name:** sbas\n",
    "\n",
    "**Latitude:** -34.18704704\n",
    "\n",
    "**Longitude:** 18.84986166\n",
    "\n",
    "**Ellipsoidal Height(m):** 403.342\n",
    "\n",
    "**Network:** TRIGNET\n",
    "\n",
    "**Archive:** EarthScope Consortium (use the special option)\n",
    "\n",
    "<img src=https://gnss-reflections.org/static/images/SBAS.jpg width=500>\n",
    "\n",
    "\n",
    "The data used here have been kindly provided by TRIGNET so that we could access L1 and L2C signals \n",
    "at 15 second sampling. This sampling rate is needed to be able to see the reservoir. However, they are in a proprietary Trimble binary format.  \n",
    "It is non-trivial to convert those to RINEX, so in this example we will rely on files translated and \n",
    "archived by UNAVCO for this use case example. They can be used by specifying the \"special\" archive.\n",
    "Here we will only discuss GPS - I would encourage you to also look at the Glonass data."
   ]
  },
  {
   "cell_type": "code",
   "execution_count": null,
   "id": "007a9f72",
   "metadata": {
    "pycharm": {
     "name": "#%%\n"
    }
   },
   "outputs": [],
   "source": [
    "from gnssrefl.daily_avg_cl import daily_avg\n",
    "from gnssrefl.gnssir_input import make_gnssir_input\n",
    "from gnssrefl.gnssir_cl import gnssir\n",
    "from gnssrefl.quickLook_cl import quicklook\n",
    "from gnssrefl.rinex2snr_cl import rinex2snr\n",
    "from gnssrefl.installexe_cl import installexe\n",
    "import ipywidgets as widgets\n",
    "import os\n",
    "\n",
    "from pathlib import Path\n",
    "\n",
    "from gnssrefl.utils import check_environment, set_environment, get_sys\n",
    "\n",
    "notebook_dir = Path.cwd().parents[1]\n",
    "\n",
    "# Making sure environment variables are set - this is required to run the gnssrefl code\n",
    "exists = check_environment()\n",
    "if exists == False:\n",
    "    set_environment(\n",
    "        refl_code=str(notebook_dir),\n",
    "        orbits=str(notebook_dir / \"orbits\"),\n",
    "        exe=str(notebook_dir / \"exe\"),\n",
    "    )\n",
    "\n",
    "# If you are running this locally - make sure the items in the exe folder have execution permissions\n",
    "\n",
    "# Set local variable of refl_code location\n",
    "refl_code_loc = os.environ[\"REFL_CODE\"]\n",
    "print(\"refl_code location:\", refl_code_loc)\n",
    "\n",
    "# import gnssrefl functions\n",
    "\n",
    "\n",
    "# import the crx2rnx file which is dependent on your working OS - this is required to run the gnssrefl code\n",
    "# If in docker environment, then you do not need to download crxnrnx\n",
    "try:\n",
    "    os.environ[\"DOCKER\"]\n",
    "except KeyError:\n",
    "    sys = get_sys()\n",
    "    installexe(sys)"
   ]
  },
  {
   "cell_type": "markdown",
   "id": "6aa561a3",
   "metadata": {
    "editable": true,
    "pycharm": {
     "name": "#%% md\n"
    },
    "slideshow": {
     "slide_type": ""
    },
    "tags": []
   },
   "source": [
    "**Fast Mode:** \n",
    "this will download data weekly instead of daily"
   ]
  },
  {
   "cell_type": "code",
   "execution_count": null,
   "id": "ecb5c092",
   "metadata": {
    "editable": true,
    "pycharm": {
     "name": "#%%\n"
    },
    "slideshow": {
     "slide_type": ""
    },
    "tags": []
   },
   "outputs": [],
   "source": [
    "weekly = widgets.Checkbox(\n",
    "    value=True, description=\"Fast Mode\", disabled=False, indent=False\n",
    ")\n",
    "weekly"
   ]
  },
  {
   "cell_type": "markdown",
   "id": "d51370f8-cf0d-4c10-bcc5-0bad5462ba7b",
   "metadata": {},
   "source": [
    "Deselect the Fast Mode checkbox to deactivate fast mode."
   ]
  },
  {
   "cell_type": "markdown",
   "id": "4d6668da",
   "metadata": {
    "pycharm": {
     "name": "#%% md\n"
    }
   },
   "source": [
    "### Reflection Zones \n",
    "\n",
    "Use the [reflection zone web app](https://gnss-reflections.org/rzones) to think about which azimuths and elevation angles to use.\n",
    "Note the photograph!  **You are not 6 meters (vertically) above the water.** You will not be able to fully test\n",
    "the reflector height value used in this web app until you look at some real data. But you can get an idea of which\n",
    "RH values put you over the water.\n",
    "\n",
    "### Evaluate the Data\n",
    "\n",
    "We know that the reservoir will only be in the northeast quadrant, so I am going \n",
    "to select those azimuths specifically. I will start with elevation angle limits of 5-12 degrees and the superior L2C frequency."
   ]
  },
  {
   "cell_type": "code",
   "execution_count": null,
   "id": "5b7a30cc",
   "metadata": {
    "pycharm": {
     "name": "#%%\n"
    }
   },
   "outputs": [],
   "source": [
    "station = \"sbas\"\n",
    "\n",
    "rinex2snr(station, 2020, 1, archive=\"special\")"
   ]
  },
  {
   "cell_type": "markdown",
   "id": "fdb6c88b",
   "metadata": {
    "pycharm": {
     "name": "#%% md\n"
    }
   },
   "source": [
    "Lets try different heights:"
   ]
  },
  {
   "cell_type": "code",
   "execution_count": null,
   "id": "214a39b3",
   "metadata": {
    "pycharm": {
     "name": "#%%\n"
    }
   },
   "outputs": [],
   "source": [
    "vals, metrics = quicklook(\n",
    "    station, 2020, 1, e2=12, h1=0.5, h2=10, azim1=0, azim2=75, fr=20\n",
    ")"
   ]
  },
  {
   "cell_type": "code",
   "execution_count": null,
   "id": "5b85ab57",
   "metadata": {
    "pycharm": {
     "name": "#%%\n"
    }
   },
   "outputs": [],
   "source": [
    "vals, metrics = quicklook(\n",
    "    station, 2020, 1, e2=12, h1=10, h2=20, azim1=0, azim2=75, fr=20\n",
    ")"
   ]
  },
  {
   "cell_type": "code",
   "execution_count": null,
   "id": "8308d0fd",
   "metadata": {
    "pycharm": {
     "name": "#%%\n"
    }
   },
   "outputs": [],
   "source": [
    "vals, metrics = quicklook(station, 2020, 1, e2=12, h1=20, h2=35, fr=20)"
   ]
  },
  {
   "cell_type": "markdown",
   "id": "d5726401",
   "metadata": {
    "pycharm": {
     "name": "#%% md\n"
    }
   },
   "source": [
    "You can add the screenstats parameter to get more details about the plot values."
   ]
  },
  {
   "cell_type": "code",
   "execution_count": null,
   "id": "254875f0",
   "metadata": {
    "pycharm": {
     "name": "#%%\n"
    }
   },
   "outputs": [],
   "source": [
    "vals, metrics = quicklook(\n",
    "    station, 2020, 1, e2=12, h1=20, h2=35, azim1=0, azim2=90, fr=20, screenstats=True\n",
    ")"
   ]
  },
  {
   "cell_type": "markdown",
   "id": "d98dddf1",
   "metadata": {
    "pycharm": {
     "name": "#%% md\n"
    }
   },
   "source": [
    "Looks like satellite 5 at an azimuth of 78.4 degrees is the problem, so we \n",
    "will further restrict our analysis to 78 degrees in the next section.\n",
    "\n",
    "You might go back and use the reflection zone web app to make sure that your azimuth and \n",
    "elevation angles look good for a RH of 28 meters.\n",
    "\n",
    "\n",
    "### Estimate Lake Level\n",
    "\n",
    "Make the SNR files:"
   ]
  },
  {
   "cell_type": "code",
   "execution_count": null,
   "id": "f64dc9c3",
   "metadata": {
    "pycharm": {
     "name": "#%%\n"
    },
    "scrolled": true
   },
   "outputs": [],
   "source": [
    "rinex2snr(station, 2020, 1, doy_end=366,\n",
    "          archive=\"special\", weekly=weekly.value)"
   ]
  },
  {
   "cell_type": "markdown",
   "id": "209d427b",
   "metadata": {
    "pycharm": {
     "name": "#%% md\n"
    }
   },
   "source": [
    "Save your analysis strategy. restrict azimuths to 0-78 degrees."
   ]
  },
  {
   "cell_type": "code",
   "execution_count": null,
   "id": "318372d8",
   "metadata": {
    "pycharm": {
     "name": "#%%\n"
    }
   },
   "outputs": [],
   "source": [
    "make_gnssir_input(station, e2=12, h1=20, h2=35,\n",
    "                  peak2noise=3, ampl=10, azlist2=[0, 78])"
   ]
  },
  {
   "cell_type": "markdown",
   "id": "a629ed5a",
   "metadata": {
    "pycharm": {
     "name": "#%% md\n"
    }
   },
   "source": [
    "Hand edit the json file to restrict azimuths to 0-78 degrees and include 340-360.\n"
   ]
  },
  {
   "cell_type": "markdown",
   "id": "1a007317",
   "metadata": {
    "pycharm": {
     "name": "#%% md\n"
    }
   },
   "source": [
    "The next step is to estimate reflector heights. First do a single day using the plt option."
   ]
  },
  {
   "cell_type": "code",
   "execution_count": null,
   "id": "bd5259f2",
   "metadata": {
    "pycharm": {
     "name": "#%%\n"
    }
   },
   "outputs": [],
   "source": [
    "gnssir(\"sbas\", 2020, 1, plt=True)"
   ]
  },
  {
   "cell_type": "markdown",
   "id": "55a4c85c",
   "metadata": {
    "pycharm": {
     "name": "#%% md\n"
    }
   },
   "source": [
    "For the L1 frequecy reflector height plot - you can see what happens if you violate the Nyquist - double peaks!\n",
    "\n",
    "Luckily this is not prevalent in this dataset thanks to the help of TRIGNET \n",
    "using a 15 second sample rate in the files.\n",
    "\n",
    "You'll notice that the L2C frequency - which has a longer wavelength than L1 - does not have a double peak.\n",
    "And that is what we should expect.\n",
    "\n",
    "Go ahead and estimate reflector heights for all available days:"
   ]
  },
  {
   "cell_type": "code",
   "execution_count": null,
   "id": "892322d6",
   "metadata": {
    "pycharm": {
     "name": "#%%\n"
    },
    "scrolled": true
   },
   "outputs": [],
   "source": [
    "gnssir(station, 2020, 1, doy_end=365)"
   ]
  },
  {
   "cell_type": "markdown",
   "id": "3e55dab9",
   "metadata": {
    "pycharm": {
     "name": "#%% md\n"
    }
   },
   "source": [
    "Compute a daily average. Since we only have reflections in one geographic quadrant and are \n",
    "only using GPS signals, we should not require as many points as we have done in other examples. \n",
    "I am going to start by requiring 10:"
   ]
  },
  {
   "cell_type": "code",
   "execution_count": null,
   "id": "73bec19f",
   "metadata": {
    "pycharm": {
     "name": "#%%\n"
    }
   },
   "outputs": [],
   "source": [
    "daily_avg(station, 0.25, 10)"
   ]
  },
  {
   "cell_type": "markdown",
   "id": "27284c99",
   "metadata": {
    "pycharm": {
     "name": "#%% md\n"
    }
   },
   "source": [
    "Note the missing points - this has nothing to do with reflectometry. These are days when the station did not report data.\n",
    "Numerical values are saved in a file. The location of the file is printed to the screen.\n",
    "\n",
    "You should also go back and add some of those very northwestern tracks by setting a second azimuth region in your json file.\n",
    "Then rerun the <code>gnssir</code> and <code>daily_avg</code> codes."
   ]
  },
  {
   "cell_type": "markdown",
   "id": "9c767ed5",
   "metadata": {
    "pycharm": {
     "name": "#%% md\n"
    }
   },
   "source": [
    "### Compare with in situ data:\n",
    "\n",
    "[Current state of the lower Steenbras reservoir](https://www.dws.gov.za/Hydrology/Weekly/percentile.aspx?station=%20G4R001)\n",
    "\n",
    "[This is a link for all reservoirs](https://www.dws.gov.za/Hydrology/Weekly/ProvinceWeek.aspx?region=WC)\n",
    "\n",
    "Simon Williams found this web app that will [provide 2020 data for a comparison](https://www.dws.gov.za/Hydrology/Verified/HyData.aspx?Station=G4R001100.00&DataType=Point&StartDT=2020-01-01&EndDT=2020-12-31&SiteType=RES)\n",
    "\n",
    "As a final remark, there are lots of lake/reservoir/river gauges around the world. The beauty of using this GPS dataset to measure \n",
    "the reservoir level is that you can combine these RH values with the [height estimates from \"normal\" GPS](http://geodesy.unr.edu/NGLStationPages/stations/SBAS.sta).\n",
    "This means your reservoir measurements are in ITRF and that is something *no other in situ lake level measuring system can do.*"
   ]
  },
  {
   "cell_type": "code",
   "execution_count": null,
   "id": "d4b5702c",
   "metadata": {
    "pycharm": {
     "name": "#%%\n"
    }
   },
   "outputs": [],
   "source": []
  }
 ],
 "metadata": {
  "kernelspec": {
   "display_name": "venv",
   "language": "python",
   "name": "venv"
  },
  "language_info": {
   "codemirror_mode": {
    "name": "ipython",
    "version": 3
   },
   "file_extension": ".py",
   "mimetype": "text/x-python",
   "name": "python",
   "nbconvert_exporter": "python",
   "pygments_lexer": "ipython3",
   "version": "3.9.16"
  }
 },
 "nbformat": 4,
 "nbformat_minor": 5
}
