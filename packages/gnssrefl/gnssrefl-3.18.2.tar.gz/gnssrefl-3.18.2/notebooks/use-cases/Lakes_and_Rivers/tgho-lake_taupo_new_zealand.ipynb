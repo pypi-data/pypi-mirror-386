{
 "cells": [
  {
   "cell_type": "markdown",
   "id": "d40ddc65",
   "metadata": {
    "pycharm": {
     "name": "#%% md\n"
    }
   },
   "source": [
    "### Lake Taupo\n",
    "\n",
    "**Station Name:** tgho \n",
    "\n",
    "**Location:** North Island, New Zealand\n",
    "\n",
    "**Archive:** [Geonet](https://www.geonet.org.nz/)\n",
    "\n",
    "**DOI:**  \tN/A\n",
    "\n",
    "**Ellipsoidal Coordinates:**\n",
    "\n",
    "- Latitude: -38.813\n",
    "\n",
    "- Longitude: 175.996\n",
    "\n",
    "- Height: -38.813 m\n",
    "\n",
    "[Station Page at Geonet](https://www.geonet.org.nz/data/network/mark/TGHO)\n",
    "\n",
    "[Station Page at Nevada Geodetic Laboratory](http://geodesy.unr.edu/NGLStationPages/stations/TGHO.sta)\n",
    "\n",
    "[Google Map Link](https://goo.gl/maps/1zmgi6rRHPVPDAfV8)\n",
    "\n",
    "<p align=\"center\">\n",
    "<img src=\"https://gnss-reflections.org/static/images/TGHO.jpg\" width=\"500\"><BR>\n",
    "Photo credit: Simon Barker\n",
    "</P>"
   ]
  },
  {
   "cell_type": "markdown",
   "id": "7fe367eb",
   "metadata": {
    "pycharm": {
     "name": "#%% md\n"
    }
   },
   "source": [
    "### Data Summary\n",
    "\n",
    "Station tgho is operated by GNS in new zeland and the site site is located \n",
    "on a platform in Lake Taupo, New Zealand. It records standard GPS and Glonass signals at a low sample rate of 30 sec.\n",
    "\n",
    "### Imports"
   ]
  },
  {
   "cell_type": "code",
   "execution_count": null,
   "id": "05ff6017",
   "metadata": {
    "pycharm": {
     "name": "#%%\n"
    }
   },
   "outputs": [],
   "source": [
    "from gnssrefl.daily_avg_cl import daily_avg\n",
    "from gnssrefl.gnssir_input import make_gnssir_input\n",
    "from gnssrefl.gnssir_cl import gnssir\n",
    "from gnssrefl.quickLook_cl import quicklook\n",
    "from gnssrefl.rinex2snr_cl import rinex2snr\n",
    "from gnssrefl.installexe_cl import installexe\n",
    "import ipywidgets as widgets\n",
    "import os\n",
    "\n",
    "from pathlib import Path\n",
    "\n",
    "from gnssrefl.utils import check_environment, set_environment, get_sys\n",
    "\n",
    "notebook_dir = Path.cwd().parents[1]\n",
    "\n",
    "# Making sure environment variables are set - this is required to run the gnssrefl code\n",
    "exists = check_environment()\n",
    "if exists == False:\n",
    "    set_environment(\n",
    "        refl_code=str(notebook_dir),\n",
    "        orbits=str(notebook_dir / \"orbits\"),\n",
    "        exe=str(notebook_dir / \"exe\"),\n",
    "    )\n",
    "\n",
    "# If you are running this locally - make sure the items in the exe folder have execution permissions\n",
    "\n",
    "# Set local variable of refl_code location\n",
    "refl_code_loc = os.environ[\"REFL_CODE\"]\n",
    "print(\"refl_code location:\", refl_code_loc)\n",
    "\n",
    "# import gnssrefl functions\n",
    "\n",
    "\n",
    "# import the crx2rnx file which is dependent on your working OS - this is required to run the gnssrefl code\n",
    "# If in docker environment, then you do not need to download crxnrnx\n",
    "try:\n",
    "    os.environ[\"DOCKER\"]\n",
    "except KeyError:\n",
    "    sys = get_sys()\n",
    "    installexe(sys)"
   ]
  },
  {
   "cell_type": "markdown",
   "id": "3f79d31d",
   "metadata": {
    "editable": true,
    "pycharm": {
     "name": "#%% md\n"
    },
    "slideshow": {
     "slide_type": ""
    },
    "tags": []
   },
   "source": [
    "**Fast Mode:** \n",
    "this will download data weekly instead of daily"
   ]
  },
  {
   "cell_type": "code",
   "execution_count": null,
   "id": "500eab9c",
   "metadata": {
    "pycharm": {
     "name": "#%%\n"
    }
   },
   "outputs": [],
   "source": [
    "weekly = widgets.Checkbox(\n",
    "    value=True, description=\"Fast Mode\", disabled=False, indent=False\n",
    ")\n",
    "weekly"
   ]
  },
  {
   "cell_type": "markdown",
   "id": "5701f662-4721-47eb-afb5-03dac96b7667",
   "metadata": {
    "editable": true,
    "slideshow": {
     "slide_type": ""
    },
    "tags": []
   },
   "source": [
    "Deselect the Fast Mode checkbox to deactivate fast mode."
   ]
  },
  {
   "cell_type": "markdown",
   "id": "49a6eee2",
   "metadata": {
    "pycharm": {
     "name": "#%% md\n"
    }
   },
   "source": [
    "### Take a Quick Look at the Data\n",
    "\n",
    "We will begin like always by making an **SNR** file. Here we will use both GPS and Glonass and we'll set the archive to nz"
   ]
  },
  {
   "cell_type": "code",
   "execution_count": null,
   "id": "87173e3c",
   "metadata": {
    "pycharm": {
     "name": "#%%\n"
    }
   },
   "outputs": [],
   "source": [
    "station = \"tgho\"\n",
    "# picking a year and day of year\n",
    "year = 2020\n",
    "doy = 300\n",
    "\n",
    "rinex2snr(\"tgho\", year, doy, orb=\"gnss\", archive=\"nz\")\n",
    "\n",
    "values, metrics = quicklook(station, year, doy)"
   ]
  },
  {
   "cell_type": "markdown",
   "id": "853cf7af",
   "metadata": {
    "pycharm": {
     "name": "#%% md\n"
    }
   },
   "source": [
    " Using the default elevation angles is likely combining water and pier reflections so we will try restricting the close reflections (from the pier) by using a larger lower bound. Let's compare the defaults with 5-15 degrees elevation angles instead of 5-25 to see if this improves the retrievals."
   ]
  },
  {
   "cell_type": "code",
   "execution_count": null,
   "id": "0eb97d43",
   "metadata": {
    "pycharm": {
     "name": "#%%\n"
    }
   },
   "outputs": [],
   "source": [
    "values, metrics = quicklook(station, year, doy=doy, e2=15)"
   ]
  },
  {
   "cell_type": "markdown",
   "id": "870a1ce4",
   "metadata": {
    "pycharm": {
     "name": "#%% md\n"
    }
   },
   "source": [
    "This does look better. It's possible that the clutter near the monument produces noise at the smaller RH values. A better result can be found if those values are eliminated by setting heights from 2 through 8. (note: default e1=5 and h2=8 so we don't need to set them in the code)"
   ]
  },
  {
   "cell_type": "code",
   "execution_count": null,
   "id": "44dfe1fd",
   "metadata": {
    "pycharm": {
     "name": "#%%\n"
    }
   },
   "outputs": [],
   "source": [
    "values, metrics = quicklook(station, year, doy, e2=15, h1=2)"
   ]
  },
  {
   "cell_type": "markdown",
   "id": "89c3e2fb",
   "metadata": {
    "pycharm": {
     "name": "#%% md\n"
    }
   },
   "source": [
    "We'll keep in mind from the qc plots here that we'll probably choose our amplitude to be ~9 and our peak to noise ratio to 3.\n",
    "\n",
    "Now let's try looking at the periodograms for L2:"
   ]
  },
  {
   "cell_type": "code",
   "execution_count": null,
   "id": "a64d33d6",
   "metadata": {
    "pycharm": {
     "name": "#%%\n"
    }
   },
   "outputs": [],
   "source": [
    "values, metrics = quicklook(station, year, doy=doy, e1=5, e2=15, h1=2, h2=8, fr=2)"
   ]
  },
  {
   "cell_type": "markdown",
   "id": "cc20ec0d",
   "metadata": {
    "pycharm": {
     "name": "#%% md\n"
    }
   },
   "source": [
    "This shows us that we will not use L2 data in the analysis.\n",
    "\n",
    "Next, we'll look at the Glonass frequencies:101 (L1) and 102 (L2)"
   ]
  },
  {
   "cell_type": "code",
   "execution_count": null,
   "id": "8f3127d7",
   "metadata": {
    "pycharm": {
     "name": "#%%\n"
    },
    "scrolled": true
   },
   "outputs": [],
   "source": [
    "values, metrics = quicklook(station, year, doy=doy,\n",
    "                            e1=5, e2=15, h1=2, h2=8, fr=101)"
   ]
  },
  {
   "cell_type": "code",
   "execution_count": null,
   "id": "cb8830e0",
   "metadata": {
    "pycharm": {
     "name": "#%%\n"
    }
   },
   "outputs": [],
   "source": [
    "values, metrics = quicklook(station, year, doy=doy, e1=5, e2=15, h1=2, h2=8, fr=101)\n",
    "\n",
    "values, metrics = quicklook(station, year, doy=doy, e1=5, e2=15, h1=2, h2=8, fr=102)"
   ]
  },
  {
   "cell_type": "markdown",
   "id": "4bdffe22",
   "metadata": {
    "pycharm": {
     "name": "#%% md\n"
    }
   },
   "source": [
    "We should exclude 135-225 degrees in azimuth as there is an empty region as well as a few poor retreivals."
   ]
  },
  {
   "cell_type": "markdown",
   "id": "e83562b2",
   "metadata": {
    "pycharm": {
     "name": "#%% md\n"
    }
   },
   "source": [
    "A windy day could cause bad retrievals.  For days with no wind, we would have large amplitudes - and for very windy days it could look like this:"
   ]
  },
  {
   "cell_type": "code",
   "execution_count": null,
   "id": "f6eb0bf6",
   "metadata": {
    "pycharm": {
     "name": "#%%\n"
    }
   },
   "outputs": [],
   "source": [
    "year = 2020\n",
    "doy = 273  # sep 29 was a very windy day\n",
    "\n",
    "rinex2snr(station=station, year=year, doy=doy, archive=\"nz\")\n",
    "\n",
    "values, metrics = quicklook(\n",
    "    station, year=year, doy=doy, e1=5, e2=15, h1=2, h2=8)"
   ]
  },
  {
   "cell_type": "markdown",
   "id": "96edef3f",
   "metadata": {
    "pycharm": {
     "name": "#%% md\n"
    }
   },
   "source": [
    "### Analyze the Data\n",
    "Here we'll set the values we discussed as variables and will pass them into the `make_gnssir_input` function.\n",
    "We will exclude 135-225 degrees in azimuth. We will require an amplitude of 9 and a peak to noise ratio of 3.0\n",
    "and specify L1 and glonass signals (frequencies 101 and 102)."
   ]
  },
  {
   "cell_type": "code",
   "execution_count": null,
   "id": "cfc6783a",
   "metadata": {
    "pycharm": {
     "name": "#%%\n"
    }
   },
   "outputs": [],
   "source": [
    "min_elevation_angle = 5\n",
    "max_elevation_angle = 15\n",
    "peak_to_noise = 3\n",
    "amplitude = 9\n",
    "min_height = 2\n",
    "max_height = 8\n",
    "azimuths = [0, 135, 225, 380]\n",
    "frequencies = [1, 101, 102]\n",
    "\n",
    "make_gnssir_input(\n",
    "    station,\n",
    "    e1=min_elevation_angle,\n",
    "    e2=max_elevation_angle,\n",
    "    peak2noise=peak_to_noise,\n",
    "    ampl=amplitude,\n",
    "    h1=min_height,\n",
    "    h2=max_height,\n",
    "    azlist2=azimuths,\n",
    "    frlist=frequencies,\n",
    ")"
   ]
  },
  {
   "cell_type": "markdown",
   "id": "a24bac08",
   "metadata": {
    "pycharm": {
     "name": "#%% md\n"
    }
   },
   "source": [
    "Now we would run rinex2snr for about six months in 2020 and then run gnssir for the same dates."
   ]
  },
  {
   "cell_type": "code",
   "execution_count": null,
   "id": "2bad368c",
   "metadata": {
    "pycharm": {
     "name": "#%%\n"
    },
    "scrolled": true
   },
   "outputs": [],
   "source": [
    "# get snr (let's use GFZ orbits, which is multi-GNSS setting orb='gnss')\n",
    "rinex2snr(\n",
    "    station, year, doy=130, doy_end=319, orb=\"gnss\", archive=\"nz\", weekly=weekly.value\n",
    ")"
   ]
  },
  {
   "cell_type": "markdown",
   "id": "08752fb0",
   "metadata": {
    "pycharm": {
     "name": "#%% md\n"
    }
   },
   "source": [
    "Now run gnssir:\n"
   ]
  },
  {
   "cell_type": "code",
   "execution_count": null,
   "id": "616145f0",
   "metadata": {
    "pycharm": {
     "name": "#%%\n"
    },
    "scrolled": true
   },
   "outputs": [],
   "source": [
    "gnssir(station, year, doy=130, doy_end=319)"
   ]
  },
  {
   "cell_type": "markdown",
   "id": "274eb2be",
   "metadata": {
    "pycharm": {
     "name": "#%% md\n"
    }
   },
   "source": [
    "To look at daily averages, use the utility <code>daily_avg</code>. The median filter is set to allow values within 0.25 meters of the \n",
    "median, and the minimum number of tracks required to calculate the average we will set to 50 tracks. We can also set our own name for the daily average file."
   ]
  },
  {
   "cell_type": "code",
   "execution_count": null,
   "id": "a063dc4a",
   "metadata": {
    "pycharm": {
     "name": "#%%\n"
    }
   },
   "outputs": [],
   "source": [
    "daily_avg(station, medfilter=0.25, ReqTracks=50)"
   ]
  },
  {
   "cell_type": "markdown",
   "id": "f6e9ad3e",
   "metadata": {
    "pycharm": {
     "name": "#%% md\n"
    }
   },
   "source": [
    "and now we can see the reflector heights for these 6 months in 2020.\n",
    "\n",
    "We'll note that there are quite a few data outages in this series, which means the RINEX files were missing from the NZ archive.\n",
    "\n",
    "Although Taupo is in a volcanic caldera, lake levels are determined by seasonal processes such \n",
    "as evaporation, precipitation, input from local drainages, and outflow. The Waikoto \n",
    "River is sole river draining the lake, and river flow is regulated by a series of hydroelectric dams."
   ]
  },
  {
   "cell_type": "code",
   "execution_count": null,
   "id": "5c503c7e",
   "metadata": {
    "pycharm": {
     "name": "#%%\n"
    }
   },
   "outputs": [],
   "source": []
  }
 ],
 "metadata": {
  "kernelspec": {
   "display_name": "venv",
   "language": "python",
   "name": "venv"
  },
  "language_info": {
   "codemirror_mode": {
    "name": "ipython",
    "version": 3
   },
   "file_extension": ".py",
   "mimetype": "text/x-python",
   "name": "python",
   "nbconvert_exporter": "python",
   "pygments_lexer": "ipython3",
   "version": "3.9.16"
  }
 },
 "nbformat": 4,
 "nbformat_minor": 5
}
