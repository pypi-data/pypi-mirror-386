{
 "cells": [
  {
   "cell_type": "markdown",
   "id": "e20a7d67-5104-43b3-a36d-5889264979ff",
   "metadata": {
    "editable": true,
    "slideshow": {
     "slide_type": ""
    },
    "tags": []
   },
   "source": [
    "# Particle Monitor: WR75 study case\n",
    "In this script, we showcase how the particle monitor data from CST can be treated. Source `CST` file for the electromagnetic and PIC solvers are provided."
   ]
  },
  {
   "cell_type": "code",
   "execution_count": 1,
   "id": "a8bbe044-365e-4b81-9c6a-142a9648836e",
   "metadata": {
    "editable": true,
    "slideshow": {
     "slide_type": ""
    },
    "tags": []
   },
   "outputs": [
    {
     "name": "stdout",
     "output_type": "stream",
     "text": [
      "\u001b[0;37m[INFO    ] [log_manager.py      ]\u001b[0m Starting log for Simultipac - Version: 2.0.1rc1.dev22+g67f2926.d20250414, Commit: 67f2926fa6435cd4dda78cafa18fcab1d21fb2dc\n"
     ]
    }
   ],
   "source": [
    "from pathlib import Path\n",
    "\n",
    "from simultipac.cst.simulation_results import CSTResults, CSTResultsFactory\n",
    "from simultipac.plotter.default import DefaultPlotter"
   ]
  },
  {
   "cell_type": "markdown",
   "id": "7be4c02b-b9ae-433c-84ae-da447e6e212d",
   "metadata": {
    "slideshow": {
     "slide_type": ""
    },
    "tags": []
   },
   "source": [
    "## Setting up the 3D backend"
   ]
  },
  {
   "cell_type": "markdown",
   "id": "d63bfd36-05b9-4565-8b9c-04fa130d5192",
   "metadata": {
    "slideshow": {
     "slide_type": ""
    },
    "tags": []
   },
   "source": [
    "It is mandatory to set up the proper 3D backend for your configuration.\n",
    "You may have to test several backends; the most reliable way is to run your python script from bash.\n",
    "\n",
    "All 3D plots are created usinge the excellent [vedo](https://vedo.embl.es/) library."
   ]
  },
  {
   "cell_type": "code",
   "execution_count": 2,
   "id": "8bc69df1-89ec-4317-b9d4-14c969cb7540",
   "metadata": {
    "editable": true,
    "slideshow": {
     "slide_type": ""
    },
    "tags": []
   },
   "outputs": [
    {
     "name": "stdout",
     "output_type": "stream",
     "text": [
      "\u001b[0;37m[INFO    ] [default.py          ]\u001b[0m Applying patch for k3d.\n"
     ]
    }
   ],
   "source": [
    "plotter = DefaultPlotter(\n",
    "    # To output interactive 3d in .html (needs k3d library):\n",
    "    vedo_backend=\"k3d\",\n",
    "    # To output interactive 3d that does not appear in .html:\n",
    "    # (this is my default choice for python scripts called from bash)\n",
    "    # vedo_backend=\"vtk\",\n",
    "    # To output non-interactive 2d only, but that creates an image in .html:\n",
    "    # (better for online documentation)\n",
    "    # vedo_backend=\"2d\",\n",
    ")"
   ]
  },
  {
   "cell_type": "markdown",
   "id": "6cd3960d-ed89-4a41-ab7a-ce3744b98874",
   "metadata": {
    "slideshow": {
     "slide_type": ""
    },
    "tags": []
   },
   "source": [
    "## Loading files"
   ]
  },
  {
   "cell_type": "markdown",
   "id": "426792aa-5049-41b2-b86f-876725ccbae5",
   "metadata": {
    "slideshow": {
     "slide_type": ""
    },
    "tags": []
   },
   "source": [
    "We need three paths:\n",
    "1. To the `STL` file holding the geometry.\n",
    "2. To the folder where all the particle monitor files are stored.\n",
    "3. To the folder holding classic `CST` output, such a `Parameters.txt` and `ParticleInfo [PIC]/`.\n",
    "   - In this example I did not have this folder, so I feed in dummy data instead."
   ]
  },
  {
   "cell_type": "code",
   "execution_count": 3,
   "id": "e9b03fa5-bd0c-449d-aa41-cbb3fe7b83b7",
   "metadata": {
    "slideshow": {
     "slide_type": ""
    },
    "tags": []
   },
   "outputs": [],
   "source": [
    "stl_path = Path(\"../data/cst/WR75_reduced/wr75.stl\")\n",
    "folder_particle_monitor=Path(\"../data/cst/WR75_reduced/Export/3d\")\n",
    "folder_results=Path(\"../../../examples/cst/Export_Parametric/0307-5216540\")"
   ]
  },
  {
   "cell_type": "raw",
   "id": "34b97d83-112f-4525-a0c7-f9e811756c1b",
   "metadata": {
    "editable": true,
    "raw_mimetype": "text/x-rst",
    "slideshow": {
     "slide_type": ""
    },
    "tags": []
   },
   "source": [
    "Set up the :class:`.CSTResultsFactory`; it can be reused to create different :class:`.CSTResults` with different particle monitor data."
   ]
  },
  {
   "cell_type": "code",
   "execution_count": 4,
   "id": "2645a6db-3489-4105-9705-36ba7ef357c2",
   "metadata": {
    "slideshow": {
     "slide_type": ""
    },
    "tags": []
   },
   "outputs": [],
   "source": [
    "factory = CSTResultsFactory(\n",
    "    plotter=plotter,\n",
    "    freq_ghz=1.30145,\n",
    "    stl_path=stl_path,\n",
    "    stl_alpha=0.3,\n",
    ")"
   ]
  },
  {
   "cell_type": "raw",
   "id": "42be736e-81c1-4500-a0a2-e2c08c29c0d7",
   "metadata": {
    "raw_mimetype": "text/x-rst",
    "slideshow": {
     "slide_type": ""
    },
    "tags": []
   },
   "source": [
    "The :class:`.CSTResults` can be created.\n",
    "\n",
    "As loading all the particle monitor data can take some time, the ``load_first_n_particles`` argument allows one to only load the first particles data.\n",
    "The actual particle monitor data are stored in :attr:`.CSTResults._particle_monitor` attribute, a :class:`.ParticleMonitor` instance."
   ]
  },
  {
   "cell_type": "code",
   "execution_count": 5,
   "id": "5a4619ae-9c39-4b5f-8ff3-a0a6633d27a9",
   "metadata": {
    "slideshow": {
     "slide_type": ""
    },
    "tags": []
   },
   "outputs": [
    {
     "name": "stderr",
     "output_type": "stream",
     "text": [
      "/home/placais/Documents/simulation/python/simultipac/src/simultipac/particle_monitor/vector.py:145: RankWarning: Polyfit may be poorly conditioned\n",
      "  polynom = np.polyfit(\n"
     ]
    },
    {
     "name": "stdout",
     "output_type": "stream",
     "text": [
      "\u001b[0;37m[INFO    ] [particle.py         ]\u001b[0m No collision for particle 56121.\n"
     ]
    }
   ],
   "source": [
    "result: CSTResults = factory.from_simulation_folder(\n",
    "    folderpath=folder_results,\n",
    "    folder_particle_monitor=folder_particle_monitor,\n",
    "    # load_first_n_particles=10,\n",
    ")"
   ]
  },
  {
   "cell_type": "markdown",
   "id": "aeb91155-e491-44e7-b5ef-5bd7fdc7d5a6",
   "metadata": {
    "slideshow": {
     "slide_type": ""
    },
    "tags": []
   },
   "source": [
    "The `RankWarning` is raised during the extrapolation of the position and momentum arrays (used to detect collision with the mesh).\n",
    "It is raised because the distance crossed by the particles between two position monitor files is too high.\n",
    "Typically, I generally save 20 files per RF period.\n",
    "Here I just wanted the files to be light enough, hence the low resolution."
   ]
  },
  {
   "cell_type": "markdown",
   "id": "2ec8a5ce-e3c6-430b-8074-23a28639504a",
   "metadata": {
    "slideshow": {
     "slide_type": ""
    },
    "tags": []
   },
   "source": [
    "## Histograms"
   ]
  },
  {
   "cell_type": "markdown",
   "id": "e348a73e-d586-4554-a478-a793d499a030",
   "metadata": {
    "slideshow": {
     "slide_type": ""
    },
    "tags": []
   },
   "source": [
    "Below we give some examples of the plottable histograms."
   ]
  },
  {
   "cell_type": "code",
   "execution_count": 6,
   "id": "653a9342-dfd5-45d1-8197-c30a6664061b",
   "metadata": {
    "slideshow": {
     "slide_type": ""
    },
    "tags": []
   },
   "outputs": [
    {
     "data": {
      "text/plain": [
       "<Axes: xlabel='Emission energy [eV]', ylabel='Frequency'>"
      ]
     },
     "execution_count": 6,
     "metadata": {},
     "output_type": "execute_result"
    },
    {
     "data": {
      "image/png": "[encoded data removed]",
      "text/plain": [
       "<Figure size 640x480 with 1 Axes>"
      ]
     },
     "metadata": {},
     "output_type": "display_data"
    }
   ],
   "source": [
    "result.hist(\"emission_energy\")"
   ]
  },
  {
   "cell_type": "raw",
   "id": "4a7e63cf-226d-4f9a-9196-d85bd1dcabcc",
   "metadata": {
    "editable": true,
    "raw_mimetype": "",
    "slideshow": {
     "slide_type": ""
    },
    "tags": []
   },
   "source": [
    "You can filter the particles you want to plot with the ``filter`` keyword.\n",
    "It accepts some magic keywords:\n",
    "\n",
    "  - ``\"seed\"`` to select seed electrons.\n",
    "  - ``\"emitted\"`` to plot non-seed electrons.\n",
    "  - ``\"collision\"`` for electron that impacted a wall.\n",
    "  - ``\"no collision\"`` for electron that did not impacted any wall.\n",
    "\n",
    "This list may be updated in the future.\n",
    "Check the documentation of the ``particle_monitor`` module: :mod:`.particle_monitor.particle_monitor`.\n",
    "\n",
    "You can also provide a function that takes in a :class:`.Particle` object and returns a boolean."
   ]
  },
  {
   "cell_type": "code",
   "execution_count": 7,
   "id": "7217fd48-eaeb-4e99-aa7c-6e0ae7dfdbae",
   "metadata": {
    "editable": true,
    "slideshow": {
     "slide_type": ""
    },
    "tags": []
   },
   "outputs": [
    {
     "data": {
      "text/plain": [
       "<Axes: title={'center': 'emitted'}, xlabel='Collision energy [eV]', ylabel='Frequency'>"
      ]
     },
     "execution_count": 7,
     "metadata": {},
     "output_type": "execute_result"
    },
    {
     "data": {
      "image/png": "[encoded data removed]",
      "text/plain": [
       "<Figure size 640x480 with 1 Axes>"
      ]
     },
     "metadata": {},
     "output_type": "display_data"
    }
   ],
   "source": [
    "result.hist(\n",
    "    \"collision_energy\",\n",
    "    filter=\"emitted\",\n",
    "    # This filter would select only the particles appearing in the simulation\n",
    "    # after 10ns:\n",
    "    # filter=lambda particle: particle.time[0] >= 10.0,\n",
    ")"
   ]
  },
  {
   "cell_type": "code",
   "execution_count": 8,
   "id": "9714a79e-376b-4843-8841-9798e31ddac9",
   "metadata": {
    "slideshow": {
     "slide_type": ""
    },
    "tags": []
   },
   "outputs": [
    {
     "data": {
      "text/plain": [
       "<Axes: xlabel='Impact angle $\\\\theta$ [deg]', ylabel='Frequency'>"
      ]
     },
     "execution_count": 8,
     "metadata": {},
     "output_type": "execute_result"
    },
    {
     "data": {
      "image/png": "[encoded data removed]",
      "text/plain": [
       "<Figure size 640x480 with 1 Axes>"
      ]
     },
     "metadata": {},
     "output_type": "display_data"
    }
   ],
   "source": [
    "result.hist(\"collision_angle\")"
   ]
  },
  {
   "cell_type": "raw",
   "id": "a77c8d02-7a46-4cf7-83e8-d7d32b037259",
   "metadata": {
    "editable": true,
    "raw_mimetype": "",
    "slideshow": {
     "slide_type": ""
    },
    "tags": []
   },
   "source": [
    "Check the :meth:`.ParticleMonitor.hist` documentation for a full list of allowed arguments."
   ]
  },
  {
   "cell_type": "markdown",
   "id": "e36a211c-61f7-4890-8a14-18694c773ca7",
   "metadata": {
    "editable": true,
    "slideshow": {
     "slide_type": ""
    },
    "tags": []
   },
   "source": [
    "## 3D plots"
   ]
  },
  {
   "cell_type": "code",
   "execution_count": 9,
   "id": "38b5ffe7-831e-475f-aec7-42fa1bad4303",
   "metadata": {
    "editable": true,
    "slideshow": {
     "slide_type": ""
    },
    "tags": []
   },
   "outputs": [
    {
     "name": "stdout",
     "output_type": "stream",
     "text": [
      "\u001b[0;37m[INFO    ] [default.py          ]\u001b[0m patching invalid point_size=0.0 -> 1.0.\n",
      "\u001b[0;37m[INFO    ] [default.py          ]\u001b[0m patching invalid point_size=0.0 -> 1.0.\n",
      "\u001b[0;37m[INFO    ] [default.py          ]\u001b[0m patching invalid point_size=0.0 -> 1.0.\n",
      "\u001b[0;37m[INFO    ] [default.py          ]\u001b[0m patching invalid point_size=0.0 -> 1.0.\n",
      "\u001b[0;37m[INFO    ] [default.py          ]\u001b[0m patching invalid point_size=0.0 -> 1.0.\n",
      "\u001b[0;37m[INFO    ] [default.py          ]\u001b[0m patching invalid point_size=0.0 -> 1.0.\n",
      "\u001b[0;37m[INFO    ] [default.py          ]\u001b[0m patching invalid point_size=0.0 -> 1.0.\n",
      "\u001b[0;37m[INFO    ] [default.py          ]\u001b[0m patching invalid point_size=0.0 -> 1.0.\n",
      "\u001b[0;37m[INFO    ] [default.py          ]\u001b[0m patching invalid point_size=0.0 -> 1.0.\n",
      "\u001b[0;37m[INFO    ] [default.py          ]\u001b[0m patching invalid point_size=0.0 -> 1.0.\n",
      "\u001b[0;37m[INFO    ] [default.py          ]\u001b[0m patching invalid point_size=0.0 -> 1.0.\n",
      "\u001b[0;37m[INFO    ] [default.py          ]\u001b[0m patching invalid point_size=0.0 -> 1.0.\n",
      "\u001b[0;37m[INFO    ] [default.py          ]\u001b[0m patching invalid point_size=0.0 -> 1.0.\n",
      "\u001b[0;37m[INFO    ] [default.py          ]\u001b[0m patching invalid point_size=0.0 -> 1.0.\n"
     ]
    },
    {
     "data": {
      "text/plain": [
       "<vedo.plotter.Plotter at 0x7f34ece8c1a0>"
      ]
     },
     "execution_count": 9,
     "metadata": {},
     "output_type": "execute_result"
    }
   ],
   "source": [
    "result.plot_mesh()\n",
    "\n",
    "some_random_ids = (10, 500, 4332, 54, 4789)\n",
    "veplotter = result.plot_trajectories(\n",
    "    emission_color=\"blue\",\n",
    "    collision_color=\"red\",\n",
    "    filter=lambda particle: particle.particle_id in some_random_ids,\n",
    ")\n",
    "veplotter.show()\n",
    "\n",
    "# Save animation to a file to include it into documentation\n",
    "veplotter.export(filename=\"../../_static/k3d_wr75_example.html\")"
   ]
  },
  {
   "cell_type": "raw",
   "id": "5d8afb9b-3b3c-4fcd-9302-411bb1afcd29",
   "metadata": {
    "editable": true,
    "raw_mimetype": "text/html",
    "slideshow": {
     "slide_type": ""
    },
    "tags": []
   },
   "source": [
    "<iframe src=\"../../_static/k3d_wr75_example.html\" width=\"100%\" height=\"600px\" style=\"border:none;\"></iframe>"
   ]
  },
  {
   "cell_type": "markdown",
   "id": "0b66869d-6add-4802-9304-159e3fde9e4d",
   "metadata": {
    "editable": true,
    "slideshow": {
     "slide_type": ""
    },
    "tags": []
   },
   "source": [
    "In this plot, the emission points are in blue. If there is no emission point, it is because the electron you are looking at is a seed electron.\n",
    "The last collision position is in red."
   ]
  },
  {
   "cell_type": "raw",
   "id": "13ea9fa8-17f3-418d-8ba7-570b8ceef4f6",
   "metadata": {
    "editable": true,
    "raw_mimetype": "text/x-rst",
    "slideshow": {
     "slide_type": ""
    },
    "tags": []
   },
   "source": [
    ".. note::\n",
    "   I don't know where this comes from, but a patch was necessary for the ``k3d`` backend to work.\n",
    "   See documentation of :meth:`.DefaultPlotter._k3d_patch`."
   ]
  },
  {
   "cell_type": "markdown",
   "id": "6379c50b-ae24-4791-9f4e-19a3ae675663",
   "metadata": {
    "editable": true,
    "slideshow": {
     "slide_type": ""
    },
    "tags": []
   },
   "source": [
    "# Particle Monitor: TESLA study case\n",
    "As the gap of the reduced WR75 is very tight, the visualisation of the trajectories is not very impressive. Let's fix that by looking at a TESLA cavity."
   ]
  },
  {
   "cell_type": "markdown",
   "id": "ff2a8110-1ee8-4714-85a9-4101791c28ec",
   "metadata": {
    "slideshow": {
     "slide_type": ""
    },
    "tags": []
   },
   "source": [
    "## Loading data and making trajectory plot"
   ]
  },
  {
   "cell_type": "code",
   "execution_count": 10,
   "id": "d246384a-5aa9-4e26-b1ed-2f9d8d4392ce",
   "metadata": {
    "editable": true,
    "slideshow": {
     "slide_type": ""
    },
    "tags": []
   },
   "outputs": [
    {
     "name": "stdout",
     "output_type": "stream",
     "text": [
      "\u001b[0;37m[INFO    ] [default.py          ]\u001b[0m Applying patch for k3d.\n",
      "\u001b[0;37m[INFO    ] [particle.py         ]\u001b[0m No collision for particle 341.\n",
      "\u001b[0;37m[INFO    ] [particle.py         ]\u001b[0m No collision for particle 1144.\n",
      "\u001b[0;37m[INFO    ] [particle.py         ]\u001b[0m No collision for particle 1147.\n",
      "\u001b[0;37m[INFO    ] [particle.py         ]\u001b[0m No collision for particle 1142.\n",
      "\u001b[0;37m[INFO    ] [particle.py         ]\u001b[0m No collision for particle 1156.\n",
      "\u001b[0;37m[INFO    ] [particle.py         ]\u001b[0m No collision for particle 1201.\n",
      "\u001b[0;37m[INFO    ] [particle.py         ]\u001b[0m No collision for particle 1206.\n",
      "\u001b[0;37m[INFO    ] [particle.py         ]\u001b[0m No collision for particle 1300.\n",
      "\u001b[0;37m[INFO    ] [particle.py         ]\u001b[0m No collision for particle 1375.\n",
      "\u001b[0;37m[INFO    ] [particle.py         ]\u001b[0m No collision for particle 1399.\n",
      "\u001b[0;37m[INFO    ] [particle.py         ]\u001b[0m No collision for particle 1547.\n",
      "\u001b[0;37m[INFO    ] [particle.py         ]\u001b[0m No collision for particle 1549.\n",
      "\u001b[0;37m[INFO    ] [particle.py         ]\u001b[0m No collision for particle 1550.\n",
      "\u001b[0;37m[INFO    ] [default.py          ]\u001b[0m patching invalid point_size=0.0 -> 1.0.\n",
      "\u001b[0;37m[INFO    ] [default.py          ]\u001b[0m patching invalid point_size=0.0 -> 1.0.\n",
      "\u001b[0;37m[INFO    ] [default.py          ]\u001b[0m patching invalid point_size=0.0 -> 1.0.\n",
      "\u001b[0;37m[INFO    ] [default.py          ]\u001b[0m patching invalid point_size=0.0 -> 1.0.\n",
      "\u001b[0;37m[INFO    ] [default.py          ]\u001b[0m patching invalid point_size=0.0 -> 1.0.\n",
      "\u001b[0;37m[INFO    ] [default.py          ]\u001b[0m patching invalid point_size=0.0 -> 1.0.\n",
      "\u001b[0;37m[INFO    ] [default.py          ]\u001b[0m patching invalid point_size=0.0 -> 1.0.\n",
      "\u001b[0;37m[INFO    ] [default.py          ]\u001b[0m patching invalid point_size=0.0 -> 1.0.\n",
      "\u001b[0;37m[INFO    ] [default.py          ]\u001b[0m patching invalid point_size=0.0 -> 1.0.\n",
      "\u001b[0;37m[INFO    ] [default.py          ]\u001b[0m patching invalid point_size=0.0 -> 1.0.\n"
     ]
    },
    {
     "data": {
      "text/plain": [
       "<vedo.plotter.Plotter at 0x7f34a106f9d0>"
      ]
     },
     "execution_count": 10,
     "metadata": {},
     "output_type": "execute_result"
    }
   ],
   "source": [
    "stl_path = Path(\"../data/cst/Particle_Monitor/tesla.stl\")\n",
    "folder_particle_monitor=Path(\"../data/cst/Particle_Monitor/tesla_no_mp\")\n",
    "\n",
    "factory = CSTResultsFactory(plotter=DefaultPlotter(vedo_backend=\"k3d\"), freq_ghz=1.3, stl_path=stl_path, stl_alpha=0.3)\n",
    "result = factory.from_simulation_folder(folderpath=folder_results, folder_particle_monitor=folder_particle_monitor)\n",
    "\n",
    "result.plot_mesh()\n",
    "veplotter = result.plot_trajectories(\n",
    "    emission_color=\"blue\",\n",
    "    collision_color=\"red\",\n",
    "    filter=lambda particle: particle.particle_id in range(100, 110),\n",
    ")\n",
    "\n",
    "# Save animation to a file to include it into documentation\n",
    "veplotter.export(filename='../../_static/k3d_tesla_example.html')"
   ]
  },
  {
   "cell_type": "raw",
   "id": "5d4b2cc7-30b5-42ea-8d95-01a2882d07b9",
   "metadata": {
    "editable": true,
    "raw_mimetype": "text/html",
    "slideshow": {
     "slide_type": ""
    },
    "tags": []
   },
   "source": [
    "<iframe src=\"../../_static/k3d_tesla_example.html\" width=\"100%\" height=\"600px\" style=\"border:none;\"></iframe>"
   ]
  },
  {
   "cell_type": "markdown",
   "id": "c2466db0-bcff-4673-bf78-18abb679ea79",
   "metadata": {
    "editable": true,
    "slideshow": {
     "slide_type": ""
    },
    "tags": []
   },
   "source": [
    "Note that, again, the resolution on the trajectories is low. This may lead to incorrect impact angles."
   ]
  }
 ],
 "metadata": {
  "kernelspec": {
   "display_name": "Python 3 (ipykernel)",
   "language": "python",
   "name": "python3"
  },
  "language_info": {
   "codemirror_mode": {
    "name": "ipython",
    "version": 3
   },
   "file_extension": ".py",
   "mimetype": "text/x-python",
   "name": "python",
   "nbconvert_exporter": "python",
   "pygments_lexer": "ipython3",
   "version": "3.13.2"
  }
 },
 "nbformat": 4,
 "nbformat_minor": 5
}
