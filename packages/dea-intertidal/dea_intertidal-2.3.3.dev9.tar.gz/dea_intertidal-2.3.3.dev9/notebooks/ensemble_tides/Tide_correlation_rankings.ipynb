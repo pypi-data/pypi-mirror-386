{
 "cells": [
  {
   "cell_type": "markdown",
   "id": "5ec253af-be87-478a-bf54-24cbb24de3b9",
   "metadata": {},
   "source": [
    "# NDWI-tide correlation tide model rankings\n",
    "\n",
    "This code processes correlations between multiple global ocean tide models and satellite-derived NDWI water index data at regularly spaced points along the coastline, and returns tide model performance and rankings in a standardised format for further analysis.\n",
    "\n",
    "## Getting started\n",
    "Set working directory to top level of repo to ensure links work correctly:"
   ]
  },
  {
   "cell_type": "code",
   "execution_count": null,
   "id": "ab5f5e34-15e6-42af-9464-eaf382275fea",
   "metadata": {},
   "outputs": [],
   "source": [
    "cd ../.."
   ]
  },
  {
   "cell_type": "markdown",
   "id": "8ab5c518-db8a-417a-b28a-1e166ce6a468",
   "metadata": {},
   "source": [
    "Install additional packages directly from the requirements file:"
   ]
  },
  {
   "cell_type": "code",
   "execution_count": null,
   "id": "378cda91-11c6-494c-a5fd-7cb649d64e6b",
   "metadata": {},
   "outputs": [],
   "source": [
    "pip install -r dev-requirements.in --quiet"
   ]
  },
  {
   "cell_type": "code",
   "execution_count": null,
   "id": "5d54426d-d2e3-414f-b9fb-ba74d5050956",
   "metadata": {},
   "outputs": [],
   "source": [
    "# pip install -e /home/jovyan/Robbi/eo-tides/"
   ]
  },
  {
   "cell_type": "code",
   "execution_count": null,
   "id": "4ed06f50-ead6-4b51-909a-3a89f9578ead",
   "metadata": {},
   "outputs": [],
   "source": [
    "# pip install git+https://github.com/tsutterley/pyTMD.git"
   ]
  },
  {
   "cell_type": "markdown",
   "id": "f68364b3-5da3-4ccc-b621-4bdc064176f5",
   "metadata": {},
   "source": [
    "Now restart!"
   ]
  },
  {
   "cell_type": "markdown",
   "id": "1daa805e-d940-4fb0-8e60-d795c1099940",
   "metadata": {},
   "source": [
    "### Load packages"
   ]
  },
  {
   "cell_type": "code",
   "execution_count": null,
   "id": "9549c82b-93b4-4873-a003-bcece2577a0c",
   "metadata": {},
   "outputs": [],
   "source": [
    "%load_ext autoreload\n",
    "%autoreload 2\n",
    "\n",
    "\n",
    "import datacube\n",
    "import geopandas as gpd\n",
    "import pandas as pd\n",
    "from dea_tools.dask import create_local_dask_cluster\n",
    "from eo_tides.utils import list_models\n",
    "from intertidal.ensemble import correlation_loop\n",
    "from odc.geo.geom import Geometry\n",
    "from tqdm.auto import tqdm"
   ]
  },
  {
   "cell_type": "markdown",
   "id": "696076dd-35f8-42a3-a056-96fb40e02168",
   "metadata": {
    "tags": []
   },
   "source": [
    "## Setup\n"
   ]
  },
  {
   "cell_type": "markdown",
   "id": "d207f9e8-aa30-47c9-9067-8b80d476d8ca",
   "metadata": {},
   "source": [
    "### Set analysis parameters"
   ]
  },
  {
   "cell_type": "code",
   "execution_count": null,
   "id": "6d7362fc-c845-4570-ae54-3c83c88af9ce",
   "metadata": {
    "tags": []
   },
   "outputs": [],
   "source": [
    "# Intertidal Elevation variables\n",
    "start_date = \"2017\"  # Informed by http://www.bom.gov.au/climate/enso/soi/?\n",
    "end_date = \"2019\"  #  Non La Nina/El Nino period\n",
    "resolution = 10  # Spatial resolution used for output files\n",
    "crs = \"EPSG:3577\"  # Coordinate Reference System (CRS) to use for output files\n",
    "include_s2 = True  # Include Sentinel-2 data in the analysis?\n",
    "include_ls = True  # Include Landsat data in the analysis?\n",
    "filter_gqa = True  # Filter to remove poorly georeferenced scenes?\n",
    "directory = \"/var/share/tide_models/\"  # Directory containing tide model files\n",
    "\n",
    "# Models to run\n",
    "models = [\n",
    "    \"EOT20\",\n",
    "    \"FES2012\",\n",
    "    \"FES2014_extrapolated\",\n",
    "    \"FES2022_extrapolated\",\n",
    "    \"HAMTIDE11\",\n",
    "    \"GOT4.10\",\n",
    "    \"GOT5.6_extrapolated\",\n",
    "    \"TPXO10-atlas-v2-nc\",\n",
    "    \"TPXO8-atlas-nc\",\n",
    "    \"TPXO9-atlas-v5-nc\",\n",
    "]"
   ]
  },
  {
   "cell_type": "code",
   "execution_count": null,
   "id": "185a8842-0f48-47a1-bcf0-316e9dfacf87",
   "metadata": {},
   "outputs": [],
   "source": [
    "list_models(directory=directory, show_supported=False);"
   ]
  },
  {
   "cell_type": "markdown",
   "id": "fffd3b0a-b308-4325-9d08-4e7474199d65",
   "metadata": {},
   "source": [
    "### Load correlation points"
   ]
  },
  {
   "cell_type": "code",
   "execution_count": null,
   "id": "69aba69b-0c8c-4b73-a5db-e5985dcee38c",
   "metadata": {},
   "outputs": [],
   "source": [
    "# import pyogrio\n",
    "# processed_gdf = gpd.read_file(\"data/raw/rankings_correlations_2017-2019.fgb\", engine=\"pyogrio\")\n",
    "# missing = processed_gdf.query(\"missing > 0\").point_id.tolist()\n",
    "\n",
    "# # Load points\n",
    "# points_gdf = gpd.read_file(\"data/raw/tide_correlation_points_input.geojson\").to_crs(\"EPSG:3577\")\n",
    "# points_gdf, name = points_gdf.query(\"id in @missing\"), \"nan_missing\"\n",
    "# points_gdf.plot()\n",
    "\n",
    "# # Apply buffer\n",
    "# points_gdf[\"geometry\"] = points_gdf.geometry.buffer(2500)"
   ]
  },
  {
   "cell_type": "code",
   "execution_count": null,
   "id": "d02377f1-6168-4769-a28b-1050af1a9c52",
   "metadata": {
    "tags": []
   },
   "outputs": [],
   "source": [
    "# Load points\n",
    "points_gdf = gpd.read_file(\"data/raw/tide_correlation_points_input.geojson\").to_crs(\"EPSG:3577\")\n",
    "\n",
    "# Select subset\n",
    "# points_gdf, name = points_gdf.iloc[0:3], \"test\"\n",
    "# points_gdf, name = points_gdf.iloc[0:750], \"claire_part1\"\n",
    "# points_gdf, name = points_gdf.iloc[750:1500], \"claire_part2\"\n",
    "# points_gdf, name = points_gdf.iloc[1500:2250], \"robbi_part1\"\n",
    "# points_gdf, name = points_gdf.iloc[2250:3059], \"robbi_part2\"\n",
    "# points_gdf, name = points_gdf.cx[1162870:1192673, -4273329:-4236761].head(1), \"westernport\"\n",
    "\n",
    "# missing = points_gdf.set_index(\"id\").index.difference(tide_correlation_points.set_index(\"point_id\").index)\n",
    "# points_gdf, name = points_gdf.query(\"id in @missing\"), \"robbi_missing\"\n",
    "\n",
    "points_gdf.plot()\n",
    "\n",
    "# Apply buffer\n",
    "points_gdf[\"geometry\"] = points_gdf.geometry.buffer(2500)"
   ]
  },
  {
   "cell_type": "markdown",
   "id": "1c826a4e-fc8a-419b-874f-9c82c5856b83",
   "metadata": {
    "tags": []
   },
   "source": [
    "## Run correlation analysis"
   ]
  },
  {
   "cell_type": "code",
   "execution_count": null,
   "id": "92705307-d8e6-48f7-a915-024db54745de",
   "metadata": {
    "tags": []
   },
   "outputs": [],
   "source": [
    "# Connect to datacube\n",
    "dc = datacube.Datacube(app=\"NDWI-tide correlations\")\n",
    "\n",
    "# Create local dask cluster to improve data load time\n",
    "client = create_local_dask_cluster(return_client=True)\n",
    "\n",
    "out_list = []\n",
    "\n",
    "for i, row in tqdm(points_gdf.iterrows(), total=points_gdf.shape[0]):\n",
    "    try:\n",
    "        point_id = row.id\n",
    "        print(f\"Processing ID {point_id}\")\n",
    "        geom = Geometry(row.geometry, crs=\"EPSG:3577\")\n",
    "\n",
    "        output_df = correlation_loop(\n",
    "            dc,\n",
    "            point_id,\n",
    "            geom,\n",
    "            start_date,\n",
    "            end_date,\n",
    "            resolution,\n",
    "            crs,\n",
    "            filter_gqa,\n",
    "            models,\n",
    "            directory,\n",
    "            min_freq=0.01,\n",
    "            max_freq=0.99,\n",
    "            # corr_method=\"pearson\",\n",
    "            # apply_threshold=True,\n",
    "            # return_arrays=True,\n",
    "        )\n",
    "        output_df[\"x\"] = row.geometry.centroid.x\n",
    "        output_df[\"y\"] = row.geometry.centroid.y\n",
    "\n",
    "        out_list.append(output_df)\n",
    "\n",
    "        client.restart()\n",
    "\n",
    "    except Exception as e:\n",
    "        print(f\"{point_id} failed with {e}; skipping\")\n",
    "\n",
    "client.close()"
   ]
  },
  {
   "cell_type": "markdown",
   "id": "d86762e7-b3c6-4254-931d-d78309b0b58e",
   "metadata": {},
   "source": [
    "### Combine and process data"
   ]
  },
  {
   "cell_type": "code",
   "execution_count": null,
   "id": "953b3aa7-0005-4db4-9ef3-6dadb5fb6ce7",
   "metadata": {
    "tags": []
   },
   "outputs": [],
   "source": [
    "# Combine outputs into single dataframe\n",
    "combined_df = (\n",
    "    pd.concat(out_list)\n",
    "    .set_index([\"x\", \"y\", \"valid_perc\"], append=True)\n",
    "    .unstack(\"tide_model\")[\"tide_m\"]\n",
    "    .assign(source=\"ndwi correlation\", statistic=\"correlation\")\n",
    "    .reset_index([\"x\", \"y\", \"valid_perc\"])\n",
    "    .reindex([\"x\", \"y\", \"valid_perc\", \"source\", \"statistic\"] + models, axis=1)\n",
    ")\n",
    "\n",
    "# Add additional columns\n",
    "combined_df[\"min\"] = combined_df.loc[:, models].min(axis=1)\n",
    "combined_df[\"max\"] = combined_df.loc[:, models].max(axis=1)\n",
    "combined_df[\"diff\"] = combined_df[\"max\"] - combined_df[\"min\"]\n",
    "combined_df[\"ave\"] = combined_df.loc[:, models].mean(axis=1)\n",
    "combined_df[\"median\"] = combined_df.loc[:, models].median(axis=1)\n",
    "combined_df[\"std\"] = combined_df.loc[:, models].std(axis=1)\n",
    "combined_df[\"missing\"] = combined_df.loc[:, models].isna().sum(axis=1)\n",
    "\n",
    "# Calculate ranks\n",
    "combined_df = pd.concat(\n",
    "    [combined_df, combined_df.loc[:, models].rank(axis=1, ascending=False).add_prefix(\"rank_\")], axis=1\n",
    ")\n",
    "\n",
    "# Remove all NaN rows and identify best/worst models\n",
    "combined_df = combined_df.loc[combined_df.filter(regex=\"^rank\").dropna(axis=0, how=\"all\").index]\n",
    "combined_df[\"top_model\"] = combined_df.filter(regex=\"^rank\").idxmin(axis=1).str[5:]\n",
    "combined_df[\"worst_model\"] = combined_df.filter(regex=\"^rank\").idxmax(axis=1).str[5:]\n",
    "combined_df"
   ]
  },
  {
   "cell_type": "markdown",
   "id": "9081e13d-ff74-4f8f-863e-6a43be0130ab",
   "metadata": {},
   "source": [
    "### Export"
   ]
  },
  {
   "cell_type": "code",
   "execution_count": null,
   "id": "1061ef63-6f79-465b-92dc-4139729849bc",
   "metadata": {
    "tags": []
   },
   "outputs": [],
   "source": [
    "combined_gdf = gpd.GeoDataFrame(\n",
    "    data=combined_df,\n",
    "    geometry=gpd.points_from_xy(combined_df.x, combined_df.y, crs=\"EPSG:3577\"),\n",
    ").to_crs(\"EPSG:4326\")\n",
    "combined_gdf.to_file(f\"data/raw/tide_correlation_points_{name}.geojson\")\n",
    "combined_gdf.explore()"
   ]
  },
  {
   "cell_type": "markdown",
   "id": "887e76fe-9ae6-44b4-9aa9-ea07215daa61",
   "metadata": {},
   "source": [
    "### Combine (once all data is processed)"
   ]
  },
  {
   "cell_type": "code",
   "execution_count": null,
   "id": "2db93478-5feb-4b10-8dcb-76f1bb0bd667",
   "metadata": {},
   "outputs": [],
   "source": [
    "# pip install pyogrio"
   ]
  },
  {
   "cell_type": "code",
   "execution_count": null,
   "id": "673d1cde-1f2e-4461-ba9a-e4029b35a392",
   "metadata": {},
   "outputs": [],
   "source": [
    "# Load original data\n",
    "tide_correlation_points_all = (\n",
    "    pd.concat([\n",
    "        gpd.read_file(\"/gdata1/projects/coastal/intertidal/correlations/tide_correlation_points_claire_part1a.geojson\"),\n",
    "        gpd.read_file(\n",
    "            \"/gdata1/projects/coastal/intertidal/correlations/tide_correlation_points_claire_part1ba.geojson\"\n",
    "        ),\n",
    "        gpd.read_file(\"/gdata1/projects/coastal/intertidal/correlations/tide_correlation_points_claire_part2.geojson\"),\n",
    "        gpd.read_file(\"/gdata1/projects/coastal/intertidal/correlations/tide_correlation_points_robbi_part1.geojson\"),\n",
    "        gpd.read_file(\"/gdata1/projects/coastal/intertidal/correlations/tide_correlation_points_robbi_part2.geojson\"),\n",
    "        gpd.read_file(\"/gdata1/projects/coastal/intertidal/correlations/tide_correlation_points_robbi_missing.geojson\"),\n",
    "    ])\n",
    "    # Old files included GOT5.5 which was dropped for being too similar to GOT5.6\n",
    "    .drop([\"GOT5.5_extrapolated\", \"rank_GOT5.5_extrapolated\"], axis=1)\n",
    "    .set_index(\"point_id\")\n",
    ")\n",
    "\n",
    "# Load fixed points and update original data in-place\n",
    "tide_correlation_points_fix = gpd.read_file(\n",
    "    \"/gdata1/projects/coastal/intertidal/correlations/tide_correlation_points_nan_missing.geojson\"\n",
    ").set_index(\"point_id\")\n",
    "tide_correlation_points_all.update(tide_correlation_points_fix)\n",
    "\n",
    "# Recalculate additional columns\n",
    "tide_correlation_points[\"min\"] = tide_correlation_points.loc[:, models].min(axis=1)\n",
    "tide_correlation_points[\"max\"] = tide_correlation_points.loc[:, models].max(axis=1)\n",
    "tide_correlation_points[\"diff\"] = tide_correlation_points[\"max\"] - tide_correlation_points[\"min\"]\n",
    "tide_correlation_points[\"ave\"] = tide_correlation_points.loc[:, models].mean(axis=1)\n",
    "tide_correlation_points[\"median\"] = tide_correlation_points.loc[:, models].median(axis=1)\n",
    "tide_correlation_points[\"std\"] = tide_correlation_points.loc[:, models].std(axis=1)\n",
    "tide_correlation_points[\"missing\"] = tide_correlation_points.loc[:, models].isna().sum(axis=1)\n",
    "\n",
    "# Recalculate ranks\n",
    "tide_correlation_points.update(tide_correlation_points.loc[:, models].rank(axis=1, ascending=False).add_prefix(\"rank_\"))\n",
    "tide_correlation_points[\"top_model\"] = tide_correlation_points.filter(regex=\"^rank\").idxmin(axis=1).str[5:]\n",
    "tide_correlation_points[\"worst_model\"] = tide_correlation_points.filter(regex=\"^rank\").idxmax(axis=1).str[5:]\n",
    "\n",
    "# Convert x/y to lat/lon\n",
    "tide_correlation_points[\"x\"] = tide_correlation_points.geometry.x\n",
    "tide_correlation_points[\"y\"] = tide_correlation_points.geometry.y\n",
    "\n",
    "# Reorder columns\n",
    "cols = [\n",
    "    \"point_id\",\n",
    "    \"x\",\n",
    "    \"y\",\n",
    "    \"valid_perc\",\n",
    "    \"source\",\n",
    "    \"statistic\",\n",
    "    *models,\n",
    "    \"min\",\n",
    "    \"max\",\n",
    "    \"diff\",\n",
    "    \"ave\",\n",
    "    \"median\",\n",
    "    \"std\",\n",
    "    \"missing\",\n",
    "    *[f\"rank_{m}\" for m in models],\n",
    "    \"top_model\",\n",
    "    \"worst_model\",\n",
    "    \"geometry\",\n",
    "]\n",
    "tide_correlation_points = tide_correlation_points[cols]\n",
    "\n",
    "# Export\n",
    "tide_correlation_points.to_file(\"data/raw/rankings_correlations_2017-2019.fgb\", engine=\"pyogrio\")\n",
    "tide_correlation_points.head()"
   ]
  },
  {
   "cell_type": "markdown",
   "id": "5593add3-dd8f-4249-90ec-fe9b8c00221f",
   "metadata": {
    "tags": []
   },
   "source": [
    "#### Combine with altimetry"
   ]
  },
  {
   "cell_type": "code",
   "execution_count": null,
   "id": "75ae2f06-efab-4bc5-8271-3d945534ff59",
   "metadata": {
    "tags": []
   },
   "outputs": [],
   "source": [
    "import geopandas as gpd\n",
    "\n",
    "tide_correlation_points = gpd.read_file(\"data/raw/rankings_correlations_2017-2019.fgb\", engine=\"pyogrio\")\n",
    "coastal_altimetry_points = gpd.read_file(\"data/raw/rankings_altimetry_2017-2019_v2.fgb\", engine=\"pyogrio\")"
   ]
  },
  {
   "cell_type": "code",
   "execution_count": null,
   "id": "b35433f8-70c5-4435-a45e-0a2715695a67",
   "metadata": {
    "tags": []
   },
   "outputs": [],
   "source": [
    "import pandas as pd\n",
    "\n",
    "rank_cols = [\n",
    "    \"rank_EOT20\",\n",
    "    \"rank_FES2012\",\n",
    "    \"rank_FES2014_extrapolated\",\n",
    "    \"rank_FES2022_extrapolated\",\n",
    "    \"rank_HAMTIDE11\",\n",
    "    \"rank_GOT4.10\",\n",
    "    \"rank_GOT5.6_extrapolated\",\n",
    "    \"rank_TPXO10-atlas-v2-nc\",\n",
    "    \"rank_TPXO8-atlas-nc\",\n",
    "    \"rank_TPXO9-atlas-v5-nc\",\n",
    "]\n",
    "\n",
    "value_cols = [\n",
    "    \"EOT20\",\n",
    "    \"FES2012\",\n",
    "    \"FES2014_extrapolated\",\n",
    "    \"FES2022_extrapolated\",\n",
    "    \"HAMTIDE11\",\n",
    "    \"GOT4.10\",\n",
    "    \"GOT5.6_extrapolated\",\n",
    "    \"TPXO10-atlas-v2-nc\",\n",
    "    \"TPXO8-atlas-nc\",\n",
    "    \"TPXO9-atlas-v5-nc\",\n",
    "]\n",
    "\n",
    "\n",
    "combined_gdf = (\n",
    "    pd.concat([tide_correlation_points, coastal_altimetry_points])\n",
    "    .drop(\"point_id\", axis=1)\n",
    "    .reset_index(drop=True)\n",
    "    .rename_axis(\"point_id\")\n",
    "    .dropna(subset=rank_cols, how=\"all\")\n",
    ")\n",
    "\n",
    "# Convert dtypes\n",
    "float64_cols = list(combined_gdf.select_dtypes(include=\"float64\"))\n",
    "combined_gdf[float64_cols] = combined_gdf[float64_cols].round(3).astype(\"float32\")\n",
    "\n",
    "combined_gdf.to_file(\"data/raw/rankings_ensemble_2017-2019_v2.fgb\", engine=\"pyogrio\")"
   ]
  },
  {
   "cell_type": "code",
   "execution_count": null,
   "id": "949ebd4b-dd47-4ccb-8f57-08d56a816a18",
   "metadata": {},
   "outputs": [],
   "source": [
    "with pd.option_context(\"display.max_rows\", 5, \"display.max_columns\", None):\n",
    "    display(combined_gdf)"
   ]
  },
  {
   "cell_type": "code",
   "execution_count": null,
   "id": "9634f158-6d88-450a-87dc-0796a1f1fbd9",
   "metadata": {},
   "outputs": [],
   "source": []
  }
 ],
 "metadata": {
  "kernelspec": {
   "display_name": "Python 3 (ipykernel)",
   "language": "python",
   "name": "python3"
  },
  "language_info": {
   "codemirror_mode": {
    "name": "ipython",
    "version": 3
   },
   "file_extension": ".py",
   "mimetype": "text/x-python",
   "name": "python",
   "nbconvert_exporter": "python",
   "pygments_lexer": "ipython3",
   "version": "3.10.18"
  },
  "widgets": {
   "application/vnd.jupyter.widget-state+json": {
    "state": {},
    "version_major": 2,
    "version_minor": 0
   }
  }
 },
 "nbformat": 4,
 "nbformat_minor": 5
}
