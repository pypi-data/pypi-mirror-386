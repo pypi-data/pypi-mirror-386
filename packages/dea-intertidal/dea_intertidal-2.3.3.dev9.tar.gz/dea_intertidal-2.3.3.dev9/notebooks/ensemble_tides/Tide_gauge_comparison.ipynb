{
 "cells": [
  {
   "cell_type": "markdown",
   "id": "cfda0f0d-1996-448f-b112-f3488eee2f9a",
   "metadata": {},
   "source": [
    "# Ensemble tide model tide guage validation\n",
    "\n",
    "This code compares tides modelled using custom ensemble tide modelling against results from various other global ocean tide models at [Global Extreme Sea Level Analysis (GESLA) tide gauges](https://gesla787883612.wordpress.com/) across Australia.\n",
    "\n",
    "> Haigh, I.D., Marcos, M., Talke, S.A., Woodworth, P.L., Hunter, J.R., Hague, B.S., Arns, A., Bradshaw, E. and Thompson, P., 2023. GESLA version 3: A major update to the global higher‐frequency sea‐level dataset. Geoscience Data Journal, 10(3), pp.293-314.\n",
    "\n",
    "## Getting started\n",
    "Set working directory to top level of repo to ensure links work correctly:"
   ]
  },
  {
   "cell_type": "code",
   "execution_count": null,
   "id": "53b4f4dc-58ce-42b6-adb6-c61c41e8e3b3",
   "metadata": {},
   "outputs": [],
   "source": [
    "cd ../.."
   ]
  },
  {
   "cell_type": "markdown",
   "id": "f29a46ad-915d-462a-8942-682071b4662f",
   "metadata": {},
   "source": [
    "Install additional packages directly from the requirements file:"
   ]
  },
  {
   "cell_type": "code",
   "execution_count": null,
   "id": "fa616077-1909-48c7-a7d1-f95ada6d461c",
   "metadata": {
    "tags": []
   },
   "outputs": [],
   "source": [
    "pip install -r dev-requirements.in --quiet"
   ]
  },
  {
   "cell_type": "code",
   "execution_count": null,
   "id": "e1e6fc0c-90fc-45fd-9b94-88f5906b7af9",
   "metadata": {},
   "outputs": [],
   "source": [
    "# pip install -e /home/jovyan/Robbi/eo-tides"
   ]
  },
  {
   "cell_type": "markdown",
   "id": "dd6b1faf-155e-4cda-bb45-4c974c2c40a3",
   "metadata": {},
   "source": [
    "### Load packages"
   ]
  },
  {
   "cell_type": "code",
   "execution_count": null,
   "id": "45aa3436-d449-45bd-b009-3501ec69a0f6",
   "metadata": {
    "tags": []
   },
   "outputs": [],
   "source": [
    "%load_ext autoreload\n",
    "%autoreload 2\n",
    "\n",
    "import geopandas as gpd\n",
    "import matplotlib.pyplot as plt\n",
    "import pandas as pd\n",
    "import seaborn as sns\n",
    "from eo_tides.model import model_tides\n",
    "from eo_tides.validation import eval_metrics, load_gauge_gesla\n",
    "\n",
    "tide_model_dir = \"/var/share/tide_models/\""
   ]
  },
  {
   "cell_type": "markdown",
   "id": "bd93f63e-3c26-47b8-b591-461986ec3d4c",
   "metadata": {},
   "source": [
    "### GESLA tide guage data\n"
   ]
  },
  {
   "cell_type": "code",
   "execution_count": null,
   "id": "9829a710-cff1-404b-9d8d-16b66c156815",
   "metadata": {
    "tags": []
   },
   "outputs": [],
   "source": [
    "# # Load tide gauge metadata\n",
    "# metadata_df, metadata_gdf = _load_gauge_metadata(metadata_path=\"/gdata1/data/sea_level/GESLA3_ALL 2.csv\")\n",
    "# metadata_gdf.to_file(\"gesla_stations.geojson\")"
   ]
  },
  {
   "cell_type": "code",
   "execution_count": null,
   "id": "2770d983-6288-418f-b6ea-8064db6639ef",
   "metadata": {
    "tags": []
   },
   "outputs": [],
   "source": [
    "# Load Collection 3 summary grid\n",
    "c3_path = \"https://data.dea.ga.gov.au/derivative/ga_summary_grid_c3.geojson\"\n",
    "c3_grid = gpd.read_file(c3_path)\n",
    "xmin, ymin, xmax, ymax = c3_grid.total_bounds"
   ]
  },
  {
   "cell_type": "code",
   "execution_count": null,
   "id": "b7646fad-cac1-4c0c-9939-5a4f4a8ec5cb",
   "metadata": {
    "tags": []
   },
   "outputs": [],
   "source": [
    "# Extract tide data for all sites\n",
    "gauge_df = load_gauge_gesla(\n",
    "    x=(xmin, xmax),\n",
    "    y=(ymax, ymin),\n",
    "    time=(\"2017\", \"2019\"),\n",
    "    data_path=\"/gdata1/data/sea_level/GESLA3.0_ALL\",\n",
    "    metadata_path=\"/gdata1/data/sea_level/GESLA3_ALL 2.csv\",\n",
    ")"
   ]
  },
  {
   "cell_type": "code",
   "execution_count": null,
   "id": "558bf8ff-e5a9-47a5-bdfd-f42ccbc679c2",
   "metadata": {
    "tags": []
   },
   "outputs": [],
   "source": [
    "# Clean to restrict to Australia and remove duplicate sites/contributers\n",
    "bad_sites = (\n",
    "    \"H033007A\",  # Cape Ferguson, duplicate\n",
    "    \"H057022B\",  # Thursday Island, duplicate\n",
    "    \"PLPEE01\",  # Peel Inlet, inland\n",
    "    \"DVHAR01\",  # Harvey, inland\n",
    "    \"H060010A\",\n",
    ")  # Half Tide Tug, duplicate\n",
    "bad_contributers = (\"UHSLC\",)\n",
    "gauge_df = gauge_df.query(\n",
    "    f\"(country == 'AUS') & (site_code not in {bad_sites}) & (contributor_abbreviated not in {bad_contributers})\"\n",
    ")\n",
    "\n",
    "# Normalise to mean sea level\n",
    "gauge_df[\"sea_level\"] -= gauge_df.groupby([\"site_code\"])[\"sea_level\"].transform(\"mean\")\n",
    "\n",
    "# Select 3-hourly subset\n",
    "# gauge_df = gauge_df.iloc[::3]"
   ]
  },
  {
   "cell_type": "code",
   "execution_count": null,
   "id": "1f81e778-118c-4618-b78e-24ffe7c278f4",
   "metadata": {
    "tags": []
   },
   "outputs": [],
   "source": [
    "# Export stations being processed to file\n",
    "sites_df = gauge_df.groupby(\"site_code\").first().iloc[:, 3:]\n",
    "sites_gdf = gpd.GeoDataFrame(data=sites_df, geometry=gpd.points_from_xy(sites_df.longitude, sites_df.latitude))\n",
    "sites_gdf.to_file(\"gesla_stations_aus.geojson\")"
   ]
  },
  {
   "cell_type": "markdown",
   "id": "6079bb09-1e37-488f-9c7c-dcb50ed62d6b",
   "metadata": {},
   "source": [
    "## Model tides at each gauge"
   ]
  },
  {
   "cell_type": "code",
   "execution_count": null,
   "id": "846bd768-1dc2-4bc8-8028-6d43fe90f71a",
   "metadata": {
    "tags": []
   },
   "outputs": [],
   "source": [
    "ensemble_funcs = {\n",
    "    \"ensemble-top\": lambda x: x[\"rank\"] == 1,\n",
    "    \"ensemble-mean-top3\": lambda x: x[\"rank\"] <= 3,\n",
    "    \"ensemble-mean\": lambda x: x[\"rank\"] <= 10,\n",
    "    \"ensemble-bottom\": lambda x: x[\"rank\"] == 9,  # 10,\n",
    "    # \"ensemble-mean-top5\": lambda x: x[\"rank\"] <= 5,\n",
    "    # \"ensemble-mean-weighted\": lambda x: 8 - x[\"rank\"],\n",
    "    # \"ensemble-mean-weightedtop3\": lambda x: (4 - x[\"rank\"]).clip(0, 3),\n",
    "}\n",
    "\n",
    "# Select subset of data to model (for testing)\n",
    "# gauge_df_subset = gauge_df.head(100)\n",
    "gauge_df_subset = gauge_df\n",
    "\n",
    "tide_df = model_tides(\n",
    "    x=gauge_df_subset.longitude,\n",
    "    y=gauge_df_subset.latitude,\n",
    "    time=gauge_df_subset.index.get_level_values(\"time\"),\n",
    "    model=[\n",
    "        \"EOT20\",\n",
    "        \"FES2012\",\n",
    "        \"FES2014_extrapolated\",\n",
    "        \"FES2022_extrapolated\",\n",
    "        # \"HAMTIDE11\",\n",
    "        \"GOT4.10\",\n",
    "        \"GOT5.6_extrapolated\",\n",
    "        \"TPXO10-atlas-v2-nc\",\n",
    "        \"TPXO8-atlas-nc\",\n",
    "        \"TPXO9-atlas-v5-nc\",\n",
    "        \"ensemble\",\n",
    "    ],\n",
    "    directory=tide_model_dir,\n",
    "    mode=\"one-to-one\",\n",
    "    output_format=\"wide\",\n",
    "    ensemble_func=ensemble_funcs,\n",
    "    # ranking_points=\"/home/jovyan/Robbi/dea-intertidal/data/raw/rankings_ensemble_2017-2019.fgb\",\n",
    "    ranking_points=\"/home/jovyan/Robbi/dea-intertidal/data/raw/rankings_ensemble_2017-2019_v2.fgb\",\n",
    "    ensemble_models=[\n",
    "        \"EOT20\",\n",
    "        \"FES2012\",\n",
    "        \"FES2014_extrapolated\",\n",
    "        \"FES2022_extrapolated\",\n",
    "        # \"HAMTIDE11\",\n",
    "        \"GOT4.10\",\n",
    "        \"GOT5.6_extrapolated\",\n",
    "        \"TPXO10-atlas-v2-nc\",\n",
    "        \"TPXO8-atlas-nc\",\n",
    "        \"TPXO9-atlas-v5-nc\",\n",
    "    ],\n",
    "    p=2,\n",
    ").rename(\n",
    "    {\n",
    "        \"FES2014_extrapolated\": \"FES2014\",\n",
    "        \"FES2022_extrapolated\": \"FES2022\",\n",
    "        \"TPXO10-atlas-v2-nc\": \"TPXO10\",\n",
    "        \"TPXO8-atlas-nc\": \"TPXO8\",\n",
    "        \"TPXO9-atlas-v5-nc\": \"TPXO9\",\n",
    "        \"GOT5.6_extrapolated\": \"GOT5.6\",\n",
    "    },\n",
    "    axis=1,\n",
    ")\n",
    "tide_df"
   ]
  },
  {
   "cell_type": "markdown",
   "id": "10b688b2-a57a-409b-8f89-effab80b5c36",
   "metadata": {},
   "source": [
    "Add tide gauge data as a new column, then process back into long format:"
   ]
  },
  {
   "cell_type": "code",
   "execution_count": null,
   "id": "c578bfd5-26cc-4720-95ae-f36fd9a7d61c",
   "metadata": {
    "tags": []
   },
   "outputs": [],
   "source": [
    "# Add tide gauge data to dataframe\n",
    "tide_df[\"site_code\"] = gauge_df_subset.index.get_level_values(\"site_code\").values\n",
    "tide_df[\"site_name\"] = gauge_df_subset.site_name.values\n",
    "tide_df[\"tide_gauge\"] = gauge_df_subset.sea_level.values\n",
    "\n",
    "# Reshape to long format\n",
    "tide_df_long = tide_df.melt(\n",
    "    ignore_index=False,\n",
    "    id_vars=[\"tide_gauge\", \"site_code\", \"site_name\"],\n",
    "    value_vars=[\n",
    "        \"EOT20\",\n",
    "        \"FES2012\",\n",
    "        \"FES2014\",\n",
    "        \"FES2022\",\n",
    "        # \"HAMTIDE11\",\n",
    "        \"GOT4.10\",\n",
    "        \"GOT5.6\",\n",
    "        \"TPXO10\",\n",
    "        \"TPXO8\",\n",
    "        \"TPXO9\",\n",
    "        \"ensemble-top\",\n",
    "        \"ensemble-mean-top3\",\n",
    "        \"ensemble-mean\",\n",
    "        \"ensemble-bottom\",\n",
    "        # \"ensemble-mean-weightedtop3\",\n",
    "        # \"ensemble-mean-top5\",\n",
    "        # \"ensemble-mean-weighted\",\n",
    "    ],\n",
    "    value_name=\"tide_m\",\n",
    ")\n",
    "\n",
    "tide_df_long"
   ]
  },
  {
   "cell_type": "markdown",
   "id": "4cf18820-6407-4c3c-9935-f41307a56c78",
   "metadata": {},
   "source": [
    "### Inspect model rankings\n",
    "To do: expose these via `eo-tides` code"
   ]
  },
  {
   "cell_type": "code",
   "execution_count": null,
   "id": "50fbbeba-8db5-4184-8706-bab705f0da41",
   "metadata": {},
   "outputs": [],
   "source": [
    "# from eo_tides.utils import idw\n",
    "\n",
    "# ensemble_func=None\n",
    "# ensemble_top_n=3\n",
    "# ranking_points=\"https://dea-public-data-dev.s3-ap-southeast-2.amazonaws.com/derivative/dea_intertidal/supplementary/rankings_ensemble_2017-2019.fgb\"\n",
    "# ranking_valid_perc=0.02\n",
    "# crs=\"EPSG:4326\"\n",
    "\n",
    "\n",
    "# # Extract x and y coords from dataframe\n",
    "# x = [145.2228178]\n",
    "# y = [-38.3739033]\n",
    "\n",
    "# # Load model ranks points and reproject to same CRS as x and y\n",
    "# ensemble_models = [\n",
    "#                 \"EOT20\",\n",
    "#                 \"FES2012\",\n",
    "#                 \"FES2014_extrapolated\",\n",
    "#                 \"FES2022_extrapolated\",\n",
    "#                 \"GOT4.10\",\n",
    "#                 \"GOT5.6_extrapolated\",\n",
    "#                 \"TPXO10-atlas-v2-nc\",\n",
    "#                 \"TPXO8-atlas-nc\",\n",
    "#                 \"TPXO9-atlas-v5-nc\",\n",
    "#             ]\n",
    "# model_ranking_cols = [f\"rank_{m}\" for m in ensemble_models]\n",
    "\n",
    "# model_ranks_gdf = (\n",
    "#     gpd.read_file(ranking_points, engine=\"pyogrio\")\n",
    "#     .to_crs(crs)\n",
    "#     .query(f\"valid_perc > {ranking_valid_perc}\")\n",
    "#     .dropna(how=\"all\")[model_ranking_cols + [\"geometry\"]]\n",
    "# )\n",
    "\n",
    "\n",
    "# # Use points to interpolate model rankings into requested x and y\n",
    "# idw_kwargs = {\"p\": 2}\n",
    "# id_kwargs_str = \"\" if idw_kwargs == {} else idw_kwargs\n",
    "# print(f\"Interpolating model rankings using IDW interpolation {id_kwargs_str}\")\n",
    "# ensemble_ranks_df = (\n",
    "#     # Run IDW interpolation on subset of ranking columns\n",
    "#     pd.DataFrame(\n",
    "#         idw(\n",
    "#             input_z=model_ranks_gdf[model_ranking_cols],\n",
    "#             input_x=model_ranks_gdf.geometry.x,\n",
    "#             input_y=model_ranks_gdf.geometry.y,\n",
    "#             output_x=x,\n",
    "#             output_y=y,\n",
    "#             **idw_kwargs,\n",
    "#         ),\n",
    "#         columns=model_ranking_cols,\n",
    "#     )\n",
    "#     .assign(x=x, y=y)\n",
    "#     # Drop any duplicates then melt columns into long format\n",
    "#     .drop_duplicates()\n",
    "#     .melt(id_vars=[\"x\", \"y\"], var_name=\"tide_model\", value_name=\"rank\")\n",
    "#     # Remore \"rank_\" prefix to get plain model names\n",
    "#     .replace({\"^rank_\": \"\"}, regex=True)\n",
    "#     # Set index columns and rank across groups\n",
    "#     .set_index([\"tide_model\", \"x\", \"y\"])\n",
    "#     .groupby([\"x\", \"y\"])\n",
    "#     .rank()\n",
    "# )\n",
    "# ensemble_ranks_df.sort_values(\"rank\").index"
   ]
  },
  {
   "cell_type": "markdown",
   "id": "602d59d6-0eae-4324-acbf-b8ba711f9c6d",
   "metadata": {},
   "source": [
    "## Analysis\n"
   ]
  },
  {
   "cell_type": "markdown",
   "id": "a3015aa4-5919-44a0-9dfd-64eed7bfd1f3",
   "metadata": {
    "tags": []
   },
   "source": [
    "### Overall accuracy stats for each model"
   ]
  },
  {
   "cell_type": "code",
   "execution_count": null,
   "id": "802191f0-0dc8-4741-a85e-a3c752ec25b5",
   "metadata": {
    "tags": []
   },
   "outputs": [],
   "source": [
    "accuracy_df = tide_df_long.groupby([\"tide_model\"])[[\"tide_gauge\", \"tide_m\"]].apply(\n",
    "    lambda x: eval_metrics(x=x.tide_gauge, y=x.tide_m, round=4)\n",
    ")\n",
    "\n",
    "accuracy_df.to_csv(\"data/figures/all_gauges.csv\")\n",
    "\n",
    "accuracy_df.sort_values(\"RMSE\").style.background_gradient(\n",
    "    cmap=\"RdBu_r\",\n",
    "    subset=[\"RMSE\"],\n",
    ")"
   ]
  },
  {
   "cell_type": "markdown",
   "id": "535a0375-3e37-48d0-aa1c-7987e63a5bb2",
   "metadata": {
    "tags": []
   },
   "source": [
    "### Model stats per site"
   ]
  },
  {
   "cell_type": "code",
   "execution_count": null,
   "id": "33d81da7-844d-417b-b644-cfcb584b9792",
   "metadata": {
    "tags": []
   },
   "outputs": [],
   "source": [
    "accuracy_sites_df = (\n",
    "    tide_df_long.query(\"site_name != 'Lord_Howe_Island'\")\n",
    "    .groupby([\"site_name\", \"tide_model\"])[[\"tide_gauge\", \"tide_m\"]]\n",
    "    .apply(lambda x: eval_metrics(x=x.tide_gauge, y=x.tide_m, round=4))\n",
    ")"
   ]
  },
  {
   "cell_type": "markdown",
   "id": "aa7f1840-e948-4ef4-9c06-29dc5bb6bae0",
   "metadata": {},
   "source": [
    "#### Performance at sites with most model disagreement"
   ]
  },
  {
   "cell_type": "code",
   "execution_count": null,
   "id": "a4b016b8-fa4d-4bb5-b18a-ecb1825a41be",
   "metadata": {
    "tags": []
   },
   "outputs": [],
   "source": [
    "# Standard models\n",
    "default_models = [\n",
    "    \"EOT20\",\n",
    "    \"FES2012\",\n",
    "    \"FES2014\",\n",
    "    \"FES2022\",\n",
    "    # \"HAMTIDE11\",\n",
    "    \"GOT4.10\",\n",
    "    \"GOT5.6\",\n",
    "    \"TPXO10\",\n",
    "    \"TPXO8\",\n",
    "    \"TPXO9\",\n",
    "]\n",
    "\n",
    "# Calculate threshold\n",
    "n_sites = len(accuracy_sites_df.index.droplevel(\"tide_model\").unique())\n",
    "threshold = int(n_sites * 0.2)\n",
    "\n",
    "# Identify sites with worst performance (highest RMSE)\n",
    "most_disagrement = (\n",
    "    accuracy_sites_df.query(\"tide_model in @default_models\")\n",
    "    .groupby(\"site_name\")[\"RMSE\"]\n",
    "    .mean()\n",
    "    .nlargest(threshold)\n",
    "    .index\n",
    ")\n",
    "most_disagrement"
   ]
  },
  {
   "cell_type": "code",
   "execution_count": null,
   "id": "aac0dded-9cfc-4f9c-9128-3960668a3314",
   "metadata": {
    "tags": []
   },
   "outputs": [],
   "source": [
    "accuracy_df = (\n",
    "    tide_df_long.query(\"site_name in @most_disagrement\")\n",
    "    .groupby([\"tide_model\"])[[\"tide_gauge\", \"tide_m\"]]\n",
    "    .apply(lambda x: eval_metrics(x=x.tide_gauge, y=x.tide_m, round=4))\n",
    ")\n",
    "\n",
    "accuracy_df.to_csv(\"data/figures/worst_gauges.csv\")\n",
    "\n",
    "accuracy_df.sort_values(\"RMSE\").style.background_gradient(\n",
    "    cmap=\"RdBu_r\",\n",
    "    subset=[\"RMSE\"],\n",
    ")"
   ]
  },
  {
   "cell_type": "markdown",
   "id": "bec1ecdb-a857-456a-be21-79bb9c0e6412",
   "metadata": {},
   "source": [
    "#### Facetted plot for a single site\n",
    "\n",
    "Good sites: \n",
    "* 'Port_Alma'\n",
    "* 'Western_Port_Stony_Point'\n",
    "* 'Port_Welshpool_Pier'"
   ]
  },
  {
   "cell_type": "code",
   "execution_count": null,
   "id": "9dc036ef-a9a7-4c10-a349-55886973eee2",
   "metadata": {},
   "outputs": [],
   "source": [
    "tide_df_site"
   ]
  },
  {
   "cell_type": "code",
   "execution_count": null,
   "id": "5e0a1418-4033-4f28-a104-858b5ff7bd81",
   "metadata": {},
   "outputs": [],
   "source": [
    "# Create faceted scatterplot\n",
    "site_name = most_disagrement[9]\n",
    "\n",
    "# Select data\n",
    "# tide_df_site = tide_df_long.query(\"site_name == @site_name\").copy()\n",
    "\n",
    "# Pick first row as template and set dummy value\n",
    "dummy = tide_df_site.iloc[0].copy()\n",
    "dummy[\"tide_model\"] = \"\"\n",
    "tide_df_site = pd.concat([tide_df_site, pd.DataFrame([dummy], index=[tide_df_site.index[0]])])\n",
    "\n",
    "# Custom sorting\n",
    "order = [\n",
    "    \"FES2022\",\n",
    "    \"TPXO10\",\n",
    "    \"TPXO9\",\n",
    "    \"TPXO8\",\n",
    "    \"FES2012\",\n",
    "    \"GOT4.10\",\n",
    "    \"GOT5.6\",\n",
    "    \"EOT20\",\n",
    "    \"FES2014\",\n",
    "    \"\",\n",
    "    \"ensemble-top\",\n",
    "    \"ensemble-mean-top3\",\n",
    "    \"ensemble-mean\",\n",
    "    \"ensemble-bottom\",\n",
    "]\n",
    "tide_df_site[\"tide_model\"] = pd.Categorical(tide_df_site[\"tide_model\"], categories=order, ordered=True)\n",
    "\n",
    "g = sns.FacetGrid(tide_df_site, col=\"tide_model\", col_wrap=5, height=2, aspect=0.83)\n",
    "g.fig.subplots_adjust(wspace=0.05, hspace=0.05)\n",
    "\n",
    "\n",
    "def hexbin(x, y, color, **kwargs):\n",
    "    cmap = \"Blues\"  # sns.light_palette(color, as_cmap=True)\n",
    "    plt.hexbin(\n",
    "        x,\n",
    "        y,\n",
    "        gridsize=40,\n",
    "        cmap=cmap,\n",
    "        mincnt=1,\n",
    "        bins=\"log\",\n",
    "        linewidths=0,\n",
    "        edgecolors=\"black\",\n",
    "        extent=(-1.9, 1.9, -1.9, 1.9),\n",
    "        **kwargs,\n",
    "    )\n",
    "\n",
    "\n",
    "g.map_dataframe(hexbin, x=\"tide_gauge\", y=\"tide_m\")\n",
    "\n",
    "\n",
    "def one_to_one_line(**kwargs):\n",
    "    ax = plt.gca()\n",
    "    lims = [min(ax.get_xlim()[0], ax.get_ylim()[0]), max(ax.get_xlim()[1], ax.get_ylim()[1])]\n",
    "    ax.plot(lims, lims, ls=\"--\", linewidth=0.8, c=\"black\")\n",
    "\n",
    "\n",
    "g.map(one_to_one_line)\n",
    "\n",
    "\n",
    "g.set_titles(\"{col_name}\")\n",
    "g.set_axis_labels(\"\", \"\")\n",
    "g.figure.supxlabel(\"Observed tide height (m)\")\n",
    "g.figure.supylabel(\"Modelled tide height (m)\", x=0)\n",
    "\n",
    "# plt.suptitle(site_name.replace(\"_\", \" \"), y=1.02)\n",
    "g.set(ylim=(-1.9, 1.9), xlim=(-1.9, 1.9))\n",
    "\n",
    "labels = [f\"Ranking: {i}\" for i in range(1, 11)] + [\"FES2022\", \"  FES2022, TPXO10, TPXO9\", \"All models\", \"FES2014\"]\n",
    "\n",
    "for i, ax in enumerate(g.axes.flat):\n",
    "    ax.set_xticks([-1.5, 0, 1.5])\n",
    "    ax.set_yticks([-1.5, 0, 1.5])\n",
    "    ax.text(0, 1.7, labels[i], fontsize=7, horizontalalignment=\"center\", verticalalignment=\"center\")"
   ]
  },
  {
   "cell_type": "code",
   "execution_count": null,
   "id": "ebfe9840-b048-4508-8705-24bfec0d433f",
   "metadata": {},
   "outputs": [],
   "source": [
    "g.savefig(\"data/figures/figure_scatterplot.png\", bbox_inches=\"tight\", dpi=200)"
   ]
  },
  {
   "cell_type": "markdown",
   "id": "d5496769-3a2b-4cdd-8c1f-615e771685cc",
   "metadata": {},
   "source": [
    "#### Top results per site per model"
   ]
  },
  {
   "cell_type": "code",
   "execution_count": null,
   "id": "0b21f9fe-345e-4a77-9a44-402376bdbb1e",
   "metadata": {
    "tags": []
   },
   "outputs": [],
   "source": [
    "accuracy_sites_df.loc[accuracy_sites_df.groupby(\"site_name\").RMSE.idxmin()].reset_index().tide_model.value_counts()"
   ]
  },
  {
   "cell_type": "code",
   "execution_count": null,
   "id": "b80d9114-c9b9-4677-a1ec-baa4f288846b",
   "metadata": {
    "tags": []
   },
   "outputs": [],
   "source": [
    "# Excluding EOT20\n",
    "accuracy_sites_df.loc[\n",
    "    accuracy_sites_df.query(\"tide_model not in ['EOT20']\").groupby(\"site_name\").RMSE.idxmin()\n",
    "].reset_index().tide_model.value_counts()"
   ]
  },
  {
   "cell_type": "markdown",
   "id": "62aba705-e20e-49ce-ab97-04f363b9db0c",
   "metadata": {},
   "source": [
    "#### Bottom results per site per model"
   ]
  },
  {
   "cell_type": "code",
   "execution_count": null,
   "id": "77c69725-972c-49b6-a804-c7a3134e5b8d",
   "metadata": {
    "tags": []
   },
   "outputs": [],
   "source": [
    "accuracy_sites_df.loc[accuracy_sites_df.groupby(\"site_name\").RMSE.idxmax()].reset_index().tide_model.value_counts()"
   ]
  },
  {
   "cell_type": "code",
   "execution_count": null,
   "id": "daf93a0e-16df-45db-b792-28f091055d8b",
   "metadata": {},
   "outputs": [],
   "source": [
    "rank_counts = (\n",
    "    accuracy_sites_df.groupby(\"site_name\")\n",
    "    .RMSE.rank(method=\"min\")\n",
    "    .groupby(\"tide_model\")\n",
    "    .value_counts()\n",
    "    .rename_axis([\"tide_model\", \"Rank (RMSE)\"])\n",
    ")\n",
    "rank_counts"
   ]
  },
  {
   "cell_type": "markdown",
   "id": "12315e89-e14f-454d-9568-d2e1cd5c946e",
   "metadata": {},
   "source": [
    "#### Plot rankings as histogram"
   ]
  },
  {
   "cell_type": "code",
   "execution_count": null,
   "id": "c43482ce-ba85-48d4-9bf5-ba269dcd18f4",
   "metadata": {
    "tags": []
   },
   "outputs": [],
   "source": [
    "rank_counts = (\n",
    "    accuracy_sites_df.groupby(\"site_name\")\n",
    "    .RMSE.rank(method=\"min\")\n",
    "    .groupby(\"tide_model\")\n",
    "    .value_counts()\n",
    "    .rename_axis([\"tide_model\", \"Rank (RMSE)\"])\n",
    ")\n",
    "\n",
    "g = sns.FacetGrid(\n",
    "    rank_counts.to_frame().reset_index(),\n",
    "    col_order=[\n",
    "        \"EOT20\",\n",
    "        \"FES2012\",\n",
    "        \"FES2014\",\n",
    "        \"FES2022\",\n",
    "        \"HAMTIDE11\",\n",
    "        \"GOT4.10\",\n",
    "        \"GOT5.6\",\n",
    "        \"TPXO10\",\n",
    "        \"TPXO8\",\n",
    "        \"TPXO9\",\n",
    "        \"ensemble-top\",\n",
    "        \"ensemble-bottom\",\n",
    "        \"ensemble-mean-top3\",\n",
    "        \"ensemble-mean\",\n",
    "        \"ensemble-mean-weightedtop3\",\n",
    "    ],\n",
    "    col=\"tide_model\",\n",
    "    col_wrap=3,\n",
    "    aspect=1.5,\n",
    "    height=3,\n",
    ")\n",
    "g.set_titles(col_template=\"{col_name}\")\n",
    "g.map(sns.barplot, \"Rank (RMSE)\", \"count\")"
   ]
  },
  {
   "cell_type": "markdown",
   "id": "2b2494d3-f70a-4ab2-aabf-ef0fea9c66b0",
   "metadata": {},
   "source": [
    "### Export tide validation plots"
   ]
  },
  {
   "cell_type": "code",
   "execution_count": null,
   "id": "c6372ce4-a0ff-4f16-876c-33516e45039b",
   "metadata": {
    "tags": []
   },
   "outputs": [],
   "source": [
    "# # Calculate tide range per site\n",
    "# tide_range = (\n",
    "#     tide_df_long.groupby(\"site_name\")[\"tide_gauge\"]\n",
    "#     .apply(lambda x: np.abs(x).max())\n",
    "#     .sort_values()\n",
    "# )\n",
    "\n",
    "# Select subset\n",
    "# sites, limits, title = tide_range.loc[tide_range >= 2].index, 5, \"Macrotidal sites\"\n",
    "# sites, limits, title = tide_range.loc[(tide_range >= 1) & (tide_range < 2)].index, 2, \"Mesotidal sites\"\n",
    "# sites, limits, title = tide_range.loc[tide_range < 1].index, 1, \"Microtidal sites\"\n",
    "\n",
    "# Optionally restrict to subset\n",
    "site_filter = [\n",
    "    # \"DYDBY01\",\n",
    "    # \"63090\",\n",
    "    # \"59511\",\n",
    "    # \"59510\",\n",
    "    # \"61800\",\n",
    "    # \"59690\",\n",
    "    # \"61840\",\n",
    "    # \"61600\",\n",
    "    # \"58170\",\n",
    "    # \"60780\",\n",
    "    # \"60739\",\n",
    "    # \"60590\",\n",
    "    # \"63511\",\n",
    "    # \"59980\",\n",
    "    # \"60710\",\n",
    "    # \"60730\",\n",
    "    \"59850\",\n",
    "]\n",
    "site_filter = most_disagrement.tolist()\n",
    "# site_filter = [\"Milner_Bay_Groote_Eylandt\"]\n",
    "sites, limits, title = site_filter, 3, \"Problematic sites\"\n",
    "models_to_plot = [\"EOT20\", \"FES2012\", \"FES2014\", \"GOT4.10\", \"HAMTIDE11\", \"TPXO9\", \"TPXO8\", \"ensemble-mean-top3\"]\n",
    "\n",
    "# Plot facetted\n",
    "g = sns.FacetGrid(\n",
    "    tide_df_long.query(f\"(site_name in {sites}) & (tide_model in @models_to_plot)\").reset_index(),\n",
    "    col=\"tide_model\",\n",
    "    row=\"site_name\",\n",
    "    margin_titles=True,\n",
    "    # xlim=(-limits, limits),\n",
    "    # ylim=(-limits, limits),\n",
    ")\n",
    "g.fig.suptitle(title, size=20)\n",
    "g.set_titles(row_template=\"{row_name}\", col_template=\"{col_name}\")\n",
    "g.map(sns.scatterplot, \"tide_gauge\", \"tide_m\", alpha=0.1, linewidth=0, s=3)\n",
    "for a in g.axes.flat:\n",
    "    a.plot([-limits, limits], [-limits, limits], \"--\", c=\"black\")\n",
    "g.savefig(f\"{title.replace(' ', '')}.jpg\")"
   ]
  }
 ],
 "metadata": {
  "kernelspec": {
   "display_name": "Python 3 (ipykernel)",
   "language": "python",
   "name": "python3"
  },
  "language_info": {
   "codemirror_mode": {
    "name": "ipython",
    "version": 3
   },
   "file_extension": ".py",
   "mimetype": "text/x-python",
   "name": "python",
   "nbconvert_exporter": "python",
   "pygments_lexer": "ipython3",
   "version": "3.10.18"
  },
  "widgets": {
   "application/vnd.jupyter.widget-state+json": {
    "state": {},
    "version_major": 2,
    "version_minor": 0
   }
  }
 },
 "nbformat": 4,
 "nbformat_minor": 5
}
