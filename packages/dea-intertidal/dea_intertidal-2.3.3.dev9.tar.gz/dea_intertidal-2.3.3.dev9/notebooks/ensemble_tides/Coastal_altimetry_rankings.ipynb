{
 "cells": [
  {
   "cell_type": "markdown",
   "id": "bce34de5-c7ce-457c-9f02-f0688fa05e42",
   "metadata": {},
   "source": [
    "# Coastal altimetry tide model rankings\n",
    "\n",
    "This code compares multiple global ocean tide models against satellite altimetry data, and returns tide model performance and rankings in a standardised format for further analysis.\n",
    "\n",
    "X-Track coastal altimetry data (v2.1, [10.24400/527896/a01-2022.020](doi.org/10.24400/527896/a01-2022.020)) used in this study were developed, validated by the CTOH/LEGOS, France and distributed by Aviso+.\n",
    "\n",
    "> Birol, F., N. Fuller, F. Lyard, M. Cancet, F. Niño, C. Delebecque, S. Fleury, F. Toublanc, A. Melet, M. Saraceno, F. Léger, 2017. “Coastal Applications from Nadir Altimetry: Example of the X-TRACK Regional Products.” Advances in Space Research, 2017, 59 (4), p.936-953. doi:10.1016/j.asr.2016.11.005\n",
    "\n",
    "## Getting started\n",
    "Set working directory to top level of repo to ensure links work correctly:"
   ]
  },
  {
   "cell_type": "code",
   "execution_count": null,
   "id": "6c9907dc-c0d2-4b2e-8cbb-bb3a2bc15f08",
   "metadata": {},
   "outputs": [],
   "source": [
    "cd ../.."
   ]
  },
  {
   "cell_type": "markdown",
   "id": "84d7a4ad-48db-45a3-9474-a66e5f91d7df",
   "metadata": {},
   "source": [
    "Install additional packages directly from the requirements file"
   ]
  },
  {
   "cell_type": "code",
   "execution_count": null,
   "id": "d67433e6-0408-40d1-be61-db49c52f88dc",
   "metadata": {},
   "outputs": [],
   "source": [
    "pip install -r requirements.in --quiet"
   ]
  },
  {
   "cell_type": "markdown",
   "id": "883a854d-c2cf-4f74-9971-2903b774b40e",
   "metadata": {},
   "source": [
    "### Load packages"
   ]
  },
  {
   "cell_type": "code",
   "execution_count": null,
   "id": "833a4032-9b0e-451c-bd13-812a09f6f592",
   "metadata": {
    "tags": []
   },
   "outputs": [],
   "source": [
    "%load_ext autoreload\n",
    "%autoreload 2\n",
    "\n",
    "import datetime\n",
    "import glob\n",
    "\n",
    "import geopandas as gpd\n",
    "import numpy as np\n",
    "import pandas as pd\n",
    "import tqdm\n",
    "import xarray as xr\n",
    "from eo_tides.model import model_tides\n",
    "\n",
    "# Set paths to data\n",
    "tide_model_dir = \"/var/share/tide_models/\"\n",
    "altimetry_path = \"/gdata1/data/altimetry/X-TRACK 2.2\"\n",
    "\n",
    "# Models to run\n",
    "models = [\n",
    "    \"EOT20\",\n",
    "    \"FES2012\",\n",
    "    \"FES2014_extrapolated\",\n",
    "    \"FES2022_extrapolated\",\n",
    "    \"HAMTIDE11\",\n",
    "    \"GOT4.10\",\n",
    "    \"GOT5.6_extrapolated\",\n",
    "    \"TPXO10-atlas-v2-nc\",\n",
    "    \"TPXO8-atlas-nc\",\n",
    "    \"TPXO9-atlas-v5-nc\",\n",
    "]"
   ]
  },
  {
   "cell_type": "markdown",
   "id": "d64f0ae2-e1e0-451f-bccb-78e8921c0964",
   "metadata": {},
   "source": [
    "### Preprocess altimetry data"
   ]
  },
  {
   "cell_type": "code",
   "execution_count": null,
   "id": "e602e07f-8a45-408b-a9be-e9a8a9604ada",
   "metadata": {
    "tags": []
   },
   "outputs": [],
   "source": [
    "# Load Collection 3 summary grid, reproject to Albers\n",
    "c3_path = \"https://data.dea.ga.gov.au/derivative/ga_summary_grid_c3.geojson\"\n",
    "c3_grid = gpd.read_file(c3_path)\n",
    "xmin, ymin, xmax, ymax = c3_grid.total_bounds\n",
    "\n",
    "# Choose which data to load\n",
    "# paths = glob.glob(f\"{altimetry_path}/ctoh.sla.ref.*.nc\")  # All files\n",
    "paths = glob.glob(f\"{altimetry_path}/ctoh.sla.ref.S3*.nc\")  # Sentinel-3 only\n",
    "# paths = glob.glob(f\"{altimetry_path}/ctoh.sla.ref.TP+*.nc\")  # Topex/Jason-1/Jason-2/Jason-3\n",
    "# paths = glob.glob(f\"{altimetry_path}/ctoh.sla.ref.TPN*.nc\")  # Topex/Jason-1/Jason-2 Interleaved orbit\n",
    "# paths = glob.glob(f\"{altimetry_path}/ctoh.sla.ref.TP*.nc\")  # All Topex/Jason-1/Jason-2/Jason-3\n",
    "# paths = glob.glob(f\"{altimetry_path}/ctoh.sla.ref.ERS1*.nc\")  # ERS-1/ERS-2/Envisat/SARAL/AltiKa\n",
    "# paths = glob.glob(f\"{altimetry_path}/ctoh.sla.ref.HY2*.nc\")  # Haiyang-2A\n",
    "# paths = glob.glob(f\"{altimetry_path}/ctoh.sla.ref.GFO*.nc\")  # Geosat Follow On\n",
    "\n",
    "out = []\n",
    "\n",
    "for path in tqdm.tqdm(paths):\n",
    "    ds = xr.open_dataset(path, decode_times=False)\n",
    "    ds_clean = (\n",
    "        ds[[\"time\", \"ocean_tide\", \"sla\", \"solid_tide\", \"mssh\"]]\n",
    "        # Subset to study area\n",
    "        .sel(points_numbers=(ds.lon > xmin) & (ds.lon < xmax) & (ds.lat > ymin) & (ds.lat < ymax))\n",
    "        # Combine point and cycle dimensions into a single \"z\" dim\n",
    "        # so we can convert to a table-like dataframe\n",
    "        .stack({\"z\": [\"points_numbers\", \"cycles_numbers\"]})\n",
    "        .to_dataframe()\n",
    "        # Add satellite series and pass info as a variable (combining S3)\n",
    "        .assign(pass_number=ds.Pass, satellites=path.split(\"/\")[-1].split(\".\")[3])\n",
    "        .replace({\"satellites\": {\"S3A\": \"S3\", \"S3B\": \"S3\"}})\n",
    "        # Remove any rows with missing Sea Level Anomaly or tide data\n",
    "        .dropna(how=\"any\", axis=0, subset=[\"sla\", \"ocean_tide\"])\n",
    "        .reset_index(drop=True)\n",
    "    )\n",
    "    out.append(ds_clean)\n",
    "\n",
    "# Combine\n",
    "df = pd.concat(out, axis=0)\n",
    "\n",
    "# Fix time\n",
    "df[\"time\"] = datetime.datetime(1950, 1, 1) + pd.to_timedelta(df.time, unit=\"days\")\n",
    "\n",
    "# Remove duplicates\n",
    "df = df.loc[~df[[\"time\", \"lat\", \"lon\"]].duplicated()]"
   ]
  },
  {
   "cell_type": "markdown",
   "id": "e26f68ea-f5a6-4858-ba01-5ac04d721383",
   "metadata": {},
   "source": [
    "#### Select subset"
   ]
  },
  {
   "cell_type": "code",
   "execution_count": null,
   "id": "c9b018b4-1327-4a90-9a12-a3bb5d7c3127",
   "metadata": {
    "tags": []
   },
   "outputs": [],
   "source": [
    "# Select subset\n",
    "# df_subset = df\n",
    "# df_subset = df.iloc[::1000]\n",
    "# df_subset = df.iloc[0:30000]\n",
    "# df_subset = df_subset.iloc[0:100000]\n",
    "# df_subset = df.query(\"lon==111.84197313580249\")\n",
    "df_subset = df.loc[(df.time >= \"2017\") & (df.time < \"2020\")]\n",
    "\n",
    "# Preview\n",
    "df_subset"
   ]
  },
  {
   "cell_type": "markdown",
   "id": "3c929a75-aa9d-43a2-bc14-73740b1e4ac6",
   "metadata": {},
   "source": [
    "## Tide modelling"
   ]
  },
  {
   "cell_type": "code",
   "execution_count": null,
   "id": "b7ad732b-60ed-4b7e-9ead-6066167eb059",
   "metadata": {
    "tags": []
   },
   "outputs": [],
   "source": [
    "%%time\n",
    "tide_df = model_tides(\n",
    "    x=df_subset.lon,\n",
    "    y=df_subset.lat,\n",
    "    time=df_subset.time,\n",
    "    model=models,\n",
    "    mode=\"one-to-one\",\n",
    "    output_format=\"wide\",\n",
    "    directory=tide_model_dir,\n",
    "    crop_buffer=5,\n",
    ")\n",
    "tide_df"
   ]
  },
  {
   "cell_type": "markdown",
   "id": "5138523a-da55-4b24-8cbe-1daeedc47d95",
   "metadata": {},
   "source": [
    "### Apply tide correction using each model"
   ]
  },
  {
   "cell_type": "code",
   "execution_count": null,
   "id": "3e925fdc-128c-428d-a444-2a6acf069529",
   "metadata": {
    "tags": []
   },
   "outputs": [],
   "source": [
    "# Add non-tide corrected SLA data to dataframe\n",
    "tide_df[\"sla_notidecorr\"] = (df_subset.sla + df_subset.ocean_tide).values\n",
    "\n",
    "# Add satellite annotation\n",
    "tide_df[\"satellites\"] = df_subset.satellites.values\n",
    "\n",
    "# Reshape to long format\n",
    "tide_df_long = tide_df.melt(\n",
    "    ignore_index=False,\n",
    "    id_vars=[\"satellites\", \"sla_notidecorr\"],\n",
    "    value_vars=models,\n",
    "    value_name=\"tide_m\",\n",
    ")\n",
    "\n",
    "# Re-apply tide correction with each of our models\n",
    "tide_df_long[\"sla_tidecorr\"] = tide_df_long.sla_notidecorr - tide_df_long.tide_m\n",
    "tide_df_long"
   ]
  },
  {
   "cell_type": "markdown",
   "id": "53561d68-1b8d-442f-8fad-fb68605ee700",
   "metadata": {},
   "source": [
    "### Calculate RMS error at every point and model"
   ]
  },
  {
   "cell_type": "code",
   "execution_count": null,
   "id": "2e607e27-9751-45ce-90bd-25f18fefa590",
   "metadata": {
    "tags": []
   },
   "outputs": [],
   "source": [
    "# Set Sentinel-3A and B to be the same\n",
    "tide_df_long[\"satellites\"] = tide_df_long.satellites.replace([\"S3A\", \"S3B\"], \"S3\")\n",
    "\n",
    "# Calculate RMS for every model at each point\n",
    "tide_df_long[\"sla_tidecorr_sq\"] = tide_df_long[[\"sla_tidecorr\"]] ** 2\n",
    "df_rms = (\n",
    "    np.sqrt(tide_df_long.groupby([\"x\", \"y\", \"tide_model\", \"satellites\"])[[\"sla_tidecorr_sq\"]].mean())\n",
    "    .unstack(\"tide_model\")[\"sla_tidecorr_sq\"]\n",
    "    .reset_index()\n",
    ")\n",
    "df_rms"
   ]
  },
  {
   "cell_type": "markdown",
   "id": "80cc9306-e143-4b13-82ea-3ed9a7b1ebf9",
   "metadata": {},
   "source": [
    "### Filter to points with sufficient observations"
   ]
  },
  {
   "cell_type": "code",
   "execution_count": null,
   "id": "be5e9f10-0879-492b-ba25-eb6660a5d039",
   "metadata": {
    "tags": []
   },
   "outputs": [],
   "source": [
    "# Add number of observed timesteps\n",
    "df_rms[\"n\"] = (tide_df_long.query(\"tide_model == 'EOT20'\").groupby([\"x\", \"y\", \"satellites\"]).size()).values\n",
    "\n",
    "# Filter to observations with three years of data\n",
    "df_rms = df_rms.query(\"n > 20\")\n",
    "df_rms"
   ]
  },
  {
   "cell_type": "markdown",
   "id": "72dc01cf-b997-478f-9dae-07f49f45dd99",
   "metadata": {},
   "source": [
    "### Process to standard format"
   ]
  },
  {
   "cell_type": "code",
   "execution_count": null,
   "id": "d0fec5e2-cbfc-46ac-9162-13775d3e5527",
   "metadata": {
    "tags": []
   },
   "outputs": [],
   "source": [
    "combined_df = (\n",
    "    df_rms.rename_axis(\"point_id\")\n",
    "    .assign(valid_perc=1.0, statistic=\"rms\")\n",
    "    .rename({\"satellites\": \"source\"}, axis=1)\n",
    "    .reindex([\"x\", \"y\", \"valid_perc\", \"source\", \"statistic\"] + models, axis=1)\n",
    ")\n",
    "\n",
    "# Update source\n",
    "combined_df[\"source\"] = \"x-track altimetry (\" + combined_df.source + \")\"\n",
    "\n",
    "# Add additional columns\n",
    "combined_df[\"min\"] = combined_df.loc[:, models].min(axis=1)\n",
    "combined_df[\"max\"] = combined_df.loc[:, models].max(axis=1)\n",
    "combined_df[\"diff\"] = combined_df[\"max\"] - combined_df[\"min\"]\n",
    "combined_df[\"ave\"] = combined_df.loc[:, models].mean(axis=1)\n",
    "combined_df[\"median\"] = combined_df.loc[:, models].median(axis=1)\n",
    "combined_df[\"std\"] = combined_df.loc[:, models].std(axis=1)\n",
    "combined_df[\"missing\"] = combined_df.loc[:, models].isna().sum(axis=1)\n",
    "\n",
    "# Calculate ranks and best/worst models\n",
    "combined_df = pd.concat(\n",
    "    [combined_df, combined_df.loc[:, models].rank(axis=1, ascending=True).add_prefix(\"rank_\")], axis=1\n",
    ")\n",
    "combined_df[\"top_model\"] = combined_df.filter(regex=\"^rank\").idxmin(axis=1).str[5:]\n",
    "combined_df[\"worst_model\"] = combined_df.filter(regex=\"^rank\").idxmax(axis=1).str[5:]\n",
    "combined_df"
   ]
  },
  {
   "cell_type": "markdown",
   "id": "80a163da-85f1-4007-a606-65f97933f0fa",
   "metadata": {},
   "source": [
    "### Export"
   ]
  },
  {
   "cell_type": "code",
   "execution_count": null,
   "id": "c0381fde-aad4-409d-b416-e8f054dd9a7b",
   "metadata": {},
   "outputs": [],
   "source": [
    "# pip install pyogrio"
   ]
  },
  {
   "cell_type": "code",
   "execution_count": null,
   "id": "7db85737-96f7-48c4-8c04-9951aad7eb34",
   "metadata": {
    "tags": []
   },
   "outputs": [],
   "source": [
    "# Export to GeoJSON\n",
    "xtrack_rms_gdf = gpd.GeoDataFrame(\n",
    "    data=combined_df,\n",
    "    geometry=gpd.points_from_xy(x=combined_df.x, y=combined_df.y),\n",
    "    crs=\"EPSG:4326\",\n",
    ")\n",
    "xtrack_rms_gdf.to_file(\"data/raw/rankings_altimetry_2017-2019_v2.fgb\", engine=\"pyogrio\")"
   ]
  },
  {
   "cell_type": "code",
   "execution_count": null,
   "id": "3678a26f-20e2-46fe-a6d3-85f43ec3bbb6",
   "metadata": {},
   "outputs": [],
   "source": []
  }
 ],
 "metadata": {
  "kernelspec": {
   "display_name": "Python 3 (ipykernel)",
   "language": "python",
   "name": "python3"
  },
  "language_info": {
   "codemirror_mode": {
    "name": "ipython",
    "version": 3
   },
   "file_extension": ".py",
   "mimetype": "text/x-python",
   "name": "python",
   "nbconvert_exporter": "python",
   "pygments_lexer": "ipython3",
   "version": "3.10.18"
  },
  "widgets": {
   "application/vnd.jupyter.widget-state+json": {
    "state": {},
    "version_major": 2,
    "version_minor": 0
   }
  }
 },
 "nbformat": 4,
 "nbformat_minor": 5
}
