{
 "cells": [
  {
   "cell_type": "markdown",
   "id": "dfda954d",
   "metadata": {
    "tags": []
   },
   "source": [
    "# Digital Earth Australia Intertidal Command Line Interfaces (CLI)\n",
    "\n",
    "This notebook demonstrates how to call the DEA Intertidal and DEA Intertidal Composites workflows via their Command Line Interface utilities. \n",
    "This allows you to run an entire DEA Intertidal Analysis using a single line of code.\n",
    "\n",
    "## Getting started\n",
    "Set working directory to top level of repo to ensure links work correctly:"
   ]
  },
  {
   "cell_type": "code",
   "execution_count": 1,
   "id": "4c1075a0",
   "metadata": {
    "tags": []
   },
   "outputs": [
    {
     "name": "stdout",
     "output_type": "stream",
     "text": [
      "/home/jovyan/Robbi/dea-intertidal\n"
     ]
    }
   ],
   "source": [
    "cd .."
   ]
  },
  {
   "cell_type": "markdown",
   "id": "42430d93",
   "metadata": {},
   "source": [
    "Install additional packages directly from the requirements file\n",
    "\n",
    "<!-- # pip install -e /home/jovyan/Robbi/eo-tides/ -->"
   ]
  },
  {
   "cell_type": "code",
   "execution_count": null,
   "id": "8f7bb11f",
   "metadata": {
    "tags": []
   },
   "outputs": [],
   "source": [
    "pip install -r requirements.in  --quiet"
   ]
  },
  {
   "cell_type": "markdown",
   "id": "1bb02e20",
   "metadata": {
    "tags": []
   },
   "source": [
    "## Setup\n"
   ]
  },
  {
   "cell_type": "markdown",
   "id": "f66be0ef",
   "metadata": {
    "tags": []
   },
   "source": [
    "### Set analysis parameters\n",
    "Sets the 32 km coastal grid cell to analyse, the config file, start and end dates, and other more specific parameters. "
   ]
  },
  {
   "cell_type": "code",
   "execution_count": 2,
   "id": "0e979f2b",
   "metadata": {
    "tags": []
   },
   "outputs": [],
   "source": [
    "# General params\n",
    "study_area = \"testing\"  # To match the default 32 km tile GridSpec, e.g. \"x174y083\"\n",
    "start_date = \"2018\"  # Start date for analysis\n",
    "label_date = \"2019\"  # Date used to label arrays\n",
    "end_date = \"2020\"  # End date for analysis\n",
    "tide_model = \"ensemble\"  # \"EOT20\"  # Tide model to use in analysis\n",
    "tide_model_dir = \"/var/share/tide_models/\"  # Directory containing tide model files\n",
    "output_version = \"testing\"  # Version number to label output files and metadata\n",
    "output_dir = \"data/processed/\"  # Path for output files, can also be e.g. \"s3://dea-public-data-dev/derivative/\"\n",
    "\n",
    "# Intertidal Exposure params\n",
    "modelled_freq = \"3h\"\n",
    "\n",
    "# Additional flags optionally turning exposure/offset calculation off\n",
    "# for testing elevation code\n",
    "exposure_offsets = \"--exposure_offsets\""
   ]
  },
  {
   "cell_type": "markdown",
   "id": "a1945634",
   "metadata": {},
   "source": [
    "## DEA Intertidal CLI\n",
    "This CLI allows you to generate the following DEA Intertidal layers with a single command line call:\n",
    "* **DEA Intertidal Elevation**\n",
    "* **DEA Intertidal Exposure**\n",
    "* **DEA Intertidal Extents**\n",
    "* **DEA Intertidal spread, offsets, HOT, LOT, HAT, LAT**\n",
    "\n",
    "Running `--help` shows all the CLI parameters that can be used to customise the analysis:"
   ]
  },
  {
   "cell_type": "code",
   "execution_count": null,
   "id": "415108cd",
   "metadata": {
    "tags": []
   },
   "outputs": [],
   "source": [
    "!python -m intertidal.elevation --help"
   ]
  },
  {
   "cell_type": "markdown",
   "id": "0dbc46d9",
   "metadata": {},
   "source": [
    "### Run DEA Intertidal CLI for a single epoch\n",
    "This will run an entire DEA Intertidal analysis from start to finish:"
   ]
  },
  {
   "cell_type": "code",
   "execution_count": 3,
   "id": "3f36e01e-a0d9-4525-a88a-8d89b669d527",
   "metadata": {
    "tags": []
   },
   "outputs": [
    {
     "name": "stdout",
     "output_type": "stream",
     "text": [
      "2025-06-30 04:56:25 INFO [testing] [2019] [testing]: Using parameters {'study_area': 'testing', 'start_date': '2018', 'end_date': '2020', 'label_date': '2019', 'output_version': 'testing', 'output_dir': 'data/processed/', 'product_maturity': 'stable', 'dataset_maturity': 'final', 'resolution': 10, 'ndwi_thresh': 0.1, 'min_freq': 0.01, 'max_freq': 0.99, 'min_correlation': 0.15, 'windows_n': 100, 'window_prop_tide': 0.15, 'correct_seasonality': False, 'tide_model': ('ensemble',), 'tide_model_dir': '/var/share/tide_models/', 'modelled_freq': '3h', 'exposure_offsets': True, 'aws_unsigned': True}\n",
      "INFO:[testing] [2019] [testing]:[testing] [2019] [testing]: Using parameters {'study_area': 'testing', 'start_date': '2018', 'end_date': '2020', 'label_date': '2019', 'output_version': 'testing', 'output_dir': 'data/processed/', 'product_maturity': 'stable', 'dataset_maturity': 'final', 'resolution': 10, 'ndwi_thresh': 0.1, 'min_freq': 0.01, 'max_freq': 0.99, 'min_correlation': 0.15, 'windows_n': 100, 'window_prop_tide': 0.15, 'correct_seasonality': False, 'tide_model': ('ensemble',), 'tide_model_dir': '/var/share/tide_models/', 'modelled_freq': '3h', 'exposure_offsets': True, 'aws_unsigned': True}\n",
      "2025-06-30 04:56:25 INFO [testing] [2019] [testing]: Loading satellite data\n",
      "INFO:[testing] [2019] [testing]:[testing] [2019] [testing]: Loading satellite data\n",
      "/env/lib/python3.10/site-packages/distributed/node.py:187: UserWarning: Port 8787 is already in use.\n",
      "Perhaps you already have a cluster running?\n",
      "Hosting the HTTP server on port 34615 instead\n",
      "  warnings.warn(\n",
      "<Client: 'tcp://127.0.0.1:37607' processes=1 threads=7, memory=59.21 GiB>\n",
      "2025-06-30 04:56:30 INFO [testing] [2019] [testing]: Running in testing mode using custom study area\n",
      "INFO:[testing] [2019] [testing]:[testing] [2019] [testing]: Running in testing mode using custom study area\n",
      "2025-06-30 04:56:36 INFO [testing] [2019] [testing]: Loading 314 satellite data timesteps\n",
      "INFO:[testing] [2019] [testing]:[testing] [2019] [testing]: Loading 314 satellite data timesteps\n",
      "Loading SRTM data at native 30 m resolution\n",
      "Adding GMW mangroves to starting points\n",
      "Applying HAT correction\n",
      "Running cost distance calculation\n",
      "Reprojecting back to original GeoBox resolution\n",
      "2025-06-30 04:57:41 INFO [testing] [2019] [testing]: Calculating Intertidal Elevation\n",
      "INFO:[testing] [2019] [testing]:[testing] [2019] [testing]: Calculating Intertidal Elevation\n",
      "2025-06-30 04:57:41 INFO [testing] [2019] [testing]: Modelling tide heights for each pixel\n",
      "INFO:[testing] [2019] [testing]:[testing] [2019] [testing]: Modelling tide heights for each pixel\n",
      "Creating reduced resolution 5000 x 5000 metre tide modelling array\n",
      "Running ensemble tide modelling\n",
      "Modelling tides with EOT20, FES2012, FES2014_extrapolated, FES2022_extrapolated, GOT4.10, GOT5.6_extrapolated, TPXO10-atlas-v2-nc, TPXO8-atlas-nc, TPXO9-atlas-v5-nc in parallel (models: 9, splits: 1)\n",
      "100%|█████████████████████████████████████████████| 9/9 [00:25<00:00,  2.80s/it]\n",
      "Interpolating model rankings using IDW interpolation \n",
      "Combining models into single ensemble model\n",
      "Reprojecting tides into original resolution\n",
      "2025-06-30 04:58:14 INFO [testing] [2019] [testing]: Masking nodata and adding tide heights to satellite data array\n",
      "INFO:[testing] [2019] [testing]:[testing] [2019] [testing]: Masking nodata and adding tide heights to satellite data array\n",
      "2025-06-30 04:58:14 INFO [testing] [2019] [testing]: Flattening satellite data array and filtering to intertidal candidate pixels\n",
      "INFO:[testing] [2019] [testing]:[testing] [2019] [testing]: Flattening satellite data array and filtering to intertidal candidate pixels\n",
      "2025-06-30 04:58:14 INFO [testing] [2019] [testing]: Applying valid data mask to constrain study area\n",
      "INFO:[testing] [2019] [testing]:[testing] [2019] [testing]: Applying valid data mask to constrain study area\n",
      "Reducing analysed pixels from 7125 to 5290 (74.25%)\n",
      "2025-06-30 04:58:15 INFO [testing] [2019] [testing]: Running per-pixel rolling median\n",
      "INFO:[testing] [2019] [testing]:[testing] [2019] [testing]: Running per-pixel rolling median\n",
      "100%|█████████████████████████████████████████| 105/105 [00:03<00:00, 34.27it/s]\n",
      "2025-06-30 04:58:20 INFO [testing] [2019] [testing]: Modelling intertidal elevation\n",
      "INFO:[testing] [2019] [testing]:[testing] [2019] [testing]: Modelling intertidal elevation\n",
      "Applying tidal interval interpolation to 200 intervals\n",
      "Applying rolling mean smoothing with radius 20\n",
      "2025-06-30 04:58:20 INFO [testing] [2019] [testing]: Modelling intertidal uncertainty\n",
      "INFO:[testing] [2019] [testing]:[testing] [2019] [testing]: Modelling intertidal uncertainty\n",
      "2025-06-30 04:58:20 INFO [testing] [2019] [testing]: Unflattening data back to its original spatial dimensions\n",
      "INFO:[testing] [2019] [testing]:[testing] [2019] [testing]: Unflattening data back to its original spatial dimensions\n",
      "2025-06-30 04:58:20 INFO [testing] [2019] [testing]: Cleaning inaccurate upper intertidal pixels\n",
      "INFO:[testing] [2019] [testing]:[testing] [2019] [testing]: Cleaning inaccurate upper intertidal pixels\n",
      "2025-06-30 04:58:20 INFO [testing] [2019] [testing]: Successfully completed intertidal elevation modelling\n",
      "INFO:[testing] [2019] [testing]:[testing] [2019] [testing]: Successfully completed intertidal elevation modelling\n",
      "2025-06-30 04:58:20 INFO [testing] [2019] [testing]: Calculating Intertidal Extents\n",
      "INFO:[testing] [2019] [testing]:[testing] [2019] [testing]: Calculating Intertidal Extents\n",
      "2025-06-30 04:58:20 INFO [testing] [2019] [testing]: Calculating Intertidal Exposure\n",
      "INFO:[testing] [2019] [testing]:[testing] [2019] [testing]: Calculating Intertidal Exposure\n",
      "Creating reduced resolution 5000 x 5000 metre tide modelling array\n",
      "Running ensemble tide modelling\n",
      "Modelling tides with EOT20, FES2012, FES2014_extrapolated, FES2022_extrapolated, GOT4.10, GOT5.6_extrapolated, TPXO10-atlas-v2-nc, TPXO8-atlas-nc, TPXO9-atlas-v5-nc in parallel (models: 9, splits: 1)\n",
      "100%|█████████████████████████████████████████████| 9/9 [00:32<00:00,  3.58s/it]\n",
      "Interpolating model rankings using IDW interpolation \n",
      "Combining models into single ensemble model\n",
      "Returning low resolution tide array\n",
      "Calculating unfiltered exposure\n",
      "2025-06-30 04:59:08 INFO [testing] [2019] [testing]: Calculating spread, offset and HAT/LAT/LOT/HOT layers\n",
      "INFO:[testing] [2019] [testing]:[testing] [2019] [testing]: Calculating spread, offset and HAT/LAT/LOT/HOT layers\n",
      "Using tide modelling location: 136.33, -15.60\n",
      "Running ensemble tide modelling\n",
      "Modelling tides with EOT20, FES2012, FES2014_extrapolated, FES2022_extrapolated, GOT4.10, GOT5.6_extrapolated, TPXO10-atlas-v2-nc, TPXO8-atlas-nc, TPXO9-atlas-v5-nc in parallel (models: 9, splits: 1)\n",
      "100%|█████████████████████████████████████████████| 9/9 [00:16<00:00,  1.78s/it]\n",
      "Interpolating model rankings using IDW interpolation \n",
      "Combining models into single ensemble model\n",
      "Using tide modelling location: 136.33, -15.60\n",
      "Running ensemble tide modelling\n",
      "Modelling tides with EOT20, FES2012, FES2014_extrapolated, FES2022_extrapolated, GOT4.10, GOT5.6_extrapolated, TPXO10-atlas-v2-nc, TPXO8-atlas-nc, TPXO9-atlas-v5-nc in parallel (models: 9, splits: 1)\n",
      "100%|█████████████████████████████████████████████| 9/9 [00:17<00:00,  1.99s/it]\n",
      "Interpolating model rankings using IDW interpolation \n",
      "Combining models into single ensemble model\n",
      "2025-06-30 04:59:49 INFO [testing] [2019] [testing]: Assembling dataset\n",
      "INFO:[testing] [2019] [testing]:[testing] [2019] [testing]: Assembling dataset\n",
      "2025-06-30 04:59:49 INFO [testing] [2019] [testing]: Writing output arrays\n",
      "INFO:[testing] [2019] [testing]:[testing] [2019] [testing]: Writing output arrays\n",
      "WARNING:rasterio._env:CPLE_NotSupported in driver GTiff does not support creation option COUNT\n",
      "WARNING:rasterio._env:CPLE_NotSupported in driver GTiff does not support creation option WIDTH\n",
      "WARNING:rasterio._env:CPLE_NotSupported in driver GTiff does not support creation option HEIGHT\n",
      "WARNING:rasterio._env:CPLE_NotSupported in driver GTiff does not support creation option CRS\n",
      "WARNING:rasterio._env:CPLE_NotSupported in driver GTiff does not support creation option TRANSFORM\n",
      "WARNING:rasterio._env:CPLE_NotSupported in driver GTiff does not support creation option DTYPE\n",
      "WARNING:rasterio._env:CPLE_NotSupported in driver GTiff does not support creation option COUNT\n",
      "WARNING:rasterio._env:CPLE_NotSupported in driver GTiff does not support creation option WIDTH\n",
      "WARNING:rasterio._env:CPLE_NotSupported in driver GTiff does not support creation option HEIGHT\n",
      "WARNING:rasterio._env:CPLE_NotSupported in driver GTiff does not support creation option CRS\n",
      "WARNING:rasterio._env:CPLE_NotSupported in driver GTiff does not support creation option TRANSFORM\n",
      "WARNING:rasterio._env:CPLE_NotSupported in driver GTiff does not support creation option DTYPE\n",
      "WARNING:rasterio._env:CPLE_NotSupported in driver GTiff does not support creation option COUNT\n",
      "WARNING:rasterio._env:CPLE_NotSupported in driver GTiff does not support creation option WIDTH\n",
      "WARNING:rasterio._env:CPLE_NotSupported in driver GTiff does not support creation option HEIGHT\n",
      "WARNING:rasterio._env:CPLE_NotSupported in driver GTiff does not support creation option CRS\n",
      "WARNING:rasterio._env:CPLE_NotSupported in driver GTiff does not support creation option TRANSFORM\n",
      "WARNING:rasterio._env:CPLE_NotSupported in driver GTiff does not support creation option DTYPE\n",
      "WARNING:rasterio._env:CPLE_NotSupported in driver GTiff does not support creation option NODATA\n",
      "WARNING:rasterio._env:CPLE_NotSupported in driver GTiff does not support creation option COUNT\n",
      "WARNING:rasterio._env:CPLE_NotSupported in driver GTiff does not support creation option WIDTH\n",
      "WARNING:rasterio._env:CPLE_NotSupported in driver GTiff does not support creation option HEIGHT\n",
      "WARNING:rasterio._env:CPLE_NotSupported in driver GTiff does not support creation option CRS\n",
      "WARNING:rasterio._env:CPLE_NotSupported in driver GTiff does not support creation option TRANSFORM\n",
      "WARNING:rasterio._env:CPLE_NotSupported in driver GTiff does not support creation option DTYPE\n",
      "WARNING:rasterio._env:CPLE_NotSupported in driver GTiff does not support creation option COUNT\n",
      "WARNING:rasterio._env:CPLE_NotSupported in driver GTiff does not support creation option WIDTH\n",
      "WARNING:rasterio._env:CPLE_NotSupported in driver GTiff does not support creation option HEIGHT\n",
      "WARNING:rasterio._env:CPLE_NotSupported in driver GTiff does not support creation option CRS\n",
      "WARNING:rasterio._env:CPLE_NotSupported in driver GTiff does not support creation option TRANSFORM\n",
      "WARNING:rasterio._env:CPLE_NotSupported in driver GTiff does not support creation option DTYPE\n",
      "WARNING:rasterio._env:CPLE_NotSupported in driver GTiff does not support creation option NODATA\n",
      "WARNING:rasterio._env:CPLE_NotSupported in driver GTiff does not support creation option COUNT\n",
      "WARNING:rasterio._env:CPLE_NotSupported in driver GTiff does not support creation option WIDTH\n",
      "WARNING:rasterio._env:CPLE_NotSupported in driver GTiff does not support creation option HEIGHT\n",
      "WARNING:rasterio._env:CPLE_NotSupported in driver GTiff does not support creation option CRS\n",
      "WARNING:rasterio._env:CPLE_NotSupported in driver GTiff does not support creation option TRANSFORM\n",
      "WARNING:rasterio._env:CPLE_NotSupported in driver GTiff does not support creation option DTYPE\n",
      "WARNING:rasterio._env:CPLE_NotSupported in driver GTiff does not support creation option NODATA\n",
      "WARNING:rasterio._env:CPLE_NotSupported in driver GTiff does not support creation option COUNT\n",
      "WARNING:rasterio._env:CPLE_NotSupported in driver GTiff does not support creation option WIDTH\n",
      "WARNING:rasterio._env:CPLE_NotSupported in driver GTiff does not support creation option HEIGHT\n",
      "WARNING:rasterio._env:CPLE_NotSupported in driver GTiff does not support creation option CRS\n",
      "WARNING:rasterio._env:CPLE_NotSupported in driver GTiff does not support creation option TRANSFORM\n",
      "WARNING:rasterio._env:CPLE_NotSupported in driver GTiff does not support creation option DTYPE\n",
      "WARNING:rasterio._env:CPLE_NotSupported in driver GTiff does not support creation option NODATA\n",
      "WARNING:rasterio._env:CPLE_NotSupported in driver GTiff does not support creation option COUNT\n",
      "WARNING:rasterio._env:CPLE_NotSupported in driver GTiff does not support creation option WIDTH\n",
      "WARNING:rasterio._env:CPLE_NotSupported in driver GTiff does not support creation option HEIGHT\n",
      "WARNING:rasterio._env:CPLE_NotSupported in driver GTiff does not support creation option CRS\n",
      "WARNING:rasterio._env:CPLE_NotSupported in driver GTiff does not support creation option TRANSFORM\n",
      "WARNING:rasterio._env:CPLE_NotSupported in driver GTiff does not support creation option DTYPE\n",
      "WARNING:rasterio._env:CPLE_NotSupported in driver GTiff does not support creation option NODATA\n",
      "WARNING:rasterio._env:CPLE_NotSupported in driver GTiff does not support creation option COUNT\n",
      "WARNING:rasterio._env:CPLE_NotSupported in driver GTiff does not support creation option WIDTH\n",
      "WARNING:rasterio._env:CPLE_NotSupported in driver GTiff does not support creation option HEIGHT\n",
      "WARNING:rasterio._env:CPLE_NotSupported in driver GTiff does not support creation option CRS\n",
      "WARNING:rasterio._env:CPLE_NotSupported in driver GTiff does not support creation option TRANSFORM\n",
      "WARNING:rasterio._env:CPLE_NotSupported in driver GTiff does not support creation option DTYPE\n",
      "WARNING:rasterio._env:CPLE_NotSupported in driver GTiff does not support creation option COUNT\n",
      "WARNING:rasterio._env:CPLE_NotSupported in driver GTiff does not support creation option WIDTH\n",
      "WARNING:rasterio._env:CPLE_NotSupported in driver GTiff does not support creation option HEIGHT\n",
      "WARNING:rasterio._env:CPLE_NotSupported in driver GTiff does not support creation option CRS\n",
      "WARNING:rasterio._env:CPLE_NotSupported in driver GTiff does not support creation option TRANSFORM\n",
      "WARNING:rasterio._env:CPLE_NotSupported in driver GTiff does not support creation option DTYPE\n",
      "WARNING:rasterio._env:CPLE_NotSupported in driver GTiff does not support creation option COUNT\n",
      "WARNING:rasterio._env:CPLE_NotSupported in driver GTiff does not support creation option WIDTH\n",
      "WARNING:rasterio._env:CPLE_NotSupported in driver GTiff does not support creation option HEIGHT\n",
      "WARNING:rasterio._env:CPLE_NotSupported in driver GTiff does not support creation option CRS\n",
      "WARNING:rasterio._env:CPLE_NotSupported in driver GTiff does not support creation option TRANSFORM\n",
      "WARNING:rasterio._env:CPLE_NotSupported in driver GTiff does not support creation option DTYPE\n",
      "WARNING:rasterio._env:CPLE_NotSupported in driver GTiff does not support creation option COUNT\n",
      "WARNING:rasterio._env:CPLE_NotSupported in driver GTiff does not support creation option WIDTH\n",
      "WARNING:rasterio._env:CPLE_NotSupported in driver GTiff does not support creation option HEIGHT\n",
      "WARNING:rasterio._env:CPLE_NotSupported in driver GTiff does not support creation option CRS\n",
      "WARNING:rasterio._env:CPLE_NotSupported in driver GTiff does not support creation option TRANSFORM\n",
      "WARNING:rasterio._env:CPLE_NotSupported in driver GTiff does not support creation option DTYPE\n",
      "WARNING:rasterio._env:CPLE_NotSupported in driver GTiff does not support creation option COUNT\n",
      "WARNING:rasterio._env:CPLE_NotSupported in driver GTiff does not support creation option WIDTH\n",
      "WARNING:rasterio._env:CPLE_NotSupported in driver GTiff does not support creation option HEIGHT\n",
      "WARNING:rasterio._env:CPLE_NotSupported in driver GTiff does not support creation option CRS\n",
      "WARNING:rasterio._env:CPLE_NotSupported in driver GTiff does not support creation option TRANSFORM\n",
      "WARNING:rasterio._env:CPLE_NotSupported in driver GTiff does not support creation option DTYPE\n",
      "WARNING:rasterio._env:CPLE_NotSupported in driver GTiff does not support creation option NODATA\n",
      "WARNING:rasterio._env:CPLE_NotSupported in driver GTiff does not support creation option COUNT\n",
      "WARNING:rasterio._env:CPLE_NotSupported in driver GTiff does not support creation option WIDTH\n",
      "WARNING:rasterio._env:CPLE_NotSupported in driver GTiff does not support creation option HEIGHT\n",
      "WARNING:rasterio._env:CPLE_NotSupported in driver GTiff does not support creation option CRS\n",
      "WARNING:rasterio._env:CPLE_NotSupported in driver GTiff does not support creation option TRANSFORM\n",
      "WARNING:rasterio._env:CPLE_NotSupported in driver GTiff does not support creation option DTYPE\n",
      "WARNING:rasterio._env:CPLE_NotSupported in driver GTiff does not support creation option NODATA\n",
      "WARNING:rasterio._env:CPLE_NotSupported in driver GTiff does not support creation option COUNT\n",
      "WARNING:rasterio._env:CPLE_NotSupported in driver GTiff does not support creation option WIDTH\n",
      "WARNING:rasterio._env:CPLE_NotSupported in driver GTiff does not support creation option HEIGHT\n",
      "WARNING:rasterio._env:CPLE_NotSupported in driver GTiff does not support creation option CRS\n",
      "WARNING:rasterio._env:CPLE_NotSupported in driver GTiff does not support creation option TRANSFORM\n",
      "WARNING:rasterio._env:CPLE_NotSupported in driver GTiff does not support creation option DTYPE\n",
      "WARNING:rasterio._env:CPLE_NotSupported in driver GTiff does not support creation option NODATA\n",
      "2025-06-30 04:59:49 INFO [testing] [2019] [testing]: Assembled dataset: /tmp/tmpyibo30fu/ga_s2ls_intertidal_cyear_3/testing/tes/ting/2019--P1Y/ga_s2ls_intertidal_cyear_3_testing_2019--P1Y_final.odc-metadata.yaml\n",
      "INFO:[testing] [2019] [testing]:[testing] [2019] [testing]: Assembled dataset: /tmp/tmpyibo30fu/ga_s2ls_intertidal_cyear_3/testing/tes/ting/2019--P1Y/ga_s2ls_intertidal_cyear_3_testing_2019--P1Y_final.odc-metadata.yaml\n",
      "2025-06-30 04:59:50 INFO [testing] [2019] [testing]: Writing data locally: data/processed/ga_s2ls_intertidal_cyear_3/testing/tes/ting/2019--P1Y/\n",
      "INFO:[testing] [2019] [testing]:[testing] [2019] [testing]: Writing data locally: data/processed/ga_s2ls_intertidal_cyear_3/testing/tes/ting/2019--P1Y/\n",
      "\u001b[0m2025-06-30 04:59:51 INFO [testing] [2019] [testing]: Completed DEA Intertidal workflow\n",
      "INFO:[testing] [2019] [testing]:[testing] [2019] [testing]: Completed DEA Intertidal workflow\n",
      "\u001b[0mCPU times: user 2.4 s, sys: 412 ms, total: 2.81 s\n",
      "Wall time: 3min 31s\n"
     ]
    }
   ],
   "source": [
    "%%time\n",
    "!python -m intertidal.elevation --study_area {study_area} --start_date {start_date} --end_date {end_date} --label_date {label_date} --output_dir {output_dir} --output_version {output_version} --modelled_freq {modelled_freq} --exposure_offsets {exposure_offsets} --tide_model {tide_model} --tide_model_dir {tide_model_dir}"
   ]
  },
  {
   "cell_type": "markdown",
   "id": "9c760ff2",
   "metadata": {},
   "source": [
    "### Run DEA Intertidal CLI for a single epoch with multiple tiles\n",
    "This will run an entire DEA Intertidal analysis from start to finish:"
   ]
  },
  {
   "cell_type": "code",
   "execution_count": null,
   "id": "f1f32b95",
   "metadata": {
    "tags": []
   },
   "outputs": [],
   "source": [
    "# study_area_list = [\"x139y96\", \"x139y95\", \"x139y94\", \"x139y93\", \"x139y92\", \"x139y91\", \"x140y91\", \"x141y91\"]\n",
    "study_area_list = [\"x99y118\", \"x98y118\", \"x100y117\", \"x99y117\"]\n",
    "# study_area_list = []\n",
    "study_area_list = [\"testing\"]\n",
    "epoch_list = [\n",
    "    # (\"2016\", \"2017\", \"2018\"),\n",
    "    # (\"2017\", \"2018\", \"2019\"),\n",
    "    # (\"2018\", \"2019\", \"2020\"),\n",
    "    (\"2019\", \"2020\", \"2021\"),\n",
    "]\n",
    "\n",
    "for tile in study_area_list:\n",
    "    for start_date, label_date, end_date in epoch_list:\n",
    "        print(start_date, label_date, end_date)\n",
    "        print(tile)\n",
    "        try:\n",
    "            !python -m intertidal.elevation --study_area {tile} --start_date {start_date} --end_date {end_date} --label_date {label_date} --output_dir {output_dir} --output_version {output_version} --modelled_freq {modelled_freq} --exposure_offsets {exposure_offsets} --tide_model {tide_model} --tide_model_dir {tide_model_dir}\n",
    "        except:\n",
    "            pass"
   ]
  },
  {
   "cell_type": "markdown",
   "id": "7d761c4d",
   "metadata": {},
   "source": [
    "## DEA Tidal Composites CLI\n",
    "\n",
    "<div class=\"alert alert-block alert-warning\">Note: DEA Tidal Composites code is currently a work in progress.</div>\n",
    "\n",
    "This CLI allows you to generate the following DEA Intertidal layers with a single command line call:\n",
    "\n",
    "* **DEA Tidal Composites** (producing low and high tide geomedian outputs)\n",
    "\n",
    "Running `--help` shows all the CLI parameters that can be used to customise the analysis:"
   ]
  },
  {
   "cell_type": "code",
   "execution_count": null,
   "id": "a0a85d38",
   "metadata": {
    "tags": []
   },
   "outputs": [],
   "source": [
    "!python -m intertidal.composites --help"
   ]
  },
  {
   "cell_type": "markdown",
   "id": "8dfadaaf",
   "metadata": {},
   "source": [
    "### Run DEA Tidal Composites CLI for a single epoch\n",
    "This will run an entire DEA Intertidal Composites analysis from start to finish:"
   ]
  },
  {
   "cell_type": "code",
   "execution_count": null,
   "id": "b30feed5-68d8-4a29-9a33-4c33b6bf610a",
   "metadata": {},
   "outputs": [],
   "source": [
    "# General params\n",
    "study_area = \"testing\"  # To match the default 32 km tile GridSpec, e.g. \"x153y163\"\n",
    "start_date = \"2018\"  # Start date for analysis\n",
    "label_date = \"2019\"  # Date used to label arrays\n",
    "end_date = \"2020\"  # End date for analysis\n",
    "tide_model = \"ensemble\"  # Tide model to use in analysis\n",
    "tide_model_dir = \"/var/share/tide_models/\"  # Directory containing tide model files\n",
    "output_version = \"testing\"  # Version number to label output files and metadata\n",
    "output_dir = \"data/processed/\"  # Path for output files, can also be e.g. \"s3://dea-public-data-dev/derivative/\"\n",
    "\n",
    "# Intertidal Composites params\n",
    "threshold_lowtide = 0.15\n",
    "threshold_hightide = 0.85\n",
    "mask_sunglint = 20\n",
    "max_iters = 10"
   ]
  },
  {
   "cell_type": "code",
   "execution_count": null,
   "id": "1c3c87bf",
   "metadata": {
    "tags": []
   },
   "outputs": [],
   "source": [
    "%%time\n",
    "!python -m intertidal.composites --study_area {study_area} --start_date {start_date} --end_date {end_date} --label_date {label_date}  --output_dir {output_dir} --output_version {output_version} --tide_model {tide_model} --tide_model_dir {tide_model_dir} --mask_sunglint {mask_sunglint} --max_iters {max_iters} --overwrite --threshold_lowtide {threshold_lowtide} --threshold_hightide {threshold_hightide}"
   ]
  },
  {
   "cell_type": "markdown",
   "id": "bad66133",
   "metadata": {
    "tags": []
   },
   "source": [
    "### Run DEA Tidal Composites CLI for multiple tiles\n",
    "This will run an entire DEA Intertidal and DEA Intertidal Composites analysis from start to finish for several tiles:"
   ]
  },
  {
   "cell_type": "code",
   "execution_count": null,
   "id": "53b88fe8-d650-4c9f-85cf-39d28e603a6e",
   "metadata": {},
   "outputs": [],
   "source": [
    "start_date = \"2021\"  # Start date for analysis\n",
    "label_date = \"2022\"  # Date used to label arrays\n",
    "end_date = \"2023\"  # End date for analysis\n",
    "tide_model = \"ensemble\"  # Tide model to use in analysis\n",
    "tide_model_dir = \"/var/share/tide_models/\"  # Directory containing tide model files\n",
    "output_version = \"0.0.3\"  # Version number to label output files and metadata\n",
    "\n",
    "# Intertidal Composites params\n",
    "threshold_lowtide = 0.15\n",
    "threshold_hightide = 0.85"
   ]
  },
  {
   "cell_type": "code",
   "execution_count": null,
   "id": "982d1be9-7eb3-4b84-86fd-b95581188279",
   "metadata": {},
   "outputs": [],
   "source": [
    "%%time\n",
    "\n",
    "sunglint_angles = [0, 20, 30]\n",
    "sunglint_angles = [20]\n",
    "study_area_list = [\"testing\"]\n",
    "study_area_list = [\"x080y134\", \"x194y136\", \"x195y136\", \"x202y115\"]\n",
    "\n",
    "for study_area in study_area_list:\n",
    "    for mask_sunglint in sunglint_angles:\n",
    "        output_dir = f\"/gdata1/projects/coastal/intertidal/composites/sunglint_{mask_sunglint}\"\n",
    "        try:\n",
    "            !python -m intertidal.composites --study_area {study_area} --start_date {start_date} --end_date {end_date} --label_date {label_date}  --output_dir {output_dir} --output_version {output_version} --tide_model {tide_model} --tide_model_dir {tide_model_dir} --mask_sunglint {mask_sunglint} --no-overwrite --threshold_lowtide {threshold_lowtide} --threshold_hightide {threshold_hightide}\n",
    "        except:\n",
    "            pass"
   ]
  },
  {
   "cell_type": "markdown",
   "id": "5987a246-b2c4-4cc0-81cf-4dd7abda8498",
   "metadata": {
    "tags": []
   },
   "source": [
    "## Run DEA Intertidal and DEA Tidal Composites CLIs for multiple epochs\n",
    "This will run an entire DEA Intertidal and DEA Intertidal Composites analysis from start to finish for several epochs:"
   ]
  },
  {
   "cell_type": "code",
   "execution_count": null,
   "id": "c0c3febf",
   "metadata": {},
   "outputs": [],
   "source": [
    "study_area = \"testing\"\n",
    "tide_model = \"ensemble\"  # Tide model to use in analysis\n",
    "tide_model_dir = \"/var/share/tide_models/\"  # Directory containing tide model files\n",
    "output_version = \"0.0.3\"  # Version number to label output files and metadata\n",
    "mask_sunglint = 20\n",
    "epoch_list = [\n",
    "    # (\"2016\", \"2017\", \"2018\"),\n",
    "    # (\"2017\", \"2018\", \"2019\"),\n",
    "    # (\"2018\", \"2019\", \"2020\"),\n",
    "    (\"2019\", \"2020\", \"2021\"),\n",
    "]\n",
    "\n",
    "for start_date, label_date, end_date in epoch_list:\n",
    "    print(start_date, label_date, end_date)\n",
    "    !python -m intertidal.elevation --study_area {study_area} --start_date {start_date} --end_date {end_date} --label_date {label_date} --output_dir {output_dir} --output_version {output_version} --modelled_freq {modelled_freq} --exposure_offsets {exposure_offsets} --tide_model {tide_model} --tide_model_dir {tide_model_dir}\n",
    "    !python -m intertidal.composites --study_area {study_area} --start_date {start_date} --end_date {end_date} --label_date {label_date}  --output_dir {output_dir} --output_version {output_version} --tide_model {tide_model} --tide_model_dir {tide_model_dir} --mask_sunglint {mask_sunglint} --no-overwrite --threshold_lowtide {threshold_lowtide} --threshold_hightide {threshold_hightide}"
   ]
  }
 ],
 "metadata": {
  "kernelspec": {
   "display_name": "Python 3 (ipykernel)",
   "language": "python",
   "name": "python3"
  },
  "language_info": {
   "codemirror_mode": {
    "name": "ipython",
    "version": 3
   },
   "file_extension": ".py",
   "mimetype": "text/x-python",
   "name": "python",
   "nbconvert_exporter": "python",
   "pygments_lexer": "ipython3",
   "version": "3.10.15"
  },
  "widgets": {
   "application/vnd.jupyter.widget-state+json": {
    "state": {},
    "version_major": 2,
    "version_minor": 0
   }
  }
 },
 "nbformat": 4,
 "nbformat_minor": 5
}
