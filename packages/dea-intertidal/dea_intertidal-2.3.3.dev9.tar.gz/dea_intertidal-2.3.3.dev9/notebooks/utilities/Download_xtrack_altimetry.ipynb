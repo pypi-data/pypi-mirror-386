{
 "cells": [
  {
   "cell_type": "markdown",
   "id": "a347fee5-fc97-4059-aa48-b9b01b1a21d5",
   "metadata": {
    "tags": []
   },
   "source": [
    "# Download X-TRACK coastal altimetry data"
   ]
  },
  {
   "cell_type": "code",
   "execution_count": null,
   "id": "833a4032-9b0e-451c-bd13-812a09f6f592",
   "metadata": {
    "tags": []
   },
   "outputs": [],
   "source": [
    "%load_ext autoreload\n",
    "%autoreload 2\n",
    "\n",
    "import os\n",
    "from ftplib import FTP\n",
    "\n",
    "os.chdir(\"/gdata1/data/altimetry/X-TRACK 2.2/\")"
   ]
  },
  {
   "cell_type": "markdown",
   "id": "425f2023-6fc9-433d-9dd5-dec8d8dbf9a6",
   "metadata": {},
   "source": [
    "### Download data from Aviso+ FTP\n",
    "> Altimetry data used here (v2.2, DOI 10.24400/527896/a01-2022.020) were developed, validated by the CTOH/LEGOS, France and distributed by Aviso+:\n",
    "https://www.aviso.altimetry.fr/en/data/products/sea-surface-height-products/regional/x-track-sla.html"
   ]
  },
  {
   "cell_type": "code",
   "execution_count": null,
   "id": "417f15d3-ac93-400f-aae7-0148a0bebd23",
   "metadata": {},
   "outputs": [],
   "source": [
    "# Connect and list directory contents\n",
    "PASSWORD = \"\"\n",
    "ftp = FTP(\"ftp-access.aviso.altimetry.fr\")\n",
    "ftp.login(\"Robbi.BishopTaylor@ga.gov.au\", PASSWORD)\n",
    "\n",
    "ftp_dirs = [\n",
    "    # \"regional-xtrack-coastal/version_x_track_l2p_2022/v2.2/WAUSTRALIA/S3A/SLA\",\n",
    "    # \"regional-xtrack-coastal/version_x_track_l2p_2022/v2.2/EAUSTRALIA/S3A/SLA\",\n",
    "    \"regional-xtrack-coastal/version_x_track_l2p_2022/v2.2/WAUSTRALIA/S3B/SLA\",\n",
    "    \"regional-xtrack-coastal/version_x_track_l2p_2022/v2.2/EAUSTRALIA/S3B/SLA\",\n",
    "    # \"regional-xtrack-coastal/version_x_track_l2p_2022/v2.2/WAUSTRALIA/TP+J1+J2+J3+S6A/SLA\",\n",
    "    # \"regional-xtrack-coastal/version_x_track_l2p_2022/v2.2/EAUSTRALIA/TP+J1+J2+J3+S6A/SLA\",\n",
    "    # \"regional-xtrack-coastal/version_x_track_l2p_2022/v2.2/EAUSTRALIA/ERS1+ERS2+ENV+SRL/SLA\",\n",
    "    # \"regional-xtrack-coastal/version_x_track_l2p_2022/v2.2/WAUSTRALIA/ERS1+ERS2+ENV+SRL/SLA\",\n",
    "    # \"regional-xtrack-coastal/version_x_track_l2p_2022/v2.2/EAUSTRALIA/TPN+J1N+J2N+J3N/SLA\",\n",
    "    # \"regional-xtrack-coastal/version_x_track_l2p_2022/v2.2/WAUSTRALIA/TPN+J1N+J2N+J3N/SLA\",\n",
    "    # \"regional-xtrack-coastal/version_x_track_l2p_2022/v2.2/EAUSTRALIA/HY2A/SLA\",\n",
    "    # \"regional-xtrack-coastal/version_x_track_l2p_2022/v2.2/WAUSTRALIA/HY2A/SLA\",\n",
    "    # \"regional-xtrack-coastal/version_x_track_l2p_2022/v2.2/EAUSTRALIA/HY2B/SLA\",\n",
    "    # \"regional-xtrack-coastal/version_x_track_l2p_2022/v2.2/WAUSTRALIA/HY2B/SLA\",\n",
    "    # \"regional-xtrack-coastal/version_x_track_l2p_2022/v2.2/EAUSTRALIA/GFO/SLA\",\n",
    "    # \"regional-xtrack-coastal/version_x_track_l2p_2022/v2.2/WAUSTRALIA/GFO/SLA\"\n",
    "]\n",
    "\n",
    "for path in ftp_dirs:\n",
    "    try:\n",
    "        for nc_file in ftp.nlst(path):\n",
    "            # Get file name\n",
    "            fname = nc_file.split(\"/\")[-1]\n",
    "\n",
    "            # Download if it doesn't exist\n",
    "            if not os.path.isfile(fname):\n",
    "                print(f\"Downloading {fname}\")\n",
    "                with open(fname, \"wb\") as f:\n",
    "                    ftp.retrbinary(f\"RETR {nc_file}\", f.write)\n",
    "            else:\n",
    "                print(f\"Skipping {fname}\")\n",
    "    except Exception as e:\n",
    "        print(f\"Skipping {path}: {e}\")"
   ]
  },
  {
   "cell_type": "markdown",
   "id": "9a738324-a289-458a-a3c8-54c0f00e7854",
   "metadata": {},
   "source": [
    "### Experiments"
   ]
  },
  {
   "cell_type": "code",
   "execution_count": null,
   "id": "1df6b956-179f-417d-9398-47557e87a978",
   "metadata": {},
   "outputs": [],
   "source": [
    "import xarray as xr\n",
    "\n",
    "ds1 = xr.open_mfdataset(\"ctoh.sla.ref.S3A.waustralia.247.nc\").sel(points_numbers=1).time.compute()\n",
    "time1 = ds1.where(ds1.dt.year.isin([2017, 2018, 2019]), drop=True)\n",
    "\n",
    "ds2 = xr.open_mfdataset(\"ctoh.sla.ref.S3B.waustralia.247.nc\").sel(points_numbers=1).time.compute()\n",
    "time2 = ds2.where(ds2.dt.year.isin([2017, 2018, 2019]), drop=True)"
   ]
  },
  {
   "cell_type": "code",
   "execution_count": null,
   "id": "572ab1aa-a820-4cb0-9f86-a32f67e72673",
   "metadata": {},
   "outputs": [],
   "source": [
    "import datetime\n",
    "\n",
    "import matplotlib.pyplot as plt\n",
    "\n",
    "\n",
    "# Convert cftime.DatetimeJulian → datetime.datetime\n",
    "def convert_to_datetime(cftime_array):\n",
    "    return [datetime.datetime.strptime(t.strftime(\"%Y-%m-%d %H:%M:%S\"), \"%Y-%m-%d %H:%M:%S\") for t in cftime_array]\n",
    "\n",
    "\n",
    "dates1 = convert_to_datetime(time1.values)\n",
    "dates2 = convert_to_datetime(time2.values)\n",
    "\n",
    "# Plotting\n",
    "plt.figure(figsize=(10, 2))\n",
    "plt.scatter(dates1, [1] * len(dates1), color=\"red\", label=\"Time Series 1\")\n",
    "plt.scatter(dates2, [2] * len(dates2), color=\"blue\", label=\"Time Series 2\")\n",
    "\n",
    "plt.xlabel(\"Date\")\n",
    "plt.ylabel(\"Value\")\n",
    "plt.title(\"Two Time Series from cftime.DatetimeJulian\")\n",
    "plt.legend()\n",
    "plt.grid(True)\n",
    "plt.tight_layout()\n",
    "plt.show()"
   ]
  }
 ],
 "metadata": {
  "kernelspec": {
   "display_name": "Python 3 (ipykernel)",
   "language": "python",
   "name": "python3"
  },
  "language_info": {
   "codemirror_mode": {
    "name": "ipython",
    "version": 3
   },
   "file_extension": ".py",
   "mimetype": "text/x-python",
   "name": "python",
   "nbconvert_exporter": "python",
   "pygments_lexer": "ipython3",
   "version": "3.10.18"
  },
  "widgets": {
   "application/vnd.jupyter.widget-state+json": {
    "state": {},
    "version_major": 2,
    "version_minor": 0
   }
  }
 },
 "nbformat": 4,
 "nbformat_minor": 5
}
