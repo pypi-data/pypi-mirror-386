{
 "cells": [
  {
   "cell_type": "code",
   "execution_count": 1,
   "id": "417b0254",
   "metadata": {},
   "outputs": [
    {
     "name": "stdout",
     "output_type": "stream",
     "text": [
      "[2025-10-24 15:17:01 INFO] SRTM working directory: \u001b[34m~/data/NASADEM\u001b[0m\n",
      "[2025-10-24 15:17:01 INFO] SRTM download directory: \u001b[34m~/data/NASADEM\u001b[0m\n",
      "[2025-10-24 15:17:01 INFO] SRTM download directory: \u001b[34m~/data/NASADEM\u001b[0m\n"
     ]
    }
   ],
   "source": [
    "from rasters import Point\n",
    "from NASADEM import NASADEM"
   ]
  },
  {
   "cell_type": "code",
   "execution_count": 2,
   "id": "76d37143",
   "metadata": {},
   "outputs": [
    {
     "data": {
      "text/plain": [
       "POINT (-118 35)"
      ]
     },
     "execution_count": 2,
     "metadata": {},
     "output_type": "execute_result"
    }
   ],
   "source": [
    "geometry = Point(-118, 35)\n",
    "geometry"
   ]
  },
  {
   "cell_type": "code",
   "execution_count": 3,
   "id": "349c3d5a",
   "metadata": {},
   "outputs": [
    {
     "name": "stdout",
     "output_type": "stream",
     "text": [
      "[2025-10-24 15:17:01 INFO] loading elevation: \u001b[34mzip:///Users/halverso/data/NASADEM/NASADEM_HGT_n35w118.zip!/n35w118.hgt\u001b[0m\n",
      "\u001b[33m[2025-10-24 15:17:01 WARNING] Failed to sample point (-118.0, 35.0) from tile n35w118: 'NoneType' object is not callable\u001b[0m\n"
     ]
    },
    {
     "data": {
      "text/plain": [
       "nan"
      ]
     },
     "execution_count": 3,
     "metadata": {},
     "output_type": "execute_result"
    }
   ],
   "source": [
    "NASADEM.elevation_km(geometry=geometry)"
   ]
  },
  {
   "cell_type": "code",
   "execution_count": null,
   "id": "87793863",
   "metadata": {},
   "outputs": [],
   "source": []
  }
 ],
 "metadata": {
  "kernelspec": {
   "display_name": "NASADEM",
   "language": "python",
   "name": "python3"
  },
  "language_info": {
   "codemirror_mode": {
    "name": "ipython",
    "version": 3
   },
   "file_extension": ".py",
   "mimetype": "text/x-python",
   "name": "python",
   "nbconvert_exporter": "python",
   "pygments_lexer": "ipython3",
   "version": "3.10.19"
  }
 },
 "nbformat": 4,
 "nbformat_minor": 5
}
