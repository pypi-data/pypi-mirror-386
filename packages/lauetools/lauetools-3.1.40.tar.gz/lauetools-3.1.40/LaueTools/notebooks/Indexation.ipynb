{
 "cells": [
  {
   "cell_type": "markdown",
   "metadata": {},
   "source": [
    "# Indexation of spots data set.\n",
    "**Using Class spotsSet and play with spots considered for indexation and refinement**"
   ]
  },
  {
   "cell_type": "markdown",
   "metadata": {},
   "source": [
    "### This Notebook is a part of Tutorials on LaueTools Suite. Author:J.-S. Micha  Date: July 2019"
   ]
  },
  {
   "cell_type": "code",
   "execution_count": 1,
   "metadata": {},
   "outputs": [
    {
     "name": "stderr",
     "output_type": "stream",
     "text": [
      "/home/micha/anaconda3/lib/python3.6/site-packages/h5py/__init__.py:36: FutureWarning: Conversion of the second argument of issubdtype from `float` to `np.floating` is deprecated. In future, it will be treated as `np.float64 == np.dtype(float).type`.\n",
      "  from ._conv import register_converters as _register_converters\n"
     ]
    },
    {
     "name": "stdout",
     "output_type": "stream",
     "text": [
      "module Image / PIL is not installed\n",
      "LaueToolsProjectFolder /home/micha/LaueToolsPy3/LaueTools\n",
      "Cython compiled module 'gaussian2D' for fast computation is not installed!\n",
      "module Image / PIL is not installed\n",
      "Entering CrystalParameters ******---***************************\n",
      "\n",
      "\n",
      "Cython compiled module for fast computation of Laue spots is not installed!\n",
      "Cython compiled 'angulardist' module for fast computation of angular distance is not installed!\n",
      "Using default module\n",
      "Cython compiled module for fast computation of angular distance is not installed!\n",
      "module Image / PIL is not installed\n"
     ]
    }
   ],
   "source": [
    "%matplotlib inline\n",
    "\n",
    "import matplotlib\n",
    "import numpy as np\n",
    "import matplotlib.pyplot as plt\n",
    "import time,copy,os\n",
    "\n",
    "# third party LaueTools import\n",
    "import LaueTools.readmccd as RMCCD\n",
    "import LaueTools.LaueGeometry as F2TC\n",
    "import LaueTools.indexingSpotsSet as ISS\n",
    "import LaueTools.IOLaueTools as RWASCII"
   ]
  },
  {
   "cell_type": "markdown",
   "metadata": {},
   "source": [
    "refinement from guessed solutions with two materials (see script IndexingTwinsSeries)"
   ]
  },
  {
   "cell_type": "markdown",
   "metadata": {},
   "source": [
    "#### Let's take a simple example of a single Laue Pattern. From the peak search we get 83 spots"
   ]
  },
  {
   "cell_type": "code",
   "execution_count": 2,
   "metadata": {},
   "outputs": [],
   "source": [
    "folder= '../Examples/Ge/'\n",
    "datfilename='Ge0001.dat'"
   ]
  },
  {
   "cell_type": "code",
   "execution_count": 3,
   "metadata": {},
   "outputs": [],
   "source": [
    "key_material='Ge'\n",
    "emin, emax= 5,23"
   ]
  },
  {
   "cell_type": "code",
   "execution_count": 4,
   "metadata": {},
   "outputs": [
    {
     "name": "stdout",
     "output_type": "stream",
     "text": [
      "reading geometry calibration file\n",
      "calib =  [ 6.91790e+01  1.05081e+03  1.11559e+03  1.04000e-01 -2.73000e-01\n",
      "  8.05700e-02  2.04800e+03  2.04800e+03]\n",
      "matrix =  [-0.211596  0.092178 -0.973001 -0.77574   0.589743  0.224568  0.594521\n",
      "  0.802313 -0.053281]\n"
     ]
    }
   ],
   "source": [
    "# detector geometry and parameters as read from Ge0001.det\n",
    "calibration_parameters = [69.179, 1050.81, 1115.59, 0.104, -0.273]\n",
    "CCDCalibdict = {}\n",
    "CCDCalibdict['CCDCalibParameters'] = calibration_parameters\n",
    "CCDCalibdict['framedim'] = (2048, 2048)\n",
    "CCDCalibdict['detectordiameter'] = 165.\n",
    "CCDCalibdict['kf_direction'] = 'Z>0'\n",
    "CCDCalibdict['xpixelsize'] = 0.08057\n",
    "# CCDCalibdict can also be simply build by reading the proper .det file\n",
    "print(\"reading geometry calibration file\")\n",
    "CCDCalibdict=RWASCII.readCalib_det_file(os.path.join(folder,'Ge0001.det'))\n",
    "CCDCalibdict['kf_direction'] = 'Z>0'"
   ]
  },
  {
   "cell_type": "markdown",
   "metadata": {},
   "source": [
    "###### Compute scattering angles from spots pixel positions and detector geometry. Write a .cor file from .dat including these new infos"
   ]
  },
  {
   "cell_type": "code",
   "execution_count": 5,
   "metadata": {},
   "outputs": [
    {
     "name": "stdout",
     "output_type": "stream",
     "text": [
      "nb of spots and columns in .dat file (83, 3)\n",
      "file :../Examples/Ge/Ge0001.dat\n",
      "containing 83 peaks\n",
      "(2theta chi X Y I) written in ../Examples/Ge/Ge0001.cor\n"
     ]
    }
   ],
   "source": [
    "F2TC.convert2corfile(datfilename,\n",
    "                         calibration_parameters,\n",
    "                         dirname_in=folder,\n",
    "                        dirname_out=folder,\n",
    "                        CCDCalibdict=CCDCalibdict)\n",
    "corfilename = datfilename.split('.')[0] + '.cor'\n",
    "fullpathcorfile = os.path.join(folder,corfilename)"
   ]
  },
  {
   "cell_type": "markdown",
   "metadata": {},
   "source": [
    "###### Create an instance of the class spotset. Initialize spots properties to data contained in .cor file"
   ]
  },
  {
   "cell_type": "code",
   "execution_count": 6,
   "metadata": {},
   "outputs": [
    {
     "name": "stdout",
     "output_type": "stream",
     "text": [
      "CCDcalib in readfile_cor {'dd': 69.179, 'xcen': 1050.81, 'ycen': 1115.59, 'xbet': 0.104, 'xgam': -0.273, 'xpixelsize': 0.08057, 'ypixelsize': 0.08057, 'CCDLabel': 'sCMOS', 'framedim': [2048.0, 2048.0], 'detectordiameter': 165.00736, 'kf_direction': 'Z>0', 'pixelsize': 0.08057}\n",
      "CCD Detector parameters read from .cor file\n",
      "CCDcalibdict {'dd': 69.179, 'xcen': 1050.81, 'ycen': 1115.59, 'xbet': 0.104, 'xgam': -0.273, 'xpixelsize': 0.08057, 'ypixelsize': 0.08057, 'CCDLabel': 'sCMOS', 'framedim': [2048.0, 2048.0], 'detectordiameter': 165.00736, 'kf_direction': 'Z>0', 'pixelsize': 0.08057}\n"
     ]
    },
    {
     "data": {
      "text/plain": [
       "True"
      ]
     },
     "execution_count": 6,
     "metadata": {},
     "output_type": "execute_result"
    }
   ],
   "source": [
    "DataSet = ISS.spotsset()\n",
    "\n",
    "DataSet.importdatafromfile(fullpathcorfile)"
   ]
  },
  {
   "cell_type": "markdown",
   "metadata": {},
   "source": [
    "###### Class methods and attributes rely on a dictionnary of spots properties. key = exprimental spot index, val = spots properties "
   ]
  },
  {
   "cell_type": "code",
   "execution_count": 7,
   "metadata": {},
   "outputs": [
    {
     "data": {
      "text/plain": [
       "[[0, 78.215821, 1.638153, 1027.11, 1293.28, 70931.27, 0],\n",
       " [1, 64.329767, -20.824155, 1379.17, 1553.58, 51933.84, 0],\n",
       " [2, 68.680451, -15.358122, 1288.11, 1460.16, 22795.07, 0],\n",
       " [3, 105.61498, 8.176187, 926.22, 872.06, 19489.69, 0],\n",
       " [4, 103.859791, 27.866566, 595.46, 876.44, 19058.79, 0],\n",
       " [5, 120.59561, -8.92066, 1183.27, 598.92, 17182.88, 0],\n",
       " [6, 60.359458, 26.483191, 626.12, 1661.28, 15825.39, 0],\n",
       " [7, 56.269853, 12.967153, 856.14, 1702.52, 15486.2, 0],\n",
       " [8, 82.072076, -35.89243, 1672.67, 1258.62, 13318.81, 0],\n",
       " [9, 83.349535, -27.458061, 1497.4, 1224.7, 13145.99, 0]]"
      ]
     },
     "execution_count": 7,
     "metadata": {},
     "output_type": "execute_result"
    }
   ],
   "source": [
    "[DataSet.indexed_spots_dict[k] for k in range(10)]"
   ]
  },
  {
   "cell_type": "code",
   "execution_count": 8,
   "metadata": {},
   "outputs": [
    {
     "data": {
      "text/plain": [
       "array([[ 0.0000000e+00,  7.8215821e+01,  1.6381530e+00,  1.0271100e+03,\n",
       "         1.2932800e+03,  7.0931270e+04],\n",
       "       [ 1.0000000e+00,  6.4329767e+01, -2.0824155e+01,  1.3791700e+03,\n",
       "         1.5535800e+03,  5.1933840e+04],\n",
       "       [ 2.0000000e+00,  6.8680451e+01, -1.5358122e+01,  1.2881100e+03,\n",
       "         1.4601600e+03,  2.2795070e+04]])"
      ]
     },
     "execution_count": 8,
     "metadata": {},
     "output_type": "execute_result"
    }
   ],
   "source": [
    "DataSet.getUnIndexedSpotsallData()[:3]"
   ]
  },
  {
   "cell_type": "code",
   "execution_count": 9,
   "metadata": {},
   "outputs": [],
   "source": [
    "dict_loop = {'MATCHINGRATE_THRESHOLD_IAL': 100,\n",
    "                   'MATCHINGRATE_ANGLE_TOL': 0.2,\n",
    "                   'NBMAXPROBED': 6,\n",
    "                   'central spots indices': [0,],\n",
    "                   'AngleTolLUT': 0.5,\n",
    "                   'UseIntensityWeights': False,\n",
    "                   'nbSpotsToIndex':10000,\n",
    "                   'list matching tol angles':[0.5,0.5,0.2,0.2],\n",
    "                   'nlutmax':3,\n",
    "                   'MinimumNumberMatches': 3,\n",
    "                   'MinimumMatchingRate':3\n",
    "                   }\n",
    "grainindex=0\n",
    "DataSet = ISS.spotsset()\n",
    "    \n",
    "DataSet.pixelsize = CCDCalibdict['xpixelsize']\n",
    "DataSet.dim = CCDCalibdict['framedim']\n",
    "DataSet.detectordiameter = CCDCalibdict['detectordiameter']\n",
    "DataSet.kf_direction = CCDCalibdict['kf_direction']\n",
    "DataSet.key_material = key_material\n",
    "DataSet.emin = emin\n",
    "DataSet.emax = emax\n"
   ]
  },
  {
   "cell_type": "markdown",
   "metadata": {},
   "source": [
    "##### Normally we read all spots data from a .cor file"
   ]
  },
  {
   "cell_type": "code",
   "execution_count": 10,
   "metadata": {},
   "outputs": [
    {
     "name": "stdout",
     "output_type": "stream",
     "text": [
      "CCDcalib in readfile_cor {'dd': 69.179, 'xcen': 1050.81, 'ycen': 1115.59, 'xbet': 0.104, 'xgam': -0.273, 'xpixelsize': 0.08057, 'ypixelsize': 0.08057, 'CCDLabel': 'sCMOS', 'framedim': [2048.0, 2048.0], 'detectordiameter': 165.00736, 'kf_direction': 'Z>0', 'pixelsize': 0.08057}\n",
      "CCD Detector parameters read from .cor file\n",
      "CCDcalibdict {'dd': 69.179, 'xcen': 1050.81, 'ycen': 1115.59, 'xbet': 0.104, 'xgam': -0.273, 'xpixelsize': 0.08057, 'ypixelsize': 0.08057, 'CCDLabel': 'sCMOS', 'framedim': [2048.0, 2048.0], 'detectordiameter': 165.00736, 'kf_direction': 'Z>0', 'pixelsize': 0.08057}\n"
     ]
    },
    {
     "data": {
      "text/plain": [
       "5"
      ]
     },
     "execution_count": 10,
     "metadata": {},
     "output_type": "execute_result"
    }
   ],
   "source": [
    "DataSet.importdatafromfile(fullpathcorfile)\n",
    "DataSet.emin"
   ]
  },
  {
   "cell_type": "markdown",
   "metadata": {},
   "source": [
    "##### but we can import a custom list of spots. For example, starting from spots a the previous .cor file"
   ]
  },
  {
   "cell_type": "code",
   "execution_count": 11,
   "metadata": {},
   "outputs": [
    {
     "name": "stdout",
     "output_type": "stream",
     "text": [
      "CCDcalib in readfile_cor {'dd': 69.179, 'xcen': 1050.81, 'ycen': 1115.59, 'xbet': 0.104, 'xgam': -0.273, 'xpixelsize': 0.08057, 'ypixelsize': 0.08057, 'CCDLabel': 'sCMOS', 'framedim': [2048.0, 2048.0], 'detectordiameter': 165.00736, 'kf_direction': 'Z>0', 'pixelsize': 0.08057}\n",
      "CCD Detector parameters read from .cor file\n"
     ]
    }
   ],
   "source": [
    "Gespots = RWASCII.readfile_cor(fullpathcorfile)[0]"
   ]
  },
  {
   "cell_type": "code",
   "execution_count": 12,
   "metadata": {},
   "outputs": [
    {
     "data": {
      "text/plain": [
       "array([[ 7.82158210e+01,  1.63815300e+00,  1.02711000e+03,\n",
       "         1.29328000e+03,  7.09312700e+04],\n",
       "       [ 6.43297670e+01, -2.08241550e+01,  1.37917000e+03,\n",
       "         1.55358000e+03,  5.19338400e+04],\n",
       "       [ 6.86804510e+01, -1.53581220e+01,  1.28811000e+03,\n",
       "         1.46016000e+03,  2.27950700e+04],\n",
       "       [ 1.05614980e+02,  8.17618700e+00,  9.26220000e+02,\n",
       "         8.72060000e+02,  1.94896900e+04],\n",
       "       [ 1.03859791e+02,  2.78665660e+01,  5.95460000e+02,\n",
       "         8.76440000e+02,  1.90587900e+04],\n",
       "       [ 1.20595610e+02, -8.92066000e+00,  1.18327000e+03,\n",
       "         5.98920000e+02,  1.71828800e+04],\n",
       "       [ 6.03594580e+01,  2.64831910e+01,  6.26120000e+02,\n",
       "         1.66128000e+03,  1.58253900e+04]])"
      ]
     },
     "execution_count": 12,
     "metadata": {},
     "output_type": "execute_result"
    }
   ],
   "source": [
    "# 2theta chi X, Y Intensity of the first 7 spots\n",
    "Gespots[:7,:5]"
   ]
  },
  {
   "cell_type": "code",
   "execution_count": 13,
   "metadata": {},
   "outputs": [
    {
     "data": {
      "text/plain": [
       "(5, 83)"
      ]
     },
     "execution_count": 13,
     "metadata": {},
     "output_type": "execute_result"
    }
   ],
   "source": [
    "tth,chi,X,Y,I=Gespots[:,:5].T\n",
    "exp_data_all=np.array([tth,chi,I,X,Y])\n",
    "exp_data_all.shape"
   ]
  },
  {
   "cell_type": "code",
   "execution_count": 14,
   "metadata": {},
   "outputs": [],
   "source": [
    "#select some exp spots from absolute index   (6,0,2,30,9,8,20,10,5,1,7,14)\n",
    "tth_e,chi_e,X_e,Y_e,I_e = (np.take(Gespots[:,:5],(6,0,2,30,9,8,20,10,5,1,7,14),axis=0)).T\n",
    "exp_data=np.array([tth_e,chi_e,I_e,X_e,Y_e])"
   ]
  },
  {
   "cell_type": "markdown",
   "metadata": {},
   "source": [
    "#### spots data must be imported as an array of 5 elements: 2theta, chi, Intensity, pixelX, pixelY"
   ]
  },
  {
   "cell_type": "code",
   "execution_count": 15,
   "metadata": {},
   "outputs": [
    {
     "data": {
      "text/plain": [
       "(array([[ 6.03594580e+01,  7.82158210e+01,  6.86804510e+01,\n",
       "          1.08452917e+02,  8.33495350e+01,  8.20720760e+01,\n",
       "          8.17712570e+01,  9.17982210e+01,  1.20595610e+02,\n",
       "          6.43297670e+01,  5.62698530e+01,  1.14942090e+02],\n",
       "        [ 2.64831910e+01,  1.63815300e+00, -1.53581220e+01,\n",
       "          3.77494610e+01, -2.74580610e+01, -3.58924300e+01,\n",
       "          3.03824700e+01, -8.30994100e+00, -8.92066000e+00,\n",
       "         -2.08241550e+01,  1.29671530e+01,  1.15295700e+01],\n",
       "        [ 1.58253900e+04,  7.09312700e+04,  2.27950700e+04,\n",
       "          4.40061000e+03,  1.31459900e+04,  1.33188100e+04,\n",
       "          6.13787000e+03,  1.17999300e+04,  1.71828800e+04,\n",
       "          5.19338400e+04,  1.54862000e+04,  1.00105200e+04]]),\n",
       " array([ 0,  1,  2,  3,  4,  5,  6,  7,  8,  9, 10, 11]))"
      ]
     },
     "execution_count": 15,
     "metadata": {},
     "output_type": "execute_result"
    }
   ],
   "source": [
    "DataSet.importdata(exp_data)\n",
    "DataSet.detectorparameters = calibration_parameters\n",
    "DataSet.nbspots = len(exp_data[0])\n",
    "DataSet.filename = 'short_'+corfilename\n",
    "#DataSet.setSelectedExpSpotsData(0)\n",
    "DataSet.getSelectedExpSpotsData(0)"
   ]
  },
  {
   "cell_type": "markdown",
   "metadata": {},
   "source": [
    "### core function to index a set of spots"
   ]
  },
  {
   "cell_type": "markdown",
   "metadata": {},
   "source": [
    "by defaut DataSet.getUnIndexedSpotsallData() is called\n",
    "\n",
    "if use_file = 0, then current non indexed exp. spots will be considered for indexation\n",
    "\n",
    "if use_file  = 1, reimport data from file and reset also spots properties dictionary (i.e. with status unindexed)"
   ]
  },
  {
   "cell_type": "code",
   "execution_count": 16,
   "metadata": {},
   "outputs": [
    {
     "name": "stdout",
     "output_type": "stream",
     "text": [
      "self.pixelsize in IndexSpotsSet 0.08057\n",
      "ResolutionAngstromLUT in IndexSpotsSet False\n",
      "\n",
      " Remaining nb of spots to index for grain #0 : 12\n",
      "\n",
      "\n",
      " ******\n",
      "start to index grain #0 of Material: Ge \n",
      "\n",
      "******\n",
      "\n",
      "providing new set of matrices Using Angles LUT template matching\n",
      "nbspots 12\n",
      "NBMAXPROBED 6\n",
      "nbspots 12\n",
      "set_central_spots_hkl None\n",
      "Computing LUT from material data\n",
      "Compute LUT for indexing Ge spots in LauePattern \n",
      "Build angles LUT with latticeparameters\n",
      "[ 5.657499999999999  5.657499999999999  5.657499999999999\n",
      " 90.                90.                90.               ]\n",
      "and n=3\n",
      "MaxRadiusHKL False\n",
      "cubicSymmetry True\n",
      "Central set of exp. spotDistances from spot_index_central_list probed\n",
      "self.absolute_index [ 0  1  2  3  4  5  6  7  8  9 10 11]\n",
      "spot_index_central_list [0]\n",
      "[0]\n",
      "LUT is not None when entering getOrientMatrices()\n",
      "set_central_spots_hkl None\n",
      "set_central_spots_hkl_list [None]\n",
      "cubicSymmetry True\n",
      "LUT_tol_angle 0.5\n",
      "*---****------------------------------------------------*\n",
      "Calculating all possible matrices from exp spot #0 and the 5 other(s)\n",
      "hkl in getOrientMatrices None <class 'NoneType'>\n",
      "using LUTcubic\n",
      "LUTcubic is None for k_centspot_index 0 in getOrientMatrices()\n",
      "hkl1 in matrices_from_onespot_hkl() [[1 0 0]\n",
      " [1 1 0]\n",
      " [1 1 1]\n",
      " [2 1 0]\n",
      " [2 1 1]\n",
      " [2 2 1]\n",
      " [3 1 0]\n",
      " [3 1 1]\n",
      " [3 2 1]\n",
      " [3 2 2]\n",
      " [3 3 1]\n",
      " [3 3 2]]\n",
      "Computing hkl2 list for specific or cubic LUT in matrices_from_onespot_hkl()\n",
      "Calculating LUT in PlanePairs_from2sets()\n",
      "Looking up planes pairs in LUT from exp. spots (0, 1): \n",
      "Looking up planes pairs in LUT from exp. spots (0, 2): \n",
      "Looking up planes pairs in LUT from exp. spots (0, 3): \n",
      "Looking up planes pairs in LUT from exp. spots (0, 4): \n",
      "Looking up planes pairs in LUT from exp. spots (0, 5): \n",
      "calculating matching rates of solutions for exp. spots [0, 1]\n",
      "calculating matching rates of solutions for exp. spots [0, 2]\n",
      "calculating matching rates of solutions for exp. spots [0, 3]\n",
      "calculating matching rates of solutions for exp. spots [0, 4]\n",
      "\n",
      "\n",
      "return best matrix and matching scores for the one central_spot\n",
      "\n",
      "-----------------------------------------\n",
      "results:\n",
      "matrix:                                         matching results\n",
      "[-0.211852735694566  0.092255643652867 -0.972937466948891]        res: [20.0, 162.0] 0.014 12.35\n",
      "[-0.775856536468367  0.58951816141498   0.22475536073965 ]        spot indices [0 1]\n",
      "[ 0.594300563948835  0.802473664571131 -0.053318452339475]        planes [[1.0, 3.0, 2.0], [1.0, 1.0, 1.0]]\n",
      "\n",
      "Number of matrices found (nb_sol):  1\n",
      "set_central_spots_hkl in FindOrientMatrices None\n",
      "\n",
      "-----------------------------------------\n",
      "results:\n",
      "matrix:                                         matching results\n",
      "[-0.211852735694566  0.092255643652867 -0.972937466948891]        res: [20.0, 162.0] 0.014 12.35\n",
      "[-0.775856536468367  0.58951816141498   0.22475536073965 ]        spot indices [0 1]\n",
      "[ 0.594300563948835  0.802473664571131 -0.053318452339475]        planes [[1.0, 3.0, 2.0], [1.0, 1.0, 1.0]]\n",
      "\n",
      "Nb of potential orientation matrice(s) UB found: 1 \n",
      "[array([[-0.211852735694566,  0.092255643652867, -0.972937466948891],\n",
      "       [-0.775856536468367,  0.58951816141498 ,  0.22475536073965 ],\n",
      "       [ 0.594300563948835,  0.802473664571131, -0.053318452339475]])]\n",
      "Nb of potential UBs  1\n",
      "\n",
      "Working with a new stack of orientation matrices\n",
      "MATCHINGRATE_THRESHOLD_IAL= 100.0\n",
      "has not been reached! All potential solutions have been calculated\n",
      "taking the first one only.\n",
      "bestUB object <LaueTools.indexingSpotsSet.OrientMatrix object at 0x7fb8ec7ddc50>\n",
      "\n",
      "\n",
      "---------------refining grain orientation and strain #0-----------------\n",
      "\n",
      "\n",
      " refining grain #0 step -----0\n",
      "\n",
      "bestUB <LaueTools.indexingSpotsSet.OrientMatrix object at 0x7fb8ec7ddc50>\n",
      "True it is an OrientMatrix object\n",
      "Orientation <LaueTools.indexingSpotsSet.OrientMatrix object at 0x7fb8ec7ddc50>\n",
      "matrix [[-0.211852735694566  0.092255643652867 -0.972937466948891]\n",
      " [-0.775856536468367  0.58951816141498   0.22475536073965 ]\n",
      " [ 0.594300563948835  0.802473664571131 -0.053318452339475]]\n",
      "***nb of selected spots in AssignHKL***** 12\n",
      "UBOrientMatrix [[-0.211852735694566  0.092255643652867 -0.972937466948891]\n",
      " [-0.775856536468367  0.58951816141498   0.22475536073965 ]\n",
      " [ 0.594300563948835  0.802473664571131 -0.053318452339475]]\n",
      "For angular tolerance 0.50 deg\n",
      "Nb of pairs found / nb total of expected spots: 12/176\n",
      "Matching Rate : 6.82\n",
      "Nb missing reflections: 164\n",
      "\n",
      "grain #0 : 12 links to simulated spots have been found \n",
      "***********mean pixel deviation    0.560750282710606     ********\n",
      "Initial residues [0.053680370172309 0.013739858524874 0.921977335411896 0.403270956234836\n",
      " 0.919825854310187 0.785969463406447 0.565019172757509 1.127873079813964\n",
      " 0.363514793614926 0.412635402450867 0.711008521607465 0.450488584221994]\n",
      "---------------------------------------------------\n",
      "\n",
      "\n",
      "\n",
      "***************************\n",
      "first error with initial values of: ['b/a', 'c/a', 'a12', 'a13', 'a23', 'theta1', 'theta2', 'theta3']  \n",
      "\n",
      "***************************\n",
      "\n",
      "***********mean pixel deviation    0.560750282710606     ********\n",
      "\n",
      "\n",
      "***************************\n",
      "Fitting parameters:   ['b/a', 'c/a', 'a12', 'a13', 'a23', 'theta1', 'theta2', 'theta3'] \n",
      "\n",
      "***************************\n",
      "\n",
      "With initial values [1. 1. 0. 0. 0. 0. 0. 0.]\n",
      "code results 1\n",
      "nb iterations 1767\n",
      "mesg Both actual and predicted relative reductions in the sum of squares\n",
      "  are at most 0.000000\n",
      "strain_sol [ 1.001128981010799e+00  9.993806401299155e-01  8.449040381845989e-04\n",
      " -8.486913595751131e-04  3.520626401662759e-04 -2.714612741167435e-02\n",
      "  3.054889720130747e-02  5.311773668297186e-02]\n",
      "\n",
      "\n",
      " **************  End of Fitting  -  Final errors  ****************** \n",
      "\n",
      "\n",
      "***********mean pixel deviation    0.3158807195732847     ********\n",
      "devstrain, lattice_parameter_direct_strain [[ 0.000159671589578 -0.000413843247724  0.00039782267455 ]\n",
      " [-0.000413843247724 -0.00095830941256  -0.000151781897557]\n",
      " [ 0.00039782267455  -0.000151781897557  0.000798637822982]] [ 5.657424223234738  5.651101185787196  5.661104877237695\n",
      " 90.01741959362538  89.9544419036642   90.04747664598754 ]\n",
      "For comparison: a,b,c are rescaled with respect to the reference value of a = 5.657500 Angstroms\n",
      "lattice_parameter_direct_strain [ 5.657499999999999  5.651176877860324  5.661180703302433\n",
      " 90.01741959362538  89.9544419036642   90.04747664598754 ]\n",
      "devstrain1, lattice_parameter_direct_strain1 [[ 0.000159671589578 -0.000413843247724  0.00039782267455 ]\n",
      " [-0.000413843247724 -0.00095830941256  -0.000151781897557]\n",
      " [ 0.00039782267455  -0.000151781897557  0.000798637822982]] [ 5.657499999999999  5.651176877860324  5.661180703302433\n",
      " 90.01741959362538  89.9544419036642   90.04747664598754 ]\n",
      "new UBs matrix in q= UBs G (s for strain)\n",
      "strain_direct [[-1.339403716515974e-05 -4.138432477238585e-04  3.978226745502020e-04]\n",
      " [-4.138432477238585e-04 -1.131375039302607e-03 -1.517818975573709e-04]\n",
      " [ 3.978226745502020e-04 -1.517818975573709e-04  6.255721962393768e-04]]\n",
      "deviatoric strain [[ 0.000159671589578 -0.000413843247724  0.00039782267455 ]\n",
      " [-0.000413843247724 -0.00095830941256  -0.000151781897557]\n",
      " [ 0.00039782267455  -0.000151781897557  0.000798637822982]]\n",
      "new UBs matrix in q= UBs G (s for strain)\n",
      "strain_direct [[-1.339403716515974e-05 -4.138432477238585e-04  3.978226745502020e-04]\n",
      " [-4.138432477238585e-04 -1.131375039302607e-03 -1.517818975573709e-04]\n",
      " [ 3.978226745502020e-04 -1.517818975573709e-04  6.255721962393768e-04]]\n",
      "deviatoric strain [[ 0.000159671589578 -0.000413843247724  0.00039782267455 ]\n",
      " [-0.000413843247724 -0.00095830941256  -0.000151781897557]\n",
      " [ 0.00039782267455  -0.000151781897557  0.000798637822982]]\n",
      "For comparison: a,b,c are rescaled with respect to the reference value of a = 5.657500 Angstroms\n",
      "lattice_parameter_direct_strain [ 5.657499999999999  5.651176877860324  5.661180703302433\n",
      " 90.01741959362538  89.9544419036642   90.04747664598754 ]\n",
      "final lattice_parameters [ 5.657499999999999  5.651176877860324  5.661180703302433\n",
      " 90.01741959362538  89.9544419036642   90.04747664598754 ]\n",
      "UB and strain refinement completed\n",
      "True it is an OrientMatrix object\n",
      "Orientation <LaueTools.indexingSpotsSet.OrientMatrix object at 0x7fb8c98baa20>\n",
      "matrix [[-0.211415207301911  0.091252946262469 -0.97230572627369 ]\n",
      " [-0.77573594328912   0.590041596352251  0.224552051799525]\n",
      " [ 0.594613709497768  0.803610914885283 -0.054088075690982]]\n",
      "***nb of selected spots in AssignHKL***** 12\n",
      "UBOrientMatrix [[-0.211415207301911  0.091252946262469 -0.97230572627369 ]\n",
      " [-0.77573594328912   0.590041596352251  0.224552051799525]\n",
      " [ 0.594613709497768  0.803610914885283 -0.054088075690982]]\n",
      "For angular tolerance 0.50 deg\n",
      "Nb of pairs found / nb total of expected spots: 12/177\n",
      "Matching Rate : 6.78\n",
      "Nb missing reflections: 165\n",
      "\n",
      "grain #0 : 12 links to simulated spots have been found \n",
      "GoodRefinement condition is  True\n",
      "nb_updates 12 compared to 6\n",
      "\n",
      "\n",
      " refining grain #0 step -----1\n",
      "\n",
      "bestUB <LaueTools.indexingSpotsSet.OrientMatrix object at 0x7fb8ec7ddc50>\n",
      "True it is an OrientMatrix object\n",
      "Orientation <LaueTools.indexingSpotsSet.OrientMatrix object at 0x7fb8ec7ddc50>\n",
      "matrix [[-0.211852735694566  0.092255643652867 -0.972937466948891]\n",
      " [-0.775856536468367  0.58951816141498   0.22475536073965 ]\n",
      " [ 0.594300563948835  0.802473664571131 -0.053318452339475]]\n",
      "***nb of selected spots in AssignHKL***** 12\n",
      "UBOrientMatrix [[-0.211852735694566  0.092255643652867 -0.972937466948891]\n",
      " [-0.775856536468367  0.58951816141498   0.22475536073965 ]\n",
      " [ 0.594300563948835  0.802473664571131 -0.053318452339475]]\n",
      "For angular tolerance 0.50 deg\n",
      "Nb of pairs found / nb total of expected spots: 12/176\n",
      "Matching Rate : 6.82\n",
      "Nb missing reflections: 164\n",
      "\n",
      "grain #0 : 12 links to simulated spots have been found \n",
      "***********mean pixel deviation    0.560750282710606     ********\n",
      "Initial residues [0.053680370172309 0.013739858524874 0.921977335411896 0.403270956234836\n",
      " 0.919825854310187 0.785969463406447 0.565019172757509 1.127873079813964\n",
      " 0.363514793614926 0.412635402450867 0.711008521607465 0.450488584221994]\n",
      "---------------------------------------------------\n",
      "\n",
      "\n",
      "\n",
      "***************************\n",
      "first error with initial values of: ['b/a', 'c/a', 'a12', 'a13', 'a23', 'theta1', 'theta2', 'theta3']  \n",
      "\n",
      "***************************\n",
      "\n",
      "***********mean pixel deviation    0.560750282710606     ********\n",
      "\n",
      "\n",
      "***************************\n",
      "Fitting parameters:   ['b/a', 'c/a', 'a12', 'a13', 'a23', 'theta1', 'theta2', 'theta3'] \n",
      "\n",
      "***************************\n",
      "\n",
      "With initial values [1. 1. 0. 0. 0. 0. 0. 0.]\n"
     ]
    },
    {
     "name": "stdout",
     "output_type": "stream",
     "text": [
      "code results 1\n",
      "nb iterations 1767\n",
      "mesg Both actual and predicted relative reductions in the sum of squares\n",
      "  are at most 0.000000\n",
      "strain_sol [ 1.001128981010799e+00  9.993806401299155e-01  8.449040381845989e-04\n",
      " -8.486913595751131e-04  3.520626401662759e-04 -2.714612741167435e-02\n",
      "  3.054889720130747e-02  5.311773668297186e-02]\n",
      "\n",
      "\n",
      " **************  End of Fitting  -  Final errors  ****************** \n",
      "\n",
      "\n",
      "***********mean pixel deviation    0.3158807195732847     ********\n",
      "devstrain, lattice_parameter_direct_strain [[ 0.000159671589578 -0.000413843247724  0.00039782267455 ]\n",
      " [-0.000413843247724 -0.00095830941256  -0.000151781897557]\n",
      " [ 0.00039782267455  -0.000151781897557  0.000798637822982]] [ 5.657424223234738  5.651101185787196  5.661104877237695\n",
      " 90.01741959362538  89.9544419036642   90.04747664598754 ]\n",
      "For comparison: a,b,c are rescaled with respect to the reference value of a = 5.657500 Angstroms\n",
      "lattice_parameter_direct_strain [ 5.657499999999999  5.651176877860324  5.661180703302433\n",
      " 90.01741959362538  89.9544419036642   90.04747664598754 ]\n",
      "devstrain1, lattice_parameter_direct_strain1 [[ 0.000159671589578 -0.000413843247724  0.00039782267455 ]\n",
      " [-0.000413843247724 -0.00095830941256  -0.000151781897557]\n",
      " [ 0.00039782267455  -0.000151781897557  0.000798637822982]] [ 5.657499999999999  5.651176877860324  5.661180703302433\n",
      " 90.01741959362538  89.9544419036642   90.04747664598754 ]\n",
      "new UBs matrix in q= UBs G (s for strain)\n",
      "strain_direct [[-1.339403716515974e-05 -4.138432477238585e-04  3.978226745502020e-04]\n",
      " [-4.138432477238585e-04 -1.131375039302607e-03 -1.517818975573709e-04]\n",
      " [ 3.978226745502020e-04 -1.517818975573709e-04  6.255721962393768e-04]]\n",
      "deviatoric strain [[ 0.000159671589578 -0.000413843247724  0.00039782267455 ]\n",
      " [-0.000413843247724 -0.00095830941256  -0.000151781897557]\n",
      " [ 0.00039782267455  -0.000151781897557  0.000798637822982]]\n",
      "new UBs matrix in q= UBs G (s for strain)\n",
      "strain_direct [[-1.339403716515974e-05 -4.138432477238585e-04  3.978226745502020e-04]\n",
      " [-4.138432477238585e-04 -1.131375039302607e-03 -1.517818975573709e-04]\n",
      " [ 3.978226745502020e-04 -1.517818975573709e-04  6.255721962393768e-04]]\n",
      "deviatoric strain [[ 0.000159671589578 -0.000413843247724  0.00039782267455 ]\n",
      " [-0.000413843247724 -0.00095830941256  -0.000151781897557]\n",
      " [ 0.00039782267455  -0.000151781897557  0.000798637822982]]\n",
      "For comparison: a,b,c are rescaled with respect to the reference value of a = 5.657500 Angstroms\n",
      "lattice_parameter_direct_strain [ 5.657499999999999  5.651176877860324  5.661180703302433\n",
      " 90.01741959362538  89.9544419036642   90.04747664598754 ]\n",
      "final lattice_parameters [ 5.657499999999999  5.651176877860324  5.661180703302433\n",
      " 90.01741959362538  89.9544419036642   90.04747664598754 ]\n",
      "UB and strain refinement completed\n",
      "True it is an OrientMatrix object\n",
      "Orientation <LaueTools.indexingSpotsSet.OrientMatrix object at 0x7fb8c98ba9b0>\n",
      "matrix [[-0.211415207301911  0.091252946262469 -0.97230572627369 ]\n",
      " [-0.77573594328912   0.590041596352251  0.224552051799525]\n",
      " [ 0.594613709497768  0.803610914885283 -0.054088075690982]]\n",
      "***nb of selected spots in AssignHKL***** 12\n",
      "UBOrientMatrix [[-0.211415207301911  0.091252946262469 -0.97230572627369 ]\n",
      " [-0.77573594328912   0.590041596352251  0.224552051799525]\n",
      " [ 0.594613709497768  0.803610914885283 -0.054088075690982]]\n",
      "For angular tolerance 0.50 deg\n",
      "Nb of pairs found / nb total of expected spots: 12/177\n",
      "Matching Rate : 6.78\n",
      "Nb missing reflections: 165\n",
      "\n",
      "grain #0 : 12 links to simulated spots have been found \n",
      "GoodRefinement condition is  True\n",
      "nb_updates 12 compared to 6\n",
      "\n",
      "\n",
      " refining grain #0 step -----2\n",
      "\n",
      "bestUB <LaueTools.indexingSpotsSet.OrientMatrix object at 0x7fb8ec7ddc50>\n",
      "True it is an OrientMatrix object\n",
      "Orientation <LaueTools.indexingSpotsSet.OrientMatrix object at 0x7fb8ec7ddc50>\n",
      "matrix [[-0.211852735694566  0.092255643652867 -0.972937466948891]\n",
      " [-0.775856536468367  0.58951816141498   0.22475536073965 ]\n",
      " [ 0.594300563948835  0.802473664571131 -0.053318452339475]]\n",
      "***nb of selected spots in AssignHKL***** 12\n",
      "UBOrientMatrix [[-0.211852735694566  0.092255643652867 -0.972937466948891]\n",
      " [-0.775856536468367  0.58951816141498   0.22475536073965 ]\n",
      " [ 0.594300563948835  0.802473664571131 -0.053318452339475]]\n",
      "For angular tolerance 0.20 deg\n",
      "Nb of pairs found / nb total of expected spots: 12/176\n",
      "Matching Rate : 6.82\n",
      "Nb missing reflections: 164\n",
      "\n",
      "grain #0 : 12 links to simulated spots have been found \n",
      "***********mean pixel deviation    0.560750282710606     ********\n",
      "Initial residues [0.053680370172309 0.013739858524874 0.921977335411896 0.403270956234836\n",
      " 0.919825854310187 0.785969463406447 0.565019172757509 1.127873079813964\n",
      " 0.363514793614926 0.412635402450867 0.711008521607465 0.450488584221994]\n",
      "---------------------------------------------------\n",
      "\n",
      "\n",
      "\n",
      "***************************\n",
      "first error with initial values of: ['b/a', 'c/a', 'a12', 'a13', 'a23', 'theta1', 'theta2', 'theta3']  \n",
      "\n",
      "***************************\n",
      "\n",
      "***********mean pixel deviation    0.560750282710606     ********\n",
      "\n",
      "\n",
      "***************************\n",
      "Fitting parameters:   ['b/a', 'c/a', 'a12', 'a13', 'a23', 'theta1', 'theta2', 'theta3'] \n",
      "\n",
      "***************************\n",
      "\n",
      "With initial values [1. 1. 0. 0. 0. 0. 0. 0.]\n",
      "code results 1\n",
      "nb iterations 1767\n",
      "mesg Both actual and predicted relative reductions in the sum of squares\n",
      "  are at most 0.000000\n",
      "strain_sol [ 1.001128981010799e+00  9.993806401299155e-01  8.449040381845989e-04\n",
      " -8.486913595751131e-04  3.520626401662759e-04 -2.714612741167435e-02\n",
      "  3.054889720130747e-02  5.311773668297186e-02]\n",
      "\n",
      "\n",
      " **************  End of Fitting  -  Final errors  ****************** \n",
      "\n",
      "\n",
      "***********mean pixel deviation    0.3158807195732847     ********\n",
      "devstrain, lattice_parameter_direct_strain [[ 0.000159671589578 -0.000413843247724  0.00039782267455 ]\n",
      " [-0.000413843247724 -0.00095830941256  -0.000151781897557]\n",
      " [ 0.00039782267455  -0.000151781897557  0.000798637822982]] [ 5.657424223234738  5.651101185787196  5.661104877237695\n",
      " 90.01741959362538  89.9544419036642   90.04747664598754 ]\n",
      "For comparison: a,b,c are rescaled with respect to the reference value of a = 5.657500 Angstroms\n",
      "lattice_parameter_direct_strain [ 5.657499999999999  5.651176877860324  5.661180703302433\n",
      " 90.01741959362538  89.9544419036642   90.04747664598754 ]\n",
      "devstrain1, lattice_parameter_direct_strain1 [[ 0.000159671589578 -0.000413843247724  0.00039782267455 ]\n",
      " [-0.000413843247724 -0.00095830941256  -0.000151781897557]\n",
      " [ 0.00039782267455  -0.000151781897557  0.000798637822982]] [ 5.657499999999999  5.651176877860324  5.661180703302433\n",
      " 90.01741959362538  89.9544419036642   90.04747664598754 ]\n",
      "new UBs matrix in q= UBs G (s for strain)\n",
      "strain_direct [[-1.339403716515974e-05 -4.138432477238585e-04  3.978226745502020e-04]\n",
      " [-4.138432477238585e-04 -1.131375039302607e-03 -1.517818975573709e-04]\n",
      " [ 3.978226745502020e-04 -1.517818975573709e-04  6.255721962393768e-04]]\n",
      "deviatoric strain [[ 0.000159671589578 -0.000413843247724  0.00039782267455 ]\n",
      " [-0.000413843247724 -0.00095830941256  -0.000151781897557]\n",
      " [ 0.00039782267455  -0.000151781897557  0.000798637822982]]\n",
      "new UBs matrix in q= UBs G (s for strain)\n",
      "strain_direct [[-1.339403716515974e-05 -4.138432477238585e-04  3.978226745502020e-04]\n",
      " [-4.138432477238585e-04 -1.131375039302607e-03 -1.517818975573709e-04]\n",
      " [ 3.978226745502020e-04 -1.517818975573709e-04  6.255721962393768e-04]]\n",
      "deviatoric strain [[ 0.000159671589578 -0.000413843247724  0.00039782267455 ]\n",
      " [-0.000413843247724 -0.00095830941256  -0.000151781897557]\n",
      " [ 0.00039782267455  -0.000151781897557  0.000798637822982]]\n",
      "For comparison: a,b,c are rescaled with respect to the reference value of a = 5.657500 Angstroms\n",
      "lattice_parameter_direct_strain [ 5.657499999999999  5.651176877860324  5.661180703302433\n",
      " 90.01741959362538  89.9544419036642   90.04747664598754 ]\n",
      "final lattice_parameters [ 5.657499999999999  5.651176877860324  5.661180703302433\n",
      " 90.01741959362538  89.9544419036642   90.04747664598754 ]\n",
      "UB and strain refinement completed\n",
      "True it is an OrientMatrix object\n",
      "Orientation <LaueTools.indexingSpotsSet.OrientMatrix object at 0x7fb8cf573a90>\n",
      "matrix [[-0.211415207301911  0.091252946262469 -0.97230572627369 ]\n",
      " [-0.77573594328912   0.590041596352251  0.224552051799525]\n",
      " [ 0.594613709497768  0.803610914885283 -0.054088075690982]]\n",
      "***nb of selected spots in AssignHKL***** 12\n",
      "UBOrientMatrix [[-0.211415207301911  0.091252946262469 -0.97230572627369 ]\n",
      " [-0.77573594328912   0.590041596352251  0.224552051799525]\n",
      " [ 0.594613709497768  0.803610914885283 -0.054088075690982]]\n",
      "For angular tolerance 0.20 deg\n",
      "Nb of pairs found / nb total of expected spots: 12/177\n",
      "Matching Rate : 6.78\n",
      "Nb missing reflections: 165\n",
      "\n",
      "grain #0 : 12 links to simulated spots have been found \n",
      "GoodRefinement condition is  True\n",
      "nb_updates 12 compared to 6\n",
      "\n",
      "\n",
      " refining grain #0 step -----3\n",
      "\n",
      "bestUB <LaueTools.indexingSpotsSet.OrientMatrix object at 0x7fb8ec7ddc50>\n",
      "True it is an OrientMatrix object\n",
      "Orientation <LaueTools.indexingSpotsSet.OrientMatrix object at 0x7fb8ec7ddc50>\n",
      "matrix [[-0.211852735694566  0.092255643652867 -0.972937466948891]\n",
      " [-0.775856536468367  0.58951816141498   0.22475536073965 ]\n",
      " [ 0.594300563948835  0.802473664571131 -0.053318452339475]]\n",
      "***nb of selected spots in AssignHKL***** 12\n",
      "UBOrientMatrix [[-0.211852735694566  0.092255643652867 -0.972937466948891]\n",
      " [-0.775856536468367  0.58951816141498   0.22475536073965 ]\n",
      " [ 0.594300563948835  0.802473664571131 -0.053318452339475]]\n",
      "For angular tolerance 0.20 deg\n",
      "Nb of pairs found / nb total of expected spots: 12/176\n",
      "Matching Rate : 6.82\n",
      "Nb missing reflections: 164\n",
      "\n",
      "grain #0 : 12 links to simulated spots have been found \n",
      "***********mean pixel deviation    0.560750282710606     ********\n",
      "Initial residues [0.053680370172309 0.013739858524874 0.921977335411896 0.403270956234836\n",
      " 0.919825854310187 0.785969463406447 0.565019172757509 1.127873079813964\n",
      " 0.363514793614926 0.412635402450867 0.711008521607465 0.450488584221994]\n",
      "---------------------------------------------------\n",
      "\n",
      "\n",
      "\n",
      "***************************\n",
      "first error with initial values of: ['b/a', 'c/a', 'a12', 'a13', 'a23', 'theta1', 'theta2', 'theta3']  \n",
      "\n",
      "***************************\n",
      "\n",
      "***********mean pixel deviation    0.560750282710606     ********\n",
      "\n",
      "\n",
      "***************************\n",
      "Fitting parameters:   ['b/a', 'c/a', 'a12', 'a13', 'a23', 'theta1', 'theta2', 'theta3'] \n",
      "\n",
      "***************************\n",
      "\n",
      "With initial values [1. 1. 0. 0. 0. 0. 0. 0.]\n"
     ]
    },
    {
     "name": "stdout",
     "output_type": "stream",
     "text": [
      "code results 1\n",
      "nb iterations 1767\n",
      "mesg Both actual and predicted relative reductions in the sum of squares\n",
      "  are at most 0.000000\n",
      "strain_sol [ 1.001128981010799e+00  9.993806401299155e-01  8.449040381845989e-04\n",
      " -8.486913595751131e-04  3.520626401662759e-04 -2.714612741167435e-02\n",
      "  3.054889720130747e-02  5.311773668297186e-02]\n",
      "\n",
      "\n",
      " **************  End of Fitting  -  Final errors  ****************** \n",
      "\n",
      "\n",
      "***********mean pixel deviation    0.3158807195732847     ********\n",
      "devstrain, lattice_parameter_direct_strain [[ 0.000159671589578 -0.000413843247724  0.00039782267455 ]\n",
      " [-0.000413843247724 -0.00095830941256  -0.000151781897557]\n",
      " [ 0.00039782267455  -0.000151781897557  0.000798637822982]] [ 5.657424223234738  5.651101185787196  5.661104877237695\n",
      " 90.01741959362538  89.9544419036642   90.04747664598754 ]\n",
      "For comparison: a,b,c are rescaled with respect to the reference value of a = 5.657500 Angstroms\n",
      "lattice_parameter_direct_strain [ 5.657499999999999  5.651176877860324  5.661180703302433\n",
      " 90.01741959362538  89.9544419036642   90.04747664598754 ]\n",
      "devstrain1, lattice_parameter_direct_strain1 [[ 0.000159671589578 -0.000413843247724  0.00039782267455 ]\n",
      " [-0.000413843247724 -0.00095830941256  -0.000151781897557]\n",
      " [ 0.00039782267455  -0.000151781897557  0.000798637822982]] [ 5.657499999999999  5.651176877860324  5.661180703302433\n",
      " 90.01741959362538  89.9544419036642   90.04747664598754 ]\n",
      "new UBs matrix in q= UBs G (s for strain)\n",
      "strain_direct [[-1.339403716515974e-05 -4.138432477238585e-04  3.978226745502020e-04]\n",
      " [-4.138432477238585e-04 -1.131375039302607e-03 -1.517818975573709e-04]\n",
      " [ 3.978226745502020e-04 -1.517818975573709e-04  6.255721962393768e-04]]\n",
      "deviatoric strain [[ 0.000159671589578 -0.000413843247724  0.00039782267455 ]\n",
      " [-0.000413843247724 -0.00095830941256  -0.000151781897557]\n",
      " [ 0.00039782267455  -0.000151781897557  0.000798637822982]]\n",
      "new UBs matrix in q= UBs G (s for strain)\n",
      "strain_direct [[-1.339403716515974e-05 -4.138432477238585e-04  3.978226745502020e-04]\n",
      " [-4.138432477238585e-04 -1.131375039302607e-03 -1.517818975573709e-04]\n",
      " [ 3.978226745502020e-04 -1.517818975573709e-04  6.255721962393768e-04]]\n",
      "deviatoric strain [[ 0.000159671589578 -0.000413843247724  0.00039782267455 ]\n",
      " [-0.000413843247724 -0.00095830941256  -0.000151781897557]\n",
      " [ 0.00039782267455  -0.000151781897557  0.000798637822982]]\n",
      "For comparison: a,b,c are rescaled with respect to the reference value of a = 5.657500 Angstroms\n",
      "lattice_parameter_direct_strain [ 5.657499999999999  5.651176877860324  5.661180703302433\n",
      " 90.01741959362538  89.9544419036642   90.04747664598754 ]\n",
      "final lattice_parameters [ 5.657499999999999  5.651176877860324  5.661180703302433\n",
      " 90.01741959362538  89.9544419036642   90.04747664598754 ]\n",
      "UB and strain refinement completed\n",
      "True it is an OrientMatrix object\n",
      "Orientation <LaueTools.indexingSpotsSet.OrientMatrix object at 0x7fb8ec7bc128>\n",
      "matrix [[-0.211415207301911  0.091252946262469 -0.97230572627369 ]\n",
      " [-0.77573594328912   0.590041596352251  0.224552051799525]\n",
      " [ 0.594613709497768  0.803610914885283 -0.054088075690982]]\n",
      "***nb of selected spots in AssignHKL***** 12\n",
      "UBOrientMatrix [[-0.211415207301911  0.091252946262469 -0.97230572627369 ]\n",
      " [-0.77573594328912   0.590041596352251  0.224552051799525]\n",
      " [ 0.594613709497768  0.803610914885283 -0.054088075690982]]\n",
      "For angular tolerance 0.20 deg\n",
      "Nb of pairs found / nb total of expected spots: 12/177\n",
      "Matching Rate : 6.78\n",
      "Nb missing reflections: 165\n",
      "\n",
      "grain #0 : 12 links to simulated spots have been found \n",
      "GoodRefinement condition is  True\n",
      "nb_updates 12 compared to 6\n",
      "\n",
      "---------------------------------------------\n",
      "indexing completed for grain #0 with matching rate 6.78 \n",
      "---------------------------------------------\n",
      "\n",
      "transform matrix to matrix with lowest Euler Angles\n",
      "start \n",
      " [[-0.211415207301911  0.091252946262469 -0.97230572627369 ]\n",
      " [-0.77573594328912   0.590041596352251  0.224552051799525]\n",
      " [ 0.594613709497768  0.803610914885283 -0.054088075690982]]\n",
      "final \n",
      " [[ 0.97230572627369   0.211415207301911  0.091252946262469]\n",
      " [-0.224552051799525  0.77573594328912   0.590041596352251]\n",
      " [ 0.054088075690982 -0.594613709497768  0.803610914885283]]\n",
      "hkl [[2. 6. 4.]\n",
      " [3. 3. 3.]\n",
      " [5. 3. 3.]\n",
      " [1. 3. 5.]\n",
      " [6. 2. 4.]\n",
      " [5. 1. 3.]\n",
      " [1. 3. 3.]\n",
      " [6. 4. 6.]\n",
      " [4. 2. 6.]\n",
      " [4. 2. 2.]\n",
      " [3. 5. 3.]\n",
      " [2. 2. 4.]]\n",
      "new hkl (min euler angles) [[-4. -2.  6.]\n",
      " [-3. -3.  3.]\n",
      " [-3. -5.  3.]\n",
      " [-5. -1.  3.]\n",
      " [-4. -6.  2.]\n",
      " [-3. -5.  1.]\n",
      " [-3. -1.  3.]\n",
      " [-6. -6.  4.]\n",
      " [-6. -4.  2.]\n",
      " [-2. -4.  2.]\n",
      " [-3. -3.  5.]\n",
      " [-4. -2.  2.]]\n",
      "UB before [[-0.211415207301911  0.091252946262469 -0.97230572627369 ]\n",
      " [-0.77573594328912   0.590041596352251  0.224552051799525]\n",
      " [ 0.594613709497768  0.803610914885283 -0.054088075690982]]\n",
      "new UB (min euler angles) [[ 0.97230572627369   0.211415207301911  0.091252946262469]\n",
      " [-0.224552051799525  0.77573594328912   0.590041596352251]\n",
      " [ 0.054088075690982 -0.594613709497768  0.803610914885283]]\n",
      "writing fit file -------------------------\n",
      "for grainindex= 0\n",
      "self.dict_grain_matrix[grain_index] [[ 0.97230572627369   0.211415207301911  0.091252946262469]\n",
      " [-0.224552051799525  0.77573594328912   0.590041596352251]\n",
      " [ 0.054088075690982 -0.594613709497768  0.803610914885283]]\n",
      "self.refinedUBmatrix [[-0.211415207301911  0.091252946262469 -0.97230572627369 ]\n",
      " [-0.77573594328912   0.590041596352251  0.224552051799525]\n",
      " [ 0.594613709497768  0.803610914885283 -0.054088075690982]]\n",
      "new UBs matrix in q= UBs G (s for strain)\n",
      "strain_direct [[-1.339403716515974e-05 -4.138432477238585e-04  3.978226745502020e-04]\n",
      " [-4.138432477238585e-04 -1.131375039302607e-03 -1.517818975573709e-04]\n",
      " [ 3.978226745502020e-04 -1.517818975573709e-04  6.255721962393768e-04]]\n",
      "deviatoric strain [[ 0.000159671589578 -0.000413843247724  0.00039782267455 ]\n",
      " [-0.000413843247724 -0.00095830941256  -0.000151781897557]\n",
      " [ 0.00039782267455  -0.000151781897557  0.000798637822982]]\n",
      "new UBs matrix in q= UBs G (s for strain)\n",
      "strain_direct [[-1.339403716515974e-05 -4.138432477238585e-04  3.978226745502020e-04]\n",
      " [-4.138432477238585e-04 -1.131375039302607e-03 -1.517818975573709e-04]\n",
      " [ 3.978226745502020e-04 -1.517818975573709e-04  6.255721962393768e-04]]\n",
      "deviatoric strain [[ 0.000159671589578 -0.000413843247724  0.00039782267455 ]\n",
      " [-0.000413843247724 -0.00095830941256  -0.000151781897557]\n",
      " [ 0.00039782267455  -0.000151781897557  0.000798637822982]]\n",
      "For comparison: a,b,c are rescaled with respect to the reference value of a = 5.657500 Angstroms\n",
      "lattice_parameter_direct_strain [ 5.657499999999999  5.651176877860324  5.661180703302433\n",
      " 90.01741959362538  89.9544419036642   90.04747664598754 ]\n",
      "final lattice_parameters [ 5.657499999999999  5.651176877860324  5.661180703302433\n",
      " 90.01741959362538  89.9544419036642   90.04747664598754 ]\n",
      "File : Ge0001_g0.fit written in /home/micha/LaueToolsPy3/LaueTools/notebooks\n",
      "Experimental experimental spots indices which are not indexed []\n",
      "Missing reflections grainindex is -100 for indexed grainindex 0\n",
      "within angular tolerance 0.500\n",
      "\n",
      " Remaining nb of spots to index for grain #1 : 0\n",
      "\n",
      "12 spots have been indexed over 12\n",
      "indexing rate is --- : 100.0 percents\n",
      "indexation of short_Ge0001.cor is completed\n",
      "for the 1 grain(s) that has(ve) been indexed as requested\n",
      "Leaving Index and Refine procedures...\n"
     ]
    }
   ],
   "source": [
    "DataSet.IndexSpotsSet(fullpathcorfile, key_material, emin, emax, dict_loop, None,\n",
    "                         use_file=0, # if 1, reimport data from file and reset also spots properties dictionary\n",
    "                         IMM=False,LUT=None,n_LUT=dict_loop['nlutmax'],angletol_list=dict_loop['list matching tol angles'],\n",
    "                        nbGrainstoFind=1,\n",
    "                      starting_grainindex=0,\n",
    "                      MatchingRate_List=[1, 1, 1,1,1,1,1,1],\n",
    "                        verbose=0, previousResults=None,\n",
    "                        corfilename=corfilename)"
   ]
  },
  {
   "cell_type": "code",
   "execution_count": 17,
   "metadata": {},
   "outputs": [
    {
     "name": "stdout",
     "output_type": "stream",
     "text": [
      "number of indexed spots 12\n"
     ]
    }
   ],
   "source": [
    "index_grain_retrieve=0\n",
    "print(\"number of indexed spots\", len(DataSet.getallIndexedSpotsallData()[index_grain_retrieve]))"
   ]
  },
  {
   "cell_type": "markdown",
   "metadata": {},
   "source": [
    "### Results of indexation can be found in attributes or through methods"
   ]
  },
  {
   "cell_type": "code",
   "execution_count": 18,
   "metadata": {},
   "outputs": [
    {
     "name": "stdout",
     "output_type": "stream",
     "text": [
      "first 2 indexed spots properties\n",
      "\n",
      "#spot  #grain 2theta chi X Y I h k l Energy\n",
      "[[ 0.000000000000000e+00  0.000000000000000e+00  6.035945800000000e+01\n",
      "   2.648319100000000e+01  6.261200000000000e+02  1.661280000000000e+03\n",
      "   1.582539000000000e+04 -4.000000000000000e+00 -2.000000000000000e+00\n",
      "   6.000000000000000e+00  1.632366988464985e+01]\n",
      " [ 1.000000000000000e+00  0.000000000000000e+00  7.821582100000001e+01\n",
      "   1.638153000000000e+00  1.027110000000000e+03  1.293280000000000e+03\n",
      "   7.093127000000000e+04 -3.000000000000000e+00 -3.000000000000000e+00\n",
      "   3.000000000000000e+00  9.031851548397370e+00]]\n"
     ]
    }
   ],
   "source": [
    "spotsdata=DataSet.getSummaryallData()\n",
    "print(\"first 2 indexed spots properties\\n\")\n",
    "print('#spot  #grain 2theta chi X Y I h k l Energy')\n",
    "print(spotsdata[:2])"
   ]
  },
  {
   "cell_type": "code",
   "execution_count": 19,
   "metadata": {},
   "outputs": [
    {
     "name": "stdout",
     "output_type": "stream",
     "text": [
      "#grain  : [Npairs = Nb pairs with tolerance angle 0.2000, 100*Npairs/Ndirections theo.]\n"
     ]
    },
    {
     "data": {
      "text/plain": [
       "{0: [12, 6.779661016949152]}"
      ]
     },
     "execution_count": 19,
     "metadata": {},
     "output_type": "execute_result"
    }
   ],
   "source": [
    "print('#grain  : [Npairs = Nb pairs with tolerance angle %.4f, 100*Npairs/Ndirections theo.]'%dict_loop['list matching tol angles'][-1])\n",
    "DataSet.dict_grain_matching_rate\n"
   ]
  },
  {
   "cell_type": "code",
   "execution_count": 20,
   "metadata": {},
   "outputs": [
    {
     "name": "stdout",
     "output_type": "stream",
     "text": [
      "#grain  : deviatoric strain\n"
     ]
    },
    {
     "data": {
      "text/plain": [
       "{0: array([[ 0.000159671589578, -0.000413843247724,  0.00039782267455 ],\n",
       "        [-0.000413843247724, -0.00095830941256 , -0.000151781897557],\n",
       "        [ 0.00039782267455 , -0.000151781897557,  0.000798637822982]])}"
      ]
     },
     "execution_count": 20,
     "metadata": {},
     "output_type": "execute_result"
    }
   ],
   "source": [
    "print(\"#grain  : deviatoric strain\")\n",
    "DataSet.dict_grain_devstrain"
   ]
  },
  {
   "cell_type": "code",
   "execution_count": 21,
   "metadata": {},
   "outputs": [
    {
     "name": "stdout",
     "output_type": "stream",
     "text": [
      "#grain  : refined UB matrix\n"
     ]
    },
    {
     "data": {
      "text/plain": [
       "{0: array([[ 0.97230572627369 ,  0.211415207301911,  0.091252946262469],\n",
       "        [-0.224552051799525,  0.77573594328912 ,  0.590041596352251],\n",
       "        [ 0.054088075690982, -0.594613709497768,  0.803610914885283]])}"
      ]
     },
     "execution_count": 21,
     "metadata": {},
     "output_type": "execute_result"
    }
   ],
   "source": [
    "#RefinedUB= DataSet.dict_grain_matrix\n",
    "print(\"#grain  : refined UB matrix\")\n",
    "DataSet.dict_grain_matrix\n",
    "\n"
   ]
  },
  {
   "cell_type": "code",
   "execution_count": 22,
   "metadata": {},
   "outputs": [
    {
     "name": "stdout",
     "output_type": "stream",
     "text": [
      "[[0, 60.359458, 26.483191, 626.12, 1661.28, 15825.39, array([-4., -2.,  6.]), 16.323669884649853, 0, 1], [1, 78.215821, 1.638153, 1027.11, 1293.28, 70931.27, array([-3., -3.,  3.]), 9.03185154839737, 0, 1], [2, 68.680451, -15.358122, 1288.11, 1460.16, 22795.07, array([-3., -5.,  3.]), 12.73794897550435, 0, 1], [3, 108.452917, 37.749461, 383.77, 754.58, 4400.61, array([-5., -1.,  3.]), 7.989738078276174, 0, 1], [4, 83.349535, -27.458061, 1497.4, 1224.7, 13145.99, array([-4., -6.,  2.]), 12.327936233758937, 0, 1], [5, 82.072076, -35.89243, 1672.67, 1258.62, 13318.81, array([-3., -5.,  1.]), 9.870774398536632, 0, 1], [6, 81.771257, 30.38247, 548.25, 1260.32, 6137.87, array([-3., -1.,  3.]), 7.2986772558942405, 0, 1], [7, 91.798221, -8.309941, 1176.09, 1086.19, 11799.93, array([-6., -6.,  4.]), 14.309911950813975, 0, 1], [8, 120.59561, -8.92066, 1183.27, 598.92, 17182.88, array([-6., -4.,  2.]), 9.435284238042113, 0, 1], [9, 64.329767, -20.824155, 1379.17, 1553.58, 51933.84, array([-2., -4.,  2.]), 10.087272916663885, 0, 1]]\n"
     ]
    }
   ],
   "source": [
    "print([DataSet.indexed_spots_dict[k] for k in range(10)])"
   ]
  }
 ],
 "metadata": {
  "kernelspec": {
   "display_name": "Python 3",
   "language": "python",
   "name": "python3"
  },
  "language_info": {
   "codemirror_mode": {
    "name": "ipython",
    "version": 3
   },
   "file_extension": ".py",
   "mimetype": "text/x-python",
   "name": "python",
   "nbconvert_exporter": "python",
   "pygments_lexer": "ipython3",
   "version": "3.6.5"
  }
 },
 "nbformat": 4,
 "nbformat_minor": 1
}
