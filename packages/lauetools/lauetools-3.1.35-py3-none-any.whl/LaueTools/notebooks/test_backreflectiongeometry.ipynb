{
 "cells": [
  {
   "cell_type": "markdown",
   "metadata": {},
   "source": [
    "**test back reflection geometry calculation of angles and X, Y positions**"
   ]
  },
  {
   "cell_type": "code",
   "execution_count": 4,
   "metadata": {},
   "outputs": [],
   "source": [
    "import LaueTools as LT\n",
    "import numpy as np"
   ]
  },
  {
   "cell_type": "code",
   "execution_count": 5,
   "metadata": {},
   "outputs": [
    {
     "data": {
      "text/plain": [
       "<module 'LaueTools' from '/home/micha/lauetoolsgithub/LaueTools/__init__.py'>"
      ]
     },
     "execution_count": 5,
     "metadata": {},
     "output_type": "execute_result"
    }
   ],
   "source": [
    "LT"
   ]
  },
  {
   "cell_type": "code",
   "execution_count": 6,
   "metadata": {},
   "outputs": [
    {
     "name": "stdout",
     "output_type": "stream",
     "text": [
      "-- OK! You are using python 3\n"
     ]
    }
   ],
   "source": [
    "import LaueTools.LaueGeometry as LTGeo"
   ]
  },
  {
   "cell_type": "code",
   "execution_count": 4,
   "metadata": {},
   "outputs": [
    {
     "data": {
      "text/plain": [
       "<function LaueTools.LaueGeometry.calc_uflab_back(xcam, ycam, calib, returnAngles=1, verbose=0, pixelsize=0.08056640625, rectpix=0)>"
      ]
     },
     "execution_count": 4,
     "metadata": {},
     "output_type": "execute_result"
    }
   ],
   "source": [
    "LTGeo.calc_uflab_back"
   ]
  },
  {
   "cell_type": "code",
   "execution_count": null,
   "metadata": {},
   "outputs": [],
   "source": [
    "LTGeo.calc_xycam_backreflection"
   ]
  },
  {
   "cell_type": "code",
   "execution_count": 7,
   "metadata": {},
   "outputs": [
    {
     "name": "stdout",
     "output_type": "stream",
     "text": [
      "xcam [1000 1000  950]\n",
      "Back reflection GEOMETRY\n",
      "[ 0.000000000000000e+00 -1.000000000000000e+00  6.123233995736766e-17]\n",
      "xOM, yOM, zOM [  0.   0. -50.] [ 3.061616997868383e-15 -3.061616997868383e-15  0.000000000000000e+00] [ 50. -50.   0.]\n",
      "xca0, yca0 [  0.   0. -50.] [ 50. -50.   0.]\n",
      "IMlab [[    0. -1000.    50.]\n",
      " [    0. -1000.   -50.]\n",
      " [  -50. -1000.     0.]]\n",
      "nIMlab [1001.2492197250393 1001.2492197250393 1001.2492197250393]\n",
      "uflab [[ 0.      -0.99875  0.04994]\n",
      " [ 0.      -0.99875 -0.04994]\n",
      " [-0.04994 -0.99875  0.     ]]\n",
      "chi_JSM [  -0.               -180.                 89.99999999999993]\n",
      "2theta [177.13759477388822 177.13759477388822 177.13759477388822]\n",
      "Back reflection GEOMETRY\n"
     ]
    }
   ],
   "source": [
    "calib = [1000,1000,1000,0,0]\n",
    "xycam=np.array([[1000,1000+50],\n",
    "                [1000,1000-50],\n",
    "                [1000-50,1000]])\n",
    "pixelsize = 1\n",
    "xcam, ycam=xycam.T\n",
    "print('xcam',xcam)\n",
    "tth_chi=LTGeo.calc_uflab_back(xcam, ycam, calib,returnAngles=True, pixelsize=pixelsize, verbose=1)\n",
    "uflab_IM = LTGeo.calc_uflab_back(xcam, ycam, calib,returnAngles=False, pixelsize=pixelsize)"
   ]
  },
  {
   "cell_type": "code",
   "execution_count": 5,
   "metadata": {},
   "outputs": [
    {
     "data": {
      "text/plain": [
       "0.999000999000999"
      ]
     },
     "execution_count": 5,
     "metadata": {},
     "output_type": "execute_result"
    }
   ],
   "source": [
    "1000/1001"
   ]
  },
  {
   "cell_type": "code",
   "execution_count": 8,
   "metadata": {
    "scrolled": true
   },
   "outputs": [
    {
     "data": {
      "text/plain": [
       "((array([90.11459140623779 , 90.05124688946022 , 26.565051177078004]),\n",
       "  array([-180.              ,  116.56505117707799, -180.              ])),\n",
       " (array([[ 0.000000000000000e+00, -1.999996000012122e-03,\n",
       "          -9.999980000059999e-01],\n",
       "         [-8.944268332292542e-01, -8.944268332293089e-04,\n",
       "          -4.472134166146271e-01],\n",
       "         [ 0.000000000000000e+00,  8.944271909999157e-01,\n",
       "          -4.472135954999580e-01]]),\n",
       "  array([[   0.               ,   -0.100000000000006,  -50.               ],\n",
       "         [-100.               ,   -0.100000000000006,  -50.               ],\n",
       "         [   0.               ,  100.               ,  -50.000000000000014]])))"
      ]
     },
     "execution_count": 8,
     "metadata": {},
     "output_type": "execute_result"
    }
   ],
   "source": [
    "tth_chi, uflab_IM"
   ]
  },
  {
   "cell_type": "code",
   "execution_count": 6,
   "metadata": {},
   "outputs": [
    {
     "name": "stderr",
     "output_type": "stream",
     "text": [
      "/home/micha/lauetoolsgithub/LaueTools/LaueGeometry.py:808: RuntimeWarning: divide by zero encountered in true_divide\n",
      "  Energy_2 = CST_CONV_LAMBDA_KEV * norme_qflab2 ** 2 / (2.0 * np.sin(th0_2 * DEG))\n"
     ]
    },
    {
     "data": {
      "text/plain": [
       "(array([[1000, 1000],\n",
       "        [   0, 1000],\n",
       "        [1000,    0]]),\n",
       " array([ 0.              , 63.43494882292201, 63.43494882292201]))"
      ]
     },
     "execution_count": 6,
     "metadata": {},
     "output_type": "execute_result"
    }
   ],
   "source": [
    "_xcam, _ycam, th0 =  LTGeo.calc_xycam_backreflection(uflab_IM[0],calib, pixelsize=pixelsize,)\n",
    "_xycam = np.array([xcam, ycam]).T\n",
    "_xycam, 2*th0"
   ]
  },
  {
   "cell_type": "code",
   "execution_count": null,
   "metadata": {},
   "outputs": [],
   "source": []
  }
 ],
 "metadata": {
  "kernelspec": {
   "display_name": "Python 3",
   "language": "python",
   "name": "python3"
  },
  "language_info": {
   "codemirror_mode": {
    "name": "ipython",
    "version": 3
   },
   "file_extension": ".py",
   "mimetype": "text/x-python",
   "name": "python",
   "nbconvert_exporter": "python",
   "pygments_lexer": "ipython3",
   "version": "3.6.5"
  },
  "toc": {
   "base_numbering": 1,
   "nav_menu": {},
   "number_sections": true,
   "sideBar": true,
   "skip_h1_title": false,
   "title_cell": "Table of Contents",
   "title_sidebar": "Contents",
   "toc_cell": false,
   "toc_position": {},
   "toc_section_display": true,
   "toc_window_display": false
  }
 },
 "nbformat": 4,
 "nbformat_minor": 2
}
