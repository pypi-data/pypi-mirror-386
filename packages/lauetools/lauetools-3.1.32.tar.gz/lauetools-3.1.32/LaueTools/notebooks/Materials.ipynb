{
 "cells": [
  {
   "cell_type": "markdown",
   "metadata": {},
   "source": [
    "# Defining Materials in LaueTools\n",
    "**Using CrystalParameters and dict_LaueTools**"
   ]
  },
  {
   "cell_type": "markdown",
   "metadata": {},
   "source": [
    "### This Notebook is a part of Tutorials on LaueTools Suite. Author:J.-S. Micha  Date: July 2019"
   ]
  },
  {
   "cell_type": "code",
   "execution_count": 3,
   "metadata": {},
   "outputs": [
    {
     "name": "stdout",
     "output_type": "stream",
     "text": [
      "LaueToolsProjectFolder /home/micha/LaueToolsPy3/LaueTools\n",
      "module Image / PIL is not installed\n",
      "Cython compiled module 'gaussian2D' for fast computation is not installed!\n",
      "module Image / PIL is not installed\n",
      "Cython compiled module for fast computation of Laue spots is not installed!\n",
      "Cython compiled 'angulardist' module for fast computation of angular distance is not installed!\n",
      "Using default module\n",
      "Cython compiled module for fast computation of angular distance is not installed!\n",
      "module Image / PIL is not installed\n"
     ]
    },
    {
     "name": "stderr",
     "output_type": "stream",
     "text": [
      "/home/micha/anaconda3/lib/python3.6/site-packages/h5py/__init__.py:36: FutureWarning: Conversion of the second argument of issubdtype from `float` to `np.floating` is deprecated. In future, it will be treated as `np.float64 == np.dtype(float).type`.\n",
      "  from ._conv import register_converters as _register_converters\n"
     ]
    }
   ],
   "source": [
    "%matplotlib inline\n",
    "\n",
    "import matplotlib\n",
    "import numpy as np\n",
    "import matplotlib.pyplot as plt\n",
    "import time,copy,os\n",
    "\n",
    "\n",
    "import LaueTools.dict_LaueTools as dictLT\n",
    "\n",
    "# third party LaueTools import\n",
    "import LaueTools.CrystalParameters as CP\n",
    "\n",
    "import LaueTools.readmccd as RMCCD\n",
    "import LaueTools.LaueGeometry as F2TC\n",
    "import LaueTools.indexingSpotsSet as ISS\n",
    "import LaueTools.IOLaueTools as RWASCII"
   ]
  },
  {
   "cell_type": "markdown",
   "metadata": {},
   "source": [
    "### Materials structural parameters are contained in dictionary `dict_Materials`. An ASCII file can also be filled properly and loaded on purpose.\n",
    "\n",
    "the key of dictionary is the element or material label.\n",
    "The corresponding value is a list containing the unit cell (real or direct) parameters and a label for existence (or extinction) rules"
   ]
  },
  {
   "cell_type": "code",
   "execution_count": 6,
   "metadata": {},
   "outputs": [
    {
     "name": "stdout",
     "output_type": "stream",
     "text": [
      "Ge materials has these structural parameters ['Ge', [5.6575, 5.6575, 5.6575, 90, 90, 90], 'dia']\n"
     ]
    }
   ],
   "source": [
    "dictMat=dictLT.dict_Materials\n",
    "key_material= 'Ge'\n",
    "\n",
    "print('%s materials has these structural parameters'%key_material, dictMat[key_material])"
   ]
  },
  {
   "cell_type": "markdown",
   "metadata": {},
   "source": [
    "##### a,b,c are in Angstrom and alpha beta gamma in degrees. 'dia'  is the label used in `CrystalParameters.ApplyExtinctionrules()` to filter Laue spots or nodes. "
   ]
  },
  {
   "cell_type": "markdown",
   "metadata": {},
   "source": [
    "Then some Laue reflections (spots, nodes) are forbidden in the diamond structure\n",
    "\n",
    "\"\"\"\n",
    "\n",
    "cond = ((H - K) % 2 == 0) * ((H - L) % 2 == 0)\n",
    "\n",
    "if Extinc == \"dia\":\n",
    "\n",
    "    conddia = ((H + K + L) % 4) != 2\n",
    "    \n",
    "\"\"\""
   ]
  },
  {
   "cell_type": "code",
   "execution_count": 8,
   "metadata": {},
   "outputs": [
    {
     "data": {
      "text/plain": [
       "array([[-2,  2,  0],\n",
       "       [ 1,  1,  1],\n",
       "       [ 0,  0,  4]])"
      ]
     },
     "execution_count": 8,
     "metadata": {},
     "output_type": "execute_result"
    }
   ],
   "source": [
    "HKL=np.array([[0,0,6],[-2,2,0],[1,1,1],[1,3,2],[0,0,4]])\n",
    "CP.ApplyExtinctionrules(HKL,'dia')"
   ]
  },
  {
   "cell_type": "markdown",
   "metadata": {},
   "source": [
    "# Load or define a new material"
   ]
  },
  {
   "cell_type": "markdown",
   "metadata": {},
   "source": [
    "### There are two options:\n",
    "\n",
    "0- Add dynamically your element in dictMat simply as following dictMat['newmaterial']=['',[5,5,7,89,89,120],'no']. \n",
    "\n",
    "1- To keep permanently this new material, Edit and modify the module dict_LaueTools.py by adding a line of the dictionary `dict_Materials` and restart the jupyter kernel or relaunch GUI modules and scripts\n",
    "\n",
    "2- Edit and modify the ASCII  dictMaterials.dat file in /database folder. Add your own line. And reload by dictLT.readDict()"
   ]
  },
  {
   "cell_type": "markdown",
   "metadata": {},
   "source": [
    "# Build LUT"
   ]
  },
  {
   "cell_type": "markdown",
   "metadata": {},
   "source": [
    "# reciprocal and real space unit cell"
   ]
  },
  {
   "cell_type": "markdown",
   "metadata": {},
   "source": [
    "# simulate a Laue pattern"
   ]
  }
 ],
 "metadata": {
  "kernelspec": {
   "display_name": "Python 3",
   "language": "python",
   "name": "python3"
  },
  "language_info": {
   "codemirror_mode": {
    "name": "ipython",
    "version": 3
   },
   "file_extension": ".py",
   "mimetype": "text/x-python",
   "name": "python",
   "nbconvert_exporter": "python",
   "pygments_lexer": "ipython3",
   "version": "3.6.5"
  }
 },
 "nbformat": 4,
 "nbformat_minor": 1
}
