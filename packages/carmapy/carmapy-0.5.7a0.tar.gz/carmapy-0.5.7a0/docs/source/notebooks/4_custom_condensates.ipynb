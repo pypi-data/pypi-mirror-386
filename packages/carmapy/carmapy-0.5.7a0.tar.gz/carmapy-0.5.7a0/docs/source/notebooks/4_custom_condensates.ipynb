{
 "cells": [
  {
   "cell_type": "markdown",
   "id": "402f5928",
   "metadata": {},
   "source": [
    "# Custom Condensates\n",
    "\n",
    "CARMApy has a number of default condensates built in but also allows the user to define custom condensates.  As a reminder, you can check what default condensates are included in CARMApy by running the following command:"
   ]
  },
  {
   "cell_type": "code",
   "execution_count": null,
   "id": "232facff",
   "metadata": {},
   "outputs": [
    {
     "name": "stdout",
     "output_type": "stream",
     "text": [
      "['KCl', 'ZnS', 'Na2S', 'MnS', 'Cr', 'Mg2SiO4', 'Fe', 'TiO2', 'Al2O3']\n"
     ]
    }
   ],
   "source": [
    "import carmapy\n",
    "\n",
    "carmapy.available_species()"
   ]
  },
  {
   "cell_type": "markdown",
   "id": "bd143898",
   "metadata": {},
   "source": [
    "## Relevant Properties\n",
    "For reasons related to how CARMA was originally designed, condensate properties are tied to the limiting gas resevoir the condensate is formed from.  Thus, defining a custom condensate means creating a custom `carmapy.Gas` object.  This unfortunately has a side effect that each gas can only form condensates of a single chemical formula (ie a gas can form Pure Fe and Fe on TiO₂ condensates but cannot also form Fe₂SiO₄ on TiO2 as the latter has a different chemical formula).\n",
    "\n",
    "A large number of properties need to be defined for a custom condensate, we will go through them below but you can also see a reference page for the `carmapy.Gas` object [here](https://carmapy.readthedocs.io/en/latest/_autosummary/carmapy.Gas.html)\n",
    "\n",
    "For purposes of this tutorial, we will be recreating Al₂O₃\n",
    "\n",
    "To do so we need to know the following properties:\n",
    "- The density of the condensate\n",
    "- The molar mass of the condensate\n",
    "- The molar mass of the limiting gas species\n",
    "- The collisional diameter\n",
    "- The cosine of the contact angle between the gas species and any seed particles it might be condensing on\n",
    "- The [Hill Notation](https://en.wikipedia.org/wiki/Chemical_formula#Hill_system) Formula for the gas species\n",
    "- The formula for the saturation vapor pressure of the condensate (explained below)\n",
    "- The formula for the surface tension of the condensate (expalined below)\n",
    "- The stochiometry factor of the condensation reaction (explained below)\n",
    "- Whether or not the reaction is considered a type III reaction (explained below)\n",
    "- (Optionally) the latent heat of evaporation for the condensate\n",
    "\n"
   ]
  },
  {
   "cell_type": "markdown",
   "id": "bc147a19",
   "metadata": {},
   "source": [
    "### Simple Properties\n",
    "- Al₂O₃ has a density of 3.99 g/cm³\n",
    "- Al₂O₃ has a molar mass of 101.926 g/mol\n",
    "- The limiting gas species, Al, has a molar mass of 26.98 g/mol\n",
    "- Al₂O₃'s collisional diameter is approximately $3.825\\times10^{-8}$ cm (value estimated from Dobrovinskaya et al. 2009)\n",
    "- The cosine of the contact angle betweel Al₂O₃ and TiO₂ is 0.724172 (value taken from P. Gao et al. 2020)\n",
    "\n",
    "### Saturation Vapor Pressure\n",
    "The saturation vapor pressure of a species can be a function of both pressure and temperature.  carmapy assumes that the formula for vapor pressure can be paramaterized as follows:\n",
    "\n",
    "$$\n",
    "\\begin{align*}\n",
    "\\log_{10} \\frac{p'}{10^6 \\text{ barye}} &=  \\texttt{vp_offset} \\\\\n",
    "&- \\frac{\\texttt{vp_tcoeff}}{T} \\\\\n",
    "&- \\texttt{vp_metcoeff} \\cdot [Fe/H] \\\\\n",
    "&- \\texttt{vp_logpcoeff} \\cdot \\log_{10} \\frac{P}{10^6 \\text{ barye}}\n",
    "\\end{align*}$$\n",
    "\n",
    "where $p'$ is the saturation vapor pressure, $T$ is the temperature, and $P$ is the atmospheric pressure\n",
    "\n",
    "Using the values from Wakeford et al. 2017 for Al₂O₃ we have:\n",
    "- `vp_offset` = 17.7\n",
    "- `vp_tcoeff` = 45892.6 K\n",
    "- `vp_metcoeff` = 1.66\n",
    "- `vp_logpcoeff` = 0\n",
    "\n",
    "### Surface Tension\n",
    "CARMApy also parameterizes the surface tension of condensates as follows:\n",
    "\n",
    "$$\\texttt{surface_tension} = \\texttt{surften_0}  - \\texttt{surften_slope} * T$$\n",
    "\n",
    "where $T$ is the temperature in K.\n",
    "\n",
    "From Kazasa et al. 1989 we estimate that for Al₂O₃\n",
    "- `surften_0` = 690 dyne/cm\n",
    "- `surften_slope` = 0\n",
    "\n",
    "### Stoichiometry Factor\n",
    "The stoichiometry factor is determined by the reaction that forms the condensate, ie for a reaction which is\n",
    "$$X (\\text{limiting gas}) + (\\text{other stuff}) \\to Y (\\text{condensate}) + (\\text{some other stuff})$$\n",
    "\n",
    "the stoichiometry factor is $X/Y$\n",
    "\n",
    "\n",
    "As we are considering Al as our limiting gas and it takes 2 monatomic Al to form 1 molecule Al₂O₃, the stoichiometry factor will be 2\n",
    "\n",
    "### Type III reaction\n",
    "\n",
    "Condensates which form via type III reactions, as defined by Helling and Woitke 2012 have a modified super saturation ratio.  Type III reactions are reactions that, besides for the condensate, have 2 or more products or 2 or more reactants.\n",
    "\n",
    "Since the main chemical reaction which forms Al₂O₃ is\n",
    "$$2 \\text{AlOH} + \\text{H}_2\\text{O} \\to \\text{Al}_2\\text{O}_3 [\\text{s}] + 2 \\text{H}_2$$\n",
    "\n",
    "Al₂O₃ is a type III reaction\n",
    "\n",
    "### Latent heat of evaporation\n",
    "\n",
    "You can choose to provide a latent heat of evaporation, if you don't CARMApy will calculate one for you following the assumptions of Charnay et al. 2015 (TODO: check this citation):\n",
    "\n",
    "$$\\texttt{lat_heat_e} = \\texttt{vp_tcoeff} \\cdot \\ln(10) * \\frac{R}{\\texttt{wtmol_dif}}$$\n",
    "\n",
    "where $R$ is the ideal gas constant\n",
    "\n",
    "## Defining the Gas Object\n",
    "First we will set uo the carma simulation as we did previously, without adding the Mg₂SiO₄"
   ]
  },
  {
   "cell_type": "code",
   "execution_count": 2,
   "id": "9822001e",
   "metadata": {},
   "outputs": [
    {
     "data": {
      "text/plain": [
       "<carmapy.carmapy.Group at 0x32169cef0>"
      ]
     },
     "execution_count": 2,
     "metadata": {},
     "output_type": "execute_result"
    }
   ],
   "source": [
    "carma = carmapy.Carma(\"custom_gases\")\n",
    "\n",
    "carma.set_stepping(dt=100, output_gap=100, n_tstep=3000)\n",
    "\n",
    "\n",
    "P_levs, T_levs, kzz_levs, mu_levs = carmapy.example.example_levels()\n",
    "\n",
    "carma.add_P(P_levs)\n",
    "carma.add_T(T_levs)\n",
    "carma.add_kzz(kzz_levs)\n",
    "\n",
    "carma.set_physical_params(surface_grav=31600,\n",
    "                            wt_mol=mu_levs[0])\n",
    "\n",
    "carma.calculate_z(mu_levs)\n",
    "carma.extend_atmosphere(1e10)\n",
    "\n",
    "carma.add_hom_group(\"TiO2\", 1e-8)"
   ]
  },
  {
   "cell_type": "markdown",
   "id": "4b09892a",
   "metadata": {},
   "source": [
    "Then to add the user defined condensate, first we add a gas to our carma object with all the relevent properties, and then we add the nucleation pathways we want to consider:"
   ]
  },
  {
   "cell_type": "code",
   "execution_count": 3,
   "id": "1bf5d102",
   "metadata": {},
   "outputs": [
    {
     "data": {
      "text/plain": [
       "<carmapy.carmapy.Group at 0x322078f20>"
      ]
     },
     "execution_count": 3,
     "metadata": {},
     "output_type": "execute_result"
    }
   ],
   "source": [
    "carma.add_gas(\"Al_oxide\",\n",
    "    rho_cond = 3.99,\n",
    "    wtmol = 101.926,\n",
    "    wtmol_dif = 26.98,\n",
    "    coldia = 3.825e-8,\n",
    "    hill_formula = \"Al\",\n",
    "    vp_offset = 17.7,\n",
    "    vp_tcoeff = 45892.6,\n",
    "    vp_metcoeff = 1.66,\n",
    "    vp_logpcoeff = 0,\n",
    "    surften_0 = 690,\n",
    "    surften_slope = 0,\n",
    "    stofact = 2,\n",
    "    is_typeIII = True\n",
    ")\n",
    "\n",
    "carma.add_het_group(\"Al_oxide\", \n",
    "                    \"TiO2\", \n",
    "                    1e-8 * 2**(1/3),\n",
    "                    mucos=0.724172)"
   ]
  },
  {
   "cell_type": "markdown",
   "id": "ff308323",
   "metadata": {},
   "source": [
    "Note that we can add the nucleation pathway by using the name of the gas we defined.\n",
    "\n",
    "**Note: use a short name for the gas, long names (around 12 or more characters) have a chance of breaking CARMA**\n",
    "\n",
    "Then, as before, we can populate the gas abundances as follows:"
   ]
  },
  {
   "cell_type": "code",
   "execution_count": 4,
   "id": "d03a3b53",
   "metadata": {},
   "outputs": [],
   "source": [
    "carmapy.chemistry.populate_abundances_at_cloud_base(carma)"
   ]
  },
  {
   "cell_type": "markdown",
   "id": "a83b6ea4",
   "metadata": {},
   "source": [
    "As with other carma objects, you can run the simulation by running the following cell:"
   ]
  },
  {
   "cell_type": "code",
   "execution_count": 5,
   "id": "930ac445",
   "metadata": {},
   "outputs": [],
   "source": [
    "# carma.run()"
   ]
  }
 ],
 "metadata": {
  "kernelspec": {
   "display_name": "base",
   "language": "python",
   "name": "python3"
  },
  "language_info": {
   "codemirror_mode": {
    "name": "ipython",
    "version": 3
   },
   "file_extension": ".py",
   "mimetype": "text/x-python",
   "name": "python",
   "nbconvert_exporter": "python",
   "pygments_lexer": "ipython3",
   "version": "3.12.9"
  }
 },
 "nbformat": 4,
 "nbformat_minor": 5
}
