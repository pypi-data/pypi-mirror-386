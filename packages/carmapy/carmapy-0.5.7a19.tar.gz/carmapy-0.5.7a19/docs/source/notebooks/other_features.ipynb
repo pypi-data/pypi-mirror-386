{
 "cells": [
  {
   "cell_type": "markdown",
   "id": "92141876",
   "metadata": {},
   "source": [
    "# Other Features\n",
    "\n",
    "CARMApy offers a number of other ways to customize your models. Below we will initialize a carma object for use in these examples"
   ]
  },
  {
   "cell_type": "code",
   "execution_count": 1,
   "id": "b788f3ce",
   "metadata": {},
   "outputs": [],
   "source": [
    "import carmapy\n",
    "import numpy as np\n",
    "\n",
    "carma = carmapy.example.example_carma(\"other_features\")"
   ]
  },
  {
   "cell_type": "markdown",
   "id": "1371ec04",
   "metadata": {},
   "source": [
    "## Winds\n",
    "\n",
    "In addition to eddy diffusion and settling, CARMApy can take into account vertical advection of the atmosphere by specifying vertical winds.  For example, to specify an updraft of 100 cm/s at every level of the atmosphere we can do the following:"
   ]
  },
  {
   "cell_type": "code",
   "execution_count": 2,
   "id": "b03ae115",
   "metadata": {},
   "outputs": [],
   "source": [
    "winds = np.ones(carma.NZ) * 100\n",
    "carma.add_vertical_winds(winds)"
   ]
  },
  {
   "cell_type": "markdown",
   "id": "d0bd6536",
   "metadata": {},
   "source": [
    "Note that the length of the `winds` array is `carma.NZ + 1` not `carma.NZ.`  This is because winds are specified at the boundary of each atmosphere layer, not the center."
   ]
  },
  {
   "cell_type": "markdown",
   "id": "c86b17cb",
   "metadata": {},
   "source": [
    "## Boundary Conditions"
   ]
  },
  {
   "cell_type": "markdown",
   "id": "f799b135",
   "metadata": {},
   "source": [
    "CARMA requires that boundary conditions are specified for both the gas and the cloud particles at the top and bottom of the atmosphere—if no boundary conditions are specified CARMApy will supply CARMA with default boundary conditions (discussed below).  There are three types of boundary conditions allowed in CARMApy  \n",
    "\n",
    "- `\"fixed_conc\"`: The concentration of the species is fixed at the boundary\n",
    "- `\"fixed_flux\"`: The flux of the species is fixed at the boundary\n",
    "- `\"zero_grad\"`: The concentration gradient of the species is zero at the boundary\n",
    "\n",
    "When selecting boundary condition types, note that the same type of boundary condition must be used for all gas species at a given boundary, and similarly for cloud species.\n",
    "\n",
    "The default boundary condition behavior is as follows:\n",
    "- At the bottom of the atmosphere all cloud particles are assumed to have a concentration of 0 and the gas concentration is set to that specified in `gas.nmr`\n",
    "- At the top of the atmosphere the flux of both gas and cloud particles is assumed to be 0\n",
    "\n",
    "Additionally if the boundary condition type is changed the CARMApy will default to all fluxes being 0, all cloud particle concentrations being 0, and throwing an error for unspecified gas concentrations\n",
    "\n",
    "As an example, to specify a cloud particle flux at the top of the atmosphere (to simulate haze generation or infalling dust for example) you can specify the boundary conditions as follows:"
   ]
  },
  {
   "cell_type": "code",
   "execution_count": 3,
   "id": "2467891c",
   "metadata": {},
   "outputs": [],
   "source": [
    "carma.set_cloud_boundary_type(\"fixed_conc\", \"fixed_flux\")\n",
    "\n",
    "top_flux = np.zeros(carma.NBIN)\n",
    "top_flux[0] = 1000\n",
    "\n",
    "carma.set_cloud_boundary(\"Pure TiO2\", top_flux=top_flux)"
   ]
  },
  {
   "cell_type": "markdown",
   "id": "253b2206",
   "metadata": {},
   "source": [
    "Here we set there to be a flux of 1000 TiO2 particles/cm^2/s at the top of the atmosphere.  Specifically we set all of these particles to be at the nucleation size (ie the smallest size bin).  By changing other elements of the `top_flux` array to be non-zero we could add a flux of larger particles.\n",
    "\n",
    "Note that non-zero boundary conditions are only supported for single-composition cloud species.  For example, the above code works because the `\"Pure TiO2\"` group consists only of TiO2 but a non-zero \"`Mg2SiO4 on TiO2`\" group would not work as it consists of both Mg2SiO4 and TiO2.\n",
    "\n",
    "**Warning**: using `carma.load()` to load a function which has boundary conditions set will only load the boundary conditions actually used in the simulation.  The unused boundary conditions have undefined behavior upon `carma.load()`"
   ]
  },
  {
   "cell_type": "markdown",
   "id": "7b82a0c5",
   "metadata": {},
   "source": []
  }
 ],
 "metadata": {
  "kernelspec": {
   "display_name": "base",
   "language": "python",
   "name": "python3"
  },
  "language_info": {
   "codemirror_mode": {
    "name": "ipython",
    "version": 3
   },
   "file_extension": ".py",
   "mimetype": "text/x-python",
   "name": "python",
   "nbconvert_exporter": "python",
   "pygments_lexer": "ipython3",
   "version": "3.13.5"
  }
 },
 "nbformat": 4,
 "nbformat_minor": 5
}
