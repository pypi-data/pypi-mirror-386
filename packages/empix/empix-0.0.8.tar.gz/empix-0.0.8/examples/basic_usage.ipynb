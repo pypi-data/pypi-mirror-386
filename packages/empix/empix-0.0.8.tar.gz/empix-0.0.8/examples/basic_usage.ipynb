{
 "cells": [
  {
   "cell_type": "markdown",
   "id": "6bb7f461",
   "metadata": {},
   "source": [
    "# Basic usage of the ``empix`` library #"
   ]
  },
  {
   "cell_type": "markdown",
   "id": "5d6d9cd7",
   "metadata": {},
   "source": [
    "## A NOTE BEFORE STARTING ##"
   ]
  },
  {
   "cell_type": "markdown",
   "id": "880421e9",
   "metadata": {},
   "source": [
    "Since the ``empix`` git repository tracks this notebook under its original\n",
    "basename ``basic_usage.ipynb``, we recommend that you copy the original notebook\n",
    "and rename it to any other basename that is not one of the original basenames\n",
    "that appear in the ``<root>/examples`` directory before executing any of the\n",
    "notebook cells below, where ``<root>`` is the root of the ``empix``\n",
    "repository. This way you can explore the notebook by executing and modifying\n",
    "cells without changing the original notebook, which is being tracked by git."
   ]
  },
  {
   "cell_type": "markdown",
   "id": "2c7dae57-729b-443a-b68b-3fb21dc89c4f",
   "metadata": {},
   "source": [
    "## Table of contents ##"
   ]
  },
  {
   "cell_type": "markdown",
   "id": "2e31573f-ef5f-46b9-95a1-75f1528834ab",
   "metadata": {},
   "source": [
    "- [Import necessary modules](#Import-necessary-modules)\n",
    "- [Introduction](#Introduction)\n",
    "- [Using the ``empix`` library](#Using-the-empix-library)\n",
    "  - [Creating the input ``hyperspy`` signals](#Creating-the-input-hyperspy-signals)\n",
    "  - [Calculating the modulus squared](#Calculating-the-modulus-squared)\n",
    "  - [Azimuthally averaging](#Azimuthally-averaging)\n",
    "  - [Azimuthally integrating](#Azimuthally-integrating)\n",
    "  - [Annularly averaging](#Annularly-averaging)\n",
    "  - [Annularly integrating](#Annularly-integrating)\n",
    "  - [Cropping](#Cropping)\n",
    "  - [Downsampling](#Downsampling)\n",
    "  - [Resampling](#Resampling)\n",
    "  - [Cumulatively integrating 1D signals](#Cumulatively-integrating-1D-signals)"
   ]
  },
  {
   "cell_type": "markdown",
   "id": "12b0d90e",
   "metadata": {},
   "source": [
    "## Import necessary modules ##"
   ]
  },
  {
   "cell_type": "code",
   "execution_count": null,
   "id": "e7f9787f",
   "metadata": {},
   "outputs": [],
   "source": [
    "# For closing figures.\n",
    "import matplotlib.pyplot as plt\n",
    "\n",
    "\n",
    "\n",
    "# The library that is the subject of this demonstration. Users may receive a\n",
    "# warning message about ``pyopencl`` upon importing ``empix``. This message can\n",
    "# be safely ignored.\n",
    "import empix\n",
    "\n",
    "# For generating data to be used in this demonstration. Users need not focus on\n",
    "# the implementation details of this module in order to follow the logic of each\n",
    "# cell in the remainder of this notebook. Morevoer, users need not import this\n",
    "# module for their own applications of ``empix``.\n",
    "import helpers_for_basic_usage as helpers"
   ]
  },
  {
   "cell_type": "markdown",
   "id": "e667d633",
   "metadata": {},
   "source": [
    "## Introduction ##"
   ]
  },
  {
   "cell_type": "markdown",
   "id": "ec7f2509",
   "metadata": {},
   "source": [
    "In this notebook, we demonstrate how one can use each function and class in the\n",
    "``empix`` library.\n",
    "\n",
    "In order to execute the cells in this notebook as intended, a set of Python\n",
    "libraries need to be installed in the Python environment within which the cells\n",
    "of the notebook are to be executed. For this particular notebook, users need to\n",
    "install:\n",
    "\n",
    "    empix\n",
    "    jupyter\n",
    "    ipympl\n",
    "\n",
    "Users can install these libraries either via `pip`:\n",
    "\n",
    "    pip install empix[examples]\n",
    "\n",
    "or `conda`:\n",
    "\n",
    "    conda install -y empix jupyter ipympl -c conda-forge\n",
    "\n",
    "You can find the documentation for the emicroml library\n",
    "[here](https://mrfitzpa.github.io/empix/_autosummary/empix.html). It is\n",
    "recommended that you consult the documentation of this library as you explore\n",
    "the notebook. Moreover, users should execute the cells in the order that they\n",
    "appear, i.e. from top to bottom, as some cells reference variables that are set\n",
    "in other cells above them. **Users should make sure to navigate the documentation\n",
    "for the version of emicroml that they are currently using.**\n",
    "\n",
    "The last module that we imported above (i.e. the module with the alias helpers)\n",
    "contains helper functions that are used throughout the remainder of the\n",
    "notebook, specifically to generate data to be used in this demonstration. It is\n",
    "not essential that users know the implementation details of these helper\n",
    "functions in order to follow the logic of each cell in the remainder of this\n",
    "notebook. Moreover, users need not import this module for their own applications\n",
    "of emicroml. That being said, if any users are interested in the implementation\n",
    "details, they can find them in the file\n",
    "`<root>/examples/helpers_for_basic_usage.py`."
   ]
  },
  {
   "cell_type": "markdown",
   "id": "ee0993ba",
   "metadata": {},
   "source": [
    "## Using the ``empix`` library ##"
   ]
  },
  {
   "cell_type": "markdown",
   "id": "2b036006-1286-4ea6-b2da-0506955edc91",
   "metadata": {},
   "source": [
    "### Creating the input ``hyperspy`` signals ###"
   ]
  },
  {
   "cell_type": "markdown",
   "id": "21a2529c",
   "metadata": {},
   "source": [
    "Let's create two 2D ``hyperspy`` signals to use as input signals for most of the\n",
    "functions in the ``empix`` library."
   ]
  },
  {
   "cell_type": "code",
   "execution_count": null,
   "id": "0a6ed40a-ff26-443d-ab1f-eff6a28f172a",
   "metadata": {},
   "outputs": [],
   "source": [
    "real_2d_input_signal = helpers.generate_real_2d_input_signal()\n",
    "complex_2d_input_signal = helpers.generate_complex_2d_input_signal()"
   ]
  },
  {
   "cell_type": "markdown",
   "id": "12349e1c-50b1-443e-9c1e-56fa49d5389d",
   "metadata": {},
   "source": [
    "Let's plot the 2D input signals that we just created. Starting with the \n",
    "real-valued signal."
   ]
  },
  {
   "cell_type": "code",
   "execution_count": null,
   "id": "37d677ba-ce84-48d6-b28a-f0a8ddf7dcf6",
   "metadata": {},
   "outputs": [],
   "source": [
    "%matplotlib ipympl\n",
    "\n",
    "kwargs = {\"axes_off\": False, \n",
    "          \"scalebar\": False, \n",
    "          \"colorbar\": False, \n",
    "          \"gamma\": 1,\n",
    "          \"cmap\": \"jet\"}\n",
    "real_2d_input_signal.plot(**kwargs)"
   ]
  },
  {
   "cell_type": "markdown",
   "id": "f661404f-1892-4850-aadb-6a1e45701e8c",
   "metadata": {},
   "source": [
    "And now the complex-valued signal."
   ]
  },
  {
   "cell_type": "code",
   "execution_count": null,
   "id": "f660d95a-9a76-4df4-b072-30d2c4c621a2",
   "metadata": {},
   "outputs": [],
   "source": [
    "plt.close(\"all\")  # Close all previous figures to release memory.\n",
    "\n",
    "kwargs = {\"axes_off\": False, \n",
    "          \"scalebar\": False, \n",
    "          \"colorbar\": False, \n",
    "          \"gamma\": 1,\n",
    "          \"cmap\": \"jet\"}\n",
    "complex_2d_input_signal.plot(**kwargs)"
   ]
  },
  {
   "cell_type": "markdown",
   "id": "fe30931a-1343-491c-a579-29c7f6e2b6b6",
   "metadata": {},
   "source": [
    "Note that we modified the signal axes from their default states. In particular,\n",
    "we rescaled the signal space axes scales by a factor of 10. The default/original\n",
    "signal space scales were equal to unity.\n",
    "\n",
    "Let's also create two 2D ``hyperspy`` signals to use as input signals for one \n",
    "of the functions in the ``empix`` library."
   ]
  },
  {
   "cell_type": "code",
   "execution_count": null,
   "id": "3c222f8f-11b1-4618-ac3f-ac09db882109",
   "metadata": {},
   "outputs": [],
   "source": [
    "real_1d_input_signal = helpers.generate_real_1d_input_signal()\n",
    "complex_1d_input_signal = helpers.generate_complex_1d_input_signal()"
   ]
  },
  {
   "cell_type": "markdown",
   "id": "ed03c960-6e7e-4eb4-8dd7-870c0641b68c",
   "metadata": {},
   "source": [
    "Let's plot the 1D input signals that we just created. Starting with the \n",
    "real-valued signal."
   ]
  },
  {
   "cell_type": "code",
   "execution_count": null,
   "id": "45ad7c4e-1485-4512-a76e-5b2e2e3bbdd3",
   "metadata": {},
   "outputs": [],
   "source": [
    "plt.close(\"all\")  # Close all previous figures to release memory.\n",
    "\n",
    "kwargs = {\"axes_off\": False, \n",
    "          \"scalebar\": False, \n",
    "          \"colorbar\": False, \n",
    "          \"gamma\": 1,\n",
    "          \"cmap\": \"jet\"}\n",
    "real_1d_input_signal.plot(**kwargs)"
   ]
  },
  {
   "cell_type": "markdown",
   "id": "4318b471-e337-4aa4-b89f-3a7e93ab455f",
   "metadata": {},
   "source": [
    "And now the complex-valued signal."
   ]
  },
  {
   "cell_type": "code",
   "execution_count": null,
   "id": "68bb8574-5b91-4151-9fea-d504b14d1123",
   "metadata": {},
   "outputs": [],
   "source": [
    "plt.close(\"all\")  # Close all previous figures to release memory.\n",
    "\n",
    "kwargs = {\"axes_off\": False, \n",
    "          \"scalebar\": False, \n",
    "          \"colorbar\": False, \n",
    "          \"gamma\": 1,\n",
    "          \"cmap\": \"jet\"}\n",
    "complex_1d_input_signal.plot(**kwargs)"
   ]
  },
  {
   "cell_type": "markdown",
   "id": "5a410f0b-f3f4-4d38-88ab-1485771da362",
   "metadata": {},
   "source": [
    "### Calculating the modulus squared ###"
   ]
  },
  {
   "cell_type": "markdown",
   "id": "0833aa4c-a421-4e4d-8d23-bfd2c7a6aaa6",
   "metadata": {},
   "source": [
    "Let's calculate the modulus squared of each input signal."
   ]
  },
  {
   "cell_type": "code",
   "execution_count": null,
   "id": "2313ba86-bbe9-4cad-b10c-9740a0634115",
   "metadata": {},
   "outputs": [],
   "source": [
    "kwargs = {\"input_signal\": real_2d_input_signal, \"title\": \"foobar\"}\n",
    "output_signal_1 = empix.abs_sq(**kwargs)\n",
    "\n",
    "kwargs = {\"input_signal\": complex_2d_input_signal, \"title\": None}\n",
    "output_signal_2 = empix.abs_sq(**kwargs)\n",
    "\n",
    "kwargs = {\"input_signal\": real_1d_input_signal, \"title\": None}\n",
    "output_signal_3 = empix.abs_sq(**kwargs)\n",
    "\n",
    "kwargs = {\"input_signal\": complex_1d_input_signal, \"title\": None}\n",
    "output_signal_4 = empix.abs_sq(**kwargs)"
   ]
  },
  {
   "cell_type": "markdown",
   "id": "0ef25dfa-8911-4ce9-8fa5-a4e7cc985153",
   "metadata": {},
   "source": [
    "Let's plot the resulting output signals."
   ]
  },
  {
   "cell_type": "code",
   "execution_count": null,
   "id": "0e48dc43-59ca-476e-899f-91d7e67105c3",
   "metadata": {},
   "outputs": [],
   "source": [
    "plt.close(\"all\")  # Close all previous figures to release memory.\n",
    "\n",
    "kwargs = {\"axes_off\": False, \n",
    "          \"scalebar\": False, \n",
    "          \"colorbar\": False, \n",
    "          \"gamma\": 1,\n",
    "          \"cmap\": \"jet\"}\n",
    "output_signal_1.plot(**kwargs)"
   ]
  },
  {
   "cell_type": "code",
   "execution_count": null,
   "id": "d26cda05-7b61-4805-aa4a-19ea39df82b4",
   "metadata": {},
   "outputs": [],
   "source": [
    "plt.close(\"all\")  # Close all previous figures to release memory.\n",
    "\n",
    "kwargs = {\"axes_off\": False, \n",
    "          \"scalebar\": False, \n",
    "          \"colorbar\": False, \n",
    "          \"gamma\": 1,\n",
    "          \"cmap\": \"jet\"}\n",
    "output_signal_2.plot(**kwargs)"
   ]
  },
  {
   "cell_type": "code",
   "execution_count": null,
   "id": "d7d91361-d8ee-424c-965a-4ed7d12f7598",
   "metadata": {},
   "outputs": [],
   "source": [
    "plt.close(\"all\")  # Close all previous figures to release memory.\n",
    "\n",
    "kwargs = {\"axes_off\": False, \n",
    "          \"scalebar\": False, \n",
    "          \"colorbar\": False, \n",
    "          \"gamma\": 1,\n",
    "          \"cmap\": \"jet\"}\n",
    "output_signal_3.plot(**kwargs)"
   ]
  },
  {
   "cell_type": "code",
   "execution_count": null,
   "id": "8fcba94e-a35e-41b2-b80e-f6786ca9df48",
   "metadata": {},
   "outputs": [],
   "source": [
    "plt.close(\"all\")  # Close all previous figures to release memory.\n",
    "\n",
    "kwargs = {\"axes_off\": False, \n",
    "          \"scalebar\": False, \n",
    "          \"colorbar\": False, \n",
    "          \"gamma\": 1,\n",
    "          \"cmap\": \"jet\"}\n",
    "output_signal_4.plot(**kwargs)"
   ]
  },
  {
   "cell_type": "markdown",
   "id": "87a41677-94d4-4a18-a62b-b3feba2f004a",
   "metadata": {},
   "source": [
    "Note that for the first output signal, i.e. ``output_signal_1``, we overwrote\n",
    "the automatically generated default title: rather than the title being\n",
    "\"Modulus Square of Real 2D Input\", we chose the title to be \"foobar\".\n",
    "\n",
    "Moreover, note that for each input signal, the metadata stored therein is copied\n",
    "over to the corresponding output signal, with the title generally being modified\n",
    "afterwards."
   ]
  },
  {
   "cell_type": "code",
   "execution_count": null,
   "id": "1b4de130-a394-45ac-86ed-611eb3fbb9e2",
   "metadata": {},
   "outputs": [],
   "source": [
    "real_2d_input_signal.metadata"
   ]
  },
  {
   "cell_type": "code",
   "execution_count": null,
   "id": "4a55ca5c-5e9a-420e-bd40-909e335ba4d1",
   "metadata": {},
   "outputs": [],
   "source": [
    "output_signal_1.metadata"
   ]
  },
  {
   "cell_type": "markdown",
   "id": "dfab8ea5-17ca-48d5-831f-16512a2fd9e4",
   "metadata": {},
   "source": [
    "All ``empix`` functions will copy the metadata from the input signal into the\n",
    "corresponding output signal and then update the title."
   ]
  },
  {
   "cell_type": "markdown",
   "id": "ffbb4b1d-cfb9-4852-90e9-152931894b7f",
   "metadata": {},
   "source": [
    "### Azimuthally averaging ###"
   ]
  },
  {
   "cell_type": "markdown",
   "id": "9bff4b94-eb72-47e7-9549-bc823048240a",
   "metadata": {},
   "source": [
    "Let's azimuthally average each 2D input signal using the same optional averaging\n",
    "parameters."
   ]
  },
  {
   "cell_type": "code",
   "execution_count": null,
   "id": "8f53104e-cbd8-40ea-8efa-763584273680",
   "metadata": {},
   "outputs": [],
   "source": [
    "# ``X_idx`` and ``Y_idx`` are x- and y-indices in navigation space.\n",
    "Y_idx = 0\n",
    "X_idx = 1\n",
    "\n",
    "metadata = real_2d_input_signal.metadata\n",
    "ring_centers = metadata.ring_centers\n",
    "inner_ring_radius = metadata.inner_ring_radius\n",
    "outer_ring_radius = metadata.outer_ring_radius\n",
    "\n",
    "# ``ring_center`` and ``radial_range`` are in units of signal space axes.\n",
    "ring_center = ring_centers[Y_idx][X_idx]\n",
    "radial_range = (inner_ring_radius/2, outer_ring_radius+1)\n",
    "\n",
    "num_bins = 180\n",
    "\n",
    "kwargs = {\"center\": ring_center,\n",
    "          \"radial_range\": radial_range,\n",
    "          \"num_bins\": num_bins,\n",
    "          \"title\": None}  # Automatically generate default title.\n",
    "optional_params = empix.OptionalAzimuthalAveragingParams(**kwargs)\n",
    "\n",
    "kwargs = {\"input_signal\": real_2d_input_signal, \n",
    "          \"optional_params\": optional_params}\n",
    "output_signal_1 = empix.azimuthally_average(**kwargs)\n",
    "\n",
    "kwargs = {\"input_signal\": complex_2d_input_signal, \n",
    "          \"optional_params\": optional_params}\n",
    "output_signal_2 = empix.azimuthally_average(**kwargs)"
   ]
  },
  {
   "cell_type": "markdown",
   "id": "8a4d6281-19b9-437c-8ae6-613e244bc5c6",
   "metadata": {},
   "source": [
    "Let's plot the resulting output signals."
   ]
  },
  {
   "cell_type": "code",
   "execution_count": null,
   "id": "dc5aa5bf-2823-43a5-a205-f12fffadc883",
   "metadata": {},
   "outputs": [],
   "source": [
    "plt.close(\"all\")  # Close all previous figures to release memory.\n",
    "\n",
    "kwargs = {\"axes_off\": False, \n",
    "          \"scalebar\": False, \n",
    "          \"colorbar\": False, \n",
    "          \"gamma\": 1,\n",
    "          \"cmap\": \"jet\"}\n",
    "output_signal_1.plot(**kwargs)"
   ]
  },
  {
   "cell_type": "code",
   "execution_count": null,
   "id": "4da892d8-c257-4e45-8d5d-17a71614b0e8",
   "metadata": {},
   "outputs": [],
   "source": [
    "plt.close(\"all\")  # Close all previous figures to release memory.\n",
    "\n",
    "kwargs = {\"axes_off\": False, \n",
    "          \"scalebar\": False, \n",
    "          \"colorbar\": False, \n",
    "          \"gamma\": 1,\n",
    "          \"cmap\": \"jet\"}\n",
    "output_signal_2.plot(**kwargs)"
   ]
  },
  {
   "cell_type": "markdown",
   "id": "eb6183ee-a250-4ba1-8eae-e2f638811f4f",
   "metadata": {},
   "source": [
    "### Azimuthally integrating ###"
   ]
  },
  {
   "cell_type": "markdown",
   "id": "a4bac2c9-64b3-4d01-90fb-d7fde215a965",
   "metadata": {},
   "source": [
    "Let's azimuthally integrate each 2D input signal using the same optional\n",
    "integration parameters."
   ]
  },
  {
   "cell_type": "code",
   "execution_count": null,
   "id": "2e251162-c0e9-4e35-b20a-3bf893740fc9",
   "metadata": {},
   "outputs": [],
   "source": [
    "kwargs = {\"center\": ring_center,\n",
    "          \"radial_range\": radial_range,\n",
    "          \"num_bins\": num_bins,\n",
    "          \"title\": None}\n",
    "optional_params = empix.OptionalAzimuthalIntegrationParams(**kwargs)\n",
    "\n",
    "kwargs = {\"input_signal\": real_2d_input_signal, \n",
    "          \"optional_params\": optional_params}\n",
    "output_signal_1 = empix.azimuthally_integrate(**kwargs)\n",
    "\n",
    "kwargs = {\"input_signal\": complex_2d_input_signal, \n",
    "          \"optional_params\": optional_params}\n",
    "output_signal_2 = empix.azimuthally_integrate(**kwargs)"
   ]
  },
  {
   "cell_type": "markdown",
   "id": "29ecd72f-2f23-4c7a-b4de-c2f6110b3307",
   "metadata": {},
   "source": [
    "Let's plot the resulting output signals."
   ]
  },
  {
   "cell_type": "code",
   "execution_count": null,
   "id": "4dd3e7ff-2ab9-4ea6-af5c-684e2d196b60",
   "metadata": {},
   "outputs": [],
   "source": [
    "plt.close(\"all\")  # Close all previous figures to release memory.\n",
    "\n",
    "kwargs = {\"axes_off\": False, \n",
    "          \"scalebar\": False, \n",
    "          \"colorbar\": False, \n",
    "          \"gamma\": 1,\n",
    "          \"cmap\": \"jet\"}\n",
    "output_signal_1.plot(**kwargs)"
   ]
  },
  {
   "cell_type": "code",
   "execution_count": null,
   "id": "616b53aa-69f6-4ce4-859a-90ae50dcf3fc",
   "metadata": {},
   "outputs": [],
   "source": [
    "plt.close(\"all\")  # Close all previous figures to release memory.\n",
    "\n",
    "kwargs = {\"axes_off\": False, \n",
    "          \"scalebar\": False, \n",
    "          \"colorbar\": False, \n",
    "          \"gamma\": 1,\n",
    "          \"cmap\": \"jet\"}\n",
    "output_signal_2.plot(**kwargs)"
   ]
  },
  {
   "cell_type": "markdown",
   "id": "184ffc09-d8b3-4a46-95cb-fa7bbacc3ab1",
   "metadata": {},
   "source": [
    "### Annularly averaging ###"
   ]
  },
  {
   "cell_type": "markdown",
   "id": "660a40e8-b320-42ae-be75-950a9265e6fa",
   "metadata": {},
   "source": [
    "Let's annularly average each 2D input signal using the same optional averaging\n",
    "parameters."
   ]
  },
  {
   "cell_type": "code",
   "execution_count": null,
   "id": "a01e83b7-afb6-4ccb-9d20-ee003166f357",
   "metadata": {},
   "outputs": [],
   "source": [
    "kwargs = {\"center\": ring_center,\n",
    "          \"radial_range\": radial_range,\n",
    "          \"title\": None}\n",
    "optional_params = empix.OptionalAnnularAveragingParams(**kwargs)\n",
    "\n",
    "kwargs = {\"input_signal\": real_2d_input_signal, \n",
    "          \"optional_params\": optional_params}\n",
    "output_signal_1 = empix.annularly_average(**kwargs)\n",
    "\n",
    "kwargs = {\"input_signal\": complex_2d_input_signal, \n",
    "          \"optional_params\": optional_params}\n",
    "output_signal_2 = empix.annularly_average(**kwargs)"
   ]
  },
  {
   "cell_type": "markdown",
   "id": "5c40ec00-fa78-45ba-a7bc-cfdb61fd2e42",
   "metadata": {},
   "source": [
    "Let's plot the resulting output signals."
   ]
  },
  {
   "cell_type": "code",
   "execution_count": null,
   "id": "01de12d1-1b46-4320-b360-139800a70b84",
   "metadata": {},
   "outputs": [],
   "source": [
    "%matplotlib inline\n",
    "\n",
    "plt.close(\"all\")  # Close all previous figures to release memory.\n",
    "\n",
    "kwargs = {\"axes_off\": False, \n",
    "          \"scalebar\": False, \n",
    "          \"colorbar\": False, \n",
    "          \"gamma\": 1,\n",
    "          \"cmap\": \"jet\"}\n",
    "output_signal_1.plot(**kwargs)"
   ]
  },
  {
   "cell_type": "code",
   "execution_count": null,
   "id": "44cb1875-1026-4fb9-8913-4902f31bbad5",
   "metadata": {},
   "outputs": [],
   "source": [
    "plt.close(\"all\")  # Close all previous figures to release memory.\n",
    "\n",
    "kwargs = {\"axes_off\": False, \n",
    "          \"scalebar\": False, \n",
    "          \"colorbar\": False, \n",
    "          \"gamma\": 1,\n",
    "          \"cmap\": \"jet\"}\n",
    "output_signal_2.plot(**kwargs)"
   ]
  },
  {
   "cell_type": "markdown",
   "id": "04d7f56a-f470-4d1f-a685-2552ae25c0f3",
   "metadata": {},
   "source": [
    "### Annularly integrating ###"
   ]
  },
  {
   "cell_type": "markdown",
   "id": "e37246a4-ee81-424e-96d1-6705d7c2eb5b",
   "metadata": {},
   "source": [
    "Let's annularly average each 2D input signal using the same optional integration\n",
    "parameters."
   ]
  },
  {
   "cell_type": "code",
   "execution_count": null,
   "id": "344753fe-173c-49ac-a99e-f701348717dc",
   "metadata": {},
   "outputs": [],
   "source": [
    "kwargs = {\"center\": ring_center,\n",
    "          \"radial_range\": radial_range,\n",
    "          \"title\": None}\n",
    "optional_params = empix.OptionalAnnularIntegrationParams(**kwargs)\n",
    "\n",
    "kwargs = {\"input_signal\": real_2d_input_signal, \n",
    "          \"optional_params\": optional_params}\n",
    "output_signal_1 = empix.annularly_integrate(**kwargs)\n",
    "\n",
    "kwargs = {\"input_signal\": complex_2d_input_signal, \n",
    "          \"optional_params\": optional_params}\n",
    "output_signal_2 = empix.annularly_integrate(**kwargs)"
   ]
  },
  {
   "cell_type": "markdown",
   "id": "ccd822f9-a294-4448-a7b5-f41900b63dae",
   "metadata": {},
   "source": [
    "Let's plot the resulting output signals."
   ]
  },
  {
   "cell_type": "code",
   "execution_count": null,
   "id": "4e87bb47-723e-4d1c-88de-5913b20a8ec8",
   "metadata": {},
   "outputs": [],
   "source": [
    "plt.close(\"all\")  # Close all previous figures to release memory.\n",
    "\n",
    "kwargs = {\"axes_off\": False, \n",
    "          \"scalebar\": False, \n",
    "          \"colorbar\": False, \n",
    "          \"gamma\": 1,\n",
    "          \"cmap\": \"jet\"}\n",
    "output_signal_1.plot(**kwargs)"
   ]
  },
  {
   "cell_type": "code",
   "execution_count": null,
   "id": "64ab18d6-8ceb-471a-b1ee-f1aa8a0c910a",
   "metadata": {},
   "outputs": [],
   "source": [
    "plt.close(\"all\")  # Close all previous figures to release memory.\n",
    "\n",
    "kwargs = {\"axes_off\": False, \n",
    "          \"scalebar\": False, \n",
    "          \"colorbar\": False, \n",
    "          \"gamma\": 1,\n",
    "          \"cmap\": \"jet\"}\n",
    "output_signal_2.plot(**kwargs)"
   ]
  },
  {
   "cell_type": "markdown",
   "id": "0a01e1de-d622-4f67-af02-eb631313a7d9",
   "metadata": {},
   "source": [
    "### Cropping ###"
   ]
  },
  {
   "cell_type": "markdown",
   "id": "62efd915-fd0c-448f-bf83-22b49815f76a",
   "metadata": {},
   "source": [
    "Let's crop each 2D input signal using the same optional cropping parameters."
   ]
  },
  {
   "cell_type": "code",
   "execution_count": null,
   "id": "355d8b55-5a69-428f-8cfa-c1d4fc3ef75b",
   "metadata": {},
   "outputs": [],
   "source": [
    "kwargs = {\"center\": ring_center,\n",
    "          \"window_dims\": (190, 185),\n",
    "          \"pad_mode\": \"zeros\",\n",
    "          \"apply_symmetric_mask\": True,\n",
    "          \"title\": None}\n",
    "optional_params = empix.OptionalCroppingParams(**kwargs)\n",
    "\n",
    "kwargs = {\"input_signal\": real_2d_input_signal, \n",
    "          \"optional_params\": optional_params}\n",
    "output_signal_1 = empix.crop(**kwargs)\n",
    "\n",
    "kwargs = {\"input_signal\": complex_2d_input_signal, \n",
    "          \"optional_params\": optional_params}\n",
    "output_signal_2 = empix.crop(**kwargs)"
   ]
  },
  {
   "cell_type": "markdown",
   "id": "23067203-4fef-48cd-ad29-82c94e477415",
   "metadata": {},
   "source": [
    "Let's plot the resulting output signals."
   ]
  },
  {
   "cell_type": "code",
   "execution_count": null,
   "id": "21cc52e8-266e-43f5-8619-66b3d00037ec",
   "metadata": {},
   "outputs": [],
   "source": [
    "%matplotlib ipympl\n",
    "\n",
    "plt.close(\"all\")  # Close all previous figures to release memory.\n",
    "\n",
    "kwargs = {\"axes_off\": False, \n",
    "          \"scalebar\": False, \n",
    "          \"colorbar\": False, \n",
    "          \"gamma\": 1,\n",
    "          \"cmap\": \"jet\"}\n",
    "output_signal_1.plot(**kwargs)"
   ]
  },
  {
   "cell_type": "code",
   "execution_count": null,
   "id": "d4ce2312-6d91-4732-8ef8-fc4356605403",
   "metadata": {},
   "outputs": [],
   "source": [
    "plt.close(\"all\")  # Close all previous figures to release memory.\n",
    "\n",
    "kwargs = {\"axes_off\": False, \n",
    "          \"scalebar\": False, \n",
    "          \"colorbar\": False, \n",
    "          \"gamma\": 1,\n",
    "          \"cmap\": \"jet\"}\n",
    "output_signal_2.plot(**kwargs)"
   ]
  },
  {
   "cell_type": "markdown",
   "id": "b239c240-cc85-4bca-a1a7-d705a4b66c37",
   "metadata": {},
   "source": [
    "### Downsampling ###"
   ]
  },
  {
   "cell_type": "markdown",
   "id": "f1e34a58-4321-47f4-892c-6aa292c70314",
   "metadata": {},
   "source": [
    "Let's downsample each 2D input signal using the same optional cropping\n",
    "parameters."
   ]
  },
  {
   "cell_type": "code",
   "execution_count": null,
   "id": "4522718d-714a-4686-9f48-74e8c7997f87",
   "metadata": {},
   "outputs": [],
   "source": [
    "kwargs = {\"block_dims\": (2, 3),\n",
    "          \"padding_const\": 0,\n",
    "          \"downsample_mode\": \"sum\",\n",
    "          \"title\": None}\n",
    "optional_params = empix.OptionalDownsamplingParams(**kwargs)\n",
    "\n",
    "kwargs = {\"input_signal\": real_2d_input_signal, \n",
    "          \"optional_params\": optional_params}\n",
    "output_signal_1 = empix.downsample(**kwargs)\n",
    "\n",
    "kwargs = {\"input_signal\": complex_2d_input_signal, \n",
    "          \"optional_params\": optional_params}\n",
    "output_signal_2 = empix.downsample(**kwargs)"
   ]
  },
  {
   "cell_type": "markdown",
   "id": "20462aef-6538-4757-90dd-b7e09d986536",
   "metadata": {},
   "source": [
    "Let's plot the resulting output signals."
   ]
  },
  {
   "cell_type": "code",
   "execution_count": null,
   "id": "1dd2c921-5b0f-404d-9015-96a8a5e81f47",
   "metadata": {},
   "outputs": [],
   "source": [
    "plt.close(\"all\")  # Close all previous figures to release memory.\n",
    "\n",
    "kwargs = {\"axes_off\": False, \n",
    "          \"scalebar\": False, \n",
    "          \"colorbar\": False, \n",
    "          \"gamma\": 1,\n",
    "          \"cmap\": \"jet\"}\n",
    "output_signal_1.plot(**kwargs)"
   ]
  },
  {
   "cell_type": "code",
   "execution_count": null,
   "id": "67f92b3c-2f28-4a78-a414-140a9e68fe88",
   "metadata": {},
   "outputs": [],
   "source": [
    "plt.close(\"all\")  # Close all previous figures to release memory.\n",
    "\n",
    "kwargs = {\"axes_off\": False, \n",
    "          \"scalebar\": False, \n",
    "          \"colorbar\": False, \n",
    "          \"gamma\": 1,\n",
    "          \"cmap\": \"jet\"}\n",
    "output_signal_2.plot(**kwargs)"
   ]
  },
  {
   "cell_type": "markdown",
   "id": "acf7c5d9-f4ea-467f-b636-26b9c9d6c7b3",
   "metadata": {},
   "source": [
    "### Resampling ###"
   ]
  },
  {
   "cell_type": "markdown",
   "id": "4c11bfa1-3b6b-4e21-8199-d78561805f19",
   "metadata": {},
   "source": [
    "Let's resample each 2D input signal using the same optional resampling\n",
    "parameters."
   ]
  },
  {
   "cell_type": "code",
   "execution_count": null,
   "id": "31e981fa-ce2e-430e-b7e2-07d7db20925b",
   "metadata": {},
   "outputs": [],
   "source": [
    "h_size = real_2d_input_signal.axes_manager[-2].size\n",
    "h_scale = real_2d_input_signal.axes_manager[-2].scale\n",
    "h_offset = real_2d_input_signal.axes_manager[-2].offset\n",
    "\n",
    "v_size = real_2d_input_signal.axes_manager[-1].size\n",
    "v_scale = real_2d_input_signal.axes_manager[-1].scale\n",
    "v_offset = real_2d_input_signal.axes_manager[-1].offset\n",
    "\n",
    "kwargs = {\"new_signal_space_sizes\": (2*h_size, 2*v_size),\n",
    "          \"new_signal_space_scales\": (h_scale/2, v_scale/2),\n",
    "          \"new_signal_space_offsets\": (h_offset+h_scale/2, v_offset+v_scale/2),\n",
    "          \"spline_degrees\": (3, 3),\n",
    "          \"interpolate_polar_cmpnts\": True,\n",
    "          \"title\": None}\n",
    "optional_params = empix.OptionalResamplingParams(**kwargs)\n",
    "\n",
    "kwargs = {\"input_signal\": real_2d_input_signal, \n",
    "          \"optional_params\": optional_params}\n",
    "output_signal_1 = empix.resample(**kwargs)\n",
    "\n",
    "kwargs = {\"input_signal\": complex_2d_input_signal, \n",
    "          \"optional_params\": optional_params}\n",
    "output_signal_2 = empix.resample(**kwargs)"
   ]
  },
  {
   "cell_type": "markdown",
   "id": "109d5632-032e-47bd-9410-6661863d345d",
   "metadata": {},
   "source": [
    "Let's plot the resulting output signals."
   ]
  },
  {
   "cell_type": "code",
   "execution_count": null,
   "id": "ad5af9e1-4948-458b-8313-5d54c642e92f",
   "metadata": {},
   "outputs": [],
   "source": [
    "plt.close(\"all\")  # Close all previous figures to release memory.\n",
    "\n",
    "kwargs = {\"axes_off\": False, \n",
    "          \"scalebar\": False, \n",
    "          \"colorbar\": False, \n",
    "          \"gamma\": 1,\n",
    "          \"cmap\": \"jet\"}\n",
    "output_signal_1.plot(**kwargs)"
   ]
  },
  {
   "cell_type": "code",
   "execution_count": null,
   "id": "2649387b-115e-4670-8061-f0e131eb5d65",
   "metadata": {},
   "outputs": [],
   "source": [
    "plt.close(\"all\")  # Close all previous figures to release memory.\n",
    "\n",
    "kwargs = {\"axes_off\": False, \n",
    "          \"scalebar\": False, \n",
    "          \"colorbar\": False, \n",
    "          \"gamma\": 1,\n",
    "          \"cmap\": \"jet\"}\n",
    "output_signal_2.plot(**kwargs)"
   ]
  },
  {
   "cell_type": "markdown",
   "id": "48c4f4ba-ae5e-45d7-b9c5-c9ffdd13aabd",
   "metadata": {},
   "source": [
    "### Cumulatively integrating 1D signals ###"
   ]
  },
  {
   "cell_type": "markdown",
   "id": "8463ea96-c232-43f7-96df-b5847bd99957",
   "metadata": {},
   "source": [
    "Let's cumulatively integrate the real 1D input signal."
   ]
  },
  {
   "cell_type": "code",
   "execution_count": null,
   "id": "5f4c3390-5db5-4f4c-aaab-01a1bd2ea762",
   "metadata": {},
   "outputs": [],
   "source": [
    "u_size = real_1d_input_signal.axes_manager[-1].size\n",
    "u_scale = real_1d_input_signal.axes_manager[-1].scale\n",
    "u_offset = real_1d_input_signal.axes_manager[-1].offset\n",
    "\n",
    "kwargs = {\"limits\": (u_offset+20*u_scale, u_offset+130*u_scale),\n",
    "          \"num_bins\": num_bins,\n",
    "          \"normalize\": True,\n",
    "          \"title\": None}\n",
    "optional_params = empix.OptionalCumulative1dIntegrationParams(**kwargs)\n",
    "\n",
    "kwargs = {\"input_signal\": real_1d_input_signal, \n",
    "          \"optional_params\": optional_params}\n",
    "output_signal_1 = empix.cumulatively_integrate_1d(**kwargs)"
   ]
  },
  {
   "cell_type": "markdown",
   "id": "2a308586-30d1-4966-a1b3-532f5ba05f2a",
   "metadata": {},
   "source": [
    "Let's plot the resulting output signal."
   ]
  },
  {
   "cell_type": "code",
   "execution_count": null,
   "id": "cd3e577f-e7c2-496b-94dd-c6e33ea37092",
   "metadata": {},
   "outputs": [],
   "source": [
    "plt.close(\"all\")  # Close all previous figures to release memory.\n",
    "\n",
    "kwargs = {\"axes_off\": False, \n",
    "          \"scalebar\": False, \n",
    "          \"colorbar\": False, \n",
    "          \"gamma\": 1,\n",
    "          \"cmap\": \"jet\"}\n",
    "output_signal_1.plot(**kwargs)"
   ]
  }
 ],
 "metadata": {
  "kernelspec": {
   "display_name": "Python 3 (ipykernel)",
   "language": "python",
   "name": "python3"
  },
  "language_info": {
   "codemirror_mode": {
    "name": "ipython",
    "version": 3
   },
   "file_extension": ".py",
   "mimetype": "text/x-python",
   "name": "python",
   "nbconvert_exporter": "python",
   "pygments_lexer": "ipython3",
   "version": "3.12.12"
  }
 },
 "nbformat": 4,
 "nbformat_minor": 5
}
