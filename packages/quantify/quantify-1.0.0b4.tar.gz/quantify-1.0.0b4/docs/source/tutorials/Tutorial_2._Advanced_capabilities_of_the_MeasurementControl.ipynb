{
 "cells": [
  {
   "cell_type": "markdown",
   "id": "71d00eeb",
   "metadata": {},
   "source": [
    "# Tutorial 2. Advanced capabilities of the MeasurementControl\n",
    "\n",
    "```{seealso}\n",
    "The complete source code of this tutorial can be found in\n",
    "\n",
    "{nb-download}`Tutorial 2. Advanced capabilities of the MeasurementControl.ipynb`\n",
    "```\n",
    "\n",
    "Following this Tutorial requires familiarity with the **core concepts** of Quantify, we **highly recommended** to consult the (short) {ref}`User guide` before proceeding (see Quantify documentation). If you have some difficulties following the tutorial it might be worth reviewing the {ref}`User guide`!\n",
    "\n",
    "We **highly recommended** beginning with {ref}`Tutorial 1. Controlling a basic experiment using MeasurementControl` before proceeding.\n",
    "\n",
    "In this tutorial, we will explore the more advanced features of Quantify. By the end of this tutorial, we will have covered:\n",
    "\n",
    "- Using hardware to drive experiments\n",
    "- Software averaging\n",
    "- Interrupting an experiment"
   ]
  },
  {
   "cell_type": "code",
   "execution_count": null,
   "id": "f5bfac56",
   "metadata": {
    "mystnb": {
     "code_prompt_show": "Imports and auxiliary utilities"
    },
    "tags": [
     "hide-cell"
    ]
   },
   "outputs": [],
   "source": [
    "import os\n",
    "import signal\n",
    "import sys\n",
    "import time\n",
    "\n",
    "import numpy as np\n",
    "from lmfit import Model\n",
    "from qcodes import ManualParameter\n",
    "\n",
    "import quantify.visualization.pyqt_plotmon as pqm\n",
    "from quantify.data.handling import default_datadir, set_datadir\n",
    "from quantify.measurement.control import MeasurementControl\n",
    "from quantify.visualization.instrument_monitor import InstrumentMonitor\n",
    "\n",
    "rng = np.random.default_rng(seed=222222)  # random number generator"
   ]
  },
  {
   "cell_type": "markdown",
   "id": "75b88a56",
   "metadata": {},
   "source": [
    "**Before instantiating any instruments or starting a measurement** we change the\n",
    "directory in which the experiments are saved using the\n",
    "{meth}`~quantify.data.handling.set_datadir`\n",
    "\\[{meth}`~quantify.data.handling.get_datadir`\\] functions.\n",
    "\n",
    "----------------------------------------------------------------------------------------\n",
    "\n",
    "⚠️ **Warning!**\n",
    "\n",
    "We recommend always setting the directory at the start of the Python kernel and sticking to a single common data directory for all notebooks/experiments within your\n",
    "measurement setup/PC.\n",
    "\n",
    "The cell below sets a default data directory (`~/quantify-data` on Linux/macOS or\n",
    "`$env:USERPROFILE\\\\quantify-data` on Windows) for tutorial purposes. Change it to your\n",
    "desired data directory. The utilities to find/search/extract data only work if\n",
    "all the experiment containers are located within the same directory.\n",
    "\n",
    "----------------------------------------------------------------------------------------"
   ]
  },
  {
   "cell_type": "code",
   "execution_count": 2,
   "id": "21867a1f",
   "metadata": {},
   "outputs": [
    {
     "name": "stdout",
     "output_type": "stream",
     "text": [
      "Data will be saved in:\n",
      "C:\\Users\\gabri\\quantify-data\n"
     ]
    }
   ],
   "source": [
    "set_datadir(default_datadir())  # change me!"
   ]
  },
  {
   "cell_type": "code",
   "execution_count": 3,
   "id": "d236c77d",
   "metadata": {
    "mystnb": {
     "remove-output": true
    }
   },
   "outputs": [
    {
     "name": "stderr",
     "output_type": "stream",
     "text": [
      "warning: in the working copy of 'docs/source/tutorials/Tutorial 1. Controlling a basic experiment using MeasurementControl.ipynb', LF will be replaced by CRLF the next time Git touches it\n",
      "warning: in the working copy of 'docs/source/tutorials/Tutorial 1. Controlling a basic experiment using MeasurementControl.ipynb', LF will be replaced by CRLF the next time Git touches it\n"
     ]
    }
   ],
   "source": [
    "meas_ctrl = MeasurementControl(\"meas_ctrl\")\n",
    "plotmon = pqm.PlotMonitor_pyqt(\"plotmon_meas_ctrl\")\n",
    "meas_ctrl.instr_plotmon(plotmon.name)\n",
    "insmon = InstrumentMonitor(\"InstrumentMonitor\")"
   ]
  },
  {
   "cell_type": "markdown",
   "id": "75bac5f5",
   "metadata": {},
   "source": [
    "## A 1D Batched loop: Resonator Spectroscopy\n",
    "\n",
    "### Defining a simple model\n",
    "\n",
    "In this example, we want to find the resonance of some devices. We expect to find its resonance somewhere in the low 6 GHz range, but manufacturing imperfections make it impossible to know exactly without inspection.\n",
    "\n",
    "We first create `freq`: a {class}`.Settable` with a {class}`~qcodes.parameters.Parameter` to represent the frequency of the signal probing the resonator, followed by a custom {class}`.Gettable` to mock (i.e. emulate) the resonator.\n",
    "The {class}`!Resonator` will return a Lorentzian shape centered on the resonant frequency. Our {class}`.Gettable` will read the setpoints from `freq`, in this case a 1D array.\n",
    "\n",
    "```{note}\n",
    "The `Resonator` {class}`.Gettable` has a new attribute `.batched` set to `True`. This property informs the {class}`.MeasurementControl` that it will not be in charge of iterating over the setpoints, instead the `Resonator` manages its own data acquisition. Similarly, the `freq` {class}`.Settable` must have a `.batched=True` so that the {class}`.MeasurementControl` hands over the setpoints correctly.\n",
    "```"
   ]
  },
  {
   "cell_type": "code",
   "execution_count": null,
   "id": "5c4c4fe7",
   "metadata": {},
   "outputs": [],
   "source": [
    "# Note that in an actual experimental setup `freq` will be a QCoDeS parameter\n",
    "# contained in a QCoDeS Instrument\n",
    "freq = ManualParameter(name=\"frequency\", unit=\"Hz\", label=\"Frequency\")\n",
    "freq.batched = True  # Tells meas_ctrl that the setpoints are to be passed in batches\n",
    "\n",
    "\n",
    "def lorenz(amplitude: float, fwhm: float, x: int, x_0: float):  # noqa: ANN201\n",
    "    \"\"\"Model of the frequency response.\"\"\"\n",
    "    return amplitude * ((fwhm / 2.0) ** 2) / ((x - x_0) ** 2 + (fwhm / 2.0) ** 2)\n",
    "\n",
    "\n",
    "class Resonator:\n",
    "    \"\"\"\n",
    "    Note that the Resonator is a valid Gettable not because of inheritance,\n",
    "    but because it has the expected attributes and methods.\n",
    "    \"\"\"\n",
    "\n",
    "    def __init__(self) -> None:  # noqa: D107\n",
    "        self.name = \"resonator\"\n",
    "        self.unit = \"V\"\n",
    "        self.label = \"Amplitude\"\n",
    "        self.batched = True\n",
    "        self.delay = 0.0\n",
    "\n",
    "        # hidden variables specifying the resonance\n",
    "        self._test_resonance = 6.0001048e9  # in Hz\n",
    "        self._test_width = 300  # FWHM in Hz\n",
    "\n",
    "    def get(self) -> float:\n",
    "        \"\"\"Emulation of the frequency response.\"\"\"\n",
    "        time.sleep(self.delay)\n",
    "\n",
    "        def _lorenz(x):  # noqa: ANN001, ANN202\n",
    "            return lorenz(1, self._test_width, x, self._test_resonance)\n",
    "\n",
    "        return 1 - np.array(list(map(_lorenz, freq())))\n",
    "\n",
    "    def prepare(self) -> None:\n",
    "        \"\"\"Adding this print statement is not required but added for illustrative\n",
    "        purposes.\n",
    "        \"\"\"\n",
    "        print(\"\\nPrepared Resonator...\")\n",
    "\n",
    "    def finish(self) -> None:\n",
    "        \"\"\"Adding this print statement is not required but added for illustrative\n",
    "        purposes.\n",
    "        \"\"\"\n",
    "        print(\"\\nFinished Resonator...\")\n",
    "\n",
    "\n",
    "gettable_res = Resonator()"
   ]
  },
  {
   "cell_type": "markdown",
   "id": "3eba38ef",
   "metadata": {},
   "source": [
    "### Running the experiment\n",
    "\n",
    "Just like our Iterative 1D loop, our complete experiment is expressed in just four lines of code.\n",
    "\n",
    "The main difference is defining the `batched` property of our {class}`.Gettable` to `True`.\n",
    "The {class}`.MeasurementControl` will detect these settings and run in the appropriate mode.\n",
    "\n",
    "At this point the `freq` parameter is empty:"
   ]
  },
  {
   "cell_type": "code",
   "execution_count": 5,
   "id": "98c44659",
   "metadata": {},
   "outputs": [
    {
     "name": "stdout",
     "output_type": "stream",
     "text": [
      "None\n"
     ]
    }
   ],
   "source": [
    "print(freq())"
   ]
  },
  {
   "cell_type": "code",
   "execution_count": 6,
   "id": "fbdd9d47",
   "metadata": {
    "mystnb": {
     "remove-output": true
    }
   },
   "outputs": [
    {
     "name": "stdout",
     "output_type": "stream",
     "text": [
      "Starting batched measurement...\n",
      "Iterative settable(s) [outer loop(s)]:\n",
      "\t --- (None) --- \n",
      "Batched settable(s):\n",
      "\t frequency \n",
      "Batch size limit: 2000\n",
      "\n",
      "\n",
      "Prepared Resonator...\n"
     ]
    },
    {
     "name": "stderr",
     "output_type": "stream",
     "text": [
      "Traceback (most recent call last):\n",
      "  File \"C:\\Users\\gabri\\Documents\\OrangeQs\\EPIC13\\quantify\\quantify\\visualization\\pyqt_plotmon_remote.py\", line 170, in _exec_queue\n",
      "    getattr(self, attr_name)(*args)\n",
      "  File \"C:\\Users\\gabri\\Documents\\OrangeQs\\EPIC13\\quantify\\quantify\\visualization\\pyqt_plotmon_remote.py\", line 584, in update\n",
      "    raise TypeError(f\"datadir must be of type str but is {type(datadir)}\")\n",
      "TypeError: datadir must be of type str but is <class 'pathlib.WindowsPath'>\n"
     ]
    },
    {
     "data": {
      "application/vnd.jupyter.widget-view+json": {
       "model_id": "62c1e39c7e7b4ef19a7f3fd4649221e1",
       "version_major": 2,
       "version_minor": 0
      },
      "text/plain": [
       "Completed:   0%|           [ elapsed time: 00:00 | time left: ? ] it"
      ]
     },
     "metadata": {},
     "output_type": "display_data"
    },
    {
     "name": "stdout",
     "output_type": "stream",
     "text": [
      "\n",
      "Finished Resonator...\n"
     ]
    }
   ],
   "source": [
    "meas_ctrl.settables(freq)\n",
    "meas_ctrl.setpoints(np.arange(6.0001e9, 6.00011e9, 5))\n",
    "meas_ctrl.gettables(gettable_res)\n",
    "dset = meas_ctrl.run()"
   ]
  },
  {
   "cell_type": "code",
   "execution_count": 7,
   "id": "ecc5e58d",
   "metadata": {},
   "outputs": [
    {
     "data": {
      "image/png": "[encoded data removed]",
      "text/plain": [
       "<quantify.visualization.pyqt_plotmon.QtPlotObjForJupyter at 0x1f07d7614f0>"
      ]
     },
     "execution_count": 7,
     "metadata": {},
     "output_type": "execute_result"
    }
   ],
   "source": [
    "plotmon.main_QtPlot"
   ]
  },
  {
   "cell_type": "markdown",
   "id": "f04a96a0",
   "metadata": {},
   "source": [
    "As expected, we find a Lorentzian spike in the readout at the resonant frequency, finding the peak of which is trivial.\n",
    "\n",
    "#### Memory-limited Settables/Gettables\n",
    "\n",
    "Instruments (either physical or virtual) operating in `batched` mode have an upper limit on how many datapoints can be processed at once.\n",
    "When an experiment is comprised of more datapoints than the instrument can handle, the {class}`.MeasurementControl` takes care of fulfilling the measurement of all the requested setpoints by running and an internal loop.\n",
    "\n",
    "By default the {class}`.MeasurementControl` assumes no limitations and passes all setpoints to the `batched` settable. However, as a best practice, the instrument limitation must be reflected by the `.batch_size` attribute of the `batched` settables. This is illustrated below."
   ]
  },
  {
   "cell_type": "code",
   "execution_count": 8,
   "id": "11f48755",
   "metadata": {
    "mystnb": {
     "remove-output": true
    }
   },
   "outputs": [
    {
     "name": "stdout",
     "output_type": "stream",
     "text": [
      "Starting batched measurement...\n",
      "Iterative settable(s) [outer loop(s)]:\n",
      "\t --- (None) --- \n",
      "Batched settable(s):\n",
      "\t frequency \n",
      "Batch size limit: 256\n",
      "\n",
      "\n",
      "Prepared Resonator...\n"
     ]
    },
    {
     "name": "stderr",
     "output_type": "stream",
     "text": [
      "Traceback (most recent call last):\n",
      "  File \"C:\\Users\\gabri\\Documents\\OrangeQs\\EPIC13\\quantify\\quantify\\visualization\\pyqt_plotmon_remote.py\", line 170, in _exec_queue\n",
      "    getattr(self, attr_name)(*args)\n",
      "  File \"C:\\Users\\gabri\\Documents\\OrangeQs\\EPIC13\\quantify\\quantify\\visualization\\pyqt_plotmon_remote.py\", line 584, in update\n",
      "    raise TypeError(f\"datadir must be of type str but is {type(datadir)}\")\n",
      "TypeError: datadir must be of type str but is <class 'pathlib.WindowsPath'>\n"
     ]
    },
    {
     "data": {
      "application/vnd.jupyter.widget-view+json": {
       "model_id": "09b2d54b85b642969bbe31a8de18efde",
       "version_major": 2,
       "version_minor": 0
      },
      "text/plain": [
       "Completed:   0%|           [ elapsed time: 00:00 | time left: ? ] it"
      ]
     },
     "metadata": {},
     "output_type": "display_data"
    },
    {
     "name": "stdout",
     "output_type": "stream",
     "text": [
      "\n",
      "Prepared Resonator...\n",
      "\n",
      "Prepared Resonator...\n",
      "\n",
      "Prepared Resonator...\n",
      "\n",
      "Prepared Resonator...\n",
      "\n",
      "Prepared Resonator...\n",
      "\n",
      "Prepared Resonator...\n",
      "\n",
      "Prepared Resonator...\n",
      "\n",
      "Finished Resonator...\n"
     ]
    }
   ],
   "source": [
    "# Tells meas_ctrl that only 256 datapoints can be processed at once\n",
    "freq.batch_size = 256\n",
    "\n",
    "gettable_res.delay = 0.05  # short delay for plotting\n",
    "meas_ctrl.settables(freq)\n",
    "meas_ctrl.setpoints(np.arange(6.0001e9, 6.00011e9, 5))\n",
    "meas_ctrl.gettables(gettable_res)\n",
    "dset = meas_ctrl.run()"
   ]
  },
  {
   "cell_type": "code",
   "execution_count": 9,
   "id": "bd0cbdc5",
   "metadata": {},
   "outputs": [
    {
     "data": {
      "image/png": "[encoded data removed]",
      "text/plain": [
       "<quantify.visualization.pyqt_plotmon.QtPlotObjForJupyter at 0x1f07d7614f0>"
      ]
     },
     "execution_count": 9,
     "metadata": {},
     "output_type": "execute_result"
    }
   ],
   "source": [
    "plotmon.main_QtPlot"
   ]
  },
  {
   "cell_type": "markdown",
   "id": "a1a6c5b0",
   "metadata": {},
   "source": [
    "## Software Averaging: T1 Experiment\n",
    "\n",
    "In many cases it is desirable to run an experiment many times and average the result, such as when filtering noise on instruments or measuring probability.\n",
    "For this purpose, the {meth}`.MeasurementControl.run` provides the `soft_avg` argument.\n",
    "If set to *x*, the experiment will run *x* times whilst performing a running average over each setpoint.\n",
    "\n",
    "In this example, we want to find the relaxation time (aka T1) of a Qubit. As before, we define a {class}`.Settable` and {class}`.Gettable`, representing the varying timescales we will probe through and a mock Qubit emulated in software.\n",
    "The mock Qubit returns the expected decay sweep but with a small amount of noise (simulating the variable qubit characteristics). We set the qubit's T1 to 60 ms - obviously in a real experiment we would be trying to determine this, but for this illustration purposes in this tutorial we set it to a known value to verify our fit later on.\n",
    "\n",
    "Note that in this example meas_ctrl is still running in Batched mode."
   ]
  },
  {
   "cell_type": "code",
   "execution_count": null,
   "id": "a8fd9739",
   "metadata": {},
   "outputs": [],
   "source": [
    "def decay(t, tau):  # noqa: ANN001, ANN201\n",
    "    \"\"\"T1 experiment decay model.\"\"\"\n",
    "    return np.exp(-t / tau)\n",
    "\n",
    "\n",
    "time_par = ManualParameter(name=\"time\", unit=\"s\", label=\"Measurement Time\")\n",
    "# Tells meas_ctrl that the setpoints are to be passed in batches\n",
    "time_par.batched = True\n",
    "\n",
    "\n",
    "class MockQubit:\n",
    "    \"\"\"A mock qubit.\"\"\"\n",
    "\n",
    "    def __init__(self) -> None:  # noqa: D107\n",
    "        self.name = \"qubit\"\n",
    "        self.unit = \"%\"\n",
    "        self.label = \"High V\"\n",
    "        self.batched = True\n",
    "\n",
    "        self.delay = 0.01  # sleep time in secs\n",
    "        self.test_relaxation_time = 60e-6\n",
    "\n",
    "    def get(self):  # noqa: ANN201\n",
    "        \"\"\"Adds a delay to be able to appreciate the data acquisition.\"\"\"\n",
    "        time.sleep(self.delay)\n",
    "        rel_time = self.test_relaxation_time\n",
    "\n",
    "        def _func(x):  # noqa: ANN001, ANN202\n",
    "            return decay(x, rel_time) + rng.uniform(-0.1, 0.1)\n",
    "\n",
    "        return np.array(list(map(_func, time_par())))"
   ]
  },
  {
   "cell_type": "markdown",
   "id": "b0ad9691",
   "metadata": {},
   "source": [
    "We will then sweep through 0 to 300 ms, getting our data from the mock Qubit. Let's first observe what a single run looks like:"
   ]
  },
  {
   "cell_type": "code",
   "execution_count": 11,
   "id": "a04da706",
   "metadata": {
    "mystnb": "remove-output:true"
   },
   "outputs": [
    {
     "name": "stdout",
     "output_type": "stream",
     "text": [
      "Starting batched measurement...\n",
      "Iterative settable(s) [outer loop(s)]:\n",
      "\t --- (None) --- \n",
      "Batched settable(s):\n",
      "\t time \n",
      "Batch size limit: 300\n",
      "\n"
     ]
    },
    {
     "data": {
      "application/vnd.jupyter.widget-view+json": {
       "model_id": "4c7f1605f8fb4dc6be3c07e6cc287568",
       "version_major": 2,
       "version_minor": 0
      },
      "text/plain": [
       "Completed:   0%|           [ elapsed time: 00:00 | time left: ? ] it"
      ]
     },
     "metadata": {},
     "output_type": "display_data"
    },
    {
     "name": "stderr",
     "output_type": "stream",
     "text": [
      "Traceback (most recent call last):\n",
      "  File \"C:\\Users\\gabri\\Documents\\OrangeQs\\EPIC13\\quantify\\quantify\\visualization\\pyqt_plotmon_remote.py\", line 170, in _exec_queue\n",
      "    getattr(self, attr_name)(*args)\n",
      "  File \"C:\\Users\\gabri\\Documents\\OrangeQs\\EPIC13\\quantify\\quantify\\visualization\\pyqt_plotmon_remote.py\", line 584, in update\n",
      "    raise TypeError(f\"datadir must be of type str but is {type(datadir)}\")\n",
      "TypeError: datadir must be of type str but is <class 'pathlib.WindowsPath'>\n"
     ]
    },
    {
     "data": {
      "text/html": [
       "<div><svg style=\"position: absolute; width: 0; height: 0; overflow: hidden\">\n",
       "<defs>\n",
       "<symbol id=\"icon-database\" viewBox=\"0 0 32 32\">\n",
       "<path d=\"M16 0c-8.837 0-16 2.239-16 5v4c0 2.761 7.163 5 16 5s16-2.239 16-5v-4c0-2.761-7.163-5-16-5z\"></path>\n",
       "<path d=\"M16 17c-8.837 0-16-2.239-16-5v6c0 2.761 7.163 5 16 5s16-2.239 16-5v-6c0 2.761-7.163 5-16 5z\"></path>\n",
       "<path d=\"M16 26c-8.837 0-16-2.239-16-5v6c0 2.761 7.163 5 16 5s16-2.239 16-5v-6c0 2.761-7.163 5-16 5z\"></path>\n",
       "</symbol>\n",
       "<symbol id=\"icon-file-text2\" viewBox=\"0 0 32 32\">\n",
       "<path d=\"M28.681 7.159c-0.694-0.947-1.662-2.053-2.724-3.116s-2.169-2.030-3.116-2.724c-1.612-1.182-2.393-1.319-2.841-1.319h-15.5c-1.378 0-2.5 1.121-2.5 2.5v27c0 1.378 1.122 2.5 2.5 2.5h23c1.378 0 2.5-1.122 2.5-2.5v-19.5c0-0.448-0.137-1.23-1.319-2.841zM24.543 5.457c0.959 0.959 1.712 1.825 2.268 2.543h-4.811v-4.811c0.718 0.556 1.584 1.309 2.543 2.268zM28 29.5c0 0.271-0.229 0.5-0.5 0.5h-23c-0.271 0-0.5-0.229-0.5-0.5v-27c0-0.271 0.229-0.5 0.5-0.5 0 0 15.499-0 15.5 0v7c0 0.552 0.448 1 1 1h7v19.5z\"></path>\n",
       "<path d=\"M23 26h-14c-0.552 0-1-0.448-1-1s0.448-1 1-1h14c0.552 0 1 0.448 1 1s-0.448 1-1 1z\"></path>\n",
       "<path d=\"M23 22h-14c-0.552 0-1-0.448-1-1s0.448-1 1-1h14c0.552 0 1 0.448 1 1s-0.448 1-1 1z\"></path>\n",
       "<path d=\"M23 18h-14c-0.552 0-1-0.448-1-1s0.448-1 1-1h14c0.552 0 1 0.448 1 1s-0.448 1-1 1z\"></path>\n",
       "</symbol>\n",
       "</defs>\n",
       "</svg>\n",
       "<style>/* CSS stylesheet for displaying xarray objects in jupyterlab.\n",
       " *\n",
       " */\n",
       "\n",
       ":root {\n",
       "  --xr-font-color0: var(--jp-content-font-color0, rgba(0, 0, 0, 1));\n",
       "  --xr-font-color2: var(--jp-content-font-color2, rgba(0, 0, 0, 0.54));\n",
       "  --xr-font-color3: var(--jp-content-font-color3, rgba(0, 0, 0, 0.38));\n",
       "  --xr-border-color: var(--jp-border-color2, #e0e0e0);\n",
       "  --xr-disabled-color: var(--jp-layout-color3, #bdbdbd);\n",
       "  --xr-background-color: var(--jp-layout-color0, white);\n",
       "  --xr-background-color-row-even: var(--jp-layout-color1, white);\n",
       "  --xr-background-color-row-odd: var(--jp-layout-color2, #eeeeee);\n",
       "}\n",
       "\n",
       "html[theme=\"dark\"],\n",
       "html[data-theme=\"dark\"],\n",
       "body[data-theme=\"dark\"],\n",
       "body.vscode-dark {\n",
       "  --xr-font-color0: rgba(255, 255, 255, 1);\n",
       "  --xr-font-color2: rgba(255, 255, 255, 0.54);\n",
       "  --xr-font-color3: rgba(255, 255, 255, 0.38);\n",
       "  --xr-border-color: #1f1f1f;\n",
       "  --xr-disabled-color: #515151;\n",
       "  --xr-background-color: #111111;\n",
       "  --xr-background-color-row-even: #111111;\n",
       "  --xr-background-color-row-odd: #313131;\n",
       "}\n",
       "\n",
       ".xr-wrap {\n",
       "  display: block !important;\n",
       "  min-width: 300px;\n",
       "  max-width: 700px;\n",
       "}\n",
       "\n",
       ".xr-text-repr-fallback {\n",
       "  /* fallback to plain text repr when CSS is not injected (untrusted notebook) */\n",
       "  display: none;\n",
       "}\n",
       "\n",
       ".xr-header {\n",
       "  padding-top: 6px;\n",
       "  padding-bottom: 6px;\n",
       "  margin-bottom: 4px;\n",
       "  border-bottom: solid 1px var(--xr-border-color);\n",
       "}\n",
       "\n",
       ".xr-header > div,\n",
       ".xr-header > ul {\n",
       "  display: inline;\n",
       "  margin-top: 0;\n",
       "  margin-bottom: 0;\n",
       "}\n",
       "\n",
       ".xr-obj-type,\n",
       ".xr-array-name {\n",
       "  margin-left: 2px;\n",
       "  margin-right: 10px;\n",
       "}\n",
       "\n",
       ".xr-obj-type {\n",
       "  color: var(--xr-font-color2);\n",
       "}\n",
       "\n",
       ".xr-sections {\n",
       "  padding-left: 0 !important;\n",
       "  display: grid;\n",
       "  grid-template-columns: 150px auto auto 1fr 0 20px 0 20px;\n",
       "}\n",
       "\n",
       ".xr-section-item {\n",
       "  display: contents;\n",
       "}\n",
       "\n",
       ".xr-section-item input {\n",
       "  display: inline-block;\n",
       "  opacity: 0;\n",
       "  height: 0;\n",
       "}\n",
       "\n",
       ".xr-section-item input + label {\n",
       "  color: var(--xr-disabled-color);\n",
       "}\n",
       "\n",
       ".xr-section-item input:enabled + label {\n",
       "  cursor: pointer;\n",
       "  color: var(--xr-font-color2);\n",
       "}\n",
       "\n",
       ".xr-section-item input:focus + label {\n",
       "  border: 2px solid var(--xr-font-color0);\n",
       "}\n",
       "\n",
       ".xr-section-item input:enabled + label:hover {\n",
       "  color: var(--xr-font-color0);\n",
       "}\n",
       "\n",
       ".xr-section-summary {\n",
       "  grid-column: 1;\n",
       "  color: var(--xr-font-color2);\n",
       "  font-weight: 500;\n",
       "}\n",
       "\n",
       ".xr-section-summary > span {\n",
       "  display: inline-block;\n",
       "  padding-left: 0.5em;\n",
       "}\n",
       "\n",
       ".xr-section-summary-in:disabled + label {\n",
       "  color: var(--xr-font-color2);\n",
       "}\n",
       "\n",
       ".xr-section-summary-in + label:before {\n",
       "  display: inline-block;\n",
       "  content: \"►\";\n",
       "  font-size: 11px;\n",
       "  width: 15px;\n",
       "  text-align: center;\n",
       "}\n",
       "\n",
       ".xr-section-summary-in:disabled + label:before {\n",
       "  color: var(--xr-disabled-color);\n",
       "}\n",
       "\n",
       ".xr-section-summary-in:checked + label:before {\n",
       "  content: \"▼\";\n",
       "}\n",
       "\n",
       ".xr-section-summary-in:checked + label > span {\n",
       "  display: none;\n",
       "}\n",
       "\n",
       ".xr-section-summary,\n",
       ".xr-section-inline-details {\n",
       "  padding-top: 4px;\n",
       "  padding-bottom: 4px;\n",
       "}\n",
       "\n",
       ".xr-section-inline-details {\n",
       "  grid-column: 2 / -1;\n",
       "}\n",
       "\n",
       ".xr-section-details {\n",
       "  display: none;\n",
       "  grid-column: 1 / -1;\n",
       "  margin-bottom: 5px;\n",
       "}\n",
       "\n",
       ".xr-section-summary-in:checked ~ .xr-section-details {\n",
       "  display: contents;\n",
       "}\n",
       "\n",
       ".xr-array-wrap {\n",
       "  grid-column: 1 / -1;\n",
       "  display: grid;\n",
       "  grid-template-columns: 20px auto;\n",
       "}\n",
       "\n",
       ".xr-array-wrap > label {\n",
       "  grid-column: 1;\n",
       "  vertical-align: top;\n",
       "}\n",
       "\n",
       ".xr-preview {\n",
       "  color: var(--xr-font-color3);\n",
       "}\n",
       "\n",
       ".xr-array-preview,\n",
       ".xr-array-data {\n",
       "  padding: 0 5px !important;\n",
       "  grid-column: 2;\n",
       "}\n",
       "\n",
       ".xr-array-data,\n",
       ".xr-array-in:checked ~ .xr-array-preview {\n",
       "  display: none;\n",
       "}\n",
       "\n",
       ".xr-array-in:checked ~ .xr-array-data,\n",
       ".xr-array-preview {\n",
       "  display: inline-block;\n",
       "}\n",
       "\n",
       ".xr-dim-list {\n",
       "  display: inline-block !important;\n",
       "  list-style: none;\n",
       "  padding: 0 !important;\n",
       "  margin: 0;\n",
       "}\n",
       "\n",
       ".xr-dim-list li {\n",
       "  display: inline-block;\n",
       "  padding: 0;\n",
       "  margin: 0;\n",
       "}\n",
       "\n",
       ".xr-dim-list:before {\n",
       "  content: \"(\";\n",
       "}\n",
       "\n",
       ".xr-dim-list:after {\n",
       "  content: \")\";\n",
       "}\n",
       "\n",
       ".xr-dim-list li:not(:last-child):after {\n",
       "  content: \",\";\n",
       "  padding-right: 5px;\n",
       "}\n",
       "\n",
       ".xr-has-index {\n",
       "  font-weight: bold;\n",
       "}\n",
       "\n",
       ".xr-var-list,\n",
       ".xr-var-item {\n",
       "  display: contents;\n",
       "}\n",
       "\n",
       ".xr-var-item > div,\n",
       ".xr-var-item label,\n",
       ".xr-var-item > .xr-var-name span {\n",
       "  background-color: var(--xr-background-color-row-even);\n",
       "  margin-bottom: 0;\n",
       "}\n",
       "\n",
       ".xr-var-item > .xr-var-name:hover span {\n",
       "  padding-right: 5px;\n",
       "}\n",
       "\n",
       ".xr-var-list > li:nth-child(odd) > div,\n",
       ".xr-var-list > li:nth-child(odd) > label,\n",
       ".xr-var-list > li:nth-child(odd) > .xr-var-name span {\n",
       "  background-color: var(--xr-background-color-row-odd);\n",
       "}\n",
       "\n",
       ".xr-var-name {\n",
       "  grid-column: 1;\n",
       "}\n",
       "\n",
       ".xr-var-dims {\n",
       "  grid-column: 2;\n",
       "}\n",
       "\n",
       ".xr-var-dtype {\n",
       "  grid-column: 3;\n",
       "  text-align: right;\n",
       "  color: var(--xr-font-color2);\n",
       "}\n",
       "\n",
       ".xr-var-preview {\n",
       "  grid-column: 4;\n",
       "}\n",
       "\n",
       ".xr-index-preview {\n",
       "  grid-column: 2 / 5;\n",
       "  color: var(--xr-font-color2);\n",
       "}\n",
       "\n",
       ".xr-var-name,\n",
       ".xr-var-dims,\n",
       ".xr-var-dtype,\n",
       ".xr-preview,\n",
       ".xr-attrs dt {\n",
       "  white-space: nowrap;\n",
       "  overflow: hidden;\n",
       "  text-overflow: ellipsis;\n",
       "  padding-right: 10px;\n",
       "}\n",
       "\n",
       ".xr-var-name:hover,\n",
       ".xr-var-dims:hover,\n",
       ".xr-var-dtype:hover,\n",
       ".xr-attrs dt:hover {\n",
       "  overflow: visible;\n",
       "  width: auto;\n",
       "  z-index: 1;\n",
       "}\n",
       "\n",
       ".xr-var-attrs,\n",
       ".xr-var-data,\n",
       ".xr-index-data {\n",
       "  display: none;\n",
       "  background-color: var(--xr-background-color) !important;\n",
       "  padding-bottom: 5px !important;\n",
       "}\n",
       "\n",
       ".xr-var-attrs-in:checked ~ .xr-var-attrs,\n",
       ".xr-var-data-in:checked ~ .xr-var-data,\n",
       ".xr-index-data-in:checked ~ .xr-index-data {\n",
       "  display: block;\n",
       "}\n",
       "\n",
       ".xr-var-data > table {\n",
       "  float: right;\n",
       "}\n",
       "\n",
       ".xr-var-name span,\n",
       ".xr-var-data,\n",
       ".xr-index-name div,\n",
       ".xr-index-data,\n",
       ".xr-attrs {\n",
       "  padding-left: 25px !important;\n",
       "}\n",
       "\n",
       ".xr-attrs,\n",
       ".xr-var-attrs,\n",
       ".xr-var-data,\n",
       ".xr-index-data {\n",
       "  grid-column: 1 / -1;\n",
       "}\n",
       "\n",
       "dl.xr-attrs {\n",
       "  padding: 0;\n",
       "  margin: 0;\n",
       "  display: grid;\n",
       "  grid-template-columns: 125px auto;\n",
       "}\n",
       "\n",
       ".xr-attrs dt,\n",
       ".xr-attrs dd {\n",
       "  padding: 0;\n",
       "  margin: 0;\n",
       "  float: left;\n",
       "  padding-right: 10px;\n",
       "  width: auto;\n",
       "}\n",
       "\n",
       ".xr-attrs dt {\n",
       "  font-weight: normal;\n",
       "  grid-column: 1;\n",
       "}\n",
       "\n",
       ".xr-attrs dt:hover span {\n",
       "  display: inline-block;\n",
       "  background: var(--xr-background-color);\n",
       "  padding-right: 10px;\n",
       "}\n",
       "\n",
       ".xr-attrs dd {\n",
       "  grid-column: 2;\n",
       "  white-space: pre-wrap;\n",
       "  word-break: break-all;\n",
       "}\n",
       "\n",
       ".xr-icon-database,\n",
       ".xr-icon-file-text2,\n",
       ".xr-no-icon {\n",
       "  display: inline-block;\n",
       "  vertical-align: middle;\n",
       "  width: 1em;\n",
       "  height: 1.5em !important;\n",
       "  stroke-width: 0;\n",
       "  stroke: currentColor;\n",
       "  fill: currentColor;\n",
       "}\n",
       "</style><pre class='xr-text-repr-fallback'>&lt;xarray.Dataset&gt; Size: 5kB\n",
       "Dimensions:  (dim_0: 300)\n",
       "Coordinates:\n",
       "    x0       (dim_0) float64 2kB 0.0 1.003e-06 2.007e-06 ... 0.000299 0.0003\n",
       "Dimensions without coordinates: dim_0\n",
       "Data variables:\n",
       "    y0       (dim_0) float64 2kB 0.9972 1.063 1.065 ... -0.04871 0.07343 0.01665\n",
       "Attributes:\n",
       "    tuid:                             20250402-150706-619-de5403\n",
       "    name:                             noisy\n",
       "    grid_2d:                          False\n",
       "    grid_2d_uniformly_spaced:         False\n",
       "    1d_2_settables_uniformly_spaced:  False</pre><div class='xr-wrap' style='display:none'><div class='xr-header'><div class='xr-obj-type'>xarray.Dataset</div></div><ul class='xr-sections'><li class='xr-section-item'><input id='section-a5380421-553f-479e-b530-5cdac9eace56' class='xr-section-summary-in' type='checkbox' disabled ><label for='section-a5380421-553f-479e-b530-5cdac9eace56' class='xr-section-summary'  title='Expand/collapse section'>Dimensions:</label><div class='xr-section-inline-details'><ul class='xr-dim-list'><li><span>dim_0</span>: 300</li></ul></div><div class='xr-section-details'></div></li><li class='xr-section-item'><input id='section-12454ec9-3e69-4dc2-8dac-f9fd4bfa947e' class='xr-section-summary-in' type='checkbox'  checked><label for='section-12454ec9-3e69-4dc2-8dac-f9fd4bfa947e' class='xr-section-summary' >Coordinates: <span>(1)</span></label><div class='xr-section-inline-details'></div><div class='xr-section-details'><ul class='xr-var-list'><li class='xr-var-item'><div class='xr-var-name'><span>x0</span></div><div class='xr-var-dims'>(dim_0)</div><div class='xr-var-dtype'>float64</div><div class='xr-var-preview xr-preview'>0.0 1.003e-06 ... 0.000299 0.0003</div><input id='attrs-1cd28413-3d08-4a49-a968-f88778e8848b' class='xr-var-attrs-in' type='checkbox' ><label for='attrs-1cd28413-3d08-4a49-a968-f88778e8848b' title='Show/Hide attributes'><svg class='icon xr-icon-file-text2'><use xlink:href='#icon-file-text2'></use></svg></label><input id='data-d349a9b1-15a6-4df1-a58d-efa36dea0141' class='xr-var-data-in' type='checkbox'><label for='data-d349a9b1-15a6-4df1-a58d-efa36dea0141' title='Show/Hide data repr'><svg class='icon xr-icon-database'><use xlink:href='#icon-database'></use></svg></label><div class='xr-var-attrs'><dl class='xr-attrs'><dt><span>name :</span></dt><dd>time</dd><dt><span>long_name :</span></dt><dd>time</dd><dt><span>units :</span></dt><dd>s</dd><dt><span>batched :</span></dt><dd>True</dd></dl></div><div class='xr-var-data'><pre>array([0.00000000e+00, 1.00334448e-06, 2.00668896e-06, 3.01003344e-06,\n",
       "       4.01337793e-06, 5.01672241e-06, 6.02006689e-06, 7.02341137e-06,\n",
       "       8.02675585e-06, 9.03010033e-06, 1.00334448e-05, 1.10367893e-05,\n",
       "       1.20401338e-05, 1.30434783e-05, 1.40468227e-05, 1.50501672e-05,\n",
       "       1.60535117e-05, 1.70568562e-05, 1.80602007e-05, 1.90635452e-05,\n",
       "       2.00668896e-05, 2.10702341e-05, 2.20735786e-05, 2.30769231e-05,\n",
       "       2.40802676e-05, 2.50836120e-05, 2.60869565e-05, 2.70903010e-05,\n",
       "       2.80936455e-05, 2.90969900e-05, 3.01003344e-05, 3.11036789e-05,\n",
       "       3.21070234e-05, 3.31103679e-05, 3.41137124e-05, 3.51170569e-05,\n",
       "       3.61204013e-05, 3.71237458e-05, 3.81270903e-05, 3.91304348e-05,\n",
       "       4.01337793e-05, 4.11371237e-05, 4.21404682e-05, 4.31438127e-05,\n",
       "       4.41471572e-05, 4.51505017e-05, 4.61538462e-05, 4.71571906e-05,\n",
       "       4.81605351e-05, 4.91638796e-05, 5.01672241e-05, 5.11705686e-05,\n",
       "       5.21739130e-05, 5.31772575e-05, 5.41806020e-05, 5.51839465e-05,\n",
       "       5.61872910e-05, 5.71906355e-05, 5.81939799e-05, 5.91973244e-05,\n",
       "       6.02006689e-05, 6.12040134e-05, 6.22073579e-05, 6.32107023e-05,\n",
       "       6.42140468e-05, 6.52173913e-05, 6.62207358e-05, 6.72240803e-05,\n",
       "       6.82274247e-05, 6.92307692e-05, 7.02341137e-05, 7.12374582e-05,\n",
       "       7.22408027e-05, 7.32441472e-05, 7.42474916e-05, 7.52508361e-05,\n",
       "       7.62541806e-05, 7.72575251e-05, 7.82608696e-05, 7.92642140e-05,\n",
       "...\n",
       "       2.20735786e-04, 2.21739130e-04, 2.22742475e-04, 2.23745819e-04,\n",
       "       2.24749164e-04, 2.25752508e-04, 2.26755853e-04, 2.27759197e-04,\n",
       "       2.28762542e-04, 2.29765886e-04, 2.30769231e-04, 2.31772575e-04,\n",
       "       2.32775920e-04, 2.33779264e-04, 2.34782609e-04, 2.35785953e-04,\n",
       "       2.36789298e-04, 2.37792642e-04, 2.38795987e-04, 2.39799331e-04,\n",
       "       2.40802676e-04, 2.41806020e-04, 2.42809365e-04, 2.43812709e-04,\n",
       "       2.44816054e-04, 2.45819398e-04, 2.46822742e-04, 2.47826087e-04,\n",
       "       2.48829431e-04, 2.49832776e-04, 2.50836120e-04, 2.51839465e-04,\n",
       "       2.52842809e-04, 2.53846154e-04, 2.54849498e-04, 2.55852843e-04,\n",
       "       2.56856187e-04, 2.57859532e-04, 2.58862876e-04, 2.59866221e-04,\n",
       "       2.60869565e-04, 2.61872910e-04, 2.62876254e-04, 2.63879599e-04,\n",
       "       2.64882943e-04, 2.65886288e-04, 2.66889632e-04, 2.67892977e-04,\n",
       "       2.68896321e-04, 2.69899666e-04, 2.70903010e-04, 2.71906355e-04,\n",
       "       2.72909699e-04, 2.73913043e-04, 2.74916388e-04, 2.75919732e-04,\n",
       "       2.76923077e-04, 2.77926421e-04, 2.78929766e-04, 2.79933110e-04,\n",
       "       2.80936455e-04, 2.81939799e-04, 2.82943144e-04, 2.83946488e-04,\n",
       "       2.84949833e-04, 2.85953177e-04, 2.86956522e-04, 2.87959866e-04,\n",
       "       2.88963211e-04, 2.89966555e-04, 2.90969900e-04, 2.91973244e-04,\n",
       "       2.92976589e-04, 2.93979933e-04, 2.94983278e-04, 2.95986622e-04,\n",
       "       2.96989967e-04, 2.97993311e-04, 2.98996656e-04, 3.00000000e-04])</pre></div></li></ul></div></li><li class='xr-section-item'><input id='section-c503c71e-97a3-4fb5-b61c-6ba98166fd19' class='xr-section-summary-in' type='checkbox'  checked><label for='section-c503c71e-97a3-4fb5-b61c-6ba98166fd19' class='xr-section-summary' >Data variables: <span>(1)</span></label><div class='xr-section-inline-details'></div><div class='xr-section-details'><ul class='xr-var-list'><li class='xr-var-item'><div class='xr-var-name'><span>y0</span></div><div class='xr-var-dims'>(dim_0)</div><div class='xr-var-dtype'>float64</div><div class='xr-var-preview xr-preview'>0.9972 1.063 ... 0.07343 0.01665</div><input id='attrs-71140fcc-d60f-4ad8-a574-d9bba898396b' class='xr-var-attrs-in' type='checkbox' ><label for='attrs-71140fcc-d60f-4ad8-a574-d9bba898396b' title='Show/Hide attributes'><svg class='icon xr-icon-file-text2'><use xlink:href='#icon-file-text2'></use></svg></label><input id='data-579e00ce-0a68-4b59-bcdc-5004b1d693a6' class='xr-var-data-in' type='checkbox'><label for='data-579e00ce-0a68-4b59-bcdc-5004b1d693a6' title='Show/Hide data repr'><svg class='icon xr-icon-database'><use xlink:href='#icon-database'></use></svg></label><div class='xr-var-attrs'><dl class='xr-attrs'><dt><span>name :</span></dt><dd>qubit</dd><dt><span>long_name :</span></dt><dd>High V</dd><dt><span>units :</span></dt><dd>%</dd><dt><span>batched :</span></dt><dd>True</dd></dl></div><div class='xr-var-data'><pre>array([ 9.97233014e-01,  1.06318945e+00,  1.06455158e+00,  8.83793899e-01,\n",
       "        8.54829507e-01,  9.88824590e-01,  8.59848089e-01,  8.63993368e-01,\n",
       "        8.66778567e-01,  8.37008024e-01,  8.06025533e-01,  7.41484630e-01,\n",
       "        8.46138450e-01,  8.81818090e-01,  8.21757097e-01,  6.85518511e-01,\n",
       "        6.77180395e-01,  7.58038769e-01,  8.32173346e-01,  8.09036911e-01,\n",
       "        8.08151483e-01,  7.30401084e-01,  6.79787321e-01,  6.35216418e-01,\n",
       "        6.21462118e-01,  6.74769273e-01,  6.85184552e-01,  6.75744828e-01,\n",
       "        7.04377623e-01,  6.19177287e-01,  5.97234026e-01,  5.07610440e-01,\n",
       "        6.50901787e-01,  5.09120535e-01,  5.83673947e-01,  4.57201858e-01,\n",
       "        5.84567728e-01,  5.77278894e-01,  4.73231736e-01,  4.27799388e-01,\n",
       "        5.78058588e-01,  5.51680750e-01,  5.78029923e-01,  4.18137096e-01,\n",
       "        4.11911450e-01,  4.03883917e-01,  4.48900719e-01,  5.28552840e-01,\n",
       "        4.73869815e-01,  3.70490854e-01,  5.22947828e-01,  3.61286103e-01,\n",
       "        5.14261530e-01,  4.98071218e-01,  4.50247260e-01,  4.80092186e-01,\n",
       "        4.49971181e-01,  2.94803112e-01,  4.24198776e-01,  3.66737841e-01,\n",
       "        3.41820967e-01,  3.04630949e-01,  3.82957211e-01,  3.82565819e-01,\n",
       "        3.21770660e-01,  2.44865232e-01,  2.37730253e-01,  3.49009836e-01,\n",
       "        2.76030232e-01,  3.13826895e-01,  2.12045390e-01,  3.69873311e-01,\n",
       "        2.21918296e-01,  3.52387047e-01,  2.36441581e-01,  2.91823407e-01,\n",
       "        2.03581456e-01,  3.37557190e-01,  2.36679497e-01,  3.43210183e-01,\n",
       "...\n",
       "       -4.61657876e-02, -6.83193110e-02, -6.93639006e-02,  2.18082367e-02,\n",
       "       -6.81647069e-02, -7.64109642e-02,  4.16576630e-02,  2.35153147e-02,\n",
       "       -5.69305264e-02,  9.79578354e-02, -3.31327779e-03,  7.28614896e-02,\n",
       "        7.61512947e-03,  7.18063579e-02,  2.44945400e-02, -3.43585728e-02,\n",
       "       -2.65995496e-02, -4.39182302e-02,  1.12579746e-01,  1.00128339e-01,\n",
       "        7.66104633e-02, -2.65458351e-03,  1.06969853e-01, -3.54225244e-02,\n",
       "       -2.69185161e-02, -5.81867142e-02,  3.68301790e-02,  6.57066623e-02,\n",
       "        3.67318576e-02,  3.53448321e-02,  1.05504322e-01,  1.06860498e-01,\n",
       "        1.54140346e-02,  5.44167177e-02,  1.11359192e-01, -6.79992311e-02,\n",
       "       -6.95409544e-02, -2.13099346e-02, -1.21397148e-02, -7.37210756e-02,\n",
       "        1.12387545e-01,  1.05818471e-01,  3.82974502e-02, -5.29576181e-02,\n",
       "       -1.97436354e-02,  4.10315200e-02, -8.30792914e-02, -2.56467620e-02,\n",
       "       -5.27878109e-02,  9.54954450e-02,  2.30129755e-02, -2.17952174e-02,\n",
       "       -1.78294604e-02, -4.52961073e-02, -2.87813661e-02, -7.93521559e-02,\n",
       "       -6.80826340e-02, -3.70492161e-02,  4.45122126e-02,  2.68997858e-02,\n",
       "        7.70401831e-02, -2.50338925e-02,  7.87982867e-02,  6.46034769e-02,\n",
       "        3.14973938e-02,  1.05457720e-01, -1.96987589e-02, -7.21829777e-02,\n",
       "        1.22799884e-02,  1.69386660e-02, -6.04139585e-02,  4.03635435e-02,\n",
       "       -2.40656312e-02, -8.53643450e-02,  9.97848250e-02, -3.39919183e-02,\n",
       "       -3.49335894e-02, -4.87097756e-02,  7.34301353e-02,  1.66534679e-02])</pre></div></li></ul></div></li><li class='xr-section-item'><input id='section-85f6f3b5-d14b-436c-834e-bd5d97ff4c70' class='xr-section-summary-in' type='checkbox' disabled ><label for='section-85f6f3b5-d14b-436c-834e-bd5d97ff4c70' class='xr-section-summary'  title='Expand/collapse section'>Indexes: <span>(0)</span></label><div class='xr-section-inline-details'></div><div class='xr-section-details'><ul class='xr-var-list'></ul></div></li><li class='xr-section-item'><input id='section-de51f4f9-19e4-423b-a156-6dea6c76b302' class='xr-section-summary-in' type='checkbox'  checked><label for='section-de51f4f9-19e4-423b-a156-6dea6c76b302' class='xr-section-summary' >Attributes: <span>(5)</span></label><div class='xr-section-inline-details'></div><div class='xr-section-details'><dl class='xr-attrs'><dt><span>tuid :</span></dt><dd>20250402-150706-619-de5403</dd><dt><span>name :</span></dt><dd>noisy</dd><dt><span>grid_2d :</span></dt><dd>False</dd><dt><span>grid_2d_uniformly_spaced :</span></dt><dd>False</dd><dt><span>1d_2_settables_uniformly_spaced :</span></dt><dd>False</dd></dl></div></li></ul></div></div>"
      ],
      "text/plain": [
       "<xarray.Dataset> Size: 5kB\n",
       "Dimensions:  (dim_0: 300)\n",
       "Coordinates:\n",
       "    x0       (dim_0) float64 2kB 0.0 1.003e-06 2.007e-06 ... 0.000299 0.0003\n",
       "Dimensions without coordinates: dim_0\n",
       "Data variables:\n",
       "    y0       (dim_0) float64 2kB 0.9972 1.063 1.065 ... -0.04871 0.07343 0.01665\n",
       "Attributes:\n",
       "    tuid:                             20250402-150706-619-de5403\n",
       "    name:                             noisy\n",
       "    grid_2d:                          False\n",
       "    grid_2d_uniformly_spaced:         False\n",
       "    1d_2_settables_uniformly_spaced:  False"
      ]
     },
     "execution_count": 11,
     "metadata": {},
     "output_type": "execute_result"
    }
   ],
   "source": [
    "meas_ctrl.settables(time_par)\n",
    "meas_ctrl.setpoints(np.linspace(0.0, 300.0e-6, 300))\n",
    "meas_ctrl.gettables(MockQubit())\n",
    "meas_ctrl.run(\"noisy\")  # by default `.run` uses `soft_avg=1`"
   ]
  },
  {
   "cell_type": "code",
   "execution_count": 12,
   "id": "5e34df94",
   "metadata": {},
   "outputs": [
    {
     "data": {
      "image/png": "[encoded data removed]",
      "text/plain": [
       "<quantify.visualization.pyqt_plotmon.QtPlotObjForJupyter at 0x1f07d7614f0>"
      ]
     },
     "execution_count": 12,
     "metadata": {},
     "output_type": "execute_result"
    }
   ],
   "source": [
    "plotmon.main_QtPlot"
   ]
  },
  {
   "cell_type": "markdown",
   "id": "3cd212ae",
   "metadata": {},
   "source": [
    "Alas, the noise in the signal has made this result unusable! Let's set the `soft_avg` argument of the {meth}`.MeasurementControl.run` to 100, averaging the results and hopefully filtering out the noise."
   ]
  },
  {
   "cell_type": "code",
   "execution_count": 13,
   "id": "cace9ef8",
   "metadata": {
    "mystnb": {
     "remove-output": true
    }
   },
   "outputs": [
    {
     "name": "stdout",
     "output_type": "stream",
     "text": [
      "Starting batched measurement...\n",
      "Iterative settable(s) [outer loop(s)]:\n",
      "\t --- (None) --- \n",
      "Batched settable(s):\n",
      "\t time \n",
      "Batch size limit: 300\n",
      "\n"
     ]
    },
    {
     "data": {
      "application/vnd.jupyter.widget-view+json": {
       "model_id": "1278be02afab452d89bb6051353899a5",
       "version_major": 2,
       "version_minor": 0
      },
      "text/plain": [
       "Completed:   0%|           [ elapsed time: 00:00 | time left: ? ] it"
      ]
     },
     "metadata": {},
     "output_type": "display_data"
    },
    {
     "name": "stderr",
     "output_type": "stream",
     "text": [
      "Traceback (most recent call last):\n",
      "  File \"C:\\Users\\gabri\\Documents\\OrangeQs\\EPIC13\\quantify\\quantify\\visualization\\pyqt_plotmon_remote.py\", line 170, in _exec_queue\n",
      "    getattr(self, attr_name)(*args)\n",
      "  File \"C:\\Users\\gabri\\Documents\\OrangeQs\\EPIC13\\quantify\\quantify\\visualization\\pyqt_plotmon_remote.py\", line 584, in update\n",
      "    raise TypeError(f\"datadir must be of type str but is {type(datadir)}\")\n",
      "TypeError: datadir must be of type str but is <class 'pathlib.WindowsPath'>\n"
     ]
    }
   ],
   "source": [
    "dset = meas_ctrl.run(\"averaged\", soft_avg=100)"
   ]
  },
  {
   "cell_type": "code",
   "execution_count": 14,
   "id": "5aa93cbc",
   "metadata": {},
   "outputs": [
    {
     "data": {
      "image/png": "[encoded data removed]",
      "text/plain": [
       "<quantify.visualization.pyqt_plotmon.QtPlotObjForJupyter at 0x1f07d7614f0>"
      ]
     },
     "execution_count": 14,
     "metadata": {},
     "output_type": "execute_result"
    }
   ],
   "source": [
    "plotmon.main_QtPlot"
   ]
  },
  {
   "cell_type": "markdown",
   "id": "a7ffa625",
   "metadata": {},
   "source": [
    "Success! We now have a smooth decay curve based on the characteristics of our qubit. All that remains is to run a fit against the expected values and we can solve for T1."
   ]
  },
  {
   "cell_type": "code",
   "execution_count": 15,
   "id": "bd8301b1",
   "metadata": {},
   "outputs": [
    {
     "data": {
      "text/plain": [
       "{'tau': 5.994542423605273e-05}"
      ]
     },
     "execution_count": 15,
     "metadata": {},
     "output_type": "execute_result"
    },
    {
     "data": {
      "image/png": "[encoded data removed]",
      "text/plain": [
       "<Figure size 640x480 with 1 Axes>"
      ]
     },
     "metadata": {},
     "output_type": "display_data"
    }
   ],
   "source": [
    "model = Model(decay, independent_vars=[\"t\"])\n",
    "fit_res = model.fit(dset[\"y0\"].values, t=dset[\"x0\"].values, tau=1)\n",
    "\n",
    "fit_res.plot_fit(show_init=True)\n",
    "fit_res.values"
   ]
  },
  {
   "cell_type": "markdown",
   "id": "a3a36dec",
   "metadata": {},
   "source": [
    "## Interrupting\n",
    "Sometimes experiments, unfortunately, do not go as planned and it is desirable to interrupt and restart them with new parameters. In the following example, we have a long-running experiment where our Gettable is taking a long time to return data (maybe due to misconfiguration).\n",
    "Rather than waiting for this experiment to complete, instead we can interrupt any {class}`.MeasurementControl` loop using the standard interrupt signal.\n",
    "In a terminal environment this is usually achieved with a `ctrl` + `c` press on the keyboard or equivalent, whilst in a Jupyter environment interrupting the kernel (stop button) will cause the same result.\n",
    "\n",
    "When the {class}`.MeasurementControl` is interrupted, it will wait to obtain the results of the current iteration (or batch) and perform a final save of the data it has gathered, calling the `finish()` method on Settables & Gettables (if it exists) and return the partially completed dataset.\n",
    "\n",
    "```{note}\n",
    "The exact means of triggering an interrupt will differ depending on your platform and environment; the important part is to cause a `KeyboardInterrupt` exception to be raised in the Python process.\n",
    "```\n",
    "\n",
    "In case the current iteration is taking too long to complete (e.g. instruments not responding), you may force the execution of any python code to stop by signaling the same interrupt 5 times (e.g. pressing 5 times `ctrl` + `c`). Mind that performing this too fast might result in the `KeyboardInterrupt` not being properly handled and corrupting the dataset!"
   ]
  },
  {
   "cell_type": "code",
   "execution_count": null,
   "id": "e1b46c8b",
   "metadata": {
    "tags": [
     "raises-exception"
    ]
   },
   "outputs": [
    {
     "name": "stdout",
     "output_type": "stream",
     "text": [
      "Starting iterative measurement...\n"
     ]
    },
    {
     "name": "stderr",
     "output_type": "stream",
     "text": [
      "Traceback (most recent call last):\n",
      "  File \"C:\\Users\\gabri\\Documents\\OrangeQs\\EPIC13\\quantify\\quantify\\visualization\\pyqt_plotmon_remote.py\", line 170, in _exec_queue\n",
      "    getattr(self, attr_name)(*args)\n",
      "  File \"C:\\Users\\gabri\\Documents\\OrangeQs\\EPIC13\\quantify\\quantify\\visualization\\pyqt_plotmon_remote.py\", line 584, in update\n",
      "    raise TypeError(f\"datadir must be of type str but is {type(datadir)}\")\n",
      "TypeError: datadir must be of type str but is <class 'pathlib.WindowsPath'>\n"
     ]
    },
    {
     "data": {
      "application/vnd.jupyter.widget-view+json": {
       "model_id": "ae72c939c070496096cb0da40d380cda",
       "version_major": 2,
       "version_minor": 0
      },
      "text/plain": [
       "Completed:   0%|           [ elapsed time: 00:00 | time left: ? ] it"
      ]
     },
     "metadata": {},
     "output_type": "display_data"
    },
    {
     "name": "stdout",
     "output_type": "stream",
     "text": [
      "\n",
      "Interrupt signaled, exiting gracefully...\n"
     ]
    }
   ],
   "source": [
    "class SlowGettable:\n",
    "    \"\"\"A mock slow gettables.\"\"\"\n",
    "\n",
    "    def __init__(self) -> None:  # noqa: D107\n",
    "        self.name = \"slow\"\n",
    "        self.label = \"Amplitude\"\n",
    "        self.unit = \"V\"\n",
    "\n",
    "    def get(self):  # noqa: ANN201\n",
    "        \"\"\"Get method.\"\"\"\n",
    "        time.sleep(1.0)\n",
    "        if time_par() == 4:\n",
    "            # This same exception rises when pressing `ctrl` + `c`\n",
    "            # or the \"Stop kernel\" button is pressed in a Jupyter(Lab) notebook\n",
    "            if sys.platform == \"win32\":\n",
    "                # Emulating the kernel interrupt on windows might have side effects\n",
    "                raise KeyboardInterrupt\n",
    "            os.kill(os.getpid(), signal.SIGINT)\n",
    "        return time_par()\n",
    "\n",
    "\n",
    "time_par.batched = False\n",
    "meas_ctrl.settables(time_par)\n",
    "meas_ctrl.setpoints(np.arange(10))\n",
    "meas_ctrl.gettables(SlowGettable())\n",
    "# Try interrupting me!\n",
    "dset = meas_ctrl.run(\"slow\")"
   ]
  },
  {
   "cell_type": "code",
   "execution_count": 17,
   "id": "a33155c4",
   "metadata": {},
   "outputs": [
    {
     "data": {
      "image/png": "[encoded data removed]",
      "text/plain": [
       "<quantify.visualization.pyqt_plotmon.QtPlotObjForJupyter at 0x1f07d7614f0>"
      ]
     },
     "execution_count": 17,
     "metadata": {},
     "output_type": "execute_result"
    }
   ],
   "source": [
    "plotmon.main_QtPlot"
   ]
  }
 ],
 "metadata": {
  "file_format": "mystnb",
  "kernelspec": {
   "display_name": "quantify_250313",
   "language": "python",
   "name": "python3"
  },
  "language_info": {
   "codemirror_mode": {
    "name": "ipython",
    "version": 3
   },
   "file_extension": ".py",
   "mimetype": "text/x-python",
   "name": "python",
   "nbconvert_exporter": "python",
   "pygments_lexer": "ipython3",
   "version": "3.12.9"
  }
 },
 "nbformat": 4,
 "nbformat_minor": 5
}
