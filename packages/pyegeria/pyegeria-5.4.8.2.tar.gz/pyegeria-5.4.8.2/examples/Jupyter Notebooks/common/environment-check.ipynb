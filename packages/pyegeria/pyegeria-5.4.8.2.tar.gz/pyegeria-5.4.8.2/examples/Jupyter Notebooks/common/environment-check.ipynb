{
 "cells": [
  {
   "cell_type": "code",
   "execution_count": null,
   "metadata": {
    "tags": []
   },
   "outputs": [],
   "source": [
    "\n",
    "#\n",
    "# Perform basic checks to ensure the calling notebook has a good environment to work against.\n",
    "# These are the only calls to run functions defined above.\n",
    "#\n",
    "from pyegeria import Platform, CoreServerConfig, utils\n",
    "print(\"\\nChecking OMAG Server Platform availability...\")\n",
    "\n",
    "activatePlatform(corePlatformName, corePlatformURL, [cocoMDS2Name, cocoMDS3Name, cocoMDS5Name, cocoMDS6Name])\n",
    "activatePlatform(dataLakePlatformName, dataLakePlatformURL, [cocoMDS1Name, cocoMDS4Name, cocoView1Name, cocoOLS1Name])\n",
    "activatePlatform(devPlatformName, devPlatformURL, [cocoMDSxName])\n",
    "\n",
    "print (\"Done.\")\n",
    "print (\" \")\n",
    "\n",
    "\n",
    "def checkServerConfigured(server_name:str, server_platform_name:str, server_platform_url: str) -> bool\n",
    "    "
   ]
  }
 ],
 "metadata": {
  "kernelspec": {
   "display_name": "Python 3",
   "language": "python",
   "name": "python3"
  },
  "language_info": {
   "codemirror_mode": {
    "name": "ipython",
    "version": 3
   },
   "file_extension": ".py",
   "mimetype": "text/x-python",
   "name": "python",
   "nbconvert_exporter": "python",
   "pygments_lexer": "ipython3",
   "version": "3.7.3"
  }
 },
 "nbformat": 4,
 "nbformat_minor": 4
}
