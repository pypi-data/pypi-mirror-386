{
 "cells": [
  {
   "cell_type": "code",
   "execution_count": null,
   "metadata": {
    "collapsed": false
   },
   "source": [
    "\n",
    "#\n",
    "# Perform basic checks to ensure the calling notebook has a good environment to work against.\n",
    "# These are the only calls to run functions defined above.\n",
    "#\n",
    "!pip install -q pyegeria\n",
    "!pip install nest_asyncio\n",
    "\n",
    "from pyegeria import Platform, RegisteredInfo, CoreServerConfig, utils, print_exception_response\n",
    "\n",
    "from globals import (adminUserId, cocoMDS1Name, cocoMDS2Name, cocoMDS3Name, cocoMDS4Name, cocoMDS5Name, cocoMDS6Name, cocoView1Name, cocoOLS1Name, cocoMDSxName, devPlatformName, dataLakePlatformName, corePlatformName, corePlatformURL, dataLakePlatformURL, devPlatformURL)\n",
    "import nest_asyncio \n",
    "nest_asyncio.apply()"
   ],
   "outputs": []
  },
  {
   "cell_type": "code",
   "source": [
    "\n",
    "print(\"\\nChecking OMAG Server Platform availability...\")\n",
    "\n",
    "def activatePlatform(platform_name:str, platform_url, server_list: [str], admin_user_id:str):\n",
    "    platform = Platform(server_list[0], platform_url, admin_user_id)\n",
    "    platform.activate_platform(platform_name, server_list)\n",
    "    \n",
    " "
   ],
   "metadata": {
    "collapsed": false
   },
   "execution_count": null,
   "outputs": []
  },
  {
   "cell_type": "code",
   "source": [
    "# Try to activate each of the platforms\n",
    "# nest_asyncio.apply()\n",
    "activatePlatform(corePlatformName, corePlatformURL, [cocoMDS2Name, cocoMDS3Name, cocoMDS5Name, cocoMDS6Name], adminUserId)"
   ],
   "metadata": {
    "collapsed": false
   },
   "execution_count": null,
   "outputs": []
  },
  {
   "cell_type": "code",
   "source": [
    "# nest_asyncio.apply()\n",
    "activatePlatform(dataLakePlatformName, dataLakePlatformURL, [cocoMDS1Name, cocoMDS4Name, cocoView1Name, cocoOLS1Name], adminUserId)"
   ],
   "metadata": {
    "collapsed": false
   },
   "execution_count": null,
   "outputs": []
  },
  {
   "cell_type": "code",
   "source": [
    "# nest_asyncio.apply()\n",
    "activatePlatform(devPlatformName, devPlatformURL, [cocoMDSxName], adminUserId)\n",
    "\n",
    "print (\"Done.\")\n",
    "   "
   ],
   "metadata": {
    "tags": []
   },
   "execution_count": null,
   "outputs": []
  },
  {
   "cell_type": "code",
   "source": [],
   "metadata": {
    "collapsed": false
   },
   "execution_count": null,
   "outputs": []
  }
 ],
 "metadata": {
  "kernelspec": {
   "display_name": "Python 3",
   "language": "python",
   "name": "python3"
  },
  "language_info": {
   "codemirror_mode": {
    "name": "ipython",
    "version": 3
   },
   "file_extension": ".py",
   "mimetype": "text/x-python",
   "name": "python",
   "nbconvert_exporter": "python",
   "pygments_lexer": "ipython3",
   "version": "3.7.3"
  }
 },
 "nbformat": 4,
 "nbformat_minor": 4
}
