{
 "cells": [
  {
   "cell_type": "markdown",
   "id": "12dfbfb2",
   "metadata": {},
   "source": [
    "# Custom names for links, nodes, subareas\n",
    "\n",
    "This is a sample notebook demonstrating how to use the `ShapefileToSwiftConverter` class from the `geosdhydro` package to convert a shapefile with custom names for links, nodes, and subareas into a JSON format compatible with the `swift2` hydrological modeling framework."
   ]
  },
  {
   "cell_type": "code",
   "execution_count": 1,
   "id": "81415574",
   "metadata": {},
   "outputs": [],
   "source": [
    "from pathlib import Path\n",
    "\n",
    "import geopandas as gpd\n",
    "from shapely.geometry import LineString\n",
    "\n",
    "from geosdhydro import ShapefileToSwiftConverter"
   ]
  },
  {
   "cell_type": "markdown",
   "id": "71e4d272",
   "metadata": {},
   "source": [
    "\n",
    "## Create synthetic test data\n",
    "\n",
    "Side note that even if string columns for IDS are preferable, the converter will convert them to string if they are not, as will be the case for ToNodeID below.\n",
    "\n",
    "We use the default column names for the required fields:"
   ]
  },
  {
   "cell_type": "code",
   "execution_count": 2,
   "id": "3dc8d812",
   "metadata": {},
   "outputs": [],
   "source": [
    "data = {\n",
    "    \"LinkID\": [\"1\", \"2\", \"3\", \"4\", \"5\"],  # As strings\n",
    "    \"FromNodeID\": [\"2\", \"3\", \"4\", \"5\", \"6\"],  # As strings\n",
    "    \"ToNodeID\": [1, 2, 2, 2, 5],\n",
    "    \"SPathLen\": [1000.0, 1500.0, 2000.0, 800.0, 1200.0],\n",
    "    \"DArea2\": [3000000.0, 4000000.0, 2500000.0, -1.0, 3500000.0],  # Link 4 has negative area\n",
    "    \"geometry\": [\n",
    "        LineString([(2.1, 2.2), (1.1, 1.2)]),  # Link 1: node 2 -> node 1\n",
    "        LineString([(3.1, 3.2), (2.1, 2.2)]),  # Link 2: node 3 -> node 2\n",
    "        LineString([(4.1, 4.2), (2.1, 2.2)]),  # Link 3: node 4 -> node 2\n",
    "        LineString([(5.1, 5.2), (2.1, 2.2)]),  # Link 4: node 5 -> node 2\n",
    "        LineString([(6.1, 6.2), (5.1, 5.2)]),  # Link 5: node 6 -> node 5\n",
    "    ],\n",
    "}"
   ]
  },
  {
   "cell_type": "markdown",
   "id": "da4d4001",
   "metadata": {},
   "source": [
    "\n",
    "That was the minimally required columns. We can add a few more to illustrate custom names:"
   ]
  },
  {
   "cell_type": "code",
   "execution_count": 3,
   "id": "60939946",
   "metadata": {},
   "outputs": [
    {
     "data": {
      "text/html": [
       "<div>\n",
       "<style scoped>\n",
       "    .dataframe tbody tr th:only-of-type {\n",
       "        vertical-align: middle;\n",
       "    }\n",
       "\n",
       "    .dataframe tbody tr th {\n",
       "        vertical-align: top;\n",
       "    }\n",
       "\n",
       "    .dataframe thead th {\n",
       "        text-align: right;\n",
       "    }\n",
       "</style>\n",
       "<table border=\"1\" class=\"dataframe\">\n",
       "  <thead>\n",
       "    <tr style=\"text-align: right;\">\n",
       "      <th></th>\n",
       "      <th>LinkID</th>\n",
       "      <th>FromNodeID</th>\n",
       "      <th>ToNodeID</th>\n",
       "      <th>SPathLen</th>\n",
       "      <th>DArea2</th>\n",
       "      <th>geometry</th>\n",
       "      <th>LinkName</th>\n",
       "      <th>SubAreaName</th>\n",
       "    </tr>\n",
       "  </thead>\n",
       "  <tbody>\n",
       "    <tr>\n",
       "      <th>0</th>\n",
       "      <td>1</td>\n",
       "      <td>2</td>\n",
       "      <td>1</td>\n",
       "      <td>1000.0</td>\n",
       "      <td>3000000.0</td>\n",
       "      <td>LINESTRING (2.1 2.2, 1.1 1.2)</td>\n",
       "      <td>CustomLinkName_0</td>\n",
       "      <td>CustomSubAreaName_0</td>\n",
       "    </tr>\n",
       "    <tr>\n",
       "      <th>1</th>\n",
       "      <td>2</td>\n",
       "      <td>3</td>\n",
       "      <td>2</td>\n",
       "      <td>1500.0</td>\n",
       "      <td>4000000.0</td>\n",
       "      <td>LINESTRING (3.1 3.2, 2.1 2.2)</td>\n",
       "      <td>CustomLinkName_1</td>\n",
       "      <td>CustomSubAreaName_1</td>\n",
       "    </tr>\n",
       "    <tr>\n",
       "      <th>2</th>\n",
       "      <td>3</td>\n",
       "      <td>4</td>\n",
       "      <td>2</td>\n",
       "      <td>2000.0</td>\n",
       "      <td>2500000.0</td>\n",
       "      <td>LINESTRING (4.1 4.2, 2.1 2.2)</td>\n",
       "      <td>CustomLinkName_2</td>\n",
       "      <td>CustomSubAreaName_2</td>\n",
       "    </tr>\n",
       "    <tr>\n",
       "      <th>3</th>\n",
       "      <td>4</td>\n",
       "      <td>5</td>\n",
       "      <td>2</td>\n",
       "      <td>800.0</td>\n",
       "      <td>-1.0</td>\n",
       "      <td>LINESTRING (5.1 5.2, 2.1 2.2)</td>\n",
       "      <td>CustomLinkName_3</td>\n",
       "      <td>CustomSubAreaName_3</td>\n",
       "    </tr>\n",
       "    <tr>\n",
       "      <th>4</th>\n",
       "      <td>5</td>\n",
       "      <td>6</td>\n",
       "      <td>5</td>\n",
       "      <td>1200.0</td>\n",
       "      <td>3500000.0</td>\n",
       "      <td>LINESTRING (6.1 6.2, 5.1 5.2)</td>\n",
       "      <td>CustomLinkName_4</td>\n",
       "      <td>CustomSubAreaName_4</td>\n",
       "    </tr>\n",
       "  </tbody>\n",
       "</table>\n",
       "</div>"
      ],
      "text/plain": [
       "  LinkID FromNodeID  ToNodeID  SPathLen     DArea2  \\\n",
       "0      1          2         1    1000.0  3000000.0   \n",
       "1      2          3         2    1500.0  4000000.0   \n",
       "2      3          4         2    2000.0  2500000.0   \n",
       "3      4          5         2     800.0       -1.0   \n",
       "4      5          6         5    1200.0  3500000.0   \n",
       "\n",
       "                        geometry          LinkName          SubAreaName  \n",
       "0  LINESTRING (2.1 2.2, 1.1 1.2)  CustomLinkName_0  CustomSubAreaName_0  \n",
       "1  LINESTRING (3.1 3.2, 2.1 2.2)  CustomLinkName_1  CustomSubAreaName_1  \n",
       "2  LINESTRING (4.1 4.2, 2.1 2.2)  CustomLinkName_2  CustomSubAreaName_2  \n",
       "3  LINESTRING (5.1 5.2, 2.1 2.2)  CustomLinkName_3  CustomSubAreaName_3  \n",
       "4  LINESTRING (6.1 6.2, 5.1 5.2)  CustomLinkName_4  CustomSubAreaName_4  "
      ]
     },
     "execution_count": 3,
     "metadata": {},
     "output_type": "execute_result"
    }
   ],
   "source": [
    "custom_linkname_fieldname = \"LinkName\"\n",
    "data[custom_linkname_fieldname] = [f\"CustomLinkName_{i}\" for i in range(5)]\n",
    "\n",
    "# Custom names for subareas\n",
    "custom_subarea_name_fieldname = \"SubAreaName\"\n",
    "data[custom_subarea_name_fieldname] = [f\"CustomSubAreaName_{i}\" for i in range(5)]\n",
    "gdf = gpd.GeoDataFrame(data)\n",
    "\n",
    "gdf"
   ]
  },
  {
   "cell_type": "code",
   "execution_count": 4,
   "id": "eaa88ddc",
   "metadata": {},
   "outputs": [],
   "source": [
    "# Custom node names\n",
    "custom_nodenames = {str(i): f\"CustomNodeName_{i}\" for i in range(1, 7)}"
   ]
  },
  {
   "cell_type": "code",
   "execution_count": null,
   "id": "bc36d09c",
   "metadata": {
    "lines_to_next_cell": 2
   },
   "outputs": [],
   "source": [
    "converter = ShapefileToSwiftConverter(\n",
    "    gdf,\n",
    "    linkname_field=custom_linkname_fieldname,\n",
    "    subarea_name_field=custom_subarea_name_fieldname,\n",
    "    node_names=custom_nodenames,\n",
    "    darea_field=\"DArea2\",\n",
    ")\n",
    "result = converter.convert()"
   ]
  },
  {
   "cell_type": "code",
   "execution_count": 6,
   "id": "3f8a0dcf",
   "metadata": {},
   "outputs": [
    {
     "data": {
      "text/plain": [
       "dict_keys(['Links', 'Nodes', 'SubAreas'])"
      ]
     },
     "execution_count": 6,
     "metadata": {},
     "output_type": "execute_result"
    }
   ],
   "source": [
    "result.keys()"
   ]
  },
  {
   "cell_type": "code",
   "execution_count": 7,
   "id": "b4dfec70",
   "metadata": {},
   "outputs": [
    {
     "data": {
      "text/plain": [
       "{'ErrorCorrection': {'ErrorCorrectionType': 'NoErrorCorrection'},\n",
       " 'ID': '1',\n",
       " 'Name': 'CustomNodeName_1',\n",
       " 'Reservoir': {'ReservoirType': 'NoReservoir'}}"
      ]
     },
     "execution_count": 7,
     "metadata": {},
     "output_type": "execute_result"
    }
   ],
   "source": [
    "result[\"Nodes\"][0]"
   ]
  },
  {
   "cell_type": "code",
   "execution_count": 8,
   "id": "0f2a8d29",
   "metadata": {},
   "outputs": [
    {
     "data": {
      "text/plain": [
       "{'ChannelRouting': {'ChannelRoutingType': 'NoRouting'},\n",
       " 'DownstreamNodeID': '1',\n",
       " 'ID': '1',\n",
       " 'Length': 1000.0,\n",
       " 'ManningsN': 1.0,\n",
       " 'Name': 'CustomLinkName_0',\n",
       " 'Slope': 1.0,\n",
       " 'UpstreamNodeID': '2',\n",
       " 'f': 1.0}"
      ]
     },
     "execution_count": 8,
     "metadata": {},
     "output_type": "execute_result"
    }
   ],
   "source": [
    "result[\"Links\"][0]"
   ]
  },
  {
   "cell_type": "markdown",
   "id": "e57abf0f",
   "metadata": {},
   "source": [
    "We check that one of the subarea is not present (area negative), even if a mapped name was specified:"
   ]
  },
  {
   "cell_type": "code",
   "execution_count": 9,
   "id": "059dc36e",
   "metadata": {},
   "outputs": [
    {
     "data": {
      "text/plain": [
       "['CustomSubAreaName_0',\n",
       " 'CustomSubAreaName_1',\n",
       " 'CustomSubAreaName_2',\n",
       " 'CustomSubAreaName_4']"
      ]
     },
     "execution_count": 9,
     "metadata": {},
     "output_type": "execute_result"
    }
   ],
   "source": [
    "[s['Name'] for s in  result[\"SubAreas\"]]"
   ]
  },
  {
   "cell_type": "code",
   "execution_count": null,
   "id": "4cd4932e",
   "metadata": {},
   "outputs": [],
   "source": []
  }
 ],
 "metadata": {
  "jupytext": {
   "formats": "ipynb,py:percent"
  },
  "kernelspec": {
   "display_name": "geosdhydro (3.13.0)",
   "language": "python",
   "name": "python3"
  },
  "language_info": {
   "codemirror_mode": {
    "name": "ipython",
    "version": 3
   },
   "file_extension": ".py",
   "mimetype": "text/x-python",
   "name": "python",
   "nbconvert_exporter": "python",
   "pygments_lexer": "ipython3",
   "version": "3.13.0"
  }
 },
 "nbformat": 4,
 "nbformat_minor": 5
}
