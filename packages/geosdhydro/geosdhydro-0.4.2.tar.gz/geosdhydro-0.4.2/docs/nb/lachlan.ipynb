{
 "cells": [
  {
   "cell_type": "markdown",
   "id": "eee95664-88f5-41fc-bc81-f066e5aa7189",
   "metadata": {},
   "source": [
    "# Catchment structure for the Lachlan valley\n",
    "\n",
    "Network definition for a shapefile with information on the Lachlan valley, as of ~8th August 2025. This is use case for customisable column names as well as being more liberal with the types of columns in the `geopandas` data frame resulting from reading the shapefile.\n"
   ]
  },
  {
   "cell_type": "code",
   "execution_count": 1,
   "id": "10",
   "metadata": {},
   "outputs": [],
   "source": [
    "from pathlib import Path\n",
    "\n",
    "import geopandas as gpd\n",
    "\n",
    "from geosdhydro import ShapefileToSwiftConverter"
   ]
  },
  {
   "cell_type": "code",
   "execution_count": 2,
   "id": "2bf29872-22b4-421e-abd0-72d9060546b1",
   "metadata": {},
   "outputs": [],
   "source": [
    "fpath = Path.home() / \"data\"/\"wnsw\"/\"Lachlan\"/\"Lachlan_links4swift.shp\""
   ]
  },
  {
   "cell_type": "code",
   "execution_count": 3,
   "id": "bd381577-573c-4678-9c18-9070e7663198",
   "metadata": {},
   "outputs": [
    {
     "data": {
      "text/plain": [
       "True"
      ]
     },
     "execution_count": 3,
     "metadata": {},
     "output_type": "execute_result"
    }
   ],
   "source": [
    "fpath.exists()"
   ]
  },
  {
   "cell_type": "code",
   "execution_count": 4,
   "id": "0b4568c2-6417-4cc2-a902-a9448af50a9f",
   "metadata": {},
   "outputs": [
    {
     "data": {
      "text/html": [
       "<div>\n",
       "<style scoped>\n",
       "    .dataframe tbody tr th:only-of-type {\n",
       "        vertical-align: middle;\n",
       "    }\n",
       "\n",
       "    .dataframe tbody tr th {\n",
       "        vertical-align: top;\n",
       "    }\n",
       "\n",
       "    .dataframe thead th {\n",
       "        text-align: right;\n",
       "    }\n",
       "</style>\n",
       "<table border=\"1\" class=\"dataframe\">\n",
       "  <thead>\n",
       "    <tr style=\"text-align: right;\">\n",
       "      <th></th>\n",
       "      <th>OBJECTID</th>\n",
       "      <th>Shape_Leng</th>\n",
       "      <th>LinkID</th>\n",
       "      <th>FromNodeID</th>\n",
       "      <th>ToNodeID</th>\n",
       "      <th>HeadLink</th>\n",
       "      <th>SPathCnt</th>\n",
       "      <th>LPathCnt</th>\n",
       "      <th>SPathLen</th>\n",
       "      <th>LPathLen</th>\n",
       "      <th>...</th>\n",
       "      <th>Area_sqkm</th>\n",
       "      <th>SHORTNAME</th>\n",
       "      <th>Elevation</th>\n",
       "      <th>Shape_Le_1</th>\n",
       "      <th>Shape_Le_2</th>\n",
       "      <th>Shape_Area</th>\n",
       "      <th>DArea</th>\n",
       "      <th>NodeID</th>\n",
       "      <th>SubCatID</th>\n",
       "      <th>geometry</th>\n",
       "    </tr>\n",
       "  </thead>\n",
       "  <tbody>\n",
       "    <tr>\n",
       "      <th>0</th>\n",
       "      <td>1</td>\n",
       "      <td>0.146763</td>\n",
       "      <td>1</td>\n",
       "      <td>43408002</td>\n",
       "      <td>43407878</td>\n",
       "      <td>0</td>\n",
       "      <td>23</td>\n",
       "      <td>23</td>\n",
       "      <td>36156.428635</td>\n",
       "      <td>36156.428635</td>\n",
       "      <td>...</td>\n",
       "      <td>76.225305</td>\n",
       "      <td>CADIANGULLONG @ PAN.</td>\n",
       "      <td>6.381</td>\n",
       "      <td>62604.167491</td>\n",
       "      <td>62604.167491</td>\n",
       "      <td>7.622530e+07</td>\n",
       "      <td>7.622146e+07</td>\n",
       "      <td>43408002.0</td>\n",
       "      <td>2.0</td>\n",
       "      <td>LINESTRING (148.97972 -33.5148, 148.8481 -33.5...</td>\n",
       "    </tr>\n",
       "    <tr>\n",
       "      <th>1</th>\n",
       "      <td>2</td>\n",
       "      <td>0.125647</td>\n",
       "      <td>2</td>\n",
       "      <td>43332557</td>\n",
       "      <td>43407878</td>\n",
       "      <td>0</td>\n",
       "      <td>22</td>\n",
       "      <td>22</td>\n",
       "      <td>26988.248489</td>\n",
       "      <td>26988.248489</td>\n",
       "      <td>...</td>\n",
       "      <td>190.273377</td>\n",
       "      <td>BELUBULA THE NEEDLES</td>\n",
       "      <td>366.293</td>\n",
       "      <td>303059.700345</td>\n",
       "      <td>303059.700345</td>\n",
       "      <td>1.011929e+09</td>\n",
       "      <td>1.902571e+08</td>\n",
       "      <td>43332557.0</td>\n",
       "      <td>7.0</td>\n",
       "      <td>LINESTRING (148.97361 -33.57389, 148.8481 -33....</td>\n",
       "    </tr>\n",
       "    <tr>\n",
       "      <th>2</th>\n",
       "      <td>5</td>\n",
       "      <td>0.038594</td>\n",
       "      <td>5</td>\n",
       "      <td>43323436</td>\n",
       "      <td>43407903</td>\n",
       "      <td>0</td>\n",
       "      <td>3</td>\n",
       "      <td>3</td>\n",
       "      <td>18098.684816</td>\n",
       "      <td>18098.684816</td>\n",
       "      <td>...</td>\n",
       "      <td>360.595819</td>\n",
       "      <td>LACHLAN R @ COWRA</td>\n",
       "      <td>274.300</td>\n",
       "      <td>299445.505950</td>\n",
       "      <td>299445.505950</td>\n",
       "      <td>1.294608e+09</td>\n",
       "      <td>3.606294e+08</td>\n",
       "      <td>43323436.0</td>\n",
       "      <td>70.0</td>\n",
       "      <td>LINESTRING (148.72056 -33.82222, 148.68359 -33...</td>\n",
       "    </tr>\n",
       "    <tr>\n",
       "      <th>3</th>\n",
       "      <td>6</td>\n",
       "      <td>0.220645</td>\n",
       "      <td>6</td>\n",
       "      <td>43328702</td>\n",
       "      <td>43407903</td>\n",
       "      <td>0</td>\n",
       "      <td>25</td>\n",
       "      <td>25</td>\n",
       "      <td>40402.031075</td>\n",
       "      <td>40402.031075</td>\n",
       "      <td>...</td>\n",
       "      <td>234.353118</td>\n",
       "      <td>LACHLAN R @ COWRA</td>\n",
       "      <td>274.300</td>\n",
       "      <td>299445.505950</td>\n",
       "      <td>299445.505950</td>\n",
       "      <td>1.294608e+09</td>\n",
       "      <td>2.343552e+08</td>\n",
       "      <td>43328702.0</td>\n",
       "      <td>76.0</td>\n",
       "      <td>LINESTRING (148.87306 -33.94639, 148.68359 -33...</td>\n",
       "    </tr>\n",
       "    <tr>\n",
       "      <th>4</th>\n",
       "      <td>7</td>\n",
       "      <td>0.254465</td>\n",
       "      <td>7</td>\n",
       "      <td>43636627</td>\n",
       "      <td>43407903</td>\n",
       "      <td>0</td>\n",
       "      <td>32</td>\n",
       "      <td>32</td>\n",
       "      <td>49606.117846</td>\n",
       "      <td>49606.117846</td>\n",
       "      <td>...</td>\n",
       "      <td>340.169996</td>\n",
       "      <td>HOVELLS CK @ NO.2</td>\n",
       "      <td>323.000</td>\n",
       "      <td>174352.740146</td>\n",
       "      <td>174352.740146</td>\n",
       "      <td>3.401700e+08</td>\n",
       "      <td>3.401840e+08</td>\n",
       "      <td>43636627.0</td>\n",
       "      <td>20.0</td>\n",
       "      <td>LINESTRING (148.87246 -34.00384, 148.68359 -33...</td>\n",
       "    </tr>\n",
       "  </tbody>\n",
       "</table>\n",
       "<p>5 rows × 29 columns</p>\n",
       "</div>"
      ],
      "text/plain": [
       "   OBJECTID  Shape_Leng  LinkID  FromNodeID  ToNodeID  HeadLink  SPathCnt  \\\n",
       "0         1    0.146763       1    43408002  43407878         0        23   \n",
       "1         2    0.125647       2    43332557  43407878         0        22   \n",
       "2         5    0.038594       5    43323436  43407903         0         3   \n",
       "3         6    0.220645       6    43328702  43407903         0        25   \n",
       "4         7    0.254465       7    43636627  43407903         0        32   \n",
       "\n",
       "   LPathCnt      SPathLen      LPathLen  ...   Area_sqkm  \\\n",
       "0        23  36156.428635  36156.428635  ...   76.225305   \n",
       "1        22  26988.248489  26988.248489  ...  190.273377   \n",
       "2         3  18098.684816  18098.684816  ...  360.595819   \n",
       "3        25  40402.031075  40402.031075  ...  234.353118   \n",
       "4        32  49606.117846  49606.117846  ...  340.169996   \n",
       "\n",
       "              SHORTNAME  Elevation     Shape_Le_1     Shape_Le_2  \\\n",
       "0  CADIANGULLONG @ PAN.      6.381   62604.167491   62604.167491   \n",
       "1  BELUBULA THE NEEDLES    366.293  303059.700345  303059.700345   \n",
       "2     LACHLAN R @ COWRA    274.300  299445.505950  299445.505950   \n",
       "3     LACHLAN R @ COWRA    274.300  299445.505950  299445.505950   \n",
       "4     HOVELLS CK @ NO.2    323.000  174352.740146  174352.740146   \n",
       "\n",
       "     Shape_Area         DArea      NodeID  SubCatID  \\\n",
       "0  7.622530e+07  7.622146e+07  43408002.0       2.0   \n",
       "1  1.011929e+09  1.902571e+08  43332557.0       7.0   \n",
       "2  1.294608e+09  3.606294e+08  43323436.0      70.0   \n",
       "3  1.294608e+09  2.343552e+08  43328702.0      76.0   \n",
       "4  3.401700e+08  3.401840e+08  43636627.0      20.0   \n",
       "\n",
       "                                            geometry  \n",
       "0  LINESTRING (148.97972 -33.5148, 148.8481 -33.5...  \n",
       "1  LINESTRING (148.97361 -33.57389, 148.8481 -33....  \n",
       "2  LINESTRING (148.72056 -33.82222, 148.68359 -33...  \n",
       "3  LINESTRING (148.87306 -33.94639, 148.68359 -33...  \n",
       "4  LINESTRING (148.87246 -34.00384, 148.68359 -33...  \n",
       "\n",
       "[5 rows x 29 columns]"
      ]
     },
     "execution_count": 4,
     "metadata": {},
     "output_type": "execute_result"
    }
   ],
   "source": [
    "link_specs = gpd.read_file(fpath)\n",
    "\n",
    "link_specs.head()"
   ]
  },
  {
   "cell_type": "code",
   "execution_count": 5,
   "id": "559812ca-64ea-4cfb-ab75-73229db74bf6",
   "metadata": {},
   "outputs": [
    {
     "data": {
      "text/plain": [
       "{'OBJECTID': dtype('int64'),\n",
       " 'Shape_Leng': dtype('float64'),\n",
       " 'LinkID': dtype('int64'),\n",
       " 'FromNodeID': dtype('int64'),\n",
       " 'ToNodeID': dtype('int64'),\n",
       " 'HeadLink': dtype('int32'),\n",
       " 'SPathCnt': dtype('int64'),\n",
       " 'LPathCnt': dtype('int64'),\n",
       " 'SPathLen': dtype('float64'),\n",
       " 'LPathLen': dtype('float64'),\n",
       " 'FID_': dtype('int32'),\n",
       " 'OBJECTID_1': dtype('int64'),\n",
       " 'OBJECTID_2': dtype('int64'),\n",
       " 'TAG': dtype('O'),\n",
       " 'Station': dtype('float64'),\n",
       " 'HydroID': dtype('int64'),\n",
       " 'STNAME': dtype('O'),\n",
       " 'Longitude': dtype('float64'),\n",
       " 'Latitude': dtype('float64'),\n",
       " 'Area_sqkm': dtype('float64'),\n",
       " 'SHORTNAME': dtype('O'),\n",
       " 'Elevation': dtype('float64'),\n",
       " 'Shape_Le_1': dtype('float64'),\n",
       " 'Shape_Le_2': dtype('float64'),\n",
       " 'Shape_Area': dtype('float64'),\n",
       " 'DArea': dtype('float64'),\n",
       " 'NodeID': dtype('float64'),\n",
       " 'SubCatID': dtype('float64'),\n",
       " 'geometry': <geopandas.array.GeometryDtype at 0x7f1472d25e80>}"
      ]
     },
     "execution_count": 5,
     "metadata": {},
     "output_type": "execute_result"
    }
   ],
   "source": [
    "{x: link_specs[x].dtype for x in link_specs.columns}"
   ]
  },
  {
   "cell_type": "markdown",
   "id": "2a494ff3-1e61-4d8c-a5c1-2633e041c58a",
   "metadata": {},
   "source": [
    "Note that some of the input columns, LinkID, ToNodeID, FromNodeID, are integers, because of habits. It is preferable to have them as strings, but the converter will transparently convert them to string. Another thing is that there is a duplicated ID in the links:"
   ]
  },
  {
   "cell_type": "code",
   "execution_count": 6,
   "id": "5b4cd253-06e9-410b-bc1a-931c6dc32f8b",
   "metadata": {},
   "outputs": [
    {
     "name": "stdout",
     "output_type": "stream",
     "text": [
      "Series([], Name: LinkID, dtype: int64)\n"
     ]
    }
   ],
   "source": [
    "gdf = link_specs\n",
    "# Check for duplicates in the 'LinkID' column\n",
    "duplicates = gdf[\"LinkID\"][gdf[\"LinkID\"].duplicated(keep=False)]\n",
    "\n",
    "# Display the duplicated IDs\n",
    "print(duplicates)"
   ]
  },
  {
   "cell_type": "markdown",
   "id": "da905c86-612b-495e-8b82-4c9ddd04388c",
   "metadata": {},
   "source": [
    "Let's see what happens:"
   ]
  },
  {
   "cell_type": "code",
   "execution_count": 7,
   "id": "8ac0218f-ee54-458b-a1fc-c3c7b062ba59",
   "metadata": {},
   "outputs": [],
   "source": [
    "link_specs = link_specs.drop(index=[3,17])"
   ]
  },
  {
   "cell_type": "markdown",
   "id": "7112df7c-e374-4b92-bfdb-b92f5baed979",
   "metadata": {},
   "source": [
    "and now we expect the converter to do the job:"
   ]
  },
  {
   "cell_type": "code",
   "execution_count": 8,
   "id": "458a8993-7588-41ba-9b11-527d4190a008",
   "metadata": {},
   "outputs": [],
   "source": [
    "\n",
    "converter = ShapefileToSwiftConverter(\n",
    "    gdf = link_specs,\n",
    "    include_coordinates = True,\n",
    "    linkid_field = \"LinkID\",\n",
    "    fromnodeid_field = \"FromNodeID\",\n",
    "    tonodeid_field = \"ToNodeID\",\n",
    "    spathlen_field = \"SPathLen\",\n",
    "    darea_field = \"DArea\",\n",
    "    geometry_field = \"geometry\",\n",
    ")"
   ]
  },
  {
   "cell_type": "code",
   "execution_count": 9,
   "id": "5600ba1b-2b65-4703-9ed4-f3f9907f7127",
   "metadata": {},
   "outputs": [],
   "source": [
    "result = converter.convert()"
   ]
  },
  {
   "cell_type": "markdown",
   "id": "be75d527-eebf-453d-a0e3-96c873f3d623",
   "metadata": {},
   "source": [
    "`result` is a python dictionary"
   ]
  },
  {
   "cell_type": "markdown",
   "id": "3c258bbb-5948-4cf4-bcbf-a921a37b9d57",
   "metadata": {},
   "source": [
    "As expected given that some areas were negative in the input file (i.e. links without a contributing subarea), we have less subareas than links"
   ]
  },
  {
   "cell_type": "code",
   "execution_count": 10,
   "id": "c2126950-6096-492b-9b39-4cedd5b79abd",
   "metadata": {},
   "outputs": [
    {
     "data": {
      "text/plain": [
       "'there are 119 links, 122 nodes, 76 subareas'"
      ]
     },
     "execution_count": 10,
     "metadata": {},
     "output_type": "execute_result"
    }
   ],
   "source": [
    "f\"there are {len(result['Links'])} links, {len(result['Nodes'])} nodes, {len(result['SubAreas'])} subareas\""
   ]
  },
  {
   "cell_type": "markdown",
   "id": "7a6a150b-a6ab-4684-9557-aaab9479e550",
   "metadata": {},
   "source": [
    "The object `converter` has a `save_to_file` method, or you can use the `json` module to save the above `result`:"
   ]
  },
  {
   "cell_type": "code",
   "execution_count": 11,
   "id": "d1dc5a31-c23b-4cdb-a02b-9f86414aa612",
   "metadata": {},
   "outputs": [],
   "source": [
    "import json"
   ]
  },
  {
   "cell_type": "code",
   "execution_count": 12,
   "id": "9be127bf-5a7a-443f-9479-cf031ece7b2a",
   "metadata": {},
   "outputs": [],
   "source": [
    "fp = Path.home() / \"tmp\" / \"lachlan_swift.json\"\n",
    "with open(fp, \"w\") as f:\n",
    "    json.dump(result, f, indent=2)\n"
   ]
  },
  {
   "cell_type": "markdown",
   "id": "0520feea-d1dd-486a-b45b-0721943dd5ad",
   "metadata": {},
   "source": [
    "## Checking the json output loads as a catchment structure"
   ]
  },
  {
   "cell_type": "markdown",
   "id": "43c48606-20a5-4fa2-8392-a485b42eff33",
   "metadata": {},
   "source": [
    "This can be done if you have `swift2` in your python env using the following.\n",
    "\n",
    "See [load_lachlan.ipynb](./load_lachlan.ipynb).\n"
   ]
  },
  {
   "cell_type": "code",
   "execution_count": 13,
   "id": "c31718c4",
   "metadata": {},
   "outputs": [],
   "source": [
    "\n",
    "# from swift2.model_definitions import model_from_json_file\n",
    "# sim = model_from_json_file(fp)"
   ]
  }
 ],
 "metadata": {
  "jupytext": {
   "formats": "ipynb,py:percent"
  },
  "kernelspec": {
   "display_name": "geosdhydro (3.13.0)",
   "language": "python",
   "name": "python3"
  },
  "language_info": {
   "codemirror_mode": {
    "name": "ipython",
    "version": 3
   },
   "file_extension": ".py",
   "mimetype": "text/x-python",
   "name": "python",
   "nbconvert_exporter": "python",
   "pygments_lexer": "ipython3",
   "version": "3.13.0"
  }
 },
 "nbformat": 4,
 "nbformat_minor": 5
}
