{
 "cells": [
  {
   "cell_type": "markdown",
   "id": "eee95664-88f5-41fc-bc81-f066e5aa7189",
   "metadata": {},
   "source": [
    "# Generating swift catchment structure\n",
    "\n",
    "This is a sample notebook demonstrating how to use the `geosdhydro` package to convert a geopandas dataframe to a swift json file. A browsable form of this notebook should be at the [package documentation](https://csiro-hydroinformatics.github.io/geosdhydro/)."
   ]
  },
  {
   "cell_type": "code",
   "execution_count": 1,
   "id": "10",
   "metadata": {},
   "outputs": [],
   "source": [
    "import geopandas as gpd"
   ]
  },
  {
   "cell_type": "code",
   "execution_count": 2,
   "id": "11",
   "metadata": {},
   "outputs": [],
   "source": [
    "from pathlib import Path"
   ]
  },
  {
   "cell_type": "code",
   "execution_count": 3,
   "id": "06b9af41-89ec-4d10-8658-e33d369c43fd",
   "metadata": {},
   "outputs": [],
   "source": [
    "from geosdhydro import ShapefileToSwiftConverter"
   ]
  },
  {
   "cell_type": "code",
   "execution_count": 4,
   "id": "2bf29872-22b4-421e-abd0-72d9060546b1",
   "metadata": {},
   "outputs": [],
   "source": [
    "fpath = Path.home() / \"data/wnsw/Abercrombie/Abercrombie_links4swift.shp\""
   ]
  },
  {
   "cell_type": "code",
   "execution_count": 5,
   "id": "bd381577-573c-4678-9c18-9070e7663198",
   "metadata": {},
   "outputs": [
    {
     "data": {
      "text/plain": [
       "True"
      ]
     },
     "execution_count": 5,
     "metadata": {},
     "output_type": "execute_result"
    }
   ],
   "source": [
    "fpath.exists()"
   ]
  },
  {
   "cell_type": "code",
   "execution_count": 6,
   "id": "0b4568c2-6417-4cc2-a902-a9448af50a9f",
   "metadata": {},
   "outputs": [
    {
     "name": "stdout",
     "output_type": "stream",
     "text": [
      "   OBJECTID  Shape_Leng  LinkID  FromNodeID  ToNodeID  HeadLink  SPathCnt  \\\n",
      "0        14    0.063634      14    43408481  43346081         0        11   \n",
      "1        15    0.139247      15    43352571  43346081         0        11   \n",
      "2        16    0.133341      16    43349393  43346081         0        18   \n",
      "3        17    0.135098      17    43636314  43346081         0        14   \n",
      "4        18    0.323005      18    43408465  43346081         0        40   \n",
      "\n",
      "   LPathCnt      SPathLen      LPathLen        DArea  Prim_Link  SWIFT_ID  \\\n",
      "0        11  12423.789416  12423.789416          1.0          0      1801   \n",
      "1        11  24712.339973  24712.339973          1.0          0      1804   \n",
      "2        18  26499.836521  26499.836521          1.0          0      1805   \n",
      "3        14  34835.592042  34835.592042          1.0          0      1802   \n",
      "4        40  57889.009690  57889.009690  510940000.0          1        18   \n",
      "\n",
      "   ToNodeID2       DArea2                                           geometry  \n",
      "0          0         -1.0  LINESTRING (149.33174 -34.01786, 149.31528 -33...  \n",
      "1          0         -1.0  LINESTRING (149.45444 -33.95167, 149.31528 -33...  \n",
      "2          0         -1.0  LINESTRING (149.38417 -33.84222, 149.31528 -33...  \n",
      "3          0         -1.0  LINESTRING (149.41821 -34.04389, 149.31528 -33...  \n",
      "4   43346081  510940000.0  LINESTRING (149.59776 -34.11303, 149.31528 -33...  \n"
     ]
    }
   ],
   "source": [
    "link_specs = gpd.read_file(fpath)\n",
    "\n",
    "print(link_specs.head())"
   ]
  },
  {
   "cell_type": "code",
   "execution_count": 7,
   "id": "559812ca-64ea-4cfb-ab75-73229db74bf6",
   "metadata": {},
   "outputs": [
    {
     "data": {
      "text/plain": [
       "{'OBJECTID': dtype('int64'),\n",
       " 'Shape_Leng': dtype('float64'),\n",
       " 'LinkID': dtype('int64'),\n",
       " 'FromNodeID': dtype('int64'),\n",
       " 'ToNodeID': dtype('int64'),\n",
       " 'HeadLink': dtype('int32'),\n",
       " 'SPathCnt': dtype('int64'),\n",
       " 'LPathCnt': dtype('int64'),\n",
       " 'SPathLen': dtype('float64'),\n",
       " 'LPathLen': dtype('float64'),\n",
       " 'DArea': dtype('float64'),\n",
       " 'Prim_Link': dtype('int32'),\n",
       " 'SWIFT_ID': dtype('int32'),\n",
       " 'ToNodeID2': dtype('int64'),\n",
       " 'DArea2': dtype('float64'),\n",
       " 'geometry': <geopandas.array.GeometryDtype at 0x7fd6b6662120>}"
      ]
     },
     "execution_count": 7,
     "metadata": {},
     "output_type": "execute_result"
    }
   ],
   "source": [
    "{x: link_specs[x].dtype for x in link_specs.columns}"
   ]
  },
  {
   "cell_type": "markdown",
   "id": "2a494ff3-1e61-4d8c-a5c1-2633e041c58a",
   "metadata": {},
   "source": [
    "Note that some of the input columns, LinkID, ToNodeID, FromNodeID, are integers, because of habits. It is preferable to have them as strings, but the converter will transparently convert them to string. Another thing is that there is a duplicated ID in the links:"
   ]
  },
  {
   "cell_type": "code",
   "execution_count": 8,
   "id": "5b4cd253-06e9-410b-bc1a-931c6dc32f8b",
   "metadata": {},
   "outputs": [
    {
     "name": "stdout",
     "output_type": "stream",
     "text": [
      "3     17\n",
      "17    17\n",
      "Name: LinkID, dtype: int64\n"
     ]
    }
   ],
   "source": [
    "gdf = link_specs\n",
    "# Check for duplicates in the 'LinkID' column\n",
    "duplicates = gdf['LinkID'][gdf['LinkID'].duplicated(keep=False)]\n",
    "\n",
    "# Display the duplicated IDs\n",
    "print(duplicates)"
   ]
  },
  {
   "cell_type": "markdown",
   "id": "da905c86-612b-495e-8b82-4c9ddd04388c",
   "metadata": {},
   "source": [
    "Let's see what happens:"
   ]
  },
  {
   "cell_type": "code",
   "execution_count": 9,
   "id": "1dd0a1ca-4e82-4aa9-a8b3-eb34bbf56668",
   "metadata": {},
   "outputs": [
    {
     "ename": "ValueError",
     "evalue": "Column 'LinkID' contains duplicate values: ['17'] at indices [3, 17].",
     "output_type": "error",
     "traceback": [
      "\u001b[31m---------------------------------------------------------------------------\u001b[39m",
      "\u001b[31mValueError\u001b[39m                                Traceback (most recent call last)",
      "\u001b[36mCell\u001b[39m\u001b[36m \u001b[39m\u001b[32mIn[9]\u001b[39m\u001b[32m, line 5\u001b[39m\n\u001b[32m      1\u001b[39m \u001b[38;5;66;03m# THere are default values for the expected columns names and whether to retrieve lat/lon coordinates:\u001b[39;00m\n\u001b[32m      2\u001b[39m \u001b[38;5;66;03m# converter = ShapefileToSwiftConverter(link_specs)\u001b[39;00m\n\u001b[32m      3\u001b[39m \n\u001b[32m      4\u001b[39m \u001b[38;5;66;03m# but let us be explicit in this example tutorial\u001b[39;00m\n\u001b[32m----> \u001b[39m\u001b[32m5\u001b[39m converter = \u001b[43mShapefileToSwiftConverter\u001b[49m\u001b[43m(\u001b[49m\n\u001b[32m      6\u001b[39m \u001b[43m    \u001b[49m\u001b[43mgdf\u001b[49m\u001b[43m \u001b[49m\u001b[43m=\u001b[49m\u001b[43m \u001b[49m\u001b[43mlink_specs\u001b[49m\u001b[43m,\u001b[49m\n\u001b[32m      7\u001b[39m \u001b[43m    \u001b[49m\u001b[43minclude_coordinates\u001b[49m\u001b[43m \u001b[49m\u001b[43m=\u001b[49m\u001b[43m \u001b[49m\u001b[38;5;28;43;01mFalse\u001b[39;49;00m\u001b[43m,\u001b[49m\n\u001b[32m      8\u001b[39m \u001b[43m    \u001b[49m\u001b[43mlinkid_field\u001b[49m\u001b[43m \u001b[49m\u001b[43m=\u001b[49m\u001b[43m \u001b[49m\u001b[33;43m'\u001b[39;49m\u001b[33;43mLinkID\u001b[39;49m\u001b[33;43m'\u001b[39;49m\u001b[43m,\u001b[49m\n\u001b[32m      9\u001b[39m \u001b[43m    \u001b[49m\u001b[43mfromnodeid_field\u001b[49m\u001b[43m \u001b[49m\u001b[43m=\u001b[49m\u001b[43m \u001b[49m\u001b[33;43m'\u001b[39;49m\u001b[33;43mFromNodeID\u001b[39;49m\u001b[33;43m'\u001b[39;49m\u001b[43m,\u001b[49m\n\u001b[32m     10\u001b[39m \u001b[43m    \u001b[49m\u001b[43mtonodeid_field\u001b[49m\u001b[43m \u001b[49m\u001b[43m=\u001b[49m\u001b[43m \u001b[49m\u001b[33;43m'\u001b[39;49m\u001b[33;43mToNodeID\u001b[39;49m\u001b[33;43m'\u001b[39;49m\u001b[43m,\u001b[49m\n\u001b[32m     11\u001b[39m \u001b[43m    \u001b[49m\u001b[43mspathlen_field\u001b[49m\u001b[43m \u001b[49m\u001b[43m=\u001b[49m\u001b[43m \u001b[49m\u001b[33;43m'\u001b[39;49m\u001b[33;43mSPathLen\u001b[39;49m\u001b[33;43m'\u001b[39;49m\u001b[43m,\u001b[49m\n\u001b[32m     12\u001b[39m \u001b[43m    \u001b[49m\u001b[43mdarea2_field\u001b[49m\u001b[43m \u001b[49m\u001b[43m=\u001b[49m\u001b[43m \u001b[49m\u001b[33;43m'\u001b[39;49m\u001b[33;43mDArea2\u001b[39;49m\u001b[33;43m'\u001b[39;49m\u001b[43m,\u001b[49m\n\u001b[32m     13\u001b[39m \u001b[43m    \u001b[49m\u001b[43mgeometry_field\u001b[49m\u001b[43m \u001b[49m\u001b[43m=\u001b[49m\u001b[43m \u001b[49m\u001b[33;43m'\u001b[39;49m\u001b[33;43mgeometry\u001b[39;49m\u001b[33;43m'\u001b[39;49m\u001b[43m,\u001b[49m\n\u001b[32m     14\u001b[39m \u001b[43m)\u001b[49m\n",
      "\u001b[36mFile \u001b[39m\u001b[32m~/src/geosdhydro/src/geosdhydro/_internal/swift.py:44\u001b[39m, in \u001b[36mShapefileToSwiftConverter.__init__\u001b[39m\u001b[34m(self, gdf, include_coordinates, linkid_field, fromnodeid_field, tonodeid_field, spathlen_field, darea2_field, geometry_field)\u001b[39m\n\u001b[32m     42\u001b[39m \u001b[38;5;28mself\u001b[39m._darea2_field = darea2_field \u001b[38;5;28;01mif\u001b[39;00m darea2_field \u001b[38;5;28;01melse\u001b[39;00m _default_darea2_field\n\u001b[32m     43\u001b[39m \u001b[38;5;28mself\u001b[39m._geometry_field = geometry_field \u001b[38;5;28;01mif\u001b[39;00m geometry_field \u001b[38;5;28;01melse\u001b[39;00m _default_geometry_field\n\u001b[32m---> \u001b[39m\u001b[32m44\u001b[39m \u001b[38;5;28;43mself\u001b[39;49m\u001b[43m.\u001b[49m\u001b[43m_check_geodf\u001b[49m\u001b[43m(\u001b[49m\u001b[43m)\u001b[49m\n",
      "\u001b[36mFile \u001b[39m\u001b[32m~/src/geosdhydro/src/geosdhydro/_internal/swift.py:99\u001b[39m, in \u001b[36mShapefileToSwiftConverter._check_geodf\u001b[39m\u001b[34m(self)\u001b[39m\n\u001b[32m     97\u001b[39m \u001b[38;5;28;01mif\u001b[39;00m \u001b[38;5;129;01mnot\u001b[39;00m duplicates.empty:\n\u001b[32m     98\u001b[39m     duplicate_indices = \u001b[38;5;28mself\u001b[39m.gdf[\u001b[38;5;28mself\u001b[39m.gdf[\u001b[38;5;28mself\u001b[39m._linkid_field].isin(duplicates.index)].index.tolist()\n\u001b[32m---> \u001b[39m\u001b[32m99\u001b[39m     \u001b[38;5;28;01mraise\u001b[39;00m \u001b[38;5;167;01mValueError\u001b[39;00m(\u001b[33mf\u001b[39m\u001b[33m\"\u001b[39m\u001b[33mColumn \u001b[39m\u001b[33m'\u001b[39m\u001b[33mLinkID\u001b[39m\u001b[33m'\u001b[39m\u001b[33m contains duplicate values: \u001b[39m\u001b[38;5;132;01m{\u001b[39;00mduplicates.index.tolist()\u001b[38;5;132;01m}\u001b[39;00m\u001b[33m at indices \u001b[39m\u001b[38;5;132;01m{\u001b[39;00mduplicate_indices\u001b[38;5;132;01m}\u001b[39;00m\u001b[33m.\u001b[39m\u001b[33m\"\u001b[39m)\n",
      "\u001b[31mValueError\u001b[39m: Column 'LinkID' contains duplicate values: ['17'] at indices [3, 17]."
     ]
    }
   ],
   "source": [
    "# THere are default values for the expected columns names and whether to retrieve lat/lon coordinates:\n",
    "# converter = ShapefileToSwiftConverter(link_specs)\n",
    "\n",
    "# but let us be explicit in this example tutorial\n",
    "converter = ShapefileToSwiftConverter(\n",
    "    gdf = link_specs,\n",
    "    include_coordinates = False,\n",
    "    linkid_field = 'LinkID',\n",
    "    fromnodeid_field = 'FromNodeID',\n",
    "    tonodeid_field = 'ToNodeID',\n",
    "    spathlen_field = 'SPathLen',\n",
    "    darea2_field = 'DArea2',\n",
    "    geometry_field = 'geometry',\n",
    ")"
   ]
  },
  {
   "cell_type": "code",
   "execution_count": 10,
   "id": "44921d4e-6253-4c99-8928-b0cce60fb440",
   "metadata": {},
   "outputs": [
    {
     "data": {
      "text/html": [
       "<div>\n",
       "<style scoped>\n",
       "    .dataframe tbody tr th:only-of-type {\n",
       "        vertical-align: middle;\n",
       "    }\n",
       "\n",
       "    .dataframe tbody tr th {\n",
       "        vertical-align: top;\n",
       "    }\n",
       "\n",
       "    .dataframe thead th {\n",
       "        text-align: right;\n",
       "    }\n",
       "</style>\n",
       "<table border=\"1\" class=\"dataframe\">\n",
       "  <thead>\n",
       "    <tr style=\"text-align: right;\">\n",
       "      <th></th>\n",
       "      <th>OBJECTID</th>\n",
       "      <th>Shape_Leng</th>\n",
       "      <th>LinkID</th>\n",
       "      <th>FromNodeID</th>\n",
       "      <th>ToNodeID</th>\n",
       "      <th>HeadLink</th>\n",
       "      <th>SPathCnt</th>\n",
       "      <th>LPathCnt</th>\n",
       "      <th>SPathLen</th>\n",
       "      <th>LPathLen</th>\n",
       "      <th>DArea</th>\n",
       "      <th>Prim_Link</th>\n",
       "      <th>SWIFT_ID</th>\n",
       "      <th>ToNodeID2</th>\n",
       "      <th>DArea2</th>\n",
       "      <th>geometry</th>\n",
       "    </tr>\n",
       "  </thead>\n",
       "  <tbody>\n",
       "    <tr>\n",
       "      <th>3</th>\n",
       "      <td>17</td>\n",
       "      <td>0.135098</td>\n",
       "      <td>17</td>\n",
       "      <td>43636314</td>\n",
       "      <td>43346081</td>\n",
       "      <td>0</td>\n",
       "      <td>14</td>\n",
       "      <td>14</td>\n",
       "      <td>34835.592042</td>\n",
       "      <td>34835.592042</td>\n",
       "      <td>1.0</td>\n",
       "      <td>0</td>\n",
       "      <td>1802</td>\n",
       "      <td>0</td>\n",
       "      <td>-1.0</td>\n",
       "      <td>LINESTRING (149.41821 -34.04389, 149.31528 -33...</td>\n",
       "    </tr>\n",
       "    <tr>\n",
       "      <th>17</th>\n",
       "      <td>17</td>\n",
       "      <td>0.128853</td>\n",
       "      <td>17</td>\n",
       "      <td>43351601</td>\n",
       "      <td>43349393</td>\n",
       "      <td>1</td>\n",
       "      <td>0</td>\n",
       "      <td>0</td>\n",
       "      <td>1.000000</td>\n",
       "      <td>0.000000</td>\n",
       "      <td>145644000.0</td>\n",
       "      <td>1</td>\n",
       "      <td>55</td>\n",
       "      <td>43349393</td>\n",
       "      <td>145644000.0</td>\n",
       "      <td>LINESTRING (149.42191 -33.79131, 149.38417 -33...</td>\n",
       "    </tr>\n",
       "  </tbody>\n",
       "</table>\n",
       "</div>"
      ],
      "text/plain": [
       "    OBJECTID  Shape_Leng LinkID FromNodeID  ToNodeID  HeadLink  SPathCnt  \\\n",
       "3         17    0.135098     17   43636314  43346081         0        14   \n",
       "17        17    0.128853     17   43351601  43349393         1         0   \n",
       "\n",
       "    LPathCnt      SPathLen      LPathLen        DArea  Prim_Link  SWIFT_ID  \\\n",
       "3         14  34835.592042  34835.592042          1.0          0      1802   \n",
       "17         0      1.000000      0.000000  145644000.0          1        55   \n",
       "\n",
       "    ToNodeID2       DArea2                                           geometry  \n",
       "3           0         -1.0  LINESTRING (149.41821 -34.04389, 149.31528 -33...  \n",
       "17   43349393  145644000.0  LINESTRING (149.42191 -33.79131, 149.38417 -33...  "
      ]
     },
     "execution_count": 10,
     "metadata": {},
     "output_type": "execute_result"
    }
   ],
   "source": [
    "link_specs.iloc[[3, 17]]"
   ]
  },
  {
   "cell_type": "markdown",
   "id": "a3b3f6cf-3529-45aa-a5fd-375d4a447d5b",
   "metadata": {},
   "source": [
    "Not quite sure what was intended with the above. One of the entry has 1 meter-length links `SPathLen`, but a catchment area, the other is the other way around. I may have been a legacy workaround, or a data bug. Be it as it may, this is a useful way to illustrate the need to look at data, and the build-in checks in the package/features.\n",
    "\n",
    "For the sake of the example, let us just drop these."
   ]
  },
  {
   "cell_type": "code",
   "execution_count": 11,
   "id": "8ac0218f-ee54-458b-a1fc-c3c7b062ba59",
   "metadata": {},
   "outputs": [],
   "source": [
    "link_specs = link_specs.drop(index=[3,17])"
   ]
  },
  {
   "cell_type": "markdown",
   "id": "7112df7c-e374-4b92-bfdb-b92f5baed979",
   "metadata": {},
   "source": [
    "and now we expect the converter to do the job:"
   ]
  },
  {
   "cell_type": "code",
   "execution_count": 12,
   "id": "458a8993-7588-41ba-9b11-527d4190a008",
   "metadata": {},
   "outputs": [],
   "source": [
    "\n",
    "converter = ShapefileToSwiftConverter(\n",
    "    gdf = link_specs,\n",
    "    include_coordinates = False,\n",
    "    linkid_field = 'LinkID',\n",
    "    fromnodeid_field = 'FromNodeID',\n",
    "    tonodeid_field = 'ToNodeID',\n",
    "    spathlen_field = 'SPathLen',\n",
    "    darea2_field = 'DArea2',\n",
    "    geometry_field = 'geometry',\n",
    ")"
   ]
  },
  {
   "cell_type": "code",
   "execution_count": 13,
   "id": "5600ba1b-2b65-4703-9ed4-f3f9907f7127",
   "metadata": {},
   "outputs": [],
   "source": [
    "result = converter.convert()"
   ]
  },
  {
   "cell_type": "markdown",
   "id": "be75d527-eebf-453d-a0e3-96c873f3d623",
   "metadata": {},
   "source": [
    "`result` is a python dictionary"
   ]
  },
  {
   "cell_type": "markdown",
   "id": "3c258bbb-5948-4cf4-bcbf-a921a37b9d57",
   "metadata": {},
   "source": [
    "As expected given that some areas were negative in the input file (i.e. links without a contributing subarea), we have less subareas than links"
   ]
  },
  {
   "cell_type": "code",
   "execution_count": 14,
   "id": "c2126950-6096-492b-9b39-4cedd5b79abd",
   "metadata": {},
   "outputs": [
    {
     "data": {
      "text/plain": [
       "'there are 27 links, 29 nodes, 16 subareas'"
      ]
     },
     "execution_count": 14,
     "metadata": {},
     "output_type": "execute_result"
    }
   ],
   "source": [
    "f\"there are {len(result[\"Links\"])} links, {len(result[\"Nodes\"])} nodes, {len(result[\"SubAreas\"])} subareas\""
   ]
  },
  {
   "cell_type": "markdown",
   "id": "7a6a150b-a6ab-4684-9557-aaab9479e550",
   "metadata": {},
   "source": [
    "The object `converter` has a `save_to_file` method, or you can use the `json` module to save the above `result`:"
   ]
  },
  {
   "cell_type": "code",
   "execution_count": 14,
   "id": "d1dc5a31-c23b-4cdb-a02b-9f86414aa612",
   "metadata": {},
   "outputs": [],
   "source": [
    "import json"
   ]
  },
  {
   "cell_type": "code",
   "execution_count": 15,
   "id": "9be127bf-5a7a-443f-9479-cf031ece7b2a",
   "metadata": {},
   "outputs": [],
   "source": [
    "fp = Path.home() / \"tmp\" / \"abercrombie_swift.json\"\n",
    "# with open(fp, \"w\") as f:\n",
    "#     json.dump(result, f, indent=2)\n"
   ]
  },
  {
   "cell_type": "markdown",
   "id": "0520feea-d1dd-486a-b45b-0721943dd5ad",
   "metadata": {},
   "source": [
    "## Checking the json output loads as a catchment structure"
   ]
  },
  {
   "cell_type": "code",
   "execution_count": 18,
   "id": "43c48606-20a5-4fa2-8392-a485b42eff33",
   "metadata": {},
   "outputs": [],
   "source": [
    "# This is be done if you have `swift2` in your python env using:\n",
    "\n",
    "# from swift2.model_definitions import model_from_json_file\n",
    "# sim = model_from_json_file(fp)"
   ]
  },
  {
   "cell_type": "code",
   "execution_count": null,
   "id": "49535960-b143-4dfb-b482-e6ba30712bd4",
   "metadata": {},
   "outputs": [],
   "source": []
  }
 ],
 "metadata": {
  "kernelspec": {
   "display_name": "geosdhydro",
   "language": "python",
   "name": "geosdhydro"
  },
  "language_info": {
   "codemirror_mode": {
    "name": "ipython",
    "version": 3
   },
   "file_extension": ".py",
   "mimetype": "text/x-python",
   "name": "python",
   "nbconvert_exporter": "python",
   "pygments_lexer": "ipython3",
   "version": "3.13.0"
  }
 },
 "nbformat": 4,
 "nbformat_minor": 5
}
