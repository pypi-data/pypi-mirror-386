{
 "cells": [
  {
   "cell_type": "markdown",
   "id": "24b1926c",
   "metadata": {},
   "source": [
    "# AlphaFold\n",
    "\n",
    "You can download and filter AlphaFold files on confidence."
   ]
  },
  {
   "cell_type": "code",
   "execution_count": 1,
   "id": "681ba946",
   "metadata": {},
   "outputs": [],
   "source": [
    "# Generic imports\n",
    "import logging\n",
    "from pathlib import Path\n",
    "from pprint import pprint\n",
    "\n",
    "logging.basicConfig(level=logging.WARNING)\n",
    "# Set to WARNING to see only warnings\n",
    "# Set to INFO to see sparql queries\n",
    "# Set to DEBUG to see raw results"
   ]
  },
  {
   "cell_type": "markdown",
   "id": "4959258c",
   "metadata": {},
   "source": [
    "\n",
    "## Download Alphafold files"
   ]
  },
  {
   "cell_type": "code",
   "execution_count": 2,
   "id": "81e449db",
   "metadata": {},
   "outputs": [],
   "source": [
    "from protein_quest.alphafold.fetch import fetch_many_async"
   ]
  },
  {
   "cell_type": "code",
   "execution_count": 3,
   "id": "5c2e6ee3",
   "metadata": {},
   "outputs": [],
   "source": [
    "save_dir = Path(\"alphafold_files\")"
   ]
  },
  {
   "cell_type": "markdown",
   "id": "f38991cf",
   "metadata": {},
   "source": [
    "To download the summary, the cif and predicted Aligned error document (peaDoc) file for 3 AlphaFold entries given their uniprot accessions.\n"
   ]
  },
  {
   "cell_type": "code",
   "execution_count": 4,
   "id": "e32b474a",
   "metadata": {},
   "outputs": [
    {
     "name": "stderr",
     "output_type": "stream",
     "text": [
      "Fetching Alphafold summaries: 100%|██████████| 3/3 [00:00<00:00, 553.10it/s]\n",
      "Downloading AlphaFold files: 100%|██████████| 6/6 [00:00<00:00, 38245.93it/s]"
     ]
    },
    {
     "name": "stdout",
     "output_type": "stream",
     "text": [
      "[AlphaFoldEntry(uniprot_accession='A1YPR0',\n",
      "                summary=EntrySummary(allVersions=[1, 2, 3, 4, 5, 6],\n",
      "                                     bcifUrl=URL('https://alphafold.ebi.ac.uk/files/AF-A1YPR0-F1-model_v6.bcif'),\n",
      "                                     cifUrl=URL('https://alphafold.ebi.ac.uk/files/AF-A1YPR0-F1-model_v6.cif'),\n",
      "                                     entityType='protein',\n",
      "                                     fractionPlddtConfident=0.26,\n",
      "                                     fractionPlddtLow=0.099,\n",
      "                                     fractionPlddtVeryHigh=0.089,\n",
      "                                     fractionPlddtVeryLow=0.553,\n",
      "                                     globalMetricValue=56.03,\n",
      "                                     isUniProt=True,\n",
      "                                     latestVersion=6,\n",
      "                                     modelCreatedDate='2025-08-01T00:00:00Z',\n",
      "                                     modelEntityId='AF-A1YPR0-F1',\n",
      "                                     paeDocUrl=URL('https://alphafold.ebi.ac.uk/files/AF-A1YPR0-F1-predicted_aligned_error_v6.json'),\n",
      "                                     pdbUrl=URL('https://alphafold.ebi.ac.uk/files/AF-A1YPR0-F1-model_v6.pdb'),\n",
      "                                     providerId='GDM',\n",
      "                                     sequence='MANDIDELIGIPFPNHSSEVLCSLNEQRHDGLLCDVLLVVQEQEYRTHRSVLAACSKYFKKLFTAGTLASQPYVYEIDFVQPEALAAILEFAYTSTLTITAGNVKHILNAARMLEIQCIVNVCLEIMEPGGDGGEEDDKEDDDDDEDDDDEEDEEEEEEEEEDDDDDTEDFADQENLPDPQDISCHQSPSKTDHLTEKAYSDTPRDFPDSFQAGSPGHLGVIRDFSIESLLRENLYPKANIPDRRPSLSPFAPDFFPHLWPGDFGAFAQLPEQPMDSGPLDLVIKNRKIKEEEKEELPPPPPPPFPNDFFKDMFPDLPGGPLGPIKAENDYGAYLNFLSATHLGGLFPPWPLVEERKLKPKASQQCPICHKVIMGAGKLPRHMRTHTGEKPYMCTICEVRFTRQDKLKIHMRKHTGERPYLCIHCNAKFVHNYDLKNHMRIHTGVRPYQCEFCYKSFTRSDHLHRHIKRQSCRMARPRRGRKPAAWRAASLLFGPGGPAPDKAAFVMPPALGEVGGHLGGAAVCLPGPSPAKHFLAAPKGALSLQELERQFEETQMKLFGRAQLEAERNAGGLLAFALAENVAAARPYFPLPDPWAAGLAGLPGLAGLNHVASMSEANN',\n",
      "                                     sequenceChecksum='73D82A34502B55BF',\n",
      "                                     sequenceEnd=619,\n",
      "                                     sequenceStart=1,\n",
      "                                     sequenceVersionDate='2007-02-06T00:00:00Z',\n",
      "                                     toolUsed='AlphaFold Monomer v2.0 pipeline',\n",
      "                                     alternativeNames=None,\n",
      "                                     amAnnotationsHg19Url=URL('https://alphafold.ebi.ac.uk/files/AF-A1YPR0-F1-hg19.csv'),\n",
      "                                     amAnnotationsHg38Url=URL('https://alphafold.ebi.ac.uk/files/AF-A1YPR0-F1-hg38.csv'),\n",
      "                                     amAnnotationsUrl=URL('https://alphafold.ebi.ac.uk/files/AF-A1YPR0-F1-aa-substitutions.csv'),\n",
      "                                     catalyticActivities=None,\n",
      "                                     complexName=None,\n",
      "                                     functions=None,\n",
      "                                     gene='ZBTB7C',\n",
      "                                     geneSynonyms=None,\n",
      "                                     ipSAE=None,\n",
      "                                     ipTM=None,\n",
      "                                     isUniProtReferenceProteome=True,\n",
      "                                     isUniProtReviewed=True,\n",
      "                                     keywords=None,\n",
      "                                     msaUrl=URL('https://alphafold.ebi.ac.uk/files/msa/AF-A1YPR0-F1-msa_v6.a3m'),\n",
      "                                     organismCommonNames=None,\n",
      "                                     organismScientificName='Homo sapiens',\n",
      "                                     organismSynonyms=None,\n",
      "                                     plddtDocUrl=URL('https://alphafold.ebi.ac.uk/files/AF-A1YPR0-F1-confidence_v6.json'),\n",
      "                                     proteinFullNames=None,\n",
      "                                     proteinShortNames=None,\n",
      "                                     stoichiometry=None,\n",
      "                                     taxId=9606,\n",
      "                                     taxonomyLineage=None,\n",
      "                                     uniprotAccession='A1YPR0',\n",
      "                                     uniprotDescription='Zinc finger and BTB '\n",
      "                                                        'domain-containing '\n",
      "                                                        'protein 7C',\n",
      "                                     uniprotId='ZBT7C_HUMAN'),\n",
      "                summary_file=PosixPath('alphafold_files/A1YPR0.json'),\n",
      "                bcif_file=None,\n",
      "                cif_file=PosixPath('alphafold_files/AF-A1YPR0-F1-model_v6.cif'),\n",
      "                pdb_file=None,\n",
      "                pae_doc_file=PosixPath('alphafold_files/AF-A1YPR0-F1-predicted_aligned_error_v6.json'),\n",
      "                am_annotations_file=None,\n",
      "                am_annotations_hg19_file=None,\n",
      "                am_annotations_hg38_file=None,\n",
      "                msa_file=None,\n",
      "                plddt_doc_file=None),\n",
      " AlphaFoldEntry(uniprot_accession='O60481',\n",
      "                summary=EntrySummary(allVersions=[1, 2, 3, 4, 5, 6],\n",
      "                                     bcifUrl=URL('https://alphafold.ebi.ac.uk/files/AF-O60481-F1-model_v6.bcif'),\n",
      "                                     cifUrl=URL('https://alphafold.ebi.ac.uk/files/AF-O60481-F1-model_v6.cif'),\n",
      "                                     entityType='protein',\n",
      "                                     fractionPlddtConfident=0.289,\n",
      "                                     fractionPlddtLow=0.107,\n",
      "                                     fractionPlddtVeryHigh=0.0,\n",
      "                                     fractionPlddtVeryLow=0.604,\n",
      "                                     globalMetricValue=53.88,\n",
      "                                     isUniProt=True,\n",
      "                                     latestVersion=6,\n",
      "                                     modelCreatedDate='2025-08-01T00:00:00Z',\n",
      "                                     modelEntityId='AF-O60481-F1',\n",
      "                                     paeDocUrl=URL('https://alphafold.ebi.ac.uk/files/AF-O60481-F1-predicted_aligned_error_v6.json'),\n",
      "                                     pdbUrl=URL('https://alphafold.ebi.ac.uk/files/AF-O60481-F1-model_v6.pdb'),\n",
      "                                     providerId='GDM',\n",
      "                                     sequence='MTMLLDGGPQFPGLGVGSFGAPRHHEMPNREPAGMGLNPFGDSTHAAAAAAAAAAFKLSPAAAHDLSSGQSSAFTPQGSGYANALGHHHHHHHHHHHTSQVPSYGGAASAAFNSTREFLFRQRSSGLSEAASGGGQHGLFAGSASSLHAPAGIPEPPSYLLFPGLHEQGAGHPSPTGHVDNNQVHLGLRGELFGRADPYRPVASPRTDPYAAGAQFPNYSPMNMNMGVNVAAHHGPGAFFRYMRQPIKQELSCKWIDEAQLSRPKKSCDRTFSTMHELVTHVTMEHVGGPEQNNHVCYWEECPREGKSFKAKYKLVNHIRVHTGEKPFPCPFPGCGKIFARSENLKIHKRTHTGEKPFKCEFEGCDRRFANSSDRKKHMHVHTSDKPYICKVCDKSYTHPSSLRKHMKVHESQGSDSSPAASSGYESSTPPAIASANSKDTTKTPSAVQTSTSHNPGLPPNFNEWYV',\n",
      "                                     sequenceChecksum='3150CF13C0679568',\n",
      "                                     sequenceEnd=467,\n",
      "                                     sequenceStart=1,\n",
      "                                     sequenceVersionDate='1998-08-01T00:00:00Z',\n",
      "                                     toolUsed='AlphaFold Monomer v2.0 pipeline',\n",
      "                                     alternativeNames=None,\n",
      "                                     amAnnotationsHg19Url=URL('https://alphafold.ebi.ac.uk/files/AF-O60481-F1-hg19.csv'),\n",
      "                                     amAnnotationsHg38Url=URL('https://alphafold.ebi.ac.uk/files/AF-O60481-F1-hg38.csv'),\n",
      "                                     amAnnotationsUrl=URL('https://alphafold.ebi.ac.uk/files/AF-O60481-F1-aa-substitutions.csv'),\n",
      "                                     catalyticActivities=None,\n",
      "                                     complexName=None,\n",
      "                                     functions=None,\n",
      "                                     gene='ZIC3',\n",
      "                                     geneSynonyms=None,\n",
      "                                     ipSAE=None,\n",
      "                                     ipTM=None,\n",
      "                                     isUniProtReferenceProteome=True,\n",
      "                                     isUniProtReviewed=True,\n",
      "                                     keywords=None,\n",
      "                                     msaUrl=URL('https://alphafold.ebi.ac.uk/files/msa/AF-O60481-F1-msa_v6.a3m'),\n",
      "                                     organismCommonNames=None,\n",
      "                                     organismScientificName='Homo sapiens',\n",
      "                                     organismSynonyms=None,\n",
      "                                     plddtDocUrl=URL('https://alphafold.ebi.ac.uk/files/AF-O60481-F1-confidence_v6.json'),\n",
      "                                     proteinFullNames=None,\n",
      "                                     proteinShortNames=None,\n",
      "                                     stoichiometry=None,\n",
      "                                     taxId=9606,\n",
      "                                     taxonomyLineage=None,\n",
      "                                     uniprotAccession='O60481',\n",
      "                                     uniprotDescription='Zinc finger protein '\n",
      "                                                        'ZIC 3',\n",
      "                                     uniprotId='ZIC3_HUMAN'),\n",
      "                summary_file=PosixPath('alphafold_files/O60481.json'),\n",
      "                bcif_file=None,\n",
      "                cif_file=PosixPath('alphafold_files/AF-O60481-F1-model_v6.cif'),\n",
      "                pdb_file=None,\n",
      "                pae_doc_file=PosixPath('alphafold_files/AF-O60481-F1-predicted_aligned_error_v6.json'),\n",
      "                am_annotations_file=None,\n",
      "                am_annotations_hg19_file=None,\n",
      "                am_annotations_hg38_file=None,\n",
      "                msa_file=None,\n",
      "                plddt_doc_file=None),\n",
      " AlphaFoldEntry(uniprot_accession='P50613',\n",
      "                summary=EntrySummary(allVersions=[1, 2, 3, 4, 5, 6],\n",
      "                                     bcifUrl=URL('https://alphafold.ebi.ac.uk/files/AF-P50613-F1-model_v6.bcif'),\n",
      "                                     cifUrl=URL('https://alphafold.ebi.ac.uk/files/AF-P50613-F1-model_v6.cif'),\n",
      "                                     entityType='protein',\n",
      "                                     fractionPlddtConfident=0.127,\n",
      "                                     fractionPlddtLow=0.092,\n",
      "                                     fractionPlddtVeryHigh=0.618,\n",
      "                                     fractionPlddtVeryLow=0.162,\n",
      "                                     globalMetricValue=82.0,\n",
      "                                     isUniProt=True,\n",
      "                                     latestVersion=6,\n",
      "                                     modelCreatedDate='2025-08-01T00:00:00Z',\n",
      "                                     modelEntityId='AF-P50613-F1',\n",
      "                                     paeDocUrl=URL('https://alphafold.ebi.ac.uk/files/AF-P50613-F1-predicted_aligned_error_v6.json'),\n",
      "                                     pdbUrl=URL('https://alphafold.ebi.ac.uk/files/AF-P50613-F1-model_v6.pdb'),\n",
      "                                     providerId='GDM',\n",
      "                                     sequence='MALDVKSRAKRYEKLDFLGEGQFATVYKARDKNTNQIVAIKKIKLGHRSEAKDGINRTALREIKLLQELSHPNIIGLLDAFGHKSNISLVFDFMETDLEVIIKDNSLVLTPSHIKAYMLMTLQGLEYLHQHWILHRDLKPNNLLLDENGVLKLADFGLAKSFGSPNRAYTHQVVTRWYRAPELLFGARMYGVGVDMWAVGCILAELLLRVPFLPGDSDLDQLTRIFETLGTPTEEQWPDMCSLPDYVTFKSFPGIPLHHIFSAAGDDLLDLIQGLFLFNPCARITATQALKMKYFSNRPGPTPGCQLPRPNCPVETLKEQSNPALAIKRKRTEALEQGGLPKKLIF',\n",
      "                                     sequenceChecksum='0A94BFA7DD416CEB',\n",
      "                                     sequenceEnd=346,\n",
      "                                     sequenceStart=1,\n",
      "                                     sequenceVersionDate='1996-10-01T00:00:00Z',\n",
      "                                     toolUsed='AlphaFold Monomer v2.0 pipeline',\n",
      "                                     alternativeNames=None,\n",
      "                                     amAnnotationsHg19Url=URL('https://alphafold.ebi.ac.uk/files/AF-P50613-F1-hg19.csv'),\n",
      "                                     amAnnotationsHg38Url=URL('https://alphafold.ebi.ac.uk/files/AF-P50613-F1-hg38.csv'),\n",
      "                                     amAnnotationsUrl=URL('https://alphafold.ebi.ac.uk/files/AF-P50613-F1-aa-substitutions.csv'),\n",
      "                                     catalyticActivities=None,\n",
      "                                     complexName=None,\n",
      "                                     functions=None,\n",
      "                                     gene='CDK7',\n",
      "                                     geneSynonyms=None,\n",
      "                                     ipSAE=None,\n",
      "                                     ipTM=None,\n",
      "                                     isUniProtReferenceProteome=True,\n",
      "                                     isUniProtReviewed=True,\n",
      "                                     keywords=None,\n",
      "                                     msaUrl=URL('https://alphafold.ebi.ac.uk/files/msa/AF-P50613-F1-msa_v6.a3m'),\n",
      "                                     organismCommonNames=None,\n",
      "                                     organismScientificName='Homo sapiens',\n",
      "                                     organismSynonyms=None,\n",
      "                                     plddtDocUrl=URL('https://alphafold.ebi.ac.uk/files/AF-P50613-F1-confidence_v6.json'),\n",
      "                                     proteinFullNames=None,\n",
      "                                     proteinShortNames=None,\n",
      "                                     stoichiometry=None,\n",
      "                                     taxId=9606,\n",
      "                                     taxonomyLineage=None,\n",
      "                                     uniprotAccession='P50613',\n",
      "                                     uniprotDescription='Cyclin-dependent '\n",
      "                                                        'kinase 7',\n",
      "                                     uniprotId='CDK7_HUMAN'),\n",
      "                summary_file=PosixPath('alphafold_files/P50613.json'),\n",
      "                bcif_file=None,\n",
      "                cif_file=PosixPath('alphafold_files/AF-P50613-F1-model_v6.cif'),\n",
      "                pdb_file=None,\n",
      "                pae_doc_file=PosixPath('alphafold_files/AF-P50613-F1-predicted_aligned_error_v6.json'),\n",
      "                am_annotations_file=None,\n",
      "                am_annotations_hg19_file=None,\n",
      "                am_annotations_hg38_file=None,\n",
      "                msa_file=None,\n",
      "                plddt_doc_file=None)]\n"
     ]
    },
    {
     "name": "stderr",
     "output_type": "stream",
     "text": [
      "\n"
     ]
    }
   ],
   "source": [
    "summaries = [\n",
    "    s async for s in fetch_many_async([\"A1YPR0\", \"O60481\", \"P50613\"], save_dir, what={\"summary\", \"cif\", \"paeDoc\"})\n",
    "]\n",
    "pprint(summaries)"
   ]
  },
  {
   "cell_type": "code",
   "execution_count": 7,
   "id": "2d3595e6",
   "metadata": {},
   "outputs": [
    {
     "name": "stdout",
     "output_type": "stream",
     "text": [
      "total 4.3M\n",
      "4.0K A1YPR0.json\n",
      "556K AF-A1YPR0-F1-model_v6.cif\n",
      "1.1M AF-A1YPR0-F1-predicted_aligned_error_v6.json\n",
      "412K AF-O60481-2-F1-model_v6.cif\n",
      "600K AF-O60481-2-F1-predicted_aligned_error_v6.json\n",
      "412K AF-O60481-F1-model_v6.cif\n",
      "628K AF-O60481-F1-predicted_aligned_error_v6.json\n",
      "324K AF-P50613-F1-model_v6.cif\n",
      "276K AF-P50613-F1-predicted_aligned_error_v6.json\n",
      "8.0K O60481.json\n",
      "4.0K P50613.json\n"
     ]
    }
   ],
   "source": [
    "!ls -sh {save_dir}"
   ]
  },
  {
   "cell_type": "markdown",
   "id": "a43edd87",
   "metadata": {},
   "source": [
    "## Filter AlphFold structure files on confidence\n",
    "\n",
    "Filter AlphaFold mmcif/PDB files by confidence (plDDT). Passed files are written with residues below threshold removed."
   ]
  },
  {
   "cell_type": "code",
   "execution_count": 10,
   "id": "cc96c63a",
   "metadata": {},
   "outputs": [],
   "source": [
    "from protein_quest.alphafold.confidence import ConfidenceFilterQuery, filter_files_on_confidence"
   ]
  },
  {
   "cell_type": "markdown",
   "id": "724141d4",
   "metadata": {},
   "source": [
    "Take one of the downloaded files"
   ]
  },
  {
   "cell_type": "code",
   "execution_count": 12,
   "id": "73a61cf6",
   "metadata": {},
   "outputs": [
    {
     "data": {
      "text/plain": [
       "[PosixPath('alphafold_files/AF-A1YPR0-F1-model_v4.cif'),\n",
       " PosixPath('alphafold_files/AF-O60481-F1-model_v4.cif'),\n",
       " PosixPath('alphafold_files/AF-P50613-F1-model_v4.cif')]"
      ]
     },
     "execution_count": 12,
     "metadata": {},
     "output_type": "execute_result"
    }
   ],
   "source": [
    "input_files = [entry.cif_file for entry in summaries if entry.cif_file is not None]\n",
    "input_files"
   ]
  },
  {
   "cell_type": "markdown",
   "id": "da8f2f67",
   "metadata": {},
   "source": [
    "We only write a filtered cif file when in the input file there are between 100 and 1000 residues that have a pLDDT score above 50."
   ]
  },
  {
   "cell_type": "code",
   "execution_count": null,
   "id": "fbfdf472",
   "metadata": {},
   "outputs": [],
   "source": [
    "query = ConfidenceFilterQuery(confidence=80, min_residues=100, max_residues=1000)"
   ]
  },
  {
   "cell_type": "code",
   "execution_count": 14,
   "id": "152aec9a",
   "metadata": {},
   "outputs": [],
   "source": [
    "output_dir = Path(\"./filtered\")\n",
    "output_dir.mkdir(exist_ok=True)\n",
    "result = filter_files_on_confidence(input_files, query, output_dir)"
   ]
  },
  {
   "cell_type": "code",
   "execution_count": null,
   "id": "6a6f8e3f",
   "metadata": {},
   "outputs": [
    {
     "data": {
      "text/plain": [
       "[ConfidenceFilterResult(input_file='AF-A1YPR0-F1-model_v4.cif', count=175, filtered_file=PosixPath('filtered/AF-A1YPR0-F1-model_v4.cif')),\n",
       " ConfidenceFilterResult(input_file='AF-O60481-F1-model_v4.cif', count=76, filtered_file=None),\n",
       " ConfidenceFilterResult(input_file='AF-P50613-F1-model_v4.cif', count=244, filtered_file=PosixPath('filtered/AF-P50613-F1-model_v4.cif'))]"
      ]
     },
     "execution_count": 17,
     "metadata": {},
     "output_type": "execute_result"
    }
   ],
   "source": [
    "list(\n",
    "    filter_files_on_confidence(\n",
    "        input_files, ConfidenceFilterQuery(confidence=80, min_residues=100, max_residues=1000), output_dir\n",
    "    )\n",
    ")"
   ]
  },
  {
   "cell_type": "markdown",
   "id": "0fe1e388",
   "metadata": {},
   "source": [
    "2 files have passed, but 1 file only has 75 high confidence residues so it is discarded."
   ]
  },
  {
   "cell_type": "code",
   "execution_count": null,
   "id": "83ffc09b",
   "metadata": {},
   "outputs": [],
   "source": []
  }
 ],
 "metadata": {
  "kernelspec": {
   "display_name": "protein-quest",
   "language": "python",
   "name": "python3"
  },
  "language_info": {
   "codemirror_mode": {
    "name": "ipython",
    "version": 3
   },
   "file_extension": ".py",
   "mimetype": "text/x-python",
   "name": "python",
   "nbconvert_exporter": "python",
   "pygments_lexer": "ipython3",
   "version": "3.13.5"
  }
 },
 "nbformat": 4,
 "nbformat_minor": 5
}
