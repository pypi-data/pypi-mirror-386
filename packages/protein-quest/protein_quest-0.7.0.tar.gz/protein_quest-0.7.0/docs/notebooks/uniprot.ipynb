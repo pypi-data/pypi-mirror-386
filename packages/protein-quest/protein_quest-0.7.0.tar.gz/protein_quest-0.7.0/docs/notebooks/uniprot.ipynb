{
 "cells": [
  {
   "cell_type": "markdown",
   "id": "4ef4bfbe",
   "metadata": {},
   "source": [
    "# Search on uniprot\n",
    "\n",
    "You can search on uniprot to find uniprot accessions and structure identifiers."
   ]
  },
  {
   "cell_type": "code",
   "execution_count": 1,
   "id": "85674583",
   "metadata": {},
   "outputs": [],
   "source": [
    "# Setup some logging\n",
    "import logging\n",
    "from pprint import pprint\n",
    "\n",
    "logging.basicConfig(level=logging.WARNING)\n",
    "# Set to WARNING to see only warnings\n",
    "# Set to INFO to see sparql queries\n",
    "# Set to DEBUG to see raw results"
   ]
  },
  {
   "cell_type": "markdown",
   "id": "5378e1d5",
   "metadata": {},
   "source": [
    "## Search for uniprot accessions based on a query"
   ]
  },
  {
   "cell_type": "code",
   "execution_count": 24,
   "id": "4f3ae5ab",
   "metadata": {},
   "outputs": [],
   "source": [
    "from protein_quest.uniprot import Query, search4uniprot"
   ]
  },
  {
   "cell_type": "code",
   "execution_count": 25,
   "id": "adfa8664",
   "metadata": {},
   "outputs": [],
   "source": [
    "query = Query(\n",
    "    taxon_id=\"9606\",\n",
    "    reviewed=True,\n",
    "    subcellular_location_uniprot=\"nucleus\",\n",
    "    subcellular_location_go=[\"GO:0005634\"],  # Cellular component - Nucleus\n",
    "    molecular_function_go=[\"GO:0003677\"],  # Molecular function - DNA binding\n",
    ")"
   ]
  },
  {
   "cell_type": "code",
   "execution_count": 26,
   "id": "b7b98e87",
   "metadata": {},
   "outputs": [
    {
     "name": "stderr",
     "output_type": "stream",
     "text": [
      "WARNING:protein_quest.uniprot:Search for uniprot accessions returned 200 results. There may be more results available, but they are not returned due to the limit of 200. Consider increasing the limit to get more results.\n"
     ]
    }
   ],
   "source": [
    "uniprot_accessions = search4uniprot(query, limit=200)"
   ]
  },
  {
   "cell_type": "code",
   "execution_count": 27,
   "id": "60eef3ad",
   "metadata": {},
   "outputs": [
    {
     "name": "stdout",
     "output_type": "stream",
     "text": [
      "Number of Uniprot accessions: 200\n",
      "First 5:\n",
      "['O43435', 'O43364', 'O14627', 'O43151', 'O43913']\n",
      "Last 5:\n",
      "['O15266', 'O60393', 'A8K8V0', 'A8MUV8', 'O14746']\n"
     ]
    }
   ],
   "source": [
    "print(f\"Number of Uniprot accessions: {len(uniprot_accessions)}\")\n",
    "print(\"First 5:\")\n",
    "pprint(list(uniprot_accessions)[:5])\n",
    "print(\"Last 5:\")\n",
    "pprint(list(uniprot_accessions)[-5:])"
   ]
  },
  {
   "cell_type": "markdown",
   "id": "05093886",
   "metadata": {},
   "source": [
    "## Find Protein Data Bank (PDB) entries for uniprot entries\n"
   ]
  },
  {
   "cell_type": "code",
   "execution_count": 28,
   "id": "d83d8502",
   "metadata": {},
   "outputs": [],
   "source": [
    "from protein_quest.uniprot import search4pdb"
   ]
  },
  {
   "cell_type": "code",
   "execution_count": 29,
   "id": "461e895c",
   "metadata": {},
   "outputs": [
    {
     "name": "stderr",
     "output_type": "stream",
     "text": [
      "WARNING:protein_quest.uniprot:Search for pdbs on uniprot returned 200 results. There may be more results available, but they are not returned due to the limit of 200. Consider increasing the limit to get more results.\n"
     ]
    }
   ],
   "source": [
    "pdb_results = search4pdb(uniprot_accessions, limit=200)"
   ]
  },
  {
   "cell_type": "code",
   "execution_count": 30,
   "id": "203f49f0",
   "metadata": {},
   "outputs": [
    {
     "name": "stdout",
     "output_type": "stream",
     "text": [
      "'Number of PDB results: 46'\n",
      "'First 5 PDBs of first Uniprot entry:'\n",
      "'O15350'\n",
      "[PdbResult(id='2WQI',\n",
      "           method='X-Ray_Crystallography',\n",
      "           uniprot_chains='A/B/C/D=351-399',\n",
      "           resolution='1.7'),\n",
      " PdbResult(id='4G83',\n",
      "           method='X-Ray_Crystallography',\n",
      "           uniprot_chains='A/B=115-312',\n",
      "           resolution='4'),\n",
      " PdbResult(id='2XWC',\n",
      "           method='X-Ray_Crystallography',\n",
      "           uniprot_chains='A=112-311',\n",
      "           resolution='1.82'),\n",
      " PdbResult(id='2KBY',\n",
      "           method='NMR_Spectroscopy',\n",
      "           uniprot_chains='A/B/C/D=351-398',\n",
      "           resolution=None),\n",
      " PdbResult(id='2WQJ',\n",
      "           method='X-Ray_Crystallography',\n",
      "           uniprot_chains='1/2/A/B/C/D/E/F/G/H/I/J/K/L/M/N/O/P/Q/R/S/T/U/V/W/X/Y/Z=351-383',\n",
      "           resolution='2')]\n"
     ]
    }
   ],
   "source": [
    "pprint(f\"Number of PDB results: {len(pdb_results)}\")\n",
    "pprint(\"First 5 PDBs of first Uniprot entry:\")\n",
    "first_uniprot = next(iter(pdb_results.items()))\n",
    "pprint(first_uniprot[0])\n",
    "pprint(list(first_uniprot[1])[:5])"
   ]
  },
  {
   "cell_type": "markdown",
   "id": "64438e61",
   "metadata": {},
   "source": [
    "## Find AlphaFold models for uniprot entries"
   ]
  },
  {
   "cell_type": "code",
   "execution_count": 31,
   "id": "d805f9f0",
   "metadata": {},
   "outputs": [],
   "source": [
    "from protein_quest.uniprot import search4af"
   ]
  },
  {
   "cell_type": "code",
   "execution_count": 32,
   "id": "2ac267a0",
   "metadata": {},
   "outputs": [],
   "source": [
    "afresults = search4af(uniprot_accessions, limit=200)"
   ]
  },
  {
   "cell_type": "code",
   "execution_count": 33,
   "id": "cceccbaf",
   "metadata": {},
   "outputs": [
    {
     "name": "stdout",
     "output_type": "stream",
     "text": [
      "'Number of AlphaFold results: 198'\n",
      "('A0A087WUV0', {'A0A087WUV0'})\n"
     ]
    }
   ],
   "source": [
    "pprint(f\"Number of AlphaFold results: {len(afresults)}\")\n",
    "first_af = next(iter(afresults.items()))\n",
    "pprint(first_af)"
   ]
  },
  {
   "cell_type": "markdown",
   "id": "863e57a9",
   "metadata": {},
   "source": [
    "## Find Electron Microscopy Data Bank (EMDB) entries for uniprot entries"
   ]
  },
  {
   "cell_type": "code",
   "execution_count": 34,
   "id": "5473fd0f",
   "metadata": {},
   "outputs": [],
   "source": [
    "from protein_quest.uniprot import search4emdb"
   ]
  },
  {
   "cell_type": "code",
   "execution_count": 35,
   "id": "273422ee",
   "metadata": {},
   "outputs": [],
   "source": [
    "uniprot_accessions = search4emdb(uniprot_accessions, limit=200)"
   ]
  },
  {
   "cell_type": "code",
   "execution_count": 36,
   "id": "2ed283ce",
   "metadata": {},
   "outputs": [
    {
     "name": "stdout",
     "output_type": "stream",
     "text": [
      "'Number of Uniprot accessions with EMDB entries: 22'\n",
      "('O14497', {'EMD-0974'})\n"
     ]
    }
   ],
   "source": [
    "pprint(f\"Number of Uniprot accessions with EMDB entries: {len(uniprot_accessions)}\")\n",
    "first_uniprot = next(iter(uniprot_accessions.items()))\n",
    "pprint(first_uniprot)"
   ]
  },
  {
   "cell_type": "markdown",
   "id": "e32a95f8",
   "metadata": {},
   "source": [
    "## Find interaction partners for uniprot entries"
   ]
  },
  {
   "cell_type": "code",
   "execution_count": 1,
   "id": "d035c702",
   "metadata": {},
   "outputs": [],
   "source": [
    "from protein_quest.uniprot import search4interaction_partners, search4macromolecular_complexes"
   ]
  },
  {
   "cell_type": "code",
   "execution_count": 2,
   "id": "601c690a",
   "metadata": {},
   "outputs": [],
   "source": [
    "# Helicase SWR1 in yeast\n",
    "uniprot_accession = \"Q05471\""
   ]
  },
  {
   "cell_type": "code",
   "execution_count": 3,
   "id": "173c764d",
   "metadata": {},
   "outputs": [
    {
     "data": {
      "text/plain": [
       "{'Q12464': {'CPX-2122'},\n",
       " 'P35817': {'CPX-2122'},\n",
       " 'P80428': {'CPX-2122'},\n",
       " 'Q12509': {'CPX-2122'},\n",
       " 'Q03388': {'CPX-2122'},\n",
       " 'P53201': {'CPX-2122'},\n",
       " 'P53930': {'CPX-2122'},\n",
       " 'P60010': {'CPX-2122'},\n",
       " 'Q03433': {'CPX-2122'},\n",
       " 'Q06707': {'CPX-2122'},\n",
       " 'P38326': {'CPX-2122'},\n",
       " 'P31376': {'CPX-2122'},\n",
       " 'Q03940': {'CPX-2122'}}"
      ]
     },
     "execution_count": 3,
     "metadata": {},
     "output_type": "execute_result"
    }
   ],
   "source": [
    "partners = search4interaction_partners(uniprot_accession, limit=100)\n",
    "partners"
   ]
  },
  {
   "cell_type": "markdown",
   "id": "a763b6f8",
   "metadata": {},
   "source": [
    "To get more information about the complex you can search for the complexes themselves with:"
   ]
  },
  {
   "cell_type": "code",
   "execution_count": 4,
   "id": "236050ea",
   "metadata": {},
   "outputs": [
    {
     "data": {
      "text/plain": [
       "[ComplexPortalEntry(query_protein='Q05471', complex_id='CPX-2122', complex_url='https://www.ebi.ac.uk/complexportal/complex/CPX-2122', complex_title='Swr1 chromatin remodelling complex', members={'P35817', 'Q05471', 'Q12464', 'Q12509', 'Q06707', 'Q03433', 'P38326', 'P53201', 'Q03388', 'P53930', 'P80428', 'Q03940', 'P60010', 'P31376'})]"
      ]
     },
     "execution_count": 4,
     "metadata": {},
     "output_type": "execute_result"
    }
   ],
   "source": [
    "complexes = search4macromolecular_complexes([uniprot_accession])\n",
    "complexes"
   ]
  }
 ],
 "metadata": {
  "kernelspec": {
   "display_name": "protein-quest",
   "language": "python",
   "name": "python3"
  },
  "language_info": {
   "codemirror_mode": {
    "name": "ipython",
    "version": 3
   },
   "file_extension": ".py",
   "mimetype": "text/x-python",
   "name": "python",
   "nbconvert_exporter": "python",
   "pygments_lexer": "ipython3",
   "version": "3.13.5"
  }
 },
 "nbformat": 4,
 "nbformat_minor": 5
}
