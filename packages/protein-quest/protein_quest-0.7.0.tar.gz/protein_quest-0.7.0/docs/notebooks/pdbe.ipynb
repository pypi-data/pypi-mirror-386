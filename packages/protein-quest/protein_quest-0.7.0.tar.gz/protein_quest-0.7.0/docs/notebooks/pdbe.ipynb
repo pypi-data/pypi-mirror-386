{
 "cells": [
  {
   "cell_type": "markdown",
   "id": "8c6c14a2",
   "metadata": {},
   "source": [
    "# PDBe\n",
    "\n",
    "Download and filter PDB files.\n",
    "\n",
    "## Download PDB files from PDBe"
   ]
  },
  {
   "cell_type": "code",
   "execution_count": 1,
   "id": "76d592fd",
   "metadata": {},
   "outputs": [],
   "source": [
    "from pathlib import Path\n",
    "\n",
    "from protein_quest.pdbe.fetch import fetch"
   ]
  },
  {
   "cell_type": "code",
   "execution_count": 2,
   "id": "bf4a2eee",
   "metadata": {},
   "outputs": [],
   "source": [
    "ids = [\n",
    "    \"4NDY\",  # structure of uniprot A8MT69\n",
    "    \"4DRA\",  # structure of uniprot A8MT69\n",
    "    \"1XWH\",  # structure of uniprot O43918\n",
    "    \"8WAS\",  # structure for which there is no single pdb file\n",
    "]"
   ]
  },
  {
   "cell_type": "code",
   "execution_count": 3,
   "id": "32276155",
   "metadata": {},
   "outputs": [],
   "source": [
    "save_dir = Path(\"pdb_files\")"
   ]
  },
  {
   "cell_type": "code",
   "execution_count": 5,
   "id": "ebc18b30",
   "metadata": {},
   "outputs": [
    {
     "name": "stderr",
     "output_type": "stream",
     "text": [
      "Downloading PDBe mmCIF files: 100%|██████████| 4/4 [00:00<00:00,  7.85it/s]\n"
     ]
    },
    {
     "data": {
      "text/plain": [
       "{'4NDY': PosixPath('pdb_files/4ndy.cif.gz'),\n",
       " '4DRA': PosixPath('pdb_files/4dra.cif.gz'),\n",
       " '1XWH': PosixPath('pdb_files/1xwh.cif.gz'),\n",
       " '8WAS': PosixPath('pdb_files/8was.cif.gz')}"
      ]
     },
     "execution_count": 5,
     "metadata": {},
     "output_type": "execute_result"
    }
   ],
   "source": [
    "files = await fetch(ids, save_dir)\n",
    "files"
   ]
  },
  {
   "cell_type": "code",
   "execution_count": 6,
   "id": "1a6b90d1",
   "metadata": {},
   "outputs": [
    {
     "name": "stdout",
     "output_type": "stream",
     "text": [
      "1xwh.cif.gz  4dra.cif.gz  4ndy.cif.gz  8was.cif.gz\n"
     ]
    }
   ],
   "source": [
    "!ls pdb_files"
   ]
  },
  {
   "cell_type": "markdown",
   "id": "634cbc22",
   "metadata": {},
   "source": [
    "## Prepare pdb file for haddock3 or powerfit\n",
    "\n",
    "Haddock3 and powerfit like to have a file with a single protein in it called chain \"A\". The protein-quest package can help to create such a file."
   ]
  },
  {
   "cell_type": "code",
   "execution_count": null,
   "id": "52a42ec2",
   "metadata": {},
   "outputs": [],
   "source": [
    "from protein_quest.structure import write_single_chain_structure_file"
   ]
  },
  {
   "cell_type": "code",
   "execution_count": null,
   "id": "be19565d",
   "metadata": {},
   "outputs": [
    {
     "data": {
      "text/plain": [
       "PosixPath('pdb_files/4ndy_B2A.cif.gz')"
      ]
     },
     "execution_count": 8,
     "metadata": {},
     "output_type": "execute_result"
    }
   ],
   "source": [
    "# A8MT69\t4NDY\tB/D/H/L/M/N/U/V/W/X=8-81\n",
    "# above is the identifier, chain and position info for the structure from https://www.uniprot.org/uniprotkb/A8MT69/entry#structure\n",
    "output_4dny_file = write_single_chain_structure_file(\n",
    "    input_file=save_dir / \"4ndy.cif.gz\", chain2keep=\"B\", output_dir=save_dir\n",
    ")\n",
    "output_4dny_file"
   ]
  },
  {
   "cell_type": "code",
   "execution_count": null,
   "id": "cb56e8a1",
   "metadata": {},
   "outputs": [
    {
     "data": {
      "text/plain": [
       "PosixPath('pdb_files/4dra_E2A.cif.gz')"
      ]
     },
     "execution_count": 9,
     "metadata": {},
     "output_type": "execute_result"
    }
   ],
   "source": [
    "# A8MT69\t4DRA\tE/F/G/H=1-81\n",
    "output_4dra_file = write_single_chain_structure_file(\n",
    "    input_file=save_dir / \"4dra.cif.gz\", chain2keep=\"E\", output_dir=save_dir\n",
    ")\n",
    "output_4dra_file"
   ]
  },
  {
   "cell_type": "code",
   "execution_count": null,
   "id": "673d1274",
   "metadata": {},
   "outputs": [
    {
     "data": {
      "text/plain": [
       "PosixPath('pdb_files/1xwh_A2A.cif.gz')"
      ]
     },
     "execution_count": 12,
     "metadata": {},
     "output_type": "execute_result"
    }
   ],
   "source": [
    "output_1xwh_file = write_single_chain_structure_file(\n",
    "    input_file=save_dir / \"1xwh.cif.gz\",\n",
    "    chain2keep=\"A\",\n",
    "    output_dir=save_dir,\n",
    ")\n",
    "output_1xwh_file"
   ]
  },
  {
   "cell_type": "code",
   "execution_count": null,
   "id": "5f03eb2c",
   "metadata": {},
   "outputs": [
    {
     "data": {
      "text/plain": [
       "PosixPath('pdb_files/8was_D2A.cif.gz')"
      ]
     },
     "execution_count": 14,
     "metadata": {},
     "output_type": "execute_result"
    }
   ],
   "source": [
    "# O00268      │ 8WAS    │ D/d=1-1085\n",
    "output_8was_file = write_single_chain_structure_file(\n",
    "    input_file=save_dir / \"8was.cif.gz\",\n",
    "    chain2keep=\"D\",\n",
    "    output_dir=save_dir,\n",
    ")\n",
    "output_8was_file"
   ]
  },
  {
   "cell_type": "code",
   "execution_count": 17,
   "id": "3c609c3d",
   "metadata": {},
   "outputs": [
    {
     "name": "stdout",
     "output_type": "stream",
     "text": [
      "total 4.1M\n",
      " 16K 1xwh_A2A.cif.gz\n",
      "380K 1xwh.cif.gz\n",
      "276K 4dra.cif.gz\n",
      " 24K 4dra_E2A.cif.gz\n",
      " 28K 4ndy_B2A.cif.gz\n",
      "832K 4ndy.cif.gz\n",
      "2.6M 8was.cif.gz\n",
      " 24K 8was_D2A.cif.gz\n"
     ]
    }
   ],
   "source": [
    "!ls -sh -1 pdb_files/"
   ]
  },
  {
   "cell_type": "code",
   "execution_count": null,
   "id": "d2b8ef72",
   "metadata": {},
   "outputs": [],
   "source": []
  }
 ],
 "metadata": {
  "kernelspec": {
   "display_name": "protein-quest",
   "language": "python",
   "name": "python3"
  },
  "language_info": {
   "codemirror_mode": {
    "name": "ipython",
    "version": 3
   },
   "file_extension": ".py",
   "mimetype": "text/x-python",
   "name": "python",
   "nbconvert_exporter": "python",
   "pygments_lexer": "ipython3",
   "version": "3.13.2"
  }
 },
 "nbformat": 4,
 "nbformat_minor": 5
}
