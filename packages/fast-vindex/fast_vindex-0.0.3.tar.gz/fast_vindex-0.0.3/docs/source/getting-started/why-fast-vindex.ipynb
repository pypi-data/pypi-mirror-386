{
 "cells": [
  {
   "cell_type": "markdown",
   "id": "728efb99-29ca-472d-90e0-d8c229ab1a58",
   "metadata": {},
   "source": [
    "# Overview: Why fast-vindex?"
   ]
  },
  {
   "cell_type": "markdown",
   "id": "4cfb8836-f84b-4763-86fc-66f3d3cc1157",
   "metadata": {},
   "source": [
    "Dask provides the `vindex` function for working with advanced indexing. However, the documentation states that this function is less optimized than standard indexing and therefore slower (see [docs](https://docs.dask.org/en/latest/generated/dask.array.Array.vindex.html)).\n",
    "The goal of the `fast-vindex` library, as its name suggests, is to develop a more optimized method for performing advanced indexing in Dask."
   ]
  },
  {
   "cell_type": "markdown",
   "id": "97ea7fbb-4625-4b89-a344-ec3b45c2c357",
   "metadata": {},
   "source": [
    "```{eval-rst}\n",
    ".. _scientific_challenge:\n",
    "```\n",
    "\n",
    "## Initial Scientific Challenge"
   ]
  },
  {
   "cell_type": "markdown",
   "id": "87d85118-fd43-4b00-8975-53d756bd8101",
   "metadata": {},
   "source": [
    "In a scientific use case, the goal was to co-locate satellite data (time, longitude, latitude) with in-situ observations (time, longitude, latitude).\n",
    "Concretely, this problem involves extracting minicubes from within a larger datacube."
   ]
  },
  {
   "cell_type": "markdown",
   "id": "6f5ba4b5-ca16-4a4e-b2fb-842aa0b8ff5a",
   "metadata": {},
   "source": [
    "![](/_static/pytcube_schema.png)"
   ]
  },
  {
   "cell_type": "markdown",
   "id": "3ea930ee-52cb-4af5-b9ea-d7235ca3cffa",
   "metadata": {},
   "source": [
    "Technically, this involves using `vindex` on a Dask array with fancy indexing."
   ]
  },
  {
   "cell_type": "code",
   "execution_count": 1,
   "id": "2316a2d7-4981-4ab0-b093-3fb0f8df775b",
   "metadata": {},
   "outputs": [],
   "source": [
    "import dask.array as da\n",
    "import numpy as np"
   ]
  },
  {
   "cell_type": "code",
   "execution_count": 2,
   "id": "990cc055-03ea-4126-8a18-1cd0421a8884",
   "metadata": {},
   "outputs": [
    {
     "data": {
      "text/html": [
       "<table>\n",
       "    <tr>\n",
       "        <td>\n",
       "            <table style=\"border-collapse: collapse;\">\n",
       "                <thead>\n",
       "                    <tr>\n",
       "                        <td> </td>\n",
       "                        <th> Array </th>\n",
       "                        <th> Chunk </th>\n",
       "                    </tr>\n",
       "                </thead>\n",
       "                <tbody>\n",
       "                    \n",
       "                    <tr>\n",
       "                        <th> Bytes </th>\n",
       "                        <td> 7.81 kiB </td>\n",
       "                        <td> 0.98 kiB </td>\n",
       "                    </tr>\n",
       "                    \n",
       "                    <tr>\n",
       "                        <th> Shape </th>\n",
       "                        <td> (10, 10, 10) </td>\n",
       "                        <td> (5, 5, 5) </td>\n",
       "                    </tr>\n",
       "                    <tr>\n",
       "                        <th> Dask graph </th>\n",
       "                        <td colspan=\"2\"> 8 chunks in 1 graph layer </td>\n",
       "                    </tr>\n",
       "                    <tr>\n",
       "                        <th> Data type </th>\n",
       "                        <td colspan=\"2\"> float64 numpy.ndarray </td>\n",
       "                    </tr>\n",
       "                </tbody>\n",
       "            </table>\n",
       "        </td>\n",
       "        <td>\n",
       "        <svg width=\"250\" height=\"240\" style=\"stroke:rgb(0,0,0);stroke-width:1\" >\n",
       "\n",
       "  <!-- Horizontal lines -->\n",
       "  <line x1=\"10\" y1=\"0\" x2=\"80\" y2=\"70\" style=\"stroke-width:2\" />\n",
       "  <line x1=\"10\" y1=\"60\" x2=\"80\" y2=\"130\" />\n",
       "  <line x1=\"10\" y1=\"120\" x2=\"80\" y2=\"190\" style=\"stroke-width:2\" />\n",
       "\n",
       "  <!-- Vertical lines -->\n",
       "  <line x1=\"10\" y1=\"0\" x2=\"10\" y2=\"120\" style=\"stroke-width:2\" />\n",
       "  <line x1=\"45\" y1=\"35\" x2=\"45\" y2=\"155\" />\n",
       "  <line x1=\"80\" y1=\"70\" x2=\"80\" y2=\"190\" style=\"stroke-width:2\" />\n",
       "\n",
       "  <!-- Colored Rectangle -->\n",
       "  <polygon points=\"10.0,0.0 80.58823529411765,70.58823529411765 80.58823529411765,190.58823529411765 10.0,120.0\" style=\"fill:#ECB172A0;stroke-width:0\"/>\n",
       "\n",
       "  <!-- Horizontal lines -->\n",
       "  <line x1=\"10\" y1=\"0\" x2=\"130\" y2=\"0\" style=\"stroke-width:2\" />\n",
       "  <line x1=\"45\" y1=\"35\" x2=\"165\" y2=\"35\" />\n",
       "  <line x1=\"80\" y1=\"70\" x2=\"200\" y2=\"70\" style=\"stroke-width:2\" />\n",
       "\n",
       "  <!-- Vertical lines -->\n",
       "  <line x1=\"10\" y1=\"0\" x2=\"80\" y2=\"70\" style=\"stroke-width:2\" />\n",
       "  <line x1=\"70\" y1=\"0\" x2=\"140\" y2=\"70\" />\n",
       "  <line x1=\"130\" y1=\"0\" x2=\"200\" y2=\"70\" style=\"stroke-width:2\" />\n",
       "\n",
       "  <!-- Colored Rectangle -->\n",
       "  <polygon points=\"10.0,0.0 130.0,0.0 200.58823529411765,70.58823529411765 80.58823529411765,70.58823529411765\" style=\"fill:#ECB172A0;stroke-width:0\"/>\n",
       "\n",
       "  <!-- Horizontal lines -->\n",
       "  <line x1=\"80\" y1=\"70\" x2=\"200\" y2=\"70\" style=\"stroke-width:2\" />\n",
       "  <line x1=\"80\" y1=\"130\" x2=\"200\" y2=\"130\" />\n",
       "  <line x1=\"80\" y1=\"190\" x2=\"200\" y2=\"190\" style=\"stroke-width:2\" />\n",
       "\n",
       "  <!-- Vertical lines -->\n",
       "  <line x1=\"80\" y1=\"70\" x2=\"80\" y2=\"190\" style=\"stroke-width:2\" />\n",
       "  <line x1=\"140\" y1=\"70\" x2=\"140\" y2=\"190\" />\n",
       "  <line x1=\"200\" y1=\"70\" x2=\"200\" y2=\"190\" style=\"stroke-width:2\" />\n",
       "\n",
       "  <!-- Colored Rectangle -->\n",
       "  <polygon points=\"80.58823529411765,70.58823529411765 200.58823529411765,70.58823529411765 200.58823529411765,190.58823529411765 80.58823529411765,190.58823529411765\" style=\"fill:#ECB172A0;stroke-width:0\"/>\n",
       "\n",
       "  <!-- Text -->\n",
       "  <text x=\"140.588235\" y=\"210.588235\" font-size=\"1.0rem\" font-weight=\"100\" text-anchor=\"middle\" >10</text>\n",
       "  <text x=\"220.588235\" y=\"130.588235\" font-size=\"1.0rem\" font-weight=\"100\" text-anchor=\"middle\" transform=\"rotate(0,220.588235,130.588235)\">10</text>\n",
       "  <text x=\"35.294118\" y=\"175.294118\" font-size=\"1.0rem\" font-weight=\"100\" text-anchor=\"middle\" transform=\"rotate(45,35.294118,175.294118)\">10</text>\n",
       "</svg>\n",
       "        </td>\n",
       "    </tr>\n",
       "</table>"
      ],
      "text/plain": [
       "dask.array<random_sample, shape=(10, 10, 10), dtype=float64, chunksize=(5, 5, 5), chunktype=numpy.ndarray>"
      ]
     },
     "execution_count": 2,
     "metadata": {},
     "output_type": "execute_result"
    }
   ],
   "source": [
    "x = da.random.random((10, 10, 10), chunks=(5, 5, 5))\n",
    "x"
   ]
  },
  {
   "cell_type": "code",
   "execution_count": 3,
   "id": "ca8e2676-d2ce-4a6b-9625-ba7a4e310b82",
   "metadata": {},
   "outputs": [
    {
     "data": {
      "text/html": [
       "<table>\n",
       "    <tr>\n",
       "        <td>\n",
       "            <table style=\"border-collapse: collapse;\">\n",
       "                <thead>\n",
       "                    <tr>\n",
       "                        <td> </td>\n",
       "                        <th> Array </th>\n",
       "                        <th> Chunk </th>\n",
       "                    </tr>\n",
       "                </thead>\n",
       "                <tbody>\n",
       "                    \n",
       "                    <tr>\n",
       "                        <th> Bytes </th>\n",
       "                        <td> 216 B </td>\n",
       "                        <td> 216 B </td>\n",
       "                    </tr>\n",
       "                    \n",
       "                    <tr>\n",
       "                        <th> Shape </th>\n",
       "                        <td> (1, 3, 3, 3) </td>\n",
       "                        <td> (1, 3, 3, 3) </td>\n",
       "                    </tr>\n",
       "                    <tr>\n",
       "                        <th> Dask graph </th>\n",
       "                        <td colspan=\"2\"> 1 chunks in 3 graph layers </td>\n",
       "                    </tr>\n",
       "                    <tr>\n",
       "                        <th> Data type </th>\n",
       "                        <td colspan=\"2\"> float64 numpy.ndarray </td>\n",
       "                    </tr>\n",
       "                </tbody>\n",
       "            </table>\n",
       "        </td>\n",
       "        <td>\n",
       "        <svg width=\"466\" height=\"240\" style=\"stroke:rgb(0,0,0);stroke-width:1\" >\n",
       "\n",
       "  <!-- Horizontal lines -->\n",
       "  <line x1=\"0\" y1=\"0\" x2=\"43\" y2=\"0\" style=\"stroke-width:2\" />\n",
       "  <line x1=\"0\" y1=\"43\" x2=\"43\" y2=\"43\" style=\"stroke-width:2\" />\n",
       "\n",
       "  <!-- Vertical lines -->\n",
       "  <line x1=\"0\" y1=\"0\" x2=\"0\" y2=\"43\" style=\"stroke-width:2\" />\n",
       "  <line x1=\"43\" y1=\"0\" x2=\"43\" y2=\"43\" style=\"stroke-width:2\" />\n",
       "\n",
       "  <!-- Colored Rectangle -->\n",
       "  <polygon points=\"0.0,0.0 43.88583450710766,0.0 43.88583450710766,43.88583450710766 0.0,43.88583450710766\" style=\"fill:#ECB172A0;stroke-width:0\"/>\n",
       "\n",
       "  <!-- Text -->\n",
       "  <text x=\"21.942917\" y=\"63.885835\" font-size=\"1.0rem\" font-weight=\"100\" text-anchor=\"middle\" >1</text>\n",
       "  <text x=\"63.885835\" y=\"21.942917\" font-size=\"1.0rem\" font-weight=\"100\" text-anchor=\"middle\" transform=\"rotate(0,63.885835,21.942917)\">1</text>\n",
       "\n",
       "\n",
       "  <!-- Horizontal lines -->\n",
       "  <line x1=\"113\" y1=\"0\" x2=\"183\" y2=\"70\" style=\"stroke-width:2\" />\n",
       "  <line x1=\"113\" y1=\"120\" x2=\"183\" y2=\"190\" style=\"stroke-width:2\" />\n",
       "\n",
       "  <!-- Vertical lines -->\n",
       "  <line x1=\"113\" y1=\"0\" x2=\"113\" y2=\"120\" style=\"stroke-width:2\" />\n",
       "  <line x1=\"183\" y1=\"70\" x2=\"183\" y2=\"190\" style=\"stroke-width:2\" />\n",
       "\n",
       "  <!-- Colored Rectangle -->\n",
       "  <polygon points=\"113.0,0.0 183.58823529411765,70.58823529411765 183.58823529411765,190.58823529411765 113.0,120.0\" style=\"fill:#ECB172A0;stroke-width:0\"/>\n",
       "\n",
       "  <!-- Horizontal lines -->\n",
       "  <line x1=\"113\" y1=\"0\" x2=\"233\" y2=\"0\" style=\"stroke-width:2\" />\n",
       "  <line x1=\"183\" y1=\"70\" x2=\"303\" y2=\"70\" style=\"stroke-width:2\" />\n",
       "\n",
       "  <!-- Vertical lines -->\n",
       "  <line x1=\"113\" y1=\"0\" x2=\"183\" y2=\"70\" style=\"stroke-width:2\" />\n",
       "  <line x1=\"233\" y1=\"0\" x2=\"303\" y2=\"70\" style=\"stroke-width:2\" />\n",
       "\n",
       "  <!-- Colored Rectangle -->\n",
       "  <polygon points=\"113.0,0.0 233.0,0.0 303.5882352941177,70.58823529411765 183.58823529411765,70.58823529411765\" style=\"fill:#ECB172A0;stroke-width:0\"/>\n",
       "\n",
       "  <!-- Horizontal lines -->\n",
       "  <line x1=\"183\" y1=\"70\" x2=\"303\" y2=\"70\" style=\"stroke-width:2\" />\n",
       "  <line x1=\"183\" y1=\"190\" x2=\"303\" y2=\"190\" style=\"stroke-width:2\" />\n",
       "\n",
       "  <!-- Vertical lines -->\n",
       "  <line x1=\"183\" y1=\"70\" x2=\"183\" y2=\"190\" style=\"stroke-width:2\" />\n",
       "  <line x1=\"303\" y1=\"70\" x2=\"303\" y2=\"190\" style=\"stroke-width:2\" />\n",
       "\n",
       "  <!-- Colored Rectangle -->\n",
       "  <polygon points=\"183.58823529411765,70.58823529411765 303.5882352941177,70.58823529411765 303.5882352941177,190.58823529411765 183.58823529411765,190.58823529411765\" style=\"fill:#ECB172A0;stroke-width:0\"/>\n",
       "\n",
       "  <!-- Text -->\n",
       "  <text x=\"243.588235\" y=\"210.588235\" font-size=\"1.0rem\" font-weight=\"100\" text-anchor=\"middle\" >3</text>\n",
       "  <text x=\"323.588235\" y=\"130.588235\" font-size=\"1.0rem\" font-weight=\"100\" text-anchor=\"middle\" transform=\"rotate(0,323.588235,130.588235)\">3</text>\n",
       "  <text x=\"138.294118\" y=\"175.294118\" font-size=\"1.0rem\" font-weight=\"100\" text-anchor=\"middle\" transform=\"rotate(45,138.294118,175.294118)\">3</text>\n",
       "</svg>\n",
       "        </td>\n",
       "    </tr>\n",
       "</table>"
      ],
      "text/plain": [
       "dask.array<reshape, shape=(1, 3, 3, 3), dtype=float64, chunksize=(1, 3, 3, 3), chunktype=numpy.ndarray>"
      ]
     },
     "execution_count": 3,
     "metadata": {},
     "output_type": "execute_result"
    }
   ],
   "source": [
    "indexes = (\n",
    "    np.array([[[[3]], [[4]], [[5]]]]),\n",
    "    np.array([[[[2], [3], [5]]]]),\n",
    "    np.array([[[[6, 5, 7]]]]),\n",
    ")\n",
    "x.vindex[indexes]"
   ]
  },
  {
   "cell_type": "markdown",
   "id": "818d83f1-2f44-421e-83f5-7342531d5dba",
   "metadata": {},
   "source": [
    "## The Problem with Dask's vindex"
   ]
  },
  {
   "cell_type": "markdown",
   "id": "f8793bfe-a483-4e08-b6ea-56349eb75397",
   "metadata": {},
   "source": [
    "The problem with `vindex` is its lack of optimization. The current implementation relies on point-wise indexing, causing both the initialization time and the size of the task graph to scale proportionally with the number of points to extract."
   ]
  },
  {
   "cell_type": "code",
   "execution_count": 4,
   "id": "770f0ec0-561d-48f0-8ad1-7270c6c7f982",
   "metadata": {},
   "outputs": [],
   "source": [
    "from fast_vindex.testing import generate_fancy_indexes"
   ]
  },
  {
   "cell_type": "code",
   "execution_count": 5,
   "id": "61ad977a-2c90-4434-8e36-47b6f7d38dd8",
   "metadata": {},
   "outputs": [
    {
     "data": {
      "text/html": [
       "<table>\n",
       "    <tr>\n",
       "        <td>\n",
       "            <table style=\"border-collapse: collapse;\">\n",
       "                <thead>\n",
       "                    <tr>\n",
       "                        <td> </td>\n",
       "                        <th> Array </th>\n",
       "                        <th> Chunk </th>\n",
       "                    </tr>\n",
       "                </thead>\n",
       "                <tbody>\n",
       "                    \n",
       "                    <tr>\n",
       "                        <th> Bytes </th>\n",
       "                        <td> 0.91 TiB </td>\n",
       "                        <td> 0.93 GiB </td>\n",
       "                    </tr>\n",
       "                    \n",
       "                    <tr>\n",
       "                        <th> Shape </th>\n",
       "                        <td> (5000, 5000, 5000) </td>\n",
       "                        <td> (500, 500, 500) </td>\n",
       "                    </tr>\n",
       "                    <tr>\n",
       "                        <th> Dask graph </th>\n",
       "                        <td colspan=\"2\"> 1000 chunks in 1 graph layer </td>\n",
       "                    </tr>\n",
       "                    <tr>\n",
       "                        <th> Data type </th>\n",
       "                        <td colspan=\"2\"> float64 numpy.ndarray </td>\n",
       "                    </tr>\n",
       "                </tbody>\n",
       "            </table>\n",
       "        </td>\n",
       "        <td>\n",
       "        <svg width=\"250\" height=\"240\" style=\"stroke:rgb(0,0,0);stroke-width:1\" >\n",
       "\n",
       "  <!-- Horizontal lines -->\n",
       "  <line x1=\"10\" y1=\"0\" x2=\"80\" y2=\"70\" style=\"stroke-width:2\" />\n",
       "  <line x1=\"10\" y1=\"12\" x2=\"80\" y2=\"82\" />\n",
       "  <line x1=\"10\" y1=\"24\" x2=\"80\" y2=\"94\" />\n",
       "  <line x1=\"10\" y1=\"36\" x2=\"80\" y2=\"106\" />\n",
       "  <line x1=\"10\" y1=\"48\" x2=\"80\" y2=\"118\" />\n",
       "  <line x1=\"10\" y1=\"60\" x2=\"80\" y2=\"130\" />\n",
       "  <line x1=\"10\" y1=\"72\" x2=\"80\" y2=\"142\" />\n",
       "  <line x1=\"10\" y1=\"84\" x2=\"80\" y2=\"154\" />\n",
       "  <line x1=\"10\" y1=\"96\" x2=\"80\" y2=\"166\" />\n",
       "  <line x1=\"10\" y1=\"108\" x2=\"80\" y2=\"178\" />\n",
       "  <line x1=\"10\" y1=\"120\" x2=\"80\" y2=\"190\" style=\"stroke-width:2\" />\n",
       "\n",
       "  <!-- Vertical lines -->\n",
       "  <line x1=\"10\" y1=\"0\" x2=\"10\" y2=\"120\" style=\"stroke-width:2\" />\n",
       "  <line x1=\"17\" y1=\"7\" x2=\"17\" y2=\"127\" />\n",
       "  <line x1=\"24\" y1=\"14\" x2=\"24\" y2=\"134\" />\n",
       "  <line x1=\"31\" y1=\"21\" x2=\"31\" y2=\"141\" />\n",
       "  <line x1=\"38\" y1=\"28\" x2=\"38\" y2=\"148\" />\n",
       "  <line x1=\"45\" y1=\"35\" x2=\"45\" y2=\"155\" />\n",
       "  <line x1=\"52\" y1=\"42\" x2=\"52\" y2=\"162\" />\n",
       "  <line x1=\"59\" y1=\"49\" x2=\"59\" y2=\"169\" />\n",
       "  <line x1=\"66\" y1=\"56\" x2=\"66\" y2=\"176\" />\n",
       "  <line x1=\"73\" y1=\"63\" x2=\"73\" y2=\"183\" />\n",
       "  <line x1=\"80\" y1=\"70\" x2=\"80\" y2=\"190\" style=\"stroke-width:2\" />\n",
       "\n",
       "  <!-- Colored Rectangle -->\n",
       "  <polygon points=\"10.0,0.0 80.58823529411765,70.58823529411765 80.58823529411765,190.58823529411765 10.0,120.0\" style=\"fill:#ECB172A0;stroke-width:0\"/>\n",
       "\n",
       "  <!-- Horizontal lines -->\n",
       "  <line x1=\"10\" y1=\"0\" x2=\"130\" y2=\"0\" style=\"stroke-width:2\" />\n",
       "  <line x1=\"17\" y1=\"7\" x2=\"137\" y2=\"7\" />\n",
       "  <line x1=\"24\" y1=\"14\" x2=\"144\" y2=\"14\" />\n",
       "  <line x1=\"31\" y1=\"21\" x2=\"151\" y2=\"21\" />\n",
       "  <line x1=\"38\" y1=\"28\" x2=\"158\" y2=\"28\" />\n",
       "  <line x1=\"45\" y1=\"35\" x2=\"165\" y2=\"35\" />\n",
       "  <line x1=\"52\" y1=\"42\" x2=\"172\" y2=\"42\" />\n",
       "  <line x1=\"59\" y1=\"49\" x2=\"179\" y2=\"49\" />\n",
       "  <line x1=\"66\" y1=\"56\" x2=\"186\" y2=\"56\" />\n",
       "  <line x1=\"73\" y1=\"63\" x2=\"193\" y2=\"63\" />\n",
       "  <line x1=\"80\" y1=\"70\" x2=\"200\" y2=\"70\" style=\"stroke-width:2\" />\n",
       "\n",
       "  <!-- Vertical lines -->\n",
       "  <line x1=\"10\" y1=\"0\" x2=\"80\" y2=\"70\" style=\"stroke-width:2\" />\n",
       "  <line x1=\"22\" y1=\"0\" x2=\"92\" y2=\"70\" />\n",
       "  <line x1=\"34\" y1=\"0\" x2=\"104\" y2=\"70\" />\n",
       "  <line x1=\"46\" y1=\"0\" x2=\"116\" y2=\"70\" />\n",
       "  <line x1=\"58\" y1=\"0\" x2=\"128\" y2=\"70\" />\n",
       "  <line x1=\"70\" y1=\"0\" x2=\"140\" y2=\"70\" />\n",
       "  <line x1=\"82\" y1=\"0\" x2=\"152\" y2=\"70\" />\n",
       "  <line x1=\"94\" y1=\"0\" x2=\"164\" y2=\"70\" />\n",
       "  <line x1=\"106\" y1=\"0\" x2=\"176\" y2=\"70\" />\n",
       "  <line x1=\"118\" y1=\"0\" x2=\"188\" y2=\"70\" />\n",
       "  <line x1=\"130\" y1=\"0\" x2=\"200\" y2=\"70\" style=\"stroke-width:2\" />\n",
       "\n",
       "  <!-- Colored Rectangle -->\n",
       "  <polygon points=\"10.0,0.0 130.0,0.0 200.58823529411765,70.58823529411765 80.58823529411765,70.58823529411765\" style=\"fill:#ECB172A0;stroke-width:0\"/>\n",
       "\n",
       "  <!-- Horizontal lines -->\n",
       "  <line x1=\"80\" y1=\"70\" x2=\"200\" y2=\"70\" style=\"stroke-width:2\" />\n",
       "  <line x1=\"80\" y1=\"82\" x2=\"200\" y2=\"82\" />\n",
       "  <line x1=\"80\" y1=\"94\" x2=\"200\" y2=\"94\" />\n",
       "  <line x1=\"80\" y1=\"106\" x2=\"200\" y2=\"106\" />\n",
       "  <line x1=\"80\" y1=\"118\" x2=\"200\" y2=\"118\" />\n",
       "  <line x1=\"80\" y1=\"130\" x2=\"200\" y2=\"130\" />\n",
       "  <line x1=\"80\" y1=\"142\" x2=\"200\" y2=\"142\" />\n",
       "  <line x1=\"80\" y1=\"154\" x2=\"200\" y2=\"154\" />\n",
       "  <line x1=\"80\" y1=\"166\" x2=\"200\" y2=\"166\" />\n",
       "  <line x1=\"80\" y1=\"178\" x2=\"200\" y2=\"178\" />\n",
       "  <line x1=\"80\" y1=\"190\" x2=\"200\" y2=\"190\" style=\"stroke-width:2\" />\n",
       "\n",
       "  <!-- Vertical lines -->\n",
       "  <line x1=\"80\" y1=\"70\" x2=\"80\" y2=\"190\" style=\"stroke-width:2\" />\n",
       "  <line x1=\"92\" y1=\"70\" x2=\"92\" y2=\"190\" />\n",
       "  <line x1=\"104\" y1=\"70\" x2=\"104\" y2=\"190\" />\n",
       "  <line x1=\"116\" y1=\"70\" x2=\"116\" y2=\"190\" />\n",
       "  <line x1=\"128\" y1=\"70\" x2=\"128\" y2=\"190\" />\n",
       "  <line x1=\"140\" y1=\"70\" x2=\"140\" y2=\"190\" />\n",
       "  <line x1=\"152\" y1=\"70\" x2=\"152\" y2=\"190\" />\n",
       "  <line x1=\"164\" y1=\"70\" x2=\"164\" y2=\"190\" />\n",
       "  <line x1=\"176\" y1=\"70\" x2=\"176\" y2=\"190\" />\n",
       "  <line x1=\"188\" y1=\"70\" x2=\"188\" y2=\"190\" />\n",
       "  <line x1=\"200\" y1=\"70\" x2=\"200\" y2=\"190\" style=\"stroke-width:2\" />\n",
       "\n",
       "  <!-- Colored Rectangle -->\n",
       "  <polygon points=\"80.58823529411765,70.58823529411765 200.58823529411765,70.58823529411765 200.58823529411765,190.58823529411765 80.58823529411765,190.58823529411765\" style=\"fill:#ECB172A0;stroke-width:0\"/>\n",
       "\n",
       "  <!-- Text -->\n",
       "  <text x=\"140.588235\" y=\"210.588235\" font-size=\"1.0rem\" font-weight=\"100\" text-anchor=\"middle\" >5000</text>\n",
       "  <text x=\"220.588235\" y=\"130.588235\" font-size=\"1.0rem\" font-weight=\"100\" text-anchor=\"middle\" transform=\"rotate(-90,220.588235,130.588235)\">5000</text>\n",
       "  <text x=\"35.294118\" y=\"175.294118\" font-size=\"1.0rem\" font-weight=\"100\" text-anchor=\"middle\" transform=\"rotate(45,35.294118,175.294118)\">5000</text>\n",
       "</svg>\n",
       "        </td>\n",
       "    </tr>\n",
       "</table>"
      ],
      "text/plain": [
       "dask.array<random_sample, shape=(5000, 5000, 5000), dtype=float64, chunksize=(500, 500, 500), chunktype=numpy.ndarray>"
      ]
     },
     "execution_count": 5,
     "metadata": {},
     "output_type": "execute_result"
    }
   ],
   "source": [
    "shape = (5_000, 5_000, 5_000)\n",
    "chunks = (500, 500, 500)\n",
    "x = da.random.random(shape, chunks=chunks) \n",
    "x "
   ]
  },
  {
   "cell_type": "code",
   "execution_count": 6,
   "id": "b6f1daad-99ec-47fe-8afe-c3d77b636887",
   "metadata": {},
   "outputs": [],
   "source": [
    "indexes = generate_fancy_indexes(x, n=100, padding=10)"
   ]
  },
  {
   "cell_type": "code",
   "execution_count": 7,
   "id": "ffba2279-6fcc-47c6-9866-2a04a9802ce4",
   "metadata": {},
   "outputs": [
    {
     "name": "stdout",
     "output_type": "stream",
     "text": [
      "CPU times: user 3.17 s, sys: 228 ms, total: 3.4 s\n",
      "Wall time: 3.4 s\n"
     ]
    },
    {
     "data": {
      "text/html": [
       "<table>\n",
       "    <tr>\n",
       "        <td>\n",
       "            <table style=\"border-collapse: collapse;\">\n",
       "                <thead>\n",
       "                    <tr>\n",
       "                        <td> </td>\n",
       "                        <th> Array </th>\n",
       "                        <th> Chunk </th>\n",
       "                    </tr>\n",
       "                </thead>\n",
       "                <tbody>\n",
       "                    \n",
       "                    <tr>\n",
       "                        <th> Bytes </th>\n",
       "                        <td> 6.10 MiB </td>\n",
       "                        <td> 6.10 MiB </td>\n",
       "                    </tr>\n",
       "                    \n",
       "                    <tr>\n",
       "                        <th> Shape </th>\n",
       "                        <td> (100, 20, 20, 20) </td>\n",
       "                        <td> (100, 20, 20, 20) </td>\n",
       "                    </tr>\n",
       "                    <tr>\n",
       "                        <th> Dask graph </th>\n",
       "                        <td colspan=\"2\"> 1 chunks in 3 graph layers </td>\n",
       "                    </tr>\n",
       "                    <tr>\n",
       "                        <th> Data type </th>\n",
       "                        <td colspan=\"2\"> float64 numpy.ndarray </td>\n",
       "                    </tr>\n",
       "                </tbody>\n",
       "            </table>\n",
       "        </td>\n",
       "        <td>\n",
       "        <svg width=\"496\" height=\"116\" style=\"stroke:rgb(0,0,0);stroke-width:1\" >\n",
       "\n",
       "  <!-- Horizontal lines -->\n",
       "  <line x1=\"0\" y1=\"0\" x2=\"120\" y2=\"0\" style=\"stroke-width:2\" />\n",
       "  <line x1=\"0\" y1=\"25\" x2=\"120\" y2=\"25\" style=\"stroke-width:2\" />\n",
       "\n",
       "  <!-- Vertical lines -->\n",
       "  <line x1=\"0\" y1=\"0\" x2=\"0\" y2=\"25\" style=\"stroke-width:2\" />\n",
       "  <line x1=\"120\" y1=\"0\" x2=\"120\" y2=\"25\" style=\"stroke-width:2\" />\n",
       "\n",
       "  <!-- Colored Rectangle -->\n",
       "  <polygon points=\"0.0,0.0 120.0,0.0 120.0,25.412616514582485 0.0,25.412616514582485\" style=\"fill:#ECB172A0;stroke-width:0\"/>\n",
       "\n",
       "  <!-- Text -->\n",
       "  <text x=\"60.000000\" y=\"45.412617\" font-size=\"1.0rem\" font-weight=\"100\" text-anchor=\"middle\" >100</text>\n",
       "  <text x=\"140.000000\" y=\"12.706308\" font-size=\"1.0rem\" font-weight=\"100\" text-anchor=\"middle\" transform=\"rotate(0,140.000000,12.706308)\">1</text>\n",
       "\n",
       "\n",
       "  <!-- Horizontal lines -->\n",
       "  <line x1=\"190\" y1=\"0\" x2=\"214\" y2=\"24\" style=\"stroke-width:2\" />\n",
       "  <line x1=\"190\" y1=\"42\" x2=\"214\" y2=\"66\" style=\"stroke-width:2\" />\n",
       "\n",
       "  <!-- Vertical lines -->\n",
       "  <line x1=\"190\" y1=\"0\" x2=\"190\" y2=\"42\" style=\"stroke-width:2\" />\n",
       "  <line x1=\"214\" y1=\"24\" x2=\"214\" y2=\"66\" style=\"stroke-width:2\" />\n",
       "\n",
       "  <!-- Colored Rectangle -->\n",
       "  <polygon points=\"190.0,0.0 214.71170017471175,24.71170017471176 214.71170017471175,66.72159047172175 190.0,42.00989029700999\" style=\"fill:#ECB172A0;stroke-width:0\"/>\n",
       "\n",
       "  <!-- Horizontal lines -->\n",
       "  <line x1=\"190\" y1=\"0\" x2=\"232\" y2=\"0\" style=\"stroke-width:2\" />\n",
       "  <line x1=\"214\" y1=\"24\" x2=\"256\" y2=\"24\" style=\"stroke-width:2\" />\n",
       "\n",
       "  <!-- Vertical lines -->\n",
       "  <line x1=\"190\" y1=\"0\" x2=\"214\" y2=\"24\" style=\"stroke-width:2\" />\n",
       "  <line x1=\"232\" y1=\"0\" x2=\"256\" y2=\"24\" style=\"stroke-width:2\" />\n",
       "\n",
       "  <!-- Colored Rectangle -->\n",
       "  <polygon points=\"190.0,0.0 232.00989029700997,0.0 256.72159047172175,24.71170017471176 214.71170017471175,24.71170017471176\" style=\"fill:#ECB172A0;stroke-width:0\"/>\n",
       "\n",
       "  <!-- Horizontal lines -->\n",
       "  <line x1=\"214\" y1=\"24\" x2=\"256\" y2=\"24\" style=\"stroke-width:2\" />\n",
       "  <line x1=\"214\" y1=\"66\" x2=\"256\" y2=\"66\" style=\"stroke-width:2\" />\n",
       "\n",
       "  <!-- Vertical lines -->\n",
       "  <line x1=\"214\" y1=\"24\" x2=\"214\" y2=\"66\" style=\"stroke-width:2\" />\n",
       "  <line x1=\"256\" y1=\"24\" x2=\"256\" y2=\"66\" style=\"stroke-width:2\" />\n",
       "\n",
       "  <!-- Colored Rectangle -->\n",
       "  <polygon points=\"214.71170017471175,24.71170017471176 256.72159047172175,24.71170017471176 256.72159047172175,66.72159047172175 214.71170017471175,66.72159047172175\" style=\"fill:#ECB172A0;stroke-width:0\"/>\n",
       "\n",
       "  <!-- Text -->\n",
       "  <text x=\"235.716645\" y=\"86.721590\" font-size=\"1.0rem\" font-weight=\"100\" text-anchor=\"middle\" >20</text>\n",
       "  <text x=\"276.721590\" y=\"45.716645\" font-size=\"1.0rem\" font-weight=\"100\" text-anchor=\"middle\" transform=\"rotate(0,276.721590,45.716645)\">20</text>\n",
       "  <text x=\"192.355850\" y=\"74.365740\" font-size=\"1.0rem\" font-weight=\"100\" text-anchor=\"middle\" transform=\"rotate(45,192.355850,74.365740)\">20</text>\n",
       "</svg>\n",
       "        </td>\n",
       "    </tr>\n",
       "</table>"
      ],
      "text/plain": [
       "dask.array<reshape, shape=(100, 20, 20, 20), dtype=float64, chunksize=(100, 20, 20, 20), chunktype=numpy.ndarray>"
      ]
     },
     "execution_count": 7,
     "metadata": {},
     "output_type": "execute_result"
    }
   ],
   "source": [
    "%%time\n",
    "x.vindex[indexes]"
   ]
  },
  {
   "cell_type": "markdown",
   "id": "9454c2ef-95b6-4140-9942-287cd5e8c8ec",
   "metadata": {},
   "source": [
    "**If the number of minicubes to extract doubles**"
   ]
  },
  {
   "cell_type": "code",
   "execution_count": 8,
   "id": "2bc31ca8-0cc1-48d2-8cea-add9ff1f7a97",
   "metadata": {},
   "outputs": [],
   "source": [
    "indexes = generate_fancy_indexes(x, n=200, padding=10)"
   ]
  },
  {
   "cell_type": "code",
   "execution_count": 9,
   "id": "8c313517-e2c1-4285-9f53-7146851fbe59",
   "metadata": {},
   "outputs": [
    {
     "name": "stdout",
     "output_type": "stream",
     "text": [
      "CPU times: user 6.77 s, sys: 308 ms, total: 7.08 s\n",
      "Wall time: 7.08 s\n"
     ]
    }
   ],
   "source": [
    "%%time\n",
    "_ = x.vindex[indexes]"
   ]
  },
  {
   "cell_type": "markdown",
   "id": "0108b454-924c-40ba-a0ca-4a1be949bd31",
   "metadata": {},
   "source": [
    "Doubling the number of minicubes doubles the task graph creation time."
   ]
  },
  {
   "cell_type": "markdown",
   "id": "15ce6ba9-af2e-4491-8668-402381cf8855",
   "metadata": {},
   "source": [
    "**If the dimensions of the minicubes to extract double**"
   ]
  },
  {
   "cell_type": "code",
   "execution_count": 10,
   "id": "a3a119bf-51be-4929-9416-fbd50d19f182",
   "metadata": {},
   "outputs": [],
   "source": [
    "indexes = generate_fancy_indexes(x, n=100, padding=20)"
   ]
  },
  {
   "cell_type": "code",
   "execution_count": 11,
   "id": "9809d410-3470-45b9-a8e7-aa5c98da1bc0",
   "metadata": {},
   "outputs": [
    {
     "name": "stdout",
     "output_type": "stream",
     "text": [
      "CPU times: user 29.4 s, sys: 1.44 s, total: 30.9 s\n",
      "Wall time: 30.9 s\n"
     ]
    }
   ],
   "source": [
    "%%time\n",
    "_ = x.vindex[indexes]"
   ]
  },
  {
   "cell_type": "markdown",
   "id": "276793cb-59c4-4362-a4b2-ff4dd0b9ae58",
   "metadata": {},
   "source": [
    "Doubling the dimensions of the minicubes multiplies the task graph creation time by 8 (2³)."
   ]
  },
  {
   "cell_type": "markdown",
   "id": "5216fd9a-1757-4008-81b6-5e4bfc9c3475",
   "metadata": {},
   "source": [
    "## What `fast-vindex` Offers"
   ]
  },
  {
   "cell_type": "markdown",
   "id": "ddd4726c-05b8-4711-b3ea-df9cc44930e0",
   "metadata": {},
   "source": [
    "`fast-vindex` aims to avoid point-wise indexing. To achieve this, the idea is to split the indices into sub-indices that correspond to chunk boundaries. While this introduces other challenges, it results in significant time savings."
   ]
  },
  {
   "cell_type": "markdown",
   "id": "680279b8-35ee-4ed5-b96b-f78cecae9a57",
   "metadata": {},
   "source": [
    "![](/_static/performance_comparison_vindex_vs_fast_vindex.png)"
   ]
  },
  {
   "cell_type": "markdown",
   "id": "df950ad6-7f8d-4ab9-bc17-85f16c6d2f2d",
   "metadata": {},
   "source": [
    "```{note}\n",
    "In this study, this represents a performance coefficient of 35.\n",
    "```"
   ]
  },
  {
   "cell_type": "code",
   "execution_count": null,
   "id": "37eefac1-7b8b-4c16-848c-96cdd0bb6831",
   "metadata": {},
   "outputs": [],
   "source": []
  }
 ],
 "metadata": {
  "kernelspec": {
   "display_name": "Python [conda env:odatis-dev] *",
   "language": "python",
   "name": "conda-env-odatis-dev-py"
  },
  "language_info": {
   "codemirror_mode": {
    "name": "ipython",
    "version": 3
   },
   "file_extension": ".py",
   "mimetype": "text/x-python",
   "name": "python",
   "nbconvert_exporter": "python",
   "pygments_lexer": "ipython3",
   "version": "3.12.8"
  }
 },
 "nbformat": 4,
 "nbformat_minor": 5
}
