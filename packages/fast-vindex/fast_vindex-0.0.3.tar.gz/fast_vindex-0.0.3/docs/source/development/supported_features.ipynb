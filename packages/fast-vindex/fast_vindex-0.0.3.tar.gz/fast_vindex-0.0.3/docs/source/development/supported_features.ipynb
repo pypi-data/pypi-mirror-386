{
 "cells": [
  {
   "cell_type": "markdown",
   "id": "7cf03cde-e9d0-459b-84a4-d24f098bd400",
   "metadata": {},
   "source": [
    "```{eval-rst}\n",
    ".. _supported-features:\n",
    "```\n",
    "\n",
    "# Supported Features"
   ]
  },
  {
   "cell_type": "markdown",
   "id": "7cee267e-15a6-4f11-b702-f0da548a0a89",
   "metadata": {},
   "source": [
    "`vindex` was developed in response to a specific problem (see [Initial Scientific Challenge](#scientific_challenge)), which is why the current implementation does not support the full range of features of the original function."
   ]
  },
  {
   "cell_type": "markdown",
   "id": "01eaf0a7-4083-4bb4-bef0-9aa2c281196a",
   "metadata": {},
   "source": [
    "## What Is Supported?"
   ]
  },
  {
   "cell_type": "markdown",
   "id": "035884df-d80b-4511-ba83-fde1784ee4ac",
   "metadata": {},
   "source": [
    "`fast-vindex` supports indexing using an `N-dimensional list of observations`."
   ]
  },
  {
   "cell_type": "markdown",
   "id": "a8a091d6-b95a-43f5-ac1b-73b91cc7933d",
   "metadata": {},
   "source": [
    "### Example: The Basic Case"
   ]
  },
  {
   "cell_type": "markdown",
   "id": "bd7650cd-8e68-44bb-b635-9700093a8e1e",
   "metadata": {},
   "source": [
    "The basic case involves extracting a set of minicubes (observations) from a datacube. In 2D, this is illustrated by the following example:"
   ]
  },
  {
   "cell_type": "code",
   "execution_count": 1,
   "id": "9850a1da-57c6-41cd-8710-c8fbf04bb67b",
   "metadata": {},
   "outputs": [],
   "source": [
    "import numpy as np\n",
    "from fast_vindex import patched_vindex\n",
    "\n",
    "from fast_vindex.testing import (\n",
    "    generate_darray,\n",
    "    DaskArray2D,\n",
    ")"
   ]
  },
  {
   "cell_type": "markdown",
   "id": "973bdbff-d35b-4232-bc38-182638aecb6f",
   "metadata": {},
   "source": [
    "Here is a classic datacube with the indexes we want to extract."
   ]
  },
  {
   "cell_type": "code",
   "execution_count": 2,
   "id": "5aa5903c-13ea-48ea-b308-167d84f7ccbe",
   "metadata": {},
   "outputs": [
    {
     "data": {
      "text/html": [
       "<table>\n",
       "    <tr>\n",
       "        <td>\n",
       "            <table style=\"border-collapse: collapse;\">\n",
       "                <thead>\n",
       "                    <tr>\n",
       "                        <td> </td>\n",
       "                        <th> Array </th>\n",
       "                        <th> Chunk </th>\n",
       "                    </tr>\n",
       "                </thead>\n",
       "                <tbody>\n",
       "                    \n",
       "                    <tr>\n",
       "                        <th> Bytes </th>\n",
       "                        <td> 648 B </td>\n",
       "                        <td> 72 B </td>\n",
       "                    </tr>\n",
       "                    \n",
       "                    <tr>\n",
       "                        <th> Shape </th>\n",
       "                        <td> (9, 9) </td>\n",
       "                        <td> (3, 3) </td>\n",
       "                    </tr>\n",
       "                    <tr>\n",
       "                        <th> Dask graph </th>\n",
       "                        <td colspan=\"2\"> 9 chunks in 1 graph layer </td>\n",
       "                    </tr>\n",
       "                    <tr>\n",
       "                        <th> Data type </th>\n",
       "                        <td colspan=\"2\"> object numpy.ndarray </td>\n",
       "                    </tr>\n",
       "                </tbody>\n",
       "            </table>\n",
       "        </td>\n",
       "        <td>\n",
       "        <svg width=\"170\" height=\"170\" style=\"stroke:rgb(0,0,0);stroke-width:1\" >\n",
       "\n",
       "  <!-- Horizontal lines -->\n",
       "  <line x1=\"0\" y1=\"0\" x2=\"120\" y2=\"0\" style=\"stroke-width:2\" />\n",
       "  <line x1=\"0\" y1=\"40\" x2=\"120\" y2=\"40\" />\n",
       "  <line x1=\"0\" y1=\"80\" x2=\"120\" y2=\"80\" />\n",
       "  <line x1=\"0\" y1=\"120\" x2=\"120\" y2=\"120\" style=\"stroke-width:2\" />\n",
       "\n",
       "  <!-- Vertical lines -->\n",
       "  <line x1=\"0\" y1=\"0\" x2=\"0\" y2=\"120\" style=\"stroke-width:2\" />\n",
       "  <line x1=\"40\" y1=\"0\" x2=\"40\" y2=\"120\" />\n",
       "  <line x1=\"80\" y1=\"0\" x2=\"80\" y2=\"120\" />\n",
       "  <line x1=\"120\" y1=\"0\" x2=\"120\" y2=\"120\" style=\"stroke-width:2\" />\n",
       "\n",
       "  <!-- Colored Rectangle -->\n",
       "  <polygon points=\"0.0,0.0 120.0,0.0 120.0,120.0 0.0,120.0\" style=\"fill:#ECB172A0;stroke-width:0\"/>\n",
       "\n",
       "  <!-- Text -->\n",
       "  <text x=\"60.000000\" y=\"140.000000\" font-size=\"1.0rem\" font-weight=\"100\" text-anchor=\"middle\" >9</text>\n",
       "  <text x=\"140.000000\" y=\"60.000000\" font-size=\"1.0rem\" font-weight=\"100\" text-anchor=\"middle\" transform=\"rotate(0,140.000000,60.000000)\">9</text>\n",
       "</svg>\n",
       "        </td>\n",
       "    </tr>\n",
       "</table>"
      ],
      "text/plain": [
       "dask.array<array, shape=(9, 9), dtype=object, chunksize=(3, 3), chunktype=numpy.ndarray>"
      ]
     },
     "execution_count": 2,
     "metadata": {},
     "output_type": "execute_result"
    }
   ],
   "source": [
    "x = generate_darray(shape=(9, 9), chunks=(3, 3), fmt=\"dindices\")\n",
    "x"
   ]
  },
  {
   "cell_type": "code",
   "execution_count": 3,
   "id": "801026cc-e828-4ac8-a0cc-23f4e8098b07",
   "metadata": {},
   "outputs": [
    {
     "data": {
      "text/plain": [
       "(array([[[1],\n",
       "         [2],\n",
       "         [3]],\n",
       " \n",
       "        [[4],\n",
       "         [5],\n",
       "         [6]]]),\n",
       " array([[[4, 5, 6]],\n",
       " \n",
       "        [[1, 2, 3]]]))"
      ]
     },
     "execution_count": 3,
     "metadata": {},
     "output_type": "execute_result"
    }
   ],
   "source": [
    "indexes = (\n",
    "    np.array([1, 2, 3, 4, 5, 6]).reshape(2, 3, 1), \n",
    "    np.array([4, 5, 6, 1, 2, 3]).reshape(2, 1, 3),\n",
    ")\n",
    "indexes"
   ]
  },
  {
   "cell_type": "markdown",
   "id": "f64ff0a3-2fe3-4f97-b6d1-ba90af706735",
   "metadata": {},
   "source": [
    "Here is a representation of the minicubes to be extracted within the datacube."
   ]
  },
  {
   "cell_type": "code",
   "execution_count": 4,
   "id": "402e1239-a231-4433-8195-a15398d7fd0d",
   "metadata": {},
   "outputs": [
    {
     "data": {
      "image/png": "[encoded data removed]",
      "text/plain": [
       "<Figure size 640x480 with 1 Axes>"
      ]
     },
     "metadata": {},
     "output_type": "display_data"
    }
   ],
   "source": [
    "da2d = DaskArray2D(x)\n",
    "da2d[indexes]"
   ]
  },
  {
   "cell_type": "code",
   "execution_count": 5,
   "id": "53715770-e3d0-4d7d-8dc4-3a9f24a19abe",
   "metadata": {},
   "outputs": [],
   "source": [
    "with patched_vindex():\n",
    "    result = x.vindex[indexes]\n",
    "values = result.compute()"
   ]
  }
 ],
 "metadata": {
  "kernelspec": {
   "display_name": "Python [conda env:fast-vindex-tests]",
   "language": "python",
   "name": "conda-env-fast-vindex-tests-py"
  },
  "language_info": {
   "codemirror_mode": {
    "name": "ipython",
    "version": 3
   },
   "file_extension": ".py",
   "mimetype": "text/x-python",
   "name": "python",
   "nbconvert_exporter": "python",
   "pygments_lexer": "ipython3",
   "version": "3.12.11"
  }
 },
 "nbformat": 4,
 "nbformat_minor": 5
}
