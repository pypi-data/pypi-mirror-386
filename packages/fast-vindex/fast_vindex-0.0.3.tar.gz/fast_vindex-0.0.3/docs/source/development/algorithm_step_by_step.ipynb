{
 "cells": [
  {
   "cell_type": "markdown",
   "id": "80ce4d85-9f74-489e-9dc8-1043d888094e",
   "metadata": {},
   "source": [
    "# Algorithm Step-by-step"
   ]
  },
  {
   "cell_type": "markdown",
   "id": "70b34a42-e7e7-4d4d-a63a-b1745079c7d2",
   "metadata": {},
   "source": [
    "To contribute to the development of the algorithm, it's important to understand how `fast-vindex` works in order to improve the performance of the original `vindex` function."
   ]
  },
  {
   "cell_type": "code",
   "execution_count": 1,
   "id": "c37f9697-82a8-4e76-97fb-6fa55ed209a6",
   "metadata": {},
   "outputs": [],
   "source": [
    "%load_ext autoreload\n",
    "%autoreload 2"
   ]
  },
  {
   "cell_type": "code",
   "execution_count": 2,
   "id": "c775efba-6940-4b5f-8786-6239d6b85dc0",
   "metadata": {},
   "outputs": [],
   "source": [
    "from collections import defaultdict\n",
    "\n",
    "from dask.array.core import Array\n",
    "from dask.highlevelgraph import HighLevelGraph\n",
    "from dask.threaded import get\n",
    "from dask._task_spec import Task, TaskRef, List\n",
    "import numpy as np\n",
    "\n",
    "from fast_vindex.testing import (\n",
    "    generate_darray,\n",
    "    DaskArray2D,\n",
    ")"
   ]
  },
  {
   "cell_type": "markdown",
   "id": "6c0e7b5a-5a5c-4b92-ae75-c55381c4cbbd",
   "metadata": {},
   "source": [
    "We start by generating a 2D Dask array that will serve as a reference for our indexing operations. Each value in the array is set to match its own coordinate, making it easy to visualize and verify the indexing behavior."
   ]
  },
  {
   "cell_type": "code",
   "execution_count": 4,
   "id": "62ec6075-12b8-40c9-86c8-89c9412c42e1",
   "metadata": {},
   "outputs": [],
   "source": [
    "x = generate_darray(shape=(9, 9), chunks=(3, 3), fmt=\"dindices\")"
   ]
  },
  {
   "cell_type": "markdown",
   "id": "c7872227-9d83-4a3d-af6a-968966dd94a2",
   "metadata": {},
   "source": [
    "## Simple Case"
   ]
  },
  {
   "cell_type": "markdown",
   "id": "0e77ccae-3d51-487a-83f3-5a3bc977dff8",
   "metadata": {},
   "source": [
    "### Step-by-Step"
   ]
  },
  {
   "cell_type": "markdown",
   "id": "ec9fcc97-849d-445f-9fea-8b6e368dd4cb",
   "metadata": {},
   "source": [
    "To understand how the new `vindex` implementation works, we’ll start with the simplest possible case. We will extract a subset from our Dask array using advanced (or \"fancy\") indexing."
   ]
  },
  {
   "cell_type": "code",
   "execution_count": 5,
   "id": "d5488e4e-c8d4-4297-8fae-d3ab47ca7e73",
   "metadata": {},
   "outputs": [],
   "source": [
    "indexes = (np.array([[1], [2], [3]]), np.array([[4, 5, 6]]))"
   ]
  },
  {
   "cell_type": "markdown",
   "id": "cab219bf-936a-4a21-8bba-84ce7b5e54b5",
   "metadata": {},
   "source": [
    "This is the result we expect to obtain."
   ]
  },
  {
   "cell_type": "code",
   "execution_count": 6,
   "id": "cfebcaf8-483a-43b4-b1d7-131430f2dd1f",
   "metadata": {},
   "outputs": [
    {
     "data": {
      "text/plain": [
       "array([['(1, 4)', '(1, 5)', '(1, 6)'],\n",
       "       ['(2, 4)', '(2, 5)', '(2, 6)'],\n",
       "       ['(3, 4)', '(3, 5)', '(3, 6)']], dtype=object)"
      ]
     },
     "execution_count": 6,
     "metadata": {},
     "output_type": "execute_result"
    }
   ],
   "source": [
    "ref_arr = x.vindex[indexes].compute()\n",
    "ref_arr"
   ]
  },
  {
   "cell_type": "markdown",
   "id": "f25dd8ef-e660-4dd0-82b4-6f758033fb8e",
   "metadata": {},
   "source": [
    "Alternatively, this extraction can be represented as follows."
   ]
  },
  {
   "cell_type": "code",
   "execution_count": 7,
   "id": "8ddc4bf9-cde7-44b4-92c7-2c2ee2e96970",
   "metadata": {},
   "outputs": [
    {
     "data": {
      "image/png": "[encoded data removed]",
      "text/plain": [
       "<Figure size 640x480 with 1 Axes>"
      ]
     },
     "metadata": {},
     "output_type": "display_data"
    }
   ],
   "source": [
    "da2d = DaskArray2D(x)\n",
    "da2d[indexes]"
   ]
  },
  {
   "cell_type": "markdown",
   "id": "b28c97ae-d530-447c-ab60-ad1addd2b374",
   "metadata": {},
   "source": [
    "In the following, we directly provide the index already split by block. Naturally, one of the key challenges of the algorithm is to compute these sub-indices automatically."
   ]
  },
  {
   "cell_type": "code",
   "execution_count": 8,
   "id": "918b7eed-7264-4d22-b490-9cebefd2e900",
   "metadata": {},
   "outputs": [],
   "source": [
    "# Shape of Output Blocks\n",
    "shape = (3, 3)\n",
    "\n",
    "# List of Block Coordinates in the Input Dask Array\n",
    "in_blocks = [ \n",
    "    (0, 1),\n",
    "    (0, 2),\n",
    "    (1, 1),\n",
    "    (1, 2), \n",
    "]\n",
    "\n",
    "# List of Block Coordinates in the Output Dask Array\n",
    "out_blocks = [\n",
    "    (0, 0)\n",
    "]\n",
    "\n",
    "# List of Subset Indices within a Block of the Input Dask Array\n",
    "in_indices = [\n",
    "    ([[1], [2]], [[1, 2]]),\n",
    "    ([[1], [2]], [[0]]),\n",
    "    ([[0]], [[1, 2]]),\n",
    "    ([[0]], [[0]]),\n",
    "]\n",
    "\n",
    "# List of Subset Indices within a Block of the Output Dask Array\n",
    "out_indices = [\n",
    "    ([[0], [1]], [[0, 1]]),\n",
    "    ([[0], [1]], [[2]]),\n",
    "    ([[2]], [[0, 1]]),\n",
    "    ([[2]], [[2]]),\n",
    "]"
   ]
  },
  {
   "cell_type": "markdown",
   "id": "451fa4a1-2e4d-4598-9dbd-1080fb9f1f91",
   "metadata": {},
   "source": [
    "The concept of `in_indices` and `out_indices` can be tricky to visualize. It’s simply a matter of reference frame.\n",
    "\n",
    "* `in_indices`: represent the indices of the parts we want to extract relative to the input block (the chunks).\n",
    "* `out_indices`: represent the indices of the parts we want to extract relative to the output block (the result).\n",
    "\n",
    "This can be visualized as follows:"
   ]
  },
  {
   "cell_type": "code",
   "execution_count": 9,
   "id": "ca886985-58a2-489d-b9bc-903f65c2ef47",
   "metadata": {},
   "outputs": [],
   "source": [
    "idx = 0\n",
    "da2d = DaskArray2D(x.blocks[*in_blocks[idx]])"
   ]
  },
  {
   "cell_type": "markdown",
   "id": "d45d3889-ed11-4152-8e89-dd6834014ced",
   "metadata": {},
   "source": [
    "Here is the representation of `in_indices`"
   ]
  },
  {
   "cell_type": "code",
   "execution_count": 10,
   "id": "50b28086-f74b-4cdf-8583-7da4c65ee49a",
   "metadata": {},
   "outputs": [
    {
     "data": {
      "image/png": "[encoded data removed]",
      "text/plain": [
       "<Figure size 640x480 with 1 Axes>"
      ]
     },
     "metadata": {},
     "output_type": "display_data"
    }
   ],
   "source": [
    "da2d[*in_indices[idx]] # Position of the subset within the input block"
   ]
  },
  {
   "cell_type": "markdown",
   "id": "75cc3ef6-b196-48f3-8dd0-7a55a86f4427",
   "metadata": {},
   "source": [
    "Here is the representation of `out_indices`"
   ]
  },
  {
   "cell_type": "code",
   "execution_count": 11,
   "id": "46ece034-7c62-488f-8eb8-b44911e953e5",
   "metadata": {},
   "outputs": [
    {
     "data": {
      "image/png": "[encoded data removed]",
      "text/plain": [
       "<Figure size 640x480 with 1 Axes>"
      ]
     },
     "metadata": {},
     "output_type": "display_data"
    }
   ],
   "source": [
    "da2d[*out_indices[idx]] # Position of the subset within the output block"
   ]
  },
  {
   "cell_type": "markdown",
   "id": "545569d1-7013-4092-a1e3-41d03d91fcd1",
   "metadata": {},
   "source": [
    "Now, the algorithm simply consists of extracting data from the input blocks at the `in_indices` positions and rewriting it at the `out_indices` positions within the output blocks."
   ]
  },
  {
   "cell_type": "code",
   "execution_count": 12,
   "id": "5e9d7eab-4fb5-439d-a0ae-bf562622f828",
   "metadata": {},
   "outputs": [],
   "source": [
    "def _vindex_slice(block, index):\n",
    "    \"\"\"Allows selecting a portion of a block based on an index.\"\"\"\n",
    "    block = block[index]\n",
    "    return block\n",
    "\n",
    "def _vindex_merge(shape, locations, values):\n",
    "    \"\"\"Allows merging multiple parts of a minicube according to their positions in the output blocks.\"\"\"\n",
    "    values = list(values)\n",
    "    y = np.empty(shape, dtype=object)\n",
    "    for loc, val in zip(locations, values):\n",
    "        y[loc] = val\n",
    "    return y"
   ]
  },
  {
   "cell_type": "code",
   "execution_count": 13,
   "id": "ee4ee456-3487-4a20-abcc-06aeefd23b86",
   "metadata": {},
   "outputs": [
    {
     "data": {
      "text/plain": [
       "array([['(1, 4)', '(1, 5)', '(1, 6)'],\n",
       "       ['(2, 4)', '(2, 5)', '(2, 6)'],\n",
       "       ['(3, 4)', '(3, 5)', '(3, 6)']], dtype=object)"
      ]
     },
     "execution_count": 13,
     "metadata": {},
     "output_type": "execute_result"
    }
   ],
   "source": [
    "values = []\n",
    "for i, (in_blk, in_idx) in enumerate(zip(in_blocks, in_indices)):\n",
    "\n",
    "    value = _vindex_slice(x.blocks[*in_blk].compute(), in_idx)\n",
    "    values.append(value)\n",
    "\n",
    "arr = _vindex_merge(shape, out_indices, values)\n",
    "arr"
   ]
  },
  {
   "cell_type": "markdown",
   "id": "c621fbb9-395c-4fd1-b446-bb43d91187fa",
   "metadata": {},
   "source": [
    "We can then verify if our algorithm worked by comparing the outputs."
   ]
  },
  {
   "cell_type": "code",
   "execution_count": 14,
   "id": "91f00c19-f844-4f73-b62e-be697a740590",
   "metadata": {},
   "outputs": [
    {
     "data": {
      "text/plain": [
       "True"
      ]
     },
     "execution_count": 14,
     "metadata": {},
     "output_type": "execute_result"
    }
   ],
   "source": [
    "np.array_equal(arr, ref_arr)"
   ]
  },
  {
   "cell_type": "markdown",
   "id": "96919957-0fcb-49c9-8f18-ac30845f9225",
   "metadata": {},
   "source": [
    "### Defining Lazy Tasks with Dask"
   ]
  },
  {
   "cell_type": "markdown",
   "id": "fac69ffa-8459-4877-ab44-186b351eaaeb",
   "metadata": {},
   "source": [
    "After working through a simple case, we now look at how to package this logic into a task graph."
   ]
  },
  {
   "cell_type": "code",
   "execution_count": 15,
   "id": "02c1f392-e368-48ac-a013-1e35787c6771",
   "metadata": {},
   "outputs": [],
   "source": [
    "name = 'vindex-slice'\n",
    "vindex_merge_name = \"vindex-merge\""
   ]
  },
  {
   "cell_type": "code",
   "execution_count": 16,
   "id": "88914d6d-d0b9-418f-95ea-4bcf13d8854c",
   "metadata": {},
   "outputs": [],
   "source": [
    "dsk = dict(x.dask) # {}\n",
    "out_blk = out_blocks[0]\n",
    "merge_inputs = defaultdict(list)\n",
    "merge_indexer = defaultdict(list)\n",
    "\n",
    "# SLICE\n",
    "for i, (in_blk, in_indice, out_indice) in enumerate(zip(in_blocks, in_indices, out_indices)):\n",
    "    k = (name, i)\n",
    "    dsk[k] = Task(\n",
    "        k,\n",
    "        _vindex_slice,\n",
    "        TaskRef((x.name,) + in_blk),\n",
    "        in_indice,\n",
    "    )\n",
    "\n",
    "    merge_inputs[out_blk].append(TaskRef(k))\n",
    "    merge_indexer[out_blk].append(out_indice)"
   ]
  },
  {
   "cell_type": "code",
   "execution_count": 17,
   "id": "9f1471f7-e52d-4c9b-995e-6bffcfa01a6f",
   "metadata": {},
   "outputs": [
    {
     "data": {
      "text/plain": [
       "array([['(1, 4)', '(1, 5)'],\n",
       "       ['(2, 4)', '(2, 5)']], dtype=object)"
      ]
     },
     "execution_count": 17,
     "metadata": {},
     "output_type": "execute_result"
    }
   ],
   "source": [
    "get(dsk, ('vindex-slice', 0))"
   ]
  },
  {
   "cell_type": "code",
   "execution_count": 18,
   "id": "10fdc68e-1524-4d09-8124-9a939b047707",
   "metadata": {},
   "outputs": [],
   "source": [
    "# MERGE\n",
    "for i in merge_inputs.keys():\n",
    "    k = (vindex_merge_name,) + i\n",
    "    dsk[k] = Task(\n",
    "        k,\n",
    "        _vindex_merge,\n",
    "        shape,\n",
    "        merge_indexer[i],\n",
    "        List(merge_inputs[i]),\n",
    "    )"
   ]
  },
  {
   "cell_type": "code",
   "execution_count": 19,
   "id": "ee512ebc-4914-49bb-8725-78737865809e",
   "metadata": {},
   "outputs": [
    {
     "data": {
      "text/plain": [
       "array([['(1, 4)', '(1, 5)', '(1, 6)'],\n",
       "       ['(2, 4)', '(2, 5)', '(2, 6)'],\n",
       "       ['(3, 4)', '(3, 5)', '(3, 6)']], dtype=object)"
      ]
     },
     "execution_count": 19,
     "metadata": {},
     "output_type": "execute_result"
    }
   ],
   "source": [
    "get(dsk, ('vindex-merge', 0, 0))"
   ]
  },
  {
   "cell_type": "code",
   "execution_count": 20,
   "id": "7c973c03-7c54-4a29-ad77-ad7f325c35a4",
   "metadata": {},
   "outputs": [
    {
     "data": {
      "text/html": [
       "<table>\n",
       "    <tr>\n",
       "        <td>\n",
       "            <table style=\"border-collapse: collapse;\">\n",
       "                <thead>\n",
       "                    <tr>\n",
       "                        <td> </td>\n",
       "                        <th> Array </th>\n",
       "                        <th> Chunk </th>\n",
       "                    </tr>\n",
       "                </thead>\n",
       "                <tbody>\n",
       "                    \n",
       "                    <tr>\n",
       "                        <th> Bytes </th>\n",
       "                        <td> 72 B </td>\n",
       "                        <td> 72 B </td>\n",
       "                    </tr>\n",
       "                    \n",
       "                    <tr>\n",
       "                        <th> Shape </th>\n",
       "                        <td> (3, 3) </td>\n",
       "                        <td> (3, 3) </td>\n",
       "                    </tr>\n",
       "                    <tr>\n",
       "                        <th> Dask graph </th>\n",
       "                        <td colspan=\"2\"> 1 chunks in 2 graph layers </td>\n",
       "                    </tr>\n",
       "                    <tr>\n",
       "                        <th> Data type </th>\n",
       "                        <td colspan=\"2\"> object numpy.ndarray </td>\n",
       "                    </tr>\n",
       "                </tbody>\n",
       "            </table>\n",
       "        </td>\n",
       "        <td>\n",
       "        <svg width=\"170\" height=\"170\" style=\"stroke:rgb(0,0,0);stroke-width:1\" >\n",
       "\n",
       "  <!-- Horizontal lines -->\n",
       "  <line x1=\"0\" y1=\"0\" x2=\"120\" y2=\"0\" style=\"stroke-width:2\" />\n",
       "  <line x1=\"0\" y1=\"120\" x2=\"120\" y2=\"120\" style=\"stroke-width:2\" />\n",
       "\n",
       "  <!-- Vertical lines -->\n",
       "  <line x1=\"0\" y1=\"0\" x2=\"0\" y2=\"120\" style=\"stroke-width:2\" />\n",
       "  <line x1=\"120\" y1=\"0\" x2=\"120\" y2=\"120\" style=\"stroke-width:2\" />\n",
       "\n",
       "  <!-- Colored Rectangle -->\n",
       "  <polygon points=\"0.0,0.0 120.0,0.0 120.0,120.0 0.0,120.0\" style=\"fill:#ECB172A0;stroke-width:0\"/>\n",
       "\n",
       "  <!-- Text -->\n",
       "  <text x=\"60.000000\" y=\"140.000000\" font-size=\"1.0rem\" font-weight=\"100\" text-anchor=\"middle\" >3</text>\n",
       "  <text x=\"140.000000\" y=\"60.000000\" font-size=\"1.0rem\" font-weight=\"100\" text-anchor=\"middle\" transform=\"rotate(0,140.000000,60.000000)\">3</text>\n",
       "</svg>\n",
       "        </td>\n",
       "    </tr>\n",
       "</table>"
      ],
      "text/plain": [
       "dask.array<vindex, shape=(3, 3), dtype=object, chunksize=(3, 3), chunktype=numpy.ndarray>"
      ]
     },
     "execution_count": 20,
     "metadata": {},
     "output_type": "execute_result"
    }
   ],
   "source": [
    "out_name = \"vindex-merge\"\n",
    "arr = Array(\n",
    "    HighLevelGraph.from_collections(out_name, dsk, dependencies=[x]),\n",
    "    name=out_name,\n",
    "    chunks=((3,),(3,)),\n",
    "    dtype=x.dtype,\n",
    "    meta=x._meta,\n",
    ")\n",
    "arr"
   ]
  },
  {
   "cell_type": "code",
   "execution_count": 21,
   "id": "f10bac48-6c60-4ce2-a722-3003defc9dfd",
   "metadata": {},
   "outputs": [
    {
     "data": {
      "text/plain": [
       "array([['(1, 4)', '(1, 5)', '(1, 6)'],\n",
       "       ['(2, 4)', '(2, 5)', '(2, 6)'],\n",
       "       ['(3, 4)', '(3, 5)', '(3, 6)']], dtype=object)"
      ]
     },
     "execution_count": 21,
     "metadata": {},
     "output_type": "execute_result"
    }
   ],
   "source": [
    "arr.compute()"
   ]
  },
  {
   "cell_type": "markdown",
   "id": "a4f7756e-a299-42d7-a366-2687883b77ab",
   "metadata": {},
   "source": [
    "## Advanced Case"
   ]
  },
  {
   "cell_type": "markdown",
   "id": "0542d901-20a1-4fc0-9454-2a93d7743aa3",
   "metadata": {},
   "source": [
    "### Step-by-Step"
   ]
  },
  {
   "cell_type": "markdown",
   "id": "5c3508c6-fc6e-4155-b893-4f41e412f0e6",
   "metadata": {},
   "source": [
    "In this more advanced case, here is the index we will be processing."
   ]
  },
  {
   "cell_type": "code",
   "execution_count": 22,
   "id": "ebba0008-fd96-468a-95d1-fd5b11901e76",
   "metadata": {},
   "outputs": [],
   "source": [
    "indexes = (np.array([[[1], [2], [3]], [[4], [5], [6]]]), np.array([[[4, 5, 6]], [[1, 2, 3]]]))"
   ]
  },
  {
   "cell_type": "markdown",
   "id": "573fd084-19e7-495b-a269-e487f1cb2aec",
   "metadata": {},
   "source": [
    "Here is the expected result."
   ]
  },
  {
   "cell_type": "code",
   "execution_count": 23,
   "id": "d34bac51-7148-4d94-b95b-3364dbdafbe6",
   "metadata": {},
   "outputs": [
    {
     "data": {
      "text/plain": [
       "array([[['(1, 4)', '(1, 5)', '(1, 6)'],\n",
       "        ['(2, 4)', '(2, 5)', '(2, 6)'],\n",
       "        ['(3, 4)', '(3, 5)', '(3, 6)']],\n",
       "\n",
       "       [['(4, 1)', '(4, 2)', '(4, 3)'],\n",
       "        ['(5, 1)', '(5, 2)', '(5, 3)'],\n",
       "        ['(6, 1)', '(6, 2)', '(6, 3)']]], dtype=object)"
      ]
     },
     "execution_count": 23,
     "metadata": {},
     "output_type": "execute_result"
    }
   ],
   "source": [
    "ref_arr = x.vindex[indexes].compute()\n",
    "ref_arr"
   ]
  },
  {
   "cell_type": "markdown",
   "id": "12871da1-2d2a-4175-849a-83966a71aa87",
   "metadata": {},
   "source": [
    "This extraction can also be represented as follows."
   ]
  },
  {
   "cell_type": "code",
   "execution_count": 24,
   "id": "8c0df8c7-cc17-42c5-8372-592280bcbff4",
   "metadata": {},
   "outputs": [
    {
     "data": {
      "image/png": "[encoded data removed]",
      "text/plain": [
       "<Figure size 640x480 with 1 Axes>"
      ]
     },
     "metadata": {},
     "output_type": "display_data"
    }
   ],
   "source": [
    "da2d = DaskArray2D(x)\n",
    "da2d[indexes]"
   ]
  },
  {
   "cell_type": "code",
   "execution_count": 25,
   "id": "10df0887-5a2a-4e67-b51d-65639772445f",
   "metadata": {},
   "outputs": [],
   "source": [
    "# Shape of Output Blocks\n",
    "shape = (2, 3, 3)\n",
    "\n",
    "# List of Block Coordinates in the Input Dask Array\n",
    "in_blocks = [\n",
    "    (0, 1),\n",
    "    (0, 2), \n",
    "    (1, 1), \n",
    "    (1, 2),\n",
    "    (1, 0),\n",
    "    (1, 1), \n",
    "    (2, 0), \n",
    "    (2, 1),\n",
    "]\n",
    "\n",
    "# List of Block Coordinates in the Output Dask Array\n",
    "out_blocks = [\n",
    "    (0, 0, 0)\n",
    "]\n",
    "\n",
    "minicubes = [\n",
    "    0, 0, 0, 0, 1, 1, 1, 1\n",
    "]\n",
    "\n",
    "# List of Subset Indices within a Block of the Input Dask Array\n",
    "in_indices = [\n",
    "    ([[1], [2]], [[1, 2]]),\n",
    "    ([[1], [2]], [[0]]),\n",
    "    ([[0]], [[1, 2]]),\n",
    "    ([[0]], [[0]]),\n",
    "    ([[1], [2]], [[1, 2]]),\n",
    "    ([[1], [2]], [[0]]),\n",
    "    ([[0]], [[1, 2]]),\n",
    "    ([[0]], [[0]]),\n",
    "]\n",
    "\n",
    "# List of Subset Indices within a Block of the Output Dask Array\n",
    "out_indices = [\n",
    "    ([[0], [1]], [[0, 1]]),\n",
    "    ([[0], [1]], [[2]]),\n",
    "    ([[2]], [[0, 1]]),\n",
    "    ([[2]], [[2]]),\n",
    "    ([[0], [1]], [[0, 1]]),\n",
    "    ([[0], [1]], [[2]]),\n",
    "    ([[2]], [[0, 1]]),\n",
    "    ([[2]], [[2]]),\n",
    "]"
   ]
  },
  {
   "cell_type": "code",
   "execution_count": 26,
   "id": "0805ddac-6eb2-466b-809b-7061c0c4e93b",
   "metadata": {},
   "outputs": [],
   "source": [
    "def _vindex_slice(block, index):\n",
    "    \"\"\"Allows selecting a portion of a block based on an index.\"\"\"\n",
    "    block = block[index]\n",
    "    return block\n",
    "\n",
    "def _vindex_merge(shape, locations, values, minicubes):\n",
    "    \"\"\"Allows merging multiple parts of a minicube according to their positions in the output blocks.\"\"\"\n",
    "    values = list(values)\n",
    "    y = np.empty(shape, dtype=object)\n",
    "    for loc, val, mc in zip(locations, values, minicubes):\n",
    "        y[mc][loc] = val\n",
    "    return y"
   ]
  },
  {
   "cell_type": "code",
   "execution_count": 27,
   "id": "b7bd3345-469f-41b5-af3e-0bc263eab9ec",
   "metadata": {},
   "outputs": [
    {
     "data": {
      "text/plain": [
       "array([[['(1, 4)', '(1, 5)', '(1, 6)'],\n",
       "        ['(2, 4)', '(2, 5)', '(2, 6)'],\n",
       "        ['(3, 4)', '(3, 5)', '(3, 6)']],\n",
       "\n",
       "       [['(4, 1)', '(4, 2)', '(4, 3)'],\n",
       "        ['(5, 1)', '(5, 2)', '(5, 3)'],\n",
       "        ['(6, 1)', '(6, 2)', '(6, 3)']]], dtype=object)"
      ]
     },
     "execution_count": 27,
     "metadata": {},
     "output_type": "execute_result"
    }
   ],
   "source": [
    "values = []\n",
    "for i, (in_blk, in_idx) in enumerate(zip(in_blocks, in_indices)):\n",
    "\n",
    "    value = _vindex_slice(x.blocks[*in_blk].compute(), in_idx)\n",
    "    values.append(value)\n",
    "\n",
    "arr = _vindex_merge(shape, out_indices, values, minicubes)\n",
    "arr"
   ]
  },
  {
   "cell_type": "code",
   "execution_count": 28,
   "id": "5f3b7355-4eb2-487a-a770-527dd6f39b33",
   "metadata": {},
   "outputs": [
    {
     "data": {
      "text/plain": [
       "True"
      ]
     },
     "execution_count": 28,
     "metadata": {},
     "output_type": "execute_result"
    }
   ],
   "source": [
    "np.array_equal(arr, ref_arr)"
   ]
  },
  {
   "cell_type": "markdown",
   "id": "e54e1d1c-5735-4bb3-afb7-bcbca18e334e",
   "metadata": {},
   "source": [
    "### Defining Lazy Tasks with Dask"
   ]
  },
  {
   "cell_type": "code",
   "execution_count": 29,
   "id": "26411268-4851-4bb5-b844-0364b3301a51",
   "metadata": {},
   "outputs": [],
   "source": [
    "name = 'vindex-slice'\n",
    "vindex_merge_name = \"vindex-merge\""
   ]
  },
  {
   "cell_type": "code",
   "execution_count": 30,
   "id": "77eeff33-dbe0-4728-bd71-bcda158b32ed",
   "metadata": {},
   "outputs": [],
   "source": [
    "dsk = {}\n",
    "out_blk = out_blocks[0]\n",
    "merge_inputs = defaultdict(list)\n",
    "merge_indexer = defaultdict(list)\n",
    "merge_minicube = defaultdict(list)\n",
    "\n",
    "# SLICE\n",
    "for i, (in_blk, in_indice, out_indice, minicube) in enumerate(zip(in_blocks, in_indices, out_indices, minicubes)):\n",
    "    #k = (name,) + in_blk\n",
    "    k = (name, i)\n",
    "    dsk[k] = Task(\n",
    "        k,\n",
    "        _vindex_slice,\n",
    "        TaskRef((x.name,) + in_blk),\n",
    "        in_indice,\n",
    "    )\n",
    "\n",
    "    merge_inputs[out_blk].append(TaskRef(k))\n",
    "    merge_indexer[out_blk].append(out_indice)\n",
    "    merge_minicube[out_blk].append(minicube)"
   ]
  },
  {
   "cell_type": "code",
   "execution_count": 31,
   "id": "e1e26c1f-e737-42f0-b287-a8d190cf1a6c",
   "metadata": {},
   "outputs": [],
   "source": [
    "# MERGE\n",
    "for i in merge_inputs.keys():\n",
    "    k = (vindex_merge_name,) + i\n",
    "    dsk[k] = Task(\n",
    "        k,\n",
    "        _vindex_merge,\n",
    "        shape,\n",
    "        merge_indexer[i],\n",
    "        List(merge_inputs[i]),\n",
    "        List(merge_minicube[i]),\n",
    "    )"
   ]
  },
  {
   "cell_type": "code",
   "execution_count": 32,
   "id": "e96c6908-b34e-4337-8759-cb654b5f3e18",
   "metadata": {},
   "outputs": [
    {
     "data": {
      "text/html": [
       "<table>\n",
       "    <tr>\n",
       "        <td>\n",
       "            <table style=\"border-collapse: collapse;\">\n",
       "                <thead>\n",
       "                    <tr>\n",
       "                        <td> </td>\n",
       "                        <th> Array </th>\n",
       "                        <th> Chunk </th>\n",
       "                    </tr>\n",
       "                </thead>\n",
       "                <tbody>\n",
       "                    \n",
       "                    <tr>\n",
       "                        <th> Bytes </th>\n",
       "                        <td> 144 B </td>\n",
       "                        <td> 144 B </td>\n",
       "                    </tr>\n",
       "                    \n",
       "                    <tr>\n",
       "                        <th> Shape </th>\n",
       "                        <td> (2, 3, 3) </td>\n",
       "                        <td> (2, 3, 3) </td>\n",
       "                    </tr>\n",
       "                    <tr>\n",
       "                        <th> Dask graph </th>\n",
       "                        <td colspan=\"2\"> 1 chunks in 2 graph layers </td>\n",
       "                    </tr>\n",
       "                    <tr>\n",
       "                        <th> Data type </th>\n",
       "                        <td colspan=\"2\"> object numpy.ndarray </td>\n",
       "                    </tr>\n",
       "                </tbody>\n",
       "            </table>\n",
       "        </td>\n",
       "        <td>\n",
       "        <svg width=\"227\" height=\"217\" style=\"stroke:rgb(0,0,0);stroke-width:1\" >\n",
       "\n",
       "  <!-- Horizontal lines -->\n",
       "  <line x1=\"10\" y1=\"0\" x2=\"57\" y2=\"47\" style=\"stroke-width:2\" />\n",
       "  <line x1=\"10\" y1=\"120\" x2=\"57\" y2=\"167\" style=\"stroke-width:2\" />\n",
       "\n",
       "  <!-- Vertical lines -->\n",
       "  <line x1=\"10\" y1=\"0\" x2=\"10\" y2=\"120\" style=\"stroke-width:2\" />\n",
       "  <line x1=\"57\" y1=\"47\" x2=\"57\" y2=\"167\" style=\"stroke-width:2\" />\n",
       "\n",
       "  <!-- Colored Rectangle -->\n",
       "  <polygon points=\"10.0,0.0 57.05882352941177,47.05882352941177 57.05882352941177,167.05882352941177 10.0,120.0\" style=\"fill:#ECB172A0;stroke-width:0\"/>\n",
       "\n",
       "  <!-- Horizontal lines -->\n",
       "  <line x1=\"10\" y1=\"0\" x2=\"130\" y2=\"0\" style=\"stroke-width:2\" />\n",
       "  <line x1=\"57\" y1=\"47\" x2=\"177\" y2=\"47\" style=\"stroke-width:2\" />\n",
       "\n",
       "  <!-- Vertical lines -->\n",
       "  <line x1=\"10\" y1=\"0\" x2=\"57\" y2=\"47\" style=\"stroke-width:2\" />\n",
       "  <line x1=\"130\" y1=\"0\" x2=\"177\" y2=\"47\" style=\"stroke-width:2\" />\n",
       "\n",
       "  <!-- Colored Rectangle -->\n",
       "  <polygon points=\"10.0,0.0 130.0,0.0 177.05882352941177,47.05882352941177 57.05882352941177,47.05882352941177\" style=\"fill:#ECB172A0;stroke-width:0\"/>\n",
       "\n",
       "  <!-- Horizontal lines -->\n",
       "  <line x1=\"57\" y1=\"47\" x2=\"177\" y2=\"47\" style=\"stroke-width:2\" />\n",
       "  <line x1=\"57\" y1=\"167\" x2=\"177\" y2=\"167\" style=\"stroke-width:2\" />\n",
       "\n",
       "  <!-- Vertical lines -->\n",
       "  <line x1=\"57\" y1=\"47\" x2=\"57\" y2=\"167\" style=\"stroke-width:2\" />\n",
       "  <line x1=\"177\" y1=\"47\" x2=\"177\" y2=\"167\" style=\"stroke-width:2\" />\n",
       "\n",
       "  <!-- Colored Rectangle -->\n",
       "  <polygon points=\"57.05882352941177,47.05882352941177 177.05882352941177,47.05882352941177 177.05882352941177,167.05882352941177 57.05882352941177,167.05882352941177\" style=\"fill:#ECB172A0;stroke-width:0\"/>\n",
       "\n",
       "  <!-- Text -->\n",
       "  <text x=\"117.058824\" y=\"187.058824\" font-size=\"1.0rem\" font-weight=\"100\" text-anchor=\"middle\" >3</text>\n",
       "  <text x=\"197.058824\" y=\"107.058824\" font-size=\"1.0rem\" font-weight=\"100\" text-anchor=\"middle\" transform=\"rotate(0,197.058824,107.058824)\">3</text>\n",
       "  <text x=\"23.529412\" y=\"163.529412\" font-size=\"1.0rem\" font-weight=\"100\" text-anchor=\"middle\" transform=\"rotate(45,23.529412,163.529412)\">2</text>\n",
       "</svg>\n",
       "        </td>\n",
       "    </tr>\n",
       "</table>"
      ],
      "text/plain": [
       "dask.array<vindex, shape=(2, 3, 3), dtype=object, chunksize=(2, 3, 3), chunktype=numpy.ndarray>"
      ]
     },
     "execution_count": 32,
     "metadata": {},
     "output_type": "execute_result"
    }
   ],
   "source": [
    "out_name = \"vindex-merge\"\n",
    "arr = Array(\n",
    "    HighLevelGraph.from_collections(out_name, dsk, dependencies=[x]),\n",
    "    name=out_name,\n",
    "    chunks=((2,),(3,),(3,)), \n",
    "    dtype=x.dtype,\n",
    "    meta=x._meta,\n",
    ")\n",
    "arr"
   ]
  },
  {
   "cell_type": "code",
   "execution_count": 33,
   "id": "20a16eda-1fcf-4149-a2cd-035998476171",
   "metadata": {},
   "outputs": [
    {
     "data": {
      "text/plain": [
       "array([[['(1, 4)', '(1, 5)', '(1, 6)'],\n",
       "        ['(2, 4)', '(2, 5)', '(2, 6)'],\n",
       "        ['(3, 4)', '(3, 5)', '(3, 6)']],\n",
       "\n",
       "       [['(4, 1)', '(4, 2)', '(4, 3)'],\n",
       "        ['(5, 1)', '(5, 2)', '(5, 3)'],\n",
       "        ['(6, 1)', '(6, 2)', '(6, 3)']]], dtype=object)"
      ]
     },
     "execution_count": 33,
     "metadata": {},
     "output_type": "execute_result"
    }
   ],
   "source": [
    "arr.compute()"
   ]
  }
 ],
 "metadata": {
  "kernelspec": {
   "display_name": "Python [conda env:fast-vindex-tests]",
   "language": "python",
   "name": "conda-env-fast-vindex-tests-py"
  },
  "language_info": {
   "codemirror_mode": {
    "name": "ipython",
    "version": 3
   },
   "file_extension": ".py",
   "mimetype": "text/x-python",
   "name": "python",
   "nbconvert_exporter": "python",
   "pygments_lexer": "ipython3",
   "version": "3.12.11"
  }
 },
 "nbformat": 4,
 "nbformat_minor": 5
}
