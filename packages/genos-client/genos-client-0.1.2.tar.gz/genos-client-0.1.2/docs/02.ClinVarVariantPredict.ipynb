{
  "cells": [
    {
      "cell_type": "markdown",
      "metadata": {},
      "source": [
        "# Variant Pathogenicity Prediction\n"
      ]
    },
    {
      "cell_type": "markdown",
      "metadata": {},
      "source": [
        "&emsp;&emsp;With the maturation of high-throughput sequencing technologies, the number of variants generated in clinical testing has grown exponentially. How to **quickly and accurately determine the pathogenicity risk** of variants in massive datasets has become a core challenge in genetic diagnosis, genetic counseling, and precision medicine. Traditional variant interpretation relies on manual rules or single-feature scoring models, which often perform limitedly in complex contexts. There is an urgent need for more intelligent and generalizable models to improve clinical interpretation efficiency and accuracy.\n",
        "\n",
        "\n",
        "The [ClinVar database](https://www.ncbi.nlm.nih.gov/clinvar/) is an authoritative public resource maintained by NCBI that systematically collects gene variants and their clinical interpretation information submitted by laboratories, clinical institutions, and research teams worldwide. It is one of the most important standard data sources for clinical variant interpretation. The database has the following characteristics:\n",
        "\n",
        "- Covers multiple variant types (SNV, InDel, CNV, etc.);\n",
        "\n",
        "- Provides clear clinical significance labels (Pathogenic, Likely Pathogenic, VUS, Benign, etc.);\n"
      ]
    },
    {
      "cell_type": "markdown",
      "metadata": {},
      "source": [
        "&emsp;&emsp;Through supervised fine-tuning and task customization, our independently developed [Genos-10B](https://huggingface.co/BGI-HangzhouAI/Genos-10B) basic model (a large model with 10B parameters for genomic sequences) has the ability to predict the pathogenic risk of mutations and determine their clinical significance. In evaluation tasks related to ClinVar data, it performs better compared to mainstream models such as Evo2, Generator, and NT.\n",
        "\n",
        "![image][image id]\n",
        "\n",
        "\n",
        "\n",
        "[image id]:data:image/png;base64,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"
      ]
    },
    {
      "cell_type": "markdown",
      "metadata": {},
      "source": [
        "&emsp;&emsp;For the trained variant pathogenicity prediction model, we have opened an API calling service. **To ensure you can successfully use the service, please make sure you have completed the [token](https://cloud.stomics.tech/#/personal-center?tab=apiKey) application.**\n"
      ]
    },
    {
      "cell_type": "code",
      "execution_count": null,
      "metadata": {},
      "outputs": [],
      "source": [
        "# If genos is not installed in the environment, install the genos package first\n",
        "# pip install genos\n"
      ]
    },
    {
      "cell_type": "code",
      "execution_count": 1,
      "metadata": {},
      "outputs": [],
      "source": [
        "from genos import create_client\n",
        "\n",
        "# Create client, replace with your token\n",
        "client = create_client(token=\"<your_api_key>\")\n"
      ]
    },
    {
      "cell_type": "markdown",
      "metadata": {},
      "source": [
        "After creating the client, we can quickly call the service interface through the ```variant_predict``` function for variant analysis\n"
      ]
    },
    {
      "cell_type": "markdown",
      "metadata": {},
      "source": [
        "- Parameter Description\n",
        "    - assembly: Reference genome version, supports \"hg19\" or \"hg38\"\n",
        "    - chrom: Chromosome number, e.g., \"chr1\", \"chr2\", ..., \"chrX\", etc.\n",
        "    - pos: Specific base position on the genome (1-based coordinate)\n",
        "    - ref: Reference allele, e.g., \"A\", \"T\", \"C\", \"G\"\n",
        "    - alt: Alternate allele, e.g., \"A\", \"T\", \"C\", \"G\"\n"
      ]
    },
    {
      "cell_type": "code",
      "execution_count": 2,
      "metadata": {},
      "outputs": [],
      "source": [
        "result = client.variant_predict(\n",
        "            assembly=\"hg19\",\n",
        "            chrom=\"chr6\", \n",
        "            pos=51484075,\n",
        "            ref=\"T\",\n",
        "            alt=\"G\"\n",
        "        )\n"
      ]
    },
    {
      "cell_type": "code",
      "execution_count": 3,
      "metadata": {},
      "outputs": [
        {
          "data": {
            "text/plain": [
              "{'variant': 'chr6-51484075-T-G',\n",
              " 'prediction': 'Benign',\n",
              " 'score_Benign': 0.853630542755127,\n",
              " 'score_Pathogenic': 0.14636942744255066}"
            ]
          },
          "execution_count": 3,
          "metadata": {},
          "output_type": "execute_result"
        }
      ],
      "source": [
        "result['result']\n"
      ]
    },
    {
      "cell_type": "markdown",
      "metadata": {},
      "source": [
        "## Return Result Description\n",
        "\n",
        "```yaml\n",
        "{\n",
        "  'variant': 'chr6-51484075-T-G',\n",
        "  'prediction': 'Benign',\n",
        "  'score_Benign': 0.853630542755127,\n",
        "  'score_Pathogenic': 0.14636942744255066\n",
        " }\n",
        "```\n",
        "\n",
        "The return result is a dictionary containing the following fields:\n",
        "- 'prediction': The model's pathogenicity prediction result for this variant, such as 'Benign' (benign) or 'Pathogenic' (pathogenic);\n",
        "- 'score_Benign': The probability score for the variant being benign, with a value range of 0~1;\n",
        "- 'score_Pathogenic': The probability score for the variant being pathogenic, with a value range of 0~1;\n",
        "- 'variant': Specific variant site information, formatted as 'chromosome-position-reference_allele-alternate_allele', using [CPRA format](https://pmc.ncbi.nlm.nih.gov/articles/PMC6834861/) (e.g., 'chr6-51484075-T-G').\n",
        "\n"
      ]
    }
  ],
  "metadata": {
    "kernelspec": {
      "display_name": "hgtest",
      "language": "python",
      "name": "python3"
    },
    "language_info": {
      "codemirror_mode": {
        "name": "ipython",
        "version": 3
      },
      "file_extension": ".py",
      "mimetype": "text/x-python",
      "name": "python",
      "nbconvert_exporter": "python",
      "pygments_lexer": "ipython3",
      "version": "3.13.5"
    }
  },
  "nbformat": 4,
  "nbformat_minor": 2
}
