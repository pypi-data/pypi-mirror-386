{
 "cells": [
  {
   "cell_type": "markdown",
   "id": "d5acc853",
   "metadata": {},
   "source": [
    "# Biological Sequence Embedding Extraction Tutorial\n",
    "\n",
    "## What is Embedding?\n",
    "\n",
    "**Embedding (Embedding Vector)** is a technique for converting text, sequences, or other unstructured data into numerical vectors. In bioinformatics, embedding can convert biological sequences such as DNA sequences and protein sequences into high-dimensional numerical vectors. These vectors can:\n",
    "\n",
    "1. **Capture semantic information of sequences**: Similar sequences produce similar vectors\n",
    "2. **Support machine learning**: Numerical vectors can be directly used in various machine learning algorithms\n",
    "3. **Dimensional reduction representation**: Compress complex sequence information into fixed-length vectors\n",
    "4. **Calculate similarity**: Calculate similarity between sequences through vector distance\n",
    "\n",
    "## Why Extract Embedding?\n",
    "\n",
    "In bioinformatics research, embedding extraction has important value:\n",
    "\n",
    "- **Sequence classification**: Identify functional types of DNA sequences (such as promoters, enhancers, etc.)\n",
    "- **Sequence similarity analysis**: Quickly find similar biological sequences\n",
    "- **Functional prediction**: Predict protein function based on sequence embedding\n",
    "- **Evolutionary analysis**: Study evolutionary relationships of sequences\n",
    "\n",
    "\n",
    "**Note:** Due to current limited resources, the API currently provides models supporting 1.2B and 10B, with a maximum embedding length of **128k**, and only returns embeddings from the last layer"
   ]
  },
  {
   "cell_type": "markdown",
   "id": "a3e85098",
   "metadata": {},
   "source": [
    "### Import Libraries\n"
   ]
  },
  {
   "cell_type": "code",
   "execution_count": 1,
   "id": "c1664e6d",
   "metadata": {},
   "outputs": [],
   "source": [
    "from genos import create_client"
   ]
  },
  {
   "cell_type": "markdown",
   "id": "c046fe56",
   "metadata": {},
   "source": [
    "### Create Client\n"
   ]
  },
  {
   "cell_type": "code",
   "execution_count": 2,
   "id": "2593953e",
   "metadata": {},
   "outputs": [],
   "source": [
    "client = create_client(token=\"your_token_here\")"
   ]
  },
  {
   "cell_type": "markdown",
   "source": [
    "**To ensure smooth use of the service, please make sure you have completed [token](https://cloud.stomics.tech/#/personal-center?tab=apiKey) application.**"
   ],
   "metadata": {
    "collapsed": false
   },
   "id": "2bb00bda39148ca5"
  },
  {
   "cell_type": "markdown",
   "id": "6e72ea2d",
   "metadata": {},
   "source": [
    "\n",
    "## Basic Usage\n"
   ]
  },
  {
   "cell_type": "code",
   "execution_count": 4,
   "id": "ede82393",
   "metadata": {},
   "outputs": [
    {
     "name": "stdout",
     "output_type": "stream",
     "text": [
      "{'result': {'sequence': 'ATCGATCGATCGATCGATCGATCGATCG', 'sequence_length': 28, 'token_count': 30, 'embedding_shape': [1, 1024], 'embedding_dim': 1024, 'pooling_method': 'mean', 'model_type': 'flash', 'device': 'cuda', 'embedding': tensor([[ 0.0015,  0.0085, -0.0737,  ..., -0.4238, -0.1729,  0.0094]])}, 'status': 200, 'message': None}\n"
     ]
    }
   ],
   "source": [
    "# DNA sequence\n",
    "sequence = \"ATCGATCGATCGATCGATCGATCGATCG\"\n",
    "\n",
    "# Extract embedding\n",
    "result = client.get_embedding(sequence)['result']\n",
    "\n",
    "# View results\n",
    "print(result)\n"
   ]
  },
  {
   "cell_type": "markdown",
   "id": "136e8960",
   "metadata": {},
   "source": [
    "The result contains:\n",
    "- `sequence`: Input sequence\n",
    "- `sequence_length`: Sequence length\n",
    "- `token_count`: Number of tokens\n",
    "- `embedding_dim`: Embedding dimension\n",
    "- `embedding`: Embedding vector\n",
    "- `pooling_method`: Pooling method used\n",
    "- `model_type`: Model used\n"
   ]
  },
  {
   "cell_type": "markdown",
   "id": "1600de51",
   "metadata": {},
   "source": [
    "\n",
    "## Model Parameters\n",
    "\n",
    "### Available Models\n",
    "\n",
    "Genos supports multiple pre-trained models:\n",
    "\n",
    "| Model | Parameters | Flash Attention | Use Case |\n",
    "|-------|-----------|----------------|----------|\n",
    "| `Genos-1.2B` | 1.2 billion | ✓ | Fast inference, general tasks |\n",
    "| `Genos-10B` | 10 billion | ✓ | High-precision tasks |"
   ]
  },
  {
   "cell_type": "markdown",
   "id": "e741b428",
   "metadata": {},
   "source": [
    "\n",
    "### Pooling Methods\n",
    "\n",
    "Pooling controls how to aggregate multiple token embeddings into sequence-level representation:\n",
    "\n",
    "| Method | Description               | Output |\n",
    "|--------|---------------------------|--------|\n",
    "| `mean` | Average pooling (default) | Single vector |\n",
    "| `max`  | Max pooling               | Single vector |\n",
    "| `min`  | Min pooling               | Single vector |\n"
   ]
  },
  {
   "cell_type": "markdown",
   "source": [
    "### Applications of Embeddings\n",
    "\n",
    "Extracted embeddings can be used for:\n",
    "\n",
    "1. **Sequence similarity calculation**:\n",
    "   ```python\n",
    "   # Calculate cosine similarity between two sequences\n",
    "   similarity = cosine_similarity(embedding1, embedding2)\n",
    "   ```\n",
    "\n",
    "2. **Sequence classification**:\n",
    "   ```python\n",
    "   # Train classifier using embeddings\n",
    "   classifier = train_classifier(embeddings, labels)\n",
    "   ```\n",
    "\n",
    "3. **Clustering analysis**:\n",
    "   ```python\n",
    "   # Perform clustering on sequences\n",
    "   clusters = kmeans_clustering(embeddings)\n",
    "   ```\n",
    "\n",
    "4. **Dimensional reduction visualization**:\n",
    "   ```python\n",
    "   # Use t-SNE or PCA for dimensional reduction visualization\n",
    "   reduced_embeddings = tsne.fit_transform(embeddings)\n",
    "   ```\n"
   ],
   "metadata": {
    "collapsed": false
   },
   "id": "fafd5b9c6b370a6c"
  },
  {
   "cell_type": "markdown",
   "source": [
    "## Summary\n",
    "\n",
    "Through this tutorial, we learned:\n",
    "\n",
    "### Core Concepts\n",
    "- **Embedding**: Technique for converting biological sequences into numerical vectors\n",
    "- **Pre-trained models**: Large language models specifically trained for biological sequences\n",
    "- **Hierarchical features**: Different layers capture sequence information at different levels\n",
    "\n",
    "### Technical Process\n",
    "1. Load pre-trained biological sequence models\n",
    "2. Encode DNA sequences into tokens\n",
    "3. Obtain embeddings through model inference\n",
    "4. Analyze feature representations from different layers\n",
    "\n",
    "### Practical Value\n",
    "- **Accelerate research**: Quickly analyze large amounts of biological sequences\n",
    "- **Improve accuracy**: Use pre-trained knowledge to enhance prediction performance\n",
    "- **Support downstream tasks**: Provide foundation for classification, clustering, similarity analysis, etc.\n",
    "\n",
    "### Next Examples\n",
    "1. Use extracted embeddings for downstream population prediction tasks\n",
    "2. Downstream variant prediction tasks based on embeddings (API)\n",
    "3. RNA coverage trajectory prediction (API)\n",
    "\n",
    "\n",
    "**Congratulations!** You have mastered the basic methods of biological sequence embedding extraction!\n"
   ],
   "metadata": {
    "collapsed": false
   },
   "id": "82700e5770e86415"
  }
 ],
 "metadata": {
  "kernelspec": {
   "display_name": "Python 3 (ipykernel)",
   "language": "python",
   "name": "python3"
  },
  "language_info": {
   "codemirror_mode": {
    "name": "ipython",
    "version": 3
   },
   "file_extension": ".py",
   "mimetype": "text/x-python",
   "name": "python",
   "nbconvert_exporter": "python",
   "pygments_lexer": "ipython3",
   "version": "3.10.12"
  }
 },
 "nbformat": 4,
 "nbformat_minor": 5
}
