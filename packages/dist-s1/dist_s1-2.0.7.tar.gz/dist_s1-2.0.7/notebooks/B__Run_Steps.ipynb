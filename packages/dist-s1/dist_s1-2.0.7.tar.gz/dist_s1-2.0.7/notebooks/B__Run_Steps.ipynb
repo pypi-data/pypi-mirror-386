{
 "cells": [
  {
   "cell_type": "code",
   "execution_count": 1,
   "id": "f563951a-d1b7-4e75-99f2-56be204cbc08",
   "metadata": {},
   "outputs": [],
   "source": [
    "%load_ext autoreload\n",
    "%autoreload 2"
   ]
  },
  {
   "cell_type": "markdown",
   "id": "ff402f6b-df30-4f99-8742-1881c7e2e6b9",
   "metadata": {},
   "source": [
    "This is a notebook that illustrates how to run the end-to-end (e2e) workflow. Determining suitable parameters for the workflow are for operational considerations are explained in the ops library [`dist-s1-enumerator`](https://github.com/opera-adt/dist-s1-enumerator) - specifically, see this [notebook](https://github.com/opera-adt/dist-s1-enumerator/blob/dev/notebooks/A__Staging_Inputs_for_One_MGRS_Tile.ipynb)."
   ]
  },
  {
   "cell_type": "code",
   "execution_count": 2,
   "id": "91fb3320-c91c-465c-9ac3-926076e413e6",
   "metadata": {},
   "outputs": [
    {
     "name": "stderr",
     "output_type": "stream",
     "text": [
      "/Users/cmarshak/miniforge3/envs/dist-s1-env/lib/python3.13/site-packages/tqdm/auto.py:21: TqdmWarning: IProgress not found. Please update jupyter and ipywidgets. See https://ipywidgets.readthedocs.io/en/stable/user_install.html\n",
      "  from .autonotebook import tqdm as notebook_tqdm\n"
     ]
    }
   ],
   "source": [
    "from pathlib import Path\n",
    "\n",
    "from dist_s1.workflows import (\n",
    "    run_burst_disturbance_workflow,\n",
    "    run_dist_s1_localization_workflow,\n",
    "    run_dist_s1_workflow,\n",
    "    run_disturbance_merge_workflow,\n",
    "    run_dist_s1_packaging_workflow,\n",
    "    run_despeckle_workflow,\n",
    "    run_dist_s1_sas_prep_workflow\n",
    ")"
   ]
  },
  {
   "cell_type": "code",
   "execution_count": 16,
   "id": "7ce1f145-b58c-4982-b256-6a56b552d4cc",
   "metadata": {},
   "outputs": [],
   "source": [
    "## Example 0\n",
    "\n",
    "# mgrs_tile_id = '10SGD'\n",
    "# post_date = '2025-01-02'\n",
    "# track_number = 137\n",
    "# dst_dir = Path('out')\n",
    "# memory_strategy = 'high'\n",
    "\n",
    "\n",
    "## Example 1 - Los Angeles Wildfire\n",
    "mgrs_tile_id = '11SLT'\n",
    "post_date = '2025-01-21'\n",
    "track_number = 71\n",
    "dst_dir = Path('los-angeles')\n",
    "memory_strategy = 'high'\n",
    "interpolation_method='bilinear'\n",
    "n_workers_for_norm_param_estimation=1\n",
    "stride_for_norm_param_estimation=16\n",
    "model_compilation=True\n",
    "device='cpu'\n",
    "model_dtype = 'float32'"
   ]
  },
  {
   "cell_type": "markdown",
   "id": "88f264fe-f74c-4d3f-b492-27902eaed32e",
   "metadata": {},
   "source": [
    "This takes some time as it not only generates the runconfig but also localizes the necessary data. It will not overwrite files that have been previously downloaded.\n",
    "\n",
    "Few additional notes:\n",
    "\n",
    "1. The runconfig can be serialized to yml and then read from that file.\n",
    "2. The runconfig manages all the paths for the workflows from the initial set of inputs. It's data model is messy and can be confusing. But that's the workhorse of this library."
   ]
  },
  {
   "cell_type": "code",
   "execution_count": 17,
   "id": "d7ee7ad2-b297-41af-bc65-e41cf40dab1e",
   "metadata": {},
   "outputs": [
    {
     "name": "stdout",
     "output_type": "stream",
     "text": [
      "Using multi-window lookback strategy\n"
     ]
    },
    {
     "name": "stderr",
     "output_type": "stream",
     "text": [
      "Downloading RTC-S1 burst data: 100%|\u2588\u2588\u2588\u2588\u2588\u2588\u2588\u2588\u2588\u2588\u2588\u2588\u2588\u2588\u2588\u2588| 352/352 [00:00<00:00, 332671.25it/s]\n"
     ]
    }
   ],
   "source": [
    "run_config = run_dist_s1_sas_prep_workflow(\n",
    "    mgrs_tile_id,\n",
    "    post_date,\n",
    "    track_number,\n",
    "    post_date_buffer_days=1,\n",
    "    dst_dir=dst_dir,\n",
    "    input_data_dir=dst_dir,\n",
    "    interpolation_method=interpolation_method,\n",
    "    n_workers_for_norm_param_estimation=n_workers_for_norm_param_estimation,\n",
    "    device=device,\n",
    "    stride_for_norm_param_estimation=stride_for_norm_param_estimation,\n",
    "    model_dtype=model_dtype,\n",
    "    model_compilation=False\n",
    ")\n"
   ]
  },
  {
   "cell_type": "code",
   "execution_count": 19,
   "id": "55f54f84-fe2e-446b-b8f0-ddb894b10f8e",
   "metadata": {},
   "outputs": [],
   "source": [
    "if run_config.algo_config.apply_despeckling:\n",
    "    run_despeckle_workflow(run_config)"
   ]
  },
  {
   "cell_type": "code",
   "execution_count": null,
   "id": "2ad989d5-b3a5-4e50-93fb-e32812f3d97d",
   "metadata": {},
   "outputs": [
    {
     "name": "stderr",
     "output_type": "stream",
     "text": [
      "Burst disturbance:   0%|                                           | 0/16 [00:00<?, ?it/s]\n",
      "Chips Traversed:   0%|                                            | 0/656 [00:00<?, ?it/s]\u001b[A\n",
      "Chips Traversed:   9%|\u2588\u2588\u2588\u258e                               | 61/656 [00:02<00:19, 30.28it/s]\u001b[A\n",
      "Chips Traversed:  19%|\u2588\u2588\u2588\u2588\u2588\u2588\u258e                           | 122/656 [00:04<00:18, 29.31it/s]\u001b[A\n",
      "Chips Traversed:  28%|\u2588\u2588\u2588\u2588\u2588\u2588\u2588\u2588\u2588\u258d                        | 181/656 [00:06<00:16, 28.77it/s]\u001b[A\n",
      "Chips Traversed:  36%|\u2588\u2588\u2588\u2588\u2588\u2588\u2588\u2588\u2588\u2588\u2588\u2588\u258d                     | 239/656 [00:08<00:15, 27.10it/s]\u001b[A\n",
      "Chips Traversed:  45%|\u2588\u2588\u2588\u2588\u2588\u2588\u2588\u2588\u2588\u2588\u2588\u2588\u2588\u2588\u2588\u258d                  | 297/656 [00:10<00:12, 27.67it/s]\u001b[A\n",
      "Chips Traversed:  54%|\u2588\u2588\u2588\u2588\u2588\u2588\u2588\u2588\u2588\u2588\u2588\u2588\u2588\u2588\u2588\u2588\u2588\u2588\u258d               | 355/656 [00:12<00:10, 27.96it/s]\u001b[A\n",
      "Chips Traversed:  64%|\u2588\u2588\u2588\u2588\u2588\u2588\u2588\u2588\u2588\u2588\u2588\u2588\u2588\u2588\u2588\u2588\u2588\u2588\u2588\u2588\u2588\u258c            | 417/656 [00:14<00:08, 28.77it/s]\u001b[A\n",
      "Chips Traversed:  72%|\u2588\u2588\u2588\u2588\u2588\u2588\u2588\u2588\u2588\u2588\u2588\u2588\u2588\u2588\u2588\u2588\u2588\u2588\u2588\u2588\u2588\u2588\u2588\u2588\u258c         | 475/656 [00:16<00:06, 28.20it/s]\u001b[A\n",
      "Chips Traversed:  81%|\u2588\u2588\u2588\u2588\u2588\u2588\u2588\u2588\u2588\u2588\u2588\u2588\u2588\u2588\u2588\u2588\u2588\u2588\u2588\u2588\u2588\u2588\u2588\u2588\u2588\u2588\u2588\u258b      | 534/656 [00:18<00:04, 28.46it/s]\u001b[A\n",
      "Chips Traversed:  90%|\u2588\u2588\u2588\u2588\u2588\u2588\u2588\u2588\u2588\u2588\u2588\u2588\u2588\u2588\u2588\u2588\u2588\u2588\u2588\u2588\u2588\u2588\u2588\u2588\u2588\u2588\u2588\u2588\u2588\u2588\u258b   | 592/656 [00:20<00:02, 28.39it/s]\u001b[A\n",
      "Chips Traversed: 100%|\u2588\u2588\u2588\u2588\u2588\u2588\u2588\u2588\u2588\u2588\u2588\u2588\u2588\u2588\u2588\u2588\u2588\u2588\u2588\u2588\u2588\u2588\u2588\u2588\u2588\u2588\u2588\u2588\u2588\u2588\u2588\u2588\u2588\u2588| 656/656 [00:23<00:00, 28.24it/s]\u001b[A\n",
      "<string>:34: RuntimeWarning: All-NaN slice encountered\n",
      "Burst disturbance:   6%|\u2588\u2588\u258f                                | 1/16 [00:25<06:20, 25.36s/it]\n",
      "Chips Traversed:   0%|                                            | 0/586 [00:00<?, ?it/s]\u001b[A\n",
      "Chips Traversed:  10%|\u2588\u2588\u2588\u258e                               | 56/586 [00:02<00:18, 27.93it/s]\u001b[A\n",
      "Chips Traversed:  19%|\u2588\u2588\u2588\u2588\u2588\u2588\u258c                           | 114/586 [00:04<00:16, 28.41it/s]\u001b[A\n",
      "Chips Traversed:  31%|\u2588\u2588\u2588\u2588\u2588\u2588\u2588\u2588\u2588\u2588\u258d                       | 179/586 [00:06<00:13, 30.27it/s]\u001b[A\n",
      "Chips Traversed:  41%|\u2588\u2588\u2588\u2588\u2588\u2588\u2588\u2588\u2588\u2588\u2588\u2588\u2588\u2589                    | 240/586 [00:08<00:11, 29.67it/s]\u001b[A\n",
      "Chips Traversed:  51%|\u2588\u2588\u2588\u2588\u2588\u2588\u2588\u2588\u2588\u2588\u2588\u2588\u2588\u2588\u2588\u2588\u2588\u258d                | 300/586 [00:10<00:09, 29.68it/s]\u001b[A\n",
      "Chips Traversed:  61%|\u2588\u2588\u2588\u2588\u2588\u2588\u2588\u2588\u2588\u2588\u2588\u2588\u2588\u2588\u2588\u2588\u2588\u2588\u2588\u2588\u2589             | 360/586 [00:12<00:07, 29.60it/s]\u001b[A\n",
      "Chips Traversed:  73%|\u2588\u2588\u2588\u2588\u2588\u2588\u2588\u2588\u2588\u2588\u2588\u2588\u2588\u2588\u2588\u2588\u2588\u2588\u2588\u2588\u2588\u2588\u2588\u2588\u258b         | 426/586 [00:14<00:05, 30.63it/s]\u001b[A\n",
      "Chips Traversed:  83%|\u2588\u2588\u2588\u2588\u2588\u2588\u2588\u2588\u2588\u2588\u2588\u2588\u2588\u2588\u2588\u2588\u2588\u2588\u2588\u2588\u2588\u2588\u2588\u2588\u2588\u2588\u2588\u2588\u258e     | 489/586 [00:16<00:03, 30.60it/s]\u001b[A"
     ]
    }
   ],
   "source": [
    "# Compute disturbance per burst and all possible lookbacks\n",
    "run_burst_disturbance_workflow(run_config)"
   ]
  },
  {
   "cell_type": "code",
   "execution_count": null,
   "id": "21b9aa7a-1fab-44ea-b760-9dce254c2fc8",
   "metadata": {},
   "outputs": [],
   "source": [
    "# Merge the burst-wise products\n",
    "run_disturbance_merge_workflow(run_config)"
   ]
  },
  {
   "cell_type": "code",
   "execution_count": null,
   "id": "0a255865-caa4-4958-92b4-2d439d8cadac",
   "metadata": {},
   "outputs": [],
   "source": [
    "run_dist_s1_packaging_workflow(run_config)"
   ]
  }
 ],
 "metadata": {
  "kernelspec": {
   "display_name": "dist-s1-env",
   "language": "python",
   "name": "dist-s1-env"
  },
  "language_info": {
   "codemirror_mode": {
    "name": "ipython",
    "version": 3
   },
   "file_extension": ".py",
   "mimetype": "text/x-python",
   "name": "python",
   "nbconvert_exporter": "python",
   "pygments_lexer": "ipython3",
   "version": "3.13.3"
  }
 },
 "nbformat": 4,
 "nbformat_minor": 5
}