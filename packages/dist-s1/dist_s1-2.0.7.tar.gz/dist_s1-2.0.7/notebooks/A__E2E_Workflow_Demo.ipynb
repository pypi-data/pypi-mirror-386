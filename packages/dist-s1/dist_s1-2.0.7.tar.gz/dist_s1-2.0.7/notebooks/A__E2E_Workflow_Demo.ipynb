{
 "cells": [
  {
   "cell_type": "code",
   "execution_count": 1,
   "id": "6e0cde21-2e6a-496b-9859-b6ec114c7fe9",
   "metadata": {},
   "outputs": [],
   "source": [
    "%load_ext autoreload\n",
    "%autoreload 2"
   ]
  },
  {
   "cell_type": "markdown",
   "id": "ff402f6b-df30-4f99-8742-1881c7e2e6b9",
   "metadata": {},
   "source": [
    "This is a notebook that illustrates how to run the end-to-end (e2e) workflow. Determining suitable parameters for the workflow are for operational considerations are explained in the ops library [`dist-s1-enumerator`](https://github.com/opera-adt/dist-s1-enumerator) - specifically, see this [notebook](https://github.com/opera-adt/dist-s1-enumerator/blob/dev/notebooks/A__Staging_Inputs_for_One_MGRS_Tile.ipynb)."
   ]
  },
  {
   "cell_type": "code",
   "execution_count": 2,
   "id": "91fb3320-c91c-465c-9ac3-926076e413e6",
   "metadata": {},
   "outputs": [
    {
     "name": "stderr",
     "output_type": "stream",
     "text": [
      "/Users/cmarshak/miniforge3/envs/dist-s1-env/lib/python3.13/site-packages/tqdm/auto.py:21: TqdmWarning: IProgress not found. Please update jupyter and ipywidgets. See https://ipywidgets.readthedocs.io/en/stable/user_install.html\n",
      "  from .autonotebook import tqdm as notebook_tqdm\n"
     ]
    }
   ],
   "source": [
    "from dist_s1 import run_dist_s1_workflow\n",
    "from pathlib import Path"
   ]
  },
  {
   "cell_type": "code",
   "execution_count": 5,
   "id": "7ce1f145-b58c-4982-b256-6a56b552d4cc",
   "metadata": {},
   "outputs": [],
   "source": [
    "## Example 0\n",
    "\n",
    "# mgrs_tile_id = '10SGD'\n",
    "# post_date = '2025-01-02'\n",
    "# track_number = 137\n",
    "# dst_dir = Path('out')\n",
    "# memory_strategy = 'high'\n",
    "\n",
    "\n",
    "## Example 1 - Los Angeles Wildfire\n",
    "mgrs_tile_id = '11SLT'\n",
    "post_date = '2025-01-21'\n",
    "track_number = 71\n",
    "dst_dir = Path('los-angeles')\n",
    "memory_strategy = 'high'  # can be high or low\n",
    "device = 'cpu'"
   ]
  },
  {
   "cell_type": "markdown",
   "id": "b8fe080a-df2c-493d-a65b-f280470c5a31",
   "metadata": {},
   "source": [
    "The downloading may be unstable, but currently the downloading step does not overwrite data so it can easily be rerun if it fails."
   ]
  },
  {
   "cell_type": "code",
   "execution_count": 7,
   "id": "3a0c448d-f360-435d-bc0d-8504753f5940",
   "metadata": {},
   "outputs": [
    {
     "name": "stdout",
     "output_type": "stream",
     "text": [
      "Searching for post-images for track 71 in MGRS tile 11SLT\n",
      "Searching for pre-images for multi_window baseline\n",
      "Lookback days (1095, 730, 365) and window days 365\n"
     ]
    },
    {
     "name": "stderr",
     "output_type": "stream",
     "text": [
      "Windows: 100%|█████████████████████████████████████████████████████| 3/3 [04:00<00:00, 80.14s/it]\n",
      "Downloading RTC-S1 burst data: 100%|███████████████████████| 352/352 [00:00<00:00, 943986.58it/s]\n",
      "Despeckling and serializing RTC S1 files: 100%|████████████████| 352/352 [02:25<00:00,  2.42it/s]\n",
      "Chips Traversed: 100%|████████████████████████████████████████| 586/586 [00:19<00:00, 29.65it/s]]\n",
      "Chips Traversed: 100%|████████████████████████████████████████| 586/586 [00:19<00:00, 29.50it/s]\n",
      "/Users/cmarshak/bekaert-team/dist-s1/src/dist_s1/dist_processing.py:125: RuntimeWarning: All-NaN slice encountered\n",
      "  metric = np.nanmax(z_score_per_channel, axis=0)\n",
      "/Users/cmarshak/bekaert-team/dist-s1/src/dist_s1/dist_processing.py:125: RuntimeWarning: All-NaN slice encountered\n",
      "  metric = np.nanmax(z_score_per_channel, axis=0)\n",
      "Chips Traversed: 100%|████████████████████████████████████████| 586/586 [00:20<00:00, 28.98it/s]\n",
      "/Users/cmarshak/bekaert-team/dist-s1/src/dist_s1/dist_processing.py:125: RuntimeWarning: All-NaN slice encountered\n",
      "  metric = np.nanmax(z_score_per_channel, axis=0)\n",
      "Chips Traversed: 100%|████████████████████████████████████████| 586/586 [00:20<00:00, 28.48it/s]\n",
      "Chips Traversed:  92%|████████████████████████████████████▋   | 604/659 [00:20<00:01, 29.96it/s]/Users/cmarshak/bekaert-team/dist-s1/src/dist_s1/dist_processing.py:125: RuntimeWarning: All-NaN slice encountered\n",
      "  metric = np.nanmax(z_score_per_channel, axis=0)\n",
      "Chips Traversed: 100%|████████████████████████████████████████| 656/656 [00:22<00:00, 29.80it/s]\n",
      "/Users/cmarshak/bekaert-team/dist-s1/src/dist_s1/dist_processing.py:125: RuntimeWarning: All-NaN slice encountered\n",
      "  metric = np.nanmax(z_score_per_channel, axis=0)\n",
      "Chips Traversed: 100%|████████████████████████████████████████| 659/659 [00:22<00:00, 29.51it/s]]\n",
      "/Users/cmarshak/bekaert-team/dist-s1/src/dist_s1/dist_processing.py:125: RuntimeWarning: All-NaN slice encountered\n",
      "  metric = np.nanmax(z_score_per_channel, axis=0)\n",
      "Chips Traversed: 100%|████████████████████████████████████████| 656/656 [00:23<00:00, 28.49it/s]]\n",
      "Chips Traversed: 100%|████████████████████████████████████████| 656/656 [00:23<00:00, 28.34it/s]\n",
      "/Users/cmarshak/bekaert-team/dist-s1/src/dist_s1/dist_processing.py:125: RuntimeWarning: All-NaN slice encountered\n",
      "  metric = np.nanmax(z_score_per_channel, axis=0)\n",
      "/Users/cmarshak/bekaert-team/dist-s1/src/dist_s1/dist_processing.py:125: RuntimeWarning: All-NaN slice encountered\n",
      "  metric = np.nanmax(z_score_per_channel, axis=0)\n",
      "Chips Traversed: 100%|████████████████████████████████████████| 586/586 [00:21<00:00, 26.72it/s]]\n",
      "Chips Traversed: 100%|████████████████████████████████████████| 586/586 [00:22<00:00, 26.14it/s]\n",
      "Chips Traversed: 100%|████████████████████████████████████████| 586/586 [00:22<00:00, 26.64it/s]\n",
      "Chips Traversed: 100%|████████████████████████████████████████| 663/663 [00:24<00:00, 26.82it/s]\n",
      "Chips Traversed: 100%|████████████████████████████████████████| 663/663 [00:24<00:00, 27.09it/s]\n",
      "Chips Traversed: 100%|████████████████████████████████████████| 586/586 [00:21<00:00, 27.20it/s]\n",
      "Chips Traversed: 100%|████████████████████████████████████████| 663/663 [00:22<00:00, 28.92it/s]]\n",
      "Chips Traversed: 100%|████████████████████████████████████████| 663/663 [00:22<00:00, 29.38it/s]]\n",
      "Burst disturbance: 100%|█████████████████████████████████████████| 16/16 [00:55<00:00,  3.47s/it]\n"
     ]
    }
   ],
   "source": [
    "_ = run_dist_s1_workflow(mgrs_tile_id, post_date, track_number, device=device, post_date_buffer_days = 1, dst_dir=dst_dir, memory_strategy=memory_strategy)"
   ]
  }
 ],
 "metadata": {
  "kernelspec": {
   "display_name": "dist-s1-env",
   "language": "python",
   "name": "dist-s1-env"
  },
  "language_info": {
   "codemirror_mode": {
    "name": "ipython",
    "version": 3
   },
   "file_extension": ".py",
   "mimetype": "text/x-python",
   "name": "python",
   "nbconvert_exporter": "python",
   "pygments_lexer": "ipython3",
   "version": "3.13.5"
  }
 },
 "nbformat": 4,
 "nbformat_minor": 5
}
