{
 "cells": [
  {
   "cell_type": "code",
   "execution_count": 1,
   "id": "ce65d18e",
   "metadata": {},
   "outputs": [
    {
     "data": {
      "text/plain": [
       "(1028, 3)"
      ]
     },
     "execution_count": 1,
     "metadata": {},
     "output_type": "execute_result"
    }
   ],
   "source": [
    "import os\n",
    "import numpy as np\n",
    "from molass_data import SAMPLE1\n",
    "datafile_path = os.path.join(SAMPLE1, 'PREFIX1_00000.dat')\n",
    "data = np.loadtxt(datafile_path)\n",
    "data.shape"
   ]
  }
 ],
 "metadata": {
  "kernelspec": {
   "display_name": "Python 3",
   "language": "python",
   "name": "python3"
  },
  "language_info": {
   "codemirror_mode": {
    "name": "ipython",
    "version": 3
   },
   "file_extension": ".py",
   "mimetype": "text/x-python",
   "name": "python",
   "nbconvert_exporter": "python",
   "pygments_lexer": "ipython3",
   "version": "3.12.10"
  }
 },
 "nbformat": 4,
 "nbformat_minor": 5
}
