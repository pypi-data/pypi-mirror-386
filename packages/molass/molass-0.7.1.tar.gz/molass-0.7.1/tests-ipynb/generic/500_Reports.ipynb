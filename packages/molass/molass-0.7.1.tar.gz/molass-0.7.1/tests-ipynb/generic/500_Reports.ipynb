{
 "cells": [
  {
   "cell_type": "code",
   "execution_count": null,
   "id": "b6fff088",
   "metadata": {},
   "outputs": [],
   "source": [
    "import os\n",
    "from molass.Local import get_local_settings\n",
    "from molass.Global.Options import set_molass_options\n",
    "set_molass_options(flowchange='auto')\n",
    "local_settings = get_local_settings()\n",
    "DATA_ROOT_FOLDER = local_settings['DATA_ROOT_FOLDER']\n",
    "from molass.DataObjects import SecSaxsData as SSD"
   ]
  },
  {
   "cell_type": "code",
   "execution_count": null,
   "id": "fbd779f8",
   "metadata": {
    "vscode": {
     "languageId": "javascript"
    }
   },
   "outputs": [],
   "source": [
    "SAMPLE_PATH = os.path.join(DATA_ROOT_FOLDER, 'sample_data')\n",
    "ssd = SSD(SAMPLE_PATH)\n",
    "ssd.plot_3d();"
   ]
  },
  {
   "cell_type": "code",
   "execution_count": null,
   "id": "2e97b9a6",
   "metadata": {
    "vscode": {
     "languageId": "javascript"
    }
   },
   "outputs": [],
   "source": [
    "trimmed_ssd = ssd.trimmed_copy()\n",
    "trimmed_ssd.set_baseline_method(('linear', 'uvdiff'))\n",
    "trimmed_ssd.plot_compact(baseline=True);"
   ]
  },
  {
   "cell_type": "code",
   "execution_count": null,
   "id": "0274e91f",
   "metadata": {},
   "outputs": [],
   "source": [
    "corrected_ssd = trimmed_ssd.corrected_copy()\n",
    "corrected_ssd.plot_3d();"
   ]
  },
  {
   "cell_type": "code",
   "execution_count": null,
   "id": "e0f5bbf5",
   "metadata": {},
   "outputs": [],
   "source": [
    "corrected_ssd.plot_compact(baseline=True);"
   ]
  },
  {
   "cell_type": "code",
   "execution_count": null,
   "id": "171c09fc",
   "metadata": {},
   "outputs": [],
   "source": [
    "decomposition = corrected_ssd.quick_decomposition(num_components=3)\n",
    "rgcurve = corrected_ssd.xr.compute_rgcurve()\n",
    "ranges = decomposition.get_pairedranges()\n",
    "plot1 = decomposition.plot_components(title=\"Decomposition of Sample1 with Rg Curve and Paired Ranges\",\n",
    "                                      rgcurve=rgcurve, ranges=ranges)"
   ]
  },
  {
   "cell_type": "code",
   "execution_count": null,
   "id": "32801109",
   "metadata": {},
   "outputs": [],
   "source": [
    "rgcurve_atsas = corrected_ssd.xr.compute_rgcurve_atsas()"
   ]
  },
  {
   "cell_type": "code",
   "execution_count": null,
   "id": "e4156d87",
   "metadata": {},
   "outputs": [],
   "source": [
    "mapping = corrected_ssd.estimate_mapping()\n",
    "concentration = corrected_ssd.compute_concentration(mapping, debug=True)"
   ]
  },
  {
   "cell_type": "code",
   "execution_count": null,
   "id": "78a29fdc",
   "metadata": {},
   "outputs": [],
   "source": [
    "import molass.Reports.ReportUtils\n",
    "from importlib import reload\n",
    "reload(molass.Reports.ReportUtils)\n",
    "from molass.Reports.ReportUtils import make_v1report\n",
    "\n",
    "rgcurves = rgcurve, rgcurve_atsas\n",
    "make_v1report(corrected_ssd, concentration=concentration, rgcurves=rgcurves, decomposition=decomposition, ranges=ranges, debug=True)"
   ]
  }
 ],
 "metadata": {
  "kernelspec": {
   "display_name": "Python 3",
   "language": "python",
   "name": "python3"
  },
  "language_info": {
   "codemirror_mode": {
    "name": "ipython",
    "version": 3
   },
   "file_extension": ".py",
   "mimetype": "text/x-python",
   "name": "python",
   "nbconvert_exporter": "python",
   "pygments_lexer": "ipython3",
   "version": "3.12.10"
  }
 },
 "nbformat": 4,
 "nbformat_minor": 5
}
