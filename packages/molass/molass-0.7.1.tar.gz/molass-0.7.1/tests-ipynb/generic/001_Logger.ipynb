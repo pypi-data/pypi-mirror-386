{
 "cells": [
  {
   "cell_type": "code",
   "execution_count": 1,
   "id": "40674a58",
   "metadata": {},
   "outputs": [
    {
     "name": "stderr",
     "output_type": "stream",
     "text": [
      "INFO:__main__:Starting V1Report module\n"
     ]
    }
   ],
   "source": [
    "import logging\n",
    "\n",
    "logging.basicConfig(level=logging.INFO)\n",
    "logger = logging.getLogger(__name__)\n",
    "logger.info(\"Starting V1Report module\")"
   ]
  },
  {
   "cell_type": "code",
   "execution_count": 2,
   "id": "5aa9d1a2",
   "metadata": {},
   "outputs": [
    {
     "name": "stderr",
     "output_type": "stream",
     "text": [
      "INFO:__main__:Logging from another thread\n"
     ]
    }
   ],
   "source": [
    "import threading\n",
    "\n",
    "def log_in_thread():\n",
    "    import logging\n",
    "    logger = logging.getLogger(__name__)\n",
    "    logger.info(\"Logging from another thread\")\n",
    "\n",
    "thread = threading.Thread(target=log_in_thread)\n",
    "thread.start()\n",
    "thread.join()"
   ]
  }
 ],
 "metadata": {
  "kernelspec": {
   "display_name": "Python 3",
   "language": "python",
   "name": "python3"
  },
  "language_info": {
   "codemirror_mode": {
    "name": "ipython",
    "version": 3
   },
   "file_extension": ".py",
   "mimetype": "text/x-python",
   "name": "python",
   "nbconvert_exporter": "python",
   "pygments_lexer": "ipython3",
   "version": "3.12.10"
  }
 },
 "nbformat": 4,
 "nbformat_minor": 5
}
