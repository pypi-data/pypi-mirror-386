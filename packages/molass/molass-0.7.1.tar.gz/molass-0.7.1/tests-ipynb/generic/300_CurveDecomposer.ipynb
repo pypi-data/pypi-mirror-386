{
 "cells": [
  {
   "cell_type": "code",
   "execution_count": null,
   "id": "ce65d18e",
   "metadata": {},
   "outputs": [],
   "source": [
    "import os\n",
    "from molass.Local import get_local_settings\n",
    "from molass.Global.Options import set_molass_options\n",
    "set_molass_options(flowchange='auto')\n",
    "local_settings = get_local_settings()\n",
    "DATA_ROOT_FOLDER = local_settings['DATA_ROOT_FOLDER']\n",
    "from molass.DataObjects import SecSaxsData as SSD"
   ]
  },
  {
   "cell_type": "code",
   "execution_count": null,
   "id": "7af34906",
   "metadata": {
    "vscode": {
     "languageId": "javascript"
    }
   },
   "outputs": [],
   "source": [
    "# data_path = os.path.join(DATA_ROOT_FOLDER, '20211222', 'PKS')\n",
    "data_path = os.path.join(DATA_ROOT_FOLDER, '20201009_2')\n",
    "ssd = SSD(data_path)"
   ]
  },
  {
   "cell_type": "code",
   "execution_count": null,
   "id": "18a32ba7",
   "metadata": {
    "vscode": {
     "languageId": "javascript"
    }
   },
   "outputs": [],
   "source": [
    "ssd.plot_compact(debug=False)"
   ]
  }
 ],
 "metadata": {
  "kernelspec": {
   "display_name": "Python 3",
   "language": "python",
   "name": "python3"
  },
  "language_info": {
   "codemirror_mode": {
    "name": "ipython",
    "version": 3
   },
   "file_extension": ".py",
   "mimetype": "text/x-python",
   "name": "python",
   "nbconvert_exporter": "python",
   "pygments_lexer": "ipython3",
   "version": "3.12.10"
  }
 },
 "nbformat": 4,
 "nbformat_minor": 5
}
