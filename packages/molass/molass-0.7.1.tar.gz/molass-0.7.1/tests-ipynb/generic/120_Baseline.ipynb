{
 "cells": [
  {
   "cell_type": "markdown",
   "id": "3ef8fd51-f117-4070-8071-830485910497",
   "metadata": {},
   "source": [
    "# Baseline Correction\n",
    "\n",
    "* linear (default)\n",
    "* uvdiff\n",
    "* integral"
   ]
  },
  {
   "cell_type": "code",
   "execution_count": null,
   "id": "d3953473-6679-45b6-930e-3de02658625b",
   "metadata": {},
   "outputs": [],
   "source": [
    "import sys\n",
    "sys.path.insert(0, '../../')\n",
    "sys.path.insert(0, '../../../molass-legacy')\n",
    "from molass import get_version\n",
    "assert get_version() >= '0.1.4', \"This tutorial requires molass version 0.1.4 or higher.\"\n",
    "from molass_data import SAMPLE1\n",
    "from molass.DataObjects import SecSaxsData as SSD\n",
    "ssd = SSD(SAMPLE1)\n",
    "icurve = ssd.xr.get_icurve()"
   ]
  },
  {
   "cell_type": "code",
   "execution_count": null,
   "id": "c0d4c86f",
   "metadata": {},
   "outputs": [],
   "source": [
    "import matplotlib.pyplot as plt\n",
    "import numpy as np\n",
    "def plot_curve(icurve):\n",
    "    from importlib import reload\n",
    "    import molass.Baseline.IntegralBaseline\n",
    "    reload(molass.Baseline.IntegralBaseline)\n",
    "    from molass.Baseline.IntegralBaseline import compute_integral_baseline\n",
    "    x, y = icurve.get_xy()\n",
    "    baseline = compute_integral_baseline(x, y)\n",
    "    fig, ax = plt.subplots()\n",
    "    ax.plot(x, y, label='Intensity')\n",
    "    ax.plot(x, baseline, label='Baseline', linestyle='--')\n",
    "    ax.legend()\n",
    "    fig.tight_layout()\n",
    "    plt.show()"
   ]
  },
  {
   "cell_type": "code",
   "execution_count": null,
   "id": "9fb8d7ed",
   "metadata": {},
   "outputs": [],
   "source": [
    "plot_curve(icurve)"
   ]
  },
  {
   "cell_type": "code",
   "execution_count": null,
   "id": "18778b99",
   "metadata": {},
   "outputs": [],
   "source": [
    "import os\n",
    "from molass.Local import get_local_settings\n",
    "local_settings = get_local_settings()\n",
    "DATA_ROOT_FOLDER = local_settings['DATA_ROOT_FOLDER']\n",
    "PATH = os.path.join(DATA_ROOT_FOLDER, '20200304_1') \n",
    "ssd2 = SSD(PATH)\n",
    "icurve2 = ssd2.xr.get_icurve()\n",
    "plot_curve(icurve2)"
   ]
  },
  {
   "cell_type": "code",
   "execution_count": null,
   "id": "f1052fcc",
   "metadata": {},
   "outputs": [],
   "source": [
    "import numpy as np\n",
    "y = np.arange(1, 11)\n",
    "cy = np.cumsum(y)\n",
    "y, cy"
   ]
  }
 ],
 "metadata": {
  "kernelspec": {
   "display_name": "Python 3",
   "language": "python",
   "name": "python3"
  },
  "language_info": {
   "codemirror_mode": {
    "name": "ipython",
    "version": 3
   },
   "file_extension": ".py",
   "mimetype": "text/x-python",
   "name": "python",
   "nbconvert_exporter": "python",
   "pygments_lexer": "ipython3",
   "version": "3.12.10"
  }
 },
 "nbformat": 4,
 "nbformat_minor": 5
}
