{
 "cells": [
  {
   "cell_type": "code",
   "execution_count": 1,
   "id": "40674a58",
   "metadata": {},
   "outputs": [
    {
     "data": {
      "text/plain": [
       "(True, '16.0', True)"
      ]
     },
     "execution_count": 1,
     "metadata": {},
     "output_type": "execute_result"
    }
   ],
   "source": [
    "from molass_legacy.Env.EnvInfo import get_global_env_info\n",
    "env_info = get_global_env_info()\n",
    "env_info.excel_is_available, env_info.excel_version, env_info.atsas_is_available"
   ]
  }
 ],
 "metadata": {
  "kernelspec": {
   "display_name": "Python 3",
   "language": "python",
   "name": "python3"
  },
  "language_info": {
   "codemirror_mode": {
    "name": "ipython",
    "version": 3
   },
   "file_extension": ".py",
   "mimetype": "text/x-python",
   "name": "python",
   "nbconvert_exporter": "python",
   "pygments_lexer": "ipython3",
   "version": "3.12.10"
  }
 },
 "nbformat": 4,
 "nbformat_minor": 5
}
