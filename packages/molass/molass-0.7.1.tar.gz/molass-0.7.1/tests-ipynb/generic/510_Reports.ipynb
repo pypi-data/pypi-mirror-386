{
 "cells": [
  {
   "cell_type": "code",
   "execution_count": null,
   "id": "87617fe8",
   "metadata": {},
   "outputs": [],
   "source": [
    "# See .env for PYTHONPATH settings\n",
    "# PYTHONPATH = D:\\Github\\molass-library;D:\\Github\\molass-legacy;C:\\Program Files\\Python312\\Lib\\site-packages\n",
    "from molass import get_version as molass_version\n",
    "from molass_legacy import get_version as legacy_version\n",
    "molass_version(toml_only=True), legacy_version(toml_only=True)"
   ]
  },
  {
   "cell_type": "code",
   "execution_count": null,
   "id": "b6fff088",
   "metadata": {},
   "outputs": [],
   "source": [
    "from molass.Global.Options import set_molass_options\n",
    "set_molass_options(flowchange='auto')\n",
    "from molass_data import SAMPLE1\n",
    "from molass.DataObjects import SecSaxsData as SSD"
   ]
  },
  {
   "cell_type": "code",
   "execution_count": null,
   "id": "fbd779f8",
   "metadata": {
    "vscode": {
     "languageId": "javascript"
    }
   },
   "outputs": [],
   "source": [
    "ssd = SSD(SAMPLE1)\n",
    "ssd.plot_3d();"
   ]
  },
  {
   "cell_type": "code",
   "execution_count": null,
   "id": "2e97b9a6",
   "metadata": {
    "vscode": {
     "languageId": "javascript"
    }
   },
   "outputs": [],
   "source": [
    "trimmed_ssd = ssd.trimmed_copy()\n",
    "trimmed_ssd.set_baseline_method(('linear', 'uvdiff'))\n",
    "trimmed_ssd.plot_compact(baseline=True);"
   ]
  },
  {
   "cell_type": "code",
   "execution_count": null,
   "id": "0274e91f",
   "metadata": {},
   "outputs": [],
   "source": [
    "corrected_ssd = trimmed_ssd.corrected_copy()\n"
   ]
  },
  {
   "cell_type": "code",
   "execution_count": null,
   "id": "e0f5bbf5",
   "metadata": {},
   "outputs": [],
   "source": [
    "corrected_ssd.plot_compact(baseline=True);"
   ]
  },
  {
   "cell_type": "code",
   "execution_count": null,
   "id": "a708ca90",
   "metadata": {},
   "outputs": [],
   "source": [
    "rgcurve = corrected_ssd.xr.compute_rgcurve()\n",
    "rgcurve_atsas = corrected_ssd.xr.compute_rgcurve_atsas()\n",
    "rgcurves = rgcurve, rgcurve_atsas"
   ]
  },
  {
   "cell_type": "code",
   "execution_count": null,
   "id": "c49740bb",
   "metadata": {},
   "outputs": [],
   "source": [
    "decomposition = corrected_ssd.quick_decomposition(num_components=3)\n",
    "pairedranges = decomposition.get_pairedranges(area_ratio=0.7,debug=True)\n",
    "plot1 = decomposition.plot_components(title=\"Decomposition of Sample1 with Rg Curve and Paired Ranges\",\n",
    "                                      rgcurve=rgcurve, pairedranges=pairedranges)"
   ]
  },
  {
   "cell_type": "code",
   "execution_count": null,
   "id": "78a29fdc",
   "metadata": {},
   "outputs": [],
   "source": [
    "import molass.Reports.V1Report\n",
    "from importlib import reload\n",
    "reload(molass.Reports.V1Report)\n",
    "from molass.Reports.V1Report import make_v1report\n",
    "\n",
    "make_v1report(corrected_ssd, rgcurves=rgcurves, decomposition=decomposition, ranges=pairedranges, debug=True, track_concentration=True)"
   ]
  },
  {
   "cell_type": "code",
   "execution_count": null,
   "id": "55aca50c",
   "metadata": {},
   "outputs": [],
   "source": [
    "if False:\n",
    "    import numpy as np\n",
    "    import matplotlib.pyplot as plt\n",
    "    c_vector = np.loadtxt(r'report_folder/c_vector.csv', delimiter=',')\n",
    "    c_vector_legacy = np.loadtxt(r'D:\\PyTools\\reports\\analysis-023\\c_vector_legacy.csv', delimiter=',')\n",
    "    fig, ax = plt.subplots()\n",
    "    ax.plot(c_vector, label='c_vector')\n",
    "    ax.plot(c_vector_legacy, label='c_vector_legacy')\n",
    "    plt.show()"
   ]
  },
  {
   "cell_type": "code",
   "execution_count": null,
   "id": "2cd2223b",
   "metadata": {},
   "outputs": [],
   "source": []
  }
 ],
 "metadata": {
  "kernelspec": {
   "display_name": "Python 3",
   "language": "python",
   "name": "python3"
  },
  "language_info": {
   "codemirror_mode": {
    "name": "ipython",
    "version": 3
   },
   "file_extension": ".py",
   "mimetype": "text/x-python",
   "name": "python",
   "nbconvert_exporter": "python",
   "pygments_lexer": "ipython3",
   "version": "3.12.10"
  }
 },
 "nbformat": 4,
 "nbformat_minor": 5
}
