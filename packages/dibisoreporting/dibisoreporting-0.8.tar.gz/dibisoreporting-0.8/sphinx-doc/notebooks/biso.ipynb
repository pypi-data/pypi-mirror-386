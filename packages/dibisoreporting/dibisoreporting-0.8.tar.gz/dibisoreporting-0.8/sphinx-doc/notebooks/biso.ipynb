{
 "cells": [
  {
   "cell_type": "markdown",
   "id": "e12c69317906fc53",
   "metadata": {},
   "source": [
    "# BiSO\n",
    "\n",
    "Example to generate a BiSO report (Bilan de la Science Ouverte: Open-Science report).\n",
    "\n",
    "This generates the report for the Université Paris-Salcay, year 2024, and limits the number of works to\n",
    "the value set by `max_entities` (100) in the library `dibisoplot`."
   ]
  },
  {
   "cell_type": "code",
   "execution_count": 1,
   "id": "b213d3f7-399c-4ec1-a77f-f22ca0af7de9",
   "metadata": {},
   "outputs": [
    {
     "name": "stderr",
     "output_type": "stream",
     "text": [
      "WARNING:root:Max entities reached (plot CollaborationMap).\n"
     ]
    },
    {
     "name": "stdout",
     "output_type": "stream",
     "text": [
      "Returning 1000 doi (limit at 1000)\n",
      "Downloading the metadata for 1000 DOIs from OpenAlex...\n",
      "683 works retrieved successfully from OpenAlex out of 1000\n",
      "1965 unique institutions with which we collaborated on works\n",
      "1258 unique institutions to plot\n"
     ]
    },
    {
     "name": "stderr",
     "output_type": "stream",
     "text": [
      "WARNING:root:Max entities reached (plot CollaborationMap).\n"
     ]
    },
    {
     "name": "stdout",
     "output_type": "stream",
     "text": [
      "Returning 1000 doi (limit at 1000)\n",
      "Downloading the metadata for 1000 DOIs from OpenAlex...\n",
      "683 works retrieved successfully from OpenAlex out of 1000\n",
      "1965 unique institutions with which we collaborated on works\n",
      "1965 unique institutions to plot\n"
     ]
    },
    {
     "name": "stderr",
     "output_type": "stream",
     "text": [
      "WARNING:root:Max entities reached (plot Journals).\n"
     ]
    },
    {
     "name": "stdout",
     "output_type": "stream",
     "text": [
      "Returning 1000 doi (limit at 1000)\n"
     ]
    },
    {
     "name": "stderr",
     "output_type": "stream",
     "text": [
      "WARNING:root:Max entities reached (plot Journals).\n"
     ]
    },
    {
     "name": "stdout",
     "output_type": "stream",
     "text": [
      "Returning 1000 hal (limit at 1000)\n",
      "Found 812 works out of 1000\n"
     ]
    },
    {
     "name": "stderr",
     "output_type": "stream",
     "text": [
      "WARNING:root:Max entities reached (plot PrivateSectorCollaborations).\n"
     ]
    },
    {
     "name": "stdout",
     "output_type": "stream",
     "text": [
      "Returning 1000 doi (limit at 1000)\n"
     ]
    },
    {
     "name": "stderr",
     "output_type": "stream",
     "text": [
      "WARNING:root:Max entities reached (plot PrivateSectorCollaborations).\n"
     ]
    },
    {
     "name": "stdout",
     "output_type": "stream",
     "text": [
      "Returning 1000 hal (limit at 1000)\n",
      "Found 24 works with private sector collaboration out of 1000 queried works\n"
     ]
    },
    {
     "name": "stderr",
     "output_type": "stream",
     "text": [
      "INFO:dibisoreporting.dibisoreporting:Downloading tex file from https://raw.githubusercontent.com/dibiso-upsaclay/dibiso-latex-templates/refs/heads/main/examples/biso/biso-main.tex...\n",
      "INFO:dibisoreporting.dibisoreporting:Successfully downloaded the tex file\n",
      "INFO:dibisoreporting.dibisoreporting:Downloading tex file from https://raw.githubusercontent.com/dibiso-upsaclay/dibiso-latex-templates/refs/heads/main/examples/biso/biso-biblio.tex...\n",
      "INFO:dibisoreporting.dibisoreporting:Successfully downloaded the tex file\n",
      "INFO:dibisoreporting.dibisoreporting:The latexmkrc file has been created with the default content.\n",
      "INFO:dibisoreporting.dibisoreporting:Using GitHub release URL: https://github.com/dibiso-upsaclay/dibiso-latex-templates/releases/latest\n",
      "INFO:dibisoreporting.dibisoreporting:Downloading LaTeX template from https://api.github.com/repos/dibiso-upsaclay/dibiso-latex-templates/releases/latest...\n",
      "INFO:dibisoreporting.dibisoreporting:Successfully downloaded and extracted the LaTeX template\n"
     ]
    }
   ],
   "source": [
    "from dibisoreporting import Biso\n",
    "\n",
    "import os\n",
    "from dotenv import load_dotenv\n",
    "\n",
    "load_dotenv()\n",
    "\n",
    "biso_reporting = Biso(\n",
    "    \"UNIV-PARIS-SACLAY\",\n",
    "    2024,\n",
    "    entity_acronym = \"UPSaclay\",\n",
    "    entity_full_name = \"Université Paris-Saclay\",\n",
    "    latex_main_file_url = \"https://raw.githubusercontent.com/dibiso-upsaclay/dibiso-latex-templates/refs/heads/main/examples/biso/biso-main.tex\",\n",
    "    latex_biblio_file_url = \"https://raw.githubusercontent.com/dibiso-upsaclay/dibiso-latex-templates/refs/heads/main/examples/biso/biso-biblio.tex\",\n",
    "    latex_template_url = \"https://github.com/dibiso-upsaclay/dibiso-latex-templates/releases/latest\",\n",
    "    max_entities = 1000,\n",
    "    root_path = \"biso_report\",\n",
    "    watermark_text = \"DUMMY DATA\",\n",
    "    scanr_api_password = os.getenv(\"SCANR_API_PASSWORD\"),\n",
    "    scanr_api_url = os.getenv(\"SCANR_API_URL\"),\n",
    "    scanr_api_username = os.getenv(\"SCANR_API_USERNAME\"),\n",
    "    scanr_bso_index = os.getenv(\"SCANR_BSO_INDEX\"),\n",
    "    scanr_publications_index = os.getenv(\"SCANR_PUBLICATIONS_INDEX\"),\n",
    ")\n",
    "\n",
    "# Don't add more than 100 references to the bibtex references file:\n",
    "visualizations_to_make_custom_config = {\n",
    "    \"WorksBibtex\": [\n",
    "        {\n",
    "            \"max_plotted_entities\": 100\n",
    "        }\n",
    "    ]\n",
    "}\n",
    "\n",
    "# generate the report with the custom config:\n",
    "biso_reporting.generate_report(\n",
    "    visualizations_to_make = visualizations_to_make_custom_config\n",
    ")"
   ]
  },
  {
   "cell_type": "markdown",
   "id": "24641189-dda2-48aa-8246-8454d7426c42",
   "metadata": {},
   "source": [
    "Romain THOMAS 2025  \n",
    "DiBISO - Université Paris-Saclay"
   ]
  }
 ],
 "metadata": {
  "kernelspec": {
   "display_name": "Python 3 (ipykernel)",
   "language": "python",
   "name": "python3"
  },
  "language_info": {
   "codemirror_mode": {
    "name": "ipython",
    "version": 3
   },
   "file_extension": ".py",
   "mimetype": "text/x-python",
   "name": "python",
   "nbconvert_exporter": "python",
   "pygments_lexer": "ipython3",
   "version": "3.12.3"
  }
 },
 "nbformat": 4,
 "nbformat_minor": 5
}
