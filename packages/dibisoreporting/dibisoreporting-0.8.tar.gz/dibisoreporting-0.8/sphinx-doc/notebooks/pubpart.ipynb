{
 "cells": [
  {
   "cell_type": "markdown",
   "id": "e12c69317906fc53",
   "metadata": {},
   "source": [
    "# PubPart\n",
    "\n",
    "Example to generate a Publications & Partnerships report.\n",
    "\n",
    "This generates the report for the collaborations between Université Paris-Saclay and Stockholms Universitet, years 2024-2025."
   ]
  },
  {
   "cell_type": "code",
   "execution_count": 1,
   "id": "b213d3f7-399c-4ec1-a77f-f22ca0af7de9",
   "metadata": {},
   "outputs": [
    {
     "name": "stderr",
     "output_type": "stream",
     "text": [
      "INFO:dibisoreporting.dibisoreporting:The latexmkrc file has been created with the default content.\n",
      "INFO:dibisoreporting.dibisoreporting:Using GitHub release URL: https://github.com/dibiso-upsaclay/dibiso-latex-templates/releases/latest\n",
      "INFO:dibisoreporting.dibisoreporting:Downloading LaTeX template from https://api.github.com/repos/dibiso-upsaclay/dibiso-latex-templates/releases/latest...\n",
      "INFO:dibisoreporting.dibisoreporting:Successfully downloaded and extracted the LaTeX template\n"
     ]
    }
   ],
   "source": [
    "from dibisoreporting import PubPart\n",
    "\n",
    "biso_reporting = PubPart(\n",
    "    \"I277688954\",\n",
    "    \"2024-2025\",\n",
    "    secondary_entity_id = \"I265217849\",\n",
    "    entities_acronym = \"UPSaclay et SU\",\n",
    "    entities_full_name = \"Université Paris-Saclay et Stockholms Universitet\",\n",
    "    latex_main_file_url = \"https://raw.githubusercontent.com/dibiso-upsaclay/dibiso-latex-templates/refs/heads/main/examples/pubpart/pubpart-main.tex\",\n",
    "    latex_biblio_file_url = \"https://raw.githubusercontent.com/dibiso-upsaclay/dibiso-latex-templates/refs/heads/main/examples/pubpart/pubpart-biblio.tex\",\n",
    "    latex_template_url = \"https://github.com/dibiso-upsaclay/dibiso-latex-templates/releases/latest\",\n",
    "    plot_main_color = \"#63003C\",\n",
    "    root_path = \"pubpart_report\",\n",
    "    watermark_text = \"EXAMPLE\",\n",
    ")\n",
    "\n",
    "\n",
    "biso_reporting.generate_report()"
   ]
  },
  {
   "cell_type": "markdown",
   "id": "24641189-dda2-48aa-8246-8454d7426c42",
   "metadata": {},
   "source": [
    "Romain THOMAS 2025  \n",
    "DiBISO - Université Paris-Saclay"
   ]
  }
 ],
 "metadata": {
  "kernelspec": {
   "display_name": "Python 3 (ipykernel)",
   "language": "python",
   "name": "python3"
  },
  "language_info": {
   "codemirror_mode": {
    "name": "ipython",
    "version": 3
   },
   "file_extension": ".py",
   "mimetype": "text/x-python",
   "name": "python",
   "nbconvert_exporter": "python",
   "pygments_lexer": "ipython3",
   "version": "3.12.3"
  }
 },
 "nbformat": 4,
 "nbformat_minor": 5
}
