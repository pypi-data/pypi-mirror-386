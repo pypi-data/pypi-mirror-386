{
 "cells": [
  {
   "attachments": {},
   "cell_type": "markdown",
   "metadata": {},
   "source": [
    "# 🌀 A bluer Jupyter Notebook"
   ]
  },
  {
   "cell_type": "code",
   "execution_count": 1,
   "metadata": {},
   "outputs": [
    {
     "name": "stderr",
     "output_type": "stream",
     "text": [
      "🌀  bluer_sandbox-5.137.1.bluer_ai-12.160.1.bluer_objects-6.137.1.bluer_options-5.125.1.torch-2.2.2.Python 3.12.9.Darwin 23.6.0..Jupyter-Notebook,\n",
      "built on 29 May 2025, 11:50:03\n"
     ]
    }
   ],
   "source": [
    "from bluer_options import string\n",
    "from bluer_objects import objects, testing\n",
    "from bluer_sandbox import notebooks\n",
    "\n",
    "from bluer_sandbox.host import signature\n",
    "from bluer_sandbox.logger import logger\n",
    "\n",
    "logger.info(f\"{'.'.join(signature())},\\nbuilt on {string.pretty_date()}\")"
   ]
  },
  {
   "cell_type": "code",
   "execution_count": 2,
   "metadata": {},
   "outputs": [
    {
     "name": "stderr",
     "output_type": "stream",
     "text": [
      "🌀  📂 bluer-sandbox-notebook-2025-05-29-11-50-03-k2nn0a\n"
     ]
    }
   ],
   "source": [
    "object_name = objects.unique_object(\"bluer-sandbox-notebook\")"
   ]
  },
  {
   "attachments": {},
   "cell_type": "markdown",
   "metadata": {},
   "source": [
    "---"
   ]
  },
  {
   "cell_type": "code",
   "execution_count": 3,
   "metadata": {},
   "outputs": [
    {
     "name": "stderr",
     "output_type": "stream",
     "text": [
      "🌀  Hello World! 🪄\n"
     ]
    }
   ],
   "source": [
    "logger.info(\"Hello World! 🪄\")"
   ]
  },
  {
   "cell_type": "code",
   "execution_count": 4,
   "metadata": {},
   "outputs": [
    {
     "name": "stderr",
     "output_type": "stream",
     "text": [
      "🌀  bluer_objects.testing.functions.create_test_asset: bluer-sandbox-notebook-2025-05-29-11-50-03-k2nn0a\n",
      "🌀  bluer_objects.file.save.save_image: 512x512x3:uint8 -> /Users/kamangir/storage/abcli/bluer-sandbox-notebook-2025-05-29-11-50-03-k2nn0a/test-00.png\n",
      "🌀  bluer_objects.file.save.save_yaml: b -> /Users/kamangir/storage/abcli/bluer-sandbox-notebook-2025-05-29-11-50-03-k2nn0a/this.yaml.\n",
      "🌀  bluer_objects.file.save.save_yaml: b -> /Users/kamangir/storage/abcli/bluer-sandbox-notebook-2025-05-29-11-50-03-k2nn0a/that.yaml.\n",
      "🌀  bluer_objects.file.save.save_yaml: b -> /Users/kamangir/storage/abcli/bluer-sandbox-notebook-2025-05-29-11-50-03-k2nn0a/subfolder/this.yaml.\n",
      "🌀  bluer_objects.file.save.save_yaml: b -> /Users/kamangir/storage/abcli/bluer-sandbox-notebook-2025-05-29-11-50-03-k2nn0a/subfolder/that.yaml.\n",
      "🌀  bluer_objects.file.save.save_yaml: b -> /Users/kamangir/storage/abcli/bluer-sandbox-notebook-2025-05-29-11-50-03-k2nn0a/test.yaml.\n"
     ]
    }
   ],
   "source": [
    "assert testing.create_test_asset(object_name=object_name, depth=1)"
   ]
  },
  {
   "attachments": {},
   "cell_type": "markdown",
   "metadata": {},
   "source": [
    "---"
   ]
  },
  {
   "cell_type": "code",
   "execution_count": 5,
   "metadata": {},
   "outputs": [
    {
     "name": "stderr",
     "output_type": "stream",
     "text": [
      "  0%|          | 0/9 [00:00<?, ?it/s]🌀  WebDAVRequestInterface.mkdir /bluer-sandbox-notebook-2025-05-29-11-50-03-k2nn0a/\n",
      "🌀  WebDAVRequestInterface.mkdir /bluer-sandbox-notebook-2025-05-29-11-50-03-k2nn0a/subfolder/\n",
      "🌀  WebDAVRequestInterface.upload bluer-sandbox-notebook-2025-05-29-11-50-03-k2nn0a/subfolder/that.yaml\n",
      " 33%|███▎      | 3/9 [01:19<02:39, 26.63s/it]🌀  WebDAVRequestInterface.upload bluer-sandbox-notebook-2025-05-29-11-50-03-k2nn0a/subfolder/this.yaml\n",
      " 44%|████▍     | 4/9 [03:02<04:15, 51.05s/it]🌀  WebDAVRequestInterface.upload bluer-sandbox-notebook-2025-05-29-11-50-03-k2nn0a/test-00.png\n",
      " 56%|█████▌    | 5/9 [04:28<04:08, 62.12s/it]🌀  WebDAVRequestInterface.upload bluer-sandbox-notebook-2025-05-29-11-50-03-k2nn0a/test.json\n",
      " 67%|██████▋   | 6/9 [06:13<03:46, 75.56s/it]🌀  WebDAVRequestInterface.upload bluer-sandbox-notebook-2025-05-29-11-50-03-k2nn0a/test.yaml\n",
      " 78%|███████▊  | 7/9 [08:01<02:51, 85.52s/it]🌀  WebDAVRequestInterface.upload bluer-sandbox-notebook-2025-05-29-11-50-03-k2nn0a/that.yaml\n",
      " 89%|████████▉ | 8/9 [09:50<01:32, 92.51s/it]🌀  WebDAVRequestInterface.upload bluer-sandbox-notebook-2025-05-29-11-50-03-k2nn0a/this.yaml\n",
      "100%|██████████| 9/9 [11:59<00:00, 79.98s/it] \n",
      "🌀  ⏺️  bluer-sandbox-notebook-2025-05-29-11-50-03-k2nn0a | 00001\n",
      "🌀  ⬆️  /Users/kamangir/storage/abcli/bluer-sandbox-notebook-2025-05-29-11-50-03-k2nn0a/test.json\n",
      "🌀  ⬆️  /Users/kamangir/storage/abcli/bluer-sandbox-notebook-2025-05-29-11-50-03-k2nn0a/test-00.png\n",
      "🌀  ⬆️  /Users/kamangir/storage/abcli/bluer-sandbox-notebook-2025-05-29-11-50-03-k2nn0a/test.yaml\n",
      "🌀  ⬆️  /Users/kamangir/storage/abcli/bluer-sandbox-notebook-2025-05-29-11-50-03-k2nn0a/that.yaml\n",
      "🌀  ⬆️  /Users/kamangir/storage/abcli/bluer-sandbox-notebook-2025-05-29-11-50-03-k2nn0a/this.yaml\n",
      "🌀  ⏹️  bluer-sandbox-notebook-2025-05-29-11-50-03-k2nn0a\n"
     ]
    }
   ],
   "source": [
    "assert notebooks.upload(object_name)"
   ]
  },
  {
   "cell_type": "code",
   "execution_count": 6,
   "metadata": {},
   "outputs": [],
   "source": [
    "# END"
   ]
  }
 ],
 "metadata": {
  "kernelspec": {
   "display_name": "base",
   "language": "python",
   "name": "python3"
  },
  "language_info": {
   "codemirror_mode": {
    "name": "ipython",
    "version": 3
   },
   "file_extension": ".py",
   "mimetype": "text/x-python",
   "name": "python",
   "nbconvert_exporter": "python",
   "pygments_lexer": "ipython3",
   "version": "3.12.9"
  },
  "toc": {
   "base_numbering": 1,
   "nav_menu": {},
   "number_sections": true,
   "sideBar": true,
   "skip_h1_title": false,
   "title_cell": "Table of Contents",
   "title_sidebar": "Contents",
   "toc_cell": false,
   "toc_position": {},
   "toc_section_display": true,
   "toc_window_display": false
  }
 },
 "nbformat": 4,
 "nbformat_minor": 2
}
