{
 "cells": [
  {
   "cell_type": "code",
   "execution_count": 1,
   "id": "47a7d18f-ebf8-451c-aa11-c8dc93ecd013",
   "metadata": {},
   "outputs": [],
   "source": [
    "import csoundengine as ce"
   ]
  },
  {
   "cell_type": "code",
   "execution_count": 2,
   "id": "c14ce51f-dcec-451d-8dc0-ce5d12769f61",
   "metadata": {},
   "outputs": [
    {
     "name": "stderr",
     "output_type": "stream",
     "text": [
      "using libsndfile-1.2.2\n",
      "\u001b[msr = 48000.0,\u001b[m kr = 750.000,\u001b[m ksmps = 64\n",
      "\u001b[m0dBFS level = 1.0,\u001b[m A4 tuning = 440.0\n",
      "\u001b[maudio buffered in 256 sample-frame blocks\n",
      "\u001b[mreading 2048-byte blks of shorts from adc:Built-in Audio Analog Stereo: (RAW)\n",
      "writing 512 sample blks of 64-bit floats to dac:Built-in Audio Analog Stereo:\n",
      "SECTION 1:\n",
      "\u001b[m"
     ]
    },
    {
     "name": "stdout",
     "output_type": "stream",
     "text": [
      "finished!!, args=(401.0002,)\n"
     ]
    }
   ],
   "source": [
    "s = ce.Session()"
   ]
  },
  {
   "cell_type": "code",
   "execution_count": 3,
   "id": "f08244b5-e32c-4275-bc5d-3d059866f938",
   "metadata": {},
   "outputs": [
    {
     "data": {
      "text/html": [
       "Instr <strong style=\"color:MediumSeaGreen\">sin</strong><br>\n",
       "&nbsp&nbsp&nbsp&nbsp<span style=\"font-size:90%\"><b>kfreq</b>=<code>1000</code></span><br>\n",
       "<hr style=\"width:38%;text-align:left;margin-left:0;border: 1px dashed; background: transparent;\">\n",
       "<span style=\"font-size:90%\"><div class=\"highlight\" style=\"background: #f8f8f8\"><pre style=\"line-height: 125%;\"><span></span><code><span style=\"color: #B00040\">a</span>0<span style=\"color: #BBB\"> </span><span style=\"color: #666\">=</span><span style=\"color: #BBB\"> </span><span style=\"color: #008000\">oscili</span>(<span style=\"color: #666\">0.1</span>,<span style=\"color: #BBB\"> </span><span style=\"color: #B00040\">k</span>freq)\n",
       "<span style=\"color: #008000\">outch</span><span style=\"color: #BBB\"> </span><span style=\"color: #666\">1</span>,<span style=\"color: #BBB\"> </span><span style=\"color: #B00040\">a</span>0\n",
       "</code></pre></div>\n",
       "</span>"
      ],
      "text/plain": [
       "Instr(sin, kfreq=1000)"
      ]
     },
     "execution_count": 3,
     "metadata": {},
     "output_type": "execute_result"
    }
   ],
   "source": [
    "s.defInstr('sin', r'''\n",
    "|kfreq=1000|\n",
    "a0 = oscili(0.1, kfreq)\n",
    "outch 1, a0\n",
    "''')"
   ]
  },
  {
   "cell_type": "code",
   "execution_count": 4,
   "id": "22998137-13bd-4b9d-95e0-bebe0baf54fa",
   "metadata": {},
   "outputs": [
    {
     "data": {
      "application/vnd.jupyter.widget-view+json": {
       "model_id": "f73decc655634b5b9910b41ee1476006",
       "version_major": 2,
       "version_minor": 0
      },
      "text/plain": [
       "Button(description='Stop', style=ButtonStyle())"
      ]
     },
     "metadata": {},
     "output_type": "display_data"
    },
    {
     "data": {
      "application/vnd.jupyter.widget-view+json": {
       "model_id": "8501c63a028943d28b8690921852b670",
       "version_major": 2,
       "version_minor": 0
      },
      "text/plain": [
       "Output()"
      ]
     },
     "metadata": {},
     "output_type": "display_data"
    },
    {
     "data": {
      "text/html": [
       "<p><span style=\"font-size:12px;\">Synth(‖ <strong style=\"color:MediumSeaGreen\">sin</strong>:401.0002, dur=-1)</span></p>"
      ],
      "text/plain": [
       "Synth(‖ sin=401.0002 start=36.318 dur=-1 kfreq=1000)"
      ]
     },
     "execution_count": 4,
     "metadata": {},
     "output_type": "execute_result"
    }
   ],
   "source": [
    "synth = s.sched('sin', whenfinished=lambda *args: print(f\"finished!!, {args=}\"))\n",
    "synth.stop(2)\n",
    "synth"
   ]
  },
  {
   "cell_type": "code",
   "execution_count": 10,
   "id": "b033f12b-f28e-4936-a4b8-43a64c2aa4b2",
   "metadata": {},
   "outputs": [],
   "source": [
    "synth = s.sched('sin', delay=0.5)\n"
   ]
  },
  {
   "cell_type": "code",
   "execution_count": 11,
   "id": "08a8c6c4-650e-4bc8-b153-4dc85430f412",
   "metadata": {},
   "outputs": [
    {
     "name": "stdout",
     "output_type": "stream",
     "text": [
      "unscheduling 401.0006, status=future, delay=1\n"
     ]
    },
    {
     "data": {
      "application/vnd.jupyter.widget-view+json": {
       "model_id": "74969985bf914bc892150a99adc7498c",
       "version_major": 2,
       "version_minor": 0
      },
      "text/plain": [
       "Button(description='Stop', style=ButtonStyle())"
      ]
     },
     "metadata": {},
     "output_type": "display_data"
    },
    {
     "data": {
      "application/vnd.jupyter.widget-view+json": {
       "model_id": "2d7f2a76f4a341de9b24916edabc6cf9",
       "version_major": 2,
       "version_minor": 0
      },
      "text/plain": [
       "Output()"
      ]
     },
     "metadata": {},
     "output_type": "display_data"
    },
    {
     "data": {
      "text/html": [
       "<p><span style=\"font-size:12px;\">Synth(‖ <strong style=\"color:MediumSeaGreen\">sin</strong>:401.0006, start=0.187, dur=-1)</span></p>"
      ],
      "text/plain": [
       "Synth(‖ sin=401.0006 start=61.325 dur=-1 kfreq=1000)"
      ]
     },
     "execution_count": 11,
     "metadata": {},
     "output_type": "execute_result"
    }
   ],
   "source": [
    "synth.stop(1)\n",
    "synth"
   ]
  },
  {
   "cell_type": "code",
   "execution_count": null,
   "id": "979b59ea-cf75-4c7a-a13b-7b67e51087fa",
   "metadata": {},
   "outputs": [],
   "source": []
  }
 ],
 "metadata": {
  "kernelspec": {
   "display_name": "Python 3 (ipykernel)",
   "language": "python",
   "name": "python3"
  },
  "language_info": {
   "codemirror_mode": {
    "name": "ipython",
    "version": 3
   },
   "file_extension": ".py",
   "mimetype": "text/x-python",
   "name": "python",
   "nbconvert_exporter": "python",
   "pygments_lexer": "ipython3",
   "version": "3.13.3"
  }
 },
 "nbformat": 4,
 "nbformat_minor": 5
}
