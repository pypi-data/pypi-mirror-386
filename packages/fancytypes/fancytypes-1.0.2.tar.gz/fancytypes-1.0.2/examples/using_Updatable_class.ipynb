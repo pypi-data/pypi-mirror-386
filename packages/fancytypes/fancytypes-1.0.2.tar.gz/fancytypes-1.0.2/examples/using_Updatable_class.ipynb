{
 "cells": [
  {
   "cell_type": "markdown",
   "id": "6bb7f461",
   "metadata": {},
   "source": [
    "# Using the ``fancytypes.Updatable`` class #"
   ]
  },
  {
   "cell_type": "markdown",
   "id": "5d6d9cd7",
   "metadata": {},
   "source": [
    "## A NOTE BEFORE STARTING ##"
   ]
  },
  {
   "cell_type": "markdown",
   "id": "880421e9",
   "metadata": {},
   "source": [
    "Since the ``fancytypes`` git repository tracks this notebook under its original\n",
    "basename ``using_Updatable_class.ipynb``, we recommend that you copy the\n",
    "original notebook and rename it to any other basename that is not one of the\n",
    "original basenames that appear in the ``<root>/examples`` directory before\n",
    "executing any of the notebook cells below, where ``<root>`` is the root of the\n",
    "``fancytypes`` repository. This way you can explore the notebook by executing\n",
    "and modifying cells without changing the original notebook, which is being\n",
    "tracked by git."
   ]
  },
  {
   "cell_type": "markdown",
   "id": "aa5db4b4-bfc1-4c8d-8203-5bfe04ecb0f8",
   "metadata": {},
   "source": [
    "## Table of contents ##"
   ]
  },
  {
   "cell_type": "markdown",
   "id": "f85fbd9a-9a38-44af-bb34-218581eac084",
   "metadata": {},
   "source": [
    "- [Import necessary modules](#Import-necessary-modules)\n",
    "- [Introduction](#Introduction)\n",
    "- [Defining the ``SliceShuffler`` class](#Defining-the-SliceShuffler-class)\n",
    "- [Using the ``SliceShuffler`` class](#Using-the-SliceShuffler-class)"
   ]
  },
  {
   "cell_type": "markdown",
   "id": "12b0d90e",
   "metadata": {},
   "source": [
    "## Import necessary modules ##"
   ]
  },
  {
   "cell_type": "code",
   "execution_count": 1,
   "id": "e7f9787f",
   "metadata": {},
   "outputs": [
    {
     "name": "stdout",
     "output_type": "stream",
     "text": [
      "The history saving thread hit an unexpected error (OperationalError('attempt to write a readonly database')).History will not be written to the database.\n"
     ]
    }
   ],
   "source": [
    "# For performing deep copies.\n",
    "import copy\n",
    "\n",
    "\n",
    "\n",
    "# For general array handling and constructing random number generators.\n",
    "import numpy as np\n",
    "\n",
    "# For validating and converting objects.\n",
    "import czekitout.check\n",
    "import czekitout.convert\n",
    "\n",
    "\n",
    "\n",
    "# The library that is the subject of this demonstration.\n",
    "import fancytypes"
   ]
  },
  {
   "cell_type": "markdown",
   "id": "e667d633",
   "metadata": {},
   "source": [
    "## Introduction ##"
   ]
  },
  {
   "cell_type": "markdown",
   "id": "ec7f2509",
   "metadata": {},
   "source": [
    "In this notebook, we use the ``fancytypes.Updatable`` class to define a class of\n",
    "\"slice shufflers\", which we define as objects that can shuffle/re-order the\n",
    "elements in a slice of a given array. This is a somewhat contrived example use\n",
    "of the ``fancytypes.Updatable`` class, however it is simple and complete. You \n",
    "can find the documentation for the ``fancytypes.Updatable`` class\n",
    "[here](https://mrfitzpa.github.io/fancytypes/_autosummary/fancytypes.Updatable.html).\n",
    "It is recommended that you consult the documentation of this class as you \n",
    "explore the notebook.\n",
    "\n",
    "This notebook also demonstrates how one can use the helper function \n",
    "``fancytypes.return_validation_and_conversion_funcs``. We use this function to\n",
    "define our class of slice shufflers. You can find the documentation for this\n",
    "helper function\n",
    "[here](https://mrfitzpa.github.io/fancytypes/_autosummary/fancytypes.return_validation_and_conversion_funcs.html).\n",
    "\n",
    "**Users should make sure to navigate the documentation for the version of\n",
    "fancytypes that they are currently using.**\n",
    "\n",
    "In order to execute the cells in this notebook as intended, a set of Python\n",
    "libraries need to be installed in the Python environment within which the cells\n",
    "of the notebook are to be executed. For this particular notebook, users need to\n",
    "install:\n",
    "\n",
    "    fancytypes\n",
    "    jupyter\n",
    "\n",
    "Users can install these libraries either via `pip`:\n",
    "\n",
    "    pip install fancytypes[examples]\n",
    "\n",
    "or `conda`:\n",
    "\n",
    "    conda install -y fancytypes jupyter -c conda-forge"
   ]
  },
  {
   "cell_type": "markdown",
   "id": "ee0993ba",
   "metadata": {},
   "source": [
    "## Defining the ``SliceShuffler`` class ##"
   ]
  },
  {
   "cell_type": "markdown",
   "id": "21a2529c",
   "metadata": {},
   "source": [
    "We define the ``SliceShuffler`` class as a subclass of the\n",
    "``fancytypes.Updatable`` class."
   ]
  },
  {
   "cell_type": "code",
   "execution_count": 2,
   "id": "5bdd09c4",
   "metadata": {},
   "outputs": [],
   "source": [
    "# Define the validation and conversion functions.\n",
    "def _check_and_convert_slice_obj(params):\n",
    "    obj_name = \"slice_obj\"\n",
    "    kwargs = {\"obj\": params[obj_name],\n",
    "              \"obj_name\": obj_name,\n",
    "              \"accepted_types\": (slice,)}\n",
    "    czekitout.check.if_instance_of_any_accepted_types(**kwargs)\n",
    "    slice_obj = copy.deepcopy(params[obj_name])\n",
    "\n",
    "    return slice_obj\n",
    "\n",
    "def _check_and_convert_seed(params):\n",
    "    obj_name = \"seed\"\n",
    "    kwargs = {\"obj\": params[obj_name], \"obj_name\": obj_name}\n",
    "    seed = czekitout.convert.to_nonnegative_int(**kwargs)\n",
    "\n",
    "    return seed\n",
    "\n",
    "\n",
    "\n",
    "# Define the ``SliceShuffler`` class.\n",
    "class SliceShuffler(fancytypes.Updatable):\n",
    "    ctor_param_names = (\"slice_obj\", \"seed\")\n",
    "    kwargs = {\"namespace_as_dict\": globals(),\n",
    "              \"ctor_param_names\": ctor_param_names}\n",
    "\n",
    "    _validation_and_conversion_funcs_ = \\\n",
    "        fancytypes.return_validation_and_conversion_funcs(**kwargs)\n",
    "\n",
    "    del ctor_param_names, kwargs\n",
    "\n",
    "    def __init__(self, slice_obj, seed, skip_validation_and_conversion=False):\n",
    "        ctor_params = {key: val\n",
    "                       for key, val in locals().items()\n",
    "                       if (key not in (\"self\", \"__class__\"))}\n",
    "\n",
    "        # Set ``skip_cls_tests`` to ``True`` only if you are sure that the\n",
    "        # class that you have defined was done so properly, i.e. without errors.\n",
    "        skip_cls_tests = True\n",
    "\n",
    "        kwargs = ctor_params\n",
    "        kwargs[\"skip_cls_tests\"] = skip_cls_tests\n",
    "        fancytypes.Updatable.__init__(self, **kwargs)\n",
    "\n",
    "        self.execute_post_core_attrs_update_actions()\n",
    "\n",
    "        return None\n",
    "\n",
    "    def execute_post_core_attrs_update_actions(self):\n",
    "        seed = self.core_attrs[\"seed\"]\n",
    "        self._random_generator = np.random.default_rng(seed)\n",
    "\n",
    "        return None\n",
    "\n",
    "    @classmethod\n",
    "    def get_validation_and_conversion_funcs(cls):\n",
    "        validation_and_conversion_funcs = \\\n",
    "            cls._validation_and_conversion_funcs_.copy()\n",
    "\n",
    "        return validation_and_conversion_funcs\n",
    "\n",
    "    def shuffle(self, array):\n",
    "        try:\n",
    "            array = np.array(array)\n",
    "        except:\n",
    "            err_msg = (\"The object ``array`` must be array-like.\")\n",
    "            raise TypeError(err_msg)\n",
    "            \n",
    "        slice_obj = self.core_attrs[\"slice_obj\"]\n",
    "        array_slice = array[slice_obj]\n",
    "        self._random_generator.shuffle(array_slice)\n",
    "        array[slice_obj] = array_slice\n",
    "\n",
    "        return array\n",
    "\n",
    "    # Overriding the method ``fancytypes.Updatable.update`` such that additional\n",
    "    # steps are performed after updating any core attributes.\n",
    "    def update(self, \n",
    "               new_core_attr_subset_candidate, \n",
    "               skip_validation_and_conversion=False):\n",
    "        kwargs = {key: val\n",
    "                  for key, val in locals().items()\n",
    "                  if (key not in (\"self\", \"__class__\"))}\n",
    "        fancytypes.Updatable.update(self, **kwargs)\n",
    "        self.execute_post_core_attrs_update_actions()\n",
    "\n",
    "        return None"
   ]
  },
  {
   "cell_type": "markdown",
   "id": "75d799c1",
   "metadata": {},
   "source": [
    "## Using the ``SliceShuffler`` class ##"
   ]
  },
  {
   "cell_type": "markdown",
   "id": "6666ce06",
   "metadata": {},
   "source": [
    "First let's construct a valid instance of the ``SliceShuffler`` class with \n",
    "validation and conversion of the parameters to be mapped to the \n",
    "\"core attributes\" enabled."
   ]
  },
  {
   "cell_type": "code",
   "execution_count": 3,
   "id": "bfc7801c",
   "metadata": {},
   "outputs": [],
   "source": [
    "kwargs = {\"slice_obj\": slice(None, 6, 1), \n",
    "          \"seed\": 5.0, \n",
    "          \"skip_validation_and_conversion\": False}\n",
    "slice_shuffler = SliceShuffler(**kwargs)"
   ]
  },
  {
   "cell_type": "markdown",
   "id": "4278954d-fef9-40b4-8e31-1f6e9022c289",
   "metadata": {},
   "source": [
    "There are 3 ways of accessing the core attributes via the public API:"
   ]
  },
  {
   "cell_type": "code",
   "execution_count": 4,
   "id": "db5ddda9-b02a-4a88-bd3e-bf3062693f24",
   "metadata": {},
   "outputs": [
    {
     "name": "stdout",
     "output_type": "stream",
     "text": [
      "{'slice_obj': slice(None, 6, 1), 'seed': 5}\n",
      "{'slice_obj': slice(None, 6, 1), 'seed': 5}\n",
      "{'slice_obj': slice(None, 6, 1), 'seed': 5}\n"
     ]
    }
   ],
   "source": [
    "# Returns a deep copy.\n",
    "core_attrs = slice_shuffler.core_attrs\n",
    "print(core_attrs)\n",
    "\n",
    "# Returns a deep copy.\n",
    "core_attrs = slice_shuffler.get_core_attrs(deep_copy=True)\n",
    "print(core_attrs)\n",
    "\n",
    "# Returns a reference, i.e. no copy is made. \n",
    "core_attrs = slice_shuffler.get_core_attrs(deep_copy=False)\n",
    "print(core_attrs)"
   ]
  },
  {
   "cell_type": "markdown",
   "id": "b9cc7d1b-6d00-44c1-a7d3-a801d48f9d61",
   "metadata": {},
   "source": [
    "There is 1 way of accessing the validation and conversion functions via the \n",
    "public API:"
   ]
  },
  {
   "cell_type": "code",
   "execution_count": 5,
   "id": "cfb7974e-6759-4ee4-950b-87b92879a426",
   "metadata": {},
   "outputs": [
    {
     "name": "stdout",
     "output_type": "stream",
     "text": [
      "{'slice_obj': <function _check_and_convert_slice_obj at 0x7f5ca1b56840>, 'seed': <function _check_and_convert_seed at 0x7f5ca1b568e0>}\n"
     ]
    }
   ],
   "source": [
    "# Returns a deep copy.\n",
    "validation_and_conversion_funcs = \\\n",
    "    slice_shuffler.validation_and_conversion_funcs\n",
    "\n",
    "print(validation_and_conversion_funcs)"
   ]
  },
  {
   "cell_type": "markdown",
   "id": "04d710e2-d8fe-4336-be3e-1a2853ebfe26",
   "metadata": {},
   "source": [
    "Next let's construct a valid instance of the SliceShuffler class with validation\n",
    "and conversion of the parameters to be mapped to the core attributes disabled. \n",
    "This option is desired primarily when the user wants to avoid potentially \n",
    "expensive copies and/or conversions of the parameters to be mapped to the core \n",
    "attributes. However, users must ensure that the construction parameters are \n",
    "valid and require no conversions."
   ]
  },
  {
   "cell_type": "code",
   "execution_count": 6,
   "id": "e275772b-c80d-4966-8992-9481c95043eb",
   "metadata": {},
   "outputs": [
    {
     "name": "stdout",
     "output_type": "stream",
     "text": [
      "{'slice_obj': slice(None, 6, 1), 'seed': 5}\n"
     ]
    }
   ],
   "source": [
    "kwargs = {\"slice_obj\": slice(None, 6, 1), \n",
    "          \"seed\": 5,  # Manually converted parameter to a `int` as required.\n",
    "          \"skip_validation_and_conversion\": True}\n",
    "slice_shuffler = SliceShuffler(**kwargs)\n",
    "\n",
    "core_attrs = slice_shuffler.core_attrs\n",
    "print(core_attrs)"
   ]
  },
  {
   "cell_type": "markdown",
   "id": "b65c3b10",
   "metadata": {},
   "source": [
    "Let's shuffle an array using the class."
   ]
  },
  {
   "cell_type": "code",
   "execution_count": 7,
   "id": "63b797ed",
   "metadata": {},
   "outputs": [
    {
     "data": {
      "text/plain": [
       "array([1, 4, 2, 3, 5, 0, 6, 7, 8, 9])"
      ]
     },
     "execution_count": 7,
     "metadata": {},
     "output_type": "execute_result"
    }
   ],
   "source": [
    "array = [0, 1, 2, 3, 4, 5, 6, 7, 8, 9]\n",
    "shuffled_array = slice_shuffler.shuffle(array)\n",
    "shuffled_array"
   ]
  },
  {
   "cell_type": "markdown",
   "id": "8545a2ac-d913-442e-9c7c-c331c2ccf20d",
   "metadata": {},
   "source": [
    "Let's update the slice shuffler with validations and conversions enabled. Again,\n",
    "users can optionally disable validations and conversions to avoid potentially\n",
    "expensive copies and/or conversions."
   ]
  },
  {
   "cell_type": "code",
   "execution_count": 8,
   "id": "ab654d7f-cacc-4790-9ca5-1d27c110f478",
   "metadata": {},
   "outputs": [
    {
     "name": "stdout",
     "output_type": "stream",
     "text": [
      "{'slice_obj': slice(3, None, 1), 'seed': 5}\n"
     ]
    }
   ],
   "source": [
    "new_core_attr_subset_candidate = {\"slice_obj\": slice(3, None, 1)}\n",
    "kwargs = {\"new_core_attr_subset_candidate\": new_core_attr_subset_candidate,\n",
    "          \"skip_validation_and_conversion\": False}\n",
    "slice_shuffler.update(**kwargs)\n",
    "\n",
    "print(slice_shuffler.core_attrs)"
   ]
  },
  {
   "cell_type": "markdown",
   "id": "d0470ee9",
   "metadata": {},
   "source": [
    "Let's shuffle the original array again."
   ]
  },
  {
   "cell_type": "code",
   "execution_count": 9,
   "id": "f4a8fb70",
   "metadata": {},
   "outputs": [
    {
     "data": {
      "text/plain": [
       "array([0, 1, 2, 4, 7, 5, 6, 9, 8, 3])"
      ]
     },
     "execution_count": 9,
     "metadata": {},
     "output_type": "execute_result"
    }
   ],
   "source": [
    "shuffled_array = slice_shuffler.shuffle(array)\n",
    "shuffled_array"
   ]
  },
  {
   "cell_type": "markdown",
   "id": "ef68ba33",
   "metadata": {},
   "source": [
    "Let's update the slice shuffler again."
   ]
  },
  {
   "cell_type": "code",
   "execution_count": 10,
   "id": "52a271e8-0df1-44f8-92d2-b90be6454b71",
   "metadata": {},
   "outputs": [
    {
     "name": "stdout",
     "output_type": "stream",
     "text": [
      "{'slice_obj': slice(3, 7, 1), 'seed': 2}\n"
     ]
    }
   ],
   "source": [
    "new_core_attr_subset_candidate = {\"slice_obj\": slice(3, 7, 1), \"seed\": 2}\n",
    "kwargs = {\"new_core_attr_subset_candidate\": new_core_attr_subset_candidate,\n",
    "          \"skip_validation_and_conversion\": True}\n",
    "slice_shuffler.update(**kwargs)\n",
    "\n",
    "print(slice_shuffler.core_attrs)"
   ]
  },
  {
   "cell_type": "markdown",
   "id": "569f6517",
   "metadata": {},
   "source": [
    "Let's shuffle the original array again."
   ]
  },
  {
   "cell_type": "code",
   "execution_count": 11,
   "id": "96fff60c",
   "metadata": {},
   "outputs": [
    {
     "data": {
      "text/plain": [
       "array([0, 1, 2, 6, 5, 3, 4, 7, 8, 9])"
      ]
     },
     "execution_count": 11,
     "metadata": {},
     "output_type": "execute_result"
    }
   ],
   "source": [
    "shuffled_array = slice_shuffler.shuffle(array)\n",
    "shuffled_array"
   ]
  },
  {
   "cell_type": "markdown",
   "id": "326eb18b",
   "metadata": {},
   "source": [
    "Let's try constructing instances of the ``SliceShuffler`` class with invalid\n",
    "construction parameters. The following two codes blocks return errors as \n",
    "expected:"
   ]
  },
  {
   "cell_type": "code",
   "execution_count": 12,
   "id": "f3d03af8",
   "metadata": {},
   "outputs": [
    {
     "ename": "TypeError",
     "evalue": "The object ``slice_obj`` must be an instance of the class `slice`.",
     "output_type": "error",
     "traceback": [
      "\u001b[31m---------------------------------------------------------------------------\u001b[39m",
      "\u001b[31mTypeError\u001b[39m                                 Traceback (most recent call last)",
      "\u001b[36mCell\u001b[39m\u001b[36m \u001b[39m\u001b[32mIn[12]\u001b[39m\u001b[32m, line 3\u001b[39m\n\u001b[32m      1\u001b[39m \u001b[38;5;66;03m# Note that by default ``skip_validation_and_conversion == False``.\u001b[39;00m\n\u001b[32m      2\u001b[39m kwargs = {\u001b[33m\"\u001b[39m\u001b[33mslice_obj\u001b[39m\u001b[33m\"\u001b[39m: \u001b[32m3\u001b[39m, \u001b[33m\"\u001b[39m\u001b[33mseed\u001b[39m\u001b[33m\"\u001b[39m: \u001b[32m5.0\u001b[39m}\n\u001b[32m----> \u001b[39m\u001b[32m3\u001b[39m slice_shuffler = \u001b[43mSliceShuffler\u001b[49m\u001b[43m(\u001b[49m\u001b[43m*\u001b[49m\u001b[43m*\u001b[49m\u001b[43mkwargs\u001b[49m\u001b[43m)\u001b[49m\n",
      "\u001b[36mCell\u001b[39m\u001b[36m \u001b[39m\u001b[32mIn[2]\u001b[39m\u001b[32m, line 43\u001b[39m, in \u001b[36mSliceShuffler.__init__\u001b[39m\u001b[34m(self, slice_obj, seed, skip_validation_and_conversion)\u001b[39m\n\u001b[32m     41\u001b[39m kwargs = ctor_params\n\u001b[32m     42\u001b[39m kwargs[\u001b[33m\"\u001b[39m\u001b[33mskip_cls_tests\u001b[39m\u001b[33m\"\u001b[39m] = skip_cls_tests\n\u001b[32m---> \u001b[39m\u001b[32m43\u001b[39m \u001b[43mfancytypes\u001b[49m\u001b[43m.\u001b[49m\u001b[43mUpdatable\u001b[49m\u001b[43m.\u001b[49m\u001b[34;43m__init__\u001b[39;49m\u001b[43m(\u001b[49m\u001b[38;5;28;43mself\u001b[39;49m\u001b[43m,\u001b[49m\u001b[43m \u001b[49m\u001b[43m*\u001b[49m\u001b[43m*\u001b[49m\u001b[43mkwargs\u001b[49m\u001b[43m)\u001b[49m\n\u001b[32m     45\u001b[39m \u001b[38;5;28mself\u001b[39m.execute_post_core_attrs_update_actions()\n\u001b[32m     47\u001b[39m \u001b[38;5;28;01mreturn\u001b[39;00m \u001b[38;5;28;01mNone\u001b[39;00m\n",
      "\u001b[36mFile \u001b[39m\u001b[32m/mnt/mfitzpat/miniconda3/envs/fancytypes/lib/python3.12/site-packages/fancytypes/__init__.py:443\u001b[39m, in \u001b[36mUpdatable.__init__\u001b[39m\u001b[34m(self, skip_validation_and_conversion, skip_cls_tests, **kwargs)\u001b[39m\n\u001b[32m    437\u001b[39m \u001b[38;5;28;01mdef\u001b[39;00m\u001b[38;5;250m \u001b[39m\u001b[34m__init__\u001b[39m(\u001b[38;5;28mself\u001b[39m,\n\u001b[32m    438\u001b[39m              skip_validation_and_conversion=\\\n\u001b[32m    439\u001b[39m              _default_skip_validation_and_conversion,\n\u001b[32m    440\u001b[39m              skip_cls_tests=\\\n\u001b[32m    441\u001b[39m              _default_skip_cls_tests,\n\u001b[32m    442\u001b[39m              **kwargs):\n\u001b[32m--> \u001b[39m\u001b[32m443\u001b[39m     \u001b[38;5;28;43msuper\u001b[39;49m\u001b[43m(\u001b[49m\u001b[43m)\u001b[49m\u001b[43m.\u001b[49m\u001b[34;43m__init__\u001b[39;49m\u001b[43m(\u001b[49m\u001b[43mskip_validation_and_conversion\u001b[49m\u001b[43m,\u001b[49m\n\u001b[32m    444\u001b[39m \u001b[43m                     \u001b[49m\u001b[43mskip_cls_tests\u001b[49m\u001b[43m,\u001b[49m\n\u001b[32m    445\u001b[39m \u001b[43m                     \u001b[49m\u001b[43m*\u001b[49m\u001b[43m*\u001b[49m\u001b[43mkwargs\u001b[49m\u001b[43m)\u001b[49m\n\u001b[32m    447\u001b[39m     \u001b[38;5;28;01mreturn\u001b[39;00m \u001b[38;5;28;01mNone\u001b[39;00m\n",
      "\u001b[36mFile \u001b[39m\u001b[32m/mnt/mfitzpat/miniconda3/envs/fancytypes/lib/python3.12/site-packages/fancytypes/__init__.py:243\u001b[39m, in \u001b[36mCheckable.__init__\u001b[39m\u001b[34m(self, skip_validation_and_conversion, skip_cls_tests, **kwargs)\u001b[39m\n\u001b[32m    236\u001b[39m     func_alias = _check_and_convert_params_to_be_mapped_to_core_attrs\n\u001b[32m    237\u001b[39m     params = {\u001b[33m\"\u001b[39m\u001b[33mvalidation_and_conversion_funcs\u001b[39m\u001b[33m\"\u001b[39m: \\\n\u001b[32m    238\u001b[39m               \u001b[38;5;28mself\u001b[39m._validation_and_conversion_funcs,\n\u001b[32m    239\u001b[39m               \u001b[33m\"\u001b[39m\u001b[33mparams_to_be_mapped_to_core_attrs\u001b[39m\u001b[33m\"\u001b[39m: \\\n\u001b[32m    240\u001b[39m               params_to_be_mapped_to_core_attrs,\n\u001b[32m    241\u001b[39m               \u001b[33m\"\u001b[39m\u001b[33mskip_validation_and_conversion\u001b[39m\u001b[33m\"\u001b[39m: \\\n\u001b[32m    242\u001b[39m               skip_validation_and_conversion}\n\u001b[32m--> \u001b[39m\u001b[32m243\u001b[39m     \u001b[38;5;28mself\u001b[39m._core_attrs = \u001b[43mfunc_alias\u001b[49m\u001b[43m(\u001b[49m\u001b[43mparams\u001b[49m\u001b[43m)\u001b[49m\n\u001b[32m    244\u001b[39m \u001b[38;5;28;01melse\u001b[39;00m:\n\u001b[32m    245\u001b[39m     \u001b[38;5;28mself\u001b[39m._core_attrs = params_to_be_mapped_to_core_attrs.copy()\n",
      "\u001b[36mFile \u001b[39m\u001b[32m/mnt/mfitzpat/miniconda3/envs/fancytypes/lib/python3.12/site-packages/fancytypes/__init__.py:105\u001b[39m, in \u001b[36m_check_and_convert_params_to_be_mapped_to_core_attrs\u001b[39m\u001b[34m(params)\u001b[39m\n\u001b[32m    100\u001b[39m params[\u001b[33m\"\u001b[39m\u001b[33mcore_attrs_candidate\u001b[39m\u001b[33m\"\u001b[39m] = \\\n\u001b[32m    101\u001b[39m     params[\u001b[33m\"\u001b[39m\u001b[33mparams_to_be_mapped_to_core_attrs\u001b[39m\u001b[33m\"\u001b[39m]\n\u001b[32m    102\u001b[39m params[\u001b[33m\"\u001b[39m\u001b[33mname_of_obj_alias_of_core_attrs_candidate\u001b[39m\u001b[33m\"\u001b[39m] = \\\n\u001b[32m    103\u001b[39m     \u001b[33m\"\u001b[39m\u001b[33mparams_to_be_mapped_to_core_attrs\u001b[39m\u001b[33m\"\u001b[39m\n\u001b[32m    104\u001b[39m params_to_be_mapped_to_core_attrs = \\\n\u001b[32m--> \u001b[39m\u001b[32m105\u001b[39m     \u001b[43m_check_and_convert_core_attrs_candidate\u001b[49m\u001b[43m(\u001b[49m\u001b[43mparams\u001b[49m\u001b[43m)\u001b[49m\n\u001b[32m    107\u001b[39m \u001b[38;5;28;01mdel\u001b[39;00m params[\u001b[33m\"\u001b[39m\u001b[33mcore_attrs_candidate\u001b[39m\u001b[33m\"\u001b[39m]\n\u001b[32m    108\u001b[39m \u001b[38;5;28;01mdel\u001b[39;00m params[\u001b[33m\"\u001b[39m\u001b[33mname_of_obj_alias_of_core_attrs_candidate\u001b[39m\u001b[33m\"\u001b[39m]\n",
      "\u001b[36mFile \u001b[39m\u001b[32m/mnt/mfitzpat/miniconda3/envs/fancytypes/lib/python3.12/site-packages/fancytypes/__init__.py:134\u001b[39m, in \u001b[36m_check_and_convert_core_attrs_candidate\u001b[39m\u001b[34m(params)\u001b[39m\n\u001b[32m    131\u001b[39m     validation_and_conversion_func = validation_and_conversion_funcs[key]\n\u001b[32m    133\u001b[39m     kwargs = {\u001b[33m\"\u001b[39m\u001b[33mparams\u001b[39m\u001b[33m\"\u001b[39m: core_attrs_candidate}\n\u001b[32m--> \u001b[39m\u001b[32m134\u001b[39m     core_attr_candidate = \u001b[43mvalidation_and_conversion_func\u001b[49m\u001b[43m(\u001b[49m\u001b[43m*\u001b[49m\u001b[43m*\u001b[49m\u001b[43mkwargs\u001b[49m\u001b[43m)\u001b[49m\n\u001b[32m    136\u001b[39m     core_attrs_candidate[key] = core_attr_candidate\n\u001b[32m    138\u001b[39m \u001b[38;5;28;01mreturn\u001b[39;00m core_attrs_candidate\n",
      "\u001b[36mCell\u001b[39m\u001b[36m \u001b[39m\u001b[32mIn[2]\u001b[39m\u001b[32m, line 7\u001b[39m, in \u001b[36m_check_and_convert_slice_obj\u001b[39m\u001b[34m(params)\u001b[39m\n\u001b[32m      3\u001b[39m obj_name = \u001b[33m\"\u001b[39m\u001b[33mslice_obj\u001b[39m\u001b[33m\"\u001b[39m\n\u001b[32m      4\u001b[39m kwargs = {\u001b[33m\"\u001b[39m\u001b[33mobj\u001b[39m\u001b[33m\"\u001b[39m: params[obj_name],\n\u001b[32m      5\u001b[39m           \u001b[33m\"\u001b[39m\u001b[33mobj_name\u001b[39m\u001b[33m\"\u001b[39m: obj_name,\n\u001b[32m      6\u001b[39m           \u001b[33m\"\u001b[39m\u001b[33maccepted_types\u001b[39m\u001b[33m\"\u001b[39m: (\u001b[38;5;28mslice\u001b[39m,)}\n\u001b[32m----> \u001b[39m\u001b[32m7\u001b[39m \u001b[43mczekitout\u001b[49m\u001b[43m.\u001b[49m\u001b[43mcheck\u001b[49m\u001b[43m.\u001b[49m\u001b[43mif_instance_of_any_accepted_types\u001b[49m\u001b[43m(\u001b[49m\u001b[43m*\u001b[49m\u001b[43m*\u001b[49m\u001b[43mkwargs\u001b[49m\u001b[43m)\u001b[49m\n\u001b[32m      8\u001b[39m slice_obj = copy.deepcopy(params[obj_name])\n\u001b[32m     10\u001b[39m \u001b[38;5;28;01mreturn\u001b[39;00m slice_obj\n",
      "\u001b[36mFile \u001b[39m\u001b[32m/mnt/mfitzpat/miniconda3/envs/fancytypes/lib/python3.12/site-packages/czekitout/check.py:189\u001b[39m, in \u001b[36mif_instance_of_any_accepted_types\u001b[39m\u001b[34m(obj, obj_name, accepted_types)\u001b[39m\n\u001b[32m    185\u001b[39m         unformatted_err_msg = _if_instance_of_any_accepted_types_err_msg_2\n\u001b[32m    186\u001b[39m         err_msg = unformatted_err_msg.format(obj_name,\n\u001b[32m    187\u001b[39m                                              names_of_accepted_types)\n\u001b[32m--> \u001b[39m\u001b[32m189\u001b[39m     \u001b[38;5;28;01mraise\u001b[39;00m \u001b[38;5;167;01mTypeError\u001b[39;00m(err_msg)\n\u001b[32m    191\u001b[39m \u001b[38;5;28;01mreturn\u001b[39;00m \u001b[38;5;28;01mNone\u001b[39;00m\n",
      "\u001b[31mTypeError\u001b[39m: The object ``slice_obj`` must be an instance of the class `slice`."
     ]
    }
   ],
   "source": [
    "# Note that by default ``skip_validation_and_conversion == False``.\n",
    "kwargs = {\"slice_obj\": 3, \"seed\": 5.0}\n",
    "slice_shuffler = SliceShuffler(**kwargs)"
   ]
  },
  {
   "cell_type": "code",
   "execution_count": 13,
   "id": "18357d52",
   "metadata": {},
   "outputs": [
    {
     "ename": "TypeError",
     "evalue": "The object ``seed`` must be an integer.",
     "output_type": "error",
     "traceback": [
      "\u001b[31m---------------------------------------------------------------------------\u001b[39m",
      "\u001b[31mValueError\u001b[39m                                Traceback (most recent call last)",
      "\u001b[36mFile \u001b[39m\u001b[32m/mnt/mfitzpat/miniconda3/envs/fancytypes/lib/python3.12/site-packages/czekitout/convert.py:374\u001b[39m, in \u001b[36mto_float\u001b[39m\u001b[34m(obj, obj_name)\u001b[39m\n\u001b[32m    372\u001b[39m \u001b[38;5;28;01melse\u001b[39;00m:\n\u001b[32m    373\u001b[39m     intermediate_conversion_of_obj = \\\n\u001b[32m--> \u001b[39m\u001b[32m374\u001b[39m         \u001b[38;5;28;43mcomplex\u001b[39;49m\u001b[43m(\u001b[49m\u001b[43mintermediate_conversion_of_obj\u001b[49m\u001b[43m)\u001b[49m\n\u001b[32m    376\u001b[39m     kwargs[\u001b[33m\"\u001b[39m\u001b[33mobj\u001b[39m\u001b[33m\"\u001b[39m] = intermediate_conversion_of_obj\n",
      "\u001b[31mValueError\u001b[39m: complex() arg is a malformed string",
      "\nDuring handling of the above exception, another exception occurred:\n",
      "\u001b[31mValueError\u001b[39m                                Traceback (most recent call last)",
      "\u001b[36mFile \u001b[39m\u001b[32m/mnt/mfitzpat/miniconda3/envs/fancytypes/lib/python3.12/site-packages/czekitout/convert.py:382\u001b[39m, in \u001b[36mto_float\u001b[39m\u001b[34m(obj, obj_name)\u001b[39m\n\u001b[32m    380\u001b[39m \u001b[38;5;28;01mtry\u001b[39;00m:\n\u001b[32m    381\u001b[39m     intermediate_conversion_of_obj = \\\n\u001b[32m--> \u001b[39m\u001b[32m382\u001b[39m         \u001b[38;5;28;43mcomplex\u001b[39;49m\u001b[43m(\u001b[49m\u001b[43mnp\u001b[49m\u001b[43m.\u001b[49m\u001b[43marray\u001b[49m\u001b[43m(\u001b[49m\u001b[43mintermediate_conversion_of_obj\u001b[49m\u001b[43m)\u001b[49m\u001b[43m.\u001b[49m\u001b[43mtolist\u001b[49m\u001b[43m(\u001b[49m\u001b[43m)\u001b[49m\u001b[43m)\u001b[49m\n\u001b[32m    384\u001b[39m     kwargs[\u001b[33m\"\u001b[39m\u001b[33mobj\u001b[39m\u001b[33m\"\u001b[39m] = intermediate_conversion_of_obj\n",
      "\u001b[31mValueError\u001b[39m: complex() arg is a malformed string",
      "\nDuring handling of the above exception, another exception occurred:\n",
      "\u001b[31mTypeError\u001b[39m                                 Traceback (most recent call last)",
      "\u001b[36mFile \u001b[39m\u001b[32m/mnt/mfitzpat/miniconda3/envs/fancytypes/lib/python3.12/site-packages/czekitout/check.py:424\u001b[39m, in \u001b[36mif_float\u001b[39m\u001b[34m(obj, obj_name)\u001b[39m\n\u001b[32m    423\u001b[39m check_if_scalar = if_scalar  \u001b[38;5;66;03m# Alias for readability.\u001b[39;00m\n\u001b[32m--> \u001b[39m\u001b[32m424\u001b[39m \u001b[43mcheck_if_scalar\u001b[49m\u001b[43m(\u001b[49m\u001b[43mobj\u001b[49m\u001b[43m,\u001b[49m\u001b[43m \u001b[49m\u001b[43mobj_name\u001b[49m\u001b[43m)\u001b[49m\n\u001b[32m    426\u001b[39m obj_as_complex = \u001b[38;5;28mcomplex\u001b[39m(np.array(obj).tolist())\n",
      "\u001b[36mFile \u001b[39m\u001b[32m/mnt/mfitzpat/miniconda3/envs/fancytypes/lib/python3.12/site-packages/czekitout/check.py:396\u001b[39m, in \u001b[36mif_scalar\u001b[39m\u001b[34m(obj, obj_name)\u001b[39m\n\u001b[32m    395\u001b[39m     err_msg = _if_scalar_err_msg_1.format(obj_name)\n\u001b[32m--> \u001b[39m\u001b[32m396\u001b[39m     \u001b[38;5;28;01mraise\u001b[39;00m \u001b[38;5;167;01mTypeError\u001b[39;00m(err_msg)\n\u001b[32m    398\u001b[39m \u001b[38;5;28;01mreturn\u001b[39;00m \u001b[38;5;28;01mNone\u001b[39;00m\n",
      "\u001b[31mTypeError\u001b[39m: The object ``seed`` must be a scalar.",
      "\nDuring handling of the above exception, another exception occurred:\n",
      "\u001b[31mTypeError\u001b[39m                                 Traceback (most recent call last)",
      "\u001b[36mFile \u001b[39m\u001b[32m/mnt/mfitzpat/miniconda3/envs/fancytypes/lib/python3.12/site-packages/czekitout/convert.py:423\u001b[39m, in \u001b[36mto_int\u001b[39m\u001b[34m(obj, obj_name)\u001b[39m\n\u001b[32m    422\u001b[39m kwargs = {\u001b[33m\"\u001b[39m\u001b[33mobj\u001b[39m\u001b[33m\"\u001b[39m: intermediate_conversion_of_obj, \u001b[33m\"\u001b[39m\u001b[33mobj_name\u001b[39m\u001b[33m\"\u001b[39m: obj_name}\n\u001b[32m--> \u001b[39m\u001b[32m423\u001b[39m intermediate_conversion_of_obj = \u001b[43mconvert_to_float\u001b[49m\u001b[43m(\u001b[49m\u001b[43m*\u001b[49m\u001b[43m*\u001b[49m\u001b[43mkwargs\u001b[49m\u001b[43m)\u001b[49m\n\u001b[32m    425\u001b[39m kwargs[\u001b[33m\"\u001b[39m\u001b[33mobj\u001b[39m\u001b[33m\"\u001b[39m] = intermediate_conversion_of_obj\n",
      "\u001b[36mFile \u001b[39m\u001b[32m/mnt/mfitzpat/miniconda3/envs/fancytypes/lib/python3.12/site-packages/czekitout/convert.py:389\u001b[39m, in \u001b[36mto_float\u001b[39m\u001b[34m(obj, obj_name)\u001b[39m\n\u001b[32m    388\u001b[39m         kwargs[\u001b[33m\"\u001b[39m\u001b[33mobj\u001b[39m\u001b[33m\"\u001b[39m] = intermediate_conversion_of_obj\n\u001b[32m--> \u001b[39m\u001b[32m389\u001b[39m         \u001b[43mczekitout\u001b[49m\u001b[43m.\u001b[49m\u001b[43mcheck\u001b[49m\u001b[43m.\u001b[49m\u001b[43mif_float\u001b[49m\u001b[43m(\u001b[49m\u001b[43m*\u001b[49m\u001b[43m*\u001b[49m\u001b[43mkwargs\u001b[49m\u001b[43m)\u001b[49m\n\u001b[32m    391\u001b[39m \u001b[38;5;28;01mreturn\u001b[39;00m result\n",
      "\u001b[36mFile \u001b[39m\u001b[32m/mnt/mfitzpat/miniconda3/envs/fancytypes/lib/python3.12/site-packages/czekitout/check.py:431\u001b[39m, in \u001b[36mif_float\u001b[39m\u001b[34m(obj, obj_name)\u001b[39m\n\u001b[32m    430\u001b[39m     err_msg = _if_float_err_msg_1.format(obj_name)\n\u001b[32m--> \u001b[39m\u001b[32m431\u001b[39m     \u001b[38;5;28;01mraise\u001b[39;00m \u001b[38;5;167;01mTypeError\u001b[39;00m(err_msg)\n\u001b[32m    433\u001b[39m \u001b[38;5;28;01mreturn\u001b[39;00m \u001b[38;5;28;01mNone\u001b[39;00m\n",
      "\u001b[31mTypeError\u001b[39m: The object ``seed`` must be a real number.",
      "\nDuring handling of the above exception, another exception occurred:\n",
      "\u001b[31mTypeError\u001b[39m                                 Traceback (most recent call last)",
      "\u001b[36mFile \u001b[39m\u001b[32m/mnt/mfitzpat/miniconda3/envs/fancytypes/lib/python3.12/site-packages/czekitout/check.py:424\u001b[39m, in \u001b[36mif_float\u001b[39m\u001b[34m(obj, obj_name)\u001b[39m\n\u001b[32m    423\u001b[39m check_if_scalar = if_scalar  \u001b[38;5;66;03m# Alias for readability.\u001b[39;00m\n\u001b[32m--> \u001b[39m\u001b[32m424\u001b[39m \u001b[43mcheck_if_scalar\u001b[49m\u001b[43m(\u001b[49m\u001b[43mobj\u001b[49m\u001b[43m,\u001b[49m\u001b[43m \u001b[49m\u001b[43mobj_name\u001b[49m\u001b[43m)\u001b[49m\n\u001b[32m    426\u001b[39m obj_as_complex = \u001b[38;5;28mcomplex\u001b[39m(np.array(obj).tolist())\n",
      "\u001b[36mFile \u001b[39m\u001b[32m/mnt/mfitzpat/miniconda3/envs/fancytypes/lib/python3.12/site-packages/czekitout/check.py:396\u001b[39m, in \u001b[36mif_scalar\u001b[39m\u001b[34m(obj, obj_name)\u001b[39m\n\u001b[32m    395\u001b[39m     err_msg = _if_scalar_err_msg_1.format(obj_name)\n\u001b[32m--> \u001b[39m\u001b[32m396\u001b[39m     \u001b[38;5;28;01mraise\u001b[39;00m \u001b[38;5;167;01mTypeError\u001b[39;00m(err_msg)\n\u001b[32m    398\u001b[39m \u001b[38;5;28;01mreturn\u001b[39;00m \u001b[38;5;28;01mNone\u001b[39;00m\n",
      "\u001b[31mTypeError\u001b[39m: The object ``seed`` must be a scalar.",
      "\nDuring handling of the above exception, another exception occurred:\n",
      "\u001b[31mTypeError\u001b[39m                                 Traceback (most recent call last)",
      "\u001b[36mFile \u001b[39m\u001b[32m/mnt/mfitzpat/miniconda3/envs/fancytypes/lib/python3.12/site-packages/czekitout/check.py:648\u001b[39m, in \u001b[36mif_int\u001b[39m\u001b[34m(obj, obj_name)\u001b[39m\n\u001b[32m    647\u001b[39m check_if_float = if_float  \u001b[38;5;66;03m# Alias for readability.\u001b[39;00m\n\u001b[32m--> \u001b[39m\u001b[32m648\u001b[39m \u001b[43mcheck_if_float\u001b[49m\u001b[43m(\u001b[49m\u001b[43mobj\u001b[49m\u001b[43m,\u001b[49m\u001b[43m \u001b[49m\u001b[43mobj_name\u001b[49m\u001b[43m)\u001b[49m\n\u001b[32m    650\u001b[39m real_part_of_obj = \u001b[38;5;28mcomplex\u001b[39m(np.array(obj).tolist()).real\n",
      "\u001b[36mFile \u001b[39m\u001b[32m/mnt/mfitzpat/miniconda3/envs/fancytypes/lib/python3.12/site-packages/czekitout/check.py:431\u001b[39m, in \u001b[36mif_float\u001b[39m\u001b[34m(obj, obj_name)\u001b[39m\n\u001b[32m    430\u001b[39m     err_msg = _if_float_err_msg_1.format(obj_name)\n\u001b[32m--> \u001b[39m\u001b[32m431\u001b[39m     \u001b[38;5;28;01mraise\u001b[39;00m \u001b[38;5;167;01mTypeError\u001b[39;00m(err_msg)\n\u001b[32m    433\u001b[39m \u001b[38;5;28;01mreturn\u001b[39;00m \u001b[38;5;28;01mNone\u001b[39;00m\n",
      "\u001b[31mTypeError\u001b[39m: The object ``seed`` must be a real number.",
      "\nDuring handling of the above exception, another exception occurred:\n",
      "\u001b[31mTypeError\u001b[39m                                 Traceback (most recent call last)",
      "\u001b[36mFile \u001b[39m\u001b[32m/mnt/mfitzpat/miniconda3/envs/fancytypes/lib/python3.12/site-packages/czekitout/convert.py:600\u001b[39m, in \u001b[36mto_nonnegative_int\u001b[39m\u001b[34m(obj, obj_name)\u001b[39m\n\u001b[32m    599\u001b[39m kwargs = {\u001b[33m\"\u001b[39m\u001b[33mobj\u001b[39m\u001b[33m\"\u001b[39m: intermediate_conversion_of_obj, \u001b[33m\"\u001b[39m\u001b[33mobj_name\u001b[39m\u001b[33m\"\u001b[39m: obj_name}\n\u001b[32m--> \u001b[39m\u001b[32m600\u001b[39m intermediate_conversion_of_obj = \u001b[43mconvert_to_int\u001b[49m\u001b[43m(\u001b[49m\u001b[43m*\u001b[49m\u001b[43m*\u001b[49m\u001b[43mkwargs\u001b[49m\u001b[43m)\u001b[49m\n\u001b[32m    602\u001b[39m kwargs[\u001b[33m\"\u001b[39m\u001b[33mobj\u001b[39m\u001b[33m\"\u001b[39m] = intermediate_conversion_of_obj\n",
      "\u001b[36mFile \u001b[39m\u001b[32m/mnt/mfitzpat/miniconda3/envs/fancytypes/lib/python3.12/site-packages/czekitout/convert.py:429\u001b[39m, in \u001b[36mto_int\u001b[39m\u001b[34m(obj, obj_name)\u001b[39m\n\u001b[32m    428\u001b[39m     kwargs[\u001b[33m\"\u001b[39m\u001b[33mobj\u001b[39m\u001b[33m\"\u001b[39m] = intermediate_conversion_of_obj\n\u001b[32m--> \u001b[39m\u001b[32m429\u001b[39m     \u001b[43mczekitout\u001b[49m\u001b[43m.\u001b[49m\u001b[43mcheck\u001b[49m\u001b[43m.\u001b[49m\u001b[43mif_int\u001b[49m\u001b[43m(\u001b[49m\u001b[43m*\u001b[49m\u001b[43m*\u001b[49m\u001b[43mkwargs\u001b[49m\u001b[43m)\u001b[49m\n\u001b[32m    431\u001b[39m result = \u001b[38;5;28mround\u001b[39m(intermediate_conversion_of_obj)\n",
      "\u001b[36mFile \u001b[39m\u001b[32m/mnt/mfitzpat/miniconda3/envs/fancytypes/lib/python3.12/site-packages/czekitout/check.py:656\u001b[39m, in \u001b[36mif_int\u001b[39m\u001b[34m(obj, obj_name)\u001b[39m\n\u001b[32m    655\u001b[39m     err_msg = _if_int_err_msg_1.format(obj_name)\n\u001b[32m--> \u001b[39m\u001b[32m656\u001b[39m     \u001b[38;5;28;01mraise\u001b[39;00m \u001b[38;5;167;01mTypeError\u001b[39;00m(err_msg)\n\u001b[32m    658\u001b[39m \u001b[38;5;28;01mreturn\u001b[39;00m \u001b[38;5;28;01mNone\u001b[39;00m\n",
      "\u001b[31mTypeError\u001b[39m: The object ``seed`` must be an integer.",
      "\nDuring handling of the above exception, another exception occurred:\n",
      "\u001b[31mTypeError\u001b[39m                                 Traceback (most recent call last)",
      "\u001b[36mFile \u001b[39m\u001b[32m/mnt/mfitzpat/miniconda3/envs/fancytypes/lib/python3.12/site-packages/czekitout/check.py:424\u001b[39m, in \u001b[36mif_float\u001b[39m\u001b[34m(obj, obj_name)\u001b[39m\n\u001b[32m    423\u001b[39m check_if_scalar = if_scalar  \u001b[38;5;66;03m# Alias for readability.\u001b[39;00m\n\u001b[32m--> \u001b[39m\u001b[32m424\u001b[39m \u001b[43mcheck_if_scalar\u001b[49m\u001b[43m(\u001b[49m\u001b[43mobj\u001b[49m\u001b[43m,\u001b[49m\u001b[43m \u001b[49m\u001b[43mobj_name\u001b[49m\u001b[43m)\u001b[49m\n\u001b[32m    426\u001b[39m obj_as_complex = \u001b[38;5;28mcomplex\u001b[39m(np.array(obj).tolist())\n",
      "\u001b[36mFile \u001b[39m\u001b[32m/mnt/mfitzpat/miniconda3/envs/fancytypes/lib/python3.12/site-packages/czekitout/check.py:396\u001b[39m, in \u001b[36mif_scalar\u001b[39m\u001b[34m(obj, obj_name)\u001b[39m\n\u001b[32m    395\u001b[39m     err_msg = _if_scalar_err_msg_1.format(obj_name)\n\u001b[32m--> \u001b[39m\u001b[32m396\u001b[39m     \u001b[38;5;28;01mraise\u001b[39;00m \u001b[38;5;167;01mTypeError\u001b[39;00m(err_msg)\n\u001b[32m    398\u001b[39m \u001b[38;5;28;01mreturn\u001b[39;00m \u001b[38;5;28;01mNone\u001b[39;00m\n",
      "\u001b[31mTypeError\u001b[39m: The object ``seed`` must be a scalar.",
      "\nDuring handling of the above exception, another exception occurred:\n",
      "\u001b[31mTypeError\u001b[39m                                 Traceback (most recent call last)",
      "\u001b[36mFile \u001b[39m\u001b[32m/mnt/mfitzpat/miniconda3/envs/fancytypes/lib/python3.12/site-packages/czekitout/check.py:648\u001b[39m, in \u001b[36mif_int\u001b[39m\u001b[34m(obj, obj_name)\u001b[39m\n\u001b[32m    647\u001b[39m check_if_float = if_float  \u001b[38;5;66;03m# Alias for readability.\u001b[39;00m\n\u001b[32m--> \u001b[39m\u001b[32m648\u001b[39m \u001b[43mcheck_if_float\u001b[49m\u001b[43m(\u001b[49m\u001b[43mobj\u001b[49m\u001b[43m,\u001b[49m\u001b[43m \u001b[49m\u001b[43mobj_name\u001b[49m\u001b[43m)\u001b[49m\n\u001b[32m    650\u001b[39m real_part_of_obj = \u001b[38;5;28mcomplex\u001b[39m(np.array(obj).tolist()).real\n",
      "\u001b[36mFile \u001b[39m\u001b[32m/mnt/mfitzpat/miniconda3/envs/fancytypes/lib/python3.12/site-packages/czekitout/check.py:431\u001b[39m, in \u001b[36mif_float\u001b[39m\u001b[34m(obj, obj_name)\u001b[39m\n\u001b[32m    430\u001b[39m     err_msg = _if_float_err_msg_1.format(obj_name)\n\u001b[32m--> \u001b[39m\u001b[32m431\u001b[39m     \u001b[38;5;28;01mraise\u001b[39;00m \u001b[38;5;167;01mTypeError\u001b[39;00m(err_msg)\n\u001b[32m    433\u001b[39m \u001b[38;5;28;01mreturn\u001b[39;00m \u001b[38;5;28;01mNone\u001b[39;00m\n",
      "\u001b[31mTypeError\u001b[39m: The object ``seed`` must be a real number.",
      "\nDuring handling of the above exception, another exception occurred:\n",
      "\u001b[31mTypeError\u001b[39m                                 Traceback (most recent call last)",
      "\u001b[36mCell\u001b[39m\u001b[36m \u001b[39m\u001b[32mIn[13]\u001b[39m\u001b[32m, line 2\u001b[39m\n\u001b[32m      1\u001b[39m kwargs = {\u001b[33m\"\u001b[39m\u001b[33mslice_obj\u001b[39m\u001b[33m\"\u001b[39m: \u001b[38;5;28mslice\u001b[39m(\u001b[38;5;28;01mNone\u001b[39;00m, \u001b[32m6\u001b[39m, \u001b[32m1\u001b[39m), \u001b[33m\"\u001b[39m\u001b[33mseed\u001b[39m\u001b[33m\"\u001b[39m: \u001b[33m\"\u001b[39m\u001b[33mfoo\u001b[39m\u001b[33m\"\u001b[39m}\n\u001b[32m----> \u001b[39m\u001b[32m2\u001b[39m slice_shuffler = \u001b[43mSliceShuffler\u001b[49m\u001b[43m(\u001b[49m\u001b[43mslice_obj\u001b[49m\u001b[43m=\u001b[49m\u001b[38;5;28;43mslice\u001b[39;49m\u001b[43m(\u001b[49m\u001b[38;5;28;43;01mNone\u001b[39;49;00m\u001b[43m,\u001b[49m\u001b[43m \u001b[49m\u001b[32;43m6\u001b[39;49m\u001b[43m,\u001b[49m\u001b[43m \u001b[49m\u001b[32;43m1\u001b[39;49m\u001b[43m)\u001b[49m\u001b[43m,\u001b[49m\u001b[43m \u001b[49m\u001b[43mseed\u001b[49m\u001b[43m=\u001b[49m\u001b[33;43m\"\u001b[39;49m\u001b[33;43mfoo\u001b[39;49m\u001b[33;43m\"\u001b[39;49m\u001b[43m)\u001b[49m\n",
      "\u001b[36mCell\u001b[39m\u001b[36m \u001b[39m\u001b[32mIn[2]\u001b[39m\u001b[32m, line 43\u001b[39m, in \u001b[36mSliceShuffler.__init__\u001b[39m\u001b[34m(self, slice_obj, seed, skip_validation_and_conversion)\u001b[39m\n\u001b[32m     41\u001b[39m kwargs = ctor_params\n\u001b[32m     42\u001b[39m kwargs[\u001b[33m\"\u001b[39m\u001b[33mskip_cls_tests\u001b[39m\u001b[33m\"\u001b[39m] = skip_cls_tests\n\u001b[32m---> \u001b[39m\u001b[32m43\u001b[39m \u001b[43mfancytypes\u001b[49m\u001b[43m.\u001b[49m\u001b[43mUpdatable\u001b[49m\u001b[43m.\u001b[49m\u001b[34;43m__init__\u001b[39;49m\u001b[43m(\u001b[49m\u001b[38;5;28;43mself\u001b[39;49m\u001b[43m,\u001b[49m\u001b[43m \u001b[49m\u001b[43m*\u001b[49m\u001b[43m*\u001b[49m\u001b[43mkwargs\u001b[49m\u001b[43m)\u001b[49m\n\u001b[32m     45\u001b[39m \u001b[38;5;28mself\u001b[39m.execute_post_core_attrs_update_actions()\n\u001b[32m     47\u001b[39m \u001b[38;5;28;01mreturn\u001b[39;00m \u001b[38;5;28;01mNone\u001b[39;00m\n",
      "\u001b[36mFile \u001b[39m\u001b[32m/mnt/mfitzpat/miniconda3/envs/fancytypes/lib/python3.12/site-packages/fancytypes/__init__.py:443\u001b[39m, in \u001b[36mUpdatable.__init__\u001b[39m\u001b[34m(self, skip_validation_and_conversion, skip_cls_tests, **kwargs)\u001b[39m\n\u001b[32m    437\u001b[39m \u001b[38;5;28;01mdef\u001b[39;00m\u001b[38;5;250m \u001b[39m\u001b[34m__init__\u001b[39m(\u001b[38;5;28mself\u001b[39m,\n\u001b[32m    438\u001b[39m              skip_validation_and_conversion=\\\n\u001b[32m    439\u001b[39m              _default_skip_validation_and_conversion,\n\u001b[32m    440\u001b[39m              skip_cls_tests=\\\n\u001b[32m    441\u001b[39m              _default_skip_cls_tests,\n\u001b[32m    442\u001b[39m              **kwargs):\n\u001b[32m--> \u001b[39m\u001b[32m443\u001b[39m     \u001b[38;5;28;43msuper\u001b[39;49m\u001b[43m(\u001b[49m\u001b[43m)\u001b[49m\u001b[43m.\u001b[49m\u001b[34;43m__init__\u001b[39;49m\u001b[43m(\u001b[49m\u001b[43mskip_validation_and_conversion\u001b[49m\u001b[43m,\u001b[49m\n\u001b[32m    444\u001b[39m \u001b[43m                     \u001b[49m\u001b[43mskip_cls_tests\u001b[49m\u001b[43m,\u001b[49m\n\u001b[32m    445\u001b[39m \u001b[43m                     \u001b[49m\u001b[43m*\u001b[49m\u001b[43m*\u001b[49m\u001b[43mkwargs\u001b[49m\u001b[43m)\u001b[49m\n\u001b[32m    447\u001b[39m     \u001b[38;5;28;01mreturn\u001b[39;00m \u001b[38;5;28;01mNone\u001b[39;00m\n",
      "\u001b[36mFile \u001b[39m\u001b[32m/mnt/mfitzpat/miniconda3/envs/fancytypes/lib/python3.12/site-packages/fancytypes/__init__.py:243\u001b[39m, in \u001b[36mCheckable.__init__\u001b[39m\u001b[34m(self, skip_validation_and_conversion, skip_cls_tests, **kwargs)\u001b[39m\n\u001b[32m    236\u001b[39m     func_alias = _check_and_convert_params_to_be_mapped_to_core_attrs\n\u001b[32m    237\u001b[39m     params = {\u001b[33m\"\u001b[39m\u001b[33mvalidation_and_conversion_funcs\u001b[39m\u001b[33m\"\u001b[39m: \\\n\u001b[32m    238\u001b[39m               \u001b[38;5;28mself\u001b[39m._validation_and_conversion_funcs,\n\u001b[32m    239\u001b[39m               \u001b[33m\"\u001b[39m\u001b[33mparams_to_be_mapped_to_core_attrs\u001b[39m\u001b[33m\"\u001b[39m: \\\n\u001b[32m    240\u001b[39m               params_to_be_mapped_to_core_attrs,\n\u001b[32m    241\u001b[39m               \u001b[33m\"\u001b[39m\u001b[33mskip_validation_and_conversion\u001b[39m\u001b[33m\"\u001b[39m: \\\n\u001b[32m    242\u001b[39m               skip_validation_and_conversion}\n\u001b[32m--> \u001b[39m\u001b[32m243\u001b[39m     \u001b[38;5;28mself\u001b[39m._core_attrs = \u001b[43mfunc_alias\u001b[49m\u001b[43m(\u001b[49m\u001b[43mparams\u001b[49m\u001b[43m)\u001b[49m\n\u001b[32m    244\u001b[39m \u001b[38;5;28;01melse\u001b[39;00m:\n\u001b[32m    245\u001b[39m     \u001b[38;5;28mself\u001b[39m._core_attrs = params_to_be_mapped_to_core_attrs.copy()\n",
      "\u001b[36mFile \u001b[39m\u001b[32m/mnt/mfitzpat/miniconda3/envs/fancytypes/lib/python3.12/site-packages/fancytypes/__init__.py:105\u001b[39m, in \u001b[36m_check_and_convert_params_to_be_mapped_to_core_attrs\u001b[39m\u001b[34m(params)\u001b[39m\n\u001b[32m    100\u001b[39m params[\u001b[33m\"\u001b[39m\u001b[33mcore_attrs_candidate\u001b[39m\u001b[33m\"\u001b[39m] = \\\n\u001b[32m    101\u001b[39m     params[\u001b[33m\"\u001b[39m\u001b[33mparams_to_be_mapped_to_core_attrs\u001b[39m\u001b[33m\"\u001b[39m]\n\u001b[32m    102\u001b[39m params[\u001b[33m\"\u001b[39m\u001b[33mname_of_obj_alias_of_core_attrs_candidate\u001b[39m\u001b[33m\"\u001b[39m] = \\\n\u001b[32m    103\u001b[39m     \u001b[33m\"\u001b[39m\u001b[33mparams_to_be_mapped_to_core_attrs\u001b[39m\u001b[33m\"\u001b[39m\n\u001b[32m    104\u001b[39m params_to_be_mapped_to_core_attrs = \\\n\u001b[32m--> \u001b[39m\u001b[32m105\u001b[39m     \u001b[43m_check_and_convert_core_attrs_candidate\u001b[49m\u001b[43m(\u001b[49m\u001b[43mparams\u001b[49m\u001b[43m)\u001b[49m\n\u001b[32m    107\u001b[39m \u001b[38;5;28;01mdel\u001b[39;00m params[\u001b[33m\"\u001b[39m\u001b[33mcore_attrs_candidate\u001b[39m\u001b[33m\"\u001b[39m]\n\u001b[32m    108\u001b[39m \u001b[38;5;28;01mdel\u001b[39;00m params[\u001b[33m\"\u001b[39m\u001b[33mname_of_obj_alias_of_core_attrs_candidate\u001b[39m\u001b[33m\"\u001b[39m]\n",
      "\u001b[36mFile \u001b[39m\u001b[32m/mnt/mfitzpat/miniconda3/envs/fancytypes/lib/python3.12/site-packages/fancytypes/__init__.py:134\u001b[39m, in \u001b[36m_check_and_convert_core_attrs_candidate\u001b[39m\u001b[34m(params)\u001b[39m\n\u001b[32m    131\u001b[39m     validation_and_conversion_func = validation_and_conversion_funcs[key]\n\u001b[32m    133\u001b[39m     kwargs = {\u001b[33m\"\u001b[39m\u001b[33mparams\u001b[39m\u001b[33m\"\u001b[39m: core_attrs_candidate}\n\u001b[32m--> \u001b[39m\u001b[32m134\u001b[39m     core_attr_candidate = \u001b[43mvalidation_and_conversion_func\u001b[49m\u001b[43m(\u001b[49m\u001b[43m*\u001b[49m\u001b[43m*\u001b[49m\u001b[43mkwargs\u001b[49m\u001b[43m)\u001b[49m\n\u001b[32m    136\u001b[39m     core_attrs_candidate[key] = core_attr_candidate\n\u001b[32m    138\u001b[39m \u001b[38;5;28;01mreturn\u001b[39;00m core_attrs_candidate\n",
      "\u001b[36mCell\u001b[39m\u001b[36m \u001b[39m\u001b[32mIn[2]\u001b[39m\u001b[32m, line 15\u001b[39m, in \u001b[36m_check_and_convert_seed\u001b[39m\u001b[34m(params)\u001b[39m\n\u001b[32m     13\u001b[39m obj_name = \u001b[33m\"\u001b[39m\u001b[33mseed\u001b[39m\u001b[33m\"\u001b[39m\n\u001b[32m     14\u001b[39m kwargs = {\u001b[33m\"\u001b[39m\u001b[33mobj\u001b[39m\u001b[33m\"\u001b[39m: params[obj_name], \u001b[33m\"\u001b[39m\u001b[33mobj_name\u001b[39m\u001b[33m\"\u001b[39m: obj_name}\n\u001b[32m---> \u001b[39m\u001b[32m15\u001b[39m seed = \u001b[43mczekitout\u001b[49m\u001b[43m.\u001b[49m\u001b[43mconvert\u001b[49m\u001b[43m.\u001b[49m\u001b[43mto_nonnegative_int\u001b[49m\u001b[43m(\u001b[49m\u001b[43m*\u001b[49m\u001b[43m*\u001b[49m\u001b[43mkwargs\u001b[49m\u001b[43m)\u001b[49m\n\u001b[32m     17\u001b[39m \u001b[38;5;28;01mreturn\u001b[39;00m seed\n",
      "\u001b[36mFile \u001b[39m\u001b[32m/mnt/mfitzpat/miniconda3/envs/fancytypes/lib/python3.12/site-packages/czekitout/convert.py:606\u001b[39m, in \u001b[36mto_nonnegative_int\u001b[39m\u001b[34m(obj, obj_name)\u001b[39m\n\u001b[32m    604\u001b[39m \u001b[38;5;28;01mexcept\u001b[39;00m:\n\u001b[32m    605\u001b[39m     kwargs[\u001b[33m\"\u001b[39m\u001b[33mobj\u001b[39m\u001b[33m\"\u001b[39m] = intermediate_conversion_of_obj\n\u001b[32m--> \u001b[39m\u001b[32m606\u001b[39m     \u001b[43mczekitout\u001b[49m\u001b[43m.\u001b[49m\u001b[43mcheck\u001b[49m\u001b[43m.\u001b[49m\u001b[43mif_nonnegative_int\u001b[49m\u001b[43m(\u001b[49m\u001b[43m*\u001b[49m\u001b[43m*\u001b[49m\u001b[43mkwargs\u001b[49m\u001b[43m)\u001b[49m\n\u001b[32m    608\u001b[39m result = intermediate_conversion_of_obj\n\u001b[32m    610\u001b[39m \u001b[38;5;28;01mreturn\u001b[39;00m result\n",
      "\u001b[36mFile \u001b[39m\u001b[32m/mnt/mfitzpat/miniconda3/envs/fancytypes/lib/python3.12/site-packages/czekitout/check.py:794\u001b[39m, in \u001b[36mif_nonnegative_int\u001b[39m\u001b[34m(obj, obj_name)\u001b[39m\n\u001b[32m    773\u001b[39m \u001b[38;5;250m\u001b[39m\u001b[33mr\u001b[39m\u001b[33;03m\"\"\"Check whether input object is a nonnegative integer.\u001b[39;00m\n\u001b[32m    774\u001b[39m \n\u001b[32m    775\u001b[39m \u001b[33;03mIf the input object is not a nonnegative integer, then an exception is\u001b[39;00m\n\u001b[32m   (...)\u001b[39m\u001b[32m    791\u001b[39m \n\u001b[32m    792\u001b[39m \u001b[33;03m\"\"\"\u001b[39;00m\n\u001b[32m    793\u001b[39m check_if_int = if_int  \u001b[38;5;66;03m# Alias for readability.\u001b[39;00m\n\u001b[32m--> \u001b[39m\u001b[32m794\u001b[39m \u001b[43mcheck_if_int\u001b[49m\u001b[43m(\u001b[49m\u001b[43mobj\u001b[49m\u001b[43m,\u001b[49m\u001b[43m \u001b[49m\u001b[43mobj_name\u001b[49m\u001b[43m)\u001b[49m\n\u001b[32m    796\u001b[39m \u001b[38;5;28;01mtry\u001b[39;00m:\n\u001b[32m    797\u001b[39m     real_part_of_obj = \u001b[38;5;28mcomplex\u001b[39m(np.array(obj).tolist()).real\n",
      "\u001b[36mFile \u001b[39m\u001b[32m/mnt/mfitzpat/miniconda3/envs/fancytypes/lib/python3.12/site-packages/czekitout/check.py:656\u001b[39m, in \u001b[36mif_int\u001b[39m\u001b[34m(obj, obj_name)\u001b[39m\n\u001b[32m    654\u001b[39m \u001b[38;5;28;01mexcept\u001b[39;00m:\n\u001b[32m    655\u001b[39m     err_msg = _if_int_err_msg_1.format(obj_name)\n\u001b[32m--> \u001b[39m\u001b[32m656\u001b[39m     \u001b[38;5;28;01mraise\u001b[39;00m \u001b[38;5;167;01mTypeError\u001b[39;00m(err_msg)\n\u001b[32m    658\u001b[39m \u001b[38;5;28;01mreturn\u001b[39;00m \u001b[38;5;28;01mNone\u001b[39;00m\n",
      "\u001b[31mTypeError\u001b[39m: The object ``seed`` must be an integer."
     ]
    }
   ],
   "source": [
    "kwargs = {\"slice_obj\": slice(None, 6, 1), \"seed\": \"foo\"}\n",
    "slice_shuffler = SliceShuffler(slice_obj=slice(None, 6, 1), seed=\"foo\")"
   ]
  },
  {
   "cell_type": "markdown",
   "id": "9b0157b2",
   "metadata": {},
   "source": [
    "Note that being a direct subclass of the ``fancytypes.Updatable`` class, the\n",
    "``SliceShuffler`` class supports updatable core attributes, and validation upon\n",
    "construction and updates, but it does not support pre-serialization, or\n",
    "de-pre-serializable.\n",
    "\n",
    "The ``fancytypes.Checkable`` class only supports validation upon constructing\n",
    "instances.\n",
    "\n",
    "The ``fancytypes.PreSerializable`` class supports pre-serialization,\n",
    "de-serialization, and enforces validation upon constructing instances, but it\n",
    "does not support updatable core attributes.\n",
    "\n",
    "The ``fancytypes.PreSerializableAndUpdatable`` class supports pre-serialization,\n",
    "de-serialization, updatable core attributes, and enforces validation upon\n",
    "constructing or updating instances."
   ]
  }
 ],
 "metadata": {
  "kernelspec": {
   "display_name": "Python 3 (ipykernel)",
   "language": "python",
   "name": "python3"
  },
  "language_info": {
   "codemirror_mode": {
    "name": "ipython",
    "version": 3
   },
   "file_extension": ".py",
   "mimetype": "text/x-python",
   "name": "python",
   "nbconvert_exporter": "python",
   "pygments_lexer": "ipython3",
   "version": "3.12.12"
  }
 },
 "nbformat": 4,
 "nbformat_minor": 5
}
