{
 "cells": [
  {
   "cell_type": "markdown",
   "id": "6bb7f461",
   "metadata": {},
   "source": [
    "# Using the ``fancytypes.PreSerializable`` class #"
   ]
  },
  {
   "cell_type": "markdown",
   "id": "5d6d9cd7",
   "metadata": {},
   "source": [
    "## A NOTE BEFORE STARTING ##"
   ]
  },
  {
   "cell_type": "markdown",
   "id": "880421e9",
   "metadata": {},
   "source": [
    "Since the ``fancytypes`` git repository tracks this notebook under its original\n",
    "basename ``using_PreSerializable_class.ipynb``, we recommend that you copy the\n",
    "original notebook and rename it to any other basename that is not one of the\n",
    "original basenames that appear in the ``<root>/examples`` directory before\n",
    "executing any of the notebook cells below, where ``<root>`` is the root of the\n",
    "``fancytypes`` repository. This way you can explore the notebook by executing\n",
    "and modifying cells without changing the original notebook, which is being\n",
    "tracked by git."
   ]
  },
  {
   "cell_type": "markdown",
   "id": "95f925ff-a539-4843-b037-d7e20c06a2c1",
   "metadata": {},
   "source": [
    "## Table of contents ##"
   ]
  },
  {
   "cell_type": "markdown",
   "id": "f6db932a-4087-41c1-afc1-60c8b18a115b",
   "metadata": {},
   "source": [
    "- [Import necessary modules](#Import-necessary-modules)\n",
    "- [Introduction](#Introduction)\n",
    "- [Defining the ``SliceShuffler`` class](#Defining-the-SliceShuffler-class)\n",
    "- [Using the ``SliceShuffler`` class](#Using-the-SliceShuffler-class)"
   ]
  },
  {
   "cell_type": "markdown",
   "id": "12b0d90e",
   "metadata": {},
   "source": [
    "## Import necessary modules ##"
   ]
  },
  {
   "cell_type": "code",
   "execution_count": 1,
   "id": "e7f9787f",
   "metadata": {},
   "outputs": [
    {
     "name": "stdout",
     "output_type": "stream",
     "text": [
      "The history saving thread hit an unexpected error (OperationalError('attempt to write a readonly database')).History will not be written to the database.\n"
     ]
    }
   ],
   "source": [
    "# For performing deep copies.\n",
    "import copy\n",
    "\n",
    "\n",
    "\n",
    "# For general array handling and constructing random number generators.\n",
    "import numpy as np\n",
    "\n",
    "# For validating and converting objects.\n",
    "import czekitout.check\n",
    "import czekitout.convert\n",
    "\n",
    "\n",
    "\n",
    "# The library that is the subject of this demonstration.\n",
    "import fancytypes"
   ]
  },
  {
   "cell_type": "markdown",
   "id": "e667d633",
   "metadata": {},
   "source": [
    "## Introduction ##"
   ]
  },
  {
   "cell_type": "markdown",
   "id": "ec7f2509",
   "metadata": {},
   "source": [
    "In this notebook, we use the ``fancytypes.PreSerializable`` class to define a\n",
    "class of \"slice shufflers\", which we define as objects that can shuffle/re-order\n",
    "the elements in a slice of a given array. This is a somewhat contrived example\n",
    "use of the ``fancytypes.PreSerializable`` class, however it is simple and\n",
    "complete. We also test the exception-raising features of the\n",
    "``fancytypes.PreSerializable`` class. You can find the documentation for the \n",
    "``fancytypes.PreSerializable`` class\n",
    "[here](https://mrfitzpa.github.io/fancytypes/_autosummary/fancytypes.PreSerializable.html). \n",
    "It is recommended that you consult the documentation of this class as you \n",
    "explore the notebook.\n",
    "\n",
    "This notebook also demonstrates how one can use the helper functions \n",
    "``fancytypes.return_validation_and_conversion_funcs``, \n",
    "``fancytypes.return_pre_serialization_funcs``, and \n",
    "``fancytypes.return_de_pre_serialization_funcs``. We use these functions to\n",
    "define our class of slice shufflers. You can find the documentation for these\n",
    "helper functions \n",
    "[here](https://mrfitzpa.github.io/fancytypes/_autosummary/fancytypes.html).\n",
    "\n",
    "**Users should make sure to navigate the documentation for the version of\n",
    "fancytypes that they are currently using.**\n",
    "\n",
    "In order to execute the cells in this notebook as intended, a set of Python\n",
    "libraries need to be installed in the Python environment within which the cells\n",
    "of the notebook are to be executed. For this particular notebook, users need to\n",
    "install:\n",
    "\n",
    "    fancytypes\n",
    "    jupyter\n",
    "\n",
    "Users can install these libraries either via `pip`:\n",
    "\n",
    "    pip install fancytypes[examples]\n",
    "\n",
    "or `conda`:\n",
    "\n",
    "    conda install -y fancytypes jupyter -c conda-forge"
   ]
  },
  {
   "cell_type": "markdown",
   "id": "ee0993ba",
   "metadata": {},
   "source": [
    "## Defining the ``SliceShuffler`` class ##"
   ]
  },
  {
   "cell_type": "markdown",
   "id": "21a2529c",
   "metadata": {},
   "source": [
    "We define the ``SliceShuffler`` class as a subclass of the\n",
    "``fancytypes.PreSerializable`` class."
   ]
  },
  {
   "cell_type": "code",
   "execution_count": 2,
   "id": "5bdd09c4",
   "metadata": {},
   "outputs": [],
   "source": [
    "# Define the validation and conversion functions.\n",
    "def _check_and_convert_slice_obj(params):\n",
    "    obj_name = \"slice_obj\"\n",
    "    kwargs = {\"obj\": params[obj_name],\n",
    "              \"obj_name\": obj_name,\n",
    "              \"accepted_types\": (slice,)}\n",
    "    czekitout.check.if_instance_of_any_accepted_types(**kwargs)\n",
    "    slice_obj = copy.deepcopy(params[obj_name])\n",
    "\n",
    "    return slice_obj\n",
    "\n",
    "def _check_and_convert_seed(params):\n",
    "    obj_name = \"seed\"\n",
    "    kwargs = {\"obj\": params[obj_name], \"obj_name\": obj_name}\n",
    "    seed = czekitout.convert.to_nonnegative_int(**kwargs)\n",
    "\n",
    "    return seed\n",
    "\n",
    "\n",
    "\n",
    "# Define the pre-serialization functions.\n",
    "def _pre_serialize_slice_obj(slice_obj):\n",
    "    serializable_rep = {\"start\": slice_obj.start, \n",
    "                        \"stop\": slice_obj.stop, \n",
    "                        \"step\": slice_obj.step}\n",
    "    \n",
    "    return serializable_rep\n",
    "\n",
    "def _pre_serialize_seed(seed):\n",
    "    serializable_rep = seed\n",
    "    \n",
    "    return serializable_rep\n",
    "\n",
    "\n",
    "\n",
    "# Define the de-pre-serialization functions.\n",
    "def _de_pre_serialize_slice_obj(serializable_rep):\n",
    "    slice_obj = slice(serializable_rep[\"start\"], \n",
    "                      serializable_rep[\"stop\"], \n",
    "                      serializable_rep[\"step\"])\n",
    "    \n",
    "    return slice_obj\n",
    "\n",
    "def _de_pre_serialize_seed(serializable_rep):\n",
    "    seed = serializable_rep\n",
    "    \n",
    "    return seed\n",
    "\n",
    "\n",
    "\n",
    "# Define the ``SliceShuffler`` class.\n",
    "class SliceShuffler(fancytypes.PreSerializable):\n",
    "    ctor_param_names = (\"slice_obj\", \"seed\")\n",
    "    kwargs = {\"namespace_as_dict\": globals(),\n",
    "              \"ctor_param_names\": ctor_param_names}\n",
    "\n",
    "    _validation_and_conversion_funcs_ = \\\n",
    "        fancytypes.return_validation_and_conversion_funcs(**kwargs)\n",
    "    _pre_serialization_funcs_ = \\\n",
    "        fancytypes.return_pre_serialization_funcs(**kwargs)\n",
    "    _de_pre_serialization_funcs_ = \\\n",
    "        fancytypes.return_de_pre_serialization_funcs(**kwargs)\n",
    "\n",
    "    del ctor_param_names, kwargs\n",
    "    \n",
    "    def __init__(self, slice_obj, seed, skip_validation_and_conversion=False):\n",
    "        ctor_params = {key: val\n",
    "                       for key, val in locals().items()\n",
    "                       if (key not in (\"self\", \"__class__\"))}\n",
    "\n",
    "        # Set ``skip_cls_tests`` to ``True`` only if you are sure that the\n",
    "        # class that you have defined was done so properly, i.e. without errors.\n",
    "        skip_cls_tests = True\n",
    "\n",
    "        kwargs = ctor_params\n",
    "        kwargs[\"skip_cls_tests\"] = skip_cls_tests\n",
    "        fancytypes.PreSerializable.__init__(self, **kwargs)\n",
    "\n",
    "        seed = self.core_attrs[\"seed\"]\n",
    "        self._random_generator = np.random.default_rng(seed)\n",
    "\n",
    "        return None\n",
    "\n",
    "    @classmethod\n",
    "    def get_validation_and_conversion_funcs(cls):\n",
    "        validation_and_conversion_funcs = \\\n",
    "            cls._validation_and_conversion_funcs_.copy()\n",
    "\n",
    "        return validation_and_conversion_funcs\n",
    "\n",
    "    @classmethod\n",
    "    def get_pre_serialization_funcs(cls):\n",
    "        pre_serialization_funcs = \\\n",
    "            cls._pre_serialization_funcs_.copy()\n",
    "\n",
    "        return pre_serialization_funcs\n",
    "\n",
    "    @classmethod\n",
    "    def get_de_pre_serialization_funcs(cls):\n",
    "        de_pre_serialization_funcs = \\\n",
    "            cls._de_pre_serialization_funcs_.copy()\n",
    "\n",
    "        return de_pre_serialization_funcs\n",
    "\n",
    "    def shuffle(self, array):\n",
    "        try:\n",
    "            array = np.array(array)\n",
    "        except:\n",
    "            err_msg = (\"The object ``array`` must be array-like.\")\n",
    "            raise TypeError(err_msg)\n",
    "            \n",
    "        slice_obj = self.core_attrs[\"slice_obj\"]\n",
    "        array_slice = array[slice_obj]\n",
    "        self._random_generator.shuffle(array_slice)\n",
    "        array[slice_obj] = array_slice\n",
    "\n",
    "        return array"
   ]
  },
  {
   "cell_type": "markdown",
   "id": "fb9e9c81",
   "metadata": {},
   "source": [
    "## Using the ``SliceShuffler`` class ##"
   ]
  },
  {
   "cell_type": "markdown",
   "id": "9401e8b3-3b63-4707-96bd-27c80efaf662",
   "metadata": {},
   "source": [
    "First let's construct a valid instance of the ``SliceShuffler`` class with \n",
    "validation and conversion of the parameters to be mapped to the \n",
    "\"core attributes\" enabled."
   ]
  },
  {
   "cell_type": "code",
   "execution_count": 3,
   "id": "ce494804-8de1-427b-89d8-dfdb9eb02103",
   "metadata": {},
   "outputs": [],
   "source": [
    "kwargs = {\"slice_obj\": slice(None, 6, 1), \n",
    "          \"seed\": 5.0, \n",
    "          \"skip_validation_and_conversion\": False}\n",
    "slice_shuffler = SliceShuffler(**kwargs)"
   ]
  },
  {
   "cell_type": "markdown",
   "id": "1a1f9a91-d0d7-47c1-8c60-edd7e5a37d78",
   "metadata": {},
   "source": [
    "There are 3 ways of accessing the core attributes via the public API:"
   ]
  },
  {
   "cell_type": "code",
   "execution_count": 4,
   "id": "4b7a3a26-5e07-4279-9917-b9361481ad40",
   "metadata": {},
   "outputs": [
    {
     "name": "stdout",
     "output_type": "stream",
     "text": [
      "{'slice_obj': slice(None, 6, 1), 'seed': 5}\n",
      "{'slice_obj': slice(None, 6, 1), 'seed': 5}\n",
      "{'slice_obj': slice(None, 6, 1), 'seed': 5}\n"
     ]
    }
   ],
   "source": [
    "# Returns a deep copy.\n",
    "core_attrs = slice_shuffler.core_attrs\n",
    "print(core_attrs)\n",
    "\n",
    "# Returns a deep copy.\n",
    "core_attrs = slice_shuffler.get_core_attrs(deep_copy=True)\n",
    "print(core_attrs)\n",
    "\n",
    "# Returns a reference, i.e. no copy is made. \n",
    "core_attrs = slice_shuffler.get_core_attrs(deep_copy=False)\n",
    "print(core_attrs)"
   ]
  },
  {
   "cell_type": "markdown",
   "id": "1848cf5a-27e6-42c2-a172-c93eab170d48",
   "metadata": {},
   "source": [
    "There is 1 way of accessing the validation and conversion functions via the \n",
    "public API:"
   ]
  },
  {
   "cell_type": "code",
   "execution_count": 5,
   "id": "939d9c10-e124-4274-b5df-47e0cc38b66d",
   "metadata": {},
   "outputs": [
    {
     "name": "stdout",
     "output_type": "stream",
     "text": [
      "{'slice_obj': <function _check_and_convert_slice_obj at 0x7fd91c3ff560>, 'seed': <function _check_and_convert_seed at 0x7fd91c2267a0>}\n"
     ]
    }
   ],
   "source": [
    "# Returns a deep copy.\n",
    "validation_and_conversion_funcs = \\\n",
    "    slice_shuffler.validation_and_conversion_funcs\n",
    "\n",
    "print(validation_and_conversion_funcs)"
   ]
  },
  {
   "cell_type": "markdown",
   "id": "4712e2d7-d427-474d-a722-3fb13497eb02",
   "metadata": {},
   "source": [
    "There is 1 way of accessing the pre-serialization functions via the public API:"
   ]
  },
  {
   "cell_type": "code",
   "execution_count": 6,
   "id": "8664a629-96fa-4202-9a58-e58fc2b9abbf",
   "metadata": {},
   "outputs": [
    {
     "name": "stdout",
     "output_type": "stream",
     "text": [
      "{'slice_obj': <function _pre_serialize_slice_obj at 0x7fd91c226840>, 'seed': <function _pre_serialize_seed at 0x7fd91c2268e0>}\n"
     ]
    }
   ],
   "source": [
    "# Returns a deep copy.\n",
    "pre_serialization_funcs = slice_shuffler.pre_serialization_funcs\n",
    "\n",
    "print(pre_serialization_funcs)"
   ]
  },
  {
   "cell_type": "markdown",
   "id": "4079806a-3e8b-4513-a89c-0c92da0bb924",
   "metadata": {},
   "source": [
    "There is 1 way of accessing the de-pre-serialization functions via the public \n",
    "API:"
   ]
  },
  {
   "cell_type": "code",
   "execution_count": 7,
   "id": "2fc3be4b-abd7-40d0-850b-78e6121863ba",
   "metadata": {},
   "outputs": [
    {
     "name": "stdout",
     "output_type": "stream",
     "text": [
      "{'slice_obj': <function _pre_serialize_slice_obj at 0x7fd91c226840>, 'seed': <function _pre_serialize_seed at 0x7fd91c2268e0>}\n"
     ]
    }
   ],
   "source": [
    "# Returns a deep copy.\n",
    "de_pre_serialization_funcs = slice_shuffler.de_pre_serialization_funcs\n",
    "\n",
    "print(pre_serialization_funcs)"
   ]
  },
  {
   "cell_type": "markdown",
   "id": "8c6acaaa-a8ce-4f9b-91dc-6f1a2954a4e7",
   "metadata": {},
   "source": [
    "Next let's construct a valid instance of the ``SliceShuffler`` class with \n",
    "validation and conversion of the parameters to be mapped to the core attributes\n",
    "disabled. This option is desired primarily when the user wants to avoid \n",
    "potentially expensive copies and/or conversions of the parameters to be mapped \n",
    "to the core attributes. However, users must ensure that the construction \n",
    "parameters are valid and require no conversions."
   ]
  },
  {
   "cell_type": "code",
   "execution_count": 8,
   "id": "a8c5c8a4-b451-43f6-a5d7-24ca18678059",
   "metadata": {},
   "outputs": [
    {
     "name": "stdout",
     "output_type": "stream",
     "text": [
      "{'slice_obj': slice(None, 6, 1), 'seed': 5}\n"
     ]
    }
   ],
   "source": [
    "kwargs = {\"slice_obj\": slice(None, 6, 1), \n",
    "          \"seed\": 5,  # Manually converted parameter to a `int` as required.\n",
    "          \"skip_validation_and_conversion\": True}\n",
    "slice_shuffler = SliceShuffler(**kwargs)\n",
    "\n",
    "core_attrs = slice_shuffler.core_attrs\n",
    "print(core_attrs)"
   ]
  },
  {
   "cell_type": "markdown",
   "id": "0e17d577-d109-48a8-9f03-82ef675409e5",
   "metadata": {},
   "source": [
    "Let's shuffle an array using the class."
   ]
  },
  {
   "cell_type": "code",
   "execution_count": 9,
   "id": "26e7ba3d-78b4-4c69-aa3c-aaf1984b6dad",
   "metadata": {},
   "outputs": [
    {
     "data": {
      "text/plain": [
       "array([1, 4, 2, 3, 5, 0, 6, 7, 8, 9])"
      ]
     },
     "execution_count": 9,
     "metadata": {},
     "output_type": "execute_result"
    }
   ],
   "source": [
    "array = [0, 1, 2, 3, 4, 5, 6, 7, 8, 9]\n",
    "shuffled_array = slice_shuffler.shuffle(array)\n",
    "shuffled_array"
   ]
  },
  {
   "cell_type": "markdown",
   "id": "6db48dbd-05db-4a11-b75b-b8bb1dfca6e5",
   "metadata": {},
   "source": [
    "Let's try constructing instances of the ``SliceShuffler`` class with invalid\n",
    "construction parameters. The following two codes blocks return errors as \n",
    "expected:"
   ]
  },
  {
   "cell_type": "code",
   "execution_count": 10,
   "id": "596015f4-b9c7-453a-9c75-fc43e7dd0d11",
   "metadata": {},
   "outputs": [
    {
     "ename": "TypeError",
     "evalue": "The object ``slice_obj`` must be an instance of the class `slice`.",
     "output_type": "error",
     "traceback": [
      "\u001b[31m---------------------------------------------------------------------------\u001b[39m",
      "\u001b[31mTypeError\u001b[39m                                 Traceback (most recent call last)",
      "\u001b[36mCell\u001b[39m\u001b[36m \u001b[39m\u001b[32mIn[10]\u001b[39m\u001b[32m, line 3\u001b[39m\n\u001b[32m      1\u001b[39m \u001b[38;5;66;03m# Note that by default ``skip_validation_and_conversion == False``.\u001b[39;00m\n\u001b[32m      2\u001b[39m kwargs = {\u001b[33m\"\u001b[39m\u001b[33mslice_obj\u001b[39m\u001b[33m\"\u001b[39m: \u001b[32m3\u001b[39m, \u001b[33m\"\u001b[39m\u001b[33mseed\u001b[39m\u001b[33m\"\u001b[39m: \u001b[32m5.0\u001b[39m}\n\u001b[32m----> \u001b[39m\u001b[32m3\u001b[39m slice_shuffler = \u001b[43mSliceShuffler\u001b[49m\u001b[43m(\u001b[49m\u001b[43m*\u001b[49m\u001b[43m*\u001b[49m\u001b[43mkwargs\u001b[49m\u001b[43m)\u001b[49m\n",
      "\u001b[36mCell\u001b[39m\u001b[36m \u001b[39m\u001b[32mIn[2]\u001b[39m\u001b[32m, line 77\u001b[39m, in \u001b[36mSliceShuffler.__init__\u001b[39m\u001b[34m(self, slice_obj, seed, skip_validation_and_conversion)\u001b[39m\n\u001b[32m     75\u001b[39m kwargs = ctor_params\n\u001b[32m     76\u001b[39m kwargs[\u001b[33m\"\u001b[39m\u001b[33mskip_cls_tests\u001b[39m\u001b[33m\"\u001b[39m] = skip_cls_tests\n\u001b[32m---> \u001b[39m\u001b[32m77\u001b[39m \u001b[43mfancytypes\u001b[49m\u001b[43m.\u001b[49m\u001b[43mPreSerializable\u001b[49m\u001b[43m.\u001b[49m\u001b[34;43m__init__\u001b[39;49m\u001b[43m(\u001b[49m\u001b[38;5;28;43mself\u001b[39;49m\u001b[43m,\u001b[49m\u001b[43m \u001b[49m\u001b[43m*\u001b[49m\u001b[43m*\u001b[49m\u001b[43mkwargs\u001b[49m\u001b[43m)\u001b[49m\n\u001b[32m     79\u001b[39m seed = \u001b[38;5;28mself\u001b[39m.core_attrs[\u001b[33m\"\u001b[39m\u001b[33mseed\u001b[39m\u001b[33m\"\u001b[39m]\n\u001b[32m     80\u001b[39m \u001b[38;5;28mself\u001b[39m._random_generator = np.random.default_rng(seed)\n",
      "\u001b[36mFile \u001b[39m\u001b[32m/mnt/mfitzpat/miniconda3/envs/fancytypes/lib/python3.12/site-packages/fancytypes/__init__.py:647\u001b[39m, in \u001b[36mPreSerializable.__init__\u001b[39m\u001b[34m(self, skip_validation_and_conversion, skip_cls_tests, **kwargs)\u001b[39m\n\u001b[32m    641\u001b[39m \u001b[38;5;28;01mdef\u001b[39;00m\u001b[38;5;250m \u001b[39m\u001b[34m__init__\u001b[39m(\u001b[38;5;28mself\u001b[39m,\n\u001b[32m    642\u001b[39m              skip_validation_and_conversion=\\\n\u001b[32m    643\u001b[39m              _default_skip_validation_and_conversion,\n\u001b[32m    644\u001b[39m              skip_cls_tests=\\\n\u001b[32m    645\u001b[39m              _default_skip_cls_tests,\n\u001b[32m    646\u001b[39m              **kwargs):\n\u001b[32m--> \u001b[39m\u001b[32m647\u001b[39m     \u001b[38;5;28;43msuper\u001b[39;49m\u001b[43m(\u001b[49m\u001b[43m)\u001b[49m\u001b[43m.\u001b[49m\u001b[34;43m__init__\u001b[39;49m\u001b[43m(\u001b[49m\u001b[43mskip_validation_and_conversion\u001b[49m\u001b[43m,\u001b[49m\n\u001b[32m    648\u001b[39m \u001b[43m                     \u001b[49m\u001b[43mskip_cls_tests\u001b[49m\u001b[43m,\u001b[49m\n\u001b[32m    649\u001b[39m \u001b[43m                     \u001b[49m\u001b[43m*\u001b[49m\u001b[43m*\u001b[49m\u001b[43mkwargs\u001b[49m\u001b[43m)\u001b[49m\n\u001b[32m    651\u001b[39m     params = {\u001b[33m\"\u001b[39m\u001b[33mskip_cls_tests\u001b[39m\u001b[33m\"\u001b[39m: skip_cls_tests}\n\u001b[32m    652\u001b[39m     skip_cls_tests = _check_and_convert_skip_cls_tests(params)\n",
      "\u001b[36mFile \u001b[39m\u001b[32m/mnt/mfitzpat/miniconda3/envs/fancytypes/lib/python3.12/site-packages/fancytypes/__init__.py:243\u001b[39m, in \u001b[36mCheckable.__init__\u001b[39m\u001b[34m(self, skip_validation_and_conversion, skip_cls_tests, **kwargs)\u001b[39m\n\u001b[32m    236\u001b[39m     func_alias = _check_and_convert_params_to_be_mapped_to_core_attrs\n\u001b[32m    237\u001b[39m     params = {\u001b[33m\"\u001b[39m\u001b[33mvalidation_and_conversion_funcs\u001b[39m\u001b[33m\"\u001b[39m: \\\n\u001b[32m    238\u001b[39m               \u001b[38;5;28mself\u001b[39m._validation_and_conversion_funcs,\n\u001b[32m    239\u001b[39m               \u001b[33m\"\u001b[39m\u001b[33mparams_to_be_mapped_to_core_attrs\u001b[39m\u001b[33m\"\u001b[39m: \\\n\u001b[32m    240\u001b[39m               params_to_be_mapped_to_core_attrs,\n\u001b[32m    241\u001b[39m               \u001b[33m\"\u001b[39m\u001b[33mskip_validation_and_conversion\u001b[39m\u001b[33m\"\u001b[39m: \\\n\u001b[32m    242\u001b[39m               skip_validation_and_conversion}\n\u001b[32m--> \u001b[39m\u001b[32m243\u001b[39m     \u001b[38;5;28mself\u001b[39m._core_attrs = \u001b[43mfunc_alias\u001b[49m\u001b[43m(\u001b[49m\u001b[43mparams\u001b[49m\u001b[43m)\u001b[49m\n\u001b[32m    244\u001b[39m \u001b[38;5;28;01melse\u001b[39;00m:\n\u001b[32m    245\u001b[39m     \u001b[38;5;28mself\u001b[39m._core_attrs = params_to_be_mapped_to_core_attrs.copy()\n",
      "\u001b[36mFile \u001b[39m\u001b[32m/mnt/mfitzpat/miniconda3/envs/fancytypes/lib/python3.12/site-packages/fancytypes/__init__.py:105\u001b[39m, in \u001b[36m_check_and_convert_params_to_be_mapped_to_core_attrs\u001b[39m\u001b[34m(params)\u001b[39m\n\u001b[32m    100\u001b[39m params[\u001b[33m\"\u001b[39m\u001b[33mcore_attrs_candidate\u001b[39m\u001b[33m\"\u001b[39m] = \\\n\u001b[32m    101\u001b[39m     params[\u001b[33m\"\u001b[39m\u001b[33mparams_to_be_mapped_to_core_attrs\u001b[39m\u001b[33m\"\u001b[39m]\n\u001b[32m    102\u001b[39m params[\u001b[33m\"\u001b[39m\u001b[33mname_of_obj_alias_of_core_attrs_candidate\u001b[39m\u001b[33m\"\u001b[39m] = \\\n\u001b[32m    103\u001b[39m     \u001b[33m\"\u001b[39m\u001b[33mparams_to_be_mapped_to_core_attrs\u001b[39m\u001b[33m\"\u001b[39m\n\u001b[32m    104\u001b[39m params_to_be_mapped_to_core_attrs = \\\n\u001b[32m--> \u001b[39m\u001b[32m105\u001b[39m     \u001b[43m_check_and_convert_core_attrs_candidate\u001b[49m\u001b[43m(\u001b[49m\u001b[43mparams\u001b[49m\u001b[43m)\u001b[49m\n\u001b[32m    107\u001b[39m \u001b[38;5;28;01mdel\u001b[39;00m params[\u001b[33m\"\u001b[39m\u001b[33mcore_attrs_candidate\u001b[39m\u001b[33m\"\u001b[39m]\n\u001b[32m    108\u001b[39m \u001b[38;5;28;01mdel\u001b[39;00m params[\u001b[33m\"\u001b[39m\u001b[33mname_of_obj_alias_of_core_attrs_candidate\u001b[39m\u001b[33m\"\u001b[39m]\n",
      "\u001b[36mFile \u001b[39m\u001b[32m/mnt/mfitzpat/miniconda3/envs/fancytypes/lib/python3.12/site-packages/fancytypes/__init__.py:134\u001b[39m, in \u001b[36m_check_and_convert_core_attrs_candidate\u001b[39m\u001b[34m(params)\u001b[39m\n\u001b[32m    131\u001b[39m     validation_and_conversion_func = validation_and_conversion_funcs[key]\n\u001b[32m    133\u001b[39m     kwargs = {\u001b[33m\"\u001b[39m\u001b[33mparams\u001b[39m\u001b[33m\"\u001b[39m: core_attrs_candidate}\n\u001b[32m--> \u001b[39m\u001b[32m134\u001b[39m     core_attr_candidate = \u001b[43mvalidation_and_conversion_func\u001b[49m\u001b[43m(\u001b[49m\u001b[43m*\u001b[49m\u001b[43m*\u001b[49m\u001b[43mkwargs\u001b[49m\u001b[43m)\u001b[49m\n\u001b[32m    136\u001b[39m     core_attrs_candidate[key] = core_attr_candidate\n\u001b[32m    138\u001b[39m \u001b[38;5;28;01mreturn\u001b[39;00m core_attrs_candidate\n",
      "\u001b[36mCell\u001b[39m\u001b[36m \u001b[39m\u001b[32mIn[2]\u001b[39m\u001b[32m, line 7\u001b[39m, in \u001b[36m_check_and_convert_slice_obj\u001b[39m\u001b[34m(params)\u001b[39m\n\u001b[32m      3\u001b[39m obj_name = \u001b[33m\"\u001b[39m\u001b[33mslice_obj\u001b[39m\u001b[33m\"\u001b[39m\n\u001b[32m      4\u001b[39m kwargs = {\u001b[33m\"\u001b[39m\u001b[33mobj\u001b[39m\u001b[33m\"\u001b[39m: params[obj_name],\n\u001b[32m      5\u001b[39m           \u001b[33m\"\u001b[39m\u001b[33mobj_name\u001b[39m\u001b[33m\"\u001b[39m: obj_name,\n\u001b[32m      6\u001b[39m           \u001b[33m\"\u001b[39m\u001b[33maccepted_types\u001b[39m\u001b[33m\"\u001b[39m: (\u001b[38;5;28mslice\u001b[39m,)}\n\u001b[32m----> \u001b[39m\u001b[32m7\u001b[39m \u001b[43mczekitout\u001b[49m\u001b[43m.\u001b[49m\u001b[43mcheck\u001b[49m\u001b[43m.\u001b[49m\u001b[43mif_instance_of_any_accepted_types\u001b[49m\u001b[43m(\u001b[49m\u001b[43m*\u001b[49m\u001b[43m*\u001b[49m\u001b[43mkwargs\u001b[49m\u001b[43m)\u001b[49m\n\u001b[32m      8\u001b[39m slice_obj = copy.deepcopy(params[obj_name])\n\u001b[32m     10\u001b[39m \u001b[38;5;28;01mreturn\u001b[39;00m slice_obj\n",
      "\u001b[36mFile \u001b[39m\u001b[32m/mnt/mfitzpat/miniconda3/envs/fancytypes/lib/python3.12/site-packages/czekitout/check.py:189\u001b[39m, in \u001b[36mif_instance_of_any_accepted_types\u001b[39m\u001b[34m(obj, obj_name, accepted_types)\u001b[39m\n\u001b[32m    185\u001b[39m         unformatted_err_msg = _if_instance_of_any_accepted_types_err_msg_2\n\u001b[32m    186\u001b[39m         err_msg = unformatted_err_msg.format(obj_name,\n\u001b[32m    187\u001b[39m                                              names_of_accepted_types)\n\u001b[32m--> \u001b[39m\u001b[32m189\u001b[39m     \u001b[38;5;28;01mraise\u001b[39;00m \u001b[38;5;167;01mTypeError\u001b[39;00m(err_msg)\n\u001b[32m    191\u001b[39m \u001b[38;5;28;01mreturn\u001b[39;00m \u001b[38;5;28;01mNone\u001b[39;00m\n",
      "\u001b[31mTypeError\u001b[39m: The object ``slice_obj`` must be an instance of the class `slice`."
     ]
    }
   ],
   "source": [
    "# Note that by default ``skip_validation_and_conversion == False``.\n",
    "kwargs = {\"slice_obj\": 3, \"seed\": 5.0}\n",
    "slice_shuffler = SliceShuffler(**kwargs)"
   ]
  },
  {
   "cell_type": "code",
   "execution_count": 11,
   "id": "bebe086a-f55b-4d59-af65-55f019428bf5",
   "metadata": {},
   "outputs": [
    {
     "ename": "TypeError",
     "evalue": "The object ``seed`` must be an integer.",
     "output_type": "error",
     "traceback": [
      "\u001b[31m---------------------------------------------------------------------------\u001b[39m",
      "\u001b[31mValueError\u001b[39m                                Traceback (most recent call last)",
      "\u001b[36mFile \u001b[39m\u001b[32m/mnt/mfitzpat/miniconda3/envs/fancytypes/lib/python3.12/site-packages/czekitout/convert.py:374\u001b[39m, in \u001b[36mto_float\u001b[39m\u001b[34m(obj, obj_name)\u001b[39m\n\u001b[32m    372\u001b[39m \u001b[38;5;28;01melse\u001b[39;00m:\n\u001b[32m    373\u001b[39m     intermediate_conversion_of_obj = \\\n\u001b[32m--> \u001b[39m\u001b[32m374\u001b[39m         \u001b[38;5;28;43mcomplex\u001b[39;49m\u001b[43m(\u001b[49m\u001b[43mintermediate_conversion_of_obj\u001b[49m\u001b[43m)\u001b[49m\n\u001b[32m    376\u001b[39m     kwargs[\u001b[33m\"\u001b[39m\u001b[33mobj\u001b[39m\u001b[33m\"\u001b[39m] = intermediate_conversion_of_obj\n",
      "\u001b[31mValueError\u001b[39m: complex() arg is a malformed string",
      "\nDuring handling of the above exception, another exception occurred:\n",
      "\u001b[31mValueError\u001b[39m                                Traceback (most recent call last)",
      "\u001b[36mFile \u001b[39m\u001b[32m/mnt/mfitzpat/miniconda3/envs/fancytypes/lib/python3.12/site-packages/czekitout/convert.py:382\u001b[39m, in \u001b[36mto_float\u001b[39m\u001b[34m(obj, obj_name)\u001b[39m\n\u001b[32m    380\u001b[39m \u001b[38;5;28;01mtry\u001b[39;00m:\n\u001b[32m    381\u001b[39m     intermediate_conversion_of_obj = \\\n\u001b[32m--> \u001b[39m\u001b[32m382\u001b[39m         \u001b[38;5;28;43mcomplex\u001b[39;49m\u001b[43m(\u001b[49m\u001b[43mnp\u001b[49m\u001b[43m.\u001b[49m\u001b[43marray\u001b[49m\u001b[43m(\u001b[49m\u001b[43mintermediate_conversion_of_obj\u001b[49m\u001b[43m)\u001b[49m\u001b[43m.\u001b[49m\u001b[43mtolist\u001b[49m\u001b[43m(\u001b[49m\u001b[43m)\u001b[49m\u001b[43m)\u001b[49m\n\u001b[32m    384\u001b[39m     kwargs[\u001b[33m\"\u001b[39m\u001b[33mobj\u001b[39m\u001b[33m\"\u001b[39m] = intermediate_conversion_of_obj\n",
      "\u001b[31mValueError\u001b[39m: complex() arg is a malformed string",
      "\nDuring handling of the above exception, another exception occurred:\n",
      "\u001b[31mTypeError\u001b[39m                                 Traceback (most recent call last)",
      "\u001b[36mFile \u001b[39m\u001b[32m/mnt/mfitzpat/miniconda3/envs/fancytypes/lib/python3.12/site-packages/czekitout/check.py:424\u001b[39m, in \u001b[36mif_float\u001b[39m\u001b[34m(obj, obj_name)\u001b[39m\n\u001b[32m    423\u001b[39m check_if_scalar = if_scalar  \u001b[38;5;66;03m# Alias for readability.\u001b[39;00m\n\u001b[32m--> \u001b[39m\u001b[32m424\u001b[39m \u001b[43mcheck_if_scalar\u001b[49m\u001b[43m(\u001b[49m\u001b[43mobj\u001b[49m\u001b[43m,\u001b[49m\u001b[43m \u001b[49m\u001b[43mobj_name\u001b[49m\u001b[43m)\u001b[49m\n\u001b[32m    426\u001b[39m obj_as_complex = \u001b[38;5;28mcomplex\u001b[39m(np.array(obj).tolist())\n",
      "\u001b[36mFile \u001b[39m\u001b[32m/mnt/mfitzpat/miniconda3/envs/fancytypes/lib/python3.12/site-packages/czekitout/check.py:396\u001b[39m, in \u001b[36mif_scalar\u001b[39m\u001b[34m(obj, obj_name)\u001b[39m\n\u001b[32m    395\u001b[39m     err_msg = _if_scalar_err_msg_1.format(obj_name)\n\u001b[32m--> \u001b[39m\u001b[32m396\u001b[39m     \u001b[38;5;28;01mraise\u001b[39;00m \u001b[38;5;167;01mTypeError\u001b[39;00m(err_msg)\n\u001b[32m    398\u001b[39m \u001b[38;5;28;01mreturn\u001b[39;00m \u001b[38;5;28;01mNone\u001b[39;00m\n",
      "\u001b[31mTypeError\u001b[39m: The object ``seed`` must be a scalar.",
      "\nDuring handling of the above exception, another exception occurred:\n",
      "\u001b[31mTypeError\u001b[39m                                 Traceback (most recent call last)",
      "\u001b[36mFile \u001b[39m\u001b[32m/mnt/mfitzpat/miniconda3/envs/fancytypes/lib/python3.12/site-packages/czekitout/convert.py:423\u001b[39m, in \u001b[36mto_int\u001b[39m\u001b[34m(obj, obj_name)\u001b[39m\n\u001b[32m    422\u001b[39m kwargs = {\u001b[33m\"\u001b[39m\u001b[33mobj\u001b[39m\u001b[33m\"\u001b[39m: intermediate_conversion_of_obj, \u001b[33m\"\u001b[39m\u001b[33mobj_name\u001b[39m\u001b[33m\"\u001b[39m: obj_name}\n\u001b[32m--> \u001b[39m\u001b[32m423\u001b[39m intermediate_conversion_of_obj = \u001b[43mconvert_to_float\u001b[49m\u001b[43m(\u001b[49m\u001b[43m*\u001b[49m\u001b[43m*\u001b[49m\u001b[43mkwargs\u001b[49m\u001b[43m)\u001b[49m\n\u001b[32m    425\u001b[39m kwargs[\u001b[33m\"\u001b[39m\u001b[33mobj\u001b[39m\u001b[33m\"\u001b[39m] = intermediate_conversion_of_obj\n",
      "\u001b[36mFile \u001b[39m\u001b[32m/mnt/mfitzpat/miniconda3/envs/fancytypes/lib/python3.12/site-packages/czekitout/convert.py:389\u001b[39m, in \u001b[36mto_float\u001b[39m\u001b[34m(obj, obj_name)\u001b[39m\n\u001b[32m    388\u001b[39m         kwargs[\u001b[33m\"\u001b[39m\u001b[33mobj\u001b[39m\u001b[33m\"\u001b[39m] = intermediate_conversion_of_obj\n\u001b[32m--> \u001b[39m\u001b[32m389\u001b[39m         \u001b[43mczekitout\u001b[49m\u001b[43m.\u001b[49m\u001b[43mcheck\u001b[49m\u001b[43m.\u001b[49m\u001b[43mif_float\u001b[49m\u001b[43m(\u001b[49m\u001b[43m*\u001b[49m\u001b[43m*\u001b[49m\u001b[43mkwargs\u001b[49m\u001b[43m)\u001b[49m\n\u001b[32m    391\u001b[39m \u001b[38;5;28;01mreturn\u001b[39;00m result\n",
      "\u001b[36mFile \u001b[39m\u001b[32m/mnt/mfitzpat/miniconda3/envs/fancytypes/lib/python3.12/site-packages/czekitout/check.py:431\u001b[39m, in \u001b[36mif_float\u001b[39m\u001b[34m(obj, obj_name)\u001b[39m\n\u001b[32m    430\u001b[39m     err_msg = _if_float_err_msg_1.format(obj_name)\n\u001b[32m--> \u001b[39m\u001b[32m431\u001b[39m     \u001b[38;5;28;01mraise\u001b[39;00m \u001b[38;5;167;01mTypeError\u001b[39;00m(err_msg)\n\u001b[32m    433\u001b[39m \u001b[38;5;28;01mreturn\u001b[39;00m \u001b[38;5;28;01mNone\u001b[39;00m\n",
      "\u001b[31mTypeError\u001b[39m: The object ``seed`` must be a real number.",
      "\nDuring handling of the above exception, another exception occurred:\n",
      "\u001b[31mTypeError\u001b[39m                                 Traceback (most recent call last)",
      "\u001b[36mFile \u001b[39m\u001b[32m/mnt/mfitzpat/miniconda3/envs/fancytypes/lib/python3.12/site-packages/czekitout/check.py:424\u001b[39m, in \u001b[36mif_float\u001b[39m\u001b[34m(obj, obj_name)\u001b[39m\n\u001b[32m    423\u001b[39m check_if_scalar = if_scalar  \u001b[38;5;66;03m# Alias for readability.\u001b[39;00m\n\u001b[32m--> \u001b[39m\u001b[32m424\u001b[39m \u001b[43mcheck_if_scalar\u001b[49m\u001b[43m(\u001b[49m\u001b[43mobj\u001b[49m\u001b[43m,\u001b[49m\u001b[43m \u001b[49m\u001b[43mobj_name\u001b[49m\u001b[43m)\u001b[49m\n\u001b[32m    426\u001b[39m obj_as_complex = \u001b[38;5;28mcomplex\u001b[39m(np.array(obj).tolist())\n",
      "\u001b[36mFile \u001b[39m\u001b[32m/mnt/mfitzpat/miniconda3/envs/fancytypes/lib/python3.12/site-packages/czekitout/check.py:396\u001b[39m, in \u001b[36mif_scalar\u001b[39m\u001b[34m(obj, obj_name)\u001b[39m\n\u001b[32m    395\u001b[39m     err_msg = _if_scalar_err_msg_1.format(obj_name)\n\u001b[32m--> \u001b[39m\u001b[32m396\u001b[39m     \u001b[38;5;28;01mraise\u001b[39;00m \u001b[38;5;167;01mTypeError\u001b[39;00m(err_msg)\n\u001b[32m    398\u001b[39m \u001b[38;5;28;01mreturn\u001b[39;00m \u001b[38;5;28;01mNone\u001b[39;00m\n",
      "\u001b[31mTypeError\u001b[39m: The object ``seed`` must be a scalar.",
      "\nDuring handling of the above exception, another exception occurred:\n",
      "\u001b[31mTypeError\u001b[39m                                 Traceback (most recent call last)",
      "\u001b[36mFile \u001b[39m\u001b[32m/mnt/mfitzpat/miniconda3/envs/fancytypes/lib/python3.12/site-packages/czekitout/check.py:648\u001b[39m, in \u001b[36mif_int\u001b[39m\u001b[34m(obj, obj_name)\u001b[39m\n\u001b[32m    647\u001b[39m check_if_float = if_float  \u001b[38;5;66;03m# Alias for readability.\u001b[39;00m\n\u001b[32m--> \u001b[39m\u001b[32m648\u001b[39m \u001b[43mcheck_if_float\u001b[49m\u001b[43m(\u001b[49m\u001b[43mobj\u001b[49m\u001b[43m,\u001b[49m\u001b[43m \u001b[49m\u001b[43mobj_name\u001b[49m\u001b[43m)\u001b[49m\n\u001b[32m    650\u001b[39m real_part_of_obj = \u001b[38;5;28mcomplex\u001b[39m(np.array(obj).tolist()).real\n",
      "\u001b[36mFile \u001b[39m\u001b[32m/mnt/mfitzpat/miniconda3/envs/fancytypes/lib/python3.12/site-packages/czekitout/check.py:431\u001b[39m, in \u001b[36mif_float\u001b[39m\u001b[34m(obj, obj_name)\u001b[39m\n\u001b[32m    430\u001b[39m     err_msg = _if_float_err_msg_1.format(obj_name)\n\u001b[32m--> \u001b[39m\u001b[32m431\u001b[39m     \u001b[38;5;28;01mraise\u001b[39;00m \u001b[38;5;167;01mTypeError\u001b[39;00m(err_msg)\n\u001b[32m    433\u001b[39m \u001b[38;5;28;01mreturn\u001b[39;00m \u001b[38;5;28;01mNone\u001b[39;00m\n",
      "\u001b[31mTypeError\u001b[39m: The object ``seed`` must be a real number.",
      "\nDuring handling of the above exception, another exception occurred:\n",
      "\u001b[31mTypeError\u001b[39m                                 Traceback (most recent call last)",
      "\u001b[36mFile \u001b[39m\u001b[32m/mnt/mfitzpat/miniconda3/envs/fancytypes/lib/python3.12/site-packages/czekitout/convert.py:600\u001b[39m, in \u001b[36mto_nonnegative_int\u001b[39m\u001b[34m(obj, obj_name)\u001b[39m\n\u001b[32m    599\u001b[39m kwargs = {\u001b[33m\"\u001b[39m\u001b[33mobj\u001b[39m\u001b[33m\"\u001b[39m: intermediate_conversion_of_obj, \u001b[33m\"\u001b[39m\u001b[33mobj_name\u001b[39m\u001b[33m\"\u001b[39m: obj_name}\n\u001b[32m--> \u001b[39m\u001b[32m600\u001b[39m intermediate_conversion_of_obj = \u001b[43mconvert_to_int\u001b[49m\u001b[43m(\u001b[49m\u001b[43m*\u001b[49m\u001b[43m*\u001b[49m\u001b[43mkwargs\u001b[49m\u001b[43m)\u001b[49m\n\u001b[32m    602\u001b[39m kwargs[\u001b[33m\"\u001b[39m\u001b[33mobj\u001b[39m\u001b[33m\"\u001b[39m] = intermediate_conversion_of_obj\n",
      "\u001b[36mFile \u001b[39m\u001b[32m/mnt/mfitzpat/miniconda3/envs/fancytypes/lib/python3.12/site-packages/czekitout/convert.py:429\u001b[39m, in \u001b[36mto_int\u001b[39m\u001b[34m(obj, obj_name)\u001b[39m\n\u001b[32m    428\u001b[39m     kwargs[\u001b[33m\"\u001b[39m\u001b[33mobj\u001b[39m\u001b[33m\"\u001b[39m] = intermediate_conversion_of_obj\n\u001b[32m--> \u001b[39m\u001b[32m429\u001b[39m     \u001b[43mczekitout\u001b[49m\u001b[43m.\u001b[49m\u001b[43mcheck\u001b[49m\u001b[43m.\u001b[49m\u001b[43mif_int\u001b[49m\u001b[43m(\u001b[49m\u001b[43m*\u001b[49m\u001b[43m*\u001b[49m\u001b[43mkwargs\u001b[49m\u001b[43m)\u001b[49m\n\u001b[32m    431\u001b[39m result = \u001b[38;5;28mround\u001b[39m(intermediate_conversion_of_obj)\n",
      "\u001b[36mFile \u001b[39m\u001b[32m/mnt/mfitzpat/miniconda3/envs/fancytypes/lib/python3.12/site-packages/czekitout/check.py:656\u001b[39m, in \u001b[36mif_int\u001b[39m\u001b[34m(obj, obj_name)\u001b[39m\n\u001b[32m    655\u001b[39m     err_msg = _if_int_err_msg_1.format(obj_name)\n\u001b[32m--> \u001b[39m\u001b[32m656\u001b[39m     \u001b[38;5;28;01mraise\u001b[39;00m \u001b[38;5;167;01mTypeError\u001b[39;00m(err_msg)\n\u001b[32m    658\u001b[39m \u001b[38;5;28;01mreturn\u001b[39;00m \u001b[38;5;28;01mNone\u001b[39;00m\n",
      "\u001b[31mTypeError\u001b[39m: The object ``seed`` must be an integer.",
      "\nDuring handling of the above exception, another exception occurred:\n",
      "\u001b[31mTypeError\u001b[39m                                 Traceback (most recent call last)",
      "\u001b[36mFile \u001b[39m\u001b[32m/mnt/mfitzpat/miniconda3/envs/fancytypes/lib/python3.12/site-packages/czekitout/check.py:424\u001b[39m, in \u001b[36mif_float\u001b[39m\u001b[34m(obj, obj_name)\u001b[39m\n\u001b[32m    423\u001b[39m check_if_scalar = if_scalar  \u001b[38;5;66;03m# Alias for readability.\u001b[39;00m\n\u001b[32m--> \u001b[39m\u001b[32m424\u001b[39m \u001b[43mcheck_if_scalar\u001b[49m\u001b[43m(\u001b[49m\u001b[43mobj\u001b[49m\u001b[43m,\u001b[49m\u001b[43m \u001b[49m\u001b[43mobj_name\u001b[49m\u001b[43m)\u001b[49m\n\u001b[32m    426\u001b[39m obj_as_complex = \u001b[38;5;28mcomplex\u001b[39m(np.array(obj).tolist())\n",
      "\u001b[36mFile \u001b[39m\u001b[32m/mnt/mfitzpat/miniconda3/envs/fancytypes/lib/python3.12/site-packages/czekitout/check.py:396\u001b[39m, in \u001b[36mif_scalar\u001b[39m\u001b[34m(obj, obj_name)\u001b[39m\n\u001b[32m    395\u001b[39m     err_msg = _if_scalar_err_msg_1.format(obj_name)\n\u001b[32m--> \u001b[39m\u001b[32m396\u001b[39m     \u001b[38;5;28;01mraise\u001b[39;00m \u001b[38;5;167;01mTypeError\u001b[39;00m(err_msg)\n\u001b[32m    398\u001b[39m \u001b[38;5;28;01mreturn\u001b[39;00m \u001b[38;5;28;01mNone\u001b[39;00m\n",
      "\u001b[31mTypeError\u001b[39m: The object ``seed`` must be a scalar.",
      "\nDuring handling of the above exception, another exception occurred:\n",
      "\u001b[31mTypeError\u001b[39m                                 Traceback (most recent call last)",
      "\u001b[36mFile \u001b[39m\u001b[32m/mnt/mfitzpat/miniconda3/envs/fancytypes/lib/python3.12/site-packages/czekitout/check.py:648\u001b[39m, in \u001b[36mif_int\u001b[39m\u001b[34m(obj, obj_name)\u001b[39m\n\u001b[32m    647\u001b[39m check_if_float = if_float  \u001b[38;5;66;03m# Alias for readability.\u001b[39;00m\n\u001b[32m--> \u001b[39m\u001b[32m648\u001b[39m \u001b[43mcheck_if_float\u001b[49m\u001b[43m(\u001b[49m\u001b[43mobj\u001b[49m\u001b[43m,\u001b[49m\u001b[43m \u001b[49m\u001b[43mobj_name\u001b[49m\u001b[43m)\u001b[49m\n\u001b[32m    650\u001b[39m real_part_of_obj = \u001b[38;5;28mcomplex\u001b[39m(np.array(obj).tolist()).real\n",
      "\u001b[36mFile \u001b[39m\u001b[32m/mnt/mfitzpat/miniconda3/envs/fancytypes/lib/python3.12/site-packages/czekitout/check.py:431\u001b[39m, in \u001b[36mif_float\u001b[39m\u001b[34m(obj, obj_name)\u001b[39m\n\u001b[32m    430\u001b[39m     err_msg = _if_float_err_msg_1.format(obj_name)\n\u001b[32m--> \u001b[39m\u001b[32m431\u001b[39m     \u001b[38;5;28;01mraise\u001b[39;00m \u001b[38;5;167;01mTypeError\u001b[39;00m(err_msg)\n\u001b[32m    433\u001b[39m \u001b[38;5;28;01mreturn\u001b[39;00m \u001b[38;5;28;01mNone\u001b[39;00m\n",
      "\u001b[31mTypeError\u001b[39m: The object ``seed`` must be a real number.",
      "\nDuring handling of the above exception, another exception occurred:\n",
      "\u001b[31mTypeError\u001b[39m                                 Traceback (most recent call last)",
      "\u001b[36mCell\u001b[39m\u001b[36m \u001b[39m\u001b[32mIn[11]\u001b[39m\u001b[32m, line 2\u001b[39m\n\u001b[32m      1\u001b[39m kwargs = {\u001b[33m\"\u001b[39m\u001b[33mslice_obj\u001b[39m\u001b[33m\"\u001b[39m: \u001b[38;5;28mslice\u001b[39m(\u001b[38;5;28;01mNone\u001b[39;00m, \u001b[32m6\u001b[39m, \u001b[32m1\u001b[39m), \u001b[33m\"\u001b[39m\u001b[33mseed\u001b[39m\u001b[33m\"\u001b[39m: \u001b[33m\"\u001b[39m\u001b[33mfoo\u001b[39m\u001b[33m\"\u001b[39m}\n\u001b[32m----> \u001b[39m\u001b[32m2\u001b[39m slice_shuffler = \u001b[43mSliceShuffler\u001b[49m\u001b[43m(\u001b[49m\u001b[43mslice_obj\u001b[49m\u001b[43m=\u001b[49m\u001b[38;5;28;43mslice\u001b[39;49m\u001b[43m(\u001b[49m\u001b[38;5;28;43;01mNone\u001b[39;49;00m\u001b[43m,\u001b[49m\u001b[43m \u001b[49m\u001b[32;43m6\u001b[39;49m\u001b[43m,\u001b[49m\u001b[43m \u001b[49m\u001b[32;43m1\u001b[39;49m\u001b[43m)\u001b[49m\u001b[43m,\u001b[49m\u001b[43m \u001b[49m\u001b[43mseed\u001b[49m\u001b[43m=\u001b[49m\u001b[33;43m\"\u001b[39;49m\u001b[33;43mfoo\u001b[39;49m\u001b[33;43m\"\u001b[39;49m\u001b[43m)\u001b[49m\n",
      "\u001b[36mCell\u001b[39m\u001b[36m \u001b[39m\u001b[32mIn[2]\u001b[39m\u001b[32m, line 77\u001b[39m, in \u001b[36mSliceShuffler.__init__\u001b[39m\u001b[34m(self, slice_obj, seed, skip_validation_and_conversion)\u001b[39m\n\u001b[32m     75\u001b[39m kwargs = ctor_params\n\u001b[32m     76\u001b[39m kwargs[\u001b[33m\"\u001b[39m\u001b[33mskip_cls_tests\u001b[39m\u001b[33m\"\u001b[39m] = skip_cls_tests\n\u001b[32m---> \u001b[39m\u001b[32m77\u001b[39m \u001b[43mfancytypes\u001b[49m\u001b[43m.\u001b[49m\u001b[43mPreSerializable\u001b[49m\u001b[43m.\u001b[49m\u001b[34;43m__init__\u001b[39;49m\u001b[43m(\u001b[49m\u001b[38;5;28;43mself\u001b[39;49m\u001b[43m,\u001b[49m\u001b[43m \u001b[49m\u001b[43m*\u001b[49m\u001b[43m*\u001b[49m\u001b[43mkwargs\u001b[49m\u001b[43m)\u001b[49m\n\u001b[32m     79\u001b[39m seed = \u001b[38;5;28mself\u001b[39m.core_attrs[\u001b[33m\"\u001b[39m\u001b[33mseed\u001b[39m\u001b[33m\"\u001b[39m]\n\u001b[32m     80\u001b[39m \u001b[38;5;28mself\u001b[39m._random_generator = np.random.default_rng(seed)\n",
      "\u001b[36mFile \u001b[39m\u001b[32m/mnt/mfitzpat/miniconda3/envs/fancytypes/lib/python3.12/site-packages/fancytypes/__init__.py:647\u001b[39m, in \u001b[36mPreSerializable.__init__\u001b[39m\u001b[34m(self, skip_validation_and_conversion, skip_cls_tests, **kwargs)\u001b[39m\n\u001b[32m    641\u001b[39m \u001b[38;5;28;01mdef\u001b[39;00m\u001b[38;5;250m \u001b[39m\u001b[34m__init__\u001b[39m(\u001b[38;5;28mself\u001b[39m,\n\u001b[32m    642\u001b[39m              skip_validation_and_conversion=\\\n\u001b[32m    643\u001b[39m              _default_skip_validation_and_conversion,\n\u001b[32m    644\u001b[39m              skip_cls_tests=\\\n\u001b[32m    645\u001b[39m              _default_skip_cls_tests,\n\u001b[32m    646\u001b[39m              **kwargs):\n\u001b[32m--> \u001b[39m\u001b[32m647\u001b[39m     \u001b[38;5;28;43msuper\u001b[39;49m\u001b[43m(\u001b[49m\u001b[43m)\u001b[49m\u001b[43m.\u001b[49m\u001b[34;43m__init__\u001b[39;49m\u001b[43m(\u001b[49m\u001b[43mskip_validation_and_conversion\u001b[49m\u001b[43m,\u001b[49m\n\u001b[32m    648\u001b[39m \u001b[43m                     \u001b[49m\u001b[43mskip_cls_tests\u001b[49m\u001b[43m,\u001b[49m\n\u001b[32m    649\u001b[39m \u001b[43m                     \u001b[49m\u001b[43m*\u001b[49m\u001b[43m*\u001b[49m\u001b[43mkwargs\u001b[49m\u001b[43m)\u001b[49m\n\u001b[32m    651\u001b[39m     params = {\u001b[33m\"\u001b[39m\u001b[33mskip_cls_tests\u001b[39m\u001b[33m\"\u001b[39m: skip_cls_tests}\n\u001b[32m    652\u001b[39m     skip_cls_tests = _check_and_convert_skip_cls_tests(params)\n",
      "\u001b[36mFile \u001b[39m\u001b[32m/mnt/mfitzpat/miniconda3/envs/fancytypes/lib/python3.12/site-packages/fancytypes/__init__.py:243\u001b[39m, in \u001b[36mCheckable.__init__\u001b[39m\u001b[34m(self, skip_validation_and_conversion, skip_cls_tests, **kwargs)\u001b[39m\n\u001b[32m    236\u001b[39m     func_alias = _check_and_convert_params_to_be_mapped_to_core_attrs\n\u001b[32m    237\u001b[39m     params = {\u001b[33m\"\u001b[39m\u001b[33mvalidation_and_conversion_funcs\u001b[39m\u001b[33m\"\u001b[39m: \\\n\u001b[32m    238\u001b[39m               \u001b[38;5;28mself\u001b[39m._validation_and_conversion_funcs,\n\u001b[32m    239\u001b[39m               \u001b[33m\"\u001b[39m\u001b[33mparams_to_be_mapped_to_core_attrs\u001b[39m\u001b[33m\"\u001b[39m: \\\n\u001b[32m    240\u001b[39m               params_to_be_mapped_to_core_attrs,\n\u001b[32m    241\u001b[39m               \u001b[33m\"\u001b[39m\u001b[33mskip_validation_and_conversion\u001b[39m\u001b[33m\"\u001b[39m: \\\n\u001b[32m    242\u001b[39m               skip_validation_and_conversion}\n\u001b[32m--> \u001b[39m\u001b[32m243\u001b[39m     \u001b[38;5;28mself\u001b[39m._core_attrs = \u001b[43mfunc_alias\u001b[49m\u001b[43m(\u001b[49m\u001b[43mparams\u001b[49m\u001b[43m)\u001b[49m\n\u001b[32m    244\u001b[39m \u001b[38;5;28;01melse\u001b[39;00m:\n\u001b[32m    245\u001b[39m     \u001b[38;5;28mself\u001b[39m._core_attrs = params_to_be_mapped_to_core_attrs.copy()\n",
      "\u001b[36mFile \u001b[39m\u001b[32m/mnt/mfitzpat/miniconda3/envs/fancytypes/lib/python3.12/site-packages/fancytypes/__init__.py:105\u001b[39m, in \u001b[36m_check_and_convert_params_to_be_mapped_to_core_attrs\u001b[39m\u001b[34m(params)\u001b[39m\n\u001b[32m    100\u001b[39m params[\u001b[33m\"\u001b[39m\u001b[33mcore_attrs_candidate\u001b[39m\u001b[33m\"\u001b[39m] = \\\n\u001b[32m    101\u001b[39m     params[\u001b[33m\"\u001b[39m\u001b[33mparams_to_be_mapped_to_core_attrs\u001b[39m\u001b[33m\"\u001b[39m]\n\u001b[32m    102\u001b[39m params[\u001b[33m\"\u001b[39m\u001b[33mname_of_obj_alias_of_core_attrs_candidate\u001b[39m\u001b[33m\"\u001b[39m] = \\\n\u001b[32m    103\u001b[39m     \u001b[33m\"\u001b[39m\u001b[33mparams_to_be_mapped_to_core_attrs\u001b[39m\u001b[33m\"\u001b[39m\n\u001b[32m    104\u001b[39m params_to_be_mapped_to_core_attrs = \\\n\u001b[32m--> \u001b[39m\u001b[32m105\u001b[39m     \u001b[43m_check_and_convert_core_attrs_candidate\u001b[49m\u001b[43m(\u001b[49m\u001b[43mparams\u001b[49m\u001b[43m)\u001b[49m\n\u001b[32m    107\u001b[39m \u001b[38;5;28;01mdel\u001b[39;00m params[\u001b[33m\"\u001b[39m\u001b[33mcore_attrs_candidate\u001b[39m\u001b[33m\"\u001b[39m]\n\u001b[32m    108\u001b[39m \u001b[38;5;28;01mdel\u001b[39;00m params[\u001b[33m\"\u001b[39m\u001b[33mname_of_obj_alias_of_core_attrs_candidate\u001b[39m\u001b[33m\"\u001b[39m]\n",
      "\u001b[36mFile \u001b[39m\u001b[32m/mnt/mfitzpat/miniconda3/envs/fancytypes/lib/python3.12/site-packages/fancytypes/__init__.py:134\u001b[39m, in \u001b[36m_check_and_convert_core_attrs_candidate\u001b[39m\u001b[34m(params)\u001b[39m\n\u001b[32m    131\u001b[39m     validation_and_conversion_func = validation_and_conversion_funcs[key]\n\u001b[32m    133\u001b[39m     kwargs = {\u001b[33m\"\u001b[39m\u001b[33mparams\u001b[39m\u001b[33m\"\u001b[39m: core_attrs_candidate}\n\u001b[32m--> \u001b[39m\u001b[32m134\u001b[39m     core_attr_candidate = \u001b[43mvalidation_and_conversion_func\u001b[49m\u001b[43m(\u001b[49m\u001b[43m*\u001b[49m\u001b[43m*\u001b[49m\u001b[43mkwargs\u001b[49m\u001b[43m)\u001b[49m\n\u001b[32m    136\u001b[39m     core_attrs_candidate[key] = core_attr_candidate\n\u001b[32m    138\u001b[39m \u001b[38;5;28;01mreturn\u001b[39;00m core_attrs_candidate\n",
      "\u001b[36mCell\u001b[39m\u001b[36m \u001b[39m\u001b[32mIn[2]\u001b[39m\u001b[32m, line 15\u001b[39m, in \u001b[36m_check_and_convert_seed\u001b[39m\u001b[34m(params)\u001b[39m\n\u001b[32m     13\u001b[39m obj_name = \u001b[33m\"\u001b[39m\u001b[33mseed\u001b[39m\u001b[33m\"\u001b[39m\n\u001b[32m     14\u001b[39m kwargs = {\u001b[33m\"\u001b[39m\u001b[33mobj\u001b[39m\u001b[33m\"\u001b[39m: params[obj_name], \u001b[33m\"\u001b[39m\u001b[33mobj_name\u001b[39m\u001b[33m\"\u001b[39m: obj_name}\n\u001b[32m---> \u001b[39m\u001b[32m15\u001b[39m seed = \u001b[43mczekitout\u001b[49m\u001b[43m.\u001b[49m\u001b[43mconvert\u001b[49m\u001b[43m.\u001b[49m\u001b[43mto_nonnegative_int\u001b[49m\u001b[43m(\u001b[49m\u001b[43m*\u001b[49m\u001b[43m*\u001b[49m\u001b[43mkwargs\u001b[49m\u001b[43m)\u001b[49m\n\u001b[32m     17\u001b[39m \u001b[38;5;28;01mreturn\u001b[39;00m seed\n",
      "\u001b[36mFile \u001b[39m\u001b[32m/mnt/mfitzpat/miniconda3/envs/fancytypes/lib/python3.12/site-packages/czekitout/convert.py:606\u001b[39m, in \u001b[36mto_nonnegative_int\u001b[39m\u001b[34m(obj, obj_name)\u001b[39m\n\u001b[32m    604\u001b[39m \u001b[38;5;28;01mexcept\u001b[39;00m:\n\u001b[32m    605\u001b[39m     kwargs[\u001b[33m\"\u001b[39m\u001b[33mobj\u001b[39m\u001b[33m\"\u001b[39m] = intermediate_conversion_of_obj\n\u001b[32m--> \u001b[39m\u001b[32m606\u001b[39m     \u001b[43mczekitout\u001b[49m\u001b[43m.\u001b[49m\u001b[43mcheck\u001b[49m\u001b[43m.\u001b[49m\u001b[43mif_nonnegative_int\u001b[49m\u001b[43m(\u001b[49m\u001b[43m*\u001b[49m\u001b[43m*\u001b[49m\u001b[43mkwargs\u001b[49m\u001b[43m)\u001b[49m\n\u001b[32m    608\u001b[39m result = intermediate_conversion_of_obj\n\u001b[32m    610\u001b[39m \u001b[38;5;28;01mreturn\u001b[39;00m result\n",
      "\u001b[36mFile \u001b[39m\u001b[32m/mnt/mfitzpat/miniconda3/envs/fancytypes/lib/python3.12/site-packages/czekitout/check.py:794\u001b[39m, in \u001b[36mif_nonnegative_int\u001b[39m\u001b[34m(obj, obj_name)\u001b[39m\n\u001b[32m    773\u001b[39m \u001b[38;5;250m\u001b[39m\u001b[33mr\u001b[39m\u001b[33;03m\"\"\"Check whether input object is a nonnegative integer.\u001b[39;00m\n\u001b[32m    774\u001b[39m \n\u001b[32m    775\u001b[39m \u001b[33;03mIf the input object is not a nonnegative integer, then an exception is\u001b[39;00m\n\u001b[32m   (...)\u001b[39m\u001b[32m    791\u001b[39m \n\u001b[32m    792\u001b[39m \u001b[33;03m\"\"\"\u001b[39;00m\n\u001b[32m    793\u001b[39m check_if_int = if_int  \u001b[38;5;66;03m# Alias for readability.\u001b[39;00m\n\u001b[32m--> \u001b[39m\u001b[32m794\u001b[39m \u001b[43mcheck_if_int\u001b[49m\u001b[43m(\u001b[49m\u001b[43mobj\u001b[49m\u001b[43m,\u001b[49m\u001b[43m \u001b[49m\u001b[43mobj_name\u001b[49m\u001b[43m)\u001b[49m\n\u001b[32m    796\u001b[39m \u001b[38;5;28;01mtry\u001b[39;00m:\n\u001b[32m    797\u001b[39m     real_part_of_obj = \u001b[38;5;28mcomplex\u001b[39m(np.array(obj).tolist()).real\n",
      "\u001b[36mFile \u001b[39m\u001b[32m/mnt/mfitzpat/miniconda3/envs/fancytypes/lib/python3.12/site-packages/czekitout/check.py:656\u001b[39m, in \u001b[36mif_int\u001b[39m\u001b[34m(obj, obj_name)\u001b[39m\n\u001b[32m    654\u001b[39m \u001b[38;5;28;01mexcept\u001b[39;00m:\n\u001b[32m    655\u001b[39m     err_msg = _if_int_err_msg_1.format(obj_name)\n\u001b[32m--> \u001b[39m\u001b[32m656\u001b[39m     \u001b[38;5;28;01mraise\u001b[39;00m \u001b[38;5;167;01mTypeError\u001b[39;00m(err_msg)\n\u001b[32m    658\u001b[39m \u001b[38;5;28;01mreturn\u001b[39;00m \u001b[38;5;28;01mNone\u001b[39;00m\n",
      "\u001b[31mTypeError\u001b[39m: The object ``seed`` must be an integer."
     ]
    }
   ],
   "source": [
    "kwargs = {\"slice_obj\": slice(None, 6, 1), \"seed\": \"foo\"}\n",
    "slice_shuffler = SliceShuffler(slice_obj=slice(None, 6, 1), seed=\"foo\")"
   ]
  },
  {
   "cell_type": "markdown",
   "id": "75f51455",
   "metadata": {},
   "source": [
    "Construct a valid instance of the ``SliceShuffler`` class and print the core attributes."
   ]
  },
  {
   "cell_type": "markdown",
   "id": "81b99182-8905-4024-884b-033880a869bc",
   "metadata": {},
   "source": [
    "Let's pre-serialize instance. You could then serialize the serializable \n",
    "representation using the ``json`` library."
   ]
  },
  {
   "cell_type": "code",
   "execution_count": 12,
   "id": "af49aadb-b7d9-4f3f-a787-b06bd208ba2c",
   "metadata": {},
   "outputs": [
    {
     "name": "stdout",
     "output_type": "stream",
     "text": [
      "{'slice_obj': {'start': None, 'stop': 6, 'step': 1}, 'seed': 5}\n"
     ]
    }
   ],
   "source": [
    "serializable_rep = slice_shuffler.pre_serialize()\n",
    "print(serializable_rep)"
   ]
  },
  {
   "cell_type": "markdown",
   "id": "2a4a48d3-00e5-4d10-8157-cdf289fd14ee",
   "metadata": {},
   "source": [
    "Alternatively, you could serialize the instance of the class by using the\n",
    "``dumps`` method:"
   ]
  },
  {
   "cell_type": "code",
   "execution_count": 13,
   "id": "42713192-4d3f-47f7-87c9-baeebf8b423e",
   "metadata": {},
   "outputs": [
    {
     "name": "stdout",
     "output_type": "stream",
     "text": [
      "{\"slice_obj\": {\"start\": null, \"stop\": 6, \"step\": 1}, \"seed\": 5}\n"
     ]
    }
   ],
   "source": [
    "serialized_rep = slice_shuffler.dumps()\n",
    "print(serialized_rep)"
   ]
  },
  {
   "cell_type": "markdown",
   "id": "03ee4cbb-fe6f-4785-92ba-7847c166469b",
   "metadata": {},
   "source": [
    "You can also serialize the instance and save the result to a JSON file in one go\n",
    "using the ``dump`` method:"
   ]
  },
  {
   "cell_type": "code",
   "execution_count": 14,
   "id": "8415e5e8-2d59-426a-9886-72910f8b5778",
   "metadata": {},
   "outputs": [],
   "source": [
    "filename = \"slice_shuffler.json\"\n",
    "slice_shuffler.dump(filename, overwrite=True)"
   ]
  },
  {
   "cell_type": "markdown",
   "id": "55623f27-3c84-4319-91e5-b6c3a1055759",
   "metadata": {},
   "source": [
    "Trying to save a serialized representation to a pre-existing that with\n",
    "``overwrite==False`` will raise an exception:"
   ]
  },
  {
   "cell_type": "code",
   "execution_count": 15,
   "id": "9d017e73-db01-46f8-a386-3fa3598078f2",
   "metadata": {},
   "outputs": [
    {
     "ename": "OSError",
     "evalue": "Cannot save the serialized representation to a file at the path ``'slice_shuffler.json'`` because a file already exists there and the object ``overwrite`` was set to ``False``, which prohibits overwriting the original file.",
     "output_type": "error",
     "traceback": [
      "\u001b[31m---------------------------------------------------------------------------\u001b[39m",
      "\u001b[31mOSError\u001b[39m                                   Traceback (most recent call last)",
      "\u001b[36mCell\u001b[39m\u001b[36m \u001b[39m\u001b[32mIn[15]\u001b[39m\u001b[32m, line 2\u001b[39m\n\u001b[32m      1\u001b[39m filename = \u001b[33m\"\u001b[39m\u001b[33mslice_shuffler.json\u001b[39m\u001b[33m\"\u001b[39m\n\u001b[32m----> \u001b[39m\u001b[32m2\u001b[39m \u001b[43mslice_shuffler\u001b[49m\u001b[43m.\u001b[49m\u001b[43mdump\u001b[49m\u001b[43m(\u001b[49m\u001b[43mfilename\u001b[49m\u001b[43m,\u001b[49m\u001b[43m \u001b[49m\u001b[43moverwrite\u001b[49m\u001b[43m=\u001b[49m\u001b[38;5;28;43;01mFalse\u001b[39;49;00m\u001b[43m)\u001b[49m\n",
      "\u001b[36mFile \u001b[39m\u001b[32m/mnt/mfitzpat/miniconda3/envs/fancytypes/lib/python3.12/site-packages/fancytypes/__init__.py:1012\u001b[39m, in \u001b[36mPreSerializable.dump\u001b[39m\u001b[34m(self, filename, overwrite)\u001b[39m\n\u001b[32m   1010\u001b[39m \u001b[38;5;28;01mif\u001b[39;00m pathlib.Path(filename).is_file():\n\u001b[32m   1011\u001b[39m     \u001b[38;5;28;01mif\u001b[39;00m \u001b[38;5;129;01mnot\u001b[39;00m overwrite:\n\u001b[32m-> \u001b[39m\u001b[32m1012\u001b[39m         \u001b[38;5;28;01mraise\u001b[39;00m \u001b[38;5;167;01mIOError\u001b[39;00m(_pre_serializable_err_msg_8.format(filename))\n\u001b[32m   1014\u001b[39m serializable_rep = \u001b[38;5;28mself\u001b[39m.pre_serialize()\n\u001b[32m   1016\u001b[39m \u001b[38;5;28;01mtry\u001b[39;00m:\n",
      "\u001b[31mOSError\u001b[39m: Cannot save the serialized representation to a file at the path ``'slice_shuffler.json'`` because a file already exists there and the object ``overwrite`` was set to ``False``, which prohibits overwriting the original file."
     ]
    }
   ],
   "source": [
    "filename = \"slice_shuffler.json\"\n",
    "slice_shuffler.dump(filename, overwrite=False)"
   ]
  },
  {
   "cell_type": "markdown",
   "id": "b176fae2-7a95-41f8-9adf-6b39f5a0d9ad",
   "metadata": {},
   "source": [
    "Let's reconstruct the instance of ``SliceShuffler`` from the serialized\n",
    "representation."
   ]
  },
  {
   "cell_type": "code",
   "execution_count": 16,
   "id": "0ea88c88-93c3-4490-a2b4-1bc20f0f7892",
   "metadata": {},
   "outputs": [
    {
     "name": "stdout",
     "output_type": "stream",
     "text": [
      "{'slice_obj': slice(None, 6, 1), 'seed': 5}\n"
     ]
    }
   ],
   "source": [
    "slice_shuffler = SliceShuffler.loads(serialized_rep)\n",
    "print(slice_shuffler.core_attrs)"
   ]
  },
  {
   "cell_type": "markdown",
   "id": "b51aaea6-6819-4f98-b4cd-82cc17149253",
   "metadata": {},
   "source": [
    "Let's reconstruct the instance of ``SliceShuffler`` from the serialized\n",
    "representation saved in the JSON file."
   ]
  },
  {
   "cell_type": "code",
   "execution_count": 17,
   "id": "3e3a2f38-aa0c-44d6-86df-475ca9136f71",
   "metadata": {},
   "outputs": [
    {
     "name": "stdout",
     "output_type": "stream",
     "text": [
      "{'slice_obj': slice(None, 6, 1), 'seed': 5}\n"
     ]
    }
   ],
   "source": [
    "slice_shuffler = SliceShuffler.load(filename)\n",
    "print(slice_shuffler.core_attrs)"
   ]
  },
  {
   "cell_type": "markdown",
   "id": "231ff8b7-b722-48c8-b285-bc5ef8e4f8ce",
   "metadata": {},
   "source": [
    "Let's de-pre-serialize, i.e. construct an instance from the serializable \n",
    "representation generated above."
   ]
  },
  {
   "cell_type": "code",
   "execution_count": 18,
   "id": "3c64b87d-d0a0-4e2e-b4ef-d5d1d92acf99",
   "metadata": {},
   "outputs": [
    {
     "name": "stdout",
     "output_type": "stream",
     "text": [
      "{'slice_obj': slice(None, 6, 1), 'seed': 5}\n"
     ]
    }
   ],
   "source": [
    "slice_shuffler = SliceShuffler.de_pre_serialize(serializable_rep)\n",
    "print(slice_shuffler.core_attrs)"
   ]
  },
  {
   "cell_type": "markdown",
   "id": "bb6e610c",
   "metadata": {},
   "source": [
    "Note that being a direct subclass of the ``fancytypes.PreSerializable`` class,\n",
    "the ``SliceShuffler`` class supports validation upon construction, and supports\n",
    "pre-serialization and de-pre-serialization, but it does not support updatable\n",
    "core attributes.\n",
    "\n",
    "The ``fancytypes.Checkable`` class only supports validation upon constructing\n",
    "instances.\n",
    "\n",
    "The ``fancytypes.Updatable`` class supports updatable core attributes, and\n",
    "validation upon constructing or updating instances, but it does not support\n",
    "pre-serialization or de-pre-serialization.\n",
    "\n",
    "The ``fancytypes.PreSerializableAndUpdatable`` class supports pre-serialization,\n",
    "de-serialization, updatable core attributes, and enforces validation upon\n",
    "constructing or updating instances."
   ]
  }
 ],
 "metadata": {
  "kernelspec": {
   "display_name": "Python 3 (ipykernel)",
   "language": "python",
   "name": "python3"
  },
  "language_info": {
   "codemirror_mode": {
    "name": "ipython",
    "version": 3
   },
   "file_extension": ".py",
   "mimetype": "text/x-python",
   "name": "python",
   "nbconvert_exporter": "python",
   "pygments_lexer": "ipython3",
   "version": "3.12.12"
  }
 },
 "nbformat": 4,
 "nbformat_minor": 5
}
