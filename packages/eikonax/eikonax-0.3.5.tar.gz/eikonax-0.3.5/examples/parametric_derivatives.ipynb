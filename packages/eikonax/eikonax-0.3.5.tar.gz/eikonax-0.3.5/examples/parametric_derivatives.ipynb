{
 "cells": [
  {
   "cell_type": "markdown",
   "metadata": {},
   "source": [
    "# Imports"
   ]
  },
  {
   "cell_type": "code",
   "execution_count": 1,
   "metadata": {},
   "outputs": [],
   "source": [
    "import jax\n",
    "import jax.numpy as jnp\n",
    "import matplotlib.pyplot as plt\n",
    "import numpy as np\n",
    "import seaborn as sns\n",
    "import sparse as spa\n",
    "\n",
    "from eikonax import (\n",
    "    derivator,\n",
    "    finitediff,\n",
    "    logging,\n",
    "    preprocessing,\n",
    "    solver,\n",
    "    tensorfield,\n",
    ")\n",
    "\n",
    "sns.set_theme(style=\"ticks\")"
   ]
  },
  {
   "cell_type": "markdown",
   "metadata": {},
   "source": [
    "# Configuration and setup"
   ]
  },
  {
   "cell_type": "code",
   "execution_count": 2,
   "metadata": {},
   "outputs": [],
   "source": [
    "# Jax\n",
    "disable_jit = False\n",
    "log_compiles = False\n",
    "\n",
    "# Mesh\n",
    "mesh_bounds_x = (0, 1)\n",
    "mesh_bounds_y = (0, 1)\n",
    "num_points_x = 3\n",
    "num_points_y = 3\n",
    "\n",
    "# Solver\n",
    "solver_data = solver.SolverData(\n",
    "    tolerance=1e-8,\n",
    "    max_num_iterations=1000,\n",
    "    loop_type=\"jitted_while\",\n",
    "    max_value=1000,\n",
    "    use_soft_update=True,\n",
    "    softminmax_order=100,\n",
    "    softminmax_cutoff=0.01,\n",
    "    log_interval=1,\n",
    ")\n",
    "\n",
    "# Derivator\n",
    "derivator_data = derivator.PartialDerivatorData(\n",
    "    use_soft_update=True,\n",
    "    softminmax_order=100,\n",
    "    softminmax_cutoff=0.01,\n",
    ")\n",
    "\n",
    "# Logger (optional)\n",
    "logger_data = logging.LoggerSettings(\n",
    "    log_to_console=True,\n",
    "    logfile_path=None,\n",
    ")\n",
    "\n",
    "# Initial sites\n",
    "initial_sites = preprocessing.InitialSites(inds=(0,), values=(0,))"
   ]
  },
  {
   "cell_type": "code",
   "execution_count": 3,
   "metadata": {},
   "outputs": [],
   "source": [
    "# Create Mesh\n",
    "vertices, simplices = preprocessing.create_test_mesh(\n",
    "    mesh_bounds_x, mesh_bounds_y, num_points_x, num_points_y\n",
    ")\n",
    "mesh_data = preprocessing.MeshData(vertices, simplices)\n",
    "\n",
    "# Initialize tensor field\n",
    "rng = np.random.default_rng(seed=0)\n",
    "parameter_vector = rng.uniform(0.5, 1.5, simplices.shape[0])\n",
    "parameter_vector = jnp.array(parameter_vector)\n",
    "\n",
    "tensor_on_simplex = tensorfield.InvLinearScalarSimplexTensor(dimension=vertices.shape[1])\n",
    "tensor_field_mapping = tensorfield.LinearScalarMap()\n",
    "tensor_field_object = tensorfield.TensorField(\n",
    "    num_simplices=simplices.shape[0],\n",
    "    vector_to_simplices_map=tensor_field_mapping,\n",
    "    simplex_tensor=tensor_on_simplex,\n",
    ")\n",
    "\n",
    "# Initialize logger\n",
    "logger = logging.Logger(logger_data)"
   ]
  },
  {
   "cell_type": "markdown",
   "metadata": {},
   "source": [
    "# Forward solver"
   ]
  },
  {
   "cell_type": "code",
   "execution_count": 4,
   "metadata": {},
   "outputs": [],
   "source": [
    "with jax.disable_jit(disable_jit), jax.log_compiles(log_compiles):\n",
    "    tensor_field_instance = tensor_field_object.assemble_field(parameter_vector)\n",
    "    eikonal_solver = solver.Solver(mesh_data, solver_data, initial_sites, logger)\n",
    "    solution = eikonal_solver.run(tensor_field_instance)"
   ]
  },
  {
   "cell_type": "markdown",
   "metadata": {},
   "source": [
    "# Parametric derivatives"
   ]
  },
  {
   "cell_type": "code",
   "execution_count": 6,
   "metadata": {},
   "outputs": [],
   "source": [
    "with jax.disable_jit(disable_jit), jax.log_compiles(log_compiles):\n",
    "    # Compute partial derivatives\n",
    "    eikonax_derivator = derivator.PartialDerivator(mesh_data, derivator_data, initial_sites)\n",
    "    output_partial_solution, output_partial_tensor = eikonax_derivator.compute_partial_derivatives(\n",
    "        solution.values, tensor_field_instance\n",
    "    )\n",
    "    tensor_partial_parameter = tensor_field_object.assemble_jacobian(parameter_vector)\n",
    "    output_partial_parameter = spa.einsum(\n",
    "        \"ijkl,jklm->im\", output_partial_tensor, tensor_partial_parameter\n",
    "    )\n",
    "    # Initialize derivative solver\n",
    "    derivative_solver = derivator.DerivativeSolver(solution.values, output_partial_solution)"
   ]
  },
  {
   "cell_type": "code",
   "execution_count": 7,
   "metadata": {},
   "outputs": [
    {
     "data": {
      "text/plain": [
       "[<matplotlib.lines.Line2D at 0x7f87d1c2fed0>]"
      ]
     },
     "execution_count": 7,
     "metadata": {},
     "output_type": "execute_result"
    },
    {
     "data": {
      "image/png": "[encoded data removed]",
      "text/plain": [
       "<Figure size 500x500 with 1 Axes>"
      ]
     },
     "metadata": {},
     "output_type": "display_data"
    }
   ],
   "source": [
    "# Compute Jacobian using Eikonax\n",
    "eikonax_jacobian = derivator.compute_eikonax_jacobian(derivative_solver, output_partial_parameter)\n",
    "\n",
    "# Compute Jacobian using finite differences\n",
    "step_widths = np.logspace(-5, -1, 101)\n",
    "errors = []\n",
    "for step_width in step_widths:\n",
    "    finite_diff_jacobian = finitediff.compute_fd_jacobian(\n",
    "        eikonax_solver=eikonal_solver,\n",
    "        tensor_field=tensor_field_object,\n",
    "        stencil=finitediff.finite_diff_1_forward,\n",
    "        eval_point=parameter_vector,\n",
    "        step_width=step_width,\n",
    "    )\n",
    "    error = np.linalg.norm(finite_diff_jacobian - eikonax_jacobian)\n",
    "    errors.append(error)\n",
    "\n",
    "# Plot difference\n",
    "fig, ax = plt.subplots(figsize=(5, 5), layout=\"constrained\")\n",
    "ax.set_xlabel(r\"$h$\")\n",
    "ax.set_ylabel(r\"$\\|J_{\\text{FD}} - J_{\\text{Eikonax}}\\|_2$\")\n",
    "ax.loglog(step_widths, errors)"
   ]
  }
 ],
 "metadata": {
  "kernelspec": {
   "display_name": ".venv",
   "language": "python",
   "name": "python3"
  },
  "language_info": {
   "codemirror_mode": {
    "name": "ipython",
    "version": 3
   },
   "file_extension": ".py",
   "mimetype": "text/x-python",
   "name": "python",
   "nbconvert_exporter": "python",
   "pygments_lexer": "ipython3",
   "version": "3.13.7"
  }
 },
 "nbformat": 4,
 "nbformat_minor": 2
}
