{
 "cells": [
  {
   "cell_type": "code",
   "execution_count": null,
   "id": "21d8cd6f",
   "metadata": {},
   "outputs": [],
   "source": [
    "from atdata.dataset import (\n",
    "    Dataset,\n",
    "    PackableSample,\n",
    ")\n",
    "\n",
    "from dataclasses import dataclass\n",
    "\n",
    "import numpy as np\n",
    "from numpy.typing import NDArray"
   ]
  },
  {
   "cell_type": "code",
   "execution_count": 6,
   "id": "7258a973",
   "metadata": {},
   "outputs": [],
   "source": [
    "@dataclass\n",
    "class TestSample( PackableSample ):\n",
    "    value: int\n",
    "    data: NDArray"
   ]
  },
  {
   "cell_type": "code",
   "execution_count": 11,
   "id": "ae8daad0",
   "metadata": {},
   "outputs": [],
   "source": [
    "x = TestSample( value=42, data=np.array([1,2,3]) )\n",
    "y = TestSample( value=7, data=np.array([4,5,6]) )"
   ]
  },
  {
   "cell_type": "code",
   "execution_count": 36,
   "id": "4dcdb223",
   "metadata": {},
   "outputs": [],
   "source": [
    "x_wds = x.as_wds"
   ]
  },
  {
   "cell_type": "code",
   "execution_count": 37,
   "id": "089dc066",
   "metadata": {},
   "outputs": [],
   "source": [
    "y_wds = y.as_wds"
   ]
  },
  {
   "cell_type": "code",
   "execution_count": 38,
   "id": "240b3ee7",
   "metadata": {},
   "outputs": [
    {
     "data": {
      "text/plain": [
       "{'__key__': '5d33e544-afd0-11f0-8000-000000000000',\n",
       " 'msgpack': b\"\\x82\\xa5value*\\xa4data\\xc4\\x98\\x93NUMPY\\x01\\x00v\\x00{'descr': '<i8', 'fortran_order': False, 'shape': (3,), }                                                            \\n\\x01\\x00\\x00\\x00\\x00\\x00\\x00\\x00\\x02\\x00\\x00\\x00\\x00\\x00\\x00\\x00\\x03\\x00\\x00\\x00\\x00\\x00\\x00\\x00\"}"
      ]
     },
     "execution_count": 38,
     "metadata": {},
     "output_type": "execute_result"
    }
   ],
   "source": [
    "x_wds"
   ]
  },
  {
   "cell_type": "code",
   "execution_count": 28,
   "id": "c2b72db3",
   "metadata": {},
   "outputs": [
    {
     "data": {
      "text/plain": [
       "['414e57e2-afd0-11f0-8000-000000000000',\n",
       " '4162ba48-afd0-11f0-8000-000000000000']"
      ]
     },
     "execution_count": 28,
     "metadata": {},
     "output_type": "execute_result"
    }
   ],
   "source": [
    "list( sorted( [ x_wds['__key__'], y_wds['__key__'] ] ) )"
   ]
  },
  {
   "cell_type": "markdown",
   "id": "7d9fa3de",
   "metadata": {},
   "source": [
    "---"
   ]
  },
  {
   "cell_type": "code",
   "execution_count": 44,
   "id": "e33ad430",
   "metadata": {},
   "outputs": [],
   "source": [
    "from pathlib import Path\n",
    "\n",
    "output_dir = Path( 'output' )\n",
    "output_dir.mkdir( parents = True, exist_ok = True )"
   ]
  },
  {
   "cell_type": "code",
   "execution_count": 45,
   "id": "7fd42beb",
   "metadata": {},
   "outputs": [
    {
     "name": "stdout",
     "output_type": "stream",
     "text": [
      "# writing output/test_data-000000.tar 0 0.0 GB 0\n",
      "# writing output/test_data-000001.tar 100 0.0 GB 100\n",
      "# writing output/test_data-000002.tar 100 0.0 GB 200\n",
      "# writing output/test_data-000003.tar 100 0.0 GB 300\n",
      "# writing output/test_data-000004.tar 100 0.0 GB 400\n",
      "# writing output/test_data-000005.tar 100 0.0 GB 500\n",
      "# writing output/test_data-000006.tar 100 0.0 GB 600\n",
      "# writing output/test_data-000007.tar 100 0.0 GB 700\n",
      "# writing output/test_data-000008.tar 100 0.0 GB 800\n",
      "# writing output/test_data-000009.tar 100 0.0 GB 900\n"
     ]
    }
   ],
   "source": [
    "import webdataset as wds\n",
    "\n",
    "k_samples_test = 1_000\n",
    "\n",
    "with wds.ShardWriter( \n",
    "    pattern = str( output_dir / 'test_data-%06d.tar' ),\n",
    "    maxcount = 100,\n",
    ") as sink:\n",
    "    for i_sample in range( k_samples_test ):\n",
    "        sample = TestSample(\n",
    "            value = i_sample,\n",
    "            data = np.random.randn( 64, 256 ),\n",
    "        )\n",
    "        sink.write( sample.as_wds )"
   ]
  },
  {
   "cell_type": "code",
   "execution_count": 55,
   "id": "a2349e0e",
   "metadata": {},
   "outputs": [],
   "source": [
    "output_stem = (output_dir / 'test_data-{shards}.tar').as_posix()\n",
    "\n",
    "ds = Dataset[TestSample]( output_stem.format( shards = '{000000..000009}') )"
   ]
  },
  {
   "cell_type": "code",
   "execution_count": 86,
   "id": "ff4169a2",
   "metadata": {},
   "outputs": [],
   "source": [
    "for sample in ds.shuffled( batch_size = 32 ):\n",
    "    break\n",
    "    # print( sample )"
   ]
  },
  {
   "cell_type": "code",
   "execution_count": 89,
   "id": "448736e2",
   "metadata": {},
   "outputs": [
    {
     "data": {
      "text/plain": [
       "(32, 64, 256)"
      ]
     },
     "execution_count": 89,
     "metadata": {},
     "output_type": "execute_result"
    }
   ],
   "source": [
    "sample.data.shape"
   ]
  }
 ],
 "metadata": {
  "kernelspec": {
   "display_name": "toile-dev",
   "language": "python",
   "name": "python3"
  },
  "language_info": {
   "codemirror_mode": {
    "name": "ipython",
    "version": 3
   },
   "file_extension": ".py",
   "mimetype": "text/x-python",
   "name": "python",
   "nbconvert_exporter": "python",
   "pygments_lexer": "ipython3",
   "version": "3.12.11"
  }
 },
 "nbformat": 4,
 "nbformat_minor": 5
}
