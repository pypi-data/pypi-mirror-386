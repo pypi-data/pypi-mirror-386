{
 "cells": [
  {
   "cell_type": "markdown",
   "id": "08c90c7f",
   "metadata": {},
   "source": [
    "# OpenAI Academy\n",
    "\n",
    "[![Static Badge](https://img.shields.io/badge/Open%20in%20Modal%20-%20Agents?style=for-the-badge&color=green)](https://modal.com/notebooks/new/https://github.com/CelestoAI/agentor/blob/main/examples/openai-academy.ipynb)\n",
    "\n",
    "\n",
    "## Agents with examples"
   ]
  },
  {
   "cell_type": "code",
   "execution_count": null,
   "id": "5c8ad9e1",
   "metadata": {},
   "outputs": [],
   "source": [
    "# %uv pip install openai-agents==0.3.3 agentor"
   ]
  },
  {
   "cell_type": "markdown",
   "id": "a4df4611",
   "metadata": {},
   "source": [
    "## What is an Agent?\n",
    "\n",
    "<img src=\"https://i.imgflip.com/a7rr5a.jpg\" width=\"250px\">\n",
    "\n",
    "<br>\n",
    "\n",
    "## Agents are LLMs with higher autonomy\n",
    "\n",
    "- Tool access\n",
    "- Memory"
   ]
  },
  {
   "cell_type": "code",
   "execution_count": null,
   "id": "b058fc10",
   "metadata": {},
   "outputs": [],
   "source": [
    "from dotenv import load_dotenv\n",
    "from openai import OpenAI\n",
    "\n",
    "client = OpenAI()\n",
    "\n",
    "response = client.responses.create(\n",
    "    model=\"gpt-5-nano\", input=\"Write a haiku about recursion in programming.\"\n",
    ")\n",
    "\n",
    "print(response.output[-1].content[0].text)"
   ]
  },
  {
   "cell_type": "code",
   "execution_count": null,
   "id": "305cbcc7",
   "metadata": {},
   "outputs": [],
   "source": [
    "import datetime as dt\n",
    "\n",
    "from agents import Agent, Runner\n",
    "\n",
    "load_dotenv()\n",
    "\n",
    "agent = Agent(\n",
    "    name=\"Assistant\", instructions=\"You are a helpful assistant\", model=\"gpt-5-nano\"\n",
    ")\n",
    "\n",
    "result = await Runner.run(agent, \"Write a haiku about recursion in programming.\")\n",
    "print(result.final_output)"
   ]
  },
  {
   "cell_type": "code",
   "execution_count": null,
   "id": "fc446252",
   "metadata": {},
   "outputs": [],
   "source": [
    "agent = Agent(name=\"Assistant\", instructions=\"Reply very concisely.\")\n",
    "\n",
    "result = await Runner.run(agent, \"What city is the Golden Gate Bridge in?\")\n",
    "print(result.final_output)"
   ]
  },
  {
   "cell_type": "markdown",
   "id": "1dcb4c7d",
   "metadata": {},
   "source": [
    "# Tool use"
   ]
  },
  {
   "cell_type": "code",
   "execution_count": null,
   "id": "f6ab005a",
   "metadata": {},
   "outputs": [],
   "source": [
    "result = await Runner.run(agent, \"What is the weather in London?\")\n",
    "print(result.final_output)"
   ]
  },
  {
   "cell_type": "code",
   "execution_count": null,
   "id": "245849dd",
   "metadata": {},
   "outputs": [],
   "source": [
    "def get_weather(city: str) -> str:\n",
    "    \"\"\"returns weather info for the specified city.\"\"\"\n",
    "    return f\"The weather in {city} is sunny\""
   ]
  },
  {
   "cell_type": "markdown",
   "id": "70aec2596d6741ae",
   "metadata": {},
   "source": [
    "Use Celesto Tool Hub for a realtime access to weather data and 100+ tools.\n",
    "\n",
    "```python\n",
    "from agentor import CelestoSDK\n",
    "\n",
    "client = CelestoSDK(CELESTO_API_KEY)\n",
    "\n",
    "# List all available tools\n",
    "client.toolhub.list_tools()\n",
    "\n",
    "# Run the weather tool for a specific location\n",
    "client.toolhub.run_weather_tool(\"London\")\n",
    "```"
   ]
  },
  {
   "cell_type": "code",
   "execution_count": null,
   "id": "11532f9f",
   "metadata": {},
   "outputs": [],
   "source": [
    "from agents import Agent, function_tool\n",
    "\n",
    "\n",
    "@function_tool\n",
    "def get_weather(city: str) -> str:\n",
    "    \"\"\"returns weather info for the specified city.\"\"\"\n",
    "    return f\"The weather in {city} is sunny\"\n",
    "\n",
    "\n",
    "agent = Agent(\n",
    "    name=\"Haiku agent\",\n",
    "    instructions=\"Always respond in haiku form\",\n",
    "    model=\"gpt-5-nano\",\n",
    "    tools=[get_weather],\n",
    ")"
   ]
  },
  {
   "cell_type": "code",
   "execution_count": null,
   "id": "9593ef9d",
   "metadata": {},
   "outputs": [],
   "source": [
    "result = await Runner.run(agent, \"What is the weather in London?\")\n",
    "print(result.final_output)"
   ]
  },
  {
   "cell_type": "markdown",
   "id": "daab7fa4",
   "metadata": {},
   "source": [
    "## LLM with tool use"
   ]
  },
  {
   "cell_type": "code",
   "execution_count": null,
   "id": "360fc6e1",
   "metadata": {},
   "outputs": [],
   "source": [
    "weather_tool_def = {\n",
    "    \"type\": \"function\",\n",
    "    \"name\": \"get_weather\",\n",
    "    \"description\": \"Retrieves current weather for the given location.\",\n",
    "    \"parameters\": {\n",
    "        \"type\": \"object\",\n",
    "        \"properties\": {\n",
    "            \"location\": {\n",
    "                \"type\": \"string\",\n",
    "                \"description\": \"City and country e.g. London, United Kingdom\",\n",
    "            },\n",
    "            \"units\": {\n",
    "                \"type\": \"string\",\n",
    "                \"enum\": [\"celsius\", \"fahrenheit\"],\n",
    "                \"description\": \"Units the temperature will be returned in.\",\n",
    "            },\n",
    "        },\n",
    "        \"required\": [\"location\", \"units\"],\n",
    "        \"additionalProperties\": False,\n",
    "    },\n",
    "    \"strict\": True,\n",
    "}\n",
    "\n",
    "\n",
    "def get_weather(location: str, units: str) -> str:\n",
    "    \"\"\"returns weather info for the specified location and units.\"\"\"\n",
    "    return (\n",
    "        f\"The weather in {location} is sunny with a temperature of 20 degrees {units}.\"\n",
    "    )\n",
    "\n",
    "\n",
    "tool_registry = {\"get_weather\": get_weather}"
   ]
  },
  {
   "cell_type": "code",
   "execution_count": null,
   "id": "c9e607ed",
   "metadata": {},
   "outputs": [],
   "source": [
    "client = OpenAI()\n",
    "\n",
    "response = client.responses.create(\n",
    "    model=\"gpt-5-nano\", input=\"What is the weather in London?\", tools=[weather_tool_def]\n",
    ")"
   ]
  },
  {
   "cell_type": "code",
   "execution_count": null,
   "id": "0f8e2a78",
   "metadata": {},
   "outputs": [],
   "source": [
    "print(response.output[-1])"
   ]
  },
  {
   "cell_type": "code",
   "execution_count": null,
   "id": "099eb119",
   "metadata": {},
   "outputs": [],
   "source": [
    "import json\n",
    "\n",
    "if response.output[-1].type == \"function_call\":\n",
    "    fn_name = response.output[-1].name\n",
    "    arguments = json.loads(response.output[-1].arguments)\n",
    "    result = tool_registry[fn_name](**arguments)\n",
    "    print(result)\n",
    "else:\n",
    "    print(response.output[-1].content[0].text)"
   ]
  },
  {
   "cell_type": "markdown",
   "id": "1f0c5d4d",
   "metadata": {},
   "source": [
    "# Scheduling Agent\n",
    "\n",
    "We will build an Agent with access to email and calendar to help schedule meetings on behalf of the user.\n",
    "\n",
    "**Example conversation:**\n",
    "- Lock wants a meeting\n",
    "- Smith proposes a call\n",
    "- AI assistant handles scheduling automatically\n",
    "\n",
    "## Gmail and Calendar API"
   ]
  },
  {
   "cell_type": "code",
   "execution_count": null,
   "id": "2c24b11ebf091423",
   "metadata": {},
   "outputs": [],
   "source": [
    "from superauth.google import (\n",
    "    GmailAPI,\n",
    "    CalendarAPI,\n",
    "    load_user_credentials,\n",
    ")\n",
    "from rich import print\n",
    "\n",
    "# Load your saved credentials\n",
    "creds = load_user_credentials(\"credentials.my_google_account.json\")\n",
    "\n",
    "gmail = GmailAPI(creds)\n",
    "calendar = CalendarAPI(creds)"
   ]
  },
  {
   "cell_type": "code",
   "execution_count": null,
   "id": "2a9746f9",
   "metadata": {},
   "outputs": [],
   "source": [
    "print(\"List emails\", gmail.list_messages(limit=2))\n",
    "print(\"Get an email\", gmail.get_message(message_id=\"199a56838f299758\"))\n",
    "print(\"Get full email body\", gmail.get_message_body(message_id=\"199a56838f299758\"))"
   ]
  },
  {
   "cell_type": "code",
   "execution_count": null,
   "id": "6c1d6906",
   "metadata": {},
   "outputs": [],
   "source": [
    "print(\"Search emails\", gmail.search_messages(query=\"from:aniket\"))"
   ]
  },
  {
   "cell_type": "code",
   "execution_count": null,
   "id": "91cd7557",
   "metadata": {},
   "outputs": [],
   "source": [
    "print(\"List calendar events\", calendar.list_events())"
   ]
  },
  {
   "cell_type": "code",
   "execution_count": null,
   "id": "112aa1f1",
   "metadata": {},
   "outputs": [],
   "source": [
    "event = {\n",
    "    \"summary\": \"OpenAI Academy - Agents SDK Session with Aniket\",\n",
    "    \"description\": \"I attended the OpenAI Academy live session on Agents SDK with Aniket\",\n",
    "    \"start\": dt.datetime(2025, 10, 6, 15, 0, tzinfo=dt.timezone.utc),\n",
    "    \"end\": dt.datetime(2025, 10, 6, 16, 0, tzinfo=dt.timezone.utc),\n",
    "    \"attendees\": [{\"email\": \"aniket@example.com\"}],\n",
    "}\n",
    "calendar.create_event(event=event)"
   ]
  },
  {
   "cell_type": "markdown",
   "id": "2f5a1e56",
   "metadata": {},
   "source": [
    "# Multi-Agent System\n",
    "\n",
    "Agent which interacts with user to schedule a meeting."
   ]
  },
  {
   "cell_type": "code",
   "execution_count": null,
   "id": "3bf90471",
   "metadata": {},
   "outputs": [],
   "source": [
    "from agents import ItemHelpers"
   ]
  },
  {
   "cell_type": "code",
   "execution_count": null,
   "id": "2fb76108",
   "metadata": {},
   "outputs": [],
   "source": [
    "def view_availability(start: dt.datetime, end: dt.datetime) -> str:\n",
    "    return calendar.list_events(time_min=start, time_max=end)[\"events\"]\n",
    "\n",
    "\n",
    "availability = view_availability(\n",
    "    dt.datetime(2025, 10, 6, 15, 0, tzinfo=dt.timezone.utc),\n",
    "    dt.datetime(2025, 10, 6, 16, 0, tzinfo=dt.timezone.utc),\n",
    ")[0]\n",
    "print(f\"{availability['start']['dateTime']} is booked for '{availability['summary']}'\")"
   ]
  },
  {
   "cell_type": "code",
   "execution_count": null,
   "id": "8785268b",
   "metadata": {},
   "outputs": [],
   "source": [
    "def book_meeting(\n",
    "    summary: str,\n",
    "    description: str,\n",
    "    start: dt.datetime,\n",
    "    end: dt.datetime,\n",
    "    attendees: list[str],\n",
    ") -> str:\n",
    "    event = {\n",
    "        \"summary\": summary,\n",
    "        \"description\": description,\n",
    "        \"start\": start,\n",
    "        \"end\": end,\n",
    "        \"attendees\": attendees,\n",
    "    }\n",
    "    output = calendar.create_event(event=event)\n",
    "    return f\"Meeting booked successfully. Details: {output['event']}\"\n",
    "\n",
    "\n",
    "book_meeting(\n",
    "    summary=\"OpenAI Academy - Agents SDK Session with Aniket\",\n",
    "    description=\"I attended the OpenAI Academy live session on Agents SDK with Aniket\",\n",
    "    start=dt.datetime(2025, 10, 6, 15, 0, tzinfo=dt.timezone.utc),\n",
    "    end=dt.datetime(2025, 10, 6, 16, 0, tzinfo=dt.timezone.utc),\n",
    "    attendees=[\"aniket@example.com\"],\n",
    ")"
   ]
  },
  {
   "cell_type": "code",
   "execution_count": null,
   "id": "4400ab6f",
   "metadata": {},
   "outputs": [],
   "source": [
    "@function_tool\n",
    "def view_availability(start: dt.datetime, end: dt.datetime) -> str:\n",
    "    \"\"\"Returns a list of events that overlap with the given time range. The output contains events booked on the calendar.\"\"\"\n",
    "    return calendar.list_events(time_min=start, time_max=end)[\"events\"]\n",
    "\n",
    "\n",
    "@function_tool\n",
    "def book_meeting(\n",
    "    summary: str,\n",
    "    description: str,\n",
    "    start: dt.datetime,\n",
    "    end: dt.datetime,\n",
    "    attendees: list[str],\n",
    ") -> str:\n",
    "    \"\"\"Books a meeting on the calendar. The output contains the event details.\n",
    "\n",
    "    Args:\n",
    "        summary: Summary of the meeting\n",
    "        description: Description of the meeting\n",
    "        start: Start time of the meeting\n",
    "        end: End time of the meeting\n",
    "        attendees: List of attendees emails\n",
    "    \"\"\"\n",
    "    event = {\n",
    "        \"summary\": summary,\n",
    "        \"description\": description,\n",
    "        \"start\": start,\n",
    "        \"end\": end,\n",
    "        \"attendees\": attendees,\n",
    "    }\n",
    "    output = calendar.create_event(event=event)\n",
    "    return f\"Meeting booked successfully. Details: {output['event']}\""
   ]
  },
  {
   "cell_type": "code",
   "execution_count": null,
   "id": "56a53ecd",
   "metadata": {},
   "outputs": [],
   "source": [
    "calendar_agent = Agent(\n",
    "    name=\"Calendar Agent\",\n",
    "    instructions=\"You are a helpful assistant that can help schedule meetings on the calendar. You use sensible defaults for the meeting details.\",\n",
    "    model=\"gpt-5-mini\",\n",
    "    tools=[view_availability, book_meeting],\n",
    ")"
   ]
  },
  {
   "cell_type": "code",
   "execution_count": null,
   "id": "a9491749",
   "metadata": {},
   "outputs": [],
   "source": [
    "result = Runner.run_streamed(\n",
    "    calendar_agent,\n",
    "    \"I want to schedule a meeting with Aniket (aniket@example.com) on 6th October 2025 from 15:00 to 16:00 BST\",\n",
    ")\n",
    "\n",
    "async for event in result.stream_events():\n",
    "    # We'll ignore the raw responses event deltas\n",
    "    if event.type == \"raw_response_event\":\n",
    "        continue\n",
    "    # When the agent updates, print that\n",
    "    elif event.type == \"agent_updated_stream_event\":\n",
    "        print(f\"Agent updated: {event.new_agent.name}\")\n",
    "        continue\n",
    "    # When items are generated, print them\n",
    "    elif event.type == \"run_item_stream_event\":\n",
    "        if event.item.type == \"tool_call_item\":\n",
    "            print(\"-- Tool was called\")\n",
    "        elif event.item.type == \"tool_call_output_item\":\n",
    "            print(f\"-- Tool output: {event.item.output}\")\n",
    "        elif event.item.type == \"message_output_item\":\n",
    "            print(f\"-- Message output:\\n {ItemHelpers.text_message_output(event.item)}\")\n",
    "        else:\n",
    "            pass  # Ignore other event types"
   ]
  },
  {
   "cell_type": "markdown",
   "id": "a2c871fd",
   "metadata": {},
   "source": [
    "## Orchestrating multiple agents\n",
    "\n",
    "\n",
    "**Example:**\n",
    "- Schedule meeting\n",
    "- Send email reminders\n",
    "\n",
    "### Handoff Agents"
   ]
  },
  {
   "cell_type": "code",
   "execution_count": null,
   "id": "0d685d93",
   "metadata": {},
   "outputs": [],
   "source": [
    "calendar_agent = Agent(\n",
    "    name=\"Calendar Agent\",\n",
    "    instructions=\"You are a helpful assistant that can help schedule meetings on the calendar. You use sensible defaults for the meeting details.\",\n",
    "    model=\"gpt-5-mini\",\n",
    "    tools=[view_availability, book_meeting],\n",
    ")\n",
    "\n",
    "\n",
    "@function_tool\n",
    "def send_email(to: str, subject: str, body: str) -> str:\n",
    "    \"\"\"Sends an email to the specified recipient. The output contains the email details.\"\"\"\n",
    "    return f\"Email sent successfully. Details: {to}, {subject}, {body}\"\n",
    "\n",
    "\n",
    "email_agent = Agent(\n",
    "    name=\"Email Agent\",\n",
    "    instructions=\"You are a helpful assistant that can send emails. You use sensible defaults for the email content.\",\n",
    "    model=\"gpt-5-mini\",\n",
    "    tools=[send_email],\n",
    ")\n",
    "\n",
    "\n",
    "triage_agent = Agent(\n",
    "    name=\"triage_agent\",\n",
    "    instructions=\"Handoff to the appropriate agent based on the user's request.\",\n",
    "    handoffs=[email_agent, calendar_agent],\n",
    ")"
   ]
  },
  {
   "cell_type": "code",
   "execution_count": null,
   "id": "f753a1aa",
   "metadata": {},
   "outputs": [],
   "source": [
    "from agents import run_demo_loop\n",
    "\n",
    "await run_demo_loop(triage_agent)"
   ]
  },
  {
   "cell_type": "markdown",
   "id": "a73d63dd",
   "metadata": {},
   "source": [
    "## Agents as tools\n"
   ]
  },
  {
   "cell_type": "code",
   "execution_count": null,
   "id": "e53a2ee5",
   "metadata": {},
   "outputs": [],
   "source": [
    "calendar_agent = Agent(\n",
    "    name=\"Calendar Agent\",\n",
    "    instructions=\"You are a helpful assistant that can help schedule meetings on the calendar. You use sensible defaults for the meeting details.\",\n",
    "    model=\"gpt-5-mini\",\n",
    "    tools=[view_availability, book_meeting],\n",
    ")\n",
    "\n",
    "\n",
    "@function_tool\n",
    "def send_email(to: str, subject: str, body: str) -> str:\n",
    "    \"\"\"Sends an email to the specified recipient. The output contains the email details.\"\"\"\n",
    "    return f\"Email sent successfully. Details: {to}, {subject}, {body}\"\n",
    "\n",
    "\n",
    "email_agent = Agent(\n",
    "    name=\"Email Agent\",\n",
    "    instructions=\"You are a helpful assistant that can send emails. You use sensible defaults for the email content.\",\n",
    "    model=\"gpt-5-mini\",\n",
    "    tools=[send_email],\n",
    ")\n",
    "\n",
    "\n",
    "triage_agent = Agent(\n",
    "    name=\"triage_agent\",\n",
    "    instructions=\"Use the tools provided to help the user with their request.\",\n",
    "    tools=[\n",
    "        email_agent.as_tool(\n",
    "            tool_name=\"send_email\",\n",
    "            tool_description=\"Send an email to the specified recipient. The output contains the email details.\",\n",
    "        ),\n",
    "        calendar_agent.as_tool(\n",
    "            tool_name=\"calendar_manager\",\n",
    "            tool_description=\"Schedule a meeting on the calendar. The output contains the event details.\",\n",
    "        ),\n",
    "    ],\n",
    ")\n",
    "\n",
    "from agents import run_demo_loop\n",
    "\n",
    "await run_demo_loop(triage_agent)"
   ]
  }
 ],
 "metadata": {
  "kernelspec": {
   "display_name": ".venv",
   "language": "python",
   "name": "python3"
  },
  "language_info": {
   "codemirror_mode": {
    "name": "ipython",
    "version": 3
   },
   "file_extension": ".py",
   "mimetype": "text/x-python",
   "name": "python",
   "nbconvert_exporter": "python",
   "pygments_lexer": "ipython3"
  }
 },
 "nbformat": 4,
 "nbformat_minor": 5
}
