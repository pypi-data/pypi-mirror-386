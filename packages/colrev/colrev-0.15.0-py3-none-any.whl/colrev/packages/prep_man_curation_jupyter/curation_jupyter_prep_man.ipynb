{
 "cells": [
  {
   "cell_type": "code",
   "execution_count": null,
   "id": "ab418549",
   "metadata": {},
   "outputs": [],
   "source": [
    "from colrev.review_manager import ReviewManager\n",
    "from colrev.prep import Preparation\n",
    "from colrev.record.record import RecordState, Record\n",
    "import os\n",
    "\n",
    "# project_path = 'add-custom-path'\n",
    "# os.chdir(project_path)\n",
    "os.chdir(\"..\")\n",
    "\n",
    "review_manager = ReviewManager()\n",
    "PREPARATION = Preparation(review_manager=review_manager)\n",
    "\n",
    "records = review_manager.review_manager.load_records_dict()"
   ]
  },
  {
   "cell_type": "code",
   "execution_count": null,
   "id": "070a963d",
   "metadata": {},
   "outputs": [],
   "source": [
    "def prepare(RECORD):\n",
    "\n",
    "    if (\n",
    "        \"author index\" in record.get(\"title\", \"\").lower()\n",
    "        or \"editorial board\" in record.get(\"title\", \"\").lower()\n",
    "        or \"call for papers\" in record.get(\"title\", \"\").lower()\n",
    "        or \"about authors\" in record.get(\"title\", \"\").lower()\n",
    "    ):\n",
    "        record[\"colrev_status\"] = RecordState.rev_prescreen_excluded\n",
    "        record[\"prescreen_exclusion\"] = \"complementary material\"\n",
    "\n",
    "    # if \"journaloftheassociationforinformation\" in record.get('title', '').lower().replace(' ', '') and \\\n",
    "    #    record['colrev_status'] != RecordState.rev_prescreen_excluded:\n",
    "    #    record['colrev_status'] = RecordState.md_needs_manual_preparation\n",
    "\n",
    "    return RECORD"
   ]
  },
  {
   "cell_type": "code",
   "execution_count": null,
   "id": "7f15f648",
   "metadata": {},
   "outputs": [],
   "source": [
    "for record in records.values():\n",
    "    prepare(Record(record))\n",
    "review_manager.review_manager.save_records_dict(records)"
   ]
  },
  {
   "cell_type": "markdown",
   "id": "d40cc899",
   "metadata": {},
   "source": [
    "Check the changes, add and commit:\n",
    "\n",
    "```\n",
    "git add -p data/records.bib\n",
    "git commit -m 'prep man'\n",
    "```\n",
    "\n",
    "To setup as a prep scipt:\n",
    "\n",
    "```\n",
    "colrev prep -scs\n",
    "```"
   ]
  }
 ],
 "metadata": {
  "kernelspec": {
   "display_name": "Python 3 (ipykernel)",
   "language": "python",
   "name": "python3"
  },
  "language_info": {
   "codemirror_mode": {
    "name": "ipython",
    "version": 3
   },
   "file_extension": ".py",
   "mimetype": "text/x-python",
   "name": "python",
   "nbconvert_exporter": "python",
   "pygments_lexer": "ipython3",
   "version": "3.8.10"
  }
 },
 "nbformat": 4,
 "nbformat_minor": 5
}
