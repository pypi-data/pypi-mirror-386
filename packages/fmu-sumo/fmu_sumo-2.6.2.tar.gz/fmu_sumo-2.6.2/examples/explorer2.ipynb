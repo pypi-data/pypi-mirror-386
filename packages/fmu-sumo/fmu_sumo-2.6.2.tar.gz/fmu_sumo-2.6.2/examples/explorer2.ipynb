{
 "cells": [
  {
   "cell_type": "code",
   "execution_count": null,
   "id": "9c81675e-b583-46bf-9656-0d2c706ec2e6",
   "metadata": {},
   "outputs": [],
   "source": [
    "import json\n",
    "import time\n",
    "\n",
    "from fmu.sumo.explorer import Explorer"
   ]
  },
  {
   "cell_type": "code",
   "execution_count": null,
   "id": "dbe14214-15ab-4ba6-949d-f6fa913dbe79",
   "metadata": {},
   "outputs": [],
   "source": [
    "env = \"dev\"\n",
    "caseuuid = \"1abbf342-8460-45d7-afa6-814eac9dc9d3\"\n",
    "name = \"DROGON\"\n",
    "tagname = \"summary\"\n",
    "ensemble = \"iter-0\""
   ]
  },
  {
   "cell_type": "code",
   "execution_count": null,
   "id": "3d73e62d-d44f-4132-8c82-e180ac19a550",
   "metadata": {},
   "outputs": [],
   "source": [
    "exp = Explorer(env=env)\n",
    "exp.cases"
   ]
  },
  {
   "cell_type": "code",
   "execution_count": null,
   "id": "9a4fa479-ed06-406f-8cdf-e3392c7453ea",
   "metadata": {},
   "outputs": [],
   "source": [
    "[(case.name, case.uuid) for case in exp.cases]"
   ]
  },
  {
   "cell_type": "code",
   "execution_count": null,
   "id": "b4c047ae-4b00-48c8-a148-e425aea81928",
   "metadata": {},
   "outputs": [],
   "source": [
    "case = exp.get_object(caseuuid)\n",
    "case"
   ]
  },
  {
   "cell_type": "code",
   "execution_count": null,
   "id": "cb418b43",
   "metadata": {},
   "outputs": [],
   "source": [
    "case.overview"
   ]
  },
  {
   "cell_type": "code",
   "execution_count": null,
   "id": "d8854a24-0ea3-4c21-aa2f-405f717cc767",
   "metadata": {},
   "outputs": [],
   "source": [
    "realizations = case.filter(\n",
    "    cls=\"table\",\n",
    "    name=name,\n",
    "    tagname=tagname,\n",
    "    ensemble=ensemble,\n",
    "    realization=True,\n",
    ")\n",
    "print(f\"Number of realizations: {len(realizations)}\")\n",
    "columns = realizations[0].columns\n",
    "print(f\"Number of columns, first realization: {len(columns)}\")\n",
    "print(f\"Number of columns, all realizations:  {len(realizations.columns)}\")\n",
    "print(f\"Tagnames: {realizations.tagnames}\")"
   ]
  },
  {
   "cell_type": "code",
   "execution_count": null,
   "id": "5c2ec56c-5a49-439a-adc3-9020a9cff79c",
   "metadata": {},
   "outputs": [],
   "source": [
    "t0 = time.perf_counter()\n",
    "agg = realizations.aggregate(operation=\"collect\", columns=columns[:50])\n",
    "t1 = time.perf_counter()"
   ]
  },
  {
   "cell_type": "code",
   "execution_count": null,
   "id": "5fa9517a-74e4-4363-a541-5b0f2fb2cc3a",
   "metadata": {},
   "outputs": [],
   "source": [
    "print(f\"Table aggregation: elapsed {t1 - t0:0.3} seconds.\")"
   ]
  },
  {
   "cell_type": "code",
   "execution_count": null,
   "id": "278ded42-048b-4490-a42e-e1aec090e07d",
   "metadata": {},
   "outputs": [],
   "source": [
    "print(\n",
    "    f\"Number of realizations, aggregation: {len(agg.metadata['fmu']['aggregation']['realization_ids'])}\"\n",
    ")"
   ]
  },
  {
   "cell_type": "code",
   "execution_count": null,
   "id": "e655fbe5-d6d5-461e-9e01-04cc5d84f452",
   "metadata": {},
   "outputs": [],
   "source": [
    "print(agg.metadata[\"fmu\"][\"aggregation\"][\"operation\"])"
   ]
  },
  {
   "cell_type": "code",
   "execution_count": null,
   "id": "adcb45d0-03d4-45d1-a4ff-b4d15210b426",
   "metadata": {},
   "outputs": [],
   "source": [
    "table = agg.to_pandas()\n",
    "print(table)"
   ]
  },
  {
   "cell_type": "code",
   "execution_count": null,
   "id": "d3f9fe77-2e8e-4ddc-bb52-b3cbcb19b6c2",
   "metadata": {},
   "outputs": [],
   "source": [
    "realizations = case.filter(cls=\"surface\", ensemble=ensemble, realization=True)\n",
    "print(f\"Number of realizations: {len(realizations)}\")\n",
    "print(realizations.names)\n",
    "print(realizations.tagnames)\n",
    "print(realizations.contents)"
   ]
  },
  {
   "cell_type": "code",
   "execution_count": null,
   "id": "9c82af0e-930c-434a-90e6-1da71a8a0e36",
   "metadata": {},
   "outputs": [],
   "source": [
    "surfaces = realizations.filter(\n",
    "    name=\"Valysar Fm.\", content=\"depth\", tagname=\"probcube_aps_Channel_Average\"\n",
    ")\n",
    "print(len(surfaces))\n",
    "print(surfaces.tagnames)\n",
    "print(surfaces.contents)"
   ]
  },
  {
   "cell_type": "code",
   "execution_count": null,
   "id": "e90046c1-2230-489c-a706-8c1a00b3230e",
   "metadata": {},
   "outputs": [],
   "source": [
    "t0 = time.perf_counter()\n",
    "agg = surfaces.aggregate(operation=\"mean\")\n",
    "t1 = time.perf_counter()"
   ]
  },
  {
   "cell_type": "code",
   "execution_count": null,
   "id": "c80bb1d3-04d8-473f-8cbd-f457dec6486e",
   "metadata": {},
   "outputs": [],
   "source": [
    "print(f\"Surface aggregation: elapsed {t1 - t0:0.3} seconds.\")"
   ]
  },
  {
   "cell_type": "code",
   "execution_count": null,
   "id": "e8633393-52eb-44a2-8760-c2f8ca1d8aee",
   "metadata": {},
   "outputs": [],
   "source": [
    "print(\n",
    "    f\"Number of realizations, aggregation: {len(agg.metadata['fmu']['aggregation']['realization_ids'])}\"\n",
    ")\n",
    "print(agg.metadata[\"fmu\"][\"aggregation\"][\"operation\"])"
   ]
  },
  {
   "cell_type": "code",
   "execution_count": null,
   "id": "f0b3799f-dfd8-4611-9b03-b15a77dcf3cd",
   "metadata": {},
   "outputs": [],
   "source": [
    "regsurf = agg.to_regular_surface()"
   ]
  },
  {
   "cell_type": "code",
   "execution_count": null,
   "id": "9036b7a4-52be-4c5b-81a2-7341c4e74ebc",
   "metadata": {},
   "outputs": [],
   "source": [
    "print(regsurf)"
   ]
  },
  {
   "cell_type": "code",
   "execution_count": null,
   "id": "da7a52d2-2ede-4e45-a794-277349a25985",
   "metadata": {},
   "outputs": [],
   "source": [
    "print(surfaces[0].uuid)"
   ]
  },
  {
   "cell_type": "code",
   "execution_count": null,
   "id": "fe49bc86-0a9f-4d98-bbd1-4112e4f10d5f",
   "metadata": {},
   "outputs": [],
   "source": [
    "print(surfaces[0].to_regular_surface())"
   ]
  },
  {
   "cell_type": "code",
   "execution_count": null,
   "id": "de42bb49-1a17-4f58-9c10-c1ae9cc3f4f1",
   "metadata": {},
   "outputs": [],
   "source": [
    "len(case.ensembles)\n",
    "print(case.ensembles)"
   ]
  },
  {
   "cell_type": "code",
   "execution_count": null,
   "id": "2ebe5604-9d99-4054-965a-1f5f3feb15d8",
   "metadata": {},
   "outputs": [],
   "source": [
    "ensemble = exp.get_ensemble_by_uuid(\"4e2f012d-15a4-fd57-2368-a349ff2e56a0\")"
   ]
  },
  {
   "cell_type": "code",
   "execution_count": null,
   "id": "393432e5-7d28-478f-96d3-7a6ef51474ce",
   "metadata": {},
   "outputs": [],
   "source": [
    "len(ensemble)"
   ]
  },
  {
   "cell_type": "code",
   "execution_count": null,
   "id": "ba33feca-5529-47d2-81fa-c5f3c4648cd9",
   "metadata": {},
   "outputs": [],
   "source": [
    "ensemble.get_field_values(\"class.keyword\")"
   ]
  },
  {
   "cell_type": "code",
   "execution_count": null,
   "id": "87d75d65-da0f-4896-8f6c-904b47a59191",
   "metadata": {},
   "outputs": [],
   "source": [
    "ensemble.cases"
   ]
  },
  {
   "cell_type": "code",
   "execution_count": null,
   "id": "18e9ea2a-6eda-48a3-9ec2-0eafe6e3dbbc",
   "metadata": {},
   "outputs": [],
   "source": [
    "ensemble.realizations"
   ]
  },
  {
   "cell_type": "code",
   "execution_count": null,
   "id": "39f0dc5c-86ed-43e3-b685-5fb77ec6fc69",
   "metadata": {},
   "outputs": [],
   "source": [
    "ensemble.filter(realization=13)"
   ]
  },
  {
   "cell_type": "code",
   "execution_count": null,
   "id": "a10b336c-ecc5-4ca2-aca5-fd225fbe71d4",
   "metadata": {},
   "outputs": [],
   "source": [
    "ensemble.filter(realization=79)"
   ]
  },
  {
   "cell_type": "code",
   "execution_count": null,
   "id": "19682618-1896-4f28-a3df-e63589390b93",
   "metadata": {},
   "outputs": [],
   "source": [
    "ensemble.filter(realization=100)"
   ]
  },
  {
   "cell_type": "code",
   "execution_count": null,
   "id": "7e27857f-320c-488f-825c-a9db308a9236",
   "metadata": {},
   "outputs": [],
   "source": [
    "ensemble.aggregations"
   ]
  },
  {
   "cell_type": "code",
   "execution_count": null,
   "id": "ae58e98c-f470-48d9-a75b-ed88eb41c881",
   "metadata": {},
   "outputs": [],
   "source": [
    "ensemble.filter(aggregation=True)"
   ]
  },
  {
   "cell_type": "code",
   "execution_count": null,
   "id": "33e87616-688c-4bab-bc82-1627ab9ca728",
   "metadata": {},
   "outputs": [],
   "source": [
    "ensemble.filter(realization=True)"
   ]
  },
  {
   "cell_type": "code",
   "execution_count": null,
   "id": "9613e3bb-2d34-4c75-8444-f33362aeb2ba",
   "metadata": {},
   "outputs": [],
   "source": [
    "exp.cases"
   ]
  },
  {
   "cell_type": "code",
   "execution_count": null,
   "id": "c3223630-7c2d-493a-b90d-36bc573b3048",
   "metadata": {},
   "outputs": [],
   "source": [
    "[case.name for case in exp.cases]"
   ]
  },
  {
   "cell_type": "code",
   "execution_count": null,
   "id": "f83d3ea2-aedd-4615-bd4d-0e5cfcb72e40",
   "metadata": {},
   "outputs": [],
   "source": [
    "from fmu.sumo.explorer.filters import Filters\n",
    "\n",
    "exp.cases.filter(has=Filters.seismic4d)"
   ]
  },
  {
   "cell_type": "code",
   "execution_count": null,
   "id": "c9cc71aa-feb5-49fa-b935-5e41137c9168",
   "metadata": {},
   "outputs": [],
   "source": [
    "exp.filter(has=Filters.seismic4d)"
   ]
  },
  {
   "cell_type": "code",
   "execution_count": null,
   "id": "1382f090-4044-4d2f-94c7-ebe83ac154fb",
   "metadata": {},
   "outputs": [],
   "source": [
    "[case.name for case in list(exp.filter(has=Filters.seismic4d).cases)[:10]]"
   ]
  },
  {
   "cell_type": "code",
   "execution_count": null,
   "id": "c576c8fc-cb44-48b3-aaed-0914383da3d5",
   "metadata": {},
   "outputs": [],
   "source": [
    "myrealization = ensemble.realizations.filter(\n",
    "    complex={\"term\": {\"fmu.realization.id\": 0}}\n",
    ")[0]\n",
    "myrealization"
   ]
  },
  {
   "cell_type": "code",
   "execution_count": null,
   "id": "5073743c-79bd-43c4-831a-2c82e0d87878",
   "metadata": {},
   "outputs": [],
   "source": [
    "print(json.dumps(myrealization.metadata, indent=2))"
   ]
  },
  {
   "cell_type": "code",
   "execution_count": null,
   "id": "b5cc1782-452a-4fe2-aceb-1f61433d6826",
   "metadata": {},
   "outputs": [],
   "source": [
    "print(json.dumps(ensemble.metadata, indent=2))"
   ]
  },
  {
   "cell_type": "code",
   "execution_count": null,
   "id": "61ab1c8b-14f2-464f-94d6-0daa73d0079e",
   "metadata": {},
   "outputs": [],
   "source": [
    "agg"
   ]
  },
  {
   "cell_type": "code",
   "execution_count": null,
   "id": "f3f9560d-a128-4cf0-9c8e-e663984eb270",
   "metadata": {},
   "outputs": [],
   "source": [
    "dir(agg)"
   ]
  },
  {
   "cell_type": "code",
   "execution_count": null,
   "id": "8710e9d9-15f6-4633-a71e-23be1a7b773a",
   "metadata": {},
   "outputs": [],
   "source": [
    "agg.name"
   ]
  },
  {
   "cell_type": "code",
   "execution_count": null,
   "id": "9d663274-9a79-4cca-aec3-0ca50dc1839e",
   "metadata": {},
   "outputs": [],
   "source": [
    "agg.dataname"
   ]
  },
  {
   "cell_type": "code",
   "execution_count": null,
   "id": "75660053-a4fe-45e2-949c-7c989bb8358d",
   "metadata": {},
   "outputs": [],
   "source": [
    "type(agg.classname)"
   ]
  },
  {
   "cell_type": "code",
   "execution_count": null,
   "id": "562b5b16-42aa-4c00-a74d-085ee41134c0",
   "metadata": {},
   "outputs": [],
   "source": [
    "help(agg)"
   ]
  },
  {
   "cell_type": "code",
   "execution_count": null,
   "id": "10c8dd7d-83fb-4d26-9784-44139201010a",
   "metadata": {},
   "outputs": [],
   "source": []
  }
 ],
 "metadata": {
  "kernelspec": {
   "display_name": "Python 3 (ipykernel)",
   "language": "python",
   "name": "python3"
  },
  "language_info": {
   "codemirror_mode": {
    "name": "ipython",
    "version": 3
   },
   "file_extension": ".py",
   "mimetype": "text/x-python",
   "name": "python",
   "nbconvert_exporter": "python",
   "pygments_lexer": "ipython3",
   "version": "3.9.6"
  }
 },
 "nbformat": 4,
 "nbformat_minor": 5
}
