{
 "cells": [
  {
   "cell_type": "code",
   "execution_count": null,
   "id": "3f2d46a1-b5f0-4c75-bc55-4e768b9de112",
   "metadata": {},
   "outputs": [],
   "source": [
    "import time\n",
    "\n",
    "\n",
    "class Timer:\n",
    "    def __init__(self, title):\n",
    "        self._title = title\n",
    "        return\n",
    "\n",
    "    def __enter__(self):\n",
    "        self._t0 = time.perf_counter()\n",
    "        print(self._title)\n",
    "        return\n",
    "\n",
    "    def __exit__(self, type, value, traceback):\n",
    "        t1 = time.perf_counter()\n",
    "        print(f\"Elapsed: {t1 - self._t0:0.3f} seconds.\")\n",
    "        return\n",
    "\n",
    "    pass"
   ]
  },
  {
   "cell_type": "code",
   "execution_count": null,
   "id": "fb6c5b9c-314b-47ec-8157-6b75433f58b5",
   "metadata": {},
   "outputs": [],
   "source": [
    "from fmu.sumo.explorer import Explorer\n",
    "\n",
    "exp = Explorer(env=\"dev\")"
   ]
  },
  {
   "cell_type": "code",
   "execution_count": null,
   "id": "501ca50e-272a-4231-8edd-a4dfa4905e68",
   "metadata": {},
   "outputs": [],
   "source": [
    "def total_blob_size(sc):\n",
    "    tbs = sc.metrics.sum(\"file.size_bytes\")\n",
    "    if tbs == 0:\n",
    "        tbs = sc.metrics.sum(\"_sumo.blob_size\")\n",
    "    return tbs\n",
    "\n",
    "\n",
    "def fmt_size_bytes(num_bytes):\n",
    "    kb = 1024\n",
    "    mb = 1024 * 1024\n",
    "    gb = 1024 * 1024 * 1024\n",
    "    if num_bytes < mb:\n",
    "        return f\"{num_bytes / kb:.3f} KiB\"\n",
    "    elif num_bytes < gb:\n",
    "        return f\"{num_bytes / mb:.3f} MiB\"\n",
    "    else:\n",
    "        return f\"{num_bytes / gb:.3f} GiB\"\n",
    "\n",
    "\n",
    "def do_aggregate(title, tagname, rels, columns):\n",
    "    stats = rels.metrics.stats(\"_sumo.blob_size\")\n",
    "    minsize, maxsize = stats[\"min\"], stats[\"max\"]\n",
    "    print(f\"{tagname}: {len(rels)} objects, {len(rels.columns)} columns.\")\n",
    "    print(\n",
    "        f\"Blob size: min={fmt_size_bytes(minsize)}, max={fmt_size_bytes(maxsize)}\"\n",
    "    )\n",
    "    tot_size_bytes = total_blob_size(rels)\n",
    "    print(f\"Total size of input: {fmt_size_bytes(tot_size_bytes)}\")\n",
    "    with Timer(title):\n",
    "        agg = rels.filter(column=columns)._aggregate(columns=columns)\n",
    "    print(agg.to_pandas().sort_values(by=[\"REAL\", \"DATE\"]))\n",
    "\n",
    "\n",
    "def run_exp(caseuuid, ensemblename, tagname, columns):\n",
    "    case = exp.get_case_by_uuid(caseuuid)\n",
    "    print(f\"{case.asset}; {case.name}; {caseuuid}; {case.status}\")\n",
    "    rels = case.tables.visible.filter(\n",
    "        ensemble=ensemblename,\n",
    "        realization=True,\n",
    "        tagname=tagname,\n",
    "        column=columns,\n",
    "    )\n",
    "    do_aggregate(\"Full-sized tables\", tagname, rels, columns)\n",
    "    rels = case.tables.hidden.filter(\n",
    "        ensemble=ensemblename,\n",
    "        realization=True,\n",
    "        tagname=tagname,\n",
    "        column=columns,\n",
    "    )\n",
    "    do_aggregate(\"Split tables\", tagname, rels, columns)\n",
    "    with Timer(\"Fetch single-vector table\"):\n",
    "        aggs = case.tables.filter(\n",
    "            ensemble=ensemblename,\n",
    "            aggregation=True,\n",
    "            tagname=tagname,\n",
    "            column=columns[0],\n",
    "        )\n",
    "        if len(aggs) > 0:\n",
    "            print(aggs[0].to_pandas().sort_values(by=[\"REAL\", \"DATE\"]))\n",
    "        else:\n",
    "            print(\"Aggregated table not found.\")"
   ]
  },
  {
   "cell_type": "code",
   "execution_count": null,
   "id": "5f3d4e12-2b23-4585-a935-eb0e48951dd6",
   "metadata": {},
   "outputs": [],
   "source": [
    "run_exp(\"359e7c72-a4ca-43ee-9203-f09cd0f149a9\", \"pred-0\", \"summary\", [\"FOPT\"])"
   ]
  },
  {
   "cell_type": "code",
   "execution_count": null,
   "id": "4ba6a7a8-4c32-4015-8767-41b2f7c777e0",
   "metadata": {},
   "outputs": [],
   "source": [
    "run_exp(\"fc6cc7d3-6162-46a3-9d69-48ad1eaecdfb\", \"iter-0\", \"summary\", [\"FOPT\"])"
   ]
  },
  {
   "cell_type": "code",
   "execution_count": null,
   "id": "d07581ef-8fdb-4621-b81c-8aaf20b0c204",
   "metadata": {},
   "outputs": [],
   "source": [
    "run_exp(\"8ffeb5f8-ca60-42ee-998e-53d34e47d3e2\", \"iter-0\", \"summary\", [\"FOPT\"])"
   ]
  },
  {
   "cell_type": "code",
   "execution_count": null,
   "id": "2fe98906-1ac8-4b6a-b841-db41393e7db2",
   "metadata": {},
   "outputs": [],
   "source": [
    "run_exp(\n",
    "    \"8ffeb5f8-ca60-42ee-998e-53d34e47d3e2\",\n",
    "    \"iter-0\",\n",
    "    \"summary\",\n",
    "    [\"FOPR\", \"FOPT\"],\n",
    ")"
   ]
  },
  {
   "cell_type": "code",
   "execution_count": null,
   "id": "909280f2-46a9-47c0-b150-0387cf5fa990",
   "metadata": {},
   "outputs": [],
   "source": [
    "caseuuid = \"8ffeb5f8-ca60-42ee-998e-53d34e47d3e2\"\n",
    "ensemble = \"iter-0\"\n",
    "case = exp.get_case_by_uuid(caseuuid)\n",
    "hidden = case.tables.hidden\n",
    "cols_f0 = hidden.filter(complex={\"term\": {\"_sumo.fragment\": 0}}).columns\n",
    "cols_f1 = hidden.filter(complex={\"term\": {\"_sumo.fragment\": 1}}).columns\n",
    "intersection = set(cols_f0) & set(cols_f1)\n",
    "intersection"
   ]
  },
  {
   "cell_type": "code",
   "execution_count": null,
   "id": "d1e93a9a-40df-4a71-aa4e-17598d782715",
   "metadata": {},
   "outputs": [],
   "source": [
    "import random\n",
    "\n",
    "\n",
    "def some_cols(cols, n, skip_cols=[\"DATE\", \"YEARS\"]):\n",
    "    cols = list(set(cols) - set(skip_cols))\n",
    "    return [cols[random.randrange(0, len(cols))] for i in range(0, n)]"
   ]
  },
  {
   "cell_type": "code",
   "execution_count": null,
   "id": "14edaffb-27df-4dcf-bde5-3ecc8db834fa",
   "metadata": {},
   "outputs": [],
   "source": [
    "some_f0 = some_cols(cols_f0, 50)\n",
    "some_f1 = some_cols(cols_f1, 50)\n",
    "cols = some_f0 + some_f1"
   ]
  },
  {
   "cell_type": "code",
   "execution_count": null,
   "id": "6b67f8ad-5f60-410e-8ce0-ad2c479b5c13",
   "metadata": {},
   "outputs": [],
   "source": [
    "run_exp(caseuuid, ensemble, \"summary\", some_f0)"
   ]
  }
 ],
 "metadata": {
  "kernelspec": {
   "display_name": "Python 3 (ipykernel)",
   "language": "python",
   "name": "python3"
  },
  "language_info": {
   "codemirror_mode": {
    "name": "ipython",
    "version": 3
   },
   "file_extension": ".py",
   "mimetype": "text/x-python",
   "name": "python",
   "nbconvert_exporter": "python",
   "pygments_lexer": "ipython3",
   "version": "3.9.6"
  }
 },
 "nbformat": 4,
 "nbformat_minor": 5
}
