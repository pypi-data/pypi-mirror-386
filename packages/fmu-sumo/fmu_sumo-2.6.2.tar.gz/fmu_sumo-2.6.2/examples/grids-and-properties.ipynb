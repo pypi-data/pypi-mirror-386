{
 "cells": [
  {
   "cell_type": "code",
   "execution_count": null,
   "id": "7951185c-a268-41e2-8b66-7a54f35655dc",
   "metadata": {},
   "outputs": [],
   "source": [
    "import time\n",
    "\n",
    "\n",
    "class Timer:\n",
    "    def __init__(self):\n",
    "        return\n",
    "\n",
    "    def __enter__(self):\n",
    "        self._t0 = time.perf_counter()\n",
    "        return\n",
    "\n",
    "    def __exit__(self, type, value, traceback):\n",
    "        t1 = time.perf_counter()\n",
    "        print(f\"Elapsed: {t1 - self._t0:0.3f} seconds.\")\n",
    "        return\n",
    "\n",
    "    pass"
   ]
  },
  {
   "cell_type": "code",
   "execution_count": null,
   "id": "22f13ebd-632d-410c-b448-2e3930229eb0",
   "metadata": {},
   "outputs": [],
   "source": [
    "from fmu.sumo.explorer import Explorer"
   ]
  },
  {
   "cell_type": "code",
   "execution_count": null,
   "id": "7a02d983-5118-4315-bb44-eebee598a3da",
   "metadata": {},
   "outputs": [],
   "source": [
    "env = \"dev\"\n",
    "caseuuid = \"8ffeb5f8-ca60-42ee-998e-53d34e47d3e2\""
   ]
  },
  {
   "cell_type": "code",
   "execution_count": null,
   "id": "add974bb-e057-4936-b826-1e48ada49343",
   "metadata": {},
   "outputs": [],
   "source": [
    "exp = Explorer(env=env)\n",
    "mycase = exp.get_case_by_uuid(caseuuid)"
   ]
  },
  {
   "cell_type": "code",
   "execution_count": null,
   "id": "b9d8bf4e-c4b5-4d56-a468-8ed62bbc25c2",
   "metadata": {},
   "outputs": [],
   "source": [
    "mycase.name, mycase.status"
   ]
  },
  {
   "cell_type": "code",
   "execution_count": null,
   "id": "e99a07cf-8ab9-435f-9758-ec656776ad39",
   "metadata": {},
   "outputs": [],
   "source": [
    "grids = mycase.grids"
   ]
  },
  {
   "cell_type": "code",
   "execution_count": null,
   "id": "b6d25e92-f9e1-44fc-b778-bcf941011925",
   "metadata": {},
   "outputs": [],
   "source": [
    "len(grids)"
   ]
  },
  {
   "cell_type": "code",
   "execution_count": null,
   "id": "ed0e32eb-5b67-4c99-b9ea-a9787cedc9b8",
   "metadata": {},
   "outputs": [],
   "source": [
    "grids.names"
   ]
  },
  {
   "cell_type": "code",
   "execution_count": null,
   "id": "f94cc592-882e-44b8-a63d-ab8f8adea182",
   "metadata": {},
   "outputs": [],
   "source": [
    "grids[0].ensemble, grids[0].realization"
   ]
  },
  {
   "cell_type": "code",
   "execution_count": null,
   "id": "185ce22f-fee9-46f8-b55c-313352a01e1a",
   "metadata": {},
   "outputs": [],
   "source": [
    "{g.ensemble for g in grids}"
   ]
  },
  {
   "cell_type": "code",
   "execution_count": null,
   "id": "e4382d2d-6178-4192-847f-1778b4333d9d",
   "metadata": {},
   "outputs": [],
   "source": [
    "grid = grids[0]"
   ]
  },
  {
   "cell_type": "code",
   "execution_count": null,
   "id": "eaea19ce-e271-4f35-8e39-06c9e4b90a66",
   "metadata": {},
   "outputs": [],
   "source": [
    "grprops = grid.grid_properties"
   ]
  },
  {
   "cell_type": "code",
   "execution_count": null,
   "id": "90977eb8-798a-4434-82b5-e7b43229af75",
   "metadata": {},
   "outputs": [],
   "source": [
    "len(grprops)"
   ]
  },
  {
   "cell_type": "code",
   "execution_count": null,
   "id": "61cdc213-1921-4955-bab0-5a9e58e7e743",
   "metadata": {},
   "outputs": [],
   "source": [
    "with Timer():\n",
    "    print({g._metadata[\"data\"][\"geometry\"][\"relative_path\"] for g in grprops})"
   ]
  },
  {
   "cell_type": "code",
   "execution_count": null,
   "id": "e7a35f26-8e79-4f3c-a9e3-cb8ef974941b",
   "metadata": {},
   "outputs": [],
   "source": [
    "with Timer():\n",
    "    print(set(grprops.get_field_values(\"data.geometry.relative_path.keyword\")))"
   ]
  },
  {
   "cell_type": "code",
   "execution_count": null,
   "id": "2efb92e8-4eff-42cc-bd67-c334e10f99fa",
   "metadata": {},
   "outputs": [],
   "source": [
    "# with Timer():\n",
    "#    print(set([g.grid.uuid for g in grprops]))"
   ]
  },
  {
   "cell_type": "code",
   "execution_count": null,
   "id": "e8b73553-0248-4b19-91d5-6d381b0ae1bc",
   "metadata": {},
   "outputs": [],
   "source": [
    "grid._metadata[\"file\"]"
   ]
  },
  {
   "cell_type": "code",
   "execution_count": null,
   "id": "377d5aca-d5e1-4fca-930d-9d9b266c1dcc",
   "metadata": {},
   "outputs": [],
   "source": [
    "grid._metadata[\"_sumo\"]"
   ]
  },
  {
   "cell_type": "code",
   "execution_count": null,
   "id": "bed2d5be-324e-4752-afdd-3e36d9903d83",
   "metadata": {},
   "outputs": [],
   "source": [
    "gridproperties = mycase.grid_properties.filter(realization=0)"
   ]
  },
  {
   "cell_type": "code",
   "execution_count": null,
   "id": "49bfc23d-9656-4d63-bb83-59df398d9310",
   "metadata": {},
   "outputs": [],
   "source": [
    "gridproperties"
   ]
  },
  {
   "cell_type": "code",
   "execution_count": null,
   "id": "275054a9-e49a-4222-8a9d-73970c04b1b0",
   "metadata": {},
   "outputs": [],
   "source": [
    "gridproperties[0]._metadata[\"data\"][\"geometry\"]"
   ]
  },
  {
   "cell_type": "code",
   "execution_count": null,
   "id": "e37a2aed-7d5d-4803-8f78-acefefb2f409",
   "metadata": {},
   "outputs": [],
   "source": [
    "with Timer():\n",
    "    print(\n",
    "        {\n",
    "            gp._metadata[\"data\"][\"geometry\"][\"relative_path\"]\n",
    "            for gp in gridproperties\n",
    "        }\n",
    "    )"
   ]
  },
  {
   "cell_type": "code",
   "execution_count": null,
   "id": "0e35b1f7-f322-4e73-b1fd-f26372cf51c9",
   "metadata": {},
   "outputs": [],
   "source": [
    "with Timer():\n",
    "    print(\n",
    "        {\n",
    "            g._metadata[\"file\"][\"relative_path\"]\n",
    "            for g in grids.filter(realization=0)\n",
    "        }\n",
    "    )"
   ]
  },
  {
   "cell_type": "code",
   "execution_count": null,
   "id": "2980acbd-4595-4252-b1a4-cf029f31f956",
   "metadata": {},
   "outputs": [],
   "source": [
    "with Timer():\n",
    "    print(\n",
    "        {\n",
    "            g._metadata[\"file\"][\"absolute_path\"]\n",
    "            for g in grids.filter(realization=0)\n",
    "        }\n",
    "    )"
   ]
  },
  {
   "cell_type": "code",
   "execution_count": null,
   "id": "624c9677-6b6e-46bc-b37d-2217c4e08dfc",
   "metadata": {},
   "outputs": [],
   "source": []
  }
 ],
 "metadata": {
  "kernelspec": {
   "display_name": "Python 3 (ipykernel)",
   "language": "python",
   "name": "python3"
  },
  "language_info": {
   "codemirror_mode": {
    "name": "ipython",
    "version": 3
   },
   "file_extension": ".py",
   "mimetype": "text/x-python",
   "name": "python",
   "nbconvert_exporter": "python",
   "pygments_lexer": "ipython3",
   "version": "3.9.6"
  }
 },
 "nbformat": 4,
 "nbformat_minor": 5
}
