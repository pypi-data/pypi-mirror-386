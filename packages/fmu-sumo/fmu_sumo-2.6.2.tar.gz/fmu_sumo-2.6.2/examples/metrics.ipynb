{
 "cells": [
  {
   "cell_type": "code",
   "execution_count": null,
   "id": "a26f4146-4206-4f74-aba4-a9b165b00666",
   "metadata": {},
   "outputs": [],
   "source": [
    "from fmu.sumo.explorer import Explorer"
   ]
  },
  {
   "cell_type": "code",
   "execution_count": null,
   "id": "9d04d0ea-b8ba-4891-ace1-4a5a8141e2c1",
   "metadata": {},
   "outputs": [],
   "source": [
    "exp = Explorer(env=\"dev\")"
   ]
  },
  {
   "cell_type": "code",
   "execution_count": null,
   "id": "0466932c-08c6-4a2b-991d-7ef752e37a87",
   "metadata": {},
   "outputs": [],
   "source": [
    "case = exp.get_case_by_uuid(\"8ffeb5f8-ca60-42ee-998e-53d34e47d3e2\")"
   ]
  },
  {
   "cell_type": "code",
   "execution_count": null,
   "id": "5981d890-3797-497a-8543-80c6a0b9af2c",
   "metadata": {},
   "outputs": [],
   "source": [
    "tables = case.tables"
   ]
  },
  {
   "cell_type": "code",
   "execution_count": null,
   "id": "73f4b0aa-ec42-40af-bf47-eea30e6c265a",
   "metadata": {},
   "outputs": [],
   "source": [
    "summaries = tables.filter(tagname=\"summary\", realization=True)"
   ]
  },
  {
   "cell_type": "code",
   "execution_count": null,
   "id": "56160303-4881-4215-9daf-ce237c0b9bc6",
   "metadata": {},
   "outputs": [],
   "source": [
    "summaries.metrics.min(field=\"_sumo.blob_size\")"
   ]
  },
  {
   "cell_type": "code",
   "execution_count": null,
   "id": "a5d63240-fb6e-477b-a1a7-41f99f2900b7",
   "metadata": {},
   "outputs": [],
   "source": [
    "summaries.metrics.max(field=\"_sumo.blob_size\")"
   ]
  },
  {
   "cell_type": "code",
   "execution_count": null,
   "id": "2c218f8b-e210-40f8-be5a-5202efa1ef9d",
   "metadata": {},
   "outputs": [],
   "source": [
    "summaries.metrics.avg(field=\"_sumo.blob_size\")"
   ]
  },
  {
   "cell_type": "code",
   "execution_count": null,
   "id": "393b2551-7d25-435a-89a9-5c3dbb3b3e51",
   "metadata": {},
   "outputs": [],
   "source": [
    "summaries.metrics.stats(field=\"_sumo.blob_size\")"
   ]
  },
  {
   "cell_type": "code",
   "execution_count": null,
   "id": "07d28bb7-eee9-41e4-a3e6-491aba7a3f4b",
   "metadata": {},
   "outputs": [],
   "source": [
    "summaries.metrics.extended_stats(field=\"_sumo.blob_size\")"
   ]
  },
  {
   "cell_type": "markdown",
   "id": "0355fa71-3605-46f0-bd22-872bbdfa3ac7",
   "metadata": {},
   "source": [
    "summaries.metrics.percentiles(field=\"_sumo.blob_size\")"
   ]
  },
  {
   "cell_type": "code",
   "execution_count": null,
   "id": "a2859bee-133e-4631-91d3-618c22d942eb",
   "metadata": {},
   "outputs": [],
   "source": [
    "summaries.metrics.percentiles(field=\"_sumo.blob_size\")"
   ]
  },
  {
   "cell_type": "code",
   "execution_count": null,
   "id": "d6cb14c9-0a9a-4c91-bd86-7f783e3dcfcf",
   "metadata": {},
   "outputs": [],
   "source": [
    "summaries.metrics.percentiles(field=\"_sumo.blob_size\", percents=[95, 99, 99.9])"
   ]
  },
  {
   "cell_type": "code",
   "execution_count": null,
   "id": "91355328-db37-473f-aad8-e2c7d2fd7d10",
   "metadata": {},
   "outputs": [],
   "source": [
    "summaries.metrics.sum(field=\"_sumo.blob_size\") / (1024 * 1024 * 1024)"
   ]
  },
  {
   "cell_type": "code",
   "execution_count": null,
   "id": "cb3be689-6db2-483e-8195-2fcc3e1cdc69",
   "metadata": {},
   "outputs": [],
   "source": [
    "await summaries.metrics.min_async(field=\"_sumo.blob_size\")"
   ]
  },
  {
   "cell_type": "code",
   "execution_count": null,
   "id": "532cfd01-af75-4267-849f-f6852459af0a",
   "metadata": {},
   "outputs": [],
   "source": [
    "await summaries.metrics.max_async(field=\"_sumo.blob_size\")"
   ]
  },
  {
   "cell_type": "code",
   "execution_count": null,
   "id": "4f9f19a3-2564-46c4-b483-aae8e190eac6",
   "metadata": {},
   "outputs": [],
   "source": [
    "await summaries.metrics.avg_async(field=\"_sumo.blob_size\")"
   ]
  },
  {
   "cell_type": "code",
   "execution_count": null,
   "id": "0b344ee2-11e0-4a9d-b670-9e966b81b7a2",
   "metadata": {},
   "outputs": [],
   "source": [
    "await summaries.metrics.stats_async(field=\"_sumo.blob_size\")"
   ]
  },
  {
   "cell_type": "code",
   "execution_count": null,
   "id": "bba953f2-1bf0-49c9-a5b6-e5e4620b1e4d",
   "metadata": {},
   "outputs": [],
   "source": [
    "await summaries.metrics.extended_stats_async(field=\"_sumo.blob_size\")"
   ]
  },
  {
   "cell_type": "code",
   "execution_count": null,
   "id": "81aa0f72-647c-4336-8db1-572c44a5e94b",
   "metadata": {},
   "outputs": [],
   "source": [
    "await summaries.metrics.percentiles_async(field=\"_sumo.blob_size\")"
   ]
  },
  {
   "cell_type": "code",
   "execution_count": null,
   "id": "1f9427df-33e7-460a-a62c-2e7cae150b69",
   "metadata": {},
   "outputs": [],
   "source": [
    "await summaries.metrics.percentiles_async(\n",
    "    field=\"_sumo.blob_size\", percents=[95, 99, 99.9]\n",
    ")"
   ]
  },
  {
   "cell_type": "code",
   "execution_count": null,
   "id": "4488928b-175f-4a03-a4bf-ca1c9dec0401",
   "metadata": {},
   "outputs": [],
   "source": [
    "(await summaries.metrics.sum_async(field=\"_sumo.blob_size\")) / (\n",
    "    1024 * 1024 * 1024\n",
    ")"
   ]
  },
  {
   "cell_type": "code",
   "execution_count": null,
   "id": "924c829f-0193-4f82-9c41-3f48d52af2c6",
   "metadata": {},
   "outputs": [],
   "source": []
  }
 ],
 "metadata": {
  "kernelspec": {
   "display_name": "Python 3 (ipykernel)",
   "language": "python",
   "name": "python3"
  },
  "language_info": {
   "codemirror_mode": {
    "name": "ipython",
    "version": 3
   },
   "file_extension": ".py",
   "mimetype": "text/x-python",
   "name": "python",
   "nbconvert_exporter": "python",
   "pygments_lexer": "ipython3",
   "version": "3.11.12"
  }
 },
 "nbformat": 4,
 "nbformat_minor": 5
}
