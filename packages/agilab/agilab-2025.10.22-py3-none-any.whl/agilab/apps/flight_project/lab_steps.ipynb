{
  "cells": [
    {
      "cell_type": "code",
      "execution_count": null,
      "metadata": {},
      "outputs": [],
      "source": [
        "from scipy.signal import savgol_filter\n",
        "\n",
        "df['smoothed_long'] = savgol_filter(df['long'], window_length=5, polyorder=2)\n"
      ]
    },
    {
      "cell_type": "code",
      "execution_count": null,
      "metadata": {},
      "outputs": [],
      "source": [
        "from scipy.signal import savgol_filter\n",
        "\n",
        "column = 'long'\n",
        "if column not in df.columns:\n",
        "    raise KeyError(f\"Column '{column}' not found in dataframe\")\n",
        "\n",
        "window_length = 7  # must be odd and >= 5\n",
        "polyorder = 2\n",
        "if window_length >= len(df):\n",
        "    window_length = len(df) - 1 if len(df) % 2 == 0 else len(df)\n",
        "    window_length = max(window_length, 5)\n",
        "    if window_length % 2 == 0:\n",
        "        window_length -= 1\n",
        "\n",
        "df[f\"{column}_smooth\"] = savgol_filter(\n",
        "    df[column].to_numpy(),\n",
        "    window_length=window_length,\n",
        "    polyorder=polyorder,\n",
        "    mode='interp',\n",
        ")\n"
      ]
    },
    {
      "cell_type": "code",
      "execution_count": null,
      "metadata": {},
      "outputs": [],
      "source": [
        "from scipy.signal import convolve2d as cv2\n",
        "import numpy as np\n",
        "\n",
        "# Define the window size for Savitzky-Golay filtering\n",
        "window_size = 51\n",
        "\n",
        "# Apply Savitzky-Golay filter to column 'long'\n",
        "df['smoothed_long'] = cv2(df['long'].values, window_size, 2) / window_size"
      ]
    }
  ],
  "metadata": {},
  "nbformat": 4,
  "nbformat_minor": 5
}