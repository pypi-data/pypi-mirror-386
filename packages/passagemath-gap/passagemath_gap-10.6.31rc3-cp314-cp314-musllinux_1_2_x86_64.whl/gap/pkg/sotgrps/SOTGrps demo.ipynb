{
 "cells": [
  {
   "cell_type": "code",
   "execution_count": null,
   "metadata": {},
   "outputs": [
    {
     "name": "stdout",
     "output_type": "stream",
     "text": [
      "This package is currently under development; please report bugs to xpan.eileen\\\n",
      "@gmail.com. Partial references can be found in the paper GROUPS WHOSE ORDERS F\\\n",
      "ACTORISE IN AT MOST FOUR PRIMES (https://arxiv.org/pdf/2012.02933.pdf) \n"
     ]
    },
    {
     "data": {
      "text/plain": [
       "true"
      ]
     },
     "execution_count": 1,
     "metadata": {
      "text/plain": ""
     },
     "output_type": "execute_result"
    }
   ],
   "source": [
    "LoadPackage(\"sotgrps\"); #Please run this line first to install the package.\n",
    "#Note that any changes to this notebook will not be saved, but one can download the notebook to their local directory."
   ]
  },
  {
   "cell_type": "markdown",
   "metadata": {},
   "source": [
    "User functions:\n",
    "\n",
    "**NumberOfSOTGroups(n)** : returns the number of isomorphism types of groups of order n.\n",
    "\n",
    "**AllSOTGroups(n)** : takes in a number n that factorises into at most 4 primes or of the form p^4q (p, q are distinct primes), and outputs a list of all groups of order n, up to isomorphism. If a group is solvable, then it constructs the group using refined polycyclic presentations.\n",
    "\n",
    "**SOTGroup(n, i)** : returns the i-th group with respect to the ordering of the list AllSOTGroups(n) without constructing all groups in the list.\n",
    "\n",
    "**IdSOTGroup(G)** : returns false if G is not a group or |G| is not available; otherwise returns the SOT-group ID (n, i), where n = |G| and G is isomorphic to SOTGroup(n, i).\n",
    "\n",
    "**IsSOTAvailable(n)** : returns true if the groups of order n are available. SOTGroupsInformation(n): returns a brief comment on the enumeration of the isomorphism types of groups of order n. SOTGroupsInformation() : returns information of the available order types that AllSOTGroups(n) applies to.\n",
    "\n",
    "Note that the construction of small groups could be different to the existing library, for which reason the list of groups for a given order may not have the same order as enumerated by the IdGroup/IdSmallGroup function.\n",
    "\n",
    "In particular, with SOTGroup(n, i), we construct the i-th group of order n in our SOT-group list.\n",
    "\n",
    "IdSOTGroup(group) returns the group ID in line with SOTGroup(n, i), namely, the position of the input group of order n in the list constructed by AllSOTGroups(n).\n",
    "\n",
    "References: [1] X. Pan, Groups of small order type. MPhil thesis at Monash University.\n",
    "\n",
    "[2] H. Dietrich, B. Eick, & X. Pan, Groups whose order factorise into at most four primes. In: Journal of Symbolic Computation (108) (2022), pp. 23–40. (https://doi.org/10.1016/j.jsc.2021.04.005)"
   ]
  },
  {
   "cell_type": "markdown",
   "metadata": {},
   "source": [
    "For example, if I want to compute a complete list of all groups (up to isomoprhism) of order $5^3{\\cdot}11$, then I can do the following:"
   ]
  },
  {
   "cell_type": "code",
   "execution_count": 2,
   "metadata": {},
   "outputs": [
    {
     "data": {
      "text/plain": [
       "[ <group of size 1375 with 4 generators>, <group of size 1375 with 4 generators>, <group of size 1375 with 4 generators>, <group of size 1375 with 4 generators>, <group of size 1375 with 4 generators>, <group of size 1375 with 4 generators>, <group of size 1375 with 4 generators>, <group of size 1375 with 4 generators>, <group of size 1375 with 4 generators>, <group of size 1375 with 4 generators>, <group of size 1375 with 4 generators>, <group of size 1375 with 4 generators>, <group of size 1375 with 4 generators>, <group of size 1375 with 4 generators>, <group of size 1375 with 4 generators> ]"
      ]
     },
     "execution_count": 2,
     "metadata": {
      "text/plain": ""
     },
     "output_type": "execute_result"
    }
   ],
   "source": [
    "AllSOTGroups(5^3*11);"
   ]
  },
  {
   "cell_type": "markdown",
   "metadata": {},
   "source": [
    "And there are"
   ]
  },
  {
   "cell_type": "code",
   "execution_count": 3,
   "metadata": {},
   "outputs": [
    {
     "data": {
      "text/plain": [
       "15"
      ]
     },
     "execution_count": 3,
     "metadata": {
      "text/plain": ""
     },
     "output_type": "execute_result"
    }
   ],
   "source": [
    "NumberOfSOTGroups(5^3*11);"
   ]
  },
  {
   "cell_type": "markdown",
   "metadata": {},
   "source": [
    "such groups."
   ]
  },
  {
   "cell_type": "markdown",
   "metadata": {},
   "source": [
    "Now, I could also choose to work with a specific group in this list, say, the 10th one:"
   ]
  },
  {
   "cell_type": "code",
   "execution_count": 7,
   "metadata": {},
   "outputs": [
    {
     "data": {
      "text/plain": [
       "<group of size 1375 with 4 generators>"
      ]
     },
     "execution_count": 4,
     "metadata": {
      "text/plain": ""
     },
     "output_type": "execute_result"
    },
    {
     "data": {
      "text/plain": [
       "false"
      ]
     },
     "execution_count": 5,
     "metadata": {
      "text/plain": ""
     },
     "output_type": "execute_result"
    },
    {
     "data": {
      "text/plain": [
       "<group of size 11 with 1 generators>"
      ]
     },
     "execution_count": 6,
     "metadata": {
      "text/plain": ""
     },
     "output_type": "execute_result"
    },
    {
     "data": {
      "text/plain": [
       "true"
      ]
     },
     "execution_count": 7,
     "metadata": {
      "text/plain": ""
     },
     "output_type": "execute_result"
    }
   ],
   "source": [
    "g:=SOTGroup(5^3*11, 10); IsAbelian(g); Q:=SylowSubgroup(g, 11); IsNormal(g,Q);"
   ]
  },
  {
   "cell_type": "code",
   "execution_count": null,
   "metadata": {},
   "outputs": [],
   "source": []
  }
 ],
 "metadata": {
  "kernelspec": {
   "display_name": "GAP 4",
   "language": "gap",
   "name": "gap-4"
  },
  "language_info": {
   "codemirror_mode": "gap",
   "file_extension": ".g",
   "mimetype": "text/x-gap",
   "name": "GAP 4",
   "nbconvert_exporter": "",
   "pygments_lexer": "gap",
   "version": "4.11.1"
  }
 },
 "nbformat": 4,
 "nbformat_minor": 4
}
