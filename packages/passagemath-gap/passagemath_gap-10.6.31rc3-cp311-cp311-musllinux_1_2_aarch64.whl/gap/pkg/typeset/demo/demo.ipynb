{
 "cells": [
  {
   "attachments": {},
   "cell_type": "markdown",
   "metadata": {},
   "source": [
    "# _typeset_: A GAP Package automating typesetting for common GAP objects\n",
    "\n",
    "This Jupyter notebook goes through some of the work and functionality implemented as part of the 'typeset' GAP package, that aims to provide an automated framework for converting objects within GAP into typesettable (LaTeX) strings. Primarily, it implemented a function Typeset(x), where x can be a variety of objects within the GAP language. \n",
    "\n",
    "It can be installed with the following:"
   ]
  },
  {
   "cell_type": "code",
   "execution_count": 8,
   "metadata": {
    "scrolled": true,
    "vscode": {
     "languageId": "gap 4"
    }
   },
   "outputs": [
    {
     "data": {
      "text/plain": [
       "true"
      ]
     },
     "execution_count": 7,
     "metadata": {
      "text/plain": ""
     },
     "output_type": "execute_result"
    },
    {
     "data": {
      "text/plain": [
       "true"
      ]
     },
     "execution_count": 8,
     "metadata": {
      "text/plain": ""
     },
     "output_type": "execute_result"
    }
   ],
   "source": [
    "LoadPackage(\"digraphs\"); LoadPackage(\"typeset\");"
   ]
  },
  {
   "attachments": {},
   "cell_type": "markdown",
   "metadata": {},
   "source": [
    "<div class=\"alert alert-warning\">\n",
    "Note: the _digraphs_ dependency is optional, and only requires loading if you wish to use the integrated functionality. Additionally, the warnings can be ignored as they are only generated due to this notebook being executed on a browser.\n",
    "</div>"
   ]
  },
  {
   "attachments": {},
   "cell_type": "markdown",
   "metadata": {},
   "source": [
    "<br></br>\n",
    "\n",
    "## Simple Types\n",
    "<div class=\"alert alert-info\">\n",
    "    \n",
    "_typeset_ supports a number of basic types in the GAP language, including but not limited to:\n",
    "    \n",
    "- fractions\n",
    "- rationals\n",
    "- infinity\n",
    "- permutations\n",
    "- finite field elements\n",
    "   \n",
    "Some basic examples are included below.\n",
    "</div>\n",
    "\n",
    "First, a simple fraction:"
   ]
  },
  {
   "cell_type": "code",
   "execution_count": 6,
   "metadata": {
    "vscode": {
     "languageId": "gap 4"
    }
   },
   "outputs": [
    {
     "name": "stdout",
     "output_type": "stream",
     "text": [
      "\\frac{3}{4}\n"
     ]
    }
   ],
   "source": [
    "x := 3 / 4;; Typeset(x);"
   ]
  },
  {
   "attachments": {},
   "cell_type": "markdown",
   "metadata": {},
   "source": [
    "Which looks like $\\frac{3}{4}$ when rendered in LaTeX. Similarly, for a finite field element:"
   ]
  },
  {
   "cell_type": "code",
   "execution_count": 8,
   "metadata": {
    "vscode": {
     "languageId": "gap 4"
    }
   },
   "outputs": [
    {
     "name": "stdout",
     "output_type": "stream",
     "text": [
      "Z(2^{10})^{7}\n"
     ]
    }
   ],
   "source": [
    "y := Z(2^10)^7;; Typeset(y);"
   ]
  },
  {
   "attachments": {},
   "cell_type": "markdown",
   "metadata": {},
   "source": [
    "Which will look like $Z(2^{10})^{7}$. Some nice macros, like infinity, are also supported:"
   ]
  },
  {
   "cell_type": "code",
   "execution_count": 10,
   "metadata": {
    "vscode": {
     "languageId": "gap 4"
    }
   },
   "outputs": [
    {
     "name": "stdout",
     "output_type": "stream",
     "text": [
      "-\\infty\n"
     ]
    }
   ],
   "source": [
    "z := -infinity;; Typeset(z);"
   ]
  },
  {
   "attachments": {},
   "cell_type": "markdown",
   "metadata": {},
   "source": [
    "Which will result in $-\\infty$ when rendered in LaTeX."
   ]
  },
  {
   "attachments": {},
   "cell_type": "markdown",
   "metadata": {},
   "source": [
    "<br></br>\n",
    "\n",
    "## Matrices\n",
    "<div class=\"alert alert-info\">\n",
    "    \n",
    "_typeset_ also supports matrices, which typically look something like:\n",
    "\n",
    "<br></br>\n",
    "\n",
    "<center>$\\left(\\begin{array}{rr}\n",
    "1 & 2 \\\\\n",
    "2 & 3 \\\\\n",
    "\\end{array}\\right)$</center>\n",
    "\n",
    "</div>"
   ]
  },
  {
   "attachments": {},
   "cell_type": "markdown",
   "metadata": {},
   "source": [
    "In GAP, a Matrix will normally be created using something like:"
   ]
  },
  {
   "cell_type": "code",
   "execution_count": 11,
   "metadata": {
    "scrolled": false,
    "vscode": {
     "languageId": "gap 4"
    }
   },
   "outputs": [
    {
     "data": {
      "text/plain": [
       "[ [ 1, 3, 5 ], [ 2, 7, 7 ] ]"
      ]
     },
     "execution_count": 11,
     "metadata": {
      "text/plain": ""
     },
     "output_type": "execute_result"
    }
   ],
   "source": [
    "m := [[1, 3, 5], [2, 7, 7]];"
   ]
  },
  {
   "attachments": {},
   "cell_type": "markdown",
   "metadata": {},
   "source": [
    "Then, when calling the method Typeset implemented in this package, we get:"
   ]
  },
  {
   "cell_type": "code",
   "execution_count": 12,
   "metadata": {
    "scrolled": false,
    "vscode": {
     "languageId": "gap 4"
    }
   },
   "outputs": [
    {
     "name": "stdout",
     "output_type": "stream",
     "text": [
      "\\left(\\begin{array}{rrr}\n",
      "1 & 3 & 5 \\\\\n",
      "2 & 7 & 7 \\\\\n",
      "\\end{array}\\right)\n"
     ]
    }
   ],
   "source": [
    "Typeset(m);"
   ]
  },
  {
   "attachments": {},
   "cell_type": "markdown",
   "metadata": {},
   "source": [
    "Which looks like the following in LaTeX:\n",
    "\n",
    "<center>$\\left(\\begin{array}{rrr}\n",
    "1 & 3 & 5 \\\\\n",
    "2 & 7 & 7 \\\\\n",
    "\\end{array}\\right)$</center>"
   ]
  },
  {
   "attachments": {},
   "cell_type": "markdown",
   "metadata": {},
   "source": [
    "Matrices also don't necessarily need to contain simple numbers (integers). They can also contain a variety of the other simple types supported. \n",
    "\n",
    "For example, we could have a matrix of finite-field elements:"
   ]
  },
  {
   "cell_type": "code",
   "execution_count": 14,
   "metadata": {
    "vscode": {
     "languageId": "gap 4"
    }
   },
   "outputs": [
    {
     "name": "stdout",
     "output_type": "stream",
     "text": [
      "\\left(\\begin{array}{rrr}\n",
      "Z(3)^{0} & Z(3)^{0} & Z(3) \\\\\n",
      "Z(3) & 0 \\times Z(3) & Z(3) \\\\\n",
      "0 \\times Z(3) & Z(3) & 0 \\times Z(3) \\\\\n",
      "\\end{array}\\right)\n"
     ]
    }
   ],
   "source": [
    "x := [ [ Z(3)^0, Z(3)^0, Z(3) ], [ Z(3), 0*Z(3), Z(3) ], [ 0*Z(3), Z(3), 0*Z(3) ] ];; Typeset(x);"
   ]
  },
  {
   "attachments": {},
   "cell_type": "markdown",
   "metadata": {},
   "source": [
    "Which results in:\n",
    "\n",
    "<center>$\\left(\\begin{array}{rrr}\n",
    "Z(3)^{0} & Z(3)^{0} & Z(3) \\\\\n",
    "Z(3) & 0 \\times Z(3) & Z(3) \\\\\n",
    "0 \\times Z(3) & Z(3) & 0 \\times Z(3) \\\\\n",
    "\\end{array}\\right)$</center>"
   ]
  },
  {
   "attachments": {},
   "cell_type": "markdown",
   "metadata": {},
   "source": [
    "Additionally, you can customise matrices for certain purposes. For example, you may want the matrix to be surrounded by angled brackets instead. For this, you can set options within the call to Typeset, specifying customisations you want:"
   ]
  },
  {
   "cell_type": "code",
   "execution_count": 16,
   "metadata": {
    "vscode": {
     "languageId": "gap 4"
    }
   },
   "outputs": [
    {
     "name": "stdout",
     "output_type": "stream",
     "text": [
      "\\left\\langle\\begin{array}{rrr}\n",
      "\\frac{1}{3} & 5 & 4 \\\\\n",
      "5 & 1 & \\frac{1}{3} \\\\\n",
      "0 & \\frac{3}{5} & 1 \\\\\n",
      "\\end{array}\\right\\rangle\n"
     ]
    }
   ],
   "source": [
    "x := [[ 1/3, 5, 4 ], [ 5, 1, 1/3 ], [ 0, 3/5, 1 ]];; Typeset(x : LDelim := \"<\", RDelim := \">\" );"
   ]
  },
  {
   "attachments": {},
   "cell_type": "markdown",
   "metadata": {},
   "source": [
    "Which gives us the nice-looking matrix:\n",
    "\n",
    "<center>$\\left\\langle\\begin{array}{rrr}\n",
    "\\frac{1}{3} & 5 & 4 \\\\\n",
    "5 & 1 & \\frac{1}{3} \\\\\n",
    "0 & \\frac{3}{5} & 1 \\\\\n",
    "\\end{array}\\right\\rangle$</center>"
   ]
  },
  {
   "attachments": {},
   "cell_type": "markdown",
   "metadata": {},
   "source": [
    "<br></br>\n",
    "\n",
    "## Rational Functions\n",
    "Another interesting type in GAP supported by _typeset_ is rational functions. In essence, these are equations containing several numbers, as well as some unknown variables (e.g. x, y). Within GAP, we can specify these unknown variables as 'Indeterminates', and use them to construct these rational functions. For example, if we wanted a simple quadratic we could do:"
   ]
  },
  {
   "cell_type": "code",
   "execution_count": 19,
   "metadata": {
    "vscode": {
     "languageId": "gap 4"
    }
   },
   "outputs": [
    {
     "name": "stdout",
     "output_type": "stream",
     "text": [
      "x_{1}^{2}+2x_{1}+3\n"
     ]
    }
   ],
   "source": [
    "x := Indeterminate(Rationals, 1);; f := x^2 + 2 * x + 3;; Typeset(f);"
   ]
  },
  {
   "attachments": {},
   "cell_type": "markdown",
   "metadata": {},
   "source": [
    "Which will give us the following when typeset:\n",
    "<center>$x_{1}^{2}+2x_{1}+3$</center>"
   ]
  },
  {
   "attachments": {},
   "cell_type": "markdown",
   "metadata": {},
   "source": [
    "This can also be extended to more complex rational functions, such as ones with multiple unknowns, or ones which have fractions as well:"
   ]
  },
  {
   "cell_type": "code",
   "execution_count": 21,
   "metadata": {
    "vscode": {
     "languageId": "gap 4"
    }
   },
   "outputs": [],
   "source": [
    "x := Indeterminate(Rationals, 1);; y := Indeterminate(Rationals, 1);;"
   ]
  },
  {
   "cell_type": "code",
   "execution_count": 23,
   "metadata": {
    "vscode": {
     "languageId": "gap 4"
    }
   },
   "outputs": [],
   "source": [
    "f := x^2 + 2 * x + 3;; g := y^2 + 4 * y - 12;;"
   ]
  },
  {
   "cell_type": "code",
   "execution_count": 24,
   "metadata": {
    "vscode": {
     "languageId": "gap 4"
    }
   },
   "outputs": [
    {
     "name": "stdout",
     "output_type": "stream",
     "text": [
      "\\frac{x_{1}^{2}+2x_{1}+3}{x_{1}^{2}+4x_{1}-12}\n"
     ]
    }
   ],
   "source": [
    "Typeset(f / g);"
   ]
  },
  {
   "attachments": {},
   "cell_type": "markdown",
   "metadata": {},
   "source": [
    "Giving us the much more readable version in LaTeX of:\n",
    "\n",
    "<center>$\\frac{x_{1}^{2}+2x_{1}+3}{x_{1}^{2}+4x_{1}-12}$</center>"
   ]
  },
  {
   "attachments": {},
   "cell_type": "markdown",
   "metadata": {},
   "source": [
    "<br></br>\n",
    "\n",
    "## Character Tables\n",
    "Another interesting type that support was written for in typeset was character\n",
    "tables. In summary, these are tabular representations of an underlying group\n",
    "used to store information about attributes calculated through application of\n",
    "theories defined in what is known as character theory.\n",
    "\n",
    "Fortunately, GAP allows a lot of abstraction over the creation of such character tables – simply allows them to be created from the underlying group. For example, they can be made like:"
   ]
  },
  {
   "cell_type": "code",
   "execution_count": 25,
   "metadata": {
    "vscode": {
     "languageId": "gap 4"
    }
   },
   "outputs": [],
   "source": [
    "c := CharacterTable(SymmetricGroup(3));;"
   ]
  },
  {
   "attachments": {},
   "cell_type": "markdown",
   "metadata": {},
   "source": [
    "And calling Typeset on this table results in:"
   ]
  },
  {
   "cell_type": "code",
   "execution_count": 26,
   "metadata": {
    "vscode": {
     "languageId": "gap 4"
    }
   },
   "outputs": [
    {
     "name": "stdout",
     "output_type": "stream",
     "text": [
      "#I  To use the gather* LaTeX environment in character tables, add the amsmath package to your premable \\usepackage{amsmath}\n",
      "\\begin{gather*}\n",
      "\\begin{array}{c c c c}\n",
      " & 1a & 2a & 3a \\\\\n",
      "X.1 & 1 & -1 & 1 \\\\\n",
      "X.2 & 2 & . & -1 \\\\\n",
      "X.3 & 1 & 1 & 1 \\\\\n",
      "\\end{array}\n",
      "\\end{gather*}\n"
     ]
    }
   ],
   "source": [
    "Typeset(c);"
   ]
  },
  {
   "attachments": {},
   "cell_type": "markdown",
   "metadata": {},
   "source": [
    "Visually, this looks like:\n",
    "<center>$\\begin{gather*}\n",
    "\\begin{array}{c c c c}\n",
    " & 1a & 2a & 3a \\\\\n",
    "X.1 & 1 & -1 & 1 \\\\\n",
    "X.2 & 2 & . & -1 \\\\\n",
    "X.3 & 1 & 1 & 1 \\\\\n",
    "\\end{array}\n",
    "\\end{gather*}$</center>"
   ]
  },
  {
   "attachments": {},
   "cell_type": "markdown",
   "metadata": {},
   "source": [
    "More complex character tables are also supported, such as that for the alternating group:"
   ]
  },
  {
   "cell_type": "code",
   "execution_count": 28,
   "metadata": {
    "vscode": {
     "languageId": "gap 4"
    }
   },
   "outputs": [
    {
     "name": "stdout",
     "output_type": "stream",
     "text": [
      "#I  To use the gather* LaTeX environment in character tables, add the amsmath package to your premable \\usepackage{amsmath}\n",
      "#I  To use the aligned LaTeX environment in table legends, add the amsmath package to your premable \\usepackage{amsmath}\n",
      "\\begin{gather*}\n",
      "\\begin{array}{c c c c c}\n",
      " & 1a & 2a & 3a & 3b \\\\\n",
      "X.1 & 1 & 1 & 1 & 1 \\\\\n",
      "X.2 & 1 & 1 & A & \\bar{A} \\\\\n",
      "X.3 & 1 & 1 & \\bar{A} & A \\\\\n",
      "X.4 & 3 & -1 & . & . \\\\\n",
      "\\end{array}\\\\\n",
      "\\begin{aligned}\n",
      "A &= E(3)^2 \\\\\n",
      " &= (-1-Sqrt(-3))/2 = -1-b3 \\\\\n",
      "\\end{aligned}\n",
      "\\end{gather*}\n"
     ]
    }
   ],
   "source": [
    "c := CharacterTable(AlternatingGroup(4));; Typeset(c);"
   ]
  },
  {
   "attachments": {},
   "cell_type": "markdown",
   "metadata": {},
   "source": [
    "Which looks like:\n",
    "\n",
    "<center>$\\begin{gather*}\n",
    "\\begin{array}{c c c c c}\n",
    " & 1a & 2a & 3a & 3b \\\\\n",
    "X.1 & 1 & 1 & 1 & 1 \\\\\n",
    "X.2 & 1 & 1 & A & \\bar{A} \\\\\n",
    "X.3 & 1 & 1 & \\bar{A} & A \\\\\n",
    "X.4 & 3 & -1 & . & . \\\\\n",
    "\\end{array}\\\\\n",
    "\\begin{aligned}\n",
    "A &= E(3)^2 \\\\\n",
    " &= (-1-Sqrt(-3))/2 = -1-b3 \\\\\n",
    "\\end{aligned}\n",
    "\\end{gather*}$</center>"
   ]
  },
  {
   "attachments": {},
   "cell_type": "markdown",
   "metadata": {},
   "source": [
    "<br></br>\n",
    "\n",
    "## Generator Notation for Groups\n",
    "An important concept in group theory is, of course, groups. One representation of groups is called generator notation, and is essentially a tuple/list of elements from which all elements within a group can be generated (hence the name). For instance, a person could want to define a matrix group using generator notation, in which case they would specify the basic matrices needed to define the group:"
   ]
  },
  {
   "cell_type": "code",
   "execution_count": 32,
   "metadata": {
    "vscode": {
     "languageId": "gap 4"
    }
   },
   "outputs": [],
   "source": [
    "m1 := [ [ 1, 0 ], [ 3, 3 ] ];; m2 := [ [ 4, 0 ], [ -1, 5 ] ];; m3 := [ [ 7, 0 ], [ 9, 1 ] ];; g := Group( m1, m2, m3 );;"
   ]
  },
  {
   "attachments": {},
   "cell_type": "markdown",
   "metadata": {},
   "source": [
    "Now, they can call Typeset to format the group in generator notation:"
   ]
  },
  {
   "cell_type": "code",
   "execution_count": 33,
   "metadata": {
    "vscode": {
     "languageId": "gap 4"
    }
   },
   "outputs": [
    {
     "name": "stdout",
     "output_type": "stream",
     "text": [
      "\\left\\langle \\left(\\begin{array}{rr}\n",
      "1 & 0 \\\\\n",
      "3 & 3 \\\\\n",
      "\\end{array}\\right),\\left(\\begin{array}{rr}\n",
      "4 & 0 \\\\\n",
      "-1 & 5 \\\\\n",
      "\\end{array}\\right),\\left(\\begin{array}{rr}\n",
      "7 & 0 \\\\\n",
      "9 & 1 \\\\\n",
      "\\end{array}\\right) \\right\\rangle\n"
     ]
    }
   ],
   "source": [
    "Typeset(g);"
   ]
  },
  {
   "attachments": {},
   "cell_type": "markdown",
   "metadata": {},
   "source": [
    "This looks like:\n",
    "<center>$\\left\\langle \\left(\\begin{array}{rr}\n",
    "1 & 0 \\\\\n",
    "3 & 3 \\\\\n",
    "\\end{array}\\right),\\left(\\begin{array}{rr}\n",
    "4 & 0 \\\\\n",
    "-1 & 5 \\\\\n",
    "\\end{array}\\right),\\left(\\begin{array}{rr}\n",
    "7 & 0 \\\\\n",
    "9 & 1 \\\\\n",
    "\\end{array}\\right) \\right\\rangle$</center>"
   ]
  },
  {
   "attachments": {},
   "cell_type": "markdown",
   "metadata": {},
   "source": [
    "Similarly, another type of group for which this notation is useful is finite-presented (FP) groups. An example creation (and typesetting) of one is:"
   ]
  },
  {
   "cell_type": "code",
   "execution_count": 36,
   "metadata": {
    "vscode": {
     "languageId": "gap 4"
    }
   },
   "outputs": [
    {
     "name": "stdout",
     "output_type": "stream",
     "text": [
      "\\left\\langle a,b \\mid a^{5},b^{2} \\right\\rangle\n"
     ]
    }
   ],
   "source": [
    "f := FreeGroup( \"a\", \"b\" );; g := f / [ f.1^5, f.2^2];; Typeset(g);"
   ]
  },
  {
   "attachments": {},
   "cell_type": "markdown",
   "metadata": {},
   "source": [
    "And in LaTeX:\n",
    "<center>$\\left\\langle a,b \\mid a^{5},b^{2} \\right\\rangle\n",
    "$</center>"
   ]
  },
  {
   "attachments": {},
   "cell_type": "markdown",
   "metadata": {},
   "source": [
    "<br></br>\n",
    "\n",
    "## Structure Descriptions\n",
    "One of the other features implemented as part of _typeset_ was converting concise string representations of groups known as structure descriptions into a LaTeX-digestible form. For example, rather than having to say the long name \"finite cyclic group of size 4\", you can simply say \"C4\". One example structure description is \"\"Phi(C4) . C4/Phi(C4)\", and we can call the function TypesetStructureDescription on it as follows:"
   ]
  },
  {
   "cell_type": "code",
   "execution_count": 4,
   "metadata": {
    "scrolled": true,
    "vscode": {
     "languageId": "gap 4"
    }
   },
   "outputs": [
    {
     "name": "stdout",
     "output_type": "stream",
     "text": [
      "\\rm \\Phi(C_{4}) \\cdot C_{4}/\\Phi(C_{4})\n"
     ]
    }
   ],
   "source": [
    "TypesetStructureDescription(\"Phi(C4) . C4/Phi(C4)\");"
   ]
  },
  {
   "attachments": {},
   "cell_type": "markdown",
   "metadata": {},
   "source": [
    "This will then look like (in LaTeX):\n",
    "<center>$\\rm \\Phi(C_{4}) \\cdot C_{4}/\\Phi(C_{4})$</center>"
   ]
  },
  {
   "attachments": {},
   "cell_type": "markdown",
   "metadata": {},
   "source": [
    "Another interesting structure description is \"C6 x ((C4 x C2) : C12)\":"
   ]
  },
  {
   "cell_type": "code",
   "execution_count": 5,
   "metadata": {
    "vscode": {
     "languageId": "gap 4"
    }
   },
   "outputs": [
    {
     "name": "stdout",
     "output_type": "stream",
     "text": [
      "#I  To use the rtimes LaTeX command, add the amssymb package to your premable \\usepackage{amssymb}\n",
      "\\rm C_{6} \\times ((C_{4} \\times C_{2}) \\rtimes C_{12})\n"
     ]
    }
   ],
   "source": [
    "TypesetStructureDescription(\"C6 x ((C4 x C2) : C12)\");"
   ]
  },
  {
   "attachments": {},
   "cell_type": "markdown",
   "metadata": {},
   "source": [
    "Resulting in:\n",
    "<center>$\\rm C_{6} \\times ((C_{4} \\times C_{2}) \\rtimes C_{12})$</center>"
   ]
  },
  {
   "attachments": {},
   "cell_type": "markdown",
   "metadata": {},
   "source": [
    "<br></br>\n",
    "\n",
    "## Directed Graphs\n",
    "Lastly, one of the more visually appealing types supported is directed graphs implemented within the _digraphs_ package. Directed graphs, at a high level, can be thought of as connected circles (nodes) joined by arrows (edges), and arrows are one-way. One can create a directed graph as follows:"
   ]
  },
  {
   "cell_type": "code",
   "execution_count": 9,
   "metadata": {
    "vscode": {
     "languageId": "gap 4"
    }
   },
   "outputs": [],
   "source": [
    "g := Digraph([[1, 2], [3, 2], [3, 4], [4, 2], [4, 1]]);;"
   ]
  },
  {
   "attachments": {
    "digraph.png": {
     "image/png": "[encoded data removed]"
    }
   },
   "cell_type": "markdown",
   "metadata": {},
   "source": [
    "While calling Typeset on the graph does work on a desktop installation, it doesn't on this Jupyter notebook due to restrictions on other programs required. However, trust me when I say that the following image is what is returned from calling the method on the graph!\n",
    "\n",
    "![digraph.png](attachment:digraph.png)"
   ]
  },
  {
   "attachments": {},
   "cell_type": "markdown",
   "metadata": {},
   "source": [
    "_typeset_ also provides multiple methods to generate the code for a digraph, which can be set using the option DigraphOut."
   ]
  },
  {
   "attachments": {},
   "cell_type": "markdown",
   "metadata": {},
   "source": [
    "<br></br>\n",
    "\n",
    "## Additional Features\n",
    "_typeset_ also has several other features. For example, it has a verbose logging system that can print out debugging messages for users to help isolate errors or invalid output. For the more verbose level (3), the following command can be used:"
   ]
  },
  {
   "cell_type": "code",
   "execution_count": 37,
   "metadata": {
    "vscode": {
     "languageId": "gap 4"
    }
   },
   "outputs": [],
   "source": [
    "SetInfoLevel(InfoTypeset, 3);"
   ]
  },
  {
   "attachments": {},
   "cell_type": "markdown",
   "metadata": {},
   "source": [
    "Then, for a basic example this will additionally print out some extra messages when calling Typeset:"
   ]
  },
  {
   "cell_type": "code",
   "execution_count": 96,
   "metadata": {
    "scrolled": true,
    "vscode": {
     "languageId": "gap 4"
    }
   },
   "outputs": [
    {
     "name": "stdout",
     "output_type": "stream",
     "text": [
      "#I  Generating options record from default parameters\n",
      "#I  Could not find installed typesetting method for object filter, falling back to ViewString()\n",
      "[ [ [ 2 ] ] ]\n"
     ]
    }
   ],
   "source": [
    "Typeset([[[2]]]);"
   ]
  },
  {
   "attachments": {},
   "cell_type": "markdown",
   "metadata": {},
   "source": [
    "_typeset_ also implements several features to render the returned output automatically. For example, given the returned LaTeX string as follows:"
   ]
  },
  {
   "cell_type": "code",
   "execution_count": 15,
   "metadata": {
    "scrolled": true,
    "vscode": {
     "languageId": "gap 4"
    }
   },
   "outputs": [
    {
     "name": "stdout",
     "output_type": "stream",
     "text": [
      "7x_{1}^{3}+x_{1}^{2}+x_{1}-12\n"
     ]
    }
   ],
   "source": [
    "x := Indeterminate(Rationals, 1);; f := x + x^2 - 12 + 7 * x ^ 3;; Typeset(f);"
   ]
  },
  {
   "attachments": {},
   "cell_type": "markdown",
   "metadata": {},
   "source": [
    "You can call the method RenderLatex() with an optional parameter 'output' set to one of the following:\n",
    "\n",
    "- \"mathjax\", which creates and opens a HTML file containing the passed string and using MathJax to render it.\n",
    "- \"overleaf\", which creates a new Overleaf project containing the passed string.\n",
    "- \"pdflatex\", which generates a PDF file with pdflatex containing the passed string.\n",
    "\n",
    "Unfortunately, this method only works on the desktop, as the GAP Jupyter Kernel can't open external programs (yet!)."
   ]
  }
 ],
 "metadata": {
  "kernelspec": {
   "display_name": "GAP 4",
   "language": "gap",
   "name": "gap-4"
  },
  "language_info": {
   "codemirror_mode": "gap",
   "file_extension": ".g",
   "mimetype": "text/x-gap",
   "name": "GAP 4",
   "nbconvert_exporter": "",
   "pygments_lexer": "gap",
   "version": "4.11.1"
  }
 },
 "nbformat": 4,
 "nbformat_minor": 2
}
