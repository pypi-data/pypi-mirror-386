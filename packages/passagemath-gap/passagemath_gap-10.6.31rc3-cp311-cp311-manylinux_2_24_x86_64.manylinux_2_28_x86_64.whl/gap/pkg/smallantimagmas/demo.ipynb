{
 "cells": [
  {
   "cell_type": "markdown",
   "id": "14e63719-e7e0-4505-80cb-66054ce61573",
   "metadata": {},
   "source": [
    "## smallantimagmas\n",
    "\n",
    "We call a magma $M = \\langle M, \\ast \\rangle$ **anti-associative** if for all $a,b,c \\in M$, we have:\n",
    "\n",
    "$$\n",
    "\\left( a \\ast b \\right) \\ast c \\not= a \\ast \\left( b \\ast c \\right).\n",
    "$$\n",
    "\n",
    "---"
   ]
  },
  {
   "cell_type": "code",
   "execution_count": null,
   "id": "fe3a2e44-1a11-4fcc-a61d-c96718e040b6",
   "metadata": {},
   "outputs": [
    {
     "data": {
      "text/plain": [
       "true"
      ]
     },
     "execution_count": 4,
     "metadata": {
      "text/plain": ""
     },
     "output_type": "execute_result"
    }
   ],
   "source": [
    "LoadPackage(\"smallantimagmas\");"
   ]
  },
  {
   "cell_type": "markdown",
   "id": "ab5189ac-40c8-42a6-886e-9c5c7655eecd",
   "metadata": {},
   "source": [
    "## List non-isomorphic anti-associative groupoids\n",
    "\n",
    "Lets list non-isomorphic groupoids of order $3$."
   ]
  },
  {
   "cell_type": "code",
   "execution_count": 3,
   "id": "f96ef9d6-c2d5-4f3c-a887-76cfe53d6f35",
   "metadata": {},
   "outputs": [
    {
     "data": {
      "text/plain": [
       "[ <magma with 3 generators>, <magma with 3 generators>,   <magma with 3 generators>, <magma with 3 generators>,   <magma with 3 generators>, <magma with 3 generators>,   <magma with 3 generators>, <magma with 3 generators>,   <magma with 3 generators>, <magma with 3 generators> ]"
      ]
     },
     "execution_count": 3,
     "metadata": {
      "text/plain": ""
     },
     "output_type": "execute_result"
    }
   ],
   "source": [
    "Ms := AllSmallAntimagmas(3);"
   ]
  },
  {
   "cell_type": "code",
   "execution_count": 5,
   "id": "eaeec858-bd6e-4e22-8728-54928b4072c6",
   "metadata": {},
   "outputs": [
    {
     "data": {
      "text/plain": [
       "<magma with 3 generators>"
      ]
     },
     "execution_count": 5,
     "metadata": {
      "text/plain": ""
     },
     "output_type": "execute_result"
    }
   ],
   "source": [
    "OneSmallAntimagma(3);"
   ]
  },
  {
   "cell_type": "code",
   "execution_count": 7,
   "id": "d3cdfe06-fa63-47eb-a6a5-383fb7b6f921",
   "metadata": {},
   "outputs": [
    {
     "data": {
      "text/plain": [
       "<magma with 3 generators>"
      ]
     },
     "execution_count": 7,
     "metadata": {
      "text/plain": ""
     },
     "output_type": "execute_result"
    }
   ],
   "source": [
    "SmallAntimagma(3, 1);"
   ]
  },
  {
   "cell_type": "code",
   "execution_count": null,
   "id": "c745a474-db2b-44dc-9e2f-7b7c71427ab4",
   "metadata": {},
   "outputs": [
    {
     "data": {
      "text/plain": [
       "<magma with 2 generators>"
      ]
     },
     "execution_count": 8,
     "metadata": {
      "text/plain": ""
     },
     "output_type": "execute_result"
    }
   ],
   "source": [
    "M := SmallAntimagma(2, 1);"
   ]
  },
  {
   "cell_type": "code",
   "execution_count": null,
   "id": "29d1438d-731e-44d6-aeda-39d75c68381f",
   "metadata": {},
   "outputs": [
    {
     "data": {
      "text/plain": [
       "true"
      ]
     },
     "execution_count": 9,
     "metadata": {
      "text/plain": ""
     },
     "output_type": "execute_result"
    }
   ],
   "source": [
    "IsLeftCancellative(M);"
   ]
  },
  {
   "cell_type": "code",
   "execution_count": null,
   "id": "904afd6b-3deb-401f-928f-91f0605c7aff",
   "metadata": {},
   "outputs": [],
   "source": []
  }
 ],
 "metadata": {
  "kernelspec": {
   "display_name": "GAP 4",
   "language": "gap",
   "name": "gap-4"
  },
  "language_info": {
   "codemirror_mode": "gap",
   "file_extension": ".g",
   "mimetype": "text/x-gap",
   "name": "GAP 4",
   "nbconvert_exporter": "",
   "pygments_lexer": "gap",
   "version": "4.14.0"
  }
 },
 "nbformat": 4,
 "nbformat_minor": 5
}
