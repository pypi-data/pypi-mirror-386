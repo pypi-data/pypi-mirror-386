{
 "cells": [
  {
   "cell_type": "markdown",
   "id": "0",
   "metadata": {},
   "source": [
    "# t-prompts Tutorial\n",
    "\n",
    "This tutorial covers all major features of t-prompts: a library for creating structured prompts using Python 3.14's template strings (t-strings) that preserve provenance while rendering to text.\n",
    "\n",
    "Each section introduces a concept with a working example that you can run and interact with."
   ]
  },
  {
   "cell_type": "markdown",
   "id": "1",
   "metadata": {},
   "source": [
    "## 0. Setup & Imports\n",
    "\n",
    "To enable interactive widget rendering in Jupyter notebooks, call `setup_notebook()`. This displays structured prompts with an interactive visualization showing their internal structure, source mapping, and more.\n",
    "\n",
    "The function returns a widget that you should display to activate the rendering."
   ]
  },
  {
   "cell_type": "code",
   "execution_count": null,
   "id": "2",
   "metadata": {},
   "outputs": [],
   "source": [
    "from PIL import Image\n",
    "\n",
    "from t_prompts import dedent, prompt, setup_notebook\n",
    "\n",
    "# Enable interactive rendering - display the returned widget\n",
    "display(setup_notebook())"
   ]
  },
  {
   "cell_type": "markdown",
   "id": "3",
   "metadata": {},
   "source": [
    "## 1. Hello World - Text Interpolation\n",
    "\n",
    "Python 3.14's **t-strings** look like f-strings but return a `Template` object that preserves information about interpolations instead of immediately evaluating to a string.\n",
    "\n",
    "The `prompt()` function wraps a t-string into a `StructuredPrompt` that acts like both a string and a navigable tree."
   ]
  },
  {
   "cell_type": "code",
   "execution_count": null,
   "id": "4",
   "metadata": {},
   "outputs": [],
   "source": [
    "name = \"Alice\"\n",
    "greeting = \"Hello\"\n",
    "\n",
    "prompt(t\"{greeting}, {name}! Welcome to t-prompts.\")"
   ]
  },
  {
   "cell_type": "markdown",
   "id": "5",
   "metadata": {},
   "source": [
    "## 2. Format Specs as Keys\n",
    "\n",
    "The **format spec** (the part after `:` in an interpolation) becomes the **key** for accessing that interpolation. Without a format spec, the expression itself is used as the key.\n",
    "\n",
    "Access interpolations using dictionary-like syntax: `p[\"key\"]`"
   ]
  },
  {
   "cell_type": "code",
   "execution_count": null,
   "id": "6",
   "metadata": {},
   "outputs": [],
   "source": [
    "user_query = \"What is Python?\"\n",
    "context = \"Technical documentation\"\n",
    "\n",
    "p = prompt(t\"Context: {context:ctx}. Question: {user_query:query}\")\n",
    "\n",
    "# Access interpolations by their keys\n",
    "print(f\"Keys: {list(p.keys())}\")\n",
    "print(f\"Context value: {p['ctx'].value}\")\n",
    "print(f\"Query expression: {p['query'].expression}\")\n",
    "\n",
    "p"
   ]
  },
  {
   "cell_type": "markdown",
   "id": "7",
   "metadata": {},
   "source": [
    "## 3. Dedent for Multi-line Prompts\n",
    "\n",
    "The `dedent()` function allows you to write clean, properly indented source code while producing output without that indentation. It's essential for readable multi-line prompts in functions and classes."
   ]
  },
  {
   "cell_type": "code",
   "execution_count": null,
   "id": "8",
   "metadata": {},
   "outputs": [],
   "source": [
    "system_message = \"You are a helpful assistant.\"\n",
    "task_description = \"Translate the following text to French.\"\n",
    "user_input = \"Hello, how are you?\"\n",
    "\n",
    "dedent(t\"\"\"\n",
    "    System: {system_message:system}\n",
    "\n",
    "    Task: {task_description:task}\n",
    "\n",
    "    User: {user_input:input}\n",
    "    \"\"\")"
   ]
  },
  {
   "cell_type": "markdown",
   "id": "9",
   "metadata": {},
   "source": [
    "## Segway: Output Widget Interactivity \n",
    "How to use this widget\n",
    "\n",
    "- Switch view modes: Use the toolbar toggles to switch between Code, Markdown, or Split views.\n",
    "- Code view\n",
    "    - Collapse selections: Select text and press the space bar to collapse.\n",
    "    - Expand collapsed content: Double-click a collapsed segment or double-tap the space bar when nothing is selected to expand all.\n",
    "- Tree view\n",
    "    - Single-click rows: Open or close tree nodes to inspect nested elements. The arrow button performs the same action.\n",
    "    - Double-click rows: Toggle the matching content in the code view—collapse visible sections or restore previously collapsed ones.\n",
    "    - Hide the panel: Use the « button in the tree header to tuck the tree away. Click the side strip to show it again.\n",
    "\n",
    "If you are running this notebook locally, Cmd(or Ctrl)-Click to navigate to prompt source location in VSCode"
   ]
  },
  {
   "cell_type": "markdown",
   "id": "10",
   "metadata": {},
   "source": [
    "## 4. Nested Composition\n",
    "\n",
    "Build larger prompts from smaller `StructuredPrompt` pieces. This enables clean composition and reusable prompt components."
   ]
  },
  {
   "cell_type": "code",
   "execution_count": null,
   "id": "11",
   "metadata": {},
   "outputs": [],
   "source": [
    "# Create reusable components\n",
    "system = prompt(t\"You are a helpful coding assistant.\")\n",
    "context = dedent(t\"\"\"\n",
    "    Language: Python\n",
    "    Framework: FastAPI\n",
    "    \"\"\")\n",
    "question = prompt(t\"How do I create a POST endpoint?\")\n",
    "\n",
    "# Compose them together\n",
    "dedent(t\"\"\"\n",
    "    {system:system}\n",
    "\n",
    "    {context:context}\n",
    "\n",
    "    Question: {question:question}\n",
    "    \"\"\")"
   ]
  },
  {
   "cell_type": "markdown",
   "id": "12",
   "metadata": {},
   "source": [
    "## 5. XML-Style Tags\n",
    "\n",
    "You can use XML-style tags to structure your prompts, which is common in many LLM prompting patterns. The interpolations work seamlessly within the tags."
   ]
  },
  {
   "cell_type": "code",
   "execution_count": null,
   "id": "13",
   "metadata": {},
   "outputs": [],
   "source": [
    "system_instructions = \"You are a precise technical writer.\"\n",
    "user_context = \"Writing API documentation\"\n",
    "user_message = \"Explain REST principles\"\n",
    "\n",
    "dedent(t\"\"\"\n",
    "    {system_instructions:instructions:xml=important}\n",
    "\n",
    "    - Context: {user_context:context}\n",
    "    - Message: {user_message:message}\n",
    "\n",
    "    \"\"\")"
   ]
  },
  {
   "cell_type": "markdown",
   "id": "14",
   "metadata": {},
   "source": [
    "## 6. Markdown Headers with Dynamic Format Specs\n",
    "\n",
    "Use the `header=` render hint to automatically create markdown sections. The library will render the content with the appropriate header level.\n",
    "\n",
    "**Dynamic format specs** allow you to use interpolated expressions in the format spec itself, enabling programmatic key generation."
   ]
  },
  {
   "cell_type": "code",
   "execution_count": null,
   "id": "15",
   "metadata": {},
   "outputs": [],
   "source": [
    "section_title = \"Introduction\"\n",
    "section_content = \"This section introduces the core concepts.\"\n",
    "\n",
    "# The format spec {section_title}:header={section_title} uses dynamic interpolation\n",
    "# The key becomes the value of section_title, and header= sets the header text\n",
    "dedent(t\"\"\"\n",
    "    {section_content:{section_title}:header={section_title}}\n",
    "    \"\"\")"
   ]
  },
  {
   "cell_type": "markdown",
   "id": "16",
   "metadata": {},
   "source": [
    "## 7. Nested Markdown Headers\n",
    "\n",
    "The library automatically tracks header depth when nesting sections. Each nested level increments the header level (`#`, `##`, `###`, etc.)."
   ]
  },
  {
   "cell_type": "code",
   "execution_count": null,
   "id": "17",
   "metadata": {},
   "outputs": [],
   "source": [
    "# Helper function for creating sections\n",
    "def section(title: str, content):\n",
    "    return dedent(t\"\"\"\n",
    "        {content:{title}:header={title}}\n",
    "        \"\"\")\n",
    "\n",
    "\n",
    "# Create nested sections\n",
    "subsection = section(\"Installation\", \"Run: pip install t-prompts\")\n",
    "main_section = section(\n",
    "    \"Getting Started\",\n",
    "    dedent(t\"\"\"\n",
    "    Welcome to the guide.\n",
    "\n",
    "    {subsection:subsection}\n",
    "    \"\"\"),\n",
    ")\n",
    "\n",
    "section(\n",
    "    \"Tutorial\",\n",
    "    dedent(t\"\"\"\n",
    "    This is a comprehensive tutorial.\n",
    "\n",
    "    {main_section:main}\n",
    "    \"\"\"),\n",
    ")"
   ]
  },
  {
   "cell_type": "markdown",
   "id": "18",
   "metadata": {},
   "source": [
    "## 8. Image Interpolation\n",
    "\n",
    "Interpolate PIL `Image` objects directly into prompts.  Hover over the text place holder to get a preview. "
   ]
  },
  {
   "cell_type": "code",
   "execution_count": null,
   "id": "19",
   "metadata": {},
   "outputs": [],
   "source": [
    "# Create a simple test image\n",
    "img = Image.new(\"RGB\", (100, 100), color=\"blue\")\n",
    "\n",
    "description = \"Here is a blue square\"\n",
    "\n",
    "dedent(t\"\"\"\n",
    "    {description:description}\n",
    "\n",
    "    {img:image}\n",
    "\n",
    "    This demonstrates image interpolation with custom sizing.\n",
    "    \"\"\")"
   ]
  },
  {
   "cell_type": "markdown",
   "id": "20",
   "metadata": {},
   "source": [
    "## 9. LaTeX Math\n",
    "\n",
    "Display mathematical equations using LaTeX syntax with `$$` delimiters. Interpolations work within LaTeX expressions.  Interpolation means subterms can be collapsed: `x^2 + [2 chars] + [2 chars] = 0` -- Try it!  "
   ]
  },
  {
   "cell_type": "code",
   "execution_count": null,
   "id": "21",
   "metadata": {},
   "outputs": [],
   "source": [
    "# Helper for LaTeX blocks\n",
    "def latex_block(equation):\n",
    "    return dedent(t\"\"\"\n",
    "        $$\n",
    "        {equation:equation}\n",
    "        $$\n",
    "        \"\"\")\n",
    "\n",
    "\n",
    "term_a = \"x^2\"\n",
    "term_b = \"2x\"\n",
    "term_c = \"1\"\n",
    "\n",
    "equation = prompt(t\"{term_a:a} + {term_b:b} + {term_c:c} = 0\")\n",
    "\n",
    "dedent(t\"\"\"\n",
    "    Solve the quadratic equation:\n",
    "\n",
    "    {latex_block(equation):equation_display}\n",
    "\n",
    "    Using the quadratic formula.\n",
    "    \"\"\")"
   ]
  },
  {
   "cell_type": "markdown",
   "id": "22",
   "metadata": {},
   "source": [
    "## 10. Code Blocks\n",
    "\n",
    "Create fenced code blocks with structured, interpolated code pieces. This is useful for generating code examples with variable parts."
   ]
  },
  {
   "cell_type": "code",
   "execution_count": null,
   "id": "23",
   "metadata": {},
   "outputs": [],
   "source": [
    "# Helper for code blocks\n",
    "def code_block(language: str, code):\n",
    "    return dedent(t\"\"\"\n",
    "        ```{language}\n",
    "        {code:code}\n",
    "        ```\n",
    "        \"\"\")\n",
    "\n",
    "\n",
    "function_name = \"calculate_total\"\n",
    "param_name = \"items\"\n",
    "operation = \"sum(item.price for item in items)\"\n",
    "\n",
    "code = dedent(t\"\"\"\n",
    "    def {function_name:fn_name}({param_name:param}):\n",
    "        return {operation:calc}\n",
    "    \"\"\")\n",
    "\n",
    "dedent(t\"\"\"\n",
    "    Here's a function to calculate totals:\n",
    "\n",
    "    {code_block(\"python\", code):code_example}\n",
    "    \"\"\")"
   ]
  },
  {
   "cell_type": "markdown",
   "id": "24",
   "metadata": {},
   "source": [
    "## 11. List Interpolations\n",
    "\n",
    "Interpolate lists of `StructuredPrompt` objects with custom separators using `sep=` in the format spec. Default separator is newline."
   ]
  },
  {
   "cell_type": "code",
   "execution_count": null,
   "id": "25",
   "metadata": {},
   "outputs": [],
   "source": [
    "# Create a list of bullet items\n",
    "features = [\"Fast performance\", \"Type safety\", \"Great DX\"]\n",
    "feature_prompts = [prompt(t\"- {features[i]:feature_{str(i)}}\") for i in range(len(features))]\n",
    "\n",
    "# Also demonstrate custom separator\n",
    "tags = [\"python\", \"prompts\", \"llm\"]\n",
    "tag_prompts = [prompt(t\"{tags[i]:tag_{str(i)}}\") for i in range(len(tags))]\n",
    "\n",
    "dedent(t\"\"\"\n",
    "    Key Features:\n",
    "    {feature_prompts:features}\n",
    "\n",
    "    Tags: {tag_prompts:tags:sep=, }\n",
    "    \"\"\")"
   ]
  },
  {
   "cell_type": "markdown",
   "id": "26",
   "metadata": {},
   "source": [
    "## 12. Tables\n",
    "\n",
    "Create markdown tables with interpolated cells, rows, or multi-row data. Tables are just text, but interpolations let you track provenance of each value."
   ]
  },
  {
   "cell_type": "code",
   "execution_count": null,
   "id": "27",
   "metadata": {},
   "outputs": [],
   "source": [
    "# Single cell interpolation\n",
    "metric_name = \"Accuracy\"\n",
    "metric_value = \"94.5%\"\n",
    "\n",
    "# Multi-row data\n",
    "data_rows = [\n",
    "    (\"Precision\", \"92.1%\"),\n",
    "    (\"Recall\", \"91.8%\"),\n",
    "    (\"F1 Score\", \"91.9%\"),\n",
    "]\n",
    "\n",
    "# Build rows with interpolations\n",
    "row_prompts = [\n",
    "    prompt(t\"| {data_rows[i][0]:metric_{str(i)}} | {data_rows[i][1]:value_{str(i)}} |\") for i in range(len(data_rows))\n",
    "]\n",
    "\n",
    "dedent(t\"\"\"\n",
    "    ## Model Metrics\n",
    "\n",
    "    | Metric | Value |\n",
    "    |--------|-------|\n",
    "    | {metric_name:metric} | {metric_value:value} |\n",
    "    {row_prompts:additional_rows}\n",
    "    \"\"\")"
   ]
  },
  {
   "cell_type": "markdown",
   "id": "28",
   "metadata": {},
   "source": [
    "## 13. Navigation & Introspection\n",
    "\n",
    "`StructuredPrompt` implements the mapping protocol, allowing dictionary-like access to interpolations. Navigate nested structures with chained subscripts."
   ]
  },
  {
   "cell_type": "code",
   "execution_count": null,
   "id": "29",
   "metadata": {},
   "outputs": [],
   "source": [
    "# Create a nested structure\n",
    "inner = prompt(t\"Inner value: {'data':inner_data}\")\n",
    "outer = dedent(t\"\"\"\n",
    "    Outer context: {\"context\":outer_context}\n",
    "    {inner:inner_prompt}\n",
    "    \"\"\")\n",
    "\n",
    "# Navigation examples\n",
    "print(f\"Top-level keys: {list(outer.keys())}\")\n",
    "print(f\"Outer context: {outer['outer_context'].value}\")\n",
    "print(f\"Inner prompt keys: {list(outer['inner_prompt'].keys())}\")\n",
    "print(f\"Nested access: {outer['inner_prompt']['inner_data'].value}\")\n",
    "\n",
    "# Mapping protocol\n",
    "print(\"\\nIterating with .items():\")\n",
    "for key, node in outer.items():\n",
    "    print(f\"  {key}: {type(node).__name__}\")\n",
    "\n",
    "outer"
   ]
  },
  {
   "cell_type": "markdown",
   "id": "30",
   "metadata": {},
   "source": [
    "## 14. Source Code Tracking\n",
    "\n",
    "t-prompts preserves **provenance**: the original expressions, values, and source locations of every interpolation. This enables powerful debugging and introspection."
   ]
  },
  {
   "cell_type": "code",
   "execution_count": null,
   "id": "31",
   "metadata": {},
   "outputs": [],
   "source": [
    "api_key = \"sk-1234567890\"\n",
    "endpoint = \"https://api.example.com\"\n",
    "\n",
    "p = prompt(t\"API: {endpoint:endpoint}, Key: {api_key:key}\")\n",
    "\n",
    "# Access provenance information\n",
    "endpoint_node = p[\"endpoint\"]\n",
    "print(f\"Expression: {endpoint_node.expression}\")\n",
    "print(f\"Value: {endpoint_node.value}\")\n",
    "print(f\"Key: {endpoint_node.key}\")\n",
    "\n",
    "# The template preserves the original structure\n",
    "print(f\"\\nTemplate strings: {p.template.strings}\")\n",
    "print(f\"Template interpolations: {[interp.expression for interp in p.template.interpolations]}\")\n",
    "\n",
    "# Source information\n",
    "print(f\"\\nSource: {p.creation_location}\")\n",
    "\n",
    "p"
   ]
  },
  {
   "cell_type": "markdown",
   "id": "32",
   "metadata": {},
   "source": [
    "## 15. JSON Export\n",
    "\n",
    "Export the entire prompt structure to JSON using `toJSON()`. This creates a serializable representation of the prompt including all nested structures and metadata."
   ]
  },
  {
   "cell_type": "code",
   "execution_count": null,
   "id": "33",
   "metadata": {},
   "outputs": [],
   "source": [
    "import json\n",
    "\n",
    "# Create a structured prompt\n",
    "task = \"translation\"\n",
    "language = \"French\"\n",
    "inner = prompt(t\"Target: {language:lang}\")\n",
    "\n",
    "p = dedent(t\"\"\"\n",
    "    Task: {task:task}\n",
    "    {inner:config}\n",
    "    \"\"\")\n",
    "\n",
    "# Export to JSON\n",
    "json_data = p.toJSON()\n",
    "jsons = json.dumps(json_data)\n",
    "print(f\"{jsons[:40]} ... {jsons[-40:]}\")\n",
    "\n",
    "p"
   ]
  },
  {
   "cell_type": "markdown",
   "id": "34",
   "metadata": {},
   "source": [
    "## 16. Rendered Diffs\n",
    "\n",
    "**RenderedDiff** shows text-level differences between two prompts. It compares the final rendered text and highlights what changed."
   ]
  },
  {
   "cell_type": "code",
   "execution_count": null,
   "id": "35",
   "metadata": {},
   "outputs": [],
   "source": [
    "from t_prompts import diff_rendered_prompts\n",
    "\n",
    "# Original prompt\n",
    "version = \"1.0\"\n",
    "feature = \"basic auth\"\n",
    "old_prompt = dedent(t\"\"\"\n",
    "    Version: {version:version}\n",
    "    Feature: {feature:feature}\n",
    "    Status: In development\n",
    "    \"\"\")\n",
    "\n",
    "# Updated prompt\n",
    "version = \"2.0\"\n",
    "feature = \"OAuth2\"\n",
    "new_prompt = dedent(t\"\"\"\n",
    "    Version: {version:version}\n",
    "    Feature: {feature:feature}\n",
    "    Status: Released\n",
    "    \"\"\")\n",
    "\n",
    "# Create and display the diff\n",
    "diff_rendered_prompts(old_prompt, new_prompt)"
   ]
  },
  {
   "cell_type": "markdown",
   "id": "36",
   "metadata": {},
   "source": [
    "## 17. Structural Diffs\n",
    "\n",
    "**StructuralDiff** compares the structure and interpolations of two prompts, showing what changed at the semantic level rather than just text level."
   ]
  },
  {
   "cell_type": "code",
   "execution_count": null,
   "id": "37",
   "metadata": {},
   "outputs": [],
   "source": [
    "from t_prompts.diff import diff_structured_prompts\n",
    "\n",
    "# Create two prompts with different structures\n",
    "model_v1 = \"GPT-3\"\n",
    "temp_v1 = \"0.7\"\n",
    "old = dedent(t\"\"\"\n",
    "    Model: {model_v1:model}\n",
    "    Temperature: {temp_v1:temperature}\n",
    "    \"\"\")\n",
    "\n",
    "model_v2 = \"GPT-4\"\n",
    "temp_v2 = \"0.8\"\n",
    "max_tokens = \"2048\"\n",
    "new = dedent(t\"\"\"\n",
    "    Model: {model_v2:model}\n",
    "    Temperature: {temp_v2:temperature}\n",
    "    Max Tokens: {max_tokens:max_tokens}\n",
    "    \"\"\")\n",
    "\n",
    "# Create and display the structural diff\n",
    "diff_structured_prompts(old, new)"
   ]
  },
  {
   "cell_type": "markdown",
   "id": "38",
   "metadata": {},
   "source": [
    "## 18. Understanding IR (Intermediate Representation)\n",
    "\n",
    "The **IR (Intermediate Representation)** is the linear sequence of text/image chunks that t-prompts builds from your template string.  To make a call to an LLM, you would assemble these chunks into a message(s) (multimodal scenarios will typically interleave text and image messages) \n",
    "\n",
    "You can access the IR to inspect the internal structure."
   ]
  },
  {
   "cell_type": "code",
   "execution_count": null,
   "id": "39",
   "metadata": {},
   "outputs": [],
   "source": [
    "content = \"Hello\"\n",
    "name = \"World\"\n",
    "\n",
    "p = prompt(t\"{content:greeting}, {name:target}!\")\n",
    "\n",
    "# Access the IR\n",
    "ir = p.ir()\n",
    "print(f\"IR type: {type(ir).__name__}\")\n",
    "print(f\"IR chunks: {len(ir._chunks)}\")\n",
    "print(\"\\nIR structure:\")\n",
    "for i, chunk in enumerate(ir._chunks):\n",
    "    print(f\"  Chunk {i}: {type(chunk).__name__}\")\n",
    "    print(f\"  Id: {chunk.id}\")"
   ]
  },
  {
   "cell_type": "markdown",
   "id": "40",
   "metadata": {},
   "source": [
    "## 19. Understanding CompiledIR\n",
    "\n",
    "The **CompiledIR** is an optimized, flattened representation of the IR that's used for efficient rendering and diff computation.\n",
    "\n",
    "It builds efficient indices into the original prompt tree and is useful analayzing and optimizing te prompt. "
   ]
  },
  {
   "cell_type": "code",
   "execution_count": null,
   "id": "41",
   "metadata": {},
   "outputs": [],
   "source": [
    "# Create a nested prompt to see compilation in action\n",
    "inner = prompt(t\"Inner: {'data':data}\")\n",
    "items = [prompt(t\"Item {str(i):item_{i}}\") for i in range(3)]\n",
    "\n",
    "p = dedent(t\"\"\"\n",
    "    Header text\n",
    "    {inner:nested}\n",
    "    List: {items:items:sep=, }\n",
    "    \"\"\")\n",
    "\n",
    "# Access the compiled IR\n",
    "compiled = p.ir().compile()\n",
    "print(f\"CompiledIR type: {type(compiled).__name__}\")"
   ]
  },
  {
   "cell_type": "markdown",
   "id": "42",
   "metadata": {},
   "source": [
    "## Gotchas\n",
    "\n",
    "### IDs are not stable across clones\n",
    "\n",
    "Each node in a StructuredPrompt has an ID that's used for de-duping during JSON export and indexing. However, **these IDs are not stable across clones** or separate constructions of the same prompt.\n",
    "\n",
    "Don't rely on IDs for identity comparison between prompts. Instead, use **StructuralDiff** to compare prompts semantically based on their structure and content, not their internal IDs.\n",
    "\n",
    "### Repeated keys raise exceptions\n",
    "\n",
    "By default, having **duplicate keys** within the same StructuredPrompt raises an exception. Each key must be unique at its level of the hierarchy.\n",
    "\n",
    "```python\n",
    "# This will raise an error:\n",
    "prompt(t\"{a:key} and {b:key}\")  # ❌ Duplicate key 'key'\n",
    "```\n",
    "\n",
    "Why? Repeated keys prevent effective structural diffing and make navigation ambiguous. If you need to represent repeated items, use list interpolations instead.\n",
    "\n",
    "### Prompts are single-use (requires cloning for reuse)\n",
    "\n",
    "Following patterns from ASTs and DOM elements, **a StructuredPrompt can only be parented once**. You cannot interpolate the same prompt object in multiple places.\n",
    "\n",
    "```python\n",
    "p = prompt(t\"reusable content\")\n",
    "parent = prompt(t\"{p:first} and {p:second}\")  # ❌ p already has a parent\n",
    "```\n",
    "\n",
    "**Solution**: Use `clone()` to create independent copies:\n",
    "\n",
    "```python\n",
    "p = prompt(t\"reusable content\")\n",
    "parent = prompt(t\"{p:first} and {p.clone():second}\")  # ✅ Works\n",
    "```\n",
    "\n",
    "Alternatively, use a factory function that constructs a fresh prompt each time you need it."
   ]
  },
  {
   "cell_type": "markdown",
   "id": "43",
   "metadata": {},
   "source": [
    "## Summary\n",
    "\n",
    "You've learned all the major features of t-prompts:\n",
    "\n",
    "✅ **Basics**: t-strings, format specs, dedenting, composition  \n",
    "✅ **Content Types**: XML tags, headers, images, LaTeX, code, lists, tables  \n",
    "✅ **Navigation**: Accessing interpolations, mapping protocol, nested structures  \n",
    "✅ **Introspection**: Source tracking, JSON export, provenance  \n",
    "✅ **Diffs**: Rendered and structural differences  \n",
    "✅ **Internals**: IR and CompiledIR representations  "
   ]
  }
 ],
 "metadata": {
  "kernelspec": {
   "display_name": "structured-prompts",
   "language": "python",
   "name": "python3"
  },
  "language_info": {
   "codemirror_mode": {
    "name": "ipython",
    "version": 3
   },
   "file_extension": ".py",
   "mimetype": "text/x-python",
   "name": "python",
   "nbconvert_exporter": "python",
   "pygments_lexer": "ipython3",
   "version": "3.14.0"
  }
 },
 "nbformat": 4,
 "nbformat_minor": 5
}
