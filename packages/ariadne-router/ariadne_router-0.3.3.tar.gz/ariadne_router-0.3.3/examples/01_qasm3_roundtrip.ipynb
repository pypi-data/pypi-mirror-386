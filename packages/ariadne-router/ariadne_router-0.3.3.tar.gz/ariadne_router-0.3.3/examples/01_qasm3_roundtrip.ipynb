{
 "cells": [
  {
   "cell_type": "markdown",
   "metadata": {},
   "source": [
    "# QASM3 Roundtrip\n",
    "Parse → optimize → verify equivalence; emit QASM 3."
   ]
  },
  {
   "cell_type": "code",
   "execution_count": null,
   "metadata": {},
   "outputs": [],
   "source": [
    "%run 01_qasm3_roundtrip.py"
   ]
  }
 ],
 "metadata": {
  "kernelspec": {"display_name": "Python 3", "language": "python", "name": "python3"},
  "language_info": {"name": "python"}
 },
 "nbformat": 4,
 "nbformat_minor": 5
}
