{
 "cells": [
  {"cell_type":"markdown","metadata":{},"source":["# TN QAOA plan with memory cap\n","Contraction planning stub with cotengra and cap < 24 GiB."]},
  {"cell_type":"code","execution_count":null,"metadata":{},"outputs":[],"source":["%run 03_tn_qaoa.py"]}
 ],
 "metadata": {"kernelspec":{"display_name":"Python 3","language":"python","name":"python3"},"language_info":{"name":"python"}},
 "nbformat": 4,
 "nbformat_minor": 5
}
