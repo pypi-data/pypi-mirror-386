{
 "cells": [
  {
   "cell_type": "markdown",
   "metadata": {},
   "source": [
    "# Variational Quantum Circuits – VQE ansatz exploration across backends"
   ]
  },
  {
   "cell_type": "code",
   "execution_count": null,
   "metadata": {},
   "outputs": [],
   "source": [
    "import numpy as np\n",
    "from qiskit import QuantumCircuit\n",
    "\n",
    "from ariadne import explain_routing, simulate\n",
    "\n",
    "\n",
    "# Create a VQE-style ansatz circuit\n",
    "def create_vqe_ansatz(n_qubits=6, depth=3):\n",
    "    \"\"\"Create a hardware-efficient VQE ansatz.\"\"\"\n",
    "    qc = QuantumCircuit(n_qubits, n_qubits)\n",
    "    \n",
    "    # Initial state preparation\n",
    "    for i in range(n_qubits):\n",
    "        qc.h(i)\n",
    "    \n",
    "    # Variational layers\n",
    "    for _layer in range(depth):\n",
    "        # Entangling layer (nearest-neighbor)\n",
    "        for i in range(0, n_qubits - 1, 2):\n",
    "            qc.cx(i, i + 1)\n",
    "        \n",
    "        # Single-qubit rotations (parameterized)\n",
    "        for i in range(n_qubits):\n",
    "            qc.ry(np.random.uniform(0, 2*np.pi), i)\n",
    "            qc.rz(np.random.uniform(0, 2*np.pi), i)\n",
    "        \n",
    "        # Second entangling layer (next-nearest-neighbor)\n",
    "        for i in range(1, n_qubits - 1, 2):\n",
    "            qc.cx(i, i + 1)\n",
    "    \n",
    "    qc.measure_all()\n",
    "    return qc\n",
    "\n",
    "# Create the ansatz\n",
    "vqe_circuit = create_vqe_ansatz(6, depth=3)\n",
    "print(f\"VQE ansatz: {vqe_circuit.num_qubits} qubits, {vqe_circuit.depth()} depth\")\n",
    "print(f\"Gate counts: {vqe_circuit.count_ops()}\")"
   ]
  },
  {
   "cell_type": "code",
   "execution_count": null,
   "metadata": {},
   "outputs": [],
   "source": [
    "# Test automatic routing for the VQE circuit\n",
    "print(\"Automatic routing analysis:\")\n",
    "explanation = explain_routing(vqe_circuit)\n",
    "print(explanation)\n",
    "\n",
    "# Run with automatic backend selection\n",
    "result_auto = simulate(vqe_circuit, shots=1000)\n",
    "print(f\"\\nAuto-selected backend: {result_auto.backend_used.value}\")\n",
    "print(f\"Execution time: {result_auto.execution_time:.4f}s\")\n",
    "print(f\"Sample counts: {dict(list(result_auto.counts.items())[:3])}\")"
   ]
  },
  {
   "cell_type": "code",
   "execution_count": null,
   "metadata": {},
   "outputs": [],
   "source": [
    "# Compare with explicit backend choices\n",
    "backends_to_test = ['qiskit', 'mps', 'tensor_network']\n",
    "results = {}\n",
    "\n",
    "print(\"\\nBackend comparison for VQE circuit:\")\n",
    "print(\"=\" * 50)\n",
    "\n",
    "for backend in backends_to_test:\n",
    "    try:\n",
    "        result = simulate(vqe_circuit, shots=1000, backend=backend)\n",
    "        results[backend] = result\n",
    "        \n",
    "        # Calculate some basic metrics\n",
    "        total_shots = sum(result.counts.values())\n",
    "        unique_outcomes = len(result.counts)\n",
    "        \n",
    "        print(f\"{backend:15} | {result.execution_time:8.4f}s | {unique_outcomes:4} outcomes | {result.backend_used.value}\")\n",
    "        \n",
    "    except Exception as e:\n",
    "        print(f\"{backend:15} | {'FAILED':>8} | {str(e)[:30]}\")"
   ]
  },
  {
   "cell_type": "code",
   "execution_count": null,
   "metadata": {},
   "outputs": [],
   "source": [
    "# Analyze result consistency\n",
    "print(\"\\nResult consistency check:\")\n",
    "print(\"=\" * 30)\n",
    "\n",
    "# Get the most common outcome from each backend\n",
    "for backend, result in results.items():\n",
    "    most_common = max(result.counts.items(), key=lambda x: x[1])\n",
    "    probability = most_common[1] / sum(result.counts.values())\n",
    "    print(f\"{backend:15}: {most_common[0]} ({probability:.3f})\")"
   ]
  },
  {
   "cell_type": "markdown",
   "metadata": {},
   "source": [
    "This notebook demonstrates how variational circuits like VQE ansätze behave differently across backends. The key insights:\n",
    "\n",
    "1. **Automatic routing** selects the most appropriate backend based on circuit structure\n",
    "2. **Performance varies** significantly between backends for the same circuit\n",
    "3. **Results are consistent** across all working backends (within statistical error)\n",
    "4. **Backend choice matters** for optimization and research workflows"
   ]
  }
 ],
 "metadata": {
  "kernelspec": {
   "display_name": "Python 3",
   "language": "python",
   "name": "python3"
  },
  "language_info": {
   "codemirror_mode": {
    "name": "ipython",
    "version": 3
   },
   "file_extension": ".py",
   "mimetype": "text/x-python",
   "name": "python",
   "nbconvert_exporter": "python",
   "pygments_lexer": "ipython3",
   "version": "3.11.0"
  }
 },
 "nbformat": 4,
 "nbformat_minor": 4
}
