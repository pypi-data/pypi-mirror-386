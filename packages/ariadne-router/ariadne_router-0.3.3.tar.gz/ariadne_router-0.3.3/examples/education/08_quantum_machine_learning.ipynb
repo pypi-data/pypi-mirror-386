{
 "cells": [
  {
   "cell_type": "markdown",
   "metadata": {},
   "source": [
    "# Quantum Machine Learning - Quantum Support Vector Machine (QSVM)\n",
    "\n",
    "Quantum Support Vector Machine is a quantum algorithm that enhances classical machine learning by leveraging quantum feature spaces. This notebook explores QSVM implementation and its potential advantages in classification tasks."
   ]
  },
  {
   "cell_type": "code",
   "execution_count": null,
   "metadata": {},
   "outputs": [],
   "source": [
    "# Import required libraries\n",
    "import time\n",
    "\n",
    "import numpy as np\n",
    "\n",
    "from ariadne import explain_routing, simulate\n",
    "from ariadne.algorithms import QSVM, AlgorithmParameters"
   ]
  },
  {
   "cell_type": "markdown",
   "metadata": {},
   "source": [
    "## Understanding Quantum Support Vector Machine\n",
    "\n",
    "QSVM enhances classical SVM by using quantum kernels:\n",
    "\n",
    "**Classical SVM:** $f(x) = \\text{sign}(\\sum_i \\alpha_i y_i K(x_i, x) + b)$\n",
    "**Quantum enhancement:** $K(x_i, x_j) = |\\langle\\phi(x_i)|\\phi(x_j)\\rangle|^2$\n",
    "\n",
    "where $|\\phi(x)\\rangle$ is the quantum feature map encoding classical data.\n",
    "\n",
    "Key components:\n",
    "1. **Feature Map**: Encodes classical data into quantum states\n",
    "2. **Kernel Evaluation**: Computes inner products in high-dimensional feature space\n",
    "3. **Classical Optimization**: Trains SVM on quantum kernel matrix\n",
    "4. **Classification**: Uses quantum kernel for new data points"
   ]
  },
  {
   "cell_type": "markdown",
   "metadata": {},
   "source": [
    "## Creating QSVM Circuits with Different Configurations"
   ]
  },
  {
   "cell_type": "code",
   "execution_count": null,
   "metadata": {},
   "outputs": [],
   "source": [
    "# Create QSVM circuits with different configurations\n",
    "qsvm_configs = [\n",
    "    {\n",
    "        'n_qubits': 2,\n",
    "        'name': 'QSVM-2 (Basic)',\n",
    "        'custom_params': {'use_feature_map': True, 'use_variational': False}\n",
    "    },\n",
    "    {\n",
    "        'n_qubits': 3,\n",
    "        'name': 'QSVM-3 (Extended)',\n",
    "        'custom_params': {'use_feature_map': True, 'use_variational': False}\n",
    "    },\n",
    "    {\n",
    "        'n_qubits': 4,\n",
    "        'name': 'QSVM-4 (Variational)',\n",
    "        'custom_params': {'use_feature_map': True, 'use_variational': True}\n",
    "    },\n",
    "    {\n",
    "        'n_qubits': 4,\n",
    "        'name': 'QSVM-4 (Feature Map Only)',\n",
    "        'custom_params': {'use_feature_map': True, 'use_variational': False}\n",
    "    }\n",
    "]\n",
    "\n",
    "qsvm_circuits = {}\n",
    "\n",
    "for config in qsvm_configs:\n",
    "    params = AlgorithmParameters(\n",
    "        n_qubits=config['n_qubits'],\n",
    "        custom_params=config['custom_params']\n",
    "    )\n",
    "    \n",
    "    qsvm = QSVM(params)\n",
    "    circuit = qsvm.create_circuit()\n",
    "    qsvm_circuits[config['name']] = circuit\n",
    "    \n",
    "    print(f\"{config['name']}:\")\n",
    "    print(f\"  Qubits: {circuit.num_qubits}\")\n",
    "    print(f\"  Depth: {circuit.depth()}\")\n",
    "    print(f\"  Gate counts: {circuit.count_ops()}\")\n",
    "    print(f\"  Feature map: {config['custom_params']['use_feature_map']}\")\n",
    "    print(f\"  Variational: {config['custom_params']['use_variational']}\")\n",
    "    print()"
   ]
  },
  {
   "cell_type": "markdown",
   "metadata": {},
   "source": [
    "## Visualizing QSVM Circuit Structure"
   ]
  },
  {
   "cell_type": "code",
   "execution_count": null,
   "metadata": {},
   "outputs": [],
   "source": [
    "# Display the 4-qubit QSVM circuit with feature map\n",
    "print(\"4-qubit QSVM Circuit (with feature map):\")\n",
    "print(qsvm_circuits['QSVM-4 (Feature Map Only)'].draw(output='text'))"
   ]
  },
  {
   "cell_type": "markdown",
   "metadata": {},
   "source": [
    "## Testing QSVM Across Different Backends"
   ]
  },
  {
   "cell_type": "code",
   "execution_count": null,
   "metadata": {},
   "outputs": [],
   "source": [
    "# Test 4-qubit QSVM across different backends\n",
    "test_circuit = qsvm_circuits['QSVM-4 (Feature Map Only)']\n",
    "backends = ['stim', 'qiskit', 'mps', 'tensor_network']\n",
    "results = {}\n",
    "\n",
    "print(\"Testing QSVM-4 across backends:\")\n",
    "print(\"=\" * 50)\n",
    "\n",
    "for backend in backends:\n",
    "    try:\n",
    "        start_time = time.time()\n",
    "        result = simulate(test_circuit, shots=1000, backend=backend)\n",
    "        end_time = time.time()\n",
    "        \n",
    "        results[backend] = {\n",
    "            'time': end_time - start_time,\n",
    "            'counts': result.counts,\n",
    "            'backend_used': result.backend_used.value\n",
    "        }\n",
    "        \n",
    "        print(f\"{backend:15} | {end_time - start_time:8.4f}s | {result.backend_used.value}\")\n",
    "        \n",
    "    except Exception as e:\n",
    "        print(f\"{backend:15} | FAILED - {str(e)[:30]}\")\n",
    "        results[backend] = {'error': str(e)}"
   ]
  },
  {
   "cell_type": "markdown",
   "metadata": {},
   "source": [
    "## Analyzing QSVM Measurement Distributions"
   ]
  },
  {
   "cell_type": "code",
   "execution_count": null,
   "metadata": {},
   "outputs": [],
   "source": [
    "# Analyze the measurement outcomes for QSVM\n",
    "print(\"\\nQSVM Measurement Distribution Analysis:\")\n",
    "print(\"=\" * 50)\n",
    "\n",
    "for backend, data in results.items():\n",
    "    if 'error' not in data:\n",
    "        counts = data['counts']\n",
    "        total_shots = sum(counts.values())\n",
    "        \n",
    "        print(f\"\\n{backend.upper()} Results:\")\n",
    "        \n",
    "        # Calculate distribution statistics\n",
    "        num_outcomes = len(counts)\n",
    "        max_count = max(counts.values())\n",
    "        min_count = min(counts.values())\n",
    "        \n",
    "        # Calculate entropy (measure of distribution spread)\n",
    "        entropy = 0.0\n",
    "        for count in counts.values():\n",
    "            if count > 0:\n",
    "                p = count / total_shots\n",
    "                entropy -= p * np.log2(p)\n",
    "        \n",
    "        print(f\"  Number of outcomes: {num_outcomes}\")\n",
    "        print(f\"  Entropy: {entropy:.3f} bits\")\n",
    "        print(f\"  Max count: {max_count} ({max_count/total_shots:.3f})\")\n",
    "        print(f\"  Min count: {min_count} ({min_count/total_shots:.3f})\")\n",
    "        \n",
    "        # Show top 5 most frequent outcomes\n",
    "        sorted_counts = sorted(counts.items(), key=lambda x: x[1], reverse=True)\n",
    "        print(\"  Top 5 outcomes:\")\n",
    "        for i, (outcome, count) in enumerate(sorted_counts[:5]):\n",
    "            prob = count / total_shots\n",
    "            print(f\"    |{outcome}⟩: {count:4d} ({prob:.3f})\")"
   ]
  },
  {
   "cell_type": "markdown",
   "metadata": {},
   "source": [
    "## Feature Map Analysis"
   ]
  },
  {
   "cell_type": "code",
   "execution_count": null,
   "metadata": {},
   "outputs": [],
   "source": [
    "# Compare QSVM with and without feature maps\n",
    "print(\"Feature Map Impact Analysis:\")\n",
    "print(\"=\" * 40)\n",
    "\n",
    "# Create circuits with different data points\n",
    "data_points = [\n",
    "    [0.1, 0.2, 0.3, 0.4],  # Small values\n",
    "    [0.5, 0.5, 0.5, 0.5],  # Medium values\n",
    "    [0.9, 0.8, 0.7, 0.6],  # Large values\n",
    "]\n",
    "\n",
    "feature_map_results = {}\n",
    "\n",
    "for i, data_point in enumerate(data_points):\n",
    "    print(f\"\\nData Point {i+1}: {data_point}\")\n",
    "    \n",
    "    # With feature map\n",
    "    params_with_fm = AlgorithmParameters(\n",
    "        n_qubits=4,\n",
    "        custom_params={\n",
    "            'use_feature_map': True,\n",
    "            'data_point': data_point\n",
    "        }\n",
    "    )\n",
    "    \n",
    "    qsvm_with_fm = QSVM(params_with_fm)\n",
    "    circuit_with_fm = qsvm_with_fm.create_circuit()\n",
    "    \n",
    "    try:\n",
    "        result_with_fm = simulate(circuit_with_fm, shots=1000, backend='qiskit')\n",
    "        counts_with_fm = result_with_fm.counts\n",
    "        \n",
    "        # Calculate entropy\n",
    "        total_shots = sum(counts_with_fm.values())\n",
    "        entropy = 0.0\n",
    "        for count in counts_with_fm.values():\n",
    "            if count > 0:\n",
    "                p = count / total_shots\n",
    "                entropy -= p * np.log2(p)\n",
    "        \n",
    "        print(f\"  With feature map: entropy = {entropy:.3f}\")\n",
    "        \n",
    "        feature_map_results[f'point_{i+1}_with_fm'] = {\n",
    "            'entropy': entropy,\n",
    "            'counts': counts_with_fm\n",
    "        }\n",
    "        \n",
    "    except Exception as e:\n",
    "        print(f\"  With feature map: FAILED - {str(e)[:30]}\")\n",
    "    \n",
    "    # Without feature map (basic circuit)\n",
    "    params_without_fm = AlgorithmParameters(\n",
    "        n_qubits=4,\n",
    "        custom_params={\n",
    "            'use_feature_map': False,\n",
    "            'data_point': data_point\n",
    "        }\n",
    "    )\n",
    "    \n",
    "    qsvm_without_fm = QSVM(params_without_fm)\n",
    "    circuit_without_fm = qsvm_without_fm.create_circuit()\n",
    "    \n",
    "    try:\n",
    "        result_without_fm = simulate(circuit_without_fm, shots=1000, backend='qiskit')\n",
    "        counts_without_fm = result_without_fm.counts\n",
    "        \n",
    "        # Calculate entropy\n",
    "        total_shots = sum(counts_without_fm.values())\n",
    "        entropy = 0.0\n",
    "        for count in counts_without_fm.values():\n",
    "            if count > 0:\n",
    "                p = count / total_shots\n",
    "                entropy -= p * np.log2(p)\n",
    "        \n",
    "        print(f\"  Without feature map: entropy = {entropy:.3f}\")\n",
    "        \n",
    "        feature_map_results[f'point_{i+1}_without_fm'] = {\n",
    "            'entropy': entropy,\n",
    "            'counts': counts_without_fm\n",
    "        }\n",
    "        \n",
    "    except Exception as e:\n",
    "        print(f\"  Without feature map: FAILED - {str(e)[:30]}\")"
   ]
  },
  {
   "cell_type": "markdown",
   "metadata": {},
   "source": [
    "## Scaling Analysis: QSVM Performance with Different Qubit Counts"
   ]
  },
  {
   "cell_type": "code",
   "execution_count": null,
   "metadata": {},
   "outputs": [],
   "source": [
    "# Test scaling behavior of QSVM\n",
    "scaling_results = {}\n",
    "test_sizes = [2, 3, 4]  # Different numbers of qubits\n",
    "test_backend = 'qiskit'  # Use reliable backend for scaling test\n",
    "\n",
    "print(f\"QSVM Scaling Analysis (backend: {test_backend}):\")\n",
    "print(\"=\" * 60)\n",
    "print(f\"{'Qubits':<6} | {'Depth':<6} | {'Time (s)':<9} | {'Entropy':<9} | {'Outcomes':<9}\")\n",
    "print(\"-\" * 50)\n",
    "\n",
    "for n_qubits in test_sizes:\n",
    "    params = AlgorithmParameters(\n",
    "        n_qubits=n_qubits,\n",
    "        custom_params={'use_feature_map': True}\n",
    "    )\n",
    "    \n",
    "    qsvm = QSVM(params)\n",
    "    circuit = qsvm.create_circuit()\n",
    "    \n",
    "    try:\n",
    "        start_time = time.time()\n",
    "        result = simulate(circuit, shots=1000, backend=test_backend)\n",
    "        end_time = time.time()\n",
    "        \n",
    "        # Calculate entropy\n",
    "        counts = result.counts\n",
    "        total_shots = sum(counts.values())\n",
    "        entropy = 0.0\n",
    "        for count in counts.values():\n",
    "            if count > 0:\n",
    "                p = count / total_shots\n",
    "                entropy -= p * np.log2(p)\n",
    "        \n",
    "        print(f\"{n_qubits:<6} | {circuit.depth():<6} | {end_time - start_time:<9.4f} | {entropy:<9.3f} | {len(counts):<9}\")\n",
    "        \n",
    "        scaling_results[n_qubits] = {\n",
    "            'time': end_time - start_time,\n",
    "            'depth': circuit.depth(),\n",
    "            'entropy': entropy,\n",
    "            'outcomes': len(counts)\n",
    "        }\n",
    "        \n",
    "    except Exception as e:\n",
    "        print(f\"{n_qubits:<6} | FAILED - {str(e)[:20]}\")"
   ]
  },
  {
   "cell_type": "markdown",
   "metadata": {},
   "source": [
    "## QSVM Circuit Analysis"
   ]
  },
  {
   "cell_type": "code",
   "execution_count": null,
   "metadata": {},
   "outputs": [],
   "source": [
    "# Analyze circuit properties for different QSVM configurations\n",
    "print(\"\\nQSVM Circuit Properties:\")\n",
    "print(\"=\" * 30)\n",
    "\n",
    "for config_name, circuit in qsvm_circuits.items():\n",
    "    # Get the corresponding parameters\n",
    "    config = next(c for c in qsvm_configs if c['name'] == config_name)\n",
    "    \n",
    "    params = AlgorithmParameters(\n",
    "        n_qubits=config['n_qubits'],\n",
    "        custom_params=config['custom_params']\n",
    "    )\n",
    "    \n",
    "    qsvm = QSVM(params)\n",
    "    analysis = qsvm.analyze_circuit_properties()\n",
    "    \n",
    "    print(f\"\\n{config_name}:\")\n",
    "    print(f\"  Qubits: {analysis['n_qubits']}\")\n",
    "    print(f\"  Depth: {analysis['depth']}\")\n",
    "    print(f\"  Total gates: {analysis['size']}\")\n",
    "    print(f\"  Two-qubit gates: {analysis['two_qubit_gates']}\")\n",
    "    print(f\"  Entanglement heuristic: {analysis['entanglement_heuristic']:.2f}\")\n",
    "    print(f\"  Gate types: {list(analysis['gate_counts'].keys())}\")"
   ]
  },
  {
   "cell_type": "markdown",
   "metadata": {},
   "source": [
    "## Understanding Quantum Feature Maps"
   ]
  },
  {
   "cell_type": "code",
   "execution_count": null,
   "metadata": {},
   "outputs": [],
   "source": [
    "# Explain the ZZ feature map used in QSVM\n",
    "print(\"Quantum Feature Map (ZZ Feature Map):\")\n",
    "print(\"=\" * 40)\n",
    "print()\n",
    "print(\"Encoding process:\")\n",
    "print(\"1. Apply Hadamard gates: |0⟩ → (|0⟩ + |1⟩)/√2\")\n",
    "print(\"2. Apply Z rotations: RZ(2xi) based on data xi\")\n",
    "print(\"3. Apply entangling ZZ rotations: RZZ(2xi xj) between qubits\")\n",
    "print()\n",
    "print(\"Mathematical form:\")\n",
    "print(\"|φ(x)⟩ = ∏_i H_i RZ(2xi)_i ∏_i<j RZZ(2xi xj)_ij |0⟩^⊗n\")\n",
    "print()\n",
    "print(\"Kernel function:\")\n",
    "print(\"K(x, x') = |⟨φ(x)|φ(x')⟩|^2\")\n",
    "print()\n",
    "print(\"Advantages:\")\n",
    "print(\"- Maps to high-dimensional Hilbert space\")\n",
    "print(\"- Creates entanglement based on data correlations\")\n",
    "print(\"- Potentially captures complex patterns in data\")\n",
    "print(\"- Quantum advantage for certain data distributions\")"
   ]
  },
  {
   "cell_type": "markdown",
   "metadata": {},
   "source": [
    "## Educational Content: QSVM Mathematical Background"
   ]
  },
  {
   "cell_type": "code",
   "execution_count": null,
   "metadata": {},
   "outputs": [],
   "source": [
    "# Get educational content about QSVM\n",
    "params = AlgorithmParameters(\n",
    "    n_qubits=4,\n",
    "    custom_params={'use_feature_map': True}\n",
    ")\n",
    "\n",
    "qsvm = QSVM(params)\n",
    "educational_content = qsvm.get_educational_content()\n",
    "\n",
    "print(\"=== QSVM Mathematical Background ===\")\n",
    "print(educational_content['mathematical_background'])\n",
    "\n",
    "print(\"\\n=== Implementation Notes ===\")\n",
    "print(educational_content['implementation_notes'])\n",
    "\n",
    "print(\"\\n=== Applications ===\")\n",
    "print(educational_content['applications'])"
   ]
  },
  {
   "cell_type": "markdown",
   "metadata": {},
   "source": [
    "## Routing Analysis for QSVM"
   ]
  },
  {
   "cell_type": "code",
   "execution_count": null,
   "metadata": {},
   "outputs": [],
   "source": [
    "# Analyze how Ariadne routes QSVM circuits\n",
    "print(\"Routing Analysis for QSVM-4:\")\n",
    "print(\"=\" * 30)\n",
    "\n",
    "explanation = explain_routing(test_circuit)\n",
    "print(explanation)"
   ]
  },
  {
   "cell_type": "markdown",
   "metadata": {},
   "source": [
    "## Key Takeaways\n",
    "\n",
    "1. **Quantum Enhancement**: QSVM uses quantum feature spaces to potentially improve classification\n",
    "2. **Feature Maps**: Critical for encoding classical data into quantum states\n",
    "3. **Kernel Evaluation**: Quantum circuits compute inner products in high-dimensional spaces\n",
    "4. **Hybrid Approach**: Combines quantum kernel evaluation with classical optimization\n",
    "5. **Variational Options**: Trainable feature maps can be optimized for specific datasets\n",
    "\n",
    "Quantum Machine Learning represents an exciting frontier where quantum computing meets artificial intelligence. While still in early stages, algorithms like QSVM demonstrate the potential for quantum advantage in specific machine learning tasks, particularly those involving high-dimensional feature spaces and complex data patterns."
   ]
  }
 ],
 "metadata": {
  "kernelspec": {
   "display_name": "Python 3",
   "language": "python",
   "name": "python3"
  },
  "language_info": {
   "codemirror_mode": {
    "name": "ipython",
    "version": 3
   },
   "file_extension": ".py",
   "mimetype": "text/x-python",
   "name": "python",
   "nbconvert_exporter": "python",
   "pygments_lexer": "ipython3",
   "version": "3.11.0"
  }
 },
 "nbformat": 4,
 "nbformat_minor": 4
}
