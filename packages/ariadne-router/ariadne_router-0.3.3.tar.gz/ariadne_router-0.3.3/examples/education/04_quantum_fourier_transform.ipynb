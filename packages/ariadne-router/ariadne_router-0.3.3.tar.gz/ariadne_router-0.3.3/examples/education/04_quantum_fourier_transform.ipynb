{
 "cells": [
  {
   "cell_type": "markdown",
   "metadata": {},
   "source": [
    "# Quantum Fourier Transform (QFT) - Foundation of Quantum Algorithms\n",
    "\n",
    "The Quantum Fourier Transform is a fundamental quantum algorithm that serves as the basis for many other important algorithms including Shor's factoring algorithm and quantum phase estimation. This notebook explores QFT implementation and its behavior across different quantum simulators."
   ]
  },
  {
   "cell_type": "code",
   "execution_count": null,
   "metadata": {},
   "outputs": [],
   "source": [
    "# Import required libraries\n",
    "import time\n",
    "\n",
    "from ariadne import explain_routing, simulate\n",
    "from ariadne.algorithms import AlgorithmParameters, QuantumFourierTransform"
   ]
  },
  {
   "cell_type": "markdown",
   "metadata": {},
   "source": [
    "## Understanding the Quantum Fourier Transform\n",
    "\n",
    "The QFT is the quantum analogue of the discrete Fourier transform:\n",
    "\n",
    "$QFT|x\\rangle = \\frac{1}{\\sqrt{N}} \\sum_{y=0}^{N-1} e^{2\\pi i xy/N} |y\\rangle$\n",
    "\n",
    "where $N = 2^n$ for n qubits.\n",
    "\n",
    "Key properties:\n",
    "- Transforms computational basis states to Fourier basis\n",
    "- Provides exponential speedup over classical FFT\n",
    "- Essential for phase estimation and period finding"
   ]
  },
  {
   "cell_type": "markdown",
   "metadata": {},
   "source": [
    "## Creating QFT Circuits with Different Sizes"
   ]
  },
  {
   "cell_type": "code",
   "execution_count": null,
   "metadata": {},
   "outputs": [],
   "source": [
    "# Create QFT circuits of different sizes\n",
    "qft_sizes = [2, 3, 4, 5]\n",
    "qft_circuits = {}\n",
    "\n",
    "for n_qubits in qft_sizes:\n",
    "    params = AlgorithmParameters(n_qubits=n_qubits)\n",
    "    qft = QuantumFourierTransform(params)\n",
    "    circuit = qft.create_circuit()\n",
    "    qft_circuits[n_qubits] = circuit\n",
    "    \n",
    "    print(f\"QFT-{n_qubits}: {circuit.num_qubits} qubits, {circuit.depth()} depth\")\n",
    "    print(f\"Gate counts: {circuit.count_ops()}\")\n",
    "    print()"
   ]
  },
  {
   "cell_type": "markdown",
   "metadata": {},
   "source": [
    "## Visualizing QFT Circuit Structure"
   ]
  },
  {
   "cell_type": "code",
   "execution_count": null,
   "metadata": {},
   "outputs": [],
   "source": [
    "# Display the 4-qubit QFT circuit\n",
    "print(\"4-qubit QFT Circuit:\")\n",
    "print(qft_circuits[4].draw(output='text'))"
   ]
  },
  {
   "cell_type": "markdown",
   "metadata": {},
   "source": [
    "## Testing QFT Across Different Backends"
   ]
  },
  {
   "cell_type": "code",
   "execution_count": null,
   "metadata": {},
   "outputs": [],
   "source": [
    "# Test 4-qubit QFT across different backends\n",
    "test_circuit = qft_circuits[4]\n",
    "backends = ['stim', 'qiskit', 'mps', 'tensor_network']\n",
    "results = {}\n",
    "\n",
    "print(\"Testing QFT-4 across backends:\")\n",
    "print(\"=\" * 50)\n",
    "\n",
    "for backend in backends:\n",
    "    try:\n",
    "        start_time = time.time()\n",
    "        result = simulate(test_circuit, shots=1000, backend=backend)\n",
    "        end_time = time.time()\n",
    "        \n",
    "        results[backend] = {\n",
    "            'time': end_time - start_time,\n",
    "            'counts': result.counts,\n",
    "            'backend_used': result.backend_used.value\n",
    "        }\n",
    "        \n",
    "        print(f\"{backend:15} | {end_time - start_time:8.4f}s | {result.backend_used.value}\")\n",
    "        \n",
    "    except Exception as e:\n",
    "        print(f\"{backend:15} | FAILED - {str(e)[:30]}\")\n",
    "        results[backend] = {'error': str(e)}"
   ]
  },
  {
   "cell_type": "markdown",
   "metadata": {},
   "source": [
    "## Analyzing QFT Results"
   ]
  },
  {
   "cell_type": "code",
   "execution_count": null,
   "metadata": {},
   "outputs": [],
   "source": [
    "# Analyze the distribution of measurement outcomes\n",
    "print(\"\\nQFT Measurement Outcomes:\")\n",
    "print(\"=\" * 40)\n",
    "\n",
    "for backend, data in results.items():\n",
    "    if 'error' not in data:\n",
    "        print(f\"\\n{backend.upper()} Results:\")\n",
    "        counts = data['counts']\n",
    "        total_shots = sum(counts.values())\n",
    "        \n",
    "        # Sort by measurement outcome\n",
    "        sorted_counts = sorted(counts.items(), key=lambda x: x[0])\n",
    "        \n",
    "        for outcome, count in sorted_counts[:8]:  # Show first 8 outcomes\n",
    "            probability = count / total_shots\n",
    "            print(f\"  |{outcome}⟩: {count:4d} ({probability:.3f})\")\n",
    "        \n",
    "        if len(sorted_counts) > 8:\n",
    "            print(f\"  ... and {len(sorted_counts) - 8} more outcomes\")"
   ]
  },
  {
   "cell_type": "markdown",
   "metadata": {},
   "source": [
    "## Understanding QFT Scaling Behavior"
   ]
  },
  {
   "cell_type": "code",
   "execution_count": null,
   "metadata": {},
   "outputs": [],
   "source": [
    "# Test scaling behavior of QFT\n",
    "scaling_results = {}\n",
    "test_sizes = [2, 3, 4, 5]\n",
    "test_backend = 'qiskit'  # Use reliable backend for scaling test\n",
    "\n",
    "print(f\"QFT Scaling Analysis (backend: {test_backend}):\")\n",
    "print(\"=\" * 50)\n",
    "print(f\"{'Qubits':<6} | {'Depth':<6} | {'Time (s)':<9} | {'Gate Count':<10}\")\n",
    "print(\"-\" * 40)\n",
    "\n",
    "for n_qubits in test_sizes:\n",
    "    circuit = qft_circuits[n_qubits]\n",
    "    \n",
    "    try:\n",
    "        start_time = time.time()\n",
    "        result = simulate(circuit, shots=1000, backend=test_backend)\n",
    "        end_time = time.time()\n",
    "        \n",
    "        gate_count = len(circuit.data)\n",
    "        \n",
    "        print(f\"{n_qubits:<6} | {circuit.depth():<6} | {end_time - start_time:<9.4f} | {gate_count:<10}\")\n",
    "        \n",
    "        scaling_results[n_qubits] = {\n",
    "            'time': end_time - start_time,\n",
    "            'depth': circuit.depth(),\n",
    "            'gates': gate_count\n",
    "        }\n",
    "        \n",
    "    except Exception as e:\n",
    "        print(f\"{n_qubits:<6} | FAILED - {str(e)[:20]}\")"
   ]
  },
  {
   "cell_type": "markdown",
   "metadata": {},
   "source": [
    "## QFT Circuit Analysis"
   ]
  },
  {
   "cell_type": "code",
   "execution_count": null,
   "metadata": {},
   "outputs": [],
   "source": [
    "# Analyze circuit properties for different QFT sizes\n",
    "print(\"\\nQFT Circuit Properties:\")\n",
    "print(\"=\" * 30)\n",
    "\n",
    "for n_qubits in test_sizes:\n",
    "    params = AlgorithmParameters(n_qubits=n_qubits)\n",
    "    qft = QuantumFourierTransform(params)\n",
    "    analysis = qft.analyze_circuit_properties()\n",
    "    \n",
    "    print(f\"\\nQFT-{n_qubits}:\")\n",
    "    print(f\"  Qubits: {analysis['n_qubits']}\")\n",
    "    print(f\"  Depth: {analysis['depth']}\")\n",
    "    print(f\"  Total gates: {analysis['size']}\")\n",
    "    print(f\"  Two-qubit gates: {analysis['two_qubit_gates']}\")\n",
    "    print(f\"  Entanglement heuristic: {analysis['entanglement_heuristic']:.2f}\")\n",
    "    print(f\"  Gate types: {list(analysis['gate_counts'].keys())}\")"
   ]
  },
  {
   "cell_type": "markdown",
   "metadata": {},
   "source": [
    "## Educational Content: QFT Mathematical Background"
   ]
  },
  {
   "cell_type": "code",
   "execution_count": null,
   "metadata": {},
   "outputs": [],
   "source": [
    "# Get educational content about QFT\n",
    "params = AlgorithmParameters(n_qubits=4)\n",
    "qft = QuantumFourierTransform(params)\n",
    "educational_content = qft.get_educational_content()\n",
    "\n",
    "print(\"=== QFT Mathematical Background ===\")\n",
    "print(educational_content['mathematical_background'])\n",
    "\n",
    "print(\"\\n=== Implementation Notes ===\")\n",
    "print(educational_content['implementation_notes'])\n",
    "\n",
    "print(\"\\n=== Applications ===\")\n",
    "print(educational_content['applications'])"
   ]
  },
  {
   "cell_type": "markdown",
   "metadata": {},
   "source": [
    "## Routing Analysis for QFT"
   ]
  },
  {
   "cell_type": "code",
   "execution_count": null,
   "metadata": {},
   "outputs": [],
   "source": [
    "# Analyze how Ariadne routes QFT circuits\n",
    "print(\"Routing Analysis for QFT-4:\")\n",
    "print(\"=\" * 30)\n",
    "\n",
    "explanation = explain_routing(test_circuit)\n",
    "print(explanation)"
   ]
  },
  {
   "cell_type": "markdown",
   "metadata": {},
   "source": [
    "## Key Takeaways\n",
    "\n",
    "1. **Circuit Complexity**: QFT depth scales as O(n²) with n qubits\n",
    "2. **Entanglement**: High entanglement due to many controlled-phase gates\n",
    "3. **Backend Performance**: Different backends handle QFT differently based on their strengths\n",
    "4. **Applications**: Foundation for phase estimation, Shor's algorithm, and quantum signal processing\n",
    "5. **Measurement Distribution**: Uniform distribution expected for input |0⟩ state\n",
    "\n",
    "The QFT demonstrates how quantum algorithms can achieve exponential speedups over classical counterparts, making it a cornerstone of quantum computing education and research."
   ]
  }
 ],
 "metadata": {
  "kernelspec": {
   "display_name": "Python 3",
   "language": "python",
   "name": "python3"
  },
  "language_info": {
   "codemirror_mode": {
    "name": "ipython",
    "version": 3
   },
   "file_extension": ".py",
   "mimetype": "text/x-python",
   "name": "python",
   "nbconvert_exporter": "python",
   "pygments_lexer": "ipython3",
   "version": "3.11.0"
  }
 },
 "nbformat": 4,
 "nbformat_minor": 4
}
