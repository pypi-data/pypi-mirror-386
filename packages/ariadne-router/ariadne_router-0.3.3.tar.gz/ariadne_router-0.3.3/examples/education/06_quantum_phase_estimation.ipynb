{
 "cells": [
  {
   "cell_type": "markdown",
   "metadata": {},
   "source": [
    "# Quantum Phase Estimation (QPE) - Precision Measurement with Quantum Speedup\n",
    "\n",
    "Quantum Phase Estimation is a fundamental quantum algorithm that enables precise estimation of eigenphases of unitary operators. It serves as the foundation for many important quantum algorithms including Shor's factoring algorithm and quantum simulation techniques."
   ]
  },
  {
   "cell_type": "code",
   "execution_count": null,
   "metadata": {},
   "outputs": [],
   "source": [
    "# Import required libraries\n",
    "import time\n",
    "\n",
    "from ariadne import explain_routing, simulate\n",
    "from ariadne.algorithms import AlgorithmParameters, QuantumPhaseEstimation"
   ]
  },
  {
   "cell_type": "markdown",
   "metadata": {},
   "source": [
    "## Understanding Quantum Phase Estimation\n",
    "\n",
    "QPE finds the eigenphase φ of a unitary operator U with eigenstate |ψ⟩:\n",
    "\n",
    "$U|\\psi\\rangle = e^{2\\pi i\\phi}|\\psi\\rangle$\n",
    "\n",
    "**Classical complexity:** O(1/ε) for precision ε\n",
    "**Quantum complexity:** O(log(1/ε)) for precision ε\n",
    "\n",
    "Key components:\n",
    "1. **Estimation register**: n qubits for phase representation\n",
    "2. **Eigenstate register**: Contains the eigenstate |ψ⟩\n",
    "3. **Controlled-U operations**: Apply powers of U to create phase kickback\n",
    "4. **Inverse QFT**: Extract binary representation of phase"
   ]
  },
  {
   "cell_type": "markdown",
   "metadata": {},
   "source": [
    "## Creating QPE Circuits with Different Precision"
   ]
  },
  {
   "cell_type": "code",
   "execution_count": null,
   "metadata": {},
   "outputs": [],
   "source": [
    "# Create QPE circuits with different precision levels\n",
    "# Total qubits = estimation qubits + 1 eigenstate qubit\n",
    "qpe_configs = [\n",
    "    {'total_qubits': 3, 'name': 'QPE-2 (1-bit precision)'},\n",
    "    {'total_qubits': 4, 'name': 'QPE-3 (2-bit precision)'},\n",
    "    {'total_qubits': 5, 'name': 'QPE-4 (3-bit precision)'},\n",
    "    {'total_qubits': 6, 'name': 'QPE-5 (4-bit precision)'}\n",
    "]\n",
    "\n",
    "qpe_circuits = {}\n",
    "\n",
    "for config in qpe_configs:\n",
    "    n_qubits = config['total_qubits']\n",
    "    params = AlgorithmParameters(n_qubits=n_qubits)\n",
    "    \n",
    "    qpe = QuantumPhaseEstimation(params)\n",
    "    circuit = qpe.create_circuit()\n",
    "    qpe_circuits[n_qubits] = circuit\n",
    "    \n",
    "    n_estimation = n_qubits - 1\n",
    "    precision_bits = n_estimation\n",
    "    \n",
    "    print(f\"{config['name']}:\")\n",
    "    print(f\"  Total qubits: {n_qubits}\")\n",
    "    print(f\"  Estimation qubits: {n_estimation}\")\n",
    "    print(f\"  Precision: {precision_bits} bits\")\n",
    "    print(f\"  Circuit depth: {circuit.depth()}\")\n",
    "    print(f\"  Gate counts: {circuit.count_ops()}\")\n",
    "    print()"
   ]
  },
  {
   "cell_type": "markdown",
   "metadata": {},
   "source": [
    "## Visualizing QPE Circuit Structure"
   ]
  },
  {
   "cell_type": "code",
   "execution_count": null,
   "metadata": {},
   "outputs": [],
   "source": [
    "# Display the 4-qubit QPE circuit (3 estimation qubits)\n",
    "print(\"4-qubit QPE Circuit (3 estimation qubits, 1 eigenstate qubit):\")\n",
    "print(qpe_circuits[4].draw(output='text'))"
   ]
  },
  {
   "cell_type": "markdown",
   "metadata": {},
   "source": [
    "## Testing QPE Across Different Backends"
   ]
  },
  {
   "cell_type": "code",
   "execution_count": null,
   "metadata": {},
   "outputs": [],
   "source": [
    "# Test 4-qubit QPE across different backends\n",
    "test_circuit = qpe_circuits[4]\n",
    "backends = ['stim', 'qiskit', 'mps', 'tensor_network']\n",
    "results = {}\n",
    "\n",
    "print(\"Testing QPE-4 across backends:\")\n",
    "print(\"=\" * 50)\n",
    "\n",
    "for backend in backends:\n",
    "    try:\n",
    "        start_time = time.time()\n",
    "        result = simulate(test_circuit, shots=1000, backend=backend)\n",
    "        end_time = time.time()\n",
    "        \n",
    "        results[backend] = {\n",
    "            'time': end_time - start_time,\n",
    "            'counts': result.counts,\n",
    "            'backend_used': result.backend_used.value\n",
    "        }\n",
    "        \n",
    "        print(f\"{backend:15} | {end_time - start_time:8.4f}s | {result.backend_used.value}\")\n",
    "        \n",
    "    except Exception as e:\n",
    "        print(f\"{backend:15} | FAILED - {str(e)[:30]}\")\n",
    "        results[backend] = {'error': str(e)}"
   ]
  },
  {
   "cell_type": "markdown",
   "metadata": {},
   "source": [
    "## Analyzing Phase Estimation Results"
   ]
  },
  {
   "cell_type": "code",
   "execution_count": null,
   "metadata": {},
   "outputs": [],
   "source": [
    "# Analyze the phase estimation results\n",
    "# For our implementation, we expect to estimate phase φ = 0.5 (eigenvalue -1 of Z gate)\n",
    "expected_phase = 0.5\n",
    "expected_binary = \"10\"  # 0.5 in 2-bit binary\n",
    "\n",
    "print(\"\\nQPE Results Analysis:\")\n",
    "print(\"=\" * 40)\n",
    "print(f\"Expected phase: {expected_phase}\")\n",
    "print(f\"Expected binary (2 bits): {expected_binary}\")\n",
    "print()\n",
    "\n",
    "for backend, data in results.items():\n",
    "    if 'error' not in data:\n",
    "        counts = data['counts']\n",
    "        total_shots = sum(counts.values())\n",
    "        \n",
    "        print(f\"\\n{backend.upper()} Results:\")\n",
    "        \n",
    "        # Show all measurement outcomes\n",
    "        sorted_counts = sorted(counts.items(), key=lambda x: x[0])\n",
    "        \n",
    "        for outcome, count in sorted_counts:\n",
    "            probability = count / total_shots\n",
    "            \n",
    "            # Extract estimation bits (first 3 bits for 4-qubit case)\n",
    "            if len(outcome) >= 3:\n",
    "                estimation_bits = outcome[:3]\n",
    "                eigenstate_bit = outcome[3] if len(outcome) > 3 else '0'\n",
    "                \n",
    "                # Convert estimation bits to phase\n",
    "                estimated_phase = int(estimation_bits, 2) / 2**len(estimation_bits)\n",
    "                \n",
    "                print(f\"  |{outcome}⟩: {count:4d} ({probability:.3f}) → phase ≈ {estimated_phase:.3f}\")\n",
    "            else:\n",
    "                print(f\"  |{outcome}⟩: {count:4d} ({probability:.3f})\")"
   ]
  },
  {
   "cell_type": "markdown",
   "metadata": {},
   "source": [
    "## Precision Analysis: How Accuracy Improves with More Qubits"
   ]
  },
  {
   "cell_type": "code",
   "execution_count": null,
   "metadata": {},
   "outputs": [],
   "source": [
    "# Test how precision improves with more estimation qubits\n",
    "precision_results = {}\n",
    "test_backend = 'qiskit'  # Use reliable backend for precision test\n",
    "\n",
    "print(f\"QPE Precision Analysis (backend: {test_backend}):\")\n",
    "print(\"=\" * 60)\n",
    "print(f\"{'Total Qubits':<12} | {'Estimation':<11} | {'Precision':<9} | {'Time (s)':<9} | {'Most Likely':<12}\")\n",
    "print(\"-\" * 60)\n",
    "\n",
    "for n_qubits in [3, 4, 5, 6]:\n",
    "    if n_qubits in qpe_circuits:\n",
    "        circuit = qpe_circuits[n_qubits]\n",
    "        n_estimation = n_qubits - 1\n",
    "        \n",
    "        try:\n",
    "            start_time = time.time()\n",
    "            result = simulate(circuit, shots=1000, backend=test_backend)\n",
    "            end_time = time.time()\n",
    "            \n",
    "            # Find most likely outcome\n",
    "            counts = result.counts\n",
    "            most_likely_outcome = max(counts.items(), key=lambda x: x[1])[0]\n",
    "            \n",
    "            # Extract estimation bits and convert to phase\n",
    "            if len(most_likely_outcome) >= n_estimation:\n",
    "                estimation_bits = most_likely_outcome[:n_estimation]\n",
    "                estimated_phase = int(estimation_bits, 2) / 2**n_estimation\n",
    "                \n",
    "                precision = 1 / 2**n_estimation\n",
    "                \n",
    "                print(f\"{n_qubits:<12} | {n_estimation:<11} | {precision:<9.3f} | {end_time - start_time:<9.4f} | {estimated_phase:<12.3f}\")\n",
    "                \n",
    "                precision_results[n_qubits] = {\n",
    "                    'time': end_time - start_time,\n",
    "                    'precision': precision,\n",
    "                    'estimated_phase': estimated_phase,\n",
    "                    'most_likely': most_likely_outcome\n",
    "                }\n",
    "            \n",
    "        except Exception as e:\n",
    "            print(f\"{n_qubits:<12} | {n_estimation:<11} | FAILED - {str(e)[:20]}\")"
   ]
  },
  {
   "cell_type": "markdown",
   "metadata": {},
   "source": [
    "## QPE Circuit Complexity Analysis"
   ]
  },
  {
   "cell_type": "code",
   "execution_count": null,
   "metadata": {},
   "outputs": [],
   "source": [
    "# Analyze circuit properties for different QPE configurations\n",
    "print(\"\\nQPE Circuit Properties:\")\n",
    "print(\"=\" * 30)\n",
    "\n",
    "for n_qubits in sorted(qpe_circuits.keys()):\n",
    "    params = AlgorithmParameters(n_qubits=n_qubits)\n",
    "    qpe = QuantumPhaseEstimation(params)\n",
    "    analysis = qpe.analyze_circuit_properties()\n",
    "    \n",
    "    n_estimation = n_qubits - 1\n",
    "    \n",
    "    print(f\"\\nQPE-{n_qubits} ({n_estimation} estimation qubits):\")\n",
    "    print(f\"  Total qubits: {analysis['n_qubits']}\")\n",
    "    print(f\"  Depth: {analysis['depth']}\")\n",
    "    print(f\"  Total gates: {analysis['size']}\")\n",
    "    print(f\"  Two-qubit gates: {analysis['two_qubit_gates']}\")\n",
    "    print(f\"  Entanglement heuristic: {analysis['entanglement_heuristic']:.2f}\")\n",
    "    print(f\"  Gate types: {list(analysis['gate_counts'].keys())}\")\n",
    "    \n",
    "    # Calculate theoretical precision\n",
    "    precision = 1 / 2**n_estimation\n",
    "    print(f\"  Theoretical precision: ±{precision:.3f}\")"
   ]
  },
  {
   "cell_type": "markdown",
   "metadata": {},
   "source": [
    "## Understanding Controlled-U Operations"
   ]
  },
  {
   "cell_type": "code",
   "execution_count": null,
   "metadata": {},
   "outputs": [],
   "source": [
    "# Demonstrate the controlled-U operations in QPE\n",
    "def analyze_controlled_u_operations(n_qubits):\n",
    "    \"\"\"Analyze the controlled-U operations in QPE circuit.\"\"\"\n",
    "    params = AlgorithmParameters(n_qubits=n_qubits)\n",
    "    qpe = QuantumPhaseEstimation(params)\n",
    "    circuit = qpe.create_circuit()\n",
    "    \n",
    "    n_estimation = n_qubits - 1\n",
    "    \n",
    "    print(f\"Controlled-U Operations for QPE-{n_qubits}:\")\n",
    "    print(f\"Estimation qubits: {n_estimation}\")\n",
    "    print(f\"Eigenstate qubit: {n_qubits - 1}\")\n",
    "    print()\n",
    "    \n",
    "    # Count controlled operations\n",
    "    controlled_operations = 0\n",
    "    for instruction, qubits, _ in circuit.data:\n",
    "        if instruction.name in ['cp', 'cu', 'cx'] and len(qubits) > 1:\n",
    "            controlled_operations += 1\n",
    "    \n",
    "    print(f\"Total controlled operations: {controlled_operations}\")\n",
    "    print(f\"Theoretical controlled-U^(2^k) operations: {n_estimation}\")\n",
    "    print()\n",
    "    \n",
    "    # Show the structure of controlled operations\n",
    "    print(\"Controlled operation pattern:\")\n",
    "    for i in range(n_estimation):\n",
    "        repetitions = 2 ** i\n",
    "        print(f\"  Estimation qubit {i} → Eigenstate: U^{repetitions}\")\n",
    "\n",
    "analyze_controlled_u_operations(4)"
   ]
  },
  {
   "cell_type": "markdown",
   "metadata": {},
   "source": [
    "## Educational Content: QPE Mathematical Background"
   ]
  },
  {
   "cell_type": "code",
   "execution_count": null,
   "metadata": {},
   "outputs": [],
   "source": [
    "# Get educational content about QPE\n",
    "params = AlgorithmParameters(n_qubits=4)\n",
    "qpe = QuantumPhaseEstimation(params)\n",
    "educational_content = qpe.get_educational_content()\n",
    "\n",
    "print(\"=== QPE Mathematical Background ===\")\n",
    "print(educational_content['mathematical_background'])\n",
    "\n",
    "print(\"\\n=== Implementation Notes ===\")\n",
    "print(educational_content['implementation_notes'])\n",
    "\n",
    "print(\"\\n=== Applications ===\")\n",
    "print(educational_content['applications'])"
   ]
  },
  {
   "cell_type": "markdown",
   "metadata": {},
   "source": [
    "## Routing Analysis for QPE"
   ]
  },
  {
   "cell_type": "code",
   "execution_count": null,
   "metadata": {},
   "outputs": [],
   "source": [
    "# Analyze how Ariadne routes QPE circuits\n",
    "print(\"Routing Analysis for QPE-4:\")\n",
    "print(\"=\" * 30)\n",
    "\n",
    "explanation = explain_routing(test_circuit)\n",
    "print(explanation)"
   ]
  },
  {
   "cell_type": "markdown",
   "metadata": {},
   "source": [
    "## Key Takeaways\n",
    "\n",
    "1. **Exponential Precision**: QPE achieves exponential precision improvement with linear qubit increase\n",
    "2. **Phase Kickback**: Controlled-U operations transfer phase information to estimation qubits\n",
    "3. **Inverse QFT**: Essential for extracting binary representation of the phase\n",
    "4. **Circuit Complexity**: Depth scales as O(n²) due to controlled-U operations and inverse QFT\n",
    "5. **Practical Applications**: Foundation for Shor's algorithm, quantum chemistry, and simulation\n",
    "\n",
    "Quantum Phase Estimation demonstrates how quantum algorithms can achieve precision that would require exponentially more resources classically, making it a cornerstone of quantum computing for scientific and computational applications."
   ]
  }
 ],
 "metadata": {
  "kernelspec": {
   "display_name": "Python 3",
   "language": "python",
   "name": "python3"
  },
  "language_info": {
   "codemirror_mode": {
    "name": "ipython",
    "version": 3
   },
   "file_extension": ".py",
   "mimetype": "text/x-python",
   "name": "python",
   "nbconvert_exporter": "python",
   "pygments_lexer": "ipython3",
   "version": "3.11.0"
  }
 },
 "nbformat": 4,
 "nbformat_minor": 4
}
