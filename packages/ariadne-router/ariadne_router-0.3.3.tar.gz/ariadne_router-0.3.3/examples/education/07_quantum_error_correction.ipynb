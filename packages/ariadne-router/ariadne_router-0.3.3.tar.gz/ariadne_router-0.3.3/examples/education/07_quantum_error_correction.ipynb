{
 "cells": [
  {
   "cell_type": "markdown",
   "metadata": {},
   "source": [
    "# Quantum Error Correction - Steane Code for Fault-Tolerant Quantum Computing\n",
    "\n",
    "Quantum Error Correction (QEC) is essential for building reliable quantum computers. This notebook explores the Steane [[7,1,3]] code, a fundamental quantum error correction code that can detect and correct arbitrary single-qubit errors."
   ]
  },
  {
   "cell_type": "code",
   "execution_count": null,
   "metadata": {},
   "outputs": [],
   "source": [
    "# Import required libraries\n",
    "import time\n",
    "\n",
    "from ariadne import explain_routing, simulate\n",
    "from ariadne.algorithms import AlgorithmParameters, SteaneCode"
   ]
  },
  {
   "cell_type": "markdown",
   "metadata": {},
   "source": [
    "## Understanding the Steane Code\n",
    "\n",
    "The Steane code is a [[7,1,3]] CSS (Calderbank-Shor-Steane) quantum error correction code:\n",
    "\n",
    "- **[[n,k,d]] = [[7,1,3]]**: 7 physical qubits encode 1 logical qubit with distance 3\n",
    "- **Distance 3**: Can detect and correct any single-qubit error\n",
    "- **CSS Structure**: Separate X and Z stabilizer measurements\n",
    "\n",
    "Key components:\n",
    "1. **Encoding**: Maps logical |0⟩_L and |1⟩_L to 7-qubit states\n",
    "2. **Stabilizers**: 6 operators that detect errors without disturbing logical information\n",
    "3. **Syndrome measurement**: Extracts error information\n",
    "4. **Recovery**: Applies correction based on syndrome"
   ]
  },
  {
   "cell_type": "markdown",
   "metadata": {},
   "source": [
    "## Creating Steane Code Circuits"
   ]
  },
  {
   "cell_type": "code",
   "execution_count": null,
   "metadata": {},
   "outputs": [],
   "source": [
    "# Create Steane code circuits for different scenarios\n",
    "print(\"Creating Steane Code circuits:\")\n",
    "print(\"=\" * 40)\n",
    "\n",
    "# Basic encoding and error detection\n",
    "params_basic = AlgorithmParameters(n_qubits=7)\n",
    "steane_basic = SteaneCode(params_basic)\n",
    "circuit_basic = steane_basic.create_circuit()\n",
    "\n",
    "print(\"Basic Steane Code Circuit:\")\n",
    "print(f\"  Total qubits: {circuit_basic.num_qubits} (7 data + 6 ancilla)\")\n",
    "print(f\"  Depth: {circuit_basic.depth()}\")\n",
    "print(f\"  Gate counts: {circuit_basic.count_ops()}\")\n",
    "print()\n",
    "\n",
    "# With introduced error for demonstration\n",
    "params_error = AlgorithmParameters(\n",
    "    n_qubits=7,\n",
    "    custom_params={\n",
    "        'introduce_error': True,\n",
    "        'error_qubit': 0,\n",
    "        'error_type': 'X'\n",
    "    }\n",
    ")\n",
    "steane_error = SteaneCode(params_error)\n",
    "circuit_error = steane_error.create_circuit()\n",
    "\n",
    "print(\"Steane Code with X Error on Qubit 0:\")\n",
    "print(f\"  Total qubits: {circuit_error.num_qubits}\")\n",
    "print(f\"  Depth: {circuit_error.depth()}\")\n",
    "print(f\"  Gate counts: {circuit_error.count_ops()}\")\n",
    "print()\n",
    "\n",
    "# Store circuits for later use\n",
    "steane_circuits = {\n",
    "    'basic': circuit_basic,\n",
    "    'with_error': circuit_error\n",
    "}"
   ]
  },
  {
   "cell_type": "markdown",
   "metadata": {},
   "source": [
    "## Visualizing Steane Code Structure"
   ]
  },
  {
   "cell_type": "code",
   "execution_count": null,
   "metadata": {},
   "outputs": [],
   "source": [
    "# Display a simplified version of the Steane code circuit\n",
    "print(\"Simplified Steane Code Circuit Structure:\")\n",
    "print(\"(Showing first 50 operations due to circuit size)\")\n",
    "print()\n",
    "print(circuit_basic.draw(output='text', fold=50))"
   ]
  },
  {
   "cell_type": "markdown",
   "metadata": {},
   "source": [
    "## Testing Steane Code Across Different Backends"
   ]
  },
  {
   "cell_type": "code",
   "execution_count": null,
   "metadata": {},
   "outputs": [],
   "source": [
    "# Test Steane code across different backends\n",
    "test_circuit = circuit_basic\n",
    "backends = ['stim', 'qiskit', 'mps', 'tensor_network']\n",
    "results = {}\n",
    "\n",
    "print(\"Testing Steane Code across backends:\")\n",
    "print(\"=\" * 50)\n",
    "\n",
    "for backend in backends:\n",
    "    try:\n",
    "        start_time = time.time()\n",
    "        result = simulate(test_circuit, shots=1000, backend=backend)\n",
    "        end_time = time.time()\n",
    "        \n",
    "        results[backend] = {\n",
    "            'time': end_time - start_time,\n",
    "            'counts': result.counts,\n",
    "            'backend_used': result.backend_used.value\n",
    "        }\n",
    "        \n",
    "        print(f\"{backend:15} | {end_time - start_time:8.4f}s | {result.backend_used.value}\")\n",
    "        \n",
    "    except Exception as e:\n",
    "        print(f\"{backend:15} | FAILED - {str(e)[:30]}\")\n",
    "        results[backend] = {'error': str(e)}"
   ]
  },
  {
   "cell_type": "markdown",
   "metadata": {},
   "source": [
    "## Analyzing Syndrome Measurements"
   ]
  },
  {
   "cell_type": "code",
   "execution_count": null,
   "metadata": {},
   "outputs": [],
   "source": [
    "# Analyze the syndrome measurement results\n",
    "print(\"\\nSteane Code Syndrome Analysis:\")\n",
    "print(\"=\" * 40)\n",
    "print(\"Qubit layout: [0-6: data qubits, 7-12: X syndrome, 13+: Z syndrome]\")\n",
    "print()\n",
    "\n",
    "for backend, data in results.items():\n",
    "    if 'error' not in data:\n",
    "        counts = data['counts']\n",
    "        total_shots = sum(counts.values())\n",
    "        \n",
    "        print(f\"\\n{backend.upper()} Results:\")\n",
    "        \n",
    "        # Analyze syndrome patterns\n",
    "        syndrome_patterns = {}\n",
    "        \n",
    "        for outcome, count in counts.items():\n",
    "            if len(outcome) >= 13:  # Ensure we have enough bits\n",
    "                # Extract syndrome bits\n",
    "                data_bits = outcome[:7]  # First 7 bits are data qubits\n",
    "                x_syndrome = outcome[7:10]  # Next 3 bits are X syndrome\n",
    "                z_syndrome = outcome[10:13]  # Next 3 bits are Z syndrome\n",
    "                \n",
    "                syndrome = x_syndrome + z_syndrome\n",
    "                syndrome_patterns[syndrome] = syndrome_patterns.get(syndrome, 0) + count\n",
    "        \n",
    "        print(\"  Syndrome patterns found:\")\n",
    "        for syndrome, count in sorted(syndrome_patterns.items(), key=lambda x: x[1], reverse=True):\n",
    "            percentage = (count / total_shots) * 100\n",
    "            x_part = syndrome[:3]\n",
    "            z_part = syndrome[3:]\n",
    "            print(f\"    X:{x_part} Z:{z_part} - {count:4d} shots ({percentage:.1f}%)\")"
   ]
  },
  {
   "cell_type": "markdown",
   "metadata": {},
   "source": [
    "## Error Detection and Correction Demonstration"
   ]
  },
  {
   "cell_type": "code",
   "execution_count": null,
   "metadata": {},
   "outputs": [],
   "source": [
    "# Compare circuits with and without errors\n",
    "print(\"Error Detection Comparison:\")\n",
    "print(\"=\" * 40)\n",
    "\n",
    "error_scenarios = [\n",
    "    {'type': 'no_error', 'name': 'No Error'},\n",
    "    {'type': 'x_error', 'name': 'X Error on Qubit 0'},\n",
    "    {'type': 'z_error', 'name': 'Z Error on Qubit 0'},\n",
    "    {'type': 'y_error', 'name': 'Y Error on Qubit 0'}\n",
    "]\n",
    "\n",
    "scenario_results = {}\n",
    "\n",
    "for scenario in error_scenarios:\n",
    "    if scenario['type'] == 'no_error':\n",
    "        params = AlgorithmParameters(n_qubits=7)\n",
    "    else:\n",
    "        error_type = scenario['type'].split('_')[0].upper()\n",
    "        params = AlgorithmParameters(\n",
    "            n_qubits=7,\n",
    "            custom_params={\n",
    "                'introduce_error': True,\n",
    "                'error_qubit': 0,\n",
    "                'error_type': error_type\n",
    "            }\n",
    "        )\n",
    "    \n",
    "    steane = SteaneCode(params)\n",
    "    circuit = steane.create_circuit()\n",
    "    \n",
    "    try:\n",
    "        result = simulate(circuit, shots=1000, backend='qiskit')\n",
    "        counts = result.counts\n",
    "        \n",
    "        # Calculate syndrome statistics\n",
    "        syndrome_stats = {}\n",
    "        for outcome, count in counts.items():\n",
    "            if len(outcome) >= 13:\n",
    "                x_syndrome = outcome[7:10]\n",
    "                z_syndrome = outcome[10:13]\n",
    "                syndrome = x_syndrome + z_syndrome\n",
    "                syndrome_stats[syndrome] = syndrome_stats.get(syndrome, 0) + count\n",
    "        \n",
    "        # Find most common syndrome\n",
    "        most_common_syndrome = max(syndrome_stats.items(), key=lambda x: x[1])\n",
    "        \n",
    "        scenario_results[scenario['type']] = {\n",
    "            'most_common_syndrome': most_common_syndrome[0],\n",
    "            'frequency': most_common_syndrome[1],\n",
    "            'total_shots': sum(counts.values())\n",
    "        }\n",
    "        \n",
    "        print(f\"\\n{scenario['name']}:\")\n",
    "        print(f\"  Most common syndrome: X:{most_common_syndrome[0][:3]} Z:{most_common_syndrome[0][3:]}\")\n",
    "        print(f\"  Frequency: {most_common_syndrome[1]}/{scenario_results[scenario['type']]['total_shots']} shots\")\n",
    "        \n",
    "    except Exception as e:\n",
    "        print(f\"\\n{scenario['name']}: FAILED - {str(e)[:30]}\")"
   ]
  },
  {
   "cell_type": "markdown",
   "metadata": {},
   "source": [
    "## Steane Code Properties Analysis"
   ]
  },
  {
   "cell_type": "code",
   "execution_count": null,
   "metadata": {},
   "outputs": [],
   "source": [
    "# Analyze circuit properties of the Steane code\n",
    "print(\"\\nSteane Code Circuit Properties:\")\n",
    "print(\"=\" * 30)\n",
    "\n",
    "params = AlgorithmParameters(n_qubits=7)\n",
    "steane = SteaneCode(params)\n",
    "analysis = steane.analyze_circuit_properties()\n",
    "\n",
    "print(f\"Total qubits: {analysis['n_qubits']}\")\n",
    "print(f\"Depth: {analysis['depth']}\")\n",
    "print(f\"Total gates: {analysis['size']}\")\n",
    "print(f\"Two-qubit gates: {analysis['two_qubit_gates']}\")\n",
    "print(f\"Entanglement heuristic: {analysis['entanglement_heuristic']:.2f}\")\n",
    "print()\n",
    "print(\"Gate breakdown:\")\n",
    "for gate_type, count in sorted(analysis['gate_counts'].items(), key=lambda x: x[1], reverse=True):\n",
    "    print(f\"  {gate_type}: {count}\")\n",
    "\n",
    "print()\n",
    "print(\"Steane Code Specifications:\")\n",
    "print(\"  [[n,k,d]] = [[7,1,3]]\")\n",
    "print(\"  Encodes: 1 logical qubit\")\n",
    "print(\"  Physical qubits: 7\")\n",
    "print(\"  Distance: 3 (can correct any single-qubit error)\")\n",
    "print(\"  Rate: k/n = 1/7 ≈ 0.14\")\n",
    "print(\"  Ancilla qubits needed: 6 (3 for X, 3 for Z syndromes)\")"
   ]
  },
  {
   "cell_type": "markdown",
   "metadata": {},
   "source": [
    "## Understanding Stabilizer Measurements"
   ]
  },
  {
   "cell_type": "code",
   "execution_count": null,
   "metadata": {},
   "outputs": [],
   "source": [
    "# Explain the stabilizer structure of the Steane code\n",
    "print(\"Steane Code Stabilizers:\")\n",
    "print(\"=\" * 30)\n",
    "print()\n",
    "print(\"X-type stabilizers (detect bit-flip errors):\")\n",
    "print(\"  S1 = X1 X2 X3 X4\")\n",
    "print(\"  S2 = X1 X2 X5 X6\")\n",
    "print(\"  S3 = X1 X3 X5 X7\")\n",
    "print()\n",
    "print(\"Z-type stabilizers (detect phase-flip errors):\")\n",
    "print(\"  S4 = Z1 Z2 Z3 Z4\")\n",
    "print(\"  S5 = Z1 Z2 Z5 Z6\")\n",
    "print(\"  S6 = Z1 Z3 Z5 Z7\")\n",
    "print()\n",
    "print(\"Error detection:\")\n",
    "print(\"  - Each stabilizer measurement gives 1 bit of syndrome\")\n",
    "print(\"  - 6 total syndrome bits identify error location and type\")\n",
    "print(\"  - All zeros syndrome = no error detected\")\n",
    "print(\"  - Non-zero syndrome = specific error identified\")\n",
    "print()\n",
    "print(\"Logical states:\")\n",
    "print(\"  |0⟩_L = (1/√8) Σ_{a∈C} |a⟩ where C is the [7,4,3] Hamming code\")\n",
    "print(\"  |1⟩_L = X^⊗7 |0⟩_L\")"
   ]
  },
  {
   "cell_type": "markdown",
   "metadata": {},
   "source": [
    "## Educational Content: Steane Code Mathematical Background"
   ]
  },
  {
   "cell_type": "code",
   "execution_count": null,
   "metadata": {},
   "outputs": [],
   "source": [
    "# Get educational content about the Steane code\n",
    "params = AlgorithmParameters(n_qubits=7)\n",
    "steane = SteaneCode(params)\n",
    "educational_content = steane.get_educational_content()\n",
    "\n",
    "print(\"=== Steane Code Mathematical Background ===\")\n",
    "print(educational_content['mathematical_background'])\n",
    "\n",
    "print(\"\\n=== Implementation Notes ===\")\n",
    "print(educational_content['implementation_notes'])\n",
    "\n",
    "print(\"\\n=== Applications ===\")\n",
    "print(educational_content['applications'])"
   ]
  },
  {
   "cell_type": "markdown",
   "metadata": {},
   "source": [
    "## Routing Analysis for Steane Code"
   ]
  },
  {
   "cell_type": "code",
   "execution_count": null,
   "metadata": {},
   "outputs": [],
   "source": [
    "# Analyze how Ariadne routes Steane code circuits\n",
    "print(\"Routing Analysis for Steane Code:\")\n",
    "print(\"=\" * 30)\n",
    "\n",
    "explanation = explain_routing(test_circuit)\n",
    "print(explanation)"
   ]
  },
  {
   "cell_type": "markdown",
   "metadata": {},
   "source": [
    "## Key Takeaways\n",
    "\n",
    "1. **Error Protection**: Steane code can detect and correct any single-qubit error\n",
    "2. **CSS Structure**: Separate X and Z stabilizer measurements simplify implementation\n",
    "3. **Overhead**: Requires 7 physical qubits to encode 1 logical qubit (7:1 overhead)\n",
    "4. **Syndrome Extraction**: 6 syndrome bits identify error location and type\n",
    "5. **Fault Tolerance**: Foundation for building fault-tolerant quantum computers\n",
    "\n",
    "Quantum Error Correction is essential for practical quantum computing. The Steane code demonstrates the fundamental principles of how quantum information can be protected from errors, enabling reliable quantum computation despite the fragile nature of quantum states."
   ]
  }
 ],
 "metadata": {
  "kernelspec": {
   "display_name": "Python 3",
   "language": "python",
   "name": "python3"
  },
  "language_info": {
   "codemirror_mode": {
    "name": "ipython",
    "version": 3
   },
   "file_extension": ".py",
   "mimetype": "text/x-python",
   "name": "python",
   "nbconvert_exporter": "python",
   "pygments_lexer": "ipython3",
   "version": "3.11.0"
  }
 },
 "nbformat": 4,
 "nbformat_minor": 4
}
