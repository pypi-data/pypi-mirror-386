{
 "cells": [
  {
   "cell_type": "markdown",
   "metadata": {},
   "source": [
    "# Grover's Search Algorithm - Quantum Search with Quadratic Speedup\n",
    "\n",
    "Grover's algorithm is one of the most famous quantum algorithms, providing a quadratic speedup for unstructured search problems. This notebook explores the implementation and behavior of Grover's algorithm across different quantum simulators."
   ]
  },
  {
   "cell_type": "code",
   "execution_count": null,
   "metadata": {},
   "outputs": [],
   "source": [
    "# Import required libraries\n",
    "import time\n",
    "\n",
    "from ariadne import explain_routing, simulate\n",
    "from ariadne.algorithms import AlgorithmParameters, GroverSearch"
   ]
  },
  {
   "cell_type": "markdown",
   "metadata": {},
   "source": [
    "## Understanding Grover's Algorithm\n",
    "\n",
    "Grover's algorithm searches an unstructured database of size N = 2^n to find a marked item:\n",
    "\n",
    "**Classical complexity:** O(N) queries\n",
    "**Quantum complexity:** O(√N) queries\n",
    "\n",
    "Key components:\n",
    "1. **Oracle**: Flips the phase of the marked state\n",
    "2. **Diffusion operator**: Inverts about the mean amplitude\n",
    "3. **Amplitude amplification**: Iteratively amplifies the marked state"
   ]
  },
  {
   "cell_type": "markdown",
   "metadata": {},
   "source": [
    "## Creating Grover's Search Circuits"
   ]
  },
  {
   "cell_type": "code",
   "execution_count": null,
   "metadata": {},
   "outputs": [],
   "source": [
    "# Create Grover circuits for different database sizes\n",
    "grover_sizes = [2, 3, 4]  # 4, 8, 16 item databases\n",
    "grover_circuits = {}\n",
    "\n",
    "for n_qubits in grover_sizes:\n",
    "    # Mark the last state (e.g., |11...1⟩) as the target\n",
    "    marked_state = \"1\" * n_qubits\n",
    "    params = AlgorithmParameters(\n",
    "        n_qubits=n_qubits,\n",
    "        custom_params={\"marked_state\": marked_state}\n",
    "    )\n",
    "    \n",
    "    grover = GroverSearch(params)\n",
    "    circuit = grover.create_circuit()\n",
    "    grover_circuits[n_qubits] = circuit\n",
    "    \n",
    "    print(f\"Grover-{n_qubits} (searching in {2**n_qubits} items):\")\n",
    "    print(f\"  Target state: |{marked_state}⟩\")\n",
    "    print(f\"  Circuit: {circuit.num_qubits} qubits, {circuit.depth()} depth\")\n",
    "    print(f\"  Gate counts: {circuit.count_ops()}\")\n",
    "    print()"
   ]
  },
  {
   "cell_type": "markdown",
   "metadata": {},
   "source": [
    "## Visualizing Grover's Circuit Structure"
   ]
  },
  {
   "cell_type": "code",
   "execution_count": null,
   "metadata": {},
   "outputs": [],
   "source": [
    "# Display the 3-qubit Grover circuit\n",
    "print(\"3-qubit Grover Circuit (searching in 8 items):\")\n",
    "print(grover_circuits[3].draw(output='text'))"
   ]
  },
  {
   "cell_type": "markdown",
   "metadata": {},
   "source": [
    "## Testing Grover's Algorithm Across Different Backends"
   ]
  },
  {
   "cell_type": "code",
   "execution_count": null,
   "metadata": {},
   "outputs": [],
   "source": [
    "# Test 3-qubit Grover across different backends\n",
    "test_circuit = grover_circuits[3]\n",
    "backends = ['stim', 'qiskit', 'mps', 'tensor_network']\n",
    "results = {}\n",
    "\n",
    "print(\"Testing Grover-3 across backends:\")\n",
    "print(\"=\" * 50)\n",
    "\n",
    "for backend in backends:\n",
    "    try:\n",
    "        start_time = time.time()\n",
    "        result = simulate(test_circuit, shots=1000, backend=backend)\n",
    "        end_time = time.time()\n",
    "        \n",
    "        results[backend] = {\n",
    "            'time': end_time - start_time,\n",
    "            'counts': result.counts,\n",
    "            'backend_used': result.backend_used.value\n",
    "        }\n",
    "        \n",
    "        print(f\"{backend:15} | {end_time - start_time:8.4f}s | {result.backend_used.value}\")\n",
    "        \n",
    "    except Exception as e:\n",
    "        print(f\"{backend:15} | FAILED - {str(e)[:30]}\")\n",
    "        results[backend] = {'error': str(e)}"
   ]
  },
  {
   "cell_type": "markdown",
   "metadata": {},
   "source": [
    "## Analyzing Search Results"
   ]
  },
  {
   "cell_type": "code",
   "execution_count": null,
   "metadata": {},
   "outputs": [],
   "source": [
    "# Analyze the success probability of finding the marked state\n",
    "target_state = \"111\"  # Our marked state for 3-qubit case\n",
    "\n",
    "print(\"\\nGrover Search Success Analysis:\")\n",
    "print(\"=\" * 40)\n",
    "\n",
    "for backend, data in results.items():\n",
    "    if 'error' not in data:\n",
    "        counts = data['counts']\n",
    "        total_shots = sum(counts.values())\n",
    "        \n",
    "        # Check success probability\n",
    "        target_count = counts.get(target_state, 0)\n",
    "        success_probability = target_count / total_shots\n",
    "        \n",
    "        print(f\"\\n{backend.upper()} Results:\")\n",
    "        print(f\"  Target state |{target_state}⟩: {target_count:4d}/{total_shots} ({success_probability:.3f})\")\n",
    "        \n",
    "        # Show top 3 most frequent outcomes\n",
    "        sorted_counts = sorted(counts.items(), key=lambda x: x[1], reverse=True)\n",
    "        print(\"  Top 3 outcomes:\")\n",
    "        for _i, (outcome, count) in enumerate(sorted_counts[:3]):\n",
    "            prob = count / total_shots\n",
    "            marker = \" ← TARGET\" if outcome == target_state else \"\"\n",
    "            print(f\"    |{outcome}⟩: {count:4d} ({prob:.3f}){marker}\")"
   ]
  },
  {
   "cell_type": "markdown",
   "metadata": {},
   "source": [
    "## Scaling Analysis: How Performance Changes with Database Size"
   ]
  },
  {
   "cell_type": "code",
   "execution_count": null,
   "metadata": {},
   "outputs": [],
   "source": [
    "# Test scaling behavior of Grover's algorithm\n",
    "scaling_results = {}\n",
    "test_sizes = [2, 3, 4]  # 4, 8, 16 item databases\n",
    "test_backend = 'qiskit'  # Use reliable backend for scaling test\n",
    "\n",
    "print(f\"Grover Scaling Analysis (backend: {test_backend}):\")\n",
    "print(\"=\" * 60)\n",
    "print(f\"{'Qubits':<6} | {'Items':<6} | {'Depth':<6} | {'Time (s)':<9} | {'Success %':<9}\")\n",
    "print(\"-\" * 45)\n",
    "\n",
    "for n_qubits in test_sizes:\n",
    "    circuit = grover_circuits[n_qubits]\n",
    "    target_state = \"1\" * n_qubits\n",
    "    \n",
    "    try:\n",
    "        start_time = time.time()\n",
    "        result = simulate(circuit, shots=1000, backend=test_backend)\n",
    "        end_time = time.time()\n",
    "        \n",
    "        # Calculate success probability\n",
    "        counts = result.counts\n",
    "        total_shots = sum(counts.values())\n",
    "        target_count = counts.get(target_state, 0)\n",
    "        success_rate = (target_count / total_shots) * 100\n",
    "        \n",
    "        print(f\"{n_qubits:<6} | {2**n_qubits:<6} | {circuit.depth():<6} | {end_time - start_time:<9.4f} | {success_rate:<9.1f}\")\n",
    "        \n",
    "        scaling_results[n_qubits] = {\n",
    "            'time': end_time - start_time,\n",
    "            'depth': circuit.depth(),\n",
    "            'success_rate': success_rate,\n",
    "            'items': 2**n_qubits\n",
    "        }\n",
    "        \n",
    "    except Exception as e:\n",
    "        print(f\"{n_qubits:<6} | {2**n_qubits:<6} | FAILED - {str(e)[:20]}\")"
   ]
  },
  {
   "cell_type": "markdown",
   "metadata": {},
   "source": [
    "## Number of Iterations Analysis"
   ]
  },
  {
   "cell_type": "code",
   "execution_count": null,
   "metadata": {},
   "outputs": [],
   "source": [
    "# Test how the number of Grover iterations affects success probability\n",
    "def create_grover_with_iterations(n_qubits, iterations):\n",
    "    \"\"\"Create Grover circuit with specific number of iterations.\"\"\"\n",
    "    marked_state = \"1\" * n_qubits\n",
    "    # This is a simplified version - in practice, you'd modify the algorithm\n",
    "    params = AlgorithmParameters(\n",
    "        n_qubits=n_qubits,\n",
    "        custom_params={\"marked_state\": marked_state, \"iterations\": iterations}\n",
    "    )\n",
    "    \n",
    "    grover = GroverSearch(params)\n",
    "    return grover.create_circuit()\n",
    "\n",
    "# Test different iteration counts for 3-qubit case\n",
    "iteration_test = [1, 2, 3, 4]  # Different numbers of Grover iterations\n",
    "n_qubits = 3\n",
    "target_state = \"111\"\n",
    "\n",
    "print(\"Effect of Grover Iterations (3-qubit case):\")\n",
    "print(\"=\" * 50)\n",
    "print(f\"{'Iterations':<10} | {'Success %':<9} | {'Time (s)':<9}\")\n",
    "print(\"-\" * 35)\n",
    "\n",
    "for iterations in iteration_test:\n",
    "    try:\n",
    "        circuit = create_grover_with_iterations(n_qubits, iterations)\n",
    "        \n",
    "        start_time = time.time()\n",
    "        result = simulate(circuit, shots=1000, backend='qiskit')\n",
    "        end_time = time.time()\n",
    "        \n",
    "        # Calculate success probability\n",
    "        counts = result.counts\n",
    "        total_shots = sum(counts.values())\n",
    "        target_count = counts.get(target_state, 0)\n",
    "        success_rate = (target_count / total_shots) * 100\n",
    "        \n",
    "        print(f\"{iterations:<10} | {success_rate:<9.1f} | {end_time - start_time:<9.4f}\")\n",
    "        \n",
    "    except Exception as e:\n",
    "        print(f\"{iterations:<10} | FAILED - {str(e)[:20]}\")"
   ]
  },
  {
   "cell_type": "markdown",
   "metadata": {},
   "source": [
    "## Grover Circuit Analysis"
   ]
  },
  {
   "cell_type": "code",
   "execution_count": null,
   "metadata": {},
   "outputs": [],
   "source": [
    "# Analyze circuit properties for different Grover sizes\n",
    "print(\"\\nGrover Circuit Properties:\")\n",
    "print(\"=\" * 30)\n",
    "\n",
    "for n_qubits in grover_sizes:\n",
    "    marked_state = \"1\" * n_qubits\n",
    "    params = AlgorithmParameters(\n",
    "        n_qubits=n_qubits,\n",
    "        custom_params={\"marked_state\": marked_state}\n",
    "    )\n",
    "    \n",
    "    grover = GroverSearch(params)\n",
    "    analysis = grover.analyze_circuit_properties()\n",
    "    \n",
    "    print(f\"\\nGrover-{n_qubits} (searching in {2**n_qubits} items):\")\n",
    "    print(f\"  Qubits: {analysis['n_qubits']}\")\n",
    "    print(f\"  Depth: {analysis['depth']}\")\n",
    "    print(f\"  Total gates: {analysis['size']}\")\n",
    "    print(f\"  Two-qubit gates: {analysis['two_qubit_gates']}\")\n",
    "    print(f\"  Entanglement heuristic: {analysis['entanglement_heuristic']:.2f}\")\n",
    "    print(f\"  Gate types: {list(analysis['gate_counts'].keys())}\")"
   ]
  },
  {
   "cell_type": "markdown",
   "metadata": {},
   "source": [
    "## Educational Content: Grover's Mathematical Background"
   ]
  },
  {
   "cell_type": "code",
   "execution_count": null,
   "metadata": {},
   "outputs": [],
   "source": [
    "# Get educational content about Grover's algorithm\n",
    "marked_state = \"111\"\n",
    "params = AlgorithmParameters(\n",
    "    n_qubits=3,\n",
    "    custom_params={\"marked_state\": marked_state}\n",
    ")\n",
    "\n",
    "grover = GroverSearch(params)\n",
    "educational_content = grover.get_educational_content()\n",
    "\n",
    "print(\"=== Grover's Mathematical Background ===\")\n",
    "print(educational_content['mathematical_background'])\n",
    "\n",
    "print(\"\\n=== Implementation Notes ===\")\n",
    "print(educational_content['implementation_notes'])\n",
    "\n",
    "print(\"\\n=== Applications ===\")\n",
    "print(educational_content['applications'])"
   ]
  },
  {
   "cell_type": "markdown",
   "metadata": {},
   "source": [
    "## Routing Analysis for Grover's Algorithm"
   ]
  },
  {
   "cell_type": "code",
   "execution_count": null,
   "metadata": {},
   "outputs": [],
   "source": [
    "# Analyze how Ariadne routes Grover circuits\n",
    "print(\"Routing Analysis for Grover-3:\")\n",
    "print(\"=\" * 30)\n",
    "\n",
    "explanation = explain_routing(test_circuit)\n",
    "print(explanation)"
   ]
  },
  {
   "cell_type": "markdown",
   "metadata": {},
   "source": [
    "## Key Takeaways\n",
    "\n",
    "1. **Quadratic Speedup**: Grover's algorithm finds items in O(√N) time vs O(N) classically\n",
    "2. **Amplitude Amplification**: Success probability increases with optimal number of iterations\n",
    "3. **Oracle Dependency**: The algorithm's efficiency depends on the oracle implementation\n",
    "4. **Circuit Complexity**: Depth increases with the number of iterations and database size\n",
    "5. **Backend Performance**: Different simulators handle the multi-controlled gates differently\n",
    "\n",
    "Grover's algorithm demonstrates how quantum mechanics can provide provable speedups for fundamental computational problems, making it essential for quantum computing education and practical applications in search and optimization."
   ]
  }
 ],
 "metadata": {
  "kernelspec": {
   "display_name": "Python 3",
   "language": "python",
   "name": "python3"
  },
  "language_info": {
   "codemirror_mode": {
    "name": "ipython",
    "version": 3
   },
   "file_extension": ".py",
   "mimetype": "text/x-python",
   "name": "python",
   "nbconvert_exporter": "python",
   "pygments_lexer": "ipython3",
   "version": "3.11.0"
  }
 },
 "nbformat": 4,
 "nbformat_minor": 4
}
