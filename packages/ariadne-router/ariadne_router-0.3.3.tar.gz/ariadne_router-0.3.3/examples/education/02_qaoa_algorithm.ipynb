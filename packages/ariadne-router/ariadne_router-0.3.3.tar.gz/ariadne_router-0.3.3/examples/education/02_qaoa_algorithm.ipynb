{
 "cells": [
  {
   "cell_type": "markdown",
   "metadata": {},
   "source": [
    "# QAOA Algorithm – 8-qubit optimization with backend timing comparison"
   ]
  },
  {
   "cell_type": "code",
   "execution_count": null,
   "metadata": {},
   "outputs": [],
   "source": [
    "import time\n",
    "\n",
    "from qiskit import QuantumCircuit\n",
    "\n",
    "from ariadne import simulate\n",
    "\n",
    "\n",
    "# Create 8-qubit QAOA circuit for MaxCut\n",
    "def create_qaoa_circuit(n_qubits=8, p=1):\n",
    "    qc = QuantumCircuit(n_qubits, n_qubits)\n",
    "    \n",
    "    # Initial superposition\n",
    "    for i in range(n_qubits):\n",
    "        qc.h(i)\n",
    "    \n",
    "    # QAOA layers\n",
    "    for _layer in range(p):\n",
    "        # Problem Hamiltonian (MaxCut on ring graph)\n",
    "        for i in range(n_qubits):\n",
    "            qc.cx(i, (i + 1) % n_qubits)\n",
    "            qc.rz(0.5, (i + 1) % n_qubits)\n",
    "            qc.cx(i, (i + 1) % n_qubits)\n",
    "        \n",
    "        # Mixer Hamiltonian\n",
    "        for i in range(n_qubits):\n",
    "            qc.rx(0.3, i)\n",
    "    \n",
    "    qc.measure_all()\n",
    "    return qc\n",
    "\n",
    "# Create the circuit\n",
    "qaoa_circuit = create_qaoa_circuit(8, p=2)\n",
    "print(f\"QAOA circuit: {qaoa_circuit.num_qubits} qubits, {qaoa_circuit.depth()} depth\")"
   ]
  },
  {
   "cell_type": "code",
   "execution_count": null,
   "metadata": {},
   "outputs": [],
   "source": [
    "# Test across different backends and measure timing\n",
    "backends = ['stim', 'qiskit', 'mps', 'tensor_network']\n",
    "results = {}\n",
    "\n",
    "for backend in backends:\n",
    "    try:\n",
    "        start_time = time.time()\n",
    "        result = simulate(qaoa_circuit, shots=1000, backend=backend)\n",
    "        end_time = time.time()\n",
    "        \n",
    "        results[backend] = {\n",
    "            'time': end_time - start_time,\n",
    "            'counts': result.counts,\n",
    "            'backend_used': result.backend_used.value\n",
    "        }\n",
    "        \n",
    "        print(f\"{backend}: {end_time - start_time:.4f}s, backend: {result.backend_used.value}\")\n",
    "    except Exception as e:\n",
    "        print(f\"{backend}: Failed - {e}\")\n",
    "        results[backend] = {'error': str(e)}"
   ]
  },
  {
   "cell_type": "code",
   "execution_count": null,
   "metadata": {},
   "outputs": [],
   "source": [
    "# Display timing table\n",
    "print(\"\\nBackend Timing Comparison:\")\n",
    "print(\"=\" * 40)\n",
    "for backend, data in results.items():\n",
    "    if 'error' not in data:\n",
    "        print(f\"{backend:15} | {data['time']:8.4f}s | {data['backend_used']}\")\n",
    "    else:\n",
    "        print(f\"{backend:15} | {'FAILED':>8} | {data['error']}\")"
   ]
  },
  {
   "cell_type": "markdown",
   "metadata": {},
   "source": [
    "Notice how different backends handle the same QAOA circuit with varying performance. This demonstrates the importance of backend selection for different algorithm types."
   ]
  }
 ],
 "metadata": {
  "kernelspec": {
   "display_name": "Python 3",
   "language": "python",
   "name": "python3"
  },
  "language_info": {
   "codemirror_mode": {
    "name": "ipython",
    "version": 3
   },
   "file_extension": ".py",
   "mimetype": "text/x-python",
   "name": "python",
   "nbconvert_exporter": "python",
   "pygments_lexer": "ipython3",
   "version": "3.11.0"
  }
 },
 "nbformat": 4,
 "nbformat_minor": 4
}
