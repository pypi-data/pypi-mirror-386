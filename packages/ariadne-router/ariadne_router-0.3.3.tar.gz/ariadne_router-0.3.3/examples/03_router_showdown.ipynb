{
 "cells": [
  {"cell_type":"markdown","metadata":{},"source":["# Router Showdown\n","Route same circuit to TN vs. SV vs. DD; justify picks."]},
  {"cell_type":"code","execution_count":null,"metadata":{},"outputs":[],"source":["%run 03_router_showdown.py"]}
 ],
 "metadata": {"kernelspec":{"display_name":"Python 3","language":"python","name":"python3"},"language_info":{"name":"python"}},
 "nbformat": 4,
 "nbformat_minor": 5
}
