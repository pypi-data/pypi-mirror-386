{
 "cells": [
  {"cell_type":"markdown","metadata":{},"source":["# State-vector limits on Apple Silicon\n","Memory scaling for 29–31 qubits; single vs. double."]},
  {"cell_type":"code","execution_count":null,"metadata":{},"outputs":[],"source":["%run 01_sv_limits.py"]}
 ],
 "metadata": {"kernelspec":{"display_name":"Python 3","language":"python","name":"python3"},"language_info":{"name":"python"}},
 "nbformat": 4,
 "nbformat_minor": 5
}
