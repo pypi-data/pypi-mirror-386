{
 "cells": [
  {"cell_type":"markdown","metadata":{},"source":["# Stim QEC sampling throughput (proxy)\n","d=25–35 is heavy; we use a smaller proxy and report throughput."]},
  {"cell_type":"code","execution_count":null,"metadata":{},"outputs":[],"source":["%run 02_stim_qec.py"]}
 ],
 "metadata": {"kernelspec":{"display_name":"Python 3","language":"python","name":"python3"},"language_info":{"name":"python"}},
 "nbformat": 4,
 "nbformat_minor": 5
}
