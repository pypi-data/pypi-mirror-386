{
 "cells": [
  {"cell_type":"markdown","metadata":{},"source":["# Mitigation Autopilot (ZNE)\n","Run ZNE (folding/extrapolation) on a toy observable."]},
  {"cell_type":"code","execution_count":null,"metadata":{},"outputs":[],"source":["%run 02_mitigation_autopilot.py"]}
 ],
 "metadata": {"kernelspec":{"display_name":"Python 3","language":"python","name":"python3"},"language_info":{"name":"python"}},
 "nbformat": 4,
 "nbformat_minor": 5
}
