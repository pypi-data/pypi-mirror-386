{
 "cells": [
  {"cell_type":"markdown","metadata":{},"source":["# Qualtran → Azure Resource Estimates\n","QSP example → Azure estimates (surface vs. Floquet). Stub if not configured."]},
  {"cell_type":"code","execution_count":null,"metadata":{},"outputs":[],"source":["%run 04_qualtran_to_resources.py"]}
 ],
 "metadata": {"kernelspec":{"display_name":"Python 3","language":"python","name":"python3"},"language_info":{"name":"python"}},
 "nbformat": 4,
 "nbformat_minor": 5
}
