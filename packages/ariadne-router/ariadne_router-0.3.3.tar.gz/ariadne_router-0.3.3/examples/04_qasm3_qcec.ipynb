{
 "cells": [
  {"cell_type":"markdown","metadata":{},"source":["# QASM3 + QCEC on Apple Silicon\n","Optimize → QCEC proof → emit OpenQASM 3."]},
  {"cell_type":"code","execution_count":null,"metadata":{},"outputs":[],"source":["%run 04_qasm3_qcec.py"]}
 ],
 "metadata": {"kernelspec":{"display_name":"Python 3","language":"python","name":"python3"},"language_info":{"name":"python"}},
 "nbformat": 4,
 "nbformat_minor": 5
}
