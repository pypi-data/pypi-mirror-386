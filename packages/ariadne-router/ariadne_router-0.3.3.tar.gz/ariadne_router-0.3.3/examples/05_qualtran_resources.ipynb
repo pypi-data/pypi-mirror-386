{
 "cells": [
  {"cell_type":"markdown","metadata":{},"source":["# Qualtran → Azure Resource Estimates (Mac)\n","Outputs a qubits/runtime table by code (stub offline)."]},
  {"cell_type":"code","execution_count":null,"metadata":{},"outputs":[],"source":["%run 05_qualtran_resources.py"]}
 ],
 "metadata": {"kernelspec":{"display_name":"Python 3","language":"python","name":"python3"},"language_info":{"name":"python"}},
 "nbformat": 4,
 "nbformat_minor": 5
}
