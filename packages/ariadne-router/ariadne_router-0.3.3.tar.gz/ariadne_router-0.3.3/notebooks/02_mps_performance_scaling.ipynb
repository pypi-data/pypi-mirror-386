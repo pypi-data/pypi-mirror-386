{
 "cells": [
  {
   "cell_type": "markdown",
   "id": "7fb27b941602401d91542211134fc71a",
   "metadata": {},
   "source": [
    "# 02 - MPS Performance and Scaling: Quantifying the Quantum Advantage\n",
    "\n",
    "This notebook expands upon the concepts introduced in `examples/06_mps_entanglement_demo.py` by demonstrating the practical performance gains of the Matrix Product State (MPS) backend for large, low-entanglement circuits. \n",
    "\n",
    "We will compare the execution time of the MPS backend against a forced run on a dense state vector backend (Qiskit's simulator) as the number of qubits increases, showcasing the polynomial speedup of MPS in this regime."
   ]
  },
  {
   "cell_type": "code",
   "execution_count": null,
   "id": "acae54e37e7d407bbb7b55eff062a284",
   "metadata": {},
   "outputs": [],
   "source": [
    "import time\n",
    "import warnings\n",
    "\n",
    "import matplotlib.pyplot as plt\n",
    "import numpy as np\n",
    "from qiskit import QuantumCircuit\n",
    "\n",
    "from ariadne.router import BackendType, simulate\n",
    "\n",
    "# Suppress Qiskit warnings during simulation\n",
    "warnings.filterwarnings(\"ignore\", category=DeprecationWarning)"
   ]
  },
  {
   "cell_type": "markdown",
   "id": "9a63283cbaf04dbcab1f6479b197f3a8",
   "metadata": {},
   "source": [
    "## 1. Low Entanglement Circuit Generator\n",
    "\n",
    "We define a circuit that maintains low entanglement, ensuring the MPS bond dimension (D) grows slowly (e.g., polynomially or linearly) with the number of qubits (N). This is the 'sweet spot' for MPS."
   ]
  },
  {
   "cell_type": "code",
   "execution_count": null,
   "id": "8dd0d8092fe74a7c96281538738b07e2",
   "metadata": {},
   "outputs": [],
   "source": [
    "def create_low_entanglement_circuit(n_qubits: int) -> QuantumCircuit:\n",
    "    \"\"\"Creates a circuit with low entanglement (e.g., a simple 1D nearest-neighbor structure).\"\"\"\n",
    "    qc = QuantumCircuit(n_qubits)\n",
    "\n",
    "    # Initial layer of H gates\n",
    "    qc.h(range(n_qubits))\n",
    "\n",
    "    # Shallow layer of nearest-neighbor CNOTs\n",
    "    for i in range(0, n_qubits - 1, 2):\n",
    "        qc.cx(i, i + 1)\n",
    "\n",
    "    # Repeat a few times to increase depth slightly without maximizing entanglement\n",
    "    for _ in range(2):\n",
    "        for i in range(1, n_qubits - 1, 2):\n",
    "            qc.cx(i, i + 1)\n",
    "        qc.barrier()\n",
    "\n",
    "    qc.measure_all()\n",
    "    return qc"
   ]
  },
  {
   "cell_type": "markdown",
   "id": "72eea5119410473aa328ad9291626812",
   "metadata": {},
   "source": [
    "## 2. Performance Comparison\n",
    "\n",
    "We simulate the circuit across a range of qubit counts, forcing the use of the MPS backend and the Qiskit dense state vector backend for direct comparison."
   ]
  },
  {
   "cell_type": "code",
   "execution_count": null,
   "id": "8edb47106e1a46a883d545849b8ab81b",
   "metadata": {},
   "outputs": [],
   "source": [
    "# Test range: up to 20-22 qubits, where SV simulation becomes noticeably slow\n",
    "N_QUBITS_RANGE = np.arange(8, 22, 2)\n",
    "mps_times = []\n",
    "sv_times = []\n",
    "\n",
    "print(\"Starting performance comparison...\")\n",
    "\n",
    "for N in N_QUBITS_RANGE:\n",
    "    qc = create_low_entanglement_circuit(N)\n",
    "    shots = 1024\n",
    "\n",
    "    print(f\"\\nSimulating N={N} qubits...\")\n",
    "\n",
    "    # --- 1. MPS Backend (Expected Polynomial Scaling) ---\n",
    "    try:\n",
    "        # Force MPS backend\n",
    "        start_mps = time.perf_counter()\n",
    "        result_mps = simulate(qc, shots=shots, backend=BackendType.MPS.value)\n",
    "        end_mps = time.perf_counter()\n",
    "        mps_time = end_mps - start_mps\n",
    "        mps_times.append(mps_time)\n",
    "        print(f\"  MPS Time: {mps_time:.4f}s (Backend: {result_mps.backend_used.value})\")\n",
    "    except Exception as e:\n",
    "        print(f\"  MPS simulation failed for N={N}: {e}\")\n",
    "        mps_times.append(np.nan)\n",
    "\n",
    "    # --- 2. Dense State Vector Backend (Expected Exponential Scaling) ---\n",
    "    try:\n",
    "        # Force Qiskit's dense state vector simulator for comparison (using 1 shot for speed)\n",
    "        start_sv = time.perf_counter()\n",
    "        result_sv = simulate(qc, shots=1, backend=BackendType.QISKIT.value)\n",
    "        end_sv = time.perf_counter()\n",
    "        sv_time = end_sv - start_sv\n",
    "        sv_times.append(sv_time)\n",
    "        print(f\"  SV Time: {sv_time:.4f}s (Backend: {result_sv.backend_used.value})\")\n",
    "    except Exception as e:\n",
    "        print(f\"  SV simulation failed for N={N}: {e}\")\n",
    "        sv_times.append(np.nan)\n",
    "\n",
    "print(\"\\nComparison complete.\")"
   ]
  },
  {
   "cell_type": "markdown",
   "id": "10185d26023b46108eb7d9f57d49d2b3",
   "metadata": {},
   "source": [
    "## 3. Visualization and Quantification\n",
    "\n",
    "The plot below clearly illustrates the difference in scaling. The dense state vector simulation time grows exponentially (a straight line on a log scale), while the MPS simulation time grows much slower (polynomial), leading to massive speedups for larger circuits."
   ]
  },
  {
   "cell_type": "code",
   "execution_count": null,
   "id": "8763a12b2bbd4a93a75aff182afb95dc",
   "metadata": {},
   "outputs": [],
   "source": [
    "# Filter out NaNs for plotting\n",
    "valid_indices = ~np.isnan(mps_times) & ~np.isnan(sv_times)\n",
    "N_valid = N_QUBITS_RANGE[valid_indices]\n",
    "mps_valid = np.array(mps_times)[valid_indices]\n",
    "sv_valid = np.array(sv_times)[valid_indices]\n",
    "\n",
    "plt.figure(figsize=(10, 6))\n",
    "\n",
    "# Plot MPS performance (polynomial)\n",
    "plt.plot(N_valid, mps_valid, \"go-\", label=\"MPS Backend (Polynomial Scaling)\")\n",
    "\n",
    "# Plot State Vector performance (exponential)\n",
    "plt.plot(N_valid, sv_valid, \"r^-\", label=\"Dense State Vector (Exponential Scaling)\")\n",
    "\n",
    "plt.yscale(\"log\")\n",
    "plt.title(\"Performance Scaling: MPS vs. Dense State Vector for Low-Entanglement Circuits\")\n",
    "plt.xlabel(\"Number of Qubits (N)\")\n",
    "plt.ylabel(\"Execution Time (seconds) [Log Scale]\")\n",
    "plt.legend()\n",
    "plt.grid(True, which=\"both\", ls=\"--\", alpha=0.7)\n",
    "plt.show()\n",
    "\n",
    "# Quantification\n",
    "if N_valid.size > 0:\n",
    "    max_n = N_valid[-1]\n",
    "    mps_time_max = mps_valid[-1]\n",
    "    sv_time_max = sv_valid[-1]\n",
    "\n",
    "    if mps_time_max > 0 and sv_time_max > 0:\n",
    "        speedup = sv_time_max / mps_time_max\n",
    "        print(f\"\\n--- Performance Quantification (N={max_n} Qubits) ---\")\n",
    "        print(f\"Dense State Vector Time: {sv_time_max:.4f}s\")\n",
    "        print(f\"MPS Backend Time: {mps_time_max:.4f}s\")\n",
    "        print(f\"Speedup (SV/MPS): {speedup:.2f}x\")\n",
    "        print(\"\\nConclusion: The MPS backend demonstrates a significant speedup for low-entanglement circuits,\")\n",
    "        print(\n",
    "            \"confirming the theoretical polynomial scaling advantage over the exponentially scaling dense state vector method.\"\n",
    "        )"
   ]
  }
 ],
 "metadata": {
  "kernelspec": {
   "display_name": "Python 3",
   "language": "python",
   "name": "python3"
  },
  "language_info": {
   "codemirror_mode": {
    "name": "ipython",
    "version": 3
   },
   "file_extension": ".py",
   "mimetype": "text/x-python",
   "name": "python",
   "nbconvert_exporter": "python",
   "pygments_lexer": "ipython3",
   "version": "3.11.9"
  }
 },
 "nbformat": 4,
 "nbformat_minor": 5
}
