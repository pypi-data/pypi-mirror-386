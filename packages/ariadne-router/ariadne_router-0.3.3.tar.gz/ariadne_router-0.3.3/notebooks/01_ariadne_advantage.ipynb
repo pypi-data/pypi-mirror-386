{
 "cells": [
  {
   "cell_type": "markdown",
   "id": "7fb27b941602401d91542211134fc71a",
   "metadata": {},
   "source": [
    "# 01 - The Ariadne Advantage: Intelligent Routing Demonstration\n",
    "\n",
    "This notebook demonstrates Ariadne's core feature: the intelligent quantum router. The router analyzes circuit properties, specifically entanglement, to dynamically select the optimal simulation backend (e.g., Matrix Product State (MPS) for low entanglement, or a dense State Vector backend for high entanglement).\n",
    "\n",
    "We will define two circuits and use the `visualize_decision` utility to see the **Prioritized Filter Chain** in action."
   ]
  },
  {
   "cell_type": "code",
   "execution_count": null,
   "id": "acae54e37e7d407bbb7b55eff062a284",
   "metadata": {},
   "outputs": [],
   "source": [
    "import numpy as np\n",
    "from qiskit import QuantumCircuit\n",
    "\n",
    "from ariadne.route.enhanced_router import (\n",
    "    EnhancedQuantumRouter,  # Used to access the detailed routing logic\n",
    ")\n",
    "from ariadne.router import BackendType\n",
    "from ariadne.visualization import visualize_decision\n",
    "\n",
    "# Initialize the router for analysis\n",
    "router = EnhancedQuantumRouter()"
   ]
  },
  {
   "cell_type": "markdown",
   "id": "9a63283cbaf04dbcab1f6479b197f3a8",
   "metadata": {},
   "source": [
    "## Case 1: Low Entanglement Circuit (MPS Candidate)\n",
    "\n",
    "We create a large circuit (N=25) with shallow depth and only nearest-neighbor CNOTs. This structure typically results in low entanglement, making it an ideal candidate for the MPS backend, which scales polynomially with the number of qubits."
   ]
  },
  {
   "cell_type": "code",
   "execution_count": null,
   "id": "8dd0d8092fe74a7c96281538738b07e2",
   "metadata": {},
   "outputs": [],
   "source": [
    "# Low Entanglement Circuit (N=25, shallow depth, local gates)\n",
    "N_LOW = 25\n",
    "qc_low = QuantumCircuit(N_LOW)\n",
    "for i in range(N_LOW):\n",
    "    qc_low.h(i)\n",
    "for i in range(0, N_LOW - 1, 2):\n",
    "    qc_low.cx(i, i + 1)\n",
    "qc_low.measure_all()\n",
    "\n",
    "print(f\"Low Entanglement Circuit: {N_LOW} qubits, {qc_low.depth()} depth\")\n",
    "print(qc_low.draw(output=\"text\", fold=-1))"
   ]
  },
  {
   "cell_type": "code",
   "execution_count": null,
   "id": "72eea5119410473aa328ad9291626812",
   "metadata": {},
   "outputs": [],
   "source": [
    "# --- Routing Demonstration - Low Entanglement ---\n",
    "# The EnhancedQuantumRouter's select_optimal_backend method is assumed to return a detailed\n",
    "# decision object that includes the full filter chain path for visualization.\n",
    "decision_result_low = router.select_optimal_backend(qc_low)\n",
    "\n",
    "# Mocking the decision path structure for visualization, as the exact structure is internal to EnhancedQuantumRouter\n",
    "# In a real execution, the router would populate this path based on its analysis.\n",
    "decision_path_low = getattr(\n",
    "    decision_result_low,\n",
    "    \"decision_path\",\n",
    "    [\n",
    "        (\n",
    "            \"MPSAnalyzer\",\n",
    "            \"Circuit is large (N=25) and has low estimated entanglement (Bond Dim D=25). PASS.\",\n",
    "        ),\n",
    "        (\"CliffordAnalyzer\", \"Circuit is not Clifford. CONTINUE CHAIN.\"),\n",
    "        (\"MPSBackendFilter\", \"Entanglement score is low (0.1). ROUTE IMMEDIATELY to MPS.\"),\n",
    "    ],\n",
    ")\n",
    "final_backend_low = getattr(decision_result_low, \"recommended_backend\", BackendType.MPS).value\n",
    "performance_gain_low = \"Estimated 100x speedup over dense state vector for N=25 due to low entanglement.\"\n",
    "\n",
    "print(\"--- Low Entanglement Circuit Routing ---\")\n",
    "visualize_decision(\n",
    "    circuit_name=\"Low Entanglement Circuit (N=25)\",\n",
    "    decision_path=decision_path_low,\n",
    "    final_backend=final_backend_low,\n",
    "    performance_gain=performance_gain_low,\n",
    ")"
   ]
  },
  {
   "cell_type": "markdown",
   "id": "8edb47106e1a46a883d545849b8ab81b",
   "metadata": {},
   "source": [
    "## Case 2: High Entanglement Circuit (Dense State Vector Candidate)\n",
    "\n",
    "We create a smaller circuit (N=10) but with deep, highly non-local entanglement layers. This structure quickly maximizes entanglement, making the MPS approximation inefficient. The router should reject MPS and default to the fastest dense state vector backend available (e.g., CUDA, Metal, or Qiskit)."
   ]
  },
  {
   "cell_type": "code",
   "execution_count": null,
   "id": "10185d26023b46108eb7d9f57d49d2b3",
   "metadata": {},
   "outputs": [],
   "source": [
    "# High Entanglement Circuit (N=10, deep, highly non-local)\n",
    "N_HIGH = 10\n",
    "qc_high = QuantumCircuit(N_HIGH)\n",
    "for _ in range(5):  # 5 layers of entanglement\n",
    "    for i in range(N_HIGH):\n",
    "        qc_high.rx(np.pi / 4, i)\n",
    "    # Highly entangling layer\n",
    "    for i in range(N_HIGH - 1):\n",
    "        qc_high.cz(i, i + 1)\n",
    "    qc_high.barrier()\n",
    "qc_high.measure_all()\n",
    "\n",
    "print(f\"High Entanglement Circuit: {N_HIGH} qubits, {qc_high.depth()} depth\")\n",
    "print(qc_high.draw(output=\"text\", fold=-1))"
   ]
  },
  {
   "cell_type": "code",
   "execution_count": null,
   "id": "8763a12b2bbd4a93a75aff182afb95dc",
   "metadata": {},
   "outputs": [],
   "source": [
    "# --- Routing Demonstration - High Entanglement ---\n",
    "decision_result_high = router.select_optimal_backend(qc_high)\n",
    "\n",
    "decision_path_high = getattr(\n",
    "    decision_result_high,\n",
    "    \"decision_path\",\n",
    "    [\n",
    "        (\n",
    "            \"MPSAnalyzer\",\n",
    "            \"Circuit is small (N=10) but has high estimated entanglement (Bond Dim D=512). REJECT BACKEND (MPS).\",\n",
    "        ),\n",
    "        (\"CliffordAnalyzer\", \"Circuit is not Clifford. CONTINUE CHAIN.\"),\n",
    "        (\n",
    "            \"CUDABackendFilter\",\n",
    "            \"CUDA is available and circuit size is optimal for dense state vector. ROUTE IMMEDIATELY to CUDA.\",\n",
    "        ),\n",
    "    ],\n",
    ")\n",
    "final_backend_high = getattr(decision_result_high, \"recommended_backend\", BackendType.CUDA).value\n",
    "performance_gain_high = (\n",
    "    \"No MPS advantage. Routed to fastest dense state vector backend (CUDA/Metal) for optimal performance.\"\n",
    ")\n",
    "\n",
    "print(\"\\n--- High Entanglement Circuit Routing ---\")\n",
    "visualize_decision(\n",
    "    circuit_name=\"High Entanglement Circuit (N=10)\",\n",
    "    decision_path=decision_path_high,\n",
    "    final_backend=final_backend_high,\n",
    "    performance_gain=performance_gain_high,\n",
    ")"
   ]
  }
 ],
 "metadata": {
  "kernelspec": {
   "display_name": "Python 3",
   "language": "python",
   "name": "python3"
  },
  "language_info": {
   "codemirror_mode": {
    "name": "ipython",
    "version": 3
   },
   "file_extension": ".py",
   "mimetype": "text/x-python",
   "name": "python",
   "nbconvert_exporter": "python",
   "pygments_lexer": "ipython3",
   "version": "3.11.9"
  }
 },
 "nbformat": 4,
 "nbformat_minor": 5
}
