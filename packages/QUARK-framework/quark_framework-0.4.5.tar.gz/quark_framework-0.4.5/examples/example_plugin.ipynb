{
 "cells": [
  {
   "cell_type": "markdown",
   "id": "62ab166d",
   "metadata": {},
   "source": [
    "## Example Plugin"
   ]
  },
  {
   "cell_type": "markdown",
   "id": "c0711c80",
   "metadata": {},
   "source": [
    "A valid quark plugin must provide at least one module.\n",
    "Each module must be a subclass of quark's abstract `Core` class, and must implement the necessary `preprocess` and `postprocess` methods.\n",
    "\n",
    "To simplify the plugin creation process, there exists a [plugin template](https://github.com/QUARK-framework/QUARK-plugin-template) that can be used as a starting point.\n",
    "\n",
    "With the GitHub CLI installed, you can create a new plugin using the following command:"
   ]
  },
  {
   "cell_type": "code",
   "execution_count": null,
   "id": "cd8b0ceb",
   "metadata": {},
   "outputs": [],
   "source": [
    "!gh repo create my_plugin --template QUARK-framework/QUARK-plugin-template --private --clone"
   ]
  },
  {
   "cell_type": "markdown",
   "id": "9a4a9ecc",
   "metadata": {},
   "source": [
    "\n",
    "Alternatively, you can manually create a new repository from the template by clicking the \"Use this template\" button on GitHub, and cloning it afterwards.\n",
    "\n",
    "The template includes a GitHub action that prepares the newly created plugin for use with quark by exchanging some values based on the name you have given your plugin, in this case `my_plugin`. This process is run automatically and only takes a few seconds, but you should wait for the action to complete before using the plugin, and pull the changes afterwards."
   ]
  },
  {
   "cell_type": "code",
   "execution_count": null,
   "id": "15557fed",
   "metadata": {},
   "outputs": [],
   "source": [
    "!sleep 30 # Wait for about 30 seconds for the GitHub action to complete, or check the action status on GitHub.\n",
    "!cd my_plugin && git pull origin main # Pull the changes"
   ]
  },
  {
   "cell_type": "markdown",
   "id": "617d7680",
   "metadata": {},
   "source": [
    "This repo now contains a simple plugin-layout.\n",
    "It exposes a single module, `ExampleModule`, which is a subclass of `quark.Core`.\n",
    "The module declares the `preprocess` and `postprocess` methods, which are currently empty.\n",
    "You can now focus on implementing the functionality of your plugin.\n",
    "\n",
    "A good starting point is to look at how other quark plugins are implemented.\n",
    "You could start by choosing a name for your module, by renaming the `ExampleModule` class to something more descriptive.\n",
    "Remember to also change the line in the `__init__.py` file that imports the module, so that it matches the new name."
   ]
  },
  {
   "cell_type": "markdown",
   "id": "aac1112a",
   "metadata": {},
   "source": [
    "After everything is set up, you can test your plugin by writing a config file.\n",
    "You can use the config template given in `my_config.yml` as a starting point.\n",
    "\n",
    "`my_config.yml`\n",
    "```yml\n",
    "plugins: [\n",
    "    \"my_plugin\",\n",
    "    # other plugins\n",
    "    ]\n",
    "\n",
    "pipeline: [\n",
    "    \"example_module\", # replace with your module name\n",
    "    # other modules\n",
    "]\n",
    "```\n",
    "\n",
    "If everything is set up correctly, you can test your plugin:"
   ]
  },
  {
   "cell_type": "code",
   "execution_count": null,
   "id": "d426f481",
   "metadata": {},
   "outputs": [],
   "source": [
    "%pip install -e my_plugin\n",
    "!quark -c my_config.yml"
   ]
  }
 ],
 "metadata": {
  "kernelspec": {
   "display_name": ".venv",
   "language": "python",
   "name": "python3"
  },
  "language_info": {
   "codemirror_mode": {
    "name": "ipython",
    "version": 3
   },
   "file_extension": ".py",
   "mimetype": "text/x-python",
   "name": "python",
   "nbconvert_exporter": "python",
   "pygments_lexer": "ipython3",
   "version": "3.12.6"
  }
 },
 "nbformat": 4,
 "nbformat_minor": 5
}
