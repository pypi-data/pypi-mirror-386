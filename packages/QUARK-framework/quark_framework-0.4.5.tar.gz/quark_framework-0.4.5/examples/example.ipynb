{
 "cells": [
  {
   "cell_type": "markdown",
   "id": "d6abfe6a",
   "metadata": {},
   "source": [
    "## Example"
   ]
  },
  {
   "cell_type": "markdown",
   "id": "49d10598",
   "metadata": {},
   "source": [
    "First, make sure to install the packages required for this example:"
   ]
  },
  {
   "cell_type": "code",
   "execution_count": null,
   "id": "e2ca9a53",
   "metadata": {},
   "outputs": [],
   "source": [
    "!pip install quark-plugin-tsp quark-plugin-dwave"
   ]
  },
  {
   "cell_type": "markdown",
   "id": "ca41ec7f",
   "metadata": {},
   "source": [
    "Quark's framework facilitates the benchmarking process and is always required.\n",
    "Since every quark plugin includes quark-framework as a dependency, you don't have to install it seperately.\n",
    "This example uses two plugins: The quark-plugin-tsp and quark-plugin-dwave plugins.\n",
    "\n",
    "As explained in the readme, a config file must include the necessary plugins and the pipeline specification. Each quark plugin exposes 1 or more modules to quark-framework, which can then be specified in a config file to be used for a benchmark.\n",
    "A config file using the installed plugins is already provided in the `examples` directory:"
   ]
  },
  {
   "cell_type": "markdown",
   "id": "f154f7e2",
   "metadata": {},
   "source": [
    "```yaml\n",
    "plugins: [\"quark_plugin_tsp\", \"quark_plugin_dwave\"]\n",
    "\n",
    "first_layer:\n",
    "  &first_layer [\n",
    "    \"tsp_graph_provider\": { nodes: 4, seed: 42 },\n",
    "    \"tsp_graph_provider\": { nodes: 5, seed: 42 },\n",
    "    \"tsp_graph_provider\": { nodes: 6, seed: 42 },\n",
    "  ]\n",
    "\n",
    "second_layer: &second_layer \"tsp_qubo_mapping_dnx\"\n",
    "\n",
    "third_layer: &third_layer [\"simulated_annealer_dwave\", \"simulated_annealer_dwave\": { num_reads: 1000 }]\n",
    "\n",
    "pipeline1: &pipeline1 [*first_layer, *second_layer, *third_layer]\n",
    "\n",
    "pipeline2: &pipeline2 [*first_layer, \"classical_tsp_solver\"]\n",
    "\n",
    "pipelines: [*pipeline1, *pipeline2]\n",
    "```"
   ]
  },
  {
   "cell_type": "markdown",
   "id": "07174a68",
   "metadata": {},
   "source": [
    "Quark is meant to be run from the command line, so instead of running the start function from the python repl, you can also follow along like this:\n",
    "\n",
    "```bash\n",
    "$ quark -c config.yml\n",
    "```\n",
    "or\n",
    "\n",
    "```bash\n",
    "$ python -m quark -c config.yml\n",
    "```"
   ]
  },
  {
   "cell_type": "code",
   "execution_count": null,
   "id": "8747bbca",
   "metadata": {},
   "outputs": [],
   "source": [
    "import quark\n",
    "\n",
    "quark.start([\"-c\", \"config.yml\"])"
   ]
  },
  {
   "cell_type": "markdown",
   "id": "cee5ed78",
   "metadata": {},
   "source": [
    "The benchmark results can be found in the `results` directory."
   ]
  }
 ],
 "metadata": {
  "kernelspec": {
   "display_name": ".venv",
   "language": "python",
   "name": "python3"
  },
  "language_info": {
   "codemirror_mode": {
    "name": "ipython",
    "version": 3
   },
   "file_extension": ".py",
   "mimetype": "text/x-python",
   "name": "python",
   "nbconvert_exporter": "python",
   "pygments_lexer": "ipython3",
   "version": "3.12.6"
  }
 },
 "nbformat": 4,
 "nbformat_minor": 5
}
