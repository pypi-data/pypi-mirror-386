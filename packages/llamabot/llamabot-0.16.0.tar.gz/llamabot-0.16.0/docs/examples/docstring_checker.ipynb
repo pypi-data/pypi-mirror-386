{
 "cells": [
  {
   "cell_type": "markdown",
   "metadata": {},
   "source": [
    "# Build a bot that checks that docstring descriptions match function source\n",
    "\n",
    "In this notebook, we are going to build an LLM-powered bot\n",
    "that checks that docstring descriptions match function source.\n",
    "We will use the LlamaBot's StructuredBot and Pydantic to make this happen."
   ]
  },
  {
   "cell_type": "markdown",
   "metadata": {},
   "source": [
    "## Define the behaviour of our bot\n",
    "\n",
    "The bot's ideal behaviour will look like this:\n",
    "\n",
    "1. It will be given function's source code.\n",
    "2. It will then be asked to return a boolean judgment call:\n",
    "    1. If the docstring matches the function source, the answer will be \"True\".\n",
    "    2. If the docstring doesn't match, the answer will be \"False\" along with a list of reasons.\n"
   ]
  },
  {
   "cell_type": "markdown",
   "metadata": {},
   "source": [
    "## Define Pydantic model \n",
    "\n",
    "The desired behaviour above means we need the following Pydantic model:"
   ]
  },
  {
   "cell_type": "code",
   "execution_count": null,
   "metadata": {},
   "outputs": [],
   "source": [
    "from pydantic import BaseModel, Field\n",
    "\n",
    "\n",
    "class DocstringDescribesFunction(BaseModel):\n",
    "    docs_match_source: bool = Field(\n",
    "        default=False,\n",
    "        description=\"Whether or not the docstring matches the function source.\",\n",
    "    )\n",
    "    reasons: list[str] = Field(\n",
    "        default_factory=list,\n",
    "        description=\"Reasons why the docstring doesn't match the function source.\",\n",
    "    )"
   ]
  },
  {
   "cell_type": "markdown",
   "metadata": {},
   "source": [
    "## Define the StructuredBot's behaviour\n",
    "\n",
    "We will now design the prompt for StructuredBot,\n",
    "particularly focusing in on the system prompt for the StructuredBot.\n",
    "\n",
    "The system prompt is an opportunity for us to steer the behaviour of StructuredBot.\n",
    "Here, we leave instructions for the bot to follow.\n",
    "Doing so here allows us to ensure that the bot's `__call__` method \n",
    "only needs to be concerned with receiving a function's source (as a string)."
   ]
  },
  {
   "cell_type": "code",
   "execution_count": null,
   "metadata": {},
   "outputs": [],
   "source": [
    "from llamabot import prompt\n",
    "\n",
    "\n",
    "@prompt\n",
    "def docstringbot_sysprompt() -> str:\n",
    "    \"\"\"You are an expert at documenting functions.\n",
    "\n",
    "    You will be given a docstring and a function source.\n",
    "    Your job is to determine if the docstring matches the function source.\n",
    "\n",
    "    If it does match, respond with no reasons and respond with \"True\".\n",
    "\n",
    "    If it doesn't match,\n",
    "    respond with a list of reasons why the docstring doesn't match the function source.\n",
    "    Be specific about the reasons, such as:\n",
    "\n",
    "    - \"The docstring is mismatched with the function. The function does <something>,\n",
    "      but the docstring says <something_else>.\"\n",
    "    - \"The docstring is completely missing.\"\n",
    "    \"\"\""
   ]
  },
  {
   "cell_type": "markdown",
   "metadata": {},
   "source": [
    "Next up, let's create the StructuredBot.\n",
    "Upon initializing, we provide the system prompt and the Pydantic model\n",
    "that it needs to reference."
   ]
  },
  {
   "cell_type": "code",
   "execution_count": null,
   "metadata": {},
   "outputs": [],
   "source": [
    "from llamabot import StructuredBot\n",
    "\n",
    "docstringbot = StructuredBot(\n",
    "    docstringbot_sysprompt(), pydantic_model=DocstringDescribesFunction\n",
    ")"
   ]
  },
  {
   "cell_type": "markdown",
   "metadata": {},
   "source": [
    "## Test docstringbot on different functions"
   ]
  },
  {
   "cell_type": "code",
   "execution_count": null,
   "metadata": {},
   "outputs": [],
   "source": [
    "def fibbonacci(n: int) -> int:\n",
    "    \"\"\"Return the nth Fibonacci number.\n",
    "\n",
    "    Mathematically, the nth Fibonnaci number is defined as\n",
    "    the sum of the (n-1)th and (n-2)th Fibonacci numbers.\n",
    "\n",
    "    As such, this is what is returned.\n",
    "\n",
    "    :param n: The position of the Fibonacci number to return.\n",
    "    \"\"\"\n",
    "    if n <= 0:\n",
    "        raise ValueError(\"n must be a positive integer.\")\n",
    "    elif n == 1:\n",
    "        return 0\n",
    "    elif n == 2:\n",
    "        return 1\n",
    "    else:\n",
    "        return fibbonacci(n - 1) + fibbonacci(n - 2)"
   ]
  },
  {
   "cell_type": "code",
   "execution_count": null,
   "metadata": {},
   "outputs": [],
   "source": [
    "from inspect import getsource\n",
    "\n",
    "source_code = getsource(fibbonacci)\n",
    "docstringbot(source_code)"
   ]
  },
  {
   "cell_type": "markdown",
   "metadata": {},
   "source": [
    "Let's try now an example where the docstring is completely missing."
   ]
  },
  {
   "cell_type": "code",
   "execution_count": null,
   "metadata": {},
   "outputs": [],
   "source": [
    "def fibbonacci(n: int) -> int:\n",
    "    if n <= 0:\n",
    "        raise ValueError(\"n must be a positive integer.\")\n",
    "    elif n == 1:\n",
    "        return 0\n",
    "    elif n == 2:\n",
    "        return 1\n",
    "    else:\n",
    "        return fibbonacci(n - 1) + fibbonacci(n - 2)\n",
    "\n",
    "\n",
    "source_code = getsource(fibbonacci)\n",
    "docstringbot(source_code)"
   ]
  },
  {
   "cell_type": "markdown",
   "metadata": {},
   "source": [
    "And now let's try an example where the docstring doesn't match the function source."
   ]
  },
  {
   "cell_type": "code",
   "execution_count": null,
   "metadata": {},
   "outputs": [],
   "source": [
    "def fibbonacci(n: int) -> int:\n",
    "    \"\"\"This function bakes a cake of the Fibonacci sequence.\"\"\"\n",
    "    if n <= 0:\n",
    "        raise ValueError(\"n must be a positive integer.\")\n",
    "    elif n == 1:\n",
    "        return 0\n",
    "    elif n == 2:\n",
    "        return 1\n",
    "    else:\n",
    "        return fibbonacci(n - 1) + fibbonacci(n - 2)\n",
    "\n",
    "\n",
    "source_code = getsource(fibbonacci)\n",
    "docstringbot(source_code)"
   ]
  },
  {
   "cell_type": "code",
   "execution_count": null,
   "metadata": {},
   "outputs": [],
   "source": []
  }
 ],
 "metadata": {
  "kernelspec": {
   "display_name": "llamabot",
   "language": "python",
   "name": "llamabot"
  },
  "language_info": {
   "codemirror_mode": {
    "name": "ipython",
    "version": 3
   },
   "file_extension": ".py",
   "mimetype": "text/x-python",
   "name": "python",
   "nbconvert_exporter": "python",
   "pygments_lexer": "ipython3",
   "version": "3.11.9"
  }
 },
 "nbformat": 4,
 "nbformat_minor": 2
}
