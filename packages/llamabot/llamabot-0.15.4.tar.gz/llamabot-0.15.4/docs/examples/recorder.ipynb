{
 "cells": [
  {
   "attachments": {},
   "cell_type": "markdown",
   "metadata": {},
   "source": [
    "# Recording Prompts\n",
    "\n",
    "One challenge I've found when working with prompts is recording what I get back when I try out different prompts.\n",
    "Copying and pasting is clearly not what I'd like to do.\n",
    "So I decided to write some functionality into Llamabot that lets us do recording of prompts \n",
    "and the responses returned by GPT.\n",
    "\n",
    "Here's how to use it."
   ]
  },
  {
   "cell_type": "code",
   "execution_count": null,
   "metadata": {},
   "outputs": [],
   "source": [
    "from llamabot import SimpleBot, PromptRecorder"
   ]
  },
  {
   "cell_type": "code",
   "execution_count": null,
   "metadata": {},
   "outputs": [],
   "source": [
    "bot = SimpleBot(\"You are a bot.\")"
   ]
  },
  {
   "cell_type": "code",
   "execution_count": null,
   "metadata": {},
   "outputs": [],
   "source": [
    "# Try three different prompts.\n",
    "\n",
    "prompt1 = (\n",
    "    \"You are a fitness coach who responds in 25 words or less. How do I gain muscle?\"\n",
    ")\n",
    "prompt2 = \"You are an expert fitness coach who responds in 100 words or less. How do I gain muscle?\"\n",
    "prompt3 = \"You are an expert fitness coach who responds in 25 words or less and will not give lethal advice. How do I gain muscle?\"\n",
    "\n",
    "recorder = PromptRecorder()"
   ]
  },
  {
   "cell_type": "code",
   "execution_count": null,
   "metadata": {},
   "outputs": [],
   "source": [
    "with recorder:\n",
    "    bot(prompt1)\n",
    "    bot(prompt2)\n",
    "    bot(prompt3)"
   ]
  },
  {
   "cell_type": "code",
   "execution_count": null,
   "metadata": {},
   "outputs": [],
   "source": [
    "recorder.prompts_and_responses"
   ]
  },
  {
   "cell_type": "code",
   "execution_count": null,
   "metadata": {},
   "outputs": [],
   "source": [
    "import pandas as pd\n",
    "\n",
    "pd.DataFrame(recorder.prompts_and_responses)"
   ]
  },
  {
   "cell_type": "code",
   "execution_count": null,
   "metadata": {},
   "outputs": [],
   "source": [
    "prompt4 = \"You are an expert fitness coach who responds in 25 words or less, and you help people who only have access to body weight exercises. How do I gain muscle?\"\n",
    "\n",
    "with recorder:\n",
    "    bot(prompt4)"
   ]
  },
  {
   "cell_type": "code",
   "execution_count": null,
   "metadata": {},
   "outputs": [],
   "source": [
    "recorder.panel()"
   ]
  },
  {
   "cell_type": "code",
   "execution_count": null,
   "metadata": {},
   "outputs": [],
   "source": []
  }
 ],
 "metadata": {
  "kernelspec": {
   "display_name": "llamabot",
   "language": "python",
   "name": "python3"
  },
  "language_info": {
   "codemirror_mode": {
    "name": "ipython",
    "version": 3
   },
   "file_extension": ".py",
   "mimetype": "text/x-python",
   "name": "python",
   "nbconvert_exporter": "python",
   "pygments_lexer": "ipython3",
   "version": "3.9.16"
  }
 },
 "nbformat": 4,
 "nbformat_minor": 2
}
