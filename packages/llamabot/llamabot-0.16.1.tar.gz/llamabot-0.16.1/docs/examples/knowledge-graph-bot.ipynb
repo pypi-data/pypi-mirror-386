{
 "cells": [
  {
   "cell_type": "code",
   "execution_count": null,
   "metadata": {},
   "outputs": [],
   "source": [
    "%load_ext autoreload\n",
    "%autoreload 2\n"
   ]
  },
  {
   "cell_type": "markdown",
   "metadata": {},
   "source": [
    "## Extract knowledge graph triples from text\n",
    "\n",
    "In this notebook, we will show how to use LlamaBot's StructuredBot \n",
    "to extract knowledge graph triples from text."
   ]
  },
  {
   "cell_type": "markdown",
   "metadata": {},
   "source": [
    "Firstly, let's start by defining a class `KnowledgeGraphTriple` to represent a triple from a knowledge graph."
   ]
  },
  {
   "cell_type": "code",
   "execution_count": null,
   "metadata": {},
   "outputs": [],
   "source": [
    "from llamabot import StructuredBot\n",
    "from pydantic import BaseModel, Field, model_validator\n",
    "\n",
    "\n",
    "class KnowledgeGraphTriple(BaseModel):\n",
    "    \"\"\"A triple from a knowledge graph.\"\"\"\n",
    "\n",
    "    sub: str = Field(description=\"The subject of the triple.\")\n",
    "    pred: str = Field(description=\"The predicate of the triple.\")\n",
    "    obj: str = Field(description=\"The object of the triple.\")\n",
    "    quote: str = Field(\n",
    "        description=\"Quote from the provided text that indicates the triple relationship.\"\n",
    "    )\n",
    "\n",
    "    @model_validator(mode=\"after\")\n",
    "    def validate_lengths(self):\n",
    "        \"\"\"Validate the lengths of subjects, predicates, and objects.\n",
    "\n",
    "        They should not be >5 words each.\n",
    "        \"\"\"\n",
    "        if len(self.sub.split()) > 5:\n",
    "            raise ValueError(\n",
    "                f\"Subject '{self.sub}' is too long. It needs to be <=5 words.\"\n",
    "            )\n",
    "\n",
    "        if len(self.pred.split()) > 5:\n",
    "            raise ValueError(\n",
    "                f\"Predicate '{self.pred}' is too long. It needs to be <=5 words.\"\n",
    "            )\n",
    "\n",
    "        if len(self.obj.split()) > 5:\n",
    "            raise ValueError(\n",
    "                f\"Object '{self.obj}' is too long. It needs to be <=5 words.\"\n",
    "            )\n",
    "\n",
    "        return self"
   ]
  },
  {
   "cell_type": "markdown",
   "metadata": {},
   "source": [
    "Within the KnowledgeGraphTriple class, \n",
    "we've added a `validate_lengths` method \n",
    "to ensure that the lengths of the subject, predicate, and object \n",
    "are not greater than 5 words."
   ]
  },
  {
   "cell_type": "markdown",
   "metadata": {},
   "source": [
    "Next, I am going to define a `KnowledgeGraphTriplets` class \n",
    "that houses a collection of KnowledgeGraphTriple objects.\n",
    "This class will allow me to instruct the StructuredBot \n",
    "to extract _multiple_ triples from a given text."
   ]
  },
  {
   "cell_type": "code",
   "execution_count": null,
   "metadata": {},
   "outputs": [],
   "source": [
    "class KnowledgeGraphTriplets(BaseModel):\n",
    "    \"\"\"A list of knowledge graph triples.\"\"\"\n",
    "\n",
    "    triples: list[KnowledgeGraphTriple] = Field(description=\"A list of triples.\")\n",
    "\n",
    "    def draw(self):\n",
    "        import networkx as nx\n",
    "        from IPython.display import Image\n",
    "        import tempfile\n",
    "\n",
    "        G = nx.DiGraph()\n",
    "        for triple in self.triples:\n",
    "            G.add_edge(triple.sub, triple.obj, label=triple.pred)\n",
    "\n",
    "        A = nx.nx_agraph.to_agraph(G)\n",
    "\n",
    "        # Create a temporary file to store the image.\n",
    "        with tempfile.NamedTemporaryFile(suffix=\".png\") as f:\n",
    "            A.draw(f.name, prog=\"circo\", format=\"png\")\n",
    "            return Image(filename=f.name)"
   ]
  },
  {
   "cell_type": "markdown",
   "metadata": {},
   "source": [
    "Now, let's set up the StructuredBot, which we will call `kgbot`,\n",
    "which stands for \"Knowledge Graph Bot\".\n",
    "We will use the Groq-hosted `llama-3.1-70b-versatile`,\n",
    "which is a powerful open-source language model developed by Meta AI\n",
    "and hosted on Groq for lightning fast text generation."
   ]
  },
  {
   "cell_type": "code",
   "execution_count": null,
   "metadata": {},
   "outputs": [],
   "source": [
    "from llamabot import prompt\n",
    "\n",
    "\n",
    "@prompt\n",
    "def kgbot_sysprompt() -> str:\n",
    "    \"\"\"You are an expert at knowledge graph triples.\n",
    "\n",
    "    You will be given a paragraph of text and you need to extract triples from it.\n",
    "    Each triple should be presented as a structured object.\n",
    "    \"\"\"\n",
    "\n",
    "\n",
    "kgbot = StructuredBot(\n",
    "    system_prompt=kgbot_sysprompt(),\n",
    "    pydantic_model=KnowledgeGraphTriplets,\n",
    "    stream_target=\"none\",\n",
    "    model_name=\"groq/llama-3.1-70b-versatile\",\n",
    ")"
   ]
  },
  {
   "cell_type": "markdown",
   "metadata": {},
   "source": [
    "The LLM of choice here is GPT-4.\n",
    "We could choose to use `ollama/llama3`,\n",
    "which is a powerful open source language model developed by Meta AI.\n",
    "It needs just over 16GB of RAM to run.\n",
    "It's going to be much slower than calling on the GPT-4 API."
   ]
  },
  {
   "cell_type": "markdown",
   "metadata": {},
   "source": [
    "With the bot instantiated, let's now analyze a paragraph of text about the citric acid cycle."
   ]
  },
  {
   "cell_type": "code",
   "execution_count": null,
   "metadata": {},
   "outputs": [],
   "source": [
    "txt = \"\"\"\n",
    "The citric acid cycle—also known as the Krebs cycle, Szent–Györgyi–Krebs cycle or the TCA cycle (tricarboxylic acid cycle)[1][2]—is a series of biochemical reactions to release the energy stored in nutrients through the oxidation of acetyl-CoA derived from carbohydrates, fats, and proteins. The chemical energy released is available under the form of ATP. The Krebs cycle is used by organisms that respire (as opposed to organisms that ferment) to generate energy, either by anaerobic respiration or aerobic respiration. In addition, the cycle provides precursors of certain amino acids, as well as the reducing agent NADH, that are used in numerous other reactions. Its central importance to many biochemical pathways suggests that it was one of the earliest components of metabolism.[3][4] Even though it is branded as a \"cycle\", it is not necessary for metabolites to follow only one specific route; at least three alternative segments of the citric acid cycle have been recognized.[5]\n",
    "\"\"\"\n",
    "\n",
    "\n",
    "triples_set = kgbot(txt, verbose=True)"
   ]
  },
  {
   "cell_type": "markdown",
   "metadata": {},
   "source": [
    "Let's visualize the triples extracted from the given text."
   ]
  },
  {
   "cell_type": "code",
   "execution_count": null,
   "metadata": {},
   "outputs": [],
   "source": [
    "triples_set.draw()"
   ]
  },
  {
   "cell_type": "markdown",
   "metadata": {},
   "source": [
    "Effectively we have gained an auto-generated mind map for ourselves!"
   ]
  },
  {
   "cell_type": "markdown",
   "metadata": {},
   "source": [
    "Let's try another text, one that is on pair programming, from Martin Fowler's website."
   ]
  },
  {
   "cell_type": "code",
   "execution_count": null,
   "metadata": {},
   "outputs": [],
   "source": [
    "text = \"\"\"Pair programming essentially means that two people write code together on one machine. It is a very collaborative way of working and involves a lot of communication. While a pair of developers work on a task together, they do not only write code, they also plan and discuss their work. They clarify ideas on the way, discuss approaches and come to better solutions.\"\"\"\n",
    "\n",
    "pair_programming_knowledge = kgbot(text)"
   ]
  },
  {
   "cell_type": "code",
   "execution_count": null,
   "metadata": {},
   "outputs": [],
   "source": [
    "pair_programming_knowledge.draw()"
   ]
  },
  {
   "cell_type": "markdown",
   "metadata": {},
   "source": [
    "Applying the bot to more text:"
   ]
  },
  {
   "cell_type": "code",
   "execution_count": null,
   "metadata": {},
   "outputs": [],
   "source": [
    "text = \"\"\"\n",
    "Renewable energy sources are becoming increasingly vital as the world grapples with the adverse effects of climate change and the depletion of fossil fuels. Unlike traditional energy sources such as coal, oil, and natural gas, renewable energy comes from resources that are naturally replenished on a human timescale, including sunlight, wind, rain, tides, waves, and geothermal heat.\n",
    "\n",
    "One of the most prominent forms of renewable energy is solar power. Solar panels convert sunlight directly into electricity through photovoltaic cells. This technology has seen significant advancements over the past decade, leading to increased efficiency and reduced costs. Solar energy is abundant and can be harnessed in virtually every part of the world, making it a cornerstone of future energy strategies.\n",
    "\n",
    "Wind energy is another major player in the renewable energy sector. Wind turbines capture kinetic energy from wind and convert it into electrical power. Wind farms, both onshore and offshore, have been developed across the globe. The scalability of wind power, from small residential turbines to large commercial farms, provides versatility in its applications.\n",
    "\n",
    "Hydropower, the largest source of renewable electricity globally, generates power by using the energy of moving water. Dams built on large rivers create reservoirs that can be used to generate electricity on demand. Small-scale hydro projects also contribute significantly to local energy needs, especially in remote areas.\n",
    "\n",
    "Geothermal energy harnesses heat from within the Earth. This heat can be used directly for heating or to generate electricity. Regions with high geothermal activity, such as Iceland and parts of the United States, have successfully integrated geothermal energy into their power grids.\n",
    "\n",
    "Bioenergy, derived from organic materials such as plant and animal waste, is a versatile renewable energy source. It can be used for electricity generation, heating, and as a biofuel for transportation. The use of bioenergy can also help manage waste and reduce greenhouse gas emissions.\n",
    "\n",
    "The transition to renewable energy sources is not without challenges. The intermittency of solar and wind power requires advancements in energy storage technologies to ensure a stable supply. Moreover, the initial investment costs for renewable energy infrastructure can be high, although these are often offset by long-term savings and environmental benefits.\n",
    "\n",
    "Government policies and international cooperation play crucial roles in promoting renewable energy. Subsidies, tax incentives, and research funding are essential to accelerate the development and adoption of these technologies. Public awareness and community involvement also contribute to the successful implementation of renewable energy projects.\n",
    "\n",
    "In conclusion, renewable energy represents a sustainable and essential path forward for global energy needs. By reducing reliance on fossil fuels, we can mitigate the impacts of climate change, enhance energy security, and create a cleaner, healthier environment for future generations.\n",
    "\"\"\"\n",
    "energy_kg = kgbot(text)"
   ]
  },
  {
   "cell_type": "code",
   "execution_count": null,
   "metadata": {},
   "outputs": [],
   "source": [
    "energy_kg.draw()"
   ]
  },
  {
   "cell_type": "markdown",
   "metadata": {},
   "source": [
    "Finally, let's look at inductive Bible study, a technique for studying Biblical texts \n",
    "using inductive reasoning and analytic thinking.\n",
    "\n",
    "We will create a different bot (`ibsbot`, which stands for \"Inductive Bible Study Bot\"),\n",
    "to help us parse and extract structured information from the text."
   ]
  },
  {
   "cell_type": "markdown",
   "metadata": {},
   "source": [
    "Firstly, let's define the pydantic models for what we want to extract from scripture."
   ]
  },
  {
   "cell_type": "code",
   "execution_count": null,
   "metadata": {},
   "outputs": [],
   "source": [
    "from IPython.display import Image\n",
    "\n",
    "\n",
    "class IBSLogicalRelationship(BaseModel):\n",
    "    statement1: str = Field(description=\"First statement made by the author.\")\n",
    "    joiner: str = Field(\n",
    "        description=\"Joiner between statement1 and statement2. Should be a logical conjunction, such as 'but', 'so that', 'in order that', 'for', 'because', 'and', 'if'.\"\n",
    "    )\n",
    "    statement2: str = Field(\n",
    "        description=\"Second statement logically related to statement1.\"\n",
    "    )\n",
    "\n",
    "\n",
    "class IBSRelationships(BaseModel):\n",
    "    \"\"\"A list of inductive Bible study relationships.\"\"\"\n",
    "\n",
    "    relationships: list[IBSLogicalRelationship] = Field(\n",
    "        description=\"A list of relationships.\"\n",
    "    )\n",
    "\n",
    "    def draw(self) -> Image:\n",
    "        \"\"\"Draw a diagram of the relationships.\"\"\"\n",
    "        import networkx as nx\n",
    "        from IPython.display import Image\n",
    "        import tempfile\n",
    "\n",
    "        G = nx.DiGraph()\n",
    "        for triple in self.relationships:\n",
    "            G.add_edge(triple.statement1, triple.statement2, label=triple.joiner)\n",
    "\n",
    "        A = nx.nx_agraph.to_agraph(G)\n",
    "\n",
    "        # Create a temporary file to store the image.\n",
    "        with tempfile.NamedTemporaryFile(suffix=\".png\") as f:\n",
    "            A.draw(f.name, prog=\"circo\", format=\"png\")\n",
    "            return Image(filename=f.name)"
   ]
  },
  {
   "cell_type": "markdown",
   "metadata": {},
   "source": [
    "Now, let's create the system prompt for the IBSBot."
   ]
  },
  {
   "cell_type": "code",
   "execution_count": null,
   "metadata": {},
   "outputs": [],
   "source": [
    "@prompt\n",
    "def ibsbot_sysprompt() -> str:\n",
    "    \"\"\"You are an expert at inductive Bible study.\n",
    "\n",
    "    Your goal is to extract, from a given text,\n",
    "    logical relationships between the author's statements.\n",
    "\n",
    "    Segment the text into atomic segments that each contain a single idea\n",
    "    that can be related to each other through a conjunction.\n",
    "\n",
    "    Then, populate the provided pydantic model with the extracted relationships.\n",
    "    Reuse as many atomic segments as possible.\n",
    "    \"\"\""
   ]
  },
  {
   "cell_type": "markdown",
   "metadata": {},
   "source": [
    "Finally, we create the `ibsbot`."
   ]
  },
  {
   "cell_type": "code",
   "execution_count": null,
   "metadata": {},
   "outputs": [],
   "source": [
    "ibsbot = StructuredBot(\n",
    "    system_prompt=ibsbot_sysprompt(),\n",
    "    pydantic_model=IBSRelationships,\n",
    "    stream_target=\"none\",\n",
    "    model_name=\"groq/llama-3.1-70b-versatile\",\n",
    ")"
   ]
  },
  {
   "cell_type": "markdown",
   "metadata": {},
   "source": [
    "Now, let's extract and visualize relationships from the text, Ephesians 2:1-10."
   ]
  },
  {
   "cell_type": "code",
   "execution_count": null,
   "metadata": {},
   "outputs": [],
   "source": [
    "ephesians_text = \"\"\"2 As for you, you were dead in your transgressions and sins, 2 in which you used to live when you followed the ways of this world and of the ruler of the kingdom of the air, the spirit who is now at work in those who are disobedient. 3 All of us also lived among them at one time, gratifying the cravings of our flesh[a] and following its desires and thoughts. Like the rest, we were by nature deserving of wrath. 4 But because of his great love for us, God, who is rich in mercy, 5 made us alive with Christ even when we were dead in transgressions—it is by grace you have been saved. 6 And God raised us up with Christ and seated us with him in the heavenly realms in Christ Jesus, 7 in order that in the coming ages he might show the incomparable riches of his grace, expressed in his kindness to us in Christ Jesus. 8 For it is by grace you have been saved, through faith—and this is not from yourselves, it is the gift of God— 9 not by works, so that no one can boast. 10 For we are God’s handiwork, created in Christ Jesus to do good works, which God prepared in advance for us to do.\"\"\"\n",
    "ephesians_kg = ibsbot(ephesians_text)"
   ]
  },
  {
   "cell_type": "markdown",
   "metadata": {},
   "source": [
    "What have we extracted? Let's visualize that."
   ]
  },
  {
   "cell_type": "code",
   "execution_count": null,
   "metadata": {},
   "outputs": [],
   "source": [
    "ephesians_kg.draw()"
   ]
  }
 ],
 "metadata": {
  "kernelspec": {
   "display_name": "llamabot",
   "language": "python",
   "name": "llamabot"
  },
  "language_info": {
   "codemirror_mode": {
    "name": "ipython",
    "version": 3
   },
   "file_extension": ".py",
   "mimetype": "text/x-python",
   "name": "python",
   "nbconvert_exporter": "python",
   "pygments_lexer": "ipython3",
   "version": "3.11.9"
  }
 },
 "nbformat": 4,
 "nbformat_minor": 2
}
