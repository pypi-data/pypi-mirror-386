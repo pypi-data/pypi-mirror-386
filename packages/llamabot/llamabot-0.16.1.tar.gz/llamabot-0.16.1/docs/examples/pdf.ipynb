{
 "cells": [
  {
   "cell_type": "code",
   "execution_count": null,
   "metadata": {},
   "outputs": [],
   "source": [
    "# PDF Chatbot\n",
    "%load_ext autoreload\n",
    "%autoreload 2"
   ]
  },
  {
   "cell_type": "code",
   "execution_count": null,
   "metadata": {},
   "outputs": [],
   "source": [
    "# Download pre-built index.json file from Dropbox\n",
    "import requests\n",
    "\n",
    "headers = {\"user-agent\": \"Wget/1.16 (linux-gnu)\"}  # <-- the key is here!\n",
    "r = requests.get(\n",
    "    \"https://www.dropbox.com/s/wrixlu7e3noi43q/Ma%20et%20al.%20-%202021%20-%20Machine-Directed%20Evolution%20of%20an%20Imine%20Reductase%20f.pdf?dl=0\",\n",
    "    stream=True,\n",
    "    headers=headers,\n",
    ")\n",
    "pdf_fname = \"/tmp/machine-directed-evolution.pdf\"\n",
    "with open(pdf_fname, \"wb\") as f:\n",
    "    for chunk in r.iter_content(chunk_size=1024):\n",
    "        if chunk:\n",
    "            f.write(chunk)"
   ]
  },
  {
   "cell_type": "code",
   "execution_count": null,
   "metadata": {},
   "outputs": [],
   "source": [
    "from llamabot import QueryBot\n",
    "from pyprojroot import here\n",
    "\n",
    "# If you're prototyping with your own PDF, uncomment the following code and use it instead of the saved index path:\n",
    "# bot = QueryBot(\n",
    "#     \"You are a bot that reads a PDF book and responds to questions about that book.\",\n",
    "#     document_paths=[pdf_fname],\n",
    "#     collection_name=\"machine-directed-evolution-paper\",\n",
    "#     model_name=\"mistral/mistral-medium\",\n",
    "# )\n",
    "\n",
    "bot = QueryBot(\n",
    "    \"You are a bot that reads a PDF book and responds to questions about that book.\",\n",
    "    collection_name=\"machine-directed-evolution-paper\",\n",
    "    model_name=\"mistral/mistral-medium\",\n",
    ")"
   ]
  },
  {
   "cell_type": "code",
   "execution_count": null,
   "metadata": {},
   "outputs": [],
   "source": [
    "prompt = \"I'd like to use the workflow of this paper to educate colleagues. What are the main talking points I should use?\"\n",
    "bot(prompt)"
   ]
  },
  {
   "cell_type": "code",
   "execution_count": null,
   "metadata": {},
   "outputs": [],
   "source": [
    "prompt = \"My colleagues are interested in evolving another enzyme. However, they may be unaware of how machine learning approaches will help them there. Based on this paper, what can I highlight that might overcome their lack of knowledge?\"\n",
    "bot(prompt)"
   ]
  },
  {
   "cell_type": "code",
   "execution_count": null,
   "metadata": {},
   "outputs": [],
   "source": [
    "prompt = \"What data from the paper helped show this point, 'Machine-directed evolution is an efficient strategy for enzyme engineering, as it can help navigate enzyme sequence space more effectively and reduce the number of enzyme variants to be measured en route to a desirable enzyme under realistic process conditions.'?\"\n",
    "bot(prompt)"
   ]
  },
  {
   "cell_type": "code",
   "execution_count": null,
   "metadata": {},
   "outputs": [],
   "source": [
    "prompt = \"How can I succinctly present the SGM vs. EPPCR results to my colleagues? Or in other words, how would Richard Feynman present these results?\"\n",
    "bot(prompt)"
   ]
  },
  {
   "attachments": {},
   "cell_type": "markdown",
   "metadata": {},
   "source": [
    "Using SimpleBot below should prove that we are indeed querying a book\n",
    "and not just relying on the LLM's training set."
   ]
  },
  {
   "cell_type": "code",
   "execution_count": null,
   "metadata": {},
   "outputs": [],
   "source": [
    "from llamabot import SimpleBot\n",
    "\n",
    "\n",
    "sbot = SimpleBot(\"You are a bot that responds to human questions.\")\n",
    "sbot(prompt)"
   ]
  },
  {
   "cell_type": "code",
   "execution_count": null,
   "metadata": {},
   "outputs": [],
   "source": []
  }
 ],
 "metadata": {
  "kernelspec": {
   "display_name": "llamabot",
   "language": "python",
   "name": "python3"
  },
  "language_info": {
   "codemirror_mode": {
    "name": "ipython",
    "version": 3
   },
   "file_extension": ".py",
   "mimetype": "text/x-python",
   "name": "python",
   "nbconvert_exporter": "python",
   "pygments_lexer": "ipython3",
   "version": "3.11.7"
  }
 },
 "nbformat": 4,
 "nbformat_minor": 2
}
