{
 "cells": [
  {
   "cell_type": "markdown",
   "metadata": {},
   "source": [
    "# Using LlamaBot with Groq\n",
    "\n",
    "Groq is a super, super fast API for LLMs."
   ]
  },
  {
   "cell_type": "code",
   "execution_count": null,
   "metadata": {},
   "outputs": [],
   "source": [
    "from llamabot import SimpleBot\n",
    "from dotenv import load_dotenv\n",
    "\n",
    "load_dotenv()\n",
    "\n",
    "groq_bot = SimpleBot(\n",
    "    system_prompt=\"You are a cheerful llama.\",\n",
    "    model_name=\"groq/mixtral-8x7b-32768\",\n",
    ")"
   ]
  },
  {
   "cell_type": "code",
   "execution_count": null,
   "metadata": {},
   "outputs": [],
   "source": [
    "%timeit -r1 -n1 groq_bot(\"What's up?\")"
   ]
  },
  {
   "cell_type": "code",
   "execution_count": null,
   "metadata": {},
   "outputs": [],
   "source": [
    "openai_bot = SimpleBot(\n",
    "    system_prompt=\"You are a cheerful llama.\", model_name=\"gpt-4-turbo\"\n",
    ")"
   ]
  },
  {
   "cell_type": "code",
   "execution_count": null,
   "metadata": {},
   "outputs": [],
   "source": [
    "%timeit -r1 -n1 openai_bot(\"What's up?\")"
   ]
  },
  {
   "cell_type": "markdown",
   "metadata": {},
   "source": [
    "In my own testing, Groq's mixtral implementation is ~3-4x faster than OpenAI's GPT-4 turbo model."
   ]
  },
  {
   "cell_type": "markdown",
   "metadata": {},
   "source": [
    "As of 2024-07-20, with LiteLLM 1.35.38 (which is the current version that LlamaBot is pinned to),\n",
    "Groq does not support streaming with JSON mode via LiteLLM.\n",
    "[This GitHub issue](https://github.com/BerriAI/litellm/issues/4804) has been filed in response."
   ]
  }
 ],
 "metadata": {
  "kernelspec": {
   "display_name": "base",
   "language": "python",
   "name": "python3"
  },
  "language_info": {
   "codemirror_mode": {
    "name": "ipython",
    "version": 3
   },
   "file_extension": ".py",
   "mimetype": "text/x-python",
   "name": "python",
   "nbconvert_exporter": "python",
   "pygments_lexer": "ipython3",
   "version": "3.11.9"
  }
 },
 "nbformat": 4,
 "nbformat_minor": 2
}
