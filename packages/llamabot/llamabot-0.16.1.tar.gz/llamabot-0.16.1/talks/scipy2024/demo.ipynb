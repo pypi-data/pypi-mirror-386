{
 "cells": [
  {
   "cell_type": "code",
   "execution_count": null,
   "metadata": {},
   "outputs": [],
   "source": [
    "%load_ext autoreload\n",
    "%autoreload 2\n",
    "from dotenv import load_dotenv\n",
    "\n",
    "load_dotenv()"
   ]
  },
  {
   "cell_type": "code",
   "execution_count": null,
   "metadata": {},
   "outputs": [],
   "source": [
    "from llamabot import SimpleBot"
   ]
  },
  {
   "cell_type": "code",
   "execution_count": null,
   "metadata": {},
   "outputs": [],
   "source": [
    "punbot = SimpleBot(\n",
    "    \"\"\"You are a bad pun generator.\n",
    "You will be given a root word around which to generate a pun.\n",
    "The pun should be related to the root word and contain at least one emoji.\n",
    "Generate only the pun and nothing else.\n",
    "\"\"\",\n",
    "    stream_target=\"panel\",\n",
    ")"
   ]
  },
  {
   "cell_type": "code",
   "execution_count": null,
   "metadata": {},
   "outputs": [],
   "source": [
    "from ipywidgets import Button, Text, HTML, VBox\n",
    "from markdown import markdown\n",
    "\n",
    "title = HTML(markdown(\"# Poor Man's Paul Ivanov\"))\n",
    "button = Button(description=\"Generate Pun\")\n",
    "text_input = Text()\n",
    "output = HTML()\n",
    "\n",
    "\n",
    "def on_button_clicked(b):\n",
    "    root_word = text_input.value\n",
    "    response = punbot(root_word)\n",
    "    for r in response:\n",
    "        output.value = markdown(f\"## {r}\")\n",
    "\n",
    "\n",
    "button.on_click(on_button_clicked)\n",
    "\n",
    "\n",
    "VBox([title, text_input, button, output])"
   ]
  },
  {
   "cell_type": "code",
   "execution_count": null,
   "metadata": {},
   "outputs": [],
   "source": []
  }
 ],
 "metadata": {
  "kernelspec": {
   "display_name": "llamabot",
   "language": "python",
   "name": "python3"
  },
  "language_info": {
   "codemirror_mode": {
    "name": "ipython",
    "version": 3
   },
   "file_extension": ".py",
   "mimetype": "text/x-python",
   "name": "python",
   "nbconvert_exporter": "python",
   "pygments_lexer": "ipython3",
   "version": "3.11.8"
  }
 },
 "nbformat": 4,
 "nbformat_minor": 2
}
