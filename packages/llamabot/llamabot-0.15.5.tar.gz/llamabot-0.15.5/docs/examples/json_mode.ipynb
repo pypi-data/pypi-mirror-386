{
 "cells": [
  {
   "cell_type": "code",
   "execution_count": null,
   "metadata": {},
   "outputs": [],
   "source": [
    "from llamabot import SimpleBot\n",
    "\n",
    "bot = SimpleBot(\"You are a bot proficient at returning JSON.\", model_name=\"ollama/mistral\", json_mode=True)\n",
    "bot(\"What is the weather like today? Return in JSON with the following structure: {'location': 'City Name', 'temperature': 'Temperature in Celsius', 'description': 'Weather Description'}\")\n"
   ]
  }
 ],
 "metadata": {
  "kernelspec": {
   "display_name": "llamabot",
   "language": "python",
   "name": "python3"
  },
  "language_info": {
   "codemirror_mode": {
    "name": "ipython",
    "version": 3
   },
   "file_extension": ".py",
   "mimetype": "text/x-python",
   "name": "python",
   "nbconvert_exporter": "python",
   "pygments_lexer": "ipython3",
   "version": "3.11.9"
  }
 },
 "nbformat": 4,
 "nbformat_minor": 2
}
