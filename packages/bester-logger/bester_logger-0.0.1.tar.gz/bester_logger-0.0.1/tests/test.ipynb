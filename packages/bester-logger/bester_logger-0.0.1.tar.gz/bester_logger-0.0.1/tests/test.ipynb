{
 "cells": [
  {
   "cell_type": "code",
   "execution_count": 7,
   "id": "7f7bd074",
   "metadata": {},
   "outputs": [
    {
     "ename": "ValueError",
     "evalue": "All parameters must be provided and non-empty.",
     "output_type": "error",
     "traceback": [
      "\u001b[1;31m---------------------------------------------------------------------------\u001b[0m",
      "\u001b[1;31mValueError\u001b[0m                                Traceback (most recent call last)",
      "Cell \u001b[1;32mIn[7], line 49\u001b[0m\n\u001b[0;32m     46\u001b[0m username \u001b[38;5;241m=\u001b[39m \u001b[38;5;124m'\u001b[39m\u001b[38;5;124m'\u001b[39m  \u001b[38;5;66;03m# Replace with your SQL Server username\u001b[39;00m\n\u001b[0;32m     47\u001b[0m password \u001b[38;5;241m=\u001b[39m \u001b[38;5;124m'\u001b[39m\u001b[38;5;124m'\u001b[39m  \u001b[38;5;66;03m# Replace with your SQL Server password\u001b[39;00m\n\u001b[1;32m---> 49\u001b[0m \u001b[38;5;28;01mif\u001b[39;00m check_database_exists(server, db_to_check, username, password):\n\u001b[0;32m     50\u001b[0m     \u001b[38;5;28mprint\u001b[39m(\u001b[38;5;124mf\u001b[39m\u001b[38;5;124m\"\u001b[39m\u001b[38;5;124mDatabase \u001b[39m\u001b[38;5;124m'\u001b[39m\u001b[38;5;132;01m{\u001b[39;00mdb_to_check\u001b[38;5;132;01m}\u001b[39;00m\u001b[38;5;124m'\u001b[39m\u001b[38;5;124m exists on server \u001b[39m\u001b[38;5;124m'\u001b[39m\u001b[38;5;132;01m{\u001b[39;00mserver\u001b[38;5;132;01m}\u001b[39;00m\u001b[38;5;124m'\u001b[39m\u001b[38;5;124m.\u001b[39m\u001b[38;5;124m\"\u001b[39m)\n\u001b[0;32m     51\u001b[0m \u001b[38;5;28;01melse\u001b[39;00m:\n",
      "Cell \u001b[1;32mIn[7], line 15\u001b[0m, in \u001b[0;36mcheck_database_exists\u001b[1;34m(server_name, database_name, username, password, driver)\u001b[0m\n\u001b[0;32m      4\u001b[0m \u001b[38;5;250m\u001b[39m\u001b[38;5;124;03m\"\"\"\u001b[39;00m\n\u001b[0;32m      5\u001b[0m \u001b[38;5;124;03mChecks if a specific database exists on the SQL Server.\u001b[39;00m\n\u001b[0;32m      6\u001b[0m \n\u001b[1;32m   (...)\u001b[0m\n\u001b[0;32m     12\u001b[0m \u001b[38;5;124;03m    bool: True if the database exists, False otherwise.\u001b[39;00m\n\u001b[0;32m     13\u001b[0m \u001b[38;5;124;03m\"\"\"\u001b[39;00m\n\u001b[0;32m     14\u001b[0m \u001b[38;5;28;01mif\u001b[39;00m \u001b[38;5;129;01mnot\u001b[39;00m \u001b[38;5;28mall\u001b[39m([server_name, database_name, username, password]):\n\u001b[1;32m---> 15\u001b[0m     \u001b[38;5;28;01mraise\u001b[39;00m \u001b[38;5;167;01mValueError\u001b[39;00m(\u001b[38;5;124m\"\u001b[39m\u001b[38;5;124mAll parameters must be provided and non-empty.\u001b[39m\u001b[38;5;124m\"\u001b[39m)\n\u001b[0;32m     17\u001b[0m connection_string \u001b[38;5;241m=\u001b[39m (\n\u001b[0;32m     18\u001b[0m     \u001b[38;5;124mf\u001b[39m\u001b[38;5;124m\"\u001b[39m\u001b[38;5;124mDRIVER=\u001b[39m\u001b[38;5;130;01m{{\u001b[39;00m\u001b[38;5;124mODBC Driver 17 for SQL Server\u001b[39m\u001b[38;5;130;01m}}\u001b[39;00m\u001b[38;5;124m;\u001b[39m\u001b[38;5;124m\"\u001b[39m  \u001b[38;5;66;03m# Adjust driver as needed\u001b[39;00m\n\u001b[0;32m     19\u001b[0m     \u001b[38;5;124mf\u001b[39m\u001b[38;5;124m\"\u001b[39m\u001b[38;5;124mSERVER=\u001b[39m\u001b[38;5;132;01m{\u001b[39;00mserver_name\u001b[38;5;132;01m}\u001b[39;00m\u001b[38;5;124m;\u001b[39m\u001b[38;5;124m\"\u001b[39m\n\u001b[0;32m     20\u001b[0m     \u001b[38;5;124mf\u001b[39m\u001b[38;5;124m\"\u001b[39m\u001b[38;5;124mUID=\u001b[39m\u001b[38;5;132;01m{\u001b[39;00musername\u001b[38;5;132;01m}\u001b[39;00m\u001b[38;5;124m;\u001b[39m\u001b[38;5;124m\"\u001b[39m  \u001b[38;5;66;03m# Uncomment and provide if not using trusted connection\u001b[39;00m\n\u001b[0;32m     21\u001b[0m     \u001b[38;5;124mf\u001b[39m\u001b[38;5;124m\"\u001b[39m\u001b[38;5;124mPWD=\u001b[39m\u001b[38;5;132;01m{\u001b[39;00mpassword\u001b[38;5;132;01m}\u001b[39;00m\u001b[38;5;124m;\u001b[39m\u001b[38;5;124m\"\u001b[39m  \u001b[38;5;66;03m# Uncomment and provide if not using trusted connection\u001b[39;00m\n\u001b[0;32m     22\u001b[0m )\n\u001b[0;32m     24\u001b[0m \u001b[38;5;28;01mtry\u001b[39;00m:\n",
      "\u001b[1;31mValueError\u001b[0m: All parameters must be provided and non-empty."
     ]
    }
   ],
   "source": [
    "import pyodbc\n",
    "\n",
    "def check_database_exists(server_name, database_name, username, password, driver=\"ODBC Driver 17 for SQL Server\"):\n",
    "    \"\"\"\n",
    "    Checks if a specific database exists on the SQL Server.\n",
    "\n",
    "    Args:\n",
    "        server_name (str): The name of the SQL Server instance.\n",
    "        database_name (str): The name of the database to check.\n",
    "\n",
    "    Returns:\n",
    "        bool: True if the database exists, False otherwise.\n",
    "    \"\"\"\n",
    "    if not all([server_name, database_name, username, password]):\n",
    "        raise ValueError(\"All parameters must be provided and non-empty.\")\n",
    "\n",
    "    connection_string = (\n",
    "        f\"DRIVER={{ODBC Driver 17 for SQL Server}};\"  # Adjust driver as needed\n",
    "        f\"SERVER={server_name};\"\n",
    "        f\"UID={username};\"  # Uncomment and provide if not using trusted connection\n",
    "        f\"PWD={password};\"  # Uncomment and provide if not using trusted connection\n",
    "    )\n",
    "\n",
    "    try:\n",
    "        cnxn = pyodbc.connect(connection_string)\n",
    "        cursor = cnxn.cursor()\n",
    "\n",
    "        # Query to check if the database exists\n",
    "        query = f\"SELECT DB_ID('{database_name}')\"\n",
    "        cursor.execute(query)\n",
    "\n",
    "        db_id = cursor.fetchone()[0]\n",
    "        cursor.close()\n",
    "        cnxn.close()\n",
    "\n",
    "        return db_id is not None\n",
    "\n",
    "    except pyodbc.Error as ex:\n",
    "        sqlstate = ex.args[0]\n",
    "        print(f\"Error connecting to SQL Server: {sqlstate}\")\n",
    "        return False\n",
    "\n",
    "# Example usage:\n",
    "server = ''  # Replace with your SQL Server instance name\n",
    "db_to_check = ''  # Replace with the database name you want to check\n",
    "username = ''  # Replace with your SQL Server username\n",
    "password = ''  # Replace with your SQL Server password\n",
    "\n",
    "if check_database_exists(server, db_to_check, username, password):\n",
    "    print(f\"Database '{db_to_check}' exists on server '{server}'.\")\n",
    "else:\n",
    "    print(f\"Database '{db_to_check}' does NOT exist on server '{server}'.\")\n"
   ]
  },
  {
   "cell_type": "code",
   "execution_count": 4,
   "id": "128bb29c",
   "metadata": {},
   "outputs": [
    {
     "name": "stdout",
     "output_type": "stream",
     "text": [
      "ChatCompletion(id='chatcmpl-CRCLXm0y5IIcyNvwnRniUcah3o7pf', choices=[Choice(finish_reason='stop', index=0, logprobs=None, message=ChatCompletionMessage(content='Hi — I’m doing well, thanks! How can I help you today?', refusal=None, role='assistant', annotations=[], audio=None, function_call=None, tool_calls=None), content_filter_results={'hate': {'filtered': False, 'severity': 'safe'}, 'protected_material_code': {'filtered': False, 'detected': False}, 'protected_material_text': {'filtered': False, 'detected': False}, 'self_harm': {'filtered': False, 'severity': 'safe'}, 'sexual': {'filtered': False, 'severity': 'safe'}, 'violence': {'filtered': False, 'severity': 'safe'}})], created=1760598351, model='gpt-5-mini-2025-08-07', object='chat.completion', service_tier=None, system_fingerprint=None, usage=CompletionUsage(completion_tokens=26, prompt_tokens=12, total_tokens=38, completion_tokens_details=CompletionTokensDetails(accepted_prediction_tokens=0, audio_tokens=0, reasoning_tokens=0, rejected_prediction_tokens=0), prompt_tokens_details=PromptTokensDetails(audio_tokens=0, cached_tokens=0)), prompt_filter_results=[{'prompt_index': 0, 'content_filter_results': {'hate': {'filtered': False, 'severity': 'safe'}, 'jailbreak': {'filtered': False, 'detected': False}, 'self_harm': {'filtered': False, 'severity': 'safe'}, 'sexual': {'filtered': False, 'severity': 'safe'}, 'violence': {'filtered': False, 'severity': 'safe'}}}])\n",
      "Hi — I’m doing well, thanks! How can I help you today?\n"
     ]
    }
   ],
   "source": [
    "import dotenv\n",
    "from openai import AzureOpenAI\n",
    "import os\n",
    "def AI_Run(content):\n",
    "    dotenv.load_dotenv()\n",
    "\n",
    "    client = AzureOpenAI(\n",
    "        api_key=os.getenv(\"AZURE_OPENAI_API_KEY\"),  \n",
    "        api_version=\"2025-01-01-preview\",\n",
    "        azure_endpoint=os.getenv(\"AZURE_OPENAI_ENDPOINT\")\n",
    "    )\n",
    "\n",
    "    response = client.chat.completions.create(\n",
    "        model=\"gpt-5-mini\",\n",
    "        messages=[\n",
    "            {\n",
    "                \"role\": \"user\",\n",
    "                \"content\": content\n",
    "            }\n",
    "        ]\n",
    "    )\n",
    "\n",
    "    print(response)\n",
    "    return response  # Return the full response object for AI logging\n",
    "x = AI_Run(\"Hello, how are you?\")\n",
    "print(x.choices[0].message.content)\n",
    "print(x.choices[0].CompletionUsage)  # Full message object"
   ]
  },
  {
   "cell_type": "code",
   "execution_count": 12,
   "id": "e88fba3f",
   "metadata": {},
   "outputs": [
    {
     "name": "stdout",
     "output_type": "stream",
     "text": [
      "Hi — I’m doing well, thanks! How can I help you today?\n",
      "gpt-5-mini-2025-08-07\n",
      "38\n",
      "12\n",
      "26\n"
     ]
    }
   ],
   "source": [
    "print(x.choices[0].message.content)\n",
    "print(x.model)  # Full message object\n",
    "print(x.usage.total_tokens)\n",
    "print(x.usage.prompt_tokens)\n",
    "print(x.usage.completion_tokens)"
   ]
  },
  {
   "cell_type": "code",
   "execution_count": 20,
   "id": "8c59abff",
   "metadata": {},
   "outputs": [
    {
     "name": "stdout",
     "output_type": "stream",
     "text": [
      "Attempting SQLAlchemy connection to SPL-VMSQLIT19A...\n",
      "✗ SQLAlchemy connection failed: (pyodbc.OperationalError) ('08001', '[08001] [Microsoft][ODBC Driver 17 for SQL Server]Named Pipes Provider: Could not open a connection to SQL Server [53].  (53) (SQLDriverConnect); [08001] [Microsoft][ODBC Driver 17 for SQL Server]Login timeout expired (0); [08001] [Microsoft][ODBC Driver 17 for SQL Server]Invalid connection string attribute (0); [08001] [Microsoft][ODBC Driver 17 for SQL Server]A network-related or instance-specific error has occurred while establishing a connection to SQL Server. Server is not found or not accessible. Check if instance name is correct and if SQL Server is configured to allow remote connections. For more information see SQL Server Books Online. (53)')\n",
      "(Background on this error at: https://sqlalche.me/e/20/e3q8)\n"
     ]
    }
   ],
   "source": [
    "from urllib.parse import quote_plus\n",
    "from sqlalchemy import create_engine, text\n",
    "from sqlalchemy.exc import SQLAlchemyError\n",
    "\n",
    "# URL encode the connection parameters\n",
    "encoded_driver = quote_plus(\"ODBC Driver 17 for SQL Server\")\n",
    "connection_string = f\"mssql+pyodbc://{username}:{password}@{server}/{database}?driver={encoded_driver}&connection_timeout=30&command_timeout=30\"\n",
    "\n",
    "try:\n",
    "    print(f\"Attempting SQLAlchemy connection to {server}...\")\n",
    "    engine = create_engine(connection_string)\n",
    "    \n",
    "    with engine.connect() as connection:\n",
    "        result = connection.execute(text(\"SELECT @@VERSION\"))\n",
    "        version = result.fetchone()\n",
    "        print(f\"✓ SQLAlchemy connection successful!\")\n",
    "        print(f\"SQL Server version: {version[0]}\")\n",
    "        \n",
    "        result = connection.execute(text(\"\"\"\n",
    "            SELECT TABLE_NAME \n",
    "            FROM INFORMATION_SCHEMA.TABLES \n",
    "            WHERE TABLE_NAME = 'ConsumptionLogs'\n",
    "        \"\"\"))\n",
    "        table = result.fetchone()\n",
    "        if table:\n",
    "            print(f\"✓ Table 'ConsumptionLogs' exists\")\n",
    "        else:\n",
    "            print(f\"✗ Table 'ConsumptionLogs' NOT found\")\n",
    "    \n",
    "except SQLAlchemyError as e:\n",
    "    print(f\"✗ SQLAlchemy connection failed: {e}\")\n",
    "except Exception as e:\n",
    "    print(f\"✗ Unexpected error: {e}\")"
   ]
  },
  {
   "cell_type": "code",
   "execution_count": null,
   "id": "ad4a3795",
   "metadata": {},
   "outputs": [
    {
     "name": "stdout",
     "output_type": "stream",
     "text": [
      "Attempting to connect to SPL-VMSQLIT19A...\n",
      "✓ Connection successful!\n",
      "SQL Server version: Microsoft SQL Server 2019 (RTM-CU25-GDR) (KB5036335) - 15.0.4360.2 (X64) \n",
      "\tMar 19 2024 00:23:01 \n",
      "\tCopyright (C) 2019 Microsoft Corporation\n",
      "\tStandard Edition (64-bit) on Windows Server 2019 Datacenter 10.0 <X64> (Build 17763: ) (Hypervisor)\n",
      "\n",
      "✓ Table 'AI.ConsumptionLogs' exists\n",
      "✓ Data inserted successfully! Rows affected: 1\n"
     ]
    }
   ],
   "source": [
    "import pyodbc\n",
    "\n",
    "server = \"SPL-VMSQLIT19A\"\n",
    "database = \"DWHStaging\"\n",
    "username = \"Host_ETL_Datamart\"\n",
    "password = \"Host_ETL_Datamart@123$%\"\n",
    "\n",
    "# Test 1: Basic connection\n",
    "connection_string = (\n",
    "    f\"DRIVER={{ODBC Driver 17 for SQL Server}};\"\n",
    "    f\"SERVER={server};\"\n",
    "    f\"DATABASE={database};\"\n",
    "    f\"UID={username};\"\n",
    "    f\"PWD={password};\"\n",
    "    f\"Timeout=5;\"\n",
    ")\n",
    "\n",
    "try:\n",
    "    print(f\"Attempting to connect to {server}...\")\n",
    "    cnxn = pyodbc.connect(connection_string)\n",
    "    cursor = cnxn.cursor()\n",
    "    cursor.execute(\"SELECT @@VERSION\")\n",
    "    version = cursor.fetchone()\n",
    "    print(f\"✓ Connection successful!\")\n",
    "    print(f\"SQL Server version: {version[0]}\")\n",
    "    \n",
    "    # Check if table exists and get schema information\n",
    "    cursor.execute(\"\"\"\n",
    "        SELECT TABLE_SCHEMA, TABLE_NAME \n",
    "        FROM INFORMATION_SCHEMA.TABLES \n",
    "        WHERE TABLE_NAME = 'ConsumptionLogs'\n",
    "    \"\"\")\n",
    "    table = cursor.fetchone()\n",
    "    if table:\n",
    "        schema_name = table[0]\n",
    "        table_name = table[1]\n",
    "        print(f\"✓ Table '{schema_name}.{table_name}' exists\")\n",
    "    else:\n",
    "        print(f\"✗ Table 'ConsumptionLogs' NOT found\")\n",
    "        schema_name = \"dbo\"  # Default schema\n",
    "    \n",
    "    # Insert data with schema prefix\n",
    "    insert_query = f\"\"\"\n",
    "    INSERT INTO {schema_name}.ConsumptionLogs (\n",
    "    [AIProvider], [Model], [Prompt], [Completion],\n",
    "    [TokensPrompt], [TokensCompletion], [TokensTotal], [DurationSeconds]\n",
    "    )\n",
    "    VALUES (?, ?, ?, ?, ?, ?, ?, ?)\n",
    "    \"\"\"\n",
    "\n",
    "    cursor.execute(\n",
    "        insert_query,\n",
    "        (\n",
    "            \"hello\",\n",
    "            \"hello\",\n",
    "            \"hello\",\n",
    "            \"hello\",\n",
    "            1,\n",
    "            1,\n",
    "            1000,\n",
    "            0.12,\n",
    "        )\n",
    "    )\n",
    "    cnxn.commit()  # Commit the transaction\n",
    "    print(f\"✓ Data inserted successfully! Rows affected: {cursor.rowcount}\")\n",
    "    \n",
    "    cursor.close()\n",
    "    cnxn.close()\n",
    "except pyodbc.Error as e:\n",
    "    print(f\"✗ Connection failed: {e}\")\n"
   ]
  },
  {
   "cell_type": "code",
   "execution_count": null,
   "id": "61a43f57",
   "metadata": {},
   "outputs": [],
   "source": []
  }
 ],
 "metadata": {
  "kernelspec": {
   "display_name": "base",
   "language": "python",
   "name": "python3"
  },
  "language_info": {
   "codemirror_mode": {
    "name": "ipython",
    "version": 3
   },
   "file_extension": ".py",
   "mimetype": "text/x-python",
   "name": "python",
   "nbconvert_exporter": "python",
   "pygments_lexer": "ipython3",
   "version": "3.12.3"
  }
 },
 "nbformat": 4,
 "nbformat_minor": 5
}
