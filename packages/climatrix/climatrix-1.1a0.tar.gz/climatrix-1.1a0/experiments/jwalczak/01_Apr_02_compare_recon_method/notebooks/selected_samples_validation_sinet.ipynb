{
 "cells": [
  {
   "cell_type": "markdown",
   "id": "7b247b8b",
   "metadata": {},
   "source": [
    "### Selected samples SiNET validation\n",
    "\n",
    "**Author:** Jakub Walczak, PhD\n",
    "\n",
    "This notebook contains validation of the proposed SiNET method against \n",
    "kriging and IDW for a set of validation samples.\n",
    "\n",
    "The notebook was used to upgrade the design of SiNET."
   ]
  },
  {
   "cell_type": "code",
   "execution_count": 1,
   "id": "0d8615ec",
   "metadata": {},
   "outputs": [],
   "source": [
    "import csv\n",
    "import shutil\n",
    "from functools import partial\n",
    "from pathlib import Path\n",
    "from typing import Any, Callable\n",
    "\n",
    "import xarray as xr\n",
    "from rich.console import Console\n",
    "\n",
    "import climatrix as cm\n",
    "\n",
    "%load_ext rich"
   ]
  },
  {
   "cell_type": "code",
   "execution_count": 2,
   "id": "9edcee63",
   "metadata": {},
   "outputs": [
    {
     "data": {
      "text/html": [
       "<pre style=\"white-space:pre;overflow-x:auto;line-height:normal;font-family:Menlo,'DejaVu Sans Mono',consolas,'Courier New',monospace\"><span style=\"color: #008000; text-decoration-color: #008000; font-weight: bold\">Using NaN policy: </span> resample\n",
       "</pre>\n"
      ],
      "text/plain": [
       "\u001b[1;32mUsing NaN policy: \u001b[0m resample\n"
      ]
     },
     "metadata": {},
     "output_type": "display_data"
    },
    {
     "data": {
      "text/html": [
       "<pre style=\"white-space:pre;overflow-x:auto;line-height:normal;font-family:Menlo,'DejaVu Sans Mono',consolas,'Courier New',monospace\"><span style=\"color: #008000; text-decoration-color: #008000; font-weight: bold\">Using seed: </span> <span style=\"color: #008080; text-decoration-color: #008080; font-weight: bold\">1</span>\n",
       "</pre>\n"
      ],
      "text/plain": [
       "\u001b[1;32mUsing seed: \u001b[0m \u001b[1;36m1\u001b[0m\n"
      ]
     },
     "metadata": {},
     "output_type": "display_data"
    },
    {
     "data": {
      "text/html": [
       "<pre style=\"white-space:pre;overflow-x:auto;line-height:normal;font-family:Menlo,'DejaVu Sans Mono',consolas,'Courier New',monospace\"><span style=\"color: #008000; text-decoration-color: #008000; font-weight: bold\">Using dataset path: </span> <span style=\"color: #800080; text-decoration-color: #800080\">/home/jakub/projects/climatrix/experiments/jwalczak/01_Apr_02_compare_recon_method/</span><span style=\"color: #ff00ff; text-decoration-color: #ff00ff\">data</span>\n",
       "</pre>\n"
      ],
      "text/plain": [
       "\u001b[1;32mUsing dataset path: \u001b[0m \u001b[35m/home/jakub/projects/climatrix/experiments/jwalczak/01_Apr_02_compare_recon_method/\u001b[0m\u001b[95mdata\u001b[0m\n"
      ]
     },
     "metadata": {},
     "output_type": "display_data"
    }
   ],
   "source": [
    "console = Console()\n",
    "\n",
    "NAN_POLICY = \"resample\"\n",
    "console.print(\"[bold green]Using NaN policy: [/bold green]\", NAN_POLICY)\n",
    "\n",
    "SEED = 1\n",
    "console.print(\"[bold green]Using seed: [/bold green]\", SEED)\n",
    "\n",
    "DSET_PATH = Path(__session__).parent.parent.joinpath(\"data\")\n",
    "console.print(\"[bold green]Using dataset path: [/bold green]\", DSET_PATH)\n",
    "\n",
    "EUROPE_BOUNDS = {\"north\": 71, \"south\": 36, \"west\": -24, \"east\": 35}\n",
    "EUROPE_DOMAIN = cm.Domain.from_lat_lon(\n",
    "    lat=slice(EUROPE_BOUNDS[\"south\"], EUROPE_BOUNDS[\"north\"], 0.1),\n",
    "    lon=slice(EUROPE_BOUNDS[\"west\"], EUROPE_BOUNDS[\"east\"], 0.1),\n",
    "    kind=\"dense\",\n",
    ")\n",
    "cm.seed_all(SEED)"
   ]
  },
  {
   "cell_type": "code",
   "execution_count": 3,
   "id": "38a16911",
   "metadata": {},
   "outputs": [],
   "source": [
    "def get_all_dataset_idx() -> list[str]:\n",
    "    return sorted(\n",
    "        list({path.stem.split(\"_\")[-1] for path in DSET_PATH.glob(\"*.nc\")})\n",
    "    )"
   ]
  },
  {
   "cell_type": "code",
   "execution_count": 4,
   "id": "fe293711",
   "metadata": {},
   "outputs": [],
   "source": [
    "def run_single_method(\n",
    "    d: str, i: int, method: str, reconstruct_dense: bool = True, **params\n",
    "):\n",
    "    cm.seed_all(SEED)\n",
    "    train_dset = xr.open_dataset(\n",
    "        DSET_PATH / f\"ecad_obs_europe_train_{d}.nc\"\n",
    "    ).cm\n",
    "    val_dset = xr.open_dataset(DSET_PATH / f\"ecad_obs_europe_val_{d}.nc\").cm\n",
    "    reconstructed_dset = train_dset.reconstruct(\n",
    "        val_dset.domain,\n",
    "        method=method,\n",
    "        checkpoint=\"./checkpoint\",\n",
    "        overwrite_checkpoint=True,\n",
    "        validation=val_dset,\n",
    "        **params,\n",
    "    )\n",
    "    if reconstruct_dense:\n",
    "        reconstructed_dense = train_dset.reconstruct(\n",
    "            EUROPE_DOMAIN, method=method, checkpoint=\"./checkpoint\", **params\n",
    "        )\n",
    "    return val_dset, reconstructed_dset, reconstructed_dense"
   ]
  },
  {
   "cell_type": "code",
   "execution_count": 5,
   "id": "70d43dfa-7613-49fa-b3e6-f1e38f9e23d1",
   "metadata": {},
   "outputs": [
    {
     "data": {
      "text/html": [
       "<pre style=\"white-space:pre;overflow-x:auto;line-height:normal;font-family:Menlo,'DejaVu Sans Mono',consolas,'Courier New',monospace\"><span style=\"color: #008000; text-decoration-color: #008000; font-weight: bold\">There is </span><span style=\"color: #808000; text-decoration-color: #808000; font-weight: bold\">100</span><span style=\"color: #008000; text-decoration-color: #008000; font-weight: bold\"> samples available </span>\n",
       "</pre>\n"
      ],
      "text/plain": [
       "\u001b[1;32mThere is \u001b[0m\u001b[1;33m100\u001b[0m\u001b[1;32m samples available \u001b[0m\n"
      ]
     },
     "metadata": {},
     "output_type": "display_data"
    }
   ],
   "source": [
    "dset_idx = get_all_dataset_idx()\n",
    "console.print(\n",
    "    f\"[bold green]There is [bold yellow]{len(dset_idx)}[/bold yellow] samples available [/bold green]\"\n",
    ")"
   ]
  },
  {
   "cell_type": "code",
   "execution_count": 6,
   "id": "9703e971-a500-4a61-805c-2d329dea92de",
   "metadata": {},
   "outputs": [],
   "source": [
    "IDX = 0"
   ]
  },
  {
   "cell_type": "code",
   "execution_count": null,
   "id": "e9900186-1c3b-4f2d-9299-99fbcc04f1dd",
   "metadata": {
    "scrolled": true
   },
   "outputs": [],
   "source": [
    "sinet_val_dset, sinet_reconstructed_dset, sinet_reconstructed_dense = (\n",
    "    run_single_method(\n",
    "        dset_idx[IDX],\n",
    "        IDX,\n",
    "        \"sinet\",\n",
    "        lr=1e-3,\n",
    "        weight_decay=0,\n",
    "        hidden_dim=32,\n",
    "        sorting_group_size=16,\n",
    "        layers=2,\n",
    "        num_epochs=20,\n",
    "        batch_size=20,\n",
    "        num_workers=0,\n",
    "        device=\"cuda\",\n",
    "        gradient_clipping_value=1e2,\n",
    "        mse_loss_weight=2.0,\n",
    "        eikonal_loss_weight=1e-4,\n",
    "        laplace_loss_weight=1e-4,\n",
    "        patience=None,\n",
    "    )\n",
    ")"
   ]
  },
  {
   "cell_type": "code",
   "execution_count": null,
   "id": "826876b7-c842-4ee7-bc90-64346cce5d59",
   "metadata": {},
   "outputs": [],
   "source": [
    "cm.Comparison(sinet_val_dset, sinet_reconstructed_dset).compute_report()"
   ]
  },
  {
   "cell_type": "markdown",
   "id": "ba9e64ee-7601-41d6-bed0-a942fda810ec",
   "metadata": {},
   "source": [
    "### After optimising hyperpararmeters"
   ]
  },
  {
   "cell_type": "code",
   "execution_count": 7,
   "id": "9776e675-5f71-4d76-aa18-74dbc60ec9f6",
   "metadata": {},
   "outputs": [
    {
     "data": {
      "text/html": [
       "<pre style=\"white-space:pre;overflow-x:auto;line-height:normal;font-family:Menlo,'DejaVu Sans Mono',consolas,'Courier New',monospace\"><span style=\"color: #008000; text-decoration-color: #008000; font-weight: bold\">Hyperparameter bounds: </span>\n",
       "<span style=\"font-weight: bold\">{</span>\n",
       "    <span style=\"color: #008000; text-decoration-color: #008000\">'lr'</span>: <span style=\"font-weight: bold\">(</span><span style=\"color: #008080; text-decoration-color: #008080; font-weight: bold\">1e-05</span>, <span style=\"color: #008080; text-decoration-color: #008080; font-weight: bold\">10.0</span><span style=\"font-weight: bold\">)</span>,\n",
       "    <span style=\"color: #008000; text-decoration-color: #008000\">'weight_decay'</span>: <span style=\"font-weight: bold\">(</span><span style=\"color: #008080; text-decoration-color: #008080; font-weight: bold\">0</span>, <span style=\"color: #008080; text-decoration-color: #008080; font-weight: bold\">0.1</span><span style=\"font-weight: bold\">)</span>,\n",
       "    <span style=\"color: #008000; text-decoration-color: #008000\">'batch_size'</span>: <span style=\"font-weight: bold\">(</span><span style=\"color: #008080; text-decoration-color: #008080; font-weight: bold\">32</span>, <span style=\"color: #008080; text-decoration-color: #008080; font-weight: bold\">4096</span><span style=\"font-weight: bold\">)</span>,\n",
       "    <span style=\"color: #008000; text-decoration-color: #008000\">'mse_loss_weight'</span>: <span style=\"font-weight: bold\">(</span><span style=\"color: #008080; text-decoration-color: #008080; font-weight: bold\">1e-05</span>, <span style=\"color: #008080; text-decoration-color: #008080; font-weight: bold\">100</span><span style=\"font-weight: bold\">)</span>,\n",
       "    <span style=\"color: #008000; text-decoration-color: #008000\">'eikonal_loss_weight'</span>: <span style=\"font-weight: bold\">(</span><span style=\"color: #008080; text-decoration-color: #008080; font-weight: bold\">0.0</span>, <span style=\"color: #008080; text-decoration-color: #008080; font-weight: bold\">10.0</span><span style=\"font-weight: bold\">)</span>,\n",
       "    <span style=\"color: #008000; text-decoration-color: #008000\">'laplace_loss_weight'</span>: <span style=\"font-weight: bold\">(</span><span style=\"color: #008080; text-decoration-color: #008080; font-weight: bold\">0.0</span>, <span style=\"color: #008080; text-decoration-color: #008080; font-weight: bold\">10.0</span><span style=\"font-weight: bold\">)</span>,\n",
       "    <span style=\"color: #008000; text-decoration-color: #008000\">'scale'</span>: <span style=\"font-weight: bold\">(</span><span style=\"color: #008080; text-decoration-color: #008080; font-weight: bold\">0.01</span>, <span style=\"color: #008080; text-decoration-color: #008080; font-weight: bold\">100.0</span><span style=\"font-weight: bold\">)</span>,\n",
       "    <span style=\"color: #008000; text-decoration-color: #008000\">'hidden_dim'</span>: <span style=\"font-weight: bold\">[</span><span style=\"color: #008080; text-decoration-color: #008080; font-weight: bold\">16</span>, <span style=\"color: #008080; text-decoration-color: #008080; font-weight: bold\">64</span>, <span style=\"color: #008080; text-decoration-color: #008080; font-weight: bold\">128</span>, <span style=\"color: #008080; text-decoration-color: #008080; font-weight: bold\">256</span><span style=\"font-weight: bold\">]</span>\n",
       "<span style=\"font-weight: bold\">}</span>\n",
       "</pre>\n"
      ],
      "text/plain": [
       "\u001b[1;32mHyperparameter bounds: \u001b[0m\n",
       "\u001b[1m{\u001b[0m\n",
       "    \u001b[32m'lr'\u001b[0m: \u001b[1m(\u001b[0m\u001b[1;36m1e-05\u001b[0m, \u001b[1;36m10.0\u001b[0m\u001b[1m)\u001b[0m,\n",
       "    \u001b[32m'weight_decay'\u001b[0m: \u001b[1m(\u001b[0m\u001b[1;36m0\u001b[0m, \u001b[1;36m0.1\u001b[0m\u001b[1m)\u001b[0m,\n",
       "    \u001b[32m'batch_size'\u001b[0m: \u001b[1m(\u001b[0m\u001b[1;36m32\u001b[0m, \u001b[1;36m4096\u001b[0m\u001b[1m)\u001b[0m,\n",
       "    \u001b[32m'mse_loss_weight'\u001b[0m: \u001b[1m(\u001b[0m\u001b[1;36m1e-05\u001b[0m, \u001b[1;36m100\u001b[0m\u001b[1m)\u001b[0m,\n",
       "    \u001b[32m'eikonal_loss_weight'\u001b[0m: \u001b[1m(\u001b[0m\u001b[1;36m0.0\u001b[0m, \u001b[1;36m10.0\u001b[0m\u001b[1m)\u001b[0m,\n",
       "    \u001b[32m'laplace_loss_weight'\u001b[0m: \u001b[1m(\u001b[0m\u001b[1;36m0.0\u001b[0m, \u001b[1;36m10.0\u001b[0m\u001b[1m)\u001b[0m,\n",
       "    \u001b[32m'scale'\u001b[0m: \u001b[1m(\u001b[0m\u001b[1;36m0.01\u001b[0m, \u001b[1;36m100.0\u001b[0m\u001b[1m)\u001b[0m,\n",
       "    \u001b[32m'hidden_dim'\u001b[0m: \u001b[1m[\u001b[0m\u001b[1;36m16\u001b[0m, \u001b[1;36m64\u001b[0m, \u001b[1;36m128\u001b[0m, \u001b[1;36m256\u001b[0m\u001b[1m]\u001b[0m\n",
       "\u001b[1m}\u001b[0m\n"
      ]
     },
     "metadata": {},
     "output_type": "display_data"
    },
    {
     "data": {
      "text/html": [
       "<pre style=\"white-space:pre;overflow-x:auto;line-height:normal;font-family:Menlo,'DejaVu Sans Mono',consolas,'Courier New',monospace\"><span style=\"color: #008000; text-decoration-color: #008000; font-weight: bold\">Using nbr initial points for optimization: </span> <span style=\"color: #008080; text-decoration-color: #008080; font-weight: bold\">50</span>\n",
       "</pre>\n"
      ],
      "text/plain": [
       "\u001b[1;32mUsing nbr initial points for optimization: \u001b[0m \u001b[1;36m50\u001b[0m\n"
      ]
     },
     "metadata": {},
     "output_type": "display_data"
    },
    {
     "data": {
      "text/html": [
       "<pre style=\"white-space:pre;overflow-x:auto;line-height:normal;font-family:Menlo,'DejaVu Sans Mono',consolas,'Courier New',monospace\"><span style=\"color: #008000; text-decoration-color: #008000; font-weight: bold\">Using iterations for optimization</span> <span style=\"color: #008080; text-decoration-color: #008080; font-weight: bold\">100</span>\n",
       "</pre>\n"
      ],
      "text/plain": [
       "\u001b[1;32mUsing iterations for optimization\u001b[0m \u001b[1;36m100\u001b[0m\n"
      ]
     },
     "metadata": {},
     "output_type": "display_data"
    },
    {
     "data": {
      "text/html": [
       "<pre style=\"white-space:pre;overflow-x:auto;line-height:normal;font-family:Menlo,'DejaVu Sans Mono',consolas,'Courier New',monospace\"><span style=\"color: #008000; text-decoration-color: #008000; font-weight: bold\">Dataset: </span> <span style=\"color: #008080; text-decoration-color: #008080; font-weight: bold\">18850916</span>\n",
       "</pre>\n"
      ],
      "text/plain": [
       "\u001b[1;32mDataset: \u001b[0m \u001b[1;36m18850916\u001b[0m\n"
      ]
     },
     "metadata": {},
     "output_type": "display_data"
    }
   ],
   "source": [
    "BOUNDS = {\n",
    "    \"lr\": (1e-5, 10.0),\n",
    "    \"weight_decay\": (0, 1e-1),\n",
    "    \"batch_size\": (32, 4096),\n",
    "    \"mse_loss_weight\": (1e-5, 100),\n",
    "    \"eikonal_loss_weight\": (0.0, 10.0),\n",
    "    \"laplace_loss_weight\": (0.0, 10.0),\n",
    "    \"scale\": (0.01, 100.0),\n",
    "    \"hidden_dim\": [16, 64, 128, 256],\n",
    "}\n",
    "console.print(\"[bold green]Hyperparameter bounds: [/bold green]\", BOUNDS)\n",
    "\n",
    "OPTIM_INIT_POINTS: int = 50\n",
    "console.print(\n",
    "    \"[bold green]Using nbr initial points for optimization: [/bold green]\",\n",
    "    OPTIM_INIT_POINTS,\n",
    ")\n",
    "\n",
    "OPTIM_N_ITERS: int = 100\n",
    "console.print(\n",
    "    \"[bold green]Using iterations for optimization[/bold green]\", OPTIM_N_ITERS\n",
    ")\n",
    "console.print(\n",
    "    \"[bold green]Dataset: [/bold green]\", dset_idx[IDX]\n",
    ")"
   ]
  },
  {
   "cell_type": "code",
   "execution_count": 8,
   "id": "9aa250c9-8552-48bf-a6b0-921045731a84",
   "metadata": {},
   "outputs": [],
   "source": [
    "def find_hyperparameters(\n",
    "    train_dset: cm.BaseClimatrixDataset,\n",
    "    val_dset: cm.BaseClimatrixDataset,\n",
    "    bounds: dict[str, tuple],\n",
    "    n_init_points: int = 30,\n",
    "    n_iter: int = 200,\n",
    "    seed: int = 0,\n",
    "    verbose: int = 2,\n",
    ") -> tuple[float, dict[str, float]]:\n",
    "    finder = cm.optim.HParamFinder(\n",
    "        \"sinet\",\n",
    "        train_dset,\n",
    "        val_dset,\n",
    "        metric=\"mae\",\n",
    "        n_iters=OPTIM_N_ITERS,\n",
    "        bounds=BOUNDS,\n",
    "        random_seed=SEED,\n",
    "        exclude=[\"num_epochs\"]\n",
    "    )\n",
    "    result = finder.optimize()\n",
    "    return result\n",
    "\n",
    "\n",
    "def run_single_experiment(d: str):\n",
    "    train_dset = xr.open_dataset(\n",
    "        DSET_PATH / f\"ecad_obs_europe_train_{d}.nc\"\n",
    "    ).cm\n",
    "    val_dset = xr.open_dataset(DSET_PATH / f\"ecad_obs_europe_val_{d}.nc\").cm\n",
    "    result = find_hyperparameters(\n",
    "        train_dset,\n",
    "        val_dset,\n",
    "        BOUNDS,\n",
    "        n_init_points=OPTIM_INIT_POINTS,\n",
    "        n_iter=OPTIM_N_ITERS,\n",
    "        seed=SEED,\n",
    "        verbose=2,\n",
    "    )\n",
    "    console.print(\"[bold yellow]Optimized parameters:[/bold yellow]\")\n",
    "    console.print(\n",
    "        \"[yellow]Learning rate (lr):[/yellow]\", result[\"best_params\"][\"lr\"]\n",
    "    )\n",
    "    console.print(\n",
    "        \"[yellow]Number of epochs:[/yellow]\",\n",
    "        result[\"best_params\"][\"num_epochs\"],\n",
    "    )\n",
    "    console.print(\n",
    "        \"[yellow]Scale:[/yellow]\",\n",
    "        result[\"best_params\"][\"scale\"],\n",
    "    )\n",
    "    console.print(\n",
    "        \"[yellow]Batch size:[/yellow]\", result[\"best_params\"][\"batch_size\"]\n",
    "    )\n",
    "    console.print(\n",
    "        \"[yellow]MSE loss weight:[/yellow]\",\n",
    "        result[\"best_params\"][\"mse_loss_weight\"],\n",
    "    )\n",
    "    console.print(\n",
    "        \"[yellow]Eikonal loss weight:[/yellow]\",\n",
    "        result[\"best_params\"][\"eikonal_loss_weight\"],\n",
    "    )\n",
    "    console.print(\n",
    "        \"[yellow]Laplace loss weight:[/yellow]\",\n",
    "        result[\"best_params\"][\"laplace_loss_weight\"],\n",
    "    )\n",
    "    console.print(\n",
    "        \"[yellow]Early stopping patience:[/yellow]\",\n",
    "        result[\"best_params\"][\"patience\"],\n",
    "    )\n",
    "    console.print(\n",
    "        \"[yellow]Hidden dimension:[/yellow]\",\n",
    "        result[\"best_params\"][\"hidden_dim\"],\n",
    "    )\n",
    "    console.print(\n",
    "        \"[yellow]Weight decay:[/yellow]\",\n",
    "        result[\"best_params\"][\"weight_decay\"],\n",
    "    )    \n",
    "    console.print(\"[yellow]Best loss:[/yellow]\", result[\"best_score\"])\n",
    "    reconstructed_dset = train_dset.reconstruct(\n",
    "        val_dset.domain,\n",
    "        method=\"sinet\",\n",
    "        device=\"cuda\",\n",
    "        lr=result[\"best_params\"][\"lr\"],\n",
    "        weight_decay=result[\"best_params\"][\"weight_decay\"],\n",
    "        num_epochs=result[\"best_params\"][\"num_epochs\"],\n",
    "        batch_size=result[\"best_params\"][\"batch_size\"],\n",
    "        num_workers=0,\n",
    "        scale=result[\"best_params\"][\"scale\"],\n",
    "        mse_loss_weight=result[\"best_params\"][\"mse_loss_weight\"],\n",
    "        eikonal_loss_weight=result[\"best_params\"][\"eikonal_loss_weight\"],\n",
    "        laplace_loss_weight=result[\"best_params\"][\"laplace_loss_weight\"],\n",
    "        patience=result[\"best_params\"][\"patience\"],\n",
    "        hidden_dim=result[\"best_params\"][\"hidden_dim\"],\n",
    "        checkpoint=\"./sinet_checkpoint.pth\",\n",
    "        overwrite_checkpoint=True,\n",
    "    )\n",
    "    cmp = cm.Comparison(reconstructed_dset, val_dset)\n",
    "    metrics = cmp.compute_report()\n",
    "    metrics[\"dataset_id\"] = d\n",
    "    hyperparams = {\n",
    "        \"dataset_id\": d,\n",
    "        \"lr\": result[\"best_params\"][\"lr\"],\n",
    "        \"num_epochs\": result[\"best_params\"][\"num_epochs\"],\n",
    "        \"scale\": result[\"best_params\"][\"scale\"],\n",
    "        \"batch_size\": result[\"best_params\"][\"batch_size\"],\n",
    "        \"mse_loss_weight\": result[\"best_params\"][\"mse_loss_weight\"],\n",
    "        \"eikonal_loss_weight\": result[\"best_params\"][\"eikonal_loss_weight\"],\n",
    "        \"laplace_loss_weight\": result[\"best_params\"][\"laplace_loss_weight\"],\n",
    "        \"patience\": result[\"best_params\"][\"patience\"],\n",
    "        \"hidden_dim\": result[\"best_params\"][\"hidden_dim\"],\n",
    "        \"weight_decay\":result[\"best_params\"][\"weight_decay\"],\n",
    "        \"opt_loss\": result[\"best_score\"],\n",
    "    }\n",
    "    return (metrics, hyperparams)"
   ]
  },
  {
   "cell_type": "code",
   "execution_count": null,
   "id": "2c8efba9-c84b-4393-929c-1f4ff588c9d6",
   "metadata": {
    "scrolled": true
   },
   "outputs": [
    {
     "name": "stdout",
     "output_type": "stream",
     "text": [
      "11-09-2025 12:31:51 INFO | climatrix.optim.bayesian | Starting Bayesian optimization for method 'sinet'\n",
      "11-09-2025 12:31:51 INFO | climatrix.optim.bayesian | Bounds: OrderedDict({'batch_size': (32, 4096, <class 'int'>), 'eikonal_loss_weight': (0.0, 10.0, <class 'float'>), 'hidden_dim': [16, 64, 128, 256], 'laplace_loss_weight': (0.0, 10.0, <class 'float'>), 'lr': (1e-05, 10.0, <class 'float'>), 'mse_loss_weight': (1e-05, 100, <class 'float'>), 'scale': (0.01, 100.0, <class 'float'>), 'weight_decay': (0, 0.1, <class 'float'>)})\n",
      "11-09-2025 12:31:51 INFO | climatrix.optim.bayesian | Using 100 iterations\n"
     ]
    },
    {
     "name": "stderr",
     "output_type": "stream",
     "text": [
      "/home/jakub/projects/climatrix/experiments/jwalczak/01_Apr_02_compare_recon_method/conf/exp1/lib/python3.12/site-packages/tqdm/auto.py:21: TqdmWarning: IProgress not found. Please update jupyter and ipywidgets. See https://ipywidgets.readthedocs.io/en/stable/user_install.html\n",
      "  from .autonotebook import tqdm as notebook_tqdm\n",
      "/home/jakub/projects/climatrix/src/climatrix/optim/bayesian.py:431: ExperimentalWarning: GPSampler is experimental (supported from v3.6.0). The interface can change in the future.\n",
      "  sampler = optuna.samplers.GPSampler(\n",
      "[I 2025-09-11 12:31:51,852] A new study created in memory with name: sinet_study\n",
      "  0%|                                                                                                             | 0/100 [00:00<?, ?it/s]"
     ]
    },
    {
     "name": "stdout",
     "output_type": "stream",
     "text": [
      "11-09-2025 12:31:51 INFO | climatrix.optim.bayesian | Suggested parameters for trial 0: {'batch_size': 1727, 'eikonal_loss_weight': 7.203244934421581, 'hidden_dim': 64, 'laplace_loss_weight': 1.862602113776709, 'lr': 3.455613814823207, 'mse_loss_weight': 39.67675345539225, 'scale': 53.886285232995654, 'weight_decay': 0.041919451440329485}\n",
      "11-09-2025 12:31:51 INFO | climatrix.reconstruct.sinet.sinet | Initializing SiNET model...\n",
      "11-09-2025 12:31:52 INFO | climatrix.reconstruct.sinet.sinet | Configuring Adam optimizer with learning rate: 3.455614\n",
      "11-09-2025 12:31:53 INFO | climatrix.reconstruct.nn.base_nn | Training SiNET model...\n",
      "11-09-2025 12:31:53 WARNING | climatrix.reconstruct.nn.base_nn | Validation dataset is not available. Skipping validation.\n"
     ]
    },
    {
     "name": "stderr",
     "output_type": "stream",
     "text": [
      "/home/jakub/projects/climatrix/experiments/jwalczak/01_Apr_02_compare_recon_method/conf/exp1/lib/python3.12/site-packages/torch/autograd/graph.py:825: UserWarning: Attempting to run cuBLAS, but there was no current CUDA context! Attempting to set the primary context... (Triggered internally at ../aten/src/ATen/cuda/CublasHandlePool.cpp:135.)\n",
      "  return Variable._execution_engine.run_backward(  # Calls into the C++ engine to run the backward pass\n"
     ]
    }
   ],
   "source": [
    "metrics, hyperparams = run_single_experiment(dset_idx[IDX])"
   ]
  },
  {
   "cell_type": "code",
   "execution_count": null,
   "id": "b59e1d46-9f26-49c0-a497-e49ee9650c1c",
   "metadata": {},
   "outputs": [],
   "source": [
    "sinet_val_dset, sinet_reconstructed_dset, sinet_reconstructed_dense = (\n",
    "    run_single_method(\n",
    "        dset_idx[IDX],\n",
    "        IDX,\n",
    "        \"sinet\",\n",
    "        lr=hyperparams[\"lr\"],\n",
    "        weight_decay=hyperparams[\"weight_decay\"],\n",
    "        num_epochs=hyperparams[\"num_epochs\"],\n",
    "        batch_size=hyperparams[\"batch_size\"],\n",
    "        num_workers=0,\n",
    "        device=\"cuda\",\n",
    "        mse_loss_weight=hyperparams[\"mse_loss_weight\"],\n",
    "        hidden_dim=hyperparams[\"hidden_dim\"],\n",
    "    )\n",
    ")"
   ]
  },
  {
   "cell_type": "code",
   "execution_count": null,
   "id": "eea9784f-46e9-4b0b-bbb8-5c8e860becb5",
   "metadata": {},
   "outputs": [],
   "source": [
    "sinet_reconstructed_dense.plot()"
   ]
  },
  {
   "cell_type": "code",
   "execution_count": null,
   "id": "a47df248-df07-4468-9657-d70e43ae9006",
   "metadata": {},
   "outputs": [],
   "source": [
    "train_dset = xr.open_dataset(\n",
    "    DSET_PATH / f\"ecad_obs_europe_train_{dset_idx[IDX]}.nc\"\n",
    ").cm.plot()"
   ]
  },
  {
   "cell_type": "code",
   "execution_count": null,
   "id": "783ab7c8-e2bf-41cd-8118-8de775c1c313",
   "metadata": {},
   "outputs": [],
   "source": [
    "sinet_reconstructed_dset.plot()"
   ]
  },
  {
   "cell_type": "code",
   "execution_count": null,
   "id": "5be5e66d-256b-4957-a729-3f0360121454",
   "metadata": {},
   "outputs": [],
   "source": [
    "cm.Comparison(sinet_val_dset, sinet_reconstructed_dset).compute_report()"
   ]
  },
  {
   "cell_type": "code",
   "execution_count": null,
   "id": "a0f287b6-c29b-4e7a-a6cd-f7f037eaf191",
   "metadata": {},
   "outputs": [],
   "source": []
  }
 ],
 "metadata": {
  "kernelspec": {
   "display_name": "Python 3 (ipykernel)",
   "language": "python",
   "name": "python3"
  },
  "language_info": {
   "codemirror_mode": {
    "name": "ipython",
    "version": 3
   },
   "file_extension": ".py",
   "mimetype": "text/x-python",
   "name": "python",
   "nbconvert_exporter": "python",
   "pygments_lexer": "ipython3",
   "version": "3.12.3"
  }
 },
 "nbformat": 4,
 "nbformat_minor": 5
}
