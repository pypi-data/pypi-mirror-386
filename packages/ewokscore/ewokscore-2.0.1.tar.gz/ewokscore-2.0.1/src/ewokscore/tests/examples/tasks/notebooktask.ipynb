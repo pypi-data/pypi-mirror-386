{
 "cells": [
  {
   "cell_type": "markdown",
   "id": "ba9cffe7-c988-4d15-8cf6-a659115afc36",
   "metadata": {},
   "source": [
    "# Jupyter notebook as workflow task\n",
    "\n",
    "Notebook support is optional upon installation\n",
    "\n",
    "```bash\n",
    "pip install ewokscore[notebook]\n",
    "```\n",
    "\n",
    "This notebook implements a task that accepts three optional inputs (`a`, `b` and `delay`) and four outputs (`x`, `y`, `z` and `result`)."
   ]
  },
  {
   "cell_type": "code",
   "execution_count": null,
   "id": "f3c70d11-fe61-47f7-9cdb-1c8374516edf",
   "metadata": {},
   "outputs": [],
   "source": [
    "import time"
   ]
  },
  {
   "cell_type": "markdown",
   "id": "2dac8dc4-7070-4702-808e-f474429d4b00",
   "metadata": {},
   "source": [
    "The cell below is tagged with \"parameters\" and receives the task inputs"
   ]
  },
  {
   "cell_type": "code",
   "execution_count": null,
   "id": "222c79bf-b68c-4637-8d83-6827f2a558aa",
   "metadata": {
    "tags": [
     "parameters"
    ]
   },
   "outputs": [],
   "source": [
    "a = 0\n",
    "b = 0\n",
    "delay = 0"
   ]
  },
  {
   "cell_type": "markdown",
   "id": "8c67a51a-2725-4bb8-9692-95a04ac55dca",
   "metadata": {},
   "source": [
    "Body of the task"
   ]
  },
  {
   "cell_type": "code",
   "execution_count": null,
   "id": "8929fc5a-e065-442b-add1-43f41039a951",
   "metadata": {
    "tags": [
     "results"
    ]
   },
   "outputs": [],
   "source": [
    "result = a + b\n",
    "if delay:\n",
    "    time.sleep(delay)"
   ]
  },
  {
   "cell_type": "markdown",
   "id": "d2874c56-1c03-4a8b-a73b-0f0da3c2ae8e",
   "metadata": {},
   "source": [
    "The cell below is tagged with \"results\" and passes \"result\" to the task outputs (JSON decoding will be attempted)"
   ]
  },
  {
   "cell_type": "code",
   "execution_count": null,
   "id": "3e3d86cc-3fc3-491c-bdc7-71311078fe4e",
   "metadata": {
    "tags": [
     "results"
    ]
   },
   "outputs": [],
   "source": [
    "result"
   ]
  },
  {
   "cell_type": "markdown",
   "id": "2f90437e-b867-4fef-890d-436ac9f94803",
   "metadata": {},
   "source": [
    "The cell below is tagged with \"results\" and passes \"x\", \"y\" and \"z\" to the task outputs (JSON encoded)"
   ]
  },
  {
   "cell_type": "code",
   "execution_count": null,
   "id": "c331e435-4b31-46f3-aa08-0d71b368f980",
   "metadata": {
    "tags": [
     "results"
    ]
   },
   "outputs": [],
   "source": [
    "from IPython.display import JSON\n",
    "\n",
    "JSON({\"x\": \"string\", \"y\": 10, \"z\": [1, 2, 3]})"
   ]
  }
 ],
 "metadata": {
  "kernelspec": {
   "display_name": "Python 3 (ipykernel)",
   "language": "python",
   "name": "python3"
  },
  "language_info": {
   "codemirror_mode": {
    "name": "ipython",
    "version": 3
   },
   "file_extension": ".py",
   "mimetype": "text/x-python",
   "name": "python",
   "nbconvert_exporter": "python",
   "pygments_lexer": "ipython3",
   "version": "3.10.6"
  },
  "toc-showcode": false,
  "toc-showtags": true
 },
 "nbformat": 4,
 "nbformat_minor": 5
}
