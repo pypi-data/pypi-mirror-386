{
 "cells": [
  {
   "cell_type": "markdown",
   "id": "439c409b",
   "metadata": {},
   "source": [
    "# FastAPI example\n",
    "----------------\n",
    "This example shows you how to run a minimal FastAPI app inside a notebook alongside Bitswan.\n",
    "\n",
    "- **What it does**: starts a FastAPI server in a background thread.\n",
    "- **Port**: 8080 (do not change this in deployed version!)"
   ]
  },
  {
   "cell_type": "code",
   "id": "32f68275b3991cfc",
   "metadata": {},
   "source": [
    "from bspump.jupyter import *\n",
    "\n",
    "from fastapi import FastAPI\n",
    "import threading, uvicorn"
   ],
   "outputs": [],
   "execution_count": null
  },
  {
   "cell_type": "code",
   "id": "initial_id",
   "metadata": {
    "collapsed": true
   },
   "source": [
    "app = FastAPI()\n",
    "\n",
    "@app.get(\"/\")\n",
    "def root():\n",
    "    return {\"ok\": True}\n",
    "\n",
    "@app.get(\"/hello\")\n",
    "def say_hello(name: str = \"World\"):\n",
    "    return {\"message\": f\"Hello, {name}!\"}\n",
    "\n",
    "def run():\n",
    "    uvicorn.run(app, host=\"0.0.0.0\", port=8080, log_level=\"info\")\n",
    "\n",
    "threading.Thread(target=run, daemon=True).start()"
   ],
   "outputs": [],
   "execution_count": null
  }
 ],
 "metadata": {
  "kernelspec": {
   "display_name": "Python 3",
   "language": "python",
   "name": "python3"
  },
  "language_info": {
   "codemirror_mode": {
    "name": "ipython",
    "version": 2
   },
   "file_extension": ".py",
   "mimetype": "text/x-python",
   "name": "python",
   "nbconvert_exporter": "python",
   "pygments_lexer": "ipython2",
   "version": "2.7.6"
  }
 },
 "nbformat": 4,
 "nbformat_minor": 5
}
