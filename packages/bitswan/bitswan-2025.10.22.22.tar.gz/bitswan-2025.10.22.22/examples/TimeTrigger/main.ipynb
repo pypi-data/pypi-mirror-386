{
  "cells": [
    {
      "cell_type": "markdown",
      "metadata": {},
      "source": [
        "## TimeTrigger: simple time-based pipelines\n",
        "\n",
        "When you need to run automation at specific times (weekly reminders, hourly jobs), use a time trigger. In BitSwan, time schedules are expressed with cron syntax.\n",
        "\n",
        "TimeTrigger is a small source built on CronTrigger (implemented as `CronSource`), so you can set up a cron-driven pipeline in two lines without subclassing.\n",
        "\n",
        "- **Simple setup**: 2 lines to get a working schedule\n",
        "- **Built on CronTrigger**: stable cron parsing and ticking\n",
        "- **Config-driven**: pass the cron expression via `config['when']`\n",
        "\n",
        "**Cron format**: `minute hour day-of-month month day-of-week`\n",
        "- Every minute: `* * * * *`\n",
        "- Every 10 minutes: `*/10 * * * *`\n",
        "- Every Monday at 14:20: `20 14 * * 1`\n",
        "\n",
        "Note: BitSwan time triggers work with offset-naive datetimes. Ensure your host's local time/timezone is configured correctly.\n"
      ]
    },
    {
      "cell_type": "markdown",
      "metadata": {},
      "source": [
        "## Imports"
      ]
    },
    {
      "cell_type": "code",
      "execution_count": null,
      "metadata": {},
      "outputs": [],
      "source": [
        "import bspump\n",
        "import bspump.common\n",
        "from bspump.cron import CronSource\n",
        "from datetime import datetime\n",
        "from bspump.jupyter import *\n"
      ]
    },
    {
      "cell_type": "markdown",
      "metadata": {},
      "source": [
        "## Simulate a CronTrigger event"
      ]
    },
    {
      "cell_type": "code",
      "execution_count": null,
      "metadata": {},
      "outputs": [],
      "source": [
        "event = {\n",
        "    \"cron_triggered\": datetime.now().isoformat(),\n",
        "    \"trigger_id\": \"test_cron\",\n",
        "    \"timestamp\": datetime.now().timestamp()\n",
        "}"
      ]
    },
    {
      "cell_type": "markdown",
      "metadata": {},
      "source": [
        "## Pipeline definition\n",
        "\n",
        "This pipeline runs on a schedule and prints an event. Adjust `config['when']` to change cadence.\n",
        "\n",
        "Examples:\n",
        "- `* * * * *` → every minute (good for testing)\n",
        "- `*/10 * * * *` → every 10 minutes\n",
        "- `20 14 * * 1` → Mondays at 14:20\n"
      ]
    },
    {
      "cell_type": "code",
      "execution_count": null,
      "metadata": {},
      "outputs": [],
      "source": [
        "auto_pipeline(\n",
        "    source=lambda app, pipeline: CronSource(\n",
        "        app, pipeline, \n",
        "        config={\"when\": \"* * * * *\"}  # Every minute for testing\n",
        "    ),\n",
        "    sink=lambda app, pipeline: bspump.common.PPrintSink(app, pipeline),\n",
        "    name=\"TimeTriggerPipeline\"\n",
        ")\n"
      ]
    },
    {
      "cell_type": "markdown",
      "metadata": {},
      "source": [
        "## Test the schedule without running the app\n",
        "\n",
        "You can simulate a cron tick to see the event structure produced by TimeTrigger (built on CronTrigger):"
      ]
    },
    {
      "cell_type": "code",
      "execution_count": null,
      "metadata": {},
      "outputs": [],
      "source": [
        "print(\"Simulated cron event:\")\n",
        "print(event)"
      ]
    },
    {
      "cell_type": "markdown",
      "metadata": {},
      "source": [
        "## Processing step\n",
        "\n",
        "This simulates what happens when the TimeTrigger-driven source processes an event and what the sink would print:\n"
      ]
    },
    {
      "cell_type": "code",
      "execution_count": null,
      "metadata": {},
      "outputs": [],
      "source": [
        "# Minimal processor example to mirror working notifier pattern\n",
        "# This creates a simple event dict that a sink can log.\n",
        "processed_event = {\n",
        "    \"cron_triggered\": event[\"cron_triggered\"],\n",
        "    \"trigger_id\": event[\"trigger_id\"],\n",
        "    \"timestamp\": event[\"timestamp\"],\n",
        "}\n",
        "print(\"Processed:\", processed_event)\n"
      ]
    },
    {
      "cell_type": "code",
      "execution_count": null,
      "metadata": {},
      "outputs": [],
      "source": [
        "# Simulate processing the event (this would happen in the pipeline)\n",
        "print(\"Processing cron event...\")\n",
        "\n",
        "# The PPrintSink would print this:\n",
        "print(f\"Cron triggered at: {event['cron_triggered']}\")\n",
        "print(f\"Trigger ID: {event['trigger_id']}\")\n",
        "print(f\"Timestamp: {event['timestamp']}\")\n"
      ]
    }
  ],
  "metadata": {
    "language_info": {
      "name": "python"
    }
  },
  "nbformat": 4,
  "nbformat_minor": 2
}
