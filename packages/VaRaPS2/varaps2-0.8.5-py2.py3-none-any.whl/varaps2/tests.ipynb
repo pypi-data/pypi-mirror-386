{
 "cells": [
  {
   "cell_type": "code",
   "execution_count": null,
   "metadata": {},
   "outputs": [],
   "source": [
    "# load X_mask_sum.csv\n",
    "import numpy as np\n",
    "\n",
    "a = np.loadtxt(\"../../X_mask_sum.csv\", delimiter=\"\\n\")"
   ]
  },
  {
   "cell_type": "code",
   "execution_count": 2,
   "metadata": {},
   "outputs": [
    {
     "name": "stdout",
     "output_type": "stream",
     "text": [
      "Original example result:\n",
      "[[ 0.  1. nan nan nan nan nan nan  1.  0.  1.  0. nan nan nan]\n",
      " [nan nan  0.  0.  0.  0.  1.  0.  0. nan nan nan nan nan nan]]\n",
      "\n",
      "==================================================\n",
      "4x8 example result:\n",
      "[[ 0.  1. nan nan nan nan  0. nan]\n",
      " [nan  0.  0. nan nan nan nan nan]\n",
      " [nan nan nan  1. nan  0. nan nan]\n",
      " [ 0. nan nan nan  1. nan nan nan]]\n"
     ]
    }
   ],
   "source": [
    "import numpy as np\n",
    "from scipy.sparse import csr_matrix\n",
    "\n",
    "def create_mutation_sparse_matrix(starts_idx_tuples, end_idx_tuples, mutations_data, number_of_mutations):\n",
    "    \"\"\"\n",
    "    Create a sparse matrix representing mutations across read segments.\n",
    "    \n",
    "    Args:\n",
    "        starts_idx_tuples: List of tuples with start positions (inclusive) for each segment\n",
    "        end_idx_tuples: List of tuples with end positions (inclusive) for each segment  \n",
    "        mutations_data: List of tuples with mutation positions for each segment\n",
    "        number_of_mutations: Total number of genomic positions (columns)\n",
    "    \n",
    "    Returns:\n",
    "        scipy.sparse.csr_matrix: Sparse matrix of size len(segments) × number_of_mutations\n",
    "    \"\"\"\n",
    "    n_segments = len(starts_idx_tuples)\n",
    "    \n",
    "    # Initialize dense matrix with NaN\n",
    "    matrix = np.full((n_segments, number_of_mutations), np.nan)\n",
    "    \n",
    "    for segment_idx in range(n_segments):\n",
    "        start_tuple = starts_idx_tuples[segment_idx]\n",
    "        end_tuple = end_idx_tuples[segment_idx]\n",
    "        mutation_tuple = mutations_data[segment_idx]\n",
    "        \n",
    "        # Get all covered positions for this segment\n",
    "        covered_positions = set()\n",
    "        for start_pos, end_pos in zip(start_tuple, end_tuple):\n",
    "            covered_positions.update(range(start_pos, end_pos))  \n",
    "        \n",
    "        # Mark covered positions as 0 (no mutation)\n",
    "        for pos in covered_positions:\n",
    "            if pos < number_of_mutations:\n",
    "                matrix[segment_idx, pos] = 0\n",
    "        \n",
    "        # Extract all mutation positions from the nested tuples\n",
    "        mutation_positions = set()\n",
    "        for mut_tuple in mutation_tuple:\n",
    "            if isinstance(mut_tuple, tuple):\n",
    "                mutation_positions.update(mut_tuple)\n",
    "            else:\n",
    "                mutation_positions.add(mut_tuple)\n",
    "        \n",
    "        # Mark mutation positions as 1\n",
    "        for pos in mutation_positions:\n",
    "            if pos < number_of_mutations and pos in covered_positions:\n",
    "                matrix[segment_idx, pos] = 1\n",
    "    \n",
    "    return csr_matrix(matrix)\n",
    "\n",
    "# Test with your original example\n",
    "starts_idx_tuples = [(0,8),(2,5)]\n",
    "end_idx_tuples = [(2,12),(7,9)]\n",
    "mutations_data = [((1,), (8,10)), ((), (6))]\n",
    "number_of_mutations = 15\n",
    "\n",
    "result = create_mutation_sparse_matrix(starts_idx_tuples, end_idx_tuples, mutations_data, number_of_mutations)\n",
    "print(\"Original example result:\")\n",
    "print(result.toarray())\n",
    "\n",
    "print(\"\\n\" + \"=\"*50)\n",
    "\n",
    "# Test with my 4x8 example\n",
    "starts_idx_tuples_2 = [(0,6), (1,), (3,5), (0,4)]\n",
    "end_idx_tuples_2 = [(2,7), (3,), (4,6), (1,5)]\n",
    "mutations_data_2 = [((1,), ()), ((),), ((3,), (6)), ((), (4,5))]\n",
    "number_of_mutations_2 = 8\n",
    "\n",
    "result2 = create_mutation_sparse_matrix(starts_idx_tuples_2, end_idx_tuples_2, mutations_data_2, number_of_mutations_2)\n",
    "print(\"4x8 example result:\")\n",
    "print(result2.toarray())"
   ]
  },
  {
   "cell_type": "code",
   "execution_count": 1,
   "metadata": {},
   "outputs": [
    {
     "name": "stdout",
     "output_type": "stream",
     "text": [
      "Original DataFrame:\n",
      "  qname  startIdx_0Based  endIdx_0Based    muts\n",
      "0     A               10             20    (X,)\n",
      "1     A               15             25  (Y, Z)\n",
      "2     B               30             40    (W,)\n",
      "3     B               35             45    (V,)\n",
      "4     C               50             60  (U, T)\n",
      "5     A               20             30    (S,)\n",
      "6     C               55             65  (R, Q)\n",
      "\n",
      "\n",
      "Grouped DataFrame:\n",
      "  qname startIdx_0Based endIdx_0Based                  muts\n",
      "0     A    (10, 15, 20)  (20, 25, 30)  ((X,), (Y, Z), (S,))\n",
      "1     B        (30, 35)      (40, 45)          ((W,), (V,))\n",
      "2     C        (50, 55)      (60, 65)      ((U, T), (R, Q))\n"
     ]
    }
   ],
   "source": [
    "import pandas as pd\n",
    "\n",
    "# Create an example DataFrame\n",
    "data = {\n",
    "    'qname': ['A', 'A', 'B', 'B', 'C', 'A', 'C'],\n",
    "    'startIdx_0Based': [10, 15, 30, 35, 50, 20, 55],\n",
    "    'endIdx_0Based': [20, 25, 40, 45, 60, 30, 65],\n",
    "    'muts': [('X',), ('Y', 'Z'), ('W',), ('V',), ('U', 'T'), ('S',), ('R', 'Q')]\n",
    "}\n",
    "\n",
    "results = pd.DataFrame(data)\n",
    "\n",
    "print(\"Original DataFrame:\")\n",
    "print(results)\n",
    "print(\"\\n\")\n",
    "\n",
    "# Group by 'qname' and aggregate other columns into tuples\n",
    "grouped_results = results.groupby('qname').agg(lambda x: tuple(x)).reset_index()\n",
    "\n",
    "# Rename the columns to indicate they're now tuples\n",
    "# grouped_results.columns = ['qname', 'startIdx_0Based_tuple', 'endIdx_0Based_tuple', 'muts_tuple']\n",
    "\n",
    "print(\"Grouped DataFrame:\")\n",
    "print(grouped_results)"
   ]
  },
  {
   "cell_type": "code",
   "execution_count": 3,
   "metadata": {},
   "outputs": [
    {
     "data": {
      "text/plain": [
       "False"
      ]
     },
     "execution_count": 3,
     "metadata": {},
     "output_type": "execute_result"
    }
   ],
   "source": [
    "(10,2) == (2,10)"
   ]
  },
  {
   "cell_type": "code",
   "execution_count": 7,
   "metadata": {},
   "outputs": [
    {
     "ename": "SyntaxError",
     "evalue": "invalid syntax (1705827042.py, line 3)",
     "output_type": "error",
     "traceback": [
      "\u001b[0;36m  File \u001b[0;32m\"/tmp/ipykernel_29022/1705827042.py\"\u001b[0;36m, line \u001b[0;32m3\u001b[0m\n\u001b[0;31m    .agg({\"endIdx_0Based\": \"sum\", lambda x: tuple(x)})\u001b[0m\n\u001b[0m                                                    ^\u001b[0m\n\u001b[0;31mSyntaxError\u001b[0m\u001b[0;31m:\u001b[0m invalid syntax\n"
     ]
    }
   ],
   "source": [
    "results_ablolute_positions = (\n",
    "        results.groupby([\"startIdx_0Based\"])\n",
    "        .agg({\"endIdx_0Based\": \"sum\", })\n",
    "        .reset_index()\n",
    "    )"
   ]
  },
  {
   "cell_type": "code",
   "execution_count": 6,
   "metadata": {},
   "outputs": [
    {
     "data": {
      "text/html": [
       "<div>\n",
       "<style scoped>\n",
       "    .dataframe tbody tr th:only-of-type {\n",
       "        vertical-align: middle;\n",
       "    }\n",
       "\n",
       "    .dataframe tbody tr th {\n",
       "        vertical-align: top;\n",
       "    }\n",
       "\n",
       "    .dataframe thead th {\n",
       "        text-align: right;\n",
       "    }\n",
       "</style>\n",
       "<table border=\"1\" class=\"dataframe\">\n",
       "  <thead>\n",
       "    <tr style=\"text-align: right;\">\n",
       "      <th></th>\n",
       "      <th>startIdx_0Based</th>\n",
       "      <th>endIdx_0Based</th>\n",
       "    </tr>\n",
       "  </thead>\n",
       "  <tbody>\n",
       "    <tr>\n",
       "      <th>0</th>\n",
       "      <td>10</td>\n",
       "      <td>20</td>\n",
       "    </tr>\n",
       "    <tr>\n",
       "      <th>1</th>\n",
       "      <td>15</td>\n",
       "      <td>25</td>\n",
       "    </tr>\n",
       "    <tr>\n",
       "      <th>2</th>\n",
       "      <td>20</td>\n",
       "      <td>30</td>\n",
       "    </tr>\n",
       "    <tr>\n",
       "      <th>3</th>\n",
       "      <td>30</td>\n",
       "      <td>40</td>\n",
       "    </tr>\n",
       "    <tr>\n",
       "      <th>4</th>\n",
       "      <td>35</td>\n",
       "      <td>45</td>\n",
       "    </tr>\n",
       "    <tr>\n",
       "      <th>5</th>\n",
       "      <td>50</td>\n",
       "      <td>60</td>\n",
       "    </tr>\n",
       "    <tr>\n",
       "      <th>6</th>\n",
       "      <td>55</td>\n",
       "      <td>65</td>\n",
       "    </tr>\n",
       "  </tbody>\n",
       "</table>\n",
       "</div>"
      ],
      "text/plain": [
       "   startIdx_0Based  endIdx_0Based\n",
       "0               10             20\n",
       "1               15             25\n",
       "2               20             30\n",
       "3               30             40\n",
       "4               35             45\n",
       "5               50             60\n",
       "6               55             65"
      ]
     },
     "execution_count": 6,
     "metadata": {},
     "output_type": "execute_result"
    }
   ],
   "source": [
    "results_ablolute_positions"
   ]
  },
  {
   "cell_type": "code",
   "execution_count": null,
   "metadata": {},
   "outputs": [],
   "source": [
    "import numpy as np\n",
    "from scipy.sparse import csr_matrix\n",
    "\n",
    "def create_mutation_sparse_matrix(starts_idx_tuples, end_idx_tuples, mutations_data, number_of_mutations):\n",
    "    \"\"\"\n",
    "    Optimized sparse matrix creation for genomic mutation data.\n",
    "    \n",
    "    Args:\n",
    "        starts_idx_tuples: List of tuples with start positions (inclusive) for each segment\n",
    "        end_idx_tuples: List of tuples with end positions (inclusive) for each segment\n",
    "        mutations_data: List of tuples with mutation positions for each segment\n",
    "        number_of_mutations: Total number of genomic positions (columns)\n",
    "    \n",
    "    Returns:\n",
    "        scipy.sparse.csr_matrix: Sparse matrix where:\n",
    "        - 0 = covered position, no mutation\n",
    "        - 1 = covered position, mutation present  \n",
    "        - nan = position not covered by this read segment\n",
    "    \"\"\"\n",
    "    n_segments = len(starts_idx_tuples)\n",
    "    \n",
    "    # Collect sparse matrix components efficiently\n",
    "    row_indices = []\n",
    "    col_indices = []\n",
    "    data_values = []\n",
    "    \n",
    "    for segment_idx in range(n_segments):\n",
    "        start_tuple = starts_idx_tuples[segment_idx]\n",
    "        end_tuple = end_idx_tuples[segment_idx]\n",
    "        mutation_tuple = mutations_data[segment_idx]\n",
    "        \n",
    "        if len(start_tuple) == 0:\n",
    "            continue\n",
    "            \n",
    "        # Vectorized range expansion - much faster than Python loops\n",
    "        covered_ranges = [np.arange(start, end + 1) for start, end in zip(start_tuple, end_tuple)]\n",
    "        covered_positions = np.concatenate(covered_ranges)\n",
    "        \n",
    "        # Remove duplicates and filter valid positions in one operation\n",
    "        covered_positions = np.unique(covered_positions)\n",
    "        covered_positions = covered_positions[covered_positions < number_of_mutations]\n",
    "        \n",
    "        if len(covered_positions) == 0:\n",
    "            continue\n",
    "        \n",
    "        # Extract mutation positions efficiently\n",
    "        mutation_positions = set()\n",
    "        for mut_tuple in mutation_tuple:\n",
    "            if isinstance(mut_tuple, tuple):\n",
    "                mutation_positions.update(mut_tuple)\n",
    "            elif mut_tuple is not None:\n",
    "                mutation_positions.add(mut_tuple)\n",
    "        \n",
    "        # Create segment data: default to 0 (covered, no mutation)\n",
    "        segment_data = np.zeros(len(covered_positions), dtype=np.float64)\n",
    "        \n",
    "        # Mark mutations as 1 using vectorized operations\n",
    "        if mutation_positions:\n",
    "            mutation_array = np.array(list(mutation_positions))\n",
    "            mutation_mask = np.isin(covered_positions, mutation_array)\n",
    "            segment_data[mutation_mask] = 1.0\n",
    "        \n",
    "        # Collect data for sparse matrix construction\n",
    "        row_indices.extend([segment_idx] * len(covered_positions))\n",
    "        col_indices.extend(covered_positions)\n",
    "        data_values.extend(segment_data)\n",
    "    \n",
    "    # Convert to efficient numpy arrays\n",
    "    row_indices = np.array(row_indices, dtype=np.int32)\n",
    "    col_indices = np.array(col_indices, dtype=np.int32)\n",
    "    data_values = np.array(data_values, dtype=np.int32)\n",
    "    \n",
    "    # Initialize result matrix with NaN (unavoidable for NaN semantics)\n",
    "    result_matrix = np.full((n_segments, number_of_mutations), np.nan, dtype=np.float64)\n",
    "    \n",
    "    # Efficiently populate only covered positions\n",
    "    if len(row_indices) > 0:\n",
    "        result_matrix[row_indices, col_indices] = data_values\n",
    "    \n",
    "    return csr_matrix(result_matrix)"
   ]
  },
  {
   "cell_type": "code",
   "execution_count": 5,
   "metadata": {},
   "outputs": [
    {
     "name": "stdout",
     "output_type": "stream",
     "text": [
      "4x8 example result:\n",
      "[[ 0.  1.  0. nan nan nan  0.  0.]\n",
      " [nan  0.  0.  0. nan nan nan nan]\n",
      " [nan nan nan  1.  0.  0.  1. nan]\n",
      " [ 0.  0. nan nan  1.  1. nan nan]]\n"
     ]
    }
   ],
   "source": [
    "# Test with my 4x8 example\n",
    "starts_idx_tuples_2 = [(0,6), (1,), (3,5), (0,4)]\n",
    "end_idx_tuples_2 = [(2,7), (3,), (4,6), (1,5)]\n",
    "mutations_data_2 = [((1,), ()), ((),), ((3,), (6)), ((), (4,5))]\n",
    "number_of_mutations_2 = 8\n",
    "\n",
    "result2 = create_mutation_sparse_matrix(starts_idx_tuples_2, end_idx_tuples_2, mutations_data_2, number_of_mutations_2)\n",
    "print(\"4x8 example result:\")\n",
    "print(result2.toarray())"
   ]
  }
 ],
 "metadata": {
  "kernelspec": {
   "display_name": "base",
   "language": "python",
   "name": "python3"
  },
  "language_info": {
   "codemirror_mode": {
    "name": "ipython",
    "version": 3
   },
   "file_extension": ".py",
   "mimetype": "text/x-python",
   "name": "python",
   "nbconvert_exporter": "python",
   "pygments_lexer": "ipython3",
   "version": "3.13.5"
  }
 },
 "nbformat": 4,
 "nbformat_minor": 2
}
