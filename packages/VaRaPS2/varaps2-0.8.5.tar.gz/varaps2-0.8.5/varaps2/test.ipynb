{
 "cells": [
  {
   "cell_type": "code",
   "execution_count": 43,
   "id": "9e716968",
   "metadata": {},
   "outputs": [
    {
     "name": "stdout",
     "output_type": "stream",
     "text": [
      "Time to generate starts and ends: 0.5713 seconds\n",
      "Time to generate mask: 0.1452 seconds\n",
      "Time to fill data: 0.0058 seconds\n",
      "Time to run the script: 0.7398 seconds\n"
     ]
    }
   ],
   "source": [
    "import numpy as np\n",
    "import time\n",
    "# data  : (n, 500)  array you want to modify\n",
    "# starts: length-n   list/array with the first index (inclusive) in every row\n",
    "# ends  : length-n   list/array with the last index (exclusive) in every row\n",
    "\n",
    "nb_reads = 100000\n",
    "nb_mutations = 500\n",
    "data = np.zeros((nb_reads, nb_mutations))\n",
    "\n",
    "global_start_time = time.time()\n",
    "start_time = time.time()\n",
    "starts = [np.random.randint(0, 100) for _ in range(nb_reads)]\n",
    "ends   = [starts[i] + np.random.randint(0, 1) for i in range(nb_reads)]\n",
    "end_time = time.time()\n",
    "print(f\"Time to generate starts and ends: {end_time - start_time:.4f} seconds\")\n",
    "starts = np.array(starts)\n",
    "ends = np.array(ends)\n",
    "start_time = time.time()\n",
    "cols = np.arange(data.shape[1])          # shape (500,)\n",
    "mask = (cols >= starts[:, None]) & (cols < ends[:, None])\n",
    "end_time = time.time()  \n",
    "print(f\"Time to generate mask: {end_time - start_time:.4f} seconds\")\n",
    "# mask[i, j] == True  ⇔  starts[i] ≤ j < ends[i]\n",
    "start_time = time.time()\n",
    "data[mask] = 1\n",
    "end_time = time.time()\n",
    "print(f\"Time to fill data: {end_time - start_time:.4f} seconds\")\n",
    "\n",
    "print(f\"Time to run the script: {time.time() - global_start_time:.4f} seconds\")\n",
    "\n"
   ]
  },
  {
   "cell_type": "code",
   "execution_count": 45,
   "id": "525940dc",
   "metadata": {},
   "outputs": [
    {
     "name": "stdout",
     "output_type": "stream",
     "text": [
      "<itertools.chain object at 0x0000015EF6E02CB0>\n"
     ]
    }
   ],
   "source": [
    "from itertools import chain\n",
    "\n",
    "sets_list = [{6}, {2, 6, 5}]\n",
    "result = chain.from_iterable(sets_list)\n",
    "\n",
    "print(result)          # -> [6, 2, 6, 5]\n"
   ]
  },
  {
   "cell_type": "code",
   "execution_count": 47,
   "id": "d7374ef8",
   "metadata": {},
   "outputs": [
    {
     "name": "stdout",
     "output_type": "stream",
     "text": [
      "itertools.chain: 0.0176 s\n",
      "list-comp     : 0.0289 s\n",
      "extend loop   : 0.0115 s\n"
     ]
    }
   ],
   "source": [
    "import itertools, random, timeit\n",
    "\n",
    "# sample data (1000 sets, each with 10 ints)\n",
    "data = [set(random.sample(range(1000), 10)) for _ in range(10)]\n",
    "\n",
    "bench = {\n",
    "    \"itertools.chain\":\n",
    "        \"list(itertools.chain.from_iterable(data))\",\n",
    "    \"list-comp\":\n",
    "        \"[x for s in data for x in s]\",\n",
    "    \"extend loop\":\n",
    "        \"out=[]\\nfor s in data:\\n    out.extend(s)\"\n",
    "}\n",
    "\n",
    "for name, stmt in bench.items():\n",
    "    t = timeit.timeit(stmt, globals=globals(), number=10_000)\n",
    "    print(f\"{name:14}: {t:.4f} s\")\n"
   ]
  },
  {
   "cell_type": "code",
   "execution_count": 51,
   "id": "04e44344",
   "metadata": {},
   "outputs": [
    {
     "data": {
      "text/plain": [
       "array([2, 1, 2, 0, 2])"
      ]
     },
     "execution_count": 51,
     "metadata": {},
     "output_type": "execute_result"
    }
   ],
   "source": [
    "#tesdt 3*5 boolean matrix\n",
    "a = np.array([[True, False, True, False, True], [False, True, False, False, False], [True, False, True, False, True]])\n",
    "np.sum(a, axis=0)\n"
   ]
  },
  {
   "cell_type": "code",
   "execution_count": 7,
   "id": "63783382",
   "metadata": {},
   "outputs": [
    {
     "data": {
      "text/plain": [
       "[0, 1, 2, 5, 99]"
      ]
     },
     "execution_count": 7,
     "metadata": {},
     "output_type": "execute_result"
    }
   ],
   "source": [
    "a = [5,2,1,99,0]\n",
    "a.sort()\n",
    "a"
   ]
  },
  {
   "cell_type": "code",
   "execution_count": 1,
   "id": "3e80a5ed",
   "metadata": {},
   "outputs": [],
   "source": [
    "import numpy as np"
   ]
  },
  {
   "cell_type": "code",
   "execution_count": 3,
   "id": "b14c6b80",
   "metadata": {},
   "outputs": [
    {
     "data": {
      "text/plain": [
       "array([0, 2, 3, 0, 0, 2, 0, 0, 1])"
      ]
     },
     "execution_count": 3,
     "metadata": {},
     "output_type": "execute_result"
    }
   ],
   "source": [
    "np.bincount([5,5,2,2,2,8,1,1], minlength=4)"
   ]
  },
  {
   "cell_type": "code",
   "execution_count": 26,
   "id": "b34b4faa",
   "metadata": {},
   "outputs": [],
   "source": [
    "# %%\n",
    "import numpy as np\n",
    "import time\n",
    "def get_sample_bootstrap_weight(weights, size=None):\n",
    "    if size is None:\n",
    "        size = np.sum(weights)\n",
    "    positions = np.random.choice(\n",
    "        np.arange(len(weights)),\n",
    "        size=size,\n",
    "        replace=True,\n",
    "        p=weights / np.sum(weights),\n",
    "    )\n",
    "    return np.bincount(positions, minlength=len(weights))"
   ]
  },
  {
   "cell_type": "code",
   "execution_count": 30,
   "id": "22b2aefb",
   "metadata": {},
   "outputs": [],
   "source": [
    "a = [int(np.random.randint(1, 30)) for i in range(20000)]\n"
   ]
  },
  {
   "cell_type": "code",
   "execution_count": 31,
   "id": "fc13a1a7",
   "metadata": {},
   "outputs": [
    {
     "name": "stdout",
     "output_type": "stream",
     "text": [
      "time used: 0.0838174819946289\n"
     ]
    }
   ],
   "source": [
    "start_time = time.time()\n",
    "get_sample_bootstrap_weight(a)\n",
    "print(\"time used:\", time.time()-start_time)"
   ]
  },
  {
   "cell_type": "code",
   "execution_count": 6,
   "id": "b795aae4",
   "metadata": {},
   "outputs": [
    {
     "name": "stdout",
     "output_type": "stream",
     "text": [
      "None\n"
     ]
    }
   ],
   "source": [
    "print(a)"
   ]
  },
  {
   "cell_type": "code",
   "execution_count": 2,
   "id": "62f5bd4c",
   "metadata": {},
   "outputs": [],
   "source": [
    "a.sort()"
   ]
  },
  {
   "cell_type": "code",
   "execution_count": null,
   "id": "5d550899",
   "metadata": {},
   "outputs": [],
   "source": [
    ">>> import random, timeit, itertools\n",
    ">>> sets_list = [set(range(10)) for _ in range(1000)]\n",
    "\n",
    "# chain.from_iterable\n",
    ">>> timeit.timeit('list(itertools.chain.from_iterable(sets_list))',\n",
    "...               globals=globals(), number=1000)\n",
    "0.0098 s\n",
    "\n",
    "# nested list-comprehension\n",
    ">>> timeit.timeit('[x for s in sets_list for x in s]',\n",
    "...               globals=globals(), number=1000)\n",
    "0.0124 s\n"
   ]
  },
  {
   "cell_type": "code",
   "execution_count": 42,
   "id": "772f1e83",
   "metadata": {},
   "outputs": [
    {
     "ename": "ValueError",
     "evalue": "setting an array element with a sequence. The requested array has an inhomogeneous shape after 1 dimensions. The detected shape was (3,) + inhomogeneous part.",
     "output_type": "error",
     "traceback": [
      "\u001b[1;31m---------------------------------------------------------------------------\u001b[0m",
      "\u001b[1;31mValueError\u001b[0m                                Traceback (most recent call last)",
      "Cell \u001b[1;32mIn[42], line 2\u001b[0m\n\u001b[0;32m      1\u001b[0m a \u001b[38;5;241m=\u001b[39m [[\u001b[38;5;241m1\u001b[39m, \u001b[38;5;241m2\u001b[39m, \u001b[38;5;241m3\u001b[39m], [\u001b[38;5;241m4\u001b[39m, \u001b[38;5;241m5\u001b[39m, \u001b[38;5;241m6\u001b[39m], [\u001b[38;5;241m7\u001b[39m, \u001b[38;5;241m8\u001b[39m]]\n\u001b[1;32m----> 2\u001b[0m ar \u001b[38;5;241m=\u001b[39m np\u001b[38;5;241m.\u001b[39marray(a)\n\u001b[0;32m      3\u001b[0m \u001b[38;5;28mprint\u001b[39m(ar[\u001b[38;5;241m0\u001b[39m])\n",
      "\u001b[1;31mValueError\u001b[0m: setting an array element with a sequence. The requested array has an inhomogeneous shape after 1 dimensions. The detected shape was (3,) + inhomogeneous part."
     ]
    }
   ],
   "source": [
    "a = [[1, 2, 3], [4, 5, 6], [7, 8]]\n",
    "ar = np.array(a)\n",
    "print(ar[0])"
   ]
  },
  {
   "cell_type": "code",
   "execution_count": 21,
   "id": "a14497d3",
   "metadata": {},
   "outputs": [],
   "source": [
    "import numpy as np\n",
    "from scipy.sparse import csr_matrix\n",
    "\n",
    "def create_mutation_sparse_matrix_vectorised(starts_idx_tuples,\n",
    "                                             end_idx_tuples,\n",
    "                                             mutations_data,\n",
    "                                             number_of_mutations):\n",
    "    \"\"\"\n",
    "    Same result as `create_mutation_sparse_matrix_optimised`, but the Python\n",
    "    loop that *extends* row/col/data lists is removed.  Only four vectorised\n",
    "    numpy calls remain.\n",
    "    \"\"\"\n",
    "    n_segments = len(starts_idx_tuples)\n",
    "\n",
    "    # 1) Covered positions for every segment (still vectorised *per* segment)\n",
    "    covered = [_get_covered_positions_vectorized(s, e, number_of_mutations)\n",
    "               for s, e in zip(starts_idx_tuples, end_idx_tuples)]\n",
    "\n",
    "    # 2) How many covered positions per segment?\n",
    "    lengths = np.fromiter((len(c) for c in covered), dtype=np.int32)\n",
    "\n",
    "    # 3) Flatten covered positions & build row indices in one shot\n",
    "    col_indices = np.concatenate(covered)                    # shape (nnz,)\n",
    "    row_indices = np.repeat(np.arange(n_segments,\n",
    "                                      dtype=np.int32),       # 0 … n_segments-1\n",
    "                            lengths)                          # repeat each i\n",
    "\n",
    "    # 4) Vectorised “is this a mutation?” for each segment\n",
    "    data_values = np.concatenate([\n",
    "        np.isin(cov, list(_extract_mutation_positions(muts)), assume_unique=True)\n",
    "        for cov, muts in zip(covered, mutations_data)\n",
    "    ]).astype(np.bool_)\n",
    "\n",
    "    # 5) Build the sparse matrix once\n",
    "    return csr_matrix((data_values,\n",
    "                       (row_indices, col_indices)),\n",
    "                      shape=(n_segments, number_of_mutations),\n",
    "                      dtype=np.bool_)\n",
    "\n",
    "\n",
    "def _get_covered_positions_vectorized(start_tuple, end_tuple, number_of_mutations):\n",
    "    \"\"\"\n",
    "    Vectorized calculation of covered positions for a segment.\n",
    "    \"\"\"\n",
    "    # Generate all covered positions using vectorized operations\n",
    "    covered_ranges = [np.arange(start, end + 1, dtype=np.int32) \n",
    "                     for start, end in zip(start_tuple, end_tuple)]\n",
    "    \n",
    "    if not covered_ranges:\n",
    "        return np.array([], dtype=np.int32)\n",
    "    \n",
    "    # Concatenate and deduplicate in one operation\n",
    "    covered_positions = np.concatenate(covered_ranges)\n",
    "    # covered_positions = np.unique(covered_positions)\n",
    "    \n",
    "    # Filter valid positions (within bounds)\n",
    "    # covered_positions = covered_positions[covered_positions < number_of_mutations]\n",
    "    \n",
    "    return covered_positions\n",
    "\n",
    "\n",
    "def _extract_mutation_positions(mutation_tuple):\n",
    "    \"\"\"\n",
    "    Efficiently extract all mutation positions from nested tuple structure.\n",
    "    \"\"\"\n",
    "    mutation_positions = set()\n",
    "    \n",
    "    for mut_item in mutation_tuple:\n",
    "        if isinstance(mut_item, tuple):\n",
    "            mutation_positions.update(mut_item)\n",
    "        elif mut_item is not None:\n",
    "            mutation_positions.add(mut_item)\n",
    "    \n",
    "    return mutation_positions\n",
    "\n",
    "\n",
    "def _create_segment_data(covered_positions, mutation_positions):\n",
    "    \"\"\"\n",
    "    Create data array for segment: False for covered positions, True for mutations.\n",
    "    \"\"\"\n",
    "    # Start with all False (covered, no mutation)\n",
    "    segment_data = np.zeros(len(covered_positions), dtype=np.bool_)\n",
    "    \n",
    "    # Mark mutations as True using vectorized boolean indexing\n",
    "    if mutation_positions:\n",
    "        mutation_array = np.array(list(mutation_positions), dtype=np.int32)\n",
    "        mutation_mask = np.isin(covered_positions, mutation_array)\n",
    "        segment_data[mutation_mask] = True\n",
    "    \n",
    "    return segment_data"
   ]
  },
  {
   "cell_type": "code",
   "execution_count": 23,
   "id": "23f70f6c",
   "metadata": {},
   "outputs": [
    {
     "name": "stdout",
     "output_type": "stream",
     "text": [
      "Test data: 1000000 segments, 500 positions\n"
     ]
    },
    {
     "ename": "ValueError",
     "evalue": "axis 1 index 748 exceeds matrix dimension 500",
     "output_type": "error",
     "traceback": [
      "\u001b[1;31m---------------------------------------------------------------------------\u001b[0m",
      "\u001b[1;31mValueError\u001b[0m                                Traceback (most recent call last)",
      "Cell \u001b[1;32mIn[23], line 38\u001b[0m\n\u001b[0;32m     36\u001b[0m \u001b[38;5;66;03m# Test the optimized function\u001b[39;00m\n\u001b[0;32m     37\u001b[0m start_time \u001b[38;5;241m=\u001b[39m time\u001b[38;5;241m.\u001b[39mtime()\n\u001b[1;32m---> 38\u001b[0m sparse_result \u001b[38;5;241m=\u001b[39m create_mutation_sparse_matrix_vectorised(\n\u001b[0;32m     39\u001b[0m     starts_idx_tuples, end_idx_tuples, mutations_data, number_of_mutations\n\u001b[0;32m     40\u001b[0m )\n\u001b[0;32m     41\u001b[0m end_time \u001b[38;5;241m=\u001b[39m time\u001b[38;5;241m.\u001b[39mtime()\n\u001b[0;32m     43\u001b[0m \u001b[38;5;28mprint\u001b[39m(\u001b[38;5;124mf\u001b[39m\u001b[38;5;124m\"\u001b[39m\u001b[38;5;124mOptimized version completed in: \u001b[39m\u001b[38;5;132;01m{\u001b[39;00mend_time\u001b[38;5;250m \u001b[39m\u001b[38;5;241m-\u001b[39m\u001b[38;5;250m \u001b[39mstart_time\u001b[38;5;132;01m:\u001b[39;00m\u001b[38;5;124m.4f\u001b[39m\u001b[38;5;132;01m}\u001b[39;00m\u001b[38;5;124m seconds\u001b[39m\u001b[38;5;124m\"\u001b[39m)\n",
      "Cell \u001b[1;32mIn[21], line 35\u001b[0m, in \u001b[0;36mcreate_mutation_sparse_matrix_vectorised\u001b[1;34m(starts_idx_tuples, end_idx_tuples, mutations_data, number_of_mutations)\u001b[0m\n\u001b[0;32m     29\u001b[0m data_values \u001b[38;5;241m=\u001b[39m np\u001b[38;5;241m.\u001b[39mconcatenate([\n\u001b[0;32m     30\u001b[0m     np\u001b[38;5;241m.\u001b[39misin(cov, \u001b[38;5;28mlist\u001b[39m(_extract_mutation_positions(muts)), assume_unique\u001b[38;5;241m=\u001b[39m\u001b[38;5;28;01mTrue\u001b[39;00m)\n\u001b[0;32m     31\u001b[0m     \u001b[38;5;28;01mfor\u001b[39;00m cov, muts \u001b[38;5;129;01min\u001b[39;00m \u001b[38;5;28mzip\u001b[39m(covered, mutations_data)\n\u001b[0;32m     32\u001b[0m ])\u001b[38;5;241m.\u001b[39mastype(np\u001b[38;5;241m.\u001b[39mbool_)\n\u001b[0;32m     34\u001b[0m \u001b[38;5;66;03m# 5) Build the sparse matrix once\u001b[39;00m\n\u001b[1;32m---> 35\u001b[0m \u001b[38;5;28;01mreturn\u001b[39;00m csr_matrix((data_values,\n\u001b[0;32m     36\u001b[0m                    (row_indices, col_indices)),\n\u001b[0;32m     37\u001b[0m                   shape\u001b[38;5;241m=\u001b[39m(n_segments, number_of_mutations),\n\u001b[0;32m     38\u001b[0m                   dtype\u001b[38;5;241m=\u001b[39mnp\u001b[38;5;241m.\u001b[39mbool_)\n",
      "File \u001b[1;32mc:\\Users\\hacen\\anaconda3\\Lib\\site-packages\\scipy\\sparse\\_compressed.py:56\u001b[0m, in \u001b[0;36m_cs_matrix.__init__\u001b[1;34m(self, arg1, shape, dtype, copy, maxprint)\u001b[0m\n\u001b[0;32m     53\u001b[0m \u001b[38;5;28;01melse\u001b[39;00m:\n\u001b[0;32m     54\u001b[0m     \u001b[38;5;28;01mif\u001b[39;00m \u001b[38;5;28mlen\u001b[39m(arg1) \u001b[38;5;241m==\u001b[39m \u001b[38;5;241m2\u001b[39m:\n\u001b[0;32m     55\u001b[0m         \u001b[38;5;66;03m# (data, ij) format\u001b[39;00m\n\u001b[1;32m---> 56\u001b[0m         coo \u001b[38;5;241m=\u001b[39m \u001b[38;5;28mself\u001b[39m\u001b[38;5;241m.\u001b[39m_coo_container(arg1, shape\u001b[38;5;241m=\u001b[39mshape, dtype\u001b[38;5;241m=\u001b[39mdtype)\n\u001b[0;32m     57\u001b[0m         arrays \u001b[38;5;241m=\u001b[39m coo\u001b[38;5;241m.\u001b[39m_coo_to_compressed(\u001b[38;5;28mself\u001b[39m\u001b[38;5;241m.\u001b[39m_swap)\n\u001b[0;32m     58\u001b[0m         \u001b[38;5;28mself\u001b[39m\u001b[38;5;241m.\u001b[39mindptr, \u001b[38;5;28mself\u001b[39m\u001b[38;5;241m.\u001b[39mindices, \u001b[38;5;28mself\u001b[39m\u001b[38;5;241m.\u001b[39mdata, \u001b[38;5;28mself\u001b[39m\u001b[38;5;241m.\u001b[39m_shape \u001b[38;5;241m=\u001b[39m arrays\n",
      "File \u001b[1;32mc:\\Users\\hacen\\anaconda3\\Lib\\site-packages\\scipy\\sparse\\_coo.py:101\u001b[0m, in \u001b[0;36m_coo_base.__init__\u001b[1;34m(self, arg1, shape, dtype, copy, maxprint)\u001b[0m\n\u001b[0;32m     98\u001b[0m \u001b[38;5;28;01mif\u001b[39;00m \u001b[38;5;28mlen\u001b[39m(\u001b[38;5;28mself\u001b[39m\u001b[38;5;241m.\u001b[39m_shape) \u001b[38;5;241m>\u001b[39m \u001b[38;5;241m2\u001b[39m:\n\u001b[0;32m     99\u001b[0m     \u001b[38;5;28mself\u001b[39m\u001b[38;5;241m.\u001b[39mcoords \u001b[38;5;241m=\u001b[39m \u001b[38;5;28mtuple\u001b[39m(idx\u001b[38;5;241m.\u001b[39mastype(np\u001b[38;5;241m.\u001b[39mint64, copy\u001b[38;5;241m=\u001b[39m\u001b[38;5;28;01mFalse\u001b[39;00m) \u001b[38;5;28;01mfor\u001b[39;00m idx \u001b[38;5;129;01min\u001b[39;00m \u001b[38;5;28mself\u001b[39m\u001b[38;5;241m.\u001b[39mcoords)\n\u001b[1;32m--> 101\u001b[0m \u001b[38;5;28mself\u001b[39m\u001b[38;5;241m.\u001b[39m_check()\n",
      "File \u001b[1;32mc:\\Users\\hacen\\anaconda3\\Lib\\site-packages\\scipy\\sparse\\_coo.py:222\u001b[0m, in \u001b[0;36m_coo_base._check\u001b[1;34m(self)\u001b[0m\n\u001b[0;32m    220\u001b[0m \u001b[38;5;28;01mfor\u001b[39;00m i, idx \u001b[38;5;129;01min\u001b[39;00m \u001b[38;5;28menumerate\u001b[39m(\u001b[38;5;28mself\u001b[39m\u001b[38;5;241m.\u001b[39mcoords):\n\u001b[0;32m    221\u001b[0m     \u001b[38;5;28;01mif\u001b[39;00m idx\u001b[38;5;241m.\u001b[39mmax() \u001b[38;5;241m>\u001b[39m\u001b[38;5;241m=\u001b[39m \u001b[38;5;28mself\u001b[39m\u001b[38;5;241m.\u001b[39mshape[i]:\n\u001b[1;32m--> 222\u001b[0m         \u001b[38;5;28;01mraise\u001b[39;00m \u001b[38;5;167;01mValueError\u001b[39;00m(\u001b[38;5;124mf\u001b[39m\u001b[38;5;124m'\u001b[39m\u001b[38;5;124maxis \u001b[39m\u001b[38;5;132;01m{\u001b[39;00mi\u001b[38;5;132;01m}\u001b[39;00m\u001b[38;5;124m index \u001b[39m\u001b[38;5;132;01m{\u001b[39;00midx\u001b[38;5;241m.\u001b[39mmax()\u001b[38;5;132;01m}\u001b[39;00m\u001b[38;5;124m exceeds \u001b[39m\u001b[38;5;124m'\u001b[39m\n\u001b[0;32m    223\u001b[0m                          \u001b[38;5;124mf\u001b[39m\u001b[38;5;124m'\u001b[39m\u001b[38;5;124mmatrix dimension \u001b[39m\u001b[38;5;132;01m{\u001b[39;00m\u001b[38;5;28mself\u001b[39m\u001b[38;5;241m.\u001b[39mshape[i]\u001b[38;5;132;01m}\u001b[39;00m\u001b[38;5;124m'\u001b[39m)\n\u001b[0;32m    224\u001b[0m     \u001b[38;5;28;01mif\u001b[39;00m idx\u001b[38;5;241m.\u001b[39mmin() \u001b[38;5;241m<\u001b[39m \u001b[38;5;241m0\u001b[39m:\n\u001b[0;32m    225\u001b[0m         \u001b[38;5;28;01mraise\u001b[39;00m \u001b[38;5;167;01mValueError\u001b[39;00m(\u001b[38;5;124mf\u001b[39m\u001b[38;5;124m'\u001b[39m\u001b[38;5;124mnegative axis \u001b[39m\u001b[38;5;132;01m{\u001b[39;00mi\u001b[38;5;132;01m}\u001b[39;00m\u001b[38;5;124m index: \u001b[39m\u001b[38;5;132;01m{\u001b[39;00midx\u001b[38;5;241m.\u001b[39mmin()\u001b[38;5;132;01m}\u001b[39;00m\u001b[38;5;124m'\u001b[39m)\n",
      "\u001b[1;31mValueError\u001b[0m: axis 1 index 748 exceeds matrix dimension 500"
     ]
    }
   ],
   "source": [
    "# Test the optimized implementation\n",
    "import time\n",
    "\n",
    "# Create test data\n",
    "n_segments = 1000000\n",
    "number_of_mutations = 500\n",
    "\n",
    "# Simulate realistic genomic data\n",
    "np.random.seed(42)\n",
    "starts_idx_tuples = []\n",
    "end_idx_tuples = []\n",
    "mutations_data = []\n",
    "\n",
    "for i in range(n_segments):\n",
    "    # Each segment has 1-3 coverage ranges\n",
    "    n_ranges = np.random.randint(1, 4)\n",
    "    starts = sorted(np.random.randint(0, 700, n_ranges))\n",
    "    ends = [start + np.random.randint(10, 50) for start in starts]\n",
    "    \n",
    "    # Some mutations in covered regions\n",
    "    mutations = []\n",
    "    for start, end in zip(starts, ends):\n",
    "        if np.random.random() < 0.3:  # 30% chance of mutations in this range\n",
    "            n_mutations = np.random.randint(1, min(5, end-start+1))\n",
    "            mut_positions = np.random.randint(start, end+1, n_mutations)\n",
    "            mutations.append(tuple(mut_positions))\n",
    "        else:\n",
    "            mutations.append(tuple())\n",
    "    \n",
    "    starts_idx_tuples.append(tuple(starts))\n",
    "    end_idx_tuples.append(tuple(ends))\n",
    "    mutations_data.append(tuple(mutations))\n",
    "\n",
    "print(f\"Test data: {n_segments} segments, {number_of_mutations} positions\")\n",
    "\n",
    "# Test the optimized function\n",
    "start_time = time.time()\n",
    "sparse_result = create_mutation_sparse_matrix_vectorised(\n",
    "    starts_idx_tuples, end_idx_tuples, mutations_data, number_of_mutations\n",
    ")\n",
    "end_time = time.time()\n",
    "\n",
    "print(f\"Optimized version completed in: {end_time - start_time:.4f} seconds\")\n",
    "print(f\"Result shape: {sparse_result.shape}\")\n",
    "print(f\"Non-zero elements: {sparse_result.nnz}\")\n",
    "print(f\"Sparsity: {1 - sparse_result.nnz / (sparse_result.shape[0] * sparse_result.shape[1]):.4f}\")\n",
    "print(f\"Memory efficiency: Only storing {sparse_result.nnz} values instead of {sparse_result.shape[0] * sparse_result.shape[1]} values\")\n",
    "print(f\"Data type: {sparse_result.dtype}\")\n",
    "\n",
    "# Show a small sample of the results\n",
    "print(f\"\\nSample data (first 5 segments, first 20 positions):\")\n",
    "sample = sparse_result[:5, :20].toarray()\n",
    "print(sample)\n"
   ]
  },
  {
   "cell_type": "code",
   "execution_count": 12,
   "id": "478d17a7",
   "metadata": {},
   "outputs": [
    {
     "name": "stdout",
     "output_type": "stream",
     "text": [
      "=== Understanding sparse matrix representation ===\n",
      "Small example:\n",
      "Segment 0: covers positions 0,1,2,5,6,7 with mutations at 1,6\n",
      "Segment 1: covers positions 2,3,4 with mutation at 3\n",
      "Segment 2: covers no positions\n",
      "\n",
      "Dense representation:\n",
      "[[False  True False False False False  True False False False]\n",
      " [False False False  True False False False False False False]\n",
      " [False False False False False False False False False False]]\n",
      "\n",
      "Key points:\n",
      "- 0 = covered position, NO mutation\n",
      "- 1 = covered position, WITH mutation\n",
      "- 0 in dense view = NOT COVERED (missing data)\n",
      "\n",
      "Sparse matrix details:\n",
      "Shape: (3, 10)\n",
      "Stored values: [False  True False False  True False False  True False]\n",
      "Row indices: [0 1 2 5 6 7 2 3 4]\n",
      "Column indices: [0 6 9 9]\n",
      "\n",
      "=== The sparse matrix ONLY stores covered positions ===\n",
      "- If a position is covered but no mutation: stores 0\n",
      "- If a position is covered with mutation: stores 1\n",
      "- If a position is NOT covered: stores NOTHING (missing/implicit)\n",
      "\n",
      "When you convert to dense (.toarray()), scipy fills missing entries with 0,\n",
      "but the original sparse matrix distinguishes between 'stored 0' and 'missing'\n",
      "\n",
      "=== How to distinguish covered-no-mutation vs missing ===\n",
      "Position (0,3) is covered: False\n",
      "Position (0,1) has explicit entry: True\n",
      "Value at (0,1): True\n"
     ]
    }
   ],
   "source": [
    "# Demonstration: Missing values vs 0s vs 1s in sparse matrix\n",
    "print(\"=== Understanding sparse matrix representation ===\")\n",
    "\n",
    "# Create a small example to show the difference\n",
    "small_starts = [tuple([0, 5]), tuple([2]), tuple([])]  # segment 3 has no coverage\n",
    "small_ends = [tuple([2, 7]), tuple([4]), tuple([])]\n",
    "small_mutations = [tuple([tuple([1]), tuple([6])]), tuple([tuple([3])]), tuple([])]\n",
    "\n",
    "small_result = create_mutation_sparse_matrix_optimized(small_starts, small_ends, small_mutations, 10)\n",
    "\n",
    "print(\"Small example:\")\n",
    "print(\"Segment 0: covers positions 0,1,2,5,6,7 with mutations at 1,6\")\n",
    "print(\"Segment 1: covers positions 2,3,4 with mutation at 3\") \n",
    "print(\"Segment 2: covers no positions\")\n",
    "print()\n",
    "\n",
    "# Convert to dense to see the actual values\n",
    "dense_version = small_result.toarray()\n",
    "print(\"Dense representation:\")\n",
    "print(dense_version)\n",
    "print()\n",
    "\n",
    "print(\"Key points:\")\n",
    "print(\"- 0 = covered position, NO mutation\")\n",
    "print(\"- 1 = covered position, WITH mutation\") \n",
    "print(\"- 0 in dense view = NOT COVERED (missing data)\")\n",
    "print()\n",
    "\n",
    "print(\"Sparse matrix details:\")\n",
    "print(f\"Shape: {small_result.shape}\")\n",
    "print(f\"Stored values: {small_result.data}\")\n",
    "print(f\"Row indices: {small_result.indices}\")  \n",
    "print(f\"Column indices: {small_result.indptr}\")\n",
    "print()\n",
    "\n",
    "print(\"=== The sparse matrix ONLY stores covered positions ===\")\n",
    "print(\"- If a position is covered but no mutation: stores 0\")\n",
    "print(\"- If a position is covered with mutation: stores 1\") \n",
    "print(\"- If a position is NOT covered: stores NOTHING (missing/implicit)\")\n",
    "print()\n",
    "print(\"When you convert to dense (.toarray()), scipy fills missing entries with 0,\")\n",
    "print(\"but the original sparse matrix distinguishes between 'stored 0' and 'missing'\")\n",
    "\n",
    "# Show how to check if a position is actually covered vs missing\n",
    "print(\"\\n=== How to distinguish covered-no-mutation vs missing ===\")\n",
    "row, col = 0, 3  # segment 0, position 3\n",
    "is_covered = small_result[row, col] != 0 or (row, col) in zip(*small_result.nonzero())\n",
    "print(f\"Position ({row},{col}) is covered: {is_covered}\")\n",
    "\n",
    "row, col = 0, 1  # segment 0, position 1 (covered, no mutation)  \n",
    "has_explicit_entry = len(small_result[row, [col]].data) > 0\n",
    "print(f\"Position ({row},{col}) has explicit entry: {has_explicit_entry}\")\n",
    "print(f\"Value at ({row},{col}): {small_result[row, col]}\")\n"
   ]
  },
  {
   "cell_type": "code",
   "execution_count": null,
   "id": "5724879c",
   "metadata": {},
   "outputs": [
    {
     "name": "stdout",
     "output_type": "stream",
     "text": [
      "4x8 example result:\n",
      "[[False  True False False False False False False]\n",
      " [False False False False False False False False]\n",
      " [False False False  True False False  True False]\n",
      " [False False False False  True  True False False]]\n"
     ]
    }
   ],
   "source": [
    "# Test with my 4x8 example\n",
    "starts_idx_tuples_2 = [(0,6), (1,), (3,5), (0,4)]\n",
    "end_idx_tuples_2 = [(2,7), (3,), (4,6), (1,5)]\n",
    "mutations_data_2 = [((1,), ()), ((),), ((3,), (6)), ((), (4,5))]\n",
    "number_of_mutations_2 = 8\n",
    "\n",
    "result2 = create_mutation_sparse_matrix_optimized(starts_idx_tuples_2, end_idx_tuples_2, mutations_data_2, number_of_mutations_2)\n",
    "print(\"4x8 example result:\")\n"
   ]
  },
  {
   "cell_type": "code",
   "execution_count": 14,
   "id": "99e76c5d",
   "metadata": {},
   "outputs": [
    {
     "data": {
      "text/plain": [
       "<Compressed Sparse Row sparse matrix of dtype 'bool'\n",
       "\twith 16 stored elements and shape (4, 8)>"
      ]
     },
     "execution_count": 14,
     "metadata": {},
     "output_type": "execute_result"
    }
   ],
   "source": [
    "result2"
   ]
  }
 ],
 "metadata": {
  "kernelspec": {
   "display_name": "base",
   "language": "python",
   "name": "python3"
  },
  "language_info": {
   "codemirror_mode": {
    "name": "ipython",
    "version": 3
   },
   "file_extension": ".py",
   "mimetype": "text/x-python",
   "name": "python",
   "nbconvert_exporter": "python",
   "pygments_lexer": "ipython3",
   "version": "3.13.5"
  }
 },
 "nbformat": 4,
 "nbformat_minor": 5
}
