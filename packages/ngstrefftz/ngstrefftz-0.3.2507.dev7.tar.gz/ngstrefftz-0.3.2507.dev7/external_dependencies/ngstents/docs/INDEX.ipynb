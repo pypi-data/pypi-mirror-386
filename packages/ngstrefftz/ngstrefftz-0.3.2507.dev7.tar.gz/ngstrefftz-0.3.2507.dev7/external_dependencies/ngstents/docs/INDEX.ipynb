{
 "cells": [
  {
   "cell_type": "markdown",
   "id": "096ca91a-ba85-4b6c-b103-72bd888f6567",
   "metadata": {},
   "source": [
    "# CONTENTS"
   ]
  },
  {
   "cell_type": "markdown",
   "id": "3e80540e-f0bd-414a-93af-f7a26d5ed062",
   "metadata": {},
   "source": [
    " I. [Getting Started with Pitching Tents](./StartPitching.ipynb)\n",
    "\n",
    "II. [Maps, Tents & Nonlinear equations](./BurgersMTP.ipynb)\n"
   ]
  }
 ],
 "metadata": {
  "kernelspec": {
   "display_name": "Python 3 (ipykernel)",
   "language": "python",
   "name": "python3"
  },
  "language_info": {
   "codemirror_mode": {
    "name": "ipython",
    "version": 3
   },
   "file_extension": ".py",
   "mimetype": "text/x-python",
   "name": "python",
   "nbconvert_exporter": "python",
   "pygments_lexer": "ipython3",
   "version": "3.11.6"
  }
 },
 "nbformat": 4,
 "nbformat_minor": 5
}
