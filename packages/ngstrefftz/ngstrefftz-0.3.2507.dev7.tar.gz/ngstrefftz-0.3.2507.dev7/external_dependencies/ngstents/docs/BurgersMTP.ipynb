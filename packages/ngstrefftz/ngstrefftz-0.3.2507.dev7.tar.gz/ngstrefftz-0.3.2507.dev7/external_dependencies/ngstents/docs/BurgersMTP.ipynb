{
 "cells": [
  {
   "cell_type": "markdown",
   "id": "7b3d1ff3-bdda-4c6f-abbc-0dec04bbcad2",
   "metadata": {},
   "source": [
    "# II. Maps, Tents & Nonlinear Equations\n",
    "\n",
    "**[Jay Gopalakrishnan](https://web.pdx.edu/~gjay/)**   (gjay@pdx.edu)\n",
    "\n",
    "**NGSolve User Meeting Lecture: Part II**\n",
    "\n",
    "<br>\n",
    "<hr>"
   ]
  },
  {
   "cell_type": "markdown",
   "id": "dc622b5d-f79d-4bc4-998e-6a1fad57ea70",
   "metadata": {},
   "source": [
    "A drawback of a spacetime tent region is that it is not a tensor product of a time interval with a spatial domain. This may seem to make timestepping algorithms and well-known spatial discretizations inapplicable on tents. But [MTP (Mapped Tent Pitching)](https://doi.org/10.1137/16M1101374) schemes overcame this drawback by mapping tents to tensor product domains. It allows the use of standard discontinuous Galerkin (DG) techniques after mapping tents. Once the mapped equation is understood, you can quickly implement your favorite high-order spatial DG discretization in `ngstents` while automatically leveraging the local time stepping capabilities of unstructured tent subdivisions."
   ]
  },
  {
   "cell_type": "markdown",
   "id": "998ef22f-7df9-4038-82e9-0cbd8c6ae39c",
   "metadata": {},
   "source": [
    "## Maps\n",
    "\n",
    "The above-mentioned tent mapping is illustrated below. A tent $\\newcommand{\\vtx}{{\\mathtt{v}}} K_{\\vtx}$ pitched atop a mesh vertex \n",
    "$\\vtx$\n",
    "is shown as the image of a map $\\Phi$ from a tensor product spacetime cylinder $\\hat{K}_{\\vtx}$.  In the cylinder, instead of the physical time $t$, we use a **pseudotime** $\\tau$ variable lying in the unit interval $[0, 1]$."
   ]
  },
  {
   "cell_type": "markdown",
   "id": "0572f04c-cc13-4a73-8733-841716c163b9",
   "metadata": {},
   "source": [
    "<img src=\"./figs/map.png\" width=\"50%\" align=\"center\">"
   ]
  },
  {
   "cell_type": "markdown",
   "id": "9c507134-faf8-4b2c-bcb5-1086a00145dd",
   "metadata": {},
   "source": [
    "The map $\\Phi$ preserves space, but changes time per the next formula.\n",
    "\n",
    "$$\\begin{align*}\n",
    "\\newcommand{\\d}{\\partial}\n",
    "\\newcommand{\\divxh}{\\hat{\\mathrm{div}}_x}\n",
    "\\newcommand{\\divhx}{\\text{div}_{x}}\n",
    "\\newcommand{\\divx}{\\text{div}_x}\n",
    "\\newcommand{\\gradx}{\\text{grad}_x}\n",
    "\\newcommand{\\gradhx}{\\mathop{\\text{grad}_{x}}}\n",
    "\\newcommand{\\vphi}{\\varphi}\n",
    "        \\Phi\n",
    "        \\begin{pmatrix}          \n",
    "        {{x}} \\\\  \\,{\\tau}\n",
    "        \\end{pmatrix}\n",
    "     & = \n",
    "       \\begin{pmatrix}\n",
    "          {{x}} \\\\ \n",
    "          \\varphi( {{x}}, {\\tau})\n",
    "       \\end{pmatrix},        \n",
    "\\end{align*}$$\n",
    "\n",
    "where $\\varphi$ is given as follows. Suppose the tent top and bottom are graphs of (continuous piecewise linear) functions  $\\vphi_{\\text{top}}(x)$ and $\\vphi_{\\text{bot}}(x)$, respectively. Then\n",
    "\n",
    "$$\n",
    "\\vphi(x, \\tau) = (1-{\\tau}) \\vphi_{\\text{bot}} + {\\tau} \\vphi_{\\text{top}}.\n",
    "$$"
   ]
  },
  {
   "cell_type": "markdown",
   "id": "b86cf14e-32fe-4f84-883f-5fafff014c2c",
   "metadata": {},
   "source": [
    "This change of variable will change the equation we want to solve. \n",
    "Suppose we are initially given a hyperbolic system of $L$ equations \n",
    "$\n",
    "\\newcommand{\\vtx}{\\text{v}}\n",
    "\\newcommand{\\d}{\\partial}\n",
    "\\newcommand{\\divxh}{\\hat{\\mathrm{div}}_x}\n",
    "\\newcommand{\\divhx}{\\text{div}_{x}}\n",
    "\\newcommand{\\divx}{\\text{div}_x}\n",
    "\\newcommand{\\gradx}{\\text{grad}_x}\n",
    "\\newcommand{\\vphi}{\\varphi}\n",
    "\\newcommand{\\gradhx}{\\mathop{\\text{grad}_{x}}}\n",
    "$\n",
    "\n",
    "$$\n",
    "\\partial_t U + \\divx f(U ) = 0\n",
    "$$\n",
    "\n",
    "for some  function $U$ with $L$ components on the tent $K_{\\vtx}$. Here the divergence is taken row wise on the $L \\times N$ matrix $f(U)$ in $N$-spatial dimensions. The transformed variable is \n",
    "\n",
    "$$\n",
    "  u = U \\circ \\Phi: \\hat K_{\\vtx} \\to \\mathbb{R}^L.\n",
    "$$\n",
    "\n",
    "The following result,  proved in a [[2017 paper]](https://doi.org/10.1137/16M1101374), shows how the equation transforms under the variable change, and shapes the ensuing implementation details. "
   ]
  },
  {
   "cell_type": "markdown",
   "id": "fc50ef54-331a-4a56-8b0d-65b3bd56a77a",
   "metadata": {},
   "source": [
    "<div class=\"alert alert-info\">\n",
    "    <b>Transformation of the hyperbolic system:</b>\n",
    "    The equation \n",
    "    \n",
    "$$ \n",
    "\\def\\d{\\partial}\n",
    "\\newcommand{\\vtx}{\\text{v}}\n",
    "\\newcommand{\\d}{\\partial}\n",
    "\\newcommand{\\divxh}{\\hat{\\mathrm{div}}_x}\n",
    "\\newcommand{\\divhx}{\\text{div}_{x}}\n",
    "\\newcommand{\\divx}{\\text{div}_x}\n",
    "\\newcommand{\\gradx}{\\text{grad}_x}\n",
    "\\newcommand{\\vphi}{\\varphi}\n",
    "\\newcommand{\\gradhx}{\\mathop{\\text{grad}_{x}}}\n",
    "\\frac{\\d U}{\\d t}  + \\divx f( {U}) =0,\\qquad \\text { on } K_{\\vtx},\n",
    "$$\n",
    "\n",
    "holds if and only if  $\\; u = U \\circ \\Phi$ on $\\hat K_{\\vtx}$ satisfies \n",
    "\n",
    "$$        \n",
    "\\frac{\\d }{\\d {\\tau}}\n",
    "            \\big[ u -\n",
    "            f(u)\\,\n",
    "            \\gradx \\vphi\n",
    "            \\big]\n",
    "            + \n",
    "            \\divhx\n",
    "            {\\delta} \n",
    "            f(u )\n",
    "            = 0, \\qquad \\text { on } \\hat K_{\\vtx}.\n",
    "$$\n",
    "\n",
    "where $\\delta(x) = \\vphi_{\\text{top}}(x) - \\vphi_{\\text{bot}}(x).$ \n",
    "</div>"
   ]
  },
  {
   "cell_type": "markdown",
   "id": "4a5c0e0b-25df-47e8-907a-eecd77ce95ba",
   "metadata": {},
   "source": [
    "Since the second equation is on the tensor product cylinder $\\hat{K}_{\\vtx}$, we can use standard spatial discretizations there.  The `ngstents` package allows you to specify what DG method you want to apply, as we shall see next. Other details (such as mapping the solution back to the physical tent from the cylinder, tent dependencies and asynchronous parallel tent marching) are taken care of internally so you can focus on the discretization.\n",
    "\n",
    "In other words, `ngstents` *enables you  to experiment with very general hyperbolic systems and DG schemes* by letting you provide your own $f$ and your own DG schemes."
   ]
  },
  {
   "cell_type": "markdown",
   "id": "bf6f751c-99d1-4de4-bc6c-f9ac2923f782",
   "metadata": {},
   "source": [
    "## Inputs "
   ]
  },
  {
   "cell_type": "markdown",
   "id": "42779527-64c3-418f-b512-ca615fa138a3",
   "metadata": {},
   "source": [
    "The first required input is a function that returns the hyperbolic **flux** $f(u) \\in \\mathbb{R}^{L \\times N}$, given a state vector $u \\in \\mathbb R^L$.\n",
    "\n",
    "```python\n",
    "def HyperbolicFlux(u):\n",
    "    \"\"\"\n",
    "    Given L-vector u, compute and return L x N matrix f(u).\n",
    "    \"\"\"\n",
    "```"
   ]
  },
  {
   "cell_type": "markdown",
   "id": "e8880ecf-16ae-423b-a12e-e7949a42d501",
   "metadata": {},
   "source": [
    "Next,  consider DG discretizations of the following form obtained by multiplying the mapped equation by a DG test function $v$ and integrating by parts. Namely, a DG approximation  $u_h$    of $u$ solves \n",
    "\n",
    "$$\\begin{align*}\n",
    "\\newcommand{\\uh}{{{u}}}\n",
    "\\newcommand{\\ov}{{\\Omega_{\\vtx}}}\n",
    "\\newcommand{\\oh}{{\\varOmega_h}}\n",
    "%\n",
    "\\int_{\\Omega_{\\vtx}} & \n",
    "      \\frac{\\partial }{\\partial {\\tau}}\n",
    "      \\big[ \\uh_h - f(\\uh_h) \\gradx \\varphi\\big] \\cdot  v\n",
    "      = \\sum_{K \\subset \\ov} \\bigg[      \\int_K \\delta f(\\uh_h) : \\gradx v -\n",
    "      \\int_{\\partial K} \n",
    "        \\left(\\begin{smallmatrix}\n",
    "          \\text{numerical}\\\\\n",
    "          \\text{flux}\n",
    "        \\end{smallmatrix}\\right)      \\cdot \\,v \\,\\delta\\,\\bigg],\n",
    "\\end{align*}$$"
   ]
  },
  {
   "cell_type": "markdown",
   "id": "703c63aa-864a-43e3-af2b-a65ac8ea881b",
   "metadata": {},
   "source": [
    "where the \"numerical flux\" is that of your favorite DG method. That last term can be rewritten using facets. Each interior facet $F \\in \\mathcal{F}_{int}$ is oriented by a unit normal $n_F$. As one crosses $F$ in the $n_F$ direction, the value of a DG function $u$ jumps from $u^-$ to $u^+$, i.e., $u^\\pm(x) = \\lim_{s\\to 0, s>0} u(x \\pm s n_F)$ for $x \\in F$. On facets contained in the global boundary, $n_F$ is always the outward unit normal $n$. Using this notation, "
   ]
  },
  {
   "cell_type": "markdown",
   "id": "1cae1fee-e37a-4e9d-b5b7-17a09fe93a96",
   "metadata": {},
   "source": [
    "\n",
    "$$\\newcommand{\\uh}{{{u}}}\n",
    "\\newcommand{\\ov}{{\\Omega_{\\vtx}}}\n",
    "\\newcommand{\\oh}{{\\varOmega_h}}\n",
    "\\frac{\\partial }{\\partial {\\tau}}\n",
    "\\int_{\\Omega_{\\vtx}}  \n",
    "      \\big[ \\uh_h - f(\\uh_h) \\gradx \\varphi\\big] \\cdot  v\n",
    "=T_{vol} + T_{int} + T_{bdr}\n",
    "$$\n"
   ]
  },
  {
   "cell_type": "markdown",
   "id": "8f5e5cfb-1a44-47cc-bc58-df45c4d663d8",
   "metadata": {},
   "source": [
    "where \n",
    "\n",
    "$$\n",
    "T_{int} = -\\sum_{F\\in \\mathcal{F}_{int}} \\int_F \\delta \\;\\hat{f}(n_F, u_h^+, u_h^-) \\;(v^+ - v^-), \\qquad \n",
    "T_{bdr} = \\sum_{F \\in \\mathcal{F}_{bdr}} \\int_F \\delta \\; \\hat f_{bdr}( n, u^{bdr}, u_h)\\; v\n",
    "$$\n",
    "\n",
    "and the volume term is \n",
    "${T_{vol} = \\sum_{K \\subset \\ov} \\int_K \\delta f(\\uh_h) : \\gradx v}.$   Users can define their preferred DG method by providing definitions of  ${\\hat{f}(n_F, u^+, u^-)}$ and ${\\hat f_{bdr}(n, u^{bdr}, u)}$ in python functions like those below."
   ]
  },
  {
   "cell_type": "markdown",
   "id": "282a78cc-f038-4736-b32e-2f196f36c34b",
   "metadata": {},
   "source": [
    "```python\n",
    "def NumericalFlux(u_minus, u_plus):\n",
    "    \"\"\"\n",
    "    Given uminus and uplus on an interior facet F, which are \n",
    "    respectively traces from F's adjacent elements\n",
    "    from which and to which the facet's normal nF points,\n",
    "    compute and return  fhat(n, u_minus, u_plus).\n",
    "    \"\"\"\n",
    "\n",
    "def BoundaryFlux(u):\n",
    "    \"\"\"\n",
    "    Given u on a boundary facet, compute fhat(n, ubdr, u)\n",
    "    using known boundary data ubdr. Return it as a dictionary\n",
    "    with key-value pairs like \n",
    "      boundary_name: value of fhat(n, ubdr, u) at this named boundary\n",
    "    \"\"\"\n",
    "```"
   ]
  },
  {
   "cell_type": "markdown",
   "id": "c640361c-cb88-46d4-9f51-0e46c9dc59bf",
   "metadata": {},
   "source": [
    "Next, we come to an input function that is quite specific to the tent-based nature of the schemes. The user is required to  provide the *inverse* of the map \n",
    "\n",
    "$$\n",
    "u_h \\longmapsto y_h = u_h - f(u_h) \\gradx \\vphi.\n",
    "$$\n",
    "\n",
    "The reason for it, without getting too lost in the weeds, is that it is needed to transform the equation, as derived previously, \n",
    "\n",
    "$$\n",
    "\\frac{d }{d\\tau}\n",
    "\\int_{\\Omega_{\\vtx}} \\big[ \\uh_h - f(\\uh_h) \\gradx \\varphi\\big] \\cdot  v\n",
    "= \\ldots {\\text{some function of $u_h$}\\ldots }\n",
    "$$\n",
    "\n",
    "into the more standard timesteppable form \n",
    "\n",
    "$$\n",
    "\\frac{d }{d {\\tau}} \\int_{\\Omega_{\\vtx}} y_h \\cdot v  = \\ldots \\text{some function of } y_h  \\ldots.\n",
    "$$"
   ]
  },
  {
   "cell_type": "markdown",
   "id": "d935dad0-dbc1-44db-8b83-4bac84bbdfb7",
   "metadata": {},
   "source": [
    "```python\n",
    "def InverseMap(y):\n",
    "    \"\"\"\n",
    "    Given y, solve the equation y = u - f(u) grad(phi)\n",
    "    for u and return u.\n",
    "    \"\"\"\n",
    "```"
   ]
  },
  {
   "cell_type": "markdown",
   "id": "e3d70be5-94c6-41bf-a696-babd3f74c94e",
   "metadata": {},
   "source": [
    "The quantity $\\gradx(\\vphi)$ needed to solve the above equation is available as a data attribute of `TentSlab`. The facet and boundary unit normal $n$, usually needed in numerical flux calculations is provided by `ngsolve`. These are usually enough to provide implementations of the above functions. These functions are then provided as input to create an MTP solver for linear hyperbolic systems. For nonlinear hyperbolic equations, a few more bells and whistles are needed for stable shock capturing, as we will see later. But first,  consider the following simple linear example. "
   ]
  },
  {
   "cell_type": "markdown",
   "id": "34075664-9dd9-4f76-920b-6dc9320cb408",
   "metadata": {},
   "source": [
    "## Linear advection"
   ]
  },
  {
   "cell_type": "markdown",
   "id": "1cd8c5cb-a041-4c6b-b2a7-92af49fd1f56",
   "metadata": {},
   "source": [
    "Given a divergence-free vector field $b$, let us  solve the linear advection equation \n",
    "\n",
    "$$\n",
    "\\partial_t u - \\divx( b u ) = 0 \n",
    "$$\n",
    "\n",
    "using tents.  We proceed to set up the above-mentioned four input functions for this example. They will be provided to an object of class `ConservationLaw`, which we now import:"
   ]
  },
  {
   "cell_type": "code",
   "execution_count": null,
   "id": "5f1718f0-7da4-4443-8e12-893318fefcba",
   "metadata": {},
   "outputs": [],
   "source": [
    "from ngstents.conslaw import ConservationLaw"
   ]
  },
  {
   "cell_type": "markdown",
   "id": "53ff4402-2609-4b40-bcc9-12bcdf3da663",
   "metadata": {},
   "source": [
    "We repeat previous workflow to pitch tents as in the earlier tutorial:"
   ]
  },
  {
   "cell_type": "code",
   "execution_count": null,
   "id": "dfc5d12e-d3d1-4c36-905b-a04924de427e",
   "metadata": {},
   "outputs": [],
   "source": [
    "from ngstents import TentSlab\n",
    "import ngsolve as ng\n",
    "from ngsolve import CF, L2, sqrt, exp, x, y, IfPos, InnerProduct\n",
    "from netgen.geom2d import unit_square\n",
    "from ngsolve.webgui import Draw"
   ]
  },
  {
   "cell_type": "code",
   "execution_count": null,
   "id": "1f4225cb-2b42-456c-94ed-bc885002c46e",
   "metadata": {},
   "outputs": [],
   "source": [
    "mesh = ng.Mesh(unit_square.GenerateMesh(maxh=0.05))\n",
    "dt = 0.02\n",
    "ts = TentSlab(mesh)\n",
    "ts.SetMaxWavespeed(1)\n",
    "ts.PitchTents(dt=dt, local_ct=True, global_ct=0.5); "
   ]
  },
  {
   "cell_type": "markdown",
   "id": "14233820-87e1-4417-9b61-682139c4d037",
   "metadata": {},
   "source": [
    "Next, we set the advection vector field $b$ and the initial function."
   ]
  },
  {
   "cell_type": "code",
   "execution_count": null,
   "id": "9ccade50-02f2-49f9-8cb2-4dddd2c9bec2",
   "metadata": {},
   "outputs": [],
   "source": [
    "b = CF((1, 0.2), dims=(1, 2))\n",
    "u0 = CF(exp(-50 * ((x - 0.3)**2  + (y - 0.3)**2)))\n",
    "Draw(u0, mesh);"
   ]
  },
  {
   "cell_type": "markdown",
   "id": "e7c03d21-a6d4-49b9-a8ff-825cec5e218e",
   "metadata": {},
   "source": [
    "Now we are ready to define the four required input functions for solving this problem using tents."
   ]
  },
  {
   "cell_type": "code",
   "execution_count": null,
   "id": "dfd75aef-85b8-4387-b9ab-a6f17d5cf44a",
   "metadata": {},
   "outputs": [],
   "source": [
    "n = ng.specialcf.normal(mesh.dim)\n",
    "\n",
    "def HyperbolicFlux_Advection(u):       # f(u) = b * u\n",
    "    return CF(b * u, dims=(1, 2))\n",
    "\n",
    "def NumericalFlux_Advection(um, up):   # set upwind flux\n",
    "    bn = b * n\n",
    "    return IfPos(bn, bn * um, bn * up)\n",
    "\n",
    "def BoundaryFlux_Advection(u): \n",
    "   return  mesh.BoundaryCF({\n",
    "        \"left\": 0,           # inflow \n",
    "        \"bottom\": 0,         # inflow \n",
    "        \"right\": b * n * u,  # outflow\n",
    "        \"top\": b * n * u     # outflow\n",
    "    })\n",
    "    \n",
    "def InverseMap_Advection(y):\n",
    "    # solve for u from the linear eq y = u - u * b * grad(phi)\n",
    "    return y / (1 - InnerProduct(b, ts.gradphi))"
   ]
  },
  {
   "cell_type": "markdown",
   "id": "e224ead3-5f52-4653-9520-30ce8c5dde4f",
   "metadata": {},
   "source": [
    "Providing these inputs to a conservation law object, and using its propagation method, we obtain the solution to the advection equation."
   ]
  },
  {
   "cell_type": "code",
   "execution_count": null,
   "id": "fed4c1ce-d1bb-40af-a8d6-c99f22cc4dc8",
   "metadata": {},
   "outputs": [],
   "source": [
    "V = L2(mesh, order=4)\n",
    "u = ng.GridFunction(V)\n",
    "\n",
    "cl = ConservationLaw(u, ts, \n",
    "                     flux=HyperbolicFlux_Advection, \n",
    "                     numflux=NumericalFlux_Advection, \n",
    "                     inversemap=InverseMap_Advection)\n",
    "cl.SetInitial(u0)\n",
    "cl.SetBoundaryCF(BoundaryFlux_Advection(cl.u_minus))\n",
    "cl.SetTentSolver(substeps=10)\n",
    "\n",
    "t = 0;  tend = 0.6\n",
    "scene = Draw(u)\n",
    "\n",
    "with ng.TaskManager():\n",
    "    while t < tend - dt / 2:\n",
    "        cl.Propagate()\n",
    "        t += dt\n",
    "        scene.Redraw()"
   ]
  },
  {
   "cell_type": "markdown",
   "id": "22ef1acb-5910-424a-904e-16eb957455c6",
   "metadata": {},
   "source": [
    "## Two-dimensional Burger's equation "
   ]
  },
  {
   "cell_type": "markdown",
   "id": "8d41f4a5-6a68-477c-bd89-6a00a3c97e7b",
   "metadata": {},
   "source": [
    "Let us now turn to the more complex case of a nonlinear hyperbolic equation. We illustrate the usage of  MTP techniques considering the example of a two-dimensional Burger's equation,\n",
    "\n",
    "$$\\newcommand{\\Ec}{\\mathcal{E}} \\newcommand{\\Fc}{\\mathcal{F}}\n",
    "\\partial_t U + \\divx \\left(\\frac 1 2 [U^2, U^2]\\right) = 0. \n",
    "$$"
   ]
  },
  {
   "cell_type": "markdown",
   "id": "e35c272f-1bb9-4721-bf77-525a518c5289",
   "metadata": {},
   "source": [
    "In addition to the above-mentioned four required input functions, we may now specify four more input functions that allow for stable simulations even in the presence of shocks. The literature contains  many shock capturing techniques (like flux and slope limiters) for  nonlinear conservation laws. We implemented one called the **entropy viscosity regularization** of Guermond, Pasquetti and Popov's [[2011 paper]](https://doi.org/10.1016/j.jcp.2010.11.043). They suggest modifying numerical schemes by adding small amounts of artificial viscosity in selected locations to avoid spurious oscillations near shocks.\n",
    "\n",
    "How are these locations selected?  Recall that a scalar function $\\newcommand{\\Ec}{\\mathcal{E}}\n",
    "\\newcommand{\\Fc}{\\mathcal{F}}$ $\\Ec(u)$ is called an **entropy**  if there exists a vector field called **entropy flux** $\\Fc(u)$ such that any smooth solution $u$ of the hyperbolic system satisfies the **entropy conservation law**\n",
    "\n",
    "$$ \n",
    "\\newcommand{\\Ec}{\\mathcal{E}}\n",
    "\\newcommand{\\Fc}{\\mathcal{F}}\n",
    "\\partial_t \\Ec(u) + \\divx \\Fc(u) = 0.\n",
    "$$\n",
    "\n",
    "For  a nonsmooth solution $u$, only the *entropy admissibility inequality* \n",
    "\n",
    "$$\n",
    "\\partial_t \\Ec(u) + \\divx \\Fc(u) \\le  0\n",
    "$$\n",
    "\n",
    "can be expected to hold rather than the equality. By computing an entropy residual \n",
    "$r_h \\approx  \\partial_t \\Ec(u)_h + \\divx \\Fc(u_h)$  from a numerical solution $u_h$, regions of *entropy production* are identified as locations for viscosity addition. The following four functions are required from the user to turn on entropy viscosity regularization. "
   ]
  },
  {
   "cell_type": "markdown",
   "id": "77dca2f6-d375-49ef-b691-dc8d554a02b8",
   "metadata": {},
   "source": [
    "```python\n",
    "def Entropy(u):\n",
    "    \"\"\"\n",
    "    Compute and return a known entropy function E(u).\n",
    "    \"\"\"\n",
    "\n",
    "def EntropyFlux(u):\n",
    "    \"\"\"\n",
    "    Compute the entropy flux F(u) for the above entropy E(u).\n",
    "    \"\"\"\n",
    "\n",
    "def NumericalEntropyFlux(u_minus, u_plus):\n",
    "    \"\"\"\n",
    "    Return a DG numerical flux of a discretization of the entropy\n",
    "    conservation law to be used for entropy residual calculation.\n",
    "    Used only on interior facets.\n",
    "    \"\"\"\n",
    "\n",
    "def ViscosityCoefficient(u, res):\n",
    "    \"\"\"\n",
    "    Given an approximate solution \"u\" and its entropy residual \"res\",\n",
    "    return the artificial viscosity coefficient to be added.\n",
    "    \"\"\"\n",
    "```"
   ]
  },
  {
   "cell_type": "markdown",
   "id": "f8b5c1db-9dea-447b-98aa-ea98974984ba",
   "metadata": {},
   "source": [
    "For the 2D Burger's equation, a well known entropy pair is \n",
    "\n",
    "$$\n",
    "\\Ec(u) = \\frac 1 2 u^2, \\qquad \n",
    "\\Fc(u) = \\frac 1 3 [u^3, u^3].\n",
    "$$\n",
    "\n",
    "This together with upwind DG fluxes are set in the following functions. "
   ]
  },
  {
   "cell_type": "code",
   "execution_count": null,
   "id": "5550f780-5dad-4b95-818e-96845970e7e2",
   "metadata": {},
   "outputs": [],
   "source": [
    "# PITCH TENTS \n",
    "\n",
    "mesh = ng.Mesh(unit_square.GenerateMesh(maxh=0.05))\n",
    "dt = 0.01\n",
    "ts = TentSlab(mesh) # , method=\"edge\")\n",
    "ts.SetMaxWavespeed(2)\n",
    "ts.PitchTents(dt=dt, local_ct=True, global_ct=0.5); \n",
    "n = ng.specialcf.normal(mesh.dim)\n",
    "h = ng.specialcf.mesh_size"
   ]
  },
  {
   "cell_type": "code",
   "execution_count": null,
   "id": "a7323fa0-0b9a-4ae6-851c-e5032d674c1f",
   "metadata": {},
   "outputs": [],
   "source": [
    "# SET 8 INPUT FUNCTIONS FOR 2D BURGER'S EQUATION\n",
    "\n",
    "def HyperbolicFlux_Burgers(u):\n",
    "    return CF((u**2 / 2, u**2 / 2), dims=(1, 2))\n",
    "\n",
    "def NumericalFlux_Burgers(u_minus, u_plus):  \n",
    "    uhat = 0.5 * (u_minus + u_plus)\n",
    "    dfn = uhat * (n[0] + n[1]) # dfn = f'(u) n \n",
    "    # Set upwind flux determined by sgn(f'(u) n)\n",
    "    return IfPos(dfn, \n",
    "                 HyperbolicFlux_Burgers(u_minus) * n, \n",
    "                 HyperbolicFlux_Burgers(u_plus)  * n)\n",
    "\n",
    "def BoundaryFlux_Burgers(u):\n",
    "    bdrycf = {bdr: NumericalFlux_Burgers(u, 0) for bdr in mesh.GetBoundaries()}\n",
    "    return mesh.BoundaryCF(bdrycf)\n",
    "   \n",
    "def InverseMap_Burgers(y):     \n",
    "    # Solve the quadratic equation \n",
    "    #   y = u - (1/2)[u^2, u^2] grad(phi),   or equivalently,\n",
    "    #   y = u - u^2 * d,              where  d is as follows:\n",
    "    d = ts.gradphi[0] + ts.gradphi[1]\n",
    "    return 2 * y / (1 + sqrt(1 - 2 * d * y))\n",
    "\n",
    "def Entropy_Burgers(u):\n",
    "    return u**2 / 2\n",
    "\n",
    "def EntropyFlux_Burgers(u):\n",
    "    return CF((u**3 / 3, u**3 / 3), dims=(1, 2))\n",
    "\n",
    "def NumericalEntropyFlux_Burgers(u_minus, u_plus):\n",
    "    uhat = 0.5 * (u_minus + u_plus)\n",
    "    dFn = uhat**2 * (n[0] + n[1])  # F'(u) * n\n",
    "    # Set upwind flux determined by sgn(F'(u) n)\n",
    "    return IfPos(dFn, \n",
    "                 EntropyFlux_Burgers(u_minus) * n, \n",
    "                 EntropyFlux_Burgers(u_plus)  * n)\n",
    "\n",
    "def ViscosityCoefficient_Burgers(u, res):\n",
    "    R = IfPos(res, res, -res)\n",
    "    Eu = Entropy_Burgers(u)\n",
    "    E = IfPos(Eu - 1e-13, Eu, 1e-13)\n",
    "    entropy_viscosity = (h / p)**2 * IfPos(R - 1e-13, R/E, 0)\n",
    "    entropy_viscosmax = (h / p) * IfPos(u, u, -u)\n",
    "    return IfPos(entropy_viscosmax - entropy_viscosity, entropy_viscosity,\n",
    "                 entropy_viscosmax)"
   ]
  },
  {
   "cell_type": "code",
   "execution_count": null,
   "id": "ba4e283d-6c82-4ac5-b9b7-63942067ae44",
   "metadata": {},
   "outputs": [],
   "source": [
    "# INITIALIZE CONSERVATION LAW OBJECT\n",
    "\n",
    "p = 4\n",
    "V = ng.L2(mesh, order=p)\n",
    "u = ng.GridFunction(V)\n",
    "u0 = CF(exp(-50 * ((x - 0.3)**2  + (y - 0.3)**2)))\n",
    "\n",
    "burg = ConservationLaw(u, ts,\n",
    "                       flux=HyperbolicFlux_Burgers,\n",
    "                       numflux=NumericalFlux_Burgers,\n",
    "                       inversemap=InverseMap_Burgers,\n",
    "                       entropy=Entropy_Burgers,\n",
    "                       entropyflux=EntropyFlux_Burgers,\n",
    "                       numentropyflux=NumericalEntropyFlux_Burgers,\n",
    "                       visccoeff=ViscosityCoefficient_Burgers)\n",
    "\n",
    "burg.SetInitial(u0)\n",
    "burg.SetBoundaryCF(BoundaryFlux_Burgers(burg.u_minus))\n",
    "burg.SetTentSolver(substeps=10)"
   ]
  },
  {
   "cell_type": "code",
   "execution_count": null,
   "id": "0d2093fa-b326-41d8-af0e-4d44710a7d40",
   "metadata": {},
   "outputs": [],
   "source": [
    "ut = ng.GridFunction(V, multidim=0)\n",
    "ut.AddMultiDimComponent(burg.sol.vec)\n",
    "entropyresidual = ng.GridFunction(V, multidim=0)\n",
    "entropyresidual.AddMultiDimComponent(burg.res.vec)"
   ]
  },
  {
   "cell_type": "markdown",
   "id": "11d1059b-ac33-4875-9cce-d898441bdb85",
   "metadata": {},
   "source": [
    "At this point we have set up all the ingredients for solving the nonlinear Burger's equation using tents. Both the solution and the entropy residual are stored in a multidimensional grid function for visualization after the computations. "
   ]
  },
  {
   "cell_type": "code",
   "execution_count": null,
   "id": "98f84bbf-dfbd-4420-b0ce-fc2abf6da0ae",
   "metadata": {
    "scrolled": true
   },
   "outputs": [],
   "source": [
    "t = 0\n",
    "tend = 0.6\n",
    "scene = Draw(burg.sol)\n",
    "\n",
    "with ng.TaskManager():\n",
    "    while t < tend - dt / 2:\n",
    "        burg.Propagate()\n",
    "        t += dt  \n",
    "        \n",
    "        scene.Redraw()\n",
    "        ut.AddMultiDimComponent(burg.sol.vec)\n",
    "        entropyresidual.AddMultiDimComponent(burg.res.vec)"
   ]
  },
  {
   "cell_type": "code",
   "execution_count": null,
   "id": "fe1b486c-b106-47b6-98a1-7d702eb4cb11",
   "metadata": {},
   "outputs": [],
   "source": [
    "Draw(ut, mesh, autoscale=False, min=0, max=0.7, interpolate_multidim=True, animate=True, scale=0.2, deformation=True, euler_angles=[-35,-1, -93]);"
   ]
  },
  {
   "cell_type": "markdown",
   "id": "ab731b8d-ad0a-4ddb-af4f-d90f62919ca1",
   "metadata": {},
   "source": [
    "Here is an animation of the *computed entropy residual.* It is notably large in regions of sharp transitions. "
   ]
  },
  {
   "cell_type": "code",
   "execution_count": null,
   "id": "ffe4aa6e-c84a-4d40-ad35-6c47b23e156f",
   "metadata": {},
   "outputs": [],
   "source": [
    "Draw(entropyresidual, mesh, interpolate_multidim=True, animate=True,\n",
    "     autoscale=False, min=-1e-6, max=1e-6);"
   ]
  },
  {
   "cell_type": "markdown",
   "id": "529026f2-be36-48bc-96f4-57ecc7e4fa87",
   "metadata": {},
   "source": [
    "## Conclusion\n",
    "\n",
    "Here is a summary of what we have seen above:\n",
    "\n",
    "- Mapping spacetime tents to tensor product domains\n",
    "- Using DG spatial discretizations on the tensor product domain\n",
    "- 4 python input functions for spatial discretization of linear problems\n",
    "- 8 python input functions for solving nonlinear hyperbolic equations\n",
    "- Solving 2D Burger's equation with entropy viscosity regularization"
   ]
  }
 ],
 "metadata": {
  "kernelspec": {
   "display_name": "Python 3 (ipykernel)",
   "language": "python",
   "name": "python3"
  },
  "language_info": {
   "codemirror_mode": {
    "name": "ipython",
    "version": 3
   },
   "file_extension": ".py",
   "mimetype": "text/x-python",
   "name": "python",
   "nbconvert_exporter": "python",
   "pygments_lexer": "ipython3",
   "version": "3.11.6"
  }
 },
 "nbformat": 4,
 "nbformat_minor": 5
}
