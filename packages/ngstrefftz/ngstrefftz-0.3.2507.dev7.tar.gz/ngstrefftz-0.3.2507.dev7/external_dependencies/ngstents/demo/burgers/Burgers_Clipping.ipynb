{
 "cells": [
  {
   "cell_type": "markdown",
   "metadata": {},
   "source": [
    "# Clipping plane visualization of Burgers tent slab solution\n",
    "\n",
    "We show how to convert a tent slab based on a 2D mesh into a 3D mesh for which we can use the webgui's clipping feature."
   ]
  },
  {
   "cell_type": "code",
   "execution_count": 1,
   "metadata": {},
   "outputs": [],
   "source": [
    "from netgen.geom2d import unit_square\n",
    "from ngsolve import Mesh, CoefficientFunction, x, y, exp, L2, H1, GridFunction, TaskManager\n",
    "import ngsolve as ng\n",
    "from ngstents import TentSlab\n",
    "from ngstents.conslaw import Burgers\n",
    "from ngsolve.webgui import Draw\n",
    "from ngstents.utils import SlabConverter\n",
    "import tentswebgui"
   ]
  },
  {
   "cell_type": "code",
   "execution_count": 2,
   "metadata": {},
   "outputs": [],
   "source": [
    "def MakeTentSlab(mesh, dt):\n",
    "    heapsize = 10*1000*1000\n",
    "    c = 6\n",
    "    ts = TentSlab(mesh, heapsize=heapsize)\n",
    "    ts.SetMaxWavespeed(c)\n",
    "    ts.PitchTents(dt)\n",
    "    print(\"max slope\", ts.MaxSlope())\n",
    "    return ts"
   ]
  },
  {
   "cell_type": "markdown",
   "metadata": {},
   "source": [
    "### Create and visualize (if desired) the tent slab"
   ]
  },
  {
   "cell_type": "code",
   "execution_count": 3,
   "metadata": {
    "scrolled": false
   },
   "outputs": [
    {
     "name": "stdout",
     "output_type": "stream",
     "text": [
      "max slope 0.23812861119774045\n"
     ]
    }
   ],
   "source": [
    "maxh = 0.05\n",
    "mesh = Mesh(unit_square.GenerateMesh(maxh=maxh))\n",
    "dt = 0.05\n",
    "ts = MakeTentSlab(mesh, dt)\n",
    "# tentswebgui.Draw(ts)"
   ]
  },
  {
   "cell_type": "markdown",
   "metadata": {},
   "source": [
    "### Construct and setup the Burgers instance"
   ]
  },
  {
   "cell_type": "code",
   "execution_count": 4,
   "metadata": {},
   "outputs": [],
   "source": [
    "order = 4\n",
    "V = L2(mesh, order=order)\n",
    "u = GridFunction(V,\"u\")\n",
    "\n",
    "burg = Burgers(u, ts, outflow=mesh.Boundaries(\"left|bottom|right|top\"))\n",
    "burg.SetTentSolver(\"SARK\",substeps=order*order)\n",
    "\n",
    "cf = CoefficientFunction(exp(-50*((x-0.3)*(x-0.3)+(y-0.3)*(y-0.3))))\n",
    "burg.SetInitial(cf)\n"
   ]
  },
  {
   "cell_type": "markdown",
   "metadata": {},
   "source": [
    "### Convert the tent slab into a periodic 3D mesh and define a space and GridFunction on it"
   ]
  },
  {
   "cell_type": "code",
   "execution_count": 5,
   "metadata": {},
   "outputs": [
    {
     "name": "stdout",
     "output_type": "stream",
     "text": [
      "add vertices 0.06399\n",
      "add volume elements 0.17545\n",
      "add surface elements 0.20745\n",
      "Handle periodicity 0.00001\n",
      "make ngsolve mesh 0.02071\n",
      "make index map 0.34796977043151855\n",
      "3621 verts, 17092 vol elems, 3998 surf elems in 0.81623.\n"
     ]
    }
   ],
   "source": [
    "order_3d = 2 # must be 1 or 2\n",
    "sc = SlabConverter(ts, p_hd=order_3d)\n",
    "sc.Convert(tscale=5)\n",
    "\n",
    "# Define an H1 space on the 3D mesh and get its GridFunction.\n",
    "V3d = H1(sc.mesh, order=order_3d)\n",
    "u3d = GridFunction(V3d, \"u3d\")\n",
    "\n",
    "# Set the data structure which maps 2D dofs for a front to 3D dofs\n",
    "burg.SetIdx3d(sc.gfixmap)\n",
    "\n",
    "# Store vectors for time steps which we want to examine the solution using clipping\n",
    "# vecs = {1: u3d.vec.CreateVector(), 10: u3d.vec.CreateVector()}\n",
    "vecs = {1: u3d.vec.CreateVector(), 2: u3d.vec.CreateVector(),\n",
    "        3: u3d.vec.CreateVector(), 4: u3d.vec.CreateVector(),\n",
    "        5: u3d.vec.CreateVector(), 6: u3d.vec.CreateVector(),\n",
    "        7: u3d.vec.CreateVector(), 8: u3d.vec.CreateVector(),\n",
    "        9: u3d.vec.CreateVector(), 10: u3d.vec.CreateVector()}\n",
    "\n",
    "for v in vecs.values():\n",
    "    v[:] = 0"
   ]
  },
  {
   "cell_type": "markdown",
   "metadata": {},
   "source": [
    "### Run the Burgers simulation, saving vectors for timesteps of interest"
   ]
  },
  {
   "cell_type": "code",
   "execution_count": 6,
   "metadata": {},
   "outputs": [
    {
     "data": {
      "application/vnd.jupyter.widget-view+json": {
       "model_id": "b9f5a0828c0d42cdb2fb4ff201abce17",
       "version_major": 2,
       "version_minor": 0
      },
      "text/plain": [
       "WebGuiWidget(value={'ngsolve_version': '6.2.2103-39-gd1df1e2f3', 'mesh_dim': 2, 'order2d': 2, 'order3d': 2, 'd…"
      ]
     },
     "metadata": {},
     "output_type": "display_data"
    }
   ],
   "source": [
    "tend = 10*dt\n",
    "t = 0\n",
    "n = 1\n",
    "\n",
    "scene = Draw(u)\n",
    "with TaskManager():\n",
    "    while t < tend - dt/2:\n",
    "        if n in vecs:\n",
    "            # While propagating the solution, update the provided GridFunction vector.\n",
    "            u3d.vec.data = vecs[n]\n",
    "            burg.Propagate(hdgf=u3d)  # Propagate updates GridFunction u3d \n",
    "            vecs[n].data = u3d.vec    # Store updated solution vector for later viewing\n",
    "        else:\n",
    "            burg.Propagate()\n",
    "        t += dt\n",
    "        n += 1\n",
    "        scene.Redraw()"
   ]
  },
  {
   "cell_type": "markdown",
   "metadata": {},
   "source": [
    "## Now we can visualize the solution inside the slab by clipping the 3D mesh"
   ]
  },
  {
   "cell_type": "code",
   "execution_count": 7,
   "metadata": {
    "scrolled": false
   },
   "outputs": [
    {
     "data": {
      "application/vnd.jupyter.widget-view+json": {
       "model_id": "02bd9af5d1874212bbaf8279c8f85295",
       "version_major": 2,
       "version_minor": 0
      },
      "text/plain": [
       "WebGuiWidget(value={'ngsolve_version': '6.2.2103-39-gd1df1e2f3', 'mesh_dim': 3, 'order2d': 2, 'order3d': 2, 'd…"
      ]
     },
     "metadata": {},
     "output_type": "display_data"
    },
    {
     "data": {
      "text/plain": [
       "BaseWebGuiScene"
      ]
     },
     "execution_count": 7,
     "metadata": {},
     "output_type": "execute_result"
    }
   ],
   "source": [
    "u3d.vec.data = vecs[10]\n",
    "clip = {'vec': [0, 0, -1], 'dist': 0.01} \n",
    "Draw(u3d, clipping=clip)"
   ]
  }
 ],
 "metadata": {
  "kernelspec": {
   "display_name": "Python 3",
   "language": "python",
   "name": "python3"
  },
  "language_info": {
   "codemirror_mode": {
    "name": "ipython",
    "version": 3
   },
   "file_extension": ".py",
   "mimetype": "text/x-python",
   "name": "python",
   "nbconvert_exporter": "python",
   "pygments_lexer": "ipython3",
   "version": "3.8.5"
  }
 },
 "nbformat": 4,
 "nbformat_minor": 4
}
