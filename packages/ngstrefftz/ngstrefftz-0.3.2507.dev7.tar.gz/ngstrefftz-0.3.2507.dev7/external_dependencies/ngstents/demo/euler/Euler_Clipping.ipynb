{
 "cells": [
  {
   "cell_type": "markdown",
   "metadata": {},
   "source": [
    "# Clipping plane visualization of Euler tent slab solution\n",
    "\n",
    "We show how to convert a tent slab based on a 2D mesh into a 3D mesh with which we can use the webgui's clipping feature."
   ]
  },
  {
   "cell_type": "code",
   "execution_count": 1,
   "metadata": {},
   "outputs": [],
   "source": [
    "from netgen.geom2d import unit_square\n",
    "from ngsolve import Mesh, CoefficientFunction, sqrt, x, y, exp, L2, H1, GridFunction, TaskManager\n",
    "import ngsolve as ng\n",
    "from ngstents import TentSlab\n",
    "from ngstents.conslaw import Euler\n",
    "from ngstents.utils import SlabConverter\n",
    "from ngsolve.webgui import Draw\n",
    "import tentswebgui"
   ]
  },
  {
   "cell_type": "code",
   "execution_count": 2,
   "metadata": {},
   "outputs": [],
   "source": [
    "def MakeTentSlab(mesh, dt):\n",
    "    heapsize = 10*1000*1000\n",
    "    # using causality constant\n",
    "    local_ctau = True\n",
    "    global_ctau = 2/3\n",
    "    wavespeed = 6\n",
    "    ts = TentSlab(mesh, method=\"edge\", heapsize=heapsize)\n",
    "    ts.SetMaxWavespeed(wavespeed)\n",
    "    ts.PitchTents(dt=dt, local_ct=local_ctau, global_ct=global_ctau)\n",
    "    print(\"max slope\", ts.MaxSlope())\n",
    "    print(\"n tents\", ts.GetNTents())\n",
    "    return ts\n"
   ]
  },
  {
   "cell_type": "markdown",
   "metadata": {},
   "source": [
    "### Create and visualize (if desired) the tent slab"
   ]
  },
  {
   "cell_type": "code",
   "execution_count": 3,
   "metadata": {},
   "outputs": [
    {
     "name": "stdout",
     "output_type": "stream",
     "text": [
      "max slope 0.11111111111111134\n",
      "n tents 5520\n"
     ]
    }
   ],
   "source": [
    "maxh = 0.05\n",
    "mesh = Mesh(unit_square.GenerateMesh(maxh=maxh))\n",
    "dt = 0.05\n",
    "ts = MakeTentSlab(mesh, dt)\n",
    "# tentswebgui.Draw(ts)"
   ]
  },
  {
   "cell_type": "markdown",
   "metadata": {},
   "source": [
    "### Construct and setup the Euler instance"
   ]
  },
  {
   "cell_type": "code",
   "execution_count": 4,
   "metadata": {
    "scrolled": false
   },
   "outputs": [],
   "source": [
    "order = 4\n",
    "V = L2(mesh, order=order, dim=mesh.dim+2)\n",
    "u = GridFunction(V,\"u\")\n",
    "cl = Euler(u, ts, reflect=mesh.Boundaries(\"left|bottom|right|top\"))\n",
    "cl.SetTentSolver(\"SARK\",substeps=2*order)\n",
    "\n",
    "d = 5\n",
    "rho = CoefficientFunction(0.1+exp(-200*((x-0.5)*(x-0.5)+(y-0.5)*(y-0.5))))\n",
    "m = CoefficientFunction((0,0))\n",
    "p = CoefficientFunction(0.1+exp(-200*((x-0.5)*(x-0.5)+(y-0.5)*(y-0.5))))\n",
    "T = 2*p/rho\n",
    "E = d/4*T*rho + 1/(2*rho)*m*m\n",
    "\n",
    "cf = CoefficientFunction((rho,m,E))\n",
    "cl.SetInitial(cf)"
   ]
  },
  {
   "cell_type": "markdown",
   "metadata": {},
   "source": [
    "### Convert the tent slab into a periodic 3D mesh and define a space and GridFunction on it"
   ]
  },
  {
   "cell_type": "code",
   "execution_count": 5,
   "metadata": {},
   "outputs": [
    {
     "name": "stdout",
     "output_type": "stream",
     "text": [
      "add vertices 0.08377\n",
      "add volume elements 0.33313\n",
      "add surface elements 0.29639\n",
      "Handle periodicity 0.00001\n",
      "make ngsolve mesh 0.03782\n",
      "make index map 0.6596190929412842\n",
      "6031 verts, 30369 vol elems, 4788 surf elems in 1.41129.\n"
     ]
    }
   ],
   "source": [
    "order_3d = 2 # must be 1 or 2\n",
    "sc = SlabConverter(ts, p_hd=order_3d)\n",
    "sc.Convert(tscale=5)\n",
    "mesh3d = sc.mesh\n",
    "gfixmap = sc.gfixmap\n",
    "\n",
    "# Define an H1 space on the 3D mesh and get its GridFunction.\n",
    "V3d = H1(sc.mesh, order=order_3d, dim=mesh.dim+2)\n",
    "u3d = GridFunction(V3d, \"u3d\")\n",
    "\n",
    "# Set the data structure which maps 2D dofs for a front to 3D dofs\n",
    "cl.SetIdx3d(gfixmap)\n",
    "\n",
    "# Store vectors for time steps which we want to examine the solution using clipping\n",
    "# vecs = {1: u3d.vec.CreateVector(), 10: u3d.vec.CreateVector()}\n",
    "vecs = {1: u3d.vec.CreateVector(), 2: u3d.vec.CreateVector(),\n",
    "        3: u3d.vec.CreateVector(), 4: u3d.vec.CreateVector(),\n",
    "        5: u3d.vec.CreateVector(), 6: u3d.vec.CreateVector(),\n",
    "        7: u3d.vec.CreateVector(), 8: u3d.vec.CreateVector(),\n",
    "        9: u3d.vec.CreateVector(), 10: u3d.vec.CreateVector()}\n",
    "\n",
    "# Initialize\n",
    "for v in vecs.values():\n",
    "    v[:] = 0"
   ]
  },
  {
   "cell_type": "markdown",
   "metadata": {},
   "source": [
    "### Run the Euler simulation, saving selected vectors"
   ]
  },
  {
   "cell_type": "code",
   "execution_count": 6,
   "metadata": {},
   "outputs": [
    {
     "data": {
      "application/vnd.jupyter.widget-view+json": {
       "model_id": "a6630d869e3d464cae4a6d1a8dd7dc5c",
       "version_major": 2,
       "version_minor": 0
      },
      "text/plain": [
       "WebGuiWidget(value={'ngsolve_version': '6.2.2103-39-gd1df1e2f3', 'mesh_dim': 2, 'order2d': 2, 'order3d': 2, 'd…"
      ]
     },
     "metadata": {},
     "output_type": "display_data"
    }
   ],
   "source": [
    "tend = 10*dt\n",
    "t = 0\n",
    "n = 1\n",
    "scene = Draw(u)\n",
    "\n",
    "with TaskManager():\n",
    "    while t < tend - dt/2:\n",
    "        if n in vecs:\n",
    "            # While propagating the solution, update the provided GridFunction vector.\n",
    "            u3d.vec.data = vecs[n]\n",
    "            cl.Propagate(hdgf=u3d)    # Propagate updates GridFunction u3d \n",
    "            vecs[n].data = u3d.vec    # Store updated solution vector\n",
    "        else:\n",
    "            cl.Propagate()\n",
    "        t += dt\n",
    "        n += 1\n",
    "        scene.Redraw()"
   ]
  },
  {
   "cell_type": "markdown",
   "metadata": {},
   "source": [
    "## Now we can visualize the solution inside the slab by clipping the 3D mesh"
   ]
  },
  {
   "cell_type": "code",
   "execution_count": 7,
   "metadata": {
    "scrolled": false
   },
   "outputs": [
    {
     "data": {
      "application/vnd.jupyter.widget-view+json": {
       "model_id": "b99ff7fb7c494b67bccd37d97ee605a0",
       "version_major": 2,
       "version_minor": 0
      },
      "text/plain": [
       "WebGuiWidget(value={'ngsolve_version': '6.2.2103-39-gd1df1e2f3', 'mesh_dim': 3, 'order2d': 2, 'order3d': 2, 'd…"
      ]
     },
     "metadata": {},
     "output_type": "display_data"
    },
    {
     "data": {
      "text/plain": [
       "BaseWebGuiScene"
      ]
     },
     "execution_count": 7,
     "metadata": {},
     "output_type": "execute_result"
    }
   ],
   "source": [
    "u3d.vec.data = vecs[6]\n",
    "clip = {'vec': [0, 0, -1], 'dist': 0.01}\n",
    "vectors = {'grid_size': 20, 'offset': -.5}\n",
    "# Draw(u3d, clipping=clip)\n",
    "# Draw(u3d[1], sc.mesh, clipping=clip)\n",
    "Draw(u3d, sc.mesh, clipping=clip, vectors=vectors)\n"
   ]
  }
 ],
 "metadata": {
  "kernelspec": {
   "display_name": "Python 3",
   "language": "python",
   "name": "python3"
  },
  "language_info": {
   "codemirror_mode": {
    "name": "ipython",
    "version": 3
   },
   "file_extension": ".py",
   "mimetype": "text/x-python",
   "name": "python",
   "nbconvert_exporter": "python",
   "pygments_lexer": "ipython3",
   "version": "3.8.5"
  }
 },
 "nbformat": 4,
 "nbformat_minor": 4
}
