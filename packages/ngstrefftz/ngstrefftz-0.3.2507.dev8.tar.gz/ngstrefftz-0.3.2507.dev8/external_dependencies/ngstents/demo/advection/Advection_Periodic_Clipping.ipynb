{
 "cells": [
  {
   "cell_type": "markdown",
   "metadata": {},
   "source": [
    "# Clipping plane visualization of advection solution on periodic tent slab\n",
    "\n",
    "We show how to convert a tent slab based on a periodic 2D mesh into a 3D mesh for which we can use the webgui's clipping feature."
   ]
  },
  {
   "cell_type": "code",
   "execution_count": 1,
   "metadata": {},
   "outputs": [],
   "source": [
    "from netgen.geom2d import unit_square\n",
    "from ngsolve import Mesh, CoefficientFunction, x, y, exp, L2, H1, GridFunction, TaskManager, Periodic\n",
    "import ngsolve as ng\n",
    "from ngsolve.webgui import Draw\n",
    "from ngstents import TentSlab\n",
    "from ngstents.conslaw import Advection\n",
    "from ngstents.utils import SlabConverter\n",
    "import tentswebgui"
   ]
  },
  {
   "cell_type": "code",
   "execution_count": 2,
   "metadata": {},
   "outputs": [],
   "source": [
    "def Make2DPeriodicMesh(xint, yint, maxh=.2):\n",
    "    \"\"\"\n",
    "    Generate a recangular mesh which has periodic left-right and top-bottom boundaries (a torus)\n",
    "    Inputs:\n",
    "    xint: tuple defining an interval of the x-axis\n",
    "    yint: tuple defining as interval of the x-axis\n",
    "    maxh: max diameter for mesh\n",
    "    \"\"\"\n",
    "    from netgen.geom2d import SplineGeometry\n",
    "    geo = SplineGeometry()\n",
    "    pnts = [(xint[0],yint[0]),(xint[1],yint[0]),(xint[1],yint[1]),(xint[0],yint[1])]\n",
    "    pnums = [geo.AppendPoint(*p) for p in pnts]\n",
    "    lbot = geo.Append ( [\"line\", pnums[0], pnums[1]], bc=\"bottom\")\n",
    "    lright = geo.Append ( [\"line\", pnums[1], pnums[2]], bc=\"right\")\n",
    "    geo.Append ( [\"line\", pnums[0], pnums[3]], leftdomain=0, rightdomain=1, bc=\"left\", copy=lright)\n",
    "    geo.Append ( [\"line\", pnums[3], pnums[2]], leftdomain=0, rightdomain=1, bc=\"top\", copy=lbot)\n",
    "    return geo.GenerateMesh(maxh=maxh)"
   ]
  },
  {
   "cell_type": "code",
   "execution_count": 3,
   "metadata": {},
   "outputs": [],
   "source": [
    "def MakeTentSlab(mesh, dt):\n",
    "    heapsize = 10*1000*1000\n",
    "    wavespeed = 2\n",
    "    # using causality constant\n",
    "    local_ctau = True\n",
    "    global_ctau = 1\n",
    "    ts = TentSlab(mesh, method=\"edge\", heapsize=heapsize)\n",
    "    ts.SetMaxWavespeed(wavespeed)\n",
    "    ts.PitchTents(dt=dt, local_ct=local_ctau, global_ct=global_ctau)\n",
    "    print(\"max slope\", ts.MaxSlope())\n",
    "    print(\"n tents\", ts.GetNTents())\n",
    "    return ts"
   ]
  },
  {
   "cell_type": "markdown",
   "metadata": {},
   "source": [
    "### Create and visualize the periodic tent slab"
   ]
  },
  {
   "cell_type": "code",
   "execution_count": 4,
   "metadata": {},
   "outputs": [
    {
     "name": "stdout",
     "output_type": "stream",
     "text": [
      "max slope 0.5000000000000002\n",
      "n tents 672\n"
     ]
    },
    {
     "data": {
      "application/vnd.jupyter.widget-view+json": {
       "model_id": "dbe9f0b293a845af8655bd0e7cc585ef",
       "version_major": 2,
       "version_minor": 0
      },
      "text/plain": [
       "NGSTentsWebGuiWidget(value={'ntents': 672, 'nlayers': 27, 'ngsolve_version': '6.2.2103-39-gd1df1e2f3', 'tent_e…"
      ]
     },
     "metadata": {},
     "output_type": "display_data"
    },
    {
     "data": {
      "text/plain": []
     },
     "execution_count": 4,
     "metadata": {},
     "output_type": "execute_result"
    }
   ],
   "source": [
    "maxh = 0.1\n",
    "dt = 0.2\n",
    "mesh = Mesh(Make2DPeriodicMesh([0,1], [0,1], maxh=maxh))\n",
    "ts = MakeTentSlab(mesh, dt)\n",
    "tentswebgui.Draw(ts) # select \"display by tents\" to see periodic tents"
   ]
  },
  {
   "cell_type": "markdown",
   "metadata": {},
   "source": [
    "### Construct and setup the Advection instance"
   ]
  },
  {
   "cell_type": "code",
   "execution_count": 5,
   "metadata": {
    "scrolled": false
   },
   "outputs": [],
   "source": [
    "order = 4\n",
    "dt = 0.2\n",
    "tend = 10*dt\n",
    "\n",
    "V = L2(mesh, order=order)\n",
    "u = GridFunction(V)\n",
    "cl = Advection(u, ts)\n",
    "flux = (1,0.25)\n",
    "cl.SetVectorField( CoefficientFunction(flux) )\n",
    "cl.SetTentSolver(\"SAT\",stages=order+1, substeps=2*order)\n",
    "\n",
    "pos = (0.5,0.5)\n",
    "u0 = CoefficientFunction( exp(-100* ((x-pos[0])*(x-pos[0])+(y-pos[1])*(y-pos[1])) ))\n",
    "cl.SetInitial(u0)"
   ]
  },
  {
   "cell_type": "markdown",
   "metadata": {},
   "source": [
    "### Convert the tent slab into a periodic 3D mesh and define a space and GridFunction on it"
   ]
  },
  {
   "cell_type": "code",
   "execution_count": 6,
   "metadata": {
    "scrolled": true
   },
   "outputs": [
    {
     "name": "stdout",
     "output_type": "stream",
     "text": [
      "add vertices 0.01906\n",
      "add volume elements 0.04830\n",
      "add surface elements 0.06014\n",
      "Handle periodicity 0.00026\n",
      "make ngsolve mesh 0.00681\n",
      "make index map 0.08280277252197266\n",
      "932 verts, 4022 vol elems, 1576 surf elems in 0.21772.\n"
     ]
    }
   ],
   "source": [
    "# order_3d must be 1 or 2\n",
    "order_3d = 2\n",
    "sc = SlabConverter(ts, p_hd=order_3d)\n",
    "sc.Convert(tscale=5)\n",
    "\n",
    "# Define an H1 space on the 3D mesh and get its GridFunction.\n",
    "V3d = Periodic(H1(sc.mesh, order=order_3d))\n",
    "u3d = GridFunction(V3d, \"u3d\")\n",
    "\n",
    "# Pass the index map generated by SlabConverter to the advection conservation law\n",
    "cl.SetIdx3d(sc.gfixmap)\n",
    "\n",
    "# Store vectors for time steps which we want to examine the solution using clipping\n",
    "# vecs = {1: u3d.vec.CreateVector(), 10: u3d.vec.CreateVector()}\n",
    "vecs = {1: u3d.vec.CreateVector(), 2: u3d.vec.CreateVector(),\n",
    "        3: u3d.vec.CreateVector(), 4: u3d.vec.CreateVector(),\n",
    "        5: u3d.vec.CreateVector(), 6: u3d.vec.CreateVector(),\n",
    "        7: u3d.vec.CreateVector(), 8: u3d.vec.CreateVector(),\n",
    "        9: u3d.vec.CreateVector(), 10: u3d.vec.CreateVector()}\n",
    "\n",
    "for v in vecs.values():\n",
    "    v[:] = 0"
   ]
  },
  {
   "cell_type": "markdown",
   "metadata": {},
   "source": [
    "### Run the advection simulation, saving selected vectors"
   ]
  },
  {
   "cell_type": "code",
   "execution_count": 7,
   "metadata": {},
   "outputs": [
    {
     "data": {
      "application/vnd.jupyter.widget-view+json": {
       "model_id": "355a44454df34c3fbee2aa4bf5ddea36",
       "version_major": 2,
       "version_minor": 0
      },
      "text/plain": [
       "WebGuiWidget(value={'ngsolve_version': '6.2.2103-39-gd1df1e2f3', 'mesh_dim': 2, 'order2d': 2, 'order3d': 2, 'd…"
      ]
     },
     "metadata": {},
     "output_type": "display_data"
    }
   ],
   "source": [
    "scene = Draw(u)\n",
    "t = 0\n",
    "n = 1\n",
    "with TaskManager():\n",
    "    while t < tend-dt/2:\n",
    "        if n in vecs:\n",
    "            # While propagating the solution, update the provided GridFunction vector.\n",
    "            u3d.vec.data = vecs[n]\n",
    "            cl.Propagate(hdgf=u3d)    # Propagate updates GridFunction u3d \n",
    "            vecs[n].data = u3d.vec    # Store updated solution vector\n",
    "        else:\n",
    "            cl.Propagate()\n",
    "        t += dt\n",
    "        n += 1\n",
    "        scene.Redraw()"
   ]
  },
  {
   "cell_type": "markdown",
   "metadata": {},
   "source": [
    "## Now we can visualize the solution inside the slab by clipping the 3D mesh"
   ]
  },
  {
   "cell_type": "code",
   "execution_count": 8,
   "metadata": {
    "scrolled": false
   },
   "outputs": [
    {
     "data": {
      "application/vnd.jupyter.widget-view+json": {
       "model_id": "928c00e62bb542d58afc0cd83ac3c0af",
       "version_major": 2,
       "version_minor": 0
      },
      "text/plain": [
       "WebGuiWidget(value={'ngsolve_version': '6.2.2103-39-gd1df1e2f3', 'mesh_dim': 3, 'order2d': 2, 'order3d': 2, 'd…"
      ]
     },
     "metadata": {},
     "output_type": "display_data"
    },
    {
     "data": {
      "text/plain": [
       "BaseWebGuiScene"
      ]
     },
     "execution_count": 8,
     "metadata": {},
     "output_type": "execute_result"
    }
   ],
   "source": [
    "u3d.vec.data = vecs[8]\n",
    "clip = {'vec': [0, 0, -1], 'dist': 0.01} \n",
    "Draw(u3d, clipping=clip, min=0, max=1)"
   ]
  },
  {
   "cell_type": "markdown",
   "metadata": {},
   "source": [
    "### Verify that the periodic 3D mesh is correct\n",
    "We can save the 3D mesh and check it in Netgen to verify that its boundary regions are correctly defined.  We can also solve a Poisson problem on it to see the periodicity of its boundary"
   ]
  },
  {
   "cell_type": "code",
   "execution_count": 10,
   "metadata": {},
   "outputs": [
    {
     "data": {
      "application/vnd.jupyter.widget-view+json": {
       "model_id": "36bf795ada5344c5b7d72c38d312c3e7",
       "version_major": 2,
       "version_minor": 0
      },
      "text/plain": [
       "WebGuiWidget(value={'ngsolve_version': '6.2.2103-39-gd1df1e2f3', 'mesh_dim': 3, 'order2d': 2, 'order3d': 2, 'd…"
      ]
     },
     "metadata": {},
     "output_type": "display_data"
    },
    {
     "data": {
      "text/plain": [
       "BaseWebGuiScene"
      ]
     },
     "execution_count": 10,
     "metadata": {},
     "output_type": "execute_result"
    }
   ],
   "source": [
    "V = ng.Periodic(H1(sc.mesh, order=3, dirichlet='final'))\n",
    "u, v = V.TnT()\n",
    "gfu = GridFunction(V)\n",
    "a = ng.BilinearForm(V)\n",
    "f = ng.LinearForm(V)\n",
    "a += ng.grad(u)*ng.grad(v)*ng.dx\n",
    "f += (x+y)*v*ng.dx\n",
    "a.Assemble()\n",
    "f.Assemble()\n",
    "gfu.vec.data = a.mat.Inverse(freedofs=V.FreeDofs())*f.vec\n",
    "clip = {'vec': [0, 0, -1], 'dist': 0.01} \n",
    "Draw(gfu, clipping=clip)"
   ]
  },
  {
   "cell_type": "code",
   "execution_count": 11,
   "metadata": {},
   "outputs": [
    {
     "data": {
      "text/plain": [
       "('bottom', 'right', 'left', 'top', 'base', 'final')"
      ]
     },
     "execution_count": 11,
     "metadata": {},
     "output_type": "execute_result"
    }
   ],
   "source": [
    "sc.mesh.GetBoundaries()"
   ]
  }
 ],
 "metadata": {
  "kernelspec": {
   "display_name": "Python 3",
   "language": "python",
   "name": "python3"
  },
  "language_info": {
   "codemirror_mode": {
    "name": "ipython",
    "version": 3
   },
   "file_extension": ".py",
   "mimetype": "text/x-python",
   "name": "python",
   "nbconvert_exporter": "python",
   "pygments_lexer": "ipython3",
   "version": "3.8.5"
  }
 },
 "nbformat": 4,
 "nbformat_minor": 4
}
