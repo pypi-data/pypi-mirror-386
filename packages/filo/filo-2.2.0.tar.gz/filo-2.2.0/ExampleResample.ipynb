{
 "cells": [
  {
   "cell_type": "code",
   "execution_count": 1,
   "id": "361e577b-598d-4063-8065-532720882aca",
   "metadata": {},
   "outputs": [],
   "source": [
    "import pandas as pd\n",
    "import numpy as np\n",
    "from pathlib import Path\n",
    "import matplotlib.pyplot as plt\n",
    "from filo import create_bins_centered_on, resample_dataframe\n",
    "%matplotlib inline"
   ]
  },
  {
   "cell_type": "code",
   "execution_count": 2,
   "id": "48cc85f2",
   "metadata": {},
   "outputs": [
    {
     "data": {
      "text/plain": [
       "True"
      ]
     },
     "execution_count": 2,
     "metadata": {},
     "output_type": "execute_result"
    }
   ],
   "source": [
    "data_folder = Path('data/isotherm/')\n",
    "pressure_file = data_folder / 'ValvePID_Pressure_resampled.tsv'\n",
    "analysis_file = data_folder / 'Spectro_WLI.tsv'\n",
    "pressure_file.exists()"
   ]
  },
  {
   "cell_type": "code",
   "execution_count": 3,
   "id": "ae45141b-427b-4435-a78a-6ac13bca5282",
   "metadata": {},
   "outputs": [
    {
     "data": {
      "text/html": [
       "<div>\n",
       "<style scoped>\n",
       "    .dataframe tbody tr th:only-of-type {\n",
       "        vertical-align: middle;\n",
       "    }\n",
       "\n",
       "    .dataframe tbody tr th {\n",
       "        vertical-align: top;\n",
       "    }\n",
       "\n",
       "    .dataframe thead th {\n",
       "        text-align: right;\n",
       "    }\n",
       "</style>\n",
       "<table border=\"1\" class=\"dataframe\">\n",
       "  <thead>\n",
       "    <tr style=\"text-align: right;\">\n",
       "      <th></th>\n",
       "      <th>num</th>\n",
       "      <th>folder</th>\n",
       "      <th>filename</th>\n",
       "      <th>opl</th>\n",
       "      <th>contrast</th>\n",
       "    </tr>\n",
       "    <tr>\n",
       "      <th>time (unix)</th>\n",
       "      <th></th>\n",
       "      <th></th>\n",
       "      <th></th>\n",
       "      <th></th>\n",
       "      <th></th>\n",
       "    </tr>\n",
       "  </thead>\n",
       "  <tbody>\n",
       "    <tr>\n",
       "      <th>1.659009e+09</th>\n",
       "      <td>22</td>\n",
       "      <td>WLI_Spectra</td>\n",
       "      <td>2106297U1_0007.Raw8.txt</td>\n",
       "      <td>13.929712</td>\n",
       "      <td>42.667708</td>\n",
       "    </tr>\n",
       "    <tr>\n",
       "      <th>1.659009e+09</th>\n",
       "      <td>24</td>\n",
       "      <td>WLI_Spectra</td>\n",
       "      <td>2106297U1_0008.Raw8.txt</td>\n",
       "      <td>13.928008</td>\n",
       "      <td>42.686275</td>\n",
       "    </tr>\n",
       "    <tr>\n",
       "      <th>1.659009e+09</th>\n",
       "      <td>26</td>\n",
       "      <td>WLI_Spectra</td>\n",
       "      <td>2106297U1_0009.Raw8.txt</td>\n",
       "      <td>13.929712</td>\n",
       "      <td>42.700220</td>\n",
       "    </tr>\n",
       "    <tr>\n",
       "      <th>1.659009e+09</th>\n",
       "      <td>28</td>\n",
       "      <td>WLI_Spectra</td>\n",
       "      <td>2106297U1_0010.Raw8.txt</td>\n",
       "      <td>13.928008</td>\n",
       "      <td>42.693740</td>\n",
       "    </tr>\n",
       "    <tr>\n",
       "      <th>1.659009e+09</th>\n",
       "      <td>30</td>\n",
       "      <td>WLI_Spectra</td>\n",
       "      <td>2106297U1_0011.Raw8.txt</td>\n",
       "      <td>13.928008</td>\n",
       "      <td>42.736708</td>\n",
       "    </tr>\n",
       "  </tbody>\n",
       "</table>\n",
       "</div>"
      ],
      "text/plain": [
       "              num       folder                 filename        opl   contrast\n",
       "time (unix)                                                                  \n",
       "1.659009e+09   22  WLI_Spectra  2106297U1_0007.Raw8.txt  13.929712  42.667708\n",
       "1.659009e+09   24  WLI_Spectra  2106297U1_0008.Raw8.txt  13.928008  42.686275\n",
       "1.659009e+09   26  WLI_Spectra  2106297U1_0009.Raw8.txt  13.929712  42.700220\n",
       "1.659009e+09   28  WLI_Spectra  2106297U1_0010.Raw8.txt  13.928008  42.693740\n",
       "1.659009e+09   30  WLI_Spectra  2106297U1_0011.Raw8.txt  13.928008  42.736708"
      ]
     },
     "execution_count": 3,
     "metadata": {},
     "output_type": "execute_result"
    }
   ],
   "source": [
    "pressure_data = pd.read_csv(pressure_file, sep='\\t').set_index('time (unix)')\n",
    "analysis_data = pd.read_csv(analysis_file, sep='\\t').set_index('time (unix)')\n",
    "analysis_data.tail()"
   ]
  },
  {
   "cell_type": "code",
   "execution_count": 4,
   "id": "eae7a49b",
   "metadata": {},
   "outputs": [
    {
     "data": {
      "text/plain": [
       "[(1659007967.5, 1659008032.5),\n",
       " (1659008037.5, 1659008092.5),\n",
       " (1659008092.5, 1659008147.5),\n",
       " (1659008150.0, 1659008210.0),\n",
       " (1659008210.0, 1659008270.0),\n",
       " (1659008272.5, 1659008337.5),\n",
       " (1659008567.5, 1659008632.5),\n",
       " (1659008635.0, 1659008695.0),\n",
       " (1659008695.0, 1659008755.0),\n",
       " (1659008757.5, 1659008812.5),\n",
       " (1659008812.5, 1659008867.5)]"
      ]
     },
     "execution_count": 4,
     "metadata": {},
     "output_type": "execute_result"
    }
   ],
   "source": [
    "create_bins_centered_on(analysis_data.index)"
   ]
  },
  {
   "cell_type": "code",
   "execution_count": 10,
   "id": "f482aa05",
   "metadata": {},
   "outputs": [
    {
     "data": {
      "text/html": [
       "<div>\n",
       "<style scoped>\n",
       "    .dataframe tbody tr th:only-of-type {\n",
       "        vertical-align: middle;\n",
       "    }\n",
       "\n",
       "    .dataframe tbody tr th {\n",
       "        vertical-align: top;\n",
       "    }\n",
       "\n",
       "    .dataframe thead tr th {\n",
       "        text-align: left;\n",
       "    }\n",
       "\n",
       "    .dataframe thead tr:last-of-type th {\n",
       "        text-align: right;\n",
       "    }\n",
       "</style>\n",
       "<table border=\"1\" class=\"dataframe\">\n",
       "  <thead>\n",
       "    <tr>\n",
       "      <th></th>\n",
       "      <th colspan=\"2\" halign=\"left\">setpt (Pa)</th>\n",
       "      <th colspan=\"2\" halign=\"left\">p (Pa)</th>\n",
       "      <th colspan=\"2\" halign=\"left\">valve</th>\n",
       "    </tr>\n",
       "    <tr>\n",
       "      <th></th>\n",
       "      <th>mean</th>\n",
       "      <th>std</th>\n",
       "      <th>mean</th>\n",
       "      <th>std</th>\n",
       "      <th>mean</th>\n",
       "      <th>std</th>\n",
       "    </tr>\n",
       "    <tr>\n",
       "      <th>time (unix)</th>\n",
       "      <th></th>\n",
       "      <th></th>\n",
       "      <th></th>\n",
       "      <th></th>\n",
       "      <th></th>\n",
       "      <th></th>\n",
       "    </tr>\n",
       "  </thead>\n",
       "  <tbody>\n",
       "    <tr>\n",
       "      <th>1.659008e+09</th>\n",
       "      <td>NaN</td>\n",
       "      <td>NaN</td>\n",
       "      <td>NaN</td>\n",
       "      <td>NaN</td>\n",
       "      <td>NaN</td>\n",
       "      <td>NaN</td>\n",
       "    </tr>\n",
       "    <tr>\n",
       "      <th>1.659008e+09</th>\n",
       "      <td>350.00</td>\n",
       "      <td>NaN</td>\n",
       "      <td>350.19</td>\n",
       "      <td>NaN</td>\n",
       "      <td>3458.0</td>\n",
       "      <td>NaN</td>\n",
       "    </tr>\n",
       "    <tr>\n",
       "      <th>1.659008e+09</th>\n",
       "      <td>NaN</td>\n",
       "      <td>NaN</td>\n",
       "      <td>NaN</td>\n",
       "      <td>NaN</td>\n",
       "      <td>NaN</td>\n",
       "      <td>NaN</td>\n",
       "    </tr>\n",
       "    <tr>\n",
       "      <th>1.659008e+09</th>\n",
       "      <td>NaN</td>\n",
       "      <td>NaN</td>\n",
       "      <td>NaN</td>\n",
       "      <td>NaN</td>\n",
       "      <td>NaN</td>\n",
       "      <td>NaN</td>\n",
       "    </tr>\n",
       "    <tr>\n",
       "      <th>1.659008e+09</th>\n",
       "      <td>NaN</td>\n",
       "      <td>NaN</td>\n",
       "      <td>NaN</td>\n",
       "      <td>NaN</td>\n",
       "      <td>NaN</td>\n",
       "      <td>NaN</td>\n",
       "    </tr>\n",
       "    <tr>\n",
       "      <th>1.659008e+09</th>\n",
       "      <td>1046.67</td>\n",
       "      <td>NaN</td>\n",
       "      <td>1007.29</td>\n",
       "      <td>NaN</td>\n",
       "      <td>3763.0</td>\n",
       "      <td>NaN</td>\n",
       "    </tr>\n",
       "    <tr>\n",
       "      <th>1.659009e+09</th>\n",
       "      <td>NaN</td>\n",
       "      <td>NaN</td>\n",
       "      <td>NaN</td>\n",
       "      <td>NaN</td>\n",
       "      <td>NaN</td>\n",
       "      <td>NaN</td>\n",
       "    </tr>\n",
       "    <tr>\n",
       "      <th>1.659009e+09</th>\n",
       "      <td>2240.70</td>\n",
       "      <td>NaN</td>\n",
       "      <td>2106.50</td>\n",
       "      <td>NaN</td>\n",
       "      <td>4642.0</td>\n",
       "      <td>NaN</td>\n",
       "    </tr>\n",
       "    <tr>\n",
       "      <th>1.659009e+09</th>\n",
       "      <td>2251.70</td>\n",
       "      <td>NaN</td>\n",
       "      <td>2184.20</td>\n",
       "      <td>NaN</td>\n",
       "      <td>4830.0</td>\n",
       "      <td>NaN</td>\n",
       "    </tr>\n",
       "    <tr>\n",
       "      <th>1.659009e+09</th>\n",
       "      <td>2251.70</td>\n",
       "      <td>NaN</td>\n",
       "      <td>2212.66</td>\n",
       "      <td>NaN</td>\n",
       "      <td>4932.0</td>\n",
       "      <td>NaN</td>\n",
       "    </tr>\n",
       "    <tr>\n",
       "      <th>1.659009e+09</th>\n",
       "      <td>NaN</td>\n",
       "      <td>NaN</td>\n",
       "      <td>NaN</td>\n",
       "      <td>NaN</td>\n",
       "      <td>NaN</td>\n",
       "      <td>NaN</td>\n",
       "    </tr>\n",
       "  </tbody>\n",
       "</table>\n",
       "</div>"
      ],
      "text/plain": [
       "             setpt (Pa)       p (Pa)       valve    \n",
       "                   mean std     mean std    mean std\n",
       "time (unix)                                         \n",
       "1.659008e+09        NaN NaN      NaN NaN     NaN NaN\n",
       "1.659008e+09     350.00 NaN   350.19 NaN  3458.0 NaN\n",
       "1.659008e+09        NaN NaN      NaN NaN     NaN NaN\n",
       "1.659008e+09        NaN NaN      NaN NaN     NaN NaN\n",
       "1.659008e+09        NaN NaN      NaN NaN     NaN NaN\n",
       "1.659008e+09    1046.67 NaN  1007.29 NaN  3763.0 NaN\n",
       "1.659009e+09        NaN NaN      NaN NaN     NaN NaN\n",
       "1.659009e+09    2240.70 NaN  2106.50 NaN  4642.0 NaN\n",
       "1.659009e+09    2251.70 NaN  2184.20 NaN  4830.0 NaN\n",
       "1.659009e+09    2251.70 NaN  2212.66 NaN  4932.0 NaN\n",
       "1.659009e+09        NaN NaN      NaN NaN     NaN NaN"
      ]
     },
     "execution_count": 10,
     "metadata": {},
     "output_type": "execute_result"
    }
   ],
   "source": [
    "df = resample_dataframe(\n",
    "    dataframe=pressure_data.drop('dt (s)', axis=1),\n",
    "    new_index=analysis_data.index,\n",
    "    max_interval=15,\n",
    "    agg=['mean', 'std']\n",
    ")\n",
    "df"
   ]
  },
  {
   "cell_type": "code",
   "execution_count": 6,
   "id": "6830af98",
   "metadata": {},
   "outputs": [
    {
     "data": {
      "text/plain": [
       "True"
      ]
     },
     "execution_count": 6,
     "metadata": {},
     "output_type": "execute_result"
    }
   ],
   "source": [
    "np.isnan(df['p (Pa)']['mean'].iloc[-1])"
   ]
  },
  {
   "cell_type": "code",
   "execution_count": 7,
   "id": "3785ca89-6a5c-470e-a3be-5c15d2f2b5be",
   "metadata": {},
   "outputs": [],
   "source": [
    "def check_bins_graphically(max_interval=None):\n",
    "\n",
    "    ts = analysis_data.index\n",
    "    bins = create_bins_centered_on(ts, max_interval=max_interval)\n",
    "\n",
    "    fig, ax = plt.subplots()\n",
    "    for ti in ts:\n",
    "        ax.plot(ti, 0, 'ok')\n",
    "\n",
    "    for tj in pressure_data.index:\n",
    "        ax.plot(tj, 1, '.b')\n",
    "\n",
    "    for (ta, tb) in bins:\n",
    "        ax.axvline(ta, linestyle=':', c='r')\n",
    "        ax.axvline(tb, linestyle=':', c='r')\n",
    "\n",
    "    return ax"
   ]
  },
  {
   "cell_type": "code",
   "execution_count": 8,
   "id": "69f606a1",
   "metadata": {},
   "outputs": [
    {
     "data": {
      "text/plain": [
       "<Axes: >"
      ]
     },
     "execution_count": 8,
     "metadata": {},
     "output_type": "execute_result"
    },
    {
     "data": {
      "image/png": "[encoded data removed]",
      "text/plain": [
       "<Figure size 640x480 with 1 Axes>"
      ]
     },
     "metadata": {},
     "output_type": "display_data"
    },
    {
     "data": {
      "image/png": "[encoded data removed]",
      "text/plain": [
       "<Figure size 640x480 with 1 Axes>"
      ]
     },
     "metadata": {},
     "output_type": "display_data"
    },
    {
     "data": {
      "image/png": "[encoded data removed]",
      "text/plain": [
       "<Figure size 640x480 with 1 Axes>"
      ]
     },
     "metadata": {},
     "output_type": "display_data"
    }
   ],
   "source": [
    "check_bins_graphically()\n",
    "check_bins_graphically(max_interval=10)\n",
    "check_bins_graphically(max_interval=20)"
   ]
  },
  {
   "cell_type": "markdown",
   "id": "1953c37d",
   "metadata": {},
   "source": []
  },
  {
   "cell_type": "code",
   "execution_count": null,
   "id": "fec87b8e",
   "metadata": {},
   "outputs": [],
   "source": []
  }
 ],
 "metadata": {
  "kernelspec": {
   "display_name": "base",
   "language": "python",
   "name": "python3"
  },
  "language_info": {
   "codemirror_mode": {
    "name": "ipython",
    "version": 3
   },
   "file_extension": ".py",
   "mimetype": "text/x-python",
   "name": "python",
   "nbconvert_exporter": "python",
   "pygments_lexer": "ipython3",
   "version": "3.10.16"
  }
 },
 "nbformat": 4,
 "nbformat_minor": 5
}
