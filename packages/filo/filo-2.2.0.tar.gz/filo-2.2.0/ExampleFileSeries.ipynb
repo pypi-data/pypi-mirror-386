{
 "cells": [
  {
   "cell_type": "code",
   "execution_count": 1,
   "metadata": {},
   "outputs": [],
   "source": [
    "from filo import FileSeries"
   ]
  },
  {
   "cell_type": "markdown",
   "metadata": {},
   "source": [
    "# File series by automatic detection in folder(s)"
   ]
  },
  {
   "cell_type": "code",
   "execution_count": 2,
   "metadata": {},
   "outputs": [
    {
     "data": {
      "text/plain": [
       "FileSeries in . / ['data/img1', 'data/img2'], 20 files]"
      ]
     },
     "execution_count": 2,
     "metadata": {},
     "output_type": "execute_result"
    }
   ],
   "source": [
    "folders = ['data/img1', 'data/img2']\n",
    "files = FileSeries.auto(folders=folders, extension='.png')\n",
    "files"
   ]
  },
  {
   "cell_type": "markdown",
   "metadata": {},
   "source": [
    "## Access individual files in series"
   ]
  },
  {
   "cell_type": "code",
   "execution_count": 3,
   "metadata": {},
   "outputs": [
    {
     "data": {
      "text/plain": [
       "filo.File #0 [img-00610.png in folder 'data/img1']"
      ]
     },
     "execution_count": 3,
     "metadata": {},
     "output_type": "execute_result"
    }
   ],
   "source": [
    "files[0]"
   ]
  },
  {
   "cell_type": "code",
   "execution_count": 4,
   "metadata": {},
   "outputs": [
    {
     "data": {
      "text/plain": [
       "19"
      ]
     },
     "execution_count": 4,
     "metadata": {},
     "output_type": "execute_result"
    }
   ],
   "source": [
    "num = 19\n",
    "files[num].num  # should always be equal to num"
   ]
  },
  {
   "cell_type": "code",
   "execution_count": 5,
   "metadata": {},
   "outputs": [
    {
     "data": {
      "text/plain": [
       "1704737984.3477845"
      ]
     },
     "execution_count": 5,
     "metadata": {},
     "output_type": "execute_result"
    }
   ],
   "source": [
    "files[8].unix_time  # unix time of file creation"
   ]
  },
  {
   "cell_type": "code",
   "execution_count": 6,
   "metadata": {},
   "outputs": [
    {
     "data": {
      "text/plain": [
       "datetime.datetime(2024, 1, 8, 19, 19, 44, 347785)"
      ]
     },
     "execution_count": 6,
     "metadata": {},
     "output_type": "execute_result"
    }
   ],
   "source": [
    "files[8].datetime  # corresponding datetime"
   ]
  },
  {
   "cell_type": "markdown",
   "metadata": {},
   "source": [
    "## Get and save file info"
   ]
  },
  {
   "cell_type": "code",
   "execution_count": 7,
   "metadata": {},
   "outputs": [
    {
     "data": {
      "text/plain": [
       "[filo.File #0 [img-00610.png in folder 'data/img1'],\n",
       " filo.File #1 [img-00611.png in folder 'data/img1'],\n",
       " filo.File #2 [img-00612.png in folder 'data/img1'],\n",
       " filo.File #3 [img-00613.png in folder 'data/img1'],\n",
       " filo.File #4 [img-00614.png in folder 'data/img1'],\n",
       " filo.File #5 [img-00615.png in folder 'data/img1'],\n",
       " filo.File #6 [img-00616.png in folder 'data/img1'],\n",
       " filo.File #7 [img-00617.png in folder 'data/img1'],\n",
       " filo.File #8 [img-00618.png in folder 'data/img1'],\n",
       " filo.File #9 [img-00619.png in folder 'data/img1'],\n",
       " filo.File #10 [img-00620.png in folder 'data/img1'],\n",
       " filo.File #11 [img-00625.png in folder 'data/img2'],\n",
       " filo.File #12 [img-00626.png in folder 'data/img2'],\n",
       " filo.File #13 [img-00627.png in folder 'data/img2'],\n",
       " filo.File #14 [img-00628.png in folder 'data/img2'],\n",
       " filo.File #15 [img-00629.png in folder 'data/img2'],\n",
       " filo.File #16 [img-00630.png in folder 'data/img2'],\n",
       " filo.File #17 [img-00631.png in folder 'data/img2'],\n",
       " filo.File #18 [img-00632.png in folder 'data/img2'],\n",
       " filo.File #19 [img-00633.png in folder 'data/img2']]"
      ]
     },
     "execution_count": 7,
     "metadata": {},
     "output_type": "execute_result"
    }
   ],
   "source": [
    "list(files)  # list of all filo.File objects"
   ]
  },
  {
   "cell_type": "code",
   "execution_count": 8,
   "metadata": {},
   "outputs": [
    {
     "data": {
      "text/html": [
       "<div>\n",
       "<style scoped>\n",
       "    .dataframe tbody tr th:only-of-type {\n",
       "        vertical-align: middle;\n",
       "    }\n",
       "\n",
       "    .dataframe tbody tr th {\n",
       "        vertical-align: top;\n",
       "    }\n",
       "\n",
       "    .dataframe thead th {\n",
       "        text-align: right;\n",
       "    }\n",
       "</style>\n",
       "<table border=\"1\" class=\"dataframe\">\n",
       "  <thead>\n",
       "    <tr style=\"text-align: right;\">\n",
       "      <th></th>\n",
       "      <th>folder</th>\n",
       "      <th>filename</th>\n",
       "      <th>time (unix)</th>\n",
       "    </tr>\n",
       "    <tr>\n",
       "      <th>num</th>\n",
       "      <th></th>\n",
       "      <th></th>\n",
       "      <th></th>\n",
       "    </tr>\n",
       "  </thead>\n",
       "  <tbody>\n",
       "    <tr>\n",
       "      <th>0</th>\n",
       "      <td>data/img1</td>\n",
       "      <td>img-00610.png</td>\n",
       "      <td>1.704738e+09</td>\n",
       "    </tr>\n",
       "    <tr>\n",
       "      <th>1</th>\n",
       "      <td>data/img1</td>\n",
       "      <td>img-00611.png</td>\n",
       "      <td>1.704738e+09</td>\n",
       "    </tr>\n",
       "    <tr>\n",
       "      <th>2</th>\n",
       "      <td>data/img1</td>\n",
       "      <td>img-00612.png</td>\n",
       "      <td>1.704738e+09</td>\n",
       "    </tr>\n",
       "    <tr>\n",
       "      <th>3</th>\n",
       "      <td>data/img1</td>\n",
       "      <td>img-00613.png</td>\n",
       "      <td>1.704738e+09</td>\n",
       "    </tr>\n",
       "    <tr>\n",
       "      <th>4</th>\n",
       "      <td>data/img1</td>\n",
       "      <td>img-00614.png</td>\n",
       "      <td>1.704738e+09</td>\n",
       "    </tr>\n",
       "  </tbody>\n",
       "</table>\n",
       "</div>"
      ],
      "text/plain": [
       "        folder       filename   time (unix)\n",
       "num                                        \n",
       "0    data/img1  img-00610.png  1.704738e+09\n",
       "1    data/img1  img-00611.png  1.704738e+09\n",
       "2    data/img1  img-00612.png  1.704738e+09\n",
       "3    data/img1  img-00613.png  1.704738e+09\n",
       "4    data/img1  img-00614.png  1.704738e+09"
      ]
     },
     "execution_count": 8,
     "metadata": {},
     "output_type": "execute_result"
    }
   ],
   "source": [
    "files.info.head()  # see top of info DataFrame"
   ]
  },
  {
   "cell_type": "code",
   "execution_count": 9,
   "metadata": {},
   "outputs": [
    {
     "data": {
      "text/plain": [
       "'0:00:00.008665'"
      ]
     },
     "execution_count": 9,
     "metadata": {},
     "output_type": "execute_result"
    }
   ],
   "source": [
    "str(files.duration)  # time between first file and last file"
   ]
  },
  {
   "cell_type": "markdown",
   "metadata": {},
   "source": [
    "## Save all file info to CSV file"
   ]
  },
  {
   "cell_type": "code",
   "execution_count": 10,
   "metadata": {},
   "outputs": [],
   "source": [
    "files.to_csv('data/FileSeries_Info.txt')"
   ]
  },
  {
   "cell_type": "markdown",
   "metadata": {},
   "source": [
    "# File series from info stored in CSV file"
   ]
  },
  {
   "cell_type": "code",
   "execution_count": 11,
   "metadata": {},
   "outputs": [],
   "source": [
    "files = FileSeries.from_csv('data/External_File_Info.txt')"
   ]
  },
  {
   "cell_type": "code",
   "execution_count": 12,
   "metadata": {},
   "outputs": [
    {
     "data": {
      "text/html": [
       "<div>\n",
       "<style scoped>\n",
       "    .dataframe tbody tr th:only-of-type {\n",
       "        vertical-align: middle;\n",
       "    }\n",
       "\n",
       "    .dataframe tbody tr th {\n",
       "        vertical-align: top;\n",
       "    }\n",
       "\n",
       "    .dataframe thead th {\n",
       "        text-align: right;\n",
       "    }\n",
       "</style>\n",
       "<table border=\"1\" class=\"dataframe\">\n",
       "  <thead>\n",
       "    <tr style=\"text-align: right;\">\n",
       "      <th></th>\n",
       "      <th>folder</th>\n",
       "      <th>filename</th>\n",
       "      <th>time (unix)</th>\n",
       "    </tr>\n",
       "    <tr>\n",
       "      <th>num</th>\n",
       "      <th></th>\n",
       "      <th></th>\n",
       "      <th></th>\n",
       "    </tr>\n",
       "  </thead>\n",
       "  <tbody>\n",
       "    <tr>\n",
       "      <th>0</th>\n",
       "      <td>img</td>\n",
       "      <td>img-00610.png</td>\n",
       "      <td>1599832397</td>\n",
       "    </tr>\n",
       "    <tr>\n",
       "      <th>1</th>\n",
       "      <td>img</td>\n",
       "      <td>img-00611.png</td>\n",
       "      <td>1599832399</td>\n",
       "    </tr>\n",
       "    <tr>\n",
       "      <th>2</th>\n",
       "      <td>img</td>\n",
       "      <td>img-00612.png</td>\n",
       "      <td>1599832401</td>\n",
       "    </tr>\n",
       "    <tr>\n",
       "      <th>3</th>\n",
       "      <td>img</td>\n",
       "      <td>img-00613.png</td>\n",
       "      <td>1599832403</td>\n",
       "    </tr>\n",
       "    <tr>\n",
       "      <th>4</th>\n",
       "      <td>img</td>\n",
       "      <td>img-00614.png</td>\n",
       "      <td>1599832405</td>\n",
       "    </tr>\n",
       "  </tbody>\n",
       "</table>\n",
       "</div>"
      ],
      "text/plain": [
       "    folder           filename  time (unix)\n",
       "num                                       \n",
       "0      img      img-00610.png   1599832397\n",
       "1      img      img-00611.png   1599832399\n",
       "2      img      img-00612.png   1599832401\n",
       "3      img      img-00613.png   1599832403\n",
       "4      img      img-00614.png   1599832405"
      ]
     },
     "execution_count": 12,
     "metadata": {},
     "output_type": "execute_result"
    }
   ],
   "source": [
    "files.info.head()"
   ]
  },
  {
   "cell_type": "markdown",
   "metadata": {},
   "source": [
    "# Update times from CSV file"
   ]
  },
  {
   "cell_type": "code",
   "execution_count": 13,
   "metadata": {},
   "outputs": [
    {
     "data": {
      "text/html": [
       "<div>\n",
       "<style scoped>\n",
       "    .dataframe tbody tr th:only-of-type {\n",
       "        vertical-align: middle;\n",
       "    }\n",
       "\n",
       "    .dataframe tbody tr th {\n",
       "        vertical-align: top;\n",
       "    }\n",
       "\n",
       "    .dataframe thead th {\n",
       "        text-align: right;\n",
       "    }\n",
       "</style>\n",
       "<table border=\"1\" class=\"dataframe\">\n",
       "  <thead>\n",
       "    <tr style=\"text-align: right;\">\n",
       "      <th></th>\n",
       "      <th>folder</th>\n",
       "      <th>filename</th>\n",
       "      <th>time (unix)</th>\n",
       "    </tr>\n",
       "    <tr>\n",
       "      <th>num</th>\n",
       "      <th></th>\n",
       "      <th></th>\n",
       "      <th></th>\n",
       "    </tr>\n",
       "  </thead>\n",
       "  <tbody>\n",
       "    <tr>\n",
       "      <th>15</th>\n",
       "      <td>data/img2</td>\n",
       "      <td>img-00629.png</td>\n",
       "      <td>1607500530</td>\n",
       "    </tr>\n",
       "    <tr>\n",
       "      <th>16</th>\n",
       "      <td>data/img2</td>\n",
       "      <td>img-00630.png</td>\n",
       "      <td>1607500532</td>\n",
       "    </tr>\n",
       "    <tr>\n",
       "      <th>17</th>\n",
       "      <td>data/img2</td>\n",
       "      <td>img-00631.png</td>\n",
       "      <td>1607500534</td>\n",
       "    </tr>\n",
       "    <tr>\n",
       "      <th>18</th>\n",
       "      <td>data/img2</td>\n",
       "      <td>img-00632.png</td>\n",
       "      <td>1607500536</td>\n",
       "    </tr>\n",
       "    <tr>\n",
       "      <th>19</th>\n",
       "      <td>data/img2</td>\n",
       "      <td>img-00633.png</td>\n",
       "      <td>1607500538</td>\n",
       "    </tr>\n",
       "  </tbody>\n",
       "</table>\n",
       "</div>"
      ],
      "text/plain": [
       "        folder       filename  time (unix)\n",
       "num                                       \n",
       "15   data/img2  img-00629.png   1607500530\n",
       "16   data/img2  img-00630.png   1607500532\n",
       "17   data/img2  img-00631.png   1607500534\n",
       "18   data/img2  img-00632.png   1607500536\n",
       "19   data/img2  img-00633.png   1607500538"
      ]
     },
     "execution_count": 13,
     "metadata": {},
     "output_type": "execute_result"
    }
   ],
   "source": [
    "files = FileSeries.auto(folders=['data/img1', 'data/img2'], extension='.png')\n",
    "files.update_times('data/External_Time_Info.txt')\n",
    "files.info.tail()"
   ]
  },
  {
   "cell_type": "code",
   "execution_count": 14,
   "metadata": {},
   "outputs": [
    {
     "data": {
      "text/plain": [
       "'0:00:38'"
      ]
     },
     "execution_count": 14,
     "metadata": {},
     "output_type": "execute_result"
    }
   ],
   "source": [
    "str(files.duration)"
   ]
  }
 ],
 "metadata": {
  "kernelspec": {
   "display_name": "base",
   "language": "python",
   "name": "python3"
  },
  "language_info": {
   "codemirror_mode": {
    "name": "ipython",
    "version": 3
   },
   "file_extension": ".py",
   "mimetype": "text/x-python",
   "name": "python",
   "nbconvert_exporter": "python",
   "pygments_lexer": "ipython3",
   "version": "3.10.16"
  }
 },
 "nbformat": 4,
 "nbformat_minor": 4
}
