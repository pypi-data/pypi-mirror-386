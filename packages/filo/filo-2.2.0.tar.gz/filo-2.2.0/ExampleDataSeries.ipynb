{
 "cells": [
  {
   "cell_type": "code",
   "execution_count": 1,
   "metadata": {},
   "outputs": [],
   "source": [
    "from filo import FileSeries, DataSeries, DataSeriesReaderBase, DataViewerBase\n",
    "from filo import TransformParameterBase\n",
    "\n",
    "# NOTE: To run this notebook, PIL and numpy must be installed\n",
    "from PIL import Image\n",
    "import numpy as np\n",
    "import matplotlib.pyplot as plt\n",
    "\n",
    "%matplotlib tk"
   ]
  },
  {
   "cell_type": "markdown",
   "metadata": {},
   "source": [
    "# Creation of an image series class"
   ]
  },
  {
   "cell_type": "markdown",
   "metadata": {},
   "source": [
    "The image series will be based on image data stored in individual files :"
   ]
  },
  {
   "cell_type": "code",
   "execution_count": 2,
   "metadata": {},
   "outputs": [
    {
     "data": {
      "text/plain": [
       "FileSeries in . / ['data/img1', 'data/img2'], 20 files]"
      ]
     },
     "execution_count": 2,
     "metadata": {},
     "output_type": "execute_result"
    }
   ],
   "source": [
    "folders = ['data/img1', 'data/img2']\n",
    "files = FileSeries.auto(folders=folders, extension='.png')\n",
    "files"
   ]
  },
  {
   "cell_type": "markdown",
   "metadata": {},
   "source": [
    "## Minimal example : load image data (*reader*)"
   ]
  },
  {
   "cell_type": "code",
   "execution_count": 3,
   "metadata": {},
   "outputs": [],
   "source": [
    "class ImgReader(DataSeriesReaderBase):\n",
    "    \"\"\"How to read images from the image series\"\"\"\n",
    "\n",
    "    def _read(self, num):\n",
    "        filepath = self.data_series.files[num].path\n",
    "        img = Image.open(filepath)\n",
    "        return np.array(img)\n",
    "\n",
    "\n",
    "class Images(DataSeries):\n",
    "    \"\"\"Class describing series of images stored in multiple files\"\"\"\n",
    "\n",
    "    def __init__(self, files):\n",
    "        self.files = files\n",
    "        super().__init__(reader=ImgReader(data_series=self))\n",
    "\n",
    "    # ntot and nums are optional but useful for representation/inspection ----\n",
    "\n",
    "    @property\n",
    "    def nums(self):\n",
    "        \"\"\"Iterator (sliceable) of data identifiers\"\"\"\n",
    "        return range(self.ntot)\n",
    "\n",
    "    @property\n",
    "    def ntot(self):\n",
    "        \"\"\"Total number of data in the series\"\"\"\n",
    "        return len(list(self.files))"
   ]
  },
  {
   "cell_type": "markdown",
   "metadata": {},
   "source": [
    "Operate the `Images` class to read images based on their number in the file series:"
   ]
  },
  {
   "cell_type": "code",
   "execution_count": 4,
   "metadata": {},
   "outputs": [
    {
     "data": {
      "text/plain": [
       "Images, data length [20]\n",
       "-- corrections: []\n",
       "-- transforms: []"
      ]
     },
     "execution_count": 4,
     "metadata": {},
     "output_type": "execute_result"
    }
   ],
   "source": [
    "images = Images(files=files)\n",
    "images"
   ]
  },
  {
   "cell_type": "code",
   "execution_count": 5,
   "metadata": {},
   "outputs": [
    {
     "data": {
      "text/plain": [
       "array([[ 70,  68,  74, ...,  69,  64,  55],\n",
       "       [ 66,  54,  53, ...,  59,  59,  64],\n",
       "       [ 68,  59,  62, ...,  62,  65,  62],\n",
       "       ...,\n",
       "       [ 80,  92,  73, ...,  94,  90, 104],\n",
       "       [ 78,  90,  80, ...,  94,  92, 107],\n",
       "       [ 88,  81,  84, ...,  87,  95, 106]], dtype=uint8)"
      ]
     },
     "execution_count": 5,
     "metadata": {},
     "output_type": "execute_result"
    }
   ],
   "source": [
    "images.read()  # first image in the series"
   ]
  },
  {
   "cell_type": "code",
   "execution_count": 6,
   "metadata": {},
   "outputs": [
    {
     "data": {
      "text/plain": [
       "array([[ 71,  70,  76, ...,  76,  74,  64],\n",
       "       [ 69,  57,  55, ...,  64,  62,  76],\n",
       "       [ 66,  58,  62, ...,  65,  69,  69],\n",
       "       ...,\n",
       "       [ 78,  89,  77, ...,  99,  94, 106],\n",
       "       [ 72,  87,  78, ...,  98,  97, 104],\n",
       "       [ 81,  79,  82, ...,  91, 101, 114]], dtype=uint8)"
      ]
     },
     "execution_count": 6,
     "metadata": {},
     "output_type": "execute_result"
    }
   ],
   "source": [
    "images.read(num=8)"
   ]
  },
  {
   "cell_type": "markdown",
   "metadata": {},
   "source": [
    "## Add interactive tools (*viewer*)"
   ]
  },
  {
   "cell_type": "code",
   "execution_count": 7,
   "metadata": {},
   "outputs": [],
   "source": [
    "class ImgViewer(DataViewerBase):\n",
    "\n",
    "    def __init__(self, images):\n",
    "        super().__init__()\n",
    "        self.images = images\n",
    "\n",
    "    def _create_figure(self):\n",
    "        self.fig, ax = plt.subplots()\n",
    "        # Below, list all axes created in the figure\n",
    "        self.axs = ax,\n",
    "\n",
    "    def _get_data(self, num):\n",
    "        \"\"\"Get data associated with specific image identifier\"\"\"\n",
    "        return self.images.read(num=num)\n",
    "\n",
    "    def _first_plot(self, data):\n",
    "        \"\"\"Create first plot based on data spit out by _get_data()\"\"\"\n",
    "        ax, = self.axs\n",
    "        self.imshow = ax.imshow(data)\n",
    "        # below, list all elements updated during live view\n",
    "        self.updated_artists = [self.imshow]\n",
    "\n",
    "    def _update_plot(self, data):\n",
    "        \"\"\"How to update the plot on animated graphs\"\"\"\n",
    "        self.imshow.set_array(data)\n",
    "\n",
    "\n",
    "class Images(DataSeries):\n",
    "    \"\"\"Class describing series of images stored in multiple files\"\"\"\n",
    "\n",
    "    def __init__(self, files):\n",
    "        self.files = files\n",
    "        super().__init__(\n",
    "            reader=ImgReader(data_series=self),\n",
    "            viewer=ImgViewer(images=self)\n",
    "        )\n",
    "\n",
    "    # ------------------------- Below, same as above -------------------------\n",
    "\n",
    "    @property\n",
    "    def nums(self):\n",
    "        \"\"\"Iterator (sliceable) of data identifiers\"\"\"\n",
    "        return range(self.ntot)\n",
    "\n",
    "    @property\n",
    "    def ntot(self):\n",
    "        \"\"\"Total number of data in the series\"\"\"\n",
    "        return len(list(self.files))\n"
   ]
  },
  {
   "cell_type": "code",
   "execution_count": 8,
   "metadata": {},
   "outputs": [
    {
     "data": {
      "text/plain": [
       "Images, data length [20]\n",
       "-- corrections: []\n",
       "-- transforms: []"
      ]
     },
     "execution_count": 8,
     "metadata": {},
     "output_type": "execute_result"
    }
   ],
   "source": [
    "images = Images(files)\n",
    "images"
   ]
  },
  {
   "cell_type": "markdown",
   "metadata": {},
   "source": [
    "When a viewer is defined, several inspection tools are automatically available : `show()`, `inspect()`, `animate()`"
   ]
  },
  {
   "cell_type": "code",
   "execution_count": 9,
   "metadata": {},
   "outputs": [
    {
     "data": {
      "text/plain": [
       "(<Axes: >,)"
      ]
     },
     "execution_count": 9,
     "metadata": {},
     "output_type": "execute_result"
    }
   ],
   "source": [
    "images.show(num=3)"
   ]
  },
  {
   "cell_type": "code",
   "execution_count": 10,
   "metadata": {},
   "outputs": [
    {
     "data": {
      "text/plain": [
       "<filo.viewers.KeyPressSlider at 0x17400edd0>"
      ]
     },
     "execution_count": 10,
     "metadata": {},
     "output_type": "execute_result"
    }
   ],
   "source": [
    "images.inspect()"
   ]
  },
  {
   "cell_type": "code",
   "execution_count": 11,
   "metadata": {},
   "outputs": [
    {
     "data": {
      "text/plain": [
       "<matplotlib.animation.FuncAnimation at 0x174033f10>"
      ]
     },
     "execution_count": 11,
     "metadata": {},
     "output_type": "execute_result"
    }
   ],
   "source": [
    "images.animate()"
   ]
  },
  {
   "cell_type": "markdown",
   "metadata": {},
   "source": [
    "## Advanced : *transforms*"
   ]
  },
  {
   "cell_type": "markdown",
   "metadata": {},
   "source": [
    "One can define corrections and transforms. Transforms are global processing tools that apply to all images in the image series in the same way ; Corrections are similar, but can vary from image to image. Here we show only how to define transforms.\n",
    "\n",
    "As an example, we will show how to define a ROI (crop zone) on the image series"
   ]
  },
  {
   "cell_type": "code",
   "execution_count": 12,
   "metadata": {},
   "outputs": [],
   "source": [
    "class RegionOfInterest(TransformParameterBase):\n",
    "\n",
    "    # must be defined and will be the name of the correction attribute within\n",
    "    # the image series class, e.g. images.roi\n",
    "    name = 'roi'\n",
    "\n",
    "    # All informations concerning the transform should be stored in self.data\n",
    "    # which is automatically initiated as an empty dictionary\n",
    "\n",
    "    @property\n",
    "    def zone(self):\n",
    "        \"\"\"Define settable properties to not interact with self.data directly\"\"\"\n",
    "        return self.data.get('zone')\n",
    "\n",
    "    @zone.setter\n",
    "    def zone(self, value):\n",
    "        \"\"\"Set value for the region of interest (x, y, w, h)\"\"\"\n",
    "        self.data['zone'] = value\n",
    "\n",
    "    def apply(self, img):\n",
    "        \"\"\"How to apply transform on the result of images.read()\"\"\"\n",
    "        x0, y0, w, h = self.data['zone']\n",
    "        return img[y0:y0 + h, x0:x0 + w]\n",
    "\n",
    "\n",
    "class Images(DataSeries):\n",
    "    \"\"\"Class describing series of images stored in multiple files\"\"\"\n",
    "\n",
    "    def __init__(self, files):\n",
    "        self.files = files\n",
    "        super().__init__(\n",
    "            transforms=(RegionOfInterest(data_series=self),),\n",
    "            reader=ImgReader(data_series=self),\n",
    "            viewer=ImgViewer(images=self)\n",
    "        )\n",
    "\n",
    "    # ------------------------- Below, same as above -------------------------\n",
    "\n",
    "    @property\n",
    "    def nums(self):\n",
    "        \"\"\"Iterator (sliceable) of data identifiers\"\"\"\n",
    "        return range(self.ntot)\n",
    "\n",
    "    @property\n",
    "    def ntot(self):\n",
    "        \"\"\"Total number of data in the series\"\"\"\n",
    "        return len(list(self.files))"
   ]
  },
  {
   "cell_type": "code",
   "execution_count": 13,
   "metadata": {},
   "outputs": [],
   "source": [
    "images = Images(files)\n",
    "images.roi.zone = [280, 333, 50, 35]"
   ]
  },
  {
   "cell_type": "code",
   "execution_count": 14,
   "metadata": {},
   "outputs": [
    {
     "data": {
      "text/plain": [
       "(<Axes: >,)"
      ]
     },
     "execution_count": 14,
     "metadata": {},
     "output_type": "execute_result"
    }
   ],
   "source": [
    "images.show()"
   ]
  },
  {
   "cell_type": "code",
   "execution_count": 15,
   "metadata": {},
   "outputs": [
    {
     "data": {
      "text/plain": [
       "<filo.viewers.KeyPressSlider at 0x17412b190>"
      ]
     },
     "execution_count": 15,
     "metadata": {},
     "output_type": "execute_result"
    }
   ],
   "source": [
    "images.inspect()"
   ]
  },
  {
   "cell_type": "code",
   "execution_count": 16,
   "metadata": {},
   "outputs": [],
   "source": [
    "images.roi.reset()"
   ]
  },
  {
   "cell_type": "code",
   "execution_count": 17,
   "metadata": {},
   "outputs": [
    {
     "data": {
      "text/plain": [
       "(<Axes: >,)"
      ]
     },
     "execution_count": 17,
     "metadata": {},
     "output_type": "execute_result"
    }
   ],
   "source": [
    "images.show()"
   ]
  },
  {
   "cell_type": "code",
   "execution_count": 18,
   "metadata": {},
   "outputs": [
    {
     "data": {
      "text/plain": [
       "<filo.viewers.KeyPressSlider at 0x1741f6620>"
      ]
     },
     "execution_count": 18,
     "metadata": {},
     "output_type": "execute_result"
    }
   ],
   "source": [
    "images.inspect()"
   ]
  },
  {
   "cell_type": "code",
   "execution_count": null,
   "metadata": {},
   "outputs": [],
   "source": []
  }
 ],
 "metadata": {
  "kernelspec": {
   "display_name": "base",
   "language": "python",
   "name": "python3"
  },
  "language_info": {
   "codemirror_mode": {
    "name": "ipython",
    "version": 3
   },
   "file_extension": ".py",
   "mimetype": "text/x-python",
   "name": "python",
   "nbconvert_exporter": "python",
   "pygments_lexer": "ipython3",
   "version": "3.10.16"
  }
 },
 "nbformat": 4,
 "nbformat_minor": 4
}
