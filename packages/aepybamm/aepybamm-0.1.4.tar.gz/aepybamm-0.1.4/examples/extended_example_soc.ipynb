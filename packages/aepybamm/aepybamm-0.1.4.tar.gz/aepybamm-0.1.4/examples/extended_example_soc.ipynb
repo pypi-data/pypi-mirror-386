{
 "cells": [
  {
   "cell_type": "markdown",
   "metadata": {},
   "source": [
    "### Imports"
   ]
  },
  {
   "cell_type": "code",
   "execution_count": null,
   "metadata": {},
   "outputs": [],
   "source": [
    "import numpy as np\n",
    "import pybamm\n",
    "\n",
    "from aepybamm import get_params"
   ]
  },
  {
   "cell_type": "markdown",
   "metadata": {},
   "source": [
    "### Define source parameters\n",
    "\n",
    "We use the About:Energy Gen1 demo cell (fictitious cell for technology demonstration)."
   ]
  },
  {
   "cell_type": "code",
   "execution_count": null,
   "metadata": {},
   "outputs": [],
   "source": [
    "fp_bpx = \"params/AE_gen1_BPX.json\""
   ]
  },
  {
   "cell_type": "markdown",
   "metadata": {},
   "source": [
    "### Call `get_params()` with a defined degradation state\n",
    "\n",
    "Compare the vanilla approach in `base_example.ipynb`. Here, the `SOC_definition` input to `get_params()` defines the initial SOC of 90% to be with reference to the capacity in the thermodynamic voltage window from 3 V to 4.1 V, rather than the full window between the operating cut-off voltages (2.5 V to 4.2 V). This means that SOC 90% occurs at lower OCV than in the reference example.\n",
    "\n",
    "*Note: The warning returned from the BPX validator is due to rounding error in the stoichiometry specification of the parameter set.*"
   ]
  },
  {
   "cell_type": "code",
   "execution_count": null,
   "metadata": {},
   "outputs": [],
   "source": [
    "SOC_definition = {\n",
    "    \"method\": \"linear_endpoints\",\n",
    "    \"data\": np.array(\n",
    "        [\n",
    "            [0, 3],\n",
    "            [1, 4.1],\n",
    "        ]\n",
    "    ),\n",
    "}\n",
    "\n",
    "parameter_values, model = get_params(\n",
    "    fp_bpx,\n",
    "    SOC_init=0.9,\n",
    "    SOC_definition=SOC_definition,\n",
    ")\n",
    "\n",
    "experiment = pybamm.Experiment(\n",
    "    [\n",
    "        \"Discharge at 1C until 3 V\",\n",
    "        \"Rest for 30 minutes\",\n",
    "        \"Charge at 0.2C until 3.6 V\",\n",
    "    ]\n",
    ")\n",
    "\n",
    "sim = pybamm.Simulation(\n",
    "    model,\n",
    "    parameter_values=parameter_values,\n",
    "    experiment=experiment,\n",
    ")\n",
    "sol = sim.solve(calc_esoh=False)\n",
    "sol.plot();"
   ]
  }
 ],
 "metadata": {
  "kernelspec": {
   "display_name": "env_external_pybamm_251",
   "language": "python",
   "name": "python3"
  },
  "language_info": {
   "codemirror_mode": {
    "name": "ipython",
    "version": 3
   },
   "file_extension": ".py",
   "mimetype": "text/x-python",
   "name": "python",
   "nbconvert_exporter": "python",
   "pygments_lexer": "ipython3",
   "version": "3.9.13"
  }
 },
 "nbformat": 4,
 "nbformat_minor": 2
}
