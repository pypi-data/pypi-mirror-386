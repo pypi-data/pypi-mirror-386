{
 "cells": [
  {
   "cell_type": "markdown",
   "metadata": {},
   "source": [
    "### Imports"
   ]
  },
  {
   "cell_type": "code",
   "execution_count": null,
   "metadata": {},
   "outputs": [],
   "source": [
    "import pybamm\n",
    "\n",
    "from aepybamm import get_params"
   ]
  },
  {
   "cell_type": "markdown",
   "metadata": {},
   "source": [
    "### Define source parameters\n",
    "\n",
    "We use the About:Energy Gen1 demo cell (fictitious cell for technology demonstration)."
   ]
  },
  {
   "cell_type": "code",
   "execution_count": null,
   "metadata": {},
   "outputs": [],
   "source": [
    "fp_bpx = \"params/AE_gen1_BPX.json\""
   ]
  },
  {
   "cell_type": "markdown",
   "metadata": {},
   "source": [
    "### Call `get_params()` with a defined degradation state\n",
    "\n",
    "Compare the vanilla approach in `base_example.ipynb`. Here, the `degradation_state` input to `get_params()` defines a thermodynamic degradation state. Because of the capacity fade implied by the degradation state, less charge is passed in each of the voltage-controlled constant-current steps.\n",
    "\n",
    "*Note: The warning returned from the BPX validator is due to slight imprecision in the stoichiometry specification of the parameter set (to be fixed with updated process).*"
   ]
  },
  {
   "cell_type": "code",
   "execution_count": null,
   "metadata": {},
   "outputs": [],
   "source": [
    "degradation_state = {\n",
    "    \"LAM_NE\": 0.05,\n",
    "    \"LAM_PE\": 0.025,\n",
    "    \"LLI\": 0.1,\n",
    "}\n",
    "\n",
    "parameter_values, model = get_params(\n",
    "    fp_bpx,\n",
    "    SOC_init=0.9,\n",
    "    degradation_state=degradation_state,\n",
    ")\n",
    "\n",
    "experiment = pybamm.Experiment(\n",
    "    [\n",
    "        \"Discharge at 1C until 3 V\",\n",
    "        \"Rest for 30 minutes\",\n",
    "        \"Charge at 0.2C until 3.6 V\",\n",
    "    ]\n",
    ")\n",
    "\n",
    "sim = pybamm.Simulation(\n",
    "    model,\n",
    "    parameter_values=parameter_values,\n",
    "    experiment=experiment,\n",
    ")\n",
    "sol = sim.solve(calc_esoh=False)\n",
    "sol.plot();"
   ]
  },
  {
   "cell_type": "code",
   "execution_count": null,
   "metadata": {},
   "outputs": [],
   "source": []
  }
 ],
 "metadata": {
  "kernelspec": {
   "display_name": ".venv",
   "language": "python",
   "name": "python3"
  },
  "language_info": {
   "codemirror_mode": {
    "name": "ipython",
    "version": 3
   },
   "file_extension": ".py",
   "mimetype": "text/x-python",
   "name": "python",
   "nbconvert_exporter": "python",
   "pygments_lexer": "ipython3",
   "version": "3.12.11"
  }
 },
 "nbformat": 4,
 "nbformat_minor": 2
}
