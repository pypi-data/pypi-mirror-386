{
 "cells": [
  {
   "cell_type": "markdown",
   "id": "42968f3a",
   "metadata": {},
   "source": [
    "# Validation Plots"
   ]
  },
  {
   "cell_type": "code",
   "execution_count": null,
   "id": "50eea0be",
   "metadata": {},
   "outputs": [],
   "source": [
    "from aepybamm import (\n",
    "    get_params,\n",
    "    solve_from_expdata,\n",
    "    compare,\n",
    ")"
   ]
  },
  {
   "attachments": {},
   "cell_type": "markdown",
   "id": "b7952c93",
   "metadata": {},
   "source": [
    "## Get parameters and model using BPX JSON file"
   ]
  },
  {
   "cell_type": "code",
   "execution_count": null,
   "id": "88296b82",
   "metadata": {},
   "outputs": [],
   "source": [
    "parameter_values, model = get_params(\"params/example_lfp_BPX.json\")"
   ]
  },
  {
   "cell_type": "markdown",
   "id": "587a2b0e",
   "metadata": {},
   "source": [
    "## Run simulations and compare to experiment"
   ]
  },
  {
   "cell_type": "code",
   "execution_count": null,
   "id": "8dc5cdbc",
   "metadata": {},
   "outputs": [],
   "source": [
    "exps = [\n",
    "    \"Co20_Dch\",\n",
    "    \"1C_Dch\",\n",
    "    \"DC_WLTP\"\n",
    "]\n",
    "DICT_COLS_STD = {\n",
    "    \"t\": 0,\n",
    "    \"I\": 1,\n",
    "    \"V\": 2,\n",
    "}\n",
    "\n",
    "filestem = \"data/LFP_025degC_\"\n",
    "\n",
    "sols = {}\n",
    "for exp in exps:\n",
    "    fp = f\"{filestem}{exp}.csv\"\n",
    "    sols[exp] = solve_from_expdata(\n",
    "        parameter_values,\n",
    "        model,\n",
    "        fp,\n",
    "        dict_cols=DICT_COLS_STD,\n",
    "        Tamb_degC=25,\n",
    "    )\n",
    "\n",
    "for exp, sol in sols.items():\n",
    "    fp = f\"{filestem}{exp}.csv\"\n",
    "    compare(\n",
    "        sol,\n",
    "        fp,\n",
    "        dict_cols=DICT_COLS_STD,\n",
    "        title=exp,\n",
    "    )"
   ]
  }
 ],
 "metadata": {
  "kernelspec": {
   "display_name": "env_external_pybamm_251",
   "language": "python",
   "name": "python3"
  },
  "language_info": {
   "codemirror_mode": {
    "name": "ipython",
    "version": 3
   },
   "file_extension": ".py",
   "mimetype": "text/x-python",
   "name": "python",
   "nbconvert_exporter": "python",
   "pygments_lexer": "ipython3",
   "version": "3.9.13"
  }
 },
 "nbformat": 4,
 "nbformat_minor": 5
}
