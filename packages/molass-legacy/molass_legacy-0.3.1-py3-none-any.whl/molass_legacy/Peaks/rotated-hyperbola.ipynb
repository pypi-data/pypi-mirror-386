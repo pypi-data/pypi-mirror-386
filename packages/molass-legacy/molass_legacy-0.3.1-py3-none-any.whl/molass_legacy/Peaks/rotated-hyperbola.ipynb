{
 "cells": [
  {
   "cell_type": "markdown",
   "metadata": {},
   "source": [
    "c.f. [Fit a curve for data made up of two distinct regimes](https://stackoverflow.com/questions/19955686/fit-a-curve-for-data-made-up-of-two-distinct-regimes)"
   ]
  },
  {
   "cell_type": "code",
   "execution_count": 1,
   "metadata": {},
   "outputs": [],
   "source": [
    "import numpy as np\n",
    "import matplotlib.pyplot as plt\n",
    "from sympy import solve\n",
    "from sympy.abc import a, b, u, v, K"
   ]
  },
  {
   "cell_type": "markdown",
   "metadata": {},
   "source": [
    "$ \\frac{x^2}{a^2} - \\frac{y^2}{b^2} = 1$\n",
    "\n",
    "change x, y\n",
    "\n",
    "$ \\frac{y^2}{a^2} - \\frac{x^2}{b^2} = 1$\n",
    "\n",
    "$ \\frac{y^2}{a^2} = \\frac{x^2}{b^2} + 1 = \\frac{x^2 + b^2}{b^2} $\n",
    "\n",
    "$ y^2 = (\\frac{a}{b})^2(x^2 + b^2) $\n",
    "\n",
    "$ y = \\pm{\\frac{a}{b}} \\sqrt{x^2 + b^2} $\n",
    "\n",
    "$ y - y_0 = \\pm{\\frac{a}{b}} \\sqrt{(x - x_0)^2 + b^2} $\n",
    "\n",
    "take the peak-like concave curve\n",
    "\n",
    "$ y = -\\frac{a}{b} \\sqrt{(x - x_0)^2 + b^2} + y_0 $\n",
    "\n",
    "$ y = 0 \\rightarrow \\frac{a}{b} \\sqrt{(x - x_0)^2 + b^2} = y_0 \\rightarrow (x - x_0)^2 = (\\frac{b}{a}y_0)^2 - b^2 \\rightarrow x = x_0 \\pm{b \\sqrt{( (\\frac{y_0}{a})^2 - 1 ) }} $"
   ]
  },
  {
   "cell_type": "code",
   "execution_count": 15,
   "metadata": {},
   "outputs": [
    {
     "data": {
      "text/plain": [
       "[<matplotlib.lines.Line2D at 0x1f9fa97d5b0>]"
      ]
     },
     "execution_count": 15,
     "metadata": {},
     "output_type": "execute_result"
    },
    {
     "data": {
      "image/png": "[encoded data removed]",
      "text/plain": [
       "<Figure size 432x288 with 1 Axes>"
      ]
     },
     "metadata": {
      "needs_background": "light"
     },
     "output_type": "display_data"
    }
   ],
   "source": [
    "x = np.arange(200)\n",
    "a = 1\n",
    "b = 15\n",
    "x0 = 100\n",
    "y0 = a + 2\n",
    "gy = 2*np.exp(-((x - x0)/30)**2)\n",
    "hy = -a/b*np.sqrt((x-x0)**2 + b**2) + y0\n",
    "plt.plot(x, gy)\n",
    "plt.plot(x, hy)"
   ]
  },
  {
   "cell_type": "code",
   "execution_count": null,
   "metadata": {},
   "outputs": [],
   "source": []
  },
  {
   "cell_type": "code",
   "execution_count": null,
   "metadata": {},
   "outputs": [],
   "source": []
  }
 ],
 "metadata": {
  "kernelspec": {
   "display_name": "Python 3",
   "language": "python",
   "name": "python3"
  },
  "language_info": {
   "codemirror_mode": {
    "name": "ipython",
    "version": 3
   },
   "file_extension": ".py",
   "mimetype": "text/x-python",
   "name": "python",
   "nbconvert_exporter": "python",
   "pygments_lexer": "ipython3",
   "version": "3.9.2"
  }
 },
 "nbformat": 4,
 "nbformat_minor": 4
}
