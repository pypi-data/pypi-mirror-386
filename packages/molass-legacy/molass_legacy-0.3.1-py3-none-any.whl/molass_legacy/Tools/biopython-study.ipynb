{
 "cells": [
  {
   "cell_type": "code",
   "execution_count": 1,
   "id": "43adca9e-52fe-425c-a169-01fc45a6e813",
   "metadata": {},
   "outputs": [],
   "source": [
    "from Bio.PDB import PDBList"
   ]
  },
  {
   "cell_type": "code",
   "execution_count": 4,
   "id": "a860f083-2651-47fa-bcea-468a03e64fd5",
   "metadata": {},
   "outputs": [
    {
     "name": "stdout",
     "output_type": "stream",
     "text": [
      "Downloading assembly (1) for PDB entry '1ald'...\n"
     ]
    },
    {
     "data": {
      "text/plain": [
       "'temp\\\\1ald.pdb1'"
      ]
     },
     "execution_count": 4,
     "metadata": {},
     "output_type": "execute_result"
    }
   ],
   "source": [
    "pdbl = PDBList()\n",
    "pdbl.retrieve_assembly_file('1ALD', 1, pdir='temp', file_format='pdb')"
   ]
  },
  {
   "cell_type": "code",
   "execution_count": 5,
   "id": "a7f5f905-33ae-4540-aea0-c3364d02d155",
   "metadata": {},
   "outputs": [
    {
     "name": "stdout",
     "output_type": "stream",
     "text": [
      "Downloading assembly (9) for PDB entry '1ald'...\n",
      "Download failed! Maybe the desired assembly does not exist: <urlopen error <urlopen error ftp error: error_perm(\"550 Can't change directory to 1ald.pdb9.gz: No such file or directory\")>>\n"
     ]
    },
    {
     "data": {
      "text/plain": [
       "'temp\\\\1ald.pdb9'"
      ]
     },
     "execution_count": 5,
     "metadata": {},
     "output_type": "execute_result"
    }
   ],
   "source": [
    "pdbl.retrieve_assembly_file('1ALD', 9, pdir='temp', file_format='pdb')"
   ]
  },
  {
   "cell_type": "code",
   "execution_count": null,
   "id": "6827e4b0-61dd-40c3-af43-de7f342bac94",
   "metadata": {},
   "outputs": [],
   "source": []
  },
  {
   "cell_type": "code",
   "execution_count": null,
   "id": "f1a96a7b-68b0-48ef-8e66-af0ef8cbf8f3",
   "metadata": {},
   "outputs": [],
   "source": []
  }
 ],
 "metadata": {
  "kernelspec": {
   "display_name": "Python 3 (ipykernel)",
   "language": "python",
   "name": "python3"
  },
  "language_info": {
   "codemirror_mode": {
    "name": "ipython",
    "version": 3
   },
   "file_extension": ".py",
   "mimetype": "text/x-python",
   "name": "python",
   "nbconvert_exporter": "python",
   "pygments_lexer": "ipython3",
   "version": "3.11.4"
  }
 },
 "nbformat": 4,
 "nbformat_minor": 5
}
