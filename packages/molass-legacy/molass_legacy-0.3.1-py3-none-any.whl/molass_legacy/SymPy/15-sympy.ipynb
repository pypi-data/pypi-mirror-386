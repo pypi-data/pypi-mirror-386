{
 "cells": [
  {
   "cell_type": "code",
   "execution_count": 1,
   "id": "fe7440fc-1ded-4b5f-8076-b3f68f656249",
   "metadata": {},
   "outputs": [],
   "source": [
    "from sympy import *\n",
    "init_printing(use_unicode=True)\n",
    "V, Beta = symbols('V, Beta')"
   ]
  },
  {
   "cell_type": "code",
   "execution_count": 2,
   "id": "17513556-1d76-4d67-922e-0c7a3333ffab",
   "metadata": {},
   "outputs": [
    {
     "data": {
      "image/png": "[encoded data removed]",
      "text/latex": [
       "$\\displaystyle \\left(e^{\\mathrm{B}} - 1\\right) e^{- V}$"
      ],
      "text/plain": [
       "⎛ Β    ⎞  -V\n",
       "⎝ℯ  - 1⎠⋅ℯ  "
      ]
     },
     "execution_count": 2,
     "metadata": {},
     "output_type": "execute_result"
    }
   ],
   "source": [
    "simplify(-exp(-V) + exp(Beta -V))"
   ]
  },
  {
   "cell_type": "code",
   "execution_count": null,
   "id": "dddca4a1-1ca5-4524-878a-b53ca2f0f043",
   "metadata": {},
   "outputs": [],
   "source": []
  }
 ],
 "metadata": {
  "kernelspec": {
   "display_name": "Python 3 (ipykernel)",
   "language": "python",
   "name": "python3"
  },
  "language_info": {
   "codemirror_mode": {
    "name": "ipython",
    "version": 3
   },
   "file_extension": ".py",
   "mimetype": "text/x-python",
   "name": "python",
   "nbconvert_exporter": "python",
   "pygments_lexer": "ipython3",
   "version": "3.12.3"
  }
 },
 "nbformat": 4,
 "nbformat_minor": 5
}
