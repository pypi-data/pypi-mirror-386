{
 "cells": [
  {
   "cell_type": "code",
   "execution_count": 3,
   "id": "5f190da7-487d-429b-aca0-1f5e7b91b367",
   "metadata": {},
   "outputs": [],
   "source": [
    "from sympy import exp, solve, symbols\n",
    "mu, sigma, mean, mode, var = symbols(\"mu, sigma, mean, mode, var\")\n",
    "# solve([mode - exp(mu - sigma**2), var - (exp(sigma**2) - 1)*exp(2*mu + sigma**2)], [mu, sigma], dict=True)\n",
    "# too long solution to use"
   ]
  },
  {
   "cell_type": "code",
   "execution_count": null,
   "id": "b23b1884-164a-433b-9276-c40fd2745741",
   "metadata": {},
   "outputs": [],
   "source": []
  }
 ],
 "metadata": {
  "kernelspec": {
   "display_name": "Python 3 (ipykernel)",
   "language": "python",
   "name": "python3"
  },
  "language_info": {
   "codemirror_mode": {
    "name": "ipython",
    "version": 3
   },
   "file_extension": ".py",
   "mimetype": "text/x-python",
   "name": "python",
   "nbconvert_exporter": "python",
   "pygments_lexer": "ipython3",
   "version": "3.12.3"
  }
 },
 "nbformat": 4,
 "nbformat_minor": 5
}
