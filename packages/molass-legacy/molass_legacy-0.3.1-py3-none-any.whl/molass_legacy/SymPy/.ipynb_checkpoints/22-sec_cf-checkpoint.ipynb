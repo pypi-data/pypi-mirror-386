{
 "cells": [
  {
   "cell_type": "code",
   "execution_count": 1,
   "id": "15e7e8e1-656f-4e16-bdb1-b552cb9d5e20",
   "metadata": {},
   "outputs": [],
   "source": [
    "from sympy import symbols, exp, diff, simplify, I\n",
    "w = symbols('w')"
   ]
  },
  {
   "cell_type": "code",
   "execution_count": 2,
   "id": "00bc1122-eb72-4148-a24a-8e144daab5af",
   "metadata": {},
   "outputs": [],
   "source": [
    "def raw_moment(cf, k):\n",
    "    return simplify((-I)**k * diff(cf, w, k).subs(dict(w=0)))"
   ]
  },
  {
   "cell_type": "code",
   "execution_count": 3,
   "id": "81c19a9e-79c5-4406-a6cd-e26917dcb8d9",
   "metadata": {},
   "outputs": [],
   "source": [
    "def central_moment(cf, k):\n",
    "    m = raw_moment(cf, 1)\n",
    "    return simplify(raw_moment(cf/exp(I*w*m),k))"
   ]
  },
  {
   "cell_type": "code",
   "execution_count": 4,
   "id": "d043b8c2-8f2b-4222-bfd4-b23ca85a75b8",
   "metadata": {},
   "outputs": [
    {
     "data": {
      "text/latex": [
       "$\\displaystyle e^{n_{1} \\left(-1 + \\frac{1}{- i t_{1} w + 1}\\right) + i t_{0} w + \\frac{\\left(n_{1} \\left(-1 + \\frac{1}{- i t_{1} w + 1}\\right) + i t_{0} w\\right)^{2}}{2 N_{0}}}$"
      ],
      "text/plain": [
       "exp(n1*(-1 + 1/(-I*t1*w + 1)) + I*t0*w + (n1*(-1 + 1/(-I*t1*w + 1)) + I*t0*w)**2/(2*N0))"
      ]
     },
     "execution_count": 4,
     "metadata": {},
     "output_type": "execute_result"
    }
   ],
   "source": [
    "n1, t1, t0, N0 = symbols('n1, t1, t0, N0')\n",
    "z = n1*(1/(1 - I*w*t1) - 1) + I*w*t0\n",
    "sec_cf = exp(z + 1/(2*N0)*z**2)\n",
    "sec_cf"
   ]
  },
  {
   "cell_type": "code",
   "execution_count": 5,
   "id": "9fa2dcbe-1553-408f-920b-f1ee7eb469a9",
   "metadata": {},
   "outputs": [
    {
     "data": {
      "text/latex": [
       "$\\displaystyle n_{1} t_{1} + t_{0}$"
      ],
      "text/plain": [
       "n1*t1 + t0"
      ]
     },
     "execution_count": 5,
     "metadata": {},
     "output_type": "execute_result"
    }
   ],
   "source": [
    "raw_moment(sec_cf, 1)"
   ]
  },
  {
   "cell_type": "code",
   "execution_count": 6,
   "id": "f68f06c4-ae90-4f9d-b995-be1f7d4029ba",
   "metadata": {},
   "outputs": [
    {
     "data": {
      "text/latex": [
       "$\\displaystyle 2 n_{1} t_{1}^{2} + \\frac{\\left(n_{1} t_{1} + t_{0}\\right)^{2}}{N_{0}}$"
      ],
      "text/plain": [
       "2*n1*t1**2 + (n1*t1 + t0)**2/N0"
      ]
     },
     "execution_count": 6,
     "metadata": {},
     "output_type": "execute_result"
    }
   ],
   "source": [
    "central_moment(sec_cf, 2)"
   ]
  },
  {
   "cell_type": "code",
   "execution_count": 7,
   "id": "2018fce7-395b-49d6-9f28-a7c65a8244a7",
   "metadata": {},
   "outputs": [
    {
     "data": {
      "text/latex": [
       "$\\displaystyle \\frac{6 n_{1} t_{1}^{2} \\left(N_{0} t_{1} + n_{1} t_{1} + t_{0}\\right)}{N_{0}}$"
      ],
      "text/plain": [
       "6*n1*t1**2*(N0*t1 + n1*t1 + t0)/N0"
      ]
     },
     "execution_count": 7,
     "metadata": {},
     "output_type": "execute_result"
    }
   ],
   "source": [
    "central_moment(sec_cf, 3)"
   ]
  },
  {
   "cell_type": "code",
   "execution_count": 8,
   "id": "d9c5ec46-0363-4849-adab-9a06c0d1d9ea",
   "metadata": {},
   "outputs": [
    {
     "data": {
      "text/latex": [
       "$\\displaystyle e^{\\frac{n_{1} \\left(-1 + \\frac{1}{- i t_{1} w + 1}\\right)}{2} + \\frac{n_{2} \\left(-1 + \\frac{1}{- i t_{2} w + 1}\\right)}{2} + i t_{0} w + \\frac{\\left(\\frac{n_{1} \\left(-1 + \\frac{1}{- i t_{1} w + 1}\\right)}{2} + \\frac{i t_{0} w}{2}\\right)^{2}}{2 N_{0}} + \\frac{\\left(\\frac{n_{2} \\left(-1 + \\frac{1}{- i t_{2} w + 1}\\right)}{2} + \\frac{i t_{0} w}{2}\\right)^{2}}{2 N_{0}}}$"
      ],
      "text/plain": [
       "exp(n1*(-1 + 1/(-I*t1*w + 1))/2 + n2*(-1 + 1/(-I*t2*w + 1))/2 + I*t0*w + (n1*(-1 + 1/(-I*t1*w + 1))/2 + I*t0*w/2)**2/(2*N0) + (n2*(-1 + 1/(-I*t2*w + 1))/2 + I*t0*w/2)**2/(2*N0))"
      ]
     },
     "execution_count": 8,
     "metadata": {},
     "output_type": "execute_result"
    }
   ],
   "source": [
    "n1, t1, n2, t2, t0, N0 = symbols('n1, t1, n2, t2, t0, N0')\n",
    "z1 = (n1*(1/(1 - I*w*t1) - 1) + I*w*t0)/2\n",
    "z2 = (n2*(1/(1 - I*w*t2) - 1) + I*w*t0)/2\n",
    "sec_cf2 = exp(z1 + 1/(2*N0)*z1**2 + z2 + 1/(2*N0)*z2**2)\n",
    "sec_cf2"
   ]
  },
  {
   "cell_type": "code",
   "execution_count": 9,
   "id": "10664402-572c-4997-a3de-092768282a12",
   "metadata": {},
   "outputs": [
    {
     "data": {
      "text/latex": [
       "$\\displaystyle \\frac{n_{1} t_{1}}{2} + \\frac{n_{2} t_{2}}{2} + t_{0}$"
      ],
      "text/plain": [
       "n1*t1/2 + n2*t2/2 + t0"
      ]
     },
     "execution_count": 9,
     "metadata": {},
     "output_type": "execute_result"
    }
   ],
   "source": [
    "raw_moment(sec_cf2, 1)"
   ]
  },
  {
   "cell_type": "code",
   "execution_count": 10,
   "id": "e2031e66-ecd9-4245-8ee1-d79f03e61f80",
   "metadata": {},
   "outputs": [
    {
     "data": {
      "text/latex": [
       "$\\displaystyle \\frac{4 N_{0} \\left(n_{1} t_{1}^{2} + n_{2} t_{2}^{2}\\right) + \\left(n_{1} t_{1} + t_{0}\\right)^{2} + \\left(n_{2} t_{2} + t_{0}\\right)^{2}}{4 N_{0}}$"
      ],
      "text/plain": [
       "(4*N0*(n1*t1**2 + n2*t2**2) + (n1*t1 + t0)**2 + (n2*t2 + t0)**2)/(4*N0)"
      ]
     },
     "execution_count": 10,
     "metadata": {},
     "output_type": "execute_result"
    }
   ],
   "source": [
    "central_moment(sec_cf2, 2)"
   ]
  },
  {
   "cell_type": "code",
   "execution_count": 11,
   "id": "8c1671c3-5166-415b-a720-6a7cdd071db9",
   "metadata": {},
   "outputs": [
    {
     "data": {
      "text/latex": [
       "$\\displaystyle e^{\\frac{n_{1} \\left(-1 + \\frac{1}{- i t_{1} w + 1}\\right)}{3} + \\frac{n_{2} \\left(-1 + \\frac{1}{- i t_{2} w + 1}\\right)}{3} + \\frac{n_{3} \\left(-1 + \\frac{1}{- i t_{3} w + 1}\\right)}{3} + i t_{0} w + \\frac{\\left(\\frac{n_{1} \\left(-1 + \\frac{1}{- i t_{1} w + 1}\\right)}{3} + \\frac{i t_{0} w}{3}\\right)^{2}}{2 N_{0}} + \\frac{\\left(\\frac{n_{2} \\left(-1 + \\frac{1}{- i t_{2} w + 1}\\right)}{3} + \\frac{i t_{0} w}{3}\\right)^{2}}{2 N_{0}} + \\frac{\\left(\\frac{n_{3} \\left(-1 + \\frac{1}{- i t_{3} w + 1}\\right)}{3} + \\frac{i t_{0} w}{3}\\right)^{2}}{2 N_{0}}}$"
      ],
      "text/plain": [
       "exp(n1*(-1 + 1/(-I*t1*w + 1))/3 + n2*(-1 + 1/(-I*t2*w + 1))/3 + n3*(-1 + 1/(-I*t3*w + 1))/3 + I*t0*w + (n1*(-1 + 1/(-I*t1*w + 1))/3 + I*t0*w/3)**2/(2*N0) + (n2*(-1 + 1/(-I*t2*w + 1))/3 + I*t0*w/3)**2/(2*N0) + (n3*(-1 + 1/(-I*t3*w + 1))/3 + I*t0*w/3)**2/(2*N0))"
      ]
     },
     "execution_count": 11,
     "metadata": {},
     "output_type": "execute_result"
    }
   ],
   "source": [
    "n1, t1, n2, t2, n3, t3, t0, N0 = symbols('n1, t1, n2, t2, n3, t3, t0, N0')\n",
    "z1 = (n1*(1/(1 - I*w*t1) - 1) + I*w*t0)/3\n",
    "z2 = (n2*(1/(1 - I*w*t2) - 1) + I*w*t0)/3\n",
    "z3 = (n3*(1/(1 - I*w*t3) - 1) + I*w*t0)/3\n",
    "sec_cf3 = exp(z1 + 1/(2*N0)*z1**2 + z2 + 1/(2*N0)*z2**2 + z3 + 1/(2*N0)*z3**2)\n",
    "sec_cf3"
   ]
  },
  {
   "cell_type": "code",
   "execution_count": 12,
   "id": "2289f102-1e1c-415c-b206-ecca8aae7413",
   "metadata": {},
   "outputs": [
    {
     "data": {
      "text/latex": [
       "$\\displaystyle \\frac{n_{1} t_{1}}{3} + \\frac{n_{2} t_{2}}{3} + \\frac{n_{3} t_{3}}{3} + t_{0}$"
      ],
      "text/plain": [
       "n1*t1/3 + n2*t2/3 + n3*t3/3 + t0"
      ]
     },
     "execution_count": 12,
     "metadata": {},
     "output_type": "execute_result"
    }
   ],
   "source": [
    "raw_moment(sec_cf3, 1)"
   ]
  },
  {
   "cell_type": "code",
   "execution_count": 13,
   "id": "032905fa-98a4-46c7-b9d1-21901798e91b",
   "metadata": {},
   "outputs": [
    {
     "data": {
      "text/latex": [
       "$\\displaystyle \\frac{6 N_{0} \\left(n_{1} t_{1}^{2} + n_{2} t_{2}^{2} + n_{3} t_{3}^{2}\\right) + \\left(n_{1} t_{1} + t_{0}\\right)^{2} + \\left(n_{2} t_{2} + t_{0}\\right)^{2} + \\left(n_{3} t_{3} + t_{0}\\right)^{2}}{9 N_{0}}$"
      ],
      "text/plain": [
       "(6*N0*(n1*t1**2 + n2*t2**2 + n3*t3**2) + (n1*t1 + t0)**2 + (n2*t2 + t0)**2 + (n3*t3 + t0)**2)/(9*N0)"
      ]
     },
     "execution_count": 13,
     "metadata": {},
     "output_type": "execute_result"
    }
   ],
   "source": [
    "central_moment(sec_cf3, 2)"
   ]
  },
  {
   "cell_type": "markdown",
   "id": "d017d571-1112-47e6-8af5-655d3b681605",
   "metadata": {},
   "source": [
    "$$ \\tilde{M_2} = \\sum_{i=1}^K 2 p_i n_i t_i^2 + \\frac{(p_i (n_i t_i + t_0))^2}{N_0} $$"
   ]
  },
  {
   "cell_type": "code",
   "execution_count": null,
   "id": "e13d1fff-aed1-434d-aeb5-eadfdec9524a",
   "metadata": {},
   "outputs": [],
   "source": []
  }
 ],
 "metadata": {
  "kernelspec": {
   "display_name": "Python 3 (ipykernel)",
   "language": "python",
   "name": "python3"
  },
  "language_info": {
   "codemirror_mode": {
    "name": "ipython",
    "version": 3
   },
   "file_extension": ".py",
   "mimetype": "text/x-python",
   "name": "python",
   "nbconvert_exporter": "python",
   "pygments_lexer": "ipython3",
   "version": "3.12.2"
  }
 },
 "nbformat": 4,
 "nbformat_minor": 5
}
