{
 "cells": [
  {
   "cell_type": "code",
   "execution_count": 1,
   "id": "d70d26d3-e155-4b21-bf28-294e2ae6d5e8",
   "metadata": {},
   "outputs": [],
   "source": [
    "from sympy import *\n",
    "U, tau, x, R, RPe, pi, Beta = symbols('U, tau, x, R, RPe, pi, Beta')\n",
    "init_printing(use_unicode=True)"
   ]
  },
  {
   "cell_type": "code",
   "execution_count": 2,
   "id": "6f40f4c8-5487-40f1-9be2-4d52fdf7f7f1",
   "metadata": {},
   "outputs": [
    {
     "data": {
      "image/png": "[encoded data removed]",
      "text/latex": [
       "$\\displaystyle - \\sin{\\left(x \\right)}$"
      ],
      "text/plain": [
       "-sin(x)"
      ]
     },
     "execution_count": 2,
     "metadata": {},
     "output_type": "execute_result"
    }
   ],
   "source": [
    "expr = cos(x)\n",
    "diff(expr, x)"
   ]
  },
  {
   "cell_type": "code",
   "execution_count": 4,
   "id": "85435c29-8f32-4537-a315-6a19d2a44bd3",
   "metadata": {},
   "outputs": [],
   "source": [
    "xi = x - tau/R\n",
    "V = xi**2/(4*tau/RPe)\n",
    "W = sqrt(pi*tau/RPe)\n",
    "Y = xi/(2*sqrt(tau/RPe))\n",
    "numerator = U*(exp(-V) + exp(Beta - V))\n",
    "denominator = W*(exp(Beta)*erfc(-Y) + erfc(-Y))\n",
    "edm_expr = numerator/denominator\n",
    "edm_expr_diff = diff(edm_expr, tau)"
   ]
  },
  {
   "cell_type": "code",
   "execution_count": 5,
   "id": "1e4b19e7-bd78-43d7-aa83-4e3841a69764",
   "metadata": {},
   "outputs": [
    {
     "data": {
      "image/png": "[encoded data removed]",
      "text/latex": [
       "$\\displaystyle \\frac{U \\left(\\left(\\frac{RPe \\left(x - \\frac{\\tau}{R}\\right)^{2}}{4 \\tau^{2}} + \\frac{RPe \\left(x - \\frac{\\tau}{R}\\right)}{2 R \\tau}\\right) e^{\\mathrm{B} - \\frac{RPe \\left(x - \\frac{\\tau}{R}\\right)^{2}}{4 \\tau}} + \\left(\\frac{RPe \\left(x - \\frac{\\tau}{R}\\right)^{2}}{4 \\tau^{2}} + \\frac{RPe \\left(x - \\frac{\\tau}{R}\\right)}{2 R \\tau}\\right) e^{- \\frac{RPe \\left(x - \\frac{\\tau}{R}\\right)^{2}}{4 \\tau}}\\right)}{\\sqrt{\\frac{\\pi \\tau}{RPe}} \\left(\\left(2 - \\operatorname{erfc}{\\left(\\frac{x - \\frac{\\tau}{R}}{2 \\sqrt{\\frac{\\tau}{RPe}}} \\right)}\\right) e^{\\mathrm{B}} - \\operatorname{erfc}{\\left(\\frac{x - \\frac{\\tau}{R}}{2 \\sqrt{\\frac{\\tau}{RPe}}} \\right)} + 2\\right)} + \\frac{U \\left(- \\frac{2 \\left(- \\frac{x - \\frac{\\tau}{R}}{4 \\tau \\sqrt{\\frac{\\tau}{RPe}}} - \\frac{1}{2 R \\sqrt{\\frac{\\tau}{RPe}}}\\right) e^{\\mathrm{B}} e^{- \\frac{RPe \\left(x - \\frac{\\tau}{R}\\right)^{2}}{4 \\tau}}}{\\sqrt{\\pi}} - \\frac{2 \\left(- \\frac{x - \\frac{\\tau}{R}}{4 \\tau \\sqrt{\\frac{\\tau}{RPe}}} - \\frac{1}{2 R \\sqrt{\\frac{\\tau}{RPe}}}\\right) e^{- \\frac{RPe \\left(x - \\frac{\\tau}{R}\\right)^{2}}{4 \\tau}}}{\\sqrt{\\pi}}\\right) \\left(e^{\\mathrm{B} - \\frac{RPe \\left(x - \\frac{\\tau}{R}\\right)^{2}}{4 \\tau}} + e^{- \\frac{RPe \\left(x - \\frac{\\tau}{R}\\right)^{2}}{4 \\tau}}\\right)}{\\sqrt{\\frac{\\pi \\tau}{RPe}} \\left(\\left(2 - \\operatorname{erfc}{\\left(\\frac{x - \\frac{\\tau}{R}}{2 \\sqrt{\\frac{\\tau}{RPe}}} \\right)}\\right) e^{\\mathrm{B}} - \\operatorname{erfc}{\\left(\\frac{x - \\frac{\\tau}{R}}{2 \\sqrt{\\frac{\\tau}{RPe}}} \\right)} + 2\\right)^{2}} - \\frac{U \\left(e^{\\mathrm{B} - \\frac{RPe \\left(x - \\frac{\\tau}{R}\\right)^{2}}{4 \\tau}} + e^{- \\frac{RPe \\left(x - \\frac{\\tau}{R}\\right)^{2}}{4 \\tau}}\\right)}{2 \\tau \\sqrt{\\frac{\\pi \\tau}{RPe}} \\left(\\left(2 - \\operatorname{erfc}{\\left(\\frac{x - \\frac{\\tau}{R}}{2 \\sqrt{\\frac{\\tau}{RPe}}} \\right)}\\right) e^{\\mathrm{B}} - \\operatorname{erfc}{\\left(\\frac{x - \\frac{\\tau}{R}}{2 \\sqrt{\\frac{\\tau}{RPe}}} \\right)} + 2\\right)}$"
      ],
      "text/plain": [
       "                                                                              \n",
       "                                                                              \n",
       "                                                                              \n",
       "                                                                              \n",
       "  ⎛                                             2                             \n",
       "  ⎜                                      ⎛    τ⎞                              \n",
       "  ⎜⎛           2              ⎞      RPe⋅⎜x - ─⎟    ⎛           2             \n",
       "  ⎜⎜    ⎛    τ⎞        ⎛    τ⎞⎟          ⎝    R⎠    ⎜    ⎛    τ⎞        ⎛    τ\n",
       "  ⎜⎜RPe⋅⎜x - ─⎟    RPe⋅⎜x - ─⎟⎟  Β - ────────────   ⎜RPe⋅⎜x - ─⎟    RPe⋅⎜x - ─\n",
       "  ⎜⎜    ⎝    R⎠        ⎝    R⎠⎟          4⋅τ        ⎜    ⎝    R⎠        ⎝    R\n",
       "U⋅⎜⎜──────────── + ───────────⎟⋅ℯ                 + ⎜──────────── + ──────────\n",
       "  ⎜⎜       2          2⋅R⋅τ   ⎟                     ⎜       2          2⋅R⋅τ  \n",
       "  ⎝⎝    4⋅τ                   ⎠                     ⎝    4⋅τ                  \n",
       "──────────────────────────────────────────────────────────────────────────────\n",
       "                            ⎛⎛        ⎛       τ   ⎞⎞          ⎛       τ   ⎞   \n",
       "                      _____ ⎜⎜        ⎜   x - ─   ⎟⎟          ⎜   x - ─   ⎟   \n",
       "                     ╱ π⋅τ  ⎜⎜        ⎜       R   ⎟⎟  Β       ⎜       R   ⎟   \n",
       "                    ╱  ─── ⋅⎜⎜2 - erfc⎜───────────⎟⎟⋅ℯ  - erfc⎜───────────⎟ + \n",
       "                  ╲╱   RPe  ⎜⎜        ⎜      _____⎟⎟          ⎜      _____⎟   \n",
       "                            ⎜⎜        ⎜     ╱  τ  ⎟⎟          ⎜     ╱  τ  ⎟   \n",
       "                            ⎜⎜        ⎜2⋅  ╱  ─── ⎟⎟          ⎜2⋅  ╱  ─── ⎟   \n",
       "                            ⎝⎝        ⎝  ╲╱   RPe ⎠⎠          ⎝  ╲╱   RPe ⎠   \n",
       "                                                                              \n",
       "\n",
       "                        ⎛                                                     \n",
       "                        ⎜                                               ⎛    τ\n",
       "                        ⎜                                          -RPe⋅⎜x - ─\n",
       "                        ⎜    ⎛          τ                    ⎞          ⎝    R\n",
       "                2 ⎞     ⎜    ⎜      x - ─                    ⎟     ───────────\n",
       "         ⎛    τ⎞  ⎟     ⎜    ⎜          R             1      ⎟  Β       4⋅τ   \n",
       " ⎞  -RPe⋅⎜x - ─⎟  ⎟     ⎜  2⋅⎜- ───────────── - ─────────────⎟⋅ℯ ⋅ℯ           \n",
       "⎞⎟       ⎝    R⎠  ⎟     ⎜    ⎜          _____           _____⎟                \n",
       "⎟⎟  ──────────────⎟     ⎜    ⎜         ╱  τ            ╱  τ  ⎟                \n",
       "⎠⎟       4⋅τ      ⎟     ⎜    ⎜  4⋅τ⋅  ╱  ───    2⋅R⋅  ╱  ─── ⎟                \n",
       "─⎟⋅ℯ              ⎟     ⎜    ⎝      ╲╱   RPe        ╲╱   RPe ⎠                \n",
       " ⎟                ⎟   U⋅⎜- ───────────────────────────────────────────────────\n",
       " ⎠                ⎠     ⎝                            √π                       \n",
       "─────────────────── + ────────────────────────────────────────────────────────\n",
       " ⎞                                                                            \n",
       " ⎟                                                                          ⎛⎛\n",
       " ⎟                                                                    _____ ⎜⎜\n",
       "2⎟                                                                   ╱ π⋅τ  ⎜⎜\n",
       " ⎟                                                                  ╱  ─── ⋅⎜⎜\n",
       " ⎟                                                                ╲╱   RPe  ⎜⎜\n",
       " ⎟                                                                          ⎜⎜\n",
       " ⎠                                                                          ⎜⎜\n",
       "                                                                            ⎝⎝\n",
       "\n",
       " 2                                                     2 ⎞                    \n",
       "⎞                                               ⎛    τ⎞  ⎟                    \n",
       "⎟                                          -RPe⋅⎜x - ─⎟  ⎟                    \n",
       "⎠       ⎛          τ                    ⎞       ⎝    R⎠  ⎟                    \n",
       "───     ⎜      x - ─                    ⎟  ──────────────⎟                    \n",
       "        ⎜          R             1      ⎟       4⋅τ      ⎟ ⎛                2 \n",
       "      2⋅⎜- ───────────── - ─────────────⎟⋅ℯ              ⎟ ⎜         ⎛    τ⎞  \n",
       "        ⎜          _____           _____⎟                ⎟ ⎜     RPe⋅⎜x - ─⎟  \n",
       "        ⎜         ╱  τ            ╱  τ  ⎟                ⎟ ⎜         ⎝    R⎠  \n",
       "        ⎜  4⋅τ⋅  ╱  ───    2⋅R⋅  ╱  ─── ⎟                ⎟ ⎜ Β - ──────────── \n",
       "        ⎝      ╲╱   RPe        ╲╱   RPe ⎠                ⎟ ⎜         4⋅τ      \n",
       "─── - ───────────────────────────────────────────────────⎟⋅⎝ℯ                 \n",
       "                               √π                        ⎠                    \n",
       "──────────────────────────────────────────────────────────────────────────────\n",
       "                                                  2                           \n",
       "        ⎛       τ   ⎞⎞          ⎛       τ   ⎞    ⎞                            \n",
       "        ⎜   x - ─   ⎟⎟          ⎜   x - ─   ⎟    ⎟                            \n",
       "        ⎜       R   ⎟⎟  Β       ⎜       R   ⎟    ⎟                            \n",
       "2 - erfc⎜───────────⎟⎟⋅ℯ  - erfc⎜───────────⎟ + 2⎟                            \n",
       "        ⎜      _____⎟⎟          ⎜      _____⎟    ⎟                            \n",
       "        ⎜     ╱  τ  ⎟⎟          ⎜     ╱  τ  ⎟    ⎟                            \n",
       "        ⎜2⋅  ╱  ─── ⎟⎟          ⎜2⋅  ╱  ─── ⎟    ⎟                            \n",
       "        ⎝  ╲╱   RPe ⎠⎠          ⎝  ╲╱   RPe ⎠    ⎠                            \n",
       "\n",
       "                                                                              \n",
       "                                                                              \n",
       "                                                                              \n",
       "                                                                              \n",
       "                                                                              \n",
       "               2 ⎞                                                            \n",
       "        ⎛    τ⎞  ⎟                  ⎛                2                2 ⎞     \n",
       "   -RPe⋅⎜x - ─⎟  ⎟                  ⎜         ⎛    τ⎞          ⎛    τ⎞  ⎟     \n",
       "        ⎝    R⎠  ⎟                  ⎜     RPe⋅⎜x - ─⎟     -RPe⋅⎜x - ─⎟  ⎟     \n",
       "   ──────────────⎟                  ⎜         ⎝    R⎠          ⎝    R⎠  ⎟     \n",
       "        4⋅τ      ⎟                  ⎜ Β - ────────────    ──────────────⎟     \n",
       "+ ℯ              ⎠                  ⎜         4⋅τ              4⋅τ      ⎟     \n",
       "                                  U⋅⎝ℯ                 + ℯ              ⎠     \n",
       "────────────────── - ─────────────────────────────────────────────────────────\n",
       "                                   ⎛⎛        ⎛       τ   ⎞⎞          ⎛       τ\n",
       "                             _____ ⎜⎜        ⎜   x - ─   ⎟⎟          ⎜   x - ─\n",
       "                            ╱ π⋅τ  ⎜⎜        ⎜       R   ⎟⎟  Β       ⎜       R\n",
       "                     2⋅τ⋅  ╱  ─── ⋅⎜⎜2 - erfc⎜───────────⎟⎟⋅ℯ  - erfc⎜────────\n",
       "                         ╲╱   RPe  ⎜⎜        ⎜      _____⎟⎟          ⎜      __\n",
       "                                   ⎜⎜        ⎜     ╱  τ  ⎟⎟          ⎜     ╱  \n",
       "                                   ⎜⎜        ⎜2⋅  ╱  ─── ⎟⎟          ⎜2⋅  ╱  ─\n",
       "                                   ⎝⎝        ⎝  ╲╱   RPe ⎠⎠          ⎝  ╲╱   R\n",
       "                                                                              \n",
       "\n",
       "         \n",
       "         \n",
       "         \n",
       "         \n",
       "         \n",
       "         \n",
       "         \n",
       "         \n",
       "         \n",
       "         \n",
       "         \n",
       "         \n",
       "         \n",
       "─────────\n",
       "   ⎞    ⎞\n",
       "   ⎟    ⎟\n",
       "   ⎟    ⎟\n",
       "───⎟ + 2⎟\n",
       "___⎟    ⎟\n",
       "τ  ⎟    ⎟\n",
       "── ⎟    ⎟\n",
       "Pe ⎠    ⎠\n",
       "         "
      ]
     },
     "execution_count": 5,
     "metadata": {},
     "output_type": "execute_result"
    }
   ],
   "source": [
    "edm_expr_diff"
   ]
  },
  {
   "cell_type": "code",
   "execution_count": 7,
   "id": "5e12f792-2317-4c96-b194-68364dc8bd4d",
   "metadata": {},
   "outputs": [],
   "source": [
    "# solve(edm_expr_diff, tau) # error"
   ]
  },
  {
   "cell_type": "code",
   "execution_count": null,
   "id": "e5aa863b-6657-454f-aa6f-72727a954051",
   "metadata": {},
   "outputs": [],
   "source": []
  }
 ],
 "metadata": {
  "kernelspec": {
   "display_name": "Python 3 (ipykernel)",
   "language": "python",
   "name": "python3"
  },
  "language_info": {
   "codemirror_mode": {
    "name": "ipython",
    "version": 3
   },
   "file_extension": ".py",
   "mimetype": "text/x-python",
   "name": "python",
   "nbconvert_exporter": "python",
   "pygments_lexer": "ipython3",
   "version": "3.12.3"
  }
 },
 "nbformat": 4,
 "nbformat_minor": 5
}
