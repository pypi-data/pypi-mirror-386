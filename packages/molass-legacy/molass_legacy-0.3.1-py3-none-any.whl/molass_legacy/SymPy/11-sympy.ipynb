{
 "cells": [
  {
   "cell_type": "code",
   "execution_count": 2,
   "id": "d1d36f9d-bf66-4ee6-ae6f-3da61c9e22ab",
   "metadata": {},
   "outputs": [],
   "source": [
    "from sympy import *\n",
    "x, y, z = symbols('x y z')\n",
    "init_printing(use_unicode=True)"
   ]
  },
  {
   "cell_type": "code",
   "execution_count": 3,
   "id": "8770985e-d372-453e-bf26-4d9f267b12d9",
   "metadata": {},
   "outputs": [
    {
     "data": {
      "image/png": "[encoded data removed]",
      "text/latex": [
       "$\\displaystyle - \\sin{\\left(x \\right)}$"
      ],
      "text/plain": [
       "-sin(x)"
      ]
     },
     "execution_count": 3,
     "metadata": {},
     "output_type": "execute_result"
    }
   ],
   "source": [
    "diff(cos(x), x)"
   ]
  },
  {
   "cell_type": "code",
   "execution_count": 4,
   "id": "e256a033-2690-4c20-ba88-4714550aece5",
   "metadata": {},
   "outputs": [
    {
     "data": {
      "image/png": "[encoded data removed]",
      "text/latex": [
       "$\\displaystyle 2 x e^{x^{2}}$"
      ],
      "text/plain": [
       "     ⎛ 2⎞\n",
       "     ⎝x ⎠\n",
       "2⋅x⋅ℯ    "
      ]
     },
     "execution_count": 4,
     "metadata": {},
     "output_type": "execute_result"
    }
   ],
   "source": [
    "diff(exp(x**2), x)"
   ]
  },
  {
   "cell_type": "code",
   "execution_count": 5,
   "id": "583ca8cc-bb43-45fd-8d18-0cd5ab6a294e",
   "metadata": {},
   "outputs": [],
   "source": [
    "expr = exp(x*y*z)"
   ]
  },
  {
   "cell_type": "code",
   "execution_count": 6,
   "id": "75fac6ef-e2ac-4ff4-80d0-74260b138244",
   "metadata": {},
   "outputs": [
    {
     "data": {
      "image/png": "[encoded data removed]",
      "text/latex": [
       "$\\displaystyle y z e^{x y z}$"
      ],
      "text/plain": [
       "     x⋅y⋅z\n",
       "y⋅z⋅ℯ     "
      ]
     },
     "execution_count": 6,
     "metadata": {},
     "output_type": "execute_result"
    }
   ],
   "source": [
    "diff(expr, x)"
   ]
  },
  {
   "cell_type": "code",
   "execution_count": 7,
   "id": "328a35e0-0a96-4cd5-83e1-f4d1f3754a6f",
   "metadata": {},
   "outputs": [
    {
     "data": {
      "image/png": "[encoded data removed]",
      "text/latex": [
       "$\\displaystyle - \\frac{2 e^{- x^{2}}}{\\sqrt{\\pi}}$"
      ],
      "text/plain": [
       "      2 \n",
       "    -x  \n",
       "-2⋅ℯ    \n",
       "────────\n",
       "   √π   "
      ]
     },
     "execution_count": 7,
     "metadata": {},
     "output_type": "execute_result"
    }
   ],
   "source": [
    "diff(erfc(x), x)"
   ]
  },
  {
   "cell_type": "code",
   "execution_count": 11,
   "id": "1543bd39-99e6-4e30-a63d-e283dfa9468a",
   "metadata": {},
   "outputs": [
    {
     "data": {
      "image/png": "[encoded data removed]",
      "text/latex": [
       "$\\displaystyle \\frac{E \\left(A e^{B - \\frac{E^{2}}{4 P t}} - A e^{- \\frac{E^{2}}{4 P t}}\\right) e^{- B} e^{- \\frac{E^{2} Q}{4 t}}}{2 \\sqrt{\\pi} P t \\sqrt{\\frac{t}{Q}} \\left(2 - \\operatorname{erfc}{\\left(\\frac{E}{2 \\sqrt{\\frac{t}{Q}}} \\right)}\\right)^{2}} + \\frac{\\left(\\frac{A E^{2} e^{B - \\frac{E^{2}}{4 P t}}}{4 P t^{2}} - \\frac{A E^{2} e^{- \\frac{E^{2}}{4 P t}}}{4 P t^{2}}\\right) e^{- B}}{P \\left(2 - \\operatorname{erfc}{\\left(\\frac{E}{2 \\sqrt{\\frac{t}{Q}}} \\right)}\\right)}$"
      ],
      "text/plain": [
       "                                          ⎛             2             2 ⎞    \n",
       "                                          ⎜            E            -E  ⎟    \n",
       "                                          ⎜      B - ─────         ─────⎟    \n",
       "  ⎛          2          2 ⎞        2      ⎜   2      4⋅P⋅t      2  4⋅P⋅t⎟    \n",
       "  ⎜         E         -E  ⎟      -E ⋅Q    ⎜A⋅E ⋅ℯ            A⋅E ⋅ℯ     ⎟  -B\n",
       "  ⎜   B - ─────      ─────⎟      ──────   ⎜─────────────── - ───────────⎟⋅ℯ  \n",
       "  ⎜       4⋅P⋅t      4⋅P⋅t⎟  -B   4⋅t     ⎜          2               2  ⎟    \n",
       "E⋅⎝A⋅ℯ          - A⋅ℯ     ⎠⋅ℯ  ⋅ℯ         ⎝     4⋅P⋅t           4⋅P⋅t   ⎠    \n",
       "─────────────────────────────────────── + ───────────────────────────────────\n",
       "             ___                      2           ⎛        ⎛    E    ⎞⎞      \n",
       "            ╱ t  ⎛        ⎛    E    ⎞⎞          P⋅⎜2 - erfc⎜─────────⎟⎟      \n",
       "2⋅√π⋅P⋅t⋅  ╱  ─ ⋅⎜2 - erfc⎜─────────⎟⎟            ⎜        ⎜      ___⎟⎟      \n",
       "         ╲╱   Q  ⎜        ⎜      ___⎟⎟            ⎜        ⎜     ╱ t ⎟⎟      \n",
       "                 ⎜        ⎜     ╱ t ⎟⎟            ⎜        ⎜2⋅  ╱  ─ ⎟⎟      \n",
       "                 ⎜        ⎜2⋅  ╱  ─ ⎟⎟            ⎝        ⎝  ╲╱   Q ⎠⎠      \n",
       "                 ⎝        ⎝  ╲╱   Q ⎠⎠                                       "
      ]
     },
     "execution_count": 11,
     "metadata": {},
     "output_type": "execute_result"
    }
   ],
   "source": [
    "t, A, B, C, D, E, P, Q = symbols('t A B C D E P Q')\n",
    "c_expr = (-A*exp(-E**2/(4*P*t)) + A*exp(B - E**2/(4*P*t)))/(P*exp(B)*erfc(-E/(2*sqrt(t/Q))))\n",
    "diff(c_expr, t)"
   ]
  },
  {
   "cell_type": "code",
   "execution_count": 10,
   "id": "2a8ca1b4-61ec-45b5-a1ae-87c976e6ed39",
   "metadata": {},
   "outputs": [],
   "source": [
    "Pe = symbols('Pe')"
   ]
  },
  {
   "cell_type": "code",
   "execution_count": null,
   "id": "e2bbd5ea-7168-41f9-9e40-1d22c908b3db",
   "metadata": {},
   "outputs": [],
   "source": []
  }
 ],
 "metadata": {
  "kernelspec": {
   "display_name": "Python 3 (ipykernel)",
   "language": "python",
   "name": "python3"
  },
  "language_info": {
   "codemirror_mode": {
    "name": "ipython",
    "version": 3
   },
   "file_extension": ".py",
   "mimetype": "text/x-python",
   "name": "python",
   "nbconvert_exporter": "python",
   "pygments_lexer": "ipython3",
   "version": "3.12.3"
  }
 },
 "nbformat": 4,
 "nbformat_minor": 5
}
