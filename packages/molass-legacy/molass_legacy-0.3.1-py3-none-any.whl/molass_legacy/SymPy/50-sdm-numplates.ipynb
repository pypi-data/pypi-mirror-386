{
 "cells": [
  {
   "cell_type": "code",
   "execution_count": 3,
   "id": "c6109ae9-e191-4450-91f9-5daf5f267e1f",
   "metadata": {},
   "outputs": [],
   "source": [
    "from sympy import *\n",
    "N, tR, s, s1, N1, s0, N0, a, b = symbols('N, tR, s, s1, N1, s0, N0, a, b')"
   ]
  },
  {
   "cell_type": "code",
   "execution_count": 4,
   "id": "361a9119-74c3-4442-a961-61c9be298889",
   "metadata": {},
   "outputs": [
    {
     "data": {
      "text/plain": [
       "{N0: N*a**2 + N}"
      ]
     },
     "execution_count": 4,
     "metadata": {},
     "output_type": "execute_result"
    }
   ],
   "source": [
    "solve([N0/(a**2 + 1) - N], [N0])"
   ]
  },
  {
   "cell_type": "code",
   "execution_count": null,
   "id": "f29aa655-2c08-4a21-b8c0-ac19fa220d21",
   "metadata": {},
   "outputs": [],
   "source": []
  }
 ],
 "metadata": {
  "kernelspec": {
   "display_name": "Python 3 (ipykernel)",
   "language": "python",
   "name": "python3"
  },
  "language_info": {
   "codemirror_mode": {
    "name": "ipython",
    "version": 3
   },
   "file_extension": ".py",
   "mimetype": "text/x-python",
   "name": "python",
   "nbconvert_exporter": "python",
   "pygments_lexer": "ipython3",
   "version": "3.12.3"
  }
 },
 "nbformat": 4,
 "nbformat_minor": 5
}
