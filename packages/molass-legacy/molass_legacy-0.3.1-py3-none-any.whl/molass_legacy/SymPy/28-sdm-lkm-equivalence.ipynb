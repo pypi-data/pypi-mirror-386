{
 "cells": [
  {
   "cell_type": "code",
   "execution_count": 1,
   "id": "b4df4966-ad44-42be-bccb-c53cc2551db2",
   "metadata": {},
   "outputs": [],
   "source": [
    "from sympy import symbols, Eq, Function, dsolve"
   ]
  },
  {
   "cell_type": "code",
   "execution_count": 2,
   "id": "ab6067c7-d7e6-4d73-8391-cf2878399d6c",
   "metadata": {},
   "outputs": [
    {
     "data": {
      "text/plain": [
       "[Eq(f(x), -C1*exp(-x) + C2*exp(x)), Eq(g(x), C1*exp(-x) + C2*exp(x))]"
      ]
     },
     "execution_count": 2,
     "metadata": {},
     "output_type": "execute_result"
    }
   ],
   "source": [
    "f, g = symbols(\"f g\", cls=Function)\n",
    "x = symbols(\"x\")\n",
    "eqs = [Eq(f(x).diff(x), g(x)), Eq(g(x).diff(x), f(x))]\n",
    "dsolve(eqs, [f(x), g(x)])"
   ]
  },
  {
   "cell_type": "code",
   "execution_count": 3,
   "id": "fff83ec6-b1e8-418e-9f24-49c01a0868a6",
   "metadata": {},
   "outputs": [
    {
     "data": {
      "text/plain": [
       "[Eq(f(x), (1 + 3*exp(2))*exp(x)/(1 + exp(4)) - (-exp(4) + 3*exp(2))*exp(-x)/(1 + exp(4))),\n",
       " Eq(g(x), (1 + 3*exp(2))*exp(x)/(1 + exp(4)) + (-exp(4) + 3*exp(2))*exp(-x)/(1 + exp(4)))]"
      ]
     },
     "execution_count": 3,
     "metadata": {},
     "output_type": "execute_result"
    }
   ],
   "source": [
    "dsolve(eqs, [f(x), g(x)], ics={f(0): 1, g(2): 3})"
   ]
  },
  {
   "cell_type": "code",
   "execution_count": 4,
   "id": "83352c43-85c6-4fda-bb2a-d354252f3c0c",
   "metadata": {},
   "outputs": [
    {
     "data": {
      "text/latex": [
       "$\\displaystyle f{\\left(x \\right)} = \\frac{2 e^{x}}{e}$"
      ],
      "text/plain": [
       "Eq(f(x), 2*exp(-1)*exp(x))"
      ]
     },
     "execution_count": 4,
     "metadata": {},
     "output_type": "execute_result"
    }
   ],
   "source": [
    "eqn = Eq(f(x).diff(x), f(x))\n",
    "dsolve(eqn, f(x), ics={f(x).diff(x).subs(x, 1): 2})"
   ]
  },
  {
   "cell_type": "code",
   "execution_count": 5,
   "id": "ba1ceb71-1acd-4a12-baec-5d47e15c6640",
   "metadata": {},
   "outputs": [
    {
     "data": {
      "text/latex": [
       "$\\displaystyle y{\\left(t \\right)}$"
      ],
      "text/plain": [
       "y(t)"
      ]
     },
     "execution_count": 5,
     "metadata": {},
     "output_type": "execute_result"
    }
   ],
   "source": [
    "from sympy import symbols, Function, dsolve\n",
    "t = symbols('t')\n",
    "y = Function('y')(t)\n",
    "y"
   ]
  },
  {
   "cell_type": "code",
   "execution_count": 6,
   "id": "6f295509-ae5e-46b2-92eb-430391cd0220",
   "metadata": {},
   "outputs": [
    {
     "data": {
      "text/latex": [
       "$\\displaystyle y{\\left(t \\right)} + 2 \\frac{d}{d t} y{\\left(t \\right)} + \\frac{d^{2}}{d t^{2}} y{\\left(t \\right)}$"
      ],
      "text/plain": [
       "y(t) + 2*Derivative(y(t), t) + Derivative(y(t), (t, 2))"
      ]
     },
     "execution_count": 6,
     "metadata": {},
     "output_type": "execute_result"
    }
   ],
   "source": [
    "yp = y.diff(t)\n",
    "ypp = yp.diff(t)\n",
    "eq = ypp + 2*yp + y\n",
    "eq"
   ]
  },
  {
   "cell_type": "code",
   "execution_count": 7,
   "id": "04b4c73a-d043-406a-9ca6-34278137e8a7",
   "metadata": {},
   "outputs": [
    {
     "data": {
      "text/latex": [
       "$\\displaystyle y{\\left(t \\right)} = \\left(C_{1} + C_{2} t\\right) e^{- t}$"
      ],
      "text/plain": [
       "Eq(y(t), (C1 + C2*t)*exp(-t))"
      ]
     },
     "execution_count": 7,
     "metadata": {},
     "output_type": "execute_result"
    }
   ],
   "source": [
    "dsolve(eq, y)"
   ]
  },
  {
   "cell_type": "code",
   "execution_count": 8,
   "id": "efb68eca-5917-4d88-bbb1-8f1d3ef6f56e",
   "metadata": {},
   "outputs": [
    {
     "data": {
      "text/latex": [
       "$\\displaystyle y{\\left(t \\right)} = C_{2} t e^{- t}$"
      ],
      "text/plain": [
       "Eq(y(t), C2*t*exp(-t))"
      ]
     },
     "execution_count": 8,
     "metadata": {},
     "output_type": "execute_result"
    }
   ],
   "source": [
    "dsolve(eq, y, ics={y.subs(t, 0): 0})"
   ]
  },
  {
   "cell_type": "code",
   "execution_count": null,
   "id": "1a188997-be80-4abf-b3ec-c5b1c609251a",
   "metadata": {},
   "outputs": [],
   "source": []
  }
 ],
 "metadata": {
  "kernelspec": {
   "display_name": "Python 3 (ipykernel)",
   "language": "python",
   "name": "python3"
  },
  "language_info": {
   "codemirror_mode": {
    "name": "ipython",
    "version": 3
   },
   "file_extension": ".py",
   "mimetype": "text/x-python",
   "name": "python",
   "nbconvert_exporter": "python",
   "pygments_lexer": "ipython3",
   "version": "3.12.3"
  }
 },
 "nbformat": 4,
 "nbformat_minor": 5
}
