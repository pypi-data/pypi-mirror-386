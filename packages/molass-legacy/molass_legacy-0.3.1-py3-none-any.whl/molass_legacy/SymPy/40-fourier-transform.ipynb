{
 "cells": [
  {
   "cell_type": "code",
   "execution_count": 1,
   "id": "8728554c-b82d-4f13-a328-ed6450e7eb4b",
   "metadata": {},
   "outputs": [],
   "source": [
    "from sympy import fourier_transform, exp\n",
    "from sympy.abc import x, k"
   ]
  },
  {
   "cell_type": "code",
   "execution_count": 2,
   "id": "6728c68d-f3ad-4371-946b-87fd1942ce46",
   "metadata": {},
   "outputs": [
    {
     "data": {
      "text/latex": [
       "$\\displaystyle \\sqrt{\\pi} e^{- \\pi^{2} k^{2}}$"
      ],
      "text/plain": [
       "sqrt(pi)*exp(-pi**2*k**2)"
      ]
     },
     "execution_count": 2,
     "metadata": {},
     "output_type": "execute_result"
    }
   ],
   "source": [
    "fourier_transform(exp(-x**2), x, k)"
   ]
  },
  {
   "cell_type": "code",
   "execution_count": 3,
   "id": "462e0790-1bb6-4958-907a-0a8fc910fb18",
   "metadata": {},
   "outputs": [
    {
     "data": {
      "text/latex": [
       "$\\displaystyle e^{- x^{2}}$"
      ],
      "text/plain": [
       "exp(-x**2)"
      ]
     },
     "execution_count": 3,
     "metadata": {},
     "output_type": "execute_result"
    }
   ],
   "source": [
    "from sympy import inverse_fourier_transform, exp, sqrt, pi \n",
    "inverse_fourier_transform(sqrt(pi)*exp(-(pi * k)**2), k, x) "
   ]
  },
  {
   "cell_type": "code",
   "execution_count": null,
   "id": "8c08fd06-604a-45c9-b1df-1c9708f31e0f",
   "metadata": {},
   "outputs": [],
   "source": []
  }
 ],
 "metadata": {
  "kernelspec": {
   "display_name": "Python 3 (ipykernel)",
   "language": "python",
   "name": "python3"
  },
  "language_info": {
   "codemirror_mode": {
    "name": "ipython",
    "version": 3
   },
   "file_extension": ".py",
   "mimetype": "text/x-python",
   "name": "python",
   "nbconvert_exporter": "python",
   "pygments_lexer": "ipython3",
   "version": "3.12.3"
  }
 },
 "nbformat": 4,
 "nbformat_minor": 5
}
