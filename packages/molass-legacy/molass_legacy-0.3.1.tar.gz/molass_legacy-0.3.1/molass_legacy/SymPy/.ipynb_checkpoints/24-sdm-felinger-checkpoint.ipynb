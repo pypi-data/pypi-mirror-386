{
 "cells": [
  {
   "cell_type": "code",
   "execution_count": 1,
   "id": "15e7e8e1-656f-4e16-bdb1-b552cb9d5e20",
   "metadata": {},
   "outputs": [],
   "source": [
    "from sympy import symbols, exp, diff, simplify, I\n",
    "w = symbols('w')"
   ]
  },
  {
   "cell_type": "code",
   "execution_count": 2,
   "id": "00bc1122-eb72-4148-a24a-8e144daab5af",
   "metadata": {},
   "outputs": [],
   "source": [
    "def raw_moment(cf, k):\n",
    "    return simplify((-I)**k * diff(cf, w, k).subs(dict(w=0)))"
   ]
  },
  {
   "cell_type": "code",
   "execution_count": 3,
   "id": "81c19a9e-79c5-4406-a6cd-e26917dcb8d9",
   "metadata": {},
   "outputs": [],
   "source": [
    "def central_moment(cf, k):\n",
    "    m = raw_moment(cf, 1)\n",
    "    return simplify(raw_moment(cf/exp(I*w*m),k))"
   ]
  },
  {
   "cell_type": "code",
   "execution_count": 4,
   "id": "d043b8c2-8f2b-4222-bfd4-b23ca85a75b8",
   "metadata": {},
   "outputs": [
    {
     "data": {
      "text/latex": [
       "$\\displaystyle e^{n_{1} \\left(-1 + \\frac{1}{- i t_{1} w + 1}\\right) + i t_{0} w + \\frac{\\left(n_{1} \\left(-1 + \\frac{1}{- i t_{1} w + 1}\\right) + i t_{0} w\\right)^{2}}{2 N_{0}}}$"
      ],
      "text/plain": [
       "exp(n1*(-1 + 1/(-I*t1*w + 1)) + I*t0*w + (n1*(-1 + 1/(-I*t1*w + 1)) + I*t0*w)**2/(2*N0))"
      ]
     },
     "execution_count": 4,
     "metadata": {},
     "output_type": "execute_result"
    }
   ],
   "source": [
    "n1, t1, t0, N0 = symbols('n1, t1, t0, N0')\n",
    "z = n1*(1/(1 - I*w*t1) - 1) + I*w*t0\n",
    "sec_cf = exp(z + 1/(2*N0)*z**2)\n",
    "sec_cf"
   ]
  },
  {
   "cell_type": "code",
   "execution_count": 5,
   "id": "9fa2dcbe-1553-408f-920b-f1ee7eb469a9",
   "metadata": {},
   "outputs": [
    {
     "data": {
      "text/latex": [
       "$\\displaystyle n_{1} t_{1} + t_{0}$"
      ],
      "text/plain": [
       "n1*t1 + t0"
      ]
     },
     "execution_count": 5,
     "metadata": {},
     "output_type": "execute_result"
    }
   ],
   "source": [
    "raw_moment(sec_cf, 1)"
   ]
  },
  {
   "cell_type": "code",
   "execution_count": 6,
   "id": "f68f06c4-ae90-4f9d-b995-be1f7d4029ba",
   "metadata": {},
   "outputs": [
    {
     "data": {
      "text/latex": [
       "$\\displaystyle 2 n_{1} t_{1}^{2} + \\frac{\\left(n_{1} t_{1} + t_{0}\\right)^{2}}{N_{0}}$"
      ],
      "text/plain": [
       "2*n1*t1**2 + (n1*t1 + t0)**2/N0"
      ]
     },
     "execution_count": 6,
     "metadata": {},
     "output_type": "execute_result"
    }
   ],
   "source": [
    "central_moment(sec_cf, 2)"
   ]
  },
  {
   "cell_type": "code",
   "execution_count": 7,
   "id": "2018fce7-395b-49d6-9f28-a7c65a8244a7",
   "metadata": {},
   "outputs": [
    {
     "data": {
      "text/latex": [
       "$\\displaystyle \\frac{6 n_{1} t_{1}^{2} \\left(N_{0} t_{1} + n_{1} t_{1} + t_{0}\\right)}{N_{0}}$"
      ],
      "text/plain": [
       "6*n1*t1**2*(N0*t1 + n1*t1 + t0)/N0"
      ]
     },
     "execution_count": 7,
     "metadata": {},
     "output_type": "execute_result"
    }
   ],
   "source": [
    "central_moment(sec_cf, 3)"
   ]
  },
  {
   "cell_type": "code",
   "execution_count": 8,
   "id": "e13d1fff-aed1-434d-aeb5-eadfdec9524a",
   "metadata": {},
   "outputs": [
    {
     "data": {
      "text/latex": [
       "$\\displaystyle e^{N_{0} \\cdot \\left(1 - \\sqrt{1 - \\frac{2 i w \\left(\\frac{n_{1} t_{1}}{- i t_{1} w + 1} + t_{0}\\right)}{N_{0}}}\\right)}$"
      ],
      "text/plain": [
       "exp(N0*(1 - sqrt(1 - 2*I*w*(n1*t1/(-I*t1*w + 1) + t0)/N0)))"
      ]
     },
     "execution_count": 8,
     "metadata": {},
     "output_type": "execute_result"
    }
   ],
   "source": [
    "from sympy import sqrt\n",
    "sdm_cf = exp(N0*(1 - sqrt(1 - 2*I*w/N0*(n1*t1/(1 - I*w*t1) + t0))))\n",
    "sdm_cf"
   ]
  },
  {
   "cell_type": "code",
   "execution_count": 9,
   "id": "babc0816-06aa-45d0-bf2a-49ec6b3108b8",
   "metadata": {},
   "outputs": [
    {
     "data": {
      "text/latex": [
       "$\\displaystyle n_{1} t_{1} + t_{0}$"
      ],
      "text/plain": [
       "n1*t1 + t0"
      ]
     },
     "execution_count": 9,
     "metadata": {},
     "output_type": "execute_result"
    }
   ],
   "source": [
    "raw_moment(sdm_cf, 1)"
   ]
  },
  {
   "cell_type": "code",
   "execution_count": 10,
   "id": "851ac371-344c-47ac-b747-e58bd9307114",
   "metadata": {},
   "outputs": [
    {
     "data": {
      "text/latex": [
       "$\\displaystyle 2 n_{1} t_{1}^{2} + \\frac{\\left(n_{1} t_{1} + t_{0}\\right)^{2}}{N_{0}}$"
      ],
      "text/plain": [
       "2*n1*t1**2 + (n1*t1 + t0)**2/N0"
      ]
     },
     "execution_count": 10,
     "metadata": {},
     "output_type": "execute_result"
    }
   ],
   "source": [
    "central_moment(sdm_cf, 2)"
   ]
  },
  {
   "cell_type": "code",
   "execution_count": 11,
   "id": "ff6f2d13-8a81-4bca-889f-15d65f4a828e",
   "metadata": {},
   "outputs": [
    {
     "data": {
      "text/latex": [
       "$\\displaystyle \\frac{3 \\cdot \\left(2 N_{0}^{2} n_{1} t_{1}^{3} + 2 N_{0} n_{1}^{2} t_{1}^{3} + 2 N_{0} n_{1} t_{0} t_{1}^{2} + n_{1}^{3} t_{1}^{3} + 3 n_{1}^{2} t_{0} t_{1}^{2} + 3 n_{1} t_{0}^{2} t_{1} + t_{0}^{3}\\right)}{N_{0}^{2}}$"
      ],
      "text/plain": [
       "3*(2*N0**2*n1*t1**3 + 2*N0*n1**2*t1**3 + 2*N0*n1*t0*t1**2 + n1**3*t1**3 + 3*n1**2*t0*t1**2 + 3*n1*t0**2*t1 + t0**3)/N0**2"
      ]
     },
     "execution_count": 11,
     "metadata": {},
     "output_type": "execute_result"
    }
   ],
   "source": [
    "central_moment(sdm_cf, 3)"
   ]
  },
  {
   "cell_type": "code",
   "execution_count": 12,
   "id": "9bbfcc44-f3d9-468a-ab3a-3dac2a9a9afb",
   "metadata": {},
   "outputs": [
    {
     "data": {
      "text/latex": [
       "$\\displaystyle \\frac{3 \\cdot \\left(2 N_{0}^{2} n_{1} t_{1}^{3} + 2 N_{0} n_{1}^{2} t_{1}^{3} + 2 N_{0} n_{1} t_{0} t_{1}^{2} + n_{1}^{3} t_{1}^{3} + 3 n_{1}^{2} t_{0} t_{1}^{2} + 3 n_{1} t_{0}^{2} t_{1} + t_{0}^{3}\\right)}{N_{0}^{2}}$"
      ],
      "text/plain": [
       "3*(2*N0**2*n1*t1**3 + 2*N0*n1**2*t1**3 + 2*N0*n1*t0*t1**2 + n1**3*t1**3 + 3*n1**2*t0*t1**2 + 3*n1*t0**2*t1 + t0**3)/N0**2"
      ]
     },
     "execution_count": 12,
     "metadata": {},
     "output_type": "execute_result"
    }
   ],
   "source": [
    "simplify(central_moment(sdm_cf, 3))"
   ]
  },
  {
   "cell_type": "code",
   "execution_count": 13,
   "id": "b84c6b6c-ec30-4bc2-b4e0-99929f9be0e1",
   "metadata": {},
   "outputs": [
    {
     "data": {
      "text/latex": [
       "$\\displaystyle e^{- N_{0} \\left(\\sqrt{\\frac{N_{0} \\left(i t_{1} w - 1\\right) - 2 i w \\left(- n_{1} t_{1} + t_{0} \\left(i t_{1} w - 1\\right)\\right)}{N_{0} \\left(i t_{1} w - 1\\right)}} - 1\\right)}$"
      ],
      "text/plain": [
       "exp(-N0*(sqrt((N0*(I*t1*w - 1) - 2*I*w*(-n1*t1 + t0*(I*t1*w - 1)))/(N0*(I*t1*w - 1))) - 1))"
      ]
     },
     "execution_count": 13,
     "metadata": {},
     "output_type": "execute_result"
    }
   ],
   "source": [
    "simplify(sdm_cf)"
   ]
  },
  {
   "cell_type": "code",
   "execution_count": null,
   "id": "8c720ae3-2148-4d1f-a704-a9400a58851b",
   "metadata": {},
   "outputs": [],
   "source": []
  }
 ],
 "metadata": {
  "kernelspec": {
   "display_name": "Python 3 (ipykernel)",
   "language": "python",
   "name": "python3"
  },
  "language_info": {
   "codemirror_mode": {
    "name": "ipython",
    "version": 3
   },
   "file_extension": ".py",
   "mimetype": "text/x-python",
   "name": "python",
   "nbconvert_exporter": "python",
   "pygments_lexer": "ipython3",
   "version": "3.12.4"
  }
 },
 "nbformat": 4,
 "nbformat_minor": 5
}
