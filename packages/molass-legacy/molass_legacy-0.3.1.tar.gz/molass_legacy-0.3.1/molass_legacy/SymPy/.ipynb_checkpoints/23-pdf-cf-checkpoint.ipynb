{
 "cells": [
  {
   "cell_type": "markdown",
   "id": "b93ce110-d9b8-4623-870c-641fde65c7cd",
   "metadata": {},
   "source": [
    "[Characteristic Functions and sympy.stats](https://matthewrocklin.com/blog/work/2012/12/03/Characteristic-Functions)"
   ]
  },
  {
   "cell_type": "code",
   "execution_count": 1,
   "id": "91353052-cd2b-44be-add2-fa602a24481a",
   "metadata": {},
   "outputs": [
    {
     "data": {
      "text/latex": [
       "$\\displaystyle e^{t \\left(i \\mu - \\frac{\\sigma^{2} t}{2}\\right)}$"
      ],
      "text/plain": [
       "exp(t*(I*mu - sigma**2*t/2))"
      ]
     },
     "execution_count": 1,
     "metadata": {},
     "output_type": "execute_result"
    }
   ],
   "source": [
    "from sympy import Symbol, simplify, exp, I\n",
    "from sympy.stats import *\n",
    "mu = Symbol('mu', bounded=True)\n",
    "sigma = Symbol('sigma', positive=True, bounded=True)\n",
    "t = Symbol('t', positive=True)\n",
    "\n",
    "X = Normal('X', mu, sigma)  # Normal random variable\n",
    "simplify(E(exp(I*t*X)))     # Expectation of exp(I*t*X)"
   ]
  },
  {
   "cell_type": "markdown",
   "id": "da34f604-5d40-493c-99bb-65e6ac4446fc",
   "metadata": {},
   "source": [
    "[sympy.stats](https://omz-software.com/pythonista/sympy/modules/stats.html)"
   ]
  },
  {
   "cell_type": "code",
   "execution_count": 2,
   "id": "f78710f3-c508-4007-bac6-39d1a546556a",
   "metadata": {},
   "outputs": [],
   "source": [
    "l = Symbol(\"lambda\", positive=True)\n",
    "z = Symbol(\"z\")"
   ]
  },
  {
   "cell_type": "code",
   "execution_count": 3,
   "id": "00186fce-7faf-42c6-9329-9bdfe21d1a51",
   "metadata": {},
   "outputs": [],
   "source": [
    "X = Exponential(\"x\", l)"
   ]
  },
  {
   "cell_type": "code",
   "execution_count": 4,
   "id": "864a4aab-e34a-4a2e-a745-528e1c3229d4",
   "metadata": {},
   "outputs": [
    {
     "data": {
      "text/latex": [
       "$\\displaystyle \\frac{\\lambda}{\\lambda - i t}$"
      ],
      "text/plain": [
       "lambda/(lambda - I*t)"
      ]
     },
     "execution_count": 4,
     "metadata": {},
     "output_type": "execute_result"
    }
   ],
   "source": [
    "simplify(E(exp(I*t*X))) "
   ]
  },
  {
   "cell_type": "code",
   "execution_count": 5,
   "id": "c599f0ea-0338-428f-81d1-7c49515bc008",
   "metadata": {},
   "outputs": [],
   "source": [
    "rate = Symbol(\"lambda\", positive = True) \n",
    "X = Poisson(\"x\", rate) "
   ]
  },
  {
   "cell_type": "code",
   "execution_count": 6,
   "id": "8744f60c-5ef1-4f94-846f-727754f37459",
   "metadata": {},
   "outputs": [
    {
     "data": {
      "text/latex": [
       "$\\displaystyle e^{- \\lambda} \\sum_{x=0}^{\\infty} \\frac{\\lambda^{x} e^{i t x}}{\\Gamma\\left(x + 1\\right)}$"
      ],
      "text/plain": [
       "exp(-lambda)*Sum(lambda**x*exp(I*t*x)/gamma(x + 1), (x, 0, oo))"
      ]
     },
     "execution_count": 6,
     "metadata": {},
     "output_type": "execute_result"
    }
   ],
   "source": [
    "simplify(E(exp(I*t*X))) "
   ]
  },
  {
   "cell_type": "code",
   "execution_count": null,
   "id": "b555b4aa-9d34-4eb6-8115-c52447c91abd",
   "metadata": {},
   "outputs": [],
   "source": []
  }
 ],
 "metadata": {
  "kernelspec": {
   "display_name": "Python 3 (ipykernel)",
   "language": "python",
   "name": "python3"
  },
  "language_info": {
   "codemirror_mode": {
    "name": "ipython",
    "version": 3
   },
   "file_extension": ".py",
   "mimetype": "text/x-python",
   "name": "python",
   "nbconvert_exporter": "python",
   "pygments_lexer": "ipython3",
   "version": "3.12.3"
  }
 },
 "nbformat": 4,
 "nbformat_minor": 5
}
