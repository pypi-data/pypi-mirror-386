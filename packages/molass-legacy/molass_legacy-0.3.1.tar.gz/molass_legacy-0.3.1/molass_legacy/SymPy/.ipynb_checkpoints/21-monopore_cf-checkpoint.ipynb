{
 "cells": [
  {
   "cell_type": "code",
   "execution_count": 1,
   "id": "15e7e8e1-656f-4e16-bdb1-b552cb9d5e20",
   "metadata": {},
   "outputs": [],
   "source": [
    "from sympy import symbols, exp, diff, simplify, I\n",
    "w = symbols('w')"
   ]
  },
  {
   "cell_type": "code",
   "execution_count": 2,
   "id": "00bc1122-eb72-4148-a24a-8e144daab5af",
   "metadata": {},
   "outputs": [],
   "source": [
    "def raw_moment(cf, k):\n",
    "    return simplify((-I)**k * diff(cf, w, k).subs(dict(w=0)))"
   ]
  },
  {
   "cell_type": "code",
   "execution_count": 3,
   "id": "81c19a9e-79c5-4406-a6cd-e26917dcb8d9",
   "metadata": {},
   "outputs": [],
   "source": [
    "def central_moment(cf, k):\n",
    "    m = raw_moment(cf, 1)\n",
    "    return simplify(raw_moment(cf/exp(I*w*m),k))"
   ]
  },
  {
   "cell_type": "code",
   "execution_count": 11,
   "id": "d043b8c2-8f2b-4222-bfd4-b23ca85a75b8",
   "metadata": {},
   "outputs": [
    {
     "data": {
      "text/latex": [
       "$\\displaystyle e^{n_{1} \\left(-1 + \\frac{1}{- i t_{1} w + 1}\\right)}$"
      ],
      "text/plain": [
       "exp(n1*(-1 + 1/(-I*t1*w + 1)))"
      ]
     },
     "execution_count": 11,
     "metadata": {},
     "output_type": "execute_result"
    }
   ],
   "source": [
    "n1, t1 = symbols('n1, t1')\n",
    "cf1 = exp(n1*(1/(1 - I*w*t1) - 1))\n",
    "cf1"
   ]
  },
  {
   "cell_type": "code",
   "execution_count": 10,
   "id": "9fa2dcbe-1553-408f-920b-f1ee7eb469a9",
   "metadata": {},
   "outputs": [
    {
     "data": {
      "text/latex": [
       "$\\displaystyle n_{1} t_{1}$"
      ],
      "text/plain": [
       "n1*t1"
      ]
     },
     "execution_count": 10,
     "metadata": {},
     "output_type": "execute_result"
    }
   ],
   "source": [
    "raw_moment(cf1, 1)"
   ]
  },
  {
   "cell_type": "code",
   "execution_count": 9,
   "id": "f68f06c4-ae90-4f9d-b995-be1f7d4029ba",
   "metadata": {},
   "outputs": [
    {
     "data": {
      "text/latex": [
       "$\\displaystyle 2 n_{1} t_{1}^{2}$"
      ],
      "text/plain": [
       "2*n1*t1**2"
      ]
     },
     "execution_count": 9,
     "metadata": {},
     "output_type": "execute_result"
    }
   ],
   "source": [
    "central_moment(cf1, 2)"
   ]
  },
  {
   "cell_type": "code",
   "execution_count": 7,
   "id": "2018fce7-395b-49d6-9f28-a7c65a8244a7",
   "metadata": {},
   "outputs": [
    {
     "data": {
      "text/latex": [
       "$\\displaystyle 6 n_{1} t_{1}^{3}$"
      ],
      "text/plain": [
       "6*n1*t1**3"
      ]
     },
     "execution_count": 7,
     "metadata": {},
     "output_type": "execute_result"
    }
   ],
   "source": [
    "central_moment(cf1, 3)"
   ]
  },
  {
   "cell_type": "code",
   "execution_count": 12,
   "id": "bd4c7763-7bac-4fc9-9f99-0c805b7960dd",
   "metadata": {},
   "outputs": [],
   "source": [
    "n1, t1, n2, t2 = symbols('n1, t1, n2, t2')\n",
    "cf2 = exp(n1*(1/(1 - I*w*t1) - 1)) * exp(n2*(1/(1 - I*w*t2) - 1))"
   ]
  },
  {
   "cell_type": "code",
   "execution_count": null,
   "id": "4aa0fb77-4411-4ad5-b832-4063245dd93a",
   "metadata": {},
   "outputs": [],
   "source": []
  }
 ],
 "metadata": {
  "kernelspec": {
   "display_name": "Python 3 (ipykernel)",
   "language": "python",
   "name": "python3"
  },
  "language_info": {
   "codemirror_mode": {
    "name": "ipython",
    "version": 3
   },
   "file_extension": ".py",
   "mimetype": "text/x-python",
   "name": "python",
   "nbconvert_exporter": "python",
   "pygments_lexer": "ipython3",
   "version": "3.12.2"
  }
 },
 "nbformat": 4,
 "nbformat_minor": 5
}
