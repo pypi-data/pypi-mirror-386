{
 "cells": [
  {
   "cell_type": "code",
   "execution_count": 1,
   "id": "d674dbad-a90a-4d2b-9e75-f45830ea1449",
   "metadata": {},
   "outputs": [],
   "source": [
    "from sympy import *\n",
    "mu, sigma, mode, M, V = symbols('mu, sigma, mode, M, V')"
   ]
  },
  {
   "cell_type": "code",
   "execution_count": 2,
   "id": "4169d1fc-ce8a-408f-be27-a453f6ef1ca7",
   "metadata": {},
   "outputs": [
    {
     "data": {
      "text/latex": [
       "$\\displaystyle \\left(e^{\\sigma^{2}} - 1\\right) e^{2 \\mu + \\sigma^{2}}$"
      ],
      "text/plain": [
       "(exp(sigma**2) - 1)*exp(2*mu + sigma**2)"
      ]
     },
     "execution_count": 2,
     "metadata": {},
     "output_type": "execute_result"
    }
   ],
   "source": [
    "simplify( exp(sigma**2) - 1)*exp(2*mu + sigma**2 )"
   ]
  },
  {
   "cell_type": "code",
   "execution_count": 3,
   "id": "d0733bcd-1555-4f0a-8f67-5d0caa5f6312",
   "metadata": {},
   "outputs": [
    {
     "data": {
      "text/plain": [
       "[(log(M) - log(1 + V/M**2)/2, -sqrt(log(1 + V/M**2))),\n",
       " (log(M) - log(1 + V/M**2)/2, sqrt(log(1 + V/M**2)))]"
      ]
     },
     "execution_count": 3,
     "metadata": {},
     "output_type": "execute_result"
    }
   ],
   "source": [
    "solve([exp(mu + sigma**2/2) - M, (exp(sigma**2) - 1)*exp(2*mu + sigma**2) - V], [mu, sigma])"
   ]
  },
  {
   "cell_type": "code",
   "execution_count": 4,
   "id": "d7fd1509-53bc-44f5-8ce7-d0b4a9fe6d54",
   "metadata": {},
   "outputs": [
    {
     "data": {
      "text/latex": [
       "$\\displaystyle \\log{\\left(M \\right)} - \\frac{\\log{\\left(1 + \\frac{V}{M^{2}} \\right)}}{2}$"
      ],
      "text/plain": [
       "log(M) - log(1 + V/M**2)/2"
      ]
     },
     "execution_count": 4,
     "metadata": {},
     "output_type": "execute_result"
    }
   ],
   "source": [
    "simplify(log(M) - log(1 + V/M**2)/2)"
   ]
  },
  {
   "cell_type": "code",
   "execution_count": 5,
   "id": "45a08148-d946-4848-adfa-91070db016f2",
   "metadata": {},
   "outputs": [
    {
     "data": {
      "text/latex": [
       "$\\displaystyle \\log{\\left(1 + \\frac{V}{M^{2}} \\right)}$"
      ],
      "text/plain": [
       "log(1 + V/M**2)"
      ]
     },
     "execution_count": 5,
     "metadata": {},
     "output_type": "execute_result"
    }
   ],
   "source": [
    "simplify(log(1 + V/M**2))"
   ]
  },
  {
   "cell_type": "code",
   "execution_count": 6,
   "id": "8eee70d2-2573-4caf-82ec-4cd7e05b77bc",
   "metadata": {},
   "outputs": [
    {
     "data": {
      "text/plain": [
       "[(Piecewise((log(mode) + log(-sqrt(1 - 4*(V/mode**2)**(1/3)) - sqrt(2)*sqrt(2*(V/mode**2)**(1/3) + 1 - 1/sqrt(1 - 4*(V/mode**2)**(1/3))) + 1) - log(4), Eq(V/mode**2, 0)), (log(mode) + log(-sqrt(3)*sqrt(-16*18**(1/3)*V/(mode**2*(-9*V/mode**2 + sqrt(3)*sqrt(V**2*(256*V/mode**2 + 27)/mode**4))**(1/3)) + 2*12**(1/3)*(-9*V/mode**2 + sqrt(3)*sqrt(V**2*(256*V/mode**2 + 27)/mode**4))**(1/3) + 3) - sqrt(6)*sqrt(8*18**(1/3)*V/(mode**2*(-9*V/mode**2 + sqrt(3)*sqrt(V**2*(256*V/mode**2 + 27)/mode**4))**(1/3)) - 12**(1/3)*(-9*V/mode**2 + sqrt(3)*sqrt(V**2*(256*V/mode**2 + 27)/mode**4))**(1/3) + 3 - 3*sqrt(3)/sqrt(-16*18**(1/3)*V/(mode**2*(-9*V/mode**2 + sqrt(3)*sqrt(V**2*(256*V/mode**2 + 27)/mode**4))**(1/3)) + 2*12**(1/3)*(-9*V/mode**2 + sqrt(3)*sqrt(V**2*(256*V/mode**2 + 27)/mode**4))**(1/3) + 3)) + 3) - log(12), True)),\n",
       "  Piecewise((-sqrt(log(-sqrt(1 - 4*(V/mode**2)**(1/3)) - sqrt(2)*sqrt(2*(V/mode**2)**(1/3) + 1 - 1/sqrt(1 - 4*(V/mode**2)**(1/3))) + 1) - 2*log(2)), Eq(V/mode**2, 0)), (-sqrt(log(-sqrt(3)*sqrt(-16*18**(1/3)*V/(mode**2*(-9*V/mode**2 + sqrt(3)*sqrt(V**2*(256*V/mode**2 + 27)/mode**4))**(1/3)) + 2*12**(1/3)*(-9*V/mode**2 + sqrt(3)*sqrt(V**2*(256*V/mode**2 + 27)/mode**4))**(1/3) + 3) - sqrt(6)*sqrt(8*18**(1/3)*V/(mode**2*(-9*V/mode**2 + sqrt(3)*sqrt(V**2*(256*V/mode**2 + 27)/mode**4))**(1/3)) - 12**(1/3)*(-9*V/mode**2 + sqrt(3)*sqrt(V**2*(256*V/mode**2 + 27)/mode**4))**(1/3) + 3 - 3*sqrt(3)/sqrt(-16*18**(1/3)*V/(mode**2*(-9*V/mode**2 + sqrt(3)*sqrt(V**2*(256*V/mode**2 + 27)/mode**4))**(1/3)) + 2*12**(1/3)*(-9*V/mode**2 + sqrt(3)*sqrt(V**2*(256*V/mode**2 + 27)/mode**4))**(1/3) + 3)) + 3) - log(12)), True))),\n",
       " (Piecewise((log(mode) + log(-sqrt(1 - 4*(V/mode**2)**(1/3)) - sqrt(2)*sqrt(2*(V/mode**2)**(1/3) + 1 - 1/sqrt(1 - 4*(V/mode**2)**(1/3))) + 1) - log(4), Eq(V/mode**2, 0)), (log(mode) + log(-sqrt(3)*sqrt(-16*18**(1/3)*V/(mode**2*(-9*V/mode**2 + sqrt(3)*sqrt(V**2*(256*V/mode**2 + 27)/mode**4))**(1/3)) + 2*12**(1/3)*(-9*V/mode**2 + sqrt(3)*sqrt(V**2*(256*V/mode**2 + 27)/mode**4))**(1/3) + 3) - sqrt(6)*sqrt(8*18**(1/3)*V/(mode**2*(-9*V/mode**2 + sqrt(3)*sqrt(V**2*(256*V/mode**2 + 27)/mode**4))**(1/3)) - 12**(1/3)*(-9*V/mode**2 + sqrt(3)*sqrt(V**2*(256*V/mode**2 + 27)/mode**4))**(1/3) + 3 - 3*sqrt(3)/sqrt(-16*18**(1/3)*V/(mode**2*(-9*V/mode**2 + sqrt(3)*sqrt(V**2*(256*V/mode**2 + 27)/mode**4))**(1/3)) + 2*12**(1/3)*(-9*V/mode**2 + sqrt(3)*sqrt(V**2*(256*V/mode**2 + 27)/mode**4))**(1/3) + 3)) + 3) - log(12), True)),\n",
       "  Piecewise((sqrt(log(-sqrt(1 - 4*(V/mode**2)**(1/3)) - sqrt(2)*sqrt(2*(V/mode**2)**(1/3) + 1 - 1/sqrt(1 - 4*(V/mode**2)**(1/3))) + 1) - 2*log(2)), Eq(V/mode**2, 0)), (sqrt(log(-sqrt(3)*sqrt(-16*18**(1/3)*V/(mode**2*(-9*V/mode**2 + sqrt(3)*sqrt(V**2*(256*V/mode**2 + 27)/mode**4))**(1/3)) + 2*12**(1/3)*(-9*V/mode**2 + sqrt(3)*sqrt(V**2*(256*V/mode**2 + 27)/mode**4))**(1/3) + 3) - sqrt(6)*sqrt(8*18**(1/3)*V/(mode**2*(-9*V/mode**2 + sqrt(3)*sqrt(V**2*(256*V/mode**2 + 27)/mode**4))**(1/3)) - 12**(1/3)*(-9*V/mode**2 + sqrt(3)*sqrt(V**2*(256*V/mode**2 + 27)/mode**4))**(1/3) + 3 - 3*sqrt(3)/sqrt(-16*18**(1/3)*V/(mode**2*(-9*V/mode**2 + sqrt(3)*sqrt(V**2*(256*V/mode**2 + 27)/mode**4))**(1/3)) + 2*12**(1/3)*(-9*V/mode**2 + sqrt(3)*sqrt(V**2*(256*V/mode**2 + 27)/mode**4))**(1/3) + 3)) + 3) - log(12)), True))),\n",
       " (Piecewise((log(mode) + log(-sqrt(1 - 4*(V/mode**2)**(1/3)) + sqrt(2)*sqrt(2*(V/mode**2)**(1/3) + 1 - 1/sqrt(1 - 4*(V/mode**2)**(1/3))) + 1) - log(4), Eq(V/mode**2, 0)), (log(mode) + log(-sqrt(3)*sqrt(-16*18**(1/3)*V/(mode**2*(-9*V/mode**2 + sqrt(3)*sqrt(V**2*(256*V/mode**2 + 27)/mode**4))**(1/3)) + 2*12**(1/3)*(-9*V/mode**2 + sqrt(3)*sqrt(V**2*(256*V/mode**2 + 27)/mode**4))**(1/3) + 3) + sqrt(6)*sqrt(8*18**(1/3)*V/(mode**2*(-9*V/mode**2 + sqrt(3)*sqrt(V**2*(256*V/mode**2 + 27)/mode**4))**(1/3)) - 12**(1/3)*(-9*V/mode**2 + sqrt(3)*sqrt(V**2*(256*V/mode**2 + 27)/mode**4))**(1/3) + 3 - 3*sqrt(3)/sqrt(-16*18**(1/3)*V/(mode**2*(-9*V/mode**2 + sqrt(3)*sqrt(V**2*(256*V/mode**2 + 27)/mode**4))**(1/3)) + 2*12**(1/3)*(-9*V/mode**2 + sqrt(3)*sqrt(V**2*(256*V/mode**2 + 27)/mode**4))**(1/3) + 3)) + 3) - log(12), True)),\n",
       "  Piecewise((-sqrt(log(-sqrt(1 - 4*(V/mode**2)**(1/3)) + sqrt(2)*sqrt(2*(V/mode**2)**(1/3) + 1 - 1/sqrt(1 - 4*(V/mode**2)**(1/3))) + 1) - 2*log(2)), Eq(V/mode**2, 0)), (-sqrt(log(-sqrt(3)*sqrt(-16*18**(1/3)*V/(mode**2*(-9*V/mode**2 + sqrt(3)*sqrt(V**2*(256*V/mode**2 + 27)/mode**4))**(1/3)) + 2*12**(1/3)*(-9*V/mode**2 + sqrt(3)*sqrt(V**2*(256*V/mode**2 + 27)/mode**4))**(1/3) + 3) + sqrt(6)*sqrt(8*18**(1/3)*V/(mode**2*(-9*V/mode**2 + sqrt(3)*sqrt(V**2*(256*V/mode**2 + 27)/mode**4))**(1/3)) - 12**(1/3)*(-9*V/mode**2 + sqrt(3)*sqrt(V**2*(256*V/mode**2 + 27)/mode**4))**(1/3) + 3 - 3*sqrt(3)/sqrt(-16*18**(1/3)*V/(mode**2*(-9*V/mode**2 + sqrt(3)*sqrt(V**2*(256*V/mode**2 + 27)/mode**4))**(1/3)) + 2*12**(1/3)*(-9*V/mode**2 + sqrt(3)*sqrt(V**2*(256*V/mode**2 + 27)/mode**4))**(1/3) + 3)) + 3) - log(12)), True))),\n",
       " (Piecewise((log(mode) + log(-sqrt(1 - 4*(V/mode**2)**(1/3)) + sqrt(2)*sqrt(2*(V/mode**2)**(1/3) + 1 - 1/sqrt(1 - 4*(V/mode**2)**(1/3))) + 1) - log(4), Eq(V/mode**2, 0)), (log(mode) + log(-sqrt(3)*sqrt(-16*18**(1/3)*V/(mode**2*(-9*V/mode**2 + sqrt(3)*sqrt(V**2*(256*V/mode**2 + 27)/mode**4))**(1/3)) + 2*12**(1/3)*(-9*V/mode**2 + sqrt(3)*sqrt(V**2*(256*V/mode**2 + 27)/mode**4))**(1/3) + 3) + sqrt(6)*sqrt(8*18**(1/3)*V/(mode**2*(-9*V/mode**2 + sqrt(3)*sqrt(V**2*(256*V/mode**2 + 27)/mode**4))**(1/3)) - 12**(1/3)*(-9*V/mode**2 + sqrt(3)*sqrt(V**2*(256*V/mode**2 + 27)/mode**4))**(1/3) + 3 - 3*sqrt(3)/sqrt(-16*18**(1/3)*V/(mode**2*(-9*V/mode**2 + sqrt(3)*sqrt(V**2*(256*V/mode**2 + 27)/mode**4))**(1/3)) + 2*12**(1/3)*(-9*V/mode**2 + sqrt(3)*sqrt(V**2*(256*V/mode**2 + 27)/mode**4))**(1/3) + 3)) + 3) - log(12), True)),\n",
       "  Piecewise((sqrt(log(-sqrt(1 - 4*(V/mode**2)**(1/3)) + sqrt(2)*sqrt(2*(V/mode**2)**(1/3) + 1 - 1/sqrt(1 - 4*(V/mode**2)**(1/3))) + 1) - 2*log(2)), Eq(V/mode**2, 0)), (sqrt(log(-sqrt(3)*sqrt(-16*18**(1/3)*V/(mode**2*(-9*V/mode**2 + sqrt(3)*sqrt(V**2*(256*V/mode**2 + 27)/mode**4))**(1/3)) + 2*12**(1/3)*(-9*V/mode**2 + sqrt(3)*sqrt(V**2*(256*V/mode**2 + 27)/mode**4))**(1/3) + 3) + sqrt(6)*sqrt(8*18**(1/3)*V/(mode**2*(-9*V/mode**2 + sqrt(3)*sqrt(V**2*(256*V/mode**2 + 27)/mode**4))**(1/3)) - 12**(1/3)*(-9*V/mode**2 + sqrt(3)*sqrt(V**2*(256*V/mode**2 + 27)/mode**4))**(1/3) + 3 - 3*sqrt(3)/sqrt(-16*18**(1/3)*V/(mode**2*(-9*V/mode**2 + sqrt(3)*sqrt(V**2*(256*V/mode**2 + 27)/mode**4))**(1/3)) + 2*12**(1/3)*(-9*V/mode**2 + sqrt(3)*sqrt(V**2*(256*V/mode**2 + 27)/mode**4))**(1/3) + 3)) + 3) - log(12)), True))),\n",
       " (Piecewise((log(mode) + log(sqrt(1 - 4*(V/mode**2)**(1/3)) - sqrt(2)*sqrt(2*(V/mode**2)**(1/3) + 1 + 1/sqrt(1 - 4*(V/mode**2)**(1/3))) + 1) - log(4), Eq(V/mode**2, 0)), (log(mode) + log(sqrt(3)*sqrt(-16*18**(1/3)*V/(mode**2*(-9*V/mode**2 + sqrt(3)*sqrt(V**2*(256*V/mode**2 + 27)/mode**4))**(1/3)) + 2*12**(1/3)*(-9*V/mode**2 + sqrt(3)*sqrt(V**2*(256*V/mode**2 + 27)/mode**4))**(1/3) + 3) - sqrt(6)*sqrt(8*18**(1/3)*V/(mode**2*(-9*V/mode**2 + sqrt(3)*sqrt(V**2*(256*V/mode**2 + 27)/mode**4))**(1/3)) - 12**(1/3)*(-9*V/mode**2 + sqrt(3)*sqrt(V**2*(256*V/mode**2 + 27)/mode**4))**(1/3) + 3 + 3*sqrt(3)/sqrt(-16*18**(1/3)*V/(mode**2*(-9*V/mode**2 + sqrt(3)*sqrt(V**2*(256*V/mode**2 + 27)/mode**4))**(1/3)) + 2*12**(1/3)*(-9*V/mode**2 + sqrt(3)*sqrt(V**2*(256*V/mode**2 + 27)/mode**4))**(1/3) + 3)) + 3) - log(12), True)),\n",
       "  Piecewise((-sqrt(log(sqrt(1 - 4*(V/mode**2)**(1/3)) - sqrt(2)*sqrt(2*(V/mode**2)**(1/3) + 1 + 1/sqrt(1 - 4*(V/mode**2)**(1/3))) + 1) - 2*log(2)), Eq(V/mode**2, 0)), (-sqrt(log(sqrt(3)*sqrt(-16*18**(1/3)*V/(mode**2*(-9*V/mode**2 + sqrt(3)*sqrt(V**2*(256*V/mode**2 + 27)/mode**4))**(1/3)) + 2*12**(1/3)*(-9*V/mode**2 + sqrt(3)*sqrt(V**2*(256*V/mode**2 + 27)/mode**4))**(1/3) + 3) - sqrt(6)*sqrt(8*18**(1/3)*V/(mode**2*(-9*V/mode**2 + sqrt(3)*sqrt(V**2*(256*V/mode**2 + 27)/mode**4))**(1/3)) - 12**(1/3)*(-9*V/mode**2 + sqrt(3)*sqrt(V**2*(256*V/mode**2 + 27)/mode**4))**(1/3) + 3 + 3*sqrt(3)/sqrt(-16*18**(1/3)*V/(mode**2*(-9*V/mode**2 + sqrt(3)*sqrt(V**2*(256*V/mode**2 + 27)/mode**4))**(1/3)) + 2*12**(1/3)*(-9*V/mode**2 + sqrt(3)*sqrt(V**2*(256*V/mode**2 + 27)/mode**4))**(1/3) + 3)) + 3) - log(12)), True))),\n",
       " (Piecewise((log(mode) + log(sqrt(1 - 4*(V/mode**2)**(1/3)) - sqrt(2)*sqrt(2*(V/mode**2)**(1/3) + 1 + 1/sqrt(1 - 4*(V/mode**2)**(1/3))) + 1) - log(4), Eq(V/mode**2, 0)), (log(mode) + log(sqrt(3)*sqrt(-16*18**(1/3)*V/(mode**2*(-9*V/mode**2 + sqrt(3)*sqrt(V**2*(256*V/mode**2 + 27)/mode**4))**(1/3)) + 2*12**(1/3)*(-9*V/mode**2 + sqrt(3)*sqrt(V**2*(256*V/mode**2 + 27)/mode**4))**(1/3) + 3) - sqrt(6)*sqrt(8*18**(1/3)*V/(mode**2*(-9*V/mode**2 + sqrt(3)*sqrt(V**2*(256*V/mode**2 + 27)/mode**4))**(1/3)) - 12**(1/3)*(-9*V/mode**2 + sqrt(3)*sqrt(V**2*(256*V/mode**2 + 27)/mode**4))**(1/3) + 3 + 3*sqrt(3)/sqrt(-16*18**(1/3)*V/(mode**2*(-9*V/mode**2 + sqrt(3)*sqrt(V**2*(256*V/mode**2 + 27)/mode**4))**(1/3)) + 2*12**(1/3)*(-9*V/mode**2 + sqrt(3)*sqrt(V**2*(256*V/mode**2 + 27)/mode**4))**(1/3) + 3)) + 3) - log(12), True)),\n",
       "  Piecewise((sqrt(log(sqrt(1 - 4*(V/mode**2)**(1/3)) - sqrt(2)*sqrt(2*(V/mode**2)**(1/3) + 1 + 1/sqrt(1 - 4*(V/mode**2)**(1/3))) + 1) - 2*log(2)), Eq(V/mode**2, 0)), (sqrt(log(sqrt(3)*sqrt(-16*18**(1/3)*V/(mode**2*(-9*V/mode**2 + sqrt(3)*sqrt(V**2*(256*V/mode**2 + 27)/mode**4))**(1/3)) + 2*12**(1/3)*(-9*V/mode**2 + sqrt(3)*sqrt(V**2*(256*V/mode**2 + 27)/mode**4))**(1/3) + 3) - sqrt(6)*sqrt(8*18**(1/3)*V/(mode**2*(-9*V/mode**2 + sqrt(3)*sqrt(V**2*(256*V/mode**2 + 27)/mode**4))**(1/3)) - 12**(1/3)*(-9*V/mode**2 + sqrt(3)*sqrt(V**2*(256*V/mode**2 + 27)/mode**4))**(1/3) + 3 + 3*sqrt(3)/sqrt(-16*18**(1/3)*V/(mode**2*(-9*V/mode**2 + sqrt(3)*sqrt(V**2*(256*V/mode**2 + 27)/mode**4))**(1/3)) + 2*12**(1/3)*(-9*V/mode**2 + sqrt(3)*sqrt(V**2*(256*V/mode**2 + 27)/mode**4))**(1/3) + 3)) + 3) - log(12)), True))),\n",
       " (Piecewise((log(mode) + log(sqrt(1 - 4*(V/mode**2)**(1/3)) + sqrt(2)*sqrt(2*(V/mode**2)**(1/3) + 1 + 1/sqrt(1 - 4*(V/mode**2)**(1/3))) + 1) - log(4), Eq(V/mode**2, 0)), (log(mode) + log(sqrt(3)*sqrt(-16*18**(1/3)*V/(mode**2*(-9*V/mode**2 + sqrt(3)*sqrt(V**2*(256*V/mode**2 + 27)/mode**4))**(1/3)) + 2*12**(1/3)*(-9*V/mode**2 + sqrt(3)*sqrt(V**2*(256*V/mode**2 + 27)/mode**4))**(1/3) + 3) + sqrt(6)*sqrt(8*18**(1/3)*V/(mode**2*(-9*V/mode**2 + sqrt(3)*sqrt(V**2*(256*V/mode**2 + 27)/mode**4))**(1/3)) - 12**(1/3)*(-9*V/mode**2 + sqrt(3)*sqrt(V**2*(256*V/mode**2 + 27)/mode**4))**(1/3) + 3 + 3*sqrt(3)/sqrt(-16*18**(1/3)*V/(mode**2*(-9*V/mode**2 + sqrt(3)*sqrt(V**2*(256*V/mode**2 + 27)/mode**4))**(1/3)) + 2*12**(1/3)*(-9*V/mode**2 + sqrt(3)*sqrt(V**2*(256*V/mode**2 + 27)/mode**4))**(1/3) + 3)) + 3) - log(12), True)),\n",
       "  Piecewise((-sqrt(log(sqrt(1 - 4*(V/mode**2)**(1/3)) + sqrt(2)*sqrt(2*(V/mode**2)**(1/3) + 1 + 1/sqrt(1 - 4*(V/mode**2)**(1/3))) + 1) - 2*log(2)), Eq(V/mode**2, 0)), (-sqrt(log(sqrt(3)*sqrt(-16*18**(1/3)*V/(mode**2*(-9*V/mode**2 + sqrt(3)*sqrt(V**2*(256*V/mode**2 + 27)/mode**4))**(1/3)) + 2*12**(1/3)*(-9*V/mode**2 + sqrt(3)*sqrt(V**2*(256*V/mode**2 + 27)/mode**4))**(1/3) + 3) + sqrt(6)*sqrt(8*18**(1/3)*V/(mode**2*(-9*V/mode**2 + sqrt(3)*sqrt(V**2*(256*V/mode**2 + 27)/mode**4))**(1/3)) - 12**(1/3)*(-9*V/mode**2 + sqrt(3)*sqrt(V**2*(256*V/mode**2 + 27)/mode**4))**(1/3) + 3 + 3*sqrt(3)/sqrt(-16*18**(1/3)*V/(mode**2*(-9*V/mode**2 + sqrt(3)*sqrt(V**2*(256*V/mode**2 + 27)/mode**4))**(1/3)) + 2*12**(1/3)*(-9*V/mode**2 + sqrt(3)*sqrt(V**2*(256*V/mode**2 + 27)/mode**4))**(1/3) + 3)) + 3) - log(12)), True))),\n",
       " (Piecewise((log(mode) + log(sqrt(1 - 4*(V/mode**2)**(1/3)) + sqrt(2)*sqrt(2*(V/mode**2)**(1/3) + 1 + 1/sqrt(1 - 4*(V/mode**2)**(1/3))) + 1) - log(4), Eq(V/mode**2, 0)), (log(mode) + log(sqrt(3)*sqrt(-16*18**(1/3)*V/(mode**2*(-9*V/mode**2 + sqrt(3)*sqrt(V**2*(256*V/mode**2 + 27)/mode**4))**(1/3)) + 2*12**(1/3)*(-9*V/mode**2 + sqrt(3)*sqrt(V**2*(256*V/mode**2 + 27)/mode**4))**(1/3) + 3) + sqrt(6)*sqrt(8*18**(1/3)*V/(mode**2*(-9*V/mode**2 + sqrt(3)*sqrt(V**2*(256*V/mode**2 + 27)/mode**4))**(1/3)) - 12**(1/3)*(-9*V/mode**2 + sqrt(3)*sqrt(V**2*(256*V/mode**2 + 27)/mode**4))**(1/3) + 3 + 3*sqrt(3)/sqrt(-16*18**(1/3)*V/(mode**2*(-9*V/mode**2 + sqrt(3)*sqrt(V**2*(256*V/mode**2 + 27)/mode**4))**(1/3)) + 2*12**(1/3)*(-9*V/mode**2 + sqrt(3)*sqrt(V**2*(256*V/mode**2 + 27)/mode**4))**(1/3) + 3)) + 3) - log(12), True)),\n",
       "  Piecewise((sqrt(log(sqrt(1 - 4*(V/mode**2)**(1/3)) + sqrt(2)*sqrt(2*(V/mode**2)**(1/3) + 1 + 1/sqrt(1 - 4*(V/mode**2)**(1/3))) + 1) - 2*log(2)), Eq(V/mode**2, 0)), (sqrt(log(sqrt(3)*sqrt(-16*18**(1/3)*V/(mode**2*(-9*V/mode**2 + sqrt(3)*sqrt(V**2*(256*V/mode**2 + 27)/mode**4))**(1/3)) + 2*12**(1/3)*(-9*V/mode**2 + sqrt(3)*sqrt(V**2*(256*V/mode**2 + 27)/mode**4))**(1/3) + 3) + sqrt(6)*sqrt(8*18**(1/3)*V/(mode**2*(-9*V/mode**2 + sqrt(3)*sqrt(V**2*(256*V/mode**2 + 27)/mode**4))**(1/3)) - 12**(1/3)*(-9*V/mode**2 + sqrt(3)*sqrt(V**2*(256*V/mode**2 + 27)/mode**4))**(1/3) + 3 + 3*sqrt(3)/sqrt(-16*18**(1/3)*V/(mode**2*(-9*V/mode**2 + sqrt(3)*sqrt(V**2*(256*V/mode**2 + 27)/mode**4))**(1/3)) + 2*12**(1/3)*(-9*V/mode**2 + sqrt(3)*sqrt(V**2*(256*V/mode**2 + 27)/mode**4))**(1/3) + 3)) + 3) - log(12)), True)))]"
      ]
     },
     "execution_count": 6,
     "metadata": {},
     "output_type": "execute_result"
    }
   ],
   "source": [
    "solve([exp(mu - sigma**2) - mode, (exp(sigma**2) - 1)*exp(2*mu + sigma**2) - V], [mu, sigma])"
   ]
  },
  {
   "cell_type": "code",
   "execution_count": null,
   "id": "be0482b1-cd3e-4af4-ad41-25e319389481",
   "metadata": {},
   "outputs": [],
   "source": []
  }
 ],
 "metadata": {
  "kernelspec": {
   "display_name": "Python 3 (ipykernel)",
   "language": "python",
   "name": "python3"
  },
  "language_info": {
   "codemirror_mode": {
    "name": "ipython",
    "version": 3
   },
   "file_extension": ".py",
   "mimetype": "text/x-python",
   "name": "python",
   "nbconvert_exporter": "python",
   "pygments_lexer": "ipython3",
   "version": "3.11.7"
  }
 },
 "nbformat": 4,
 "nbformat_minor": 5
}
