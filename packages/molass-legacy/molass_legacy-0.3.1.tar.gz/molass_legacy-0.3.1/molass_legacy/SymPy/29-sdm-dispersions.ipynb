{
 "cells": [
  {
   "cell_type": "code",
   "execution_count": 4,
   "id": "8a049655-42ec-4765-b996-f892c731e3cc",
   "metadata": {},
   "outputs": [
    {
     "data": {
      "text/latex": [
       "$\\displaystyle \\frac{\\left(\\frac{- Rg + Rp}{Rp}\\right)^{- me - 2 mp} \\left(N T \\left(\\frac{- Rg + Rp}{Rp}\\right)^{me + mp} + t_{0}\\right)^{2}}{2 N N_{0} T^{2}}$"
      ],
      "text/plain": [
       "((-Rg + Rp)/Rp)**(-me - 2*mp)*(N*T*((-Rg + Rp)/Rp)**(me + mp) + t0)**2/(2*N*N0*T**2)"
      ]
     },
     "execution_count": 4,
     "metadata": {},
     "output_type": "execute_result"
    }
   ],
   "source": [
    "from sympy import symbols, simplify, diff\n",
    "N, T, t0, N0, Rp, Rg, me, mp = symbols('N, T, t0, N0, Rp, Rg, me, mp')\n",
    "ni = N*(1 - Rg/Rp)**me\n",
    "ti = T*(1 - Rg/Rp)**mp\n",
    "ratio = (t0 + ni*ti)**2/N0/(2*ni*ti**2)\n",
    "simplify(ratio)"
   ]
  },
  {
   "cell_type": "code",
   "execution_count": 6,
   "id": "1b7b8c70-01f7-43b8-b072-6a4cec0731d2",
   "metadata": {},
   "outputs": [
    {
     "data": {
      "text/latex": [
       "$\\displaystyle \\frac{\\left(N T + t_{0}\\right)^{2}}{2 N N_{0} T^{2}} + Rg \\left(\\frac{\\left(N T + t_{0}\\right)^{2} \\left(- \\frac{2 N T me}{Rp \\left(N T + t_{0}\\right)} - \\frac{2 N T mp}{Rp \\left(N T + t_{0}\\right)}\\right)}{2 N N_{0} T^{2}} + \\frac{me \\left(N T + t_{0}\\right)^{2}}{2 N N_{0} Rp T^{2}} + \\frac{mp \\left(N T + t_{0}\\right)^{2}}{N N_{0} Rp T^{2}}\\right) + Rg^{2} \\left(\\frac{\\left(N T + t_{0}\\right)^{2} \\cdot \\left(\\frac{2 N T me mp}{Rp^{2} \\left(N T + t_{0}\\right)} + \\frac{N T me \\left(me - 1\\right)}{Rp^{2} \\left(N T + t_{0}\\right)} + \\frac{N T mp \\left(mp - 1\\right)}{Rp^{2} \\left(N T + t_{0}\\right)} + \\left(- \\frac{N T me}{Rp \\left(N T + t_{0}\\right)} - \\frac{N T mp}{Rp \\left(N T + t_{0}\\right)}\\right)^{2}\\right)}{2 N N_{0} T^{2}} + \\frac{me \\left(N T + t_{0}\\right)^{2} \\left(- \\frac{2 N T me}{Rp \\left(N T + t_{0}\\right)} - \\frac{2 N T mp}{Rp \\left(N T + t_{0}\\right)}\\right)}{2 N N_{0} Rp T^{2}} + \\frac{mp \\left(N T + t_{0}\\right)^{2} \\left(- \\frac{2 N T me}{Rp \\left(N T + t_{0}\\right)} - \\frac{2 N T mp}{Rp \\left(N T + t_{0}\\right)}\\right)}{N N_{0} Rp T^{2}} + \\frac{me mp \\left(N T + t_{0}\\right)^{2}}{N N_{0} Rp^{2} T^{2}} - \\frac{me \\left(- me - 1\\right) \\left(N T + t_{0}\\right)^{2}}{4 N N_{0} Rp^{2} T^{2}} - \\frac{mp \\left(- 2 mp - 1\\right) \\left(N T + t_{0}\\right)^{2}}{2 N N_{0} Rp^{2} T^{2}}\\right) + O\\left(Rg^{3}\\right)$"
      ],
      "text/plain": [
       "(N*T + t0)**2/(2*N*N0*T**2) + Rg*((N*T + t0)**2*(-2*N*T*me/(Rp*(N*T + t0)) - 2*N*T*mp/(Rp*(N*T + t0)))/(2*N*N0*T**2) + me*(N*T + t0)**2/(2*N*N0*Rp*T**2) + mp*(N*T + t0)**2/(N*N0*Rp*T**2)) + Rg**2*((N*T + t0)**2*(2*N*T*me*mp/(Rp**2*(N*T + t0)) + N*T*me*(me - 1)/(Rp**2*(N*T + t0)) + N*T*mp*(mp - 1)/(Rp**2*(N*T + t0)) + (-N*T*me/(Rp*(N*T + t0)) - N*T*mp/(Rp*(N*T + t0)))**2)/(2*N*N0*T**2) + me*(N*T + t0)**2*(-2*N*T*me/(Rp*(N*T + t0)) - 2*N*T*mp/(Rp*(N*T + t0)))/(2*N*N0*Rp*T**2) + mp*(N*T + t0)**2*(-2*N*T*me/(Rp*(N*T + t0)) - 2*N*T*mp/(Rp*(N*T + t0)))/(N*N0*Rp*T**2) + me*mp*(N*T + t0)**2/(N*N0*Rp**2*T**2) - me*(-me - 1)*(N*T + t0)**2/(4*N*N0*Rp**2*T**2) - mp*(-2*mp - 1)*(N*T + t0)**2/(2*N*N0*Rp**2*T**2)) + O(Rg**3)"
      ]
     },
     "execution_count": 6,
     "metadata": {},
     "output_type": "execute_result"
    }
   ],
   "source": [
    "from sympy import series\n",
    "series(ratio, Rg, 0, 3)"
   ]
  },
  {
   "cell_type": "code",
   "execution_count": null,
   "id": "838b0748-4533-4b95-ba7c-3128b267a593",
   "metadata": {},
   "outputs": [],
   "source": []
  }
 ],
 "metadata": {
  "kernelspec": {
   "display_name": "Python 3 (ipykernel)",
   "language": "python",
   "name": "python3"
  },
  "language_info": {
   "codemirror_mode": {
    "name": "ipython",
    "version": 3
   },
   "file_extension": ".py",
   "mimetype": "text/x-python",
   "name": "python",
   "nbconvert_exporter": "python",
   "pygments_lexer": "ipython3",
   "version": "3.12.4"
  }
 },
 "nbformat": 4,
 "nbformat_minor": 5
}
