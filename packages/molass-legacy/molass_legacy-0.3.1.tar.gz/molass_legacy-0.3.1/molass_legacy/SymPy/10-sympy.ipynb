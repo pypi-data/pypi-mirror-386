{
 "cells": [
  {
   "cell_type": "code",
   "execution_count": 1,
   "id": "a52d20ea-db2b-42c0-9e95-289fd79ffdfa",
   "metadata": {},
   "outputs": [],
   "source": [
    "from sympy import solve\n",
    "from sympy.abc import x, y, z, A, B"
   ]
  },
  {
   "cell_type": "code",
   "execution_count": 2,
   "id": "603f37a2-b981-48c2-93f8-dcfab71f5d64",
   "metadata": {},
   "outputs": [
    {
     "data": {
      "text/plain": [
       "{x: 6*z, y: -4*z}"
      ]
     },
     "execution_count": 2,
     "metadata": {},
     "output_type": "execute_result"
    }
   ],
   "source": [
    "solve([x + y - 2*z, y + 4*z], [x, y])"
   ]
  },
  {
   "cell_type": "code",
   "execution_count": 3,
   "id": "9ec66ff4-4b72-419b-b73c-662bff40387d",
   "metadata": {},
   "outputs": [
    {
     "data": {
      "text/plain": [
       "{x: A/2 + B/2, y: -A/2 + B/2}"
      ]
     },
     "execution_count": 3,
     "metadata": {},
     "output_type": "execute_result"
    }
   ],
   "source": [
    "solve([x - y - A, x + y - B], [x, y])"
   ]
  },
  {
   "cell_type": "code",
   "execution_count": 4,
   "id": "d0f1f93d-a515-48d9-ab58-d90a48dade1f",
   "metadata": {},
   "outputs": [],
   "source": [
    "from eliminate import eliminate"
   ]
  },
  {
   "cell_type": "code",
   "execution_count": 5,
   "id": "be4e700d-3d51-49f5-87b8-3ee7b496d532",
   "metadata": {},
   "outputs": [
    {
     "data": {
      "text/plain": [
       "[-A - B + 2*x]"
      ]
     },
     "execution_count": 5,
     "metadata": {},
     "output_type": "execute_result"
    }
   ],
   "source": [
    "eliminate([x - y - A, x + y - B], y)"
   ]
  },
  {
   "cell_type": "code",
   "execution_count": 6,
   "id": "04dcef7c-b5be-4a5f-b816-afed3fa221c0",
   "metadata": {},
   "outputs": [
    {
     "data": {
      "text/plain": [
       "[A - B + 2*y]"
      ]
     },
     "execution_count": 6,
     "metadata": {},
     "output_type": "execute_result"
    }
   ],
   "source": [
    "eliminate([x - y - A, x + y - B], x)"
   ]
  },
  {
   "cell_type": "code",
   "execution_count": 2,
   "id": "fab3676c-d201-41d8-b6ba-2824e2d77ed6",
   "metadata": {},
   "outputs": [],
   "source": [
    "from sympy.abc import N, A, B, C, D, T, L, m, s, t"
   ]
  },
  {
   "cell_type": "code",
   "execution_count": 3,
   "id": "97cbaa6a-f6ef-4066-8c7d-6b380e82e9a4",
   "metadata": {},
   "outputs": [],
   "source": [
    "# eliminate([N - C*(T/(A+B))**2/(B/A+D), s**2 + (B*A)/(2*L), t + (B-A)/L], A, B)"
   ]
  },
  {
   "cell_type": "code",
   "execution_count": 3,
   "id": "83559e19-873e-4dd4-90c3-362f1df4d697",
   "metadata": {},
   "outputs": [
    {
     "data": {
      "text/plain": [
       "[(T - sqrt(A*C*N*(A*D + B))*(A + B)/(A*C),),\n",
       " (T + sqrt(A*C*N*(A*D + B))*(A + B)/(A*C),)]"
      ]
     },
     "execution_count": 3,
     "metadata": {},
     "output_type": "execute_result"
    }
   ],
   "source": [
    "solve([N - C*((m-T)/(A+B))**2/(B/A+D)], m)"
   ]
  },
  {
   "cell_type": "code",
   "execution_count": 3,
   "id": "82bb5c43-020a-4182-85b3-f928c94e6fd4",
   "metadata": {},
   "outputs": [
    {
     "data": {
      "text/plain": [
       "[(L*t/2 - sqrt(-L*(-L*t**2 + 8*s**2))/2,\n",
       "  -L*t/2 - sqrt(-L*(-L*t**2 + 8*s**2))/2),\n",
       " (L*t/2 + sqrt(-L*(-L*t**2 + 8*s**2))/2,\n",
       "  -L*t/2 + sqrt(-L*(-L*t**2 + 8*s**2))/2)]"
      ]
     },
     "execution_count": 3,
     "metadata": {},
     "output_type": "execute_result"
    }
   ],
   "source": [
    "solve([s**2 + (B*A)/(2*L), t + (B - A)/L], [A, B])"
   ]
  },
  {
   "cell_type": "code",
   "execution_count": 3,
   "id": "5fc1b0de-afe4-4002-bca4-cf22ab9e986d",
   "metadata": {},
   "outputs": [
    {
     "data": {
      "text/plain": [
       "[(sqrt(C/(N*(D + 1)))*(-T + m)/2,), (sqrt(C/(N*(D + 1)))*(T - m)/2,)]"
      ]
     },
     "execution_count": 3,
     "metadata": {},
     "output_type": "execute_result"
    }
   ],
   "source": [
    "solve([N - C*((m-T)/(A+A))**2/(A/A+D)], A)"
   ]
  },
  {
   "cell_type": "code",
   "execution_count": 4,
   "id": "a76460ba-52e5-4ee1-beaa-ae9bf0d8f814",
   "metadata": {},
   "outputs": [
    {
     "data": {
      "text/plain": [
       "[(sqrt(C/(N*(D + a)))*(-T + m)/(a + 1),\n",
       "  a*sqrt(C/(N*(D + a)))*(-T + m)/(a + 1)),\n",
       " (sqrt(C/(N*(D + a)))*(T - m)/(a + 1), a*sqrt(C/(N*(D + a)))*(T - m)/(a + 1))]"
      ]
     },
     "execution_count": 4,
     "metadata": {},
     "output_type": "execute_result"
    }
   ],
   "source": [
    "from sympy.abc import a\n",
    "solve([N - C*((m-T)/(A+B))**2/(B/A+D), a - B/A], [A, B])"
   ]
  },
  {
   "cell_type": "code",
   "execution_count": 7,
   "id": "3feba68e-9031-44e4-a1f3-c4ac85ac7c28",
   "metadata": {},
   "outputs": [],
   "source": [
    "import numpy as np\n",
    "def compute_AB():\n",
    "    N = 14400\n",
    "    T = -1000\n",
    "    C = 41.7\n",
    "    D = 1.25\n",
    "    m = 200\n",
    "    a = 1\n",
    "    return [(np.sqrt(C/(N*(D + a)))*(-T + m)/(a + 1),\n",
    "              a*np.sqrt(C/(N*(D + a)))*(-T + m)/(a + 1)),\n",
    "             (np.sqrt(C/(N*(D + a)))*(T - m)/(a + 1),\n",
    "              a*np.sqrt(C/(N*(D + a)))*(T - m)/(a + 1))]"
   ]
  },
  {
   "cell_type": "code",
   "execution_count": 8,
   "id": "92b02533-971b-4955-b70b-cabbee9ef3e7",
   "metadata": {},
   "outputs": [
    {
     "data": {
      "text/plain": [
       "[(21.52517905461725, 21.52517905461725),\n",
       " (-21.52517905461725, -21.52517905461725)]"
      ]
     },
     "execution_count": 8,
     "metadata": {},
     "output_type": "execute_result"
    }
   ],
   "source": [
    "compute_AB()"
   ]
  },
  {
   "cell_type": "code",
   "execution_count": 2,
   "id": "72eb1301-af48-48ee-a036-cbbf11259b8c",
   "metadata": {},
   "outputs": [
    {
     "data": {
      "text/plain": [
       "[(2.14285714285714*M**2/N, 14.0*N/M)]"
      ]
     },
     "execution_count": 2,
     "metadata": {},
     "output_type": "execute_result"
    }
   ],
   "source": [
    "from sympy.abc import M, N, K, F\n",
    "solve([1/30*K*F - M, 1/420*K*F**2 - N], [K, F])"
   ]
  },
  {
   "cell_type": "code",
   "execution_count": 5,
   "id": "c8e0a856-4137-4d54-ad86-a7c6d27c9e5f",
   "metadata": {},
   "outputs": [
    {
     "data": {
      "text/plain": [
       "[(X - 2**(2/3)*Z**(1/3)/2,\n",
       "  -sqrt(Y - 2**(1/3)*Z**(2/3)/2),\n",
       "  2**(2/3)*Z**(1/3)/2),\n",
       " (X - 2**(2/3)*Z**(1/3)/2, sqrt(Y - 2**(1/3)*Z**(2/3)/2), 2**(2/3)*Z**(1/3)/2),\n",
       " (X + 2**(2/3)*Z**(1/3)/4 - 2**(2/3)*sqrt(3)*I*Z**(1/3)/4,\n",
       "  -sqrt(Y + 2**(1/3)*Z**(2/3)/4 + 2**(1/3)*sqrt(3)*I*Z**(2/3)/4),\n",
       "  -2**(2/3)*Z**(1/3)/4 + 2**(2/3)*sqrt(3)*I*Z**(1/3)/4),\n",
       " (X + 2**(2/3)*Z**(1/3)/4 - 2**(2/3)*sqrt(3)*I*Z**(1/3)/4,\n",
       "  sqrt(Y + 2**(1/3)*Z**(2/3)/4 + 2**(1/3)*sqrt(3)*I*Z**(2/3)/4),\n",
       "  -2**(2/3)*Z**(1/3)/4 + 2**(2/3)*sqrt(3)*I*Z**(1/3)/4),\n",
       " (X + 2**(2/3)*Z**(1/3)/4 + 2**(2/3)*sqrt(3)*I*Z**(1/3)/4,\n",
       "  -sqrt(Y + 2**(1/3)*Z**(2/3)/4 - 2**(1/3)*sqrt(3)*I*Z**(2/3)/4),\n",
       "  -2**(2/3)*Z**(1/3)/4 - 2**(2/3)*sqrt(3)*I*Z**(1/3)/4),\n",
       " (X + 2**(2/3)*Z**(1/3)/4 + 2**(2/3)*sqrt(3)*I*Z**(1/3)/4,\n",
       "  sqrt(Y + 2**(1/3)*Z**(2/3)/4 - 2**(1/3)*sqrt(3)*I*Z**(2/3)/4),\n",
       "  -2**(2/3)*Z**(1/3)/4 - 2**(2/3)*sqrt(3)*I*Z**(1/3)/4)]"
      ]
     },
     "execution_count": 5,
     "metadata": {},
     "output_type": "execute_result"
    }
   ],
   "source": [
    "from sympy.abc import m, s, t, X, Y, Z\n",
    "solve([m + t - X, s**2 + t**2 - Y, 2*t**3 - Z], [m, s, t])"
   ]
  },
  {
   "cell_type": "code",
   "execution_count": 2,
   "id": "0dd5d8a2-4105-4162-a110-322dba016d51",
   "metadata": {},
   "outputs": [
    {
     "data": {
      "text/plain": [
       "[(m/(N - 1) - sqrt(-N*(N*s**2 - m**2 - s**2))/(1 - N),),\n",
       " (m/(N - 1) + sqrt(-N*(N*s**2 - m**2 - s**2))/(1 - N),)]"
      ]
     },
     "execution_count": 2,
     "metadata": {},
     "output_type": "execute_result"
    }
   ],
   "source": [
    "from sympy.abc import m, s, t, N\n",
    "solve([(m+t)**2 - N*(s**2+t**2)], [t])"
   ]
  },
  {
   "cell_type": "code",
   "execution_count": null,
   "id": "4b8231b0-294f-4e46-9380-04dffd08f4fb",
   "metadata": {},
   "outputs": [],
   "source": [
    "[(m/(N - 1) - sqrt(-N*(N*s**2 - m**2 - s**2))/(1 - N),),\n",
    " (m/(N - 1) + sqrt(-N*(N*s**2 - m**2 - s**2))/(1 - N),)]"
   ]
  }
 ],
 "metadata": {
  "kernelspec": {
   "display_name": "Python 3 (ipykernel)",
   "language": "python",
   "name": "python3"
  },
  "language_info": {
   "codemirror_mode": {
    "name": "ipython",
    "version": 3
   },
   "file_extension": ".py",
   "mimetype": "text/x-python",
   "name": "python",
   "nbconvert_exporter": "python",
   "pygments_lexer": "ipython3",
   "version": "3.12.3"
  }
 },
 "nbformat": 4,
 "nbformat_minor": 5
}
