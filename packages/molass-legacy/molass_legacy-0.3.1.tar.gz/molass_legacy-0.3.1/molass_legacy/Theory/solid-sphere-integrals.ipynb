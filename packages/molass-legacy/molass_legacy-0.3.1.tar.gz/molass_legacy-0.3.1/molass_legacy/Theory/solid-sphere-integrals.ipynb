{
 "cells": [
  {
   "cell_type": "code",
   "execution_count": 1,
   "metadata": {},
   "outputs": [],
   "source": [
    "from sympy import diff, integrate, sin, cos, sinc\n",
    "from sympy.abc import q, r, R"
   ]
  },
  {
   "cell_type": "code",
   "execution_count": 2,
   "metadata": {},
   "outputs": [
    {
     "data": {
      "text/latex": [
       "$\\displaystyle \\begin{cases} - \\frac{R \\cos{\\left(R q \\right)}}{q} + \\frac{\\sin{\\left(R q \\right)}}{q^{2}} & \\text{for}\\: q > -\\infty \\wedge q < \\infty \\wedge q \\neq 0 \\\\0 & \\text{otherwise} \\end{cases}$"
      ],
      "text/plain": [
       "Piecewise((-R*cos(R*q)/q + sin(R*q)/q**2, (q > -oo) & (q < oo) & Ne(q, 0)), (0, True))"
      ]
     },
     "execution_count": 2,
     "metadata": {},
     "output_type": "execute_result"
    }
   ],
   "source": [
    "integrate(sin(q*r)*r, (r, 0, R))"
   ]
  },
  {
   "cell_type": "code",
   "execution_count": 3,
   "metadata": {},
   "outputs": [
    {
     "data": {
      "text/latex": [
       "$\\displaystyle - \\frac{R \\cos{\\left(R q \\right)}}{q^{2}} + \\frac{\\sin{\\left(R q \\right)}}{q^{3}}$"
      ],
      "text/plain": [
       "-R*cos(R*q)/q**2 + sin(R*q)/q**3"
      ]
     },
     "execution_count": 3,
     "metadata": {},
     "output_type": "execute_result"
    }
   ],
   "source": [
    "integrate(sinc(q*r)*r**2, (r, 0, R))"
   ]
  },
  {
   "cell_type": "code",
   "execution_count": 4,
   "metadata": {},
   "outputs": [
    {
     "data": {
      "text/latex": [
       "$\\displaystyle \\cos{\\left(q \\right)}$"
      ],
      "text/plain": [
       "cos(q)"
      ]
     },
     "execution_count": 4,
     "metadata": {},
     "output_type": "execute_result"
    }
   ],
   "source": [
    "diff(sin(q), q)"
   ]
  },
  {
   "cell_type": "code",
   "execution_count": 5,
   "metadata": {},
   "outputs": [
    {
     "data": {
      "text/latex": [
       "$\\displaystyle \\frac{\\sin{\\left(2 R q \\right)}}{2 R q^{2}} - \\frac{3 \\left(- 2 R q \\cos{\\left(2 R q \\right)} + \\sin{\\left(2 R q \\right)}\\right)}{8 R^{3} q^{4}}$"
      ],
      "text/plain": [
       "sin(2*R*q)/(2*R*q**2) - 3*(-2*R*q*cos(2*R*q) + sin(2*R*q))/(8*R**3*q**4)"
      ]
     },
     "execution_count": 5,
     "metadata": {},
     "output_type": "execute_result"
    }
   ],
   "source": [
    "diff((sin(2*R*q)-2*R*q*cos(2*R*q))/(2*R*q)**3, q)"
   ]
  },
  {
   "cell_type": "code",
   "execution_count": null,
   "metadata": {},
   "outputs": [],
   "source": []
  }
 ],
 "metadata": {
  "kernelspec": {
   "display_name": "Python 3",
   "language": "python",
   "name": "python3"
  },
  "language_info": {
   "codemirror_mode": {
    "name": "ipython",
    "version": 3
   },
   "file_extension": ".py",
   "mimetype": "text/x-python",
   "name": "python",
   "nbconvert_exporter": "python",
   "pygments_lexer": "ipython3",
   "version": "3.9.0"
  }
 },
 "nbformat": 4,
 "nbformat_minor": 4
}
