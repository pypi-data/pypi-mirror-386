{
 "cells": [
  {
   "cell_type": "code",
   "execution_count": 1,
   "id": "af46a4dc-82ce-45d7-8926-d40f6b452bf2",
   "metadata": {},
   "outputs": [],
   "source": [
    "from pypdb import *"
   ]
  },
  {
   "cell_type": "code",
   "execution_count": 7,
   "id": "ae34610b-6540-4b91-8ece-e483a313c400",
   "metadata": {},
   "outputs": [
    {
     "name": "stdout",
     "output_type": "stream",
     "text": [
      "3801 ['3A24', '4MY1', '4MUZ', '4CW5', '5UE9', '3IVS', '3W73', '4JNM', '4OU1', '2QEZ']\n"
     ]
    }
   ],
   "source": [
    "aldolase = set(Query(\"aldolase\").search())\n",
    "print(len(aldolase), list(aldolase)[0:10])"
   ]
  },
  {
   "cell_type": "code",
   "execution_count": 8,
   "id": "da161717-5765-43af-aef9-6186a8eb6cd6",
   "metadata": {},
   "outputs": [
    {
     "name": "stdout",
     "output_type": "stream",
     "text": [
      "33115 ['3ZQL', '6MQN', '4C2T', '7OLV', '1NJE', '5NH3', '4J7W', '6XD7', '3I79', '3PRT']\n"
     ]
    }
   ],
   "source": [
    "mutant = set(Query(\"mutant\").search())\n",
    "print(len(mutant), list(mutant)[:10])"
   ]
  },
  {
   "cell_type": "code",
   "execution_count": 12,
   "id": "7144edce-06a7-485f-bdb8-cad49d7c5bb7",
   "metadata": {},
   "outputs": [
    {
     "name": "stdout",
     "output_type": "stream",
     "text": [
      "959 ['7KG5', '2XFW', '3IAF', '7K0B', '4O4W', '2FB2', '4ZQN', '7JZF', '7KO3', '4JX5']\n"
     ]
    }
   ],
   "source": [
    "aldolase_mutant = aldolase & mutant\n",
    "print(len(aldolase_mutant), list(aldolase_mutant)[0:10])"
   ]
  },
  {
   "cell_type": "code",
   "execution_count": 13,
   "id": "e1d625bb-53fc-4d84-ac35-0d62bc20a369",
   "metadata": {},
   "outputs": [
    {
     "ename": "AssertionError",
     "evalue": "Query type Enzyme Classification Number not recognized.",
     "output_type": "error",
     "traceback": [
      "\u001b[1;31m---------------------------------------------------------------------------\u001b[0m",
      "\u001b[1;31mAssertionError\u001b[0m                            Traceback (most recent call last)",
      "Cell \u001b[1;32mIn[13], line 1\u001b[0m\n\u001b[1;32m----> 1\u001b[0m found_pdbs \u001b[38;5;241m=\u001b[39m \u001b[43mQuery\u001b[49m\u001b[43m(\u001b[49m\u001b[38;5;124;43m\"\u001b[39;49m\u001b[38;5;124;43m4.1.2.13\u001b[39;49m\u001b[38;5;124;43m\"\u001b[39;49m\u001b[43m,\u001b[49m\u001b[43m \u001b[49m\u001b[38;5;124;43m\"\u001b[39;49m\u001b[38;5;124;43mEnzyme Classification Number\u001b[39;49m\u001b[38;5;124;43m\"\u001b[39;49m\u001b[43m)\u001b[49m\u001b[38;5;241m.\u001b[39msearch()\n\u001b[0;32m      2\u001b[0m \u001b[38;5;28mprint\u001b[39m(\u001b[38;5;28mlen\u001b[39m(found_pdbs), found_pdbs[\u001b[38;5;241m0\u001b[39m:\u001b[38;5;241m10\u001b[39m])\n",
      "File \u001b[1;32mC:\\Program Files\\Python311\\Lib\\site-packages\\pypdb\\pypdb.py:147\u001b[0m, in \u001b[0;36mQuery.__init__\u001b[1;34m(self, search_term, query_type, return_type, scan_params)\u001b[0m\n\u001b[0;32m    144\u001b[0m \u001b[38;5;28;01melse\u001b[39;00m:\n\u001b[0;32m    145\u001b[0m     query_subtype \u001b[38;5;241m=\u001b[39m \u001b[38;5;28;01mNone\u001b[39;00m\n\u001b[1;32m--> 147\u001b[0m \u001b[38;5;28;01massert\u001b[39;00m query_type \u001b[38;5;129;01min\u001b[39;00m {\n\u001b[0;32m    148\u001b[0m     \u001b[38;5;124m\"\u001b[39m\u001b[38;5;124mfull_text\u001b[39m\u001b[38;5;124m\"\u001b[39m, \u001b[38;5;124m\"\u001b[39m\u001b[38;5;124mtext\u001b[39m\u001b[38;5;124m\"\u001b[39m, \u001b[38;5;124m\"\u001b[39m\u001b[38;5;124mstructure\u001b[39m\u001b[38;5;124m\"\u001b[39m, \u001b[38;5;124m\"\u001b[39m\u001b[38;5;124msequence\u001b[39m\u001b[38;5;124m\"\u001b[39m, \u001b[38;5;124m\"\u001b[39m\u001b[38;5;124mseqmotif\u001b[39m\u001b[38;5;124m\"\u001b[39m, \u001b[38;5;124m\"\u001b[39m\u001b[38;5;124mchemical\u001b[39m\u001b[38;5;124m\"\u001b[39m\n\u001b[0;32m    149\u001b[0m }, \u001b[38;5;124m\"\u001b[39m\u001b[38;5;124mQuery type \u001b[39m\u001b[38;5;132;01m%s\u001b[39;00m\u001b[38;5;124m not recognized.\u001b[39m\u001b[38;5;124m\"\u001b[39m \u001b[38;5;241m%\u001b[39m query_type\n\u001b[0;32m    151\u001b[0m \u001b[38;5;28;01massert\u001b[39;00m return_type \u001b[38;5;129;01min\u001b[39;00m {\u001b[38;5;124m\"\u001b[39m\u001b[38;5;124mentry\u001b[39m\u001b[38;5;124m\"\u001b[39m, \u001b[38;5;124m\"\u001b[39m\u001b[38;5;124mpolymer_entity\u001b[39m\u001b[38;5;124m\"\u001b[39m\n\u001b[0;32m    152\u001b[0m                        }, \u001b[38;5;124m\"\u001b[39m\u001b[38;5;124mReturn type \u001b[39m\u001b[38;5;132;01m%s\u001b[39;00m\u001b[38;5;124m not supported.\u001b[39m\u001b[38;5;124m\"\u001b[39m \u001b[38;5;241m%\u001b[39m return_type\n\u001b[0;32m    154\u001b[0m \u001b[38;5;28mself\u001b[39m\u001b[38;5;241m.\u001b[39mquery_type \u001b[38;5;241m=\u001b[39m query_type\n",
      "\u001b[1;31mAssertionError\u001b[0m: Query type Enzyme Classification Number not recognized."
     ]
    }
   ],
   "source": [
    "found_pdbs = Query(\"4.1.2.13\", \"Enzyme Classification Number\").search()\n",
    "print(len(found_pdbs), found_pdbs[0:10])"
   ]
  },
  {
   "cell_type": "code",
   "execution_count": null,
   "id": "f2d3b283-77d6-4e09-806f-c799d22b3325",
   "metadata": {},
   "outputs": [],
   "source": []
  }
 ],
 "metadata": {
  "kernelspec": {
   "display_name": "Python 3 (ipykernel)",
   "language": "python",
   "name": "python3"
  },
  "language_info": {
   "codemirror_mode": {
    "name": "ipython",
    "version": 3
   },
   "file_extension": ".py",
   "mimetype": "text/x-python",
   "name": "python",
   "nbconvert_exporter": "python",
   "pygments_lexer": "ipython3",
   "version": "3.11.4"
  }
 },
 "nbformat": 4,
 "nbformat_minor": 5
}
