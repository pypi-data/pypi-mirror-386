{
 "cells": [
  {
   "cell_type": "markdown",
   "metadata": {},
   "source": [
    "# NHN AI EasyMaker SDK 사용 예제\n",
    "\n",
    "이 노트북에서는 NHN AI EasyMaker SDK를 사용하여 모델을 생성하고 관리하는 방법을 보여줍니다."
   ]
  },
  {
   "cell_type": "code",
   "execution_count": null,
   "metadata": {},
   "outputs": [],
   "source": [
    "# 필요한 라이브러리 임포트\n",
    "import easymaker"
   ]
  },
  {
   "cell_type": "markdown",
   "metadata": {},
   "source": [
    "## 파라미터 초기화\n",
    "\n",
    "모델 생성에 필요한 파라미터를 초기화합니다.\n",
    "papermill을 사용하여 노트북을 실행할 때 파라미터를 전달할 수 있습니다."
   ]
  },
  {
   "cell_type": "code",
   "execution_count": null,
   "metadata": {
    "tags": [
     "parameters"
    ]
   },
   "outputs": [],
   "source": [
    "# 필요한 변수 설정\n",
    "region = \"kr1\"  # 리전 설정\n",
    "app_key = \"YOUR_APP_KEY\"  # 앱키 설정\n",
    "access_token = \"YOUR_ACCESS_TOKEN\"  # 액세스 토큰 설정\n",
    "profile = \"real\"  # 프로필 설정 (생략 가능)\n",
    "\n",
    "hyperparameter_tuning_id = \"YOUR_TUNING_ID\"  # 튜닝 ID 설정\n",
    "model_name = \"model_create_tuning_test\"  # 모델 이름 설정\n",
    "description = \"test model\"  # 모델 설명 설정\n",
    "use_log = False  # 로그 사용 여부 설정"
   ]
  },
  {
   "cell_type": "markdown",
   "metadata": {},
   "source": [
    "## SDK 초기화\n",
    "\n",
    "SDK를 사용하기 위해 초기화합니다."
   ]
  },
  {
   "cell_type": "code",
   "execution_count": null,
   "metadata": {},
   "outputs": [],
   "source": [
    "# SDK 초기화\n",
    "easymaker.init(\n",
    "    region=region,\n",
    "    appkey=app_key,\n",
    "    access_token=access_token,\n",
    "    profile=profile,\n",
    ")"
   ]
  },
  {
   "cell_type": "markdown",
   "metadata": {},
   "source": [
    "## 모델 생성 (튜닝 ID 사용)\n",
    "\n",
    "하이퍼파라미터 튜닝 ID를 사용하여 모델을 생성합니다."
   ]
  },
  {
   "cell_type": "code",
   "execution_count": null,
   "metadata": {},
   "outputs": [],
   "source": [
    "# 모델 생성 (튜닝 ID 사용)\n",
    "model = easymaker.Model().create(\n",
    "    hyperparameter_tuning_id=hyperparameter_tuning_id,\n",
    "    model_name=model_name,\n",
    "    description=description,\n",
    "    use_log=use_log,\n",
    ")\n",
    "print(f\"Model ID: {model.model_id}\")"
   ]
  },
  {
   "cell_type": "markdown",
   "metadata": {},
   "source": [
    "## 모델 삭제\n",
    "\n",
    "생성된 모델을 삭제합니다."
   ]
  },
  {
   "cell_type": "code",
   "execution_count": null,
   "metadata": {},
   "outputs": [],
   "source": [
    "# 모델 삭제\n",
    "model.delete()"
   ]
  }
 ],
 "metadata": {
  "kernelspec": {
   "display_name": "Python 3",
   "language": "python",
   "name": "python3"
  },
  "language_info": {
   "codemirror_mode": {
    "name": "ipython",
    "version": 3
   },
   "file_extension": ".py",
   "mimetype": "text/x-python",
   "name": "python",
   "nbconvert_exporter": "python",
   "pygments_lexer": "ipython3",
   "version": "3.8.5"
  }
 },
 "nbformat": 4,
 "nbformat_minor": 4
}