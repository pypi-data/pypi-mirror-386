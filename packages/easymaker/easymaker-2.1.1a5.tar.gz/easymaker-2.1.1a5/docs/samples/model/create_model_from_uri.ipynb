{
 "cells": [
  {
   "cell_type": "markdown",
   "metadata": {},
   "source": [
    "# NHN AI EasyMaker SDK 사용 예제\n",
    "\n",
    "이 노트북에서는 NHN AI EasyMaker SDK를 사용하여 모델을 생성하고 관리하는 방법을 보여줍니다."
   ]
  },
  {
   "cell_type": "code",
   "execution_count": null,
   "metadata": {},
   "outputs": [],
   "source": [
    "# 필요한 라이브러리 임포트\n",
    "import easymaker"
   ]
  },
  {
   "cell_type": "markdown",
   "metadata": {},
   "source": [
    "## 파라미터 초기화\n",
    "\n",
    "모델 생성에 필요한 파라미터를 초기화합니다.\n",
    "papermill을 사용하여 노트북을 실행할 때 파라미터를 전달할 수 있습니다."
   ]
  },
  {
   "cell_type": "code",
   "execution_count": null,
   "metadata": {
    "tags": [
     "parameters"
    ]
   },
   "outputs": [],
   "source": [
    "# 필요한 변수 설정\n",
    "region = \"kr1\"\n",
    "app_key = \"APP_KEY\"\n",
    "access_token = \"ACCESS_TOKEN\"\n",
    "profile = \"real\"\n",
    "\n",
    "model_type_code = easymaker.TENSORFLOW\n",
    "model_upload_uri = \"MODEL_UPLOAD_URI\"\n",
    "model_name = \"model_create_uri_test\"\n",
    "description = \"test model from URI\"\n",
    "use_log = False"
   ]
  },
  {
   "cell_type": "markdown",
   "metadata": {},
   "source": [
    "## SDK 초기화\n",
    "\n",
    "SDK를 사용하기 위해 초기화합니다."
   ]
  },
  {
   "cell_type": "code",
   "execution_count": null,
   "metadata": {},
   "outputs": [],
   "source": [
    "# SDK 초기화\n",
    "easymaker.init(\n",
    "    region=region,\n",
    "    appkey=app_key,\n",
    "    access_token=access_token,\n",
    "    profile=profile,\n",
    ")"
   ]
  },
  {
   "cell_type": "markdown",
   "metadata": {},
   "source": [
    "## 모델 생성 (모델 업로드 URI 사용)\n",
    "\n",
    "모델 업로드 URI를 사용하여 모델을 생성합니다."
   ]
  },
  {
   "cell_type": "code",
   "execution_count": null,
   "metadata": {},
   "outputs": [],
   "source": [
    "# 모델 생성 (모델 업로드 URI 사용)\n",
    "model = easymaker.Model().create_by_model_upload_uri(\n",
    "    model_type_code=model_type_code,\n",
    "    model_upload_uri=model_upload_uri,\n",
    "    model_name=model_name,\n",
    "    description=description,\n",
    ")\n",
    "print(f\"Model ID: {model.model_id}\")"
   ]
  },
  {
   "cell_type": "markdown",
   "metadata": {},
   "source": [
    "## 모델 삭제\n",
    "\n",
    "생성된 모델을 삭제합니다."
   ]
  },
  {
   "cell_type": "code",
   "execution_count": null,
   "metadata": {},
   "outputs": [],
   "source": [
    "# 모델 삭제\n",
    "model.delete()"
   ]
  }
 ],
 "metadata": {
  "kernelspec": {
   "display_name": ".venv",
   "language": "python",
   "name": "python3"
  },
  "language_info": {
   "codemirror_mode": {
    "name": "ipython",
    "version": 3
   },
   "file_extension": ".py",
   "mimetype": "text/x-python",
   "name": "python",
   "nbconvert_exporter": "python",
   "pygments_lexer": "ipython3",
   "version": "3.11.7"
  }
 },
 "nbformat": 4,
 "nbformat_minor": 4
}