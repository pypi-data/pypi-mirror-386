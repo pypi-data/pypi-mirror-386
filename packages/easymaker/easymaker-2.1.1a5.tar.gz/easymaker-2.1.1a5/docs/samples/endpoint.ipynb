{
 "cells": [
  {
   "cell_type": "markdown",
   "metadata": {},
   "source": [
    "# NHN AI EasyMaker SDK 사용 예제\n",
    "\n",
    "이 노트북에서는 NHN AI EasyMaker SDK를 사용하여 엔드포인트를 생성하고 관리하는 방법을 보여줍니다."
   ]
  },
  {
   "metadata": {},
   "cell_type": "code",
   "outputs": [],
   "execution_count": null,
   "source": [
    "# 필요한 라이브러리 임포트\n",
    "import easymaker"
   ]
  },
  {
   "metadata": {},
   "cell_type": "code",
   "outputs": [],
   "execution_count": null,
   "source": [
    "# 필요한 변수 설정\n",
    "region=\"kr1\"\n",
    "appkey=\"YOUR_APP_KEY\"\n",
    "\n",
    "# 인증 토큰 발급 가이드 : https://docs.nhncloud.com/ko/nhncloud/ko/public-api/api-authentication/#_1\n",
    "user_access_key_id=\"YOUR_ACCESS_KEY_ID\"\n",
    "secret_access_key=\"YOUR_SECRET_ACCESS_KEY\"\n",
    "access_token=easymaker.sample.get_access_token(user_access_key_id, secret_access_key),"
   ]
  },
  {
   "metadata": {},
   "cell_type": "markdown",
   "source": [
    "## SDK 초기화\n",
    "\n",
    "SDK를 사용하기 위해 초기화합니다."
   ]
  },
  {
   "metadata": {},
   "cell_type": "code",
   "outputs": [],
   "execution_count": null,
   "source": [
    "# SDK 초기화\n",
    "easymaker.init(\n",
    "    region=region,\n",
    "    appkey=appkey,\n",
    "    access_token=access_token,\n",
    ")"
   ]
  },
  {
   "metadata": {},
   "cell_type": "markdown",
   "source": [
    "## 엔드포인트 생성\n",
    "\n",
    "모델 ID를 사용하여 엔드포인트를 생성합니다."
   ]
  },
  {
   "metadata": {
    "ExecuteTime": {
     "end_time": "2025-05-22T23:06:40.160159Z",
     "start_time": "2025-05-22T23:04:02.432100Z"
    }
   },
   "cell_type": "code",
   "source": [
    "# 모델 생성\n",
    "model = easymaker.Model().create_by_model_upload_uri(\n",
    "    model_type_code=easymaker.sample.classification_model.model_type,\n",
    "    model_upload_uri=easymaker.sample.classification_model.model_uri,\n",
    "    model_name=\"easymaker_model_sample\",\n",
    ")"
   ],
   "outputs": [
    {
     "name": "stdout",
     "output_type": "stream",
     "text": [
      "[AI EasyMaker] Model create request complete. model_id: g5t14lsibycv\n",
      "[AI EasyMaker] Model create status: CREATE_REQUESTED (0:00:00) Please wait...\n",
      "[AI EasyMaker] Model create status: CREATE_IN_PROGRESS (0:00:10) Please wait...\n",
      "[AI EasyMaker] Model create status: CREATE_IN_PROGRESS (0:00:20) Please wait...\n",
      "[AI EasyMaker] Model create status: CREATE_IN_PROGRESS (0:00:30) Please wait...\n",
      "[AI EasyMaker] Model create status: CREATE_IN_PROGRESS (0:00:40) Please wait...\n",
      "[AI EasyMaker] Model create status: CREATE_IN_PROGRESS (0:00:50) Please wait...\n",
      "[AI EasyMaker] Model create status: CREATE_IN_PROGRESS (0:01:00) Please wait...\n",
      "[AI EasyMaker] Model create status: CREATE_IN_PROGRESS (0:01:10) Please wait...\n",
      "[AI EasyMaker] Model create status: CREATE_IN_PROGRESS (0:01:20) Please wait...\n",
      "[AI EasyMaker] Model create status: CREATE_IN_PROGRESS (0:01:30) Please wait...\n",
      "[AI EasyMaker] Model create status: CREATE_IN_PROGRESS (0:01:40) Please wait...\n",
      "[AI EasyMaker] Model create status: CREATE_IN_PROGRESS (0:01:50) Please wait...\n",
      "[AI EasyMaker] Model create status: CREATE_IN_PROGRESS (0:02:00) Please wait...\n",
      "[AI EasyMaker] Model create status: CREATE_IN_PROGRESS (0:02:10) Please wait...\n",
      "[AI EasyMaker] Model create status: CREATE_IN_PROGRESS (0:02:20) Please wait...\n",
      "[AI EasyMaker] Model create complete. model_id: g5t14lsibycv\n"
     ]
    }
   ],
   "execution_count": 4
  },
  {
   "metadata": {},
   "cell_type": "code",
   "source": [
    "# 인스턴스 목록 조회\n",
    "instance_type_list = easymaker.Endpoint.get_instance_type_list()\n",
    "for instance in instance_type_list:\n",
    "    instance.print_info()\n",
    "instance_type_name = instance_type_list[0].name"
   ],
   "outputs": [],
   "execution_count": null
  },
  {
   "metadata": {},
   "cell_type": "markdown",
   "source": [
    "\n",
    "[파라미터]\n",
    "\n",
    "| 이름                                                          | 타입      | 필수 여부 | 기본값   | 유효 범위                      | 설명                                                                     |\n",
    "|-------------------------------------------------------------|---------|-------|-------|----------------------------|------------------------------------------------------------------------|\n",
    "| endpoint_name                                               | String  | 필수    | 없음    | 최대 50자                     | 엔드포인트 이름                                                               |\n",
    "| description                                        | String  | 선택    | 없음    | 최대 255자                    | 엔드포인트에 대한 설명                                                           |\n",
    "| instance_type_name                                      | String  | 필수    | 없음    | 없음                         | 엔드포인트에 사용될 인스턴스 타입 이름                                                  |\n",
    "| instance_count                                     | Integer | 선택    | 1     | 1~10                       | 엔드포인트에 사용될 인스턴스 수                                                      |\n",
    "| endpoint_model_resource_list                                | Array   | 필수    | 없음    | 최대 10개                     | 스테이지에 사용될 리소스 정보                                                 |\n",
    "| endpoint_model_resource_list[0].modelId                     | String   | 필수    | 없음    | 없음                       | 스테이지 리소스로 생성할 모델 ID                                   |\n",
    "| endpoint_model_resource_list[0].resourceOptionDetail        | Object   | 필수    | 없음    |                                  | 스테이지 리소스의 상세 정보                 |\n",
    "| endpoint_model_resource_list[0].resourceOptionDetail.cpu    | Double   | 필수    | 없음    | 0.0~                             | 스테이지 리소스에 사용될 CPU                |\n",
    "| endpoint_model_resource_list[0].resourceOptionDetail.memory | Object   | 필수    | 없음    | 1Mi~                             | 스테이지 리소스에 사용될 메모리             |\n",
    "| endpoint_model_resource_list[0].podAutoScaleEnable          | Boolean  | 선택    | False   | True, False                      | 스테이지 리소스에 사용될 파드 오토 스케일러 |\n",
    "| endpoint_model_resource_list[0].scaleMetricCode             | String   | 선택    | 없음    | CPU_UTILIZATION, MEMORY_UTILIZATION | 스테이지 리소스에 사용될 증설 단위          |\n",
    "| endpoint_model_resource_list[0].scaleMetricTarget           | Integer  | 선택    | 없음    | 1~                               | 스테이지 리소스에 사용될 증설 임계치 값     |\n",
    "| endpoint_model_resource_list[0].description                 | String   | 선택    | 없음    | 최대 255자                  | 스테이지 리소스에 대한 설명                                       |\n",
    "| use_log                                                     | Boolean | 선택    | False | True, False                | Log & Crash Search 서비스에 로그를 남길지 여부                                             |\n",
    "| wait                                                        | Boolean | 선택    | True   | True, False | True: 생성이 완료된 이후 반환, False: 생성 요청 후 즉시 반환 |\n"
   ]
  },
  {
   "metadata": {
    "ExecuteTime": {
     "end_time": "2025-05-23T05:41:22.439840Z",
     "start_time": "2025-05-23T05:33:57.428812Z"
    }
   },
   "cell_type": "code",
   "source": [
    "# 엔드포인트 생성\n",
    "endpoint = easymaker.Endpoint().create(\n",
    "    endpoint_name=\"endpoint_sample\",\n",
    "    description=\"Easymaker sample endpoint\",\n",
    "    endpoint_model_resource_list=[\n",
    "        easymaker.EndpointModelResource(\n",
    "            model_id=model.model_id,\n",
    "            pod_auto_scale_enable=True,\n",
    "            scale_metric_code=easymaker.SCALE_METRIC_CODE.CPU_UTILIZATION,\n",
    "            scale_metric_target=50,\n",
    "            resource_option_detail=easymaker.ResourceOptionDetail(\n",
    "                cpu=\"1.55\",\n",
    "                memory=\"3730Mi\",\n",
    "            ),\n",
    "        )\n",
    "    ],\n",
    "    instance_type_name=instance_type_name,\n",
    "    instance_count=1,\n",
    "    autoscaler_enable=True,\n",
    "    autoscaler_min_node_count=1,\n",
    "    autoscaler_max_node_count=10,\n",
    "    autoscaler_scale_down_enable=True,\n",
    "    autoscaler_scale_down_util_threshold=50,\n",
    "    autoscaler_scale_down_unneeded_time=10,\n",
    "    autoscaler_scale_down_delay_after_add=10,\n",
    "    use_log=True,\n",
    ")\n",
    "endpoint.print_info()"
   ],
   "outputs": [
    {
     "name": "stdout",
     "output_type": "stream",
     "text": [
      "[AI EasyMaker] Endpoint create request complete. endpoint_id: ie8rg9d2qa0y\n",
      "[AI EasyMaker] Endpoint create status: CREATE_REQUESTED (0:00:00) Please wait...\n",
      "[AI EasyMaker] Endpoint create status: CREATE_IN_PROGRESS (0:00:10) Please wait...\n",
      "[AI EasyMaker] Endpoint create status: CREATE_IN_PROGRESS (0:00:20) Please wait...\n",
      "[AI EasyMaker] Endpoint create status: CREATE_IN_PROGRESS (0:00:30) Please wait...\n",
      "[AI EasyMaker] Endpoint create status: CREATE_IN_PROGRESS (0:00:40) Please wait...\n",
      "[AI EasyMaker] Endpoint create status: CREATE_IN_PROGRESS (0:00:50) Please wait...\n",
      "[AI EasyMaker] Endpoint create status: CREATE_IN_PROGRESS (0:01:00) Please wait...\n",
      "[AI EasyMaker] Endpoint create status: CREATE_IN_PROGRESS (0:01:10) Please wait...\n",
      "[AI EasyMaker] Endpoint create status: CREATE_IN_PROGRESS (0:01:20) Please wait...\n",
      "[AI EasyMaker] Endpoint create status: CREATE_IN_PROGRESS (0:01:30) Please wait...\n",
      "[AI EasyMaker] Endpoint create status: CREATE_IN_PROGRESS (0:01:40) Please wait...\n",
      "[AI EasyMaker] Endpoint create status: CREATE_IN_PROGRESS (0:01:50) Please wait...\n",
      "[AI EasyMaker] Endpoint create status: CREATE_IN_PROGRESS (0:02:00) Please wait...\n",
      "[AI EasyMaker] Endpoint create status: CREATE_IN_PROGRESS (0:02:10) Please wait...\n",
      "[AI EasyMaker] Endpoint create status: CREATE_IN_PROGRESS (0:02:20) Please wait...\n",
      "[AI EasyMaker] Endpoint create status: CREATE_IN_PROGRESS (0:02:30) Please wait...\n",
      "[AI EasyMaker] Endpoint create status: CREATE_IN_PROGRESS (0:02:40) Please wait...\n",
      "[AI EasyMaker] Endpoint create status: CREATE_IN_PROGRESS (0:02:50) Please wait...\n",
      "[AI EasyMaker] Endpoint create status: CREATE_IN_PROGRESS (0:03:00) Please wait...\n",
      "[AI EasyMaker] Endpoint create status: CREATE_IN_PROGRESS (0:03:10) Please wait...\n",
      "[AI EasyMaker] Endpoint create status: CREATE_IN_PROGRESS (0:03:20) Please wait...\n",
      "[AI EasyMaker] Endpoint create status: CREATE_IN_PROGRESS (0:03:30) Please wait...\n",
      "[AI EasyMaker] Endpoint create status: CREATE_IN_PROGRESS (0:03:40) Please wait...\n",
      "[AI EasyMaker] Endpoint create status: CREATE_IN_PROGRESS (0:03:50) Please wait...\n",
      "[AI EasyMaker] Endpoint create status: CREATE_IN_PROGRESS (0:04:00) Please wait...\n",
      "[AI EasyMaker] Endpoint create status: CREATE_IN_PROGRESS (0:04:10) Please wait...\n",
      "[AI EasyMaker] Endpoint create status: CREATE_IN_PROGRESS (0:04:20) Please wait...\n",
      "[AI EasyMaker] Endpoint create status: CREATE_IN_PROGRESS (0:04:30) Please wait...\n",
      "[AI EasyMaker] Endpoint create status: CREATE_IN_PROGRESS (0:04:40) Please wait...\n",
      "[AI EasyMaker] Endpoint create complete. endpoint_id: ie8rg9d2qa0y\n",
      "[AI EasyMaker] EndpointStage create status: DEPLOY_IN_PROGRESS (0:00:00) Please wait...\n",
      "[AI EasyMaker] EndpointStage create status: DEPLOY_IN_PROGRESS (0:00:10) Please wait...\n",
      "[AI EasyMaker] EndpointStage create status: DEPLOY_IN_PROGRESS (0:00:20) Please wait...\n",
      "[AI EasyMaker] EndpointStage create status: DEPLOY_IN_PROGRESS (0:00:30) Please wait...\n",
      "[AI EasyMaker] EndpointStage create status: DEPLOY_IN_PROGRESS (0:00:40) Please wait...\n",
      "[AI EasyMaker] EndpointStage create status: DEPLOY_IN_PROGRESS (0:00:50) Please wait...\n",
      "[AI EasyMaker] EndpointStage create status: DEPLOY_IN_PROGRESS (0:01:00) Please wait...\n",
      "[AI EasyMaker] EndpointStage create complete. endpoint_stage_id: urvwtzhv06uq\n",
      "{\n",
      "    \"appKey\": \"qV5VIb2S1hr33zTS\",\n",
      "    \"createdDatetime\": \"2025-05-23T14:34:26+09:00\",\n",
      "    \"endpointId\": \"ie8rg9d2qa0y\",\n",
      "    \"endpointName\": \"endpoint_sample\",\n",
      "    \"endpointStatusCode\": \"ACTIVE\",\n",
      "    \"apigwAppKey\": \"yswXI6rptH8UqnBM\",\n",
      "    \"apigwRegion\": \"KR1\",\n",
      "    \"apigwServiceId\": \"t2vqeenpgo\",\n",
      "    \"endpointStageList\": [\n",
      "        {\n",
      "            \"description\": \"Easymaker sample endpoint\",\n",
      "            \"appKey\": \"qV5VIb2S1hr33zTS\",\n",
      "            \"createdDatetime\": \"2025-05-23T14:34:26+09:00\",\n",
      "            \"endpointStageId\": \"urvwtzhv06uq\",\n",
      "            \"endpointId\": \"ie8rg9d2qa0y\",\n",
      "            \"endpointStageStatusCode\": \"DEPLOY_IN_PROGRESS\",\n",
      "            \"apigwStageId\": \"e164a145-f432-4a7e-8c0b-f26955ef482b\",\n",
      "            \"logAndCrashAppKey\": \"V1eIQHSgTbwTga2n\",\n",
      "            \"instanceType\": {\n",
      "                \"id\": \"35a73b57-58a7-434d-aa08-5249aaa95b3e\",\n",
      "                \"gpu\": false\n",
      "            },\n",
      "            \"isClusterLatest\": true,\n",
      "            \"defaultStage\": true,\n",
      "            \"endpointModelList\": [\n",
      "                {\n",
      "                    \"appKey\": \"qV5VIb2S1hr33zTS\",\n",
      "                    \"createdDatetime\": \"2025-05-23T14:34:26+09:00\",\n",
      "                    \"endpointModelId\": \"u4wh94hqtj3u\",\n",
      "                    \"endpointId\": \"ie8rg9d2qa0y\",\n",
      "                    \"endpointModelStatusCode\": \"CREATE_IN_PROGRESS\",\n",
      "                    \"endpointStageId\": \"urvwtzhv06uq\",\n",
      "                    \"modelId\": \"g5t14lsibycv\",\n",
      "                    \"model\": {\n",
      "                        \"appKey\": \"qV5VIb2S1hr33zTS\",\n",
      "                        \"createdDatetime\": \"2025-05-23T08:04:03+09:00\",\n",
      "                        \"modelId\": \"g5t14lsibycv\",\n",
      "                        \"modelName\": \"easymaker_model_sample\",\n",
      "                        \"modelStatusCode\": \"ACTIVE\",\n",
      "                        \"modelTypeCode\": \"TENSORFLOW\",\n",
      "                        \"modelUploadUri\": \"obs://kr1-api-object-storage.nhncloudservice.com/v1/AUTH_ed79fa143403492fbaf3ce31f0c03314/easymaker-sample/iris-tensorflow-model\"\n",
      "                    }\n",
      "                }\n",
      "            ]\n",
      "        }\n",
      "    ],\n",
      "    \"defaultStage\": {\n",
      "        \"description\": \"Easymaker sample endpoint\",\n",
      "        \"appKey\": \"qV5VIb2S1hr33zTS\",\n",
      "        \"createdDatetime\": \"2025-05-23T14:34:26+09:00\",\n",
      "        \"endpointStageId\": \"urvwtzhv06uq\",\n",
      "        \"endpointId\": \"ie8rg9d2qa0y\",\n",
      "        \"endpointStageStatusCode\": \"ACTIVE\",\n",
      "        \"apigwStageId\": \"e164a145-f432-4a7e-8c0b-f26955ef482b\",\n",
      "        \"logAndCrashAppKey\": \"V1eIQHSgTbwTga2n\",\n",
      "        \"instanceType\": {\n",
      "            \"id\": \"35a73b57-58a7-434d-aa08-5249aaa95b3e\",\n",
      "            \"name\": \"m2.c2m4\",\n",
      "            \"vcpus\": 2,\n",
      "            \"ram\": 4096,\n",
      "            \"disk\": 0,\n",
      "            \"gpu\": false\n",
      "        },\n",
      "        \"nodeCount\": 1,\n",
      "        \"isActiveNodeGroupStatus\": true,\n",
      "        \"isClusterLatest\": true,\n",
      "        \"apigwStageUrl\": \"kr1-t2vqeenpgo.api.nhncloudservice.com\",\n",
      "        \"deployStatus\": \"COMPLETE\",\n",
      "        \"defaultStage\": true,\n",
      "        \"podCount\": 1,\n",
      "        \"endpointModelList\": [\n",
      "            {\n",
      "                \"appKey\": \"qV5VIb2S1hr33zTS\",\n",
      "                \"createdDatetime\": \"2025-05-23T14:34:26+09:00\",\n",
      "                \"endpointModelId\": \"u4wh94hqtj3u\",\n",
      "                \"endpointId\": \"ie8rg9d2qa0y\",\n",
      "                \"endpointModelStatusCode\": \"ACTIVE\",\n",
      "                \"endpointStageId\": \"urvwtzhv06uq\",\n",
      "                \"modelId\": \"g5t14lsibycv\",\n",
      "                \"model\": {\n",
      "                    \"appKey\": \"qV5VIb2S1hr33zTS\",\n",
      "                    \"createdDatetime\": \"2025-05-23T08:04:03+09:00\",\n",
      "                    \"modelId\": \"g5t14lsibycv\",\n",
      "                    \"modelName\": \"easymaker_model_sample\",\n",
      "                    \"modelStatusCode\": \"ACTIVE\",\n",
      "                    \"modelTypeCode\": \"TENSORFLOW\",\n",
      "                    \"modelUploadUri\": \"obs://kr1-api-object-storage.nhncloudservice.com/v1/AUTH_ed79fa143403492fbaf3ce31f0c03314/easymaker-sample/iris-tensorflow-model\"\n",
      "                }\n",
      "            }\n",
      "        ]\n",
      "    }\n",
      "}\n"
     ]
    }
   ],
   "execution_count": 2
  },
  {
   "metadata": {},
   "cell_type": "markdown",
   "source": [
    "## 엔드포인트 조회\n",
    "\n",
    "생성된 엔드포인트를 조회합니다."
   ]
  },
  {
   "metadata": {
    "ExecuteTime": {
     "end_time": "2025-05-23T05:43:26.839476Z",
     "start_time": "2025-05-23T05:43:25.722828Z"
    }
   },
   "cell_type": "code",
   "source": [
    "# 목록 조회\n",
    "endpoint_list = easymaker.Endpoint.get_list()\n",
    "for endpoint in endpoint_list:\n",
    "    endpoint.print_info()"
   ],
   "outputs": [
    {
     "name": "stdout",
     "output_type": "stream",
     "text": [
      "{\n",
      "    \"appKey\": \"qV5VIb2S1hr33zTS\",\n",
      "    \"createdDatetime\": \"2025-05-23T14:34:26+09:00\",\n",
      "    \"endpointId\": \"ie8rg9d2qa0y\",\n",
      "    \"endpointName\": \"endpoint_sample\",\n",
      "    \"endpointStatusCode\": \"ACTIVE\",\n",
      "    \"apigwAppKey\": \"yswXI6rptH8UqnBM\",\n",
      "    \"apigwRegion\": \"KR1\",\n",
      "    \"apigwServiceId\": \"t2vqeenpgo\",\n",
      "    \"endpointStageList\": [\n",
      "        {\n",
      "            \"description\": \"Easymaker sample endpoint\",\n",
      "            \"appKey\": \"qV5VIb2S1hr33zTS\",\n",
      "            \"createdDatetime\": \"2025-05-23T14:34:26+09:00\",\n",
      "            \"endpointStageId\": \"urvwtzhv06uq\",\n",
      "            \"endpointId\": \"ie8rg9d2qa0y\",\n",
      "            \"endpointStageStatusCode\": \"ACTIVE\",\n",
      "            \"apigwStageId\": \"e164a145-f432-4a7e-8c0b-f26955ef482b\",\n",
      "            \"logAndCrashAppKey\": \"V1eIQHSgTbwTga2n\",\n",
      "            \"instanceType\": {\n",
      "                \"id\": \"35a73b57-58a7-434d-aa08-5249aaa95b3e\",\n",
      "                \"gpu\": false\n",
      "            },\n",
      "            \"isClusterLatest\": true,\n",
      "            \"defaultStage\": true,\n",
      "            \"endpointModelList\": [\n",
      "                {\n",
      "                    \"appKey\": \"qV5VIb2S1hr33zTS\",\n",
      "                    \"createdDatetime\": \"2025-05-23T14:34:26+09:00\",\n",
      "                    \"endpointModelId\": \"u4wh94hqtj3u\",\n",
      "                    \"endpointId\": \"ie8rg9d2qa0y\",\n",
      "                    \"endpointModelStatusCode\": \"ACTIVE\",\n",
      "                    \"endpointStageId\": \"urvwtzhv06uq\",\n",
      "                    \"modelId\": \"g5t14lsibycv\",\n",
      "                    \"model\": {\n",
      "                        \"appKey\": \"qV5VIb2S1hr33zTS\",\n",
      "                        \"createdDatetime\": \"2025-05-23T08:04:03+09:00\",\n",
      "                        \"modelId\": \"g5t14lsibycv\",\n",
      "                        \"modelName\": \"easymaker_model_sample\",\n",
      "                        \"modelStatusCode\": \"ACTIVE\",\n",
      "                        \"modelTypeCode\": \"TENSORFLOW\",\n",
      "                        \"modelUploadUri\": \"obs://kr1-api-object-storage.nhncloudservice.com/v1/AUTH_ed79fa143403492fbaf3ce31f0c03314/easymaker-sample/iris-tensorflow-model\"\n",
      "                    }\n",
      "                }\n",
      "            ]\n",
      "        }\n",
      "    ],\n",
      "    \"defaultStage\": {\n",
      "        \"description\": \"Easymaker sample endpoint\",\n",
      "        \"appKey\": \"qV5VIb2S1hr33zTS\",\n",
      "        \"createdDatetime\": \"2025-05-23T14:34:26+09:00\",\n",
      "        \"endpointStageId\": \"urvwtzhv06uq\",\n",
      "        \"endpointId\": \"ie8rg9d2qa0y\",\n",
      "        \"endpointStageStatusCode\": \"ACTIVE\",\n",
      "        \"apigwStageId\": \"e164a145-f432-4a7e-8c0b-f26955ef482b\",\n",
      "        \"logAndCrashAppKey\": \"V1eIQHSgTbwTga2n\",\n",
      "        \"instanceType\": {\n",
      "            \"id\": \"35a73b57-58a7-434d-aa08-5249aaa95b3e\",\n",
      "            \"gpu\": false\n",
      "        },\n",
      "        \"isClusterLatest\": true,\n",
      "        \"apigwStageUrl\": \"kr1-t2vqeenpgo.api.nhncloudservice.com\",\n",
      "        \"deployStatus\": \"COMPLETE\",\n",
      "        \"defaultStage\": true,\n",
      "        \"endpointModelList\": [\n",
      "            {\n",
      "                \"appKey\": \"qV5VIb2S1hr33zTS\",\n",
      "                \"createdDatetime\": \"2025-05-23T14:34:26+09:00\",\n",
      "                \"endpointModelId\": \"u4wh94hqtj3u\",\n",
      "                \"endpointId\": \"ie8rg9d2qa0y\",\n",
      "                \"endpointModelStatusCode\": \"ACTIVE\",\n",
      "                \"endpointStageId\": \"urvwtzhv06uq\",\n",
      "                \"modelId\": \"g5t14lsibycv\",\n",
      "                \"model\": {\n",
      "                    \"appKey\": \"qV5VIb2S1hr33zTS\",\n",
      "                    \"createdDatetime\": \"2025-05-23T08:04:03+09:00\",\n",
      "                    \"modelId\": \"g5t14lsibycv\",\n",
      "                    \"modelName\": \"easymaker_model_sample\",\n",
      "                    \"modelStatusCode\": \"ACTIVE\",\n",
      "                    \"modelTypeCode\": \"TENSORFLOW\",\n",
      "                    \"modelUploadUri\": \"obs://kr1-api-object-storage.nhncloudservice.com/v1/AUTH_ed79fa143403492fbaf3ce31f0c03314/easymaker-sample/iris-tensorflow-model\"\n",
      "                }\n",
      "            }\n",
      "        ]\n",
      "    }\n",
      "}\n"
     ]
    }
   ],
   "execution_count": 5
  },
  {
   "metadata": {},
   "cell_type": "code",
   "source": [
    "# 단건 조회\n",
    "endpoint = easymaker.Endpoint(endpoint_id=endpoint.endpoint_id)"
   ],
   "outputs": [],
   "execution_count": null
  },
  {
   "metadata": {
    "ExecuteTime": {
     "end_time": "2025-05-26T08:11:56.428981Z",
     "start_time": "2025-05-26T08:11:52.785540Z"
    }
   },
   "cell_type": "code",
   "source": [
    "import easymaker\n",
    "\n",
    "region=\"kr1\"\n",
    "appkey=\"qV5VIb2S1hr33zTS\"\n",
    "user_access_key_id=\"I7XDyq6mxK4DKLUfWbFB\"\n",
    "secret_access_key=\"bed6kJEG3S7Qi5kx\"\n",
    "\n",
    "# SDK 초기화\n",
    "easymaker.init(\n",
    "    region=region,\n",
    "    appkey=appkey,\n",
    "    access_token=easymaker.sample.get_access_token(user_access_key_id, secret_access_key),\n",
    "    profile=\"alpha\",\n",
    ")\n",
    "endpoint = easymaker.Endpoint(endpoint_id=\"ie8rg9d2qa0y\")\n",
    "endpoint.print_info()"
   ],
   "outputs": [
    {
     "name": "stdout",
     "output_type": "stream",
     "text": [
      "{\n",
      "    \"appKey\": \"qV5VIb2S1hr33zTS\",\n",
      "    \"createdDatetime\": \"2025-05-23T14:34:26+09:00\",\n",
      "    \"endpointId\": \"ie8rg9d2qa0y\",\n",
      "    \"endpointName\": \"endpoint_sample\",\n",
      "    \"endpointStatusCode\": \"ACTIVE\",\n",
      "    \"apigwAppKey\": \"yswXI6rptH8UqnBM\",\n",
      "    \"apigwRegion\": \"KR1\",\n",
      "    \"apigwServiceId\": \"t2vqeenpgo\",\n",
      "    \"endpointStageList\": [\n",
      "        {\n",
      "            \"description\": \"Easymaker sample endpoint\",\n",
      "            \"appKey\": \"qV5VIb2S1hr33zTS\",\n",
      "            \"createdDatetime\": \"2025-05-23T14:34:26+09:00\",\n",
      "            \"endpointStageId\": \"urvwtzhv06uq\",\n",
      "            \"endpointId\": \"ie8rg9d2qa0y\",\n",
      "            \"endpointStageStatusCode\": \"ACTIVE\",\n",
      "            \"apigwStageId\": \"e164a145-f432-4a7e-8c0b-f26955ef482b\",\n",
      "            \"logAndCrashAppKey\": \"V1eIQHSgTbwTga2n\",\n",
      "            \"instanceType\": {\n",
      "                \"id\": \"35a73b57-58a7-434d-aa08-5249aaa95b3e\",\n",
      "                \"gpu\": false\n",
      "            },\n",
      "            \"isClusterLatest\": true,\n",
      "            \"defaultStage\": true,\n",
      "            \"endpointModelList\": [\n",
      "                {\n",
      "                    \"appKey\": \"qV5VIb2S1hr33zTS\",\n",
      "                    \"createdDatetime\": \"2025-05-23T14:34:26+09:00\",\n",
      "                    \"endpointModelId\": \"u4wh94hqtj3u\",\n",
      "                    \"endpointId\": \"ie8rg9d2qa0y\",\n",
      "                    \"endpointModelStatusCode\": \"ACTIVE\",\n",
      "                    \"endpointStageId\": \"urvwtzhv06uq\",\n",
      "                    \"modelId\": \"g5t14lsibycv\",\n",
      "                    \"model\": {\n",
      "                        \"appKey\": \"qV5VIb2S1hr33zTS\",\n",
      "                        \"createdDatetime\": \"2025-05-23T08:04:03+09:00\",\n",
      "                        \"modelId\": \"g5t14lsibycv\",\n",
      "                        \"modelName\": \"easymaker_model_sample\",\n",
      "                        \"modelStatusCode\": \"ACTIVE\",\n",
      "                        \"modelTypeCode\": \"TENSORFLOW\",\n",
      "                        \"modelUploadUri\": \"obs://kr1-api-object-storage.nhncloudservice.com/v1/AUTH_ed79fa143403492fbaf3ce31f0c03314/easymaker-sample/iris-tensorflow-model\"\n",
      "                    }\n",
      "                }\n",
      "            ]\n",
      "        }\n",
      "    ],\n",
      "    \"defaultStage\": {\n",
      "        \"description\": \"Easymaker sample endpoint\",\n",
      "        \"appKey\": \"qV5VIb2S1hr33zTS\",\n",
      "        \"createdDatetime\": \"2025-05-23T14:34:26+09:00\",\n",
      "        \"endpointStageId\": \"urvwtzhv06uq\",\n",
      "        \"endpointId\": \"ie8rg9d2qa0y\",\n",
      "        \"endpointStageStatusCode\": \"ACTIVE\",\n",
      "        \"apigwStageId\": \"e164a145-f432-4a7e-8c0b-f26955ef482b\",\n",
      "        \"logAndCrashAppKey\": \"V1eIQHSgTbwTga2n\",\n",
      "        \"instanceType\": {\n",
      "            \"id\": \"35a73b57-58a7-434d-aa08-5249aaa95b3e\",\n",
      "            \"gpu\": false\n",
      "        },\n",
      "        \"isClusterLatest\": true,\n",
      "        \"apigwStageUrl\": \"kr1-t2vqeenpgo.api.nhncloudservice.com\",\n",
      "        \"deployStatus\": \"COMPLETE\",\n",
      "        \"defaultStage\": true,\n",
      "        \"endpointModelList\": [\n",
      "            {\n",
      "                \"appKey\": \"qV5VIb2S1hr33zTS\",\n",
      "                \"createdDatetime\": \"2025-05-23T14:34:26+09:00\",\n",
      "                \"endpointModelId\": \"u4wh94hqtj3u\",\n",
      "                \"endpointId\": \"ie8rg9d2qa0y\",\n",
      "                \"endpointModelStatusCode\": \"ACTIVE\",\n",
      "                \"endpointStageId\": \"urvwtzhv06uq\",\n",
      "                \"modelId\": \"g5t14lsibycv\",\n",
      "                \"model\": {\n",
      "                    \"appKey\": \"qV5VIb2S1hr33zTS\",\n",
      "                    \"createdDatetime\": \"2025-05-23T08:04:03+09:00\",\n",
      "                    \"modelId\": \"g5t14lsibycv\",\n",
      "                    \"modelName\": \"easymaker_model_sample\",\n",
      "                    \"modelStatusCode\": \"ACTIVE\",\n",
      "                    \"modelTypeCode\": \"TENSORFLOW\",\n",
      "                    \"modelUploadUri\": \"obs://kr1-api-object-storage.nhncloudservice.com/v1/AUTH_ed79fa143403492fbaf3ce31f0c03314/easymaker-sample/iris-tensorflow-model\"\n",
      "                }\n",
      "            }\n",
      "        ]\n",
      "    }\n",
      "}\n"
     ]
    }
   ],
   "execution_count": 1
  },
  {
   "metadata": {
    "ExecuteTime": {
     "end_time": "2025-05-26T08:24:40.382336Z",
     "start_time": "2025-05-26T08:24:39.788738Z"
    }
   },
   "cell_type": "code",
   "source": [
    "input_data1 = [6.0, 3.4, 4.5, 1.6]\n",
    "input_data2 = [3.2, 4.7, 3.3, 2.4]\n",
    "result = endpoint.predict(\n",
    "    model_id=endpoint.default_stage.endpoint_model_list[0].model_id,\n",
    "    json={\"instances\": [input_data1, input_data2]},\n",
    ")\n",
    "print(result)"
   ],
   "outputs": [
    {
     "name": "stdout",
     "output_type": "stream",
     "text": [
      "{'predictions': [[0.0, 1.03283944e-20, 1.0], [0.0, 6.27650225e-19, 1.0]]}\n"
     ]
    }
   ],
   "execution_count": 2
  },
  {
   "metadata": {},
   "cell_type": "markdown",
   "source": "#"
  },
  {
   "metadata": {},
   "cell_type": "markdown",
   "source": [
    "## 엔드포인트 삭제\n",
    "\n",
    "생성된 엔드포인트를 삭제합니다."
   ]
  },
  {
   "metadata": {},
   "cell_type": "code",
   "outputs": [],
   "execution_count": null,
   "source": [
    "# 엔드포인트 삭제\n",
    "endpoint.delete()"
   ]
  }
 ],
 "metadata": {
  "kernelspec": {
   "display_name": "Python 3",
   "language": "python",
   "name": "python3"
  },
  "language_info": {
   "codemirror_mode": {
    "name": "ipython",
    "version": 3
   },
   "file_extension": ".py",
   "mimetype": "text/x-python",
   "name": "python",
   "nbconvert_exporter": "python",
   "pygments_lexer": "ipython3",
   "version": "3.8.5"
  }
 },
 "nbformat": 4,
 "nbformat_minor": 4
}
