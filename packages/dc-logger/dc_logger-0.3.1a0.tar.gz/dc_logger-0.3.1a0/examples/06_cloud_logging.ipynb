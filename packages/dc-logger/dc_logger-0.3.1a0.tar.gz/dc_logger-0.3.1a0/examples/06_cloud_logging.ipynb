{
  "cells": [
    {
      "cell_type": "markdown",
      "metadata": {},
      "source": [
        "# Example 6: Cloud Logging - Datadog Integration\n",
        "\n",
        "## What You'll Learn\n",
        "\n",
        "This notebook demonstrates cloud logging with Datadog:\n",
        "\n",
        "- **DatadogHandler** - Send logs to Datadog\n",
        "- **Datadog_ServiceConfig** - Configure Datadog integration\n",
        "- **API Key Management** - Secure configuration\n",
        "- **Cloud vs Local** - When to use cloud logging\n",
        "- **Real-World Examples** - Production monitoring scenarios\n"
      ]
    },
    {
      "cell_type": "markdown",
      "metadata": {},
      "source": [
        "## Setup - Imports\n"
      ]
    },
    {
      "cell_type": "code",
      "execution_count": 3,
      "metadata": {},
      "outputs": [
        {
          "name": "stdout",
          "output_type": "stream",
          "text": [
            "All imports successful!\n"
          ]
        }
      ],
      "source": [
        "import asyncio\n",
        "import os\n",
        "from dc_logger.client.Log import LogEntry, LogLevel\n",
        "from dc_logger.client.base import Logger, HandlerInstance\n",
        "from dc_logger.services.cloud.datadog import DatadogHandler, Datadog_ServiceConfig\n",
        "\n",
        "print(\"All imports successful!\")\n"
      ]
    },
    {
      "cell_type": "markdown",
      "metadata": {},
      "source": [
        "---\n",
        "## Part 1: Basic Datadog Configuration\n",
        "\n",
        "**Note**: To actually send logs to Datadog, you need:\n",
        "1. A Datadog account\n",
        "2. A valid API key\n",
        "3. Optionally, an APP key for additional features\n",
        "\n",
        "For this example, we'll show the configuration. Replace placeholders with your actual keys.\n"
      ]
    },
    {
      "cell_type": "code",
      "execution_count": 4,
      "metadata": {},
      "outputs": [
        {
          "name": "stdout",
          "output_type": "stream",
          "text": [
            "======================================================================\n",
            "Basic Datadog Configuration\n",
            "======================================================================\n",
            "\n",
            "Datadog Configuration:\n",
            "  Site: datadoghq.com\n",
            "  Service: my_application\n",
            "  Environment: production\n",
            "  Intake URL: https://http-intake.logs.datadoghq.com/v1/input\n",
            "  API Key: Not Set\n"
          ]
        }
      ],
      "source": [
        "print(\"=\" * 70)\n",
        "print(\"Basic Datadog Configuration\")\n",
        "print(\"=\" * 70)\n",
        "\n",
        "# Example configuration - USE ACTUAL KEYS FOR REAL USAGE\n",
        "datadog_config = Datadog_ServiceConfig(\n",
        "    api_key=os.getenv(\"DATADOG_API_KEY\", \"YOUR_API_KEY_HERE\"),  # Get from environment\n",
        "    app_key=os.getenv(\"DATADOG_APP_KEY\", \"YOUR_APP_KEY_HERE\"),  # Optional\n",
        "    site=\"datadoghq.com\",  # or us3.datadoghq.com, us5.datadoghq.com, etc.\n",
        "    service=\"my_application\",  # Your service name in Datadog\n",
        "    env=\"production\"  # Environment: production, staging, development\n",
        ")\n",
        "\n",
        "print(\"\\nDatadog Configuration:\")\n",
        "print(f\"  Site: {datadog_config.site}\")\n",
        "print(f\"  Service: {datadog_config.service}\")\n",
        "print(f\"  Environment: {datadog_config.env}\")\n",
        "print(f\"  Intake URL: {datadog_config.derive_intake_url()}\")\n",
        "print(f\"  API Key: {'Set' if datadog_config.api_key != 'YOUR_API_KEY_HERE' else 'Not Set'}\")\n"
      ]
    },
    {
      "cell_type": "markdown",
      "metadata": {},
      "source": [
        "---\n",
        "## Part 2: Creating Datadog Logger\n",
        "\n",
        "**Important**: The following cells demonstrate the setup. If you don't have valid Datadog credentials, the actual log sending will fail (which is expected).\n"
      ]
    },
    {
      "cell_type": "code",
      "execution_count": 5,
      "metadata": {},
      "outputs": [
        {
          "name": "stdout",
          "output_type": "stream",
          "text": [
            "======================================================================\n",
            "Creating Datadog Logger\n",
            "======================================================================\n",
            "\n",
            "Note: Could not initialize Datadog handler: Can't instantiate abstract class DatadogHandler without an implementation for abstract method 'flush'\n",
            "This is expected if you don't have valid Datadog credentials\n",
            "Configuration shown above is for reference\n"
          ]
        }
      ],
      "source": [
        "print(\"=\" * 70)\n",
        "print(\"Creating Datadog Logger\")\n",
        "print(\"=\" * 70)\n",
        "\n",
        "# Note: This will work if you have valid credentials\n",
        "# Otherwise, it will show configuration but not send logs\n",
        "\n",
        "try:\n",
        "    # Create Datadog handler\n",
        "    datadog_handler = DatadogHandler(config=datadog_config)\n",
        "    \n",
        "    # Create handler instance\n",
        "    datadog_handler_instance = HandlerInstance(\n",
        "        handler=datadog_handler,\n",
        "        output_type=\"json\"  # Datadog accepts JSON format\n",
        "    )\n",
        "    \n",
        "    # Create logger with Datadog handler\n",
        "    datadog_logger = Logger(\n",
        "        app_name=\"cloud_demo\",\n",
        "        handlers=[datadog_handler_instance]\n",
        "    )\n",
        "    \n",
        "    print(\"\\nDatadog logger created successfully!\")\n",
        "    print(\"Ready to send logs to Datadog\")\n",
        "    \n",
        "except Exception as e:\n",
        "    print(f\"\\nNote: Could not initialize Datadog handler: {e}\")\n",
        "    print(\"This is expected if you don't have valid Datadog credentials\")\n",
        "    print(\"Configuration shown above is for reference\")\n"
      ]
    },
    {
      "cell_type": "markdown",
      "metadata": {},
      "source": [
        "---\n",
        "## Part 3: Example Log Entries for Datadog\n",
        "\n",
        "Here's what log entries would look like when sent to Datadog.\n"
      ]
    },
    {
      "cell_type": "code",
      "execution_count": 6,
      "metadata": {},
      "outputs": [
        {
          "name": "stdout",
          "output_type": "stream",
          "text": [
            "======================================================================\n",
            "Example Log Entries for Datadog\n",
            "======================================================================\n",
            "\n",
            "Example logs that would be sent to Datadog:\n",
            "\n",
            "1. [INFO] Application started\n",
            "   Extra: {'version': '1.2.3', 'environment': 'production'}\n",
            "\n",
            "2. [INFO] User authenticated\n",
            "   User: user_alice_123\n",
            "   Action: login\n",
            "   Extra: {'login_method': 'oauth2'}\n",
            "\n",
            "3. [WARNING] High memory usage\n",
            "   Extra: {'memory_percent': 85, 'threshold': 80}\n",
            "\n",
            "4. [ERROR] Database connection failed\n",
            "   Extra: {'host': 'db.example.com', 'error': 'Connection timeout', 'retry_count': 3}\n",
            "\n"
          ]
        }
      ],
      "source": [
        "print(\"=\" * 70)\n",
        "print(\"Example Log Entries for Datadog\")\n",
        "print(\"=\" * 70)\n",
        "\n",
        "# These examples show what you would log if you had valid credentials\n",
        "\n",
        "examples = [\n",
        "    {\n",
        "        \"level\": \"INFO\",\n",
        "        \"message\": \"Application started\",\n",
        "        \"kwargs\": {\n",
        "            \"extra\": {\"version\": \"1.2.3\", \"environment\": \"production\"}\n",
        "        }\n",
        "    },\n",
        "    {\n",
        "        \"level\": \"INFO\",\n",
        "        \"message\": \"User authenticated\",\n",
        "        \"kwargs\": {\n",
        "            \"user_id\": \"user_alice_123\",\n",
        "            \"tenant_id\": \"tenant_acme\",\n",
        "            \"action\": \"login\",\n",
        "            \"extra\": {\"login_method\": \"oauth2\"}\n",
        "        }\n",
        "    },\n",
        "    {\n",
        "        \"level\": \"WARNING\",\n",
        "        \"message\": \"High memory usage\",\n",
        "        \"kwargs\": {\n",
        "            \"extra\": {\"memory_percent\": 85, \"threshold\": 80}\n",
        "        }\n",
        "    },\n",
        "    {\n",
        "        \"level\": \"ERROR\",\n",
        "        \"message\": \"Database connection failed\",\n",
        "        \"kwargs\": {\n",
        "            \"extra\": {\n",
        "                \"host\": \"db.example.com\",\n",
        "                \"error\": \"Connection timeout\",\n",
        "                \"retry_count\": 3\n",
        "            }\n",
        "        }\n",
        "    }\n",
        "]\n",
        "\n",
        "print(\"\\nExample logs that would be sent to Datadog:\\n\")\n",
        "for i, ex in enumerate(examples, 1):\n",
        "    print(f\"{i}. [{ex['level']}] {ex['message']}\")\n",
        "    if 'user_id' in ex['kwargs']:\n",
        "        print(f\"   User: {ex['kwargs']['user_id']}\")\n",
        "    if 'action' in ex['kwargs']:\n",
        "        print(f\"   Action: {ex['kwargs']['action']}\")\n",
        "    if 'extra' in ex['kwargs']:\n",
        "        print(f\"   Extra: {ex['kwargs']['extra']}\")\n",
        "    print()\n"
      ]
    },
    {
      "cell_type": "markdown",
      "metadata": {},
      "source": [
        "---\n",
        "## Part 4: Different Datadog Sites\n",
        "\n",
        "Datadog has different sites depending on your region.\n"
      ]
    },
    {
      "cell_type": "code",
      "execution_count": 7,
      "metadata": {},
      "outputs": [
        {
          "name": "stdout",
          "output_type": "stream",
          "text": [
            "======================================================================\n",
            "Datadog Sites and Intake URLs\n",
            "======================================================================\n",
            "\n",
            "Datadog site intake URLs:\n",
            "\n",
            "  datadoghq.com             -> https://http-intake.logs.datadoghq.com/v1/input\n",
            "  us3.datadoghq.com         -> https://http-intake.logs.us3.datadoghq.com/v1/input\n",
            "  us5.datadoghq.com         -> https://http-intake.logs.us5.datadoghq.com/v1/input\n",
            "  datadoghq.eu              -> https://http-intake.logs.datadoghq.eu/v1/input\n",
            "  ap1.datadoghq.com         -> https://http-intake.logs.ap1.datadoghq.com/v1/input\n",
            "\n",
            "Note: Use the site that matches your Datadog account region\n"
          ]
        }
      ],
      "source": [
        "print(\"=\" * 70)\n",
        "print(\"Datadog Sites and Intake URLs\")\n",
        "print(\"=\" * 70)\n",
        "\n",
        "sites = [\n",
        "    \"datadoghq.com\",  # US1\n",
        "    \"us3.datadoghq.com\",  # US3\n",
        "    \"us5.datadoghq.com\",  # US5\n",
        "    \"datadoghq.eu\",  # EU\n",
        "    \"ap1.datadoghq.com\",  # AP1\n",
        "]\n",
        "\n",
        "print(\"\\nDatadog site intake URLs:\\n\")\n",
        "for site in sites:\n",
        "    url = Datadog_ServiceConfig._derive_intake_url(site)\n",
        "    print(f\"  {site:25} -> {url}\")\n",
        "\n",
        "print(\"\\nNote: Use the site that matches your Datadog account region\")\n"
      ]
    },
    {
      "cell_type": "markdown",
      "metadata": {},
      "source": [
        "---\n",
        "## Summary\n",
        "\n",
        "1. **DatadogHandler** - Send logs to Datadog cloud service\n",
        "2. **Datadog_ServiceConfig** - Configure Datadog integration with API keys\n",
        "3. **Different Sites** - Support for all Datadog regions\n",
        "4. **Secure Configuration** - Use environment variables for API keys\n",
        "5. **Best Practices** - Security, cost optimization, monitoring\n",
        "6. **Use Cases** - When to use cloud vs file logging\n",
        "\n",
        "### Key Takeaways\n",
        "\n",
        "- **Centralized Monitoring** - All logs in one place\n",
        "- **Real-Time Alerts** - Get notified of issues immediately\n",
        "- **Powerful Search** - Query across all services\n",
        "- **Cost Awareness** - Monitor usage to control costs\n",
        "- **Security First** - Never expose API keys\n",
        "\n",
        "### Configuration Checklist\n",
        "\n",
        "Before using Datadog logging in production:\n",
        "\n",
        "- [ ] Get Datadog API key from your Datadog account\n",
        "- [ ] Store API key in environment variable (not in code)\n",
        "- [ ] Verify correct site for your region\n",
        "- [ ] Set appropriate service and environment names\n",
        "- [ ] Test with a few logs first\n",
        "- [ ] Set up alerts for log ingestion failures\n",
        "- [ ] Configure log retention policies\n",
        "\n"
      ]
    }
  ],
  "metadata": {
    "kernelspec": {
      "display_name": "Python 3",
      "language": "python",
      "name": "python3"
    },
    "language_info": {
      "codemirror_mode": {
        "name": "ipython",
        "version": 3
      },
      "file_extension": ".py",
      "mimetype": "text/x-python",
      "name": "python",
      "nbconvert_exporter": "python",
      "pygments_lexer": "ipython3",
      "version": "3.13.7"
    }
  },
  "nbformat": 4,
  "nbformat_minor": 2
}
