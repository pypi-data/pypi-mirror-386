{
  "cells": [
    {
      "cell_type": "markdown",
      "metadata": {},
      "source": [
        "# Example 8: Data Obscuring & Privacy Protection\n",
        "\n",
        "This notebook demonstrates the data obscuring and privacy protection features in dc_logger:\n",
        "\n",
        "- **Built-in Sensitive Data Sanitization** - Automatic masking of sensitive parameters\n",
        "- **Custom Sensitive Parameter Lists** - Define your own sensitive fields\n",
        "- **HTTP Details Sanitization** - Mask sensitive headers and request bodies\n",
        "- **Entity Data Protection** - Sanitize entity information\n",
        "- **Result Data Masking** - Protect sensitive data in function results\n",
        "- **Advanced Sanitization Patterns** - Regex-based and custom masking strategies\n"
      ]
    }
  ],
  "metadata": {
    "language_info": {
      "name": "python"
    }
  },
  "nbformat": 4,
  "nbformat_minor": 2
}
