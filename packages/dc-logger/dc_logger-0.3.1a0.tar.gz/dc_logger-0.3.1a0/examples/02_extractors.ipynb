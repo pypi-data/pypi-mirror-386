{
  "cells": [
    {
      "cell_type": "markdown",
      "metadata": {},
      "source": [
        "# Example 2: Extractors - Automatic Context Extraction\n",
        "\n",
        "## What You'll Learn\n",
        "\n",
        "This notebook demonstrates how extractors automatically pull context from function arguments:\n",
        "\n",
        "- **Extractor Interfaces** - Abstract base classes for extensibility\n",
        "- **Default Extractors** - Built-in extractors for common patterns\n",
        "- **Custom Extractors** - Creating domain-specific extractors\n",
        "- **ResultProcessor** - Processing function results\n",
        "- **Real-World Examples** - Practical extractor implementations\n"
      ]
    },
    {
      "cell_type": "markdown",
      "metadata": {},
      "source": [
        "## Setup - Imports\n"
      ]
    },
    {
      "cell_type": "code",
      "execution_count": 6,
      "metadata": {},
      "outputs": [
        {
          "name": "stdout",
          "output_type": "stream",
          "text": [
            "All imports successful!\n"
          ]
        }
      ],
      "source": [
        "from dc_logger.client.Log import LogEntity, HTTPDetails, MultiTenant\n",
        "from dc_logger.client.extractors import (\n",
        "    EntityExtractor,\n",
        "    HTTPDetailsExtractor,\n",
        "    MultiTenantExtractor,\n",
        "    ResultProcessor,\n",
        "    KwargsEntityExtractor,\n",
        "    KwargsHTTPDetailsExtractor,\n",
        "    KwargsMultiTenantExtractor,\n",
        "    DefaultResultProcessor\n",
        ")\n",
        "\n",
        "print(\"All imports successful!\")\n"
      ]
    },
    {
      "cell_type": "markdown",
      "metadata": {},
      "source": [
        "---\n",
        "## Part 1: Understanding Extractor Interfaces\n",
        "\n",
        "Extractors follow the **Interface Segregation Principle** - each has a single, focused responsibility.\n"
      ]
    },
    {
      "cell_type": "code",
      "execution_count": 7,
      "metadata": {},
      "outputs": [
        {
          "name": "stdout",
          "output_type": "stream",
          "text": [
            "======================================================================\n",
            "Extractor Interfaces\n",
            "======================================================================\n",
            "\n",
            "1. EntityExtractor\n",
            "   Purpose: Extract entity information (datasets, users, resources)\n",
            "   Method: extract(func, args, kwargs) -> Optional[LogEntity]\n",
            "\n",
            "2. HTTPDetailsExtractor\n",
            "   Purpose: Extract HTTP request/response details\n",
            "   Method: extract(func, args, kwargs) -> Optional[HTTPDetails]\n",
            "\n",
            "3. MultiTenantExtractor\n",
            "   Purpose: Extract multi-tenant and session information\n",
            "   Method: extract(func, args, kwargs) -> Optional[MultiTenant]\n",
            "\n",
            "4. ResultProcessor\n",
            "   Purpose: Process function results and update context\n",
            "   Method: process(result, http_details) -> (dict, HTTPDetails)\n"
          ]
        }
      ],
      "source": [
        "print(\"=\" * 70)\n",
        "print(\"Extractor Interfaces\")\n",
        "print(\"=\" * 70)\n",
        "\n",
        "print(\"\\n1. EntityExtractor\")\n",
        "print(\"   Purpose: Extract entity information (datasets, users, resources)\")\n",
        "print(\"   Method: extract(func, args, kwargs) -> Optional[LogEntity]\")\n",
        "\n",
        "print(\"\\n2. HTTPDetailsExtractor\")\n",
        "print(\"   Purpose: Extract HTTP request/response details\")\n",
        "print(\"   Method: extract(func, args, kwargs) -> Optional[HTTPDetails]\")\n",
        "\n",
        "print(\"\\n3. MultiTenantExtractor\")\n",
        "print(\"   Purpose: Extract multi-tenant and session information\")\n",
        "print(\"   Method: extract(func, args, kwargs) -> Optional[MultiTenant]\")\n",
        "\n",
        "print(\"\\n4. ResultProcessor\")\n",
        "print(\"   Purpose: Process function results and update context\")\n",
        "print(\"   Method: process(result, http_details) -> (dict, HTTPDetails)\")\n"
      ]
    },
    {
      "cell_type": "markdown",
      "metadata": {},
      "source": [
        "---\n",
        "## Part 2: KwargsEntityExtractor - Default Entity Extraction\n"
      ]
    },
    {
      "cell_type": "code",
      "execution_count": 8,
      "metadata": {},
      "outputs": [
        {
          "name": "stdout",
          "output_type": "stream",
          "text": [
            "======================================================================\n",
            "KwargsEntityExtractor - Extracting from kwargs\n",
            "======================================================================\n",
            "\n",
            "Example 1: Entity from dict\n",
            "  Type: dataset\n",
            "  ID: ds_123\n",
            "  Name: Sales Data\n",
            "\n",
            "Example 2: No entity found\n",
            "  Result: None\n",
            "\n",
            "Example 3: Custom kwarg name ('resource')\n",
            "  Type: file\n",
            "  ID: file_456\n"
          ]
        }
      ],
      "source": [
        "print(\"=\" * 70)\n",
        "print(\"KwargsEntityExtractor - Extracting from kwargs\")\n",
        "print(\"=\" * 70)\n",
        "\n",
        "# Create the extractor\n",
        "entity_extractor = KwargsEntityExtractor(kwarg_name=\"entity\")\n",
        "\n",
        "# Simulate function call\n",
        "def dummy_function():\n",
        "    pass\n",
        "\n",
        "# Example 1: Entity as dict\n",
        "kwargs1 = {\n",
        "    \"entity\": {\"type\": \"dataset\", \"id\": \"ds_123\", \"name\": \"Sales Data\"}\n",
        "}\n",
        "entity1 = entity_extractor.extract(dummy_function, (), kwargs1)\n",
        "\n",
        "print(\"\\nExample 1: Entity from dict\")\n",
        "print(f\"  Type: {entity1.type}\")\n",
        "print(f\"  ID: {entity1.id}\")\n",
        "print(f\"  Name: {entity1.name}\")\n",
        "\n",
        "# Example 2: No entity in kwargs\n",
        "kwargs2 = {\"other_param\": \"value\"}\n",
        "entity2 = entity_extractor.extract(dummy_function, (), kwargs2)\n",
        "\n",
        "print(\"\\nExample 2: No entity found\")\n",
        "print(f\"  Result: {entity2}\")\n",
        "\n",
        "# Example 3: Custom kwarg name\n",
        "custom_extractor = KwargsEntityExtractor(kwarg_name=\"resource\")\n",
        "kwargs3 = {\"resource\": {\"type\": \"file\", \"id\": \"file_456\"}}\n",
        "entity3 = custom_extractor.extract(dummy_function, (), kwargs3)\n",
        "\n",
        "print(\"\\nExample 3: Custom kwarg name ('resource')\")\n",
        "print(f\"  Type: {entity3.type}\")\n",
        "print(f\"  ID: {entity3.id}\")\n"
      ]
    },
    {
      "cell_type": "markdown",
      "metadata": {},
      "source": [
        "---\n",
        "## Part 3: KwargsHTTPDetailsExtractor - HTTP Information\n"
      ]
    },
    {
      "cell_type": "code",
      "execution_count": 9,
      "metadata": {},
      "outputs": [
        {
          "name": "stdout",
          "output_type": "stream",
          "text": [
            "======================================================================\n",
            "KwargsHTTPDetailsExtractor - Extracting HTTP Details\n",
            "======================================================================\n",
            "\n",
            "Example 1: From individual kwargs\n",
            "  Method: POST\n",
            "  URL: https://api.example.com/orders\n",
            "  Headers: {'Content-Type': 'application/json'}\n",
            "  Params: {'expand': 'items'}\n",
            "\n",
            "Example 2: From HTTPDetails object\n",
            "  Method: GET\n",
            "  URL: https://api.example.com/users/123\n",
            "  Status: 200\n",
            "\n",
            "Example 3: From dict\n",
            "  Method: DELETE\n",
            "  URL: /api/items/789\n"
          ]
        }
      ],
      "source": [
        "print(\"=\" * 70)\n",
        "print(\"KwargsHTTPDetailsExtractor - Extracting HTTP Details\")\n",
        "print(\"=\" * 70)\n",
        "\n",
        "http_extractor = KwargsHTTPDetailsExtractor()\n",
        "\n",
        "# Example 1: From individual kwargs\n",
        "kwargs1 = {\n",
        "    \"method\": \"POST\",\n",
        "    \"url\": \"https://api.example.com/orders\",\n",
        "    \"headers\": {\"Content-Type\": \"application/json\"},\n",
        "    \"params\": {\"expand\": \"items\"}\n",
        "}\n",
        "http1 = http_extractor.extract(dummy_function, (), kwargs1)\n",
        "\n",
        "print(\"\\nExample 1: From individual kwargs\")\n",
        "print(f\"  Method: {http1.method}\")\n",
        "print(f\"  URL: {http1.url}\")\n",
        "print(f\"  Headers: {http1.headers}\")\n",
        "print(f\"  Params: {http1.params}\")\n",
        "\n",
        "# Example 2: From HTTPDetails object\n",
        "kwargs2 = {\n",
        "    \"http_details\": HTTPDetails(\n",
        "        method=\"GET\",\n",
        "        url=\"https://api.example.com/users/123\",\n",
        "        status_code=200\n",
        "    )\n",
        "}\n",
        "http2 = http_extractor.extract(dummy_function, (), kwargs2)\n",
        "\n",
        "print(\"\\nExample 2: From HTTPDetails object\")\n",
        "print(f\"  Method: {http2.method}\")\n",
        "print(f\"  URL: {http2.url}\")\n",
        "print(f\"  Status: {http2.status_code}\")\n",
        "\n",
        "# Example 3: From dict\n",
        "kwargs3 = {\n",
        "    \"http_details\": {\n",
        "        \"method\": \"DELETE\",\n",
        "        \"url\": \"/api/items/789\"\n",
        "    }\n",
        "}\n",
        "http3 = http_extractor.extract(dummy_function, (), kwargs3)\n",
        "\n",
        "print(\"\\nExample 3: From dict\")\n",
        "print(f\"  Method: {http3.method}\")\n",
        "print(f\"  URL: {http3.url}\")\n"
      ]
    },
    {
      "cell_type": "markdown",
      "metadata": {},
      "source": [
        "---\n",
        "## Part 4: Custom Entity Extractor for E-Commerce\n",
        "\n",
        "Create extractors tailored to your domain.\n"
      ]
    },
    {
      "cell_type": "code",
      "execution_count": 10,
      "metadata": {},
      "outputs": [
        {
          "name": "stdout",
          "output_type": "stream",
          "text": [
            "======================================================================\n",
            "Custom EntityExtractor - E-Commerce Example\n",
            "======================================================================\n",
            "\n",
            "Example 1: Order Entity\n",
            "  Type: order\n",
            "  ID: ORD_2024_123\n",
            "  Name: Order ORD_2024_123\n",
            "  Total: $299.99\n",
            "  Items: 3\n",
            "\n",
            "Example 2: Product Entity\n",
            "  Type: product\n",
            "  ID: PROD_WIDGET_001\n",
            "  Name: Super Widget Pro\n"
          ]
        }
      ],
      "source": [
        "print(\"=\" * 70)\n",
        "print(\"Custom EntityExtractor - E-Commerce Example\")\n",
        "print(\"=\" * 70)\n",
        "\n",
        "# Custom extractor for e-commerce orders\n",
        "class OrderEntityExtractor(EntityExtractor):\n",
        "    \"\"\"Extract order entities from function arguments.\"\"\"\n",
        "    \n",
        "    def extract(self, func, args, kwargs):\n",
        "        # Check for order_id\n",
        "        if \"order_id\" in kwargs:\n",
        "            return LogEntity(\n",
        "                type=\"order\",\n",
        "                id=kwargs[\"order_id\"],\n",
        "                name=f\"Order {kwargs['order_id']}\",\n",
        "                additional_info={\n",
        "                    \"total\": kwargs.get(\"total\"),\n",
        "                    \"items_count\": kwargs.get(\"items_count\")\n",
        "                }\n",
        "            )\n",
        "        # Check for product_id\n",
        "        elif \"product_id\" in kwargs:\n",
        "            return LogEntity(\n",
        "                type=\"product\",\n",
        "                id=kwargs[\"product_id\"],\n",
        "                name=kwargs.get(\"product_name\", \"Unknown Product\")\n",
        "            )\n",
        "        \n",
        "        return None\n",
        "\n",
        "# Use the custom extractor\n",
        "order_extractor = OrderEntityExtractor()\n",
        "\n",
        "# Example 1: Extract order\n",
        "order_kwargs = {\n",
        "    \"order_id\": \"ORD_2024_123\",\n",
        "    \"total\": 299.99,\n",
        "    \"items_count\": 3\n",
        "}\n",
        "order_entity = order_extractor.extract(dummy_function, (), order_kwargs)\n",
        "\n",
        "print(\"\\nExample 1: Order Entity\")\n",
        "print(f\"  Type: {order_entity.type}\")\n",
        "print(f\"  ID: {order_entity.id}\")\n",
        "print(f\"  Name: {order_entity.name}\")\n",
        "print(f\"  Total: ${order_entity.additional_info['total']}\")\n",
        "print(f\"  Items: {order_entity.additional_info['items_count']}\")\n",
        "\n",
        "# Example 2: Extract product\n",
        "product_kwargs = {\n",
        "    \"product_id\": \"PROD_WIDGET_001\",\n",
        "    \"product_name\": \"Super Widget Pro\"\n",
        "}\n",
        "product_entity = order_extractor.extract(dummy_function, (), product_kwargs)\n",
        "\n",
        "print(\"\\nExample 2: Product Entity\")\n",
        "print(f\"  Type: {product_entity.type}\")\n",
        "print(f\"  ID: {product_entity.id}\")\n",
        "print(f\"  Name: {product_entity.name}\")\n"
      ]
    },
    {
      "cell_type": "markdown",
      "metadata": {},
      "source": [
        "---\n",
        "## Summary\n",
        "\n",
        "\n",
        "1. **Extractor Interfaces** - Abstract base classes for extensibility\n",
        "2. **KwargsEntityExtractor** - Extract entities from kwargs\n",
        "3. **KwargsHTTPDetailsExtractor** - Extract HTTP details from multiple sources\n",
        "4. **KwargsMultiTenantExtractor** - Extract multi-tenant context\n",
        "5. **DefaultResultProcessor** - Process function results\n",
        "6. **Custom Extractors** - Domain-specific implementations\n",
        "\n",
        "### Key Takeaways\n",
        "\n",
        "- Extractors follow **Single Responsibility Principle**\n",
        "- Easy to create **custom extractors** for your domain\n",
        "- Extractors are **composable** - mix default and custom\n",
        "- **Dependency Injection** - pass extractors to decorators/loggers\n",
        "\n"
      ]
    }
  ],
  "metadata": {
    "kernelspec": {
      "display_name": "Python 3",
      "language": "python",
      "name": "python3"
    },
    "language_info": {
      "codemirror_mode": {
        "name": "ipython",
        "version": 3
      },
      "file_extension": ".py",
      "mimetype": "text/x-python",
      "name": "python",
      "nbconvert_exporter": "python",
      "pygments_lexer": "ipython3",
      "version": "3.13.7"
    }
  },
  "nbformat": 4,
  "nbformat_minor": 2
}
