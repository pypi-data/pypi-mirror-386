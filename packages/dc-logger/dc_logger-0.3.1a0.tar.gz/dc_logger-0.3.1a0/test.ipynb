{
 "cells": [
  {
   "cell_type": "code",
   "execution_count": 1,
   "id": "5ce72d8d",
   "metadata": {},
   "outputs": [],
   "source": [
    "# %pip install domolibrary"
   ]
  },
  {
   "cell_type": "code",
   "execution_count": null,
   "id": "e022c502",
   "metadata": {},
   "outputs": [
    {
     "ename": "ModuleNotFoundError",
     "evalue": "No module named 'src'",
     "output_type": "error",
     "traceback": [
      "\u001b[31m---------------------------------------------------------------------------\u001b[39m",
      "\u001b[31mModuleNotFoundError\u001b[39m                       Traceback (most recent call last)",
      "\u001b[36mCell\u001b[39m\u001b[36m \u001b[39m\u001b[32mIn[2]\u001b[39m\u001b[32m, line 1\u001b[39m\n\u001b[32m----> \u001b[39m\u001b[32m1\u001b[39m \u001b[38;5;28;01mfrom\u001b[39;00m\u001b[38;5;250m \u001b[39m\u001b[34;01msrc\u001b[39;00m\u001b[38;5;250m \u001b[39m\u001b[38;5;28;01mimport\u001b[39;00m get_logger, create_console_config, DC_Logger, log_function_call, LogLevel\n\u001b[32m      3\u001b[39m config = create_console_config(level = LogLevel.INFO)\n\u001b[32m      4\u001b[39m config\n",
      "\u001b[31mModuleNotFoundError\u001b[39m: No module named 'src'"
     ]
    }
   ],
   "source": [
    "\n",
    "from dc_logger.client import Logger\n",
    "\n",
    "\n",
    "config = create_console_config(level = LogLevel.INFO)\n",
    "config\n",
    "logger = DC_Logger(config = config , app_name= 'hello world')\n"
   ]
  },
  {
   "cell_type": "code",
   "execution_count": null,
   "id": "d785e70d",
   "metadata": {},
   "outputs": [],
   "source": [
    "logger.info('i am fish')"
   ]
  },
  {
   "cell_type": "code",
   "execution_count": null,
   "id": "61251bb1",
   "metadata": {},
   "outputs": [],
   "source": [
    "import os\n",
    "import dotenv\n",
    "import domolibrary.client.get_data as gd\n",
    "import domolibrary.client.DomoAuth as dmda\n",
    "dotenv.load_dotenv()\n",
    "\n",
    "import domolibrary.routes.auth as auth_routes\n",
    "\n",
    "gd.get_data = log_function_call( action_name = 'get_data', include_params= True, include_result= True, logger = logger )(gd.get_data)\n",
    "\n",
    "auth_routes.who_am_i = log_function_call( action_name = 'route_who_am_i', include_params= True, include_result= True, logger = logger )(auth_routes.who_am_i)\n",
    "\n",
    "dmda.DomoAuth.who_am_i = log_function_call( action_name = 'class_who_am_i', include_params= True, include_result= True, logger = logger )(dmda.DomoAuth.who_am_i)"
   ]
  },
  {
   "cell_type": "code",
   "execution_count": null,
   "id": "3d46c62d",
   "metadata": {},
   "outputs": [],
   "source": [
    "await logger.close()"
   ]
  }
 ],
 "metadata": {
  "kernelspec": {
   "display_name": "Python 3",
   "language": "python",
   "name": "python3"
  },
  "language_info": {
   "codemirror_mode": {
    "name": "ipython",
    "version": 3
   },
   "file_extension": ".py",
   "mimetype": "text/x-python",
   "name": "python",
   "nbconvert_exporter": "python",
   "pygments_lexer": "ipython3",
   "version": "3.13.8"
  }
 },
 "nbformat": 4,
 "nbformat_minor": 5
}
